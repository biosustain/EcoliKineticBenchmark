{
 "cells": [
  {
   "cell_type": "code",
   "execution_count": 1,
   "metadata": {},
   "outputs": [],
   "source": [
    "import numpy as np\n",
    "import pandas as pd\n",
    "import scipy\n",
    "import scipy.io as sio\n",
    "\n",
    "from pathlib import Path\n",
    "from matplotlib import pyplot as plt\n",
    "\n",
    "import altair as alt\n",
    "from altair.expr import datum\n",
    "\n",
    "import ipywidgets as widgets\n",
    "from ipywidgets import interact, interact_manual"
   ]
  },
  {
   "cell_type": "code",
   "execution_count": 2,
   "metadata": {},
   "outputs": [],
   "source": [
    "%load_ext watermark"
   ]
  },
  {
   "cell_type": "code",
   "execution_count": 3,
   "metadata": {},
   "outputs": [
    {
     "name": "stdout",
     "output_type": "stream",
     "text": [
      "pandas    0.23.4\n",
      "altair    2.1.0\n",
      "scipy     1.1.0\n",
      "ipywidgets7.2.1\n",
      "matplotlib3.0.1\n",
      "numpy     1.15.4\n",
      "\n"
     ]
    }
   ],
   "source": [
    "%watermark --iversions"
   ]
  },
  {
   "cell_type": "code",
   "execution_count": 4,
   "metadata": {},
   "outputs": [],
   "source": [
    "%matplotlib inline"
   ]
  },
  {
   "cell_type": "markdown",
   "metadata": {},
   "source": [
    "## Set paths "
   ]
  },
  {
   "cell_type": "code",
   "execution_count": 5,
   "metadata": {},
   "outputs": [],
   "source": [
    "data_path = Path('../data')\n",
    "path_to_results = data_path / \"simulation_results\"\n",
    "khodayari_path = path_to_results / \"Khodayari\"\n",
    "millard_path = path_to_results / \"Millard\"\n",
    "kurata_path = path_to_results / \"Kurata\"\n",
    "chassagnole_path = path_to_results / \"Chassagnole\""
   ]
  },
  {
   "cell_type": "code",
   "execution_count": 6,
   "metadata": {},
   "outputs": [],
   "source": [
    "# Load ID dataframes\n",
    "khod_idf = pd.read_csv(data_path / \"khodayari_id.csv\")\n",
    "millard_idf = pd.read_csv(data_path / \"millard_id.csv\")\n",
    "kurata_idf = pd.read_csv(data_path / \"kurata_id.csv\")\n",
    "chassagnole_idf = pd.read_csv(data_path / \"chassagnole_id.csv\")"
   ]
  },
  {
   "cell_type": "code",
   "execution_count": 7,
   "metadata": {},
   "outputs": [],
   "source": [
    "from utils import (\n",
    "    # zwf sensitivity\n",
    "    get_kurata_zwf,\n",
    "    get_khodayari_zwf,\n",
    "    get_millard_zwf,    \n",
    "    # pgi sensitivity\n",
    "    get_kurata_pgi,\n",
    "    get_khodayari_pgi,\n",
    "    get_millard_pgi,\n",
    "    # eno sensitivity\n",
    "    get_kurata_eno,\n",
    "    get_khodayari_eno,\n",
    "    get_millard_eno,\n",
    "    load_khodayari,\n",
    "    load_kurata,\n",
    "    load_millard,\n",
    "    loadmat\n",
    ")"
   ]
  },
  {
   "cell_type": "code",
   "execution_count": 8,
   "metadata": {},
   "outputs": [],
   "source": [
    "# useful metrics to compare data\n",
    "from utils import relative_error, normalized_error"
   ]
  },
  {
   "cell_type": "markdown",
   "metadata": {},
   "source": [
    "# 1. Load the simulation data"
   ]
  },
  {
   "cell_type": "code",
   "execution_count": 9,
   "metadata": {},
   "outputs": [
    {
     "name": "stdout",
     "output_type": "stream",
     "text": [
      "Loaded data file for sample dzwf which has flux matrix of (786, 9)\n",
      "Loaded data file for sample WT which has flux matrix of (786, 98)\n",
      "Loaded data file for sample zwf(15) which has flux matrix of (786, 6)\n",
      "Loaded data file for sample dpgi which has flux matrix of (786, 5)\n",
      "Loaded data file for sample pgi(0) which has flux matrix of (786, 15)\n",
      "Loaded data file for sample pgi(20) which has flux matrix of (786, 2)\n",
      "Loaded data file for sample pgi(50) which has flux matrix of (786, 2)\n",
      "Loaded data file for sample pgi(100) which has flux matrix of (786, 2)\n",
      "Loaded data file for sample WT which has flux matrix of (786, 98)\n",
      "Loaded data file for sample eno(0) which has flux matrix of (786, 13)\n",
      "Loaded data file for sample eno(50) which has flux matrix of (786, 2)\n",
      "Loaded data file for sample eno(200) which has flux matrix of (786, 2)\n",
      "Loaded data file for sample eno(500) which has flux matrix of (786, 2)\n",
      "Loaded data file for sample WT which has flux matrix of (786, 98)\n"
     ]
    }
   ],
   "source": [
    "khodayari_zwf = load_khodayari(\n",
    "    sample_names=\"all\",\n",
    "    load_path=khodayari_path / \"zwf_sensitivity\",\n",
    "    id_df=khod_idf,\n",
    "    files=get_khodayari_zwf(),\n",
    ")\n",
    "khodayari_pgi = load_khodayari(\n",
    "    sample_names=\"all\",\n",
    "    load_path=khodayari_path / \"pgi_sensitivity\",\n",
    "    id_df=khod_idf,\n",
    "    files=get_khodayari_pgi(),\n",
    ")\n",
    "khodayari_eno = load_khodayari(\n",
    "    sample_names=\"all\",\n",
    "    load_path=khodayari_path / \"eno_sensitivity\",\n",
    "    id_df=khod_idf,\n",
    "    files=get_khodayari_eno(),\n",
    ")"
   ]
  },
  {
   "cell_type": "code",
   "execution_count": 10,
   "metadata": {},
   "outputs": [
    {
     "name": "stdout",
     "output_type": "stream",
     "text": [
      "Loaded data file for sample dzwf which has flux matrix of (2101, 155)\n",
      "Loaded data file for sample WT which has flux matrix of (2101, 155)\n",
      "Loaded data file for sample zwf(15) which has flux matrix of (2101, 155)\n",
      "Loaded data file for sample dpgi which has flux matrix of (2101, 155)\n",
      "Loaded data file for sample pgi(0) which has flux matrix of (2101, 155)\n",
      "Loaded data file for sample pgi(20) which has flux matrix of (2101, 155)\n",
      "Loaded data file for sample pgi(50) which has flux matrix of (2101, 155)\n",
      "Loaded data file for sample pgi(100) which has flux matrix of (2101, 155)\n",
      "Loaded data file for sample WT which has flux matrix of (2101, 155)\n",
      "Loaded data file for sample eno(0) which has flux matrix of (2101, 155)\n",
      "Loaded data file for sample eno(50) which has flux matrix of (2101, 155)\n",
      "Loaded data file for sample eno(200) which has flux matrix of (2101, 155)\n",
      "Loaded data file for sample eno(500) which has flux matrix of (2101, 155)\n",
      "Loaded data file for sample WT which has flux matrix of (2101, 155)\n"
     ]
    }
   ],
   "source": [
    "kurata_zwf = load_kurata(\n",
    "    sample_names=\"all\",\n",
    "    load_path=kurata_path / \"zwf_sensitivity\",\n",
    "    id_df=kurata_idf,\n",
    "    files=get_kurata_zwf(),\n",
    ")\n",
    "kurata_pgi = load_kurata(\n",
    "    sample_names=\"all\",\n",
    "    load_path=kurata_path / \"pgi_sensitivity\",\n",
    "    id_df=kurata_idf,\n",
    "    files=get_kurata_pgi(),\n",
    ")\n",
    "kurata_eno = load_kurata(\n",
    "    sample_names=\"all\",\n",
    "    load_path=kurata_path / \"eno_sensitivity\",\n",
    "    id_df=kurata_idf,\n",
    "    files=get_kurata_eno(),\n",
    ")"
   ]
  },
  {
   "cell_type": "code",
   "execution_count": 11,
   "metadata": {},
   "outputs": [
    {
     "name": "stdout",
     "output_type": "stream",
     "text": [
      "Loaded data file for sample dzwf which has flux matrix of (68,)\n",
      "Loaded data file for sample WT which has flux matrix of (68,)\n",
      "Loaded data file for sample zwf(15) which has flux matrix of (68,)\n",
      "Loaded data file for sample dpgi which has flux matrix of (68,)\n",
      "Loaded data file for sample pgi(0) which has flux matrix of (68,)\n",
      "Loaded data file for sample pgi(20) which has flux matrix of (68,)\n",
      "Loaded data file for sample pgi(50) which has flux matrix of (68,)\n",
      "Loaded data file for sample pgi(100) which has flux matrix of (68,)\n",
      "Loaded data file for sample WT which has flux matrix of (68,)\n",
      "Loaded data file for sample eno(0) which has flux matrix of (68,)\n",
      "Loaded data file for sample eno(50) which has flux matrix of (68,)\n",
      "Loaded data file for sample eno(200) which has flux matrix of (68,)\n",
      "Loaded data file for sample eno(500) which has flux matrix of (68,)\n",
      "Loaded data file for sample WT which has flux matrix of (68,)\n"
     ]
    }
   ],
   "source": [
    "millard_zwf = load_millard(\n",
    "    sample_names=\"all\",\n",
    "    load_path=millard_path / \"zwf_sensitivity\",\n",
    "    id_df=millard_idf,\n",
    "    files=get_millard_zwf(),\n",
    ")\n",
    "millard_pgi = load_millard(\n",
    "    sample_names=\"all\",\n",
    "    load_path=millard_path / \"pgi_sensitivity\",\n",
    "    id_df=millard_idf,\n",
    "    files=get_millard_pgi(),\n",
    ")\n",
    "millard_eno = load_millard(\n",
    "    sample_names=\"all\",\n",
    "    load_path=millard_path / \"eno_sensitivity\",\n",
    "    id_df=millard_idf,\n",
    "    files=get_millard_eno(),\n",
    ")"
   ]
  },
  {
   "cell_type": "code",
   "execution_count": 12,
   "metadata": {},
   "outputs": [],
   "source": [
    "simulation_zwf = pd.concat(\n",
    "    [khodayari_zwf, kurata_zwf, millard_zwf], sort=False\n",
    ")\n",
    "simulation_pgi = pd.concat(\n",
    "    [khodayari_pgi, kurata_pgi, millard_pgi], sort=False\n",
    ")\n",
    "simulation_eno = pd.concat(\n",
    "    [khodayari_eno, kurata_eno, millard_eno], sort=False\n",
    ")"
   ]
  },
  {
   "cell_type": "code",
   "execution_count": 13,
   "metadata": {},
   "outputs": [
    {
     "data": {
      "text/html": [
       "<div>\n",
       "<style scoped>\n",
       "    .dataframe tbody tr th:only-of-type {\n",
       "        vertical-align: middle;\n",
       "    }\n",
       "\n",
       "    .dataframe tbody tr th {\n",
       "        vertical-align: top;\n",
       "    }\n",
       "\n",
       "    .dataframe thead th {\n",
       "        text-align: right;\n",
       "    }\n",
       "</style>\n",
       "<table border=\"1\" class=\"dataframe\">\n",
       "  <thead>\n",
       "    <tr style=\"text-align: right;\">\n",
       "      <th></th>\n",
       "      <th>flux</th>\n",
       "      <th>ID</th>\n",
       "      <th>BiGG_ID</th>\n",
       "      <th>author</th>\n",
       "      <th>sample_id</th>\n",
       "      <th>normalized_flux</th>\n",
       "    </tr>\n",
       "  </thead>\n",
       "  <tbody>\n",
       "    <tr>\n",
       "      <th>0</th>\n",
       "      <td>-0.020954</td>\n",
       "      <td>ACALD</td>\n",
       "      <td>ACALD</td>\n",
       "      <td>Khodayari</td>\n",
       "      <td>dzwf</td>\n",
       "      <td>-0.472740</td>\n",
       "    </tr>\n",
       "    <tr>\n",
       "      <th>1</th>\n",
       "      <td>-0.004096</td>\n",
       "      <td>ACALDtpp_ex</td>\n",
       "      <td>composed of ACALDtex and ACALDtpp</td>\n",
       "      <td>Khodayari</td>\n",
       "      <td>dzwf</td>\n",
       "      <td>-0.092400</td>\n",
       "    </tr>\n",
       "    <tr>\n",
       "      <th>2</th>\n",
       "      <td>-0.009307</td>\n",
       "      <td>ACKr</td>\n",
       "      <td>ACKr</td>\n",
       "      <td>Khodayari</td>\n",
       "      <td>dzwf</td>\n",
       "      <td>-0.209985</td>\n",
       "    </tr>\n",
       "    <tr>\n",
       "      <th>3</th>\n",
       "      <td>4.326233</td>\n",
       "      <td>ACONTa</td>\n",
       "      <td>ACONTa</td>\n",
       "      <td>Khodayari</td>\n",
       "      <td>dzwf</td>\n",
       "      <td>97.604637</td>\n",
       "    </tr>\n",
       "    <tr>\n",
       "      <th>4</th>\n",
       "      <td>4.441212</td>\n",
       "      <td>ACONTb</td>\n",
       "      <td>ACONTb</td>\n",
       "      <td>Khodayari</td>\n",
       "      <td>dzwf</td>\n",
       "      <td>100.198682</td>\n",
       "    </tr>\n",
       "  </tbody>\n",
       "</table>\n",
       "</div>"
      ],
      "text/plain": [
       "       flux           ID                            BiGG_ID     author  \\\n",
       "0 -0.020954        ACALD                              ACALD  Khodayari   \n",
       "1 -0.004096  ACALDtpp_ex  composed of ACALDtex and ACALDtpp  Khodayari   \n",
       "2 -0.009307         ACKr                               ACKr  Khodayari   \n",
       "3  4.326233       ACONTa                             ACONTa  Khodayari   \n",
       "4  4.441212       ACONTb                             ACONTb  Khodayari   \n",
       "\n",
       "  sample_id  normalized_flux  \n",
       "0      dzwf        -0.472740  \n",
       "1      dzwf        -0.092400  \n",
       "2      dzwf        -0.209985  \n",
       "3      dzwf        97.604637  \n",
       "4      dzwf       100.198682  "
      ]
     },
     "execution_count": 13,
     "metadata": {},
     "output_type": "execute_result"
    }
   ],
   "source": [
    "simulation_zwf.head()"
   ]
  },
  {
   "cell_type": "markdown",
   "metadata": {},
   "source": [
    "# 2. Load experimental data and mix it with simulation data"
   ]
  },
  {
   "cell_type": "code",
   "execution_count": 14,
   "metadata": {},
   "outputs": [],
   "source": [
    "nicolas_df = pd.read_csv('../data/datasets/nicolas2007_tidy.csv')"
   ]
  },
  {
   "cell_type": "code",
   "execution_count": 15,
   "metadata": {},
   "outputs": [],
   "source": [
    "df = nicolas_df\n",
    "\n",
    "df = df.assign(author=\"Nicolas\")\n",
    "df = df.rename(\n",
    "    {\n",
    "        \"Measurement_ID\": \"BiGG_ID\",\n",
    "        \"Original_Value\": \"normalized_flux\",\n",
    "        \"Value\": \"flux\",\n",
    "        \"Original_ID\": \"ID\",\n",
    "        \"Genotype\": \"sample_id\",\n",
    "    },\n",
    "    axis=1,\n",
    ")\n",
    "df = df[df[\"Measurement_Type\"] == \"flux\"]\n",
    "\n",
    "df = df[[\"flux\", \"ID\", \"BiGG_ID\", \"author\", \"sample_id\", \"normalized_flux\"]]\n",
    "exp_results_zwf = df"
   ]
  },
  {
   "cell_type": "code",
   "execution_count": 16,
   "metadata": {},
   "outputs": [
    {
     "data": {
      "text/html": [
       "<div>\n",
       "<style scoped>\n",
       "    .dataframe tbody tr th:only-of-type {\n",
       "        vertical-align: middle;\n",
       "    }\n",
       "\n",
       "    .dataframe tbody tr th {\n",
       "        vertical-align: top;\n",
       "    }\n",
       "\n",
       "    .dataframe thead th {\n",
       "        text-align: right;\n",
       "    }\n",
       "</style>\n",
       "<table border=\"1\" class=\"dataframe\">\n",
       "  <thead>\n",
       "    <tr style=\"text-align: right;\">\n",
       "      <th></th>\n",
       "      <th>flux</th>\n",
       "      <th>ID</th>\n",
       "      <th>BiGG_ID</th>\n",
       "      <th>author</th>\n",
       "      <th>sample_id</th>\n",
       "      <th>normalized_flux</th>\n",
       "    </tr>\n",
       "  </thead>\n",
       "  <tbody>\n",
       "    <tr>\n",
       "      <th>6</th>\n",
       "      <td>7.71000</td>\n",
       "      <td>pts</td>\n",
       "      <td>GLCptspp</td>\n",
       "      <td>Nicolas</td>\n",
       "      <td>dzwf</td>\n",
       "      <td>100.0</td>\n",
       "    </tr>\n",
       "    <tr>\n",
       "      <th>7</th>\n",
       "      <td>7.15000</td>\n",
       "      <td>pts</td>\n",
       "      <td>GLCptspp</td>\n",
       "      <td>Nicolas</td>\n",
       "      <td>WT</td>\n",
       "      <td>100.0</td>\n",
       "    </tr>\n",
       "    <tr>\n",
       "      <th>8</th>\n",
       "      <td>7.32000</td>\n",
       "      <td>pts</td>\n",
       "      <td>GLCptspp</td>\n",
       "      <td>Nicolas</td>\n",
       "      <td>zwf(15)</td>\n",
       "      <td>100.0</td>\n",
       "    </tr>\n",
       "    <tr>\n",
       "      <th>9</th>\n",
       "      <td>7.59435</td>\n",
       "      <td>pgi</td>\n",
       "      <td>PGI</td>\n",
       "      <td>Nicolas</td>\n",
       "      <td>dzwf</td>\n",
       "      <td>98.5</td>\n",
       "    </tr>\n",
       "    <tr>\n",
       "      <th>10</th>\n",
       "      <td>5.60560</td>\n",
       "      <td>pgi</td>\n",
       "      <td>PGI</td>\n",
       "      <td>Nicolas</td>\n",
       "      <td>WT</td>\n",
       "      <td>78.4</td>\n",
       "    </tr>\n",
       "  </tbody>\n",
       "</table>\n",
       "</div>"
      ],
      "text/plain": [
       "       flux   ID   BiGG_ID   author sample_id  normalized_flux\n",
       "6   7.71000  pts  GLCptspp  Nicolas      dzwf            100.0\n",
       "7   7.15000  pts  GLCptspp  Nicolas        WT            100.0\n",
       "8   7.32000  pts  GLCptspp  Nicolas   zwf(15)            100.0\n",
       "9   7.59435  pgi       PGI  Nicolas      dzwf             98.5\n",
       "10  5.60560  pgi       PGI  Nicolas        WT             78.4"
      ]
     },
     "execution_count": 16,
     "metadata": {},
     "output_type": "execute_result"
    }
   ],
   "source": [
    "exp_results_zwf.head()"
   ]
  },
  {
   "cell_type": "code",
   "execution_count": 17,
   "metadata": {},
   "outputs": [],
   "source": [
    "all_results_zwf = pd.concat([simulation_zwf, exp_results_zwf], sort=False)"
   ]
  },
  {
   "cell_type": "code",
   "execution_count": 18,
   "metadata": {},
   "outputs": [
    {
     "data": {
      "text/plain": [
       "Khodayari    1371\n",
       "Kurata        477\n",
       "Millard       204\n",
       "Nicolas        60\n",
       "Name: author, dtype: int64"
      ]
     },
     "execution_count": 18,
     "metadata": {},
     "output_type": "execute_result"
    }
   ],
   "source": [
    "all_results_zwf.author.value_counts()"
   ]
  },
  {
   "cell_type": "code",
   "execution_count": 19,
   "metadata": {},
   "outputs": [],
   "source": [
    "usui_df = pd.read_csv('../data/datasets/usui2012_tidy.csv')"
   ]
  },
  {
   "cell_type": "code",
   "execution_count": 20,
   "metadata": {},
   "outputs": [],
   "source": [
    "df = usui_df\n",
    "\n",
    "df = df.assign(author=\"Usui\")\n",
    "df = df.rename(\n",
    "    {\n",
    "        \"Measurement_ID\": \"BiGG_ID\",\n",
    "        \"Original_Value\": \"normalized_flux\",\n",
    "        \"Value\": \"flux\",\n",
    "        \"Original_ID\": \"ID\",\n",
    "        \"Genotype\": \"sample_id\",\n",
    "    },\n",
    "    axis=1,\n",
    ")\n",
    "df = df[df[\"Measurement_Type\"] == \"flux\"]\n",
    "\n",
    "df = df[[\"flux\", \"ID\", \"BiGG_ID\", \"author\", \"sample_id\", \"normalized_flux\"]]\n",
    "exp_results_pgi = df\n",
    "exp_results_eno = df"
   ]
  },
  {
   "cell_type": "code",
   "execution_count": 21,
   "metadata": {},
   "outputs": [],
   "source": [
    "all_results_pgi = pd.concat([simulation_pgi, exp_results_pgi], sort=False)"
   ]
  },
  {
   "cell_type": "code",
   "execution_count": 22,
   "metadata": {},
   "outputs": [],
   "source": [
    "all_results_eno = pd.concat([simulation_eno, exp_results_eno], sort=False)"
   ]
  },
  {
   "cell_type": "markdown",
   "metadata": {},
   "source": [
    "# 3. Subselect specific data and calculate error metrics"
   ]
  },
  {
   "cell_type": "code",
   "execution_count": 23,
   "metadata": {},
   "outputs": [],
   "source": [
    "common_fluxes = set(khod_idf[\"BiGG ID\"].unique()).intersection(\n",
    "    set(millard_idf[\"BiGG ID\"].unique()),\n",
    "    set(kurata_idf[\"BiGG ID\"].unique()),\n",
    "   # set(chassagnole_idf[\"BiGG ID\"].unique()), Chassagnole model does not contain TCA, that limits other models very significantly\n",
    ")"
   ]
  },
  {
   "cell_type": "code",
   "execution_count": 24,
   "metadata": {},
   "outputs": [],
   "source": [
    "common_fluxes = {x for x in common_fluxes if pd.notna(x)}\n",
    "#common_fluxes"
   ]
  },
  {
   "cell_type": "code",
   "execution_count": 25,
   "metadata": {},
   "outputs": [],
   "source": [
    "# common_fluxes = common_fluxes.intersection(set(exp_results.BiGG_ID.unique()))\n",
    "# common_fluxes\n",
    "common_fluxes = common_fluxes.intersection(\n",
    "    set(exp_results_zwf.BiGG_ID.unique()),\n",
    "    set(exp_results_pgi.BiGG_ID.unique()),\n",
    ")"
   ]
  },
  {
   "cell_type": "markdown",
   "metadata": {},
   "source": [
    "### ZWF experiment"
   ]
  },
  {
   "cell_type": "code",
   "execution_count": 26,
   "metadata": {},
   "outputs": [],
   "source": [
    "# selected_reactions = [\n",
    "#     \"GLCptspp\",\n",
    "#     \"PGI\",\n",
    "#     \"G6PDH2r\",\n",
    "#     \"GND\",\n",
    "#     \"PYK\",\n",
    "#     \"PPC\",\n",
    "#     \"FUM\",\n",
    "#     \"MDH\",\n",
    "#     \"PDH\",\n",
    "#     #    \"PTAr\",\n",
    "# ]\n",
    "\n",
    "selected_reactions = [x for x in common_fluxes if pd.notna(x)]\n",
    "\n",
    "selected_strains = [\"dzwf\", \"zwf(15)\", \"WT\"]\n",
    "selected_authors = [\"Khodayari\", \"Millard\", \"Kurata\", \"Nicolas\"]\n",
    "experimental_dataset = \"Nicolas\"\n",
    "\n",
    "# select the right data and find median flux if there are several fluxes which are mapped to one BiGG ID\n",
    "selected_data_zwf = (\n",
    "    all_results_zwf[\n",
    "        (all_results_zwf[\"BiGG_ID\"].isin(selected_reactions))\n",
    "        & (all_results_zwf[\"sample_id\"].isin(selected_strains))\n",
    "        & (all_results_zwf[\"author\"].isin(selected_authors))\n",
    "    ]\n",
    "    .groupby([\"BiGG_ID\", \"sample_id\", \"author\"])\n",
    "    .median()\n",
    "    .reset_index()\n",
    ")\n",
    "\n",
    "# Calculate relative error\n",
    "selected_data_zwf = (\n",
    "    selected_data_zwf.groupby([\"BiGG_ID\", \"sample_id\"])\n",
    "    .apply(relative_error, exp_name=experimental_dataset)\n",
    "    .reset_index()\n",
    "    .drop(\"level_2\", axis=1)\n",
    ")\n",
    "# Calculate summary errors\n",
    "normalized_errors_zwf = (\n",
    "    selected_data_zwf.groupby([\"sample_id\"])\n",
    "    .apply(normalized_error, exp_name=experimental_dataset)\n",
    "    .unstack()\n",
    "    .reset_index()\n",
    "    .rename({0: \"normalized_error\"}, axis=1)\n",
    ")"
   ]
  },
  {
   "cell_type": "markdown",
   "metadata": {},
   "source": [
    "### PGI experiment"
   ]
  },
  {
   "cell_type": "code",
   "execution_count": 27,
   "metadata": {},
   "outputs": [],
   "source": [
    "# selected_reactions = [\n",
    "#     \"GLCptspp\",\n",
    "#     \"PGI\",\n",
    "#     \"G6PDH2r\",\n",
    "#     \"GND\",\n",
    "#     \"PYK\",\n",
    "#     \"PPC\",\n",
    "#     \"FUM\",\n",
    "#     \"MDH\",\n",
    "#     \"PDH\",\n",
    "#     #    \"PTAr\",\n",
    "# ]\n",
    "\n",
    "selected_reactions = [x for x in common_fluxes if pd.notna(x)]\n",
    "\n",
    "selected_strains = [\"dpgi\", \"pgi(0)\", \"pgi(20)\", \"pgi(50)\", \"pgi(100)\", \"WT\"]\n",
    "selected_authors = [\"Khodayari\", \"Millard\", \"Kurata\", \"Usui\"]\n",
    "experimental_dataset = \"Usui\"\n",
    "\n",
    "# select the right data and find median flux if there are several fluxes which are mapped to one BiGG ID\n",
    "selected_data_pgi = (\n",
    "    all_results_pgi[\n",
    "        (all_results_pgi[\"BiGG_ID\"].isin(selected_reactions))\n",
    "        & (all_results_pgi[\"sample_id\"].isin(selected_strains))\n",
    "        & (all_results_pgi[\"author\"].isin(selected_authors))\n",
    "    ]\n",
    "    .groupby([\"BiGG_ID\", \"sample_id\", \"author\"])\n",
    "    .median()\n",
    "    .reset_index()\n",
    ")\n",
    "\n",
    "# For error calculation find only such values that are present in experimental dataset\n",
    "flux_select = selected_data_pgi.groupby(\"BiGG_ID\").apply(\n",
    "    lambda x: any(x.author.str.contains(experimental_dataset))\n",
    ").reset_index()\n",
    "flux_ids = flux_select.loc[flux_select[0], \"BiGG_ID\"]\n",
    "selected_data_pgi = selected_data_pgi[selected_data_pgi[\"BiGG_ID\"].isin(flux_ids)]\n",
    "\n",
    "\n",
    "# Calculate relative error\n",
    "selected_data_pgi = (\n",
    "    selected_data_pgi.groupby([\"BiGG_ID\", \"sample_id\"])\n",
    "    .apply(relative_error, exp_name=experimental_dataset)\n",
    "    .reset_index()\n",
    "    .drop(\"level_2\", axis=1)\n",
    ")\n",
    "# Calculate summary errors\n",
    "normalized_errors_pgi = (\n",
    "    selected_data_pgi.groupby([\"sample_id\"])\n",
    "    .apply(normalized_error, exp_name=experimental_dataset)\n",
    "    .unstack()\n",
    "    .reset_index()\n",
    "    .rename({0: \"normalized_error\"}, axis=1)\n",
    ")"
   ]
  },
  {
   "cell_type": "markdown",
   "metadata": {},
   "source": [
    "### ENO experiment"
   ]
  },
  {
   "cell_type": "code",
   "execution_count": 28,
   "metadata": {},
   "outputs": [],
   "source": [
    "# selected_reactions = [\n",
    "#     \"GLCptspp\",\n",
    "#     \"PGI\",\n",
    "#     \"G6PDH2r\",\n",
    "#     \"GND\",\n",
    "#     \"PYK\",\n",
    "#     \"PPC\",\n",
    "#     \"FUM\",\n",
    "#     \"MDH\",\n",
    "#     \"PDH\",\n",
    "#     #    \"PTAr\",\n",
    "# ]\n",
    "\n",
    "selected_reactions = [x for x in common_fluxes if pd.notna(x)]\n",
    "\n",
    "selected_strains = [\"eno(50)\", \"eno(200)\", \"eno(500)\", \"WT\"]\n",
    "selected_authors = [\"Khodayari\", \"Millard\", \"Kurata\", \"Usui\"]\n",
    "experimental_dataset = \"Usui\"\n",
    "\n",
    "# select the right data and find median flux if there are several fluxes which are mapped to one BiGG ID\n",
    "selected_data_eno = (\n",
    "    all_results_eno[\n",
    "        (all_results_eno[\"BiGG_ID\"].isin(selected_reactions))\n",
    "        & (all_results_eno[\"sample_id\"].isin(selected_strains))\n",
    "        & (all_results_eno[\"author\"].isin(selected_authors))\n",
    "    ]\n",
    "    .groupby([\"BiGG_ID\", \"sample_id\", \"author\"])\n",
    "    .median()\n",
    "    .reset_index()\n",
    ")\n",
    "\n",
    "# For error calculation find only such values that are present in experimental dataset\n",
    "flux_select = selected_data_eno.groupby([\"BiGG_ID\", \"sample_id\"]).apply(\n",
    "    lambda x: any(x.author.str.contains(experimental_dataset))\n",
    ").reset_index()\n",
    "flux_ids = flux_select.loc[flux_select[0], \"BiGG_ID\"]\n",
    "selected_data_eno = selected_data_eno[selected_data_eno[\"BiGG_ID\"].isin(flux_ids)]\n",
    "\n",
    "# Calculate relative error\n",
    "selected_data_eno = (\n",
    "    selected_data_eno.groupby([\"BiGG_ID\", \"sample_id\"])\n",
    "    .apply(relative_error, exp_name=experimental_dataset)\n",
    "    .reset_index()\n",
    "    .drop(\"level_2\", axis=1)\n",
    ")\n",
    "# Calculate summary errors\n",
    "normalized_errors_eno = (\n",
    "    selected_data_eno.groupby([\"sample_id\"])\n",
    "    .apply(normalized_error, exp_name=experimental_dataset)\n",
    "    .unstack()\n",
    "    .reset_index()\n",
    "    .rename({0: \"normalized_error\"}, axis=1)\n",
    ")"
   ]
  },
  {
   "cell_type": "code",
   "execution_count": 29,
   "metadata": {},
   "outputs": [],
   "source": [
    "normalized_errors = pd.concat([normalized_errors_zwf, normalized_errors_pgi, normalized_errors_zwf], axis = 0)\n",
    "normalized_errors = normalized_errors.query(\"author == 'Khodayari' or author == 'Kurata' or author == 'Millard' \")"
   ]
  },
  {
   "cell_type": "code",
   "execution_count": 30,
   "metadata": {},
   "outputs": [
    {
     "data": {
      "text/html": [
       "<div>\n",
       "<style scoped>\n",
       "    .dataframe tbody tr th:only-of-type {\n",
       "        vertical-align: middle;\n",
       "    }\n",
       "\n",
       "    .dataframe tbody tr th {\n",
       "        vertical-align: top;\n",
       "    }\n",
       "\n",
       "    .dataframe thead th {\n",
       "        text-align: right;\n",
       "    }\n",
       "</style>\n",
       "<table border=\"1\" class=\"dataframe\">\n",
       "  <thead>\n",
       "    <tr style=\"text-align: right;\">\n",
       "      <th></th>\n",
       "      <th>author</th>\n",
       "      <th>sample_id</th>\n",
       "      <th>normalized_error</th>\n",
       "    </tr>\n",
       "  </thead>\n",
       "  <tbody>\n",
       "    <tr>\n",
       "      <th>0</th>\n",
       "      <td>Khodayari</td>\n",
       "      <td>WT</td>\n",
       "      <td>0.684482</td>\n",
       "    </tr>\n",
       "    <tr>\n",
       "      <th>1</th>\n",
       "      <td>Khodayari</td>\n",
       "      <td>dzwf</td>\n",
       "      <td>0.809691</td>\n",
       "    </tr>\n",
       "    <tr>\n",
       "      <th>2</th>\n",
       "      <td>Khodayari</td>\n",
       "      <td>zwf(15)</td>\n",
       "      <td>1.157426</td>\n",
       "    </tr>\n",
       "    <tr>\n",
       "      <th>3</th>\n",
       "      <td>Kurata</td>\n",
       "      <td>WT</td>\n",
       "      <td>0.624711</td>\n",
       "    </tr>\n",
       "    <tr>\n",
       "      <th>4</th>\n",
       "      <td>Kurata</td>\n",
       "      <td>dzwf</td>\n",
       "      <td>0.566981</td>\n",
       "    </tr>\n",
       "  </tbody>\n",
       "</table>\n",
       "</div>"
      ],
      "text/plain": [
       "      author sample_id  normalized_error\n",
       "0  Khodayari        WT          0.684482\n",
       "1  Khodayari      dzwf          0.809691\n",
       "2  Khodayari   zwf(15)          1.157426\n",
       "3     Kurata        WT          0.624711\n",
       "4     Kurata      dzwf          0.566981"
      ]
     },
     "execution_count": 30,
     "metadata": {},
     "output_type": "execute_result"
    }
   ],
   "source": [
    "normalized_errors.head()"
   ]
  },
  {
   "cell_type": "markdown",
   "metadata": {},
   "source": [
    "# 4. Visualize"
   ]
  },
  {
   "cell_type": "code",
   "execution_count": 37,
   "metadata": {},
   "outputs": [
    {
     "data": {
      "application/vnd.vegalite.v2+json": {
       "$schema": "https://vega.github.io/schema/vega-lite/v2.4.3.json",
       "config": {
        "axis": {
         "labelFontSize": 20,
         "titleFontSize": 24
        },
        "legend": {
         "labelFontSize": 16,
         "titleFontSize": 20
        },
        "view": {
         "height": 300,
         "width": 400
        }
       },
       "height": 500,
       "layer": [
        {
         "data": {
          "values": [
           {
            "author": "Khodayari",
            "normalized_error": 0.6844819253977156,
            "sample_id": "WT"
           },
           {
            "author": "Khodayari",
            "normalized_error": 0.8096914373615677,
            "sample_id": "dzwf"
           },
           {
            "author": "Khodayari",
            "normalized_error": 1.1574260183416016,
            "sample_id": "zwf(15)"
           },
           {
            "author": "Kurata",
            "normalized_error": 0.6247105355466358,
            "sample_id": "WT"
           },
           {
            "author": "Kurata",
            "normalized_error": 0.5669806334159186,
            "sample_id": "dzwf"
           },
           {
            "author": "Kurata",
            "normalized_error": 0.8804109046666914,
            "sample_id": "zwf(15)"
           },
           {
            "author": "Millard",
            "normalized_error": 0.6154358553096497,
            "sample_id": "WT"
           },
           {
            "author": "Millard",
            "normalized_error": 0.5377750501354289,
            "sample_id": "dzwf"
           },
           {
            "author": "Millard",
            "normalized_error": 0.709409622107739,
            "sample_id": "zwf(15)"
           }
          ]
         },
         "encoding": {
          "color": {
           "field": "author",
           "sort": [
            "Khodayari",
            "Kurata",
            "Millard"
           ],
           "type": "nominal"
          },
          "tooltip": [
           {
            "field": "author",
            "type": "nominal"
           },
           {
            "field": "sample_id",
            "type": "nominal"
           },
           {
            "field": "normalized_error",
            "type": "quantitative"
           }
          ],
          "x": {
           "field": "sample_id",
           "sort": [
            "WT",
            "dzwf",
            "zwf(15)"
           ],
           "type": "nominal"
          },
          "y": {
           "field": "normalized_error",
           "title": "Normalized error",
           "type": "quantitative"
          }
         },
         "mark": {
          "size": 100,
          "type": "circle"
         },
         "title": "Normalized error, ZWF sensitivity"
        },
        {
         "data": {
          "values": [
           {
            "normalized_error": 0.641542772084667,
            "sample_id": "WT"
           },
           {
            "normalized_error": 0.6381490403043051,
            "sample_id": "dzwf"
           },
           {
            "normalized_error": 0.9157488483720106,
            "sample_id": "zwf(15)"
           }
          ]
         },
         "encoding": {
          "tooltip": [
           {
            "field": "normalized_error",
            "type": "quantitative"
           }
          ],
          "x": {
           "field": "sample_id",
           "sort": [
            "Khodayari",
            "Kurata",
            "Millard"
           ],
           "type": "nominal"
          },
          "y": {
           "field": "normalized_error",
           "type": "quantitative"
          }
         },
         "mark": {
          "size": 30,
          "type": "tick"
         }
        }
       ],
       "width": 600
      },
      "image/png": "[encoded data removed]",
      "text/plain": [
       "<VegaLite 2 object>\n",
       "\n",
       "If you see this message, it means the renderer has not been properly enabled\n",
       "for the frontend that you are using. For more information, see\n",
       "https://altair-viz.github.io/user_guide/troubleshooting.html\n"
      ]
     },
     "execution_count": 37,
     "metadata": {},
     "output_type": "execute_result"
    }
   ],
   "source": [
    "# put errors for each dataset as datapoints\n",
    "errors = alt.Chart(\n",
    "    normalized_errors_zwf.query(\"author != 'Nicolas'\"),\n",
    "    title = \"Normalized error, ZWF sensitivity\"\n",
    ").mark_circle(size = 100).encode(\n",
    "    y=alt.Y(\"normalized_error\", title = \"Normalized error\"),   \n",
    "    color=alt.Color(\"author\", sort=[\"Khodayari\", \"Kurata\", \"Millard\"]),\n",
    "    tooltip = [\"author\", \"sample_id\", \"normalized_error\"],\n",
    "    x=alt.X(\"sample_id\", sort=[\"WT\", \"dzwf\", \"zwf(15)\"]),\n",
    ")\n",
    "\n",
    "# add mean values\n",
    "mean_error = alt.Chart(\n",
    "    normalized_errors_zwf.query(\"author != 'Nicolas'\").groupby(\"sample_id\").mean().reset_index(),\n",
    ").mark_tick(size = 30).encode(\n",
    "    y=alt.Y(\"normalized_error\"),\n",
    "    x=alt.X(\"sample_id\", sort=[\"Khodayari\", \"Kurata\", \"Millard\"]),\n",
    "    tooltip = [\"normalized_error\"]\n",
    ")\n",
    "\n",
    "(errors + mean_error).properties(width=600, height = 500).configure_axis(labelFontSize = 20, titleFontSize = 24).configure_legend(labelFontSize = 16, titleFontSize = 20)\n",
    "# errors"
   ]
  },
  {
   "cell_type": "code",
   "execution_count": 38,
   "metadata": {},
   "outputs": [
    {
     "data": {
      "application/vnd.vegalite.v2+json": {
       "$schema": "https://vega.github.io/schema/vega-lite/v2.4.3.json",
       "config": {
        "axis": {
         "labelFontSize": 20,
         "titleFontSize": 24
        },
        "legend": {
         "labelFontSize": 16,
         "titleFontSize": 20
        },
        "view": {
         "height": 300,
         "width": 400
        }
       },
       "height": 500,
       "layer": [
        {
         "data": {
          "values": [
           {
            "author": "Khodayari",
            "normalized_error": 0.4947148763794273,
            "sample_id": "WT"
           },
           {
            "author": "Khodayari",
            "normalized_error": 0.43056218707348987,
            "sample_id": "dpgi"
           },
           {
            "author": "Khodayari",
            "normalized_error": 0.5444437016517736,
            "sample_id": "pgi(0)"
           },
           {
            "author": "Khodayari",
            "normalized_error": 0.5580065751390009,
            "sample_id": "pgi(100)"
           },
           {
            "author": "Khodayari",
            "normalized_error": 0.6998893750798522,
            "sample_id": "pgi(20)"
           },
           {
            "author": "Khodayari",
            "normalized_error": 0.6692461048721973,
            "sample_id": "pgi(50)"
           },
           {
            "author": "Kurata",
            "normalized_error": 0.5501061903846841,
            "sample_id": "WT"
           },
           {
            "author": "Kurata",
            "normalized_error": 0.5122640789921444,
            "sample_id": "dpgi"
           },
           {
            "author": "Kurata",
            "normalized_error": 0.706310979520501,
            "sample_id": "pgi(0)"
           },
           {
            "author": "Kurata",
            "normalized_error": 0.5711087847274211,
            "sample_id": "pgi(100)"
           },
           {
            "author": "Kurata",
            "normalized_error": 0.7110626546696998,
            "sample_id": "pgi(20)"
           },
           {
            "author": "Kurata",
            "normalized_error": 0.6729673980412544,
            "sample_id": "pgi(50)"
           },
           {
            "author": "Millard",
            "normalized_error": 0.4219354507633773,
            "sample_id": "WT"
           },
           {
            "author": "Millard",
            "normalized_error": 0.7122764056125592,
            "sample_id": "dpgi"
           },
           {
            "author": "Millard",
            "normalized_error": 0.6114915257030115,
            "sample_id": "pgi(0)"
           },
           {
            "author": "Millard",
            "normalized_error": 0.5775919228496817,
            "sample_id": "pgi(100)"
           },
           {
            "author": "Millard",
            "normalized_error": 0.6822443873292525,
            "sample_id": "pgi(20)"
           },
           {
            "author": "Millard",
            "normalized_error": 0.6586771601798291,
            "sample_id": "pgi(50)"
           }
          ]
         },
         "encoding": {
          "color": {
           "field": "author",
           "sort": [
            "Khodayari",
            "Kurata",
            "Millard"
           ],
           "type": "nominal"
          },
          "tooltip": [
           {
            "field": "author",
            "type": "nominal"
           },
           {
            "field": "sample_id",
            "type": "nominal"
           },
           {
            "field": "normalized_error",
            "type": "quantitative"
           }
          ],
          "x": {
           "field": "sample_id",
           "sort": [
            "WT",
            "dpgi",
            "pgi(0)",
            "pgi(20)",
            "pgi(50)",
            "pgi(100)"
           ],
           "type": "nominal"
          },
          "y": {
           "field": "normalized_error",
           "title": "Normalized error",
           "type": "quantitative"
          }
         },
         "mark": {
          "size": 100,
          "type": "circle"
         },
         "title": "Normalized error, PGI sensitivity"
        },
        {
         "data": {
          "values": [
           {
            "normalized_error": 0.4889188391758295,
            "sample_id": "WT"
           },
           {
            "normalized_error": 0.5517008905593979,
            "sample_id": "dpgi"
           },
           {
            "normalized_error": 0.6207487356250954,
            "sample_id": "pgi(0)"
           },
           {
            "normalized_error": 0.5689024275720346,
            "sample_id": "pgi(100)"
           },
           {
            "normalized_error": 0.6977321390262681,
            "sample_id": "pgi(20)"
           },
           {
            "normalized_error": 0.6669635543644269,
            "sample_id": "pgi(50)"
           }
          ]
         },
         "encoding": {
          "tooltip": [
           {
            "field": "normalized_error",
            "type": "quantitative"
           }
          ],
          "x": {
           "field": "sample_id",
           "sort": [
            "WT",
            "dpgi",
            "pgi(0)",
            "pgi(20)",
            "pgi(50)",
            "pgi(100)"
           ],
           "type": "nominal"
          },
          "y": {
           "field": "normalized_error",
           "type": "quantitative"
          }
         },
         "mark": {
          "size": 30,
          "type": "tick"
         }
        }
       ],
       "width": 600
      },
      "image/png": "[encoded data removed]",
      "text/plain": [
       "<VegaLite 2 object>\n",
       "\n",
       "If you see this message, it means the renderer has not been properly enabled\n",
       "for the frontend that you are using. For more information, see\n",
       "https://altair-viz.github.io/user_guide/troubleshooting.html\n"
      ]
     },
     "execution_count": 38,
     "metadata": {},
     "output_type": "execute_result"
    }
   ],
   "source": [
    "# put errors for each dataset as datapoints\n",
    "errors = alt.Chart(\n",
    "    normalized_errors_pgi.query(\"author != 'Usui'\"),\n",
    "    title = \"Normalized error, PGI sensitivity\"\n",
    ").mark_circle(size = 100).encode(\n",
    "    y=alt.Y(\"normalized_error\", title = \"Normalized error\"),   \n",
    "    color=alt.Color(\"author\", sort=[\"Khodayari\", \"Kurata\", \"Millard\"]),\n",
    "    tooltip = [\"author\", \"sample_id\", \"normalized_error\"],\n",
    "    x=alt.X(\"sample_id\", sort=[\"WT\", \"dpgi\", \"pgi(0)\", \"pgi(20)\", \"pgi(50)\", \"pgi(100)\"]),\n",
    ")\n",
    "\n",
    "# add mean values\n",
    "mean_error = alt.Chart(\n",
    "    normalized_errors_pgi.query(\"author != 'Usui'\").groupby(\"sample_id\").mean().reset_index(),\n",
    ").mark_tick(size = 30).encode(\n",
    "    y=alt.Y(\"normalized_error\"),\n",
    "    x=alt.X(\"sample_id\", sort=[\"WT\", \"dpgi\", \"pgi(0)\", \"pgi(20)\", \"pgi(50)\", \"pgi(100)\"]),\n",
    "    tooltip = [\"normalized_error\"]\n",
    ")\n",
    "\n",
    "(errors + mean_error).properties(width=600, height = 500).configure_axis(labelFontSize = 20, titleFontSize = 24).configure_legend(labelFontSize = 16, titleFontSize = 20)"
   ]
  },
  {
   "cell_type": "code",
   "execution_count": 40,
   "metadata": {},
   "outputs": [
    {
     "data": {
      "application/vnd.vegalite.v2+json": {
       "$schema": "https://vega.github.io/schema/vega-lite/v2.4.3.json",
       "config": {
        "axis": {
         "labelFontSize": 20,
         "titleFontSize": 24
        },
        "legend": {
         "labelFontSize": 16,
         "titleFontSize": 20
        },
        "view": {
         "height": 300,
         "width": 400
        }
       },
       "height": 500,
       "layer": [
        {
         "data": {
          "values": [
           {
            "author": "Khodayari",
            "normalized_error": 0.4947148763794273,
            "sample_id": "WT"
           },
           {
            "author": "Khodayari",
            "normalized_error": 0.5328948174432218,
            "sample_id": "eno(200)"
           },
           {
            "author": "Khodayari",
            "normalized_error": 0.48992534039324526,
            "sample_id": "eno(50)"
           },
           {
            "author": "Khodayari",
            "normalized_error": 0.5430349125985829,
            "sample_id": "eno(500)"
           },
           {
            "author": "Kurata",
            "normalized_error": 0.5501061903846841,
            "sample_id": "WT"
           },
           {
            "author": "Kurata",
            "normalized_error": 0.5885056420451356,
            "sample_id": "eno(200)"
           },
           {
            "author": "Kurata",
            "normalized_error": 0.5449591299876777,
            "sample_id": "eno(50)"
           },
           {
            "author": "Kurata",
            "normalized_error": 0.5949193548955353,
            "sample_id": "eno(500)"
           },
           {
            "author": "Millard",
            "normalized_error": 0.4219354507633773,
            "sample_id": "WT"
           },
           {
            "author": "Millard",
            "normalized_error": 0.45992151143881105,
            "sample_id": "eno(200)"
           },
           {
            "author": "Millard",
            "normalized_error": 0.43501155832645133,
            "sample_id": "eno(50)"
           },
           {
            "author": "Millard",
            "normalized_error": 0.4711697686926712,
            "sample_id": "eno(500)"
           }
          ]
         },
         "encoding": {
          "color": {
           "field": "author",
           "sort": [
            "Khodayari",
            "Kurata",
            "Millard"
           ],
           "type": "nominal"
          },
          "tooltip": [
           {
            "field": "author",
            "type": "nominal"
           },
           {
            "field": "sample_id",
            "type": "nominal"
           },
           {
            "field": "normalized_error",
            "type": "quantitative"
           }
          ],
          "x": {
           "field": "sample_id",
           "sort": [
            "WT",
            "eno(50)",
            "eno(200)",
            "eno(500)"
           ],
           "type": "nominal"
          },
          "y": {
           "field": "normalized_error",
           "title": "Normalized error",
           "type": "quantitative"
          }
         },
         "mark": {
          "size": 100,
          "type": "circle"
         },
         "title": "Normalized error, ENO sensitivity"
        },
        {
         "data": {
          "values": [
           {
            "normalized_error": 0.4889188391758295,
            "sample_id": "WT"
           },
           {
            "normalized_error": 0.5271073236423894,
            "sample_id": "eno(200)"
           },
           {
            "normalized_error": 0.48996534290245813,
            "sample_id": "eno(50)"
           },
           {
            "normalized_error": 0.5363746787289297,
            "sample_id": "eno(500)"
           }
          ]
         },
         "encoding": {
          "tooltip": [
           {
            "field": "normalized_error",
            "type": "quantitative"
           }
          ],
          "x": {
           "field": "sample_id",
           "sort": [
            "WT",
            "eno(50)",
            "eno(200)",
            "eno(500)"
           ],
           "type": "nominal"
          },
          "y": {
           "field": "normalized_error",
           "type": "quantitative"
          }
         },
         "mark": {
          "size": 30,
          "type": "tick"
         }
        }
       ],
       "width": 600
      },
      "image/png": "[encoded data removed]",
      "text/plain": [
       "<VegaLite 2 object>\n",
       "\n",
       "If you see this message, it means the renderer has not been properly enabled\n",
       "for the frontend that you are using. For more information, see\n",
       "https://altair-viz.github.io/user_guide/troubleshooting.html\n"
      ]
     },
     "execution_count": 40,
     "metadata": {},
     "output_type": "execute_result"
    }
   ],
   "source": [
    "# put errors for each dataset as datapoints\n",
    "errors = alt.Chart(\n",
    "    normalized_errors_eno.query(\"author != 'Usui'\"),\n",
    "    title = \"Normalized error, ENO sensitivity\"\n",
    ").mark_circle(size = 100).encode(\n",
    "    y=alt.Y(\"normalized_error\", title = \"Normalized error\"),   \n",
    "    color=alt.Color(\"author\", sort=[\"Khodayari\", \"Kurata\", \"Millard\"]),\n",
    "    tooltip = [\"author\", \"sample_id\", \"normalized_error\"],\n",
    "    x=alt.X(\"sample_id\", sort=[\"WT\", \"eno(50)\", \"eno(200)\", \"eno(500)\"]),\n",
    ")\n",
    "\n",
    "# add mean values\n",
    "mean_error = alt.Chart(\n",
    "    normalized_errors_eno.query(\"author != 'Usui'\").groupby(\"sample_id\").mean().reset_index(),\n",
    ").mark_tick(size = 30).encode(\n",
    "    y=alt.Y(\"normalized_error\"),\n",
    "    x=alt.X(\"sample_id\", sort=[\"WT\", \"eno(50)\", \"eno(200)\", \"eno(500)\"]),\n",
    "    tooltip = [\"normalized_error\"]\n",
    ")\n",
    "\n",
    "(errors + mean_error).properties(width=600, height = 500).configure_axis(labelFontSize = 20, titleFontSize = 24).configure_legend(labelFontSize = 16, titleFontSize = 20)"
   ]
  },
  {
   "cell_type": "markdown",
   "metadata": {},
   "source": [
    "### Summary normalized error for the models"
   ]
  },
  {
   "cell_type": "code",
   "execution_count": 44,
   "metadata": {},
   "outputs": [
    {
     "data": {
      "application/vnd.vegalite.v2+json": {
       "$schema": "https://vega.github.io/schema/vega-lite/v2.4.3.json",
       "config": {
        "axis": {
         "labelFontSize": 20,
         "titleFontSize": 24
        },
        "legend": {
         "labelFontSize": 16,
         "titleFontSize": 20
        },
        "view": {
         "height": 300,
         "width": 400
        }
       },
       "height": 500,
       "layer": [
        {
         "data": {
          "values": [
           {
            "author": "Khodayari",
            "normalized_error": 0.6844819253977156,
            "sample_id": "WT"
           },
           {
            "author": "Khodayari",
            "normalized_error": 0.8096914373615677,
            "sample_id": "dzwf"
           },
           {
            "author": "Khodayari",
            "normalized_error": 1.1574260183416016,
            "sample_id": "zwf(15)"
           },
           {
            "author": "Kurata",
            "normalized_error": 0.6247105355466358,
            "sample_id": "WT"
           },
           {
            "author": "Kurata",
            "normalized_error": 0.5669806334159186,
            "sample_id": "dzwf"
           },
           {
            "author": "Kurata",
            "normalized_error": 0.8804109046666914,
            "sample_id": "zwf(15)"
           },
           {
            "author": "Millard",
            "normalized_error": 0.6154358553096497,
            "sample_id": "WT"
           },
           {
            "author": "Millard",
            "normalized_error": 0.5377750501354289,
            "sample_id": "dzwf"
           },
           {
            "author": "Millard",
            "normalized_error": 0.709409622107739,
            "sample_id": "zwf(15)"
           },
           {
            "author": "Khodayari",
            "normalized_error": 0.4947148763794273,
            "sample_id": "WT"
           },
           {
            "author": "Khodayari",
            "normalized_error": 0.43056218707348987,
            "sample_id": "dpgi"
           },
           {
            "author": "Khodayari",
            "normalized_error": 0.5444437016517736,
            "sample_id": "pgi(0)"
           },
           {
            "author": "Khodayari",
            "normalized_error": 0.5580065751390009,
            "sample_id": "pgi(100)"
           },
           {
            "author": "Khodayari",
            "normalized_error": 0.6998893750798522,
            "sample_id": "pgi(20)"
           },
           {
            "author": "Khodayari",
            "normalized_error": 0.6692461048721973,
            "sample_id": "pgi(50)"
           },
           {
            "author": "Kurata",
            "normalized_error": 0.5501061903846841,
            "sample_id": "WT"
           },
           {
            "author": "Kurata",
            "normalized_error": 0.5122640789921444,
            "sample_id": "dpgi"
           },
           {
            "author": "Kurata",
            "normalized_error": 0.706310979520501,
            "sample_id": "pgi(0)"
           },
           {
            "author": "Kurata",
            "normalized_error": 0.5711087847274211,
            "sample_id": "pgi(100)"
           },
           {
            "author": "Kurata",
            "normalized_error": 0.7110626546696998,
            "sample_id": "pgi(20)"
           },
           {
            "author": "Kurata",
            "normalized_error": 0.6729673980412544,
            "sample_id": "pgi(50)"
           },
           {
            "author": "Millard",
            "normalized_error": 0.4219354507633773,
            "sample_id": "WT"
           },
           {
            "author": "Millard",
            "normalized_error": 0.7122764056125592,
            "sample_id": "dpgi"
           },
           {
            "author": "Millard",
            "normalized_error": 0.6114915257030115,
            "sample_id": "pgi(0)"
           },
           {
            "author": "Millard",
            "normalized_error": 0.5775919228496817,
            "sample_id": "pgi(100)"
           },
           {
            "author": "Millard",
            "normalized_error": 0.6822443873292525,
            "sample_id": "pgi(20)"
           },
           {
            "author": "Millard",
            "normalized_error": 0.6586771601798291,
            "sample_id": "pgi(50)"
           },
           {
            "author": "Khodayari",
            "normalized_error": 0.6844819253977156,
            "sample_id": "WT"
           },
           {
            "author": "Khodayari",
            "normalized_error": 0.8096914373615677,
            "sample_id": "dzwf"
           },
           {
            "author": "Khodayari",
            "normalized_error": 1.1574260183416016,
            "sample_id": "zwf(15)"
           },
           {
            "author": "Kurata",
            "normalized_error": 0.6247105355466358,
            "sample_id": "WT"
           },
           {
            "author": "Kurata",
            "normalized_error": 0.5669806334159186,
            "sample_id": "dzwf"
           },
           {
            "author": "Kurata",
            "normalized_error": 0.8804109046666914,
            "sample_id": "zwf(15)"
           },
           {
            "author": "Millard",
            "normalized_error": 0.6154358553096497,
            "sample_id": "WT"
           },
           {
            "author": "Millard",
            "normalized_error": 0.5377750501354289,
            "sample_id": "dzwf"
           },
           {
            "author": "Millard",
            "normalized_error": 0.709409622107739,
            "sample_id": "zwf(15)"
           }
          ]
         },
         "encoding": {
          "color": {
           "condition": {
            "field": "author",
            "selection": "selector004",
            "sort": [
             "Khodayari",
             "Kurata",
             "Millard"
            ],
            "type": "nominal"
           },
           "value": "lightgray"
          },
          "size": {
           "condition": {
            "selection": "selector004",
            "value": 100
           },
           "value": 40
          },
          "tooltip": [
           {
            "field": "author",
            "type": "nominal"
           },
           {
            "field": "sample_id",
            "type": "nominal"
           },
           {
            "field": "normalized_error",
            "type": "quantitative"
           }
          ],
          "x": {
           "field": "author",
           "sort": [
            "Khodayari",
            "Kurata",
            "Millard"
           ],
           "type": "nominal"
          },
          "y": {
           "field": "normalized_error",
           "title": "Normalized error",
           "type": "quantitative"
          }
         },
         "mark": "circle",
         "selection": {
          "selector004": {
           "empty": "all",
           "fields": [
            "sample_id"
           ],
           "on": "click",
           "resolve": "global",
           "type": "single"
          }
         },
         "title": "Normalized error knockout simulations"
        },
        {
         "data": {
          "values": [
           {
            "author": "Khodayari",
            "normalized_error": 0.7250051318664593
           },
           {
            "author": "Kurata",
            "normalized_error": 0.6556686861328497
           },
           {
            "author": "Millard",
            "normalized_error": 0.6157881589619455
           }
          ]
         },
         "encoding": {
          "tooltip": [
           {
            "field": "normalized_error",
            "type": "quantitative"
           },
           {
            "field": "author",
            "type": "nominal"
           }
          ],
          "x": {
           "field": "author",
           "sort": [
            "Khodayari",
            "Kurata",
            "Millard"
           ],
           "type": "nominal"
          },
          "y": {
           "field": "normalized_error",
           "type": "quantitative"
          }
         },
         "mark": {
          "size": 30,
          "type": "tick"
         }
        }
       ],
       "width": 600
      },
      "image/png": "[encoded data removed]",
      "text/plain": [
       "<VegaLite 2 object>\n",
       "\n",
       "If you see this message, it means the renderer has not been properly enabled\n",
       "for the frontend that you are using. For more information, see\n",
       "https://altair-viz.github.io/user_guide/troubleshooting.html\n"
      ]
     },
     "execution_count": 44,
     "metadata": {},
     "output_type": "execute_result"
    }
   ],
   "source": [
    "selector = alt.selection_single(empty=\"all\", fields=[\"sample_id\"])\n",
    "color = alt.condition(\n",
    "    selector,\n",
    "    alt.Color(\"author:N\", sort=[\"Khodayari\", \"Kurata\", \"Millard\"]),\n",
    "    alt.value(\"lightgray\"),\n",
    ")\n",
    "size = alt.condition(selector, alt.SizeValue(100), alt.SizeValue(40))\n",
    "\n",
    "# put errors for each dataset as datapoints\n",
    "errors = alt.Chart(\n",
    "    normalized_errors,\n",
    "    title = \"Normalized error knockout simulations\"\n",
    ").mark_circle().encode(\n",
    "    y=alt.Y(\"normalized_error\", title=\"Normalized error\"),    \n",
    "    color=color,\n",
    "    tooltip = [\"author\", \"sample_id\", \"normalized_error\"],\n",
    "    x=alt.X(\"author\", sort=[\"Khodayari\", \"Kurata\", \"Millard\"]),\n",
    "    size = size,\n",
    ").add_selection(selector)\n",
    "\n",
    "# add mean values\n",
    "mean_error = alt.Chart(\n",
    "    normalized_errors.groupby(\"author\").mean().reset_index(),\n",
    "    # title = \"Normalized error knockout simulations\"\n",
    ").mark_tick(size = 30).encode(\n",
    "    y=alt.Y(\"normalized_error\"),\n",
    "    #color=alt.Color(\"author\", sort=[\"Khodayari\", \"Kurata\", \"Millard\", \"COBRA\"]),\n",
    "    tooltip = [\"normalized_error\", \"author\"],\n",
    "    x=alt.X(\"author\", sort=[\"Khodayari\", \"Kurata\", \"Millard\"]),\n",
    ")\n",
    "\n",
    "(errors + mean_error).properties(width=600, height = 500).configure_axis(labelFontSize = 20, titleFontSize = 24).configure_legend(labelFontSize = 16, titleFontSize = 20)"
   ]
  },
  {
   "cell_type": "code",
   "execution_count": 35,
   "metadata": {},
   "outputs": [
    {
     "data": {
      "application/vnd.vegalite.v2+json": {
       "$schema": "https://vega.github.io/schema/vega-lite/v2.4.3.json",
       "config": {
        "view": {
         "height": 300,
         "width": 400
        }
       },
       "data": {
        "values": [
         {
          "author": "Khodayari",
          "normalized_error": 0.6844819253977156,
          "sample_id": "WT"
         },
         {
          "author": "Khodayari",
          "normalized_error": 0.8096914373615677,
          "sample_id": "dzwf"
         },
         {
          "author": "Khodayari",
          "normalized_error": 1.1574260183416016,
          "sample_id": "zwf(15)"
         },
         {
          "author": "Kurata",
          "normalized_error": 0.6247105355466358,
          "sample_id": "WT"
         },
         {
          "author": "Kurata",
          "normalized_error": 0.5669806334159186,
          "sample_id": "dzwf"
         },
         {
          "author": "Kurata",
          "normalized_error": 0.8804109046666914,
          "sample_id": "zwf(15)"
         },
         {
          "author": "Millard",
          "normalized_error": 0.6154358553096497,
          "sample_id": "WT"
         },
         {
          "author": "Millard",
          "normalized_error": 0.5377750501354289,
          "sample_id": "dzwf"
         },
         {
          "author": "Millard",
          "normalized_error": 0.709409622107739,
          "sample_id": "zwf(15)"
         },
         {
          "author": "Khodayari",
          "normalized_error": 0.4947148763794273,
          "sample_id": "WT"
         },
         {
          "author": "Khodayari",
          "normalized_error": 0.43056218707348987,
          "sample_id": "dpgi"
         },
         {
          "author": "Khodayari",
          "normalized_error": 0.5444437016517736,
          "sample_id": "pgi(0)"
         },
         {
          "author": "Khodayari",
          "normalized_error": 0.5580065751390009,
          "sample_id": "pgi(100)"
         },
         {
          "author": "Khodayari",
          "normalized_error": 0.6998893750798522,
          "sample_id": "pgi(20)"
         },
         {
          "author": "Khodayari",
          "normalized_error": 0.6692461048721973,
          "sample_id": "pgi(50)"
         },
         {
          "author": "Kurata",
          "normalized_error": 0.5501061903846841,
          "sample_id": "WT"
         },
         {
          "author": "Kurata",
          "normalized_error": 0.5122640789921444,
          "sample_id": "dpgi"
         },
         {
          "author": "Kurata",
          "normalized_error": 0.706310979520501,
          "sample_id": "pgi(0)"
         },
         {
          "author": "Kurata",
          "normalized_error": 0.5711087847274211,
          "sample_id": "pgi(100)"
         },
         {
          "author": "Kurata",
          "normalized_error": 0.7110626546696998,
          "sample_id": "pgi(20)"
         },
         {
          "author": "Kurata",
          "normalized_error": 0.6729673980412544,
          "sample_id": "pgi(50)"
         },
         {
          "author": "Millard",
          "normalized_error": 0.4219354507633773,
          "sample_id": "WT"
         },
         {
          "author": "Millard",
          "normalized_error": 0.7122764056125592,
          "sample_id": "dpgi"
         },
         {
          "author": "Millard",
          "normalized_error": 0.6114915257030115,
          "sample_id": "pgi(0)"
         },
         {
          "author": "Millard",
          "normalized_error": 0.5775919228496817,
          "sample_id": "pgi(100)"
         },
         {
          "author": "Millard",
          "normalized_error": 0.6822443873292525,
          "sample_id": "pgi(20)"
         },
         {
          "author": "Millard",
          "normalized_error": 0.6586771601798291,
          "sample_id": "pgi(50)"
         },
         {
          "author": "Khodayari",
          "normalized_error": 0.6844819253977156,
          "sample_id": "WT"
         },
         {
          "author": "Khodayari",
          "normalized_error": 0.8096914373615677,
          "sample_id": "dzwf"
         },
         {
          "author": "Khodayari",
          "normalized_error": 1.1574260183416016,
          "sample_id": "zwf(15)"
         },
         {
          "author": "Kurata",
          "normalized_error": 0.6247105355466358,
          "sample_id": "WT"
         },
         {
          "author": "Kurata",
          "normalized_error": 0.5669806334159186,
          "sample_id": "dzwf"
         },
         {
          "author": "Kurata",
          "normalized_error": 0.8804109046666914,
          "sample_id": "zwf(15)"
         },
         {
          "author": "Millard",
          "normalized_error": 0.6154358553096497,
          "sample_id": "WT"
         },
         {
          "author": "Millard",
          "normalized_error": 0.5377750501354289,
          "sample_id": "dzwf"
         },
         {
          "author": "Millard",
          "normalized_error": 0.709409622107739,
          "sample_id": "zwf(15)"
         }
        ]
       },
       "encoding": {
        "color": {
         "field": "author",
         "sort": [
          "Usui"
         ],
         "type": "nominal"
        },
        "column": {
         "field": "sample_id",
         "type": "nominal"
        },
        "tooltip": [
         {
          "field": "author",
          "type": "nominal"
         },
         {
          "field": "sample_id",
          "type": "nominal"
         }
        ],
        "x": {
         "field": "author",
         "sort": [
          "Usui"
         ],
         "type": "ordinal"
        },
        "y": {
         "field": "normalized_error",
         "type": "quantitative"
        }
       },
       "mark": "point"
      },
      "image/png": "[encoded data removed]",
      "text/plain": [
       "<VegaLite 2 object>\n",
       "\n",
       "If you see this message, it means the renderer has not been properly enabled\n",
       "for the frontend that you are using. For more information, see\n",
       "https://altair-viz.github.io/user_guide/troubleshooting.html\n"
      ]
     },
     "execution_count": 35,
     "metadata": {},
     "output_type": "execute_result"
    }
   ],
   "source": [
    "alt.Chart(normalized_errors).mark_point().encode(\n",
    "    y = \"normalized_error\",\n",
    "    x = alt.X(\"author:O\", sort = [experimental_dataset]),\n",
    "    column=\"sample_id:N\",\n",
    "    color=alt.Color(\"author\", sort = [experimental_dataset]),\n",
    "    tooltip=[\"author\", \"sample_id\"],\n",
    ")"
   ]
  },
  {
   "cell_type": "code",
   "execution_count": 109,
   "metadata": {},
   "outputs": [
    {
     "data": {
      "application/vnd.jupyter.widget-view+json": {
       "model_id": "4c4ab71487f54db7960a229e0a4ea9f5",
       "version_major": 2,
       "version_minor": 0
      },
      "text/plain": [
       "interactive(children=(Dropdown(description='strain', options=('dzwf', 'zwf(15)', 'WT'), value='dzwf'), Button(…"
      ]
     },
     "metadata": {},
     "output_type": "display_data"
    }
   ],
   "source": [
    "# select the right data and find median flux if there are several fluxes which are mapped to one BiGG ID\n",
    "plot_data = all_results[\n",
    "    (all_results[\"BiGG_ID\"].isin(selected_reactions))\n",
    "    & (all_results[\"author\"].isin(selected_authors))\n",
    "].groupby([\"BiGG_ID\", \"sample_id\", \"author\"]).median().reset_index()\n",
    "\n",
    "# make base plot that would be then modified to select only one strain\n",
    "# altair.facet is not working with them so far\n",
    "base = alt.Chart(plot_data, title=\"ZWF sensitivity fluxes\").mark_bar().encode(\n",
    "    y=\"normalized_flux:Q\",\n",
    "    x=alt.X(\"author:O\", sort = [\"Nicolas\"]),\n",
    "    column=\"BiGG_ID:N\",\n",
    "    color=alt.Color(\"author\",sort=[\"Nicolas\"]),\n",
    "    tooltip=[\"author\", \"normalized_flux\", \"BiGG_ID\", \"sample_id\"],\n",
    ")\n",
    "\n",
    "\n",
    "@interact_manual\n",
    "def show_strain_comparison_plot(strain = selected_strains):\n",
    "    return base.transform_filter(datum.sample_id == strain)"
   ]
  },
  {
   "cell_type": "code",
   "execution_count": 26,
   "metadata": {},
   "outputs": [
    {
     "data": {
      "text/html": [
       "<div>\n",
       "<style scoped>\n",
       "    .dataframe tbody tr th:only-of-type {\n",
       "        vertical-align: middle;\n",
       "    }\n",
       "\n",
       "    .dataframe tbody tr th {\n",
       "        vertical-align: top;\n",
       "    }\n",
       "\n",
       "    .dataframe thead th {\n",
       "        text-align: right;\n",
       "    }\n",
       "</style>\n",
       "<table border=\"1\" class=\"dataframe\">\n",
       "  <thead>\n",
       "    <tr style=\"text-align: right;\">\n",
       "      <th></th>\n",
       "      <th>BiGG_ID</th>\n",
       "      <th>sample_id</th>\n",
       "      <th>author</th>\n",
       "      <th>flux</th>\n",
       "      <th>normalized_flux</th>\n",
       "    </tr>\n",
       "  </thead>\n",
       "  <tbody>\n",
       "    <tr>\n",
       "      <th>0</th>\n",
       "      <td>FUM</td>\n",
       "      <td>WT</td>\n",
       "      <td>Khodayari</td>\n",
       "      <td>88.489031</td>\n",
       "      <td>80.559575</td>\n",
       "    </tr>\n",
       "    <tr>\n",
       "      <th>1</th>\n",
       "      <td>FUM</td>\n",
       "      <td>WT</td>\n",
       "      <td>Kurata</td>\n",
       "      <td>1975.265390</td>\n",
       "      <td>52.506510</td>\n",
       "    </tr>\n",
       "    <tr>\n",
       "      <th>2</th>\n",
       "      <td>FUM</td>\n",
       "      <td>WT</td>\n",
       "      <td>Millard</td>\n",
       "      <td>0.277610</td>\n",
       "      <td>69.402491</td>\n",
       "    </tr>\n",
       "    <tr>\n",
       "      <th>3</th>\n",
       "      <td>FUM</td>\n",
       "      <td>WT</td>\n",
       "      <td>Nicolas</td>\n",
       "      <td>1.058200</td>\n",
       "      <td>14.800000</td>\n",
       "    </tr>\n",
       "    <tr>\n",
       "      <th>4</th>\n",
       "      <td>FUM</td>\n",
       "      <td>dzwf</td>\n",
       "      <td>Khodayari</td>\n",
       "      <td>5.882956</td>\n",
       "      <td>132.726029</td>\n",
       "    </tr>\n",
       "  </tbody>\n",
       "</table>\n",
       "</div>"
      ],
      "text/plain": [
       "  BiGG_ID sample_id     author         flux  normalized_flux\n",
       "0     FUM        WT  Khodayari    88.489031        80.559575\n",
       "1     FUM        WT     Kurata  1975.265390        52.506510\n",
       "2     FUM        WT    Millard     0.277610        69.402491\n",
       "3     FUM        WT    Nicolas     1.058200        14.800000\n",
       "4     FUM      dzwf  Khodayari     5.882956       132.726029"
      ]
     },
     "execution_count": 26,
     "metadata": {},
     "output_type": "execute_result"
    }
   ],
   "source": [
    "plot_data.head()"
   ]
  },
  {
   "cell_type": "code",
   "execution_count": 107,
   "metadata": {},
   "outputs": [],
   "source": [
    "rel_error = plot_data\n",
    "rel_error = rel_error.groupby([\"BiGG_ID\", \"sample_id\"]).apply(lambda x: relative_error(x)).reset_index().drop(\"level_2\", axis = 1)"
   ]
  },
  {
   "cell_type": "code",
   "execution_count": 108,
   "metadata": {},
   "outputs": [
    {
     "data": {
      "application/vnd.jupyter.widget-view+json": {
       "model_id": "d12151f0503e4b8ea12f3022e5cf53e1",
       "version_major": 2,
       "version_minor": 0
      },
      "text/plain": [
       "interactive(children=(Dropdown(description='strain', options=('dzwf', 'zwf(15)', 'WT'), value='dzwf'), Button(…"
      ]
     },
     "metadata": {},
     "output_type": "display_data"
    }
   ],
   "source": [
    "# make base plot that would be then modified to select only one strain\n",
    "# altair.facet is not working with them so far\n",
    "base = alt.Chart(rel_error, title=\"ZWF sensitivity relative errors\").mark_bar().encode(\n",
    "    y=\"relative_error:Q\",\n",
    "    x=alt.X(\"author:O\", sort = [\"Nicolas\"]),\n",
    "    column=\"BiGG_ID:N\",\n",
    "    color=alt.Color(\"author\",sort=[\"Nicolas\"]),\n",
    "    tooltip=[\"author\", \"relative_error\", \"BiGG_ID\", \"sample_id\", \"normalized_flux\"],\n",
    ")\n",
    "\n",
    "\n",
    "@interact_manual\n",
    "def show_strain_comparison_plot(strain = selected_strains):\n",
    "    return base.transform_filter(datum.sample_id == strain)"
   ]
  },
  {
   "cell_type": "markdown",
   "metadata": {},
   "source": [
    "# Export the data"
   ]
  },
  {
   "cell_type": "code",
   "execution_count": 33,
   "metadata": {},
   "outputs": [],
   "source": [
    "sensitivity_data = pd.concat([selected_data_zwf, selected_data_pgi, selected_data_eno], sort=False)"
   ]
  },
  {
   "cell_type": "code",
   "execution_count": 37,
   "metadata": {},
   "outputs": [],
   "source": [
    "path = data_path / \"Processed\"\n",
    "path.mkdir(parents=True, exist_ok=True)\n",
    "sensitivity_data.to_csv(path / \"sensitivity.csv\")"
   ]
  },
  {
   "cell_type": "code",
   "execution_count": null,
   "metadata": {},
   "outputs": [],
   "source": []
  }
 ],
 "metadata": {
  "kernelspec": {
   "display_name": "dataml-conda",
   "language": "python",
   "name": "dataml-conda"
  },
  "language_info": {
   "codemirror_mode": {
    "name": "ipython",
    "version": 3
   },
   "file_extension": ".py",
   "mimetype": "text/x-python",
   "name": "python",
   "nbconvert_exporter": "python",
   "pygments_lexer": "ipython3",
   "version": "3.6.6"
  }
 },
 "nbformat": 4,
 "nbformat_minor": 2
}
