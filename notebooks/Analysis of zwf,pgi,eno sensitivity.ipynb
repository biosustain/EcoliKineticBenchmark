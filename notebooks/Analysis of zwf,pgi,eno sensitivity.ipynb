{
 "cells": [
  {
   "cell_type": "code",
   "execution_count": 1,
   "metadata": {},
   "outputs": [],
   "source": [
    "import numpy as np\n",
    "import pandas as pd\n",
    "import xarray as xr\n",
    "\n",
    "from pathlib import Path\n",
    "\n",
    "import altair as alt\n",
    "from altair.expr import datum"
   ]
  },
  {
   "cell_type": "code",
   "execution_count": 2,
   "metadata": {},
   "outputs": [],
   "source": [
    "%load_ext watermark"
   ]
  },
  {
   "cell_type": "code",
   "execution_count": 3,
   "metadata": {},
   "outputs": [
    {
     "name": "stdout",
     "output_type": "stream",
     "text": [
      "numpy     1.16.3\n",
      "altair    3.0.1\n",
      "pandas    0.24.2\n",
      "xarray    0.12.0\n",
      "\n"
     ]
    }
   ],
   "source": [
    "%watermark --iversions"
   ]
  },
  {
   "cell_type": "code",
   "execution_count": 4,
   "metadata": {},
   "outputs": [],
   "source": [
    "from utils.load import load_sensitivity_data\n",
    "from utils.calculate_metrics import (process_data, relative_errors, summary_errors)"
   ]
  },
  {
   "cell_type": "markdown",
   "metadata": {},
   "source": [
    "## Set paths "
   ]
  },
  {
   "cell_type": "code",
   "execution_count": 5,
   "metadata": {},
   "outputs": [],
   "source": [
    "((zwf_df, pgi_df, eno_df), debug_info) = load_sensitivity_data()"
   ]
  },
  {
   "cell_type": "code",
   "execution_count": 6,
   "metadata": {},
   "outputs": [
    {
     "data": {
      "text/html": [
       "<div>\n",
       "<style scoped>\n",
       "    .dataframe tbody tr th:only-of-type {\n",
       "        vertical-align: middle;\n",
       "    }\n",
       "\n",
       "    .dataframe tbody tr th {\n",
       "        vertical-align: top;\n",
       "    }\n",
       "\n",
       "    .dataframe thead th {\n",
       "        text-align: right;\n",
       "    }\n",
       "</style>\n",
       "<table border=\"1\" class=\"dataframe\">\n",
       "  <thead>\n",
       "    <tr style=\"text-align: right;\">\n",
       "      <th></th>\n",
       "      <th>flux</th>\n",
       "      <th>ID</th>\n",
       "      <th>BiGG_ID</th>\n",
       "      <th>author</th>\n",
       "      <th>sample_id</th>\n",
       "      <th>normalized_flux</th>\n",
       "    </tr>\n",
       "  </thead>\n",
       "  <tbody>\n",
       "    <tr>\n",
       "      <th>0</th>\n",
       "      <td>-0.020954</td>\n",
       "      <td>ACALD</td>\n",
       "      <td>ACALD</td>\n",
       "      <td>Khodayari</td>\n",
       "      <td>dzwf</td>\n",
       "      <td>-0.472740</td>\n",
       "    </tr>\n",
       "    <tr>\n",
       "      <th>1</th>\n",
       "      <td>-0.004096</td>\n",
       "      <td>ACALDtpp_ex</td>\n",
       "      <td>composed of ACALDtex and ACALDtpp</td>\n",
       "      <td>Khodayari</td>\n",
       "      <td>dzwf</td>\n",
       "      <td>-0.092400</td>\n",
       "    </tr>\n",
       "    <tr>\n",
       "      <th>2</th>\n",
       "      <td>-0.009307</td>\n",
       "      <td>ACKr</td>\n",
       "      <td>ACKr</td>\n",
       "      <td>Khodayari</td>\n",
       "      <td>dzwf</td>\n",
       "      <td>-0.209985</td>\n",
       "    </tr>\n",
       "    <tr>\n",
       "      <th>3</th>\n",
       "      <td>4.326233</td>\n",
       "      <td>ACONTa</td>\n",
       "      <td>ACONTa</td>\n",
       "      <td>Khodayari</td>\n",
       "      <td>dzwf</td>\n",
       "      <td>97.604637</td>\n",
       "    </tr>\n",
       "    <tr>\n",
       "      <th>4</th>\n",
       "      <td>4.441212</td>\n",
       "      <td>ACONTb</td>\n",
       "      <td>ACONTb</td>\n",
       "      <td>Khodayari</td>\n",
       "      <td>dzwf</td>\n",
       "      <td>100.198682</td>\n",
       "    </tr>\n",
       "  </tbody>\n",
       "</table>\n",
       "</div>"
      ],
      "text/plain": [
       "       flux           ID                            BiGG_ID     author  \\\n",
       "0 -0.020954        ACALD                              ACALD  Khodayari   \n",
       "1 -0.004096  ACALDtpp_ex  composed of ACALDtex and ACALDtpp  Khodayari   \n",
       "2 -0.009307         ACKr                               ACKr  Khodayari   \n",
       "3  4.326233       ACONTa                             ACONTa  Khodayari   \n",
       "4  4.441212       ACONTb                             ACONTb  Khodayari   \n",
       "\n",
       "  sample_id  normalized_flux  \n",
       "0      dzwf        -0.472740  \n",
       "1      dzwf        -0.092400  \n",
       "2      dzwf        -0.209985  \n",
       "3      dzwf        97.604637  \n",
       "4      dzwf       100.198682  "
      ]
     },
     "execution_count": 6,
     "metadata": {},
     "output_type": "execute_result"
    }
   ],
   "source": [
    "zwf_df.head()"
   ]
  },
  {
   "cell_type": "code",
   "execution_count": 7,
   "metadata": {},
   "outputs": [],
   "source": [
    "xdf_zwf = process_data(zwf_df, author=\"Nicolas\")\n",
    "xdf_pgi = process_data(pgi_df, author=\"Usui\")\n",
    "xdf_eno = process_data(eno_df, author=\"Usui\")"
   ]
  },
  {
   "cell_type": "code",
   "execution_count": 8,
   "metadata": {},
   "outputs": [
    {
     "data": {
      "text/plain": [
       "<xarray.DataArray 'BiGG_ID' (BiGG_ID: 29)>\n",
       "array(['ACKr', 'AKGDH', 'CS', 'EDA', 'EDD', 'ENO', 'FBA', 'FUM', 'G6PDH2r',\n",
       "       'GAPD', 'GLCptspp', 'GND', 'ICDHyr', 'ICL', 'PDH', 'PFK', 'PGI', 'PGK',\n",
       "       'PGM', 'PPC', 'PPCK', 'PTAr', 'PYK', 'RPE', 'RPI', 'SUCDi', 'TALA',\n",
       "       'TKT1', 'TPI'], dtype=object)\n",
       "Coordinates:\n",
       "  * BiGG_ID  (BiGG_ID) object 'ACKr' 'AKGDH' 'CS' 'EDA' ... 'TALA' 'TKT1' 'TPI'"
      ]
     },
     "execution_count": 8,
     "metadata": {},
     "output_type": "execute_result"
    }
   ],
   "source": [
    "xdf_pgi.BiGG_ID"
   ]
  },
  {
   "cell_type": "code",
   "execution_count": 9,
   "metadata": {},
   "outputs": [
    {
     "data": {
      "text/plain": [
       "<xarray.DataArray 'BiGG_ID' (BiGG_ID: 18)>\n",
       "array(['CS', 'EDD', 'ENO', 'FUM', 'G6PDH2r', 'GLCptspp', 'GND', 'ICDHyr',\n",
       "       'MDH', 'PDH', 'PFK', 'PGI', 'PGK', 'PPC', 'PTAr', 'PYK', 'TALA', 'TKT1'],\n",
       "      dtype=object)\n",
       "Coordinates:\n",
       "  * BiGG_ID  (BiGG_ID) object 'CS' 'EDD' 'ENO' 'FUM' ... 'PYK' 'TALA' 'TKT1'"
      ]
     },
     "execution_count": 9,
     "metadata": {},
     "output_type": "execute_result"
    }
   ],
   "source": [
    "xdf_zwf.BiGG_ID"
   ]
  },
  {
   "cell_type": "markdown",
   "metadata": {},
   "source": [
    "# 2. Calculate error metrics"
   ]
  },
  {
   "cell_type": "code",
   "execution_count": 10,
   "metadata": {},
   "outputs": [],
   "source": [
    "x_rel_error_zwf = relative_errors(xdf_zwf, author=\"Nicolas\")\n",
    "x_rel_error_pgi = relative_errors(xdf_pgi, author=\"Usui\")\n",
    "x_rel_error_eno = relative_errors(xdf_eno, author=\"Usui\")"
   ]
  },
  {
   "cell_type": "code",
   "execution_count": 11,
   "metadata": {},
   "outputs": [],
   "source": [
    "x_norm_error_zwf = summary_errors(xdf_zwf, author=\"Nicolas\")\n",
    "x_norm_error_pgi = summary_errors(xdf_pgi, author=\"Usui\")\n",
    "x_norm_error_eno = summary_errors(xdf_eno, author=\"Usui\")"
   ]
  },
  {
   "cell_type": "code",
   "execution_count": 12,
   "metadata": {},
   "outputs": [],
   "source": [
    "summary_errors = xr.concat([x_norm_error_zwf, x_norm_error_pgi, x_norm_error_eno], dim = \"sample_id\")"
   ]
  },
  {
   "cell_type": "markdown",
   "metadata": {},
   "source": [
    "# 4. Visualize"
   ]
  },
  {
   "cell_type": "markdown",
   "metadata": {},
   "source": [
    "### Summary normalized error for the models"
   ]
  },
  {
   "cell_type": "code",
   "execution_count": 13,
   "metadata": {},
   "outputs": [],
   "source": [
    "from utils.vis import heatmap, summary_chart, jitter_summary_chart"
   ]
  },
  {
   "cell_type": "code",
   "execution_count": 14,
   "metadata": {},
   "outputs": [
    {
     "data": {
      "application/vnd.vegalite.v3+json": {
       "$schema": "https://vega.github.io/schema/vega-lite/v3.2.1.json",
       "config": {
        "axis": {
         "labelFontSize": 20,
         "titleFontSize": 20
        },
        "facet": {
         "spacing": 5
        },
        "header": {
         "titleFontSize": 24
        },
        "mark": {
         "tooltip": null
        },
        "view": {
         "height": 300,
         "stroke": null,
         "width": 400
        }
       },
       "data": {
        "name": "data-d94709828967ee8120b1fa303b72764d"
       },
       "datasets": {
        "data-d94709828967ee8120b1fa303b72764d": [
         {
          "author": "Khodayari",
          "normalized_error": 0.51726453584119,
          "sample_id": "WT",
          "unnormalized_error": 166.02306942531774
         },
         {
          "author": "Khodayari",
          "normalized_error": 0.6798188130994501,
          "sample_id": "dzwf",
          "unnormalized_error": 245.26130194929505
         },
         {
          "author": "Khodayari",
          "normalized_error": 0.9455984196044522,
          "sample_id": "zwf(15)",
          "unnormalized_error": 299.81208567784995
         },
         {
          "author": "Khodayari",
          "normalized_error": 0.3601714901667807,
          "sample_id": "WT",
          "unnormalized_error": 154.3024770952614
         },
         {
          "author": "Khodayari",
          "normalized_error": 0.36347641425032007,
          "sample_id": "dpgi",
          "unnormalized_error": 128.8163796613832
         },
         {
          "author": "Khodayari",
          "normalized_error": null,
          "sample_id": "eno(200)",
          "unnormalized_error": null
         },
         {
          "author": "Khodayari",
          "normalized_error": null,
          "sample_id": "eno(50)",
          "unnormalized_error": null
         },
         {
          "author": "Khodayari",
          "normalized_error": null,
          "sample_id": "eno(500)",
          "unnormalized_error": null
         },
         {
          "author": "Khodayari",
          "normalized_error": 0.5428374182640061,
          "sample_id": "pgi(0)",
          "unnormalized_error": 218.0139149147343
         },
         {
          "author": "Khodayari",
          "normalized_error": 0.38943423950518213,
          "sample_id": "pgi(100)",
          "unnormalized_error": 161.92216274574957
         },
         {
          "author": "Khodayari",
          "normalized_error": 0.8559557483479983,
          "sample_id": "pgi(20)",
          "unnormalized_error": 1510.4559370541897
         },
         {
          "author": "Khodayari",
          "normalized_error": 0.5045136289779366,
          "sample_id": "pgi(50)",
          "unnormalized_error": 197.71119911283012
         },
         {
          "author": "Khodayari",
          "normalized_error": 0.3601714901667807,
          "sample_id": "WT",
          "unnormalized_error": 154.3024770952614
         },
         {
          "author": "Khodayari",
          "normalized_error": null,
          "sample_id": "dpgi",
          "unnormalized_error": null
         },
         {
          "author": "Khodayari",
          "normalized_error": null,
          "sample_id": "eno(0)",
          "unnormalized_error": null
         },
         {
          "author": "Khodayari",
          "normalized_error": 0.4133483441993909,
          "sample_id": "eno(200)",
          "unnormalized_error": 175.72025404853568
         },
         {
          "author": "Khodayari",
          "normalized_error": 0.3679404261504206,
          "sample_id": "eno(50)",
          "unnormalized_error": 157.57391877989247
         },
         {
          "author": "Khodayari",
          "normalized_error": 0.414639501900478,
          "sample_id": "eno(500)",
          "unnormalized_error": 174.26822256568815
         },
         {
          "author": "Khodayari",
          "normalized_error": null,
          "sample_id": "pgi(0)",
          "unnormalized_error": null
         },
         {
          "author": "Khodayari",
          "normalized_error": null,
          "sample_id": "pgi(100)",
          "unnormalized_error": null
         },
         {
          "author": "Khodayari",
          "normalized_error": null,
          "sample_id": "pgi(20)",
          "unnormalized_error": null
         },
         {
          "author": "Khodayari",
          "normalized_error": null,
          "sample_id": "pgi(50)",
          "unnormalized_error": null
         },
         {
          "author": "Kurata",
          "normalized_error": 0.47369409040062965,
          "sample_id": "WT",
          "unnormalized_error": 152.03854393198088
         },
         {
          "author": "Kurata",
          "normalized_error": 0.39297484457520676,
          "sample_id": "dzwf",
          "unnormalized_error": 141.77530859202258
         },
         {
          "author": "Kurata",
          "normalized_error": 0.6555163009760772,
          "sample_id": "zwf(15)",
          "unnormalized_error": 207.83844951187308
         },
         {
          "author": "Kurata",
          "normalized_error": 0.38923345746465693,
          "sample_id": "WT",
          "unnormalized_error": 166.75302819592534
         },
         {
          "author": "Kurata",
          "normalized_error": 0.5123164856443991,
          "sample_id": "dpgi",
          "unnormalized_error": 181.56543955588
         },
         {
          "author": "Kurata",
          "normalized_error": null,
          "sample_id": "eno(200)",
          "unnormalized_error": null
         },
         {
          "author": "Kurata",
          "normalized_error": null,
          "sample_id": "eno(50)",
          "unnormalized_error": null
         },
         {
          "author": "Kurata",
          "normalized_error": null,
          "sample_id": "eno(500)",
          "unnormalized_error": null
         },
         {
          "author": "Kurata",
          "normalized_error": 0.581407843316812,
          "sample_id": "pgi(0)",
          "unnormalized_error": 233.50453712088063
         },
         {
          "author": "Kurata",
          "normalized_error": 0.4228992468480448,
          "sample_id": "pgi(100)",
          "unnormalized_error": 175.83651802212123
         },
         {
          "author": "Kurata",
          "normalized_error": 0.8683895083607064,
          "sample_id": "pgi(20)",
          "unnormalized_error": 1532.3970790669032
         },
         {
          "author": "Kurata",
          "normalized_error": 0.5157828452895443,
          "sample_id": "pgi(50)",
          "unnormalized_error": 202.12743316887236
         },
         {
          "author": "Kurata",
          "normalized_error": 0.38923345746465693,
          "sample_id": "WT",
          "unnormalized_error": 166.75302819592534
         },
         {
          "author": "Kurata",
          "normalized_error": null,
          "sample_id": "dpgi",
          "unnormalized_error": null
         },
         {
          "author": "Kurata",
          "normalized_error": null,
          "sample_id": "eno(0)",
          "unnormalized_error": null
         },
         {
          "author": "Kurata",
          "normalized_error": 0.4257714974591877,
          "sample_id": "eno(200)",
          "unnormalized_error": 181.00151300972396
         },
         {
          "author": "Kurata",
          "normalized_error": 0.387519239772208,
          "sample_id": "eno(50)",
          "unnormalized_error": 165.9587282984446
         },
         {
          "author": "Kurata",
          "normalized_error": 0.42711584368738864,
          "sample_id": "eno(500)",
          "unnormalized_error": 179.51188578967302
         },
         {
          "author": "Kurata",
          "normalized_error": null,
          "sample_id": "pgi(0)",
          "unnormalized_error": null
         },
         {
          "author": "Kurata",
          "normalized_error": null,
          "sample_id": "pgi(100)",
          "unnormalized_error": null
         },
         {
          "author": "Kurata",
          "normalized_error": null,
          "sample_id": "pgi(20)",
          "unnormalized_error": null
         },
         {
          "author": "Kurata",
          "normalized_error": null,
          "sample_id": "pgi(50)",
          "unnormalized_error": null
         },
         {
          "author": "Millard",
          "normalized_error": 0.4464967842229925,
          "sample_id": "WT",
          "unnormalized_error": 143.3091995852465
         },
         {
          "author": "Millard",
          "normalized_error": 0.31005816665260516,
          "sample_id": "dzwf",
          "unnormalized_error": 111.86108440647823
         },
         {
          "author": "Millard",
          "normalized_error": 0.5070243559619041,
          "sample_id": "zwf(15)",
          "unnormalized_error": 160.7574912339578
         },
         {
          "author": "Millard",
          "normalized_error": 0.3066284396827725,
          "sample_id": "WT",
          "unnormalized_error": 131.36388937669048
         },
         {
          "author": "Millard",
          "normalized_error": 0.6984904256707078,
          "sample_id": "dpgi",
          "unnormalized_error": 247.54565725707147
         },
         {
          "author": "Millard",
          "normalized_error": null,
          "sample_id": "eno(200)",
          "unnormalized_error": null
         },
         {
          "author": "Millard",
          "normalized_error": null,
          "sample_id": "eno(50)",
          "unnormalized_error": null
         },
         {
          "author": "Millard",
          "normalized_error": null,
          "sample_id": "eno(500)",
          "unnormalized_error": null
         },
         {
          "author": "Millard",
          "normalized_error": 0.4744666317916269,
          "sample_id": "pgi(0)",
          "unnormalized_error": 190.5548962046545
         },
         {
          "author": "Millard",
          "normalized_error": 0.39512463314277546,
          "sample_id": "pgi(100)",
          "unnormalized_error": 164.2881612923707
         },
         {
          "author": "Millard",
          "normalized_error": 0.863679333260289,
          "sample_id": "pgi(20)",
          "unnormalized_error": 1524.0853036524366
         },
         {
          "author": "Millard",
          "normalized_error": 0.47388293479827653,
          "sample_id": "pgi(50)",
          "unnormalized_error": 185.7074970757067
         },
         {
          "author": "Millard",
          "normalized_error": 0.3066284396827725,
          "sample_id": "WT",
          "unnormalized_error": 131.36388937669048
         },
         {
          "author": "Millard",
          "normalized_error": null,
          "sample_id": "dpgi",
          "unnormalized_error": null
         },
         {
          "author": "Millard",
          "normalized_error": null,
          "sample_id": "eno(0)",
          "unnormalized_error": null
         },
         {
          "author": "Millard",
          "normalized_error": 0.34906449658415795,
          "sample_id": "eno(200)",
          "unnormalized_error": 148.39227707055812
         },
         {
          "author": "Millard",
          "normalized_error": 0.3154443248192869,
          "sample_id": "eno(50)",
          "unnormalized_error": 135.09197382494665
         },
         {
          "author": "Millard",
          "normalized_error": 0.34886430993949347,
          "sample_id": "eno(500)",
          "unnormalized_error": 146.62366448711668
         },
         {
          "author": "Millard",
          "normalized_error": null,
          "sample_id": "pgi(0)",
          "unnormalized_error": null
         },
         {
          "author": "Millard",
          "normalized_error": null,
          "sample_id": "pgi(100)",
          "unnormalized_error": null
         },
         {
          "author": "Millard",
          "normalized_error": null,
          "sample_id": "pgi(20)",
          "unnormalized_error": null
         },
         {
          "author": "Millard",
          "normalized_error": null,
          "sample_id": "pgi(50)",
          "unnormalized_error": null
         }
        ]
       },
       "encoding": {
        "color": {
         "field": "author",
         "legend": null,
         "scale": {
          "domain": [
           "Khodayari",
           "Millard",
           "Kurata",
           "iML1515",
           "ECC2",
           "Exp_iML1515",
           "Exp_ECC2"
          ],
          "range": [
           "#1b9e77",
           "#d95f02",
           "#7570b3",
           "#e7298a",
           "#66a61e",
           "#e6ab02",
           "#a6761d"
          ]
         },
         "type": "nominal"
        },
        "column": {
         "field": "author",
         "header": {
          "labelAlign": "right",
          "labelAngle": -90,
          "labelFontSize": 20,
          "labelOrient": "bottom",
          "labelPadding": 3,
          "title": "Enzyme abundance",
          "titleOrient": "top"
         },
         "sort": [
          "Khodayari",
          "Millard",
          "Kurata"
         ],
         "type": "nominal"
        },
        "opacity": {
         "value": 1
        },
        "size": {
         "condition": {
          "selection": "selector001",
          "value": 150
         },
         "value": 60
        },
        "tooltip": [
         {
          "field": "author",
          "type": "nominal"
         },
         {
          "field": "sample_id",
          "type": "nominal"
         },
         {
          "field": "normalized_error",
          "type": "quantitative"
         }
        ],
        "x": {
         "axis": {
          "grid": false,
          "labels": false,
          "ticks": true,
          "values": [
           0
          ]
         },
         "field": "jitter",
         "scale": {},
         "title": null,
         "type": "quantitative"
        },
        "y": {
         "field": "normalized_error",
         "title": "Normalized error",
         "type": "quantitative"
        }
       },
       "height": 600,
       "mark": "circle",
       "selection": {
        "selector001": {
         "empty": "none",
         "fields": [
          "sample_id"
         ],
         "type": "single"
        }
       },
       "transform": [
        {
         "as": "jitter",
         "calculate": "sqrt(-2*log(random()))*cos(2*PI*random())"
        },
        {
         "filter": "datum.normalized_error !== null"
        }
       ],
       "width": 100
      },
      "image/png": "[encoded data removed]",
      "text/plain": [
       "<VegaLite 3 object>\n",
       "\n",
       "If you see this message, it means the renderer has not been properly enabled\n",
       "for the frontend that you are using. For more information, see\n",
       "https://altair-viz.github.io/user_guide/troubleshooting.html\n"
      ]
     },
     "execution_count": 14,
     "metadata": {},
     "output_type": "execute_result"
    }
   ],
   "source": [
    "jitter_summary_chart(norm_error=summary_errors,\n",
    "                     author=[\"Nicolas\",\"Usui\"],\n",
    "                     title=\"Enzyme abundance\",\n",
    "                     sort_list=[\"Khodayari\", \"Millard\", \"Kurata\"],\n",
    "                     opacity = False,\n",
    "              color_scheme = \"dark2\")"
   ]
  },
  {
   "cell_type": "code",
   "execution_count": 17,
   "metadata": {},
   "outputs": [
    {
     "data": {
      "application/vnd.vegalite.v3+json": {
       "$schema": "https://vega.github.io/schema/vega-lite/v3.2.1.json",
       "config": {
        "invalidValues": null,
        "mark": {
         "tooltip": null
        },
        "view": {
         "height": 300,
         "width": 400
        }
       },
       "data": {
        "name": "data-684f56a69f70f812a29af10698cf2a3c"
       },
       "datasets": {
        "data-684f56a69f70f812a29af10698cf2a3c": [
         {
          "author": "Khodayari",
          "normalized_error": 0.51726453584119,
          "sample_id": "WT",
          "unnormalized_error": 166.02306942531774
         },
         {
          "author": "Khodayari",
          "normalized_error": 0.6798188130994501,
          "sample_id": "dzwf",
          "unnormalized_error": 245.26130194929505
         },
         {
          "author": "Khodayari",
          "normalized_error": 0.9455984196044522,
          "sample_id": "zwf(15)",
          "unnormalized_error": 299.81208567784995
         },
         {
          "author": "Khodayari",
          "normalized_error": 0.3601714901667807,
          "sample_id": "WT",
          "unnormalized_error": 154.3024770952614
         },
         {
          "author": "Khodayari",
          "normalized_error": 0.36347641425032007,
          "sample_id": "dpgi",
          "unnormalized_error": 128.8163796613832
         },
         {
          "author": "Khodayari",
          "normalized_error": null,
          "sample_id": "eno(200)",
          "unnormalized_error": null
         },
         {
          "author": "Khodayari",
          "normalized_error": null,
          "sample_id": "eno(50)",
          "unnormalized_error": null
         },
         {
          "author": "Khodayari",
          "normalized_error": null,
          "sample_id": "eno(500)",
          "unnormalized_error": null
         },
         {
          "author": "Khodayari",
          "normalized_error": 0.5428374182640061,
          "sample_id": "pgi(0)",
          "unnormalized_error": 218.0139149147343
         },
         {
          "author": "Khodayari",
          "normalized_error": 0.38943423950518213,
          "sample_id": "pgi(100)",
          "unnormalized_error": 161.92216274574957
         },
         {
          "author": "Khodayari",
          "normalized_error": 0.8559557483479983,
          "sample_id": "pgi(20)",
          "unnormalized_error": 1510.4559370541897
         },
         {
          "author": "Khodayari",
          "normalized_error": 0.5045136289779366,
          "sample_id": "pgi(50)",
          "unnormalized_error": 197.71119911283012
         },
         {
          "author": "Khodayari",
          "normalized_error": 0.3601714901667807,
          "sample_id": "WT",
          "unnormalized_error": 154.3024770952614
         },
         {
          "author": "Khodayari",
          "normalized_error": null,
          "sample_id": "dpgi",
          "unnormalized_error": null
         },
         {
          "author": "Khodayari",
          "normalized_error": null,
          "sample_id": "eno(0)",
          "unnormalized_error": null
         },
         {
          "author": "Khodayari",
          "normalized_error": 0.4133483441993909,
          "sample_id": "eno(200)",
          "unnormalized_error": 175.72025404853568
         },
         {
          "author": "Khodayari",
          "normalized_error": 0.3679404261504206,
          "sample_id": "eno(50)",
          "unnormalized_error": 157.57391877989247
         },
         {
          "author": "Khodayari",
          "normalized_error": 0.414639501900478,
          "sample_id": "eno(500)",
          "unnormalized_error": 174.26822256568815
         },
         {
          "author": "Khodayari",
          "normalized_error": null,
          "sample_id": "pgi(0)",
          "unnormalized_error": null
         },
         {
          "author": "Khodayari",
          "normalized_error": null,
          "sample_id": "pgi(100)",
          "unnormalized_error": null
         },
         {
          "author": "Khodayari",
          "normalized_error": null,
          "sample_id": "pgi(20)",
          "unnormalized_error": null
         },
         {
          "author": "Khodayari",
          "normalized_error": null,
          "sample_id": "pgi(50)",
          "unnormalized_error": null
         },
         {
          "author": "Kurata",
          "normalized_error": 0.47369409040062965,
          "sample_id": "WT",
          "unnormalized_error": 152.03854393198088
         },
         {
          "author": "Kurata",
          "normalized_error": 0.39297484457520676,
          "sample_id": "dzwf",
          "unnormalized_error": 141.77530859202258
         },
         {
          "author": "Kurata",
          "normalized_error": 0.6555163009760772,
          "sample_id": "zwf(15)",
          "unnormalized_error": 207.83844951187308
         },
         {
          "author": "Kurata",
          "normalized_error": 0.38923345746465693,
          "sample_id": "WT",
          "unnormalized_error": 166.75302819592534
         },
         {
          "author": "Kurata",
          "normalized_error": 0.5123164856443991,
          "sample_id": "dpgi",
          "unnormalized_error": 181.56543955588
         },
         {
          "author": "Kurata",
          "normalized_error": null,
          "sample_id": "eno(200)",
          "unnormalized_error": null
         },
         {
          "author": "Kurata",
          "normalized_error": null,
          "sample_id": "eno(50)",
          "unnormalized_error": null
         },
         {
          "author": "Kurata",
          "normalized_error": null,
          "sample_id": "eno(500)",
          "unnormalized_error": null
         },
         {
          "author": "Kurata",
          "normalized_error": 0.581407843316812,
          "sample_id": "pgi(0)",
          "unnormalized_error": 233.50453712088063
         },
         {
          "author": "Kurata",
          "normalized_error": 0.4228992468480448,
          "sample_id": "pgi(100)",
          "unnormalized_error": 175.83651802212123
         },
         {
          "author": "Kurata",
          "normalized_error": 0.8683895083607064,
          "sample_id": "pgi(20)",
          "unnormalized_error": 1532.3970790669032
         },
         {
          "author": "Kurata",
          "normalized_error": 0.5157828452895443,
          "sample_id": "pgi(50)",
          "unnormalized_error": 202.12743316887236
         },
         {
          "author": "Kurata",
          "normalized_error": 0.38923345746465693,
          "sample_id": "WT",
          "unnormalized_error": 166.75302819592534
         },
         {
          "author": "Kurata",
          "normalized_error": null,
          "sample_id": "dpgi",
          "unnormalized_error": null
         },
         {
          "author": "Kurata",
          "normalized_error": null,
          "sample_id": "eno(0)",
          "unnormalized_error": null
         },
         {
          "author": "Kurata",
          "normalized_error": 0.4257714974591877,
          "sample_id": "eno(200)",
          "unnormalized_error": 181.00151300972396
         },
         {
          "author": "Kurata",
          "normalized_error": 0.387519239772208,
          "sample_id": "eno(50)",
          "unnormalized_error": 165.9587282984446
         },
         {
          "author": "Kurata",
          "normalized_error": 0.42711584368738864,
          "sample_id": "eno(500)",
          "unnormalized_error": 179.51188578967302
         },
         {
          "author": "Kurata",
          "normalized_error": null,
          "sample_id": "pgi(0)",
          "unnormalized_error": null
         },
         {
          "author": "Kurata",
          "normalized_error": null,
          "sample_id": "pgi(100)",
          "unnormalized_error": null
         },
         {
          "author": "Kurata",
          "normalized_error": null,
          "sample_id": "pgi(20)",
          "unnormalized_error": null
         },
         {
          "author": "Kurata",
          "normalized_error": null,
          "sample_id": "pgi(50)",
          "unnormalized_error": null
         },
         {
          "author": "Millard",
          "normalized_error": 0.4464967842229925,
          "sample_id": "WT",
          "unnormalized_error": 143.3091995852465
         },
         {
          "author": "Millard",
          "normalized_error": 0.31005816665260516,
          "sample_id": "dzwf",
          "unnormalized_error": 111.86108440647823
         },
         {
          "author": "Millard",
          "normalized_error": 0.5070243559619041,
          "sample_id": "zwf(15)",
          "unnormalized_error": 160.7574912339578
         },
         {
          "author": "Millard",
          "normalized_error": 0.3066284396827725,
          "sample_id": "WT",
          "unnormalized_error": 131.36388937669048
         },
         {
          "author": "Millard",
          "normalized_error": 0.6984904256707078,
          "sample_id": "dpgi",
          "unnormalized_error": 247.54565725707147
         },
         {
          "author": "Millard",
          "normalized_error": null,
          "sample_id": "eno(200)",
          "unnormalized_error": null
         },
         {
          "author": "Millard",
          "normalized_error": null,
          "sample_id": "eno(50)",
          "unnormalized_error": null
         },
         {
          "author": "Millard",
          "normalized_error": null,
          "sample_id": "eno(500)",
          "unnormalized_error": null
         },
         {
          "author": "Millard",
          "normalized_error": 0.4744666317916269,
          "sample_id": "pgi(0)",
          "unnormalized_error": 190.5548962046545
         },
         {
          "author": "Millard",
          "normalized_error": 0.39512463314277546,
          "sample_id": "pgi(100)",
          "unnormalized_error": 164.2881612923707
         },
         {
          "author": "Millard",
          "normalized_error": 0.863679333260289,
          "sample_id": "pgi(20)",
          "unnormalized_error": 1524.0853036524366
         },
         {
          "author": "Millard",
          "normalized_error": 0.47388293479827653,
          "sample_id": "pgi(50)",
          "unnormalized_error": 185.7074970757067
         },
         {
          "author": "Millard",
          "normalized_error": 0.3066284396827725,
          "sample_id": "WT",
          "unnormalized_error": 131.36388937669048
         },
         {
          "author": "Millard",
          "normalized_error": null,
          "sample_id": "dpgi",
          "unnormalized_error": null
         },
         {
          "author": "Millard",
          "normalized_error": null,
          "sample_id": "eno(0)",
          "unnormalized_error": null
         },
         {
          "author": "Millard",
          "normalized_error": 0.34906449658415795,
          "sample_id": "eno(200)",
          "unnormalized_error": 148.39227707055812
         },
         {
          "author": "Millard",
          "normalized_error": 0.3154443248192869,
          "sample_id": "eno(50)",
          "unnormalized_error": 135.09197382494665
         },
         {
          "author": "Millard",
          "normalized_error": 0.34886430993949347,
          "sample_id": "eno(500)",
          "unnormalized_error": 146.62366448711668
         },
         {
          "author": "Millard",
          "normalized_error": null,
          "sample_id": "pgi(0)",
          "unnormalized_error": null
         },
         {
          "author": "Millard",
          "normalized_error": null,
          "sample_id": "pgi(100)",
          "unnormalized_error": null
         },
         {
          "author": "Millard",
          "normalized_error": null,
          "sample_id": "pgi(20)",
          "unnormalized_error": null
         },
         {
          "author": "Millard",
          "normalized_error": null,
          "sample_id": "pgi(50)",
          "unnormalized_error": null
         },
         {
          "author": "Usui",
          "normalized_error": null,
          "sample_id": "WT",
          "unnormalized_error": null
         },
         {
          "author": "Usui",
          "normalized_error": null,
          "sample_id": "dzwf",
          "unnormalized_error": null
         },
         {
          "author": "Usui",
          "normalized_error": null,
          "sample_id": "zwf(15)",
          "unnormalized_error": null
         },
         {
          "author": "Usui",
          "normalized_error": 0,
          "sample_id": "WT",
          "unnormalized_error": 0
         },
         {
          "author": "Usui",
          "normalized_error": 0,
          "sample_id": "dpgi",
          "unnormalized_error": 0
         },
         {
          "author": "Usui",
          "normalized_error": 0,
          "sample_id": "eno(200)",
          "unnormalized_error": 0
         },
         {
          "author": "Usui",
          "normalized_error": 0,
          "sample_id": "eno(50)",
          "unnormalized_error": 0
         },
         {
          "author": "Usui",
          "normalized_error": 0,
          "sample_id": "eno(500)",
          "unnormalized_error": 0
         },
         {
          "author": "Usui",
          "normalized_error": 0,
          "sample_id": "pgi(0)",
          "unnormalized_error": 0
         },
         {
          "author": "Usui",
          "normalized_error": 0,
          "sample_id": "pgi(100)",
          "unnormalized_error": 0
         },
         {
          "author": "Usui",
          "normalized_error": 0,
          "sample_id": "pgi(20)",
          "unnormalized_error": 0
         },
         {
          "author": "Usui",
          "normalized_error": 0,
          "sample_id": "pgi(50)",
          "unnormalized_error": 0
         },
         {
          "author": "Usui",
          "normalized_error": 0,
          "sample_id": "WT",
          "unnormalized_error": 0
         },
         {
          "author": "Usui",
          "normalized_error": 0,
          "sample_id": "dpgi",
          "unnormalized_error": 0
         },
         {
          "author": "Usui",
          "normalized_error": null,
          "sample_id": "eno(0)",
          "unnormalized_error": null
         },
         {
          "author": "Usui",
          "normalized_error": 0,
          "sample_id": "eno(200)",
          "unnormalized_error": 0
         },
         {
          "author": "Usui",
          "normalized_error": 0,
          "sample_id": "eno(50)",
          "unnormalized_error": 0
         },
         {
          "author": "Usui",
          "normalized_error": 0,
          "sample_id": "eno(500)",
          "unnormalized_error": 0
         },
         {
          "author": "Usui",
          "normalized_error": 0,
          "sample_id": "pgi(0)",
          "unnormalized_error": 0
         },
         {
          "author": "Usui",
          "normalized_error": 0,
          "sample_id": "pgi(100)",
          "unnormalized_error": 0
         },
         {
          "author": "Usui",
          "normalized_error": 0,
          "sample_id": "pgi(20)",
          "unnormalized_error": 0
         },
         {
          "author": "Usui",
          "normalized_error": 0,
          "sample_id": "pgi(50)",
          "unnormalized_error": 0
         }
        ]
       },
       "encoding": {
        "color": {
         "condition": {
          "field": "author",
          "selection": "selector001",
          "sort": [
           "Khodayari",
           "Kurata",
           "Millard"
          ],
          "type": "nominal"
         },
         "value": "lightgray"
        },
        "opacity": {
         "condition": {
          "selection": "selector001",
          "value": 0.4
         },
         "value": 1
        },
        "size": {
         "condition": {
          "selection": "selector001",
          "value": 100
         },
         "value": 40
        },
        "tooltip": [
         {
          "field": "author",
          "type": "nominal"
         },
         {
          "field": "sample_id",
          "type": "nominal"
         },
         {
          "field": "normalized_error",
          "type": "quantitative"
         }
        ],
        "x": {
         "field": "author",
         "sort": [
          "Khodayari",
          "Kurata",
          "Millard"
         ],
         "type": "nominal"
        },
        "y": {
         "field": "normalized_error",
         "title": "Normalized error",
         "type": "quantitative"
        }
       },
       "height": 600,
       "mark": "circle",
       "selection": {
        "selector001": {
         "empty": "all",
         "fields": [
          "sample_id"
         ],
         "type": "single"
        }
       },
       "title": "Sensivity to zwf expression",
       "transform": [
        {
         "filter": "datum.normalized_error !== null"
        }
       ],
       "width": 700
      },
      "image/png": "[encoded data removed]",
      "text/plain": [
       "<VegaLite 3 object>\n",
       "\n",
       "If you see this message, it means the renderer has not been properly enabled\n",
       "for the frontend that you are using. For more information, see\n",
       "https://altair-viz.github.io/user_guide/troubleshooting.html\n"
      ]
     },
     "execution_count": 17,
     "metadata": {},
     "output_type": "execute_result"
    }
   ],
   "source": [
    "summary_chart(norm_error=summary_errors,\n",
    "              author=\"Nicolas\",\n",
    "              title=\"Sensivity to zwf expression\",\n",
    "              sort_list=[\"Khodayari\", \"Kurata\", \"Millard\"])"
   ]
  },
  {
   "cell_type": "code",
   "execution_count": 22,
   "metadata": {},
   "outputs": [
    {
     "data": {
      "application/vnd.vegalite.v3+json": {
       "$schema": "https://vega.github.io/schema/vega-lite/v3.2.1.json",
       "config": {
        "invalidValues": null,
        "mark": {
         "tooltip": null
        },
        "view": {
         "height": 300,
         "width": 400
        }
       },
       "data": {
        "name": "data-591ef9ba4eed59b8cdc728088e6d0ae0"
       },
       "datasets": {
        "data-591ef9ba4eed59b8cdc728088e6d0ae0": [
         {
          "author": "Khodayari",
          "normalized_error": 0.3601714901667807,
          "sample_id": "WT",
          "unnormalized_error": 154.3024770952614
         },
         {
          "author": "Khodayari",
          "normalized_error": 0.36347641425032007,
          "sample_id": "dpgi",
          "unnormalized_error": 128.8163796613832
         },
         {
          "author": "Khodayari",
          "normalized_error": null,
          "sample_id": "eno(200)",
          "unnormalized_error": null
         },
         {
          "author": "Khodayari",
          "normalized_error": null,
          "sample_id": "eno(50)",
          "unnormalized_error": null
         },
         {
          "author": "Khodayari",
          "normalized_error": null,
          "sample_id": "eno(500)",
          "unnormalized_error": null
         },
         {
          "author": "Khodayari",
          "normalized_error": 0.5428374182640061,
          "sample_id": "pgi(0)",
          "unnormalized_error": 218.0139149147343
         },
         {
          "author": "Khodayari",
          "normalized_error": 0.38943423950518213,
          "sample_id": "pgi(100)",
          "unnormalized_error": 161.92216274574957
         },
         {
          "author": "Khodayari",
          "normalized_error": 0.8559557483479983,
          "sample_id": "pgi(20)",
          "unnormalized_error": 1510.4559370541897
         },
         {
          "author": "Khodayari",
          "normalized_error": 0.5045136289779366,
          "sample_id": "pgi(50)",
          "unnormalized_error": 197.71119911283012
         },
         {
          "author": "Kurata",
          "normalized_error": 0.38923345746465693,
          "sample_id": "WT",
          "unnormalized_error": 166.75302819592534
         },
         {
          "author": "Kurata",
          "normalized_error": 0.5123164856443991,
          "sample_id": "dpgi",
          "unnormalized_error": 181.56543955588
         },
         {
          "author": "Kurata",
          "normalized_error": null,
          "sample_id": "eno(200)",
          "unnormalized_error": null
         },
         {
          "author": "Kurata",
          "normalized_error": null,
          "sample_id": "eno(50)",
          "unnormalized_error": null
         },
         {
          "author": "Kurata",
          "normalized_error": null,
          "sample_id": "eno(500)",
          "unnormalized_error": null
         },
         {
          "author": "Kurata",
          "normalized_error": 0.581407843316812,
          "sample_id": "pgi(0)",
          "unnormalized_error": 233.50453712088063
         },
         {
          "author": "Kurata",
          "normalized_error": 0.4228992468480448,
          "sample_id": "pgi(100)",
          "unnormalized_error": 175.83651802212123
         },
         {
          "author": "Kurata",
          "normalized_error": 0.8683895083607064,
          "sample_id": "pgi(20)",
          "unnormalized_error": 1532.3970790669032
         },
         {
          "author": "Kurata",
          "normalized_error": 0.5157828452895443,
          "sample_id": "pgi(50)",
          "unnormalized_error": 202.12743316887236
         },
         {
          "author": "Millard",
          "normalized_error": 0.3066284396827725,
          "sample_id": "WT",
          "unnormalized_error": 131.36388937669048
         },
         {
          "author": "Millard",
          "normalized_error": 0.6984904256707078,
          "sample_id": "dpgi",
          "unnormalized_error": 247.54565725707147
         },
         {
          "author": "Millard",
          "normalized_error": null,
          "sample_id": "eno(200)",
          "unnormalized_error": null
         },
         {
          "author": "Millard",
          "normalized_error": null,
          "sample_id": "eno(50)",
          "unnormalized_error": null
         },
         {
          "author": "Millard",
          "normalized_error": null,
          "sample_id": "eno(500)",
          "unnormalized_error": null
         },
         {
          "author": "Millard",
          "normalized_error": 0.4744666317916269,
          "sample_id": "pgi(0)",
          "unnormalized_error": 190.5548962046545
         },
         {
          "author": "Millard",
          "normalized_error": 0.39512463314277546,
          "sample_id": "pgi(100)",
          "unnormalized_error": 164.2881612923707
         },
         {
          "author": "Millard",
          "normalized_error": 0.863679333260289,
          "sample_id": "pgi(20)",
          "unnormalized_error": 1524.0853036524366
         },
         {
          "author": "Millard",
          "normalized_error": 0.47388293479827653,
          "sample_id": "pgi(50)",
          "unnormalized_error": 185.7074970757067
         }
        ]
       },
       "encoding": {
        "color": {
         "condition": {
          "field": "author",
          "selection": "selector006",
          "sort": [
           "Khodayari",
           "Kurata",
           "Millard"
          ],
          "type": "nominal"
         },
         "value": "lightgray"
        },
        "opacity": {
         "condition": {
          "selection": "selector006",
          "value": 0.4
         },
         "value": 1
        },
        "size": {
         "condition": {
          "selection": "selector006",
          "value": 100
         },
         "value": 40
        },
        "tooltip": [
         {
          "field": "author",
          "type": "nominal"
         },
         {
          "field": "sample_id",
          "type": "nominal"
         },
         {
          "field": "normalized_error",
          "type": "quantitative"
         }
        ],
        "x": {
         "field": "author",
         "sort": [
          "Khodayari",
          "Kurata",
          "Millard"
         ],
         "type": "nominal"
        },
        "y": {
         "field": "normalized_error",
         "title": "Normalized error",
         "type": "quantitative"
        }
       },
       "height": 600,
       "mark": "circle",
       "selection": {
        "selector006": {
         "empty": "all",
         "fields": [
          "sample_id"
         ],
         "type": "single"
        }
       },
       "title": "Sensivity to zwf expression",
       "transform": [
        {
         "filter": "datum.normalized_error !== null"
        }
       ],
       "width": 700
      },
      "image/png": "[encoded data removed]",
      "text/plain": [
       "<VegaLite 3 object>\n",
       "\n",
       "If you see this message, it means the renderer has not been properly enabled\n",
       "for the frontend that you are using. For more information, see\n",
       "https://altair-viz.github.io/user_guide/troubleshooting.html\n"
      ]
     },
     "execution_count": 22,
     "metadata": {},
     "output_type": "execute_result"
    }
   ],
   "source": [
    "summary_chart(norm_error=x_norm_error_pgi,\n",
    "              author=\"Usui\",\n",
    "              title=\"Sensivity to zwf expression\",\n",
    "              sort_list=[\"Khodayari\", \"Kurata\", \"Millard\"])"
   ]
  },
  {
   "cell_type": "code",
   "execution_count": 15,
   "metadata": {},
   "outputs": [
    {
     "data": {
      "application/vnd.vegalite.v3+json": {
       "$schema": "https://vega.github.io/schema/vega-lite/v3.2.1.json",
       "config": {
        "invalidValues": null,
        "mark": {
         "tooltip": null
        },
        "view": {
         "height": 300,
         "width": 400
        }
       },
       "data": {
        "name": "data-61c07a6ea2590b1262055498bce10c17"
       },
       "datasets": {
        "data-61c07a6ea2590b1262055498bce10c17": [
         {
          "author": "Khodayari",
          "normalized_error": 0.3601714901667807,
          "sample_id": "WT",
          "unnormalized_error": 154.3024770952614
         },
         {
          "author": "Khodayari",
          "normalized_error": null,
          "sample_id": "dpgi",
          "unnormalized_error": null
         },
         {
          "author": "Khodayari",
          "normalized_error": null,
          "sample_id": "eno(0)",
          "unnormalized_error": null
         },
         {
          "author": "Khodayari",
          "normalized_error": 0.4133483441993909,
          "sample_id": "eno(200)",
          "unnormalized_error": 175.72025404853568
         },
         {
          "author": "Khodayari",
          "normalized_error": 0.3679404261504206,
          "sample_id": "eno(50)",
          "unnormalized_error": 157.57391877989247
         },
         {
          "author": "Khodayari",
          "normalized_error": 0.414639501900478,
          "sample_id": "eno(500)",
          "unnormalized_error": 174.26822256568815
         },
         {
          "author": "Khodayari",
          "normalized_error": null,
          "sample_id": "pgi(0)",
          "unnormalized_error": null
         },
         {
          "author": "Khodayari",
          "normalized_error": null,
          "sample_id": "pgi(100)",
          "unnormalized_error": null
         },
         {
          "author": "Khodayari",
          "normalized_error": null,
          "sample_id": "pgi(20)",
          "unnormalized_error": null
         },
         {
          "author": "Khodayari",
          "normalized_error": null,
          "sample_id": "pgi(50)",
          "unnormalized_error": null
         },
         {
          "author": "Kurata",
          "normalized_error": 0.38923345746465693,
          "sample_id": "WT",
          "unnormalized_error": 166.75302819592534
         },
         {
          "author": "Kurata",
          "normalized_error": null,
          "sample_id": "dpgi",
          "unnormalized_error": null
         },
         {
          "author": "Kurata",
          "normalized_error": null,
          "sample_id": "eno(0)",
          "unnormalized_error": null
         },
         {
          "author": "Kurata",
          "normalized_error": 0.4257714974591877,
          "sample_id": "eno(200)",
          "unnormalized_error": 181.00151300972396
         },
         {
          "author": "Kurata",
          "normalized_error": 0.387519239772208,
          "sample_id": "eno(50)",
          "unnormalized_error": 165.9587282984446
         },
         {
          "author": "Kurata",
          "normalized_error": 0.42711584368738864,
          "sample_id": "eno(500)",
          "unnormalized_error": 179.51188578967302
         },
         {
          "author": "Kurata",
          "normalized_error": null,
          "sample_id": "pgi(0)",
          "unnormalized_error": null
         },
         {
          "author": "Kurata",
          "normalized_error": null,
          "sample_id": "pgi(100)",
          "unnormalized_error": null
         },
         {
          "author": "Kurata",
          "normalized_error": null,
          "sample_id": "pgi(20)",
          "unnormalized_error": null
         },
         {
          "author": "Kurata",
          "normalized_error": null,
          "sample_id": "pgi(50)",
          "unnormalized_error": null
         },
         {
          "author": "Millard",
          "normalized_error": 0.3066284396827725,
          "sample_id": "WT",
          "unnormalized_error": 131.36388937669048
         },
         {
          "author": "Millard",
          "normalized_error": null,
          "sample_id": "dpgi",
          "unnormalized_error": null
         },
         {
          "author": "Millard",
          "normalized_error": null,
          "sample_id": "eno(0)",
          "unnormalized_error": null
         },
         {
          "author": "Millard",
          "normalized_error": 0.34906449658415795,
          "sample_id": "eno(200)",
          "unnormalized_error": 148.39227707055812
         },
         {
          "author": "Millard",
          "normalized_error": 0.3154443248192869,
          "sample_id": "eno(50)",
          "unnormalized_error": 135.09197382494665
         },
         {
          "author": "Millard",
          "normalized_error": 0.34886430993949347,
          "sample_id": "eno(500)",
          "unnormalized_error": 146.62366448711668
         },
         {
          "author": "Millard",
          "normalized_error": null,
          "sample_id": "pgi(0)",
          "unnormalized_error": null
         },
         {
          "author": "Millard",
          "normalized_error": null,
          "sample_id": "pgi(100)",
          "unnormalized_error": null
         },
         {
          "author": "Millard",
          "normalized_error": null,
          "sample_id": "pgi(20)",
          "unnormalized_error": null
         },
         {
          "author": "Millard",
          "normalized_error": null,
          "sample_id": "pgi(50)",
          "unnormalized_error": null
         }
        ]
       },
       "encoding": {
        "color": {
         "condition": {
          "field": "author",
          "selection": "selector003",
          "sort": [
           "Khodayari",
           "Kurata",
           "Millard"
          ],
          "type": "nominal"
         },
         "value": "lightgray"
        },
        "opacity": {
         "condition": {
          "selection": "selector003",
          "value": 0.4
         },
         "value": 1
        },
        "size": {
         "condition": {
          "selection": "selector003",
          "value": 100
         },
         "value": 40
        },
        "tooltip": [
         {
          "field": "author",
          "type": "nominal"
         },
         {
          "field": "sample_id",
          "type": "nominal"
         },
         {
          "field": "normalized_error",
          "type": "quantitative"
         }
        ],
        "x": {
         "field": "author",
         "sort": [
          "Khodayari",
          "Kurata",
          "Millard"
         ],
         "type": "nominal"
        },
        "y": {
         "field": "normalized_error",
         "title": "Normalized error",
         "type": "quantitative"
        }
       },
       "height": 600,
       "mark": "circle",
       "selection": {
        "selector003": {
         "empty": "all",
         "fields": [
          "sample_id"
         ],
         "type": "single"
        }
       },
       "title": "Sensivity to eno expression",
       "transform": [
        {
         "filter": "datum.normalized_error !== null"
        }
       ],
       "width": 700
      },
      "image/png": "[encoded data removed]",
      "text/plain": [
       "<VegaLite 3 object>\n",
       "\n",
       "If you see this message, it means the renderer has not been properly enabled\n",
       "for the frontend that you are using. For more information, see\n",
       "https://altair-viz.github.io/user_guide/troubleshooting.html\n"
      ]
     },
     "execution_count": 15,
     "metadata": {},
     "output_type": "execute_result"
    }
   ],
   "source": [
    "summary_chart(norm_error=x_norm_error_eno,\n",
    "              author=\"Usui\",\n",
    "              title=\"Sensivity to eno expression\",\n",
    "              sort_list=[\"Khodayari\", \"Kurata\", \"Millard\"])"
   ]
  },
  {
   "cell_type": "code",
   "execution_count": 16,
   "metadata": {},
   "outputs": [
    {
     "data": {
      "application/vnd.vegalite.v3+json": {
       "$schema": "https://vega.github.io/schema/vega-lite/v3.2.1.json",
       "config": {
        "invalidValues": null,
        "mark": {
         "tooltip": null
        },
        "view": {
         "height": 300,
         "width": 400
        }
       },
       "data": {
        "name": "data-c33b77c030055ff6e490fcfc1ecc8851"
       },
       "datasets": {
        "data-c33b77c030055ff6e490fcfc1ecc8851": [
         {
          "BiGG_ID": "CS",
          "author": "Khodayari",
          "flux": 97.88618162147851,
          "normalized_flux": 89.11465149880189,
          "relative_error": 262.2546808894386,
          "sample_id": "WT",
          "symm_relative_error": 113.46761503196733
         },
         {
          "BiGG_ID": "CS",
          "author": "Khodayari",
          "flux": 4.242277397801772,
          "normalized_flux": 95.71049597332939,
          "relative_error": 88.0363378650872,
          "sample_id": "dzwf",
          "symm_relative_error": 61.128632947918106
         },
         {
          "BiGG_ID": "CS",
          "author": "Khodayari",
          "flux": 2.1739996580809304,
          "normalized_flux": 55.10956452151859,
          "relative_error": 92.69078504027479,
          "sample_id": "zwf(15)",
          "symm_relative_error": 63.33700258279083
         },
         {
          "BiGG_ID": "EDD",
          "author": "Khodayari",
          "flux": 2.5333074731332166e-09,
          "normalized_flux": 0,
          "relative_error": 100,
          "sample_id": "WT",
          "symm_relative_error": 200
         },
         {
          "BiGG_ID": "EDD",
          "author": "Khodayari",
          "flux": -1.1565891068222762e-10,
          "normalized_flux": 0,
          "relative_error": 0,
          "sample_id": "dzwf",
          "symm_relative_error": null
         },
         {
          "BiGG_ID": "EDD",
          "author": "Khodayari",
          "flux": 3.326007169641185e-10,
          "normalized_flux": 0,
          "relative_error": 100,
          "sample_id": "zwf(15)",
          "symm_relative_error": 200
         },
         {
          "BiGG_ID": "ENO",
          "author": "Khodayari",
          "flux": 170.8926650535724,
          "normalized_flux": 155.57906169882693,
          "relative_error": 2.0859984900439157,
          "sample_id": "WT",
          "symm_relative_error": 2.064466123957307
         },
         {
          "BiGG_ID": "ENO",
          "author": "Khodayari",
          "flux": 3.6268871191206227,
          "normalized_flux": 81.82660690462819,
          "relative_error": 51.23563354908928,
          "sample_id": "dzwf",
          "symm_relative_error": 68.88159412287219
         },
         {
          "BiGG_ID": "ENO",
          "author": "Khodayari",
          "flux": 3.9308177123289525,
          "normalized_flux": 99.64382999542141,
          "relative_error": 33.52646431259412,
          "sample_id": "zwf(15)",
          "symm_relative_error": 40.27843125233806
         },
         {
          "BiGG_ID": "FUM",
          "author": "Khodayari",
          "flux": 88.48903083195907,
          "normalized_flux": 80.55957453269858,
          "relative_error": 444.32144954526063,
          "sample_id": "WT",
          "symm_relative_error": 137.91918610154826
         },
         {
          "BiGG_ID": "FUM",
          "author": "Khodayari",
          "flux": 5.882955973301364,
          "normalized_flux": 132.7260292515752,
          "relative_error": 212.29653941547105,
          "sample_id": "dzwf",
          "symm_relative_error": 102.982450309407
         },
         {
          "BiGG_ID": "FUM",
          "author": "Khodayari",
          "flux": 4.390197975812612,
          "normalized_flux": 111.288839310976,
          "relative_error": 491.96191122859574,
          "sample_id": "zwf(15)",
          "symm_relative_error": 142.19335002272163
         },
         {
          "BiGG_ID": "G6PDH2r",
          "author": "Khodayari",
          "flux": 19.633288449774206,
          "normalized_flux": 17.87395962325672,
          "relative_error": 9.72747665021859,
          "sample_id": "WT",
          "symm_relative_error": 10.224783357013028
         },
         {
          "BiGG_ID": "G6PDH2r",
          "author": "Khodayari",
          "flux": 5.706006719479118e-08,
          "normalized_flux": 0,
          "relative_error": 0,
          "sample_id": "dzwf",
          "symm_relative_error": null
         },
         {
          "BiGG_ID": "G6PDH2r",
          "author": "Khodayari",
          "flux": 5.711482182615525,
          "normalized_flux": 144.7825875622271,
          "relative_error": 552.1738178478697,
          "sample_id": "zwf(15)",
          "symm_relative_error": 146.82080251816188
         },
         {
          "BiGG_ID": "GLCptspp",
          "author": "Khodayari",
          "flux": 109.71493023457475,
          "normalized_flux": 99.88343206477822,
          "relative_error": 0.11656793522178076,
          "sample_id": "WT",
          "symm_relative_error": 0.11663591526085407
         },
         {
          "BiGG_ID": "GLCptspp",
          "author": "Khodayari",
          "flux": 4.326026446702857,
          "normalized_flux": 97.59996765468877,
          "relative_error": 2.4000323453112316,
          "sample_id": "dzwf",
          "symm_relative_error": 2.429182933375123
         },
         {
          "BiGG_ID": "GLCptspp",
          "author": "Khodayari",
          "flux": 3.9505693556704005,
          "normalized_flux": 100.144522099528,
          "relative_error": 0.14452209952800388,
          "sample_id": "zwf(15)",
          "symm_relative_error": 0.1444177417517686
         },
         {
          "BiGG_ID": "GND",
          "author": "Khodayari",
          "flux": 17.885043681947643,
          "normalized_flux": 16.28237416513846,
          "relative_error": 11.523110720126443,
          "sample_id": "WT",
          "symm_relative_error": 10.895368057793997
         },
         {
          "BiGG_ID": "GND",
          "author": "Khodayari",
          "flux": 0.016756054458263052,
          "normalized_flux": 0.378035223153366,
          "relative_error": 100,
          "sample_id": "dzwf",
          "symm_relative_error": 200
         },
         {
          "BiGG_ID": "GND",
          "author": "Khodayari",
          "flux": 6.12779035018405,
          "normalized_flux": 155.33574553360648,
          "relative_error": 963.9434625589486,
          "sample_id": "zwf(15)",
          "symm_relative_error": 165.63406962047853
         },
         {
          "BiGG_ID": "ICDHyr",
          "author": "Khodayari",
          "flux": 83.71312124554416,
          "normalized_flux": 76.21163173492,
          "relative_error": 209.80338103626016,
          "sample_id": "WT",
          "symm_relative_error": 102.3922157527033
         },
         {
          "BiGG_ID": "ICDHyr",
          "author": "Khodayari",
          "flux": 4.012771291366417,
          "normalized_flux": 90.53258297612233,
          "relative_error": 77.86362077823641,
          "sample_id": "dzwf",
          "symm_relative_error": 56.04448726332516
         },
         {
          "BiGG_ID": "ICDHyr",
          "author": "Khodayari",
          "flux": 1.3479455006579473,
          "normalized_flux": 34.16959577885751,
          "relative_error": 19.4741111148864,
          "sample_id": "zwf(15)",
          "symm_relative_error": 17.746157864325458
         },
         {
          "BiGG_ID": "MDH",
          "author": "Khodayari",
          "flux": 96.65128973687752,
          "normalized_flux": 87.99041763747442,
          "relative_error": 494.5298489018542,
          "sample_id": "WT",
          "symm_relative_error": 142.40708291624125
         },
         {
          "BiGG_ID": "MDH",
          "author": "Khodayari",
          "flux": 6.148124062044246,
          "normalized_flux": 138.70851622968559,
          "relative_error": 337.56629725452865,
          "sample_id": "dzwf",
          "symm_relative_error": 125.59057328502745
         },
         {
          "BiGG_ID": "MDH",
          "author": "Khodayari",
          "flux": 1.9940260248513368,
          "normalized_flux": 50.54734275861655,
          "relative_error": 168.8688444607263,
          "sample_id": "zwf(15)",
          "symm_relative_error": 91.56037274311244
         },
         {
          "BiGG_ID": "PDH",
          "author": "Khodayari",
          "flux": 127.82654868886297,
          "normalized_flux": 116.37207775405918,
          "relative_error": 17.07452490348005,
          "sample_id": "WT",
          "symm_relative_error": 15.731486604494068
         },
         {
          "BiGG_ID": "PDH",
          "author": "Khodayari",
          "flux": 5.525177675584473,
          "normalized_flux": 124.65415296627594,
          "relative_error": 5.728713287765851,
          "sample_id": "dzwf",
          "symm_relative_error": 5.569191773199626
         },
         {
          "BiGG_ID": "PDH",
          "author": "Khodayari",
          "flux": 3.849557290723787,
          "normalized_flux": 97.58392790167005,
          "relative_error": 1.827034304154883,
          "sample_id": "zwf(15)",
          "symm_relative_error": 1.8438784500596377
         },
         {
          "BiGG_ID": "PFK",
          "author": "Khodayari",
          "flux": 91.51698678230457,
          "normalized_flux": 83.31619691594982,
          "relative_error": 2.8595023653701444,
          "sample_id": "WT",
          "symm_relative_error": 2.8191948930446413
         },
         {
          "BiGG_ID": "PFK",
          "author": "Khodayari",
          "flux": 4.274862010815152,
          "normalized_flux": 96.44564108058373,
          "relative_error": 4.491485461087464,
          "sample_id": "dzwf",
          "symm_relative_error": 4.3928337172181635
         },
         {
          "BiGG_ID": "PFK",
          "author": "Khodayari",
          "flux": 0.8932033635248757,
          "normalized_flux": 22.642160135601607,
          "relative_error": 71.15648390369222,
          "sample_id": "zwf(15)",
          "symm_relative_error": 110.4541168381407
         },
         {
          "BiGG_ID": "PGI",
          "author": "Khodayari",
          "flux": 87.40332033667244,
          "normalized_flux": 79.57115399352382,
          "relative_error": 1.493818869290582,
          "sample_id": "WT",
          "symm_relative_error": 1.4827441136143487
         },
         {
          "BiGG_ID": "PGI",
          "author": "Khodayari",
          "flux": 4.391612071114395,
          "normalized_flux": 99.07965227983881,
          "relative_error": 0.5884794719175748,
          "sample_id": "dzwf",
          "symm_relative_error": 0.5867530114060833
         },
         {
          "BiGG_ID": "PGI",
          "author": "Khodayari",
          "flux": -1.7912268960635274,
          "normalized_flux": -45.406508613911505,
          "relative_error": 159.82412202096378,
          "sample_id": "zwf(15)",
          "symm_relative_error": 200
         },
         {
          "BiGG_ID": "PGK",
          "author": "Khodayari",
          "flux": 173.22451715801984,
          "normalized_flux": 157.7019577418879,
          "relative_error": 4.94155651483551,
          "sample_id": "WT",
          "symm_relative_error": 5.066744537220044
         },
         {
          "BiGG_ID": "PGK",
          "author": "Khodayari",
          "flux": 3.763518538555009,
          "normalized_flux": 84.90916367622953,
          "relative_error": 52.670477326516426,
          "sample_id": "dzwf",
          "symm_relative_error": 71.50023480799084
         },
         {
          "BiGG_ID": "PGK",
          "author": "Khodayari",
          "flux": 4.189407605037752,
          "normalized_flux": 106.1989259559368,
          "relative_error": 35.04652846731694,
          "sample_id": "zwf(15)",
          "symm_relative_error": 42.492623091443086
         },
         {
          "BiGG_ID": "PPC",
          "author": "Khodayari",
          "flux": 18.542580262883167,
          "normalized_flux": 16.88098923303815,
          "relative_error": 35.07311833446865,
          "sample_id": "WT",
          "symm_relative_error": 42.53171827452154
         },
         {
          "BiGG_ID": "PPC",
          "author": "Khodayari",
          "flux": -1.8239678902463219,
          "normalized_flux": -41.15074405680341,
          "relative_error": 224.3224895975934,
          "sample_id": "dzwf",
          "symm_relative_error": 200
         },
         {
          "BiGG_ID": "PPC",
          "author": "Khodayari",
          "flux": -0.009061115392389185,
          "normalized_flux": -0.2296937451198108,
          "relative_error": 100.88343748123003,
          "sample_id": "zwf(15)",
          "symm_relative_error": 200
         },
         {
          "BiGG_ID": "PTAr",
          "author": "Khodayari",
          "flux": -0.004204445536508644,
          "normalized_flux": 0,
          "relative_error": 100,
          "sample_id": "WT",
          "symm_relative_error": 200
         },
         {
          "BiGG_ID": "PTAr",
          "author": "Khodayari",
          "flux": -0.025843622460342504,
          "normalized_flux": -0.5830608636551106,
          "relative_error": 101.32513832648888,
          "sample_id": "dzwf",
          "symm_relative_error": 199.99999999999997
         },
         {
          "BiGG_ID": "PTAr",
          "author": "Khodayari",
          "flux": -0.01698427946156662,
          "normalized_flux": -0.4305411186977587,
          "relative_error": 100.97850254249492,
          "sample_id": "zwf(15)",
          "symm_relative_error": 200.00000000000003
         },
         {
          "BiGG_ID": "PYK",
          "author": "Khodayari",
          "flux": 31.97041070963359,
          "normalized_flux": 29.105558736366287,
          "relative_error": 75.74536771969476,
          "sample_id": "WT",
          "symm_relative_error": 121.91958775238459
         },
         {
          "BiGG_ID": "PYK",
          "author": "Khodayari",
          "flux": 0.6513002037228581,
          "normalized_flux": 14.694056913427234,
          "relative_error": 88.61808139935923,
          "sample_id": "dzwf",
          "symm_relative_error": 159.12471703257125
         },
         {
          "BiGG_ID": "PYK",
          "author": "Khodayari",
          "flux": 0.19756656578930176,
          "normalized_flux": 5.008191866171424,
          "relative_error": 95.73407847855925,
          "sample_id": "zwf(15)",
          "symm_relative_error": 183.6344552114719
         },
         {
          "BiGG_ID": "TALA",
          "author": "Khodayari",
          "flux": 4.649987603897216,
          "normalized_flux": 4.233304619005837,
          "relative_error": 32.29076934393241,
          "sample_id": "WT",
          "symm_relative_error": 27.802025396990544
         },
         {
          "BiGG_ID": "TALA",
          "author": "Khodayari",
          "flux": 0.00988549079556833,
          "normalized_flux": 0.22302766610073474,
          "relative_error": 115.93054757862392,
          "sample_id": "dzwf",
          "symm_relative_error": 200
         },
         {
          "BiGG_ID": "TALA",
          "author": "Khodayari",
          "flux": 1.9336540948493717,
          "normalized_flux": 49.01695117857885,
          "relative_error": 1431.779724330589,
          "sample_id": "zwf(15)",
          "symm_relative_error": 175.48688747409864
         },
         {
          "BiGG_ID": "TKT1",
          "author": "Khodayari",
          "flux": 4.545781154932982,
          "normalized_flux": 4.138436056052946,
          "relative_error": 29.326126751654552,
          "sample_id": "WT",
          "symm_relative_error": 25.575914237990737
         },
         {
          "BiGG_ID": "TKT1",
          "author": "Khodayari",
          "flux": -0.004905628830943698,
          "normalized_flux": -0.11067644202474299,
          "relative_error": 92.0945398553755,
          "sample_id": "dzwf",
          "symm_relative_error": 170.69486517539002
         },
         {
          "BiGG_ID": "TKT1",
          "author": "Khodayari",
          "flux": 2.512690576163507,
          "normalized_flux": 63.69517258890924,
          "relative_error": 1890.4741434034136,
          "sample_id": "zwf(15)",
          "symm_relative_error": 180.86558490750923
         }
        ]
       },
       "encoding": {
        "color": {
         "condition": {
          "test": "datum.relative_error === null",
          "value": "lightgrey"
         },
         "field": "relative_error",
         "scale": {
          "domain": [
           0,
           25,
           50,
           75,
           100,
           200,
           300
          ],
          "scheme": "greenblue",
          "type": "threshold"
         },
         "title": "relative error (clipped at 300)",
         "type": "quantitative"
        },
        "tooltip": [
         {
          "field": "sample_id",
          "type": "nominal"
         },
         {
          "field": "BiGG_ID",
          "type": "nominal"
         },
         {
          "field": "relative_error",
          "type": "quantitative"
         },
         {
          "field": "normalized_flux",
          "type": "quantitative"
         }
        ],
        "x": {
         "field": "sample_id",
         "type": "nominal"
        },
        "y": {
         "field": "BiGG_ID",
         "type": "nominal"
        }
       },
       "mark": "rect",
       "title": "Heatmap for author Khodayari"
      },
      "image/png": "[encoded data removed]",
      "text/plain": [
       "<VegaLite 3 object>\n",
       "\n",
       "If you see this message, it means the renderer has not been properly enabled\n",
       "for the frontend that you are using. For more information, see\n",
       "https://altair-viz.github.io/user_guide/troubleshooting.html\n"
      ]
     },
     "execution_count": 16,
     "metadata": {},
     "output_type": "execute_result"
    }
   ],
   "source": [
    "heatmap(xdf=x_rel_error_zwf, author=\"Khodayari\")"
   ]
  },
  {
   "cell_type": "code",
   "execution_count": 17,
   "metadata": {},
   "outputs": [
    {
     "data": {
      "application/vnd.vegalite.v3+json": {
       "$schema": "https://vega.github.io/schema/vega-lite/v3.2.1.json",
       "config": {
        "invalidValues": null,
        "mark": {
         "tooltip": null
        },
        "view": {
         "height": 300,
         "width": 400
        }
       },
       "data": {
        "name": "data-014a4ed2e23252a52c55f30d3d8d7163"
       },
       "datasets": {
        "data-014a4ed2e23252a52c55f30d3d8d7163": [
         {
          "BiGG_ID": "CS",
          "author": "Kurata",
          "flux": 2835.679164521293,
          "normalized_flux": 75.37803062929935,
          "relative_error": 206.41475865568836,
          "sample_id": "WT",
          "symm_relative_error": 101.57837738887896
         },
         {
          "BiGG_ID": "CS",
          "author": "Kurata",
          "flux": 3049.837546231433,
          "normalized_flux": 82.88080265662099,
          "relative_error": 62.83065354935361,
          "sample_id": "dzwf",
          "symm_relative_error": 47.81075015479916
         },
         {
          "BiGG_ID": "CS",
          "author": "Kurata",
          "flux": 355.62931225048845,
          "normalized_flux": 15.63848601688286,
          "relative_error": 45.319978961948046,
          "sample_id": "zwf(15)",
          "symm_relative_error": 58.59836151793532
         },
         {
          "BiGG_ID": "EDD",
          "author": "Kurata",
          "flux": 223.62878946364998,
          "normalized_flux": 5.9445010397111755,
          "relative_error": 14.31732768675337,
          "sample_id": "WT",
          "symm_relative_error": 13.36086805606274
         },
         {
          "BiGG_ID": "EDD",
          "author": "Kurata",
          "flux": -0.07408579294953753,
          "normalized_flux": 0,
          "relative_error": 0,
          "sample_id": "dzwf",
          "symm_relative_error": null
         },
         {
          "BiGG_ID": "EDD",
          "author": "Kurata",
          "flux": 571.4064928504829,
          "normalized_flux": 25.127097628286347,
          "relative_error": 230.6197056353467,
          "sample_id": "zwf(15)",
          "symm_relative_error": 107.11061412997107
         },
         {
          "BiGG_ID": "ENO",
          "author": "Kurata",
          "flux": 5722.163001091468,
          "normalized_flux": 152.10655117781303,
          "relative_error": 0.19255172059512743,
          "sample_id": "WT",
          "symm_relative_error": 0.1927372800696286
         },
         {
          "BiGG_ID": "ENO",
          "author": "Kurata",
          "flux": 5959.748511429448,
          "normalized_flux": 161.95903315218484,
          "relative_error": 3.4809099212247716,
          "sample_id": "dzwf",
          "symm_relative_error": 3.5425666990717684
         },
         {
          "BiGG_ID": "ENO",
          "author": "Kurata",
          "flux": 2131.9765091900877,
          "normalized_flux": 93.75179063926029,
          "relative_error": 37.45711098114724,
          "sample_id": "zwf(15)",
          "symm_relative_error": 46.08889531525765
         },
         {
          "BiGG_ID": "FUM",
          "author": "Kurata",
          "flux": 1975.2653896725612,
          "normalized_flux": 52.506509518635355,
          "relative_error": 254.7737129637524,
          "sample_id": "WT",
          "symm_relative_error": 112.04416864967703
         },
         {
          "BiGG_ID": "FUM",
          "author": "Kurata",
          "flux": 2134.765127750789,
          "normalized_flux": 58.013269424785044,
          "relative_error": 36.50181041125893,
          "sample_id": "dzwf",
          "symm_relative_error": 30.868102318358588
         },
         {
          "BiGG_ID": "FUM",
          "author": "Kurata",
          "flux": 233.82511028953866,
          "normalized_flux": 10.282253435519559,
          "relative_error": 45.307162577023625,
          "sample_id": "zwf(15)",
          "symm_relative_error": 58.5769365043584
         },
         {
          "BiGG_ID": "G6PDH2r",
          "author": "Kurata",
          "flux": 906.8756893959542,
          "normalized_flux": 24.106571839129472,
          "relative_error": 21.750362823886217,
          "sample_id": "WT",
          "symm_relative_error": 19.616980596473997
         },
         {
          "BiGG_ID": "G6PDH2r",
          "author": "Kurata",
          "flux": 0,
          "normalized_flux": 0,
          "relative_error": 0,
          "sample_id": "dzwf",
          "symm_relative_error": null
         },
         {
          "BiGG_ID": "G6PDH2r",
          "author": "Kurata",
          "flux": 2337.314755803554,
          "normalized_flux": 102.78135931591125,
          "relative_error": 362.97909601761825,
          "sample_id": "zwf(15)",
          "symm_relative_error": 128.94940454636662
         },
         {
          "BiGG_ID": "GLCptspp",
          "author": "Kurata",
          "flux": 3288.4727117382376,
          "normalized_flux": 87.41418983161508,
          "relative_error": 12.585810168384926,
          "sample_id": "WT",
          "symm_relative_error": 13.43101093859843
         },
         {
          "BiGG_ID": "GLCptspp",
          "author": "Kurata",
          "flux": 3342.8260224529795,
          "normalized_flux": 90.84290546055158,
          "relative_error": 9.157094539448423,
          "sample_id": "dzwf",
          "symm_relative_error": 9.596473620384334
         },
         {
          "BiGG_ID": "GLCptspp",
          "author": "Kurata",
          "flux": 1807.9094185730748,
          "normalized_flux": 79.5012255408005,
          "relative_error": 20.498774459199495,
          "sample_id": "zwf(15)",
          "symm_relative_error": 22.839704183011428
         },
         {
          "BiGG_ID": "GND",
          "author": "Kurata",
          "flux": 683.1884120625133,
          "normalized_flux": 18.160516074717528,
          "relative_error": 24.387096402174848,
          "sample_id": "WT",
          "symm_relative_error": 21.736629951719877
         },
         {
          "BiGG_ID": "GND",
          "author": "Kurata",
          "flux": 0.07408231790766,
          "normalized_flux": 0,
          "relative_error": 0,
          "sample_id": "dzwf",
          "symm_relative_error": null
         },
         {
          "BiGG_ID": "GND",
          "author": "Kurata",
          "flux": 1542.4044401506912,
          "normalized_flux": 67.82587778558879,
          "relative_error": 364.56080675060815,
          "sample_id": "zwf(15)",
          "symm_relative_error": 129.1484645733302
         },
         {
          "BiGG_ID": "ICDHyr",
          "author": "Kurata",
          "flux": 2835.6658739729132,
          "normalized_flux": 75.37767733990914,
          "relative_error": 206.41332251995584,
          "sample_id": "WT",
          "symm_relative_error": 101.57802959809244
         },
         {
          "BiGG_ID": "ICDHyr",
          "author": "Kurata",
          "flux": 3049.824010463816,
          "normalized_flux": 82.88043481562367,
          "relative_error": 62.82993087548856,
          "sample_id": "dzwf",
          "symm_relative_error": 47.81033169715608
         },
         {
          "BiGG_ID": "ICDHyr",
          "author": "Kurata",
          "flux": 37.23126967519335,
          "normalized_flux": 1.6372123167288395,
          "relative_error": 94.27548141003903,
          "sample_id": "zwf(15)",
          "symm_relative_error": 178.34175585263137
         },
         {
          "BiGG_ID": "MDH",
          "author": "Kurata",
          "flux": 1719.3049068789874,
          "normalized_flux": 45.702567326126655,
          "relative_error": 208.80113058193683,
          "sample_id": "WT",
          "symm_relative_error": 102.15291248568914
         },
         {
          "BiGG_ID": "MDH",
          "author": "Kurata",
          "flux": 1860.781862160113,
          "normalized_flux": 50.56764236353494,
          "relative_error": 59.51937654111967,
          "sample_id": "dzwf",
          "symm_relative_error": 45.868926886612726
         },
         {
          "BiGG_ID": "MDH",
          "author": "Kurata",
          "flux": 303.19418477465655,
          "normalized_flux": 13.332697434285105,
          "relative_error": 29.081396626143057,
          "sample_id": "zwf(15)",
          "symm_relative_error": 34.02952756702813
         },
         {
          "BiGG_ID": "PDH",
          "author": "Kurata",
          "flux": 3710.1654892202496,
          "normalized_flux": 98.6236282952078,
          "relative_error": 0.7810580531108766,
          "sample_id": "WT",
          "symm_relative_error": 0.7841202703697756
         },
         {
          "BiGG_ID": "PDH",
          "author": "Kurata",
          "flux": 3616.1692032023693,
          "normalized_flux": 98.27113790828214,
          "relative_error": 16.648737991278935,
          "sample_id": "dzwf",
          "symm_relative_error": 18.160483662759887
         },
         {
          "BiGG_ID": "PDH",
          "author": "Kurata",
          "flux": 2392.5278252856515,
          "normalized_flux": 105.20930545336797,
          "relative_error": 5.844371683468781,
          "sample_id": "zwf(15)",
          "symm_relative_error": 5.678437195704136
         },
         {
          "BiGG_ID": "PFK",
          "author": "Kurata",
          "flux": 2682.9345375978205,
          "normalized_flux": 71.31777257516153,
          "relative_error": 11.953367191158609,
          "sample_id": "WT",
          "symm_relative_error": 12.713194607754332
         },
         {
          "BiGG_ID": "PFK",
          "author": "Kurata",
          "flux": 3045.6945586750676,
          "normalized_flux": 82.76821497650266,
          "relative_error": 10.326961022207296,
          "sample_id": "dzwf",
          "symm_relative_error": 10.889223980237274
         },
         {
          "BiGG_ID": "PFK",
          "author": "Kurata",
          "flux": 537.0457738105366,
          "normalized_flux": 23.616115249371088,
          "relative_error": 69.91577675239351,
          "sample_id": "zwf(15)",
          "symm_relative_error": 107.49309179378899
         },
         {
          "BiGG_ID": "PGI",
          "author": "Kurata",
          "flux": 2838.297656989429,
          "normalized_flux": 75.44763540262322,
          "relative_error": 3.7657711701234504,
          "sample_id": "WT",
          "symm_relative_error": 3.838037015844113
         },
         {
          "BiGG_ID": "PGI",
          "author": "Kurata",
          "flux": 3662.16670587362,
          "normalized_flux": 99.52114217369096,
          "relative_error": 1.0366925621228036,
          "sample_id": "dzwf",
          "symm_relative_error": 1.031346615297556
         },
         {
          "BiGG_ID": "PGI",
          "author": "Kurata",
          "flux": -63.3505361108072,
          "normalized_flux": -2.7857840706704295,
          "relative_error": 103.67033474396632,
          "sample_id": "zwf(15)",
          "symm_relative_error": 200
         },
         {
          "BiGG_ID": "PGK",
          "author": "Kurata",
          "flux": 5722.163001091468,
          "normalized_flux": 152.10655117781303,
          "relative_error": 8.314315142969846,
          "sample_id": "WT",
          "symm_relative_error": 8.674946331199562
         },
         {
          "BiGG_ID": "PGK",
          "author": "Kurata",
          "flux": 5959.748511429448,
          "normalized_flux": 161.95903315218484,
          "relative_error": 9.721832133676232,
          "sample_id": "dzwf",
          "symm_relative_error": 10.218547133064805
         },
         {
          "BiGG_ID": "PGK",
          "author": "Kurata",
          "flux": 2131.9765091900877,
          "normalized_flux": 93.75179063926029,
          "relative_error": 42.659455266507464,
          "sample_id": "zwf(15)",
          "symm_relative_error": 54.2256356602364
         },
         {
          "BiGG_ID": "PPC",
          "author": "Kurata",
          "flux": 2013.9715056379146,
          "normalized_flux": 53.53539558983874,
          "relative_error": 105.90536765322594,
          "sample_id": "WT",
          "symm_relative_error": 69.24060762038029
         },
         {
          "BiGG_ID": "PPC",
          "author": "Kurata",
          "flux": 2095.6794115230755,
          "normalized_flux": 56.95109628137789,
          "relative_error": 72.05769269298456,
          "sample_id": "dzwf",
          "symm_relative_error": 52.972361839664075
         },
         {
          "BiGG_ID": "PPC",
          "author": "Kurata",
          "flux": 159.3658281974427,
          "normalized_flux": 7.0079720371285035,
          "relative_error": 73.04626139565961,
          "sample_id": "zwf(15)",
          "symm_relative_error": 115.0754002185206
         },
         {
          "BiGG_ID": "PTAr",
          "author": "Kurata",
          "flux": 375.33376296763856,
          "normalized_flux": 9.977123024057256,
          "relative_error": 79.21432703321405,
          "sample_id": "WT",
          "symm_relative_error": 131.16510441597933
         },
         {
          "BiGG_ID": "PTAr",
          "author": "Kurata",
          "flux": 309.41003410913754,
          "normalized_flux": 8.408366540265495,
          "relative_error": 80.89007604485114,
          "sample_id": "dzwf",
          "symm_relative_error": 135.8242426135886
         },
         {
          "BiGG_ID": "PTAr",
          "author": "Kurata",
          "flux": 1355.8705242180756,
          "normalized_flux": 59.62321300093814,
          "relative_error": 35.507302274859406,
          "sample_id": "zwf(15)",
          "symm_relative_error": 30.153886467111754
         },
         {
          "BiGG_ID": "PYK",
          "author": "Kurata",
          "flux": 244.96625702197198,
          "normalized_flux": 6.511693655605857,
          "relative_error": 94.57358862032845,
          "sample_id": "WT",
          "symm_relative_error": 179.41156752408298
         },
         {
          "BiGG_ID": "PYK",
          "author": "Kurata",
          "flux": 286.34338878846796,
          "normalized_flux": 7.7815193558523434,
          "relative_error": 93.97248694356907,
          "sample_id": "dzwf",
          "symm_relative_error": 177.26056989293744
         },
         {
          "BiGG_ID": "PYK",
          "author": "Kurata",
          "flux": 19.902436813319,
          "normalized_flux": 0.8751921427324818,
          "relative_error": 99.25452117314099,
          "sample_id": "zwf(15)",
          "symm_relative_error": 197.04014974948822
         },
         {
          "BiGG_ID": "TALA",
          "author": "Kurata",
          "flux": 223.58694968508613,
          "normalized_flux": 5.943388854612957,
          "relative_error": 85.73090170665489,
          "sample_id": "WT",
          "symm_relative_error": 60.00814136279201
         },
         {
          "BiGG_ID": "TALA",
          "author": "Kurata",
          "flux": 6.088656287708747,
          "normalized_flux": 0.16546216399268165,
          "relative_error": 111.81872599947727,
          "sample_id": "dzwf",
          "symm_relative_error": 200
         },
         {
          "BiGG_ID": "TALA",
          "author": "Kurata",
          "flux": 500.58939393203104,
          "normalized_flux": 22.012978029471135,
          "relative_error": 587.905563420973,
          "sample_id": "zwf(15)",
          "symm_relative_error": 149.2324945310378
         },
         {
          "BiGG_ID": "TKT1",
          "author": "Kurata",
          "flux": 223.6716732914325,
          "normalized_flux": 5.945640977728331,
          "relative_error": 85.80128055401033,
          "sample_id": "WT",
          "symm_relative_error": 60.04261449612066
         },
         {
          "BiGG_ID": "TKT1",
          "author": "Kurata",
          "flux": 6.182391257872142,
          "normalized_flux": 0.16800945690463898,
          "relative_error": 112.00067549318851,
          "sample_id": "dzwf",
          "symm_relative_error": 200
         },
         {
          "BiGG_ID": "TKT1",
          "author": "Kurata",
          "flux": 500.64491628459405,
          "normalized_flux": 22.015419576059877,
          "relative_error": 587.9818617518711,
          "sample_id": "zwf(15)",
          "symm_relative_error": 149.23741022278043
         }
        ]
       },
       "encoding": {
        "color": {
         "condition": {
          "test": "datum.relative_error === null",
          "value": "lightgrey"
         },
         "field": "relative_error",
         "scale": {
          "domain": [
           0,
           25,
           50,
           75,
           100,
           200,
           300
          ],
          "scheme": "greenblue",
          "type": "threshold"
         },
         "title": "relative error (clipped at 300)",
         "type": "quantitative"
        },
        "tooltip": [
         {
          "field": "sample_id",
          "type": "nominal"
         },
         {
          "field": "BiGG_ID",
          "type": "nominal"
         },
         {
          "field": "relative_error",
          "type": "quantitative"
         },
         {
          "field": "normalized_flux",
          "type": "quantitative"
         }
        ],
        "x": {
         "field": "sample_id",
         "type": "nominal"
        },
        "y": {
         "field": "BiGG_ID",
         "type": "nominal"
        }
       },
       "mark": "rect",
       "title": "Heatmap for author Kurata"
      },
      "image/png": "[encoded data removed]",
      "text/plain": [
       "<VegaLite 3 object>\n",
       "\n",
       "If you see this message, it means the renderer has not been properly enabled\n",
       "for the frontend that you are using. For more information, see\n",
       "https://altair-viz.github.io/user_guide/troubleshooting.html\n"
      ]
     },
     "execution_count": 17,
     "metadata": {},
     "output_type": "execute_result"
    }
   ],
   "source": [
    "heatmap(xdf=x_rel_error_zwf, author=\"Kurata\")"
   ]
  },
  {
   "cell_type": "code",
   "execution_count": 18,
   "metadata": {},
   "outputs": [
    {
     "data": {
      "application/vnd.vegalite.v3+json": {
       "$schema": "https://vega.github.io/schema/vega-lite/v3.2.1.json",
       "config": {
        "invalidValues": null,
        "mark": {
         "tooltip": null
        },
        "view": {
         "height": 300,
         "width": 400
        }
       },
       "data": {
        "name": "data-ee538e4a18245bcfe30e5cd9d4bfdedf"
       },
       "datasets": {
        "data-ee538e4a18245bcfe30e5cd9d4bfdedf": [
         {
          "BiGG_ID": "CS",
          "author": "Millard",
          "flux": 0.3137440755818657,
          "normalized_flux": 78.43601889546868,
          "relative_error": 218.84560526613282,
          "sample_id": "WT",
          "symm_relative_error": 104.49941578213728
         },
         {
          "BiGG_ID": "CS",
          "author": "Millard",
          "flux": 0.3234354675319849,
          "normalized_flux": 80.85886688286216,
          "relative_error": 58.85828464216535,
          "sample_id": "dzwf",
          "symm_relative_error": 45.47529527480918
         },
         {
          "BiGG_ID": "CS",
          "author": "Millard",
          "flux": 0.2831562509123585,
          "normalized_flux": 70.78906272810285,
          "relative_error": 147.51420534301693,
          "sample_id": "zwf(15)",
          "symm_relative_error": 84.89679159872716
         },
         {
          "BiGG_ID": "EDD",
          "author": "Millard",
          "flux": 0.023946084178636917,
          "normalized_flux": 5.986521044659402,
          "relative_error": 15.1254047049885,
          "sample_id": "WT",
          "symm_relative_error": 14.06194189452489
         },
         {
          "BiGG_ID": "EDD",
          "author": "Millard",
          "flux": 0.000244140741674659,
          "normalized_flux": 0,
          "relative_error": 0,
          "sample_id": "dzwf",
          "symm_relative_error": null
         },
         {
          "BiGG_ID": "EDD",
          "author": "Millard",
          "flux": 0.06555205302161214,
          "normalized_flux": 16.388013255406097,
          "relative_error": 115.63175336060655,
          "sample_id": "zwf(15)",
          "symm_relative_error": 73.27003834655271
         },
         {
          "BiGG_ID": "ENO",
          "author": "Millard",
          "flux": 0.6234180856289518,
          "normalized_flux": 155.85452140724243,
          "relative_error": 2.2667463302115642,
          "sample_id": "WT",
          "symm_relative_error": 2.241343543946642
         },
         {
          "BiGG_ID": "ENO",
          "author": "Millard",
          "flux": 0.6596336768669474,
          "normalized_flux": 164.90841921646341,
          "relative_error": 1.723230502703574,
          "sample_id": "dzwf",
          "symm_relative_error": 1.7382071607002558
         },
         {
          "BiGG_ID": "ENO",
          "author": "Millard",
          "flux": 0.5324209898786282,
          "normalized_flux": 133.1052474696819,
          "relative_error": 11.203971000879323,
          "sample_id": "zwf(15)",
          "symm_relative_error": 11.868862984328453
         },
         {
          "BiGG_ID": "FUM",
          "author": "Millard",
          "flux": 0.2776099650485336,
          "normalized_flux": 69.4024912621354,
          "relative_error": 368.93575177118515,
          "sample_id": "WT",
          "symm_relative_error": 129.69329159668064
         },
         {
          "BiGG_ID": "FUM",
          "author": "Millard",
          "flux": 0.2869956831594457,
          "normalized_flux": 71.74892078974246,
          "relative_error": 68.82099009351165,
          "sample_id": "dzwf",
          "symm_relative_error": 51.20209554289023
         },
         {
          "BiGG_ID": "FUM",
          "author": "Millard",
          "flux": 0.2490587057830467,
          "normalized_flux": 62.264676445773304,
          "relative_error": 231.19508747751757,
          "sample_id": "zwf(15)",
          "symm_relative_error": 107.23456467465998
         },
         {
          "BiGG_ID": "G6PDH2r",
          "author": "Millard",
          "flux": 0.06477116112680023,
          "normalized_flux": 16.192790281700525,
          "relative_error": 18.2182309005024,
          "sample_id": "WT",
          "symm_relative_error": 20.044068215147274
         },
         {
          "BiGG_ID": "G6PDH2r",
          "author": "Millard",
          "flux": 0,
          "normalized_flux": 0,
          "relative_error": 0,
          "sample_id": "dzwf",
          "symm_relative_error": null
         },
         {
          "BiGG_ID": "G6PDH2r",
          "author": "Millard",
          "flux": 0.2780578161397373,
          "normalized_flux": 69.5144540349473,
          "relative_error": 213.12817132859146,
          "sample_id": "zwf(15)",
          "symm_relative_error": 103.17774778862747
         },
         {
          "BiGG_ID": "GLCptspp",
          "author": "Millard",
          "flux": 0.3999999999999886,
          "normalized_flux": 100.00000000000001,
          "relative_error": 1.4210854715202004e-14,
          "sample_id": "WT",
          "symm_relative_error": 1.4210854715202004e-14
         },
         {
          "BiGG_ID": "GLCptspp",
          "author": "Millard",
          "flux": 0.4000000000009516,
          "normalized_flux": 100.00000000007209,
          "relative_error": 7.209166597021976e-11,
          "sample_id": "dzwf",
          "symm_relative_error": 7.209166597019379e-11
         },
         {
          "BiGG_ID": "GLCptspp",
          "author": "Millard",
          "flux": 0.4000000000000004,
          "normalized_flux": 100.00000000001879,
          "relative_error": 1.878674993349705e-11,
          "sample_id": "zwf(15)",
          "symm_relative_error": 1.8786749933495285e-11
         },
         {
          "BiGG_ID": "GND",
          "author": "Millard",
          "flux": 0.04082507694750597,
          "normalized_flux": 10.206269236876787,
          "relative_error": 30.09404632276173,
          "sample_id": "WT",
          "symm_relative_error": 35.42435761836794
         },
         {
          "BiGG_ID": "GND",
          "author": "Millard",
          "flux": -0.0002441407417340415,
          "normalized_flux": 0,
          "relative_error": 0,
          "sample_id": "dzwf",
          "symm_relative_error": null
         },
         {
          "BiGG_ID": "GND",
          "author": "Millard",
          "flux": 0.21250576302640511,
          "normalized_flux": 53.126440756611196,
          "relative_error": 263.87973120966575,
          "sample_id": "zwf(15)",
          "symm_relative_error": 113.77075282920546
         },
         {
          "BiGG_ID": "ICDHyr",
          "author": "Millard",
          "flux": 0.2263877057428066,
          "normalized_flux": 56.59692643570328,
          "relative_error": 130.0688066492003,
          "sample_id": "WT",
          "symm_relative_error": 78.81314685240065
         },
         {
          "BiGG_ID": "ICDHyr",
          "author": "Millard",
          "flux": 0.2391804706859476,
          "normalized_flux": 59.79511767138776,
          "relative_error": 17.47567322473037,
          "sample_id": "dzwf",
          "symm_relative_error": 16.071382114239263
         },
         {
          "BiGG_ID": "ICDHyr",
          "author": "Millard",
          "flux": 0.18748227401108114,
          "normalized_flux": 46.87056850277904,
          "relative_error": 63.883106653073554,
          "sample_id": "zwf(15)",
          "symm_relative_error": 48.417731216921375
         },
         {
          "BiGG_ID": "MDH",
          "author": "Millard",
          "flux": 0.34635849605564584,
          "normalized_flux": 86.58962401391396,
          "relative_error": 485.06502712104026,
          "sample_id": "WT",
          "symm_relative_error": 141.61138225359645
         },
         {
          "BiGG_ID": "MDH",
          "author": "Millard",
          "flux": 0.35252784907443013,
          "normalized_flux": 88.13196226846141,
          "relative_error": 178.01880841785933,
          "sample_id": "dzwf",
          "symm_relative_error": 94.18515928502615
         },
         {
          "BiGG_ID": "MDH",
          "author": "Millard",
          "flux": 0.32893786613939735,
          "normalized_flux": 82.23446653486471,
          "relative_error": 337.41737518545057,
          "sample_id": "zwf(15)",
          "symm_relative_error": 125.56995391859651
         },
         {
          "BiGG_ID": "PDH",
          "author": "Millard",
          "flux": 0.5265643684590613,
          "normalized_flux": 131.64109211476912,
          "relative_error": 32.435706352886434,
          "sample_id": "WT",
          "symm_relative_error": 27.909400721455583
         },
         {
          "BiGG_ID": "PDH",
          "author": "Millard",
          "flux": 0.5342157622139989,
          "normalized_flux": 133.5539405532783,
          "relative_error": 13.277303268259788,
          "sample_id": "dzwf",
          "symm_relative_error": 12.450741888422717
         },
         {
          "BiGG_ID": "PDH",
          "author": "Millard",
          "flux": 0.4972228006892359,
          "normalized_flux": 124.30570017233218,
          "relative_error": 25.05603639067623,
          "sample_id": "zwf(15)",
          "symm_relative_error": 22.266486864792462
         },
         {
          "BiGG_ID": "PFK",
          "author": "Millard",
          "flux": 0.3293483031313731,
          "normalized_flux": 82.33707578284564,
          "relative_error": 1.6507108430193145,
          "sample_id": "WT",
          "symm_relative_error": 1.6371981394147992
         },
         {
          "BiGG_ID": "PFK",
          "author": "Millard",
          "flux": 0.3664550105870057,
          "normalized_flux": 91.61375264659952,
          "relative_error": 0.7434965908997562,
          "sample_id": "dzwf",
          "symm_relative_error": 0.7462708400269961
         },
         {
          "BiGG_ID": "PFK",
          "author": "Millard",
          "flux": 0.2324403430338226,
          "normalized_flux": 58.110085758466504,
          "relative_error": 25.974413046539485,
          "sample_id": "zwf(15)",
          "symm_relative_error": 29.85125750903032
         },
         {
          "BiGG_ID": "PGI",
          "author": "Millard",
          "flux": 0.32835743424463104,
          "normalized_flux": 82.08935856116013,
          "relative_error": 4.705814491275662,
          "sample_id": "WT",
          "symm_relative_error": 4.597636371951925
         },
         {
          "BiGG_ID": "PGI",
          "author": "Millard",
          "flux": 0.39307046737996015,
          "normalized_flux": 98.26761684482712,
          "relative_error": 0.23592198494708935,
          "sample_id": "dzwf",
          "symm_relative_error": 0.23620060953031988
         },
         {
          "BiGG_ID": "PGI",
          "author": "Millard",
          "flux": 0.11545806050108688,
          "normalized_flux": 28.86451512527711,
          "relative_error": 61.97033580332397,
          "sample_id": "zwf(15)",
          "symm_relative_error": 89.79277920291617
         },
         {
          "BiGG_ID": "PGK",
          "author": "Millard",
          "flux": 0.6734727141614761,
          "normalized_flux": 168.3681785403739,
          "relative_error": 1.4877507778022208,
          "sample_id": "WT",
          "symm_relative_error": 1.4767654828237085
         },
         {
          "BiGG_ID": "PGK",
          "author": "Millard",
          "flux": 0.7101117386204024,
          "normalized_flux": 177.52793465480624,
          "relative_error": 1.0435146851693202,
          "sample_id": "dzwf",
          "symm_relative_error": 1.048987856332557
         },
         {
          "BiGG_ID": "PGK",
          "author": "Millard",
          "flux": 0.5796544747415018,
          "normalized_flux": 144.91361868540253,
          "relative_error": 11.36781731779662,
          "sample_id": "zwf(15)",
          "symm_relative_error": 12.052892731404654
         },
         {
          "BiGG_ID": "PPC",
          "author": "Millard",
          "flux": 0.09415201966071103,
          "normalized_flux": 23.538004915178437,
          "relative_error": 9.46921186469832,
          "sample_id": "WT",
          "symm_relative_error": 9.93982332973288
         },
         {
          "BiGG_ID": "PPC",
          "author": "Millard",
          "flux": 0.11149266908753433,
          "normalized_flux": 27.873167271837367,
          "relative_error": 15.79103543251551,
          "sample_id": "dzwf",
          "symm_relative_error": 17.144698109119986
         },
         {
          "BiGG_ID": "PPC",
          "author": "Millard",
          "flux": 0.06713209672294629,
          "normalized_flux": 16.783024180739705,
          "relative_error": 35.449906997154976,
          "sample_id": "zwf(15)",
          "symm_relative_error": 43.08707014409535
         },
         {
          "BiGG_ID": "PTAr",
          "author": "Millard",
          "flux": 0.027395127592707683,
          "normalized_flux": 6.848781898177118,
          "relative_error": 85.73170437879767,
          "sample_id": "WT",
          "symm_relative_error": 150.05335279174372
         },
         {
          "BiGG_ID": "PTAr",
          "author": "Millard",
          "flux": 0.028018233737923608,
          "normalized_flux": 7.004558434469288,
          "relative_error": 84.08054901256979,
          "sample_id": "dzwf",
          "symm_relative_error": 145.06719674110107
         },
         {
          "BiGG_ID": "PTAr",
          "author": "Millard",
          "flux": 0.025199988777930848,
          "normalized_flux": 6.299997194483888,
          "relative_error": 85.68182455799118,
          "sample_id": "zwf(15)",
          "symm_relative_error": 149.90061593741186
         },
         {
          "BiGG_ID": "PYK",
          "author": "Millard",
          "flux": 0.1788709642341208,
          "normalized_flux": 44.71774105853149,
          "relative_error": 62.7352157845571,
          "sample_id": "WT",
          "symm_relative_error": 91.40759029073548
         },
         {
          "BiGG_ID": "PYK",
          "author": "Millard",
          "flux": 0.210912552160518,
          "normalized_flux": 52.728138040042076,
          "relative_error": 59.15713552281792,
          "sample_id": "dzwf",
          "symm_relative_error": 84.00444813787772
         },
         {
          "BiGG_ID": "PYK",
          "author": "Millard",
          "flux": 0.10538612672533358,
          "normalized_flux": 26.346531681338313,
          "relative_error": 77.55832054400484,
          "sample_id": "zwf(15)",
          "symm_relative_error": 126.68614296797335
         },
         {
          "BiGG_ID": "TALA",
          "author": "Millard",
          "flux": 0.007625498056472235,
          "normalized_flux": 1.9063745141181136,
          "relative_error": 40.425796433808955,
          "sample_id": "WT",
          "symm_relative_error": 50.66708218542405
         },
         {
          "BiGG_ID": "TALA",
          "author": "Millard",
          "flux": -0.00611485267869405,
          "normalized_flux": -1.528713169670978,
          "relative_error": 9.193797833641288,
          "sample_id": "dzwf",
          "symm_relative_error": 8.789742266596773
         },
         {
          "BiGG_ID": "TALA",
          "author": "Millard",
          "flux": 0.06518959520899102,
          "normalized_flux": 16.297398802250797,
          "relative_error": 409.2937125703374,
          "sample_id": "zwf(15)",
          "symm_relative_error": 134.35021702216835
         },
         {
          "BiGG_ID": "TKT1",
          "author": "Millard",
          "flux": 0.003166801769500932,
          "normalized_flux": 0.7917004423752558,
          "relative_error": 75.25936117577325,
          "sample_id": "WT",
          "symm_relative_error": 120.6653451275361
         },
         {
          "BiGG_ID": "TKT1",
          "author": "Millard",
          "flux": -0.0183012722941901,
          "normalized_flux": -4.575318073539939,
          "relative_error": 226.80843382428137,
          "sample_id": "dzwf",
          "symm_relative_error": 106.28113966354248
         },
         {
          "BiGG_ID": "TKT1",
          "author": "Millard",
          "flux": 0.0651895951902753,
          "normalized_flux": 16.29739879757187,
          "relative_error": 409.29371242412094,
          "sample_id": "zwf(15)",
          "symm_relative_error": 134.3502170064139
         }
        ]
       },
       "encoding": {
        "color": {
         "condition": {
          "test": "datum.relative_error === null",
          "value": "lightgrey"
         },
         "field": "relative_error",
         "scale": {
          "domain": [
           0,
           25,
           50,
           75,
           100,
           200,
           300
          ],
          "scheme": "greenblue",
          "type": "threshold"
         },
         "title": "relative error (clipped at 300)",
         "type": "quantitative"
        },
        "tooltip": [
         {
          "field": "sample_id",
          "type": "nominal"
         },
         {
          "field": "BiGG_ID",
          "type": "nominal"
         },
         {
          "field": "relative_error",
          "type": "quantitative"
         },
         {
          "field": "normalized_flux",
          "type": "quantitative"
         }
        ],
        "x": {
         "field": "sample_id",
         "type": "nominal"
        },
        "y": {
         "field": "BiGG_ID",
         "type": "nominal"
        }
       },
       "mark": "rect",
       "title": "Heatmap for author Millard"
      },
      "image/png": "[encoded data removed]",
      "text/plain": [
       "<VegaLite 3 object>\n",
       "\n",
       "If you see this message, it means the renderer has not been properly enabled\n",
       "for the frontend that you are using. For more information, see\n",
       "https://altair-viz.github.io/user_guide/troubleshooting.html\n"
      ]
     },
     "execution_count": 18,
     "metadata": {},
     "output_type": "execute_result"
    }
   ],
   "source": [
    "heatmap(xdf=x_rel_error_zwf, author=\"Millard\")"
   ]
  },
  {
   "cell_type": "code",
   "execution_count": 23,
   "metadata": {},
   "outputs": [
    {
     "data": {
      "application/vnd.vegalite.v3+json": {
       "$schema": "https://vega.github.io/schema/vega-lite/v3.2.1.json",
       "config": {
        "invalidValues": null,
        "mark": {
         "tooltip": null
        },
        "view": {
         "height": 300,
         "width": 400
        }
       },
       "data": {
        "name": "data-5e13cacbc47b97da71de0d033da6bf75"
       },
       "datasets": {
        "data-5e13cacbc47b97da71de0d033da6bf75": [
         {
          "BiGG_ID": "CS",
          "author": "Khodayari",
          "flux": 2.1739996580809304,
          "normalized_flux": 55.10956452151859,
          "relative_error": 92.69078504027479,
          "sample_id": "zwf(15)",
          "symm_relative_error": 63.33700258279083
         },
         {
          "BiGG_ID": "CS",
          "author": "Kurata",
          "flux": 355.62931225048845,
          "normalized_flux": 15.63848601688286,
          "relative_error": 45.319978961948046,
          "sample_id": "zwf(15)",
          "symm_relative_error": 58.59836151793532
         },
         {
          "BiGG_ID": "CS",
          "author": "Millard",
          "flux": 0.2831562509123585,
          "normalized_flux": 70.78906272810285,
          "relative_error": 147.51420534301693,
          "sample_id": "zwf(15)",
          "symm_relative_error": 84.89679159872716
         },
         {
          "BiGG_ID": "CS",
          "author": "Nicolas",
          "flux": 2.0935200000000003,
          "normalized_flux": 28.6,
          "relative_error": 0,
          "sample_id": "zwf(15)",
          "symm_relative_error": 0
         },
         {
          "BiGG_ID": "EDD",
          "author": "Khodayari",
          "flux": 3.326007169641185e-10,
          "normalized_flux": 0,
          "relative_error": 100,
          "sample_id": "zwf(15)",
          "symm_relative_error": 200
         },
         {
          "BiGG_ID": "EDD",
          "author": "Kurata",
          "flux": 571.4064928504829,
          "normalized_flux": 25.127097628286347,
          "relative_error": 230.6197056353467,
          "sample_id": "zwf(15)",
          "symm_relative_error": 107.11061412997107
         },
         {
          "BiGG_ID": "EDD",
          "author": "Millard",
          "flux": 0.06555205302161214,
          "normalized_flux": 16.388013255406097,
          "relative_error": 115.63175336060655,
          "sample_id": "zwf(15)",
          "symm_relative_error": 73.27003834655271
         },
         {
          "BiGG_ID": "EDD",
          "author": "Nicolas",
          "flux": 0.55632,
          "normalized_flux": 7.6,
          "relative_error": 0,
          "sample_id": "zwf(15)",
          "symm_relative_error": 0
         },
         {
          "BiGG_ID": "ENO",
          "author": "Khodayari",
          "flux": 3.9308177123289525,
          "normalized_flux": 99.64382999542141,
          "relative_error": 33.52646431259412,
          "sample_id": "zwf(15)",
          "symm_relative_error": 40.27843125233806
         },
         {
          "BiGG_ID": "ENO",
          "author": "Kurata",
          "flux": 2131.9765091900877,
          "normalized_flux": 93.75179063926029,
          "relative_error": 37.45711098114724,
          "sample_id": "zwf(15)",
          "symm_relative_error": 46.08889531525765
         },
         {
          "BiGG_ID": "ENO",
          "author": "Millard",
          "flux": 0.5324209898786282,
          "normalized_flux": 133.1052474696819,
          "relative_error": 11.203971000879323,
          "sample_id": "zwf(15)",
          "symm_relative_error": 11.868862984328453
         },
         {
          "BiGG_ID": "ENO",
          "author": "Nicolas",
          "flux": 10.97268,
          "normalized_flux": 149.9,
          "relative_error": 0,
          "sample_id": "zwf(15)",
          "symm_relative_error": 0
         },
         {
          "BiGG_ID": "FUM",
          "author": "Khodayari",
          "flux": 4.390197975812612,
          "normalized_flux": 111.288839310976,
          "relative_error": 491.96191122859574,
          "sample_id": "zwf(15)",
          "symm_relative_error": 142.19335002272163
         },
         {
          "BiGG_ID": "FUM",
          "author": "Kurata",
          "flux": 233.82511028953866,
          "normalized_flux": 10.282253435519559,
          "relative_error": 45.307162577023625,
          "sample_id": "zwf(15)",
          "symm_relative_error": 58.5769365043584
         },
         {
          "BiGG_ID": "FUM",
          "author": "Millard",
          "flux": 0.2490587057830467,
          "normalized_flux": 62.264676445773304,
          "relative_error": 231.19508747751757,
          "sample_id": "zwf(15)",
          "symm_relative_error": 107.23456467465998
         },
         {
          "BiGG_ID": "FUM",
          "author": "Nicolas",
          "flux": 1.37616,
          "normalized_flux": 18.8,
          "relative_error": 0,
          "sample_id": "zwf(15)",
          "symm_relative_error": 0
         },
         {
          "BiGG_ID": "G6PDH2r",
          "author": "Khodayari",
          "flux": 5.711482182615525,
          "normalized_flux": 144.7825875622271,
          "relative_error": 552.1738178478697,
          "sample_id": "zwf(15)",
          "symm_relative_error": 146.82080251816188
         },
         {
          "BiGG_ID": "G6PDH2r",
          "author": "Kurata",
          "flux": 2337.314755803554,
          "normalized_flux": 102.78135931591125,
          "relative_error": 362.97909601761825,
          "sample_id": "zwf(15)",
          "symm_relative_error": 128.94940454636662
         },
         {
          "BiGG_ID": "G6PDH2r",
          "author": "Millard",
          "flux": 0.2780578161397373,
          "normalized_flux": 69.5144540349473,
          "relative_error": 213.12817132859146,
          "sample_id": "zwf(15)",
          "symm_relative_error": 103.17774778862747
         },
         {
          "BiGG_ID": "G6PDH2r",
          "author": "Nicolas",
          "flux": 1.62504,
          "normalized_flux": 22.2,
          "relative_error": 0,
          "sample_id": "zwf(15)",
          "symm_relative_error": 0
         },
         {
          "BiGG_ID": "GLCptspp",
          "author": "Khodayari",
          "flux": 3.9505693556704005,
          "normalized_flux": 100.144522099528,
          "relative_error": 0.14452209952800388,
          "sample_id": "zwf(15)",
          "symm_relative_error": 0.1444177417517686
         },
         {
          "BiGG_ID": "GLCptspp",
          "author": "Kurata",
          "flux": 1807.9094185730748,
          "normalized_flux": 79.5012255408005,
          "relative_error": 20.498774459199495,
          "sample_id": "zwf(15)",
          "symm_relative_error": 22.839704183011428
         },
         {
          "BiGG_ID": "GLCptspp",
          "author": "Millard",
          "flux": 0.4000000000000004,
          "normalized_flux": 100.00000000001879,
          "relative_error": 1.878674993349705e-11,
          "sample_id": "zwf(15)",
          "symm_relative_error": 1.8786749933495285e-11
         },
         {
          "BiGG_ID": "GLCptspp",
          "author": "Nicolas",
          "flux": 7.32,
          "normalized_flux": 100,
          "relative_error": 0,
          "sample_id": "zwf(15)",
          "symm_relative_error": 0
         },
         {
          "BiGG_ID": "GND",
          "author": "Khodayari",
          "flux": 6.12779035018405,
          "normalized_flux": 155.33574553360648,
          "relative_error": 963.9434625589486,
          "sample_id": "zwf(15)",
          "symm_relative_error": 165.63406962047853
         },
         {
          "BiGG_ID": "GND",
          "author": "Kurata",
          "flux": 1542.4044401506912,
          "normalized_flux": 67.82587778558879,
          "relative_error": 364.56080675060815,
          "sample_id": "zwf(15)",
          "symm_relative_error": 129.1484645733302
         },
         {
          "BiGG_ID": "GND",
          "author": "Millard",
          "flux": 0.21250576302640511,
          "normalized_flux": 53.126440756611196,
          "relative_error": 263.87973120966575,
          "sample_id": "zwf(15)",
          "symm_relative_error": 113.77075282920546
         },
         {
          "BiGG_ID": "GND",
          "author": "Nicolas",
          "flux": 1.0687200000000001,
          "normalized_flux": 14.6,
          "relative_error": 0,
          "sample_id": "zwf(15)",
          "symm_relative_error": 0
         },
         {
          "BiGG_ID": "ICDHyr",
          "author": "Khodayari",
          "flux": 1.3479455006579473,
          "normalized_flux": 34.16959577885751,
          "relative_error": 19.4741111148864,
          "sample_id": "zwf(15)",
          "symm_relative_error": 17.746157864325458
         },
         {
          "BiGG_ID": "ICDHyr",
          "author": "Kurata",
          "flux": 37.23126967519335,
          "normalized_flux": 1.6372123167288395,
          "relative_error": 94.27548141003903,
          "sample_id": "zwf(15)",
          "symm_relative_error": 178.34175585263137
         },
         {
          "BiGG_ID": "ICDHyr",
          "author": "Millard",
          "flux": 0.18748227401108114,
          "normalized_flux": 46.87056850277904,
          "relative_error": 63.883106653073554,
          "sample_id": "zwf(15)",
          "symm_relative_error": 48.417731216921375
         },
         {
          "BiGG_ID": "ICDHyr",
          "author": "Nicolas",
          "flux": 2.0935200000000003,
          "normalized_flux": 28.6,
          "relative_error": 0,
          "sample_id": "zwf(15)",
          "symm_relative_error": 0
         },
         {
          "BiGG_ID": "MDH",
          "author": "Khodayari",
          "flux": 1.9940260248513368,
          "normalized_flux": 50.54734275861655,
          "relative_error": 168.8688444607263,
          "sample_id": "zwf(15)",
          "symm_relative_error": 91.56037274311244
         },
         {
          "BiGG_ID": "MDH",
          "author": "Kurata",
          "flux": 303.19418477465655,
          "normalized_flux": 13.332697434285105,
          "relative_error": 29.081396626143057,
          "sample_id": "zwf(15)",
          "symm_relative_error": 34.02952756702813
         },
         {
          "BiGG_ID": "MDH",
          "author": "Millard",
          "flux": 0.32893786613939735,
          "normalized_flux": 82.23446653486471,
          "relative_error": 337.41737518545057,
          "sample_id": "zwf(15)",
          "symm_relative_error": 125.56995391859651
         },
         {
          "BiGG_ID": "MDH",
          "author": "Nicolas",
          "flux": 1.37616,
          "normalized_flux": 18.8,
          "relative_error": 0,
          "sample_id": "zwf(15)",
          "symm_relative_error": 0
         },
         {
          "BiGG_ID": "PDH",
          "author": "Khodayari",
          "flux": 3.849557290723787,
          "normalized_flux": 97.58392790167005,
          "relative_error": 1.827034304154883,
          "sample_id": "zwf(15)",
          "symm_relative_error": 1.8438784500596377
         },
         {
          "BiGG_ID": "PDH",
          "author": "Kurata",
          "flux": 2392.5278252856515,
          "normalized_flux": 105.20930545336797,
          "relative_error": 5.844371683468781,
          "sample_id": "zwf(15)",
          "symm_relative_error": 5.678437195704136
         },
         {
          "BiGG_ID": "PDH",
          "author": "Millard",
          "flux": 0.4972228006892359,
          "normalized_flux": 124.30570017233218,
          "relative_error": 25.05603639067623,
          "sample_id": "zwf(15)",
          "symm_relative_error": 22.266486864792462
         },
         {
          "BiGG_ID": "PDH",
          "author": "Nicolas",
          "flux": 7.27608,
          "normalized_flux": 99.4,
          "relative_error": 0,
          "sample_id": "zwf(15)",
          "symm_relative_error": 0
         },
         {
          "BiGG_ID": "PFK",
          "author": "Khodayari",
          "flux": 0.8932033635248757,
          "normalized_flux": 22.642160135601607,
          "relative_error": 71.15648390369222,
          "sample_id": "zwf(15)",
          "symm_relative_error": 110.4541168381407
         },
         {
          "BiGG_ID": "PFK",
          "author": "Kurata",
          "flux": 537.0457738105366,
          "normalized_flux": 23.616115249371088,
          "relative_error": 69.91577675239351,
          "sample_id": "zwf(15)",
          "symm_relative_error": 107.49309179378899
         },
         {
          "BiGG_ID": "PFK",
          "author": "Millard",
          "flux": 0.2324403430338226,
          "normalized_flux": 58.110085758466504,
          "relative_error": 25.974413046539485,
          "sample_id": "zwf(15)",
          "symm_relative_error": 29.85125750903032
         },
         {
          "BiGG_ID": "PFK",
          "author": "Nicolas",
          "flux": 5.7462,
          "normalized_flux": 78.5,
          "relative_error": 0,
          "sample_id": "zwf(15)",
          "symm_relative_error": 0
         },
         {
          "BiGG_ID": "PGI",
          "author": "Khodayari",
          "flux": -1.7912268960635274,
          "normalized_flux": -45.406508613911505,
          "relative_error": 159.82412202096378,
          "sample_id": "zwf(15)",
          "symm_relative_error": 200
         },
         {
          "BiGG_ID": "PGI",
          "author": "Kurata",
          "flux": -63.3505361108072,
          "normalized_flux": -2.7857840706704295,
          "relative_error": 103.67033474396632,
          "sample_id": "zwf(15)",
          "symm_relative_error": 200
         },
         {
          "BiGG_ID": "PGI",
          "author": "Millard",
          "flux": 0.11545806050108688,
          "normalized_flux": 28.86451512527711,
          "relative_error": 61.97033580332397,
          "sample_id": "zwf(15)",
          "symm_relative_error": 89.79277920291617
         },
         {
          "BiGG_ID": "PGI",
          "author": "Nicolas",
          "flux": 5.55588,
          "normalized_flux": 75.9,
          "relative_error": 0,
          "sample_id": "zwf(15)",
          "symm_relative_error": 0
         },
         {
          "BiGG_ID": "PGK",
          "author": "Khodayari",
          "flux": 4.189407605037752,
          "normalized_flux": 106.1989259559368,
          "relative_error": 35.04652846731694,
          "sample_id": "zwf(15)",
          "symm_relative_error": 42.492623091443086
         },
         {
          "BiGG_ID": "PGK",
          "author": "Kurata",
          "flux": 2131.9765091900877,
          "normalized_flux": 93.75179063926029,
          "relative_error": 42.659455266507464,
          "sample_id": "zwf(15)",
          "symm_relative_error": 54.2256356602364
         },
         {
          "BiGG_ID": "PGK",
          "author": "Millard",
          "flux": 0.5796544747415018,
          "normalized_flux": 144.91361868540253,
          "relative_error": 11.36781731779662,
          "sample_id": "zwf(15)",
          "symm_relative_error": 12.052892731404654
         },
         {
          "BiGG_ID": "PGK",
          "author": "Nicolas",
          "flux": 11.9682,
          "normalized_flux": 163.5,
          "relative_error": 0,
          "sample_id": "zwf(15)",
          "symm_relative_error": 0
         },
         {
          "BiGG_ID": "PPC",
          "author": "Khodayari",
          "flux": -0.009061115392389185,
          "normalized_flux": -0.2296937451198108,
          "relative_error": 100.88343748123003,
          "sample_id": "zwf(15)",
          "symm_relative_error": 200
         },
         {
          "BiGG_ID": "PPC",
          "author": "Kurata",
          "flux": 159.3658281974427,
          "normalized_flux": 7.0079720371285035,
          "relative_error": 73.04626139565961,
          "sample_id": "zwf(15)",
          "symm_relative_error": 115.0754002185206
         },
         {
          "BiGG_ID": "PPC",
          "author": "Millard",
          "flux": 0.06713209672294629,
          "normalized_flux": 16.783024180739705,
          "relative_error": 35.449906997154976,
          "sample_id": "zwf(15)",
          "symm_relative_error": 43.08707014409535
         },
         {
          "BiGG_ID": "PPC",
          "author": "Nicolas",
          "flux": 1.9032,
          "normalized_flux": 26,
          "relative_error": 0,
          "sample_id": "zwf(15)",
          "symm_relative_error": 0
         },
         {
          "BiGG_ID": "PTAr",
          "author": "Khodayari",
          "flux": -0.01698427946156662,
          "normalized_flux": -0.4305411186977587,
          "relative_error": 100.97850254249492,
          "sample_id": "zwf(15)",
          "symm_relative_error": 200.00000000000003
         },
         {
          "BiGG_ID": "PTAr",
          "author": "Kurata",
          "flux": 1355.8705242180756,
          "normalized_flux": 59.62321300093814,
          "relative_error": 35.507302274859406,
          "sample_id": "zwf(15)",
          "symm_relative_error": 30.153886467111754
         },
         {
          "BiGG_ID": "PTAr",
          "author": "Millard",
          "flux": 0.025199988777930848,
          "normalized_flux": 6.299997194483888,
          "relative_error": 85.68182455799118,
          "sample_id": "zwf(15)",
          "symm_relative_error": 149.90061593741186
         },
         {
          "BiGG_ID": "PTAr",
          "author": "Nicolas",
          "flux": 3.2208,
          "normalized_flux": 44,
          "relative_error": 0,
          "sample_id": "zwf(15)",
          "symm_relative_error": 0
         },
         {
          "BiGG_ID": "PYK",
          "author": "Khodayari",
          "flux": 0.19756656578930176,
          "normalized_flux": 5.008191866171424,
          "relative_error": 95.73407847855925,
          "sample_id": "zwf(15)",
          "symm_relative_error": 183.6344552114719
         },
         {
          "BiGG_ID": "PYK",
          "author": "Kurata",
          "flux": 19.902436813319,
          "normalized_flux": 0.8751921427324818,
          "relative_error": 99.25452117314099,
          "sample_id": "zwf(15)",
          "symm_relative_error": 197.04014974948822
         },
         {
          "BiGG_ID": "PYK",
          "author": "Millard",
          "flux": 0.10538612672533358,
          "normalized_flux": 26.346531681338313,
          "relative_error": 77.55832054400484,
          "sample_id": "zwf(15)",
          "symm_relative_error": 126.68614296797335
         },
         {
          "BiGG_ID": "PYK",
          "author": "Nicolas",
          "flux": 8.59368,
          "normalized_flux": 117.4,
          "relative_error": 0,
          "sample_id": "zwf(15)",
          "symm_relative_error": 0
         },
         {
          "BiGG_ID": "TALA",
          "author": "Khodayari",
          "flux": 1.9336540948493717,
          "normalized_flux": 49.01695117857885,
          "relative_error": 1431.779724330589,
          "sample_id": "zwf(15)",
          "symm_relative_error": 175.48688747409864
         },
         {
          "BiGG_ID": "TALA",
          "author": "Kurata",
          "flux": 500.58939393203104,
          "normalized_flux": 22.012978029471135,
          "relative_error": 587.905563420973,
          "sample_id": "zwf(15)",
          "symm_relative_error": 149.2324945310378
         },
         {
          "BiGG_ID": "TALA",
          "author": "Millard",
          "flux": 0.06518959520899102,
          "normalized_flux": 16.297398802250797,
          "relative_error": 409.2937125703374,
          "sample_id": "zwf(15)",
          "symm_relative_error": 134.35021702216835
         },
         {
          "BiGG_ID": "TALA",
          "author": "Nicolas",
          "flux": 0.23424,
          "normalized_flux": 3.2,
          "relative_error": 0,
          "sample_id": "zwf(15)",
          "symm_relative_error": 0
         },
         {
          "BiGG_ID": "TKT1",
          "author": "Khodayari",
          "flux": 2.512690576163507,
          "normalized_flux": 63.69517258890924,
          "relative_error": 1890.4741434034136,
          "sample_id": "zwf(15)",
          "symm_relative_error": 180.86558490750923
         },
         {
          "BiGG_ID": "TKT1",
          "author": "Kurata",
          "flux": 500.64491628459405,
          "normalized_flux": 22.015419576059877,
          "relative_error": 587.9818617518711,
          "sample_id": "zwf(15)",
          "symm_relative_error": 149.23741022278043
         },
         {
          "BiGG_ID": "TKT1",
          "author": "Millard",
          "flux": 0.0651895951902753,
          "normalized_flux": 16.29739879757187,
          "relative_error": 409.29371242412094,
          "sample_id": "zwf(15)",
          "symm_relative_error": 134.3502170064139
         },
         {
          "BiGG_ID": "TKT1",
          "author": "Nicolas",
          "flux": 0.23424,
          "normalized_flux": 3.2,
          "relative_error": 0,
          "sample_id": "zwf(15)",
          "symm_relative_error": 0
         }
        ]
       },
       "encoding": {
        "color": {
         "condition": {
          "test": "datum.relative_error === null",
          "value": "lightgrey"
         },
         "field": "relative_error",
         "scale": {
          "domain": [
           0,
           25,
           50,
           75,
           100,
           200,
           300
          ],
          "scheme": "greenblue",
          "type": "threshold"
         },
         "title": "relative error (clipped at 300)",
         "type": "quantitative"
        },
        "tooltip": [
         {
          "field": "sample_id",
          "type": "nominal"
         },
         {
          "field": "BiGG_ID",
          "type": "nominal"
         },
         {
          "field": "relative_error",
          "type": "quantitative"
         },
         {
          "field": "normalized_flux",
          "type": "quantitative"
         }
        ],
        "x": {
         "field": "author",
         "type": "nominal"
        },
        "y": {
         "field": "BiGG_ID",
         "type": "nominal"
        }
       },
       "mark": "rect",
       "title": "Heatmap for sample_id zwf(15)"
      },
      "image/png": "[encoded data removed]",
      "text/plain": [
       "<VegaLite 3 object>\n",
       "\n",
       "If you see this message, it means the renderer has not been properly enabled\n",
       "for the frontend that you are using. For more information, see\n",
       "https://altair-viz.github.io/user_guide/troubleshooting.html\n"
      ]
     },
     "execution_count": 23,
     "metadata": {},
     "output_type": "execute_result"
    }
   ],
   "source": [
    "heatmap(xdf=x_rel_error_zwf, sample_id = \"zwf(15)\")"
   ]
  },
  {
   "cell_type": "code",
   "execution_count": 20,
   "metadata": {},
   "outputs": [
    {
     "data": {
      "application/vnd.vegalite.v3+json": {
       "$schema": "https://vega.github.io/schema/vega-lite/v3.2.1.json",
       "config": {
        "invalidValues": null,
        "mark": {
         "tooltip": null
        },
        "view": {
         "height": 300,
         "width": 400
        }
       },
       "data": {
        "name": "data-180b8deed7e9843cef9be85c0569b072"
       },
       "datasets": {
        "data-180b8deed7e9843cef9be85c0569b072": [
         {
          "BiGG_ID": "ACKr",
          "author": "Khodayari",
          "flux": 2.7580499455809315e-06,
          "normalized_flux": 0,
          "relative_error": 0,
          "sample_id": "pgi(20)",
          "symm_relative_error": null
         },
         {
          "BiGG_ID": "ACKr",
          "author": "Kurata",
          "flux": 375.140679769214,
          "normalized_flux": 9.972748814990632,
          "relative_error": 100,
          "sample_id": "pgi(20)",
          "symm_relative_error": 200
         },
         {
          "BiGG_ID": "ACKr",
          "author": "Millard",
          "flux": 0.027339326729993847,
          "normalized_flux": 6.834831682499188,
          "relative_error": 100,
          "sample_id": "pgi(20)",
          "symm_relative_error": 200
         },
         {
          "BiGG_ID": "ACKr",
          "author": "Usui",
          "flux": 0,
          "normalized_flux": 0,
          "relative_error": 0,
          "sample_id": "pgi(20)",
          "symm_relative_error": null
         },
         {
          "BiGG_ID": "AKGDH",
          "author": "Khodayari",
          "flux": 58.76293259273492,
          "normalized_flux": 58.85773143926676,
          "relative_error": 71.59688466258531,
          "sample_id": "pgi(20)",
          "symm_relative_error": 52.72290567804761
         },
         {
          "BiGG_ID": "AKGDH",
          "author": "Kurata",
          "flux": 2487.9549015871694,
          "normalized_flux": 66.13985268624488,
          "relative_error": 92.8275588520259,
          "sample_id": "pgi(20)",
          "symm_relative_error": 63.400835096217364
         },
         {
          "BiGG_ID": "AKGDH",
          "author": "Millard",
          "flux": 0.1904000860015984,
          "normalized_flux": 47.60002150040466,
          "relative_error": 38.77557288747715,
          "sample_id": "pgi(20)",
          "symm_relative_error": 32.47867645636442
         },
         {
          "BiGG_ID": "AKGDH",
          "author": "Usui",
          "flux": 2.01341,
          "normalized_flux": 34.3,
          "relative_error": 0,
          "sample_id": "pgi(20)",
          "symm_relative_error": 0
         },
         {
          "BiGG_ID": "CS",
          "author": "Khodayari",
          "flux": 94.21802161819542,
          "normalized_flux": 94.3700181128874,
          "relative_error": 67.91818169552916,
          "sample_id": "pgi(20)",
          "symm_relative_error": 50.7006887443821
         },
         {
          "BiGG_ID": "CS",
          "author": "Kurata",
          "flux": 2835.7808009330247,
          "normalized_flux": 75.38646472431662,
          "relative_error": 34.1396169471826,
          "sample_id": "pgi(20)",
          "symm_relative_error": 29.161760314047022
         },
         {
          "BiGG_ID": "CS",
          "author": "Millard",
          "flux": 0.3135141074356174,
          "normalized_flux": 78.37852685891269,
          "relative_error": 39.463570923332185,
          "sample_id": "pgi(20)",
          "symm_relative_error": 32.959978648248786
         },
         {
          "BiGG_ID": "CS",
          "author": "Usui",
          "flux": 3.29894,
          "normalized_flux": 56.2,
          "relative_error": 0,
          "sample_id": "pgi(20)",
          "symm_relative_error": 0
         },
         {
          "BiGG_ID": "EDA",
          "author": "Khodayari",
          "flux": 1.1168594938436283e-09,
          "normalized_flux": 0,
          "relative_error": 100,
          "sample_id": "pgi(20)",
          "symm_relative_error": 200
         },
         {
          "BiGG_ID": "EDA",
          "author": "Kurata",
          "flux": 223.25751191606142,
          "normalized_flux": 5.935083043428914,
          "relative_error": 52.13642706912166,
          "sample_id": "pgi(20)",
          "symm_relative_error": 70.51963649423489
         },
         {
          "BiGG_ID": "EDA",
          "author": "Millard",
          "flux": 0.02356386678696461,
          "normalized_flux": 5.890966696741778,
          "relative_error": 52.49220405853406,
          "sample_id": "pgi(20)",
          "symm_relative_error": 71.17210819062609
         },
         {
          "BiGG_ID": "EDA",
          "author": "Usui",
          "flux": 0.72788,
          "normalized_flux": 12.4,
          "relative_error": 0,
          "sample_id": "pgi(20)",
          "symm_relative_error": 0
         },
         {
          "BiGG_ID": "EDD",
          "author": "Khodayari",
          "flux": 9.133632534506945e-10,
          "normalized_flux": 0,
          "relative_error": 100,
          "sample_id": "pgi(20)",
          "symm_relative_error": 200
         },
         {
          "BiGG_ID": "EDD",
          "author": "Kurata",
          "flux": 223.33668548688908,
          "normalized_flux": 5.937187795531875,
          "relative_error": 52.11945326183972,
          "sample_id": "pgi(20)",
          "symm_relative_error": 70.48858610743883
         },
         {
          "BiGG_ID": "EDD",
          "author": "Millard",
          "flux": 0.023563866787726026,
          "normalized_flux": 5.890966696932132,
          "relative_error": 52.492204056998936,
          "sample_id": "pgi(20)",
          "symm_relative_error": 71.17210818780401
         },
         {
          "BiGG_ID": "EDD",
          "author": "Usui",
          "flux": 0.72788,
          "normalized_flux": 12.4,
          "relative_error": 0,
          "sample_id": "pgi(20)",
          "symm_relative_error": 0
         },
         {
          "BiGG_ID": "ENO",
          "author": "Khodayari",
          "flux": 167.02979255459172,
          "normalized_flux": 167.29925207561953,
          "relative_error": 86.34626197048728,
          "sample_id": "pgi(20)",
          "symm_relative_error": 151.94618930714893
         },
         {
          "BiGG_ID": "ENO",
          "author": "Kurata",
          "flux": 5722.218835012939,
          "normalized_flux": 152.11960254776807,
          "relative_error": 87.58511364173931,
          "sample_id": "pgi(20)",
          "symm_relative_error": 155.82476036600684
         },
         {
          "BiGG_ID": "ENO",
          "author": "Millard",
          "flux": 0.6239462608373838,
          "normalized_flux": 155.9865652093625,
          "relative_error": 87.26952050849894,
          "sample_id": "pgi(20)",
          "symm_relative_error": 154.82861583158322
         },
         {
          "BiGG_ID": "ENO",
          "author": "Usui",
          "flux": 71.92511,
          "normalized_flux": 1225.3,
          "relative_error": 0,
          "sample_id": "pgi(20)",
          "symm_relative_error": 0
         },
         {
          "BiGG_ID": "FBA",
          "author": "Khodayari",
          "flux": 84.8054211531287,
          "normalized_flux": 84.94223284291759,
          "relative_error": 67.20911976952283,
          "sample_id": "pgi(20)",
          "symm_relative_error": 50.30451043549189
         },
         {
          "BiGG_ID": "FBA",
          "author": "Kurata",
          "flux": 2653.52927905731,
          "normalized_flux": 70.54148590214668,
          "relative_error": 38.86119272076118,
          "sample_id": "pgi(20)",
          "symm_relative_error": 32.5387245019676
         },
         {
          "BiGG_ID": "FBA",
          "author": "Millard",
          "flux": 0.3298021079210524,
          "normalized_flux": 82.45052698027186,
          "relative_error": 62.3041869690391,
          "sample_id": "pgi(20)",
          "symm_relative_error": 47.505293521214845
         },
         {
          "BiGG_ID": "FBA",
          "author": "Usui",
          "flux": 2.98196,
          "normalized_flux": 50.8,
          "relative_error": 0,
          "sample_id": "pgi(20)",
          "symm_relative_error": 0
         },
         {
          "BiGG_ID": "FUM",
          "author": "Khodayari",
          "flux": 84.2438863232716,
          "normalized_flux": 84.37979212133915,
          "relative_error": 79.15030174381985,
          "sample_id": "pgi(20)",
          "symm_relative_error": 56.70801804574597
         },
         {
          "BiGG_ID": "FUM",
          "author": "Kurata",
          "flux": 1975.3481543295804,
          "normalized_flux": 52.51270264105576,
          "relative_error": 11.49193766678505,
          "sample_id": "pgi(20)",
          "symm_relative_error": 10.867494802464869
         },
         {
          "BiGG_ID": "FUM",
          "author": "Millard",
          "flux": 0.27733928016355913,
          "normalized_flux": 69.33482004089716,
          "relative_error": 47.2076858617774,
          "sample_id": "pgi(20)",
          "symm_relative_error": 38.19273312414153
         },
         {
          "BiGG_ID": "FUM",
          "author": "Usui",
          "flux": 2.76477,
          "normalized_flux": 47.1,
          "relative_error": 0,
          "sample_id": "pgi(20)",
          "symm_relative_error": 0
         },
         {
          "BiGG_ID": "G6PDH2r",
          "author": "Khodayari",
          "flux": 18.928222598825112,
          "normalized_flux": 18.95875840754151,
          "relative_error": 80.57504261522385,
          "sample_id": "pgi(20)",
          "symm_relative_error": 134.9383652792415
         },
         {
          "BiGG_ID": "G6PDH2r",
          "author": "Kurata",
          "flux": 905.7335110286552,
          "normalized_flux": 24.078041348022296,
          "relative_error": 75.32987566800993,
          "sample_id": "pgi(20)",
          "symm_relative_error": 120.84671619867869
         },
         {
          "BiGG_ID": "G6PDH2r",
          "author": "Millard",
          "flux": 0.06348109210372799,
          "normalized_flux": 15.870273025933685,
          "relative_error": 83.7394743586745,
          "sample_id": "pgi(20)",
          "symm_relative_error": 144.05486969329306
         },
         {
          "BiGG_ID": "G6PDH2r",
          "author": "Usui",
          "flux": 5.72912,
          "normalized_flux": 97.6,
          "relative_error": 0,
          "sample_id": "pgi(20)",
          "symm_relative_error": 0
         },
         {
          "BiGG_ID": "GAPD",
          "author": "Khodayari",
          "flux": 170.5521079030803,
          "normalized_flux": 170.8272497721024,
          "relative_error": 25.239919187758346,
          "sample_id": "pgi(20)",
          "symm_relative_error": 22.411586080102026
         },
         {
          "BiGG_ID": "GAPD",
          "author": "Kurata",
          "flux": 5722.218835012939,
          "normalized_flux": 152.11960254776807,
          "relative_error": 11.524635298950193,
          "sample_id": "pgi(20)",
          "symm_relative_error": 10.896731042852096
         },
         {
          "BiGG_ID": "GAPD",
          "author": "Millard",
          "flux": 0.6740572920776899,
          "normalized_flux": 168.5143230194404,
          "relative_error": 23.54422508756628,
          "sample_id": "pgi(20)",
          "symm_relative_error": 21.064489658226318
         },
         {
          "BiGG_ID": "GAPD",
          "author": "Usui",
          "flux": 8.006680000000001,
          "normalized_flux": 136.4,
          "relative_error": 0,
          "sample_id": "pgi(20)",
          "symm_relative_error": 0
         },
         {
          "BiGG_ID": "GLCptspp",
          "author": "Khodayari",
          "flux": 99.61884206547452,
          "normalized_flux": 99.77955139198305,
          "relative_error": 0.22044860801695168,
          "sample_id": "pgi(20)",
          "symm_relative_error": 0.22069186408814617
         },
         {
          "BiGG_ID": "GLCptspp",
          "author": "Kurata",
          "flux": 3288.4700270168905,
          "normalized_flux": 87.42076595169682,
          "relative_error": 12.579234048303178,
          "sample_id": "pgi(20)",
          "symm_relative_error": 13.423522184884437
         },
         {
          "BiGG_ID": "GLCptspp",
          "author": "Millard",
          "flux": 0.399999999999908,
          "normalized_flux": 99.99999999998762,
          "relative_error": 1.2377654456940947e-11,
          "sample_id": "pgi(20)",
          "symm_relative_error": 1.2377654456941713e-11
         },
         {
          "BiGG_ID": "GLCptspp",
          "author": "Usui",
          "flux": 5.87,
          "normalized_flux": 100,
          "relative_error": 0,
          "sample_id": "pgi(20)",
          "symm_relative_error": 0
         },
         {
          "BiGG_ID": "GND",
          "author": "Khodayari",
          "flux": 18.436744744877885,
          "normalized_flux": 18.466487680747502,
          "relative_error": 78.35112815856095,
          "sample_id": "pgi(20)",
          "symm_relative_error": 128.81521541882654
         },
         {
          "BiGG_ID": "GND",
          "author": "Kurata",
          "flux": 682.3384674564043,
          "normalized_flux": 18.139302159751583,
          "relative_error": 78.73469852315172,
          "sample_id": "pgi(20)",
          "symm_relative_error": 129.85528022322788
         },
         {
          "BiGG_ID": "GND",
          "author": "Millard",
          "flux": 0.03991722531323992,
          "normalized_flux": 9.97930632831104,
          "relative_error": 88.30093044746654,
          "sample_id": "pgi(20)",
          "symm_relative_error": 158.10504205845245
         },
         {
          "BiGG_ID": "GND",
          "author": "Usui",
          "flux": 5.00711,
          "normalized_flux": 85.3,
          "relative_error": 0,
          "sample_id": "pgi(20)",
          "symm_relative_error": 0
         },
         {
          "BiGG_ID": "ICDHyr",
          "author": "Khodayari",
          "flux": 80.94183386918954,
          "normalized_flux": 81.07241265667366,
          "relative_error": 86.80279413980108,
          "sample_id": "pgi(20)",
          "symm_relative_error": 60.53134482189831
         },
         {
          "BiGG_ID": "ICDHyr",
          "author": "Kurata",
          "flux": 2835.767509885518,
          "normalized_flux": 75.3861113947914,
          "relative_error": 73.70071749951936,
          "sample_id": "pgi(20)",
          "symm_relative_error": 53.85496842889993
         },
         {
          "BiGG_ID": "ICDHyr",
          "author": "Millard",
          "flux": 0.226574913266807,
          "normalized_flux": 56.64372831670777,
          "relative_error": 30.51550303388888,
          "sample_id": "pgi(20)",
          "symm_relative_error": 26.475879177117815
         },
         {
          "BiGG_ID": "ICDHyr",
          "author": "Usui",
          "flux": 2.54758,
          "normalized_flux": 43.4,
          "relative_error": 0,
          "sample_id": "pgi(20)",
          "symm_relative_error": 0
         },
         {
          "BiGG_ID": "ICL",
          "author": "Khodayari",
          "flux": 13.444251856841504,
          "normalized_flux": 13.46594069217151,
          "relative_error": 5.2026616575899105,
          "sample_id": "pgi(20)",
          "symm_relative_error": 5.070754556070328
         },
         {
          "BiGG_ID": "ICL",
          "author": "Kurata",
          "flux": 2.817454091947445e-06,
          "normalized_flux": 0,
          "relative_error": 100,
          "sample_id": "pgi(20)",
          "symm_relative_error": 200
         },
         {
          "BiGG_ID": "ICL",
          "author": "Millard",
          "flux": 0.08693919416069251,
          "normalized_flux": 21.734798540175436,
          "relative_error": 69.80311359512059,
          "sample_id": "pgi(20)",
          "symm_relative_error": 51.743742068055205
         },
         {
          "BiGG_ID": "ICL",
          "author": "Usui",
          "flux": 0.75136,
          "normalized_flux": 12.8,
          "relative_error": 0,
          "sample_id": "pgi(20)",
          "symm_relative_error": 0
         },
         {
          "BiGG_ID": "PDH",
          "author": "Khodayari",
          "flux": 124.49353865081358,
          "normalized_flux": 124.69437688920712,
          "relative_error": 25.069585646145555,
          "sample_id": "pgi(20)",
          "symm_relative_error": 22.27718647472872
         },
         {
          "BiGG_ID": "PDH",
          "author": "Kurata",
          "flux": 3709.9107369077165,
          "normalized_flux": 98.6243558762504,
          "relative_error": 1.078880766047741,
          "sample_id": "pgi(20)",
          "symm_relative_error": 1.0847322498511212
         },
         {
          "BiGG_ID": "PDH",
          "author": "Millard",
          "flux": 0.5260585954299005,
          "normalized_flux": 131.5146488574891,
          "relative_error": 31.91037999748155,
          "sample_id": "pgi(20)",
          "symm_relative_error": 27.51957889752764
         },
         {
          "BiGG_ID": "PDH",
          "author": "Usui",
          "flux": 5.85239,
          "normalized_flux": 99.7,
          "relative_error": 0,
          "sample_id": "pgi(20)",
          "symm_relative_error": 0
         },
         {
          "BiGG_ID": "PFK",
          "author": "Khodayari",
          "flux": 85.12925125358007,
          "normalized_flux": 85.266585359774,
          "relative_error": 67.84760897593307,
          "sample_id": "pgi(20)",
          "symm_relative_error": 50.661351232767124
         },
         {
          "BiGG_ID": "PFK",
          "author": "Kurata",
          "flux": 2683.25329315678,
          "normalized_flux": 71.33166980480853,
          "relative_error": 40.41667284411128,
          "sample_id": "pgi(20)",
          "symm_relative_error": 33.62218798387405
         },
         {
          "BiGG_ID": "PFK",
          "author": "Millard",
          "flux": 0.3299944984607873,
          "normalized_flux": 82.4986246152056,
          "relative_error": 62.39886735276694,
          "sample_id": "pgi(20)",
          "symm_relative_error": 47.5603176052421
         },
         {
          "BiGG_ID": "PFK",
          "author": "Usui",
          "flux": 2.98196,
          "normalized_flux": 50.8,
          "relative_error": 0,
          "sample_id": "pgi(20)",
          "symm_relative_error": 0
         },
         {
          "BiGG_ID": "PGI",
          "author": "Khodayari",
          "flux": 83.13205967434556,
          "normalized_flux": 83.2661718266706,
          "relative_error": 11795.167403810086,
          "sample_id": "pgi(20)",
          "symm_relative_error": 196.6653237380168
         },
         {
          "BiGG_ID": "PGI",
          "author": "Kurata",
          "flux": 2839.1948989533753,
          "normalized_flux": 75.47722518785169,
          "relative_error": 10682.460741121671,
          "sample_id": "pgi(20)",
          "symm_relative_error": 196.32436073498968
         },
         {
          "BiGG_ID": "PGI",
          "author": "Millard",
          "flux": 0.32963976040674403,
          "normalized_flux": 82.40994010169476,
          "relative_error": 11672.848585956395,
          "sample_id": "pgi(20)",
          "symm_relative_error": 196.63096857418753
         },
         {
          "BiGG_ID": "PGI",
          "author": "Usui",
          "flux": 0.041089999999999995,
          "normalized_flux": 0.7,
          "relative_error": 0,
          "sample_id": "pgi(20)",
          "symm_relative_error": 0
         },
         {
          "BiGG_ID": "PGK",
          "author": "Khodayari",
          "flux": 170.56588403518046,
          "normalized_flux": 170.84104812844114,
          "relative_error": 25.250035284780893,
          "sample_id": "pgi(20)",
          "symm_relative_error": 22.419561668754085
         },
         {
          "BiGG_ID": "PGK",
          "author": "Kurata",
          "flux": 5722.218835012939,
          "normalized_flux": 152.11960254776807,
          "relative_error": 11.524635298950193,
          "sample_id": "pgi(20)",
          "symm_relative_error": 10.896731042852096
         },
         {
          "BiGG_ID": "PGK",
          "author": "Millard",
          "flux": 0.6740572918729735,
          "normalized_flux": 168.5143229682613,
          "relative_error": 23.544225050044933,
          "sample_id": "pgi(20)",
          "symm_relative_error": 21.06448962819243
         },
         {
          "BiGG_ID": "PGK",
          "author": "Usui",
          "flux": 8.006680000000001,
          "normalized_flux": 136.4,
          "relative_error": 0,
          "sample_id": "pgi(20)",
          "symm_relative_error": 0
         },
         {
          "BiGG_ID": "PGM",
          "author": "Khodayari",
          "flux": 165.73615306371434,
          "normalized_flux": 166.0035256308385,
          "relative_error": 86.45200966042287,
          "sample_id": "pgi(20)",
          "symm_relative_error": 152.27395817729422
         },
         {
          "BiGG_ID": "PGM",
          "author": "Kurata",
          "flux": 5722.218835012939,
          "normalized_flux": 152.11960254776807,
          "relative_error": 87.58511364173931,
          "sample_id": "pgi(20)",
          "symm_relative_error": 155.82476036600684
         },
         {
          "BiGG_ID": "PGM",
          "author": "Millard",
          "flux": 0.6239462608355516,
          "normalized_flux": 155.98656520890447,
          "relative_error": 87.26952050853632,
          "sample_id": "pgi(20)",
          "symm_relative_error": 154.82861583170086
         },
         {
          "BiGG_ID": "PGM",
          "author": "Usui",
          "flux": 71.92511,
          "normalized_flux": 1225.3,
          "relative_error": 0,
          "sample_id": "pgi(20)",
          "symm_relative_error": 0
         },
         {
          "BiGG_ID": "PPC",
          "author": "Khodayari",
          "flux": 16.128787691724476,
          "normalized_flux": 16.154807333727867,
          "relative_error": 43.316465495691695,
          "sample_id": "pgi(20)",
          "symm_relative_error": 55.291662436298466
         },
         {
          "BiGG_ID": "PPC",
          "author": "Kurata",
          "flux": 2013.9974352594008,
          "normalized_flux": 53.54015605088118,
          "relative_error": 87.86019666975852,
          "sample_id": "pgi(20)",
          "symm_relative_error": 61.043657779859196
         },
         {
          "BiGG_ID": "PPC",
          "author": "Millard",
          "flux": 0.09328900859282484,
          "normalized_flux": 23.322252148208687,
          "relative_error": 18.167536322074785,
          "sample_id": "pgi(20)",
          "symm_relative_error": 19.982720307034317
         },
         {
          "BiGG_ID": "PPC",
          "author": "Usui",
          "flux": 1.67295,
          "normalized_flux": 28.5,
          "relative_error": 0,
          "sample_id": "pgi(20)",
          "symm_relative_error": 0
         },
         {
          "BiGG_ID": "PPCK",
          "author": "Khodayari",
          "flux": 0.6344529170577405,
          "normalized_flux": 0.6354764433193156,
          "relative_error": 96.30536951558537,
          "sample_id": "pgi(20)",
          "symm_relative_error": 185.74803548783586
         },
         {
          "BiGG_ID": "PPCK",
          "author": "Kurata",
          "flux": 359.034387402804,
          "normalized_flux": 9.544578753002623,
          "relative_error": 44.50826306393824,
          "sample_id": "pgi(20)",
          "symm_relative_error": 57.24839652700007
         },
         {
          "BiGG_ID": "PPCK",
          "author": "Millard",
          "flux": 0.06540555678680794,
          "normalized_flux": 16.351389196703725,
          "relative_error": 4.93378374009462,
          "sample_id": "pgi(20)",
          "symm_relative_error": 5.058573272904282
         },
         {
          "BiGG_ID": "PPCK",
          "author": "Usui",
          "flux": 1.0096399999999999,
          "normalized_flux": 17.2,
          "relative_error": 0,
          "sample_id": "pgi(20)",
          "symm_relative_error": 0
         },
         {
          "BiGG_ID": "PTAr",
          "author": "Khodayari",
          "flux": -0.00016610199000346992,
          "normalized_flux": 0,
          "relative_error": 0,
          "sample_id": "pgi(20)",
          "symm_relative_error": null
         },
         {
          "BiGG_ID": "PTAr",
          "author": "Kurata",
          "flux": 375.192791484744,
          "normalized_flux": 9.974134154084272,
          "relative_error": 100,
          "sample_id": "pgi(20)",
          "symm_relative_error": 200
         },
         {
          "BiGG_ID": "PTAr",
          "author": "Millard",
          "flux": 0.02733932672966252,
          "normalized_flux": 6.834831682416356,
          "relative_error": 100,
          "sample_id": "pgi(20)",
          "symm_relative_error": 200
         },
         {
          "BiGG_ID": "PTAr",
          "author": "Usui",
          "flux": 0,
          "normalized_flux": 0,
          "relative_error": 0,
          "sample_id": "pgi(20)",
          "symm_relative_error": null
         },
         {
          "BiGG_ID": "PYK",
          "author": "Khodayari",
          "flux": 35.11421676641793,
          "normalized_flux": 35.17086450504248,
          "relative_error": 67.9973935349932,
          "sample_id": "pgi(20)",
          "symm_relative_error": 103.02431952814347
         },
         {
          "BiGG_ID": "PYK",
          "author": "Kurata",
          "flux": 244.97736554920297,
          "normalized_flux": 6.512484152567328,
          "relative_error": 94.07417274561662,
          "sample_id": "pgi(20)",
          "symm_relative_error": 177.6227293834492
         },
         {
          "BiGG_ID": "PYK",
          "author": "Millard",
          "flux": 0.17871036308885768,
          "normalized_flux": 44.67759077221916,
          "relative_error": 59.347051162675925,
          "sample_id": "pgi(20)",
          "symm_relative_error": 84.38792311608816
         },
         {
          "BiGG_ID": "PYK",
          "author": "Usui",
          "flux": 6.45113,
          "normalized_flux": 109.9,
          "relative_error": 0,
          "sample_id": "pgi(20)",
          "symm_relative_error": 0
         },
         {
          "BiGG_ID": "RPE",
          "author": "Khodayari",
          "flux": 7.65941297845302,
          "normalized_flux": 7.671769467202495,
          "relative_error": 84.92776136109529,
          "sample_id": "pgi(20)",
          "symm_relative_error": 147.60773296085355
         },
         {
          "BiGG_ID": "RPE",
          "author": "Kurata",
          "flux": 423.9569066896827,
          "normalized_flux": 11.270480560513182,
          "relative_error": 77.85760204221378,
          "sample_id": "pgi(20)",
          "symm_relative_error": 127.48661127337984
         },
         {
          "BiGG_ID": "RPE",
          "author": "Millard",
          "flux": 0.0025344673440318337,
          "normalized_flux": 0.6336168360080258,
          "relative_error": 98.75517321020034,
          "sample_id": "pgi(20)",
          "symm_relative_error": 195.08191448681478
         },
         {
          "BiGG_ID": "RPE",
          "author": "Usui",
          "flux": 2.9878299999999998,
          "normalized_flux": 50.9,
          "relative_error": 0,
          "sample_id": "pgi(20)",
          "symm_relative_error": 0
         },
         {
          "BiGG_ID": "RPI",
          "author": "Khodayari",
          "flux": 12.252618510099968,
          "normalized_flux": 12.272384952149451,
          "relative_error": 64.22045203454971,
          "sample_id": "pgi(20)",
          "symm_relative_error": 94.59517725142358
         },
         {
          "BiGG_ID": "RPI",
          "author": "Kurata",
          "flux": 258.21043287138957,
          "normalized_flux": 6.8642723311706595,
          "relative_error": 79.98754422399224,
          "sample_id": "pgi(20)",
          "symm_relative_error": 133.2987375465121
         },
         {
          "BiGG_ID": "RPI",
          "author": "Millard",
          "flux": 0.03738275796606625,
          "normalized_flux": 9.345689491517556,
          "relative_error": 72.75309186146485,
          "sample_id": "pgi(20)",
          "symm_relative_error": 114.3494846762921
         },
         {
          "BiGG_ID": "RPI",
          "author": "Usui",
          "flux": 2.01341,
          "normalized_flux": 34.3,
          "relative_error": 0,
          "sample_id": "pgi(20)",
          "symm_relative_error": 0
         },
         {
          "BiGG_ID": "SUCDi",
          "author": "Khodayari",
          "flux": 86.7727083186492,
          "normalized_flux": 86.91269371924285,
          "relative_error": 84.52801214276614,
          "sample_id": "pgi(20)",
          "symm_relative_error": 59.416302462587026
         },
         {
          "BiGG_ID": "SUCDi",
          "author": "Kurata",
          "flux": 2140.5263891137056,
          "normalized_flux": 56.903804790305564,
          "relative_error": 20.81487216625385,
          "sample_id": "pgi(20)",
          "symm_relative_error": 18.85278103060206
         },
         {
          "BiGG_ID": "SUCDi",
          "author": "Millard",
          "flux": 0.2773392801600355,
          "normalized_flux": 69.33482004001624,
          "relative_error": 47.20768585990708,
          "sample_id": "pgi(20)",
          "symm_relative_error": 38.19273312291734
         },
         {
          "BiGG_ID": "SUCDi",
          "author": "Usui",
          "flux": 2.76477,
          "normalized_flux": 47.1,
          "relative_error": 0,
          "sample_id": "pgi(20)",
          "symm_relative_error": 0
         },
         {
          "BiGG_ID": "TALA",
          "author": "Khodayari",
          "flux": 6.175401625737436,
          "normalized_flux": 6.185364044649509,
          "relative_error": 77.17577843302765,
          "sample_id": "pgi(20)",
          "symm_relative_error": 125.66866282306702
         },
         {
          "BiGG_ID": "TALA",
          "author": "Kurata",
          "flux": 223.31224047128492,
          "normalized_flux": 5.936537948651636,
          "relative_error": 78.09395590903455,
          "sample_id": "pgi(20)",
          "symm_relative_error": 128.12154883930347
         },
         {
          "BiGG_ID": "TALA",
          "author": "Millard",
          "flux": 0.007316139229447887,
          "normalized_flux": 1.829034807362166,
          "relative_error": 93.25079406877428,
          "sample_id": "pgi(20)",
          "symm_relative_error": 174.71004726508616
         },
         {
          "BiGG_ID": "TALA",
          "author": "Usui",
          "flux": 1.59077,
          "normalized_flux": 27.1,
          "relative_error": 0,
          "sample_id": "pgi(20)",
          "symm_relative_error": 0
         },
         {
          "BiGG_ID": "TKT1",
          "author": "Khodayari",
          "flux": 6.2510112385890935,
          "normalized_flux": 6.261095634124334,
          "relative_error": 76.89632607334194,
          "sample_id": "pgi(20)",
          "symm_relative_error": 124.92937638750696
         },
         {
          "BiGG_ID": "TKT1",
          "author": "Kurata",
          "flux": 223.39695136477815,
          "normalized_flux": 5.938789905072947,
          "relative_error": 78.08564610674189,
          "sample_id": "pgi(20)",
          "symm_relative_error": 128.09918375175027
         },
         {
          "BiGG_ID": "TKT1",
          "author": "Millard",
          "flux": 0.0025344673362172328,
          "normalized_flux": 0.6336168340543755,
          "relative_error": 97.66193050164436,
          "sample_id": "pgi(20)",
          "symm_relative_error": 190.86138908104692
         },
         {
          "BiGG_ID": "TKT1",
          "author": "Usui",
          "flux": 1.59077,
          "normalized_flux": 27.1,
          "relative_error": 0,
          "sample_id": "pgi(20)",
          "symm_relative_error": 0
         },
         {
          "BiGG_ID": "TPI",
          "author": "Khodayari",
          "flux": 85.09415497082213,
          "normalized_flux": 85.23143245820934,
          "relative_error": 67.7784103508058,
          "sample_id": "pgi(20)",
          "symm_relative_error": 50.62275951374273
         },
         {
          "BiGG_ID": "TPI",
          "author": "Kurata",
          "flux": 5722.218835012939,
          "normalized_flux": 152.11960254776807,
          "relative_error": 199.44803651135447,
          "sample_id": "pgi(20)",
          "symm_relative_error": 99.86181844991248
         },
         {
          "BiGG_ID": "TPI",
          "author": "Millard",
          "flux": 0.3298021079210735,
          "normalized_flux": 82.45052698027713,
          "relative_error": 62.30418696904948,
          "sample_id": "pgi(20)",
          "symm_relative_error": 47.50529352122088
         },
         {
          "BiGG_ID": "TPI",
          "author": "Usui",
          "flux": 2.98196,
          "normalized_flux": 50.8,
          "relative_error": 0,
          "sample_id": "pgi(20)",
          "symm_relative_error": 0
         }
        ]
       },
       "encoding": {
        "color": {
         "condition": {
          "test": "datum.relative_error === null",
          "value": "lightgrey"
         },
         "field": "relative_error",
         "scale": {
          "domain": [
           0,
           25,
           50,
           75,
           100,
           200,
           300
          ],
          "scheme": "greenblue",
          "type": "threshold"
         },
         "title": "relative error (clipped at 300)",
         "type": "quantitative"
        },
        "tooltip": [
         {
          "field": "sample_id",
          "type": "nominal"
         },
         {
          "field": "BiGG_ID",
          "type": "nominal"
         },
         {
          "field": "relative_error",
          "type": "quantitative"
         },
         {
          "field": "normalized_flux",
          "type": "quantitative"
         }
        ],
        "x": {
         "field": "author",
         "type": "nominal"
        },
        "y": {
         "field": "BiGG_ID",
         "type": "nominal"
        }
       },
       "mark": "rect",
       "title": "Heatmap for sample_id pgi(20)"
      },
      "image/png": "[encoded data removed]",
      "text/plain": [
       "<VegaLite 3 object>\n",
       "\n",
       "If you see this message, it means the renderer has not been properly enabled\n",
       "for the frontend that you are using. For more information, see\n",
       "https://altair-viz.github.io/user_guide/troubleshooting.html\n"
      ]
     },
     "execution_count": 20,
     "metadata": {},
     "output_type": "execute_result"
    }
   ],
   "source": [
    "heatmap(xdf=x_rel_error_pgi, sample_id = \"pgi(20)\")"
   ]
  },
  {
   "cell_type": "markdown",
   "metadata": {},
   "source": [
    "# Export the data"
   ]
  },
  {
   "cell_type": "code",
   "execution_count": 33,
   "metadata": {},
   "outputs": [],
   "source": [
    "sensitivity_data = pd.concat([selected_data_zwf, selected_data_pgi, selected_data_eno], sort=False)"
   ]
  },
  {
   "cell_type": "code",
   "execution_count": 37,
   "metadata": {},
   "outputs": [],
   "source": [
    "data_path = Path('../data')\n",
    "path = data_path / \"Processed\"\n",
    "path.mkdir(parents=True, exist_ok=True)\n",
    "sensitivity_data.to_csv(path / \"sensitivity.csv\")"
   ]
  },
  {
   "cell_type": "code",
   "execution_count": null,
   "metadata": {},
   "outputs": [],
   "source": []
  }
 ],
 "metadata": {
  "kernelspec": {
   "display_name": "dataml-conda",
   "language": "python",
   "name": "dataml-conda"
  },
  "language_info": {
   "codemirror_mode": {
    "name": "ipython",
    "version": 3
   },
   "file_extension": ".py",
   "mimetype": "text/x-python",
   "name": "python",
   "nbconvert_exporter": "python",
   "pygments_lexer": "ipython3",
   "version": "3.6.6"
  }
 },
 "nbformat": 4,
 "nbformat_minor": 4
}
