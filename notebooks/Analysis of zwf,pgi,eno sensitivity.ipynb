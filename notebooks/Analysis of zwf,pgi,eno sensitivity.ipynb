{
 "cells": [
  {
   "cell_type": "code",
   "execution_count": 1,
   "metadata": {},
   "outputs": [],
   "source": [
    "import numpy as np\n",
    "import pandas as pd\n",
    "import xarray as xr\n",
    "\n",
    "from pathlib import Path\n",
    "\n",
    "import altair as alt\n",
    "from altair.expr import datum"
   ]
  },
  {
   "cell_type": "code",
   "execution_count": 2,
   "metadata": {},
   "outputs": [],
   "source": [
    "%load_ext watermark"
   ]
  },
  {
   "cell_type": "code",
   "execution_count": 3,
   "metadata": {},
   "outputs": [
    {
     "name": "stdout",
     "output_type": "stream",
     "text": [
      "xarray    0.12.0\n",
      "numpy     1.16.3\n",
      "altair    3.0.1\n",
      "pandas    0.24.2\n",
      "\n"
     ]
    }
   ],
   "source": [
    "%watermark --iversions"
   ]
  },
  {
   "cell_type": "code",
   "execution_count": 4,
   "metadata": {},
   "outputs": [],
   "source": [
    "from utils.load import load_sensitivity_data\n",
    "from utils.calculate_metrics import (process_data, relative_errors, summary_errors)"
   ]
  },
  {
   "cell_type": "markdown",
   "metadata": {},
   "source": [
    "## Set paths "
   ]
  },
  {
   "cell_type": "code",
   "execution_count": 5,
   "metadata": {},
   "outputs": [],
   "source": [
    "data_path = Path('../data')\n",
    "path_to_results = data_path / \"simulation_results\"\n",
    "khodayari_path = path_to_results / \"Khodayari\"\n",
    "millard_path = path_to_results / \"Millard\"\n",
    "kurata_path = path_to_results / \"Kurata\"\n",
    "chassagnole_path = path_to_results / \"Chassagnole\""
   ]
  },
  {
   "cell_type": "code",
   "execution_count": 5,
   "metadata": {},
   "outputs": [],
   "source": [
    "((zwf_df, pgi_df, eno_df), debug_info) = load_sensitivity_data()"
   ]
  },
  {
   "cell_type": "code",
   "execution_count": 6,
   "metadata": {},
   "outputs": [
    {
     "data": {
      "text/html": [
       "<div>\n",
       "<style scoped>\n",
       "    .dataframe tbody tr th:only-of-type {\n",
       "        vertical-align: middle;\n",
       "    }\n",
       "\n",
       "    .dataframe tbody tr th {\n",
       "        vertical-align: top;\n",
       "    }\n",
       "\n",
       "    .dataframe thead th {\n",
       "        text-align: right;\n",
       "    }\n",
       "</style>\n",
       "<table border=\"1\" class=\"dataframe\">\n",
       "  <thead>\n",
       "    <tr style=\"text-align: right;\">\n",
       "      <th></th>\n",
       "      <th>flux</th>\n",
       "      <th>ID</th>\n",
       "      <th>BiGG_ID</th>\n",
       "      <th>author</th>\n",
       "      <th>sample_id</th>\n",
       "      <th>normalized_flux</th>\n",
       "    </tr>\n",
       "  </thead>\n",
       "  <tbody>\n",
       "    <tr>\n",
       "      <th>0</th>\n",
       "      <td>-0.020954</td>\n",
       "      <td>ACALD</td>\n",
       "      <td>ACALD</td>\n",
       "      <td>Khodayari</td>\n",
       "      <td>dzwf</td>\n",
       "      <td>-0.472740</td>\n",
       "    </tr>\n",
       "    <tr>\n",
       "      <th>1</th>\n",
       "      <td>-0.004096</td>\n",
       "      <td>ACALDtpp_ex</td>\n",
       "      <td>composed of ACALDtex and ACALDtpp</td>\n",
       "      <td>Khodayari</td>\n",
       "      <td>dzwf</td>\n",
       "      <td>-0.092400</td>\n",
       "    </tr>\n",
       "    <tr>\n",
       "      <th>2</th>\n",
       "      <td>-0.009307</td>\n",
       "      <td>ACKr</td>\n",
       "      <td>ACKr</td>\n",
       "      <td>Khodayari</td>\n",
       "      <td>dzwf</td>\n",
       "      <td>-0.209985</td>\n",
       "    </tr>\n",
       "    <tr>\n",
       "      <th>3</th>\n",
       "      <td>4.326233</td>\n",
       "      <td>ACONTa</td>\n",
       "      <td>ACONTa</td>\n",
       "      <td>Khodayari</td>\n",
       "      <td>dzwf</td>\n",
       "      <td>97.604637</td>\n",
       "    </tr>\n",
       "    <tr>\n",
       "      <th>4</th>\n",
       "      <td>4.441212</td>\n",
       "      <td>ACONTb</td>\n",
       "      <td>ACONTb</td>\n",
       "      <td>Khodayari</td>\n",
       "      <td>dzwf</td>\n",
       "      <td>100.198682</td>\n",
       "    </tr>\n",
       "  </tbody>\n",
       "</table>\n",
       "</div>"
      ],
      "text/plain": [
       "       flux           ID                            BiGG_ID     author  \\\n",
       "0 -0.020954        ACALD                              ACALD  Khodayari   \n",
       "1 -0.004096  ACALDtpp_ex  composed of ACALDtex and ACALDtpp  Khodayari   \n",
       "2 -0.009307         ACKr                               ACKr  Khodayari   \n",
       "3  4.326233       ACONTa                             ACONTa  Khodayari   \n",
       "4  4.441212       ACONTb                             ACONTb  Khodayari   \n",
       "\n",
       "  sample_id  normalized_flux  \n",
       "0      dzwf        -0.472740  \n",
       "1      dzwf        -0.092400  \n",
       "2      dzwf        -0.209985  \n",
       "3      dzwf        97.604637  \n",
       "4      dzwf       100.198682  "
      ]
     },
     "execution_count": 6,
     "metadata": {},
     "output_type": "execute_result"
    }
   ],
   "source": [
    "zwf_df.head()"
   ]
  },
  {
   "cell_type": "code",
   "execution_count": 9,
   "metadata": {},
   "outputs": [],
   "source": [
    "xdf_zwf = process_data(zwf_df, author=\"Nicolas\")\n",
    "xdf_pgi = process_data(pgi_df, author=\"Usui\")\n",
    "xdf_eno = process_data(eno_df, author=\"Usui\")"
   ]
  },
  {
   "cell_type": "code",
   "execution_count": 10,
   "metadata": {},
   "outputs": [
    {
     "data": {
      "text/plain": [
       "<xarray.DataArray 'BiGG_ID' (BiGG_ID: 29)>\n",
       "array(['ACKr', 'AKGDH', 'CS', 'EDA', 'EDD', 'ENO', 'FBA', 'FUM', 'G6PDH2r',\n",
       "       'GAPD', 'GLCptspp', 'GND', 'ICDHyr', 'ICL', 'PDH', 'PFK', 'PGI', 'PGK',\n",
       "       'PGM', 'PPC', 'PPCK', 'PTAr', 'PYK', 'RPE', 'RPI', 'SUCDi', 'TALA',\n",
       "       'TKT1', 'TPI'], dtype=object)\n",
       "Coordinates:\n",
       "  * BiGG_ID  (BiGG_ID) object 'ACKr' 'AKGDH' 'CS' 'EDA' ... 'TALA' 'TKT1' 'TPI'"
      ]
     },
     "execution_count": 10,
     "metadata": {},
     "output_type": "execute_result"
    }
   ],
   "source": [
    "xdf_pgi.BiGG_ID"
   ]
  },
  {
   "cell_type": "markdown",
   "metadata": {},
   "source": [
    "# 2. Calculate error metrics"
   ]
  },
  {
   "cell_type": "code",
   "execution_count": 11,
   "metadata": {},
   "outputs": [],
   "source": [
    "x_rel_error_zwf = relative_errors(xdf_zwf, author=\"Nicolas\")\n",
    "x_rel_error_pgi = relative_errors(xdf_pgi, author=\"Usui\")\n",
    "x_rel_error_eno = relative_errors(xdf_eno, author=\"Usui\")"
   ]
  },
  {
   "cell_type": "code",
   "execution_count": 12,
   "metadata": {},
   "outputs": [],
   "source": [
    "x_norm_error_zwf = summary_errors(xdf_zwf, author=\"Nicolas\")\n",
    "x_norm_error_pgi = summary_errors(xdf_pgi, author=\"Usui\")\n",
    "x_norm_error_eno = summary_errors(xdf_eno, author=\"Usui\")"
   ]
  },
  {
   "cell_type": "markdown",
   "metadata": {},
   "source": [
    "# 4. Visualize"
   ]
  },
  {
   "cell_type": "markdown",
   "metadata": {},
   "source": [
    "### Summary normalized error for the models"
   ]
  },
  {
   "cell_type": "code",
   "execution_count": 13,
   "metadata": {},
   "outputs": [],
   "source": [
    "from utils.vis import heatmap, summary_chart"
   ]
  },
  {
   "cell_type": "code",
   "execution_count": 14,
   "metadata": {},
   "outputs": [
    {
     "data": {
      "application/vnd.vegalite.v3+json": {
       "$schema": "https://vega.github.io/schema/vega-lite/v3.2.1.json",
       "config": {
        "invalidValues": null,
        "mark": {
         "tooltip": null
        },
        "view": {
         "height": 300,
         "width": 400
        }
       },
       "data": {
        "name": "data-3a278c9d908bc75d843969da77ac05bd"
       },
       "datasets": {
        "data-3a278c9d908bc75d843969da77ac05bd": [
         {
          "author": "Khodayari",
          "normalized_error": 0.51726453584119,
          "sample_id": "WT",
          "unnormalized_error": 166.02306942531774
         },
         {
          "author": "Khodayari",
          "normalized_error": 0.6798188130994501,
          "sample_id": "dzwf",
          "unnormalized_error": 245.26130194929505
         },
         {
          "author": "Khodayari",
          "normalized_error": 0.9455984196044522,
          "sample_id": "zwf(15)",
          "unnormalized_error": 299.81208567784995
         },
         {
          "author": "Kurata",
          "normalized_error": 0.47369409040062965,
          "sample_id": "WT",
          "unnormalized_error": 152.03854393198088
         },
         {
          "author": "Kurata",
          "normalized_error": 0.39297484457520676,
          "sample_id": "dzwf",
          "unnormalized_error": 141.77530859202258
         },
         {
          "author": "Kurata",
          "normalized_error": 0.6555163009760772,
          "sample_id": "zwf(15)",
          "unnormalized_error": 207.83844951187308
         },
         {
          "author": "Millard",
          "normalized_error": 0.4464967842229925,
          "sample_id": "WT",
          "unnormalized_error": 143.3091995852465
         },
         {
          "author": "Millard",
          "normalized_error": 0.31005816665260516,
          "sample_id": "dzwf",
          "unnormalized_error": 111.86108440647823
         },
         {
          "author": "Millard",
          "normalized_error": 0.5070243559619041,
          "sample_id": "zwf(15)",
          "unnormalized_error": 160.7574912339578
         }
        ]
       },
       "encoding": {
        "color": {
         "condition": {
          "field": "author",
          "selection": "selector001",
          "sort": [
           "Khodayari",
           "Kurata",
           "Millard"
          ],
          "type": "nominal"
         },
         "value": "lightgray"
        },
        "opacity": {
         "condition": {
          "selection": "selector001",
          "value": 0.4
         },
         "value": 1
        },
        "size": {
         "condition": {
          "selection": "selector001",
          "value": 100
         },
         "value": 40
        },
        "tooltip": [
         {
          "field": "author",
          "type": "nominal"
         },
         {
          "field": "sample_id",
          "type": "nominal"
         },
         {
          "field": "normalized_error",
          "type": "quantitative"
         }
        ],
        "x": {
         "field": "author",
         "sort": [
          "Khodayari",
          "Kurata",
          "Millard"
         ],
         "type": "nominal"
        },
        "y": {
         "field": "normalized_error",
         "title": "Normalized error",
         "type": "quantitative"
        }
       },
       "height": 600,
       "mark": "circle",
       "selection": {
        "selector001": {
         "empty": "all",
         "fields": [
          "sample_id"
         ],
         "type": "single"
        }
       },
       "title": "Sensivity to zwf expression",
       "transform": [
        {
         "filter": "datum.normalized_error !== null"
        }
       ],
       "width": 700
      },
      "image/png": "[encoded data removed]",
      "text/plain": [
       "<VegaLite 3 object>\n",
       "\n",
       "If you see this message, it means the renderer has not been properly enabled\n",
       "for the frontend that you are using. For more information, see\n",
       "https://altair-viz.github.io/user_guide/troubleshooting.html\n"
      ]
     },
     "execution_count": 14,
     "metadata": {},
     "output_type": "execute_result"
    }
   ],
   "source": [
    "summary_chart(norm_error=x_norm_error_zwf,\n",
    "              author=\"Nicolas\",\n",
    "              title=\"Sensivity to zwf expression\",\n",
    "              sort_list=[\"Khodayari\", \"Kurata\", \"Millard\"])"
   ]
  },
  {
   "cell_type": "code",
   "execution_count": 20,
   "metadata": {},
   "outputs": [
    {
     "data": {
      "application/vnd.vegalite.v3+json": {
       "$schema": "https://vega.github.io/schema/vega-lite/v3.2.1.json",
       "config": {
        "invalidValues": null,
        "mark": {
         "tooltip": null
        },
        "view": {
         "height": 300,
         "width": 400
        }
       },
       "data": {
        "name": "data-5be309194e02626e149f0a76a56f815d"
       },
       "datasets": {
        "data-5be309194e02626e149f0a76a56f815d": [
         {
          "author": "Khodayari",
          "normalized_error": 0.3601714901667807,
          "sample_id": "WT",
          "unnormalized_error": 154.3024770952614
         },
         {
          "author": "Khodayari",
          "normalized_error": 0.36347641425032007,
          "sample_id": "dpgi",
          "unnormalized_error": 128.8163796613832
         },
         {
          "author": "Khodayari",
          "normalized_error": null,
          "sample_id": "eno(200)",
          "unnormalized_error": null
         },
         {
          "author": "Khodayari",
          "normalized_error": null,
          "sample_id": "eno(50)",
          "unnormalized_error": null
         },
         {
          "author": "Khodayari",
          "normalized_error": null,
          "sample_id": "eno(500)",
          "unnormalized_error": null
         },
         {
          "author": "Khodayari",
          "normalized_error": 0.5428374182640061,
          "sample_id": "pgi(0)",
          "unnormalized_error": 218.0139149147343
         },
         {
          "author": "Khodayari",
          "normalized_error": 0.38943423950518213,
          "sample_id": "pgi(100)",
          "unnormalized_error": 161.92216274574957
         },
         {
          "author": "Khodayari",
          "normalized_error": 0.8559557483479983,
          "sample_id": "pgi(20)",
          "unnormalized_error": 1510.4559370541897
         },
         {
          "author": "Khodayari",
          "normalized_error": 0.5045136289779366,
          "sample_id": "pgi(50)",
          "unnormalized_error": 197.71119911283012
         },
         {
          "author": "Kurata",
          "normalized_error": 0.38923345746465693,
          "sample_id": "WT",
          "unnormalized_error": 166.75302819592534
         },
         {
          "author": "Kurata",
          "normalized_error": 0.5123164856443991,
          "sample_id": "dpgi",
          "unnormalized_error": 181.56543955588
         },
         {
          "author": "Kurata",
          "normalized_error": null,
          "sample_id": "eno(200)",
          "unnormalized_error": null
         },
         {
          "author": "Kurata",
          "normalized_error": null,
          "sample_id": "eno(50)",
          "unnormalized_error": null
         },
         {
          "author": "Kurata",
          "normalized_error": null,
          "sample_id": "eno(500)",
          "unnormalized_error": null
         },
         {
          "author": "Kurata",
          "normalized_error": 0.581407843316812,
          "sample_id": "pgi(0)",
          "unnormalized_error": 233.50453712088063
         },
         {
          "author": "Kurata",
          "normalized_error": 0.4228992468480448,
          "sample_id": "pgi(100)",
          "unnormalized_error": 175.83651802212123
         },
         {
          "author": "Kurata",
          "normalized_error": 0.8683895083607064,
          "sample_id": "pgi(20)",
          "unnormalized_error": 1532.3970790669032
         },
         {
          "author": "Kurata",
          "normalized_error": 0.5157828452895443,
          "sample_id": "pgi(50)",
          "unnormalized_error": 202.12743316887236
         },
         {
          "author": "Millard",
          "normalized_error": 0.3066284396827725,
          "sample_id": "WT",
          "unnormalized_error": 131.36388937669048
         },
         {
          "author": "Millard",
          "normalized_error": 0.6984904256707078,
          "sample_id": "dpgi",
          "unnormalized_error": 247.54565725707147
         },
         {
          "author": "Millard",
          "normalized_error": null,
          "sample_id": "eno(200)",
          "unnormalized_error": null
         },
         {
          "author": "Millard",
          "normalized_error": null,
          "sample_id": "eno(50)",
          "unnormalized_error": null
         },
         {
          "author": "Millard",
          "normalized_error": null,
          "sample_id": "eno(500)",
          "unnormalized_error": null
         },
         {
          "author": "Millard",
          "normalized_error": 0.4744666317916269,
          "sample_id": "pgi(0)",
          "unnormalized_error": 190.5548962046545
         },
         {
          "author": "Millard",
          "normalized_error": 0.39512463314277546,
          "sample_id": "pgi(100)",
          "unnormalized_error": 164.2881612923707
         },
         {
          "author": "Millard",
          "normalized_error": 0.863679333260289,
          "sample_id": "pgi(20)",
          "unnormalized_error": 1524.0853036524366
         },
         {
          "author": "Millard",
          "normalized_error": 0.47388293479827653,
          "sample_id": "pgi(50)",
          "unnormalized_error": 185.7074970757067
         },
         {
          "author": "Usui",
          "normalized_error": 0,
          "sample_id": "WT",
          "unnormalized_error": 0
         },
         {
          "author": "Usui",
          "normalized_error": 0,
          "sample_id": "dpgi",
          "unnormalized_error": 0
         },
         {
          "author": "Usui",
          "normalized_error": 0,
          "sample_id": "eno(200)",
          "unnormalized_error": 0
         },
         {
          "author": "Usui",
          "normalized_error": 0,
          "sample_id": "eno(50)",
          "unnormalized_error": 0
         },
         {
          "author": "Usui",
          "normalized_error": 0,
          "sample_id": "eno(500)",
          "unnormalized_error": 0
         },
         {
          "author": "Usui",
          "normalized_error": 0,
          "sample_id": "pgi(0)",
          "unnormalized_error": 0
         },
         {
          "author": "Usui",
          "normalized_error": 0,
          "sample_id": "pgi(100)",
          "unnormalized_error": 0
         },
         {
          "author": "Usui",
          "normalized_error": 0,
          "sample_id": "pgi(20)",
          "unnormalized_error": 0
         },
         {
          "author": "Usui",
          "normalized_error": 0,
          "sample_id": "pgi(50)",
          "unnormalized_error": 0
         }
        ]
       },
       "encoding": {
        "color": {
         "condition": {
          "field": "author",
          "selection": "selector005",
          "sort": [
           "Khodayari",
           "Kurata",
           "Millard"
          ],
          "type": "nominal"
         },
         "value": "lightgray"
        },
        "opacity": {
         "condition": {
          "selection": "selector005",
          "value": 0.4
         },
         "value": 1
        },
        "size": {
         "condition": {
          "selection": "selector005",
          "value": 100
         },
         "value": 40
        },
        "tooltip": [
         {
          "field": "author",
          "type": "nominal"
         },
         {
          "field": "sample_id",
          "type": "nominal"
         },
         {
          "field": "normalized_error",
          "type": "quantitative"
         }
        ],
        "x": {
         "field": "author",
         "sort": [
          "Khodayari",
          "Kurata",
          "Millard"
         ],
         "type": "nominal"
        },
        "y": {
         "field": "normalized_error",
         "title": "Normalized error",
         "type": "quantitative"
        }
       },
       "height": 600,
       "mark": "circle",
       "selection": {
        "selector005": {
         "empty": "all",
         "fields": [
          "sample_id"
         ],
         "type": "single"
        }
       },
       "title": "Sensivity to zwf expression",
       "transform": [
        {
         "filter": "datum.normalized_error !== null"
        }
       ],
       "width": 700
      },
      "image/png": "[encoded data removed]",
      "text/plain": [
       "<VegaLite 3 object>\n",
       "\n",
       "If you see this message, it means the renderer has not been properly enabled\n",
       "for the frontend that you are using. For more information, see\n",
       "https://altair-viz.github.io/user_guide/troubleshooting.html\n"
      ]
     },
     "execution_count": 20,
     "metadata": {},
     "output_type": "execute_result"
    }
   ],
   "source": [
    "summary_chart(norm_error=x_norm_error_pgi,\n",
    "              author=\"Nicolas\",\n",
    "              title=\"Sensivity to zwf expression\",\n",
    "              sort_list=[\"Khodayari\", \"Kurata\", \"Millard\"])"
   ]
  },
  {
   "cell_type": "code",
   "execution_count": 19,
   "metadata": {},
   "outputs": [
    {
     "data": {
      "application/vnd.vegalite.v3+json": {
       "$schema": "https://vega.github.io/schema/vega-lite/v3.2.1.json",
       "config": {
        "invalidValues": null,
        "mark": {
         "tooltip": null
        },
        "view": {
         "height": 300,
         "width": 400
        }
       },
       "data": {
        "name": "data-61c07a6ea2590b1262055498bce10c17"
       },
       "datasets": {
        "data-61c07a6ea2590b1262055498bce10c17": [
         {
          "author": "Khodayari",
          "normalized_error": 0.3601714901667807,
          "sample_id": "WT",
          "unnormalized_error": 154.3024770952614
         },
         {
          "author": "Khodayari",
          "normalized_error": null,
          "sample_id": "dpgi",
          "unnormalized_error": null
         },
         {
          "author": "Khodayari",
          "normalized_error": null,
          "sample_id": "eno(0)",
          "unnormalized_error": null
         },
         {
          "author": "Khodayari",
          "normalized_error": 0.4133483441993909,
          "sample_id": "eno(200)",
          "unnormalized_error": 175.72025404853568
         },
         {
          "author": "Khodayari",
          "normalized_error": 0.3679404261504206,
          "sample_id": "eno(50)",
          "unnormalized_error": 157.57391877989247
         },
         {
          "author": "Khodayari",
          "normalized_error": 0.414639501900478,
          "sample_id": "eno(500)",
          "unnormalized_error": 174.26822256568815
         },
         {
          "author": "Khodayari",
          "normalized_error": null,
          "sample_id": "pgi(0)",
          "unnormalized_error": null
         },
         {
          "author": "Khodayari",
          "normalized_error": null,
          "sample_id": "pgi(100)",
          "unnormalized_error": null
         },
         {
          "author": "Khodayari",
          "normalized_error": null,
          "sample_id": "pgi(20)",
          "unnormalized_error": null
         },
         {
          "author": "Khodayari",
          "normalized_error": null,
          "sample_id": "pgi(50)",
          "unnormalized_error": null
         },
         {
          "author": "Kurata",
          "normalized_error": 0.38923345746465693,
          "sample_id": "WT",
          "unnormalized_error": 166.75302819592534
         },
         {
          "author": "Kurata",
          "normalized_error": null,
          "sample_id": "dpgi",
          "unnormalized_error": null
         },
         {
          "author": "Kurata",
          "normalized_error": null,
          "sample_id": "eno(0)",
          "unnormalized_error": null
         },
         {
          "author": "Kurata",
          "normalized_error": 0.4257714974591877,
          "sample_id": "eno(200)",
          "unnormalized_error": 181.00151300972396
         },
         {
          "author": "Kurata",
          "normalized_error": 0.387519239772208,
          "sample_id": "eno(50)",
          "unnormalized_error": 165.9587282984446
         },
         {
          "author": "Kurata",
          "normalized_error": 0.42711584368738864,
          "sample_id": "eno(500)",
          "unnormalized_error": 179.51188578967302
         },
         {
          "author": "Kurata",
          "normalized_error": null,
          "sample_id": "pgi(0)",
          "unnormalized_error": null
         },
         {
          "author": "Kurata",
          "normalized_error": null,
          "sample_id": "pgi(100)",
          "unnormalized_error": null
         },
         {
          "author": "Kurata",
          "normalized_error": null,
          "sample_id": "pgi(20)",
          "unnormalized_error": null
         },
         {
          "author": "Kurata",
          "normalized_error": null,
          "sample_id": "pgi(50)",
          "unnormalized_error": null
         },
         {
          "author": "Millard",
          "normalized_error": 0.3066284396827725,
          "sample_id": "WT",
          "unnormalized_error": 131.36388937669048
         },
         {
          "author": "Millard",
          "normalized_error": null,
          "sample_id": "dpgi",
          "unnormalized_error": null
         },
         {
          "author": "Millard",
          "normalized_error": null,
          "sample_id": "eno(0)",
          "unnormalized_error": null
         },
         {
          "author": "Millard",
          "normalized_error": 0.34906449658415795,
          "sample_id": "eno(200)",
          "unnormalized_error": 148.39227707055812
         },
         {
          "author": "Millard",
          "normalized_error": 0.3154443248192869,
          "sample_id": "eno(50)",
          "unnormalized_error": 135.09197382494665
         },
         {
          "author": "Millard",
          "normalized_error": 0.34886430993949347,
          "sample_id": "eno(500)",
          "unnormalized_error": 146.62366448711668
         },
         {
          "author": "Millard",
          "normalized_error": null,
          "sample_id": "pgi(0)",
          "unnormalized_error": null
         },
         {
          "author": "Millard",
          "normalized_error": null,
          "sample_id": "pgi(100)",
          "unnormalized_error": null
         },
         {
          "author": "Millard",
          "normalized_error": null,
          "sample_id": "pgi(20)",
          "unnormalized_error": null
         },
         {
          "author": "Millard",
          "normalized_error": null,
          "sample_id": "pgi(50)",
          "unnormalized_error": null
         }
        ]
       },
       "encoding": {
        "color": {
         "condition": {
          "field": "author",
          "selection": "selector004",
          "sort": [
           "Khodayari",
           "Kurata",
           "Millard"
          ],
          "type": "nominal"
         },
         "value": "lightgray"
        },
        "opacity": {
         "condition": {
          "selection": "selector004",
          "value": 0.4
         },
         "value": 1
        },
        "size": {
         "condition": {
          "selection": "selector004",
          "value": 100
         },
         "value": 40
        },
        "tooltip": [
         {
          "field": "author",
          "type": "nominal"
         },
         {
          "field": "sample_id",
          "type": "nominal"
         },
         {
          "field": "normalized_error",
          "type": "quantitative"
         }
        ],
        "x": {
         "field": "author",
         "sort": [
          "Khodayari",
          "Kurata",
          "Millard"
         ],
         "type": "nominal"
        },
        "y": {
         "field": "normalized_error",
         "title": "Normalized error",
         "type": "quantitative"
        }
       },
       "height": 600,
       "mark": "circle",
       "selection": {
        "selector004": {
         "empty": "all",
         "fields": [
          "sample_id"
         ],
         "type": "single"
        }
       },
       "title": "Sensivity to eno expression",
       "transform": [
        {
         "filter": "datum.normalized_error !== null"
        }
       ],
       "width": 700
      },
      "image/png": "[encoded data removed]",
      "text/plain": [
       "<VegaLite 3 object>\n",
       "\n",
       "If you see this message, it means the renderer has not been properly enabled\n",
       "for the frontend that you are using. For more information, see\n",
       "https://altair-viz.github.io/user_guide/troubleshooting.html\n"
      ]
     },
     "execution_count": 19,
     "metadata": {},
     "output_type": "execute_result"
    }
   ],
   "source": [
    "summary_chart(norm_error=x_norm_error_eno,\n",
    "              author=\"Usui\",\n",
    "              title=\"Sensivity to eno expression\",\n",
    "              sort_list=[\"Khodayari\", \"Kurata\", \"Millard\"])"
   ]
  },
  {
   "cell_type": "code",
   "execution_count": 15,
   "metadata": {},
   "outputs": [
    {
     "data": {
      "application/vnd.vegalite.v3+json": {
       "$schema": "https://vega.github.io/schema/vega-lite/v3.2.1.json",
       "config": {
        "invalidValues": null,
        "mark": {
         "tooltip": null
        },
        "view": {
         "height": 300,
         "width": 400
        }
       },
       "data": {
        "name": "data-4e2a9ade5510124d318279d199cf782e"
       },
       "datasets": {
        "data-4e2a9ade5510124d318279d199cf782e": [
         {
          "BiGG_ID": "CS",
          "author": "Khodayari",
          "relative_error": 262.2546808894386,
          "sample_id": "WT"
         },
         {
          "BiGG_ID": "EDD",
          "author": "Khodayari",
          "relative_error": 100,
          "sample_id": "WT"
         },
         {
          "BiGG_ID": "ENO",
          "author": "Khodayari",
          "relative_error": 2.0859984900439157,
          "sample_id": "WT"
         },
         {
          "BiGG_ID": "FUM",
          "author": "Khodayari",
          "relative_error": 444.32144954526063,
          "sample_id": "WT"
         },
         {
          "BiGG_ID": "G6PDH2r",
          "author": "Khodayari",
          "relative_error": 9.72747665021859,
          "sample_id": "WT"
         },
         {
          "BiGG_ID": "GLCptspp",
          "author": "Khodayari",
          "relative_error": 0.11656793522178076,
          "sample_id": "WT"
         },
         {
          "BiGG_ID": "GND",
          "author": "Khodayari",
          "relative_error": 11.523110720126443,
          "sample_id": "WT"
         },
         {
          "BiGG_ID": "ICDHyr",
          "author": "Khodayari",
          "relative_error": 209.80338103626016,
          "sample_id": "WT"
         },
         {
          "BiGG_ID": "MDH",
          "author": "Khodayari",
          "relative_error": 494.5298489018542,
          "sample_id": "WT"
         },
         {
          "BiGG_ID": "PDH",
          "author": "Khodayari",
          "relative_error": 17.07452490348005,
          "sample_id": "WT"
         },
         {
          "BiGG_ID": "PFK",
          "author": "Khodayari",
          "relative_error": 2.8595023653701444,
          "sample_id": "WT"
         },
         {
          "BiGG_ID": "PGI",
          "author": "Khodayari",
          "relative_error": 1.493818869290582,
          "sample_id": "WT"
         },
         {
          "BiGG_ID": "PGK",
          "author": "Khodayari",
          "relative_error": 4.94155651483551,
          "sample_id": "WT"
         },
         {
          "BiGG_ID": "PPC",
          "author": "Khodayari",
          "relative_error": 35.07311833446865,
          "sample_id": "WT"
         },
         {
          "BiGG_ID": "PTAr",
          "author": "Khodayari",
          "relative_error": 100,
          "sample_id": "WT"
         },
         {
          "BiGG_ID": "PYK",
          "author": "Khodayari",
          "relative_error": 75.74536771969476,
          "sample_id": "WT"
         },
         {
          "BiGG_ID": "TALA",
          "author": "Khodayari",
          "relative_error": 32.29076934393241,
          "sample_id": "WT"
         },
         {
          "BiGG_ID": "TKT1",
          "author": "Khodayari",
          "relative_error": 29.326126751654552,
          "sample_id": "WT"
         },
         {
          "BiGG_ID": "CS",
          "author": "Khodayari",
          "relative_error": 88.0363378650872,
          "sample_id": "dzwf"
         },
         {
          "BiGG_ID": "EDD",
          "author": "Khodayari",
          "relative_error": 0,
          "sample_id": "dzwf"
         },
         {
          "BiGG_ID": "ENO",
          "author": "Khodayari",
          "relative_error": 51.23563354908928,
          "sample_id": "dzwf"
         },
         {
          "BiGG_ID": "FUM",
          "author": "Khodayari",
          "relative_error": 212.29653941547105,
          "sample_id": "dzwf"
         },
         {
          "BiGG_ID": "G6PDH2r",
          "author": "Khodayari",
          "relative_error": 0,
          "sample_id": "dzwf"
         },
         {
          "BiGG_ID": "GLCptspp",
          "author": "Khodayari",
          "relative_error": 2.4000323453112316,
          "sample_id": "dzwf"
         },
         {
          "BiGG_ID": "GND",
          "author": "Khodayari",
          "relative_error": 100,
          "sample_id": "dzwf"
         },
         {
          "BiGG_ID": "ICDHyr",
          "author": "Khodayari",
          "relative_error": 77.86362077823641,
          "sample_id": "dzwf"
         },
         {
          "BiGG_ID": "MDH",
          "author": "Khodayari",
          "relative_error": 337.56629725452865,
          "sample_id": "dzwf"
         },
         {
          "BiGG_ID": "PDH",
          "author": "Khodayari",
          "relative_error": 5.728713287765851,
          "sample_id": "dzwf"
         },
         {
          "BiGG_ID": "PFK",
          "author": "Khodayari",
          "relative_error": 4.491485461087464,
          "sample_id": "dzwf"
         },
         {
          "BiGG_ID": "PGI",
          "author": "Khodayari",
          "relative_error": 0.5884794719175748,
          "sample_id": "dzwf"
         },
         {
          "BiGG_ID": "PGK",
          "author": "Khodayari",
          "relative_error": 52.670477326516426,
          "sample_id": "dzwf"
         },
         {
          "BiGG_ID": "PPC",
          "author": "Khodayari",
          "relative_error": 224.3224895975934,
          "sample_id": "dzwf"
         },
         {
          "BiGG_ID": "PTAr",
          "author": "Khodayari",
          "relative_error": 101.32513832648888,
          "sample_id": "dzwf"
         },
         {
          "BiGG_ID": "PYK",
          "author": "Khodayari",
          "relative_error": 88.61808139935923,
          "sample_id": "dzwf"
         },
         {
          "BiGG_ID": "TALA",
          "author": "Khodayari",
          "relative_error": 115.93054757862392,
          "sample_id": "dzwf"
         },
         {
          "BiGG_ID": "TKT1",
          "author": "Khodayari",
          "relative_error": 92.0945398553755,
          "sample_id": "dzwf"
         },
         {
          "BiGG_ID": "CS",
          "author": "Khodayari",
          "relative_error": 92.69078504027479,
          "sample_id": "zwf(15)"
         },
         {
          "BiGG_ID": "EDD",
          "author": "Khodayari",
          "relative_error": 100,
          "sample_id": "zwf(15)"
         },
         {
          "BiGG_ID": "ENO",
          "author": "Khodayari",
          "relative_error": 33.52646431259412,
          "sample_id": "zwf(15)"
         },
         {
          "BiGG_ID": "FUM",
          "author": "Khodayari",
          "relative_error": 491.96191122859574,
          "sample_id": "zwf(15)"
         },
         {
          "BiGG_ID": "G6PDH2r",
          "author": "Khodayari",
          "relative_error": 552.1738178478697,
          "sample_id": "zwf(15)"
         },
         {
          "BiGG_ID": "GLCptspp",
          "author": "Khodayari",
          "relative_error": 0.14452209952800388,
          "sample_id": "zwf(15)"
         },
         {
          "BiGG_ID": "GND",
          "author": "Khodayari",
          "relative_error": 963.9434625589486,
          "sample_id": "zwf(15)"
         },
         {
          "BiGG_ID": "ICDHyr",
          "author": "Khodayari",
          "relative_error": 19.4741111148864,
          "sample_id": "zwf(15)"
         },
         {
          "BiGG_ID": "MDH",
          "author": "Khodayari",
          "relative_error": 168.8688444607263,
          "sample_id": "zwf(15)"
         },
         {
          "BiGG_ID": "PDH",
          "author": "Khodayari",
          "relative_error": 1.827034304154883,
          "sample_id": "zwf(15)"
         },
         {
          "BiGG_ID": "PFK",
          "author": "Khodayari",
          "relative_error": 71.15648390369222,
          "sample_id": "zwf(15)"
         },
         {
          "BiGG_ID": "PGI",
          "author": "Khodayari",
          "relative_error": 159.82412202096378,
          "sample_id": "zwf(15)"
         },
         {
          "BiGG_ID": "PGK",
          "author": "Khodayari",
          "relative_error": 35.04652846731694,
          "sample_id": "zwf(15)"
         },
         {
          "BiGG_ID": "PPC",
          "author": "Khodayari",
          "relative_error": 100.88343748123003,
          "sample_id": "zwf(15)"
         },
         {
          "BiGG_ID": "PTAr",
          "author": "Khodayari",
          "relative_error": 100.97850254249492,
          "sample_id": "zwf(15)"
         },
         {
          "BiGG_ID": "PYK",
          "author": "Khodayari",
          "relative_error": 95.73407847855925,
          "sample_id": "zwf(15)"
         },
         {
          "BiGG_ID": "TALA",
          "author": "Khodayari",
          "relative_error": 1431.779724330589,
          "sample_id": "zwf(15)"
         },
         {
          "BiGG_ID": "TKT1",
          "author": "Khodayari",
          "relative_error": 1890.4741434034136,
          "sample_id": "zwf(15)"
         }
        ]
       },
       "encoding": {
        "color": {
         "condition": {
          "test": "datum.relative_error === null",
          "value": "lightgrey"
         },
         "field": "relative_error",
         "scale": {
          "domain": [
           0,
           25,
           50,
           75,
           100,
           200,
           300
          ],
          "scheme": "greenblue",
          "type": "threshold"
         },
         "title": "relative error (clipped at 300)",
         "type": "quantitative"
        },
        "tooltip": [
         {
          "field": "sample_id",
          "type": "nominal"
         },
         {
          "field": "BiGG_ID",
          "type": "nominal"
         },
         {
          "field": "relative_error",
          "type": "quantitative"
         }
        ],
        "x": {
         "field": "sample_id",
         "type": "nominal"
        },
        "y": {
         "field": "BiGG_ID",
         "type": "nominal"
        }
       },
       "mark": "rect",
       "title": "Heatmap for author Khodayari"
      },
      "image/png": "[encoded data removed]",
      "text/plain": [
       "<VegaLite 3 object>\n",
       "\n",
       "If you see this message, it means the renderer has not been properly enabled\n",
       "for the frontend that you are using. For more information, see\n",
       "https://altair-viz.github.io/user_guide/troubleshooting.html\n"
      ]
     },
     "execution_count": 15,
     "metadata": {},
     "output_type": "execute_result"
    }
   ],
   "source": [
    "heatmap(xdf=x_rel_error_zwf, author=\"Khodayari\")"
   ]
  },
  {
   "cell_type": "code",
   "execution_count": 16,
   "metadata": {},
   "outputs": [
    {
     "data": {
      "text/html": [
       "<div>\n",
       "<style scoped>\n",
       "    .dataframe tbody tr th:only-of-type {\n",
       "        vertical-align: middle;\n",
       "    }\n",
       "\n",
       "    .dataframe tbody tr th {\n",
       "        vertical-align: top;\n",
       "    }\n",
       "\n",
       "    .dataframe thead th {\n",
       "        text-align: right;\n",
       "    }\n",
       "</style>\n",
       "<table border=\"1\" class=\"dataframe\">\n",
       "  <thead>\n",
       "    <tr style=\"text-align: right;\">\n",
       "      <th></th>\n",
       "      <th></th>\n",
       "      <th>author</th>\n",
       "      <th>flux</th>\n",
       "      <th>normalized_flux</th>\n",
       "      <th>relative_error</th>\n",
       "      <th>symm_relative_error</th>\n",
       "    </tr>\n",
       "    <tr>\n",
       "      <th>BiGG_ID</th>\n",
       "      <th>sample_id</th>\n",
       "      <th></th>\n",
       "      <th></th>\n",
       "      <th></th>\n",
       "      <th></th>\n",
       "      <th></th>\n",
       "    </tr>\n",
       "  </thead>\n",
       "  <tbody>\n",
       "    <tr>\n",
       "      <th rowspan=\"3\" valign=\"top\">CS</th>\n",
       "      <th>WT</th>\n",
       "      <td>Khodayari</td>\n",
       "      <td>9.788618e+01</td>\n",
       "      <td>89.114651</td>\n",
       "      <td>262.254681</td>\n",
       "      <td>113.467615</td>\n",
       "    </tr>\n",
       "    <tr>\n",
       "      <th>dzwf</th>\n",
       "      <td>Khodayari</td>\n",
       "      <td>4.242277e+00</td>\n",
       "      <td>95.710496</td>\n",
       "      <td>88.036338</td>\n",
       "      <td>61.128633</td>\n",
       "    </tr>\n",
       "    <tr>\n",
       "      <th>zwf(15)</th>\n",
       "      <td>Khodayari</td>\n",
       "      <td>2.174000e+00</td>\n",
       "      <td>55.109565</td>\n",
       "      <td>92.690785</td>\n",
       "      <td>63.337003</td>\n",
       "    </tr>\n",
       "    <tr>\n",
       "      <th rowspan=\"3\" valign=\"top\">EDD</th>\n",
       "      <th>WT</th>\n",
       "      <td>Khodayari</td>\n",
       "      <td>2.533307e-09</td>\n",
       "      <td>0.000000</td>\n",
       "      <td>100.000000</td>\n",
       "      <td>200.000000</td>\n",
       "    </tr>\n",
       "    <tr>\n",
       "      <th>dzwf</th>\n",
       "      <td>Khodayari</td>\n",
       "      <td>-1.156589e-10</td>\n",
       "      <td>0.000000</td>\n",
       "      <td>0.000000</td>\n",
       "      <td>NaN</td>\n",
       "    </tr>\n",
       "    <tr>\n",
       "      <th>zwf(15)</th>\n",
       "      <td>Khodayari</td>\n",
       "      <td>3.326007e-10</td>\n",
       "      <td>0.000000</td>\n",
       "      <td>100.000000</td>\n",
       "      <td>200.000000</td>\n",
       "    </tr>\n",
       "    <tr>\n",
       "      <th rowspan=\"3\" valign=\"top\">ENO</th>\n",
       "      <th>WT</th>\n",
       "      <td>Khodayari</td>\n",
       "      <td>1.708927e+02</td>\n",
       "      <td>155.579062</td>\n",
       "      <td>2.085998</td>\n",
       "      <td>2.064466</td>\n",
       "    </tr>\n",
       "    <tr>\n",
       "      <th>dzwf</th>\n",
       "      <td>Khodayari</td>\n",
       "      <td>3.626887e+00</td>\n",
       "      <td>81.826607</td>\n",
       "      <td>51.235634</td>\n",
       "      <td>68.881594</td>\n",
       "    </tr>\n",
       "    <tr>\n",
       "      <th>zwf(15)</th>\n",
       "      <td>Khodayari</td>\n",
       "      <td>3.930818e+00</td>\n",
       "      <td>99.643830</td>\n",
       "      <td>33.526464</td>\n",
       "      <td>40.278431</td>\n",
       "    </tr>\n",
       "    <tr>\n",
       "      <th rowspan=\"3\" valign=\"top\">FUM</th>\n",
       "      <th>WT</th>\n",
       "      <td>Khodayari</td>\n",
       "      <td>8.848903e+01</td>\n",
       "      <td>80.559575</td>\n",
       "      <td>444.321450</td>\n",
       "      <td>137.919186</td>\n",
       "    </tr>\n",
       "    <tr>\n",
       "      <th>dzwf</th>\n",
       "      <td>Khodayari</td>\n",
       "      <td>5.882956e+00</td>\n",
       "      <td>132.726029</td>\n",
       "      <td>212.296539</td>\n",
       "      <td>102.982450</td>\n",
       "    </tr>\n",
       "    <tr>\n",
       "      <th>zwf(15)</th>\n",
       "      <td>Khodayari</td>\n",
       "      <td>4.390198e+00</td>\n",
       "      <td>111.288839</td>\n",
       "      <td>491.961911</td>\n",
       "      <td>142.193350</td>\n",
       "    </tr>\n",
       "    <tr>\n",
       "      <th rowspan=\"3\" valign=\"top\">G6PDH2r</th>\n",
       "      <th>WT</th>\n",
       "      <td>Khodayari</td>\n",
       "      <td>1.963329e+01</td>\n",
       "      <td>17.873960</td>\n",
       "      <td>9.727477</td>\n",
       "      <td>10.224783</td>\n",
       "    </tr>\n",
       "    <tr>\n",
       "      <th>dzwf</th>\n",
       "      <td>Khodayari</td>\n",
       "      <td>5.706007e-08</td>\n",
       "      <td>0.000000</td>\n",
       "      <td>0.000000</td>\n",
       "      <td>NaN</td>\n",
       "    </tr>\n",
       "    <tr>\n",
       "      <th>zwf(15)</th>\n",
       "      <td>Khodayari</td>\n",
       "      <td>5.711482e+00</td>\n",
       "      <td>144.782588</td>\n",
       "      <td>552.173818</td>\n",
       "      <td>146.820803</td>\n",
       "    </tr>\n",
       "    <tr>\n",
       "      <th rowspan=\"3\" valign=\"top\">GLCptspp</th>\n",
       "      <th>WT</th>\n",
       "      <td>Khodayari</td>\n",
       "      <td>1.097149e+02</td>\n",
       "      <td>99.883432</td>\n",
       "      <td>0.116568</td>\n",
       "      <td>0.116636</td>\n",
       "    </tr>\n",
       "    <tr>\n",
       "      <th>dzwf</th>\n",
       "      <td>Khodayari</td>\n",
       "      <td>4.326026e+00</td>\n",
       "      <td>97.599968</td>\n",
       "      <td>2.400032</td>\n",
       "      <td>2.429183</td>\n",
       "    </tr>\n",
       "    <tr>\n",
       "      <th>zwf(15)</th>\n",
       "      <td>Khodayari</td>\n",
       "      <td>3.950569e+00</td>\n",
       "      <td>100.144522</td>\n",
       "      <td>0.144522</td>\n",
       "      <td>0.144418</td>\n",
       "    </tr>\n",
       "    <tr>\n",
       "      <th rowspan=\"3\" valign=\"top\">GND</th>\n",
       "      <th>WT</th>\n",
       "      <td>Khodayari</td>\n",
       "      <td>1.788504e+01</td>\n",
       "      <td>16.282374</td>\n",
       "      <td>11.523111</td>\n",
       "      <td>10.895368</td>\n",
       "    </tr>\n",
       "    <tr>\n",
       "      <th>dzwf</th>\n",
       "      <td>Khodayari</td>\n",
       "      <td>1.675605e-02</td>\n",
       "      <td>0.378035</td>\n",
       "      <td>100.000000</td>\n",
       "      <td>200.000000</td>\n",
       "    </tr>\n",
       "    <tr>\n",
       "      <th>zwf(15)</th>\n",
       "      <td>Khodayari</td>\n",
       "      <td>6.127790e+00</td>\n",
       "      <td>155.335746</td>\n",
       "      <td>963.943463</td>\n",
       "      <td>165.634070</td>\n",
       "    </tr>\n",
       "    <tr>\n",
       "      <th rowspan=\"3\" valign=\"top\">ICDHyr</th>\n",
       "      <th>WT</th>\n",
       "      <td>Khodayari</td>\n",
       "      <td>8.371312e+01</td>\n",
       "      <td>76.211632</td>\n",
       "      <td>209.803381</td>\n",
       "      <td>102.392216</td>\n",
       "    </tr>\n",
       "    <tr>\n",
       "      <th>dzwf</th>\n",
       "      <td>Khodayari</td>\n",
       "      <td>4.012771e+00</td>\n",
       "      <td>90.532583</td>\n",
       "      <td>77.863621</td>\n",
       "      <td>56.044487</td>\n",
       "    </tr>\n",
       "    <tr>\n",
       "      <th>zwf(15)</th>\n",
       "      <td>Khodayari</td>\n",
       "      <td>1.347946e+00</td>\n",
       "      <td>34.169596</td>\n",
       "      <td>19.474111</td>\n",
       "      <td>17.746158</td>\n",
       "    </tr>\n",
       "    <tr>\n",
       "      <th rowspan=\"3\" valign=\"top\">MDH</th>\n",
       "      <th>WT</th>\n",
       "      <td>Khodayari</td>\n",
       "      <td>9.665129e+01</td>\n",
       "      <td>87.990418</td>\n",
       "      <td>494.529849</td>\n",
       "      <td>142.407083</td>\n",
       "    </tr>\n",
       "    <tr>\n",
       "      <th>dzwf</th>\n",
       "      <td>Khodayari</td>\n",
       "      <td>6.148124e+00</td>\n",
       "      <td>138.708516</td>\n",
       "      <td>337.566297</td>\n",
       "      <td>125.590573</td>\n",
       "    </tr>\n",
       "    <tr>\n",
       "      <th>zwf(15)</th>\n",
       "      <td>Khodayari</td>\n",
       "      <td>1.994026e+00</td>\n",
       "      <td>50.547343</td>\n",
       "      <td>168.868844</td>\n",
       "      <td>91.560373</td>\n",
       "    </tr>\n",
       "    <tr>\n",
       "      <th rowspan=\"3\" valign=\"top\">PDH</th>\n",
       "      <th>WT</th>\n",
       "      <td>Khodayari</td>\n",
       "      <td>1.278265e+02</td>\n",
       "      <td>116.372078</td>\n",
       "      <td>17.074525</td>\n",
       "      <td>15.731487</td>\n",
       "    </tr>\n",
       "    <tr>\n",
       "      <th>dzwf</th>\n",
       "      <td>Khodayari</td>\n",
       "      <td>5.525178e+00</td>\n",
       "      <td>124.654153</td>\n",
       "      <td>5.728713</td>\n",
       "      <td>5.569192</td>\n",
       "    </tr>\n",
       "    <tr>\n",
       "      <th>zwf(15)</th>\n",
       "      <td>Khodayari</td>\n",
       "      <td>3.849557e+00</td>\n",
       "      <td>97.583928</td>\n",
       "      <td>1.827034</td>\n",
       "      <td>1.843878</td>\n",
       "    </tr>\n",
       "    <tr>\n",
       "      <th rowspan=\"3\" valign=\"top\">PFK</th>\n",
       "      <th>WT</th>\n",
       "      <td>Khodayari</td>\n",
       "      <td>9.151699e+01</td>\n",
       "      <td>83.316197</td>\n",
       "      <td>2.859502</td>\n",
       "      <td>2.819195</td>\n",
       "    </tr>\n",
       "    <tr>\n",
       "      <th>dzwf</th>\n",
       "      <td>Khodayari</td>\n",
       "      <td>4.274862e+00</td>\n",
       "      <td>96.445641</td>\n",
       "      <td>4.491485</td>\n",
       "      <td>4.392834</td>\n",
       "    </tr>\n",
       "    <tr>\n",
       "      <th>zwf(15)</th>\n",
       "      <td>Khodayari</td>\n",
       "      <td>8.932034e-01</td>\n",
       "      <td>22.642160</td>\n",
       "      <td>71.156484</td>\n",
       "      <td>110.454117</td>\n",
       "    </tr>\n",
       "    <tr>\n",
       "      <th rowspan=\"3\" valign=\"top\">PGI</th>\n",
       "      <th>WT</th>\n",
       "      <td>Khodayari</td>\n",
       "      <td>8.740332e+01</td>\n",
       "      <td>79.571154</td>\n",
       "      <td>1.493819</td>\n",
       "      <td>1.482744</td>\n",
       "    </tr>\n",
       "    <tr>\n",
       "      <th>dzwf</th>\n",
       "      <td>Khodayari</td>\n",
       "      <td>4.391612e+00</td>\n",
       "      <td>99.079652</td>\n",
       "      <td>0.588479</td>\n",
       "      <td>0.586753</td>\n",
       "    </tr>\n",
       "    <tr>\n",
       "      <th>zwf(15)</th>\n",
       "      <td>Khodayari</td>\n",
       "      <td>-1.791227e+00</td>\n",
       "      <td>-45.406509</td>\n",
       "      <td>159.824122</td>\n",
       "      <td>200.000000</td>\n",
       "    </tr>\n",
       "    <tr>\n",
       "      <th rowspan=\"3\" valign=\"top\">PGK</th>\n",
       "      <th>WT</th>\n",
       "      <td>Khodayari</td>\n",
       "      <td>1.732245e+02</td>\n",
       "      <td>157.701958</td>\n",
       "      <td>4.941557</td>\n",
       "      <td>5.066745</td>\n",
       "    </tr>\n",
       "    <tr>\n",
       "      <th>dzwf</th>\n",
       "      <td>Khodayari</td>\n",
       "      <td>3.763519e+00</td>\n",
       "      <td>84.909164</td>\n",
       "      <td>52.670477</td>\n",
       "      <td>71.500235</td>\n",
       "    </tr>\n",
       "    <tr>\n",
       "      <th>zwf(15)</th>\n",
       "      <td>Khodayari</td>\n",
       "      <td>4.189408e+00</td>\n",
       "      <td>106.198926</td>\n",
       "      <td>35.046528</td>\n",
       "      <td>42.492623</td>\n",
       "    </tr>\n",
       "    <tr>\n",
       "      <th rowspan=\"3\" valign=\"top\">PPC</th>\n",
       "      <th>WT</th>\n",
       "      <td>Khodayari</td>\n",
       "      <td>1.854258e+01</td>\n",
       "      <td>16.880989</td>\n",
       "      <td>35.073118</td>\n",
       "      <td>42.531718</td>\n",
       "    </tr>\n",
       "    <tr>\n",
       "      <th>dzwf</th>\n",
       "      <td>Khodayari</td>\n",
       "      <td>-1.823968e+00</td>\n",
       "      <td>-41.150744</td>\n",
       "      <td>224.322490</td>\n",
       "      <td>200.000000</td>\n",
       "    </tr>\n",
       "    <tr>\n",
       "      <th>zwf(15)</th>\n",
       "      <td>Khodayari</td>\n",
       "      <td>-9.061115e-03</td>\n",
       "      <td>-0.229694</td>\n",
       "      <td>100.883437</td>\n",
       "      <td>200.000000</td>\n",
       "    </tr>\n",
       "    <tr>\n",
       "      <th rowspan=\"3\" valign=\"top\">PTAr</th>\n",
       "      <th>WT</th>\n",
       "      <td>Khodayari</td>\n",
       "      <td>-4.204446e-03</td>\n",
       "      <td>0.000000</td>\n",
       "      <td>100.000000</td>\n",
       "      <td>200.000000</td>\n",
       "    </tr>\n",
       "    <tr>\n",
       "      <th>dzwf</th>\n",
       "      <td>Khodayari</td>\n",
       "      <td>-2.584362e-02</td>\n",
       "      <td>-0.583061</td>\n",
       "      <td>101.325138</td>\n",
       "      <td>200.000000</td>\n",
       "    </tr>\n",
       "    <tr>\n",
       "      <th>zwf(15)</th>\n",
       "      <td>Khodayari</td>\n",
       "      <td>-1.698428e-02</td>\n",
       "      <td>-0.430541</td>\n",
       "      <td>100.978503</td>\n",
       "      <td>200.000000</td>\n",
       "    </tr>\n",
       "    <tr>\n",
       "      <th rowspan=\"3\" valign=\"top\">PYK</th>\n",
       "      <th>WT</th>\n",
       "      <td>Khodayari</td>\n",
       "      <td>3.197041e+01</td>\n",
       "      <td>29.105559</td>\n",
       "      <td>75.745368</td>\n",
       "      <td>121.919588</td>\n",
       "    </tr>\n",
       "    <tr>\n",
       "      <th>dzwf</th>\n",
       "      <td>Khodayari</td>\n",
       "      <td>6.513002e-01</td>\n",
       "      <td>14.694057</td>\n",
       "      <td>88.618081</td>\n",
       "      <td>159.124717</td>\n",
       "    </tr>\n",
       "    <tr>\n",
       "      <th>zwf(15)</th>\n",
       "      <td>Khodayari</td>\n",
       "      <td>1.975666e-01</td>\n",
       "      <td>5.008192</td>\n",
       "      <td>95.734078</td>\n",
       "      <td>183.634455</td>\n",
       "    </tr>\n",
       "    <tr>\n",
       "      <th rowspan=\"3\" valign=\"top\">TALA</th>\n",
       "      <th>WT</th>\n",
       "      <td>Khodayari</td>\n",
       "      <td>4.649988e+00</td>\n",
       "      <td>4.233305</td>\n",
       "      <td>32.290769</td>\n",
       "      <td>27.802025</td>\n",
       "    </tr>\n",
       "    <tr>\n",
       "      <th>dzwf</th>\n",
       "      <td>Khodayari</td>\n",
       "      <td>9.885491e-03</td>\n",
       "      <td>0.223028</td>\n",
       "      <td>115.930548</td>\n",
       "      <td>200.000000</td>\n",
       "    </tr>\n",
       "    <tr>\n",
       "      <th>zwf(15)</th>\n",
       "      <td>Khodayari</td>\n",
       "      <td>1.933654e+00</td>\n",
       "      <td>49.016951</td>\n",
       "      <td>1431.779724</td>\n",
       "      <td>175.486887</td>\n",
       "    </tr>\n",
       "    <tr>\n",
       "      <th rowspan=\"3\" valign=\"top\">TKT1</th>\n",
       "      <th>WT</th>\n",
       "      <td>Khodayari</td>\n",
       "      <td>4.545781e+00</td>\n",
       "      <td>4.138436</td>\n",
       "      <td>29.326127</td>\n",
       "      <td>25.575914</td>\n",
       "    </tr>\n",
       "    <tr>\n",
       "      <th>dzwf</th>\n",
       "      <td>Khodayari</td>\n",
       "      <td>-4.905629e-03</td>\n",
       "      <td>-0.110676</td>\n",
       "      <td>92.094540</td>\n",
       "      <td>170.694865</td>\n",
       "    </tr>\n",
       "    <tr>\n",
       "      <th>zwf(15)</th>\n",
       "      <td>Khodayari</td>\n",
       "      <td>2.512691e+00</td>\n",
       "      <td>63.695173</td>\n",
       "      <td>1890.474143</td>\n",
       "      <td>180.865585</td>\n",
       "    </tr>\n",
       "  </tbody>\n",
       "</table>\n",
       "</div>"
      ],
      "text/plain": [
       "                       author          flux  normalized_flux  relative_error  \\\n",
       "BiGG_ID  sample_id                                                             \n",
       "CS       WT         Khodayari  9.788618e+01        89.114651      262.254681   \n",
       "         dzwf       Khodayari  4.242277e+00        95.710496       88.036338   \n",
       "         zwf(15)    Khodayari  2.174000e+00        55.109565       92.690785   \n",
       "EDD      WT         Khodayari  2.533307e-09         0.000000      100.000000   \n",
       "         dzwf       Khodayari -1.156589e-10         0.000000        0.000000   \n",
       "         zwf(15)    Khodayari  3.326007e-10         0.000000      100.000000   \n",
       "ENO      WT         Khodayari  1.708927e+02       155.579062        2.085998   \n",
       "         dzwf       Khodayari  3.626887e+00        81.826607       51.235634   \n",
       "         zwf(15)    Khodayari  3.930818e+00        99.643830       33.526464   \n",
       "FUM      WT         Khodayari  8.848903e+01        80.559575      444.321450   \n",
       "         dzwf       Khodayari  5.882956e+00       132.726029      212.296539   \n",
       "         zwf(15)    Khodayari  4.390198e+00       111.288839      491.961911   \n",
       "G6PDH2r  WT         Khodayari  1.963329e+01        17.873960        9.727477   \n",
       "         dzwf       Khodayari  5.706007e-08         0.000000        0.000000   \n",
       "         zwf(15)    Khodayari  5.711482e+00       144.782588      552.173818   \n",
       "GLCptspp WT         Khodayari  1.097149e+02        99.883432        0.116568   \n",
       "         dzwf       Khodayari  4.326026e+00        97.599968        2.400032   \n",
       "         zwf(15)    Khodayari  3.950569e+00       100.144522        0.144522   \n",
       "GND      WT         Khodayari  1.788504e+01        16.282374       11.523111   \n",
       "         dzwf       Khodayari  1.675605e-02         0.378035      100.000000   \n",
       "         zwf(15)    Khodayari  6.127790e+00       155.335746      963.943463   \n",
       "ICDHyr   WT         Khodayari  8.371312e+01        76.211632      209.803381   \n",
       "         dzwf       Khodayari  4.012771e+00        90.532583       77.863621   \n",
       "         zwf(15)    Khodayari  1.347946e+00        34.169596       19.474111   \n",
       "MDH      WT         Khodayari  9.665129e+01        87.990418      494.529849   \n",
       "         dzwf       Khodayari  6.148124e+00       138.708516      337.566297   \n",
       "         zwf(15)    Khodayari  1.994026e+00        50.547343      168.868844   \n",
       "PDH      WT         Khodayari  1.278265e+02       116.372078       17.074525   \n",
       "         dzwf       Khodayari  5.525178e+00       124.654153        5.728713   \n",
       "         zwf(15)    Khodayari  3.849557e+00        97.583928        1.827034   \n",
       "PFK      WT         Khodayari  9.151699e+01        83.316197        2.859502   \n",
       "         dzwf       Khodayari  4.274862e+00        96.445641        4.491485   \n",
       "         zwf(15)    Khodayari  8.932034e-01        22.642160       71.156484   \n",
       "PGI      WT         Khodayari  8.740332e+01        79.571154        1.493819   \n",
       "         dzwf       Khodayari  4.391612e+00        99.079652        0.588479   \n",
       "         zwf(15)    Khodayari -1.791227e+00       -45.406509      159.824122   \n",
       "PGK      WT         Khodayari  1.732245e+02       157.701958        4.941557   \n",
       "         dzwf       Khodayari  3.763519e+00        84.909164       52.670477   \n",
       "         zwf(15)    Khodayari  4.189408e+00       106.198926       35.046528   \n",
       "PPC      WT         Khodayari  1.854258e+01        16.880989       35.073118   \n",
       "         dzwf       Khodayari -1.823968e+00       -41.150744      224.322490   \n",
       "         zwf(15)    Khodayari -9.061115e-03        -0.229694      100.883437   \n",
       "PTAr     WT         Khodayari -4.204446e-03         0.000000      100.000000   \n",
       "         dzwf       Khodayari -2.584362e-02        -0.583061      101.325138   \n",
       "         zwf(15)    Khodayari -1.698428e-02        -0.430541      100.978503   \n",
       "PYK      WT         Khodayari  3.197041e+01        29.105559       75.745368   \n",
       "         dzwf       Khodayari  6.513002e-01        14.694057       88.618081   \n",
       "         zwf(15)    Khodayari  1.975666e-01         5.008192       95.734078   \n",
       "TALA     WT         Khodayari  4.649988e+00         4.233305       32.290769   \n",
       "         dzwf       Khodayari  9.885491e-03         0.223028      115.930548   \n",
       "         zwf(15)    Khodayari  1.933654e+00        49.016951     1431.779724   \n",
       "TKT1     WT         Khodayari  4.545781e+00         4.138436       29.326127   \n",
       "         dzwf       Khodayari -4.905629e-03        -0.110676       92.094540   \n",
       "         zwf(15)    Khodayari  2.512691e+00        63.695173     1890.474143   \n",
       "\n",
       "                    symm_relative_error  \n",
       "BiGG_ID  sample_id                       \n",
       "CS       WT                  113.467615  \n",
       "         dzwf                 61.128633  \n",
       "         zwf(15)              63.337003  \n",
       "EDD      WT                  200.000000  \n",
       "         dzwf                       NaN  \n",
       "         zwf(15)             200.000000  \n",
       "ENO      WT                    2.064466  \n",
       "         dzwf                 68.881594  \n",
       "         zwf(15)              40.278431  \n",
       "FUM      WT                  137.919186  \n",
       "         dzwf                102.982450  \n",
       "         zwf(15)             142.193350  \n",
       "G6PDH2r  WT                   10.224783  \n",
       "         dzwf                       NaN  \n",
       "         zwf(15)             146.820803  \n",
       "GLCptspp WT                    0.116636  \n",
       "         dzwf                  2.429183  \n",
       "         zwf(15)               0.144418  \n",
       "GND      WT                   10.895368  \n",
       "         dzwf                200.000000  \n",
       "         zwf(15)             165.634070  \n",
       "ICDHyr   WT                  102.392216  \n",
       "         dzwf                 56.044487  \n",
       "         zwf(15)              17.746158  \n",
       "MDH      WT                  142.407083  \n",
       "         dzwf                125.590573  \n",
       "         zwf(15)              91.560373  \n",
       "PDH      WT                   15.731487  \n",
       "         dzwf                  5.569192  \n",
       "         zwf(15)               1.843878  \n",
       "PFK      WT                    2.819195  \n",
       "         dzwf                  4.392834  \n",
       "         zwf(15)             110.454117  \n",
       "PGI      WT                    1.482744  \n",
       "         dzwf                  0.586753  \n",
       "         zwf(15)             200.000000  \n",
       "PGK      WT                    5.066745  \n",
       "         dzwf                 71.500235  \n",
       "         zwf(15)              42.492623  \n",
       "PPC      WT                   42.531718  \n",
       "         dzwf                200.000000  \n",
       "         zwf(15)             200.000000  \n",
       "PTAr     WT                  200.000000  \n",
       "         dzwf                200.000000  \n",
       "         zwf(15)             200.000000  \n",
       "PYK      WT                  121.919588  \n",
       "         dzwf                159.124717  \n",
       "         zwf(15)             183.634455  \n",
       "TALA     WT                   27.802025  \n",
       "         dzwf                200.000000  \n",
       "         zwf(15)             175.486887  \n",
       "TKT1     WT                   25.575914  \n",
       "         dzwf                170.694865  \n",
       "         zwf(15)             180.865585  "
      ]
     },
     "execution_count": 16,
     "metadata": {},
     "output_type": "execute_result"
    }
   ],
   "source": [
    "x_rel_error_zwf.sel(author=\"Khodayari\").to_dataframe()"
   ]
  },
  {
   "cell_type": "markdown",
   "metadata": {},
   "source": [
    "# Export the data"
   ]
  },
  {
   "cell_type": "code",
   "execution_count": 33,
   "metadata": {},
   "outputs": [],
   "source": [
    "sensitivity_data = pd.concat([selected_data_zwf, selected_data_pgi, selected_data_eno], sort=False)"
   ]
  },
  {
   "cell_type": "code",
   "execution_count": 37,
   "metadata": {},
   "outputs": [],
   "source": [
    "path = data_path / \"Processed\"\n",
    "path.mkdir(parents=True, exist_ok=True)\n",
    "sensitivity_data.to_csv(path / \"sensitivity.csv\")"
   ]
  },
  {
   "cell_type": "code",
   "execution_count": null,
   "metadata": {},
   "outputs": [],
   "source": []
  }
 ],
 "metadata": {
  "kernelspec": {
   "display_name": "dataml-conda",
   "language": "python",
   "name": "dataml-conda"
  },
  "language_info": {
   "codemirror_mode": {
    "name": "ipython",
    "version": 3
   },
   "file_extension": ".py",
   "mimetype": "text/x-python",
   "name": "python",
   "nbconvert_exporter": "python",
   "pygments_lexer": "ipython3",
   "version": "3.6.6"
  }
 },
 "nbformat": 4,
 "nbformat_minor": 4
}
