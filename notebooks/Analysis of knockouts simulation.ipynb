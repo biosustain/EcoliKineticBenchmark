{
 "cells": [
  {
   "cell_type": "code",
   "execution_count": 1,
   "metadata": {},
   "outputs": [],
   "source": [
    "import numpy as np\n",
    "import pandas as pd\n",
    "import scipy\n",
    "import scipy.io as sio\n",
    "\n",
    "from pathlib import Path\n",
    "from matplotlib import pyplot as plt\n",
    "\n",
    "import altair as alt\n",
    "from altair.expr import datum\n",
    "\n",
    "import ipywidgets as widgets\n",
    "from ipywidgets import interact, interact_manual"
   ]
  },
  {
   "cell_type": "code",
   "execution_count": 2,
   "metadata": {},
   "outputs": [],
   "source": [
    "%load_ext watermark"
   ]
  },
  {
   "cell_type": "code",
   "execution_count": 3,
   "metadata": {},
   "outputs": [
    {
     "name": "stdout",
     "output_type": "stream",
     "text": [
      "altair    2.1.0\n",
      "pandas    0.23.4\n",
      "scipy     1.1.0\n",
      "matplotlib3.0.1\n",
      "ipywidgets7.2.1\n",
      "numpy     1.15.4\n",
      "\n"
     ]
    }
   ],
   "source": [
    "%watermark --iversions"
   ]
  },
  {
   "cell_type": "code",
   "execution_count": 4,
   "metadata": {},
   "outputs": [],
   "source": [
    "%matplotlib inline"
   ]
  },
  {
   "cell_type": "markdown",
   "metadata": {},
   "source": [
    "# 0. Utility functions\n",
    "- Define function that flattens the output from scipy.io.loadmat \n",
    "- Set paths to `data` folder\n",
    "- Load dataframes with ID -> BiGG ID conversion table\n",
    "- Define functions that help to load relevant experimental data from each simulation"
   ]
  },
  {
   "cell_type": "code",
   "execution_count": 5,
   "metadata": {},
   "outputs": [],
   "source": [
    "from utils import (\n",
    "    get_khodayari_kos,\n",
    "    get_millard_kos,\n",
    "    get_kurata_kos,\n",
    "    get_chassagnole_kos,\n",
    "    load_khodayari,\n",
    "    load_kurata,\n",
    "    load_millard,\n",
    "    load_chassagnole,\n",
    "    loadmat\n",
    ")"
   ]
  },
  {
   "cell_type": "code",
   "execution_count": 6,
   "metadata": {},
   "outputs": [],
   "source": [
    "# useful metrics to compare data\n",
    "from utils import relative_error, normalized_error"
   ]
  },
  {
   "cell_type": "code",
   "execution_count": 7,
   "metadata": {},
   "outputs": [],
   "source": [
    "data_path = Path('../data')\n",
    "path_to_results = data_path / \"simulation_results\"\n",
    "khodayari_path = path_to_results / \"Khodayari\"\n",
    "millard_path = path_to_results / \"Millard\"\n",
    "kurata_path = path_to_results / \"Kurata\"\n",
    "chassagnole_path = path_to_results / \"Chassagnole\""
   ]
  },
  {
   "cell_type": "code",
   "execution_count": 8,
   "metadata": {},
   "outputs": [],
   "source": [
    "# Load ID dataframes\n",
    "khod_idf = pd.read_csv(data_path / \"khodayari_id.csv\")\n",
    "millard_idf = pd.read_csv(data_path / \"millard_id.csv\")\n",
    "kurata_idf = pd.read_csv(data_path / \"kurata_id.csv\")\n",
    "chassagnole_idf = pd.read_csv(data_path / \"chassagnole_id.csv\")"
   ]
  },
  {
   "cell_type": "markdown",
   "metadata": {},
   "source": [
    "# 1. Load the simulation data"
   ]
  },
  {
   "cell_type": "code",
   "execution_count": 9,
   "metadata": {},
   "outputs": [
    {
     "name": "stdout",
     "output_type": "stream",
     "text": [
      "Loaded data file for sample fbaA which has flux matrix of (786, 2)\n",
      "Loaded data file for sample fbaB which has flux matrix of (786, 2)\n",
      "Loaded data file for sample fbp which has flux matrix of (786, 97)\n",
      "Loaded data file for sample gnd which has flux matrix of (786, 7)\n",
      "Loaded data file for sample pfkA which has flux matrix of (786, 6)\n",
      "Loaded data file for sample pfkB which has flux matrix of (786, 6)\n",
      "Loaded data file for sample pgi which has flux matrix of (786, 5)\n",
      "Loaded data file for sample pgl which has flux matrix of (786, 2)\n",
      "Loaded data file for sample ppsA which has flux matrix of (786, 2)\n",
      "Loaded data file for sample pts which has flux matrix of (786, 7)\n",
      "Loaded data file for sample pykA which has flux matrix of (786, 2)\n",
      "Loaded data file for sample pykF which has flux matrix of (786, 2)\n",
      "Loaded data file for sample rpe which has flux matrix of (786, 2)\n",
      "Loaded data file for sample rpiA which has flux matrix of (786, 7)\n",
      "Loaded data file for sample rpiB which has flux matrix of (786, 7)\n",
      "Loaded data file for sample sdhCD which has flux matrix of (786, 6)\n",
      "Loaded data file for sample sucA which has flux matrix of (786, 6)\n",
      "Loaded data file for sample talA which has flux matrix of (786, 2)\n",
      "Loaded data file for sample tktA which has flux matrix of (786, 2)\n",
      "Loaded data file for sample tktB which has flux matrix of (786, 2)\n",
      "Loaded data file for sample tpi which has flux matrix of (786, 5)\n",
      "Loaded data file for sample zwf which has flux matrix of (786, 9)\n",
      "Loaded data file for sample WT which has flux matrix of (786, 98)\n"
     ]
    }
   ],
   "source": [
    "khodayari_results = load_khodayari(\n",
    "    sample_names=\"all\",\n",
    "    load_path=khodayari_path,\n",
    "    id_df=khod_idf,\n",
    "    files=get_khodayari_kos(),\n",
    ")"
   ]
  },
  {
   "cell_type": "code",
   "execution_count": 10,
   "metadata": {},
   "outputs": [
    {
     "name": "stdout",
     "output_type": "stream",
     "text": [
      "Loaded data file for sample fbaA which has flux matrix of (2101, 155)\n",
      "Loaded data file for sample fbaB which has flux matrix of (2101, 155)\n",
      "Loaded data file for sample fbp which has flux matrix of (2101, 155)\n",
      "Loaded data file for sample gnd which has flux matrix of (2101, 155)\n",
      "Loaded data file for sample gpmA which has flux matrix of (2101, 155)\n",
      "Loaded data file for sample pfkA which has flux matrix of (2101, 155)\n",
      "Loaded data file for sample pfkB which has flux matrix of (2101, 155)\n",
      "Loaded data file for sample pgi which has flux matrix of (2101, 155)\n",
      "Loaded data file for sample ppc which has flux matrix of (2101, 155)\n",
      "Loaded data file for sample pgl which has flux matrix of (2101, 155)\n",
      "Loaded data file for sample ppsA which has flux matrix of (2101, 155)\n",
      "Loaded data file for sample pts which has flux matrix of (2101, 155)\n",
      "Loaded data file for sample pykA which has flux matrix of (2101, 155)\n",
      "Loaded data file for sample pykF which has flux matrix of (2101, 155)\n",
      "Loaded data file for sample rpe which has flux matrix of (2101, 155)\n",
      "Loaded data file for sample rpiA which has flux matrix of (2101, 155)\n",
      "Loaded data file for sample rpiB which has flux matrix of (2101, 155)\n",
      "Loaded data file for sample sdhCD which has flux matrix of (2101, 155)\n",
      "Loaded data file for sample sucA which has flux matrix of (2101, 155)\n",
      "Loaded data file for sample talA which has flux matrix of (2101, 155)\n",
      "Loaded data file for sample talB which has flux matrix of (2101, 155)\n",
      "Loaded data file for sample tktA which has flux matrix of (2101, 155)\n",
      "Loaded data file for sample tktB which has flux matrix of (2101, 155)\n",
      "Loaded data file for sample tpi which has flux matrix of (2101, 155)\n",
      "Loaded data file for sample zwf which has flux matrix of (2101, 155)\n",
      "Loaded data file for sample glk which has flux matrix of (2101, 155)\n",
      "Loaded data file for sample WT which has flux matrix of (2101, 155)\n"
     ]
    }
   ],
   "source": [
    "kurata_results = load_kurata(\n",
    "    sample_names=\"all\", load_path=kurata_path, id_df=kurata_idf, files=get_kurata_kos()\n",
    ")"
   ]
  },
  {
   "cell_type": "code",
   "execution_count": 11,
   "metadata": {},
   "outputs": [
    {
     "name": "stdout",
     "output_type": "stream",
     "text": [
      "Loaded data file for sample fbaA which has flux matrix of (68,)\n",
      "Loaded data file for sample fbaB which has flux matrix of (68,)\n",
      "Loaded data file for sample fbp which has flux matrix of (68,)\n",
      "Loaded data file for sample gnd which has flux matrix of (68,)\n",
      "Loaded data file for sample pfkA which has flux matrix of (68,)\n",
      "Loaded data file for sample pfkB which has flux matrix of (68,)\n",
      "Loaded data file for sample pgi which has flux matrix of (68,)\n",
      "Loaded data file for sample pgl which has flux matrix of (68,)\n",
      "Loaded data file for sample ppsA which has flux matrix of (68,)\n",
      "Loaded data file for sample pts which has flux matrix of (68,)\n",
      "Loaded data file for sample pykA which has flux matrix of (68,)\n",
      "Loaded data file for sample pykF which has flux matrix of (68,)\n",
      "Loaded data file for sample rpe which has flux matrix of (68,)\n",
      "Loaded data file for sample rpiA which has flux matrix of (68,)\n",
      "Loaded data file for sample rpiB which has flux matrix of (68,)\n",
      "Loaded data file for sample sdhCD which has flux matrix of (68,)\n",
      "Loaded data file for sample talAB which has flux matrix of (68,)\n",
      "Loaded data file for sample tkt1 which has flux matrix of (68,)\n",
      "Loaded data file for sample tkt2 which has flux matrix of (68,)\n",
      "Loaded data file for sample tpi which has flux matrix of (68,)\n",
      "Loaded data file for sample zwf which has flux matrix of (68,)\n",
      "Loaded data file for sample sucA which has flux matrix of (68,)\n",
      "Loaded data file for sample WT which has flux matrix of (68,)\n"
     ]
    }
   ],
   "source": [
    "millard_results = load_millard(\n",
    "    sample_names=\"all\", load_path=millard_path, id_df=millard_idf, files = get_millard_kos()\n",
    ")"
   ]
  },
  {
   "cell_type": "code",
   "execution_count": 12,
   "metadata": {},
   "outputs": [
    {
     "name": "stdout",
     "output_type": "stream",
     "text": [
      "Loaded data file for sample fbaA which has flux matrix of (48,)\n",
      "Loaded data file for sample fbaB which has flux matrix of (48,)\n",
      "Loaded data file for sample gnd which has flux matrix of (48,)\n",
      "Loaded data file for sample pfkA which has flux matrix of (48,)\n",
      "Loaded data file for sample pfkB which has flux matrix of (48,)\n",
      "Loaded data file for sample pgi which has flux matrix of (48,)\n",
      "Loaded data file for sample pykAF which has flux matrix of (48,)\n",
      "Loaded data file for sample rpe which has flux matrix of (48,)\n",
      "Loaded data file for sample rpiA which has flux matrix of (48,)\n",
      "Loaded data file for sample rpiB which has flux matrix of (48,)\n",
      "Loaded data file for sample talA which has flux matrix of (48,)\n",
      "Loaded data file for sample talB which has flux matrix of (48,)\n",
      "Loaded data file for sample tkt1 which has flux matrix of (48,)\n",
      "Loaded data file for sample tkt2 which has flux matrix of (48,)\n",
      "Loaded data file for sample tpi which has flux matrix of (48,)\n",
      "Loaded data file for sample zwf which has flux matrix of (48,)\n"
     ]
    }
   ],
   "source": [
    "chassagnole_results = load_chassagnole(\n",
    "    sample_names=\"all\",\n",
    "    load_path=chassagnole_path,\n",
    "    id_df=chassagnole_idf,\n",
    "    files=get_chassagnole_kos(),\n",
    ")"
   ]
  },
  {
   "cell_type": "code",
   "execution_count": 13,
   "metadata": {},
   "outputs": [],
   "source": [
    "simulation_results = pd.concat([khodayari_results, kurata_results, millard_results, chassagnole_results], sort=False)"
   ]
  },
  {
   "cell_type": "code",
   "execution_count": 14,
   "metadata": {},
   "outputs": [
    {
     "data": {
      "text/html": [
       "<div>\n",
       "<style scoped>\n",
       "    .dataframe tbody tr th:only-of-type {\n",
       "        vertical-align: middle;\n",
       "    }\n",
       "\n",
       "    .dataframe tbody tr th {\n",
       "        vertical-align: top;\n",
       "    }\n",
       "\n",
       "    .dataframe thead th {\n",
       "        text-align: right;\n",
       "    }\n",
       "</style>\n",
       "<table border=\"1\" class=\"dataframe\">\n",
       "  <thead>\n",
       "    <tr style=\"text-align: right;\">\n",
       "      <th></th>\n",
       "      <th>flux</th>\n",
       "      <th>ID</th>\n",
       "      <th>BiGG_ID</th>\n",
       "      <th>author</th>\n",
       "      <th>sample_id</th>\n",
       "      <th>normalized_flux</th>\n",
       "    </tr>\n",
       "  </thead>\n",
       "  <tbody>\n",
       "    <tr>\n",
       "      <th>0</th>\n",
       "      <td>-0.059225</td>\n",
       "      <td>ACALD</td>\n",
       "      <td>ACALD</td>\n",
       "      <td>Khodayari</td>\n",
       "      <td>fbaA</td>\n",
       "      <td>-0.059127</td>\n",
       "    </tr>\n",
       "    <tr>\n",
       "      <th>1</th>\n",
       "      <td>-0.004108</td>\n",
       "      <td>ACALDtpp_ex</td>\n",
       "      <td>composed of ACALDtex and ACALDtpp</td>\n",
       "      <td>Khodayari</td>\n",
       "      <td>fbaA</td>\n",
       "      <td>-0.004101</td>\n",
       "    </tr>\n",
       "    <tr>\n",
       "      <th>2</th>\n",
       "      <td>0.000028</td>\n",
       "      <td>ACKr</td>\n",
       "      <td>ACKr</td>\n",
       "      <td>Khodayari</td>\n",
       "      <td>fbaA</td>\n",
       "      <td>0.000028</td>\n",
       "    </tr>\n",
       "    <tr>\n",
       "      <th>3</th>\n",
       "      <td>94.519769</td>\n",
       "      <td>ACONTa</td>\n",
       "      <td>ACONTa</td>\n",
       "      <td>Khodayari</td>\n",
       "      <td>fbaA</td>\n",
       "      <td>94.364274</td>\n",
       "    </tr>\n",
       "    <tr>\n",
       "      <th>4</th>\n",
       "      <td>94.276304</td>\n",
       "      <td>ACONTb</td>\n",
       "      <td>ACONTb</td>\n",
       "      <td>Khodayari</td>\n",
       "      <td>fbaA</td>\n",
       "      <td>94.121209</td>\n",
       "    </tr>\n",
       "  </tbody>\n",
       "</table>\n",
       "</div>"
      ],
      "text/plain": [
       "        flux           ID                            BiGG_ID     author  \\\n",
       "0  -0.059225        ACALD                              ACALD  Khodayari   \n",
       "1  -0.004108  ACALDtpp_ex  composed of ACALDtex and ACALDtpp  Khodayari   \n",
       "2   0.000028         ACKr                               ACKr  Khodayari   \n",
       "3  94.519769       ACONTa                             ACONTa  Khodayari   \n",
       "4  94.276304       ACONTb                             ACONTb  Khodayari   \n",
       "\n",
       "  sample_id  normalized_flux  \n",
       "0      fbaA        -0.059127  \n",
       "1      fbaA        -0.004101  \n",
       "2      fbaA         0.000028  \n",
       "3      fbaA        94.364274  \n",
       "4      fbaA        94.121209  "
      ]
     },
     "execution_count": 14,
     "metadata": {},
     "output_type": "execute_result"
    }
   ],
   "source": [
    "simulation_results.head()"
   ]
  },
  {
   "cell_type": "markdown",
   "metadata": {},
   "source": [
    "# 2. Load experimental data and mix it with simulation data"
   ]
  },
  {
   "cell_type": "code",
   "execution_count": 15,
   "metadata": {},
   "outputs": [],
   "source": [
    "ishii_df = pd.read_csv('../data/datasets/ishii2007_tidy.csv')"
   ]
  },
  {
   "cell_type": "code",
   "execution_count": 16,
   "metadata": {},
   "outputs": [],
   "source": [
    "df = ishii_df\n",
    "# this regexp matches deletions starting with d like dpgi\n",
    "df[\"sample_id\"] = df.Genotype.str.extract(r\"d(\\w+)\")\n",
    "df.loc[df.Genotype == \"WT\", \"sample_id\"] = \"WT\"\n",
    "\n",
    "df = df.assign(author=\"Ishii\")\n",
    "df = df.rename(\n",
    "    {\n",
    "        \"Measurement_ID\": \"BiGG_ID\",\n",
    "        \"Original_Value\": \"normalized_flux\",\n",
    "        \"Value\": \"flux\",\n",
    "        \"Original_ID\": \"ID\",\n",
    "    },\n",
    "    axis=1,\n",
    ")\n",
    "df = df[df['Measurement_Type'] == 'flux']\n",
    "df.loc[df[\"BiGG_ID\"] == \"PYKF\", \"BiGG_ID\"] = \"PYK\"\n",
    "\n",
    "df = df[[\"flux\", \"ID\", \"BiGG_ID\", \"author\", \"sample_id\", \"normalized_flux\"]]\n",
    "exp_results = df"
   ]
  },
  {
   "cell_type": "code",
   "execution_count": 17,
   "metadata": {},
   "outputs": [
    {
     "data": {
      "text/html": [
       "<div>\n",
       "<style scoped>\n",
       "    .dataframe tbody tr th:only-of-type {\n",
       "        vertical-align: middle;\n",
       "    }\n",
       "\n",
       "    .dataframe tbody tr th {\n",
       "        vertical-align: top;\n",
       "    }\n",
       "\n",
       "    .dataframe thead th {\n",
       "        text-align: right;\n",
       "    }\n",
       "</style>\n",
       "<table border=\"1\" class=\"dataframe\">\n",
       "  <thead>\n",
       "    <tr style=\"text-align: right;\">\n",
       "      <th></th>\n",
       "      <th>flux</th>\n",
       "      <th>ID</th>\n",
       "      <th>BiGG_ID</th>\n",
       "      <th>author</th>\n",
       "      <th>sample_id</th>\n",
       "      <th>normalized_flux</th>\n",
       "    </tr>\n",
       "  </thead>\n",
       "  <tbody>\n",
       "    <tr>\n",
       "      <th>25</th>\n",
       "      <td>0.0000</td>\n",
       "      <td>ACALD</td>\n",
       "      <td>ACALD</td>\n",
       "      <td>Ishii</td>\n",
       "      <td>pgm</td>\n",
       "      <td>0.0</td>\n",
       "    </tr>\n",
       "    <tr>\n",
       "      <th>26</th>\n",
       "      <td>2.8458</td>\n",
       "      <td>ACONTa</td>\n",
       "      <td>ACONTa</td>\n",
       "      <td>Ishii</td>\n",
       "      <td>pgm</td>\n",
       "      <td>93.0</td>\n",
       "    </tr>\n",
       "    <tr>\n",
       "      <th>27</th>\n",
       "      <td>2.2644</td>\n",
       "      <td>AKGDH</td>\n",
       "      <td>AKGDH</td>\n",
       "      <td>Ishii</td>\n",
       "      <td>pgm</td>\n",
       "      <td>74.0</td>\n",
       "    </tr>\n",
       "    <tr>\n",
       "      <th>28</th>\n",
       "      <td>2.8458</td>\n",
       "      <td>CS</td>\n",
       "      <td>CS</td>\n",
       "      <td>Ishii</td>\n",
       "      <td>pgm</td>\n",
       "      <td>93.0</td>\n",
       "    </tr>\n",
       "    <tr>\n",
       "      <th>29</th>\n",
       "      <td>0.2448</td>\n",
       "      <td>EX_akg(e)</td>\n",
       "      <td>EX_akg(e)</td>\n",
       "      <td>Ishii</td>\n",
       "      <td>pgm</td>\n",
       "      <td>8.0</td>\n",
       "    </tr>\n",
       "  </tbody>\n",
       "</table>\n",
       "</div>"
      ],
      "text/plain": [
       "      flux         ID    BiGG_ID author sample_id  normalized_flux\n",
       "25  0.0000      ACALD      ACALD  Ishii       pgm              0.0\n",
       "26  2.8458     ACONTa     ACONTa  Ishii       pgm             93.0\n",
       "27  2.2644      AKGDH      AKGDH  Ishii       pgm             74.0\n",
       "28  2.8458         CS         CS  Ishii       pgm             93.0\n",
       "29  0.2448  EX_akg(e)  EX_akg(e)  Ishii       pgm              8.0"
      ]
     },
     "execution_count": 17,
     "metadata": {},
     "output_type": "execute_result"
    }
   ],
   "source": [
    "exp_results.head()"
   ]
  },
  {
   "cell_type": "markdown",
   "metadata": {},
   "source": [
    "# 3. Load COBRA data simulation and add it to data"
   ]
  },
  {
   "cell_type": "code",
   "execution_count": 18,
   "metadata": {},
   "outputs": [
    {
     "data": {
      "text/html": [
       "<div>\n",
       "<style scoped>\n",
       "    .dataframe tbody tr th:only-of-type {\n",
       "        vertical-align: middle;\n",
       "    }\n",
       "\n",
       "    .dataframe tbody tr th {\n",
       "        vertical-align: top;\n",
       "    }\n",
       "\n",
       "    .dataframe thead th {\n",
       "        text-align: right;\n",
       "    }\n",
       "</style>\n",
       "<table border=\"1\" class=\"dataframe\">\n",
       "  <thead>\n",
       "    <tr style=\"text-align: right;\">\n",
       "      <th></th>\n",
       "      <th>ID</th>\n",
       "      <th>flux</th>\n",
       "      <th>sample_id</th>\n",
       "      <th>author</th>\n",
       "      <th>BiGG_ID</th>\n",
       "      <th>normalized_flux</th>\n",
       "    </tr>\n",
       "  </thead>\n",
       "  <tbody>\n",
       "    <tr>\n",
       "      <th>0</th>\n",
       "      <td>ALATA_D2</td>\n",
       "      <td>0.000000</td>\n",
       "      <td>WT</td>\n",
       "      <td>COBRA</td>\n",
       "      <td>ALATA_D2</td>\n",
       "      <td>0.000000</td>\n",
       "    </tr>\n",
       "    <tr>\n",
       "      <th>1</th>\n",
       "      <td>SHCHD2</td>\n",
       "      <td>0.000042</td>\n",
       "      <td>WT</td>\n",
       "      <td>COBRA</td>\n",
       "      <td>SHCHD2</td>\n",
       "      <td>0.001481</td>\n",
       "    </tr>\n",
       "    <tr>\n",
       "      <th>2</th>\n",
       "      <td>CPPPGO</td>\n",
       "      <td>0.000042</td>\n",
       "      <td>WT</td>\n",
       "      <td>COBRA</td>\n",
       "      <td>CPPPGO</td>\n",
       "      <td>0.001481</td>\n",
       "    </tr>\n",
       "    <tr>\n",
       "      <th>3</th>\n",
       "      <td>GTHOr</td>\n",
       "      <td>0.000000</td>\n",
       "      <td>WT</td>\n",
       "      <td>COBRA</td>\n",
       "      <td>GTHOr</td>\n",
       "      <td>0.000000</td>\n",
       "    </tr>\n",
       "    <tr>\n",
       "      <th>4</th>\n",
       "      <td>DHORD5</td>\n",
       "      <td>0.000000</td>\n",
       "      <td>WT</td>\n",
       "      <td>COBRA</td>\n",
       "      <td>DHORD5</td>\n",
       "      <td>0.000000</td>\n",
       "    </tr>\n",
       "  </tbody>\n",
       "</table>\n",
       "</div>"
      ],
      "text/plain": [
       "         ID      flux sample_id author   BiGG_ID  normalized_flux\n",
       "0  ALATA_D2  0.000000        WT  COBRA  ALATA_D2         0.000000\n",
       "1    SHCHD2  0.000042        WT  COBRA    SHCHD2         0.001481\n",
       "2    CPPPGO  0.000042        WT  COBRA    CPPPGO         0.001481\n",
       "3     GTHOr  0.000000        WT  COBRA     GTHOr         0.000000\n",
       "4    DHORD5  0.000000        WT  COBRA    DHORD5         0.000000"
      ]
     },
     "execution_count": 18,
     "metadata": {},
     "output_type": "execute_result"
    }
   ],
   "source": [
    "cobra_results = pd.read_csv(f'../data/simulation_results/COBRA/knockouts_all.csv', index_col=0)\n",
    "cobra_results.head()"
   ]
  },
  {
   "cell_type": "code",
   "execution_count": 19,
   "metadata": {},
   "outputs": [],
   "source": [
    "all_results = pd.concat([simulation_results, cobra_results, exp_results], sort=False)"
   ]
  },
  {
   "cell_type": "code",
   "execution_count": 20,
   "metadata": {},
   "outputs": [
    {
     "data": {
      "text/plain": [
       "COBRA          48816\n",
       "Khodayari      10511\n",
       "Kurata          4293\n",
       "Millard         1564\n",
       "Ishii           1012\n",
       "Chassagnole      768\n",
       "Name: author, dtype: int64"
      ]
     },
     "execution_count": 20,
     "metadata": {},
     "output_type": "execute_result"
    }
   ],
   "source": [
    "all_results.author.value_counts()"
   ]
  },
  {
   "cell_type": "markdown",
   "metadata": {},
   "source": [
    "# 4. Subselect specific data and calculate error metrics"
   ]
  },
  {
   "cell_type": "code",
   "execution_count": 21,
   "metadata": {},
   "outputs": [],
   "source": [
    "selected_reactions = [\n",
    "    \"GLCptspp\",\n",
    "    \"PGI\",\n",
    "    \"G6PDH2r\",\n",
    "    \"GND\",\n",
    "    \"PYK\",\n",
    "    \"PPC\",\n",
    "    \"FUM\",\n",
    "    \"MDH\",\n",
    "    \"PDH\",\n",
    "    \"PTAr\",\n",
    "]\n",
    "selected_strains = [\"zwf\", \"pgi\", \"gnd\", \"pykA\", \"pykF\", \"rpiA\", \"tktA\", \"pfkA\", \"WT\"]\n",
    "selected_authors = [\"Khodayari\", \"Millard\", \"Kurata\", \"Ishii\", \"COBRA\", \"Chassagnole\"]\n",
    "experimental_dataset = \"Ishii\"\n",
    "\n",
    "# select the right data and find median flux if there are several fluxes which are mapped to one BiGG ID\n",
    "selected_data = all_results[\n",
    "    (all_results[\"BiGG_ID\"].isin(selected_reactions))\n",
    "    & (all_results[\"sample_id\"].isin(selected_strains))\n",
    "    & (all_results[\"author\"].isin(selected_authors))\n",
    "].groupby([\"BiGG_ID\", \"sample_id\", \"author\"]).median().reset_index()"
   ]
  },
  {
   "cell_type": "markdown",
   "metadata": {},
   "source": [
    "## Calculate relative error"
   ]
  },
  {
   "cell_type": "code",
   "execution_count": 23,
   "metadata": {},
   "outputs": [],
   "source": [
    "# Check if experimental data is present for every BiGG ID\n",
    "# selected_data.groupby([\"BiGG_ID\", \"sample_id\"]).apply(lambda x: any(x.author.str.contains(experimental_dataset)))\n",
    "selected_data = selected_data.groupby([\"BiGG_ID\", \"sample_id\"]).apply(relative_error, exp_name=experimental_dataset).reset_index().drop(\"level_2\", axis = 1)"
   ]
  },
  {
   "cell_type": "code",
   "execution_count": 24,
   "metadata": {},
   "outputs": [
    {
     "data": {
      "text/html": [
       "<div>\n",
       "<style scoped>\n",
       "    .dataframe tbody tr th:only-of-type {\n",
       "        vertical-align: middle;\n",
       "    }\n",
       "\n",
       "    .dataframe tbody tr th {\n",
       "        vertical-align: top;\n",
       "    }\n",
       "\n",
       "    .dataframe thead th {\n",
       "        text-align: right;\n",
       "    }\n",
       "</style>\n",
       "<table border=\"1\" class=\"dataframe\">\n",
       "  <thead>\n",
       "    <tr style=\"text-align: right;\">\n",
       "      <th></th>\n",
       "      <th>BiGG_ID</th>\n",
       "      <th>sample_id</th>\n",
       "      <th>author</th>\n",
       "      <th>flux</th>\n",
       "      <th>normalized_flux</th>\n",
       "      <th>relative_error</th>\n",
       "    </tr>\n",
       "  </thead>\n",
       "  <tbody>\n",
       "    <tr>\n",
       "      <th>0</th>\n",
       "      <td>FUM</td>\n",
       "      <td>WT</td>\n",
       "      <td>COBRA</td>\n",
       "      <td>1.075236</td>\n",
       "      <td>37.595672</td>\n",
       "      <td>102.150928</td>\n",
       "    </tr>\n",
       "    <tr>\n",
       "      <th>1</th>\n",
       "      <td>FUM</td>\n",
       "      <td>WT</td>\n",
       "      <td>Ishii</td>\n",
       "      <td>2.173600</td>\n",
       "      <td>76.000000</td>\n",
       "      <td>0.000000</td>\n",
       "    </tr>\n",
       "    <tr>\n",
       "      <th>2</th>\n",
       "      <td>FUM</td>\n",
       "      <td>WT</td>\n",
       "      <td>Khodayari</td>\n",
       "      <td>88.489031</td>\n",
       "      <td>80.559575</td>\n",
       "      <td>5.659879</td>\n",
       "    </tr>\n",
       "    <tr>\n",
       "      <th>3</th>\n",
       "      <td>FUM</td>\n",
       "      <td>WT</td>\n",
       "      <td>Kurata</td>\n",
       "      <td>670.602595</td>\n",
       "      <td>52.020492</td>\n",
       "      <td>46.096274</td>\n",
       "    </tr>\n",
       "    <tr>\n",
       "      <th>4</th>\n",
       "      <td>FUM</td>\n",
       "      <td>WT</td>\n",
       "      <td>Millard</td>\n",
       "      <td>0.277610</td>\n",
       "      <td>69.402491</td>\n",
       "      <td>9.506156</td>\n",
       "    </tr>\n",
       "  </tbody>\n",
       "</table>\n",
       "</div>"
      ],
      "text/plain": [
       "  BiGG_ID sample_id     author        flux  normalized_flux  relative_error\n",
       "0     FUM        WT      COBRA    1.075236        37.595672      102.150928\n",
       "1     FUM        WT      Ishii    2.173600        76.000000        0.000000\n",
       "2     FUM        WT  Khodayari   88.489031        80.559575        5.659879\n",
       "3     FUM        WT     Kurata  670.602595        52.020492       46.096274\n",
       "4     FUM        WT    Millard    0.277610        69.402491        9.506156"
      ]
     },
     "execution_count": 24,
     "metadata": {},
     "output_type": "execute_result"
    }
   ],
   "source": [
    "selected_data.head()"
   ]
  },
  {
   "cell_type": "markdown",
   "metadata": {},
   "source": [
    "## Calculate normalized error for datasets"
   ]
  },
  {
   "cell_type": "code",
   "execution_count": 25,
   "metadata": {},
   "outputs": [],
   "source": [
    "normalized_errors = selected_data.groupby([\"sample_id\"]).apply(normalized_error, exp_name=\"Ishii\").reset_index().rename({0 : \"normalized_error\"}, axis = 1)"
   ]
  },
  {
   "cell_type": "code",
   "execution_count": 26,
   "metadata": {},
   "outputs": [
    {
     "data": {
      "text/plain": [
       "author\n",
       "COBRA          0.476202\n",
       "Chassagnole    0.400923\n",
       "Ishii          0.000000\n",
       "Khodayari      0.325185\n",
       "Kurata         0.416387\n",
       "Millard        0.199494\n",
       "dtype: float64"
      ]
     },
     "execution_count": 26,
     "metadata": {},
     "output_type": "execute_result"
    }
   ],
   "source": [
    "normalized_error(selected_data.groupby([\"sample_id\"]).get_group(\"zwf\"), exp_name=\"Ishii\")"
   ]
  },
  {
   "cell_type": "code",
   "execution_count": 27,
   "metadata": {},
   "outputs": [],
   "source": [
    "#ishii = selected_data.groupby([\"sample_id\"]).get_group(\"zwf\").groupby(\"author\").get_group(\"Ishii\")\n",
    "#chassagnole = selected_data.groupby([\"sample_id\"]).get_group(\"zwf\").groupby(\"author\").get_group(\"Chassagnole\")"
   ]
  },
  {
   "cell_type": "code",
   "execution_count": 28,
   "metadata": {},
   "outputs": [],
   "source": [
    "#np.linalg.norm((chassagnole.set_index(\"BiGG_ID\").normalized_flux - ishii.set_index(\"BiGG_ID\").normalized_flux).dropna())"
   ]
  },
  {
   "cell_type": "markdown",
   "metadata": {
    "toc-hr-collapsed": false
   },
   "source": [
    "# 5. Visualize"
   ]
  },
  {
   "cell_type": "markdown",
   "metadata": {},
   "source": [
    "### Summary normalized error for the models"
   ]
  },
  {
   "cell_type": "code",
   "execution_count": 29,
   "metadata": {},
   "outputs": [
    {
     "data": {
      "application/vnd.vegalite.v2+json": {
       "$schema": "https://vega.github.io/schema/vega-lite/v2.4.3.json",
       "config": {
        "view": {
         "height": 300,
         "width": 400
        }
       },
       "data": {
        "values": [
         {
          "author": "COBRA",
          "normalized_error": 0.46175352843008555
         },
         {
          "author": "Chassagnole",
          "normalized_error": 0.37205603381525376
         },
         {
          "author": "Khodayari",
          "normalized_error": 0.23180875502036505
         },
         {
          "author": "Kurata",
          "normalized_error": 0.46032482135572067
         },
         {
          "author": "Millard",
          "normalized_error": 0.4254934598188017
         }
        ]
       },
       "encoding": {
        "color": {
         "field": "author",
         "sort": [
          "Khodayari",
          "Kurata",
          "Millard",
          "COBRA"
         ],
         "type": "nominal"
        },
        "x": {
         "field": "author",
         "sort": [
          "Khodayari",
          "Kurata",
          "Millard",
          "COBRA",
          "Chassagnole"
         ],
         "type": "nominal"
        },
        "y": {
         "field": "normalized_error",
         "type": "quantitative"
        }
       },
       "mark": "bar",
       "title": "Normalized error knockout simulations"
      },
      "image/png": "[encoded data removed]",
      "text/plain": [
       "<VegaLite 2 object>\n",
       "\n",
       "If you see this message, it means the renderer has not been properly enabled\n",
       "for the frontend that you are using. For more information, see\n",
       "https://altair-viz.github.io/user_guide/troubleshooting.html\n"
      ]
     },
     "execution_count": 29,
     "metadata": {},
     "output_type": "execute_result"
    }
   ],
   "source": [
    "alt.Chart(\n",
    "    normalized_errors.groupby(\"author\").mean().reset_index().query(\"author != 'Ishii'\"),\n",
    "    title = \"Normalized error knockout simulations\"\n",
    ").mark_bar().encode(\n",
    "    y=\"normalized_error\",\n",
    "    x=alt.X(\"author\", sort=[\"Khodayari\", \"Kurata\", \"Millard\", \"COBRA\", \"Chassagnole\"]),\n",
    "    color=alt.Color(\"author\", sort=[\"Khodayari\", \"Kurata\", \"Millard\", \"COBRA\"]),\n",
    ")"
   ]
  },
  {
   "cell_type": "code",
   "execution_count": 30,
   "metadata": {},
   "outputs": [
    {
     "data": {
      "application/vnd.vegalite.v2+json": {
       "$schema": "https://vega.github.io/schema/vega-lite/v2.4.3.json",
       "config": {
        "view": {
         "height": 300,
         "width": 400
        }
       },
       "data": {
        "values": [
         {
          "author": "COBRA",
          "normalized_error": 0.44217639909791795,
          "sample_id": "WT"
         },
         {
          "author": "Khodayari",
          "normalized_error": 0.10166372572739812,
          "sample_id": "WT"
         },
         {
          "author": "Kurata",
          "normalized_error": 0.36997051334571635,
          "sample_id": "WT"
         },
         {
          "author": "Millard",
          "normalized_error": 0.07323027693016972,
          "sample_id": "WT"
         },
         {
          "author": "COBRA",
          "normalized_error": 0.4822633094116856,
          "sample_id": "gnd"
         },
         {
          "author": "Chassagnole",
          "normalized_error": 0.35822513396754635,
          "sample_id": "gnd"
         },
         {
          "author": "Khodayari",
          "normalized_error": 0.39802507998979525,
          "sample_id": "gnd"
         },
         {
          "author": "Kurata",
          "normalized_error": 0.9092608329208662,
          "sample_id": "gnd"
         },
         {
          "author": "Millard",
          "normalized_error": 0.2215333398157736,
          "sample_id": "gnd"
         },
         {
          "author": "Chassagnole",
          "normalized_error": 0.6059303981238882,
          "sample_id": "pfkA"
         },
         {
          "author": "Khodayari",
          "normalized_error": 0.10506508733198992,
          "sample_id": "pfkA"
         },
         {
          "author": "Kurata",
          "normalized_error": 0.5680791357973124,
          "sample_id": "pfkA"
         },
         {
          "author": "Millard",
          "normalized_error": 1.0006389113941139,
          "sample_id": "pfkA"
         },
         {
          "author": "COBRA",
          "normalized_error": 0.4463719376021192,
          "sample_id": "pgi"
         },
         {
          "author": "Chassagnole",
          "normalized_error": 0.22309860625851133,
          "sample_id": "pgi"
         },
         {
          "author": "Khodayari",
          "normalized_error": 0.25157136146658315,
          "sample_id": "pgi"
         },
         {
          "author": "Kurata",
          "normalized_error": 0.5111914118072018,
          "sample_id": "pgi"
         },
         {
          "author": "Millard",
          "normalized_error": 0.8166548508138858,
          "sample_id": "pgi"
         },
         {
          "author": "Khodayari",
          "normalized_error": 0.134928317390783,
          "sample_id": "pykA"
         },
         {
          "author": "Kurata",
          "normalized_error": 0.33684017201162403,
          "sample_id": "pykA"
         },
         {
          "author": "Millard",
          "normalized_error": 0.3971258266249715,
          "sample_id": "pykA"
         },
         {
          "author": "Khodayari",
          "normalized_error": 0.2979876482744375,
          "sample_id": "pykF"
         },
         {
          "author": "Kurata",
          "normalized_error": 0.24593183506496877,
          "sample_id": "pykF"
         },
         {
          "author": "Millard",
          "normalized_error": 0.3976458028126981,
          "sample_id": "pykF"
         },
         {
          "author": "Chassagnole",
          "normalized_error": 0.2721030667038155,
          "sample_id": "rpiA"
         },
         {
          "author": "Khodayari",
          "normalized_error": 0.25325825283014136,
          "sample_id": "rpiA"
         },
         {
          "author": "Kurata",
          "normalized_error": 0.35179638549918635,
          "sample_id": "rpiA"
         },
         {
          "author": "Millard",
          "normalized_error": 0.29762497857944387,
          "sample_id": "rpiA"
         },
         {
          "author": "Khodayari",
          "normalized_error": 0.21859459395314265,
          "sample_id": "tktA"
         },
         {
          "author": "Kurata",
          "normalized_error": 0.4334659734350765,
          "sample_id": "tktA"
         },
         {
          "author": "COBRA",
          "normalized_error": 0.4762024676086193,
          "sample_id": "zwf"
         },
         {
          "author": "Chassagnole",
          "normalized_error": 0.4009229640225075,
          "sample_id": "zwf"
         },
         {
          "author": "Khodayari",
          "normalized_error": 0.3251847282190148,
          "sample_id": "zwf"
         },
         {
          "author": "Kurata",
          "normalized_error": 0.416387132319533,
          "sample_id": "zwf"
         },
         {
          "author": "Millard",
          "normalized_error": 0.19949369157935692,
          "sample_id": "zwf"
         }
        ]
       },
       "encoding": {
        "color": {
         "field": "author",
         "sort": [
          "Ishii"
         ],
         "type": "nominal"
        },
        "column": {
         "field": "sample_id",
         "type": "nominal"
        },
        "tooltip": [
         {
          "field": "author",
          "type": "nominal"
         },
         {
          "field": "sample_id",
          "type": "nominal"
         }
        ],
        "x": {
         "field": "author",
         "sort": [
          "Ishii"
         ],
         "type": "ordinal"
        },
        "y": {
         "field": "normalized_error",
         "type": "quantitative"
        }
       },
       "mark": "point"
      },
      "image/png": "[encoded data removed]",
      "text/plain": [
       "<VegaLite 2 object>\n",
       "\n",
       "If you see this message, it means the renderer has not been properly enabled\n",
       "for the frontend that you are using. For more information, see\n",
       "https://altair-viz.github.io/user_guide/troubleshooting.html\n"
      ]
     },
     "execution_count": 30,
     "metadata": {},
     "output_type": "execute_result"
    }
   ],
   "source": [
    "alt.Chart(normalized_errors.query(\"author != 'Ishii'\")).mark_point().encode(\n",
    "    y=\"normalized_error\",\n",
    "    x=alt.X(\"author:O\", sort=[experimental_dataset]),\n",
    "    column=\"sample_id:N\",\n",
    "    color=alt.Color(\"author\", sort=[experimental_dataset]),\n",
    "    tooltip=[\"author\", \"sample_id\"],\n",
    ")"
   ]
  },
  {
   "cell_type": "markdown",
   "metadata": {},
   "source": [
    "## Bar chart for normalized fluxes"
   ]
  },
  {
   "cell_type": "code",
   "execution_count": 31,
   "metadata": {},
   "outputs": [
    {
     "data": {
      "application/vnd.jupyter.widget-view+json": {
       "model_id": "ef36fdf273744e6ba36ed10b44f6786f",
       "version_major": 2,
       "version_minor": 0
      },
      "text/plain": [
       "interactive(children=(Dropdown(description='strain', options=('zwf', 'pgi', 'gnd', 'pykA', 'pykF', 'rpiA', 'tk…"
      ]
     },
     "metadata": {},
     "output_type": "display_data"
    }
   ],
   "source": [
    "# make base plot that would be then modified to select only one strain\n",
    "# altair.facet is not working with them so far\n",
    "base = alt.Chart(selected_data, title = \"KO simulation fluxes\").mark_bar().encode(\n",
    "    y=\"normalized_flux:Q\",\n",
    "    x=alt.X(\"author:O\", sort = [experimental_dataset]),\n",
    "    column=\"BiGG_ID:N\",\n",
    "    color=alt.Color(\"author\", sort = [experimental_dataset]),\n",
    "    tooltip=[\"author\", \"normalized_flux\", \"BiGG_ID\", \"sample_id\"],\n",
    ")\n",
    "\n",
    "@interact_manual\n",
    "def show_strain_comparison_plot(strain = selected_strains):\n",
    "    return base.transform_filter(datum.sample_id == strain)"
   ]
  },
  {
   "cell_type": "markdown",
   "metadata": {},
   "source": [
    "## Bar chart for relative error"
   ]
  },
  {
   "cell_type": "code",
   "execution_count": 89,
   "metadata": {},
   "outputs": [
    {
     "data": {
      "application/vnd.jupyter.widget-view+json": {
       "model_id": "8f7f1db96d254c6a886fc4f2cd4425dc",
       "version_major": 2,
       "version_minor": 0
      },
      "text/plain": [
       "interactive(children=(Dropdown(description='strain', options=('zwf', 'pgi', 'gnd', 'pykA', 'pykF', 'WT'), valu…"
      ]
     },
     "metadata": {},
     "output_type": "display_data"
    }
   ],
   "source": [
    "# make base plot that would be then modified to select only one strain\n",
    "# altair.facet is not working with them so far\n",
    "base = alt.Chart(selected, title = \"\").mark_bar().encode(\n",
    "    y=\"relative_error:Q\",\n",
    "    x=alt.X(\"author:O\", sort = [experimental_dataset]),\n",
    "    column=\"BiGG_ID:N\",\n",
    "    color=alt.Color(\"author\",sort=[experimental_dataset]),\n",
    "    tooltip=[\"author\", \"relative_error\", \"BiGG_ID\", \"sample_id\", \"normalized_flux\"],\n",
    ")\n",
    "\n",
    "\n",
    "@interact_manual\n",
    "def show_strain_comparison_plot(strain = selected_strains):\n",
    "    return base.transform_filter(datum.sample_id == strain)"
   ]
  },
  {
   "cell_type": "code",
   "execution_count": 33,
   "metadata": {},
   "outputs": [
    {
     "data": {
      "text/plain": [
       "ppsA    46\n",
       "tktA    46\n",
       "talA    46\n",
       "fbp     46\n",
       "pfkB    46\n",
       "rpiA    46\n",
       "pgl     46\n",
       "tktB    46\n",
       "talB    46\n",
       "gnd     46\n",
       "pgm     46\n",
       "WT      46\n",
       "fbaB    46\n",
       "pykA    46\n",
       "gpmB    46\n",
       "pgi     46\n",
       "rpe     46\n",
       "gpmA    46\n",
       "pfkA    46\n",
       "zwf     46\n",
       "rpiB    46\n",
       "pykF    46\n",
       "Name: sample_id, dtype: int64"
      ]
     },
     "execution_count": 33,
     "metadata": {},
     "output_type": "execute_result"
    }
   ],
   "source": [
    "exp_results.sample_id.value_counts()"
   ]
  },
  {
   "cell_type": "code",
   "execution_count": null,
   "metadata": {},
   "outputs": [],
   "source": []
  }
 ],
 "metadata": {
  "kernelspec": {
   "display_name": "dataml-conda",
   "language": "python",
   "name": "dataml-conda"
  },
  "language_info": {
   "codemirror_mode": {
    "name": "ipython",
    "version": 3
   },
   "file_extension": ".py",
   "mimetype": "text/x-python",
   "name": "python",
   "nbconvert_exporter": "python",
   "pygments_lexer": "ipython3",
   "version": "3.6.6"
  }
 },
 "nbformat": 4,
 "nbformat_minor": 2
}
