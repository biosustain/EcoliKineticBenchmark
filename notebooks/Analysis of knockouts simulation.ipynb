{
 "cells": [
  {
   "cell_type": "code",
   "execution_count": 2,
   "metadata": {},
   "outputs": [],
   "source": [
    "import numpy as np\n",
    "import pandas as pd\n",
    "import scipy\n",
    "import scipy.io as sio\n",
    "\n",
    "from pathlib import Path\n",
    "\n",
    "import altair as alt\n",
    "from altair.expr import datum"
   ]
  },
  {
   "cell_type": "code",
   "execution_count": 3,
   "metadata": {},
   "outputs": [],
   "source": [
    "%load_ext watermark"
   ]
  },
  {
   "cell_type": "code",
   "execution_count": 4,
   "metadata": {},
   "outputs": [
    {
     "name": "stdout",
     "output_type": "stream",
     "text": [
      "altair    2.4.1\n",
      "pandas    0.24.2\n",
      "numpy     1.16.3\n",
      "scipy     1.2.1\n",
      "\n"
     ]
    }
   ],
   "source": [
    "%watermark --iversions"
   ]
  },
  {
   "cell_type": "markdown",
   "metadata": {},
   "source": [
    "# 0. Utility functions\n",
    "- Define function that flattens the output from scipy.io.loadmat \n",
    "- Set paths to `data` folder\n",
    "- Load dataframes with ID -> BiGG ID conversion table\n",
    "- Define functions that help to load relevant experimental data from each simulation"
   ]
  },
  {
   "cell_type": "code",
   "execution_count": 5,
   "metadata": {},
   "outputs": [],
   "source": [
    "from utils import (\n",
    "    get_khodayari_kos,\n",
    "    get_millard_kos,\n",
    "    get_kurata_kos,\n",
    "    get_chassagnole_kos,\n",
    "    load_khodayari,\n",
    "    load_kurata,\n",
    "    load_millard,\n",
    "    load_chassagnole,\n",
    "    loadmat\n",
    ")"
   ]
  },
  {
   "cell_type": "code",
   "execution_count": 6,
   "metadata": {},
   "outputs": [],
   "source": [
    "# useful metrics to compare data\n",
    "from utils import relative_error, normalized_error"
   ]
  },
  {
   "cell_type": "code",
   "execution_count": 7,
   "metadata": {},
   "outputs": [],
   "source": [
    "data_path = Path('../data')\n",
    "path_to_results = data_path / \"simulation_results\"\n",
    "khodayari_path = path_to_results / \"Khodayari\"\n",
    "millard_path = path_to_results / \"Millard\"\n",
    "kurata_path = path_to_results / \"Kurata\"\n",
    "chassagnole_path = path_to_results / \"Chassagnole\""
   ]
  },
  {
   "cell_type": "code",
   "execution_count": 8,
   "metadata": {},
   "outputs": [],
   "source": [
    "# Load ID dataframes\n",
    "khod_idf = pd.read_csv(data_path / \"khodayari_id.csv\")\n",
    "millard_idf = pd.read_csv(data_path / \"millard_id.csv\")\n",
    "kurata_idf = pd.read_csv(data_path / \"kurata_id.csv\")\n",
    "chassagnole_idf = pd.read_csv(data_path / \"chassagnole_id.csv\")"
   ]
  },
  {
   "cell_type": "markdown",
   "metadata": {},
   "source": [
    "# 1. Load the simulation data"
   ]
  },
  {
   "cell_type": "code",
   "execution_count": 9,
   "metadata": {},
   "outputs": [
    {
     "name": "stdout",
     "output_type": "stream",
     "text": [
      "Loaded data file for sample fbaA which has flux matrix of (786, 2)\n",
      "Loaded data file for sample fbaB which has flux matrix of (786, 2)\n",
      "Loaded data file for sample fbp which has flux matrix of (786, 97)\n",
      "Loaded data file for sample gnd which has flux matrix of (786, 7)\n",
      "Loaded data file for sample pfkA which has flux matrix of (786, 6)\n",
      "Loaded data file for sample pfkB which has flux matrix of (786, 6)\n",
      "Loaded data file for sample pgi which has flux matrix of (786, 5)\n",
      "Loaded data file for sample pgl which has flux matrix of (786, 2)\n",
      "Loaded data file for sample ppsA which has flux matrix of (786, 2)\n",
      "Loaded data file for sample pts which has flux matrix of (786, 7)\n",
      "Loaded data file for sample pykA which has flux matrix of (786, 2)\n",
      "Loaded data file for sample pykF which has flux matrix of (786, 2)\n",
      "Loaded data file for sample rpe which has flux matrix of (786, 2)\n",
      "Loaded data file for sample rpiA which has flux matrix of (786, 7)\n",
      "Loaded data file for sample rpiB which has flux matrix of (786, 7)\n",
      "Loaded data file for sample sdhCD which has flux matrix of (786, 6)\n",
      "Loaded data file for sample sucA which has flux matrix of (786, 6)\n",
      "Loaded data file for sample talA which has flux matrix of (786, 2)\n",
      "Loaded data file for sample tktA which has flux matrix of (786, 2)\n",
      "Loaded data file for sample tktB which has flux matrix of (786, 2)\n",
      "Loaded data file for sample tpi which has flux matrix of (786, 5)\n",
      "Loaded data file for sample zwf which has flux matrix of (786, 9)\n",
      "Loaded data file for sample WT which has flux matrix of (786, 98)\n"
     ]
    }
   ],
   "source": [
    "khodayari_results = load_khodayari(\n",
    "    sample_names=\"all\",\n",
    "    load_path=khodayari_path,\n",
    "    id_df=khod_idf,\n",
    "    files=get_khodayari_kos(),\n",
    ")"
   ]
  },
  {
   "cell_type": "code",
   "execution_count": 10,
   "metadata": {},
   "outputs": [
    {
     "name": "stdout",
     "output_type": "stream",
     "text": [
      "Loaded data file for sample fbaA which has flux matrix of (2101, 155)\n",
      "Loaded data file for sample fbaB which has flux matrix of (2101, 155)\n",
      "Loaded data file for sample fbp which has flux matrix of (2101, 155)\n",
      "Loaded data file for sample gnd which has flux matrix of (2101, 155)\n",
      "Loaded data file for sample gpmA which has flux matrix of (2101, 155)\n",
      "Loaded data file for sample pfkA which has flux matrix of (2101, 155)\n",
      "Loaded data file for sample pfkB which has flux matrix of (2101, 155)\n",
      "Loaded data file for sample pgi which has flux matrix of (2101, 155)\n",
      "Loaded data file for sample ppc which has flux matrix of (2101, 155)\n",
      "Loaded data file for sample pgl which has flux matrix of (2101, 155)\n",
      "Loaded data file for sample ppsA which has flux matrix of (2101, 155)\n",
      "Loaded data file for sample pts which has flux matrix of (2101, 155)\n",
      "Loaded data file for sample pykA which has flux matrix of (2101, 155)\n",
      "Loaded data file for sample pykF which has flux matrix of (2101, 155)\n",
      "Loaded data file for sample rpe which has flux matrix of (2101, 155)\n",
      "Loaded data file for sample rpiA which has flux matrix of (2101, 155)\n",
      "Loaded data file for sample rpiB which has flux matrix of (2101, 155)\n",
      "Loaded data file for sample sdhCD which has flux matrix of (2101, 155)\n",
      "Loaded data file for sample sucA which has flux matrix of (2101, 155)\n",
      "Loaded data file for sample talA which has flux matrix of (2101, 155)\n",
      "Loaded data file for sample talB which has flux matrix of (2101, 155)\n",
      "Loaded data file for sample tktA which has flux matrix of (2101, 155)\n",
      "Loaded data file for sample tktB which has flux matrix of (2101, 155)\n",
      "Loaded data file for sample tpi which has flux matrix of (2101, 155)\n",
      "Loaded data file for sample zwf which has flux matrix of (2101, 155)\n",
      "Loaded data file for sample glk which has flux matrix of (2101, 155)\n",
      "Loaded data file for sample WT which has flux matrix of (2101, 155)\n"
     ]
    }
   ],
   "source": [
    "kurata_results = load_kurata(\n",
    "    sample_names=\"all\", load_path=kurata_path, id_df=kurata_idf, files=get_kurata_kos()\n",
    ")"
   ]
  },
  {
   "cell_type": "code",
   "execution_count": 11,
   "metadata": {},
   "outputs": [
    {
     "name": "stdout",
     "output_type": "stream",
     "text": [
      "Loaded data file for sample fbaA which has flux matrix of (68,)\n",
      "Loaded data file for sample fbaB which has flux matrix of (68,)\n",
      "Loaded data file for sample fbp which has flux matrix of (68,)\n",
      "Loaded data file for sample gnd which has flux matrix of (68,)\n",
      "Loaded data file for sample pfkA which has flux matrix of (68,)\n",
      "Loaded data file for sample pfkB which has flux matrix of (68,)\n",
      "Loaded data file for sample pgi which has flux matrix of (68,)\n",
      "Loaded data file for sample pgl which has flux matrix of (68,)\n",
      "Loaded data file for sample ppsA which has flux matrix of (68,)\n",
      "Loaded data file for sample pts which has flux matrix of (68,)\n",
      "Loaded data file for sample pykA which has flux matrix of (68,)\n",
      "Loaded data file for sample pykF which has flux matrix of (68,)\n",
      "Loaded data file for sample rpe which has flux matrix of (68,)\n",
      "Loaded data file for sample rpiA which has flux matrix of (68,)\n",
      "Loaded data file for sample rpiB which has flux matrix of (68,)\n",
      "Loaded data file for sample sdhCD which has flux matrix of (68,)\n",
      "Loaded data file for sample talAB which has flux matrix of (68,)\n",
      "Loaded data file for sample tkt1 which has flux matrix of (68,)\n",
      "Loaded data file for sample tkt2 which has flux matrix of (68,)\n",
      "Loaded data file for sample tpi which has flux matrix of (68,)\n",
      "Loaded data file for sample zwf which has flux matrix of (68,)\n",
      "Loaded data file for sample sucA which has flux matrix of (68,)\n",
      "Loaded data file for sample WT which has flux matrix of (68,)\n"
     ]
    }
   ],
   "source": [
    "millard_results = load_millard(\n",
    "    sample_names=\"all\", load_path=millard_path, id_df=millard_idf, files = get_millard_kos()\n",
    ")"
   ]
  },
  {
   "cell_type": "code",
   "execution_count": 12,
   "metadata": {},
   "outputs": [
    {
     "name": "stdout",
     "output_type": "stream",
     "text": [
      "Loaded data file for sample fbaA which has flux matrix of (48,)\n",
      "Loaded data file for sample fbaB which has flux matrix of (48,)\n",
      "Loaded data file for sample gnd which has flux matrix of (48,)\n",
      "Loaded data file for sample pfkA which has flux matrix of (48,)\n",
      "Loaded data file for sample pfkB which has flux matrix of (48,)\n",
      "Loaded data file for sample pgi which has flux matrix of (48,)\n",
      "Loaded data file for sample pykAF which has flux matrix of (48,)\n",
      "Loaded data file for sample rpe which has flux matrix of (48,)\n",
      "Loaded data file for sample rpiA which has flux matrix of (48,)\n",
      "Loaded data file for sample rpiB which has flux matrix of (48,)\n",
      "Loaded data file for sample talA which has flux matrix of (48,)\n",
      "Loaded data file for sample talB which has flux matrix of (48,)\n",
      "Loaded data file for sample tkt1 which has flux matrix of (48,)\n",
      "Loaded data file for sample tkt2 which has flux matrix of (48,)\n",
      "Loaded data file for sample tpi which has flux matrix of (48,)\n",
      "Loaded data file for sample zwf which has flux matrix of (48,)\n"
     ]
    }
   ],
   "source": [
    "chassagnole_results = load_chassagnole(\n",
    "    sample_names=\"all\",\n",
    "    load_path=chassagnole_path,\n",
    "    id_df=chassagnole_idf,\n",
    "    files=get_chassagnole_kos(),\n",
    ")"
   ]
  },
  {
   "cell_type": "code",
   "execution_count": 13,
   "metadata": {},
   "outputs": [],
   "source": [
    "simulation_results = pd.concat([khodayari_results, kurata_results, millard_results, chassagnole_results], sort=False)"
   ]
  },
  {
   "cell_type": "code",
   "execution_count": 14,
   "metadata": {},
   "outputs": [
    {
     "data": {
      "text/html": [
       "<div>\n",
       "<style scoped>\n",
       "    .dataframe tbody tr th:only-of-type {\n",
       "        vertical-align: middle;\n",
       "    }\n",
       "\n",
       "    .dataframe tbody tr th {\n",
       "        vertical-align: top;\n",
       "    }\n",
       "\n",
       "    .dataframe thead th {\n",
       "        text-align: right;\n",
       "    }\n",
       "</style>\n",
       "<table border=\"1\" class=\"dataframe\">\n",
       "  <thead>\n",
       "    <tr style=\"text-align: right;\">\n",
       "      <th></th>\n",
       "      <th>flux</th>\n",
       "      <th>ID</th>\n",
       "      <th>BiGG_ID</th>\n",
       "      <th>author</th>\n",
       "      <th>sample_id</th>\n",
       "      <th>normalized_flux</th>\n",
       "    </tr>\n",
       "  </thead>\n",
       "  <tbody>\n",
       "    <tr>\n",
       "      <th>0</th>\n",
       "      <td>-0.059225</td>\n",
       "      <td>ACALD</td>\n",
       "      <td>ACALD</td>\n",
       "      <td>Khodayari</td>\n",
       "      <td>fbaA</td>\n",
       "      <td>-0.059127</td>\n",
       "    </tr>\n",
       "    <tr>\n",
       "      <th>1</th>\n",
       "      <td>-0.004108</td>\n",
       "      <td>ACALDtpp_ex</td>\n",
       "      <td>composed of ACALDtex and ACALDtpp</td>\n",
       "      <td>Khodayari</td>\n",
       "      <td>fbaA</td>\n",
       "      <td>-0.004101</td>\n",
       "    </tr>\n",
       "    <tr>\n",
       "      <th>2</th>\n",
       "      <td>0.000028</td>\n",
       "      <td>ACKr</td>\n",
       "      <td>ACKr</td>\n",
       "      <td>Khodayari</td>\n",
       "      <td>fbaA</td>\n",
       "      <td>0.000028</td>\n",
       "    </tr>\n",
       "    <tr>\n",
       "      <th>3</th>\n",
       "      <td>94.519769</td>\n",
       "      <td>ACONTa</td>\n",
       "      <td>ACONTa</td>\n",
       "      <td>Khodayari</td>\n",
       "      <td>fbaA</td>\n",
       "      <td>94.364274</td>\n",
       "    </tr>\n",
       "    <tr>\n",
       "      <th>4</th>\n",
       "      <td>94.276304</td>\n",
       "      <td>ACONTb</td>\n",
       "      <td>ACONTb</td>\n",
       "      <td>Khodayari</td>\n",
       "      <td>fbaA</td>\n",
       "      <td>94.121209</td>\n",
       "    </tr>\n",
       "  </tbody>\n",
       "</table>\n",
       "</div>"
      ],
      "text/plain": [
       "        flux           ID                            BiGG_ID     author  \\\n",
       "0  -0.059225        ACALD                              ACALD  Khodayari   \n",
       "1  -0.004108  ACALDtpp_ex  composed of ACALDtex and ACALDtpp  Khodayari   \n",
       "2   0.000028         ACKr                               ACKr  Khodayari   \n",
       "3  94.519769       ACONTa                             ACONTa  Khodayari   \n",
       "4  94.276304       ACONTb                             ACONTb  Khodayari   \n",
       "\n",
       "  sample_id  normalized_flux  \n",
       "0      fbaA        -0.059127  \n",
       "1      fbaA        -0.004101  \n",
       "2      fbaA         0.000028  \n",
       "3      fbaA        94.364274  \n",
       "4      fbaA        94.121209  "
      ]
     },
     "execution_count": 14,
     "metadata": {},
     "output_type": "execute_result"
    }
   ],
   "source": [
    "simulation_results.head()"
   ]
  },
  {
   "cell_type": "markdown",
   "metadata": {},
   "source": [
    "# 2. Load experimental data and mix it with simulation data"
   ]
  },
  {
   "cell_type": "code",
   "execution_count": 15,
   "metadata": {},
   "outputs": [],
   "source": [
    "ishii_df = pd.read_csv('../data/datasets/ishii2007_tidy.csv')"
   ]
  },
  {
   "cell_type": "code",
   "execution_count": 16,
   "metadata": {},
   "outputs": [],
   "source": [
    "df = ishii_df\n",
    "# this regexp matches deletions starting with d like dpgi\n",
    "df[\"sample_id\"] = df.Genotype.str.extract(r\"d(\\w+)\")\n",
    "df.loc[df.Genotype == \"WT\", \"sample_id\"] = \"WT\"\n",
    "\n",
    "df = df.assign(author=\"Ishii\")\n",
    "df = df.rename(\n",
    "    {\n",
    "        \"Measurement_ID\": \"BiGG_ID\",\n",
    "        \"Original_Value\": \"normalized_flux\",\n",
    "        \"Value\": \"flux\",\n",
    "        \"Original_ID\": \"ID\",\n",
    "    },\n",
    "    axis=1,\n",
    ")\n",
    "df = df[df['Measurement_Type'] == 'flux']\n",
    "df.loc[df[\"BiGG_ID\"] == \"PYKF\", \"BiGG_ID\"] = \"PYK\"\n",
    "\n",
    "df = df[[\"flux\", \"ID\", \"BiGG_ID\", \"author\", \"sample_id\", \"normalized_flux\"]]\n",
    "exp_results = df"
   ]
  },
  {
   "cell_type": "code",
   "execution_count": 17,
   "metadata": {},
   "outputs": [
    {
     "data": {
      "text/html": [
       "<div>\n",
       "<style scoped>\n",
       "    .dataframe tbody tr th:only-of-type {\n",
       "        vertical-align: middle;\n",
       "    }\n",
       "\n",
       "    .dataframe tbody tr th {\n",
       "        vertical-align: top;\n",
       "    }\n",
       "\n",
       "    .dataframe thead th {\n",
       "        text-align: right;\n",
       "    }\n",
       "</style>\n",
       "<table border=\"1\" class=\"dataframe\">\n",
       "  <thead>\n",
       "    <tr style=\"text-align: right;\">\n",
       "      <th></th>\n",
       "      <th>flux</th>\n",
       "      <th>ID</th>\n",
       "      <th>BiGG_ID</th>\n",
       "      <th>author</th>\n",
       "      <th>sample_id</th>\n",
       "      <th>normalized_flux</th>\n",
       "    </tr>\n",
       "  </thead>\n",
       "  <tbody>\n",
       "    <tr>\n",
       "      <th>25</th>\n",
       "      <td>0.0000</td>\n",
       "      <td>ACALD</td>\n",
       "      <td>ACALD</td>\n",
       "      <td>Ishii</td>\n",
       "      <td>pgm</td>\n",
       "      <td>0.0</td>\n",
       "    </tr>\n",
       "    <tr>\n",
       "      <th>26</th>\n",
       "      <td>2.8458</td>\n",
       "      <td>ACONTa</td>\n",
       "      <td>ACONTa</td>\n",
       "      <td>Ishii</td>\n",
       "      <td>pgm</td>\n",
       "      <td>93.0</td>\n",
       "    </tr>\n",
       "    <tr>\n",
       "      <th>27</th>\n",
       "      <td>2.2644</td>\n",
       "      <td>AKGDH</td>\n",
       "      <td>AKGDH</td>\n",
       "      <td>Ishii</td>\n",
       "      <td>pgm</td>\n",
       "      <td>74.0</td>\n",
       "    </tr>\n",
       "    <tr>\n",
       "      <th>28</th>\n",
       "      <td>2.8458</td>\n",
       "      <td>CS</td>\n",
       "      <td>CS</td>\n",
       "      <td>Ishii</td>\n",
       "      <td>pgm</td>\n",
       "      <td>93.0</td>\n",
       "    </tr>\n",
       "    <tr>\n",
       "      <th>29</th>\n",
       "      <td>0.2448</td>\n",
       "      <td>EX_akg(e)</td>\n",
       "      <td>EX_akg(e)</td>\n",
       "      <td>Ishii</td>\n",
       "      <td>pgm</td>\n",
       "      <td>8.0</td>\n",
       "    </tr>\n",
       "  </tbody>\n",
       "</table>\n",
       "</div>"
      ],
      "text/plain": [
       "      flux         ID    BiGG_ID author sample_id  normalized_flux\n",
       "25  0.0000      ACALD      ACALD  Ishii       pgm              0.0\n",
       "26  2.8458     ACONTa     ACONTa  Ishii       pgm             93.0\n",
       "27  2.2644      AKGDH      AKGDH  Ishii       pgm             74.0\n",
       "28  2.8458         CS         CS  Ishii       pgm             93.0\n",
       "29  0.2448  EX_akg(e)  EX_akg(e)  Ishii       pgm              8.0"
      ]
     },
     "execution_count": 17,
     "metadata": {},
     "output_type": "execute_result"
    }
   ],
   "source": [
    "exp_results.head()"
   ]
  },
  {
   "cell_type": "markdown",
   "metadata": {},
   "source": [
    "# 3. Load COBRA data simulation and add it to data"
   ]
  },
  {
   "cell_type": "code",
   "execution_count": 18,
   "metadata": {},
   "outputs": [
    {
     "data": {
      "text/html": [
       "<div>\n",
       "<style scoped>\n",
       "    .dataframe tbody tr th:only-of-type {\n",
       "        vertical-align: middle;\n",
       "    }\n",
       "\n",
       "    .dataframe tbody tr th {\n",
       "        vertical-align: top;\n",
       "    }\n",
       "\n",
       "    .dataframe thead th {\n",
       "        text-align: right;\n",
       "    }\n",
       "</style>\n",
       "<table border=\"1\" class=\"dataframe\">\n",
       "  <thead>\n",
       "    <tr style=\"text-align: right;\">\n",
       "      <th></th>\n",
       "      <th>ID</th>\n",
       "      <th>flux</th>\n",
       "      <th>sample_id</th>\n",
       "      <th>author</th>\n",
       "      <th>BiGG_ID</th>\n",
       "      <th>normalized_flux</th>\n",
       "    </tr>\n",
       "  </thead>\n",
       "  <tbody>\n",
       "    <tr>\n",
       "      <th>0</th>\n",
       "      <td>ALATA_D2</td>\n",
       "      <td>0.000000</td>\n",
       "      <td>WT</td>\n",
       "      <td>iML1515</td>\n",
       "      <td>ALATA_D2</td>\n",
       "      <td>0.000000</td>\n",
       "    </tr>\n",
       "    <tr>\n",
       "      <th>1</th>\n",
       "      <td>SHCHD2</td>\n",
       "      <td>0.000042</td>\n",
       "      <td>WT</td>\n",
       "      <td>iML1515</td>\n",
       "      <td>SHCHD2</td>\n",
       "      <td>0.001481</td>\n",
       "    </tr>\n",
       "    <tr>\n",
       "      <th>2</th>\n",
       "      <td>CPPPGO</td>\n",
       "      <td>0.000042</td>\n",
       "      <td>WT</td>\n",
       "      <td>iML1515</td>\n",
       "      <td>CPPPGO</td>\n",
       "      <td>0.001481</td>\n",
       "    </tr>\n",
       "    <tr>\n",
       "      <th>3</th>\n",
       "      <td>GTHOr</td>\n",
       "      <td>0.000000</td>\n",
       "      <td>WT</td>\n",
       "      <td>iML1515</td>\n",
       "      <td>GTHOr</td>\n",
       "      <td>0.000000</td>\n",
       "    </tr>\n",
       "    <tr>\n",
       "      <th>4</th>\n",
       "      <td>DHORD5</td>\n",
       "      <td>0.000000</td>\n",
       "      <td>WT</td>\n",
       "      <td>iML1515</td>\n",
       "      <td>DHORD5</td>\n",
       "      <td>0.000000</td>\n",
       "    </tr>\n",
       "  </tbody>\n",
       "</table>\n",
       "</div>"
      ],
      "text/plain": [
       "         ID      flux sample_id   author   BiGG_ID  normalized_flux\n",
       "0  ALATA_D2  0.000000        WT  iML1515  ALATA_D2         0.000000\n",
       "1    SHCHD2  0.000042        WT  iML1515    SHCHD2         0.001481\n",
       "2    CPPPGO  0.000042        WT  iML1515    CPPPGO         0.001481\n",
       "3     GTHOr  0.000000        WT  iML1515     GTHOr         0.000000\n",
       "4    DHORD5  0.000000        WT  iML1515    DHORD5         0.000000"
      ]
     },
     "execution_count": 18,
     "metadata": {},
     "output_type": "execute_result"
    }
   ],
   "source": [
    "cobra_results = pd.read_csv(f'../data/simulation_results/COBRA/iML1515/knockouts_all.csv', index_col=0)\n",
    "cobra_results.head()"
   ]
  },
  {
   "cell_type": "code",
   "execution_count": 19,
   "metadata": {},
   "outputs": [
    {
     "data": {
      "text/html": [
       "<div>\n",
       "<style scoped>\n",
       "    .dataframe tbody tr th:only-of-type {\n",
       "        vertical-align: middle;\n",
       "    }\n",
       "\n",
       "    .dataframe tbody tr th {\n",
       "        vertical-align: top;\n",
       "    }\n",
       "\n",
       "    .dataframe thead th {\n",
       "        text-align: right;\n",
       "    }\n",
       "</style>\n",
       "<table border=\"1\" class=\"dataframe\">\n",
       "  <thead>\n",
       "    <tr style=\"text-align: right;\">\n",
       "      <th></th>\n",
       "      <th>ID</th>\n",
       "      <th>flux</th>\n",
       "      <th>sample_id</th>\n",
       "      <th>author</th>\n",
       "      <th>BiGG_ID</th>\n",
       "      <th>normalized_flux</th>\n",
       "    </tr>\n",
       "  </thead>\n",
       "  <tbody>\n",
       "    <tr>\n",
       "      <th>0</th>\n",
       "      <td>ACALD</td>\n",
       "      <td>0.000000</td>\n",
       "      <td>WT</td>\n",
       "      <td>Ec_core</td>\n",
       "      <td>ACALD</td>\n",
       "      <td>0.000000</td>\n",
       "    </tr>\n",
       "    <tr>\n",
       "      <th>1</th>\n",
       "      <td>ACALDt</td>\n",
       "      <td>0.000000</td>\n",
       "      <td>WT</td>\n",
       "      <td>Ec_core</td>\n",
       "      <td>ACALDt</td>\n",
       "      <td>0.000000</td>\n",
       "    </tr>\n",
       "    <tr>\n",
       "      <th>2</th>\n",
       "      <td>ACKr</td>\n",
       "      <td>-1.284473</td>\n",
       "      <td>WT</td>\n",
       "      <td>Ec_core</td>\n",
       "      <td>ACKr</td>\n",
       "      <td>-44.911636</td>\n",
       "    </tr>\n",
       "    <tr>\n",
       "      <th>3</th>\n",
       "      <td>ACONTa</td>\n",
       "      <td>1.410814</td>\n",
       "      <td>WT</td>\n",
       "      <td>Ec_core</td>\n",
       "      <td>ACONTa</td>\n",
       "      <td>49.329156</td>\n",
       "    </tr>\n",
       "    <tr>\n",
       "      <th>4</th>\n",
       "      <td>ACONTb</td>\n",
       "      <td>1.410814</td>\n",
       "      <td>WT</td>\n",
       "      <td>Ec_core</td>\n",
       "      <td>ACONTb</td>\n",
       "      <td>49.329156</td>\n",
       "    </tr>\n",
       "  </tbody>\n",
       "</table>\n",
       "</div>"
      ],
      "text/plain": [
       "       ID      flux sample_id   author BiGG_ID  normalized_flux\n",
       "0   ACALD  0.000000        WT  Ec_core   ACALD         0.000000\n",
       "1  ACALDt  0.000000        WT  Ec_core  ACALDt         0.000000\n",
       "2    ACKr -1.284473        WT  Ec_core    ACKr       -44.911636\n",
       "3  ACONTa  1.410814        WT  Ec_core  ACONTa        49.329156\n",
       "4  ACONTb  1.410814        WT  Ec_core  ACONTb        49.329156"
      ]
     },
     "execution_count": 19,
     "metadata": {},
     "output_type": "execute_result"
    }
   ],
   "source": [
    "core_results = pd.read_csv(path_to_results / \"COBRA\" / \"core_model\" / \"knockouts_all.csv\", index_col = 0)\n",
    "core_results.head()"
   ]
  },
  {
   "cell_type": "code",
   "execution_count": 20,
   "metadata": {},
   "outputs": [
    {
     "data": {
      "text/html": [
       "<div>\n",
       "<style scoped>\n",
       "    .dataframe tbody tr th:only-of-type {\n",
       "        vertical-align: middle;\n",
       "    }\n",
       "\n",
       "    .dataframe tbody tr th {\n",
       "        vertical-align: top;\n",
       "    }\n",
       "\n",
       "    .dataframe thead th {\n",
       "        text-align: right;\n",
       "    }\n",
       "</style>\n",
       "<table border=\"1\" class=\"dataframe\">\n",
       "  <thead>\n",
       "    <tr style=\"text-align: right;\">\n",
       "      <th></th>\n",
       "      <th>ID</th>\n",
       "      <th>flux</th>\n",
       "      <th>sample_id</th>\n",
       "      <th>author</th>\n",
       "      <th>BiGG_ID</th>\n",
       "      <th>normalized_flux</th>\n",
       "    </tr>\n",
       "  </thead>\n",
       "  <tbody>\n",
       "    <tr>\n",
       "      <th>0</th>\n",
       "      <td>EX_Biomass</td>\n",
       "      <td>1.900000e-01</td>\n",
       "      <td>WT</td>\n",
       "      <td>ECC2</td>\n",
       "      <td>EX_Biomass</td>\n",
       "      <td>6.643357e+00</td>\n",
       "    </tr>\n",
       "    <tr>\n",
       "      <th>1</th>\n",
       "      <td>EX_4CRSOL_ex</td>\n",
       "      <td>4.237000e-05</td>\n",
       "      <td>WT</td>\n",
       "      <td>ECC2</td>\n",
       "      <td>EX_4CRSOL_ex</td>\n",
       "      <td>1.481469e-03</td>\n",
       "    </tr>\n",
       "    <tr>\n",
       "      <th>2</th>\n",
       "      <td>EX_5DRIB_ex</td>\n",
       "      <td>1.274900e-04</td>\n",
       "      <td>WT</td>\n",
       "      <td>ECC2</td>\n",
       "      <td>EX_5DRIB_ex</td>\n",
       "      <td>4.457692e-03</td>\n",
       "    </tr>\n",
       "    <tr>\n",
       "      <th>3</th>\n",
       "      <td>EX_ac_ex</td>\n",
       "      <td>1.611354e+00</td>\n",
       "      <td>WT</td>\n",
       "      <td>ECC2</td>\n",
       "      <td>EX_ac_ex</td>\n",
       "      <td>5.634105e+01</td>\n",
       "    </tr>\n",
       "    <tr>\n",
       "      <th>4</th>\n",
       "      <td>EX_adp_c</td>\n",
       "      <td>1.762479e-15</td>\n",
       "      <td>WT</td>\n",
       "      <td>ECC2</td>\n",
       "      <td>EX_adp_c</td>\n",
       "      <td>6.162514e-14</td>\n",
       "    </tr>\n",
       "  </tbody>\n",
       "</table>\n",
       "</div>"
      ],
      "text/plain": [
       "             ID          flux sample_id author       BiGG_ID  normalized_flux\n",
       "0    EX_Biomass  1.900000e-01        WT   ECC2    EX_Biomass     6.643357e+00\n",
       "1  EX_4CRSOL_ex  4.237000e-05        WT   ECC2  EX_4CRSOL_ex     1.481469e-03\n",
       "2   EX_5DRIB_ex  1.274900e-04        WT   ECC2   EX_5DRIB_ex     4.457692e-03\n",
       "3      EX_ac_ex  1.611354e+00        WT   ECC2      EX_ac_ex     5.634105e+01\n",
       "4      EX_adp_c  1.762479e-15        WT   ECC2      EX_adp_c     6.162514e-14"
      ]
     },
     "execution_count": 20,
     "metadata": {},
     "output_type": "execute_result"
    }
   ],
   "source": [
    "ecc_results = pd.read_csv(path_to_results / \"COBRA\" / \"ECC2\" / \"knockouts_all.csv\", index_col = 0)\n",
    "ecc_results.head()"
   ]
  },
  {
   "cell_type": "code",
   "execution_count": 21,
   "metadata": {},
   "outputs": [
    {
     "data": {
      "text/html": [
       "<div>\n",
       "<style scoped>\n",
       "    .dataframe tbody tr th:only-of-type {\n",
       "        vertical-align: middle;\n",
       "    }\n",
       "\n",
       "    .dataframe tbody tr th {\n",
       "        vertical-align: top;\n",
       "    }\n",
       "\n",
       "    .dataframe thead th {\n",
       "        text-align: right;\n",
       "    }\n",
       "</style>\n",
       "<table border=\"1\" class=\"dataframe\">\n",
       "  <thead>\n",
       "    <tr style=\"text-align: right;\">\n",
       "      <th></th>\n",
       "      <th>ID</th>\n",
       "      <th>flux</th>\n",
       "      <th>sample_id</th>\n",
       "      <th>author</th>\n",
       "      <th>BiGG_ID</th>\n",
       "      <th>normalized_flux</th>\n",
       "    </tr>\n",
       "  </thead>\n",
       "  <tbody>\n",
       "    <tr>\n",
       "      <th>0</th>\n",
       "      <td>EX_Biomass</td>\n",
       "      <td>1.964540e-01</td>\n",
       "      <td>WT</td>\n",
       "      <td>Exp_ECC2</td>\n",
       "      <td>EX_Biomass</td>\n",
       "      <td>7.117900e+00</td>\n",
       "    </tr>\n",
       "    <tr>\n",
       "      <th>1</th>\n",
       "      <td>EX_4CRSOL_ex</td>\n",
       "      <td>4.380925e-05</td>\n",
       "      <td>WT</td>\n",
       "      <td>Exp_ECC2</td>\n",
       "      <td>EX_4CRSOL_ex</td>\n",
       "      <td>1.587292e-03</td>\n",
       "    </tr>\n",
       "    <tr>\n",
       "      <th>2</th>\n",
       "      <td>EX_5DRIB_ex</td>\n",
       "      <td>1.318207e-04</td>\n",
       "      <td>WT</td>\n",
       "      <td>Exp_ECC2</td>\n",
       "      <td>EX_5DRIB_ex</td>\n",
       "      <td>4.776111e-03</td>\n",
       "    </tr>\n",
       "    <tr>\n",
       "      <th>3</th>\n",
       "      <td>EX_ac_ex</td>\n",
       "      <td>1.445019e-02</td>\n",
       "      <td>WT</td>\n",
       "      <td>Exp_ECC2</td>\n",
       "      <td>EX_ac_ex</td>\n",
       "      <td>5.235576e-01</td>\n",
       "    </tr>\n",
       "    <tr>\n",
       "      <th>4</th>\n",
       "      <td>EX_adp_c</td>\n",
       "      <td>-1.385949e-15</td>\n",
       "      <td>WT</td>\n",
       "      <td>Exp_ECC2</td>\n",
       "      <td>EX_adp_c</td>\n",
       "      <td>-5.021556e-14</td>\n",
       "    </tr>\n",
       "  </tbody>\n",
       "</table>\n",
       "</div>"
      ],
      "text/plain": [
       "             ID          flux sample_id    author       BiGG_ID  \\\n",
       "0    EX_Biomass  1.964540e-01        WT  Exp_ECC2    EX_Biomass   \n",
       "1  EX_4CRSOL_ex  4.380925e-05        WT  Exp_ECC2  EX_4CRSOL_ex   \n",
       "2   EX_5DRIB_ex  1.318207e-04        WT  Exp_ECC2   EX_5DRIB_ex   \n",
       "3      EX_ac_ex  1.445019e-02        WT  Exp_ECC2      EX_ac_ex   \n",
       "4      EX_adp_c -1.385949e-15        WT  Exp_ECC2      EX_adp_c   \n",
       "\n",
       "   normalized_flux  \n",
       "0     7.117900e+00  \n",
       "1     1.587292e-03  \n",
       "2     4.776111e-03  \n",
       "3     5.235576e-01  \n",
       "4    -5.021556e-14  "
      ]
     },
     "execution_count": 21,
     "metadata": {},
     "output_type": "execute_result"
    }
   ],
   "source": [
    "exp_ecc_results = pd.read_csv(path_to_results / \"COBRA\" / \"Exp_ECC2\" / \"knockouts_all.csv\", index_col = 0)\n",
    "exp_ecc_results.head()"
   ]
  },
  {
   "cell_type": "code",
   "execution_count": 22,
   "metadata": {},
   "outputs": [
    {
     "data": {
      "text/html": [
       "<div>\n",
       "<style scoped>\n",
       "    .dataframe tbody tr th:only-of-type {\n",
       "        vertical-align: middle;\n",
       "    }\n",
       "\n",
       "    .dataframe tbody tr th {\n",
       "        vertical-align: top;\n",
       "    }\n",
       "\n",
       "    .dataframe thead th {\n",
       "        text-align: right;\n",
       "    }\n",
       "</style>\n",
       "<table border=\"1\" class=\"dataframe\">\n",
       "  <thead>\n",
       "    <tr style=\"text-align: right;\">\n",
       "      <th></th>\n",
       "      <th>ID</th>\n",
       "      <th>flux</th>\n",
       "      <th>sample_id</th>\n",
       "      <th>author</th>\n",
       "      <th>BiGG_ID</th>\n",
       "      <th>normalized_flux</th>\n",
       "    </tr>\n",
       "  </thead>\n",
       "  <tbody>\n",
       "    <tr>\n",
       "      <th>0</th>\n",
       "      <td>ALATA_D2</td>\n",
       "      <td>0.000000</td>\n",
       "      <td>WT</td>\n",
       "      <td>Exp_iML1515</td>\n",
       "      <td>ALATA_D2</td>\n",
       "      <td>0.000000</td>\n",
       "    </tr>\n",
       "    <tr>\n",
       "      <th>1</th>\n",
       "      <td>SHCHD2</td>\n",
       "      <td>0.000042</td>\n",
       "      <td>WT</td>\n",
       "      <td>Exp_iML1515</td>\n",
       "      <td>SHCHD2</td>\n",
       "      <td>0.001486</td>\n",
       "    </tr>\n",
       "    <tr>\n",
       "      <th>2</th>\n",
       "      <td>CPPPGO</td>\n",
       "      <td>0.000042</td>\n",
       "      <td>WT</td>\n",
       "      <td>Exp_iML1515</td>\n",
       "      <td>CPPPGO</td>\n",
       "      <td>0.001486</td>\n",
       "    </tr>\n",
       "    <tr>\n",
       "      <th>3</th>\n",
       "      <td>GTHOr</td>\n",
       "      <td>0.000000</td>\n",
       "      <td>WT</td>\n",
       "      <td>Exp_iML1515</td>\n",
       "      <td>GTHOr</td>\n",
       "      <td>0.000000</td>\n",
       "    </tr>\n",
       "    <tr>\n",
       "      <th>4</th>\n",
       "      <td>DHORD5</td>\n",
       "      <td>0.000000</td>\n",
       "      <td>WT</td>\n",
       "      <td>Exp_iML1515</td>\n",
       "      <td>DHORD5</td>\n",
       "      <td>0.000000</td>\n",
       "    </tr>\n",
       "  </tbody>\n",
       "</table>\n",
       "</div>"
      ],
      "text/plain": [
       "         ID      flux sample_id       author   BiGG_ID  normalized_flux\n",
       "0  ALATA_D2  0.000000        WT  Exp_iML1515  ALATA_D2         0.000000\n",
       "1    SHCHD2  0.000042        WT  Exp_iML1515    SHCHD2         0.001486\n",
       "2    CPPPGO  0.000042        WT  Exp_iML1515    CPPPGO         0.001486\n",
       "3     GTHOr  0.000000        WT  Exp_iML1515     GTHOr         0.000000\n",
       "4    DHORD5  0.000000        WT  Exp_iML1515    DHORD5         0.000000"
      ]
     },
     "execution_count": 22,
     "metadata": {},
     "output_type": "execute_result"
    }
   ],
   "source": [
    "exp_iml_results = pd.read_csv(path_to_results / \"COBRA\" / \"Exp_iML1515\" / \"knockouts_all.csv\", index_col = 0)\n",
    "exp_iml_results.head()"
   ]
  },
  {
   "cell_type": "code",
   "execution_count": 23,
   "metadata": {},
   "outputs": [],
   "source": [
    "all_results = pd.concat(\n",
    "    [\n",
    "        simulation_results,\n",
    "        cobra_results,\n",
    "        core_results,\n",
    "        ecc_results,\n",
    "        exp_ecc_results,\n",
    "        exp_iml_results,\n",
    "        exp_results,\n",
    "    ],\n",
    "    sort=False,\n",
    ")"
   ]
  },
  {
   "cell_type": "code",
   "execution_count": 24,
   "metadata": {},
   "outputs": [
    {
     "data": {
      "text/plain": [
       "Exp_iML1515    65088\n",
       "iML1515        62376\n",
       "Khodayari      10511\n",
       "Kurata          4293\n",
       "ECC2            2684\n",
       "Exp_ECC2        2684\n",
       "Ec_core         1900\n",
       "Millard         1564\n",
       "Ishii           1012\n",
       "Chassagnole      768\n",
       "Name: author, dtype: int64"
      ]
     },
     "execution_count": 24,
     "metadata": {},
     "output_type": "execute_result"
    }
   ],
   "source": [
    "all_results.author.value_counts()"
   ]
  },
  {
   "cell_type": "markdown",
   "metadata": {},
   "source": [
    "# 4. Subselect specific data and calculate error metrics"
   ]
  },
  {
   "cell_type": "code",
   "execution_count": 25,
   "metadata": {},
   "outputs": [],
   "source": [
    "common_fluxes = set(khod_idf[\"BiGG ID\"].unique()).intersection(\n",
    "    set(millard_idf[\"BiGG ID\"].unique()), set(kurata_idf[\"BiGG ID\"].unique())\n",
    ")"
   ]
  },
  {
   "cell_type": "code",
   "execution_count": 26,
   "metadata": {},
   "outputs": [],
   "source": [
    "common_fluxes = {x for x in common_fluxes if pd.notna(x)}\n",
    "#common_fluxes"
   ]
  },
  {
   "cell_type": "code",
   "execution_count": 27,
   "metadata": {},
   "outputs": [
    {
     "data": {
      "text/plain": [
       "{'AKGDH',\n",
       " 'CS',\n",
       " 'EDA',\n",
       " 'FBA',\n",
       " 'FUM',\n",
       " 'G6PDH2r',\n",
       " 'GAPD',\n",
       " 'GLCptspp',\n",
       " 'GND',\n",
       " 'ICDHyr',\n",
       " 'ICL',\n",
       " 'MALS',\n",
       " 'MDH',\n",
       " 'PDH',\n",
       " 'PGI',\n",
       " 'PGM',\n",
       " 'PPC',\n",
       " 'PTAr',\n",
       " 'PYK',\n",
       " 'RPE',\n",
       " 'RPI',\n",
       " 'SUCDi',\n",
       " 'TALA',\n",
       " 'TKT1',\n",
       " 'TPI'}"
      ]
     },
     "execution_count": 27,
     "metadata": {},
     "output_type": "execute_result"
    }
   ],
   "source": [
    "common_fluxes = common_fluxes.intersection(set(exp_results.BiGG_ID.unique()))\n",
    "common_fluxes"
   ]
  },
  {
   "cell_type": "code",
   "execution_count": 28,
   "metadata": {},
   "outputs": [],
   "source": [
    "selected_reactions = [x for x in common_fluxes if pd.notna(x)]\n",
    "\n",
    "selected_strains = exp_results.sample_id.unique()\n",
    "selected_authors = [\"Khodayari\", \"Millard\", \"Kurata\", \"Ishii\", \"iML1515\", \"Chassagnole\", \"Ec_core\", \"ECC2\", \"Exp_ECC2\", \"Exp_iML1515\"]\n",
    "experimental_dataset = \"Ishii\"\n",
    "\n",
    "# select the right data and find median flux if there are several fluxes which are mapped to one BiGG ID\n",
    "selected_data = all_results[\n",
    "    (all_results[\"BiGG_ID\"].isin(selected_reactions))\n",
    "    & (all_results[\"sample_id\"].isin(selected_strains))\n",
    "    & (all_results[\"author\"].isin(selected_authors))\n",
    "].groupby([\"BiGG_ID\", \"sample_id\", \"author\"]).median().reset_index()"
   ]
  },
  {
   "cell_type": "code",
   "execution_count": 29,
   "metadata": {},
   "outputs": [
    {
     "data": {
      "text/plain": [
       "Ishii          550\n",
       "Kurata         500\n",
       "Exp_iML1515    475\n",
       "Khodayari      450\n",
       "iML1515        450\n",
       "Exp_ECC2       425\n",
       "ECC2           425\n",
       "Millard        375\n",
       "Ec_core        368\n",
       "Chassagnole    165\n",
       "Name: author, dtype: int64"
      ]
     },
     "execution_count": 29,
     "metadata": {},
     "output_type": "execute_result"
    }
   ],
   "source": [
    "selected_data.author.value_counts()"
   ]
  },
  {
   "cell_type": "code",
   "execution_count": 30,
   "metadata": {},
   "outputs": [],
   "source": [
    "reduced_reactions = common_fluxes.intersection(set(chassagnole_idf[\"BiGG ID\"].unique()))\n",
    "reduced_data = selected_data.query(\"BiGG_ID in @reduced_reactions\")"
   ]
  },
  {
   "cell_type": "markdown",
   "metadata": {},
   "source": [
    "### Calculate error metrics using `xarray`"
   ]
  },
  {
   "cell_type": "code",
   "execution_count": 175,
   "metadata": {},
   "outputs": [],
   "source": [
    "xdf = selected_data.set_index([\"sample_id\", \"author\", \"BiGG_ID\"]).to_xarray()\n",
    "nm_flux = xdf.normalized_flux\n",
    "ishii_flux = xdf.sel(author='Ishii').normalized_flux"
   ]
  },
  {
   "cell_type": "code",
   "execution_count": 206,
   "metadata": {},
   "outputs": [
    {
     "data": {
      "text/plain": [
       "<xarray.DataArray 'normalized_flux' (sample_id: 22, author: 9, BiGG_ID: 25)>\n",
       "array([[[ True, False, ..., False, False],\n",
       "        [False, False, ..., False, False],\n",
       "        ...,\n",
       "        [False, False, ..., False, False],\n",
       "        [False, False, ..., False, False]],\n",
       "\n",
       "       [[ True, False, ..., False, False],\n",
       "        [ True, False, ..., False,  True],\n",
       "        ...,\n",
       "        [False, False, ..., False, False],\n",
       "        [False, False, ..., False, False]],\n",
       "\n",
       "       ...,\n",
       "\n",
       "       [[False, False, ...,  True, False],\n",
       "        [False, False, ...,  True, False],\n",
       "        ...,\n",
       "        [False, False, ..., False, False],\n",
       "        [False, False, ...,  True, False]],\n",
       "\n",
       "       [[False, False, ..., False, False],\n",
       "        [False, False, ..., False, False],\n",
       "        ...,\n",
       "        [False, False, ..., False, False],\n",
       "        [False, False, ..., False, False]]])\n",
       "Coordinates:\n",
       "  * sample_id  (sample_id) object 'WT' 'fbaB' 'fbp' ... 'tktA' 'tktB' 'zwf'\n",
       "  * author     (author) object 'ECC2' 'Ec_core' ... 'Millard' 'iML1515'\n",
       "  * BiGG_ID    (BiGG_ID) object 'AKGDH' 'CS' 'EDA' 'FBA' ... 'TALA' 'TKT1' 'TPI'"
      ]
     },
     "execution_count": 206,
     "metadata": {},
     "output_type": "execute_result"
    }
   ],
   "source": []
  },
  {
   "cell_type": "code",
   "execution_count": 208,
   "metadata": {},
   "outputs": [],
   "source": [
    "# Mean absolute percent error (MAPE)\n",
    "x_rel_error = abs(nm_flux - ishii_flux) / abs(nm_flux) * 100\n",
    "x_rel_error = x_rel_error.rename('relative_error')\n",
    "#x_rel_error = x_rel_error.where(x_rel_error < 1000, 1000)"
   ]
  },
  {
   "cell_type": "code",
   "execution_count": 177,
   "metadata": {},
   "outputs": [],
   "source": [
    "# symmetric Mean Absolute Percent Error (sMAPE)\n",
    "x_srel_error = 100*abs(nm_flux - ishii_flux) / (nm_flux+ishii_flux)\n",
    "x_srel_error = x_srel_error.rename('symm_relative_error')"
   ]
  },
  {
   "cell_type": "code",
   "execution_count": 178,
   "metadata": {},
   "outputs": [],
   "source": [
    "xdf['relative_error'] = x_rel_error\n",
    "xdf['symm_relative_error'] = x_srel_error"
   ]
  },
  {
   "cell_type": "code",
   "execution_count": 179,
   "metadata": {},
   "outputs": [],
   "source": [
    "import xarray as xr\n",
    "def vector_norm(x, dim, ord=None):\n",
    "    return xr.apply_ufunc(np.linalg.norm, x,\n",
    "                          input_core_dims=[[dim]],\n",
    "                          kwargs={'ord': ord, 'axis': -1})"
   ]
  },
  {
   "cell_type": "code",
   "execution_count": 268,
   "metadata": {},
   "outputs": [],
   "source": [
    "# Norm metric used by Daniel\n",
    "x_norm_error = vector_norm(nm_flux - ishii_flux, dim=\"BiGG_ID\") / vector_norm(ishii_flux, dim=\"BiGG_ID\")\n",
    "x_norm_error = x_norm_error.rename('normalized_error')"
   ]
  },
  {
   "cell_type": "markdown",
   "metadata": {},
   "source": [
    "## Calculate relative error"
   ]
  },
  {
   "cell_type": "code",
   "execution_count": 31,
   "metadata": {},
   "outputs": [],
   "source": [
    "# Check if experimental data is present for every BiGG ID\n",
    "# selected_data.groupby([\"BiGG_ID\", \"sample_id\"]).apply(lambda x: any(x.author.str.contains(experimental_dataset)))\n",
    "selected_data = selected_data.query(\"author != 'Chassagnole' \")\n",
    "selected_data = (\n",
    "    selected_data.groupby([\"BiGG_ID\", \"sample_id\"])\n",
    "    .apply(relative_error, exp_name=experimental_dataset)\n",
    "    .reset_index()\n",
    "    .drop(\"level_2\", axis=1)\n",
    ")"
   ]
  },
  {
   "cell_type": "code",
   "execution_count": 32,
   "metadata": {},
   "outputs": [
    {
     "data": {
      "text/html": [
       "<div>\n",
       "<style scoped>\n",
       "    .dataframe tbody tr th:only-of-type {\n",
       "        vertical-align: middle;\n",
       "    }\n",
       "\n",
       "    .dataframe tbody tr th {\n",
       "        vertical-align: top;\n",
       "    }\n",
       "\n",
       "    .dataframe thead th {\n",
       "        text-align: right;\n",
       "    }\n",
       "</style>\n",
       "<table border=\"1\" class=\"dataframe\">\n",
       "  <thead>\n",
       "    <tr style=\"text-align: right;\">\n",
       "      <th></th>\n",
       "      <th>BiGG_ID</th>\n",
       "      <th>sample_id</th>\n",
       "      <th>author</th>\n",
       "      <th>flux</th>\n",
       "      <th>normalized_flux</th>\n",
       "      <th>relative_error</th>\n",
       "    </tr>\n",
       "  </thead>\n",
       "  <tbody>\n",
       "    <tr>\n",
       "      <th>0</th>\n",
       "      <td>AKGDH</td>\n",
       "      <td>WT</td>\n",
       "      <td>ECC2</td>\n",
       "      <td>0.000000</td>\n",
       "      <td>0.000000</td>\n",
       "      <td>1000.000000</td>\n",
       "    </tr>\n",
       "    <tr>\n",
       "      <th>1</th>\n",
       "      <td>AKGDH</td>\n",
       "      <td>WT</td>\n",
       "      <td>Ec_core</td>\n",
       "      <td>1.205823</td>\n",
       "      <td>42.161639</td>\n",
       "      <td>39.937635</td>\n",
       "    </tr>\n",
       "    <tr>\n",
       "      <th>2</th>\n",
       "      <td>AKGDH</td>\n",
       "      <td>WT</td>\n",
       "      <td>Exp_ECC2</td>\n",
       "      <td>1.619273</td>\n",
       "      <td>58.669298</td>\n",
       "      <td>0.563671</td>\n",
       "    </tr>\n",
       "    <tr>\n",
       "      <th>3</th>\n",
       "      <td>AKGDH</td>\n",
       "      <td>WT</td>\n",
       "      <td>Exp_iML1515</td>\n",
       "      <td>1.740514</td>\n",
       "      <td>61.035954</td>\n",
       "      <td>3.335663</td>\n",
       "    </tr>\n",
       "    <tr>\n",
       "      <th>4</th>\n",
       "      <td>AKGDH</td>\n",
       "      <td>WT</td>\n",
       "      <td>Ishii</td>\n",
       "      <td>1.687400</td>\n",
       "      <td>59.000000</td>\n",
       "      <td>0.000000</td>\n",
       "    </tr>\n",
       "  </tbody>\n",
       "</table>\n",
       "</div>"
      ],
      "text/plain": [
       "  BiGG_ID sample_id       author      flux  normalized_flux  relative_error\n",
       "0   AKGDH        WT         ECC2  0.000000         0.000000     1000.000000\n",
       "1   AKGDH        WT      Ec_core  1.205823        42.161639       39.937635\n",
       "2   AKGDH        WT     Exp_ECC2  1.619273        58.669298        0.563671\n",
       "3   AKGDH        WT  Exp_iML1515  1.740514        61.035954        3.335663\n",
       "4   AKGDH        WT        Ishii  1.687400        59.000000        0.000000"
      ]
     },
     "execution_count": 32,
     "metadata": {},
     "output_type": "execute_result"
    }
   ],
   "source": [
    "selected_data.head()"
   ]
  },
  {
   "cell_type": "code",
   "execution_count": 33,
   "metadata": {},
   "outputs": [],
   "source": [
    "reduced_data = (\n",
    "    reduced_data.groupby([\"BiGG_ID\", \"sample_id\"])\n",
    "    .apply(relative_error, exp_name=experimental_dataset)\n",
    "    .reset_index()\n",
    "    .drop(\"level_2\", axis=1)\n",
    ")"
   ]
  },
  {
   "cell_type": "code",
   "execution_count": 34,
   "metadata": {},
   "outputs": [
    {
     "data": {
      "text/html": [
       "<div>\n",
       "<style scoped>\n",
       "    .dataframe tbody tr th:only-of-type {\n",
       "        vertical-align: middle;\n",
       "    }\n",
       "\n",
       "    .dataframe tbody tr th {\n",
       "        vertical-align: top;\n",
       "    }\n",
       "\n",
       "    .dataframe thead th {\n",
       "        text-align: right;\n",
       "    }\n",
       "</style>\n",
       "<table border=\"1\" class=\"dataframe\">\n",
       "  <thead>\n",
       "    <tr style=\"text-align: right;\">\n",
       "      <th></th>\n",
       "      <th>BiGG_ID</th>\n",
       "      <th>sample_id</th>\n",
       "      <th>author</th>\n",
       "      <th>flux</th>\n",
       "      <th>normalized_flux</th>\n",
       "      <th>relative_error</th>\n",
       "    </tr>\n",
       "  </thead>\n",
       "  <tbody>\n",
       "    <tr>\n",
       "      <th>0</th>\n",
       "      <td>FBA</td>\n",
       "      <td>WT</td>\n",
       "      <td>ECC2</td>\n",
       "      <td>1.338301</td>\n",
       "      <td>46.793758</td>\n",
       "      <td>84.853715</td>\n",
       "    </tr>\n",
       "    <tr>\n",
       "      <th>1</th>\n",
       "      <td>FBA</td>\n",
       "      <td>WT</td>\n",
       "      <td>Ec_core</td>\n",
       "      <td>2.329018</td>\n",
       "      <td>81.434183</td>\n",
       "      <td>6.220750</td>\n",
       "    </tr>\n",
       "    <tr>\n",
       "      <th>2</th>\n",
       "      <td>FBA</td>\n",
       "      <td>WT</td>\n",
       "      <td>Exp_ECC2</td>\n",
       "      <td>2.412603</td>\n",
       "      <td>87.413161</td>\n",
       "      <td>1.044650</td>\n",
       "    </tr>\n",
       "    <tr>\n",
       "      <th>3</th>\n",
       "      <td>FBA</td>\n",
       "      <td>WT</td>\n",
       "      <td>Exp_iML1515</td>\n",
       "      <td>2.373900</td>\n",
       "      <td>83.247415</td>\n",
       "      <td>3.907130</td>\n",
       "    </tr>\n",
       "    <tr>\n",
       "      <th>4</th>\n",
       "      <td>FBA</td>\n",
       "      <td>WT</td>\n",
       "      <td>Ishii</td>\n",
       "      <td>2.473900</td>\n",
       "      <td>86.500000</td>\n",
       "      <td>0.000000</td>\n",
       "    </tr>\n",
       "  </tbody>\n",
       "</table>\n",
       "</div>"
      ],
      "text/plain": [
       "  BiGG_ID sample_id       author      flux  normalized_flux  relative_error\n",
       "0     FBA        WT         ECC2  1.338301        46.793758       84.853715\n",
       "1     FBA        WT      Ec_core  2.329018        81.434183        6.220750\n",
       "2     FBA        WT     Exp_ECC2  2.412603        87.413161        1.044650\n",
       "3     FBA        WT  Exp_iML1515  2.373900        83.247415        3.907130\n",
       "4     FBA        WT        Ishii  2.473900        86.500000        0.000000"
      ]
     },
     "execution_count": 34,
     "metadata": {},
     "output_type": "execute_result"
    }
   ],
   "source": [
    "reduced_data.head()"
   ]
  },
  {
   "cell_type": "markdown",
   "metadata": {},
   "source": [
    "## Calculate normalized error for datasets"
   ]
  },
  {
   "cell_type": "code",
   "execution_count": 35,
   "metadata": {},
   "outputs": [],
   "source": [
    "normalized_errors = (\n",
    "    selected_data.groupby([\"sample_id\"])\n",
    "    .apply(normalized_error, exp_name=\"Ishii\")\n",
    "    .reset_index()\n",
    "    .rename({0: \"normalized_error\"}, axis=1)\n",
    ")"
   ]
  },
  {
   "cell_type": "code",
   "execution_count": 36,
   "metadata": {},
   "outputs": [
    {
     "data": {
      "text/plain": [
       "author\n",
       "ECC2           0.689719\n",
       "Ec_core        1.660444\n",
       "Exp_ECC2       0.527606\n",
       "Exp_iML1515    0.363488\n",
       "Ishii          0.000000\n",
       "Khodayari      0.895719\n",
       "Kurata         0.508944\n",
       "Millard        0.999690\n",
       "iML1515        0.993600\n",
       "dtype: float64"
      ]
     },
     "execution_count": 36,
     "metadata": {},
     "output_type": "execute_result"
    }
   ],
   "source": [
    "normalized_error(selected_data.groupby([\"sample_id\"]).get_group(\"pfkB\"), exp_name=\"Ishii\")"
   ]
  },
  {
   "cell_type": "code",
   "execution_count": 37,
   "metadata": {},
   "outputs": [
    {
     "data": {
      "text/html": [
       "<div>\n",
       "<style scoped>\n",
       "    .dataframe tbody tr th:only-of-type {\n",
       "        vertical-align: middle;\n",
       "    }\n",
       "\n",
       "    .dataframe tbody tr th {\n",
       "        vertical-align: top;\n",
       "    }\n",
       "\n",
       "    .dataframe thead th {\n",
       "        text-align: right;\n",
       "    }\n",
       "</style>\n",
       "<table border=\"1\" class=\"dataframe\">\n",
       "  <thead>\n",
       "    <tr style=\"text-align: right;\">\n",
       "      <th></th>\n",
       "      <th>sample_id</th>\n",
       "      <th>author</th>\n",
       "      <th>normalized_error</th>\n",
       "    </tr>\n",
       "  </thead>\n",
       "  <tbody>\n",
       "    <tr>\n",
       "      <th>0</th>\n",
       "      <td>WT</td>\n",
       "      <td>ECC2</td>\n",
       "      <td>0.587672</td>\n",
       "    </tr>\n",
       "    <tr>\n",
       "      <th>1</th>\n",
       "      <td>WT</td>\n",
       "      <td>Ec_core</td>\n",
       "      <td>0.933461</td>\n",
       "    </tr>\n",
       "    <tr>\n",
       "      <th>2</th>\n",
       "      <td>WT</td>\n",
       "      <td>Exp_ECC2</td>\n",
       "      <td>0.060243</td>\n",
       "    </tr>\n",
       "    <tr>\n",
       "      <th>3</th>\n",
       "      <td>WT</td>\n",
       "      <td>Exp_iML1515</td>\n",
       "      <td>0.071121</td>\n",
       "    </tr>\n",
       "    <tr>\n",
       "      <th>4</th>\n",
       "      <td>WT</td>\n",
       "      <td>Ishii</td>\n",
       "      <td>0.000000</td>\n",
       "    </tr>\n",
       "  </tbody>\n",
       "</table>\n",
       "</div>"
      ],
      "text/plain": [
       "  sample_id       author  normalized_error\n",
       "0        WT         ECC2          0.587672\n",
       "1        WT      Ec_core          0.933461\n",
       "2        WT     Exp_ECC2          0.060243\n",
       "3        WT  Exp_iML1515          0.071121\n",
       "4        WT        Ishii          0.000000"
      ]
     },
     "execution_count": 37,
     "metadata": {},
     "output_type": "execute_result"
    }
   ],
   "source": [
    "normalized_errors.head()"
   ]
  },
  {
   "cell_type": "code",
   "execution_count": 38,
   "metadata": {},
   "outputs": [],
   "source": [
    "reduced_errors = reduced_data.groupby([\"sample_id\"]).apply(normalized_error, exp_name=\"Ishii\").reset_index().rename({0 : \"normalized_error\"}, axis = 1)"
   ]
  },
  {
   "cell_type": "code",
   "execution_count": 39,
   "metadata": {},
   "outputs": [
    {
     "data": {
      "text/html": [
       "<div>\n",
       "<style scoped>\n",
       "    .dataframe tbody tr th:only-of-type {\n",
       "        vertical-align: middle;\n",
       "    }\n",
       "\n",
       "    .dataframe tbody tr th {\n",
       "        vertical-align: top;\n",
       "    }\n",
       "\n",
       "    .dataframe thead th {\n",
       "        text-align: right;\n",
       "    }\n",
       "</style>\n",
       "<table border=\"1\" class=\"dataframe\">\n",
       "  <thead>\n",
       "    <tr style=\"text-align: right;\">\n",
       "      <th></th>\n",
       "      <th>sample_id</th>\n",
       "      <th>author</th>\n",
       "      <th>normalized_error</th>\n",
       "    </tr>\n",
       "  </thead>\n",
       "  <tbody>\n",
       "    <tr>\n",
       "      <th>0</th>\n",
       "      <td>WT</td>\n",
       "      <td>ECC2</td>\n",
       "      <td>0.367347</td>\n",
       "    </tr>\n",
       "    <tr>\n",
       "      <th>1</th>\n",
       "      <td>WT</td>\n",
       "      <td>Ec_core</td>\n",
       "      <td>1.045622</td>\n",
       "    </tr>\n",
       "    <tr>\n",
       "      <th>2</th>\n",
       "      <td>WT</td>\n",
       "      <td>Exp_ECC2</td>\n",
       "      <td>0.066036</td>\n",
       "    </tr>\n",
       "    <tr>\n",
       "      <th>3</th>\n",
       "      <td>WT</td>\n",
       "      <td>Exp_iML1515</td>\n",
       "      <td>0.076935</td>\n",
       "    </tr>\n",
       "    <tr>\n",
       "      <th>4</th>\n",
       "      <td>WT</td>\n",
       "      <td>Ishii</td>\n",
       "      <td>0.000000</td>\n",
       "    </tr>\n",
       "  </tbody>\n",
       "</table>\n",
       "</div>"
      ],
      "text/plain": [
       "  sample_id       author  normalized_error\n",
       "0        WT         ECC2          0.367347\n",
       "1        WT      Ec_core          1.045622\n",
       "2        WT     Exp_ECC2          0.066036\n",
       "3        WT  Exp_iML1515          0.076935\n",
       "4        WT        Ishii          0.000000"
      ]
     },
     "execution_count": 39,
     "metadata": {},
     "output_type": "execute_result"
    }
   ],
   "source": [
    "reduced_errors.head()"
   ]
  },
  {
   "cell_type": "code",
   "execution_count": 39,
   "metadata": {},
   "outputs": [
    {
     "data": {
      "text/html": [
       "<div>\n",
       "<style scoped>\n",
       "    .dataframe tbody tr th:only-of-type {\n",
       "        vertical-align: middle;\n",
       "    }\n",
       "\n",
       "    .dataframe tbody tr th {\n",
       "        vertical-align: top;\n",
       "    }\n",
       "\n",
       "    .dataframe thead th {\n",
       "        text-align: right;\n",
       "    }\n",
       "</style>\n",
       "<table border=\"1\" class=\"dataframe\">\n",
       "  <thead>\n",
       "    <tr style=\"text-align: right;\">\n",
       "      <th></th>\n",
       "      <th>BiGG_ID</th>\n",
       "      <th>sample_id</th>\n",
       "      <th>author</th>\n",
       "      <th>flux</th>\n",
       "      <th>normalized_flux</th>\n",
       "      <th>relative_error</th>\n",
       "    </tr>\n",
       "  </thead>\n",
       "  <tbody>\n",
       "    <tr>\n",
       "      <th>36</th>\n",
       "      <td>AKGDH</td>\n",
       "      <td>pfkA</td>\n",
       "      <td>Ec_core</td>\n",
       "      <td>0.000000e+00</td>\n",
       "      <td>0.000000e+00</td>\n",
       "      <td>1000.000000</td>\n",
       "    </tr>\n",
       "    <tr>\n",
       "      <th>177</th>\n",
       "      <td>CS</td>\n",
       "      <td>pfkA</td>\n",
       "      <td>Ec_core</td>\n",
       "      <td>2.049910e-01</td>\n",
       "      <td>7.167517e+00</td>\n",
       "      <td>1000.000000</td>\n",
       "    </tr>\n",
       "    <tr>\n",
       "      <th>443</th>\n",
       "      <td>FBA</td>\n",
       "      <td>pfkA</td>\n",
       "      <td>Ec_core</td>\n",
       "      <td>0.000000e+00</td>\n",
       "      <td>0.000000e+00</td>\n",
       "      <td>1000.000000</td>\n",
       "    </tr>\n",
       "    <tr>\n",
       "      <th>584</th>\n",
       "      <td>FUM</td>\n",
       "      <td>pfkA</td>\n",
       "      <td>Ec_core</td>\n",
       "      <td>0.000000e+00</td>\n",
       "      <td>0.000000e+00</td>\n",
       "      <td>1000.000000</td>\n",
       "    </tr>\n",
       "    <tr>\n",
       "      <th>725</th>\n",
       "      <td>G6PDH2r</td>\n",
       "      <td>pfkA</td>\n",
       "      <td>Ec_core</td>\n",
       "      <td>8.013021e+00</td>\n",
       "      <td>2.801756e+02</td>\n",
       "      <td>95.003133</td>\n",
       "    </tr>\n",
       "    <tr>\n",
       "      <th>866</th>\n",
       "      <td>GAPD</td>\n",
       "      <td>pfkA</td>\n",
       "      <td>Ec_core</td>\n",
       "      <td>2.543916e+00</td>\n",
       "      <td>8.894811e+01</td>\n",
       "      <td>94.495416</td>\n",
       "    </tr>\n",
       "    <tr>\n",
       "      <th>1132</th>\n",
       "      <td>GND</td>\n",
       "      <td>pfkA</td>\n",
       "      <td>Ec_core</td>\n",
       "      <td>8.013021e+00</td>\n",
       "      <td>2.801756e+02</td>\n",
       "      <td>95.003133</td>\n",
       "    </tr>\n",
       "    <tr>\n",
       "      <th>1273</th>\n",
       "      <td>ICDHyr</td>\n",
       "      <td>pfkA</td>\n",
       "      <td>Ec_core</td>\n",
       "      <td>2.049910e-01</td>\n",
       "      <td>7.167517e+00</td>\n",
       "      <td>918.483738</td>\n",
       "    </tr>\n",
       "    <tr>\n",
       "      <th>1414</th>\n",
       "      <td>ICL</td>\n",
       "      <td>pfkA</td>\n",
       "      <td>Ec_core</td>\n",
       "      <td>0.000000e+00</td>\n",
       "      <td>0.000000e+00</td>\n",
       "      <td>1000.000000</td>\n",
       "    </tr>\n",
       "    <tr>\n",
       "      <th>1555</th>\n",
       "      <td>MALS</td>\n",
       "      <td>pfkA</td>\n",
       "      <td>Ec_core</td>\n",
       "      <td>0.000000e+00</td>\n",
       "      <td>0.000000e+00</td>\n",
       "      <td>1000.000000</td>\n",
       "    </tr>\n",
       "    <tr>\n",
       "      <th>1696</th>\n",
       "      <td>MDH</td>\n",
       "      <td>pfkA</td>\n",
       "      <td>Ec_core</td>\n",
       "      <td>1.219562e-16</td>\n",
       "      <td>4.264202e-15</td>\n",
       "      <td>1000.000000</td>\n",
       "    </tr>\n",
       "    <tr>\n",
       "      <th>1837</th>\n",
       "      <td>PDH</td>\n",
       "      <td>pfkA</td>\n",
       "      <td>Ec_core</td>\n",
       "      <td>6.657585e-01</td>\n",
       "      <td>2.327827e+01</td>\n",
       "      <td>415.502243</td>\n",
       "    </tr>\n",
       "    <tr>\n",
       "      <th>1978</th>\n",
       "      <td>PGI</td>\n",
       "      <td>pfkA</td>\n",
       "      <td>Ec_core</td>\n",
       "      <td>-5.191971e+00</td>\n",
       "      <td>-1.815374e+02</td>\n",
       "      <td>146.271445</td>\n",
       "    </tr>\n",
       "    <tr>\n",
       "      <th>2119</th>\n",
       "      <td>PGM</td>\n",
       "      <td>pfkA</td>\n",
       "      <td>Ec_core</td>\n",
       "      <td>-2.259676e+00</td>\n",
       "      <td>-7.900965e+01</td>\n",
       "      <td>305.038244</td>\n",
       "    </tr>\n",
       "    <tr>\n",
       "      <th>2260</th>\n",
       "      <td>PPC</td>\n",
       "      <td>pfkA</td>\n",
       "      <td>Ec_core</td>\n",
       "      <td>5.444640e-01</td>\n",
       "      <td>1.903720e+01</td>\n",
       "      <td>21.206912</td>\n",
       "    </tr>\n",
       "    <tr>\n",
       "      <th>2401</th>\n",
       "      <td>PTAr</td>\n",
       "      <td>pfkA</td>\n",
       "      <td>Ec_core</td>\n",
       "      <td>1.612780e-01</td>\n",
       "      <td>5.639091e+00</td>\n",
       "      <td>100.000000</td>\n",
       "    </tr>\n",
       "    <tr>\n",
       "      <th>2542</th>\n",
       "      <td>PYK</td>\n",
       "      <td>pfkA</td>\n",
       "      <td>Ec_core</td>\n",
       "      <td>0.000000e+00</td>\n",
       "      <td>0.000000e+00</td>\n",
       "      <td>1000.000000</td>\n",
       "    </tr>\n",
       "    <tr>\n",
       "      <th>2683</th>\n",
       "      <td>RPE</td>\n",
       "      <td>pfkA</td>\n",
       "      <td>Ec_core</td>\n",
       "      <td>5.205442e+00</td>\n",
       "      <td>1.820085e+02</td>\n",
       "      <td>98.351725</td>\n",
       "    </tr>\n",
       "    <tr>\n",
       "      <th>2824</th>\n",
       "      <td>RPI</td>\n",
       "      <td>pfkA</td>\n",
       "      <td>Ec_core</td>\n",
       "      <td>-2.807579e+00</td>\n",
       "      <td>-9.816710e+01</td>\n",
       "      <td>111.205384</td>\n",
       "    </tr>\n",
       "    <tr>\n",
       "      <th>2965</th>\n",
       "      <td>SUCDi</td>\n",
       "      <td>pfkA</td>\n",
       "      <td>Ec_core</td>\n",
       "      <td>0.000000e+00</td>\n",
       "      <td>0.000000e+00</td>\n",
       "      <td>1000.000000</td>\n",
       "    </tr>\n",
       "    <tr>\n",
       "      <th>3106</th>\n",
       "      <td>TALA</td>\n",
       "      <td>pfkA</td>\n",
       "      <td>Ec_core</td>\n",
       "      <td>2.637016e+00</td>\n",
       "      <td>9.220336e+01</td>\n",
       "      <td>96.746322</td>\n",
       "    </tr>\n",
       "    <tr>\n",
       "      <th>3247</th>\n",
       "      <td>TKT1</td>\n",
       "      <td>pfkA</td>\n",
       "      <td>Ec_core</td>\n",
       "      <td>2.637016e+00</td>\n",
       "      <td>9.220336e+01</td>\n",
       "      <td>96.746322</td>\n",
       "    </tr>\n",
       "    <tr>\n",
       "      <th>3388</th>\n",
       "      <td>TPI</td>\n",
       "      <td>pfkA</td>\n",
       "      <td>Ec_core</td>\n",
       "      <td>0.000000e+00</td>\n",
       "      <td>0.000000e+00</td>\n",
       "      <td>1000.000000</td>\n",
       "    </tr>\n",
       "  </tbody>\n",
       "</table>\n",
       "</div>"
      ],
      "text/plain": [
       "      BiGG_ID sample_id   author          flux  normalized_flux  \\\n",
       "36      AKGDH      pfkA  Ec_core  0.000000e+00     0.000000e+00   \n",
       "177        CS      pfkA  Ec_core  2.049910e-01     7.167517e+00   \n",
       "443       FBA      pfkA  Ec_core  0.000000e+00     0.000000e+00   \n",
       "584       FUM      pfkA  Ec_core  0.000000e+00     0.000000e+00   \n",
       "725   G6PDH2r      pfkA  Ec_core  8.013021e+00     2.801756e+02   \n",
       "866      GAPD      pfkA  Ec_core  2.543916e+00     8.894811e+01   \n",
       "1132      GND      pfkA  Ec_core  8.013021e+00     2.801756e+02   \n",
       "1273   ICDHyr      pfkA  Ec_core  2.049910e-01     7.167517e+00   \n",
       "1414      ICL      pfkA  Ec_core  0.000000e+00     0.000000e+00   \n",
       "1555     MALS      pfkA  Ec_core  0.000000e+00     0.000000e+00   \n",
       "1696      MDH      pfkA  Ec_core  1.219562e-16     4.264202e-15   \n",
       "1837      PDH      pfkA  Ec_core  6.657585e-01     2.327827e+01   \n",
       "1978      PGI      pfkA  Ec_core -5.191971e+00    -1.815374e+02   \n",
       "2119      PGM      pfkA  Ec_core -2.259676e+00    -7.900965e+01   \n",
       "2260      PPC      pfkA  Ec_core  5.444640e-01     1.903720e+01   \n",
       "2401     PTAr      pfkA  Ec_core  1.612780e-01     5.639091e+00   \n",
       "2542      PYK      pfkA  Ec_core  0.000000e+00     0.000000e+00   \n",
       "2683      RPE      pfkA  Ec_core  5.205442e+00     1.820085e+02   \n",
       "2824      RPI      pfkA  Ec_core -2.807579e+00    -9.816710e+01   \n",
       "2965    SUCDi      pfkA  Ec_core  0.000000e+00     0.000000e+00   \n",
       "3106     TALA      pfkA  Ec_core  2.637016e+00     9.220336e+01   \n",
       "3247     TKT1      pfkA  Ec_core  2.637016e+00     9.220336e+01   \n",
       "3388      TPI      pfkA  Ec_core  0.000000e+00     0.000000e+00   \n",
       "\n",
       "      relative_error  \n",
       "36       1000.000000  \n",
       "177      1000.000000  \n",
       "443      1000.000000  \n",
       "584      1000.000000  \n",
       "725        95.003133  \n",
       "866        94.495416  \n",
       "1132       95.003133  \n",
       "1273      918.483738  \n",
       "1414     1000.000000  \n",
       "1555     1000.000000  \n",
       "1696     1000.000000  \n",
       "1837      415.502243  \n",
       "1978      146.271445  \n",
       "2119      305.038244  \n",
       "2260       21.206912  \n",
       "2401      100.000000  \n",
       "2542     1000.000000  \n",
       "2683       98.351725  \n",
       "2824      111.205384  \n",
       "2965     1000.000000  \n",
       "3106       96.746322  \n",
       "3247       96.746322  \n",
       "3388     1000.000000  "
      ]
     },
     "execution_count": 39,
     "metadata": {},
     "output_type": "execute_result"
    }
   ],
   "source": [
    "selected_data.query(\"author == 'Ec_core' and sample_id == 'pfkA' \")"
   ]
  },
  {
   "cell_type": "markdown",
   "metadata": {
    "toc-hr-collapsed": false
   },
   "source": [
    "# 5. Visualize"
   ]
  },
  {
   "cell_type": "markdown",
   "metadata": {},
   "source": [
    "### Summary normalized error for the models"
   ]
  },
  {
   "cell_type": "code",
   "execution_count": 286,
   "metadata": {},
   "outputs": [
    {
     "data": {
      "application/vnd.vegalite.v2+json": {
       "$schema": "https://vega.github.io/schema/vega-lite/v2.6.0.json",
       "config": {
        "axis": {
         "labelFontSize": 20,
         "titleFontSize": 24
        },
        "legend": {
         "labelFontSize": 16,
         "titleFontSize": 20
        },
        "view": {
         "height": 300,
         "width": 400
        }
       },
       "data": {
        "name": "data-493b7a3a37da2058e23b2e2ad0f6dd1b"
       },
       "datasets": {
        "data-493b7a3a37da2058e23b2e2ad0f6dd1b": [
         {
          "author": "ECC2",
          "normalized_error": 0.5876720845612964,
          "sample_id": "WT"
         },
         {
          "author": "Exp_ECC2",
          "normalized_error": 0.060242918317285066,
          "sample_id": "WT"
         },
         {
          "author": "Exp_iML1515",
          "normalized_error": 0.07112087539571854,
          "sample_id": "WT"
         },
         {
          "author": "Khodayari",
          "normalized_error": 0.8443462266627335,
          "sample_id": "WT"
         },
         {
          "author": "Kurata",
          "normalized_error": 0.4290517614624855,
          "sample_id": "WT"
         },
         {
          "author": "Millard",
          "normalized_error": 0.07581158695388648,
          "sample_id": "WT"
         },
         {
          "author": "iML1515",
          "normalized_error": 0.9388092511393986,
          "sample_id": "WT"
         },
         {
          "author": "ECC2",
          "normalized_error": 0.7233177182826556,
          "sample_id": "fbaB"
         },
         {
          "author": "Exp_ECC2",
          "normalized_error": 0.5571678503581049,
          "sample_id": "fbaB"
         },
         {
          "author": "Exp_iML1515",
          "normalized_error": 0.30623175453347923,
          "sample_id": "fbaB"
         },
         {
          "author": "Khodayari",
          "normalized_error": 0.893837064343031,
          "sample_id": "fbaB"
         },
         {
          "author": "Kurata",
          "normalized_error": 0.41036299413225735,
          "sample_id": "fbaB"
         },
         {
          "author": "Millard",
          "normalized_error": 0.9975191270452003,
          "sample_id": "fbaB"
         },
         {
          "author": "iML1515",
          "normalized_error": 0.9801726989494459,
          "sample_id": "fbaB"
         },
         {
          "author": "ECC2",
          "normalized_error": 0.5899630172105623,
          "sample_id": "fbp"
         },
         {
          "author": "Exp_ECC2",
          "normalized_error": 0.11081836730195123,
          "sample_id": "fbp"
         },
         {
          "author": "Exp_iML1515",
          "normalized_error": 0.1372516971586148,
          "sample_id": "fbp"
         },
         {
          "author": "Khodayari",
          "normalized_error": 0.8452643841782691,
          "sample_id": "fbp"
         },
         {
          "author": "Kurata",
          "normalized_error": 0.4084761572320364,
          "sample_id": "fbp"
         },
         {
          "author": "Millard",
          "normalized_error": 0.09381200836540193,
          "sample_id": "fbp"
         },
         {
          "author": "iML1515",
          "normalized_error": 0.9364236389396656,
          "sample_id": "fbp"
         },
         {
          "author": "ECC2",
          "normalized_error": 0.6259450844705894,
          "sample_id": "gnd"
         },
         {
          "author": "Exp_ECC2",
          "normalized_error": 0.1970213381672891,
          "sample_id": "gnd"
         },
         {
          "author": "Exp_iML1515",
          "normalized_error": 0.15696932069740455,
          "sample_id": "gnd"
         },
         {
          "author": "Khodayari",
          "normalized_error": 0.6862230084017967,
          "sample_id": "gnd"
         },
         {
          "author": "Kurata",
          "normalized_error": 0.8561562149564127,
          "sample_id": "gnd"
         },
         {
          "author": "Millard",
          "normalized_error": 0.21294864452957682,
          "sample_id": "gnd"
         },
         {
          "author": "iML1515",
          "normalized_error": 0.8749727662227617,
          "sample_id": "gnd"
         },
         {
          "author": "ECC2",
          "normalized_error": 0.9192326897941697,
          "sample_id": "gpmA"
         },
         {
          "author": "Exp_ECC2",
          "normalized_error": 0.9138084713123595,
          "sample_id": "gpmA"
         },
         {
          "author": "Exp_iML1515",
          "normalized_error": 0.4439304377256048,
          "sample_id": "gpmA"
         },
         {
          "author": "Kurata",
          "normalized_error": 0.9999998010720135,
          "sample_id": "gpmA"
         },
         {
          "author": "ECC2",
          "normalized_error": 0.7426841498010143,
          "sample_id": "pfkA"
         },
         {
          "author": "Exp_ECC2",
          "normalized_error": 0.5818992827354978,
          "sample_id": "pfkA"
         },
         {
          "author": "Exp_iML1515",
          "normalized_error": 0.30111654815285693,
          "sample_id": "pfkA"
         },
         {
          "author": "Khodayari",
          "normalized_error": 0.860022725372159,
          "sample_id": "pfkA"
         },
         {
          "author": "Kurata",
          "normalized_error": 0.5733636526409739,
          "sample_id": "pfkA"
         },
         {
          "author": "Millard",
          "normalized_error": 1.0001800217498003,
          "sample_id": "pfkA"
         },
         {
          "author": "iML1515",
          "normalized_error": 0.972686540367134,
          "sample_id": "pfkA"
         },
         {
          "author": "ECC2",
          "normalized_error": 0.6897188260853425,
          "sample_id": "pfkB"
         },
         {
          "author": "Exp_ECC2",
          "normalized_error": 0.5276056022021969,
          "sample_id": "pfkB"
         },
         {
          "author": "Exp_iML1515",
          "normalized_error": 0.36348780211391946,
          "sample_id": "pfkB"
         },
         {
          "author": "Khodayari",
          "normalized_error": 0.8957185153803922,
          "sample_id": "pfkB"
         },
         {
          "author": "Kurata",
          "normalized_error": 0.5089435525961448,
          "sample_id": "pfkB"
         },
         {
          "author": "Millard",
          "normalized_error": 0.9996897106321753,
          "sample_id": "pfkB"
         },
         {
          "author": "iML1515",
          "normalized_error": 0.9935999697643888,
          "sample_id": "pfkB"
         },
         {
          "author": "ECC2",
          "normalized_error": 0.5425912433167559,
          "sample_id": "pgi"
         },
         {
          "author": "Exp_ECC2",
          "normalized_error": 0.3690337439755065,
          "sample_id": "pgi"
         },
         {
          "author": "Exp_iML1515",
          "normalized_error": 0.48113398597825763,
          "sample_id": "pgi"
         },
         {
          "author": "Khodayari",
          "normalized_error": 0.774428991217241,
          "sample_id": "pgi"
         },
         {
          "author": "Kurata",
          "normalized_error": 0.5377521956379365,
          "sample_id": "pgi"
         },
         {
          "author": "Millard",
          "normalized_error": 0.7559627196463703,
          "sample_id": "pgi"
         },
         {
          "author": "iML1515",
          "normalized_error": 1.0033475688172988,
          "sample_id": "pgi"
         },
         {
          "author": "ECC2",
          "normalized_error": 0.4988913337428636,
          "sample_id": "pgl"
         },
         {
          "author": "Exp_ECC2",
          "normalized_error": 0.11989508870198069,
          "sample_id": "pgl"
         },
         {
          "author": "Exp_iML1515",
          "normalized_error": 0.12500751281434586,
          "sample_id": "pgl"
         },
         {
          "author": "Khodayari",
          "normalized_error": 0.8582715747692182,
          "sample_id": "pgl"
         },
         {
          "author": "Kurata",
          "normalized_error": 1.0000005321151348,
          "sample_id": "pgl"
         },
         {
          "author": "Millard",
          "normalized_error": 0.1858187800202747,
          "sample_id": "pgl"
         },
         {
          "author": "iML1515",
          "normalized_error": 0.9416110751640178,
          "sample_id": "pgl"
         },
         {
          "author": "ECC2",
          "normalized_error": 0.5936673103085628,
          "sample_id": "ppsA"
         },
         {
          "author": "Exp_ECC2",
          "normalized_error": 0.16703059552223495,
          "sample_id": "ppsA"
         },
         {
          "author": "Exp_iML1515",
          "normalized_error": 0.13983821236814103,
          "sample_id": "ppsA"
         },
         {
          "author": "Khodayari",
          "normalized_error": 0.9086748427652517,
          "sample_id": "ppsA"
         },
         {
          "author": "Kurata",
          "normalized_error": 0.49388855765828377,
          "sample_id": "ppsA"
         },
         {
          "author": "Millard",
          "normalized_error": 0.1873291473633676,
          "sample_id": "ppsA"
         },
         {
          "author": "iML1515",
          "normalized_error": 0.9465179423578518,
          "sample_id": "ppsA"
         },
         {
          "author": "ECC2",
          "normalized_error": 0.5837431695606551,
          "sample_id": "pykA"
         },
         {
          "author": "Exp_ECC2",
          "normalized_error": 0.23772528571054857,
          "sample_id": "pykA"
         },
         {
          "author": "Exp_iML1515",
          "normalized_error": 0.16048900396147314,
          "sample_id": "pykA"
         },
         {
          "author": "Khodayari",
          "normalized_error": 0.8579214726067208,
          "sample_id": "pykA"
         },
         {
          "author": "Kurata",
          "normalized_error": 0.4064879463120327,
          "sample_id": "pykA"
         },
         {
          "author": "Millard",
          "normalized_error": 0.2923360547790807,
          "sample_id": "pykA"
         },
         {
          "author": "iML1515",
          "normalized_error": 0.9442348730725255,
          "sample_id": "pykA"
         },
         {
          "author": "ECC2",
          "normalized_error": 0.5448792961705244,
          "sample_id": "pykF"
         },
         {
          "author": "Exp_ECC2",
          "normalized_error": 0.339745948781891,
          "sample_id": "pykF"
         },
         {
          "author": "Exp_iML1515",
          "normalized_error": 0.28588913293078083,
          "sample_id": "pykF"
         },
         {
          "author": "Khodayari",
          "normalized_error": 0.8799312130033647,
          "sample_id": "pykF"
         },
         {
          "author": "Kurata",
          "normalized_error": 0.319800713456623,
          "sample_id": "pykF"
         },
         {
          "author": "Millard",
          "normalized_error": 0.28384269179698235,
          "sample_id": "pykF"
         },
         {
          "author": "iML1515",
          "normalized_error": 0.971457556006906,
          "sample_id": "pykF"
         },
         {
          "author": "ECC2",
          "normalized_error": 0.6492392098640574,
          "sample_id": "rpe"
         },
         {
          "author": "Exp_ECC2",
          "normalized_error": 0.2098661035689538,
          "sample_id": "rpe"
         },
         {
          "author": "Exp_iML1515",
          "normalized_error": 0.1856657222742003,
          "sample_id": "rpe"
         },
         {
          "author": "Khodayari",
          "normalized_error": 0.79179478901551,
          "sample_id": "rpe"
         },
         {
          "author": "Kurata",
          "normalized_error": 0.9999986690032099,
          "sample_id": "rpe"
         },
         {
          "author": "Millard",
          "normalized_error": 0.2679820140688718,
          "sample_id": "rpe"
         },
         {
          "author": "iML1515",
          "normalized_error": 0.8819970608198497,
          "sample_id": "rpe"
         },
         {
          "author": "Exp_iML1515",
          "normalized_error": 0.6742300742465588,
          "sample_id": "rpiA"
         },
         {
          "author": "Khodayari",
          "normalized_error": 0.6417771548756629,
          "sample_id": "rpiA"
         },
         {
          "author": "Kurata",
          "normalized_error": 0.4291610868328768,
          "sample_id": "rpiA"
         },
         {
          "author": "Millard",
          "normalized_error": 0.24877423197038304,
          "sample_id": "rpiA"
         },
         {
          "author": "iML1515",
          "normalized_error": 0.9377111060660918,
          "sample_id": "rpiA"
         },
         {
          "author": "Exp_iML1515",
          "normalized_error": 0.7124519133846259,
          "sample_id": "rpiB"
         },
         {
          "author": "Khodayari",
          "normalized_error": 0.6267728058000724,
          "sample_id": "rpiB"
         },
         {
          "author": "Kurata",
          "normalized_error": 0.473736463183064,
          "sample_id": "rpiB"
         },
         {
          "author": "Millard",
          "normalized_error": 0.2656162322988624,
          "sample_id": "rpiB"
         },
         {
          "author": "iML1515",
          "normalized_error": 0.952210267749317,
          "sample_id": "rpiB"
         },
         {
          "author": "ECC2",
          "normalized_error": 0.5565266754649083,
          "sample_id": "talA"
         },
         {
          "author": "Exp_ECC2",
          "normalized_error": 0.11858604012086008,
          "sample_id": "talA"
         },
         {
          "author": "Exp_iML1515",
          "normalized_error": 0.1064327120170791,
          "sample_id": "talA"
         },
         {
          "author": "Khodayari",
          "normalized_error": 0.8748932923466883,
          "sample_id": "talA"
         },
         {
          "author": "Kurata",
          "normalized_error": 0.4766159000083567,
          "sample_id": "talA"
         },
         {
          "author": "iML1515",
          "normalized_error": 0.9404585288477691,
          "sample_id": "talA"
         },
         {
          "author": "Kurata",
          "normalized_error": 0.48563549208927553,
          "sample_id": "talB"
         },
         {
          "author": "ECC2",
          "normalized_error": 0.6789433462595146,
          "sample_id": "tktA"
         },
         {
          "author": "Exp_ECC2",
          "normalized_error": 0.30283969920634574,
          "sample_id": "tktA"
         },
         {
          "author": "Exp_iML1515",
          "normalized_error": 0.26679772737674506,
          "sample_id": "tktA"
         },
         {
          "author": "Khodayari",
          "normalized_error": 0.7730727826987609,
          "sample_id": "tktA"
         },
         {
          "author": "Kurata",
          "normalized_error": 0.5634927253676616,
          "sample_id": "tktA"
         },
         {
          "author": "iML1515",
          "normalized_error": 0.873751974750014,
          "sample_id": "tktA"
         },
         {
          "author": "ECC2",
          "normalized_error": 0.5793488973251179,
          "sample_id": "tktB"
         },
         {
          "author": "Exp_ECC2",
          "normalized_error": 0.14575623950850905,
          "sample_id": "tktB"
         },
         {
          "author": "Exp_iML1515",
          "normalized_error": 0.11818102938250942,
          "sample_id": "tktB"
         },
         {
          "author": "Khodayari",
          "normalized_error": 0.8513839703977264,
          "sample_id": "tktB"
         },
         {
          "author": "Kurata",
          "normalized_error": 0.49804358976829566,
          "sample_id": "tktB"
         },
         {
          "author": "iML1515",
          "normalized_error": 0.9111759680962418,
          "sample_id": "tktB"
         },
         {
          "author": "ECC2",
          "normalized_error": 0.5316667676746469,
          "sample_id": "zwf"
         },
         {
          "author": "Exp_ECC2",
          "normalized_error": 0.14383043467881054,
          "sample_id": "zwf"
         },
         {
          "author": "Exp_iML1515",
          "normalized_error": 0.14164927942769256,
          "sample_id": "zwf"
         },
         {
          "author": "Khodayari",
          "normalized_error": 0.6362824557948393,
          "sample_id": "zwf"
         },
         {
          "author": "Kurata",
          "normalized_error": 0.39982782176462633,
          "sample_id": "zwf"
         },
         {
          "author": "Millard",
          "normalized_error": 0.16084758414644643,
          "sample_id": "zwf"
         },
         {
          "author": "iML1515",
          "normalized_error": 0.8976271391072127,
          "sample_id": "zwf"
         }
        ]
       },
       "encoding": {
        "color": {
         "condition": {
          "field": "author",
          "selection": "selector020",
          "sort": [
           "Khodayari",
           "Kurata",
           "Millard",
           "iML1515",
           "Ec_core",
           "ECC2",
           "Exp_ECC2"
          ],
          "type": "nominal"
         },
         "value": "lightgray"
        },
        "size": {
         "condition": {
          "selection": "selector020",
          "value": 100
         },
         "value": 40
        },
        "tooltip": [
         {
          "field": "author",
          "type": "nominal"
         },
         {
          "field": "sample_id",
          "type": "nominal"
         },
         {
          "field": "normalized_error",
          "type": "quantitative"
         }
        ],
        "x": {
         "field": "author",
         "sort": [
          "Khodayari",
          "Kurata",
          "Millard",
          "iML1515"
         ],
         "type": "nominal"
        },
        "y": {
         "field": "normalized_error",
         "title": "Normalized error",
         "type": "quantitative"
        }
       },
       "height": 500,
       "mark": "circle",
       "selection": {
        "selector020": {
         "empty": "all",
         "fields": [
          "sample_id"
         ],
         "on": "click",
         "resolve": "global",
         "type": "single"
        }
       },
       "title": "Normalized error knockout simulations",
       "width": 600
      },
      "image/png": "[encoded data removed]",
      "text/plain": [
       "<VegaLite 2 object>\n",
       "\n",
       "If you see this message, it means the renderer has not been properly enabled\n",
       "for the frontend that you are using. For more information, see\n",
       "https://altair-viz.github.io/user_guide/troubleshooting.html\n"
      ]
     },
     "execution_count": 286,
     "metadata": {},
     "output_type": "execute_result"
    }
   ],
   "source": [
    "selector = alt.selection_single(empty=\"all\", fields=[\"sample_id\"])\n",
    "color = alt.condition(\n",
    "    selector,\n",
    "    alt.Color(\n",
    "        \"author:N\",\n",
    "        sort=[\n",
    "            \"Khodayari\",\n",
    "            \"Kurata\",\n",
    "            \"Millard\",\n",
    "            \"iML1515\",\n",
    "            \"Ec_core\",\n",
    "            \"ECC2\",\n",
    "            \"Exp_ECC2\",\n",
    "        ],\n",
    "    ),\n",
    "    alt.value(\"lightgray\"),\n",
    ")\n",
    "size = alt.condition(selector, alt.SizeValue(100), alt.SizeValue(40))\n",
    "\n",
    "\n",
    "# put errors for each dataset as datapoints\n",
    "errors = (\n",
    "    alt.Chart(\n",
    "        normalized_errors.query(\"author != 'Ishii' and author != 'Ec_core'\"),\n",
    "        title=\"Normalized error knockout simulations\",\n",
    "    )\n",
    "    .mark_circle()\n",
    "    .encode(\n",
    "        y=alt.Y(\"normalized_error\", title=\"Normalized error\"),\n",
    "        color=color,\n",
    "        tooltip=[\"author\", \"sample_id\", \"normalized_error\"],\n",
    "        x=alt.X(\"author\", sort=[\"Khodayari\", \"Kurata\", \"Millard\", \"iML1515\"]),\n",
    "        size=size,\n",
    "    )\n",
    "    .add_selection(selector)\n",
    ")\n",
    "\n",
    "\n",
    "(errors).properties(width=600, height=500).configure_axis(\n",
    "    labelFontSize=20, titleFontSize=24\n",
    ").configure_legend(labelFontSize=16, titleFontSize=20)"
   ]
  },
  {
   "cell_type": "code",
   "execution_count": 291,
   "metadata": {},
   "outputs": [
    {
     "data": {
      "application/vnd.vegalite.v2+json": {
       "$schema": "https://vega.github.io/schema/vega-lite/v2.6.0.json",
       "config": {
        "invalidValues": null,
        "view": {
         "height": 300,
         "width": 400
        }
       },
       "data": {
        "name": "data-d75cac6d62f1fc613d1f2c45ca8a1408"
       },
       "datasets": {
        "data-d75cac6d62f1fc613d1f2c45ca8a1408": [
         {
          "author": "ECC2",
          "normalized_error": 0.5876720845612964,
          "sample_id": "WT"
         },
         {
          "author": "Exp_ECC2",
          "normalized_error": 0.060242918317285066,
          "sample_id": "WT"
         },
         {
          "author": "Exp_iML1515",
          "normalized_error": 0.07112087539571854,
          "sample_id": "WT"
         },
         {
          "author": "Khodayari",
          "normalized_error": 0.8443462266627335,
          "sample_id": "WT"
         },
         {
          "author": "Kurata",
          "normalized_error": 0.4290517614624855,
          "sample_id": "WT"
         },
         {
          "author": "Millard",
          "normalized_error": 0.07581158695388648,
          "sample_id": "WT"
         },
         {
          "author": "iML1515",
          "normalized_error": 0.9388092511393986,
          "sample_id": "WT"
         },
         {
          "author": "ECC2",
          "normalized_error": 0.7233177182826556,
          "sample_id": "fbaB"
         },
         {
          "author": "Exp_ECC2",
          "normalized_error": 0.5571678503581048,
          "sample_id": "fbaB"
         },
         {
          "author": "Exp_iML1515",
          "normalized_error": 0.30623175453347923,
          "sample_id": "fbaB"
         },
         {
          "author": "Khodayari",
          "normalized_error": 0.893837064343031,
          "sample_id": "fbaB"
         },
         {
          "author": "Kurata",
          "normalized_error": 0.4103629941322574,
          "sample_id": "fbaB"
         },
         {
          "author": "Millard",
          "normalized_error": 0.9975191270452003,
          "sample_id": "fbaB"
         },
         {
          "author": "iML1515",
          "normalized_error": 0.9801726989494459,
          "sample_id": "fbaB"
         },
         {
          "author": "ECC2",
          "normalized_error": 0.5899630172105623,
          "sample_id": "fbp"
         },
         {
          "author": "Exp_ECC2",
          "normalized_error": 0.11081836730195123,
          "sample_id": "fbp"
         },
         {
          "author": "Exp_iML1515",
          "normalized_error": 0.1372516971586148,
          "sample_id": "fbp"
         },
         {
          "author": "Khodayari",
          "normalized_error": 0.8452643841782691,
          "sample_id": "fbp"
         },
         {
          "author": "Kurata",
          "normalized_error": 0.40847615723203634,
          "sample_id": "fbp"
         },
         {
          "author": "Millard",
          "normalized_error": 0.09381200836540193,
          "sample_id": "fbp"
         },
         {
          "author": "iML1515",
          "normalized_error": 0.9364236389396656,
          "sample_id": "fbp"
         },
         {
          "author": "ECC2",
          "normalized_error": 0.6259450844705894,
          "sample_id": "gnd"
         },
         {
          "author": "Exp_ECC2",
          "normalized_error": 0.1970213381672891,
          "sample_id": "gnd"
         },
         {
          "author": "Exp_iML1515",
          "normalized_error": 0.15696932069740452,
          "sample_id": "gnd"
         },
         {
          "author": "Khodayari",
          "normalized_error": 0.6862230084017967,
          "sample_id": "gnd"
         },
         {
          "author": "Kurata",
          "normalized_error": 0.8561562149564127,
          "sample_id": "gnd"
         },
         {
          "author": "Millard",
          "normalized_error": 0.21294864452957682,
          "sample_id": "gnd"
         },
         {
          "author": "iML1515",
          "normalized_error": 0.8749727662227617,
          "sample_id": "gnd"
         },
         {
          "author": "ECC2",
          "normalized_error": 0.9192326897941696,
          "sample_id": "gpmA"
         },
         {
          "author": "Exp_ECC2",
          "normalized_error": 0.9138084713123595,
          "sample_id": "gpmA"
         },
         {
          "author": "Exp_iML1515",
          "normalized_error": 0.44393043772560487,
          "sample_id": "gpmA"
         },
         {
          "author": "Khodayari",
          "normalized_error": null,
          "sample_id": "gpmA"
         },
         {
          "author": "Kurata",
          "normalized_error": 0.9999998010720133,
          "sample_id": "gpmA"
         },
         {
          "author": "Millard",
          "normalized_error": null,
          "sample_id": "gpmA"
         },
         {
          "author": "iML1515",
          "normalized_error": null,
          "sample_id": "gpmA"
         },
         {
          "author": "ECC2",
          "normalized_error": null,
          "sample_id": "gpmB"
         },
         {
          "author": "Exp_ECC2",
          "normalized_error": null,
          "sample_id": "gpmB"
         },
         {
          "author": "Exp_iML1515",
          "normalized_error": null,
          "sample_id": "gpmB"
         },
         {
          "author": "Khodayari",
          "normalized_error": null,
          "sample_id": "gpmB"
         },
         {
          "author": "Kurata",
          "normalized_error": null,
          "sample_id": "gpmB"
         },
         {
          "author": "Millard",
          "normalized_error": null,
          "sample_id": "gpmB"
         },
         {
          "author": "iML1515",
          "normalized_error": null,
          "sample_id": "gpmB"
         },
         {
          "author": "ECC2",
          "normalized_error": 0.7426841498010143,
          "sample_id": "pfkA"
         },
         {
          "author": "Exp_ECC2",
          "normalized_error": 0.5818992827354977,
          "sample_id": "pfkA"
         },
         {
          "author": "Exp_iML1515",
          "normalized_error": 0.30111654815285693,
          "sample_id": "pfkA"
         },
         {
          "author": "Khodayari",
          "normalized_error": 0.860022725372159,
          "sample_id": "pfkA"
         },
         {
          "author": "Kurata",
          "normalized_error": 0.5733636526409739,
          "sample_id": "pfkA"
         },
         {
          "author": "Millard",
          "normalized_error": 1.0001800217498003,
          "sample_id": "pfkA"
         },
         {
          "author": "iML1515",
          "normalized_error": 0.972686540367134,
          "sample_id": "pfkA"
         },
         {
          "author": "ECC2",
          "normalized_error": 0.6897188260853425,
          "sample_id": "pfkB"
         },
         {
          "author": "Exp_ECC2",
          "normalized_error": 0.5276056022021969,
          "sample_id": "pfkB"
         },
         {
          "author": "Exp_iML1515",
          "normalized_error": 0.36348780211391946,
          "sample_id": "pfkB"
         },
         {
          "author": "Khodayari",
          "normalized_error": 0.8957185153803924,
          "sample_id": "pfkB"
         },
         {
          "author": "Kurata",
          "normalized_error": 0.5089435525961448,
          "sample_id": "pfkB"
         },
         {
          "author": "Millard",
          "normalized_error": 0.999689710632175,
          "sample_id": "pfkB"
         },
         {
          "author": "iML1515",
          "normalized_error": 0.9935999697643888,
          "sample_id": "pfkB"
         },
         {
          "author": "ECC2",
          "normalized_error": 0.5425912433167559,
          "sample_id": "pgi"
         },
         {
          "author": "Exp_ECC2",
          "normalized_error": 0.3690337439755065,
          "sample_id": "pgi"
         },
         {
          "author": "Exp_iML1515",
          "normalized_error": 0.48113398597825763,
          "sample_id": "pgi"
         },
         {
          "author": "Khodayari",
          "normalized_error": 0.774428991217241,
          "sample_id": "pgi"
         },
         {
          "author": "Kurata",
          "normalized_error": 0.5377521956379365,
          "sample_id": "pgi"
         },
         {
          "author": "Millard",
          "normalized_error": 0.7559627196463702,
          "sample_id": "pgi"
         },
         {
          "author": "iML1515",
          "normalized_error": 1.0033475688172988,
          "sample_id": "pgi"
         },
         {
          "author": "ECC2",
          "normalized_error": 0.49889133374286365,
          "sample_id": "pgl"
         },
         {
          "author": "Exp_ECC2",
          "normalized_error": 0.11989508870198069,
          "sample_id": "pgl"
         },
         {
          "author": "Exp_iML1515",
          "normalized_error": 0.12500751281434586,
          "sample_id": "pgl"
         },
         {
          "author": "Khodayari",
          "normalized_error": 0.8582715747692183,
          "sample_id": "pgl"
         },
         {
          "author": "Kurata",
          "normalized_error": 1.0000005321151348,
          "sample_id": "pgl"
         },
         {
          "author": "Millard",
          "normalized_error": 0.1858187800202747,
          "sample_id": "pgl"
         },
         {
          "author": "iML1515",
          "normalized_error": 0.9416110751640178,
          "sample_id": "pgl"
         },
         {
          "author": "ECC2",
          "normalized_error": null,
          "sample_id": "pgm"
         },
         {
          "author": "Exp_ECC2",
          "normalized_error": null,
          "sample_id": "pgm"
         },
         {
          "author": "Exp_iML1515",
          "normalized_error": null,
          "sample_id": "pgm"
         },
         {
          "author": "Khodayari",
          "normalized_error": null,
          "sample_id": "pgm"
         },
         {
          "author": "Kurata",
          "normalized_error": null,
          "sample_id": "pgm"
         },
         {
          "author": "Millard",
          "normalized_error": null,
          "sample_id": "pgm"
         },
         {
          "author": "iML1515",
          "normalized_error": null,
          "sample_id": "pgm"
         },
         {
          "author": "ECC2",
          "normalized_error": 0.5936673103085628,
          "sample_id": "ppsA"
         },
         {
          "author": "Exp_ECC2",
          "normalized_error": 0.16703059552223495,
          "sample_id": "ppsA"
         },
         {
          "author": "Exp_iML1515",
          "normalized_error": 0.13983821236814103,
          "sample_id": "ppsA"
         },
         {
          "author": "Khodayari",
          "normalized_error": 0.9086748427652517,
          "sample_id": "ppsA"
         },
         {
          "author": "Kurata",
          "normalized_error": 0.49388855765828366,
          "sample_id": "ppsA"
         },
         {
          "author": "Millard",
          "normalized_error": 0.18732914736336762,
          "sample_id": "ppsA"
         },
         {
          "author": "iML1515",
          "normalized_error": 0.9465179423578518,
          "sample_id": "ppsA"
         },
         {
          "author": "ECC2",
          "normalized_error": 0.5837431695606551,
          "sample_id": "pykA"
         },
         {
          "author": "Exp_ECC2",
          "normalized_error": 0.23772528571054857,
          "sample_id": "pykA"
         },
         {
          "author": "Exp_iML1515",
          "normalized_error": 0.16048900396147314,
          "sample_id": "pykA"
         },
         {
          "author": "Khodayari",
          "normalized_error": 0.8579214726067208,
          "sample_id": "pykA"
         },
         {
          "author": "Kurata",
          "normalized_error": 0.4064879463120327,
          "sample_id": "pykA"
         },
         {
          "author": "Millard",
          "normalized_error": 0.29233605477908076,
          "sample_id": "pykA"
         },
         {
          "author": "iML1515",
          "normalized_error": 0.9442348730725255,
          "sample_id": "pykA"
         },
         {
          "author": "ECC2",
          "normalized_error": 0.5448792961705244,
          "sample_id": "pykF"
         },
         {
          "author": "Exp_ECC2",
          "normalized_error": 0.339745948781891,
          "sample_id": "pykF"
         },
         {
          "author": "Exp_iML1515",
          "normalized_error": 0.28588913293078083,
          "sample_id": "pykF"
         },
         {
          "author": "Khodayari",
          "normalized_error": 0.8799312130033647,
          "sample_id": "pykF"
         },
         {
          "author": "Kurata",
          "normalized_error": 0.319800713456623,
          "sample_id": "pykF"
         },
         {
          "author": "Millard",
          "normalized_error": 0.28384269179698235,
          "sample_id": "pykF"
         },
         {
          "author": "iML1515",
          "normalized_error": 0.971457556006906,
          "sample_id": "pykF"
         },
         {
          "author": "ECC2",
          "normalized_error": 0.6492392098640574,
          "sample_id": "rpe"
         },
         {
          "author": "Exp_ECC2",
          "normalized_error": 0.2098661035689538,
          "sample_id": "rpe"
         },
         {
          "author": "Exp_iML1515",
          "normalized_error": 0.1856657222742003,
          "sample_id": "rpe"
         },
         {
          "author": "Khodayari",
          "normalized_error": 0.7917947890155099,
          "sample_id": "rpe"
         },
         {
          "author": "Kurata",
          "normalized_error": 0.9999986690032099,
          "sample_id": "rpe"
         },
         {
          "author": "Millard",
          "normalized_error": 0.2679820140688718,
          "sample_id": "rpe"
         },
         {
          "author": "iML1515",
          "normalized_error": 0.8819970608198499,
          "sample_id": "rpe"
         },
         {
          "author": "ECC2",
          "normalized_error": null,
          "sample_id": "rpiA"
         },
         {
          "author": "Exp_ECC2",
          "normalized_error": null,
          "sample_id": "rpiA"
         },
         {
          "author": "Exp_iML1515",
          "normalized_error": 0.6742300742465588,
          "sample_id": "rpiA"
         },
         {
          "author": "Khodayari",
          "normalized_error": 0.641777154875663,
          "sample_id": "rpiA"
         },
         {
          "author": "Kurata",
          "normalized_error": 0.4291610868328768,
          "sample_id": "rpiA"
         },
         {
          "author": "Millard",
          "normalized_error": 0.24877423197038304,
          "sample_id": "rpiA"
         },
         {
          "author": "iML1515",
          "normalized_error": 0.9377111060660918,
          "sample_id": "rpiA"
         },
         {
          "author": "ECC2",
          "normalized_error": null,
          "sample_id": "rpiB"
         },
         {
          "author": "Exp_ECC2",
          "normalized_error": null,
          "sample_id": "rpiB"
         },
         {
          "author": "Exp_iML1515",
          "normalized_error": 0.7124519133846259,
          "sample_id": "rpiB"
         },
         {
          "author": "Khodayari",
          "normalized_error": 0.6267728058000724,
          "sample_id": "rpiB"
         },
         {
          "author": "Kurata",
          "normalized_error": 0.4737364631830639,
          "sample_id": "rpiB"
         },
         {
          "author": "Millard",
          "normalized_error": 0.2656162322988624,
          "sample_id": "rpiB"
         },
         {
          "author": "iML1515",
          "normalized_error": 0.952210267749317,
          "sample_id": "rpiB"
         },
         {
          "author": "ECC2",
          "normalized_error": 0.5565266754649083,
          "sample_id": "talA"
         },
         {
          "author": "Exp_ECC2",
          "normalized_error": 0.11858604012086008,
          "sample_id": "talA"
         },
         {
          "author": "Exp_iML1515",
          "normalized_error": 0.1064327120170791,
          "sample_id": "talA"
         },
         {
          "author": "Khodayari",
          "normalized_error": 0.8748932923466883,
          "sample_id": "talA"
         },
         {
          "author": "Kurata",
          "normalized_error": 0.4766159000083567,
          "sample_id": "talA"
         },
         {
          "author": "Millard",
          "normalized_error": null,
          "sample_id": "talA"
         },
         {
          "author": "iML1515",
          "normalized_error": 0.9404585288477691,
          "sample_id": "talA"
         },
         {
          "author": "ECC2",
          "normalized_error": null,
          "sample_id": "talB"
         },
         {
          "author": "Exp_ECC2",
          "normalized_error": null,
          "sample_id": "talB"
         },
         {
          "author": "Exp_iML1515",
          "normalized_error": null,
          "sample_id": "talB"
         },
         {
          "author": "Khodayari",
          "normalized_error": null,
          "sample_id": "talB"
         },
         {
          "author": "Kurata",
          "normalized_error": 0.48563549208927553,
          "sample_id": "talB"
         },
         {
          "author": "Millard",
          "normalized_error": null,
          "sample_id": "talB"
         },
         {
          "author": "iML1515",
          "normalized_error": null,
          "sample_id": "talB"
         },
         {
          "author": "ECC2",
          "normalized_error": 0.6789433462595147,
          "sample_id": "tktA"
         },
         {
          "author": "Exp_ECC2",
          "normalized_error": 0.30283969920634574,
          "sample_id": "tktA"
         },
         {
          "author": "Exp_iML1515",
          "normalized_error": 0.26679772737674506,
          "sample_id": "tktA"
         },
         {
          "author": "Khodayari",
          "normalized_error": 0.7730727826987609,
          "sample_id": "tktA"
         },
         {
          "author": "Kurata",
          "normalized_error": 0.5634927253676616,
          "sample_id": "tktA"
         },
         {
          "author": "Millard",
          "normalized_error": null,
          "sample_id": "tktA"
         },
         {
          "author": "iML1515",
          "normalized_error": 0.873751974750014,
          "sample_id": "tktA"
         },
         {
          "author": "ECC2",
          "normalized_error": 0.5793488973251179,
          "sample_id": "tktB"
         },
         {
          "author": "Exp_ECC2",
          "normalized_error": 0.14575623950850902,
          "sample_id": "tktB"
         },
         {
          "author": "Exp_iML1515",
          "normalized_error": 0.11818102938250942,
          "sample_id": "tktB"
         },
         {
          "author": "Khodayari",
          "normalized_error": 0.8513839703977266,
          "sample_id": "tktB"
         },
         {
          "author": "Kurata",
          "normalized_error": 0.49804358976829566,
          "sample_id": "tktB"
         },
         {
          "author": "Millard",
          "normalized_error": null,
          "sample_id": "tktB"
         },
         {
          "author": "iML1515",
          "normalized_error": 0.9111759680962417,
          "sample_id": "tktB"
         },
         {
          "author": "ECC2",
          "normalized_error": 0.5316667676746469,
          "sample_id": "zwf"
         },
         {
          "author": "Exp_ECC2",
          "normalized_error": 0.14383043467881054,
          "sample_id": "zwf"
         },
         {
          "author": "Exp_iML1515",
          "normalized_error": 0.14164927942769256,
          "sample_id": "zwf"
         },
         {
          "author": "Khodayari",
          "normalized_error": 0.6362824557948393,
          "sample_id": "zwf"
         },
         {
          "author": "Kurata",
          "normalized_error": 0.39982782176462633,
          "sample_id": "zwf"
         },
         {
          "author": "Millard",
          "normalized_error": 0.16084758414644643,
          "sample_id": "zwf"
         },
         {
          "author": "iML1515",
          "normalized_error": 0.8976271391072127,
          "sample_id": "zwf"
         }
        ]
       },
       "encoding": {
        "color": {
         "condition": {
          "field": "author",
          "selection": "selector025",
          "sort": [
           "Khodayari",
           "Kurata",
           "Millard",
           "iML1515",
           "Ec_core",
           "ECC2",
           "Exp_ECC2"
          ],
          "type": "nominal"
         },
         "value": "lightgray"
        },
        "opacity": {
         "condition": {
          "selection": "selector025",
          "value": "0.3"
         },
         "value": "1.0"
        },
        "size": {
         "condition": {
          "selection": "selector025",
          "value": 100
         },
         "value": 40
        },
        "tooltip": [
         {
          "field": "author",
          "type": "nominal"
         },
         {
          "field": "sample_id",
          "type": "nominal"
         },
         {
          "field": "normalized_error",
          "type": "quantitative"
         }
        ],
        "x": {
         "field": "author",
         "sort": [
          "Khodayari",
          "Kurata",
          "Millard",
          "iML1515"
         ],
         "type": "nominal"
        },
        "y": {
         "field": "normalized_error",
         "title": "Normalized error",
         "type": "quantitative"
        }
       },
       "height": 600,
       "mark": "circle",
       "selection": {
        "selector025": {
         "empty": "all",
         "fields": [
          "sample_id"
         ],
         "on": "click",
         "resolve": "global",
         "type": "single"
        }
       },
       "title": "Normalized error knockout simulations",
       "transform": [
        {
         "filter": "datum.normalized_error !== null"
        }
       ],
       "width": 700
      },
      "image/png": "[encoded data removed]",
      "text/plain": [
       "<VegaLite 2 object>\n",
       "\n",
       "If you see this message, it means the renderer has not been properly enabled\n",
       "for the frontend that you are using. For more information, see\n",
       "https://altair-viz.github.io/user_guide/troubleshooting.html\n"
      ]
     },
     "execution_count": 291,
     "metadata": {},
     "output_type": "execute_result"
    }
   ],
   "source": [
    "selector = alt.selection_single(empty=\"all\", fields=[\"sample_id\"])\n",
    "color = alt.condition(\n",
    "    selector,\n",
    "    alt.Color(\n",
    "        \"author:N\",\n",
    "        sort=[\n",
    "            \"Khodayari\",\n",
    "            \"Kurata\",\n",
    "            \"Millard\",\n",
    "            \"iML1515\",\n",
    "            \"Ec_core\",\n",
    "            \"ECC2\",\n",
    "            \"Exp_ECC2\",\n",
    "        ],\n",
    "    ),\n",
    "    alt.value(\"lightgray\"),\n",
    ")\n",
    "\n",
    "opacity = alt.condition(\n",
    "    selector,\n",
    "    alt.value(\"0.3\"),\n",
    "    alt.value(\"1.0\"),\n",
    ")\n",
    "\n",
    "size = alt.condition(selector, alt.SizeValue(100), alt.SizeValue(40))\n",
    "\n",
    "\n",
    "base = (\n",
    "    alt.Chart(\n",
    "        x_norm_error.to_dataframe().reset_index().query(\"author != 'Ishii' and author != 'Ec_core'\"),\n",
    "        title=\"Normalized error knockout simulations\",\n",
    "    )\n",
    "    .mark_circle()\n",
    "    .encode(\n",
    "        y=alt.Y(\"normalized_error\", title=\"Normalized error\"),\n",
    "        tooltip=[\"author\", \"sample_id\", \"normalized_error\"],\n",
    "        x=alt.X(\"author\", sort=[\"Khodayari\", \"Kurata\", \"Millard\", \"iML1515\"]),\n",
    "        size=size,\n",
    "        opacity = opacity\n",
    "    )\n",
    ")\n",
    "\n",
    "errors = base.encode(color=color).add_selection(selector).transform_filter(\"datum.normalized_error !== null\")\n",
    "\n",
    "#na_vals = base.encode(color=alt.value(\"lightgrey\")).transform_filter(\"datum.normalized_error === null\")\n",
    "\n",
    "\n",
    "(errors).properties(width=700, height=600).configure_axis(\n",
    "    labelFontSize=24, titleFontSize=24\n",
    ").configure_legend(labelFontSize=16, titleFontSize=20).configure(invalidValues=None)"
   ]
  },
  {
   "cell_type": "code",
   "execution_count": 293,
   "metadata": {},
   "outputs": [],
   "source": [
    "def heatmap(xdf, author=None, sample_id=None):\n",
    "    data = xdf.to_dataframe().reset_index()\n",
    "    if sample_id:\n",
    "        data = data.query(f\"sample_id == '{sample_id}'\")\n",
    "        title = f\"Heatmap for sample_id {sample_id}\"\n",
    "    else:\n",
    "        data = data.query(f\"author == '{author}'\")\n",
    "        title = f\"Heatmap for author {author}\"\n",
    "\n",
    "    base = (\n",
    "        alt.Chart(data, title=title)\n",
    "        .mark_rect()\n",
    "        .encode(\n",
    "            y=alt.Y(\"BiGG_ID:N\"),\n",
    "            color=alt.condition(\n",
    "                \"datum.relative_error === null\",\n",
    "                alt.value(\"lightgrey\"),\n",
    "                alt.Color(\n",
    "                    \"relative_error\",\n",
    "                    scale=alt.Scale(\n",
    "                        domain=[0, 50, 75, 100, 200, 300], scheme=\"greenblue\"\n",
    "                    ),\n",
    "                ),\n",
    "            ),\n",
    "            tooltip=[\"sample_id\", \"BiGG_ID\", \"relative_error\"],\n",
    "        )\n",
    "    )\n",
    "    if sample_id:\n",
    "        chart = base.encode(x=alt.X(\"author:N\"))\n",
    "    else:\n",
    "        chart = base.encode(x=alt.X(\"sample_id:N\"))\n",
    "\n",
    "    return chart.configure(invalidValues=None)"
   ]
  },
  {
   "cell_type": "code",
   "execution_count": 295,
   "metadata": {},
   "outputs": [
    {
     "data": {
      "application/vnd.vegalite.v2+json": {
       "$schema": "https://vega.github.io/schema/vega-lite/v2.6.0.json",
       "config": {
        "invalidValues": null,
        "view": {
         "height": 300,
         "width": 400
        }
       },
       "data": {
        "name": "data-97fcd72c77bb4f3fa5e06eb6392146e9"
       },
       "datasets": {
        "data-97fcd72c77bb4f3fa5e06eb6392146e9": [
         {
          "BiGG_ID": "AKGDH",
          "author": "ECC2",
          "relative_error": null,
          "sample_id": "gpmA"
         },
         {
          "BiGG_ID": "CS",
          "author": "ECC2",
          "relative_error": 1019.9874686716792,
          "sample_id": "gpmA"
         },
         {
          "BiGG_ID": "EDA",
          "author": "ECC2",
          "relative_error": 100,
          "sample_id": "gpmA"
         },
         {
          "BiGG_ID": "FBA",
          "author": "ECC2",
          "relative_error": 83.78519614280023,
          "sample_id": "gpmA"
         },
         {
          "BiGG_ID": "FUM",
          "author": "ECC2",
          "relative_error": 16.743280607509202,
          "sample_id": "gpmA"
         },
         {
          "BiGG_ID": "G6PDH2r",
          "author": "ECC2",
          "relative_error": 73.8170117964821,
          "sample_id": "gpmA"
         },
         {
          "BiGG_ID": "GAPD",
          "author": "ECC2",
          "relative_error": 1407.1909602858004,
          "sample_id": "gpmA"
         },
         {
          "BiGG_ID": "GLCptspp",
          "author": "ECC2",
          "relative_error": 0,
          "sample_id": "gpmA"
         },
         {
          "BiGG_ID": "GND",
          "author": "ECC2",
          "relative_error": 22.06792807354804,
          "sample_id": "gpmA"
         },
         {
          "BiGG_ID": "ICDHyr",
          "author": "ECC2",
          "relative_error": 921.9885651629072,
          "sample_id": "gpmA"
         },
         {
          "BiGG_ID": "ICL",
          "author": "ECC2",
          "relative_error": null,
          "sample_id": "gpmA"
         },
         {
          "BiGG_ID": "MALS",
          "author": "ECC2",
          "relative_error": null,
          "sample_id": "gpmA"
         },
         {
          "BiGG_ID": "MDH",
          "author": "ECC2",
          "relative_error": 28.093321777683705,
          "sample_id": "gpmA"
         },
         {
          "BiGG_ID": "PDH",
          "author": "ECC2",
          "relative_error": 15.707820241686033,
          "sample_id": "gpmA"
         },
         {
          "BiGG_ID": "PGI",
          "author": "ECC2",
          "relative_error": 113.4135852323998,
          "sample_id": "gpmA"
         },
         {
          "BiGG_ID": "PGM",
          "author": "ECC2",
          "relative_error": null,
          "sample_id": "gpmA"
         },
         {
          "BiGG_ID": "PPC",
          "author": "ECC2",
          "relative_error": null,
          "sample_id": "gpmA"
         },
         {
          "BiGG_ID": "PTAr",
          "author": "ECC2",
          "relative_error": 100,
          "sample_id": "gpmA"
         },
         {
          "BiGG_ID": "PYK",
          "author": "ECC2",
          "relative_error": null,
          "sample_id": "gpmA"
         },
         {
          "BiGG_ID": "RPE",
          "author": "ECC2",
          "relative_error": 41.382361967473024,
          "sample_id": "gpmA"
         },
         {
          "BiGG_ID": "RPI",
          "author": "ECC2",
          "relative_error": 193.72540639079995,
          "sample_id": "gpmA"
         },
         {
          "BiGG_ID": "SUCDi",
          "author": "ECC2",
          "relative_error": 26.387266749156257,
          "sample_id": "gpmA"
         },
         {
          "BiGG_ID": "TALA",
          "author": "ECC2",
          "relative_error": 27.688844186323514,
          "sample_id": "gpmA"
         },
         {
          "BiGG_ID": "TKT1",
          "author": "ECC2",
          "relative_error": 27.688844186323514,
          "sample_id": "gpmA"
         },
         {
          "BiGG_ID": "TPI",
          "author": "ECC2",
          "relative_error": 208.42639454633397,
          "sample_id": "gpmA"
         },
         {
          "BiGG_ID": "AKGDH",
          "author": "Ec_core",
          "relative_error": null,
          "sample_id": "gpmA"
         },
         {
          "BiGG_ID": "CS",
          "author": "Ec_core",
          "relative_error": null,
          "sample_id": "gpmA"
         },
         {
          "BiGG_ID": "EDA",
          "author": "Ec_core",
          "relative_error": null,
          "sample_id": "gpmA"
         },
         {
          "BiGG_ID": "FBA",
          "author": "Ec_core",
          "relative_error": null,
          "sample_id": "gpmA"
         },
         {
          "BiGG_ID": "FUM",
          "author": "Ec_core",
          "relative_error": null,
          "sample_id": "gpmA"
         },
         {
          "BiGG_ID": "G6PDH2r",
          "author": "Ec_core",
          "relative_error": null,
          "sample_id": "gpmA"
         },
         {
          "BiGG_ID": "GAPD",
          "author": "Ec_core",
          "relative_error": null,
          "sample_id": "gpmA"
         },
         {
          "BiGG_ID": "GLCptspp",
          "author": "Ec_core",
          "relative_error": null,
          "sample_id": "gpmA"
         },
         {
          "BiGG_ID": "GND",
          "author": "Ec_core",
          "relative_error": null,
          "sample_id": "gpmA"
         },
         {
          "BiGG_ID": "ICDHyr",
          "author": "Ec_core",
          "relative_error": null,
          "sample_id": "gpmA"
         },
         {
          "BiGG_ID": "ICL",
          "author": "Ec_core",
          "relative_error": null,
          "sample_id": "gpmA"
         },
         {
          "BiGG_ID": "MALS",
          "author": "Ec_core",
          "relative_error": null,
          "sample_id": "gpmA"
         },
         {
          "BiGG_ID": "MDH",
          "author": "Ec_core",
          "relative_error": null,
          "sample_id": "gpmA"
         },
         {
          "BiGG_ID": "PDH",
          "author": "Ec_core",
          "relative_error": null,
          "sample_id": "gpmA"
         },
         {
          "BiGG_ID": "PGI",
          "author": "Ec_core",
          "relative_error": null,
          "sample_id": "gpmA"
         },
         {
          "BiGG_ID": "PGM",
          "author": "Ec_core",
          "relative_error": null,
          "sample_id": "gpmA"
         },
         {
          "BiGG_ID": "PPC",
          "author": "Ec_core",
          "relative_error": null,
          "sample_id": "gpmA"
         },
         {
          "BiGG_ID": "PTAr",
          "author": "Ec_core",
          "relative_error": null,
          "sample_id": "gpmA"
         },
         {
          "BiGG_ID": "PYK",
          "author": "Ec_core",
          "relative_error": null,
          "sample_id": "gpmA"
         },
         {
          "BiGG_ID": "RPE",
          "author": "Ec_core",
          "relative_error": null,
          "sample_id": "gpmA"
         },
         {
          "BiGG_ID": "RPI",
          "author": "Ec_core",
          "relative_error": null,
          "sample_id": "gpmA"
         },
         {
          "BiGG_ID": "SUCDi",
          "author": "Ec_core",
          "relative_error": null,
          "sample_id": "gpmA"
         },
         {
          "BiGG_ID": "TALA",
          "author": "Ec_core",
          "relative_error": null,
          "sample_id": "gpmA"
         },
         {
          "BiGG_ID": "TKT1",
          "author": "Ec_core",
          "relative_error": null,
          "sample_id": "gpmA"
         },
         {
          "BiGG_ID": "TPI",
          "author": "Ec_core",
          "relative_error": null,
          "sample_id": "gpmA"
         },
         {
          "BiGG_ID": "AKGDH",
          "author": "Exp_ECC2",
          "relative_error": 12.556050502640502,
          "sample_id": "gpmA"
         },
         {
          "BiGG_ID": "CS",
          "author": "Exp_ECC2",
          "relative_error": 1.2388310959554234,
          "sample_id": "gpmA"
         },
         {
          "BiGG_ID": "EDA",
          "author": "Exp_ECC2",
          "relative_error": 100,
          "sample_id": "gpmA"
         },
         {
          "BiGG_ID": "FBA",
          "author": "Exp_ECC2",
          "relative_error": null,
          "sample_id": "gpmA"
         },
         {
          "BiGG_ID": "FUM",
          "author": "Exp_ECC2",
          "relative_error": 13.723465943561596,
          "sample_id": "gpmA"
         },
         {
          "BiGG_ID": "G6PDH2r",
          "author": "Exp_ECC2",
          "relative_error": 84.39795652235553,
          "sample_id": "gpmA"
         },
         {
          "BiGG_ID": "GAPD",
          "author": "Exp_ECC2",
          "relative_error": 1407.1909602858004,
          "sample_id": "gpmA"
         },
         {
          "BiGG_ID": "GLCptspp",
          "author": "Exp_ECC2",
          "relative_error": 0,
          "sample_id": "gpmA"
         },
         {
          "BiGG_ID": "GND",
          "author": "Exp_ECC2",
          "relative_error": 27.964205816554777,
          "sample_id": "gpmA"
         },
         {
          "BiGG_ID": "ICDHyr",
          "author": "Exp_ECC2",
          "relative_error": 14.056268779022119,
          "sample_id": "gpmA"
         },
         {
          "BiGG_ID": "ICL",
          "author": "Exp_ECC2",
          "relative_error": 58.82352941176466,
          "sample_id": "gpmA"
         },
         {
          "BiGG_ID": "MALS",
          "author": "Exp_ECC2",
          "relative_error": 58.82352941176466,
          "sample_id": "gpmA"
         },
         {
          "BiGG_ID": "MDH",
          "author": "Exp_ECC2",
          "relative_error": 21.355933147322055,
          "sample_id": "gpmA"
         },
         {
          "BiGG_ID": "PDH",
          "author": "Exp_ECC2",
          "relative_error": 18.086654145067342,
          "sample_id": "gpmA"
         },
         {
          "BiGG_ID": "PGI",
          "author": "Exp_ECC2",
          "relative_error": 3354.0479572479185,
          "sample_id": "gpmA"
         },
         {
          "BiGG_ID": "PGM",
          "author": "Exp_ECC2",
          "relative_error": null,
          "sample_id": "gpmA"
         },
         {
          "BiGG_ID": "PPC",
          "author": "Exp_ECC2",
          "relative_error": null,
          "sample_id": "gpmA"
         },
         {
          "BiGG_ID": "PTAr",
          "author": "Exp_ECC2",
          "relative_error": 100,
          "sample_id": "gpmA"
         },
         {
          "BiGG_ID": "PYK",
          "author": "Exp_ECC2",
          "relative_error": null,
          "sample_id": "gpmA"
         },
         {
          "BiGG_ID": "RPE",
          "author": "Exp_ECC2",
          "relative_error": 57.31251263725519,
          "sample_id": "gpmA"
         },
         {
          "BiGG_ID": "RPI",
          "author": "Exp_ECC2",
          "relative_error": 221.40372341283543,
          "sample_id": "gpmA"
         },
         {
          "BiGG_ID": "SUCDi",
          "author": "Exp_ECC2",
          "relative_error": 13.04563530578238,
          "sample_id": "gpmA"
         },
         {
          "BiGG_ID": "TALA",
          "author": "Exp_ECC2",
          "relative_error": 40.06017200466507,
          "sample_id": "gpmA"
         },
         {
          "BiGG_ID": "TKT1",
          "author": "Exp_ECC2",
          "relative_error": 40.06017200466507,
          "sample_id": "gpmA"
         },
         {
          "BiGG_ID": "TPI",
          "author": "Exp_ECC2",
          "relative_error": 208.42639454633397,
          "sample_id": "gpmA"
         },
         {
          "BiGG_ID": "AKGDH",
          "author": "Exp_iML1515",
          "relative_error": 5.164365514379735,
          "sample_id": "gpmA"
         },
         {
          "BiGG_ID": "CS",
          "author": "Exp_iML1515",
          "relative_error": 1.238831095955458,
          "sample_id": "gpmA"
         },
         {
          "BiGG_ID": "EDA",
          "author": "Exp_iML1515",
          "relative_error": 100,
          "sample_id": "gpmA"
         },
         {
          "BiGG_ID": "FBA",
          "author": "Exp_iML1515",
          "relative_error": 3.6100930957496056,
          "sample_id": "gpmA"
         },
         {
          "BiGG_ID": "FUM",
          "author": "Exp_iML1515",
          "relative_error": 9.429978888106994,
          "sample_id": "gpmA"
         },
         {
          "BiGG_ID": "G6PDH2r",
          "author": "Exp_iML1515",
          "relative_error": 18.95829230891535,
          "sample_id": "gpmA"
         },
         {
          "BiGG_ID": "GAPD",
          "author": "Exp_iML1515",
          "relative_error": 2.6507995817330983,
          "sample_id": "gpmA"
         },
         {
          "BiGG_ID": "GLCptspp",
          "author": "Exp_iML1515",
          "relative_error": 0,
          "sample_id": "gpmA"
         },
         {
          "BiGG_ID": "GND",
          "author": "Exp_iML1515",
          "relative_error": 17.93400286944046,
          "sample_id": "gpmA"
         },
         {
          "BiGG_ID": "ICDHyr",
          "author": "Exp_iML1515",
          "relative_error": 7.352941176470589,
          "sample_id": "gpmA"
         },
         {
          "BiGG_ID": "ICL",
          "author": "Exp_iML1515",
          "relative_error": 46.16832481849955,
          "sample_id": "gpmA"
         },
         {
          "BiGG_ID": "MALS",
          "author": "Exp_iML1515",
          "relative_error": 46.18671741422534,
          "sample_id": "gpmA"
         },
         {
          "BiGG_ID": "MDH",
          "author": "Exp_iML1515",
          "relative_error": 8.670520231214518,
          "sample_id": "gpmA"
         },
         {
          "BiGG_ID": "PDH",
          "author": "Exp_iML1515",
          "relative_error": 5.223545270724806,
          "sample_id": "gpmA"
         },
         {
          "BiGG_ID": "PGI",
          "author": "Exp_iML1515",
          "relative_error": 4.4241579029340645,
          "sample_id": "gpmA"
         },
         {
          "BiGG_ID": "PGM",
          "author": "Exp_iML1515",
          "relative_error": null,
          "sample_id": "gpmA"
         },
         {
          "BiGG_ID": "PPC",
          "author": "Exp_iML1515",
          "relative_error": 77.7087378640777,
          "sample_id": "gpmA"
         },
         {
          "BiGG_ID": "PTAr",
          "author": "Exp_iML1515",
          "relative_error": 100,
          "sample_id": "gpmA"
         },
         {
          "BiGG_ID": "PYK",
          "author": "Exp_iML1515",
          "relative_error": 11.724194793740631,
          "sample_id": "gpmA"
         },
         {
          "BiGG_ID": "RPE",
          "author": "Exp_iML1515",
          "relative_error": 36.25072030000533,
          "sample_id": "gpmA"
         },
         {
          "BiGG_ID": "RPI",
          "author": "Exp_iML1515",
          "relative_error": 196.5857342072503,
          "sample_id": "gpmA"
         },
         {
          "BiGG_ID": "SUCDi",
          "author": "Exp_iML1515",
          "relative_error": 2.524092518212524,
          "sample_id": "gpmA"
         },
         {
          "BiGG_ID": "TALA",
          "author": "Exp_iML1515",
          "relative_error": 233.54346173246157,
          "sample_id": "gpmA"
         },
         {
          "BiGG_ID": "TKT1",
          "author": "Exp_iML1515",
          "relative_error": 22.90358054912132,
          "sample_id": "gpmA"
         },
         {
          "BiGG_ID": "TPI",
          "author": "Exp_iML1515",
          "relative_error": 0.06599241046131547,
          "sample_id": "gpmA"
         },
         {
          "BiGG_ID": "AKGDH",
          "author": "Ishii",
          "relative_error": 0,
          "sample_id": "gpmA"
         },
         {
          "BiGG_ID": "CS",
          "author": "Ishii",
          "relative_error": 0,
          "sample_id": "gpmA"
         },
         {
          "BiGG_ID": "EDA",
          "author": "Ishii",
          "relative_error": null,
          "sample_id": "gpmA"
         },
         {
          "BiGG_ID": "FBA",
          "author": "Ishii",
          "relative_error": 0,
          "sample_id": "gpmA"
         },
         {
          "BiGG_ID": "FUM",
          "author": "Ishii",
          "relative_error": 0,
          "sample_id": "gpmA"
         },
         {
          "BiGG_ID": "G6PDH2r",
          "author": "Ishii",
          "relative_error": 0,
          "sample_id": "gpmA"
         },
         {
          "BiGG_ID": "GAPD",
          "author": "Ishii",
          "relative_error": 0,
          "sample_id": "gpmA"
         },
         {
          "BiGG_ID": "GLCptspp",
          "author": "Ishii",
          "relative_error": 0,
          "sample_id": "gpmA"
         },
         {
          "BiGG_ID": "GND",
          "author": "Ishii",
          "relative_error": 0,
          "sample_id": "gpmA"
         },
         {
          "BiGG_ID": "ICDHyr",
          "author": "Ishii",
          "relative_error": 0,
          "sample_id": "gpmA"
         },
         {
          "BiGG_ID": "ICL",
          "author": "Ishii",
          "relative_error": 0,
          "sample_id": "gpmA"
         },
         {
          "BiGG_ID": "MALS",
          "author": "Ishii",
          "relative_error": 0,
          "sample_id": "gpmA"
         },
         {
          "BiGG_ID": "MDH",
          "author": "Ishii",
          "relative_error": 0,
          "sample_id": "gpmA"
         },
         {
          "BiGG_ID": "PDH",
          "author": "Ishii",
          "relative_error": 0,
          "sample_id": "gpmA"
         },
         {
          "BiGG_ID": "PGI",
          "author": "Ishii",
          "relative_error": 0,
          "sample_id": "gpmA"
         },
         {
          "BiGG_ID": "PGM",
          "author": "Ishii",
          "relative_error": 0,
          "sample_id": "gpmA"
         },
         {
          "BiGG_ID": "PPC",
          "author": "Ishii",
          "relative_error": 0,
          "sample_id": "gpmA"
         },
         {
          "BiGG_ID": "PTAr",
          "author": "Ishii",
          "relative_error": null,
          "sample_id": "gpmA"
         },
         {
          "BiGG_ID": "PYK",
          "author": "Ishii",
          "relative_error": 0,
          "sample_id": "gpmA"
         },
         {
          "BiGG_ID": "RPE",
          "author": "Ishii",
          "relative_error": 0,
          "sample_id": "gpmA"
         },
         {
          "BiGG_ID": "RPI",
          "author": "Ishii",
          "relative_error": 0,
          "sample_id": "gpmA"
         },
         {
          "BiGG_ID": "SUCDi",
          "author": "Ishii",
          "relative_error": 0,
          "sample_id": "gpmA"
         },
         {
          "BiGG_ID": "TALA",
          "author": "Ishii",
          "relative_error": 0,
          "sample_id": "gpmA"
         },
         {
          "BiGG_ID": "TKT1",
          "author": "Ishii",
          "relative_error": 0,
          "sample_id": "gpmA"
         },
         {
          "BiGG_ID": "TPI",
          "author": "Ishii",
          "relative_error": 0,
          "sample_id": "gpmA"
         },
         {
          "BiGG_ID": "AKGDH",
          "author": "Khodayari",
          "relative_error": null,
          "sample_id": "gpmA"
         },
         {
          "BiGG_ID": "CS",
          "author": "Khodayari",
          "relative_error": null,
          "sample_id": "gpmA"
         },
         {
          "BiGG_ID": "EDA",
          "author": "Khodayari",
          "relative_error": null,
          "sample_id": "gpmA"
         },
         {
          "BiGG_ID": "FBA",
          "author": "Khodayari",
          "relative_error": null,
          "sample_id": "gpmA"
         },
         {
          "BiGG_ID": "FUM",
          "author": "Khodayari",
          "relative_error": null,
          "sample_id": "gpmA"
         },
         {
          "BiGG_ID": "G6PDH2r",
          "author": "Khodayari",
          "relative_error": null,
          "sample_id": "gpmA"
         },
         {
          "BiGG_ID": "GAPD",
          "author": "Khodayari",
          "relative_error": null,
          "sample_id": "gpmA"
         },
         {
          "BiGG_ID": "GLCptspp",
          "author": "Khodayari",
          "relative_error": null,
          "sample_id": "gpmA"
         },
         {
          "BiGG_ID": "GND",
          "author": "Khodayari",
          "relative_error": null,
          "sample_id": "gpmA"
         },
         {
          "BiGG_ID": "ICDHyr",
          "author": "Khodayari",
          "relative_error": null,
          "sample_id": "gpmA"
         },
         {
          "BiGG_ID": "ICL",
          "author": "Khodayari",
          "relative_error": null,
          "sample_id": "gpmA"
         },
         {
          "BiGG_ID": "MALS",
          "author": "Khodayari",
          "relative_error": null,
          "sample_id": "gpmA"
         },
         {
          "BiGG_ID": "MDH",
          "author": "Khodayari",
          "relative_error": null,
          "sample_id": "gpmA"
         },
         {
          "BiGG_ID": "PDH",
          "author": "Khodayari",
          "relative_error": null,
          "sample_id": "gpmA"
         },
         {
          "BiGG_ID": "PGI",
          "author": "Khodayari",
          "relative_error": null,
          "sample_id": "gpmA"
         },
         {
          "BiGG_ID": "PGM",
          "author": "Khodayari",
          "relative_error": null,
          "sample_id": "gpmA"
         },
         {
          "BiGG_ID": "PPC",
          "author": "Khodayari",
          "relative_error": null,
          "sample_id": "gpmA"
         },
         {
          "BiGG_ID": "PTAr",
          "author": "Khodayari",
          "relative_error": null,
          "sample_id": "gpmA"
         },
         {
          "BiGG_ID": "PYK",
          "author": "Khodayari",
          "relative_error": null,
          "sample_id": "gpmA"
         },
         {
          "BiGG_ID": "RPE",
          "author": "Khodayari",
          "relative_error": null,
          "sample_id": "gpmA"
         },
         {
          "BiGG_ID": "RPI",
          "author": "Khodayari",
          "relative_error": null,
          "sample_id": "gpmA"
         },
         {
          "BiGG_ID": "SUCDi",
          "author": "Khodayari",
          "relative_error": null,
          "sample_id": "gpmA"
         },
         {
          "BiGG_ID": "TALA",
          "author": "Khodayari",
          "relative_error": null,
          "sample_id": "gpmA"
         },
         {
          "BiGG_ID": "TKT1",
          "author": "Khodayari",
          "relative_error": null,
          "sample_id": "gpmA"
         },
         {
          "BiGG_ID": "TPI",
          "author": "Khodayari",
          "relative_error": null,
          "sample_id": "gpmA"
         },
         {
          "BiGG_ID": "AKGDH",
          "author": "Kurata",
          "relative_error": 83656453665260770000,
          "sample_id": "gpmA"
         },
         {
          "BiGG_ID": "CS",
          "author": "Kurata",
          "relative_error": 46353627265640750000,
          "sample_id": "gpmA"
         },
         {
          "BiGG_ID": "EDA",
          "author": "Kurata",
          "relative_error": 100,
          "sample_id": "gpmA"
         },
         {
          "BiGG_ID": "FBA",
          "author": "Kurata",
          "relative_error": 26753008265.44006,
          "sample_id": "gpmA"
         },
         {
          "BiGG_ID": "FUM",
          "author": "Kurata",
          "relative_error": 40807131469160.86,
          "sample_id": "gpmA"
         },
         {
          "BiGG_ID": "G6PDH2r",
          "author": "Kurata",
          "relative_error": 524878676.2633645,
          "sample_id": "gpmA"
         },
         {
          "BiGG_ID": "GAPD",
          "author": "Kurata",
          "relative_error": 4442597730827.181,
          "sample_id": "gpmA"
         },
         {
          "BiGG_ID": "GLCptspp",
          "author": "Kurata",
          "relative_error": 98989389438271.88,
          "sample_id": "gpmA"
         },
         {
          "BiGG_ID": "GND",
          "author": "Kurata",
          "relative_error": 691147367.52691,
          "sample_id": "gpmA"
         },
         {
          "BiGG_ID": "ICDHyr",
          "author": "Kurata",
          "relative_error": 19064818.288521618,
          "sample_id": "gpmA"
         },
         {
          "BiGG_ID": "ICL",
          "author": "Kurata",
          "relative_error": 153327130680.68198,
          "sample_id": "gpmA"
         },
         {
          "BiGG_ID": "MALS",
          "author": "Kurata",
          "relative_error": 19933643020999292,
          "sample_id": "gpmA"
         },
         {
          "BiGG_ID": "MDH",
          "author": "Kurata",
          "relative_error": 175791418911309.9,
          "sample_id": "gpmA"
         },
         {
          "BiGG_ID": "PDH",
          "author": "Kurata",
          "relative_error": 2151044025983.793,
          "sample_id": "gpmA"
         },
         {
          "BiGG_ID": "PGI",
          "author": "Kurata",
          "relative_error": 8128067133.325146,
          "sample_id": "gpmA"
         },
         {
          "BiGG_ID": "PGM",
          "author": "Kurata",
          "relative_error": 4158478108513.2324,
          "sample_id": "gpmA"
         },
         {
          "BiGG_ID": "PPC",
          "author": "Kurata",
          "relative_error": 7.240884637621956e+21,
          "sample_id": "gpmA"
         },
         {
          "BiGG_ID": "PTAr",
          "author": "Kurata",
          "relative_error": 100,
          "sample_id": "gpmA"
         },
         {
          "BiGG_ID": "PYK",
          "author": "Kurata",
          "relative_error": 182928919856575100000,
          "sample_id": "gpmA"
         },
         {
          "BiGG_ID": "RPE",
          "author": "Kurata",
          "relative_error": 111782296480.22342,
          "sample_id": "gpmA"
         },
         {
          "BiGG_ID": "RPI",
          "author": "Kurata",
          "relative_error": 474247345.70260996,
          "sample_id": "gpmA"
         },
         {
          "BiGG_ID": "SUCDi",
          "author": "Kurata",
          "relative_error": 7657174708093728,
          "sample_id": "gpmA"
         },
         {
          "BiGG_ID": "TALA",
          "author": "Kurata",
          "relative_error": 9206185760.196924,
          "sample_id": "gpmA"
         },
         {
          "BiGG_ID": "TKT1",
          "author": "Kurata",
          "relative_error": 89437748734.51959,
          "sample_id": "gpmA"
         },
         {
          "BiGG_ID": "TPI",
          "author": "Kurata",
          "relative_error": 2221298865463.5903,
          "sample_id": "gpmA"
         },
         {
          "BiGG_ID": "AKGDH",
          "author": "Millard",
          "relative_error": null,
          "sample_id": "gpmA"
         },
         {
          "BiGG_ID": "CS",
          "author": "Millard",
          "relative_error": null,
          "sample_id": "gpmA"
         },
         {
          "BiGG_ID": "EDA",
          "author": "Millard",
          "relative_error": null,
          "sample_id": "gpmA"
         },
         {
          "BiGG_ID": "FBA",
          "author": "Millard",
          "relative_error": null,
          "sample_id": "gpmA"
         },
         {
          "BiGG_ID": "FUM",
          "author": "Millard",
          "relative_error": null,
          "sample_id": "gpmA"
         },
         {
          "BiGG_ID": "G6PDH2r",
          "author": "Millard",
          "relative_error": null,
          "sample_id": "gpmA"
         },
         {
          "BiGG_ID": "GAPD",
          "author": "Millard",
          "relative_error": null,
          "sample_id": "gpmA"
         },
         {
          "BiGG_ID": "GLCptspp",
          "author": "Millard",
          "relative_error": null,
          "sample_id": "gpmA"
         },
         {
          "BiGG_ID": "GND",
          "author": "Millard",
          "relative_error": null,
          "sample_id": "gpmA"
         },
         {
          "BiGG_ID": "ICDHyr",
          "author": "Millard",
          "relative_error": null,
          "sample_id": "gpmA"
         },
         {
          "BiGG_ID": "ICL",
          "author": "Millard",
          "relative_error": null,
          "sample_id": "gpmA"
         },
         {
          "BiGG_ID": "MALS",
          "author": "Millard",
          "relative_error": null,
          "sample_id": "gpmA"
         },
         {
          "BiGG_ID": "MDH",
          "author": "Millard",
          "relative_error": null,
          "sample_id": "gpmA"
         },
         {
          "BiGG_ID": "PDH",
          "author": "Millard",
          "relative_error": null,
          "sample_id": "gpmA"
         },
         {
          "BiGG_ID": "PGI",
          "author": "Millard",
          "relative_error": null,
          "sample_id": "gpmA"
         },
         {
          "BiGG_ID": "PGM",
          "author": "Millard",
          "relative_error": null,
          "sample_id": "gpmA"
         },
         {
          "BiGG_ID": "PPC",
          "author": "Millard",
          "relative_error": null,
          "sample_id": "gpmA"
         },
         {
          "BiGG_ID": "PTAr",
          "author": "Millard",
          "relative_error": null,
          "sample_id": "gpmA"
         },
         {
          "BiGG_ID": "PYK",
          "author": "Millard",
          "relative_error": null,
          "sample_id": "gpmA"
         },
         {
          "BiGG_ID": "RPE",
          "author": "Millard",
          "relative_error": null,
          "sample_id": "gpmA"
         },
         {
          "BiGG_ID": "RPI",
          "author": "Millard",
          "relative_error": null,
          "sample_id": "gpmA"
         },
         {
          "BiGG_ID": "SUCDi",
          "author": "Millard",
          "relative_error": null,
          "sample_id": "gpmA"
         },
         {
          "BiGG_ID": "TALA",
          "author": "Millard",
          "relative_error": null,
          "sample_id": "gpmA"
         },
         {
          "BiGG_ID": "TKT1",
          "author": "Millard",
          "relative_error": null,
          "sample_id": "gpmA"
         },
         {
          "BiGG_ID": "TPI",
          "author": "Millard",
          "relative_error": null,
          "sample_id": "gpmA"
         },
         {
          "BiGG_ID": "AKGDH",
          "author": "iML1515",
          "relative_error": null,
          "sample_id": "gpmA"
         },
         {
          "BiGG_ID": "CS",
          "author": "iML1515",
          "relative_error": null,
          "sample_id": "gpmA"
         },
         {
          "BiGG_ID": "EDA",
          "author": "iML1515",
          "relative_error": null,
          "sample_id": "gpmA"
         },
         {
          "BiGG_ID": "FBA",
          "author": "iML1515",
          "relative_error": null,
          "sample_id": "gpmA"
         },
         {
          "BiGG_ID": "FUM",
          "author": "iML1515",
          "relative_error": null,
          "sample_id": "gpmA"
         },
         {
          "BiGG_ID": "G6PDH2r",
          "author": "iML1515",
          "relative_error": null,
          "sample_id": "gpmA"
         },
         {
          "BiGG_ID": "GAPD",
          "author": "iML1515",
          "relative_error": null,
          "sample_id": "gpmA"
         },
         {
          "BiGG_ID": "GLCptspp",
          "author": "iML1515",
          "relative_error": null,
          "sample_id": "gpmA"
         },
         {
          "BiGG_ID": "GND",
          "author": "iML1515",
          "relative_error": null,
          "sample_id": "gpmA"
         },
         {
          "BiGG_ID": "ICDHyr",
          "author": "iML1515",
          "relative_error": null,
          "sample_id": "gpmA"
         },
         {
          "BiGG_ID": "ICL",
          "author": "iML1515",
          "relative_error": null,
          "sample_id": "gpmA"
         },
         {
          "BiGG_ID": "MALS",
          "author": "iML1515",
          "relative_error": null,
          "sample_id": "gpmA"
         },
         {
          "BiGG_ID": "MDH",
          "author": "iML1515",
          "relative_error": null,
          "sample_id": "gpmA"
         },
         {
          "BiGG_ID": "PDH",
          "author": "iML1515",
          "relative_error": null,
          "sample_id": "gpmA"
         },
         {
          "BiGG_ID": "PGI",
          "author": "iML1515",
          "relative_error": null,
          "sample_id": "gpmA"
         },
         {
          "BiGG_ID": "PGM",
          "author": "iML1515",
          "relative_error": null,
          "sample_id": "gpmA"
         },
         {
          "BiGG_ID": "PPC",
          "author": "iML1515",
          "relative_error": null,
          "sample_id": "gpmA"
         },
         {
          "BiGG_ID": "PTAr",
          "author": "iML1515",
          "relative_error": null,
          "sample_id": "gpmA"
         },
         {
          "BiGG_ID": "PYK",
          "author": "iML1515",
          "relative_error": null,
          "sample_id": "gpmA"
         },
         {
          "BiGG_ID": "RPE",
          "author": "iML1515",
          "relative_error": null,
          "sample_id": "gpmA"
         },
         {
          "BiGG_ID": "RPI",
          "author": "iML1515",
          "relative_error": null,
          "sample_id": "gpmA"
         },
         {
          "BiGG_ID": "SUCDi",
          "author": "iML1515",
          "relative_error": null,
          "sample_id": "gpmA"
         },
         {
          "BiGG_ID": "TALA",
          "author": "iML1515",
          "relative_error": null,
          "sample_id": "gpmA"
         },
         {
          "BiGG_ID": "TKT1",
          "author": "iML1515",
          "relative_error": null,
          "sample_id": "gpmA"
         },
         {
          "BiGG_ID": "TPI",
          "author": "iML1515",
          "relative_error": null,
          "sample_id": "gpmA"
         }
        ]
       },
       "encoding": {
        "color": {
         "condition": {
          "test": "datum.relative_error === null",
          "value": "lightgrey"
         },
         "field": "relative_error",
         "scale": {
          "domain": [
           0,
           50,
           75,
           100,
           200,
           300
          ],
          "scheme": "greenblue"
         },
         "type": "quantitative"
        },
        "tooltip": [
         {
          "field": "sample_id",
          "type": "nominal"
         },
         {
          "field": "BiGG_ID",
          "type": "nominal"
         },
         {
          "field": "relative_error",
          "type": "quantitative"
         }
        ],
        "x": {
         "field": "author",
         "type": "nominal"
        },
        "y": {
         "field": "BiGG_ID",
         "type": "nominal"
        }
       },
       "mark": "rect",
       "title": "Heatmap for sample_id gpmA"
      },
      "image/png": "[encoded data removed]",
      "text/plain": [
       "<VegaLite 2 object>\n",
       "\n",
       "If you see this message, it means the renderer has not been properly enabled\n",
       "for the frontend that you are using. For more information, see\n",
       "https://altair-viz.github.io/user_guide/troubleshooting.html\n"
      ]
     },
     "execution_count": 295,
     "metadata": {},
     "output_type": "execute_result"
    }
   ],
   "source": [
    "heatmap(x_rel_error, sample_id = \"gpmA\")"
   ]
  },
  {
   "cell_type": "code",
   "execution_count": 296,
   "metadata": {},
   "outputs": [
    {
     "data": {
      "application/vnd.vegalite.v2+json": {
       "$schema": "https://vega.github.io/schema/vega-lite/v2.6.0.json",
       "config": {
        "invalidValues": null,
        "view": {
         "height": 300,
         "width": 400
        }
       },
       "data": {
        "name": "data-0d51afadd28b487ee57822ea21756574"
       },
       "datasets": {
        "data-0d51afadd28b487ee57822ea21756574": [
         {
          "BiGG_ID": "AKGDH",
          "author": "Millard",
          "relative_error": 24.044962081433262,
          "sample_id": "WT"
         },
         {
          "BiGG_ID": "CS",
          "author": "Millard",
          "relative_error": 7.731117940765244,
          "sample_id": "WT"
         },
         {
          "BiGG_ID": "EDA",
          "author": "Millard",
          "relative_error": 100,
          "sample_id": "WT"
         },
         {
          "BiGG_ID": "FBA",
          "author": "Millard",
          "relative_error": 5.117718039861099,
          "sample_id": "WT"
         },
         {
          "BiGG_ID": "FUM",
          "author": "Millard",
          "relative_error": 9.506155560535165,
          "sample_id": "WT"
         },
         {
          "BiGG_ID": "G6PDH2r",
          "author": "Millard",
          "relative_error": 1.1905934133752434,
          "sample_id": "WT"
         },
         {
          "BiGG_ID": "GAPD",
          "author": "Millard",
          "relative_error": 2.7510076420415714,
          "sample_id": "WT"
         },
         {
          "BiGG_ID": "GLCptspp",
          "author": "Millard",
          "relative_error": 4.0120085032119256e-10,
          "sample_id": "WT"
         },
         {
          "BiGG_ID": "GND",
          "author": "Millard",
          "relative_error": 56.76639145148248,
          "sample_id": "WT"
         },
         {
          "BiGG_ID": "ICDHyr",
          "author": "Millard",
          "relative_error": 19.2644275403753,
          "sample_id": "WT"
         },
         {
          "BiGG_ID": "ICL",
          "author": "Millard",
          "relative_error": 24.447409991686403,
          "sample_id": "WT"
         },
         {
          "BiGG_ID": "MALS",
          "author": "Millard",
          "relative_error": 24.44740997745776,
          "sample_id": "WT"
         },
         {
          "BiGG_ID": "MDH",
          "author": "Millard",
          "relative_error": 0.10350427606560504,
          "sample_id": "WT"
         },
         {
          "BiGG_ID": "PDH",
          "author": "Millard",
          "relative_error": 2.7659236616557457,
          "sample_id": "WT"
         },
         {
          "BiGG_ID": "PGI",
          "author": "Millard",
          "relative_error": 0.5002371104247108,
          "sample_id": "WT"
         },
         {
          "BiGG_ID": "PGM",
          "author": "Millard",
          "relative_error": 3.943086502000035,
          "sample_id": "WT"
         },
         {
          "BiGG_ID": "PPC",
          "author": "Millard",
          "relative_error": 46.894394779426044,
          "sample_id": "WT"
         },
         {
          "BiGG_ID": "PTAr",
          "author": "Millard",
          "relative_error": 100,
          "sample_id": "WT"
         },
         {
          "BiGG_ID": "PYK",
          "author": "Millard",
          "relative_error": 5.103699352627596,
          "sample_id": "WT"
         },
         {
          "BiGG_ID": "RPE",
          "author": "Millard",
          "relative_error": 531.5520028142798,
          "sample_id": "WT"
         },
         {
          "BiGG_ID": "RPI",
          "author": "Millard",
          "relative_error": 16.840189255460675,
          "sample_id": "WT"
         },
         {
          "BiGG_ID": "SUCDi",
          "author": "Millard",
          "relative_error": 9.506155593488028,
          "sample_id": "WT"
         },
         {
          "BiGG_ID": "TALA",
          "author": "Millard",
          "relative_error": 109.82234295314586,
          "sample_id": "WT"
         },
         {
          "BiGG_ID": "TKT1",
          "author": "Millard",
          "relative_error": 405.24163342996656,
          "sample_id": "WT"
         },
         {
          "BiGG_ID": "TPI",
          "author": "Millard",
          "relative_error": 5.117718039565636,
          "sample_id": "WT"
         },
         {
          "BiGG_ID": "AKGDH",
          "author": "Millard",
          "relative_error": 36081727.023970485,
          "sample_id": "fbaB"
         },
         {
          "BiGG_ID": "CS",
          "author": "Millard",
          "relative_error": 48030414.412148,
          "sample_id": "fbaB"
         },
         {
          "BiGG_ID": "EDA",
          "author": "Millard",
          "relative_error": 100,
          "sample_id": "fbaB"
         },
         {
          "BiGG_ID": "FBA",
          "author": "Millard",
          "relative_error": null,
          "sample_id": "fbaB"
         },
         {
          "BiGG_ID": "FUM",
          "author": "Millard",
          "relative_error": 16122414.64563926,
          "sample_id": "fbaB"
         },
         {
          "BiGG_ID": "G6PDH2r",
          "author": "Millard",
          "relative_error": 1476.214615356153,
          "sample_id": "fbaB"
         },
         {
          "BiGG_ID": "GAPD",
          "author": "Millard",
          "relative_error": 12183.447508900777,
          "sample_id": "fbaB"
         },
         {
          "BiGG_ID": "GLCptspp",
          "author": "Millard",
          "relative_error": 3947016827622.692,
          "sample_id": "fbaB"
         },
         {
          "BiGG_ID": "GND",
          "author": "Millard",
          "relative_error": 12839.930239281424,
          "sample_id": "fbaB"
         },
         {
          "BiGG_ID": "ICDHyr",
          "author": "Millard",
          "relative_error": 41669229.523702204,
          "sample_id": "fbaB"
         },
         {
          "BiGG_ID": "ICL",
          "author": "Millard",
          "relative_error": 225363466.34947932,
          "sample_id": "fbaB"
         },
         {
          "BiGG_ID": "MALS",
          "author": "Millard",
          "relative_error": 225376100.41076094,
          "sample_id": "fbaB"
         },
         {
          "BiGG_ID": "MDH",
          "author": "Millard",
          "relative_error": 3250619.448811569,
          "sample_id": "fbaB"
         },
         {
          "BiGG_ID": "PDH",
          "author": "Millard",
          "relative_error": 8708.734445073884,
          "sample_id": "fbaB"
         },
         {
          "BiGG_ID": "PGI",
          "author": "Millard",
          "relative_error": 4702.630673992681,
          "sample_id": "fbaB"
         },
         {
          "BiGG_ID": "PGM",
          "author": "Millard",
          "relative_error": 5057900.764373104,
          "sample_id": "fbaB"
         },
         {
          "BiGG_ID": "PPC",
          "author": "Millard",
          "relative_error": 359414.6031119685,
          "sample_id": "fbaB"
         },
         {
          "BiGG_ID": "PTAr",
          "author": "Millard",
          "relative_error": 100,
          "sample_id": "fbaB"
         },
         {
          "BiGG_ID": "PYK",
          "author": "Millard",
          "relative_error": 466802993577403.6,
          "sample_id": "fbaB"
         },
         {
          "BiGG_ID": "RPE",
          "author": "Millard",
          "relative_error": 10009.49418167885,
          "sample_id": "fbaB"
         },
         {
          "BiGG_ID": "RPI",
          "author": "Millard",
          "relative_error": 16493.22885164727,
          "sample_id": "fbaB"
         },
         {
          "BiGG_ID": "SUCDi",
          "author": "Millard",
          "relative_error": 16121735.170602059,
          "sample_id": "fbaB"
         },
         {
          "BiGG_ID": "TALA",
          "author": "Millard",
          "relative_error": 6578.769314031848,
          "sample_id": "fbaB"
         },
         {
          "BiGG_ID": "TKT1",
          "author": "Millard",
          "relative_error": 8197.316376319206,
          "sample_id": "fbaB"
         },
         {
          "BiGG_ID": "TPI",
          "author": "Millard",
          "relative_error": 16521326.441306857,
          "sample_id": "fbaB"
         },
         {
          "BiGG_ID": "AKGDH",
          "author": "Millard",
          "relative_error": 9.599352259050043,
          "sample_id": "fbp"
         },
         {
          "BiGG_ID": "CS",
          "author": "Millard",
          "relative_error": 4.542691969651648,
          "sample_id": "fbp"
         },
         {
          "BiGG_ID": "EDA",
          "author": "Millard",
          "relative_error": 100,
          "sample_id": "fbp"
         },
         {
          "BiGG_ID": "FBA",
          "author": "Millard",
          "relative_error": 5.724341914764177,
          "sample_id": "fbp"
         },
         {
          "BiGG_ID": "FUM",
          "author": "Millard",
          "relative_error": 5.182222118600426,
          "sample_id": "fbp"
         },
         {
          "BiGG_ID": "G6PDH2r",
          "author": "Millard",
          "relative_error": 13.533907275353204,
          "sample_id": "fbp"
         },
         {
          "BiGG_ID": "GAPD",
          "author": "Millard",
          "relative_error": 2.750502161332652,
          "sample_id": "fbp"
         },
         {
          "BiGG_ID": "GLCptspp",
          "author": "Millard",
          "relative_error": 5.242384304435271e-11,
          "sample_id": "fbp"
         },
         {
          "BiGG_ID": "GND",
          "author": "Millard",
          "relative_error": 37.18536291724689,
          "sample_id": "fbp"
         },
         {
          "BiGG_ID": "ICDHyr",
          "author": "Millard",
          "relative_error": 8.126433503259824,
          "sample_id": "fbp"
         },
         {
          "BiGG_ID": "ICL",
          "author": "Millard",
          "relative_error": 37.37941542868459,
          "sample_id": "fbp"
         },
         {
          "BiGG_ID": "MALS",
          "author": "Millard",
          "relative_error": 37.37941542763005,
          "sample_id": "fbp"
         },
         {
          "BiGG_ID": "MDH",
          "author": "Millard",
          "relative_error": 9.713298523116494,
          "sample_id": "fbp"
         },
         {
          "BiGG_ID": "PDH",
          "author": "Millard",
          "relative_error": 7.869912352948061,
          "sample_id": "fbp"
         },
         {
          "BiGG_ID": "PGI",
          "author": "Millard",
          "relative_error": 3.5438330897526287,
          "sample_id": "fbp"
         },
         {
          "BiGG_ID": "PGM",
          "author": "Millard",
          "relative_error": 3.942500902331622,
          "sample_id": "fbp"
         },
         {
          "BiGG_ID": "PPC",
          "author": "Millard",
          "relative_error": 95.75207728247752,
          "sample_id": "fbp"
         },
         {
          "BiGG_ID": "PTAr",
          "author": "Millard",
          "relative_error": 100,
          "sample_id": "fbp"
         },
         {
          "BiGG_ID": "PYK",
          "author": "Millard",
          "relative_error": 27.46671627454719,
          "sample_id": "fbp"
         },
         {
          "BiGG_ID": "RPE",
          "author": "Millard",
          "relative_error": 279.27069116465833,
          "sample_id": "fbp"
         },
         {
          "BiGG_ID": "RPI",
          "author": "Millard",
          "relative_error": 16.845032200122386,
          "sample_id": "fbp"
         },
         {
          "BiGG_ID": "SUCDi",
          "author": "Millard",
          "relative_error": 5.182222112586091,
          "sample_id": "fbp"
         },
         {
          "BiGG_ID": "TALA",
          "author": "Millard",
          "relative_error": 57.396520931242414,
          "sample_id": "fbp"
         },
         {
          "BiGG_ID": "TKT1",
          "author": "Millard",
          "relative_error": 279.2706877022689,
          "sample_id": "fbp"
         },
         {
          "BiGG_ID": "TPI",
          "author": "Millard",
          "relative_error": 5.724341915175309,
          "sample_id": "fbp"
         },
         {
          "BiGG_ID": "AKGDH",
          "author": "Millard",
          "relative_error": 57.73419321377639,
          "sample_id": "gnd"
         },
         {
          "BiGG_ID": "CS",
          "author": "Millard",
          "relative_error": 29.456341365953666,
          "sample_id": "gnd"
         },
         {
          "BiGG_ID": "EDA",
          "author": "Millard",
          "relative_error": 100,
          "sample_id": "gnd"
         },
         {
          "BiGG_ID": "FBA",
          "author": "Millard",
          "relative_error": 22.231563876283232,
          "sample_id": "gnd"
         },
         {
          "BiGG_ID": "FUM",
          "author": "Millard",
          "relative_error": 35.54560916111873,
          "sample_id": "gnd"
         },
         {
          "BiGG_ID": "G6PDH2r",
          "author": "Millard",
          "relative_error": 100,
          "sample_id": "gnd"
         },
         {
          "BiGG_ID": "GAPD",
          "author": "Millard",
          "relative_error": 12.102358789170145,
          "sample_id": "gnd"
         },
         {
          "BiGG_ID": "GLCptspp",
          "author": "Millard",
          "relative_error": 4.3592933705359014e-09,
          "sample_id": "gnd"
         },
         {
          "BiGG_ID": "GND",
          "author": "Millard",
          "relative_error": null,
          "sample_id": "gnd"
         },
         {
          "BiGG_ID": "ICDHyr",
          "author": "Millard",
          "relative_error": 48.08853461887174,
          "sample_id": "gnd"
         },
         {
          "BiGG_ID": "ICL",
          "author": "Millard",
          "relative_error": 22.42626845655256,
          "sample_id": "gnd"
         },
         {
          "BiGG_ID": "MALS",
          "author": "Millard",
          "relative_error": 22.426268455615755,
          "sample_id": "gnd"
         },
         {
          "BiGG_ID": "MDH",
          "author": "Millard",
          "relative_error": 28.451094171875468,
          "sample_id": "gnd"
         },
         {
          "BiGG_ID": "PDH",
          "author": "Millard",
          "relative_error": 10.37372454442029,
          "sample_id": "gnd"
         },
         {
          "BiGG_ID": "PGI",
          "author": "Millard",
          "relative_error": 19.853000005757856,
          "sample_id": "gnd"
         },
         {
          "BiGG_ID": "PGM",
          "author": "Millard",
          "relative_error": 15.328634026539738,
          "sample_id": "gnd"
         },
         {
          "BiGG_ID": "PPC",
          "author": "Millard",
          "relative_error": 88.28970401175488,
          "sample_id": "gnd"
         },
         {
          "BiGG_ID": "PTAr",
          "author": "Millard",
          "relative_error": 100,
          "sample_id": "gnd"
         },
         {
          "BiGG_ID": "PYK",
          "author": "Millard",
          "relative_error": 73.42052202355781,
          "sample_id": "gnd"
         },
         {
          "BiGG_ID": "RPE",
          "author": "Millard",
          "relative_error": 184.29301285066995,
          "sample_id": "gnd"
         },
         {
          "BiGG_ID": "RPI",
          "author": "Millard",
          "relative_error": 15.706987183513043,
          "sample_id": "gnd"
         },
         {
          "BiGG_ID": "SUCDi",
          "author": "Millard",
          "relative_error": 35.54560907516626,
          "sample_id": "gnd"
         },
         {
          "BiGG_ID": "TALA",
          "author": "Millard",
          "relative_error": 167.7682418806973,
          "sample_id": "gnd"
         },
         {
          "BiGG_ID": "TKT1",
          "author": "Millard",
          "relative_error": 122.44128727911905,
          "sample_id": "gnd"
         },
         {
          "BiGG_ID": "TPI",
          "author": "Millard",
          "relative_error": 22.231563953015844,
          "sample_id": "gnd"
         },
         {
          "BiGG_ID": "AKGDH",
          "author": "Millard",
          "relative_error": null,
          "sample_id": "gpmA"
         },
         {
          "BiGG_ID": "CS",
          "author": "Millard",
          "relative_error": null,
          "sample_id": "gpmA"
         },
         {
          "BiGG_ID": "EDA",
          "author": "Millard",
          "relative_error": null,
          "sample_id": "gpmA"
         },
         {
          "BiGG_ID": "FBA",
          "author": "Millard",
          "relative_error": null,
          "sample_id": "gpmA"
         },
         {
          "BiGG_ID": "FUM",
          "author": "Millard",
          "relative_error": null,
          "sample_id": "gpmA"
         },
         {
          "BiGG_ID": "G6PDH2r",
          "author": "Millard",
          "relative_error": null,
          "sample_id": "gpmA"
         },
         {
          "BiGG_ID": "GAPD",
          "author": "Millard",
          "relative_error": null,
          "sample_id": "gpmA"
         },
         {
          "BiGG_ID": "GLCptspp",
          "author": "Millard",
          "relative_error": null,
          "sample_id": "gpmA"
         },
         {
          "BiGG_ID": "GND",
          "author": "Millard",
          "relative_error": null,
          "sample_id": "gpmA"
         },
         {
          "BiGG_ID": "ICDHyr",
          "author": "Millard",
          "relative_error": null,
          "sample_id": "gpmA"
         },
         {
          "BiGG_ID": "ICL",
          "author": "Millard",
          "relative_error": null,
          "sample_id": "gpmA"
         },
         {
          "BiGG_ID": "MALS",
          "author": "Millard",
          "relative_error": null,
          "sample_id": "gpmA"
         },
         {
          "BiGG_ID": "MDH",
          "author": "Millard",
          "relative_error": null,
          "sample_id": "gpmA"
         },
         {
          "BiGG_ID": "PDH",
          "author": "Millard",
          "relative_error": null,
          "sample_id": "gpmA"
         },
         {
          "BiGG_ID": "PGI",
          "author": "Millard",
          "relative_error": null,
          "sample_id": "gpmA"
         },
         {
          "BiGG_ID": "PGM",
          "author": "Millard",
          "relative_error": null,
          "sample_id": "gpmA"
         },
         {
          "BiGG_ID": "PPC",
          "author": "Millard",
          "relative_error": null,
          "sample_id": "gpmA"
         },
         {
          "BiGG_ID": "PTAr",
          "author": "Millard",
          "relative_error": null,
          "sample_id": "gpmA"
         },
         {
          "BiGG_ID": "PYK",
          "author": "Millard",
          "relative_error": null,
          "sample_id": "gpmA"
         },
         {
          "BiGG_ID": "RPE",
          "author": "Millard",
          "relative_error": null,
          "sample_id": "gpmA"
         },
         {
          "BiGG_ID": "RPI",
          "author": "Millard",
          "relative_error": null,
          "sample_id": "gpmA"
         },
         {
          "BiGG_ID": "SUCDi",
          "author": "Millard",
          "relative_error": null,
          "sample_id": "gpmA"
         },
         {
          "BiGG_ID": "TALA",
          "author": "Millard",
          "relative_error": null,
          "sample_id": "gpmA"
         },
         {
          "BiGG_ID": "TKT1",
          "author": "Millard",
          "relative_error": null,
          "sample_id": "gpmA"
         },
         {
          "BiGG_ID": "TPI",
          "author": "Millard",
          "relative_error": null,
          "sample_id": "gpmA"
         },
         {
          "BiGG_ID": "AKGDH",
          "author": "Millard",
          "relative_error": null,
          "sample_id": "gpmB"
         },
         {
          "BiGG_ID": "CS",
          "author": "Millard",
          "relative_error": null,
          "sample_id": "gpmB"
         },
         {
          "BiGG_ID": "EDA",
          "author": "Millard",
          "relative_error": null,
          "sample_id": "gpmB"
         },
         {
          "BiGG_ID": "FBA",
          "author": "Millard",
          "relative_error": null,
          "sample_id": "gpmB"
         },
         {
          "BiGG_ID": "FUM",
          "author": "Millard",
          "relative_error": null,
          "sample_id": "gpmB"
         },
         {
          "BiGG_ID": "G6PDH2r",
          "author": "Millard",
          "relative_error": null,
          "sample_id": "gpmB"
         },
         {
          "BiGG_ID": "GAPD",
          "author": "Millard",
          "relative_error": null,
          "sample_id": "gpmB"
         },
         {
          "BiGG_ID": "GLCptspp",
          "author": "Millard",
          "relative_error": null,
          "sample_id": "gpmB"
         },
         {
          "BiGG_ID": "GND",
          "author": "Millard",
          "relative_error": null,
          "sample_id": "gpmB"
         },
         {
          "BiGG_ID": "ICDHyr",
          "author": "Millard",
          "relative_error": null,
          "sample_id": "gpmB"
         },
         {
          "BiGG_ID": "ICL",
          "author": "Millard",
          "relative_error": null,
          "sample_id": "gpmB"
         },
         {
          "BiGG_ID": "MALS",
          "author": "Millard",
          "relative_error": null,
          "sample_id": "gpmB"
         },
         {
          "BiGG_ID": "MDH",
          "author": "Millard",
          "relative_error": null,
          "sample_id": "gpmB"
         },
         {
          "BiGG_ID": "PDH",
          "author": "Millard",
          "relative_error": null,
          "sample_id": "gpmB"
         },
         {
          "BiGG_ID": "PGI",
          "author": "Millard",
          "relative_error": null,
          "sample_id": "gpmB"
         },
         {
          "BiGG_ID": "PGM",
          "author": "Millard",
          "relative_error": null,
          "sample_id": "gpmB"
         },
         {
          "BiGG_ID": "PPC",
          "author": "Millard",
          "relative_error": null,
          "sample_id": "gpmB"
         },
         {
          "BiGG_ID": "PTAr",
          "author": "Millard",
          "relative_error": null,
          "sample_id": "gpmB"
         },
         {
          "BiGG_ID": "PYK",
          "author": "Millard",
          "relative_error": null,
          "sample_id": "gpmB"
         },
         {
          "BiGG_ID": "RPE",
          "author": "Millard",
          "relative_error": null,
          "sample_id": "gpmB"
         },
         {
          "BiGG_ID": "RPI",
          "author": "Millard",
          "relative_error": null,
          "sample_id": "gpmB"
         },
         {
          "BiGG_ID": "SUCDi",
          "author": "Millard",
          "relative_error": null,
          "sample_id": "gpmB"
         },
         {
          "BiGG_ID": "TALA",
          "author": "Millard",
          "relative_error": null,
          "sample_id": "gpmB"
         },
         {
          "BiGG_ID": "TKT1",
          "author": "Millard",
          "relative_error": null,
          "sample_id": "gpmB"
         },
         {
          "BiGG_ID": "TPI",
          "author": "Millard",
          "relative_error": null,
          "sample_id": "gpmB"
         },
         {
          "BiGG_ID": "AKGDH",
          "author": "Millard",
          "relative_error": 667192151.5530326,
          "sample_id": "pfkA"
         },
         {
          "BiGG_ID": "CS",
          "author": "Millard",
          "relative_error": 825351269.2361687,
          "sample_id": "pfkA"
         },
         {
          "BiGG_ID": "EDA",
          "author": "Millard",
          "relative_error": 100,
          "sample_id": "pfkA"
         },
         {
          "BiGG_ID": "FBA",
          "author": "Millard",
          "relative_error": 649362665442.4666,
          "sample_id": "pfkA"
         },
         {
          "BiGG_ID": "FUM",
          "author": "Millard",
          "relative_error": 1520279.209246432,
          "sample_id": "pfkA"
         },
         {
          "BiGG_ID": "G6PDH2r",
          "author": "Millard",
          "relative_error": 2572.315928563716,
          "sample_id": "pfkA"
         },
         {
          "BiGG_ID": "GAPD",
          "author": "Millard",
          "relative_error": 22927872.80511045,
          "sample_id": "pfkA"
         },
         {
          "BiGG_ID": "GLCptspp",
          "author": "Millard",
          "relative_error": 11184203871315.918,
          "sample_id": "pfkA"
         },
         {
          "BiGG_ID": "GND",
          "author": "Millard",
          "relative_error": 2644.4843705170665,
          "sample_id": "pfkA"
         },
         {
          "BiGG_ID": "ICDHyr",
          "author": "Millard",
          "relative_error": 761149779.8342091,
          "sample_id": "pfkA"
         },
         {
          "BiGG_ID": "ICL",
          "author": "Millard",
          "relative_error": 2322143512.241115,
          "sample_id": "pfkA"
         },
         {
          "BiGG_ID": "MALS",
          "author": "Millard",
          "relative_error": 2322059644.838574,
          "sample_id": "pfkA"
         },
         {
          "BiGG_ID": "MDH",
          "author": "Millard",
          "relative_error": 7318811.4710092805,
          "sample_id": "pfkA"
         },
         {
          "BiGG_ID": "PDH",
          "author": "Millard",
          "relative_error": 1346727.9995941725,
          "sample_id": "pfkA"
         },
         {
          "BiGG_ID": "PGI",
          "author": "Millard",
          "relative_error": 16138.455285121629,
          "sample_id": "pfkA"
         },
         {
          "BiGG_ID": "PGM",
          "author": "Millard",
          "relative_error": 249206264.1868887,
          "sample_id": "pfkA"
         },
         {
          "BiGG_ID": "PPC",
          "author": "Millard",
          "relative_error": 1343158.7339680553,
          "sample_id": "pfkA"
         },
         {
          "BiGG_ID": "PTAr",
          "author": "Millard",
          "relative_error": 100,
          "sample_id": "pfkA"
         },
         {
          "BiGG_ID": "PYK",
          "author": "Millard",
          "relative_error": 1887583350246888000,
          "sample_id": "pfkA"
         },
         {
          "BiGG_ID": "RPE",
          "author": "Millard",
          "relative_error": 898.4524933458001,
          "sample_id": "pfkA"
         },
         {
          "BiGG_ID": "RPI",
          "author": "Millard",
          "relative_error": 5143.0660199059585,
          "sample_id": "pfkA"
         },
         {
          "BiGG_ID": "SUCDi",
          "author": "Millard",
          "relative_error": 1520278.876766714,
          "sample_id": "pfkA"
         },
         {
          "BiGG_ID": "TALA",
          "author": "Millard",
          "relative_error": 1045.795589382661,
          "sample_id": "pfkA"
         },
         {
          "BiGG_ID": "TKT1",
          "author": "Millard",
          "relative_error": 1329.1397027665691,
          "sample_id": "pfkA"
         },
         {
          "BiGG_ID": "TPI",
          "author": "Millard",
          "relative_error": 211945748.0766562,
          "sample_id": "pfkA"
         },
         {
          "BiGG_ID": "AKGDH",
          "author": "Millard",
          "relative_error": 448269694.01219386,
          "sample_id": "pfkB"
         },
         {
          "BiGG_ID": "CS",
          "author": "Millard",
          "relative_error": 764959705.6335222,
          "sample_id": "pfkB"
         },
         {
          "BiGG_ID": "EDA",
          "author": "Millard",
          "relative_error": 100,
          "sample_id": "pfkB"
         },
         {
          "BiGG_ID": "FBA",
          "author": "Millard",
          "relative_error": 574723278621.4933,
          "sample_id": "pfkB"
         },
         {
          "BiGG_ID": "FUM",
          "author": "Millard",
          "relative_error": 1416157.345599416,
          "sample_id": "pfkB"
         },
         {
          "BiGG_ID": "G6PDH2r",
          "author": "Millard",
          "relative_error": 8871.346331606761,
          "sample_id": "pfkB"
         },
         {
          "BiGG_ID": "GAPD",
          "author": "Millard",
          "relative_error": 21602556.457994238,
          "sample_id": "pfkB"
         },
         {
          "BiGG_ID": "GLCptspp",
          "author": "Millard",
          "relative_error": 11184203871315.918,
          "sample_id": "pfkB"
         },
         {
          "BiGG_ID": "GND",
          "author": "Millard",
          "relative_error": 9113.62610102158,
          "sample_id": "pfkB"
         },
         {
          "BiGG_ID": "ICDHyr",
          "author": "Millard",
          "relative_error": 531762144.8156804,
          "sample_id": "pfkB"
         },
         {
          "BiGG_ID": "ICL",
          "author": "Millard",
          "relative_error": 7256698688.253485,
          "sample_id": "pfkB"
         },
         {
          "BiGG_ID": "MALS",
          "author": "Millard",
          "relative_error": 7256436602.6205435,
          "sample_id": "pfkB"
         },
         {
          "BiGG_ID": "MDH",
          "author": "Millard",
          "relative_error": 8132001.634454756,
          "sample_id": "pfkB"
         },
         {
          "BiGG_ID": "PDH",
          "author": "Millard",
          "relative_error": 1458963.66622702,
          "sample_id": "pfkB"
         },
         {
          "BiGG_ID": "PGI",
          "author": "Millard",
          "relative_error": 10028.567557456245,
          "sample_id": "pfkB"
         },
         {
          "BiGG_ID": "PGM",
          "author": "Millard",
          "relative_error": 235361477.2876171,
          "sample_id": "pfkB"
         },
         {
          "BiGG_ID": "PPC",
          "author": "Millard",
          "relative_error": 100,
          "sample_id": "pfkB"
         },
         {
          "BiGG_ID": "PTAr",
          "author": "Millard",
          "relative_error": 100,
          "sample_id": "pfkB"
         },
         {
          "BiGG_ID": "PYK",
          "author": "Millard",
          "relative_error": 2150967073537151500,
          "sample_id": "pfkB"
         },
         {
          "BiGG_ID": "RPE",
          "author": "Millard",
          "relative_error": 8220.437444548335,
          "sample_id": "pfkB"
         },
         {
          "BiGG_ID": "RPI",
          "author": "Millard",
          "relative_error": 9909.489674365923,
          "sample_id": "pfkB"
         },
         {
          "BiGG_ID": "SUCDi",
          "author": "Millard",
          "relative_error": 1416157.0358922817,
          "sample_id": "pfkB"
         },
         {
          "BiGG_ID": "TALA",
          "author": "Millard",
          "relative_error": 5247.046083785752,
          "sample_id": "pfkB"
         },
         {
          "BiGG_ID": "TKT1",
          "author": "Millard",
          "relative_error": 6569.318612910656,
          "sample_id": "pfkB"
         },
         {
          "BiGG_ID": "TPI",
          "author": "Millard",
          "relative_error": 187584156.34370717,
          "sample_id": "pfkB"
         },
         {
          "BiGG_ID": "AKGDH",
          "author": "Millard",
          "relative_error": 62.811453017918296,
          "sample_id": "pgi"
         },
         {
          "BiGG_ID": "CS",
          "author": "Millard",
          "relative_error": 53.56613525338201,
          "sample_id": "pgi"
         },
         {
          "BiGG_ID": "EDA",
          "author": "Millard",
          "relative_error": 19.589947646464243,
          "sample_id": "pgi"
         },
         {
          "BiGG_ID": "FBA",
          "author": "Millard",
          "relative_error": 0.6649677056567255,
          "sample_id": "pgi"
         },
         {
          "BiGG_ID": "FUM",
          "author": "Millard",
          "relative_error": 59.74146284722976,
          "sample_id": "pgi"
         },
         {
          "BiGG_ID": "G6PDH2r",
          "author": "Millard",
          "relative_error": 19.761587515769087,
          "sample_id": "pgi"
         },
         {
          "BiGG_ID": "GAPD",
          "author": "Millard",
          "relative_error": 4.047984122394257,
          "sample_id": "pgi"
         },
         {
          "BiGG_ID": "GLCptspp",
          "author": "Millard",
          "relative_error": 0.23594315689122797,
          "sample_id": "pgi"
         },
         {
          "BiGG_ID": "GND",
          "author": "Millard",
          "relative_error": 19.926698931898546,
          "sample_id": "pgi"
         },
         {
          "BiGG_ID": "ICDHyr",
          "author": "Millard",
          "relative_error": 53.89110610125052,
          "sample_id": "pgi"
         },
         {
          "BiGG_ID": "ICL",
          "author": "Millard",
          "relative_error": 54.81961696002268,
          "sample_id": "pgi"
         },
         {
          "BiGG_ID": "MALS",
          "author": "Millard",
          "relative_error": 54.81964304005822,
          "sample_id": "pgi"
         },
         {
          "BiGG_ID": "MDH",
          "author": "Millard",
          "relative_error": 59.218925996494555,
          "sample_id": "pgi"
         },
         {
          "BiGG_ID": "PDH",
          "author": "Millard",
          "relative_error": 39.08009852227083,
          "sample_id": "pgi"
         },
         {
          "BiGG_ID": "PGI",
          "author": "Millard",
          "relative_error": null,
          "sample_id": "pgi"
         },
         {
          "BiGG_ID": "PGM",
          "author": "Millard",
          "relative_error": 5.2825079466101075,
          "sample_id": "pgi"
         },
         {
          "BiGG_ID": "PPC",
          "author": "Millard",
          "relative_error": 100,
          "sample_id": "pgi"
         },
         {
          "BiGG_ID": "PTAr",
          "author": "Millard",
          "relative_error": 100,
          "sample_id": "pgi"
         },
         {
          "BiGG_ID": "PYK",
          "author": "Millard",
          "relative_error": 92.7807705673655,
          "sample_id": "pgi"
         },
         {
          "BiGG_ID": "RPE",
          "author": "Millard",
          "relative_error": 3.5864511756754682,
          "sample_id": "pgi"
         },
         {
          "BiGG_ID": "RPI",
          "author": "Millard",
          "relative_error": 52.26114952846677,
          "sample_id": "pgi"
         },
         {
          "BiGG_ID": "SUCDi",
          "author": "Millard",
          "relative_error": 59.74143742638165,
          "sample_id": "pgi"
         },
         {
          "BiGG_ID": "TALA",
          "author": "Millard",
          "relative_error": 12.26462804029695,
          "sample_id": "pgi"
         },
         {
          "BiGG_ID": "TKT1",
          "author": "Millard",
          "relative_error": 12.263482493257165,
          "sample_id": "pgi"
         },
         {
          "BiGG_ID": "TPI",
          "author": "Millard",
          "relative_error": 0.665398295263774,
          "sample_id": "pgi"
         },
         {
          "BiGG_ID": "AKGDH",
          "author": "Millard",
          "relative_error": 24.00801436537005,
          "sample_id": "pgl"
         },
         {
          "BiGG_ID": "CS",
          "author": "Millard",
          "relative_error": 13.12734512208063,
          "sample_id": "pgl"
         },
         {
          "BiGG_ID": "EDA",
          "author": "Millard",
          "relative_error": 100,
          "sample_id": "pgl"
         },
         {
          "BiGG_ID": "FBA",
          "author": "Millard",
          "relative_error": 7.176687851417664,
          "sample_id": "pgl"
         },
         {
          "BiGG_ID": "FUM",
          "author": "Millard",
          "relative_error": 14.662575341363382,
          "sample_id": "pgl"
         },
         {
          "BiGG_ID": "G6PDH2r",
          "author": "Millard",
          "relative_error": 5441.152054850664,
          "sample_id": "pgl"
         },
         {
          "BiGG_ID": "GAPD",
          "author": "Millard",
          "relative_error": 4.4267859021100735,
          "sample_id": "pgl"
         },
         {
          "BiGG_ID": "GLCptspp",
          "author": "Millard",
          "relative_error": 5.243261116923126e-08,
          "sample_id": "pgl"
         },
         {
          "BiGG_ID": "GND",
          "author": "Millard",
          "relative_error": 35396.14180912905,
          "sample_id": "pgl"
         },
         {
          "BiGG_ID": "ICDHyr",
          "author": "Millard",
          "relative_error": 21.57341572869667,
          "sample_id": "pgl"
         },
         {
          "BiGG_ID": "ICL",
          "author": "Millard",
          "relative_error": 82.64510620224712,
          "sample_id": "pgl"
         },
         {
          "BiGG_ID": "MALS",
          "author": "Millard",
          "relative_error": 82.64500957191005,
          "sample_id": "pgl"
         },
         {
          "BiGG_ID": "MDH",
          "author": "Millard",
          "relative_error": 7.351387598469963,
          "sample_id": "pgl"
         },
         {
          "BiGG_ID": "PDH",
          "author": "Millard",
          "relative_error": 3.471226109252535,
          "sample_id": "pgl"
         },
         {
          "BiGG_ID": "PGI",
          "author": "Millard",
          "relative_error": 20.57344555671141,
          "sample_id": "pgl"
         },
         {
          "BiGG_ID": "PGM",
          "author": "Millard",
          "relative_error": 5.019320261593962,
          "sample_id": "pgl"
         },
         {
          "BiGG_ID": "PPC",
          "author": "Millard",
          "relative_error": 85.25182691256191,
          "sample_id": "pgl"
         },
         {
          "BiGG_ID": "PTAr",
          "author": "Millard",
          "relative_error": 100,
          "sample_id": "pgl"
         },
         {
          "BiGG_ID": "PYK",
          "author": "Millard",
          "relative_error": 6.606736317467653,
          "sample_id": "pgl"
         },
         {
          "BiGG_ID": "RPE",
          "author": "Millard",
          "relative_error": 258.1098724539427,
          "sample_id": "pgl"
         },
         {
          "BiGG_ID": "RPI",
          "author": "Millard",
          "relative_error": 139.85403946831642,
          "sample_id": "pgl"
         },
         {
          "BiGG_ID": "SUCDi",
          "author": "Millard",
          "relative_error": 14.662515580374622,
          "sample_id": "pgl"
         },
         {
          "BiGG_ID": "TALA",
          "author": "Millard",
          "relative_error": 573.0843207472624,
          "sample_id": "pgl"
         },
         {
          "BiGG_ID": "TKT1",
          "author": "Millard",
          "relative_error": 258.24289030738566,
          "sample_id": "pgl"
         },
         {
          "BiGG_ID": "TPI",
          "author": "Millard",
          "relative_error": 7.176674689778202,
          "sample_id": "pgl"
         },
         {
          "BiGG_ID": "AKGDH",
          "author": "Millard",
          "relative_error": null,
          "sample_id": "pgm"
         },
         {
          "BiGG_ID": "CS",
          "author": "Millard",
          "relative_error": null,
          "sample_id": "pgm"
         },
         {
          "BiGG_ID": "EDA",
          "author": "Millard",
          "relative_error": null,
          "sample_id": "pgm"
         },
         {
          "BiGG_ID": "FBA",
          "author": "Millard",
          "relative_error": null,
          "sample_id": "pgm"
         },
         {
          "BiGG_ID": "FUM",
          "author": "Millard",
          "relative_error": null,
          "sample_id": "pgm"
         },
         {
          "BiGG_ID": "G6PDH2r",
          "author": "Millard",
          "relative_error": null,
          "sample_id": "pgm"
         },
         {
          "BiGG_ID": "GAPD",
          "author": "Millard",
          "relative_error": null,
          "sample_id": "pgm"
         },
         {
          "BiGG_ID": "GLCptspp",
          "author": "Millard",
          "relative_error": null,
          "sample_id": "pgm"
         },
         {
          "BiGG_ID": "GND",
          "author": "Millard",
          "relative_error": null,
          "sample_id": "pgm"
         },
         {
          "BiGG_ID": "ICDHyr",
          "author": "Millard",
          "relative_error": null,
          "sample_id": "pgm"
         },
         {
          "BiGG_ID": "ICL",
          "author": "Millard",
          "relative_error": null,
          "sample_id": "pgm"
         },
         {
          "BiGG_ID": "MALS",
          "author": "Millard",
          "relative_error": null,
          "sample_id": "pgm"
         },
         {
          "BiGG_ID": "MDH",
          "author": "Millard",
          "relative_error": null,
          "sample_id": "pgm"
         },
         {
          "BiGG_ID": "PDH",
          "author": "Millard",
          "relative_error": null,
          "sample_id": "pgm"
         },
         {
          "BiGG_ID": "PGI",
          "author": "Millard",
          "relative_error": null,
          "sample_id": "pgm"
         },
         {
          "BiGG_ID": "PGM",
          "author": "Millard",
          "relative_error": null,
          "sample_id": "pgm"
         },
         {
          "BiGG_ID": "PPC",
          "author": "Millard",
          "relative_error": null,
          "sample_id": "pgm"
         },
         {
          "BiGG_ID": "PTAr",
          "author": "Millard",
          "relative_error": null,
          "sample_id": "pgm"
         },
         {
          "BiGG_ID": "PYK",
          "author": "Millard",
          "relative_error": null,
          "sample_id": "pgm"
         },
         {
          "BiGG_ID": "RPE",
          "author": "Millard",
          "relative_error": null,
          "sample_id": "pgm"
         },
         {
          "BiGG_ID": "RPI",
          "author": "Millard",
          "relative_error": null,
          "sample_id": "pgm"
         },
         {
          "BiGG_ID": "SUCDi",
          "author": "Millard",
          "relative_error": null,
          "sample_id": "pgm"
         },
         {
          "BiGG_ID": "TALA",
          "author": "Millard",
          "relative_error": null,
          "sample_id": "pgm"
         },
         {
          "BiGG_ID": "TKT1",
          "author": "Millard",
          "relative_error": null,
          "sample_id": "pgm"
         },
         {
          "BiGG_ID": "TPI",
          "author": "Millard",
          "relative_error": null,
          "sample_id": "pgm"
         },
         {
          "BiGG_ID": "AKGDH",
          "author": "Millard",
          "relative_error": 66.09184836541932,
          "sample_id": "ppsA"
         },
         {
          "BiGG_ID": "CS",
          "author": "Millard",
          "relative_error": 10.917681928658912,
          "sample_id": "ppsA"
         },
         {
          "BiGG_ID": "EDA",
          "author": "Millard",
          "relative_error": 100,
          "sample_id": "ppsA"
         },
         {
          "BiGG_ID": "FBA",
          "author": "Millard",
          "relative_error": 0.35106008405150557,
          "sample_id": "ppsA"
         },
         {
          "BiGG_ID": "FUM",
          "author": "Millard",
          "relative_error": 13.827844392151603,
          "sample_id": "ppsA"
         },
         {
          "BiGG_ID": "G6PDH2r",
          "author": "Millard",
          "relative_error": 91.44703008556135,
          "sample_id": "ppsA"
         },
         {
          "BiGG_ID": "GAPD",
          "author": "Millard",
          "relative_error": 0.9690547789546409,
          "sample_id": "ppsA"
         },
         {
          "BiGG_ID": "GLCptspp",
          "author": "Millard",
          "relative_error": 6.403979568899642e-10,
          "sample_id": "ppsA"
         },
         {
          "BiGG_ID": "GND",
          "author": "Millard",
          "relative_error": 203.74230376516778,
          "sample_id": "ppsA"
         },
         {
          "BiGG_ID": "ICDHyr",
          "author": "Millard",
          "relative_error": 53.71693552760798,
          "sample_id": "ppsA"
         },
         {
          "BiGG_ID": "ICL",
          "author": "Millard",
          "relative_error": 100,
          "sample_id": "ppsA"
         },
         {
          "BiGG_ID": "MALS",
          "author": "Millard",
          "relative_error": 100,
          "sample_id": "ppsA"
         },
         {
          "BiGG_ID": "MDH",
          "author": "Millard",
          "relative_error": 8.765859392041257,
          "sample_id": "ppsA"
         },
         {
          "BiGG_ID": "PDH",
          "author": "Millard",
          "relative_error": 13.401116121467949,
          "sample_id": "ppsA"
         },
         {
          "BiGG_ID": "PGI",
          "author": "Millard",
          "relative_error": 17.163772178882567,
          "sample_id": "ppsA"
         },
         {
          "BiGG_ID": "PGM",
          "author": "Millard",
          "relative_error": 2.659649852766282,
          "sample_id": "ppsA"
         },
         {
          "BiGG_ID": "PPC",
          "author": "Millard",
          "relative_error": 10.784491370505377,
          "sample_id": "ppsA"
         },
         {
          "BiGG_ID": "PTAr",
          "author": "Millard",
          "relative_error": 100,
          "sample_id": "ppsA"
         },
         {
          "BiGG_ID": "PYK",
          "author": "Millard",
          "relative_error": 21.722144748691978,
          "sample_id": "ppsA"
         },
         {
          "BiGG_ID": "RPE",
          "author": "Millard",
          "relative_error": 1794.9996671483077,
          "sample_id": "ppsA"
         },
         {
          "BiGG_ID": "RPI",
          "author": "Millard",
          "relative_error": 69.95127561542414,
          "sample_id": "ppsA"
         },
         {
          "BiGG_ID": "SUCDi",
          "author": "Millard",
          "relative_error": 13.82784444289166,
          "sample_id": "ppsA"
         },
         {
          "BiGG_ID": "TALA",
          "author": "Millard",
          "relative_error": 372.1194520589686,
          "sample_id": "ppsA"
         },
         {
          "BiGG_ID": "TKT1",
          "author": "Millard",
          "relative_error": 1036.9999112505607,
          "sample_id": "ppsA"
         },
         {
          "BiGG_ID": "TPI",
          "author": "Millard",
          "relative_error": 0.3510600843626587,
          "sample_id": "ppsA"
         },
         {
          "BiGG_ID": "AKGDH",
          "author": "Millard",
          "relative_error": 85.9972002091138,
          "sample_id": "pykA"
         },
         {
          "BiGG_ID": "CS",
          "author": "Millard",
          "relative_error": 55.612977434921305,
          "sample_id": "pykA"
         },
         {
          "BiGG_ID": "EDA",
          "author": "Millard",
          "relative_error": 100,
          "sample_id": "pykA"
         },
         {
          "BiGG_ID": "FBA",
          "author": "Millard",
          "relative_error": 15.482833235146279,
          "sample_id": "pykA"
         },
         {
          "BiGG_ID": "FUM",
          "author": "Millard",
          "relative_error": 73.11425405902625,
          "sample_id": "pykA"
         },
         {
          "BiGG_ID": "G6PDH2r",
          "author": "Millard",
          "relative_error": 28.905936997775356,
          "sample_id": "pykA"
         },
         {
          "BiGG_ID": "GAPD",
          "author": "Millard",
          "relative_error": 8.683600146654019,
          "sample_id": "pykA"
         },
         {
          "BiGG_ID": "GLCptspp",
          "author": "Millard",
          "relative_error": 4.053219981853487e-10,
          "sample_id": "pykA"
         },
         {
          "BiGG_ID": "GND",
          "author": "Millard",
          "relative_error": 1.562064783377769,
          "sample_id": "pykA"
         },
         {
          "BiGG_ID": "ICDHyr",
          "author": "Millard",
          "relative_error": 57.62642394780989,
          "sample_id": "pykA"
         },
         {
          "BiGG_ID": "ICL",
          "author": "Millard",
          "relative_error": 48.75156558120788,
          "sample_id": "pykA"
         },
         {
          "BiGG_ID": "MALS",
          "author": "Millard",
          "relative_error": 48.75156554791761,
          "sample_id": "pykA"
         },
         {
          "BiGG_ID": "MDH",
          "author": "Millard",
          "relative_error": 168.94183374846477,
          "sample_id": "pykA"
         },
         {
          "BiGG_ID": "PDH",
          "author": "Millard",
          "relative_error": 26.208012601335263,
          "sample_id": "pykA"
         },
         {
          "BiGG_ID": "PGI",
          "author": "Millard",
          "relative_error": 15.214803191221144,
          "sample_id": "pykA"
         },
         {
          "BiGG_ID": "PGM",
          "author": "Millard",
          "relative_error": 12.877933969013169,
          "sample_id": "pykA"
         },
         {
          "BiGG_ID": "PPC",
          "author": "Millard",
          "relative_error": 35.198320359864695,
          "sample_id": "pykA"
         },
         {
          "BiGG_ID": "PTAr",
          "author": "Millard",
          "relative_error": 100,
          "sample_id": "pykA"
         },
         {
          "BiGG_ID": "PYK",
          "author": "Millard",
          "relative_error": null,
          "sample_id": "pykA"
         },
         {
          "BiGG_ID": "RPE",
          "author": "Millard",
          "relative_error": 8.639846848247261,
          "sample_id": "pykA"
         },
         {
          "BiGG_ID": "RPI",
          "author": "Millard",
          "relative_error": 7.749798935120883,
          "sample_id": "pykA"
         },
         {
          "BiGG_ID": "SUCDi",
          "author": "Millard",
          "relative_error": 73.1142539926687,
          "sample_id": "pykA"
         },
         {
          "BiGG_ID": "TALA",
          "author": "Millard",
          "relative_error": 9.832578997915787,
          "sample_id": "pykA"
         },
         {
          "BiGG_ID": "TKT1",
          "author": "Millard",
          "relative_error": 9.832577282005449,
          "sample_id": "pykA"
         },
         {
          "BiGG_ID": "TPI",
          "author": "Millard",
          "relative_error": 15.482833171437324,
          "sample_id": "pykA"
         },
         {
          "BiGG_ID": "AKGDH",
          "author": "Millard",
          "relative_error": 10.945698370348582,
          "sample_id": "pykF"
         },
         {
          "BiGG_ID": "CS",
          "author": "Millard",
          "relative_error": 36.86442593673802,
          "sample_id": "pykF"
         },
         {
          "BiGG_ID": "EDA",
          "author": "Millard",
          "relative_error": 100,
          "sample_id": "pykF"
         },
         {
          "BiGG_ID": "FBA",
          "author": "Millard",
          "relative_error": 3.109672531380606,
          "sample_id": "pykF"
         },
         {
          "BiGG_ID": "FUM",
          "author": "Millard",
          "relative_error": 49.72043594294162,
          "sample_id": "pykF"
         },
         {
          "BiGG_ID": "G6PDH2r",
          "author": "Millard",
          "relative_error": 54.03713650482006,
          "sample_id": "pykF"
         },
         {
          "BiGG_ID": "GAPD",
          "author": "Millard",
          "relative_error": 2.92976249183116,
          "sample_id": "pykF"
         },
         {
          "BiGG_ID": "GLCptspp",
          "author": "Millard",
          "relative_error": 4.053219981853487e-10,
          "sample_id": "pykF"
         },
         {
          "BiGG_ID": "GND",
          "author": "Millard",
          "relative_error": 113.28219296934816,
          "sample_id": "pykF"
         },
         {
          "BiGG_ID": "ICDHyr",
          "author": "Millard",
          "relative_error": 4.275941996243468,
          "sample_id": "pykF"
         },
         {
          "BiGG_ID": "ICL",
          "author": "Millard",
          "relative_error": 147.91927596867978,
          "sample_id": "pykF"
         },
         {
          "BiGG_ID": "MALS",
          "author": "Millard",
          "relative_error": 147.919275913196,
          "sample_id": "pykF"
         },
         {
          "BiGG_ID": "MDH",
          "author": "Millard",
          "relative_error": 154.32542974039603,
          "sample_id": "pykF"
         },
         {
          "BiGG_ID": "PDH",
          "author": "Millard",
          "relative_error": 29.143082661831432,
          "sample_id": "pykF"
         },
         {
          "BiGG_ID": "PGI",
          "author": "Millard",
          "relative_error": 26.82303040557576,
          "sample_id": "pykF"
         },
         {
          "BiGG_ID": "PGM",
          "author": "Millard",
          "relative_error": 5.8230630959498475,
          "sample_id": "pykF"
         },
         {
          "BiGG_ID": "PPC",
          "author": "Millard",
          "relative_error": 100,
          "sample_id": "pykF"
         },
         {
          "BiGG_ID": "PTAr",
          "author": "Millard",
          "relative_error": 100,
          "sample_id": "pykF"
         },
         {
          "BiGG_ID": "PYK",
          "author": "Millard",
          "relative_error": null,
          "sample_id": "pykF"
         },
         {
          "BiGG_ID": "RPE",
          "author": "Millard",
          "relative_error": 215.05555585991706,
          "sample_id": "pykF"
         },
         {
          "BiGG_ID": "RPI",
          "author": "Millard",
          "relative_error": 51.553901749444265,
          "sample_id": "pykF"
         },
         {
          "BiGG_ID": "SUCDi",
          "author": "Millard",
          "relative_error": 49.720435885551304,
          "sample_id": "pykF"
         },
         {
          "BiGG_ID": "TALA",
          "author": "Millard",
          "relative_error": 151.04589485237895,
          "sample_id": "pykF"
         },
         {
          "BiGG_ID": "TKT1",
          "author": "Millard",
          "relative_error": 151.04589093029816,
          "sample_id": "pykF"
         },
         {
          "BiGG_ID": "TPI",
          "author": "Millard",
          "relative_error": 3.1096724744976108,
          "sample_id": "pykF"
         },
         {
          "BiGG_ID": "AKGDH",
          "author": "Millard",
          "relative_error": 131.98918046179682,
          "sample_id": "rpe"
         },
         {
          "BiGG_ID": "CS",
          "author": "Millard",
          "relative_error": 52.14343683792173,
          "sample_id": "rpe"
         },
         {
          "BiGG_ID": "EDA",
          "author": "Millard",
          "relative_error": 100,
          "sample_id": "rpe"
         },
         {
          "BiGG_ID": "FBA",
          "author": "Millard",
          "relative_error": 12.907190109837286,
          "sample_id": "rpe"
         },
         {
          "BiGG_ID": "FUM",
          "author": "Millard",
          "relative_error": 65.39084307244565,
          "sample_id": "rpe"
         },
         {
          "BiGG_ID": "G6PDH2r",
          "author": "Millard",
          "relative_error": 56.5080443433828,
          "sample_id": "rpe"
         },
         {
          "BiGG_ID": "GAPD",
          "author": "Millard",
          "relative_error": 8.456329950585637,
          "sample_id": "rpe"
         },
         {
          "BiGG_ID": "GLCptspp",
          "author": "Millard",
          "relative_error": 1.5470931203038316e-09,
          "sample_id": "rpe"
         },
         {
          "BiGG_ID": "GND",
          "author": "Millard",
          "relative_error": 25.972615241874884,
          "sample_id": "rpe"
         },
         {
          "BiGG_ID": "ICDHyr",
          "author": "Millard",
          "relative_error": 100.11395446696767,
          "sample_id": "rpe"
         },
         {
          "BiGG_ID": "ICL",
          "author": "Millard",
          "relative_error": 34.57570868112308,
          "sample_id": "rpe"
         },
         {
          "BiGG_ID": "MALS",
          "author": "Millard",
          "relative_error": 34.57570868011897,
          "sample_id": "rpe"
         },
         {
          "BiGG_ID": "MDH",
          "author": "Millard",
          "relative_error": 46.8214600316157,
          "sample_id": "rpe"
         },
         {
          "BiGG_ID": "PDH",
          "author": "Millard",
          "relative_error": 16.060026049398058,
          "sample_id": "rpe"
         },
         {
          "BiGG_ID": "PGI",
          "author": "Millard",
          "relative_error": 12.053095542813754,
          "sample_id": "rpe"
         },
         {
          "BiGG_ID": "PGM",
          "author": "Millard",
          "relative_error": 12.507806083172754,
          "sample_id": "rpe"
         },
         {
          "BiGG_ID": "PPC",
          "author": "Millard",
          "relative_error": 100,
          "sample_id": "rpe"
         },
         {
          "BiGG_ID": "PTAr",
          "author": "Millard",
          "relative_error": 100,
          "sample_id": "rpe"
         },
         {
          "BiGG_ID": "PYK",
          "author": "Millard",
          "relative_error": 60.26045668878621,
          "sample_id": "rpe"
         },
         {
          "BiGG_ID": "RPE",
          "author": "Millard",
          "relative_error": null,
          "sample_id": "rpe"
         },
         {
          "BiGG_ID": "RPI",
          "author": "Millard",
          "relative_error": 25.972614382504528,
          "sample_id": "rpe"
         },
         {
          "BiGG_ID": "SUCDi",
          "author": "Millard",
          "relative_error": 65.39084307648032,
          "sample_id": "rpe"
         },
         {
          "BiGG_ID": "TALA",
          "author": "Millard",
          "relative_error": 36.85899565556472,
          "sample_id": "rpe"
         },
         {
          "BiGG_ID": "TKT1",
          "author": "Millard",
          "relative_error": 3037116304.3568134,
          "sample_id": "rpe"
         },
         {
          "BiGG_ID": "TPI",
          "author": "Millard",
          "relative_error": 12.907190104344776,
          "sample_id": "rpe"
         },
         {
          "BiGG_ID": "AKGDH",
          "author": "Millard",
          "relative_error": 34.308637582313665,
          "sample_id": "rpiA"
         },
         {
          "BiGG_ID": "CS",
          "author": "Millard",
          "relative_error": 12.506863618792853,
          "sample_id": "rpiA"
         },
         {
          "BiGG_ID": "EDA",
          "author": "Millard",
          "relative_error": 6.343573156768698,
          "sample_id": "rpiA"
         },
         {
          "BiGG_ID": "FBA",
          "author": "Millard",
          "relative_error": 0.45286199835072055,
          "sample_id": "rpiA"
         },
         {
          "BiGG_ID": "FUM",
          "author": "Millard",
          "relative_error": 4.229935402018968,
          "sample_id": "rpiA"
         },
         {
          "BiGG_ID": "G6PDH2r",
          "author": "Millard",
          "relative_error": 54.60276380405765,
          "sample_id": "rpiA"
         },
         {
          "BiGG_ID": "GAPD",
          "author": "Millard",
          "relative_error": 3.388361128117876,
          "sample_id": "rpiA"
         },
         {
          "BiGG_ID": "GLCptspp",
          "author": "Millard",
          "relative_error": 9.571579084785541e-10,
          "sample_id": "rpiA"
         },
         {
          "BiGG_ID": "GND",
          "author": "Millard",
          "relative_error": 4536.67482413196,
          "sample_id": "rpiA"
         },
         {
          "BiGG_ID": "ICDHyr",
          "author": "Millard",
          "relative_error": 30.07167596162923,
          "sample_id": "rpiA"
         },
         {
          "BiGG_ID": "ICL",
          "author": "Millard",
          "relative_error": 67496.11198610083,
          "sample_id": "rpiA"
         },
         {
          "BiGG_ID": "MALS",
          "author": "Millard",
          "relative_error": 67495.6666583914,
          "sample_id": "rpiA"
         },
         {
          "BiGG_ID": "MDH",
          "author": "Millard",
          "relative_error": 25.718275973173416,
          "sample_id": "rpiA"
         },
         {
          "BiGG_ID": "PDH",
          "author": "Millard",
          "relative_error": 15.919461472921965,
          "sample_id": "rpiA"
         },
         {
          "BiGG_ID": "PGI",
          "author": "Millard",
          "relative_error": 12.387274078607343,
          "sample_id": "rpiA"
         },
         {
          "BiGG_ID": "PGM",
          "author": "Millard",
          "relative_error": 0.5577119349520719,
          "sample_id": "rpiA"
         },
         {
          "BiGG_ID": "PPC",
          "author": "Millard",
          "relative_error": 100,
          "sample_id": "rpiA"
         },
         {
          "BiGG_ID": "PTAr",
          "author": "Millard",
          "relative_error": 100,
          "sample_id": "rpiA"
         },
         {
          "BiGG_ID": "PYK",
          "author": "Millard",
          "relative_error": 197.6147244663366,
          "sample_id": "rpiA"
         },
         {
          "BiGG_ID": "RPE",
          "author": "Millard",
          "relative_error": 218.3165764808053,
          "sample_id": "rpiA"
         },
         {
          "BiGG_ID": "RPI",
          "author": "Millard",
          "relative_error": null,
          "sample_id": "rpiA"
         },
         {
          "BiGG_ID": "SUCDi",
          "author": "Millard",
          "relative_error": 4.23002641843284,
          "sample_id": "rpiA"
         },
         {
          "BiGG_ID": "TALA",
          "author": "Millard",
          "relative_error": 206.39361056016782,
          "sample_id": "rpiA"
         },
         {
          "BiGG_ID": "TKT1",
          "author": "Millard",
          "relative_error": 176.01883286314853,
          "sample_id": "rpiA"
         },
         {
          "BiGG_ID": "TPI",
          "author": "Millard",
          "relative_error": 0.45265548650167176,
          "sample_id": "rpiA"
         },
         {
          "BiGG_ID": "AKGDH",
          "author": "Millard",
          "relative_error": 13.323896809997201,
          "sample_id": "rpiB"
         },
         {
          "BiGG_ID": "CS",
          "author": "Millard",
          "relative_error": 2.785404020880945,
          "sample_id": "rpiB"
         },
         {
          "BiGG_ID": "EDA",
          "author": "Millard",
          "relative_error": 100,
          "sample_id": "rpiB"
         },
         {
          "BiGG_ID": "FBA",
          "author": "Millard",
          "relative_error": 15.011247795213144,
          "sample_id": "rpiB"
         },
         {
          "BiGG_ID": "FUM",
          "author": "Millard",
          "relative_error": 17.8251443674997,
          "sample_id": "rpiB"
         },
         {
          "BiGG_ID": "G6PDH2r",
          "author": "Millard",
          "relative_error": 139.3849245998312,
          "sample_id": "rpiB"
         },
         {
          "BiGG_ID": "GAPD",
          "author": "Millard",
          "relative_error": 11.29065624619058,
          "sample_id": "rpiB"
         },
         {
          "BiGG_ID": "GLCptspp",
          "author": "Millard",
          "relative_error": 9.571579084785541e-10,
          "sample_id": "rpiB"
         },
         {
          "BiGG_ID": "GND",
          "author": "Millard",
          "relative_error": 18446.69929652784,
          "sample_id": "rpiB"
         },
         {
          "BiGG_ID": "ICDHyr",
          "author": "Millard",
          "relative_error": 10.59796546993104,
          "sample_id": "rpiB"
         },
         {
          "BiGG_ID": "ICL",
          "author": "Millard",
          "relative_error": 26938.444794440336,
          "sample_id": "rpiB"
         },
         {
          "BiGG_ID": "MALS",
          "author": "Millard",
          "relative_error": 26938.266663356564,
          "sample_id": "rpiB"
         },
         {
          "BiGG_ID": "MDH",
          "author": "Millard",
          "relative_error": 26.850873054012816,
          "sample_id": "rpiB"
         },
         {
          "BiGG_ID": "PDH",
          "author": "Millard",
          "relative_error": 10.323349539746422,
          "sample_id": "rpiB"
         },
         {
          "BiGG_ID": "PGI",
          "author": "Millard",
          "relative_error": 33.309716089686184,
          "sample_id": "rpiB"
         },
         {
          "BiGG_ID": "PGM",
          "author": "Millard",
          "relative_error": 10.06992792879889,
          "sample_id": "rpiB"
         },
         {
          "BiGG_ID": "PPC",
          "author": "Millard",
          "relative_error": 87.40045479697895,
          "sample_id": "rpiB"
         },
         {
          "BiGG_ID": "PTAr",
          "author": "Millard",
          "relative_error": 100,
          "sample_id": "rpiB"
         },
         {
          "BiGG_ID": "PYK",
          "author": "Millard",
          "relative_error": 243.9103482722112,
          "sample_id": "rpiB"
         },
         {
          "BiGG_ID": "RPE",
          "author": "Millard",
          "relative_error": 1204.2880471541832,
          "sample_id": "rpiB"
         },
         {
          "BiGG_ID": "RPI",
          "author": "Millard",
          "relative_error": null,
          "sample_id": "rpiB"
         },
         {
          "BiGG_ID": "SUCDi",
          "author": "Millard",
          "relative_error": 17.825247255619733,
          "sample_id": "rpiB"
         },
         {
          "BiGG_ID": "TALA",
          "author": "Millard",
          "relative_error": 631.9680528008391,
          "sample_id": "rpiB"
         },
         {
          "BiGG_ID": "TKT1",
          "author": "Millard",
          "relative_error": 480.09416431574266,
          "sample_id": "rpiB"
         },
         {
          "BiGG_ID": "TPI",
          "author": "Millard",
          "relative_error": 15.01101135411061,
          "sample_id": "rpiB"
         },
         {
          "BiGG_ID": "AKGDH",
          "author": "Millard",
          "relative_error": null,
          "sample_id": "talA"
         },
         {
          "BiGG_ID": "CS",
          "author": "Millard",
          "relative_error": null,
          "sample_id": "talA"
         },
         {
          "BiGG_ID": "EDA",
          "author": "Millard",
          "relative_error": null,
          "sample_id": "talA"
         },
         {
          "BiGG_ID": "FBA",
          "author": "Millard",
          "relative_error": null,
          "sample_id": "talA"
         },
         {
          "BiGG_ID": "FUM",
          "author": "Millard",
          "relative_error": null,
          "sample_id": "talA"
         },
         {
          "BiGG_ID": "G6PDH2r",
          "author": "Millard",
          "relative_error": null,
          "sample_id": "talA"
         },
         {
          "BiGG_ID": "GAPD",
          "author": "Millard",
          "relative_error": null,
          "sample_id": "talA"
         },
         {
          "BiGG_ID": "GLCptspp",
          "author": "Millard",
          "relative_error": null,
          "sample_id": "talA"
         },
         {
          "BiGG_ID": "GND",
          "author": "Millard",
          "relative_error": null,
          "sample_id": "talA"
         },
         {
          "BiGG_ID": "ICDHyr",
          "author": "Millard",
          "relative_error": null,
          "sample_id": "talA"
         },
         {
          "BiGG_ID": "ICL",
          "author": "Millard",
          "relative_error": null,
          "sample_id": "talA"
         },
         {
          "BiGG_ID": "MALS",
          "author": "Millard",
          "relative_error": null,
          "sample_id": "talA"
         },
         {
          "BiGG_ID": "MDH",
          "author": "Millard",
          "relative_error": null,
          "sample_id": "talA"
         },
         {
          "BiGG_ID": "PDH",
          "author": "Millard",
          "relative_error": null,
          "sample_id": "talA"
         },
         {
          "BiGG_ID": "PGI",
          "author": "Millard",
          "relative_error": null,
          "sample_id": "talA"
         },
         {
          "BiGG_ID": "PGM",
          "author": "Millard",
          "relative_error": null,
          "sample_id": "talA"
         },
         {
          "BiGG_ID": "PPC",
          "author": "Millard",
          "relative_error": null,
          "sample_id": "talA"
         },
         {
          "BiGG_ID": "PTAr",
          "author": "Millard",
          "relative_error": null,
          "sample_id": "talA"
         },
         {
          "BiGG_ID": "PYK",
          "author": "Millard",
          "relative_error": null,
          "sample_id": "talA"
         },
         {
          "BiGG_ID": "RPE",
          "author": "Millard",
          "relative_error": null,
          "sample_id": "talA"
         },
         {
          "BiGG_ID": "RPI",
          "author": "Millard",
          "relative_error": null,
          "sample_id": "talA"
         },
         {
          "BiGG_ID": "SUCDi",
          "author": "Millard",
          "relative_error": null,
          "sample_id": "talA"
         },
         {
          "BiGG_ID": "TALA",
          "author": "Millard",
          "relative_error": null,
          "sample_id": "talA"
         },
         {
          "BiGG_ID": "TKT1",
          "author": "Millard",
          "relative_error": null,
          "sample_id": "talA"
         },
         {
          "BiGG_ID": "TPI",
          "author": "Millard",
          "relative_error": null,
          "sample_id": "talA"
         },
         {
          "BiGG_ID": "AKGDH",
          "author": "Millard",
          "relative_error": null,
          "sample_id": "talB"
         },
         {
          "BiGG_ID": "CS",
          "author": "Millard",
          "relative_error": null,
          "sample_id": "talB"
         },
         {
          "BiGG_ID": "EDA",
          "author": "Millard",
          "relative_error": null,
          "sample_id": "talB"
         },
         {
          "BiGG_ID": "FBA",
          "author": "Millard",
          "relative_error": null,
          "sample_id": "talB"
         },
         {
          "BiGG_ID": "FUM",
          "author": "Millard",
          "relative_error": null,
          "sample_id": "talB"
         },
         {
          "BiGG_ID": "G6PDH2r",
          "author": "Millard",
          "relative_error": null,
          "sample_id": "talB"
         },
         {
          "BiGG_ID": "GAPD",
          "author": "Millard",
          "relative_error": null,
          "sample_id": "talB"
         },
         {
          "BiGG_ID": "GLCptspp",
          "author": "Millard",
          "relative_error": null,
          "sample_id": "talB"
         },
         {
          "BiGG_ID": "GND",
          "author": "Millard",
          "relative_error": null,
          "sample_id": "talB"
         },
         {
          "BiGG_ID": "ICDHyr",
          "author": "Millard",
          "relative_error": null,
          "sample_id": "talB"
         },
         {
          "BiGG_ID": "ICL",
          "author": "Millard",
          "relative_error": null,
          "sample_id": "talB"
         },
         {
          "BiGG_ID": "MALS",
          "author": "Millard",
          "relative_error": null,
          "sample_id": "talB"
         },
         {
          "BiGG_ID": "MDH",
          "author": "Millard",
          "relative_error": null,
          "sample_id": "talB"
         },
         {
          "BiGG_ID": "PDH",
          "author": "Millard",
          "relative_error": null,
          "sample_id": "talB"
         },
         {
          "BiGG_ID": "PGI",
          "author": "Millard",
          "relative_error": null,
          "sample_id": "talB"
         },
         {
          "BiGG_ID": "PGM",
          "author": "Millard",
          "relative_error": null,
          "sample_id": "talB"
         },
         {
          "BiGG_ID": "PPC",
          "author": "Millard",
          "relative_error": null,
          "sample_id": "talB"
         },
         {
          "BiGG_ID": "PTAr",
          "author": "Millard",
          "relative_error": null,
          "sample_id": "talB"
         },
         {
          "BiGG_ID": "PYK",
          "author": "Millard",
          "relative_error": null,
          "sample_id": "talB"
         },
         {
          "BiGG_ID": "RPE",
          "author": "Millard",
          "relative_error": null,
          "sample_id": "talB"
         },
         {
          "BiGG_ID": "RPI",
          "author": "Millard",
          "relative_error": null,
          "sample_id": "talB"
         },
         {
          "BiGG_ID": "SUCDi",
          "author": "Millard",
          "relative_error": null,
          "sample_id": "talB"
         },
         {
          "BiGG_ID": "TALA",
          "author": "Millard",
          "relative_error": null,
          "sample_id": "talB"
         },
         {
          "BiGG_ID": "TKT1",
          "author": "Millard",
          "relative_error": null,
          "sample_id": "talB"
         },
         {
          "BiGG_ID": "TPI",
          "author": "Millard",
          "relative_error": null,
          "sample_id": "talB"
         },
         {
          "BiGG_ID": "AKGDH",
          "author": "Millard",
          "relative_error": null,
          "sample_id": "tktA"
         },
         {
          "BiGG_ID": "CS",
          "author": "Millard",
          "relative_error": null,
          "sample_id": "tktA"
         },
         {
          "BiGG_ID": "EDA",
          "author": "Millard",
          "relative_error": null,
          "sample_id": "tktA"
         },
         {
          "BiGG_ID": "FBA",
          "author": "Millard",
          "relative_error": null,
          "sample_id": "tktA"
         },
         {
          "BiGG_ID": "FUM",
          "author": "Millard",
          "relative_error": null,
          "sample_id": "tktA"
         },
         {
          "BiGG_ID": "G6PDH2r",
          "author": "Millard",
          "relative_error": null,
          "sample_id": "tktA"
         },
         {
          "BiGG_ID": "GAPD",
          "author": "Millard",
          "relative_error": null,
          "sample_id": "tktA"
         },
         {
          "BiGG_ID": "GLCptspp",
          "author": "Millard",
          "relative_error": null,
          "sample_id": "tktA"
         },
         {
          "BiGG_ID": "GND",
          "author": "Millard",
          "relative_error": null,
          "sample_id": "tktA"
         },
         {
          "BiGG_ID": "ICDHyr",
          "author": "Millard",
          "relative_error": null,
          "sample_id": "tktA"
         },
         {
          "BiGG_ID": "ICL",
          "author": "Millard",
          "relative_error": null,
          "sample_id": "tktA"
         },
         {
          "BiGG_ID": "MALS",
          "author": "Millard",
          "relative_error": null,
          "sample_id": "tktA"
         },
         {
          "BiGG_ID": "MDH",
          "author": "Millard",
          "relative_error": null,
          "sample_id": "tktA"
         },
         {
          "BiGG_ID": "PDH",
          "author": "Millard",
          "relative_error": null,
          "sample_id": "tktA"
         },
         {
          "BiGG_ID": "PGI",
          "author": "Millard",
          "relative_error": null,
          "sample_id": "tktA"
         },
         {
          "BiGG_ID": "PGM",
          "author": "Millard",
          "relative_error": null,
          "sample_id": "tktA"
         },
         {
          "BiGG_ID": "PPC",
          "author": "Millard",
          "relative_error": null,
          "sample_id": "tktA"
         },
         {
          "BiGG_ID": "PTAr",
          "author": "Millard",
          "relative_error": null,
          "sample_id": "tktA"
         },
         {
          "BiGG_ID": "PYK",
          "author": "Millard",
          "relative_error": null,
          "sample_id": "tktA"
         },
         {
          "BiGG_ID": "RPE",
          "author": "Millard",
          "relative_error": null,
          "sample_id": "tktA"
         },
         {
          "BiGG_ID": "RPI",
          "author": "Millard",
          "relative_error": null,
          "sample_id": "tktA"
         },
         {
          "BiGG_ID": "SUCDi",
          "author": "Millard",
          "relative_error": null,
          "sample_id": "tktA"
         },
         {
          "BiGG_ID": "TALA",
          "author": "Millard",
          "relative_error": null,
          "sample_id": "tktA"
         },
         {
          "BiGG_ID": "TKT1",
          "author": "Millard",
          "relative_error": null,
          "sample_id": "tktA"
         },
         {
          "BiGG_ID": "TPI",
          "author": "Millard",
          "relative_error": null,
          "sample_id": "tktA"
         },
         {
          "BiGG_ID": "AKGDH",
          "author": "Millard",
          "relative_error": null,
          "sample_id": "tktB"
         },
         {
          "BiGG_ID": "CS",
          "author": "Millard",
          "relative_error": null,
          "sample_id": "tktB"
         },
         {
          "BiGG_ID": "EDA",
          "author": "Millard",
          "relative_error": null,
          "sample_id": "tktB"
         },
         {
          "BiGG_ID": "FBA",
          "author": "Millard",
          "relative_error": null,
          "sample_id": "tktB"
         },
         {
          "BiGG_ID": "FUM",
          "author": "Millard",
          "relative_error": null,
          "sample_id": "tktB"
         },
         {
          "BiGG_ID": "G6PDH2r",
          "author": "Millard",
          "relative_error": null,
          "sample_id": "tktB"
         },
         {
          "BiGG_ID": "GAPD",
          "author": "Millard",
          "relative_error": null,
          "sample_id": "tktB"
         },
         {
          "BiGG_ID": "GLCptspp",
          "author": "Millard",
          "relative_error": null,
          "sample_id": "tktB"
         },
         {
          "BiGG_ID": "GND",
          "author": "Millard",
          "relative_error": null,
          "sample_id": "tktB"
         },
         {
          "BiGG_ID": "ICDHyr",
          "author": "Millard",
          "relative_error": null,
          "sample_id": "tktB"
         },
         {
          "BiGG_ID": "ICL",
          "author": "Millard",
          "relative_error": null,
          "sample_id": "tktB"
         },
         {
          "BiGG_ID": "MALS",
          "author": "Millard",
          "relative_error": null,
          "sample_id": "tktB"
         },
         {
          "BiGG_ID": "MDH",
          "author": "Millard",
          "relative_error": null,
          "sample_id": "tktB"
         },
         {
          "BiGG_ID": "PDH",
          "author": "Millard",
          "relative_error": null,
          "sample_id": "tktB"
         },
         {
          "BiGG_ID": "PGI",
          "author": "Millard",
          "relative_error": null,
          "sample_id": "tktB"
         },
         {
          "BiGG_ID": "PGM",
          "author": "Millard",
          "relative_error": null,
          "sample_id": "tktB"
         },
         {
          "BiGG_ID": "PPC",
          "author": "Millard",
          "relative_error": null,
          "sample_id": "tktB"
         },
         {
          "BiGG_ID": "PTAr",
          "author": "Millard",
          "relative_error": null,
          "sample_id": "tktB"
         },
         {
          "BiGG_ID": "PYK",
          "author": "Millard",
          "relative_error": null,
          "sample_id": "tktB"
         },
         {
          "BiGG_ID": "RPE",
          "author": "Millard",
          "relative_error": null,
          "sample_id": "tktB"
         },
         {
          "BiGG_ID": "RPI",
          "author": "Millard",
          "relative_error": null,
          "sample_id": "tktB"
         },
         {
          "BiGG_ID": "SUCDi",
          "author": "Millard",
          "relative_error": null,
          "sample_id": "tktB"
         },
         {
          "BiGG_ID": "TALA",
          "author": "Millard",
          "relative_error": null,
          "sample_id": "tktB"
         },
         {
          "BiGG_ID": "TKT1",
          "author": "Millard",
          "relative_error": null,
          "sample_id": "tktB"
         },
         {
          "BiGG_ID": "TPI",
          "author": "Millard",
          "relative_error": null,
          "sample_id": "tktB"
         },
         {
          "BiGG_ID": "AKGDH",
          "author": "Millard",
          "relative_error": 34.161525878023454,
          "sample_id": "zwf"
         },
         {
          "BiGG_ID": "CS",
          "author": "Millard",
          "relative_error": 27.38244277651658,
          "sample_id": "zwf"
         },
         {
          "BiGG_ID": "EDA",
          "author": "Millard",
          "relative_error": 100,
          "sample_id": "zwf"
         },
         {
          "BiGG_ID": "FBA",
          "author": "Millard",
          "relative_error": 1.5658482607762334,
          "sample_id": "zwf"
         },
         {
          "BiGG_ID": "FUM",
          "author": "Millard",
          "relative_error": 32.406172398963044,
          "sample_id": "zwf"
         },
         {
          "BiGG_ID": "G6PDH2r",
          "author": "Millard",
          "relative_error": null,
          "sample_id": "zwf"
         },
         {
          "BiGG_ID": "GAPD",
          "author": "Millard",
          "relative_error": 1.955785400399743,
          "sample_id": "zwf"
         },
         {
          "BiGG_ID": "GLCptspp",
          "author": "Millard",
          "relative_error": 4.476419235288431e-12,
          "sample_id": "zwf"
         },
         {
          "BiGG_ID": "GND",
          "author": "Millard",
          "relative_error": 100,
          "sample_id": "zwf"
         },
         {
          "BiGG_ID": "ICDHyr",
          "author": "Millard",
          "relative_error": 27.100677516746295,
          "sample_id": "zwf"
         },
         {
          "BiGG_ID": "ICL",
          "author": "Millard",
          "relative_error": 28.182309276805288,
          "sample_id": "zwf"
         },
         {
          "BiGG_ID": "MALS",
          "author": "Millard",
          "relative_error": 28.182309276752775,
          "sample_id": "zwf"
         },
         {
          "BiGG_ID": "MDH",
          "author": "Millard",
          "relative_error": 30.486144530093885,
          "sample_id": "zwf"
         },
         {
          "BiGG_ID": "PDH",
          "author": "Millard",
          "relative_error": 16.806736929624197,
          "sample_id": "zwf"
         },
         {
          "BiGG_ID": "PGI",
          "author": "Millard",
          "relative_error": 0.7452945347826873,
          "sample_id": "zwf"
         },
         {
          "BiGG_ID": "PGM",
          "author": "Millard",
          "relative_error": 3.6939174257360192,
          "sample_id": "zwf"
         },
         {
          "BiGG_ID": "PPC",
          "author": "Millard",
          "relative_error": 100,
          "sample_id": "zwf"
         },
         {
          "BiGG_ID": "PTAr",
          "author": "Millard",
          "relative_error": 100,
          "sample_id": "zwf"
         },
         {
          "BiGG_ID": "PYK",
          "author": "Millard",
          "relative_error": 28.963400522516558,
          "sample_id": "zwf"
         },
         {
          "BiGG_ID": "RPE",
          "author": "Millard",
          "relative_error": 181.91307994304552,
          "sample_id": "zwf"
         },
         {
          "BiGG_ID": "RPI",
          "author": "Millard",
          "relative_error": 17.2595854139174,
          "sample_id": "zwf"
         },
         {
          "BiGG_ID": "SUCDi",
          "author": "Millard",
          "relative_error": 32.40617239819015,
          "sample_id": "zwf"
         },
         {
          "BiGG_ID": "TALA",
          "author": "Millard",
          "relative_error": 165.41449478516904,
          "sample_id": "zwf"
         },
         {
          "BiGG_ID": "TKT1",
          "author": "Millard",
          "relative_error": 121.85640392948616,
          "sample_id": "zwf"
         },
         {
          "BiGG_ID": "TPI",
          "author": "Millard",
          "relative_error": 1.5658482606809632,
          "sample_id": "zwf"
         }
        ]
       },
       "encoding": {
        "color": {
         "condition": {
          "test": "datum.relative_error === null",
          "value": "lightgrey"
         },
         "field": "relative_error",
         "scale": {
          "domain": [
           0,
           50,
           75,
           100,
           200,
           300
          ],
          "scheme": "greenblue"
         },
         "type": "quantitative"
        },
        "tooltip": [
         {
          "field": "sample_id",
          "type": "nominal"
         },
         {
          "field": "BiGG_ID",
          "type": "nominal"
         },
         {
          "field": "relative_error",
          "type": "quantitative"
         }
        ],
        "x": {
         "field": "sample_id",
         "type": "nominal"
        },
        "y": {
         "field": "BiGG_ID",
         "type": "nominal"
        }
       },
       "mark": "rect",
       "title": "Heatmap for author Millard"
      },
      "image/png": "[encoded data removed]",
      "text/plain": [
       "<VegaLite 2 object>\n",
       "\n",
       "If you see this message, it means the renderer has not been properly enabled\n",
       "for the frontend that you are using. For more information, see\n",
       "https://altair-viz.github.io/user_guide/troubleshooting.html\n"
      ]
     },
     "execution_count": 296,
     "metadata": {},
     "output_type": "execute_result"
    }
   ],
   "source": [
    "heatmap(x_rel_error, author=\"Millard\")"
   ]
  },
  {
   "cell_type": "code",
   "execution_count": 48,
   "metadata": {},
   "outputs": [
    {
     "data": {
      "application/vnd.vegalite.v2+json": {
       "$schema": "https://vega.github.io/schema/vega-lite/v2.6.0.json",
       "config": {
        "axis": {
         "labelFontSize": 20,
         "titleFontSize": 24
        },
        "legend": {
         "labelFontSize": 16,
         "titleFontSize": 20
        },
        "view": {
         "height": 300,
         "width": 400
        }
       },
       "data": {
        "name": "data-c0fe3e0381a01182739dc2fbd78c8459"
       },
       "datasets": {
        "data-c0fe3e0381a01182739dc2fbd78c8459": [
         {
          "author": "ECC2",
          "normalized_error": 0.3673469616535892,
          "sample_id": "WT"
         },
         {
          "author": "Ec_core",
          "normalized_error": 1.0456217624385553,
          "sample_id": "WT"
         },
         {
          "author": "Exp_ECC2",
          "normalized_error": 0.06603643321373025,
          "sample_id": "WT"
         },
         {
          "author": "Exp_iML1515",
          "normalized_error": 0.07693495780009879,
          "sample_id": "WT"
         },
         {
          "author": "Khodayari",
          "normalized_error": 0.970400216752708,
          "sample_id": "WT"
         },
         {
          "author": "Kurata",
          "normalized_error": 0.40390382681805037,
          "sample_id": "WT"
         },
         {
          "author": "Millard",
          "normalized_error": 0.053177932794421484,
          "sample_id": "WT"
         },
         {
          "author": "iML1515",
          "normalized_error": 1.0200243197243106,
          "sample_id": "WT"
         },
         {
          "author": "Chassagnole",
          "normalized_error": 0.6244474229050386,
          "sample_id": "fbaB"
         },
         {
          "author": "ECC2",
          "normalized_error": 0.5611210425056447,
          "sample_id": "fbaB"
         },
         {
          "author": "Ec_core",
          "normalized_error": 1.9244928696661046,
          "sample_id": "fbaB"
         },
         {
          "author": "Exp_ECC2",
          "normalized_error": 0.5717472366105655,
          "sample_id": "fbaB"
         },
         {
          "author": "Exp_iML1515",
          "normalized_error": 0.349441885206341,
          "sample_id": "fbaB"
         },
         {
          "author": "Khodayari",
          "normalized_error": 1.0202968449219962,
          "sample_id": "fbaB"
         },
         {
          "author": "Kurata",
          "normalized_error": 0.3722801057628787,
          "sample_id": "fbaB"
         },
         {
          "author": "Millard",
          "normalized_error": 0.9967288488292979,
          "sample_id": "fbaB"
         },
         {
          "author": "iML1515",
          "normalized_error": 1.0698124857247693,
          "sample_id": "fbaB"
         },
         {
          "author": "ECC2",
          "normalized_error": 0.3973290559372596,
          "sample_id": "fbp"
         },
         {
          "author": "Ec_core",
          "normalized_error": 1.0258203862835515,
          "sample_id": "fbp"
         },
         {
          "author": "Exp_ECC2",
          "normalized_error": 0.09679474970620057,
          "sample_id": "fbp"
         },
         {
          "author": "Exp_iML1515",
          "normalized_error": 0.1137387422021805,
          "sample_id": "fbp"
         },
         {
          "author": "Khodayari",
          "normalized_error": 0.9527975679931191,
          "sample_id": "fbp"
         },
         {
          "author": "Kurata",
          "normalized_error": 0.4201351396862454,
          "sample_id": "fbp"
         },
         {
          "author": "Millard",
          "normalized_error": 0.0899915255807052,
          "sample_id": "fbp"
         },
         {
          "author": "iML1515",
          "normalized_error": 1.005372313682371,
          "sample_id": "fbp"
         },
         {
          "author": "Chassagnole",
          "normalized_error": 0.37822472996855144,
          "sample_id": "gnd"
         },
         {
          "author": "ECC2",
          "normalized_error": 0.41136168654873306,
          "sample_id": "gnd"
         },
         {
          "author": "Ec_core",
          "normalized_error": 1.0151474515399184,
          "sample_id": "gnd"
         },
         {
          "author": "Exp_ECC2",
          "normalized_error": 0.14309757386730507,
          "sample_id": "gnd"
         },
         {
          "author": "Exp_iML1515",
          "normalized_error": 0.13466792347095463,
          "sample_id": "gnd"
         },
         {
          "author": "Khodayari",
          "normalized_error": 0.825067172853682,
          "sample_id": "gnd"
         },
         {
          "author": "Kurata",
          "normalized_error": 0.7264154835845362,
          "sample_id": "gnd"
         },
         {
          "author": "Millard",
          "normalized_error": 0.170084145324079,
          "sample_id": "gnd"
         },
         {
          "author": "iML1515",
          "normalized_error": 0.9787413028619196,
          "sample_id": "gnd"
         },
         {
          "author": "ECC2",
          "normalized_error": 0.9185773326777787,
          "sample_id": "gpmA"
         },
         {
          "author": "Exp_ECC2",
          "normalized_error": 1.0026206613804856,
          "sample_id": "gpmA"
         },
         {
          "author": "Exp_iML1515",
          "normalized_error": 0.5065566502832414,
          "sample_id": "gpmA"
         },
         {
          "author": "Kurata",
          "normalized_error": 0.9999999978638053,
          "sample_id": "gpmA"
         },
         {
          "author": "Chassagnole",
          "normalized_error": 0.626213468031761,
          "sample_id": "pfkA"
         },
         {
          "author": "ECC2",
          "normalized_error": 0.5940478605814619,
          "sample_id": "pfkA"
         },
         {
          "author": "Ec_core",
          "normalized_error": 1.9524379940704826,
          "sample_id": "pfkA"
         },
         {
          "author": "Exp_ECC2",
          "normalized_error": 0.6043301112158931,
          "sample_id": "pfkA"
         },
         {
          "author": "Exp_iML1515",
          "normalized_error": 0.3433120838403356,
          "sample_id": "pfkA"
         },
         {
          "author": "Khodayari",
          "normalized_error": 0.9830805264690929,
          "sample_id": "pfkA"
         },
         {
          "author": "Kurata",
          "normalized_error": 0.44364060400867417,
          "sample_id": "pfkA"
         },
         {
          "author": "Millard",
          "normalized_error": 1.0002297328068879,
          "sample_id": "pfkA"
         },
         {
          "author": "iML1515",
          "normalized_error": 1.0618289651291086,
          "sample_id": "pfkA"
         },
         {
          "author": "Chassagnole",
          "normalized_error": 0.6352570912575427,
          "sample_id": "pfkB"
         },
         {
          "author": "ECC2",
          "normalized_error": 0.5110192676882465,
          "sample_id": "pfkB"
         },
         {
          "author": "Ec_core",
          "normalized_error": 1.827669542036964,
          "sample_id": "pfkB"
         },
         {
          "author": "Exp_ECC2",
          "normalized_error": 0.5212820759822032,
          "sample_id": "pfkB"
         },
         {
          "author": "Exp_iML1515",
          "normalized_error": 0.3989543061655663,
          "sample_id": "pfkB"
         },
         {
          "author": "Khodayari",
          "normalized_error": 1.002182576505714,
          "sample_id": "pfkB"
         },
         {
          "author": "Kurata",
          "normalized_error": 0.37141009752511944,
          "sample_id": "pfkB"
         },
         {
          "author": "Millard",
          "normalized_error": 0.999592443847469,
          "sample_id": "pfkB"
         },
         {
          "author": "iML1515",
          "normalized_error": 1.0766180153114204,
          "sample_id": "pfkB"
         },
         {
          "author": "Chassagnole",
          "normalized_error": 0.3085617999115607,
          "sample_id": "pgi"
         },
         {
          "author": "ECC2",
          "normalized_error": 0.27776148585979954,
          "sample_id": "pgi"
         },
         {
          "author": "Ec_core",
          "normalized_error": 1.0979144821052635,
          "sample_id": "pgi"
         },
         {
          "author": "Exp_ECC2",
          "normalized_error": 0.3840912708685231,
          "sample_id": "pgi"
         },
         {
          "author": "Exp_iML1515",
          "normalized_error": 0.5039885581675845,
          "sample_id": "pgi"
         },
         {
          "author": "Khodayari",
          "normalized_error": 0.8624790934912729,
          "sample_id": "pgi"
         },
         {
          "author": "Kurata",
          "normalized_error": 0.29792112501371143,
          "sample_id": "pgi"
         },
         {
          "author": "Millard",
          "normalized_error": 0.3949455543477427,
          "sample_id": "pgi"
         },
         {
          "author": "iML1515",
          "normalized_error": 1.0958721716354627,
          "sample_id": "pgi"
         },
         {
          "author": "ECC2",
          "normalized_error": 0.19542438424763098,
          "sample_id": "pgl"
         },
         {
          "author": "Ec_core",
          "normalized_error": 1.0791972514760697,
          "sample_id": "pgl"
         },
         {
          "author": "Exp_ECC2",
          "normalized_error": 0.13709954659567952,
          "sample_id": "pgl"
         },
         {
          "author": "Exp_iML1515",
          "normalized_error": 0.14310704766214005,
          "sample_id": "pgl"
         },
         {
          "author": "Khodayari",
          "normalized_error": 1.0017097097011909,
          "sample_id": "pgl"
         },
         {
          "author": "Kurata",
          "normalized_error": 0.999995382896664,
          "sample_id": "pgl"
         },
         {
          "author": "Millard",
          "normalized_error": 0.17911124846450915,
          "sample_id": "pgl"
         },
         {
          "author": "iML1515",
          "normalized_error": 1.0495101990377254,
          "sample_id": "pgl"
         },
         {
          "author": "ECC2",
          "normalized_error": 0.31060290207934577,
          "sample_id": "ppsA"
         },
         {
          "author": "Ec_core",
          "normalized_error": 1.0756204207773663,
          "sample_id": "ppsA"
         },
         {
          "author": "Exp_ECC2",
          "normalized_error": 0.1444341755055809,
          "sample_id": "ppsA"
         },
         {
          "author": "Exp_iML1515",
          "normalized_error": 0.1256660601539785,
          "sample_id": "ppsA"
         },
         {
          "author": "Khodayari",
          "normalized_error": 1.0698109791920323,
          "sample_id": "ppsA"
         },
         {
          "author": "Kurata",
          "normalized_error": 0.26240604514589344,
          "sample_id": "ppsA"
         },
         {
          "author": "Millard",
          "normalized_error": 0.12839166050307943,
          "sample_id": "ppsA"
         },
         {
          "author": "iML1515",
          "normalized_error": 1.0459308047992146,
          "sample_id": "ppsA"
         },
         {
          "author": "ECC2",
          "normalized_error": 0.3545983616584721,
          "sample_id": "pykA"
         },
         {
          "author": "Ec_core",
          "normalized_error": 1.0753003238642147,
          "sample_id": "pykA"
         },
         {
          "author": "Exp_ECC2",
          "normalized_error": 0.23530124807472808,
          "sample_id": "pykA"
         },
         {
          "author": "Exp_iML1515",
          "normalized_error": 0.18103497468895663,
          "sample_id": "pykA"
         },
         {
          "author": "Khodayari",
          "normalized_error": 0.9869846645907149,
          "sample_id": "pykA"
         },
         {
          "author": "Kurata",
          "normalized_error": 0.3832344161118959,
          "sample_id": "pykA"
         },
         {
          "author": "Millard",
          "normalized_error": 0.20224995322436526,
          "sample_id": "pykA"
         },
         {
          "author": "iML1515",
          "normalized_error": 1.0273473187242415,
          "sample_id": "pykA"
         },
         {
          "author": "ECC2",
          "normalized_error": 0.3266191011595933,
          "sample_id": "pykF"
         },
         {
          "author": "Ec_core",
          "normalized_error": 1.0868741119482057,
          "sample_id": "pykF"
         },
         {
          "author": "Exp_ECC2",
          "normalized_error": 0.3372841385326469,
          "sample_id": "pykF"
         },
         {
          "author": "Exp_iML1515",
          "normalized_error": 0.28193519836856784,
          "sample_id": "pykF"
         },
         {
          "author": "Khodayari",
          "normalized_error": 0.9768911336579398,
          "sample_id": "pykF"
         },
         {
          "author": "Kurata",
          "normalized_error": 0.3243663373075624,
          "sample_id": "pykF"
         },
         {
          "author": "Millard",
          "normalized_error": 0.2293658290235137,
          "sample_id": "pykF"
         },
         {
          "author": "iML1515",
          "normalized_error": 1.041381473456759,
          "sample_id": "pykF"
         },
         {
          "author": "Chassagnole",
          "normalized_error": 0.3180540183260553,
          "sample_id": "rpe"
         },
         {
          "author": "ECC2",
          "normalized_error": 0.417945459932233,
          "sample_id": "rpe"
         },
         {
          "author": "Ec_core",
          "normalized_error": 1.0122328675055563,
          "sample_id": "rpe"
         },
         {
          "author": "Exp_ECC2",
          "normalized_error": 0.14098133858643092,
          "sample_id": "rpe"
         },
         {
          "author": "Exp_iML1515",
          "normalized_error": 0.14640836515169833,
          "sample_id": "rpe"
         },
         {
          "author": "Khodayari",
          "normalized_error": 0.9648636650564775,
          "sample_id": "rpe"
         },
         {
          "author": "Kurata",
          "normalized_error": 0.99999795546291,
          "sample_id": "rpe"
         },
         {
          "author": "Millard",
          "normalized_error": 0.14119167100626545,
          "sample_id": "rpe"
         },
         {
          "author": "iML1515",
          "normalized_error": 0.9833325891968806,
          "sample_id": "rpe"
         },
         {
          "author": "Chassagnole",
          "normalized_error": 0.2494717721390048,
          "sample_id": "rpiA"
         },
         {
          "author": "Exp_iML1515",
          "normalized_error": 0.6562287622187654,
          "sample_id": "rpiA"
         },
         {
          "author": "Khodayari",
          "normalized_error": 0.7846071477436038,
          "sample_id": "rpiA"
         },
         {
          "author": "Kurata",
          "normalized_error": 0.3686751976606237,
          "sample_id": "rpiA"
         },
         {
          "author": "Millard",
          "normalized_error": 0.2283480287039231,
          "sample_id": "rpiA"
         },
         {
          "author": "iML1515",
          "normalized_error": 0.9748288356146313,
          "sample_id": "rpiA"
         },
         {
          "author": "Chassagnole",
          "normalized_error": 0.27837019378182054,
          "sample_id": "rpiB"
         },
         {
          "author": "Exp_iML1515",
          "normalized_error": 0.688956198855452,
          "sample_id": "rpiB"
         },
         {
          "author": "Khodayari",
          "normalized_error": 0.7838467420732788,
          "sample_id": "rpiB"
         },
         {
          "author": "Kurata",
          "normalized_error": 0.3526444768821555,
          "sample_id": "rpiB"
         },
         {
          "author": "Millard",
          "normalized_error": 0.3093615012158643,
          "sample_id": "rpiB"
         },
         {
          "author": "iML1515",
          "normalized_error": 0.9885374709958511,
          "sample_id": "rpiB"
         },
         {
          "author": "Chassagnole",
          "normalized_error": 0.22581846999529073,
          "sample_id": "talA"
         },
         {
          "author": "ECC2",
          "normalized_error": 0.32998298436892765,
          "sample_id": "talA"
         },
         {
          "author": "Ec_core",
          "normalized_error": 1.0880651588268648,
          "sample_id": "talA"
         },
         {
          "author": "Exp_ECC2",
          "normalized_error": 0.07548526807062417,
          "sample_id": "talA"
         },
         {
          "author": "Exp_iML1515",
          "normalized_error": 0.08966697051470582,
          "sample_id": "talA"
         },
         {
          "author": "Khodayari",
          "normalized_error": 1.0166953804182497,
          "sample_id": "talA"
         },
         {
          "author": "Kurata",
          "normalized_error": 0.41061529645926703,
          "sample_id": "talA"
         },
         {
          "author": "iML1515",
          "normalized_error": 1.0303580087744417,
          "sample_id": "talA"
         },
         {
          "author": "Chassagnole",
          "normalized_error": 0.23506307750726624,
          "sample_id": "talB"
         },
         {
          "author": "Kurata",
          "normalized_error": 0.4141573361884104,
          "sample_id": "talB"
         },
         {
          "author": "ECC2",
          "normalized_error": 0.33395681970512453,
          "sample_id": "tktA"
         },
         {
          "author": "Ec_core",
          "normalized_error": 1.0713335778417583,
          "sample_id": "tktA"
         },
         {
          "author": "Exp_ECC2",
          "normalized_error": 0.09043328703040321,
          "sample_id": "tktA"
         },
         {
          "author": "Exp_iML1515",
          "normalized_error": 0.10771865079028316,
          "sample_id": "tktA"
         },
         {
          "author": "Khodayari",
          "normalized_error": 1.0003930098015674,
          "sample_id": "tktA"
         },
         {
          "author": "Kurata",
          "normalized_error": 0.40958240377817995,
          "sample_id": "tktA"
         },
         {
          "author": "iML1515",
          "normalized_error": 1.0113661177112208,
          "sample_id": "tktA"
         },
         {
          "author": "ECC2",
          "normalized_error": 0.3363397862884951,
          "sample_id": "tktB"
         },
         {
          "author": "Ec_core",
          "normalized_error": 1.0805659536438994,
          "sample_id": "tktB"
         },
         {
          "author": "Exp_ECC2",
          "normalized_error": 0.07635529562054169,
          "sample_id": "tktB"
         },
         {
          "author": "Exp_iML1515",
          "normalized_error": 0.08087783282270378,
          "sample_id": "tktB"
         },
         {
          "author": "Khodayari",
          "normalized_error": 1.0089492468649381,
          "sample_id": "tktB"
         },
         {
          "author": "Kurata",
          "normalized_error": 0.4147447964525004,
          "sample_id": "tktB"
         },
         {
          "author": "iML1515",
          "normalized_error": 1.0210443173605117,
          "sample_id": "tktB"
         },
         {
          "author": "Chassagnole",
          "normalized_error": 0.30090761840943503,
          "sample_id": "zwf"
         },
         {
          "author": "ECC2",
          "normalized_error": 0.2168063953772368,
          "sample_id": "zwf"
         },
         {
          "author": "Ec_core",
          "normalized_error": 1.0059671194674642,
          "sample_id": "zwf"
         },
         {
          "author": "Exp_ECC2",
          "normalized_error": 0.12377291062213605,
          "sample_id": "zwf"
         },
         {
          "author": "Exp_iML1515",
          "normalized_error": 0.13646837603072084,
          "sample_id": "zwf"
         },
         {
          "author": "Khodayari",
          "normalized_error": 0.7407335929722536,
          "sample_id": "zwf"
         },
         {
          "author": "Kurata",
          "normalized_error": 0.3645612741366208,
          "sample_id": "zwf"
         },
         {
          "author": "Millard",
          "normalized_error": 0.11619364424445439,
          "sample_id": "zwf"
         },
         {
          "author": "iML1515",
          "normalized_error": 0.9951696729730131,
          "sample_id": "zwf"
         }
        ]
       },
       "encoding": {
        "color": {
         "condition": {
          "field": "author",
          "selection": "selector005",
          "sort": [
           "Khodayari",
           "Kurata",
           "Millard",
           "iML1515",
           "Chassagnole"
          ],
          "type": "nominal"
         },
         "value": "lightgray"
        },
        "size": {
         "condition": {
          "selection": "selector005",
          "value": 100
         },
         "value": 40
        },
        "tooltip": [
         {
          "field": "author",
          "type": "nominal"
         },
         {
          "field": "sample_id",
          "type": "nominal"
         },
         {
          "field": "normalized_error",
          "type": "quantitative"
         }
        ],
        "x": {
         "field": "author",
         "sort": [
          "Khodayari",
          "Kurata",
          "Millard",
          "iML1515",
          "Chassagnole"
         ],
         "type": "nominal"
        },
        "y": {
         "field": "normalized_error",
         "title": "Normalized error",
         "type": "quantitative"
        }
       },
       "height": 500,
       "mark": {
        "fillOpacity": 0.3,
        "type": "circle"
       },
       "selection": {
        "selector005": {
         "empty": "all",
         "fields": [
          "sample_id"
         ],
         "on": "click",
         "resolve": "global",
         "type": "single"
        }
       },
       "title": "Normalized error knockout simulations, reduced set of fluxes",
       "width": 600
      },
      "image/png": "[encoded data removed]",
      "text/plain": [
       "<VegaLite 2 object>\n",
       "\n",
       "If you see this message, it means the renderer has not been properly enabled\n",
       "for the frontend that you are using. For more information, see\n",
       "https://altair-viz.github.io/user_guide/troubleshooting.html\n"
      ]
     },
     "execution_count": 48,
     "metadata": {},
     "output_type": "execute_result"
    }
   ],
   "source": [
    "reduced_selector = alt.selection_single(empty=\"all\", fields=[\"sample_id\"])\n",
    "reduced_color = alt.condition(\n",
    "    reduced_selector,\n",
    "    alt.Color(\n",
    "        \"author:N\", sort=[\"Khodayari\", \"Kurata\", \"Millard\", \"iML1515\", \"Chassagnole\"]\n",
    "    ),\n",
    "    alt.value(\"lightgray\"),\n",
    ")\n",
    "reduced_size = alt.condition(reduced_selector, alt.SizeValue(100), alt.SizeValue(40))\n",
    "\n",
    "\n",
    "base = alt.Chart(\n",
    "    reduced_errors.query(\"author != 'Ishii'\"),\n",
    "    title=\"Normalized error knockout simulations, reduced set of fluxes\",\n",
    ")\n",
    "\n",
    "\n",
    "# put errors for each dataset as datapoints\n",
    "dots = (\n",
    "    base.mark_circle(fillOpacity=0.3)\n",
    "    .encode(\n",
    "        y=alt.Y(\"normalized_error\", title=\"Normalized error\"),\n",
    "        color=reduced_color,\n",
    "        tooltip=[\"author\", \"sample_id\", \"normalized_error\"],\n",
    "        x=alt.X(\n",
    "            \"author\", sort=[\"Khodayari\", \"Kurata\", \"Millard\", \"iML1515\", \"Chassagnole\"]\n",
    "        ),\n",
    "        size=reduced_size,\n",
    "    )\n",
    "    .add_selection(reduced_selector)\n",
    ")\n",
    "\n",
    "\n",
    "dots.properties(width=600, height=500).configure_axis(\n",
    "    labelFontSize=20, titleFontSize=24\n",
    ").configure_legend(labelFontSize=16, titleFontSize=20)"
   ]
  },
  {
   "cell_type": "markdown",
   "metadata": {},
   "source": [
    "# Export the data"
   ]
  },
  {
   "cell_type": "code",
   "execution_count": 42,
   "metadata": {},
   "outputs": [],
   "source": [
    "path = data_path / \"processed\"\n",
    "path.mkdir(parents=True, exist_ok=True)\n",
    "selected_data.to_csv(path / \"knockouts.csv\")"
   ]
  },
  {
   "cell_type": "code",
   "execution_count": 43,
   "metadata": {},
   "outputs": [],
   "source": [
    "normalized_errors.to_csv(data_path / \"processed\" / \"normalized_errors.csv\")"
   ]
  },
  {
   "cell_type": "code",
   "execution_count": 45,
   "metadata": {},
   "outputs": [
    {
     "data": {
      "text/plain": [
       "Ishii          22\n",
       "Kurata         20\n",
       "Exp_iML1515    19\n",
       "Khodayari      18\n",
       "iML1515        18\n",
       "Exp_ECC2       17\n",
       "ECC2           17\n",
       "Ec_core        16\n",
       "Millard        15\n",
       "Name: author, dtype: int64"
      ]
     },
     "execution_count": 45,
     "metadata": {},
     "output_type": "execute_result"
    }
   ],
   "source": [
    "normalized_errors.author.value_counts()"
   ]
  }
 ],
 "metadata": {
  "kernelspec": {
   "display_name": "dataml-conda",
   "language": "python",
   "name": "dataml-conda"
  },
  "language_info": {
   "codemirror_mode": {
    "name": "ipython",
    "version": 3
   },
   "file_extension": ".py",
   "mimetype": "text/x-python",
   "name": "python",
   "nbconvert_exporter": "python",
   "pygments_lexer": "ipython3",
   "version": "3.6.6"
  }
 },
 "nbformat": 4,
 "nbformat_minor": 2
}
