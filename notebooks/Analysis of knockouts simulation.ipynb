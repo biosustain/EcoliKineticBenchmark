{
 "cells": [
  {
   "cell_type": "code",
   "execution_count": 1,
   "metadata": {},
   "outputs": [],
   "source": [
    "import numpy as np\n",
    "import pandas as pd\n",
    "import xarray as xr\n",
    "\n",
    "from pathlib import Path\n",
    "\n",
    "import altair as alt\n",
    "from altair.expr import datum"
   ]
  },
  {
   "cell_type": "code",
   "execution_count": 2,
   "metadata": {},
   "outputs": [],
   "source": [
    "%load_ext watermark"
   ]
  },
  {
   "cell_type": "code",
   "execution_count": 3,
   "metadata": {},
   "outputs": [
    {
     "name": "stdout",
     "output_type": "stream",
     "text": [
      "altair    3.0.1\n",
      "numpy     1.16.3\n",
      "pandas    0.24.2\n",
      "xarray    0.12.0\n",
      "\n"
     ]
    }
   ],
   "source": [
    "%watermark --iversions"
   ]
  },
  {
   "cell_type": "markdown",
   "metadata": {},
   "source": [
    "# 0. Utility functions"
   ]
  },
  {
   "cell_type": "code",
   "execution_count": 4,
   "metadata": {},
   "outputs": [],
   "source": [
    "from utils.load import load_ko_data\n",
    "from utils.calculate_metrics import (process_data, relative_errors, summary_errors)"
   ]
  },
  {
   "cell_type": "markdown",
   "metadata": {},
   "source": [
    "# 1. Load the simulation data"
   ]
  },
  {
   "cell_type": "code",
   "execution_count": 5,
   "metadata": {},
   "outputs": [],
   "source": [
    "ko_df, debug_info = load_ko_data()"
   ]
  },
  {
   "cell_type": "code",
   "execution_count": 6,
   "metadata": {},
   "outputs": [
    {
     "data": {
      "text/html": [
       "<div>\n",
       "<style scoped>\n",
       "    .dataframe tbody tr th:only-of-type {\n",
       "        vertical-align: middle;\n",
       "    }\n",
       "\n",
       "    .dataframe tbody tr th {\n",
       "        vertical-align: top;\n",
       "    }\n",
       "\n",
       "    .dataframe thead th {\n",
       "        text-align: right;\n",
       "    }\n",
       "</style>\n",
       "<table border=\"1\" class=\"dataframe\">\n",
       "  <thead>\n",
       "    <tr style=\"text-align: right;\">\n",
       "      <th></th>\n",
       "      <th>flux</th>\n",
       "      <th>ID</th>\n",
       "      <th>BiGG_ID</th>\n",
       "      <th>author</th>\n",
       "      <th>sample_id</th>\n",
       "      <th>normalized_flux</th>\n",
       "    </tr>\n",
       "  </thead>\n",
       "  <tbody>\n",
       "    <tr>\n",
       "      <th>0</th>\n",
       "      <td>-0.059225</td>\n",
       "      <td>ACALD</td>\n",
       "      <td>ACALD</td>\n",
       "      <td>Khodayari</td>\n",
       "      <td>fbaA</td>\n",
       "      <td>-0.059127</td>\n",
       "    </tr>\n",
       "    <tr>\n",
       "      <th>1</th>\n",
       "      <td>-0.004108</td>\n",
       "      <td>ACALDtpp_ex</td>\n",
       "      <td>composed of ACALDtex and ACALDtpp</td>\n",
       "      <td>Khodayari</td>\n",
       "      <td>fbaA</td>\n",
       "      <td>-0.004101</td>\n",
       "    </tr>\n",
       "    <tr>\n",
       "      <th>2</th>\n",
       "      <td>0.000028</td>\n",
       "      <td>ACKr</td>\n",
       "      <td>ACKr</td>\n",
       "      <td>Khodayari</td>\n",
       "      <td>fbaA</td>\n",
       "      <td>0.000028</td>\n",
       "    </tr>\n",
       "    <tr>\n",
       "      <th>3</th>\n",
       "      <td>94.519769</td>\n",
       "      <td>ACONTa</td>\n",
       "      <td>ACONTa</td>\n",
       "      <td>Khodayari</td>\n",
       "      <td>fbaA</td>\n",
       "      <td>94.364274</td>\n",
       "    </tr>\n",
       "    <tr>\n",
       "      <th>4</th>\n",
       "      <td>94.276304</td>\n",
       "      <td>ACONTb</td>\n",
       "      <td>ACONTb</td>\n",
       "      <td>Khodayari</td>\n",
       "      <td>fbaA</td>\n",
       "      <td>94.121209</td>\n",
       "    </tr>\n",
       "  </tbody>\n",
       "</table>\n",
       "</div>"
      ],
      "text/plain": [
       "        flux           ID                            BiGG_ID     author  \\\n",
       "0  -0.059225        ACALD                              ACALD  Khodayari   \n",
       "1  -0.004108  ACALDtpp_ex  composed of ACALDtex and ACALDtpp  Khodayari   \n",
       "2   0.000028         ACKr                               ACKr  Khodayari   \n",
       "3  94.519769       ACONTa                             ACONTa  Khodayari   \n",
       "4  94.276304       ACONTb                             ACONTb  Khodayari   \n",
       "\n",
       "  sample_id  normalized_flux  \n",
       "0      fbaA        -0.059127  \n",
       "1      fbaA        -0.004101  \n",
       "2      fbaA         0.000028  \n",
       "3      fbaA        94.364274  \n",
       "4      fbaA        94.121209  "
      ]
     },
     "execution_count": 6,
     "metadata": {},
     "output_type": "execute_result"
    }
   ],
   "source": [
    "ko_df.head()"
   ]
  },
  {
   "cell_type": "markdown",
   "metadata": {},
   "source": [
    "### Preprocess data"
   ]
  },
  {
   "cell_type": "code",
   "execution_count": 8,
   "metadata": {},
   "outputs": [],
   "source": [
    "xdf = process_data(ko_df, author=\"Ishii\")"
   ]
  },
  {
   "cell_type": "markdown",
   "metadata": {},
   "source": [
    "# 2. Calculate error metrics"
   ]
  },
  {
   "cell_type": "code",
   "execution_count": 9,
   "metadata": {},
   "outputs": [],
   "source": [
    "x_rel_error = relative_errors(xdf, author=\"Ishii\")"
   ]
  },
  {
   "cell_type": "code",
   "execution_count": 10,
   "metadata": {},
   "outputs": [],
   "source": [
    "x_norm_error = summary_errors(xdf, author=\"Ishii\")"
   ]
  },
  {
   "cell_type": "markdown",
   "metadata": {
    "toc-hr-collapsed": false
   },
   "source": [
    "# 3. Visualize"
   ]
  },
  {
   "cell_type": "markdown",
   "metadata": {},
   "source": [
    "### Summary normalized error for the models"
   ]
  },
  {
   "cell_type": "code",
   "execution_count": 11,
   "metadata": {},
   "outputs": [
    {
     "data": {
      "application/vnd.vegalite.v3+json": {
       "$schema": "https://vega.github.io/schema/vega-lite/v3.2.1.json",
       "config": {
        "invalidValues": null,
        "mark": {
         "tooltip": null
        },
        "view": {
         "height": 300,
         "width": 400
        }
       },
       "data": {
        "name": "data-5029eab5c22ce61afa3f8487d28a07f0"
       },
       "datasets": {
        "data-5029eab5c22ce61afa3f8487d28a07f0": [
         {
          "author": "Chassagnole",
          "normalized_error": null,
          "sample_id": "WT",
          "unnormalized_error": null
         },
         {
          "author": "Chassagnole",
          "normalized_error": null,
          "sample_id": "fbaA",
          "unnormalized_error": null
         },
         {
          "author": "Chassagnole",
          "normalized_error": null,
          "sample_id": "fbaB",
          "unnormalized_error": null
         },
         {
          "author": "Chassagnole",
          "normalized_error": null,
          "sample_id": "fbp",
          "unnormalized_error": null
         },
         {
          "author": "Chassagnole",
          "normalized_error": null,
          "sample_id": "glk",
          "unnormalized_error": null
         },
         {
          "author": "Chassagnole",
          "normalized_error": null,
          "sample_id": "gnd",
          "unnormalized_error": null
         },
         {
          "author": "Chassagnole",
          "normalized_error": null,
          "sample_id": "gpmA",
          "unnormalized_error": null
         },
         {
          "author": "Chassagnole",
          "normalized_error": null,
          "sample_id": "gpmB",
          "unnormalized_error": null
         },
         {
          "author": "Chassagnole",
          "normalized_error": null,
          "sample_id": "pfkA",
          "unnormalized_error": null
         },
         {
          "author": "Chassagnole",
          "normalized_error": null,
          "sample_id": "pfkB",
          "unnormalized_error": null
         },
         {
          "author": "Chassagnole",
          "normalized_error": null,
          "sample_id": "pgi",
          "unnormalized_error": null
         },
         {
          "author": "Chassagnole",
          "normalized_error": null,
          "sample_id": "pgl",
          "unnormalized_error": null
         },
         {
          "author": "Chassagnole",
          "normalized_error": null,
          "sample_id": "pgm",
          "unnormalized_error": null
         },
         {
          "author": "Chassagnole",
          "normalized_error": null,
          "sample_id": "ppc",
          "unnormalized_error": null
         },
         {
          "author": "Chassagnole",
          "normalized_error": null,
          "sample_id": "ppsA",
          "unnormalized_error": null
         },
         {
          "author": "Chassagnole",
          "normalized_error": null,
          "sample_id": "pts",
          "unnormalized_error": null
         },
         {
          "author": "Chassagnole",
          "normalized_error": null,
          "sample_id": "pykA",
          "unnormalized_error": null
         },
         {
          "author": "Chassagnole",
          "normalized_error": null,
          "sample_id": "pykAF",
          "unnormalized_error": null
         },
         {
          "author": "Chassagnole",
          "normalized_error": null,
          "sample_id": "pykF",
          "unnormalized_error": null
         },
         {
          "author": "Chassagnole",
          "normalized_error": null,
          "sample_id": "rpe",
          "unnormalized_error": null
         },
         {
          "author": "Chassagnole",
          "normalized_error": null,
          "sample_id": "rpiA",
          "unnormalized_error": null
         },
         {
          "author": "Chassagnole",
          "normalized_error": null,
          "sample_id": "rpiB",
          "unnormalized_error": null
         },
         {
          "author": "Chassagnole",
          "normalized_error": null,
          "sample_id": "sdhCD",
          "unnormalized_error": null
         },
         {
          "author": "Chassagnole",
          "normalized_error": null,
          "sample_id": "sucA",
          "unnormalized_error": null
         },
         {
          "author": "Chassagnole",
          "normalized_error": null,
          "sample_id": "sucAB",
          "unnormalized_error": null
         },
         {
          "author": "Chassagnole",
          "normalized_error": null,
          "sample_id": "talA",
          "unnormalized_error": null
         },
         {
          "author": "Chassagnole",
          "normalized_error": null,
          "sample_id": "talAB",
          "unnormalized_error": null
         },
         {
          "author": "Chassagnole",
          "normalized_error": null,
          "sample_id": "talB",
          "unnormalized_error": null
         },
         {
          "author": "Chassagnole",
          "normalized_error": null,
          "sample_id": "tkt1",
          "unnormalized_error": null
         },
         {
          "author": "Chassagnole",
          "normalized_error": null,
          "sample_id": "tkt2",
          "unnormalized_error": null
         },
         {
          "author": "Chassagnole",
          "normalized_error": null,
          "sample_id": "tktA",
          "unnormalized_error": null
         },
         {
          "author": "Chassagnole",
          "normalized_error": null,
          "sample_id": "tktB",
          "unnormalized_error": null
         },
         {
          "author": "Chassagnole",
          "normalized_error": null,
          "sample_id": "tpi",
          "unnormalized_error": null
         },
         {
          "author": "Chassagnole",
          "normalized_error": null,
          "sample_id": "zwf",
          "unnormalized_error": null
         },
         {
          "author": "ECC2",
          "normalized_error": 0.5876720845612964,
          "sample_id": "WT",
          "unnormalized_error": 221.56036464654258
         },
         {
          "author": "ECC2",
          "normalized_error": null,
          "sample_id": "fbaA",
          "unnormalized_error": null
         },
         {
          "author": "ECC2",
          "normalized_error": 0.7233177182826556,
          "sample_id": "fbaB",
          "unnormalized_error": 264.5464718681539
         },
         {
          "author": "ECC2",
          "normalized_error": 0.5899630172105623,
          "sample_id": "fbp",
          "unnormalized_error": 224.84480544025612
         },
         {
          "author": "ECC2",
          "normalized_error": null,
          "sample_id": "glk",
          "unnormalized_error": null
         },
         {
          "author": "ECC2",
          "normalized_error": 0.6259450844705894,
          "sample_id": "gnd",
          "unnormalized_error": 272.15585523192925
         },
         {
          "author": "ECC2",
          "normalized_error": 0.9192326897941696,
          "sample_id": "gpmA",
          "unnormalized_error": 339.3313577266987
         },
         {
          "author": "ECC2",
          "normalized_error": null,
          "sample_id": "gpmB",
          "unnormalized_error": null
         },
         {
          "author": "ECC2",
          "normalized_error": 0.7426841498010143,
          "sample_id": "pfkA",
          "unnormalized_error": 276.7701942695837
         },
         {
          "author": "ECC2",
          "normalized_error": 0.6897188260853425,
          "sample_id": "pfkB",
          "unnormalized_error": 247.28223507398803
         },
         {
          "author": "ECC2",
          "normalized_error": 0.5425912433167559,
          "sample_id": "pgi",
          "unnormalized_error": 165.12701692206227
         },
         {
          "author": "ECC2",
          "normalized_error": 0.49889133374286365,
          "sample_id": "pgl",
          "unnormalized_error": 191.48850601089126
         },
         {
          "author": "ECC2",
          "normalized_error": null,
          "sample_id": "pgm",
          "unnormalized_error": null
         },
         {
          "author": "ECC2",
          "normalized_error": null,
          "sample_id": "ppc",
          "unnormalized_error": null
         },
         {
          "author": "ECC2",
          "normalized_error": 0.5936673103085628,
          "sample_id": "ppsA",
          "unnormalized_error": 222.05141499076942
         },
         {
          "author": "ECC2",
          "normalized_error": null,
          "sample_id": "pts",
          "unnormalized_error": null
         },
         {
          "author": "ECC2",
          "normalized_error": 0.5837431695606551,
          "sample_id": "pykA",
          "unnormalized_error": 217.8918636160582
         },
         {
          "author": "ECC2",
          "normalized_error": null,
          "sample_id": "pykAF",
          "unnormalized_error": null
         },
         {
          "author": "ECC2",
          "normalized_error": 0.5448792961705244,
          "sample_id": "pykF",
          "unnormalized_error": 192.33930438859767
         },
         {
          "author": "ECC2",
          "normalized_error": 0.6492392098640574,
          "sample_id": "rpe",
          "unnormalized_error": 285.0581588012279
         },
         {
          "author": "ECC2",
          "normalized_error": null,
          "sample_id": "rpiA",
          "unnormalized_error": null
         },
         {
          "author": "ECC2",
          "normalized_error": null,
          "sample_id": "rpiB",
          "unnormalized_error": null
         },
         {
          "author": "ECC2",
          "normalized_error": null,
          "sample_id": "sdhCD",
          "unnormalized_error": null
         },
         {
          "author": "ECC2",
          "normalized_error": null,
          "sample_id": "sucA",
          "unnormalized_error": null
         },
         {
          "author": "ECC2",
          "normalized_error": null,
          "sample_id": "sucAB",
          "unnormalized_error": null
         },
         {
          "author": "ECC2",
          "normalized_error": 0.5565266754649083,
          "sample_id": "talA",
          "unnormalized_error": 210.67309765185146
         },
         {
          "author": "ECC2",
          "normalized_error": null,
          "sample_id": "talAB",
          "unnormalized_error": null
         },
         {
          "author": "ECC2",
          "normalized_error": null,
          "sample_id": "talB",
          "unnormalized_error": null
         },
         {
          "author": "ECC2",
          "normalized_error": null,
          "sample_id": "tkt1",
          "unnormalized_error": null
         },
         {
          "author": "ECC2",
          "normalized_error": null,
          "sample_id": "tkt2",
          "unnormalized_error": null
         },
         {
          "author": "ECC2",
          "normalized_error": 0.6789433462595147,
          "sample_id": "tktA",
          "unnormalized_error": 306.15150784977436
         },
         {
          "author": "ECC2",
          "normalized_error": 0.5793488973251179,
          "sample_id": "tktB",
          "unnormalized_error": 226.45947312741185
         },
         {
          "author": "ECC2",
          "normalized_error": null,
          "sample_id": "tpi",
          "unnormalized_error": null
         },
         {
          "author": "ECC2",
          "normalized_error": 0.5316667676746469,
          "sample_id": "zwf",
          "unnormalized_error": 226.726424025984
         },
         {
          "author": "Exp_ECC2",
          "normalized_error": 0.060242918317285066,
          "sample_id": "WT",
          "unnormalized_error": 22.71239914299072
         },
         {
          "author": "Exp_ECC2",
          "normalized_error": null,
          "sample_id": "fbaA",
          "unnormalized_error": null
         },
         {
          "author": "Exp_ECC2",
          "normalized_error": 0.5571678503581048,
          "sample_id": "fbaB",
          "unnormalized_error": 203.7787618428019
         },
         {
          "author": "Exp_ECC2",
          "normalized_error": 0.11081836730195123,
          "sample_id": "fbp",
          "unnormalized_error": 42.234739311330465
         },
         {
          "author": "Exp_ECC2",
          "normalized_error": null,
          "sample_id": "glk",
          "unnormalized_error": null
         },
         {
          "author": "Exp_ECC2",
          "normalized_error": 0.1970213381672891,
          "sample_id": "gnd",
          "unnormalized_error": 85.66328279933497
         },
         {
          "author": "Exp_ECC2",
          "normalized_error": 0.9138084713123595,
          "sample_id": "gpmA",
          "unnormalized_error": 337.3290274761818
         },
         {
          "author": "Exp_ECC2",
          "normalized_error": null,
          "sample_id": "gpmB",
          "unnormalized_error": null
         },
         {
          "author": "Exp_ECC2",
          "normalized_error": 0.5818992827354977,
          "sample_id": "pfkA",
          "unnormalized_error": 216.85177685720848
         },
         {
          "author": "Exp_ECC2",
          "normalized_error": 0.5276056022021969,
          "sample_id": "pfkB",
          "unnormalized_error": 189.16040510393907
         },
         {
          "author": "Exp_ECC2",
          "normalized_error": 0.3690337439755065,
          "sample_id": "pgi",
          "unnormalized_error": 112.30819154720707
         },
         {
          "author": "Exp_ECC2",
          "normalized_error": 0.11989508870198069,
          "sample_id": "pgl",
          "unnormalized_error": 46.01910247937631
         },
         {
          "author": "Exp_ECC2",
          "normalized_error": null,
          "sample_id": "pgm",
          "unnormalized_error": null
         },
         {
          "author": "Exp_ECC2",
          "normalized_error": null,
          "sample_id": "ppc",
          "unnormalized_error": null
         },
         {
          "author": "Exp_ECC2",
          "normalized_error": 0.16703059552223495,
          "sample_id": "ppsA",
          "unnormalized_error": 62.47502504927495
         },
         {
          "author": "Exp_ECC2",
          "normalized_error": null,
          "sample_id": "pts",
          "unnormalized_error": null
         },
         {
          "author": "Exp_ECC2",
          "normalized_error": 0.23772528571054857,
          "sample_id": "pykA",
          "unnormalized_error": 88.73492356427323
         },
         {
          "author": "Exp_ECC2",
          "normalized_error": null,
          "sample_id": "pykAF",
          "unnormalized_error": null
         },
         {
          "author": "Exp_ECC2",
          "normalized_error": 0.339745948781891,
          "sample_id": "pykF",
          "unnormalized_error": 119.92839499833433
         },
         {
          "author": "Exp_ECC2",
          "normalized_error": 0.2098661035689538,
          "sample_id": "rpe",
          "unnormalized_error": 92.14484302431484
         },
         {
          "author": "Exp_ECC2",
          "normalized_error": null,
          "sample_id": "rpiA",
          "unnormalized_error": null
         },
         {
          "author": "Exp_ECC2",
          "normalized_error": null,
          "sample_id": "rpiB",
          "unnormalized_error": null
         },
         {
          "author": "Exp_ECC2",
          "normalized_error": null,
          "sample_id": "sdhCD",
          "unnormalized_error": null
         },
         {
          "author": "Exp_ECC2",
          "normalized_error": null,
          "sample_id": "sucA",
          "unnormalized_error": null
         },
         {
          "author": "Exp_ECC2",
          "normalized_error": null,
          "sample_id": "sucAB",
          "unnormalized_error": null
         },
         {
          "author": "Exp_ECC2",
          "normalized_error": 0.11858604012086008,
          "sample_id": "talA",
          "unnormalized_error": 44.890729432975085
         },
         {
          "author": "Exp_ECC2",
          "normalized_error": null,
          "sample_id": "talAB",
          "unnormalized_error": null
         },
         {
          "author": "Exp_ECC2",
          "normalized_error": null,
          "sample_id": "talB",
          "unnormalized_error": null
         },
         {
          "author": "Exp_ECC2",
          "normalized_error": null,
          "sample_id": "tkt1",
          "unnormalized_error": null
         },
         {
          "author": "Exp_ECC2",
          "normalized_error": null,
          "sample_id": "tkt2",
          "unnormalized_error": null
         },
         {
          "author": "Exp_ECC2",
          "normalized_error": 0.30283969920634574,
          "sample_id": "tktA",
          "unnormalized_error": 136.55753614728874
         },
         {
          "author": "Exp_ECC2",
          "normalized_error": 0.14575623950850902,
          "sample_id": "tktB",
          "unnormalized_error": 56.97409860712397
         },
         {
          "author": "Exp_ECC2",
          "normalized_error": null,
          "sample_id": "tpi",
          "unnormalized_error": null
         },
         {
          "author": "Exp_ECC2",
          "normalized_error": 0.14383043467881054,
          "sample_id": "zwf",
          "unnormalized_error": 61.33571271241341
         },
         {
          "author": "Exp_iML1515",
          "normalized_error": 0.07112087539571854,
          "sample_id": "WT",
          "unnormalized_error": 26.81353683563158
         },
         {
          "author": "Exp_iML1515",
          "normalized_error": null,
          "sample_id": "fbaA",
          "unnormalized_error": null
         },
         {
          "author": "Exp_iML1515",
          "normalized_error": 0.30623175453347923,
          "sample_id": "fbaB",
          "unnormalized_error": 112.00130756947485
         },
         {
          "author": "Exp_iML1515",
          "normalized_error": 0.1372516971586148,
          "sample_id": "fbp",
          "unnormalized_error": 52.30892487106427
         },
         {
          "author": "Exp_iML1515",
          "normalized_error": null,
          "sample_id": "glk",
          "unnormalized_error": null
         },
         {
          "author": "Exp_iML1515",
          "normalized_error": 0.15696932069740452,
          "sample_id": "gnd",
          "unnormalized_error": 68.24898985461135
         },
         {
          "author": "Exp_iML1515",
          "normalized_error": 0.44393043772560487,
          "sample_id": "gpmA",
          "unnormalized_error": 163.8752840734675
         },
         {
          "author": "Exp_iML1515",
          "normalized_error": null,
          "sample_id": "gpmB",
          "unnormalized_error": null
         },
         {
          "author": "Exp_iML1515",
          "normalized_error": 0.30111654815285693,
          "sample_id": "pfkA",
          "unnormalized_error": 112.21470870541913
         },
         {
          "author": "Exp_iML1515",
          "normalized_error": 0.36348780211391946,
          "sample_id": "pfkB",
          "unnormalized_error": 130.3198821453362
         },
         {
          "author": "Exp_iML1515",
          "normalized_error": 0.48113398597825763,
          "sample_id": "pgi",
          "unnormalized_error": 146.42370444233367
         },
         {
          "author": "Exp_iML1515",
          "normalized_error": 0.12500751281434586,
          "sample_id": "pgl",
          "unnormalized_error": 47.98139444389345
         },
         {
          "author": "Exp_iML1515",
          "normalized_error": null,
          "sample_id": "pgm",
          "unnormalized_error": null
         },
         {
          "author": "Exp_iML1515",
          "normalized_error": null,
          "sample_id": "ppc",
          "unnormalized_error": null
         },
         {
          "author": "Exp_iML1515",
          "normalized_error": 0.13983821236814103,
          "sample_id": "ppsA",
          "unnormalized_error": 52.304164953913855
         },
         {
          "author": "Exp_iML1515",
          "normalized_error": null,
          "sample_id": "pts",
          "unnormalized_error": null
         },
         {
          "author": "Exp_iML1515",
          "normalized_error": 0.16048900396147314,
          "sample_id": "pykA",
          "unnormalized_error": 59.90519458989023
         },
         {
          "author": "Exp_iML1515",
          "normalized_error": null,
          "sample_id": "pykAF",
          "unnormalized_error": null
         },
         {
          "author": "Exp_iML1515",
          "normalized_error": 0.28588913293078083,
          "sample_id": "pykF",
          "unnormalized_error": 100.91724414310809
         },
         {
          "author": "Exp_iML1515",
          "normalized_error": 0.1856657222742003,
          "sample_id": "rpe",
          "unnormalized_error": 81.51930465670058
         },
         {
          "author": "Exp_iML1515",
          "normalized_error": 0.6742300742465588,
          "sample_id": "rpiA",
          "unnormalized_error": 258.06546930885435
         },
         {
          "author": "Exp_iML1515",
          "normalized_error": 0.7124519133846259,
          "sample_id": "rpiB",
          "unnormalized_error": 296.80869842739764
         },
         {
          "author": "Exp_iML1515",
          "normalized_error": null,
          "sample_id": "sdhCD",
          "unnormalized_error": null
         },
         {
          "author": "Exp_iML1515",
          "normalized_error": null,
          "sample_id": "sucA",
          "unnormalized_error": null
         },
         {
          "author": "Exp_iML1515",
          "normalized_error": null,
          "sample_id": "sucAB",
          "unnormalized_error": null
         },
         {
          "author": "Exp_iML1515",
          "normalized_error": 0.1064327120170791,
          "sample_id": "talA",
          "unnormalized_error": 40.29008872466768
         },
         {
          "author": "Exp_iML1515",
          "normalized_error": null,
          "sample_id": "talAB",
          "unnormalized_error": null
         },
         {
          "author": "Exp_iML1515",
          "normalized_error": null,
          "sample_id": "talB",
          "unnormalized_error": null
         },
         {
          "author": "Exp_iML1515",
          "normalized_error": null,
          "sample_id": "tkt1",
          "unnormalized_error": null
         },
         {
          "author": "Exp_iML1515",
          "normalized_error": null,
          "sample_id": "tkt2",
          "unnormalized_error": null
         },
         {
          "author": "Exp_iML1515",
          "normalized_error": 0.26679772737674506,
          "sample_id": "tktA",
          "unnormalized_error": 120.3053641769729
         },
         {
          "author": "Exp_iML1515",
          "normalized_error": 0.11818102938250942,
          "sample_id": "tktB",
          "unnormalized_error": 46.19533025985779
         },
         {
          "author": "Exp_iML1515",
          "normalized_error": null,
          "sample_id": "tpi",
          "unnormalized_error": null
         },
         {
          "author": "Exp_iML1515",
          "normalized_error": 0.14164927942769256,
          "sample_id": "zwf",
          "unnormalized_error": 60.40557082580578
         },
         {
          "author": "Khodayari",
          "normalized_error": 0.8443462266016944,
          "sample_id": "WT",
          "unnormalized_error": 318.33000540336405
         },
         {
          "author": "Khodayari",
          "normalized_error": null,
          "sample_id": "fbaA",
          "unnormalized_error": null
         },
         {
          "author": "Khodayari",
          "normalized_error": 0.893837064342593,
          "sample_id": "fbaB",
          "unnormalized_error": 326.9122763344468
         },
         {
          "author": "Khodayari",
          "normalized_error": 0.8452643841197597,
          "sample_id": "fbp",
          "unnormalized_error": 322.1444403271024
         },
         {
          "author": "Khodayari",
          "normalized_error": null,
          "sample_id": "glk",
          "unnormalized_error": null
         },
         {
          "author": "Khodayari",
          "normalized_error": 0.6862229055052202,
          "sample_id": "gnd",
          "unnormalized_error": 298.36416382352417
         },
         {
          "author": "Khodayari",
          "normalized_error": null,
          "sample_id": "gpmA",
          "unnormalized_error": null
         },
         {
          "author": "Khodayari",
          "normalized_error": null,
          "sample_id": "gpmB",
          "unnormalized_error": null
         },
         {
          "author": "Khodayari",
          "normalized_error": 0.8600227252000099,
          "sample_id": "pfkA",
          "unnormalized_error": 320.49782776923144
         },
         {
          "author": "Khodayari",
          "normalized_error": 0.8957185152018127,
          "sample_id": "pfkB",
          "unnormalized_error": 321.1385104469389
         },
         {
          "author": "Khodayari",
          "normalized_error": 0.7744289912260521,
          "sample_id": "pgi",
          "unnormalized_error": 235.68229438687453
         },
         {
          "author": "Khodayari",
          "normalized_error": 0.8582715747688802,
          "sample_id": "pgl",
          "unnormalized_error": 329.42873625625236
         },
         {
          "author": "Khodayari",
          "normalized_error": null,
          "sample_id": "pgm",
          "unnormalized_error": null
         },
         {
          "author": "Khodayari",
          "normalized_error": null,
          "sample_id": "ppc",
          "unnormalized_error": null
         },
         {
          "author": "Khodayari",
          "normalized_error": 0.9086748426605927,
          "sample_id": "ppsA",
          "unnormalized_error": 339.87475994665544
         },
         {
          "author": "Khodayari",
          "normalized_error": null,
          "sample_id": "pts",
          "unnormalized_error": null
         },
         {
          "author": "Khodayari",
          "normalized_error": 0.8579214725742668,
          "sample_id": "pykA",
          "unnormalized_error": 320.2334832219671
         },
         {
          "author": "Khodayari",
          "normalized_error": null,
          "sample_id": "pykAF",
          "unnormalized_error": null
         },
         {
          "author": "Khodayari",
          "normalized_error": 0.8799312130030915,
          "sample_id": "pykF",
          "unnormalized_error": 310.61073270411595
         },
         {
          "author": "Khodayari",
          "normalized_error": 0.7917947890154502,
          "sample_id": "rpe",
          "unnormalized_error": 347.6493121116503
         },
         {
          "author": "Khodayari",
          "normalized_error": 0.6417771548781731,
          "sample_id": "rpiA",
          "unnormalized_error": 245.64392629684355
         },
         {
          "author": "Khodayari",
          "normalized_error": 0.6267728058000724,
          "sample_id": "rpiB",
          "unnormalized_error": 261.11463413078957
         },
         {
          "author": "Khodayari",
          "normalized_error": null,
          "sample_id": "sdhCD",
          "unnormalized_error": null
         },
         {
          "author": "Khodayari",
          "normalized_error": null,
          "sample_id": "sucA",
          "unnormalized_error": null
         },
         {
          "author": "Khodayari",
          "normalized_error": null,
          "sample_id": "sucAB",
          "unnormalized_error": null
         },
         {
          "author": "Khodayari",
          "normalized_error": 0.8748932923466883,
          "sample_id": "talA",
          "unnormalized_error": 331.19073737037024
         },
         {
          "author": "Khodayari",
          "normalized_error": null,
          "sample_id": "talAB",
          "unnormalized_error": null
         },
         {
          "author": "Khodayari",
          "normalized_error": null,
          "sample_id": "talB",
          "unnormalized_error": null
         },
         {
          "author": "Khodayari",
          "normalized_error": null,
          "sample_id": "tkt1",
          "unnormalized_error": null
         },
         {
          "author": "Khodayari",
          "normalized_error": null,
          "sample_id": "tkt2",
          "unnormalized_error": null
         },
         {
          "author": "Khodayari",
          "normalized_error": 0.7730727826987692,
          "sample_id": "tktA",
          "unnormalized_error": 348.5966824842896
         },
         {
          "author": "Khodayari",
          "normalized_error": 0.8513839703976249,
          "sample_id": "tktB",
          "unnormalized_error": 332.79422167808633
         },
         {
          "author": "Khodayari",
          "normalized_error": null,
          "sample_id": "tpi",
          "unnormalized_error": null
         },
         {
          "author": "Khodayari",
          "normalized_error": 0.6362824557948393,
          "sample_id": "zwf",
          "unnormalized_error": 271.3392196841541
         },
         {
          "author": "Kurata",
          "normalized_error": 0.4290517614624855,
          "sample_id": "WT",
          "unnormalized_error": 161.75834656640814
         },
         {
          "author": "Kurata",
          "normalized_error": null,
          "sample_id": "fbaA",
          "unnormalized_error": null
         },
         {
          "author": "Kurata",
          "normalized_error": 0.4103629941322574,
          "sample_id": "fbaB",
          "unnormalized_error": 150.08630307120157
         },
         {
          "author": "Kurata",
          "normalized_error": 0.40847615723203634,
          "sample_id": "fbp",
          "unnormalized_error": 155.67711775235048
         },
         {
          "author": "Kurata",
          "normalized_error": null,
          "sample_id": "glk",
          "unnormalized_error": null
         },
         {
          "author": "Kurata",
          "normalized_error": 0.8562057556746754,
          "sample_id": "gnd",
          "unnormalized_error": 372.27133093828184
         },
         {
          "author": "Kurata",
          "normalized_error": 1,
          "sample_id": "gpmA",
          "unnormalized_error": 369.14631245618585
         },
         {
          "author": "Kurata",
          "normalized_error": null,
          "sample_id": "gpmB",
          "unnormalized_error": null
         },
         {
          "author": "Kurata",
          "normalized_error": 0.5733636526409739,
          "sample_id": "pfkA",
          "unnormalized_error": 213.67087148834122
         },
         {
          "author": "Kurata",
          "normalized_error": 0.5089435525961448,
          "sample_id": "pfkB",
          "unnormalized_error": 182.46957231365764
         },
         {
          "author": "Kurata",
          "normalized_error": 0.5377521956379365,
          "sample_id": "pgi",
          "unnormalized_error": 163.65434754564075
         },
         {
          "author": "Kurata",
          "normalized_error": 1.000000068030102,
          "sample_id": "pgl",
          "unnormalized_error": 383.82811262977367
         },
         {
          "author": "Kurata",
          "normalized_error": null,
          "sample_id": "pgm",
          "unnormalized_error": null
         },
         {
          "author": "Kurata",
          "normalized_error": null,
          "sample_id": "ppc",
          "unnormalized_error": null
         },
         {
          "author": "Kurata",
          "normalized_error": 0.49388855765828366,
          "sample_id": "ppsA",
          "unnormalized_error": 184.73082679720235
         },
         {
          "author": "Kurata",
          "normalized_error": null,
          "sample_id": "pts",
          "unnormalized_error": null
         },
         {
          "author": "Kurata",
          "normalized_error": 0.4064879463120327,
          "sample_id": "pykA",
          "unnormalized_error": 151.72839834006814
         },
         {
          "author": "Kurata",
          "normalized_error": null,
          "sample_id": "pykAF",
          "unnormalized_error": null
         },
         {
          "author": "Kurata",
          "normalized_error": 0.319800713456623,
          "sample_id": "pykF",
          "unnormalized_error": 112.88783993358774
         },
         {
          "author": "Kurata",
          "normalized_error": 1,
          "sample_id": "rpe",
          "unnormalized_error": 439.0649154737828
         },
         {
          "author": "Kurata",
          "normalized_error": 0.4291610868328768,
          "sample_id": "rpiA",
          "unnormalized_error": 164.26389375524005
         },
         {
          "author": "Kurata",
          "normalized_error": 0.4737364631830639,
          "sample_id": "rpiB",
          "unnormalized_error": 197.35942930797412
         },
         {
          "author": "Kurata",
          "normalized_error": null,
          "sample_id": "sdhCD",
          "unnormalized_error": null
         },
         {
          "author": "Kurata",
          "normalized_error": null,
          "sample_id": "sucA",
          "unnormalized_error": null
         },
         {
          "author": "Kurata",
          "normalized_error": null,
          "sample_id": "sucAB",
          "unnormalized_error": null
         },
         {
          "author": "Kurata",
          "normalized_error": 0.4766159000083567,
          "sample_id": "talA",
          "unnormalized_error": 180.42288442149788
         },
         {
          "author": "Kurata",
          "normalized_error": null,
          "sample_id": "talAB",
          "unnormalized_error": null
         },
         {
          "author": "Kurata",
          "normalized_error": 0.48563549208927553,
          "sample_id": "talB",
          "unnormalized_error": 189.14551694492678
         },
         {
          "author": "Kurata",
          "normalized_error": null,
          "sample_id": "tkt1",
          "unnormalized_error": null
         },
         {
          "author": "Kurata",
          "normalized_error": null,
          "sample_id": "tkt2",
          "unnormalized_error": null
         },
         {
          "author": "Kurata",
          "normalized_error": 0.5634927253676616,
          "sample_id": "tktA",
          "unnormalized_error": 254.09211016517975
         },
         {
          "author": "Kurata",
          "normalized_error": 0.49804358976829566,
          "sample_id": "tktB",
          "unnormalized_error": 194.67835263716688
         },
         {
          "author": "Kurata",
          "normalized_error": null,
          "sample_id": "tpi",
          "unnormalized_error": null
         },
         {
          "author": "Kurata",
          "normalized_error": 0.3998278217237869,
          "sample_id": "zwf",
          "unnormalized_error": 170.50441697158504
         },
         {
          "author": "Millard",
          "normalized_error": 0.07581158695388648,
          "sample_id": "WT",
          "unnormalized_error": 28.58199885821561
         },
         {
          "author": "Millard",
          "normalized_error": null,
          "sample_id": "fbaA",
          "unnormalized_error": null
         },
         {
          "author": "Millard",
          "normalized_error": 0.9975350478805866,
          "sample_id": "fbaB",
          "unnormalized_error": 364.8388126150055
         },
         {
          "author": "Millard",
          "normalized_error": 0.09381200836540193,
          "sample_id": "fbp",
          "unnormalized_error": 35.75333055385432
         },
         {
          "author": "Millard",
          "normalized_error": null,
          "sample_id": "glk",
          "unnormalized_error": null
         },
         {
          "author": "Millard",
          "normalized_error": 0.21294864452957682,
          "sample_id": "gnd",
          "unnormalized_error": 92.58834666214261
         },
         {
          "author": "Millard",
          "normalized_error": null,
          "sample_id": "gpmA",
          "unnormalized_error": null
         },
         {
          "author": "Millard",
          "normalized_error": null,
          "sample_id": "gpmB",
          "unnormalized_error": null
         },
         {
          "author": "Millard",
          "normalized_error": 1.0001830352754906,
          "sample_id": "pfkA",
          "unnormalized_error": 372.7302555904922
         },
         {
          "author": "Millard",
          "normalized_error": 0.9996937663257283,
          "sample_id": "pfkB",
          "unnormalized_error": 358.4163568937744
         },
         {
          "author": "Millard",
          "normalized_error": 0.7559627196463702,
          "sample_id": "pgi",
          "unnormalized_error": 230.06244633885615
         },
         {
          "author": "Millard",
          "normalized_error": 0.18577731967806382,
          "sample_id": "pgl",
          "unnormalized_error": 71.30655313045726
         },
         {
          "author": "Millard",
          "normalized_error": null,
          "sample_id": "pgm",
          "unnormalized_error": null
         },
         {
          "author": "Millard",
          "normalized_error": null,
          "sample_id": "ppc",
          "unnormalized_error": null
         },
         {
          "author": "Millard",
          "normalized_error": 0.18732914736336762,
          "sample_id": "ppsA",
          "unnormalized_error": 70.06736183508228
         },
         {
          "author": "Millard",
          "normalized_error": null,
          "sample_id": "pts",
          "unnormalized_error": null
         },
         {
          "author": "Millard",
          "normalized_error": 0.29233605477908076,
          "sample_id": "pykA",
          "unnormalized_error": 109.11930297346518
         },
         {
          "author": "Millard",
          "normalized_error": null,
          "sample_id": "pykAF",
          "unnormalized_error": null
         },
         {
          "author": "Millard",
          "normalized_error": 0.28384269179698235,
          "sample_id": "pykF",
          "unnormalized_error": 100.19486201753762
         },
         {
          "author": "Millard",
          "normalized_error": 0.2679820140682344,
          "sample_id": "rpe",
          "unnormalized_error": 117.66150035536342
         },
         {
          "author": "Millard",
          "normalized_error": 0.24880667871048653,
          "sample_id": "rpiA",
          "unnormalized_error": 95.23219856419325
         },
         {
          "author": "Millard",
          "normalized_error": 0.26562648222449475,
          "sample_id": "rpiB",
          "unnormalized_error": 110.6604515697857
         },
         {
          "author": "Millard",
          "normalized_error": null,
          "sample_id": "sdhCD",
          "unnormalized_error": null
         },
         {
          "author": "Millard",
          "normalized_error": null,
          "sample_id": "sucA",
          "unnormalized_error": null
         },
         {
          "author": "Millard",
          "normalized_error": null,
          "sample_id": "sucAB",
          "unnormalized_error": null
         },
         {
          "author": "Millard",
          "normalized_error": null,
          "sample_id": "talA",
          "unnormalized_error": null
         },
         {
          "author": "Millard",
          "normalized_error": null,
          "sample_id": "talAB",
          "unnormalized_error": null
         },
         {
          "author": "Millard",
          "normalized_error": null,
          "sample_id": "talB",
          "unnormalized_error": null
         },
         {
          "author": "Millard",
          "normalized_error": null,
          "sample_id": "tkt1",
          "unnormalized_error": null
         },
         {
          "author": "Millard",
          "normalized_error": null,
          "sample_id": "tkt2",
          "unnormalized_error": null
         },
         {
          "author": "Millard",
          "normalized_error": null,
          "sample_id": "tktA",
          "unnormalized_error": null
         },
         {
          "author": "Millard",
          "normalized_error": null,
          "sample_id": "tktB",
          "unnormalized_error": null
         },
         {
          "author": "Millard",
          "normalized_error": null,
          "sample_id": "tpi",
          "unnormalized_error": null
         },
         {
          "author": "Millard",
          "normalized_error": 0.16084745679000298,
          "sample_id": "zwf",
          "unnormalized_error": 68.59252996227919
         },
         {
          "author": "iML1515",
          "normalized_error": 0.9388098006140072,
          "sample_id": "WT",
          "unnormalized_error": 353.9440569362145
         },
         {
          "author": "iML1515",
          "normalized_error": null,
          "sample_id": "fbaA",
          "unnormalized_error": null
         },
         {
          "author": "iML1515",
          "normalized_error": 0.98017313953916,
          "sample_id": "fbaB",
          "unnormalized_error": 358.48886226742144
         },
         {
          "author": "iML1515",
          "normalized_error": 0.9364246191381635,
          "sample_id": "fbp",
          "unnormalized_error": 356.88713556165055
         },
         {
          "author": "iML1515",
          "normalized_error": null,
          "sample_id": "glk",
          "unnormalized_error": null
         },
         {
          "author": "iML1515",
          "normalized_error": 0.8749731934081896,
          "sample_id": "gnd",
          "unnormalized_error": 380.4312609283008
         },
         {
          "author": "iML1515",
          "normalized_error": null,
          "sample_id": "gpmA",
          "unnormalized_error": null
         },
         {
          "author": "iML1515",
          "normalized_error": null,
          "sample_id": "gpmB",
          "unnormalized_error": null
         },
         {
          "author": "iML1515",
          "normalized_error": 0.9726868035028066,
          "sample_id": "pfkA",
          "unnormalized_error": 362.4834536203058
         },
         {
          "author": "iML1515",
          "normalized_error": 0.993600839649014,
          "sample_id": "pfkB",
          "unnormalized_error": 356.23188335212654
         },
         {
          "author": "iML1515",
          "normalized_error": 1.0033487318288141,
          "sample_id": "pgi",
          "unnormalized_error": 305.349533484279
         },
         {
          "author": "iML1515",
          "normalized_error": 0.941611553505348,
          "sample_id": "pgl",
          "unnormalized_error": 361.41696082511413
         },
         {
          "author": "iML1515",
          "normalized_error": null,
          "sample_id": "pgm",
          "unnormalized_error": null
         },
         {
          "author": "iML1515",
          "normalized_error": null,
          "sample_id": "ppc",
          "unnormalized_error": null
         },
         {
          "author": "iML1515",
          "normalized_error": 0.9465179422832674,
          "sample_id": "ppsA",
          "unnormalized_error": 354.0293439585054
         },
         {
          "author": "iML1515",
          "normalized_error": null,
          "sample_id": "pts",
          "unnormalized_error": null
         },
         {
          "author": "iML1515",
          "normalized_error": 0.9442354810871038,
          "sample_id": "pykA",
          "unnormalized_error": 352.4516249523264
         },
         {
          "author": "iML1515",
          "normalized_error": null,
          "sample_id": "pykAF",
          "unnormalized_error": null
         },
         {
          "author": "iML1515",
          "normalized_error": 0.9714586574022167,
          "sample_id": "pykF",
          "unnormalized_error": 342.9194020037554
         },
         {
          "author": "iML1515",
          "normalized_error": 0.8819975032153864,
          "sample_id": "rpe",
          "unnormalized_error": 387.2541591973511
         },
         {
          "author": "iML1515",
          "normalized_error": 0.9377111060660918,
          "sample_id": "rpiA",
          "unnormalized_error": 358.9143615901319
         },
         {
          "author": "iML1515",
          "normalized_error": 0.952210267749317,
          "sample_id": "rpiB",
          "unnormalized_error": 396.6924432236038
         },
         {
          "author": "iML1515",
          "normalized_error": null,
          "sample_id": "sdhCD",
          "unnormalized_error": null
         },
         {
          "author": "iML1515",
          "normalized_error": null,
          "sample_id": "sucA",
          "unnormalized_error": null
         },
         {
          "author": "iML1515",
          "normalized_error": null,
          "sample_id": "sucAB",
          "unnormalized_error": null
         },
         {
          "author": "iML1515",
          "normalized_error": 0.9404585947310189,
          "sample_id": "talA",
          "unnormalized_error": 356.0104737113971
         },
         {
          "author": "iML1515",
          "normalized_error": null,
          "sample_id": "talAB",
          "unnormalized_error": null
         },
         {
          "author": "iML1515",
          "normalized_error": null,
          "sample_id": "talB",
          "unnormalized_error": null
         },
         {
          "author": "iML1515",
          "normalized_error": null,
          "sample_id": "tkt1",
          "unnormalized_error": null
         },
         {
          "author": "iML1515",
          "normalized_error": null,
          "sample_id": "tkt2",
          "unnormalized_error": null
         },
         {
          "author": "iML1515",
          "normalized_error": 0.8737519746950033,
          "sample_id": "tktA",
          "unnormalized_error": 393.9952957979878
         },
         {
          "author": "iML1515",
          "normalized_error": 0.9111759680260417,
          "sample_id": "tktB",
          "unnormalized_error": 356.16608678852964
         },
         {
          "author": "iML1515",
          "normalized_error": null,
          "sample_id": "tpi",
          "unnormalized_error": null
         },
         {
          "author": "iML1515",
          "normalized_error": 0.8976278708570832,
          "sample_id": "zwf",
          "unnormalized_error": 382.78856163157
         }
        ]
       },
       "encoding": {
        "color": {
         "condition": {
          "field": "author",
          "selection": "selector001",
          "sort": [
           "Khodayari",
           "Kurata",
           "Millard",
           "iML1515",
           "Ec_core",
           "ECC2",
           "Exp_ECC2"
          ],
          "type": "nominal"
         },
         "value": "lightgray"
        },
        "opacity": {
         "condition": {
          "selection": "selector001",
          "value": 0.4
         },
         "value": 1
        },
        "size": {
         "condition": {
          "selection": "selector001",
          "value": 100
         },
         "value": 40
        },
        "tooltip": [
         {
          "field": "author",
          "type": "nominal"
         },
         {
          "field": "sample_id",
          "type": "nominal"
         },
         {
          "field": "normalized_error",
          "type": "quantitative"
         }
        ],
        "x": {
         "field": "author",
         "sort": [
          "Khodayari",
          "Kurata",
          "Millard",
          "iML1515"
         ],
         "type": "nominal"
        },
        "y": {
         "field": "normalized_error",
         "title": "Normalized error",
         "type": "quantitative"
        }
       },
       "height": 600,
       "mark": "circle",
       "selection": {
        "selector001": {
         "empty": "all",
         "fields": [
          "sample_id"
         ],
         "type": "single"
        }
       },
       "title": "Normalized error knockout simulations",
       "transform": [
        {
         "filter": "datum.normalized_error !== null"
        }
       ],
       "width": 700
      },
      "image/png": "[encoded data removed]",
      "text/plain": [
       "<VegaLite 3 object>\n",
       "\n",
       "If you see this message, it means the renderer has not been properly enabled\n",
       "for the frontend that you are using. For more information, see\n",
       "https://altair-viz.github.io/user_guide/troubleshooting.html\n"
      ]
     },
     "execution_count": 11,
     "metadata": {},
     "output_type": "execute_result"
    }
   ],
   "source": [
    "selector = alt.selection_single(empty=\"all\", fields=[\"sample_id\"])\n",
    "color = alt.condition(\n",
    "    selector,\n",
    "    alt.Color(\n",
    "        \"author:N\",\n",
    "        sort=[\n",
    "            \"Khodayari\",\n",
    "            \"Kurata\",\n",
    "            \"Millard\",\n",
    "            \"iML1515\",\n",
    "            \"Ec_core\",\n",
    "            \"ECC2\",\n",
    "            \"Exp_ECC2\",\n",
    "        ],\n",
    "    ),\n",
    "    alt.ColorValue(\"lightgray\"),\n",
    ")\n",
    "\n",
    "opacity = alt.condition(selector, alt.OpacityValue(0.4), alt.OpacityValue(1.0))\n",
    "\n",
    "size = alt.condition(selector, alt.SizeValue(100), alt.SizeValue(40))\n",
    "\n",
    "\n",
    "base = (\n",
    "    alt.Chart(\n",
    "        x_norm_error.to_dataframe()\n",
    "        .reset_index()\n",
    "        .query(\"author != 'Ishii'\"),\n",
    "        title=\"Normalized error knockout simulations\",\n",
    "    )\n",
    "    .mark_circle()\n",
    "    .encode(\n",
    "        y=alt.Y(\"normalized_error\", title=\"Normalized error\"),\n",
    "        tooltip=[\"author\", \"sample_id\", \"normalized_error\"],\n",
    "        x=alt.X(\"author\", sort=[\"Khodayari\", \"Kurata\", \"Millard\", \"iML1515\"]),\n",
    "        size=size,\n",
    "        opacity = opacity,\n",
    "    )\n",
    ")\n",
    "\n",
    "errors = (\n",
    "    base\n",
    "    .encode(color=color)\n",
    "    .add_selection(selector)\n",
    "    .transform_filter(\"datum.normalized_error !== null\")\n",
    ")\n",
    "\n",
    "na_vals = base.encode(color=alt.value(\"lightgrey\")).transform_filter(\"datum.normalized_error === null\")\n",
    "\n",
    "\n",
    "(errors).properties(width=700, height=600).configure_axis(\n",
    "    labelFontSize=24, titleFontSize=24\n",
    ").configure_legend(labelFontSize=16, titleFontSize=20).configure(invalidValues=None)\n"
   ]
  },
  {
   "cell_type": "code",
   "execution_count": 11,
   "metadata": {},
   "outputs": [
    {
     "data": {
      "application/vnd.vegalite.v3+json": {
       "$schema": "https://vega.github.io/schema/vega-lite/v3.2.1.json",
       "config": {
        "facet": {
         "spacing": 0
        },
        "header": {
         "labelAlign": "right",
         "labelAngle": -90,
         "labelOrient": "bottom",
         "labelPadding": 3,
         "titleOrient": "top"
        },
        "mark": {
         "tooltip": null
        },
        "view": {
         "height": 300,
         "stroke": null,
         "width": 400
        }
       },
       "data": {
        "name": "data-5029eab5c22ce61afa3f8487d28a07f0"
       },
       "datasets": {
        "data-5029eab5c22ce61afa3f8487d28a07f0": [
         {
          "author": "Chassagnole",
          "normalized_error": null,
          "sample_id": "WT",
          "unnormalized_error": null
         },
         {
          "author": "Chassagnole",
          "normalized_error": null,
          "sample_id": "fbaA",
          "unnormalized_error": null
         },
         {
          "author": "Chassagnole",
          "normalized_error": null,
          "sample_id": "fbaB",
          "unnormalized_error": null
         },
         {
          "author": "Chassagnole",
          "normalized_error": null,
          "sample_id": "fbp",
          "unnormalized_error": null
         },
         {
          "author": "Chassagnole",
          "normalized_error": null,
          "sample_id": "glk",
          "unnormalized_error": null
         },
         {
          "author": "Chassagnole",
          "normalized_error": null,
          "sample_id": "gnd",
          "unnormalized_error": null
         },
         {
          "author": "Chassagnole",
          "normalized_error": null,
          "sample_id": "gpmA",
          "unnormalized_error": null
         },
         {
          "author": "Chassagnole",
          "normalized_error": null,
          "sample_id": "gpmB",
          "unnormalized_error": null
         },
         {
          "author": "Chassagnole",
          "normalized_error": null,
          "sample_id": "pfkA",
          "unnormalized_error": null
         },
         {
          "author": "Chassagnole",
          "normalized_error": null,
          "sample_id": "pfkB",
          "unnormalized_error": null
         },
         {
          "author": "Chassagnole",
          "normalized_error": null,
          "sample_id": "pgi",
          "unnormalized_error": null
         },
         {
          "author": "Chassagnole",
          "normalized_error": null,
          "sample_id": "pgl",
          "unnormalized_error": null
         },
         {
          "author": "Chassagnole",
          "normalized_error": null,
          "sample_id": "pgm",
          "unnormalized_error": null
         },
         {
          "author": "Chassagnole",
          "normalized_error": null,
          "sample_id": "ppc",
          "unnormalized_error": null
         },
         {
          "author": "Chassagnole",
          "normalized_error": null,
          "sample_id": "ppsA",
          "unnormalized_error": null
         },
         {
          "author": "Chassagnole",
          "normalized_error": null,
          "sample_id": "pts",
          "unnormalized_error": null
         },
         {
          "author": "Chassagnole",
          "normalized_error": null,
          "sample_id": "pykA",
          "unnormalized_error": null
         },
         {
          "author": "Chassagnole",
          "normalized_error": null,
          "sample_id": "pykAF",
          "unnormalized_error": null
         },
         {
          "author": "Chassagnole",
          "normalized_error": null,
          "sample_id": "pykF",
          "unnormalized_error": null
         },
         {
          "author": "Chassagnole",
          "normalized_error": null,
          "sample_id": "rpe",
          "unnormalized_error": null
         },
         {
          "author": "Chassagnole",
          "normalized_error": null,
          "sample_id": "rpiA",
          "unnormalized_error": null
         },
         {
          "author": "Chassagnole",
          "normalized_error": null,
          "sample_id": "rpiB",
          "unnormalized_error": null
         },
         {
          "author": "Chassagnole",
          "normalized_error": null,
          "sample_id": "sdhCD",
          "unnormalized_error": null
         },
         {
          "author": "Chassagnole",
          "normalized_error": null,
          "sample_id": "sucA",
          "unnormalized_error": null
         },
         {
          "author": "Chassagnole",
          "normalized_error": null,
          "sample_id": "sucAB",
          "unnormalized_error": null
         },
         {
          "author": "Chassagnole",
          "normalized_error": null,
          "sample_id": "talA",
          "unnormalized_error": null
         },
         {
          "author": "Chassagnole",
          "normalized_error": null,
          "sample_id": "talAB",
          "unnormalized_error": null
         },
         {
          "author": "Chassagnole",
          "normalized_error": null,
          "sample_id": "talB",
          "unnormalized_error": null
         },
         {
          "author": "Chassagnole",
          "normalized_error": null,
          "sample_id": "tkt1",
          "unnormalized_error": null
         },
         {
          "author": "Chassagnole",
          "normalized_error": null,
          "sample_id": "tkt2",
          "unnormalized_error": null
         },
         {
          "author": "Chassagnole",
          "normalized_error": null,
          "sample_id": "tktA",
          "unnormalized_error": null
         },
         {
          "author": "Chassagnole",
          "normalized_error": null,
          "sample_id": "tktB",
          "unnormalized_error": null
         },
         {
          "author": "Chassagnole",
          "normalized_error": null,
          "sample_id": "tpi",
          "unnormalized_error": null
         },
         {
          "author": "Chassagnole",
          "normalized_error": null,
          "sample_id": "zwf",
          "unnormalized_error": null
         },
         {
          "author": "ECC2",
          "normalized_error": 0.5876720845612964,
          "sample_id": "WT",
          "unnormalized_error": 221.56036464654258
         },
         {
          "author": "ECC2",
          "normalized_error": null,
          "sample_id": "fbaA",
          "unnormalized_error": null
         },
         {
          "author": "ECC2",
          "normalized_error": 0.7233177182826556,
          "sample_id": "fbaB",
          "unnormalized_error": 264.5464718681539
         },
         {
          "author": "ECC2",
          "normalized_error": 0.5899630172105623,
          "sample_id": "fbp",
          "unnormalized_error": 224.84480544025612
         },
         {
          "author": "ECC2",
          "normalized_error": null,
          "sample_id": "glk",
          "unnormalized_error": null
         },
         {
          "author": "ECC2",
          "normalized_error": 0.6259450844705894,
          "sample_id": "gnd",
          "unnormalized_error": 272.15585523192925
         },
         {
          "author": "ECC2",
          "normalized_error": 0.9192326897941696,
          "sample_id": "gpmA",
          "unnormalized_error": 339.3313577266987
         },
         {
          "author": "ECC2",
          "normalized_error": null,
          "sample_id": "gpmB",
          "unnormalized_error": null
         },
         {
          "author": "ECC2",
          "normalized_error": 0.7426841498010143,
          "sample_id": "pfkA",
          "unnormalized_error": 276.7701942695837
         },
         {
          "author": "ECC2",
          "normalized_error": 0.6897188260853425,
          "sample_id": "pfkB",
          "unnormalized_error": 247.28223507398803
         },
         {
          "author": "ECC2",
          "normalized_error": 0.5425912433167559,
          "sample_id": "pgi",
          "unnormalized_error": 165.12701692206227
         },
         {
          "author": "ECC2",
          "normalized_error": 0.49889133374286365,
          "sample_id": "pgl",
          "unnormalized_error": 191.48850601089126
         },
         {
          "author": "ECC2",
          "normalized_error": null,
          "sample_id": "pgm",
          "unnormalized_error": null
         },
         {
          "author": "ECC2",
          "normalized_error": null,
          "sample_id": "ppc",
          "unnormalized_error": null
         },
         {
          "author": "ECC2",
          "normalized_error": 0.5936673103085628,
          "sample_id": "ppsA",
          "unnormalized_error": 222.05141499076942
         },
         {
          "author": "ECC2",
          "normalized_error": null,
          "sample_id": "pts",
          "unnormalized_error": null
         },
         {
          "author": "ECC2",
          "normalized_error": 0.5837431695606551,
          "sample_id": "pykA",
          "unnormalized_error": 217.8918636160582
         },
         {
          "author": "ECC2",
          "normalized_error": null,
          "sample_id": "pykAF",
          "unnormalized_error": null
         },
         {
          "author": "ECC2",
          "normalized_error": 0.5448792961705244,
          "sample_id": "pykF",
          "unnormalized_error": 192.33930438859767
         },
         {
          "author": "ECC2",
          "normalized_error": 0.6492392098640574,
          "sample_id": "rpe",
          "unnormalized_error": 285.0581588012279
         },
         {
          "author": "ECC2",
          "normalized_error": null,
          "sample_id": "rpiA",
          "unnormalized_error": null
         },
         {
          "author": "ECC2",
          "normalized_error": null,
          "sample_id": "rpiB",
          "unnormalized_error": null
         },
         {
          "author": "ECC2",
          "normalized_error": null,
          "sample_id": "sdhCD",
          "unnormalized_error": null
         },
         {
          "author": "ECC2",
          "normalized_error": null,
          "sample_id": "sucA",
          "unnormalized_error": null
         },
         {
          "author": "ECC2",
          "normalized_error": null,
          "sample_id": "sucAB",
          "unnormalized_error": null
         },
         {
          "author": "ECC2",
          "normalized_error": 0.5565266754649083,
          "sample_id": "talA",
          "unnormalized_error": 210.67309765185146
         },
         {
          "author": "ECC2",
          "normalized_error": null,
          "sample_id": "talAB",
          "unnormalized_error": null
         },
         {
          "author": "ECC2",
          "normalized_error": null,
          "sample_id": "talB",
          "unnormalized_error": null
         },
         {
          "author": "ECC2",
          "normalized_error": null,
          "sample_id": "tkt1",
          "unnormalized_error": null
         },
         {
          "author": "ECC2",
          "normalized_error": null,
          "sample_id": "tkt2",
          "unnormalized_error": null
         },
         {
          "author": "ECC2",
          "normalized_error": 0.6789433462595147,
          "sample_id": "tktA",
          "unnormalized_error": 306.15150784977436
         },
         {
          "author": "ECC2",
          "normalized_error": 0.5793488973251179,
          "sample_id": "tktB",
          "unnormalized_error": 226.45947312741185
         },
         {
          "author": "ECC2",
          "normalized_error": null,
          "sample_id": "tpi",
          "unnormalized_error": null
         },
         {
          "author": "ECC2",
          "normalized_error": 0.5316667676746469,
          "sample_id": "zwf",
          "unnormalized_error": 226.726424025984
         },
         {
          "author": "Exp_ECC2",
          "normalized_error": 0.060242918317285066,
          "sample_id": "WT",
          "unnormalized_error": 22.71239914299072
         },
         {
          "author": "Exp_ECC2",
          "normalized_error": null,
          "sample_id": "fbaA",
          "unnormalized_error": null
         },
         {
          "author": "Exp_ECC2",
          "normalized_error": 0.5571678503581048,
          "sample_id": "fbaB",
          "unnormalized_error": 203.7787618428019
         },
         {
          "author": "Exp_ECC2",
          "normalized_error": 0.11081836730195123,
          "sample_id": "fbp",
          "unnormalized_error": 42.234739311330465
         },
         {
          "author": "Exp_ECC2",
          "normalized_error": null,
          "sample_id": "glk",
          "unnormalized_error": null
         },
         {
          "author": "Exp_ECC2",
          "normalized_error": 0.1970213381672891,
          "sample_id": "gnd",
          "unnormalized_error": 85.66328279933497
         },
         {
          "author": "Exp_ECC2",
          "normalized_error": 0.9138084713123595,
          "sample_id": "gpmA",
          "unnormalized_error": 337.3290274761818
         },
         {
          "author": "Exp_ECC2",
          "normalized_error": null,
          "sample_id": "gpmB",
          "unnormalized_error": null
         },
         {
          "author": "Exp_ECC2",
          "normalized_error": 0.5818992827354977,
          "sample_id": "pfkA",
          "unnormalized_error": 216.85177685720848
         },
         {
          "author": "Exp_ECC2",
          "normalized_error": 0.5276056022021969,
          "sample_id": "pfkB",
          "unnormalized_error": 189.16040510393907
         },
         {
          "author": "Exp_ECC2",
          "normalized_error": 0.3690337439755065,
          "sample_id": "pgi",
          "unnormalized_error": 112.30819154720707
         },
         {
          "author": "Exp_ECC2",
          "normalized_error": 0.11989508870198069,
          "sample_id": "pgl",
          "unnormalized_error": 46.01910247937631
         },
         {
          "author": "Exp_ECC2",
          "normalized_error": null,
          "sample_id": "pgm",
          "unnormalized_error": null
         },
         {
          "author": "Exp_ECC2",
          "normalized_error": null,
          "sample_id": "ppc",
          "unnormalized_error": null
         },
         {
          "author": "Exp_ECC2",
          "normalized_error": 0.16703059552223495,
          "sample_id": "ppsA",
          "unnormalized_error": 62.47502504927495
         },
         {
          "author": "Exp_ECC2",
          "normalized_error": null,
          "sample_id": "pts",
          "unnormalized_error": null
         },
         {
          "author": "Exp_ECC2",
          "normalized_error": 0.23772528571054857,
          "sample_id": "pykA",
          "unnormalized_error": 88.73492356427323
         },
         {
          "author": "Exp_ECC2",
          "normalized_error": null,
          "sample_id": "pykAF",
          "unnormalized_error": null
         },
         {
          "author": "Exp_ECC2",
          "normalized_error": 0.339745948781891,
          "sample_id": "pykF",
          "unnormalized_error": 119.92839499833433
         },
         {
          "author": "Exp_ECC2",
          "normalized_error": 0.2098661035689538,
          "sample_id": "rpe",
          "unnormalized_error": 92.14484302431484
         },
         {
          "author": "Exp_ECC2",
          "normalized_error": null,
          "sample_id": "rpiA",
          "unnormalized_error": null
         },
         {
          "author": "Exp_ECC2",
          "normalized_error": null,
          "sample_id": "rpiB",
          "unnormalized_error": null
         },
         {
          "author": "Exp_ECC2",
          "normalized_error": null,
          "sample_id": "sdhCD",
          "unnormalized_error": null
         },
         {
          "author": "Exp_ECC2",
          "normalized_error": null,
          "sample_id": "sucA",
          "unnormalized_error": null
         },
         {
          "author": "Exp_ECC2",
          "normalized_error": null,
          "sample_id": "sucAB",
          "unnormalized_error": null
         },
         {
          "author": "Exp_ECC2",
          "normalized_error": 0.11858604012086008,
          "sample_id": "talA",
          "unnormalized_error": 44.890729432975085
         },
         {
          "author": "Exp_ECC2",
          "normalized_error": null,
          "sample_id": "talAB",
          "unnormalized_error": null
         },
         {
          "author": "Exp_ECC2",
          "normalized_error": null,
          "sample_id": "talB",
          "unnormalized_error": null
         },
         {
          "author": "Exp_ECC2",
          "normalized_error": null,
          "sample_id": "tkt1",
          "unnormalized_error": null
         },
         {
          "author": "Exp_ECC2",
          "normalized_error": null,
          "sample_id": "tkt2",
          "unnormalized_error": null
         },
         {
          "author": "Exp_ECC2",
          "normalized_error": 0.30283969920634574,
          "sample_id": "tktA",
          "unnormalized_error": 136.55753614728874
         },
         {
          "author": "Exp_ECC2",
          "normalized_error": 0.14575623950850902,
          "sample_id": "tktB",
          "unnormalized_error": 56.97409860712397
         },
         {
          "author": "Exp_ECC2",
          "normalized_error": null,
          "sample_id": "tpi",
          "unnormalized_error": null
         },
         {
          "author": "Exp_ECC2",
          "normalized_error": 0.14383043467881054,
          "sample_id": "zwf",
          "unnormalized_error": 61.33571271241341
         },
         {
          "author": "Exp_iML1515",
          "normalized_error": 0.07112087539571854,
          "sample_id": "WT",
          "unnormalized_error": 26.81353683563158
         },
         {
          "author": "Exp_iML1515",
          "normalized_error": null,
          "sample_id": "fbaA",
          "unnormalized_error": null
         },
         {
          "author": "Exp_iML1515",
          "normalized_error": 0.30623175453347923,
          "sample_id": "fbaB",
          "unnormalized_error": 112.00130756947485
         },
         {
          "author": "Exp_iML1515",
          "normalized_error": 0.1372516971586148,
          "sample_id": "fbp",
          "unnormalized_error": 52.30892487106427
         },
         {
          "author": "Exp_iML1515",
          "normalized_error": null,
          "sample_id": "glk",
          "unnormalized_error": null
         },
         {
          "author": "Exp_iML1515",
          "normalized_error": 0.15696932069740452,
          "sample_id": "gnd",
          "unnormalized_error": 68.24898985461135
         },
         {
          "author": "Exp_iML1515",
          "normalized_error": 0.44393043772560487,
          "sample_id": "gpmA",
          "unnormalized_error": 163.8752840734675
         },
         {
          "author": "Exp_iML1515",
          "normalized_error": null,
          "sample_id": "gpmB",
          "unnormalized_error": null
         },
         {
          "author": "Exp_iML1515",
          "normalized_error": 0.30111654815285693,
          "sample_id": "pfkA",
          "unnormalized_error": 112.21470870541913
         },
         {
          "author": "Exp_iML1515",
          "normalized_error": 0.36348780211391946,
          "sample_id": "pfkB",
          "unnormalized_error": 130.3198821453362
         },
         {
          "author": "Exp_iML1515",
          "normalized_error": 0.48113398597825763,
          "sample_id": "pgi",
          "unnormalized_error": 146.42370444233367
         },
         {
          "author": "Exp_iML1515",
          "normalized_error": 0.12500751281434586,
          "sample_id": "pgl",
          "unnormalized_error": 47.98139444389345
         },
         {
          "author": "Exp_iML1515",
          "normalized_error": null,
          "sample_id": "pgm",
          "unnormalized_error": null
         },
         {
          "author": "Exp_iML1515",
          "normalized_error": null,
          "sample_id": "ppc",
          "unnormalized_error": null
         },
         {
          "author": "Exp_iML1515",
          "normalized_error": 0.13983821236814103,
          "sample_id": "ppsA",
          "unnormalized_error": 52.304164953913855
         },
         {
          "author": "Exp_iML1515",
          "normalized_error": null,
          "sample_id": "pts",
          "unnormalized_error": null
         },
         {
          "author": "Exp_iML1515",
          "normalized_error": 0.16048900396147314,
          "sample_id": "pykA",
          "unnormalized_error": 59.90519458989023
         },
         {
          "author": "Exp_iML1515",
          "normalized_error": null,
          "sample_id": "pykAF",
          "unnormalized_error": null
         },
         {
          "author": "Exp_iML1515",
          "normalized_error": 0.28588913293078083,
          "sample_id": "pykF",
          "unnormalized_error": 100.91724414310809
         },
         {
          "author": "Exp_iML1515",
          "normalized_error": 0.1856657222742003,
          "sample_id": "rpe",
          "unnormalized_error": 81.51930465670058
         },
         {
          "author": "Exp_iML1515",
          "normalized_error": 0.6742300742465588,
          "sample_id": "rpiA",
          "unnormalized_error": 258.06546930885435
         },
         {
          "author": "Exp_iML1515",
          "normalized_error": 0.7124519133846259,
          "sample_id": "rpiB",
          "unnormalized_error": 296.80869842739764
         },
         {
          "author": "Exp_iML1515",
          "normalized_error": null,
          "sample_id": "sdhCD",
          "unnormalized_error": null
         },
         {
          "author": "Exp_iML1515",
          "normalized_error": null,
          "sample_id": "sucA",
          "unnormalized_error": null
         },
         {
          "author": "Exp_iML1515",
          "normalized_error": null,
          "sample_id": "sucAB",
          "unnormalized_error": null
         },
         {
          "author": "Exp_iML1515",
          "normalized_error": 0.1064327120170791,
          "sample_id": "talA",
          "unnormalized_error": 40.29008872466768
         },
         {
          "author": "Exp_iML1515",
          "normalized_error": null,
          "sample_id": "talAB",
          "unnormalized_error": null
         },
         {
          "author": "Exp_iML1515",
          "normalized_error": null,
          "sample_id": "talB",
          "unnormalized_error": null
         },
         {
          "author": "Exp_iML1515",
          "normalized_error": null,
          "sample_id": "tkt1",
          "unnormalized_error": null
         },
         {
          "author": "Exp_iML1515",
          "normalized_error": null,
          "sample_id": "tkt2",
          "unnormalized_error": null
         },
         {
          "author": "Exp_iML1515",
          "normalized_error": 0.26679772737674506,
          "sample_id": "tktA",
          "unnormalized_error": 120.3053641769729
         },
         {
          "author": "Exp_iML1515",
          "normalized_error": 0.11818102938250942,
          "sample_id": "tktB",
          "unnormalized_error": 46.19533025985779
         },
         {
          "author": "Exp_iML1515",
          "normalized_error": null,
          "sample_id": "tpi",
          "unnormalized_error": null
         },
         {
          "author": "Exp_iML1515",
          "normalized_error": 0.14164927942769256,
          "sample_id": "zwf",
          "unnormalized_error": 60.40557082580578
         },
         {
          "author": "Khodayari",
          "normalized_error": 0.8443462266016944,
          "sample_id": "WT",
          "unnormalized_error": 318.33000540336405
         },
         {
          "author": "Khodayari",
          "normalized_error": null,
          "sample_id": "fbaA",
          "unnormalized_error": null
         },
         {
          "author": "Khodayari",
          "normalized_error": 0.893837064342593,
          "sample_id": "fbaB",
          "unnormalized_error": 326.9122763344468
         },
         {
          "author": "Khodayari",
          "normalized_error": 0.8452643841197597,
          "sample_id": "fbp",
          "unnormalized_error": 322.1444403271024
         },
         {
          "author": "Khodayari",
          "normalized_error": null,
          "sample_id": "glk",
          "unnormalized_error": null
         },
         {
          "author": "Khodayari",
          "normalized_error": 0.6862229055052202,
          "sample_id": "gnd",
          "unnormalized_error": 298.36416382352417
         },
         {
          "author": "Khodayari",
          "normalized_error": null,
          "sample_id": "gpmA",
          "unnormalized_error": null
         },
         {
          "author": "Khodayari",
          "normalized_error": null,
          "sample_id": "gpmB",
          "unnormalized_error": null
         },
         {
          "author": "Khodayari",
          "normalized_error": 0.8600227252000099,
          "sample_id": "pfkA",
          "unnormalized_error": 320.49782776923144
         },
         {
          "author": "Khodayari",
          "normalized_error": 0.8957185152018127,
          "sample_id": "pfkB",
          "unnormalized_error": 321.1385104469389
         },
         {
          "author": "Khodayari",
          "normalized_error": 0.7744289912260521,
          "sample_id": "pgi",
          "unnormalized_error": 235.68229438687453
         },
         {
          "author": "Khodayari",
          "normalized_error": 0.8582715747688802,
          "sample_id": "pgl",
          "unnormalized_error": 329.42873625625236
         },
         {
          "author": "Khodayari",
          "normalized_error": null,
          "sample_id": "pgm",
          "unnormalized_error": null
         },
         {
          "author": "Khodayari",
          "normalized_error": null,
          "sample_id": "ppc",
          "unnormalized_error": null
         },
         {
          "author": "Khodayari",
          "normalized_error": 0.9086748426605927,
          "sample_id": "ppsA",
          "unnormalized_error": 339.87475994665544
         },
         {
          "author": "Khodayari",
          "normalized_error": null,
          "sample_id": "pts",
          "unnormalized_error": null
         },
         {
          "author": "Khodayari",
          "normalized_error": 0.8579214725742668,
          "sample_id": "pykA",
          "unnormalized_error": 320.2334832219671
         },
         {
          "author": "Khodayari",
          "normalized_error": null,
          "sample_id": "pykAF",
          "unnormalized_error": null
         },
         {
          "author": "Khodayari",
          "normalized_error": 0.8799312130030915,
          "sample_id": "pykF",
          "unnormalized_error": 310.61073270411595
         },
         {
          "author": "Khodayari",
          "normalized_error": 0.7917947890154502,
          "sample_id": "rpe",
          "unnormalized_error": 347.6493121116503
         },
         {
          "author": "Khodayari",
          "normalized_error": 0.6417771548781731,
          "sample_id": "rpiA",
          "unnormalized_error": 245.64392629684355
         },
         {
          "author": "Khodayari",
          "normalized_error": 0.6267728058000724,
          "sample_id": "rpiB",
          "unnormalized_error": 261.11463413078957
         },
         {
          "author": "Khodayari",
          "normalized_error": null,
          "sample_id": "sdhCD",
          "unnormalized_error": null
         },
         {
          "author": "Khodayari",
          "normalized_error": null,
          "sample_id": "sucA",
          "unnormalized_error": null
         },
         {
          "author": "Khodayari",
          "normalized_error": null,
          "sample_id": "sucAB",
          "unnormalized_error": null
         },
         {
          "author": "Khodayari",
          "normalized_error": 0.8748932923466883,
          "sample_id": "talA",
          "unnormalized_error": 331.19073737037024
         },
         {
          "author": "Khodayari",
          "normalized_error": null,
          "sample_id": "talAB",
          "unnormalized_error": null
         },
         {
          "author": "Khodayari",
          "normalized_error": null,
          "sample_id": "talB",
          "unnormalized_error": null
         },
         {
          "author": "Khodayari",
          "normalized_error": null,
          "sample_id": "tkt1",
          "unnormalized_error": null
         },
         {
          "author": "Khodayari",
          "normalized_error": null,
          "sample_id": "tkt2",
          "unnormalized_error": null
         },
         {
          "author": "Khodayari",
          "normalized_error": 0.7730727826987692,
          "sample_id": "tktA",
          "unnormalized_error": 348.5966824842896
         },
         {
          "author": "Khodayari",
          "normalized_error": 0.8513839703976249,
          "sample_id": "tktB",
          "unnormalized_error": 332.79422167808633
         },
         {
          "author": "Khodayari",
          "normalized_error": null,
          "sample_id": "tpi",
          "unnormalized_error": null
         },
         {
          "author": "Khodayari",
          "normalized_error": 0.6362824557948393,
          "sample_id": "zwf",
          "unnormalized_error": 271.3392196841541
         },
         {
          "author": "Kurata",
          "normalized_error": 0.4290517614624855,
          "sample_id": "WT",
          "unnormalized_error": 161.75834656640814
         },
         {
          "author": "Kurata",
          "normalized_error": null,
          "sample_id": "fbaA",
          "unnormalized_error": null
         },
         {
          "author": "Kurata",
          "normalized_error": 0.4103629941322574,
          "sample_id": "fbaB",
          "unnormalized_error": 150.08630307120157
         },
         {
          "author": "Kurata",
          "normalized_error": 0.40847615723203634,
          "sample_id": "fbp",
          "unnormalized_error": 155.67711775235048
         },
         {
          "author": "Kurata",
          "normalized_error": null,
          "sample_id": "glk",
          "unnormalized_error": null
         },
         {
          "author": "Kurata",
          "normalized_error": 0.8562057556746754,
          "sample_id": "gnd",
          "unnormalized_error": 372.27133093828184
         },
         {
          "author": "Kurata",
          "normalized_error": 1,
          "sample_id": "gpmA",
          "unnormalized_error": 369.14631245618585
         },
         {
          "author": "Kurata",
          "normalized_error": null,
          "sample_id": "gpmB",
          "unnormalized_error": null
         },
         {
          "author": "Kurata",
          "normalized_error": 0.5733636526409739,
          "sample_id": "pfkA",
          "unnormalized_error": 213.67087148834122
         },
         {
          "author": "Kurata",
          "normalized_error": 0.5089435525961448,
          "sample_id": "pfkB",
          "unnormalized_error": 182.46957231365764
         },
         {
          "author": "Kurata",
          "normalized_error": 0.5377521956379365,
          "sample_id": "pgi",
          "unnormalized_error": 163.65434754564075
         },
         {
          "author": "Kurata",
          "normalized_error": 1.000000068030102,
          "sample_id": "pgl",
          "unnormalized_error": 383.82811262977367
         },
         {
          "author": "Kurata",
          "normalized_error": null,
          "sample_id": "pgm",
          "unnormalized_error": null
         },
         {
          "author": "Kurata",
          "normalized_error": null,
          "sample_id": "ppc",
          "unnormalized_error": null
         },
         {
          "author": "Kurata",
          "normalized_error": 0.49388855765828366,
          "sample_id": "ppsA",
          "unnormalized_error": 184.73082679720235
         },
         {
          "author": "Kurata",
          "normalized_error": null,
          "sample_id": "pts",
          "unnormalized_error": null
         },
         {
          "author": "Kurata",
          "normalized_error": 0.4064879463120327,
          "sample_id": "pykA",
          "unnormalized_error": 151.72839834006814
         },
         {
          "author": "Kurata",
          "normalized_error": null,
          "sample_id": "pykAF",
          "unnormalized_error": null
         },
         {
          "author": "Kurata",
          "normalized_error": 0.319800713456623,
          "sample_id": "pykF",
          "unnormalized_error": 112.88783993358774
         },
         {
          "author": "Kurata",
          "normalized_error": 1,
          "sample_id": "rpe",
          "unnormalized_error": 439.0649154737828
         },
         {
          "author": "Kurata",
          "normalized_error": 0.4291610868328768,
          "sample_id": "rpiA",
          "unnormalized_error": 164.26389375524005
         },
         {
          "author": "Kurata",
          "normalized_error": 0.4737364631830639,
          "sample_id": "rpiB",
          "unnormalized_error": 197.35942930797412
         },
         {
          "author": "Kurata",
          "normalized_error": null,
          "sample_id": "sdhCD",
          "unnormalized_error": null
         },
         {
          "author": "Kurata",
          "normalized_error": null,
          "sample_id": "sucA",
          "unnormalized_error": null
         },
         {
          "author": "Kurata",
          "normalized_error": null,
          "sample_id": "sucAB",
          "unnormalized_error": null
         },
         {
          "author": "Kurata",
          "normalized_error": 0.4766159000083567,
          "sample_id": "talA",
          "unnormalized_error": 180.42288442149788
         },
         {
          "author": "Kurata",
          "normalized_error": null,
          "sample_id": "talAB",
          "unnormalized_error": null
         },
         {
          "author": "Kurata",
          "normalized_error": 0.48563549208927553,
          "sample_id": "talB",
          "unnormalized_error": 189.14551694492678
         },
         {
          "author": "Kurata",
          "normalized_error": null,
          "sample_id": "tkt1",
          "unnormalized_error": null
         },
         {
          "author": "Kurata",
          "normalized_error": null,
          "sample_id": "tkt2",
          "unnormalized_error": null
         },
         {
          "author": "Kurata",
          "normalized_error": 0.5634927253676616,
          "sample_id": "tktA",
          "unnormalized_error": 254.09211016517975
         },
         {
          "author": "Kurata",
          "normalized_error": 0.49804358976829566,
          "sample_id": "tktB",
          "unnormalized_error": 194.67835263716688
         },
         {
          "author": "Kurata",
          "normalized_error": null,
          "sample_id": "tpi",
          "unnormalized_error": null
         },
         {
          "author": "Kurata",
          "normalized_error": 0.3998278217237869,
          "sample_id": "zwf",
          "unnormalized_error": 170.50441697158504
         },
         {
          "author": "Millard",
          "normalized_error": 0.07581158695388648,
          "sample_id": "WT",
          "unnormalized_error": 28.58199885821561
         },
         {
          "author": "Millard",
          "normalized_error": null,
          "sample_id": "fbaA",
          "unnormalized_error": null
         },
         {
          "author": "Millard",
          "normalized_error": 0.9975350478805866,
          "sample_id": "fbaB",
          "unnormalized_error": 364.8388126150055
         },
         {
          "author": "Millard",
          "normalized_error": 0.09381200836540193,
          "sample_id": "fbp",
          "unnormalized_error": 35.75333055385432
         },
         {
          "author": "Millard",
          "normalized_error": null,
          "sample_id": "glk",
          "unnormalized_error": null
         },
         {
          "author": "Millard",
          "normalized_error": 0.21294864452957682,
          "sample_id": "gnd",
          "unnormalized_error": 92.58834666214261
         },
         {
          "author": "Millard",
          "normalized_error": null,
          "sample_id": "gpmA",
          "unnormalized_error": null
         },
         {
          "author": "Millard",
          "normalized_error": null,
          "sample_id": "gpmB",
          "unnormalized_error": null
         },
         {
          "author": "Millard",
          "normalized_error": 1.0001830352754906,
          "sample_id": "pfkA",
          "unnormalized_error": 372.7302555904922
         },
         {
          "author": "Millard",
          "normalized_error": 0.9996937663257283,
          "sample_id": "pfkB",
          "unnormalized_error": 358.4163568937744
         },
         {
          "author": "Millard",
          "normalized_error": 0.7559627196463702,
          "sample_id": "pgi",
          "unnormalized_error": 230.06244633885615
         },
         {
          "author": "Millard",
          "normalized_error": 0.18577731967806382,
          "sample_id": "pgl",
          "unnormalized_error": 71.30655313045726
         },
         {
          "author": "Millard",
          "normalized_error": null,
          "sample_id": "pgm",
          "unnormalized_error": null
         },
         {
          "author": "Millard",
          "normalized_error": null,
          "sample_id": "ppc",
          "unnormalized_error": null
         },
         {
          "author": "Millard",
          "normalized_error": 0.18732914736336762,
          "sample_id": "ppsA",
          "unnormalized_error": 70.06736183508228
         },
         {
          "author": "Millard",
          "normalized_error": null,
          "sample_id": "pts",
          "unnormalized_error": null
         },
         {
          "author": "Millard",
          "normalized_error": 0.29233605477908076,
          "sample_id": "pykA",
          "unnormalized_error": 109.11930297346518
         },
         {
          "author": "Millard",
          "normalized_error": null,
          "sample_id": "pykAF",
          "unnormalized_error": null
         },
         {
          "author": "Millard",
          "normalized_error": 0.28384269179698235,
          "sample_id": "pykF",
          "unnormalized_error": 100.19486201753762
         },
         {
          "author": "Millard",
          "normalized_error": 0.2679820140682344,
          "sample_id": "rpe",
          "unnormalized_error": 117.66150035536342
         },
         {
          "author": "Millard",
          "normalized_error": 0.24880667871048653,
          "sample_id": "rpiA",
          "unnormalized_error": 95.23219856419325
         },
         {
          "author": "Millard",
          "normalized_error": 0.26562648222449475,
          "sample_id": "rpiB",
          "unnormalized_error": 110.6604515697857
         },
         {
          "author": "Millard",
          "normalized_error": null,
          "sample_id": "sdhCD",
          "unnormalized_error": null
         },
         {
          "author": "Millard",
          "normalized_error": null,
          "sample_id": "sucA",
          "unnormalized_error": null
         },
         {
          "author": "Millard",
          "normalized_error": null,
          "sample_id": "sucAB",
          "unnormalized_error": null
         },
         {
          "author": "Millard",
          "normalized_error": null,
          "sample_id": "talA",
          "unnormalized_error": null
         },
         {
          "author": "Millard",
          "normalized_error": null,
          "sample_id": "talAB",
          "unnormalized_error": null
         },
         {
          "author": "Millard",
          "normalized_error": null,
          "sample_id": "talB",
          "unnormalized_error": null
         },
         {
          "author": "Millard",
          "normalized_error": null,
          "sample_id": "tkt1",
          "unnormalized_error": null
         },
         {
          "author": "Millard",
          "normalized_error": null,
          "sample_id": "tkt2",
          "unnormalized_error": null
         },
         {
          "author": "Millard",
          "normalized_error": null,
          "sample_id": "tktA",
          "unnormalized_error": null
         },
         {
          "author": "Millard",
          "normalized_error": null,
          "sample_id": "tktB",
          "unnormalized_error": null
         },
         {
          "author": "Millard",
          "normalized_error": null,
          "sample_id": "tpi",
          "unnormalized_error": null
         },
         {
          "author": "Millard",
          "normalized_error": 0.16084745679000298,
          "sample_id": "zwf",
          "unnormalized_error": 68.59252996227919
         },
         {
          "author": "iML1515",
          "normalized_error": 0.9388098006140072,
          "sample_id": "WT",
          "unnormalized_error": 353.9440569362145
         },
         {
          "author": "iML1515",
          "normalized_error": null,
          "sample_id": "fbaA",
          "unnormalized_error": null
         },
         {
          "author": "iML1515",
          "normalized_error": 0.98017313953916,
          "sample_id": "fbaB",
          "unnormalized_error": 358.48886226742144
         },
         {
          "author": "iML1515",
          "normalized_error": 0.9364246191381635,
          "sample_id": "fbp",
          "unnormalized_error": 356.88713556165055
         },
         {
          "author": "iML1515",
          "normalized_error": null,
          "sample_id": "glk",
          "unnormalized_error": null
         },
         {
          "author": "iML1515",
          "normalized_error": 0.8749731934081896,
          "sample_id": "gnd",
          "unnormalized_error": 380.4312609283008
         },
         {
          "author": "iML1515",
          "normalized_error": null,
          "sample_id": "gpmA",
          "unnormalized_error": null
         },
         {
          "author": "iML1515",
          "normalized_error": null,
          "sample_id": "gpmB",
          "unnormalized_error": null
         },
         {
          "author": "iML1515",
          "normalized_error": 0.9726868035028066,
          "sample_id": "pfkA",
          "unnormalized_error": 362.4834536203058
         },
         {
          "author": "iML1515",
          "normalized_error": 0.993600839649014,
          "sample_id": "pfkB",
          "unnormalized_error": 356.23188335212654
         },
         {
          "author": "iML1515",
          "normalized_error": 1.0033487318288141,
          "sample_id": "pgi",
          "unnormalized_error": 305.349533484279
         },
         {
          "author": "iML1515",
          "normalized_error": 0.941611553505348,
          "sample_id": "pgl",
          "unnormalized_error": 361.41696082511413
         },
         {
          "author": "iML1515",
          "normalized_error": null,
          "sample_id": "pgm",
          "unnormalized_error": null
         },
         {
          "author": "iML1515",
          "normalized_error": null,
          "sample_id": "ppc",
          "unnormalized_error": null
         },
         {
          "author": "iML1515",
          "normalized_error": 0.9465179422832674,
          "sample_id": "ppsA",
          "unnormalized_error": 354.0293439585054
         },
         {
          "author": "iML1515",
          "normalized_error": null,
          "sample_id": "pts",
          "unnormalized_error": null
         },
         {
          "author": "iML1515",
          "normalized_error": 0.9442354810871038,
          "sample_id": "pykA",
          "unnormalized_error": 352.4516249523264
         },
         {
          "author": "iML1515",
          "normalized_error": null,
          "sample_id": "pykAF",
          "unnormalized_error": null
         },
         {
          "author": "iML1515",
          "normalized_error": 0.9714586574022167,
          "sample_id": "pykF",
          "unnormalized_error": 342.9194020037554
         },
         {
          "author": "iML1515",
          "normalized_error": 0.8819975032153864,
          "sample_id": "rpe",
          "unnormalized_error": 387.2541591973511
         },
         {
          "author": "iML1515",
          "normalized_error": 0.9377111060660918,
          "sample_id": "rpiA",
          "unnormalized_error": 358.9143615901319
         },
         {
          "author": "iML1515",
          "normalized_error": 0.952210267749317,
          "sample_id": "rpiB",
          "unnormalized_error": 396.6924432236038
         },
         {
          "author": "iML1515",
          "normalized_error": null,
          "sample_id": "sdhCD",
          "unnormalized_error": null
         },
         {
          "author": "iML1515",
          "normalized_error": null,
          "sample_id": "sucA",
          "unnormalized_error": null
         },
         {
          "author": "iML1515",
          "normalized_error": null,
          "sample_id": "sucAB",
          "unnormalized_error": null
         },
         {
          "author": "iML1515",
          "normalized_error": 0.9404585947310189,
          "sample_id": "talA",
          "unnormalized_error": 356.0104737113971
         },
         {
          "author": "iML1515",
          "normalized_error": null,
          "sample_id": "talAB",
          "unnormalized_error": null
         },
         {
          "author": "iML1515",
          "normalized_error": null,
          "sample_id": "talB",
          "unnormalized_error": null
         },
         {
          "author": "iML1515",
          "normalized_error": null,
          "sample_id": "tkt1",
          "unnormalized_error": null
         },
         {
          "author": "iML1515",
          "normalized_error": null,
          "sample_id": "tkt2",
          "unnormalized_error": null
         },
         {
          "author": "iML1515",
          "normalized_error": 0.8737519746950033,
          "sample_id": "tktA",
          "unnormalized_error": 393.9952957979878
         },
         {
          "author": "iML1515",
          "normalized_error": 0.9111759680260417,
          "sample_id": "tktB",
          "unnormalized_error": 356.16608678852964
         },
         {
          "author": "iML1515",
          "normalized_error": null,
          "sample_id": "tpi",
          "unnormalized_error": null
         },
         {
          "author": "iML1515",
          "normalized_error": 0.8976278708570832,
          "sample_id": "zwf",
          "unnormalized_error": 382.78856163157
         }
        ]
       },
       "facet": {
        "column": {
         "field": "author",
         "type": "nominal"
        }
       },
       "spec": {
        "encoding": {
         "color": {
          "field": "author",
          "type": "nominal"
         },
         "x": {
          "axis": {
           "grid": false,
           "labels": false,
           "ticks": true
          },
          "field": "jitter",
          "scale": {},
          "title": null,
          "type": "quantitative"
         },
         "y": {
          "field": "normalized_error",
          "title": "Normalized error",
          "type": "quantitative"
         }
        },
        "mark": "circle",
        "title": "Normalized error knockout simulations",
        "transform": [
         {
          "as": "jitter",
          "calculate": "sqrt(-2*log(random()))*cos(2*PI*random())"
         }
        ]
       }
      },
      "image/png": "[encoded data removed]",
      "text/plain": [
       "<VegaLite 3 object>\n",
       "\n",
       "If you see this message, it means the renderer has not been properly enabled\n",
       "for the frontend that you are using. For more information, see\n",
       "https://altair-viz.github.io/user_guide/troubleshooting.html\n"
      ]
     },
     "execution_count": 11,
     "metadata": {},
     "output_type": "execute_result"
    }
   ],
   "source": [
    "(\n",
    "    alt.Chart(\n",
    "        x_norm_error.to_dataframe()\n",
    "        .reset_index()\n",
    "        .query(\"author != 'Ishii' and author != 'Ec_core'\"),\n",
    "        title=\"Normalized error knockout simulations\",\n",
    "    )\n",
    "    .mark_circle()\n",
    "    .encode(\n",
    "        y=alt.Y(\"normalized_error\", title=\"Normalized error\"),\n",
    "        x=alt.X(\n",
    "            \"jitter:Q\", title=None, axis=alt.Axis(grid=False, labels=False, ticks=True), scale=alt.Scale()\n",
    "        ),\n",
    "        color = alt.Color(\"author:N\")\n",
    "    )\n",
    "    .transform_calculate(jitter=\"sqrt(-2*log(random()))*cos(2*PI*random())\")\n",
    "    .facet(column=\"author:N\")\n",
    "    .configure(facet=alt.CompositionConfig(spacing=0),\n",
    "               view=alt.ViewConfig(stroke=None),\n",
    "               header=alt.HeaderConfig(labelAlign=alt.Align(\"right\"),\n",
    "                labelAngle=-90,\n",
    "                labelOrient=alt.Orient(\"bottom\"),\n",
    "                labelPadding=3,\n",
    "                titleOrient=alt.Orient(\"top\")))\n",
    ")"
   ]
  },
  {
   "cell_type": "code",
   "execution_count": 12,
   "metadata": {},
   "outputs": [],
   "source": [
    "def heatmap(xdf, author=None, sample_id=None):\n",
    "    data = xdf['relative_error'].to_dataframe().reset_index()\n",
    "    if sample_id:\n",
    "        data = data.query(f\"sample_id == '{sample_id}'\")\n",
    "        title = f\"Heatmap for sample_id {sample_id}\"\n",
    "    else:\n",
    "        data = data.query(f\"author == '{author}'\")\n",
    "        title = f\"Heatmap for author {author}\"\n",
    "\n",
    "    base = (\n",
    "        alt.Chart(data, title=title)\n",
    "        .mark_rect()\n",
    "        .encode(\n",
    "            y=alt.Y(\"BiGG_ID:N\"),\n",
    "            color=alt.condition(\n",
    "                \"datum.relative_error === null\",\n",
    "                alt.ColorValue(\"lightgrey\"),\n",
    "                alt.Color(\n",
    "                    \"relative_error\",\n",
    "                    scale=alt.Scale(\n",
    "                        domain=[0, 25, 50, 75, 100, 200, 300], type=\"threshold\", scheme=\"greenblue\",\n",
    "                    ),\n",
    "                    title = \"relative error (clipped at 300)\"\n",
    "                ),\n",
    "            ),\n",
    "            tooltip=[\"sample_id\", \"BiGG_ID\", \"relative_error\"],\n",
    "        )\n",
    "    )\n",
    "    if sample_id:\n",
    "        chart = base.encode(x=alt.X(\"author:N\"))\n",
    "    else:\n",
    "        chart = base.encode(x=alt.X(\"sample_id:N\"))\n",
    "\n",
    "    return chart.configure(invalidValues=None)"
   ]
  },
  {
   "cell_type": "code",
   "execution_count": 13,
   "metadata": {},
   "outputs": [
    {
     "data": {
      "application/vnd.vegalite.v3+json": {
       "$schema": "https://vega.github.io/schema/vega-lite/v3.2.1.json",
       "config": {
        "invalidValues": null,
        "mark": {
         "tooltip": null
        },
        "view": {
         "height": 300,
         "width": 400
        }
       },
       "data": {
        "name": "data-494c86eccb4e7754980913879b6e5b51"
       },
       "datasets": {
        "data-494c86eccb4e7754980913879b6e5b51": [
         {
          "BiGG_ID": "AKGDH",
          "author": "Chassagnole",
          "relative_error": null,
          "sample_id": "gpmA"
         },
         {
          "BiGG_ID": "CS",
          "author": "Chassagnole",
          "relative_error": null,
          "sample_id": "gpmA"
         },
         {
          "BiGG_ID": "EDA",
          "author": "Chassagnole",
          "relative_error": null,
          "sample_id": "gpmA"
         },
         {
          "BiGG_ID": "FBA",
          "author": "Chassagnole",
          "relative_error": null,
          "sample_id": "gpmA"
         },
         {
          "BiGG_ID": "FUM",
          "author": "Chassagnole",
          "relative_error": null,
          "sample_id": "gpmA"
         },
         {
          "BiGG_ID": "G6PDH2r",
          "author": "Chassagnole",
          "relative_error": null,
          "sample_id": "gpmA"
         },
         {
          "BiGG_ID": "GAPD",
          "author": "Chassagnole",
          "relative_error": null,
          "sample_id": "gpmA"
         },
         {
          "BiGG_ID": "GLCptspp",
          "author": "Chassagnole",
          "relative_error": null,
          "sample_id": "gpmA"
         },
         {
          "BiGG_ID": "GND",
          "author": "Chassagnole",
          "relative_error": null,
          "sample_id": "gpmA"
         },
         {
          "BiGG_ID": "ICDHyr",
          "author": "Chassagnole",
          "relative_error": null,
          "sample_id": "gpmA"
         },
         {
          "BiGG_ID": "ICL",
          "author": "Chassagnole",
          "relative_error": null,
          "sample_id": "gpmA"
         },
         {
          "BiGG_ID": "MALS",
          "author": "Chassagnole",
          "relative_error": null,
          "sample_id": "gpmA"
         },
         {
          "BiGG_ID": "MDH",
          "author": "Chassagnole",
          "relative_error": null,
          "sample_id": "gpmA"
         },
         {
          "BiGG_ID": "PDH",
          "author": "Chassagnole",
          "relative_error": null,
          "sample_id": "gpmA"
         },
         {
          "BiGG_ID": "PGI",
          "author": "Chassagnole",
          "relative_error": null,
          "sample_id": "gpmA"
         },
         {
          "BiGG_ID": "PGM",
          "author": "Chassagnole",
          "relative_error": null,
          "sample_id": "gpmA"
         },
         {
          "BiGG_ID": "PPC",
          "author": "Chassagnole",
          "relative_error": null,
          "sample_id": "gpmA"
         },
         {
          "BiGG_ID": "PTAr",
          "author": "Chassagnole",
          "relative_error": null,
          "sample_id": "gpmA"
         },
         {
          "BiGG_ID": "PYK",
          "author": "Chassagnole",
          "relative_error": null,
          "sample_id": "gpmA"
         },
         {
          "BiGG_ID": "RPE",
          "author": "Chassagnole",
          "relative_error": null,
          "sample_id": "gpmA"
         },
         {
          "BiGG_ID": "RPI",
          "author": "Chassagnole",
          "relative_error": null,
          "sample_id": "gpmA"
         },
         {
          "BiGG_ID": "SUCDi",
          "author": "Chassagnole",
          "relative_error": null,
          "sample_id": "gpmA"
         },
         {
          "BiGG_ID": "TALA",
          "author": "Chassagnole",
          "relative_error": null,
          "sample_id": "gpmA"
         },
         {
          "BiGG_ID": "TKT1",
          "author": "Chassagnole",
          "relative_error": null,
          "sample_id": "gpmA"
         },
         {
          "BiGG_ID": "TPI",
          "author": "Chassagnole",
          "relative_error": null,
          "sample_id": "gpmA"
         },
         {
          "BiGG_ID": "AKGDH",
          "author": "ECC2",
          "relative_error": 100,
          "sample_id": "gpmA"
         },
         {
          "BiGG_ID": "CS",
          "author": "ECC2",
          "relative_error": 1019.9874686716792,
          "sample_id": "gpmA"
         },
         {
          "BiGG_ID": "EDA",
          "author": "ECC2",
          "relative_error": 100,
          "sample_id": "gpmA"
         },
         {
          "BiGG_ID": "FBA",
          "author": "ECC2",
          "relative_error": 83.78519614280023,
          "sample_id": "gpmA"
         },
         {
          "BiGG_ID": "FUM",
          "author": "ECC2",
          "relative_error": 16.743280607509202,
          "sample_id": "gpmA"
         },
         {
          "BiGG_ID": "G6PDH2r",
          "author": "ECC2",
          "relative_error": 73.8170117964821,
          "sample_id": "gpmA"
         },
         {
          "BiGG_ID": "GAPD",
          "author": "ECC2",
          "relative_error": 1407.1909602858004,
          "sample_id": "gpmA"
         },
         {
          "BiGG_ID": "GLCptspp",
          "author": "ECC2",
          "relative_error": 0,
          "sample_id": "gpmA"
         },
         {
          "BiGG_ID": "GND",
          "author": "ECC2",
          "relative_error": 22.06792807354804,
          "sample_id": "gpmA"
         },
         {
          "BiGG_ID": "ICDHyr",
          "author": "ECC2",
          "relative_error": 921.9885651629072,
          "sample_id": "gpmA"
         },
         {
          "BiGG_ID": "ICL",
          "author": "ECC2",
          "relative_error": 100,
          "sample_id": "gpmA"
         },
         {
          "BiGG_ID": "MALS",
          "author": "ECC2",
          "relative_error": 100,
          "sample_id": "gpmA"
         },
         {
          "BiGG_ID": "MDH",
          "author": "ECC2",
          "relative_error": 28.093321777683705,
          "sample_id": "gpmA"
         },
         {
          "BiGG_ID": "PDH",
          "author": "ECC2",
          "relative_error": 15.707820241686033,
          "sample_id": "gpmA"
         },
         {
          "BiGG_ID": "PGI",
          "author": "ECC2",
          "relative_error": 113.4135852323998,
          "sample_id": "gpmA"
         },
         {
          "BiGG_ID": "PGM",
          "author": "ECC2",
          "relative_error": 100,
          "sample_id": "gpmA"
         },
         {
          "BiGG_ID": "PPC",
          "author": "ECC2",
          "relative_error": 100,
          "sample_id": "gpmA"
         },
         {
          "BiGG_ID": "PTAr",
          "author": "ECC2",
          "relative_error": 100,
          "sample_id": "gpmA"
         },
         {
          "BiGG_ID": "PYK",
          "author": "ECC2",
          "relative_error": 100,
          "sample_id": "gpmA"
         },
         {
          "BiGG_ID": "RPE",
          "author": "ECC2",
          "relative_error": 41.382361967473024,
          "sample_id": "gpmA"
         },
         {
          "BiGG_ID": "RPI",
          "author": "ECC2",
          "relative_error": 193.72540639079995,
          "sample_id": "gpmA"
         },
         {
          "BiGG_ID": "SUCDi",
          "author": "ECC2",
          "relative_error": 26.387266749156257,
          "sample_id": "gpmA"
         },
         {
          "BiGG_ID": "TALA",
          "author": "ECC2",
          "relative_error": 27.688844186323514,
          "sample_id": "gpmA"
         },
         {
          "BiGG_ID": "TKT1",
          "author": "ECC2",
          "relative_error": 27.688844186323514,
          "sample_id": "gpmA"
         },
         {
          "BiGG_ID": "TPI",
          "author": "ECC2",
          "relative_error": 208.42639454633397,
          "sample_id": "gpmA"
         },
         {
          "BiGG_ID": "AKGDH",
          "author": "Exp_ECC2",
          "relative_error": 12.556050502640502,
          "sample_id": "gpmA"
         },
         {
          "BiGG_ID": "CS",
          "author": "Exp_ECC2",
          "relative_error": 1.2388310959554234,
          "sample_id": "gpmA"
         },
         {
          "BiGG_ID": "EDA",
          "author": "Exp_ECC2",
          "relative_error": 100,
          "sample_id": "gpmA"
         },
         {
          "BiGG_ID": "FBA",
          "author": "Exp_ECC2",
          "relative_error": 100,
          "sample_id": "gpmA"
         },
         {
          "BiGG_ID": "FUM",
          "author": "Exp_ECC2",
          "relative_error": 13.723465943561596,
          "sample_id": "gpmA"
         },
         {
          "BiGG_ID": "G6PDH2r",
          "author": "Exp_ECC2",
          "relative_error": 84.39795652235553,
          "sample_id": "gpmA"
         },
         {
          "BiGG_ID": "GAPD",
          "author": "Exp_ECC2",
          "relative_error": 1407.1909602858004,
          "sample_id": "gpmA"
         },
         {
          "BiGG_ID": "GLCptspp",
          "author": "Exp_ECC2",
          "relative_error": 0,
          "sample_id": "gpmA"
         },
         {
          "BiGG_ID": "GND",
          "author": "Exp_ECC2",
          "relative_error": 27.964205816554777,
          "sample_id": "gpmA"
         },
         {
          "BiGG_ID": "ICDHyr",
          "author": "Exp_ECC2",
          "relative_error": 14.056268779022119,
          "sample_id": "gpmA"
         },
         {
          "BiGG_ID": "ICL",
          "author": "Exp_ECC2",
          "relative_error": 58.82352941176466,
          "sample_id": "gpmA"
         },
         {
          "BiGG_ID": "MALS",
          "author": "Exp_ECC2",
          "relative_error": 58.82352941176466,
          "sample_id": "gpmA"
         },
         {
          "BiGG_ID": "MDH",
          "author": "Exp_ECC2",
          "relative_error": 21.355933147322055,
          "sample_id": "gpmA"
         },
         {
          "BiGG_ID": "PDH",
          "author": "Exp_ECC2",
          "relative_error": 18.086654145067342,
          "sample_id": "gpmA"
         },
         {
          "BiGG_ID": "PGI",
          "author": "Exp_ECC2",
          "relative_error": 3354.0479572479185,
          "sample_id": "gpmA"
         },
         {
          "BiGG_ID": "PGM",
          "author": "Exp_ECC2",
          "relative_error": 100,
          "sample_id": "gpmA"
         },
         {
          "BiGG_ID": "PPC",
          "author": "Exp_ECC2",
          "relative_error": 100,
          "sample_id": "gpmA"
         },
         {
          "BiGG_ID": "PTAr",
          "author": "Exp_ECC2",
          "relative_error": 100,
          "sample_id": "gpmA"
         },
         {
          "BiGG_ID": "PYK",
          "author": "Exp_ECC2",
          "relative_error": 100,
          "sample_id": "gpmA"
         },
         {
          "BiGG_ID": "RPE",
          "author": "Exp_ECC2",
          "relative_error": 57.31251263725519,
          "sample_id": "gpmA"
         },
         {
          "BiGG_ID": "RPI",
          "author": "Exp_ECC2",
          "relative_error": 221.40372341283543,
          "sample_id": "gpmA"
         },
         {
          "BiGG_ID": "SUCDi",
          "author": "Exp_ECC2",
          "relative_error": 13.04563530578238,
          "sample_id": "gpmA"
         },
         {
          "BiGG_ID": "TALA",
          "author": "Exp_ECC2",
          "relative_error": 40.06017200466507,
          "sample_id": "gpmA"
         },
         {
          "BiGG_ID": "TKT1",
          "author": "Exp_ECC2",
          "relative_error": 40.06017200466507,
          "sample_id": "gpmA"
         },
         {
          "BiGG_ID": "TPI",
          "author": "Exp_ECC2",
          "relative_error": 208.42639454633397,
          "sample_id": "gpmA"
         },
         {
          "BiGG_ID": "AKGDH",
          "author": "Exp_iML1515",
          "relative_error": 5.164365514379735,
          "sample_id": "gpmA"
         },
         {
          "BiGG_ID": "CS",
          "author": "Exp_iML1515",
          "relative_error": 1.238831095955458,
          "sample_id": "gpmA"
         },
         {
          "BiGG_ID": "EDA",
          "author": "Exp_iML1515",
          "relative_error": 100,
          "sample_id": "gpmA"
         },
         {
          "BiGG_ID": "FBA",
          "author": "Exp_iML1515",
          "relative_error": 3.6100930957496056,
          "sample_id": "gpmA"
         },
         {
          "BiGG_ID": "FUM",
          "author": "Exp_iML1515",
          "relative_error": 9.429978888106994,
          "sample_id": "gpmA"
         },
         {
          "BiGG_ID": "G6PDH2r",
          "author": "Exp_iML1515",
          "relative_error": 18.95829230891535,
          "sample_id": "gpmA"
         },
         {
          "BiGG_ID": "GAPD",
          "author": "Exp_iML1515",
          "relative_error": 2.6507995817330983,
          "sample_id": "gpmA"
         },
         {
          "BiGG_ID": "GLCptspp",
          "author": "Exp_iML1515",
          "relative_error": 0,
          "sample_id": "gpmA"
         },
         {
          "BiGG_ID": "GND",
          "author": "Exp_iML1515",
          "relative_error": 17.93400286944046,
          "sample_id": "gpmA"
         },
         {
          "BiGG_ID": "ICDHyr",
          "author": "Exp_iML1515",
          "relative_error": 7.352941176470589,
          "sample_id": "gpmA"
         },
         {
          "BiGG_ID": "ICL",
          "author": "Exp_iML1515",
          "relative_error": 46.16832481849955,
          "sample_id": "gpmA"
         },
         {
          "BiGG_ID": "MALS",
          "author": "Exp_iML1515",
          "relative_error": 46.18671741422534,
          "sample_id": "gpmA"
         },
         {
          "BiGG_ID": "MDH",
          "author": "Exp_iML1515",
          "relative_error": 8.670520231214518,
          "sample_id": "gpmA"
         },
         {
          "BiGG_ID": "PDH",
          "author": "Exp_iML1515",
          "relative_error": 5.223545270724806,
          "sample_id": "gpmA"
         },
         {
          "BiGG_ID": "PGI",
          "author": "Exp_iML1515",
          "relative_error": 4.4241579029340645,
          "sample_id": "gpmA"
         },
         {
          "BiGG_ID": "PGM",
          "author": "Exp_iML1515",
          "relative_error": 100,
          "sample_id": "gpmA"
         },
         {
          "BiGG_ID": "PPC",
          "author": "Exp_iML1515",
          "relative_error": 77.7087378640777,
          "sample_id": "gpmA"
         },
         {
          "BiGG_ID": "PTAr",
          "author": "Exp_iML1515",
          "relative_error": 100,
          "sample_id": "gpmA"
         },
         {
          "BiGG_ID": "PYK",
          "author": "Exp_iML1515",
          "relative_error": 11.724194793740631,
          "sample_id": "gpmA"
         },
         {
          "BiGG_ID": "RPE",
          "author": "Exp_iML1515",
          "relative_error": 36.25072030000533,
          "sample_id": "gpmA"
         },
         {
          "BiGG_ID": "RPI",
          "author": "Exp_iML1515",
          "relative_error": 196.5857342072503,
          "sample_id": "gpmA"
         },
         {
          "BiGG_ID": "SUCDi",
          "author": "Exp_iML1515",
          "relative_error": 2.524092518212524,
          "sample_id": "gpmA"
         },
         {
          "BiGG_ID": "TALA",
          "author": "Exp_iML1515",
          "relative_error": 233.54346173246157,
          "sample_id": "gpmA"
         },
         {
          "BiGG_ID": "TKT1",
          "author": "Exp_iML1515",
          "relative_error": 22.90358054912132,
          "sample_id": "gpmA"
         },
         {
          "BiGG_ID": "TPI",
          "author": "Exp_iML1515",
          "relative_error": 0.06599241046131547,
          "sample_id": "gpmA"
         },
         {
          "BiGG_ID": "AKGDH",
          "author": "Ishii",
          "relative_error": 0,
          "sample_id": "gpmA"
         },
         {
          "BiGG_ID": "CS",
          "author": "Ishii",
          "relative_error": 0,
          "sample_id": "gpmA"
         },
         {
          "BiGG_ID": "EDA",
          "author": "Ishii",
          "relative_error": 0,
          "sample_id": "gpmA"
         },
         {
          "BiGG_ID": "FBA",
          "author": "Ishii",
          "relative_error": 0,
          "sample_id": "gpmA"
         },
         {
          "BiGG_ID": "FUM",
          "author": "Ishii",
          "relative_error": 0,
          "sample_id": "gpmA"
         },
         {
          "BiGG_ID": "G6PDH2r",
          "author": "Ishii",
          "relative_error": 0,
          "sample_id": "gpmA"
         },
         {
          "BiGG_ID": "GAPD",
          "author": "Ishii",
          "relative_error": 0,
          "sample_id": "gpmA"
         },
         {
          "BiGG_ID": "GLCptspp",
          "author": "Ishii",
          "relative_error": 0,
          "sample_id": "gpmA"
         },
         {
          "BiGG_ID": "GND",
          "author": "Ishii",
          "relative_error": 0,
          "sample_id": "gpmA"
         },
         {
          "BiGG_ID": "ICDHyr",
          "author": "Ishii",
          "relative_error": 0,
          "sample_id": "gpmA"
         },
         {
          "BiGG_ID": "ICL",
          "author": "Ishii",
          "relative_error": 0,
          "sample_id": "gpmA"
         },
         {
          "BiGG_ID": "MALS",
          "author": "Ishii",
          "relative_error": 0,
          "sample_id": "gpmA"
         },
         {
          "BiGG_ID": "MDH",
          "author": "Ishii",
          "relative_error": 0,
          "sample_id": "gpmA"
         },
         {
          "BiGG_ID": "PDH",
          "author": "Ishii",
          "relative_error": 0,
          "sample_id": "gpmA"
         },
         {
          "BiGG_ID": "PGI",
          "author": "Ishii",
          "relative_error": 0,
          "sample_id": "gpmA"
         },
         {
          "BiGG_ID": "PGM",
          "author": "Ishii",
          "relative_error": 0,
          "sample_id": "gpmA"
         },
         {
          "BiGG_ID": "PPC",
          "author": "Ishii",
          "relative_error": 0,
          "sample_id": "gpmA"
         },
         {
          "BiGG_ID": "PTAr",
          "author": "Ishii",
          "relative_error": 0,
          "sample_id": "gpmA"
         },
         {
          "BiGG_ID": "PYK",
          "author": "Ishii",
          "relative_error": 0,
          "sample_id": "gpmA"
         },
         {
          "BiGG_ID": "RPE",
          "author": "Ishii",
          "relative_error": 0,
          "sample_id": "gpmA"
         },
         {
          "BiGG_ID": "RPI",
          "author": "Ishii",
          "relative_error": 0,
          "sample_id": "gpmA"
         },
         {
          "BiGG_ID": "SUCDi",
          "author": "Ishii",
          "relative_error": 0,
          "sample_id": "gpmA"
         },
         {
          "BiGG_ID": "TALA",
          "author": "Ishii",
          "relative_error": 0,
          "sample_id": "gpmA"
         },
         {
          "BiGG_ID": "TKT1",
          "author": "Ishii",
          "relative_error": 0,
          "sample_id": "gpmA"
         },
         {
          "BiGG_ID": "TPI",
          "author": "Ishii",
          "relative_error": 0,
          "sample_id": "gpmA"
         },
         {
          "BiGG_ID": "AKGDH",
          "author": "Khodayari",
          "relative_error": null,
          "sample_id": "gpmA"
         },
         {
          "BiGG_ID": "CS",
          "author": "Khodayari",
          "relative_error": null,
          "sample_id": "gpmA"
         },
         {
          "BiGG_ID": "EDA",
          "author": "Khodayari",
          "relative_error": null,
          "sample_id": "gpmA"
         },
         {
          "BiGG_ID": "FBA",
          "author": "Khodayari",
          "relative_error": null,
          "sample_id": "gpmA"
         },
         {
          "BiGG_ID": "FUM",
          "author": "Khodayari",
          "relative_error": null,
          "sample_id": "gpmA"
         },
         {
          "BiGG_ID": "G6PDH2r",
          "author": "Khodayari",
          "relative_error": null,
          "sample_id": "gpmA"
         },
         {
          "BiGG_ID": "GAPD",
          "author": "Khodayari",
          "relative_error": null,
          "sample_id": "gpmA"
         },
         {
          "BiGG_ID": "GLCptspp",
          "author": "Khodayari",
          "relative_error": null,
          "sample_id": "gpmA"
         },
         {
          "BiGG_ID": "GND",
          "author": "Khodayari",
          "relative_error": null,
          "sample_id": "gpmA"
         },
         {
          "BiGG_ID": "ICDHyr",
          "author": "Khodayari",
          "relative_error": null,
          "sample_id": "gpmA"
         },
         {
          "BiGG_ID": "ICL",
          "author": "Khodayari",
          "relative_error": null,
          "sample_id": "gpmA"
         },
         {
          "BiGG_ID": "MALS",
          "author": "Khodayari",
          "relative_error": null,
          "sample_id": "gpmA"
         },
         {
          "BiGG_ID": "MDH",
          "author": "Khodayari",
          "relative_error": null,
          "sample_id": "gpmA"
         },
         {
          "BiGG_ID": "PDH",
          "author": "Khodayari",
          "relative_error": null,
          "sample_id": "gpmA"
         },
         {
          "BiGG_ID": "PGI",
          "author": "Khodayari",
          "relative_error": null,
          "sample_id": "gpmA"
         },
         {
          "BiGG_ID": "PGM",
          "author": "Khodayari",
          "relative_error": null,
          "sample_id": "gpmA"
         },
         {
          "BiGG_ID": "PPC",
          "author": "Khodayari",
          "relative_error": null,
          "sample_id": "gpmA"
         },
         {
          "BiGG_ID": "PTAr",
          "author": "Khodayari",
          "relative_error": null,
          "sample_id": "gpmA"
         },
         {
          "BiGG_ID": "PYK",
          "author": "Khodayari",
          "relative_error": null,
          "sample_id": "gpmA"
         },
         {
          "BiGG_ID": "RPE",
          "author": "Khodayari",
          "relative_error": null,
          "sample_id": "gpmA"
         },
         {
          "BiGG_ID": "RPI",
          "author": "Khodayari",
          "relative_error": null,
          "sample_id": "gpmA"
         },
         {
          "BiGG_ID": "SUCDi",
          "author": "Khodayari",
          "relative_error": null,
          "sample_id": "gpmA"
         },
         {
          "BiGG_ID": "TALA",
          "author": "Khodayari",
          "relative_error": null,
          "sample_id": "gpmA"
         },
         {
          "BiGG_ID": "TKT1",
          "author": "Khodayari",
          "relative_error": null,
          "sample_id": "gpmA"
         },
         {
          "BiGG_ID": "TPI",
          "author": "Khodayari",
          "relative_error": null,
          "sample_id": "gpmA"
         },
         {
          "BiGG_ID": "AKGDH",
          "author": "Kurata",
          "relative_error": 100,
          "sample_id": "gpmA"
         },
         {
          "BiGG_ID": "CS",
          "author": "Kurata",
          "relative_error": 100,
          "sample_id": "gpmA"
         },
         {
          "BiGG_ID": "EDA",
          "author": "Kurata",
          "relative_error": 0,
          "sample_id": "gpmA"
         },
         {
          "BiGG_ID": "FBA",
          "author": "Kurata",
          "relative_error": 100,
          "sample_id": "gpmA"
         },
         {
          "BiGG_ID": "FUM",
          "author": "Kurata",
          "relative_error": 100,
          "sample_id": "gpmA"
         },
         {
          "BiGG_ID": "G6PDH2r",
          "author": "Kurata",
          "relative_error": 100,
          "sample_id": "gpmA"
         },
         {
          "BiGG_ID": "GAPD",
          "author": "Kurata",
          "relative_error": 100,
          "sample_id": "gpmA"
         },
         {
          "BiGG_ID": "GLCptspp",
          "author": "Kurata",
          "relative_error": 100,
          "sample_id": "gpmA"
         },
         {
          "BiGG_ID": "GND",
          "author": "Kurata",
          "relative_error": 100,
          "sample_id": "gpmA"
         },
         {
          "BiGG_ID": "ICDHyr",
          "author": "Kurata",
          "relative_error": 100,
          "sample_id": "gpmA"
         },
         {
          "BiGG_ID": "ICL",
          "author": "Kurata",
          "relative_error": 100,
          "sample_id": "gpmA"
         },
         {
          "BiGG_ID": "MALS",
          "author": "Kurata",
          "relative_error": 100,
          "sample_id": "gpmA"
         },
         {
          "BiGG_ID": "MDH",
          "author": "Kurata",
          "relative_error": 100,
          "sample_id": "gpmA"
         },
         {
          "BiGG_ID": "PDH",
          "author": "Kurata",
          "relative_error": 100,
          "sample_id": "gpmA"
         },
         {
          "BiGG_ID": "PGI",
          "author": "Kurata",
          "relative_error": 100,
          "sample_id": "gpmA"
         },
         {
          "BiGG_ID": "PGM",
          "author": "Kurata",
          "relative_error": 100,
          "sample_id": "gpmA"
         },
         {
          "BiGG_ID": "PPC",
          "author": "Kurata",
          "relative_error": 100,
          "sample_id": "gpmA"
         },
         {
          "BiGG_ID": "PTAr",
          "author": "Kurata",
          "relative_error": 0,
          "sample_id": "gpmA"
         },
         {
          "BiGG_ID": "PYK",
          "author": "Kurata",
          "relative_error": 100,
          "sample_id": "gpmA"
         },
         {
          "BiGG_ID": "RPE",
          "author": "Kurata",
          "relative_error": 100,
          "sample_id": "gpmA"
         },
         {
          "BiGG_ID": "RPI",
          "author": "Kurata",
          "relative_error": 100,
          "sample_id": "gpmA"
         },
         {
          "BiGG_ID": "SUCDi",
          "author": "Kurata",
          "relative_error": 100,
          "sample_id": "gpmA"
         },
         {
          "BiGG_ID": "TALA",
          "author": "Kurata",
          "relative_error": 100,
          "sample_id": "gpmA"
         },
         {
          "BiGG_ID": "TKT1",
          "author": "Kurata",
          "relative_error": 100,
          "sample_id": "gpmA"
         },
         {
          "BiGG_ID": "TPI",
          "author": "Kurata",
          "relative_error": 100,
          "sample_id": "gpmA"
         },
         {
          "BiGG_ID": "AKGDH",
          "author": "Millard",
          "relative_error": null,
          "sample_id": "gpmA"
         },
         {
          "BiGG_ID": "CS",
          "author": "Millard",
          "relative_error": null,
          "sample_id": "gpmA"
         },
         {
          "BiGG_ID": "EDA",
          "author": "Millard",
          "relative_error": null,
          "sample_id": "gpmA"
         },
         {
          "BiGG_ID": "FBA",
          "author": "Millard",
          "relative_error": null,
          "sample_id": "gpmA"
         },
         {
          "BiGG_ID": "FUM",
          "author": "Millard",
          "relative_error": null,
          "sample_id": "gpmA"
         },
         {
          "BiGG_ID": "G6PDH2r",
          "author": "Millard",
          "relative_error": null,
          "sample_id": "gpmA"
         },
         {
          "BiGG_ID": "GAPD",
          "author": "Millard",
          "relative_error": null,
          "sample_id": "gpmA"
         },
         {
          "BiGG_ID": "GLCptspp",
          "author": "Millard",
          "relative_error": null,
          "sample_id": "gpmA"
         },
         {
          "BiGG_ID": "GND",
          "author": "Millard",
          "relative_error": null,
          "sample_id": "gpmA"
         },
         {
          "BiGG_ID": "ICDHyr",
          "author": "Millard",
          "relative_error": null,
          "sample_id": "gpmA"
         },
         {
          "BiGG_ID": "ICL",
          "author": "Millard",
          "relative_error": null,
          "sample_id": "gpmA"
         },
         {
          "BiGG_ID": "MALS",
          "author": "Millard",
          "relative_error": null,
          "sample_id": "gpmA"
         },
         {
          "BiGG_ID": "MDH",
          "author": "Millard",
          "relative_error": null,
          "sample_id": "gpmA"
         },
         {
          "BiGG_ID": "PDH",
          "author": "Millard",
          "relative_error": null,
          "sample_id": "gpmA"
         },
         {
          "BiGG_ID": "PGI",
          "author": "Millard",
          "relative_error": null,
          "sample_id": "gpmA"
         },
         {
          "BiGG_ID": "PGM",
          "author": "Millard",
          "relative_error": null,
          "sample_id": "gpmA"
         },
         {
          "BiGG_ID": "PPC",
          "author": "Millard",
          "relative_error": null,
          "sample_id": "gpmA"
         },
         {
          "BiGG_ID": "PTAr",
          "author": "Millard",
          "relative_error": null,
          "sample_id": "gpmA"
         },
         {
          "BiGG_ID": "PYK",
          "author": "Millard",
          "relative_error": null,
          "sample_id": "gpmA"
         },
         {
          "BiGG_ID": "RPE",
          "author": "Millard",
          "relative_error": null,
          "sample_id": "gpmA"
         },
         {
          "BiGG_ID": "RPI",
          "author": "Millard",
          "relative_error": null,
          "sample_id": "gpmA"
         },
         {
          "BiGG_ID": "SUCDi",
          "author": "Millard",
          "relative_error": null,
          "sample_id": "gpmA"
         },
         {
          "BiGG_ID": "TALA",
          "author": "Millard",
          "relative_error": null,
          "sample_id": "gpmA"
         },
         {
          "BiGG_ID": "TKT1",
          "author": "Millard",
          "relative_error": null,
          "sample_id": "gpmA"
         },
         {
          "BiGG_ID": "TPI",
          "author": "Millard",
          "relative_error": null,
          "sample_id": "gpmA"
         },
         {
          "BiGG_ID": "AKGDH",
          "author": "iML1515",
          "relative_error": null,
          "sample_id": "gpmA"
         },
         {
          "BiGG_ID": "CS",
          "author": "iML1515",
          "relative_error": null,
          "sample_id": "gpmA"
         },
         {
          "BiGG_ID": "EDA",
          "author": "iML1515",
          "relative_error": null,
          "sample_id": "gpmA"
         },
         {
          "BiGG_ID": "FBA",
          "author": "iML1515",
          "relative_error": null,
          "sample_id": "gpmA"
         },
         {
          "BiGG_ID": "FUM",
          "author": "iML1515",
          "relative_error": null,
          "sample_id": "gpmA"
         },
         {
          "BiGG_ID": "G6PDH2r",
          "author": "iML1515",
          "relative_error": null,
          "sample_id": "gpmA"
         },
         {
          "BiGG_ID": "GAPD",
          "author": "iML1515",
          "relative_error": null,
          "sample_id": "gpmA"
         },
         {
          "BiGG_ID": "GLCptspp",
          "author": "iML1515",
          "relative_error": null,
          "sample_id": "gpmA"
         },
         {
          "BiGG_ID": "GND",
          "author": "iML1515",
          "relative_error": null,
          "sample_id": "gpmA"
         },
         {
          "BiGG_ID": "ICDHyr",
          "author": "iML1515",
          "relative_error": null,
          "sample_id": "gpmA"
         },
         {
          "BiGG_ID": "ICL",
          "author": "iML1515",
          "relative_error": null,
          "sample_id": "gpmA"
         },
         {
          "BiGG_ID": "MALS",
          "author": "iML1515",
          "relative_error": null,
          "sample_id": "gpmA"
         },
         {
          "BiGG_ID": "MDH",
          "author": "iML1515",
          "relative_error": null,
          "sample_id": "gpmA"
         },
         {
          "BiGG_ID": "PDH",
          "author": "iML1515",
          "relative_error": null,
          "sample_id": "gpmA"
         },
         {
          "BiGG_ID": "PGI",
          "author": "iML1515",
          "relative_error": null,
          "sample_id": "gpmA"
         },
         {
          "BiGG_ID": "PGM",
          "author": "iML1515",
          "relative_error": null,
          "sample_id": "gpmA"
         },
         {
          "BiGG_ID": "PPC",
          "author": "iML1515",
          "relative_error": null,
          "sample_id": "gpmA"
         },
         {
          "BiGG_ID": "PTAr",
          "author": "iML1515",
          "relative_error": null,
          "sample_id": "gpmA"
         },
         {
          "BiGG_ID": "PYK",
          "author": "iML1515",
          "relative_error": null,
          "sample_id": "gpmA"
         },
         {
          "BiGG_ID": "RPE",
          "author": "iML1515",
          "relative_error": null,
          "sample_id": "gpmA"
         },
         {
          "BiGG_ID": "RPI",
          "author": "iML1515",
          "relative_error": null,
          "sample_id": "gpmA"
         },
         {
          "BiGG_ID": "SUCDi",
          "author": "iML1515",
          "relative_error": null,
          "sample_id": "gpmA"
         },
         {
          "BiGG_ID": "TALA",
          "author": "iML1515",
          "relative_error": null,
          "sample_id": "gpmA"
         },
         {
          "BiGG_ID": "TKT1",
          "author": "iML1515",
          "relative_error": null,
          "sample_id": "gpmA"
         },
         {
          "BiGG_ID": "TPI",
          "author": "iML1515",
          "relative_error": null,
          "sample_id": "gpmA"
         }
        ]
       },
       "encoding": {
        "color": {
         "condition": {
          "test": "datum.relative_error === null",
          "value": "lightgrey"
         },
         "field": "relative_error",
         "scale": {
          "domain": [
           0,
           25,
           50,
           75,
           100,
           200,
           300
          ],
          "scheme": "greenblue",
          "type": "threshold"
         },
         "title": "relative error (clipped at 300)",
         "type": "quantitative"
        },
        "tooltip": [
         {
          "field": "sample_id",
          "type": "nominal"
         },
         {
          "field": "BiGG_ID",
          "type": "nominal"
         },
         {
          "field": "relative_error",
          "type": "quantitative"
         }
        ],
        "x": {
         "field": "author",
         "type": "nominal"
        },
        "y": {
         "field": "BiGG_ID",
         "type": "nominal"
        }
       },
       "mark": "rect",
       "title": "Heatmap for sample_id gpmA"
      },
      "image/png": "[encoded data removed]",
      "text/plain": [
       "<VegaLite 3 object>\n",
       "\n",
       "If you see this message, it means the renderer has not been properly enabled\n",
       "for the frontend that you are using. For more information, see\n",
       "https://altair-viz.github.io/user_guide/troubleshooting.html\n"
      ]
     },
     "execution_count": 13,
     "metadata": {},
     "output_type": "execute_result"
    }
   ],
   "source": [
    "heatmap(x_rel_error, sample_id = \"gpmA\")"
   ]
  },
  {
   "cell_type": "code",
   "execution_count": 14,
   "metadata": {},
   "outputs": [
    {
     "data": {
      "application/vnd.vegalite.v3+json": {
       "$schema": "https://vega.github.io/schema/vega-lite/v3.2.1.json",
       "config": {
        "invalidValues": null,
        "mark": {
         "tooltip": null
        },
        "view": {
         "height": 300,
         "width": 400
        }
       },
       "data": {
        "name": "data-9e07548ceda772873cca2b49601297fa"
       },
       "datasets": {
        "data-9e07548ceda772873cca2b49601297fa": [
         {
          "BiGG_ID": "AKGDH",
          "author": "iML1515",
          "relative_error": 92.38273306983727,
          "sample_id": "WT"
         },
         {
          "BiGG_ID": "CS",
          "author": "iML1515",
          "relative_error": 123.48043096142467,
          "sample_id": "WT"
         },
         {
          "BiGG_ID": "EDA",
          "author": "iML1515",
          "relative_error": 0,
          "sample_id": "WT"
         },
         {
          "BiGG_ID": "FBA",
          "author": "iML1515",
          "relative_error": 111.36974984208743,
          "sample_id": "WT"
         },
         {
          "BiGG_ID": "FUM",
          "author": "iML1515",
          "relative_error": 102.15092775114785,
          "sample_id": "WT"
         },
         {
          "BiGG_ID": "G6PDH2r",
          "author": "iML1515",
          "relative_error": 36.30885604597102,
          "sample_id": "WT"
         },
         {
          "BiGG_ID": "GAPD",
          "author": "iML1515",
          "relative_error": 1.5019899169194668,
          "sample_id": "WT"
         },
         {
          "BiGG_ID": "GLCptspp",
          "author": "iML1515",
          "relative_error": 0,
          "sample_id": "WT"
         },
         {
          "BiGG_ID": "GND",
          "author": "iML1515",
          "relative_error": 36.30885604597102,
          "sample_id": "WT"
         },
         {
          "BiGG_ID": "ICDHyr",
          "author": "iML1515",
          "relative_error": 78.51987088634547,
          "sample_id": "WT"
         },
         {
          "BiGG_ID": "ICL",
          "author": "iML1515",
          "relative_error": 100,
          "sample_id": "WT"
         },
         {
          "BiGG_ID": "MALS",
          "author": "iML1515",
          "relative_error": 100,
          "sample_id": "WT"
         },
         {
          "BiGG_ID": "MDH",
          "author": "iML1515",
          "relative_error": 130.05247849136097,
          "sample_id": "WT"
         },
         {
          "BiGG_ID": "PDH",
          "author": "iML1515",
          "relative_error": 7.140242810481305,
          "sample_id": "WT"
         },
         {
          "BiGG_ID": "PGI",
          "author": "iML1515",
          "relative_error": 10.178094727029194,
          "sample_id": "WT"
         },
         {
          "BiGG_ID": "PGM",
          "author": "iML1515",
          "relative_error": 198.64328881988183,
          "sample_id": "WT"
         },
         {
          "BiGG_ID": "PPC",
          "author": "iML1515",
          "relative_error": 36.423564247571925,
          "sample_id": "WT"
         },
         {
          "BiGG_ID": "PTAr",
          "author": "iML1515",
          "relative_error": 100,
          "sample_id": "WT"
         },
         {
          "BiGG_ID": "PYK",
          "author": "iML1515",
          "relative_error": 100,
          "sample_id": "WT"
         },
         {
          "BiGG_ID": "RPE",
          "author": "iML1515",
          "relative_error": 56.87069212962578,
          "sample_id": "WT"
         },
         {
          "BiGG_ID": "RPI",
          "author": "iML1515",
          "relative_error": 182.93277471137296,
          "sample_id": "WT"
         },
         {
          "BiGG_ID": "SUCDi",
          "author": "iML1515",
          "relative_error": 147.784397312796,
          "sample_id": "WT"
         },
         {
          "BiGG_ID": "TALA",
          "author": "iML1515",
          "relative_error": 100,
          "sample_id": "WT"
         },
         {
          "BiGG_ID": "TKT1",
          "author": "iML1515",
          "relative_error": 43.36858820672466,
          "sample_id": "WT"
         },
         {
          "BiGG_ID": "TPI",
          "author": "iML1515",
          "relative_error": 1.8781510881314152,
          "sample_id": "WT"
         },
         {
          "BiGG_ID": "AKGDH",
          "author": "iML1515",
          "relative_error": null,
          "sample_id": "fbaA"
         },
         {
          "BiGG_ID": "CS",
          "author": "iML1515",
          "relative_error": null,
          "sample_id": "fbaA"
         },
         {
          "BiGG_ID": "EDA",
          "author": "iML1515",
          "relative_error": 100,
          "sample_id": "fbaA"
         },
         {
          "BiGG_ID": "FBA",
          "author": "iML1515",
          "relative_error": 100,
          "sample_id": "fbaA"
         },
         {
          "BiGG_ID": "FUM",
          "author": "iML1515",
          "relative_error": null,
          "sample_id": "fbaA"
         },
         {
          "BiGG_ID": "G6PDH2r",
          "author": "iML1515",
          "relative_error": null,
          "sample_id": "fbaA"
         },
         {
          "BiGG_ID": "GAPD",
          "author": "iML1515",
          "relative_error": null,
          "sample_id": "fbaA"
         },
         {
          "BiGG_ID": "GLCptspp",
          "author": "iML1515",
          "relative_error": null,
          "sample_id": "fbaA"
         },
         {
          "BiGG_ID": "GND",
          "author": "iML1515",
          "relative_error": null,
          "sample_id": "fbaA"
         },
         {
          "BiGG_ID": "ICDHyr",
          "author": "iML1515",
          "relative_error": null,
          "sample_id": "fbaA"
         },
         {
          "BiGG_ID": "ICL",
          "author": "iML1515",
          "relative_error": 100,
          "sample_id": "fbaA"
         },
         {
          "BiGG_ID": "MALS",
          "author": "iML1515",
          "relative_error": 100,
          "sample_id": "fbaA"
         },
         {
          "BiGG_ID": "MDH",
          "author": "iML1515",
          "relative_error": null,
          "sample_id": "fbaA"
         },
         {
          "BiGG_ID": "PDH",
          "author": "iML1515",
          "relative_error": null,
          "sample_id": "fbaA"
         },
         {
          "BiGG_ID": "PGI",
          "author": "iML1515",
          "relative_error": null,
          "sample_id": "fbaA"
         },
         {
          "BiGG_ID": "PGM",
          "author": "iML1515",
          "relative_error": null,
          "sample_id": "fbaA"
         },
         {
          "BiGG_ID": "PPC",
          "author": "iML1515",
          "relative_error": null,
          "sample_id": "fbaA"
         },
         {
          "BiGG_ID": "PTAr",
          "author": "iML1515",
          "relative_error": null,
          "sample_id": "fbaA"
         },
         {
          "BiGG_ID": "PYK",
          "author": "iML1515",
          "relative_error": 100,
          "sample_id": "fbaA"
         },
         {
          "BiGG_ID": "RPE",
          "author": "iML1515",
          "relative_error": null,
          "sample_id": "fbaA"
         },
         {
          "BiGG_ID": "RPI",
          "author": "iML1515",
          "relative_error": null,
          "sample_id": "fbaA"
         },
         {
          "BiGG_ID": "SUCDi",
          "author": "iML1515",
          "relative_error": null,
          "sample_id": "fbaA"
         },
         {
          "BiGG_ID": "TALA",
          "author": "iML1515",
          "relative_error": null,
          "sample_id": "fbaA"
         },
         {
          "BiGG_ID": "TKT1",
          "author": "iML1515",
          "relative_error": null,
          "sample_id": "fbaA"
         },
         {
          "BiGG_ID": "TPI",
          "author": "iML1515",
          "relative_error": null,
          "sample_id": "fbaA"
         },
         {
          "BiGG_ID": "AKGDH",
          "author": "iML1515",
          "relative_error": 89.12200878051657,
          "sample_id": "fbaB"
         },
         {
          "BiGG_ID": "CS",
          "author": "iML1515",
          "relative_error": 111.57910623566872,
          "sample_id": "fbaB"
         },
         {
          "BiGG_ID": "EDA",
          "author": "iML1515",
          "relative_error": 0,
          "sample_id": "fbaB"
         },
         {
          "BiGG_ID": "FBA",
          "author": "iML1515",
          "relative_error": 100,
          "sample_id": "fbaB"
         },
         {
          "BiGG_ID": "FUM",
          "author": "iML1515",
          "relative_error": 88.85152460962496,
          "sample_id": "fbaB"
         },
         {
          "BiGG_ID": "G6PDH2r",
          "author": "iML1515",
          "relative_error": 0.48258757182971623,
          "sample_id": "fbaB"
         },
         {
          "BiGG_ID": "GAPD",
          "author": "iML1515",
          "relative_error": 3.7794005546785545,
          "sample_id": "fbaB"
         },
         {
          "BiGG_ID": "GLCptspp",
          "author": "iML1515",
          "relative_error": 0,
          "sample_id": "fbaB"
         },
         {
          "BiGG_ID": "GND",
          "author": "iML1515",
          "relative_error": 0.48258757182971623,
          "sample_id": "fbaB"
         },
         {
          "BiGG_ID": "ICDHyr",
          "author": "iML1515",
          "relative_error": 77.19750147237222,
          "sample_id": "fbaB"
         },
         {
          "BiGG_ID": "ICL",
          "author": "iML1515",
          "relative_error": 100,
          "sample_id": "fbaB"
         },
         {
          "BiGG_ID": "MALS",
          "author": "iML1515",
          "relative_error": 100,
          "sample_id": "fbaB"
         },
         {
          "BiGG_ID": "MDH",
          "author": "iML1515",
          "relative_error": 126.06312915336049,
          "sample_id": "fbaB"
         },
         {
          "BiGG_ID": "PDH",
          "author": "iML1515",
          "relative_error": 2.955077075696879,
          "sample_id": "fbaB"
         },
         {
          "BiGG_ID": "PGI",
          "author": "iML1515",
          "relative_error": 2.509079817295251,
          "sample_id": "fbaB"
         },
         {
          "BiGG_ID": "PGM",
          "author": "iML1515",
          "relative_error": 196.8165612491433,
          "sample_id": "fbaB"
         },
         {
          "BiGG_ID": "PPC",
          "author": "iML1515",
          "relative_error": 49.138851398058684,
          "sample_id": "fbaB"
         },
         {
          "BiGG_ID": "PTAr",
          "author": "iML1515",
          "relative_error": 100,
          "sample_id": "fbaB"
         },
         {
          "BiGG_ID": "PYK",
          "author": "iML1515",
          "relative_error": 100,
          "sample_id": "fbaB"
         },
         {
          "BiGG_ID": "RPE",
          "author": "iML1515",
          "relative_error": 5.115522685176561,
          "sample_id": "fbaB"
         },
         {
          "BiGG_ID": "RPI",
          "author": "iML1515",
          "relative_error": 205.5508041781131,
          "sample_id": "fbaB"
         },
         {
          "BiGG_ID": "SUCDi",
          "author": "iML1515",
          "relative_error": 131.48279222642785,
          "sample_id": "fbaB"
         },
         {
          "BiGG_ID": "TALA",
          "author": "iML1515",
          "relative_error": 117.10506646120868,
          "sample_id": "fbaB"
         },
         {
          "BiGG_ID": "TKT1",
          "author": "iML1515",
          "relative_error": 0.8950293617638481,
          "sample_id": "fbaB"
         },
         {
          "BiGG_ID": "TPI",
          "author": "iML1515",
          "relative_error": 2.2440862391333796,
          "sample_id": "fbaB"
         },
         {
          "BiGG_ID": "AKGDH",
          "author": "iML1515",
          "relative_error": 40.21114444072862,
          "sample_id": "fbp"
         },
         {
          "BiGG_ID": "CS",
          "author": "iML1515",
          "relative_error": 116.86858389156104,
          "sample_id": "fbp"
         },
         {
          "BiGG_ID": "EDA",
          "author": "iML1515",
          "relative_error": 0,
          "sample_id": "fbp"
         },
         {
          "BiGG_ID": "FBA",
          "author": "iML1515",
          "relative_error": 112.59154030360239,
          "sample_id": "fbp"
         },
         {
          "BiGG_ID": "FUM",
          "author": "iML1515",
          "relative_error": 94.17128586623481,
          "sample_id": "fbp"
         },
         {
          "BiGG_ID": "G6PDH2r",
          "author": "iML1515",
          "relative_error": 44.27024904022464,
          "sample_id": "fbp"
         },
         {
          "BiGG_ID": "GAPD",
          "author": "iML1515",
          "relative_error": 1.501989916919403,
          "sample_id": "fbp"
         },
         {
          "BiGG_ID": "GLCptspp",
          "author": "iML1515",
          "relative_error": 0,
          "sample_id": "fbp"
         },
         {
          "BiGG_ID": "GND",
          "author": "iML1515",
          "relative_error": 44.27024904022464,
          "sample_id": "fbp"
         },
         {
          "BiGG_ID": "ICDHyr",
          "author": "iML1515",
          "relative_error": 37.52641905318467,
          "sample_id": "fbp"
         },
         {
          "BiGG_ID": "ICL",
          "author": "iML1515",
          "relative_error": 100,
          "sample_id": "fbp"
         },
         {
          "BiGG_ID": "MALS",
          "author": "iML1515",
          "relative_error": 100,
          "sample_id": "fbp"
         },
         {
          "BiGG_ID": "MDH",
          "author": "iML1515",
          "relative_error": 152.658791406697,
          "sample_id": "fbp"
         },
         {
          "BiGG_ID": "PDH",
          "author": "iML1515",
          "relative_error": 18.858706867877697,
          "sample_id": "fbp"
         },
         {
          "BiGG_ID": "PGI",
          "author": "iML1515",
          "relative_error": 13.51682487027261,
          "sample_id": "fbp"
         },
         {
          "BiGG_ID": "PGM",
          "author": "iML1515",
          "relative_error": 198.64328881988183,
          "sample_id": "fbp"
         },
         {
          "BiGG_ID": "PPC",
          "author": "iML1515",
          "relative_error": 94.91388513980576,
          "sample_id": "fbp"
         },
         {
          "BiGG_ID": "PTAr",
          "author": "iML1515",
          "relative_error": 100,
          "sample_id": "fbp"
         },
         {
          "BiGG_ID": "PYK",
          "author": "iML1515",
          "relative_error": 100,
          "sample_id": "fbp"
         },
         {
          "BiGG_ID": "RPE",
          "author": "iML1515",
          "relative_error": 74.12241527777581,
          "sample_id": "fbp"
         },
         {
          "BiGG_ID": "RPI",
          "author": "iML1515",
          "relative_error": 182.93277471137537,
          "sample_id": "fbp"
         },
         {
          "BiGG_ID": "SUCDi",
          "author": "iML1515",
          "relative_error": 138.00343426097513,
          "sample_id": "fbp"
         },
         {
          "BiGG_ID": "TALA",
          "author": "iML1515",
          "relative_error": 100,
          "sample_id": "fbp"
         },
         {
          "BiGG_ID": "TKT1",
          "author": "iML1515",
          "relative_error": 57.52644115504402,
          "sample_id": "fbp"
         },
         {
          "BiGG_ID": "TPI",
          "author": "iML1515",
          "relative_error": 2.46704213488362,
          "sample_id": "fbp"
         },
         {
          "BiGG_ID": "AKGDH",
          "author": "iML1515",
          "relative_error": null,
          "sample_id": "glk"
         },
         {
          "BiGG_ID": "CS",
          "author": "iML1515",
          "relative_error": null,
          "sample_id": "glk"
         },
         {
          "BiGG_ID": "EDA",
          "author": "iML1515",
          "relative_error": null,
          "sample_id": "glk"
         },
         {
          "BiGG_ID": "FBA",
          "author": "iML1515",
          "relative_error": null,
          "sample_id": "glk"
         },
         {
          "BiGG_ID": "FUM",
          "author": "iML1515",
          "relative_error": null,
          "sample_id": "glk"
         },
         {
          "BiGG_ID": "G6PDH2r",
          "author": "iML1515",
          "relative_error": null,
          "sample_id": "glk"
         },
         {
          "BiGG_ID": "GAPD",
          "author": "iML1515",
          "relative_error": null,
          "sample_id": "glk"
         },
         {
          "BiGG_ID": "GLCptspp",
          "author": "iML1515",
          "relative_error": null,
          "sample_id": "glk"
         },
         {
          "BiGG_ID": "GND",
          "author": "iML1515",
          "relative_error": null,
          "sample_id": "glk"
         },
         {
          "BiGG_ID": "ICDHyr",
          "author": "iML1515",
          "relative_error": null,
          "sample_id": "glk"
         },
         {
          "BiGG_ID": "ICL",
          "author": "iML1515",
          "relative_error": null,
          "sample_id": "glk"
         },
         {
          "BiGG_ID": "MALS",
          "author": "iML1515",
          "relative_error": null,
          "sample_id": "glk"
         },
         {
          "BiGG_ID": "MDH",
          "author": "iML1515",
          "relative_error": null,
          "sample_id": "glk"
         },
         {
          "BiGG_ID": "PDH",
          "author": "iML1515",
          "relative_error": null,
          "sample_id": "glk"
         },
         {
          "BiGG_ID": "PGI",
          "author": "iML1515",
          "relative_error": null,
          "sample_id": "glk"
         },
         {
          "BiGG_ID": "PGM",
          "author": "iML1515",
          "relative_error": null,
          "sample_id": "glk"
         },
         {
          "BiGG_ID": "PPC",
          "author": "iML1515",
          "relative_error": null,
          "sample_id": "glk"
         },
         {
          "BiGG_ID": "PTAr",
          "author": "iML1515",
          "relative_error": null,
          "sample_id": "glk"
         },
         {
          "BiGG_ID": "PYK",
          "author": "iML1515",
          "relative_error": null,
          "sample_id": "glk"
         },
         {
          "BiGG_ID": "RPE",
          "author": "iML1515",
          "relative_error": null,
          "sample_id": "glk"
         },
         {
          "BiGG_ID": "RPI",
          "author": "iML1515",
          "relative_error": null,
          "sample_id": "glk"
         },
         {
          "BiGG_ID": "SUCDi",
          "author": "iML1515",
          "relative_error": null,
          "sample_id": "glk"
         },
         {
          "BiGG_ID": "TALA",
          "author": "iML1515",
          "relative_error": null,
          "sample_id": "glk"
         },
         {
          "BiGG_ID": "TKT1",
          "author": "iML1515",
          "relative_error": null,
          "sample_id": "glk"
         },
         {
          "BiGG_ID": "TPI",
          "author": "iML1515",
          "relative_error": null,
          "sample_id": "glk"
         },
         {
          "BiGG_ID": "AKGDH",
          "author": "iML1515",
          "relative_error": 112.29166306130377,
          "sample_id": "gnd"
         },
         {
          "BiGG_ID": "CS",
          "author": "iML1515",
          "relative_error": 129.11512999177535,
          "sample_id": "gnd"
         },
         {
          "BiGG_ID": "EDA",
          "author": "iML1515",
          "relative_error": 100,
          "sample_id": "gnd"
         },
         {
          "BiGG_ID": "FBA",
          "author": "iML1515",
          "relative_error": 128.67012271425733,
          "sample_id": "gnd"
         },
         {
          "BiGG_ID": "FUM",
          "author": "iML1515",
          "relative_error": 115.24183902493279,
          "sample_id": "gnd"
         },
         {
          "BiGG_ID": "G6PDH2r",
          "author": "iML1515",
          "relative_error": 100,
          "sample_id": "gnd"
         },
         {
          "BiGG_ID": "GAPD",
          "author": "iML1515",
          "relative_error": 4.268347792302996,
          "sample_id": "gnd"
         },
         {
          "BiGG_ID": "GLCptspp",
          "author": "iML1515",
          "relative_error": 0,
          "sample_id": "gnd"
         },
         {
          "BiGG_ID": "GND",
          "author": "iML1515",
          "relative_error": 0,
          "sample_id": "gnd"
         },
         {
          "BiGG_ID": "ICDHyr",
          "author": "iML1515",
          "relative_error": 97.29358415958433,
          "sample_id": "gnd"
         },
         {
          "BiGG_ID": "ICL",
          "author": "iML1515",
          "relative_error": 100,
          "sample_id": "gnd"
         },
         {
          "BiGG_ID": "MALS",
          "author": "iML1515",
          "relative_error": 100,
          "sample_id": "gnd"
         },
         {
          "BiGG_ID": "MDH",
          "author": "iML1515",
          "relative_error": 149.3160884504808,
          "sample_id": "gnd"
         },
         {
          "BiGG_ID": "PDH",
          "author": "iML1515",
          "relative_error": 16.142670070277138,
          "sample_id": "gnd"
         },
         {
          "BiGG_ID": "PGI",
          "author": "iML1515",
          "relative_error": 9.466382347970455,
          "sample_id": "gnd"
         },
         {
          "BiGG_ID": "PGM",
          "author": "iML1515",
          "relative_error": 205.9981736303081,
          "sample_id": "gnd"
         },
         {
          "BiGG_ID": "PPC",
          "author": "iML1515",
          "relative_error": 84.64650794094386,
          "sample_id": "gnd"
         },
         {
          "BiGG_ID": "PTAr",
          "author": "iML1515",
          "relative_error": 100,
          "sample_id": "gnd"
         },
         {
          "BiGG_ID": "PYK",
          "author": "iML1515",
          "relative_error": 100,
          "sample_id": "gnd"
         },
         {
          "BiGG_ID": "RPE",
          "author": "iML1515",
          "relative_error": 197.60858182704538,
          "sample_id": "gnd"
         },
         {
          "BiGG_ID": "RPI",
          "author": "iML1515",
          "relative_error": 202.88686220827873,
          "sample_id": "gnd"
         },
         {
          "BiGG_ID": "SUCDi",
          "author": "iML1515",
          "relative_error": 152.22869840121996,
          "sample_id": "gnd"
         },
         {
          "BiGG_ID": "TALA",
          "author": "iML1515",
          "relative_error": 112.01655757648692,
          "sample_id": "gnd"
         },
         {
          "BiGG_ID": "TKT1",
          "author": "iML1515",
          "relative_error": 176.78105466546157,
          "sample_id": "gnd"
         },
         {
          "BiGG_ID": "TPI",
          "author": "iML1515",
          "relative_error": 11.03222375103025,
          "sample_id": "gnd"
         },
         {
          "BiGG_ID": "AKGDH",
          "author": "iML1515",
          "relative_error": null,
          "sample_id": "gpmA"
         },
         {
          "BiGG_ID": "CS",
          "author": "iML1515",
          "relative_error": null,
          "sample_id": "gpmA"
         },
         {
          "BiGG_ID": "EDA",
          "author": "iML1515",
          "relative_error": null,
          "sample_id": "gpmA"
         },
         {
          "BiGG_ID": "FBA",
          "author": "iML1515",
          "relative_error": null,
          "sample_id": "gpmA"
         },
         {
          "BiGG_ID": "FUM",
          "author": "iML1515",
          "relative_error": null,
          "sample_id": "gpmA"
         },
         {
          "BiGG_ID": "G6PDH2r",
          "author": "iML1515",
          "relative_error": null,
          "sample_id": "gpmA"
         },
         {
          "BiGG_ID": "GAPD",
          "author": "iML1515",
          "relative_error": null,
          "sample_id": "gpmA"
         },
         {
          "BiGG_ID": "GLCptspp",
          "author": "iML1515",
          "relative_error": null,
          "sample_id": "gpmA"
         },
         {
          "BiGG_ID": "GND",
          "author": "iML1515",
          "relative_error": null,
          "sample_id": "gpmA"
         },
         {
          "BiGG_ID": "ICDHyr",
          "author": "iML1515",
          "relative_error": null,
          "sample_id": "gpmA"
         },
         {
          "BiGG_ID": "ICL",
          "author": "iML1515",
          "relative_error": null,
          "sample_id": "gpmA"
         },
         {
          "BiGG_ID": "MALS",
          "author": "iML1515",
          "relative_error": null,
          "sample_id": "gpmA"
         },
         {
          "BiGG_ID": "MDH",
          "author": "iML1515",
          "relative_error": null,
          "sample_id": "gpmA"
         },
         {
          "BiGG_ID": "PDH",
          "author": "iML1515",
          "relative_error": null,
          "sample_id": "gpmA"
         },
         {
          "BiGG_ID": "PGI",
          "author": "iML1515",
          "relative_error": null,
          "sample_id": "gpmA"
         },
         {
          "BiGG_ID": "PGM",
          "author": "iML1515",
          "relative_error": null,
          "sample_id": "gpmA"
         },
         {
          "BiGG_ID": "PPC",
          "author": "iML1515",
          "relative_error": null,
          "sample_id": "gpmA"
         },
         {
          "BiGG_ID": "PTAr",
          "author": "iML1515",
          "relative_error": null,
          "sample_id": "gpmA"
         },
         {
          "BiGG_ID": "PYK",
          "author": "iML1515",
          "relative_error": null,
          "sample_id": "gpmA"
         },
         {
          "BiGG_ID": "RPE",
          "author": "iML1515",
          "relative_error": null,
          "sample_id": "gpmA"
         },
         {
          "BiGG_ID": "RPI",
          "author": "iML1515",
          "relative_error": null,
          "sample_id": "gpmA"
         },
         {
          "BiGG_ID": "SUCDi",
          "author": "iML1515",
          "relative_error": null,
          "sample_id": "gpmA"
         },
         {
          "BiGG_ID": "TALA",
          "author": "iML1515",
          "relative_error": null,
          "sample_id": "gpmA"
         },
         {
          "BiGG_ID": "TKT1",
          "author": "iML1515",
          "relative_error": null,
          "sample_id": "gpmA"
         },
         {
          "BiGG_ID": "TPI",
          "author": "iML1515",
          "relative_error": null,
          "sample_id": "gpmA"
         },
         {
          "BiGG_ID": "AKGDH",
          "author": "iML1515",
          "relative_error": null,
          "sample_id": "gpmB"
         },
         {
          "BiGG_ID": "CS",
          "author": "iML1515",
          "relative_error": null,
          "sample_id": "gpmB"
         },
         {
          "BiGG_ID": "EDA",
          "author": "iML1515",
          "relative_error": null,
          "sample_id": "gpmB"
         },
         {
          "BiGG_ID": "FBA",
          "author": "iML1515",
          "relative_error": null,
          "sample_id": "gpmB"
         },
         {
          "BiGG_ID": "FUM",
          "author": "iML1515",
          "relative_error": null,
          "sample_id": "gpmB"
         },
         {
          "BiGG_ID": "G6PDH2r",
          "author": "iML1515",
          "relative_error": null,
          "sample_id": "gpmB"
         },
         {
          "BiGG_ID": "GAPD",
          "author": "iML1515",
          "relative_error": null,
          "sample_id": "gpmB"
         },
         {
          "BiGG_ID": "GLCptspp",
          "author": "iML1515",
          "relative_error": null,
          "sample_id": "gpmB"
         },
         {
          "BiGG_ID": "GND",
          "author": "iML1515",
          "relative_error": null,
          "sample_id": "gpmB"
         },
         {
          "BiGG_ID": "ICDHyr",
          "author": "iML1515",
          "relative_error": null,
          "sample_id": "gpmB"
         },
         {
          "BiGG_ID": "ICL",
          "author": "iML1515",
          "relative_error": null,
          "sample_id": "gpmB"
         },
         {
          "BiGG_ID": "MALS",
          "author": "iML1515",
          "relative_error": null,
          "sample_id": "gpmB"
         },
         {
          "BiGG_ID": "MDH",
          "author": "iML1515",
          "relative_error": null,
          "sample_id": "gpmB"
         },
         {
          "BiGG_ID": "PDH",
          "author": "iML1515",
          "relative_error": null,
          "sample_id": "gpmB"
         },
         {
          "BiGG_ID": "PGI",
          "author": "iML1515",
          "relative_error": null,
          "sample_id": "gpmB"
         },
         {
          "BiGG_ID": "PGM",
          "author": "iML1515",
          "relative_error": null,
          "sample_id": "gpmB"
         },
         {
          "BiGG_ID": "PPC",
          "author": "iML1515",
          "relative_error": null,
          "sample_id": "gpmB"
         },
         {
          "BiGG_ID": "PTAr",
          "author": "iML1515",
          "relative_error": null,
          "sample_id": "gpmB"
         },
         {
          "BiGG_ID": "PYK",
          "author": "iML1515",
          "relative_error": null,
          "sample_id": "gpmB"
         },
         {
          "BiGG_ID": "RPE",
          "author": "iML1515",
          "relative_error": null,
          "sample_id": "gpmB"
         },
         {
          "BiGG_ID": "RPI",
          "author": "iML1515",
          "relative_error": null,
          "sample_id": "gpmB"
         },
         {
          "BiGG_ID": "SUCDi",
          "author": "iML1515",
          "relative_error": null,
          "sample_id": "gpmB"
         },
         {
          "BiGG_ID": "TALA",
          "author": "iML1515",
          "relative_error": null,
          "sample_id": "gpmB"
         },
         {
          "BiGG_ID": "TKT1",
          "author": "iML1515",
          "relative_error": null,
          "sample_id": "gpmB"
         },
         {
          "BiGG_ID": "TPI",
          "author": "iML1515",
          "relative_error": null,
          "sample_id": "gpmB"
         },
         {
          "BiGG_ID": "AKGDH",
          "author": "iML1515",
          "relative_error": 108.68635451643385,
          "sample_id": "pfkA"
         },
         {
          "BiGG_ID": "CS",
          "author": "iML1515",
          "relative_error": 116.86858389156004,
          "sample_id": "pfkA"
         },
         {
          "BiGG_ID": "EDA",
          "author": "iML1515",
          "relative_error": 0,
          "sample_id": "pfkA"
         },
         {
          "BiGG_ID": "FBA",
          "author": "iML1515",
          "relative_error": 100,
          "sample_id": "pfkA"
         },
         {
          "BiGG_ID": "FUM",
          "author": "iML1515",
          "relative_error": 94.17128586623411,
          "sample_id": "pfkA"
         },
         {
          "BiGG_ID": "G6PDH2r",
          "author": "iML1515",
          "relative_error": 44.27024904022464,
          "sample_id": "pfkA"
         },
         {
          "BiGG_ID": "GAPD",
          "author": "iML1515",
          "relative_error": 1.5019899169194668,
          "sample_id": "pfkA"
         },
         {
          "BiGG_ID": "GLCptspp",
          "author": "iML1515",
          "relative_error": 0,
          "sample_id": "pfkA"
         },
         {
          "BiGG_ID": "GND",
          "author": "iML1515",
          "relative_error": 44.270249040224726,
          "sample_id": "pfkA"
         },
         {
          "BiGG_ID": "ICDHyr",
          "author": "iML1515",
          "relative_error": 93.0659344400477,
          "sample_id": "pfkA"
         },
         {
          "BiGG_ID": "ICL",
          "author": "iML1515",
          "relative_error": 100,
          "sample_id": "pfkA"
         },
         {
          "BiGG_ID": "MALS",
          "author": "iML1515",
          "relative_error": 100,
          "sample_id": "pfkA"
         },
         {
          "BiGG_ID": "MDH",
          "author": "iML1515",
          "relative_error": 115.42486425202587,
          "sample_id": "pfkA"
         },
         {
          "BiGG_ID": "PDH",
          "author": "iML1515",
          "relative_error": 0.4439776348262239,
          "sample_id": "pfkA"
         },
         {
          "BiGG_ID": "PGI",
          "author": "iML1515",
          "relative_error": 12.18133281297518,
          "sample_id": "pfkA"
         },
         {
          "BiGG_ID": "PGM",
          "author": "iML1515",
          "relative_error": 198.64328881988183,
          "sample_id": "pfkA"
         },
         {
          "BiGG_ID": "PPC",
          "author": "iML1515",
          "relative_error": 23.708277097086842,
          "sample_id": "pfkA"
         },
         {
          "BiGG_ID": "PTAr",
          "author": "iML1515",
          "relative_error": 100,
          "sample_id": "pfkA"
         },
         {
          "BiGG_ID": "PYK",
          "author": "iML1515",
          "relative_error": 100,
          "sample_id": "pfkA"
         },
         {
          "BiGG_ID": "RPE",
          "author": "iML1515",
          "relative_error": 74.12241527777554,
          "sample_id": "pfkA"
         },
         {
          "BiGG_ID": "RPI",
          "author": "iML1515",
          "relative_error": 182.9327747113731,
          "sample_id": "pfkA"
         },
         {
          "BiGG_ID": "SUCDi",
          "author": "iML1515",
          "relative_error": 138.00343426097513,
          "sample_id": "pfkA"
         },
         {
          "BiGG_ID": "TALA",
          "author": "iML1515",
          "relative_error": 107.33074276908971,
          "sample_id": "pfkA"
         },
         {
          "BiGG_ID": "TKT1",
          "author": "iML1515",
          "relative_error": 57.526441155043415,
          "sample_id": "pfkA"
         },
         {
          "BiGG_ID": "TPI",
          "author": "iML1515",
          "relative_error": 2.4670421348835,
          "sample_id": "pfkA"
         },
         {
          "BiGG_ID": "AKGDH",
          "author": "iML1515",
          "relative_error": 40.211144440728994,
          "sample_id": "pfkB"
         },
         {
          "BiGG_ID": "CS",
          "author": "iML1515",
          "relative_error": 101.0001509238849,
          "sample_id": "pfkB"
         },
         {
          "BiGG_ID": "EDA",
          "author": "iML1515",
          "relative_error": 0,
          "sample_id": "pfkB"
         },
         {
          "BiGG_ID": "FBA",
          "author": "iML1515",
          "relative_error": 100,
          "sample_id": "pfkB"
         },
         {
          "BiGG_ID": "FUM",
          "author": "iML1515",
          "relative_error": 80.87188272471123,
          "sample_id": "pfkB"
         },
         {
          "BiGG_ID": "G6PDH2r",
          "author": "iML1515",
          "relative_error": 87.09273536496013,
          "sample_id": "pfkB"
         },
         {
          "BiGG_ID": "GAPD",
          "author": "iML1515",
          "relative_error": 7.195516511317185,
          "sample_id": "pfkB"
         },
         {
          "BiGG_ID": "GLCptspp",
          "author": "iML1515",
          "relative_error": 0,
          "sample_id": "pfkB"
         },
         {
          "BiGG_ID": "GND",
          "author": "iML1515",
          "relative_error": 87.09273536495984,
          "sample_id": "pfkB"
         },
         {
          "BiGG_ID": "ICDHyr",
          "author": "iML1515",
          "relative_error": 34.88168022523881,
          "sample_id": "pfkB"
         },
         {
          "BiGG_ID": "ICL",
          "author": "iML1515",
          "relative_error": 100,
          "sample_id": "pfkB"
         },
         {
          "BiGG_ID": "MALS",
          "author": "iML1515",
          "relative_error": 100,
          "sample_id": "pfkB"
         },
         {
          "BiGG_ID": "MDH",
          "author": "iML1515",
          "relative_error": 139.36096028002876,
          "sample_id": "pfkB"
         },
         {
          "BiGG_ID": "PDH",
          "author": "iML1515",
          "relative_error": 8.814309104395075,
          "sample_id": "pfkB"
         },
         {
          "BiGG_ID": "PGI",
          "author": "iML1515",
          "relative_error": 30.554413020539172,
          "sample_id": "pfkB"
         },
         {
          "BiGG_ID": "PGM",
          "author": "iML1515",
          "relative_error": 193.16310610766618,
          "sample_id": "pfkB"
         },
         {
          "BiGG_ID": "PPC",
          "author": "iML1515",
          "relative_error": 100,
          "sample_id": "pfkB"
         },
         {
          "BiGG_ID": "PTAr",
          "author": "iML1515",
          "relative_error": 100,
          "sample_id": "pfkB"
         },
         {
          "BiGG_ID": "PYK",
          "author": "iML1515",
          "relative_error": 100,
          "sample_id": "pfkB"
         },
         {
          "BiGG_ID": "RPE",
          "author": "iML1515",
          "relative_error": 115.64653935187043,
          "sample_id": "pfkB"
         },
         {
          "BiGG_ID": "RPI",
          "author": "iML1515",
          "relative_error": 258.3262062671668,
          "sample_id": "pfkB"
         },
         {
          "BiGG_ID": "SUCDi",
          "author": "iML1515",
          "relative_error": 121.70182917460694,
          "sample_id": "pfkB"
         },
         {
          "BiGG_ID": "TALA",
          "author": "iML1515",
          "relative_error": 134.21013292241872,
          "sample_id": "pfkB"
         },
         {
          "BiGG_ID": "TKT1",
          "author": "iML1515",
          "relative_error": 98.20994127646404,
          "sample_id": "pfkB"
         },
         {
          "BiGG_ID": "TPI",
          "author": "iML1515",
          "relative_error": 9.31077880016058,
          "sample_id": "pfkB"
         },
         {
          "BiGG_ID": "AKGDH",
          "author": "iML1515",
          "relative_error": 10.615956719864755,
          "sample_id": "pgi"
         },
         {
          "BiGG_ID": "CS",
          "author": "iML1515",
          "relative_error": 82.15762506601118,
          "sample_id": "pgi"
         },
         {
          "BiGG_ID": "EDA",
          "author": "iML1515",
          "relative_error": 100,
          "sample_id": "pgi"
         },
         {
          "BiGG_ID": "FBA",
          "author": "iML1515",
          "relative_error": 8.321746658440969,
          "sample_id": "pgi"
         },
         {
          "BiGG_ID": "FUM",
          "author": "iML1515",
          "relative_error": 58.5914980896194,
          "sample_id": "pgi"
         },
         {
          "BiGG_ID": "G6PDH2r",
          "author": "iML1515",
          "relative_error": 140.3428128045047,
          "sample_id": "pgi"
         },
         {
          "BiGG_ID": "GAPD",
          "author": "iML1515",
          "relative_error": 29.76519821771634,
          "sample_id": "pgi"
         },
         {
          "BiGG_ID": "GLCptspp",
          "author": "iML1515",
          "relative_error": 2.7992062824952693,
          "sample_id": "pgi"
         },
         {
          "BiGG_ID": "GND",
          "author": "iML1515",
          "relative_error": 49.60113858239577,
          "sample_id": "pgi"
         },
         {
          "BiGG_ID": "ICDHyr",
          "author": "iML1515",
          "relative_error": 11.469591458305693,
          "sample_id": "pgi"
         },
         {
          "BiGG_ID": "ICL",
          "author": "iML1515",
          "relative_error": 100,
          "sample_id": "pgi"
         },
         {
          "BiGG_ID": "MALS",
          "author": "iML1515",
          "relative_error": 100,
          "sample_id": "pgi"
         },
         {
          "BiGG_ID": "MDH",
          "author": "iML1515",
          "relative_error": 121.4550505862255,
          "sample_id": "pgi"
         },
         {
          "BiGG_ID": "PDH",
          "author": "iML1515",
          "relative_error": 4.976538629954878,
          "sample_id": "pgi"
         },
         {
          "BiGG_ID": "PGI",
          "author": "iML1515",
          "relative_error": 0,
          "sample_id": "pgi"
         },
         {
          "BiGG_ID": "PGM",
          "author": "iML1515",
          "relative_error": 168.2289657864128,
          "sample_id": "pgi"
         },
         {
          "BiGG_ID": "PPC",
          "author": "iML1515",
          "relative_error": 100,
          "sample_id": "pgi"
         },
         {
          "BiGG_ID": "PTAr",
          "author": "iML1515",
          "relative_error": 100,
          "sample_id": "pgi"
         },
         {
          "BiGG_ID": "PYK",
          "author": "iML1515",
          "relative_error": 100,
          "sample_id": "pgi"
         },
         {
          "BiGG_ID": "RPE",
          "author": "iML1515",
          "relative_error": 57.875943339915956,
          "sample_id": "pgi"
         },
         {
          "BiGG_ID": "RPI",
          "author": "iML1515",
          "relative_error": 241.70054226758393,
          "sample_id": "pgi"
         },
         {
          "BiGG_ID": "SUCDi",
          "author": "iML1515",
          "relative_error": 94.39187942508202,
          "sample_id": "pgi"
         },
         {
          "BiGG_ID": "TALA",
          "author": "iML1515",
          "relative_error": 248.88191906068897,
          "sample_id": "pgi"
         },
         {
          "BiGG_ID": "TKT1",
          "author": "iML1515",
          "relative_error": 54.26014278341411,
          "sample_id": "pgi"
         },
         {
          "BiGG_ID": "TPI",
          "author": "iML1515",
          "relative_error": 57.43104124858745,
          "sample_id": "pgi"
         },
         {
          "BiGG_ID": "AKGDH",
          "author": "iML1515",
          "relative_error": 64.07587080137924,
          "sample_id": "pgl"
         },
         {
          "BiGG_ID": "CS",
          "author": "iML1515",
          "relative_error": 88.32966017878314,
          "sample_id": "pgl"
         },
         {
          "BiGG_ID": "EDA",
          "author": "iML1515",
          "relative_error": 0,
          "sample_id": "pgl"
         },
         {
          "BiGG_ID": "FBA",
          "author": "iML1515",
          "relative_error": 111.09745140035547,
          "sample_id": "pgl"
         },
         {
          "BiGG_ID": "FUM",
          "author": "iML1515",
          "relative_error": 71.9975204109278,
          "sample_id": "pgl"
         },
         {
          "BiGG_ID": "G6PDH2r",
          "author": "iML1515",
          "relative_error": 100,
          "sample_id": "pgl"
         },
         {
          "BiGG_ID": "GAPD",
          "author": "iML1515",
          "relative_error": 5.944418018296319,
          "sample_id": "pgl"
         },
         {
          "BiGG_ID": "GLCptspp",
          "author": "iML1515",
          "relative_error": 0.4518207184031974,
          "sample_id": "pgl"
         },
         {
          "BiGG_ID": "GND",
          "author": "iML1515",
          "relative_error": 4346.534504810327,
          "sample_id": "pgl"
         },
         {
          "BiGG_ID": "ICDHyr",
          "author": "iML1515",
          "relative_error": 56.22801355739847,
          "sample_id": "pgl"
         },
         {
          "BiGG_ID": "ICL",
          "author": "iML1515",
          "relative_error": 100,
          "sample_id": "pgl"
         },
         {
          "BiGG_ID": "MALS",
          "author": "iML1515",
          "relative_error": 100,
          "sample_id": "pgl"
         },
         {
          "BiGG_ID": "MDH",
          "author": "iML1515",
          "relative_error": 104.05091261270016,
          "sample_id": "pgl"
         },
         {
          "BiGG_ID": "PDH",
          "author": "iML1515",
          "relative_error": 2.329400961384975,
          "sample_id": "pgl"
         },
         {
          "BiGG_ID": "PGI",
          "author": "iML1515",
          "relative_error": 21.647579839645505,
          "sample_id": "pgl"
         },
         {
          "BiGG_ID": "PGM",
          "author": "iML1515",
          "relative_error": 193.87214828640708,
          "sample_id": "pgl"
         },
         {
          "BiGG_ID": "PPC",
          "author": "iML1515",
          "relative_error": 65.03972643986134,
          "sample_id": "pgl"
         },
         {
          "BiGG_ID": "PTAr",
          "author": "iML1515",
          "relative_error": 100,
          "sample_id": "pgl"
         },
         {
          "BiGG_ID": "PYK",
          "author": "iML1515",
          "relative_error": 100,
          "sample_id": "pgl"
         },
         {
          "BiGG_ID": "RPE",
          "author": "iML1515",
          "relative_error": 265.5834732309805,
          "sample_id": "pgl"
         },
         {
          "BiGG_ID": "RPI",
          "author": "iML1515",
          "relative_error": 339.1416849400881,
          "sample_id": "pgl"
         },
         {
          "BiGG_ID": "SUCDi",
          "author": "iML1515",
          "relative_error": 101.92028566777923,
          "sample_id": "pgl"
         },
         {
          "BiGG_ID": "TALA",
          "author": "iML1515",
          "relative_error": 173.29452480447645,
          "sample_id": "pgl"
         },
         {
          "BiGG_ID": "TKT1",
          "author": "iML1515",
          "relative_error": 619.6145763800747,
          "sample_id": "pgl"
         },
         {
          "BiGG_ID": "TPI",
          "author": "iML1515",
          "relative_error": 7.6851011297827,
          "sample_id": "pgl"
         },
         {
          "BiGG_ID": "AKGDH",
          "author": "iML1515",
          "relative_error": null,
          "sample_id": "pgm"
         },
         {
          "BiGG_ID": "CS",
          "author": "iML1515",
          "relative_error": null,
          "sample_id": "pgm"
         },
         {
          "BiGG_ID": "EDA",
          "author": "iML1515",
          "relative_error": null,
          "sample_id": "pgm"
         },
         {
          "BiGG_ID": "FBA",
          "author": "iML1515",
          "relative_error": null,
          "sample_id": "pgm"
         },
         {
          "BiGG_ID": "FUM",
          "author": "iML1515",
          "relative_error": null,
          "sample_id": "pgm"
         },
         {
          "BiGG_ID": "G6PDH2r",
          "author": "iML1515",
          "relative_error": null,
          "sample_id": "pgm"
         },
         {
          "BiGG_ID": "GAPD",
          "author": "iML1515",
          "relative_error": null,
          "sample_id": "pgm"
         },
         {
          "BiGG_ID": "GLCptspp",
          "author": "iML1515",
          "relative_error": null,
          "sample_id": "pgm"
         },
         {
          "BiGG_ID": "GND",
          "author": "iML1515",
          "relative_error": null,
          "sample_id": "pgm"
         },
         {
          "BiGG_ID": "ICDHyr",
          "author": "iML1515",
          "relative_error": null,
          "sample_id": "pgm"
         },
         {
          "BiGG_ID": "ICL",
          "author": "iML1515",
          "relative_error": null,
          "sample_id": "pgm"
         },
         {
          "BiGG_ID": "MALS",
          "author": "iML1515",
          "relative_error": null,
          "sample_id": "pgm"
         },
         {
          "BiGG_ID": "MDH",
          "author": "iML1515",
          "relative_error": null,
          "sample_id": "pgm"
         },
         {
          "BiGG_ID": "PDH",
          "author": "iML1515",
          "relative_error": null,
          "sample_id": "pgm"
         },
         {
          "BiGG_ID": "PGI",
          "author": "iML1515",
          "relative_error": null,
          "sample_id": "pgm"
         },
         {
          "BiGG_ID": "PGM",
          "author": "iML1515",
          "relative_error": null,
          "sample_id": "pgm"
         },
         {
          "BiGG_ID": "PPC",
          "author": "iML1515",
          "relative_error": null,
          "sample_id": "pgm"
         },
         {
          "BiGG_ID": "PTAr",
          "author": "iML1515",
          "relative_error": null,
          "sample_id": "pgm"
         },
         {
          "BiGG_ID": "PYK",
          "author": "iML1515",
          "relative_error": null,
          "sample_id": "pgm"
         },
         {
          "BiGG_ID": "RPE",
          "author": "iML1515",
          "relative_error": null,
          "sample_id": "pgm"
         },
         {
          "BiGG_ID": "RPI",
          "author": "iML1515",
          "relative_error": null,
          "sample_id": "pgm"
         },
         {
          "BiGG_ID": "SUCDi",
          "author": "iML1515",
          "relative_error": null,
          "sample_id": "pgm"
         },
         {
          "BiGG_ID": "TALA",
          "author": "iML1515",
          "relative_error": null,
          "sample_id": "pgm"
         },
         {
          "BiGG_ID": "TKT1",
          "author": "iML1515",
          "relative_error": null,
          "sample_id": "pgm"
         },
         {
          "BiGG_ID": "TPI",
          "author": "iML1515",
          "relative_error": null,
          "sample_id": "pgm"
         },
         {
          "BiGG_ID": "AKGDH",
          "author": "iML1515",
          "relative_error": null,
          "sample_id": "ppc"
         },
         {
          "BiGG_ID": "CS",
          "author": "iML1515",
          "relative_error": null,
          "sample_id": "ppc"
         },
         {
          "BiGG_ID": "EDA",
          "author": "iML1515",
          "relative_error": null,
          "sample_id": "ppc"
         },
         {
          "BiGG_ID": "FBA",
          "author": "iML1515",
          "relative_error": null,
          "sample_id": "ppc"
         },
         {
          "BiGG_ID": "FUM",
          "author": "iML1515",
          "relative_error": null,
          "sample_id": "ppc"
         },
         {
          "BiGG_ID": "G6PDH2r",
          "author": "iML1515",
          "relative_error": null,
          "sample_id": "ppc"
         },
         {
          "BiGG_ID": "GAPD",
          "author": "iML1515",
          "relative_error": null,
          "sample_id": "ppc"
         },
         {
          "BiGG_ID": "GLCptspp",
          "author": "iML1515",
          "relative_error": null,
          "sample_id": "ppc"
         },
         {
          "BiGG_ID": "GND",
          "author": "iML1515",
          "relative_error": null,
          "sample_id": "ppc"
         },
         {
          "BiGG_ID": "ICDHyr",
          "author": "iML1515",
          "relative_error": null,
          "sample_id": "ppc"
         },
         {
          "BiGG_ID": "ICL",
          "author": "iML1515",
          "relative_error": null,
          "sample_id": "ppc"
         },
         {
          "BiGG_ID": "MALS",
          "author": "iML1515",
          "relative_error": null,
          "sample_id": "ppc"
         },
         {
          "BiGG_ID": "MDH",
          "author": "iML1515",
          "relative_error": null,
          "sample_id": "ppc"
         },
         {
          "BiGG_ID": "PDH",
          "author": "iML1515",
          "relative_error": null,
          "sample_id": "ppc"
         },
         {
          "BiGG_ID": "PGI",
          "author": "iML1515",
          "relative_error": null,
          "sample_id": "ppc"
         },
         {
          "BiGG_ID": "PGM",
          "author": "iML1515",
          "relative_error": null,
          "sample_id": "ppc"
         },
         {
          "BiGG_ID": "PPC",
          "author": "iML1515",
          "relative_error": null,
          "sample_id": "ppc"
         },
         {
          "BiGG_ID": "PTAr",
          "author": "iML1515",
          "relative_error": null,
          "sample_id": "ppc"
         },
         {
          "BiGG_ID": "PYK",
          "author": "iML1515",
          "relative_error": null,
          "sample_id": "ppc"
         },
         {
          "BiGG_ID": "RPE",
          "author": "iML1515",
          "relative_error": null,
          "sample_id": "ppc"
         },
         {
          "BiGG_ID": "RPI",
          "author": "iML1515",
          "relative_error": null,
          "sample_id": "ppc"
         },
         {
          "BiGG_ID": "SUCDi",
          "author": "iML1515",
          "relative_error": null,
          "sample_id": "ppc"
         },
         {
          "BiGG_ID": "TALA",
          "author": "iML1515",
          "relative_error": null,
          "sample_id": "ppc"
         },
         {
          "BiGG_ID": "TKT1",
          "author": "iML1515",
          "relative_error": null,
          "sample_id": "ppc"
         },
         {
          "BiGG_ID": "TPI",
          "author": "iML1515",
          "relative_error": null,
          "sample_id": "ppc"
         },
         {
          "BiGG_ID": "AKGDH",
          "author": "iML1515",
          "relative_error": 157.59721885622292,
          "sample_id": "ppsA"
         },
         {
          "BiGG_ID": "CS",
          "author": "iML1515",
          "relative_error": 130.09227803129033,
          "sample_id": "ppsA"
         },
         {
          "BiGG_ID": "EDA",
          "author": "iML1515",
          "relative_error": 0,
          "sample_id": "ppsA"
         },
         {
          "BiGG_ID": "FBA",
          "author": "iML1515",
          "relative_error": 100.37363568845402,
          "sample_id": "ppsA"
         },
         {
          "BiGG_ID": "FUM",
          "author": "iML1515",
          "relative_error": 110.13056963605968,
          "sample_id": "ppsA"
         },
         {
          "BiGG_ID": "G6PDH2r",
          "author": "iML1515",
          "relative_error": 23.4015914109311,
          "sample_id": "ppsA"
         },
         {
          "BiGG_ID": "GAPD",
          "author": "iML1515",
          "relative_error": 3.210047895238782,
          "sample_id": "ppsA"
         },
         {
          "BiGG_ID": "GLCptspp",
          "author": "iML1515",
          "relative_error": 0,
          "sample_id": "ppsA"
         },
         {
          "BiGG_ID": "GND",
          "author": "iML1515",
          "relative_error": 23.4015914109311,
          "sample_id": "ppsA"
         },
         {
          "BiGG_ID": "ICDHyr",
          "author": "iML1515",
          "relative_error": 130.09227803128974,
          "sample_id": "ppsA"
         },
         {
          "BiGG_ID": "ICL",
          "author": "iML1515",
          "relative_error": 0,
          "sample_id": "ppsA"
         },
         {
          "BiGG_ID": "MALS",
          "author": "iML1515",
          "relative_error": 0,
          "sample_id": "ppsA"
         },
         {
          "BiGG_ID": "MDH",
          "author": "iML1515",
          "relative_error": 110.10573180135933,
          "sample_id": "ppsA"
         },
         {
          "BiGG_ID": "PDH",
          "author": "iML1515",
          "relative_error": 4.578221246915088,
          "sample_id": "ppsA"
         },
         {
          "BiGG_ID": "PGI",
          "author": "iML1515",
          "relative_error": 9.186540103781999,
          "sample_id": "ppsA"
         },
         {
          "BiGG_ID": "PGM",
          "author": "iML1515",
          "relative_error": 197.42547043938947,
          "sample_id": "ppsA"
         },
         {
          "BiGG_ID": "PPC",
          "author": "iML1515",
          "relative_error": 6.808412064079169,
          "sample_id": "ppsA"
         },
         {
          "BiGG_ID": "PTAr",
          "author": "iML1515",
          "relative_error": 100,
          "sample_id": "ppsA"
         },
         {
          "BiGG_ID": "PYK",
          "author": "iML1515",
          "relative_error": 100,
          "sample_id": "ppsA"
         },
         {
          "BiGG_ID": "RPE",
          "author": "iML1515",
          "relative_error": 29.387923611122297,
          "sample_id": "ppsA"
         },
         {
          "BiGG_ID": "RPI",
          "author": "iML1515",
          "relative_error": 220.62949048926978,
          "sample_id": "ppsA"
         },
         {
          "BiGG_ID": "SUCDi",
          "author": "iML1515",
          "relative_error": 157.5653603646169,
          "sample_id": "ppsA"
         },
         {
          "BiGG_ID": "TALA",
          "author": "iML1515",
          "relative_error": 100,
          "sample_id": "ppsA"
         },
         {
          "BiGG_ID": "TKT1",
          "author": "iML1515",
          "relative_error": 27.420676534869298,
          "sample_id": "ppsA"
         },
         {
          "BiGG_ID": "TPI",
          "author": "iML1515",
          "relative_error": 3.421868332638249,
          "sample_id": "ppsA"
         },
         {
          "BiGG_ID": "AKGDH",
          "author": "iML1515",
          "relative_error": null,
          "sample_id": "pts"
         },
         {
          "BiGG_ID": "CS",
          "author": "iML1515",
          "relative_error": null,
          "sample_id": "pts"
         },
         {
          "BiGG_ID": "EDA",
          "author": "iML1515",
          "relative_error": 100,
          "sample_id": "pts"
         },
         {
          "BiGG_ID": "FBA",
          "author": "iML1515",
          "relative_error": null,
          "sample_id": "pts"
         },
         {
          "BiGG_ID": "FUM",
          "author": "iML1515",
          "relative_error": null,
          "sample_id": "pts"
         },
         {
          "BiGG_ID": "G6PDH2r",
          "author": "iML1515",
          "relative_error": null,
          "sample_id": "pts"
         },
         {
          "BiGG_ID": "GAPD",
          "author": "iML1515",
          "relative_error": null,
          "sample_id": "pts"
         },
         {
          "BiGG_ID": "GLCptspp",
          "author": "iML1515",
          "relative_error": 100,
          "sample_id": "pts"
         },
         {
          "BiGG_ID": "GND",
          "author": "iML1515",
          "relative_error": null,
          "sample_id": "pts"
         },
         {
          "BiGG_ID": "ICDHyr",
          "author": "iML1515",
          "relative_error": null,
          "sample_id": "pts"
         },
         {
          "BiGG_ID": "ICL",
          "author": "iML1515",
          "relative_error": 100,
          "sample_id": "pts"
         },
         {
          "BiGG_ID": "MALS",
          "author": "iML1515",
          "relative_error": 100,
          "sample_id": "pts"
         },
         {
          "BiGG_ID": "MDH",
          "author": "iML1515",
          "relative_error": null,
          "sample_id": "pts"
         },
         {
          "BiGG_ID": "PDH",
          "author": "iML1515",
          "relative_error": null,
          "sample_id": "pts"
         },
         {
          "BiGG_ID": "PGI",
          "author": "iML1515",
          "relative_error": null,
          "sample_id": "pts"
         },
         {
          "BiGG_ID": "PGM",
          "author": "iML1515",
          "relative_error": null,
          "sample_id": "pts"
         },
         {
          "BiGG_ID": "PPC",
          "author": "iML1515",
          "relative_error": null,
          "sample_id": "pts"
         },
         {
          "BiGG_ID": "PTAr",
          "author": "iML1515",
          "relative_error": null,
          "sample_id": "pts"
         },
         {
          "BiGG_ID": "PYK",
          "author": "iML1515",
          "relative_error": null,
          "sample_id": "pts"
         },
         {
          "BiGG_ID": "RPE",
          "author": "iML1515",
          "relative_error": null,
          "sample_id": "pts"
         },
         {
          "BiGG_ID": "RPI",
          "author": "iML1515",
          "relative_error": null,
          "sample_id": "pts"
         },
         {
          "BiGG_ID": "SUCDi",
          "author": "iML1515",
          "relative_error": null,
          "sample_id": "pts"
         },
         {
          "BiGG_ID": "TALA",
          "author": "iML1515",
          "relative_error": 100,
          "sample_id": "pts"
         },
         {
          "BiGG_ID": "TKT1",
          "author": "iML1515",
          "relative_error": null,
          "sample_id": "pts"
         },
         {
          "BiGG_ID": "TPI",
          "author": "iML1515",
          "relative_error": null,
          "sample_id": "pts"
         },
         {
          "BiGG_ID": "AKGDH",
          "author": "iML1515",
          "relative_error": 85.86128449119599,
          "sample_id": "pykA"
         },
         {
          "BiGG_ID": "CS",
          "author": "iML1515",
          "relative_error": 119.51332271950675,
          "sample_id": "pykA"
         },
         {
          "BiGG_ID": "EDA",
          "author": "iML1515",
          "relative_error": 0,
          "sample_id": "pykA"
         },
         {
          "BiGG_ID": "FBA",
          "author": "iML1515",
          "relative_error": 105.260797534513,
          "sample_id": "pykA"
         },
         {
          "BiGG_ID": "FUM",
          "author": "iML1515",
          "relative_error": 96.8311664945362,
          "sample_id": "pykA"
         },
         {
          "BiGG_ID": "G6PDH2r",
          "author": "iML1515",
          "relative_error": 4.463284068956527,
          "sample_id": "pykA"
         },
         {
          "BiGG_ID": "GAPD",
          "author": "iML1515",
          "relative_error": 3.210047895238782,
          "sample_id": "pykA"
         },
         {
          "BiGG_ID": "GLCptspp",
          "author": "iML1515",
          "relative_error": 0,
          "sample_id": "pykA"
         },
         {
          "BiGG_ID": "GND",
          "author": "iML1515",
          "relative_error": 4.463284068956527,
          "sample_id": "pykA"
         },
         {
          "BiGG_ID": "ICDHyr",
          "author": "iML1515",
          "relative_error": 71.9080238164784,
          "sample_id": "pykA"
         },
         {
          "BiGG_ID": "ICL",
          "author": "iML1515",
          "relative_error": 100,
          "sample_id": "pykA"
         },
         {
          "BiGG_ID": "MALS",
          "author": "iML1515",
          "relative_error": 100,
          "sample_id": "pykA"
         },
         {
          "BiGG_ID": "MDH",
          "author": "iML1515",
          "relative_error": 144.68009273069606,
          "sample_id": "pykA"
         },
         {
          "BiGG_ID": "PDH",
          "author": "iML1515",
          "relative_error": 7.977275957438152,
          "sample_id": "pykA"
         },
         {
          "BiGG_ID": "PGI",
          "author": "iML1515",
          "relative_error": 1.1735877599980569,
          "sample_id": "pykA"
         },
         {
          "BiGG_ID": "PGM",
          "author": "iML1515",
          "relative_error": 197.42547043938947,
          "sample_id": "pykA"
         },
         {
          "BiGG_ID": "PPC",
          "author": "iML1515",
          "relative_error": 74.56942569902877,
          "sample_id": "pykA"
         },
         {
          "BiGG_ID": "PTAr",
          "author": "iML1515",
          "relative_error": 100,
          "sample_id": "pykA"
         },
         {
          "BiGG_ID": "PYK",
          "author": "iML1515",
          "relative_error": 100,
          "sample_id": "pykA"
         },
         {
          "BiGG_ID": "RPE",
          "author": "iML1515",
          "relative_error": 13.741384259251074,
          "sample_id": "pykA"
         },
         {
          "BiGG_ID": "RPI",
          "author": "iML1515",
          "relative_error": 205.55080417811106,
          "sample_id": "pykA"
         },
         {
          "BiGG_ID": "SUCDi",
          "author": "iML1515",
          "relative_error": 141.26375527824874,
          "sample_id": "pykA"
         },
         {
          "BiGG_ID": "TALA",
          "author": "iML1515",
          "relative_error": 100,
          "sample_id": "pykA"
         },
         {
          "BiGG_ID": "TKT1",
          "author": "iML1515",
          "relative_error": 0.8950293617731822,
          "sample_id": "pykA"
         },
         {
          "BiGG_ID": "TPI",
          "author": "iML1515",
          "relative_error": 1.0663041456294096,
          "sample_id": "pykA"
         },
         {
          "BiGG_ID": "AKGDH",
          "author": "iML1515",
          "relative_error": null,
          "sample_id": "pykAF"
         },
         {
          "BiGG_ID": "CS",
          "author": "iML1515",
          "relative_error": null,
          "sample_id": "pykAF"
         },
         {
          "BiGG_ID": "EDA",
          "author": "iML1515",
          "relative_error": null,
          "sample_id": "pykAF"
         },
         {
          "BiGG_ID": "FBA",
          "author": "iML1515",
          "relative_error": null,
          "sample_id": "pykAF"
         },
         {
          "BiGG_ID": "FUM",
          "author": "iML1515",
          "relative_error": null,
          "sample_id": "pykAF"
         },
         {
          "BiGG_ID": "G6PDH2r",
          "author": "iML1515",
          "relative_error": null,
          "sample_id": "pykAF"
         },
         {
          "BiGG_ID": "GAPD",
          "author": "iML1515",
          "relative_error": null,
          "sample_id": "pykAF"
         },
         {
          "BiGG_ID": "GLCptspp",
          "author": "iML1515",
          "relative_error": null,
          "sample_id": "pykAF"
         },
         {
          "BiGG_ID": "GND",
          "author": "iML1515",
          "relative_error": null,
          "sample_id": "pykAF"
         },
         {
          "BiGG_ID": "ICDHyr",
          "author": "iML1515",
          "relative_error": null,
          "sample_id": "pykAF"
         },
         {
          "BiGG_ID": "ICL",
          "author": "iML1515",
          "relative_error": null,
          "sample_id": "pykAF"
         },
         {
          "BiGG_ID": "MALS",
          "author": "iML1515",
          "relative_error": null,
          "sample_id": "pykAF"
         },
         {
          "BiGG_ID": "MDH",
          "author": "iML1515",
          "relative_error": null,
          "sample_id": "pykAF"
         },
         {
          "BiGG_ID": "PDH",
          "author": "iML1515",
          "relative_error": null,
          "sample_id": "pykAF"
         },
         {
          "BiGG_ID": "PGI",
          "author": "iML1515",
          "relative_error": null,
          "sample_id": "pykAF"
         },
         {
          "BiGG_ID": "PGM",
          "author": "iML1515",
          "relative_error": null,
          "sample_id": "pykAF"
         },
         {
          "BiGG_ID": "PPC",
          "author": "iML1515",
          "relative_error": null,
          "sample_id": "pykAF"
         },
         {
          "BiGG_ID": "PTAr",
          "author": "iML1515",
          "relative_error": null,
          "sample_id": "pykAF"
         },
         {
          "BiGG_ID": "PYK",
          "author": "iML1515",
          "relative_error": null,
          "sample_id": "pykAF"
         },
         {
          "BiGG_ID": "RPE",
          "author": "iML1515",
          "relative_error": null,
          "sample_id": "pykAF"
         },
         {
          "BiGG_ID": "RPI",
          "author": "iML1515",
          "relative_error": null,
          "sample_id": "pykAF"
         },
         {
          "BiGG_ID": "SUCDi",
          "author": "iML1515",
          "relative_error": null,
          "sample_id": "pykAF"
         },
         {
          "BiGG_ID": "TALA",
          "author": "iML1515",
          "relative_error": null,
          "sample_id": "pykAF"
         },
         {
          "BiGG_ID": "TKT1",
          "author": "iML1515",
          "relative_error": null,
          "sample_id": "pykAF"
         },
         {
          "BiGG_ID": "TPI",
          "author": "iML1515",
          "relative_error": null,
          "sample_id": "pykAF"
         },
         {
          "BiGG_ID": "AKGDH",
          "author": "iML1515",
          "relative_error": 10.864625836853747,
          "sample_id": "pykF"
         },
         {
          "BiGG_ID": "CS",
          "author": "iML1515",
          "relative_error": 93.06593444004811,
          "sample_id": "pykF"
         },
         {
          "BiGG_ID": "EDA",
          "author": "iML1515",
          "relative_error": 0,
          "sample_id": "pykF"
         },
         {
          "BiGG_ID": "FBA",
          "author": "iML1515",
          "relative_error": 83.26856922724376,
          "sample_id": "pykF"
         },
         {
          "BiGG_ID": "FUM",
          "author": "iML1515",
          "relative_error": 70.23236021149076,
          "sample_id": "pykF"
         },
         {
          "BiGG_ID": "G6PDH2r",
          "author": "iML1515",
          "relative_error": 106.99621785059419,
          "sample_id": "pykF"
         },
         {
          "BiGG_ID": "GAPD",
          "author": "iML1515",
          "relative_error": 8.334221830196729,
          "sample_id": "pykF"
         },
         {
          "BiGG_ID": "GLCptspp",
          "author": "iML1515",
          "relative_error": 0,
          "sample_id": "pykF"
         },
         {
          "BiGG_ID": "GND",
          "author": "iML1515",
          "relative_error": 106.99621785059419,
          "sample_id": "pykF"
         },
         {
          "BiGG_ID": "ICDHyr",
          "author": "iML1515",
          "relative_error": 13.723769601670332,
          "sample_id": "pykF"
         },
         {
          "BiGG_ID": "ICL",
          "author": "iML1515",
          "relative_error": 100,
          "sample_id": "pykF"
         },
         {
          "BiGG_ID": "MALS",
          "author": "iML1515",
          "relative_error": 100,
          "sample_id": "pykF"
         },
         {
          "BiGG_ID": "MDH",
          "author": "iML1515",
          "relative_error": 131.3822616040278,
          "sample_id": "pykF"
         },
         {
          "BiGG_ID": "PDH",
          "author": "iML1515",
          "relative_error": 10.488375398308806,
          "sample_id": "pykF"
         },
         {
          "BiGG_ID": "PGI",
          "author": "iML1515",
          "relative_error": 37.23187330702579,
          "sample_id": "pykF"
         },
         {
          "BiGG_ID": "PGM",
          "author": "iML1515",
          "relative_error": 191.3363785369276,
          "sample_id": "pykF"
         },
         {
          "BiGG_ID": "PPC",
          "author": "iML1515",
          "relative_error": 100,
          "sample_id": "pykF"
         },
         {
          "BiGG_ID": "PTAr",
          "author": "iML1515",
          "relative_error": 100,
          "sample_id": "pykF"
         },
         {
          "BiGG_ID": "PYK",
          "author": "iML1515",
          "relative_error": 100,
          "sample_id": "pykF"
         },
         {
          "BiGG_ID": "RPE",
          "author": "iML1515",
          "relative_error": 150.14998564817185,
          "sample_id": "pykF"
         },
         {
          "BiGG_ID": "RPI",
          "author": "iML1515",
          "relative_error": 273.4048925783253,
          "sample_id": "pykF"
         },
         {
          "BiGG_ID": "SUCDi",
          "author": "iML1515",
          "relative_error": 108.66054510551241,
          "sample_id": "pykF"
         },
         {
          "BiGG_ID": "TALA",
          "author": "iML1515",
          "relative_error": 100,
          "sample_id": "pykF"
         },
         {
          "BiGG_ID": "TKT1",
          "author": "iML1515",
          "relative_error": 126.52564717308988,
          "sample_id": "pykF"
         },
         {
          "BiGG_ID": "TPI",
          "author": "iML1515",
          "relative_error": 11.666342987169116,
          "sample_id": "pykF"
         },
         {
          "BiGG_ID": "AKGDH",
          "author": "iML1515",
          "relative_error": 134.07589858542534,
          "sample_id": "rpe"
         },
         {
          "BiGG_ID": "CS",
          "author": "iML1515",
          "relative_error": 150.67968313874212,
          "sample_id": "rpe"
         },
         {
          "BiGG_ID": "EDA",
          "author": "iML1515",
          "relative_error": 100,
          "sample_id": "rpe"
         },
         {
          "BiGG_ID": "FBA",
          "author": "iML1515",
          "relative_error": 125.77984820734831,
          "sample_id": "rpe"
         },
         {
          "BiGG_ID": "FUM",
          "author": "iML1515",
          "relative_error": 138.28275237962097,
          "sample_id": "rpe"
         },
         {
          "BiGG_ID": "G6PDH2r",
          "author": "iML1515",
          "relative_error": 51.15021765934048,
          "sample_id": "rpe"
         },
         {
          "BiGG_ID": "GAPD",
          "author": "iML1515",
          "relative_error": 3.4976650108755734,
          "sample_id": "rpe"
         },
         {
          "BiGG_ID": "GLCptspp",
          "author": "iML1515",
          "relative_error": 0,
          "sample_id": "rpe"
         },
         {
          "BiGG_ID": "GND",
          "author": "iML1515",
          "relative_error": 9.072415826674392,
          "sample_id": "rpe"
         },
         {
          "BiGG_ID": "ICDHyr",
          "author": "iML1515",
          "relative_error": 112.28729923461043,
          "sample_id": "rpe"
         },
         {
          "BiGG_ID": "ICL",
          "author": "iML1515",
          "relative_error": 100,
          "sample_id": "rpe"
         },
         {
          "BiGG_ID": "MALS",
          "author": "iML1515",
          "relative_error": 100,
          "sample_id": "rpe"
         },
         {
          "BiGG_ID": "MDH",
          "author": "iML1515",
          "relative_error": 176.83406331881952,
          "sample_id": "rpe"
         },
         {
          "BiGG_ID": "PDH",
          "author": "iML1515",
          "relative_error": 21.82759453162923,
          "sample_id": "rpe"
         },
         {
          "BiGG_ID": "PGI",
          "author": "iML1515",
          "relative_error": 7.388371551321453,
          "sample_id": "rpe"
         },
         {
          "BiGG_ID": "PGM",
          "author": "iML1515",
          "relative_error": 205.7960018318026,
          "sample_id": "rpe"
         },
         {
          "BiGG_ID": "PPC",
          "author": "iML1515",
          "relative_error": 100,
          "sample_id": "rpe"
         },
         {
          "BiGG_ID": "PTAr",
          "author": "iML1515",
          "relative_error": 100,
          "sample_id": "rpe"
         },
         {
          "BiGG_ID": "PYK",
          "author": "iML1515",
          "relative_error": 100,
          "sample_id": "rpe"
         },
         {
          "BiGG_ID": "RPE",
          "author": "iML1515",
          "relative_error": 0,
          "sample_id": "rpe"
         },
         {
          "BiGG_ID": "RPI",
          "author": "iML1515",
          "relative_error": 194.1475425906376,
          "sample_id": "rpe"
         },
         {
          "BiGG_ID": "SUCDi",
          "author": "iML1515",
          "relative_error": 182.47668881588777,
          "sample_id": "rpe"
         },
         {
          "BiGG_ID": "TALA",
          "author": "iML1515",
          "relative_error": 117.32619123325631,
          "sample_id": "rpe"
         },
         {
          "BiGG_ID": "TKT1",
          "author": "iML1515",
          "relative_error": 20.713652548093137,
          "sample_id": "rpe"
         },
         {
          "BiGG_ID": "TPI",
          "author": "iML1515",
          "relative_error": 9.3797604957825,
          "sample_id": "rpe"
         },
         {
          "BiGG_ID": "AKGDH",
          "author": "iML1515",
          "relative_error": 559.3441553650047,
          "sample_id": "rpiA"
         },
         {
          "BiGG_ID": "CS",
          "author": "iML1515",
          "relative_error": 635.3321790435475,
          "sample_id": "rpiA"
         },
         {
          "BiGG_ID": "EDA",
          "author": "iML1515",
          "relative_error": 35.36693500149694,
          "sample_id": "rpiA"
         },
         {
          "BiGG_ID": "FBA",
          "author": "iML1515",
          "relative_error": 373.5233533324848,
          "sample_id": "rpiA"
         },
         {
          "BiGG_ID": "FUM",
          "author": "iML1515",
          "relative_error": 587.2512836705729,
          "sample_id": "rpiA"
         },
         {
          "BiGG_ID": "G6PDH2r",
          "author": "iML1515",
          "relative_error": 0.18125074767973906,
          "sample_id": "rpiA"
         },
         {
          "BiGG_ID": "GAPD",
          "author": "iML1515",
          "relative_error": 8.86210258806541,
          "sample_id": "rpiA"
         },
         {
          "BiGG_ID": "GLCptspp",
          "author": "iML1515",
          "relative_error": 178.89397433580086,
          "sample_id": "rpiA"
         },
         {
          "BiGG_ID": "GND",
          "author": "iML1515",
          "relative_error": 100,
          "sample_id": "rpiA"
         },
         {
          "BiGG_ID": "ICDHyr",
          "author": "iML1515",
          "relative_error": 486.7802236812147,
          "sample_id": "rpiA"
         },
         {
          "BiGG_ID": "ICL",
          "author": "iML1515",
          "relative_error": 100,
          "sample_id": "rpiA"
         },
         {
          "BiGG_ID": "MALS",
          "author": "iML1515",
          "relative_error": 100,
          "sample_id": "rpiA"
         },
         {
          "BiGG_ID": "MDH",
          "author": "iML1515",
          "relative_error": 729.1836139938434,
          "sample_id": "rpiA"
         },
         {
          "BiGG_ID": "PDH",
          "author": "iML1515",
          "relative_error": 1.580065474814129,
          "sample_id": "rpiA"
         },
         {
          "BiGG_ID": "PGI",
          "author": "iML1515",
          "relative_error": 2.9774147250487184,
          "sample_id": "rpiA"
         },
         {
          "BiGG_ID": "PGM",
          "author": "iML1515",
          "relative_error": 207.6014301411922,
          "sample_id": "rpiA"
         },
         {
          "BiGG_ID": "PPC",
          "author": "iML1515",
          "relative_error": 100,
          "sample_id": "rpiA"
         },
         {
          "BiGG_ID": "PTAr",
          "author": "iML1515",
          "relative_error": 100,
          "sample_id": "rpiA"
         },
         {
          "BiGG_ID": "PYK",
          "author": "iML1515",
          "relative_error": 162.44164607999556,
          "sample_id": "rpiA"
         },
         {
          "BiGG_ID": "RPE",
          "author": "iML1515",
          "relative_error": 156.43212869300967,
          "sample_id": "rpiA"
         },
         {
          "BiGG_ID": "RPI",
          "author": "iML1515",
          "relative_error": 100,
          "sample_id": "rpiA"
         },
         {
          "BiGG_ID": "SUCDi",
          "author": "iML1515",
          "relative_error": 742.3911135168571,
          "sample_id": "rpiA"
         },
         {
          "BiGG_ID": "TALA",
          "author": "iML1515",
          "relative_error": 163.52144242417614,
          "sample_id": "rpiA"
         },
         {
          "BiGG_ID": "TKT1",
          "author": "iML1515",
          "relative_error": 235.8806240482088,
          "sample_id": "rpiA"
         },
         {
          "BiGG_ID": "TPI",
          "author": "iML1515",
          "relative_error": 19.044966675399177,
          "sample_id": "rpiA"
         },
         {
          "BiGG_ID": "AKGDH",
          "author": "iML1515",
          "relative_error": 769.96798277327,
          "sample_id": "rpiB"
         },
         {
          "BiGG_ID": "CS",
          "author": "iML1515",
          "relative_error": 717.0357544928305,
          "sample_id": "rpiB"
         },
         {
          "BiGG_ID": "EDA",
          "author": "iML1515",
          "relative_error": 100,
          "sample_id": "rpiB"
         },
         {
          "BiGG_ID": "FBA",
          "author": "iML1515",
          "relative_error": 442.1499262792218,
          "sample_id": "rpiB"
         },
         {
          "BiGG_ID": "FUM",
          "author": "iML1515",
          "relative_error": 676.8927554536912,
          "sample_id": "rpiB"
         },
         {
          "BiGG_ID": "G6PDH2r",
          "author": "iML1515",
          "relative_error": 55.119355996407336,
          "sample_id": "rpiB"
         },
         {
          "BiGG_ID": "GAPD",
          "author": "iML1515",
          "relative_error": 17.182772849573595,
          "sample_id": "rpiB"
         },
         {
          "BiGG_ID": "GLCptspp",
          "author": "iML1515",
          "relative_error": 178.89397433580086,
          "sample_id": "rpiB"
         },
         {
          "BiGG_ID": "GND",
          "author": "iML1515",
          "relative_error": 100,
          "sample_id": "rpiB"
         },
         {
          "BiGG_ID": "ICDHyr",
          "author": "iML1515",
          "relative_error": 650.1873745797808,
          "sample_id": "rpiB"
         },
         {
          "BiGG_ID": "ICL",
          "author": "iML1515",
          "relative_error": 100,
          "sample_id": "rpiB"
         },
         {
          "BiGG_ID": "MALS",
          "author": "iML1515",
          "relative_error": 100,
          "sample_id": "rpiB"
         },
         {
          "BiGG_ID": "MDH",
          "author": "iML1515",
          "relative_error": 736.6537366424367,
          "sample_id": "rpiB"
         },
         {
          "BiGG_ID": "PDH",
          "author": "iML1515",
          "relative_error": 6.33137265878862,
          "sample_id": "rpiB"
         },
         {
          "BiGG_ID": "PGI",
          "author": "iML1515",
          "relative_error": 26.14698732802216,
          "sample_id": "rpiB"
         },
         {
          "BiGG_ID": "PGM",
          "author": "iML1515",
          "relative_error": 217.7799438031969,
          "sample_id": "rpiB"
         },
         {
          "BiGG_ID": "PPC",
          "author": "iML1515",
          "relative_error": 0.03415776429240989,
          "sample_id": "rpiB"
         },
         {
          "BiGG_ID": "PTAr",
          "author": "iML1515",
          "relative_error": 100,
          "sample_id": "rpiB"
         },
         {
          "BiGG_ID": "PYK",
          "author": "iML1515",
          "relative_error": 203.26590213688377,
          "sample_id": "rpiB"
         },
         {
          "BiGG_ID": "RPE",
          "author": "iML1515",
          "relative_error": 626.6998678014237,
          "sample_id": "rpiB"
         },
         {
          "BiGG_ID": "RPI",
          "author": "iML1515",
          "relative_error": 100,
          "sample_id": "rpiB"
         },
         {
          "BiGG_ID": "SUCDi",
          "author": "iML1515",
          "relative_error": 852.2682152799254,
          "sample_id": "rpiB"
         },
         {
          "BiGG_ID": "TALA",
          "author": "iML1515",
          "relative_error": 417.6072121208807,
          "sample_id": "rpiB"
         },
         {
          "BiGG_ID": "TKT1",
          "author": "iML1515",
          "relative_error": 779.4031202410441,
          "sample_id": "rpiB"
         },
         {
          "BiGG_ID": "TPI",
          "author": "iML1515",
          "relative_error": 36.29786039647152,
          "sample_id": "rpiB"
         },
         {
          "BiGG_ID": "AKGDH",
          "author": "iML1515",
          "relative_error": null,
          "sample_id": "sdhCD"
         },
         {
          "BiGG_ID": "CS",
          "author": "iML1515",
          "relative_error": null,
          "sample_id": "sdhCD"
         },
         {
          "BiGG_ID": "EDA",
          "author": "iML1515",
          "relative_error": 100,
          "sample_id": "sdhCD"
         },
         {
          "BiGG_ID": "FBA",
          "author": "iML1515",
          "relative_error": null,
          "sample_id": "sdhCD"
         },
         {
          "BiGG_ID": "FUM",
          "author": "iML1515",
          "relative_error": null,
          "sample_id": "sdhCD"
         },
         {
          "BiGG_ID": "G6PDH2r",
          "author": "iML1515",
          "relative_error": null,
          "sample_id": "sdhCD"
         },
         {
          "BiGG_ID": "GAPD",
          "author": "iML1515",
          "relative_error": null,
          "sample_id": "sdhCD"
         },
         {
          "BiGG_ID": "GLCptspp",
          "author": "iML1515",
          "relative_error": null,
          "sample_id": "sdhCD"
         },
         {
          "BiGG_ID": "GND",
          "author": "iML1515",
          "relative_error": null,
          "sample_id": "sdhCD"
         },
         {
          "BiGG_ID": "ICDHyr",
          "author": "iML1515",
          "relative_error": null,
          "sample_id": "sdhCD"
         },
         {
          "BiGG_ID": "ICL",
          "author": "iML1515",
          "relative_error": 100,
          "sample_id": "sdhCD"
         },
         {
          "BiGG_ID": "MALS",
          "author": "iML1515",
          "relative_error": 100,
          "sample_id": "sdhCD"
         },
         {
          "BiGG_ID": "MDH",
          "author": "iML1515",
          "relative_error": null,
          "sample_id": "sdhCD"
         },
         {
          "BiGG_ID": "PDH",
          "author": "iML1515",
          "relative_error": null,
          "sample_id": "sdhCD"
         },
         {
          "BiGG_ID": "PGI",
          "author": "iML1515",
          "relative_error": null,
          "sample_id": "sdhCD"
         },
         {
          "BiGG_ID": "PGM",
          "author": "iML1515",
          "relative_error": null,
          "sample_id": "sdhCD"
         },
         {
          "BiGG_ID": "PPC",
          "author": "iML1515",
          "relative_error": null,
          "sample_id": "sdhCD"
         },
         {
          "BiGG_ID": "PTAr",
          "author": "iML1515",
          "relative_error": null,
          "sample_id": "sdhCD"
         },
         {
          "BiGG_ID": "PYK",
          "author": "iML1515",
          "relative_error": 100,
          "sample_id": "sdhCD"
         },
         {
          "BiGG_ID": "RPE",
          "author": "iML1515",
          "relative_error": null,
          "sample_id": "sdhCD"
         },
         {
          "BiGG_ID": "RPI",
          "author": "iML1515",
          "relative_error": null,
          "sample_id": "sdhCD"
         },
         {
          "BiGG_ID": "SUCDi",
          "author": "iML1515",
          "relative_error": 100,
          "sample_id": "sdhCD"
         },
         {
          "BiGG_ID": "TALA",
          "author": "iML1515",
          "relative_error": 100,
          "sample_id": "sdhCD"
         },
         {
          "BiGG_ID": "TKT1",
          "author": "iML1515",
          "relative_error": null,
          "sample_id": "sdhCD"
         },
         {
          "BiGG_ID": "TPI",
          "author": "iML1515",
          "relative_error": null,
          "sample_id": "sdhCD"
         },
         {
          "BiGG_ID": "AKGDH",
          "author": "iML1515",
          "relative_error": null,
          "sample_id": "sucA"
         },
         {
          "BiGG_ID": "CS",
          "author": "iML1515",
          "relative_error": null,
          "sample_id": "sucA"
         },
         {
          "BiGG_ID": "EDA",
          "author": "iML1515",
          "relative_error": null,
          "sample_id": "sucA"
         },
         {
          "BiGG_ID": "FBA",
          "author": "iML1515",
          "relative_error": null,
          "sample_id": "sucA"
         },
         {
          "BiGG_ID": "FUM",
          "author": "iML1515",
          "relative_error": null,
          "sample_id": "sucA"
         },
         {
          "BiGG_ID": "G6PDH2r",
          "author": "iML1515",
          "relative_error": null,
          "sample_id": "sucA"
         },
         {
          "BiGG_ID": "GAPD",
          "author": "iML1515",
          "relative_error": null,
          "sample_id": "sucA"
         },
         {
          "BiGG_ID": "GLCptspp",
          "author": "iML1515",
          "relative_error": null,
          "sample_id": "sucA"
         },
         {
          "BiGG_ID": "GND",
          "author": "iML1515",
          "relative_error": null,
          "sample_id": "sucA"
         },
         {
          "BiGG_ID": "ICDHyr",
          "author": "iML1515",
          "relative_error": null,
          "sample_id": "sucA"
         },
         {
          "BiGG_ID": "ICL",
          "author": "iML1515",
          "relative_error": null,
          "sample_id": "sucA"
         },
         {
          "BiGG_ID": "MALS",
          "author": "iML1515",
          "relative_error": null,
          "sample_id": "sucA"
         },
         {
          "BiGG_ID": "MDH",
          "author": "iML1515",
          "relative_error": null,
          "sample_id": "sucA"
         },
         {
          "BiGG_ID": "PDH",
          "author": "iML1515",
          "relative_error": null,
          "sample_id": "sucA"
         },
         {
          "BiGG_ID": "PGI",
          "author": "iML1515",
          "relative_error": null,
          "sample_id": "sucA"
         },
         {
          "BiGG_ID": "PGM",
          "author": "iML1515",
          "relative_error": null,
          "sample_id": "sucA"
         },
         {
          "BiGG_ID": "PPC",
          "author": "iML1515",
          "relative_error": null,
          "sample_id": "sucA"
         },
         {
          "BiGG_ID": "PTAr",
          "author": "iML1515",
          "relative_error": null,
          "sample_id": "sucA"
         },
         {
          "BiGG_ID": "PYK",
          "author": "iML1515",
          "relative_error": null,
          "sample_id": "sucA"
         },
         {
          "BiGG_ID": "RPE",
          "author": "iML1515",
          "relative_error": null,
          "sample_id": "sucA"
         },
         {
          "BiGG_ID": "RPI",
          "author": "iML1515",
          "relative_error": null,
          "sample_id": "sucA"
         },
         {
          "BiGG_ID": "SUCDi",
          "author": "iML1515",
          "relative_error": null,
          "sample_id": "sucA"
         },
         {
          "BiGG_ID": "TALA",
          "author": "iML1515",
          "relative_error": null,
          "sample_id": "sucA"
         },
         {
          "BiGG_ID": "TKT1",
          "author": "iML1515",
          "relative_error": null,
          "sample_id": "sucA"
         },
         {
          "BiGG_ID": "TPI",
          "author": "iML1515",
          "relative_error": null,
          "sample_id": "sucA"
         },
         {
          "BiGG_ID": "AKGDH",
          "author": "iML1515",
          "relative_error": 100,
          "sample_id": "sucAB"
         },
         {
          "BiGG_ID": "CS",
          "author": "iML1515",
          "relative_error": null,
          "sample_id": "sucAB"
         },
         {
          "BiGG_ID": "EDA",
          "author": "iML1515",
          "relative_error": 100,
          "sample_id": "sucAB"
         },
         {
          "BiGG_ID": "FBA",
          "author": "iML1515",
          "relative_error": null,
          "sample_id": "sucAB"
         },
         {
          "BiGG_ID": "FUM",
          "author": "iML1515",
          "relative_error": null,
          "sample_id": "sucAB"
         },
         {
          "BiGG_ID": "G6PDH2r",
          "author": "iML1515",
          "relative_error": null,
          "sample_id": "sucAB"
         },
         {
          "BiGG_ID": "GAPD",
          "author": "iML1515",
          "relative_error": null,
          "sample_id": "sucAB"
         },
         {
          "BiGG_ID": "GLCptspp",
          "author": "iML1515",
          "relative_error": null,
          "sample_id": "sucAB"
         },
         {
          "BiGG_ID": "GND",
          "author": "iML1515",
          "relative_error": null,
          "sample_id": "sucAB"
         },
         {
          "BiGG_ID": "ICDHyr",
          "author": "iML1515",
          "relative_error": null,
          "sample_id": "sucAB"
         },
         {
          "BiGG_ID": "ICL",
          "author": "iML1515",
          "relative_error": null,
          "sample_id": "sucAB"
         },
         {
          "BiGG_ID": "MALS",
          "author": "iML1515",
          "relative_error": null,
          "sample_id": "sucAB"
         },
         {
          "BiGG_ID": "MDH",
          "author": "iML1515",
          "relative_error": null,
          "sample_id": "sucAB"
         },
         {
          "BiGG_ID": "PDH",
          "author": "iML1515",
          "relative_error": null,
          "sample_id": "sucAB"
         },
         {
          "BiGG_ID": "PGI",
          "author": "iML1515",
          "relative_error": null,
          "sample_id": "sucAB"
         },
         {
          "BiGG_ID": "PGM",
          "author": "iML1515",
          "relative_error": null,
          "sample_id": "sucAB"
         },
         {
          "BiGG_ID": "PPC",
          "author": "iML1515",
          "relative_error": null,
          "sample_id": "sucAB"
         },
         {
          "BiGG_ID": "PTAr",
          "author": "iML1515",
          "relative_error": null,
          "sample_id": "sucAB"
         },
         {
          "BiGG_ID": "PYK",
          "author": "iML1515",
          "relative_error": null,
          "sample_id": "sucAB"
         },
         {
          "BiGG_ID": "RPE",
          "author": "iML1515",
          "relative_error": null,
          "sample_id": "sucAB"
         },
         {
          "BiGG_ID": "RPI",
          "author": "iML1515",
          "relative_error": null,
          "sample_id": "sucAB"
         },
         {
          "BiGG_ID": "SUCDi",
          "author": "iML1515",
          "relative_error": null,
          "sample_id": "sucAB"
         },
         {
          "BiGG_ID": "TALA",
          "author": "iML1515",
          "relative_error": 100,
          "sample_id": "sucAB"
         },
         {
          "BiGG_ID": "TKT1",
          "author": "iML1515",
          "relative_error": null,
          "sample_id": "sucAB"
         },
         {
          "BiGG_ID": "TPI",
          "author": "iML1515",
          "relative_error": null,
          "sample_id": "sucAB"
         },
         {
          "BiGG_ID": "AKGDH",
          "author": "iML1515",
          "relative_error": 144.554321698955,
          "sample_id": "talA"
         },
         {
          "BiGG_ID": "CS",
          "author": "iML1515",
          "relative_error": 127.44753920334344,
          "sample_id": "talA"
         },
         {
          "BiGG_ID": "EDA",
          "author": "iML1515",
          "relative_error": 0,
          "sample_id": "talA"
         },
         {
          "BiGG_ID": "FBA",
          "author": "iML1515",
          "relative_error": 112.59154030360202,
          "sample_id": "talA"
         },
         {
          "BiGG_ID": "FUM",
          "author": "iML1515",
          "relative_error": 104.81080837945242,
          "sample_id": "talA"
         },
         {
          "BiGG_ID": "G6PDH2r",
          "author": "iML1515",
          "relative_error": 48.250945537351456,
          "sample_id": "talA"
         },
         {
          "BiGG_ID": "GAPD",
          "author": "iML1515",
          "relative_error": 0.932637257479695,
          "sample_id": "talA"
         },
         {
          "BiGG_ID": "GLCptspp",
          "author": "iML1515",
          "relative_error": 0,
          "sample_id": "talA"
         },
         {
          "BiGG_ID": "GND",
          "author": "iML1515",
          "relative_error": 48.250945537351456,
          "sample_id": "talA"
         },
         {
          "BiGG_ID": "ICDHyr",
          "author": "iML1515",
          "relative_error": 119.51332271951304,
          "sample_id": "talA"
         },
         {
          "BiGG_ID": "ICL",
          "author": "iML1515",
          "relative_error": 100,
          "sample_id": "talA"
         },
         {
          "BiGG_ID": "MALS",
          "author": "iML1515",
          "relative_error": 100,
          "sample_id": "talA"
         },
         {
          "BiGG_ID": "MDH",
          "author": "iML1515",
          "relative_error": 110.10573180136245,
          "sample_id": "talA"
         },
         {
          "BiGG_ID": "PDH",
          "author": "iML1515",
          "relative_error": 2.067121806044432,
          "sample_id": "talA"
         },
         {
          "BiGG_ID": "PGI",
          "author": "iML1515",
          "relative_error": 13.516824870272504,
          "sample_id": "talA"
         },
         {
          "BiGG_ID": "PGM",
          "author": "iML1515",
          "relative_error": 199.252198010128,
          "sample_id": "talA"
         },
         {
          "BiGG_ID": "PPC",
          "author": "iML1515",
          "relative_error": 1.7222972038849236,
          "sample_id": "talA"
         },
         {
          "BiGG_ID": "PTAr",
          "author": "iML1515",
          "relative_error": 100,
          "sample_id": "talA"
         },
         {
          "BiGG_ID": "PYK",
          "author": "iML1515",
          "relative_error": 100,
          "sample_id": "talA"
         },
         {
          "BiGG_ID": "RPE",
          "author": "iML1515",
          "relative_error": 74.1224152777756,
          "sample_id": "talA"
         },
         {
          "BiGG_ID": "RPI",
          "author": "iML1515",
          "relative_error": 175.39343155579482,
          "sample_id": "talA"
         },
         {
          "BiGG_ID": "SUCDi",
          "author": "iML1515",
          "relative_error": 151.04471833006966,
          "sample_id": "talA"
         },
         {
          "BiGG_ID": "TALA",
          "author": "iML1515",
          "relative_error": 100,
          "sample_id": "talA"
         },
         {
          "BiGG_ID": "TKT1",
          "author": "iML1515",
          "relative_error": 57.526441155041994,
          "sample_id": "talA"
         },
         {
          "BiGG_ID": "TPI",
          "author": "iML1515",
          "relative_error": 2.4670421348838083,
          "sample_id": "talA"
         },
         {
          "BiGG_ID": "AKGDH",
          "author": "iML1515",
          "relative_error": null,
          "sample_id": "talAB"
         },
         {
          "BiGG_ID": "CS",
          "author": "iML1515",
          "relative_error": null,
          "sample_id": "talAB"
         },
         {
          "BiGG_ID": "EDA",
          "author": "iML1515",
          "relative_error": null,
          "sample_id": "talAB"
         },
         {
          "BiGG_ID": "FBA",
          "author": "iML1515",
          "relative_error": null,
          "sample_id": "talAB"
         },
         {
          "BiGG_ID": "FUM",
          "author": "iML1515",
          "relative_error": null,
          "sample_id": "talAB"
         },
         {
          "BiGG_ID": "G6PDH2r",
          "author": "iML1515",
          "relative_error": null,
          "sample_id": "talAB"
         },
         {
          "BiGG_ID": "GAPD",
          "author": "iML1515",
          "relative_error": null,
          "sample_id": "talAB"
         },
         {
          "BiGG_ID": "GLCptspp",
          "author": "iML1515",
          "relative_error": null,
          "sample_id": "talAB"
         },
         {
          "BiGG_ID": "GND",
          "author": "iML1515",
          "relative_error": null,
          "sample_id": "talAB"
         },
         {
          "BiGG_ID": "ICDHyr",
          "author": "iML1515",
          "relative_error": null,
          "sample_id": "talAB"
         },
         {
          "BiGG_ID": "ICL",
          "author": "iML1515",
          "relative_error": null,
          "sample_id": "talAB"
         },
         {
          "BiGG_ID": "MALS",
          "author": "iML1515",
          "relative_error": null,
          "sample_id": "talAB"
         },
         {
          "BiGG_ID": "MDH",
          "author": "iML1515",
          "relative_error": null,
          "sample_id": "talAB"
         },
         {
          "BiGG_ID": "PDH",
          "author": "iML1515",
          "relative_error": null,
          "sample_id": "talAB"
         },
         {
          "BiGG_ID": "PGI",
          "author": "iML1515",
          "relative_error": null,
          "sample_id": "talAB"
         },
         {
          "BiGG_ID": "PGM",
          "author": "iML1515",
          "relative_error": null,
          "sample_id": "talAB"
         },
         {
          "BiGG_ID": "PPC",
          "author": "iML1515",
          "relative_error": null,
          "sample_id": "talAB"
         },
         {
          "BiGG_ID": "PTAr",
          "author": "iML1515",
          "relative_error": null,
          "sample_id": "talAB"
         },
         {
          "BiGG_ID": "PYK",
          "author": "iML1515",
          "relative_error": null,
          "sample_id": "talAB"
         },
         {
          "BiGG_ID": "RPE",
          "author": "iML1515",
          "relative_error": null,
          "sample_id": "talAB"
         },
         {
          "BiGG_ID": "RPI",
          "author": "iML1515",
          "relative_error": null,
          "sample_id": "talAB"
         },
         {
          "BiGG_ID": "SUCDi",
          "author": "iML1515",
          "relative_error": null,
          "sample_id": "talAB"
         },
         {
          "BiGG_ID": "TALA",
          "author": "iML1515",
          "relative_error": null,
          "sample_id": "talAB"
         },
         {
          "BiGG_ID": "TKT1",
          "author": "iML1515",
          "relative_error": null,
          "sample_id": "talAB"
         },
         {
          "BiGG_ID": "TPI",
          "author": "iML1515",
          "relative_error": null,
          "sample_id": "talAB"
         },
         {
          "BiGG_ID": "AKGDH",
          "author": "iML1515",
          "relative_error": null,
          "sample_id": "talB"
         },
         {
          "BiGG_ID": "CS",
          "author": "iML1515",
          "relative_error": null,
          "sample_id": "talB"
         },
         {
          "BiGG_ID": "EDA",
          "author": "iML1515",
          "relative_error": null,
          "sample_id": "talB"
         },
         {
          "BiGG_ID": "FBA",
          "author": "iML1515",
          "relative_error": null,
          "sample_id": "talB"
         },
         {
          "BiGG_ID": "FUM",
          "author": "iML1515",
          "relative_error": null,
          "sample_id": "talB"
         },
         {
          "BiGG_ID": "G6PDH2r",
          "author": "iML1515",
          "relative_error": null,
          "sample_id": "talB"
         },
         {
          "BiGG_ID": "GAPD",
          "author": "iML1515",
          "relative_error": null,
          "sample_id": "talB"
         },
         {
          "BiGG_ID": "GLCptspp",
          "author": "iML1515",
          "relative_error": null,
          "sample_id": "talB"
         },
         {
          "BiGG_ID": "GND",
          "author": "iML1515",
          "relative_error": null,
          "sample_id": "talB"
         },
         {
          "BiGG_ID": "ICDHyr",
          "author": "iML1515",
          "relative_error": null,
          "sample_id": "talB"
         },
         {
          "BiGG_ID": "ICL",
          "author": "iML1515",
          "relative_error": null,
          "sample_id": "talB"
         },
         {
          "BiGG_ID": "MALS",
          "author": "iML1515",
          "relative_error": null,
          "sample_id": "talB"
         },
         {
          "BiGG_ID": "MDH",
          "author": "iML1515",
          "relative_error": null,
          "sample_id": "talB"
         },
         {
          "BiGG_ID": "PDH",
          "author": "iML1515",
          "relative_error": null,
          "sample_id": "talB"
         },
         {
          "BiGG_ID": "PGI",
          "author": "iML1515",
          "relative_error": null,
          "sample_id": "talB"
         },
         {
          "BiGG_ID": "PGM",
          "author": "iML1515",
          "relative_error": null,
          "sample_id": "talB"
         },
         {
          "BiGG_ID": "PPC",
          "author": "iML1515",
          "relative_error": null,
          "sample_id": "talB"
         },
         {
          "BiGG_ID": "PTAr",
          "author": "iML1515",
          "relative_error": null,
          "sample_id": "talB"
         },
         {
          "BiGG_ID": "PYK",
          "author": "iML1515",
          "relative_error": null,
          "sample_id": "talB"
         },
         {
          "BiGG_ID": "RPE",
          "author": "iML1515",
          "relative_error": null,
          "sample_id": "talB"
         },
         {
          "BiGG_ID": "RPI",
          "author": "iML1515",
          "relative_error": null,
          "sample_id": "talB"
         },
         {
          "BiGG_ID": "SUCDi",
          "author": "iML1515",
          "relative_error": null,
          "sample_id": "talB"
         },
         {
          "BiGG_ID": "TALA",
          "author": "iML1515",
          "relative_error": null,
          "sample_id": "talB"
         },
         {
          "BiGG_ID": "TKT1",
          "author": "iML1515",
          "relative_error": null,
          "sample_id": "talB"
         },
         {
          "BiGG_ID": "TPI",
          "author": "iML1515",
          "relative_error": null,
          "sample_id": "talB"
         },
         {
          "BiGG_ID": "AKGDH",
          "author": "iML1515",
          "relative_error": null,
          "sample_id": "tkt1"
         },
         {
          "BiGG_ID": "CS",
          "author": "iML1515",
          "relative_error": null,
          "sample_id": "tkt1"
         },
         {
          "BiGG_ID": "EDA",
          "author": "iML1515",
          "relative_error": null,
          "sample_id": "tkt1"
         },
         {
          "BiGG_ID": "FBA",
          "author": "iML1515",
          "relative_error": null,
          "sample_id": "tkt1"
         },
         {
          "BiGG_ID": "FUM",
          "author": "iML1515",
          "relative_error": null,
          "sample_id": "tkt1"
         },
         {
          "BiGG_ID": "G6PDH2r",
          "author": "iML1515",
          "relative_error": null,
          "sample_id": "tkt1"
         },
         {
          "BiGG_ID": "GAPD",
          "author": "iML1515",
          "relative_error": null,
          "sample_id": "tkt1"
         },
         {
          "BiGG_ID": "GLCptspp",
          "author": "iML1515",
          "relative_error": null,
          "sample_id": "tkt1"
         },
         {
          "BiGG_ID": "GND",
          "author": "iML1515",
          "relative_error": null,
          "sample_id": "tkt1"
         },
         {
          "BiGG_ID": "ICDHyr",
          "author": "iML1515",
          "relative_error": null,
          "sample_id": "tkt1"
         },
         {
          "BiGG_ID": "ICL",
          "author": "iML1515",
          "relative_error": null,
          "sample_id": "tkt1"
         },
         {
          "BiGG_ID": "MALS",
          "author": "iML1515",
          "relative_error": null,
          "sample_id": "tkt1"
         },
         {
          "BiGG_ID": "MDH",
          "author": "iML1515",
          "relative_error": null,
          "sample_id": "tkt1"
         },
         {
          "BiGG_ID": "PDH",
          "author": "iML1515",
          "relative_error": null,
          "sample_id": "tkt1"
         },
         {
          "BiGG_ID": "PGI",
          "author": "iML1515",
          "relative_error": null,
          "sample_id": "tkt1"
         },
         {
          "BiGG_ID": "PGM",
          "author": "iML1515",
          "relative_error": null,
          "sample_id": "tkt1"
         },
         {
          "BiGG_ID": "PPC",
          "author": "iML1515",
          "relative_error": null,
          "sample_id": "tkt1"
         },
         {
          "BiGG_ID": "PTAr",
          "author": "iML1515",
          "relative_error": null,
          "sample_id": "tkt1"
         },
         {
          "BiGG_ID": "PYK",
          "author": "iML1515",
          "relative_error": null,
          "sample_id": "tkt1"
         },
         {
          "BiGG_ID": "RPE",
          "author": "iML1515",
          "relative_error": null,
          "sample_id": "tkt1"
         },
         {
          "BiGG_ID": "RPI",
          "author": "iML1515",
          "relative_error": null,
          "sample_id": "tkt1"
         },
         {
          "BiGG_ID": "SUCDi",
          "author": "iML1515",
          "relative_error": null,
          "sample_id": "tkt1"
         },
         {
          "BiGG_ID": "TALA",
          "author": "iML1515",
          "relative_error": null,
          "sample_id": "tkt1"
         },
         {
          "BiGG_ID": "TKT1",
          "author": "iML1515",
          "relative_error": null,
          "sample_id": "tkt1"
         },
         {
          "BiGG_ID": "TPI",
          "author": "iML1515",
          "relative_error": null,
          "sample_id": "tkt1"
         },
         {
          "BiGG_ID": "AKGDH",
          "author": "iML1515",
          "relative_error": null,
          "sample_id": "tkt2"
         },
         {
          "BiGG_ID": "CS",
          "author": "iML1515",
          "relative_error": null,
          "sample_id": "tkt2"
         },
         {
          "BiGG_ID": "EDA",
          "author": "iML1515",
          "relative_error": null,
          "sample_id": "tkt2"
         },
         {
          "BiGG_ID": "FBA",
          "author": "iML1515",
          "relative_error": null,
          "sample_id": "tkt2"
         },
         {
          "BiGG_ID": "FUM",
          "author": "iML1515",
          "relative_error": null,
          "sample_id": "tkt2"
         },
         {
          "BiGG_ID": "G6PDH2r",
          "author": "iML1515",
          "relative_error": null,
          "sample_id": "tkt2"
         },
         {
          "BiGG_ID": "GAPD",
          "author": "iML1515",
          "relative_error": null,
          "sample_id": "tkt2"
         },
         {
          "BiGG_ID": "GLCptspp",
          "author": "iML1515",
          "relative_error": null,
          "sample_id": "tkt2"
         },
         {
          "BiGG_ID": "GND",
          "author": "iML1515",
          "relative_error": null,
          "sample_id": "tkt2"
         },
         {
          "BiGG_ID": "ICDHyr",
          "author": "iML1515",
          "relative_error": null,
          "sample_id": "tkt2"
         },
         {
          "BiGG_ID": "ICL",
          "author": "iML1515",
          "relative_error": null,
          "sample_id": "tkt2"
         },
         {
          "BiGG_ID": "MALS",
          "author": "iML1515",
          "relative_error": null,
          "sample_id": "tkt2"
         },
         {
          "BiGG_ID": "MDH",
          "author": "iML1515",
          "relative_error": null,
          "sample_id": "tkt2"
         },
         {
          "BiGG_ID": "PDH",
          "author": "iML1515",
          "relative_error": null,
          "sample_id": "tkt2"
         },
         {
          "BiGG_ID": "PGI",
          "author": "iML1515",
          "relative_error": null,
          "sample_id": "tkt2"
         },
         {
          "BiGG_ID": "PGM",
          "author": "iML1515",
          "relative_error": null,
          "sample_id": "tkt2"
         },
         {
          "BiGG_ID": "PPC",
          "author": "iML1515",
          "relative_error": null,
          "sample_id": "tkt2"
         },
         {
          "BiGG_ID": "PTAr",
          "author": "iML1515",
          "relative_error": null,
          "sample_id": "tkt2"
         },
         {
          "BiGG_ID": "PYK",
          "author": "iML1515",
          "relative_error": null,
          "sample_id": "tkt2"
         },
         {
          "BiGG_ID": "RPE",
          "author": "iML1515",
          "relative_error": null,
          "sample_id": "tkt2"
         },
         {
          "BiGG_ID": "RPI",
          "author": "iML1515",
          "relative_error": null,
          "sample_id": "tkt2"
         },
         {
          "BiGG_ID": "SUCDi",
          "author": "iML1515",
          "relative_error": null,
          "sample_id": "tkt2"
         },
         {
          "BiGG_ID": "TALA",
          "author": "iML1515",
          "relative_error": null,
          "sample_id": "tkt2"
         },
         {
          "BiGG_ID": "TKT1",
          "author": "iML1515",
          "relative_error": null,
          "sample_id": "tkt2"
         },
         {
          "BiGG_ID": "TPI",
          "author": "iML1515",
          "relative_error": null,
          "sample_id": "tkt2"
         },
         {
          "BiGG_ID": "AKGDH",
          "author": "iML1515",
          "relative_error": 218.8156177402191,
          "sample_id": "tktA"
         },
         {
          "BiGG_ID": "CS",
          "author": "iML1515",
          "relative_error": 182.36342782581033,
          "sample_id": "tktA"
         },
         {
          "BiGG_ID": "EDA",
          "author": "iML1515",
          "relative_error": 61.03607687820818,
          "sample_id": "tktA"
         },
         {
          "BiGG_ID": "FBA",
          "author": "iML1515",
          "relative_error": 94.05826824721578,
          "sample_id": "tktA"
         },
         {
          "BiGG_ID": "FUM",
          "author": "iML1515",
          "relative_error": 170.49800513828663,
          "sample_id": "tktA"
         },
         {
          "BiGG_ID": "G6PDH2r",
          "author": "iML1515",
          "relative_error": 75.23755986904959,
          "sample_id": "tktA"
         },
         {
          "BiGG_ID": "GAPD",
          "author": "iML1515",
          "relative_error": 2.1286005686529146,
          "sample_id": "tktA"
         },
         {
          "BiGG_ID": "GLCptspp",
          "author": "iML1515",
          "relative_error": 0,
          "sample_id": "tktA"
         },
         {
          "BiGG_ID": "GND",
          "author": "iML1515",
          "relative_error": 104.55089754760655,
          "sample_id": "tktA"
         },
         {
          "BiGG_ID": "ICDHyr",
          "author": "iML1515",
          "relative_error": 182.3634278258099,
          "sample_id": "tktA"
         },
         {
          "BiGG_ID": "ICL",
          "author": "iML1515",
          "relative_error": 0,
          "sample_id": "tktA"
         },
         {
          "BiGG_ID": "MALS",
          "author": "iML1515",
          "relative_error": 0,
          "sample_id": "tktA"
         },
         {
          "BiGG_ID": "MDH",
          "author": "iML1515",
          "relative_error": 170.4717075362203,
          "sample_id": "tktA"
         },
         {
          "BiGG_ID": "PDH",
          "author": "iML1515",
          "relative_error": 15.82354142994541,
          "sample_id": "tktA"
         },
         {
          "BiGG_ID": "PGI",
          "author": "iML1515",
          "relative_error": 11.380018710159252,
          "sample_id": "tktA"
         },
         {
          "BiGG_ID": "PGM",
          "author": "iML1515",
          "relative_error": 200.3863609557956,
          "sample_id": "tktA"
         },
         {
          "BiGG_ID": "PPC",
          "author": "iML1515",
          "relative_error": 28.41986163131042,
          "sample_id": "tktA"
         },
         {
          "BiGG_ID": "PTAr",
          "author": "iML1515",
          "relative_error": 100,
          "sample_id": "tktA"
         },
         {
          "BiGG_ID": "PYK",
          "author": "iML1515",
          "relative_error": 100,
          "sample_id": "tktA"
         },
         {
          "BiGG_ID": "RPE",
          "author": "iML1515",
          "relative_error": 179.3608155370131,
          "sample_id": "tktA"
         },
         {
          "BiGG_ID": "RPI",
          "author": "iML1515",
          "relative_error": 197.27478438340535,
          "sample_id": "tktA"
         },
         {
          "BiGG_ID": "SUCDi",
          "author": "iML1515",
          "relative_error": 218.78443768138715,
          "sample_id": "tktA"
         },
         {
          "BiGG_ID": "TALA",
          "author": "iML1515",
          "relative_error": 128.4646420668511,
          "sample_id": "tktA"
         },
         {
          "BiGG_ID": "TKT1",
          "author": "iML1515",
          "relative_error": 100,
          "sample_id": "tktA"
         },
         {
          "BiGG_ID": "TPI",
          "author": "iML1515",
          "relative_error": 5.882762151070899,
          "sample_id": "tktA"
         },
         {
          "BiGG_ID": "AKGDH",
          "author": "iML1515",
          "relative_error": 117.7277389445399,
          "sample_id": "tktB"
         },
         {
          "BiGG_ID": "CS",
          "author": "iML1515",
          "relative_error": 101.37546790677945,
          "sample_id": "tktB"
         },
         {
          "BiGG_ID": "EDA",
          "author": "iML1515",
          "relative_error": 100,
          "sample_id": "tktB"
         },
         {
          "BiGG_ID": "FBA",
          "author": "iML1515",
          "relative_error": 116.1661722247467,
          "sample_id": "tktB"
         },
         {
          "BiGG_ID": "FUM",
          "author": "iML1515",
          "relative_error": 84.73034497248844,
          "sample_id": "tktB"
         },
         {
          "BiGG_ID": "G6PDH2r",
          "author": "iML1515",
          "relative_error": 8.48039420464975,
          "sample_id": "tktB"
         },
         {
          "BiGG_ID": "GAPD",
          "author": "iML1515",
          "relative_error": 0.16078889172947344,
          "sample_id": "tktB"
         },
         {
          "BiGG_ID": "GLCptspp",
          "author": "iML1515",
          "relative_error": 0,
          "sample_id": "tktB"
         },
         {
          "BiGG_ID": "GND",
          "author": "iML1515",
          "relative_error": 232.39520851486063,
          "sample_id": "tktB"
         },
         {
          "BiGG_ID": "ICDHyr",
          "author": "iML1515",
          "relative_error": 101.37546790677916,
          "sample_id": "tktB"
         },
         {
          "BiGG_ID": "ICL",
          "author": "iML1515",
          "relative_error": 0,
          "sample_id": "tktB"
         },
         {
          "BiGG_ID": "MALS",
          "author": "iML1515",
          "relative_error": 0,
          "sample_id": "tktB"
         },
         {
          "BiGG_ID": "MDH",
          "author": "iML1515",
          "relative_error": 84.71238563449191,
          "sample_id": "tktB"
         },
         {
          "BiGG_ID": "PDH",
          "author": "iML1515",
          "relative_error": 5.450170261269054,
          "sample_id": "tktB"
         },
         {
          "BiGG_ID": "PGI",
          "author": "iML1515",
          "relative_error": 2.2907898599191756,
          "sample_id": "tktB"
         },
         {
          "BiGG_ID": "PGM",
          "author": "iML1515",
          "relative_error": 200.9984729128431,
          "sample_id": "tktB"
         },
         {
          "BiGG_ID": "PPC",
          "author": "iML1515",
          "relative_error": 7.370207553034364,
          "sample_id": "tktB"
         },
         {
          "BiGG_ID": "PTAr",
          "author": "iML1515",
          "relative_error": 100,
          "sample_id": "tktB"
         },
         {
          "BiGG_ID": "PYK",
          "author": "iML1515",
          "relative_error": 100,
          "sample_id": "tktB"
         },
         {
          "BiGG_ID": "RPE",
          "author": "iML1515",
          "relative_error": 219.04122330551968,
          "sample_id": "tktB"
         },
         {
          "BiGG_ID": "RPI",
          "author": "iML1515",
          "relative_error": 262.12464063900893,
          "sample_id": "tktB"
         },
         {
          "BiGG_ID": "SUCDi",
          "author": "iML1515",
          "relative_error": 117.70644524582536,
          "sample_id": "tktB"
         },
         {
          "BiGG_ID": "TALA",
          "author": "iML1515",
          "relative_error": 142.6969631002766,
          "sample_id": "tktB"
         },
         {
          "BiGG_ID": "TKT1",
          "author": "iML1515",
          "relative_error": 100,
          "sample_id": "tktB"
         },
         {
          "BiGG_ID": "TPI",
          "author": "iML1515",
          "relative_error": 4.839454819060264,
          "sample_id": "tktB"
         },
         {
          "BiGG_ID": "AKGDH",
          "author": "iML1515",
          "relative_error": null,
          "sample_id": "tpi"
         },
         {
          "BiGG_ID": "CS",
          "author": "iML1515",
          "relative_error": null,
          "sample_id": "tpi"
         },
         {
          "BiGG_ID": "EDA",
          "author": "iML1515",
          "relative_error": null,
          "sample_id": "tpi"
         },
         {
          "BiGG_ID": "FBA",
          "author": "iML1515",
          "relative_error": 100,
          "sample_id": "tpi"
         },
         {
          "BiGG_ID": "FUM",
          "author": "iML1515",
          "relative_error": null,
          "sample_id": "tpi"
         },
         {
          "BiGG_ID": "G6PDH2r",
          "author": "iML1515",
          "relative_error": null,
          "sample_id": "tpi"
         },
         {
          "BiGG_ID": "GAPD",
          "author": "iML1515",
          "relative_error": null,
          "sample_id": "tpi"
         },
         {
          "BiGG_ID": "GLCptspp",
          "author": "iML1515",
          "relative_error": null,
          "sample_id": "tpi"
         },
         {
          "BiGG_ID": "GND",
          "author": "iML1515",
          "relative_error": null,
          "sample_id": "tpi"
         },
         {
          "BiGG_ID": "ICDHyr",
          "author": "iML1515",
          "relative_error": null,
          "sample_id": "tpi"
         },
         {
          "BiGG_ID": "ICL",
          "author": "iML1515",
          "relative_error": 100,
          "sample_id": "tpi"
         },
         {
          "BiGG_ID": "MALS",
          "author": "iML1515",
          "relative_error": 100,
          "sample_id": "tpi"
         },
         {
          "BiGG_ID": "MDH",
          "author": "iML1515",
          "relative_error": null,
          "sample_id": "tpi"
         },
         {
          "BiGG_ID": "PDH",
          "author": "iML1515",
          "relative_error": null,
          "sample_id": "tpi"
         },
         {
          "BiGG_ID": "PGI",
          "author": "iML1515",
          "relative_error": null,
          "sample_id": "tpi"
         },
         {
          "BiGG_ID": "PGM",
          "author": "iML1515",
          "relative_error": null,
          "sample_id": "tpi"
         },
         {
          "BiGG_ID": "PPC",
          "author": "iML1515",
          "relative_error": null,
          "sample_id": "tpi"
         },
         {
          "BiGG_ID": "PTAr",
          "author": "iML1515",
          "relative_error": null,
          "sample_id": "tpi"
         },
         {
          "BiGG_ID": "PYK",
          "author": "iML1515",
          "relative_error": 100,
          "sample_id": "tpi"
         },
         {
          "BiGG_ID": "RPE",
          "author": "iML1515",
          "relative_error": null,
          "sample_id": "tpi"
         },
         {
          "BiGG_ID": "RPI",
          "author": "iML1515",
          "relative_error": null,
          "sample_id": "tpi"
         },
         {
          "BiGG_ID": "SUCDi",
          "author": "iML1515",
          "relative_error": null,
          "sample_id": "tpi"
         },
         {
          "BiGG_ID": "TALA",
          "author": "iML1515",
          "relative_error": null,
          "sample_id": "tpi"
         },
         {
          "BiGG_ID": "TKT1",
          "author": "iML1515",
          "relative_error": null,
          "sample_id": "tpi"
         },
         {
          "BiGG_ID": "TPI",
          "author": "iML1515",
          "relative_error": 100,
          "sample_id": "tpi"
         },
         {
          "BiGG_ID": "AKGDH",
          "author": "iML1515",
          "relative_error": 71.64860329990552,
          "sample_id": "zwf"
         },
         {
          "BiGG_ID": "CS",
          "author": "iML1515",
          "relative_error": 120.43130680016942,
          "sample_id": "zwf"
         },
         {
          "BiGG_ID": "EDA",
          "author": "iML1515",
          "relative_error": 0,
          "sample_id": "zwf"
         },
         {
          "BiGG_ID": "FBA",
          "author": "iML1515",
          "relative_error": 128.27980209572962,
          "sample_id": "zwf"
         },
         {
          "BiGG_ID": "FUM",
          "author": "iML1515",
          "relative_error": 104.2470554879807,
          "sample_id": "zwf"
         },
         {
          "BiGG_ID": "G6PDH2r",
          "author": "iML1515",
          "relative_error": 0,
          "sample_id": "zwf"
         },
         {
          "BiGG_ID": "GAPD",
          "author": "iML1515",
          "relative_error": 1.5950269439990685,
          "sample_id": "zwf"
         },
         {
          "BiGG_ID": "GLCptspp",
          "author": "iML1515",
          "relative_error": 0.45182071840161997,
          "sample_id": "zwf"
         },
         {
          "BiGG_ID": "GND",
          "author": "iML1515",
          "relative_error": 100,
          "sample_id": "zwf"
         },
         {
          "BiGG_ID": "ICDHyr",
          "author": "iML1515",
          "relative_error": 62.64834288167571,
          "sample_id": "zwf"
         },
         {
          "BiGG_ID": "ICL",
          "author": "iML1515",
          "relative_error": 100,
          "sample_id": "zwf"
         },
         {
          "BiGG_ID": "MALS",
          "author": "iML1515",
          "relative_error": 100,
          "sample_id": "zwf"
         },
         {
          "BiGG_ID": "MDH",
          "author": "iML1515",
          "relative_error": 149.63675479213313,
          "sample_id": "zwf"
         },
         {
          "BiGG_ID": "PDH",
          "author": "iML1515",
          "relative_error": 21.857912595236392,
          "sample_id": "zwf"
         },
         {
          "BiGG_ID": "PGI",
          "author": "iML1515",
          "relative_error": 0.5526974887829215,
          "sample_id": "zwf"
         },
         {
          "BiGG_ID": "PGM",
          "author": "iML1515",
          "relative_error": 199.08726763565124,
          "sample_id": "zwf"
         },
         {
          "BiGG_ID": "PPC",
          "author": "iML1515",
          "relative_error": 100,
          "sample_id": "zwf"
         },
         {
          "BiGG_ID": "PTAr",
          "author": "iML1515",
          "relative_error": 100,
          "sample_id": "zwf"
         },
         {
          "BiGG_ID": "PYK",
          "author": "iML1515",
          "relative_error": 100,
          "sample_id": "zwf"
         },
         {
          "BiGG_ID": "RPE",
          "author": "iML1515",
          "relative_error": 203.48967076934503,
          "sample_id": "zwf"
         },
         {
          "BiGG_ID": "RPI",
          "author": "iML1515",
          "relative_error": 199.64236872505168,
          "sample_id": "zwf"
         },
         {
          "BiGG_ID": "SUCDi",
          "author": "iML1515",
          "relative_error": 139.7803392304909,
          "sample_id": "zwf"
         },
         {
          "BiGG_ID": "TALA",
          "author": "iML1515",
          "relative_error": 112.21575413407865,
          "sample_id": "zwf"
         },
         {
          "BiGG_ID": "TKT1",
          "author": "iML1515",
          "relative_error": 186.60242939664963,
          "sample_id": "zwf"
         },
         {
          "BiGG_ID": "TPI",
          "author": "iML1515",
          "relative_error": 0.17109773337112497,
          "sample_id": "zwf"
         }
        ]
       },
       "encoding": {
        "color": {
         "condition": {
          "test": "datum.relative_error === null",
          "value": "lightgrey"
         },
         "field": "relative_error",
         "scale": {
          "domain": [
           0,
           25,
           50,
           75,
           100,
           200,
           300
          ],
          "scheme": "greenblue",
          "type": "threshold"
         },
         "title": "relative error (clipped at 300)",
         "type": "quantitative"
        },
        "tooltip": [
         {
          "field": "sample_id",
          "type": "nominal"
         },
         {
          "field": "BiGG_ID",
          "type": "nominal"
         },
         {
          "field": "relative_error",
          "type": "quantitative"
         }
        ],
        "x": {
         "field": "sample_id",
         "type": "nominal"
        },
        "y": {
         "field": "BiGG_ID",
         "type": "nominal"
        }
       },
       "mark": "rect",
       "title": "Heatmap for author iML1515"
      },
      "image/png": "[encoded data removed]",
      "text/plain": [
       "<VegaLite 3 object>\n",
       "\n",
       "If you see this message, it means the renderer has not been properly enabled\n",
       "for the frontend that you are using. For more information, see\n",
       "https://altair-viz.github.io/user_guide/troubleshooting.html\n"
      ]
     },
     "execution_count": 14,
     "metadata": {},
     "output_type": "execute_result"
    }
   ],
   "source": [
    "heatmap(xdf, author=\"iML1515\")"
   ]
  },
  {
   "cell_type": "markdown",
   "metadata": {},
   "source": [
    "# Export the data"
   ]
  },
  {
   "cell_type": "code",
   "execution_count": 42,
   "metadata": {},
   "outputs": [],
   "source": [
    "path = data_path / \"processed\"\n",
    "path.mkdir(parents=True, exist_ok=True)"
   ]
  },
  {
   "cell_type": "code",
   "execution_count": 201,
   "metadata": {},
   "outputs": [
    {
     "data": {
      "text/plain": [
       "<xarray.Dataset>\n",
       "Dimensions:          (BiGG_ID: 25, author: 11, sample_id: 22)\n",
       "Coordinates:\n",
       "  * sample_id        (sample_id) object 'WT' 'fbaB' 'fbp' ... 'tktB' 'zwf'\n",
       "  * author           (author) object 'Chassagnole' 'ECC2' ... 'iML1515'\n",
       "  * BiGG_ID          (BiGG_ID) object 'AKGDH' 'CS' 'EDA' ... 'TALA' 'TKT1' 'TPI'\n",
       "Data variables:\n",
       "    flux             (sample_id, author, BiGG_ID) float64 nan nan ... 2.676\n",
       "    normalized_flux  (sample_id, author, BiGG_ID) float64 0.0 0.0 ... 93.16\n",
       "    relative_error   (sample_id, author, BiGG_ID) float64 100.0 100.0 ... 0.1711"
      ]
     },
     "execution_count": 201,
     "metadata": {},
     "output_type": "execute_result"
    }
   ],
   "source": [
    "x_rel_error.to_dataframe().reset_index().to_csv(data_path / \"processed\" / \"ko_relative_errors.csv\")"
   ]
  },
  {
   "cell_type": "code",
   "execution_count": 139,
   "metadata": {},
   "outputs": [],
   "source": [
    "x_norm_error.to_dataframe().reset_index().to_csv(data_path / \"processed\" / \"ko_summary_errors.csv\")"
   ]
  }
 ],
 "metadata": {
  "kernelspec": {
   "display_name": "dataml-conda",
   "language": "python",
   "name": "dataml-conda"
  },
  "language_info": {
   "codemirror_mode": {
    "name": "ipython",
    "version": 3
   },
   "file_extension": ".py",
   "mimetype": "text/x-python",
   "name": "python",
   "nbconvert_exporter": "python",
   "pygments_lexer": "ipython3",
   "version": "3.6.6"
  }
 },
 "nbformat": 4,
 "nbformat_minor": 4
}
