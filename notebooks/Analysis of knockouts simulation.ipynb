{
 "cells": [
  {
   "cell_type": "code",
   "execution_count": 1,
   "metadata": {},
   "outputs": [],
   "source": [
    "import numpy as np\n",
    "import pandas as pd\n",
    "import xarray as xr\n",
    "\n",
    "from pathlib import Path\n",
    "\n",
    "import altair as alt\n",
    "from altair.expr import datum"
   ]
  },
  {
   "cell_type": "code",
   "execution_count": 2,
   "metadata": {},
   "outputs": [],
   "source": [
    "%load_ext watermark"
   ]
  },
  {
   "cell_type": "code",
   "execution_count": 3,
   "metadata": {},
   "outputs": [
    {
     "name": "stdout",
     "output_type": "stream",
     "text": [
      "xarray    0.12.0\n",
      "altair    3.0.1\n",
      "numpy     1.16.3\n",
      "pandas    0.24.2\n",
      "\n"
     ]
    }
   ],
   "source": [
    "%watermark --iversions"
   ]
  },
  {
   "cell_type": "markdown",
   "metadata": {},
   "source": [
    "# 0. Utility functions"
   ]
  },
  {
   "cell_type": "code",
   "execution_count": 4,
   "metadata": {},
   "outputs": [],
   "source": [
    "from utils.load import load_ko_data\n",
    "from utils.calculate_metrics import (process_data, relative_errors, summary_errors)"
   ]
  },
  {
   "cell_type": "markdown",
   "metadata": {},
   "source": [
    "# 1. Load the simulation data"
   ]
  },
  {
   "cell_type": "code",
   "execution_count": 5,
   "metadata": {},
   "outputs": [],
   "source": [
    "ko_df, debug_info = load_ko_data()"
   ]
  },
  {
   "cell_type": "code",
   "execution_count": 6,
   "metadata": {},
   "outputs": [
    {
     "data": {
      "text/html": [
       "<div>\n",
       "<style scoped>\n",
       "    .dataframe tbody tr th:only-of-type {\n",
       "        vertical-align: middle;\n",
       "    }\n",
       "\n",
       "    .dataframe tbody tr th {\n",
       "        vertical-align: top;\n",
       "    }\n",
       "\n",
       "    .dataframe thead th {\n",
       "        text-align: right;\n",
       "    }\n",
       "</style>\n",
       "<table border=\"1\" class=\"dataframe\">\n",
       "  <thead>\n",
       "    <tr style=\"text-align: right;\">\n",
       "      <th></th>\n",
       "      <th>flux</th>\n",
       "      <th>ID</th>\n",
       "      <th>BiGG_ID</th>\n",
       "      <th>author</th>\n",
       "      <th>sample_id</th>\n",
       "      <th>normalized_flux</th>\n",
       "    </tr>\n",
       "  </thead>\n",
       "  <tbody>\n",
       "    <tr>\n",
       "      <th>0</th>\n",
       "      <td>-0.059225</td>\n",
       "      <td>ACALD</td>\n",
       "      <td>ACALD</td>\n",
       "      <td>Khodayari</td>\n",
       "      <td>fbaA</td>\n",
       "      <td>-0.059127</td>\n",
       "    </tr>\n",
       "    <tr>\n",
       "      <th>1</th>\n",
       "      <td>-0.004108</td>\n",
       "      <td>ACALDtpp_ex</td>\n",
       "      <td>composed of ACALDtex and ACALDtpp</td>\n",
       "      <td>Khodayari</td>\n",
       "      <td>fbaA</td>\n",
       "      <td>-0.004101</td>\n",
       "    </tr>\n",
       "    <tr>\n",
       "      <th>2</th>\n",
       "      <td>0.000028</td>\n",
       "      <td>ACKr</td>\n",
       "      <td>ACKr</td>\n",
       "      <td>Khodayari</td>\n",
       "      <td>fbaA</td>\n",
       "      <td>0.000028</td>\n",
       "    </tr>\n",
       "    <tr>\n",
       "      <th>3</th>\n",
       "      <td>94.519769</td>\n",
       "      <td>ACONTa</td>\n",
       "      <td>ACONTa</td>\n",
       "      <td>Khodayari</td>\n",
       "      <td>fbaA</td>\n",
       "      <td>94.364274</td>\n",
       "    </tr>\n",
       "    <tr>\n",
       "      <th>4</th>\n",
       "      <td>94.276304</td>\n",
       "      <td>ACONTb</td>\n",
       "      <td>ACONTb</td>\n",
       "      <td>Khodayari</td>\n",
       "      <td>fbaA</td>\n",
       "      <td>94.121209</td>\n",
       "    </tr>\n",
       "  </tbody>\n",
       "</table>\n",
       "</div>"
      ],
      "text/plain": [
       "        flux           ID                            BiGG_ID     author  \\\n",
       "0  -0.059225        ACALD                              ACALD  Khodayari   \n",
       "1  -0.004108  ACALDtpp_ex  composed of ACALDtex and ACALDtpp  Khodayari   \n",
       "2   0.000028         ACKr                               ACKr  Khodayari   \n",
       "3  94.519769       ACONTa                             ACONTa  Khodayari   \n",
       "4  94.276304       ACONTb                             ACONTb  Khodayari   \n",
       "\n",
       "  sample_id  normalized_flux  \n",
       "0      fbaA        -0.059127  \n",
       "1      fbaA        -0.004101  \n",
       "2      fbaA         0.000028  \n",
       "3      fbaA        94.364274  \n",
       "4      fbaA        94.121209  "
      ]
     },
     "execution_count": 6,
     "metadata": {},
     "output_type": "execute_result"
    }
   ],
   "source": [
    "ko_df.head()"
   ]
  },
  {
   "cell_type": "markdown",
   "metadata": {},
   "source": [
    "### Preprocess data"
   ]
  },
  {
   "cell_type": "code",
   "execution_count": 7,
   "metadata": {},
   "outputs": [],
   "source": [
    "xdf = process_data(ko_df, author=\"Ishii\")"
   ]
  },
  {
   "cell_type": "markdown",
   "metadata": {},
   "source": [
    "# 2. Calculate error metrics"
   ]
  },
  {
   "cell_type": "code",
   "execution_count": 8,
   "metadata": {},
   "outputs": [],
   "source": [
    "x_rel_error = relative_errors(xdf, author=\"Ishii\")"
   ]
  },
  {
   "cell_type": "code",
   "execution_count": 9,
   "metadata": {},
   "outputs": [],
   "source": [
    "x_norm_error = summary_errors(xdf, author=\"Ishii\")"
   ]
  },
  {
   "cell_type": "markdown",
   "metadata": {
    "toc-hr-collapsed": false
   },
   "source": [
    "# 3. Visualize"
   ]
  },
  {
   "cell_type": "markdown",
   "metadata": {},
   "source": [
    "### Summary normalized error for the models"
   ]
  },
  {
   "cell_type": "code",
   "execution_count": 10,
   "metadata": {},
   "outputs": [
    {
     "data": {
      "application/vnd.vegalite.v3+json": {
       "$schema": "https://vega.github.io/schema/vega-lite/v3.2.1.json",
       "config": {
        "invalidValues": null,
        "mark": {
         "tooltip": null
        },
        "view": {
         "height": 300,
         "width": 400
        }
       },
       "data": {
        "name": "data-44eafd47083f8dd99a0e5fdbb6707c08"
       },
       "datasets": {
        "data-44eafd47083f8dd99a0e5fdbb6707c08": [
         {
          "author": "Chassagnole",
          "normalized_error": null,
          "sample_id": "WT",
          "unnormalized_error": null
         },
         {
          "author": "Chassagnole",
          "normalized_error": null,
          "sample_id": "fbaA",
          "unnormalized_error": null
         },
         {
          "author": "Chassagnole",
          "normalized_error": null,
          "sample_id": "fbaB",
          "unnormalized_error": null
         },
         {
          "author": "Chassagnole",
          "normalized_error": null,
          "sample_id": "fbp",
          "unnormalized_error": null
         },
         {
          "author": "Chassagnole",
          "normalized_error": null,
          "sample_id": "glk",
          "unnormalized_error": null
         },
         {
          "author": "Chassagnole",
          "normalized_error": null,
          "sample_id": "gnd",
          "unnormalized_error": null
         },
         {
          "author": "Chassagnole",
          "normalized_error": null,
          "sample_id": "gpmA",
          "unnormalized_error": null
         },
         {
          "author": "Chassagnole",
          "normalized_error": null,
          "sample_id": "gpmB",
          "unnormalized_error": null
         },
         {
          "author": "Chassagnole",
          "normalized_error": null,
          "sample_id": "pfkA",
          "unnormalized_error": null
         },
         {
          "author": "Chassagnole",
          "normalized_error": null,
          "sample_id": "pfkB",
          "unnormalized_error": null
         },
         {
          "author": "Chassagnole",
          "normalized_error": null,
          "sample_id": "pgi",
          "unnormalized_error": null
         },
         {
          "author": "Chassagnole",
          "normalized_error": null,
          "sample_id": "pgl",
          "unnormalized_error": null
         },
         {
          "author": "Chassagnole",
          "normalized_error": null,
          "sample_id": "pgm",
          "unnormalized_error": null
         },
         {
          "author": "Chassagnole",
          "normalized_error": null,
          "sample_id": "ppc",
          "unnormalized_error": null
         },
         {
          "author": "Chassagnole",
          "normalized_error": null,
          "sample_id": "ppsA",
          "unnormalized_error": null
         },
         {
          "author": "Chassagnole",
          "normalized_error": null,
          "sample_id": "pts",
          "unnormalized_error": null
         },
         {
          "author": "Chassagnole",
          "normalized_error": null,
          "sample_id": "pykA",
          "unnormalized_error": null
         },
         {
          "author": "Chassagnole",
          "normalized_error": null,
          "sample_id": "pykAF",
          "unnormalized_error": null
         },
         {
          "author": "Chassagnole",
          "normalized_error": null,
          "sample_id": "pykF",
          "unnormalized_error": null
         },
         {
          "author": "Chassagnole",
          "normalized_error": null,
          "sample_id": "rpe",
          "unnormalized_error": null
         },
         {
          "author": "Chassagnole",
          "normalized_error": null,
          "sample_id": "rpiA",
          "unnormalized_error": null
         },
         {
          "author": "Chassagnole",
          "normalized_error": null,
          "sample_id": "rpiB",
          "unnormalized_error": null
         },
         {
          "author": "Chassagnole",
          "normalized_error": null,
          "sample_id": "sdhCD",
          "unnormalized_error": null
         },
         {
          "author": "Chassagnole",
          "normalized_error": null,
          "sample_id": "sucA",
          "unnormalized_error": null
         },
         {
          "author": "Chassagnole",
          "normalized_error": null,
          "sample_id": "sucAB",
          "unnormalized_error": null
         },
         {
          "author": "Chassagnole",
          "normalized_error": null,
          "sample_id": "talA",
          "unnormalized_error": null
         },
         {
          "author": "Chassagnole",
          "normalized_error": null,
          "sample_id": "talAB",
          "unnormalized_error": null
         },
         {
          "author": "Chassagnole",
          "normalized_error": null,
          "sample_id": "talB",
          "unnormalized_error": null
         },
         {
          "author": "Chassagnole",
          "normalized_error": null,
          "sample_id": "tkt1",
          "unnormalized_error": null
         },
         {
          "author": "Chassagnole",
          "normalized_error": null,
          "sample_id": "tkt2",
          "unnormalized_error": null
         },
         {
          "author": "Chassagnole",
          "normalized_error": null,
          "sample_id": "tktA",
          "unnormalized_error": null
         },
         {
          "author": "Chassagnole",
          "normalized_error": null,
          "sample_id": "tktB",
          "unnormalized_error": null
         },
         {
          "author": "Chassagnole",
          "normalized_error": null,
          "sample_id": "tpi",
          "unnormalized_error": null
         },
         {
          "author": "Chassagnole",
          "normalized_error": null,
          "sample_id": "zwf",
          "unnormalized_error": null
         },
         {
          "author": "ECC2",
          "normalized_error": 0.5876720845612964,
          "sample_id": "WT",
          "unnormalized_error": 221.56036464654258
         },
         {
          "author": "ECC2",
          "normalized_error": null,
          "sample_id": "fbaA",
          "unnormalized_error": null
         },
         {
          "author": "ECC2",
          "normalized_error": 0.7233177182826556,
          "sample_id": "fbaB",
          "unnormalized_error": 264.5464718681539
         },
         {
          "author": "ECC2",
          "normalized_error": 0.5899630172105623,
          "sample_id": "fbp",
          "unnormalized_error": 224.84480544025612
         },
         {
          "author": "ECC2",
          "normalized_error": null,
          "sample_id": "glk",
          "unnormalized_error": null
         },
         {
          "author": "ECC2",
          "normalized_error": 0.6259450844705894,
          "sample_id": "gnd",
          "unnormalized_error": 272.15585523192925
         },
         {
          "author": "ECC2",
          "normalized_error": 0.9192326897941696,
          "sample_id": "gpmA",
          "unnormalized_error": 339.3313577266987
         },
         {
          "author": "ECC2",
          "normalized_error": null,
          "sample_id": "gpmB",
          "unnormalized_error": null
         },
         {
          "author": "ECC2",
          "normalized_error": 0.7426841498010143,
          "sample_id": "pfkA",
          "unnormalized_error": 276.7701942695837
         },
         {
          "author": "ECC2",
          "normalized_error": 0.6897188260853425,
          "sample_id": "pfkB",
          "unnormalized_error": 247.28223507398803
         },
         {
          "author": "ECC2",
          "normalized_error": 0.5425912433167559,
          "sample_id": "pgi",
          "unnormalized_error": 165.12701692206227
         },
         {
          "author": "ECC2",
          "normalized_error": 0.49889133374286365,
          "sample_id": "pgl",
          "unnormalized_error": 191.48850601089126
         },
         {
          "author": "ECC2",
          "normalized_error": null,
          "sample_id": "pgm",
          "unnormalized_error": null
         },
         {
          "author": "ECC2",
          "normalized_error": null,
          "sample_id": "ppc",
          "unnormalized_error": null
         },
         {
          "author": "ECC2",
          "normalized_error": 0.5936673103085628,
          "sample_id": "ppsA",
          "unnormalized_error": 222.05141499076942
         },
         {
          "author": "ECC2",
          "normalized_error": null,
          "sample_id": "pts",
          "unnormalized_error": null
         },
         {
          "author": "ECC2",
          "normalized_error": 0.5837431695606551,
          "sample_id": "pykA",
          "unnormalized_error": 217.8918636160582
         },
         {
          "author": "ECC2",
          "normalized_error": null,
          "sample_id": "pykAF",
          "unnormalized_error": null
         },
         {
          "author": "ECC2",
          "normalized_error": 0.5448792961705244,
          "sample_id": "pykF",
          "unnormalized_error": 192.33930438859767
         },
         {
          "author": "ECC2",
          "normalized_error": 0.6492392098640574,
          "sample_id": "rpe",
          "unnormalized_error": 285.0581588012279
         },
         {
          "author": "ECC2",
          "normalized_error": null,
          "sample_id": "rpiA",
          "unnormalized_error": null
         },
         {
          "author": "ECC2",
          "normalized_error": null,
          "sample_id": "rpiB",
          "unnormalized_error": null
         },
         {
          "author": "ECC2",
          "normalized_error": null,
          "sample_id": "sdhCD",
          "unnormalized_error": null
         },
         {
          "author": "ECC2",
          "normalized_error": null,
          "sample_id": "sucA",
          "unnormalized_error": null
         },
         {
          "author": "ECC2",
          "normalized_error": null,
          "sample_id": "sucAB",
          "unnormalized_error": null
         },
         {
          "author": "ECC2",
          "normalized_error": 0.5565266754649083,
          "sample_id": "talA",
          "unnormalized_error": 210.67309765185146
         },
         {
          "author": "ECC2",
          "normalized_error": null,
          "sample_id": "talAB",
          "unnormalized_error": null
         },
         {
          "author": "ECC2",
          "normalized_error": null,
          "sample_id": "talB",
          "unnormalized_error": null
         },
         {
          "author": "ECC2",
          "normalized_error": null,
          "sample_id": "tkt1",
          "unnormalized_error": null
         },
         {
          "author": "ECC2",
          "normalized_error": null,
          "sample_id": "tkt2",
          "unnormalized_error": null
         },
         {
          "author": "ECC2",
          "normalized_error": 0.6789433462595147,
          "sample_id": "tktA",
          "unnormalized_error": 306.15150784977436
         },
         {
          "author": "ECC2",
          "normalized_error": 0.5793488973251179,
          "sample_id": "tktB",
          "unnormalized_error": 226.45947312741185
         },
         {
          "author": "ECC2",
          "normalized_error": null,
          "sample_id": "tpi",
          "unnormalized_error": null
         },
         {
          "author": "ECC2",
          "normalized_error": 0.5316667676746469,
          "sample_id": "zwf",
          "unnormalized_error": 226.726424025984
         },
         {
          "author": "Exp_ECC2",
          "normalized_error": 0.060242918317285066,
          "sample_id": "WT",
          "unnormalized_error": 22.71239914299072
         },
         {
          "author": "Exp_ECC2",
          "normalized_error": null,
          "sample_id": "fbaA",
          "unnormalized_error": null
         },
         {
          "author": "Exp_ECC2",
          "normalized_error": 0.5571678503581048,
          "sample_id": "fbaB",
          "unnormalized_error": 203.7787618428019
         },
         {
          "author": "Exp_ECC2",
          "normalized_error": 0.11081836730195123,
          "sample_id": "fbp",
          "unnormalized_error": 42.234739311330465
         },
         {
          "author": "Exp_ECC2",
          "normalized_error": null,
          "sample_id": "glk",
          "unnormalized_error": null
         },
         {
          "author": "Exp_ECC2",
          "normalized_error": 0.1970213381672891,
          "sample_id": "gnd",
          "unnormalized_error": 85.66328279933497
         },
         {
          "author": "Exp_ECC2",
          "normalized_error": 0.9138084713123595,
          "sample_id": "gpmA",
          "unnormalized_error": 337.3290274761818
         },
         {
          "author": "Exp_ECC2",
          "normalized_error": null,
          "sample_id": "gpmB",
          "unnormalized_error": null
         },
         {
          "author": "Exp_ECC2",
          "normalized_error": 0.5818992827354977,
          "sample_id": "pfkA",
          "unnormalized_error": 216.85177685720848
         },
         {
          "author": "Exp_ECC2",
          "normalized_error": 0.5276056022021969,
          "sample_id": "pfkB",
          "unnormalized_error": 189.16040510393907
         },
         {
          "author": "Exp_ECC2",
          "normalized_error": 0.3690337439755065,
          "sample_id": "pgi",
          "unnormalized_error": 112.30819154720707
         },
         {
          "author": "Exp_ECC2",
          "normalized_error": 0.11989508870198069,
          "sample_id": "pgl",
          "unnormalized_error": 46.01910247937631
         },
         {
          "author": "Exp_ECC2",
          "normalized_error": null,
          "sample_id": "pgm",
          "unnormalized_error": null
         },
         {
          "author": "Exp_ECC2",
          "normalized_error": null,
          "sample_id": "ppc",
          "unnormalized_error": null
         },
         {
          "author": "Exp_ECC2",
          "normalized_error": 0.16703059552223495,
          "sample_id": "ppsA",
          "unnormalized_error": 62.47502504927495
         },
         {
          "author": "Exp_ECC2",
          "normalized_error": null,
          "sample_id": "pts",
          "unnormalized_error": null
         },
         {
          "author": "Exp_ECC2",
          "normalized_error": 0.23772528571054857,
          "sample_id": "pykA",
          "unnormalized_error": 88.73492356427323
         },
         {
          "author": "Exp_ECC2",
          "normalized_error": null,
          "sample_id": "pykAF",
          "unnormalized_error": null
         },
         {
          "author": "Exp_ECC2",
          "normalized_error": 0.339745948781891,
          "sample_id": "pykF",
          "unnormalized_error": 119.92839499833433
         },
         {
          "author": "Exp_ECC2",
          "normalized_error": 0.2098661035689538,
          "sample_id": "rpe",
          "unnormalized_error": 92.14484302431484
         },
         {
          "author": "Exp_ECC2",
          "normalized_error": null,
          "sample_id": "rpiA",
          "unnormalized_error": null
         },
         {
          "author": "Exp_ECC2",
          "normalized_error": null,
          "sample_id": "rpiB",
          "unnormalized_error": null
         },
         {
          "author": "Exp_ECC2",
          "normalized_error": null,
          "sample_id": "sdhCD",
          "unnormalized_error": null
         },
         {
          "author": "Exp_ECC2",
          "normalized_error": null,
          "sample_id": "sucA",
          "unnormalized_error": null
         },
         {
          "author": "Exp_ECC2",
          "normalized_error": null,
          "sample_id": "sucAB",
          "unnormalized_error": null
         },
         {
          "author": "Exp_ECC2",
          "normalized_error": 0.11858604012086008,
          "sample_id": "talA",
          "unnormalized_error": 44.890729432975085
         },
         {
          "author": "Exp_ECC2",
          "normalized_error": null,
          "sample_id": "talAB",
          "unnormalized_error": null
         },
         {
          "author": "Exp_ECC2",
          "normalized_error": null,
          "sample_id": "talB",
          "unnormalized_error": null
         },
         {
          "author": "Exp_ECC2",
          "normalized_error": null,
          "sample_id": "tkt1",
          "unnormalized_error": null
         },
         {
          "author": "Exp_ECC2",
          "normalized_error": null,
          "sample_id": "tkt2",
          "unnormalized_error": null
         },
         {
          "author": "Exp_ECC2",
          "normalized_error": 0.30283969920634574,
          "sample_id": "tktA",
          "unnormalized_error": 136.55753614728874
         },
         {
          "author": "Exp_ECC2",
          "normalized_error": 0.14575623950850902,
          "sample_id": "tktB",
          "unnormalized_error": 56.97409860712397
         },
         {
          "author": "Exp_ECC2",
          "normalized_error": null,
          "sample_id": "tpi",
          "unnormalized_error": null
         },
         {
          "author": "Exp_ECC2",
          "normalized_error": 0.14383043467881054,
          "sample_id": "zwf",
          "unnormalized_error": 61.33571271241341
         },
         {
          "author": "Exp_iML1515",
          "normalized_error": 0.07112087539571854,
          "sample_id": "WT",
          "unnormalized_error": 26.81353683563158
         },
         {
          "author": "Exp_iML1515",
          "normalized_error": null,
          "sample_id": "fbaA",
          "unnormalized_error": null
         },
         {
          "author": "Exp_iML1515",
          "normalized_error": 0.30623175453347923,
          "sample_id": "fbaB",
          "unnormalized_error": 112.00130756947485
         },
         {
          "author": "Exp_iML1515",
          "normalized_error": 0.1372516971586148,
          "sample_id": "fbp",
          "unnormalized_error": 52.30892487106427
         },
         {
          "author": "Exp_iML1515",
          "normalized_error": null,
          "sample_id": "glk",
          "unnormalized_error": null
         },
         {
          "author": "Exp_iML1515",
          "normalized_error": 0.15696932069740452,
          "sample_id": "gnd",
          "unnormalized_error": 68.24898985461135
         },
         {
          "author": "Exp_iML1515",
          "normalized_error": 0.44393043772560487,
          "sample_id": "gpmA",
          "unnormalized_error": 163.8752840734675
         },
         {
          "author": "Exp_iML1515",
          "normalized_error": null,
          "sample_id": "gpmB",
          "unnormalized_error": null
         },
         {
          "author": "Exp_iML1515",
          "normalized_error": 0.30111654815285693,
          "sample_id": "pfkA",
          "unnormalized_error": 112.21470870541913
         },
         {
          "author": "Exp_iML1515",
          "normalized_error": 0.36348780211391946,
          "sample_id": "pfkB",
          "unnormalized_error": 130.3198821453362
         },
         {
          "author": "Exp_iML1515",
          "normalized_error": 0.48113398597825763,
          "sample_id": "pgi",
          "unnormalized_error": 146.42370444233367
         },
         {
          "author": "Exp_iML1515",
          "normalized_error": 0.12500751281434586,
          "sample_id": "pgl",
          "unnormalized_error": 47.98139444389345
         },
         {
          "author": "Exp_iML1515",
          "normalized_error": null,
          "sample_id": "pgm",
          "unnormalized_error": null
         },
         {
          "author": "Exp_iML1515",
          "normalized_error": null,
          "sample_id": "ppc",
          "unnormalized_error": null
         },
         {
          "author": "Exp_iML1515",
          "normalized_error": 0.13983821236814103,
          "sample_id": "ppsA",
          "unnormalized_error": 52.304164953913855
         },
         {
          "author": "Exp_iML1515",
          "normalized_error": null,
          "sample_id": "pts",
          "unnormalized_error": null
         },
         {
          "author": "Exp_iML1515",
          "normalized_error": 0.16048900396147314,
          "sample_id": "pykA",
          "unnormalized_error": 59.90519458989023
         },
         {
          "author": "Exp_iML1515",
          "normalized_error": null,
          "sample_id": "pykAF",
          "unnormalized_error": null
         },
         {
          "author": "Exp_iML1515",
          "normalized_error": 0.28588913293078083,
          "sample_id": "pykF",
          "unnormalized_error": 100.91724414310809
         },
         {
          "author": "Exp_iML1515",
          "normalized_error": 0.1856657222742003,
          "sample_id": "rpe",
          "unnormalized_error": 81.51930465670058
         },
         {
          "author": "Exp_iML1515",
          "normalized_error": 0.6742300742465588,
          "sample_id": "rpiA",
          "unnormalized_error": 258.06546930885435
         },
         {
          "author": "Exp_iML1515",
          "normalized_error": 0.7124519133846259,
          "sample_id": "rpiB",
          "unnormalized_error": 296.80869842739764
         },
         {
          "author": "Exp_iML1515",
          "normalized_error": null,
          "sample_id": "sdhCD",
          "unnormalized_error": null
         },
         {
          "author": "Exp_iML1515",
          "normalized_error": null,
          "sample_id": "sucA",
          "unnormalized_error": null
         },
         {
          "author": "Exp_iML1515",
          "normalized_error": null,
          "sample_id": "sucAB",
          "unnormalized_error": null
         },
         {
          "author": "Exp_iML1515",
          "normalized_error": 0.1064327120170791,
          "sample_id": "talA",
          "unnormalized_error": 40.29008872466768
         },
         {
          "author": "Exp_iML1515",
          "normalized_error": null,
          "sample_id": "talAB",
          "unnormalized_error": null
         },
         {
          "author": "Exp_iML1515",
          "normalized_error": null,
          "sample_id": "talB",
          "unnormalized_error": null
         },
         {
          "author": "Exp_iML1515",
          "normalized_error": null,
          "sample_id": "tkt1",
          "unnormalized_error": null
         },
         {
          "author": "Exp_iML1515",
          "normalized_error": null,
          "sample_id": "tkt2",
          "unnormalized_error": null
         },
         {
          "author": "Exp_iML1515",
          "normalized_error": 0.26679772737674506,
          "sample_id": "tktA",
          "unnormalized_error": 120.3053641769729
         },
         {
          "author": "Exp_iML1515",
          "normalized_error": 0.11818102938250942,
          "sample_id": "tktB",
          "unnormalized_error": 46.19533025985779
         },
         {
          "author": "Exp_iML1515",
          "normalized_error": null,
          "sample_id": "tpi",
          "unnormalized_error": null
         },
         {
          "author": "Exp_iML1515",
          "normalized_error": 0.14164927942769256,
          "sample_id": "zwf",
          "unnormalized_error": 60.40557082580578
         },
         {
          "author": "Khodayari",
          "normalized_error": 0.08626454018003622,
          "sample_id": "WT",
          "unnormalized_error": 32.5229043210774
         },
         {
          "author": "Khodayari",
          "normalized_error": null,
          "sample_id": "fbaA",
          "unnormalized_error": null
         },
         {
          "author": "Khodayari",
          "normalized_error": 0.09138195379180071,
          "sample_id": "fbaB",
          "unnormalized_error": 33.42206731149452
         },
         {
          "author": "Khodayari",
          "normalized_error": 0.16100755550333462,
          "sample_id": "fbp",
          "unnormalized_error": 61.36268110961581
         },
         {
          "author": "Khodayari",
          "normalized_error": null,
          "sample_id": "glk",
          "unnormalized_error": null
         },
         {
          "author": "Khodayari",
          "normalized_error": 0.38715668047162716,
          "sample_id": "gnd",
          "unnormalized_error": 168.33259034477044
         },
         {
          "author": "Khodayari",
          "normalized_error": null,
          "sample_id": "gpmA",
          "unnormalized_error": null
         },
         {
          "author": "Khodayari",
          "normalized_error": null,
          "sample_id": "gpmB",
          "unnormalized_error": null
         },
         {
          "author": "Khodayari",
          "normalized_error": 0.10258406287943597,
          "sample_id": "pfkA",
          "unnormalized_error": 38.22918668684628
         },
         {
          "author": "Khodayari",
          "normalized_error": 0.2341304700928845,
          "sample_id": "pfkB",
          "unnormalized_error": 83.94189596374477
         },
         {
          "author": "Khodayari",
          "normalized_error": 0.2478641142264956,
          "sample_id": "pgi",
          "unnormalized_error": 75.43258813772783
         },
         {
          "author": "Khodayari",
          "normalized_error": 0.06443097602076861,
          "sample_id": "pgl",
          "unnormalized_error": 24.730418238532945
         },
         {
          "author": "Khodayari",
          "normalized_error": null,
          "sample_id": "pgm",
          "unnormalized_error": null
         },
         {
          "author": "Khodayari",
          "normalized_error": null,
          "sample_id": "ppc",
          "unnormalized_error": null
         },
         {
          "author": "Khodayari",
          "normalized_error": 0.13159027072140456,
          "sample_id": "ppsA",
          "unnormalized_error": 49.219159123851874
         },
         {
          "author": "Khodayari",
          "normalized_error": null,
          "sample_id": "pts",
          "unnormalized_error": null
         },
         {
          "author": "Khodayari",
          "normalized_error": 0.09719833059532582,
          "sample_id": "pykA",
          "unnormalized_error": 36.28089628821712
         },
         {
          "author": "Khodayari",
          "normalized_error": null,
          "sample_id": "pykAF",
          "unnormalized_error": null
         },
         {
          "author": "Khodayari",
          "normalized_error": 0.24397215594827465,
          "sample_id": "pykF",
          "unnormalized_error": 86.1207887601439
         },
         {
          "author": "Khodayari",
          "normalized_error": 0.17894054479050264,
          "sample_id": "rpe",
          "unnormalized_error": 78.56651517327468
         },
         {
          "author": "Khodayari",
          "normalized_error": 0.2580435292967993,
          "sample_id": "rpiA",
          "unnormalized_error": 98.76765667047296
         },
         {
          "author": "Khodayari",
          "normalized_error": 0.2684357829542535,
          "sample_id": "rpiB",
          "unnormalized_error": 111.83081110904165
         },
         {
          "author": "Khodayari",
          "normalized_error": null,
          "sample_id": "sdhCD",
          "unnormalized_error": null
         },
         {
          "author": "Khodayari",
          "normalized_error": null,
          "sample_id": "sucA",
          "unnormalized_error": null
         },
         {
          "author": "Khodayari",
          "normalized_error": null,
          "sample_id": "sucAB",
          "unnormalized_error": null
         },
         {
          "author": "Khodayari",
          "normalized_error": 0.08985056219245564,
          "sample_id": "talA",
          "unnormalized_error": 34.01291815353159
         },
         {
          "author": "Khodayari",
          "normalized_error": null,
          "sample_id": "talAB",
          "unnormalized_error": null
         },
         {
          "author": "Khodayari",
          "normalized_error": null,
          "sample_id": "talB",
          "unnormalized_error": null
         },
         {
          "author": "Khodayari",
          "normalized_error": null,
          "sample_id": "tkt1",
          "unnormalized_error": null
         },
         {
          "author": "Khodayari",
          "normalized_error": null,
          "sample_id": "tkt2",
          "unnormalized_error": null
         },
         {
          "author": "Khodayari",
          "normalized_error": 0.2539911776073175,
          "sample_id": "tktA",
          "unnormalized_error": 114.53058997252138
         },
         {
          "author": "Khodayari",
          "normalized_error": 0.09867985291358512,
          "sample_id": "tktB",
          "unnormalized_error": 38.572590026973586
         },
         {
          "author": "Khodayari",
          "normalized_error": null,
          "sample_id": "tpi",
          "unnormalized_error": null
         },
         {
          "author": "Khodayari",
          "normalized_error": 0.31154141427835896,
          "sample_id": "zwf",
          "unnormalized_error": 132.85515493899513
         },
         {
          "author": "Kurata",
          "normalized_error": 0.4290517614624855,
          "sample_id": "WT",
          "unnormalized_error": 161.75834656640814
         },
         {
          "author": "Kurata",
          "normalized_error": null,
          "sample_id": "fbaA",
          "unnormalized_error": null
         },
         {
          "author": "Kurata",
          "normalized_error": 0.4103629941322574,
          "sample_id": "fbaB",
          "unnormalized_error": 150.08630307120157
         },
         {
          "author": "Kurata",
          "normalized_error": 0.40847615723203634,
          "sample_id": "fbp",
          "unnormalized_error": 155.67711775235048
         },
         {
          "author": "Kurata",
          "normalized_error": null,
          "sample_id": "glk",
          "unnormalized_error": null
         },
         {
          "author": "Kurata",
          "normalized_error": 0.8562057556746754,
          "sample_id": "gnd",
          "unnormalized_error": 372.27133093828184
         },
         {
          "author": "Kurata",
          "normalized_error": 1,
          "sample_id": "gpmA",
          "unnormalized_error": 369.14631245618585
         },
         {
          "author": "Kurata",
          "normalized_error": null,
          "sample_id": "gpmB",
          "unnormalized_error": null
         },
         {
          "author": "Kurata",
          "normalized_error": 0.5733636526409739,
          "sample_id": "pfkA",
          "unnormalized_error": 213.67087148834122
         },
         {
          "author": "Kurata",
          "normalized_error": 0.5089435525961448,
          "sample_id": "pfkB",
          "unnormalized_error": 182.46957231365764
         },
         {
          "author": "Kurata",
          "normalized_error": 0.5377521956379365,
          "sample_id": "pgi",
          "unnormalized_error": 163.65434754564075
         },
         {
          "author": "Kurata",
          "normalized_error": 1.000000068030102,
          "sample_id": "pgl",
          "unnormalized_error": 383.82811262977367
         },
         {
          "author": "Kurata",
          "normalized_error": null,
          "sample_id": "pgm",
          "unnormalized_error": null
         },
         {
          "author": "Kurata",
          "normalized_error": null,
          "sample_id": "ppc",
          "unnormalized_error": null
         },
         {
          "author": "Kurata",
          "normalized_error": 0.49388855765828366,
          "sample_id": "ppsA",
          "unnormalized_error": 184.73082679720235
         },
         {
          "author": "Kurata",
          "normalized_error": null,
          "sample_id": "pts",
          "unnormalized_error": null
         },
         {
          "author": "Kurata",
          "normalized_error": 0.4064879463120327,
          "sample_id": "pykA",
          "unnormalized_error": 151.72839834006814
         },
         {
          "author": "Kurata",
          "normalized_error": null,
          "sample_id": "pykAF",
          "unnormalized_error": null
         },
         {
          "author": "Kurata",
          "normalized_error": 0.319800713456623,
          "sample_id": "pykF",
          "unnormalized_error": 112.88783993358774
         },
         {
          "author": "Kurata",
          "normalized_error": 1,
          "sample_id": "rpe",
          "unnormalized_error": 439.0649154737828
         },
         {
          "author": "Kurata",
          "normalized_error": 0.4291610868328768,
          "sample_id": "rpiA",
          "unnormalized_error": 164.26389375524005
         },
         {
          "author": "Kurata",
          "normalized_error": 0.4737364631830639,
          "sample_id": "rpiB",
          "unnormalized_error": 197.35942930797412
         },
         {
          "author": "Kurata",
          "normalized_error": null,
          "sample_id": "sdhCD",
          "unnormalized_error": null
         },
         {
          "author": "Kurata",
          "normalized_error": null,
          "sample_id": "sucA",
          "unnormalized_error": null
         },
         {
          "author": "Kurata",
          "normalized_error": null,
          "sample_id": "sucAB",
          "unnormalized_error": null
         },
         {
          "author": "Kurata",
          "normalized_error": 0.4766159000083567,
          "sample_id": "talA",
          "unnormalized_error": 180.42288442149788
         },
         {
          "author": "Kurata",
          "normalized_error": null,
          "sample_id": "talAB",
          "unnormalized_error": null
         },
         {
          "author": "Kurata",
          "normalized_error": 0.48563549208927553,
          "sample_id": "talB",
          "unnormalized_error": 189.14551694492678
         },
         {
          "author": "Kurata",
          "normalized_error": null,
          "sample_id": "tkt1",
          "unnormalized_error": null
         },
         {
          "author": "Kurata",
          "normalized_error": null,
          "sample_id": "tkt2",
          "unnormalized_error": null
         },
         {
          "author": "Kurata",
          "normalized_error": 0.5634927253676616,
          "sample_id": "tktA",
          "unnormalized_error": 254.09211016517975
         },
         {
          "author": "Kurata",
          "normalized_error": 0.49804358976829566,
          "sample_id": "tktB",
          "unnormalized_error": 194.67835263716688
         },
         {
          "author": "Kurata",
          "normalized_error": null,
          "sample_id": "tpi",
          "unnormalized_error": null
         },
         {
          "author": "Kurata",
          "normalized_error": 0.3998278217237869,
          "sample_id": "zwf",
          "unnormalized_error": 170.50441697158504
         },
         {
          "author": "Millard",
          "normalized_error": 0.07581158695388648,
          "sample_id": "WT",
          "unnormalized_error": 28.58199885821561
         },
         {
          "author": "Millard",
          "normalized_error": null,
          "sample_id": "fbaA",
          "unnormalized_error": null
         },
         {
          "author": "Millard",
          "normalized_error": 0.9975350478805866,
          "sample_id": "fbaB",
          "unnormalized_error": 364.8388126150055
         },
         {
          "author": "Millard",
          "normalized_error": 0.09381200836540193,
          "sample_id": "fbp",
          "unnormalized_error": 35.75333055385432
         },
         {
          "author": "Millard",
          "normalized_error": null,
          "sample_id": "glk",
          "unnormalized_error": null
         },
         {
          "author": "Millard",
          "normalized_error": 0.21294864452957682,
          "sample_id": "gnd",
          "unnormalized_error": 92.58834666214261
         },
         {
          "author": "Millard",
          "normalized_error": null,
          "sample_id": "gpmA",
          "unnormalized_error": null
         },
         {
          "author": "Millard",
          "normalized_error": null,
          "sample_id": "gpmB",
          "unnormalized_error": null
         },
         {
          "author": "Millard",
          "normalized_error": 1.0001830352754906,
          "sample_id": "pfkA",
          "unnormalized_error": 372.7302555904922
         },
         {
          "author": "Millard",
          "normalized_error": 0.9996937663257283,
          "sample_id": "pfkB",
          "unnormalized_error": 358.4163568937744
         },
         {
          "author": "Millard",
          "normalized_error": 0.7559627196463702,
          "sample_id": "pgi",
          "unnormalized_error": 230.06244633885615
         },
         {
          "author": "Millard",
          "normalized_error": 0.18577731967806382,
          "sample_id": "pgl",
          "unnormalized_error": 71.30655313045726
         },
         {
          "author": "Millard",
          "normalized_error": null,
          "sample_id": "pgm",
          "unnormalized_error": null
         },
         {
          "author": "Millard",
          "normalized_error": null,
          "sample_id": "ppc",
          "unnormalized_error": null
         },
         {
          "author": "Millard",
          "normalized_error": 0.18732914736336762,
          "sample_id": "ppsA",
          "unnormalized_error": 70.06736183508228
         },
         {
          "author": "Millard",
          "normalized_error": null,
          "sample_id": "pts",
          "unnormalized_error": null
         },
         {
          "author": "Millard",
          "normalized_error": 0.29233605477908076,
          "sample_id": "pykA",
          "unnormalized_error": 109.11930297346518
         },
         {
          "author": "Millard",
          "normalized_error": null,
          "sample_id": "pykAF",
          "unnormalized_error": null
         },
         {
          "author": "Millard",
          "normalized_error": 0.28384269179698235,
          "sample_id": "pykF",
          "unnormalized_error": 100.19486201753762
         },
         {
          "author": "Millard",
          "normalized_error": 0.2679820140682344,
          "sample_id": "rpe",
          "unnormalized_error": 117.66150035536342
         },
         {
          "author": "Millard",
          "normalized_error": 0.24880667871048653,
          "sample_id": "rpiA",
          "unnormalized_error": 95.23219856419325
         },
         {
          "author": "Millard",
          "normalized_error": 0.26562648222449475,
          "sample_id": "rpiB",
          "unnormalized_error": 110.6604515697857
         },
         {
          "author": "Millard",
          "normalized_error": null,
          "sample_id": "sdhCD",
          "unnormalized_error": null
         },
         {
          "author": "Millard",
          "normalized_error": null,
          "sample_id": "sucA",
          "unnormalized_error": null
         },
         {
          "author": "Millard",
          "normalized_error": null,
          "sample_id": "sucAB",
          "unnormalized_error": null
         },
         {
          "author": "Millard",
          "normalized_error": null,
          "sample_id": "talA",
          "unnormalized_error": null
         },
         {
          "author": "Millard",
          "normalized_error": null,
          "sample_id": "talAB",
          "unnormalized_error": null
         },
         {
          "author": "Millard",
          "normalized_error": null,
          "sample_id": "talB",
          "unnormalized_error": null
         },
         {
          "author": "Millard",
          "normalized_error": null,
          "sample_id": "tkt1",
          "unnormalized_error": null
         },
         {
          "author": "Millard",
          "normalized_error": null,
          "sample_id": "tkt2",
          "unnormalized_error": null
         },
         {
          "author": "Millard",
          "normalized_error": null,
          "sample_id": "tktA",
          "unnormalized_error": null
         },
         {
          "author": "Millard",
          "normalized_error": null,
          "sample_id": "tktB",
          "unnormalized_error": null
         },
         {
          "author": "Millard",
          "normalized_error": null,
          "sample_id": "tpi",
          "unnormalized_error": null
         },
         {
          "author": "Millard",
          "normalized_error": 0.16084745679000298,
          "sample_id": "zwf",
          "unnormalized_error": 68.59252996227919
         },
         {
          "author": "iML1515",
          "normalized_error": 0.9388098006140072,
          "sample_id": "WT",
          "unnormalized_error": 353.9440569362145
         },
         {
          "author": "iML1515",
          "normalized_error": null,
          "sample_id": "fbaA",
          "unnormalized_error": null
         },
         {
          "author": "iML1515",
          "normalized_error": 0.98017313953916,
          "sample_id": "fbaB",
          "unnormalized_error": 358.48886226742144
         },
         {
          "author": "iML1515",
          "normalized_error": 0.9364246191381635,
          "sample_id": "fbp",
          "unnormalized_error": 356.88713556165055
         },
         {
          "author": "iML1515",
          "normalized_error": null,
          "sample_id": "glk",
          "unnormalized_error": null
         },
         {
          "author": "iML1515",
          "normalized_error": 0.8749731934081896,
          "sample_id": "gnd",
          "unnormalized_error": 380.4312609283008
         },
         {
          "author": "iML1515",
          "normalized_error": null,
          "sample_id": "gpmA",
          "unnormalized_error": null
         },
         {
          "author": "iML1515",
          "normalized_error": null,
          "sample_id": "gpmB",
          "unnormalized_error": null
         },
         {
          "author": "iML1515",
          "normalized_error": 0.9726868035028066,
          "sample_id": "pfkA",
          "unnormalized_error": 362.4834536203058
         },
         {
          "author": "iML1515",
          "normalized_error": 0.993600839649014,
          "sample_id": "pfkB",
          "unnormalized_error": 356.23188335212654
         },
         {
          "author": "iML1515",
          "normalized_error": 1.0033487318288141,
          "sample_id": "pgi",
          "unnormalized_error": 305.349533484279
         },
         {
          "author": "iML1515",
          "normalized_error": 0.941611553505348,
          "sample_id": "pgl",
          "unnormalized_error": 361.41696082511413
         },
         {
          "author": "iML1515",
          "normalized_error": null,
          "sample_id": "pgm",
          "unnormalized_error": null
         },
         {
          "author": "iML1515",
          "normalized_error": null,
          "sample_id": "ppc",
          "unnormalized_error": null
         },
         {
          "author": "iML1515",
          "normalized_error": 0.9465179422832674,
          "sample_id": "ppsA",
          "unnormalized_error": 354.0293439585054
         },
         {
          "author": "iML1515",
          "normalized_error": null,
          "sample_id": "pts",
          "unnormalized_error": null
         },
         {
          "author": "iML1515",
          "normalized_error": 0.9442354810871038,
          "sample_id": "pykA",
          "unnormalized_error": 352.4516249523264
         },
         {
          "author": "iML1515",
          "normalized_error": null,
          "sample_id": "pykAF",
          "unnormalized_error": null
         },
         {
          "author": "iML1515",
          "normalized_error": 0.9714586574022167,
          "sample_id": "pykF",
          "unnormalized_error": 342.9194020037554
         },
         {
          "author": "iML1515",
          "normalized_error": 0.8819975032153864,
          "sample_id": "rpe",
          "unnormalized_error": 387.2541591973511
         },
         {
          "author": "iML1515",
          "normalized_error": 0.9377111060660918,
          "sample_id": "rpiA",
          "unnormalized_error": 358.9143615901319
         },
         {
          "author": "iML1515",
          "normalized_error": 0.952210267749317,
          "sample_id": "rpiB",
          "unnormalized_error": 396.6924432236038
         },
         {
          "author": "iML1515",
          "normalized_error": null,
          "sample_id": "sdhCD",
          "unnormalized_error": null
         },
         {
          "author": "iML1515",
          "normalized_error": null,
          "sample_id": "sucA",
          "unnormalized_error": null
         },
         {
          "author": "iML1515",
          "normalized_error": null,
          "sample_id": "sucAB",
          "unnormalized_error": null
         },
         {
          "author": "iML1515",
          "normalized_error": 0.9404585947310189,
          "sample_id": "talA",
          "unnormalized_error": 356.0104737113971
         },
         {
          "author": "iML1515",
          "normalized_error": null,
          "sample_id": "talAB",
          "unnormalized_error": null
         },
         {
          "author": "iML1515",
          "normalized_error": null,
          "sample_id": "talB",
          "unnormalized_error": null
         },
         {
          "author": "iML1515",
          "normalized_error": null,
          "sample_id": "tkt1",
          "unnormalized_error": null
         },
         {
          "author": "iML1515",
          "normalized_error": null,
          "sample_id": "tkt2",
          "unnormalized_error": null
         },
         {
          "author": "iML1515",
          "normalized_error": 0.8737519746950033,
          "sample_id": "tktA",
          "unnormalized_error": 393.9952957979878
         },
         {
          "author": "iML1515",
          "normalized_error": 0.9111759680260417,
          "sample_id": "tktB",
          "unnormalized_error": 356.16608678852964
         },
         {
          "author": "iML1515",
          "normalized_error": null,
          "sample_id": "tpi",
          "unnormalized_error": null
         },
         {
          "author": "iML1515",
          "normalized_error": 0.8976278708570832,
          "sample_id": "zwf",
          "unnormalized_error": 382.78856163157
         }
        ]
       },
       "encoding": {
        "color": {
         "condition": {
          "field": "author",
          "selection": "selector001",
          "sort": [
           "Khodayari",
           "Kurata",
           "Millard",
           "iML1515",
           "Ec_core",
           "ECC2",
           "Exp_ECC2"
          ],
          "type": "nominal"
         },
         "value": "lightgray"
        },
        "opacity": {
         "condition": {
          "selection": "selector001",
          "value": 0.4
         },
         "value": 1
        },
        "size": {
         "condition": {
          "selection": "selector001",
          "value": 100
         },
         "value": 40
        },
        "tooltip": [
         {
          "field": "author",
          "type": "nominal"
         },
         {
          "field": "sample_id",
          "type": "nominal"
         },
         {
          "field": "normalized_error",
          "type": "quantitative"
         }
        ],
        "x": {
         "field": "author",
         "sort": [
          "Khodayari",
          "Kurata",
          "Millard",
          "iML1515"
         ],
         "type": "nominal"
        },
        "y": {
         "field": "normalized_error",
         "title": "Normalized error",
         "type": "quantitative"
        }
       },
       "height": 600,
       "mark": "circle",
       "selection": {
        "selector001": {
         "empty": "all",
         "fields": [
          "sample_id"
         ],
         "type": "single"
        }
       },
       "title": "Normalized error knockout simulations",
       "transform": [
        {
         "filter": "datum.normalized_error !== null"
        }
       ],
       "width": 700
      },
      "image/png": "[encoded data removed]",
      "text/plain": [
       "<VegaLite 3 object>\n",
       "\n",
       "If you see this message, it means the renderer has not been properly enabled\n",
       "for the frontend that you are using. For more information, see\n",
       "https://altair-viz.github.io/user_guide/troubleshooting.html\n"
      ]
     },
     "execution_count": 10,
     "metadata": {},
     "output_type": "execute_result"
    }
   ],
   "source": [
    "selector = alt.selection_single(empty=\"all\", fields=[\"sample_id\"])\n",
    "color = alt.condition(\n",
    "    selector,\n",
    "    alt.Color(\n",
    "        \"author:N\",\n",
    "        sort=[\n",
    "            \"Khodayari\",\n",
    "            \"Kurata\",\n",
    "            \"Millard\",\n",
    "            \"iML1515\",\n",
    "            \"Ec_core\",\n",
    "            \"ECC2\",\n",
    "            \"Exp_ECC2\",\n",
    "        ],\n",
    "    ),\n",
    "    alt.ColorValue(\"lightgray\"),\n",
    ")\n",
    "\n",
    "opacity = alt.condition(selector, alt.OpacityValue(0.4), alt.OpacityValue(1.0))\n",
    "\n",
    "size = alt.condition(selector, alt.SizeValue(100), alt.SizeValue(40))\n",
    "\n",
    "\n",
    "base = (\n",
    "    alt.Chart(\n",
    "        x_norm_error.to_dataframe()\n",
    "        .reset_index()\n",
    "        .query(\"author != 'Ishii'\"),\n",
    "        title=\"Normalized error knockout simulations\",\n",
    "    )\n",
    "    .mark_circle()\n",
    "    .encode(\n",
    "        y=alt.Y(\"normalized_error\", title=\"Normalized error\"),\n",
    "        tooltip=[\"author\", \"sample_id\", \"normalized_error\"],\n",
    "        x=alt.X(\"author\", sort=[\"Khodayari\", \"Kurata\", \"Millard\", \"iML1515\"]),\n",
    "        size=size,\n",
    "        opacity = opacity,\n",
    "    )\n",
    ")\n",
    "\n",
    "errors = (\n",
    "    base\n",
    "    .encode(color=color)\n",
    "    .add_selection(selector)\n",
    "    .transform_filter(\"datum.normalized_error !== null\")\n",
    ")\n",
    "\n",
    "na_vals = base.encode(color=alt.value(\"lightgrey\")).transform_filter(\"datum.normalized_error === null\")\n",
    "\n",
    "\n",
    "(errors).properties(width=700, height=600).configure_axis(\n",
    "    labelFontSize=24, titleFontSize=24\n",
    ").configure_legend(labelFontSize=16, titleFontSize=20).configure(invalidValues=None)\n"
   ]
  },
  {
   "cell_type": "code",
   "execution_count": 10,
   "metadata": {},
   "outputs": [],
   "source": [
    "from utils.vis import heatmap, summary_chart"
   ]
  },
  {
   "cell_type": "code",
   "execution_count": 12,
   "metadata": {},
   "outputs": [
    {
     "data": {
      "application/vnd.vegalite.v3+json": {
       "$schema": "https://vega.github.io/schema/vega-lite/v3.2.1.json",
       "config": {
        "invalidValues": null,
        "mark": {
         "tooltip": null
        },
        "view": {
         "height": 300,
         "width": 400
        }
       },
       "data": {
        "name": "data-530280746c7b73721247ddb9f0659c26"
       },
       "datasets": {
        "data-530280746c7b73721247ddb9f0659c26": [
         {
          "author": "Chassagnole",
          "normalized_error": null,
          "sample_id": "WT",
          "unnormalized_error": null
         },
         {
          "author": "Chassagnole",
          "normalized_error": null,
          "sample_id": "fbaA",
          "unnormalized_error": null
         },
         {
          "author": "Chassagnole",
          "normalized_error": null,
          "sample_id": "fbaB",
          "unnormalized_error": null
         },
         {
          "author": "Chassagnole",
          "normalized_error": null,
          "sample_id": "fbp",
          "unnormalized_error": null
         },
         {
          "author": "Chassagnole",
          "normalized_error": null,
          "sample_id": "glk",
          "unnormalized_error": null
         },
         {
          "author": "Chassagnole",
          "normalized_error": null,
          "sample_id": "gnd",
          "unnormalized_error": null
         },
         {
          "author": "Chassagnole",
          "normalized_error": null,
          "sample_id": "gpmA",
          "unnormalized_error": null
         },
         {
          "author": "Chassagnole",
          "normalized_error": null,
          "sample_id": "gpmB",
          "unnormalized_error": null
         },
         {
          "author": "Chassagnole",
          "normalized_error": null,
          "sample_id": "pfkA",
          "unnormalized_error": null
         },
         {
          "author": "Chassagnole",
          "normalized_error": null,
          "sample_id": "pfkB",
          "unnormalized_error": null
         },
         {
          "author": "Chassagnole",
          "normalized_error": null,
          "sample_id": "pgi",
          "unnormalized_error": null
         },
         {
          "author": "Chassagnole",
          "normalized_error": null,
          "sample_id": "pgl",
          "unnormalized_error": null
         },
         {
          "author": "Chassagnole",
          "normalized_error": null,
          "sample_id": "pgm",
          "unnormalized_error": null
         },
         {
          "author": "Chassagnole",
          "normalized_error": null,
          "sample_id": "ppc",
          "unnormalized_error": null
         },
         {
          "author": "Chassagnole",
          "normalized_error": null,
          "sample_id": "ppsA",
          "unnormalized_error": null
         },
         {
          "author": "Chassagnole",
          "normalized_error": null,
          "sample_id": "pts",
          "unnormalized_error": null
         },
         {
          "author": "Chassagnole",
          "normalized_error": null,
          "sample_id": "pykA",
          "unnormalized_error": null
         },
         {
          "author": "Chassagnole",
          "normalized_error": null,
          "sample_id": "pykAF",
          "unnormalized_error": null
         },
         {
          "author": "Chassagnole",
          "normalized_error": null,
          "sample_id": "pykF",
          "unnormalized_error": null
         },
         {
          "author": "Chassagnole",
          "normalized_error": null,
          "sample_id": "rpe",
          "unnormalized_error": null
         },
         {
          "author": "Chassagnole",
          "normalized_error": null,
          "sample_id": "rpiA",
          "unnormalized_error": null
         },
         {
          "author": "Chassagnole",
          "normalized_error": null,
          "sample_id": "rpiB",
          "unnormalized_error": null
         },
         {
          "author": "Chassagnole",
          "normalized_error": null,
          "sample_id": "sdhCD",
          "unnormalized_error": null
         },
         {
          "author": "Chassagnole",
          "normalized_error": null,
          "sample_id": "sucA",
          "unnormalized_error": null
         },
         {
          "author": "Chassagnole",
          "normalized_error": null,
          "sample_id": "sucAB",
          "unnormalized_error": null
         },
         {
          "author": "Chassagnole",
          "normalized_error": null,
          "sample_id": "talA",
          "unnormalized_error": null
         },
         {
          "author": "Chassagnole",
          "normalized_error": null,
          "sample_id": "talAB",
          "unnormalized_error": null
         },
         {
          "author": "Chassagnole",
          "normalized_error": null,
          "sample_id": "talB",
          "unnormalized_error": null
         },
         {
          "author": "Chassagnole",
          "normalized_error": null,
          "sample_id": "tkt1",
          "unnormalized_error": null
         },
         {
          "author": "Chassagnole",
          "normalized_error": null,
          "sample_id": "tkt2",
          "unnormalized_error": null
         },
         {
          "author": "Chassagnole",
          "normalized_error": null,
          "sample_id": "tktA",
          "unnormalized_error": null
         },
         {
          "author": "Chassagnole",
          "normalized_error": null,
          "sample_id": "tktB",
          "unnormalized_error": null
         },
         {
          "author": "Chassagnole",
          "normalized_error": null,
          "sample_id": "tpi",
          "unnormalized_error": null
         },
         {
          "author": "Chassagnole",
          "normalized_error": null,
          "sample_id": "zwf",
          "unnormalized_error": null
         },
         {
          "author": "ECC2",
          "normalized_error": 0.5876720845612964,
          "sample_id": "WT",
          "unnormalized_error": 221.56036464654258
         },
         {
          "author": "ECC2",
          "normalized_error": null,
          "sample_id": "fbaA",
          "unnormalized_error": null
         },
         {
          "author": "ECC2",
          "normalized_error": 0.7233177182826556,
          "sample_id": "fbaB",
          "unnormalized_error": 264.5464718681539
         },
         {
          "author": "ECC2",
          "normalized_error": 0.5899630172105623,
          "sample_id": "fbp",
          "unnormalized_error": 224.84480544025612
         },
         {
          "author": "ECC2",
          "normalized_error": null,
          "sample_id": "glk",
          "unnormalized_error": null
         },
         {
          "author": "ECC2",
          "normalized_error": 0.6259450844705894,
          "sample_id": "gnd",
          "unnormalized_error": 272.15585523192925
         },
         {
          "author": "ECC2",
          "normalized_error": 0.9192326897941696,
          "sample_id": "gpmA",
          "unnormalized_error": 339.3313577266987
         },
         {
          "author": "ECC2",
          "normalized_error": null,
          "sample_id": "gpmB",
          "unnormalized_error": null
         },
         {
          "author": "ECC2",
          "normalized_error": 0.7426841498010143,
          "sample_id": "pfkA",
          "unnormalized_error": 276.7701942695837
         },
         {
          "author": "ECC2",
          "normalized_error": 0.6897188260853425,
          "sample_id": "pfkB",
          "unnormalized_error": 247.28223507398803
         },
         {
          "author": "ECC2",
          "normalized_error": 0.5425912433167559,
          "sample_id": "pgi",
          "unnormalized_error": 165.12701692206227
         },
         {
          "author": "ECC2",
          "normalized_error": 0.49889133374286365,
          "sample_id": "pgl",
          "unnormalized_error": 191.48850601089126
         },
         {
          "author": "ECC2",
          "normalized_error": null,
          "sample_id": "pgm",
          "unnormalized_error": null
         },
         {
          "author": "ECC2",
          "normalized_error": null,
          "sample_id": "ppc",
          "unnormalized_error": null
         },
         {
          "author": "ECC2",
          "normalized_error": 0.5936673103085628,
          "sample_id": "ppsA",
          "unnormalized_error": 222.05141499076942
         },
         {
          "author": "ECC2",
          "normalized_error": null,
          "sample_id": "pts",
          "unnormalized_error": null
         },
         {
          "author": "ECC2",
          "normalized_error": 0.5837431695606551,
          "sample_id": "pykA",
          "unnormalized_error": 217.8918636160582
         },
         {
          "author": "ECC2",
          "normalized_error": null,
          "sample_id": "pykAF",
          "unnormalized_error": null
         },
         {
          "author": "ECC2",
          "normalized_error": 0.5448792961705244,
          "sample_id": "pykF",
          "unnormalized_error": 192.33930438859767
         },
         {
          "author": "ECC2",
          "normalized_error": 0.6492392098640574,
          "sample_id": "rpe",
          "unnormalized_error": 285.0581588012279
         },
         {
          "author": "ECC2",
          "normalized_error": null,
          "sample_id": "rpiA",
          "unnormalized_error": null
         },
         {
          "author": "ECC2",
          "normalized_error": null,
          "sample_id": "rpiB",
          "unnormalized_error": null
         },
         {
          "author": "ECC2",
          "normalized_error": null,
          "sample_id": "sdhCD",
          "unnormalized_error": null
         },
         {
          "author": "ECC2",
          "normalized_error": null,
          "sample_id": "sucA",
          "unnormalized_error": null
         },
         {
          "author": "ECC2",
          "normalized_error": null,
          "sample_id": "sucAB",
          "unnormalized_error": null
         },
         {
          "author": "ECC2",
          "normalized_error": 0.5565266754649083,
          "sample_id": "talA",
          "unnormalized_error": 210.67309765185146
         },
         {
          "author": "ECC2",
          "normalized_error": null,
          "sample_id": "talAB",
          "unnormalized_error": null
         },
         {
          "author": "ECC2",
          "normalized_error": null,
          "sample_id": "talB",
          "unnormalized_error": null
         },
         {
          "author": "ECC2",
          "normalized_error": null,
          "sample_id": "tkt1",
          "unnormalized_error": null
         },
         {
          "author": "ECC2",
          "normalized_error": null,
          "sample_id": "tkt2",
          "unnormalized_error": null
         },
         {
          "author": "ECC2",
          "normalized_error": 0.6789433462595147,
          "sample_id": "tktA",
          "unnormalized_error": 306.15150784977436
         },
         {
          "author": "ECC2",
          "normalized_error": 0.5793488973251179,
          "sample_id": "tktB",
          "unnormalized_error": 226.45947312741185
         },
         {
          "author": "ECC2",
          "normalized_error": null,
          "sample_id": "tpi",
          "unnormalized_error": null
         },
         {
          "author": "ECC2",
          "normalized_error": 0.5316667676746469,
          "sample_id": "zwf",
          "unnormalized_error": 226.726424025984
         },
         {
          "author": "Exp_ECC2",
          "normalized_error": 0.060242918317285066,
          "sample_id": "WT",
          "unnormalized_error": 22.71239914299072
         },
         {
          "author": "Exp_ECC2",
          "normalized_error": null,
          "sample_id": "fbaA",
          "unnormalized_error": null
         },
         {
          "author": "Exp_ECC2",
          "normalized_error": 0.5571678503581048,
          "sample_id": "fbaB",
          "unnormalized_error": 203.7787618428019
         },
         {
          "author": "Exp_ECC2",
          "normalized_error": 0.11081836730195123,
          "sample_id": "fbp",
          "unnormalized_error": 42.234739311330465
         },
         {
          "author": "Exp_ECC2",
          "normalized_error": null,
          "sample_id": "glk",
          "unnormalized_error": null
         },
         {
          "author": "Exp_ECC2",
          "normalized_error": 0.1970213381672891,
          "sample_id": "gnd",
          "unnormalized_error": 85.66328279933497
         },
         {
          "author": "Exp_ECC2",
          "normalized_error": 0.9138084713123595,
          "sample_id": "gpmA",
          "unnormalized_error": 337.3290274761818
         },
         {
          "author": "Exp_ECC2",
          "normalized_error": null,
          "sample_id": "gpmB",
          "unnormalized_error": null
         },
         {
          "author": "Exp_ECC2",
          "normalized_error": 0.5818992827354977,
          "sample_id": "pfkA",
          "unnormalized_error": 216.85177685720848
         },
         {
          "author": "Exp_ECC2",
          "normalized_error": 0.5276056022021969,
          "sample_id": "pfkB",
          "unnormalized_error": 189.16040510393907
         },
         {
          "author": "Exp_ECC2",
          "normalized_error": 0.3690337439755065,
          "sample_id": "pgi",
          "unnormalized_error": 112.30819154720707
         },
         {
          "author": "Exp_ECC2",
          "normalized_error": 0.11989508870198069,
          "sample_id": "pgl",
          "unnormalized_error": 46.01910247937631
         },
         {
          "author": "Exp_ECC2",
          "normalized_error": null,
          "sample_id": "pgm",
          "unnormalized_error": null
         },
         {
          "author": "Exp_ECC2",
          "normalized_error": null,
          "sample_id": "ppc",
          "unnormalized_error": null
         },
         {
          "author": "Exp_ECC2",
          "normalized_error": 0.16703059552223495,
          "sample_id": "ppsA",
          "unnormalized_error": 62.47502504927495
         },
         {
          "author": "Exp_ECC2",
          "normalized_error": null,
          "sample_id": "pts",
          "unnormalized_error": null
         },
         {
          "author": "Exp_ECC2",
          "normalized_error": 0.23772528571054857,
          "sample_id": "pykA",
          "unnormalized_error": 88.73492356427323
         },
         {
          "author": "Exp_ECC2",
          "normalized_error": null,
          "sample_id": "pykAF",
          "unnormalized_error": null
         },
         {
          "author": "Exp_ECC2",
          "normalized_error": 0.339745948781891,
          "sample_id": "pykF",
          "unnormalized_error": 119.92839499833433
         },
         {
          "author": "Exp_ECC2",
          "normalized_error": 0.2098661035689538,
          "sample_id": "rpe",
          "unnormalized_error": 92.14484302431484
         },
         {
          "author": "Exp_ECC2",
          "normalized_error": null,
          "sample_id": "rpiA",
          "unnormalized_error": null
         },
         {
          "author": "Exp_ECC2",
          "normalized_error": null,
          "sample_id": "rpiB",
          "unnormalized_error": null
         },
         {
          "author": "Exp_ECC2",
          "normalized_error": null,
          "sample_id": "sdhCD",
          "unnormalized_error": null
         },
         {
          "author": "Exp_ECC2",
          "normalized_error": null,
          "sample_id": "sucA",
          "unnormalized_error": null
         },
         {
          "author": "Exp_ECC2",
          "normalized_error": null,
          "sample_id": "sucAB",
          "unnormalized_error": null
         },
         {
          "author": "Exp_ECC2",
          "normalized_error": 0.11858604012086008,
          "sample_id": "talA",
          "unnormalized_error": 44.890729432975085
         },
         {
          "author": "Exp_ECC2",
          "normalized_error": null,
          "sample_id": "talAB",
          "unnormalized_error": null
         },
         {
          "author": "Exp_ECC2",
          "normalized_error": null,
          "sample_id": "talB",
          "unnormalized_error": null
         },
         {
          "author": "Exp_ECC2",
          "normalized_error": null,
          "sample_id": "tkt1",
          "unnormalized_error": null
         },
         {
          "author": "Exp_ECC2",
          "normalized_error": null,
          "sample_id": "tkt2",
          "unnormalized_error": null
         },
         {
          "author": "Exp_ECC2",
          "normalized_error": 0.30283969920634574,
          "sample_id": "tktA",
          "unnormalized_error": 136.55753614728874
         },
         {
          "author": "Exp_ECC2",
          "normalized_error": 0.14575623950850902,
          "sample_id": "tktB",
          "unnormalized_error": 56.97409860712397
         },
         {
          "author": "Exp_ECC2",
          "normalized_error": null,
          "sample_id": "tpi",
          "unnormalized_error": null
         },
         {
          "author": "Exp_ECC2",
          "normalized_error": 0.14383043467881054,
          "sample_id": "zwf",
          "unnormalized_error": 61.33571271241341
         },
         {
          "author": "Exp_iML1515",
          "normalized_error": 0.07112087539571854,
          "sample_id": "WT",
          "unnormalized_error": 26.81353683563158
         },
         {
          "author": "Exp_iML1515",
          "normalized_error": null,
          "sample_id": "fbaA",
          "unnormalized_error": null
         },
         {
          "author": "Exp_iML1515",
          "normalized_error": 0.30623175453347923,
          "sample_id": "fbaB",
          "unnormalized_error": 112.00130756947485
         },
         {
          "author": "Exp_iML1515",
          "normalized_error": 0.1372516971586148,
          "sample_id": "fbp",
          "unnormalized_error": 52.30892487106427
         },
         {
          "author": "Exp_iML1515",
          "normalized_error": null,
          "sample_id": "glk",
          "unnormalized_error": null
         },
         {
          "author": "Exp_iML1515",
          "normalized_error": 0.15696932069740452,
          "sample_id": "gnd",
          "unnormalized_error": 68.24898985461135
         },
         {
          "author": "Exp_iML1515",
          "normalized_error": 0.44393043772560487,
          "sample_id": "gpmA",
          "unnormalized_error": 163.8752840734675
         },
         {
          "author": "Exp_iML1515",
          "normalized_error": null,
          "sample_id": "gpmB",
          "unnormalized_error": null
         },
         {
          "author": "Exp_iML1515",
          "normalized_error": 0.30111654815285693,
          "sample_id": "pfkA",
          "unnormalized_error": 112.21470870541913
         },
         {
          "author": "Exp_iML1515",
          "normalized_error": 0.36348780211391946,
          "sample_id": "pfkB",
          "unnormalized_error": 130.3198821453362
         },
         {
          "author": "Exp_iML1515",
          "normalized_error": 0.48113398597825763,
          "sample_id": "pgi",
          "unnormalized_error": 146.42370444233367
         },
         {
          "author": "Exp_iML1515",
          "normalized_error": 0.12500751281434586,
          "sample_id": "pgl",
          "unnormalized_error": 47.98139444389345
         },
         {
          "author": "Exp_iML1515",
          "normalized_error": null,
          "sample_id": "pgm",
          "unnormalized_error": null
         },
         {
          "author": "Exp_iML1515",
          "normalized_error": null,
          "sample_id": "ppc",
          "unnormalized_error": null
         },
         {
          "author": "Exp_iML1515",
          "normalized_error": 0.13983821236814103,
          "sample_id": "ppsA",
          "unnormalized_error": 52.304164953913855
         },
         {
          "author": "Exp_iML1515",
          "normalized_error": null,
          "sample_id": "pts",
          "unnormalized_error": null
         },
         {
          "author": "Exp_iML1515",
          "normalized_error": 0.16048900396147314,
          "sample_id": "pykA",
          "unnormalized_error": 59.90519458989023
         },
         {
          "author": "Exp_iML1515",
          "normalized_error": null,
          "sample_id": "pykAF",
          "unnormalized_error": null
         },
         {
          "author": "Exp_iML1515",
          "normalized_error": 0.28588913293078083,
          "sample_id": "pykF",
          "unnormalized_error": 100.91724414310809
         },
         {
          "author": "Exp_iML1515",
          "normalized_error": 0.1856657222742003,
          "sample_id": "rpe",
          "unnormalized_error": 81.51930465670058
         },
         {
          "author": "Exp_iML1515",
          "normalized_error": 0.6742300742465588,
          "sample_id": "rpiA",
          "unnormalized_error": 258.06546930885435
         },
         {
          "author": "Exp_iML1515",
          "normalized_error": 0.7124519133846259,
          "sample_id": "rpiB",
          "unnormalized_error": 296.80869842739764
         },
         {
          "author": "Exp_iML1515",
          "normalized_error": null,
          "sample_id": "sdhCD",
          "unnormalized_error": null
         },
         {
          "author": "Exp_iML1515",
          "normalized_error": null,
          "sample_id": "sucA",
          "unnormalized_error": null
         },
         {
          "author": "Exp_iML1515",
          "normalized_error": null,
          "sample_id": "sucAB",
          "unnormalized_error": null
         },
         {
          "author": "Exp_iML1515",
          "normalized_error": 0.1064327120170791,
          "sample_id": "talA",
          "unnormalized_error": 40.29008872466768
         },
         {
          "author": "Exp_iML1515",
          "normalized_error": null,
          "sample_id": "talAB",
          "unnormalized_error": null
         },
         {
          "author": "Exp_iML1515",
          "normalized_error": null,
          "sample_id": "talB",
          "unnormalized_error": null
         },
         {
          "author": "Exp_iML1515",
          "normalized_error": null,
          "sample_id": "tkt1",
          "unnormalized_error": null
         },
         {
          "author": "Exp_iML1515",
          "normalized_error": null,
          "sample_id": "tkt2",
          "unnormalized_error": null
         },
         {
          "author": "Exp_iML1515",
          "normalized_error": 0.26679772737674506,
          "sample_id": "tktA",
          "unnormalized_error": 120.3053641769729
         },
         {
          "author": "Exp_iML1515",
          "normalized_error": 0.11818102938250942,
          "sample_id": "tktB",
          "unnormalized_error": 46.19533025985779
         },
         {
          "author": "Exp_iML1515",
          "normalized_error": null,
          "sample_id": "tpi",
          "unnormalized_error": null
         },
         {
          "author": "Exp_iML1515",
          "normalized_error": 0.14164927942769256,
          "sample_id": "zwf",
          "unnormalized_error": 60.40557082580578
         },
         {
          "author": "Ishii",
          "normalized_error": 0,
          "sample_id": "WT",
          "unnormalized_error": 0
         },
         {
          "author": "Ishii",
          "normalized_error": null,
          "sample_id": "fbaA",
          "unnormalized_error": null
         },
         {
          "author": "Ishii",
          "normalized_error": 0,
          "sample_id": "fbaB",
          "unnormalized_error": 0
         },
         {
          "author": "Ishii",
          "normalized_error": 0,
          "sample_id": "fbp",
          "unnormalized_error": 0
         },
         {
          "author": "Ishii",
          "normalized_error": null,
          "sample_id": "glk",
          "unnormalized_error": null
         },
         {
          "author": "Ishii",
          "normalized_error": 0,
          "sample_id": "gnd",
          "unnormalized_error": 0
         },
         {
          "author": "Ishii",
          "normalized_error": 0,
          "sample_id": "gpmA",
          "unnormalized_error": 0
         },
         {
          "author": "Ishii",
          "normalized_error": 0,
          "sample_id": "gpmB",
          "unnormalized_error": 0
         },
         {
          "author": "Ishii",
          "normalized_error": 0,
          "sample_id": "pfkA",
          "unnormalized_error": 0
         },
         {
          "author": "Ishii",
          "normalized_error": 0,
          "sample_id": "pfkB",
          "unnormalized_error": 0
         },
         {
          "author": "Ishii",
          "normalized_error": 0,
          "sample_id": "pgi",
          "unnormalized_error": 0
         },
         {
          "author": "Ishii",
          "normalized_error": 0,
          "sample_id": "pgl",
          "unnormalized_error": 0
         },
         {
          "author": "Ishii",
          "normalized_error": 0,
          "sample_id": "pgm",
          "unnormalized_error": 0
         },
         {
          "author": "Ishii",
          "normalized_error": null,
          "sample_id": "ppc",
          "unnormalized_error": null
         },
         {
          "author": "Ishii",
          "normalized_error": 0,
          "sample_id": "ppsA",
          "unnormalized_error": 0
         },
         {
          "author": "Ishii",
          "normalized_error": null,
          "sample_id": "pts",
          "unnormalized_error": null
         },
         {
          "author": "Ishii",
          "normalized_error": 0,
          "sample_id": "pykA",
          "unnormalized_error": 0
         },
         {
          "author": "Ishii",
          "normalized_error": null,
          "sample_id": "pykAF",
          "unnormalized_error": null
         },
         {
          "author": "Ishii",
          "normalized_error": 0,
          "sample_id": "pykF",
          "unnormalized_error": 0
         },
         {
          "author": "Ishii",
          "normalized_error": 0,
          "sample_id": "rpe",
          "unnormalized_error": 0
         },
         {
          "author": "Ishii",
          "normalized_error": 0,
          "sample_id": "rpiA",
          "unnormalized_error": 0
         },
         {
          "author": "Ishii",
          "normalized_error": 0,
          "sample_id": "rpiB",
          "unnormalized_error": 0
         },
         {
          "author": "Ishii",
          "normalized_error": null,
          "sample_id": "sdhCD",
          "unnormalized_error": null
         },
         {
          "author": "Ishii",
          "normalized_error": null,
          "sample_id": "sucA",
          "unnormalized_error": null
         },
         {
          "author": "Ishii",
          "normalized_error": null,
          "sample_id": "sucAB",
          "unnormalized_error": null
         },
         {
          "author": "Ishii",
          "normalized_error": 0,
          "sample_id": "talA",
          "unnormalized_error": 0
         },
         {
          "author": "Ishii",
          "normalized_error": null,
          "sample_id": "talAB",
          "unnormalized_error": null
         },
         {
          "author": "Ishii",
          "normalized_error": 0,
          "sample_id": "talB",
          "unnormalized_error": 0
         },
         {
          "author": "Ishii",
          "normalized_error": null,
          "sample_id": "tkt1",
          "unnormalized_error": null
         },
         {
          "author": "Ishii",
          "normalized_error": null,
          "sample_id": "tkt2",
          "unnormalized_error": null
         },
         {
          "author": "Ishii",
          "normalized_error": 0,
          "sample_id": "tktA",
          "unnormalized_error": 0
         },
         {
          "author": "Ishii",
          "normalized_error": 0,
          "sample_id": "tktB",
          "unnormalized_error": 0
         },
         {
          "author": "Ishii",
          "normalized_error": null,
          "sample_id": "tpi",
          "unnormalized_error": null
         },
         {
          "author": "Ishii",
          "normalized_error": 0,
          "sample_id": "zwf",
          "unnormalized_error": 0
         },
         {
          "author": "Khodayari",
          "normalized_error": 0.08626454018003622,
          "sample_id": "WT",
          "unnormalized_error": 32.5229043210774
         },
         {
          "author": "Khodayari",
          "normalized_error": null,
          "sample_id": "fbaA",
          "unnormalized_error": null
         },
         {
          "author": "Khodayari",
          "normalized_error": 0.09138195379180071,
          "sample_id": "fbaB",
          "unnormalized_error": 33.42206731149452
         },
         {
          "author": "Khodayari",
          "normalized_error": 0.16100755550333462,
          "sample_id": "fbp",
          "unnormalized_error": 61.36268110961581
         },
         {
          "author": "Khodayari",
          "normalized_error": null,
          "sample_id": "glk",
          "unnormalized_error": null
         },
         {
          "author": "Khodayari",
          "normalized_error": 0.38715668047162716,
          "sample_id": "gnd",
          "unnormalized_error": 168.33259034477044
         },
         {
          "author": "Khodayari",
          "normalized_error": null,
          "sample_id": "gpmA",
          "unnormalized_error": null
         },
         {
          "author": "Khodayari",
          "normalized_error": null,
          "sample_id": "gpmB",
          "unnormalized_error": null
         },
         {
          "author": "Khodayari",
          "normalized_error": 0.10258406287943597,
          "sample_id": "pfkA",
          "unnormalized_error": 38.22918668684628
         },
         {
          "author": "Khodayari",
          "normalized_error": 0.2341304700928845,
          "sample_id": "pfkB",
          "unnormalized_error": 83.94189596374477
         },
         {
          "author": "Khodayari",
          "normalized_error": 0.2478641142264956,
          "sample_id": "pgi",
          "unnormalized_error": 75.43258813772783
         },
         {
          "author": "Khodayari",
          "normalized_error": 0.06443097602076861,
          "sample_id": "pgl",
          "unnormalized_error": 24.730418238532945
         },
         {
          "author": "Khodayari",
          "normalized_error": null,
          "sample_id": "pgm",
          "unnormalized_error": null
         },
         {
          "author": "Khodayari",
          "normalized_error": null,
          "sample_id": "ppc",
          "unnormalized_error": null
         },
         {
          "author": "Khodayari",
          "normalized_error": 0.13159027072140456,
          "sample_id": "ppsA",
          "unnormalized_error": 49.219159123851874
         },
         {
          "author": "Khodayari",
          "normalized_error": null,
          "sample_id": "pts",
          "unnormalized_error": null
         },
         {
          "author": "Khodayari",
          "normalized_error": 0.09719833059532582,
          "sample_id": "pykA",
          "unnormalized_error": 36.28089628821712
         },
         {
          "author": "Khodayari",
          "normalized_error": null,
          "sample_id": "pykAF",
          "unnormalized_error": null
         },
         {
          "author": "Khodayari",
          "normalized_error": 0.24397215594827465,
          "sample_id": "pykF",
          "unnormalized_error": 86.1207887601439
         },
         {
          "author": "Khodayari",
          "normalized_error": 0.17894054479050264,
          "sample_id": "rpe",
          "unnormalized_error": 78.56651517327468
         },
         {
          "author": "Khodayari",
          "normalized_error": 0.2580435292967993,
          "sample_id": "rpiA",
          "unnormalized_error": 98.76765667047296
         },
         {
          "author": "Khodayari",
          "normalized_error": 0.2684357829542535,
          "sample_id": "rpiB",
          "unnormalized_error": 111.83081110904165
         },
         {
          "author": "Khodayari",
          "normalized_error": null,
          "sample_id": "sdhCD",
          "unnormalized_error": null
         },
         {
          "author": "Khodayari",
          "normalized_error": null,
          "sample_id": "sucA",
          "unnormalized_error": null
         },
         {
          "author": "Khodayari",
          "normalized_error": null,
          "sample_id": "sucAB",
          "unnormalized_error": null
         },
         {
          "author": "Khodayari",
          "normalized_error": 0.08985056219245564,
          "sample_id": "talA",
          "unnormalized_error": 34.01291815353159
         },
         {
          "author": "Khodayari",
          "normalized_error": null,
          "sample_id": "talAB",
          "unnormalized_error": null
         },
         {
          "author": "Khodayari",
          "normalized_error": null,
          "sample_id": "talB",
          "unnormalized_error": null
         },
         {
          "author": "Khodayari",
          "normalized_error": null,
          "sample_id": "tkt1",
          "unnormalized_error": null
         },
         {
          "author": "Khodayari",
          "normalized_error": null,
          "sample_id": "tkt2",
          "unnormalized_error": null
         },
         {
          "author": "Khodayari",
          "normalized_error": 0.2539911776073175,
          "sample_id": "tktA",
          "unnormalized_error": 114.53058997252138
         },
         {
          "author": "Khodayari",
          "normalized_error": 0.09867985291358512,
          "sample_id": "tktB",
          "unnormalized_error": 38.572590026973586
         },
         {
          "author": "Khodayari",
          "normalized_error": null,
          "sample_id": "tpi",
          "unnormalized_error": null
         },
         {
          "author": "Khodayari",
          "normalized_error": 0.31154141427835896,
          "sample_id": "zwf",
          "unnormalized_error": 132.85515493899513
         },
         {
          "author": "Kurata",
          "normalized_error": 0.4290517614624855,
          "sample_id": "WT",
          "unnormalized_error": 161.75834656640814
         },
         {
          "author": "Kurata",
          "normalized_error": null,
          "sample_id": "fbaA",
          "unnormalized_error": null
         },
         {
          "author": "Kurata",
          "normalized_error": 0.4103629941322574,
          "sample_id": "fbaB",
          "unnormalized_error": 150.08630307120157
         },
         {
          "author": "Kurata",
          "normalized_error": 0.40847615723203634,
          "sample_id": "fbp",
          "unnormalized_error": 155.67711775235048
         },
         {
          "author": "Kurata",
          "normalized_error": null,
          "sample_id": "glk",
          "unnormalized_error": null
         },
         {
          "author": "Kurata",
          "normalized_error": 0.8562057556746754,
          "sample_id": "gnd",
          "unnormalized_error": 372.27133093828184
         },
         {
          "author": "Kurata",
          "normalized_error": 1,
          "sample_id": "gpmA",
          "unnormalized_error": 369.14631245618585
         },
         {
          "author": "Kurata",
          "normalized_error": null,
          "sample_id": "gpmB",
          "unnormalized_error": null
         },
         {
          "author": "Kurata",
          "normalized_error": 0.5733636526409739,
          "sample_id": "pfkA",
          "unnormalized_error": 213.67087148834122
         },
         {
          "author": "Kurata",
          "normalized_error": 0.5089435525961448,
          "sample_id": "pfkB",
          "unnormalized_error": 182.46957231365764
         },
         {
          "author": "Kurata",
          "normalized_error": 0.5377521956379365,
          "sample_id": "pgi",
          "unnormalized_error": 163.65434754564075
         },
         {
          "author": "Kurata",
          "normalized_error": 1.000000068030102,
          "sample_id": "pgl",
          "unnormalized_error": 383.82811262977367
         },
         {
          "author": "Kurata",
          "normalized_error": null,
          "sample_id": "pgm",
          "unnormalized_error": null
         },
         {
          "author": "Kurata",
          "normalized_error": null,
          "sample_id": "ppc",
          "unnormalized_error": null
         },
         {
          "author": "Kurata",
          "normalized_error": 0.49388855765828366,
          "sample_id": "ppsA",
          "unnormalized_error": 184.73082679720235
         },
         {
          "author": "Kurata",
          "normalized_error": null,
          "sample_id": "pts",
          "unnormalized_error": null
         },
         {
          "author": "Kurata",
          "normalized_error": 0.4064879463120327,
          "sample_id": "pykA",
          "unnormalized_error": 151.72839834006814
         },
         {
          "author": "Kurata",
          "normalized_error": null,
          "sample_id": "pykAF",
          "unnormalized_error": null
         },
         {
          "author": "Kurata",
          "normalized_error": 0.319800713456623,
          "sample_id": "pykF",
          "unnormalized_error": 112.88783993358774
         },
         {
          "author": "Kurata",
          "normalized_error": 1,
          "sample_id": "rpe",
          "unnormalized_error": 439.0649154737828
         },
         {
          "author": "Kurata",
          "normalized_error": 0.4291610868328768,
          "sample_id": "rpiA",
          "unnormalized_error": 164.26389375524005
         },
         {
          "author": "Kurata",
          "normalized_error": 0.4737364631830639,
          "sample_id": "rpiB",
          "unnormalized_error": 197.35942930797412
         },
         {
          "author": "Kurata",
          "normalized_error": null,
          "sample_id": "sdhCD",
          "unnormalized_error": null
         },
         {
          "author": "Kurata",
          "normalized_error": null,
          "sample_id": "sucA",
          "unnormalized_error": null
         },
         {
          "author": "Kurata",
          "normalized_error": null,
          "sample_id": "sucAB",
          "unnormalized_error": null
         },
         {
          "author": "Kurata",
          "normalized_error": 0.4766159000083567,
          "sample_id": "talA",
          "unnormalized_error": 180.42288442149788
         },
         {
          "author": "Kurata",
          "normalized_error": null,
          "sample_id": "talAB",
          "unnormalized_error": null
         },
         {
          "author": "Kurata",
          "normalized_error": 0.48563549208927553,
          "sample_id": "talB",
          "unnormalized_error": 189.14551694492678
         },
         {
          "author": "Kurata",
          "normalized_error": null,
          "sample_id": "tkt1",
          "unnormalized_error": null
         },
         {
          "author": "Kurata",
          "normalized_error": null,
          "sample_id": "tkt2",
          "unnormalized_error": null
         },
         {
          "author": "Kurata",
          "normalized_error": 0.5634927253676616,
          "sample_id": "tktA",
          "unnormalized_error": 254.09211016517975
         },
         {
          "author": "Kurata",
          "normalized_error": 0.49804358976829566,
          "sample_id": "tktB",
          "unnormalized_error": 194.67835263716688
         },
         {
          "author": "Kurata",
          "normalized_error": null,
          "sample_id": "tpi",
          "unnormalized_error": null
         },
         {
          "author": "Kurata",
          "normalized_error": 0.3998278217237869,
          "sample_id": "zwf",
          "unnormalized_error": 170.50441697158504
         },
         {
          "author": "Millard",
          "normalized_error": 0.07581158695388648,
          "sample_id": "WT",
          "unnormalized_error": 28.58199885821561
         },
         {
          "author": "Millard",
          "normalized_error": null,
          "sample_id": "fbaA",
          "unnormalized_error": null
         },
         {
          "author": "Millard",
          "normalized_error": 0.9975350478805866,
          "sample_id": "fbaB",
          "unnormalized_error": 364.8388126150055
         },
         {
          "author": "Millard",
          "normalized_error": 0.09381200836540193,
          "sample_id": "fbp",
          "unnormalized_error": 35.75333055385432
         },
         {
          "author": "Millard",
          "normalized_error": null,
          "sample_id": "glk",
          "unnormalized_error": null
         },
         {
          "author": "Millard",
          "normalized_error": 0.21294864452957682,
          "sample_id": "gnd",
          "unnormalized_error": 92.58834666214261
         },
         {
          "author": "Millard",
          "normalized_error": null,
          "sample_id": "gpmA",
          "unnormalized_error": null
         },
         {
          "author": "Millard",
          "normalized_error": null,
          "sample_id": "gpmB",
          "unnormalized_error": null
         },
         {
          "author": "Millard",
          "normalized_error": 1.0001830352754906,
          "sample_id": "pfkA",
          "unnormalized_error": 372.7302555904922
         },
         {
          "author": "Millard",
          "normalized_error": 0.9996937663257283,
          "sample_id": "pfkB",
          "unnormalized_error": 358.4163568937744
         },
         {
          "author": "Millard",
          "normalized_error": 0.7559627196463702,
          "sample_id": "pgi",
          "unnormalized_error": 230.06244633885615
         },
         {
          "author": "Millard",
          "normalized_error": 0.18577731967806382,
          "sample_id": "pgl",
          "unnormalized_error": 71.30655313045726
         },
         {
          "author": "Millard",
          "normalized_error": null,
          "sample_id": "pgm",
          "unnormalized_error": null
         },
         {
          "author": "Millard",
          "normalized_error": null,
          "sample_id": "ppc",
          "unnormalized_error": null
         },
         {
          "author": "Millard",
          "normalized_error": 0.18732914736336762,
          "sample_id": "ppsA",
          "unnormalized_error": 70.06736183508228
         },
         {
          "author": "Millard",
          "normalized_error": null,
          "sample_id": "pts",
          "unnormalized_error": null
         },
         {
          "author": "Millard",
          "normalized_error": 0.29233605477908076,
          "sample_id": "pykA",
          "unnormalized_error": 109.11930297346518
         },
         {
          "author": "Millard",
          "normalized_error": null,
          "sample_id": "pykAF",
          "unnormalized_error": null
         },
         {
          "author": "Millard",
          "normalized_error": 0.28384269179698235,
          "sample_id": "pykF",
          "unnormalized_error": 100.19486201753762
         },
         {
          "author": "Millard",
          "normalized_error": 0.2679820140682344,
          "sample_id": "rpe",
          "unnormalized_error": 117.66150035536342
         },
         {
          "author": "Millard",
          "normalized_error": 0.24880667871048653,
          "sample_id": "rpiA",
          "unnormalized_error": 95.23219856419325
         },
         {
          "author": "Millard",
          "normalized_error": 0.26562648222449475,
          "sample_id": "rpiB",
          "unnormalized_error": 110.6604515697857
         },
         {
          "author": "Millard",
          "normalized_error": null,
          "sample_id": "sdhCD",
          "unnormalized_error": null
         },
         {
          "author": "Millard",
          "normalized_error": null,
          "sample_id": "sucA",
          "unnormalized_error": null
         },
         {
          "author": "Millard",
          "normalized_error": null,
          "sample_id": "sucAB",
          "unnormalized_error": null
         },
         {
          "author": "Millard",
          "normalized_error": null,
          "sample_id": "talA",
          "unnormalized_error": null
         },
         {
          "author": "Millard",
          "normalized_error": null,
          "sample_id": "talAB",
          "unnormalized_error": null
         },
         {
          "author": "Millard",
          "normalized_error": null,
          "sample_id": "talB",
          "unnormalized_error": null
         },
         {
          "author": "Millard",
          "normalized_error": null,
          "sample_id": "tkt1",
          "unnormalized_error": null
         },
         {
          "author": "Millard",
          "normalized_error": null,
          "sample_id": "tkt2",
          "unnormalized_error": null
         },
         {
          "author": "Millard",
          "normalized_error": null,
          "sample_id": "tktA",
          "unnormalized_error": null
         },
         {
          "author": "Millard",
          "normalized_error": null,
          "sample_id": "tktB",
          "unnormalized_error": null
         },
         {
          "author": "Millard",
          "normalized_error": null,
          "sample_id": "tpi",
          "unnormalized_error": null
         },
         {
          "author": "Millard",
          "normalized_error": 0.16084745679000298,
          "sample_id": "zwf",
          "unnormalized_error": 68.59252996227919
         },
         {
          "author": "iML1515",
          "normalized_error": 0.9388098006140072,
          "sample_id": "WT",
          "unnormalized_error": 353.9440569362145
         },
         {
          "author": "iML1515",
          "normalized_error": null,
          "sample_id": "fbaA",
          "unnormalized_error": null
         },
         {
          "author": "iML1515",
          "normalized_error": 0.98017313953916,
          "sample_id": "fbaB",
          "unnormalized_error": 358.48886226742144
         },
         {
          "author": "iML1515",
          "normalized_error": 0.9364246191381635,
          "sample_id": "fbp",
          "unnormalized_error": 356.88713556165055
         },
         {
          "author": "iML1515",
          "normalized_error": null,
          "sample_id": "glk",
          "unnormalized_error": null
         },
         {
          "author": "iML1515",
          "normalized_error": 0.8749731934081896,
          "sample_id": "gnd",
          "unnormalized_error": 380.4312609283008
         },
         {
          "author": "iML1515",
          "normalized_error": null,
          "sample_id": "gpmA",
          "unnormalized_error": null
         },
         {
          "author": "iML1515",
          "normalized_error": null,
          "sample_id": "gpmB",
          "unnormalized_error": null
         },
         {
          "author": "iML1515",
          "normalized_error": 0.9726868035028066,
          "sample_id": "pfkA",
          "unnormalized_error": 362.4834536203058
         },
         {
          "author": "iML1515",
          "normalized_error": 0.993600839649014,
          "sample_id": "pfkB",
          "unnormalized_error": 356.23188335212654
         },
         {
          "author": "iML1515",
          "normalized_error": 1.0033487318288141,
          "sample_id": "pgi",
          "unnormalized_error": 305.349533484279
         },
         {
          "author": "iML1515",
          "normalized_error": 0.941611553505348,
          "sample_id": "pgl",
          "unnormalized_error": 361.41696082511413
         },
         {
          "author": "iML1515",
          "normalized_error": null,
          "sample_id": "pgm",
          "unnormalized_error": null
         },
         {
          "author": "iML1515",
          "normalized_error": null,
          "sample_id": "ppc",
          "unnormalized_error": null
         },
         {
          "author": "iML1515",
          "normalized_error": 0.9465179422832674,
          "sample_id": "ppsA",
          "unnormalized_error": 354.0293439585054
         },
         {
          "author": "iML1515",
          "normalized_error": null,
          "sample_id": "pts",
          "unnormalized_error": null
         },
         {
          "author": "iML1515",
          "normalized_error": 0.9442354810871038,
          "sample_id": "pykA",
          "unnormalized_error": 352.4516249523264
         },
         {
          "author": "iML1515",
          "normalized_error": null,
          "sample_id": "pykAF",
          "unnormalized_error": null
         },
         {
          "author": "iML1515",
          "normalized_error": 0.9714586574022167,
          "sample_id": "pykF",
          "unnormalized_error": 342.9194020037554
         },
         {
          "author": "iML1515",
          "normalized_error": 0.8819975032153864,
          "sample_id": "rpe",
          "unnormalized_error": 387.2541591973511
         },
         {
          "author": "iML1515",
          "normalized_error": 0.9377111060660918,
          "sample_id": "rpiA",
          "unnormalized_error": 358.9143615901319
         },
         {
          "author": "iML1515",
          "normalized_error": 0.952210267749317,
          "sample_id": "rpiB",
          "unnormalized_error": 396.6924432236038
         },
         {
          "author": "iML1515",
          "normalized_error": null,
          "sample_id": "sdhCD",
          "unnormalized_error": null
         },
         {
          "author": "iML1515",
          "normalized_error": null,
          "sample_id": "sucA",
          "unnormalized_error": null
         },
         {
          "author": "iML1515",
          "normalized_error": null,
          "sample_id": "sucAB",
          "unnormalized_error": null
         },
         {
          "author": "iML1515",
          "normalized_error": 0.9404585947310189,
          "sample_id": "talA",
          "unnormalized_error": 356.0104737113971
         },
         {
          "author": "iML1515",
          "normalized_error": null,
          "sample_id": "talAB",
          "unnormalized_error": null
         },
         {
          "author": "iML1515",
          "normalized_error": null,
          "sample_id": "talB",
          "unnormalized_error": null
         },
         {
          "author": "iML1515",
          "normalized_error": null,
          "sample_id": "tkt1",
          "unnormalized_error": null
         },
         {
          "author": "iML1515",
          "normalized_error": null,
          "sample_id": "tkt2",
          "unnormalized_error": null
         },
         {
          "author": "iML1515",
          "normalized_error": 0.8737519746950033,
          "sample_id": "tktA",
          "unnormalized_error": 393.9952957979878
         },
         {
          "author": "iML1515",
          "normalized_error": 0.9111759680260417,
          "sample_id": "tktB",
          "unnormalized_error": 356.16608678852964
         },
         {
          "author": "iML1515",
          "normalized_error": null,
          "sample_id": "tpi",
          "unnormalized_error": null
         },
         {
          "author": "iML1515",
          "normalized_error": 0.8976278708570832,
          "sample_id": "zwf",
          "unnormalized_error": 382.78856163157
         }
        ]
       },
       "encoding": {
        "color": {
         "condition": {
          "field": "author",
          "selection": "selector001",
          "sort": [
           "Khodayari",
           "Kurata",
           "Millard",
           "iML1515"
          ],
          "type": "nominal"
         },
         "value": "lightgray"
        },
        "opacity": {
         "condition": {
          "selection": "selector001",
          "value": 0.4
         },
         "value": 1
        },
        "size": {
         "condition": {
          "selection": "selector001",
          "value": 100
         },
         "value": 40
        },
        "tooltip": [
         {
          "field": "author",
          "type": "nominal"
         },
         {
          "field": "sample_id",
          "type": "nominal"
         },
         {
          "field": "normalized_error",
          "type": "quantitative"
         }
        ],
        "x": {
         "field": "author",
         "sort": [
          "Khodayari",
          "Kurata",
          "Millard",
          "iML1515"
         ],
         "type": "nominal"
        },
        "y": {
         "field": "normalized_error",
         "title": "Normalized error",
         "type": "quantitative"
        }
       },
       "height": 600,
       "mark": "circle",
       "selection": {
        "selector001": {
         "empty": "all",
         "fields": [
          "sample_id"
         ],
         "type": "single"
        }
       },
       "title": "Normalized error knockout simulations",
       "transform": [
        {
         "filter": "datum.normalized_error !== null"
        }
       ],
       "width": 700
      },
      "image/png": "[encoded data removed]",
      "text/plain": [
       "<VegaLite 3 object>\n",
       "\n",
       "If you see this message, it means the renderer has not been properly enabled\n",
       "for the frontend that you are using. For more information, see\n",
       "https://altair-viz.github.io/user_guide/troubleshooting.html\n"
      ]
     },
     "execution_count": 12,
     "metadata": {},
     "output_type": "execute_result"
    }
   ],
   "source": [
    "summary_chart(norm_error=x_norm_error,\n",
    "              author=\"Ishii\",\n",
    "              title=\"Normalized error knockout simulations\",\n",
    "              sort_list=[\"Khodayari\", \"Kurata\", \"Millard\", \"iML1515\"])"
   ]
  },
  {
   "cell_type": "code",
   "execution_count": 11,
   "metadata": {},
   "outputs": [],
   "source": [
    "def heatmap(xdf, author=None, sample_id=None):\n",
    "    data = xdf['relative_error'].to_dataframe().reset_index()\n",
    "    if sample_id:\n",
    "        data = data.query(f\"sample_id == '{sample_id}'\")\n",
    "        title = f\"Heatmap for sample_id {sample_id}\"\n",
    "    else:\n",
    "        data = data.query(f\"author == '{author}'\")\n",
    "        title = f\"Heatmap for author {author}\"\n",
    "\n",
    "    base = (\n",
    "        alt.Chart(data, title=title)\n",
    "        .mark_rect()\n",
    "        .encode(\n",
    "            y=alt.Y(\"BiGG_ID:N\"),\n",
    "            color=alt.condition(\n",
    "                \"datum.relative_error === null\",\n",
    "                alt.ColorValue(\"lightgrey\"),\n",
    "                alt.Color(\n",
    "                    \"relative_error\",\n",
    "                    scale=alt.Scale(\n",
    "                        domain=[0, 25, 50, 75, 100, 200, 300], type=\"threshold\", scheme=\"greenblue\",\n",
    "                    ),\n",
    "                    title = \"relative error (clipped at 300)\"\n",
    "                ),\n",
    "            ),\n",
    "            tooltip=[\"sample_id\", \"BiGG_ID\", \"relative_error\"],\n",
    "        )\n",
    "    )\n",
    "    if sample_id:\n",
    "        chart = base.encode(x=alt.X(\"author:N\"))\n",
    "    else:\n",
    "        chart = base.encode(x=alt.X(\"sample_id:N\"))\n",
    "\n",
    "    return chart.configure(invalidValues=None)"
   ]
  },
  {
   "cell_type": "code",
   "execution_count": 16,
   "metadata": {},
   "outputs": [
    {
     "data": {
      "application/vnd.vegalite.v3+json": {
       "$schema": "https://vega.github.io/schema/vega-lite/v3.2.1.json",
       "config": {
        "invalidValues": null,
        "mark": {
         "tooltip": null
        },
        "view": {
         "height": 300,
         "width": 400
        }
       },
       "data": {
        "name": "data-494c86eccb4e7754980913879b6e5b51"
       },
       "datasets": {
        "data-494c86eccb4e7754980913879b6e5b51": [
         {
          "BiGG_ID": "AKGDH",
          "author": "Chassagnole",
          "relative_error": null,
          "sample_id": "gpmA"
         },
         {
          "BiGG_ID": "CS",
          "author": "Chassagnole",
          "relative_error": null,
          "sample_id": "gpmA"
         },
         {
          "BiGG_ID": "EDA",
          "author": "Chassagnole",
          "relative_error": null,
          "sample_id": "gpmA"
         },
         {
          "BiGG_ID": "FBA",
          "author": "Chassagnole",
          "relative_error": null,
          "sample_id": "gpmA"
         },
         {
          "BiGG_ID": "FUM",
          "author": "Chassagnole",
          "relative_error": null,
          "sample_id": "gpmA"
         },
         {
          "BiGG_ID": "G6PDH2r",
          "author": "Chassagnole",
          "relative_error": null,
          "sample_id": "gpmA"
         },
         {
          "BiGG_ID": "GAPD",
          "author": "Chassagnole",
          "relative_error": null,
          "sample_id": "gpmA"
         },
         {
          "BiGG_ID": "GLCptspp",
          "author": "Chassagnole",
          "relative_error": null,
          "sample_id": "gpmA"
         },
         {
          "BiGG_ID": "GND",
          "author": "Chassagnole",
          "relative_error": null,
          "sample_id": "gpmA"
         },
         {
          "BiGG_ID": "ICDHyr",
          "author": "Chassagnole",
          "relative_error": null,
          "sample_id": "gpmA"
         },
         {
          "BiGG_ID": "ICL",
          "author": "Chassagnole",
          "relative_error": null,
          "sample_id": "gpmA"
         },
         {
          "BiGG_ID": "MALS",
          "author": "Chassagnole",
          "relative_error": null,
          "sample_id": "gpmA"
         },
         {
          "BiGG_ID": "MDH",
          "author": "Chassagnole",
          "relative_error": null,
          "sample_id": "gpmA"
         },
         {
          "BiGG_ID": "PDH",
          "author": "Chassagnole",
          "relative_error": null,
          "sample_id": "gpmA"
         },
         {
          "BiGG_ID": "PGI",
          "author": "Chassagnole",
          "relative_error": null,
          "sample_id": "gpmA"
         },
         {
          "BiGG_ID": "PGM",
          "author": "Chassagnole",
          "relative_error": null,
          "sample_id": "gpmA"
         },
         {
          "BiGG_ID": "PPC",
          "author": "Chassagnole",
          "relative_error": null,
          "sample_id": "gpmA"
         },
         {
          "BiGG_ID": "PTAr",
          "author": "Chassagnole",
          "relative_error": null,
          "sample_id": "gpmA"
         },
         {
          "BiGG_ID": "PYK",
          "author": "Chassagnole",
          "relative_error": null,
          "sample_id": "gpmA"
         },
         {
          "BiGG_ID": "RPE",
          "author": "Chassagnole",
          "relative_error": null,
          "sample_id": "gpmA"
         },
         {
          "BiGG_ID": "RPI",
          "author": "Chassagnole",
          "relative_error": null,
          "sample_id": "gpmA"
         },
         {
          "BiGG_ID": "SUCDi",
          "author": "Chassagnole",
          "relative_error": null,
          "sample_id": "gpmA"
         },
         {
          "BiGG_ID": "TALA",
          "author": "Chassagnole",
          "relative_error": null,
          "sample_id": "gpmA"
         },
         {
          "BiGG_ID": "TKT1",
          "author": "Chassagnole",
          "relative_error": null,
          "sample_id": "gpmA"
         },
         {
          "BiGG_ID": "TPI",
          "author": "Chassagnole",
          "relative_error": null,
          "sample_id": "gpmA"
         },
         {
          "BiGG_ID": "AKGDH",
          "author": "ECC2",
          "relative_error": 100,
          "sample_id": "gpmA"
         },
         {
          "BiGG_ID": "CS",
          "author": "ECC2",
          "relative_error": 1019.9874686716792,
          "sample_id": "gpmA"
         },
         {
          "BiGG_ID": "EDA",
          "author": "ECC2",
          "relative_error": 100,
          "sample_id": "gpmA"
         },
         {
          "BiGG_ID": "FBA",
          "author": "ECC2",
          "relative_error": 83.78519614280023,
          "sample_id": "gpmA"
         },
         {
          "BiGG_ID": "FUM",
          "author": "ECC2",
          "relative_error": 16.743280607509202,
          "sample_id": "gpmA"
         },
         {
          "BiGG_ID": "G6PDH2r",
          "author": "ECC2",
          "relative_error": 73.8170117964821,
          "sample_id": "gpmA"
         },
         {
          "BiGG_ID": "GAPD",
          "author": "ECC2",
          "relative_error": 1407.1909602858004,
          "sample_id": "gpmA"
         },
         {
          "BiGG_ID": "GLCptspp",
          "author": "ECC2",
          "relative_error": 0,
          "sample_id": "gpmA"
         },
         {
          "BiGG_ID": "GND",
          "author": "ECC2",
          "relative_error": 22.06792807354804,
          "sample_id": "gpmA"
         },
         {
          "BiGG_ID": "ICDHyr",
          "author": "ECC2",
          "relative_error": 921.9885651629072,
          "sample_id": "gpmA"
         },
         {
          "BiGG_ID": "ICL",
          "author": "ECC2",
          "relative_error": 100,
          "sample_id": "gpmA"
         },
         {
          "BiGG_ID": "MALS",
          "author": "ECC2",
          "relative_error": 100,
          "sample_id": "gpmA"
         },
         {
          "BiGG_ID": "MDH",
          "author": "ECC2",
          "relative_error": 28.093321777683705,
          "sample_id": "gpmA"
         },
         {
          "BiGG_ID": "PDH",
          "author": "ECC2",
          "relative_error": 15.707820241686033,
          "sample_id": "gpmA"
         },
         {
          "BiGG_ID": "PGI",
          "author": "ECC2",
          "relative_error": 113.4135852323998,
          "sample_id": "gpmA"
         },
         {
          "BiGG_ID": "PGM",
          "author": "ECC2",
          "relative_error": 100,
          "sample_id": "gpmA"
         },
         {
          "BiGG_ID": "PPC",
          "author": "ECC2",
          "relative_error": 100,
          "sample_id": "gpmA"
         },
         {
          "BiGG_ID": "PTAr",
          "author": "ECC2",
          "relative_error": 100,
          "sample_id": "gpmA"
         },
         {
          "BiGG_ID": "PYK",
          "author": "ECC2",
          "relative_error": 100,
          "sample_id": "gpmA"
         },
         {
          "BiGG_ID": "RPE",
          "author": "ECC2",
          "relative_error": 41.382361967473024,
          "sample_id": "gpmA"
         },
         {
          "BiGG_ID": "RPI",
          "author": "ECC2",
          "relative_error": 193.72540639079995,
          "sample_id": "gpmA"
         },
         {
          "BiGG_ID": "SUCDi",
          "author": "ECC2",
          "relative_error": 26.387266749156257,
          "sample_id": "gpmA"
         },
         {
          "BiGG_ID": "TALA",
          "author": "ECC2",
          "relative_error": 27.688844186323514,
          "sample_id": "gpmA"
         },
         {
          "BiGG_ID": "TKT1",
          "author": "ECC2",
          "relative_error": 27.688844186323514,
          "sample_id": "gpmA"
         },
         {
          "BiGG_ID": "TPI",
          "author": "ECC2",
          "relative_error": 208.42639454633397,
          "sample_id": "gpmA"
         },
         {
          "BiGG_ID": "AKGDH",
          "author": "Exp_ECC2",
          "relative_error": 12.556050502640502,
          "sample_id": "gpmA"
         },
         {
          "BiGG_ID": "CS",
          "author": "Exp_ECC2",
          "relative_error": 1.2388310959554234,
          "sample_id": "gpmA"
         },
         {
          "BiGG_ID": "EDA",
          "author": "Exp_ECC2",
          "relative_error": 100,
          "sample_id": "gpmA"
         },
         {
          "BiGG_ID": "FBA",
          "author": "Exp_ECC2",
          "relative_error": 100,
          "sample_id": "gpmA"
         },
         {
          "BiGG_ID": "FUM",
          "author": "Exp_ECC2",
          "relative_error": 13.723465943561596,
          "sample_id": "gpmA"
         },
         {
          "BiGG_ID": "G6PDH2r",
          "author": "Exp_ECC2",
          "relative_error": 84.39795652235553,
          "sample_id": "gpmA"
         },
         {
          "BiGG_ID": "GAPD",
          "author": "Exp_ECC2",
          "relative_error": 1407.1909602858004,
          "sample_id": "gpmA"
         },
         {
          "BiGG_ID": "GLCptspp",
          "author": "Exp_ECC2",
          "relative_error": 0,
          "sample_id": "gpmA"
         },
         {
          "BiGG_ID": "GND",
          "author": "Exp_ECC2",
          "relative_error": 27.964205816554777,
          "sample_id": "gpmA"
         },
         {
          "BiGG_ID": "ICDHyr",
          "author": "Exp_ECC2",
          "relative_error": 14.056268779022119,
          "sample_id": "gpmA"
         },
         {
          "BiGG_ID": "ICL",
          "author": "Exp_ECC2",
          "relative_error": 58.82352941176466,
          "sample_id": "gpmA"
         },
         {
          "BiGG_ID": "MALS",
          "author": "Exp_ECC2",
          "relative_error": 58.82352941176466,
          "sample_id": "gpmA"
         },
         {
          "BiGG_ID": "MDH",
          "author": "Exp_ECC2",
          "relative_error": 21.355933147322055,
          "sample_id": "gpmA"
         },
         {
          "BiGG_ID": "PDH",
          "author": "Exp_ECC2",
          "relative_error": 18.086654145067342,
          "sample_id": "gpmA"
         },
         {
          "BiGG_ID": "PGI",
          "author": "Exp_ECC2",
          "relative_error": 3354.0479572479185,
          "sample_id": "gpmA"
         },
         {
          "BiGG_ID": "PGM",
          "author": "Exp_ECC2",
          "relative_error": 100,
          "sample_id": "gpmA"
         },
         {
          "BiGG_ID": "PPC",
          "author": "Exp_ECC2",
          "relative_error": 100,
          "sample_id": "gpmA"
         },
         {
          "BiGG_ID": "PTAr",
          "author": "Exp_ECC2",
          "relative_error": 100,
          "sample_id": "gpmA"
         },
         {
          "BiGG_ID": "PYK",
          "author": "Exp_ECC2",
          "relative_error": 100,
          "sample_id": "gpmA"
         },
         {
          "BiGG_ID": "RPE",
          "author": "Exp_ECC2",
          "relative_error": 57.31251263725519,
          "sample_id": "gpmA"
         },
         {
          "BiGG_ID": "RPI",
          "author": "Exp_ECC2",
          "relative_error": 221.40372341283543,
          "sample_id": "gpmA"
         },
         {
          "BiGG_ID": "SUCDi",
          "author": "Exp_ECC2",
          "relative_error": 13.04563530578238,
          "sample_id": "gpmA"
         },
         {
          "BiGG_ID": "TALA",
          "author": "Exp_ECC2",
          "relative_error": 40.06017200466507,
          "sample_id": "gpmA"
         },
         {
          "BiGG_ID": "TKT1",
          "author": "Exp_ECC2",
          "relative_error": 40.06017200466507,
          "sample_id": "gpmA"
         },
         {
          "BiGG_ID": "TPI",
          "author": "Exp_ECC2",
          "relative_error": 208.42639454633397,
          "sample_id": "gpmA"
         },
         {
          "BiGG_ID": "AKGDH",
          "author": "Exp_iML1515",
          "relative_error": 5.164365514379735,
          "sample_id": "gpmA"
         },
         {
          "BiGG_ID": "CS",
          "author": "Exp_iML1515",
          "relative_error": 1.238831095955458,
          "sample_id": "gpmA"
         },
         {
          "BiGG_ID": "EDA",
          "author": "Exp_iML1515",
          "relative_error": 100,
          "sample_id": "gpmA"
         },
         {
          "BiGG_ID": "FBA",
          "author": "Exp_iML1515",
          "relative_error": 3.6100930957496056,
          "sample_id": "gpmA"
         },
         {
          "BiGG_ID": "FUM",
          "author": "Exp_iML1515",
          "relative_error": 9.429978888106994,
          "sample_id": "gpmA"
         },
         {
          "BiGG_ID": "G6PDH2r",
          "author": "Exp_iML1515",
          "relative_error": 18.95829230891535,
          "sample_id": "gpmA"
         },
         {
          "BiGG_ID": "GAPD",
          "author": "Exp_iML1515",
          "relative_error": 2.6507995817330983,
          "sample_id": "gpmA"
         },
         {
          "BiGG_ID": "GLCptspp",
          "author": "Exp_iML1515",
          "relative_error": 0,
          "sample_id": "gpmA"
         },
         {
          "BiGG_ID": "GND",
          "author": "Exp_iML1515",
          "relative_error": 17.93400286944046,
          "sample_id": "gpmA"
         },
         {
          "BiGG_ID": "ICDHyr",
          "author": "Exp_iML1515",
          "relative_error": 7.352941176470589,
          "sample_id": "gpmA"
         },
         {
          "BiGG_ID": "ICL",
          "author": "Exp_iML1515",
          "relative_error": 46.16832481849955,
          "sample_id": "gpmA"
         },
         {
          "BiGG_ID": "MALS",
          "author": "Exp_iML1515",
          "relative_error": 46.18671741422534,
          "sample_id": "gpmA"
         },
         {
          "BiGG_ID": "MDH",
          "author": "Exp_iML1515",
          "relative_error": 8.670520231214518,
          "sample_id": "gpmA"
         },
         {
          "BiGG_ID": "PDH",
          "author": "Exp_iML1515",
          "relative_error": 5.223545270724806,
          "sample_id": "gpmA"
         },
         {
          "BiGG_ID": "PGI",
          "author": "Exp_iML1515",
          "relative_error": 4.4241579029340645,
          "sample_id": "gpmA"
         },
         {
          "BiGG_ID": "PGM",
          "author": "Exp_iML1515",
          "relative_error": 100,
          "sample_id": "gpmA"
         },
         {
          "BiGG_ID": "PPC",
          "author": "Exp_iML1515",
          "relative_error": 77.7087378640777,
          "sample_id": "gpmA"
         },
         {
          "BiGG_ID": "PTAr",
          "author": "Exp_iML1515",
          "relative_error": 100,
          "sample_id": "gpmA"
         },
         {
          "BiGG_ID": "PYK",
          "author": "Exp_iML1515",
          "relative_error": 11.724194793740631,
          "sample_id": "gpmA"
         },
         {
          "BiGG_ID": "RPE",
          "author": "Exp_iML1515",
          "relative_error": 36.25072030000533,
          "sample_id": "gpmA"
         },
         {
          "BiGG_ID": "RPI",
          "author": "Exp_iML1515",
          "relative_error": 196.5857342072503,
          "sample_id": "gpmA"
         },
         {
          "BiGG_ID": "SUCDi",
          "author": "Exp_iML1515",
          "relative_error": 2.524092518212524,
          "sample_id": "gpmA"
         },
         {
          "BiGG_ID": "TALA",
          "author": "Exp_iML1515",
          "relative_error": 233.54346173246157,
          "sample_id": "gpmA"
         },
         {
          "BiGG_ID": "TKT1",
          "author": "Exp_iML1515",
          "relative_error": 22.90358054912132,
          "sample_id": "gpmA"
         },
         {
          "BiGG_ID": "TPI",
          "author": "Exp_iML1515",
          "relative_error": 0.06599241046131547,
          "sample_id": "gpmA"
         },
         {
          "BiGG_ID": "AKGDH",
          "author": "Ishii",
          "relative_error": 0,
          "sample_id": "gpmA"
         },
         {
          "BiGG_ID": "CS",
          "author": "Ishii",
          "relative_error": 0,
          "sample_id": "gpmA"
         },
         {
          "BiGG_ID": "EDA",
          "author": "Ishii",
          "relative_error": 0,
          "sample_id": "gpmA"
         },
         {
          "BiGG_ID": "FBA",
          "author": "Ishii",
          "relative_error": 0,
          "sample_id": "gpmA"
         },
         {
          "BiGG_ID": "FUM",
          "author": "Ishii",
          "relative_error": 0,
          "sample_id": "gpmA"
         },
         {
          "BiGG_ID": "G6PDH2r",
          "author": "Ishii",
          "relative_error": 0,
          "sample_id": "gpmA"
         },
         {
          "BiGG_ID": "GAPD",
          "author": "Ishii",
          "relative_error": 0,
          "sample_id": "gpmA"
         },
         {
          "BiGG_ID": "GLCptspp",
          "author": "Ishii",
          "relative_error": 0,
          "sample_id": "gpmA"
         },
         {
          "BiGG_ID": "GND",
          "author": "Ishii",
          "relative_error": 0,
          "sample_id": "gpmA"
         },
         {
          "BiGG_ID": "ICDHyr",
          "author": "Ishii",
          "relative_error": 0,
          "sample_id": "gpmA"
         },
         {
          "BiGG_ID": "ICL",
          "author": "Ishii",
          "relative_error": 0,
          "sample_id": "gpmA"
         },
         {
          "BiGG_ID": "MALS",
          "author": "Ishii",
          "relative_error": 0,
          "sample_id": "gpmA"
         },
         {
          "BiGG_ID": "MDH",
          "author": "Ishii",
          "relative_error": 0,
          "sample_id": "gpmA"
         },
         {
          "BiGG_ID": "PDH",
          "author": "Ishii",
          "relative_error": 0,
          "sample_id": "gpmA"
         },
         {
          "BiGG_ID": "PGI",
          "author": "Ishii",
          "relative_error": 0,
          "sample_id": "gpmA"
         },
         {
          "BiGG_ID": "PGM",
          "author": "Ishii",
          "relative_error": 0,
          "sample_id": "gpmA"
         },
         {
          "BiGG_ID": "PPC",
          "author": "Ishii",
          "relative_error": 0,
          "sample_id": "gpmA"
         },
         {
          "BiGG_ID": "PTAr",
          "author": "Ishii",
          "relative_error": 0,
          "sample_id": "gpmA"
         },
         {
          "BiGG_ID": "PYK",
          "author": "Ishii",
          "relative_error": 0,
          "sample_id": "gpmA"
         },
         {
          "BiGG_ID": "RPE",
          "author": "Ishii",
          "relative_error": 0,
          "sample_id": "gpmA"
         },
         {
          "BiGG_ID": "RPI",
          "author": "Ishii",
          "relative_error": 0,
          "sample_id": "gpmA"
         },
         {
          "BiGG_ID": "SUCDi",
          "author": "Ishii",
          "relative_error": 0,
          "sample_id": "gpmA"
         },
         {
          "BiGG_ID": "TALA",
          "author": "Ishii",
          "relative_error": 0,
          "sample_id": "gpmA"
         },
         {
          "BiGG_ID": "TKT1",
          "author": "Ishii",
          "relative_error": 0,
          "sample_id": "gpmA"
         },
         {
          "BiGG_ID": "TPI",
          "author": "Ishii",
          "relative_error": 0,
          "sample_id": "gpmA"
         },
         {
          "BiGG_ID": "AKGDH",
          "author": "Khodayari",
          "relative_error": null,
          "sample_id": "gpmA"
         },
         {
          "BiGG_ID": "CS",
          "author": "Khodayari",
          "relative_error": null,
          "sample_id": "gpmA"
         },
         {
          "BiGG_ID": "EDA",
          "author": "Khodayari",
          "relative_error": null,
          "sample_id": "gpmA"
         },
         {
          "BiGG_ID": "FBA",
          "author": "Khodayari",
          "relative_error": null,
          "sample_id": "gpmA"
         },
         {
          "BiGG_ID": "FUM",
          "author": "Khodayari",
          "relative_error": null,
          "sample_id": "gpmA"
         },
         {
          "BiGG_ID": "G6PDH2r",
          "author": "Khodayari",
          "relative_error": null,
          "sample_id": "gpmA"
         },
         {
          "BiGG_ID": "GAPD",
          "author": "Khodayari",
          "relative_error": null,
          "sample_id": "gpmA"
         },
         {
          "BiGG_ID": "GLCptspp",
          "author": "Khodayari",
          "relative_error": null,
          "sample_id": "gpmA"
         },
         {
          "BiGG_ID": "GND",
          "author": "Khodayari",
          "relative_error": null,
          "sample_id": "gpmA"
         },
         {
          "BiGG_ID": "ICDHyr",
          "author": "Khodayari",
          "relative_error": null,
          "sample_id": "gpmA"
         },
         {
          "BiGG_ID": "ICL",
          "author": "Khodayari",
          "relative_error": null,
          "sample_id": "gpmA"
         },
         {
          "BiGG_ID": "MALS",
          "author": "Khodayari",
          "relative_error": null,
          "sample_id": "gpmA"
         },
         {
          "BiGG_ID": "MDH",
          "author": "Khodayari",
          "relative_error": null,
          "sample_id": "gpmA"
         },
         {
          "BiGG_ID": "PDH",
          "author": "Khodayari",
          "relative_error": null,
          "sample_id": "gpmA"
         },
         {
          "BiGG_ID": "PGI",
          "author": "Khodayari",
          "relative_error": null,
          "sample_id": "gpmA"
         },
         {
          "BiGG_ID": "PGM",
          "author": "Khodayari",
          "relative_error": null,
          "sample_id": "gpmA"
         },
         {
          "BiGG_ID": "PPC",
          "author": "Khodayari",
          "relative_error": null,
          "sample_id": "gpmA"
         },
         {
          "BiGG_ID": "PTAr",
          "author": "Khodayari",
          "relative_error": null,
          "sample_id": "gpmA"
         },
         {
          "BiGG_ID": "PYK",
          "author": "Khodayari",
          "relative_error": null,
          "sample_id": "gpmA"
         },
         {
          "BiGG_ID": "RPE",
          "author": "Khodayari",
          "relative_error": null,
          "sample_id": "gpmA"
         },
         {
          "BiGG_ID": "RPI",
          "author": "Khodayari",
          "relative_error": null,
          "sample_id": "gpmA"
         },
         {
          "BiGG_ID": "SUCDi",
          "author": "Khodayari",
          "relative_error": null,
          "sample_id": "gpmA"
         },
         {
          "BiGG_ID": "TALA",
          "author": "Khodayari",
          "relative_error": null,
          "sample_id": "gpmA"
         },
         {
          "BiGG_ID": "TKT1",
          "author": "Khodayari",
          "relative_error": null,
          "sample_id": "gpmA"
         },
         {
          "BiGG_ID": "TPI",
          "author": "Khodayari",
          "relative_error": null,
          "sample_id": "gpmA"
         },
         {
          "BiGG_ID": "AKGDH",
          "author": "Kurata",
          "relative_error": 100,
          "sample_id": "gpmA"
         },
         {
          "BiGG_ID": "CS",
          "author": "Kurata",
          "relative_error": 100,
          "sample_id": "gpmA"
         },
         {
          "BiGG_ID": "EDA",
          "author": "Kurata",
          "relative_error": 0,
          "sample_id": "gpmA"
         },
         {
          "BiGG_ID": "FBA",
          "author": "Kurata",
          "relative_error": 100,
          "sample_id": "gpmA"
         },
         {
          "BiGG_ID": "FUM",
          "author": "Kurata",
          "relative_error": 100,
          "sample_id": "gpmA"
         },
         {
          "BiGG_ID": "G6PDH2r",
          "author": "Kurata",
          "relative_error": 100,
          "sample_id": "gpmA"
         },
         {
          "BiGG_ID": "GAPD",
          "author": "Kurata",
          "relative_error": 100,
          "sample_id": "gpmA"
         },
         {
          "BiGG_ID": "GLCptspp",
          "author": "Kurata",
          "relative_error": 100,
          "sample_id": "gpmA"
         },
         {
          "BiGG_ID": "GND",
          "author": "Kurata",
          "relative_error": 100,
          "sample_id": "gpmA"
         },
         {
          "BiGG_ID": "ICDHyr",
          "author": "Kurata",
          "relative_error": 100,
          "sample_id": "gpmA"
         },
         {
          "BiGG_ID": "ICL",
          "author": "Kurata",
          "relative_error": 100,
          "sample_id": "gpmA"
         },
         {
          "BiGG_ID": "MALS",
          "author": "Kurata",
          "relative_error": 100,
          "sample_id": "gpmA"
         },
         {
          "BiGG_ID": "MDH",
          "author": "Kurata",
          "relative_error": 100,
          "sample_id": "gpmA"
         },
         {
          "BiGG_ID": "PDH",
          "author": "Kurata",
          "relative_error": 100,
          "sample_id": "gpmA"
         },
         {
          "BiGG_ID": "PGI",
          "author": "Kurata",
          "relative_error": 100,
          "sample_id": "gpmA"
         },
         {
          "BiGG_ID": "PGM",
          "author": "Kurata",
          "relative_error": 100,
          "sample_id": "gpmA"
         },
         {
          "BiGG_ID": "PPC",
          "author": "Kurata",
          "relative_error": 100,
          "sample_id": "gpmA"
         },
         {
          "BiGG_ID": "PTAr",
          "author": "Kurata",
          "relative_error": 0,
          "sample_id": "gpmA"
         },
         {
          "BiGG_ID": "PYK",
          "author": "Kurata",
          "relative_error": 100,
          "sample_id": "gpmA"
         },
         {
          "BiGG_ID": "RPE",
          "author": "Kurata",
          "relative_error": 100,
          "sample_id": "gpmA"
         },
         {
          "BiGG_ID": "RPI",
          "author": "Kurata",
          "relative_error": 100,
          "sample_id": "gpmA"
         },
         {
          "BiGG_ID": "SUCDi",
          "author": "Kurata",
          "relative_error": 100,
          "sample_id": "gpmA"
         },
         {
          "BiGG_ID": "TALA",
          "author": "Kurata",
          "relative_error": 100,
          "sample_id": "gpmA"
         },
         {
          "BiGG_ID": "TKT1",
          "author": "Kurata",
          "relative_error": 100,
          "sample_id": "gpmA"
         },
         {
          "BiGG_ID": "TPI",
          "author": "Kurata",
          "relative_error": 100,
          "sample_id": "gpmA"
         },
         {
          "BiGG_ID": "AKGDH",
          "author": "Millard",
          "relative_error": null,
          "sample_id": "gpmA"
         },
         {
          "BiGG_ID": "CS",
          "author": "Millard",
          "relative_error": null,
          "sample_id": "gpmA"
         },
         {
          "BiGG_ID": "EDA",
          "author": "Millard",
          "relative_error": null,
          "sample_id": "gpmA"
         },
         {
          "BiGG_ID": "FBA",
          "author": "Millard",
          "relative_error": null,
          "sample_id": "gpmA"
         },
         {
          "BiGG_ID": "FUM",
          "author": "Millard",
          "relative_error": null,
          "sample_id": "gpmA"
         },
         {
          "BiGG_ID": "G6PDH2r",
          "author": "Millard",
          "relative_error": null,
          "sample_id": "gpmA"
         },
         {
          "BiGG_ID": "GAPD",
          "author": "Millard",
          "relative_error": null,
          "sample_id": "gpmA"
         },
         {
          "BiGG_ID": "GLCptspp",
          "author": "Millard",
          "relative_error": null,
          "sample_id": "gpmA"
         },
         {
          "BiGG_ID": "GND",
          "author": "Millard",
          "relative_error": null,
          "sample_id": "gpmA"
         },
         {
          "BiGG_ID": "ICDHyr",
          "author": "Millard",
          "relative_error": null,
          "sample_id": "gpmA"
         },
         {
          "BiGG_ID": "ICL",
          "author": "Millard",
          "relative_error": null,
          "sample_id": "gpmA"
         },
         {
          "BiGG_ID": "MALS",
          "author": "Millard",
          "relative_error": null,
          "sample_id": "gpmA"
         },
         {
          "BiGG_ID": "MDH",
          "author": "Millard",
          "relative_error": null,
          "sample_id": "gpmA"
         },
         {
          "BiGG_ID": "PDH",
          "author": "Millard",
          "relative_error": null,
          "sample_id": "gpmA"
         },
         {
          "BiGG_ID": "PGI",
          "author": "Millard",
          "relative_error": null,
          "sample_id": "gpmA"
         },
         {
          "BiGG_ID": "PGM",
          "author": "Millard",
          "relative_error": null,
          "sample_id": "gpmA"
         },
         {
          "BiGG_ID": "PPC",
          "author": "Millard",
          "relative_error": null,
          "sample_id": "gpmA"
         },
         {
          "BiGG_ID": "PTAr",
          "author": "Millard",
          "relative_error": null,
          "sample_id": "gpmA"
         },
         {
          "BiGG_ID": "PYK",
          "author": "Millard",
          "relative_error": null,
          "sample_id": "gpmA"
         },
         {
          "BiGG_ID": "RPE",
          "author": "Millard",
          "relative_error": null,
          "sample_id": "gpmA"
         },
         {
          "BiGG_ID": "RPI",
          "author": "Millard",
          "relative_error": null,
          "sample_id": "gpmA"
         },
         {
          "BiGG_ID": "SUCDi",
          "author": "Millard",
          "relative_error": null,
          "sample_id": "gpmA"
         },
         {
          "BiGG_ID": "TALA",
          "author": "Millard",
          "relative_error": null,
          "sample_id": "gpmA"
         },
         {
          "BiGG_ID": "TKT1",
          "author": "Millard",
          "relative_error": null,
          "sample_id": "gpmA"
         },
         {
          "BiGG_ID": "TPI",
          "author": "Millard",
          "relative_error": null,
          "sample_id": "gpmA"
         },
         {
          "BiGG_ID": "AKGDH",
          "author": "iML1515",
          "relative_error": null,
          "sample_id": "gpmA"
         },
         {
          "BiGG_ID": "CS",
          "author": "iML1515",
          "relative_error": null,
          "sample_id": "gpmA"
         },
         {
          "BiGG_ID": "EDA",
          "author": "iML1515",
          "relative_error": null,
          "sample_id": "gpmA"
         },
         {
          "BiGG_ID": "FBA",
          "author": "iML1515",
          "relative_error": null,
          "sample_id": "gpmA"
         },
         {
          "BiGG_ID": "FUM",
          "author": "iML1515",
          "relative_error": null,
          "sample_id": "gpmA"
         },
         {
          "BiGG_ID": "G6PDH2r",
          "author": "iML1515",
          "relative_error": null,
          "sample_id": "gpmA"
         },
         {
          "BiGG_ID": "GAPD",
          "author": "iML1515",
          "relative_error": null,
          "sample_id": "gpmA"
         },
         {
          "BiGG_ID": "GLCptspp",
          "author": "iML1515",
          "relative_error": null,
          "sample_id": "gpmA"
         },
         {
          "BiGG_ID": "GND",
          "author": "iML1515",
          "relative_error": null,
          "sample_id": "gpmA"
         },
         {
          "BiGG_ID": "ICDHyr",
          "author": "iML1515",
          "relative_error": null,
          "sample_id": "gpmA"
         },
         {
          "BiGG_ID": "ICL",
          "author": "iML1515",
          "relative_error": null,
          "sample_id": "gpmA"
         },
         {
          "BiGG_ID": "MALS",
          "author": "iML1515",
          "relative_error": null,
          "sample_id": "gpmA"
         },
         {
          "BiGG_ID": "MDH",
          "author": "iML1515",
          "relative_error": null,
          "sample_id": "gpmA"
         },
         {
          "BiGG_ID": "PDH",
          "author": "iML1515",
          "relative_error": null,
          "sample_id": "gpmA"
         },
         {
          "BiGG_ID": "PGI",
          "author": "iML1515",
          "relative_error": null,
          "sample_id": "gpmA"
         },
         {
          "BiGG_ID": "PGM",
          "author": "iML1515",
          "relative_error": null,
          "sample_id": "gpmA"
         },
         {
          "BiGG_ID": "PPC",
          "author": "iML1515",
          "relative_error": null,
          "sample_id": "gpmA"
         },
         {
          "BiGG_ID": "PTAr",
          "author": "iML1515",
          "relative_error": null,
          "sample_id": "gpmA"
         },
         {
          "BiGG_ID": "PYK",
          "author": "iML1515",
          "relative_error": null,
          "sample_id": "gpmA"
         },
         {
          "BiGG_ID": "RPE",
          "author": "iML1515",
          "relative_error": null,
          "sample_id": "gpmA"
         },
         {
          "BiGG_ID": "RPI",
          "author": "iML1515",
          "relative_error": null,
          "sample_id": "gpmA"
         },
         {
          "BiGG_ID": "SUCDi",
          "author": "iML1515",
          "relative_error": null,
          "sample_id": "gpmA"
         },
         {
          "BiGG_ID": "TALA",
          "author": "iML1515",
          "relative_error": null,
          "sample_id": "gpmA"
         },
         {
          "BiGG_ID": "TKT1",
          "author": "iML1515",
          "relative_error": null,
          "sample_id": "gpmA"
         },
         {
          "BiGG_ID": "TPI",
          "author": "iML1515",
          "relative_error": null,
          "sample_id": "gpmA"
         }
        ]
       },
       "encoding": {
        "color": {
         "condition": {
          "test": "datum.relative_error === null",
          "value": "lightgrey"
         },
         "field": "relative_error",
         "scale": {
          "domain": [
           0,
           25,
           50,
           75,
           100,
           200,
           300
          ],
          "scheme": "greenblue",
          "type": "threshold"
         },
         "title": "relative error (clipped at 300)",
         "type": "quantitative"
        },
        "tooltip": [
         {
          "field": "sample_id",
          "type": "nominal"
         },
         {
          "field": "BiGG_ID",
          "type": "nominal"
         },
         {
          "field": "relative_error",
          "type": "quantitative"
         }
        ],
        "x": {
         "field": "author",
         "type": "nominal"
        },
        "y": {
         "field": "BiGG_ID",
         "type": "nominal"
        }
       },
       "mark": "rect",
       "title": "Heatmap for sample_id gpmA"
      },
      "image/png": "[encoded data removed]",
      "text/plain": [
       "<VegaLite 3 object>\n",
       "\n",
       "If you see this message, it means the renderer has not been properly enabled\n",
       "for the frontend that you are using. For more information, see\n",
       "https://altair-viz.github.io/user_guide/troubleshooting.html\n"
      ]
     },
     "execution_count": 16,
     "metadata": {},
     "output_type": "execute_result"
    }
   ],
   "source": [
    "heatmap(x_rel_error, sample_id = \"gpmA\")"
   ]
  },
  {
   "cell_type": "code",
   "execution_count": 17,
   "metadata": {},
   "outputs": [
    {
     "data": {
      "application/vnd.vegalite.v3+json": {
       "$schema": "https://vega.github.io/schema/vega-lite/v3.2.1.json",
       "config": {
        "invalidValues": null,
        "mark": {
         "tooltip": null
        },
        "view": {
         "height": 300,
         "width": 400
        }
       },
       "data": {
        "name": "data-2450e0dad9a07fdcda050cdd3cdae0c4"
       },
       "datasets": {
        "data-2450e0dad9a07fdcda050cdd3cdae0c4": [
         {
          "BiGG_ID": "AKGDH",
          "author": "Khodayari",
          "relative_error": 6.4542290651321705,
          "sample_id": "WT"
         },
         {
          "BiGG_ID": "CS",
          "author": "Khodayari",
          "relative_error": 5.178330859391772,
          "sample_id": "WT"
         },
         {
          "BiGG_ID": "EDA",
          "author": "Khodayari",
          "relative_error": 0,
          "sample_id": "WT"
         },
         {
          "BiGG_ID": "FBA",
          "author": "Khodayari",
          "relative_error": 7.935709387839547,
          "sample_id": "WT"
         },
         {
          "BiGG_ID": "FUM",
          "author": "Khodayari",
          "relative_error": 5.6598791132491355,
          "sample_id": "WT"
         },
         {
          "BiGG_ID": "G6PDH2r",
          "author": "Khodayari",
          "relative_error": 10.484300416671054,
          "sample_id": "WT"
         },
         {
          "BiGG_ID": "GAPD",
          "author": "Khodayari",
          "relative_error": 9.009239583834134,
          "sample_id": "WT"
         },
         {
          "BiGG_ID": "GLCptspp",
          "author": "Khodayari",
          "relative_error": 0.11670397463533493,
          "sample_id": "WT"
         },
         {
          "BiGG_ID": "GND",
          "author": "Khodayari",
          "relative_error": 1.734232135157784,
          "sample_id": "WT"
         },
         {
          "BiGG_ID": "ICDHyr",
          "author": "Khodayari",
          "relative_error": 11.430842689762741,
          "sample_id": "WT"
         },
         {
          "BiGG_ID": "ICL",
          "author": "Khodayari",
          "relative_error": 36.00482396409423,
          "sample_id": "WT"
         },
         {
          "BiGG_ID": "MALS",
          "author": "Khodayari",
          "relative_error": 35.714753902172646,
          "sample_id": "WT"
         },
         {
          "BiGG_ID": "MDH",
          "author": "Khodayari",
          "relative_error": 1.693840849369563,
          "sample_id": "WT"
         },
         {
          "BiGG_ID": "PDH",
          "author": "Khodayari",
          "relative_error": 9.992020826950672,
          "sample_id": "WT"
         },
         {
          "BiGG_ID": "PGI",
          "author": "Khodayari",
          "relative_error": 3.680788652021501,
          "sample_id": "WT"
         },
         {
          "BiGG_ID": "PGM",
          "author": "Khodayari",
          "relative_error": 5.212549731635639,
          "sample_id": "WT"
         },
         {
          "BiGG_ID": "PPC",
          "author": "Khodayari",
          "relative_error": 25.952206784564623,
          "sample_id": "WT"
         },
         {
          "BiGG_ID": "PTAr",
          "author": "Khodayari",
          "relative_error": 0,
          "sample_id": "WT"
         },
         {
          "BiGG_ID": "PYK",
          "author": "Khodayari",
          "relative_error": 61.48118105451551,
          "sample_id": "WT"
         },
         {
          "BiGG_ID": "RPE",
          "author": "Khodayari",
          "relative_error": 1.8278500631874517,
          "sample_id": "WT"
         },
         {
          "BiGG_ID": "RPI",
          "author": "Khodayari",
          "relative_error": 3.409287551585425,
          "sample_id": "WT"
         },
         {
          "BiGG_ID": "SUCDi",
          "author": "Khodayari",
          "relative_error": 7.943505163714301,
          "sample_id": "WT"
         },
         {
          "BiGG_ID": "TALA",
          "author": "Khodayari",
          "relative_error": 5.511170114203291,
          "sample_id": "WT"
         },
         {
          "BiGG_ID": "TKT1",
          "author": "Khodayari",
          "relative_error": 3.3451297586310886,
          "sample_id": "WT"
         },
         {
          "BiGG_ID": "TPI",
          "author": "Khodayari",
          "relative_error": 8.65583350797549,
          "sample_id": "WT"
         },
         {
          "BiGG_ID": "AKGDH",
          "author": "Khodayari",
          "relative_error": null,
          "sample_id": "fbaA"
         },
         {
          "BiGG_ID": "CS",
          "author": "Khodayari",
          "relative_error": null,
          "sample_id": "fbaA"
         },
         {
          "BiGG_ID": "EDA",
          "author": "Khodayari",
          "relative_error": 100,
          "sample_id": "fbaA"
         },
         {
          "BiGG_ID": "FBA",
          "author": "Khodayari",
          "relative_error": null,
          "sample_id": "fbaA"
         },
         {
          "BiGG_ID": "FUM",
          "author": "Khodayari",
          "relative_error": null,
          "sample_id": "fbaA"
         },
         {
          "BiGG_ID": "G6PDH2r",
          "author": "Khodayari",
          "relative_error": null,
          "sample_id": "fbaA"
         },
         {
          "BiGG_ID": "GAPD",
          "author": "Khodayari",
          "relative_error": null,
          "sample_id": "fbaA"
         },
         {
          "BiGG_ID": "GLCptspp",
          "author": "Khodayari",
          "relative_error": null,
          "sample_id": "fbaA"
         },
         {
          "BiGG_ID": "GND",
          "author": "Khodayari",
          "relative_error": null,
          "sample_id": "fbaA"
         },
         {
          "BiGG_ID": "ICDHyr",
          "author": "Khodayari",
          "relative_error": null,
          "sample_id": "fbaA"
         },
         {
          "BiGG_ID": "ICL",
          "author": "Khodayari",
          "relative_error": null,
          "sample_id": "fbaA"
         },
         {
          "BiGG_ID": "MALS",
          "author": "Khodayari",
          "relative_error": null,
          "sample_id": "fbaA"
         },
         {
          "BiGG_ID": "MDH",
          "author": "Khodayari",
          "relative_error": null,
          "sample_id": "fbaA"
         },
         {
          "BiGG_ID": "PDH",
          "author": "Khodayari",
          "relative_error": null,
          "sample_id": "fbaA"
         },
         {
          "BiGG_ID": "PGI",
          "author": "Khodayari",
          "relative_error": null,
          "sample_id": "fbaA"
         },
         {
          "BiGG_ID": "PGM",
          "author": "Khodayari",
          "relative_error": null,
          "sample_id": "fbaA"
         },
         {
          "BiGG_ID": "PPC",
          "author": "Khodayari",
          "relative_error": null,
          "sample_id": "fbaA"
         },
         {
          "BiGG_ID": "PTAr",
          "author": "Khodayari",
          "relative_error": 100,
          "sample_id": "fbaA"
         },
         {
          "BiGG_ID": "PYK",
          "author": "Khodayari",
          "relative_error": null,
          "sample_id": "fbaA"
         },
         {
          "BiGG_ID": "RPE",
          "author": "Khodayari",
          "relative_error": null,
          "sample_id": "fbaA"
         },
         {
          "BiGG_ID": "RPI",
          "author": "Khodayari",
          "relative_error": null,
          "sample_id": "fbaA"
         },
         {
          "BiGG_ID": "SUCDi",
          "author": "Khodayari",
          "relative_error": null,
          "sample_id": "fbaA"
         },
         {
          "BiGG_ID": "TALA",
          "author": "Khodayari",
          "relative_error": null,
          "sample_id": "fbaA"
         },
         {
          "BiGG_ID": "TKT1",
          "author": "Khodayari",
          "relative_error": null,
          "sample_id": "fbaA"
         },
         {
          "BiGG_ID": "TPI",
          "author": "Khodayari",
          "relative_error": null,
          "sample_id": "fbaA"
         },
         {
          "BiGG_ID": "AKGDH",
          "author": "Khodayari",
          "relative_error": 1.2571822928347463,
          "sample_id": "fbaB"
         },
         {
          "BiGG_ID": "CS",
          "author": "Khodayari",
          "relative_error": 14.935793868568945,
          "sample_id": "fbaB"
         },
         {
          "BiGG_ID": "EDA",
          "author": "Khodayari",
          "relative_error": 0,
          "sample_id": "fbaB"
         },
         {
          "BiGG_ID": "FBA",
          "author": "Khodayari",
          "relative_error": 3.095384369313309,
          "sample_id": "fbaB"
         },
         {
          "BiGG_ID": "FUM",
          "author": "Khodayari",
          "relative_error": 15.488933828298068,
          "sample_id": "fbaB"
         },
         {
          "BiGG_ID": "G6PDH2r",
          "author": "Khodayari",
          "relative_error": 25.32703689591952,
          "sample_id": "fbaB"
         },
         {
          "BiGG_ID": "GAPD",
          "author": "Khodayari",
          "relative_error": 1.2917922429478648,
          "sample_id": "fbaB"
         },
         {
          "BiGG_ID": "GLCptspp",
          "author": "Khodayari",
          "relative_error": 0.0006577863677609369,
          "sample_id": "fbaB"
         },
         {
          "BiGG_ID": "GND",
          "author": "Khodayari",
          "relative_error": 25.54405494175292,
          "sample_id": "fbaB"
         },
         {
          "BiGG_ID": "ICDHyr",
          "author": "Khodayari",
          "relative_error": 16.845167201970177,
          "sample_id": "fbaB"
         },
         {
          "BiGG_ID": "ICL",
          "author": "Khodayari",
          "relative_error": 3.5278574206420656,
          "sample_id": "fbaB"
         },
         {
          "BiGG_ID": "MALS",
          "author": "Khodayari",
          "relative_error": 3.4664790610019884,
          "sample_id": "fbaB"
         },
         {
          "BiGG_ID": "MDH",
          "author": "Khodayari",
          "relative_error": 5.562452586211532,
          "sample_id": "fbaB"
         },
         {
          "BiGG_ID": "PDH",
          "author": "Khodayari",
          "relative_error": 1.4803951173138394,
          "sample_id": "fbaB"
         },
         {
          "BiGG_ID": "PGI",
          "author": "Khodayari",
          "relative_error": 6.664459449496797,
          "sample_id": "fbaB"
         },
         {
          "BiGG_ID": "PGM",
          "author": "Khodayari",
          "relative_error": 3.755007052543111,
          "sample_id": "fbaB"
         },
         {
          "BiGG_ID": "PPC",
          "author": "Khodayari",
          "relative_error": 38.36038318272883,
          "sample_id": "fbaB"
         },
         {
          "BiGG_ID": "PTAr",
          "author": "Khodayari",
          "relative_error": 0,
          "sample_id": "fbaB"
         },
         {
          "BiGG_ID": "PYK",
          "author": "Khodayari",
          "relative_error": 27.127125741159762,
          "sample_id": "fbaB"
         },
         {
          "BiGG_ID": "RPE",
          "author": "Khodayari",
          "relative_error": 43.406398047831686,
          "sample_id": "fbaB"
         },
         {
          "BiGG_ID": "RPI",
          "author": "Khodayari",
          "relative_error": 14.412488082300426,
          "sample_id": "fbaB"
         },
         {
          "BiGG_ID": "SUCDi",
          "author": "Khodayari",
          "relative_error": 18.200554950051867,
          "sample_id": "fbaB"
         },
         {
          "BiGG_ID": "TALA",
          "author": "Khodayari",
          "relative_error": 33.02132892912069,
          "sample_id": "fbaB"
         },
         {
          "BiGG_ID": "TKT1",
          "author": "Khodayari",
          "relative_error": 8.08690819989671,
          "sample_id": "fbaB"
         },
         {
          "BiGG_ID": "TPI",
          "author": "Khodayari",
          "relative_error": 4.125680886445831,
          "sample_id": "fbaB"
         },
         {
          "BiGG_ID": "AKGDH",
          "author": "Khodayari",
          "relative_error": 22.728991060599547,
          "sample_id": "fbp"
         },
         {
          "BiGG_ID": "CS",
          "author": "Khodayari",
          "relative_error": 8.290224673624474,
          "sample_id": "fbp"
         },
         {
          "BiGG_ID": "EDA",
          "author": "Khodayari",
          "relative_error": 0,
          "sample_id": "fbp"
         },
         {
          "BiGG_ID": "FBA",
          "author": "Khodayari",
          "relative_error": 8.771170953557963,
          "sample_id": "fbp"
         },
         {
          "BiGG_ID": "FUM",
          "author": "Khodayari",
          "relative_error": 9.817798481757345,
          "sample_id": "fbp"
         },
         {
          "BiGG_ID": "G6PDH2r",
          "author": "Khodayari",
          "relative_error": 21.378303008199946,
          "sample_id": "fbp"
         },
         {
          "BiGG_ID": "GAPD",
          "author": "Khodayari",
          "relative_error": 9.27254745766099,
          "sample_id": "fbp"
         },
         {
          "BiGG_ID": "GLCptspp",
          "author": "Khodayari",
          "relative_error": 0.13954244868568672,
          "sample_id": "fbp"
         },
         {
          "BiGG_ID": "GND",
          "author": "Khodayari",
          "relative_error": 13.022887211369397,
          "sample_id": "fbp"
         },
         {
          "BiGG_ID": "ICDHyr",
          "author": "Khodayari",
          "relative_error": 32.00471490146139,
          "sample_id": "fbp"
         },
         {
          "BiGG_ID": "ICL",
          "author": "Khodayari",
          "relative_error": 146.65308906788744,
          "sample_id": "fbp"
         },
         {
          "BiGG_ID": "MALS",
          "author": "Khodayari",
          "relative_error": 146.08747709215467,
          "sample_id": "fbp"
         },
         {
          "BiGG_ID": "MDH",
          "author": "Khodayari",
          "relative_error": 7.6688491861552786,
          "sample_id": "fbp"
         },
         {
          "BiGG_ID": "PDH",
          "author": "Khodayari",
          "relative_error": 21.60546991476912,
          "sample_id": "fbp"
         },
         {
          "BiGG_ID": "PGI",
          "author": "Khodayari",
          "relative_error": 6.816725527999518,
          "sample_id": "fbp"
         },
         {
          "BiGG_ID": "PGM",
          "author": "Khodayari",
          "relative_error": 5.487981178937288,
          "sample_id": "fbp"
         },
         {
          "BiGG_ID": "PPC",
          "author": "Khodayari",
          "relative_error": 94.04008759040974,
          "sample_id": "fbp"
         },
         {
          "BiGG_ID": "PTAr",
          "author": "Khodayari",
          "relative_error": 0,
          "sample_id": "fbp"
         },
         {
          "BiGG_ID": "PYK",
          "author": "Khodayari",
          "relative_error": 95.59248161725749,
          "sample_id": "fbp"
         },
         {
          "BiGG_ID": "RPE",
          "author": "Khodayari",
          "relative_error": 40.16844725287609,
          "sample_id": "fbp"
         },
         {
          "BiGG_ID": "RPI",
          "author": "Khodayari",
          "relative_error": 2.6171263917960546,
          "sample_id": "fbp"
         },
         {
          "BiGG_ID": "SUCDi",
          "author": "Khodayari",
          "relative_error": 11.92747475241138,
          "sample_id": "fbp"
         },
         {
          "BiGG_ID": "TALA",
          "author": "Khodayari",
          "relative_error": 28.15752120828408,
          "sample_id": "fbp"
         },
         {
          "BiGG_ID": "TKT1",
          "author": "Khodayari",
          "relative_error": 26.56447992302612,
          "sample_id": "fbp"
         },
         {
          "BiGG_ID": "TPI",
          "author": "Khodayari",
          "relative_error": 9.50739050323728,
          "sample_id": "fbp"
         },
         {
          "BiGG_ID": "AKGDH",
          "author": "Khodayari",
          "relative_error": null,
          "sample_id": "glk"
         },
         {
          "BiGG_ID": "CS",
          "author": "Khodayari",
          "relative_error": null,
          "sample_id": "glk"
         },
         {
          "BiGG_ID": "EDA",
          "author": "Khodayari",
          "relative_error": null,
          "sample_id": "glk"
         },
         {
          "BiGG_ID": "FBA",
          "author": "Khodayari",
          "relative_error": null,
          "sample_id": "glk"
         },
         {
          "BiGG_ID": "FUM",
          "author": "Khodayari",
          "relative_error": null,
          "sample_id": "glk"
         },
         {
          "BiGG_ID": "G6PDH2r",
          "author": "Khodayari",
          "relative_error": null,
          "sample_id": "glk"
         },
         {
          "BiGG_ID": "GAPD",
          "author": "Khodayari",
          "relative_error": null,
          "sample_id": "glk"
         },
         {
          "BiGG_ID": "GLCptspp",
          "author": "Khodayari",
          "relative_error": null,
          "sample_id": "glk"
         },
         {
          "BiGG_ID": "GND",
          "author": "Khodayari",
          "relative_error": null,
          "sample_id": "glk"
         },
         {
          "BiGG_ID": "ICDHyr",
          "author": "Khodayari",
          "relative_error": null,
          "sample_id": "glk"
         },
         {
          "BiGG_ID": "ICL",
          "author": "Khodayari",
          "relative_error": null,
          "sample_id": "glk"
         },
         {
          "BiGG_ID": "MALS",
          "author": "Khodayari",
          "relative_error": null,
          "sample_id": "glk"
         },
         {
          "BiGG_ID": "MDH",
          "author": "Khodayari",
          "relative_error": null,
          "sample_id": "glk"
         },
         {
          "BiGG_ID": "PDH",
          "author": "Khodayari",
          "relative_error": null,
          "sample_id": "glk"
         },
         {
          "BiGG_ID": "PGI",
          "author": "Khodayari",
          "relative_error": null,
          "sample_id": "glk"
         },
         {
          "BiGG_ID": "PGM",
          "author": "Khodayari",
          "relative_error": null,
          "sample_id": "glk"
         },
         {
          "BiGG_ID": "PPC",
          "author": "Khodayari",
          "relative_error": null,
          "sample_id": "glk"
         },
         {
          "BiGG_ID": "PTAr",
          "author": "Khodayari",
          "relative_error": null,
          "sample_id": "glk"
         },
         {
          "BiGG_ID": "PYK",
          "author": "Khodayari",
          "relative_error": null,
          "sample_id": "glk"
         },
         {
          "BiGG_ID": "RPE",
          "author": "Khodayari",
          "relative_error": null,
          "sample_id": "glk"
         },
         {
          "BiGG_ID": "RPI",
          "author": "Khodayari",
          "relative_error": null,
          "sample_id": "glk"
         },
         {
          "BiGG_ID": "SUCDi",
          "author": "Khodayari",
          "relative_error": null,
          "sample_id": "glk"
         },
         {
          "BiGG_ID": "TALA",
          "author": "Khodayari",
          "relative_error": null,
          "sample_id": "glk"
         },
         {
          "BiGG_ID": "TKT1",
          "author": "Khodayari",
          "relative_error": null,
          "sample_id": "glk"
         },
         {
          "BiGG_ID": "TPI",
          "author": "Khodayari",
          "relative_error": null,
          "sample_id": "glk"
         },
         {
          "BiGG_ID": "AKGDH",
          "author": "Khodayari",
          "relative_error": 18.0916318689106,
          "sample_id": "gnd"
         },
         {
          "BiGG_ID": "CS",
          "author": "Khodayari",
          "relative_error": 12.534776621364996,
          "sample_id": "gnd"
         },
         {
          "BiGG_ID": "EDA",
          "author": "Khodayari",
          "relative_error": 0,
          "sample_id": "gnd"
         },
         {
          "BiGG_ID": "FBA",
          "author": "Khodayari",
          "relative_error": 75.47017478062622,
          "sample_id": "gnd"
         },
         {
          "BiGG_ID": "FUM",
          "author": "Khodayari",
          "relative_error": 23.394979451476292,
          "sample_id": "gnd"
         },
         {
          "BiGG_ID": "G6PDH2r",
          "author": "Khodayari",
          "relative_error": 100,
          "sample_id": "gnd"
         },
         {
          "BiGG_ID": "GAPD",
          "author": "Khodayari",
          "relative_error": 67.82214229812415,
          "sample_id": "gnd"
         },
         {
          "BiGG_ID": "GLCptspp",
          "author": "Khodayari",
          "relative_error": 2.219383388329263,
          "sample_id": "gnd"
         },
         {
          "BiGG_ID": "GND",
          "author": "Khodayari",
          "relative_error": 0,
          "sample_id": "gnd"
         },
         {
          "BiGG_ID": "ICDHyr",
          "author": "Khodayari",
          "relative_error": 5.239643386342236,
          "sample_id": "gnd"
         },
         {
          "BiGG_ID": "ICL",
          "author": "Khodayari",
          "relative_error": 68.69261356711186,
          "sample_id": "gnd"
         },
         {
          "BiGG_ID": "MALS",
          "author": "Khodayari",
          "relative_error": 74.62485588486129,
          "sample_id": "gnd"
         },
         {
          "BiGG_ID": "MDH",
          "author": "Khodayari",
          "relative_error": 15.075547171532063,
          "sample_id": "gnd"
         },
         {
          "BiGG_ID": "PDH",
          "author": "Khodayari",
          "relative_error": 37.95752570705312,
          "sample_id": "gnd"
         },
         {
          "BiGG_ID": "PGI",
          "author": "Khodayari",
          "relative_error": 87.34028071233674,
          "sample_id": "gnd"
         },
         {
          "BiGG_ID": "PGM",
          "author": "Khodayari",
          "relative_error": 97.27343161899181,
          "sample_id": "gnd"
         },
         {
          "BiGG_ID": "PPC",
          "author": "Khodayari",
          "relative_error": 157.43124484556975,
          "sample_id": "gnd"
         },
         {
          "BiGG_ID": "PTAr",
          "author": "Khodayari",
          "relative_error": 100,
          "sample_id": "gnd"
         },
         {
          "BiGG_ID": "PYK",
          "author": "Khodayari",
          "relative_error": 1183.0834926737473,
          "sample_id": "gnd"
         },
         {
          "BiGG_ID": "RPE",
          "author": "Khodayari",
          "relative_error": 100,
          "sample_id": "gnd"
         },
         {
          "BiGG_ID": "RPI",
          "author": "Khodayari",
          "relative_error": 100,
          "sample_id": "gnd"
         },
         {
          "BiGG_ID": "SUCDi",
          "author": "Khodayari",
          "relative_error": 22.152362962927953,
          "sample_id": "gnd"
         },
         {
          "BiGG_ID": "TALA",
          "author": "Khodayari",
          "relative_error": 100,
          "sample_id": "gnd"
         },
         {
          "BiGG_ID": "TKT1",
          "author": "Khodayari",
          "relative_error": 100,
          "sample_id": "gnd"
         },
         {
          "BiGG_ID": "TPI",
          "author": "Khodayari",
          "relative_error": 75.25496482173062,
          "sample_id": "gnd"
         },
         {
          "BiGG_ID": "AKGDH",
          "author": "Khodayari",
          "relative_error": null,
          "sample_id": "gpmA"
         },
         {
          "BiGG_ID": "CS",
          "author": "Khodayari",
          "relative_error": null,
          "sample_id": "gpmA"
         },
         {
          "BiGG_ID": "EDA",
          "author": "Khodayari",
          "relative_error": null,
          "sample_id": "gpmA"
         },
         {
          "BiGG_ID": "FBA",
          "author": "Khodayari",
          "relative_error": null,
          "sample_id": "gpmA"
         },
         {
          "BiGG_ID": "FUM",
          "author": "Khodayari",
          "relative_error": null,
          "sample_id": "gpmA"
         },
         {
          "BiGG_ID": "G6PDH2r",
          "author": "Khodayari",
          "relative_error": null,
          "sample_id": "gpmA"
         },
         {
          "BiGG_ID": "GAPD",
          "author": "Khodayari",
          "relative_error": null,
          "sample_id": "gpmA"
         },
         {
          "BiGG_ID": "GLCptspp",
          "author": "Khodayari",
          "relative_error": null,
          "sample_id": "gpmA"
         },
         {
          "BiGG_ID": "GND",
          "author": "Khodayari",
          "relative_error": null,
          "sample_id": "gpmA"
         },
         {
          "BiGG_ID": "ICDHyr",
          "author": "Khodayari",
          "relative_error": null,
          "sample_id": "gpmA"
         },
         {
          "BiGG_ID": "ICL",
          "author": "Khodayari",
          "relative_error": null,
          "sample_id": "gpmA"
         },
         {
          "BiGG_ID": "MALS",
          "author": "Khodayari",
          "relative_error": null,
          "sample_id": "gpmA"
         },
         {
          "BiGG_ID": "MDH",
          "author": "Khodayari",
          "relative_error": null,
          "sample_id": "gpmA"
         },
         {
          "BiGG_ID": "PDH",
          "author": "Khodayari",
          "relative_error": null,
          "sample_id": "gpmA"
         },
         {
          "BiGG_ID": "PGI",
          "author": "Khodayari",
          "relative_error": null,
          "sample_id": "gpmA"
         },
         {
          "BiGG_ID": "PGM",
          "author": "Khodayari",
          "relative_error": null,
          "sample_id": "gpmA"
         },
         {
          "BiGG_ID": "PPC",
          "author": "Khodayari",
          "relative_error": null,
          "sample_id": "gpmA"
         },
         {
          "BiGG_ID": "PTAr",
          "author": "Khodayari",
          "relative_error": null,
          "sample_id": "gpmA"
         },
         {
          "BiGG_ID": "PYK",
          "author": "Khodayari",
          "relative_error": null,
          "sample_id": "gpmA"
         },
         {
          "BiGG_ID": "RPE",
          "author": "Khodayari",
          "relative_error": null,
          "sample_id": "gpmA"
         },
         {
          "BiGG_ID": "RPI",
          "author": "Khodayari",
          "relative_error": null,
          "sample_id": "gpmA"
         },
         {
          "BiGG_ID": "SUCDi",
          "author": "Khodayari",
          "relative_error": null,
          "sample_id": "gpmA"
         },
         {
          "BiGG_ID": "TALA",
          "author": "Khodayari",
          "relative_error": null,
          "sample_id": "gpmA"
         },
         {
          "BiGG_ID": "TKT1",
          "author": "Khodayari",
          "relative_error": null,
          "sample_id": "gpmA"
         },
         {
          "BiGG_ID": "TPI",
          "author": "Khodayari",
          "relative_error": null,
          "sample_id": "gpmA"
         },
         {
          "BiGG_ID": "AKGDH",
          "author": "Khodayari",
          "relative_error": null,
          "sample_id": "gpmB"
         },
         {
          "BiGG_ID": "CS",
          "author": "Khodayari",
          "relative_error": null,
          "sample_id": "gpmB"
         },
         {
          "BiGG_ID": "EDA",
          "author": "Khodayari",
          "relative_error": null,
          "sample_id": "gpmB"
         },
         {
          "BiGG_ID": "FBA",
          "author": "Khodayari",
          "relative_error": null,
          "sample_id": "gpmB"
         },
         {
          "BiGG_ID": "FUM",
          "author": "Khodayari",
          "relative_error": null,
          "sample_id": "gpmB"
         },
         {
          "BiGG_ID": "G6PDH2r",
          "author": "Khodayari",
          "relative_error": null,
          "sample_id": "gpmB"
         },
         {
          "BiGG_ID": "GAPD",
          "author": "Khodayari",
          "relative_error": null,
          "sample_id": "gpmB"
         },
         {
          "BiGG_ID": "GLCptspp",
          "author": "Khodayari",
          "relative_error": null,
          "sample_id": "gpmB"
         },
         {
          "BiGG_ID": "GND",
          "author": "Khodayari",
          "relative_error": null,
          "sample_id": "gpmB"
         },
         {
          "BiGG_ID": "ICDHyr",
          "author": "Khodayari",
          "relative_error": null,
          "sample_id": "gpmB"
         },
         {
          "BiGG_ID": "ICL",
          "author": "Khodayari",
          "relative_error": null,
          "sample_id": "gpmB"
         },
         {
          "BiGG_ID": "MALS",
          "author": "Khodayari",
          "relative_error": null,
          "sample_id": "gpmB"
         },
         {
          "BiGG_ID": "MDH",
          "author": "Khodayari",
          "relative_error": null,
          "sample_id": "gpmB"
         },
         {
          "BiGG_ID": "PDH",
          "author": "Khodayari",
          "relative_error": null,
          "sample_id": "gpmB"
         },
         {
          "BiGG_ID": "PGI",
          "author": "Khodayari",
          "relative_error": null,
          "sample_id": "gpmB"
         },
         {
          "BiGG_ID": "PGM",
          "author": "Khodayari",
          "relative_error": null,
          "sample_id": "gpmB"
         },
         {
          "BiGG_ID": "PPC",
          "author": "Khodayari",
          "relative_error": null,
          "sample_id": "gpmB"
         },
         {
          "BiGG_ID": "PTAr",
          "author": "Khodayari",
          "relative_error": null,
          "sample_id": "gpmB"
         },
         {
          "BiGG_ID": "PYK",
          "author": "Khodayari",
          "relative_error": null,
          "sample_id": "gpmB"
         },
         {
          "BiGG_ID": "RPE",
          "author": "Khodayari",
          "relative_error": null,
          "sample_id": "gpmB"
         },
         {
          "BiGG_ID": "RPI",
          "author": "Khodayari",
          "relative_error": null,
          "sample_id": "gpmB"
         },
         {
          "BiGG_ID": "SUCDi",
          "author": "Khodayari",
          "relative_error": null,
          "sample_id": "gpmB"
         },
         {
          "BiGG_ID": "TALA",
          "author": "Khodayari",
          "relative_error": null,
          "sample_id": "gpmB"
         },
         {
          "BiGG_ID": "TKT1",
          "author": "Khodayari",
          "relative_error": null,
          "sample_id": "gpmB"
         },
         {
          "BiGG_ID": "TPI",
          "author": "Khodayari",
          "relative_error": null,
          "sample_id": "gpmB"
         },
         {
          "BiGG_ID": "AKGDH",
          "author": "Khodayari",
          "relative_error": 0.7617983817265286,
          "sample_id": "pfkA"
         },
         {
          "BiGG_ID": "CS",
          "author": "Khodayari",
          "relative_error": 13.935641953732691,
          "sample_id": "pfkA"
         },
         {
          "BiGG_ID": "EDA",
          "author": "Khodayari",
          "relative_error": 0,
          "sample_id": "pfkA"
         },
         {
          "BiGG_ID": "FBA",
          "author": "Khodayari",
          "relative_error": 7.415719277735938,
          "sample_id": "pfkA"
         },
         {
          "BiGG_ID": "FUM",
          "author": "Khodayari",
          "relative_error": 10.967168500074765,
          "sample_id": "pfkA"
         },
         {
          "BiGG_ID": "G6PDH2r",
          "author": "Khodayari",
          "relative_error": 17.607108569795006,
          "sample_id": "pfkA"
         },
         {
          "BiGG_ID": "GAPD",
          "author": "Khodayari",
          "relative_error": 7.4768736626158265,
          "sample_id": "pfkA"
         },
         {
          "BiGG_ID": "GLCptspp",
          "author": "Khodayari",
          "relative_error": 0.3414911842316595,
          "sample_id": "pfkA"
         },
         {
          "BiGG_ID": "GND",
          "author": "Khodayari",
          "relative_error": 4.857565366525822,
          "sample_id": "pfkA"
         },
         {
          "BiGG_ID": "ICDHyr",
          "author": "Khodayari",
          "relative_error": 15.352829028279928,
          "sample_id": "pfkA"
         },
         {
          "BiGG_ID": "ICL",
          "author": "Khodayari",
          "relative_error": 41.525576005691846,
          "sample_id": "pfkA"
         },
         {
          "BiGG_ID": "MALS",
          "author": "Khodayari",
          "relative_error": 43.26679470320551,
          "sample_id": "pfkA"
         },
         {
          "BiGG_ID": "MDH",
          "author": "Khodayari",
          "relative_error": 11.1150406598189,
          "sample_id": "pfkA"
         },
         {
          "BiGG_ID": "PDH",
          "author": "Khodayari",
          "relative_error": 7.39647520712645,
          "sample_id": "pfkA"
         },
         {
          "BiGG_ID": "PGI",
          "author": "Khodayari",
          "relative_error": 5.040453888056734,
          "sample_id": "pfkA"
         },
         {
          "BiGG_ID": "PGM",
          "author": "Khodayari",
          "relative_error": 4.154112549217603,
          "sample_id": "pfkA"
         },
         {
          "BiGG_ID": "PPC",
          "author": "Khodayari",
          "relative_error": 24.025527073337834,
          "sample_id": "pfkA"
         },
         {
          "BiGG_ID": "PTAr",
          "author": "Khodayari",
          "relative_error": 0,
          "sample_id": "pfkA"
         },
         {
          "BiGG_ID": "PYK",
          "author": "Khodayari",
          "relative_error": 48.295995560915976,
          "sample_id": "pfkA"
         },
         {
          "BiGG_ID": "RPE",
          "author": "Khodayari",
          "relative_error": 27.9260721773363,
          "sample_id": "pfkA"
         },
         {
          "BiGG_ID": "RPI",
          "author": "Khodayari",
          "relative_error": 3.357002446895263,
          "sample_id": "pfkA"
         },
         {
          "BiGG_ID": "SUCDi",
          "author": "Khodayari",
          "relative_error": 18.342154978000096,
          "sample_id": "pfkA"
         },
         {
          "BiGG_ID": "TALA",
          "author": "Khodayari",
          "relative_error": 18.468804695191785,
          "sample_id": "pfkA"
         },
         {
          "BiGG_ID": "TKT1",
          "author": "Khodayari",
          "relative_error": 15.069589231788449,
          "sample_id": "pfkA"
         },
         {
          "BiGG_ID": "TPI",
          "author": "Khodayari",
          "relative_error": 7.9090524572736385,
          "sample_id": "pfkA"
         },
         {
          "BiGG_ID": "AKGDH",
          "author": "Khodayari",
          "relative_error": 33.32433328772251,
          "sample_id": "pfkB"
         },
         {
          "BiGG_ID": "CS",
          "author": "Khodayari",
          "relative_error": 20.233034005898592,
          "sample_id": "pfkB"
         },
         {
          "BiGG_ID": "EDA",
          "author": "Khodayari",
          "relative_error": 0,
          "sample_id": "pfkB"
         },
         {
          "BiGG_ID": "FBA",
          "author": "Khodayari",
          "relative_error": 4.930915122003825,
          "sample_id": "pfkB"
         },
         {
          "BiGG_ID": "FUM",
          "author": "Khodayari",
          "relative_error": 17.065307643905257,
          "sample_id": "pfkB"
         },
         {
          "BiGG_ID": "G6PDH2r",
          "author": "Khodayari",
          "relative_error": 176.60470694425962,
          "sample_id": "pfkB"
         },
         {
          "BiGG_ID": "GAPD",
          "author": "Khodayari",
          "relative_error": 1.2643376127536397,
          "sample_id": "pfkB"
         },
         {
          "BiGG_ID": "GLCptspp",
          "author": "Khodayari",
          "relative_error": 0.3414911842316595,
          "sample_id": "pfkB"
         },
         {
          "BiGG_ID": "GND",
          "author": "Khodayari",
          "relative_error": 219.40674484094905,
          "sample_id": "pfkB"
         },
         {
          "BiGG_ID": "ICDHyr",
          "author": "Khodayari",
          "relative_error": 40.86293534852433,
          "sample_id": "pfkB"
         },
         {
          "BiGG_ID": "ICL",
          "author": "Khodayari",
          "relative_error": 82.732574982213,
          "sample_id": "pfkB"
         },
         {
          "BiGG_ID": "MALS",
          "author": "Khodayari",
          "relative_error": 77.29126655248277,
          "sample_id": "pfkB"
         },
         {
          "BiGG_ID": "MDH",
          "author": "Khodayari",
          "relative_error": 1.2389340664654458,
          "sample_id": "pfkB"
         },
         {
          "BiGG_ID": "PDH",
          "author": "Khodayari",
          "relative_error": 0.32048519227967853,
          "sample_id": "pfkB"
         },
         {
          "BiGG_ID": "PGI",
          "author": "Khodayari",
          "relative_error": 34.97495711691726,
          "sample_id": "pfkB"
         },
         {
          "BiGG_ID": "PGM",
          "author": "Khodayari",
          "relative_error": 1.6322270368500411,
          "sample_id": "pfkB"
         },
         {
          "BiGG_ID": "PPC",
          "author": "Khodayari",
          "relative_error": 100,
          "sample_id": "pfkB"
         },
         {
          "BiGG_ID": "PTAr",
          "author": "Khodayari",
          "relative_error": 0,
          "sample_id": "pfkB"
         },
         {
          "BiGG_ID": "PYK",
          "author": "Khodayari",
          "relative_error": 68.98846005778798,
          "sample_id": "pfkB"
         },
         {
          "BiGG_ID": "RPE",
          "author": "Khodayari",
          "relative_error": 500.6160651888641,
          "sample_id": "pfkB"
         },
         {
          "BiGG_ID": "RPI",
          "author": "Khodayari",
          "relative_error": 97.31791376225459,
          "sample_id": "pfkB"
         },
         {
          "BiGG_ID": "SUCDi",
          "author": "Khodayari",
          "relative_error": 23.93515806169872,
          "sample_id": "pfkB"
         },
         {
          "BiGG_ID": "TALA",
          "author": "Khodayari",
          "relative_error": 280.47891142243833,
          "sample_id": "pfkB"
         },
         {
          "BiGG_ID": "TKT1",
          "author": "Khodayari",
          "relative_error": 296.3419169183206,
          "sample_id": "pfkB"
         },
         {
          "BiGG_ID": "TPI",
          "author": "Khodayari",
          "relative_error": 4.494286905631378,
          "sample_id": "pfkB"
         },
         {
          "BiGG_ID": "AKGDH",
          "author": "Khodayari",
          "relative_error": 18.97371939866745,
          "sample_id": "pgi"
         },
         {
          "BiGG_ID": "CS",
          "author": "Khodayari",
          "relative_error": 10.223217165697436,
          "sample_id": "pgi"
         },
         {
          "BiGG_ID": "EDA",
          "author": "Khodayari",
          "relative_error": 100,
          "sample_id": "pgi"
         },
         {
          "BiGG_ID": "FBA",
          "author": "Khodayari",
          "relative_error": 26.28577659346454,
          "sample_id": "pgi"
         },
         {
          "BiGG_ID": "FUM",
          "author": "Khodayari",
          "relative_error": 36.90656137025428,
          "sample_id": "pgi"
         },
         {
          "BiGG_ID": "G6PDH2r",
          "author": "Khodayari",
          "relative_error": 6.334810847516695,
          "sample_id": "pgi"
         },
         {
          "BiGG_ID": "GAPD",
          "author": "Khodayari",
          "relative_error": 8.558521633828,
          "sample_id": "pgi"
         },
         {
          "BiGG_ID": "GLCptspp",
          "author": "Khodayari",
          "relative_error": 2.1923355282443735,
          "sample_id": "pgi"
         },
         {
          "BiGG_ID": "GND",
          "author": "Khodayari",
          "relative_error": 31.265002395527976,
          "sample_id": "pgi"
         },
         {
          "BiGG_ID": "ICDHyr",
          "author": "Khodayari",
          "relative_error": 9.598957553878314,
          "sample_id": "pgi"
         },
         {
          "BiGG_ID": "ICL",
          "author": "Khodayari",
          "relative_error": 83.51536064686483,
          "sample_id": "pgi"
         },
         {
          "BiGG_ID": "MALS",
          "author": "Khodayari",
          "relative_error": 128.72907448823037,
          "sample_id": "pgi"
         },
         {
          "BiGG_ID": "MDH",
          "author": "Khodayari",
          "relative_error": 58.67736671907004,
          "sample_id": "pgi"
         },
         {
          "BiGG_ID": "PDH",
          "author": "Khodayari",
          "relative_error": 12.741288954533786,
          "sample_id": "pgi"
         },
         {
          "BiGG_ID": "PGI",
          "author": "Khodayari",
          "relative_error": 0,
          "sample_id": "pgi"
         },
         {
          "BiGG_ID": "PGM",
          "author": "Khodayari",
          "relative_error": 3.612956178183023,
          "sample_id": "pgi"
         },
         {
          "BiGG_ID": "PPC",
          "author": "Khodayari",
          "relative_error": 100,
          "sample_id": "pgi"
         },
         {
          "BiGG_ID": "PTAr",
          "author": "Khodayari",
          "relative_error": 100,
          "sample_id": "pgi"
         },
         {
          "BiGG_ID": "PYK",
          "author": "Khodayari",
          "relative_error": 12.083944670628822,
          "sample_id": "pgi"
         },
         {
          "BiGG_ID": "RPE",
          "author": "Khodayari",
          "relative_error": 22.60560544275142,
          "sample_id": "pgi"
         },
         {
          "BiGG_ID": "RPI",
          "author": "Khodayari",
          "relative_error": 32.21728751859059,
          "sample_id": "pgi"
         },
         {
          "BiGG_ID": "SUCDi",
          "author": "Khodayari",
          "relative_error": 7.539710425607702,
          "sample_id": "pgi"
         },
         {
          "BiGG_ID": "TALA",
          "author": "Khodayari",
          "relative_error": 15.07240881858089,
          "sample_id": "pgi"
         },
         {
          "BiGG_ID": "TKT1",
          "author": "Khodayari",
          "relative_error": 38.44214729624832,
          "sample_id": "pgi"
         },
         {
          "BiGG_ID": "TPI",
          "author": "Khodayari",
          "relative_error": 26.206960607674468,
          "sample_id": "pgi"
         },
         {
          "BiGG_ID": "AKGDH",
          "author": "Khodayari",
          "relative_error": 10.862023498550046,
          "sample_id": "pgl"
         },
         {
          "BiGG_ID": "CS",
          "author": "Khodayari",
          "relative_error": 5.685017125100175,
          "sample_id": "pgl"
         },
         {
          "BiGG_ID": "EDA",
          "author": "Khodayari",
          "relative_error": 0,
          "sample_id": "pgl"
         },
         {
          "BiGG_ID": "FBA",
          "author": "Khodayari",
          "relative_error": 1.1743688053639334,
          "sample_id": "pgl"
         },
         {
          "BiGG_ID": "FUM",
          "author": "Khodayari",
          "relative_error": 3.820403384045669,
          "sample_id": "pgl"
         },
         {
          "BiGG_ID": "G6PDH2r",
          "author": "Khodayari",
          "relative_error": 0.2662926108018705,
          "sample_id": "pgl"
         },
         {
          "BiGG_ID": "GAPD",
          "author": "Khodayari",
          "relative_error": 1.7009130754549886,
          "sample_id": "pgl"
         },
         {
          "BiGG_ID": "GLCptspp",
          "author": "Khodayari",
          "relative_error": 0.13851454801477875,
          "sample_id": "pgl"
         },
         {
          "BiGG_ID": "GND",
          "author": "Khodayari",
          "relative_error": 0.5064341520398966,
          "sample_id": "pgl"
         },
         {
          "BiGG_ID": "ICDHyr",
          "author": "Khodayari",
          "relative_error": 9.262683553472174,
          "sample_id": "pgl"
         },
         {
          "BiGG_ID": "ICL",
          "author": "Khodayari",
          "relative_error": 13.031382929240786,
          "sample_id": "pgl"
         },
         {
          "BiGG_ID": "MALS",
          "author": "Khodayari",
          "relative_error": 11.394370183478387,
          "sample_id": "pgl"
         },
         {
          "BiGG_ID": "MDH",
          "author": "Khodayari",
          "relative_error": 5.425037643805207,
          "sample_id": "pgl"
         },
         {
          "BiGG_ID": "PDH",
          "author": "Khodayari",
          "relative_error": 5.415383053241563,
          "sample_id": "pgl"
         },
         {
          "BiGG_ID": "PGI",
          "author": "Khodayari",
          "relative_error": 0.2153269896483363,
          "sample_id": "pgl"
         },
         {
          "BiGG_ID": "PGM",
          "author": "Khodayari",
          "relative_error": 2.186949124206395,
          "sample_id": "pgl"
         },
         {
          "BiGG_ID": "PPC",
          "author": "Khodayari",
          "relative_error": 56.18024026633607,
          "sample_id": "pgl"
         },
         {
          "BiGG_ID": "PTAr",
          "author": "Khodayari",
          "relative_error": 0,
          "sample_id": "pgl"
         },
         {
          "BiGG_ID": "PYK",
          "author": "Khodayari",
          "relative_error": 44.65978960220936,
          "sample_id": "pgl"
         },
         {
          "BiGG_ID": "RPE",
          "author": "Khodayari",
          "relative_error": 4.314441017451289,
          "sample_id": "pgl"
         },
         {
          "BiGG_ID": "RPI",
          "author": "Khodayari",
          "relative_error": 2.140182975729581,
          "sample_id": "pgl"
         },
         {
          "BiGG_ID": "SUCDi",
          "author": "Khodayari",
          "relative_error": 8.181682343741365,
          "sample_id": "pgl"
         },
         {
          "BiGG_ID": "TALA",
          "author": "Khodayari",
          "relative_error": 4.465415815788512,
          "sample_id": "pgl"
         },
         {
          "BiGG_ID": "TKT1",
          "author": "Khodayari",
          "relative_error": 3.9562803691179544,
          "sample_id": "pgl"
         },
         {
          "BiGG_ID": "TPI",
          "author": "Khodayari",
          "relative_error": 1.2407669663212004,
          "sample_id": "pgl"
         },
         {
          "BiGG_ID": "AKGDH",
          "author": "Khodayari",
          "relative_error": null,
          "sample_id": "pgm"
         },
         {
          "BiGG_ID": "CS",
          "author": "Khodayari",
          "relative_error": null,
          "sample_id": "pgm"
         },
         {
          "BiGG_ID": "EDA",
          "author": "Khodayari",
          "relative_error": null,
          "sample_id": "pgm"
         },
         {
          "BiGG_ID": "FBA",
          "author": "Khodayari",
          "relative_error": null,
          "sample_id": "pgm"
         },
         {
          "BiGG_ID": "FUM",
          "author": "Khodayari",
          "relative_error": null,
          "sample_id": "pgm"
         },
         {
          "BiGG_ID": "G6PDH2r",
          "author": "Khodayari",
          "relative_error": null,
          "sample_id": "pgm"
         },
         {
          "BiGG_ID": "GAPD",
          "author": "Khodayari",
          "relative_error": null,
          "sample_id": "pgm"
         },
         {
          "BiGG_ID": "GLCptspp",
          "author": "Khodayari",
          "relative_error": null,
          "sample_id": "pgm"
         },
         {
          "BiGG_ID": "GND",
          "author": "Khodayari",
          "relative_error": null,
          "sample_id": "pgm"
         },
         {
          "BiGG_ID": "ICDHyr",
          "author": "Khodayari",
          "relative_error": null,
          "sample_id": "pgm"
         },
         {
          "BiGG_ID": "ICL",
          "author": "Khodayari",
          "relative_error": null,
          "sample_id": "pgm"
         },
         {
          "BiGG_ID": "MALS",
          "author": "Khodayari",
          "relative_error": null,
          "sample_id": "pgm"
         },
         {
          "BiGG_ID": "MDH",
          "author": "Khodayari",
          "relative_error": null,
          "sample_id": "pgm"
         },
         {
          "BiGG_ID": "PDH",
          "author": "Khodayari",
          "relative_error": null,
          "sample_id": "pgm"
         },
         {
          "BiGG_ID": "PGI",
          "author": "Khodayari",
          "relative_error": null,
          "sample_id": "pgm"
         },
         {
          "BiGG_ID": "PGM",
          "author": "Khodayari",
          "relative_error": null,
          "sample_id": "pgm"
         },
         {
          "BiGG_ID": "PPC",
          "author": "Khodayari",
          "relative_error": null,
          "sample_id": "pgm"
         },
         {
          "BiGG_ID": "PTAr",
          "author": "Khodayari",
          "relative_error": null,
          "sample_id": "pgm"
         },
         {
          "BiGG_ID": "PYK",
          "author": "Khodayari",
          "relative_error": null,
          "sample_id": "pgm"
         },
         {
          "BiGG_ID": "RPE",
          "author": "Khodayari",
          "relative_error": null,
          "sample_id": "pgm"
         },
         {
          "BiGG_ID": "RPI",
          "author": "Khodayari",
          "relative_error": null,
          "sample_id": "pgm"
         },
         {
          "BiGG_ID": "SUCDi",
          "author": "Khodayari",
          "relative_error": null,
          "sample_id": "pgm"
         },
         {
          "BiGG_ID": "TALA",
          "author": "Khodayari",
          "relative_error": null,
          "sample_id": "pgm"
         },
         {
          "BiGG_ID": "TKT1",
          "author": "Khodayari",
          "relative_error": null,
          "sample_id": "pgm"
         },
         {
          "BiGG_ID": "TPI",
          "author": "Khodayari",
          "relative_error": null,
          "sample_id": "pgm"
         },
         {
          "BiGG_ID": "AKGDH",
          "author": "Khodayari",
          "relative_error": null,
          "sample_id": "ppc"
         },
         {
          "BiGG_ID": "CS",
          "author": "Khodayari",
          "relative_error": null,
          "sample_id": "ppc"
         },
         {
          "BiGG_ID": "EDA",
          "author": "Khodayari",
          "relative_error": null,
          "sample_id": "ppc"
         },
         {
          "BiGG_ID": "FBA",
          "author": "Khodayari",
          "relative_error": null,
          "sample_id": "ppc"
         },
         {
          "BiGG_ID": "FUM",
          "author": "Khodayari",
          "relative_error": null,
          "sample_id": "ppc"
         },
         {
          "BiGG_ID": "G6PDH2r",
          "author": "Khodayari",
          "relative_error": null,
          "sample_id": "ppc"
         },
         {
          "BiGG_ID": "GAPD",
          "author": "Khodayari",
          "relative_error": null,
          "sample_id": "ppc"
         },
         {
          "BiGG_ID": "GLCptspp",
          "author": "Khodayari",
          "relative_error": null,
          "sample_id": "ppc"
         },
         {
          "BiGG_ID": "GND",
          "author": "Khodayari",
          "relative_error": null,
          "sample_id": "ppc"
         },
         {
          "BiGG_ID": "ICDHyr",
          "author": "Khodayari",
          "relative_error": null,
          "sample_id": "ppc"
         },
         {
          "BiGG_ID": "ICL",
          "author": "Khodayari",
          "relative_error": null,
          "sample_id": "ppc"
         },
         {
          "BiGG_ID": "MALS",
          "author": "Khodayari",
          "relative_error": null,
          "sample_id": "ppc"
         },
         {
          "BiGG_ID": "MDH",
          "author": "Khodayari",
          "relative_error": null,
          "sample_id": "ppc"
         },
         {
          "BiGG_ID": "PDH",
          "author": "Khodayari",
          "relative_error": null,
          "sample_id": "ppc"
         },
         {
          "BiGG_ID": "PGI",
          "author": "Khodayari",
          "relative_error": null,
          "sample_id": "ppc"
         },
         {
          "BiGG_ID": "PGM",
          "author": "Khodayari",
          "relative_error": null,
          "sample_id": "ppc"
         },
         {
          "BiGG_ID": "PPC",
          "author": "Khodayari",
          "relative_error": null,
          "sample_id": "ppc"
         },
         {
          "BiGG_ID": "PTAr",
          "author": "Khodayari",
          "relative_error": null,
          "sample_id": "ppc"
         },
         {
          "BiGG_ID": "PYK",
          "author": "Khodayari",
          "relative_error": null,
          "sample_id": "ppc"
         },
         {
          "BiGG_ID": "RPE",
          "author": "Khodayari",
          "relative_error": null,
          "sample_id": "ppc"
         },
         {
          "BiGG_ID": "RPI",
          "author": "Khodayari",
          "relative_error": null,
          "sample_id": "ppc"
         },
         {
          "BiGG_ID": "SUCDi",
          "author": "Khodayari",
          "relative_error": null,
          "sample_id": "ppc"
         },
         {
          "BiGG_ID": "TALA",
          "author": "Khodayari",
          "relative_error": null,
          "sample_id": "ppc"
         },
         {
          "BiGG_ID": "TKT1",
          "author": "Khodayari",
          "relative_error": null,
          "sample_id": "ppc"
         },
         {
          "BiGG_ID": "TPI",
          "author": "Khodayari",
          "relative_error": null,
          "sample_id": "ppc"
         },
         {
          "BiGG_ID": "AKGDH",
          "author": "Khodayari",
          "relative_error": 25.839456990652053,
          "sample_id": "ppsA"
         },
         {
          "BiGG_ID": "CS",
          "author": "Khodayari",
          "relative_error": 10.777456597814956,
          "sample_id": "ppsA"
         },
         {
          "BiGG_ID": "EDA",
          "author": "Khodayari",
          "relative_error": 0,
          "sample_id": "ppsA"
         },
         {
          "BiGG_ID": "FBA",
          "author": "Khodayari",
          "relative_error": 6.9593230787757765,
          "sample_id": "ppsA"
         },
         {
          "BiGG_ID": "FUM",
          "author": "Khodayari",
          "relative_error": 12.230851381100422,
          "sample_id": "ppsA"
         },
         {
          "BiGG_ID": "G6PDH2r",
          "author": "Khodayari",
          "relative_error": 64.3154600984947,
          "sample_id": "ppsA"
         },
         {
          "BiGG_ID": "GAPD",
          "author": "Khodayari",
          "relative_error": 5.298197387721889,
          "sample_id": "ppsA"
         },
         {
          "BiGG_ID": "GLCptspp",
          "author": "Khodayari",
          "relative_error": 0.1148609803582617,
          "sample_id": "ppsA"
         },
         {
          "BiGG_ID": "GND",
          "author": "Khodayari",
          "relative_error": 47.30403943570985,
          "sample_id": "ppsA"
         },
         {
          "BiGG_ID": "ICDHyr",
          "author": "Khodayari",
          "relative_error": 1.1514262457213404,
          "sample_id": "ppsA"
         },
         {
          "BiGG_ID": "ICL",
          "author": "Khodayari",
          "relative_error": 100,
          "sample_id": "ppsA"
         },
         {
          "BiGG_ID": "MALS",
          "author": "Khodayari",
          "relative_error": 100,
          "sample_id": "ppsA"
         },
         {
          "BiGG_ID": "MDH",
          "author": "Khodayari",
          "relative_error": 14.146623464912905,
          "sample_id": "ppsA"
         },
         {
          "BiGG_ID": "PDH",
          "author": "Khodayari",
          "relative_error": 11.069151334447465,
          "sample_id": "ppsA"
         },
         {
          "BiGG_ID": "PGI",
          "author": "Khodayari",
          "relative_error": 14.316161700176602,
          "sample_id": "ppsA"
         },
         {
          "BiGG_ID": "PGM",
          "author": "Khodayari",
          "relative_error": 8.72065944222848,
          "sample_id": "ppsA"
         },
         {
          "BiGG_ID": "PPC",
          "author": "Khodayari",
          "relative_error": 36.32624232849721,
          "sample_id": "ppsA"
         },
         {
          "BiGG_ID": "PTAr",
          "author": "Khodayari",
          "relative_error": 0,
          "sample_id": "ppsA"
         },
         {
          "BiGG_ID": "PYK",
          "author": "Khodayari",
          "relative_error": 21.43074805033755,
          "sample_id": "ppsA"
         },
         {
          "BiGG_ID": "RPE",
          "author": "Khodayari",
          "relative_error": 96.42771111213435,
          "sample_id": "ppsA"
         },
         {
          "BiGG_ID": "RPI",
          "author": "Khodayari",
          "relative_error": 12.623990277362765,
          "sample_id": "ppsA"
         },
         {
          "BiGG_ID": "SUCDi",
          "author": "Khodayari",
          "relative_error": 16.19090538579369,
          "sample_id": "ppsA"
         },
         {
          "BiGG_ID": "TALA",
          "author": "Khodayari",
          "relative_error": 36.13818943971679,
          "sample_id": "ppsA"
         },
         {
          "BiGG_ID": "TKT1",
          "author": "Khodayari",
          "relative_error": 26.86196306748175,
          "sample_id": "ppsA"
         },
         {
          "BiGG_ID": "TPI",
          "author": "Khodayari",
          "relative_error": 8.113306182651757,
          "sample_id": "ppsA"
         },
         {
          "BiGG_ID": "AKGDH",
          "author": "Khodayari",
          "relative_error": null,
          "sample_id": "pts"
         },
         {
          "BiGG_ID": "CS",
          "author": "Khodayari",
          "relative_error": null,
          "sample_id": "pts"
         },
         {
          "BiGG_ID": "EDA",
          "author": "Khodayari",
          "relative_error": null,
          "sample_id": "pts"
         },
         {
          "BiGG_ID": "FBA",
          "author": "Khodayari",
          "relative_error": null,
          "sample_id": "pts"
         },
         {
          "BiGG_ID": "FUM",
          "author": "Khodayari",
          "relative_error": null,
          "sample_id": "pts"
         },
         {
          "BiGG_ID": "G6PDH2r",
          "author": "Khodayari",
          "relative_error": null,
          "sample_id": "pts"
         },
         {
          "BiGG_ID": "GAPD",
          "author": "Khodayari",
          "relative_error": null,
          "sample_id": "pts"
         },
         {
          "BiGG_ID": "GLCptspp",
          "author": "Khodayari",
          "relative_error": 100,
          "sample_id": "pts"
         },
         {
          "BiGG_ID": "GND",
          "author": "Khodayari",
          "relative_error": null,
          "sample_id": "pts"
         },
         {
          "BiGG_ID": "ICDHyr",
          "author": "Khodayari",
          "relative_error": null,
          "sample_id": "pts"
         },
         {
          "BiGG_ID": "ICL",
          "author": "Khodayari",
          "relative_error": null,
          "sample_id": "pts"
         },
         {
          "BiGG_ID": "MALS",
          "author": "Khodayari",
          "relative_error": null,
          "sample_id": "pts"
         },
         {
          "BiGG_ID": "MDH",
          "author": "Khodayari",
          "relative_error": null,
          "sample_id": "pts"
         },
         {
          "BiGG_ID": "PDH",
          "author": "Khodayari",
          "relative_error": null,
          "sample_id": "pts"
         },
         {
          "BiGG_ID": "PGI",
          "author": "Khodayari",
          "relative_error": null,
          "sample_id": "pts"
         },
         {
          "BiGG_ID": "PGM",
          "author": "Khodayari",
          "relative_error": null,
          "sample_id": "pts"
         },
         {
          "BiGG_ID": "PPC",
          "author": "Khodayari",
          "relative_error": null,
          "sample_id": "pts"
         },
         {
          "BiGG_ID": "PTAr",
          "author": "Khodayari",
          "relative_error": null,
          "sample_id": "pts"
         },
         {
          "BiGG_ID": "PYK",
          "author": "Khodayari",
          "relative_error": null,
          "sample_id": "pts"
         },
         {
          "BiGG_ID": "RPE",
          "author": "Khodayari",
          "relative_error": null,
          "sample_id": "pts"
         },
         {
          "BiGG_ID": "RPI",
          "author": "Khodayari",
          "relative_error": null,
          "sample_id": "pts"
         },
         {
          "BiGG_ID": "SUCDi",
          "author": "Khodayari",
          "relative_error": null,
          "sample_id": "pts"
         },
         {
          "BiGG_ID": "TALA",
          "author": "Khodayari",
          "relative_error": null,
          "sample_id": "pts"
         },
         {
          "BiGG_ID": "TKT1",
          "author": "Khodayari",
          "relative_error": null,
          "sample_id": "pts"
         },
         {
          "BiGG_ID": "TPI",
          "author": "Khodayari",
          "relative_error": null,
          "sample_id": "pts"
         },
         {
          "BiGG_ID": "AKGDH",
          "author": "Khodayari",
          "relative_error": 2.826324621007006,
          "sample_id": "pykA"
         },
         {
          "BiGG_ID": "CS",
          "author": "Khodayari",
          "relative_error": 8.906479159941664,
          "sample_id": "pykA"
         },
         {
          "BiGG_ID": "EDA",
          "author": "Khodayari",
          "relative_error": 0,
          "sample_id": "pykA"
         },
         {
          "BiGG_ID": "FBA",
          "author": "Khodayari",
          "relative_error": 2.919252710045253,
          "sample_id": "pykA"
         },
         {
          "BiGG_ID": "FUM",
          "author": "Khodayari",
          "relative_error": 7.514635075541232,
          "sample_id": "pykA"
         },
         {
          "BiGG_ID": "G6PDH2r",
          "author": "Khodayari",
          "relative_error": 15.822501349737076,
          "sample_id": "pykA"
         },
         {
          "BiGG_ID": "GAPD",
          "author": "Khodayari",
          "relative_error": 5.099897760281939,
          "sample_id": "pykA"
         },
         {
          "BiGG_ID": "GLCptspp",
          "author": "Khodayari",
          "relative_error": 0.2253265405578804,
          "sample_id": "pykA"
         },
         {
          "BiGG_ID": "GND",
          "author": "Khodayari",
          "relative_error": 24.842721754307842,
          "sample_id": "pykA"
         },
         {
          "BiGG_ID": "ICDHyr",
          "author": "Khodayari",
          "relative_error": 14.637523879634792,
          "sample_id": "pykA"
         },
         {
          "BiGG_ID": "ICL",
          "author": "Khodayari",
          "relative_error": 38.82571267780151,
          "sample_id": "pykA"
         },
         {
          "BiGG_ID": "MALS",
          "author": "Khodayari",
          "relative_error": 38.58967160206371,
          "sample_id": "pykA"
         },
         {
          "BiGG_ID": "MDH",
          "author": "Khodayari",
          "relative_error": 5.5630203205274675,
          "sample_id": "pykA"
         },
         {
          "BiGG_ID": "PDH",
          "author": "Khodayari",
          "relative_error": 8.61751981362349,
          "sample_id": "pykA"
         },
         {
          "BiGG_ID": "PGI",
          "author": "Khodayari",
          "relative_error": 3.328324951345788,
          "sample_id": "pykA"
         },
         {
          "BiGG_ID": "PGM",
          "author": "Khodayari",
          "relative_error": 1.79819111488213,
          "sample_id": "pykA"
         },
         {
          "BiGG_ID": "PPC",
          "author": "Khodayari",
          "relative_error": 69.9313802154565,
          "sample_id": "pykA"
         },
         {
          "BiGG_ID": "PTAr",
          "author": "Khodayari",
          "relative_error": 0,
          "sample_id": "pykA"
         },
         {
          "BiGG_ID": "PYK",
          "author": "Khodayari",
          "relative_error": 87.66054664879364,
          "sample_id": "pykA"
         },
         {
          "BiGG_ID": "RPE",
          "author": "Khodayari",
          "relative_error": 34.63834906337545,
          "sample_id": "pykA"
         },
         {
          "BiGG_ID": "RPI",
          "author": "Khodayari",
          "relative_error": 22.11800481189207,
          "sample_id": "pykA"
         },
         {
          "BiGG_ID": "SUCDi",
          "author": "Khodayari",
          "relative_error": 9.38183667911392,
          "sample_id": "pykA"
         },
         {
          "BiGG_ID": "TALA",
          "author": "Khodayari",
          "relative_error": 16.591486423682785,
          "sample_id": "pykA"
         },
         {
          "BiGG_ID": "TKT1",
          "author": "Khodayari",
          "relative_error": 20.318435163993936,
          "sample_id": "pykA"
         },
         {
          "BiGG_ID": "TPI",
          "author": "Khodayari",
          "relative_error": 3.947228881427215,
          "sample_id": "pykA"
         },
         {
          "BiGG_ID": "AKGDH",
          "author": "Khodayari",
          "relative_error": null,
          "sample_id": "pykAF"
         },
         {
          "BiGG_ID": "CS",
          "author": "Khodayari",
          "relative_error": null,
          "sample_id": "pykAF"
         },
         {
          "BiGG_ID": "EDA",
          "author": "Khodayari",
          "relative_error": null,
          "sample_id": "pykAF"
         },
         {
          "BiGG_ID": "FBA",
          "author": "Khodayari",
          "relative_error": null,
          "sample_id": "pykAF"
         },
         {
          "BiGG_ID": "FUM",
          "author": "Khodayari",
          "relative_error": null,
          "sample_id": "pykAF"
         },
         {
          "BiGG_ID": "G6PDH2r",
          "author": "Khodayari",
          "relative_error": null,
          "sample_id": "pykAF"
         },
         {
          "BiGG_ID": "GAPD",
          "author": "Khodayari",
          "relative_error": null,
          "sample_id": "pykAF"
         },
         {
          "BiGG_ID": "GLCptspp",
          "author": "Khodayari",
          "relative_error": null,
          "sample_id": "pykAF"
         },
         {
          "BiGG_ID": "GND",
          "author": "Khodayari",
          "relative_error": null,
          "sample_id": "pykAF"
         },
         {
          "BiGG_ID": "ICDHyr",
          "author": "Khodayari",
          "relative_error": null,
          "sample_id": "pykAF"
         },
         {
          "BiGG_ID": "ICL",
          "author": "Khodayari",
          "relative_error": null,
          "sample_id": "pykAF"
         },
         {
          "BiGG_ID": "MALS",
          "author": "Khodayari",
          "relative_error": null,
          "sample_id": "pykAF"
         },
         {
          "BiGG_ID": "MDH",
          "author": "Khodayari",
          "relative_error": null,
          "sample_id": "pykAF"
         },
         {
          "BiGG_ID": "PDH",
          "author": "Khodayari",
          "relative_error": null,
          "sample_id": "pykAF"
         },
         {
          "BiGG_ID": "PGI",
          "author": "Khodayari",
          "relative_error": null,
          "sample_id": "pykAF"
         },
         {
          "BiGG_ID": "PGM",
          "author": "Khodayari",
          "relative_error": null,
          "sample_id": "pykAF"
         },
         {
          "BiGG_ID": "PPC",
          "author": "Khodayari",
          "relative_error": null,
          "sample_id": "pykAF"
         },
         {
          "BiGG_ID": "PTAr",
          "author": "Khodayari",
          "relative_error": null,
          "sample_id": "pykAF"
         },
         {
          "BiGG_ID": "PYK",
          "author": "Khodayari",
          "relative_error": null,
          "sample_id": "pykAF"
         },
         {
          "BiGG_ID": "RPE",
          "author": "Khodayari",
          "relative_error": null,
          "sample_id": "pykAF"
         },
         {
          "BiGG_ID": "RPI",
          "author": "Khodayari",
          "relative_error": null,
          "sample_id": "pykAF"
         },
         {
          "BiGG_ID": "SUCDi",
          "author": "Khodayari",
          "relative_error": null,
          "sample_id": "pykAF"
         },
         {
          "BiGG_ID": "TALA",
          "author": "Khodayari",
          "relative_error": null,
          "sample_id": "pykAF"
         },
         {
          "BiGG_ID": "TKT1",
          "author": "Khodayari",
          "relative_error": null,
          "sample_id": "pykAF"
         },
         {
          "BiGG_ID": "TPI",
          "author": "Khodayari",
          "relative_error": null,
          "sample_id": "pykAF"
         },
         {
          "BiGG_ID": "AKGDH",
          "author": "Khodayari",
          "relative_error": 34.40080635417109,
          "sample_id": "pykF"
         },
         {
          "BiGG_ID": "CS",
          "author": "Khodayari",
          "relative_error": 16.335529010141855,
          "sample_id": "pykF"
         },
         {
          "BiGG_ID": "EDA",
          "author": "Khodayari",
          "relative_error": 0,
          "sample_id": "pykF"
         },
         {
          "BiGG_ID": "FBA",
          "author": "Khodayari",
          "relative_error": 3.2146391285498335,
          "sample_id": "pykF"
         },
         {
          "BiGG_ID": "FUM",
          "author": "Khodayari",
          "relative_error": 15.922506129873126,
          "sample_id": "pykF"
         },
         {
          "BiGG_ID": "G6PDH2r",
          "author": "Khodayari",
          "relative_error": 138.89137108777948,
          "sample_id": "pykF"
         },
         {
          "BiGG_ID": "GAPD",
          "author": "Khodayari",
          "relative_error": 6.490505602031808,
          "sample_id": "pykF"
         },
         {
          "BiGG_ID": "GLCptspp",
          "author": "Khodayari",
          "relative_error": 0.0974928990024708,
          "sample_id": "pykF"
         },
         {
          "BiGG_ID": "GND",
          "author": "Khodayari",
          "relative_error": 176.3447121047274,
          "sample_id": "pykF"
         },
         {
          "BiGG_ID": "ICDHyr",
          "author": "Khodayari",
          "relative_error": 39.915923235011014,
          "sample_id": "pykF"
         },
         {
          "BiGG_ID": "ICL",
          "author": "Khodayari",
          "relative_error": 140.0250012644268,
          "sample_id": "pykF"
         },
         {
          "BiGG_ID": "MALS",
          "author": "Khodayari",
          "relative_error": 139.315149239948,
          "sample_id": "pykF"
         },
         {
          "BiGG_ID": "MDH",
          "author": "Khodayari",
          "relative_error": 3.545410209932831,
          "sample_id": "pykF"
         },
         {
          "BiGG_ID": "PDH",
          "author": "Khodayari",
          "relative_error": 17.102791094810758,
          "sample_id": "pykF"
         },
         {
          "BiGG_ID": "PGI",
          "author": "Khodayari",
          "relative_error": 37.09859385035546,
          "sample_id": "pykF"
         },
         {
          "BiGG_ID": "PGM",
          "author": "Khodayari",
          "relative_error": 2.1750829689570494,
          "sample_id": "pykF"
         },
         {
          "BiGG_ID": "PPC",
          "author": "Khodayari",
          "relative_error": 100,
          "sample_id": "pykF"
         },
         {
          "BiGG_ID": "PTAr",
          "author": "Khodayari",
          "relative_error": 0,
          "sample_id": "pykF"
         },
         {
          "BiGG_ID": "PYK",
          "author": "Khodayari",
          "relative_error": 141.84619220235402,
          "sample_id": "pykF"
         },
         {
          "BiGG_ID": "RPE",
          "author": "Khodayari",
          "relative_error": 298.0763494702817,
          "sample_id": "pykF"
         },
         {
          "BiGG_ID": "RPI",
          "author": "Khodayari",
          "relative_error": 116.32912255066718,
          "sample_id": "pykF"
         },
         {
          "BiGG_ID": "SUCDi",
          "author": "Khodayari",
          "relative_error": 17.100786165771204,
          "sample_id": "pykF"
         },
         {
          "BiGG_ID": "TALA",
          "author": "Khodayari",
          "relative_error": 180.333307669107,
          "sample_id": "pykF"
         },
         {
          "BiGG_ID": "TKT1",
          "author": "Khodayari",
          "relative_error": 203.29096563903758,
          "sample_id": "pykF"
         },
         {
          "BiGG_ID": "TPI",
          "author": "Khodayari",
          "relative_error": 1.1153476055457718,
          "sample_id": "pykF"
         },
         {
          "BiGG_ID": "AKGDH",
          "author": "Khodayari",
          "relative_error": 47.64937102715222,
          "sample_id": "rpe"
         },
         {
          "BiGG_ID": "CS",
          "author": "Khodayari",
          "relative_error": 17.824122171957193,
          "sample_id": "rpe"
         },
         {
          "BiGG_ID": "EDA",
          "author": "Khodayari",
          "relative_error": 0,
          "sample_id": "rpe"
         },
         {
          "BiGG_ID": "FBA",
          "author": "Khodayari",
          "relative_error": 8.43885810661676,
          "sample_id": "rpe"
         },
         {
          "BiGG_ID": "FUM",
          "author": "Khodayari",
          "relative_error": 24.65358346078031,
          "sample_id": "rpe"
         },
         {
          "BiGG_ID": "G6PDH2r",
          "author": "Khodayari",
          "relative_error": 64.88744062325455,
          "sample_id": "rpe"
         },
         {
          "BiGG_ID": "GAPD",
          "author": "Khodayari",
          "relative_error": 6.671446579849556,
          "sample_id": "rpe"
         },
         {
          "BiGG_ID": "GLCptspp",
          "author": "Khodayari",
          "relative_error": 0.011799567025874185,
          "sample_id": "rpe"
         },
         {
          "BiGG_ID": "GND",
          "author": "Khodayari",
          "relative_error": 62.11696564121061,
          "sample_id": "rpe"
         },
         {
          "BiGG_ID": "ICDHyr",
          "author": "Khodayari",
          "relative_error": 15.837944780176969,
          "sample_id": "rpe"
         },
         {
          "BiGG_ID": "ICL",
          "author": "Khodayari",
          "relative_error": 26.866544245855966,
          "sample_id": "rpe"
         },
         {
          "BiGG_ID": "MALS",
          "author": "Khodayari",
          "relative_error": 26.1679424363656,
          "sample_id": "rpe"
         },
         {
          "BiGG_ID": "MDH",
          "author": "Khodayari",
          "relative_error": 35.89414856317389,
          "sample_id": "rpe"
         },
         {
          "BiGG_ID": "PDH",
          "author": "Khodayari",
          "relative_error": 22.731035852910324,
          "sample_id": "rpe"
         },
         {
          "BiGG_ID": "PGI",
          "author": "Khodayari",
          "relative_error": 17.792953904495292,
          "sample_id": "rpe"
         },
         {
          "BiGG_ID": "PGM",
          "author": "Khodayari",
          "relative_error": 4.743763638041563,
          "sample_id": "rpe"
         },
         {
          "BiGG_ID": "PPC",
          "author": "Khodayari",
          "relative_error": 100,
          "sample_id": "rpe"
         },
         {
          "BiGG_ID": "PTAr",
          "author": "Khodayari",
          "relative_error": 0,
          "sample_id": "rpe"
         },
         {
          "BiGG_ID": "PYK",
          "author": "Khodayari",
          "relative_error": 98.56512149169572,
          "sample_id": "rpe"
         },
         {
          "BiGG_ID": "RPE",
          "author": "Khodayari",
          "relative_error": 0,
          "sample_id": "rpe"
         },
         {
          "BiGG_ID": "RPI",
          "author": "Khodayari",
          "relative_error": 50.15151525976004,
          "sample_id": "rpe"
         },
         {
          "BiGG_ID": "SUCDi",
          "author": "Khodayari",
          "relative_error": 20.75293376562614,
          "sample_id": "rpe"
         },
         {
          "BiGG_ID": "TALA",
          "author": "Khodayari",
          "relative_error": 80.83692209186611,
          "sample_id": "rpe"
         },
         {
          "BiGG_ID": "TKT1",
          "author": "Khodayari",
          "relative_error": 73.44382644480831,
          "sample_id": "rpe"
         },
         {
          "BiGG_ID": "TPI",
          "author": "Khodayari",
          "relative_error": 7.556481232582686,
          "sample_id": "rpe"
         },
         {
          "BiGG_ID": "AKGDH",
          "author": "Khodayari",
          "relative_error": 3.1298293800789025,
          "sample_id": "rpiA"
         },
         {
          "BiGG_ID": "CS",
          "author": "Khodayari",
          "relative_error": 9.250415898361918,
          "sample_id": "rpiA"
         },
         {
          "BiGG_ID": "EDA",
          "author": "Khodayari",
          "relative_error": 100,
          "sample_id": "rpiA"
         },
         {
          "BiGG_ID": "FBA",
          "author": "Khodayari",
          "relative_error": 3.4440327259512857,
          "sample_id": "rpiA"
         },
         {
          "BiGG_ID": "FUM",
          "author": "Khodayari",
          "relative_error": 23.572270542220927,
          "sample_id": "rpiA"
         },
         {
          "BiGG_ID": "G6PDH2r",
          "author": "Khodayari",
          "relative_error": 7.426187507112678,
          "sample_id": "rpiA"
         },
         {
          "BiGG_ID": "GAPD",
          "author": "Khodayari",
          "relative_error": 11.624917732670275,
          "sample_id": "rpiA"
         },
         {
          "BiGG_ID": "GLCptspp",
          "author": "Khodayari",
          "relative_error": 1.8364757879469111,
          "sample_id": "rpiA"
         },
         {
          "BiGG_ID": "GND",
          "author": "Khodayari",
          "relative_error": 65.20664532614397,
          "sample_id": "rpiA"
         },
         {
          "BiGG_ID": "ICDHyr",
          "author": "Khodayari",
          "relative_error": 3.9534008100815616,
          "sample_id": "rpiA"
         },
         {
          "BiGG_ID": "ICL",
          "author": "Khodayari",
          "relative_error": 95.82100806912263,
          "sample_id": "rpiA"
         },
         {
          "BiGG_ID": "MALS",
          "author": "Khodayari",
          "relative_error": 97.8215178962082,
          "sample_id": "rpiA"
         },
         {
          "BiGG_ID": "MDH",
          "author": "Khodayari",
          "relative_error": 12.478773527351313,
          "sample_id": "rpiA"
         },
         {
          "BiGG_ID": "PDH",
          "author": "Khodayari",
          "relative_error": 23.512462677160055,
          "sample_id": "rpiA"
         },
         {
          "BiGG_ID": "PGI",
          "author": "Khodayari",
          "relative_error": 3.4976356748844806,
          "sample_id": "rpiA"
         },
         {
          "BiGG_ID": "PGM",
          "author": "Khodayari",
          "relative_error": 74.12948783279548,
          "sample_id": "rpiA"
         },
         {
          "BiGG_ID": "PPC",
          "author": "Khodayari",
          "relative_error": 100,
          "sample_id": "rpiA"
         },
         {
          "BiGG_ID": "PTAr",
          "author": "Khodayari",
          "relative_error": 100,
          "sample_id": "rpiA"
         },
         {
          "BiGG_ID": "PYK",
          "author": "Khodayari",
          "relative_error": 414.2078432544692,
          "sample_id": "rpiA"
         },
         {
          "BiGG_ID": "RPE",
          "author": "Khodayari",
          "relative_error": 90.20325906679928,
          "sample_id": "rpiA"
         },
         {
          "BiGG_ID": "RPI",
          "author": "Khodayari",
          "relative_error": 20.30733027232361,
          "sample_id": "rpiA"
         },
         {
          "BiGG_ID": "SUCDi",
          "author": "Khodayari",
          "relative_error": 14.145611820729817,
          "sample_id": "rpiA"
         },
         {
          "BiGG_ID": "TALA",
          "author": "Khodayari",
          "relative_error": 27.974712712326234,
          "sample_id": "rpiA"
         },
         {
          "BiGG_ID": "TKT1",
          "author": "Khodayari",
          "relative_error": 60.06197757204954,
          "sample_id": "rpiA"
         },
         {
          "BiGG_ID": "TPI",
          "author": "Khodayari",
          "relative_error": 3.3342349460004113,
          "sample_id": "rpiA"
         },
         {
          "BiGG_ID": "AKGDH",
          "author": "Khodayari",
          "relative_error": 36.07408043204855,
          "sample_id": "rpiB"
         },
         {
          "BiGG_ID": "CS",
          "author": "Khodayari",
          "relative_error": 21.38935099817991,
          "sample_id": "rpiB"
         },
         {
          "BiGG_ID": "EDA",
          "author": "Khodayari",
          "relative_error": 0,
          "sample_id": "rpiB"
         },
         {
          "BiGG_ID": "FBA",
          "author": "Khodayari",
          "relative_error": 18.43592152681379,
          "sample_id": "rpiB"
         },
         {
          "BiGG_ID": "FUM",
          "author": "Khodayari",
          "relative_error": 13.603436265119306,
          "sample_id": "rpiB"
         },
         {
          "BiGG_ID": "G6PDH2r",
          "author": "Khodayari",
          "relative_error": 43.34009676318037,
          "sample_id": "rpiB"
         },
         {
          "BiGG_ID": "GAPD",
          "author": "Khodayari",
          "relative_error": 20.156758578479465,
          "sample_id": "rpiB"
         },
         {
          "BiGG_ID": "GLCptspp",
          "author": "Khodayari",
          "relative_error": 1.8364757879469111,
          "sample_id": "rpiB"
         },
         {
          "BiGG_ID": "GND",
          "author": "Khodayari",
          "relative_error": 39.17341869542416,
          "sample_id": "rpiB"
         },
         {
          "BiGG_ID": "ICDHyr",
          "author": "Khodayari",
          "relative_error": 22.793753394705853,
          "sample_id": "rpiB"
         },
         {
          "BiGG_ID": "ICL",
          "author": "Khodayari",
          "relative_error": 21.671596772350952,
          "sample_id": "rpiB"
         },
         {
          "BiGG_ID": "MALS",
          "author": "Khodayari",
          "relative_error": 20.871392841516716,
          "sample_id": "rpiB"
         },
         {
          "BiGG_ID": "MDH",
          "author": "Khodayari",
          "relative_error": 11.690294009579706,
          "sample_id": "rpiB"
         },
         {
          "BiGG_ID": "PDH",
          "author": "Khodayari",
          "relative_error": 17.549792065159224,
          "sample_id": "rpiB"
         },
         {
          "BiGG_ID": "PGI",
          "author": "Khodayari",
          "relative_error": 21.21821762061032,
          "sample_id": "rpiB"
         },
         {
          "BiGG_ID": "PGM",
          "author": "Khodayari",
          "relative_error": 90.60119614130315,
          "sample_id": "rpiB"
         },
         {
          "BiGG_ID": "PPC",
          "author": "Khodayari",
          "relative_error": 155.3627747611213,
          "sample_id": "rpiB"
         },
         {
          "BiGG_ID": "PTAr",
          "author": "Khodayari",
          "relative_error": 100,
          "sample_id": "rpiB"
         },
         {
          "BiGG_ID": "PYK",
          "author": "Khodayari",
          "relative_error": 494.1957299829422,
          "sample_id": "rpiB"
         },
         {
          "BiGG_ID": "RPE",
          "author": "Khodayari",
          "relative_error": 8.56375129012658,
          "sample_id": "rpiB"
         },
         {
          "BiGG_ID": "RPI",
          "author": "Khodayari",
          "relative_error": 167.3496228273858,
          "sample_id": "rpiB"
         },
         {
          "BiGG_ID": "SUCDi",
          "author": "Khodayari",
          "relative_error": 2.9472133625641423,
          "sample_id": "rpiB"
         },
         {
          "BiGG_ID": "TALA",
          "author": "Khodayari",
          "relative_error": 260.12643643836884,
          "sample_id": "rpiB"
         },
         {
          "BiGG_ID": "TKT1",
          "author": "Khodayari",
          "relative_error": 99.6901121397523,
          "sample_id": "rpiB"
         },
         {
          "BiGG_ID": "TPI",
          "author": "Khodayari",
          "relative_error": 18.310211025130908,
          "sample_id": "rpiB"
         },
         {
          "BiGG_ID": "AKGDH",
          "author": "Khodayari",
          "relative_error": null,
          "sample_id": "sdhCD"
         },
         {
          "BiGG_ID": "CS",
          "author": "Khodayari",
          "relative_error": null,
          "sample_id": "sdhCD"
         },
         {
          "BiGG_ID": "EDA",
          "author": "Khodayari",
          "relative_error": 100,
          "sample_id": "sdhCD"
         },
         {
          "BiGG_ID": "FBA",
          "author": "Khodayari",
          "relative_error": null,
          "sample_id": "sdhCD"
         },
         {
          "BiGG_ID": "FUM",
          "author": "Khodayari",
          "relative_error": null,
          "sample_id": "sdhCD"
         },
         {
          "BiGG_ID": "G6PDH2r",
          "author": "Khodayari",
          "relative_error": null,
          "sample_id": "sdhCD"
         },
         {
          "BiGG_ID": "GAPD",
          "author": "Khodayari",
          "relative_error": null,
          "sample_id": "sdhCD"
         },
         {
          "BiGG_ID": "GLCptspp",
          "author": "Khodayari",
          "relative_error": null,
          "sample_id": "sdhCD"
         },
         {
          "BiGG_ID": "GND",
          "author": "Khodayari",
          "relative_error": null,
          "sample_id": "sdhCD"
         },
         {
          "BiGG_ID": "ICDHyr",
          "author": "Khodayari",
          "relative_error": null,
          "sample_id": "sdhCD"
         },
         {
          "BiGG_ID": "ICL",
          "author": "Khodayari",
          "relative_error": 100,
          "sample_id": "sdhCD"
         },
         {
          "BiGG_ID": "MALS",
          "author": "Khodayari",
          "relative_error": null,
          "sample_id": "sdhCD"
         },
         {
          "BiGG_ID": "MDH",
          "author": "Khodayari",
          "relative_error": null,
          "sample_id": "sdhCD"
         },
         {
          "BiGG_ID": "PDH",
          "author": "Khodayari",
          "relative_error": null,
          "sample_id": "sdhCD"
         },
         {
          "BiGG_ID": "PGI",
          "author": "Khodayari",
          "relative_error": null,
          "sample_id": "sdhCD"
         },
         {
          "BiGG_ID": "PGM",
          "author": "Khodayari",
          "relative_error": null,
          "sample_id": "sdhCD"
         },
         {
          "BiGG_ID": "PPC",
          "author": "Khodayari",
          "relative_error": null,
          "sample_id": "sdhCD"
         },
         {
          "BiGG_ID": "PTAr",
          "author": "Khodayari",
          "relative_error": null,
          "sample_id": "sdhCD"
         },
         {
          "BiGG_ID": "PYK",
          "author": "Khodayari",
          "relative_error": null,
          "sample_id": "sdhCD"
         },
         {
          "BiGG_ID": "RPE",
          "author": "Khodayari",
          "relative_error": null,
          "sample_id": "sdhCD"
         },
         {
          "BiGG_ID": "RPI",
          "author": "Khodayari",
          "relative_error": null,
          "sample_id": "sdhCD"
         },
         {
          "BiGG_ID": "SUCDi",
          "author": "Khodayari",
          "relative_error": 100,
          "sample_id": "sdhCD"
         },
         {
          "BiGG_ID": "TALA",
          "author": "Khodayari",
          "relative_error": null,
          "sample_id": "sdhCD"
         },
         {
          "BiGG_ID": "TKT1",
          "author": "Khodayari",
          "relative_error": null,
          "sample_id": "sdhCD"
         },
         {
          "BiGG_ID": "TPI",
          "author": "Khodayari",
          "relative_error": null,
          "sample_id": "sdhCD"
         },
         {
          "BiGG_ID": "AKGDH",
          "author": "Khodayari",
          "relative_error": 100,
          "sample_id": "sucA"
         },
         {
          "BiGG_ID": "CS",
          "author": "Khodayari",
          "relative_error": null,
          "sample_id": "sucA"
         },
         {
          "BiGG_ID": "EDA",
          "author": "Khodayari",
          "relative_error": 100,
          "sample_id": "sucA"
         },
         {
          "BiGG_ID": "FBA",
          "author": "Khodayari",
          "relative_error": null,
          "sample_id": "sucA"
         },
         {
          "BiGG_ID": "FUM",
          "author": "Khodayari",
          "relative_error": null,
          "sample_id": "sucA"
         },
         {
          "BiGG_ID": "G6PDH2r",
          "author": "Khodayari",
          "relative_error": null,
          "sample_id": "sucA"
         },
         {
          "BiGG_ID": "GAPD",
          "author": "Khodayari",
          "relative_error": null,
          "sample_id": "sucA"
         },
         {
          "BiGG_ID": "GLCptspp",
          "author": "Khodayari",
          "relative_error": null,
          "sample_id": "sucA"
         },
         {
          "BiGG_ID": "GND",
          "author": "Khodayari",
          "relative_error": null,
          "sample_id": "sucA"
         },
         {
          "BiGG_ID": "ICDHyr",
          "author": "Khodayari",
          "relative_error": null,
          "sample_id": "sucA"
         },
         {
          "BiGG_ID": "ICL",
          "author": "Khodayari",
          "relative_error": null,
          "sample_id": "sucA"
         },
         {
          "BiGG_ID": "MALS",
          "author": "Khodayari",
          "relative_error": null,
          "sample_id": "sucA"
         },
         {
          "BiGG_ID": "MDH",
          "author": "Khodayari",
          "relative_error": null,
          "sample_id": "sucA"
         },
         {
          "BiGG_ID": "PDH",
          "author": "Khodayari",
          "relative_error": null,
          "sample_id": "sucA"
         },
         {
          "BiGG_ID": "PGI",
          "author": "Khodayari",
          "relative_error": null,
          "sample_id": "sucA"
         },
         {
          "BiGG_ID": "PGM",
          "author": "Khodayari",
          "relative_error": null,
          "sample_id": "sucA"
         },
         {
          "BiGG_ID": "PPC",
          "author": "Khodayari",
          "relative_error": null,
          "sample_id": "sucA"
         },
         {
          "BiGG_ID": "PTAr",
          "author": "Khodayari",
          "relative_error": 100,
          "sample_id": "sucA"
         },
         {
          "BiGG_ID": "PYK",
          "author": "Khodayari",
          "relative_error": null,
          "sample_id": "sucA"
         },
         {
          "BiGG_ID": "RPE",
          "author": "Khodayari",
          "relative_error": null,
          "sample_id": "sucA"
         },
         {
          "BiGG_ID": "RPI",
          "author": "Khodayari",
          "relative_error": null,
          "sample_id": "sucA"
         },
         {
          "BiGG_ID": "SUCDi",
          "author": "Khodayari",
          "relative_error": null,
          "sample_id": "sucA"
         },
         {
          "BiGG_ID": "TALA",
          "author": "Khodayari",
          "relative_error": null,
          "sample_id": "sucA"
         },
         {
          "BiGG_ID": "TKT1",
          "author": "Khodayari",
          "relative_error": null,
          "sample_id": "sucA"
         },
         {
          "BiGG_ID": "TPI",
          "author": "Khodayari",
          "relative_error": null,
          "sample_id": "sucA"
         },
         {
          "BiGG_ID": "AKGDH",
          "author": "Khodayari",
          "relative_error": null,
          "sample_id": "sucAB"
         },
         {
          "BiGG_ID": "CS",
          "author": "Khodayari",
          "relative_error": null,
          "sample_id": "sucAB"
         },
         {
          "BiGG_ID": "EDA",
          "author": "Khodayari",
          "relative_error": null,
          "sample_id": "sucAB"
         },
         {
          "BiGG_ID": "FBA",
          "author": "Khodayari",
          "relative_error": null,
          "sample_id": "sucAB"
         },
         {
          "BiGG_ID": "FUM",
          "author": "Khodayari",
          "relative_error": null,
          "sample_id": "sucAB"
         },
         {
          "BiGG_ID": "G6PDH2r",
          "author": "Khodayari",
          "relative_error": null,
          "sample_id": "sucAB"
         },
         {
          "BiGG_ID": "GAPD",
          "author": "Khodayari",
          "relative_error": null,
          "sample_id": "sucAB"
         },
         {
          "BiGG_ID": "GLCptspp",
          "author": "Khodayari",
          "relative_error": null,
          "sample_id": "sucAB"
         },
         {
          "BiGG_ID": "GND",
          "author": "Khodayari",
          "relative_error": null,
          "sample_id": "sucAB"
         },
         {
          "BiGG_ID": "ICDHyr",
          "author": "Khodayari",
          "relative_error": null,
          "sample_id": "sucAB"
         },
         {
          "BiGG_ID": "ICL",
          "author": "Khodayari",
          "relative_error": null,
          "sample_id": "sucAB"
         },
         {
          "BiGG_ID": "MALS",
          "author": "Khodayari",
          "relative_error": null,
          "sample_id": "sucAB"
         },
         {
          "BiGG_ID": "MDH",
          "author": "Khodayari",
          "relative_error": null,
          "sample_id": "sucAB"
         },
         {
          "BiGG_ID": "PDH",
          "author": "Khodayari",
          "relative_error": null,
          "sample_id": "sucAB"
         },
         {
          "BiGG_ID": "PGI",
          "author": "Khodayari",
          "relative_error": null,
          "sample_id": "sucAB"
         },
         {
          "BiGG_ID": "PGM",
          "author": "Khodayari",
          "relative_error": null,
          "sample_id": "sucAB"
         },
         {
          "BiGG_ID": "PPC",
          "author": "Khodayari",
          "relative_error": null,
          "sample_id": "sucAB"
         },
         {
          "BiGG_ID": "PTAr",
          "author": "Khodayari",
          "relative_error": null,
          "sample_id": "sucAB"
         },
         {
          "BiGG_ID": "PYK",
          "author": "Khodayari",
          "relative_error": null,
          "sample_id": "sucAB"
         },
         {
          "BiGG_ID": "RPE",
          "author": "Khodayari",
          "relative_error": null,
          "sample_id": "sucAB"
         },
         {
          "BiGG_ID": "RPI",
          "author": "Khodayari",
          "relative_error": null,
          "sample_id": "sucAB"
         },
         {
          "BiGG_ID": "SUCDi",
          "author": "Khodayari",
          "relative_error": null,
          "sample_id": "sucAB"
         },
         {
          "BiGG_ID": "TALA",
          "author": "Khodayari",
          "relative_error": null,
          "sample_id": "sucAB"
         },
         {
          "BiGG_ID": "TKT1",
          "author": "Khodayari",
          "relative_error": null,
          "sample_id": "sucAB"
         },
         {
          "BiGG_ID": "TPI",
          "author": "Khodayari",
          "relative_error": null,
          "sample_id": "sucAB"
         },
         {
          "BiGG_ID": "AKGDH",
          "author": "Khodayari",
          "relative_error": 27.769209419315725,
          "sample_id": "talA"
         },
         {
          "BiGG_ID": "CS",
          "author": "Khodayari",
          "relative_error": 8.691581973150194,
          "sample_id": "talA"
         },
         {
          "BiGG_ID": "EDA",
          "author": "Khodayari",
          "relative_error": 0,
          "sample_id": "talA"
         },
         {
          "BiGG_ID": "FBA",
          "author": "Khodayari",
          "relative_error": 3.4127627046475713,
          "sample_id": "talA"
         },
         {
          "BiGG_ID": "FUM",
          "author": "Khodayari",
          "relative_error": 8.46352103764952,
          "sample_id": "talA"
         },
         {
          "BiGG_ID": "G6PDH2r",
          "author": "Khodayari",
          "relative_error": 34.55950773942796,
          "sample_id": "talA"
         },
         {
          "BiGG_ID": "GAPD",
          "author": "Khodayari",
          "relative_error": 1.4907543260779654,
          "sample_id": "talA"
         },
         {
          "BiGG_ID": "GLCptspp",
          "author": "Khodayari",
          "relative_error": 0.03377676522997534,
          "sample_id": "talA"
         },
         {
          "BiGG_ID": "GND",
          "author": "Khodayari",
          "relative_error": 34.825248560256796,
          "sample_id": "talA"
         },
         {
          "BiGG_ID": "ICDHyr",
          "author": "Khodayari",
          "relative_error": 2.799149912720175,
          "sample_id": "talA"
         },
         {
          "BiGG_ID": "ICL",
          "author": "Khodayari",
          "relative_error": 85.15406551905859,
          "sample_id": "talA"
         },
         {
          "BiGG_ID": "MALS",
          "author": "Khodayari",
          "relative_error": 85.15603238609192,
          "sample_id": "talA"
         },
         {
          "BiGG_ID": "MDH",
          "author": "Khodayari",
          "relative_error": 11.842185971086314,
          "sample_id": "talA"
         },
         {
          "BiGG_ID": "PDH",
          "author": "Khodayari",
          "relative_error": 5.947819339910968,
          "sample_id": "talA"
         },
         {
          "BiGG_ID": "PGI",
          "author": "Khodayari",
          "relative_error": 6.57897052704307,
          "sample_id": "talA"
         },
         {
          "BiGG_ID": "PGM",
          "author": "Khodayari",
          "relative_error": 1.6330935206478085,
          "sample_id": "talA"
         },
         {
          "BiGG_ID": "PPC",
          "author": "Khodayari",
          "relative_error": 23.757818827795703,
          "sample_id": "talA"
         },
         {
          "BiGG_ID": "PTAr",
          "author": "Khodayari",
          "relative_error": 0,
          "sample_id": "talA"
         },
         {
          "BiGG_ID": "PYK",
          "author": "Khodayari",
          "relative_error": 10.3862360052008,
          "sample_id": "talA"
         },
         {
          "BiGG_ID": "RPE",
          "author": "Khodayari",
          "relative_error": 60.90702224404517,
          "sample_id": "talA"
         },
         {
          "BiGG_ID": "RPI",
          "author": "Khodayari",
          "relative_error": 18.371533931103084,
          "sample_id": "talA"
         },
         {
          "BiGG_ID": "SUCDi",
          "author": "Khodayari",
          "relative_error": 11.241680599810417,
          "sample_id": "talA"
         },
         {
          "BiGG_ID": "TALA",
          "author": "Khodayari",
          "relative_error": 152.98861339164515,
          "sample_id": "talA"
         },
         {
          "BiGG_ID": "TKT1",
          "author": "Khodayari",
          "relative_error": 51.459818081137534,
          "sample_id": "talA"
         },
         {
          "BiGG_ID": "TPI",
          "author": "Khodayari",
          "relative_error": 6.612071508029335,
          "sample_id": "talA"
         },
         {
          "BiGG_ID": "AKGDH",
          "author": "Khodayari",
          "relative_error": null,
          "sample_id": "talAB"
         },
         {
          "BiGG_ID": "CS",
          "author": "Khodayari",
          "relative_error": null,
          "sample_id": "talAB"
         },
         {
          "BiGG_ID": "EDA",
          "author": "Khodayari",
          "relative_error": null,
          "sample_id": "talAB"
         },
         {
          "BiGG_ID": "FBA",
          "author": "Khodayari",
          "relative_error": null,
          "sample_id": "talAB"
         },
         {
          "BiGG_ID": "FUM",
          "author": "Khodayari",
          "relative_error": null,
          "sample_id": "talAB"
         },
         {
          "BiGG_ID": "G6PDH2r",
          "author": "Khodayari",
          "relative_error": null,
          "sample_id": "talAB"
         },
         {
          "BiGG_ID": "GAPD",
          "author": "Khodayari",
          "relative_error": null,
          "sample_id": "talAB"
         },
         {
          "BiGG_ID": "GLCptspp",
          "author": "Khodayari",
          "relative_error": null,
          "sample_id": "talAB"
         },
         {
          "BiGG_ID": "GND",
          "author": "Khodayari",
          "relative_error": null,
          "sample_id": "talAB"
         },
         {
          "BiGG_ID": "ICDHyr",
          "author": "Khodayari",
          "relative_error": null,
          "sample_id": "talAB"
         },
         {
          "BiGG_ID": "ICL",
          "author": "Khodayari",
          "relative_error": null,
          "sample_id": "talAB"
         },
         {
          "BiGG_ID": "MALS",
          "author": "Khodayari",
          "relative_error": null,
          "sample_id": "talAB"
         },
         {
          "BiGG_ID": "MDH",
          "author": "Khodayari",
          "relative_error": null,
          "sample_id": "talAB"
         },
         {
          "BiGG_ID": "PDH",
          "author": "Khodayari",
          "relative_error": null,
          "sample_id": "talAB"
         },
         {
          "BiGG_ID": "PGI",
          "author": "Khodayari",
          "relative_error": null,
          "sample_id": "talAB"
         },
         {
          "BiGG_ID": "PGM",
          "author": "Khodayari",
          "relative_error": null,
          "sample_id": "talAB"
         },
         {
          "BiGG_ID": "PPC",
          "author": "Khodayari",
          "relative_error": null,
          "sample_id": "talAB"
         },
         {
          "BiGG_ID": "PTAr",
          "author": "Khodayari",
          "relative_error": null,
          "sample_id": "talAB"
         },
         {
          "BiGG_ID": "PYK",
          "author": "Khodayari",
          "relative_error": null,
          "sample_id": "talAB"
         },
         {
          "BiGG_ID": "RPE",
          "author": "Khodayari",
          "relative_error": null,
          "sample_id": "talAB"
         },
         {
          "BiGG_ID": "RPI",
          "author": "Khodayari",
          "relative_error": null,
          "sample_id": "talAB"
         },
         {
          "BiGG_ID": "SUCDi",
          "author": "Khodayari",
          "relative_error": null,
          "sample_id": "talAB"
         },
         {
          "BiGG_ID": "TALA",
          "author": "Khodayari",
          "relative_error": null,
          "sample_id": "talAB"
         },
         {
          "BiGG_ID": "TKT1",
          "author": "Khodayari",
          "relative_error": null,
          "sample_id": "talAB"
         },
         {
          "BiGG_ID": "TPI",
          "author": "Khodayari",
          "relative_error": null,
          "sample_id": "talAB"
         },
         {
          "BiGG_ID": "AKGDH",
          "author": "Khodayari",
          "relative_error": null,
          "sample_id": "talB"
         },
         {
          "BiGG_ID": "CS",
          "author": "Khodayari",
          "relative_error": null,
          "sample_id": "talB"
         },
         {
          "BiGG_ID": "EDA",
          "author": "Khodayari",
          "relative_error": null,
          "sample_id": "talB"
         },
         {
          "BiGG_ID": "FBA",
          "author": "Khodayari",
          "relative_error": null,
          "sample_id": "talB"
         },
         {
          "BiGG_ID": "FUM",
          "author": "Khodayari",
          "relative_error": null,
          "sample_id": "talB"
         },
         {
          "BiGG_ID": "G6PDH2r",
          "author": "Khodayari",
          "relative_error": null,
          "sample_id": "talB"
         },
         {
          "BiGG_ID": "GAPD",
          "author": "Khodayari",
          "relative_error": null,
          "sample_id": "talB"
         },
         {
          "BiGG_ID": "GLCptspp",
          "author": "Khodayari",
          "relative_error": null,
          "sample_id": "talB"
         },
         {
          "BiGG_ID": "GND",
          "author": "Khodayari",
          "relative_error": null,
          "sample_id": "talB"
         },
         {
          "BiGG_ID": "ICDHyr",
          "author": "Khodayari",
          "relative_error": null,
          "sample_id": "talB"
         },
         {
          "BiGG_ID": "ICL",
          "author": "Khodayari",
          "relative_error": null,
          "sample_id": "talB"
         },
         {
          "BiGG_ID": "MALS",
          "author": "Khodayari",
          "relative_error": null,
          "sample_id": "talB"
         },
         {
          "BiGG_ID": "MDH",
          "author": "Khodayari",
          "relative_error": null,
          "sample_id": "talB"
         },
         {
          "BiGG_ID": "PDH",
          "author": "Khodayari",
          "relative_error": null,
          "sample_id": "talB"
         },
         {
          "BiGG_ID": "PGI",
          "author": "Khodayari",
          "relative_error": null,
          "sample_id": "talB"
         },
         {
          "BiGG_ID": "PGM",
          "author": "Khodayari",
          "relative_error": null,
          "sample_id": "talB"
         },
         {
          "BiGG_ID": "PPC",
          "author": "Khodayari",
          "relative_error": null,
          "sample_id": "talB"
         },
         {
          "BiGG_ID": "PTAr",
          "author": "Khodayari",
          "relative_error": null,
          "sample_id": "talB"
         },
         {
          "BiGG_ID": "PYK",
          "author": "Khodayari",
          "relative_error": null,
          "sample_id": "talB"
         },
         {
          "BiGG_ID": "RPE",
          "author": "Khodayari",
          "relative_error": null,
          "sample_id": "talB"
         },
         {
          "BiGG_ID": "RPI",
          "author": "Khodayari",
          "relative_error": null,
          "sample_id": "talB"
         },
         {
          "BiGG_ID": "SUCDi",
          "author": "Khodayari",
          "relative_error": null,
          "sample_id": "talB"
         },
         {
          "BiGG_ID": "TALA",
          "author": "Khodayari",
          "relative_error": null,
          "sample_id": "talB"
         },
         {
          "BiGG_ID": "TKT1",
          "author": "Khodayari",
          "relative_error": null,
          "sample_id": "talB"
         },
         {
          "BiGG_ID": "TPI",
          "author": "Khodayari",
          "relative_error": null,
          "sample_id": "talB"
         },
         {
          "BiGG_ID": "AKGDH",
          "author": "Khodayari",
          "relative_error": null,
          "sample_id": "tkt1"
         },
         {
          "BiGG_ID": "CS",
          "author": "Khodayari",
          "relative_error": null,
          "sample_id": "tkt1"
         },
         {
          "BiGG_ID": "EDA",
          "author": "Khodayari",
          "relative_error": null,
          "sample_id": "tkt1"
         },
         {
          "BiGG_ID": "FBA",
          "author": "Khodayari",
          "relative_error": null,
          "sample_id": "tkt1"
         },
         {
          "BiGG_ID": "FUM",
          "author": "Khodayari",
          "relative_error": null,
          "sample_id": "tkt1"
         },
         {
          "BiGG_ID": "G6PDH2r",
          "author": "Khodayari",
          "relative_error": null,
          "sample_id": "tkt1"
         },
         {
          "BiGG_ID": "GAPD",
          "author": "Khodayari",
          "relative_error": null,
          "sample_id": "tkt1"
         },
         {
          "BiGG_ID": "GLCptspp",
          "author": "Khodayari",
          "relative_error": null,
          "sample_id": "tkt1"
         },
         {
          "BiGG_ID": "GND",
          "author": "Khodayari",
          "relative_error": null,
          "sample_id": "tkt1"
         },
         {
          "BiGG_ID": "ICDHyr",
          "author": "Khodayari",
          "relative_error": null,
          "sample_id": "tkt1"
         },
         {
          "BiGG_ID": "ICL",
          "author": "Khodayari",
          "relative_error": null,
          "sample_id": "tkt1"
         },
         {
          "BiGG_ID": "MALS",
          "author": "Khodayari",
          "relative_error": null,
          "sample_id": "tkt1"
         },
         {
          "BiGG_ID": "MDH",
          "author": "Khodayari",
          "relative_error": null,
          "sample_id": "tkt1"
         },
         {
          "BiGG_ID": "PDH",
          "author": "Khodayari",
          "relative_error": null,
          "sample_id": "tkt1"
         },
         {
          "BiGG_ID": "PGI",
          "author": "Khodayari",
          "relative_error": null,
          "sample_id": "tkt1"
         },
         {
          "BiGG_ID": "PGM",
          "author": "Khodayari",
          "relative_error": null,
          "sample_id": "tkt1"
         },
         {
          "BiGG_ID": "PPC",
          "author": "Khodayari",
          "relative_error": null,
          "sample_id": "tkt1"
         },
         {
          "BiGG_ID": "PTAr",
          "author": "Khodayari",
          "relative_error": null,
          "sample_id": "tkt1"
         },
         {
          "BiGG_ID": "PYK",
          "author": "Khodayari",
          "relative_error": null,
          "sample_id": "tkt1"
         },
         {
          "BiGG_ID": "RPE",
          "author": "Khodayari",
          "relative_error": null,
          "sample_id": "tkt1"
         },
         {
          "BiGG_ID": "RPI",
          "author": "Khodayari",
          "relative_error": null,
          "sample_id": "tkt1"
         },
         {
          "BiGG_ID": "SUCDi",
          "author": "Khodayari",
          "relative_error": null,
          "sample_id": "tkt1"
         },
         {
          "BiGG_ID": "TALA",
          "author": "Khodayari",
          "relative_error": null,
          "sample_id": "tkt1"
         },
         {
          "BiGG_ID": "TKT1",
          "author": "Khodayari",
          "relative_error": null,
          "sample_id": "tkt1"
         },
         {
          "BiGG_ID": "TPI",
          "author": "Khodayari",
          "relative_error": null,
          "sample_id": "tkt1"
         },
         {
          "BiGG_ID": "AKGDH",
          "author": "Khodayari",
          "relative_error": null,
          "sample_id": "tkt2"
         },
         {
          "BiGG_ID": "CS",
          "author": "Khodayari",
          "relative_error": null,
          "sample_id": "tkt2"
         },
         {
          "BiGG_ID": "EDA",
          "author": "Khodayari",
          "relative_error": null,
          "sample_id": "tkt2"
         },
         {
          "BiGG_ID": "FBA",
          "author": "Khodayari",
          "relative_error": null,
          "sample_id": "tkt2"
         },
         {
          "BiGG_ID": "FUM",
          "author": "Khodayari",
          "relative_error": null,
          "sample_id": "tkt2"
         },
         {
          "BiGG_ID": "G6PDH2r",
          "author": "Khodayari",
          "relative_error": null,
          "sample_id": "tkt2"
         },
         {
          "BiGG_ID": "GAPD",
          "author": "Khodayari",
          "relative_error": null,
          "sample_id": "tkt2"
         },
         {
          "BiGG_ID": "GLCptspp",
          "author": "Khodayari",
          "relative_error": null,
          "sample_id": "tkt2"
         },
         {
          "BiGG_ID": "GND",
          "author": "Khodayari",
          "relative_error": null,
          "sample_id": "tkt2"
         },
         {
          "BiGG_ID": "ICDHyr",
          "author": "Khodayari",
          "relative_error": null,
          "sample_id": "tkt2"
         },
         {
          "BiGG_ID": "ICL",
          "author": "Khodayari",
          "relative_error": null,
          "sample_id": "tkt2"
         },
         {
          "BiGG_ID": "MALS",
          "author": "Khodayari",
          "relative_error": null,
          "sample_id": "tkt2"
         },
         {
          "BiGG_ID": "MDH",
          "author": "Khodayari",
          "relative_error": null,
          "sample_id": "tkt2"
         },
         {
          "BiGG_ID": "PDH",
          "author": "Khodayari",
          "relative_error": null,
          "sample_id": "tkt2"
         },
         {
          "BiGG_ID": "PGI",
          "author": "Khodayari",
          "relative_error": null,
          "sample_id": "tkt2"
         },
         {
          "BiGG_ID": "PGM",
          "author": "Khodayari",
          "relative_error": null,
          "sample_id": "tkt2"
         },
         {
          "BiGG_ID": "PPC",
          "author": "Khodayari",
          "relative_error": null,
          "sample_id": "tkt2"
         },
         {
          "BiGG_ID": "PTAr",
          "author": "Khodayari",
          "relative_error": null,
          "sample_id": "tkt2"
         },
         {
          "BiGG_ID": "PYK",
          "author": "Khodayari",
          "relative_error": null,
          "sample_id": "tkt2"
         },
         {
          "BiGG_ID": "RPE",
          "author": "Khodayari",
          "relative_error": null,
          "sample_id": "tkt2"
         },
         {
          "BiGG_ID": "RPI",
          "author": "Khodayari",
          "relative_error": null,
          "sample_id": "tkt2"
         },
         {
          "BiGG_ID": "SUCDi",
          "author": "Khodayari",
          "relative_error": null,
          "sample_id": "tkt2"
         },
         {
          "BiGG_ID": "TALA",
          "author": "Khodayari",
          "relative_error": null,
          "sample_id": "tkt2"
         },
         {
          "BiGG_ID": "TKT1",
          "author": "Khodayari",
          "relative_error": null,
          "sample_id": "tkt2"
         },
         {
          "BiGG_ID": "TPI",
          "author": "Khodayari",
          "relative_error": null,
          "sample_id": "tkt2"
         },
         {
          "BiGG_ID": "AKGDH",
          "author": "Khodayari",
          "relative_error": 109.10728957556239,
          "sample_id": "tktA"
         },
         {
          "BiGG_ID": "CS",
          "author": "Khodayari",
          "relative_error": 36.76020951926435,
          "sample_id": "tktA"
         },
         {
          "BiGG_ID": "EDA",
          "author": "Khodayari",
          "relative_error": 100,
          "sample_id": "tktA"
         },
         {
          "BiGG_ID": "FBA",
          "author": "Khodayari",
          "relative_error": 8.723797494982211,
          "sample_id": "tktA"
         },
         {
          "BiGG_ID": "FUM",
          "author": "Khodayari",
          "relative_error": 45.91240456431104,
          "sample_id": "tktA"
         },
         {
          "BiGG_ID": "G6PDH2r",
          "author": "Khodayari",
          "relative_error": 5.658504570287139,
          "sample_id": "tktA"
         },
         {
          "BiGG_ID": "GAPD",
          "author": "Khodayari",
          "relative_error": 0.8163116844560611,
          "sample_id": "tktA"
         },
         {
          "BiGG_ID": "GLCptspp",
          "author": "Khodayari",
          "relative_error": 0.02177485125745047,
          "sample_id": "tktA"
         },
         {
          "BiGG_ID": "GND",
          "author": "Khodayari",
          "relative_error": 59.82042309822947,
          "sample_id": "tktA"
         },
         {
          "BiGG_ID": "ICDHyr",
          "author": "Khodayari",
          "relative_error": 59.88652483854966,
          "sample_id": "tktA"
         },
         {
          "BiGG_ID": "ICL",
          "author": "Khodayari",
          "relative_error": 100,
          "sample_id": "tktA"
         },
         {
          "BiGG_ID": "MALS",
          "author": "Khodayari",
          "relative_error": 100,
          "sample_id": "tktA"
         },
         {
          "BiGG_ID": "MDH",
          "author": "Khodayari",
          "relative_error": 36.66840178652099,
          "sample_id": "tktA"
         },
         {
          "BiGG_ID": "PDH",
          "author": "Khodayari",
          "relative_error": 17.83882592230554,
          "sample_id": "tktA"
         },
         {
          "BiGG_ID": "PGI",
          "author": "Khodayari",
          "relative_error": 0.5424101671863008,
          "sample_id": "tktA"
         },
         {
          "BiGG_ID": "PGM",
          "author": "Khodayari",
          "relative_error": 0.4759170482325172,
          "sample_id": "tktA"
         },
         {
          "BiGG_ID": "PPC",
          "author": "Khodayari",
          "relative_error": 12.934777449418425,
          "sample_id": "tktA"
         },
         {
          "BiGG_ID": "PTAr",
          "author": "Khodayari",
          "relative_error": 0,
          "sample_id": "tktA"
         },
         {
          "BiGG_ID": "PYK",
          "author": "Khodayari",
          "relative_error": 35.887970172602024,
          "sample_id": "tktA"
         },
         {
          "BiGG_ID": "RPE",
          "author": "Khodayari",
          "relative_error": 71.51963881256465,
          "sample_id": "tktA"
         },
         {
          "BiGG_ID": "RPI",
          "author": "Khodayari",
          "relative_error": 52.620981689179715,
          "sample_id": "tktA"
         },
         {
          "BiGG_ID": "SUCDi",
          "author": "Khodayari",
          "relative_error": 41.30927234762899,
          "sample_id": "tktA"
         },
         {
          "BiGG_ID": "TALA",
          "author": "Khodayari",
          "relative_error": 67.62068363930402,
          "sample_id": "tktA"
         },
         {
          "BiGG_ID": "TKT1",
          "author": "Khodayari",
          "relative_error": 74.81917495026994,
          "sample_id": "tktA"
         },
         {
          "BiGG_ID": "TPI",
          "author": "Khodayari",
          "relative_error": 9.137073980290978,
          "sample_id": "tktA"
         },
         {
          "BiGG_ID": "AKGDH",
          "author": "Khodayari",
          "relative_error": 42.80497824672554,
          "sample_id": "tktB"
         },
         {
          "BiGG_ID": "CS",
          "author": "Khodayari",
          "relative_error": 2.465587009516899,
          "sample_id": "tktB"
         },
         {
          "BiGG_ID": "EDA",
          "author": "Khodayari",
          "relative_error": 0,
          "sample_id": "tktB"
         },
         {
          "BiGG_ID": "FBA",
          "author": "Khodayari",
          "relative_error": 1.6747572207793093,
          "sample_id": "tktB"
         },
         {
          "BiGG_ID": "FUM",
          "author": "Khodayari",
          "relative_error": 0.3525041999827057,
          "sample_id": "tktB"
         },
         {
          "BiGG_ID": "G6PDH2r",
          "author": "Khodayari",
          "relative_error": 34.59235431363177,
          "sample_id": "tktB"
         },
         {
          "BiGG_ID": "GAPD",
          "author": "Khodayari",
          "relative_error": 3.1745879811684836,
          "sample_id": "tktB"
         },
         {
          "BiGG_ID": "GLCptspp",
          "author": "Khodayari",
          "relative_error": 0.02177485125745047,
          "sample_id": "tktB"
         },
         {
          "BiGG_ID": "GND",
          "author": "Khodayari",
          "relative_error": 34.708187534622894,
          "sample_id": "tktB"
         },
         {
          "BiGG_ID": "ICDHyr",
          "author": "Khodayari",
          "relative_error": 14.027599109663322,
          "sample_id": "tktB"
         },
         {
          "BiGG_ID": "ICL",
          "author": "Khodayari",
          "relative_error": 100,
          "sample_id": "tktB"
         },
         {
          "BiGG_ID": "MALS",
          "author": "Khodayari",
          "relative_error": 100,
          "sample_id": "tktB"
         },
         {
          "BiGG_ID": "MDH",
          "author": "Khodayari",
          "relative_error": 6.6654817067661565,
          "sample_id": "tktB"
         },
         {
          "BiGG_ID": "PDH",
          "author": "Khodayari",
          "relative_error": 3.8050400634240518,
          "sample_id": "tktB"
         },
         {
          "BiGG_ID": "PGI",
          "author": "Khodayari",
          "relative_error": 9.658368277204849,
          "sample_id": "tktB"
         },
         {
          "BiGG_ID": "PGM",
          "author": "Khodayari",
          "relative_error": 0.13093711610752842,
          "sample_id": "tktB"
         },
         {
          "BiGG_ID": "PPC",
          "author": "Khodayari",
          "relative_error": 30.597833825872367,
          "sample_id": "tktB"
         },
         {
          "BiGG_ID": "PTAr",
          "author": "Khodayari",
          "relative_error": 0,
          "sample_id": "tktB"
         },
         {
          "BiGG_ID": "PYK",
          "author": "Khodayari",
          "relative_error": 13.23997514383502,
          "sample_id": "tktB"
         },
         {
          "BiGG_ID": "RPE",
          "author": "Khodayari",
          "relative_error": 57.27945821884697,
          "sample_id": "tktB"
         },
         {
          "BiGG_ID": "RPI",
          "author": "Khodayari",
          "relative_error": 21.03496948196619,
          "sample_id": "tktB"
         },
         {
          "BiGG_ID": "SUCDi",
          "author": "Khodayari",
          "relative_error": 3.4961066894241055,
          "sample_id": "tktB"
         },
         {
          "BiGG_ID": "TALA",
          "author": "Khodayari",
          "relative_error": 51.43102545895605,
          "sample_id": "tktB"
         },
         {
          "BiGG_ID": "TKT1",
          "author": "Khodayari",
          "relative_error": 62.228762425404916,
          "sample_id": "tktB"
         },
         {
          "BiGG_ID": "TPI",
          "author": "Khodayari",
          "relative_error": 1.2143986042328345,
          "sample_id": "tktB"
         },
         {
          "BiGG_ID": "AKGDH",
          "author": "Khodayari",
          "relative_error": null,
          "sample_id": "tpi"
         },
         {
          "BiGG_ID": "CS",
          "author": "Khodayari",
          "relative_error": null,
          "sample_id": "tpi"
         },
         {
          "BiGG_ID": "EDA",
          "author": "Khodayari",
          "relative_error": 100,
          "sample_id": "tpi"
         },
         {
          "BiGG_ID": "FBA",
          "author": "Khodayari",
          "relative_error": null,
          "sample_id": "tpi"
         },
         {
          "BiGG_ID": "FUM",
          "author": "Khodayari",
          "relative_error": null,
          "sample_id": "tpi"
         },
         {
          "BiGG_ID": "G6PDH2r",
          "author": "Khodayari",
          "relative_error": null,
          "sample_id": "tpi"
         },
         {
          "BiGG_ID": "GAPD",
          "author": "Khodayari",
          "relative_error": null,
          "sample_id": "tpi"
         },
         {
          "BiGG_ID": "GLCptspp",
          "author": "Khodayari",
          "relative_error": null,
          "sample_id": "tpi"
         },
         {
          "BiGG_ID": "GND",
          "author": "Khodayari",
          "relative_error": null,
          "sample_id": "tpi"
         },
         {
          "BiGG_ID": "ICDHyr",
          "author": "Khodayari",
          "relative_error": null,
          "sample_id": "tpi"
         },
         {
          "BiGG_ID": "ICL",
          "author": "Khodayari",
          "relative_error": null,
          "sample_id": "tpi"
         },
         {
          "BiGG_ID": "MALS",
          "author": "Khodayari",
          "relative_error": null,
          "sample_id": "tpi"
         },
         {
          "BiGG_ID": "MDH",
          "author": "Khodayari",
          "relative_error": null,
          "sample_id": "tpi"
         },
         {
          "BiGG_ID": "PDH",
          "author": "Khodayari",
          "relative_error": null,
          "sample_id": "tpi"
         },
         {
          "BiGG_ID": "PGI",
          "author": "Khodayari",
          "relative_error": null,
          "sample_id": "tpi"
         },
         {
          "BiGG_ID": "PGM",
          "author": "Khodayari",
          "relative_error": null,
          "sample_id": "tpi"
         },
         {
          "BiGG_ID": "PPC",
          "author": "Khodayari",
          "relative_error": null,
          "sample_id": "tpi"
         },
         {
          "BiGG_ID": "PTAr",
          "author": "Khodayari",
          "relative_error": null,
          "sample_id": "tpi"
         },
         {
          "BiGG_ID": "PYK",
          "author": "Khodayari",
          "relative_error": null,
          "sample_id": "tpi"
         },
         {
          "BiGG_ID": "RPE",
          "author": "Khodayari",
          "relative_error": null,
          "sample_id": "tpi"
         },
         {
          "BiGG_ID": "RPI",
          "author": "Khodayari",
          "relative_error": null,
          "sample_id": "tpi"
         },
         {
          "BiGG_ID": "SUCDi",
          "author": "Khodayari",
          "relative_error": null,
          "sample_id": "tpi"
         },
         {
          "BiGG_ID": "TALA",
          "author": "Khodayari",
          "relative_error": null,
          "sample_id": "tpi"
         },
         {
          "BiGG_ID": "TKT1",
          "author": "Khodayari",
          "relative_error": null,
          "sample_id": "tpi"
         },
         {
          "BiGG_ID": "TPI",
          "author": "Khodayari",
          "relative_error": 100,
          "sample_id": "tpi"
         },
         {
          "BiGG_ID": "AKGDH",
          "author": "Khodayari",
          "relative_error": 12.682822149923357,
          "sample_id": "zwf"
         },
         {
          "BiGG_ID": "CS",
          "author": "Khodayari",
          "relative_error": 7.616201298133592,
          "sample_id": "zwf"
         },
         {
          "BiGG_ID": "EDA",
          "author": "Khodayari",
          "relative_error": 0,
          "sample_id": "zwf"
         },
         {
          "BiGG_ID": "FBA",
          "author": "Khodayari",
          "relative_error": 12.667615515942574,
          "sample_id": "zwf"
         },
         {
          "BiGG_ID": "FUM",
          "author": "Khodayari",
          "relative_error": 28.423986950762632,
          "sample_id": "zwf"
         },
         {
          "BiGG_ID": "G6PDH2r",
          "author": "Khodayari",
          "relative_error": 0,
          "sample_id": "zwf"
         },
         {
          "BiGG_ID": "GAPD",
          "author": "Khodayari",
          "relative_error": 8.453960272893227,
          "sample_id": "zwf"
         },
         {
          "BiGG_ID": "GLCptspp",
          "author": "Khodayari",
          "relative_error": 2.4590503499158194,
          "sample_id": "zwf"
         },
         {
          "BiGG_ID": "GND",
          "author": "Khodayari",
          "relative_error": 100,
          "sample_id": "zwf"
         },
         {
          "BiGG_ID": "ICDHyr",
          "author": "Khodayari",
          "relative_error": 16.052323363911132,
          "sample_id": "zwf"
         },
         {
          "BiGG_ID": "ICL",
          "author": "Khodayari",
          "relative_error": 159.0047171964355,
          "sample_id": "zwf"
         },
         {
          "BiGG_ID": "MALS",
          "author": "Khodayari",
          "relative_error": 179.34221319738785,
          "sample_id": "zwf"
         },
         {
          "BiGG_ID": "MDH",
          "author": "Khodayari",
          "relative_error": 17.092329207843772,
          "sample_id": "zwf"
         },
         {
          "BiGG_ID": "PDH",
          "author": "Khodayari",
          "relative_error": 25.14625168379362,
          "sample_id": "zwf"
         },
         {
          "BiGG_ID": "PGI",
          "author": "Khodayari",
          "relative_error": 0.08039216650844754,
          "sample_id": "zwf"
         },
         {
          "BiGG_ID": "PGM",
          "author": "Khodayari",
          "relative_error": 109.01838656865664,
          "sample_id": "zwf"
         },
         {
          "BiGG_ID": "PPC",
          "author": "Khodayari",
          "relative_error": 100,
          "sample_id": "zwf"
         },
         {
          "BiGG_ID": "PTAr",
          "author": "Khodayari",
          "relative_error": 100,
          "sample_id": "zwf"
         },
         {
          "BiGG_ID": "PYK",
          "author": "Khodayari",
          "relative_error": 362.77212899939605,
          "sample_id": "zwf"
         },
         {
          "BiGG_ID": "RPE",
          "author": "Khodayari",
          "relative_error": 1518.5516697017888,
          "sample_id": "zwf"
         },
         {
          "BiGG_ID": "RPI",
          "author": "Khodayari",
          "relative_error": 534.2564225343722,
          "sample_id": "zwf"
         },
         {
          "BiGG_ID": "SUCDi",
          "author": "Khodayari",
          "relative_error": 17.539782950885147,
          "sample_id": "zwf"
         },
         {
          "BiGG_ID": "TALA",
          "author": "Khodayari",
          "relative_error": 348.3748702465848,
          "sample_id": "zwf"
         },
         {
          "BiGG_ID": "TKT1",
          "author": "Khodayari",
          "relative_error": 1003.5346470073036,
          "sample_id": "zwf"
         },
         {
          "BiGG_ID": "TPI",
          "author": "Khodayari",
          "relative_error": 16.376909829795984,
          "sample_id": "zwf"
         }
        ]
       },
       "encoding": {
        "color": {
         "condition": {
          "test": "datum.relative_error === null",
          "value": "lightgrey"
         },
         "field": "relative_error",
         "scale": {
          "domain": [
           0,
           25,
           50,
           75,
           100,
           200,
           300
          ],
          "scheme": "greenblue",
          "type": "threshold"
         },
         "title": "relative error (clipped at 300)",
         "type": "quantitative"
        },
        "tooltip": [
         {
          "field": "sample_id",
          "type": "nominal"
         },
         {
          "field": "BiGG_ID",
          "type": "nominal"
         },
         {
          "field": "relative_error",
          "type": "quantitative"
         }
        ],
        "x": {
         "field": "sample_id",
         "type": "nominal"
        },
        "y": {
         "field": "BiGG_ID",
         "type": "nominal"
        }
       },
       "mark": "rect",
       "title": "Heatmap for author Khodayari"
      },
      "image/png": "[encoded data removed]",
      "text/plain": [
       "<VegaLite 3 object>\n",
       "\n",
       "If you see this message, it means the renderer has not been properly enabled\n",
       "for the frontend that you are using. For more information, see\n",
       "https://altair-viz.github.io/user_guide/troubleshooting.html\n"
      ]
     },
     "execution_count": 17,
     "metadata": {},
     "output_type": "execute_result"
    }
   ],
   "source": [
    "heatmap(x_rel_error, author=\"Khodayari\")"
   ]
  },
  {
   "cell_type": "code",
   "execution_count": 18,
   "metadata": {},
   "outputs": [
    {
     "data": {
      "application/vnd.vegalite.v3+json": {
       "$schema": "https://vega.github.io/schema/vega-lite/v3.2.1.json",
       "config": {
        "invalidValues": null,
        "mark": {
         "tooltip": null
        },
        "view": {
         "height": 300,
         "width": 400
        }
       },
       "data": {
        "name": "data-dde873444c61956115d5e5d3cc220a2c"
       },
       "datasets": {
        "data-dde873444c61956115d5e5d3cc220a2c": [
         {
          "BiGG_ID": "AKGDH",
          "author": "Millard",
          "relative_error": 24.044962081433262,
          "sample_id": "WT"
         },
         {
          "BiGG_ID": "CS",
          "author": "Millard",
          "relative_error": 7.731117940765244,
          "sample_id": "WT"
         },
         {
          "BiGG_ID": "EDA",
          "author": "Millard",
          "relative_error": 100,
          "sample_id": "WT"
         },
         {
          "BiGG_ID": "FBA",
          "author": "Millard",
          "relative_error": 5.117718039861099,
          "sample_id": "WT"
         },
         {
          "BiGG_ID": "FUM",
          "author": "Millard",
          "relative_error": 9.506155560535165,
          "sample_id": "WT"
         },
         {
          "BiGG_ID": "G6PDH2r",
          "author": "Millard",
          "relative_error": 1.1905934133752434,
          "sample_id": "WT"
         },
         {
          "BiGG_ID": "GAPD",
          "author": "Millard",
          "relative_error": 2.7510076420415714,
          "sample_id": "WT"
         },
         {
          "BiGG_ID": "GLCptspp",
          "author": "Millard",
          "relative_error": 4.0120085032119256e-10,
          "sample_id": "WT"
         },
         {
          "BiGG_ID": "GND",
          "author": "Millard",
          "relative_error": 56.76639145148248,
          "sample_id": "WT"
         },
         {
          "BiGG_ID": "ICDHyr",
          "author": "Millard",
          "relative_error": 19.2644275403753,
          "sample_id": "WT"
         },
         {
          "BiGG_ID": "ICL",
          "author": "Millard",
          "relative_error": 24.447409991686403,
          "sample_id": "WT"
         },
         {
          "BiGG_ID": "MALS",
          "author": "Millard",
          "relative_error": 24.44740997745776,
          "sample_id": "WT"
         },
         {
          "BiGG_ID": "MDH",
          "author": "Millard",
          "relative_error": 0.10350427606560504,
          "sample_id": "WT"
         },
         {
          "BiGG_ID": "PDH",
          "author": "Millard",
          "relative_error": 2.7659236616557457,
          "sample_id": "WT"
         },
         {
          "BiGG_ID": "PGI",
          "author": "Millard",
          "relative_error": 0.5002371104247108,
          "sample_id": "WT"
         },
         {
          "BiGG_ID": "PGM",
          "author": "Millard",
          "relative_error": 3.943086502000035,
          "sample_id": "WT"
         },
         {
          "BiGG_ID": "PPC",
          "author": "Millard",
          "relative_error": 46.894394779426044,
          "sample_id": "WT"
         },
         {
          "BiGG_ID": "PTAr",
          "author": "Millard",
          "relative_error": 100,
          "sample_id": "WT"
         },
         {
          "BiGG_ID": "PYK",
          "author": "Millard",
          "relative_error": 5.103699352627596,
          "sample_id": "WT"
         },
         {
          "BiGG_ID": "RPE",
          "author": "Millard",
          "relative_error": 531.5520028142798,
          "sample_id": "WT"
         },
         {
          "BiGG_ID": "RPI",
          "author": "Millard",
          "relative_error": 16.840189255460675,
          "sample_id": "WT"
         },
         {
          "BiGG_ID": "SUCDi",
          "author": "Millard",
          "relative_error": 9.506155593488028,
          "sample_id": "WT"
         },
         {
          "BiGG_ID": "TALA",
          "author": "Millard",
          "relative_error": 109.82234295314586,
          "sample_id": "WT"
         },
         {
          "BiGG_ID": "TKT1",
          "author": "Millard",
          "relative_error": 405.24163342996656,
          "sample_id": "WT"
         },
         {
          "BiGG_ID": "TPI",
          "author": "Millard",
          "relative_error": 5.117718039565636,
          "sample_id": "WT"
         },
         {
          "BiGG_ID": "AKGDH",
          "author": "Millard",
          "relative_error": 100,
          "sample_id": "fbaA"
         },
         {
          "BiGG_ID": "CS",
          "author": "Millard",
          "relative_error": 100,
          "sample_id": "fbaA"
         },
         {
          "BiGG_ID": "EDA",
          "author": "Millard",
          "relative_error": null,
          "sample_id": "fbaA"
         },
         {
          "BiGG_ID": "FBA",
          "author": "Millard",
          "relative_error": 100,
          "sample_id": "fbaA"
         },
         {
          "BiGG_ID": "FUM",
          "author": "Millard",
          "relative_error": 100,
          "sample_id": "fbaA"
         },
         {
          "BiGG_ID": "G6PDH2r",
          "author": "Millard",
          "relative_error": null,
          "sample_id": "fbaA"
         },
         {
          "BiGG_ID": "GAPD",
          "author": "Millard",
          "relative_error": null,
          "sample_id": "fbaA"
         },
         {
          "BiGG_ID": "GLCptspp",
          "author": "Millard",
          "relative_error": 100,
          "sample_id": "fbaA"
         },
         {
          "BiGG_ID": "GND",
          "author": "Millard",
          "relative_error": null,
          "sample_id": "fbaA"
         },
         {
          "BiGG_ID": "ICDHyr",
          "author": "Millard",
          "relative_error": 100,
          "sample_id": "fbaA"
         },
         {
          "BiGG_ID": "ICL",
          "author": "Millard",
          "relative_error": 100,
          "sample_id": "fbaA"
         },
         {
          "BiGG_ID": "MALS",
          "author": "Millard",
          "relative_error": 100,
          "sample_id": "fbaA"
         },
         {
          "BiGG_ID": "MDH",
          "author": "Millard",
          "relative_error": 100,
          "sample_id": "fbaA"
         },
         {
          "BiGG_ID": "PDH",
          "author": "Millard",
          "relative_error": null,
          "sample_id": "fbaA"
         },
         {
          "BiGG_ID": "PGI",
          "author": "Millard",
          "relative_error": null,
          "sample_id": "fbaA"
         },
         {
          "BiGG_ID": "PGM",
          "author": "Millard",
          "relative_error": 100,
          "sample_id": "fbaA"
         },
         {
          "BiGG_ID": "PPC",
          "author": "Millard",
          "relative_error": 100,
          "sample_id": "fbaA"
         },
         {
          "BiGG_ID": "PTAr",
          "author": "Millard",
          "relative_error": null,
          "sample_id": "fbaA"
         },
         {
          "BiGG_ID": "PYK",
          "author": "Millard",
          "relative_error": 100,
          "sample_id": "fbaA"
         },
         {
          "BiGG_ID": "RPE",
          "author": "Millard",
          "relative_error": null,
          "sample_id": "fbaA"
         },
         {
          "BiGG_ID": "RPI",
          "author": "Millard",
          "relative_error": 100,
          "sample_id": "fbaA"
         },
         {
          "BiGG_ID": "SUCDi",
          "author": "Millard",
          "relative_error": 100,
          "sample_id": "fbaA"
         },
         {
          "BiGG_ID": "TALA",
          "author": "Millard",
          "relative_error": null,
          "sample_id": "fbaA"
         },
         {
          "BiGG_ID": "TKT1",
          "author": "Millard",
          "relative_error": 100,
          "sample_id": "fbaA"
         },
         {
          "BiGG_ID": "TPI",
          "author": "Millard",
          "relative_error": 100,
          "sample_id": "fbaA"
         },
         {
          "BiGG_ID": "AKGDH",
          "author": "Millard",
          "relative_error": 100,
          "sample_id": "fbaB"
         },
         {
          "BiGG_ID": "CS",
          "author": "Millard",
          "relative_error": 100,
          "sample_id": "fbaB"
         },
         {
          "BiGG_ID": "EDA",
          "author": "Millard",
          "relative_error": 100,
          "sample_id": "fbaB"
         },
         {
          "BiGG_ID": "FBA",
          "author": "Millard",
          "relative_error": 100,
          "sample_id": "fbaB"
         },
         {
          "BiGG_ID": "FUM",
          "author": "Millard",
          "relative_error": 100,
          "sample_id": "fbaB"
         },
         {
          "BiGG_ID": "G6PDH2r",
          "author": "Millard",
          "relative_error": 1476.214615356153,
          "sample_id": "fbaB"
         },
         {
          "BiGG_ID": "GAPD",
          "author": "Millard",
          "relative_error": 12183.447508900777,
          "sample_id": "fbaB"
         },
         {
          "BiGG_ID": "GLCptspp",
          "author": "Millard",
          "relative_error": 100,
          "sample_id": "fbaB"
         },
         {
          "BiGG_ID": "GND",
          "author": "Millard",
          "relative_error": 12839.930239281424,
          "sample_id": "fbaB"
         },
         {
          "BiGG_ID": "ICDHyr",
          "author": "Millard",
          "relative_error": 100,
          "sample_id": "fbaB"
         },
         {
          "BiGG_ID": "ICL",
          "author": "Millard",
          "relative_error": 100,
          "sample_id": "fbaB"
         },
         {
          "BiGG_ID": "MALS",
          "author": "Millard",
          "relative_error": 100,
          "sample_id": "fbaB"
         },
         {
          "BiGG_ID": "MDH",
          "author": "Millard",
          "relative_error": 100,
          "sample_id": "fbaB"
         },
         {
          "BiGG_ID": "PDH",
          "author": "Millard",
          "relative_error": 8708.734445073884,
          "sample_id": "fbaB"
         },
         {
          "BiGG_ID": "PGI",
          "author": "Millard",
          "relative_error": 4702.630673992681,
          "sample_id": "fbaB"
         },
         {
          "BiGG_ID": "PGM",
          "author": "Millard",
          "relative_error": 100,
          "sample_id": "fbaB"
         },
         {
          "BiGG_ID": "PPC",
          "author": "Millard",
          "relative_error": 100,
          "sample_id": "fbaB"
         },
         {
          "BiGG_ID": "PTAr",
          "author": "Millard",
          "relative_error": 100,
          "sample_id": "fbaB"
         },
         {
          "BiGG_ID": "PYK",
          "author": "Millard",
          "relative_error": 100,
          "sample_id": "fbaB"
         },
         {
          "BiGG_ID": "RPE",
          "author": "Millard",
          "relative_error": 10009.49418167885,
          "sample_id": "fbaB"
         },
         {
          "BiGG_ID": "RPI",
          "author": "Millard",
          "relative_error": 100,
          "sample_id": "fbaB"
         },
         {
          "BiGG_ID": "SUCDi",
          "author": "Millard",
          "relative_error": 100,
          "sample_id": "fbaB"
         },
         {
          "BiGG_ID": "TALA",
          "author": "Millard",
          "relative_error": 6578.769314031848,
          "sample_id": "fbaB"
         },
         {
          "BiGG_ID": "TKT1",
          "author": "Millard",
          "relative_error": 100,
          "sample_id": "fbaB"
         },
         {
          "BiGG_ID": "TPI",
          "author": "Millard",
          "relative_error": 100,
          "sample_id": "fbaB"
         },
         {
          "BiGG_ID": "AKGDH",
          "author": "Millard",
          "relative_error": 9.599352259050043,
          "sample_id": "fbp"
         },
         {
          "BiGG_ID": "CS",
          "author": "Millard",
          "relative_error": 4.542691969651648,
          "sample_id": "fbp"
         },
         {
          "BiGG_ID": "EDA",
          "author": "Millard",
          "relative_error": 100,
          "sample_id": "fbp"
         },
         {
          "BiGG_ID": "FBA",
          "author": "Millard",
          "relative_error": 5.724341914764177,
          "sample_id": "fbp"
         },
         {
          "BiGG_ID": "FUM",
          "author": "Millard",
          "relative_error": 5.182222118600426,
          "sample_id": "fbp"
         },
         {
          "BiGG_ID": "G6PDH2r",
          "author": "Millard",
          "relative_error": 13.533907275353204,
          "sample_id": "fbp"
         },
         {
          "BiGG_ID": "GAPD",
          "author": "Millard",
          "relative_error": 2.750502161332652,
          "sample_id": "fbp"
         },
         {
          "BiGG_ID": "GLCptspp",
          "author": "Millard",
          "relative_error": 5.242384304435271e-11,
          "sample_id": "fbp"
         },
         {
          "BiGG_ID": "GND",
          "author": "Millard",
          "relative_error": 37.18536291724689,
          "sample_id": "fbp"
         },
         {
          "BiGG_ID": "ICDHyr",
          "author": "Millard",
          "relative_error": 8.126433503259824,
          "sample_id": "fbp"
         },
         {
          "BiGG_ID": "ICL",
          "author": "Millard",
          "relative_error": 37.37941542868459,
          "sample_id": "fbp"
         },
         {
          "BiGG_ID": "MALS",
          "author": "Millard",
          "relative_error": 37.37941542763005,
          "sample_id": "fbp"
         },
         {
          "BiGG_ID": "MDH",
          "author": "Millard",
          "relative_error": 9.713298523116494,
          "sample_id": "fbp"
         },
         {
          "BiGG_ID": "PDH",
          "author": "Millard",
          "relative_error": 7.869912352948061,
          "sample_id": "fbp"
         },
         {
          "BiGG_ID": "PGI",
          "author": "Millard",
          "relative_error": 3.5438330897526287,
          "sample_id": "fbp"
         },
         {
          "BiGG_ID": "PGM",
          "author": "Millard",
          "relative_error": 3.942500902331622,
          "sample_id": "fbp"
         },
         {
          "BiGG_ID": "PPC",
          "author": "Millard",
          "relative_error": 95.75207728247752,
          "sample_id": "fbp"
         },
         {
          "BiGG_ID": "PTAr",
          "author": "Millard",
          "relative_error": 100,
          "sample_id": "fbp"
         },
         {
          "BiGG_ID": "PYK",
          "author": "Millard",
          "relative_error": 27.46671627454719,
          "sample_id": "fbp"
         },
         {
          "BiGG_ID": "RPE",
          "author": "Millard",
          "relative_error": 279.27069116465833,
          "sample_id": "fbp"
         },
         {
          "BiGG_ID": "RPI",
          "author": "Millard",
          "relative_error": 16.845032200122386,
          "sample_id": "fbp"
         },
         {
          "BiGG_ID": "SUCDi",
          "author": "Millard",
          "relative_error": 5.182222112586091,
          "sample_id": "fbp"
         },
         {
          "BiGG_ID": "TALA",
          "author": "Millard",
          "relative_error": 57.396520931242414,
          "sample_id": "fbp"
         },
         {
          "BiGG_ID": "TKT1",
          "author": "Millard",
          "relative_error": 279.2706877022689,
          "sample_id": "fbp"
         },
         {
          "BiGG_ID": "TPI",
          "author": "Millard",
          "relative_error": 5.724341915175309,
          "sample_id": "fbp"
         },
         {
          "BiGG_ID": "AKGDH",
          "author": "Millard",
          "relative_error": null,
          "sample_id": "glk"
         },
         {
          "BiGG_ID": "CS",
          "author": "Millard",
          "relative_error": null,
          "sample_id": "glk"
         },
         {
          "BiGG_ID": "EDA",
          "author": "Millard",
          "relative_error": null,
          "sample_id": "glk"
         },
         {
          "BiGG_ID": "FBA",
          "author": "Millard",
          "relative_error": null,
          "sample_id": "glk"
         },
         {
          "BiGG_ID": "FUM",
          "author": "Millard",
          "relative_error": null,
          "sample_id": "glk"
         },
         {
          "BiGG_ID": "G6PDH2r",
          "author": "Millard",
          "relative_error": null,
          "sample_id": "glk"
         },
         {
          "BiGG_ID": "GAPD",
          "author": "Millard",
          "relative_error": null,
          "sample_id": "glk"
         },
         {
          "BiGG_ID": "GLCptspp",
          "author": "Millard",
          "relative_error": null,
          "sample_id": "glk"
         },
         {
          "BiGG_ID": "GND",
          "author": "Millard",
          "relative_error": null,
          "sample_id": "glk"
         },
         {
          "BiGG_ID": "ICDHyr",
          "author": "Millard",
          "relative_error": null,
          "sample_id": "glk"
         },
         {
          "BiGG_ID": "ICL",
          "author": "Millard",
          "relative_error": null,
          "sample_id": "glk"
         },
         {
          "BiGG_ID": "MALS",
          "author": "Millard",
          "relative_error": null,
          "sample_id": "glk"
         },
         {
          "BiGG_ID": "MDH",
          "author": "Millard",
          "relative_error": null,
          "sample_id": "glk"
         },
         {
          "BiGG_ID": "PDH",
          "author": "Millard",
          "relative_error": null,
          "sample_id": "glk"
         },
         {
          "BiGG_ID": "PGI",
          "author": "Millard",
          "relative_error": null,
          "sample_id": "glk"
         },
         {
          "BiGG_ID": "PGM",
          "author": "Millard",
          "relative_error": null,
          "sample_id": "glk"
         },
         {
          "BiGG_ID": "PPC",
          "author": "Millard",
          "relative_error": null,
          "sample_id": "glk"
         },
         {
          "BiGG_ID": "PTAr",
          "author": "Millard",
          "relative_error": null,
          "sample_id": "glk"
         },
         {
          "BiGG_ID": "PYK",
          "author": "Millard",
          "relative_error": null,
          "sample_id": "glk"
         },
         {
          "BiGG_ID": "RPE",
          "author": "Millard",
          "relative_error": null,
          "sample_id": "glk"
         },
         {
          "BiGG_ID": "RPI",
          "author": "Millard",
          "relative_error": null,
          "sample_id": "glk"
         },
         {
          "BiGG_ID": "SUCDi",
          "author": "Millard",
          "relative_error": null,
          "sample_id": "glk"
         },
         {
          "BiGG_ID": "TALA",
          "author": "Millard",
          "relative_error": null,
          "sample_id": "glk"
         },
         {
          "BiGG_ID": "TKT1",
          "author": "Millard",
          "relative_error": null,
          "sample_id": "glk"
         },
         {
          "BiGG_ID": "TPI",
          "author": "Millard",
          "relative_error": null,
          "sample_id": "glk"
         },
         {
          "BiGG_ID": "AKGDH",
          "author": "Millard",
          "relative_error": 57.73419321377639,
          "sample_id": "gnd"
         },
         {
          "BiGG_ID": "CS",
          "author": "Millard",
          "relative_error": 29.456341365953666,
          "sample_id": "gnd"
         },
         {
          "BiGG_ID": "EDA",
          "author": "Millard",
          "relative_error": 100,
          "sample_id": "gnd"
         },
         {
          "BiGG_ID": "FBA",
          "author": "Millard",
          "relative_error": 22.231563876283232,
          "sample_id": "gnd"
         },
         {
          "BiGG_ID": "FUM",
          "author": "Millard",
          "relative_error": 35.54560916111873,
          "sample_id": "gnd"
         },
         {
          "BiGG_ID": "G6PDH2r",
          "author": "Millard",
          "relative_error": 100,
          "sample_id": "gnd"
         },
         {
          "BiGG_ID": "GAPD",
          "author": "Millard",
          "relative_error": 12.102358789170145,
          "sample_id": "gnd"
         },
         {
          "BiGG_ID": "GLCptspp",
          "author": "Millard",
          "relative_error": 4.3592933705359014e-09,
          "sample_id": "gnd"
         },
         {
          "BiGG_ID": "GND",
          "author": "Millard",
          "relative_error": 0,
          "sample_id": "gnd"
         },
         {
          "BiGG_ID": "ICDHyr",
          "author": "Millard",
          "relative_error": 48.08853461887174,
          "sample_id": "gnd"
         },
         {
          "BiGG_ID": "ICL",
          "author": "Millard",
          "relative_error": 22.42626845655256,
          "sample_id": "gnd"
         },
         {
          "BiGG_ID": "MALS",
          "author": "Millard",
          "relative_error": 22.426268455615755,
          "sample_id": "gnd"
         },
         {
          "BiGG_ID": "MDH",
          "author": "Millard",
          "relative_error": 28.451094171875468,
          "sample_id": "gnd"
         },
         {
          "BiGG_ID": "PDH",
          "author": "Millard",
          "relative_error": 10.37372454442029,
          "sample_id": "gnd"
         },
         {
          "BiGG_ID": "PGI",
          "author": "Millard",
          "relative_error": 19.853000005757856,
          "sample_id": "gnd"
         },
         {
          "BiGG_ID": "PGM",
          "author": "Millard",
          "relative_error": 15.328634026539738,
          "sample_id": "gnd"
         },
         {
          "BiGG_ID": "PPC",
          "author": "Millard",
          "relative_error": 88.28970401175488,
          "sample_id": "gnd"
         },
         {
          "BiGG_ID": "PTAr",
          "author": "Millard",
          "relative_error": 100,
          "sample_id": "gnd"
         },
         {
          "BiGG_ID": "PYK",
          "author": "Millard",
          "relative_error": 73.42052202355781,
          "sample_id": "gnd"
         },
         {
          "BiGG_ID": "RPE",
          "author": "Millard",
          "relative_error": 184.29301285066995,
          "sample_id": "gnd"
         },
         {
          "BiGG_ID": "RPI",
          "author": "Millard",
          "relative_error": 15.706987183513043,
          "sample_id": "gnd"
         },
         {
          "BiGG_ID": "SUCDi",
          "author": "Millard",
          "relative_error": 35.54560907516626,
          "sample_id": "gnd"
         },
         {
          "BiGG_ID": "TALA",
          "author": "Millard",
          "relative_error": 167.7682418806973,
          "sample_id": "gnd"
         },
         {
          "BiGG_ID": "TKT1",
          "author": "Millard",
          "relative_error": 122.44128727911905,
          "sample_id": "gnd"
         },
         {
          "BiGG_ID": "TPI",
          "author": "Millard",
          "relative_error": 22.231563953015844,
          "sample_id": "gnd"
         },
         {
          "BiGG_ID": "AKGDH",
          "author": "Millard",
          "relative_error": null,
          "sample_id": "gpmA"
         },
         {
          "BiGG_ID": "CS",
          "author": "Millard",
          "relative_error": null,
          "sample_id": "gpmA"
         },
         {
          "BiGG_ID": "EDA",
          "author": "Millard",
          "relative_error": null,
          "sample_id": "gpmA"
         },
         {
          "BiGG_ID": "FBA",
          "author": "Millard",
          "relative_error": null,
          "sample_id": "gpmA"
         },
         {
          "BiGG_ID": "FUM",
          "author": "Millard",
          "relative_error": null,
          "sample_id": "gpmA"
         },
         {
          "BiGG_ID": "G6PDH2r",
          "author": "Millard",
          "relative_error": null,
          "sample_id": "gpmA"
         },
         {
          "BiGG_ID": "GAPD",
          "author": "Millard",
          "relative_error": null,
          "sample_id": "gpmA"
         },
         {
          "BiGG_ID": "GLCptspp",
          "author": "Millard",
          "relative_error": null,
          "sample_id": "gpmA"
         },
         {
          "BiGG_ID": "GND",
          "author": "Millard",
          "relative_error": null,
          "sample_id": "gpmA"
         },
         {
          "BiGG_ID": "ICDHyr",
          "author": "Millard",
          "relative_error": null,
          "sample_id": "gpmA"
         },
         {
          "BiGG_ID": "ICL",
          "author": "Millard",
          "relative_error": null,
          "sample_id": "gpmA"
         },
         {
          "BiGG_ID": "MALS",
          "author": "Millard",
          "relative_error": null,
          "sample_id": "gpmA"
         },
         {
          "BiGG_ID": "MDH",
          "author": "Millard",
          "relative_error": null,
          "sample_id": "gpmA"
         },
         {
          "BiGG_ID": "PDH",
          "author": "Millard",
          "relative_error": null,
          "sample_id": "gpmA"
         },
         {
          "BiGG_ID": "PGI",
          "author": "Millard",
          "relative_error": null,
          "sample_id": "gpmA"
         },
         {
          "BiGG_ID": "PGM",
          "author": "Millard",
          "relative_error": null,
          "sample_id": "gpmA"
         },
         {
          "BiGG_ID": "PPC",
          "author": "Millard",
          "relative_error": null,
          "sample_id": "gpmA"
         },
         {
          "BiGG_ID": "PTAr",
          "author": "Millard",
          "relative_error": null,
          "sample_id": "gpmA"
         },
         {
          "BiGG_ID": "PYK",
          "author": "Millard",
          "relative_error": null,
          "sample_id": "gpmA"
         },
         {
          "BiGG_ID": "RPE",
          "author": "Millard",
          "relative_error": null,
          "sample_id": "gpmA"
         },
         {
          "BiGG_ID": "RPI",
          "author": "Millard",
          "relative_error": null,
          "sample_id": "gpmA"
         },
         {
          "BiGG_ID": "SUCDi",
          "author": "Millard",
          "relative_error": null,
          "sample_id": "gpmA"
         },
         {
          "BiGG_ID": "TALA",
          "author": "Millard",
          "relative_error": null,
          "sample_id": "gpmA"
         },
         {
          "BiGG_ID": "TKT1",
          "author": "Millard",
          "relative_error": null,
          "sample_id": "gpmA"
         },
         {
          "BiGG_ID": "TPI",
          "author": "Millard",
          "relative_error": null,
          "sample_id": "gpmA"
         },
         {
          "BiGG_ID": "AKGDH",
          "author": "Millard",
          "relative_error": null,
          "sample_id": "gpmB"
         },
         {
          "BiGG_ID": "CS",
          "author": "Millard",
          "relative_error": null,
          "sample_id": "gpmB"
         },
         {
          "BiGG_ID": "EDA",
          "author": "Millard",
          "relative_error": null,
          "sample_id": "gpmB"
         },
         {
          "BiGG_ID": "FBA",
          "author": "Millard",
          "relative_error": null,
          "sample_id": "gpmB"
         },
         {
          "BiGG_ID": "FUM",
          "author": "Millard",
          "relative_error": null,
          "sample_id": "gpmB"
         },
         {
          "BiGG_ID": "G6PDH2r",
          "author": "Millard",
          "relative_error": null,
          "sample_id": "gpmB"
         },
         {
          "BiGG_ID": "GAPD",
          "author": "Millard",
          "relative_error": null,
          "sample_id": "gpmB"
         },
         {
          "BiGG_ID": "GLCptspp",
          "author": "Millard",
          "relative_error": null,
          "sample_id": "gpmB"
         },
         {
          "BiGG_ID": "GND",
          "author": "Millard",
          "relative_error": null,
          "sample_id": "gpmB"
         },
         {
          "BiGG_ID": "ICDHyr",
          "author": "Millard",
          "relative_error": null,
          "sample_id": "gpmB"
         },
         {
          "BiGG_ID": "ICL",
          "author": "Millard",
          "relative_error": null,
          "sample_id": "gpmB"
         },
         {
          "BiGG_ID": "MALS",
          "author": "Millard",
          "relative_error": null,
          "sample_id": "gpmB"
         },
         {
          "BiGG_ID": "MDH",
          "author": "Millard",
          "relative_error": null,
          "sample_id": "gpmB"
         },
         {
          "BiGG_ID": "PDH",
          "author": "Millard",
          "relative_error": null,
          "sample_id": "gpmB"
         },
         {
          "BiGG_ID": "PGI",
          "author": "Millard",
          "relative_error": null,
          "sample_id": "gpmB"
         },
         {
          "BiGG_ID": "PGM",
          "author": "Millard",
          "relative_error": null,
          "sample_id": "gpmB"
         },
         {
          "BiGG_ID": "PPC",
          "author": "Millard",
          "relative_error": null,
          "sample_id": "gpmB"
         },
         {
          "BiGG_ID": "PTAr",
          "author": "Millard",
          "relative_error": null,
          "sample_id": "gpmB"
         },
         {
          "BiGG_ID": "PYK",
          "author": "Millard",
          "relative_error": null,
          "sample_id": "gpmB"
         },
         {
          "BiGG_ID": "RPE",
          "author": "Millard",
          "relative_error": null,
          "sample_id": "gpmB"
         },
         {
          "BiGG_ID": "RPI",
          "author": "Millard",
          "relative_error": null,
          "sample_id": "gpmB"
         },
         {
          "BiGG_ID": "SUCDi",
          "author": "Millard",
          "relative_error": null,
          "sample_id": "gpmB"
         },
         {
          "BiGG_ID": "TALA",
          "author": "Millard",
          "relative_error": null,
          "sample_id": "gpmB"
         },
         {
          "BiGG_ID": "TKT1",
          "author": "Millard",
          "relative_error": null,
          "sample_id": "gpmB"
         },
         {
          "BiGG_ID": "TPI",
          "author": "Millard",
          "relative_error": null,
          "sample_id": "gpmB"
         },
         {
          "BiGG_ID": "AKGDH",
          "author": "Millard",
          "relative_error": 100,
          "sample_id": "pfkA"
         },
         {
          "BiGG_ID": "CS",
          "author": "Millard",
          "relative_error": 100,
          "sample_id": "pfkA"
         },
         {
          "BiGG_ID": "EDA",
          "author": "Millard",
          "relative_error": 0,
          "sample_id": "pfkA"
         },
         {
          "BiGG_ID": "FBA",
          "author": "Millard",
          "relative_error": 100,
          "sample_id": "pfkA"
         },
         {
          "BiGG_ID": "FUM",
          "author": "Millard",
          "relative_error": 100,
          "sample_id": "pfkA"
         },
         {
          "BiGG_ID": "G6PDH2r",
          "author": "Millard",
          "relative_error": 2572.315928563716,
          "sample_id": "pfkA"
         },
         {
          "BiGG_ID": "GAPD",
          "author": "Millard",
          "relative_error": 100,
          "sample_id": "pfkA"
         },
         {
          "BiGG_ID": "GLCptspp",
          "author": "Millard",
          "relative_error": 100,
          "sample_id": "pfkA"
         },
         {
          "BiGG_ID": "GND",
          "author": "Millard",
          "relative_error": 2644.4843705170665,
          "sample_id": "pfkA"
         },
         {
          "BiGG_ID": "ICDHyr",
          "author": "Millard",
          "relative_error": 100,
          "sample_id": "pfkA"
         },
         {
          "BiGG_ID": "ICL",
          "author": "Millard",
          "relative_error": 100,
          "sample_id": "pfkA"
         },
         {
          "BiGG_ID": "MALS",
          "author": "Millard",
          "relative_error": 100,
          "sample_id": "pfkA"
         },
         {
          "BiGG_ID": "MDH",
          "author": "Millard",
          "relative_error": 100,
          "sample_id": "pfkA"
         },
         {
          "BiGG_ID": "PDH",
          "author": "Millard",
          "relative_error": 100,
          "sample_id": "pfkA"
         },
         {
          "BiGG_ID": "PGI",
          "author": "Millard",
          "relative_error": 16138.455285121629,
          "sample_id": "pfkA"
         },
         {
          "BiGG_ID": "PGM",
          "author": "Millard",
          "relative_error": 100,
          "sample_id": "pfkA"
         },
         {
          "BiGG_ID": "PPC",
          "author": "Millard",
          "relative_error": 100,
          "sample_id": "pfkA"
         },
         {
          "BiGG_ID": "PTAr",
          "author": "Millard",
          "relative_error": 0,
          "sample_id": "pfkA"
         },
         {
          "BiGG_ID": "PYK",
          "author": "Millard",
          "relative_error": 100,
          "sample_id": "pfkA"
         },
         {
          "BiGG_ID": "RPE",
          "author": "Millard",
          "relative_error": 898.4524933458001,
          "sample_id": "pfkA"
         },
         {
          "BiGG_ID": "RPI",
          "author": "Millard",
          "relative_error": 5143.0660199059585,
          "sample_id": "pfkA"
         },
         {
          "BiGG_ID": "SUCDi",
          "author": "Millard",
          "relative_error": 100,
          "sample_id": "pfkA"
         },
         {
          "BiGG_ID": "TALA",
          "author": "Millard",
          "relative_error": 1045.795589382661,
          "sample_id": "pfkA"
         },
         {
          "BiGG_ID": "TKT1",
          "author": "Millard",
          "relative_error": 1329.1397027665691,
          "sample_id": "pfkA"
         },
         {
          "BiGG_ID": "TPI",
          "author": "Millard",
          "relative_error": 100,
          "sample_id": "pfkA"
         },
         {
          "BiGG_ID": "AKGDH",
          "author": "Millard",
          "relative_error": 100,
          "sample_id": "pfkB"
         },
         {
          "BiGG_ID": "CS",
          "author": "Millard",
          "relative_error": 100,
          "sample_id": "pfkB"
         },
         {
          "BiGG_ID": "EDA",
          "author": "Millard",
          "relative_error": 0,
          "sample_id": "pfkB"
         },
         {
          "BiGG_ID": "FBA",
          "author": "Millard",
          "relative_error": 100,
          "sample_id": "pfkB"
         },
         {
          "BiGG_ID": "FUM",
          "author": "Millard",
          "relative_error": 100,
          "sample_id": "pfkB"
         },
         {
          "BiGG_ID": "G6PDH2r",
          "author": "Millard",
          "relative_error": 8871.346331606761,
          "sample_id": "pfkB"
         },
         {
          "BiGG_ID": "GAPD",
          "author": "Millard",
          "relative_error": 100,
          "sample_id": "pfkB"
         },
         {
          "BiGG_ID": "GLCptspp",
          "author": "Millard",
          "relative_error": 100,
          "sample_id": "pfkB"
         },
         {
          "BiGG_ID": "GND",
          "author": "Millard",
          "relative_error": 9113.62610102158,
          "sample_id": "pfkB"
         },
         {
          "BiGG_ID": "ICDHyr",
          "author": "Millard",
          "relative_error": 100,
          "sample_id": "pfkB"
         },
         {
          "BiGG_ID": "ICL",
          "author": "Millard",
          "relative_error": 100,
          "sample_id": "pfkB"
         },
         {
          "BiGG_ID": "MALS",
          "author": "Millard",
          "relative_error": 100,
          "sample_id": "pfkB"
         },
         {
          "BiGG_ID": "MDH",
          "author": "Millard",
          "relative_error": 100,
          "sample_id": "pfkB"
         },
         {
          "BiGG_ID": "PDH",
          "author": "Millard",
          "relative_error": 100,
          "sample_id": "pfkB"
         },
         {
          "BiGG_ID": "PGI",
          "author": "Millard",
          "relative_error": 10028.567557456245,
          "sample_id": "pfkB"
         },
         {
          "BiGG_ID": "PGM",
          "author": "Millard",
          "relative_error": 100,
          "sample_id": "pfkB"
         },
         {
          "BiGG_ID": "PPC",
          "author": "Millard",
          "relative_error": 0,
          "sample_id": "pfkB"
         },
         {
          "BiGG_ID": "PTAr",
          "author": "Millard",
          "relative_error": 0,
          "sample_id": "pfkB"
         },
         {
          "BiGG_ID": "PYK",
          "author": "Millard",
          "relative_error": 100,
          "sample_id": "pfkB"
         },
         {
          "BiGG_ID": "RPE",
          "author": "Millard",
          "relative_error": 8220.437444548335,
          "sample_id": "pfkB"
         },
         {
          "BiGG_ID": "RPI",
          "author": "Millard",
          "relative_error": 9909.489674365923,
          "sample_id": "pfkB"
         },
         {
          "BiGG_ID": "SUCDi",
          "author": "Millard",
          "relative_error": 100,
          "sample_id": "pfkB"
         },
         {
          "BiGG_ID": "TALA",
          "author": "Millard",
          "relative_error": 5247.046083785752,
          "sample_id": "pfkB"
         },
         {
          "BiGG_ID": "TKT1",
          "author": "Millard",
          "relative_error": 6569.318612910656,
          "sample_id": "pfkB"
         },
         {
          "BiGG_ID": "TPI",
          "author": "Millard",
          "relative_error": 100,
          "sample_id": "pfkB"
         },
         {
          "BiGG_ID": "AKGDH",
          "author": "Millard",
          "relative_error": 62.811453017918296,
          "sample_id": "pgi"
         },
         {
          "BiGG_ID": "CS",
          "author": "Millard",
          "relative_error": 53.56613525338201,
          "sample_id": "pgi"
         },
         {
          "BiGG_ID": "EDA",
          "author": "Millard",
          "relative_error": 19.589947646464243,
          "sample_id": "pgi"
         },
         {
          "BiGG_ID": "FBA",
          "author": "Millard",
          "relative_error": 0.6649677056567255,
          "sample_id": "pgi"
         },
         {
          "BiGG_ID": "FUM",
          "author": "Millard",
          "relative_error": 59.74146284722976,
          "sample_id": "pgi"
         },
         {
          "BiGG_ID": "G6PDH2r",
          "author": "Millard",
          "relative_error": 19.761587515769087,
          "sample_id": "pgi"
         },
         {
          "BiGG_ID": "GAPD",
          "author": "Millard",
          "relative_error": 4.047984122394257,
          "sample_id": "pgi"
         },
         {
          "BiGG_ID": "GLCptspp",
          "author": "Millard",
          "relative_error": 0.23594315689122797,
          "sample_id": "pgi"
         },
         {
          "BiGG_ID": "GND",
          "author": "Millard",
          "relative_error": 19.926698931898546,
          "sample_id": "pgi"
         },
         {
          "BiGG_ID": "ICDHyr",
          "author": "Millard",
          "relative_error": 53.89110610125052,
          "sample_id": "pgi"
         },
         {
          "BiGG_ID": "ICL",
          "author": "Millard",
          "relative_error": 54.81961696002268,
          "sample_id": "pgi"
         },
         {
          "BiGG_ID": "MALS",
          "author": "Millard",
          "relative_error": 54.81964304005822,
          "sample_id": "pgi"
         },
         {
          "BiGG_ID": "MDH",
          "author": "Millard",
          "relative_error": 59.218925996494555,
          "sample_id": "pgi"
         },
         {
          "BiGG_ID": "PDH",
          "author": "Millard",
          "relative_error": 39.08009852227083,
          "sample_id": "pgi"
         },
         {
          "BiGG_ID": "PGI",
          "author": "Millard",
          "relative_error": 0,
          "sample_id": "pgi"
         },
         {
          "BiGG_ID": "PGM",
          "author": "Millard",
          "relative_error": 5.2825079466101075,
          "sample_id": "pgi"
         },
         {
          "BiGG_ID": "PPC",
          "author": "Millard",
          "relative_error": 100,
          "sample_id": "pgi"
         },
         {
          "BiGG_ID": "PTAr",
          "author": "Millard",
          "relative_error": 100,
          "sample_id": "pgi"
         },
         {
          "BiGG_ID": "PYK",
          "author": "Millard",
          "relative_error": 92.7807705673655,
          "sample_id": "pgi"
         },
         {
          "BiGG_ID": "RPE",
          "author": "Millard",
          "relative_error": 3.5864511756754682,
          "sample_id": "pgi"
         },
         {
          "BiGG_ID": "RPI",
          "author": "Millard",
          "relative_error": 52.26114952846677,
          "sample_id": "pgi"
         },
         {
          "BiGG_ID": "SUCDi",
          "author": "Millard",
          "relative_error": 59.74143742638165,
          "sample_id": "pgi"
         },
         {
          "BiGG_ID": "TALA",
          "author": "Millard",
          "relative_error": 12.26462804029695,
          "sample_id": "pgi"
         },
         {
          "BiGG_ID": "TKT1",
          "author": "Millard",
          "relative_error": 12.263482493257165,
          "sample_id": "pgi"
         },
         {
          "BiGG_ID": "TPI",
          "author": "Millard",
          "relative_error": 0.665398295263774,
          "sample_id": "pgi"
         },
         {
          "BiGG_ID": "AKGDH",
          "author": "Millard",
          "relative_error": 24.00801436537005,
          "sample_id": "pgl"
         },
         {
          "BiGG_ID": "CS",
          "author": "Millard",
          "relative_error": 13.12734512208063,
          "sample_id": "pgl"
         },
         {
          "BiGG_ID": "EDA",
          "author": "Millard",
          "relative_error": 100,
          "sample_id": "pgl"
         },
         {
          "BiGG_ID": "FBA",
          "author": "Millard",
          "relative_error": 7.176687851417664,
          "sample_id": "pgl"
         },
         {
          "BiGG_ID": "FUM",
          "author": "Millard",
          "relative_error": 14.662575341363382,
          "sample_id": "pgl"
         },
         {
          "BiGG_ID": "G6PDH2r",
          "author": "Millard",
          "relative_error": 5441.152054850664,
          "sample_id": "pgl"
         },
         {
          "BiGG_ID": "GAPD",
          "author": "Millard",
          "relative_error": 4.4267859021100735,
          "sample_id": "pgl"
         },
         {
          "BiGG_ID": "GLCptspp",
          "author": "Millard",
          "relative_error": 5.243261116923126e-08,
          "sample_id": "pgl"
         },
         {
          "BiGG_ID": "GND",
          "author": "Millard",
          "relative_error": 100,
          "sample_id": "pgl"
         },
         {
          "BiGG_ID": "ICDHyr",
          "author": "Millard",
          "relative_error": 21.57341572869667,
          "sample_id": "pgl"
         },
         {
          "BiGG_ID": "ICL",
          "author": "Millard",
          "relative_error": 82.64510620224712,
          "sample_id": "pgl"
         },
         {
          "BiGG_ID": "MALS",
          "author": "Millard",
          "relative_error": 82.64500957191005,
          "sample_id": "pgl"
         },
         {
          "BiGG_ID": "MDH",
          "author": "Millard",
          "relative_error": 7.351387598469963,
          "sample_id": "pgl"
         },
         {
          "BiGG_ID": "PDH",
          "author": "Millard",
          "relative_error": 3.471226109252535,
          "sample_id": "pgl"
         },
         {
          "BiGG_ID": "PGI",
          "author": "Millard",
          "relative_error": 20.57344555671141,
          "sample_id": "pgl"
         },
         {
          "BiGG_ID": "PGM",
          "author": "Millard",
          "relative_error": 5.019320261593962,
          "sample_id": "pgl"
         },
         {
          "BiGG_ID": "PPC",
          "author": "Millard",
          "relative_error": 85.25182691256191,
          "sample_id": "pgl"
         },
         {
          "BiGG_ID": "PTAr",
          "author": "Millard",
          "relative_error": 100,
          "sample_id": "pgl"
         },
         {
          "BiGG_ID": "PYK",
          "author": "Millard",
          "relative_error": 6.606736317467653,
          "sample_id": "pgl"
         },
         {
          "BiGG_ID": "RPE",
          "author": "Millard",
          "relative_error": 258.1098724539427,
          "sample_id": "pgl"
         },
         {
          "BiGG_ID": "RPI",
          "author": "Millard",
          "relative_error": 139.85403946831642,
          "sample_id": "pgl"
         },
         {
          "BiGG_ID": "SUCDi",
          "author": "Millard",
          "relative_error": 14.662515580374622,
          "sample_id": "pgl"
         },
         {
          "BiGG_ID": "TALA",
          "author": "Millard",
          "relative_error": 573.0843207472624,
          "sample_id": "pgl"
         },
         {
          "BiGG_ID": "TKT1",
          "author": "Millard",
          "relative_error": 258.24289030738566,
          "sample_id": "pgl"
         },
         {
          "BiGG_ID": "TPI",
          "author": "Millard",
          "relative_error": 7.176674689778202,
          "sample_id": "pgl"
         },
         {
          "BiGG_ID": "AKGDH",
          "author": "Millard",
          "relative_error": null,
          "sample_id": "pgm"
         },
         {
          "BiGG_ID": "CS",
          "author": "Millard",
          "relative_error": null,
          "sample_id": "pgm"
         },
         {
          "BiGG_ID": "EDA",
          "author": "Millard",
          "relative_error": null,
          "sample_id": "pgm"
         },
         {
          "BiGG_ID": "FBA",
          "author": "Millard",
          "relative_error": null,
          "sample_id": "pgm"
         },
         {
          "BiGG_ID": "FUM",
          "author": "Millard",
          "relative_error": null,
          "sample_id": "pgm"
         },
         {
          "BiGG_ID": "G6PDH2r",
          "author": "Millard",
          "relative_error": null,
          "sample_id": "pgm"
         },
         {
          "BiGG_ID": "GAPD",
          "author": "Millard",
          "relative_error": null,
          "sample_id": "pgm"
         },
         {
          "BiGG_ID": "GLCptspp",
          "author": "Millard",
          "relative_error": null,
          "sample_id": "pgm"
         },
         {
          "BiGG_ID": "GND",
          "author": "Millard",
          "relative_error": null,
          "sample_id": "pgm"
         },
         {
          "BiGG_ID": "ICDHyr",
          "author": "Millard",
          "relative_error": null,
          "sample_id": "pgm"
         },
         {
          "BiGG_ID": "ICL",
          "author": "Millard",
          "relative_error": null,
          "sample_id": "pgm"
         },
         {
          "BiGG_ID": "MALS",
          "author": "Millard",
          "relative_error": null,
          "sample_id": "pgm"
         },
         {
          "BiGG_ID": "MDH",
          "author": "Millard",
          "relative_error": null,
          "sample_id": "pgm"
         },
         {
          "BiGG_ID": "PDH",
          "author": "Millard",
          "relative_error": null,
          "sample_id": "pgm"
         },
         {
          "BiGG_ID": "PGI",
          "author": "Millard",
          "relative_error": null,
          "sample_id": "pgm"
         },
         {
          "BiGG_ID": "PGM",
          "author": "Millard",
          "relative_error": null,
          "sample_id": "pgm"
         },
         {
          "BiGG_ID": "PPC",
          "author": "Millard",
          "relative_error": null,
          "sample_id": "pgm"
         },
         {
          "BiGG_ID": "PTAr",
          "author": "Millard",
          "relative_error": null,
          "sample_id": "pgm"
         },
         {
          "BiGG_ID": "PYK",
          "author": "Millard",
          "relative_error": null,
          "sample_id": "pgm"
         },
         {
          "BiGG_ID": "RPE",
          "author": "Millard",
          "relative_error": null,
          "sample_id": "pgm"
         },
         {
          "BiGG_ID": "RPI",
          "author": "Millard",
          "relative_error": null,
          "sample_id": "pgm"
         },
         {
          "BiGG_ID": "SUCDi",
          "author": "Millard",
          "relative_error": null,
          "sample_id": "pgm"
         },
         {
          "BiGG_ID": "TALA",
          "author": "Millard",
          "relative_error": null,
          "sample_id": "pgm"
         },
         {
          "BiGG_ID": "TKT1",
          "author": "Millard",
          "relative_error": null,
          "sample_id": "pgm"
         },
         {
          "BiGG_ID": "TPI",
          "author": "Millard",
          "relative_error": null,
          "sample_id": "pgm"
         },
         {
          "BiGG_ID": "AKGDH",
          "author": "Millard",
          "relative_error": null,
          "sample_id": "ppc"
         },
         {
          "BiGG_ID": "CS",
          "author": "Millard",
          "relative_error": null,
          "sample_id": "ppc"
         },
         {
          "BiGG_ID": "EDA",
          "author": "Millard",
          "relative_error": null,
          "sample_id": "ppc"
         },
         {
          "BiGG_ID": "FBA",
          "author": "Millard",
          "relative_error": null,
          "sample_id": "ppc"
         },
         {
          "BiGG_ID": "FUM",
          "author": "Millard",
          "relative_error": null,
          "sample_id": "ppc"
         },
         {
          "BiGG_ID": "G6PDH2r",
          "author": "Millard",
          "relative_error": null,
          "sample_id": "ppc"
         },
         {
          "BiGG_ID": "GAPD",
          "author": "Millard",
          "relative_error": null,
          "sample_id": "ppc"
         },
         {
          "BiGG_ID": "GLCptspp",
          "author": "Millard",
          "relative_error": null,
          "sample_id": "ppc"
         },
         {
          "BiGG_ID": "GND",
          "author": "Millard",
          "relative_error": null,
          "sample_id": "ppc"
         },
         {
          "BiGG_ID": "ICDHyr",
          "author": "Millard",
          "relative_error": null,
          "sample_id": "ppc"
         },
         {
          "BiGG_ID": "ICL",
          "author": "Millard",
          "relative_error": null,
          "sample_id": "ppc"
         },
         {
          "BiGG_ID": "MALS",
          "author": "Millard",
          "relative_error": null,
          "sample_id": "ppc"
         },
         {
          "BiGG_ID": "MDH",
          "author": "Millard",
          "relative_error": null,
          "sample_id": "ppc"
         },
         {
          "BiGG_ID": "PDH",
          "author": "Millard",
          "relative_error": null,
          "sample_id": "ppc"
         },
         {
          "BiGG_ID": "PGI",
          "author": "Millard",
          "relative_error": null,
          "sample_id": "ppc"
         },
         {
          "BiGG_ID": "PGM",
          "author": "Millard",
          "relative_error": null,
          "sample_id": "ppc"
         },
         {
          "BiGG_ID": "PPC",
          "author": "Millard",
          "relative_error": null,
          "sample_id": "ppc"
         },
         {
          "BiGG_ID": "PTAr",
          "author": "Millard",
          "relative_error": null,
          "sample_id": "ppc"
         },
         {
          "BiGG_ID": "PYK",
          "author": "Millard",
          "relative_error": null,
          "sample_id": "ppc"
         },
         {
          "BiGG_ID": "RPE",
          "author": "Millard",
          "relative_error": null,
          "sample_id": "ppc"
         },
         {
          "BiGG_ID": "RPI",
          "author": "Millard",
          "relative_error": null,
          "sample_id": "ppc"
         },
         {
          "BiGG_ID": "SUCDi",
          "author": "Millard",
          "relative_error": null,
          "sample_id": "ppc"
         },
         {
          "BiGG_ID": "TALA",
          "author": "Millard",
          "relative_error": null,
          "sample_id": "ppc"
         },
         {
          "BiGG_ID": "TKT1",
          "author": "Millard",
          "relative_error": null,
          "sample_id": "ppc"
         },
         {
          "BiGG_ID": "TPI",
          "author": "Millard",
          "relative_error": null,
          "sample_id": "ppc"
         },
         {
          "BiGG_ID": "AKGDH",
          "author": "Millard",
          "relative_error": 66.09184836541932,
          "sample_id": "ppsA"
         },
         {
          "BiGG_ID": "CS",
          "author": "Millard",
          "relative_error": 10.917681928658912,
          "sample_id": "ppsA"
         },
         {
          "BiGG_ID": "EDA",
          "author": "Millard",
          "relative_error": 100,
          "sample_id": "ppsA"
         },
         {
          "BiGG_ID": "FBA",
          "author": "Millard",
          "relative_error": 0.35106008405150557,
          "sample_id": "ppsA"
         },
         {
          "BiGG_ID": "FUM",
          "author": "Millard",
          "relative_error": 13.827844392151603,
          "sample_id": "ppsA"
         },
         {
          "BiGG_ID": "G6PDH2r",
          "author": "Millard",
          "relative_error": 91.44703008556135,
          "sample_id": "ppsA"
         },
         {
          "BiGG_ID": "GAPD",
          "author": "Millard",
          "relative_error": 0.9690547789546409,
          "sample_id": "ppsA"
         },
         {
          "BiGG_ID": "GLCptspp",
          "author": "Millard",
          "relative_error": 6.403979568899642e-10,
          "sample_id": "ppsA"
         },
         {
          "BiGG_ID": "GND",
          "author": "Millard",
          "relative_error": 203.74230376516778,
          "sample_id": "ppsA"
         },
         {
          "BiGG_ID": "ICDHyr",
          "author": "Millard",
          "relative_error": 53.71693552760798,
          "sample_id": "ppsA"
         },
         {
          "BiGG_ID": "ICL",
          "author": "Millard",
          "relative_error": 100,
          "sample_id": "ppsA"
         },
         {
          "BiGG_ID": "MALS",
          "author": "Millard",
          "relative_error": 100,
          "sample_id": "ppsA"
         },
         {
          "BiGG_ID": "MDH",
          "author": "Millard",
          "relative_error": 8.765859392041257,
          "sample_id": "ppsA"
         },
         {
          "BiGG_ID": "PDH",
          "author": "Millard",
          "relative_error": 13.401116121467949,
          "sample_id": "ppsA"
         },
         {
          "BiGG_ID": "PGI",
          "author": "Millard",
          "relative_error": 17.163772178882567,
          "sample_id": "ppsA"
         },
         {
          "BiGG_ID": "PGM",
          "author": "Millard",
          "relative_error": 2.659649852766282,
          "sample_id": "ppsA"
         },
         {
          "BiGG_ID": "PPC",
          "author": "Millard",
          "relative_error": 10.784491370505377,
          "sample_id": "ppsA"
         },
         {
          "BiGG_ID": "PTAr",
          "author": "Millard",
          "relative_error": 100,
          "sample_id": "ppsA"
         },
         {
          "BiGG_ID": "PYK",
          "author": "Millard",
          "relative_error": 21.722144748691978,
          "sample_id": "ppsA"
         },
         {
          "BiGG_ID": "RPE",
          "author": "Millard",
          "relative_error": 1794.9996671483077,
          "sample_id": "ppsA"
         },
         {
          "BiGG_ID": "RPI",
          "author": "Millard",
          "relative_error": 69.95127561542414,
          "sample_id": "ppsA"
         },
         {
          "BiGG_ID": "SUCDi",
          "author": "Millard",
          "relative_error": 13.82784444289166,
          "sample_id": "ppsA"
         },
         {
          "BiGG_ID": "TALA",
          "author": "Millard",
          "relative_error": 372.1194520589686,
          "sample_id": "ppsA"
         },
         {
          "BiGG_ID": "TKT1",
          "author": "Millard",
          "relative_error": 1036.9999112505607,
          "sample_id": "ppsA"
         },
         {
          "BiGG_ID": "TPI",
          "author": "Millard",
          "relative_error": 0.3510600843626587,
          "sample_id": "ppsA"
         },
         {
          "BiGG_ID": "AKGDH",
          "author": "Millard",
          "relative_error": 100,
          "sample_id": "pts"
         },
         {
          "BiGG_ID": "CS",
          "author": "Millard",
          "relative_error": 100,
          "sample_id": "pts"
         },
         {
          "BiGG_ID": "EDA",
          "author": "Millard",
          "relative_error": 100,
          "sample_id": "pts"
         },
         {
          "BiGG_ID": "FBA",
          "author": "Millard",
          "relative_error": 100,
          "sample_id": "pts"
         },
         {
          "BiGG_ID": "FUM",
          "author": "Millard",
          "relative_error": 100,
          "sample_id": "pts"
         },
         {
          "BiGG_ID": "G6PDH2r",
          "author": "Millard",
          "relative_error": 100,
          "sample_id": "pts"
         },
         {
          "BiGG_ID": "GAPD",
          "author": "Millard",
          "relative_error": 100,
          "sample_id": "pts"
         },
         {
          "BiGG_ID": "GLCptspp",
          "author": "Millard",
          "relative_error": 100,
          "sample_id": "pts"
         },
         {
          "BiGG_ID": "GND",
          "author": "Millard",
          "relative_error": 100,
          "sample_id": "pts"
         },
         {
          "BiGG_ID": "ICDHyr",
          "author": "Millard",
          "relative_error": 100,
          "sample_id": "pts"
         },
         {
          "BiGG_ID": "ICL",
          "author": "Millard",
          "relative_error": 100,
          "sample_id": "pts"
         },
         {
          "BiGG_ID": "MALS",
          "author": "Millard",
          "relative_error": 100,
          "sample_id": "pts"
         },
         {
          "BiGG_ID": "MDH",
          "author": "Millard",
          "relative_error": 100,
          "sample_id": "pts"
         },
         {
          "BiGG_ID": "PDH",
          "author": "Millard",
          "relative_error": 100,
          "sample_id": "pts"
         },
         {
          "BiGG_ID": "PGI",
          "author": "Millard",
          "relative_error": 100,
          "sample_id": "pts"
         },
         {
          "BiGG_ID": "PGM",
          "author": "Millard",
          "relative_error": 100,
          "sample_id": "pts"
         },
         {
          "BiGG_ID": "PPC",
          "author": "Millard",
          "relative_error": 100,
          "sample_id": "pts"
         },
         {
          "BiGG_ID": "PTAr",
          "author": "Millard",
          "relative_error": null,
          "sample_id": "pts"
         },
         {
          "BiGG_ID": "PYK",
          "author": "Millard",
          "relative_error": 100,
          "sample_id": "pts"
         },
         {
          "BiGG_ID": "RPE",
          "author": "Millard",
          "relative_error": 100,
          "sample_id": "pts"
         },
         {
          "BiGG_ID": "RPI",
          "author": "Millard",
          "relative_error": 100,
          "sample_id": "pts"
         },
         {
          "BiGG_ID": "SUCDi",
          "author": "Millard",
          "relative_error": 100,
          "sample_id": "pts"
         },
         {
          "BiGG_ID": "TALA",
          "author": "Millard",
          "relative_error": 100,
          "sample_id": "pts"
         },
         {
          "BiGG_ID": "TKT1",
          "author": "Millard",
          "relative_error": 100,
          "sample_id": "pts"
         },
         {
          "BiGG_ID": "TPI",
          "author": "Millard",
          "relative_error": 100,
          "sample_id": "pts"
         },
         {
          "BiGG_ID": "AKGDH",
          "author": "Millard",
          "relative_error": 85.9972002091138,
          "sample_id": "pykA"
         },
         {
          "BiGG_ID": "CS",
          "author": "Millard",
          "relative_error": 55.612977434921305,
          "sample_id": "pykA"
         },
         {
          "BiGG_ID": "EDA",
          "author": "Millard",
          "relative_error": 100,
          "sample_id": "pykA"
         },
         {
          "BiGG_ID": "FBA",
          "author": "Millard",
          "relative_error": 15.482833235146279,
          "sample_id": "pykA"
         },
         {
          "BiGG_ID": "FUM",
          "author": "Millard",
          "relative_error": 73.11425405902625,
          "sample_id": "pykA"
         },
         {
          "BiGG_ID": "G6PDH2r",
          "author": "Millard",
          "relative_error": 28.905936997775356,
          "sample_id": "pykA"
         },
         {
          "BiGG_ID": "GAPD",
          "author": "Millard",
          "relative_error": 8.683600146654019,
          "sample_id": "pykA"
         },
         {
          "BiGG_ID": "GLCptspp",
          "author": "Millard",
          "relative_error": 4.053219981853487e-10,
          "sample_id": "pykA"
         },
         {
          "BiGG_ID": "GND",
          "author": "Millard",
          "relative_error": 1.562064783377769,
          "sample_id": "pykA"
         },
         {
          "BiGG_ID": "ICDHyr",
          "author": "Millard",
          "relative_error": 57.62642394780989,
          "sample_id": "pykA"
         },
         {
          "BiGG_ID": "ICL",
          "author": "Millard",
          "relative_error": 48.75156558120788,
          "sample_id": "pykA"
         },
         {
          "BiGG_ID": "MALS",
          "author": "Millard",
          "relative_error": 48.75156554791761,
          "sample_id": "pykA"
         },
         {
          "BiGG_ID": "MDH",
          "author": "Millard",
          "relative_error": 168.94183374846477,
          "sample_id": "pykA"
         },
         {
          "BiGG_ID": "PDH",
          "author": "Millard",
          "relative_error": 26.208012601335263,
          "sample_id": "pykA"
         },
         {
          "BiGG_ID": "PGI",
          "author": "Millard",
          "relative_error": 15.214803191221144,
          "sample_id": "pykA"
         },
         {
          "BiGG_ID": "PGM",
          "author": "Millard",
          "relative_error": 12.877933969013169,
          "sample_id": "pykA"
         },
         {
          "BiGG_ID": "PPC",
          "author": "Millard",
          "relative_error": 35.198320359864695,
          "sample_id": "pykA"
         },
         {
          "BiGG_ID": "PTAr",
          "author": "Millard",
          "relative_error": 100,
          "sample_id": "pykA"
         },
         {
          "BiGG_ID": "PYK",
          "author": "Millard",
          "relative_error": 100,
          "sample_id": "pykA"
         },
         {
          "BiGG_ID": "RPE",
          "author": "Millard",
          "relative_error": 8.639846848247261,
          "sample_id": "pykA"
         },
         {
          "BiGG_ID": "RPI",
          "author": "Millard",
          "relative_error": 7.749798935120883,
          "sample_id": "pykA"
         },
         {
          "BiGG_ID": "SUCDi",
          "author": "Millard",
          "relative_error": 73.1142539926687,
          "sample_id": "pykA"
         },
         {
          "BiGG_ID": "TALA",
          "author": "Millard",
          "relative_error": 9.832578997915787,
          "sample_id": "pykA"
         },
         {
          "BiGG_ID": "TKT1",
          "author": "Millard",
          "relative_error": 9.832577282005449,
          "sample_id": "pykA"
         },
         {
          "BiGG_ID": "TPI",
          "author": "Millard",
          "relative_error": 15.482833171437324,
          "sample_id": "pykA"
         },
         {
          "BiGG_ID": "AKGDH",
          "author": "Millard",
          "relative_error": null,
          "sample_id": "pykAF"
         },
         {
          "BiGG_ID": "CS",
          "author": "Millard",
          "relative_error": null,
          "sample_id": "pykAF"
         },
         {
          "BiGG_ID": "EDA",
          "author": "Millard",
          "relative_error": null,
          "sample_id": "pykAF"
         },
         {
          "BiGG_ID": "FBA",
          "author": "Millard",
          "relative_error": null,
          "sample_id": "pykAF"
         },
         {
          "BiGG_ID": "FUM",
          "author": "Millard",
          "relative_error": null,
          "sample_id": "pykAF"
         },
         {
          "BiGG_ID": "G6PDH2r",
          "author": "Millard",
          "relative_error": null,
          "sample_id": "pykAF"
         },
         {
          "BiGG_ID": "GAPD",
          "author": "Millard",
          "relative_error": null,
          "sample_id": "pykAF"
         },
         {
          "BiGG_ID": "GLCptspp",
          "author": "Millard",
          "relative_error": null,
          "sample_id": "pykAF"
         },
         {
          "BiGG_ID": "GND",
          "author": "Millard",
          "relative_error": null,
          "sample_id": "pykAF"
         },
         {
          "BiGG_ID": "ICDHyr",
          "author": "Millard",
          "relative_error": null,
          "sample_id": "pykAF"
         },
         {
          "BiGG_ID": "ICL",
          "author": "Millard",
          "relative_error": null,
          "sample_id": "pykAF"
         },
         {
          "BiGG_ID": "MALS",
          "author": "Millard",
          "relative_error": null,
          "sample_id": "pykAF"
         },
         {
          "BiGG_ID": "MDH",
          "author": "Millard",
          "relative_error": null,
          "sample_id": "pykAF"
         },
         {
          "BiGG_ID": "PDH",
          "author": "Millard",
          "relative_error": null,
          "sample_id": "pykAF"
         },
         {
          "BiGG_ID": "PGI",
          "author": "Millard",
          "relative_error": null,
          "sample_id": "pykAF"
         },
         {
          "BiGG_ID": "PGM",
          "author": "Millard",
          "relative_error": null,
          "sample_id": "pykAF"
         },
         {
          "BiGG_ID": "PPC",
          "author": "Millard",
          "relative_error": null,
          "sample_id": "pykAF"
         },
         {
          "BiGG_ID": "PTAr",
          "author": "Millard",
          "relative_error": null,
          "sample_id": "pykAF"
         },
         {
          "BiGG_ID": "PYK",
          "author": "Millard",
          "relative_error": null,
          "sample_id": "pykAF"
         },
         {
          "BiGG_ID": "RPE",
          "author": "Millard",
          "relative_error": null,
          "sample_id": "pykAF"
         },
         {
          "BiGG_ID": "RPI",
          "author": "Millard",
          "relative_error": null,
          "sample_id": "pykAF"
         },
         {
          "BiGG_ID": "SUCDi",
          "author": "Millard",
          "relative_error": null,
          "sample_id": "pykAF"
         },
         {
          "BiGG_ID": "TALA",
          "author": "Millard",
          "relative_error": null,
          "sample_id": "pykAF"
         },
         {
          "BiGG_ID": "TKT1",
          "author": "Millard",
          "relative_error": null,
          "sample_id": "pykAF"
         },
         {
          "BiGG_ID": "TPI",
          "author": "Millard",
          "relative_error": null,
          "sample_id": "pykAF"
         },
         {
          "BiGG_ID": "AKGDH",
          "author": "Millard",
          "relative_error": 10.945698370348582,
          "sample_id": "pykF"
         },
         {
          "BiGG_ID": "CS",
          "author": "Millard",
          "relative_error": 36.86442593673802,
          "sample_id": "pykF"
         },
         {
          "BiGG_ID": "EDA",
          "author": "Millard",
          "relative_error": 100,
          "sample_id": "pykF"
         },
         {
          "BiGG_ID": "FBA",
          "author": "Millard",
          "relative_error": 3.109672531380606,
          "sample_id": "pykF"
         },
         {
          "BiGG_ID": "FUM",
          "author": "Millard",
          "relative_error": 49.72043594294162,
          "sample_id": "pykF"
         },
         {
          "BiGG_ID": "G6PDH2r",
          "author": "Millard",
          "relative_error": 54.03713650482006,
          "sample_id": "pykF"
         },
         {
          "BiGG_ID": "GAPD",
          "author": "Millard",
          "relative_error": 2.92976249183116,
          "sample_id": "pykF"
         },
         {
          "BiGG_ID": "GLCptspp",
          "author": "Millard",
          "relative_error": 4.053219981853487e-10,
          "sample_id": "pykF"
         },
         {
          "BiGG_ID": "GND",
          "author": "Millard",
          "relative_error": 113.28219296934816,
          "sample_id": "pykF"
         },
         {
          "BiGG_ID": "ICDHyr",
          "author": "Millard",
          "relative_error": 4.275941996243468,
          "sample_id": "pykF"
         },
         {
          "BiGG_ID": "ICL",
          "author": "Millard",
          "relative_error": 147.91927596867978,
          "sample_id": "pykF"
         },
         {
          "BiGG_ID": "MALS",
          "author": "Millard",
          "relative_error": 147.919275913196,
          "sample_id": "pykF"
         },
         {
          "BiGG_ID": "MDH",
          "author": "Millard",
          "relative_error": 154.32542974039603,
          "sample_id": "pykF"
         },
         {
          "BiGG_ID": "PDH",
          "author": "Millard",
          "relative_error": 29.143082661831432,
          "sample_id": "pykF"
         },
         {
          "BiGG_ID": "PGI",
          "author": "Millard",
          "relative_error": 26.82303040557576,
          "sample_id": "pykF"
         },
         {
          "BiGG_ID": "PGM",
          "author": "Millard",
          "relative_error": 5.8230630959498475,
          "sample_id": "pykF"
         },
         {
          "BiGG_ID": "PPC",
          "author": "Millard",
          "relative_error": 100,
          "sample_id": "pykF"
         },
         {
          "BiGG_ID": "PTAr",
          "author": "Millard",
          "relative_error": 100,
          "sample_id": "pykF"
         },
         {
          "BiGG_ID": "PYK",
          "author": "Millard",
          "relative_error": 100,
          "sample_id": "pykF"
         },
         {
          "BiGG_ID": "RPE",
          "author": "Millard",
          "relative_error": 215.05555585991706,
          "sample_id": "pykF"
         },
         {
          "BiGG_ID": "RPI",
          "author": "Millard",
          "relative_error": 51.553901749444265,
          "sample_id": "pykF"
         },
         {
          "BiGG_ID": "SUCDi",
          "author": "Millard",
          "relative_error": 49.720435885551304,
          "sample_id": "pykF"
         },
         {
          "BiGG_ID": "TALA",
          "author": "Millard",
          "relative_error": 151.04589485237895,
          "sample_id": "pykF"
         },
         {
          "BiGG_ID": "TKT1",
          "author": "Millard",
          "relative_error": 151.04589093029816,
          "sample_id": "pykF"
         },
         {
          "BiGG_ID": "TPI",
          "author": "Millard",
          "relative_error": 3.1096724744976108,
          "sample_id": "pykF"
         },
         {
          "BiGG_ID": "AKGDH",
          "author": "Millard",
          "relative_error": 131.98918046179682,
          "sample_id": "rpe"
         },
         {
          "BiGG_ID": "CS",
          "author": "Millard",
          "relative_error": 52.14343683792173,
          "sample_id": "rpe"
         },
         {
          "BiGG_ID": "EDA",
          "author": "Millard",
          "relative_error": 100,
          "sample_id": "rpe"
         },
         {
          "BiGG_ID": "FBA",
          "author": "Millard",
          "relative_error": 12.907190109837286,
          "sample_id": "rpe"
         },
         {
          "BiGG_ID": "FUM",
          "author": "Millard",
          "relative_error": 65.39084307244565,
          "sample_id": "rpe"
         },
         {
          "BiGG_ID": "G6PDH2r",
          "author": "Millard",
          "relative_error": 56.5080443433828,
          "sample_id": "rpe"
         },
         {
          "BiGG_ID": "GAPD",
          "author": "Millard",
          "relative_error": 8.456329950585637,
          "sample_id": "rpe"
         },
         {
          "BiGG_ID": "GLCptspp",
          "author": "Millard",
          "relative_error": 1.5470931203038316e-09,
          "sample_id": "rpe"
         },
         {
          "BiGG_ID": "GND",
          "author": "Millard",
          "relative_error": 25.972615241874884,
          "sample_id": "rpe"
         },
         {
          "BiGG_ID": "ICDHyr",
          "author": "Millard",
          "relative_error": 100.11395446696767,
          "sample_id": "rpe"
         },
         {
          "BiGG_ID": "ICL",
          "author": "Millard",
          "relative_error": 34.57570868112308,
          "sample_id": "rpe"
         },
         {
          "BiGG_ID": "MALS",
          "author": "Millard",
          "relative_error": 34.57570868011897,
          "sample_id": "rpe"
         },
         {
          "BiGG_ID": "MDH",
          "author": "Millard",
          "relative_error": 46.8214600316157,
          "sample_id": "rpe"
         },
         {
          "BiGG_ID": "PDH",
          "author": "Millard",
          "relative_error": 16.060026049398058,
          "sample_id": "rpe"
         },
         {
          "BiGG_ID": "PGI",
          "author": "Millard",
          "relative_error": 12.053095542813754,
          "sample_id": "rpe"
         },
         {
          "BiGG_ID": "PGM",
          "author": "Millard",
          "relative_error": 12.507806083172754,
          "sample_id": "rpe"
         },
         {
          "BiGG_ID": "PPC",
          "author": "Millard",
          "relative_error": 100,
          "sample_id": "rpe"
         },
         {
          "BiGG_ID": "PTAr",
          "author": "Millard",
          "relative_error": 100,
          "sample_id": "rpe"
         },
         {
          "BiGG_ID": "PYK",
          "author": "Millard",
          "relative_error": 60.26045668878621,
          "sample_id": "rpe"
         },
         {
          "BiGG_ID": "RPE",
          "author": "Millard",
          "relative_error": 0,
          "sample_id": "rpe"
         },
         {
          "BiGG_ID": "RPI",
          "author": "Millard",
          "relative_error": 25.972614382504528,
          "sample_id": "rpe"
         },
         {
          "BiGG_ID": "SUCDi",
          "author": "Millard",
          "relative_error": 65.39084307648032,
          "sample_id": "rpe"
         },
         {
          "BiGG_ID": "TALA",
          "author": "Millard",
          "relative_error": 36.85899565556472,
          "sample_id": "rpe"
         },
         {
          "BiGG_ID": "TKT1",
          "author": "Millard",
          "relative_error": 100,
          "sample_id": "rpe"
         },
         {
          "BiGG_ID": "TPI",
          "author": "Millard",
          "relative_error": 12.907190104344776,
          "sample_id": "rpe"
         },
         {
          "BiGG_ID": "AKGDH",
          "author": "Millard",
          "relative_error": 34.308637582313665,
          "sample_id": "rpiA"
         },
         {
          "BiGG_ID": "CS",
          "author": "Millard",
          "relative_error": 12.506863618792853,
          "sample_id": "rpiA"
         },
         {
          "BiGG_ID": "EDA",
          "author": "Millard",
          "relative_error": 6.343573156768698,
          "sample_id": "rpiA"
         },
         {
          "BiGG_ID": "FBA",
          "author": "Millard",
          "relative_error": 0.45286199835072055,
          "sample_id": "rpiA"
         },
         {
          "BiGG_ID": "FUM",
          "author": "Millard",
          "relative_error": 4.229935402018968,
          "sample_id": "rpiA"
         },
         {
          "BiGG_ID": "G6PDH2r",
          "author": "Millard",
          "relative_error": 54.60276380405765,
          "sample_id": "rpiA"
         },
         {
          "BiGG_ID": "GAPD",
          "author": "Millard",
          "relative_error": 3.388361128117876,
          "sample_id": "rpiA"
         },
         {
          "BiGG_ID": "GLCptspp",
          "author": "Millard",
          "relative_error": 9.571579084785541e-10,
          "sample_id": "rpiA"
         },
         {
          "BiGG_ID": "GND",
          "author": "Millard",
          "relative_error": 4536.67482413196,
          "sample_id": "rpiA"
         },
         {
          "BiGG_ID": "ICDHyr",
          "author": "Millard",
          "relative_error": 30.07167596162923,
          "sample_id": "rpiA"
         },
         {
          "BiGG_ID": "ICL",
          "author": "Millard",
          "relative_error": 100,
          "sample_id": "rpiA"
         },
         {
          "BiGG_ID": "MALS",
          "author": "Millard",
          "relative_error": 100,
          "sample_id": "rpiA"
         },
         {
          "BiGG_ID": "MDH",
          "author": "Millard",
          "relative_error": 25.718275973173416,
          "sample_id": "rpiA"
         },
         {
          "BiGG_ID": "PDH",
          "author": "Millard",
          "relative_error": 15.919461472921965,
          "sample_id": "rpiA"
         },
         {
          "BiGG_ID": "PGI",
          "author": "Millard",
          "relative_error": 12.387274078607343,
          "sample_id": "rpiA"
         },
         {
          "BiGG_ID": "PGM",
          "author": "Millard",
          "relative_error": 0.5577119349520719,
          "sample_id": "rpiA"
         },
         {
          "BiGG_ID": "PPC",
          "author": "Millard",
          "relative_error": 100,
          "sample_id": "rpiA"
         },
         {
          "BiGG_ID": "PTAr",
          "author": "Millard",
          "relative_error": 100,
          "sample_id": "rpiA"
         },
         {
          "BiGG_ID": "PYK",
          "author": "Millard",
          "relative_error": 197.6147244663366,
          "sample_id": "rpiA"
         },
         {
          "BiGG_ID": "RPE",
          "author": "Millard",
          "relative_error": 218.3165764808053,
          "sample_id": "rpiA"
         },
         {
          "BiGG_ID": "RPI",
          "author": "Millard",
          "relative_error": 100,
          "sample_id": "rpiA"
         },
         {
          "BiGG_ID": "SUCDi",
          "author": "Millard",
          "relative_error": 4.23002641843284,
          "sample_id": "rpiA"
         },
         {
          "BiGG_ID": "TALA",
          "author": "Millard",
          "relative_error": 206.39361056016782,
          "sample_id": "rpiA"
         },
         {
          "BiGG_ID": "TKT1",
          "author": "Millard",
          "relative_error": 176.01883286314853,
          "sample_id": "rpiA"
         },
         {
          "BiGG_ID": "TPI",
          "author": "Millard",
          "relative_error": 0.45265548650167176,
          "sample_id": "rpiA"
         },
         {
          "BiGG_ID": "AKGDH",
          "author": "Millard",
          "relative_error": 13.323896809997201,
          "sample_id": "rpiB"
         },
         {
          "BiGG_ID": "CS",
          "author": "Millard",
          "relative_error": 2.785404020880945,
          "sample_id": "rpiB"
         },
         {
          "BiGG_ID": "EDA",
          "author": "Millard",
          "relative_error": 100,
          "sample_id": "rpiB"
         },
         {
          "BiGG_ID": "FBA",
          "author": "Millard",
          "relative_error": 15.011247795213144,
          "sample_id": "rpiB"
         },
         {
          "BiGG_ID": "FUM",
          "author": "Millard",
          "relative_error": 17.8251443674997,
          "sample_id": "rpiB"
         },
         {
          "BiGG_ID": "G6PDH2r",
          "author": "Millard",
          "relative_error": 139.3849245998312,
          "sample_id": "rpiB"
         },
         {
          "BiGG_ID": "GAPD",
          "author": "Millard",
          "relative_error": 11.29065624619058,
          "sample_id": "rpiB"
         },
         {
          "BiGG_ID": "GLCptspp",
          "author": "Millard",
          "relative_error": 9.571579084785541e-10,
          "sample_id": "rpiB"
         },
         {
          "BiGG_ID": "GND",
          "author": "Millard",
          "relative_error": 18446.69929652784,
          "sample_id": "rpiB"
         },
         {
          "BiGG_ID": "ICDHyr",
          "author": "Millard",
          "relative_error": 10.59796546993104,
          "sample_id": "rpiB"
         },
         {
          "BiGG_ID": "ICL",
          "author": "Millard",
          "relative_error": 100,
          "sample_id": "rpiB"
         },
         {
          "BiGG_ID": "MALS",
          "author": "Millard",
          "relative_error": 100,
          "sample_id": "rpiB"
         },
         {
          "BiGG_ID": "MDH",
          "author": "Millard",
          "relative_error": 26.850873054012816,
          "sample_id": "rpiB"
         },
         {
          "BiGG_ID": "PDH",
          "author": "Millard",
          "relative_error": 10.323349539746422,
          "sample_id": "rpiB"
         },
         {
          "BiGG_ID": "PGI",
          "author": "Millard",
          "relative_error": 33.309716089686184,
          "sample_id": "rpiB"
         },
         {
          "BiGG_ID": "PGM",
          "author": "Millard",
          "relative_error": 10.06992792879889,
          "sample_id": "rpiB"
         },
         {
          "BiGG_ID": "PPC",
          "author": "Millard",
          "relative_error": 87.40045479697895,
          "sample_id": "rpiB"
         },
         {
          "BiGG_ID": "PTAr",
          "author": "Millard",
          "relative_error": 100,
          "sample_id": "rpiB"
         },
         {
          "BiGG_ID": "PYK",
          "author": "Millard",
          "relative_error": 243.9103482722112,
          "sample_id": "rpiB"
         },
         {
          "BiGG_ID": "RPE",
          "author": "Millard",
          "relative_error": 1204.2880471541832,
          "sample_id": "rpiB"
         },
         {
          "BiGG_ID": "RPI",
          "author": "Millard",
          "relative_error": 100,
          "sample_id": "rpiB"
         },
         {
          "BiGG_ID": "SUCDi",
          "author": "Millard",
          "relative_error": 17.825247255619733,
          "sample_id": "rpiB"
         },
         {
          "BiGG_ID": "TALA",
          "author": "Millard",
          "relative_error": 631.9680528008391,
          "sample_id": "rpiB"
         },
         {
          "BiGG_ID": "TKT1",
          "author": "Millard",
          "relative_error": 480.09416431574266,
          "sample_id": "rpiB"
         },
         {
          "BiGG_ID": "TPI",
          "author": "Millard",
          "relative_error": 15.01101135411061,
          "sample_id": "rpiB"
         },
         {
          "BiGG_ID": "AKGDH",
          "author": "Millard",
          "relative_error": null,
          "sample_id": "sdhCD"
         },
         {
          "BiGG_ID": "CS",
          "author": "Millard",
          "relative_error": null,
          "sample_id": "sdhCD"
         },
         {
          "BiGG_ID": "EDA",
          "author": "Millard",
          "relative_error": null,
          "sample_id": "sdhCD"
         },
         {
          "BiGG_ID": "FBA",
          "author": "Millard",
          "relative_error": null,
          "sample_id": "sdhCD"
         },
         {
          "BiGG_ID": "FUM",
          "author": "Millard",
          "relative_error": 100,
          "sample_id": "sdhCD"
         },
         {
          "BiGG_ID": "G6PDH2r",
          "author": "Millard",
          "relative_error": null,
          "sample_id": "sdhCD"
         },
         {
          "BiGG_ID": "GAPD",
          "author": "Millard",
          "relative_error": null,
          "sample_id": "sdhCD"
         },
         {
          "BiGG_ID": "GLCptspp",
          "author": "Millard",
          "relative_error": null,
          "sample_id": "sdhCD"
         },
         {
          "BiGG_ID": "GND",
          "author": "Millard",
          "relative_error": null,
          "sample_id": "sdhCD"
         },
         {
          "BiGG_ID": "ICDHyr",
          "author": "Millard",
          "relative_error": null,
          "sample_id": "sdhCD"
         },
         {
          "BiGG_ID": "ICL",
          "author": "Millard",
          "relative_error": 100,
          "sample_id": "sdhCD"
         },
         {
          "BiGG_ID": "MALS",
          "author": "Millard",
          "relative_error": 100,
          "sample_id": "sdhCD"
         },
         {
          "BiGG_ID": "MDH",
          "author": "Millard",
          "relative_error": 100,
          "sample_id": "sdhCD"
         },
         {
          "BiGG_ID": "PDH",
          "author": "Millard",
          "relative_error": null,
          "sample_id": "sdhCD"
         },
         {
          "BiGG_ID": "PGI",
          "author": "Millard",
          "relative_error": null,
          "sample_id": "sdhCD"
         },
         {
          "BiGG_ID": "PGM",
          "author": "Millard",
          "relative_error": null,
          "sample_id": "sdhCD"
         },
         {
          "BiGG_ID": "PPC",
          "author": "Millard",
          "relative_error": null,
          "sample_id": "sdhCD"
         },
         {
          "BiGG_ID": "PTAr",
          "author": "Millard",
          "relative_error": null,
          "sample_id": "sdhCD"
         },
         {
          "BiGG_ID": "PYK",
          "author": "Millard",
          "relative_error": 100,
          "sample_id": "sdhCD"
         },
         {
          "BiGG_ID": "RPE",
          "author": "Millard",
          "relative_error": null,
          "sample_id": "sdhCD"
         },
         {
          "BiGG_ID": "RPI",
          "author": "Millard",
          "relative_error": null,
          "sample_id": "sdhCD"
         },
         {
          "BiGG_ID": "SUCDi",
          "author": "Millard",
          "relative_error": 100,
          "sample_id": "sdhCD"
         },
         {
          "BiGG_ID": "TALA",
          "author": "Millard",
          "relative_error": null,
          "sample_id": "sdhCD"
         },
         {
          "BiGG_ID": "TKT1",
          "author": "Millard",
          "relative_error": null,
          "sample_id": "sdhCD"
         },
         {
          "BiGG_ID": "TPI",
          "author": "Millard",
          "relative_error": null,
          "sample_id": "sdhCD"
         },
         {
          "BiGG_ID": "AKGDH",
          "author": "Millard",
          "relative_error": 100,
          "sample_id": "sucA"
         },
         {
          "BiGG_ID": "CS",
          "author": "Millard",
          "relative_error": 100,
          "sample_id": "sucA"
         },
         {
          "BiGG_ID": "EDA",
          "author": "Millard",
          "relative_error": 100,
          "sample_id": "sucA"
         },
         {
          "BiGG_ID": "FBA",
          "author": "Millard",
          "relative_error": 100,
          "sample_id": "sucA"
         },
         {
          "BiGG_ID": "FUM",
          "author": "Millard",
          "relative_error": 100,
          "sample_id": "sucA"
         },
         {
          "BiGG_ID": "G6PDH2r",
          "author": "Millard",
          "relative_error": null,
          "sample_id": "sucA"
         },
         {
          "BiGG_ID": "GAPD",
          "author": "Millard",
          "relative_error": 100,
          "sample_id": "sucA"
         },
         {
          "BiGG_ID": "GLCptspp",
          "author": "Millard",
          "relative_error": 100,
          "sample_id": "sucA"
         },
         {
          "BiGG_ID": "GND",
          "author": "Millard",
          "relative_error": null,
          "sample_id": "sucA"
         },
         {
          "BiGG_ID": "ICDHyr",
          "author": "Millard",
          "relative_error": 100,
          "sample_id": "sucA"
         },
         {
          "BiGG_ID": "ICL",
          "author": "Millard",
          "relative_error": 100,
          "sample_id": "sucA"
         },
         {
          "BiGG_ID": "MALS",
          "author": "Millard",
          "relative_error": 100,
          "sample_id": "sucA"
         },
         {
          "BiGG_ID": "MDH",
          "author": "Millard",
          "relative_error": 100,
          "sample_id": "sucA"
         },
         {
          "BiGG_ID": "PDH",
          "author": "Millard",
          "relative_error": 100,
          "sample_id": "sucA"
         },
         {
          "BiGG_ID": "PGI",
          "author": "Millard",
          "relative_error": null,
          "sample_id": "sucA"
         },
         {
          "BiGG_ID": "PGM",
          "author": "Millard",
          "relative_error": 100,
          "sample_id": "sucA"
         },
         {
          "BiGG_ID": "PPC",
          "author": "Millard",
          "relative_error": 100,
          "sample_id": "sucA"
         },
         {
          "BiGG_ID": "PTAr",
          "author": "Millard",
          "relative_error": 100,
          "sample_id": "sucA"
         },
         {
          "BiGG_ID": "PYK",
          "author": "Millard",
          "relative_error": 100,
          "sample_id": "sucA"
         },
         {
          "BiGG_ID": "RPE",
          "author": "Millard",
          "relative_error": null,
          "sample_id": "sucA"
         },
         {
          "BiGG_ID": "RPI",
          "author": "Millard",
          "relative_error": null,
          "sample_id": "sucA"
         },
         {
          "BiGG_ID": "SUCDi",
          "author": "Millard",
          "relative_error": 100,
          "sample_id": "sucA"
         },
         {
          "BiGG_ID": "TALA",
          "author": "Millard",
          "relative_error": null,
          "sample_id": "sucA"
         },
         {
          "BiGG_ID": "TKT1",
          "author": "Millard",
          "relative_error": null,
          "sample_id": "sucA"
         },
         {
          "BiGG_ID": "TPI",
          "author": "Millard",
          "relative_error": 100,
          "sample_id": "sucA"
         },
         {
          "BiGG_ID": "AKGDH",
          "author": "Millard",
          "relative_error": null,
          "sample_id": "sucAB"
         },
         {
          "BiGG_ID": "CS",
          "author": "Millard",
          "relative_error": null,
          "sample_id": "sucAB"
         },
         {
          "BiGG_ID": "EDA",
          "author": "Millard",
          "relative_error": null,
          "sample_id": "sucAB"
         },
         {
          "BiGG_ID": "FBA",
          "author": "Millard",
          "relative_error": null,
          "sample_id": "sucAB"
         },
         {
          "BiGG_ID": "FUM",
          "author": "Millard",
          "relative_error": null,
          "sample_id": "sucAB"
         },
         {
          "BiGG_ID": "G6PDH2r",
          "author": "Millard",
          "relative_error": null,
          "sample_id": "sucAB"
         },
         {
          "BiGG_ID": "GAPD",
          "author": "Millard",
          "relative_error": null,
          "sample_id": "sucAB"
         },
         {
          "BiGG_ID": "GLCptspp",
          "author": "Millard",
          "relative_error": null,
          "sample_id": "sucAB"
         },
         {
          "BiGG_ID": "GND",
          "author": "Millard",
          "relative_error": null,
          "sample_id": "sucAB"
         },
         {
          "BiGG_ID": "ICDHyr",
          "author": "Millard",
          "relative_error": null,
          "sample_id": "sucAB"
         },
         {
          "BiGG_ID": "ICL",
          "author": "Millard",
          "relative_error": null,
          "sample_id": "sucAB"
         },
         {
          "BiGG_ID": "MALS",
          "author": "Millard",
          "relative_error": null,
          "sample_id": "sucAB"
         },
         {
          "BiGG_ID": "MDH",
          "author": "Millard",
          "relative_error": null,
          "sample_id": "sucAB"
         },
         {
          "BiGG_ID": "PDH",
          "author": "Millard",
          "relative_error": null,
          "sample_id": "sucAB"
         },
         {
          "BiGG_ID": "PGI",
          "author": "Millard",
          "relative_error": null,
          "sample_id": "sucAB"
         },
         {
          "BiGG_ID": "PGM",
          "author": "Millard",
          "relative_error": null,
          "sample_id": "sucAB"
         },
         {
          "BiGG_ID": "PPC",
          "author": "Millard",
          "relative_error": null,
          "sample_id": "sucAB"
         },
         {
          "BiGG_ID": "PTAr",
          "author": "Millard",
          "relative_error": null,
          "sample_id": "sucAB"
         },
         {
          "BiGG_ID": "PYK",
          "author": "Millard",
          "relative_error": null,
          "sample_id": "sucAB"
         },
         {
          "BiGG_ID": "RPE",
          "author": "Millard",
          "relative_error": null,
          "sample_id": "sucAB"
         },
         {
          "BiGG_ID": "RPI",
          "author": "Millard",
          "relative_error": null,
          "sample_id": "sucAB"
         },
         {
          "BiGG_ID": "SUCDi",
          "author": "Millard",
          "relative_error": null,
          "sample_id": "sucAB"
         },
         {
          "BiGG_ID": "TALA",
          "author": "Millard",
          "relative_error": null,
          "sample_id": "sucAB"
         },
         {
          "BiGG_ID": "TKT1",
          "author": "Millard",
          "relative_error": null,
          "sample_id": "sucAB"
         },
         {
          "BiGG_ID": "TPI",
          "author": "Millard",
          "relative_error": null,
          "sample_id": "sucAB"
         },
         {
          "BiGG_ID": "AKGDH",
          "author": "Millard",
          "relative_error": null,
          "sample_id": "talA"
         },
         {
          "BiGG_ID": "CS",
          "author": "Millard",
          "relative_error": null,
          "sample_id": "talA"
         },
         {
          "BiGG_ID": "EDA",
          "author": "Millard",
          "relative_error": null,
          "sample_id": "talA"
         },
         {
          "BiGG_ID": "FBA",
          "author": "Millard",
          "relative_error": null,
          "sample_id": "talA"
         },
         {
          "BiGG_ID": "FUM",
          "author": "Millard",
          "relative_error": null,
          "sample_id": "talA"
         },
         {
          "BiGG_ID": "G6PDH2r",
          "author": "Millard",
          "relative_error": null,
          "sample_id": "talA"
         },
         {
          "BiGG_ID": "GAPD",
          "author": "Millard",
          "relative_error": null,
          "sample_id": "talA"
         },
         {
          "BiGG_ID": "GLCptspp",
          "author": "Millard",
          "relative_error": null,
          "sample_id": "talA"
         },
         {
          "BiGG_ID": "GND",
          "author": "Millard",
          "relative_error": null,
          "sample_id": "talA"
         },
         {
          "BiGG_ID": "ICDHyr",
          "author": "Millard",
          "relative_error": null,
          "sample_id": "talA"
         },
         {
          "BiGG_ID": "ICL",
          "author": "Millard",
          "relative_error": null,
          "sample_id": "talA"
         },
         {
          "BiGG_ID": "MALS",
          "author": "Millard",
          "relative_error": null,
          "sample_id": "talA"
         },
         {
          "BiGG_ID": "MDH",
          "author": "Millard",
          "relative_error": null,
          "sample_id": "talA"
         },
         {
          "BiGG_ID": "PDH",
          "author": "Millard",
          "relative_error": null,
          "sample_id": "talA"
         },
         {
          "BiGG_ID": "PGI",
          "author": "Millard",
          "relative_error": null,
          "sample_id": "talA"
         },
         {
          "BiGG_ID": "PGM",
          "author": "Millard",
          "relative_error": null,
          "sample_id": "talA"
         },
         {
          "BiGG_ID": "PPC",
          "author": "Millard",
          "relative_error": null,
          "sample_id": "talA"
         },
         {
          "BiGG_ID": "PTAr",
          "author": "Millard",
          "relative_error": null,
          "sample_id": "talA"
         },
         {
          "BiGG_ID": "PYK",
          "author": "Millard",
          "relative_error": null,
          "sample_id": "talA"
         },
         {
          "BiGG_ID": "RPE",
          "author": "Millard",
          "relative_error": null,
          "sample_id": "talA"
         },
         {
          "BiGG_ID": "RPI",
          "author": "Millard",
          "relative_error": null,
          "sample_id": "talA"
         },
         {
          "BiGG_ID": "SUCDi",
          "author": "Millard",
          "relative_error": null,
          "sample_id": "talA"
         },
         {
          "BiGG_ID": "TALA",
          "author": "Millard",
          "relative_error": null,
          "sample_id": "talA"
         },
         {
          "BiGG_ID": "TKT1",
          "author": "Millard",
          "relative_error": null,
          "sample_id": "talA"
         },
         {
          "BiGG_ID": "TPI",
          "author": "Millard",
          "relative_error": null,
          "sample_id": "talA"
         },
         {
          "BiGG_ID": "AKGDH",
          "author": "Millard",
          "relative_error": null,
          "sample_id": "talAB"
         },
         {
          "BiGG_ID": "CS",
          "author": "Millard",
          "relative_error": null,
          "sample_id": "talAB"
         },
         {
          "BiGG_ID": "EDA",
          "author": "Millard",
          "relative_error": null,
          "sample_id": "talAB"
         },
         {
          "BiGG_ID": "FBA",
          "author": "Millard",
          "relative_error": null,
          "sample_id": "talAB"
         },
         {
          "BiGG_ID": "FUM",
          "author": "Millard",
          "relative_error": null,
          "sample_id": "talAB"
         },
         {
          "BiGG_ID": "G6PDH2r",
          "author": "Millard",
          "relative_error": null,
          "sample_id": "talAB"
         },
         {
          "BiGG_ID": "GAPD",
          "author": "Millard",
          "relative_error": null,
          "sample_id": "talAB"
         },
         {
          "BiGG_ID": "GLCptspp",
          "author": "Millard",
          "relative_error": null,
          "sample_id": "talAB"
         },
         {
          "BiGG_ID": "GND",
          "author": "Millard",
          "relative_error": null,
          "sample_id": "talAB"
         },
         {
          "BiGG_ID": "ICDHyr",
          "author": "Millard",
          "relative_error": null,
          "sample_id": "talAB"
         },
         {
          "BiGG_ID": "ICL",
          "author": "Millard",
          "relative_error": null,
          "sample_id": "talAB"
         },
         {
          "BiGG_ID": "MALS",
          "author": "Millard",
          "relative_error": null,
          "sample_id": "talAB"
         },
         {
          "BiGG_ID": "MDH",
          "author": "Millard",
          "relative_error": null,
          "sample_id": "talAB"
         },
         {
          "BiGG_ID": "PDH",
          "author": "Millard",
          "relative_error": null,
          "sample_id": "talAB"
         },
         {
          "BiGG_ID": "PGI",
          "author": "Millard",
          "relative_error": null,
          "sample_id": "talAB"
         },
         {
          "BiGG_ID": "PGM",
          "author": "Millard",
          "relative_error": null,
          "sample_id": "talAB"
         },
         {
          "BiGG_ID": "PPC",
          "author": "Millard",
          "relative_error": null,
          "sample_id": "talAB"
         },
         {
          "BiGG_ID": "PTAr",
          "author": "Millard",
          "relative_error": null,
          "sample_id": "talAB"
         },
         {
          "BiGG_ID": "PYK",
          "author": "Millard",
          "relative_error": null,
          "sample_id": "talAB"
         },
         {
          "BiGG_ID": "RPE",
          "author": "Millard",
          "relative_error": null,
          "sample_id": "talAB"
         },
         {
          "BiGG_ID": "RPI",
          "author": "Millard",
          "relative_error": null,
          "sample_id": "talAB"
         },
         {
          "BiGG_ID": "SUCDi",
          "author": "Millard",
          "relative_error": null,
          "sample_id": "talAB"
         },
         {
          "BiGG_ID": "TALA",
          "author": "Millard",
          "relative_error": 100,
          "sample_id": "talAB"
         },
         {
          "BiGG_ID": "TKT1",
          "author": "Millard",
          "relative_error": null,
          "sample_id": "talAB"
         },
         {
          "BiGG_ID": "TPI",
          "author": "Millard",
          "relative_error": null,
          "sample_id": "talAB"
         },
         {
          "BiGG_ID": "AKGDH",
          "author": "Millard",
          "relative_error": null,
          "sample_id": "talB"
         },
         {
          "BiGG_ID": "CS",
          "author": "Millard",
          "relative_error": null,
          "sample_id": "talB"
         },
         {
          "BiGG_ID": "EDA",
          "author": "Millard",
          "relative_error": null,
          "sample_id": "talB"
         },
         {
          "BiGG_ID": "FBA",
          "author": "Millard",
          "relative_error": null,
          "sample_id": "talB"
         },
         {
          "BiGG_ID": "FUM",
          "author": "Millard",
          "relative_error": null,
          "sample_id": "talB"
         },
         {
          "BiGG_ID": "G6PDH2r",
          "author": "Millard",
          "relative_error": null,
          "sample_id": "talB"
         },
         {
          "BiGG_ID": "GAPD",
          "author": "Millard",
          "relative_error": null,
          "sample_id": "talB"
         },
         {
          "BiGG_ID": "GLCptspp",
          "author": "Millard",
          "relative_error": null,
          "sample_id": "talB"
         },
         {
          "BiGG_ID": "GND",
          "author": "Millard",
          "relative_error": null,
          "sample_id": "talB"
         },
         {
          "BiGG_ID": "ICDHyr",
          "author": "Millard",
          "relative_error": null,
          "sample_id": "talB"
         },
         {
          "BiGG_ID": "ICL",
          "author": "Millard",
          "relative_error": null,
          "sample_id": "talB"
         },
         {
          "BiGG_ID": "MALS",
          "author": "Millard",
          "relative_error": null,
          "sample_id": "talB"
         },
         {
          "BiGG_ID": "MDH",
          "author": "Millard",
          "relative_error": null,
          "sample_id": "talB"
         },
         {
          "BiGG_ID": "PDH",
          "author": "Millard",
          "relative_error": null,
          "sample_id": "talB"
         },
         {
          "BiGG_ID": "PGI",
          "author": "Millard",
          "relative_error": null,
          "sample_id": "talB"
         },
         {
          "BiGG_ID": "PGM",
          "author": "Millard",
          "relative_error": null,
          "sample_id": "talB"
         },
         {
          "BiGG_ID": "PPC",
          "author": "Millard",
          "relative_error": null,
          "sample_id": "talB"
         },
         {
          "BiGG_ID": "PTAr",
          "author": "Millard",
          "relative_error": null,
          "sample_id": "talB"
         },
         {
          "BiGG_ID": "PYK",
          "author": "Millard",
          "relative_error": null,
          "sample_id": "talB"
         },
         {
          "BiGG_ID": "RPE",
          "author": "Millard",
          "relative_error": null,
          "sample_id": "talB"
         },
         {
          "BiGG_ID": "RPI",
          "author": "Millard",
          "relative_error": null,
          "sample_id": "talB"
         },
         {
          "BiGG_ID": "SUCDi",
          "author": "Millard",
          "relative_error": null,
          "sample_id": "talB"
         },
         {
          "BiGG_ID": "TALA",
          "author": "Millard",
          "relative_error": null,
          "sample_id": "talB"
         },
         {
          "BiGG_ID": "TKT1",
          "author": "Millard",
          "relative_error": null,
          "sample_id": "talB"
         },
         {
          "BiGG_ID": "TPI",
          "author": "Millard",
          "relative_error": null,
          "sample_id": "talB"
         },
         {
          "BiGG_ID": "AKGDH",
          "author": "Millard",
          "relative_error": null,
          "sample_id": "tkt1"
         },
         {
          "BiGG_ID": "CS",
          "author": "Millard",
          "relative_error": null,
          "sample_id": "tkt1"
         },
         {
          "BiGG_ID": "EDA",
          "author": "Millard",
          "relative_error": null,
          "sample_id": "tkt1"
         },
         {
          "BiGG_ID": "FBA",
          "author": "Millard",
          "relative_error": null,
          "sample_id": "tkt1"
         },
         {
          "BiGG_ID": "FUM",
          "author": "Millard",
          "relative_error": null,
          "sample_id": "tkt1"
         },
         {
          "BiGG_ID": "G6PDH2r",
          "author": "Millard",
          "relative_error": null,
          "sample_id": "tkt1"
         },
         {
          "BiGG_ID": "GAPD",
          "author": "Millard",
          "relative_error": null,
          "sample_id": "tkt1"
         },
         {
          "BiGG_ID": "GLCptspp",
          "author": "Millard",
          "relative_error": null,
          "sample_id": "tkt1"
         },
         {
          "BiGG_ID": "GND",
          "author": "Millard",
          "relative_error": null,
          "sample_id": "tkt1"
         },
         {
          "BiGG_ID": "ICDHyr",
          "author": "Millard",
          "relative_error": null,
          "sample_id": "tkt1"
         },
         {
          "BiGG_ID": "ICL",
          "author": "Millard",
          "relative_error": null,
          "sample_id": "tkt1"
         },
         {
          "BiGG_ID": "MALS",
          "author": "Millard",
          "relative_error": null,
          "sample_id": "tkt1"
         },
         {
          "BiGG_ID": "MDH",
          "author": "Millard",
          "relative_error": null,
          "sample_id": "tkt1"
         },
         {
          "BiGG_ID": "PDH",
          "author": "Millard",
          "relative_error": null,
          "sample_id": "tkt1"
         },
         {
          "BiGG_ID": "PGI",
          "author": "Millard",
          "relative_error": null,
          "sample_id": "tkt1"
         },
         {
          "BiGG_ID": "PGM",
          "author": "Millard",
          "relative_error": null,
          "sample_id": "tkt1"
         },
         {
          "BiGG_ID": "PPC",
          "author": "Millard",
          "relative_error": null,
          "sample_id": "tkt1"
         },
         {
          "BiGG_ID": "PTAr",
          "author": "Millard",
          "relative_error": null,
          "sample_id": "tkt1"
         },
         {
          "BiGG_ID": "PYK",
          "author": "Millard",
          "relative_error": null,
          "sample_id": "tkt1"
         },
         {
          "BiGG_ID": "RPE",
          "author": "Millard",
          "relative_error": null,
          "sample_id": "tkt1"
         },
         {
          "BiGG_ID": "RPI",
          "author": "Millard",
          "relative_error": null,
          "sample_id": "tkt1"
         },
         {
          "BiGG_ID": "SUCDi",
          "author": "Millard",
          "relative_error": null,
          "sample_id": "tkt1"
         },
         {
          "BiGG_ID": "TALA",
          "author": "Millard",
          "relative_error": null,
          "sample_id": "tkt1"
         },
         {
          "BiGG_ID": "TKT1",
          "author": "Millard",
          "relative_error": 100,
          "sample_id": "tkt1"
         },
         {
          "BiGG_ID": "TPI",
          "author": "Millard",
          "relative_error": null,
          "sample_id": "tkt1"
         },
         {
          "BiGG_ID": "AKGDH",
          "author": "Millard",
          "relative_error": null,
          "sample_id": "tkt2"
         },
         {
          "BiGG_ID": "CS",
          "author": "Millard",
          "relative_error": null,
          "sample_id": "tkt2"
         },
         {
          "BiGG_ID": "EDA",
          "author": "Millard",
          "relative_error": null,
          "sample_id": "tkt2"
         },
         {
          "BiGG_ID": "FBA",
          "author": "Millard",
          "relative_error": null,
          "sample_id": "tkt2"
         },
         {
          "BiGG_ID": "FUM",
          "author": "Millard",
          "relative_error": null,
          "sample_id": "tkt2"
         },
         {
          "BiGG_ID": "G6PDH2r",
          "author": "Millard",
          "relative_error": null,
          "sample_id": "tkt2"
         },
         {
          "BiGG_ID": "GAPD",
          "author": "Millard",
          "relative_error": null,
          "sample_id": "tkt2"
         },
         {
          "BiGG_ID": "GLCptspp",
          "author": "Millard",
          "relative_error": null,
          "sample_id": "tkt2"
         },
         {
          "BiGG_ID": "GND",
          "author": "Millard",
          "relative_error": null,
          "sample_id": "tkt2"
         },
         {
          "BiGG_ID": "ICDHyr",
          "author": "Millard",
          "relative_error": null,
          "sample_id": "tkt2"
         },
         {
          "BiGG_ID": "ICL",
          "author": "Millard",
          "relative_error": null,
          "sample_id": "tkt2"
         },
         {
          "BiGG_ID": "MALS",
          "author": "Millard",
          "relative_error": null,
          "sample_id": "tkt2"
         },
         {
          "BiGG_ID": "MDH",
          "author": "Millard",
          "relative_error": null,
          "sample_id": "tkt2"
         },
         {
          "BiGG_ID": "PDH",
          "author": "Millard",
          "relative_error": null,
          "sample_id": "tkt2"
         },
         {
          "BiGG_ID": "PGI",
          "author": "Millard",
          "relative_error": null,
          "sample_id": "tkt2"
         },
         {
          "BiGG_ID": "PGM",
          "author": "Millard",
          "relative_error": null,
          "sample_id": "tkt2"
         },
         {
          "BiGG_ID": "PPC",
          "author": "Millard",
          "relative_error": null,
          "sample_id": "tkt2"
         },
         {
          "BiGG_ID": "PTAr",
          "author": "Millard",
          "relative_error": null,
          "sample_id": "tkt2"
         },
         {
          "BiGG_ID": "PYK",
          "author": "Millard",
          "relative_error": null,
          "sample_id": "tkt2"
         },
         {
          "BiGG_ID": "RPE",
          "author": "Millard",
          "relative_error": null,
          "sample_id": "tkt2"
         },
         {
          "BiGG_ID": "RPI",
          "author": "Millard",
          "relative_error": null,
          "sample_id": "tkt2"
         },
         {
          "BiGG_ID": "SUCDi",
          "author": "Millard",
          "relative_error": null,
          "sample_id": "tkt2"
         },
         {
          "BiGG_ID": "TALA",
          "author": "Millard",
          "relative_error": null,
          "sample_id": "tkt2"
         },
         {
          "BiGG_ID": "TKT1",
          "author": "Millard",
          "relative_error": null,
          "sample_id": "tkt2"
         },
         {
          "BiGG_ID": "TPI",
          "author": "Millard",
          "relative_error": null,
          "sample_id": "tkt2"
         },
         {
          "BiGG_ID": "AKGDH",
          "author": "Millard",
          "relative_error": null,
          "sample_id": "tktA"
         },
         {
          "BiGG_ID": "CS",
          "author": "Millard",
          "relative_error": null,
          "sample_id": "tktA"
         },
         {
          "BiGG_ID": "EDA",
          "author": "Millard",
          "relative_error": null,
          "sample_id": "tktA"
         },
         {
          "BiGG_ID": "FBA",
          "author": "Millard",
          "relative_error": null,
          "sample_id": "tktA"
         },
         {
          "BiGG_ID": "FUM",
          "author": "Millard",
          "relative_error": null,
          "sample_id": "tktA"
         },
         {
          "BiGG_ID": "G6PDH2r",
          "author": "Millard",
          "relative_error": null,
          "sample_id": "tktA"
         },
         {
          "BiGG_ID": "GAPD",
          "author": "Millard",
          "relative_error": null,
          "sample_id": "tktA"
         },
         {
          "BiGG_ID": "GLCptspp",
          "author": "Millard",
          "relative_error": null,
          "sample_id": "tktA"
         },
         {
          "BiGG_ID": "GND",
          "author": "Millard",
          "relative_error": null,
          "sample_id": "tktA"
         },
         {
          "BiGG_ID": "ICDHyr",
          "author": "Millard",
          "relative_error": null,
          "sample_id": "tktA"
         },
         {
          "BiGG_ID": "ICL",
          "author": "Millard",
          "relative_error": null,
          "sample_id": "tktA"
         },
         {
          "BiGG_ID": "MALS",
          "author": "Millard",
          "relative_error": null,
          "sample_id": "tktA"
         },
         {
          "BiGG_ID": "MDH",
          "author": "Millard",
          "relative_error": null,
          "sample_id": "tktA"
         },
         {
          "BiGG_ID": "PDH",
          "author": "Millard",
          "relative_error": null,
          "sample_id": "tktA"
         },
         {
          "BiGG_ID": "PGI",
          "author": "Millard",
          "relative_error": null,
          "sample_id": "tktA"
         },
         {
          "BiGG_ID": "PGM",
          "author": "Millard",
          "relative_error": null,
          "sample_id": "tktA"
         },
         {
          "BiGG_ID": "PPC",
          "author": "Millard",
          "relative_error": null,
          "sample_id": "tktA"
         },
         {
          "BiGG_ID": "PTAr",
          "author": "Millard",
          "relative_error": null,
          "sample_id": "tktA"
         },
         {
          "BiGG_ID": "PYK",
          "author": "Millard",
          "relative_error": null,
          "sample_id": "tktA"
         },
         {
          "BiGG_ID": "RPE",
          "author": "Millard",
          "relative_error": null,
          "sample_id": "tktA"
         },
         {
          "BiGG_ID": "RPI",
          "author": "Millard",
          "relative_error": null,
          "sample_id": "tktA"
         },
         {
          "BiGG_ID": "SUCDi",
          "author": "Millard",
          "relative_error": null,
          "sample_id": "tktA"
         },
         {
          "BiGG_ID": "TALA",
          "author": "Millard",
          "relative_error": null,
          "sample_id": "tktA"
         },
         {
          "BiGG_ID": "TKT1",
          "author": "Millard",
          "relative_error": null,
          "sample_id": "tktA"
         },
         {
          "BiGG_ID": "TPI",
          "author": "Millard",
          "relative_error": null,
          "sample_id": "tktA"
         },
         {
          "BiGG_ID": "AKGDH",
          "author": "Millard",
          "relative_error": null,
          "sample_id": "tktB"
         },
         {
          "BiGG_ID": "CS",
          "author": "Millard",
          "relative_error": null,
          "sample_id": "tktB"
         },
         {
          "BiGG_ID": "EDA",
          "author": "Millard",
          "relative_error": null,
          "sample_id": "tktB"
         },
         {
          "BiGG_ID": "FBA",
          "author": "Millard",
          "relative_error": null,
          "sample_id": "tktB"
         },
         {
          "BiGG_ID": "FUM",
          "author": "Millard",
          "relative_error": null,
          "sample_id": "tktB"
         },
         {
          "BiGG_ID": "G6PDH2r",
          "author": "Millard",
          "relative_error": null,
          "sample_id": "tktB"
         },
         {
          "BiGG_ID": "GAPD",
          "author": "Millard",
          "relative_error": null,
          "sample_id": "tktB"
         },
         {
          "BiGG_ID": "GLCptspp",
          "author": "Millard",
          "relative_error": null,
          "sample_id": "tktB"
         },
         {
          "BiGG_ID": "GND",
          "author": "Millard",
          "relative_error": null,
          "sample_id": "tktB"
         },
         {
          "BiGG_ID": "ICDHyr",
          "author": "Millard",
          "relative_error": null,
          "sample_id": "tktB"
         },
         {
          "BiGG_ID": "ICL",
          "author": "Millard",
          "relative_error": null,
          "sample_id": "tktB"
         },
         {
          "BiGG_ID": "MALS",
          "author": "Millard",
          "relative_error": null,
          "sample_id": "tktB"
         },
         {
          "BiGG_ID": "MDH",
          "author": "Millard",
          "relative_error": null,
          "sample_id": "tktB"
         },
         {
          "BiGG_ID": "PDH",
          "author": "Millard",
          "relative_error": null,
          "sample_id": "tktB"
         },
         {
          "BiGG_ID": "PGI",
          "author": "Millard",
          "relative_error": null,
          "sample_id": "tktB"
         },
         {
          "BiGG_ID": "PGM",
          "author": "Millard",
          "relative_error": null,
          "sample_id": "tktB"
         },
         {
          "BiGG_ID": "PPC",
          "author": "Millard",
          "relative_error": null,
          "sample_id": "tktB"
         },
         {
          "BiGG_ID": "PTAr",
          "author": "Millard",
          "relative_error": null,
          "sample_id": "tktB"
         },
         {
          "BiGG_ID": "PYK",
          "author": "Millard",
          "relative_error": null,
          "sample_id": "tktB"
         },
         {
          "BiGG_ID": "RPE",
          "author": "Millard",
          "relative_error": null,
          "sample_id": "tktB"
         },
         {
          "BiGG_ID": "RPI",
          "author": "Millard",
          "relative_error": null,
          "sample_id": "tktB"
         },
         {
          "BiGG_ID": "SUCDi",
          "author": "Millard",
          "relative_error": null,
          "sample_id": "tktB"
         },
         {
          "BiGG_ID": "TALA",
          "author": "Millard",
          "relative_error": null,
          "sample_id": "tktB"
         },
         {
          "BiGG_ID": "TKT1",
          "author": "Millard",
          "relative_error": null,
          "sample_id": "tktB"
         },
         {
          "BiGG_ID": "TPI",
          "author": "Millard",
          "relative_error": null,
          "sample_id": "tktB"
         },
         {
          "BiGG_ID": "AKGDH",
          "author": "Millard",
          "relative_error": 100,
          "sample_id": "tpi"
         },
         {
          "BiGG_ID": "CS",
          "author": "Millard",
          "relative_error": 100,
          "sample_id": "tpi"
         },
         {
          "BiGG_ID": "EDA",
          "author": "Millard",
          "relative_error": null,
          "sample_id": "tpi"
         },
         {
          "BiGG_ID": "FBA",
          "author": "Millard",
          "relative_error": null,
          "sample_id": "tpi"
         },
         {
          "BiGG_ID": "FUM",
          "author": "Millard",
          "relative_error": 100,
          "sample_id": "tpi"
         },
         {
          "BiGG_ID": "G6PDH2r",
          "author": "Millard",
          "relative_error": null,
          "sample_id": "tpi"
         },
         {
          "BiGG_ID": "GAPD",
          "author": "Millard",
          "relative_error": null,
          "sample_id": "tpi"
         },
         {
          "BiGG_ID": "GLCptspp",
          "author": "Millard",
          "relative_error": 100,
          "sample_id": "tpi"
         },
         {
          "BiGG_ID": "GND",
          "author": "Millard",
          "relative_error": null,
          "sample_id": "tpi"
         },
         {
          "BiGG_ID": "ICDHyr",
          "author": "Millard",
          "relative_error": 100,
          "sample_id": "tpi"
         },
         {
          "BiGG_ID": "ICL",
          "author": "Millard",
          "relative_error": 100,
          "sample_id": "tpi"
         },
         {
          "BiGG_ID": "MALS",
          "author": "Millard",
          "relative_error": 100,
          "sample_id": "tpi"
         },
         {
          "BiGG_ID": "MDH",
          "author": "Millard",
          "relative_error": 100,
          "sample_id": "tpi"
         },
         {
          "BiGG_ID": "PDH",
          "author": "Millard",
          "relative_error": null,
          "sample_id": "tpi"
         },
         {
          "BiGG_ID": "PGI",
          "author": "Millard",
          "relative_error": null,
          "sample_id": "tpi"
         },
         {
          "BiGG_ID": "PGM",
          "author": "Millard",
          "relative_error": 100,
          "sample_id": "tpi"
         },
         {
          "BiGG_ID": "PPC",
          "author": "Millard",
          "relative_error": 100,
          "sample_id": "tpi"
         },
         {
          "BiGG_ID": "PTAr",
          "author": "Millard",
          "relative_error": null,
          "sample_id": "tpi"
         },
         {
          "BiGG_ID": "PYK",
          "author": "Millard",
          "relative_error": 100,
          "sample_id": "tpi"
         },
         {
          "BiGG_ID": "RPE",
          "author": "Millard",
          "relative_error": null,
          "sample_id": "tpi"
         },
         {
          "BiGG_ID": "RPI",
          "author": "Millard",
          "relative_error": null,
          "sample_id": "tpi"
         },
         {
          "BiGG_ID": "SUCDi",
          "author": "Millard",
          "relative_error": 100,
          "sample_id": "tpi"
         },
         {
          "BiGG_ID": "TALA",
          "author": "Millard",
          "relative_error": null,
          "sample_id": "tpi"
         },
         {
          "BiGG_ID": "TKT1",
          "author": "Millard",
          "relative_error": null,
          "sample_id": "tpi"
         },
         {
          "BiGG_ID": "TPI",
          "author": "Millard",
          "relative_error": 100,
          "sample_id": "tpi"
         },
         {
          "BiGG_ID": "AKGDH",
          "author": "Millard",
          "relative_error": 34.161525878023454,
          "sample_id": "zwf"
         },
         {
          "BiGG_ID": "CS",
          "author": "Millard",
          "relative_error": 27.38244277651658,
          "sample_id": "zwf"
         },
         {
          "BiGG_ID": "EDA",
          "author": "Millard",
          "relative_error": 0,
          "sample_id": "zwf"
         },
         {
          "BiGG_ID": "FBA",
          "author": "Millard",
          "relative_error": 1.5658482607762334,
          "sample_id": "zwf"
         },
         {
          "BiGG_ID": "FUM",
          "author": "Millard",
          "relative_error": 32.406172398963044,
          "sample_id": "zwf"
         },
         {
          "BiGG_ID": "G6PDH2r",
          "author": "Millard",
          "relative_error": 0,
          "sample_id": "zwf"
         },
         {
          "BiGG_ID": "GAPD",
          "author": "Millard",
          "relative_error": 1.955785400399743,
          "sample_id": "zwf"
         },
         {
          "BiGG_ID": "GLCptspp",
          "author": "Millard",
          "relative_error": 4.476419235288431e-12,
          "sample_id": "zwf"
         },
         {
          "BiGG_ID": "GND",
          "author": "Millard",
          "relative_error": 0,
          "sample_id": "zwf"
         },
         {
          "BiGG_ID": "ICDHyr",
          "author": "Millard",
          "relative_error": 27.100677516746295,
          "sample_id": "zwf"
         },
         {
          "BiGG_ID": "ICL",
          "author": "Millard",
          "relative_error": 28.182309276805288,
          "sample_id": "zwf"
         },
         {
          "BiGG_ID": "MALS",
          "author": "Millard",
          "relative_error": 28.182309276752775,
          "sample_id": "zwf"
         },
         {
          "BiGG_ID": "MDH",
          "author": "Millard",
          "relative_error": 30.486144530093885,
          "sample_id": "zwf"
         },
         {
          "BiGG_ID": "PDH",
          "author": "Millard",
          "relative_error": 16.806736929624197,
          "sample_id": "zwf"
         },
         {
          "BiGG_ID": "PGI",
          "author": "Millard",
          "relative_error": 0.7452945347826873,
          "sample_id": "zwf"
         },
         {
          "BiGG_ID": "PGM",
          "author": "Millard",
          "relative_error": 3.6939174257360192,
          "sample_id": "zwf"
         },
         {
          "BiGG_ID": "PPC",
          "author": "Millard",
          "relative_error": 100,
          "sample_id": "zwf"
         },
         {
          "BiGG_ID": "PTAr",
          "author": "Millard",
          "relative_error": 100,
          "sample_id": "zwf"
         },
         {
          "BiGG_ID": "PYK",
          "author": "Millard",
          "relative_error": 28.963400522516558,
          "sample_id": "zwf"
         },
         {
          "BiGG_ID": "RPE",
          "author": "Millard",
          "relative_error": 181.91307994304552,
          "sample_id": "zwf"
         },
         {
          "BiGG_ID": "RPI",
          "author": "Millard",
          "relative_error": 17.2595854139174,
          "sample_id": "zwf"
         },
         {
          "BiGG_ID": "SUCDi",
          "author": "Millard",
          "relative_error": 32.40617239819015,
          "sample_id": "zwf"
         },
         {
          "BiGG_ID": "TALA",
          "author": "Millard",
          "relative_error": 165.41449478516904,
          "sample_id": "zwf"
         },
         {
          "BiGG_ID": "TKT1",
          "author": "Millard",
          "relative_error": 121.85640392948616,
          "sample_id": "zwf"
         },
         {
          "BiGG_ID": "TPI",
          "author": "Millard",
          "relative_error": 1.5658482606809632,
          "sample_id": "zwf"
         }
        ]
       },
       "encoding": {
        "color": {
         "condition": {
          "test": "datum.relative_error === null",
          "value": "lightgrey"
         },
         "field": "relative_error",
         "scale": {
          "domain": [
           0,
           25,
           50,
           75,
           100,
           200,
           300
          ],
          "scheme": "greenblue",
          "type": "threshold"
         },
         "title": "relative error (clipped at 300)",
         "type": "quantitative"
        },
        "tooltip": [
         {
          "field": "sample_id",
          "type": "nominal"
         },
         {
          "field": "BiGG_ID",
          "type": "nominal"
         },
         {
          "field": "relative_error",
          "type": "quantitative"
         }
        ],
        "x": {
         "field": "sample_id",
         "type": "nominal"
        },
        "y": {
         "field": "BiGG_ID",
         "type": "nominal"
        }
       },
       "mark": "rect",
       "title": "Heatmap for author Millard"
      },
      "image/png": "[encoded data removed]",
      "text/plain": [
       "<VegaLite 3 object>\n",
       "\n",
       "If you see this message, it means the renderer has not been properly enabled\n",
       "for the frontend that you are using. For more information, see\n",
       "https://altair-viz.github.io/user_guide/troubleshooting.html\n"
      ]
     },
     "execution_count": 18,
     "metadata": {},
     "output_type": "execute_result"
    }
   ],
   "source": [
    "heatmap(x_rel_error, author = \"Millard\")"
   ]
  },
  {
   "cell_type": "code",
   "execution_count": 29,
   "metadata": {},
   "outputs": [],
   "source": [
    "kh_wt = x_rel_error.sel(dict(author=\"Khodayari\", sample_id = \"WT\")).normalized_flux"
   ]
  },
  {
   "cell_type": "code",
   "execution_count": 27,
   "metadata": {},
   "outputs": [],
   "source": [
    "ex_wt = x_rel_error.sel(dict(author=\"Ishii\", sample_id = \"WT\")).normalized_flux"
   ]
  },
  {
   "cell_type": "code",
   "execution_count": 30,
   "metadata": {},
   "outputs": [
    {
     "data": {
      "text/plain": [
       "<xarray.DataArray 'normalized_flux' ()>\n",
       "array(12.5)\n",
       "Coordinates:\n",
       "    sample_id  <U2 'WT'\n",
       "    author     <U5 'Ishii'\n",
       "    BiGG_ID    <U3 'PPC'"
      ]
     },
     "execution_count": 30,
     "metadata": {},
     "output_type": "execute_result"
    }
   ],
   "source": [
    "ex_wt.sel(BiGG_ID = \"PPC\")"
   ]
  },
  {
   "cell_type": "code",
   "execution_count": 31,
   "metadata": {},
   "outputs": [
    {
     "data": {
      "text/plain": [
       "<xarray.DataArray 'normalized_flux' ()>\n",
       "array(16.880989)\n",
       "Coordinates:\n",
       "    sample_id  <U2 'WT'\n",
       "    author     <U9 'Khodayari'\n",
       "    BiGG_ID    <U3 'PPC'"
      ]
     },
     "execution_count": 31,
     "metadata": {},
     "output_type": "execute_result"
    }
   ],
   "source": [
    "kh_wt.sel(BiGG_ID = \"PPC\")"
   ]
  },
  {
   "cell_type": "code",
   "execution_count": 42,
   "metadata": {},
   "outputs": [],
   "source": [
    "ml_wt = x_rel_error.sel(dict(author=\"Millard\", sample_id = \"WT\")).normalized_flux"
   ]
  },
  {
   "cell_type": "code",
   "execution_count": 73,
   "metadata": {},
   "outputs": [
    {
     "name": "stdout",
     "output_type": "stream",
     "text": [
      "Normalized flux: Khod -> Millard & Ishii\n",
      "AKGDH : 55.42 -> 47.56 & 59.00\n",
      "CS : 89.11 -> 78.44 & 84.50\n",
      "EDA : 0.00 -> 5.99 & 0.00\n",
      "FBA : 80.14 -> 82.29 & 86.50\n",
      "FUM : 80.56 -> 69.40 & 76.00\n",
      "G6PDH2r : 17.87 -> 16.19 & 16.00\n",
      "GAPD : 158.70 -> 168.37 & 173.00\n",
      "GLCptspp : 99.88 -> 100.00 & 100.00\n",
      "GND : 16.28 -> 10.21 & 16.00\n",
      "ICDHyr : 76.21 -> 56.60 & 67.50\n",
      "ICL : 12.13 -> 21.84 & 16.50\n",
      "MALS : 12.16 -> 21.84 & 16.50\n",
      "MDH : 87.99 -> 86.59 & 86.50\n",
      "PDH : 116.37 -> 131.64 & 128.00\n",
      "PGI : 79.57 -> 82.09 & 82.50\n",
      "PGM : -153.97 -> 155.85 & 162.00\n",
      "PPC : 16.88 -> 23.54 & 12.50\n",
      "PTAr : 0.00 -> 6.85 & 0.00\n",
      "PYK : 29.11 -> 44.72 & 47.00\n",
      "RPE : 5.09 -> 0.79 & 5.00\n",
      "RPI : -11.39 -> 9.41 & 11.00\n",
      "SUCDi : 82.56 -> 69.40 & 76.00\n",
      "TALA : 4.23 -> 1.91 & 4.00\n",
      "TKT1 : 4.14 -> 0.79 & 4.00\n",
      "TPI : 79.61 -> 82.29 & 86.50\n"
     ]
    }
   ],
   "source": [
    "print(\"Normalized flux: Khod -> Millard & Ishii\")\n",
    "iterator = zip(x_rel_error.sel(dict(author=\"Khodayari\", sample_id = \"WT\")).normalized_flux.values,\n",
    "               x_rel_error.sel(dict(author=\"Millard\", sample_id = \"WT\")).normalized_flux.values,\n",
    "               x_rel_error.sel(dict(author=\"Ishii\", sample_id = \"WT\")).normalized_flux.values,\n",
    "               x_rel_error.sel(dict(author=\"Khodayari\", sample_id = \"WT\")).BiGG_ID.values)\n",
    "for val1, val2, val3, i in iterator:\n",
    "    print(f\"{i} : {val1:.2f} -> {val2:.2f} & {val3:.2f}\")"
   ]
  },
  {
   "cell_type": "code",
   "execution_count": 70,
   "metadata": {},
   "outputs": [
    {
     "name": "stdout",
     "output_type": "stream",
     "text": [
      "Relative error: Khod -> Millard\n",
      "AKGDH : 6.45 -> 24.04\n",
      "CS : 5.18 -> 7.73\n",
      "EDA : 0.00 -> 100.00\n",
      "FBA : 7.94 -> 5.12\n",
      "FUM : 5.66 -> 9.51\n",
      "G6PDH2r : 10.48 -> 1.19\n",
      "GAPD : 9.01 -> 2.75\n",
      "GLCptspp : 0.12 -> 0.00\n",
      "GND : 1.73 -> 56.77\n",
      "ICDHyr : 11.43 -> 19.26\n",
      "ICL : 36.00 -> 24.45\n",
      "MALS : 35.71 -> 24.45\n",
      "MDH : 1.69 -> 0.10\n",
      "PDH : 9.99 -> 2.77\n",
      "PGI : 3.68 -> 0.50\n",
      "PGM : 205.21 -> 3.94\n",
      "PPC : 25.95 -> 46.89\n",
      "PTAr : 0.00 -> 100.00\n",
      "PYK : 61.48 -> 5.10\n",
      "RPE : 1.83 -> 531.55\n",
      "RPI : 196.59 -> 16.84\n",
      "SUCDi : 7.94 -> 9.51\n",
      "TALA : 5.51 -> 109.82\n",
      "TKT1 : 3.35 -> 405.24\n",
      "TPI : 8.66 -> 5.12\n"
     ]
    }
   ],
   "source": [
    "print(\"Relative error: Khod -> Millard\")\n",
    "iterator = zip(x_rel_error.sel(dict(author=\"Khodayari\", sample_id = \"WT\")).relative_error.values,\n",
    "               x_rel_error.sel(dict(author=\"Millard\", sample_id = \"WT\")).relative_error.values,\n",
    "               x_rel_error.sel(dict(author=\"Khodayari\", sample_id = \"WT\")).BiGG_ID.values)\n",
    "for val1, val2, i in iterator:\n",
    "    print(f\"{i} : {val1:.2f} -> {val2:.2f}\")"
   ]
  },
  {
   "cell_type": "markdown",
   "metadata": {},
   "source": [
    "# Export the data"
   ]
  },
  {
   "cell_type": "code",
   "execution_count": 42,
   "metadata": {},
   "outputs": [],
   "source": [
    "path = data_path / \"processed\"\n",
    "path.mkdir(parents=True, exist_ok=True)"
   ]
  },
  {
   "cell_type": "code",
   "execution_count": 201,
   "metadata": {},
   "outputs": [
    {
     "data": {
      "text/plain": [
       "<xarray.Dataset>\n",
       "Dimensions:          (BiGG_ID: 25, author: 11, sample_id: 22)\n",
       "Coordinates:\n",
       "  * sample_id        (sample_id) object 'WT' 'fbaB' 'fbp' ... 'tktB' 'zwf'\n",
       "  * author           (author) object 'Chassagnole' 'ECC2' ... 'iML1515'\n",
       "  * BiGG_ID          (BiGG_ID) object 'AKGDH' 'CS' 'EDA' ... 'TALA' 'TKT1' 'TPI'\n",
       "Data variables:\n",
       "    flux             (sample_id, author, BiGG_ID) float64 nan nan ... 2.676\n",
       "    normalized_flux  (sample_id, author, BiGG_ID) float64 0.0 0.0 ... 93.16\n",
       "    relative_error   (sample_id, author, BiGG_ID) float64 100.0 100.0 ... 0.1711"
      ]
     },
     "execution_count": 201,
     "metadata": {},
     "output_type": "execute_result"
    }
   ],
   "source": [
    "x_rel_error.to_dataframe().reset_index().to_csv(data_path / \"processed\" / \"ko_relative_errors.csv\")"
   ]
  },
  {
   "cell_type": "code",
   "execution_count": 139,
   "metadata": {},
   "outputs": [],
   "source": [
    "x_norm_error.to_dataframe().reset_index().to_csv(data_path / \"processed\" / \"ko_summary_errors.csv\")"
   ]
  }
 ],
 "metadata": {
  "kernelspec": {
   "display_name": "dataml-conda",
   "language": "python",
   "name": "dataml-conda"
  },
  "language_info": {
   "codemirror_mode": {
    "name": "ipython",
    "version": 3
   },
   "file_extension": ".py",
   "mimetype": "text/x-python",
   "name": "python",
   "nbconvert_exporter": "python",
   "pygments_lexer": "ipython3",
   "version": "3.6.6"
  }
 },
 "nbformat": 4,
 "nbformat_minor": 4
}
