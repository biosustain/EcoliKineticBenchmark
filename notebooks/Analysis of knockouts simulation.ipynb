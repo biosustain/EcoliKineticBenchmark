{
 "cells": [
  {
   "cell_type": "code",
   "execution_count": 1,
   "metadata": {},
   "outputs": [],
   "source": [
    "%reload_ext autoreload\n",
    "%autoreload 2"
   ]
  },
  {
   "cell_type": "code",
   "execution_count": 2,
   "metadata": {},
   "outputs": [],
   "source": [
    "import numpy as np\n",
    "import pandas as pd\n",
    "import xarray as xr\n",
    "\n",
    "from pathlib import Path\n",
    "\n",
    "import altair as alt\n",
    "from altair.expr import datum"
   ]
  },
  {
   "cell_type": "code",
   "execution_count": 3,
   "metadata": {},
   "outputs": [],
   "source": [
    "%load_ext watermark"
   ]
  },
  {
   "cell_type": "code",
   "execution_count": 4,
   "metadata": {},
   "outputs": [
    {
     "name": "stdout",
     "output_type": "stream",
     "text": [
      "numpy     1.18.1\n",
      "pandas    1.1.0\n",
      "altair    4.0.1\n",
      "xarray    0.14.1\n",
      "\n"
     ]
    }
   ],
   "source": [
    "%watermark --iversions"
   ]
  },
  {
   "cell_type": "markdown",
   "metadata": {},
   "source": [
    "# 0. Utility functions"
   ]
  },
  {
   "cell_type": "code",
   "execution_count": 5,
   "metadata": {},
   "outputs": [],
   "source": [
    "from utils.load import load_ko_data\n",
    "from utils.calculate_metrics import (process_data, relative_errors, summary_errors, rms_errors, spearman_errors, branch_stat)"
   ]
  },
  {
   "cell_type": "markdown",
   "metadata": {},
   "source": [
    "# 1. Load the simulation data"
   ]
  },
  {
   "cell_type": "code",
   "execution_count": 6,
   "metadata": {},
   "outputs": [],
   "source": [
    "ko_df, debug_info = load_ko_data()"
   ]
  },
  {
   "cell_type": "code",
   "execution_count": 7,
   "metadata": {},
   "outputs": [
    {
     "data": {
      "text/html": [
       "<div>\n",
       "<style scoped>\n",
       "    .dataframe tbody tr th:only-of-type {\n",
       "        vertical-align: middle;\n",
       "    }\n",
       "\n",
       "    .dataframe tbody tr th {\n",
       "        vertical-align: top;\n",
       "    }\n",
       "\n",
       "    .dataframe thead th {\n",
       "        text-align: right;\n",
       "    }\n",
       "</style>\n",
       "<table border=\"1\" class=\"dataframe\">\n",
       "  <thead>\n",
       "    <tr style=\"text-align: right;\">\n",
       "      <th></th>\n",
       "      <th>flux</th>\n",
       "      <th>ID</th>\n",
       "      <th>BiGG_ID</th>\n",
       "      <th>author</th>\n",
       "      <th>sample_id</th>\n",
       "      <th>normalized_flux</th>\n",
       "    </tr>\n",
       "  </thead>\n",
       "  <tbody>\n",
       "    <tr>\n",
       "      <th>0</th>\n",
       "      <td>-0.059225</td>\n",
       "      <td>ACALD</td>\n",
       "      <td>ACALD</td>\n",
       "      <td>Khodayari</td>\n",
       "      <td>fbaA</td>\n",
       "      <td>-0.059127</td>\n",
       "    </tr>\n",
       "    <tr>\n",
       "      <th>1</th>\n",
       "      <td>-0.004108</td>\n",
       "      <td>ACALDtpp_ex</td>\n",
       "      <td>composed of ACALDtex and ACALDtpp</td>\n",
       "      <td>Khodayari</td>\n",
       "      <td>fbaA</td>\n",
       "      <td>-0.004101</td>\n",
       "    </tr>\n",
       "    <tr>\n",
       "      <th>2</th>\n",
       "      <td>0.000028</td>\n",
       "      <td>ACKr</td>\n",
       "      <td>ACKr</td>\n",
       "      <td>Khodayari</td>\n",
       "      <td>fbaA</td>\n",
       "      <td>0.000028</td>\n",
       "    </tr>\n",
       "    <tr>\n",
       "      <th>3</th>\n",
       "      <td>94.519769</td>\n",
       "      <td>ACONTa</td>\n",
       "      <td>ACONTa</td>\n",
       "      <td>Khodayari</td>\n",
       "      <td>fbaA</td>\n",
       "      <td>94.364274</td>\n",
       "    </tr>\n",
       "    <tr>\n",
       "      <th>4</th>\n",
       "      <td>94.276304</td>\n",
       "      <td>ACONTb</td>\n",
       "      <td>ACONTb</td>\n",
       "      <td>Khodayari</td>\n",
       "      <td>fbaA</td>\n",
       "      <td>94.121209</td>\n",
       "    </tr>\n",
       "  </tbody>\n",
       "</table>\n",
       "</div>"
      ],
      "text/plain": [
       "        flux           ID                            BiGG_ID     author  \\\n",
       "0  -0.059225        ACALD                              ACALD  Khodayari   \n",
       "1  -0.004108  ACALDtpp_ex  composed of ACALDtex and ACALDtpp  Khodayari   \n",
       "2   0.000028         ACKr                               ACKr  Khodayari   \n",
       "3  94.519769       ACONTa                             ACONTa  Khodayari   \n",
       "4  94.276304       ACONTb                             ACONTb  Khodayari   \n",
       "\n",
       "  sample_id  normalized_flux  \n",
       "0      fbaA        -0.059127  \n",
       "1      fbaA        -0.004101  \n",
       "2      fbaA         0.000028  \n",
       "3      fbaA        94.364274  \n",
       "4      fbaA        94.121209  "
      ]
     },
     "execution_count": 7,
     "metadata": {},
     "output_type": "execute_result"
    }
   ],
   "source": [
    "ko_df.head()"
   ]
  },
  {
   "cell_type": "markdown",
   "metadata": {},
   "source": [
    "### Preprocess data"
   ]
  },
  {
   "cell_type": "code",
   "execution_count": 8,
   "metadata": {},
   "outputs": [],
   "source": [
    "xdf = process_data(ko_df, author=\"Ishii\")"
   ]
  },
  {
   "cell_type": "code",
   "execution_count": 9,
   "metadata": {},
   "outputs": [
    {
     "name": "stdout",
     "output_type": "stream",
     "text": [
      "No data for branch point MDH_ME\n"
     ]
    }
   ],
   "source": [
    "branch_df = branch_stat(xdf)"
   ]
  },
  {
   "cell_type": "code",
   "execution_count": 10,
   "metadata": {},
   "outputs": [
    {
     "data": {
      "text/html": [
       "<pre>&lt;xarray.DataArray &#x27;BiGG_ID&#x27; (BiGG_ID: 25)&gt;\n",
       "array([&#x27;AKGDH&#x27;, &#x27;CS&#x27;, &#x27;EDA&#x27;, &#x27;FBA&#x27;, &#x27;FUM&#x27;, &#x27;G6PDH2r&#x27;, &#x27;GAPD&#x27;, &#x27;GLCptspp&#x27;,\n",
       "       &#x27;GND&#x27;, &#x27;ICDHyr&#x27;, &#x27;ICL&#x27;, &#x27;MALS&#x27;, &#x27;MDH&#x27;, &#x27;PDH&#x27;, &#x27;PGI&#x27;, &#x27;PGM&#x27;, &#x27;PPC&#x27;,\n",
       "       &#x27;PTAr&#x27;, &#x27;PYK&#x27;, &#x27;RPE&#x27;, &#x27;RPI&#x27;, &#x27;SUCDi&#x27;, &#x27;TALA&#x27;, &#x27;TKT1&#x27;, &#x27;TPI&#x27;],\n",
       "      dtype=object)\n",
       "Coordinates:\n",
       "  * BiGG_ID  (BiGG_ID) object &#x27;AKGDH&#x27; &#x27;CS&#x27; &#x27;EDA&#x27; &#x27;FBA&#x27; ... &#x27;TALA&#x27; &#x27;TKT1&#x27; &#x27;TPI&#x27;</pre>"
      ],
      "text/plain": [
       "<xarray.DataArray 'BiGG_ID' (BiGG_ID: 25)>\n",
       "array(['AKGDH', 'CS', 'EDA', 'FBA', 'FUM', 'G6PDH2r', 'GAPD', 'GLCptspp',\n",
       "       'GND', 'ICDHyr', 'ICL', 'MALS', 'MDH', 'PDH', 'PGI', 'PGM', 'PPC',\n",
       "       'PTAr', 'PYK', 'RPE', 'RPI', 'SUCDi', 'TALA', 'TKT1', 'TPI'],\n",
       "      dtype=object)\n",
       "Coordinates:\n",
       "  * BiGG_ID  (BiGG_ID) object 'AKGDH' 'CS' 'EDA' 'FBA' ... 'TALA' 'TKT1' 'TPI'"
      ]
     },
     "execution_count": 10,
     "metadata": {},
     "output_type": "execute_result"
    }
   ],
   "source": [
    "xdf.BiGG_ID"
   ]
  },
  {
   "cell_type": "markdown",
   "metadata": {},
   "source": [
    "# 2. Calculate error metrics"
   ]
  },
  {
   "cell_type": "code",
   "execution_count": 11,
   "metadata": {},
   "outputs": [],
   "source": [
    "x_rel_error = relative_errors(xdf, author=\"Ishii\")"
   ]
  },
  {
   "cell_type": "code",
   "execution_count": 12,
   "metadata": {},
   "outputs": [],
   "source": [
    "x_norm_error = summary_errors(xdf, author=\"Ishii\")"
   ]
  },
  {
   "cell_type": "code",
   "execution_count": 13,
   "metadata": {},
   "outputs": [
    {
     "name": "stderr",
     "output_type": "stream",
     "text": [
      "/Users/denshe/anaconda3/envs/dataml/lib/python3.6/site-packages/xarray/core/nanops.py:140: RuntimeWarning: Mean of empty slice\n",
      "  return np.nanmean(a, axis=axis, dtype=dtype)\n"
     ]
    }
   ],
   "source": [
    "x_rms_error = rms_errors(xdf, author=\"Ishii\")"
   ]
  },
  {
   "cell_type": "code",
   "execution_count": 14,
   "metadata": {},
   "outputs": [],
   "source": [
    "x_spearman_error = spearman_errors(xdf, author=\"Ishii\")"
   ]
  },
  {
   "cell_type": "markdown",
   "metadata": {
    "toc-hr-collapsed": false
   },
   "source": [
    "# 3. Visualize"
   ]
  },
  {
   "cell_type": "markdown",
   "metadata": {},
   "source": [
    "### Summary normalized error for the models"
   ]
  },
  {
   "cell_type": "code",
   "execution_count": 16,
   "metadata": {},
   "outputs": [],
   "source": [
    "from utils.vis import heatmap, jitter_summary_chart, boxplot"
   ]
  },
  {
   "cell_type": "code",
   "execution_count": 17,
   "metadata": {},
   "outputs": [
    {
     "data": {
      "text/html": [
       "\n",
       "<div id=\"altair-viz-dd97ddff77764a5b9ab6a6668b7bb5ca\"></div>\n",
       "<script type=\"text/javascript\">\n",
       "  (function(spec, embedOpt){\n",
       "    const outputDiv = document.getElementById(\"altair-viz-dd97ddff77764a5b9ab6a6668b7bb5ca\");\n",
       "    const paths = {\n",
       "      \"vega\": \"https://cdn.jsdelivr.net/npm//vega@5?noext\",\n",
       "      \"vega-lib\": \"https://cdn.jsdelivr.net/npm//vega-lib?noext\",\n",
       "      \"vega-lite\": \"https://cdn.jsdelivr.net/npm//vega-lite@4.0.2?noext\",\n",
       "      \"vega-embed\": \"https://cdn.jsdelivr.net/npm//vega-embed@6?noext\",\n",
       "    };\n",
       "\n",
       "    function loadScript(lib) {\n",
       "      return new Promise(function(resolve, reject) {\n",
       "        var s = document.createElement('script');\n",
       "        s.src = paths[lib];\n",
       "        s.async = true;\n",
       "        s.onload = () => resolve(paths[lib]);\n",
       "        s.onerror = () => reject(`Error loading script: ${paths[lib]}`);\n",
       "        document.getElementsByTagName(\"head\")[0].appendChild(s);\n",
       "      });\n",
       "    }\n",
       "\n",
       "    function showError(err) {\n",
       "      outputDiv.innerHTML = `<div class=\"error\" style=\"color:red;\">${err}</div>`;\n",
       "      throw err;\n",
       "    }\n",
       "\n",
       "    function displayChart(vegaEmbed) {\n",
       "      vegaEmbed(outputDiv, spec, embedOpt)\n",
       "        .catch(err => showError(`Javascript Error: ${err.message}<br>This usually means there's a typo in your chart specification. See the javascript console for the full traceback.`));\n",
       "    }\n",
       "\n",
       "    if(typeof define === \"function\" && define.amd) {\n",
       "      requirejs.config({paths});\n",
       "      require([\"vega-embed\"], displayChart, err => showError(`Error loading script: ${err.message}`));\n",
       "    } else if (typeof vegaEmbed === \"function\") {\n",
       "      displayChart(vegaEmbed);\n",
       "    } else {\n",
       "      loadScript(\"vega\")\n",
       "        .then(() => loadScript(\"vega-lite\"))\n",
       "        .then(() => loadScript(\"vega-embed\"))\n",
       "        .catch(showError)\n",
       "        .then(() => displayChart(vegaEmbed));\n",
       "    }\n",
       "  })({\"config\": {\"view\": {\"continuousWidth\": 400, \"continuousHeight\": 300, \"stroke\": null}, \"axis\": {\"labelFontSize\": 20, \"titleFontSize\": 20}, \"facet\": {\"spacing\": 5}, \"header\": {\"titleFontSize\": 24}}, \"data\": {\"name\": \"data-705929dbcb3d560a524fa02c60fe6132\"}, \"facet\": {\"column\": {\"type\": \"nominal\", \"field\": \"author\", \"header\": {\"labelAlign\": \"right\", \"labelAngle\": -90, \"labelFontSize\": 20, \"labelOrient\": \"bottom\", \"labelPadding\": 3, \"title\": \"Knockout simulations (chemostat)\", \"titleOrient\": \"top\"}, \"sort\": [\"Chassagnole\", \"Khodayari\", \"Millard\", \"Kurata\", \"iML1515\", \"Exp_iML1515\"]}}, \"spec\": {\"layer\": [{\"mark\": {\"type\": \"boxplot\", \"outliers\": false, \"size\": 95}, \"encoding\": {\"color\": {\"type\": \"nominal\", \"field\": \"author\", \"legend\": null, \"scale\": {\"domain\": [\"Khodayari\", \"Millard\", \"Kurata\", \"iML1515\", \"Chassagnole\", \"Exp_iML1515\"], \"range\": [\"#1b9e77\", \"#d95f02\", \"#7570b3\", \"#e7298a\", \"#66a61e\", \"#e6ab02\"]}}, \"opacity\": {\"value\": 0.7}, \"y\": {\"type\": \"quantitative\", \"field\": \"normalized_error\", \"title\": \"Normalized Error\"}}}, {\"mark\": \"circle\", \"encoding\": {\"color\": {\"type\": \"nominal\", \"field\": \"author\", \"legend\": null, \"scale\": {\"domain\": [\"Khodayari\", \"Millard\", \"Kurata\", \"iML1515\", \"Chassagnole\", \"Exp_iML1515\"], \"range\": [\"#1b9e77\", \"#d95f02\", \"#7570b3\", \"#e7298a\", \"#66a61e\", \"#e6ab02\"]}}, \"opacity\": {\"value\": 1.0}, \"size\": {\"condition\": {\"value\": 130, \"selection\": \"selector001\"}, \"value\": 50}, \"tooltip\": [{\"type\": \"nominal\", \"field\": \"author\"}, {\"type\": \"nominal\", \"field\": \"sample_id\"}, {\"type\": \"quantitative\", \"field\": \"normalized_error\"}], \"x\": {\"type\": \"quantitative\", \"axis\": {\"grid\": false, \"labels\": false, \"ticks\": true, \"values\": [0]}, \"field\": \"jitter\", \"scale\": {}, \"title\": null}, \"y\": {\"type\": \"quantitative\", \"axis\": {\"tickCount\": 10}, \"field\": \"normalized_error\", \"title\": \"Normalized Error\"}}, \"height\": 600, \"selection\": {\"selector001\": {\"type\": \"single\", \"empty\": \"none\", \"fields\": [\"sample_id\"]}}, \"width\": 100}, {\"mark\": {\"type\": \"point\", \"filled\": true, \"opacity\": 1.0, \"shape\": \"diamond\", \"size\": 180}, \"encoding\": {\"color\": {\"type\": \"nominal\", \"field\": \"author\", \"legend\": null, \"scale\": {\"domain\": [\"Khodayari\", \"Millard\", \"Kurata\", \"iML1515\", \"Chassagnole\", \"Exp_iML1515\"], \"range\": [\"#1b9e77\", \"#d95f02\", \"#7570b3\", \"#e7298a\", \"#66a61e\", \"#e6ab02\"]}}, \"tooltip\": [{\"type\": \"nominal\", \"field\": \"author\"}, {\"type\": \"nominal\", \"field\": \"sample_id\"}, {\"type\": \"quantitative\", \"field\": \"normalized_error\"}], \"x\": {\"type\": \"quantitative\", \"field\": \"jitter\", \"title\": null}, \"y\": {\"type\": \"quantitative\", \"field\": \"normalized_error\", \"title\": \"Normalized Error\"}}, \"transform\": [{\"filter\": \"datum.sample_id === \\\"WT\\\"\"}]}, {\"mark\": {\"type\": \"text\", \"dy\": 10, \"text\": \"WT\"}, \"encoding\": {\"tooltip\": [{\"type\": \"nominal\", \"field\": \"author\"}, {\"type\": \"nominal\", \"field\": \"sample_id\"}, {\"type\": \"quantitative\", \"field\": \"normalized_error\"}], \"x\": {\"type\": \"quantitative\", \"field\": \"jitter\", \"title\": null}, \"y\": {\"type\": \"quantitative\", \"field\": \"normalized_error\", \"title\": \"Normalized Error\"}}, \"transform\": [{\"filter\": \"datum.sample_id === \\\"WT\\\"\"}]}], \"transform\": [{\"calculate\": \"sqrt(-2*log(random()))*cos(2*PI*random())\", \"as\": \"jitter\"}]}, \"transform\": [{\"filter\": \"datum.normalized_error !== null\"}], \"$schema\": \"https://vega.github.io/schema/vega-lite/v4.0.2.json\", \"datasets\": {\"data-705929dbcb3d560a524fa02c60fe6132\": [{\"author\": \"Chassagnole\", \"sample_id\": \"WT\", \"normalized_error\": 0.5843350373547249, \"unnormalized_error\": 220.30225248611447}, {\"author\": \"Chassagnole\", \"sample_id\": \"fbaA\", \"normalized_error\": null, \"unnormalized_error\": null}, {\"author\": \"Chassagnole\", \"sample_id\": \"fbaB\", \"normalized_error\": 0.7311881858159665, \"unnormalized_error\": 267.42501937952096}, {\"author\": \"Chassagnole\", \"sample_id\": \"gnd\", \"normalized_error\": 0.792390790752307, \"unnormalized_error\": 344.52510082013674}, {\"author\": \"Chassagnole\", \"sample_id\": \"pfkA\", \"normalized_error\": 0.7348187190987425, \"unnormalized_error\": 273.83904677698547}, {\"author\": \"Chassagnole\", \"sample_id\": \"pfkB\", \"normalized_error\": 0.7319119264625553, \"unnormalized_error\": 262.40956489503503}, {\"author\": \"Chassagnole\", \"sample_id\": \"pgi\", \"normalized_error\": 0.574234058108496, \"unnormalized_error\": 174.75688780172746}, {\"author\": \"Chassagnole\", \"sample_id\": \"pykA\", \"normalized_error\": 0.6121357684620768, \"unnormalized_error\": 228.4898741969618}, {\"author\": \"Chassagnole\", \"sample_id\": \"pykF\", \"normalized_error\": 0.5278095966338381, \"unnormalized_error\": 186.31379716510222}, {\"author\": \"Chassagnole\", \"sample_id\": \"rpe\", \"normalized_error\": 0.9858093148048452, \"unnormalized_error\": 432.8342834780571}, {\"author\": \"Chassagnole\", \"sample_id\": \"rpiA\", \"normalized_error\": 0.7858902423265223, \"unnormalized_error\": 300.8040459154561}, {\"author\": \"Chassagnole\", \"sample_id\": \"rpiB\", \"normalized_error\": 0.806620267803242, \"unnormalized_error\": 336.0393976268118}, {\"author\": \"Chassagnole\", \"sample_id\": \"talA\", \"normalized_error\": 0.6028755062412297, \"unnormalized_error\": 228.21844126728934}, {\"author\": \"Chassagnole\", \"sample_id\": \"talB\", \"normalized_error\": 0.6221973390258805, \"unnormalized_error\": 242.3336828729428}, {\"author\": \"Chassagnole\", \"sample_id\": \"zwf\", \"normalized_error\": 0.5797868876540979, \"unnormalized_error\": 247.24698951921536}, {\"author\": \"Exp_iML1515\", \"sample_id\": \"WT\", \"normalized_error\": 0.04473204182431518, \"unnormalized_error\": 16.864587851536662}, {\"author\": \"Exp_iML1515\", \"sample_id\": \"fbaB\", \"normalized_error\": 0.33123737333030423, \"unnormalized_error\": 121.14687121650694}, {\"author\": \"Exp_iML1515\", \"sample_id\": \"fbp\", \"normalized_error\": 0.11022818278850818, \"unnormalized_error\": 42.0098100899593}, {\"author\": \"Exp_iML1515\", \"sample_id\": \"gnd\", \"normalized_error\": 0.1805263631087378, \"unnormalized_error\": 78.49140118309663}, {\"author\": \"Exp_iML1515\", \"sample_id\": \"gpmA\", \"normalized_error\": 0.4439110905238649, \"unnormalized_error\": 163.86814212528884}, {\"author\": \"Exp_iML1515\", \"sample_id\": \"pfkA\", \"normalized_error\": 0.3260322577031143, \"unnormalized_error\": 121.49984798627877}, {\"author\": \"Exp_iML1515\", \"sample_id\": \"pfkB\", \"normalized_error\": 0.38332835232132517, \"unnormalized_error\": 137.43323821860932}, {\"author\": \"Exp_iML1515\", \"sample_id\": \"pgi\", \"normalized_error\": 0.6136679363725938, \"unnormalized_error\": 186.75781624210197}, {\"author\": \"Exp_iML1515\", \"sample_id\": \"pgl\", \"normalized_error\": 0.10381368754581452, \"unnormalized_error\": 39.84660904507815}, {\"author\": \"Exp_iML1515\", \"sample_id\": \"ppsA\", \"normalized_error\": 0.13846308360505197, \"unnormalized_error\": 51.789820838386035}, {\"author\": \"Exp_iML1515\", \"sample_id\": \"pykA\", \"normalized_error\": 0.15461248757876994, \"unnormalized_error\": 57.711686943092054}, {\"author\": \"Exp_iML1515\", \"sample_id\": \"pykF\", \"normalized_error\": 0.2717760663680199, \"unnormalized_error\": 95.93541160781224}, {\"author\": \"Exp_iML1515\", \"sample_id\": \"rpe\", \"normalized_error\": 0.20690286461054652, \"unnormalized_error\": 90.84378876151312}, {\"author\": \"Exp_iML1515\", \"sample_id\": \"rpiA\", \"normalized_error\": 0.45779930389002294, \"unnormalized_error\": 175.22533734447782}, {\"author\": \"Exp_iML1515\", \"sample_id\": \"rpiB\", \"normalized_error\": 0.5305355820291209, \"unnormalized_error\": 221.02204038362154}, {\"author\": \"Exp_iML1515\", \"sample_id\": \"talA\", \"normalized_error\": 0.1051077554554015, \"unnormalized_error\": 39.788526597623935}, {\"author\": \"Exp_iML1515\", \"sample_id\": \"tktA\", \"normalized_error\": 0.2937011317522687, \"unnormalized_error\": 132.43674135481257}, {\"author\": \"Exp_iML1515\", \"sample_id\": \"tktB\", \"normalized_error\": 0.12983231610034096, \"unnormalized_error\": 50.749657131901266}, {\"author\": \"Exp_iML1515\", \"sample_id\": \"zwf\", \"normalized_error\": 0.19054048348601957, \"unnormalized_error\": 81.25496096345036}, {\"author\": \"Khodayari\", \"sample_id\": \"WT\", \"normalized_error\": 0.08626454018003622, \"unnormalized_error\": 32.5229043210774}, {\"author\": \"Khodayari\", \"sample_id\": \"fbaB\", \"normalized_error\": 0.09138195379180071, \"unnormalized_error\": 33.42206731149452}, {\"author\": \"Khodayari\", \"sample_id\": \"fbp\", \"normalized_error\": 0.16100755550333462, \"unnormalized_error\": 61.36268110961581}, {\"author\": \"Khodayari\", \"sample_id\": \"gnd\", \"normalized_error\": 0.38715668047162716, \"unnormalized_error\": 168.33259034477044}, {\"author\": \"Khodayari\", \"sample_id\": \"pfkA\", \"normalized_error\": 0.10258406287943597, \"unnormalized_error\": 38.22918668684628}, {\"author\": \"Khodayari\", \"sample_id\": \"pfkB\", \"normalized_error\": 0.2341304700928845, \"unnormalized_error\": 83.94189596374477}, {\"author\": \"Khodayari\", \"sample_id\": \"pgi\", \"normalized_error\": 0.2478641142264956, \"unnormalized_error\": 75.43258813772783}, {\"author\": \"Khodayari\", \"sample_id\": \"pgl\", \"normalized_error\": 0.06443097602076861, \"unnormalized_error\": 24.730418238532945}, {\"author\": \"Khodayari\", \"sample_id\": \"ppsA\", \"normalized_error\": 0.13159027072140456, \"unnormalized_error\": 49.219159123851874}, {\"author\": \"Khodayari\", \"sample_id\": \"pykA\", \"normalized_error\": 0.09719833059532582, \"unnormalized_error\": 36.28089628821712}, {\"author\": \"Khodayari\", \"sample_id\": \"pykF\", \"normalized_error\": 0.24397215594827465, \"unnormalized_error\": 86.1207887601439}, {\"author\": \"Khodayari\", \"sample_id\": \"rpe\", \"normalized_error\": 0.17894054479050264, \"unnormalized_error\": 78.56651517327468}, {\"author\": \"Khodayari\", \"sample_id\": \"rpiA\", \"normalized_error\": 0.2580435292967993, \"unnormalized_error\": 98.76765667047296}, {\"author\": \"Khodayari\", \"sample_id\": \"rpiB\", \"normalized_error\": 0.2684357829542535, \"unnormalized_error\": 111.83081110904165}, {\"author\": \"Khodayari\", \"sample_id\": \"talA\", \"normalized_error\": 0.08985056219245564, \"unnormalized_error\": 34.01291815353159}, {\"author\": \"Khodayari\", \"sample_id\": \"tktA\", \"normalized_error\": 0.2539911776073175, \"unnormalized_error\": 114.53058997252138}, {\"author\": \"Khodayari\", \"sample_id\": \"tktB\", \"normalized_error\": 0.09867985291358512, \"unnormalized_error\": 38.572590026973586}, {\"author\": \"Khodayari\", \"sample_id\": \"zwf\", \"normalized_error\": 0.31154141427835896, \"unnormalized_error\": 132.85515493899513}, {\"author\": \"Kurata\", \"sample_id\": \"WT\", \"normalized_error\": 0.4290517614624855, \"unnormalized_error\": 161.75834656640814}, {\"author\": \"Kurata\", \"sample_id\": \"fbaB\", \"normalized_error\": 0.4103629941322574, \"unnormalized_error\": 150.08630307120157}, {\"author\": \"Kurata\", \"sample_id\": \"fbp\", \"normalized_error\": 0.40847615723203634, \"unnormalized_error\": 155.67711775235048}, {\"author\": \"Kurata\", \"sample_id\": \"gnd\", \"normalized_error\": 0.8562057556746754, \"unnormalized_error\": 372.27133093828184}, {\"author\": \"Kurata\", \"sample_id\": \"pfkA\", \"normalized_error\": 0.5733636526409739, \"unnormalized_error\": 213.67087148834122}, {\"author\": \"Kurata\", \"sample_id\": \"pfkB\", \"normalized_error\": 0.5089435525961448, \"unnormalized_error\": 182.46957231365764}, {\"author\": \"Kurata\", \"sample_id\": \"pgi\", \"normalized_error\": 0.5377521956379365, \"unnormalized_error\": 163.65434754564075}, {\"author\": \"Kurata\", \"sample_id\": \"ppsA\", \"normalized_error\": 0.49388855765828366, \"unnormalized_error\": 184.73082679720235}, {\"author\": \"Kurata\", \"sample_id\": \"pykA\", \"normalized_error\": 0.4064879463120327, \"unnormalized_error\": 151.72839834006814}, {\"author\": \"Kurata\", \"sample_id\": \"pykF\", \"normalized_error\": 0.319800713456623, \"unnormalized_error\": 112.88783993358774}, {\"author\": \"Kurata\", \"sample_id\": \"rpiA\", \"normalized_error\": 0.4291610868328768, \"unnormalized_error\": 164.26389375524005}, {\"author\": \"Kurata\", \"sample_id\": \"rpiB\", \"normalized_error\": 0.4737364631830639, \"unnormalized_error\": 197.35942930797412}, {\"author\": \"Kurata\", \"sample_id\": \"talA\", \"normalized_error\": 0.4766159000083567, \"unnormalized_error\": 180.42288442149788}, {\"author\": \"Kurata\", \"sample_id\": \"talB\", \"normalized_error\": 0.48563549208927553, \"unnormalized_error\": 189.14551694492678}, {\"author\": \"Kurata\", \"sample_id\": \"tktA\", \"normalized_error\": 0.5634927253676616, \"unnormalized_error\": 254.09211016517975}, {\"author\": \"Kurata\", \"sample_id\": \"tktB\", \"normalized_error\": 0.49804358976829566, \"unnormalized_error\": 194.67835263716688}, {\"author\": \"Kurata\", \"sample_id\": \"zwf\", \"normalized_error\": 0.3998278217237869, \"unnormalized_error\": 170.50441697158504}, {\"author\": \"Millard\", \"sample_id\": \"WT\", \"normalized_error\": 0.07581158695388648, \"unnormalized_error\": 28.58199885821561}, {\"author\": \"Millard\", \"sample_id\": \"fbp\", \"normalized_error\": 0.09381200836540193, \"unnormalized_error\": 35.75333055385432}, {\"author\": \"Millard\", \"sample_id\": \"gnd\", \"normalized_error\": 0.21294864452957682, \"unnormalized_error\": 92.58834666214261}, {\"author\": \"Millard\", \"sample_id\": \"pgi\", \"normalized_error\": 0.7559627196463702, \"unnormalized_error\": 230.06244633885615}, {\"author\": \"Millard\", \"sample_id\": \"pgl\", \"normalized_error\": 0.18577731967806382, \"unnormalized_error\": 71.30655313045726}, {\"author\": \"Millard\", \"sample_id\": \"ppsA\", \"normalized_error\": 0.18732914736336762, \"unnormalized_error\": 70.06736183508228}, {\"author\": \"Millard\", \"sample_id\": \"pykA\", \"normalized_error\": 0.29233605477908076, \"unnormalized_error\": 109.11930297346518}, {\"author\": \"Millard\", \"sample_id\": \"pykF\", \"normalized_error\": 0.28384269179698235, \"unnormalized_error\": 100.19486201753762}, {\"author\": \"Millard\", \"sample_id\": \"rpe\", \"normalized_error\": 0.2679820140682344, \"unnormalized_error\": 117.66150035536342}, {\"author\": \"Millard\", \"sample_id\": \"rpiA\", \"normalized_error\": 0.24880667871048653, \"unnormalized_error\": 95.23219856419325}, {\"author\": \"Millard\", \"sample_id\": \"rpiB\", \"normalized_error\": 0.26562648222449475, \"unnormalized_error\": 110.6604515697857}, {\"author\": \"Millard\", \"sample_id\": \"tktA\", \"normalized_error\": 0.26850174688674117, \"unnormalized_error\": 121.07374661309936}, {\"author\": \"Millard\", \"sample_id\": \"zwf\", \"normalized_error\": 0.16084745679000298, \"unnormalized_error\": 68.59252996227919}, {\"author\": \"iML1515\", \"sample_id\": \"WT\", \"normalized_error\": 0.35854831743447396, \"unnormalized_error\": 135.17758974971431}, {\"author\": \"iML1515\", \"sample_id\": \"fbaB\", \"normalized_error\": 0.4175552542939983, \"unnormalized_error\": 152.71680278447266}, {\"author\": \"iML1515\", \"sample_id\": \"fbp\", \"normalized_error\": 0.37444175646006617, \"unnormalized_error\": 142.70603652079913}, {\"author\": \"iML1515\", \"sample_id\": \"gnd\", \"normalized_error\": 0.4094247214570972, \"unnormalized_error\": 178.01455428872566}, {\"author\": \"iML1515\", \"sample_id\": \"gpmA\", \"normalized_error\": 0.5258216696491894, \"unnormalized_error\": 194.105130360553}, {\"author\": \"iML1515\", \"sample_id\": \"pfkA\", \"normalized_error\": 0.41908123090262805, \"unnormalized_error\": 156.17566865097817}, {\"author\": \"iML1515\", \"sample_id\": \"pfkB\", \"normalized_error\": 0.44346827501952085, \"unnormalized_error\": 158.99497314528008}, {\"author\": \"iML1515\", \"sample_id\": \"pgi\", \"normalized_error\": 0.6063674763360261, \"unnormalized_error\": 184.53606422740273}, {\"author\": \"iML1515\", \"sample_id\": \"pgl\", \"normalized_error\": 0.36339248128163903, \"unnormalized_error\": 139.48024074532685}, {\"author\": \"iML1515\", \"sample_id\": \"ppsA\", \"normalized_error\": 0.3722098764916626, \"unnormalized_error\": 139.21893342174326}, {\"author\": \"iML1515\", \"sample_id\": \"pykA\", \"normalized_error\": 0.3631411636343928, \"unnormalized_error\": 135.54848951732373}, {\"author\": \"iML1515\", \"sample_id\": \"pykF\", \"normalized_error\": 0.37834515998813345, \"unnormalized_error\": 133.55369785996808}, {\"author\": \"iML1515\", \"sample_id\": \"rpe\", \"normalized_error\": 0.43572554492154364, \"unnormalized_error\": 191.3117995507455}, {\"author\": \"iML1515\", \"sample_id\": \"rpiA\", \"normalized_error\": 0.5522318405811062, \"unnormalized_error\": 211.369938171492}, {\"author\": \"iML1515\", \"sample_id\": \"rpiB\", \"normalized_error\": 0.6151999815909909, \"unnormalized_error\": 256.29337556428726}, {\"author\": \"iML1515\", \"sample_id\": \"talA\", \"normalized_error\": 0.3654303291424128, \"unnormalized_error\": 138.33360162305846}, {\"author\": \"iML1515\", \"sample_id\": \"tktA\", \"normalized_error\": 0.48543356915687325, \"unnormalized_error\": 218.89340248644015}, {\"author\": \"iML1515\", \"sample_id\": \"tktB\", \"normalized_error\": 0.35062704400588446, \"unnormalized_error\": 137.05526327296232}, {\"author\": \"iML1515\", \"sample_id\": \"zwf\", \"normalized_error\": 0.42442592038157495, \"unnormalized_error\": 180.99414340476227}]}}, {\"mode\": \"vega-lite\"});\n",
       "</script>"
      ],
      "text/plain": [
       "alt.FacetChart(...)"
      ]
     },
     "execution_count": 17,
     "metadata": {},
     "output_type": "execute_result"
    }
   ],
   "source": [
    "#sort_list=[\"Khodayari\", \"Millard\", \"Kurata\", \"iML1515\", \"ECC2\", \"Exp_iML1515\", \"Exp_ECC2\"]\n",
    "\n",
    "boxplot(norm_error=x_norm_error,\n",
    "              author=\"Ishii\",\n",
    "              title=\"Knockout simulations (chemostat)\",\n",
    "              sort_list=[\"Chassagnole\", \"Khodayari\", \"Millard\", \"Kurata\", \"iML1515\", \"Exp_iML1515\"],\n",
    "              opacity = False,\n",
    "              color_scheme = \"dark2\")"
   ]
  },
  {
   "cell_type": "code",
   "execution_count": 18,
   "metadata": {},
   "outputs": [
    {
     "data": {
      "text/html": [
       "\n",
       "<div id=\"altair-viz-eb67e88b92364c4d90bd570365247c2c\"></div>\n",
       "<script type=\"text/javascript\">\n",
       "  (function(spec, embedOpt){\n",
       "    const outputDiv = document.getElementById(\"altair-viz-eb67e88b92364c4d90bd570365247c2c\");\n",
       "    const paths = {\n",
       "      \"vega\": \"https://cdn.jsdelivr.net/npm//vega@5?noext\",\n",
       "      \"vega-lib\": \"https://cdn.jsdelivr.net/npm//vega-lib?noext\",\n",
       "      \"vega-lite\": \"https://cdn.jsdelivr.net/npm//vega-lite@4.0.2?noext\",\n",
       "      \"vega-embed\": \"https://cdn.jsdelivr.net/npm//vega-embed@6?noext\",\n",
       "    };\n",
       "\n",
       "    function loadScript(lib) {\n",
       "      return new Promise(function(resolve, reject) {\n",
       "        var s = document.createElement('script');\n",
       "        s.src = paths[lib];\n",
       "        s.async = true;\n",
       "        s.onload = () => resolve(paths[lib]);\n",
       "        s.onerror = () => reject(`Error loading script: ${paths[lib]}`);\n",
       "        document.getElementsByTagName(\"head\")[0].appendChild(s);\n",
       "      });\n",
       "    }\n",
       "\n",
       "    function showError(err) {\n",
       "      outputDiv.innerHTML = `<div class=\"error\" style=\"color:red;\">${err}</div>`;\n",
       "      throw err;\n",
       "    }\n",
       "\n",
       "    function displayChart(vegaEmbed) {\n",
       "      vegaEmbed(outputDiv, spec, embedOpt)\n",
       "        .catch(err => showError(`Javascript Error: ${err.message}<br>This usually means there's a typo in your chart specification. See the javascript console for the full traceback.`));\n",
       "    }\n",
       "\n",
       "    if(typeof define === \"function\" && define.amd) {\n",
       "      requirejs.config({paths});\n",
       "      require([\"vega-embed\"], displayChart, err => showError(`Error loading script: ${err.message}`));\n",
       "    } else if (typeof vegaEmbed === \"function\") {\n",
       "      displayChart(vegaEmbed);\n",
       "    } else {\n",
       "      loadScript(\"vega\")\n",
       "        .then(() => loadScript(\"vega-lite\"))\n",
       "        .then(() => loadScript(\"vega-embed\"))\n",
       "        .catch(showError)\n",
       "        .then(() => displayChart(vegaEmbed));\n",
       "    }\n",
       "  })({\"config\": {\"view\": {\"continuousWidth\": 400, \"continuousHeight\": 300, \"stroke\": null}, \"axis\": {\"labelFontSize\": 20, \"titleFontSize\": 20}, \"facet\": {\"spacing\": 5}, \"header\": {\"titleFontSize\": 24}}, \"data\": {\"name\": \"data-ee137febbceb79f7a23458aea7c4a6c0\"}, \"facet\": {\"column\": {\"type\": \"nominal\", \"field\": \"author\", \"header\": {\"labelAlign\": \"right\", \"labelAngle\": -90, \"labelFontSize\": 20, \"labelOrient\": \"bottom\", \"labelPadding\": 3, \"title\": \"Knockout simulations (chemostat)\", \"titleOrient\": \"top\"}, \"sort\": [\"Chassagnole\", \"Khodayari\", \"Millard\", \"Kurata\", \"iML1515\", \"Exp_iML1515\"]}}, \"spec\": {\"layer\": [{\"mark\": {\"type\": \"boxplot\", \"outliers\": false, \"size\": 95}, \"encoding\": {\"color\": {\"type\": \"nominal\", \"field\": \"author\", \"legend\": null, \"scale\": {\"domain\": [\"Khodayari\", \"Millard\", \"Kurata\", \"iML1515\", \"Chassagnole\", \"Exp_iML1515\"], \"range\": [\"#1b9e77\", \"#d95f02\", \"#7570b3\", \"#e7298a\", \"#66a61e\", \"#e6ab02\"]}}, \"opacity\": {\"value\": 0.7}, \"y\": {\"type\": \"quantitative\", \"field\": \"RMSE\", \"title\": \"RMSE\"}}}, {\"mark\": \"circle\", \"encoding\": {\"color\": {\"type\": \"nominal\", \"field\": \"author\", \"legend\": null, \"scale\": {\"domain\": [\"Khodayari\", \"Millard\", \"Kurata\", \"iML1515\", \"Chassagnole\", \"Exp_iML1515\"], \"range\": [\"#1b9e77\", \"#d95f02\", \"#7570b3\", \"#e7298a\", \"#66a61e\", \"#e6ab02\"]}}, \"opacity\": {\"value\": 1.0}, \"size\": {\"condition\": {\"value\": 130, \"selection\": \"selector002\"}, \"value\": 50}, \"tooltip\": [{\"type\": \"nominal\", \"field\": \"author\"}, {\"type\": \"nominal\", \"field\": \"sample_id\"}, {\"type\": \"quantitative\", \"field\": \"RMSE\"}], \"x\": {\"type\": \"quantitative\", \"axis\": {\"grid\": false, \"labels\": false, \"ticks\": true, \"values\": [0]}, \"field\": \"jitter\", \"scale\": {}, \"title\": null}, \"y\": {\"type\": \"quantitative\", \"axis\": {\"tickCount\": 10}, \"field\": \"RMSE\", \"title\": \"RMSE\"}}, \"height\": 600, \"selection\": {\"selector002\": {\"type\": \"single\", \"empty\": \"none\", \"fields\": [\"sample_id\"]}}, \"width\": 100}, {\"mark\": {\"type\": \"point\", \"filled\": true, \"opacity\": 1.0, \"shape\": \"diamond\", \"size\": 180}, \"encoding\": {\"color\": {\"type\": \"nominal\", \"field\": \"author\", \"legend\": null, \"scale\": {\"domain\": [\"Khodayari\", \"Millard\", \"Kurata\", \"iML1515\", \"Chassagnole\", \"Exp_iML1515\"], \"range\": [\"#1b9e77\", \"#d95f02\", \"#7570b3\", \"#e7298a\", \"#66a61e\", \"#e6ab02\"]}}, \"tooltip\": [{\"type\": \"nominal\", \"field\": \"author\"}, {\"type\": \"nominal\", \"field\": \"sample_id\"}, {\"type\": \"quantitative\", \"field\": \"RMSE\"}], \"x\": {\"type\": \"quantitative\", \"field\": \"jitter\", \"title\": null}, \"y\": {\"type\": \"quantitative\", \"field\": \"RMSE\", \"title\": \"RMSE\"}}, \"transform\": [{\"filter\": \"datum.sample_id === \\\"WT\\\"\"}]}, {\"mark\": {\"type\": \"text\", \"dy\": 10, \"text\": \"WT\"}, \"encoding\": {\"tooltip\": [{\"type\": \"nominal\", \"field\": \"author\"}, {\"type\": \"nominal\", \"field\": \"sample_id\"}, {\"type\": \"quantitative\", \"field\": \"RMSE\"}], \"x\": {\"type\": \"quantitative\", \"field\": \"jitter\", \"title\": null}, \"y\": {\"type\": \"quantitative\", \"field\": \"RMSE\", \"title\": \"RMSE\"}}, \"transform\": [{\"filter\": \"datum.sample_id === \\\"WT\\\"\"}]}], \"transform\": [{\"calculate\": \"sqrt(-2*log(random()))*cos(2*PI*random())\", \"as\": \"jitter\"}]}, \"transform\": [{\"filter\": \"datum.RMSE !== null\"}], \"$schema\": \"https://vega.github.io/schema/vega-lite/v4.0.2.json\", \"datasets\": {\"data-ee137febbceb79f7a23458aea7c4a6c0\": [{\"sample_id\": \"WT\", \"author\": \"Chassagnole\", \"RMSE\": 34.46879069831897}, {\"sample_id\": \"WT\", \"author\": \"Exp_iML1515\", \"RMSE\": 2.562669255222586}, {\"sample_id\": \"WT\", \"author\": \"Khodayari\", \"RMSE\": 4.550167169723163}, {\"sample_id\": \"WT\", \"author\": \"Kurata\", \"RMSE\": 26.313111320612744}, {\"sample_id\": \"WT\", \"author\": \"Millard\", \"RMSE\": 4.754234675925033}, {\"sample_id\": \"WT\", \"author\": \"iML1515\", \"RMSE\": 19.34420655325388}, {\"sample_id\": \"fbaA\", \"author\": \"Chassagnole\", \"RMSE\": null}, {\"sample_id\": \"fbaB\", \"author\": \"Chassagnole\", \"RMSE\": 39.43162096733203}, {\"sample_id\": \"fbaB\", \"author\": \"Exp_iML1515\", \"RMSE\": 9.570113826385313}, {\"sample_id\": \"fbaB\", \"author\": \"Khodayari\", \"RMSE\": 4.705459464716924}, {\"sample_id\": \"fbaB\", \"author\": \"Kurata\", \"RMSE\": 23.654122488927666}, {\"sample_id\": \"fbaB\", \"author\": \"iML1515\", \"RMSE\": 20.35971934443205}, {\"sample_id\": \"fbp\", \"author\": \"Exp_iML1515\", \"RMSE\": 6.064147964382604}, {\"sample_id\": \"fbp\", \"author\": \"Khodayari\", \"RMSE\": 9.094526224036297}, {\"sample_id\": \"fbp\", \"author\": \"Kurata\", \"RMSE\": 25.170858416470633}, {\"sample_id\": \"fbp\", \"author\": \"Millard\", \"RMSE\": 5.554622789141669}, {\"sample_id\": \"fbp\", \"author\": \"iML1515\", \"RMSE\": 20.964206553253817}, {\"sample_id\": \"gnd\", \"author\": \"Chassagnole\", \"RMSE\": 49.573840522575864}, {\"sample_id\": \"gnd\", \"author\": \"Exp_iML1515\", \"RMSE\": 12.161093730711235}, {\"sample_id\": \"gnd\", \"author\": \"Khodayari\", \"RMSE\": 23.16728184241914}, {\"sample_id\": \"gnd\", \"author\": \"Kurata\", \"RMSE\": 60.65411851348673}, {\"sample_id\": \"gnd\", \"author\": \"Millard\", \"RMSE\": 15.616243005469235}, {\"sample_id\": \"gnd\", \"author\": \"iML1515\", \"RMSE\": 26.312733962281385}, {\"sample_id\": \"gpmA\", \"author\": \"Exp_iML1515\", \"RMSE\": 10.544672258658357}, {\"sample_id\": \"gpmA\", \"author\": \"iML1515\", \"RMSE\": 21.94971825626235}, {\"sample_id\": \"pfkA\", \"author\": \"Chassagnole\", \"RMSE\": 40.45491723159375}, {\"sample_id\": \"pfkA\", \"author\": \"Exp_iML1515\", \"RMSE\": 9.83338545667597}, {\"sample_id\": \"pfkA\", \"author\": \"Khodayari\", \"RMSE\": 5.69980924683701}, {\"sample_id\": \"pfkA\", \"author\": \"Kurata\", \"RMSE\": 34.65222220286947}, {\"sample_id\": \"pfkA\", \"author\": \"iML1515\", \"RMSE\": 21.558090354114757}, {\"sample_id\": \"pfkB\", \"author\": \"Chassagnole\", \"RMSE\": 40.21323617289506}, {\"sample_id\": \"pfkB\", \"author\": \"Exp_iML1515\", \"RMSE\": 16.2487256981122}, {\"sample_id\": \"pfkB\", \"author\": \"Khodayari\", \"RMSE\": 12.881538008663087}, {\"sample_id\": \"pfkB\", \"author\": \"Kurata\", \"RMSE\": 27.261587296793053}, {\"sample_id\": \"pfkB\", \"author\": \"iML1515\", \"RMSE\": 25.127821216513844}, {\"sample_id\": \"pgi\", \"author\": \"Chassagnole\", \"RMSE\": 28.105261856684418}, {\"sample_id\": \"pgi\", \"author\": \"Exp_iML1515\", \"RMSE\": 28.399059938139807}, {\"sample_id\": \"pgi\", \"author\": \"Khodayari\", \"RMSE\": 11.015148778715625}, {\"sample_id\": \"pgi\", \"author\": \"Kurata\", \"RMSE\": 24.82033863932031}, {\"sample_id\": \"pgi\", \"author\": \"Millard\", \"RMSE\": 30.157036990045803}, {\"sample_id\": \"pgi\", \"author\": \"iML1515\", \"RMSE\": 29.982130176316122}, {\"sample_id\": \"pgl\", \"author\": \"Exp_iML1515\", \"RMSE\": 5.927130270370874}, {\"sample_id\": \"pgl\", \"author\": \"Khodayari\", \"RMSE\": 3.165238190688244}, {\"sample_id\": \"pgl\", \"author\": \"Millard\", \"RMSE\": 11.531425785262051}, {\"sample_id\": \"pgl\", \"author\": \"iML1515\", \"RMSE\": 20.554017264554204}, {\"sample_id\": \"ppsA\", \"author\": \"Exp_iML1515\", \"RMSE\": 8.085570285369734}, {\"sample_id\": \"ppsA\", \"author\": \"Khodayari\", \"RMSE\": 8.25377018792896}, {\"sample_id\": \"ppsA\", \"author\": \"Kurata\", \"RMSE\": 26.683967518185035}, {\"sample_id\": \"ppsA\", \"author\": \"Millard\", \"RMSE\": 11.029348860151613}, {\"sample_id\": \"ppsA\", \"author\": \"iML1515\", \"RMSE\": 18.638594139590744}, {\"sample_id\": \"pykA\", \"author\": \"Chassagnole\", \"RMSE\": 37.09233006010416}, {\"sample_id\": \"pykA\", \"author\": \"Exp_iML1515\", \"RMSE\": 5.96953916924891}, {\"sample_id\": \"pykA\", \"author\": \"Khodayari\", \"RMSE\": 5.1938043481207}, {\"sample_id\": \"pykA\", \"author\": \"Kurata\", \"RMSE\": 24.10313106095532}, {\"sample_id\": \"pykA\", \"author\": \"Millard\", \"RMSE\": 15.373818155761619}, {\"sample_id\": \"pykA\", \"author\": \"iML1515\", \"RMSE\": 18.685835543571393}, {\"sample_id\": \"pykF\", \"author\": \"Chassagnole\", \"RMSE\": 28.33233006010416}, {\"sample_id\": \"pykF\", \"author\": \"Exp_iML1515\", \"RMSE\": 14.975269150363596}, {\"sample_id\": \"pykF\", \"author\": \"Khodayari\", \"RMSE\": 14.002635840257362}, {\"sample_id\": \"pykF\", \"author\": \"Kurata\", \"RMSE\": 16.319301755406958}, {\"sample_id\": \"pykF\", \"author\": \"Millard\", \"RMSE\": 15.24684227035079}, {\"sample_id\": \"pykF\", \"author\": \"iML1515\", \"RMSE\": 22.173937415653263}, {\"sample_id\": \"rpe\", \"author\": \"Chassagnole\", \"RMSE\": 59.93759256080832}, {\"sample_id\": \"rpe\", \"author\": \"Exp_iML1515\", \"RMSE\": 13.14946606850194}, {\"sample_id\": \"rpe\", \"author\": \"Khodayari\", \"RMSE\": 12.004281731872133}, {\"sample_id\": \"rpe\", \"author\": \"Millard\", \"RMSE\": 17.409596284979575}, {\"sample_id\": \"rpe\", \"author\": \"iML1515\", \"RMSE\": 27.346234235891767}, {\"sample_id\": \"rpiA\", \"author\": \"Chassagnole\", \"RMSE\": 43.81550099464721}, {\"sample_id\": \"rpiA\", \"author\": \"Exp_iML1515\", \"RMSE\": 23.571146120512267}, {\"sample_id\": \"rpiA\", \"author\": \"Khodayari\", \"RMSE\": 13.49240380994488}, {\"sample_id\": \"rpiA\", \"author\": \"Kurata\", \"RMSE\": 27.996080456716093}, {\"sample_id\": \"rpiA\", \"author\": \"Millard\", \"RMSE\": 13.274135646449526}, {\"sample_id\": \"rpiA\", \"author\": \"iML1515\", \"RMSE\": 28.747254366174378}, {\"sample_id\": \"rpiB\", \"author\": \"Chassagnole\", \"RMSE\": 51.79595878246324}, {\"sample_id\": \"rpiB\", \"author\": \"Exp_iML1515\", \"RMSE\": 33.93114612051227}, {\"sample_id\": \"rpiB\", \"author\": \"Khodayari\", \"RMSE\": 15.704771049859556}, {\"sample_id\": \"rpiB\", \"author\": \"Kurata\", \"RMSE\": 29.45126838006701}, {\"sample_id\": \"rpiB\", \"author\": \"Millard\", \"RMSE\": 18.498692953021617}, {\"sample_id\": \"rpiB\", \"author\": \"iML1515\", \"RMSE\": 38.92118431420109}, {\"sample_id\": \"talA\", \"author\": \"Chassagnole\", \"RMSE\": 35.50314704904687}, {\"sample_id\": \"talA\", \"author\": \"Exp_iML1515\", \"RMSE\": 6.0688253947564235}, {\"sample_id\": \"talA\", \"author\": \"Khodayari\", \"RMSE\": 5.464971404659788}, {\"sample_id\": \"talA\", \"author\": \"Kurata\", \"RMSE\": 29.343184500820993}, {\"sample_id\": \"talA\", \"author\": \"iML1515\", \"RMSE\": 18.868863277191444}, {\"sample_id\": \"talB\", \"author\": \"Chassagnole\", \"RMSE\": 37.383147049046876}, {\"sample_id\": \"talB\", \"author\": \"Kurata\", \"RMSE\": 30.663184500820993}, {\"sample_id\": \"tktA\", \"author\": \"Exp_iML1515\", \"RMSE\": 17.36278145801038}, {\"sample_id\": \"tktA\", \"author\": \"Khodayari\", \"RMSE\": 15.39095520749516}, {\"sample_id\": \"tktA\", \"author\": \"Kurata\", \"RMSE\": 40.5044283862622}, {\"sample_id\": \"tktA\", \"author\": \"Millard\", \"RMSE\": 18.4350554057987}, {\"sample_id\": \"tktA\", \"author\": \"iML1515\", \"RMSE\": 28.478099006454684}, {\"sample_id\": \"tktB\", \"author\": \"Exp_iML1515\", \"RMSE\": 7.666147875618585}, {\"sample_id\": \"tktB\", \"author\": \"Khodayari\", \"RMSE\": 5.351167974221965}, {\"sample_id\": \"tktB\", \"author\": \"Kurata\", \"RMSE\": 31.325048296876876}, {\"sample_id\": \"tktB\", \"author\": \"iML1515\", \"RMSE\": 18.446611076272507}, {\"sample_id\": \"zwf\", \"author\": \"Chassagnole\", \"RMSE\": 31.086103371597666}, {\"sample_id\": \"zwf\", \"author\": \"Exp_iML1515\", \"RMSE\": 13.294540713487766}, {\"sample_id\": \"zwf\", \"author\": \"Khodayari\", \"RMSE\": 17.022099173543623}, {\"sample_id\": \"zwf\", \"author\": \"Kurata\", \"RMSE\": 24.4654409075457}, {\"sample_id\": \"zwf\", \"author\": \"Millard\", \"RMSE\": 9.876554021744353}, {\"sample_id\": \"zwf\", \"author\": \"iML1515\", \"RMSE\": 28.381289156816695}]}}, {\"mode\": \"vega-lite\"});\n",
       "</script>"
      ],
      "text/plain": [
       "alt.FacetChart(...)"
      ]
     },
     "execution_count": 18,
     "metadata": {},
     "output_type": "execute_result"
    }
   ],
   "source": [
    "boxplot(norm_error=x_rms_error,\n",
    "              author=\"Ishii\",\n",
    "              title=\"Knockout simulations (chemostat)\",\n",
    "              sort_list=[\"Chassagnole\", \"Khodayari\", \"Millard\", \"Kurata\", \"iML1515\", \"Exp_iML1515\"],\n",
    "              opacity = False,\n",
    "              color_scheme = \"dark2\",\n",
    "              field=\"RMSE\",\n",
    "            field_name = \"RMSE\")"
   ]
  },
  {
   "cell_type": "code",
   "execution_count": 18,
   "metadata": {},
   "outputs": [
    {
     "data": {
      "text/html": [
       "\n",
       "<div id=\"altair-viz-d209c920fcb14d72abfee208828dbf55\"></div>\n",
       "<script type=\"text/javascript\">\n",
       "  (function(spec, embedOpt){\n",
       "    const outputDiv = document.getElementById(\"altair-viz-d209c920fcb14d72abfee208828dbf55\");\n",
       "    const paths = {\n",
       "      \"vega\": \"https://cdn.jsdelivr.net/npm//vega@5?noext\",\n",
       "      \"vega-lib\": \"https://cdn.jsdelivr.net/npm//vega-lib?noext\",\n",
       "      \"vega-lite\": \"https://cdn.jsdelivr.net/npm//vega-lite@4.0.2?noext\",\n",
       "      \"vega-embed\": \"https://cdn.jsdelivr.net/npm//vega-embed@6?noext\",\n",
       "    };\n",
       "\n",
       "    function loadScript(lib) {\n",
       "      return new Promise(function(resolve, reject) {\n",
       "        var s = document.createElement('script');\n",
       "        s.src = paths[lib];\n",
       "        s.async = true;\n",
       "        s.onload = () => resolve(paths[lib]);\n",
       "        s.onerror = () => reject(`Error loading script: ${paths[lib]}`);\n",
       "        document.getElementsByTagName(\"head\")[0].appendChild(s);\n",
       "      });\n",
       "    }\n",
       "\n",
       "    function showError(err) {\n",
       "      outputDiv.innerHTML = `<div class=\"error\" style=\"color:red;\">${err}</div>`;\n",
       "      throw err;\n",
       "    }\n",
       "\n",
       "    function displayChart(vegaEmbed) {\n",
       "      vegaEmbed(outputDiv, spec, embedOpt)\n",
       "        .catch(err => showError(`Javascript Error: ${err.message}<br>This usually means there's a typo in your chart specification. See the javascript console for the full traceback.`));\n",
       "    }\n",
       "\n",
       "    if(typeof define === \"function\" && define.amd) {\n",
       "      requirejs.config({paths});\n",
       "      require([\"vega-embed\"], displayChart, err => showError(`Error loading script: ${err.message}`));\n",
       "    } else if (typeof vegaEmbed === \"function\") {\n",
       "      displayChart(vegaEmbed);\n",
       "    } else {\n",
       "      loadScript(\"vega\")\n",
       "        .then(() => loadScript(\"vega-lite\"))\n",
       "        .then(() => loadScript(\"vega-embed\"))\n",
       "        .catch(showError)\n",
       "        .then(() => displayChart(vegaEmbed));\n",
       "    }\n",
       "  })({\"config\": {\"view\": {\"continuousWidth\": 400, \"continuousHeight\": 300, \"stroke\": null}, \"axis\": {\"labelFontSize\": 20, \"titleFontSize\": 20}, \"facet\": {\"spacing\": 5}, \"header\": {\"titleFontSize\": 24}}, \"data\": {\"name\": \"data-f196ddcab31d7700d24ab99298ca3e1c\"}, \"facet\": {\"column\": {\"type\": \"nominal\", \"field\": \"author\", \"header\": {\"labelAlign\": \"right\", \"labelAngle\": -90, \"labelFontSize\": 20, \"labelOrient\": \"bottom\", \"labelPadding\": 3, \"title\": \"Knockout simulations (chemostat)\", \"titleOrient\": \"top\"}, \"sort\": [\"Chassagnole\", \"Khodayari\", \"Millard\", \"Kurata\", \"iML1515\", \"Exp_iML1515\"]}}, \"spec\": {\"layer\": [{\"mark\": {\"type\": \"boxplot\", \"outliers\": false, \"size\": 95}, \"encoding\": {\"color\": {\"type\": \"nominal\", \"field\": \"author\", \"legend\": null, \"scale\": {\"domain\": [\"Khodayari\", \"Millard\", \"Kurata\", \"iML1515\", \"Chassagnole\", \"Exp_iML1515\"], \"range\": [\"#1b9e77\", \"#d95f02\", \"#7570b3\", \"#e7298a\", \"#66a61e\", \"#e6ab02\"]}}, \"opacity\": {\"value\": 0.7}, \"y\": {\"type\": \"quantitative\", \"field\": \"SpearmanR\", \"title\": \"SpearmanR\"}}}, {\"mark\": \"circle\", \"encoding\": {\"color\": {\"type\": \"nominal\", \"field\": \"author\", \"legend\": null, \"scale\": {\"domain\": [\"Khodayari\", \"Millard\", \"Kurata\", \"iML1515\", \"Chassagnole\", \"Exp_iML1515\"], \"range\": [\"#1b9e77\", \"#d95f02\", \"#7570b3\", \"#e7298a\", \"#66a61e\", \"#e6ab02\"]}}, \"opacity\": {\"value\": 1.0}, \"size\": {\"condition\": {\"value\": 130, \"selection\": \"selector003\"}, \"value\": 50}, \"tooltip\": [{\"type\": \"nominal\", \"field\": \"author\"}, {\"type\": \"nominal\", \"field\": \"sample_id\"}, {\"type\": \"quantitative\", \"field\": \"SpearmanR\"}], \"x\": {\"type\": \"quantitative\", \"axis\": {\"grid\": false, \"labels\": false, \"ticks\": true, \"values\": [0]}, \"field\": \"jitter\", \"scale\": {}, \"title\": null}, \"y\": {\"type\": \"quantitative\", \"axis\": {\"tickCount\": 10}, \"field\": \"SpearmanR\", \"title\": \"SpearmanR\"}}, \"height\": 600, \"selection\": {\"selector003\": {\"type\": \"single\", \"empty\": \"none\", \"fields\": [\"sample_id\"]}}, \"width\": 100}, {\"mark\": {\"type\": \"point\", \"filled\": true, \"opacity\": 1.0, \"shape\": \"diamond\", \"size\": 180}, \"encoding\": {\"color\": {\"type\": \"nominal\", \"field\": \"author\", \"legend\": null, \"scale\": {\"domain\": [\"Khodayari\", \"Millard\", \"Kurata\", \"iML1515\", \"Chassagnole\", \"Exp_iML1515\"], \"range\": [\"#1b9e77\", \"#d95f02\", \"#7570b3\", \"#e7298a\", \"#66a61e\", \"#e6ab02\"]}}, \"tooltip\": [{\"type\": \"nominal\", \"field\": \"author\"}, {\"type\": \"nominal\", \"field\": \"sample_id\"}, {\"type\": \"quantitative\", \"field\": \"SpearmanR\"}], \"x\": {\"type\": \"quantitative\", \"field\": \"jitter\", \"title\": null}, \"y\": {\"type\": \"quantitative\", \"field\": \"SpearmanR\", \"title\": \"SpearmanR\"}}, \"transform\": [{\"filter\": \"datum.sample_id === \\\"WT\\\"\"}]}, {\"mark\": {\"type\": \"text\", \"dy\": 10, \"text\": \"WT\"}, \"encoding\": {\"tooltip\": [{\"type\": \"nominal\", \"field\": \"author\"}, {\"type\": \"nominal\", \"field\": \"sample_id\"}, {\"type\": \"quantitative\", \"field\": \"SpearmanR\"}], \"x\": {\"type\": \"quantitative\", \"field\": \"jitter\", \"title\": null}, \"y\": {\"type\": \"quantitative\", \"field\": \"SpearmanR\", \"title\": \"SpearmanR\"}}, \"transform\": [{\"filter\": \"datum.sample_id === \\\"WT\\\"\"}]}], \"transform\": [{\"calculate\": \"sqrt(-2*log(random()))*cos(2*PI*random())\", \"as\": \"jitter\"}]}, \"transform\": [{\"filter\": \"datum.SpearmanR !== null\"}], \"$schema\": \"https://vega.github.io/schema/vega-lite/v4.0.2.json\", \"datasets\": {\"data-f196ddcab31d7700d24ab99298ca3e1c\": [{\"sample_id\": \"WT\", \"author\": \"Chassagnole\", \"SpearmanR\": 0.4299723873071798}, {\"sample_id\": \"WT\", \"author\": \"Exp_iML1515\", \"SpearmanR\": 0.9992289898622426}, {\"sample_id\": \"WT\", \"author\": \"Khodayari\", \"SpearmanR\": 0.9649337089592416}, {\"sample_id\": \"WT\", \"author\": \"Kurata\", \"SpearmanR\": 0.7553502641791}, {\"sample_id\": \"WT\", \"author\": \"Millard\", \"SpearmanR\": 0.9770771764838379}, {\"sample_id\": \"WT\", \"author\": \"iML1515\", \"SpearmanR\": 0.7748570195474018}, {\"sample_id\": \"fbaA\", \"author\": \"Chassagnole\", \"SpearmanR\": null}, {\"sample_id\": \"fbaB\", \"author\": \"Chassagnole\", \"SpearmanR\": 0.2641127775587977}, {\"sample_id\": \"fbaB\", \"author\": \"Exp_iML1515\", \"SpearmanR\": 0.8676045641935561}, {\"sample_id\": \"fbaB\", \"author\": \"Khodayari\", \"SpearmanR\": 0.9589836911914493}, {\"sample_id\": \"fbaB\", \"author\": \"Kurata\", \"SpearmanR\": 0.7587669156831868}, {\"sample_id\": \"fbaB\", \"author\": \"iML1515\", \"SpearmanR\": 0.712935531533581}, {\"sample_id\": \"fbp\", \"author\": \"Exp_iML1515\", \"SpearmanR\": 0.9876619202117226}, {\"sample_id\": \"fbp\", \"author\": \"Khodayari\", \"SpearmanR\": 0.9414269372952984}, {\"sample_id\": \"fbp\", \"author\": \"Kurata\", \"SpearmanR\": 0.7603627978362354}, {\"sample_id\": \"fbp\", \"author\": \"Millard\", \"SpearmanR\": 0.9520337945944651}, {\"sample_id\": \"fbp\", \"author\": \"iML1515\", \"SpearmanR\": 0.7453120711777614}, {\"sample_id\": \"gnd\", \"author\": \"Chassagnole\", \"SpearmanR\": 0.29081114037818584}, {\"sample_id\": \"gnd\", \"author\": \"Exp_iML1515\", \"SpearmanR\": 0.9204677114290218}, {\"sample_id\": \"gnd\", \"author\": \"Khodayari\", \"SpearmanR\": 0.8762433651165387}, {\"sample_id\": \"gnd\", \"author\": \"Kurata\", \"SpearmanR\": 0.11288703770755905}, {\"sample_id\": \"gnd\", \"author\": \"Millard\", \"SpearmanR\": 0.90776309892531}, {\"sample_id\": \"gnd\", \"author\": \"iML1515\", \"SpearmanR\": 0.7188171351246612}, {\"sample_id\": \"gpmA\", \"author\": \"Exp_iML1515\", \"SpearmanR\": 0.7712191931979707}, {\"sample_id\": \"gpmA\", \"author\": \"iML1515\", \"SpearmanR\": 0.6064604709946705}, {\"sample_id\": \"pfkA\", \"author\": \"Chassagnole\", \"SpearmanR\": 0.3024736763389819}, {\"sample_id\": \"pfkA\", \"author\": \"Exp_iML1515\", \"SpearmanR\": 0.841760502491037}, {\"sample_id\": \"pfkA\", \"author\": \"Khodayari\", \"SpearmanR\": 0.9400445275650703}, {\"sample_id\": \"pfkA\", \"author\": \"Kurata\", \"SpearmanR\": 0.6215285178622828}, {\"sample_id\": \"pfkA\", \"author\": \"iML1515\", \"SpearmanR\": 0.7242124398159742}, {\"sample_id\": \"pfkB\", \"author\": \"Chassagnole\", \"SpearmanR\": 0.30813145733525066}, {\"sample_id\": \"pfkB\", \"author\": \"Exp_iML1515\", \"SpearmanR\": 0.8502514383254262}, {\"sample_id\": \"pfkB\", \"author\": \"Khodayari\", \"SpearmanR\": 0.9550821553645115}, {\"sample_id\": \"pfkB\", \"author\": \"Kurata\", \"SpearmanR\": 0.6766983366421129}, {\"sample_id\": \"pfkB\", \"author\": \"iML1515\", \"SpearmanR\": 0.6839569113601424}, {\"sample_id\": \"pgi\", \"author\": \"Chassagnole\", \"SpearmanR\": 0.46462206607147594}, {\"sample_id\": \"pgi\", \"author\": \"Exp_iML1515\", \"SpearmanR\": 0.6385194821572888}, {\"sample_id\": \"pgi\", \"author\": \"Khodayari\", \"SpearmanR\": 0.923522319159489}, {\"sample_id\": \"pgi\", \"author\": \"Kurata\", \"SpearmanR\": 0.5871243071236671}, {\"sample_id\": \"pgi\", \"author\": \"Millard\", \"SpearmanR\": 0.8089377861617925}, {\"sample_id\": \"pgi\", \"author\": \"iML1515\", \"SpearmanR\": 0.4766322241968432}, {\"sample_id\": \"pgl\", \"author\": \"Exp_iML1515\", \"SpearmanR\": 0.9406208002064751}, {\"sample_id\": \"pgl\", \"author\": \"Khodayari\", \"SpearmanR\": 0.9867133400933706}, {\"sample_id\": \"pgl\", \"author\": \"Millard\", \"SpearmanR\": 0.8883332842805223}, {\"sample_id\": \"pgl\", \"author\": \"iML1515\", \"SpearmanR\": 0.7749457035775729}, {\"sample_id\": \"ppsA\", \"author\": \"Exp_iML1515\", \"SpearmanR\": 0.9019985401118786}, {\"sample_id\": \"ppsA\", \"author\": \"Khodayari\", \"SpearmanR\": 0.9488016414580868}, {\"sample_id\": \"ppsA\", \"author\": \"Kurata\", \"SpearmanR\": 0.674792361592496}, {\"sample_id\": \"ppsA\", \"author\": \"Millard\", \"SpearmanR\": 0.8825442631919784}, {\"sample_id\": \"ppsA\", \"author\": \"iML1515\", \"SpearmanR\": 0.817846889220256}, {\"sample_id\": \"pykA\", \"author\": \"Chassagnole\", \"SpearmanR\": 0.3765211928089619}, {\"sample_id\": \"pykA\", \"author\": \"Exp_iML1515\", \"SpearmanR\": 0.9224387592102941}, {\"sample_id\": \"pykA\", \"author\": \"Khodayari\", \"SpearmanR\": 0.9722554902971912}, {\"sample_id\": \"pykA\", \"author\": \"Kurata\", \"SpearmanR\": 0.8135727705042883}, {\"sample_id\": \"pykA\", \"author\": \"Millard\", \"SpearmanR\": 0.9084968383867863}, {\"sample_id\": \"pykA\", \"author\": \"iML1515\", \"SpearmanR\": 0.7802728948712477}, {\"sample_id\": \"pykF\", \"author\": \"Chassagnole\", \"SpearmanR\": 0.45544969953682996}, {\"sample_id\": \"pykF\", \"author\": \"Exp_iML1515\", \"SpearmanR\": 0.8765194066288153}, {\"sample_id\": \"pykF\", \"author\": \"Khodayari\", \"SpearmanR\": 0.948748718633248}, {\"sample_id\": \"pykF\", \"author\": \"Kurata\", \"SpearmanR\": 0.8556009373218085}, {\"sample_id\": \"pykF\", \"author\": \"Millard\", \"SpearmanR\": 0.8853798704889037}, {\"sample_id\": \"pykF\", \"author\": \"iML1515\", \"SpearmanR\": 0.7450697052662486}, {\"sample_id\": \"rpe\", \"author\": \"Chassagnole\", \"SpearmanR\": 0.15897589655818173}, {\"sample_id\": \"rpe\", \"author\": \"Exp_iML1515\", \"SpearmanR\": 0.9364559880920473}, {\"sample_id\": \"rpe\", \"author\": \"Khodayari\", \"SpearmanR\": 0.945319110326214}, {\"sample_id\": \"rpe\", \"author\": \"Millard\", \"SpearmanR\": 0.9204394654427407}, {\"sample_id\": \"rpe\", \"author\": \"iML1515\", \"SpearmanR\": 0.7091731542573141}, {\"sample_id\": \"rpiA\", \"author\": \"Chassagnole\", \"SpearmanR\": 0.2744644486079072}, {\"sample_id\": \"rpiA\", \"author\": \"Exp_iML1515\", \"SpearmanR\": 0.8036716326270447}, {\"sample_id\": \"rpiA\", \"author\": \"Khodayari\", \"SpearmanR\": 0.9234940773342503}, {\"sample_id\": \"rpiA\", \"author\": \"Kurata\", \"SpearmanR\": 0.7510132205720004}, {\"sample_id\": \"rpiA\", \"author\": \"Millard\", \"SpearmanR\": 0.8918040914034231}, {\"sample_id\": \"rpiA\", \"author\": \"iML1515\", \"SpearmanR\": 0.6800250634367049}, {\"sample_id\": \"rpiB\", \"author\": \"Chassagnole\", \"SpearmanR\": 0.2858678791680264}, {\"sample_id\": \"rpiB\", \"author\": \"Exp_iML1515\", \"SpearmanR\": 0.6768347840195436}, {\"sample_id\": \"rpiB\", \"author\": \"Khodayari\", \"SpearmanR\": 0.9364657769268444}, {\"sample_id\": \"rpiB\", \"author\": \"Kurata\", \"SpearmanR\": 0.6786127671498688}, {\"sample_id\": \"rpiB\", \"author\": \"Millard\", \"SpearmanR\": 0.8473989068498363}, {\"sample_id\": \"rpiB\", \"author\": \"iML1515\", \"SpearmanR\": 0.5397437793087264}, {\"sample_id\": \"talA\", \"author\": \"Chassagnole\", \"SpearmanR\": 0.6024339084943392}, {\"sample_id\": \"talA\", \"author\": \"Exp_iML1515\", \"SpearmanR\": 0.9282686910839126}, {\"sample_id\": \"talA\", \"author\": \"Khodayari\", \"SpearmanR\": 0.9421976511203458}, {\"sample_id\": \"talA\", \"author\": \"Kurata\", \"SpearmanR\": 0.638519672016636}, {\"sample_id\": \"talA\", \"author\": \"iML1515\", \"SpearmanR\": 0.8336579516348731}, {\"sample_id\": \"talB\", \"author\": \"Chassagnole\", \"SpearmanR\": 0.5468617966145137}, {\"sample_id\": \"talB\", \"author\": \"Kurata\", \"SpearmanR\": 0.6169272193397447}, {\"sample_id\": \"tktA\", \"author\": \"Exp_iML1515\", \"SpearmanR\": 0.8373301211016551}, {\"sample_id\": \"tktA\", \"author\": \"Khodayari\", \"SpearmanR\": 0.8951595285697526}, {\"sample_id\": \"tktA\", \"author\": \"Kurata\", \"SpearmanR\": 0.5417336547228983}, {\"sample_id\": \"tktA\", \"author\": \"Millard\", \"SpearmanR\": 0.9212423879028432}, {\"sample_id\": \"tktA\", \"author\": \"iML1515\", \"SpearmanR\": 0.752032354554542}, {\"sample_id\": \"tktB\", \"author\": \"Exp_iML1515\", \"SpearmanR\": 0.8837386770207076}, {\"sample_id\": \"tktB\", \"author\": \"Khodayari\", \"SpearmanR\": 0.9327264029046576}, {\"sample_id\": \"tktB\", \"author\": \"Kurata\", \"SpearmanR\": 0.5803887983936347}, {\"sample_id\": \"tktB\", \"author\": \"iML1515\", \"SpearmanR\": 0.8076743375810335}, {\"sample_id\": \"zwf\", \"author\": \"Chassagnole\", \"SpearmanR\": 0.4689535722238005}, {\"sample_id\": \"zwf\", \"author\": \"Exp_iML1515\", \"SpearmanR\": 0.9270580257339225}, {\"sample_id\": \"zwf\", \"author\": \"Khodayari\", \"SpearmanR\": 0.8853766645577876}, {\"sample_id\": \"zwf\", \"author\": \"Kurata\", \"SpearmanR\": 0.8757312160352033}, {\"sample_id\": \"zwf\", \"author\": \"Millard\", \"SpearmanR\": 0.8932382613814194}, {\"sample_id\": \"zwf\", \"author\": \"iML1515\", \"SpearmanR\": 0.7445654418007944}]}}, {\"mode\": \"vega-lite\"});\n",
       "</script>"
      ],
      "text/plain": [
       "alt.FacetChart(...)"
      ]
     },
     "execution_count": 18,
     "metadata": {},
     "output_type": "execute_result"
    }
   ],
   "source": [
    "boxplot(norm_error=x_spearman_error,\n",
    "              author=\"Ishii\",\n",
    "              title=\"Knockout simulations (chemostat)\",\n",
    "              sort_list=[\"Chassagnole\", \"Khodayari\", \"Millard\", \"Kurata\", \"iML1515\", \"Exp_iML1515\"],\n",
    "              opacity = False,\n",
    "              color_scheme = \"dark2\",\n",
    "              field=\"SpearmanR\",\n",
    "            field_name = \"SpearmanR\")"
   ]
  },
  {
   "cell_type": "code",
   "execution_count": 19,
   "metadata": {},
   "outputs": [],
   "source": [
    "xdf_chass = process_data(ko_df, author=\"Ishii\", trim_tca=False)\n",
    "x_norm_err_chass = summary_errors(xdf_chass, author=\"Ishii\")"
   ]
  },
  {
   "cell_type": "code",
   "execution_count": 20,
   "metadata": {},
   "outputs": [
    {
     "data": {
      "text/html": [
       "\n",
       "<div id=\"altair-viz-40bbf84ff6b7407c8b17e2e70cd1feb6\"></div>\n",
       "<script type=\"text/javascript\">\n",
       "  (function(spec, embedOpt){\n",
       "    const outputDiv = document.getElementById(\"altair-viz-40bbf84ff6b7407c8b17e2e70cd1feb6\");\n",
       "    const paths = {\n",
       "      \"vega\": \"https://cdn.jsdelivr.net/npm//vega@5?noext\",\n",
       "      \"vega-lib\": \"https://cdn.jsdelivr.net/npm//vega-lib?noext\",\n",
       "      \"vega-lite\": \"https://cdn.jsdelivr.net/npm//vega-lite@4.0.2?noext\",\n",
       "      \"vega-embed\": \"https://cdn.jsdelivr.net/npm//vega-embed@6?noext\",\n",
       "    };\n",
       "\n",
       "    function loadScript(lib) {\n",
       "      return new Promise(function(resolve, reject) {\n",
       "        var s = document.createElement('script');\n",
       "        s.src = paths[lib];\n",
       "        s.async = true;\n",
       "        s.onload = () => resolve(paths[lib]);\n",
       "        s.onerror = () => reject(`Error loading script: ${paths[lib]}`);\n",
       "        document.getElementsByTagName(\"head\")[0].appendChild(s);\n",
       "      });\n",
       "    }\n",
       "\n",
       "    function showError(err) {\n",
       "      outputDiv.innerHTML = `<div class=\"error\" style=\"color:red;\">${err}</div>`;\n",
       "      throw err;\n",
       "    }\n",
       "\n",
       "    function displayChart(vegaEmbed) {\n",
       "      vegaEmbed(outputDiv, spec, embedOpt)\n",
       "        .catch(err => showError(`Javascript Error: ${err.message}<br>This usually means there's a typo in your chart specification. See the javascript console for the full traceback.`));\n",
       "    }\n",
       "\n",
       "    if(typeof define === \"function\" && define.amd) {\n",
       "      requirejs.config({paths});\n",
       "      require([\"vega-embed\"], displayChart, err => showError(`Error loading script: ${err.message}`));\n",
       "    } else if (typeof vegaEmbed === \"function\") {\n",
       "      displayChart(vegaEmbed);\n",
       "    } else {\n",
       "      loadScript(\"vega\")\n",
       "        .then(() => loadScript(\"vega-lite\"))\n",
       "        .then(() => loadScript(\"vega-embed\"))\n",
       "        .catch(showError)\n",
       "        .then(() => displayChart(vegaEmbed));\n",
       "    }\n",
       "  })({\"config\": {\"view\": {\"continuousWidth\": 400, \"continuousHeight\": 300, \"stroke\": null}, \"axis\": {\"labelFontSize\": 20, \"titleFontSize\": 20}, \"facet\": {\"spacing\": 5}, \"header\": {\"titleFontSize\": 24}}, \"data\": {\"name\": \"data-ecd946836d3512c4046816be885b81db\"}, \"facet\": {\"column\": {\"type\": \"nominal\", \"field\": \"author\", \"header\": {\"labelAlign\": \"right\", \"labelAngle\": -90, \"labelFontSize\": 20, \"labelOrient\": \"bottom\", \"labelPadding\": 3, \"title\": \"Knockout simulations (chemostat)\", \"titleOrient\": \"top\"}, \"sort\": [\"Chassagnole\", \"Khodayari\", \"Millard\", \"Kurata\", \"iML1515\", \"Exp_iML1515\"]}}, \"spec\": {\"layer\": [{\"mark\": {\"type\": \"boxplot\", \"outliers\": false, \"size\": 95}, \"encoding\": {\"color\": {\"type\": \"nominal\", \"field\": \"author\", \"legend\": null, \"scale\": {\"domain\": [\"Khodayari\", \"Millard\", \"Kurata\", \"iML1515\", \"Chassagnole\", \"Exp_iML1515\"], \"range\": [\"#1b9e77\", \"#d95f02\", \"#7570b3\", \"#e7298a\", \"#66a61e\", \"#e6ab02\"]}}, \"opacity\": {\"value\": 0.7}, \"y\": {\"type\": \"quantitative\", \"field\": \"normalized_error\", \"title\": \"Normalized Error\"}}}, {\"mark\": \"circle\", \"encoding\": {\"color\": {\"type\": \"nominal\", \"field\": \"author\", \"legend\": null, \"scale\": {\"domain\": [\"Khodayari\", \"Millard\", \"Kurata\", \"iML1515\", \"Chassagnole\", \"Exp_iML1515\"], \"range\": [\"#1b9e77\", \"#d95f02\", \"#7570b3\", \"#e7298a\", \"#66a61e\", \"#e6ab02\"]}}, \"opacity\": {\"value\": 1.0}, \"size\": {\"condition\": {\"value\": 130, \"selection\": \"selector004\"}, \"value\": 50}, \"tooltip\": [{\"type\": \"nominal\", \"field\": \"author\"}, {\"type\": \"nominal\", \"field\": \"sample_id\"}, {\"type\": \"quantitative\", \"field\": \"normalized_error\"}], \"x\": {\"type\": \"quantitative\", \"axis\": {\"grid\": false, \"labels\": false, \"ticks\": true, \"values\": [0]}, \"field\": \"jitter\", \"scale\": {}, \"title\": null}, \"y\": {\"type\": \"quantitative\", \"axis\": {\"tickCount\": 10}, \"field\": \"normalized_error\", \"title\": \"Normalized Error\"}}, \"height\": 600, \"selection\": {\"selector004\": {\"type\": \"single\", \"empty\": \"none\", \"fields\": [\"sample_id\"]}}, \"width\": 100}, {\"mark\": {\"type\": \"point\", \"filled\": true, \"opacity\": 1.0, \"shape\": \"diamond\", \"size\": 180}, \"encoding\": {\"color\": {\"type\": \"nominal\", \"field\": \"author\", \"legend\": null, \"scale\": {\"domain\": [\"Khodayari\", \"Millard\", \"Kurata\", \"iML1515\", \"Chassagnole\", \"Exp_iML1515\"], \"range\": [\"#1b9e77\", \"#d95f02\", \"#7570b3\", \"#e7298a\", \"#66a61e\", \"#e6ab02\"]}}, \"tooltip\": [{\"type\": \"nominal\", \"field\": \"author\"}, {\"type\": \"nominal\", \"field\": \"sample_id\"}, {\"type\": \"quantitative\", \"field\": \"normalized_error\"}], \"x\": {\"type\": \"quantitative\", \"field\": \"jitter\", \"title\": null}, \"y\": {\"type\": \"quantitative\", \"field\": \"normalized_error\", \"title\": \"Normalized Error\"}}, \"transform\": [{\"filter\": \"datum.sample_id === \\\"WT\\\"\"}]}, {\"mark\": {\"type\": \"text\", \"dy\": 10, \"text\": \"WT\"}, \"encoding\": {\"tooltip\": [{\"type\": \"nominal\", \"field\": \"author\"}, {\"type\": \"nominal\", \"field\": \"sample_id\"}, {\"type\": \"quantitative\", \"field\": \"normalized_error\"}], \"x\": {\"type\": \"quantitative\", \"field\": \"jitter\", \"title\": null}, \"y\": {\"type\": \"quantitative\", \"field\": \"normalized_error\", \"title\": \"Normalized Error\"}}, \"transform\": [{\"filter\": \"datum.sample_id === \\\"WT\\\"\"}]}], \"transform\": [{\"calculate\": \"sqrt(-2*log(random()))*cos(2*PI*random())\", \"as\": \"jitter\"}]}, \"transform\": [{\"filter\": \"datum.normalized_error !== null\"}], \"$schema\": \"https://vega.github.io/schema/vega-lite/v4.0.2.json\", \"datasets\": {\"data-ecd946836d3512c4046816be885b81db\": [{\"author\": \"Chassagnole\", \"sample_id\": \"WT\", \"normalized_error\": 0.3581846101586007, \"unnormalized_error\": 117.37475218485329}, {\"author\": \"Chassagnole\", \"sample_id\": \"fbaA\", \"normalized_error\": null, \"unnormalized_error\": null}, {\"author\": \"Chassagnole\", \"sample_id\": \"fbaB\", \"normalized_error\": 0.6236316626054897, \"unnormalized_error\": 199.04306315502976}, {\"author\": \"Chassagnole\", \"sample_id\": \"gnd\", \"normalized_error\": 0.6675833419581171, \"unnormalized_error\": 237.81620023691693}, {\"author\": \"Chassagnole\", \"sample_id\": \"pfkA\", \"normalized_error\": 0.6274803113780381, \"unnormalized_error\": 203.69541855360424}, {\"author\": \"Chassagnole\", \"sample_id\": \"pfkB\", \"normalized_error\": 0.6336276486992032, \"unnormalized_error\": 200.08693047873368}, {\"author\": \"Chassagnole\", \"sample_id\": \"pgi\", \"normalized_error\": 0.3258255248286813, \"unnormalized_error\": 85.86599929043834}, {\"author\": \"Chassagnole\", \"sample_id\": \"pykA\", \"normalized_error\": 0.41170265528949646, \"unnormalized_error\": 133.3440010294555}, {\"author\": \"Chassagnole\", \"sample_id\": \"pykF\", \"normalized_error\": 0.2988823779672774, \"unnormalized_error\": 93.90330672600861}, {\"author\": \"Chassagnole\", \"sample_id\": \"rpe\", \"normalized_error\": 0.9782990570359033, \"unnormalized_error\": 348.0050530580886}, {\"author\": \"Chassagnole\", \"sample_id\": \"rpiA\", \"normalized_error\": 0.6397275284785227, \"unnormalized_error\": 196.9976498314327}, {\"author\": \"Chassagnole\", \"sample_id\": \"rpiB\", \"normalized_error\": 0.6619588257164226, \"unnormalized_error\": 217.4683350683279}, {\"author\": \"Chassagnole\", \"sample_id\": \"talA\", \"normalized_error\": 0.3655243572718045, \"unnormalized_error\": 118.60293813591295}, {\"author\": \"Chassagnole\", \"sample_id\": \"talB\", \"normalized_error\": 0.3722125872222415, \"unnormalized_error\": 122.27679197118323}, {\"author\": \"Chassagnole\", \"sample_id\": \"zwf\", \"normalized_error\": 0.2401587432894554, \"unnormalized_error\": 85.9597221163202}, {\"author\": \"Exp_iML1515\", \"sample_id\": \"WT\", \"normalized_error\": 0.044744384409157116, \"unnormalized_error\": 14.662441888173687}, {\"author\": \"Exp_iML1515\", \"sample_id\": \"fbaB\", \"normalized_error\": 0.3791114032585973, \"unnormalized_error\": 121.0001023141263}, {\"author\": \"Exp_iML1515\", \"sample_id\": \"fbp\", \"normalized_error\": 0.08795088377772428, \"unnormalized_error\": 29.498312097724135}, {\"author\": \"Exp_iML1515\", \"sample_id\": \"gnd\", \"normalized_error\": 0.13702032459360428, \"unnormalized_error\": 48.81136316928098}, {\"author\": \"Exp_iML1515\", \"sample_id\": \"gpmA\", \"normalized_error\": 0.503553677332546, \"unnormalized_error\": 162.185720335877}, {\"author\": \"Exp_iML1515\", \"sample_id\": \"pfkA\", \"normalized_error\": 0.3710189093350305, \"unnormalized_error\": 120.4417902170148}, {\"author\": \"Exp_iML1515\", \"sample_id\": \"pfkB\", \"normalized_error\": 0.42766433341179344, \"unnormalized_error\": 135.04783751666974}, {\"author\": \"Exp_iML1515\", \"sample_id\": \"pgi\", \"normalized_error\": 0.6742998328308619, \"unnormalized_error\": 177.70071573686846}, {\"author\": \"Exp_iML1515\", \"sample_id\": \"pgl\", \"normalized_error\": 0.1031241116858138, \"unnormalized_error\": 33.880626107586416}, {\"author\": \"Exp_iML1515\", \"sample_id\": \"ppsA\", \"normalized_error\": 0.10165969872945915, \"unnormalized_error\": 32.11529481435506}, {\"author\": \"Exp_iML1515\", \"sample_id\": \"pykA\", \"normalized_error\": 0.17528720168000045, \"unnormalized_error\": 56.772761848798}, {\"author\": \"Exp_iML1515\", \"sample_id\": \"pykF\", \"normalized_error\": 0.27765563542409966, \"unnormalized_error\": 87.23425741844366}, {\"author\": \"Exp_iML1515\", \"sample_id\": \"rpe\", \"normalized_error\": 0.1429338058470844, \"unnormalized_error\": 50.84507271050517}, {\"author\": \"Exp_iML1515\", \"sample_id\": \"rpiA\", \"normalized_error\": 0.13516574012360252, \"unnormalized_error\": 41.62292844487125}, {\"author\": \"Exp_iML1515\", \"sample_id\": \"rpiB\", \"normalized_error\": 0.2804253875405333, \"unnormalized_error\": 92.12603529128754}, {\"author\": \"Exp_iML1515\", \"sample_id\": \"talA\", \"normalized_error\": 0.06423347270991348, \"unnormalized_error\": 20.842054540304567}, {\"author\": \"Exp_iML1515\", \"sample_id\": \"tktA\", \"normalized_error\": 0.09844268715554358, \"unnormalized_error\": 32.55537022825755}, {\"author\": \"Exp_iML1515\", \"sample_id\": \"tktB\", \"normalized_error\": 0.0709424952819378, \"unnormalized_error\": 23.2751937312698}, {\"author\": \"Exp_iML1515\", \"sample_id\": \"zwf\", \"normalized_error\": 0.16610424250880126, \"unnormalized_error\": 59.45348619346031}, {\"author\": \"Khodayari\", \"sample_id\": \"WT\", \"normalized_error\": 0.08864471024557015, \"unnormalized_error\": 29.048291307001833}, {\"author\": \"Khodayari\", \"sample_id\": \"fbaB\", \"normalized_error\": 0.053407277813574815, \"unnormalized_error\": 17.045876289174824}, {\"author\": \"Khodayari\", \"sample_id\": \"fbp\", \"normalized_error\": 0.1369365825823323, \"unnormalized_error\": 45.92788471367799}, {\"author\": \"Khodayari\", \"sample_id\": \"gnd\", \"normalized_error\": 0.450036971509301, \"unnormalized_error\": 160.31868353178024}, {\"author\": \"Khodayari\", \"sample_id\": \"pfkA\", \"normalized_error\": 0.07468493457434403, \"unnormalized_error\": 24.244551951533968}, {\"author\": \"Khodayari\", \"sample_id\": \"pfkB\", \"normalized_error\": 0.2020050021304151, \"unnormalized_error\": 63.7891368859953}, {\"author\": \"Khodayari\", \"sample_id\": \"pgi\", \"normalized_error\": 0.16124586634108512, \"unnormalized_error\": 42.49371639041999}, {\"author\": \"Khodayari\", \"sample_id\": \"pgl\", \"normalized_error\": 0.06070039032117003, \"unnormalized_error\": 19.94264188497276}, {\"author\": \"Khodayari\", \"sample_id\": \"ppsA\", \"normalized_error\": 0.10627572133798084, \"unnormalized_error\": 33.57354158072526}, {\"author\": \"Khodayari\", \"sample_id\": \"pykA\", \"normalized_error\": 0.09541127052679992, \"unnormalized_error\": 30.90220670644251}, {\"author\": \"Khodayari\", \"sample_id\": \"pykF\", \"normalized_error\": 0.2281550853211825, \"unnormalized_error\": 71.68210151338963}, {\"author\": \"Khodayari\", \"sample_id\": \"rpe\", \"normalized_error\": 0.15693672755123408, \"unnormalized_error\": 55.82625660879654}, {\"author\": \"Khodayari\", \"sample_id\": \"rpiA\", \"normalized_error\": 0.2866249998130189, \"unnormalized_error\": 88.26328215137177}, {\"author\": \"Khodayari\", \"sample_id\": \"rpiB\", \"normalized_error\": 0.31394322942886693, \"unnormalized_error\": 103.13739881929939}, {\"author\": \"Khodayari\", \"sample_id\": \"talA\", \"normalized_error\": 0.05314851426887252, \"unnormalized_error\": 17.245280169275915}, {\"author\": \"Khodayari\", \"sample_id\": \"tktA\", \"normalized_error\": 0.09791820755638601, \"unnormalized_error\": 32.381922834437795}, {\"author\": \"Khodayari\", \"sample_id\": \"tktB\", \"normalized_error\": 0.053757490313453594, \"unnormalized_error\": 17.637045279841683}, {\"author\": \"Khodayari\", \"sample_id\": \"zwf\", \"normalized_error\": 0.33432221752714447, \"unnormalized_error\": 119.66353805119655}, {\"author\": \"Kurata\", \"sample_id\": \"WT\", \"normalized_error\": 0.40390382681805037, \"unnormalized_error\": 132.35664022050167}, {\"author\": \"Kurata\", \"sample_id\": \"fbaB\", \"normalized_error\": 0.3722801057628786, \"unnormalized_error\": 118.8197730261772}, {\"author\": \"Kurata\", \"sample_id\": \"fbp\", \"normalized_error\": 0.4201351396862454, \"unnormalized_error\": 140.91134666715757}, {\"author\": \"Kurata\", \"sample_id\": \"gnd\", \"normalized_error\": 0.7264619309921437, \"unnormalized_error\": 258.79078339280056}, {\"author\": \"Kurata\", \"sample_id\": \"pfkA\", \"normalized_error\": 0.44364060400867417, \"unnormalized_error\": 144.0165641571452}, {\"author\": \"Kurata\", \"sample_id\": \"pfkB\", \"normalized_error\": 0.37141009752511944, \"unnormalized_error\": 117.28387565657962}, {\"author\": \"Kurata\", \"sample_id\": \"pgi\", \"normalized_error\": 0.2979211250137115, \"unnormalized_error\": 78.51225014517986}, {\"author\": \"Kurata\", \"sample_id\": \"ppsA\", \"normalized_error\": 0.26240604514589344, \"unnormalized_error\": 82.89664051982152}, {\"author\": \"Kurata\", \"sample_id\": \"pykA\", \"normalized_error\": 0.3832344161118959, \"unnormalized_error\": 124.12358705972905}, {\"author\": \"Kurata\", \"sample_id\": \"pykF\", \"normalized_error\": 0.3243663373075624, \"unnormalized_error\": 101.90989469147881}, {\"author\": \"Kurata\", \"sample_id\": \"rpiA\", \"normalized_error\": 0.3686751976606237, \"unnormalized_error\": 113.5298142679819}, {\"author\": \"Kurata\", \"sample_id\": \"rpiB\", \"normalized_error\": 0.3526444768821555, \"unnormalized_error\": 115.85162744163895}, {\"author\": \"Kurata\", \"sample_id\": \"talA\", \"normalized_error\": 0.410615296459267, \"unnormalized_error\": 133.23374936517422}, {\"author\": \"Kurata\", \"sample_id\": \"talB\", \"normalized_error\": 0.4141573361884104, \"unnormalized_error\": 136.05620062013733}, {\"author\": \"Kurata\", \"sample_id\": \"tktA\", \"normalized_error\": 0.40958240377817995, \"unnormalized_error\": 135.4504552776975}, {\"author\": \"Kurata\", \"sample_id\": \"tktB\", \"normalized_error\": 0.4147447964525004, \"unnormalized_error\": 136.07169367392916}, {\"author\": \"Kurata\", \"sample_id\": \"zwf\", \"normalized_error\": 0.3645612741065174, \"unnormalized_error\": 130.4869661930139}, {\"author\": \"Millard\", \"sample_id\": \"WT\", \"normalized_error\": 0.053177932794421484, \"unnormalized_error\": 17.426060490662117}, {\"author\": \"Millard\", \"sample_id\": \"fbp\", \"normalized_error\": 0.0899915255807052, \"unnormalized_error\": 30.18273374533513}, {\"author\": \"Millard\", \"sample_id\": \"gnd\", \"normalized_error\": 0.170084145324079, \"unnormalized_error\": 60.589835934003474}, {\"author\": \"Millard\", \"sample_id\": \"pgi\", \"normalized_error\": 0.3949455543477427, \"unnormalized_error\": 104.08145496647676}, {\"author\": \"Millard\", \"sample_id\": \"pgl\", \"normalized_error\": 0.1790525382801031, \"unnormalized_error\": 58.82632106024724}, {\"author\": \"Millard\", \"sample_id\": \"ppsA\", \"normalized_error\": 0.12839166050307943, \"unnormalized_error\": 40.56018343841613}, {\"author\": \"Millard\", \"sample_id\": \"pykA\", \"normalized_error\": 0.20224995322436526, \"unnormalized_error\": 65.50557210274357}, {\"author\": \"Millard\", \"sample_id\": \"pykF\", \"normalized_error\": 0.2293658290235137, \"unnormalized_error\": 72.06249475711255}, {\"author\": \"Millard\", \"sample_id\": \"rpe\", \"normalized_error\": 0.14119167100442254, \"unnormalized_error\": 50.22535246852538}, {\"author\": \"Millard\", \"sample_id\": \"rpiA\", \"normalized_error\": 0.2283480287039231, \"unnormalized_error\": 70.31747579363957}, {\"author\": \"Millard\", \"sample_id\": \"rpiB\", \"normalized_error\": 0.30936150121586425, \"unnormalized_error\": 101.63219824260352}, {\"author\": \"Millard\", \"sample_id\": \"tktA\", \"normalized_error\": 0.2352625102229054, \"unnormalized_error\": 77.80220494219422}, {\"author\": \"Millard\", \"sample_id\": \"zwf\", \"normalized_error\": 0.11619351911625261, \"unnormalized_error\": 41.58900266609178}, {\"author\": \"iML1515\", \"sample_id\": \"WT\", \"normalized_error\": 0.2097247873120634, \"unnormalized_error\": 68.7254400094817}, {\"author\": \"iML1515\", \"sample_id\": \"fbaB\", \"normalized_error\": 0.33446948681666666, \"unnormalized_error\": 106.75184596904418}, {\"author\": \"iML1515\", \"sample_id\": \"fbp\", \"normalized_error\": 0.24402350698782466, \"unnormalized_error\": 81.84433469139465}, {\"author\": \"iML1515\", \"sample_id\": \"gnd\", \"normalized_error\": 0.2592010875132253, \"unnormalized_error\": 92.33636290094718}, {\"author\": \"iML1515\", \"sample_id\": \"gpmA\", \"normalized_error\": 0.5423606712433938, \"unnormalized_error\": 174.68476571042666}, {\"author\": \"iML1515\", \"sample_id\": \"pfkA\", \"normalized_error\": 0.3347910502288861, \"unnormalized_error\": 108.68134325140285}, {\"author\": \"iML1515\", \"sample_id\": \"pfkB\", \"normalized_error\": 0.3741721008875349, \"unnormalized_error\": 118.15606104162742}, {\"author\": \"iML1515\", \"sample_id\": \"pgi\", \"normalized_error\": 0.5912371262693019, \"unnormalized_error\": 155.81089508384585}, {\"author\": \"iML1515\", \"sample_id\": \"pgl\", \"normalized_error\": 0.20099906792884, \"unnormalized_error\": 66.0366829555653}, {\"author\": \"iML1515\", \"sample_id\": \"ppsA\", \"normalized_error\": 0.179690335667237, \"unnormalized_error\": 56.76593750883762}, {\"author\": \"iML1515\", \"sample_id\": \"pykA\", \"normalized_error\": 0.2154245980893075, \"unnormalized_error\": 69.77263192337618}, {\"author\": \"iML1515\", \"sample_id\": \"pykF\", \"normalized_error\": 0.27178533462500215, \"unnormalized_error\": 85.38991764752569}, {\"author\": \"iML1515\", \"sample_id\": \"rpe\", \"normalized_error\": 0.2665627115488067, \"unnormalized_error\": 94.82291729577533}, {\"author\": \"iML1515\", \"sample_id\": \"rpiA\", \"normalized_error\": 0.20171491852485773, \"unnormalized_error\": 62.11607773053648}, {\"author\": \"iML1515\", \"sample_id\": \"rpiB\", \"normalized_error\": 0.3228157341426586, \"unnormalized_error\": 106.05221580343117}, {\"author\": \"iML1515\", \"sample_id\": \"talA\", \"normalized_error\": 0.19889998274618106, \"unnormalized_error\": 64.5377575517842}, {\"author\": \"iML1515\", \"sample_id\": \"tktA\", \"normalized_error\": 0.2039088641490139, \"unnormalized_error\": 67.43343519977043}, {\"author\": \"iML1515\", \"sample_id\": \"tktB\", \"normalized_error\": 0.19630444551514287, \"unnormalized_error\": 64.40461364540889}, {\"author\": \"iML1515\", \"sample_id\": \"zwf\", \"normalized_error\": 0.2602966133777127, \"unnormalized_error\": 93.16764506382987}]}}, {\"mode\": \"vega-lite\"});\n",
       "</script>"
      ],
      "text/plain": [
       "alt.FacetChart(...)"
      ]
     },
     "execution_count": 20,
     "metadata": {},
     "output_type": "execute_result"
    }
   ],
   "source": [
    "# For supplementary figure\n",
    "boxplot(norm_error=x_norm_err_chass,\n",
    "              author=\"Ishii\",\n",
    "              title=\"Knockout simulations (chemostat)\",\n",
    "              sort_list=[\"Chassagnole\", \"Khodayari\", \"Millard\", \"Kurata\", \"iML1515\", \"Exp_iML1515\"],\n",
    "              opacity = False,\n",
    "              color_scheme = \"dark2\")"
   ]
  },
  {
   "cell_type": "code",
   "execution_count": 21,
   "metadata": {},
   "outputs": [
    {
     "data": {
      "text/html": [
       "\n",
       "<div id=\"altair-viz-5007dbc791a34c9bb7305b0438a9ccd3\"></div>\n",
       "<script type=\"text/javascript\">\n",
       "  (function(spec, embedOpt){\n",
       "    const outputDiv = document.getElementById(\"altair-viz-5007dbc791a34c9bb7305b0438a9ccd3\");\n",
       "    const paths = {\n",
       "      \"vega\": \"https://cdn.jsdelivr.net/npm//vega@5?noext\",\n",
       "      \"vega-lib\": \"https://cdn.jsdelivr.net/npm//vega-lib?noext\",\n",
       "      \"vega-lite\": \"https://cdn.jsdelivr.net/npm//vega-lite@4.0.2?noext\",\n",
       "      \"vega-embed\": \"https://cdn.jsdelivr.net/npm//vega-embed@6?noext\",\n",
       "    };\n",
       "\n",
       "    function loadScript(lib) {\n",
       "      return new Promise(function(resolve, reject) {\n",
       "        var s = document.createElement('script');\n",
       "        s.src = paths[lib];\n",
       "        s.async = true;\n",
       "        s.onload = () => resolve(paths[lib]);\n",
       "        s.onerror = () => reject(`Error loading script: ${paths[lib]}`);\n",
       "        document.getElementsByTagName(\"head\")[0].appendChild(s);\n",
       "      });\n",
       "    }\n",
       "\n",
       "    function showError(err) {\n",
       "      outputDiv.innerHTML = `<div class=\"error\" style=\"color:red;\">${err}</div>`;\n",
       "      throw err;\n",
       "    }\n",
       "\n",
       "    function displayChart(vegaEmbed) {\n",
       "      vegaEmbed(outputDiv, spec, embedOpt)\n",
       "        .catch(err => showError(`Javascript Error: ${err.message}<br>This usually means there's a typo in your chart specification. See the javascript console for the full traceback.`));\n",
       "    }\n",
       "\n",
       "    if(typeof define === \"function\" && define.amd) {\n",
       "      requirejs.config({paths});\n",
       "      require([\"vega-embed\"], displayChart, err => showError(`Error loading script: ${err.message}`));\n",
       "    } else if (typeof vegaEmbed === \"function\") {\n",
       "      displayChart(vegaEmbed);\n",
       "    } else {\n",
       "      loadScript(\"vega\")\n",
       "        .then(() => loadScript(\"vega-lite\"))\n",
       "        .then(() => loadScript(\"vega-embed\"))\n",
       "        .catch(showError)\n",
       "        .then(() => displayChart(vegaEmbed));\n",
       "    }\n",
       "  })({\"config\": {\"view\": {\"continuousWidth\": 400, \"continuousHeight\": 300}, \"mark\": {\"invalid\": null}}, \"data\": {\"name\": \"data-a83411e9db5bc4346ca6ca1a29a52934\"}, \"mark\": \"rect\", \"encoding\": {\"color\": {\"type\": \"quantitative\", \"condition\": {\"value\": \"lightgrey\", \"test\": \"datum.relative_error === null\"}, \"field\": \"relative_error\", \"scale\": {\"domain\": [0, 25, 50, 75, 100, 200, 300], \"scheme\": \"greenblue\", \"type\": \"threshold\"}, \"title\": \"relative error (clipped at 300)\"}, \"tooltip\": [{\"type\": \"nominal\", \"field\": \"sample_id\"}, {\"type\": \"nominal\", \"field\": \"BiGG_ID\"}, {\"type\": \"quantitative\", \"field\": \"relative_error\"}, {\"type\": \"quantitative\", \"field\": \"normalized_flux\"}], \"x\": {\"type\": \"nominal\", \"field\": \"author\"}, \"y\": {\"type\": \"nominal\", \"field\": \"BiGG_ID\"}}, \"title\": \"Heatmap for sample_id zwf\", \"$schema\": \"https://vega.github.io/schema/vega-lite/v4.0.2.json\", \"datasets\": {\"data-a83411e9db5bc4346ca6ca1a29a52934\": [{\"BiGG_ID\": \"AKGDH\", \"author\": \"Chassagnole\", \"sample_id\": \"zwf\", \"flux\": 0.0, \"normalized_flux\": 0.0, \"relative_error\": 100.0, \"symm_relative_error\": 200.0}, {\"BiGG_ID\": \"AKGDH\", \"author\": \"Exp_iML1515\", \"sample_id\": \"zwf\", \"flux\": 1.6874000000000116, \"normalized_flux\": 56.36306069009464, \"relative_error\": 17.113146043978468, \"symm_relative_error\": 18.71446271156661}, {\"BiGG_ID\": \"AKGDH\", \"author\": \"Ishii\", \"sample_id\": \"zwf\", \"flux\": 2.1624, \"normalized_flux\": 68.0, \"relative_error\": 0.0, \"symm_relative_error\": 0.0}, {\"BiGG_ID\": \"AKGDH\", \"author\": \"Khodayari\", \"sample_id\": \"zwf\", \"flux\": 3.451824591089347, \"normalized_flux\": 77.87700160987316, \"relative_error\": 14.525002367460532, \"symm_relative_error\": 13.541547332166543}, {\"BiGG_ID\": \"AKGDH\", \"author\": \"Kurata\", \"sample_id\": \"zwf\", \"flux\": 295.99753362822383, \"normalized_flux\": 22.820853012911474, \"relative_error\": 66.43992203983608, \"symm_relative_error\": 99.49069071321247}, {\"BiGG_ID\": \"AKGDH\", \"author\": \"Millard\", \"sample_id\": \"zwf\", \"flux\": 0.20274068755548671, \"normalized_flux\": 50.68517188886479, \"relative_error\": 25.462982516375316, \"symm_relative_error\": 29.17774450771085}, {\"BiGG_ID\": \"AKGDH\", \"author\": \"iML1515\", \"sample_id\": \"zwf\", \"flux\": 0.9535384272692664, \"normalized_flux\": 32.90087124902692, \"relative_error\": 51.61636581025453, \"symm_relative_error\": 69.57150779074482}, {\"BiGG_ID\": \"CS\", \"author\": \"Chassagnole\", \"sample_id\": \"zwf\", \"flux\": 0.0, \"normalized_flux\": 0.0, \"relative_error\": 100.0, \"symm_relative_error\": 200.0}, {\"BiGG_ID\": \"CS\", \"author\": \"Exp_iML1515\", \"sample_id\": \"zwf\", \"flux\": 2.4167000000000023, \"normalized_flux\": 80.72336658157575, \"relative_error\": 21.627799435363354, \"symm_relative_error\": 24.250190743737665}, {\"BiGG_ID\": \"CS\", \"author\": \"Ishii\", \"sample_id\": \"zwf\", \"flux\": 3.2754, \"normalized_flux\": 103.0, \"relative_error\": 0.0, \"symm_relative_error\": 0.0}, {\"BiGG_ID\": \"CS\", \"author\": \"Khodayari\", \"sample_id\": \"zwf\", \"flux\": 4.2422773959470845, \"normalized_flux\": 95.710495963944, \"relative_error\": 7.07718838452039, \"symm_relative_error\": 7.336808255341158}, {\"BiGG_ID\": \"CS\", \"author\": \"Kurata\", \"sample_id\": \"zwf\", \"flux\": 733.2234983231484, \"normalized_flux\": 56.53015238249206, \"relative_error\": 45.11635691020188, \"symm_relative_error\": 58.25838805204809}, {\"BiGG_ID\": \"CS\", \"author\": \"Millard\", \"sample_id\": \"zwf\", \"flux\": 0.3234354680439601, \"normalized_flux\": 80.85886701097903, \"relative_error\": 21.496245620408715, \"symm_relative_error\": 24.084922689857358}, {\"BiGG_ID\": \"CS\", \"author\": \"iML1515\", \"sample_id\": \"zwf\", \"flux\": 1.1578249072692666, \"normalized_flux\": 39.94956796033307, \"relative_error\": 61.21401168899702, \"symm_relative_error\": 88.21353284140422}, {\"BiGG_ID\": \"EDA\", \"author\": \"Chassagnole\", \"sample_id\": \"zwf\", \"flux\": 0.0, \"normalized_flux\": 0.0, \"relative_error\": 0.0, \"symm_relative_error\": null}, {\"BiGG_ID\": \"EDA\", \"author\": \"Exp_iML1515\", \"sample_id\": \"zwf\", \"flux\": 0.0, \"normalized_flux\": 0.0, \"relative_error\": 0.0, \"symm_relative_error\": null}, {\"BiGG_ID\": \"EDA\", \"author\": \"Ishii\", \"sample_id\": \"zwf\", \"flux\": 0.0, \"normalized_flux\": 0.0, \"relative_error\": 0.0, \"symm_relative_error\": null}, {\"BiGG_ID\": \"EDA\", \"author\": \"Khodayari\", \"sample_id\": \"zwf\", \"flux\": 1.116833852686963e-09, \"normalized_flux\": 0.0, \"relative_error\": 0.0, \"symm_relative_error\": null}, {\"BiGG_ID\": \"EDA\", \"author\": \"Kurata\", \"sample_id\": \"zwf\", \"flux\": -0.0229359856881087, \"normalized_flux\": 0.0, \"relative_error\": 0.0, \"symm_relative_error\": null}, {\"BiGG_ID\": \"EDA\", \"author\": \"Millard\", \"sample_id\": \"zwf\", \"flux\": 0.0002441407424680777, \"normalized_flux\": 0.0, \"relative_error\": 0.0, \"symm_relative_error\": null}, {\"BiGG_ID\": \"EDA\", \"author\": \"iML1515\", \"sample_id\": \"zwf\", \"flux\": 0.0, \"normalized_flux\": 0.0, \"relative_error\": 0.0, \"symm_relative_error\": null}, {\"BiGG_ID\": \"FBA\", \"author\": \"Chassagnole\", \"sample_id\": \"zwf\", \"flux\": 0.18293274875204707, \"normalized_flux\": 91.29593842297184, \"relative_error\": 1.8323242763743615, \"symm_relative_error\": 1.84926655639824}, {\"BiGG_ID\": \"FBA\", \"author\": \"Exp_iML1515\", \"sample_id\": \"zwf\", \"flux\": 2.4739, \"normalized_flux\": 82.63397880835852, \"relative_error\": 11.146259345851053, \"symm_relative_error\": 11.804118157514695}, {\"BiGG_ID\": \"FBA\", \"author\": \"Ishii\", \"sample_id\": \"zwf\", \"flux\": 2.9574, \"normalized_flux\": 93.0, \"relative_error\": 0.0, \"symm_relative_error\": 0.0}, {\"BiGG_ID\": \"FBA\", \"author\": \"Khodayari\", \"sample_id\": \"zwf\", \"flux\": 4.720055733089808, \"normalized_flux\": 106.48970659558391, \"relative_error\": 14.50506085546657, \"symm_relative_error\": 13.524213179511019}, {\"BiGG_ID\": \"FBA\", \"author\": \"Kurata\", \"sample_id\": \"zwf\", \"flux\": 791.5277793209711, \"normalized_flux\": 61.0253027655557, \"relative_error\": 34.38139487574656, \"symm_relative_error\": 41.51875913935191}, {\"BiGG_ID\": \"FBA\", \"author\": \"Millard\", \"sample_id\": \"zwf\", \"flux\": 0.3662648482439875, \"normalized_flux\": 91.5662120609844, \"relative_error\": 1.5417074613070987, \"symm_relative_error\": 1.5536840931013411}, {\"BiGG_ID\": \"FBA\", \"author\": \"iML1515\", \"sample_id\": \"zwf\", \"flux\": 1.1704134588077195, \"normalized_flux\": 40.38392309645956, \"relative_error\": 56.576426778000474, \"symm_relative_error\": 78.89418107081758}, {\"BiGG_ID\": \"FUM\", \"author\": \"Chassagnole\", \"sample_id\": \"zwf\", \"flux\": 0.0, \"normalized_flux\": 0.0, \"relative_error\": 100.0, \"symm_relative_error\": 200.0}, {\"BiGG_ID\": \"FUM\", \"author\": \"Exp_iML1515\", \"sample_id\": \"zwf\", \"flux\": 2.1736, \"normalized_flux\": 72.60326461774852, \"relative_error\": 23.575510928685766, \"symm_relative_error\": 26.725893953595165}, {\"BiGG_ID\": \"FUM\", \"author\": \"Ishii\", \"sample_id\": \"zwf\", \"flux\": 3.0210000000000004, \"normalized_flux\": 95.0, \"relative_error\": 0.0, \"symm_relative_error\": 0.0}, {\"BiGG_ID\": \"FUM\", \"author\": \"Khodayari\", \"sample_id\": \"zwf\", \"flux\": 5.8829559702633105, \"normalized_flux\": 132.72602922804487, \"relative_error\": 39.71160971373144, \"symm_relative_error\": 33.132821360764176}, {\"BiGG_ID\": \"FUM\", \"author\": \"Kurata\", \"sample_id\": \"zwf\", \"flux\": 646.8075875986871, \"normalized_flux\": 49.867648231032575, \"relative_error\": 47.50773870417624, \"symm_relative_error\": 62.308392964302264}, {\"BiGG_ID\": \"FUM\", \"author\": \"Millard\", \"sample_id\": \"zwf\", \"flux\": 0.28699568389836466, \"normalized_flux\": 71.7489209745814, \"relative_error\": 24.474820026756426, \"symm_relative_error\": 27.887531612828745}, {\"BiGG_ID\": \"FUM\", \"author\": \"iML1515\", \"sample_id\": \"zwf\", \"flux\": 1.1516689072692632, \"normalized_flux\": 39.737161456707256, \"relative_error\": 58.17140899293973, \"symm_relative_error\": 82.03058153492329}, {\"BiGG_ID\": \"G6PDH2r\", \"author\": \"Chassagnole\", \"sample_id\": \"zwf\", \"flux\": 0.0, \"normalized_flux\": 0.0, \"relative_error\": 0.0, \"symm_relative_error\": null}, {\"BiGG_ID\": \"G6PDH2r\", \"author\": \"Exp_iML1515\", \"sample_id\": \"zwf\", \"flux\": 0.0, \"normalized_flux\": 0.0, \"relative_error\": 0.0, \"symm_relative_error\": null}, {\"BiGG_ID\": \"G6PDH2r\", \"author\": \"Ishii\", \"sample_id\": \"zwf\", \"flux\": 0.0, \"normalized_flux\": 0.0, \"relative_error\": 0.0, \"symm_relative_error\": null}, {\"BiGG_ID\": \"G6PDH2r\", \"author\": \"Khodayari\", \"sample_id\": \"zwf\", \"flux\": 5.7060067168952e-08, \"normalized_flux\": 0.0, \"relative_error\": 0.0, \"symm_relative_error\": null}, {\"BiGG_ID\": \"G6PDH2r\", \"author\": \"Kurata\", \"sample_id\": \"zwf\", \"flux\": 0.0, \"normalized_flux\": 0.0, \"relative_error\": 0.0, \"symm_relative_error\": null}, {\"BiGG_ID\": \"G6PDH2r\", \"author\": \"Millard\", \"sample_id\": \"zwf\", \"flux\": 0.0, \"normalized_flux\": 0.0, \"relative_error\": 0.0, \"symm_relative_error\": null}, {\"BiGG_ID\": \"G6PDH2r\", \"author\": \"iML1515\", \"sample_id\": \"zwf\", \"flux\": 0.0, \"normalized_flux\": 0.0, \"relative_error\": 0.0, \"symm_relative_error\": null}, {\"BiGG_ID\": \"GAPD\", \"author\": \"Chassagnole\", \"sample_id\": \"zwf\", \"flux\": 0.3520793726735477, \"normalized_flux\": 175.71165877560279, \"relative_error\": 2.921735483092384, \"symm_relative_error\": 2.9650509560294243}, {\"BiGG_ID\": \"GAPD\", \"author\": \"Exp_iML1515\", \"sample_id\": \"zwf\", \"flux\": 4.947799999999998, \"normalized_flux\": 165.26795761671698, \"relative_error\": 8.691736123360783, \"symm_relative_error\": 9.086629032361559}, {\"BiGG_ID\": \"GAPD\", \"author\": \"Ishii\", \"sample_id\": \"zwf\", \"flux\": 5.7558, \"normalized_flux\": 181.0, \"relative_error\": 0.0, \"symm_relative_error\": 0.0}, {\"BiGG_ID\": \"GAPD\", \"author\": \"Khodayari\", \"sample_id\": \"zwf\", \"flux\": 8.763518536247659, \"normalized_flux\": 197.71472424099403, \"relative_error\": 9.234654276792282, \"symm_relative_error\": 8.827079155421306}, {\"BiGG_ID\": \"GAPD\", \"author\": \"Kurata\", \"sample_id\": \"zwf\", \"flux\": 1560.8666548032643, \"normalized_flux\": 120.33988278686007, \"relative_error\": 33.51387691333698, \"symm_relative_error\": 40.26026468991844}, {\"BiGG_ID\": \"GAPD\", \"author\": \"Millard\", \"sample_id\": \"zwf\", \"flux\": 0.710111738295981, \"normalized_flux\": 177.52793457397107, \"relative_error\": 1.9182681911762065, \"symm_relative_error\": 1.9368451332277326}, {\"BiGG_ID\": \"GAPD\", \"author\": \"iML1515\", \"sample_id\": \"zwf\", \"flux\": 5.099681373230722, \"normalized_flux\": 175.95930638288254, \"relative_error\": 2.7849136006173785, \"symm_relative_error\": 2.8242399214607916}, {\"BiGG_ID\": \"GLCptspp\", \"author\": \"Chassagnole\", \"sample_id\": \"zwf\", \"flux\": 0.2003733702856792, \"normalized_flux\": 100.0, \"relative_error\": 0.0, \"symm_relative_error\": 0.0}, {\"BiGG_ID\": \"GLCptspp\", \"author\": \"Exp_iML1515\", \"sample_id\": \"zwf\", \"flux\": 2.402400000000016, \"normalized_flux\": 80.24571352488049, \"relative_error\": 19.754286475119514, \"symm_relative_error\": 21.91928572258968}, {\"BiGG_ID\": \"GLCptspp\", \"author\": \"Ishii\", \"sample_id\": \"zwf\", \"flux\": 3.18, \"normalized_flux\": 100.0, \"relative_error\": 0.0, \"symm_relative_error\": 0.0}, {\"BiGG_ID\": \"GLCptspp\", \"author\": \"Khodayari\", \"sample_id\": \"zwf\", \"flux\": 4.3260264452003305, \"normalized_flux\": 97.59996765388931, \"relative_error\": 2.4000323461106916, \"symm_relative_error\": 2.4291829341941216}, {\"BiGG_ID\": \"GLCptspp\", \"author\": \"Kurata\", \"sample_id\": \"zwf\", \"flux\": 1290.2016317145114, \"normalized_flux\": 99.47211868108595, \"relative_error\": 0.527881318914055, \"symm_relative_error\": 0.5292782995482456}, {\"BiGG_ID\": \"GLCptspp\", \"author\": \"Millard\", \"sample_id\": \"zwf\", \"flux\": 0.4000000000000723, \"normalized_flux\": 100.00000000000448, \"relative_error\": 4.476419235288631e-12, \"symm_relative_error\": 4.476419235288531e-12}, {\"BiGG_ID\": \"GLCptspp\", \"author\": \"iML1515\", \"sample_id\": \"zwf\", \"flux\": 2.179749108634609, \"normalized_flux\": 75.21002062155691, \"relative_error\": 24.789979378443093, \"symm_relative_error\": 28.297444735752823}, {\"BiGG_ID\": \"GND\", \"author\": \"Chassagnole\", \"sample_id\": \"zwf\", \"flux\": 6.419392300520077e-39, \"normalized_flux\": 0.0, \"relative_error\": 0.0, \"symm_relative_error\": null}, {\"BiGG_ID\": \"GND\", \"author\": \"Exp_iML1515\", \"sample_id\": \"zwf\", \"flux\": 0.4575999999999845, \"normalized_flux\": 15.284897814262333, \"relative_error\": 100.0, \"symm_relative_error\": 200.0}, {\"BiGG_ID\": \"GND\", \"author\": \"Ishii\", \"sample_id\": \"zwf\", \"flux\": 0.0, \"normalized_flux\": 0.0, \"relative_error\": 0.0, \"symm_relative_error\": null}, {\"BiGG_ID\": \"GND\", \"author\": \"Khodayari\", \"sample_id\": \"zwf\", \"flux\": 0.016756054451920504, \"normalized_flux\": 0.37803522313847465, \"relative_error\": 100.0, \"symm_relative_error\": 200.0}, {\"BiGG_ID\": \"GND\", \"author\": \"Kurata\", \"sample_id\": \"zwf\", \"flux\": 0.021750084732617244, \"normalized_flux\": 0.0, \"relative_error\": 0.0, \"symm_relative_error\": null}, {\"BiGG_ID\": \"GND\", \"author\": \"Millard\", \"sample_id\": \"zwf\", \"flux\": -0.00024414074242564744, \"normalized_flux\": 0.0, \"relative_error\": 0.0, \"symm_relative_error\": null}, {\"BiGG_ID\": \"GND\", \"author\": \"iML1515\", \"sample_id\": \"zwf\", \"flux\": 0.7184672335769011, \"normalized_flux\": 24.78997937844309, \"relative_error\": 100.0, \"symm_relative_error\": 200.0}, {\"BiGG_ID\": \"ICDHyr\", \"author\": \"Chassagnole\", \"sample_id\": \"zwf\", \"flux\": 0.0, \"normalized_flux\": 0.0, \"relative_error\": 100.0, \"symm_relative_error\": 200.0}, {\"BiGG_ID\": \"ICDHyr\", \"author\": \"Exp_iML1515\", \"sample_id\": \"zwf\", \"flux\": 1.9304999999999992, \"normalized_flux\": 64.48316265392135, \"relative_error\": 15.153733350103483, \"symm_relative_error\": 16.396039395055823}, {\"BiGG_ID\": \"ICDHyr\", \"author\": \"Ishii\", \"sample_id\": \"zwf\", \"flux\": 2.4168, \"normalized_flux\": 76.0, \"relative_error\": 0.0, \"symm_relative_error\": 0.0}, {\"BiGG_ID\": \"ICDHyr\", \"author\": \"Khodayari\", \"sample_id\": \"zwf\", \"flux\": 4.012771289631, \"normalized_flux\": 90.53258296767181, \"relative_error\": 19.12181969430502, \"symm_relative_error\": 17.453140651151678}, {\"BiGG_ID\": \"ICDHyr\", \"author\": \"Kurata\", \"sample_id\": \"zwf\", \"flux\": 304.97976748921377, \"normalized_flux\": 23.513366346237785, \"relative_error\": 69.06136007073975, \"symm_relative_error\": 105.48660060628433}, {\"BiGG_ID\": \"ICDHyr\", \"author\": \"Millard\", \"sample_id\": \"zwf\", \"flux\": 0.2391804716855168, \"normalized_flux\": 59.79511792137106, \"relative_error\": 21.32221326135387, \"symm_relative_error\": 23.866663730889048}, {\"BiGG_ID\": \"ICDHyr\", \"author\": \"iML1515\", \"sample_id\": \"zwf\", \"flux\": 1.1578249072692666, \"normalized_flux\": 39.94956796033307, \"relative_error\": 47.43477899956175, \"symm_relative_error\": 62.18295190543524}, {\"BiGG_ID\": \"ICL\", \"author\": \"Chassagnole\", \"sample_id\": \"zwf\", \"flux\": 0.0, \"normalized_flux\": 0.0, \"relative_error\": 100.0, \"symm_relative_error\": 200.0}, {\"BiGG_ID\": \"ICL\", \"author\": \"Exp_iML1515\", \"sample_id\": \"zwf\", \"flux\": 0.4719000000000064, \"normalized_flux\": 15.762550870958776, \"relative_error\": 41.62018195941194, \"symm_relative_error\": 52.557431211022}, {\"BiGG_ID\": \"ICL\", \"author\": \"Ishii\", \"sample_id\": \"zwf\", \"flux\": 0.8586, \"normalized_flux\": 27.0, \"relative_error\": 0.0, \"symm_relative_error\": 0.0}, {\"BiGG_ID\": \"ICL\", \"author\": \"Khodayari\", \"sample_id\": \"zwf\", \"flux\": 0.46205703457313696, \"normalized_flux\": 10.424520561732681, \"relative_error\": 61.39066458617526, \"symm_relative_error\": 88.58085121451671}, {\"BiGG_ID\": \"ICL\", \"author\": \"Kurata\", \"sample_id\": \"zwf\", \"flux\": 428.00207424523063, \"normalized_flux\": 32.998154767868975, \"relative_error\": 22.215388029144354, \"symm_relative_error\": 19.99446413335761}, {\"BiGG_ID\": \"ICL\", \"author\": \"Millard\", \"sample_id\": \"zwf\", \"flux\": 0.08425499634804706, \"normalized_flux\": 21.0637490870089, \"relative_error\": 21.986114492559626, \"symm_relative_error\": 24.701572497995596}, {\"BiGG_ID\": \"ICL\", \"author\": \"iML1515\", \"sample_id\": \"zwf\", \"flux\": 0.0, \"normalized_flux\": 0.0, \"relative_error\": 100.0, \"symm_relative_error\": 200.0}, {\"BiGG_ID\": \"MALS\", \"author\": \"Chassagnole\", \"sample_id\": \"zwf\", \"flux\": 0.0, \"normalized_flux\": 0.0, \"relative_error\": 100.0, \"symm_relative_error\": 200.0}, {\"BiGG_ID\": \"MALS\", \"author\": \"Exp_iML1515\", \"sample_id\": \"zwf\", \"flux\": 0.4719, \"normalized_flux\": 15.762550870958565, \"relative_error\": 41.62018195941272, \"symm_relative_error\": 52.55743121102325}, {\"BiGG_ID\": \"MALS\", \"author\": \"Ishii\", \"sample_id\": \"zwf\", \"flux\": 0.8586, \"normalized_flux\": 27.0, \"relative_error\": 0.0, \"symm_relative_error\": 0.0}, {\"BiGG_ID\": \"MALS\", \"author\": \"Khodayari\", \"sample_id\": \"zwf\", \"flux\": 0.42841699504855946, \"normalized_flux\": 9.665563858378022, \"relative_error\": 64.20161533934066, \"symm_relative_error\": 94.55431373469025}, {\"BiGG_ID\": \"MALS\", \"author\": \"Kurata\", \"sample_id\": \"zwf\", \"flux\": 428.0020351923898, \"normalized_flux\": 32.99815175696842, \"relative_error\": 22.21537687766081, \"symm_relative_error\": 19.994455100099877}, {\"BiGG_ID\": \"MALS\", \"author\": \"Millard\", \"sample_id\": \"zwf\", \"flux\": 0.08425499634808158, \"normalized_flux\": 21.06374908701753, \"relative_error\": 21.986114492527665, \"symm_relative_error\": 24.70157249795525}, {\"BiGG_ID\": \"MALS\", \"author\": \"iML1515\", \"sample_id\": \"zwf\", \"flux\": 0.00012710999998843654, \"normalized_flux\": 0.0, \"relative_error\": 100.0, \"symm_relative_error\": 200.0}, {\"BiGG_ID\": \"MDH\", \"author\": \"Chassagnole\", \"sample_id\": \"zwf\", \"flux\": 0.0, \"normalized_flux\": 0.0, \"relative_error\": 100.0, \"symm_relative_error\": 200.0}, {\"BiGG_ID\": \"MDH\", \"author\": \"Exp_iML1515\", \"sample_id\": \"zwf\", \"flux\": 2.4739, \"normalized_flux\": 82.63397880835852, \"relative_error\": 28.144366253601287, \"symm_relative_error\": 32.75349854998986}, {\"BiGG_ID\": \"MDH\", \"author\": \"Ishii\", \"sample_id\": \"zwf\", \"flux\": 3.657, \"normalized_flux\": 115.0, \"relative_error\": 0.0, \"symm_relative_error\": 0.0}, {\"BiGG_ID\": \"MDH\", \"author\": \"Khodayari\", \"sample_id\": \"zwf\", \"flux\": 6.1481240601520994, \"normalized_flux\": 138.70851623403703, \"relative_error\": 20.616101073075683, \"symm_relative_error\": 18.689570682102588}, {\"BiGG_ID\": \"MDH\", \"author\": \"Kurata\", \"sample_id\": \"zwf\", \"flux\": 1021.982176243235, \"normalized_flux\": 78.79290323802353, \"relative_error\": 31.484431966936064, \"symm_relative_error\": 37.366793269519874}, {\"BiGG_ID\": \"MDH\", \"author\": \"Millard\", \"sample_id\": \"zwf\", \"flux\": 0.35252785010746734, \"normalized_flux\": 88.13196252685485, \"relative_error\": 23.363510846213174, \"symm_relative_error\": 26.453776292928875}, {\"BiGG_ID\": \"MDH\", \"author\": \"iML1515\", \"sample_id\": \"zwf\", \"flux\": 1.0753633328462036, \"normalized_flux\": 37.10431540889172, \"relative_error\": 67.73537790531154, \"symm_relative_error\": 102.42402969528719}, {\"BiGG_ID\": \"PDH\", \"author\": \"Chassagnole\", \"sample_id\": \"zwf\", \"flux\": 0.18902775054168106, \"normalized_flux\": 94.3377606875493, \"relative_error\": 39.52707648234019, \"symm_relative_error\": 49.263234713849144}, {\"BiGG_ID\": \"PDH\", \"author\": \"Exp_iML1515\", \"sample_id\": \"zwf\", \"flux\": 3.6608, \"normalized_flux\": 122.2791825141028, \"relative_error\": 21.6159086448059, \"symm_relative_error\": 24.235242594323978}, {\"BiGG_ID\": \"PDH\", \"author\": \"Ishii\", \"sample_id\": \"zwf\", \"flux\": 4.9608, \"normalized_flux\": 156.0, \"relative_error\": 0.0, \"symm_relative_error\": 0.0}, {\"BiGG_ID\": \"PDH\", \"author\": \"Khodayari\", \"sample_id\": \"zwf\", \"flux\": 5.525177673516737, \"normalized_flux\": 124.65415296189964, \"relative_error\": 20.093491691089973, \"symm_relative_error\": 22.33770404413416}, {\"BiGG_ID\": \"PDH\", \"author\": \"Kurata\", \"sample_id\": \"zwf\", \"flux\": 1172.7396355765563, \"normalized_flux\": 90.4160197480648, \"relative_error\": 42.04101298200975, \"symm_relative_error\": 53.230289425978164}, {\"BiGG_ID\": \"PDH\", \"author\": \"Millard\", \"sample_id\": \"zwf\", \"flux\": 0.534215762209027, \"normalized_flux\": 133.55394055223857, \"relative_error\": 14.388499646000916, \"symm_relative_error\": 15.503888087278108}, {\"BiGG_ID\": \"PDH\", \"author\": \"iML1515\", \"sample_id\": \"zwf\", \"flux\": 3.4932627232307296, \"normalized_flux\": 120.5314686951618, \"relative_error\": 22.73623801592192, \"symm_relative_error\": 25.652437657239947}, {\"BiGG_ID\": \"PGI\", \"author\": \"Chassagnole\", \"sample_id\": \"zwf\", \"flux\": 0.1954214175880717, \"normalized_flux\": 97.52863731814894, \"relative_error\": 1.486224931162689, \"symm_relative_error\": 1.4973519400830704}, {\"BiGG_ID\": \"PGI\", \"author\": \"Exp_iML1515\", \"sample_id\": \"zwf\", \"flux\": 2.3595, \"normalized_flux\": 78.81275435479282, \"relative_error\": 20.391157217380997, \"symm_relative_error\": 22.706184062507948}, {\"BiGG_ID\": \"PGI\", \"author\": \"Ishii\", \"sample_id\": \"zwf\", \"flux\": 3.1482, \"normalized_flux\": 99.0, \"relative_error\": 0.0, \"symm_relative_error\": 0.0}, {\"BiGG_ID\": \"PGI\", \"author\": \"Khodayari\", \"sample_id\": \"zwf\", \"flux\": 4.391612069589485, \"normalized_flux\": 99.07965227903615, \"relative_error\": 0.08045684751126624, \"symm_relative_error\": 0.08042449400501457}, {\"BiGG_ID\": \"PGI\", \"author\": \"Kurata\", \"sample_id\": \"zwf\", \"flux\": 1284.1272747974756, \"normalized_flux\": 99.00379718984762, \"relative_error\": 0.003835545300623467, \"symm_relative_error\": 0.003835471744995332}, {\"BiGG_ID\": \"PGI\", \"author\": \"Millard\", \"sample_id\": \"zwf\", \"flux\": 0.3930704672895005, \"normalized_flux\": 98.26761682236175, \"relative_error\": 0.7397809875133886, \"symm_relative_error\": 0.7425275262465013}, {\"BiGG_ID\": \"PGI\", \"author\": \"iML1515\", \"sample_id\": \"zwf\", \"flux\": 2.179749108634609, \"normalized_flux\": 75.21002062155691, \"relative_error\": 24.03028220044757, \"symm_relative_error\": 27.311838083209896}, {\"BiGG_ID\": \"PGM\", \"author\": \"Chassagnole\", \"sample_id\": \"zwf\", \"flux\": 0.3331742311204792, \"normalized_flux\": 166.27670166223248, \"relative_error\": 2.762162770624279, \"symm_relative_error\": 2.80084471562325}, {\"BiGG_ID\": \"PGM\", \"author\": \"Exp_iML1515\", \"sample_id\": \"zwf\", \"flux\": 4.6332, \"normalized_flux\": 154.75959036941137, \"relative_error\": 9.497315573443643, \"symm_relative_error\": 9.970794482011721}, {\"BiGG_ID\": \"PGM\", \"author\": \"Ishii\", \"sample_id\": \"zwf\", \"flux\": 5.4378, \"normalized_flux\": 171.0, \"relative_error\": 0.0, \"symm_relative_error\": 0.0}, {\"BiGG_ID\": \"PGM\", \"author\": \"Khodayari\", \"sample_id\": \"zwf\", \"flux\": 3.626194672989774, \"normalized_flux\": 81.81098457758468, \"relative_error\": 52.15731896047679, \"symm_relative_error\": 70.55786406705305}, {\"BiGG_ID\": \"PGM\", \"author\": \"Kurata\", \"sample_id\": \"zwf\", \"flux\": 1560.8666548032643, \"normalized_flux\": 120.33988278686007, \"relative_error\": 29.625799539847907, \"symm_relative_error\": 34.777330675458614}, {\"BiGG_ID\": \"PGM\", \"author\": \"Millard\", \"sample_id\": \"zwf\", \"flux\": 0.6596336766715012, \"normalized_flux\": 164.90841916785288, \"relative_error\": 3.5623279720158574, \"symm_relative_error\": 3.6269295346855612}, {\"BiGG_ID\": \"PGM\", \"author\": \"iML1515\", \"sample_id\": \"zwf\", \"flux\": 4.773356373230729, \"normalized_flux\": 164.69979496383544, \"relative_error\": 3.684330430505588, \"symm_relative_error\": 3.7534756533546707}, {\"BiGG_ID\": \"PPC\", \"author\": \"Chassagnole\", \"sample_id\": \"zwf\", \"flux\": 0.06496245091008074, \"normalized_flux\": 32.42070082339861, \"relative_error\": 100.0, \"symm_relative_error\": 200.0}, {\"BiGG_ID\": \"PPC\", \"author\": \"Exp_iML1515\", \"sample_id\": \"zwf\", \"flux\": 0.5048494027991225, \"normalized_flux\": 16.863137092168294, \"relative_error\": 100.0, \"symm_relative_error\": 200.0}, {\"BiGG_ID\": \"PPC\", \"author\": \"Ishii\", \"sample_id\": \"zwf\", \"flux\": 0.0, \"normalized_flux\": 0.0, \"relative_error\": 0.0, \"symm_relative_error\": null}, {\"BiGG_ID\": \"PPC\", \"author\": \"Khodayari\", \"sample_id\": \"zwf\", \"flux\": -1.8239678901639984, \"normalized_flux\": -41.1507440689016, \"relative_error\": 100.0, \"symm_relative_error\": 200.0}, {\"BiGG_ID\": \"PPC\", \"author\": \"Kurata\", \"sample_id\": \"zwf\", \"flux\": 210.23029539462578, \"normalized_flux\": 16.20836029021646, \"relative_error\": 100.0, \"symm_relative_error\": 200.0}, {\"BiGG_ID\": \"PPC\", \"author\": \"Millard\", \"sample_id\": \"zwf\", \"flux\": 0.1114926655781964, \"normalized_flux\": 27.873166394545308, \"relative_error\": 100.0, \"symm_relative_error\": 199.99999999999997}, {\"BiGG_ID\": \"PPC\", \"author\": \"iML1515\", \"sample_id\": \"zwf\", \"flux\": 0.6387479444230589, \"normalized_flux\": 22.03934658430836, \"relative_error\": 100.0, \"symm_relative_error\": 200.0}, {\"BiGG_ID\": \"PTAr\", \"author\": \"Chassagnole\", \"sample_id\": \"zwf\", \"flux\": 0.0, \"normalized_flux\": 0.0, \"relative_error\": 0.0, \"symm_relative_error\": null}, {\"BiGG_ID\": \"PTAr\", \"author\": \"Exp_iML1515\", \"sample_id\": \"zwf\", \"flux\": 0.0, \"normalized_flux\": 0.0, \"relative_error\": 0.0, \"symm_relative_error\": null}, {\"BiGG_ID\": \"PTAr\", \"author\": \"Ishii\", \"sample_id\": \"zwf\", \"flux\": 0.0, \"normalized_flux\": 0.0, \"relative_error\": 0.0, \"symm_relative_error\": null}, {\"BiGG_ID\": \"PTAr\", \"author\": \"Khodayari\", \"sample_id\": \"zwf\", \"flux\": -0.025843622454323548, \"normalized_flux\": -0.5830608637170505, \"relative_error\": 100.0, \"symm_relative_error\": 200.0}, {\"BiGG_ID\": \"PTAr\", \"author\": \"Kurata\", \"sample_id\": \"zwf\", \"flux\": 33.75475500232294, \"normalized_flux\": 2.6024281113178827, \"relative_error\": 100.0, \"symm_relative_error\": 199.99999999999997}, {\"BiGG_ID\": \"PTAr\", \"author\": \"Millard\", \"sample_id\": \"zwf\", \"flux\": 0.028018233775254, \"normalized_flux\": 7.004558443812547, \"relative_error\": 100.0, \"symm_relative_error\": 200.0}, {\"BiGG_ID\": \"PTAr\", \"author\": \"iML1515\", \"sample_id\": \"zwf\", \"flux\": 1.6230463059614766, \"normalized_flux\": 56.0015580038789, \"relative_error\": 100.0, \"symm_relative_error\": 200.0}, {\"BiGG_ID\": \"PYK\", \"author\": \"Chassagnole\", \"sample_id\": \"zwf\", \"flux\": 0.03900967608715841, \"normalized_flux\": 19.468493259129684, \"relative_error\": 71.36986285422104, \"symm_relative_error\": 110.96911569539296}, {\"BiGG_ID\": \"PYK\", \"author\": \"Exp_iML1515\", \"sample_id\": \"zwf\", \"flux\": 1.507016454401863, \"normalized_flux\": 50.337833282222874, \"relative_error\": 25.973774584966364, \"symm_relative_error\": 29.850414238453695}, {\"BiGG_ID\": \"PYK\", \"author\": \"Ishii\", \"sample_id\": \"zwf\", \"flux\": 2.1624, \"normalized_flux\": 68.0, \"relative_error\": 0.0, \"symm_relative_error\": 0.0}, {\"BiGG_ID\": \"PYK\", \"author\": \"Khodayari\", \"sample_id\": \"zwf\", \"flux\": 0.6513002033616635, \"normalized_flux\": 14.694056910261496, \"relative_error\": 78.39109277902722, \"symm_relative_error\": 128.92327473444774}, {\"BiGG_ID\": \"PYK\", \"author\": \"Kurata\", \"sample_id\": \"zwf\", \"flux\": 22.326814265844135, \"normalized_flux\": 1.7213553787490776, \"relative_error\": 97.46859503125135, \"symm_relative_error\": 190.12437225640195}, {\"BiGG_ID\": \"PYK\", \"author\": \"Millard\", \"sample_id\": \"zwf\", \"flux\": 0.2109125526296484, \"normalized_flux\": 52.72813815740493, \"relative_error\": 22.458620356757457, \"symm_relative_error\": 25.29958976536799}, {\"BiGG_ID\": \"PYK\", \"author\": \"iML1515\", \"sample_id\": \"zwf\", \"flux\": 0.6420345491538701, \"normalized_flux\": 22.15274752967405, \"relative_error\": 67.42243010342052, \"symm_relative_error\": 101.71016131313179}, {\"BiGG_ID\": \"RPE\", \"author\": \"Chassagnole\", \"sample_id\": \"zwf\", \"flux\": -0.011568109503020558, \"normalized_flux\": -5.773276901280598, \"relative_error\": 215.46553802561195, \"symm_relative_error\": 200.00000000000003}, {\"BiGG_ID\": \"RPE\", \"author\": \"Exp_iML1515\", \"sample_id\": \"zwf\", \"flux\": 0.1354372399999902, \"normalized_flux\": 4.523916900449393, \"relative_error\": 9.521661991012138, \"symm_relative_error\": 9.997632371784817}, {\"BiGG_ID\": \"RPE\", \"author\": \"Ishii\", \"sample_id\": \"zwf\", \"flux\": 0.159, \"normalized_flux\": 5.0, \"relative_error\": 0.0, \"symm_relative_error\": 0.0}, {\"BiGG_ID\": \"RPE\", \"author\": \"Khodayari\", \"sample_id\": \"zwf\", \"flux\": -0.015622996709630854, \"normalized_flux\": -0.35247218037895733, \"relative_error\": 107.04944360757915, \"symm_relative_error\": 200.0}, {\"BiGG_ID\": \"RPE\", \"author\": \"Kurata\", \"sample_id\": \"zwf\", \"flux\": -14.789399586654842, \"normalized_flux\": -1.140234886349344, \"relative_error\": 122.80469772698687, \"symm_relative_error\": 200.0}, {\"BiGG_ID\": \"RPE\", \"author\": \"Millard\", \"sample_id\": \"zwf\", \"flux\": -0.0244161250119136, \"normalized_flux\": -6.1040312529775695, \"relative_error\": 222.0806250595514, \"symm_relative_error\": 200.0}, {\"BiGG_ID\": \"RPE\", \"author\": \"iML1515\", \"sample_id\": \"zwf\", \"flux\": 0.3315610823846017, \"normalized_flux\": 11.440177103259346, \"relative_error\": 128.80354206518692, \"symm_relative_error\": 78.34680931731022}, {\"BiGG_ID\": \"RPI\", \"author\": \"Chassagnole\", \"sample_id\": \"zwf\", \"flux\": 0.01156494920890871, \"normalized_flux\": 5.7716996986277, \"relative_error\": 15.433993972553992, \"symm_relative_error\": 14.3282809624931}, {\"BiGG_ID\": \"RPI\", \"author\": \"Exp_iML1515\", \"sample_id\": \"zwf\", \"flux\": 0.31459999999999705, \"normalized_flux\": 10.508367247305609, \"relative_error\": 110.16734494611218, \"symm_relative_error\": 71.03735885881372}, {\"BiGG_ID\": \"RPI\", \"author\": \"Ishii\", \"sample_id\": \"zwf\", \"flux\": 0.159, \"normalized_flux\": 5.0, \"relative_error\": 0.0, \"symm_relative_error\": 0.0}, {\"BiGG_ID\": \"RPI\", \"author\": \"Khodayari\", \"sample_id\": \"zwf\", \"flux\": 0.03494174797574301, \"normalized_flux\": 0.7883246936658392, \"relative_error\": 84.23350612668322, \"symm_relative_error\": 145.52311866481836}, {\"BiGG_ID\": \"RPI\", \"author\": \"Kurata\", \"sample_id\": \"zwf\", \"flux\": 14.7949409842756, \"normalized_flux\": 1.1406621176814407, \"relative_error\": 77.18675764637119, \"symm_relative_error\": 125.69777683113261}, {\"BiGG_ID\": \"RPI\", \"author\": \"Millard\", \"sample_id\": \"zwf\", \"flux\": 0.024171984271597828, \"normalized_flux\": 6.042996067898635, \"relative_error\": 20.859921357972695, \"symm_relative_error\": 18.889729951649}, {\"BiGG_ID\": \"RPI\", \"author\": \"iML1515\", \"sample_id\": \"zwf\", \"flux\": 0.3793433911922993, \"normalized_flux\": 13.088856952025807, \"relative_error\": 161.77713904051615, \"symm_relative_error\": 89.43469422615917}, {\"BiGG_ID\": \"SUCDi\", \"author\": \"Chassagnole\", \"sample_id\": \"zwf\", \"flux\": 0.0, \"normalized_flux\": 0.0, \"relative_error\": 100.0, \"symm_relative_error\": 200.0}, {\"BiGG_ID\": \"SUCDi\", \"author\": \"Exp_iML1515\", \"sample_id\": \"zwf\", \"flux\": 2.1736, \"normalized_flux\": 72.60326461774852, \"relative_error\": 23.575510928685766, \"symm_relative_error\": 26.725893953595165}, {\"BiGG_ID\": \"SUCDi\", \"author\": \"Ishii\", \"sample_id\": \"zwf\", \"flux\": 3.0210000000000004, \"normalized_flux\": 95.0, \"relative_error\": 0.0, \"symm_relative_error\": 0.0}, {\"BiGG_ID\": \"SUCDi\", \"author\": \"Khodayari\", \"sample_id\": \"zwf\", \"flux\": 5.106444639174953, \"normalized_flux\": 115.20707002676966, \"relative_error\": 21.270600028178585, \"symm_relative_error\": 19.225870970178413}, {\"BiGG_ID\": \"SUCDi\", \"author\": \"Kurata\", \"sample_id\": \"zwf\", \"flux\": 703.2852518568542, \"normalized_flux\": 54.22196989969562, \"relative_error\": 42.924242210846714, \"symm_relative_error\": 54.65419083760206}, {\"BiGG_ID\": \"SUCDi\", \"author\": \"Millard\", \"sample_id\": \"zwf\", \"flux\": 0.28699568390003993, \"normalized_flux\": 71.74892097500022, \"relative_error\": 24.474820026315562, \"symm_relative_error\": 27.887531612256364}, {\"BiGG_ID\": \"SUCDi\", \"author\": \"iML1515\", \"sample_id\": \"zwf\", \"flux\": 0.9536469172692664, \"normalized_flux\": 32.90461458586551, \"relative_error\": 65.36356359382577, \"symm_relative_error\": 97.09639580274616}, {\"BiGG_ID\": \"TALA\", \"author\": \"Chassagnole\", \"sample_id\": \"zwf\", \"flux\": 0.0010098897557161868, \"normalized_flux\": 0.5040039773131291, \"relative_error\": 49.59960226868709, \"symm_relative_error\": 65.95674348853215}, {\"BiGG_ID\": \"TALA\", \"author\": \"Exp_iML1515\", \"sample_id\": \"zwf\", \"flux\": 0.10683723999999156, \"normalized_flux\": 3.568610787058012, \"relative_error\": 256.8610787058012, \"symm_relative_error\": 112.44603258103703}, {\"BiGG_ID\": \"TALA\", \"author\": \"Ishii\", \"sample_id\": \"zwf\", \"flux\": 0.0318, \"normalized_flux\": 1.0, \"relative_error\": 0.0, \"symm_relative_error\": 0.0}, {\"BiGG_ID\": \"TALA\", \"author\": \"Khodayari\", \"sample_id\": \"zwf\", \"flux\": 0.009885490708256839, \"normalized_flux\": 0.22302766420652603, \"relative_error\": 77.6972335793474, \"symm_relative_error\": 127.05719723806196}, {\"BiGG_ID\": \"TALA\", \"author\": \"Kurata\", \"sample_id\": \"zwf\", \"flux\": 2.9255501710857597, \"normalized_flux\": 0.22555441465300144, \"relative_error\": 77.44455853469987, \"symm_relative_error\": 126.38289676697416}, {\"BiGG_ID\": \"TALA\", \"author\": \"Millard\", \"sample_id\": \"zwf\", \"flux\": -0.006114852699141283, \"normalized_flux\": -1.5287131747851128, \"relative_error\": 252.8713174785113, \"symm_relative_error\": 200.0}, {\"BiGG_ID\": \"TALA\", \"author\": \"iML1515\", \"sample_id\": \"zwf\", \"flux\": 5.551115123125783e-17, \"normalized_flux\": 0.0, \"relative_error\": 100.0, \"symm_relative_error\": 200.0}, {\"BiGG_ID\": \"TKT1\", \"author\": \"Chassagnole\", \"sample_id\": \"zwf\", \"flux\": 0.0010176650026503613, \"normalized_flux\": 0.5078843566884369, \"relative_error\": 49.21156433115631, \"symm_relative_error\": 65.27233220886122}, {\"BiGG_ID\": \"TKT1\", \"author\": \"Exp_iML1515\", \"sample_id\": \"zwf\", \"flux\": 0.10683723999999856, \"normalized_flux\": 3.5686107870582457, \"relative_error\": 256.8610787058246, \"symm_relative_error\": 112.44603258104151}, {\"BiGG_ID\": \"TKT1\", \"author\": \"Ishii\", \"sample_id\": \"zwf\", \"flux\": 0.0318, \"normalized_flux\": 1.0, \"relative_error\": 0.0, \"symm_relative_error\": 0.0}, {\"BiGG_ID\": \"TKT1\", \"author\": \"Khodayari\", \"sample_id\": \"zwf\", \"flux\": -0.004905628830415676, \"normalized_flux\": -0.11067644205036407, \"relative_error\": 111.0676442050364, \"symm_relative_error\": 200.0}, {\"BiGG_ID\": \"TKT1\", \"author\": \"Kurata\", \"sample_id\": \"zwf\", \"flux\": 2.9483898493753227, \"normalized_flux\": 0.22731531088318072, \"relative_error\": 77.26846891168194, \"symm_relative_error\": 125.91461741983689}, {\"BiGG_ID\": \"TKT1\", \"author\": \"Millard\", \"sample_id\": \"zwf\", \"flux\": -0.018301272308589626, \"normalized_flux\": -4.575318077146784, \"relative_error\": 557.5318077146784, \"symm_relative_error\": 200.0}, {\"BiGG_ID\": \"TKT1\", \"author\": \"iML1515\", \"sample_id\": \"zwf\", \"flux\": 0.20200803119230093, \"normalized_flux\": 6.970081158198041, \"relative_error\": 597.0081158198041, \"symm_relative_error\": 149.81230528768717}, {\"BiGG_ID\": \"TPI\", \"author\": \"Chassagnole\", \"sample_id\": \"zwf\", \"flux\": 0.18070074219327614, \"normalized_flux\": 90.1820146737288, \"relative_error\": 3.0300917486787085, \"symm_relative_error\": 3.076705244551874}, {\"BiGG_ID\": \"TPI\", \"author\": \"Exp_iML1515\", \"sample_id\": \"zwf\", \"flux\": 2.4738999999999978, \"normalized_flux\": 82.63397880835845, \"relative_error\": 11.14625934585113, \"symm_relative_error\": 11.80411815751478}, {\"BiGG_ID\": \"TPI\", \"author\": \"Ishii\", \"sample_id\": \"zwf\", \"flux\": 2.9574, \"normalized_flux\": 93.0, \"relative_error\": 0.0, \"symm_relative_error\": 0.0}, {\"BiGG_ID\": \"TPI\", \"author\": \"Khodayari\", \"sample_id\": \"zwf\", \"flux\": 4.929424650887341, \"normalized_flux\": 111.21330222395572, \"relative_error\": 19.584195939737338, \"symm_relative_error\": 17.8375277473175}, {\"BiGG_ID\": \"TPI\", \"author\": \"Kurata\", \"sample_id\": \"zwf\", \"flux\": 1560.8666548032643, \"normalized_flux\": 120.33988278686007, \"relative_error\": 29.39772342673126, \"symm_relative_error\": 25.630353246396343}, {\"BiGG_ID\": \"TPI\", \"author\": \"Millard\", \"sample_id\": \"zwf\", \"flux\": 0.366264848244331, \"normalized_flux\": 91.56621206107029, \"relative_error\": 1.5417074612147434, \"symm_relative_error\": 1.5536840930075453}, {\"BiGG_ID\": \"TPI\", \"author\": \"iML1515\", \"sample_id\": \"zwf\", \"flux\": 2.4665093310192114, \"normalized_flux\": 85.10438972741142, \"relative_error\": 8.489903518912456, \"symm_relative_error\": 8.866272509816078}]}}, {\"mode\": \"vega-lite\"});\n",
       "</script>"
      ],
      "text/plain": [
       "alt.Chart(...)"
      ]
     },
     "execution_count": 21,
     "metadata": {},
     "output_type": "execute_result"
    }
   ],
   "source": [
    "heatmap(x_rel_error, sample_id = \"zwf\")"
   ]
  },
  {
   "cell_type": "code",
   "execution_count": 25,
   "metadata": {},
   "outputs": [
    {
     "data": {
      "text/html": [
       "\n",
       "<div id=\"altair-viz-8cd4066709d64a45a57c3351095ede10\"></div>\n",
       "<script type=\"text/javascript\">\n",
       "  (function(spec, embedOpt){\n",
       "    const outputDiv = document.getElementById(\"altair-viz-8cd4066709d64a45a57c3351095ede10\");\n",
       "    const paths = {\n",
       "      \"vega\": \"https://cdn.jsdelivr.net/npm//vega@5?noext\",\n",
       "      \"vega-lib\": \"https://cdn.jsdelivr.net/npm//vega-lib?noext\",\n",
       "      \"vega-lite\": \"https://cdn.jsdelivr.net/npm//vega-lite@4.0.2?noext\",\n",
       "      \"vega-embed\": \"https://cdn.jsdelivr.net/npm//vega-embed@6?noext\",\n",
       "    };\n",
       "\n",
       "    function loadScript(lib) {\n",
       "      return new Promise(function(resolve, reject) {\n",
       "        var s = document.createElement('script');\n",
       "        s.src = paths[lib];\n",
       "        s.async = true;\n",
       "        s.onload = () => resolve(paths[lib]);\n",
       "        s.onerror = () => reject(`Error loading script: ${paths[lib]}`);\n",
       "        document.getElementsByTagName(\"head\")[0].appendChild(s);\n",
       "      });\n",
       "    }\n",
       "\n",
       "    function showError(err) {\n",
       "      outputDiv.innerHTML = `<div class=\"error\" style=\"color:red;\">${err}</div>`;\n",
       "      throw err;\n",
       "    }\n",
       "\n",
       "    function displayChart(vegaEmbed) {\n",
       "      vegaEmbed(outputDiv, spec, embedOpt)\n",
       "        .catch(err => showError(`Javascript Error: ${err.message}<br>This usually means there's a typo in your chart specification. See the javascript console for the full traceback.`));\n",
       "    }\n",
       "\n",
       "    if(typeof define === \"function\" && define.amd) {\n",
       "      requirejs.config({paths});\n",
       "      require([\"vega-embed\"], displayChart, err => showError(`Error loading script: ${err.message}`));\n",
       "    } else if (typeof vegaEmbed === \"function\") {\n",
       "      displayChart(vegaEmbed);\n",
       "    } else {\n",
       "      loadScript(\"vega\")\n",
       "        .then(() => loadScript(\"vega-lite\"))\n",
       "        .then(() => loadScript(\"vega-embed\"))\n",
       "        .catch(showError)\n",
       "        .then(() => displayChart(vegaEmbed));\n",
       "    }\n",
       "  })({\"config\": {\"view\": {\"continuousWidth\": 400, \"continuousHeight\": 300}, \"mark\": {\"invalid\": null}}, \"data\": {\"name\": \"data-1edc7d70c2d1ae0e417e0942d1901c6c\"}, \"mark\": \"rect\", \"encoding\": {\"color\": {\"type\": \"quantitative\", \"condition\": {\"value\": \"lightgrey\", \"test\": \"datum.relative_error === null\"}, \"field\": \"relative_error\", \"scale\": {\"domain\": [0, 25, 50, 75, 100, 200, 300], \"scheme\": \"greenblue\", \"type\": \"threshold\"}, \"title\": \"relative error (clipped at 300)\"}, \"tooltip\": [{\"type\": \"nominal\", \"field\": \"sample_id\"}, {\"type\": \"nominal\", \"field\": \"BiGG_ID\"}, {\"type\": \"quantitative\", \"field\": \"relative_error\"}, {\"type\": \"quantitative\", \"field\": \"normalized_flux\"}], \"x\": {\"type\": \"nominal\", \"field\": \"sample_id\"}, \"y\": {\"type\": \"nominal\", \"field\": \"BiGG_ID\"}}, \"title\": \"Heatmap for author iML1515\", \"$schema\": \"https://vega.github.io/schema/vega-lite/v4.0.2.json\", \"datasets\": {\"data-1edc7d70c2d1ae0e417e0942d1901c6c\": [{\"BiGG_ID\": \"AKGDH\", \"author\": \"iML1515\", \"sample_id\": \"WT\", \"flux\": 0.8771057428461906, \"normalized_flux\": 30.668032966650017, \"relative_error\": 48.020283107372855, \"symm_relative_error\": 63.193015606548244}, {\"BiGG_ID\": \"AKGDH\", \"author\": \"iML1515\", \"sample_id\": \"fbaA\", \"flux\": 0.8771057428461987, \"normalized_flux\": 30.668032966650305, \"relative_error\": null, \"symm_relative_error\": null}, {\"BiGG_ID\": \"AKGDH\", \"author\": \"iML1515\", \"sample_id\": \"fbaB\", \"flux\": 0.8771057428461906, \"normalized_flux\": 30.668032966650017, \"relative_error\": 47.12408109198273, \"symm_relative_error\": 61.65010346768408}, {\"BiGG_ID\": \"AKGDH\", \"author\": \"iML1515\", \"sample_id\": \"fbp\", \"flux\": 0.8771057428461847, \"normalized_flux\": 30.668032966649818, \"relative_error\": 28.678993100814377, \"symm_relative_error\": 33.47983253179292}, {\"BiGG_ID\": \"AKGDH\", \"author\": \"iML1515\", \"sample_id\": \"glk\", \"flux\": null, \"normalized_flux\": null, \"relative_error\": null, \"symm_relative_error\": null}, {\"BiGG_ID\": \"AKGDH\", \"author\": \"iML1515\", \"sample_id\": \"gnd\", \"flux\": 1.1522634067692643, \"normalized_flux\": 40.03925485074596, \"relative_error\": 52.894994293240046, \"symm_relative_error\": 71.9146082610965}, {\"BiGG_ID\": \"AKGDH\", \"author\": \"iML1515\", \"sample_id\": \"gpmA\", \"flux\": 1.3137795834329564, \"normalized_flux\": 42.676610511759726, \"relative_error\": 33.317796075375426, \"symm_relative_error\": 39.97762843409736}, {\"BiGG_ID\": \"AKGDH\", \"author\": \"iML1515\", \"sample_id\": \"gpmB\", \"flux\": null, \"normalized_flux\": null, \"relative_error\": null, \"symm_relative_error\": null}, {\"BiGG_ID\": \"AKGDH\", \"author\": \"iML1515\", \"sample_id\": \"pfkA\", \"flux\": 0.8771057428461759, \"normalized_flux\": 30.668032966649513, \"relative_error\": 52.08119848961014, \"symm_relative_error\": 70.41863232775306}, {\"BiGG_ID\": \"AKGDH\", \"author\": \"iML1515\", \"sample_id\": \"pfkB\", \"flux\": 0.8771057428461759, \"normalized_flux\": 30.668032966649513, \"relative_error\": 28.678993100815088, \"symm_relative_error\": 33.479832531793896}, {\"BiGG_ID\": \"AKGDH\", \"author\": \"iML1515\", \"sample_id\": \"pgi\", \"flux\": 0.8771057428461877, \"normalized_flux\": 30.412164939168672, \"relative_error\": 7.841924426761598, \"symm_relative_error\": 8.161951459357487}, {\"BiGG_ID\": \"AKGDH\", \"author\": \"iML1515\", \"sample_id\": \"pgl\", \"flux\": 0.9535384272692848, \"normalized_flux\": 32.900871249027105, \"relative_error\": 49.38327500149676, \"symm_relative_error\": 65.5747560597769}, {\"BiGG_ID\": \"AKGDH\", \"author\": \"iML1515\", \"sample_id\": \"pgm\", \"flux\": null, \"normalized_flux\": null, \"relative_error\": null, \"symm_relative_error\": null}, {\"BiGG_ID\": \"AKGDH\", \"author\": \"iML1515\", \"sample_id\": \"ppc\", \"flux\": null, \"normalized_flux\": null, \"relative_error\": null, \"symm_relative_error\": null}, {\"BiGG_ID\": \"AKGDH\", \"author\": \"iML1515\", \"sample_id\": \"ppsA\", \"flux\": 0.8771057428461673, \"normalized_flux\": 30.668032966649214, \"relative_error\": 61.179705105507324, \"symm_relative_error\": 88.14230678879572}, {\"BiGG_ID\": \"AKGDH\", \"author\": \"iML1515\", \"sample_id\": \"pts\", \"flux\": 0.9386111191902529, \"normalized_flux\": 32.46943687125937, \"relative_error\": null, \"symm_relative_error\": null}, {\"BiGG_ID\": \"AKGDH\", \"author\": \"iML1515\", \"sample_id\": \"pykA\", \"flux\": 0.8771057428461906, \"normalized_flux\": 30.668032966650017, \"relative_error\": 46.19643339184207, \"symm_relative_error\": 60.07199236092586}, {\"BiGG_ID\": \"AKGDH\", \"author\": \"iML1515\", \"sample_id\": \"pykF\", \"flux\": 0.8771057428461906, \"normalized_flux\": 30.668032966650017, \"relative_error\": 9.799903039264656, \"symm_relative_error\": 10.304834956301557}, {\"BiGG_ID\": \"AKGDH\", \"author\": \"iML1515\", \"sample_id\": \"rpe\", \"flux\": 1.067577002939473, \"normalized_flux\": 37.16743181410846, \"relative_error\": 57.27881400677188, \"symm_relative_error\": 80.26672929902597}, {\"BiGG_ID\": \"AKGDH\", \"author\": \"iML1515\", \"sample_id\": \"rpiA\", \"flux\": 0.7087112401734842, \"normalized_flux\": 8.82191549659104, \"relative_error\": 87.747339588068, \"symm_relative_error\": 156.33899324267745}, {\"BiGG_ID\": \"AKGDH\", \"author\": \"iML1515\", \"sample_id\": \"rpiB\", \"flux\": 0.7087112401734842, \"normalized_flux\": 8.82191549659104, \"relative_error\": 90.71377316148312, \"symm_relative_error\": 166.0113552927823}, {\"BiGG_ID\": \"AKGDH\", \"author\": \"iML1515\", \"sample_id\": \"sdhCD\", \"flux\": 0.8565688743420102, \"normalized_flux\": 25.387866244966816, \"relative_error\": null, \"symm_relative_error\": null}, {\"BiGG_ID\": \"AKGDH\", \"author\": \"iML1515\", \"sample_id\": \"sucA\", \"flux\": null, \"normalized_flux\": null, \"relative_error\": null, \"symm_relative_error\": null}, {\"BiGG_ID\": \"AKGDH\", \"author\": \"iML1515\", \"sample_id\": \"sucAB\", \"flux\": 0.0, \"normalized_flux\": 0.0, \"relative_error\": null, \"symm_relative_error\": null}, {\"BiGG_ID\": \"AKGDH\", \"author\": \"iML1515\", \"sample_id\": \"talA\", \"flux\": 0.8771057428461878, \"normalized_flux\": 30.66803296664993, \"relative_error\": 59.10928937780009, \"symm_relative_error\": 83.90800091327857}, {\"BiGG_ID\": \"AKGDH\", \"author\": \"iML1515\", \"sample_id\": \"talAB\", \"flux\": null, \"normalized_flux\": null, \"relative_error\": null, \"symm_relative_error\": null}, {\"BiGG_ID\": \"AKGDH\", \"author\": \"iML1515\", \"sample_id\": \"talB\", \"flux\": null, \"normalized_flux\": null, \"relative_error\": null, \"symm_relative_error\": null}, {\"BiGG_ID\": \"AKGDH\", \"author\": \"iML1515\", \"sample_id\": \"tkt1\", \"flux\": null, \"normalized_flux\": null, \"relative_error\": null, \"symm_relative_error\": null}, {\"BiGG_ID\": \"AKGDH\", \"author\": \"iML1515\", \"sample_id\": \"tkt2\", \"flux\": null, \"normalized_flux\": null, \"relative_error\": null, \"symm_relative_error\": null}, {\"BiGG_ID\": \"AKGDH\", \"author\": \"iML1515\", \"sample_id\": \"tktA\", \"flux\": 1.1092000765564916, \"normalized_flux\": 38.58029317127871, \"relative_error\": 68.63390799083031, \"symm_relative_error\": 104.49257786558726}, {\"BiGG_ID\": \"AKGDH\", \"author\": \"iML1515\", \"sample_id\": \"tktB\", \"flux\": 1.1092000765564916, \"normalized_flux\": 38.58029317127871, \"relative_error\": 54.071079558001536, \"symm_relative_error\": 74.10605025272268}, {\"BiGG_ID\": \"AKGDH\", \"author\": \"iML1515\", \"sample_id\": \"tpi\", \"flux\": 0.8771057428461906, \"normalized_flux\": 16.585800837860663, \"relative_error\": null, \"symm_relative_error\": null}, {\"BiGG_ID\": \"AKGDH\", \"author\": \"iML1515\", \"sample_id\": \"zwf\", \"flux\": 0.9535384272692664, \"normalized_flux\": 32.90087124902692, \"relative_error\": 51.61636581025453, \"symm_relative_error\": 69.57150779074482}, {\"BiGG_ID\": \"CS\", \"author\": \"iML1515\", \"sample_id\": \"WT\", \"flux\": 1.081392222846192, \"normalized_flux\": 37.81091688273399, \"relative_error\": 55.25335280149824, \"symm_relative_error\": 76.3449155761449}, {\"BiGG_ID\": \"CS\", \"author\": \"iML1515\", \"sample_id\": \"fbaA\", \"flux\": 1.0813922228462003, \"normalized_flux\": 37.81091688273428, \"relative_error\": null, \"symm_relative_error\": null}, {\"BiGG_ID\": \"CS\", \"author\": \"iML1515\", \"sample_id\": \"fbaB\", \"flux\": 1.0813922228461923, \"normalized_flux\": 37.810916882734006, \"relative_error\": 52.736353896582486, \"symm_relative_error\": 71.62168707889768}, {\"BiGG_ID\": \"CS\", \"author\": \"iML1515\", \"sample_id\": \"fbp\", \"flux\": 1.081392222846192, \"normalized_flux\": 37.81091688273399, \"relative_error\": 53.88912575276342, \"symm_relative_error\": 73.76470236099848}, {\"BiGG_ID\": \"CS\", \"author\": \"iML1515\", \"sample_id\": \"glk\", \"flux\": null, \"normalized_flux\": null, \"relative_error\": null, \"symm_relative_error\": null}, {\"BiGG_ID\": \"CS\", \"author\": \"iML1515\", \"sample_id\": \"gnd\", \"flux\": 1.3565498867692698, \"normalized_flux\": 47.1378734367651, \"relative_error\": 56.35382089188417, \"symm_relative_error\": 78.46198380183752}, {\"BiGG_ID\": \"CS\", \"author\": \"iML1515\", \"sample_id\": \"gpmA\", \"flux\": 1.518066063432953, \"normalized_flux\": 49.312620577464294, \"relative_error\": 38.359224278169634, \"symm_relative_error\": 47.46231154468413}, {\"BiGG_ID\": \"CS\", \"author\": \"iML1515\", \"sample_id\": \"gpmB\", \"flux\": null, \"normalized_flux\": null, \"relative_error\": null, \"symm_relative_error\": null}, {\"BiGG_ID\": \"CS\", \"author\": \"iML1515\", \"sample_id\": \"pfkA\", \"flux\": 1.0813922228462078, \"normalized_flux\": 37.810916882734546, \"relative_error\": 53.889125752762745, \"symm_relative_error\": 73.76470236099722}, {\"BiGG_ID\": \"CS\", \"author\": \"iML1515\", \"sample_id\": \"pfkB\", \"flux\": 1.0813922228462078, \"normalized_flux\": 37.810916882734546, \"relative_error\": 50.24879357534928, \"symm_relative_error\": 67.10970118378661}, {\"BiGG_ID\": \"CS\", \"author\": \"iML1515\", \"sample_id\": \"pgi\", \"flux\": 1.081392222846192, \"normalized_flux\": 37.49545469673193, \"relative_error\": 44.03663478099711, \"symm_relative_error\": 56.47048551326284}, {\"BiGG_ID\": \"CS\", \"author\": \"iML1515\", \"sample_id\": \"pgl\", \"flux\": 1.1578249072692852, \"normalized_flux\": 39.949567960333155, \"relative_error\": 54.60276368143959, \"symm_relative_error\": 75.10839279201538}, {\"BiGG_ID\": \"CS\", \"author\": \"iML1515\", \"sample_id\": \"pgm\", \"flux\": null, \"normalized_flux\": null, \"relative_error\": null, \"symm_relative_error\": null}, {\"BiGG_ID\": \"CS\", \"author\": \"iML1515\", \"sample_id\": \"ppc\", \"flux\": null, \"normalized_flux\": null, \"relative_error\": null, \"symm_relative_error\": null}, {\"BiGG_ID\": \"CS\", \"author\": \"iML1515\", \"sample_id\": \"ppsA\", \"flux\": 1.081392222846192, \"normalized_flux\": 37.81091688273399, \"relative_error\": 56.53917599685748, \"symm_relative_error\": 78.82176390624801}, {\"BiGG_ID\": \"CS\", \"author\": \"iML1515\", \"sample_id\": \"pts\", \"flux\": 1.1428975991902688, \"normalized_flux\": 39.536332660577, \"relative_error\": null, \"symm_relative_error\": null}, {\"BiGG_ID\": \"CS\", \"author\": \"iML1515\", \"sample_id\": \"pykA\", \"flux\": 1.081392222846192, \"normalized_flux\": 37.81091688273399, \"relative_error\": 54.44467845453737, \"symm_relative_error\": 74.8096021175456}, {\"BiGG_ID\": \"CS\", \"author\": \"iML1515\", \"sample_id\": \"pykF\", \"flux\": 1.081392222846192, \"normalized_flux\": 37.81091688273399, \"relative_error\": 48.204223448309605, \"symm_relative_error\": 63.51194287924712}, {\"BiGG_ID\": \"CS\", \"author\": \"iML1515\", \"sample_id\": \"rpe\", \"flux\": 1.2718634829394733, \"normalized_flux\": 44.27961556763459, \"relative_error\": 60.108454443572434, \"symm_relative_error\": 85.93579290941024}, {\"BiGG_ID\": \"CS\", \"author\": \"iML1515\", \"sample_id\": \"rpiA\", \"flux\": 0.9129977201734844, \"normalized_flux\": 11.364838426972222, \"relative_error\": 88.52036522528059, \"symm_relative_error\": 158.80993044902695}, {\"BiGG_ID\": \"CS\", \"author\": \"iML1515\", \"sample_id\": \"rpiB\", \"flux\": 0.9129977201734844, \"normalized_flux\": 11.364838426972222, \"relative_error\": 89.66832870275252, \"symm_relative_error\": 162.54322561864345}, {\"BiGG_ID\": \"CS\", \"author\": \"iML1515\", \"sample_id\": \"sdhCD\", \"flux\": 1.0608553543420098, \"normalized_flux\": 31.442718324292144, \"relative_error\": null, \"symm_relative_error\": null}, {\"BiGG_ID\": \"CS\", \"author\": \"iML1515\", \"sample_id\": \"sucA\", \"flux\": null, \"normalized_flux\": null, \"relative_error\": null, \"symm_relative_error\": null}, {\"BiGG_ID\": \"CS\", \"author\": \"iML1515\", \"sample_id\": \"sucAB\", \"flux\": 1.0813922228461927, \"normalized_flux\": 37.39281809838038, \"relative_error\": null, \"symm_relative_error\": null}, {\"BiGG_ID\": \"CS\", \"author\": \"iML1515\", \"sample_id\": \"talA\", \"flux\": 1.0813922228461916, \"normalized_flux\": 37.81091688273398, \"relative_error\": 56.03381757821631, \"symm_relative_error\": 77.84302762721276}, {\"BiGG_ID\": \"CS\", \"author\": \"iML1515\", \"sample_id\": \"talAB\", \"flux\": null, \"normalized_flux\": null, \"relative_error\": null, \"symm_relative_error\": null}, {\"BiGG_ID\": \"CS\", \"author\": \"iML1515\", \"sample_id\": \"talB\", \"flux\": null, \"normalized_flux\": null, \"relative_error\": null, \"symm_relative_error\": null}, {\"BiGG_ID\": \"CS\", \"author\": \"iML1515\", \"sample_id\": \"tkt1\", \"flux\": null, \"normalized_flux\": null, \"relative_error\": null, \"symm_relative_error\": null}, {\"BiGG_ID\": \"CS\", \"author\": \"iML1515\", \"sample_id\": \"tkt2\", \"flux\": null, \"normalized_flux\": null, \"relative_error\": null, \"symm_relative_error\": null}, {\"BiGG_ID\": \"CS\", \"author\": \"iML1515\", \"sample_id\": \"tktA\", \"flux\": 1.3134865565564906, \"normalized_flux\": 45.6858032193815, \"relative_error\": 64.58464866714613, \"symm_relative_error\": 95.38748455246503}, {\"BiGG_ID\": \"CS\", \"author\": \"iML1515\", \"sample_id\": \"tktB\", \"flux\": 1.3134865565564906, \"normalized_flux\": 45.6858032193815, \"relative_error\": 50.34151823980272, \"symm_relative_error\": 67.27519569584648}, {\"BiGG_ID\": \"CS\", \"author\": \"iML1515\", \"sample_id\": \"tpi\", \"flux\": 1.1141717923461976, \"normalized_flux\": 21.06864719304071, \"relative_error\": null, \"symm_relative_error\": null}, {\"BiGG_ID\": \"CS\", \"author\": \"iML1515\", \"sample_id\": \"zwf\", \"flux\": 1.1578249072692666, \"normalized_flux\": 39.94956796033307, \"relative_error\": 61.21401168899702, \"symm_relative_error\": 88.21353284140422}, {\"BiGG_ID\": \"EDA\", \"author\": \"iML1515\", \"sample_id\": \"WT\", \"flux\": 0.0, \"normalized_flux\": 0.0, \"relative_error\": 0.0, \"symm_relative_error\": null}, {\"BiGG_ID\": \"EDA\", \"author\": \"iML1515\", \"sample_id\": \"fbaA\", \"flux\": 0.0, \"normalized_flux\": 0.0, \"relative_error\": null, \"symm_relative_error\": null}, {\"BiGG_ID\": \"EDA\", \"author\": \"iML1515\", \"sample_id\": \"fbaB\", \"flux\": -4.5519144009631426e-15, \"normalized_flux\": 0.0, \"relative_error\": 0.0, \"symm_relative_error\": null}, {\"BiGG_ID\": \"EDA\", \"author\": \"iML1515\", \"sample_id\": \"fbp\", \"flux\": 0.0, \"normalized_flux\": 0.0, \"relative_error\": 0.0, \"symm_relative_error\": null}, {\"BiGG_ID\": \"EDA\", \"author\": \"iML1515\", \"sample_id\": \"glk\", \"flux\": null, \"normalized_flux\": null, \"relative_error\": null, \"symm_relative_error\": null}, {\"BiGG_ID\": \"EDA\", \"author\": \"iML1515\", \"sample_id\": \"gnd\", \"flux\": 0.2751576639230747, \"normalized_flux\": 9.561275455967005, \"relative_error\": 100.0, \"symm_relative_error\": 200.0}, {\"BiGG_ID\": \"EDA\", \"author\": \"iML1515\", \"sample_id\": \"gpmA\", \"flux\": 0.2184534377933748, \"normalized_flux\": 7.096207306937911, \"relative_error\": 100.0, \"symm_relative_error\": 200.0}, {\"BiGG_ID\": \"EDA\", \"author\": \"iML1515\", \"sample_id\": \"gpmB\", \"flux\": null, \"normalized_flux\": null, \"relative_error\": null, \"symm_relative_error\": null}, {\"BiGG_ID\": \"EDA\", \"author\": \"iML1515\", \"sample_id\": \"pfkA\", \"flux\": 0.0, \"normalized_flux\": 0.0, \"relative_error\": 0.0, \"symm_relative_error\": null}, {\"BiGG_ID\": \"EDA\", \"author\": \"iML1515\", \"sample_id\": \"pfkB\", \"flux\": 0.0, \"normalized_flux\": 0.0, \"relative_error\": 0.0, \"symm_relative_error\": null}, {\"BiGG_ID\": \"EDA\", \"author\": \"iML1515\", \"sample_id\": \"pgi\", \"flux\": 0.0, \"normalized_flux\": 0.0, \"relative_error\": 100.0, \"symm_relative_error\": 200.0}, {\"BiGG_ID\": \"EDA\", \"author\": \"iML1515\", \"sample_id\": \"pgl\", \"flux\": 0.0, \"normalized_flux\": 0.0, \"relative_error\": 0.0, \"symm_relative_error\": null}, {\"BiGG_ID\": \"EDA\", \"author\": \"iML1515\", \"sample_id\": \"pgm\", \"flux\": null, \"normalized_flux\": null, \"relative_error\": null, \"symm_relative_error\": null}, {\"BiGG_ID\": \"EDA\", \"author\": \"iML1515\", \"sample_id\": \"ppc\", \"flux\": null, \"normalized_flux\": null, \"relative_error\": null, \"symm_relative_error\": null}, {\"BiGG_ID\": \"EDA\", \"author\": \"iML1515\", \"sample_id\": \"ppsA\", \"flux\": 6.655007284665778e-14, \"normalized_flux\": 0.0, \"relative_error\": 0.0, \"symm_relative_error\": null}, {\"BiGG_ID\": \"EDA\", \"author\": \"iML1515\", \"sample_id\": \"pts\", \"flux\": 0.0, \"normalized_flux\": 0.0, \"relative_error\": null, \"symm_relative_error\": null}, {\"BiGG_ID\": \"EDA\", \"author\": \"iML1515\", \"sample_id\": \"pykA\", \"flux\": 0.0, \"normalized_flux\": 0.0, \"relative_error\": 0.0, \"symm_relative_error\": null}, {\"BiGG_ID\": \"EDA\", \"author\": \"iML1515\", \"sample_id\": \"pykF\", \"flux\": 0.0, \"normalized_flux\": 0.0, \"relative_error\": 0.0, \"symm_relative_error\": null}, {\"BiGG_ID\": \"EDA\", \"author\": \"iML1515\", \"sample_id\": \"rpe\", \"flux\": 0.19047126009330415, \"normalized_flux\": 6.631210257033392, \"relative_error\": 100.0, \"symm_relative_error\": 200.0}, {\"BiGG_ID\": \"EDA\", \"author\": \"iML1515\", \"sample_id\": \"rpiA\", \"flux\": 2.664154604826533, \"normalized_flux\": 33.16293782483304, \"relative_error\": 65.81468912416518, \"symm_relative_error\": 49.51922660182437}, {\"BiGG_ID\": \"EDA\", \"author\": \"iML1515\", \"sample_id\": \"rpiB\", \"flux\": 2.664154604826533, \"normalized_flux\": 33.16293782483304, \"relative_error\": 100.0, \"symm_relative_error\": 200.0}, {\"BiGG_ID\": \"EDA\", \"author\": \"iML1515\", \"sample_id\": \"sdhCD\", \"flux\": 0.0, \"normalized_flux\": 0.0, \"relative_error\": null, \"symm_relative_error\": null}, {\"BiGG_ID\": \"EDA\", \"author\": \"iML1515\", \"sample_id\": \"sucA\", \"flux\": null, \"normalized_flux\": null, \"relative_error\": null, \"symm_relative_error\": null}, {\"BiGG_ID\": \"EDA\", \"author\": \"iML1515\", \"sample_id\": \"sucAB\", \"flux\": 0.0, \"normalized_flux\": 0.0, \"relative_error\": null, \"symm_relative_error\": null}, {\"BiGG_ID\": \"EDA\", \"author\": \"iML1515\", \"sample_id\": \"talA\", \"flux\": 0.0, \"normalized_flux\": 0.0, \"relative_error\": 0.0, \"symm_relative_error\": null}, {\"BiGG_ID\": \"EDA\", \"author\": \"iML1515\", \"sample_id\": \"talAB\", \"flux\": null, \"normalized_flux\": null, \"relative_error\": null, \"symm_relative_error\": null}, {\"BiGG_ID\": \"EDA\", \"author\": \"iML1515\", \"sample_id\": \"talB\", \"flux\": null, \"normalized_flux\": null, \"relative_error\": null, \"symm_relative_error\": null}, {\"BiGG_ID\": \"EDA\", \"author\": \"iML1515\", \"sample_id\": \"tkt1\", \"flux\": null, \"normalized_flux\": null, \"relative_error\": null, \"symm_relative_error\": null}, {\"BiGG_ID\": \"EDA\", \"author\": \"iML1515\", \"sample_id\": \"tkt2\", \"flux\": null, \"normalized_flux\": null, \"relative_error\": null, \"symm_relative_error\": null}, {\"BiGG_ID\": \"EDA\", \"author\": \"iML1515\", \"sample_id\": \"tktA\", \"flux\": 0.23209433371029994, \"normalized_flux\": 8.07272522531234, \"relative_error\": 37.90211365144354, \"symm_relative_error\": 46.76447608939606}, {\"BiGG_ID\": \"EDA\", \"author\": \"iML1515\", \"sample_id\": \"tktB\", \"flux\": 0.23209433371029994, \"normalized_flux\": 8.07272522531234, \"relative_error\": 100.0, \"symm_relative_error\": 200.0}, {\"BiGG_ID\": \"EDA\", \"author\": \"iML1515\", \"sample_id\": \"tpi\", \"flux\": 2.810791195787793e-14, \"normalized_flux\": 0.0, \"relative_error\": null, \"symm_relative_error\": null}, {\"BiGG_ID\": \"EDA\", \"author\": \"iML1515\", \"sample_id\": \"zwf\", \"flux\": 0.0, \"normalized_flux\": 0.0, \"relative_error\": 0.0, \"symm_relative_error\": null}, {\"BiGG_ID\": \"FBA\", \"author\": \"iML1515\", \"sample_id\": \"WT\", \"flux\": 1.1704134588077195, \"normalized_flux\": 40.92354751075943, \"relative_error\": 52.6895404499891, \"symm_relative_error\": 71.53536905789282}, {\"BiGG_ID\": \"FBA\", \"author\": \"iML1515\", \"sample_id\": \"fbaA\", \"flux\": 0.0, \"normalized_flux\": 0.0, \"relative_error\": null, \"symm_relative_error\": null}, {\"BiGG_ID\": \"FBA\", \"author\": \"iML1515\", \"sample_id\": \"fbaB\", \"flux\": 0.0, \"normalized_flux\": 0.0, \"relative_error\": 100.0, \"symm_relative_error\": 200.0}, {\"BiGG_ID\": \"FBA\", \"author\": \"iML1515\", \"sample_id\": \"fbp\", \"flux\": 1.170413458807712, \"normalized_flux\": 40.92354751075917, \"relative_error\": 52.96143964280555, \"symm_relative_error\": 72.03748392822754}, {\"BiGG_ID\": \"FBA\", \"author\": \"iML1515\", \"sample_id\": \"glk\", \"flux\": null, \"normalized_flux\": null, \"relative_error\": null, \"symm_relative_error\": null}, {\"BiGG_ID\": \"FBA\", \"author\": \"iML1515\", \"sample_id\": \"gnd\", \"flux\": 1.1704134588077195, \"normalized_flux\": 40.669939254028, \"relative_error\": 56.268882522550534, \"symm_relative_error\": 78.29742579073564}, {\"BiGG_ID\": \"FBA\", \"author\": \"iML1515\", \"sample_id\": \"gpmA\", \"flux\": 1.1704134588077195, \"normalized_flux\": 38.01952774204271, \"relative_error\": 55.79124681157824, \"symm_relative_error\": 77.37567322100337}, {\"BiGG_ID\": \"FBA\", \"author\": \"iML1515\", \"sample_id\": \"gpmB\", \"flux\": null, \"normalized_flux\": null, \"relative_error\": null, \"symm_relative_error\": null}, {\"BiGG_ID\": \"FBA\", \"author\": \"iML1515\", \"sample_id\": \"pfkA\", \"flux\": 0.0, \"normalized_flux\": 0.0, \"relative_error\": 100.0, \"symm_relative_error\": 200.0}, {\"BiGG_ID\": \"FBA\", \"author\": \"iML1515\", \"sample_id\": \"pfkB\", \"flux\": 0.0, \"normalized_flux\": 0.0, \"relative_error\": 100.0, \"symm_relative_error\": 200.0}, {\"BiGG_ID\": \"FBA\", \"author\": \"iML1515\", \"sample_id\": \"pgi\", \"flux\": 1.1463512928928488, \"normalized_flux\": 39.74780108559872, \"relative_error\": 16.905297310584462, \"symm_relative_error\": 15.587721941505134}, {\"BiGG_ID\": \"FBA\", \"author\": \"iML1515\", \"sample_id\": \"pgl\", \"flux\": 1.1704134588077195, \"normalized_flux\": 40.383923096459, \"relative_error\": 53.04194988783837, \"symm_relative_error\": 72.18651832595164}, {\"BiGG_ID\": \"FBA\", \"author\": \"iML1515\", \"sample_id\": \"pgm\", \"flux\": null, \"normalized_flux\": null, \"relative_error\": null, \"symm_relative_error\": null}, {\"BiGG_ID\": \"FBA\", \"author\": \"iML1515\", \"sample_id\": \"ppc\", \"flux\": null, \"normalized_flux\": null, \"relative_error\": null, \"symm_relative_error\": null}, {\"BiGG_ID\": \"FBA\", \"author\": \"iML1515\", \"sample_id\": \"ppsA\", \"flux\": 1.1704134588077195, \"normalized_flux\": 40.92354751075943, \"relative_error\": 50.093234742976314, \"symm_relative_error\": 66.83252040972081}, {\"BiGG_ID\": \"FBA\", \"author\": \"iML1515\", \"sample_id\": \"pts\", \"flux\": 1.1704134588077195, \"normalized_flux\": 40.488190622347176, \"relative_error\": null, \"symm_relative_error\": null}, {\"BiGG_ID\": \"FBA\", \"author\": \"iML1515\", \"sample_id\": \"pykA\", \"flux\": 1.17041345880772, \"normalized_flux\": 40.92354751075944, \"relative_error\": 51.28149105861971, \"symm_relative_error\": 68.96450404681384}, {\"BiGG_ID\": \"FBA\", \"author\": \"iML1515\", \"sample_id\": \"pykF\", \"flux\": 1.17041345880772, \"normalized_flux\": 40.92354751075944, \"relative_error\": 45.43526998565408, \"symm_relative_error\": 58.79125202940801}, {\"BiGG_ID\": \"FBA\", \"author\": \"iML1515\", \"sample_id\": \"rpe\", \"flux\": 1.1704134588077195, \"normalized_flux\": 40.74765783149517, \"relative_error\": 55.70906757446178, \"symm_relative_error\": 77.21769710402364}, {\"BiGG_ID\": \"FBA\", \"author\": \"iML1515\", \"sample_id\": \"rpiA\", \"flux\": 3.220260723240953, \"normalized_flux\": 40.08525104028078, \"relative_error\": 41.90543327495539, \"symm_relative_error\": 53.01312264302746}, {\"BiGG_ID\": \"FBA\", \"author\": \"iML1515\", \"sample_id\": \"rpiB\", \"flux\": 3.220260723240953, \"normalized_flux\": 40.08525104028078, \"relative_error\": 49.25917589837876, \"symm_relative_error\": 65.35611861212979}, {\"BiGG_ID\": \"FBA\", \"author\": \"iML1515\", \"sample_id\": \"sdhCD\", \"flux\": 1.3417235096761178, \"normalized_flux\": 39.76737659017933, \"relative_error\": null, \"symm_relative_error\": null}, {\"BiGG_ID\": \"FBA\", \"author\": \"iML1515\", \"sample_id\": \"sucA\", \"flux\": null, \"normalized_flux\": null, \"relative_error\": null, \"symm_relative_error\": null}, {\"BiGG_ID\": \"FBA\", \"author\": \"iML1515\", \"sample_id\": \"sucAB\", \"flux\": 1.1704134588077195, \"normalized_flux\": 40.47103043695369, \"relative_error\": null, \"symm_relative_error\": null}, {\"BiGG_ID\": \"FBA\", \"author\": \"iML1515\", \"sample_id\": \"talA\", \"flux\": 1.1704134588077195, \"normalized_flux\": 40.92354751075943, \"relative_error\": 52.96143964280525, \"symm_relative_error\": 72.037483928227}, {\"BiGG_ID\": \"FBA\", \"author\": \"iML1515\", \"sample_id\": \"talAB\", \"flux\": null, \"normalized_flux\": null, \"relative_error\": null, \"symm_relative_error\": null}, {\"BiGG_ID\": \"FBA\", \"author\": \"iML1515\", \"sample_id\": \"talB\", \"flux\": null, \"normalized_flux\": null, \"relative_error\": null, \"symm_relative_error\": null}, {\"BiGG_ID\": \"FBA\", \"author\": \"iML1515\", \"sample_id\": \"tkt1\", \"flux\": null, \"normalized_flux\": null, \"relative_error\": null, \"symm_relative_error\": null}, {\"BiGG_ID\": \"FBA\", \"author\": \"iML1515\", \"sample_id\": \"tkt2\", \"flux\": null, \"normalized_flux\": null, \"relative_error\": null, \"symm_relative_error\": null}, {\"BiGG_ID\": \"FBA\", \"author\": \"iML1515\", \"sample_id\": \"tktA\", \"flux\": 1.1704134588077195, \"normalized_flux\": 40.70942233667653, \"relative_error\": 48.469085649776545, \"symm_relative_error\": 63.97253769320381}, {\"BiGG_ID\": \"FBA\", \"author\": \"iML1515\", \"sample_id\": \"tktB\", \"flux\": 1.1704134588077195, \"normalized_flux\": 40.70942233667653, \"relative_error\": 53.73929279923121, \"symm_relative_error\": 73.4842512766802}, {\"BiGG_ID\": \"FBA\", \"author\": \"iML1515\", \"sample_id\": \"tpi\", \"flux\": 0.0, \"normalized_flux\": 0.0, \"relative_error\": null, \"symm_relative_error\": null}, {\"BiGG_ID\": \"FBA\", \"author\": \"iML1515\", \"sample_id\": \"zwf\", \"flux\": 1.1704134588077195, \"normalized_flux\": 40.38392309645956, \"relative_error\": 56.576426778000474, \"symm_relative_error\": 78.89418107081758}, {\"BiGG_ID\": \"FUM\", \"author\": \"iML1515\", \"sample_id\": \"WT\", \"flux\": 1.0752362228462038, \"normalized_flux\": 37.595672127489635, \"relative_error\": 50.53201035856627, \"symm_relative_error\": 67.61582928865244}, {\"BiGG_ID\": \"FUM\", \"author\": \"iML1515\", \"sample_id\": \"fbaA\", \"flux\": 1.0752362228462031, \"normalized_flux\": 37.595672127489635, \"relative_error\": null, \"symm_relative_error\": null}, {\"BiGG_ID\": \"FUM\", \"author\": \"iML1515\", \"sample_id\": \"fbaB\", \"flux\": 1.0752362228461958, \"normalized_flux\": 37.595672127489365, \"relative_error\": 47.048349116212165, \"symm_relative_error\": 61.52055089874034}, {\"BiGG_ID\": \"FUM\", \"author\": \"iML1515\", \"sample_id\": \"fbp\", \"flux\": 1.0752362228462038, \"normalized_flux\": 37.595672127489635, \"relative_error\": 48.49907927741146, \"symm_relative_error\": 64.02479806207585}, {\"BiGG_ID\": \"FUM\", \"author\": \"iML1515\", \"sample_id\": \"glk\", \"flux\": null, \"normalized_flux\": null, \"relative_error\": null, \"symm_relative_error\": null}, {\"BiGG_ID\": \"FUM\", \"author\": \"iML1515\", \"sample_id\": \"gnd\", \"flux\": 1.3503938867692735, \"normalized_flux\": 46.92396257973967, \"relative_error\": 53.54063110916864, \"symm_relative_error\": 73.11328939164969}, {\"BiGG_ID\": \"FUM\", \"author\": \"iML1515\", \"sample_id\": \"gpmA\", \"flux\": 1.5119100634329603, \"normalized_flux\": 49.11265003626927, \"relative_error\": 31.787986060737122, \"symm_relative_error\": 37.79514354095417}, {\"BiGG_ID\": \"FUM\", \"author\": \"iML1515\", \"sample_id\": \"gpmB\", \"flux\": null, \"normalized_flux\": null, \"relative_error\": null, \"symm_relative_error\": null}, {\"BiGG_ID\": \"FUM\", \"author\": \"iML1515\", \"sample_id\": \"pfkA\", \"flux\": 1.0752362228462076, \"normalized_flux\": 37.595672127489784, \"relative_error\": 48.499079277411255, \"symm_relative_error\": 64.02479806207548}, {\"BiGG_ID\": \"FUM\", \"author\": \"iML1515\", \"sample_id\": \"pfkB\", \"flux\": 1.0752362228462076, \"normalized_flux\": 37.595672127489784, \"relative_error\": 44.71224687133855, \"symm_relative_error\": 57.586314400843776}, {\"BiGG_ID\": \"FUM\", \"author\": \"iML1515\", \"sample_id\": \"pgi\", \"flux\": 1.0752362228462005, \"normalized_flux\": 37.28200576096536, \"relative_error\": 35.72067972247351, \"symm_relative_error\": 43.48773742444091}, {\"BiGG_ID\": \"FUM\", \"author\": \"iML1515\", \"sample_id\": \"pgl\", \"flux\": 1.1516689072693125, \"normalized_flux\": 39.7371614567084, \"relative_error\": 50.3285481791145, \"symm_relative_error\": 67.25203446191405}, {\"BiGG_ID\": \"FUM\", \"author\": \"iML1515\", \"sample_id\": \"pgm\", \"flux\": null, \"normalized_flux\": null, \"relative_error\": null, \"symm_relative_error\": null}, {\"BiGG_ID\": \"FUM\", \"author\": \"iML1515\", \"sample_id\": \"ppc\", \"flux\": null, \"normalized_flux\": null, \"relative_error\": null, \"symm_relative_error\": null}, {\"BiGG_ID\": \"FUM\", \"author\": \"iML1515\", \"sample_id\": \"ppsA\", \"flux\": 1.0752362228462038, \"normalized_flux\": 37.595672127489635, \"relative_error\": 52.41054161077261, \"symm_relative_error\": 71.02206645755682}, {\"BiGG_ID\": \"FUM\", \"author\": \"iML1515\", \"sample_id\": \"pts\", \"flux\": 1.1367415991902745, \"normalized_flux\": 39.323377743154175, \"relative_error\": null, \"symm_relative_error\": null}, {\"BiGG_ID\": \"FUM\", \"author\": \"iML1515\", \"sample_id\": \"pykA\", \"flux\": 1.0752362228461891, \"normalized_flux\": 37.59567212748913, \"relative_error\": 49.19503766555523, \"symm_relative_error\": 65.24326110231557}, {\"BiGG_ID\": \"FUM\", \"author\": \"iML1515\", \"sample_id\": \"pykF\", \"flux\": 1.0752362228461891, \"normalized_flux\": 37.59567212748913, \"relative_error\": 41.256762300798236, \"symm_relative_error\": 51.97923753952222}, {\"BiGG_ID\": \"FUM\", \"author\": \"iML1515\", \"sample_id\": \"rpe\", \"flux\": 1.265707482939492, \"normalized_flux\": 44.065295935779496, \"relative_error\": 58.03305148973381, \"symm_relative_error\": 81.75572145306373}, {\"BiGG_ID\": \"FUM\", \"author\": \"iML1515\", \"sample_id\": \"rpiA\", \"flux\": 0.9068417201734984, \"normalized_flux\": 11.28820959887067, \"relative_error\": 87.73020695774927, \"symm_relative_error\": 156.28461508739682}, {\"BiGG_ID\": \"FUM\", \"author\": \"iML1515\", \"sample_id\": \"rpiB\", \"flux\": 0.9068417201734984, \"normalized_flux\": 11.28820959887067, \"relative_error\": 89.1459523087782, \"symm_relative_error\": 160.8348168884002}, {\"BiGG_ID\": \"FUM\", \"author\": \"iML1515\", \"sample_id\": \"sdhCD\", \"flux\": 0.6915423841009901, \"normalized_flux\": 20.496641981963197, \"relative_error\": null, \"symm_relative_error\": null}, {\"BiGG_ID\": \"FUM\", \"author\": \"iML1515\", \"sample_id\": \"sucA\", \"flux\": null, \"normalized_flux\": null, \"relative_error\": null, \"symm_relative_error\": null}, {\"BiGG_ID\": \"FUM\", \"author\": \"iML1515\", \"sample_id\": \"sucAB\", \"flux\": 1.0752362228462065, \"normalized_flux\": 37.17995343803794, \"relative_error\": null, \"symm_relative_error\": null}, {\"BiGG_ID\": \"FUM\", \"author\": \"iML1515\", \"sample_id\": \"talA\", \"flux\": 1.0752362228461976, \"normalized_flux\": 37.59567212748943, \"relative_error\": 51.174451782481256, \"symm_relative_error\": 68.77105765158855}, {\"BiGG_ID\": \"FUM\", \"author\": \"iML1515\", \"sample_id\": \"talAB\", \"flux\": null, \"normalized_flux\": null, \"relative_error\": null, \"symm_relative_error\": null}, {\"BiGG_ID\": \"FUM\", \"author\": \"iML1515\", \"sample_id\": \"talB\", \"flux\": null, \"normalized_flux\": null, \"relative_error\": null, \"symm_relative_error\": null}, {\"BiGG_ID\": \"FUM\", \"author\": \"iML1515\", \"sample_id\": \"tkt1\", \"flux\": null, \"normalized_flux\": null, \"relative_error\": null, \"symm_relative_error\": null}, {\"BiGG_ID\": \"FUM\", \"author\": \"iML1515\", \"sample_id\": \"tkt2\", \"flux\": null, \"normalized_flux\": null, \"relative_error\": null, \"symm_relative_error\": null}, {\"BiGG_ID\": \"FUM\", \"author\": \"iML1515\", \"sample_id\": \"tktA\", \"flux\": 1.3073305565564974, \"normalized_flux\": 45.47168469398484, \"relative_error\": 63.03115065529688, \"symm_relative_error\": 92.03720547680051}, {\"BiGG_ID\": \"FUM\", \"author\": \"iML1515\", \"sample_id\": \"tktB\", \"flux\": 1.3073305565564974, \"normalized_flux\": 45.47168469398484, \"relative_error\": 45.86704203097043, \"symm_relative_error\": 59.5162029397848}, {\"BiGG_ID\": \"FUM\", \"author\": \"iML1515\", \"sample_id\": \"tpi\", \"flux\": 1.1080157923462195, \"normalized_flux\": 20.952239119338923, \"relative_error\": null, \"symm_relative_error\": null}, {\"BiGG_ID\": \"FUM\", \"author\": \"iML1515\", \"sample_id\": \"zwf\", \"flux\": 1.1516689072692632, \"normalized_flux\": 39.737161456707256, \"relative_error\": 58.17140899293973, \"symm_relative_error\": 82.03058153492329}, {\"BiGG_ID\": \"G6PDH2r\", \"author\": \"iML1515\", \"sample_id\": \"WT\", \"flux\": 0.7184672335769109, \"normalized_flux\": 25.121231943248635, \"relative_error\": 57.007699645303965, \"symm_relative_error\": 44.36263950378159}, {\"BiGG_ID\": \"G6PDH2r\", \"author\": \"iML1515\", \"sample_id\": \"fbaA\", \"flux\": 0.7184672335769109, \"normalized_flux\": 25.121231943248635, \"relative_error\": null, \"symm_relative_error\": null}, {\"BiGG_ID\": \"G6PDH2r\", \"author\": \"iML1515\", \"sample_id\": \"fbaB\", \"flux\": 0.7184672335769063, \"normalized_flux\": 25.12123194324848, \"relative_error\": 0.48492777299391326, \"symm_relative_error\": 0.4837548422023921}, {\"BiGG_ID\": \"G6PDH2r\", \"author\": \"iML1515\", \"sample_id\": \"fbp\", \"flux\": 0.7184672335769108, \"normalized_flux\": 25.12123194324863, \"relative_error\": 79.4373710232045, \"symm_relative_error\": 56.85522357466498}, {\"BiGG_ID\": \"G6PDH2r\", \"author\": \"iML1515\", \"sample_id\": \"glk\", \"flux\": null, \"normalized_flux\": null, \"relative_error\": null, \"symm_relative_error\": null}, {\"BiGG_ID\": \"G6PDH2r\", \"author\": \"iML1515\", \"sample_id\": \"gnd\", \"flux\": 0.2751576639230747, \"normalized_flux\": 9.561275455967005, \"relative_error\": 100.0, \"symm_relative_error\": 200.0}, {\"BiGG_ID\": \"G6PDH2r\", \"author\": \"iML1515\", \"sample_id\": \"gpmA\", \"flux\": 0.9369206713702856, \"normalized_flux\": 30.434784553436913, \"relative_error\": 90.2174034589807, \"symm_relative_error\": 62.17229041657525}, {\"BiGG_ID\": \"G6PDH2r\", \"author\": \"iML1515\", \"sample_id\": \"gpmB\", \"flux\": null, \"normalized_flux\": null, \"relative_error\": null, \"symm_relative_error\": null}, {\"BiGG_ID\": \"G6PDH2r\", \"author\": \"iML1515\", \"sample_id\": \"pfkA\", \"flux\": 0.7184672335769291, \"normalized_flux\": 25.121231943249263, \"relative_error\": 79.43737102320902, \"symm_relative_error\": 56.85522357466729}, {\"BiGG_ID\": \"G6PDH2r\", \"author\": \"iML1515\", \"sample_id\": \"pfkB\", \"flux\": 0.7184672335769291, \"normalized_flux\": 25.121231943249263, \"relative_error\": 46.550570333512205, \"symm_relative_error\": 60.67219726353731}, {\"BiGG_ID\": \"G6PDH2r\", \"author\": \"iML1515\", \"sample_id\": \"pgi\", \"flux\": 0.8628402290661175, \"normalized_flux\": 29.917532266244127, \"relative_error\": 69.4719058507713, \"symm_relative_error\": 106.44743770080062}, {\"BiGG_ID\": \"G6PDH2r\", \"author\": \"iML1515\", \"sample_id\": \"pgl\", \"flux\": 0.0, \"normalized_flux\": 0.0, \"relative_error\": 100.0, \"symm_relative_error\": 200.0}, {\"BiGG_ID\": \"G6PDH2r\", \"author\": \"iML1515\", \"sample_id\": \"pgm\", \"flux\": null, \"normalized_flux\": null, \"relative_error\": null, \"symm_relative_error\": null}, {\"BiGG_ID\": \"G6PDH2r\", \"author\": \"iML1515\", \"sample_id\": \"ppc\", \"flux\": null, \"normalized_flux\": null, \"relative_error\": null, \"symm_relative_error\": null}, {\"BiGG_ID\": \"G6PDH2r\", \"author\": \"iML1515\", \"sample_id\": \"ppsA\", \"flux\": 0.7184672335769107, \"normalized_flux\": 25.121231943248624, \"relative_error\": 18.963767925004436, \"symm_relative_error\": 20.950245934359216}, {\"BiGG_ID\": \"G6PDH2r\", \"author\": \"iML1515\", \"sample_id\": \"pts\", \"flux\": 0.7184672335769109, \"normalized_flux\": 24.853984794916247, \"relative_error\": null, \"symm_relative_error\": null}, {\"BiGG_ID\": \"G6PDH2r\", \"author\": \"iML1515\", \"sample_id\": \"pykA\", \"flux\": 0.7184672335769109, \"normalized_flux\": 25.121231943248635, \"relative_error\": 4.671799763535978, \"symm_relative_error\": 4.565162146356714}, {\"BiGG_ID\": \"G6PDH2r\", \"author\": \"iML1515\", \"sample_id\": \"pykF\", \"flux\": 0.7184672335769109, \"normalized_flux\": 25.121231943248635, \"relative_error\": 51.6899385706757, \"symm_relative_error\": 69.70523519782645}, {\"BiGG_ID\": \"G6PDH2r\", \"author\": \"iML1515\", \"sample_id\": \"rpe\", \"flux\": 0.4115968700933084, \"normalized_flux\": 14.329644196130015, \"relative_error\": 104.70920280185736, \"symm_relative_error\": 68.72729923417928}, {\"BiGG_ID\": \"G6PDH2r\", \"author\": \"iML1515\", \"sample_id\": \"rpiA\", \"flux\": 2.664154604826533, \"normalized_flux\": 33.16293782483304, \"relative_error\": 6.97721878978399, \"symm_relative_error\": 6.742016179925955}, {\"BiGG_ID\": \"G6PDH2r\", \"author\": \"iML1515\", \"sample_id\": \"rpiB\", \"flux\": 2.664154604826533, \"normalized_flux\": 33.16293782483304, \"relative_error\": 30.910546198264505, \"symm_relative_error\": 36.56117576026761}, {\"BiGG_ID\": \"G6PDH2r\", \"author\": \"iML1515\", \"sample_id\": \"sdhCD\", \"flux\": 0.7184672335769109, \"normalized_flux\": 21.294668267573485, \"relative_error\": null, \"symm_relative_error\": null}, {\"BiGG_ID\": \"G6PDH2r\", \"author\": \"iML1515\", \"sample_id\": \"sucA\", \"flux\": null, \"normalized_flux\": null, \"relative_error\": null, \"symm_relative_error\": null}, {\"BiGG_ID\": \"G6PDH2r\", \"author\": \"iML1515\", \"sample_id\": \"sucAB\", \"flux\": 0.7504456343517694, \"normalized_flux\": 25.949212973053317, \"relative_error\": null, \"symm_relative_error\": null}, {\"BiGG_ID\": \"G6PDH2r\", \"author\": \"iML1515\", \"sample_id\": \"talA\", \"flux\": 0.7184672335769109, \"normalized_flux\": 25.121231943248635, \"relative_error\": 93.24024571729719, \"symm_relative_error\": 63.593075697519986}, {\"BiGG_ID\": \"G6PDH2r\", \"author\": \"iML1515\", \"sample_id\": \"talAB\", \"flux\": null, \"normalized_flux\": null, \"relative_error\": null, \"symm_relative_error\": null}, {\"BiGG_ID\": \"G6PDH2r\", \"author\": \"iML1515\", \"sample_id\": \"talB\", \"flux\": null, \"normalized_flux\": null, \"relative_error\": null, \"symm_relative_error\": null}, {\"BiGG_ID\": \"G6PDH2r\", \"author\": \"iML1515\", \"sample_id\": \"tkt1\", \"flux\": null, \"normalized_flux\": null, \"relative_error\": null, \"symm_relative_error\": null}, {\"BiGG_ID\": \"G6PDH2r\", \"author\": \"iML1515\", \"sample_id\": \"tkt2\", \"flux\": null, \"normalized_flux\": null, \"relative_error\": null, \"symm_relative_error\": null}, {\"BiGG_ID\": \"G6PDH2r\", \"author\": \"iML1515\", \"sample_id\": \"tktA\", \"flux\": 0.3445374737103085, \"normalized_flux\": 11.98373226361606, \"relative_error\": 42.93460826849495, \"symm_relative_error\": 54.6709975955612}, {\"BiGG_ID\": \"G6PDH2r\", \"author\": \"iML1515\", \"sample_id\": \"tktB\", \"flux\": 0.3445374737103085, \"normalized_flux\": 11.98373226361606, \"relative_error\": 7.817444126030305, \"symm_relative_error\": 8.135435696002359}, {\"BiGG_ID\": \"G6PDH2r\", \"author\": \"iML1515\", \"sample_id\": \"tpi\", \"flux\": 0.7184672335769391, \"normalized_flux\": 13.585995236979635, \"relative_error\": null, \"symm_relative_error\": null}, {\"BiGG_ID\": \"G6PDH2r\", \"author\": \"iML1515\", \"sample_id\": \"zwf\", \"flux\": 0.0, \"normalized_flux\": 0.0, \"relative_error\": 0.0, \"symm_relative_error\": null}, {\"BiGG_ID\": \"GAPD\", \"author\": \"iML1515\", \"sample_id\": \"WT\", \"flux\": 5.023248688807682, \"normalized_flux\": 175.6380660422266, \"relative_error\": 1.524893666026935, \"symm_relative_error\": 1.5133551377072396}, {\"BiGG_ID\": \"GAPD\", \"author\": \"iML1515\", \"sample_id\": \"fbaA\", \"flux\": 5.023248688807682, \"normalized_flux\": 175.6380660422266, \"relative_error\": null, \"symm_relative_error\": null}, {\"BiGG_ID\": \"GAPD\", \"author\": \"iML1515\", \"sample_id\": \"fbaB\", \"flux\": 5.0232486888076755, \"normalized_flux\": 175.63806604222648, \"relative_error\": 3.9278497291280967, \"symm_relative_error\": 3.8521955037974016}, {\"BiGG_ID\": \"GAPD\", \"author\": \"iML1515\", \"sample_id\": \"fbp\", \"flux\": 5.023248688807682, \"normalized_flux\": 175.6380660422266, \"relative_error\": 1.524893666026935, \"symm_relative_error\": 1.5133551377072396}, {\"BiGG_ID\": \"GAPD\", \"author\": \"iML1515\", \"sample_id\": \"glk\", \"flux\": null, \"normalized_flux\": null, \"relative_error\": null, \"symm_relative_error\": null}, {\"BiGG_ID\": \"GAPD\", \"author\": \"iML1515\", \"sample_id\": \"gnd\", \"flux\": 5.023248688807686, \"normalized_flux\": 174.54961534686763, \"relative_error\": 4.093617941281524, \"symm_relative_error\": 4.179157307957998}, {\"BiGG_ID\": \"GAPD\", \"author\": \"iML1515\", \"sample_id\": \"gpmA\", \"flux\": 5.241702126601057, \"normalized_flux\": 170.27063207291158, \"relative_error\": 1.0054464692374525, \"symm_relative_error\": 1.010526621355012}, {\"BiGG_ID\": \"GAPD\", \"author\": \"iML1515\", \"sample_id\": \"gpmB\", \"flux\": null, \"normalized_flux\": null, \"relative_error\": null, \"symm_relative_error\": null}, {\"BiGG_ID\": \"GAPD\", \"author\": \"iML1515\", \"sample_id\": \"pfkA\", \"flux\": 5.023248688807682, \"normalized_flux\": 175.6380660422266, \"relative_error\": 1.524893666026935, \"symm_relative_error\": 1.5133551377072396}, {\"BiGG_ID\": \"GAPD\", \"author\": \"iML1515\", \"sample_id\": \"pfkB\", \"flux\": 5.023248688807682, \"normalized_flux\": 175.6380660422266, \"relative_error\": 7.7534147498322685, \"symm_relative_error\": 7.464055172492444}, {\"BiGG_ID\": \"GAPD\", \"author\": \"iML1515\", \"sample_id\": \"pgi\", \"flux\": 5.023248688807682, \"normalized_flux\": 174.17269114981937, \"relative_error\": 45.143909291516145, \"symm_relative_error\": 36.83053715018689}, {\"BiGG_ID\": \"GAPD\", \"author\": \"iML1515\", \"sample_id\": \"pgl\", \"flux\": 5.099681373230776, \"normalized_flux\": 175.95930638288198, \"relative_error\": 1.710581724209235, \"symm_relative_error\": 1.6960753467540384}, {\"BiGG_ID\": \"GAPD\", \"author\": \"iML1515\", \"sample_id\": \"pgm\", \"flux\": null, \"normalized_flux\": null, \"relative_error\": null, \"symm_relative_error\": null}, {\"BiGG_ID\": \"GAPD\", \"author\": \"iML1515\", \"sample_id\": \"ppc\", \"flux\": null, \"normalized_flux\": null, \"relative_error\": null, \"symm_relative_error\": null}, {\"BiGG_ID\": \"GAPD\", \"author\": \"iML1515\", \"sample_id\": \"ppsA\", \"flux\": 5.023248688807668, \"normalized_flux\": 175.63806604222614, \"relative_error\": 3.316509436603613, \"symm_relative_error\": 3.262410362831592}, {\"BiGG_ID\": \"GAPD\", \"author\": \"iML1515\", \"sample_id\": \"pts\", \"flux\": 5.084754065151765, \"normalized_flux\": 175.89723555241596, \"relative_error\": null, \"symm_relative_error\": null}, {\"BiGG_ID\": \"GAPD\", \"author\": \"iML1515\", \"sample_id\": \"pykA\", \"flux\": 5.023248688807682, \"normalized_flux\": 175.6380660422266, \"relative_error\": 3.316509436603881, \"symm_relative_error\": 3.2624103628318504}, {\"BiGG_ID\": \"GAPD\", \"author\": \"iML1515\", \"sample_id\": \"pykF\", \"flux\": 5.023248688807682, \"normalized_flux\": 175.6380660422266, \"relative_error\": 9.09196648585503, \"symm_relative_error\": 8.696619615436155}, {\"BiGG_ID\": \"GAPD\", \"author\": \"iML1515\", \"sample_id\": \"rpe\", \"flux\": 5.023248688807682, \"normalized_flux\": 174.88317246672122, \"relative_error\": 3.379462725568387, \"symm_relative_error\": 3.4375480531329514}, {\"BiGG_ID\": \"GAPD\", \"author\": \"iML1515\", \"sample_id\": \"rpiA\", \"flux\": 11.407966661308382, \"normalized_flux\": 142.00440485373818, \"relative_error\": 9.551334488064853, \"symm_relative_error\": 10.030350658945716}, {\"BiGG_ID\": \"GAPD\", \"author\": \"iML1515\", \"sample_id\": \"rpiB\", \"flux\": 11.407966661308382, \"normalized_flux\": 142.00440485373818, \"relative_error\": 15.973724938616463, \"symm_relative_error\": 17.36026546566602}, {\"BiGG_ID\": \"GAPD\", \"author\": \"iML1515\", \"sample_id\": \"sdhCD\", \"flux\": 5.879798943149674, \"normalized_flux\": 174.271507624708, \"relative_error\": null, \"symm_relative_error\": null}, {\"BiGG_ID\": \"GAPD\", \"author\": \"iML1515\", \"sample_id\": \"sucA\", \"flux\": null, \"normalized_flux\": null, \"relative_error\": null, \"symm_relative_error\": null}, {\"BiGG_ID\": \"GAPD\", \"author\": \"iML1515\", \"sample_id\": \"sucAB\", \"flux\": 5.0765460234324475, \"normalized_flux\": 175.53886370908816, \"relative_error\": null, \"symm_relative_error\": null}, {\"BiGG_ID\": \"GAPD\", \"author\": \"iML1515\", \"sample_id\": \"talA\", \"flux\": 5.023248688807682, \"normalized_flux\": 175.6380660422266, \"relative_error\": 0.94141726564747, \"symm_relative_error\": 0.9370066942475106}, {\"BiGG_ID\": \"GAPD\", \"author\": \"iML1515\", \"sample_id\": \"talAB\", \"flux\": null, \"normalized_flux\": null, \"relative_error\": null, \"symm_relative_error\": null}, {\"BiGG_ID\": \"GAPD\", \"author\": \"iML1515\", \"sample_id\": \"talB\", \"flux\": null, \"normalized_flux\": null, \"relative_error\": null, \"symm_relative_error\": null}, {\"BiGG_ID\": \"GAPD\", \"author\": \"iML1515\", \"sample_id\": \"tkt1\", \"flux\": null, \"normalized_flux\": null, \"relative_error\": null, \"symm_relative_error\": null}, {\"BiGG_ID\": \"GAPD\", \"author\": \"iML1515\", \"sample_id\": \"tkt2\", \"flux\": null, \"normalized_flux\": null, \"relative_error\": null, \"symm_relative_error\": null}, {\"BiGG_ID\": \"GAPD\", \"author\": \"iML1515\", \"sample_id\": \"tktA\", \"flux\": 5.023248688807682, \"normalized_flux\": 174.7190711418704, \"relative_error\": 2.1748954046025655, \"symm_relative_error\": 2.1514989783969525}, {\"BiGG_ID\": \"GAPD\", \"author\": \"iML1515\", \"sample_id\": \"tktB\", \"flux\": 5.023248688807682, \"normalized_flux\": 174.7190711418704, \"relative_error\": 0.16053077607406457, \"symm_relative_error\": 0.1606597302299529}, {\"BiGG_ID\": \"GAPD\", \"author\": \"iML1515\", \"sample_id\": \"tpi\", \"flux\": 5.023248688807677, \"normalized_flux\": 94.98809350085274, \"relative_error\": null, \"symm_relative_error\": null}, {\"BiGG_ID\": \"GAPD\", \"author\": \"iML1515\", \"sample_id\": \"zwf\", \"flux\": 5.099681373230722, \"normalized_flux\": 175.95930638288254, \"relative_error\": 2.7849136006173785, \"symm_relative_error\": 2.8242399214607916}, {\"BiGG_ID\": \"GLCptspp\", \"author\": \"iML1515\", \"sample_id\": \"WT\", \"flux\": 2.86, \"normalized_flux\": 100.0, \"relative_error\": 0.0, \"symm_relative_error\": 0.0}, {\"BiGG_ID\": \"GLCptspp\", \"author\": \"iML1515\", \"sample_id\": \"fbaA\", \"flux\": 2.86, \"normalized_flux\": 100.0, \"relative_error\": null, \"symm_relative_error\": null}, {\"BiGG_ID\": \"GLCptspp\", \"author\": \"iML1515\", \"sample_id\": \"fbaB\", \"flux\": 2.86, \"normalized_flux\": 100.0, \"relative_error\": 0.0, \"symm_relative_error\": 0.0}, {\"BiGG_ID\": \"GLCptspp\", \"author\": \"iML1515\", \"sample_id\": \"fbp\", \"flux\": 2.86, \"normalized_flux\": 100.0, \"relative_error\": 0.0, \"symm_relative_error\": 0.0}, {\"BiGG_ID\": \"GLCptspp\", \"author\": \"iML1515\", \"sample_id\": \"glk\", \"flux\": null, \"normalized_flux\": null, \"relative_error\": null, \"symm_relative_error\": null}, {\"BiGG_ID\": \"GLCptspp\", \"author\": \"iML1515\", \"sample_id\": \"gnd\", \"flux\": 2.877834293032046, \"normalized_flux\": 100.0, \"relative_error\": 0.0, \"symm_relative_error\": 0.0}, {\"BiGG_ID\": \"GLCptspp\", \"author\": \"iML1515\", \"sample_id\": \"gpmA\", \"flux\": 3.0784534377933754, \"normalized_flux\": 100.0, \"relative_error\": 0.0, \"symm_relative_error\": 0.0}, {\"BiGG_ID\": \"GLCptspp\", \"author\": \"iML1515\", \"sample_id\": \"gpmB\", \"flux\": null, \"normalized_flux\": null, \"relative_error\": null, \"symm_relative_error\": null}, {\"BiGG_ID\": \"GLCptspp\", \"author\": \"iML1515\", \"sample_id\": \"pfkA\", \"flux\": 2.860000000000018, \"normalized_flux\": 100.00000000000065, \"relative_error\": 6.536993168992922e-13, \"symm_relative_error\": 6.536993168992901e-13}, {\"BiGG_ID\": \"GLCptspp\", \"author\": \"iML1515\", \"sample_id\": \"pfkB\", \"flux\": 2.860000000000018, \"normalized_flux\": 100.00000000000065, \"relative_error\": 6.536993168992922e-13, \"symm_relative_error\": 6.536993168992901e-13}, {\"BiGG_ID\": \"GLCptspp\", \"author\": \"iML1515\", \"sample_id\": \"pgi\", \"flux\": 0.8628402290661175, \"normalized_flux\": 29.917532266244127, \"relative_error\": 70.08246773375588, \"symm_relative_error\": 107.88762149535545}, {\"BiGG_ID\": \"GLCptspp\", \"author\": \"iML1515\", \"sample_id\": \"pgl\", \"flux\": 2.17974910863464, \"normalized_flux\": 75.21002062155692, \"relative_error\": 24.78997937844308, \"symm_relative_error\": 28.2974447357528}, {\"BiGG_ID\": \"GLCptspp\", \"author\": \"iML1515\", \"sample_id\": \"pgm\", \"flux\": null, \"normalized_flux\": null, \"relative_error\": null, \"symm_relative_error\": null}, {\"BiGG_ID\": \"GLCptspp\", \"author\": \"iML1515\", \"sample_id\": \"ppc\", \"flux\": null, \"normalized_flux\": null, \"relative_error\": null, \"symm_relative_error\": null}, {\"BiGG_ID\": \"GLCptspp\", \"author\": \"iML1515\", \"sample_id\": \"ppsA\", \"flux\": 2.86, \"normalized_flux\": 100.0, \"relative_error\": 0.0, \"symm_relative_error\": 0.0}, {\"BiGG_ID\": \"GLCptspp\", \"author\": \"iML1515\", \"sample_id\": \"pts\", \"flux\": 0.0, \"normalized_flux\": 0.0, \"relative_error\": null, \"symm_relative_error\": null}, {\"BiGG_ID\": \"GLCptspp\", \"author\": \"iML1515\", \"sample_id\": \"pykA\", \"flux\": 2.86, \"normalized_flux\": 100.0, \"relative_error\": 0.0, \"symm_relative_error\": 0.0}, {\"BiGG_ID\": \"GLCptspp\", \"author\": \"iML1515\", \"sample_id\": \"pykF\", \"flux\": 2.86, \"normalized_flux\": 100.0, \"relative_error\": 0.0, \"symm_relative_error\": 0.0}, {\"BiGG_ID\": \"GLCptspp\", \"author\": \"iML1515\", \"sample_id\": \"rpe\", \"flux\": 2.8723453594505, \"normalized_flux\": 100.0, \"relative_error\": 0.0, \"symm_relative_error\": 0.0}, {\"BiGG_ID\": \"GLCptspp\", \"author\": \"iML1515\", \"sample_id\": \"rpiA\", \"flux\": 8.033530138067452, \"normalized_flux\": 100.0, \"relative_error\": 0.0, \"symm_relative_error\": 0.0}, {\"BiGG_ID\": \"GLCptspp\", \"author\": \"iML1515\", \"sample_id\": \"rpiB\", \"flux\": 8.033530138067452, \"normalized_flux\": 100.0, \"relative_error\": 0.0, \"symm_relative_error\": 0.0}, {\"BiGG_ID\": \"GLCptspp\", \"author\": \"iML1515\", \"sample_id\": \"sdhCD\", \"flux\": 2.86, \"normalized_flux\": 84.76761138020723, \"relative_error\": null, \"symm_relative_error\": null}, {\"BiGG_ID\": \"GLCptspp\", \"author\": \"iML1515\", \"sample_id\": \"sucA\", \"flux\": null, \"normalized_flux\": null, \"relative_error\": null, \"symm_relative_error\": null}, {\"BiGG_ID\": \"GLCptspp\", \"author\": \"iML1515\", \"sample_id\": \"sucAB\", \"flux\": 2.8919784007748586, \"normalized_flux\": 100.0, \"relative_error\": null, \"symm_relative_error\": null}, {\"BiGG_ID\": \"GLCptspp\", \"author\": \"iML1515\", \"sample_id\": \"talA\", \"flux\": 2.8599999999999914, \"normalized_flux\": 99.9999999999997, \"relative_error\": 2.984279490192421e-13, \"symm_relative_error\": 2.984279490192425e-13}, {\"BiGG_ID\": \"GLCptspp\", \"author\": \"iML1515\", \"sample_id\": \"talAB\", \"flux\": null, \"normalized_flux\": null, \"relative_error\": null, \"symm_relative_error\": null}, {\"BiGG_ID\": \"GLCptspp\", \"author\": \"iML1515\", \"sample_id\": \"talB\", \"flux\": null, \"normalized_flux\": null, \"relative_error\": null, \"symm_relative_error\": null}, {\"BiGG_ID\": \"GLCptspp\", \"author\": \"iML1515\", \"sample_id\": \"tkt1\", \"flux\": null, \"normalized_flux\": null, \"relative_error\": null, \"symm_relative_error\": null}, {\"BiGG_ID\": \"GLCptspp\", \"author\": \"iML1515\", \"sample_id\": \"tkt2\", \"flux\": null, \"normalized_flux\": null, \"relative_error\": null, \"symm_relative_error\": null}, {\"BiGG_ID\": \"GLCptspp\", \"author\": \"iML1515\", \"sample_id\": \"tktA\", \"flux\": 2.8750431512589985, \"normalized_flux\": 100.0, \"relative_error\": 0.0, \"symm_relative_error\": 0.0}, {\"BiGG_ID\": \"GLCptspp\", \"author\": \"iML1515\", \"sample_id\": \"tktB\", \"flux\": 2.8750431512589985, \"normalized_flux\": 100.0, \"relative_error\": 0.0, \"symm_relative_error\": 0.0}, {\"BiGG_ID\": \"GLCptspp\", \"author\": \"iML1515\", \"sample_id\": \"tpi\", \"flux\": 4.009889778307644, \"normalized_flux\": 75.82578701282836, \"relative_error\": null, \"symm_relative_error\": null}, {\"BiGG_ID\": \"GLCptspp\", \"author\": \"iML1515\", \"sample_id\": \"zwf\", \"flux\": 2.179749108634609, \"normalized_flux\": 75.21002062155691, \"relative_error\": 24.789979378443093, \"symm_relative_error\": 28.297444735752823}, {\"BiGG_ID\": \"GND\", \"author\": \"iML1515\", \"sample_id\": \"WT\", \"flux\": 0.7184672335769109, \"normalized_flux\": 25.121231943248635, \"relative_error\": 57.007699645303965, \"symm_relative_error\": 44.36263950378159}, {\"BiGG_ID\": \"GND\", \"author\": \"iML1515\", \"sample_id\": \"fbaA\", \"flux\": 0.7184672335769109, \"normalized_flux\": 25.121231943248635, \"relative_error\": null, \"symm_relative_error\": null}, {\"BiGG_ID\": \"GND\", \"author\": \"iML1515\", \"sample_id\": \"fbaB\", \"flux\": 0.7184672335769109, \"normalized_flux\": 25.121231943248635, \"relative_error\": 0.48492777299453843, \"symm_relative_error\": 0.48375484220301435}, {\"BiGG_ID\": \"GND\", \"author\": \"iML1515\", \"sample_id\": \"fbp\", \"flux\": 0.7184672335769008, \"normalized_flux\": 25.12123194324829, \"relative_error\": 79.43737102320208, \"symm_relative_error\": 56.85522357466373}, {\"BiGG_ID\": \"GND\", \"author\": \"iML1515\", \"sample_id\": \"glk\", \"flux\": null, \"normalized_flux\": null, \"relative_error\": null, \"symm_relative_error\": null}, {\"BiGG_ID\": \"GND\", \"author\": \"iML1515\", \"sample_id\": \"gnd\", \"flux\": 0.0, \"normalized_flux\": 0.0, \"relative_error\": 0.0, \"symm_relative_error\": null}, {\"BiGG_ID\": \"GND\", \"author\": \"iML1515\", \"sample_id\": \"gpmA\", \"flux\": 0.7184672335769109, \"normalized_flux\": 23.338577246499, \"relative_error\": 45.86610779061875, \"symm_relative_error\": 37.30982541902737}, {\"BiGG_ID\": \"GND\", \"author\": \"iML1515\", \"sample_id\": \"gpmB\", \"flux\": null, \"normalized_flux\": null, \"relative_error\": null, \"symm_relative_error\": null}, {\"BiGG_ID\": \"GND\", \"author\": \"iML1515\", \"sample_id\": \"pfkA\", \"flux\": 0.7184672335769291, \"normalized_flux\": 25.121231943249263, \"relative_error\": 79.43737102320902, \"symm_relative_error\": 56.85522357466729}, {\"BiGG_ID\": \"GND\", \"author\": \"iML1515\", \"sample_id\": \"pfkB\", \"flux\": 0.7184672335769291, \"normalized_flux\": 25.121231943249263, \"relative_error\": 46.550570333512205, \"symm_relative_error\": 60.67219726353731}, {\"BiGG_ID\": \"GND\", \"author\": \"iML1515\", \"sample_id\": \"pgi\", \"flux\": 0.8628402290661175, \"normalized_flux\": 29.917532266244127, \"relative_error\": 50.95486513730471, \"symm_relative_error\": 68.37508005108093}, {\"BiGG_ID\": \"GND\", \"author\": \"iML1515\", \"sample_id\": \"pgl\", \"flux\": 0.7184672335769109, \"normalized_flux\": 24.78997937844309, \"relative_error\": 23.949896892215445, \"symm_relative_error\": 21.388620601814573}, {\"BiGG_ID\": \"GND\", \"author\": \"iML1515\", \"sample_id\": \"pgm\", \"flux\": null, \"normalized_flux\": null, \"relative_error\": null, \"symm_relative_error\": null}, {\"BiGG_ID\": \"GND\", \"author\": \"iML1515\", \"sample_id\": \"ppc\", \"flux\": null, \"normalized_flux\": null, \"relative_error\": null, \"symm_relative_error\": null}, {\"BiGG_ID\": \"GND\", \"author\": \"iML1515\", \"sample_id\": \"ppsA\", \"flux\": 0.7184672335768824, \"normalized_flux\": 25.121231943247643, \"relative_error\": 18.963767925007602, \"symm_relative_error\": 20.950245934363082}, {\"BiGG_ID\": \"GND\", \"author\": \"iML1515\", \"sample_id\": \"pts\", \"flux\": 0.7184672335769109, \"normalized_flux\": 24.853984794916247, \"relative_error\": null, \"symm_relative_error\": null}, {\"BiGG_ID\": \"GND\", \"author\": \"iML1515\", \"sample_id\": \"pykA\", \"flux\": 0.7184672335769109, \"normalized_flux\": 25.121231943248635, \"relative_error\": 4.671799763535978, \"symm_relative_error\": 4.565162146356714}, {\"BiGG_ID\": \"GND\", \"author\": \"iML1515\", \"sample_id\": \"pykF\", \"flux\": 0.7184672335769109, \"normalized_flux\": 25.121231943248635, \"relative_error\": 51.6899385706757, \"symm_relative_error\": 69.70523519782645}, {\"BiGG_ID\": \"GND\", \"author\": \"iML1515\", \"sample_id\": \"rpe\", \"flux\": 0.2211256100000042, \"normalized_flux\": 7.698433939096624, \"relative_error\": 9.977627701380344, \"symm_relative_error\": 9.503515027391419}, {\"BiGG_ID\": \"GND\", \"author\": \"iML1515\", \"sample_id\": \"rpiA\", \"flux\": 0.0, \"normalized_flux\": 0.0, \"relative_error\": 100.0, \"symm_relative_error\": 200.0}, {\"BiGG_ID\": \"GND\", \"author\": \"iML1515\", \"sample_id\": \"rpiB\", \"flux\": 0.0, \"normalized_flux\": 0.0, \"relative_error\": 100.0, \"symm_relative_error\": 200.0}, {\"BiGG_ID\": \"GND\", \"author\": \"iML1515\", \"sample_id\": \"sdhCD\", \"flux\": 1.232397386182097, \"normalized_flux\": 36.52705688736614, \"relative_error\": null, \"symm_relative_error\": null}, {\"BiGG_ID\": \"GND\", \"author\": \"iML1515\", \"sample_id\": \"sucA\", \"flux\": null, \"normalized_flux\": null, \"relative_error\": null, \"symm_relative_error\": null}, {\"BiGG_ID\": \"GND\", \"author\": \"iML1515\", \"sample_id\": \"sucAB\", \"flux\": 0.7504456343517694, \"normalized_flux\": 25.949212973053317, \"relative_error\": null, \"symm_relative_error\": null}, {\"BiGG_ID\": \"GND\", \"author\": \"iML1515\", \"sample_id\": \"talA\", \"flux\": 0.7184672335769109, \"normalized_flux\": 25.121231943248635, \"relative_error\": 93.24024571729719, \"symm_relative_error\": 63.593075697519986}, {\"BiGG_ID\": \"GND\", \"author\": \"iML1515\", \"sample_id\": \"talAB\", \"flux\": null, \"normalized_flux\": null, \"relative_error\": null, \"symm_relative_error\": null}, {\"BiGG_ID\": \"GND\", \"author\": \"iML1515\", \"sample_id\": \"talB\", \"flux\": null, \"normalized_flux\": null, \"relative_error\": null, \"symm_relative_error\": null}, {\"BiGG_ID\": \"GND\", \"author\": \"iML1515\", \"sample_id\": \"tkt1\", \"flux\": null, \"normalized_flux\": null, \"relative_error\": null, \"symm_relative_error\": null}, {\"BiGG_ID\": \"GND\", \"author\": \"iML1515\", \"sample_id\": \"tkt2\", \"flux\": null, \"normalized_flux\": null, \"relative_error\": null, \"symm_relative_error\": null}, {\"BiGG_ID\": \"GND\", \"author\": \"iML1515\", \"sample_id\": \"tktA\", \"flux\": 0.11244314000000853, \"normalized_flux\": 3.9110070383037208, \"relative_error\": 51.11241202120349, \"symm_relative_error\": 68.65906381461771}, {\"BiGG_ID\": \"GND\", \"author\": \"iML1515\", \"sample_id\": \"tktB\", \"flux\": 0.11244314000000853, \"normalized_flux\": 3.9110070383037208, \"relative_error\": 69.91533047458677, \"symm_relative_error\": 107.49203688591169}, {\"BiGG_ID\": \"GND\", \"author\": \"iML1515\", \"sample_id\": \"tpi\", \"flux\": 0.7184672335769109, \"normalized_flux\": 13.5859952369791, \"relative_error\": null, \"symm_relative_error\": null}, {\"BiGG_ID\": \"GND\", \"author\": \"iML1515\", \"sample_id\": \"zwf\", \"flux\": 0.7184672335769011, \"normalized_flux\": 24.78997937844309, \"relative_error\": 100.0, \"symm_relative_error\": 200.0}, {\"BiGG_ID\": \"ICDHyr\", \"author\": \"iML1515\", \"sample_id\": \"WT\", \"flux\": 1.0813922228461899, \"normalized_flux\": 37.81091688273392, \"relative_error\": 43.983826840394194, \"symm_relative_error\": 56.383676063376306}, {\"BiGG_ID\": \"ICDHyr\", \"author\": \"iML1515\", \"sample_id\": \"fbaA\", \"flux\": 1.0813922228461983, \"normalized_flux\": 37.81091688273421, \"relative_error\": null, \"symm_relative_error\": null}, {\"BiGG_ID\": \"ICDHyr\", \"author\": \"iML1515\", \"sample_id\": \"fbaB\", \"flux\": 1.0813922228461927, \"normalized_flux\": 37.810916882734006, \"relative_error\": 43.56579569741193, \"symm_relative_error\": 55.69855504636741}, {\"BiGG_ID\": \"ICDHyr\", \"author\": \"iML1515\", \"sample_id\": \"fbp\", \"flux\": 1.0813922228461899, \"normalized_flux\": 37.81091688273392, \"relative_error\": 27.28669830243477, \"symm_relative_error\": 31.59768012566392}, {\"BiGG_ID\": \"ICDHyr\", \"author\": \"iML1515\", \"sample_id\": \"glk\", \"flux\": null, \"normalized_flux\": null, \"relative_error\": null, \"symm_relative_error\": null}, {\"BiGG_ID\": \"ICDHyr\", \"author\": \"iML1515\", \"sample_id\": \"gnd\", \"flux\": 1.3565498867692531, \"normalized_flux\": 47.13787343676453, \"relative_error\": 49.31411458412416, \"symm_relative_error\": 65.45286500858768}, {\"BiGG_ID\": \"ICDHyr\", \"author\": \"iML1515\", \"sample_id\": \"gpmA\", \"flux\": 1.5180660634329548, \"normalized_flux\": 49.31262057746436, \"relative_error\": 32.44846496237759, \"symm_relative_error\": 38.73251886960217}, {\"BiGG_ID\": \"ICDHyr\", \"author\": \"iML1515\", \"sample_id\": \"gpmB\", \"flux\": null, \"normalized_flux\": null, \"relative_error\": null, \"symm_relative_error\": null}, {\"BiGG_ID\": \"ICDHyr\", \"author\": \"iML1515\", \"sample_id\": \"pfkA\", \"flux\": 1.0813922228461763, \"normalized_flux\": 37.81091688273344, \"relative_error\": 48.204223448310366, \"symm_relative_error\": 63.511942879248444}, {\"BiGG_ID\": \"ICDHyr\", \"author\": \"iML1515\", \"sample_id\": \"pfkB\", \"flux\": 1.0813922228461763, \"normalized_flux\": 37.81091688273344, \"relative_error\": 25.86094728875797, \"symm_relative_error\": 29.701490718042066}, {\"BiGG_ID\": \"ICDHyr\", \"author\": \"iML1515\", \"sample_id\": \"pgi\", \"flux\": 1.0813922228461876, \"normalized_flux\": 37.495454696731784, \"relative_error\": 8.547671471385893, \"symm_relative_error\": 8.929294866328433}, {\"BiGG_ID\": \"ICDHyr\", \"author\": \"iML1515\", \"sample_id\": \"pgl\", \"flux\": 1.1578249072692852, \"normalized_flux\": 39.949567960333155, \"relative_error\": 45.27456443789979, \"symm_relative_error\": 58.52245853879468}, {\"BiGG_ID\": \"ICDHyr\", \"author\": \"iML1515\", \"sample_id\": \"pgm\", \"flux\": null, \"normalized_flux\": null, \"relative_error\": null, \"symm_relative_error\": null}, {\"BiGG_ID\": \"ICDHyr\", \"author\": \"iML1515\", \"sample_id\": \"ppc\", \"flux\": null, \"normalized_flux\": null, \"relative_error\": null, \"symm_relative_error\": null}, {\"BiGG_ID\": \"ICDHyr\", \"author\": \"iML1515\", \"sample_id\": \"ppsA\", \"flux\": 1.081392222846192, \"normalized_flux\": 37.81091688273399, \"relative_error\": 56.53917599685748, \"symm_relative_error\": 78.82176390624801}, {\"BiGG_ID\": \"ICDHyr\", \"author\": \"iML1515\", \"sample_id\": \"pts\", \"flux\": 1.1428975991902528, \"normalized_flux\": 39.536332660576456, \"relative_error\": null, \"symm_relative_error\": null}, {\"BiGG_ID\": \"ICDHyr\", \"author\": \"iML1515\", \"sample_id\": \"pykA\", \"flux\": 1.0813922228461899, \"normalized_flux\": 37.81091688273392, \"relative_error\": 41.82935864194782, \"symm_relative_error\": 52.89143204175085}, {\"BiGG_ID\": \"ICDHyr\", \"author\": \"iML1515\", \"sample_id\": \"pykF\", \"flux\": 1.0813922228461899, \"normalized_flux\": 37.81091688273392, \"relative_error\": 12.067635156432743, \"symm_relative_error\": 12.842529988357997}, {\"BiGG_ID\": \"ICDHyr\", \"author\": \"iML1515\", \"sample_id\": \"rpe\", \"flux\": 1.2718634829394733, \"normalized_flux\": 44.27961556763459, \"relative_error\": 52.89402599187809, \"symm_relative_error\": 71.91281842701744}, {\"BiGG_ID\": \"ICDHyr\", \"author\": \"iML1515\", \"sample_id\": \"rpiA\", \"flux\": 0.9129977201734844, \"normalized_flux\": 11.364838426972222, \"relative_error\": 85.61412857345287, \"symm_relative_error\": 149.6935373324143}, {\"BiGG_ID\": \"ICDHyr\", \"author\": \"iML1515\", \"sample_id\": \"rpiB\", \"flux\": 0.9129977201734844, \"normalized_flux\": 11.364838426972222, \"relative_error\": 88.74768472577007, \"symm_relative_error\": 159.54307918358847}, {\"BiGG_ID\": \"ICDHyr\", \"author\": \"iML1515\", \"sample_id\": \"sdhCD\", \"flux\": 1.0608553543420098, \"normalized_flux\": 31.442718324292144, \"relative_error\": null, \"symm_relative_error\": null}, {\"BiGG_ID\": \"ICDHyr\", \"author\": \"iML1515\", \"sample_id\": \"sucA\", \"flux\": null, \"normalized_flux\": null, \"relative_error\": null, \"symm_relative_error\": null}, {\"BiGG_ID\": \"ICDHyr\", \"author\": \"iML1515\", \"sample_id\": \"sucAB\", \"flux\": 0.6107444331482371, \"normalized_flux\": 21.11856827784737, \"relative_error\": null, \"symm_relative_error\": null}, {\"BiGG_ID\": \"ICDHyr\", \"author\": \"iML1515\", \"sample_id\": \"talA\", \"flux\": 1.0813922228461923, \"normalized_flux\": 37.810916882734, \"relative_error\": 54.44467845453735, \"symm_relative_error\": 74.80960211754557}, {\"BiGG_ID\": \"ICDHyr\", \"author\": \"iML1515\", \"sample_id\": \"talAB\", \"flux\": null, \"normalized_flux\": null, \"relative_error\": null, \"symm_relative_error\": null}, {\"BiGG_ID\": \"ICDHyr\", \"author\": \"iML1515\", \"sample_id\": \"talB\", \"flux\": null, \"normalized_flux\": null, \"relative_error\": null, \"symm_relative_error\": null}, {\"BiGG_ID\": \"ICDHyr\", \"author\": \"iML1515\", \"sample_id\": \"tkt1\", \"flux\": null, \"normalized_flux\": null, \"relative_error\": null, \"symm_relative_error\": null}, {\"BiGG_ID\": \"ICDHyr\", \"author\": \"iML1515\", \"sample_id\": \"tkt2\", \"flux\": null, \"normalized_flux\": null, \"relative_error\": null, \"symm_relative_error\": null}, {\"BiGG_ID\": \"ICDHyr\", \"author\": \"iML1515\", \"sample_id\": \"tktA\", \"flux\": 1.3134865565564915, \"normalized_flux\": 45.685803219381526, \"relative_error\": 64.5846486671461, \"symm_relative_error\": 95.387484552465}, {\"BiGG_ID\": \"ICDHyr\", \"author\": \"iML1515\", \"sample_id\": \"tktB\", \"flux\": 1.3134865565564915, \"normalized_flux\": 45.685803219381526, \"relative_error\": 50.34151823980268, \"symm_relative_error\": 67.27519569584645}, {\"BiGG_ID\": \"ICDHyr\", \"author\": \"iML1515\", \"sample_id\": \"tpi\", \"flux\": 1.0813922228461907, \"normalized_flux\": 20.44879557798492, \"relative_error\": null, \"symm_relative_error\": null}, {\"BiGG_ID\": \"ICDHyr\", \"author\": \"iML1515\", \"sample_id\": \"zwf\", \"flux\": 1.1578249072692666, \"normalized_flux\": 39.94956796033307, \"relative_error\": 47.43477899956175, \"symm_relative_error\": 62.18295190543524}, {\"BiGG_ID\": \"ICL\", \"author\": \"iML1515\", \"sample_id\": \"WT\", \"flux\": 0.0, \"normalized_flux\": 0.0, \"relative_error\": 100.0, \"symm_relative_error\": 200.0}, {\"BiGG_ID\": \"ICL\", \"author\": \"iML1515\", \"sample_id\": \"fbaA\", \"flux\": 1.9984014443252818e-15, \"normalized_flux\": 0.0, \"relative_error\": null, \"symm_relative_error\": null}, {\"BiGG_ID\": \"ICL\", \"author\": \"iML1515\", \"sample_id\": \"fbaB\", \"flux\": 0.0, \"normalized_flux\": 0.0, \"relative_error\": 100.0, \"symm_relative_error\": 200.0}, {\"BiGG_ID\": \"ICL\", \"author\": \"iML1515\", \"sample_id\": \"fbp\", \"flux\": 1.9984014443252818e-15, \"normalized_flux\": 0.0, \"relative_error\": 100.0, \"symm_relative_error\": 200.0}, {\"BiGG_ID\": \"ICL\", \"author\": \"iML1515\", \"sample_id\": \"glk\", \"flux\": null, \"normalized_flux\": null, \"relative_error\": null, \"symm_relative_error\": null}, {\"BiGG_ID\": \"ICL\", \"author\": \"iML1515\", \"sample_id\": \"gnd\", \"flux\": -1.6962767241559749e-15, \"normalized_flux\": 0.0, \"relative_error\": 100.0, \"symm_relative_error\": 200.0}, {\"BiGG_ID\": \"ICL\", \"author\": \"iML1515\", \"sample_id\": \"gpmA\", \"flux\": -1.7763568394002505e-15, \"normalized_flux\": 0.0, \"relative_error\": 100.0, \"symm_relative_error\": 200.0}, {\"BiGG_ID\": \"ICL\", \"author\": \"iML1515\", \"sample_id\": \"gpmB\", \"flux\": null, \"normalized_flux\": null, \"relative_error\": null, \"symm_relative_error\": null}, {\"BiGG_ID\": \"ICL\", \"author\": \"iML1515\", \"sample_id\": \"pfkA\", \"flux\": 1.5265566588595902e-14, \"normalized_flux\": 0.0, \"relative_error\": 100.0, \"symm_relative_error\": 200.0}, {\"BiGG_ID\": \"ICL\", \"author\": \"iML1515\", \"sample_id\": \"pfkB\", \"flux\": 1.5265566588595902e-14, \"normalized_flux\": 0.0, \"relative_error\": 100.0, \"symm_relative_error\": 200.0}, {\"BiGG_ID\": \"ICL\", \"author\": \"iML1515\", \"sample_id\": \"pgi\", \"flux\": 4.413455552489759e-15, \"normalized_flux\": 0.0, \"relative_error\": 100.0, \"symm_relative_error\": 200.0}, {\"BiGG_ID\": \"ICL\", \"author\": \"iML1515\", \"sample_id\": \"pgl\", \"flux\": 0.0, \"normalized_flux\": 0.0, \"relative_error\": 100.0, \"symm_relative_error\": 200.0}, {\"BiGG_ID\": \"ICL\", \"author\": \"iML1515\", \"sample_id\": \"pgm\", \"flux\": null, \"normalized_flux\": null, \"relative_error\": null, \"symm_relative_error\": null}, {\"BiGG_ID\": \"ICL\", \"author\": \"iML1515\", \"sample_id\": \"ppc\", \"flux\": null, \"normalized_flux\": null, \"relative_error\": null, \"symm_relative_error\": null}, {\"BiGG_ID\": \"ICL\", \"author\": \"iML1515\", \"sample_id\": \"ppsA\", \"flux\": 0.0, \"normalized_flux\": 0.0, \"relative_error\": 0.0, \"symm_relative_error\": null}, {\"BiGG_ID\": \"ICL\", \"author\": \"iML1515\", \"sample_id\": \"pts\", \"flux\": 1.5921888373710006e-14, \"normalized_flux\": 0.0, \"relative_error\": null, \"symm_relative_error\": null}, {\"BiGG_ID\": \"ICL\", \"author\": \"iML1515\", \"sample_id\": \"pykA\", \"flux\": 0.0, \"normalized_flux\": 0.0, \"relative_error\": 100.0, \"symm_relative_error\": 200.0}, {\"BiGG_ID\": \"ICL\", \"author\": \"iML1515\", \"sample_id\": \"pykF\", \"flux\": 0.0, \"normalized_flux\": 0.0, \"relative_error\": 100.0, \"symm_relative_error\": 200.0}, {\"BiGG_ID\": \"ICL\", \"author\": \"iML1515\", \"sample_id\": \"rpe\", \"flux\": 0.0, \"normalized_flux\": 0.0, \"relative_error\": 100.0, \"symm_relative_error\": 200.0}, {\"BiGG_ID\": \"ICL\", \"author\": \"iML1515\", \"sample_id\": \"rpiA\", \"flux\": 0.0, \"normalized_flux\": 0.0, \"relative_error\": 100.0, \"symm_relative_error\": 200.0}, {\"BiGG_ID\": \"ICL\", \"author\": \"iML1515\", \"sample_id\": \"rpiB\", \"flux\": 0.0, \"normalized_flux\": 0.0, \"relative_error\": 100.0, \"symm_relative_error\": 200.0}, {\"BiGG_ID\": \"ICL\", \"author\": \"iML1515\", \"sample_id\": \"sdhCD\", \"flux\": 0.0, \"normalized_flux\": 0.0, \"relative_error\": null, \"symm_relative_error\": null}, {\"BiGG_ID\": \"ICL\", \"author\": \"iML1515\", \"sample_id\": \"sucA\", \"flux\": null, \"normalized_flux\": null, \"relative_error\": null, \"symm_relative_error\": null}, {\"BiGG_ID\": \"ICL\", \"author\": \"iML1515\", \"sample_id\": \"sucAB\", \"flux\": 0.4706477896979559, \"normalized_flux\": 16.274249820533008, \"relative_error\": null, \"symm_relative_error\": null}, {\"BiGG_ID\": \"ICL\", \"author\": \"iML1515\", \"sample_id\": \"talA\", \"flux\": 0.0, \"normalized_flux\": 0.0, \"relative_error\": 100.0, \"symm_relative_error\": 200.0}, {\"BiGG_ID\": \"ICL\", \"author\": \"iML1515\", \"sample_id\": \"talAB\", \"flux\": null, \"normalized_flux\": null, \"relative_error\": null, \"symm_relative_error\": null}, {\"BiGG_ID\": \"ICL\", \"author\": \"iML1515\", \"sample_id\": \"talB\", \"flux\": null, \"normalized_flux\": null, \"relative_error\": null, \"symm_relative_error\": null}, {\"BiGG_ID\": \"ICL\", \"author\": \"iML1515\", \"sample_id\": \"tkt1\", \"flux\": null, \"normalized_flux\": null, \"relative_error\": null, \"symm_relative_error\": null}, {\"BiGG_ID\": \"ICL\", \"author\": \"iML1515\", \"sample_id\": \"tkt2\", \"flux\": null, \"normalized_flux\": null, \"relative_error\": null, \"symm_relative_error\": null}, {\"BiGG_ID\": \"ICL\", \"author\": \"iML1515\", \"sample_id\": \"tktA\", \"flux\": 0.0, \"normalized_flux\": 0.0, \"relative_error\": 0.0, \"symm_relative_error\": null}, {\"BiGG_ID\": \"ICL\", \"author\": \"iML1515\", \"sample_id\": \"tktB\", \"flux\": 0.0, \"normalized_flux\": 0.0, \"relative_error\": 0.0, \"symm_relative_error\": null}, {\"BiGG_ID\": \"ICL\", \"author\": \"iML1515\", \"sample_id\": \"tpi\", \"flux\": 0.03277956950000682, \"normalized_flux\": 0.6198516150557961, \"relative_error\": null, \"symm_relative_error\": null}, {\"BiGG_ID\": \"ICL\", \"author\": \"iML1515\", \"sample_id\": \"zwf\", \"flux\": 0.0, \"normalized_flux\": 0.0, \"relative_error\": 100.0, \"symm_relative_error\": 200.0}, {\"BiGG_ID\": \"MALS\", \"author\": \"iML1515\", \"sample_id\": \"WT\", \"flux\": 0.00012711000000188689, \"normalized_flux\": 0.0, \"relative_error\": 100.0, \"symm_relative_error\": 200.0}, {\"BiGG_ID\": \"MALS\", \"author\": \"iML1515\", \"sample_id\": \"fbaA\", \"flux\": 0.00012711000000242834, \"normalized_flux\": 0.0, \"relative_error\": null, \"symm_relative_error\": null}, {\"BiGG_ID\": \"MALS\", \"author\": \"iML1515\", \"sample_id\": \"fbaB\", \"flux\": 0.0001271099999997638, \"normalized_flux\": 0.0, \"relative_error\": 100.0, \"symm_relative_error\": 200.0}, {\"BiGG_ID\": \"MALS\", \"author\": \"iML1515\", \"sample_id\": \"fbp\", \"flux\": 0.0001271100000167503, \"normalized_flux\": 0.0, \"relative_error\": 100.0, \"symm_relative_error\": 200.0}, {\"BiGG_ID\": \"MALS\", \"author\": \"iML1515\", \"sample_id\": \"glk\", \"flux\": null, \"normalized_flux\": null, \"relative_error\": null, \"symm_relative_error\": null}, {\"BiGG_ID\": \"MALS\", \"author\": \"iML1515\", \"sample_id\": \"gnd\", \"flux\": 0.00012711000000165118, \"normalized_flux\": 0.0, \"relative_error\": 100.0, \"symm_relative_error\": 200.0}, {\"BiGG_ID\": \"MALS\", \"author\": \"iML1515\", \"sample_id\": \"gpmA\", \"flux\": 0.00012710999999828815, \"normalized_flux\": 0.0, \"relative_error\": 100.0, \"symm_relative_error\": 200.0}, {\"BiGG_ID\": \"MALS\", \"author\": \"iML1515\", \"sample_id\": \"gpmB\", \"flux\": null, \"normalized_flux\": null, \"relative_error\": null, \"symm_relative_error\": null}, {\"BiGG_ID\": \"MALS\", \"author\": \"iML1515\", \"sample_id\": \"pfkA\", \"flux\": 0.0001271100000152514, \"normalized_flux\": 0.0, \"relative_error\": 100.0, \"symm_relative_error\": 200.0}, {\"BiGG_ID\": \"MALS\", \"author\": \"iML1515\", \"sample_id\": \"pfkB\", \"flux\": 0.0001271100000152514, \"normalized_flux\": 0.0, \"relative_error\": 100.0, \"symm_relative_error\": 200.0}, {\"BiGG_ID\": \"MALS\", \"author\": \"iML1515\", \"sample_id\": \"pgi\", \"flux\": 0.00012711000000548424, \"normalized_flux\": 0.0, \"relative_error\": 100.0, \"symm_relative_error\": 200.0}, {\"BiGG_ID\": \"MALS\", \"author\": \"iML1515\", \"sample_id\": \"pgl\", \"flux\": 0.00012710999999998585, \"normalized_flux\": 0.0, \"relative_error\": 100.0, \"symm_relative_error\": 200.0}, {\"BiGG_ID\": \"MALS\", \"author\": \"iML1515\", \"sample_id\": \"pgm\", \"flux\": null, \"normalized_flux\": null, \"relative_error\": null, \"symm_relative_error\": null}, {\"BiGG_ID\": \"MALS\", \"author\": \"iML1515\", \"sample_id\": \"ppc\", \"flux\": null, \"normalized_flux\": null, \"relative_error\": null, \"symm_relative_error\": null}, {\"BiGG_ID\": \"MALS\", \"author\": \"iML1515\", \"sample_id\": \"ppsA\", \"flux\": 0.00012711000000844728, \"normalized_flux\": 0.0, \"relative_error\": 0.0, \"symm_relative_error\": null}, {\"BiGG_ID\": \"MALS\", \"author\": \"iML1515\", \"sample_id\": \"pts\", \"flux\": 0.00012711000001594937, \"normalized_flux\": 0.0, \"relative_error\": null, \"symm_relative_error\": null}, {\"BiGG_ID\": \"MALS\", \"author\": \"iML1515\", \"sample_id\": \"pykA\", \"flux\": 0.00012710999999680824, \"normalized_flux\": 0.0, \"relative_error\": 100.0, \"symm_relative_error\": 200.0}, {\"BiGG_ID\": \"MALS\", \"author\": \"iML1515\", \"sample_id\": \"pykF\", \"flux\": 0.00012710999999680824, \"normalized_flux\": 0.0, \"relative_error\": 100.0, \"symm_relative_error\": 200.0}, {\"BiGG_ID\": \"MALS\", \"author\": \"iML1515\", \"sample_id\": \"rpe\", \"flux\": 0.00012711000000020792, \"normalized_flux\": 0.0, \"relative_error\": 100.0, \"symm_relative_error\": 200.0}, {\"BiGG_ID\": \"MALS\", \"author\": \"iML1515\", \"sample_id\": \"rpiA\", \"flux\": 0.0, \"normalized_flux\": 0.0, \"relative_error\": 100.0, \"symm_relative_error\": 200.0}, {\"BiGG_ID\": \"MALS\", \"author\": \"iML1515\", \"sample_id\": \"rpiB\", \"flux\": 0.0, \"normalized_flux\": 0.0, \"relative_error\": 100.0, \"symm_relative_error\": 200.0}, {\"BiGG_ID\": \"MALS\", \"author\": \"iML1515\", \"sample_id\": \"sdhCD\", \"flux\": 0.0001271100000000488, \"normalized_flux\": 0.0, \"relative_error\": null, \"symm_relative_error\": null}, {\"BiGG_ID\": \"MALS\", \"author\": \"iML1515\", \"sample_id\": \"sucA\", \"flux\": null, \"normalized_flux\": null, \"relative_error\": null, \"symm_relative_error\": null}, {\"BiGG_ID\": \"MALS\", \"author\": \"iML1515\", \"sample_id\": \"sucAB\", \"flux\": 0.4707748996979559, \"normalized_flux\": 16.278645081575274, \"relative_error\": null, \"symm_relative_error\": null}, {\"BiGG_ID\": \"MALS\", \"author\": \"iML1515\", \"sample_id\": \"talA\", \"flux\": 0.00012711000000188689, \"normalized_flux\": 0.0, \"relative_error\": 100.0, \"symm_relative_error\": 200.0}, {\"BiGG_ID\": \"MALS\", \"author\": \"iML1515\", \"sample_id\": \"talAB\", \"flux\": null, \"normalized_flux\": null, \"relative_error\": null, \"symm_relative_error\": null}, {\"BiGG_ID\": \"MALS\", \"author\": \"iML1515\", \"sample_id\": \"talB\", \"flux\": null, \"normalized_flux\": null, \"relative_error\": null, \"symm_relative_error\": null}, {\"BiGG_ID\": \"MALS\", \"author\": \"iML1515\", \"sample_id\": \"tkt1\", \"flux\": null, \"normalized_flux\": null, \"relative_error\": null, \"symm_relative_error\": null}, {\"BiGG_ID\": \"MALS\", \"author\": \"iML1515\", \"sample_id\": \"tkt2\", \"flux\": null, \"normalized_flux\": null, \"relative_error\": null, \"symm_relative_error\": null}, {\"BiGG_ID\": \"MALS\", \"author\": \"iML1515\", \"sample_id\": \"tktA\", \"flux\": 0.00012710999999898814, \"normalized_flux\": 0.0, \"relative_error\": 0.0, \"symm_relative_error\": null}, {\"BiGG_ID\": \"MALS\", \"author\": \"iML1515\", \"sample_id\": \"tktB\", \"flux\": 0.00012710999999898814, \"normalized_flux\": 0.0, \"relative_error\": 0.0, \"symm_relative_error\": null}, {\"BiGG_ID\": \"MALS\", \"author\": \"iML1515\", \"sample_id\": \"tpi\", \"flux\": 0.0329066794999715, \"normalized_flux\": 0.622255226206572, \"relative_error\": null, \"symm_relative_error\": null}, {\"BiGG_ID\": \"MALS\", \"author\": \"iML1515\", \"sample_id\": \"zwf\", \"flux\": 0.00012710999998843654, \"normalized_flux\": 0.0, \"relative_error\": 100.0, \"symm_relative_error\": 200.0}, {\"BiGG_ID\": \"MDH\", \"author\": \"iML1515\", \"sample_id\": \"WT\", \"flux\": 1.0753633328462058, \"normalized_flux\": 37.60011653308412, \"relative_error\": 56.53165718718599, \"symm_relative_error\": 78.80715156924056}, {\"BiGG_ID\": \"MDH\", \"author\": \"iML1515\", \"sample_id\": \"fbaA\", \"flux\": 1.0753633328462058, \"normalized_flux\": 37.60011653308412, \"relative_error\": null, \"symm_relative_error\": null}, {\"BiGG_ID\": \"MDH\", \"author\": \"iML1515\", \"sample_id\": \"fbaB\", \"flux\": 1.0753633328461956, \"normalized_flux\": 37.60011653308376, \"relative_error\": 55.76456878460735, \"symm_relative_error\": 77.3243693518437}, {\"BiGG_ID\": \"MDH\", \"author\": \"iML1515\", \"sample_id\": \"fbp\", \"flux\": 1.0753633328462209, \"normalized_flux\": 37.60011653308464, \"relative_error\": 60.42092996517406, \"symm_relative_error\": 86.57591707710708}, {\"BiGG_ID\": \"MDH\", \"author\": \"iML1515\", \"sample_id\": \"glk\", \"flux\": null, \"normalized_flux\": null, \"relative_error\": null, \"symm_relative_error\": null}, {\"BiGG_ID\": \"MDH\", \"author\": \"iML1515\", \"sample_id\": \"gnd\", \"flux\": 1.3505209967692753, \"normalized_flux\": 46.928379442806104, \"relative_error\": 59.8902739805076, \"symm_relative_error\": 85.49053043209224}, {\"BiGG_ID\": \"MDH\", \"author\": \"iML1515\", \"sample_id\": \"gpmA\", \"flux\": 1.5120371734329583, \"normalized_flux\": 49.11677905762907, \"relative_error\": 37.82686195236827, \"symm_relative_error\": 46.64997225527963}, {\"BiGG_ID\": \"MDH\", \"author\": \"iML1515\", \"sample_id\": \"gpmB\", \"flux\": null, \"normalized_flux\": null, \"relative_error\": null, \"symm_relative_error\": null}, {\"BiGG_ID\": \"MDH\", \"author\": \"iML1515\", \"sample_id\": \"pfkA\", \"flux\": 1.0753633328462229, \"normalized_flux\": 37.600116533084716, \"relative_error\": 53.580103045574425, \"symm_relative_error\": 73.18691538521118}, {\"BiGG_ID\": \"MDH\", \"author\": \"iML1515\", \"sample_id\": \"pfkB\", \"flux\": 1.0753633328462229, \"normalized_flux\": 37.600116533084716, \"relative_error\": 58.222092741016986, \"symm_relative_error\": 82.13140378022901}, {\"BiGG_ID\": \"MDH\", \"author\": \"iML1515\", \"sample_id\": \"pgi\", \"flux\": 1.075363332846206, \"normalized_flux\": 37.28641308621333, \"relative_error\": 53.96739125158848, \"symm_relative_error\": 73.91142528250631}, {\"BiGG_ID\": \"MDH\", \"author\": \"iML1515\", \"sample_id\": \"pgl\", \"flux\": 1.075363332846205, \"normalized_flux\": 37.10431540889126, \"relative_error\": 60.52732403309441, \"symm_relative_error\": 86.79452604387754}, {\"BiGG_ID\": \"MDH\", \"author\": \"iML1515\", \"sample_id\": \"pgm\", \"flux\": null, \"normalized_flux\": null, \"relative_error\": null, \"symm_relative_error\": null}, {\"BiGG_ID\": \"MDH\", \"author\": \"iML1515\", \"sample_id\": \"ppc\", \"flux\": null, \"normalized_flux\": null, \"relative_error\": null, \"symm_relative_error\": null}, {\"BiGG_ID\": \"MDH\", \"author\": \"iML1515\", \"sample_id\": \"ppsA\", \"flux\": 1.0753633328462122, \"normalized_flux\": 37.600116533084346, \"relative_error\": 52.404915780905895, \"symm_relative_error\": 71.01173600485856}, {\"BiGG_ID\": \"MDH\", \"author\": \"iML1515\", \"sample_id\": \"pts\", \"flux\": 1.1368687091902905, \"normalized_flux\": 39.32777486783856, \"relative_error\": null, \"symm_relative_error\": null}, {\"BiGG_ID\": \"MDH\", \"author\": \"iML1515\", \"sample_id\": \"pykA\", \"flux\": 1.0753633328461858, \"normalized_flux\": 37.60011653308343, \"relative_error\": 59.13030811621366, \"symm_relative_error\": 83.95036196287639}, {\"BiGG_ID\": \"MDH\", \"author\": \"iML1515\", \"sample_id\": \"pykF\", \"flux\": 1.0753633328461858, \"normalized_flux\": 37.60011653308343, \"relative_error\": 56.7814752493294, \"symm_relative_error\": 79.29347875657896}, {\"BiGG_ID\": \"MDH\", \"author\": \"iML1515\", \"sample_id\": \"rpe\", \"flux\": 1.2658345929394907, \"normalized_flux\": 44.069721239289066, \"relative_error\": 63.87727767271388, \"symm_relative_error\": 93.85248337765506}, {\"BiGG_ID\": \"MDH\", \"author\": \"iML1515\", \"sample_id\": \"rpiA\", \"flux\": 0.9068417201734984, \"normalized_flux\": 11.28820959887067, \"relative_error\": 89.83044180281922, \"symm_relative_error\": 163.07670335219328}, {\"BiGG_ID\": \"MDH\", \"author\": \"iML1515\", \"sample_id\": \"rpiB\", \"flux\": 0.9068417201734984, \"normalized_flux\": 11.28820959887067, \"relative_error\": 89.92124142957977, \"symm_relative_error\": 163.37619100610553}, {\"BiGG_ID\": \"MDH\", \"author\": \"iML1515\", \"sample_id\": \"sdhCD\", \"flux\": 0.6916694941009902, \"normalized_flux\": 20.500409398425624, \"relative_error\": null, \"symm_relative_error\": null}, {\"BiGG_ID\": \"MDH\", \"author\": \"iML1515\", \"sample_id\": \"sucA\", \"flux\": null, \"normalized_flux\": null, \"relative_error\": null, \"symm_relative_error\": null}, {\"BiGG_ID\": \"MDH\", \"author\": \"iML1515\", \"sample_id\": \"sucAB\", \"flux\": 1.5460111225441624, \"normalized_flux\": 53.45859851961322, \"relative_error\": null, \"symm_relative_error\": null}, {\"BiGG_ID\": \"MDH\", \"author\": \"iML1515\", \"sample_id\": \"talA\", \"flux\": 1.0753633328462058, \"normalized_flux\": 37.60011653308412, \"relative_error\": 52.40491578090618, \"symm_relative_error\": 71.0117360048591}, {\"BiGG_ID\": \"MDH\", \"author\": \"iML1515\", \"sample_id\": \"talAB\", \"flux\": null, \"normalized_flux\": null, \"relative_error\": null, \"symm_relative_error\": null}, {\"BiGG_ID\": \"MDH\", \"author\": \"iML1515\", \"sample_id\": \"talB\", \"flux\": null, \"normalized_flux\": null, \"relative_error\": null, \"symm_relative_error\": null}, {\"BiGG_ID\": \"MDH\", \"author\": \"iML1515\", \"sample_id\": \"tkt1\", \"flux\": null, \"normalized_flux\": null, \"relative_error\": null, \"symm_relative_error\": null}, {\"BiGG_ID\": \"MDH\", \"author\": \"iML1515\", \"sample_id\": \"tkt2\", \"flux\": null, \"normalized_flux\": null, \"relative_error\": null, \"symm_relative_error\": null}, {\"BiGG_ID\": \"MDH\", \"author\": \"iML1515\", \"sample_id\": \"tktA\", \"flux\": 1.3074576665564963, \"normalized_flux\": 45.47610584501847, \"relative_error\": 63.02755622356221, \"symm_relative_error\": 92.02954183460996}, {\"BiGG_ID\": \"MDH\", \"author\": \"iML1515\", \"sample_id\": \"tktB\", \"flux\": 1.3074576665564963, \"normalized_flux\": 45.47610584501847, \"relative_error\": 45.86177875593039, \"symm_relative_error\": 59.5073413794113}, {\"BiGG_ID\": \"MDH\", \"author\": \"iML1515\", \"sample_id\": \"tpi\", \"flux\": 1.140922471846191, \"normalized_flux\": 21.57449434554549, \"relative_error\": null, \"symm_relative_error\": null}, {\"BiGG_ID\": \"MDH\", \"author\": \"iML1515\", \"sample_id\": \"zwf\", \"flux\": 1.0753633328462036, \"normalized_flux\": 37.10431540889172, \"relative_error\": 67.73537790531154, \"symm_relative_error\": 102.42402969528719}, {\"BiGG_ID\": \"PDH\", \"author\": \"iML1515\", \"sample_id\": \"WT\", \"flux\": 3.41683003880767, \"normalized_flux\": 119.46958177649195, \"relative_error\": 6.664389237115664, \"symm_relative_error\": 6.894114551187547}, {\"BiGG_ID\": \"PDH\", \"author\": \"iML1515\", \"sample_id\": \"fbaA\", \"flux\": 3.41683003880767, \"normalized_flux\": 119.46958177649195, \"relative_error\": null, \"symm_relative_error\": null}, {\"BiGG_ID\": \"PDH\", \"author\": \"iML1515\", \"sample_id\": \"fbaB\", \"flux\": 3.41683003880767, \"normalized_flux\": 119.46958177649195, \"relative_error\": 2.870258718299228, \"symm_relative_error\": 2.912050408667248}, {\"BiGG_ID\": \"PDH\", \"author\": \"iML1515\", \"sample_id\": \"fbp\", \"flux\": 3.41683003880767, \"normalized_flux\": 119.46958177649195, \"relative_error\": 15.86649170669581, \"symm_relative_error\": 17.23368207531489}, {\"BiGG_ID\": \"PDH\", \"author\": \"iML1515\", \"sample_id\": \"glk\", \"flux\": null, \"normalized_flux\": null, \"relative_error\": null, \"symm_relative_error\": null}, {\"BiGG_ID\": \"PDH\", \"author\": \"iML1515\", \"sample_id\": \"gnd\", \"flux\": 3.6919877027307524, \"normalized_flux\": 128.29048954173535, \"relative_error\": 13.899000307560163, \"symm_relative_error\": 14.937050666606167}, {\"BiGG_ID\": \"PDH\", \"author\": \"iML1515\", \"sample_id\": \"gpmA\", \"flux\": 3.853503879394428, \"normalized_flux\": 125.17661732628339, \"relative_error\": 6.081879090070671, \"symm_relative_error\": 5.902390949582238}, {\"BiGG_ID\": \"PDH\", \"author\": \"iML1515\", \"sample_id\": \"gpmB\", \"flux\": null, \"normalized_flux\": null, \"relative_error\": null, \"symm_relative_error\": null}, {\"BiGG_ID\": \"PDH\", \"author\": \"iML1515\", \"sample_id\": \"pfkA\", \"flux\": 3.41683003880767, \"normalized_flux\": 119.46958177649195, \"relative_error\": 0.4420151862567086, \"symm_relative_error\": 0.44299423715794867}, {\"BiGG_ID\": \"PDH\", \"author\": \"iML1515\", \"sample_id\": \"pfkB\", \"flux\": 3.41683003880767, \"normalized_flux\": 119.46958177649195, \"relative_error\": 8.100321710390809, \"symm_relative_error\": 8.442246263869235}, {\"BiGG_ID\": \"PDH\", \"author\": \"iML1515\", \"sample_id\": \"pgi\", \"flux\": 3.416830038807658, \"normalized_flux\": 118.47282902529936, \"relative_error\": 2.8911237497546214, \"symm_relative_error\": 2.9335297372241222}, {\"BiGG_ID\": \"PDH\", \"author\": \"iML1515\", \"sample_id\": \"pgl\", \"flux\": 3.4932627232307696, \"normalized_flux\": 120.53146869516151, \"relative_error\": 7.991245270869078, \"symm_relative_error\": 8.323834277392638}, {\"BiGG_ID\": \"PDH\", \"author\": \"iML1515\", \"sample_id\": \"pgm\", \"flux\": null, \"normalized_flux\": null, \"relative_error\": null, \"symm_relative_error\": null}, {\"BiGG_ID\": \"PDH\", \"author\": \"iML1515\", \"sample_id\": \"ppc\", \"flux\": null, \"normalized_flux\": null, \"relative_error\": null, \"symm_relative_error\": null}, {\"BiGG_ID\": \"PDH\", \"author\": \"iML1515\", \"sample_id\": \"ppsA\", \"flux\": 3.41683003880767, \"normalized_flux\": 119.46958177649195, \"relative_error\": 4.797878751308728, \"symm_relative_error\": 4.685476998650864}, {\"BiGG_ID\": \"PDH\", \"author\": \"iML1515\", \"sample_id\": \"pts\", \"flux\": 3.4783354151517645, \"normalized_flux\": 120.3262883533383, \"relative_error\": null, \"symm_relative_error\": null}, {\"BiGG_ID\": \"PDH\", \"author\": \"iML1515\", \"sample_id\": \"pykA\", \"flux\": 3.41683003880767, \"normalized_flux\": 119.46958177649195, \"relative_error\": 7.387921103494613, \"symm_relative_error\": 7.671295742012421}, {\"BiGG_ID\": \"PDH\", \"author\": \"iML1515\", \"sample_id\": \"pykF\", \"flux\": 3.41683003880767, \"normalized_flux\": 119.46958177649195, \"relative_error\": 9.49274107841519, \"symm_relative_error\": 9.965752625019418}, {\"BiGG_ID\": \"PDH\", \"author\": \"iML1515\", \"sample_id\": \"rpe\", \"flux\": 3.607301298900992, \"normalized_flux\": 125.58731097680727, \"relative_error\": 17.91679021123708, \"symm_relative_error\": 19.679782921250755}, {\"BiGG_ID\": \"PDH\", \"author\": \"iML1515\", \"sample_id\": \"rpiA\", \"flux\": 11.82605859113492, \"normalized_flux\": 147.20874121198975, \"relative_error\": 1.523269801372239, \"symm_relative_error\": 1.5117557420278287}, {\"BiGG_ID\": \"PDH\", \"author\": \"iML1515\", \"sample_id\": \"rpiB\", \"flux\": 11.82605859113492, \"normalized_flux\": 147.20874121198975, \"relative_error\": 6.673000878253439, \"symm_relative_error\": 6.4575448654605445}, {\"BiGG_ID\": \"PDH\", \"author\": \"iML1515\", \"sample_id\": \"sdhCD\", \"flux\": 3.4168300388076687, \"normalized_flux\": 101.27151079785557, \"relative_error\": null, \"symm_relative_error\": null}, {\"BiGG_ID\": \"PDH\", \"author\": \"iML1515\", \"sample_id\": \"sucA\", \"flux\": null, \"normalized_flux\": null, \"relative_error\": null, \"symm_relative_error\": null}, {\"BiGG_ID\": \"PDH\", \"author\": \"iML1515\", \"sample_id\": \"sucAB\", \"flux\": 3.940542128130392, \"normalized_flux\": 136.25766109022766, \"relative_error\": null, \"symm_relative_error\": null}, {\"BiGG_ID\": \"PDH\", \"author\": \"iML1515\", \"sample_id\": \"talA\", \"flux\": 3.41683003880767, \"normalized_flux\": 119.46958177649195, \"relative_error\": 2.1107536551213246, \"symm_relative_error\": 2.0887098948956293}, {\"BiGG_ID\": \"PDH\", \"author\": \"iML1515\", \"sample_id\": \"talAB\", \"flux\": null, \"normalized_flux\": null, \"relative_error\": null, \"symm_relative_error\": null}, {\"BiGG_ID\": \"PDH\", \"author\": \"iML1515\", \"sample_id\": \"talB\", \"flux\": null, \"normalized_flux\": null, \"relative_error\": null, \"symm_relative_error\": null}, {\"BiGG_ID\": \"PDH\", \"author\": \"iML1515\", \"sample_id\": \"tkt1\", \"flux\": null, \"normalized_flux\": null, \"relative_error\": null, \"symm_relative_error\": null}, {\"BiGG_ID\": \"PDH\", \"author\": \"iML1515\", \"sample_id\": \"tkt2\", \"flux\": null, \"normalized_flux\": null, \"relative_error\": null, \"symm_relative_error\": null}, {\"BiGG_ID\": \"PDH\", \"author\": \"iML1515\", \"sample_id\": \"tktA\", \"flux\": 3.648924372517974, \"normalized_flux\": 126.91720369205895, \"relative_error\": 13.661766195878267, \"symm_relative_error\": 14.663406341223006}, {\"BiGG_ID\": \"PDH\", \"author\": \"iML1515\", \"sample_id\": \"tktB\", \"flux\": 3.648924372517974, \"normalized_flux\": 126.91720369205895, \"relative_error\": 5.764336410049123, \"symm_relative_error\": 5.6028527689676}, {\"BiGG_ID\": \"PDH\", \"author\": \"iML1515\", \"sample_id\": \"tpi\", \"flux\": 3.482389177807645, \"normalized_flux\": 65.85091229207406, \"relative_error\": null, \"symm_relative_error\": null}, {\"BiGG_ID\": \"PDH\", \"author\": \"iML1515\", \"sample_id\": \"zwf\", \"flux\": 3.4932627232307296, \"normalized_flux\": 120.5314686951618, \"relative_error\": 22.73623801592192, \"symm_relative_error\": 25.652437657239947}, {\"BiGG_ID\": \"PGI\", \"author\": \"iML1515\", \"sample_id\": \"WT\", \"flux\": 2.141532766423089, \"normalized_flux\": 74.87876805675137, \"relative_error\": 9.237856900907431, \"symm_relative_error\": 9.685209812419407}, {\"BiGG_ID\": \"PGI\", \"author\": \"iML1515\", \"sample_id\": \"fbaA\", \"flux\": 2.1415327664231056, \"normalized_flux\": 74.87876805675195, \"relative_error\": null, \"symm_relative_error\": null}, {\"BiGG_ID\": \"PGI\", \"author\": \"iML1515\", \"sample_id\": \"fbaB\", \"flux\": 2.141532766423089, \"normalized_flux\": 74.87876805675137, \"relative_error\": 2.573654872262149, \"symm_relative_error\": 2.5409571386615215}, {\"BiGG_ID\": \"PGI\", \"author\": \"iML1515\", \"sample_id\": \"fbp\", \"flux\": 2.141532766423089, \"normalized_flux\": 74.87876805675137, \"relative_error\": 11.907331697939567, \"symm_relative_error\": 12.661133265245011}, {\"BiGG_ID\": \"PGI\", \"author\": \"iML1515\", \"sample_id\": \"glk\", \"flux\": null, \"normalized_flux\": null, \"relative_error\": null, \"symm_relative_error\": null}, {\"BiGG_ID\": \"PGI\", \"author\": \"iML1515\", \"sample_id\": \"gnd\", \"flux\": 2.602676629108972, \"normalized_flux\": 90.438724544033, \"relative_error\": 8.647752985825258, \"symm_relative_error\": 9.038569570792301}, {\"BiGG_ID\": \"PGI\", \"author\": \"iML1515\", \"sample_id\": \"gpmA\", \"flux\": 2.141532766423089, \"normalized_flux\": 69.56521544656309, \"relative_error\": 16.186487413779414, \"symm_relative_error\": 17.611858003297648}, {\"BiGG_ID\": \"PGI\", \"author\": \"iML1515\", \"sample_id\": \"gpmB\", \"flux\": null, \"normalized_flux\": null, \"relative_error\": null, \"symm_relative_error\": null}, {\"BiGG_ID\": \"PGI\", \"author\": \"iML1515\", \"sample_id\": \"pfkA\", \"flux\": 2.141532766423089, \"normalized_flux\": 74.87876805675137, \"relative_error\": 10.85860945624837, \"symm_relative_error\": 11.48200235287642}, {\"BiGG_ID\": \"PGI\", \"author\": \"iML1515\", \"sample_id\": \"pfkB\", \"flux\": 2.141532766423089, \"normalized_flux\": 74.87876805675137, \"relative_error\": 43.997630878368014, \"symm_relative_error\": 36.06398203128512}, {\"BiGG_ID\": \"PGI\", \"author\": \"iML1515\", \"sample_id\": \"pgi\", \"flux\": 0.0, \"normalized_flux\": 0.0, \"relative_error\": 0.0, \"symm_relative_error\": null}, {\"BiGG_ID\": \"PGI\", \"author\": \"iML1515\", \"sample_id\": \"pgl\", \"flux\": 2.17974910863464, \"normalized_flux\": 75.21002062155692, \"relative_error\": 3.576896639029588, \"symm_relative_error\": 3.6420325082190135}, {\"BiGG_ID\": \"PGI\", \"author\": \"iML1515\", \"sample_id\": \"pgm\", \"flux\": null, \"normalized_flux\": null, \"relative_error\": null, \"symm_relative_error\": null}, {\"BiGG_ID\": \"PGI\", \"author\": \"iML1515\", \"sample_id\": \"ppc\", \"flux\": null, \"normalized_flux\": null, \"relative_error\": null, \"symm_relative_error\": null}, {\"BiGG_ID\": \"PGI\", \"author\": \"iML1515\", \"sample_id\": \"ppsA\", \"flux\": 2.141532766423089, \"normalized_flux\": 74.87876805675137, \"relative_error\": 10.115835377575543, \"symm_relative_error\": 9.628817703718058}, {\"BiGG_ID\": \"PGI\", \"author\": \"iML1515\", \"sample_id\": \"pts\", \"flux\": 2.1722854545951265, \"normalized_flux\": 75.14601520508373, \"relative_error\": null, \"symm_relative_error\": null}, {\"BiGG_ID\": \"PGI\", \"author\": \"iML1515\", \"sample_id\": \"pykA\", \"flux\": 2.141532766423089, \"normalized_flux\": 74.87876805675137, \"relative_error\": 1.1875244010153634, \"symm_relative_error\": 1.1805149494740441}, {\"BiGG_ID\": \"PGI\", \"author\": \"iML1515\", \"sample_id\": \"pykF\", \"flux\": 2.141532766423089, \"normalized_flux\": 74.87876805675137, \"relative_error\": 59.31652778032206, \"symm_relative_error\": 45.74835880154279}, {\"BiGG_ID\": \"PGI\", \"author\": \"iML1515\", \"sample_id\": \"rpe\", \"flux\": 2.460748489357192, \"normalized_flux\": 85.67035580386998, \"relative_error\": 6.88004803927176, \"symm_relative_error\": 7.125155085654583}, {\"BiGG_ID\": \"PGI\", \"author\": \"iML1515\", \"sample_id\": \"rpiA\", \"flux\": 5.3693755332409205, \"normalized_flux\": 66.83706217516695, \"relative_error\": 0.24319078333291205, \"symm_relative_error\": 0.24348685212440907}, {\"BiGG_ID\": \"PGI\", \"author\": \"iML1515\", \"sample_id\": \"rpiB\", \"flux\": 5.3693755332409205, \"normalized_flux\": 66.83706217516695, \"relative_error\": 31.053063088562645, \"symm_relative_error\": 26.87959438707809}, {\"BiGG_ID\": \"PGI\", \"author\": \"iML1515\", \"sample_id\": \"sdhCD\", \"flux\": 2.1415327664230888, \"normalized_flux\": 63.47294311263374, \"relative_error\": null, \"symm_relative_error\": null}, {\"BiGG_ID\": \"PGI\", \"author\": \"iML1515\", \"sample_id\": \"sucA\", \"flux\": null, \"normalized_flux\": null, \"relative_error\": null, \"symm_relative_error\": null}, {\"BiGG_ID\": \"PGI\", \"author\": \"iML1515\", \"sample_id\": \"sucAB\", \"flux\": 2.141532766423089, \"normalized_flux\": 74.05078702694671, \"relative_error\": null, \"symm_relative_error\": null}, {\"BiGG_ID\": \"PGI\", \"author\": \"iML1515\", \"sample_id\": \"talA\", \"flux\": 2.1415327664230785, \"normalized_flux\": 74.878768056751, \"relative_error\": 11.90733169794, \"symm_relative_error\": 12.661133265245502}, {\"BiGG_ID\": \"PGI\", \"author\": \"iML1515\", \"sample_id\": \"talAB\", \"flux\": null, \"normalized_flux\": null, \"relative_error\": null, \"symm_relative_error\": null}, {\"BiGG_ID\": \"PGI\", \"author\": \"iML1515\", \"sample_id\": \"talB\", \"flux\": null, \"normalized_flux\": null, \"relative_error\": null, \"symm_relative_error\": null}, {\"BiGG_ID\": \"PGI\", \"author\": \"iML1515\", \"sample_id\": \"tkt1\", \"flux\": null, \"normalized_flux\": null, \"relative_error\": null, \"symm_relative_error\": null}, {\"BiGG_ID\": \"PGI\", \"author\": \"iML1515\", \"sample_id\": \"tkt2\", \"flux\": null, \"normalized_flux\": null, \"relative_error\": null, \"symm_relative_error\": null}, {\"BiGG_ID\": \"PGI\", \"author\": \"iML1515\", \"sample_id\": \"tktA\", \"flux\": 2.53050567754869, \"normalized_flux\": 88.01626773638394, \"relative_error\": 12.84136889279992, \"symm_relative_error\": 12.066609944862389}, {\"BiGG_ID\": \"PGI\", \"author\": \"iML1515\", \"sample_id\": \"tktB\", \"flux\": 2.53050567754869, \"normalized_flux\": 88.01626773638394, \"relative_error\": 2.3444973678883, \"symm_relative_error\": 2.317332468523423}, {\"BiGG_ID\": \"PGI\", \"author\": \"iML1515\", \"sample_id\": \"tpi\", \"flux\": 3.291422544730706, \"normalized_flux\": 62.239791775848744, \"relative_error\": null, \"symm_relative_error\": null}, {\"BiGG_ID\": \"PGI\", \"author\": \"iML1515\", \"sample_id\": \"zwf\", \"flux\": 2.179749108634609, \"normalized_flux\": 75.21002062155691, \"relative_error\": 24.03028220044757, \"symm_relative_error\": 27.311838083209896}, {\"BiGG_ID\": \"PGM\", \"author\": \"iML1515\", \"sample_id\": \"WT\", \"flux\": 4.696923688807671, \"normalized_flux\": 164.22810100726124, \"relative_error\": 1.3753709921365707, \"symm_relative_error\": 1.3659773639252808}, {\"BiGG_ID\": \"PGM\", \"author\": \"iML1515\", \"sample_id\": \"fbaA\", \"flux\": 4.696923688807678, \"normalized_flux\": 164.22810100726153, \"relative_error\": null, \"symm_relative_error\": null}, {\"BiGG_ID\": \"PGM\", \"author\": \"iML1515\", \"sample_id\": \"fbaB\", \"flux\": 4.696923688807671, \"normalized_flux\": 164.22810100726124, \"relative_error\": 3.288113841044808, \"symm_relative_error\": 3.2349297545412345}, {\"BiGG_ID\": \"PGM\", \"author\": \"iML1515\", \"sample_id\": \"fbp\", \"flux\": 4.696923688807671, \"normalized_flux\": 164.22810100726124, \"relative_error\": 1.3753709921365707, \"symm_relative_error\": 1.3659773639252808}, {\"BiGG_ID\": \"PGM\", \"author\": \"iML1515\", \"sample_id\": \"glk\", \"flux\": null, \"normalized_flux\": null, \"relative_error\": null, \"symm_relative_error\": null}, {\"BiGG_ID\": \"PGM\", \"author\": \"iML1515\", \"sample_id\": \"gnd\", \"flux\": 4.696923688807671, \"normalized_flux\": 163.21035926842947, \"relative_error\": 5.658751867959843, \"symm_relative_error\": 5.823521174583741}, {\"BiGG_ID\": \"PGM\", \"author\": \"iML1515\", \"sample_id\": \"gpmA\", \"flux\": -0.0, \"normalized_flux\": 0.0, \"relative_error\": 100.0, \"symm_relative_error\": 200.0}, {\"BiGG_ID\": \"PGM\", \"author\": \"iML1515\", \"sample_id\": \"gpmB\", \"flux\": null, \"normalized_flux\": null, \"relative_error\": null, \"symm_relative_error\": null}, {\"BiGG_ID\": \"PGM\", \"author\": \"iML1515\", \"sample_id\": \"pfkA\", \"flux\": 4.696923688807686, \"normalized_flux\": 164.2281010072618, \"relative_error\": 1.3753709921369217, \"symm_relative_error\": 1.365977363925627}, {\"BiGG_ID\": \"PGM\", \"author\": \"iML1515\", \"sample_id\": \"pfkB\", \"flux\": 4.696923688807686, \"normalized_flux\": 164.2281010072618, \"relative_error\": 7.338628109321446, \"symm_relative_error\": 7.078881707900641}, {\"BiGG_ID\": \"PGM\", \"author\": \"iML1515\", \"sample_id\": \"pgi\", \"flux\": 4.696923688807671, \"normalized_flux\": 162.85792117514043, \"relative_error\": 49.410936857927, \"symm_relative_error\": 39.62210918286488}, {\"BiGG_ID\": \"PGM\", \"author\": \"iML1515\", \"sample_id\": \"pgl\", \"flux\": 4.773356373230767, \"normalized_flux\": 164.69979496383448, \"relative_error\": 1.666540101132394, \"symm_relative_error\": 1.652768079718779}, {\"BiGG_ID\": \"PGM\", \"author\": \"iML1515\", \"sample_id\": \"pgm\", \"flux\": null, \"normalized_flux\": null, \"relative_error\": null, \"symm_relative_error\": null}, {\"BiGG_ID\": \"PGM\", \"author\": \"iML1515\", \"sample_id\": \"ppc\", \"flux\": null, \"normalized_flux\": null, \"relative_error\": null, \"symm_relative_error\": null}, {\"BiGG_ID\": \"PGM\", \"author\": \"iML1515\", \"sample_id\": \"ppsA\", \"flux\": 4.696923688807659, \"normalized_flux\": 164.22810100726082, \"relative_error\": 2.6425631295380114, \"symm_relative_error\": 2.608102748728824}, {\"BiGG_ID\": \"PGM\", \"author\": \"iML1515\", \"sample_id\": \"pts\", \"flux\": 4.758429065151742, \"normalized_flux\": 164.60865312420503, \"relative_error\": null, \"symm_relative_error\": null}, {\"BiGG_ID\": \"PGM\", \"author\": \"iML1515\", \"sample_id\": \"pykA\", \"flux\": 4.696923688807671, \"normalized_flux\": 164.22810100726124, \"relative_error\": 2.642563129538278, \"symm_relative_error\": 2.6081027487290838}, {\"BiGG_ID\": \"PGM\", \"author\": \"iML1515\", \"sample_id\": \"pykF\", \"flux\": 4.696923688807671, \"normalized_flux\": 164.22810100726124, \"relative_error\": 9.485400671507497, \"symm_relative_error\": 9.055906178761816}, {\"BiGG_ID\": \"PGM\", \"author\": \"iML1515\", \"sample_id\": \"rpe\", \"flux\": 4.696923688807671, \"normalized_flux\": 163.5222475373305, \"relative_error\": 5.478469631600875, \"symm_relative_error\": 5.632764271621088}, {\"BiGG_ID\": \"PGM\", \"author\": \"iML1515\", \"sample_id\": \"rpiA\", \"flux\": 10.882159806308383, \"normalized_flux\": 135.4592516525518, \"relative_error\": 8.473478613140667, \"symm_relative_error\": 8.848360583989631}, {\"BiGG_ID\": \"PGM\", \"author\": \"iML1515\", \"sample_id\": \"rpiB\", \"flux\": 10.882159806308383, \"normalized_flux\": 135.4592516525518, \"relative_error\": 16.38317799225197, \"symm_relative_error\": 17.84496410852885}, {\"BiGG_ID\": \"PGM\", \"author\": \"iML1515\", \"sample_id\": \"sdhCD\", \"flux\": 5.553473943149669, \"normalized_flux\": 164.5995528052511, \"relative_error\": null, \"symm_relative_error\": null}, {\"BiGG_ID\": \"PGM\", \"author\": \"iML1515\", \"sample_id\": \"sucA\", \"flux\": null, \"normalized_flux\": null, \"relative_error\": null, \"symm_relative_error\": null}, {\"BiGG_ID\": \"PGM\", \"author\": \"iML1515\", \"sample_id\": \"sucAB\", \"flux\": 4.7499879884324345, \"normalized_flux\": 164.2470077632583, \"relative_error\": null, \"symm_relative_error\": null}, {\"BiGG_ID\": \"PGM\", \"author\": \"iML1515\", \"sample_id\": \"talA\", \"flux\": 4.696923688807671, \"normalized_flux\": 164.22810100726124, \"relative_error\": 0.7534362007737697, \"symm_relative_error\": 0.7506085226060661}, {\"BiGG_ID\": \"PGM\", \"author\": \"iML1515\", \"sample_id\": \"talAB\", \"flux\": null, \"normalized_flux\": null, \"relative_error\": null, \"symm_relative_error\": null}, {\"BiGG_ID\": \"PGM\", \"author\": \"iML1515\", \"sample_id\": \"talB\", \"flux\": null, \"normalized_flux\": null, \"relative_error\": null, \"symm_relative_error\": null}, {\"BiGG_ID\": \"PGM\", \"author\": \"iML1515\", \"sample_id\": \"tkt1\", \"flux\": null, \"normalized_flux\": null, \"relative_error\": null, \"symm_relative_error\": null}, {\"BiGG_ID\": \"PGM\", \"author\": \"iML1515\", \"sample_id\": \"tkt2\", \"flux\": null, \"normalized_flux\": null, \"relative_error\": null, \"symm_relative_error\": null}, {\"BiGG_ID\": \"PGM\", \"author\": \"iML1515\", \"sample_id\": \"tktA\", \"flux\": 4.696923688807671, \"normalized_flux\": 163.3688067168961, \"relative_error\": 0.3848739531121325, \"symm_relative_error\": 0.38561602092391434}, {\"BiGG_ID\": \"PGM\", \"author\": \"iML1515\", \"sample_id\": \"tktB\", \"flux\": 4.696923688807671, \"normalized_flux\": 163.3688067168961, \"relative_error\": 0.9886019897599377, \"symm_relative_error\": 0.9935129340773433}, {\"BiGG_ID\": \"PGM\", \"author\": \"iML1515\", \"sample_id\": \"tpi\", \"flux\": 4.696923688807671, \"normalized_flux\": 88.81738774210127, \"relative_error\": null, \"symm_relative_error\": null}, {\"BiGG_ID\": \"PGM\", \"author\": \"iML1515\", \"sample_id\": \"zwf\", \"flux\": 4.773356373230729, \"normalized_flux\": 164.69979496383544, \"relative_error\": 3.684330430505588, \"symm_relative_error\": 3.7534756533546707}, {\"BiGG_ID\": \"PPC\", \"author\": \"iML1515\", \"sample_id\": \"WT\", \"flux\": 0.5623152600000018, \"normalized_flux\": 19.661372727272788, \"relative_error\": 57.29098181818231, \"symm_relative_error\": 44.53399914239329}, {\"BiGG_ID\": \"PPC\", \"author\": \"iML1515\", \"sample_id\": \"fbaA\", \"flux\": 0.5623152600000089, \"normalized_flux\": 19.66137272727304, \"relative_error\": null, \"symm_relative_error\": null}, {\"BiGG_ID\": \"PPC\", \"author\": \"iML1515\", \"sample_id\": \"fbaB\", \"flux\": 0.5623152600000021, \"normalized_flux\": 19.661372727272802, \"relative_error\": 96.61372727272803, \"symm_relative_error\": 65.14447470861279}, {\"BiGG_ID\": \"PPC\", \"author\": \"iML1515\", \"sample_id\": \"fbp\", \"flux\": 0.5623152599999887, \"normalized_flux\": 19.661372727272333, \"relative_error\": 1866.1372727272333, \"symm_relative_error\": 180.64020211628954}, {\"BiGG_ID\": \"PPC\", \"author\": \"iML1515\", \"sample_id\": \"glk\", \"flux\": null, \"normalized_flux\": null, \"relative_error\": null, \"symm_relative_error\": null}, {\"BiGG_ID\": \"PPC\", \"author\": \"iML1515\", \"sample_id\": \"gnd\", \"flux\": 0.5623152600000104, \"normalized_flux\": 19.539528782512445, \"relative_error\": 551.3176260837482, \"symm_relative_error\": 146.76020019854923}, {\"BiGG_ID\": \"PPC\", \"author\": \"iML1515\", \"sample_id\": \"gpmA\", \"flux\": 0.5623152600000018, \"normalized_flux\": 18.266160959155762, \"relative_error\": 14.163505994723513, \"symm_relative_error\": 13.226815585539088}, {\"BiGG_ID\": \"PPC\", \"author\": \"iML1515\", \"sample_id\": \"gpmB\", \"flux\": null, \"normalized_flux\": null, \"relative_error\": null, \"symm_relative_error\": null}, {\"BiGG_ID\": \"PPC\", \"author\": \"iML1515\", \"sample_id\": \"pfkA\", \"flux\": 0.5623152600000018, \"normalized_flux\": 19.661372727272788, \"relative_error\": 31.075818181818587, \"symm_relative_error\": 26.896642345645215}, {\"BiGG_ID\": \"PPC\", \"author\": \"iML1515\", \"sample_id\": \"pfkB\", \"flux\": 0.5623152600000018, \"normalized_flux\": 19.661372727272788, \"relative_error\": 100.0, \"symm_relative_error\": 200.0}, {\"BiGG_ID\": \"PPC\", \"author\": \"iML1515\", \"sample_id\": \"pgi\", \"flux\": 0.5623152600000092, \"normalized_flux\": 19.497334927301605, \"relative_error\": 100.0, \"symm_relative_error\": 200.0}, {\"BiGG_ID\": \"PPC\", \"author\": \"iML1515\", \"sample_id\": \"pgl\", \"flux\": 0.6387479444231109, \"normalized_flux\": 22.039346584309843, \"relative_error\": 214.8478083472835, \"symm_relative_error\": 103.5790976952333}, {\"BiGG_ID\": \"PPC\", \"author\": \"iML1515\", \"sample_id\": \"pgm\", \"flux\": null, \"normalized_flux\": null, \"relative_error\": null, \"symm_relative_error\": null}, {\"BiGG_ID\": \"PPC\", \"author\": \"iML1515\", \"sample_id\": \"ppc\", \"flux\": null, \"normalized_flux\": null, \"relative_error\": null, \"symm_relative_error\": null}, {\"BiGG_ID\": \"PPC\", \"author\": \"iML1515\", \"sample_id\": \"ppsA\", \"flux\": 0.5623152600000018, \"normalized_flux\": 19.661372727272788, \"relative_error\": 6.3744155844152965, \"symm_relative_error\": 6.58426994929935}, {\"BiGG_ID\": \"PPC\", \"author\": \"iML1515\", \"sample_id\": \"pts\", \"flux\": 0.5623152600000018, \"normalized_flux\": 19.452209187620987, \"relative_error\": null, \"symm_relative_error\": null}, {\"BiGG_ID\": \"PPC\", \"author\": \"iML1515\", \"sample_id\": \"pykA\", \"flux\": 0.5623152600000191, \"normalized_flux\": 19.661372727273392, \"relative_error\": 293.2274545454678, \"symm_relative_error\": 118.9015136295244}, {\"BiGG_ID\": \"PPC\", \"author\": \"iML1515\", \"sample_id\": \"pykF\", \"flux\": 0.5623152600000191, \"normalized_flux\": 19.661372727273392, \"relative_error\": 100.0, \"symm_relative_error\": 200.0}, {\"BiGG_ID\": \"PPC\", \"author\": \"iML1515\", \"sample_id\": \"rpe\", \"flux\": 0.5623152600000018, \"normalized_flux\": 19.576868016580594, \"relative_error\": 100.0, \"symm_relative_error\": 200.0}, {\"BiGG_ID\": \"PPC\", \"author\": \"iML1515\", \"sample_id\": \"rpiA\", \"flux\": 0.5624423700000031, \"normalized_flux\": 7.001185784252305, \"relative_error\": 100.0, \"symm_relative_error\": 200.0}, {\"BiGG_ID\": \"PPC\", \"author\": \"iML1515\", \"sample_id\": \"rpiB\", \"flux\": 0.5624423700000031, \"normalized_flux\": 7.001185784252305, \"relative_error\": 0.01693977503293301, \"symm_relative_error\": 0.01693834037455613}, {\"BiGG_ID\": \"PPC\", \"author\": \"iML1515\", \"sample_id\": \"sdhCD\", \"flux\": 1.41886551434201, \"normalized_flux\": 42.05379039179068, \"relative_error\": null, \"symm_relative_error\": null}, {\"BiGG_ID\": \"PPC\", \"author\": \"iML1515\", \"sample_id\": \"sucA\", \"flux\": null, \"normalized_flux\": null, \"relative_error\": null, \"symm_relative_error\": null}, {\"BiGG_ID\": \"PPC\", \"author\": \"iML1515\", \"sample_id\": \"sucAB\", \"flux\": 0.0916674703020447, \"normalized_flux\": 3.1697149009648165, \"relative_error\": null, \"symm_relative_error\": null}, {\"BiGG_ID\": \"PPC\", \"author\": \"iML1515\", \"sample_id\": \"talA\", \"flux\": 0.5623152600000002, \"normalized_flux\": 19.661372727272735, \"relative_error\": 1.6931363636363272, \"symm_relative_error\": 1.7075922966953279}, {\"BiGG_ID\": \"PPC\", \"author\": \"iML1515\", \"sample_id\": \"talAB\", \"flux\": null, \"normalized_flux\": null, \"relative_error\": null, \"symm_relative_error\": null}, {\"BiGG_ID\": \"PPC\", \"author\": \"iML1515\", \"sample_id\": \"talB\", \"flux\": null, \"normalized_flux\": null, \"relative_error\": null, \"symm_relative_error\": null}, {\"BiGG_ID\": \"PPC\", \"author\": \"iML1515\", \"sample_id\": \"tkt1\", \"flux\": null, \"normalized_flux\": null, \"relative_error\": null, \"symm_relative_error\": null}, {\"BiGG_ID\": \"PPC\", \"author\": \"iML1515\", \"sample_id\": \"tkt2\", \"flux\": null, \"normalized_flux\": null, \"relative_error\": null, \"symm_relative_error\": null}, {\"BiGG_ID\": \"PPC\", \"author\": \"iML1515\", \"sample_id\": \"tktA\", \"flux\": 0.5623152600000018, \"normalized_flux\": 19.558498096063726, \"relative_error\": 39.703557829026614, \"symm_relative_error\": 33.12721612363048}, {\"BiGG_ID\": \"PPC\", \"author\": \"iML1515\", \"sample_id\": \"tktB\", \"flux\": 0.5623152600000018, \"normalized_flux\": 19.558498096063726, \"relative_error\": 6.864294780648923, \"symm_relative_error\": 7.108260767063137}, {\"BiGG_ID\": \"PPC\", \"author\": \"iML1515\", \"sample_id\": \"tpi\", \"flux\": 0.5295356905000274, \"normalized_flux\": 10.013357649070402, \"relative_error\": null, \"symm_relative_error\": null}, {\"BiGG_ID\": \"PPC\", \"author\": \"iML1515\", \"sample_id\": \"zwf\", \"flux\": 0.6387479444230589, \"normalized_flux\": 22.03934658430836, \"relative_error\": 100.0, \"symm_relative_error\": 200.0}, {\"BiGG_ID\": \"PTAr\", \"author\": \"iML1515\", \"sample_id\": \"WT\", \"flux\": 1.6230463059614766, \"normalized_flux\": 56.749870837813866, \"relative_error\": 100.0, \"symm_relative_error\": 200.0}, {\"BiGG_ID\": \"PTAr\", \"author\": \"iML1515\", \"sample_id\": \"fbaA\", \"flux\": 1.6230463059614564, \"normalized_flux\": 56.749870837813155, \"relative_error\": null, \"symm_relative_error\": null}, {\"BiGG_ID\": \"PTAr\", \"author\": \"iML1515\", \"sample_id\": \"fbaB\", \"flux\": 1.6230463059614766, \"normalized_flux\": 56.749870837813866, \"relative_error\": 100.0, \"symm_relative_error\": 200.0}, {\"BiGG_ID\": \"PTAr\", \"author\": \"iML1515\", \"sample_id\": \"fbp\", \"flux\": 1.6230463059614748, \"normalized_flux\": 56.749870837813816, \"relative_error\": 100.0, \"symm_relative_error\": 200.0}, {\"BiGG_ID\": \"PTAr\", \"author\": \"iML1515\", \"sample_id\": \"glk\", \"flux\": null, \"normalized_flux\": null, \"relative_error\": null, \"symm_relative_error\": null}, {\"BiGG_ID\": \"PTAr\", \"author\": \"iML1515\", \"sample_id\": \"gnd\", \"flux\": 1.6230463059614766, \"normalized_flux\": 56.39818490909207, \"relative_error\": 100.0, \"symm_relative_error\": 200.0}, {\"BiGG_ID\": \"PTAr\", \"author\": \"iML1515\", \"sample_id\": \"gpmA\", \"flux\": 1.6230463059614766, \"normalized_flux\": 52.722782356743096, \"relative_error\": 100.0, \"symm_relative_error\": 200.00000000000003}, {\"BiGG_ID\": \"PTAr\", \"author\": \"iML1515\", \"sample_id\": \"gpmB\", \"flux\": null, \"normalized_flux\": null, \"relative_error\": null, \"symm_relative_error\": null}, {\"BiGG_ID\": \"PTAr\", \"author\": \"iML1515\", \"sample_id\": \"pfkA\", \"flux\": 1.6230463059614766, \"normalized_flux\": 56.749870837813866, \"relative_error\": 100.0, \"symm_relative_error\": 200.0}, {\"BiGG_ID\": \"PTAr\", \"author\": \"iML1515\", \"sample_id\": \"pfkB\", \"flux\": 1.6230463059614766, \"normalized_flux\": 56.749870837813866, \"relative_error\": 100.0, \"symm_relative_error\": 200.0}, {\"BiGG_ID\": \"PTAr\", \"author\": \"iML1515\", \"sample_id\": \"pgi\", \"flux\": 1.623046305961456, \"normalized_flux\": 56.27639810068398, \"relative_error\": 100.0, \"symm_relative_error\": 200.0}, {\"BiGG_ID\": \"PTAr\", \"author\": \"iML1515\", \"sample_id\": \"pgl\", \"flux\": 1.6230463059614766, \"normalized_flux\": 56.001558003878145, \"relative_error\": 100.0, \"symm_relative_error\": 200.0}, {\"BiGG_ID\": \"PTAr\", \"author\": \"iML1515\", \"sample_id\": \"pgm\", \"flux\": null, \"normalized_flux\": null, \"relative_error\": null, \"symm_relative_error\": null}, {\"BiGG_ID\": \"PTAr\", \"author\": \"iML1515\", \"sample_id\": \"ppc\", \"flux\": null, \"normalized_flux\": null, \"relative_error\": null, \"symm_relative_error\": null}, {\"BiGG_ID\": \"PTAr\", \"author\": \"iML1515\", \"sample_id\": \"ppsA\", \"flux\": 1.6230463059614868, \"normalized_flux\": 56.74987083781423, \"relative_error\": 100.0, \"symm_relative_error\": 200.00000000000003}, {\"BiGG_ID\": \"PTAr\", \"author\": \"iML1515\", \"sample_id\": \"pts\", \"flux\": 1.6230463059614766, \"normalized_flux\": 56.14614880762446, \"relative_error\": null, \"symm_relative_error\": null}, {\"BiGG_ID\": \"PTAr\", \"author\": \"iML1515\", \"sample_id\": \"pykA\", \"flux\": 1.6230463059614766, \"normalized_flux\": 56.749870837813866, \"relative_error\": 100.0, \"symm_relative_error\": 200.0}, {\"BiGG_ID\": \"PTAr\", \"author\": \"iML1515\", \"sample_id\": \"pykF\", \"flux\": 1.6230463059614766, \"normalized_flux\": 56.749870837813866, \"relative_error\": 100.0, \"symm_relative_error\": 200.0}, {\"BiGG_ID\": \"PTAr\", \"author\": \"iML1515\", \"sample_id\": \"rpe\", \"flux\": 1.6230463059614766, \"normalized_flux\": 56.50595951567528, \"relative_error\": 100.0, \"symm_relative_error\": 200.0}, {\"BiGG_ID\": \"PTAr\", \"author\": \"iML1515\", \"sample_id\": \"rpiA\", \"flux\": 1.2036104759614776, \"normalized_flux\": 14.982335975290413, \"relative_error\": 100.0, \"symm_relative_error\": 200.00000000000003}, {\"BiGG_ID\": \"PTAr\", \"author\": \"iML1515\", \"sample_id\": \"rpiB\", \"flux\": 1.2036104759614776, \"normalized_flux\": 14.982335975290413, \"relative_error\": 100.0, \"symm_relative_error\": 200.00000000000003}, {\"BiGG_ID\": \"PTAr\", \"author\": \"iML1515\", \"sample_id\": \"sdhCD\", \"flux\": 1.6435831744655949, \"normalized_flux\": 48.714202728722675, \"relative_error\": null, \"symm_relative_error\": null}, {\"BiGG_ID\": \"PTAr\", \"author\": \"iML1515\", \"sample_id\": \"sucA\", \"flux\": null, \"normalized_flux\": null, \"relative_error\": null, \"symm_relative_error\": null}, {\"BiGG_ID\": \"PTAr\", \"author\": \"iML1515\", \"sample_id\": \"sucAB\", \"flux\": 1.6761106055862438, \"normalized_flux\": 57.95723111684227, \"relative_error\": null, \"symm_relative_error\": null}, {\"BiGG_ID\": \"PTAr\", \"author\": \"iML1515\", \"sample_id\": \"talA\", \"flux\": 1.6230463059614766, \"normalized_flux\": 56.749870837813866, \"relative_error\": 100.0, \"symm_relative_error\": 200.0}, {\"BiGG_ID\": \"PTAr\", \"author\": \"iML1515\", \"sample_id\": \"talAB\", \"flux\": null, \"normalized_flux\": null, \"relative_error\": null, \"symm_relative_error\": null}, {\"BiGG_ID\": \"PTAr\", \"author\": \"iML1515\", \"sample_id\": \"talB\", \"flux\": null, \"normalized_flux\": null, \"relative_error\": null, \"symm_relative_error\": null}, {\"BiGG_ID\": \"PTAr\", \"author\": \"iML1515\", \"sample_id\": \"tkt1\", \"flux\": null, \"normalized_flux\": null, \"relative_error\": null, \"symm_relative_error\": null}, {\"BiGG_ID\": \"PTAr\", \"author\": \"iML1515\", \"sample_id\": \"tkt2\", \"flux\": null, \"normalized_flux\": null, \"relative_error\": null, \"symm_relative_error\": null}, {\"BiGG_ID\": \"PTAr\", \"author\": \"iML1515\", \"sample_id\": \"tktA\", \"flux\": 1.6230463059614766, \"normalized_flux\": 56.45293724550656, \"relative_error\": 100.0, \"symm_relative_error\": 200.0}, {\"BiGG_ID\": \"PTAr\", \"author\": \"iML1515\", \"sample_id\": \"tktB\", \"flux\": 1.6230463059614766, \"normalized_flux\": 56.45293724550656, \"relative_error\": 100.0, \"symm_relative_error\": 200.0}, {\"BiGG_ID\": \"PTAr\", \"author\": \"iML1515\", \"sample_id\": \"tpi\", \"flux\": 1.6230463059614768, \"normalized_flux\": 30.691308318138713, \"relative_error\": null, \"symm_relative_error\": null}, {\"BiGG_ID\": \"PTAr\", \"author\": \"iML1515\", \"sample_id\": \"zwf\", \"flux\": 1.6230463059614766, \"normalized_flux\": 56.0015580038789, \"relative_error\": 100.0, \"symm_relative_error\": 200.0}, {\"BiGG_ID\": \"PYK\", \"author\": \"iML1515\", \"sample_id\": \"WT\", \"flux\": 0.0, \"normalized_flux\": 0.0, \"relative_error\": 100.0, \"symm_relative_error\": 200.0}, {\"BiGG_ID\": \"PYK\", \"author\": \"iML1515\", \"sample_id\": \"fbaA\", \"flux\": 0.0, \"normalized_flux\": 0.0, \"relative_error\": null, \"symm_relative_error\": null}, {\"BiGG_ID\": \"PYK\", \"author\": \"iML1515\", \"sample_id\": \"fbaB\", \"flux\": 0.0, \"normalized_flux\": 0.0, \"relative_error\": 100.0, \"symm_relative_error\": 200.0}, {\"BiGG_ID\": \"PYK\", \"author\": \"iML1515\", \"sample_id\": \"fbp\", \"flux\": 0.0, \"normalized_flux\": 0.0, \"relative_error\": 100.0, \"symm_relative_error\": 200.0}, {\"BiGG_ID\": \"PYK\", \"author\": \"iML1515\", \"sample_id\": \"glk\", \"flux\": null, \"normalized_flux\": null, \"relative_error\": null, \"symm_relative_error\": null}, {\"BiGG_ID\": \"PYK\", \"author\": \"iML1515\", \"sample_id\": \"gnd\", \"flux\": 0.0, \"normalized_flux\": 0.0, \"relative_error\": 100.0, \"symm_relative_error\": 200.0}, {\"BiGG_ID\": \"PYK\", \"author\": \"iML1515\", \"sample_id\": \"gpmA\", \"flux\": 0.0, \"normalized_flux\": 0.0, \"relative_error\": 100.0, \"symm_relative_error\": 200.0}, {\"BiGG_ID\": \"PYK\", \"author\": \"iML1515\", \"sample_id\": \"gpmB\", \"flux\": null, \"normalized_flux\": null, \"relative_error\": null, \"symm_relative_error\": null}, {\"BiGG_ID\": \"PYK\", \"author\": \"iML1515\", \"sample_id\": \"pfkA\", \"flux\": 0.0, \"normalized_flux\": 0.0, \"relative_error\": 100.0, \"symm_relative_error\": 200.0}, {\"BiGG_ID\": \"PYK\", \"author\": \"iML1515\", \"sample_id\": \"pfkB\", \"flux\": 0.0, \"normalized_flux\": 0.0, \"relative_error\": 100.0, \"symm_relative_error\": 200.0}, {\"BiGG_ID\": \"PYK\", \"author\": \"iML1515\", \"sample_id\": \"pgi\", \"flux\": 1.9971597709338744, \"normalized_flux\": 69.24815264168726, \"relative_error\": 1284.9630528337452, \"symm_relative_error\": 173.06330287230497}, {\"BiGG_ID\": \"PYK\", \"author\": \"iML1515\", \"sample_id\": \"pgl\", \"flux\": 0.6420345491537953, \"normalized_flux\": 22.152747529671174, \"relative_error\": 56.56324013789966, \"symm_relative_error\": 78.86854135896458}, {\"BiGG_ID\": \"PYK\", \"author\": \"iML1515\", \"sample_id\": \"pgm\", \"flux\": null, \"normalized_flux\": null, \"relative_error\": null, \"symm_relative_error\": null}, {\"BiGG_ID\": \"PYK\", \"author\": \"iML1515\", \"sample_id\": \"ppc\", \"flux\": null, \"normalized_flux\": null, \"relative_error\": null, \"symm_relative_error\": null}, {\"BiGG_ID\": \"PYK\", \"author\": \"iML1515\", \"sample_id\": \"ppsA\", \"flux\": 0.0, \"normalized_flux\": 0.0, \"relative_error\": 100.0, \"symm_relative_error\": 200.0}, {\"BiGG_ID\": \"PYK\", \"author\": \"iML1515\", \"sample_id\": \"pts\", \"flux\": 2.8907526881720265, \"normalized_flux\": 99.99999999999962, \"relative_error\": null, \"symm_relative_error\": null}, {\"BiGG_ID\": \"PYK\", \"author\": \"iML1515\", \"sample_id\": \"pykA\", \"flux\": 0.0, \"normalized_flux\": 0.0, \"relative_error\": 100.0, \"symm_relative_error\": 200.0}, {\"BiGG_ID\": \"PYK\", \"author\": \"iML1515\", \"sample_id\": \"pykF\", \"flux\": 0.0, \"normalized_flux\": 0.0, \"relative_error\": 100.0, \"symm_relative_error\": 200.0}, {\"BiGG_ID\": \"PYK\", \"author\": \"iML1515\", \"sample_id\": \"rpe\", \"flux\": 0.0, \"normalized_flux\": 0.0, \"relative_error\": 100.0, \"symm_relative_error\": 200.0}, {\"BiGG_ID\": \"PYK\", \"author\": \"iML1515\", \"sample_id\": \"rpiA\", \"flux\": 0.0, \"normalized_flux\": 0.0, \"relative_error\": 100.0, \"symm_relative_error\": 200.0}, {\"BiGG_ID\": \"PYK\", \"author\": \"iML1515\", \"sample_id\": \"rpiB\", \"flux\": 0.0, \"normalized_flux\": 0.0, \"relative_error\": 100.0, \"symm_relative_error\": 200.0}, {\"BiGG_ID\": \"PYK\", \"author\": \"iML1515\", \"sample_id\": \"sdhCD\", \"flux\": 0.0, \"normalized_flux\": 0.0, \"relative_error\": null, \"symm_relative_error\": null}, {\"BiGG_ID\": \"PYK\", \"author\": \"iML1515\", \"sample_id\": \"sucA\", \"flux\": null, \"normalized_flux\": null, \"relative_error\": null, \"symm_relative_error\": null}, {\"BiGG_ID\": \"PYK\", \"author\": \"iML1515\", \"sample_id\": \"sucAB\", \"flux\": 0.4810742216229109, \"normalized_flux\": 16.634779204921273, \"relative_error\": null, \"symm_relative_error\": null}, {\"BiGG_ID\": \"PYK\", \"author\": \"iML1515\", \"sample_id\": \"talA\", \"flux\": 0.0, \"normalized_flux\": 0.0, \"relative_error\": 100.0, \"symm_relative_error\": 200.0}, {\"BiGG_ID\": \"PYK\", \"author\": \"iML1515\", \"sample_id\": \"talAB\", \"flux\": null, \"normalized_flux\": null, \"relative_error\": null, \"symm_relative_error\": null}, {\"BiGG_ID\": \"PYK\", \"author\": \"iML1515\", \"sample_id\": \"talB\", \"flux\": null, \"normalized_flux\": null, \"relative_error\": null, \"symm_relative_error\": null}, {\"BiGG_ID\": \"PYK\", \"author\": \"iML1515\", \"sample_id\": \"tkt1\", \"flux\": null, \"normalized_flux\": null, \"relative_error\": null, \"symm_relative_error\": null}, {\"BiGG_ID\": \"PYK\", \"author\": \"iML1515\", \"sample_id\": \"tkt2\", \"flux\": null, \"normalized_flux\": null, \"relative_error\": null, \"symm_relative_error\": null}, {\"BiGG_ID\": \"PYK\", \"author\": \"iML1515\", \"sample_id\": \"tktA\", \"flux\": 0.0, \"normalized_flux\": 0.0, \"relative_error\": 100.0, \"symm_relative_error\": 200.0}, {\"BiGG_ID\": \"PYK\", \"author\": \"iML1515\", \"sample_id\": \"tktB\", \"flux\": 0.0, \"normalized_flux\": 0.0, \"relative_error\": 100.0, \"symm_relative_error\": 200.0}, {\"BiGG_ID\": \"PYK\", \"author\": \"iML1515\", \"sample_id\": \"tpi\", \"flux\": 0.0, \"normalized_flux\": 0.0, \"relative_error\": null, \"symm_relative_error\": null}, {\"BiGG_ID\": \"PYK\", \"author\": \"iML1515\", \"sample_id\": \"zwf\", \"flux\": 0.6420345491538701, \"normalized_flux\": 22.15274752967405, \"relative_error\": 67.42243010342052, \"symm_relative_error\": 101.71016131313179}, {\"BiGG_ID\": \"RPE\", \"author\": \"iML1515\", \"sample_id\": \"WT\", \"flux\": 0.3315610823846017, \"normalized_flux\": 11.593044838622438, \"relative_error\": 131.86089677244877, \"symm_relative_error\": 79.46757093401304}, {\"BiGG_ID\": \"RPE\", \"author\": \"iML1515\", \"sample_id\": \"fbaA\", \"flux\": 0.3315610823846122, \"normalized_flux\": 11.593044838622804, \"relative_error\": null, \"symm_relative_error\": null}, {\"BiGG_ID\": \"RPE\", \"author\": \"iML1515\", \"sample_id\": \"fbaB\", \"flux\": 0.3315610823846075, \"normalized_flux\": 11.593044838622642, \"relative_error\": 5.3913167147512935, \"symm_relative_error\": 5.249800041195303}, {\"BiGG_ID\": \"RPE\", \"author\": \"iML1515\", \"sample_id\": \"fbp\", \"flux\": 0.3315610823845941, \"normalized_flux\": 11.593044838622177, \"relative_error\": 286.4348279540726, \"symm_relative_error\": 117.76904592083062}, {\"BiGG_ID\": \"RPE\", \"author\": \"iML1515\", \"sample_id\": \"glk\", \"flux\": null, \"normalized_flux\": null, \"relative_error\": null, \"symm_relative_error\": null}, {\"BiGG_ID\": \"RPE\", \"author\": \"iML1515\", \"sample_id\": \"gnd\", \"flux\": -0.14741707333333748, \"normalized_flux\": -5.122500405609554, \"relative_error\": 202.45000811219109, \"symm_relative_error\": 200.0}, {\"BiGG_ID\": \"RPE\", \"author\": \"iML1515\", \"sample_id\": \"gpmA\", \"flux\": 0.3315610823846016, \"normalized_flux\": 10.770378343687518, \"relative_error\": 115.40756687375038, \"symm_relative_error\": 73.17996078384834}, {\"BiGG_ID\": \"RPE\", \"author\": \"iML1515\", \"sample_id\": \"gpmB\", \"flux\": null, \"normalized_flux\": null, \"relative_error\": null, \"symm_relative_error\": null}, {\"BiGG_ID\": \"RPE\", \"author\": \"iML1515\", \"sample_id\": \"pfkA\", \"flux\": 0.3315610823846017, \"normalized_flux\": 11.593044838622438, \"relative_error\": 286.4348279540813, \"symm_relative_error\": 117.7690459208321}, {\"BiGG_ID\": \"RPE\", \"author\": \"iML1515\", \"sample_id\": \"pfkB\", \"flux\": 0.3315610823846017, \"normalized_flux\": 11.593044838622438, \"relative_error\": 53.62782064551025, \"symm_relative_error\": 73.27597482255467}, {\"BiGG_ID\": \"RPE\", \"author\": \"iML1515\", \"sample_id\": \"pgi\", \"flux\": 0.4278097460440775, \"normalized_flux\": 14.833582684178063, \"relative_error\": 57.61833518806269, \"symm_relative_error\": 80.93504913595018}, {\"BiGG_ID\": \"RPE\", \"author\": \"iML1515\", \"sample_id\": \"pgl\", \"flux\": 0.3315610823846017, \"normalized_flux\": 11.44017710325919, \"relative_error\": 43.00221379073987, \"symm_relative_error\": 35.39244611801851}, {\"BiGG_ID\": \"RPE\", \"author\": \"iML1515\", \"sample_id\": \"pgm\", \"flux\": null, \"normalized_flux\": null, \"relative_error\": null, \"symm_relative_error\": null}, {\"BiGG_ID\": \"RPE\", \"author\": \"iML1515\", \"sample_id\": \"ppc\", \"flux\": null, \"normalized_flux\": null, \"relative_error\": null, \"symm_relative_error\": null}, {\"BiGG_ID\": \"RPE\", \"author\": \"iML1515\", \"sample_id\": \"ppsA\", \"flux\": 0.3315610823845733, \"normalized_flux\": 11.593044838621447, \"relative_error\": 22.713034409190357, \"symm_relative_error\": 25.62290389877119}, {\"BiGG_ID\": \"RPE\", \"author\": \"iML1515\", \"sample_id\": \"pts\", \"flux\": 0.33156108238460497, \"normalized_flux\": 11.469714574381909, \"relative_error\": null, \"symm_relative_error\": null}, {\"BiGG_ID\": \"RPE\", \"author\": \"iML1515\", \"sample_id\": \"pykA\", \"flux\": 0.33156108238460713, \"normalized_flux\": 11.593044838622625, \"relative_error\": 15.930448386226246, \"symm_relative_error\": 14.755166309599916}, {\"BiGG_ID\": \"RPE\", \"author\": \"iML1515\", \"sample_id\": \"pykF\", \"flux\": 0.33156108238460713, \"normalized_flux\": 11.593044838622625, \"relative_error\": 60.0239833150944, \"symm_relative_error\": 85.76323964156228}, {\"BiGG_ID\": \"RPE\", \"author\": \"iML1515\", \"sample_id\": \"rpe\", \"flux\": 0.0, \"normalized_flux\": 0.0, \"relative_error\": 0.0, \"symm_relative_error\": null}, {\"BiGG_ID\": \"RPE\", \"author\": \"iML1515\", \"sample_id\": \"rpiA\", \"flux\": -0.4269985899999978, \"normalized_flux\": -5.315204930602484, \"relative_error\": 277.17349768674944, \"symm_relative_error\": 200.0}, {\"BiGG_ID\": \"RPE\", \"author\": \"iML1515\", \"sample_id\": \"rpiB\", \"flux\": -0.4269985899999978, \"normalized_flux\": -5.315204930602484, \"relative_error\": 118.98287475215173, \"symm_relative_error\": 200.0}, {\"BiGG_ID\": \"RPE\", \"author\": \"iML1515\", \"sample_id\": \"sdhCD\", \"flux\": 0.6741811841213985, \"normalized_flux\": 19.982072942465265, \"relative_error\": null, \"symm_relative_error\": null}, {\"BiGG_ID\": \"RPE\", \"author\": \"iML1515\", \"sample_id\": \"sucA\", \"flux\": null, \"normalized_flux\": null, \"relative_error\": null, \"symm_relative_error\": null}, {\"BiGG_ID\": \"RPE\", \"author\": \"iML1515\", \"sample_id\": \"sucAB\", \"flux\": 0.3528800162345081, \"normalized_flux\": 12.202028069779484, \"relative_error\": null, \"symm_relative_error\": null}, {\"BiGG_ID\": \"RPE\", \"author\": \"iML1515\", \"sample_id\": \"talA\", \"flux\": 0.3315610823846046, \"normalized_flux\": 11.593044838622538, \"relative_error\": 286.4348279540846, \"symm_relative_error\": 117.76904592083265}, {\"BiGG_ID\": \"RPE\", \"author\": \"iML1515\", \"sample_id\": \"talAB\", \"flux\": null, \"normalized_flux\": null, \"relative_error\": null, \"symm_relative_error\": null}, {\"BiGG_ID\": \"RPE\", \"author\": \"iML1515\", \"sample_id\": \"talB\", \"flux\": null, \"normalized_flux\": null, \"relative_error\": null, \"symm_relative_error\": null}, {\"BiGG_ID\": \"RPE\", \"author\": \"iML1515\", \"sample_id\": \"tkt1\", \"flux\": null, \"normalized_flux\": null, \"relative_error\": null, \"symm_relative_error\": null}, {\"BiGG_ID\": \"RPE\", \"author\": \"iML1515\", \"sample_id\": \"tkt2\", \"flux\": null, \"normalized_flux\": null, \"relative_error\": null, \"symm_relative_error\": null}, {\"BiGG_ID\": \"RPE\", \"author\": \"iML1515\", \"sample_id\": \"tktA\", \"flux\": -0.07245497999999899, \"normalized_flux\": -2.5201353923425645, \"relative_error\": 226.0067696171282, \"symm_relative_error\": 200.0}, {\"BiGG_ID\": \"RPE\", \"author\": \"iML1515\", \"sample_id\": \"tktB\", \"flux\": -0.07245497999999899, \"normalized_flux\": -2.5201353923425645, \"relative_error\": 184.00451307808547, \"symm_relative_error\": 200.0}, {\"BiGG_ID\": \"RPE\", \"author\": \"iML1515\", \"sample_id\": \"tpi\", \"flux\": 0.33156108238460724, \"normalized_flux\": 6.269718472224107, \"relative_error\": null, \"symm_relative_error\": null}, {\"BiGG_ID\": \"RPE\", \"author\": \"iML1515\", \"sample_id\": \"zwf\", \"flux\": 0.3315610823846017, \"normalized_flux\": 11.440177103259346, \"relative_error\": 128.80354206518692, \"symm_relative_error\": 78.34680931731022}, {\"BiGG_ID\": \"RPI\", \"author\": \"iML1515\", \"sample_id\": \"WT\", \"flux\": 0.379343391192309, \"normalized_flux\": 13.263754936794026, \"relative_error\": 20.579590334491147, \"symm_relative_error\": 18.65955984711356}, {\"BiGG_ID\": \"RPI\", \"author\": \"iML1515\", \"sample_id\": \"fbaA\", \"flux\": 0.37934339119229865, \"normalized_flux\": 13.263754936793662, \"relative_error\": null, \"symm_relative_error\": null}, {\"BiGG_ID\": \"RPI\", \"author\": \"iML1515\", \"sample_id\": \"fbaB\", \"flux\": 0.37934339119230265, \"normalized_flux\": 13.263754936793802, \"relative_error\": 5.258893308615699, \"symm_relative_error\": 5.40090728451053}, {\"BiGG_ID\": \"RPI\", \"author\": \"iML1515\", \"sample_id\": \"fbp\", \"flux\": 0.3793433911923072, \"normalized_flux\": 13.263754936793955, \"relative_error\": 20.5795903344905, \"symm_relative_error\": 18.65955984711303}, {\"BiGG_ID\": \"RPI\", \"author\": \"iML1515\", \"sample_id\": \"glk\", \"flux\": null, \"normalized_flux\": null, \"relative_error\": null, \"symm_relative_error\": null}, {\"BiGG_ID\": \"RPI\", \"author\": \"iML1515\", \"sample_id\": \"gnd\", \"flux\": 0.13985431333333753, \"normalized_flux\": 4.859706956441503, \"relative_error\": 2.8058608711699407, \"symm_relative_error\": 2.8457852586955714}, {\"BiGG_ID\": \"RPI\", \"author\": \"iML1515\", \"sample_id\": \"gpmA\", \"flux\": 0.3793433911923092, \"normalized_flux\": 12.32253138979491, \"relative_error\": 12.023012634499187, \"symm_relative_error\": 11.341233656768512}, {\"BiGG_ID\": \"RPI\", \"author\": \"iML1515\", \"sample_id\": \"gpmB\", \"flux\": null, \"normalized_flux\": null, \"relative_error\": null, \"symm_relative_error\": null}, {\"BiGG_ID\": \"RPI\", \"author\": \"iML1515\", \"sample_id\": \"pfkA\", \"flux\": 0.3793433911923272, \"normalized_flux\": 13.26375493679466, \"relative_error\": 20.57959033449691, \"symm_relative_error\": 18.6595598471183}, {\"BiGG_ID\": \"RPI\", \"author\": \"iML1515\", \"sample_id\": \"pfkB\", \"flux\": 0.3793433911923272, \"normalized_flux\": 13.26375493679466, \"relative_error\": 36.839262205739715, \"symm_relative_error\": 45.15701841480108}, {\"BiGG_ID\": \"RPI\", \"author\": \"iML1515\", \"sample_id\": \"pgi\", \"flux\": 0.4274677230220401, \"normalized_flux\": 14.82172361171841, \"relative_error\": 42.99337072415996, \"symm_relative_error\": 54.76631263591584}, {\"BiGG_ID\": \"RPI\", \"author\": \"iML1515\", \"sample_id\": \"pgl\", \"flux\": 0.3793433911923091, \"normalized_flux\": 13.088856952025962, \"relative_error\": 9.073807933549682, \"symm_relative_error\": 8.680004466588782}, {\"BiGG_ID\": \"RPI\", \"author\": \"iML1515\", \"sample_id\": \"pgm\", \"flux\": null, \"normalized_flux\": null, \"relative_error\": null, \"symm_relative_error\": null}, {\"BiGG_ID\": \"RPI\", \"author\": \"iML1515\", \"sample_id\": \"ppc\", \"flux\": null, \"normalized_flux\": null, \"relative_error\": null, \"symm_relative_error\": null}, {\"BiGG_ID\": \"RPI\", \"author\": \"iML1515\", \"sample_id\": \"ppsA\", \"flux\": 0.379343391192309, \"normalized_flux\": 13.263754936794026, \"relative_error\": 17.101531645037337, \"symm_relative_error\": 18.700573929189293}, {\"BiGG_ID\": \"RPI\", \"author\": \"iML1515\", \"sample_id\": \"pts\", \"flux\": 0.3793433911923059, \"normalized_flux\": 13.122651160870598, \"relative_error\": null, \"symm_relative_error\": null}, {\"BiGG_ID\": \"RPI\", \"author\": \"iML1515\", \"sample_id\": \"pykA\", \"flux\": 0.3793433911923014, \"normalized_flux\": 13.26375493679376, \"relative_error\": 5.2588933086160035, \"symm_relative_error\": 5.4009072845108514}, {\"BiGG_ID\": \"RPI\", \"author\": \"iML1515\", \"sample_id\": \"pykF\", \"flux\": 0.3793433911923014, \"normalized_flux\": 13.26375493679376, \"relative_error\": 42.33150027480974, \"symm_relative_error\": 53.69683906245295}, {\"BiGG_ID\": \"RPI\", \"author\": \"iML1515\", \"sample_id\": \"rpe\", \"flux\": 0.21356285000000416, \"normalized_flux\": 7.435138302479764, \"relative_error\": 6.216261463996631, \"symm_relative_error\": 6.028876112742379}, {\"BiGG_ID\": \"RPI\", \"author\": \"iML1515\", \"sample_id\": \"rpiA\", \"flux\": -0.0, \"normalized_flux\": 0.0, \"relative_error\": 100.0, \"symm_relative_error\": 200.0}, {\"BiGG_ID\": \"RPI\", \"author\": \"iML1515\", \"sample_id\": \"rpiB\", \"flux\": -0.0, \"normalized_flux\": 0.0, \"relative_error\": 100.0, \"symm_relative_error\": 200.0}, {\"BiGG_ID\": \"RPI\", \"author\": \"iML1515\", \"sample_id\": \"sdhCD\", \"flux\": 0.5506534420606984, \"normalized_flux\": 16.320831112508653, \"relative_error\": null, \"symm_relative_error\": null}, {\"BiGG_ID\": \"RPI\", \"author\": \"iML1515\", \"sample_id\": \"sucA\", \"flux\": null, \"normalized_flux\": null, \"relative_error\": null, \"symm_relative_error\": null}, {\"BiGG_ID\": \"RPI\", \"author\": \"iML1515\", \"sample_id\": \"sucAB\", \"flux\": 0.39000285811726143, \"normalized_flux\": 13.485676726104405, \"relative_error\": null, \"symm_relative_error\": null}, {\"BiGG_ID\": \"RPI\", \"author\": \"iML1515\", \"sample_id\": \"talA\", \"flux\": 0.3793433911923047, \"normalized_flux\": 13.263754936793868, \"relative_error\": 32.637549367938675, \"symm_relative_error\": 28.0587114647767}, {\"BiGG_ID\": \"RPI\", \"author\": \"iML1515\", \"sample_id\": \"talAB\", \"flux\": null, \"normalized_flux\": null, \"relative_error\": null, \"symm_relative_error\": null}, {\"BiGG_ID\": \"RPI\", \"author\": \"iML1515\", \"sample_id\": \"talB\", \"flux\": null, \"normalized_flux\": null, \"relative_error\": null, \"symm_relative_error\": null}, {\"BiGG_ID\": \"RPI\", \"author\": \"iML1515\", \"sample_id\": \"tkt1\", \"flux\": null, \"normalized_flux\": null, \"relative_error\": null, \"symm_relative_error\": null}, {\"BiGG_ID\": \"RPI\", \"author\": \"iML1515\", \"sample_id\": \"tkt2\", \"flux\": null, \"normalized_flux\": null, \"relative_error\": null, \"symm_relative_error\": null}, {\"BiGG_ID\": \"RPI\", \"author\": \"iML1515\", \"sample_id\": \"tktA\", \"flux\": 0.1773353600000075, \"normalized_flux\": 6.16809385703833, \"relative_error\": 2.801564283972165, \"symm_relative_error\": 2.762862598090501}, {\"BiGG_ID\": \"RPI\", \"author\": \"iML1515\", \"sample_id\": \"tktB\", \"flux\": 0.1773353600000075, \"normalized_flux\": 6.16809385703833, \"relative_error\": 38.3190614296167, \"symm_relative_error\": 47.400839911546605}, {\"BiGG_ID\": \"RPI\", \"author\": \"iML1515\", \"sample_id\": \"tpi\", \"flux\": 0.3793433911923036, \"normalized_flux\": 7.173267290506763, \"relative_error\": null, \"symm_relative_error\": null}, {\"BiGG_ID\": \"RPI\", \"author\": \"iML1515\", \"sample_id\": \"zwf\", \"flux\": 0.3793433911922993, \"normalized_flux\": 13.088856952025807, \"relative_error\": 161.77713904051615, \"symm_relative_error\": 89.43469422615917}, {\"BiGG_ID\": \"SUCDi\", \"author\": \"iML1515\", \"sample_id\": \"WT\", \"flux\": 0.8772142328461905, \"normalized_flux\": 30.67182632329337, \"relative_error\": 59.6423337851403, \"symm_relative_error\": 84.98621470926959}, {\"BiGG_ID\": \"SUCDi\", \"author\": \"iML1515\", \"sample_id\": \"fbaA\", \"flux\": 0.8772142328461905, \"normalized_flux\": 30.67182632329337, \"relative_error\": null, \"symm_relative_error\": null}, {\"BiGG_ID\": \"SUCDi\", \"author\": \"iML1515\", \"sample_id\": \"fbaB\", \"flux\": 0.8772142328461876, \"normalized_flux\": 30.67182632329328, \"relative_error\": 56.80024461507989, \"symm_relative_error\": 79.33008609183885}, {\"BiGG_ID\": \"SUCDi\", \"author\": \"iML1515\", \"sample_id\": \"fbp\", \"flux\": 0.8772142328461928, \"normalized_flux\": 30.67182632329345, \"relative_error\": 57.983799557132265, \"symm_relative_error\": 81.65800715173873}, {\"BiGG_ID\": \"SUCDi\", \"author\": \"iML1515\", \"sample_id\": \"glk\", \"flux\": null, \"normalized_flux\": null, \"relative_error\": null, \"symm_relative_error\": null}, {\"BiGG_ID\": \"SUCDi\", \"author\": \"iML1515\", \"sample_id\": \"gnd\", \"flux\": 1.15237189676925, \"normalized_flux\": 40.043024699491184, \"relative_error\": 60.35344089159289, \"symm_relative_error\": 86.43741926321398}, {\"BiGG_ID\": \"SUCDi\", \"author\": \"iML1515\", \"sample_id\": \"gpmA\", \"flux\": 1.313888073432953, \"normalized_flux\": 42.68013468395168, \"relative_error\": 40.722035161178226, \"symm_relative_error\": 51.13329417837061}, {\"BiGG_ID\": \"SUCDi\", \"author\": \"iML1515\", \"sample_id\": \"gpmB\", \"flux\": null, \"normalized_flux\": null, \"relative_error\": null, \"symm_relative_error\": null}, {\"BiGG_ID\": \"SUCDi\", \"author\": \"iML1515\", \"sample_id\": \"pfkA\", \"flux\": 0.8772142328461905, \"normalized_flux\": 30.67182632329337, \"relative_error\": 57.983799557132365, \"symm_relative_error\": 81.65800715173893}, {\"BiGG_ID\": \"SUCDi\", \"author\": \"iML1515\", \"sample_id\": \"pfkB\", \"flux\": 0.8772142328461905, \"normalized_flux\": 30.67182632329337, \"relative_error\": 54.89437305398033, \"symm_relative_error\": 75.66126029613095}, {\"BiGG_ID\": \"SUCDi\", \"author\": \"iML1515\", \"sample_id\": \"pgi\", \"flux\": 0.8772142328461958, \"normalized_flux\": 30.415926647265334, \"relative_error\": 47.55874715988735, \"symm_relative_error\": 62.39616412726435}, {\"BiGG_ID\": \"SUCDi\", \"author\": \"iML1515\", \"sample_id\": \"pgl\", \"flux\": 0.9536469172692854, \"normalized_flux\": 32.904614585865716, \"relative_error\": 58.86923176766785, \"symm_relative_error\": 83.42508512496185}, {\"BiGG_ID\": \"SUCDi\", \"author\": \"iML1515\", \"sample_id\": \"pgm\", \"flux\": null, \"normalized_flux\": null, \"relative_error\": null, \"symm_relative_error\": null}, {\"BiGG_ID\": \"SUCDi\", \"author\": \"iML1515\", \"sample_id\": \"ppc\", \"flux\": null, \"normalized_flux\": null, \"relative_error\": null, \"symm_relative_error\": null}, {\"BiGG_ID\": \"SUCDi\", \"author\": \"iML1515\", \"sample_id\": \"ppsA\", \"flux\": 0.8772142328462011, \"normalized_flux\": 30.671826323293747, \"relative_error\": 61.17490338823577, \"symm_relative_error\": 88.13234045039623}, {\"BiGG_ID\": \"SUCDi\", \"author\": \"iML1515\", \"sample_id\": \"pts\", \"flux\": 0.9387196091902691, \"normalized_flux\": 32.47318987304538, \"relative_error\": null, \"symm_relative_error\": null}, {\"BiGG_ID\": \"SUCDi\", \"author\": \"iML1515\", \"sample_id\": \"pykA\", \"flux\": 0.8772142328461603, \"normalized_flux\": 30.671826323292322, \"relative_error\": 58.55158604960498, \"symm_relative_error\": 82.78860740020542}, {\"BiGG_ID\": \"SUCDi\", \"author\": \"iML1515\", \"sample_id\": \"pykF\", \"flux\": 0.8772142328461603, \"normalized_flux\": 30.671826323292322, \"relative_error\": 52.07527136985575, \"symm_relative_error\": 70.4077970628689}, {\"BiGG_ID\": \"SUCDi\", \"author\": \"iML1515\", \"sample_id\": \"rpe\", \"flux\": 1.0676854929394732, \"normalized_flux\": 37.17120886687975, \"relative_error\": 64.59884869820976, \"symm_relative_error\": 95.41846295564794}, {\"BiGG_ID\": \"SUCDi\", \"author\": \"iML1515\", \"sample_id\": \"rpiA\", \"flux\": 0.7088197301734848, \"normalized_flux\": 8.823265961431975, \"relative_error\": 90.40949352018264, \"symm_relative_error\": 164.9951194209196}, {\"BiGG_ID\": \"SUCDi\", \"author\": \"iML1515\", \"sample_id\": \"rpiB\", \"flux\": 0.7088197301734848, \"normalized_flux\": 8.823265961431975, \"relative_error\": 91.51609042170003, \"symm_relative_error\": 168.71827495421678}, {\"BiGG_ID\": \"SUCDi\", \"author\": \"iML1515\", \"sample_id\": \"sdhCD\", \"flux\": 0.0, \"normalized_flux\": 0.0, \"relative_error\": null, \"symm_relative_error\": null}, {\"BiGG_ID\": \"SUCDi\", \"author\": \"iML1515\", \"sample_id\": \"sucA\", \"flux\": null, \"normalized_flux\": null, \"relative_error\": null, \"symm_relative_error\": null}, {\"BiGG_ID\": \"SUCDi\", \"author\": \"iML1515\", \"sample_id\": \"sucAB\", \"flux\": 0.8772142328461928, \"normalized_flux\": 30.332668895838143, \"relative_error\": null, \"symm_relative_error\": null}, {\"BiGG_ID\": \"SUCDi\", \"author\": \"iML1515\", \"sample_id\": \"talA\", \"flux\": 0.8772142328461905, \"normalized_flux\": 30.67182632329337, \"relative_error\": 60.16645932039821, \"symm_relative_error\": 86.05440301087219}, {\"BiGG_ID\": \"SUCDi\", \"author\": \"iML1515\", \"sample_id\": \"talAB\", \"flux\": null, \"normalized_flux\": null, \"relative_error\": null, \"symm_relative_error\": null}, {\"BiGG_ID\": \"SUCDi\", \"author\": \"iML1515\", \"sample_id\": \"talB\", \"flux\": null, \"normalized_flux\": null, \"relative_error\": null, \"symm_relative_error\": null}, {\"BiGG_ID\": \"SUCDi\", \"author\": \"iML1515\", \"sample_id\": \"tkt1\", \"flux\": null, \"normalized_flux\": null, \"relative_error\": null, \"symm_relative_error\": null}, {\"BiGG_ID\": \"SUCDi\", \"author\": \"iML1515\", \"sample_id\": \"tkt2\", \"flux\": null, \"normalized_flux\": null, \"relative_error\": null, \"symm_relative_error\": null}, {\"BiGG_ID\": \"SUCDi\", \"author\": \"iML1515\", \"sample_id\": \"tktA\", \"flux\": 1.1093085665564917, \"normalized_flux\": 38.584066679859006, \"relative_error\": 68.6308400976756, \"symm_relative_error\": 104.48546698282003}, {\"BiGG_ID\": \"SUCDi\", \"author\": \"iML1515\", \"sample_id\": \"tktB\", \"flux\": 1.1093085665564917, \"normalized_flux\": 38.584066679859006, \"relative_error\": 54.066587285882136, \"symm_relative_error\": 74.09761243889781}, {\"BiGG_ID\": \"SUCDi\", \"author\": \"iML1515\", \"sample_id\": \"tpi\", \"flux\": 0.9099938023461976, \"normalized_flux\": 17.207703965573376, \"relative_error\": null, \"symm_relative_error\": null}, {\"BiGG_ID\": \"SUCDi\", \"author\": \"iML1515\", \"sample_id\": \"zwf\", \"flux\": 0.9536469172692664, \"normalized_flux\": 32.90461458586551, \"relative_error\": 65.36356359382577, \"symm_relative_error\": 97.09639580274616}, {\"BiGG_ID\": \"TALA\", \"author\": \"iML1515\", \"sample_id\": \"WT\", \"flux\": 0.0, \"normalized_flux\": 0.0, \"relative_error\": 100.0, \"symm_relative_error\": 200.0}, {\"BiGG_ID\": \"TALA\", \"author\": \"iML1515\", \"sample_id\": \"fbaA\", \"flux\": -1.1704134588077175, \"normalized_flux\": -40.923547510759356, \"relative_error\": null, \"symm_relative_error\": null}, {\"BiGG_ID\": \"TALA\", \"author\": \"iML1515\", \"sample_id\": \"fbaB\", \"flux\": -1.1704134588077106, \"normalized_flux\": -40.923547510759114, \"relative_error\": 684.6221072965589, \"symm_relative_error\": 200.0}, {\"BiGG_ID\": \"TALA\", \"author\": \"iML1515\", \"sample_id\": \"fbp\", \"flux\": -3.497202527569243e-15, \"normalized_flux\": 0.0, \"relative_error\": 100.0, \"symm_relative_error\": 200.0}, {\"BiGG_ID\": \"TALA\", \"author\": \"iML1515\", \"sample_id\": \"glk\", \"flux\": null, \"normalized_flux\": null, \"relative_error\": null, \"symm_relative_error\": null}, {\"BiGG_ID\": \"TALA\", \"author\": \"iML1515\", \"sample_id\": \"gnd\", \"flux\": -0.2394890778589687, \"normalized_flux\": -8.321850859823005, \"relative_error\": 932.1850859823005, \"symm_relative_error\": 200.0}, {\"BiGG_ID\": \"TALA\", \"author\": \"iML1515\", \"sample_id\": \"gpmA\", \"flux\": 0.0, \"normalized_flux\": 0.0, \"relative_error\": 100.0, \"symm_relative_error\": 200.0}, {\"BiGG_ID\": \"TALA\", \"author\": \"iML1515\", \"sample_id\": \"gpmB\", \"flux\": null, \"normalized_flux\": null, \"relative_error\": null, \"symm_relative_error\": null}, {\"BiGG_ID\": \"TALA\", \"author\": \"iML1515\", \"sample_id\": \"pfkA\", \"flux\": -1.1704134588077106, \"normalized_flux\": -40.923547510759114, \"relative_error\": 1464.1182503586372, \"symm_relative_error\": 200.00000000000003}, {\"BiGG_ID\": \"TALA\", \"author\": \"iML1515\", \"sample_id\": \"pfkB\", \"flux\": -1.1704134588077106, \"normalized_flux\": -40.923547510759114, \"relative_error\": 392.3110536482794, \"symm_relative_error\": 200.0}, {\"BiGG_ID\": \"TALA\", \"author\": \"iML1515\", \"sample_id\": \"pgi\", \"flux\": 0.04812433182973788, \"normalized_flux\": 1.6686301841372495, \"relative_error\": 91.21773587296185, \"symm_relative_error\": 167.70700004264648}, {\"BiGG_ID\": \"TALA\", \"author\": \"iML1515\", \"sample_id\": \"pgl\", \"flux\": 0.0, \"normalized_flux\": 0.0, \"relative_error\": 100.0, \"symm_relative_error\": 200.0}, {\"BiGG_ID\": \"TALA\", \"author\": \"iML1515\", \"sample_id\": \"pgm\", \"flux\": null, \"normalized_flux\": null, \"relative_error\": null, \"symm_relative_error\": null}, {\"BiGG_ID\": \"TALA\", \"author\": \"iML1515\", \"sample_id\": \"ppc\", \"flux\": null, \"normalized_flux\": null, \"relative_error\": null, \"symm_relative_error\": null}, {\"BiGG_ID\": \"TALA\", \"author\": \"iML1515\", \"sample_id\": \"ppsA\", \"flux\": 1.432187701766452e-14, \"normalized_flux\": 0.0, \"relative_error\": 100.0, \"symm_relative_error\": 200.0}, {\"BiGG_ID\": \"TALA\", \"author\": \"iML1515\", \"sample_id\": \"pts\", \"flux\": 1.6375789613221063e-15, \"normalized_flux\": 0.0, \"relative_error\": null, \"symm_relative_error\": null}, {\"BiGG_ID\": \"TALA\", \"author\": \"iML1515\", \"sample_id\": \"pykA\", \"flux\": 1.609823385706477e-15, \"normalized_flux\": 0.0, \"relative_error\": 100.0, \"symm_relative_error\": 200.0}, {\"BiGG_ID\": \"TALA\", \"author\": \"iML1515\", \"sample_id\": \"pykF\", \"flux\": 1.609823385706477e-15, \"normalized_flux\": 0.0, \"relative_error\": 100.0, \"symm_relative_error\": 200.0}, {\"BiGG_ID\": \"TALA\", \"author\": \"iML1515\", \"sample_id\": \"rpe\", \"flux\": -0.16578054119230146, \"normalized_flux\": -5.771608927417295, \"relative_error\": 677.1608927417294, \"symm_relative_error\": 200.0}, {\"BiGG_ID\": \"TALA\", \"author\": \"iML1515\", \"sample_id\": \"rpiA\", \"flux\": -0.37934339119229976, \"normalized_flux\": -4.722001220792764, \"relative_error\": 257.40004069309214, \"symm_relative_error\": 200.0}, {\"BiGG_ID\": \"TALA\", \"author\": \"iML1515\", \"sample_id\": \"rpiB\", \"flux\": -0.37934339119229976, \"normalized_flux\": -4.722001220792764, \"relative_error\": 131.48000813861842, \"symm_relative_error\": 200.0}, {\"BiGG_ID\": \"TALA\", \"author\": \"iML1515\", \"sample_id\": \"sdhCD\", \"flux\": 0.0, \"normalized_flux\": 0.0, \"relative_error\": null, \"symm_relative_error\": null}, {\"BiGG_ID\": \"TALA\", \"author\": \"iML1515\", \"sample_id\": \"sucA\", \"flux\": null, \"normalized_flux\": null, \"relative_error\": null, \"symm_relative_error\": null}, {\"BiGG_ID\": \"TALA\", \"author\": \"iML1515\", \"sample_id\": \"sucAB\", \"flux\": 0.0, \"normalized_flux\": 0.0, \"relative_error\": null, \"symm_relative_error\": null}, {\"BiGG_ID\": \"TALA\", \"author\": \"iML1515\", \"sample_id\": \"talA\", \"flux\": 0.0, \"normalized_flux\": 0.0, \"relative_error\": 100.0, \"symm_relative_error\": 200.0}, {\"BiGG_ID\": \"TALA\", \"author\": \"iML1515\", \"sample_id\": \"talAB\", \"flux\": null, \"normalized_flux\": null, \"relative_error\": null, \"symm_relative_error\": null}, {\"BiGG_ID\": \"TALA\", \"author\": \"iML1515\", \"sample_id\": \"talB\", \"flux\": null, \"normalized_flux\": null, \"relative_error\": null, \"symm_relative_error\": null}, {\"BiGG_ID\": \"TALA\", \"author\": \"iML1515\", \"sample_id\": \"tkt1\", \"flux\": null, \"normalized_flux\": null, \"relative_error\": null, \"symm_relative_error\": null}, {\"BiGG_ID\": \"TALA\", \"author\": \"iML1515\", \"sample_id\": \"tkt2\", \"flux\": null, \"normalized_flux\": null, \"relative_error\": null, \"symm_relative_error\": null}, {\"BiGG_ID\": \"TALA\", \"author\": \"iML1515\", \"sample_id\": \"tktA\", \"flux\": -0.2020080311922972, \"normalized_flux\": -7.026260844253299, \"relative_error\": 451.3130422126649, \"symm_relative_error\": 200.0}, {\"BiGG_ID\": \"TALA\", \"author\": \"iML1515\", \"sample_id\": \"tktB\", \"flux\": -0.2020080311922972, \"normalized_flux\": -7.026260844253299, \"relative_error\": 334.2086948084433, \"symm_relative_error\": 200.0}, {\"BiGG_ID\": \"TALA\", \"author\": \"iML1515\", \"sample_id\": \"tpi\", \"flux\": 0.14238032169230114, \"normalized_flux\": 2.692368255572066, \"relative_error\": null, \"symm_relative_error\": null}, {\"BiGG_ID\": \"TALA\", \"author\": \"iML1515\", \"sample_id\": \"zwf\", \"flux\": 5.551115123125783e-17, \"normalized_flux\": 0.0, \"relative_error\": 100.0, \"symm_relative_error\": 200.0}, {\"BiGG_ID\": \"TKT1\", \"author\": \"iML1515\", \"sample_id\": \"WT\", \"flux\": 0.20200803119230087, \"normalized_flux\": 7.063217873856673, \"relative_error\": 76.58044684641683, \"symm_relative_error\": 55.37661661884683}, {\"BiGG_ID\": \"TKT1\", \"author\": \"iML1515\", \"sample_id\": \"fbaA\", \"flux\": 0.2020080311923062, \"normalized_flux\": 7.0632178738568605, \"relative_error\": null, \"symm_relative_error\": null}, {\"BiGG_ID\": \"TKT1\", \"author\": \"iML1515\", \"sample_id\": \"fbaB\", \"flux\": 0.20200803119230334, \"normalized_flux\": 7.063217873856761, \"relative_error\": 0.9031124836680147, \"symm_relative_error\": 0.8990527548361714}, {\"BiGG_ID\": \"TKT1\", \"author\": \"iML1515\", \"sample_id\": \"fbp\", \"flux\": 0.20200803119229735, \"normalized_flux\": 7.063217873856553, \"relative_error\": 135.44059579521843, \"symm_relative_error\": 80.75384881435338}, {\"BiGG_ID\": \"TKT1\", \"author\": \"iML1515\", \"sample_id\": \"glk\", \"flux\": null, \"normalized_flux\": null, \"relative_error\": null, \"symm_relative_error\": null}, {\"BiGG_ID\": \"TKT1\", \"author\": \"iML1515\", \"sample_id\": \"gnd\", \"flux\": -0.037481046666669134, \"normalized_flux\": -1.302404615770271, \"relative_error\": 230.24046157702708, \"symm_relative_error\": 200.0}, {\"BiGG_ID\": \"TKT1\", \"author\": \"iML1515\", \"sample_id\": \"gpmA\", \"flux\": 0.2020080311923008, \"normalized_flux\": 6.56199729098711, \"relative_error\": 64.04993227467774, \"symm_relative_error\": 48.51350024816507}, {\"BiGG_ID\": \"TKT1\", \"author\": \"iML1515\", \"sample_id\": \"gpmB\", \"flux\": null, \"normalized_flux\": null, \"relative_error\": null, \"symm_relative_error\": null}, {\"BiGG_ID\": \"TKT1\", \"author\": \"iML1515\", \"sample_id\": \"pfkA\", \"flux\": 0.20200803119230087, \"normalized_flux\": 7.063217873856673, \"relative_error\": 135.44059579522244, \"symm_relative_error\": 80.7538488143548}, {\"BiGG_ID\": \"TKT1\", \"author\": \"iML1515\", \"sample_id\": \"pfkB\", \"flux\": 0.20200803119230087, \"normalized_flux\": 7.063217873856673, \"relative_error\": 49.54844375816662, \"symm_relative_error\": 65.86630939001158}, {\"BiGG_ID\": \"TKT1\", \"author\": \"iML1515\", \"sample_id\": \"pgi\", \"flux\": 0.2501323630220388, \"normalized_flux\": 8.672918565286674, \"relative_error\": 54.35306018270172, \"symm_relative_error\": 74.63673490274911}, {\"BiGG_ID\": \"TKT1\", \"author\": \"iML1515\", \"sample_id\": \"pgl\", \"flux\": 0.20200803119230087, \"normalized_flux\": 6.970081158197943, \"relative_error\": 16.168019303299054, \"symm_relative_error\": 14.958752321835522}, {\"BiGG_ID\": \"TKT1\", \"author\": \"iML1515\", \"sample_id\": \"pgm\", \"flux\": null, \"normalized_flux\": null, \"relative_error\": null, \"symm_relative_error\": null}, {\"BiGG_ID\": \"TKT1\", \"author\": \"iML1515\", \"sample_id\": \"ppc\", \"flux\": null, \"normalized_flux\": null, \"relative_error\": null, \"symm_relative_error\": null}, {\"BiGG_ID\": \"TKT1\", \"author\": \"iML1515\", \"sample_id\": \"ppsA\", \"flux\": 0.20200803119229946, \"normalized_flux\": 7.063217873856622, \"relative_error\": 21.519801401593096, \"symm_relative_error\": 24.114497373475217}, {\"BiGG_ID\": \"TKT1\", \"author\": \"iML1515\", \"sample_id\": \"pts\", \"flux\": 0.2020080311923025, \"normalized_flux\": 6.988077258177418, \"relative_error\": null, \"symm_relative_error\": null}, {\"BiGG_ID\": \"TKT1\", \"author\": \"iML1515\", \"sample_id\": \"pykA\", \"flux\": 0.20200803119230248, \"normalized_flux\": 7.063217873856731, \"relative_error\": 0.9031124836675832, \"symm_relative_error\": 0.8990527548357439}, {\"BiGG_ID\": \"TKT1\", \"author\": \"iML1515\", \"sample_id\": \"pykF\", \"flux\": 0.20200803119230248, \"normalized_flux\": 7.063217873856731, \"relative_error\": 55.85488828839543, \"symm_relative_error\": 77.49813729395969}, {\"BiGG_ID\": \"TKT1\", \"author\": \"iML1515\", \"sample_id\": \"rpe\", \"flux\": 0.03622749000000002, \"normalized_flux\": 1.2612511890607263, \"relative_error\": 26.12511890607263, \"symm_relative_error\": 23.106781796253628}, {\"BiGG_ID\": \"TKT1\", \"author\": \"iML1515\", \"sample_id\": \"rpiA\", \"flux\": -0.1773353599999989, \"normalized_flux\": -2.2074400288819813, \"relative_error\": 173.58133429606605, \"symm_relative_error\": 200.0}, {\"BiGG_ID\": \"TKT1\", \"author\": \"iML1515\", \"sample_id\": \"rpiB\", \"flux\": -0.1773353599999989, \"normalized_flux\": -2.2074400288819813, \"relative_error\": 114.7162668592132, \"symm_relative_error\": 200.0}, {\"BiGG_ID\": \"TKT1\", \"author\": \"iML1515\", \"sample_id\": \"sdhCD\", \"flux\": 0.3733180820606993, \"normalized_flux\": 11.064783951512473, \"relative_error\": null, \"symm_relative_error\": null}, {\"BiGG_ID\": \"TKT1\", \"author\": \"iML1515\", \"sample_id\": \"sucA\", \"flux\": null, \"normalized_flux\": null, \"relative_error\": null, \"symm_relative_error\": null}, {\"BiGG_ID\": \"TKT1\", \"author\": \"iML1515\", \"sample_id\": \"sucAB\", \"flux\": 0.21266749811725405, \"normalized_flux\": 7.353702851317053, \"relative_error\": null, \"symm_relative_error\": null}, {\"BiGG_ID\": \"TKT1\", \"author\": \"iML1515\", \"sample_id\": \"talA\", \"flux\": 0.20200803119229688, \"normalized_flux\": 7.063217873856534, \"relative_error\": 135.4405957952178, \"symm_relative_error\": 80.75384881435313}, {\"BiGG_ID\": \"TKT1\", \"author\": \"iML1515\", \"sample_id\": \"talAB\", \"flux\": null, \"normalized_flux\": null, \"relative_error\": null, \"symm_relative_error\": null}, {\"BiGG_ID\": \"TKT1\", \"author\": \"iML1515\", \"sample_id\": \"talB\", \"flux\": null, \"normalized_flux\": null, \"relative_error\": null, \"symm_relative_error\": null}, {\"BiGG_ID\": \"TKT1\", \"author\": \"iML1515\", \"sample_id\": \"tkt1\", \"flux\": null, \"normalized_flux\": null, \"relative_error\": null, \"symm_relative_error\": null}, {\"BiGG_ID\": \"TKT1\", \"author\": \"iML1515\", \"sample_id\": \"tkt2\", \"flux\": null, \"normalized_flux\": null, \"relative_error\": null, \"symm_relative_error\": null}, {\"BiGG_ID\": \"TKT1\", \"author\": \"iML1515\", \"sample_id\": \"tktA\", \"flux\": 0.0, \"normalized_flux\": 0.0, \"relative_error\": 100.0, \"symm_relative_error\": 200.0}, {\"BiGG_ID\": \"TKT1\", \"author\": \"iML1515\", \"sample_id\": \"tktB\", \"flux\": 0.0, \"normalized_flux\": 0.0, \"relative_error\": 100.0, \"symm_relative_error\": 200.0}, {\"BiGG_ID\": \"TKT1\", \"author\": \"iML1515\", \"sample_id\": \"tpi\", \"flux\": 0.2020080311923036, \"normalized_flux\": 3.81990997132421, \"relative_error\": null, \"symm_relative_error\": null}, {\"BiGG_ID\": \"TKT1\", \"author\": \"iML1515\", \"sample_id\": \"zwf\", \"flux\": 0.20200803119230093, \"normalized_flux\": 6.970081158198041, \"relative_error\": 597.0081158198041, \"symm_relative_error\": 149.81230528768717}, {\"BiGG_ID\": \"TPI\", \"author\": \"iML1515\", \"sample_id\": \"WT\", \"flux\": 2.4282929888076894, \"normalized_flux\": 84.90534925901012, \"relative_error\": 1.8435268681963897, \"symm_relative_error\": 1.8606779168603487}, {\"BiGG_ID\": \"TPI\", \"author\": \"iML1515\", \"sample_id\": \"fbaA\", \"flux\": 2.4282929888076894, \"normalized_flux\": 84.90534925901012, \"relative_error\": null, \"symm_relative_error\": null}, {\"BiGG_ID\": \"TPI\", \"author\": \"iML1515\", \"sample_id\": \"fbaB\", \"flux\": 2.4282929888076894, \"normalized_flux\": 84.90534925901012, \"relative_error\": 2.295601516879666, \"symm_relative_error\": 2.2695515865559934}, {\"BiGG_ID\": \"TPI\", \"author\": \"iML1515\", \"sample_id\": \"fbp\", \"flux\": 2.4282929888076956, \"normalized_flux\": 84.90534925901036, \"relative_error\": 2.4076445298731444, \"symm_relative_error\": 2.4369814552235}, {\"BiGG_ID\": \"TPI\", \"author\": \"iML1515\", \"sample_id\": \"glk\", \"flux\": null, \"normalized_flux\": null, \"relative_error\": null, \"symm_relative_error\": null}, {\"BiGG_ID\": \"TPI\", \"author\": \"iML1515\", \"sample_id\": \"gnd\", \"flux\": 2.4104586957756373, \"normalized_flux\": 83.75946806985925, \"relative_error\": 9.93605583886102, \"symm_relative_error\": 10.45548737054208}, {\"BiGG_ID\": \"TPI\", \"author\": \"iML1515\", \"sample_id\": \"gpmA\", \"flux\": 2.4282929888076894, \"normalized_flux\": 78.88028966091106, \"relative_error\": 8.278732952429, \"symm_relative_error\": 8.636217650673917}, {\"BiGG_ID\": \"TPI\", \"author\": \"iML1515\", \"sample_id\": \"gpmB\", \"flux\": null, \"normalized_flux\": null, \"relative_error\": null, \"symm_relative_error\": null}, {\"BiGG_ID\": \"TPI\", \"author\": \"iML1515\", \"sample_id\": \"pfkA\", \"flux\": 2.4282929888076725, \"normalized_flux\": 84.90534925900954, \"relative_error\": 2.4076445298740916, \"symm_relative_error\": 2.436981455224471}, {\"BiGG_ID\": \"TPI\", \"author\": \"iML1515\", \"sample_id\": \"pfkB\", \"flux\": 2.4282929888076725, \"normalized_flux\": 84.90534925900954, \"relative_error\": 10.266687349363039, \"symm_relative_error\": 9.765396010928443}, {\"BiGG_ID\": \"TPI\", \"author\": \"iML1515\", \"sample_id\": \"pgi\", \"flux\": 2.404230822892821, \"normalized_flux\": 83.36265602410029, \"relative_error\": 145.18428242382438, \"symm_relative_error\": 84.11986861300024}, {\"BiGG_ID\": \"TPI\", \"author\": \"iML1515\", \"sample_id\": \"pgl\", \"flux\": 2.4665093310192407, \"normalized_flux\": 85.10438972741125, \"relative_error\": 1.0414072937078542, \"symm_relative_error\": 1.0468583231740152}, {\"BiGG_ID\": \"TPI\", \"author\": \"iML1515\", \"sample_id\": \"pgm\", \"flux\": null, \"normalized_flux\": null, \"relative_error\": null, \"symm_relative_error\": null}, {\"BiGG_ID\": \"TPI\", \"author\": \"iML1515\", \"sample_id\": \"ppc\", \"flux\": null, \"normalized_flux\": null, \"relative_error\": null, \"symm_relative_error\": null}, {\"BiGG_ID\": \"TPI\", \"author\": \"iML1515\", \"sample_id\": \"ppsA\", \"flux\": 2.4282929888076747, \"normalized_flux\": 84.90534925900961, \"relative_error\": 3.5431088524507457, \"symm_relative_error\": 3.481433365566957}, {\"BiGG_ID\": \"TPI\", \"author\": \"iML1515\", \"sample_id\": \"pts\", \"flux\": 2.45904567697973, \"normalized_flux\": 85.0659306498718, \"relative_error\": null, \"symm_relative_error\": null}, {\"BiGG_ID\": \"TPI\", \"author\": \"iML1515\", \"sample_id\": \"pykA\", \"flux\": 2.4282929888076774, \"normalized_flux\": 84.90534925900971, \"relative_error\": 1.0777967369163224, \"symm_relative_error\": 1.0720196405637732}, {\"BiGG_ID\": \"TPI\", \"author\": \"iML1515\", \"sample_id\": \"pykF\", \"flux\": 2.4282929888076774, \"normalized_flux\": 84.90534925900971, \"relative_error\": 13.207132345346281, \"symm_relative_error\": 12.38901550812454}, {\"BiGG_ID\": \"TPI\", \"author\": \"iML1515\", \"sample_id\": \"rpe\", \"flux\": 2.4159476293571918, \"normalized_flux\": 84.11062483862942, \"relative_error\": 8.575407784098457, \"symm_relative_error\": 8.959567508887819}, {\"BiGG_ID\": \"TPI\", \"author\": \"iML1515\", \"sample_id\": \"rpiA\", \"flux\": 4.478225373240923, \"normalized_flux\": 55.74417841566977, \"relative_error\": 19.2113356294641, \"symm_relative_error\": 21.25280995504171}, {\"BiGG_ID\": \"TPI\", \"author\": \"iML1515\", \"sample_id\": \"rpiB\", \"flux\": 4.478225373240923, \"normalized_flux\": 55.74417841566977, \"relative_error\": 29.43774884092434, \"symm_relative_error\": 34.51848066131478}, {\"BiGG_ID\": \"TPI\", \"author\": \"iML1515\", \"sample_id\": \"sdhCD\", \"flux\": 2.7709130905444885, \"normalized_flux\": 82.12716224741403, \"relative_error\": null, \"symm_relative_error\": null}, {\"BiGG_ID\": \"TPI\", \"author\": \"iML1515\", \"sample_id\": \"sucA\", \"flux\": null, \"normalized_flux\": null, \"relative_error\": null, \"symm_relative_error\": null}, {\"BiGG_ID\": \"TPI\", \"author\": \"iML1515\", \"sample_id\": \"sucAB\", \"flux\": 2.449611922657596, \"normalized_flux\": 84.70367282138973, \"relative_error\": null, \"symm_relative_error\": null}, {\"BiGG_ID\": \"TPI\", \"author\": \"iML1515\", \"sample_id\": \"talA\", \"flux\": 2.4282929888076894, \"normalized_flux\": 84.90534925901012, \"relative_error\": 2.407644529873422, \"symm_relative_error\": 2.4369814552237847}, {\"BiGG_ID\": \"TPI\", \"author\": \"iML1515\", \"sample_id\": \"talAB\", \"flux\": null, \"normalized_flux\": null, \"relative_error\": null, \"symm_relative_error\": null}, {\"BiGG_ID\": \"TPI\", \"author\": \"iML1515\", \"sample_id\": \"talB\", \"flux\": null, \"normalized_flux\": null, \"relative_error\": null, \"symm_relative_error\": null}, {\"BiGG_ID\": \"TPI\", \"author\": \"iML1515\", \"sample_id\": \"tkt1\", \"flux\": null, \"normalized_flux\": null, \"relative_error\": null, \"symm_relative_error\": null}, {\"BiGG_ID\": \"TPI\", \"author\": \"iML1515\", \"sample_id\": \"tkt2\", \"flux\": null, \"normalized_flux\": null, \"relative_error\": null, \"symm_relative_error\": null}, {\"BiGG_ID\": \"TPI\", \"author\": \"iML1515\", \"sample_id\": \"tktA\", \"flux\": 2.4132498375486904, \"normalized_flux\": 83.93786494967611, \"relative_error\": 6.250461961615331, \"symm_relative_error\": 6.0610404477819655}, {\"BiGG_ID\": \"TPI\", \"author\": \"iML1515\", \"sample_id\": \"tktB\", \"flux\": 2.4132498375486904, \"normalized_flux\": 83.93786494967611, \"relative_error\": 4.616062557186237, \"symm_relative_error\": 4.725119800124098}, {\"BiGG_ID\": \"TPI\", \"author\": \"iML1515\", \"sample_id\": \"tpi\", \"flux\": 0.0, \"normalized_flux\": 0.0, \"relative_error\": null, \"symm_relative_error\": null}, {\"BiGG_ID\": \"TPI\", \"author\": \"iML1515\", \"sample_id\": \"zwf\", \"flux\": 2.4665093310192114, \"normalized_flux\": 85.10438972741142, \"relative_error\": 8.489903518912456, \"symm_relative_error\": 8.866272509816078}]}}, {\"mode\": \"vega-lite\"});\n",
       "</script>"
      ],
      "text/plain": [
       "alt.Chart(...)"
      ]
     },
     "execution_count": 25,
     "metadata": {},
     "output_type": "execute_result"
    }
   ],
   "source": [
    "heatmap(x_rel_error, author=\"iML1515\")"
   ]
  },
  {
   "cell_type": "code",
   "execution_count": null,
   "metadata": {},
   "outputs": [],
   "source": []
  },
  {
   "cell_type": "markdown",
   "metadata": {},
   "source": [
    "### Branch-level error"
   ]
  },
  {
   "cell_type": "code",
   "execution_count": 17,
   "metadata": {},
   "outputs": [],
   "source": [
    "ishii_branches = branch_df.sel(author=\"Ishii\")"
   ]
  },
  {
   "cell_type": "code",
   "execution_count": 46,
   "metadata": {},
   "outputs": [],
   "source": [
    "log_error_diff = xr.ufuncs.log(branch_df) - xr.ufuncs.log(ishii_branches)\n",
    "log_error_diff = log_error_diff.rename(\"error\")\n",
    "#log_error_diff.to_dataframe().reset_index()"
   ]
  },
  {
   "cell_type": "code",
   "execution_count": 56,
   "metadata": {},
   "outputs": [],
   "source": [
    "rmse_diff = xr.ufuncs.sqrt(xr.ufuncs.square(branch_df - ishii_branches))\n",
    "rmse_diff = rmse_diff.rename(\"error\")\n",
    "rmse_diff = rmse_diff.where(rmse_diff < 10)\n",
    "#rmse_diff.to_dataframe().reset_index()"
   ]
  },
  {
   "cell_type": "code",
   "execution_count": 60,
   "metadata": {},
   "outputs": [
    {
     "data": {
      "application/vnd.vegalite.v3+json": {
       "$schema": "https://vega.github.io/schema/vega-lite/v3.2.1.json",
       "config": {
        "axis": {
         "labelFontSize": 20,
         "titleFontSize": 20
        },
        "facet": {
         "spacing": 5
        },
        "header": {
         "titleFontSize": 24
        },
        "mark": {
         "tooltip": null
        },
        "view": {
         "height": 300,
         "stroke": null,
         "width": 400
        }
       },
       "data": {
        "name": "data-524311db0aa142ce38b288b43aa93f3a"
       },
       "datasets": {
        "data-524311db0aa142ce38b288b43aa93f3a": [
         {
          "Branch": "EMP_PPP",
          "author": "ECC2",
          "error": -0.7671331350902272,
          "sample_id": "WT"
         },
         {
          "Branch": "EMP_PPP",
          "author": "Exp_ECC2",
          "error": 0.014429917516488366,
          "sample_id": "WT"
         },
         {
          "Branch": "EMP_PPP",
          "author": "Exp_iML1515",
          "error": 0.03849581279533268,
          "sample_id": "WT"
         },
         {
          "Branch": "EMP_PPP",
          "author": "Khodayari",
          "error": -0.025379387237670553,
          "sample_id": "WT"
         },
         {
          "Branch": "EMP_PPP",
          "author": "Kurata",
          "error": -0.6341626981232683,
          "sample_id": "WT"
         },
         {
          "Branch": "EMP_PPP",
          "author": "Millard",
          "error": -0.0027757647185354672,
          "sample_id": "WT"
         },
         {
          "Branch": "EMP_PPP",
          "author": "iML1515",
          "error": -0.11204155135024177,
          "sample_id": "WT"
         },
         {
          "Branch": "EMP_PPP",
          "author": "ECC2",
          "error": null,
          "sample_id": "fbaA"
         },
         {
          "Branch": "EMP_PPP",
          "author": "Exp_ECC2",
          "error": null,
          "sample_id": "fbaA"
         },
         {
          "Branch": "EMP_PPP",
          "author": "Exp_iML1515",
          "error": null,
          "sample_id": "fbaA"
         },
         {
          "Branch": "EMP_PPP",
          "author": "Khodayari",
          "error": null,
          "sample_id": "fbaA"
         },
         {
          "Branch": "EMP_PPP",
          "author": "Kurata",
          "error": null,
          "sample_id": "fbaA"
         },
         {
          "Branch": "EMP_PPP",
          "author": "Millard",
          "error": null,
          "sample_id": "fbaA"
         },
         {
          "Branch": "EMP_PPP",
          "author": "iML1515",
          "error": null,
          "sample_id": "fbaA"
         },
         {
          "Branch": "EMP_PPP",
          "author": "ECC2",
          "error": null,
          "sample_id": "fbaB"
         },
         {
          "Branch": "EMP_PPP",
          "author": "Exp_ECC2",
          "error": null,
          "sample_id": "fbaB"
         },
         {
          "Branch": "EMP_PPP",
          "author": "Exp_iML1515",
          "error": 0.15574559548010547,
          "sample_id": "fbaB"
         },
         {
          "Branch": "EMP_PPP",
          "author": "Khodayari",
          "error": 0.0673353877641199,
          "sample_id": "fbaB"
         },
         {
          "Branch": "EMP_PPP",
          "author": "Kurata",
          "error": -0.5169374116108045,
          "sample_id": "fbaB"
         },
         {
          "Branch": "EMP_PPP",
          "author": "Millard",
          "error": null,
          "sample_id": "fbaB"
         },
         {
          "Branch": "EMP_PPP",
          "author": "iML1515",
          "error": 0.005208231334532631,
          "sample_id": "fbaB"
         },
         {
          "Branch": "EMP_PPP",
          "author": "ECC2",
          "error": -0.7919227962833633,
          "sample_id": "fbp"
         },
         {
          "Branch": "EMP_PPP",
          "author": "Exp_ECC2",
          "error": -0.010359743676651045,
          "sample_id": "fbp"
         },
         {
          "Branch": "EMP_PPP",
          "author": "Exp_iML1515",
          "error": 0.013706151602198374,
          "sample_id": "fbp"
         },
         {
          "Branch": "EMP_PPP",
          "author": "Khodayari",
          "error": -0.04946938847607846,
          "sample_id": "fbp"
         },
         {
          "Branch": "EMP_PPP",
          "author": "Kurata",
          "error": -0.6589414306452872,
          "sample_id": "fbp"
         },
         {
          "Branch": "EMP_PPP",
          "author": "Millard",
          "error": -0.027547476603560966,
          "sample_id": "fbp"
         },
         {
          "Branch": "EMP_PPP",
          "author": "iML1515",
          "error": -0.1368312125433762,
          "sample_id": "fbp"
         },
         {
          "Branch": "EMP_PPP",
          "author": "ECC2",
          "error": null,
          "sample_id": "glk"
         },
         {
          "Branch": "EMP_PPP",
          "author": "Exp_ECC2",
          "error": null,
          "sample_id": "glk"
         },
         {
          "Branch": "EMP_PPP",
          "author": "Exp_iML1515",
          "error": null,
          "sample_id": "glk"
         },
         {
          "Branch": "EMP_PPP",
          "author": "Khodayari",
          "error": null,
          "sample_id": "glk"
         },
         {
          "Branch": "EMP_PPP",
          "author": "Kurata",
          "error": null,
          "sample_id": "glk"
         },
         {
          "Branch": "EMP_PPP",
          "author": "Millard",
          "error": null,
          "sample_id": "glk"
         },
         {
          "Branch": "EMP_PPP",
          "author": "iML1515",
          "error": null,
          "sample_id": "glk"
         },
         {
          "Branch": "EMP_PPP",
          "author": "ECC2",
          "error": -0.6578411051140607,
          "sample_id": "gnd"
         },
         {
          "Branch": "EMP_PPP",
          "author": "Exp_ECC2",
          "error": -0.06601816927509206,
          "sample_id": "gnd"
         },
         {
          "Branch": "EMP_PPP",
          "author": "Exp_iML1515",
          "error": -0.04414877817221606,
          "sample_id": "gnd"
         },
         {
          "Branch": "EMP_PPP",
          "author": "Khodayari",
          "error": -0.6209572452807055,
          "sample_id": "gnd"
         },
         {
          "Branch": "EMP_PPP",
          "author": "Kurata",
          "error": -3.902905993996873,
          "sample_id": "gnd"
         },
         {
          "Branch": "EMP_PPP",
          "author": "Millard",
          "error": -0.1740532012345217,
          "sample_id": "gnd"
         },
         {
          "Branch": "EMP_PPP",
          "author": "iML1515",
          "error": -0.10049764146378044,
          "sample_id": "gnd"
         },
         {
          "Branch": "EMP_PPP",
          "author": "ECC2",
          "error": null,
          "sample_id": "gpmA"
         },
         {
          "Branch": "EMP_PPP",
          "author": "Exp_ECC2",
          "error": null,
          "sample_id": "gpmA"
         },
         {
          "Branch": "EMP_PPP",
          "author": "Exp_iML1515",
          "error": 0.01278223956157662,
          "sample_id": "gpmA"
         },
         {
          "Branch": "EMP_PPP",
          "author": "Khodayari",
          "error": null,
          "sample_id": "gpmA"
         },
         {
          "Branch": "EMP_PPP",
          "author": "Kurata",
          "error": null,
          "sample_id": "gpmA"
         },
         {
          "Branch": "EMP_PPP",
          "author": "Millard",
          "error": null,
          "sample_id": "gpmA"
         },
         {
          "Branch": "EMP_PPP",
          "author": "iML1515",
          "error": -0.18662627930703238,
          "sample_id": "gpmA"
         },
         {
          "Branch": "EMP_PPP",
          "author": "ECC2",
          "error": null,
          "sample_id": "gpmB"
         },
         {
          "Branch": "EMP_PPP",
          "author": "Exp_ECC2",
          "error": null,
          "sample_id": "gpmB"
         },
         {
          "Branch": "EMP_PPP",
          "author": "Exp_iML1515",
          "error": null,
          "sample_id": "gpmB"
         },
         {
          "Branch": "EMP_PPP",
          "author": "Khodayari",
          "error": null,
          "sample_id": "gpmB"
         },
         {
          "Branch": "EMP_PPP",
          "author": "Kurata",
          "error": null,
          "sample_id": "gpmB"
         },
         {
          "Branch": "EMP_PPP",
          "author": "Millard",
          "error": null,
          "sample_id": "gpmB"
         },
         {
          "Branch": "EMP_PPP",
          "author": "iML1515",
          "error": null,
          "sample_id": "gpmB"
         },
         {
          "Branch": "EMP_PPP",
          "author": "ECC2",
          "error": null,
          "sample_id": "pfkA"
         },
         {
          "Branch": "EMP_PPP",
          "author": "Exp_ECC2",
          "error": null,
          "sample_id": "pfkA"
         },
         {
          "Branch": "EMP_PPP",
          "author": "Exp_iML1515",
          "error": 0.015388237785182585,
          "sample_id": "pfkA"
         },
         {
          "Branch": "EMP_PPP",
          "author": "Khodayari",
          "error": -0.03851617545999553,
          "sample_id": "pfkA"
         },
         {
          "Branch": "EMP_PPP",
          "author": "Kurata",
          "error": -0.6707897058876325,
          "sample_id": "pfkA"
         },
         {
          "Branch": "EMP_PPP",
          "author": "Millard",
          "error": null,
          "sample_id": "pfkA"
         },
         {
          "Branch": "EMP_PPP",
          "author": "iML1515",
          "error": -0.13514912636039758,
          "sample_id": "pfkA"
         },
         {
          "Branch": "EMP_PPP",
          "author": "ECC2",
          "error": null,
          "sample_id": "pfkB"
         },
         {
          "Branch": "EMP_PPP",
          "author": "Exp_ECC2",
          "error": null,
          "sample_id": "pfkB"
         },
         {
          "Branch": "EMP_PPP",
          "author": "Exp_iML1515",
          "error": 0.5051136895110867,
          "sample_id": "pfkB"
         },
         {
          "Branch": "EMP_PPP",
          "author": "Khodayari",
          "error": 0.45120927626590857,
          "sample_id": "pfkB"
         },
         {
          "Branch": "EMP_PPP",
          "author": "Kurata",
          "error": -0.18106425416172844,
          "sample_id": "pfkB"
         },
         {
          "Branch": "EMP_PPP",
          "author": "Millard",
          "error": null,
          "sample_id": "pfkB"
         },
         {
          "Branch": "EMP_PPP",
          "author": "iML1515",
          "error": 0.35457632536550654,
          "sample_id": "pfkB"
         },
         {
          "Branch": "EMP_PPP",
          "author": "ECC2",
          "error": null,
          "sample_id": "pgi"
         },
         {
          "Branch": "EMP_PPP",
          "author": "Exp_ECC2",
          "error": null,
          "sample_id": "pgi"
         },
         {
          "Branch": "EMP_PPP",
          "author": "Exp_iML1515",
          "error": null,
          "sample_id": "pgi"
         },
         {
          "Branch": "EMP_PPP",
          "author": "Khodayari",
          "error": null,
          "sample_id": "pgi"
         },
         {
          "Branch": "EMP_PPP",
          "author": "Kurata",
          "error": null,
          "sample_id": "pgi"
         },
         {
          "Branch": "EMP_PPP",
          "author": "Millard",
          "error": null,
          "sample_id": "pgi"
         },
         {
          "Branch": "EMP_PPP",
          "author": "iML1515",
          "error": null,
          "sample_id": "pgi"
         },
         {
          "Branch": "EMP_PPP",
          "author": "ECC2",
          "error": 0.2282586519809802,
          "sample_id": "pgl"
         },
         {
          "Branch": "EMP_PPP",
          "author": "Exp_ECC2",
          "error": 0.2282586519809802,
          "sample_id": "pgl"
         },
         {
          "Branch": "EMP_PPP",
          "author": "Exp_iML1515",
          "error": 0.2282586519809802,
          "sample_id": "pgl"
         },
         {
          "Branch": "EMP_PPP",
          "author": "Khodayari",
          "error": 0.00010374061335427509,
          "sample_id": "pgl"
         },
         {
          "Branch": "EMP_PPP",
          "author": "Kurata",
          "error": null,
          "sample_id": "pgl"
         },
         {
          "Branch": "EMP_PPP",
          "author": "Millard",
          "error": 0.22459001979993898,
          "sample_id": "pgl"
         },
         {
          "Branch": "EMP_PPP",
          "author": "iML1515",
          "error": 0.2282586519809802,
          "sample_id": "pgl"
         },
         {
          "Branch": "EMP_PPP",
          "author": "ECC2",
          "error": null,
          "sample_id": "pgm"
         },
         {
          "Branch": "EMP_PPP",
          "author": "Exp_ECC2",
          "error": null,
          "sample_id": "pgm"
         },
         {
          "Branch": "EMP_PPP",
          "author": "Exp_iML1515",
          "error": null,
          "sample_id": "pgm"
         },
         {
          "Branch": "EMP_PPP",
          "author": "Khodayari",
          "error": null,
          "sample_id": "pgm"
         },
         {
          "Branch": "EMP_PPP",
          "author": "Kurata",
          "error": null,
          "sample_id": "pgm"
         },
         {
          "Branch": "EMP_PPP",
          "author": "Millard",
          "error": null,
          "sample_id": "pgm"
         },
         {
          "Branch": "EMP_PPP",
          "author": "iML1515",
          "error": null,
          "sample_id": "pgm"
         },
         {
          "Branch": "EMP_PPP",
          "author": "ECC2",
          "error": null,
          "sample_id": "ppc"
         },
         {
          "Branch": "EMP_PPP",
          "author": "Exp_ECC2",
          "error": null,
          "sample_id": "ppc"
         },
         {
          "Branch": "EMP_PPP",
          "author": "Exp_iML1515",
          "error": null,
          "sample_id": "ppc"
         },
         {
          "Branch": "EMP_PPP",
          "author": "Khodayari",
          "error": null,
          "sample_id": "ppc"
         },
         {
          "Branch": "EMP_PPP",
          "author": "Kurata",
          "error": null,
          "sample_id": "ppc"
         },
         {
          "Branch": "EMP_PPP",
          "author": "Millard",
          "error": null,
          "sample_id": "ppc"
         },
         {
          "Branch": "EMP_PPP",
          "author": "iML1515",
          "error": null,
          "sample_id": "ppc"
         },
         {
          "Branch": "EMP_PPP",
          "author": "ECC2",
          "error": -0.5687792449691507,
          "sample_id": "ppsA"
         },
         {
          "Branch": "EMP_PPP",
          "author": "Exp_ECC2",
          "error": 0.21278380763756016,
          "sample_id": "ppsA"
         },
         {
          "Branch": "EMP_PPP",
          "author": "Exp_iML1515",
          "error": 0.23684970291640814,
          "sample_id": "ppsA"
         },
         {
          "Branch": "EMP_PPP",
          "author": "Khodayari",
          "error": 0.16233783066847945,
          "sample_id": "ppsA"
         },
         {
          "Branch": "EMP_PPP",
          "author": "Kurata",
          "error": -0.0928536447047244,
          "sample_id": "ppsA"
         },
         {
          "Branch": "EMP_PPP",
          "author": "Millard",
          "error": 0.19558205865144618,
          "sample_id": "ppsA"
         },
         {
          "Branch": "EMP_PPP",
          "author": "iML1515",
          "error": 0.08631233877083355,
          "sample_id": "ppsA"
         },
         {
          "Branch": "EMP_PPP",
          "author": "ECC2",
          "error": null,
          "sample_id": "pts"
         },
         {
          "Branch": "EMP_PPP",
          "author": "Exp_ECC2",
          "error": null,
          "sample_id": "pts"
         },
         {
          "Branch": "EMP_PPP",
          "author": "Exp_iML1515",
          "error": null,
          "sample_id": "pts"
         },
         {
          "Branch": "EMP_PPP",
          "author": "Khodayari",
          "error": null,
          "sample_id": "pts"
         },
         {
          "Branch": "EMP_PPP",
          "author": "Kurata",
          "error": null,
          "sample_id": "pts"
         },
         {
          "Branch": "EMP_PPP",
          "author": "Millard",
          "error": null,
          "sample_id": "pts"
         },
         {
          "Branch": "EMP_PPP",
          "author": "iML1515",
          "error": null,
          "sample_id": "pts"
         },
         {
          "Branch": "EMP_PPP",
          "author": "ECC2",
          "error": -0.6634890044612346,
          "sample_id": "pykA"
         },
         {
          "Branch": "EMP_PPP",
          "author": "Exp_ECC2",
          "error": 0.11757470713213253,
          "sample_id": "pykA"
         },
         {
          "Branch": "EMP_PPP",
          "author": "Exp_iML1515",
          "error": 0.14213994342432593,
          "sample_id": "pykA"
         },
         {
          "Branch": "EMP_PPP",
          "author": "Khodayari",
          "error": 0.04133564767448861,
          "sample_id": "pykA"
         },
         {
          "Branch": "EMP_PPP",
          "author": "Kurata",
          "error": -0.5290410582228305,
          "sample_id": "pykA"
         },
         {
          "Branch": "EMP_PPP",
          "author": "Millard",
          "error": -0.1414846862043715,
          "sample_id": "pykA"
         },
         {
          "Branch": "EMP_PPP",
          "author": "iML1515",
          "error": -0.008397420721247495,
          "sample_id": "pykA"
         },
         {
          "Branch": "EMP_PPP",
          "author": "ECC2",
          "error": -0.19941914150310547,
          "sample_id": "pykF"
         },
         {
          "Branch": "EMP_PPP",
          "author": "Exp_ECC2",
          "error": 0.5816445700902617,
          "sample_id": "pykF"
         },
         {
          "Branch": "EMP_PPP",
          "author": "Exp_iML1515",
          "error": 0.606209806382455,
          "sample_id": "pykF"
         },
         {
          "Branch": "EMP_PPP",
          "author": "Khodayari",
          "error": 0.4893098554692929,
          "sample_id": "pykF"
         },
         {
          "Branch": "EMP_PPP",
          "author": "Kurata",
          "error": -0.06497119526470141,
          "sample_id": "pykF"
         },
         {
          "Branch": "EMP_PPP",
          "author": "Millard",
          "error": 0.32258517675375764,
          "sample_id": "pykF"
         },
         {
          "Branch": "EMP_PPP",
          "author": "iML1515",
          "error": 0.45567244223688164,
          "sample_id": "pykF"
         },
         {
          "Branch": "EMP_PPP",
          "author": "ECC2",
          "error": -0.6827611764603109,
          "sample_id": "rpe"
         },
         {
          "Branch": "EMP_PPP",
          "author": "Exp_ECC2",
          "error": -0.05352851133678024,
          "sample_id": "rpe"
         },
         {
          "Branch": "EMP_PPP",
          "author": "Exp_iML1515",
          "error": -0.028259013148719273,
          "sample_id": "rpe"
         },
         {
          "Branch": "EMP_PPP",
          "author": "Khodayari",
          "error": -0.1540040859407652,
          "sample_id": "rpe"
         },
         {
          "Branch": "EMP_PPP",
          "author": "Kurata",
          "error": null,
          "sample_id": "rpe"
         },
         {
          "Branch": "EMP_PPP",
          "author": "Millard",
          "error": -0.1056774450477061,
          "sample_id": "rpe"
         },
         {
          "Branch": "EMP_PPP",
          "author": "iML1515",
          "error": -0.08133205374424854,
          "sample_id": "rpe"
         },
         {
          "Branch": "EMP_PPP",
          "author": "ECC2",
          "error": null,
          "sample_id": "rpiA"
         },
         {
          "Branch": "EMP_PPP",
          "author": "Exp_ECC2",
          "error": null,
          "sample_id": "rpiA"
         },
         {
          "Branch": "EMP_PPP",
          "author": "Exp_iML1515",
          "error": -0.013555848971541773,
          "sample_id": "rpiA"
         },
         {
          "Branch": "EMP_PPP",
          "author": "Khodayari",
          "error": -0.03664713297660488,
          "sample_id": "rpiA"
         },
         {
          "Branch": "EMP_PPP",
          "author": "Kurata",
          "error": -0.43151331878446236,
          "sample_id": "rpiA"
         },
         {
          "Branch": "EMP_PPP",
          "author": "Millard",
          "error": 0.14741664731682028,
          "sample_id": "rpiA"
         },
         {
          "Branch": "EMP_PPP",
          "author": "iML1515",
          "error": -0.0226375770417081,
          "sample_id": "rpiA"
         },
         {
          "Branch": "EMP_PPP",
          "author": "ECC2",
          "error": null,
          "sample_id": "rpiB"
         },
         {
          "Branch": "EMP_PPP",
          "author": "Exp_ECC2",
          "error": null,
          "sample_id": "rpiB"
         },
         {
          "Branch": "EMP_PPP",
          "author": "Exp_iML1515",
          "error": 0.26946350915911654,
          "sample_id": "rpiB"
         },
         {
          "Branch": "EMP_PPP",
          "author": "Khodayari",
          "error": 0.24637222515405344,
          "sample_id": "rpiB"
         },
         {
          "Branch": "EMP_PPP",
          "author": "Kurata",
          "error": -0.14849396065380405,
          "sample_id": "rpiB"
         },
         {
          "Branch": "EMP_PPP",
          "author": "Millard",
          "error": 0.4304360054474786,
          "sample_id": "rpiB"
         },
         {
          "Branch": "EMP_PPP",
          "author": "iML1515",
          "error": 0.2603817810889502,
          "sample_id": "rpiB"
         },
         {
          "Branch": "EMP_PPP",
          "author": "ECC2",
          "error": null,
          "sample_id": "sdhCD"
         },
         {
          "Branch": "EMP_PPP",
          "author": "Exp_ECC2",
          "error": null,
          "sample_id": "sdhCD"
         },
         {
          "Branch": "EMP_PPP",
          "author": "Exp_iML1515",
          "error": null,
          "sample_id": "sdhCD"
         },
         {
          "Branch": "EMP_PPP",
          "author": "Khodayari",
          "error": null,
          "sample_id": "sdhCD"
         },
         {
          "Branch": "EMP_PPP",
          "author": "Kurata",
          "error": null,
          "sample_id": "sdhCD"
         },
         {
          "Branch": "EMP_PPP",
          "author": "Millard",
          "error": null,
          "sample_id": "sdhCD"
         },
         {
          "Branch": "EMP_PPP",
          "author": "iML1515",
          "error": null,
          "sample_id": "sdhCD"
         },
         {
          "Branch": "EMP_PPP",
          "author": "ECC2",
          "error": null,
          "sample_id": "sucA"
         },
         {
          "Branch": "EMP_PPP",
          "author": "Exp_ECC2",
          "error": null,
          "sample_id": "sucA"
         },
         {
          "Branch": "EMP_PPP",
          "author": "Exp_iML1515",
          "error": null,
          "sample_id": "sucA"
         },
         {
          "Branch": "EMP_PPP",
          "author": "Khodayari",
          "error": null,
          "sample_id": "sucA"
         },
         {
          "Branch": "EMP_PPP",
          "author": "Kurata",
          "error": null,
          "sample_id": "sucA"
         },
         {
          "Branch": "EMP_PPP",
          "author": "Millard",
          "error": null,
          "sample_id": "sucA"
         },
         {
          "Branch": "EMP_PPP",
          "author": "iML1515",
          "error": null,
          "sample_id": "sucA"
         },
         {
          "Branch": "EMP_PPP",
          "author": "ECC2",
          "error": null,
          "sample_id": "sucAB"
         },
         {
          "Branch": "EMP_PPP",
          "author": "Exp_ECC2",
          "error": null,
          "sample_id": "sucAB"
         },
         {
          "Branch": "EMP_PPP",
          "author": "Exp_iML1515",
          "error": null,
          "sample_id": "sucAB"
         },
         {
          "Branch": "EMP_PPP",
          "author": "Khodayari",
          "error": null,
          "sample_id": "sucAB"
         },
         {
          "Branch": "EMP_PPP",
          "author": "Kurata",
          "error": null,
          "sample_id": "sucAB"
         },
         {
          "Branch": "EMP_PPP",
          "author": "Millard",
          "error": null,
          "sample_id": "sucAB"
         },
         {
          "Branch": "EMP_PPP",
          "author": "iML1515",
          "error": null,
          "sample_id": "sucAB"
         },
         {
          "Branch": "EMP_PPP",
          "author": "ECC2",
          "error": -0.5642575947922086,
          "sample_id": "talA"
         },
         {
          "Branch": "EMP_PPP",
          "author": "Exp_ECC2",
          "error": 0.04580673591804668,
          "sample_id": "talA"
         },
         {
          "Branch": "EMP_PPP",
          "author": "Exp_iML1515",
          "error": 0.003553780138179974,
          "sample_id": "talA"
         },
         {
          "Branch": "EMP_PPP",
          "author": "Khodayari",
          "error": -0.08009589451495697,
          "sample_id": "talA"
         },
         {
          "Branch": "EMP_PPP",
          "author": "Kurata",
          "error": -0.6685882763251301,
          "sample_id": "talA"
         },
         {
          "Branch": "EMP_PPP",
          "author": "Millard",
          "error": null,
          "sample_id": "talA"
         },
         {
          "Branch": "EMP_PPP",
          "author": "iML1515",
          "error": -0.1469835840073954,
          "sample_id": "talA"
         },
         {
          "Branch": "EMP_PPP",
          "author": "ECC2",
          "error": null,
          "sample_id": "talAB"
         },
         {
          "Branch": "EMP_PPP",
          "author": "Exp_ECC2",
          "error": null,
          "sample_id": "talAB"
         },
         {
          "Branch": "EMP_PPP",
          "author": "Exp_iML1515",
          "error": null,
          "sample_id": "talAB"
         },
         {
          "Branch": "EMP_PPP",
          "author": "Khodayari",
          "error": null,
          "sample_id": "talAB"
         },
         {
          "Branch": "EMP_PPP",
          "author": "Kurata",
          "error": null,
          "sample_id": "talAB"
         },
         {
          "Branch": "EMP_PPP",
          "author": "Millard",
          "error": null,
          "sample_id": "talAB"
         },
         {
          "Branch": "EMP_PPP",
          "author": "iML1515",
          "error": null,
          "sample_id": "talAB"
         },
         {
          "Branch": "EMP_PPP",
          "author": "ECC2",
          "error": null,
          "sample_id": "talB"
         },
         {
          "Branch": "EMP_PPP",
          "author": "Exp_ECC2",
          "error": null,
          "sample_id": "talB"
         },
         {
          "Branch": "EMP_PPP",
          "author": "Exp_iML1515",
          "error": null,
          "sample_id": "talB"
         },
         {
          "Branch": "EMP_PPP",
          "author": "Khodayari",
          "error": null,
          "sample_id": "talB"
         },
         {
          "Branch": "EMP_PPP",
          "author": "Kurata",
          "error": -0.6701319446243035,
          "sample_id": "talB"
         },
         {
          "Branch": "EMP_PPP",
          "author": "Millard",
          "error": null,
          "sample_id": "talB"
         },
         {
          "Branch": "EMP_PPP",
          "author": "iML1515",
          "error": null,
          "sample_id": "talB"
         },
         {
          "Branch": "EMP_PPP",
          "author": "ECC2",
          "error": -0.4681627935274659,
          "sample_id": "tktA"
         },
         {
          "Branch": "EMP_PPP",
          "author": "Exp_ECC2",
          "error": 0.14190153718278942,
          "sample_id": "tktA"
         },
         {
          "Branch": "EMP_PPP",
          "author": "Exp_iML1515",
          "error": 0.1654654382596352,
          "sample_id": "tktA"
         },
         {
          "Branch": "EMP_PPP",
          "author": "Khodayari",
          "error": 0.012527165063906859,
          "sample_id": "tktA"
         },
         {
          "Branch": "EMP_PPP",
          "author": "Kurata",
          "error": -0.5675597410419269,
          "sample_id": "tktA"
         },
         {
          "Branch": "EMP_PPP",
          "author": "Millard",
          "error": -0.0464867703417042,
          "sample_id": "tktA"
         },
         {
          "Branch": "EMP_PPP",
          "author": "iML1515",
          "error": 0.11076249549121711,
          "sample_id": "tktA"
         },
         {
          "Branch": "EMP_PPP",
          "author": "ECC2",
          "error": -0.565801263091382,
          "sample_id": "tktB"
         },
         {
          "Branch": "EMP_PPP",
          "author": "Exp_ECC2",
          "error": 0.04426306761887333,
          "sample_id": "tktB"
         },
         {
          "Branch": "EMP_PPP",
          "author": "Exp_iML1515",
          "error": 0.06782696869571911,
          "sample_id": "tktB"
         },
         {
          "Branch": "EMP_PPP",
          "author": "Khodayari",
          "error": -0.08511130450000923,
          "sample_id": "tktB"
         },
         {
          "Branch": "EMP_PPP",
          "author": "Kurata",
          "error": -0.6651982106058429,
          "sample_id": "tktB"
         },
         {
          "Branch": "EMP_PPP",
          "author": "Millard",
          "error": null,
          "sample_id": "tktB"
         },
         {
          "Branch": "EMP_PPP",
          "author": "iML1515",
          "error": 0.013124025927301025,
          "sample_id": "tktB"
         },
         {
          "Branch": "EMP_PPP",
          "author": "ECC2",
          "error": null,
          "sample_id": "tpi"
         },
         {
          "Branch": "EMP_PPP",
          "author": "Exp_ECC2",
          "error": null,
          "sample_id": "tpi"
         },
         {
          "Branch": "EMP_PPP",
          "author": "Exp_iML1515",
          "error": null,
          "sample_id": "tpi"
         },
         {
          "Branch": "EMP_PPP",
          "author": "Khodayari",
          "error": null,
          "sample_id": "tpi"
         },
         {
          "Branch": "EMP_PPP",
          "author": "Kurata",
          "error": null,
          "sample_id": "tpi"
         },
         {
          "Branch": "EMP_PPP",
          "author": "Millard",
          "error": null,
          "sample_id": "tpi"
         },
         {
          "Branch": "EMP_PPP",
          "author": "iML1515",
          "error": null,
          "sample_id": "tpi"
         },
         {
          "Branch": "EMP_PPP",
          "author": "ECC2",
          "error": 0,
          "sample_id": "zwf"
         },
         {
          "Branch": "EMP_PPP",
          "author": "Exp_ECC2",
          "error": 0,
          "sample_id": "zwf"
         },
         {
          "Branch": "EMP_PPP",
          "author": "Exp_iML1515",
          "error": 0,
          "sample_id": "zwf"
         },
         {
          "Branch": "EMP_PPP",
          "author": "Khodayari",
          "error": 0,
          "sample_id": "zwf"
         },
         {
          "Branch": "EMP_PPP",
          "author": "Kurata",
          "error": 0,
          "sample_id": "zwf"
         },
         {
          "Branch": "EMP_PPP",
          "author": "Millard",
          "error": 0,
          "sample_id": "zwf"
         },
         {
          "Branch": "EMP_PPP",
          "author": "iML1515",
          "error": 0,
          "sample_id": "zwf"
         },
         {
          "Branch": "PYK_PPC",
          "author": "ECC2",
          "error": null,
          "sample_id": "WT"
         },
         {
          "Branch": "PYK_PPC",
          "author": "Exp_ECC2",
          "error": -0.022128510275793073,
          "sample_id": "WT"
         },
         {
          "Branch": "PYK_PPC",
          "author": "Exp_iML1515",
          "error": -0.06760738896293791,
          "sample_id": "WT"
         },
         {
          "Branch": "PYK_PPC",
          "author": "Khodayari",
          "error": -0.22159102962890623,
          "sample_id": "WT"
         },
         {
          "Branch": "PYK_PPC",
          "author": "Kurata",
          "error": -1.733905387457239,
          "sample_id": "WT"
         },
         {
          "Branch": "PYK_PPC",
          "author": "Millard",
          "error": -0.1870625969874676,
          "sample_id": "WT"
         },
         {
          "Branch": "PYK_PPC",
          "author": "iML1515",
          "error": null,
          "sample_id": "WT"
         },
         {
          "Branch": "PYK_PPC",
          "author": "ECC2",
          "error": null,
          "sample_id": "fbaA"
         },
         {
          "Branch": "PYK_PPC",
          "author": "Exp_ECC2",
          "error": null,
          "sample_id": "fbaA"
         },
         {
          "Branch": "PYK_PPC",
          "author": "Exp_iML1515",
          "error": null,
          "sample_id": "fbaA"
         },
         {
          "Branch": "PYK_PPC",
          "author": "Khodayari",
          "error": null,
          "sample_id": "fbaA"
         },
         {
          "Branch": "PYK_PPC",
          "author": "Kurata",
          "error": null,
          "sample_id": "fbaA"
         },
         {
          "Branch": "PYK_PPC",
          "author": "Millard",
          "error": null,
          "sample_id": "fbaA"
         },
         {
          "Branch": "PYK_PPC",
          "author": "iML1515",
          "error": null,
          "sample_id": "fbaA"
         },
         {
          "Branch": "PYK_PPC",
          "author": "ECC2",
          "error": null,
          "sample_id": "fbaB"
         },
         {
          "Branch": "PYK_PPC",
          "author": "Exp_ECC2",
          "error": null,
          "sample_id": "fbaB"
         },
         {
          "Branch": "PYK_PPC",
          "author": "Exp_iML1515",
          "error": null,
          "sample_id": "fbaB"
         },
         {
          "Branch": "PYK_PPC",
          "author": "Khodayari",
          "error": -0.17661220352287837,
          "sample_id": "fbaB"
         },
         {
          "Branch": "PYK_PPC",
          "author": "Kurata",
          "error": -1.7690832817235276,
          "sample_id": "fbaB"
         },
         {
          "Branch": "PYK_PPC",
          "author": "Millard",
          "error": null,
          "sample_id": "fbaB"
         },
         {
          "Branch": "PYK_PPC",
          "author": "iML1515",
          "error": null,
          "sample_id": "fbaB"
         },
         {
          "Branch": "PYK_PPC",
          "author": "ECC2",
          "error": null,
          "sample_id": "fbp"
         },
         {
          "Branch": "PYK_PPC",
          "author": "Exp_ECC2",
          "error": -0.2405654784054485,
          "sample_id": "fbp"
         },
         {
          "Branch": "PYK_PPC",
          "author": "Exp_iML1515",
          "error": -0.36983140733908726,
          "sample_id": "fbp"
         },
         {
          "Branch": "PYK_PPC",
          "author": "Khodayari",
          "error": -0.43734253238164783,
          "sample_id": "fbp"
         },
         {
          "Branch": "PYK_PPC",
          "author": "Kurata",
          "error": -1.9524134207556705,
          "sample_id": "fbp"
         },
         {
          "Branch": "PYK_PPC",
          "author": "Millard",
          "error": -0.4055436687739048,
          "sample_id": "fbp"
         },
         {
          "Branch": "PYK_PPC",
          "author": "iML1515",
          "error": null,
          "sample_id": "fbp"
         },
         {
          "Branch": "PYK_PPC",
          "author": "ECC2",
          "error": null,
          "sample_id": "glk"
         },
         {
          "Branch": "PYK_PPC",
          "author": "Exp_ECC2",
          "error": null,
          "sample_id": "glk"
         },
         {
          "Branch": "PYK_PPC",
          "author": "Exp_iML1515",
          "error": null,
          "sample_id": "glk"
         },
         {
          "Branch": "PYK_PPC",
          "author": "Khodayari",
          "error": null,
          "sample_id": "glk"
         },
         {
          "Branch": "PYK_PPC",
          "author": "Kurata",
          "error": null,
          "sample_id": "glk"
         },
         {
          "Branch": "PYK_PPC",
          "author": "Millard",
          "error": null,
          "sample_id": "glk"
         },
         {
          "Branch": "PYK_PPC",
          "author": "iML1515",
          "error": null,
          "sample_id": "glk"
         },
         {
          "Branch": "PYK_PPC",
          "author": "ECC2",
          "error": null,
          "sample_id": "gnd"
         },
         {
          "Branch": "PYK_PPC",
          "author": "Exp_ECC2",
          "error": -0.21415459845893145,
          "sample_id": "gnd"
         },
         {
          "Branch": "PYK_PPC",
          "author": "Exp_iML1515",
          "error": -0.3103664071300239,
          "sample_id": "gnd"
         },
         {
          "Branch": "PYK_PPC",
          "author": "Khodayari",
          "error": null,
          "sample_id": "gnd"
         },
         {
          "Branch": "PYK_PPC",
          "author": "Kurata",
          "error": null,
          "sample_id": "gnd"
         },
         {
          "Branch": "PYK_PPC",
          "author": "Millard",
          "error": -0.46488074558291786,
          "sample_id": "gnd"
         },
         {
          "Branch": "PYK_PPC",
          "author": "iML1515",
          "error": null,
          "sample_id": "gnd"
         },
         {
          "Branch": "PYK_PPC",
          "author": "ECC2",
          "error": null,
          "sample_id": "gpmA"
         },
         {
          "Branch": "PYK_PPC",
          "author": "Exp_ECC2",
          "error": null,
          "sample_id": "gpmA"
         },
         {
          "Branch": "PYK_PPC",
          "author": "Exp_iML1515",
          "error": 0.186986654236481,
          "sample_id": "gpmA"
         },
         {
          "Branch": "PYK_PPC",
          "author": "Khodayari",
          "error": null,
          "sample_id": "gpmA"
         },
         {
          "Branch": "PYK_PPC",
          "author": "Kurata",
          "error": null,
          "sample_id": "gpmA"
         },
         {
          "Branch": "PYK_PPC",
          "author": "Millard",
          "error": null,
          "sample_id": "gpmA"
         },
         {
          "Branch": "PYK_PPC",
          "author": "iML1515",
          "error": null,
          "sample_id": "gpmA"
         },
         {
          "Branch": "PYK_PPC",
          "author": "ECC2",
          "error": null,
          "sample_id": "gpmB"
         },
         {
          "Branch": "PYK_PPC",
          "author": "Exp_ECC2",
          "error": null,
          "sample_id": "gpmB"
         },
         {
          "Branch": "PYK_PPC",
          "author": "Exp_iML1515",
          "error": null,
          "sample_id": "gpmB"
         },
         {
          "Branch": "PYK_PPC",
          "author": "Khodayari",
          "error": null,
          "sample_id": "gpmB"
         },
         {
          "Branch": "PYK_PPC",
          "author": "Kurata",
          "error": null,
          "sample_id": "gpmB"
         },
         {
          "Branch": "PYK_PPC",
          "author": "Millard",
          "error": null,
          "sample_id": "gpmB"
         },
         {
          "Branch": "PYK_PPC",
          "author": "iML1515",
          "error": null,
          "sample_id": "gpmB"
         },
         {
          "Branch": "PYK_PPC",
          "author": "ECC2",
          "error": null,
          "sample_id": "pfkA"
         },
         {
          "Branch": "PYK_PPC",
          "author": "Exp_ECC2",
          "error": null,
          "sample_id": "pfkA"
         },
         {
          "Branch": "PYK_PPC",
          "author": "Exp_iML1515",
          "error": -0.08798025519810104,
          "sample_id": "pfkA"
         },
         {
          "Branch": "PYK_PPC",
          "author": "Khodayari",
          "error": -0.04937028305041574,
          "sample_id": "pfkA"
         },
         {
          "Branch": "PYK_PPC",
          "author": "Kurata",
          "error": -1.2928400416359633,
          "sample_id": "pfkA"
         },
         {
          "Branch": "PYK_PPC",
          "author": "Millard",
          "error": null,
          "sample_id": "pfkA"
         },
         {
          "Branch": "PYK_PPC",
          "author": "iML1515",
          "error": null,
          "sample_id": "pfkA"
         },
         {
          "Branch": "PYK_PPC",
          "author": "ECC2",
          "error": null,
          "sample_id": "pfkB"
         },
         {
          "Branch": "PYK_PPC",
          "author": "Exp_ECC2",
          "error": null,
          "sample_id": "pfkB"
         },
         {
          "Branch": "PYK_PPC",
          "author": "Exp_iML1515",
          "error": -0.3872231500509579,
          "sample_id": "pfkB"
         },
         {
          "Branch": "PYK_PPC",
          "author": "Khodayari",
          "error": -0.3486131779032726,
          "sample_id": "pfkB"
         },
         {
          "Branch": "PYK_PPC",
          "author": "Kurata",
          "error": -1.5920829364888203,
          "sample_id": "pfkB"
         },
         {
          "Branch": "PYK_PPC",
          "author": "Millard",
          "error": null,
          "sample_id": "pfkB"
         },
         {
          "Branch": "PYK_PPC",
          "author": "iML1515",
          "error": null,
          "sample_id": "pfkB"
         },
         {
          "Branch": "PYK_PPC",
          "author": "ECC2",
          "error": null,
          "sample_id": "pgi"
         },
         {
          "Branch": "PYK_PPC",
          "author": "Exp_ECC2",
          "error": -0.46641963924800267,
          "sample_id": "pgi"
         },
         {
          "Branch": "PYK_PPC",
          "author": "Exp_iML1515",
          "error": -0.1464873929535127,
          "sample_id": "pgi"
         },
         {
          "Branch": "PYK_PPC",
          "author": "Khodayari",
          "error": 0.03438816528500521,
          "sample_id": "pgi"
         },
         {
          "Branch": "PYK_PPC",
          "author": "Kurata",
          "error": -1.8902983876484118,
          "sample_id": "pgi"
         },
         {
          "Branch": "PYK_PPC",
          "author": "Millard",
          "error": -0.11069375675352061,
          "sample_id": "pgi"
         },
         {
          "Branch": "PYK_PPC",
          "author": "iML1515",
          "error": -0.24807611471254312,
          "sample_id": "pgi"
         },
         {
          "Branch": "PYK_PPC",
          "author": "ECC2",
          "error": -0.41823929566221807,
          "sample_id": "pgl"
         },
         {
          "Branch": "PYK_PPC",
          "author": "Exp_ECC2",
          "error": -0.15102206389832512,
          "sample_id": "pgl"
         },
         {
          "Branch": "PYK_PPC",
          "author": "Exp_iML1515",
          "error": -0.18203332687211582,
          "sample_id": "pgl"
         },
         {
          "Branch": "PYK_PPC",
          "author": "Khodayari",
          "error": -0.24509018411779304,
          "sample_id": "pgl"
         },
         {
          "Branch": "PYK_PPC",
          "author": "Kurata",
          "error": null,
          "sample_id": "pgl"
         },
         {
          "Branch": "PYK_PPC",
          "author": "Millard",
          "error": -0.49687759933864173,
          "sample_id": "pgl"
         },
         {
          "Branch": "PYK_PPC",
          "author": "iML1515",
          "error": -0.5619669982933819,
          "sample_id": "pgl"
         },
         {
          "Branch": "PYK_PPC",
          "author": "ECC2",
          "error": null,
          "sample_id": "pgm"
         },
         {
          "Branch": "PYK_PPC",
          "author": "Exp_ECC2",
          "error": null,
          "sample_id": "pgm"
         },
         {
          "Branch": "PYK_PPC",
          "author": "Exp_iML1515",
          "error": null,
          "sample_id": "pgm"
         },
         {
          "Branch": "PYK_PPC",
          "author": "Khodayari",
          "error": null,
          "sample_id": "pgm"
         },
         {
          "Branch": "PYK_PPC",
          "author": "Kurata",
          "error": null,
          "sample_id": "pgm"
         },
         {
          "Branch": "PYK_PPC",
          "author": "Millard",
          "error": null,
          "sample_id": "pgm"
         },
         {
          "Branch": "PYK_PPC",
          "author": "iML1515",
          "error": null,
          "sample_id": "pgm"
         },
         {
          "Branch": "PYK_PPC",
          "author": "ECC2",
          "error": null,
          "sample_id": "ppc"
         },
         {
          "Branch": "PYK_PPC",
          "author": "Exp_ECC2",
          "error": null,
          "sample_id": "ppc"
         },
         {
          "Branch": "PYK_PPC",
          "author": "Exp_iML1515",
          "error": null,
          "sample_id": "ppc"
         },
         {
          "Branch": "PYK_PPC",
          "author": "Khodayari",
          "error": null,
          "sample_id": "ppc"
         },
         {
          "Branch": "PYK_PPC",
          "author": "Kurata",
          "error": null,
          "sample_id": "ppc"
         },
         {
          "Branch": "PYK_PPC",
          "author": "Millard",
          "error": null,
          "sample_id": "ppc"
         },
         {
          "Branch": "PYK_PPC",
          "author": "iML1515",
          "error": null,
          "sample_id": "ppc"
         },
         {
          "Branch": "PYK_PPC",
          "author": "ECC2",
          "error": null,
          "sample_id": "ppsA"
         },
         {
          "Branch": "PYK_PPC",
          "author": "Exp_ECC2",
          "error": 0.21204640812841624,
          "sample_id": "ppsA"
         },
         {
          "Branch": "PYK_PPC",
          "author": "Exp_iML1515",
          "error": 0.0827804791947791,
          "sample_id": "ppsA"
         },
         {
          "Branch": "PYK_PPC",
          "author": "Khodayari",
          "error": 0.04183693151189305,
          "sample_id": "ppsA"
         },
         {
          "Branch": "PYK_PPC",
          "author": "Kurata",
          "error": -2.025619122636393,
          "sample_id": "ppsA"
         },
         {
          "Branch": "PYK_PPC",
          "author": "Millard",
          "error": 0.04706466233052237,
          "sample_id": "ppsA"
         },
         {
          "Branch": "PYK_PPC",
          "author": "iML1515",
          "error": null,
          "sample_id": "ppsA"
         },
         {
          "Branch": "PYK_PPC",
          "author": "ECC2",
          "error": null,
          "sample_id": "pts"
         },
         {
          "Branch": "PYK_PPC",
          "author": "Exp_ECC2",
          "error": null,
          "sample_id": "pts"
         },
         {
          "Branch": "PYK_PPC",
          "author": "Exp_iML1515",
          "error": null,
          "sample_id": "pts"
         },
         {
          "Branch": "PYK_PPC",
          "author": "Khodayari",
          "error": null,
          "sample_id": "pts"
         },
         {
          "Branch": "PYK_PPC",
          "author": "Kurata",
          "error": null,
          "sample_id": "pts"
         },
         {
          "Branch": "PYK_PPC",
          "author": "Millard",
          "error": null,
          "sample_id": "pts"
         },
         {
          "Branch": "PYK_PPC",
          "author": "iML1515",
          "error": null,
          "sample_id": "pts"
         },
         {
          "Branch": "PYK_PPC",
          "author": "ECC2",
          "error": null,
          "sample_id": "pykA"
         },
         {
          "Branch": "PYK_PPC",
          "author": "Exp_ECC2",
          "error": null,
          "sample_id": "pykA"
         },
         {
          "Branch": "PYK_PPC",
          "author": "Exp_iML1515",
          "error": null,
          "sample_id": "pykA"
         },
         {
          "Branch": "PYK_PPC",
          "author": "Khodayari",
          "error": -0.3838690701458353,
          "sample_id": "pykA"
         },
         {
          "Branch": "PYK_PPC",
          "author": "Kurata",
          "error": -2.52247727687676,
          "sample_id": "pykA"
         },
         {
          "Branch": "PYK_PPC",
          "author": "Millard",
          "error": null,
          "sample_id": "pykA"
         },
         {
          "Branch": "PYK_PPC",
          "author": "iML1515",
          "error": null,
          "sample_id": "pykA"
         },
         {
          "Branch": "PYK_PPC",
          "author": "ECC2",
          "error": null,
          "sample_id": "pykF"
         },
         {
          "Branch": "PYK_PPC",
          "author": "Exp_ECC2",
          "error": null,
          "sample_id": "pykF"
         },
         {
          "Branch": "PYK_PPC",
          "author": "Exp_iML1515",
          "error": null,
          "sample_id": "pykF"
         },
         {
          "Branch": "PYK_PPC",
          "author": "Khodayari",
          "error": -0.6445213844294464,
          "sample_id": "pykF"
         },
         {
          "Branch": "PYK_PPC",
          "author": "Kurata",
          "error": -2.6160033348875835,
          "sample_id": "pykF"
         },
         {
          "Branch": "PYK_PPC",
          "author": "Millard",
          "error": null,
          "sample_id": "pykF"
         },
         {
          "Branch": "PYK_PPC",
          "author": "iML1515",
          "error": null,
          "sample_id": "pykF"
         },
         {
          "Branch": "PYK_PPC",
          "author": "ECC2",
          "error": null,
          "sample_id": "rpe"
         },
         {
          "Branch": "PYK_PPC",
          "author": "Exp_ECC2",
          "error": -0.25795722111731845,
          "sample_id": "rpe"
         },
         {
          "Branch": "PYK_PPC",
          "author": "Exp_iML1515",
          "error": -0.3546415468498225,
          "sample_id": "rpe"
         },
         {
          "Branch": "PYK_PPC",
          "author": "Khodayari",
          "error": -0.3744704574663196,
          "sample_id": "rpe"
         },
         {
          "Branch": "PYK_PPC",
          "author": "Kurata",
          "error": null,
          "sample_id": "rpe"
         },
         {
          "Branch": "PYK_PPC",
          "author": "Millard",
          "error": -0.3758875278449804,
          "sample_id": "rpe"
         },
         {
          "Branch": "PYK_PPC",
          "author": "iML1515",
          "error": null,
          "sample_id": "rpe"
         },
         {
          "Branch": "PYK_PPC",
          "author": "ECC2",
          "error": null,
          "sample_id": "rpiA"
         },
         {
          "Branch": "PYK_PPC",
          "author": "Exp_ECC2",
          "error": null,
          "sample_id": "rpiA"
         },
         {
          "Branch": "PYK_PPC",
          "author": "Exp_iML1515",
          "error": -0.4328474876679324,
          "sample_id": "rpiA"
         },
         {
          "Branch": "PYK_PPC",
          "author": "Khodayari",
          "error": null,
          "sample_id": "rpiA"
         },
         {
          "Branch": "PYK_PPC",
          "author": "Kurata",
          "error": -1.972071035298366,
          "sample_id": "rpiA"
         },
         {
          "Branch": "PYK_PPC",
          "author": "Millard",
          "error": -1.5420983487635505,
          "sample_id": "rpiA"
         },
         {
          "Branch": "PYK_PPC",
          "author": "iML1515",
          "error": null,
          "sample_id": "rpiA"
         },
         {
          "Branch": "PYK_PPC",
          "author": "ECC2",
          "error": null,
          "sample_id": "rpiB"
         },
         {
          "Branch": "PYK_PPC",
          "author": "Exp_ECC2",
          "error": null,
          "sample_id": "rpiB"
         },
         {
          "Branch": "PYK_PPC",
          "author": "Exp_iML1515",
          "error": -0.3065537623436403,
          "sample_id": "rpiB"
         },
         {
          "Branch": "PYK_PPC",
          "author": "Khodayari",
          "error": null,
          "sample_id": "rpiB"
         },
         {
          "Branch": "PYK_PPC",
          "author": "Kurata",
          "error": -1.8457773099740737,
          "sample_id": "rpiB"
         },
         {
          "Branch": "PYK_PPC",
          "author": "Millard",
          "error": -1.4158046234392583,
          "sample_id": "rpiB"
         },
         {
          "Branch": "PYK_PPC",
          "author": "iML1515",
          "error": null,
          "sample_id": "rpiB"
         },
         {
          "Branch": "PYK_PPC",
          "author": "ECC2",
          "error": null,
          "sample_id": "sdhCD"
         },
         {
          "Branch": "PYK_PPC",
          "author": "Exp_ECC2",
          "error": null,
          "sample_id": "sdhCD"
         },
         {
          "Branch": "PYK_PPC",
          "author": "Exp_iML1515",
          "error": null,
          "sample_id": "sdhCD"
         },
         {
          "Branch": "PYK_PPC",
          "author": "Khodayari",
          "error": null,
          "sample_id": "sdhCD"
         },
         {
          "Branch": "PYK_PPC",
          "author": "Kurata",
          "error": null,
          "sample_id": "sdhCD"
         },
         {
          "Branch": "PYK_PPC",
          "author": "Millard",
          "error": null,
          "sample_id": "sdhCD"
         },
         {
          "Branch": "PYK_PPC",
          "author": "iML1515",
          "error": null,
          "sample_id": "sdhCD"
         },
         {
          "Branch": "PYK_PPC",
          "author": "ECC2",
          "error": null,
          "sample_id": "sucA"
         },
         {
          "Branch": "PYK_PPC",
          "author": "Exp_ECC2",
          "error": null,
          "sample_id": "sucA"
         },
         {
          "Branch": "PYK_PPC",
          "author": "Exp_iML1515",
          "error": null,
          "sample_id": "sucA"
         },
         {
          "Branch": "PYK_PPC",
          "author": "Khodayari",
          "error": null,
          "sample_id": "sucA"
         },
         {
          "Branch": "PYK_PPC",
          "author": "Kurata",
          "error": null,
          "sample_id": "sucA"
         },
         {
          "Branch": "PYK_PPC",
          "author": "Millard",
          "error": null,
          "sample_id": "sucA"
         },
         {
          "Branch": "PYK_PPC",
          "author": "iML1515",
          "error": null,
          "sample_id": "sucA"
         },
         {
          "Branch": "PYK_PPC",
          "author": "ECC2",
          "error": null,
          "sample_id": "sucAB"
         },
         {
          "Branch": "PYK_PPC",
          "author": "Exp_ECC2",
          "error": null,
          "sample_id": "sucAB"
         },
         {
          "Branch": "PYK_PPC",
          "author": "Exp_iML1515",
          "error": null,
          "sample_id": "sucAB"
         },
         {
          "Branch": "PYK_PPC",
          "author": "Khodayari",
          "error": null,
          "sample_id": "sucAB"
         },
         {
          "Branch": "PYK_PPC",
          "author": "Kurata",
          "error": null,
          "sample_id": "sucAB"
         },
         {
          "Branch": "PYK_PPC",
          "author": "Millard",
          "error": null,
          "sample_id": "sucAB"
         },
         {
          "Branch": "PYK_PPC",
          "author": "iML1515",
          "error": null,
          "sample_id": "sucAB"
         },
         {
          "Branch": "PYK_PPC",
          "author": "ECC2",
          "error": null,
          "sample_id": "talA"
         },
         {
          "Branch": "PYK_PPC",
          "author": "Exp_ECC2",
          "error": 0.15601857665875501,
          "sample_id": "talA"
         },
         {
          "Branch": "PYK_PPC",
          "author": "Exp_iML1515",
          "error": 0.026752647725122924,
          "sample_id": "talA"
         },
         {
          "Branch": "PYK_PPC",
          "author": "Khodayari",
          "error": 0.03731345604289277,
          "sample_id": "talA"
         },
         {
          "Branch": "PYK_PPC",
          "author": "Kurata",
          "error": -1.5527914899303488,
          "sample_id": "talA"
         },
         {
          "Branch": "PYK_PPC",
          "author": "Millard",
          "error": null,
          "sample_id": "talA"
         },
         {
          "Branch": "PYK_PPC",
          "author": "iML1515",
          "error": null,
          "sample_id": "talA"
         },
         {
          "Branch": "PYK_PPC",
          "author": "ECC2",
          "error": null,
          "sample_id": "talAB"
         },
         {
          "Branch": "PYK_PPC",
          "author": "Exp_ECC2",
          "error": null,
          "sample_id": "talAB"
         },
         {
          "Branch": "PYK_PPC",
          "author": "Exp_iML1515",
          "error": null,
          "sample_id": "talAB"
         },
         {
          "Branch": "PYK_PPC",
          "author": "Khodayari",
          "error": null,
          "sample_id": "talAB"
         },
         {
          "Branch": "PYK_PPC",
          "author": "Kurata",
          "error": null,
          "sample_id": "talAB"
         },
         {
          "Branch": "PYK_PPC",
          "author": "Millard",
          "error": null,
          "sample_id": "talAB"
         },
         {
          "Branch": "PYK_PPC",
          "author": "iML1515",
          "error": null,
          "sample_id": "talAB"
         },
         {
          "Branch": "PYK_PPC",
          "author": "ECC2",
          "error": null,
          "sample_id": "talB"
         },
         {
          "Branch": "PYK_PPC",
          "author": "Exp_ECC2",
          "error": null,
          "sample_id": "talB"
         },
         {
          "Branch": "PYK_PPC",
          "author": "Exp_iML1515",
          "error": null,
          "sample_id": "talB"
         },
         {
          "Branch": "PYK_PPC",
          "author": "Khodayari",
          "error": null,
          "sample_id": "talB"
         },
         {
          "Branch": "PYK_PPC",
          "author": "Kurata",
          "error": -1.5694654902374183,
          "sample_id": "talB"
         },
         {
          "Branch": "PYK_PPC",
          "author": "Millard",
          "error": null,
          "sample_id": "talB"
         },
         {
          "Branch": "PYK_PPC",
          "author": "iML1515",
          "error": null,
          "sample_id": "talB"
         },
         {
          "Branch": "PYK_PPC",
          "author": "ECC2",
          "error": null,
          "sample_id": "tktA"
         },
         {
          "Branch": "PYK_PPC",
          "author": "Exp_ECC2",
          "error": -0.002023846980117372,
          "sample_id": "tktA"
         },
         {
          "Branch": "PYK_PPC",
          "author": "Exp_iML1515",
          "error": -0.0865994952765472,
          "sample_id": "tktA"
         },
         {
          "Branch": "PYK_PPC",
          "author": "Khodayari",
          "error": -0.11922498609243298,
          "sample_id": "tktA"
         },
         {
          "Branch": "PYK_PPC",
          "author": "Kurata",
          "error": -1.6738491928752959,
          "sample_id": "tktA"
         },
         {
          "Branch": "PYK_PPC",
          "author": "Millard",
          "error": -0.47115993469120576,
          "sample_id": "tktA"
         },
         {
          "Branch": "PYK_PPC",
          "author": "iML1515",
          "error": null,
          "sample_id": "tktA"
         },
         {
          "Branch": "PYK_PPC",
          "author": "ECC2",
          "error": null,
          "sample_id": "tktB"
         },
         {
          "Branch": "PYK_PPC",
          "author": "Exp_ECC2",
          "error": 0.16403718894205704,
          "sample_id": "tktB"
         },
         {
          "Branch": "PYK_PPC",
          "author": "Exp_iML1515",
          "error": 0.07946154064562722,
          "sample_id": "tktB"
         },
         {
          "Branch": "PYK_PPC",
          "author": "Khodayari",
          "error": 0.04683604982974143,
          "sample_id": "tktB"
         },
         {
          "Branch": "PYK_PPC",
          "author": "Kurata",
          "error": -1.5077881569531213,
          "sample_id": "tktB"
         },
         {
          "Branch": "PYK_PPC",
          "author": "Millard",
          "error": null,
          "sample_id": "tktB"
         },
         {
          "Branch": "PYK_PPC",
          "author": "iML1515",
          "error": null,
          "sample_id": "tktB"
         },
         {
          "Branch": "PYK_PPC",
          "author": "ECC2",
          "error": null,
          "sample_id": "tpi"
         },
         {
          "Branch": "PYK_PPC",
          "author": "Exp_ECC2",
          "error": null,
          "sample_id": "tpi"
         },
         {
          "Branch": "PYK_PPC",
          "author": "Exp_iML1515",
          "error": null,
          "sample_id": "tpi"
         },
         {
          "Branch": "PYK_PPC",
          "author": "Khodayari",
          "error": null,
          "sample_id": "tpi"
         },
         {
          "Branch": "PYK_PPC",
          "author": "Kurata",
          "error": null,
          "sample_id": "tpi"
         },
         {
          "Branch": "PYK_PPC",
          "author": "Millard",
          "error": null,
          "sample_id": "tpi"
         },
         {
          "Branch": "PYK_PPC",
          "author": "iML1515",
          "error": null,
          "sample_id": "tpi"
         },
         {
          "Branch": "PYK_PPC",
          "author": "ECC2",
          "error": -0.5468566734843117,
          "sample_id": "zwf"
         },
         {
          "Branch": "PYK_PPC",
          "author": "Exp_ECC2",
          "error": -0.2796394417204187,
          "sample_id": "zwf"
         },
         {
          "Branch": "PYK_PPC",
          "author": "Exp_iML1515",
          "error": -0.31065070469421924,
          "sample_id": "zwf"
         },
         {
          "Branch": "PYK_PPC",
          "author": "Khodayari",
          "error": null,
          "sample_id": "zwf"
         },
         {
          "Branch": "PYK_PPC",
          "author": "Kurata",
          "error": -2.3433474382449435,
          "sample_id": "zwf"
         },
         {
          "Branch": "PYK_PPC",
          "author": "Millard",
          "error": -0.42436559095217535,
          "sample_id": "zwf"
         },
         {
          "Branch": "PYK_PPC",
          "author": "iML1515",
          "error": -0.6905843761153773,
          "sample_id": "zwf"
         },
         {
          "Branch": "TCA_ACE",
          "author": "ECC2",
          "error": -2.1217613136944324,
          "sample_id": "WT"
         },
         {
          "Branch": "TCA_ACE",
          "author": "Exp_ECC2",
          "error": 0.04412415581371183,
          "sample_id": "WT"
         },
         {
          "Branch": "TCA_ACE",
          "author": "Exp_iML1515",
          "error": 0.04412415581371183,
          "sample_id": "WT"
         },
         {
          "Branch": "TCA_ACE",
          "author": "Khodayari",
          "error": 0,
          "sample_id": "WT"
         },
         {
          "Branch": "TCA_ACE",
          "author": "Kurata",
          "error": -0.058531914696781595,
          "sample_id": "WT"
         },
         {
          "Branch": "TCA_ACE",
          "author": "Millard",
          "error": -0.08371300660206911,
          "sample_id": "WT"
         },
         {
          "Branch": "TCA_ACE",
          "author": "iML1515",
          "error": -0.9166450166506054,
          "sample_id": "WT"
         },
         {
          "Branch": "TCA_ACE",
          "author": "ECC2",
          "error": null,
          "sample_id": "fbaA"
         },
         {
          "Branch": "TCA_ACE",
          "author": "Exp_ECC2",
          "error": null,
          "sample_id": "fbaA"
         },
         {
          "Branch": "TCA_ACE",
          "author": "Exp_iML1515",
          "error": null,
          "sample_id": "fbaA"
         },
         {
          "Branch": "TCA_ACE",
          "author": "Khodayari",
          "error": null,
          "sample_id": "fbaA"
         },
         {
          "Branch": "TCA_ACE",
          "author": "Kurata",
          "error": null,
          "sample_id": "fbaA"
         },
         {
          "Branch": "TCA_ACE",
          "author": "Millard",
          "error": null,
          "sample_id": "fbaA"
         },
         {
          "Branch": "TCA_ACE",
          "author": "iML1515",
          "error": null,
          "sample_id": "fbaA"
         },
         {
          "Branch": "TCA_ACE",
          "author": "ECC2",
          "error": -1.6659330416125606,
          "sample_id": "fbaB"
         },
         {
          "Branch": "TCA_ACE",
          "author": "Exp_ECC2",
          "error": -0.026643945970774376,
          "sample_id": "fbaB"
         },
         {
          "Branch": "TCA_ACE",
          "author": "Exp_iML1515",
          "error": 0.04412415581371247,
          "sample_id": "fbaB"
         },
         {
          "Branch": "TCA_ACE",
          "author": "Khodayari",
          "error": 0,
          "sample_id": "fbaB"
         },
         {
          "Branch": "TCA_ACE",
          "author": "Kurata",
          "error": -0.058589578680471856,
          "sample_id": "fbaB"
         },
         {
          "Branch": "TCA_ACE",
          "author": "Millard",
          "error": null,
          "sample_id": "fbaB"
         },
         {
          "Branch": "TCA_ACE",
          "author": "iML1515",
          "error": -0.9166450166506049,
          "sample_id": "fbaB"
         },
         {
          "Branch": "TCA_ACE",
          "author": "ECC2",
          "error": -2.12176131369443,
          "sample_id": "fbp"
         },
         {
          "Branch": "TCA_ACE",
          "author": "Exp_ECC2",
          "error": 0.04412415581371162,
          "sample_id": "fbp"
         },
         {
          "Branch": "TCA_ACE",
          "author": "Exp_iML1515",
          "error": 0.04412415581371204,
          "sample_id": "fbp"
         },
         {
          "Branch": "TCA_ACE",
          "author": "Khodayari",
          "error": 0,
          "sample_id": "fbp"
         },
         {
          "Branch": "TCA_ACE",
          "author": "Kurata",
          "error": -0.05852593100674028,
          "sample_id": "fbp"
         },
         {
          "Branch": "TCA_ACE",
          "author": "Millard",
          "error": -0.08370685949377132,
          "sample_id": "fbp"
         },
         {
          "Branch": "TCA_ACE",
          "author": "iML1515",
          "error": -0.9166450166506047,
          "sample_id": "fbp"
         },
         {
          "Branch": "TCA_ACE",
          "author": "ECC2",
          "error": null,
          "sample_id": "glk"
         },
         {
          "Branch": "TCA_ACE",
          "author": "Exp_ECC2",
          "error": null,
          "sample_id": "glk"
         },
         {
          "Branch": "TCA_ACE",
          "author": "Exp_iML1515",
          "error": null,
          "sample_id": "glk"
         },
         {
          "Branch": "TCA_ACE",
          "author": "Khodayari",
          "error": null,
          "sample_id": "glk"
         },
         {
          "Branch": "TCA_ACE",
          "author": "Kurata",
          "error": null,
          "sample_id": "glk"
         },
         {
          "Branch": "TCA_ACE",
          "author": "Millard",
          "error": null,
          "sample_id": "glk"
         },
         {
          "Branch": "TCA_ACE",
          "author": "iML1515",
          "error": null,
          "sample_id": "glk"
         },
         {
          "Branch": "TCA_ACE",
          "author": "ECC2",
          "error": -1.5027779448120113,
          "sample_id": "gnd"
         },
         {
          "Branch": "TCA_ACE",
          "author": "Exp_ECC2",
          "error": 0.04191904227141513,
          "sample_id": "gnd"
         },
         {
          "Branch": "TCA_ACE",
          "author": "Exp_iML1515",
          "error": 0.04290468551146155,
          "sample_id": "gnd"
         },
         {
          "Branch": "TCA_ACE",
          "author": "Khodayari",
          "error": 0.002021873705276044,
          "sample_id": "gnd"
         },
         {
          "Branch": "TCA_ACE",
          "author": "Kurata",
          "error": null,
          "sample_id": "gnd"
         },
         {
          "Branch": "TCA_ACE",
          "author": "Millard",
          "error": -0.08409972442525306,
          "sample_id": "gnd"
         },
         {
          "Branch": "TCA_ACE",
          "author": "iML1515",
          "error": -0.7868431570075485,
          "sample_id": "gnd"
         },
         {
          "Branch": "TCA_ACE",
          "author": "ECC2",
          "error": -1.0554965118905166,
          "sample_id": "gpmA"
         },
         {
          "Branch": "TCA_ACE",
          "author": "Exp_ECC2",
          "error": 0.04135287558215883,
          "sample_id": "gpmA"
         },
         {
          "Branch": "TCA_ACE",
          "author": "Exp_iML1515",
          "error": -0.062227711573121174,
          "sample_id": "gpmA"
         },
         {
          "Branch": "TCA_ACE",
          "author": "Khodayari",
          "error": null,
          "sample_id": "gpmA"
         },
         {
          "Branch": "TCA_ACE",
          "author": "Kurata",
          "error": null,
          "sample_id": "gpmA"
         },
         {
          "Branch": "TCA_ACE",
          "author": "Millard",
          "error": null,
          "sample_id": "gpmA"
         },
         {
          "Branch": "TCA_ACE",
          "author": "iML1515",
          "error": -0.7271397968800939,
          "sample_id": "gpmA"
         },
         {
          "Branch": "TCA_ACE",
          "author": "ECC2",
          "error": null,
          "sample_id": "gpmB"
         },
         {
          "Branch": "TCA_ACE",
          "author": "Exp_ECC2",
          "error": null,
          "sample_id": "gpmB"
         },
         {
          "Branch": "TCA_ACE",
          "author": "Exp_iML1515",
          "error": null,
          "sample_id": "gpmB"
         },
         {
          "Branch": "TCA_ACE",
          "author": "Khodayari",
          "error": null,
          "sample_id": "gpmB"
         },
         {
          "Branch": "TCA_ACE",
          "author": "Kurata",
          "error": null,
          "sample_id": "gpmB"
         },
         {
          "Branch": "TCA_ACE",
          "author": "Millard",
          "error": null,
          "sample_id": "gpmB"
         },
         {
          "Branch": "TCA_ACE",
          "author": "iML1515",
          "error": null,
          "sample_id": "gpmB"
         },
         {
          "Branch": "TCA_ACE",
          "author": "ECC2",
          "error": -1.6659330416125606,
          "sample_id": "pfkA"
         },
         {
          "Branch": "TCA_ACE",
          "author": "Exp_ECC2",
          "error": -0.02664394597077506,
          "sample_id": "pfkA"
         },
         {
          "Branch": "TCA_ACE",
          "author": "Exp_iML1515",
          "error": 0.04412415581371204,
          "sample_id": "pfkA"
         },
         {
          "Branch": "TCA_ACE",
          "author": "Khodayari",
          "error": 0,
          "sample_id": "pfkA"
         },
         {
          "Branch": "TCA_ACE",
          "author": "Kurata",
          "error": -0.033634946725099896,
          "sample_id": "pfkA"
         },
         {
          "Branch": "TCA_ACE",
          "author": "Millard",
          "error": null,
          "sample_id": "pfkA"
         },
         {
          "Branch": "TCA_ACE",
          "author": "iML1515",
          "error": -0.9166450166505964,
          "sample_id": "pfkA"
         },
         {
          "Branch": "TCA_ACE",
          "author": "ECC2",
          "error": -1.6659330416125606,
          "sample_id": "pfkB"
         },
         {
          "Branch": "TCA_ACE",
          "author": "Exp_ECC2",
          "error": -0.02664394597077506,
          "sample_id": "pfkB"
         },
         {
          "Branch": "TCA_ACE",
          "author": "Exp_iML1515",
          "error": 0.04412415581371204,
          "sample_id": "pfkB"
         },
         {
          "Branch": "TCA_ACE",
          "author": "Khodayari",
          "error": 0,
          "sample_id": "pfkB"
         },
         {
          "Branch": "TCA_ACE",
          "author": "Kurata",
          "error": -0.033634946725099896,
          "sample_id": "pfkB"
         },
         {
          "Branch": "TCA_ACE",
          "author": "Millard",
          "error": null,
          "sample_id": "pfkB"
         },
         {
          "Branch": "TCA_ACE",
          "author": "iML1515",
          "error": -0.9166450166505964,
          "sample_id": "pfkB"
         },
         {
          "Branch": "TCA_ACE",
          "author": "ECC2",
          "error": -2.1217613136944333,
          "sample_id": "pgi"
         },
         {
          "Branch": "TCA_ACE",
          "author": "Exp_ECC2",
          "error": 0.06736816868802818,
          "sample_id": "pgi"
         },
         {
          "Branch": "TCA_ACE",
          "author": "Exp_iML1515",
          "error": 0.044124155813711194,
          "sample_id": "pgi"
         },
         {
          "Branch": "TCA_ACE",
          "author": "Khodayari",
          "error": 0.004198468725462473,
          "sample_id": "pgi"
         },
         {
          "Branch": "TCA_ACE",
          "author": "Kurata",
          "error": -2.041321543121185,
          "sample_id": "pgi"
         },
         {
          "Branch": "TCA_ACE",
          "author": "Millard",
          "error": -0.09155924217194122,
          "sample_id": "pgi"
         },
         {
          "Branch": "TCA_ACE",
          "author": "iML1515",
          "error": -0.9166450166505975,
          "sample_id": "pgi"
         },
         {
          "Branch": "TCA_ACE",
          "author": "ECC2",
          "error": -1.5584662376295955,
          "sample_id": "pgl"
         },
         {
          "Branch": "TCA_ACE",
          "author": "Exp_ECC2",
          "error": 0.0419423740981781,
          "sample_id": "pgl"
         },
         {
          "Branch": "TCA_ACE",
          "author": "Exp_iML1515",
          "error": 0.044124155813727556,
          "sample_id": "pgl"
         },
         {
          "Branch": "TCA_ACE",
          "author": "Khodayari",
          "error": 0,
          "sample_id": "pgl"
         },
         {
          "Branch": "TCA_ACE",
          "author": "Kurata",
          "error": null,
          "sample_id": "pgl"
         },
         {
          "Branch": "TCA_ACE",
          "author": "Millard",
          "error": -0.09256416598886386,
          "sample_id": "pgl"
         },
         {
          "Branch": "TCA_ACE",
          "author": "iML1515",
          "error": -0.8762210996466552,
          "sample_id": "pgl"
         },
         {
          "Branch": "TCA_ACE",
          "author": "ECC2",
          "error": null,
          "sample_id": "pgm"
         },
         {
          "Branch": "TCA_ACE",
          "author": "Exp_ECC2",
          "error": null,
          "sample_id": "pgm"
         },
         {
          "Branch": "TCA_ACE",
          "author": "Exp_iML1515",
          "error": null,
          "sample_id": "pgm"
         },
         {
          "Branch": "TCA_ACE",
          "author": "Khodayari",
          "error": null,
          "sample_id": "pgm"
         },
         {
          "Branch": "TCA_ACE",
          "author": "Kurata",
          "error": null,
          "sample_id": "pgm"
         },
         {
          "Branch": "TCA_ACE",
          "author": "Millard",
          "error": null,
          "sample_id": "pgm"
         },
         {
          "Branch": "TCA_ACE",
          "author": "iML1515",
          "error": null,
          "sample_id": "pgm"
         },
         {
          "Branch": "TCA_ACE",
          "author": "ECC2",
          "error": null,
          "sample_id": "ppc"
         },
         {
          "Branch": "TCA_ACE",
          "author": "Exp_ECC2",
          "error": null,
          "sample_id": "ppc"
         },
         {
          "Branch": "TCA_ACE",
          "author": "Exp_iML1515",
          "error": null,
          "sample_id": "ppc"
         },
         {
          "Branch": "TCA_ACE",
          "author": "Khodayari",
          "error": null,
          "sample_id": "ppc"
         },
         {
          "Branch": "TCA_ACE",
          "author": "Kurata",
          "error": null,
          "sample_id": "ppc"
         },
         {
          "Branch": "TCA_ACE",
          "author": "Millard",
          "error": null,
          "sample_id": "ppc"
         },
         {
          "Branch": "TCA_ACE",
          "author": "iML1515",
          "error": null,
          "sample_id": "ppc"
         },
         {
          "Branch": "TCA_ACE",
          "author": "ECC2",
          "error": -2.121761313694431,
          "sample_id": "ppsA"
         },
         {
          "Branch": "TCA_ACE",
          "author": "Exp_ECC2",
          "error": 0.04412415581371162,
          "sample_id": "ppsA"
         },
         {
          "Branch": "TCA_ACE",
          "author": "Exp_iML1515",
          "error": 0.04412415581371204,
          "sample_id": "ppsA"
         },
         {
          "Branch": "TCA_ACE",
          "author": "Khodayari",
          "error": 0,
          "sample_id": "ppsA"
         },
         {
          "Branch": "TCA_ACE",
          "author": "Kurata",
          "error": -0.7571382553006986,
          "sample_id": "ppsA"
         },
         {
          "Branch": "TCA_ACE",
          "author": "Millard",
          "error": -0.08371251678924843,
          "sample_id": "ppsA"
         },
         {
          "Branch": "TCA_ACE",
          "author": "iML1515",
          "error": -0.9166450166506092,
          "sample_id": "ppsA"
         },
         {
          "Branch": "TCA_ACE",
          "author": "ECC2",
          "error": null,
          "sample_id": "pts"
         },
         {
          "Branch": "TCA_ACE",
          "author": "Exp_ECC2",
          "error": null,
          "sample_id": "pts"
         },
         {
          "Branch": "TCA_ACE",
          "author": "Exp_iML1515",
          "error": null,
          "sample_id": "pts"
         },
         {
          "Branch": "TCA_ACE",
          "author": "Khodayari",
          "error": null,
          "sample_id": "pts"
         },
         {
          "Branch": "TCA_ACE",
          "author": "Kurata",
          "error": null,
          "sample_id": "pts"
         },
         {
          "Branch": "TCA_ACE",
          "author": "Millard",
          "error": null,
          "sample_id": "pts"
         },
         {
          "Branch": "TCA_ACE",
          "author": "iML1515",
          "error": null,
          "sample_id": "pts"
         },
         {
          "Branch": "TCA_ACE",
          "author": "ECC2",
          "error": -2.12176131369443,
          "sample_id": "pykA"
         },
         {
          "Branch": "TCA_ACE",
          "author": "Exp_ECC2",
          "error": 0.015942679639364698,
          "sample_id": "pykA"
         },
         {
          "Branch": "TCA_ACE",
          "author": "Exp_iML1515",
          "error": 0.04412415581371183,
          "sample_id": "pykA"
         },
         {
          "Branch": "TCA_ACE",
          "author": "Khodayari",
          "error": 0,
          "sample_id": "pykA"
         },
         {
          "Branch": "TCA_ACE",
          "author": "Kurata",
          "error": -0.05722050717726546,
          "sample_id": "pykA"
         },
         {
          "Branch": "TCA_ACE",
          "author": "Millard",
          "error": -0.09115346481814657,
          "sample_id": "pykA"
         },
         {
          "Branch": "TCA_ACE",
          "author": "iML1515",
          "error": -0.9166450166506054,
          "sample_id": "pykA"
         },
         {
          "Branch": "TCA_ACE",
          "author": "ECC2",
          "error": -2.12176131369443,
          "sample_id": "pykF"
         },
         {
          "Branch": "TCA_ACE",
          "author": "Exp_ECC2",
          "error": 0.015942679639364698,
          "sample_id": "pykF"
         },
         {
          "Branch": "TCA_ACE",
          "author": "Exp_iML1515",
          "error": 0.04412415581371183,
          "sample_id": "pykF"
         },
         {
          "Branch": "TCA_ACE",
          "author": "Khodayari",
          "error": 0,
          "sample_id": "pykF"
         },
         {
          "Branch": "TCA_ACE",
          "author": "Kurata",
          "error": -0.05722050717726546,
          "sample_id": "pykF"
         },
         {
          "Branch": "TCA_ACE",
          "author": "Millard",
          "error": -0.09115346481814657,
          "sample_id": "pykF"
         },
         {
          "Branch": "TCA_ACE",
          "author": "iML1515",
          "error": -0.9166450166506054,
          "sample_id": "pykF"
         },
         {
          "Branch": "TCA_ACE",
          "author": "ECC2",
          "error": -1.6779293107177593,
          "sample_id": "rpe"
         },
         {
          "Branch": "TCA_ACE",
          "author": "Exp_ECC2",
          "error": 0.04330344808162735,
          "sample_id": "rpe"
         },
         {
          "Branch": "TCA_ACE",
          "author": "Exp_iML1515",
          "error": 0.04373724757291665,
          "sample_id": "rpe"
         },
         {
          "Branch": "TCA_ACE",
          "author": "Khodayari",
          "error": 0,
          "sample_id": "rpe"
         },
         {
          "Branch": "TCA_ACE",
          "author": "Kurata",
          "error": null,
          "sample_id": "rpe"
         },
         {
          "Branch": "TCA_ACE",
          "author": "Millard",
          "error": -0.0896386397024424,
          "sample_id": "rpe"
         },
         {
          "Branch": "TCA_ACE",
          "author": "iML1515",
          "error": -0.8224708151129451,
          "sample_id": "rpe"
         },
         {
          "Branch": "TCA_ACE",
          "author": "ECC2",
          "error": null,
          "sample_id": "rpiA"
         },
         {
          "Branch": "TCA_ACE",
          "author": "Exp_ECC2",
          "error": null,
          "sample_id": "rpiA"
         },
         {
          "Branch": "TCA_ACE",
          "author": "Exp_iML1515",
          "error": 0.31496289550248713,
          "sample_id": "rpiA"
         },
         {
          "Branch": "TCA_ACE",
          "author": "Khodayari",
          "error": 0.0023988728701848415,
          "sample_id": "rpiA"
         },
         {
          "Branch": "TCA_ACE",
          "author": "Kurata",
          "error": -0.0583391419707784,
          "sample_id": "rpiA"
         },
         {
          "Branch": "TCA_ACE",
          "author": "Millard",
          "error": -0.029216020974007904,
          "sample_id": "rpiA"
         },
         {
          "Branch": "TCA_ACE",
          "author": "iML1515",
          "error": -0.8408367954437429,
          "sample_id": "rpiA"
         },
         {
          "Branch": "TCA_ACE",
          "author": "ECC2",
          "error": null,
          "sample_id": "rpiB"
         },
         {
          "Branch": "TCA_ACE",
          "author": "Exp_ECC2",
          "error": null,
          "sample_id": "rpiB"
         },
         {
          "Branch": "TCA_ACE",
          "author": "Exp_iML1515",
          "error": 0.31496289550248713,
          "sample_id": "rpiB"
         },
         {
          "Branch": "TCA_ACE",
          "author": "Khodayari",
          "error": 0.0023988728701848415,
          "sample_id": "rpiB"
         },
         {
          "Branch": "TCA_ACE",
          "author": "Kurata",
          "error": -0.0583391419707784,
          "sample_id": "rpiB"
         },
         {
          "Branch": "TCA_ACE",
          "author": "Millard",
          "error": -0.029216020974007904,
          "sample_id": "rpiB"
         },
         {
          "Branch": "TCA_ACE",
          "author": "iML1515",
          "error": -0.8408367954437429,
          "sample_id": "rpiB"
         },
         {
          "Branch": "TCA_ACE",
          "author": "ECC2",
          "error": null,
          "sample_id": "sdhCD"
         },
         {
          "Branch": "TCA_ACE",
          "author": "Exp_ECC2",
          "error": null,
          "sample_id": "sdhCD"
         },
         {
          "Branch": "TCA_ACE",
          "author": "Exp_iML1515",
          "error": null,
          "sample_id": "sdhCD"
         },
         {
          "Branch": "TCA_ACE",
          "author": "Khodayari",
          "error": null,
          "sample_id": "sdhCD"
         },
         {
          "Branch": "TCA_ACE",
          "author": "Kurata",
          "error": null,
          "sample_id": "sdhCD"
         },
         {
          "Branch": "TCA_ACE",
          "author": "Millard",
          "error": null,
          "sample_id": "sdhCD"
         },
         {
          "Branch": "TCA_ACE",
          "author": "iML1515",
          "error": null,
          "sample_id": "sdhCD"
         },
         {
          "Branch": "TCA_ACE",
          "author": "ECC2",
          "error": null,
          "sample_id": "sucA"
         },
         {
          "Branch": "TCA_ACE",
          "author": "Exp_ECC2",
          "error": null,
          "sample_id": "sucA"
         },
         {
          "Branch": "TCA_ACE",
          "author": "Exp_iML1515",
          "error": null,
          "sample_id": "sucA"
         },
         {
          "Branch": "TCA_ACE",
          "author": "Khodayari",
          "error": null,
          "sample_id": "sucA"
         },
         {
          "Branch": "TCA_ACE",
          "author": "Kurata",
          "error": null,
          "sample_id": "sucA"
         },
         {
          "Branch": "TCA_ACE",
          "author": "Millard",
          "error": null,
          "sample_id": "sucA"
         },
         {
          "Branch": "TCA_ACE",
          "author": "iML1515",
          "error": null,
          "sample_id": "sucA"
         },
         {
          "Branch": "TCA_ACE",
          "author": "ECC2",
          "error": null,
          "sample_id": "sucAB"
         },
         {
          "Branch": "TCA_ACE",
          "author": "Exp_ECC2",
          "error": null,
          "sample_id": "sucAB"
         },
         {
          "Branch": "TCA_ACE",
          "author": "Exp_iML1515",
          "error": null,
          "sample_id": "sucAB"
         },
         {
          "Branch": "TCA_ACE",
          "author": "Khodayari",
          "error": null,
          "sample_id": "sucAB"
         },
         {
          "Branch": "TCA_ACE",
          "author": "Kurata",
          "error": null,
          "sample_id": "sucAB"
         },
         {
          "Branch": "TCA_ACE",
          "author": "Millard",
          "error": null,
          "sample_id": "sucAB"
         },
         {
          "Branch": "TCA_ACE",
          "author": "iML1515",
          "error": null,
          "sample_id": "sucAB"
         },
         {
          "Branch": "TCA_ACE",
          "author": "ECC2",
          "error": -1.5860914779093955,
          "sample_id": "talA"
         },
         {
          "Branch": "TCA_ACE",
          "author": "Exp_ECC2",
          "error": 0.04261213112333533,
          "sample_id": "talA"
         },
         {
          "Branch": "TCA_ACE",
          "author": "Exp_iML1515",
          "error": 0.04412415581372033,
          "sample_id": "talA"
         },
         {
          "Branch": "TCA_ACE",
          "author": "Khodayari",
          "error": 0,
          "sample_id": "talA"
         },
         {
          "Branch": "TCA_ACE",
          "author": "Kurata",
          "error": -0.058779283654234946,
          "sample_id": "talA"
         },
         {
          "Branch": "TCA_ACE",
          "author": "Millard",
          "error": null,
          "sample_id": "talA"
         },
         {
          "Branch": "TCA_ACE",
          "author": "iML1515",
          "error": -0.9166450166506054,
          "sample_id": "talA"
         },
         {
          "Branch": "TCA_ACE",
          "author": "ECC2",
          "error": null,
          "sample_id": "talAB"
         },
         {
          "Branch": "TCA_ACE",
          "author": "Exp_ECC2",
          "error": null,
          "sample_id": "talAB"
         },
         {
          "Branch": "TCA_ACE",
          "author": "Exp_iML1515",
          "error": null,
          "sample_id": "talAB"
         },
         {
          "Branch": "TCA_ACE",
          "author": "Khodayari",
          "error": null,
          "sample_id": "talAB"
         },
         {
          "Branch": "TCA_ACE",
          "author": "Kurata",
          "error": null,
          "sample_id": "talAB"
         },
         {
          "Branch": "TCA_ACE",
          "author": "Millard",
          "error": null,
          "sample_id": "talAB"
         },
         {
          "Branch": "TCA_ACE",
          "author": "iML1515",
          "error": null,
          "sample_id": "talAB"
         },
         {
          "Branch": "TCA_ACE",
          "author": "ECC2",
          "error": null,
          "sample_id": "talB"
         },
         {
          "Branch": "TCA_ACE",
          "author": "Exp_ECC2",
          "error": null,
          "sample_id": "talB"
         },
         {
          "Branch": "TCA_ACE",
          "author": "Exp_iML1515",
          "error": null,
          "sample_id": "talB"
         },
         {
          "Branch": "TCA_ACE",
          "author": "Khodayari",
          "error": null,
          "sample_id": "talB"
         },
         {
          "Branch": "TCA_ACE",
          "author": "Kurata",
          "error": -0.058779283654234946,
          "sample_id": "talB"
         },
         {
          "Branch": "TCA_ACE",
          "author": "Millard",
          "error": null,
          "sample_id": "talB"
         },
         {
          "Branch": "TCA_ACE",
          "author": "iML1515",
          "error": null,
          "sample_id": "talB"
         },
         {
          "Branch": "TCA_ACE",
          "author": "ECC2",
          "error": -1.5860914779093955,
          "sample_id": "tktA"
         },
         {
          "Branch": "TCA_ACE",
          "author": "Exp_ECC2",
          "error": 0.04261213112333533,
          "sample_id": "tktA"
         },
         {
          "Branch": "TCA_ACE",
          "author": "Exp_iML1515",
          "error": 0.04337674756028052,
          "sample_id": "tktA"
         },
         {
          "Branch": "TCA_ACE",
          "author": "Khodayari",
          "error": 0,
          "sample_id": "tktA"
         },
         {
          "Branch": "TCA_ACE",
          "author": "Kurata",
          "error": -0.0621520307258574,
          "sample_id": "tktA"
         },
         {
          "Branch": "TCA_ACE",
          "author": "Millard",
          "error": -0.24066700491343684,
          "sample_id": "tktA"
         },
         {
          "Branch": "TCA_ACE",
          "author": "iML1515",
          "error": -0.8045444917022784,
          "sample_id": "tktA"
         },
         {
          "Branch": "TCA_ACE",
          "author": "ECC2",
          "error": -1.5860914779093955,
          "sample_id": "tktB"
         },
         {
          "Branch": "TCA_ACE",
          "author": "Exp_ECC2",
          "error": 0.04261213112333533,
          "sample_id": "tktB"
         },
         {
          "Branch": "TCA_ACE",
          "author": "Exp_iML1515",
          "error": 0.04337674756028052,
          "sample_id": "tktB"
         },
         {
          "Branch": "TCA_ACE",
          "author": "Khodayari",
          "error": 0,
          "sample_id": "tktB"
         },
         {
          "Branch": "TCA_ACE",
          "author": "Kurata",
          "error": -0.0621520307258574,
          "sample_id": "tktB"
         },
         {
          "Branch": "TCA_ACE",
          "author": "Millard",
          "error": null,
          "sample_id": "tktB"
         },
         {
          "Branch": "TCA_ACE",
          "author": "iML1515",
          "error": -0.8045444917022784,
          "sample_id": "tktB"
         },
         {
          "Branch": "TCA_ACE",
          "author": "ECC2",
          "error": null,
          "sample_id": "tpi"
         },
         {
          "Branch": "TCA_ACE",
          "author": "Exp_ECC2",
          "error": null,
          "sample_id": "tpi"
         },
         {
          "Branch": "TCA_ACE",
          "author": "Exp_iML1515",
          "error": null,
          "sample_id": "tpi"
         },
         {
          "Branch": "TCA_ACE",
          "author": "Khodayari",
          "error": null,
          "sample_id": "tpi"
         },
         {
          "Branch": "TCA_ACE",
          "author": "Kurata",
          "error": null,
          "sample_id": "tpi"
         },
         {
          "Branch": "TCA_ACE",
          "author": "Millard",
          "error": null,
          "sample_id": "tpi"
         },
         {
          "Branch": "TCA_ACE",
          "author": "iML1515",
          "error": null,
          "sample_id": "tpi"
         },
         {
          "Branch": "TCA_ACE",
          "author": "ECC2",
          "error": -1.5584662376295955,
          "sample_id": "zwf"
         },
         {
          "Branch": "TCA_ACE",
          "author": "Exp_ECC2",
          "error": 0.0419423740981781,
          "sample_id": "zwf"
         },
         {
          "Branch": "TCA_ACE",
          "author": "Exp_iML1515",
          "error": 0.04412415581371162,
          "sample_id": "zwf"
         },
         {
          "Branch": "TCA_ACE",
          "author": "Khodayari",
          "error": 0.006110553333924202,
          "sample_id": "zwf"
         },
         {
          "Branch": "TCA_ACE",
          "author": "Kurata",
          "error": -0.045007883617995494,
          "sample_id": "zwf"
         },
         {
          "Branch": "TCA_ACE",
          "author": "Millard",
          "error": -0.0830783730582049,
          "sample_id": "zwf"
         },
         {
          "Branch": "TCA_ACE",
          "author": "iML1515",
          "error": -0.8762210996466643,
          "sample_id": "zwf"
         },
         {
          "Branch": "ICD_ICL",
          "author": "ECC2",
          "error": 0.21868920096482944,
          "sample_id": "WT"
         },
         {
          "Branch": "ICD_ICL",
          "author": "Exp_ECC2",
          "error": -0.016865404751303104,
          "sample_id": "WT"
         },
         {
          "Branch": "ICD_ICL",
          "author": "Exp_iML1515",
          "error": -0.016865404751303104,
          "sample_id": "WT"
         },
         {
          "Branch": "ICD_ICL",
          "author": "Khodayari",
          "error": 0.07097005916851645,
          "sample_id": "WT"
         },
         {
          "Branch": "ICD_ICL",
          "author": "Kurata",
          "error": -1.3000367106065063,
          "sample_id": "WT"
         },
         {
          "Branch": "ICD_ICL",
          "author": "Millard",
          "error": -0.10763936662087212,
          "sample_id": "WT"
         },
         {
          "Branch": "ICD_ICL",
          "author": "iML1515",
          "error": 0.21868920096482944,
          "sample_id": "WT"
         },
         {
          "Branch": "ICD_ICL",
          "author": "ECC2",
          "error": null,
          "sample_id": "fbaA"
         },
         {
          "Branch": "ICD_ICL",
          "author": "Exp_ECC2",
          "error": null,
          "sample_id": "fbaA"
         },
         {
          "Branch": "ICD_ICL",
          "author": "Exp_iML1515",
          "error": null,
          "sample_id": "fbaA"
         },
         {
          "Branch": "ICD_ICL",
          "author": "Khodayari",
          "error": null,
          "sample_id": "fbaA"
         },
         {
          "Branch": "ICD_ICL",
          "author": "Kurata",
          "error": null,
          "sample_id": "fbaA"
         },
         {
          "Branch": "ICD_ICL",
          "author": "Millard",
          "error": null,
          "sample_id": "fbaA"
         },
         {
          "Branch": "ICD_ICL",
          "author": "iML1515",
          "error": null,
          "sample_id": "fbaA"
         },
         {
          "Branch": "ICD_ICL",
          "author": "ECC2",
          "error": -0.3603697098825432,
          "sample_id": "fbaB"
         },
         {
          "Branch": "ICD_ICL",
          "author": "Exp_ECC2",
          "error": -0.05822059043321701,
          "sample_id": "fbaB"
         },
         {
          "Branch": "ICD_ICL",
          "author": "Exp_iML1515",
          "error": -0.05822059043321126,
          "sample_id": "fbaB"
         },
         {
          "Branch": "ICD_ICL",
          "author": "Khodayari",
          "error": 0.02268742153737255,
          "sample_id": "fbaB"
         },
         {
          "Branch": "ICD_ICL",
          "author": "Kurata",
          "error": -1.342536927341564,
          "sample_id": "fbaB"
         },
         {
          "Branch": "ICD_ICL",
          "author": "Millard",
          "error": null,
          "sample_id": "fbaB"
         },
         {
          "Branch": "ICD_ICL",
          "author": "iML1515",
          "error": 0.17733401528291554,
          "sample_id": "fbaB"
         },
         {
          "Branch": "ICD_ICL",
          "author": "ECC2",
          "error": 0.45547552868282576,
          "sample_id": "fbp"
         },
         {
          "Branch": "ICD_ICL",
          "author": "Exp_ECC2",
          "error": 0.21992092296669294,
          "sample_id": "fbp"
         },
         {
          "Branch": "ICD_ICL",
          "author": "Exp_iML1515",
          "error": 0.21992092296669166,
          "sample_id": "fbp"
         },
         {
          "Branch": "ICD_ICL",
          "author": "Khodayari",
          "error": 0.3078822567726477,
          "sample_id": "fbp"
         },
         {
          "Branch": "ICD_ICL",
          "author": "Kurata",
          "error": -1.0630615437736393,
          "sample_id": "fbp"
         },
         {
          "Branch": "ICD_ICL",
          "author": "Millard",
          "error": 0.1291821691212937,
          "sample_id": "fbp"
         },
         {
          "Branch": "ICD_ICL",
          "author": "iML1515",
          "error": 0.45547552868282576,
          "sample_id": "fbp"
         },
         {
          "Branch": "ICD_ICL",
          "author": "ECC2",
          "error": null,
          "sample_id": "glk"
         },
         {
          "Branch": "ICD_ICL",
          "author": "Exp_ECC2",
          "error": null,
          "sample_id": "glk"
         },
         {
          "Branch": "ICD_ICL",
          "author": "Exp_iML1515",
          "error": null,
          "sample_id": "glk"
         },
         {
          "Branch": "ICD_ICL",
          "author": "Khodayari",
          "error": null,
          "sample_id": "glk"
         },
         {
          "Branch": "ICD_ICL",
          "author": "Kurata",
          "error": null,
          "sample_id": "glk"
         },
         {
          "Branch": "ICD_ICL",
          "author": "Millard",
          "error": null,
          "sample_id": "glk"
         },
         {
          "Branch": "ICD_ICL",
          "author": "iML1515",
          "error": null,
          "sample_id": "glk"
         },
         {
          "Branch": "ICD_ICL",
          "author": "ECC2",
          "error": 0.15874838907588779,
          "sample_id": "gnd"
         },
         {
          "Branch": "ICD_ICL",
          "author": "Exp_ECC2",
          "error": -0.06389239443975875,
          "sample_id": "gnd"
         },
         {
          "Branch": "ICD_ICL",
          "author": "Exp_iML1515",
          "error": -0.06964753929963916,
          "sample_id": "gnd"
         },
         {
          "Branch": "ICD_ICL",
          "author": "Khodayari",
          "error": 0.05679685407124162,
          "sample_id": "gnd"
         },
         {
          "Branch": "ICD_ICL",
          "author": "Kurata",
          "error": null,
          "sample_id": "gnd"
         },
         {
          "Branch": "ICD_ICL",
          "author": "Millard",
          "error": -0.12524995498894748,
          "sample_id": "gnd"
         },
         {
          "Branch": "ICD_ICL",
          "author": "iML1515",
          "error": 0.15874838907588779,
          "sample_id": "gnd"
         },
         {
          "Branch": "ICD_ICL",
          "author": "ECC2",
          "error": -1.27480906672843,
          "sample_id": "gpmA"
         },
         {
          "Branch": "ICD_ICL",
          "author": "Exp_ECC2",
          "error": -0.17295024431613673,
          "sample_id": "gpmA"
         },
         {
          "Branch": "ICD_ICL",
          "author": "Exp_iML1515",
          "error": -0.14398741219064232,
          "sample_id": "gpmA"
         },
         {
          "Branch": "ICD_ICL",
          "author": "Khodayari",
          "error": null,
          "sample_id": "gpmA"
         },
         {
          "Branch": "ICD_ICL",
          "author": "Kurata",
          "error": null,
          "sample_id": "gpmA"
         },
         {
          "Branch": "ICD_ICL",
          "author": "Millard",
          "error": null,
          "sample_id": "gpmA"
         },
         {
          "Branch": "ICD_ICL",
          "author": "iML1515",
          "error": 0.0915671935254905,
          "sample_id": "gpmA"
         },
         {
          "Branch": "ICD_ICL",
          "author": "ECC2",
          "error": null,
          "sample_id": "gpmB"
         },
         {
          "Branch": "ICD_ICL",
          "author": "Exp_ECC2",
          "error": null,
          "sample_id": "gpmB"
         },
         {
          "Branch": "ICD_ICL",
          "author": "Exp_iML1515",
          "error": null,
          "sample_id": "gpmB"
         },
         {
          "Branch": "ICD_ICL",
          "author": "Khodayari",
          "error": null,
          "sample_id": "gpmB"
         },
         {
          "Branch": "ICD_ICL",
          "author": "Kurata",
          "error": null,
          "sample_id": "gpmB"
         },
         {
          "Branch": "ICD_ICL",
          "author": "Millard",
          "error": null,
          "sample_id": "gpmB"
         },
         {
          "Branch": "ICD_ICL",
          "author": "iML1515",
          "error": null,
          "sample_id": "gpmB"
         },
         {
          "Branch": "ICD_ICL",
          "author": "ECC2",
          "error": -0.4337140116414111,
          "sample_id": "pfkA"
         },
         {
          "Branch": "ICD_ICL",
          "author": "Exp_ECC2",
          "error": -0.13156489219208506,
          "sample_id": "pfkA"
         },
         {
          "Branch": "ICD_ICL",
          "author": "Exp_iML1515",
          "error": -0.13156489219208184,
          "sample_id": "pfkA"
         },
         {
          "Branch": "ICD_ICL",
          "author": "Khodayari",
          "error": -0.04325748040083001,
          "sample_id": "pfkA"
         },
         {
          "Branch": "ICD_ICL",
          "author": "Kurata",
          "error": -2.0884771993725324,
          "sample_id": "pfkA"
         },
         {
          "Branch": "ICD_ICL",
          "author": "Millard",
          "error": null,
          "sample_id": "pfkA"
         },
         {
          "Branch": "ICD_ICL",
          "author": "iML1515",
          "error": 0.10398971352404764,
          "sample_id": "pfkA"
         },
         {
          "Branch": "ICD_ICL",
          "author": "ECC2",
          "error": -0.1387960176034534,
          "sample_id": "pfkB"
         },
         {
          "Branch": "ICD_ICL",
          "author": "Exp_ECC2",
          "error": 0.16335310184587265,
          "sample_id": "pfkB"
         },
         {
          "Branch": "ICD_ICL",
          "author": "Exp_iML1515",
          "error": 0.16335310184587587,
          "sample_id": "pfkB"
         },
         {
          "Branch": "ICD_ICL",
          "author": "Khodayari",
          "error": 0.2516605136371277,
          "sample_id": "pfkB"
         },
         {
          "Branch": "ICD_ICL",
          "author": "Kurata",
          "error": -1.7935592053345748,
          "sample_id": "pfkB"
         },
         {
          "Branch": "ICD_ICL",
          "author": "Millard",
          "error": null,
          "sample_id": "pfkB"
         },
         {
          "Branch": "ICD_ICL",
          "author": "iML1515",
          "error": 0.39890770756200533,
          "sample_id": "pfkB"
         },
         {
          "Branch": "ICD_ICL",
          "author": "ECC2",
          "error": 0.47608267532211773,
          "sample_id": "pgi"
         },
         {
          "Branch": "ICD_ICL",
          "author": "Exp_ECC2",
          "error": 0.0951814063378642,
          "sample_id": "pgi"
         },
         {
          "Branch": "ICD_ICL",
          "author": "Exp_iML1515",
          "error": 0.24052806960598547,
          "sample_id": "pgi"
         },
         {
          "Branch": "ICD_ICL",
          "author": "Khodayari",
          "error": 0.21343350919451898,
          "sample_id": "pgi"
         },
         {
          "Branch": "ICD_ICL",
          "author": "Kurata",
          "error": -1.1963915141243462,
          "sample_id": "pgi"
         },
         {
          "Branch": "ICD_ICL",
          "author": "Millard",
          "error": -0.007754400307395937,
          "sample_id": "pgi"
         },
         {
          "Branch": "ICD_ICL",
          "author": "iML1515",
          "error": 0.47608267532211773,
          "sample_id": "pgi"
         },
         {
          "Branch": "ICD_ICL",
          "author": "ECC2",
          "error": 0.1868773733298153,
          "sample_id": "pgl"
         },
         {
          "Branch": "ICD_ICL",
          "author": "Exp_ECC2",
          "error": -0.03589932744241525,
          "sample_id": "pgl"
         },
         {
          "Branch": "ICD_ICL",
          "author": "Exp_iML1515",
          "error": -0.04867723238632188,
          "sample_id": "pgl"
         },
         {
          "Branch": "ICD_ICL",
          "author": "Khodayari",
          "error": 0.034198237780498825,
          "sample_id": "pgl"
         },
         {
          "Branch": "ICD_ICL",
          "author": "Kurata",
          "error": null,
          "sample_id": "pgl"
         },
         {
          "Branch": "ICD_ICL",
          "author": "Millard",
          "error": 0.10232347242465903,
          "sample_id": "pgl"
         },
         {
          "Branch": "ICD_ICL",
          "author": "iML1515",
          "error": 0.1868773733298153,
          "sample_id": "pgl"
         },
         {
          "Branch": "ICD_ICL",
          "author": "ECC2",
          "error": null,
          "sample_id": "pgm"
         },
         {
          "Branch": "ICD_ICL",
          "author": "Exp_ECC2",
          "error": null,
          "sample_id": "pgm"
         },
         {
          "Branch": "ICD_ICL",
          "author": "Exp_iML1515",
          "error": null,
          "sample_id": "pgm"
         },
         {
          "Branch": "ICD_ICL",
          "author": "Khodayari",
          "error": null,
          "sample_id": "pgm"
         },
         {
          "Branch": "ICD_ICL",
          "author": "Kurata",
          "error": null,
          "sample_id": "pgm"
         },
         {
          "Branch": "ICD_ICL",
          "author": "Millard",
          "error": null,
          "sample_id": "pgm"
         },
         {
          "Branch": "ICD_ICL",
          "author": "iML1515",
          "error": null,
          "sample_id": "pgm"
         },
         {
          "Branch": "ICD_ICL",
          "author": "ECC2",
          "error": null,
          "sample_id": "ppc"
         },
         {
          "Branch": "ICD_ICL",
          "author": "Exp_ECC2",
          "error": null,
          "sample_id": "ppc"
         },
         {
          "Branch": "ICD_ICL",
          "author": "Exp_iML1515",
          "error": null,
          "sample_id": "ppc"
         },
         {
          "Branch": "ICD_ICL",
          "author": "Khodayari",
          "error": null,
          "sample_id": "ppc"
         },
         {
          "Branch": "ICD_ICL",
          "author": "Kurata",
          "error": null,
          "sample_id": "ppc"
         },
         {
          "Branch": "ICD_ICL",
          "author": "Millard",
          "error": null,
          "sample_id": "ppc"
         },
         {
          "Branch": "ICD_ICL",
          "author": "iML1515",
          "error": null,
          "sample_id": "ppc"
         },
         {
          "Branch": "ICD_ICL",
          "author": "ECC2",
          "error": 0,
          "sample_id": "ppsA"
         },
         {
          "Branch": "ICD_ICL",
          "author": "Exp_ECC2",
          "error": -0.23555460571613254,
          "sample_id": "ppsA"
         },
         {
          "Branch": "ICD_ICL",
          "author": "Exp_iML1515",
          "error": -0.2355546057161341,
          "sample_id": "ppsA"
         },
         {
          "Branch": "ICD_ICL",
          "author": "Khodayari",
          "error": -0.15236900005012466,
          "sample_id": "ppsA"
         },
         {
          "Branch": "ICD_ICL",
          "author": "Kurata",
          "error": -0.5576239545496778,
          "sample_id": "ppsA"
         },
         {
          "Branch": "ICD_ICL",
          "author": "Millard",
          "error": -0.32632450510806543,
          "sample_id": "ppsA"
         },
         {
          "Branch": "ICD_ICL",
          "author": "iML1515",
          "error": 0,
          "sample_id": "ppsA"
         },
         {
          "Branch": "ICD_ICL",
          "author": "ECC2",
          "error": null,
          "sample_id": "pts"
         },
         {
          "Branch": "ICD_ICL",
          "author": "Exp_ECC2",
          "error": null,
          "sample_id": "pts"
         },
         {
          "Branch": "ICD_ICL",
          "author": "Exp_iML1515",
          "error": null,
          "sample_id": "pts"
         },
         {
          "Branch": "ICD_ICL",
          "author": "Khodayari",
          "error": null,
          "sample_id": "pts"
         },
         {
          "Branch": "ICD_ICL",
          "author": "Kurata",
          "error": null,
          "sample_id": "pts"
         },
         {
          "Branch": "ICD_ICL",
          "author": "Millard",
          "error": null,
          "sample_id": "pts"
         },
         {
          "Branch": "ICD_ICL",
          "author": "iML1515",
          "error": null,
          "sample_id": "pts"
         },
         {
          "Branch": "ICD_ICL",
          "author": "ECC2",
          "error": 0.24445333790096085,
          "sample_id": "pykA"
         },
         {
          "Branch": "ICD_ICL",
          "author": "Exp_ECC2",
          "error": 0.03943997251886169,
          "sample_id": "pykA"
         },
         {
          "Branch": "ICD_ICL",
          "author": "Exp_iML1515",
          "error": 0.00889873218482845,
          "sample_id": "pykA"
         },
         {
          "Branch": "ICD_ICL",
          "author": "Khodayari",
          "error": 0.0872127808751825,
          "sample_id": "pykA"
         },
         {
          "Branch": "ICD_ICL",
          "author": "Kurata",
          "error": -1.2262758773125468,
          "sample_id": "pykA"
         },
         {
          "Branch": "ICD_ICL",
          "author": "Millard",
          "error": -0.012855817610277043,
          "sample_id": "pykA"
         },
         {
          "Branch": "ICD_ICL",
          "author": "iML1515",
          "error": 0.24445333790096085,
          "sample_id": "pykA"
         },
         {
          "Branch": "ICD_ICL",
          "author": "ECC2",
          "error": 0.5292593254548287,
          "sample_id": "pykF"
         },
         {
          "Branch": "ICD_ICL",
          "author": "Exp_ECC2",
          "error": 0.32424596007272954,
          "sample_id": "pykF"
         },
         {
          "Branch": "ICD_ICL",
          "author": "Exp_iML1515",
          "error": 0.2937047197386963,
          "sample_id": "pykF"
         },
         {
          "Branch": "ICD_ICL",
          "author": "Khodayari",
          "error": 0.3682935037564683,
          "sample_id": "pykF"
         },
         {
          "Branch": "ICD_ICL",
          "author": "Kurata",
          "error": -0.941469889758679,
          "sample_id": "pykF"
         },
         {
          "Branch": "ICD_ICL",
          "author": "Millard",
          "error": 0.2719501699435908,
          "sample_id": "pykF"
         },
         {
          "Branch": "ICD_ICL",
          "author": "iML1515",
          "error": 0.5292593254548287,
          "sample_id": "pykF"
         },
         {
          "Branch": "ICD_ICL",
          "author": "ECC2",
          "error": 0.16623541904233022,
          "sample_id": "rpe"
         },
         {
          "Branch": "ICD_ICL",
          "author": "Exp_ECC2",
          "error": -0.06449669725848284,
          "sample_id": "rpe"
         },
         {
          "Branch": "ICD_ICL",
          "author": "Exp_iML1515",
          "error": -0.07793444604065111,
          "sample_id": "rpe"
         },
         {
          "Branch": "ICD_ICL",
          "author": "Khodayari",
          "error": 0.013403135245739273,
          "sample_id": "rpe"
         },
         {
          "Branch": "ICD_ICL",
          "author": "Kurata",
          "error": null,
          "sample_id": "rpe"
         },
         {
          "Branch": "ICD_ICL",
          "author": "Millard",
          "error": -0.27406323737903915,
          "sample_id": "rpe"
         },
         {
          "Branch": "ICD_ICL",
          "author": "iML1515",
          "error": 0.16623541904233022,
          "sample_id": "rpe"
         },
         {
          "Branch": "ICD_ICL",
          "author": "ECC2",
          "error": null,
          "sample_id": "rpiA"
         },
         {
          "Branch": "ICD_ICL",
          "author": "Exp_ECC2",
          "error": null,
          "sample_id": "rpiA"
         },
         {
          "Branch": "ICD_ICL",
          "author": "Exp_iML1515",
          "error": 0.1551894427795789,
          "sample_id": "rpiA"
         },
         {
          "Branch": "ICD_ICL",
          "author": "Khodayari",
          "error": 0.10862474003600268,
          "sample_id": "rpiA"
         },
         {
          "Branch": "ICD_ICL",
          "author": "Kurata",
          "error": -1.2869590594691385,
          "sample_id": "rpiA"
         },
         {
          "Branch": "ICD_ICL",
          "author": "Millard",
          "error": 0.2256719976675684,
          "sample_id": "rpiA"
         },
         {
          "Branch": "ICD_ICL",
          "author": "iML1515",
          "error": 0.2256719976675684,
          "sample_id": "rpiA"
         },
         {
          "Branch": "ICD_ICL",
          "author": "ECC2",
          "error": null,
          "sample_id": "rpiB"
         },
         {
          "Branch": "ICD_ICL",
          "author": "Exp_ECC2",
          "error": null,
          "sample_id": "rpiB"
         },
         {
          "Branch": "ICD_ICL",
          "author": "Exp_iML1515",
          "error": 0.0057448104998947536,
          "sample_id": "rpiB"
         },
         {
          "Branch": "ICD_ICL",
          "author": "Khodayari",
          "error": -0.04081989224368146,
          "sample_id": "rpiB"
         },
         {
          "Branch": "ICD_ICL",
          "author": "Kurata",
          "error": -1.4364036917488228,
          "sample_id": "rpiB"
         },
         {
          "Branch": "ICD_ICL",
          "author": "Millard",
          "error": 0.07622736538788426,
          "sample_id": "rpiB"
         },
         {
          "Branch": "ICD_ICL",
          "author": "iML1515",
          "error": 0.07622736538788426,
          "sample_id": "rpiB"
         },
         {
          "Branch": "ICD_ICL",
          "author": "ECC2",
          "error": null,
          "sample_id": "sdhCD"
         },
         {
          "Branch": "ICD_ICL",
          "author": "Exp_ECC2",
          "error": null,
          "sample_id": "sdhCD"
         },
         {
          "Branch": "ICD_ICL",
          "author": "Exp_iML1515",
          "error": null,
          "sample_id": "sdhCD"
         },
         {
          "Branch": "ICD_ICL",
          "author": "Khodayari",
          "error": null,
          "sample_id": "sdhCD"
         },
         {
          "Branch": "ICD_ICL",
          "author": "Kurata",
          "error": null,
          "sample_id": "sdhCD"
         },
         {
          "Branch": "ICD_ICL",
          "author": "Millard",
          "error": null,
          "sample_id": "sdhCD"
         },
         {
          "Branch": "ICD_ICL",
          "author": "iML1515",
          "error": null,
          "sample_id": "sdhCD"
         },
         {
          "Branch": "ICD_ICL",
          "author": "ECC2",
          "error": null,
          "sample_id": "sucA"
         },
         {
          "Branch": "ICD_ICL",
          "author": "Exp_ECC2",
          "error": null,
          "sample_id": "sucA"
         },
         {
          "Branch": "ICD_ICL",
          "author": "Exp_iML1515",
          "error": null,
          "sample_id": "sucA"
         },
         {
          "Branch": "ICD_ICL",
          "author": "Khodayari",
          "error": null,
          "sample_id": "sucA"
         },
         {
          "Branch": "ICD_ICL",
          "author": "Kurata",
          "error": null,
          "sample_id": "sucA"
         },
         {
          "Branch": "ICD_ICL",
          "author": "Millard",
          "error": null,
          "sample_id": "sucA"
         },
         {
          "Branch": "ICD_ICL",
          "author": "iML1515",
          "error": null,
          "sample_id": "sucA"
         },
         {
          "Branch": "ICD_ICL",
          "author": "ECC2",
          "error": null,
          "sample_id": "sucAB"
         },
         {
          "Branch": "ICD_ICL",
          "author": "Exp_ECC2",
          "error": null,
          "sample_id": "sucAB"
         },
         {
          "Branch": "ICD_ICL",
          "author": "Exp_iML1515",
          "error": null,
          "sample_id": "sucAB"
         },
         {
          "Branch": "ICD_ICL",
          "author": "Khodayari",
          "error": null,
          "sample_id": "sucAB"
         },
         {
          "Branch": "ICD_ICL",
          "author": "Kurata",
          "error": null,
          "sample_id": "sucAB"
         },
         {
          "Branch": "ICD_ICL",
          "author": "Millard",
          "error": null,
          "sample_id": "sucAB"
         },
         {
          "Branch": "ICD_ICL",
          "author": "iML1515",
          "error": null,
          "sample_id": "sucAB"
         },
         {
          "Branch": "ICD_ICL",
          "author": "ECC2",
          "error": 0.02381064869371856,
          "sample_id": "talA"
         },
         {
          "Branch": "ICD_ICL",
          "author": "Exp_ECC2",
          "error": -0.20287419574943777,
          "sample_id": "talA"
         },
         {
          "Branch": "ICD_ICL",
          "author": "Exp_iML1515",
          "error": -0.21174395702241233,
          "sample_id": "talA"
         },
         {
          "Branch": "ICD_ICL",
          "author": "Khodayari",
          "error": -0.13049968901083198,
          "sample_id": "talA"
         },
         {
          "Branch": "ICD_ICL",
          "author": "Kurata",
          "error": -1.5027382867825447,
          "sample_id": "talA"
         },
         {
          "Branch": "ICD_ICL",
          "author": "Millard",
          "error": null,
          "sample_id": "talA"
         },
         {
          "Branch": "ICD_ICL",
          "author": "iML1515",
          "error": 0.02381064869371856,
          "sample_id": "talA"
         },
         {
          "Branch": "ICD_ICL",
          "author": "ECC2",
          "error": null,
          "sample_id": "talAB"
         },
         {
          "Branch": "ICD_ICL",
          "author": "Exp_ECC2",
          "error": null,
          "sample_id": "talAB"
         },
         {
          "Branch": "ICD_ICL",
          "author": "Exp_iML1515",
          "error": null,
          "sample_id": "talAB"
         },
         {
          "Branch": "ICD_ICL",
          "author": "Khodayari",
          "error": null,
          "sample_id": "talAB"
         },
         {
          "Branch": "ICD_ICL",
          "author": "Kurata",
          "error": null,
          "sample_id": "talAB"
         },
         {
          "Branch": "ICD_ICL",
          "author": "Millard",
          "error": null,
          "sample_id": "talAB"
         },
         {
          "Branch": "ICD_ICL",
          "author": "iML1515",
          "error": null,
          "sample_id": "talAB"
         },
         {
          "Branch": "ICD_ICL",
          "author": "ECC2",
          "error": null,
          "sample_id": "talB"
         },
         {
          "Branch": "ICD_ICL",
          "author": "Exp_ECC2",
          "error": null,
          "sample_id": "talB"
         },
         {
          "Branch": "ICD_ICL",
          "author": "Exp_iML1515",
          "error": null,
          "sample_id": "talB"
         },
         {
          "Branch": "ICD_ICL",
          "author": "Khodayari",
          "error": null,
          "sample_id": "talB"
         },
         {
          "Branch": "ICD_ICL",
          "author": "Kurata",
          "error": -1.504325798691553,
          "sample_id": "talB"
         },
         {
          "Branch": "ICD_ICL",
          "author": "Millard",
          "error": null,
          "sample_id": "talB"
         },
         {
          "Branch": "ICD_ICL",
          "author": "iML1515",
          "error": null,
          "sample_id": "talB"
         },
         {
          "Branch": "ICD_ICL",
          "author": "ECC2",
          "error": 0,
          "sample_id": "tktA"
         },
         {
          "Branch": "ICD_ICL",
          "author": "Exp_ECC2",
          "error": -0.22668484444315634,
          "sample_id": "tktA"
         },
         {
          "Branch": "ICD_ICL",
          "author": "Exp_iML1515",
          "error": -0.24299754757444805,
          "sample_id": "tktA"
         },
         {
          "Branch": "ICD_ICL",
          "author": "Khodayari",
          "error": -0.15462651864288574,
          "sample_id": "tktA"
         },
         {
          "Branch": "ICD_ICL",
          "author": "Kurata",
          "error": -1.6338754784495821,
          "sample_id": "tktA"
         },
         {
          "Branch": "ICD_ICL",
          "author": "Millard",
          "error": -0.0018404428706402865,
          "sample_id": "tktA"
         },
         {
          "Branch": "ICD_ICL",
          "author": "iML1515",
          "error": 0,
          "sample_id": "tktA"
         },
         {
          "Branch": "ICD_ICL",
          "author": "ECC2",
          "error": 0,
          "sample_id": "tktB"
         },
         {
          "Branch": "ICD_ICL",
          "author": "Exp_ECC2",
          "error": -0.22668484444315634,
          "sample_id": "tktB"
         },
         {
          "Branch": "ICD_ICL",
          "author": "Exp_iML1515",
          "error": -0.24299754757444805,
          "sample_id": "tktB"
         },
         {
          "Branch": "ICD_ICL",
          "author": "Khodayari",
          "error": -0.15462651864288574,
          "sample_id": "tktB"
         },
         {
          "Branch": "ICD_ICL",
          "author": "Kurata",
          "error": -1.6338754784495821,
          "sample_id": "tktB"
         },
         {
          "Branch": "ICD_ICL",
          "author": "Millard",
          "error": null,
          "sample_id": "tktB"
         },
         {
          "Branch": "ICD_ICL",
          "author": "iML1515",
          "error": 0,
          "sample_id": "tktB"
         },
         {
          "Branch": "ICD_ICL",
          "author": "ECC2",
          "error": null,
          "sample_id": "tpi"
         },
         {
          "Branch": "ICD_ICL",
          "author": "Exp_ECC2",
          "error": null,
          "sample_id": "tpi"
         },
         {
          "Branch": "ICD_ICL",
          "author": "Exp_iML1515",
          "error": null,
          "sample_id": "tpi"
         },
         {
          "Branch": "ICD_ICL",
          "author": "Khodayari",
          "error": null,
          "sample_id": "tpi"
         },
         {
          "Branch": "ICD_ICL",
          "author": "Kurata",
          "error": null,
          "sample_id": "tpi"
         },
         {
          "Branch": "ICD_ICL",
          "author": "Millard",
          "error": null,
          "sample_id": "tpi"
         },
         {
          "Branch": "ICD_ICL",
          "author": "iML1515",
          "error": null,
          "sample_id": "tpi"
         },
         {
          "Branch": "ICD_ICL",
          "author": "ECC2",
          "error": 0.3039956479433047,
          "sample_id": "zwf"
         },
         {
          "Branch": "ICD_ICL",
          "author": "Exp_ECC2",
          "error": 0.08121894717107414,
          "sample_id": "zwf"
         },
         {
          "Branch": "ICD_ICL",
          "author": "Exp_iML1515",
          "error": 0.06844104222717187,
          "sample_id": "zwf"
         },
         {
          "Branch": "ICD_ICL",
          "author": "Khodayari",
          "error": 0.1950097575523105,
          "sample_id": "zwf"
         },
         {
          "Branch": "ICD_ICL",
          "author": "Kurata",
          "error": -0.572879842798912,
          "sample_id": "zwf"
         },
         {
          "Branch": "ICD_ICL",
          "author": "Millard",
          "error": 0.002214413110581126,
          "sample_id": "zwf"
         },
         {
          "Branch": "ICD_ICL",
          "author": "iML1515",
          "error": 0.3039956479433047,
          "sample_id": "zwf"
         }
        ]
       },
       "encoding": {
        "color": {
         "field": "author",
         "legend": null,
         "scale": {
          "domain": [
           "Khodayari",
           "Millard",
           "Kurata",
           "iML1515",
           "ECC2",
           "Exp_iML1515",
           "Exp_ECC2",
           "Ishii"
          ],
          "range": [
           "#1b9e77",
           "#d95f02",
           "#7570b3",
           "#e7298a",
           "#66a61e",
           "#e6ab02",
           "#a6761d",
           "#666666"
          ]
         },
         "type": "nominal"
        },
        "column": {
         "field": "author",
         "header": {
          "labelAlign": "right",
          "labelAngle": -90,
          "labelFontSize": 20,
          "labelOrient": "bottom",
          "labelPadding": 3,
          "title": "Branching errors (log error)",
          "titleOrient": "top"
         },
         "sort": [
          "Khodayari",
          "Millard",
          "Kurata",
          "iML1515",
          "ECC2",
          "Exp_iML1515",
          "Exp_ECC2",
          "Ishii"
         ],
         "type": "nominal"
        },
        "opacity": {
         "value": 1
        },
        "size": {
         "condition": {
          "selection": "selector015",
          "value": 150
         },
         "value": 60
        },
        "tooltip": [
         {
          "field": "author",
          "type": "nominal"
         },
         {
          "field": "sample_id",
          "type": "nominal"
         },
         {
          "field": "error",
          "type": "quantitative"
         },
         {
          "field": "Branch",
          "type": "nominal"
         }
        ],
        "x": {
         "field": "Branch",
         "scale": {},
         "sort": [
          "EMP_PPP",
          "PYK_PPC",
          "TCA_ACE",
          "ICD_ICL",
          "MDH_ME"
         ],
         "type": "nominal"
        },
        "y": {
         "field": "error",
         "title": "Branching error",
         "type": "quantitative"
        }
       },
       "height": 600,
       "mark": "circle",
       "selection": {
        "selector015": {
         "empty": "none",
         "fields": [
          "sample_id"
         ],
         "type": "single"
        }
       },
       "transform": [
        {
         "filter": "datum.normalized_error !== null"
        }
       ],
       "width": 100
      },
      "image/png": "[encoded data removed]",
      "text/plain": [
       "<VegaLite 3 object>\n",
       "\n",
       "If you see this message, it means the renderer has not been properly enabled\n",
       "for the frontend that you are using. For more information, see\n",
       "https://altair-viz.github.io/user_guide/troubleshooting.html\n"
      ]
     },
     "execution_count": 60,
     "metadata": {},
     "output_type": "execute_result"
    }
   ],
   "source": [
    "source = log_error_diff.to_dataframe().reset_index()\n",
    "\n",
    "author = \"Ishii\"\n",
    "source = source.query(f\"author != '{author}'\")\n",
    "\n",
    "selector = alt.selection_single(empty=\"none\", fields=[\"sample_id\"])\n",
    "opacity = alt.OpacityValue(1.0)\n",
    "\n",
    "size = alt.condition(selector, alt.SizeValue(150), alt.SizeValue(60))\n",
    "\n",
    "domain = [\"Khodayari\", \"Millard\", \"Kurata\", \"iML1515\", \"ECC2\", \"Exp_iML1515\", \"Exp_ECC2\", \"Ishii\"]\n",
    "range_ = [\"#1b9e77\", \"#d95f02\", \"#7570b3\", \"#e7298a\", \"#66a61e\", \"#e6ab02\", \"#a6761d\", \"#666666\"]\n",
    "    \n",
    "stripplot = (\n",
    "    alt.Chart(source, width=100, height=600)\n",
    "    .mark_circle()\n",
    "    .encode(\n",
    "        x=alt.X(\n",
    "            \"Branch:N\",\n",
    "            #title=None,\n",
    "            #axis=alt.Axis(values=[0], ticks=True, grid=False, labels=False),\n",
    "            scale=alt.Scale(),\n",
    "            sort = [\"EMP_PPP\", \"PYK_PPC\", \"TCA_ACE\", \"ICD_ICL\", \"MDH_ME\"]\n",
    "        ),\n",
    "        y=alt.Y(\"error:Q\", title=\"Branching error\"),\n",
    "        color=alt.Color(\"author:N\", legend=None, scale=alt.Scale(domain=domain, range=range_)),\n",
    "        column=alt.Column(\n",
    "            \"author:N\",\n",
    "            header=alt.Header(\n",
    "                labelAngle=-90,\n",
    "                titleOrient=\"top\",\n",
    "                labelOrient=\"bottom\",\n",
    "                labelAlign=\"right\",\n",
    "                labelPadding=3,\n",
    "                labelFontSize=20,\n",
    "                title=\"Branching errors (log error)\",\n",
    "            ),\n",
    "            sort=domain,\n",
    "        ),\n",
    "        size=size,\n",
    "        opacity=opacity,\n",
    "        tooltip=[\"author\", \"sample_id\", \"error\", \"Branch\"],\n",
    "    )\n",
    "    .configure_facet(spacing=5)\n",
    "    .configure_view(stroke=None)\n",
    "    .add_selection(selector)\n",
    "    .transform_filter(\"datum.normalized_error !== null\")\n",
    ")\n",
    "\n",
    "stripplot.configure_axis(labelFontSize=20, titleFontSize=20).configure_header(titleFontSize=24)"
   ]
  },
  {
   "cell_type": "code",
   "execution_count": 61,
   "metadata": {},
   "outputs": [
    {
     "data": {
      "application/vnd.vegalite.v3+json": {
       "$schema": "https://vega.github.io/schema/vega-lite/v3.2.1.json",
       "config": {
        "axis": {
         "labelFontSize": 20,
         "titleFontSize": 20
        },
        "facet": {
         "spacing": 5
        },
        "header": {
         "titleFontSize": 24
        },
        "mark": {
         "tooltip": null
        },
        "view": {
         "height": 300,
         "stroke": null,
         "width": 400
        }
       },
       "data": {
        "name": "data-fab33a0ebd27aa43049decde27d6f3f9"
       },
       "datasets": {
        "data-fab33a0ebd27aa43049decde27d6f3f9": [
         {
          "Branch": "EMP_PPP",
          "author": "ECC2",
          "error": 0.44864725457385235,
          "sample_id": "WT"
         },
         {
          "Branch": "EMP_PPP",
          "author": "Exp_ECC2",
          "error": 0.012173592256091825,
          "sample_id": "WT"
         },
         {
          "Branch": "EMP_PPP",
          "author": "Exp_iML1515",
          "error": 0.03287133083204585,
          "sample_id": "WT"
         },
         {
          "Branch": "EMP_PPP",
          "author": "Khodayari",
          "error": 0.020989371864845285,
          "sample_id": "WT"
         },
         {
          "Branch": "EMP_PPP",
          "author": "Kurata",
          "error": 0.3933370590445456,
          "sample_id": "WT"
         },
         {
          "Branch": "EMP_PPP",
          "author": "Millard",
          "error": 0.002321655403726419,
          "sample_id": "WT"
         },
         {
          "Branch": "EMP_PPP",
          "author": "iML1515",
          "error": 0.08877577120913605,
          "sample_id": "WT"
         },
         {
          "Branch": "EMP_PPP",
          "author": "ECC2",
          "error": null,
          "sample_id": "fbaA"
         },
         {
          "Branch": "EMP_PPP",
          "author": "Exp_ECC2",
          "error": null,
          "sample_id": "fbaA"
         },
         {
          "Branch": "EMP_PPP",
          "author": "Exp_iML1515",
          "error": null,
          "sample_id": "fbaA"
         },
         {
          "Branch": "EMP_PPP",
          "author": "Khodayari",
          "error": null,
          "sample_id": "fbaA"
         },
         {
          "Branch": "EMP_PPP",
          "author": "Kurata",
          "error": null,
          "sample_id": "fbaA"
         },
         {
          "Branch": "EMP_PPP",
          "author": "Millard",
          "error": null,
          "sample_id": "fbaA"
         },
         {
          "Branch": "EMP_PPP",
          "author": "iML1515",
          "error": null,
          "sample_id": "fbaA"
         },
         {
          "Branch": "EMP_PPP",
          "author": "ECC2",
          "error": 0.821959558788376,
          "sample_id": "fbaB"
         },
         {
          "Branch": "EMP_PPP",
          "author": "Exp_ECC2",
          "error": 0.7712403862741259,
          "sample_id": "fbaB"
         },
         {
          "Branch": "EMP_PPP",
          "author": "Exp_iML1515",
          "error": 0.12553682342502204,
          "sample_id": "fbaB"
         },
         {
          "Branch": "EMP_PPP",
          "author": "Khodayari",
          "error": 0.05188524680280959,
          "sample_id": "fbaB"
         },
         {
          "Branch": "EMP_PPP",
          "author": "Kurata",
          "error": 0.30068244816454925,
          "sample_id": "fbaB"
         },
         {
          "Branch": "EMP_PPP",
          "author": "Millard",
          "error": null,
          "sample_id": "fbaB"
         },
         {
          "Branch": "EMP_PPP",
          "author": "iML1515",
          "error": 0.0038897213838413602,
          "sample_id": "fbaB"
         },
         {
          "Branch": "EMP_PPP",
          "author": "ECC2",
          "error": 0.4696696613830618,
          "sample_id": "fbp"
         },
         {
          "Branch": "EMP_PPP",
          "author": "Exp_ECC2",
          "error": 0.008848814553121254,
          "sample_id": "fbp"
         },
         {
          "Branch": "EMP_PPP",
          "author": "Exp_iML1515",
          "error": 0.011848924022837104,
          "sample_id": "fbp"
         },
         {
          "Branch": "EMP_PPP",
          "author": "Khodayari",
          "error": 0.04144025457732492,
          "sample_id": "fbp"
         },
         {
          "Branch": "EMP_PPP",
          "author": "Kurata",
          "error": 0.4143546110230791,
          "sample_id": "fbp"
         },
         {
          "Branch": "EMP_PPP",
          "author": "Millard",
          "error": 0.023329070066037794,
          "sample_id": "fbp"
         },
         {
          "Branch": "EMP_PPP",
          "author": "iML1515",
          "error": 0.1097981780183449,
          "sample_id": "fbp"
         },
         {
          "Branch": "EMP_PPP",
          "author": "ECC2",
          "error": null,
          "sample_id": "glk"
         },
         {
          "Branch": "EMP_PPP",
          "author": "Exp_ECC2",
          "error": null,
          "sample_id": "glk"
         },
         {
          "Branch": "EMP_PPP",
          "author": "Exp_iML1515",
          "error": null,
          "sample_id": "glk"
         },
         {
          "Branch": "EMP_PPP",
          "author": "Khodayari",
          "error": null,
          "sample_id": "glk"
         },
         {
          "Branch": "EMP_PPP",
          "author": "Kurata",
          "error": null,
          "sample_id": "glk"
         },
         {
          "Branch": "EMP_PPP",
          "author": "Millard",
          "error": null,
          "sample_id": "glk"
         },
         {
          "Branch": "EMP_PPP",
          "author": "iML1515",
          "error": null,
          "sample_id": "glk"
         },
         {
          "Branch": "EMP_PPP",
          "author": "ECC2",
          "error": 0.4820316324608671,
          "sample_id": "gnd"
         },
         {
          "Branch": "EMP_PPP",
          "author": "Exp_ECC2",
          "error": 0.06388614437305862,
          "sample_id": "gnd"
         },
         {
          "Branch": "EMP_PPP",
          "author": "Exp_iML1515",
          "error": 0.04318840579710492,
          "sample_id": "gnd"
         },
         {
          "Branch": "EMP_PPP",
          "author": "Khodayari",
          "error": 0.46257026079389074,
          "sample_id": "gnd"
         },
         {
          "Branch": "EMP_PPP",
          "author": "Kurata",
          "error": 0.9798168260406154,
          "sample_id": "gnd"
         },
         {
          "Branch": "EMP_PPP",
          "author": "Millard",
          "error": 0.1597478059847337,
          "sample_id": "gnd"
         },
         {
          "Branch": "EMP_PPP",
          "author": "iML1515",
          "error": 0.09561275455967011,
          "sample_id": "gnd"
         },
         {
          "Branch": "EMP_PPP",
          "author": "ECC2",
          "error": 0.9240931558644915,
          "sample_id": "gpmA"
         },
         {
          "Branch": "EMP_PPP",
          "author": "Exp_ECC2",
          "error": 0.8665770804054587,
          "sample_id": "gpmA"
         },
         {
          "Branch": "EMP_PPP",
          "author": "Exp_iML1515",
          "error": 0.010785205763417793,
          "sample_id": "gpmA"
         },
         {
          "Branch": "EMP_PPP",
          "author": "Khodayari",
          "error": null,
          "sample_id": "gpmA"
         },
         {
          "Branch": "EMP_PPP",
          "author": "Kurata",
          "error": null,
          "sample_id": "gpmA"
         },
         {
          "Branch": "EMP_PPP",
          "author": "Millard",
          "error": null,
          "sample_id": "gpmA"
         },
         {
          "Branch": "EMP_PPP",
          "author": "iML1515",
          "error": 0.14273168391820745,
          "sample_id": "gpmA"
         },
         {
          "Branch": "EMP_PPP",
          "author": "ECC2",
          "error": null,
          "sample_id": "gpmB"
         },
         {
          "Branch": "EMP_PPP",
          "author": "Exp_ECC2",
          "error": null,
          "sample_id": "gpmB"
         },
         {
          "Branch": "EMP_PPP",
          "author": "Exp_iML1515",
          "error": null,
          "sample_id": "gpmB"
         },
         {
          "Branch": "EMP_PPP",
          "author": "Khodayari",
          "error": null,
          "sample_id": "gpmB"
         },
         {
          "Branch": "EMP_PPP",
          "author": "Kurata",
          "error": null,
          "sample_id": "gpmB"
         },
         {
          "Branch": "EMP_PPP",
          "author": "Millard",
          "error": null,
          "sample_id": "gpmB"
         },
         {
          "Branch": "EMP_PPP",
          "author": "iML1515",
          "error": null,
          "sample_id": "gpmB"
         },
         {
          "Branch": "EMP_PPP",
          "author": "ECC2",
          "error": 0.9342044567475596,
          "sample_id": "pfkA"
         },
         {
          "Branch": "EMP_PPP",
          "author": "Exp_ECC2",
          "error": 0.8834852842333095,
          "sample_id": "pfkA"
         },
         {
          "Branch": "EMP_PPP",
          "author": "Exp_iML1515",
          "error": 0.013291925465838017,
          "sample_id": "pfkA"
         },
         {
          "Branch": "EMP_PPP",
          "author": "Khodayari",
          "error": 0.032386165435498104,
          "sample_id": "pfkA"
         },
         {
          "Branch": "EMP_PPP",
          "author": "Kurata",
          "error": 0.41888173883339325,
          "sample_id": "pfkA"
         },
         {
          "Branch": "EMP_PPP",
          "author": "Millard",
          "error": null,
          "sample_id": "pfkA"
         },
         {
          "Branch": "EMP_PPP",
          "author": "iML1515",
          "error": 0.1083551765753481,
          "sample_id": "pfkA"
         },
         {
          "Branch": "EMP_PPP",
          "author": "ECC2",
          "error": 0.6023141248572278,
          "sample_id": "pfkB"
         },
         {
          "Branch": "EMP_PPP",
          "author": "Exp_ECC2",
          "error": 0.5515949523429777,
          "sample_id": "pfkB"
         },
         {
          "Branch": "EMP_PPP",
          "author": "Exp_iML1515",
          "error": 0.3451822573561698,
          "sample_id": "pfkB"
         },
         {
          "Branch": "EMP_PPP",
          "author": "Khodayari",
          "error": 0.2995041664548337,
          "sample_id": "pfkB"
         },
         {
          "Branch": "EMP_PPP",
          "author": "Kurata",
          "error": 0.08699140694306146,
          "sample_id": "pfkB"
         },
         {
          "Branch": "EMP_PPP",
          "author": "Millard",
          "error": null,
          "sample_id": "pfkB"
         },
         {
          "Branch": "EMP_PPP",
          "author": "iML1515",
          "error": 0.2235351553149837,
          "sample_id": "pfkB"
         },
         {
          "Branch": "EMP_PPP",
          "author": "ECC2",
          "error": 0,
          "sample_id": "pgi"
         },
         {
          "Branch": "EMP_PPP",
          "author": "Exp_ECC2",
          "error": 0,
          "sample_id": "pgi"
         },
         {
          "Branch": "EMP_PPP",
          "author": "Exp_iML1515",
          "error": 0,
          "sample_id": "pgi"
         },
         {
          "Branch": "EMP_PPP",
          "author": "Khodayari",
          "error": 0,
          "sample_id": "pgi"
         },
         {
          "Branch": "EMP_PPP",
          "author": "Kurata",
          "error": 0,
          "sample_id": "pgi"
         },
         {
          "Branch": "EMP_PPP",
          "author": "Millard",
          "error": 0,
          "sample_id": "pgi"
         },
         {
          "Branch": "EMP_PPP",
          "author": "iML1515",
          "error": 0,
          "sample_id": "pgi"
         },
         {
          "Branch": "EMP_PPP",
          "author": "ECC2",
          "error": 0.20408163265306123,
          "sample_id": "pgl"
         },
         {
          "Branch": "EMP_PPP",
          "author": "Exp_ECC2",
          "error": 0.20408163265306123,
          "sample_id": "pgl"
         },
         {
          "Branch": "EMP_PPP",
          "author": "Exp_iML1515",
          "error": 0.20408163265306123,
          "sample_id": "pgl"
         },
         {
          "Branch": "EMP_PPP",
          "author": "Khodayari",
          "error": 8.257334263905847e-05,
          "sample_id": "pgl"
         },
         {
          "Branch": "EMP_PPP",
          "author": "Kurata",
          "error": null,
          "sample_id": "pgl"
         },
         {
          "Branch": "EMP_PPP",
          "author": "Millard",
          "error": 0.20041972168133282,
          "sample_id": "pgl"
         },
         {
          "Branch": "EMP_PPP",
          "author": "iML1515",
          "error": 0.20408163265306123,
          "sample_id": "pgl"
         },
         {
          "Branch": "EMP_PPP",
          "author": "ECC2",
          "error": null,
          "sample_id": "pgm"
         },
         {
          "Branch": "EMP_PPP",
          "author": "Exp_ECC2",
          "error": null,
          "sample_id": "pgm"
         },
         {
          "Branch": "EMP_PPP",
          "author": "Exp_iML1515",
          "error": null,
          "sample_id": "pgm"
         },
         {
          "Branch": "EMP_PPP",
          "author": "Khodayari",
          "error": null,
          "sample_id": "pgm"
         },
         {
          "Branch": "EMP_PPP",
          "author": "Kurata",
          "error": null,
          "sample_id": "pgm"
         },
         {
          "Branch": "EMP_PPP",
          "author": "Millard",
          "error": null,
          "sample_id": "pgm"
         },
         {
          "Branch": "EMP_PPP",
          "author": "iML1515",
          "error": null,
          "sample_id": "pgm"
         },
         {
          "Branch": "EMP_PPP",
          "author": "ECC2",
          "error": null,
          "sample_id": "ppc"
         },
         {
          "Branch": "EMP_PPP",
          "author": "Exp_ECC2",
          "error": null,
          "sample_id": "ppc"
         },
         {
          "Branch": "EMP_PPP",
          "author": "Exp_iML1515",
          "error": null,
          "sample_id": "ppc"
         },
         {
          "Branch": "EMP_PPP",
          "author": "Khodayari",
          "error": null,
          "sample_id": "ppc"
         },
         {
          "Branch": "EMP_PPP",
          "author": "Kurata",
          "error": null,
          "sample_id": "ppc"
         },
         {
          "Branch": "EMP_PPP",
          "author": "Millard",
          "error": null,
          "sample_id": "ppc"
         },
         {
          "Branch": "EMP_PPP",
          "author": "iML1515",
          "error": null,
          "sample_id": "ppc"
         },
         {
          "Branch": "EMP_PPP",
          "author": "ECC2",
          "error": 0.297952489665889,
          "sample_id": "ppsA"
         },
         {
          "Branch": "EMP_PPP",
          "author": "Exp_ECC2",
          "error": 0.16286835716405168,
          "sample_id": "ppsA"
         },
         {
          "Branch": "EMP_PPP",
          "author": "Exp_iML1515",
          "error": 0.18356609574000882,
          "sample_id": "ppsA"
         },
         {
          "Branch": "EMP_PPP",
          "author": "Khodayari",
          "error": 0.1210657919742284,
          "sample_id": "ppsA"
         },
         {
          "Branch": "EMP_PPP",
          "author": "Kurata",
          "error": 0.06090679770355922,
          "sample_id": "ppsA"
         },
         {
          "Branch": "EMP_PPP",
          "author": "Millard",
          "error": 0.1483763947245793,
          "sample_id": "ppsA"
         },
         {
          "Branch": "EMP_PPP",
          "author": "iML1515",
          "error": 0.06191899369882681,
          "sample_id": "ppsA"
         },
         {
          "Branch": "EMP_PPP",
          "author": "ECC2",
          "error": null,
          "sample_id": "pts"
         },
         {
          "Branch": "EMP_PPP",
          "author": "Exp_ECC2",
          "error": null,
          "sample_id": "pts"
         },
         {
          "Branch": "EMP_PPP",
          "author": "Exp_iML1515",
          "error": null,
          "sample_id": "pts"
         },
         {
          "Branch": "EMP_PPP",
          "author": "Khodayari",
          "error": null,
          "sample_id": "pts"
         },
         {
          "Branch": "EMP_PPP",
          "author": "Kurata",
          "error": null,
          "sample_id": "pts"
         },
         {
          "Branch": "EMP_PPP",
          "author": "Millard",
          "error": null,
          "sample_id": "pts"
         },
         {
          "Branch": "EMP_PPP",
          "author": "iML1515",
          "error": null,
          "sample_id": "pts"
         },
         {
          "Branch": "EMP_PPP",
          "author": "ECC2",
          "error": 0.36618584361352974,
          "sample_id": "pykA"
         },
         {
          "Branch": "EMP_PPP",
          "author": "Exp_ECC2",
          "error": 0.09421080057946818,
          "sample_id": "pykA"
         },
         {
          "Branch": "EMP_PPP",
          "author": "Exp_iML1515",
          "error": 0.11533274179236819,
          "sample_id": "pykA"
         },
         {
          "Branch": "EMP_PPP",
          "author": "Khodayari",
          "error": 0.03186671021629206,
          "sample_id": "pykA"
         },
         {
          "Branch": "EMP_PPP",
          "author": "Kurata",
          "error": 0.3102188143508662,
          "sample_id": "pykA"
         },
         {
          "Branch": "EMP_PPP",
          "author": "Millard",
          "error": 0.09962176837692815,
          "sample_id": "pykA"
         },
         {
          "Branch": "EMP_PPP",
          "author": "iML1515",
          "error": 0.0063143602488128225,
          "sample_id": "pykA"
         },
         {
          "Branch": "EMP_PPP",
          "author": "ECC2",
          "error": 0.08583127754467801,
          "sample_id": "pykF"
         },
         {
          "Branch": "EMP_PPP",
          "author": "Exp_ECC2",
          "error": 0.3745653666483199,
          "sample_id": "pykF"
         },
         {
          "Branch": "EMP_PPP",
          "author": "Exp_iML1515",
          "error": 0.3956873078612199,
          "sample_id": "pykF"
         },
         {
          "Branch": "EMP_PPP",
          "author": "Khodayari",
          "error": 0.29965589394982534,
          "sample_id": "pykF"
         },
         {
          "Branch": "EMP_PPP",
          "author": "Kurata",
          "error": 0.02986424828201445,
          "sample_id": "pykF"
         },
         {
          "Branch": "EMP_PPP",
          "author": "Millard",
          "error": 0.18073279769192357,
          "sample_id": "pykF"
         },
         {
          "Branch": "EMP_PPP",
          "author": "iML1515",
          "error": 0.2740402058200389,
          "sample_id": "pykF"
         },
         {
          "Branch": "EMP_PPP",
          "author": "ECC2",
          "error": 0.4597954970809607,
          "sample_id": "rpe"
         },
         {
          "Branch": "EMP_PPP",
          "author": "Exp_ECC2",
          "error": 0.048435755456899154,
          "sample_id": "rpe"
         },
         {
          "Branch": "EMP_PPP",
          "author": "Exp_iML1515",
          "error": 0.02589331818182461,
          "sample_id": "rpe"
         },
         {
          "Branch": "EMP_PPP",
          "author": "Khodayari",
          "error": 0.13263935677228011,
          "sample_id": "rpe"
         },
         {
          "Branch": "EMP_PPP",
          "author": "Kurata",
          "error": null,
          "sample_id": "rpe"
         },
         {
          "Branch": "EMP_PPP",
          "author": "Millard",
          "error": 0.09319431914676624,
          "sample_id": "rpe"
         },
         {
          "Branch": "EMP_PPP",
          "author": "iML1515",
          "error": 0.07258937125422948,
          "sample_id": "rpe"
         },
         {
          "Branch": "EMP_PPP",
          "author": "ECC2",
          "error": null,
          "sample_id": "rpiA"
         },
         {
          "Branch": "EMP_PPP",
          "author": "Exp_ECC2",
          "error": null,
          "sample_id": "rpiA"
         },
         {
          "Branch": "EMP_PPP",
          "author": "Exp_iML1515",
          "error": 0.009205240905847734,
          "sample_id": "rpiA"
         },
         {
          "Branch": "EMP_PPP",
          "author": "Khodayari",
          "error": 0.024601138703367775,
          "sample_id": "rpiA"
         },
         {
          "Branch": "EMP_PPP",
          "author": "Kurata",
          "error": 0.2396101777894032,
          "sample_id": "rpiA"
         },
         {
          "Branch": "EMP_PPP",
          "author": "Millard",
          "error": 0.10859242999996499,
          "sample_id": "rpiA"
         },
         {
          "Branch": "EMP_PPP",
          "author": "iML1515",
          "error": 0.01530284763608547,
          "sample_id": "rpiA"
         },
         {
          "Branch": "EMP_PPP",
          "author": "ECC2",
          "error": null,
          "sample_id": "rpiB"
         },
         {
          "Branch": "EMP_PPP",
          "author": "Exp_ECC2",
          "error": null,
          "sample_id": "rpiB"
         },
         {
          "Branch": "EMP_PPP",
          "author": "Exp_iML1515",
          "error": 0.1593167133303922,
          "sample_id": "rpiB"
         },
         {
          "Branch": "EMP_PPP",
          "author": "Khodayari",
          "error": 0.14392081553287217,
          "sample_id": "rpiB"
         },
         {
          "Branch": "EMP_PPP",
          "author": "Kurata",
          "error": 0.07108822355316324,
          "sample_id": "rpiB"
         },
         {
          "Branch": "EMP_PPP",
          "author": "Millard",
          "error": 0.27711438423620494,
          "sample_id": "rpiB"
         },
         {
          "Branch": "EMP_PPP",
          "author": "iML1515",
          "error": 0.15321910660015448,
          "sample_id": "rpiB"
         },
         {
          "Branch": "EMP_PPP",
          "author": "ECC2",
          "error": null,
          "sample_id": "sdhCD"
         },
         {
          "Branch": "EMP_PPP",
          "author": "Exp_ECC2",
          "error": null,
          "sample_id": "sdhCD"
         },
         {
          "Branch": "EMP_PPP",
          "author": "Exp_iML1515",
          "error": null,
          "sample_id": "sdhCD"
         },
         {
          "Branch": "EMP_PPP",
          "author": "Khodayari",
          "error": null,
          "sample_id": "sdhCD"
         },
         {
          "Branch": "EMP_PPP",
          "author": "Kurata",
          "error": null,
          "sample_id": "sdhCD"
         },
         {
          "Branch": "EMP_PPP",
          "author": "Millard",
          "error": null,
          "sample_id": "sdhCD"
         },
         {
          "Branch": "EMP_PPP",
          "author": "iML1515",
          "error": null,
          "sample_id": "sdhCD"
         },
         {
          "Branch": "EMP_PPP",
          "author": "ECC2",
          "error": null,
          "sample_id": "sucA"
         },
         {
          "Branch": "EMP_PPP",
          "author": "Exp_ECC2",
          "error": null,
          "sample_id": "sucA"
         },
         {
          "Branch": "EMP_PPP",
          "author": "Exp_iML1515",
          "error": null,
          "sample_id": "sucA"
         },
         {
          "Branch": "EMP_PPP",
          "author": "Khodayari",
          "error": null,
          "sample_id": "sucA"
         },
         {
          "Branch": "EMP_PPP",
          "author": "Kurata",
          "error": null,
          "sample_id": "sucA"
         },
         {
          "Branch": "EMP_PPP",
          "author": "Millard",
          "error": null,
          "sample_id": "sucA"
         },
         {
          "Branch": "EMP_PPP",
          "author": "iML1515",
          "error": null,
          "sample_id": "sucA"
         },
         {
          "Branch": "EMP_PPP",
          "author": "ECC2",
          "error": null,
          "sample_id": "sucAB"
         },
         {
          "Branch": "EMP_PPP",
          "author": "Exp_ECC2",
          "error": null,
          "sample_id": "sucAB"
         },
         {
          "Branch": "EMP_PPP",
          "author": "Exp_iML1515",
          "error": null,
          "sample_id": "sucAB"
         },
         {
          "Branch": "EMP_PPP",
          "author": "Khodayari",
          "error": null,
          "sample_id": "sucAB"
         },
         {
          "Branch": "EMP_PPP",
          "author": "Kurata",
          "error": null,
          "sample_id": "sucAB"
         },
         {
          "Branch": "EMP_PPP",
          "author": "Millard",
          "error": null,
          "sample_id": "sucAB"
         },
         {
          "Branch": "EMP_PPP",
          "author": "iML1515",
          "error": null,
          "sample_id": "sucAB"
         },
         {
          "Branch": "EMP_PPP",
          "author": "ECC2",
          "error": 0.37401538937193796,
          "sample_id": "talA"
         },
         {
          "Branch": "EMP_PPP",
          "author": "Exp_ECC2",
          "error": 0.04065434524511824,
          "sample_id": "talA"
         },
         {
          "Branch": "EMP_PPP",
          "author": "Exp_iML1515",
          "error": 0.0030878438331851665,
          "sample_id": "talA"
         },
         {
          "Branch": "EMP_PPP",
          "author": "Khodayari",
          "error": 0.06676157702948671,
          "sample_id": "talA"
         },
         {
          "Branch": "EMP_PPP",
          "author": "Kurata",
          "error": 0.422891064090334,
          "sample_id": "talA"
         },
         {
          "Branch": "EMP_PPP",
          "author": "Millard",
          "error": null,
          "sample_id": "talA"
         },
         {
          "Branch": "EMP_PPP",
          "author": "iML1515",
          "error": 0.1185592582079974,
          "sample_id": "talA"
         },
         {
          "Branch": "EMP_PPP",
          "author": "ECC2",
          "error": null,
          "sample_id": "talAB"
         },
         {
          "Branch": "EMP_PPP",
          "author": "Exp_ECC2",
          "error": null,
          "sample_id": "talAB"
         },
         {
          "Branch": "EMP_PPP",
          "author": "Exp_iML1515",
          "error": null,
          "sample_id": "talAB"
         },
         {
          "Branch": "EMP_PPP",
          "author": "Khodayari",
          "error": null,
          "sample_id": "talAB"
         },
         {
          "Branch": "EMP_PPP",
          "author": "Kurata",
          "error": null,
          "sample_id": "talAB"
         },
         {
          "Branch": "EMP_PPP",
          "author": "Millard",
          "error": null,
          "sample_id": "talAB"
         },
         {
          "Branch": "EMP_PPP",
          "author": "iML1515",
          "error": null,
          "sample_id": "talAB"
         },
         {
          "Branch": "EMP_PPP",
          "author": "ECC2",
          "error": null,
          "sample_id": "talB"
         },
         {
          "Branch": "EMP_PPP",
          "author": "Exp_ECC2",
          "error": null,
          "sample_id": "talB"
         },
         {
          "Branch": "EMP_PPP",
          "author": "Exp_iML1515",
          "error": null,
          "sample_id": "talB"
         },
         {
          "Branch": "EMP_PPP",
          "author": "Khodayari",
          "error": null,
          "sample_id": "talB"
         },
         {
          "Branch": "EMP_PPP",
          "author": "Kurata",
          "error": 0.42423099400169256,
          "sample_id": "talB"
         },
         {
          "Branch": "EMP_PPP",
          "author": "Millard",
          "error": null,
          "sample_id": "talB"
         },
         {
          "Branch": "EMP_PPP",
          "author": "iML1515",
          "error": null,
          "sample_id": "talB"
         },
         {
          "Branch": "EMP_PPP",
          "author": "ECC2",
          "error": 0.29454723847521563,
          "sample_id": "tktA"
         },
         {
          "Branch": "EMP_PPP",
          "author": "Exp_ECC2",
          "error": 0.12012249614184056,
          "sample_id": "tktA"
         },
         {
          "Branch": "EMP_PPP",
          "author": "Exp_iML1515",
          "error": 0.14177262758014308,
          "sample_id": "tktA"
         },
         {
          "Branch": "EMP_PPP",
          "author": "Khodayari",
          "error": 0.009931967439015033,
          "sample_id": "tktA"
         },
         {
          "Branch": "EMP_PPP",
          "author": "Kurata",
          "error": 0.3412246678050353,
          "sample_id": "tktA"
         },
         {
          "Branch": "EMP_PPP",
          "author": "Millard",
          "error": 0.03578766910217979,
          "sample_id": "tktA"
         },
         {
          "Branch": "EMP_PPP",
          "author": "iML1515",
          "error": 0.0922838894850515,
          "sample_id": "tktA"
         },
         {
          "Branch": "EMP_PPP",
          "author": "ECC2",
          "error": 0.3753553192832965,
          "sample_id": "tktB"
         },
         {
          "Branch": "EMP_PPP",
          "author": "Exp_ECC2",
          "error": 0.03931441533375968,
          "sample_id": "tktB"
         },
         {
          "Branch": "EMP_PPP",
          "author": "Exp_iML1515",
          "error": 0.0609645467720622,
          "sample_id": "tktB"
         },
         {
          "Branch": "EMP_PPP",
          "author": "Khodayari",
          "error": 0.07087611336906585,
          "sample_id": "tktB"
         },
         {
          "Branch": "EMP_PPP",
          "author": "Kurata",
          "error": 0.4220327486131162,
          "sample_id": "tktB"
         },
         {
          "Branch": "EMP_PPP",
          "author": "Millard",
          "error": null,
          "sample_id": "tktB"
         },
         {
          "Branch": "EMP_PPP",
          "author": "iML1515",
          "error": 0.011475808676970622,
          "sample_id": "tktB"
         },
         {
          "Branch": "EMP_PPP",
          "author": "ECC2",
          "error": null,
          "sample_id": "tpi"
         },
         {
          "Branch": "EMP_PPP",
          "author": "Exp_ECC2",
          "error": null,
          "sample_id": "tpi"
         },
         {
          "Branch": "EMP_PPP",
          "author": "Exp_iML1515",
          "error": null,
          "sample_id": "tpi"
         },
         {
          "Branch": "EMP_PPP",
          "author": "Khodayari",
          "error": null,
          "sample_id": "tpi"
         },
         {
          "Branch": "EMP_PPP",
          "author": "Kurata",
          "error": null,
          "sample_id": "tpi"
         },
         {
          "Branch": "EMP_PPP",
          "author": "Millard",
          "error": null,
          "sample_id": "tpi"
         },
         {
          "Branch": "EMP_PPP",
          "author": "iML1515",
          "error": null,
          "sample_id": "tpi"
         },
         {
          "Branch": "EMP_PPP",
          "author": "ECC2",
          "error": 0,
          "sample_id": "zwf"
         },
         {
          "Branch": "EMP_PPP",
          "author": "Exp_ECC2",
          "error": 0,
          "sample_id": "zwf"
         },
         {
          "Branch": "EMP_PPP",
          "author": "Exp_iML1515",
          "error": 0,
          "sample_id": "zwf"
         },
         {
          "Branch": "EMP_PPP",
          "author": "Khodayari",
          "error": 0,
          "sample_id": "zwf"
         },
         {
          "Branch": "EMP_PPP",
          "author": "Kurata",
          "error": 0,
          "sample_id": "zwf"
         },
         {
          "Branch": "EMP_PPP",
          "author": "Millard",
          "error": 0,
          "sample_id": "zwf"
         },
         {
          "Branch": "EMP_PPP",
          "author": "iML1515",
          "error": 0,
          "sample_id": "zwf"
         },
         {
          "Branch": "PYK_PPC",
          "author": "ECC2",
          "error": 0.7899159663865546,
          "sample_id": "WT"
         },
         {
          "Branch": "PYK_PPC",
          "author": "Exp_ECC2",
          "error": 0.01728768281188464,
          "sample_id": "WT"
         },
         {
          "Branch": "PYK_PPC",
          "author": "Exp_iML1515",
          "error": 0.051638902713274204,
          "sample_id": "WT"
         },
         {
          "Branch": "PYK_PPC",
          "author": "Khodayari",
          "error": 0.15700134196789495,
          "sample_id": "WT"
         },
         {
          "Branch": "PYK_PPC",
          "author": "Kurata",
          "error": 0.6504220234256912,
          "sample_id": "WT"
         },
         {
          "Branch": "PYK_PPC",
          "author": "Millard",
          "error": 0.1347661274862494,
          "sample_id": "WT"
         },
         {
          "Branch": "PYK_PPC",
          "author": "iML1515",
          "error": 0.7899159663865546,
          "sample_id": "WT"
         },
         {
          "Branch": "PYK_PPC",
          "author": "ECC2",
          "error": null,
          "sample_id": "fbaA"
         },
         {
          "Branch": "PYK_PPC",
          "author": "Exp_ECC2",
          "error": null,
          "sample_id": "fbaA"
         },
         {
          "Branch": "PYK_PPC",
          "author": "Exp_iML1515",
          "error": null,
          "sample_id": "fbaA"
         },
         {
          "Branch": "PYK_PPC",
          "author": "Khodayari",
          "error": null,
          "sample_id": "fbaA"
         },
         {
          "Branch": "PYK_PPC",
          "author": "Kurata",
          "error": null,
          "sample_id": "fbaA"
         },
         {
          "Branch": "PYK_PPC",
          "author": "Millard",
          "error": null,
          "sample_id": "fbaA"
         },
         {
          "Branch": "PYK_PPC",
          "author": "iML1515",
          "error": null,
          "sample_id": "fbaA"
         },
         {
          "Branch": "PYK_PPC",
          "author": "ECC2",
          "error": 0.8181818181818182,
          "sample_id": "fbaB"
         },
         {
          "Branch": "PYK_PPC",
          "author": "Exp_ECC2",
          "error": 0.8181818181818182,
          "sample_id": "fbaB"
         },
         {
          "Branch": "PYK_PPC",
          "author": "Exp_iML1515",
          "error": 0.8181818181818182,
          "sample_id": "fbaB"
         },
         {
          "Branch": "PYK_PPC",
          "author": "Khodayari",
          "error": 0.13245976180194552,
          "sample_id": "fbaB"
         },
         {
          "Branch": "PYK_PPC",
          "author": "Kurata",
          "error": 0.6786906481777104,
          "sample_id": "fbaB"
         },
         {
          "Branch": "PYK_PPC",
          "author": "Millard",
          "error": null,
          "sample_id": "fbaB"
         },
         {
          "Branch": "PYK_PPC",
          "author": "iML1515",
          "error": 0.8181818181818182,
          "sample_id": "fbaB"
         },
         {
          "Branch": "PYK_PPC",
          "author": "ECC2",
          "error": 0.9827586206896551,
          "sample_id": "fbp"
         },
         {
          "Branch": "PYK_PPC",
          "author": "Exp_ECC2",
          "error": 0.21013033711498452,
          "sample_id": "fbp"
         },
         {
          "Branch": "PYK_PPC",
          "author": "Exp_iML1515",
          "error": 0.3038190480687214,
          "sample_id": "fbp"
         },
         {
          "Branch": "PYK_PPC",
          "author": "Khodayari",
          "error": 0.3481420417133929,
          "sample_id": "fbp"
         },
         {
          "Branch": "PYK_PPC",
          "author": "Kurata",
          "error": 0.8432745905371596,
          "sample_id": "fbp"
         },
         {
          "Branch": "PYK_PPC",
          "author": "Millard",
          "error": 0.3276376756558176,
          "sample_id": "fbp"
         },
         {
          "Branch": "PYK_PPC",
          "author": "iML1515",
          "error": 0.9827586206896551,
          "sample_id": "fbp"
         },
         {
          "Branch": "PYK_PPC",
          "author": "ECC2",
          "error": null,
          "sample_id": "glk"
         },
         {
          "Branch": "PYK_PPC",
          "author": "Exp_ECC2",
          "error": null,
          "sample_id": "glk"
         },
         {
          "Branch": "PYK_PPC",
          "author": "Exp_iML1515",
          "error": null,
          "sample_id": "glk"
         },
         {
          "Branch": "PYK_PPC",
          "author": "Khodayari",
          "error": null,
          "sample_id": "glk"
         },
         {
          "Branch": "PYK_PPC",
          "author": "Kurata",
          "error": null,
          "sample_id": "glk"
         },
         {
          "Branch": "PYK_PPC",
          "author": "Millard",
          "error": null,
          "sample_id": "glk"
         },
         {
          "Branch": "PYK_PPC",
          "author": "iML1515",
          "error": null,
          "sample_id": "glk"
         },
         {
          "Branch": "PYK_PPC",
          "author": "ECC2",
          "error": 0.9571428571428572,
          "sample_id": "gnd"
         },
         {
          "Branch": "PYK_PPC",
          "author": "Exp_ECC2",
          "error": 0.18451457356819168,
          "sample_id": "gnd"
         },
         {
          "Branch": "PYK_PPC",
          "author": "Exp_iML1515",
          "error": 0.255386517538596,
          "sample_id": "gnd"
         },
         {
          "Branch": "PYK_PPC",
          "author": "Khodayari",
          "error": null,
          "sample_id": "gnd"
         },
         {
          "Branch": "PYK_PPC",
          "author": "Kurata",
          "error": null,
          "sample_id": "gnd"
         },
         {
          "Branch": "PYK_PPC",
          "author": "Millard",
          "error": 0.3558561260667661,
          "sample_id": "gnd"
         },
         {
          "Branch": "PYK_PPC",
          "author": "iML1515",
          "error": 0.9571428571428572,
          "sample_id": "gnd"
         },
         {
          "Branch": "PYK_PPC",
          "author": "ECC2",
          "error": null,
          "sample_id": "gpmA"
         },
         {
          "Branch": "PYK_PPC",
          "author": "Exp_ECC2",
          "error": 0.7192982456140351,
          "sample_id": "gpmA"
         },
         {
          "Branch": "PYK_PPC",
          "author": "Exp_iML1515",
          "error": 0.14789577194327652,
          "sample_id": "gpmA"
         },
         {
          "Branch": "PYK_PPC",
          "author": "Khodayari",
          "error": null,
          "sample_id": "gpmA"
         },
         {
          "Branch": "PYK_PPC",
          "author": "Kurata",
          "error": null,
          "sample_id": "gpmA"
         },
         {
          "Branch": "PYK_PPC",
          "author": "Millard",
          "error": null,
          "sample_id": "gpmA"
         },
         {
          "Branch": "PYK_PPC",
          "author": "iML1515",
          "error": 0.7192982456140351,
          "sample_id": "gpmA"
         },
         {
          "Branch": "PYK_PPC",
          "author": "ECC2",
          "error": null,
          "sample_id": "gpmB"
         },
         {
          "Branch": "PYK_PPC",
          "author": "Exp_ECC2",
          "error": null,
          "sample_id": "gpmB"
         },
         {
          "Branch": "PYK_PPC",
          "author": "Exp_iML1515",
          "error": null,
          "sample_id": "gpmB"
         },
         {
          "Branch": "PYK_PPC",
          "author": "Khodayari",
          "error": null,
          "sample_id": "gpmB"
         },
         {
          "Branch": "PYK_PPC",
          "author": "Kurata",
          "error": null,
          "sample_id": "gpmB"
         },
         {
          "Branch": "PYK_PPC",
          "author": "Millard",
          "error": null,
          "sample_id": "gpmB"
         },
         {
          "Branch": "PYK_PPC",
          "author": "iML1515",
          "error": null,
          "sample_id": "gpmB"
         },
         {
          "Branch": "PYK_PPC",
          "author": "ECC2",
          "error": 0.7413793103448276,
          "sample_id": "pfkA"
         },
         {
          "Branch": "PYK_PPC",
          "author": "Exp_ECC2",
          "error": 0.7413793103448276,
          "sample_id": "pfkA"
         },
         {
          "Branch": "PYK_PPC",
          "author": "Exp_iML1515",
          "error": 0.062439737723894884,
          "sample_id": "pfkA"
         },
         {
          "Branch": "PYK_PPC",
          "author": "Khodayari",
          "error": 0.03571326564394195,
          "sample_id": "pfkA"
         },
         {
          "Branch": "PYK_PPC",
          "author": "Kurata",
          "error": 0.53787802063697,
          "sample_id": "pfkA"
         },
         {
          "Branch": "PYK_PPC",
          "author": "Millard",
          "error": null,
          "sample_id": "pfkA"
         },
         {
          "Branch": "PYK_PPC",
          "author": "iML1515",
          "error": 0.7413793103448276,
          "sample_id": "pfkA"
         },
         {
          "Branch": "PYK_PPC",
          "author": "ECC2",
          "error": 1,
          "sample_id": "pfkB"
         },
         {
          "Branch": "PYK_PPC",
          "author": "Exp_ECC2",
          "error": 1,
          "sample_id": "pfkB"
         },
         {
          "Branch": "PYK_PPC",
          "author": "Exp_iML1515",
          "error": 0.32106042737906726,
          "sample_id": "pfkB"
         },
         {
          "Branch": "PYK_PPC",
          "author": "Khodayari",
          "error": 0.2943339552991143,
          "sample_id": "pfkB"
         },
         {
          "Branch": "PYK_PPC",
          "author": "Kurata",
          "error": 0.7964987102921424,
          "sample_id": "pfkB"
         },
         {
          "Branch": "PYK_PPC",
          "author": "Millard",
          "error": null,
          "sample_id": "pfkB"
         },
         {
          "Branch": "PYK_PPC",
          "author": "iML1515",
          "error": 1,
          "sample_id": "pfkB"
         },
         {
          "Branch": "PYK_PPC",
          "author": "ECC2",
          "error": 1,
          "sample_id": "pgi"
         },
         {
          "Branch": "PYK_PPC",
          "author": "Exp_ECC2",
          "error": 0.3727559873940748,
          "sample_id": "pgi"
         },
         {
          "Branch": "PYK_PPC",
          "author": "Exp_iML1515",
          "error": 0.13626337856613835,
          "sample_id": "pgi"
         },
         {
          "Branch": "PYK_PPC",
          "author": "Khodayari",
          "error": 0.03498627450855141,
          "sample_id": "pgi"
         },
         {
          "Branch": "PYK_PPC",
          "author": "Kurata",
          "error": 0.8489732624007245,
          "sample_id": "pgi"
         },
         {
          "Branch": "PYK_PPC",
          "author": "Millard",
          "error": 0.10478714015293034,
          "sample_id": "pgi"
         },
         {
          "Branch": "PYK_PPC",
          "author": "iML1515",
          "error": 0.2196994513342979,
          "sample_id": "pgi"
         },
         {
          "Branch": "PYK_PPC",
          "author": "ECC2",
          "error": 0.3005441395443529,
          "sample_id": "pgl"
         },
         {
          "Branch": "PYK_PPC",
          "author": "Exp_ECC2",
          "error": 0.12325405015359892,
          "sample_id": "pgl"
         },
         {
          "Branch": "PYK_PPC",
          "author": "Exp_iML1515",
          "error": 0.14634049073753208,
          "sample_id": "pgl"
         },
         {
          "Branch": "PYK_PPC",
          "author": "Khodayari",
          "error": 0.19113221294434157,
          "sample_id": "pgl"
         },
         {
          "Branch": "PYK_PPC",
          "author": "Kurata",
          "error": null,
          "sample_id": "pgl"
         },
         {
          "Branch": "PYK_PPC",
          "author": "Millard",
          "error": 0.3443137929313881,
          "sample_id": "pgl"
         },
         {
          "Branch": "PYK_PPC",
          "author": "iML1515",
          "error": 0.3780272992100958,
          "sample_id": "pgl"
         },
         {
          "Branch": "PYK_PPC",
          "author": "ECC2",
          "error": null,
          "sample_id": "pgm"
         },
         {
          "Branch": "PYK_PPC",
          "author": "Exp_ECC2",
          "error": null,
          "sample_id": "pgm"
         },
         {
          "Branch": "PYK_PPC",
          "author": "Exp_iML1515",
          "error": null,
          "sample_id": "pgm"
         },
         {
          "Branch": "PYK_PPC",
          "author": "Khodayari",
          "error": null,
          "sample_id": "pgm"
         },
         {
          "Branch": "PYK_PPC",
          "author": "Kurata",
          "error": null,
          "sample_id": "pgm"
         },
         {
          "Branch": "PYK_PPC",
          "author": "Millard",
          "error": null,
          "sample_id": "pgm"
         },
         {
          "Branch": "PYK_PPC",
          "author": "iML1515",
          "error": null,
          "sample_id": "pgm"
         },
         {
          "Branch": "PYK_PPC",
          "author": "ECC2",
          "error": null,
          "sample_id": "ppc"
         },
         {
          "Branch": "PYK_PPC",
          "author": "Exp_ECC2",
          "error": null,
          "sample_id": "ppc"
         },
         {
          "Branch": "PYK_PPC",
          "author": "Exp_iML1515",
          "error": null,
          "sample_id": "ppc"
         },
         {
          "Branch": "PYK_PPC",
          "author": "Khodayari",
          "error": null,
          "sample_id": "ppc"
         },
         {
          "Branch": "PYK_PPC",
          "author": "Kurata",
          "error": null,
          "sample_id": "ppc"
         },
         {
          "Branch": "PYK_PPC",
          "author": "Millard",
          "error": null,
          "sample_id": "ppc"
         },
         {
          "Branch": "PYK_PPC",
          "author": "iML1515",
          "error": null,
          "sample_id": "ppc"
         },
         {
          "Branch": "PYK_PPC",
          "author": "ECC2",
          "error": 0.625,
          "sample_id": "ppsA"
         },
         {
          "Branch": "PYK_PPC",
          "author": "Exp_ECC2",
          "error": 0.1476282835746694,
          "sample_id": "ppsA"
         },
         {
          "Branch": "PYK_PPC",
          "author": "Exp_iML1515",
          "error": 0.05393957262093374,
          "sample_id": "ppsA"
         },
         {
          "Branch": "PYK_PPC",
          "author": "Khodayari",
          "error": 0.0267027683688007,
          "sample_id": "ppsA"
         },
         {
          "Branch": "PYK_PPC",
          "author": "Kurata",
          "error": 0.5425549074350653,
          "sample_id": "ppsA"
         },
         {
          "Branch": "PYK_PPC",
          "author": "Millard",
          "error": 0.030118615801684068,
          "sample_id": "ppsA"
         },
         {
          "Branch": "PYK_PPC",
          "author": "iML1515",
          "error": 0.625,
          "sample_id": "ppsA"
         },
         {
          "Branch": "PYK_PPC",
          "author": "ECC2",
          "error": null,
          "sample_id": "pts"
         },
         {
          "Branch": "PYK_PPC",
          "author": "Exp_ECC2",
          "error": null,
          "sample_id": "pts"
         },
         {
          "Branch": "PYK_PPC",
          "author": "Exp_iML1515",
          "error": null,
          "sample_id": "pts"
         },
         {
          "Branch": "PYK_PPC",
          "author": "Khodayari",
          "error": null,
          "sample_id": "pts"
         },
         {
          "Branch": "PYK_PPC",
          "author": "Kurata",
          "error": null,
          "sample_id": "pts"
         },
         {
          "Branch": "PYK_PPC",
          "author": "Millard",
          "error": null,
          "sample_id": "pts"
         },
         {
          "Branch": "PYK_PPC",
          "author": "iML1515",
          "error": null,
          "sample_id": "pts"
         },
         {
          "Branch": "PYK_PPC",
          "author": "ECC2",
          "error": 0.9107142857142857,
          "sample_id": "pykA"
         },
         {
          "Branch": "PYK_PPC",
          "author": "Exp_ECC2",
          "error": 0.9107142857142857,
          "sample_id": "pykA"
         },
         {
          "Branch": "PYK_PPC",
          "author": "Exp_iML1515",
          "error": 0.9107142857142857,
          "sample_id": "pykA"
         },
         {
          "Branch": "PYK_PPC",
          "author": "Khodayari",
          "error": 0.29031694131647423,
          "sample_id": "pykA"
         },
         {
          "Branch": "PYK_PPC",
          "author": "Kurata",
          "error": 0.8376198719973559,
          "sample_id": "pykA"
         },
         {
          "Branch": "PYK_PPC",
          "author": "Millard",
          "error": 0.9107142857142857,
          "sample_id": "pykA"
         },
         {
          "Branch": "PYK_PPC",
          "author": "iML1515",
          "error": 0.9107142857142857,
          "sample_id": "pykA"
         },
         {
          "Branch": "PYK_PPC",
          "author": "ECC2",
          "error": 1,
          "sample_id": "pykF"
         },
         {
          "Branch": "PYK_PPC",
          "author": "Exp_ECC2",
          "error": 1,
          "sample_id": "pykF"
         },
         {
          "Branch": "PYK_PPC",
          "author": "Exp_iML1515",
          "error": 1,
          "sample_id": "pykF"
         },
         {
          "Branch": "PYK_PPC",
          "author": "Khodayari",
          "error": 0.4750862861289047,
          "sample_id": "pykF"
         },
         {
          "Branch": "PYK_PPC",
          "author": "Kurata",
          "error": 0.9269055862830702,
          "sample_id": "pykF"
         },
         {
          "Branch": "PYK_PPC",
          "author": "Millard",
          "error": 1,
          "sample_id": "pykF"
         },
         {
          "Branch": "PYK_PPC",
          "author": "iML1515",
          "error": 1,
          "sample_id": "pykF"
         },
         {
          "Branch": "PYK_PPC",
          "author": "ECC2",
          "error": 1,
          "sample_id": "rpe"
         },
         {
          "Branch": "PYK_PPC",
          "author": "Exp_ECC2",
          "error": 0.22737171642532994,
          "sample_id": "rpe"
         },
         {
          "Branch": "PYK_PPC",
          "author": "Exp_iML1515",
          "error": 0.2985751739100875,
          "sample_id": "rpe"
         },
         {
          "Branch": "PYK_PPC",
          "author": "Khodayari",
          "error": 0.3123466759227408,
          "sample_id": "rpe"
         },
         {
          "Branch": "PYK_PPC",
          "author": "Kurata",
          "error": null,
          "sample_id": "rpe"
         },
         {
          "Branch": "PYK_PPC",
          "author": "Millard",
          "error": 0.3133204389707426,
          "sample_id": "rpe"
         },
         {
          "Branch": "PYK_PPC",
          "author": "iML1515",
          "error": 1,
          "sample_id": "rpe"
         },
         {
          "Branch": "PYK_PPC",
          "author": "ECC2",
          "error": null,
          "sample_id": "rpiA"
         },
         {
          "Branch": "PYK_PPC",
          "author": "Exp_ECC2",
          "error": null,
          "sample_id": "rpiA"
         },
         {
          "Branch": "PYK_PPC",
          "author": "Exp_iML1515",
          "error": 0.35134058717878613,
          "sample_id": "rpiA"
         },
         {
          "Branch": "PYK_PPC",
          "author": "Khodayari",
          "error": 3.2482242856203887,
          "sample_id": "rpiA"
         },
         {
          "Branch": "PYK_PPC",
          "author": "Kurata",
          "error": 0.8608316649848482,
          "sample_id": "rpiA"
         },
         {
          "Branch": "PYK_PPC",
          "author": "Millard",
          "error": 0.7860682732548403,
          "sample_id": "rpiA"
         },
         {
          "Branch": "PYK_PPC",
          "author": "iML1515",
          "error": 1,
          "sample_id": "rpiA"
         },
         {
          "Branch": "PYK_PPC",
          "author": "ECC2",
          "error": null,
          "sample_id": "rpiB"
         },
         {
          "Branch": "PYK_PPC",
          "author": "Exp_ECC2",
          "error": null,
          "sample_id": "rpiB"
         },
         {
          "Branch": "PYK_PPC",
          "author": "Exp_iML1515",
          "error": 0.23269651938217595,
          "sample_id": "rpiB"
         },
         {
          "Branch": "PYK_PPC",
          "author": "Khodayari",
          "error": 3.1295802178237784,
          "sample_id": "rpiB"
         },
         {
          "Branch": "PYK_PPC",
          "author": "Kurata",
          "error": 0.7421875971882379,
          "sample_id": "rpiB"
         },
         {
          "Branch": "PYK_PPC",
          "author": "Millard",
          "error": 0.6674242054582302,
          "sample_id": "rpiB"
         },
         {
          "Branch": "PYK_PPC",
          "author": "iML1515",
          "error": 0.8813559322033898,
          "sample_id": "rpiB"
         },
         {
          "Branch": "PYK_PPC",
          "author": "ECC2",
          "error": null,
          "sample_id": "sdhCD"
         },
         {
          "Branch": "PYK_PPC",
          "author": "Exp_ECC2",
          "error": null,
          "sample_id": "sdhCD"
         },
         {
          "Branch": "PYK_PPC",
          "author": "Exp_iML1515",
          "error": null,
          "sample_id": "sdhCD"
         },
         {
          "Branch": "PYK_PPC",
          "author": "Khodayari",
          "error": null,
          "sample_id": "sdhCD"
         },
         {
          "Branch": "PYK_PPC",
          "author": "Kurata",
          "error": null,
          "sample_id": "sdhCD"
         },
         {
          "Branch": "PYK_PPC",
          "author": "Millard",
          "error": null,
          "sample_id": "sdhCD"
         },
         {
          "Branch": "PYK_PPC",
          "author": "iML1515",
          "error": null,
          "sample_id": "sdhCD"
         },
         {
          "Branch": "PYK_PPC",
          "author": "ECC2",
          "error": null,
          "sample_id": "sucA"
         },
         {
          "Branch": "PYK_PPC",
          "author": "Exp_ECC2",
          "error": null,
          "sample_id": "sucA"
         },
         {
          "Branch": "PYK_PPC",
          "author": "Exp_iML1515",
          "error": null,
          "sample_id": "sucA"
         },
         {
          "Branch": "PYK_PPC",
          "author": "Khodayari",
          "error": null,
          "sample_id": "sucA"
         },
         {
          "Branch": "PYK_PPC",
          "author": "Kurata",
          "error": null,
          "sample_id": "sucA"
         },
         {
          "Branch": "PYK_PPC",
          "author": "Millard",
          "error": null,
          "sample_id": "sucA"
         },
         {
          "Branch": "PYK_PPC",
          "author": "iML1515",
          "error": null,
          "sample_id": "sucA"
         },
         {
          "Branch": "PYK_PPC",
          "author": "ECC2",
          "error": null,
          "sample_id": "sucAB"
         },
         {
          "Branch": "PYK_PPC",
          "author": "Exp_ECC2",
          "error": null,
          "sample_id": "sucAB"
         },
         {
          "Branch": "PYK_PPC",
          "author": "Exp_iML1515",
          "error": null,
          "sample_id": "sucAB"
         },
         {
          "Branch": "PYK_PPC",
          "author": "Khodayari",
          "error": null,
          "sample_id": "sucAB"
         },
         {
          "Branch": "PYK_PPC",
          "author": "Kurata",
          "error": null,
          "sample_id": "sucAB"
         },
         {
          "Branch": "PYK_PPC",
          "author": "Millard",
          "error": null,
          "sample_id": "sucAB"
         },
         {
          "Branch": "PYK_PPC",
          "author": "iML1515",
          "error": null,
          "sample_id": "sucAB"
         },
         {
          "Branch": "PYK_PPC",
          "author": "ECC2",
          "error": 0.6610169491525424,
          "sample_id": "talA"
         },
         {
          "Branch": "PYK_PPC",
          "author": "Exp_ECC2",
          "error": 0.111611334422128,
          "sample_id": "talA"
         },
         {
          "Branch": "PYK_PPC",
          "author": "Exp_iML1515",
          "error": 0.017922623468395682,
          "sample_id": "talA"
         },
         {
          "Branch": "PYK_PPC",
          "author": "Khodayari",
          "error": 0.025130769082285398,
          "sample_id": "talA"
         },
         {
          "Branch": "PYK_PPC",
          "author": "Kurata",
          "error": 0.5211085395661577,
          "sample_id": "talA"
         },
         {
          "Branch": "PYK_PPC",
          "author": "Millard",
          "error": null,
          "sample_id": "talA"
         },
         {
          "Branch": "PYK_PPC",
          "author": "iML1515",
          "error": 0.6610169491525424,
          "sample_id": "talA"
         },
         {
          "Branch": "PYK_PPC",
          "author": "ECC2",
          "error": null,
          "sample_id": "talAB"
         },
         {
          "Branch": "PYK_PPC",
          "author": "Exp_ECC2",
          "error": null,
          "sample_id": "talAB"
         },
         {
          "Branch": "PYK_PPC",
          "author": "Exp_iML1515",
          "error": null,
          "sample_id": "talAB"
         },
         {
          "Branch": "PYK_PPC",
          "author": "Khodayari",
          "error": null,
          "sample_id": "talAB"
         },
         {
          "Branch": "PYK_PPC",
          "author": "Kurata",
          "error": null,
          "sample_id": "talAB"
         },
         {
          "Branch": "PYK_PPC",
          "author": "Millard",
          "error": null,
          "sample_id": "talAB"
         },
         {
          "Branch": "PYK_PPC",
          "author": "iML1515",
          "error": null,
          "sample_id": "talAB"
         },
         {
          "Branch": "PYK_PPC",
          "author": "ECC2",
          "error": null,
          "sample_id": "talB"
         },
         {
          "Branch": "PYK_PPC",
          "author": "Exp_ECC2",
          "error": null,
          "sample_id": "talB"
         },
         {
          "Branch": "PYK_PPC",
          "author": "Exp_iML1515",
          "error": null,
          "sample_id": "talB"
         },
         {
          "Branch": "PYK_PPC",
          "author": "Khodayari",
          "error": null,
          "sample_id": "talB"
         },
         {
          "Branch": "PYK_PPC",
          "author": "Kurata",
          "error": 0.532222737954599,
          "sample_id": "talB"
         },
         {
          "Branch": "PYK_PPC",
          "author": "Millard",
          "error": null,
          "sample_id": "talB"
         },
         {
          "Branch": "PYK_PPC",
          "author": "iML1515",
          "error": null,
          "sample_id": "talB"
         },
         {
          "Branch": "PYK_PPC",
          "author": "ECC2",
          "error": 0.7741935483870968,
          "sample_id": "tktA"
         },
         {
          "Branch": "PYK_PPC",
          "author": "Exp_ECC2",
          "error": 0.001565264812426359,
          "sample_id": "tktA"
         },
         {
          "Branch": "PYK_PPC",
          "author": "Exp_iML1515",
          "error": 0.06422376567561128,
          "sample_id": "tktA"
         },
         {
          "Branch": "PYK_PPC",
          "author": "Khodayari",
          "error": 0.08701310026668618,
          "sample_id": "tktA"
         },
         {
          "Branch": "PYK_PPC",
          "author": "Kurata",
          "error": 0.629013786465704,
          "sample_id": "tktA"
         },
         {
          "Branch": "PYK_PPC",
          "author": "Millard",
          "error": 0.2908817599267382,
          "sample_id": "tktA"
         },
         {
          "Branch": "PYK_PPC",
          "author": "iML1515",
          "error": 0.7741935483870968,
          "sample_id": "tktA"
         },
         {
          "Branch": "PYK_PPC",
          "author": "ECC2",
          "error": 0.6557377049180327,
          "sample_id": "tktB"
         },
         {
          "Branch": "PYK_PPC",
          "author": "Exp_ECC2",
          "error": 0.11689057865663766,
          "sample_id": "tktB"
         },
         {
          "Branch": "PYK_PPC",
          "author": "Exp_iML1515",
          "error": 0.05423207779345274,
          "sample_id": "tktB"
         },
         {
          "Branch": "PYK_PPC",
          "author": "Khodayari",
          "error": 0.03144274320237783,
          "sample_id": "tktB"
         },
         {
          "Branch": "PYK_PPC",
          "author": "Kurata",
          "error": 0.51055794299664,
          "sample_id": "tktB"
         },
         {
          "Branch": "PYK_PPC",
          "author": "Millard",
          "error": null,
          "sample_id": "tktB"
         },
         {
          "Branch": "PYK_PPC",
          "author": "iML1515",
          "error": 0.6557377049180327,
          "sample_id": "tktB"
         },
         {
          "Branch": "PYK_PPC",
          "author": "ECC2",
          "error": null,
          "sample_id": "tpi"
         },
         {
          "Branch": "PYK_PPC",
          "author": "Exp_ECC2",
          "error": null,
          "sample_id": "tpi"
         },
         {
          "Branch": "PYK_PPC",
          "author": "Exp_iML1515",
          "error": null,
          "sample_id": "tpi"
         },
         {
          "Branch": "PYK_PPC",
          "author": "Khodayari",
          "error": null,
          "sample_id": "tpi"
         },
         {
          "Branch": "PYK_PPC",
          "author": "Kurata",
          "error": null,
          "sample_id": "tpi"
         },
         {
          "Branch": "PYK_PPC",
          "author": "Millard",
          "error": null,
          "sample_id": "tpi"
         },
         {
          "Branch": "PYK_PPC",
          "author": "iML1515",
          "error": null,
          "sample_id": "tpi"
         },
         {
          "Branch": "PYK_PPC",
          "author": "ECC2",
          "error": 0.4212337947167667,
          "sample_id": "zwf"
         },
         {
          "Branch": "PYK_PPC",
          "author": "Exp_ECC2",
          "error": 0.24394370532601273,
          "sample_id": "zwf"
         },
         {
          "Branch": "PYK_PPC",
          "author": "Exp_iML1515",
          "error": 0.2670301459099531,
          "sample_id": "zwf"
         },
         {
          "Branch": "PYK_PPC",
          "author": "Khodayari",
          "error": 1.5554004861664161,
          "sample_id": "zwf"
         },
         {
          "Branch": "PYK_PPC",
          "author": "Kurata",
          "error": 0.9039942734993526,
          "sample_id": "zwf"
         },
         {
          "Branch": "PYK_PPC",
          "author": "Millard",
          "error": 0.3458153258125012,
          "sample_id": "zwf"
         },
         {
          "Branch": "PYK_PPC",
          "author": "iML1515",
          "error": 0.49871695438246033,
          "sample_id": "zwf"
         },
         {
          "Branch": "TCA_ACE",
          "author": "ECC2",
          "error": 0.8801795987662508,
          "sample_id": "WT"
         },
         {
          "Branch": "TCA_ACE",
          "author": "Exp_ECC2",
          "error": 0.04511210357738982,
          "sample_id": "WT"
         },
         {
          "Branch": "TCA_ACE",
          "author": "Exp_iML1515",
          "error": 0.04511210357738982,
          "sample_id": "WT"
         },
         {
          "Branch": "TCA_ACE",
          "author": "Khodayari",
          "error": 0,
          "sample_id": "WT"
         },
         {
          "Branch": "TCA_ACE",
          "author": "Kurata",
          "error": 0.05685186036755574,
          "sample_id": "WT"
         },
         {
          "Branch": "TCA_ACE",
          "author": "Millard",
          "error": 0.0803048353363277,
          "sample_id": "WT"
         },
         {
          "Branch": "TCA_ACE",
          "author": "iML1515",
          "error": 0.600141688810004,
          "sample_id": "WT"
         },
         {
          "Branch": "TCA_ACE",
          "author": "ECC2",
          "error": null,
          "sample_id": "fbaA"
         },
         {
          "Branch": "TCA_ACE",
          "author": "Exp_ECC2",
          "error": null,
          "sample_id": "fbaA"
         },
         {
          "Branch": "TCA_ACE",
          "author": "Exp_iML1515",
          "error": null,
          "sample_id": "fbaA"
         },
         {
          "Branch": "TCA_ACE",
          "author": "Khodayari",
          "error": null,
          "sample_id": "fbaA"
         },
         {
          "Branch": "TCA_ACE",
          "author": "Kurata",
          "error": null,
          "sample_id": "fbaA"
         },
         {
          "Branch": "TCA_ACE",
          "author": "Millard",
          "error": null,
          "sample_id": "fbaA"
         },
         {
          "Branch": "TCA_ACE",
          "author": "iML1515",
          "error": null,
          "sample_id": "fbaA"
         },
         {
          "Branch": "TCA_ACE",
          "author": "ECC2",
          "error": 0.8109857824486907,
          "sample_id": "fbaB"
         },
         {
          "Branch": "TCA_ACE",
          "author": "Exp_ECC2",
          "error": 0.026292127577724478,
          "sample_id": "fbaB"
         },
         {
          "Branch": "TCA_ACE",
          "author": "Exp_iML1515",
          "error": 0.04511210357739048,
          "sample_id": "fbaB"
         },
         {
          "Branch": "TCA_ACE",
          "author": "Khodayari",
          "error": 0,
          "sample_id": "fbaB"
         },
         {
          "Branch": "TCA_ACE",
          "author": "Kurata",
          "error": 0.056906244478479695,
          "sample_id": "fbaB"
         },
         {
          "Branch": "TCA_ACE",
          "author": "Millard",
          "error": null,
          "sample_id": "fbaB"
         },
         {
          "Branch": "TCA_ACE",
          "author": "iML1515",
          "error": 0.6001416888100037,
          "sample_id": "fbaB"
         },
         {
          "Branch": "TCA_ACE",
          "author": "ECC2",
          "error": 0.8801795987662506,
          "sample_id": "fbp"
         },
         {
          "Branch": "TCA_ACE",
          "author": "Exp_ECC2",
          "error": 0.045112103577389595,
          "sample_id": "fbp"
         },
         {
          "Branch": "TCA_ACE",
          "author": "Exp_iML1515",
          "error": 0.04511210357739004,
          "sample_id": "fbp"
         },
         {
          "Branch": "TCA_ACE",
          "author": "Khodayari",
          "error": 0,
          "sample_id": "fbp"
         },
         {
          "Branch": "TCA_ACE",
          "author": "Kurata",
          "error": 0.05684621684454061,
          "sample_id": "fbp"
         },
         {
          "Branch": "TCA_ACE",
          "author": "Millard",
          "error": 0.08029918185317331,
          "sample_id": "fbp"
         },
         {
          "Branch": "TCA_ACE",
          "author": "iML1515",
          "error": 0.6001416888100036,
          "sample_id": "fbp"
         },
         {
          "Branch": "TCA_ACE",
          "author": "ECC2",
          "error": null,
          "sample_id": "glk"
         },
         {
          "Branch": "TCA_ACE",
          "author": "Exp_ECC2",
          "error": null,
          "sample_id": "glk"
         },
         {
          "Branch": "TCA_ACE",
          "author": "Exp_iML1515",
          "error": null,
          "sample_id": "glk"
         },
         {
          "Branch": "TCA_ACE",
          "author": "Khodayari",
          "error": null,
          "sample_id": "glk"
         },
         {
          "Branch": "TCA_ACE",
          "author": "Kurata",
          "error": null,
          "sample_id": "glk"
         },
         {
          "Branch": "TCA_ACE",
          "author": "Millard",
          "error": null,
          "sample_id": "glk"
         },
         {
          "Branch": "TCA_ACE",
          "author": "iML1515",
          "error": null,
          "sample_id": "glk"
         },
         {
          "Branch": "TCA_ACE",
          "author": "ECC2",
          "error": 0.7774888229738246,
          "sample_id": "gnd"
         },
         {
          "Branch": "TCA_ACE",
          "author": "Exp_ECC2",
          "error": 0.04281005180016306,
          "sample_id": "gnd"
         },
         {
          "Branch": "TCA_ACE",
          "author": "Exp_iML1515",
          "error": 0.04383839718595883,
          "sample_id": "gnd"
         },
         {
          "Branch": "TCA_ACE",
          "author": "Khodayari",
          "error": 0.00202391907017363,
          "sample_id": "gnd"
         },
         {
          "Branch": "TCA_ACE",
          "author": "Kurata",
          "error": 1,
          "sample_id": "gnd"
         },
         {
          "Branch": "TCA_ACE",
          "author": "Millard",
          "error": 0.08066042908674709,
          "sample_id": "gnd"
         },
         {
          "Branch": "TCA_ACE",
          "author": "iML1515",
          "error": 0.5447202241435218,
          "sample_id": "gnd"
         },
         {
          "Branch": "TCA_ACE",
          "author": "ECC2",
          "error": 0.6519804114623453,
          "sample_id": "gpmA"
         },
         {
          "Branch": "TCA_ACE",
          "author": "Exp_ECC2",
          "error": 0.04221981458770285,
          "sample_id": "gpmA"
         },
         {
          "Branch": "TCA_ACE",
          "author": "Exp_iML1515",
          "error": 0.060331111053794295,
          "sample_id": "gpmA"
         },
         {
          "Branch": "TCA_ACE",
          "author": "Khodayari",
          "error": null,
          "sample_id": "gpmA"
         },
         {
          "Branch": "TCA_ACE",
          "author": "Kurata",
          "error": null,
          "sample_id": "gpmA"
         },
         {
          "Branch": "TCA_ACE",
          "author": "Millard",
          "error": null,
          "sample_id": "gpmA"
         },
         {
          "Branch": "TCA_ACE",
          "author": "iML1515",
          "error": 0.5167106792408007,
          "sample_id": "gpmA"
         },
         {
          "Branch": "TCA_ACE",
          "author": "ECC2",
          "error": null,
          "sample_id": "gpmB"
         },
         {
          "Branch": "TCA_ACE",
          "author": "Exp_ECC2",
          "error": null,
          "sample_id": "gpmB"
         },
         {
          "Branch": "TCA_ACE",
          "author": "Exp_iML1515",
          "error": null,
          "sample_id": "gpmB"
         },
         {
          "Branch": "TCA_ACE",
          "author": "Khodayari",
          "error": null,
          "sample_id": "gpmB"
         },
         {
          "Branch": "TCA_ACE",
          "author": "Kurata",
          "error": null,
          "sample_id": "gpmB"
         },
         {
          "Branch": "TCA_ACE",
          "author": "Millard",
          "error": null,
          "sample_id": "gpmB"
         },
         {
          "Branch": "TCA_ACE",
          "author": "iML1515",
          "error": null,
          "sample_id": "gpmB"
         },
         {
          "Branch": "TCA_ACE",
          "author": "ECC2",
          "error": 0.8109857824486907,
          "sample_id": "pfkA"
         },
         {
          "Branch": "TCA_ACE",
          "author": "Exp_ECC2",
          "error": 0.026292127577725144,
          "sample_id": "pfkA"
         },
         {
          "Branch": "TCA_ACE",
          "author": "Exp_iML1515",
          "error": 0.04511210357739004,
          "sample_id": "pfkA"
         },
         {
          "Branch": "TCA_ACE",
          "author": "Khodayari",
          "error": 0,
          "sample_id": "pfkA"
         },
         {
          "Branch": "TCA_ACE",
          "author": "Kurata",
          "error": 0.03307558085692153,
          "sample_id": "pfkA"
         },
         {
          "Branch": "TCA_ACE",
          "author": "Millard",
          "error": null,
          "sample_id": "pfkA"
         },
         {
          "Branch": "TCA_ACE",
          "author": "iML1515",
          "error": 0.6001416888100003,
          "sample_id": "pfkA"
         },
         {
          "Branch": "TCA_ACE",
          "author": "ECC2",
          "error": 0.8109857824486907,
          "sample_id": "pfkB"
         },
         {
          "Branch": "TCA_ACE",
          "author": "Exp_ECC2",
          "error": 0.026292127577725144,
          "sample_id": "pfkB"
         },
         {
          "Branch": "TCA_ACE",
          "author": "Exp_iML1515",
          "error": 0.04511210357739004,
          "sample_id": "pfkB"
         },
         {
          "Branch": "TCA_ACE",
          "author": "Khodayari",
          "error": 0,
          "sample_id": "pfkB"
         },
         {
          "Branch": "TCA_ACE",
          "author": "Kurata",
          "error": 0.03307558085692153,
          "sample_id": "pfkB"
         },
         {
          "Branch": "TCA_ACE",
          "author": "Millard",
          "error": null,
          "sample_id": "pfkB"
         },
         {
          "Branch": "TCA_ACE",
          "author": "iML1515",
          "error": 0.6001416888100003,
          "sample_id": "pfkB"
         },
         {
          "Branch": "TCA_ACE",
          "author": "ECC2",
          "error": 0.880179598766251,
          "sample_id": "pgi"
         },
         {
          "Branch": "TCA_ACE",
          "author": "Exp_ECC2",
          "error": 0.06968923176733832,
          "sample_id": "pgi"
         },
         {
          "Branch": "TCA_ACE",
          "author": "Exp_iML1515",
          "error": 0.04511210357738915,
          "sample_id": "pgi"
         },
         {
          "Branch": "TCA_ACE",
          "author": "Khodayari",
          "error": 0.00420729464273828,
          "sample_id": "pgi"
         },
         {
          "Branch": "TCA_ACE",
          "author": "Kurata",
          "error": 0.8701430141739683,
          "sample_id": "pgi"
         },
         {
          "Branch": "TCA_ACE",
          "author": "Millard",
          "error": 0.08749274436104026,
          "sample_id": "pgi"
         },
         {
          "Branch": "TCA_ACE",
          "author": "iML1515",
          "error": 0.6001416888100007,
          "sample_id": "pgi"
         },
         {
          "Branch": "TCA_ACE",
          "author": "ECC2",
          "error": 0.7895413827092657,
          "sample_id": "pgl"
         },
         {
          "Branch": "TCA_ACE",
          "author": "Exp_ECC2",
          "error": 0.04283438274747997,
          "sample_id": "pgl"
         },
         {
          "Branch": "TCA_ACE",
          "author": "Exp_iML1515",
          "error": 0.04511210357740625,
          "sample_id": "pgl"
         },
         {
          "Branch": "TCA_ACE",
          "author": "Khodayari",
          "error": 0,
          "sample_id": "pgl"
         },
         {
          "Branch": "TCA_ACE",
          "author": "Kurata",
          "error": null,
          "sample_id": "pgl"
         },
         {
          "Branch": "TCA_ACE",
          "author": "Millard",
          "error": 0.08840928403194204,
          "sample_id": "pgl"
         },
         {
          "Branch": "TCA_ACE",
          "author": "iML1515",
          "error": 0.5836466997246713,
          "sample_id": "pgl"
         },
         {
          "Branch": "TCA_ACE",
          "author": "ECC2",
          "error": null,
          "sample_id": "pgm"
         },
         {
          "Branch": "TCA_ACE",
          "author": "Exp_ECC2",
          "error": null,
          "sample_id": "pgm"
         },
         {
          "Branch": "TCA_ACE",
          "author": "Exp_iML1515",
          "error": null,
          "sample_id": "pgm"
         },
         {
          "Branch": "TCA_ACE",
          "author": "Khodayari",
          "error": null,
          "sample_id": "pgm"
         },
         {
          "Branch": "TCA_ACE",
          "author": "Kurata",
          "error": null,
          "sample_id": "pgm"
         },
         {
          "Branch": "TCA_ACE",
          "author": "Millard",
          "error": null,
          "sample_id": "pgm"
         },
         {
          "Branch": "TCA_ACE",
          "author": "iML1515",
          "error": null,
          "sample_id": "pgm"
         },
         {
          "Branch": "TCA_ACE",
          "author": "ECC2",
          "error": null,
          "sample_id": "ppc"
         },
         {
          "Branch": "TCA_ACE",
          "author": "Exp_ECC2",
          "error": null,
          "sample_id": "ppc"
         },
         {
          "Branch": "TCA_ACE",
          "author": "Exp_iML1515",
          "error": null,
          "sample_id": "ppc"
         },
         {
          "Branch": "TCA_ACE",
          "author": "Khodayari",
          "error": null,
          "sample_id": "ppc"
         },
         {
          "Branch": "TCA_ACE",
          "author": "Kurata",
          "error": null,
          "sample_id": "ppc"
         },
         {
          "Branch": "TCA_ACE",
          "author": "Millard",
          "error": null,
          "sample_id": "ppc"
         },
         {
          "Branch": "TCA_ACE",
          "author": "iML1515",
          "error": null,
          "sample_id": "ppc"
         },
         {
          "Branch": "TCA_ACE",
          "author": "ECC2",
          "error": 0.8801795987662507,
          "sample_id": "ppsA"
         },
         {
          "Branch": "TCA_ACE",
          "author": "Exp_ECC2",
          "error": 0.045112103577389595,
          "sample_id": "ppsA"
         },
         {
          "Branch": "TCA_ACE",
          "author": "Exp_iML1515",
          "error": 0.04511210357739004,
          "sample_id": "ppsA"
         },
         {
          "Branch": "TCA_ACE",
          "author": "Khodayari",
          "error": 0,
          "sample_id": "ppsA"
         },
         {
          "Branch": "TCA_ACE",
          "author": "Kurata",
          "error": 0.530993314247057,
          "sample_id": "ppsA"
         },
         {
          "Branch": "TCA_ACE",
          "author": "Millard",
          "error": 0.08030438485773461,
          "sample_id": "ppsA"
         },
         {
          "Branch": "TCA_ACE",
          "author": "iML1515",
          "error": 0.6001416888100054,
          "sample_id": "ppsA"
         },
         {
          "Branch": "TCA_ACE",
          "author": "ECC2",
          "error": null,
          "sample_id": "pts"
         },
         {
          "Branch": "TCA_ACE",
          "author": "Exp_ECC2",
          "error": null,
          "sample_id": "pts"
         },
         {
          "Branch": "TCA_ACE",
          "author": "Exp_iML1515",
          "error": null,
          "sample_id": "pts"
         },
         {
          "Branch": "TCA_ACE",
          "author": "Khodayari",
          "error": null,
          "sample_id": "pts"
         },
         {
          "Branch": "TCA_ACE",
          "author": "Kurata",
          "error": null,
          "sample_id": "pts"
         },
         {
          "Branch": "TCA_ACE",
          "author": "Millard",
          "error": null,
          "sample_id": "pts"
         },
         {
          "Branch": "TCA_ACE",
          "author": "iML1515",
          "error": null,
          "sample_id": "pts"
         },
         {
          "Branch": "TCA_ACE",
          "author": "ECC2",
          "error": 0.8801795987662506,
          "sample_id": "pykA"
         },
         {
          "Branch": "TCA_ACE",
          "author": "Exp_ECC2",
          "error": 0.016070442212671843,
          "sample_id": "pykA"
         },
         {
          "Branch": "TCA_ACE",
          "author": "Exp_iML1515",
          "error": 0.04511210357738982,
          "sample_id": "pykA"
         },
         {
          "Branch": "TCA_ACE",
          "author": "Khodayari",
          "error": 0,
          "sample_id": "pykA"
         },
         {
          "Branch": "TCA_ACE",
          "author": "Kurata",
          "error": 0.0556141974423674,
          "sample_id": "pykA"
         },
         {
          "Branch": "TCA_ACE",
          "author": "Millard",
          "error": 0.08712239444680625,
          "sample_id": "pykA"
         },
         {
          "Branch": "TCA_ACE",
          "author": "iML1515",
          "error": 0.600141688810004,
          "sample_id": "pykA"
         },
         {
          "Branch": "TCA_ACE",
          "author": "ECC2",
          "error": 0.8801795987662506,
          "sample_id": "pykF"
         },
         {
          "Branch": "TCA_ACE",
          "author": "Exp_ECC2",
          "error": 0.016070442212671843,
          "sample_id": "pykF"
         },
         {
          "Branch": "TCA_ACE",
          "author": "Exp_iML1515",
          "error": 0.04511210357738982,
          "sample_id": "pykF"
         },
         {
          "Branch": "TCA_ACE",
          "author": "Khodayari",
          "error": 0,
          "sample_id": "pykF"
         },
         {
          "Branch": "TCA_ACE",
          "author": "Kurata",
          "error": 0.0556141974423674,
          "sample_id": "pykF"
         },
         {
          "Branch": "TCA_ACE",
          "author": "Millard",
          "error": 0.08712239444680625,
          "sample_id": "pykF"
         },
         {
          "Branch": "TCA_ACE",
          "author": "iML1515",
          "error": 0.600141688810004,
          "sample_id": "pykF"
         },
         {
          "Branch": "TCA_ACE",
          "author": "ECC2",
          "error": 0.8132397015270934,
          "sample_id": "rpe"
         },
         {
          "Branch": "TCA_ACE",
          "author": "Exp_ECC2",
          "error": 0.04425472387029106,
          "sample_id": "rpe"
         },
         {
          "Branch": "TCA_ACE",
          "author": "Exp_iML1515",
          "error": 0.04470781930746215,
          "sample_id": "rpe"
         },
         {
          "Branch": "TCA_ACE",
          "author": "Khodayari",
          "error": 0,
          "sample_id": "rpe"
         },
         {
          "Branch": "TCA_ACE",
          "author": "Kurata",
          "error": null,
          "sample_id": "rpe"
         },
         {
          "Branch": "TCA_ACE",
          "author": "Millard",
          "error": 0.0857384966053818,
          "sample_id": "rpe"
         },
         {
          "Branch": "TCA_ACE",
          "author": "iML1515",
          "error": 0.5606552273871253,
          "sample_id": "rpe"
         },
         {
          "Branch": "TCA_ACE",
          "author": "ECC2",
          "error": null,
          "sample_id": "rpiA"
         },
         {
          "Branch": "TCA_ACE",
          "author": "Exp_ECC2",
          "error": null,
          "sample_id": "rpiA"
         },
         {
          "Branch": "TCA_ACE",
          "author": "Exp_iML1515",
          "error": 0.37020846911703753,
          "sample_id": "rpiA"
         },
         {
          "Branch": "TCA_ACE",
          "author": "Khodayari",
          "error": 0.0024017524678443536,
          "sample_id": "rpiA"
         },
         {
          "Branch": "TCA_ACE",
          "author": "Kurata",
          "error": 0.05667002960421108,
          "sample_id": "rpiA"
         },
         {
          "Branch": "TCA_ACE",
          "author": "Millard",
          "error": 0.028793359200244173,
          "sample_id": "rpiA"
         },
         {
          "Branch": "TCA_ACE",
          "author": "iML1515",
          "error": 0.5686505788644935,
          "sample_id": "rpiA"
         },
         {
          "Branch": "TCA_ACE",
          "author": "ECC2",
          "error": null,
          "sample_id": "rpiB"
         },
         {
          "Branch": "TCA_ACE",
          "author": "Exp_ECC2",
          "error": null,
          "sample_id": "rpiB"
         },
         {
          "Branch": "TCA_ACE",
          "author": "Exp_iML1515",
          "error": 0.37020846911703753,
          "sample_id": "rpiB"
         },
         {
          "Branch": "TCA_ACE",
          "author": "Khodayari",
          "error": 0.0024017524678443536,
          "sample_id": "rpiB"
         },
         {
          "Branch": "TCA_ACE",
          "author": "Kurata",
          "error": 0.05667002960421108,
          "sample_id": "rpiB"
         },
         {
          "Branch": "TCA_ACE",
          "author": "Millard",
          "error": 0.028793359200244173,
          "sample_id": "rpiB"
         },
         {
          "Branch": "TCA_ACE",
          "author": "iML1515",
          "error": 0.5686505788644935,
          "sample_id": "rpiB"
         },
         {
          "Branch": "TCA_ACE",
          "author": "ECC2",
          "error": null,
          "sample_id": "sdhCD"
         },
         {
          "Branch": "TCA_ACE",
          "author": "Exp_ECC2",
          "error": null,
          "sample_id": "sdhCD"
         },
         {
          "Branch": "TCA_ACE",
          "author": "Exp_iML1515",
          "error": null,
          "sample_id": "sdhCD"
         },
         {
          "Branch": "TCA_ACE",
          "author": "Khodayari",
          "error": null,
          "sample_id": "sdhCD"
         },
         {
          "Branch": "TCA_ACE",
          "author": "Kurata",
          "error": null,
          "sample_id": "sdhCD"
         },
         {
          "Branch": "TCA_ACE",
          "author": "Millard",
          "error": null,
          "sample_id": "sdhCD"
         },
         {
          "Branch": "TCA_ACE",
          "author": "iML1515",
          "error": null,
          "sample_id": "sdhCD"
         },
         {
          "Branch": "TCA_ACE",
          "author": "ECC2",
          "error": null,
          "sample_id": "sucA"
         },
         {
          "Branch": "TCA_ACE",
          "author": "Exp_ECC2",
          "error": null,
          "sample_id": "sucA"
         },
         {
          "Branch": "TCA_ACE",
          "author": "Exp_iML1515",
          "error": null,
          "sample_id": "sucA"
         },
         {
          "Branch": "TCA_ACE",
          "author": "Khodayari",
          "error": null,
          "sample_id": "sucA"
         },
         {
          "Branch": "TCA_ACE",
          "author": "Kurata",
          "error": null,
          "sample_id": "sucA"
         },
         {
          "Branch": "TCA_ACE",
          "author": "Millard",
          "error": null,
          "sample_id": "sucA"
         },
         {
          "Branch": "TCA_ACE",
          "author": "iML1515",
          "error": null,
          "sample_id": "sucA"
         },
         {
          "Branch": "TCA_ACE",
          "author": "ECC2",
          "error": null,
          "sample_id": "sucAB"
         },
         {
          "Branch": "TCA_ACE",
          "author": "Exp_ECC2",
          "error": null,
          "sample_id": "sucAB"
         },
         {
          "Branch": "TCA_ACE",
          "author": "Exp_iML1515",
          "error": null,
          "sample_id": "sucAB"
         },
         {
          "Branch": "TCA_ACE",
          "author": "Khodayari",
          "error": null,
          "sample_id": "sucAB"
         },
         {
          "Branch": "TCA_ACE",
          "author": "Kurata",
          "error": null,
          "sample_id": "sucAB"
         },
         {
          "Branch": "TCA_ACE",
          "author": "Millard",
          "error": null,
          "sample_id": "sucAB"
         },
         {
          "Branch": "TCA_ACE",
          "author": "iML1515",
          "error": null,
          "sample_id": "sucAB"
         },
         {
          "Branch": "TCA_ACE",
          "author": "ECC2",
          "error": 0.7952757808367575,
          "sample_id": "talA"
         },
         {
          "Branch": "TCA_ACE",
          "author": "Exp_ECC2",
          "error": 0.04353306234806853,
          "sample_id": "talA"
         },
         {
          "Branch": "TCA_ACE",
          "author": "Exp_iML1515",
          "error": 0.0451121035773987,
          "sample_id": "talA"
         },
         {
          "Branch": "TCA_ACE",
          "author": "Khodayari",
          "error": 0,
          "sample_id": "talA"
         },
         {
          "Branch": "TCA_ACE",
          "author": "Kurata",
          "error": 0.05708513708568186,
          "sample_id": "talA"
         },
         {
          "Branch": "TCA_ACE",
          "author": "Millard",
          "error": null,
          "sample_id": "talA"
         },
         {
          "Branch": "TCA_ACE",
          "author": "iML1515",
          "error": 0.600141688810004,
          "sample_id": "talA"
         },
         {
          "Branch": "TCA_ACE",
          "author": "ECC2",
          "error": null,
          "sample_id": "talAB"
         },
         {
          "Branch": "TCA_ACE",
          "author": "Exp_ECC2",
          "error": null,
          "sample_id": "talAB"
         },
         {
          "Branch": "TCA_ACE",
          "author": "Exp_iML1515",
          "error": null,
          "sample_id": "talAB"
         },
         {
          "Branch": "TCA_ACE",
          "author": "Khodayari",
          "error": null,
          "sample_id": "talAB"
         },
         {
          "Branch": "TCA_ACE",
          "author": "Kurata",
          "error": null,
          "sample_id": "talAB"
         },
         {
          "Branch": "TCA_ACE",
          "author": "Millard",
          "error": null,
          "sample_id": "talAB"
         },
         {
          "Branch": "TCA_ACE",
          "author": "iML1515",
          "error": null,
          "sample_id": "talAB"
         },
         {
          "Branch": "TCA_ACE",
          "author": "ECC2",
          "error": null,
          "sample_id": "talB"
         },
         {
          "Branch": "TCA_ACE",
          "author": "Exp_ECC2",
          "error": null,
          "sample_id": "talB"
         },
         {
          "Branch": "TCA_ACE",
          "author": "Exp_iML1515",
          "error": null,
          "sample_id": "talB"
         },
         {
          "Branch": "TCA_ACE",
          "author": "Khodayari",
          "error": null,
          "sample_id": "talB"
         },
         {
          "Branch": "TCA_ACE",
          "author": "Kurata",
          "error": 0.05708513708568186,
          "sample_id": "talB"
         },
         {
          "Branch": "TCA_ACE",
          "author": "Millard",
          "error": null,
          "sample_id": "talB"
         },
         {
          "Branch": "TCA_ACE",
          "author": "iML1515",
          "error": null,
          "sample_id": "talB"
         },
         {
          "Branch": "TCA_ACE",
          "author": "ECC2",
          "error": 0.7952757808367575,
          "sample_id": "tktA"
         },
         {
          "Branch": "TCA_ACE",
          "author": "Exp_ECC2",
          "error": 0.04353306234806853,
          "sample_id": "tktA"
         },
         {
          "Branch": "TCA_ACE",
          "author": "Exp_iML1515",
          "error": 0.04433127000249337,
          "sample_id": "tktA"
         },
         {
          "Branch": "TCA_ACE",
          "author": "Khodayari",
          "error": 0,
          "sample_id": "tktA"
         },
         {
          "Branch": "TCA_ACE",
          "author": "Kurata",
          "error": 0.06025999342504418,
          "sample_id": "tktA"
         },
         {
          "Branch": "TCA_ACE",
          "author": "Millard",
          "error": 0.21389664863710356,
          "sample_id": "tktA"
         },
         {
          "Branch": "TCA_ACE",
          "author": "iML1515",
          "error": 0.5527083747905941,
          "sample_id": "tktA"
         },
         {
          "Branch": "TCA_ACE",
          "author": "ECC2",
          "error": 0.7952757808367575,
          "sample_id": "tktB"
         },
         {
          "Branch": "TCA_ACE",
          "author": "Exp_ECC2",
          "error": 0.04353306234806853,
          "sample_id": "tktB"
         },
         {
          "Branch": "TCA_ACE",
          "author": "Exp_iML1515",
          "error": 0.04433127000249337,
          "sample_id": "tktB"
         },
         {
          "Branch": "TCA_ACE",
          "author": "Khodayari",
          "error": 0,
          "sample_id": "tktB"
         },
         {
          "Branch": "TCA_ACE",
          "author": "Kurata",
          "error": 0.06025999342504418,
          "sample_id": "tktB"
         },
         {
          "Branch": "TCA_ACE",
          "author": "Millard",
          "error": null,
          "sample_id": "tktB"
         },
         {
          "Branch": "TCA_ACE",
          "author": "iML1515",
          "error": 0.5527083747905941,
          "sample_id": "tktB"
         },
         {
          "Branch": "TCA_ACE",
          "author": "ECC2",
          "error": null,
          "sample_id": "tpi"
         },
         {
          "Branch": "TCA_ACE",
          "author": "Exp_ECC2",
          "error": null,
          "sample_id": "tpi"
         },
         {
          "Branch": "TCA_ACE",
          "author": "Exp_iML1515",
          "error": null,
          "sample_id": "tpi"
         },
         {
          "Branch": "TCA_ACE",
          "author": "Khodayari",
          "error": null,
          "sample_id": "tpi"
         },
         {
          "Branch": "TCA_ACE",
          "author": "Kurata",
          "error": null,
          "sample_id": "tpi"
         },
         {
          "Branch": "TCA_ACE",
          "author": "Millard",
          "error": null,
          "sample_id": "tpi"
         },
         {
          "Branch": "TCA_ACE",
          "author": "iML1515",
          "error": null,
          "sample_id": "tpi"
         },
         {
          "Branch": "TCA_ACE",
          "author": "ECC2",
          "error": 0.7895413827092657,
          "sample_id": "zwf"
         },
         {
          "Branch": "TCA_ACE",
          "author": "Exp_ECC2",
          "error": 0.04283438274747997,
          "sample_id": "zwf"
         },
         {
          "Branch": "TCA_ACE",
          "author": "Exp_iML1515",
          "error": 0.045112103577389595,
          "sample_id": "zwf"
         },
         {
          "Branch": "TCA_ACE",
          "author": "Khodayari",
          "error": 0.006129260849961238,
          "sample_id": "zwf"
         },
         {
          "Branch": "TCA_ACE",
          "author": "Kurata",
          "error": 0.04401005485614329,
          "sample_id": "zwf"
         },
         {
          "Branch": "TCA_ACE",
          "author": "Millard",
          "error": 0.07972098068742606,
          "sample_id": "zwf"
         },
         {
          "Branch": "TCA_ACE",
          "author": "iML1515",
          "error": 0.5836466997246751,
          "sample_id": "zwf"
         },
         {
          "Branch": "ICD_ICL",
          "author": "ECC2",
          "error": 0.1964285714285714,
          "sample_id": "WT"
         },
         {
          "Branch": "ICD_ICL",
          "author": "Exp_ECC2",
          "error": 0.01343891249252327,
          "sample_id": "WT"
         },
         {
          "Branch": "ICD_ICL",
          "author": "Exp_iML1515",
          "error": 0.01343891249252327,
          "sample_id": "WT"
         },
         {
          "Branch": "ICD_ICL",
          "author": "Khodayari",
          "error": 0.059101941242404865,
          "sample_id": "WT"
         },
         {
          "Branch": "ICD_ICL",
          "author": "Kurata",
          "error": 0.5845807057417738,
          "sample_id": "WT"
         },
         {
          "Branch": "ICD_ICL",
          "author": "Millard",
          "error": 0.08200336396992292,
          "sample_id": "WT"
         },
         {
          "Branch": "ICD_ICL",
          "author": "iML1515",
          "error": 0.1964285714285714,
          "sample_id": "WT"
         },
         {
          "Branch": "ICD_ICL",
          "author": "ECC2",
          "error": null,
          "sample_id": "fbaA"
         },
         {
          "Branch": "ICD_ICL",
          "author": "Exp_ECC2",
          "error": null,
          "sample_id": "fbaA"
         },
         {
          "Branch": "ICD_ICL",
          "author": "Exp_iML1515",
          "error": null,
          "sample_id": "fbaA"
         },
         {
          "Branch": "ICD_ICL",
          "author": "Khodayari",
          "error": null,
          "sample_id": "fbaA"
         },
         {
          "Branch": "ICD_ICL",
          "author": "Kurata",
          "error": null,
          "sample_id": "fbaA"
         },
         {
          "Branch": "ICD_ICL",
          "author": "Millard",
          "error": null,
          "sample_id": "fbaA"
         },
         {
          "Branch": "ICD_ICL",
          "author": "iML1515",
          "error": null,
          "sample_id": "fbaA"
         },
         {
          "Branch": "ICD_ICL",
          "author": "ECC2",
          "error": 0.2534120599222984,
          "sample_id": "fbaB"
         },
         {
          "Branch": "ICD_ICL",
          "author": "Exp_ECC2",
          "error": 0.04736748392109469,
          "sample_id": "fbaB"
         },
         {
          "Branch": "ICD_ICL",
          "author": "Exp_iML1515",
          "error": 0.04736748392109014,
          "sample_id": "fbaB"
         },
         {
          "Branch": "ICD_ICL",
          "author": "Khodayari",
          "error": 0.019217893451455637,
          "sample_id": "fbaB"
         },
         {
          "Branch": "ICD_ICL",
          "author": "Kurata",
          "error": 0.6187598848441703,
          "sample_id": "fbaB"
         },
         {
          "Branch": "ICD_ICL",
          "author": "Millard",
          "error": null,
          "sample_id": "fbaB"
         },
         {
          "Branch": "ICD_ICL",
          "author": "iML1515",
          "error": 0.16249999999999998,
          "sample_id": "fbaB"
         },
         {
          "Branch": "ICD_ICL",
          "author": "ECC2",
          "error": 0.36585365853658536,
          "sample_id": "fbp"
         },
         {
          "Branch": "ICD_ICL",
          "author": "Exp_ECC2",
          "error": 0.15598617461549047,
          "sample_id": "fbp"
         },
         {
          "Branch": "ICD_ICL",
          "author": "Exp_iML1515",
          "error": 0.15598617461548947,
          "sample_id": "fbp"
         },
         {
          "Branch": "ICD_ICL",
          "author": "Khodayari",
          "error": 0.22863561978330116,
          "sample_id": "fbp"
         },
         {
          "Branch": "ICD_ICL",
          "author": "Kurata",
          "error": 0.41511426071462226,
          "sample_id": "fbp"
         },
         {
          "Branch": "ICD_ICL",
          "author": "Millard",
          "error": 0.08744712857118442,
          "sample_id": "fbp"
         },
         {
          "Branch": "ICD_ICL",
          "author": "iML1515",
          "error": 0.36585365853658536,
          "sample_id": "fbp"
         },
         {
          "Branch": "ICD_ICL",
          "author": "ECC2",
          "error": null,
          "sample_id": "glk"
         },
         {
          "Branch": "ICD_ICL",
          "author": "Exp_ECC2",
          "error": null,
          "sample_id": "glk"
         },
         {
          "Branch": "ICD_ICL",
          "author": "Exp_iML1515",
          "error": null,
          "sample_id": "glk"
         },
         {
          "Branch": "ICD_ICL",
          "author": "Khodayari",
          "error": null,
          "sample_id": "glk"
         },
         {
          "Branch": "ICD_ICL",
          "author": "Kurata",
          "error": null,
          "sample_id": "glk"
         },
         {
          "Branch": "ICD_ICL",
          "author": "Millard",
          "error": null,
          "sample_id": "glk"
         },
         {
          "Branch": "ICD_ICL",
          "author": "iML1515",
          "error": null,
          "sample_id": "glk"
         },
         {
          "Branch": "ICD_ICL",
          "author": "ECC2",
          "error": 0.14678899082568808,
          "sample_id": "gnd"
         },
         {
          "Branch": "ICD_ICL",
          "author": "Exp_ECC2",
          "error": 0.05280869380833053,
          "sample_id": "gnd"
         },
         {
          "Branch": "ICD_ICL",
          "author": "Exp_iML1515",
          "error": 0.05740189513207461,
          "sample_id": "gnd"
         },
         {
          "Branch": "ICD_ICL",
          "author": "Khodayari",
          "error": 0.04986230887815113,
          "sample_id": "gnd"
         },
         {
          "Branch": "ICD_ICL",
          "author": "Kurata",
          "error": null,
          "sample_id": "gnd"
         },
         {
          "Branch": "ICD_ICL",
          "author": "Millard",
          "error": 0.10044311793432581,
          "sample_id": "gnd"
         },
         {
          "Branch": "ICD_ICL",
          "author": "iML1515",
          "error": 0.14678899082568808,
          "sample_id": "gnd"
         },
         {
          "Branch": "ICD_ICL",
          "author": "ECC2",
          "error": 0.6574705525395345,
          "sample_id": "gpmA"
         },
         {
          "Branch": "ICD_ICL",
          "author": "Exp_ECC2",
          "error": 0.1449237361224558,
          "sample_id": "gpmA"
         },
         {
          "Branch": "ICD_ICL",
          "author": "Exp_iML1515",
          "error": 0.12236748392109487,
          "sample_id": "gpmA"
         },
         {
          "Branch": "ICD_ICL",
          "author": "Khodayari",
          "error": null,
          "sample_id": "gpmA"
         },
         {
          "Branch": "ICD_ICL",
          "author": "Kurata",
          "error": null,
          "sample_id": "gpmA"
         },
         {
          "Branch": "ICD_ICL",
          "author": "Millard",
          "error": null,
          "sample_id": "gpmA"
         },
         {
          "Branch": "ICD_ICL",
          "author": "iML1515",
          "error": 0.08750000000000002,
          "sample_id": "gpmA"
         },
         {
          "Branch": "ICD_ICL",
          "author": "ECC2",
          "error": null,
          "sample_id": "gpmB"
         },
         {
          "Branch": "ICD_ICL",
          "author": "Exp_ECC2",
          "error": null,
          "sample_id": "gpmB"
         },
         {
          "Branch": "ICD_ICL",
          "author": "Exp_iML1515",
          "error": null,
          "sample_id": "gpmB"
         },
         {
          "Branch": "ICD_ICL",
          "author": "Khodayari",
          "error": null,
          "sample_id": "gpmB"
         },
         {
          "Branch": "ICD_ICL",
          "author": "Kurata",
          "error": null,
          "sample_id": "gpmB"
         },
         {
          "Branch": "ICD_ICL",
          "author": "Millard",
          "error": null,
          "sample_id": "gpmB"
         },
         {
          "Branch": "ICD_ICL",
          "author": "iML1515",
          "error": null,
          "sample_id": "gpmB"
         },
         {
          "Branch": "ICD_ICL",
          "author": "ECC2",
          "error": 0.317146627823533,
          "sample_id": "pfkA"
         },
         {
          "Branch": "ICD_ICL",
          "author": "Exp_ECC2",
          "error": 0.11110205182232935,
          "sample_id": "pfkA"
         },
         {
          "Branch": "ICD_ICL",
          "author": "Exp_iML1515",
          "error": 0.1111020518223268,
          "sample_id": "pfkA"
         },
         {
          "Branch": "ICD_ICL",
          "author": "Khodayari",
          "error": 0.038153965137970425,
          "sample_id": "pfkA"
         },
         {
          "Branch": "ICD_ICL",
          "author": "Kurata",
          "error": 0.7895935678906734,
          "sample_id": "pfkA"
         },
         {
          "Branch": "ICD_ICL",
          "author": "Millard",
          "error": null,
          "sample_id": "pfkA"
         },
         {
          "Branch": "ICD_ICL",
          "author": "iML1515",
          "error": 0.09876543209876543,
          "sample_id": "pfkA"
         },
         {
          "Branch": "ICD_ICL",
          "author": "ECC2",
          "error": 0.08696469150124575,
          "sample_id": "pfkB"
         },
         {
          "Branch": "ICD_ICL",
          "author": "Exp_ECC2",
          "error": 0.11907988449995788,
          "sample_id": "pfkB"
         },
         {
          "Branch": "ICD_ICL",
          "author": "Exp_iML1515",
          "error": 0.11907988449996043,
          "sample_id": "pfkB"
         },
         {
          "Branch": "ICD_ICL",
          "author": "Khodayari",
          "error": 0.1920279711843168,
          "sample_id": "pfkB"
         },
         {
          "Branch": "ICD_ICL",
          "author": "Kurata",
          "error": 0.5594116315683861,
          "sample_id": "pfkB"
         },
         {
          "Branch": "ICD_ICL",
          "author": "Millard",
          "error": null,
          "sample_id": "pfkB"
         },
         {
          "Branch": "ICD_ICL",
          "author": "iML1515",
          "error": 0.32894736842105265,
          "sample_id": "pfkB"
         },
         {
          "Branch": "ICD_ICL",
          "author": "ECC2",
          "error": 0.3787878787878788,
          "sample_id": "pgi"
         },
         {
          "Branch": "ICD_ICL",
          "author": "Exp_ECC2",
          "error": 0.06203322258461108,
          "sample_id": "pgi"
         },
         {
          "Branch": "ICD_ICL",
          "author": "Exp_iML1515",
          "error": 0.16892039486678434,
          "sample_id": "pgi"
         },
         {
          "Branch": "ICD_ICL",
          "author": "Khodayari",
          "error": 0.1477995241113529,
          "sample_id": "pgi"
         },
         {
          "Branch": "ICD_ICL",
          "author": "Kurata",
          "error": 0.4334302387635298,
          "sample_id": "pgi"
         },
         {
          "Branch": "ICD_ICL",
          "author": "Millard",
          "error": 0.004798498679126517,
          "sample_id": "pgi"
         },
         {
          "Branch": "ICD_ICL",
          "author": "iML1515",
          "error": 0.3787878787878788,
          "sample_id": "pgi"
         },
         {
          "Branch": "ICD_ICL",
          "author": "ECC2",
          "error": 0.17045454545454541,
          "sample_id": "pgl"
         },
         {
          "Branch": "ICD_ICL",
          "author": "Exp_ECC2",
          "error": 0.02925192027355983,
          "sample_id": "pgl"
         },
         {
          "Branch": "ICD_ICL",
          "author": "Exp_iML1515",
          "error": 0.039412938466552916,
          "sample_id": "pgl"
         },
         {
          "Branch": "ICD_ICL",
          "author": "Khodayari",
          "error": 0.02885965476641028,
          "sample_id": "pgl"
         },
         {
          "Branch": "ICD_ICL",
          "author": "Kurata",
          "error": null,
          "sample_id": "pgl"
         },
         {
          "Branch": "ICD_ICL",
          "author": "Millard",
          "error": 0.08937666876226302,
          "sample_id": "pgl"
         },
         {
          "Branch": "ICD_ICL",
          "author": "iML1515",
          "error": 0.17045454545454541,
          "sample_id": "pgl"
         },
         {
          "Branch": "ICD_ICL",
          "author": "ECC2",
          "error": null,
          "sample_id": "pgm"
         },
         {
          "Branch": "ICD_ICL",
          "author": "Exp_ECC2",
          "error": null,
          "sample_id": "pgm"
         },
         {
          "Branch": "ICD_ICL",
          "author": "Exp_iML1515",
          "error": null,
          "sample_id": "pgm"
         },
         {
          "Branch": "ICD_ICL",
          "author": "Khodayari",
          "error": null,
          "sample_id": "pgm"
         },
         {
          "Branch": "ICD_ICL",
          "author": "Kurata",
          "error": null,
          "sample_id": "pgm"
         },
         {
          "Branch": "ICD_ICL",
          "author": "Millard",
          "error": null,
          "sample_id": "pgm"
         },
         {
          "Branch": "ICD_ICL",
          "author": "iML1515",
          "error": null,
          "sample_id": "pgm"
         },
         {
          "Branch": "ICD_ICL",
          "author": "ECC2",
          "error": null,
          "sample_id": "ppc"
         },
         {
          "Branch": "ICD_ICL",
          "author": "Exp_ECC2",
          "error": null,
          "sample_id": "ppc"
         },
         {
          "Branch": "ICD_ICL",
          "author": "Exp_iML1515",
          "error": null,
          "sample_id": "ppc"
         },
         {
          "Branch": "ICD_ICL",
          "author": "Khodayari",
          "error": null,
          "sample_id": "ppc"
         },
         {
          "Branch": "ICD_ICL",
          "author": "Kurata",
          "error": null,
          "sample_id": "ppc"
         },
         {
          "Branch": "ICD_ICL",
          "author": "Millard",
          "error": null,
          "sample_id": "ppc"
         },
         {
          "Branch": "ICD_ICL",
          "author": "iML1515",
          "error": null,
          "sample_id": "ppc"
         },
         {
          "Branch": "ICD_ICL",
          "author": "ECC2",
          "error": 0,
          "sample_id": "ppsA"
         },
         {
          "Branch": "ICD_ICL",
          "author": "Exp_ECC2",
          "error": 0.20986748392109467,
          "sample_id": "ppsA"
         },
         {
          "Branch": "ICD_ICL",
          "author": "Exp_iML1515",
          "error": 0.2098674839210959,
          "sample_id": "ppsA"
         },
         {
          "Branch": "ICD_ICL",
          "author": "Khodayari",
          "error": 0.14132862750435138,
          "sample_id": "ppsA"
         },
         {
          "Branch": "ICD_ICL",
          "author": "Kurata",
          "error": 0.42743210376937946,
          "sample_id": "ppsA"
         },
         {
          "Branch": "ICD_ICL",
          "author": "Millard",
          "error": 0.27842900403841464,
          "sample_id": "ppsA"
         },
         {
          "Branch": "ICD_ICL",
          "author": "iML1515",
          "error": 0,
          "sample_id": "ppsA"
         },
         {
          "Branch": "ICD_ICL",
          "author": "ECC2",
          "error": null,
          "sample_id": "pts"
         },
         {
          "Branch": "ICD_ICL",
          "author": "Exp_ECC2",
          "error": null,
          "sample_id": "pts"
         },
         {
          "Branch": "ICD_ICL",
          "author": "Exp_iML1515",
          "error": null,
          "sample_id": "pts"
         },
         {
          "Branch": "ICD_ICL",
          "author": "Khodayari",
          "error": null,
          "sample_id": "pts"
         },
         {
          "Branch": "ICD_ICL",
          "author": "Kurata",
          "error": null,
          "sample_id": "pts"
         },
         {
          "Branch": "ICD_ICL",
          "author": "Millard",
          "error": null,
          "sample_id": "pts"
         },
         {
          "Branch": "ICD_ICL",
          "author": "iML1515",
          "error": null,
          "sample_id": "pts"
         },
         {
          "Branch": "ICD_ICL",
          "author": "ECC2",
          "error": 0.2168674698795181,
          "sample_id": "pykA"
         },
         {
          "Branch": "ICD_ICL",
          "author": "Exp_ECC2",
          "error": 0.03150389829103406,
          "sample_id": "pykA"
         },
         {
          "Branch": "ICD_ICL",
          "author": "Exp_iML1515",
          "error": 0.006999985958423549,
          "sample_id": "pykA"
         },
         {
          "Branch": "ICD_ICL",
          "author": "Khodayari",
          "error": 0.07136594835878207,
          "sample_id": "pykA"
         },
         {
          "Branch": "ICD_ICL",
          "author": "Kurata",
          "error": 0.5533746489783927,
          "sample_id": "pykA"
         },
         {
          "Branch": "ICD_ICL",
          "author": "Millard",
          "error": 0.010003370446185711,
          "sample_id": "pykA"
         },
         {
          "Branch": "ICD_ICL",
          "author": "iML1515",
          "error": 0.2168674698795181,
          "sample_id": "pykA"
         },
         {
          "Branch": "ICD_ICL",
          "author": "ECC2",
          "error": 0.410958904109589,
          "sample_id": "pykF"
         },
         {
          "Branch": "ICD_ICL",
          "author": "Exp_ECC2",
          "error": 0.22559533252110497,
          "sample_id": "pykF"
         },
         {
          "Branch": "ICD_ICL",
          "author": "Exp_iML1515",
          "error": 0.20109142018849446,
          "sample_id": "pykF"
         },
         {
          "Branch": "ICD_ICL",
          "author": "Khodayari",
          "error": 0.2622800714311566,
          "sample_id": "pykF"
         },
         {
          "Branch": "ICD_ICL",
          "author": "Kurata",
          "error": 0.3592832147483218,
          "sample_id": "pykF"
         },
         {
          "Branch": "ICD_ICL",
          "author": "Millard",
          "error": 0.1840880637838852,
          "sample_id": "pykF"
         },
         {
          "Branch": "ICD_ICL",
          "author": "iML1515",
          "error": 0.410958904109589,
          "sample_id": "pykF"
         },
         {
          "Branch": "ICD_ICL",
          "author": "ECC2",
          "error": 0.15315315315315314,
          "sample_id": "rpe"
         },
         {
          "Branch": "ICD_ICL",
          "author": "Exp_ECC2",
          "error": 0.05289472246467131,
          "sample_id": "rpe"
         },
         {
          "Branch": "ICD_ICL",
          "author": "Exp_iML1515",
          "error": 0.06349228847319976,
          "sample_id": "rpe"
         },
         {
          "Branch": "ICD_ICL",
          "author": "Khodayari",
          "error": 0.0114268092932438,
          "sample_id": "rpe"
         },
         {
          "Branch": "ICD_ICL",
          "author": "Kurata",
          "error": null,
          "sample_id": "rpe"
         },
         {
          "Branch": "ICD_ICL",
          "author": "Millard",
          "error": 0.20300274265669072,
          "sample_id": "rpe"
         },
         {
          "Branch": "ICD_ICL",
          "author": "iML1515",
          "error": 0.15315315315315314,
          "sample_id": "rpe"
         },
         {
          "Branch": "ICD_ICL",
          "author": "ECC2",
          "error": null,
          "sample_id": "rpiA"
         },
         {
          "Branch": "ICD_ICL",
          "author": "Exp_ECC2",
          "error": null,
          "sample_id": "rpiA"
         },
         {
          "Branch": "ICD_ICL",
          "author": "Exp_iML1515",
          "error": 0.13396419927161252,
          "sample_id": "rpiA"
         },
         {
          "Branch": "ICD_ICL",
          "author": "Khodayari",
          "error": 0.09156335648764091,
          "sample_id": "rpiA"
         },
         {
          "Branch": "ICD_ICL",
          "author": "Kurata",
          "error": 0.5776502828442194,
          "sample_id": "rpiA"
         },
         {
          "Branch": "ICD_ICL",
          "author": "Millard",
          "error": 0.202020202020202,
          "sample_id": "rpiA"
         },
         {
          "Branch": "ICD_ICL",
          "author": "iML1515",
          "error": 0.202020202020202,
          "sample_id": "rpiA"
         },
         {
          "Branch": "ICD_ICL",
          "author": "ECC2",
          "error": null,
          "sample_id": "rpiB"
         },
         {
          "Branch": "ICD_ICL",
          "author": "Exp_ECC2",
          "error": null,
          "sample_id": "rpiB"
         },
         {
          "Branch": "ICD_ICL",
          "author": "Exp_iML1515",
          "error": 0.005338492664254568,
          "sample_id": "rpiB"
         },
         {
          "Branch": "ICD_ICL",
          "author": "Khodayari",
          "error": 0.037062350119717036,
          "sample_id": "rpiB"
         },
         {
          "Branch": "ICD_ICL",
          "author": "Kurata",
          "error": 0.7062759894515773,
          "sample_id": "rpiB"
         },
         {
          "Branch": "ICD_ICL",
          "author": "Millard",
          "error": 0.07339449541284404,
          "sample_id": "rpiB"
         },
         {
          "Branch": "ICD_ICL",
          "author": "iML1515",
          "error": 0.07339449541284404,
          "sample_id": "rpiB"
         },
         {
          "Branch": "ICD_ICL",
          "author": "ECC2",
          "error": null,
          "sample_id": "sdhCD"
         },
         {
          "Branch": "ICD_ICL",
          "author": "Exp_ECC2",
          "error": null,
          "sample_id": "sdhCD"
         },
         {
          "Branch": "ICD_ICL",
          "author": "Exp_iML1515",
          "error": null,
          "sample_id": "sdhCD"
         },
         {
          "Branch": "ICD_ICL",
          "author": "Khodayari",
          "error": null,
          "sample_id": "sdhCD"
         },
         {
          "Branch": "ICD_ICL",
          "author": "Kurata",
          "error": null,
          "sample_id": "sdhCD"
         },
         {
          "Branch": "ICD_ICL",
          "author": "Millard",
          "error": null,
          "sample_id": "sdhCD"
         },
         {
          "Branch": "ICD_ICL",
          "author": "iML1515",
          "error": null,
          "sample_id": "sdhCD"
         },
         {
          "Branch": "ICD_ICL",
          "author": "ECC2",
          "error": null,
          "sample_id": "sucA"
         },
         {
          "Branch": "ICD_ICL",
          "author": "Exp_ECC2",
          "error": null,
          "sample_id": "sucA"
         },
         {
          "Branch": "ICD_ICL",
          "author": "Exp_iML1515",
          "error": null,
          "sample_id": "sucA"
         },
         {
          "Branch": "ICD_ICL",
          "author": "Khodayari",
          "error": null,
          "sample_id": "sucA"
         },
         {
          "Branch": "ICD_ICL",
          "author": "Kurata",
          "error": null,
          "sample_id": "sucA"
         },
         {
          "Branch": "ICD_ICL",
          "author": "Millard",
          "error": null,
          "sample_id": "sucA"
         },
         {
          "Branch": "ICD_ICL",
          "author": "iML1515",
          "error": null,
          "sample_id": "sucA"
         },
         {
          "Branch": "ICD_ICL",
          "author": "ECC2",
          "error": null,
          "sample_id": "sucAB"
         },
         {
          "Branch": "ICD_ICL",
          "author": "Exp_ECC2",
          "error": null,
          "sample_id": "sucAB"
         },
         {
          "Branch": "ICD_ICL",
          "author": "Exp_iML1515",
          "error": null,
          "sample_id": "sucAB"
         },
         {
          "Branch": "ICD_ICL",
          "author": "Khodayari",
          "error": null,
          "sample_id": "sucAB"
         },
         {
          "Branch": "ICD_ICL",
          "author": "Kurata",
          "error": null,
          "sample_id": "sucAB"
         },
         {
          "Branch": "ICD_ICL",
          "author": "Millard",
          "error": null,
          "sample_id": "sucAB"
         },
         {
          "Branch": "ICD_ICL",
          "author": "iML1515",
          "error": null,
          "sample_id": "sucAB"
         },
         {
          "Branch": "ICD_ICL",
          "author": "ECC2",
          "error": 0.02352941176470591,
          "sample_id": "talA"
         },
         {
          "Branch": "ICD_ICL",
          "author": "Exp_ECC2",
          "error": 0.17929861235180222,
          "sample_id": "talA"
         },
         {
          "Branch": "ICD_ICL",
          "author": "Exp_iML1515",
          "error": 0.18633807215638742,
          "sample_id": "talA"
         },
         {
          "Branch": "ICD_ICL",
          "author": "Khodayari",
          "error": 0.11946456977756692,
          "sample_id": "talA"
         },
         {
          "Branch": "ICD_ICL",
          "author": "Kurata",
          "error": 0.7591863514218165,
          "sample_id": "talA"
         },
         {
          "Branch": "ICD_ICL",
          "author": "Millard",
          "error": null,
          "sample_id": "talA"
         },
         {
          "Branch": "ICD_ICL",
          "author": "iML1515",
          "error": 0.02352941176470591,
          "sample_id": "talA"
         },
         {
          "Branch": "ICD_ICL",
          "author": "ECC2",
          "error": null,
          "sample_id": "talAB"
         },
         {
          "Branch": "ICD_ICL",
          "author": "Exp_ECC2",
          "error": null,
          "sample_id": "talAB"
         },
         {
          "Branch": "ICD_ICL",
          "author": "Exp_iML1515",
          "error": null,
          "sample_id": "talAB"
         },
         {
          "Branch": "ICD_ICL",
          "author": "Khodayari",
          "error": null,
          "sample_id": "talAB"
         },
         {
          "Branch": "ICD_ICL",
          "author": "Kurata",
          "error": null,
          "sample_id": "talAB"
         },
         {
          "Branch": "ICD_ICL",
          "author": "Millard",
          "error": null,
          "sample_id": "talAB"
         },
         {
          "Branch": "ICD_ICL",
          "author": "iML1515",
          "error": null,
          "sample_id": "talAB"
         },
         {
          "Branch": "ICD_ICL",
          "author": "ECC2",
          "error": null,
          "sample_id": "talB"
         },
         {
          "Branch": "ICD_ICL",
          "author": "Exp_ECC2",
          "error": null,
          "sample_id": "talB"
         },
         {
          "Branch": "ICD_ICL",
          "author": "Exp_iML1515",
          "error": null,
          "sample_id": "talB"
         },
         {
          "Branch": "ICD_ICL",
          "author": "Khodayari",
          "error": null,
          "sample_id": "talB"
         },
         {
          "Branch": "ICD_ICL",
          "author": "Kurata",
          "error": 0.7607377412085004,
          "sample_id": "talB"
         },
         {
          "Branch": "ICD_ICL",
          "author": "Millard",
          "error": null,
          "sample_id": "talB"
         },
         {
          "Branch": "ICD_ICL",
          "author": "iML1515",
          "error": null,
          "sample_id": "talB"
         },
         {
          "Branch": "ICD_ICL",
          "author": "ECC2",
          "error": 0,
          "sample_id": "tktA"
         },
         {
          "Branch": "ICD_ICL",
          "author": "Exp_ECC2",
          "error": 0.20282802411650813,
          "sample_id": "tktA"
         },
         {
          "Branch": "ICD_ICL",
          "author": "Exp_iML1515",
          "error": 0.21572656285858505,
          "sample_id": "tktA"
         },
         {
          "Branch": "ICD_ICL",
          "author": "Khodayari",
          "error": 0.143264907676251,
          "sample_id": "tktA"
         },
         {
          "Branch": "ICD_ICL",
          "author": "Kurata",
          "error": 0.8048282772483839,
          "sample_id": "tktA"
         },
         {
          "Branch": "ICD_ICL",
          "author": "Millard",
          "error": 0.0018387502941829004,
          "sample_id": "tktA"
         },
         {
          "Branch": "ICD_ICL",
          "author": "iML1515",
          "error": 0,
          "sample_id": "tktA"
         },
         {
          "Branch": "ICD_ICL",
          "author": "ECC2",
          "error": 0,
          "sample_id": "tktB"
         },
         {
          "Branch": "ICD_ICL",
          "author": "Exp_ECC2",
          "error": 0.20282802411650813,
          "sample_id": "tktB"
         },
         {
          "Branch": "ICD_ICL",
          "author": "Exp_iML1515",
          "error": 0.21572656285858505,
          "sample_id": "tktB"
         },
         {
          "Branch": "ICD_ICL",
          "author": "Khodayari",
          "error": 0.143264907676251,
          "sample_id": "tktB"
         },
         {
          "Branch": "ICD_ICL",
          "author": "Kurata",
          "error": 0.8048282772483839,
          "sample_id": "tktB"
         },
         {
          "Branch": "ICD_ICL",
          "author": "Millard",
          "error": null,
          "sample_id": "tktB"
         },
         {
          "Branch": "ICD_ICL",
          "author": "iML1515",
          "error": 0,
          "sample_id": "tktB"
         },
         {
          "Branch": "ICD_ICL",
          "author": "ECC2",
          "error": null,
          "sample_id": "tpi"
         },
         {
          "Branch": "ICD_ICL",
          "author": "Exp_ECC2",
          "error": null,
          "sample_id": "tpi"
         },
         {
          "Branch": "ICD_ICL",
          "author": "Exp_iML1515",
          "error": null,
          "sample_id": "tpi"
         },
         {
          "Branch": "ICD_ICL",
          "author": "Khodayari",
          "error": null,
          "sample_id": "tpi"
         },
         {
          "Branch": "ICD_ICL",
          "author": "Kurata",
          "error": null,
          "sample_id": "tpi"
         },
         {
          "Branch": "ICD_ICL",
          "author": "Millard",
          "error": null,
          "sample_id": "tpi"
         },
         {
          "Branch": "ICD_ICL",
          "author": "iML1515",
          "error": null,
          "sample_id": "tpi"
         },
         {
          "Branch": "ICD_ICL",
          "author": "ECC2",
          "error": 0.2621359223300971,
          "sample_id": "zwf"
         },
         {
          "Branch": "ICD_ICL",
          "author": "Exp_ECC2",
          "error": 0.06242945660199184,
          "sample_id": "zwf"
         },
         {
          "Branch": "ICD_ICL",
          "author": "Exp_iML1515",
          "error": 0.052268438409002194,
          "sample_id": "zwf"
         },
         {
          "Branch": "ICD_ICL",
          "author": "Khodayari",
          "error": 0.1588789924331685,
          "sample_id": "zwf"
         },
         {
          "Branch": "ICD_ICL",
          "author": "Kurata",
          "error": 0.3217831461593152,
          "sample_id": "zwf"
         },
         {
          "Branch": "ICD_ICL",
          "author": "Millard",
          "error": 0.001635746328052412,
          "sample_id": "zwf"
         },
         {
          "Branch": "ICD_ICL",
          "author": "iML1515",
          "error": 0.2621359223300971,
          "sample_id": "zwf"
         }
        ]
       },
       "encoding": {
        "color": {
         "field": "author",
         "legend": null,
         "scale": {
          "domain": [
           "Khodayari",
           "Millard",
           "Kurata",
           "iML1515",
           "ECC2",
           "Exp_iML1515",
           "Exp_ECC2",
           "Ishii"
          ],
          "range": [
           "#1b9e77",
           "#d95f02",
           "#7570b3",
           "#e7298a",
           "#66a61e",
           "#e6ab02",
           "#a6761d",
           "#666666"
          ]
         },
         "type": "nominal"
        },
        "column": {
         "field": "author",
         "header": {
          "labelAlign": "right",
          "labelAngle": -90,
          "labelFontSize": 20,
          "labelOrient": "bottom",
          "labelPadding": 3,
          "title": "Branching errors (RMSE)",
          "titleOrient": "top"
         },
         "sort": [
          "Khodayari",
          "Millard",
          "Kurata",
          "iML1515",
          "ECC2",
          "Exp_iML1515",
          "Exp_ECC2",
          "Ishii"
         ],
         "type": "nominal"
        },
        "opacity": {
         "value": 1
        },
        "size": {
         "condition": {
          "selection": "selector016",
          "value": 150
         },
         "value": 60
        },
        "tooltip": [
         {
          "field": "author",
          "type": "nominal"
         },
         {
          "field": "sample_id",
          "type": "nominal"
         },
         {
          "field": "error",
          "type": "quantitative"
         },
         {
          "field": "Branch",
          "type": "nominal"
         }
        ],
        "x": {
         "field": "Branch",
         "scale": {},
         "sort": [
          "EMP_PPP",
          "PYK_PPC",
          "TCA_ACE",
          "ICD_ICL",
          "MDH_ME"
         ],
         "type": "nominal"
        },
        "y": {
         "field": "error",
         "title": "Branching error",
         "type": "quantitative"
        }
       },
       "height": 600,
       "mark": "circle",
       "selection": {
        "selector016": {
         "empty": "none",
         "fields": [
          "sample_id"
         ],
         "type": "single"
        }
       },
       "transform": [
        {
         "filter": "datum.normalized_error !== null"
        }
       ],
       "width": 100
      },
      "image/png": "[encoded data removed]",
      "text/plain": [
       "<VegaLite 3 object>\n",
       "\n",
       "If you see this message, it means the renderer has not been properly enabled\n",
       "for the frontend that you are using. For more information, see\n",
       "https://altair-viz.github.io/user_guide/troubleshooting.html\n"
      ]
     },
     "execution_count": 61,
     "metadata": {},
     "output_type": "execute_result"
    }
   ],
   "source": [
    "source = rmse_diff.to_dataframe().reset_index()\n",
    "\n",
    "author = \"Ishii\"\n",
    "source = source.query(f\"author != '{author}'\")\n",
    "\n",
    "selector = alt.selection_single(empty=\"none\", fields=[\"sample_id\"])\n",
    "opacity = alt.OpacityValue(1.0)\n",
    "\n",
    "size = alt.condition(selector, alt.SizeValue(150), alt.SizeValue(60))\n",
    "\n",
    "domain = [\"Khodayari\", \"Millard\", \"Kurata\", \"iML1515\", \"ECC2\", \"Exp_iML1515\", \"Exp_ECC2\", \"Ishii\"]\n",
    "range_ = [\"#1b9e77\", \"#d95f02\", \"#7570b3\", \"#e7298a\", \"#66a61e\", \"#e6ab02\", \"#a6761d\", \"#666666\"]\n",
    "    \n",
    "stripplot = (\n",
    "    alt.Chart(source, width=100, height=600)\n",
    "    .mark_circle()\n",
    "    .encode(\n",
    "        x=alt.X(\n",
    "            \"Branch:N\",\n",
    "            #title=None,\n",
    "            #axis=alt.Axis(values=[0], ticks=True, grid=False, labels=False),\n",
    "            scale=alt.Scale(),\n",
    "            sort = [\"EMP_PPP\", \"PYK_PPC\", \"TCA_ACE\", \"ICD_ICL\", \"MDH_ME\"]\n",
    "        ),\n",
    "        y=alt.Y(\"error:Q\", title=\"Branching error\"),\n",
    "        color=alt.Color(\"author:N\", legend=None, scale=alt.Scale(domain=domain, range=range_)),\n",
    "        column=alt.Column(\n",
    "            \"author:N\",\n",
    "            header=alt.Header(\n",
    "                labelAngle=-90,\n",
    "                titleOrient=\"top\",\n",
    "                labelOrient=\"bottom\",\n",
    "                labelAlign=\"right\",\n",
    "                labelPadding=3,\n",
    "                labelFontSize=20,\n",
    "                title=\"Branching errors (RMSE)\",\n",
    "            ),\n",
    "            sort=domain,\n",
    "        ),\n",
    "        size=size,\n",
    "        opacity=opacity,\n",
    "        tooltip=[\"author\", \"sample_id\", \"error\", \"Branch\"],\n",
    "    )\n",
    "    .configure_facet(spacing=5)\n",
    "    .configure_view(stroke=None)\n",
    "    .add_selection(selector)\n",
    "    .transform_filter(\"datum.normalized_error !== null\")\n",
    ")\n",
    "\n",
    "stripplot.configure_axis(labelFontSize=20, titleFontSize=20).configure_header(titleFontSize=24)"
   ]
  },
  {
   "cell_type": "markdown",
   "metadata": {},
   "source": [
    "# Export the data"
   ]
  },
  {
   "cell_type": "code",
   "execution_count": 22,
   "metadata": {},
   "outputs": [],
   "source": [
    "data_path = Path('../data')\n",
    "path =  data_path / \"processed\"\n",
    "path.mkdir(parents=True, exist_ok=True)"
   ]
  },
  {
   "cell_type": "code",
   "execution_count": 23,
   "metadata": {},
   "outputs": [],
   "source": [
    "x_rel_error.to_dataframe().reset_index().to_csv(data_path / \"processed\" / \"ko_relative_errors.csv\")"
   ]
  },
  {
   "cell_type": "code",
   "execution_count": 24,
   "metadata": {},
   "outputs": [],
   "source": [
    "x_norm_error.to_dataframe().reset_index().to_csv(data_path / \"processed\" / \"ko_summary_errors.csv\")"
   ]
  },
  {
   "cell_type": "code",
   "execution_count": null,
   "metadata": {},
   "outputs": [],
   "source": []
  }
 ],
 "metadata": {
  "kernelspec": {
   "display_name": "dataml-conda",
   "language": "python",
   "name": "dataml-conda"
  },
  "language_info": {
   "codemirror_mode": {
    "name": "ipython",
    "version": 3
   },
   "file_extension": ".py",
   "mimetype": "text/x-python",
   "name": "python",
   "nbconvert_exporter": "python",
   "pygments_lexer": "ipython3",
   "version": "3.6.10"
  }
 },
 "nbformat": 4,
 "nbformat_minor": 4
}
