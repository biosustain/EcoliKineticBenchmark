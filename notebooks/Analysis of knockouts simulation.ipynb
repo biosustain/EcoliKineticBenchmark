{
 "cells": [
  {
   "cell_type": "code",
   "execution_count": 1,
   "metadata": {},
   "outputs": [],
   "source": [
    "import numpy as np\n",
    "import pandas as pd\n",
    "import scipy\n",
    "import scipy.io as sio\n",
    "\n",
    "from pathlib import Path\n",
    "from matplotlib import pyplot as plt\n",
    "\n",
    "import altair as alt\n",
    "from altair.expr import datum\n",
    "\n",
    "import ipywidgets as widgets\n",
    "from ipywidgets import interact, interact_manual"
   ]
  },
  {
   "cell_type": "code",
   "execution_count": 2,
   "metadata": {},
   "outputs": [],
   "source": [
    "%load_ext watermark"
   ]
  },
  {
   "cell_type": "code",
   "execution_count": 3,
   "metadata": {},
   "outputs": [
    {
     "name": "stdout",
     "output_type": "stream",
     "text": [
      "matplotlib3.0.1\n",
      "pandas    0.23.4\n",
      "scipy     1.1.0\n",
      "altair    2.1.0\n",
      "numpy     1.15.4\n",
      "ipywidgets7.2.1\n",
      "\n"
     ]
    }
   ],
   "source": [
    "%watermark --iversions"
   ]
  },
  {
   "cell_type": "code",
   "execution_count": 4,
   "metadata": {},
   "outputs": [],
   "source": [
    "%matplotlib inline"
   ]
  },
  {
   "cell_type": "markdown",
   "metadata": {},
   "source": [
    "# 0. Utility functions\n",
    "- Define function that flattens the output from scipy.io.loadmat \n",
    "- Set paths to `data` folder\n",
    "- Load dataframes with ID -> BiGG ID conversion table\n",
    "- Define functions that help to load relevant experimental data from each simulation"
   ]
  },
  {
   "cell_type": "code",
   "execution_count": 5,
   "metadata": {},
   "outputs": [],
   "source": [
    "from utils import (\n",
    "    get_khodayari_kos,\n",
    "    get_millard_kos,\n",
    "    get_kurata_kos,\n",
    "    get_chassagnole_kos,\n",
    "    load_khodayari,\n",
    "    load_kurata,\n",
    "    load_millard,\n",
    "    load_chassagnole,\n",
    "    loadmat\n",
    ")"
   ]
  },
  {
   "cell_type": "code",
   "execution_count": 6,
   "metadata": {},
   "outputs": [],
   "source": [
    "# useful metrics to compare data\n",
    "from utils import relative_error, normalized_error"
   ]
  },
  {
   "cell_type": "code",
   "execution_count": 7,
   "metadata": {},
   "outputs": [],
   "source": [
    "data_path = Path('../data')\n",
    "path_to_results = data_path / \"simulation_results\"\n",
    "khodayari_path = path_to_results / \"Khodayari\"\n",
    "millard_path = path_to_results / \"Millard\"\n",
    "kurata_path = path_to_results / \"Kurata\"\n",
    "chassagnole_path = path_to_results / \"Chassagnole\""
   ]
  },
  {
   "cell_type": "code",
   "execution_count": 8,
   "metadata": {},
   "outputs": [],
   "source": [
    "# Load ID dataframes\n",
    "khod_idf = pd.read_csv(data_path / \"khodayari_id.csv\")\n",
    "millard_idf = pd.read_csv(data_path / \"millard_id.csv\")\n",
    "kurata_idf = pd.read_csv(data_path / \"kurata_id.csv\")\n",
    "chassagnole_idf = pd.read_csv(data_path / \"chassagnole_id.csv\")"
   ]
  },
  {
   "cell_type": "markdown",
   "metadata": {},
   "source": [
    "# 1. Load the simulation data"
   ]
  },
  {
   "cell_type": "code",
   "execution_count": 9,
   "metadata": {},
   "outputs": [
    {
     "name": "stdout",
     "output_type": "stream",
     "text": [
      "Loaded data file for sample fbaA which has flux matrix of (786, 2)\n",
      "Loaded data file for sample fbaB which has flux matrix of (786, 2)\n",
      "Loaded data file for sample fbp which has flux matrix of (786, 97)\n",
      "Loaded data file for sample gnd which has flux matrix of (786, 7)\n",
      "Loaded data file for sample pfkA which has flux matrix of (786, 6)\n",
      "Loaded data file for sample pfkB which has flux matrix of (786, 6)\n",
      "Loaded data file for sample pgi which has flux matrix of (786, 5)\n",
      "Loaded data file for sample pgl which has flux matrix of (786, 2)\n",
      "Loaded data file for sample ppsA which has flux matrix of (786, 2)\n",
      "Loaded data file for sample pts which has flux matrix of (786, 7)\n",
      "Loaded data file for sample pykA which has flux matrix of (786, 2)\n",
      "Loaded data file for sample pykF which has flux matrix of (786, 2)\n",
      "Loaded data file for sample rpe which has flux matrix of (786, 2)\n",
      "Loaded data file for sample rpiA which has flux matrix of (786, 7)\n",
      "Loaded data file for sample rpiB which has flux matrix of (786, 7)\n",
      "Loaded data file for sample sdhCD which has flux matrix of (786, 6)\n",
      "Loaded data file for sample sucA which has flux matrix of (786, 6)\n",
      "Loaded data file for sample talA which has flux matrix of (786, 2)\n",
      "Loaded data file for sample tktA which has flux matrix of (786, 2)\n",
      "Loaded data file for sample tktB which has flux matrix of (786, 2)\n",
      "Loaded data file for sample tpi which has flux matrix of (786, 5)\n",
      "Loaded data file for sample zwf which has flux matrix of (786, 9)\n",
      "Loaded data file for sample WT which has flux matrix of (786, 98)\n"
     ]
    }
   ],
   "source": [
    "khodayari_results = load_khodayari(\n",
    "    sample_names=\"all\",\n",
    "    load_path=khodayari_path,\n",
    "    id_df=khod_idf,\n",
    "    files=get_khodayari_kos(),\n",
    ")"
   ]
  },
  {
   "cell_type": "code",
   "execution_count": 10,
   "metadata": {},
   "outputs": [
    {
     "name": "stdout",
     "output_type": "stream",
     "text": [
      "Loaded data file for sample fbaA which has flux matrix of (2101, 155)\n",
      "Loaded data file for sample fbaB which has flux matrix of (2101, 155)\n",
      "Loaded data file for sample fbp which has flux matrix of (2101, 155)\n",
      "Loaded data file for sample gnd which has flux matrix of (2101, 155)\n",
      "Loaded data file for sample gpmA which has flux matrix of (2101, 155)\n",
      "Loaded data file for sample pfkA which has flux matrix of (2101, 155)\n",
      "Loaded data file for sample pfkB which has flux matrix of (2101, 155)\n",
      "Loaded data file for sample pgi which has flux matrix of (2101, 155)\n",
      "Loaded data file for sample ppc which has flux matrix of (2101, 155)\n",
      "Loaded data file for sample pgl which has flux matrix of (2101, 155)\n",
      "Loaded data file for sample ppsA which has flux matrix of (2101, 155)\n",
      "Loaded data file for sample pts which has flux matrix of (2101, 155)\n",
      "Loaded data file for sample pykA which has flux matrix of (2101, 155)\n",
      "Loaded data file for sample pykF which has flux matrix of (2101, 155)\n",
      "Loaded data file for sample rpe which has flux matrix of (2101, 155)\n",
      "Loaded data file for sample rpiA which has flux matrix of (2101, 155)\n",
      "Loaded data file for sample rpiB which has flux matrix of (2101, 155)\n",
      "Loaded data file for sample sdhCD which has flux matrix of (2101, 155)\n",
      "Loaded data file for sample sucA which has flux matrix of (2101, 155)\n",
      "Loaded data file for sample talA which has flux matrix of (2101, 155)\n",
      "Loaded data file for sample talB which has flux matrix of (2101, 155)\n",
      "Loaded data file for sample tktA which has flux matrix of (2101, 155)\n",
      "Loaded data file for sample tktB which has flux matrix of (2101, 155)\n",
      "Loaded data file for sample tpi which has flux matrix of (2101, 155)\n",
      "Loaded data file for sample zwf which has flux matrix of (2101, 155)\n",
      "Loaded data file for sample glk which has flux matrix of (2101, 155)\n",
      "Loaded data file for sample WT which has flux matrix of (2101, 155)\n"
     ]
    }
   ],
   "source": [
    "kurata_results = load_kurata(\n",
    "    sample_names=\"all\", load_path=kurata_path, id_df=kurata_idf, files=get_kurata_kos()\n",
    ")"
   ]
  },
  {
   "cell_type": "code",
   "execution_count": 11,
   "metadata": {},
   "outputs": [
    {
     "name": "stdout",
     "output_type": "stream",
     "text": [
      "Loaded data file for sample fbaA which has flux matrix of (68,)\n",
      "Loaded data file for sample fbaB which has flux matrix of (68,)\n",
      "Loaded data file for sample fbp which has flux matrix of (68,)\n",
      "Loaded data file for sample gnd which has flux matrix of (68,)\n",
      "Loaded data file for sample pfkA which has flux matrix of (68,)\n",
      "Loaded data file for sample pfkB which has flux matrix of (68,)\n",
      "Loaded data file for sample pgi which has flux matrix of (68,)\n",
      "Loaded data file for sample pgl which has flux matrix of (68,)\n",
      "Loaded data file for sample ppsA which has flux matrix of (68,)\n",
      "Loaded data file for sample pts which has flux matrix of (68,)\n",
      "Loaded data file for sample pykA which has flux matrix of (68,)\n",
      "Loaded data file for sample pykF which has flux matrix of (68,)\n",
      "Loaded data file for sample rpe which has flux matrix of (68,)\n",
      "Loaded data file for sample rpiA which has flux matrix of (68,)\n",
      "Loaded data file for sample rpiB which has flux matrix of (68,)\n",
      "Loaded data file for sample sdhCD which has flux matrix of (68,)\n",
      "Loaded data file for sample talAB which has flux matrix of (68,)\n",
      "Loaded data file for sample tkt1 which has flux matrix of (68,)\n",
      "Loaded data file for sample tkt2 which has flux matrix of (68,)\n",
      "Loaded data file for sample tpi which has flux matrix of (68,)\n",
      "Loaded data file for sample zwf which has flux matrix of (68,)\n",
      "Loaded data file for sample sucA which has flux matrix of (68,)\n",
      "Loaded data file for sample WT which has flux matrix of (68,)\n"
     ]
    }
   ],
   "source": [
    "millard_results = load_millard(\n",
    "    sample_names=\"all\", load_path=millard_path, id_df=millard_idf, files = get_millard_kos()\n",
    ")"
   ]
  },
  {
   "cell_type": "code",
   "execution_count": 12,
   "metadata": {},
   "outputs": [
    {
     "name": "stdout",
     "output_type": "stream",
     "text": [
      "Loaded data file for sample fbaA which has flux matrix of (48,)\n",
      "Loaded data file for sample fbaB which has flux matrix of (48,)\n",
      "Loaded data file for sample gnd which has flux matrix of (48,)\n",
      "Loaded data file for sample pfkA which has flux matrix of (48,)\n",
      "Loaded data file for sample pfkB which has flux matrix of (48,)\n",
      "Loaded data file for sample pgi which has flux matrix of (48,)\n",
      "Loaded data file for sample pykAF which has flux matrix of (48,)\n",
      "Loaded data file for sample rpe which has flux matrix of (48,)\n",
      "Loaded data file for sample rpiA which has flux matrix of (48,)\n",
      "Loaded data file for sample rpiB which has flux matrix of (48,)\n",
      "Loaded data file for sample talA which has flux matrix of (48,)\n",
      "Loaded data file for sample talB which has flux matrix of (48,)\n",
      "Loaded data file for sample tkt1 which has flux matrix of (48,)\n",
      "Loaded data file for sample tkt2 which has flux matrix of (48,)\n",
      "Loaded data file for sample tpi which has flux matrix of (48,)\n",
      "Loaded data file for sample zwf which has flux matrix of (48,)\n"
     ]
    }
   ],
   "source": [
    "chassagnole_results = load_chassagnole(\n",
    "    sample_names=\"all\",\n",
    "    load_path=chassagnole_path,\n",
    "    id_df=chassagnole_idf,\n",
    "    files=get_chassagnole_kos(),\n",
    ")"
   ]
  },
  {
   "cell_type": "code",
   "execution_count": 13,
   "metadata": {},
   "outputs": [],
   "source": [
    "simulation_results = pd.concat([khodayari_results, kurata_results, millard_results, chassagnole_results], sort=False)"
   ]
  },
  {
   "cell_type": "code",
   "execution_count": 14,
   "metadata": {},
   "outputs": [
    {
     "data": {
      "text/html": [
       "<div>\n",
       "<style scoped>\n",
       "    .dataframe tbody tr th:only-of-type {\n",
       "        vertical-align: middle;\n",
       "    }\n",
       "\n",
       "    .dataframe tbody tr th {\n",
       "        vertical-align: top;\n",
       "    }\n",
       "\n",
       "    .dataframe thead th {\n",
       "        text-align: right;\n",
       "    }\n",
       "</style>\n",
       "<table border=\"1\" class=\"dataframe\">\n",
       "  <thead>\n",
       "    <tr style=\"text-align: right;\">\n",
       "      <th></th>\n",
       "      <th>flux</th>\n",
       "      <th>ID</th>\n",
       "      <th>BiGG_ID</th>\n",
       "      <th>author</th>\n",
       "      <th>sample_id</th>\n",
       "      <th>normalized_flux</th>\n",
       "    </tr>\n",
       "  </thead>\n",
       "  <tbody>\n",
       "    <tr>\n",
       "      <th>0</th>\n",
       "      <td>-0.059225</td>\n",
       "      <td>ACALD</td>\n",
       "      <td>ACALD</td>\n",
       "      <td>Khodayari</td>\n",
       "      <td>fbaA</td>\n",
       "      <td>-0.059127</td>\n",
       "    </tr>\n",
       "    <tr>\n",
       "      <th>1</th>\n",
       "      <td>-0.004108</td>\n",
       "      <td>ACALDtpp_ex</td>\n",
       "      <td>composed of ACALDtex and ACALDtpp</td>\n",
       "      <td>Khodayari</td>\n",
       "      <td>fbaA</td>\n",
       "      <td>-0.004101</td>\n",
       "    </tr>\n",
       "    <tr>\n",
       "      <th>2</th>\n",
       "      <td>0.000028</td>\n",
       "      <td>ACKr</td>\n",
       "      <td>ACKr</td>\n",
       "      <td>Khodayari</td>\n",
       "      <td>fbaA</td>\n",
       "      <td>0.000028</td>\n",
       "    </tr>\n",
       "    <tr>\n",
       "      <th>3</th>\n",
       "      <td>94.519769</td>\n",
       "      <td>ACONTa</td>\n",
       "      <td>ACONTa</td>\n",
       "      <td>Khodayari</td>\n",
       "      <td>fbaA</td>\n",
       "      <td>94.364274</td>\n",
       "    </tr>\n",
       "    <tr>\n",
       "      <th>4</th>\n",
       "      <td>94.276304</td>\n",
       "      <td>ACONTb</td>\n",
       "      <td>ACONTb</td>\n",
       "      <td>Khodayari</td>\n",
       "      <td>fbaA</td>\n",
       "      <td>94.121209</td>\n",
       "    </tr>\n",
       "  </tbody>\n",
       "</table>\n",
       "</div>"
      ],
      "text/plain": [
       "        flux           ID                            BiGG_ID     author  \\\n",
       "0  -0.059225        ACALD                              ACALD  Khodayari   \n",
       "1  -0.004108  ACALDtpp_ex  composed of ACALDtex and ACALDtpp  Khodayari   \n",
       "2   0.000028         ACKr                               ACKr  Khodayari   \n",
       "3  94.519769       ACONTa                             ACONTa  Khodayari   \n",
       "4  94.276304       ACONTb                             ACONTb  Khodayari   \n",
       "\n",
       "  sample_id  normalized_flux  \n",
       "0      fbaA        -0.059127  \n",
       "1      fbaA        -0.004101  \n",
       "2      fbaA         0.000028  \n",
       "3      fbaA        94.364274  \n",
       "4      fbaA        94.121209  "
      ]
     },
     "execution_count": 14,
     "metadata": {},
     "output_type": "execute_result"
    }
   ],
   "source": [
    "simulation_results.head()"
   ]
  },
  {
   "cell_type": "markdown",
   "metadata": {},
   "source": [
    "# 2. Load experimental data and mix it with simulation data"
   ]
  },
  {
   "cell_type": "code",
   "execution_count": 15,
   "metadata": {},
   "outputs": [],
   "source": [
    "ishii_df = pd.read_csv('../data/datasets/ishii2007_tidy.csv')"
   ]
  },
  {
   "cell_type": "code",
   "execution_count": 16,
   "metadata": {},
   "outputs": [],
   "source": [
    "df = ishii_df\n",
    "# this regexp matches deletions starting with d like dpgi\n",
    "df[\"sample_id\"] = df.Genotype.str.extract(r\"d(\\w+)\")\n",
    "df.loc[df.Genotype == \"WT\", \"sample_id\"] = \"WT\"\n",
    "\n",
    "df = df.assign(author=\"Ishii\")\n",
    "df = df.rename(\n",
    "    {\n",
    "        \"Measurement_ID\": \"BiGG_ID\",\n",
    "        \"Original_Value\": \"normalized_flux\",\n",
    "        \"Value\": \"flux\",\n",
    "        \"Original_ID\": \"ID\",\n",
    "    },\n",
    "    axis=1,\n",
    ")\n",
    "df = df[df['Measurement_Type'] == 'flux']\n",
    "df.loc[df[\"BiGG_ID\"] == \"PYKF\", \"BiGG_ID\"] = \"PYK\"\n",
    "\n",
    "df = df[[\"flux\", \"ID\", \"BiGG_ID\", \"author\", \"sample_id\", \"normalized_flux\"]]\n",
    "exp_results = df"
   ]
  },
  {
   "cell_type": "code",
   "execution_count": 17,
   "metadata": {},
   "outputs": [
    {
     "data": {
      "text/html": [
       "<div>\n",
       "<style scoped>\n",
       "    .dataframe tbody tr th:only-of-type {\n",
       "        vertical-align: middle;\n",
       "    }\n",
       "\n",
       "    .dataframe tbody tr th {\n",
       "        vertical-align: top;\n",
       "    }\n",
       "\n",
       "    .dataframe thead th {\n",
       "        text-align: right;\n",
       "    }\n",
       "</style>\n",
       "<table border=\"1\" class=\"dataframe\">\n",
       "  <thead>\n",
       "    <tr style=\"text-align: right;\">\n",
       "      <th></th>\n",
       "      <th>flux</th>\n",
       "      <th>ID</th>\n",
       "      <th>BiGG_ID</th>\n",
       "      <th>author</th>\n",
       "      <th>sample_id</th>\n",
       "      <th>normalized_flux</th>\n",
       "    </tr>\n",
       "  </thead>\n",
       "  <tbody>\n",
       "    <tr>\n",
       "      <th>25</th>\n",
       "      <td>0.0000</td>\n",
       "      <td>ACALD</td>\n",
       "      <td>ACALD</td>\n",
       "      <td>Ishii</td>\n",
       "      <td>pgm</td>\n",
       "      <td>0.0</td>\n",
       "    </tr>\n",
       "    <tr>\n",
       "      <th>26</th>\n",
       "      <td>2.8458</td>\n",
       "      <td>ACONTa</td>\n",
       "      <td>ACONTa</td>\n",
       "      <td>Ishii</td>\n",
       "      <td>pgm</td>\n",
       "      <td>93.0</td>\n",
       "    </tr>\n",
       "    <tr>\n",
       "      <th>27</th>\n",
       "      <td>2.2644</td>\n",
       "      <td>AKGDH</td>\n",
       "      <td>AKGDH</td>\n",
       "      <td>Ishii</td>\n",
       "      <td>pgm</td>\n",
       "      <td>74.0</td>\n",
       "    </tr>\n",
       "    <tr>\n",
       "      <th>28</th>\n",
       "      <td>2.8458</td>\n",
       "      <td>CS</td>\n",
       "      <td>CS</td>\n",
       "      <td>Ishii</td>\n",
       "      <td>pgm</td>\n",
       "      <td>93.0</td>\n",
       "    </tr>\n",
       "    <tr>\n",
       "      <th>29</th>\n",
       "      <td>0.2448</td>\n",
       "      <td>EX_akg(e)</td>\n",
       "      <td>EX_akg(e)</td>\n",
       "      <td>Ishii</td>\n",
       "      <td>pgm</td>\n",
       "      <td>8.0</td>\n",
       "    </tr>\n",
       "  </tbody>\n",
       "</table>\n",
       "</div>"
      ],
      "text/plain": [
       "      flux         ID    BiGG_ID author sample_id  normalized_flux\n",
       "25  0.0000      ACALD      ACALD  Ishii       pgm              0.0\n",
       "26  2.8458     ACONTa     ACONTa  Ishii       pgm             93.0\n",
       "27  2.2644      AKGDH      AKGDH  Ishii       pgm             74.0\n",
       "28  2.8458         CS         CS  Ishii       pgm             93.0\n",
       "29  0.2448  EX_akg(e)  EX_akg(e)  Ishii       pgm              8.0"
      ]
     },
     "execution_count": 17,
     "metadata": {},
     "output_type": "execute_result"
    }
   ],
   "source": [
    "exp_results.head()"
   ]
  },
  {
   "cell_type": "markdown",
   "metadata": {},
   "source": [
    "# 3. Load COBRA data simulation and add it to data"
   ]
  },
  {
   "cell_type": "code",
   "execution_count": 18,
   "metadata": {},
   "outputs": [
    {
     "data": {
      "text/html": [
       "<div>\n",
       "<style scoped>\n",
       "    .dataframe tbody tr th:only-of-type {\n",
       "        vertical-align: middle;\n",
       "    }\n",
       "\n",
       "    .dataframe tbody tr th {\n",
       "        vertical-align: top;\n",
       "    }\n",
       "\n",
       "    .dataframe thead th {\n",
       "        text-align: right;\n",
       "    }\n",
       "</style>\n",
       "<table border=\"1\" class=\"dataframe\">\n",
       "  <thead>\n",
       "    <tr style=\"text-align: right;\">\n",
       "      <th></th>\n",
       "      <th>ID</th>\n",
       "      <th>flux</th>\n",
       "      <th>sample_id</th>\n",
       "      <th>author</th>\n",
       "      <th>BiGG_ID</th>\n",
       "      <th>normalized_flux</th>\n",
       "    </tr>\n",
       "  </thead>\n",
       "  <tbody>\n",
       "    <tr>\n",
       "      <th>0</th>\n",
       "      <td>ALATA_D2</td>\n",
       "      <td>0.000000</td>\n",
       "      <td>WT</td>\n",
       "      <td>COBRA</td>\n",
       "      <td>ALATA_D2</td>\n",
       "      <td>0.000000</td>\n",
       "    </tr>\n",
       "    <tr>\n",
       "      <th>1</th>\n",
       "      <td>SHCHD2</td>\n",
       "      <td>0.000042</td>\n",
       "      <td>WT</td>\n",
       "      <td>COBRA</td>\n",
       "      <td>SHCHD2</td>\n",
       "      <td>0.001481</td>\n",
       "    </tr>\n",
       "    <tr>\n",
       "      <th>2</th>\n",
       "      <td>CPPPGO</td>\n",
       "      <td>0.000042</td>\n",
       "      <td>WT</td>\n",
       "      <td>COBRA</td>\n",
       "      <td>CPPPGO</td>\n",
       "      <td>0.001481</td>\n",
       "    </tr>\n",
       "    <tr>\n",
       "      <th>3</th>\n",
       "      <td>GTHOr</td>\n",
       "      <td>0.000000</td>\n",
       "      <td>WT</td>\n",
       "      <td>COBRA</td>\n",
       "      <td>GTHOr</td>\n",
       "      <td>0.000000</td>\n",
       "    </tr>\n",
       "    <tr>\n",
       "      <th>4</th>\n",
       "      <td>DHORD5</td>\n",
       "      <td>0.000000</td>\n",
       "      <td>WT</td>\n",
       "      <td>COBRA</td>\n",
       "      <td>DHORD5</td>\n",
       "      <td>0.000000</td>\n",
       "    </tr>\n",
       "  </tbody>\n",
       "</table>\n",
       "</div>"
      ],
      "text/plain": [
       "         ID      flux sample_id author   BiGG_ID  normalized_flux\n",
       "0  ALATA_D2  0.000000        WT  COBRA  ALATA_D2         0.000000\n",
       "1    SHCHD2  0.000042        WT  COBRA    SHCHD2         0.001481\n",
       "2    CPPPGO  0.000042        WT  COBRA    CPPPGO         0.001481\n",
       "3     GTHOr  0.000000        WT  COBRA     GTHOr         0.000000\n",
       "4    DHORD5  0.000000        WT  COBRA    DHORD5         0.000000"
      ]
     },
     "execution_count": 18,
     "metadata": {},
     "output_type": "execute_result"
    }
   ],
   "source": [
    "cobra_results = pd.read_csv(f'../data/simulation_results/COBRA/knockouts_all.csv', index_col=0)\n",
    "cobra_results.head()"
   ]
  },
  {
   "cell_type": "code",
   "execution_count": 19,
   "metadata": {},
   "outputs": [],
   "source": [
    "all_results = pd.concat([simulation_results, cobra_results, exp_results], sort=False)"
   ]
  },
  {
   "cell_type": "code",
   "execution_count": 20,
   "metadata": {},
   "outputs": [
    {
     "data": {
      "text/plain": [
       "COBRA          48816\n",
       "Khodayari      10511\n",
       "Kurata          4293\n",
       "Millard         1564\n",
       "Ishii           1012\n",
       "Chassagnole      768\n",
       "Name: author, dtype: int64"
      ]
     },
     "execution_count": 20,
     "metadata": {},
     "output_type": "execute_result"
    }
   ],
   "source": [
    "all_results.author.value_counts()"
   ]
  },
  {
   "cell_type": "markdown",
   "metadata": {},
   "source": [
    "# 4. Subselect specific data and calculate error metrics"
   ]
  },
  {
   "cell_type": "code",
   "execution_count": 21,
   "metadata": {},
   "outputs": [],
   "source": [
    "common_fluxes = set(khod_idf[\"BiGG ID\"].unique()).intersection(\n",
    "    set(millard_idf[\"BiGG ID\"].unique()),\n",
    "    set(kurata_idf[\"BiGG ID\"].unique()),\n",
    "   # set(chassagnole_idf[\"BiGG ID\"].unique()), Chassagnole model does not contain TCA, that limits other models very significantly\n",
    ")"
   ]
  },
  {
   "cell_type": "code",
   "execution_count": 22,
   "metadata": {},
   "outputs": [
    {
     "data": {
      "text/plain": [
       "{'ACKr',\n",
       " 'ACS',\n",
       " 'AKGDH',\n",
       " 'CS',\n",
       " 'EDA',\n",
       " 'EDD',\n",
       " 'ENO',\n",
       " 'FBA',\n",
       " 'FBP',\n",
       " 'FUM',\n",
       " 'G6PDH2r',\n",
       " 'GAPD',\n",
       " 'GLCptspp',\n",
       " 'GND',\n",
       " 'ICDHyr',\n",
       " 'ICL',\n",
       " 'MALS',\n",
       " 'MDH',\n",
       " 'PDH',\n",
       " 'PFK',\n",
       " 'PGI',\n",
       " 'PGK',\n",
       " 'PGL',\n",
       " 'PGM',\n",
       " 'PPC',\n",
       " 'PPCK',\n",
       " 'PPS',\n",
       " 'PTAr',\n",
       " 'PYK',\n",
       " 'RPE',\n",
       " 'RPI',\n",
       " 'SUCDi',\n",
       " 'TALA',\n",
       " 'TKT1',\n",
       " 'TPI'}"
      ]
     },
     "execution_count": 22,
     "metadata": {},
     "output_type": "execute_result"
    }
   ],
   "source": [
    "common_fluxes = {x for x in common_fluxes if pd.notna(x)}\n",
    "common_fluxes"
   ]
  },
  {
   "cell_type": "code",
   "execution_count": 23,
   "metadata": {},
   "outputs": [
    {
     "data": {
      "text/plain": [
       "{'AKGDH',\n",
       " 'CS',\n",
       " 'EDA',\n",
       " 'FBA',\n",
       " 'FUM',\n",
       " 'G6PDH2r',\n",
       " 'GAPD',\n",
       " 'GLCptspp',\n",
       " 'GND',\n",
       " 'ICDHyr',\n",
       " 'ICL',\n",
       " 'MALS',\n",
       " 'MDH',\n",
       " 'PDH',\n",
       " 'PGI',\n",
       " 'PGM',\n",
       " 'PPC',\n",
       " 'PTAr',\n",
       " 'PYK',\n",
       " 'RPE',\n",
       " 'RPI',\n",
       " 'SUCDi',\n",
       " 'TALA',\n",
       " 'TKT1',\n",
       " 'TPI'}"
      ]
     },
     "execution_count": 23,
     "metadata": {},
     "output_type": "execute_result"
    }
   ],
   "source": [
    "common_fluxes = common_fluxes.intersection(set(exp_results.BiGG_ID.unique()))\n",
    "common_fluxes"
   ]
  },
  {
   "cell_type": "code",
   "execution_count": 24,
   "metadata": {},
   "outputs": [],
   "source": [
    "# selected_reactions = [\n",
    "#     \"GLCptspp\",\n",
    "#     \"PGI\",\n",
    "#     \"G6PDH2r\",\n",
    "#     \"GND\",\n",
    "#     \"PYK\",\n",
    "#     \"PPC\",\n",
    "#     \"FUM\",\n",
    "#     \"MDH\",\n",
    "#     \"PDH\",\n",
    "#     \"PTAr\",\n",
    "# ]\n",
    "selected_reactions = [x for x in common_fluxes if pd.notna(x)]\n",
    "\n",
    "#selected_strains = [\"zwf\", \"pgi\", \"gnd\", \"pykA\", \"pykF\", \"rpiA\", \"tktA\", \"pfkA\", \"WT\"]\n",
    "selected_strains = exp_results.sample_id.unique()\n",
    "selected_authors = [\"Khodayari\", \"Millard\", \"Kurata\", \"Ishii\", \"COBRA\", \"Chassagnole\"]\n",
    "experimental_dataset = \"Ishii\"\n",
    "\n",
    "# select the right data and find median flux if there are several fluxes which are mapped to one BiGG ID\n",
    "selected_data = all_results[\n",
    "    (all_results[\"BiGG_ID\"].isin(selected_reactions))\n",
    "    & (all_results[\"sample_id\"].isin(selected_strains))\n",
    "    & (all_results[\"author\"].isin(selected_authors))\n",
    "].groupby([\"BiGG_ID\", \"sample_id\", \"author\"]).median().reset_index()"
   ]
  },
  {
   "cell_type": "markdown",
   "metadata": {},
   "source": [
    "## Calculate relative error"
   ]
  },
  {
   "cell_type": "code",
   "execution_count": 25,
   "metadata": {},
   "outputs": [],
   "source": [
    "# Check if experimental data is present for every BiGG ID\n",
    "# selected_data.groupby([\"BiGG_ID\", \"sample_id\"]).apply(lambda x: any(x.author.str.contains(experimental_dataset)))\n",
    "selected_data = selected_data.groupby([\"BiGG_ID\", \"sample_id\"]).apply(relative_error, exp_name=experimental_dataset).reset_index().drop(\"level_2\", axis = 1)"
   ]
  },
  {
   "cell_type": "code",
   "execution_count": 26,
   "metadata": {},
   "outputs": [
    {
     "data": {
      "text/html": [
       "<div>\n",
       "<style scoped>\n",
       "    .dataframe tbody tr th:only-of-type {\n",
       "        vertical-align: middle;\n",
       "    }\n",
       "\n",
       "    .dataframe tbody tr th {\n",
       "        vertical-align: top;\n",
       "    }\n",
       "\n",
       "    .dataframe thead th {\n",
       "        text-align: right;\n",
       "    }\n",
       "</style>\n",
       "<table border=\"1\" class=\"dataframe\">\n",
       "  <thead>\n",
       "    <tr style=\"text-align: right;\">\n",
       "      <th></th>\n",
       "      <th>BiGG_ID</th>\n",
       "      <th>sample_id</th>\n",
       "      <th>author</th>\n",
       "      <th>flux</th>\n",
       "      <th>normalized_flux</th>\n",
       "      <th>relative_error</th>\n",
       "    </tr>\n",
       "  </thead>\n",
       "  <tbody>\n",
       "    <tr>\n",
       "      <th>0</th>\n",
       "      <td>AKGDH</td>\n",
       "      <td>WT</td>\n",
       "      <td>COBRA</td>\n",
       "      <td>0.877106</td>\n",
       "      <td>30.668033</td>\n",
       "      <td>92.382733</td>\n",
       "    </tr>\n",
       "    <tr>\n",
       "      <th>1</th>\n",
       "      <td>AKGDH</td>\n",
       "      <td>WT</td>\n",
       "      <td>Ishii</td>\n",
       "      <td>1.687400</td>\n",
       "      <td>59.000000</td>\n",
       "      <td>0.000000</td>\n",
       "    </tr>\n",
       "    <tr>\n",
       "      <th>2</th>\n",
       "      <td>AKGDH</td>\n",
       "      <td>WT</td>\n",
       "      <td>Khodayari</td>\n",
       "      <td>60.878139</td>\n",
       "      <td>55.422880</td>\n",
       "      <td>6.454229</td>\n",
       "    </tr>\n",
       "    <tr>\n",
       "      <th>3</th>\n",
       "      <td>AKGDH</td>\n",
       "      <td>WT</td>\n",
       "      <td>Kurata</td>\n",
       "      <td>165.725978</td>\n",
       "      <td>12.855821</td>\n",
       "      <td>358.936075</td>\n",
       "    </tr>\n",
       "    <tr>\n",
       "      <th>4</th>\n",
       "      <td>AKGDH</td>\n",
       "      <td>WT</td>\n",
       "      <td>Millard</td>\n",
       "      <td>0.190254</td>\n",
       "      <td>47.563399</td>\n",
       "      <td>24.044962</td>\n",
       "    </tr>\n",
       "  </tbody>\n",
       "</table>\n",
       "</div>"
      ],
      "text/plain": [
       "  BiGG_ID sample_id     author        flux  normalized_flux  relative_error\n",
       "0   AKGDH        WT      COBRA    0.877106        30.668033       92.382733\n",
       "1   AKGDH        WT      Ishii    1.687400        59.000000        0.000000\n",
       "2   AKGDH        WT  Khodayari   60.878139        55.422880        6.454229\n",
       "3   AKGDH        WT     Kurata  165.725978        12.855821      358.936075\n",
       "4   AKGDH        WT    Millard    0.190254        47.563399       24.044962"
      ]
     },
     "execution_count": 26,
     "metadata": {},
     "output_type": "execute_result"
    }
   ],
   "source": [
    "selected_data.head()"
   ]
  },
  {
   "cell_type": "markdown",
   "metadata": {},
   "source": [
    "## Calculate normalized error for datasets"
   ]
  },
  {
   "cell_type": "code",
   "execution_count": 27,
   "metadata": {},
   "outputs": [],
   "source": [
    "normalized_errors = selected_data.groupby([\"sample_id\"]).apply(normalized_error, exp_name=\"Ishii\").reset_index().rename({0 : \"normalized_error\"}, axis = 1)"
   ]
  },
  {
   "cell_type": "code",
   "execution_count": 28,
   "metadata": {},
   "outputs": [
    {
     "data": {
      "text/plain": [
       "author\n",
       "Chassagnole    0.635257\n",
       "Ishii          0.000000\n",
       "Khodayari      0.895719\n",
       "Kurata         0.508944\n",
       "Millard        0.999690\n",
       "dtype: float64"
      ]
     },
     "execution_count": 28,
     "metadata": {},
     "output_type": "execute_result"
    }
   ],
   "source": [
    "normalized_error(selected_data.groupby([\"sample_id\"]).get_group(\"pfkB\"), exp_name=\"Ishii\")"
   ]
  },
  {
   "cell_type": "code",
   "execution_count": 29,
   "metadata": {},
   "outputs": [],
   "source": [
    "#ishii = selected_data.groupby([\"sample_id\"]).get_group(\"zwf\").groupby(\"author\").get_group(\"Ishii\")\n",
    "#chassagnole = selected_data.groupby([\"sample_id\"]).get_group(\"zwf\").groupby(\"author\").get_group(\"Chassagnole\")"
   ]
  },
  {
   "cell_type": "code",
   "execution_count": 30,
   "metadata": {},
   "outputs": [],
   "source": [
    "#diff = chassagnole.set_index(\"BiGG_ID\").normalized_flux - ishii.set_index(\"BiGG_ID\").normalized_flux"
   ]
  },
  {
   "cell_type": "code",
   "execution_count": 31,
   "metadata": {},
   "outputs": [],
   "source": [
    "#df1 = ishii.set_index(\"BiGG_ID\").loc[diff.loc[~diff.isna()].index]"
   ]
  },
  {
   "cell_type": "code",
   "execution_count": 32,
   "metadata": {},
   "outputs": [],
   "source": [
    "#np.linalg.norm(chassagnole.set_index(\"BiGG_ID\").normalized_flux - df1.normalized_flux) / np.linalg.norm(df1.normalized_flux)"
   ]
  },
  {
   "cell_type": "code",
   "execution_count": 33,
   "metadata": {},
   "outputs": [],
   "source": [
    "#np.linalg.norm((chassagnole.set_index(\"BiGG_ID\").normalized_flux - ishii.set_index(\"BiGG_ID\").normalized_flux).dropna()) / np.linalg.norm(ishii.set_index(\"BiGG_ID\").normalized_flux)"
   ]
  },
  {
   "cell_type": "code",
   "execution_count": 34,
   "metadata": {},
   "outputs": [
    {
     "data": {
      "text/html": [
       "<div>\n",
       "<style scoped>\n",
       "    .dataframe tbody tr th:only-of-type {\n",
       "        vertical-align: middle;\n",
       "    }\n",
       "\n",
       "    .dataframe tbody tr th {\n",
       "        vertical-align: top;\n",
       "    }\n",
       "\n",
       "    .dataframe thead th {\n",
       "        text-align: right;\n",
       "    }\n",
       "</style>\n",
       "<table border=\"1\" class=\"dataframe\">\n",
       "  <thead>\n",
       "    <tr style=\"text-align: right;\">\n",
       "      <th></th>\n",
       "      <th>sample_id</th>\n",
       "      <th>author</th>\n",
       "      <th>normalized_error</th>\n",
       "    </tr>\n",
       "  </thead>\n",
       "  <tbody>\n",
       "    <tr>\n",
       "      <th>0</th>\n",
       "      <td>WT</td>\n",
       "      <td>COBRA</td>\n",
       "      <td>0.938809</td>\n",
       "    </tr>\n",
       "    <tr>\n",
       "      <th>1</th>\n",
       "      <td>WT</td>\n",
       "      <td>Ishii</td>\n",
       "      <td>0.000000</td>\n",
       "    </tr>\n",
       "    <tr>\n",
       "      <th>2</th>\n",
       "      <td>WT</td>\n",
       "      <td>Khodayari</td>\n",
       "      <td>0.844346</td>\n",
       "    </tr>\n",
       "    <tr>\n",
       "      <th>3</th>\n",
       "      <td>WT</td>\n",
       "      <td>Kurata</td>\n",
       "      <td>0.429052</td>\n",
       "    </tr>\n",
       "    <tr>\n",
       "      <th>4</th>\n",
       "      <td>WT</td>\n",
       "      <td>Millard</td>\n",
       "      <td>0.075812</td>\n",
       "    </tr>\n",
       "  </tbody>\n",
       "</table>\n",
       "</div>"
      ],
      "text/plain": [
       "  sample_id     author  normalized_error\n",
       "0        WT      COBRA          0.938809\n",
       "1        WT      Ishii          0.000000\n",
       "2        WT  Khodayari          0.844346\n",
       "3        WT     Kurata          0.429052\n",
       "4        WT    Millard          0.075812"
      ]
     },
     "execution_count": 34,
     "metadata": {},
     "output_type": "execute_result"
    }
   ],
   "source": [
    "normalized_errors.head()"
   ]
  },
  {
   "cell_type": "markdown",
   "metadata": {
    "toc-hr-collapsed": false
   },
   "source": [
    "# 5. Visualize"
   ]
  },
  {
   "cell_type": "markdown",
   "metadata": {},
   "source": [
    "### Summary normalized error for the models"
   ]
  },
  {
   "cell_type": "code",
   "execution_count": 35,
   "metadata": {},
   "outputs": [
    {
     "data": {
      "application/vnd.vegalite.v2+json": {
       "$schema": "https://vega.github.io/schema/vega-lite/v2.4.3.json",
       "config": {
        "view": {
         "height": 300,
         "width": 400
        }
       },
       "height": 500,
       "layer": [
        {
         "data": {
          "values": [
           {
            "author": "COBRA",
            "normalized_error": 0.9388092511393986,
            "sample_id": "WT"
           },
           {
            "author": "Khodayari",
            "normalized_error": 0.8443462266627337,
            "sample_id": "WT"
           },
           {
            "author": "Kurata",
            "normalized_error": 0.4290517614624855,
            "sample_id": "WT"
           },
           {
            "author": "Millard",
            "normalized_error": 0.07581158695388648,
            "sample_id": "WT"
           },
           {
            "author": "Chassagnole",
            "normalized_error": 0.6244474229050386,
            "sample_id": "fbaB"
           },
           {
            "author": "Khodayari",
            "normalized_error": 0.8938370643430308,
            "sample_id": "fbaB"
           },
           {
            "author": "Kurata",
            "normalized_error": 0.41036299413225735,
            "sample_id": "fbaB"
           },
           {
            "author": "Millard",
            "normalized_error": 0.9975191270452002,
            "sample_id": "fbaB"
           },
           {
            "author": "COBRA",
            "normalized_error": 0.9364236389396657,
            "sample_id": "fbp"
           },
           {
            "author": "Khodayari",
            "normalized_error": 0.8452643841782691,
            "sample_id": "fbp"
           },
           {
            "author": "Kurata",
            "normalized_error": 0.4084761572320364,
            "sample_id": "fbp"
           },
           {
            "author": "Millard",
            "normalized_error": 0.09381200836540193,
            "sample_id": "fbp"
           },
           {
            "author": "COBRA",
            "normalized_error": 0.8749727662227617,
            "sample_id": "gnd"
           },
           {
            "author": "Chassagnole",
            "normalized_error": 0.37822472996855144,
            "sample_id": "gnd"
           },
           {
            "author": "Khodayari",
            "normalized_error": 0.6862230084017967,
            "sample_id": "gnd"
           },
           {
            "author": "Kurata",
            "normalized_error": 0.8561562149564127,
            "sample_id": "gnd"
           },
           {
            "author": "Millard",
            "normalized_error": 0.21294864452957682,
            "sample_id": "gnd"
           },
           {
            "author": "Kurata",
            "normalized_error": 0.9999998010720135,
            "sample_id": "gpmA"
           },
           {
            "author": "Chassagnole",
            "normalized_error": 0.626213468031761,
            "sample_id": "pfkA"
           },
           {
            "author": "Khodayari",
            "normalized_error": 0.860022725372159,
            "sample_id": "pfkA"
           },
           {
            "author": "Kurata",
            "normalized_error": 0.5733636526409739,
            "sample_id": "pfkA"
           },
           {
            "author": "Millard",
            "normalized_error": 1.0001800217498003,
            "sample_id": "pfkA"
           },
           {
            "author": "Chassagnole",
            "normalized_error": 0.6352570912575427,
            "sample_id": "pfkB"
           },
           {
            "author": "Khodayari",
            "normalized_error": 0.8957185153803924,
            "sample_id": "pfkB"
           },
           {
            "author": "Kurata",
            "normalized_error": 0.5089435525961448,
            "sample_id": "pfkB"
           },
           {
            "author": "Millard",
            "normalized_error": 0.999689710632175,
            "sample_id": "pfkB"
           },
           {
            "author": "COBRA",
            "normalized_error": 1.0033475688172986,
            "sample_id": "pgi"
           },
           {
            "author": "Chassagnole",
            "normalized_error": 0.3085617999115607,
            "sample_id": "pgi"
           },
           {
            "author": "Khodayari",
            "normalized_error": 0.7744289912172411,
            "sample_id": "pgi"
           },
           {
            "author": "Kurata",
            "normalized_error": 0.5377521956379365,
            "sample_id": "pgi"
           },
           {
            "author": "Millard",
            "normalized_error": 0.7559627196463703,
            "sample_id": "pgi"
           },
           {
            "author": "COBRA",
            "normalized_error": 0.9416110751640178,
            "sample_id": "pgl"
           },
           {
            "author": "Khodayari",
            "normalized_error": 0.8582715747692182,
            "sample_id": "pgl"
           },
           {
            "author": "Kurata",
            "normalized_error": 1.0000005321151348,
            "sample_id": "pgl"
           },
           {
            "author": "Millard",
            "normalized_error": 0.1858187800202747,
            "sample_id": "pgl"
           },
           {
            "author": "COBRA",
            "normalized_error": 0.9465179423578518,
            "sample_id": "ppsA"
           },
           {
            "author": "Khodayari",
            "normalized_error": 0.9086748427652517,
            "sample_id": "ppsA"
           },
           {
            "author": "Kurata",
            "normalized_error": 0.49388855765828377,
            "sample_id": "ppsA"
           },
           {
            "author": "Millard",
            "normalized_error": 0.18732914736336753,
            "sample_id": "ppsA"
           },
           {
            "author": "Khodayari",
            "normalized_error": 0.8579214726067208,
            "sample_id": "pykA"
           },
           {
            "author": "Kurata",
            "normalized_error": 0.4064879463120327,
            "sample_id": "pykA"
           },
           {
            "author": "Millard",
            "normalized_error": 0.29233605477908076,
            "sample_id": "pykA"
           },
           {
            "author": "Khodayari",
            "normalized_error": 0.8799312130033647,
            "sample_id": "pykF"
           },
           {
            "author": "Kurata",
            "normalized_error": 0.319800713456623,
            "sample_id": "pykF"
           },
           {
            "author": "Millard",
            "normalized_error": 0.28384269179698235,
            "sample_id": "pykF"
           },
           {
            "author": "COBRA",
            "normalized_error": 0.8819970608198497,
            "sample_id": "rpe"
           },
           {
            "author": "Chassagnole",
            "normalized_error": 0.3180540183260553,
            "sample_id": "rpe"
           },
           {
            "author": "Khodayari",
            "normalized_error": 0.79179478901551,
            "sample_id": "rpe"
           },
           {
            "author": "Kurata",
            "normalized_error": 0.9999986690032097,
            "sample_id": "rpe"
           },
           {
            "author": "Millard",
            "normalized_error": 0.2679820140688718,
            "sample_id": "rpe"
           },
           {
            "author": "Chassagnole",
            "normalized_error": 0.2494717721390048,
            "sample_id": "rpiA"
           },
           {
            "author": "Khodayari",
            "normalized_error": 0.641777154875663,
            "sample_id": "rpiA"
           },
           {
            "author": "Kurata",
            "normalized_error": 0.4291610868328768,
            "sample_id": "rpiA"
           },
           {
            "author": "Millard",
            "normalized_error": 0.24877423197038304,
            "sample_id": "rpiA"
           },
           {
            "author": "Chassagnole",
            "normalized_error": 0.2783701937818206,
            "sample_id": "rpiB"
           },
           {
            "author": "Khodayari",
            "normalized_error": 0.6267728058000724,
            "sample_id": "rpiB"
           },
           {
            "author": "Kurata",
            "normalized_error": 0.4737364631830639,
            "sample_id": "rpiB"
           },
           {
            "author": "Millard",
            "normalized_error": 0.2656162322988624,
            "sample_id": "rpiB"
           },
           {
            "author": "COBRA",
            "normalized_error": 0.9404585288477691,
            "sample_id": "talA"
           },
           {
            "author": "Chassagnole",
            "normalized_error": 0.22581846999529073,
            "sample_id": "talA"
           },
           {
            "author": "Khodayari",
            "normalized_error": 0.8748932923466883,
            "sample_id": "talA"
           },
           {
            "author": "Kurata",
            "normalized_error": 0.4766159000083567,
            "sample_id": "talA"
           },
           {
            "author": "Chassagnole",
            "normalized_error": 0.23506307750726624,
            "sample_id": "talB"
           },
           {
            "author": "Kurata",
            "normalized_error": 0.4856354920892755,
            "sample_id": "talB"
           },
           {
            "author": "Khodayari",
            "normalized_error": 0.7730727826987609,
            "sample_id": "tktA"
           },
           {
            "author": "Kurata",
            "normalized_error": 0.5634927253676616,
            "sample_id": "tktA"
           },
           {
            "author": "Khodayari",
            "normalized_error": 0.8513839703977264,
            "sample_id": "tktB"
           },
           {
            "author": "Kurata",
            "normalized_error": 0.49804358976829566,
            "sample_id": "tktB"
           },
           {
            "author": "COBRA",
            "normalized_error": 0.8976271391072129,
            "sample_id": "zwf"
           },
           {
            "author": "Chassagnole",
            "normalized_error": 0.30090761840943503,
            "sample_id": "zwf"
           },
           {
            "author": "Khodayari",
            "normalized_error": 0.6362824557948393,
            "sample_id": "zwf"
           },
           {
            "author": "Kurata",
            "normalized_error": 0.39982782176462633,
            "sample_id": "zwf"
           },
           {
            "author": "Millard",
            "normalized_error": 0.16084758414644643,
            "sample_id": "zwf"
           }
          ]
         },
         "encoding": {
          "color": {
           "field": "author",
           "sort": [
            "Khodayari",
            "Kurata",
            "Millard",
            "COBRA"
           ],
           "type": "nominal"
          },
          "tooltip": [
           {
            "field": "author",
            "type": "nominal"
           },
           {
            "field": "sample_id",
            "type": "nominal"
           },
           {
            "field": "normalized_error",
            "type": "quantitative"
           }
          ],
          "x": {
           "field": "author",
           "sort": [
            "Khodayari",
            "Kurata",
            "Millard",
            "COBRA",
            "Chassagnole"
           ],
           "type": "nominal"
          },
          "y": {
           "field": "normalized_error",
           "title": "Normalized error",
           "type": "quantitative"
          }
         },
         "mark": {
          "size": 80,
          "type": "circle"
         },
         "title": "Normalized error knockout simulations"
        },
        {
         "data": {
          "values": [
           {
            "author": "COBRA",
            "normalized_error": 0.9290849968239807
           },
           {
            "author": "Chassagnole",
            "normalized_error": 0.3800354238393933
           },
           {
            "author": "Khodayari",
            "normalized_error": 0.8055898483127468
           },
           {
            "author": "Kurata",
            "normalized_error": 0.5635397913644852
           },
           {
            "author": "Millard",
            "normalized_error": 0.4018980370244453
           }
          ]
         },
         "encoding": {
          "tooltip": [
           {
            "field": "normalized_error",
            "type": "quantitative"
           },
           {
            "field": "author",
            "type": "nominal"
           }
          ],
          "x": {
           "field": "author",
           "sort": [
            "Khodayari",
            "Kurata",
            "Millard",
            "COBRA",
            "Chassagnole"
           ],
           "type": "nominal"
          },
          "y": {
           "field": "normalized_error",
           "type": "quantitative"
          }
         },
         "mark": {
          "size": 30,
          "type": "tick"
         }
        }
       ],
       "width": 600
      },
      "image/png": "[encoded data removed]",
      "text/plain": [
       "<VegaLite 2 object>\n",
       "\n",
       "If you see this message, it means the renderer has not been properly enabled\n",
       "for the frontend that you are using. For more information, see\n",
       "https://altair-viz.github.io/user_guide/troubleshooting.html\n"
      ]
     },
     "execution_count": 35,
     "metadata": {},
     "output_type": "execute_result"
    }
   ],
   "source": [
    "# put errors for each dataset as datapoints\n",
    "errors = alt.Chart(\n",
    "    normalized_errors.query(\"author != 'Ishii'\"),\n",
    "    title = \"Normalized error knockout simulations\"\n",
    ").mark_circle(size = 80).encode(\n",
    "    y=alt.Y(\"normalized_error\", title = \"Normalized error\"),    \n",
    "    color=alt.Color(\"author\", sort=[\"Khodayari\", \"Kurata\", \"Millard\", \"COBRA\"]),\n",
    "    tooltip = [\"author\", \"sample_id\", \"normalized_error\"],\n",
    "    x=alt.X(\"author\", sort=[\"Khodayari\", \"Kurata\", \"Millard\", \"COBRA\", \"Chassagnole\"]),\n",
    ")\n",
    "\n",
    "# add mean values\n",
    "mean_error = alt.Chart(\n",
    "    normalized_errors.groupby(\"author\").mean().reset_index().query(\"author != 'Ishii'\"),\n",
    "    # title = \"Normalized error knockout simulations\"\n",
    ").mark_tick(size = 30).encode(\n",
    "    y=alt.Y(\"normalized_error\"),\n",
    "    #color=alt.Color(\"author\", sort=[\"Khodayari\", \"Kurata\", \"Millard\", \"COBRA\"]),\n",
    "    tooltip = [\"normalized_error\", \"author\"],\n",
    "    x=alt.X(\"author\", sort=[\"Khodayari\", \"Kurata\", \"Millard\", \"COBRA\", \"Chassagnole\"]),\n",
    ")\n",
    "\n",
    "(errors + mean_error).properties(width=600, height = 500)"
   ]
  },
  {
   "cell_type": "code",
   "execution_count": 36,
   "metadata": {},
   "outputs": [
    {
     "data": {
      "application/vnd.vegalite.v2+json": {
       "$schema": "https://vega.github.io/schema/vega-lite/v2.4.3.json",
       "config": {
        "view": {
         "height": 300,
         "width": 400
        }
       },
       "data": {
        "values": [
         {
          "author": "COBRA",
          "normalized_error": 0.9388092511393986,
          "sample_id": "WT"
         },
         {
          "author": "Khodayari",
          "normalized_error": 0.8443462266627337,
          "sample_id": "WT"
         },
         {
          "author": "Kurata",
          "normalized_error": 0.4290517614624855,
          "sample_id": "WT"
         },
         {
          "author": "Millard",
          "normalized_error": 0.07581158695388648,
          "sample_id": "WT"
         },
         {
          "author": "Chassagnole",
          "normalized_error": 0.6244474229050386,
          "sample_id": "fbaB"
         },
         {
          "author": "Khodayari",
          "normalized_error": 0.8938370643430308,
          "sample_id": "fbaB"
         },
         {
          "author": "Kurata",
          "normalized_error": 0.41036299413225735,
          "sample_id": "fbaB"
         },
         {
          "author": "Millard",
          "normalized_error": 0.9975191270452002,
          "sample_id": "fbaB"
         },
         {
          "author": "COBRA",
          "normalized_error": 0.9364236389396657,
          "sample_id": "fbp"
         },
         {
          "author": "Khodayari",
          "normalized_error": 0.8452643841782691,
          "sample_id": "fbp"
         },
         {
          "author": "Kurata",
          "normalized_error": 0.4084761572320364,
          "sample_id": "fbp"
         },
         {
          "author": "Millard",
          "normalized_error": 0.09381200836540193,
          "sample_id": "fbp"
         },
         {
          "author": "COBRA",
          "normalized_error": 0.8749727662227617,
          "sample_id": "gnd"
         },
         {
          "author": "Chassagnole",
          "normalized_error": 0.37822472996855144,
          "sample_id": "gnd"
         },
         {
          "author": "Khodayari",
          "normalized_error": 0.6862230084017967,
          "sample_id": "gnd"
         },
         {
          "author": "Kurata",
          "normalized_error": 0.8561562149564127,
          "sample_id": "gnd"
         },
         {
          "author": "Millard",
          "normalized_error": 0.21294864452957682,
          "sample_id": "gnd"
         },
         {
          "author": "Kurata",
          "normalized_error": 0.9999998010720135,
          "sample_id": "gpmA"
         },
         {
          "author": "Chassagnole",
          "normalized_error": 0.626213468031761,
          "sample_id": "pfkA"
         },
         {
          "author": "Khodayari",
          "normalized_error": 0.860022725372159,
          "sample_id": "pfkA"
         },
         {
          "author": "Kurata",
          "normalized_error": 0.5733636526409739,
          "sample_id": "pfkA"
         },
         {
          "author": "Millard",
          "normalized_error": 1.0001800217498003,
          "sample_id": "pfkA"
         },
         {
          "author": "Chassagnole",
          "normalized_error": 0.6352570912575427,
          "sample_id": "pfkB"
         },
         {
          "author": "Khodayari",
          "normalized_error": 0.8957185153803924,
          "sample_id": "pfkB"
         },
         {
          "author": "Kurata",
          "normalized_error": 0.5089435525961448,
          "sample_id": "pfkB"
         },
         {
          "author": "Millard",
          "normalized_error": 0.999689710632175,
          "sample_id": "pfkB"
         },
         {
          "author": "COBRA",
          "normalized_error": 1.0033475688172986,
          "sample_id": "pgi"
         },
         {
          "author": "Chassagnole",
          "normalized_error": 0.3085617999115607,
          "sample_id": "pgi"
         },
         {
          "author": "Khodayari",
          "normalized_error": 0.7744289912172411,
          "sample_id": "pgi"
         },
         {
          "author": "Kurata",
          "normalized_error": 0.5377521956379365,
          "sample_id": "pgi"
         },
         {
          "author": "Millard",
          "normalized_error": 0.7559627196463703,
          "sample_id": "pgi"
         },
         {
          "author": "COBRA",
          "normalized_error": 0.9416110751640178,
          "sample_id": "pgl"
         },
         {
          "author": "Khodayari",
          "normalized_error": 0.8582715747692182,
          "sample_id": "pgl"
         },
         {
          "author": "Kurata",
          "normalized_error": 1.0000005321151348,
          "sample_id": "pgl"
         },
         {
          "author": "Millard",
          "normalized_error": 0.1858187800202747,
          "sample_id": "pgl"
         },
         {
          "author": "COBRA",
          "normalized_error": 0.9465179423578518,
          "sample_id": "ppsA"
         },
         {
          "author": "Khodayari",
          "normalized_error": 0.9086748427652517,
          "sample_id": "ppsA"
         },
         {
          "author": "Kurata",
          "normalized_error": 0.49388855765828377,
          "sample_id": "ppsA"
         },
         {
          "author": "Millard",
          "normalized_error": 0.18732914736336753,
          "sample_id": "ppsA"
         },
         {
          "author": "Khodayari",
          "normalized_error": 0.8579214726067208,
          "sample_id": "pykA"
         },
         {
          "author": "Kurata",
          "normalized_error": 0.4064879463120327,
          "sample_id": "pykA"
         },
         {
          "author": "Millard",
          "normalized_error": 0.29233605477908076,
          "sample_id": "pykA"
         },
         {
          "author": "Khodayari",
          "normalized_error": 0.8799312130033647,
          "sample_id": "pykF"
         },
         {
          "author": "Kurata",
          "normalized_error": 0.319800713456623,
          "sample_id": "pykF"
         },
         {
          "author": "Millard",
          "normalized_error": 0.28384269179698235,
          "sample_id": "pykF"
         },
         {
          "author": "COBRA",
          "normalized_error": 0.8819970608198497,
          "sample_id": "rpe"
         },
         {
          "author": "Chassagnole",
          "normalized_error": 0.3180540183260553,
          "sample_id": "rpe"
         },
         {
          "author": "Khodayari",
          "normalized_error": 0.79179478901551,
          "sample_id": "rpe"
         },
         {
          "author": "Kurata",
          "normalized_error": 0.9999986690032097,
          "sample_id": "rpe"
         },
         {
          "author": "Millard",
          "normalized_error": 0.2679820140688718,
          "sample_id": "rpe"
         },
         {
          "author": "Chassagnole",
          "normalized_error": 0.2494717721390048,
          "sample_id": "rpiA"
         },
         {
          "author": "Khodayari",
          "normalized_error": 0.641777154875663,
          "sample_id": "rpiA"
         },
         {
          "author": "Kurata",
          "normalized_error": 0.4291610868328768,
          "sample_id": "rpiA"
         },
         {
          "author": "Millard",
          "normalized_error": 0.24877423197038304,
          "sample_id": "rpiA"
         },
         {
          "author": "Chassagnole",
          "normalized_error": 0.2783701937818206,
          "sample_id": "rpiB"
         },
         {
          "author": "Khodayari",
          "normalized_error": 0.6267728058000724,
          "sample_id": "rpiB"
         },
         {
          "author": "Kurata",
          "normalized_error": 0.4737364631830639,
          "sample_id": "rpiB"
         },
         {
          "author": "Millard",
          "normalized_error": 0.2656162322988624,
          "sample_id": "rpiB"
         },
         {
          "author": "COBRA",
          "normalized_error": 0.9404585288477691,
          "sample_id": "talA"
         },
         {
          "author": "Chassagnole",
          "normalized_error": 0.22581846999529073,
          "sample_id": "talA"
         },
         {
          "author": "Khodayari",
          "normalized_error": 0.8748932923466883,
          "sample_id": "talA"
         },
         {
          "author": "Kurata",
          "normalized_error": 0.4766159000083567,
          "sample_id": "talA"
         },
         {
          "author": "Chassagnole",
          "normalized_error": 0.23506307750726624,
          "sample_id": "talB"
         },
         {
          "author": "Kurata",
          "normalized_error": 0.4856354920892755,
          "sample_id": "talB"
         },
         {
          "author": "Khodayari",
          "normalized_error": 0.7730727826987609,
          "sample_id": "tktA"
         },
         {
          "author": "Kurata",
          "normalized_error": 0.5634927253676616,
          "sample_id": "tktA"
         },
         {
          "author": "Khodayari",
          "normalized_error": 0.8513839703977264,
          "sample_id": "tktB"
         },
         {
          "author": "Kurata",
          "normalized_error": 0.49804358976829566,
          "sample_id": "tktB"
         },
         {
          "author": "COBRA",
          "normalized_error": 0.8976271391072129,
          "sample_id": "zwf"
         },
         {
          "author": "Chassagnole",
          "normalized_error": 0.30090761840943503,
          "sample_id": "zwf"
         },
         {
          "author": "Khodayari",
          "normalized_error": 0.6362824557948393,
          "sample_id": "zwf"
         },
         {
          "author": "Kurata",
          "normalized_error": 0.39982782176462633,
          "sample_id": "zwf"
         },
         {
          "author": "Millard",
          "normalized_error": 0.16084758414644643,
          "sample_id": "zwf"
         }
        ]
       },
       "encoding": {
        "color": {
         "field": "author",
         "sort": [
          "Ishii"
         ],
         "type": "nominal"
        },
        "column": {
         "field": "sample_id",
         "type": "nominal"
        },
        "tooltip": [
         {
          "field": "author",
          "type": "nominal"
         },
         {
          "field": "sample_id",
          "type": "nominal"
         }
        ],
        "x": {
         "field": "author",
         "sort": [
          "Ishii"
         ],
         "type": "ordinal"
        },
        "y": {
         "field": "normalized_error",
         "type": "quantitative"
        }
       },
       "mark": "point"
      },
      "image/png": "[encoded data removed]",
      "text/plain": [
       "<VegaLite 2 object>\n",
       "\n",
       "If you see this message, it means the renderer has not been properly enabled\n",
       "for the frontend that you are using. For more information, see\n",
       "https://altair-viz.github.io/user_guide/troubleshooting.html\n"
      ]
     },
     "execution_count": 36,
     "metadata": {},
     "output_type": "execute_result"
    }
   ],
   "source": [
    "alt.Chart(normalized_errors.query(\"author != 'Ishii'\")).mark_point().encode(\n",
    "    y=\"normalized_error\",\n",
    "    x=alt.X(\"author:O\", sort=[experimental_dataset]),\n",
    "    column=\"sample_id:N\",\n",
    "    color=alt.Color(\"author\", sort=[experimental_dataset]),\n",
    "    tooltip=[\"author\", \"sample_id\"],\n",
    ")"
   ]
  },
  {
   "cell_type": "markdown",
   "metadata": {},
   "source": [
    "## Bar chart for normalized fluxes"
   ]
  },
  {
   "cell_type": "code",
   "execution_count": 31,
   "metadata": {},
   "outputs": [
    {
     "data": {
      "application/vnd.jupyter.widget-view+json": {
       "model_id": "ef36fdf273744e6ba36ed10b44f6786f",
       "version_major": 2,
       "version_minor": 0
      },
      "text/plain": [
       "interactive(children=(Dropdown(description='strain', options=('zwf', 'pgi', 'gnd', 'pykA', 'pykF', 'rpiA', 'tk…"
      ]
     },
     "metadata": {},
     "output_type": "display_data"
    }
   ],
   "source": [
    "# make base plot that would be then modified to select only one strain\n",
    "# altair.facet is not working with them so far\n",
    "base = alt.Chart(selected_data, title = \"KO simulation fluxes\").mark_bar().encode(\n",
    "    y=\"normalized_flux:Q\",\n",
    "    x=alt.X(\"author:O\", sort = [experimental_dataset]),\n",
    "    column=\"BiGG_ID:N\",\n",
    "    color=alt.Color(\"author\", sort = [experimental_dataset]),\n",
    "    tooltip=[\"author\", \"normalized_flux\", \"BiGG_ID\", \"sample_id\"],\n",
    ")\n",
    "\n",
    "@interact_manual\n",
    "def show_strain_comparison_plot(strain = selected_strains):\n",
    "    return base.transform_filter(datum.sample_id == strain)"
   ]
  },
  {
   "cell_type": "markdown",
   "metadata": {},
   "source": [
    "## Bar chart for relative error"
   ]
  },
  {
   "cell_type": "code",
   "execution_count": 89,
   "metadata": {},
   "outputs": [
    {
     "data": {
      "application/vnd.jupyter.widget-view+json": {
       "model_id": "8f7f1db96d254c6a886fc4f2cd4425dc",
       "version_major": 2,
       "version_minor": 0
      },
      "text/plain": [
       "interactive(children=(Dropdown(description='strain', options=('zwf', 'pgi', 'gnd', 'pykA', 'pykF', 'WT'), valu…"
      ]
     },
     "metadata": {},
     "output_type": "display_data"
    }
   ],
   "source": [
    "# make base plot that would be then modified to select only one strain\n",
    "# altair.facet is not working with them so far\n",
    "base = alt.Chart(selected, title = \"\").mark_bar().encode(\n",
    "    y=\"relative_error:Q\",\n",
    "    x=alt.X(\"author:O\", sort = [experimental_dataset]),\n",
    "    column=\"BiGG_ID:N\",\n",
    "    color=alt.Color(\"author\",sort=[experimental_dataset]),\n",
    "    tooltip=[\"author\", \"relative_error\", \"BiGG_ID\", \"sample_id\", \"normalized_flux\"],\n",
    ")\n",
    "\n",
    "\n",
    "@interact_manual\n",
    "def show_strain_comparison_plot(strain = selected_strains):\n",
    "    return base.transform_filter(datum.sample_id == strain)"
   ]
  },
  {
   "cell_type": "code",
   "execution_count": 35,
   "metadata": {},
   "outputs": [],
   "source": [
    "path = data_path / \"Processed\"\n",
    "path.mkdir(parents=True, exist_ok=True)\n",
    "selected_data.to_csv(path / \"knockouts.csv\")"
   ]
  },
  {
   "cell_type": "code",
   "execution_count": null,
   "metadata": {},
   "outputs": [],
   "source": []
  }
 ],
 "metadata": {
  "kernelspec": {
   "display_name": "dataml-conda",
   "language": "python",
   "name": "dataml-conda"
  },
  "language_info": {
   "codemirror_mode": {
    "name": "ipython",
    "version": 3
   },
   "file_extension": ".py",
   "mimetype": "text/x-python",
   "name": "python",
   "nbconvert_exporter": "python",
   "pygments_lexer": "ipython3",
   "version": "3.6.6"
  }
 },
 "nbformat": 4,
 "nbformat_minor": 2
}
