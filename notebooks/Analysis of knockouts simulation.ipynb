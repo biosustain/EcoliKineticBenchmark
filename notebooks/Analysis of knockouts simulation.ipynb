{
 "cells": [
  {
   "cell_type": "code",
   "execution_count": 1,
   "metadata": {},
   "outputs": [],
   "source": [
    "import numpy as np\n",
    "import pandas as pd\n",
    "import xarray as xr\n",
    "\n",
    "from pathlib import Path\n",
    "\n",
    "import altair as alt\n",
    "from altair.expr import datum"
   ]
  },
  {
   "cell_type": "code",
   "execution_count": 2,
   "metadata": {},
   "outputs": [],
   "source": [
    "%load_ext watermark"
   ]
  },
  {
   "cell_type": "code",
   "execution_count": 3,
   "metadata": {},
   "outputs": [
    {
     "name": "stdout",
     "output_type": "stream",
     "text": [
      "pandas    0.24.2\n",
      "numpy     1.16.3\n",
      "altair    3.0.1\n",
      "xarray    0.12.0\n",
      "\n"
     ]
    }
   ],
   "source": [
    "%watermark --iversions"
   ]
  },
  {
   "cell_type": "markdown",
   "metadata": {},
   "source": [
    "# 0. Utility functions"
   ]
  },
  {
   "cell_type": "code",
   "execution_count": 4,
   "metadata": {},
   "outputs": [],
   "source": [
    "from utils.load import load_ko_data\n",
    "from utils.calculate_metrics import (process_data, relative_errors, summary_errors)"
   ]
  },
  {
   "cell_type": "markdown",
   "metadata": {},
   "source": [
    "# 1. Load the simulation data"
   ]
  },
  {
   "cell_type": "code",
   "execution_count": 5,
   "metadata": {},
   "outputs": [],
   "source": [
    "ko_df, debug_info = load_ko_data()"
   ]
  },
  {
   "cell_type": "code",
   "execution_count": 6,
   "metadata": {},
   "outputs": [
    {
     "data": {
      "text/html": [
       "<div>\n",
       "<style scoped>\n",
       "    .dataframe tbody tr th:only-of-type {\n",
       "        vertical-align: middle;\n",
       "    }\n",
       "\n",
       "    .dataframe tbody tr th {\n",
       "        vertical-align: top;\n",
       "    }\n",
       "\n",
       "    .dataframe thead th {\n",
       "        text-align: right;\n",
       "    }\n",
       "</style>\n",
       "<table border=\"1\" class=\"dataframe\">\n",
       "  <thead>\n",
       "    <tr style=\"text-align: right;\">\n",
       "      <th></th>\n",
       "      <th>flux</th>\n",
       "      <th>ID</th>\n",
       "      <th>BiGG_ID</th>\n",
       "      <th>author</th>\n",
       "      <th>sample_id</th>\n",
       "      <th>normalized_flux</th>\n",
       "    </tr>\n",
       "  </thead>\n",
       "  <tbody>\n",
       "    <tr>\n",
       "      <th>0</th>\n",
       "      <td>-0.059225</td>\n",
       "      <td>ACALD</td>\n",
       "      <td>ACALD</td>\n",
       "      <td>Khodayari</td>\n",
       "      <td>fbaA</td>\n",
       "      <td>-0.059127</td>\n",
       "    </tr>\n",
       "    <tr>\n",
       "      <th>1</th>\n",
       "      <td>-0.004108</td>\n",
       "      <td>ACALDtpp_ex</td>\n",
       "      <td>composed of ACALDtex and ACALDtpp</td>\n",
       "      <td>Khodayari</td>\n",
       "      <td>fbaA</td>\n",
       "      <td>-0.004101</td>\n",
       "    </tr>\n",
       "    <tr>\n",
       "      <th>2</th>\n",
       "      <td>0.000028</td>\n",
       "      <td>ACKr</td>\n",
       "      <td>ACKr</td>\n",
       "      <td>Khodayari</td>\n",
       "      <td>fbaA</td>\n",
       "      <td>0.000028</td>\n",
       "    </tr>\n",
       "    <tr>\n",
       "      <th>3</th>\n",
       "      <td>94.519769</td>\n",
       "      <td>ACONTa</td>\n",
       "      <td>ACONTa</td>\n",
       "      <td>Khodayari</td>\n",
       "      <td>fbaA</td>\n",
       "      <td>94.364274</td>\n",
       "    </tr>\n",
       "    <tr>\n",
       "      <th>4</th>\n",
       "      <td>94.276304</td>\n",
       "      <td>ACONTb</td>\n",
       "      <td>ACONTb</td>\n",
       "      <td>Khodayari</td>\n",
       "      <td>fbaA</td>\n",
       "      <td>94.121209</td>\n",
       "    </tr>\n",
       "  </tbody>\n",
       "</table>\n",
       "</div>"
      ],
      "text/plain": [
       "        flux           ID                            BiGG_ID     author  \\\n",
       "0  -0.059225        ACALD                              ACALD  Khodayari   \n",
       "1  -0.004108  ACALDtpp_ex  composed of ACALDtex and ACALDtpp  Khodayari   \n",
       "2   0.000028         ACKr                               ACKr  Khodayari   \n",
       "3  94.519769       ACONTa                             ACONTa  Khodayari   \n",
       "4  94.276304       ACONTb                             ACONTb  Khodayari   \n",
       "\n",
       "  sample_id  normalized_flux  \n",
       "0      fbaA        -0.059127  \n",
       "1      fbaA        -0.004101  \n",
       "2      fbaA         0.000028  \n",
       "3      fbaA        94.364274  \n",
       "4      fbaA        94.121209  "
      ]
     },
     "execution_count": 6,
     "metadata": {},
     "output_type": "execute_result"
    }
   ],
   "source": [
    "ko_df.head()"
   ]
  },
  {
   "cell_type": "code",
   "execution_count": 19,
   "metadata": {},
   "outputs": [
    {
     "data": {
      "text/html": [
       "<div>\n",
       "<style scoped>\n",
       "    .dataframe tbody tr th:only-of-type {\n",
       "        vertical-align: middle;\n",
       "    }\n",
       "\n",
       "    .dataframe tbody tr th {\n",
       "        vertical-align: top;\n",
       "    }\n",
       "\n",
       "    .dataframe thead th {\n",
       "        text-align: right;\n",
       "    }\n",
       "</style>\n",
       "<table border=\"1\" class=\"dataframe\">\n",
       "  <thead>\n",
       "    <tr style=\"text-align: right;\">\n",
       "      <th></th>\n",
       "      <th>flux</th>\n",
       "      <th>ID</th>\n",
       "      <th>BiGG_ID</th>\n",
       "      <th>author</th>\n",
       "      <th>sample_id</th>\n",
       "      <th>normalized_flux</th>\n",
       "    </tr>\n",
       "  </thead>\n",
       "  <tbody>\n",
       "    <tr>\n",
       "      <th>0</th>\n",
       "      <td>-4.421616e-15</td>\n",
       "      <td>vgrowth</td>\n",
       "      <td>NaN</td>\n",
       "      <td>Kurata</td>\n",
       "      <td>gpmA</td>\n",
       "      <td>-9.683139e-16</td>\n",
       "    </tr>\n",
       "    <tr>\n",
       "      <th>1</th>\n",
       "      <td>4.612923e-10</td>\n",
       "      <td>vPts1</td>\n",
       "      <td>GLCptspp</td>\n",
       "      <td>Kurata</td>\n",
       "      <td>gpmA</td>\n",
       "      <td>1.010209e-10</td>\n",
       "    </tr>\n",
       "    <tr>\n",
       "      <th>2</th>\n",
       "      <td>4.612923e-10</td>\n",
       "      <td>vPts4</td>\n",
       "      <td>GLCptspp</td>\n",
       "      <td>Kurata</td>\n",
       "      <td>gpmA</td>\n",
       "      <td>1.010209e-10</td>\n",
       "    </tr>\n",
       "    <tr>\n",
       "      <th>3</th>\n",
       "      <td>-2.933136e-23</td>\n",
       "      <td>vPts4_medium</td>\n",
       "      <td>GLCptspp</td>\n",
       "      <td>Kurata</td>\n",
       "      <td>gpmA</td>\n",
       "      <td>-6.423437e-24</td>\n",
       "    </tr>\n",
       "    <tr>\n",
       "      <th>4</th>\n",
       "      <td>4.566304e+02</td>\n",
       "      <td>vNonpts</td>\n",
       "      <td>GLCtex</td>\n",
       "      <td>Kurata</td>\n",
       "      <td>gpmA</td>\n",
       "      <td>1.000000e+02</td>\n",
       "    </tr>\n",
       "    <tr>\n",
       "      <th>5</th>\n",
       "      <td>-2.903494e-11</td>\n",
       "      <td>vNonpts_medium</td>\n",
       "      <td>GLCtex</td>\n",
       "      <td>Kurata</td>\n",
       "      <td>gpmA</td>\n",
       "      <td>-6.358521e-12</td>\n",
       "    </tr>\n",
       "    <tr>\n",
       "      <th>6</th>\n",
       "      <td>-1.008682e+01</td>\n",
       "      <td>vE_Glk</td>\n",
       "      <td>HEX1</td>\n",
       "      <td>Kurata</td>\n",
       "      <td>gpmA</td>\n",
       "      <td>-2.208968e+00</td>\n",
       "    </tr>\n",
       "    <tr>\n",
       "      <th>7</th>\n",
       "      <td>4.662895e-06</td>\n",
       "      <td>vE_Pgi</td>\n",
       "      <td>PGI</td>\n",
       "      <td>Kurata</td>\n",
       "      <td>gpmA</td>\n",
       "      <td>1.021153e-06</td>\n",
       "    </tr>\n",
       "    <tr>\n",
       "      <th>8</th>\n",
       "      <td>-8.757706e-10</td>\n",
       "      <td>vE_Pfk</td>\n",
       "      <td>PFK</td>\n",
       "      <td>Kurata</td>\n",
       "      <td>gpmA</td>\n",
       "      <td>-1.917898e-10</td>\n",
       "    </tr>\n",
       "    <tr>\n",
       "      <th>9</th>\n",
       "      <td>4.344144e-13</td>\n",
       "      <td>vE_Fbp</td>\n",
       "      <td>FBP</td>\n",
       "      <td>Kurata</td>\n",
       "      <td>gpmA</td>\n",
       "      <td>9.513479e-14</td>\n",
       "    </tr>\n",
       "    <tr>\n",
       "      <th>10</th>\n",
       "      <td>1.467880e-06</td>\n",
       "      <td>vE_Fba</td>\n",
       "      <td>FBA</td>\n",
       "      <td>Kurata</td>\n",
       "      <td>gpmA</td>\n",
       "      <td>3.214592e-07</td>\n",
       "    </tr>\n",
       "    <tr>\n",
       "      <th>11</th>\n",
       "      <td>-1.767894e-08</td>\n",
       "      <td>vE_Gapdh</td>\n",
       "      <td>GAPD</td>\n",
       "      <td>Kurata</td>\n",
       "      <td>gpmA</td>\n",
       "      <td>-3.871609e-09</td>\n",
       "    </tr>\n",
       "    <tr>\n",
       "      <th>12</th>\n",
       "      <td>-1.023449e-16</td>\n",
       "      <td>vE_Pyk</td>\n",
       "      <td>PYK</td>\n",
       "      <td>Kurata</td>\n",
       "      <td>gpmA</td>\n",
       "      <td>-2.241308e-17</td>\n",
       "    </tr>\n",
       "    <tr>\n",
       "      <th>13</th>\n",
       "      <td>-2.445884e-06</td>\n",
       "      <td>vE_Pps</td>\n",
       "      <td>PPS</td>\n",
       "      <td>Kurata</td>\n",
       "      <td>gpmA</td>\n",
       "      <td>-5.356376e-07</td>\n",
       "    </tr>\n",
       "    <tr>\n",
       "      <th>14</th>\n",
       "      <td>-2.504941e-08</td>\n",
       "      <td>vE_Pdh</td>\n",
       "      <td>PDH</td>\n",
       "      <td>Kurata</td>\n",
       "      <td>gpmA</td>\n",
       "      <td>-5.485708e-09</td>\n",
       "    </tr>\n",
       "    <tr>\n",
       "      <th>15</th>\n",
       "      <td>2.108148e-01</td>\n",
       "      <td>vE_Pta</td>\n",
       "      <td>PTAr</td>\n",
       "      <td>Kurata</td>\n",
       "      <td>gpmA</td>\n",
       "      <td>4.616750e-02</td>\n",
       "    </tr>\n",
       "    <tr>\n",
       "      <th>16</th>\n",
       "      <td>-3.004142e-01</td>\n",
       "      <td>vE_Ack</td>\n",
       "      <td>ACKr</td>\n",
       "      <td>Kurata</td>\n",
       "      <td>gpmA</td>\n",
       "      <td>-6.578935e-02</td>\n",
       "    </tr>\n",
       "    <tr>\n",
       "      <th>17</th>\n",
       "      <td>1.910190e-14</td>\n",
       "      <td>vE_Ack_medium</td>\n",
       "      <td>EX_ac(e)</td>\n",
       "      <td>Kurata</td>\n",
       "      <td>gpmA</td>\n",
       "      <td>4.183230e-15</td>\n",
       "    </tr>\n",
       "    <tr>\n",
       "      <th>18</th>\n",
       "      <td>5.657663e-15</td>\n",
       "      <td>vE_Acs</td>\n",
       "      <td>ACS</td>\n",
       "      <td>Kurata</td>\n",
       "      <td>gpmA</td>\n",
       "      <td>1.239003e-15</td>\n",
       "    </tr>\n",
       "    <tr>\n",
       "      <th>19</th>\n",
       "      <td>-3.597437e-28</td>\n",
       "      <td>vE_Acs_medium</td>\n",
       "      <td>ACS</td>\n",
       "      <td>Kurata</td>\n",
       "      <td>gpmA</td>\n",
       "      <td>-7.878224e-29</td>\n",
       "    </tr>\n",
       "    <tr>\n",
       "      <th>20</th>\n",
       "      <td>7.880814e-16</td>\n",
       "      <td>vE_Cs</td>\n",
       "      <td>CS</td>\n",
       "      <td>Kurata</td>\n",
       "      <td>gpmA</td>\n",
       "      <td>1.725863e-16</td>\n",
       "    </tr>\n",
       "    <tr>\n",
       "      <th>21</th>\n",
       "      <td>1.748448e-03</td>\n",
       "      <td>vE_Icdh</td>\n",
       "      <td>ICDHyr</td>\n",
       "      <td>Kurata</td>\n",
       "      <td>gpmA</td>\n",
       "      <td>3.829022e-04</td>\n",
       "    </tr>\n",
       "    <tr>\n",
       "      <th>22</th>\n",
       "      <td>-3.493376e-16</td>\n",
       "      <td>vE_akgdh</td>\n",
       "      <td>AKGDH</td>\n",
       "      <td>Kurata</td>\n",
       "      <td>gpmA</td>\n",
       "      <td>-7.650336e-17</td>\n",
       "    </tr>\n",
       "    <tr>\n",
       "      <th>23</th>\n",
       "      <td>4.293671e-12</td>\n",
       "      <td>vE_Sdh</td>\n",
       "      <td>SUCDi</td>\n",
       "      <td>Kurata</td>\n",
       "      <td>gpmA</td>\n",
       "      <td>9.402946e-13</td>\n",
       "    </tr>\n",
       "    <tr>\n",
       "      <th>24</th>\n",
       "      <td>8.056775e-10</td>\n",
       "      <td>vE_Fum</td>\n",
       "      <td>FUM</td>\n",
       "      <td>Kurata</td>\n",
       "      <td>gpmA</td>\n",
       "      <td>1.764397e-10</td>\n",
       "    </tr>\n",
       "    <tr>\n",
       "      <th>25</th>\n",
       "      <td>-2.052080e-10</td>\n",
       "      <td>vE_Mdh</td>\n",
       "      <td>MDH</td>\n",
       "      <td>Kurata</td>\n",
       "      <td>gpmA</td>\n",
       "      <td>-4.493962e-11</td>\n",
       "    </tr>\n",
       "    <tr>\n",
       "      <th>26</th>\n",
       "      <td>-3.316580e-13</td>\n",
       "      <td>vE_MaeB</td>\n",
       "      <td>ME2</td>\n",
       "      <td>Kurata</td>\n",
       "      <td>gpmA</td>\n",
       "      <td>-7.263161e-14</td>\n",
       "    </tr>\n",
       "    <tr>\n",
       "      <th>27</th>\n",
       "      <td>1.051434e-03</td>\n",
       "      <td>vE_Pck</td>\n",
       "      <td>PPCK</td>\n",
       "      <td>Kurata</td>\n",
       "      <td>gpmA</td>\n",
       "      <td>2.302593e-04</td>\n",
       "    </tr>\n",
       "    <tr>\n",
       "      <th>28</th>\n",
       "      <td>-1.009005e-18</td>\n",
       "      <td>vE_Ppc</td>\n",
       "      <td>PPC</td>\n",
       "      <td>Kurata</td>\n",
       "      <td>gpmA</td>\n",
       "      <td>-2.209675e-19</td>\n",
       "    </tr>\n",
       "    <tr>\n",
       "      <th>29</th>\n",
       "      <td>2.084701e-08</td>\n",
       "      <td>vE_Icl</td>\n",
       "      <td>ICL</td>\n",
       "      <td>Kurata</td>\n",
       "      <td>gpmA</td>\n",
       "      <td>4.565402e-09</td>\n",
       "    </tr>\n",
       "    <tr>\n",
       "      <th>...</th>\n",
       "      <td>...</td>\n",
       "      <td>...</td>\n",
       "      <td>...</td>\n",
       "      <td>...</td>\n",
       "      <td>...</td>\n",
       "      <td>...</td>\n",
       "    </tr>\n",
       "    <tr>\n",
       "      <th>129</th>\n",
       "      <td>1.000000e+00</td>\n",
       "      <td>alphaGLC</td>\n",
       "      <td>NaN</td>\n",
       "      <td>Kurata</td>\n",
       "      <td>gpmA</td>\n",
       "      <td>2.189955e-01</td>\n",
       "    </tr>\n",
       "    <tr>\n",
       "      <th>130</th>\n",
       "      <td>0.000000e+00</td>\n",
       "      <td>alphaACE</td>\n",
       "      <td>NaN</td>\n",
       "      <td>Kurata</td>\n",
       "      <td>gpmA</td>\n",
       "      <td>0.000000e+00</td>\n",
       "    </tr>\n",
       "    <tr>\n",
       "      <th>131</th>\n",
       "      <td>3.162278e-05</td>\n",
       "      <td>H</td>\n",
       "      <td>NaN</td>\n",
       "      <td>Kurata</td>\n",
       "      <td>gpmA</td>\n",
       "      <td>6.925246e-06</td>\n",
       "    </tr>\n",
       "    <tr>\n",
       "      <th>132</th>\n",
       "      <td>7.690000e-02</td>\n",
       "      <td>EIIA</td>\n",
       "      <td>NaN</td>\n",
       "      <td>Kurata</td>\n",
       "      <td>gpmA</td>\n",
       "      <td>1.684075e-02</td>\n",
       "    </tr>\n",
       "    <tr>\n",
       "      <th>133</th>\n",
       "      <td>1.611990e-16</td>\n",
       "      <td>CrpcAMP</td>\n",
       "      <td>NaN</td>\n",
       "      <td>Kurata</td>\n",
       "      <td>gpmA</td>\n",
       "      <td>3.530187e-17</td>\n",
       "    </tr>\n",
       "    <tr>\n",
       "      <th>134</th>\n",
       "      <td>1.150000e-02</td>\n",
       "      <td>Crp</td>\n",
       "      <td>NaN</td>\n",
       "      <td>Kurata</td>\n",
       "      <td>gpmA</td>\n",
       "      <td>2.518448e-03</td>\n",
       "    </tr>\n",
       "    <tr>\n",
       "      <th>135</th>\n",
       "      <td>2.168387e-20</td>\n",
       "      <td>CraFBP</td>\n",
       "      <td>NaN</td>\n",
       "      <td>Kurata</td>\n",
       "      <td>gpmA</td>\n",
       "      <td>4.748671e-21</td>\n",
       "    </tr>\n",
       "    <tr>\n",
       "      <th>136</th>\n",
       "      <td>3.000000e-04</td>\n",
       "      <td>Cra</td>\n",
       "      <td>NaN</td>\n",
       "      <td>Kurata</td>\n",
       "      <td>gpmA</td>\n",
       "      <td>6.569865e-05</td>\n",
       "    </tr>\n",
       "    <tr>\n",
       "      <th>137</th>\n",
       "      <td>6.039210e-12</td>\n",
       "      <td>PdhRPYR</td>\n",
       "      <td>NaN</td>\n",
       "      <td>Kurata</td>\n",
       "      <td>gpmA</td>\n",
       "      <td>1.322560e-12</td>\n",
       "    </tr>\n",
       "    <tr>\n",
       "      <th>138</th>\n",
       "      <td>6.659999e-05</td>\n",
       "      <td>PdhR</td>\n",
       "      <td>NaN</td>\n",
       "      <td>Kurata</td>\n",
       "      <td>gpmA</td>\n",
       "      <td>1.458510e-05</td>\n",
       "    </tr>\n",
       "    <tr>\n",
       "      <th>139</th>\n",
       "      <td>-1.494088e-07</td>\n",
       "      <td>OP_NADH</td>\n",
       "      <td>NaN</td>\n",
       "      <td>Kurata</td>\n",
       "      <td>gpmA</td>\n",
       "      <td>-3.271985e-08</td>\n",
       "    </tr>\n",
       "    <tr>\n",
       "      <th>140</th>\n",
       "      <td>6.397570e-12</td>\n",
       "      <td>OP_FADH2</td>\n",
       "      <td>NaN</td>\n",
       "      <td>Kurata</td>\n",
       "      <td>gpmA</td>\n",
       "      <td>1.401039e-12</td>\n",
       "    </tr>\n",
       "    <tr>\n",
       "      <th>141</th>\n",
       "      <td>9.785325e+00</td>\n",
       "      <td>vATP</td>\n",
       "      <td>NaN</td>\n",
       "      <td>Kurata</td>\n",
       "      <td>gpmA</td>\n",
       "      <td>2.142942e+00</td>\n",
       "    </tr>\n",
       "    <tr>\n",
       "      <th>142</th>\n",
       "      <td>1.232951e-04</td>\n",
       "      <td>mu</td>\n",
       "      <td>NaN</td>\n",
       "      <td>Kurata</td>\n",
       "      <td>gpmA</td>\n",
       "      <td>2.700107e-05</td>\n",
       "    </tr>\n",
       "    <tr>\n",
       "      <th>143</th>\n",
       "      <td>1.416789e+01</td>\n",
       "      <td>A</td>\n",
       "      <td>NaN</td>\n",
       "      <td>Kurata</td>\n",
       "      <td>gpmA</td>\n",
       "      <td>3.102705e+00</td>\n",
       "    </tr>\n",
       "    <tr>\n",
       "      <th>144</th>\n",
       "      <td>1.029744e+00</td>\n",
       "      <td>B</td>\n",
       "      <td>NaN</td>\n",
       "      <td>Kurata</td>\n",
       "      <td>gpmA</td>\n",
       "      <td>2.255094e-01</td>\n",
       "    </tr>\n",
       "    <tr>\n",
       "      <th>145</th>\n",
       "      <td>-6.335872e-05</td>\n",
       "      <td>vSdh1_max</td>\n",
       "      <td>NaN</td>\n",
       "      <td>Kurata</td>\n",
       "      <td>gpmA</td>\n",
       "      <td>-1.387528e-05</td>\n",
       "    </tr>\n",
       "    <tr>\n",
       "      <th>146</th>\n",
       "      <td>-6.335872e-05</td>\n",
       "      <td>vSdh2_max</td>\n",
       "      <td>NaN</td>\n",
       "      <td>Kurata</td>\n",
       "      <td>gpmA</td>\n",
       "      <td>-1.387528e-05</td>\n",
       "    </tr>\n",
       "    <tr>\n",
       "      <th>147</th>\n",
       "      <td>-1.234849e-04</td>\n",
       "      <td>vFum1_max</td>\n",
       "      <td>NaN</td>\n",
       "      <td>Kurata</td>\n",
       "      <td>gpmA</td>\n",
       "      <td>-2.704263e-05</td>\n",
       "    </tr>\n",
       "    <tr>\n",
       "      <th>148</th>\n",
       "      <td>-1.234849e-04</td>\n",
       "      <td>vFum2_max</td>\n",
       "      <td>NaN</td>\n",
       "      <td>Kurata</td>\n",
       "      <td>gpmA</td>\n",
       "      <td>-2.704263e-05</td>\n",
       "    </tr>\n",
       "    <tr>\n",
       "      <th>149</th>\n",
       "      <td>-7.434952e-04</td>\n",
       "      <td>vMdh1_max</td>\n",
       "      <td>NaN</td>\n",
       "      <td>Kurata</td>\n",
       "      <td>gpmA</td>\n",
       "      <td>-1.628221e-04</td>\n",
       "    </tr>\n",
       "    <tr>\n",
       "      <th>150</th>\n",
       "      <td>-7.434952e-04</td>\n",
       "      <td>vMdh2_max</td>\n",
       "      <td>NaN</td>\n",
       "      <td>Kurata</td>\n",
       "      <td>gpmA</td>\n",
       "      <td>-1.628221e-04</td>\n",
       "    </tr>\n",
       "    <tr>\n",
       "      <th>151</th>\n",
       "      <td>1.109752e+00</td>\n",
       "      <td>QEdd_pH</td>\n",
       "      <td>NaN</td>\n",
       "      <td>Kurata</td>\n",
       "      <td>gpmA</td>\n",
       "      <td>2.430307e-01</td>\n",
       "    </tr>\n",
       "    <tr>\n",
       "      <th>152</th>\n",
       "      <td>1.000000e+00</td>\n",
       "      <td>QEda_pH</td>\n",
       "      <td>NaN</td>\n",
       "      <td>Kurata</td>\n",
       "      <td>gpmA</td>\n",
       "      <td>2.189955e-01</td>\n",
       "    </tr>\n",
       "    <tr>\n",
       "      <th>153</th>\n",
       "      <td>7.500000e-03</td>\n",
       "      <td>SS_MaeB</td>\n",
       "      <td>NaN</td>\n",
       "      <td>Kurata</td>\n",
       "      <td>gpmA</td>\n",
       "      <td>1.642466e-03</td>\n",
       "    </tr>\n",
       "    <tr>\n",
       "      <th>154</th>\n",
       "      <td>7.400000e-03</td>\n",
       "      <td>SS_Ppc</td>\n",
       "      <td>NaN</td>\n",
       "      <td>Kurata</td>\n",
       "      <td>gpmA</td>\n",
       "      <td>1.620567e-03</td>\n",
       "    </tr>\n",
       "    <tr>\n",
       "      <th>0</th>\n",
       "      <td>-1.767894e-08</td>\n",
       "      <td>Gapdh</td>\n",
       "      <td>TPI</td>\n",
       "      <td>Kurata</td>\n",
       "      <td>gpmA</td>\n",
       "      <td>-3.871609e-09</td>\n",
       "    </tr>\n",
       "    <tr>\n",
       "      <th>1</th>\n",
       "      <td>-1.767894e-08</td>\n",
       "      <td>Gapdh</td>\n",
       "      <td>PGM</td>\n",
       "      <td>Kurata</td>\n",
       "      <td>gpmA</td>\n",
       "      <td>-3.871609e-09</td>\n",
       "    </tr>\n",
       "    <tr>\n",
       "      <th>2</th>\n",
       "      <td>-1.767894e-08</td>\n",
       "      <td>Gapdh</td>\n",
       "      <td>ENO</td>\n",
       "      <td>Kurata</td>\n",
       "      <td>gpmA</td>\n",
       "      <td>-3.871609e-09</td>\n",
       "    </tr>\n",
       "    <tr>\n",
       "      <th>3</th>\n",
       "      <td>-1.767894e-08</td>\n",
       "      <td>Gapdh</td>\n",
       "      <td>PGK</td>\n",
       "      <td>Kurata</td>\n",
       "      <td>gpmA</td>\n",
       "      <td>-3.871609e-09</td>\n",
       "    </tr>\n",
       "  </tbody>\n",
       "</table>\n",
       "<p>159 rows × 6 columns</p>\n",
       "</div>"
      ],
      "text/plain": [
       "             flux              ID   BiGG_ID  author sample_id  normalized_flux\n",
       "0   -4.421616e-15         vgrowth       NaN  Kurata      gpmA    -9.683139e-16\n",
       "1    4.612923e-10           vPts1  GLCptspp  Kurata      gpmA     1.010209e-10\n",
       "2    4.612923e-10           vPts4  GLCptspp  Kurata      gpmA     1.010209e-10\n",
       "3   -2.933136e-23    vPts4_medium  GLCptspp  Kurata      gpmA    -6.423437e-24\n",
       "4    4.566304e+02         vNonpts    GLCtex  Kurata      gpmA     1.000000e+02\n",
       "5   -2.903494e-11  vNonpts_medium    GLCtex  Kurata      gpmA    -6.358521e-12\n",
       "6   -1.008682e+01          vE_Glk      HEX1  Kurata      gpmA    -2.208968e+00\n",
       "7    4.662895e-06          vE_Pgi       PGI  Kurata      gpmA     1.021153e-06\n",
       "8   -8.757706e-10          vE_Pfk       PFK  Kurata      gpmA    -1.917898e-10\n",
       "9    4.344144e-13          vE_Fbp       FBP  Kurata      gpmA     9.513479e-14\n",
       "10   1.467880e-06          vE_Fba       FBA  Kurata      gpmA     3.214592e-07\n",
       "11  -1.767894e-08        vE_Gapdh      GAPD  Kurata      gpmA    -3.871609e-09\n",
       "12  -1.023449e-16          vE_Pyk       PYK  Kurata      gpmA    -2.241308e-17\n",
       "13  -2.445884e-06          vE_Pps       PPS  Kurata      gpmA    -5.356376e-07\n",
       "14  -2.504941e-08          vE_Pdh       PDH  Kurata      gpmA    -5.485708e-09\n",
       "15   2.108148e-01          vE_Pta      PTAr  Kurata      gpmA     4.616750e-02\n",
       "16  -3.004142e-01          vE_Ack      ACKr  Kurata      gpmA    -6.578935e-02\n",
       "17   1.910190e-14   vE_Ack_medium  EX_ac(e)  Kurata      gpmA     4.183230e-15\n",
       "18   5.657663e-15          vE_Acs       ACS  Kurata      gpmA     1.239003e-15\n",
       "19  -3.597437e-28   vE_Acs_medium       ACS  Kurata      gpmA    -7.878224e-29\n",
       "20   7.880814e-16           vE_Cs        CS  Kurata      gpmA     1.725863e-16\n",
       "21   1.748448e-03         vE_Icdh    ICDHyr  Kurata      gpmA     3.829022e-04\n",
       "22  -3.493376e-16        vE_akgdh     AKGDH  Kurata      gpmA    -7.650336e-17\n",
       "23   4.293671e-12          vE_Sdh     SUCDi  Kurata      gpmA     9.402946e-13\n",
       "24   8.056775e-10          vE_Fum       FUM  Kurata      gpmA     1.764397e-10\n",
       "25  -2.052080e-10          vE_Mdh       MDH  Kurata      gpmA    -4.493962e-11\n",
       "26  -3.316580e-13         vE_MaeB       ME2  Kurata      gpmA    -7.263161e-14\n",
       "27   1.051434e-03          vE_Pck      PPCK  Kurata      gpmA     2.302593e-04\n",
       "28  -1.009005e-18          vE_Ppc       PPC  Kurata      gpmA    -2.209675e-19\n",
       "29   2.084701e-08          vE_Icl       ICL  Kurata      gpmA     4.565402e-09\n",
       "..            ...             ...       ...     ...       ...              ...\n",
       "129  1.000000e+00        alphaGLC       NaN  Kurata      gpmA     2.189955e-01\n",
       "130  0.000000e+00        alphaACE       NaN  Kurata      gpmA     0.000000e+00\n",
       "131  3.162278e-05               H       NaN  Kurata      gpmA     6.925246e-06\n",
       "132  7.690000e-02            EIIA       NaN  Kurata      gpmA     1.684075e-02\n",
       "133  1.611990e-16         CrpcAMP       NaN  Kurata      gpmA     3.530187e-17\n",
       "134  1.150000e-02             Crp       NaN  Kurata      gpmA     2.518448e-03\n",
       "135  2.168387e-20          CraFBP       NaN  Kurata      gpmA     4.748671e-21\n",
       "136  3.000000e-04             Cra       NaN  Kurata      gpmA     6.569865e-05\n",
       "137  6.039210e-12         PdhRPYR       NaN  Kurata      gpmA     1.322560e-12\n",
       "138  6.659999e-05            PdhR       NaN  Kurata      gpmA     1.458510e-05\n",
       "139 -1.494088e-07         OP_NADH       NaN  Kurata      gpmA    -3.271985e-08\n",
       "140  6.397570e-12        OP_FADH2       NaN  Kurata      gpmA     1.401039e-12\n",
       "141  9.785325e+00            vATP       NaN  Kurata      gpmA     2.142942e+00\n",
       "142  1.232951e-04              mu       NaN  Kurata      gpmA     2.700107e-05\n",
       "143  1.416789e+01               A       NaN  Kurata      gpmA     3.102705e+00\n",
       "144  1.029744e+00               B       NaN  Kurata      gpmA     2.255094e-01\n",
       "145 -6.335872e-05       vSdh1_max       NaN  Kurata      gpmA    -1.387528e-05\n",
       "146 -6.335872e-05       vSdh2_max       NaN  Kurata      gpmA    -1.387528e-05\n",
       "147 -1.234849e-04       vFum1_max       NaN  Kurata      gpmA    -2.704263e-05\n",
       "148 -1.234849e-04       vFum2_max       NaN  Kurata      gpmA    -2.704263e-05\n",
       "149 -7.434952e-04       vMdh1_max       NaN  Kurata      gpmA    -1.628221e-04\n",
       "150 -7.434952e-04       vMdh2_max       NaN  Kurata      gpmA    -1.628221e-04\n",
       "151  1.109752e+00         QEdd_pH       NaN  Kurata      gpmA     2.430307e-01\n",
       "152  1.000000e+00         QEda_pH       NaN  Kurata      gpmA     2.189955e-01\n",
       "153  7.500000e-03         SS_MaeB       NaN  Kurata      gpmA     1.642466e-03\n",
       "154  7.400000e-03          SS_Ppc       NaN  Kurata      gpmA     1.620567e-03\n",
       "0   -1.767894e-08           Gapdh       TPI  Kurata      gpmA    -3.871609e-09\n",
       "1   -1.767894e-08           Gapdh       PGM  Kurata      gpmA    -3.871609e-09\n",
       "2   -1.767894e-08           Gapdh       ENO  Kurata      gpmA    -3.871609e-09\n",
       "3   -1.767894e-08           Gapdh       PGK  Kurata      gpmA    -3.871609e-09\n",
       "\n",
       "[159 rows x 6 columns]"
      ]
     },
     "execution_count": 19,
     "metadata": {},
     "output_type": "execute_result"
    }
   ],
   "source": [
    "ko_df.query(\"author == 'Kurata' and sample_id == 'gpmA'\")"
   ]
  },
  {
   "cell_type": "markdown",
   "metadata": {},
   "source": [
    "### Preprocess data"
   ]
  },
  {
   "cell_type": "code",
   "execution_count": 7,
   "metadata": {},
   "outputs": [],
   "source": [
    "xdf = process_data(ko_df, author=\"Ishii\")"
   ]
  },
  {
   "cell_type": "code",
   "execution_count": 8,
   "metadata": {},
   "outputs": [
    {
     "data": {
      "text/plain": [
       "<xarray.DataArray 'BiGG_ID' (BiGG_ID: 25)>\n",
       "array(['AKGDH', 'CS', 'EDA', 'FBA', 'FUM', 'G6PDH2r', 'GAPD', 'GLCptspp',\n",
       "       'GND', 'ICDHyr', 'ICL', 'MALS', 'MDH', 'PDH', 'PGI', 'PGM', 'PPC',\n",
       "       'PTAr', 'PYK', 'RPE', 'RPI', 'SUCDi', 'TALA', 'TKT1', 'TPI'],\n",
       "      dtype=object)\n",
       "Coordinates:\n",
       "  * BiGG_ID  (BiGG_ID) object 'AKGDH' 'CS' 'EDA' 'FBA' ... 'TALA' 'TKT1' 'TPI'"
      ]
     },
     "execution_count": 8,
     "metadata": {},
     "output_type": "execute_result"
    }
   ],
   "source": [
    "xdf.BiGG_ID"
   ]
  },
  {
   "cell_type": "markdown",
   "metadata": {},
   "source": [
    "# 2. Calculate error metrics"
   ]
  },
  {
   "cell_type": "code",
   "execution_count": 9,
   "metadata": {},
   "outputs": [],
   "source": [
    "x_rel_error = relative_errors(xdf, author=\"Ishii\")"
   ]
  },
  {
   "cell_type": "code",
   "execution_count": 10,
   "metadata": {},
   "outputs": [],
   "source": [
    "x_norm_error = summary_errors(xdf, author=\"Ishii\")"
   ]
  },
  {
   "cell_type": "markdown",
   "metadata": {
    "toc-hr-collapsed": false
   },
   "source": [
    "# 3. Visualize"
   ]
  },
  {
   "cell_type": "markdown",
   "metadata": {},
   "source": [
    "### Summary normalized error for the models"
   ]
  },
  {
   "cell_type": "code",
   "execution_count": 11,
   "metadata": {},
   "outputs": [],
   "source": [
    "from utils.vis import heatmap, summary_chart"
   ]
  },
  {
   "cell_type": "code",
   "execution_count": 12,
   "metadata": {},
   "outputs": [
    {
     "data": {
      "application/vnd.vegalite.v3+json": {
       "$schema": "https://vega.github.io/schema/vega-lite/v3.2.1.json",
       "config": {
        "invalidValues": null,
        "mark": {
         "tooltip": null
        },
        "view": {
         "height": 300,
         "width": 400
        }
       },
       "data": {
        "name": "data-ea935d7b14ba6a8fbf5257332c8e603a"
       },
       "datasets": {
        "data-ea935d7b14ba6a8fbf5257332c8e603a": [
         {
          "author": "Chassagnole",
          "normalized_error": null,
          "sample_id": "WT",
          "unnormalized_error": null
         },
         {
          "author": "Chassagnole",
          "normalized_error": null,
          "sample_id": "fbaA",
          "unnormalized_error": null
         },
         {
          "author": "Chassagnole",
          "normalized_error": null,
          "sample_id": "fbaB",
          "unnormalized_error": null
         },
         {
          "author": "Chassagnole",
          "normalized_error": null,
          "sample_id": "fbp",
          "unnormalized_error": null
         },
         {
          "author": "Chassagnole",
          "normalized_error": null,
          "sample_id": "glk",
          "unnormalized_error": null
         },
         {
          "author": "Chassagnole",
          "normalized_error": null,
          "sample_id": "gnd",
          "unnormalized_error": null
         },
         {
          "author": "Chassagnole",
          "normalized_error": null,
          "sample_id": "gpmA",
          "unnormalized_error": null
         },
         {
          "author": "Chassagnole",
          "normalized_error": null,
          "sample_id": "gpmB",
          "unnormalized_error": null
         },
         {
          "author": "Chassagnole",
          "normalized_error": null,
          "sample_id": "pfkA",
          "unnormalized_error": null
         },
         {
          "author": "Chassagnole",
          "normalized_error": null,
          "sample_id": "pfkB",
          "unnormalized_error": null
         },
         {
          "author": "Chassagnole",
          "normalized_error": null,
          "sample_id": "pgi",
          "unnormalized_error": null
         },
         {
          "author": "Chassagnole",
          "normalized_error": null,
          "sample_id": "pgl",
          "unnormalized_error": null
         },
         {
          "author": "Chassagnole",
          "normalized_error": null,
          "sample_id": "pgm",
          "unnormalized_error": null
         },
         {
          "author": "Chassagnole",
          "normalized_error": null,
          "sample_id": "ppc",
          "unnormalized_error": null
         },
         {
          "author": "Chassagnole",
          "normalized_error": null,
          "sample_id": "ppsA",
          "unnormalized_error": null
         },
         {
          "author": "Chassagnole",
          "normalized_error": null,
          "sample_id": "pts",
          "unnormalized_error": null
         },
         {
          "author": "Chassagnole",
          "normalized_error": null,
          "sample_id": "pykA",
          "unnormalized_error": null
         },
         {
          "author": "Chassagnole",
          "normalized_error": null,
          "sample_id": "pykAF",
          "unnormalized_error": null
         },
         {
          "author": "Chassagnole",
          "normalized_error": null,
          "sample_id": "pykF",
          "unnormalized_error": null
         },
         {
          "author": "Chassagnole",
          "normalized_error": null,
          "sample_id": "rpe",
          "unnormalized_error": null
         },
         {
          "author": "Chassagnole",
          "normalized_error": null,
          "sample_id": "rpiA",
          "unnormalized_error": null
         },
         {
          "author": "Chassagnole",
          "normalized_error": null,
          "sample_id": "rpiB",
          "unnormalized_error": null
         },
         {
          "author": "Chassagnole",
          "normalized_error": null,
          "sample_id": "sdhCD",
          "unnormalized_error": null
         },
         {
          "author": "Chassagnole",
          "normalized_error": null,
          "sample_id": "sucA",
          "unnormalized_error": null
         },
         {
          "author": "Chassagnole",
          "normalized_error": null,
          "sample_id": "sucAB",
          "unnormalized_error": null
         },
         {
          "author": "Chassagnole",
          "normalized_error": null,
          "sample_id": "talA",
          "unnormalized_error": null
         },
         {
          "author": "Chassagnole",
          "normalized_error": null,
          "sample_id": "talAB",
          "unnormalized_error": null
         },
         {
          "author": "Chassagnole",
          "normalized_error": null,
          "sample_id": "talB",
          "unnormalized_error": null
         },
         {
          "author": "Chassagnole",
          "normalized_error": null,
          "sample_id": "tkt1",
          "unnormalized_error": null
         },
         {
          "author": "Chassagnole",
          "normalized_error": null,
          "sample_id": "tkt2",
          "unnormalized_error": null
         },
         {
          "author": "Chassagnole",
          "normalized_error": null,
          "sample_id": "tktA",
          "unnormalized_error": null
         },
         {
          "author": "Chassagnole",
          "normalized_error": null,
          "sample_id": "tktB",
          "unnormalized_error": null
         },
         {
          "author": "Chassagnole",
          "normalized_error": null,
          "sample_id": "tpi",
          "unnormalized_error": null
         },
         {
          "author": "Chassagnole",
          "normalized_error": null,
          "sample_id": "zwf",
          "unnormalized_error": null
         },
         {
          "author": "ECC2",
          "normalized_error": 0.5846004147435463,
          "sample_id": "WT",
          "unnormalized_error": 220.40230336921897
         },
         {
          "author": "ECC2",
          "normalized_error": null,
          "sample_id": "fbaA",
          "unnormalized_error": null
         },
         {
          "author": "ECC2",
          "normalized_error": 0.7198895193984354,
          "sample_id": "fbaB",
          "unnormalized_error": 263.29264122532646
         },
         {
          "author": "ECC2",
          "normalized_error": 0.5869690323757201,
          "sample_id": "fbp",
          "unnormalized_error": 223.70374758062266
         },
         {
          "author": "ECC2",
          "normalized_error": null,
          "sample_id": "glk",
          "unnormalized_error": null
         },
         {
          "author": "ECC2",
          "normalized_error": 0.6258200890826903,
          "sample_id": "gnd",
          "unnormalized_error": 272.1015082492023
         },
         {
          "author": "ECC2",
          "normalized_error": 0.9171874321942839,
          "sample_id": "gpmA",
          "unnormalized_error": 338.5763584256779
         },
         {
          "author": "ECC2",
          "normalized_error": null,
          "sample_id": "gpmB",
          "unnormalized_error": null
         },
         {
          "author": "ECC2",
          "normalized_error": 0.7401988435282156,
          "sample_id": "pfkA",
          "unnormalized_error": 275.8440149507896
         },
         {
          "author": "ECC2",
          "normalized_error": 0.6839886403724633,
          "sample_id": "pfkB",
          "unnormalized_error": 245.227813653433
         },
         {
          "author": "ECC2",
          "normalized_error": 0.5264141513941608,
          "sample_id": "pgi",
          "unnormalized_error": 160.2038358634755
         },
         {
          "author": "ECC2",
          "normalized_error": 0.49695713328978997,
          "sample_id": "pgl",
          "unnormalized_error": 190.74610555204592
         },
         {
          "author": "ECC2",
          "normalized_error": null,
          "sample_id": "pgm",
          "unnormalized_error": null
         },
         {
          "author": "ECC2",
          "normalized_error": null,
          "sample_id": "ppc",
          "unnormalized_error": null
         },
         {
          "author": "ECC2",
          "normalized_error": 0.5890631904333656,
          "sample_id": "ppsA",
          "unnormalized_error": 220.32932028330896
         },
         {
          "author": "ECC2",
          "normalized_error": null,
          "sample_id": "pts",
          "unnormalized_error": null
         },
         {
          "author": "ECC2",
          "normalized_error": 0.5796602416486392,
          "sample_id": "pykA",
          "unnormalized_error": 216.3678427484072
         },
         {
          "author": "ECC2",
          "normalized_error": null,
          "sample_id": "pykAF",
          "unnormalized_error": null
         },
         {
          "author": "ECC2",
          "normalized_error": 0.53662897842901,
          "sample_id": "pykF",
          "unnormalized_error": 189.42698897022808
         },
         {
          "author": "ECC2",
          "normalized_error": 0.6485589615915602,
          "sample_id": "rpe",
          "unnormalized_error": 284.75948565096274
         },
         {
          "author": "ECC2",
          "normalized_error": null,
          "sample_id": "rpiA",
          "unnormalized_error": null
         },
         {
          "author": "ECC2",
          "normalized_error": null,
          "sample_id": "rpiB",
          "unnormalized_error": null
         },
         {
          "author": "ECC2",
          "normalized_error": null,
          "sample_id": "sdhCD",
          "unnormalized_error": null
         },
         {
          "author": "ECC2",
          "normalized_error": null,
          "sample_id": "sucA",
          "unnormalized_error": null
         },
         {
          "author": "ECC2",
          "normalized_error": null,
          "sample_id": "sucAB",
          "unnormalized_error": null
         },
         {
          "author": "ECC2",
          "normalized_error": 0.5549448577959967,
          "sample_id": "talA",
          "unnormalized_error": 210.07430078743946
         },
         {
          "author": "ECC2",
          "normalized_error": null,
          "sample_id": "talAB",
          "unnormalized_error": null
         },
         {
          "author": "ECC2",
          "normalized_error": null,
          "sample_id": "talB",
          "unnormalized_error": null
         },
         {
          "author": "ECC2",
          "normalized_error": null,
          "sample_id": "tkt1",
          "unnormalized_error": null
         },
         {
          "author": "ECC2",
          "normalized_error": null,
          "sample_id": "tkt2",
          "unnormalized_error": null
         },
         {
          "author": "ECC2",
          "normalized_error": 0.6785948560529027,
          "sample_id": "tktA",
          "unnormalized_error": 305.9943654271953
         },
         {
          "author": "ECC2",
          "normalized_error": 0.5779240624541593,
          "sample_id": "tktB",
          "unnormalized_error": 225.90252487798804
         },
         {
          "author": "ECC2",
          "normalized_error": null,
          "sample_id": "tpi",
          "unnormalized_error": null
         },
         {
          "author": "ECC2",
          "normalized_error": 0.5315137831569737,
          "sample_id": "zwf",
          "unnormalized_error": 226.66118460397703
         },
         {
          "author": "Exp_ECC2",
          "normalized_error": 0.02628647637382896,
          "sample_id": "WT",
          "unnormalized_error": 9.91035892917388
         },
         {
          "author": "Exp_ECC2",
          "normalized_error": null,
          "sample_id": "fbaA",
          "unnormalized_error": null
         },
         {
          "author": "Exp_ECC2",
          "normalized_error": 0.5536329240885118,
          "sample_id": "fbaB",
          "unnormalized_error": 202.48589668922156
         },
         {
          "author": "Exp_ECC2",
          "normalized_error": 0.09746427358129035,
          "sample_id": "fbp",
          "unnormalized_error": 37.14527011265137
         },
         {
          "author": "Exp_ECC2",
          "normalized_error": null,
          "sample_id": "glk",
          "unnormalized_error": null
         },
         {
          "author": "Exp_ECC2",
          "normalized_error": 0.19657925014841282,
          "sample_id": "gnd",
          "unnormalized_error": 85.47106650776232
         },
         {
          "author": "Exp_ECC2",
          "normalized_error": 0.9122117736646536,
          "sample_id": "gpmA",
          "unnormalized_error": 336.7396124274237
         },
         {
          "author": "Exp_ECC2",
          "normalized_error": null,
          "sample_id": "gpmB",
          "unnormalized_error": null
         },
         {
          "author": "Exp_ECC2",
          "normalized_error": 0.5794683245827661,
          "sample_id": "pfkA",
          "unnormalized_error": 215.94585101999618
         },
         {
          "author": "Exp_ECC2",
          "normalized_error": 0.5214060133301518,
          "sample_id": "pfkB",
          "unnormalized_error": 186.9376903760835
         },
         {
          "author": "Exp_ECC2",
          "normalized_error": 0.3067397230061674,
          "sample_id": "pgi",
          "unnormalized_error": 93.35022644650176
         },
         {
          "author": "Exp_ECC2",
          "normalized_error": 0.11142412880038668,
          "sample_id": "pgl",
          "unnormalized_error": 42.76771014937754
         },
         {
          "author": "Exp_ECC2",
          "normalized_error": null,
          "sample_id": "pgm",
          "unnormalized_error": null
         },
         {
          "author": "Exp_ECC2",
          "normalized_error": null,
          "sample_id": "ppc",
          "unnormalized_error": null
         },
         {
          "author": "Exp_ECC2",
          "normalized_error": 0.15298312853688606,
          "sample_id": "ppsA",
          "unnormalized_error": 57.22080291682912
         },
         {
          "author": "Exp_ECC2",
          "normalized_error": null,
          "sample_id": "pts",
          "unnormalized_error": null
         },
         {
          "author": "Exp_ECC2",
          "normalized_error": 0.22959765685080297,
          "sample_id": "pykA",
          "unnormalized_error": 85.70115068027957
         },
         {
          "author": "Exp_ECC2",
          "normalized_error": null,
          "sample_id": "pykAF",
          "unnormalized_error": null
         },
         {
          "author": "Exp_ECC2",
          "normalized_error": 0.328575443751537,
          "sample_id": "pykF",
          "unnormalized_error": 115.98527001210762
         },
         {
          "author": "Exp_ECC2",
          "normalized_error": 0.2076596215001868,
          "sample_id": "rpe",
          "unnormalized_error": 91.17605416129724
         },
         {
          "author": "Exp_ECC2",
          "normalized_error": null,
          "sample_id": "rpiA",
          "unnormalized_error": null
         },
         {
          "author": "Exp_ECC2",
          "normalized_error": null,
          "sample_id": "rpiB",
          "unnormalized_error": null
         },
         {
          "author": "Exp_ECC2",
          "normalized_error": null,
          "sample_id": "sdhCD",
          "unnormalized_error": null
         },
         {
          "author": "Exp_ECC2",
          "normalized_error": null,
          "sample_id": "sucA",
          "unnormalized_error": null
         },
         {
          "author": "Exp_ECC2",
          "normalized_error": null,
          "sample_id": "sucAB",
          "unnormalized_error": null
         },
         {
          "author": "Exp_ECC2",
          "normalized_error": 0.1107091928526484,
          "sample_id": "talA",
          "unnormalized_error": 41.90894996600088
         },
         {
          "author": "Exp_ECC2",
          "normalized_error": null,
          "sample_id": "talAB",
          "unnormalized_error": null
         },
         {
          "author": "Exp_ECC2",
          "normalized_error": null,
          "sample_id": "talB",
          "unnormalized_error": null
         },
         {
          "author": "Exp_ECC2",
          "normalized_error": null,
          "sample_id": "tkt1",
          "unnormalized_error": null
         },
         {
          "author": "Exp_ECC2",
          "normalized_error": null,
          "sample_id": "tkt2",
          "unnormalized_error": null
         },
         {
          "author": "Exp_ECC2",
          "normalized_error": 0.3020153540833941,
          "sample_id": "tktA",
          "unnormalized_error": 136.18581956184659
         },
         {
          "author": "Exp_ECC2",
          "normalized_error": 0.13982475049448895,
          "sample_id": "tktB",
          "unnormalized_error": 54.655561568082675
         },
         {
          "author": "Exp_ECC2",
          "normalized_error": null,
          "sample_id": "tpi",
          "unnormalized_error": null
         },
         {
          "author": "Exp_ECC2",
          "normalized_error": 0.14320853942711592,
          "sample_id": "zwf",
          "unnormalized_error": 61.0705088382797
         },
         {
          "author": "Exp_iML1515",
          "normalized_error": 0.028876131166354808,
          "sample_id": "WT",
          "unnormalized_error": 10.886693989514571
         },
         {
          "author": "Exp_iML1515",
          "normalized_error": null,
          "sample_id": "fbaA",
          "unnormalized_error": null
         },
         {
          "author": "Exp_iML1515",
          "normalized_error": 0.3030775075910103,
          "sample_id": "fbaB",
          "unnormalized_error": 110.8476722043517
         },
         {
          "author": "Exp_iML1515",
          "normalized_error": 0.11750165026583129,
          "sample_id": "fbp",
          "unnormalized_error": 44.78185059437461
         },
         {
          "author": "Exp_iML1515",
          "normalized_error": null,
          "sample_id": "glk",
          "unnormalized_error": null
         },
         {
          "author": "Exp_iML1515",
          "normalized_error": 0.19502513782255826,
          "sample_id": "gnd",
          "unnormalized_error": 84.79535105018802
         },
         {
          "author": "Exp_iML1515",
          "normalized_error": 0.08674950890393571,
          "sample_id": "gpmA",
          "unnormalized_error": 32.023261319272926
         },
         {
          "author": "Exp_iML1515",
          "normalized_error": null,
          "sample_id": "gpmB",
          "unnormalized_error": null
         },
         {
          "author": "Exp_iML1515",
          "normalized_error": 0.29399536566202494,
          "sample_id": "pfkA",
          "unnormalized_error": 109.56091427349972
         },
         {
          "author": "Exp_iML1515",
          "normalized_error": 0.3662989418624153,
          "sample_id": "pfkB",
          "unnormalized_error": 131.32774925555972
         },
         {
          "author": "Exp_iML1515",
          "normalized_error": 0.49526024427411414,
          "sample_id": "pgi",
          "unnormalized_error": 150.72275445723332
         },
         {
          "author": "Exp_iML1515",
          "normalized_error": 0.12352266129244342,
          "sample_id": "pgl",
          "unnormalized_error": 47.411466725478434
         },
         {
          "author": "Exp_iML1515",
          "normalized_error": null,
          "sample_id": "pgm",
          "unnormalized_error": null
         },
         {
          "author": "Exp_iML1515",
          "normalized_error": null,
          "sample_id": "ppc",
          "unnormalized_error": null
         },
         {
          "author": "Exp_iML1515",
          "normalized_error": 0.14993274030992695,
          "sample_id": "ppsA",
          "unnormalized_error": 56.07985577302327
         },
         {
          "author": "Exp_iML1515",
          "normalized_error": null,
          "sample_id": "pts",
          "unnormalized_error": null
         },
         {
          "author": "Exp_iML1515",
          "normalized_error": 0.15844055387952186,
          "sample_id": "pykA",
          "unnormalized_error": 59.14057646816254
         },
         {
          "author": "Exp_iML1515",
          "normalized_error": null,
          "sample_id": "pykAF",
          "unnormalized_error": null
         },
         {
          "author": "Exp_iML1515",
          "normalized_error": 0.28936602176504383,
          "sample_id": "pykF",
          "unnormalized_error": 102.14456620235796
         },
         {
          "author": "Exp_iML1515",
          "normalized_error": 0.21579519713708564,
          "sample_id": "rpe",
          "unnormalized_error": 94.7480999906428
         },
         {
          "author": "Exp_iML1515",
          "normalized_error": 0.4875726645650236,
          "sample_id": "rpiA",
          "unnormalized_error": 186.62126373367366
         },
         {
          "author": "Exp_iML1515",
          "normalized_error": 0.5420963936252596,
          "sample_id": "rpiB",
          "unnormalized_error": 225.8382944748108
         },
         {
          "author": "Exp_iML1515",
          "normalized_error": null,
          "sample_id": "sdhCD",
          "unnormalized_error": null
         },
         {
          "author": "Exp_iML1515",
          "normalized_error": null,
          "sample_id": "sucA",
          "unnormalized_error": null
         },
         {
          "author": "Exp_iML1515",
          "normalized_error": null,
          "sample_id": "sucAB",
          "unnormalized_error": null
         },
         {
          "author": "Exp_iML1515",
          "normalized_error": 0.0957595714968403,
          "sample_id": "talA",
          "unnormalized_error": 36.249772825714906
         },
         {
          "author": "Exp_iML1515",
          "normalized_error": null,
          "sample_id": "talAB",
          "unnormalized_error": null
         },
         {
          "author": "Exp_iML1515",
          "normalized_error": null,
          "sample_id": "talB",
          "unnormalized_error": null
         },
         {
          "author": "Exp_iML1515",
          "normalized_error": null,
          "sample_id": "tkt1",
          "unnormalized_error": null
         },
         {
          "author": "Exp_iML1515",
          "normalized_error": null,
          "sample_id": "tkt2",
          "unnormalized_error": null
         },
         {
          "author": "Exp_iML1515",
          "normalized_error": 0.30613259181702535,
          "sample_id": "tktA",
          "unnormalized_error": 138.04237879800618
         },
         {
          "author": "Exp_iML1515",
          "normalized_error": 0.13481589251343545,
          "sample_id": "tktB",
          "unnormalized_error": 52.69766824232243
         },
         {
          "author": "Exp_iML1515",
          "normalized_error": null,
          "sample_id": "tpi",
          "unnormalized_error": null
         },
         {
          "author": "Exp_iML1515",
          "normalized_error": 0.171759711333949,
          "sample_id": "zwf",
          "unnormalized_error": 73.24600202642783
         },
         {
          "author": "Khodayari",
          "normalized_error": 0.08626454018003622,
          "sample_id": "WT",
          "unnormalized_error": 32.5229043210774
         },
         {
          "author": "Khodayari",
          "normalized_error": null,
          "sample_id": "fbaA",
          "unnormalized_error": null
         },
         {
          "author": "Khodayari",
          "normalized_error": 0.09138195379180071,
          "sample_id": "fbaB",
          "unnormalized_error": 33.42206731149452
         },
         {
          "author": "Khodayari",
          "normalized_error": 0.16100755550333462,
          "sample_id": "fbp",
          "unnormalized_error": 61.36268110961581
         },
         {
          "author": "Khodayari",
          "normalized_error": null,
          "sample_id": "glk",
          "unnormalized_error": null
         },
         {
          "author": "Khodayari",
          "normalized_error": 0.38715668047162716,
          "sample_id": "gnd",
          "unnormalized_error": 168.33259034477044
         },
         {
          "author": "Khodayari",
          "normalized_error": null,
          "sample_id": "gpmA",
          "unnormalized_error": null
         },
         {
          "author": "Khodayari",
          "normalized_error": null,
          "sample_id": "gpmB",
          "unnormalized_error": null
         },
         {
          "author": "Khodayari",
          "normalized_error": 0.10258406287943597,
          "sample_id": "pfkA",
          "unnormalized_error": 38.22918668684628
         },
         {
          "author": "Khodayari",
          "normalized_error": 0.2341304700928845,
          "sample_id": "pfkB",
          "unnormalized_error": 83.94189596374477
         },
         {
          "author": "Khodayari",
          "normalized_error": 0.2478641142264956,
          "sample_id": "pgi",
          "unnormalized_error": 75.43258813772783
         },
         {
          "author": "Khodayari",
          "normalized_error": 0.06443097602076861,
          "sample_id": "pgl",
          "unnormalized_error": 24.730418238532945
         },
         {
          "author": "Khodayari",
          "normalized_error": null,
          "sample_id": "pgm",
          "unnormalized_error": null
         },
         {
          "author": "Khodayari",
          "normalized_error": null,
          "sample_id": "ppc",
          "unnormalized_error": null
         },
         {
          "author": "Khodayari",
          "normalized_error": 0.13159027072140456,
          "sample_id": "ppsA",
          "unnormalized_error": 49.219159123851874
         },
         {
          "author": "Khodayari",
          "normalized_error": null,
          "sample_id": "pts",
          "unnormalized_error": null
         },
         {
          "author": "Khodayari",
          "normalized_error": 0.09719833059532582,
          "sample_id": "pykA",
          "unnormalized_error": 36.28089628821712
         },
         {
          "author": "Khodayari",
          "normalized_error": null,
          "sample_id": "pykAF",
          "unnormalized_error": null
         },
         {
          "author": "Khodayari",
          "normalized_error": 0.24397215594827465,
          "sample_id": "pykF",
          "unnormalized_error": 86.1207887601439
         },
         {
          "author": "Khodayari",
          "normalized_error": 0.17894054479050264,
          "sample_id": "rpe",
          "unnormalized_error": 78.56651517327468
         },
         {
          "author": "Khodayari",
          "normalized_error": 0.2580435292967993,
          "sample_id": "rpiA",
          "unnormalized_error": 98.76765667047296
         },
         {
          "author": "Khodayari",
          "normalized_error": 0.2684357829542535,
          "sample_id": "rpiB",
          "unnormalized_error": 111.83081110904165
         },
         {
          "author": "Khodayari",
          "normalized_error": null,
          "sample_id": "sdhCD",
          "unnormalized_error": null
         },
         {
          "author": "Khodayari",
          "normalized_error": null,
          "sample_id": "sucA",
          "unnormalized_error": null
         },
         {
          "author": "Khodayari",
          "normalized_error": null,
          "sample_id": "sucAB",
          "unnormalized_error": null
         },
         {
          "author": "Khodayari",
          "normalized_error": 0.08985056219245564,
          "sample_id": "talA",
          "unnormalized_error": 34.01291815353159
         },
         {
          "author": "Khodayari",
          "normalized_error": null,
          "sample_id": "talAB",
          "unnormalized_error": null
         },
         {
          "author": "Khodayari",
          "normalized_error": null,
          "sample_id": "talB",
          "unnormalized_error": null
         },
         {
          "author": "Khodayari",
          "normalized_error": null,
          "sample_id": "tkt1",
          "unnormalized_error": null
         },
         {
          "author": "Khodayari",
          "normalized_error": null,
          "sample_id": "tkt2",
          "unnormalized_error": null
         },
         {
          "author": "Khodayari",
          "normalized_error": 0.2539911776073175,
          "sample_id": "tktA",
          "unnormalized_error": 114.53058997252138
         },
         {
          "author": "Khodayari",
          "normalized_error": 0.09867985291358512,
          "sample_id": "tktB",
          "unnormalized_error": 38.572590026973586
         },
         {
          "author": "Khodayari",
          "normalized_error": null,
          "sample_id": "tpi",
          "unnormalized_error": null
         },
         {
          "author": "Khodayari",
          "normalized_error": 0.31154141427835896,
          "sample_id": "zwf",
          "unnormalized_error": 132.85515493899513
         },
         {
          "author": "Kurata",
          "normalized_error": 0.4290517614624855,
          "sample_id": "WT",
          "unnormalized_error": 161.75834656640814
         },
         {
          "author": "Kurata",
          "normalized_error": null,
          "sample_id": "fbaA",
          "unnormalized_error": null
         },
         {
          "author": "Kurata",
          "normalized_error": 0.4103629941322574,
          "sample_id": "fbaB",
          "unnormalized_error": 150.08630307120157
         },
         {
          "author": "Kurata",
          "normalized_error": 0.40847615723203634,
          "sample_id": "fbp",
          "unnormalized_error": 155.67711775235048
         },
         {
          "author": "Kurata",
          "normalized_error": null,
          "sample_id": "glk",
          "unnormalized_error": null
         },
         {
          "author": "Kurata",
          "normalized_error": 0.8562057556746754,
          "sample_id": "gnd",
          "unnormalized_error": 372.27133093828184
         },
         {
          "author": "Kurata",
          "normalized_error": 1,
          "sample_id": "gpmA",
          "unnormalized_error": 369.14631245618585
         },
         {
          "author": "Kurata",
          "normalized_error": null,
          "sample_id": "gpmB",
          "unnormalized_error": null
         },
         {
          "author": "Kurata",
          "normalized_error": 0.5733636526409739,
          "sample_id": "pfkA",
          "unnormalized_error": 213.67087148834122
         },
         {
          "author": "Kurata",
          "normalized_error": 0.5089435525961448,
          "sample_id": "pfkB",
          "unnormalized_error": 182.46957231365764
         },
         {
          "author": "Kurata",
          "normalized_error": 0.5377521956379365,
          "sample_id": "pgi",
          "unnormalized_error": 163.65434754564075
         },
         {
          "author": "Kurata",
          "normalized_error": 1.000000068030102,
          "sample_id": "pgl",
          "unnormalized_error": 383.82811262977367
         },
         {
          "author": "Kurata",
          "normalized_error": null,
          "sample_id": "pgm",
          "unnormalized_error": null
         },
         {
          "author": "Kurata",
          "normalized_error": null,
          "sample_id": "ppc",
          "unnormalized_error": null
         },
         {
          "author": "Kurata",
          "normalized_error": 0.49388855765828366,
          "sample_id": "ppsA",
          "unnormalized_error": 184.73082679720235
         },
         {
          "author": "Kurata",
          "normalized_error": null,
          "sample_id": "pts",
          "unnormalized_error": null
         },
         {
          "author": "Kurata",
          "normalized_error": 0.4064879463120327,
          "sample_id": "pykA",
          "unnormalized_error": 151.72839834006814
         },
         {
          "author": "Kurata",
          "normalized_error": null,
          "sample_id": "pykAF",
          "unnormalized_error": null
         },
         {
          "author": "Kurata",
          "normalized_error": 0.319800713456623,
          "sample_id": "pykF",
          "unnormalized_error": 112.88783993358774
         },
         {
          "author": "Kurata",
          "normalized_error": 1,
          "sample_id": "rpe",
          "unnormalized_error": 439.0649154737828
         },
         {
          "author": "Kurata",
          "normalized_error": 0.4291610868328768,
          "sample_id": "rpiA",
          "unnormalized_error": 164.26389375524005
         },
         {
          "author": "Kurata",
          "normalized_error": 0.4737364631830639,
          "sample_id": "rpiB",
          "unnormalized_error": 197.35942930797412
         },
         {
          "author": "Kurata",
          "normalized_error": null,
          "sample_id": "sdhCD",
          "unnormalized_error": null
         },
         {
          "author": "Kurata",
          "normalized_error": null,
          "sample_id": "sucA",
          "unnormalized_error": null
         },
         {
          "author": "Kurata",
          "normalized_error": null,
          "sample_id": "sucAB",
          "unnormalized_error": null
         },
         {
          "author": "Kurata",
          "normalized_error": 0.4766159000083567,
          "sample_id": "talA",
          "unnormalized_error": 180.42288442149788
         },
         {
          "author": "Kurata",
          "normalized_error": null,
          "sample_id": "talAB",
          "unnormalized_error": null
         },
         {
          "author": "Kurata",
          "normalized_error": 0.48563549208927553,
          "sample_id": "talB",
          "unnormalized_error": 189.14551694492678
         },
         {
          "author": "Kurata",
          "normalized_error": null,
          "sample_id": "tkt1",
          "unnormalized_error": null
         },
         {
          "author": "Kurata",
          "normalized_error": null,
          "sample_id": "tkt2",
          "unnormalized_error": null
         },
         {
          "author": "Kurata",
          "normalized_error": 0.5634927253676616,
          "sample_id": "tktA",
          "unnormalized_error": 254.09211016517975
         },
         {
          "author": "Kurata",
          "normalized_error": 0.49804358976829566,
          "sample_id": "tktB",
          "unnormalized_error": 194.67835263716688
         },
         {
          "author": "Kurata",
          "normalized_error": null,
          "sample_id": "tpi",
          "unnormalized_error": null
         },
         {
          "author": "Kurata",
          "normalized_error": 0.3998278217237869,
          "sample_id": "zwf",
          "unnormalized_error": 170.50441697158504
         },
         {
          "author": "Millard",
          "normalized_error": 0.07581158695388648,
          "sample_id": "WT",
          "unnormalized_error": 28.58199885821561
         },
         {
          "author": "Millard",
          "normalized_error": null,
          "sample_id": "fbaA",
          "unnormalized_error": null
         },
         {
          "author": "Millard",
          "normalized_error": 0.9975350478805866,
          "sample_id": "fbaB",
          "unnormalized_error": 364.8388126150055
         },
         {
          "author": "Millard",
          "normalized_error": 0.09381200836540193,
          "sample_id": "fbp",
          "unnormalized_error": 35.75333055385432
         },
         {
          "author": "Millard",
          "normalized_error": null,
          "sample_id": "glk",
          "unnormalized_error": null
         },
         {
          "author": "Millard",
          "normalized_error": 0.21294864452957682,
          "sample_id": "gnd",
          "unnormalized_error": 92.58834666214261
         },
         {
          "author": "Millard",
          "normalized_error": null,
          "sample_id": "gpmA",
          "unnormalized_error": null
         },
         {
          "author": "Millard",
          "normalized_error": null,
          "sample_id": "gpmB",
          "unnormalized_error": null
         },
         {
          "author": "Millard",
          "normalized_error": 1.0001830352754906,
          "sample_id": "pfkA",
          "unnormalized_error": 372.7302555904922
         },
         {
          "author": "Millard",
          "normalized_error": 0.9996937663257283,
          "sample_id": "pfkB",
          "unnormalized_error": 358.4163568937744
         },
         {
          "author": "Millard",
          "normalized_error": 0.7559627196463702,
          "sample_id": "pgi",
          "unnormalized_error": 230.06244633885615
         },
         {
          "author": "Millard",
          "normalized_error": 0.18577731967806382,
          "sample_id": "pgl",
          "unnormalized_error": 71.30655313045726
         },
         {
          "author": "Millard",
          "normalized_error": null,
          "sample_id": "pgm",
          "unnormalized_error": null
         },
         {
          "author": "Millard",
          "normalized_error": null,
          "sample_id": "ppc",
          "unnormalized_error": null
         },
         {
          "author": "Millard",
          "normalized_error": 0.18732914736336762,
          "sample_id": "ppsA",
          "unnormalized_error": 70.06736183508228
         },
         {
          "author": "Millard",
          "normalized_error": null,
          "sample_id": "pts",
          "unnormalized_error": null
         },
         {
          "author": "Millard",
          "normalized_error": 0.29233605477908076,
          "sample_id": "pykA",
          "unnormalized_error": 109.11930297346518
         },
         {
          "author": "Millard",
          "normalized_error": null,
          "sample_id": "pykAF",
          "unnormalized_error": null
         },
         {
          "author": "Millard",
          "normalized_error": 0.28384269179698235,
          "sample_id": "pykF",
          "unnormalized_error": 100.19486201753762
         },
         {
          "author": "Millard",
          "normalized_error": 0.2679820140682344,
          "sample_id": "rpe",
          "unnormalized_error": 117.66150035536342
         },
         {
          "author": "Millard",
          "normalized_error": 0.24880667871048653,
          "sample_id": "rpiA",
          "unnormalized_error": 95.23219856419325
         },
         {
          "author": "Millard",
          "normalized_error": 0.26562648222449475,
          "sample_id": "rpiB",
          "unnormalized_error": 110.6604515697857
         },
         {
          "author": "Millard",
          "normalized_error": null,
          "sample_id": "sdhCD",
          "unnormalized_error": null
         },
         {
          "author": "Millard",
          "normalized_error": null,
          "sample_id": "sucA",
          "unnormalized_error": null
         },
         {
          "author": "Millard",
          "normalized_error": null,
          "sample_id": "sucAB",
          "unnormalized_error": null
         },
         {
          "author": "Millard",
          "normalized_error": null,
          "sample_id": "talA",
          "unnormalized_error": null
         },
         {
          "author": "Millard",
          "normalized_error": null,
          "sample_id": "talAB",
          "unnormalized_error": null
         },
         {
          "author": "Millard",
          "normalized_error": null,
          "sample_id": "talB",
          "unnormalized_error": null
         },
         {
          "author": "Millard",
          "normalized_error": null,
          "sample_id": "tkt1",
          "unnormalized_error": null
         },
         {
          "author": "Millard",
          "normalized_error": null,
          "sample_id": "tkt2",
          "unnormalized_error": null
         },
         {
          "author": "Millard",
          "normalized_error": null,
          "sample_id": "tktA",
          "unnormalized_error": null
         },
         {
          "author": "Millard",
          "normalized_error": null,
          "sample_id": "tktB",
          "unnormalized_error": null
         },
         {
          "author": "Millard",
          "normalized_error": null,
          "sample_id": "tpi",
          "unnormalized_error": null
         },
         {
          "author": "Millard",
          "normalized_error": 0.16084745679000298,
          "sample_id": "zwf",
          "unnormalized_error": 68.59252996227919
         },
         {
          "author": "iML1515",
          "normalized_error": 0.35854831743447396,
          "sample_id": "WT",
          "unnormalized_error": 135.17758974971431
         },
         {
          "author": "iML1515",
          "normalized_error": null,
          "sample_id": "fbaA",
          "unnormalized_error": null
         },
         {
          "author": "iML1515",
          "normalized_error": 0.4175552542939995,
          "sample_id": "fbaB",
          "unnormalized_error": 152.7168027844731
         },
         {
          "author": "iML1515",
          "normalized_error": 0.37444175646006705,
          "sample_id": "fbp",
          "unnormalized_error": 142.70603652079947
         },
         {
          "author": "iML1515",
          "normalized_error": null,
          "sample_id": "glk",
          "unnormalized_error": null
         },
         {
          "author": "iML1515",
          "normalized_error": 0.40974358672465744,
          "sample_id": "gnd",
          "unnormalized_error": 178.15319432560688
         },
         {
          "author": "iML1515",
          "normalized_error": 0.29401204338992315,
          "sample_id": "gpmA",
          "unnormalized_error": 108.53346163509823
         },
         {
          "author": "iML1515",
          "normalized_error": null,
          "sample_id": "gpmB",
          "unnormalized_error": null
         },
         {
          "author": "iML1515",
          "normalized_error": 0.4190812309026285,
          "sample_id": "pfkA",
          "unnormalized_error": 156.17566865097834
         },
         {
          "author": "iML1515",
          "normalized_error": 0.4434682750195226,
          "sample_id": "pfkB",
          "unnormalized_error": 158.9949731452807
         },
         {
          "author": "iML1515",
          "normalized_error": 0.4901835626790297,
          "sample_id": "pgi",
          "unnormalized_error": 149.17776585304009
         },
         {
          "author": "iML1515",
          "normalized_error": 0.35339150973335187,
          "sample_id": "pgl",
          "unnormalized_error": 135.64158697262772
         },
         {
          "author": "iML1515",
          "normalized_error": null,
          "sample_id": "pgm",
          "unnormalized_error": null
         },
         {
          "author": "iML1515",
          "normalized_error": null,
          "sample_id": "ppc",
          "unnormalized_error": null
         },
         {
          "author": "iML1515",
          "normalized_error": 0.3722098764916622,
          "sample_id": "ppsA",
          "unnormalized_error": 139.21893342174312
         },
         {
          "author": "iML1515",
          "normalized_error": null,
          "sample_id": "pts",
          "unnormalized_error": null
         },
         {
          "author": "iML1515",
          "normalized_error": 0.3631411636343899,
          "sample_id": "pykA",
          "unnormalized_error": 135.54848951732265
         },
         {
          "author": "iML1515",
          "normalized_error": null,
          "sample_id": "pykAF",
          "unnormalized_error": null
         },
         {
          "author": "iML1515",
          "normalized_error": 0.3783451599881313,
          "sample_id": "pykF",
          "unnormalized_error": 133.55369785996731
         },
         {
          "author": "iML1515",
          "normalized_error": 0.43588125656644533,
          "sample_id": "rpe",
          "unnormalized_error": 191.38016707095255
         },
         {
          "author": "iML1515",
          "normalized_error": 0.5693158579346238,
          "sample_id": "rpiA",
          "unnormalized_error": 217.90894484653967
         },
         {
          "author": "iML1515",
          "normalized_error": 0.6226565077421666,
          "sample_id": "rpiB",
          "unnormalized_error": 259.39977724577943
         },
         {
          "author": "iML1515",
          "normalized_error": null,
          "sample_id": "sdhCD",
          "unnormalized_error": null
         },
         {
          "author": "iML1515",
          "normalized_error": null,
          "sample_id": "sucA",
          "unnormalized_error": null
         },
         {
          "author": "iML1515",
          "normalized_error": null,
          "sample_id": "sucAB",
          "unnormalized_error": null
         },
         {
          "author": "iML1515",
          "normalized_error": 0.3654303291424151,
          "sample_id": "talA",
          "unnormalized_error": 138.3336016230593
         },
         {
          "author": "iML1515",
          "normalized_error": null,
          "sample_id": "talAB",
          "unnormalized_error": null
         },
         {
          "author": "iML1515",
          "normalized_error": null,
          "sample_id": "talB",
          "unnormalized_error": null
         },
         {
          "author": "iML1515",
          "normalized_error": null,
          "sample_id": "tkt1",
          "unnormalized_error": null
         },
         {
          "author": "iML1515",
          "normalized_error": null,
          "sample_id": "tkt2",
          "unnormalized_error": null
         },
         {
          "author": "iML1515",
          "normalized_error": 0.4856988729889868,
          "sample_id": "tktA",
          "unnormalized_error": 219.01303421814114
         },
         {
          "author": "iML1515",
          "normalized_error": 0.35057014159455757,
          "sample_id": "tktB",
          "unnormalized_error": 137.03302090718194
         },
         {
          "author": "iML1515",
          "normalized_error": null,
          "sample_id": "tpi",
          "unnormalized_error": null
         },
         {
          "author": "iML1515",
          "normalized_error": 0.3958556632339242,
          "sample_id": "zwf",
          "unnormalized_error": 168.81051141865768
         }
        ]
       },
       "encoding": {
        "color": {
         "condition": {
          "field": "author",
          "selection": "selector001",
          "sort": [
           "Khodayari",
           "Kurata",
           "Millard",
           "iML1515"
          ],
          "type": "nominal"
         },
         "value": "lightgray"
        },
        "opacity": {
         "condition": {
          "selection": "selector001",
          "value": 0.4
         },
         "value": 1
        },
        "size": {
         "condition": {
          "selection": "selector001",
          "value": 100
         },
         "value": 40
        },
        "tooltip": [
         {
          "field": "author",
          "type": "nominal"
         },
         {
          "field": "sample_id",
          "type": "nominal"
         },
         {
          "field": "normalized_error",
          "type": "quantitative"
         }
        ],
        "x": {
         "field": "author",
         "sort": [
          "Khodayari",
          "Kurata",
          "Millard",
          "iML1515"
         ],
         "type": "nominal"
        },
        "y": {
         "field": "normalized_error",
         "title": "Normalized error",
         "type": "quantitative"
        }
       },
       "height": 600,
       "mark": "circle",
       "selection": {
        "selector001": {
         "empty": "all",
         "fields": [
          "sample_id"
         ],
         "type": "single"
        }
       },
       "title": "Normalized error knockout simulations",
       "transform": [
        {
         "filter": "datum.normalized_error !== null"
        }
       ],
       "width": 700
      },
      "image/png": "[encoded data removed]",
      "text/plain": [
       "<VegaLite 3 object>\n",
       "\n",
       "If you see this message, it means the renderer has not been properly enabled\n",
       "for the frontend that you are using. For more information, see\n",
       "https://altair-viz.github.io/user_guide/troubleshooting.html\n"
      ]
     },
     "execution_count": 12,
     "metadata": {},
     "output_type": "execute_result"
    }
   ],
   "source": [
    "summary_chart(norm_error=x_norm_error,\n",
    "              author=\"Ishii\",\n",
    "              title=\"Normalized error knockout simulations\",\n",
    "              sort_list=[\"Khodayari\", \"Kurata\", \"Millard\", \"iML1515\"])"
   ]
  },
  {
   "cell_type": "code",
   "execution_count": 16,
   "metadata": {},
   "outputs": [
    {
     "data": {
      "application/vnd.vegalite.v3+json": {
       "$schema": "https://vega.github.io/schema/vega-lite/v3.2.1.json",
       "config": {
        "invalidValues": null,
        "mark": {
         "tooltip": null
        },
        "view": {
         "height": 300,
         "width": 400
        }
       },
       "data": {
        "name": "data-db839d0bc0975fd17aa1d00689a0032e"
       },
       "datasets": {
        "data-db839d0bc0975fd17aa1d00689a0032e": [
         {
          "BiGG_ID": "AKGDH",
          "author": "Chassagnole",
          "relative_error": null,
          "sample_id": "gpmA"
         },
         {
          "BiGG_ID": "CS",
          "author": "Chassagnole",
          "relative_error": null,
          "sample_id": "gpmA"
         },
         {
          "BiGG_ID": "EDA",
          "author": "Chassagnole",
          "relative_error": null,
          "sample_id": "gpmA"
         },
         {
          "BiGG_ID": "FBA",
          "author": "Chassagnole",
          "relative_error": null,
          "sample_id": "gpmA"
         },
         {
          "BiGG_ID": "FUM",
          "author": "Chassagnole",
          "relative_error": null,
          "sample_id": "gpmA"
         },
         {
          "BiGG_ID": "G6PDH2r",
          "author": "Chassagnole",
          "relative_error": null,
          "sample_id": "gpmA"
         },
         {
          "BiGG_ID": "GAPD",
          "author": "Chassagnole",
          "relative_error": null,
          "sample_id": "gpmA"
         },
         {
          "BiGG_ID": "GLCptspp",
          "author": "Chassagnole",
          "relative_error": null,
          "sample_id": "gpmA"
         },
         {
          "BiGG_ID": "GND",
          "author": "Chassagnole",
          "relative_error": null,
          "sample_id": "gpmA"
         },
         {
          "BiGG_ID": "ICDHyr",
          "author": "Chassagnole",
          "relative_error": null,
          "sample_id": "gpmA"
         },
         {
          "BiGG_ID": "ICL",
          "author": "Chassagnole",
          "relative_error": null,
          "sample_id": "gpmA"
         },
         {
          "BiGG_ID": "MALS",
          "author": "Chassagnole",
          "relative_error": null,
          "sample_id": "gpmA"
         },
         {
          "BiGG_ID": "MDH",
          "author": "Chassagnole",
          "relative_error": null,
          "sample_id": "gpmA"
         },
         {
          "BiGG_ID": "PDH",
          "author": "Chassagnole",
          "relative_error": null,
          "sample_id": "gpmA"
         },
         {
          "BiGG_ID": "PGI",
          "author": "Chassagnole",
          "relative_error": null,
          "sample_id": "gpmA"
         },
         {
          "BiGG_ID": "PGM",
          "author": "Chassagnole",
          "relative_error": null,
          "sample_id": "gpmA"
         },
         {
          "BiGG_ID": "PPC",
          "author": "Chassagnole",
          "relative_error": null,
          "sample_id": "gpmA"
         },
         {
          "BiGG_ID": "PTAr",
          "author": "Chassagnole",
          "relative_error": null,
          "sample_id": "gpmA"
         },
         {
          "BiGG_ID": "PYK",
          "author": "Chassagnole",
          "relative_error": null,
          "sample_id": "gpmA"
         },
         {
          "BiGG_ID": "RPE",
          "author": "Chassagnole",
          "relative_error": null,
          "sample_id": "gpmA"
         },
         {
          "BiGG_ID": "RPI",
          "author": "Chassagnole",
          "relative_error": null,
          "sample_id": "gpmA"
         },
         {
          "BiGG_ID": "SUCDi",
          "author": "Chassagnole",
          "relative_error": null,
          "sample_id": "gpmA"
         },
         {
          "BiGG_ID": "TALA",
          "author": "Chassagnole",
          "relative_error": null,
          "sample_id": "gpmA"
         },
         {
          "BiGG_ID": "TKT1",
          "author": "Chassagnole",
          "relative_error": null,
          "sample_id": "gpmA"
         },
         {
          "BiGG_ID": "TPI",
          "author": "Chassagnole",
          "relative_error": null,
          "sample_id": "gpmA"
         },
         {
          "BiGG_ID": "AKGDH",
          "author": "ECC2",
          "relative_error": 100,
          "sample_id": "gpmA"
         },
         {
          "BiGG_ID": "CS",
          "author": "ECC2",
          "relative_error": 91.07132867132867,
          "sample_id": "gpmA"
         },
         {
          "BiGG_ID": "EDA",
          "author": "ECC2",
          "relative_error": 100,
          "sample_id": "gpmA"
         },
         {
          "BiGG_ID": "FBA",
          "author": "ECC2",
          "relative_error": 45.58865343958364,
          "sample_id": "gpmA"
         },
         {
          "BiGG_ID": "FUM",
          "author": "ECC2",
          "relative_error": 14.341965139561305,
          "sample_id": "gpmA"
         },
         {
          "BiGG_ID": "G6PDH2r",
          "author": "ECC2",
          "relative_error": 281.9273767482513,
          "sample_id": "gpmA"
         },
         {
          "BiGG_ID": "GAPD",
          "author": "ECC2",
          "relative_error": 93.36514067328021,
          "sample_id": "gpmA"
         },
         {
          "BiGG_ID": "GLCptspp",
          "author": "ECC2",
          "relative_error": 0,
          "sample_id": "gpmA"
         },
         {
          "BiGG_ID": "GND",
          "author": "ECC2",
          "relative_error": 28.316875874126058,
          "sample_id": "gpmA"
         },
         {
          "BiGG_ID": "ICDHyr",
          "author": "ECC2",
          "relative_error": 90.21515470830539,
          "sample_id": "gpmA"
         },
         {
          "BiGG_ID": "ICL",
          "author": "ECC2",
          "relative_error": 100,
          "sample_id": "gpmA"
         },
         {
          "BiGG_ID": "MALS",
          "author": "ECC2",
          "relative_error": 100,
          "sample_id": "gpmA"
         },
         {
          "BiGG_ID": "MDH",
          "author": "ECC2",
          "relative_error": 21.931917595549542,
          "sample_id": "gpmA"
         },
         {
          "BiGG_ID": "PDH",
          "author": "ECC2",
          "relative_error": 18.63496742725618,
          "sample_id": "gpmA"
         },
         {
          "BiGG_ID": "PGI",
          "author": "ECC2",
          "relative_error": 53.14262684303647,
          "sample_id": "gpmA"
         },
         {
          "BiGG_ID": "PGM",
          "author": "ECC2",
          "relative_error": 100,
          "sample_id": "gpmA"
         },
         {
          "BiGG_ID": "PPC",
          "author": "ECC2",
          "relative_error": 100,
          "sample_id": "gpmA"
         },
         {
          "BiGG_ID": "PTAr",
          "author": "ECC2",
          "relative_error": 100,
          "sample_id": "gpmA"
         },
         {
          "BiGG_ID": "PYK",
          "author": "ECC2",
          "relative_error": 100,
          "sample_id": "gpmA"
         },
         {
          "BiGG_ID": "RPE",
          "author": "ECC2",
          "relative_error": 70.59711608391645,
          "sample_id": "gpmA"
         },
         {
          "BiGG_ID": "RPI",
          "author": "ECC2",
          "relative_error": 20.579590334491147,
          "sample_id": "gpmA"
         },
         {
          "BiGG_ID": "SUCDi",
          "author": "ECC2",
          "relative_error": 20.87810538820155,
          "sample_id": "gpmA"
         },
         {
          "BiGG_ID": "TALA",
          "author": "ECC2",
          "relative_error": 38.29124825174848,
          "sample_id": "gpmA"
         },
         {
          "BiGG_ID": "TKT1",
          "author": "ECC2",
          "relative_error": 38.29124825174848,
          "sample_id": "gpmA"
         },
         {
          "BiGG_ID": "TPI",
          "author": "ECC2",
          "relative_error": 192.22846560416332,
          "sample_id": "gpmA"
         },
         {
          "BiGG_ID": "AKGDH",
          "author": "Exp_ECC2",
          "relative_error": 11.155375874125884,
          "sample_id": "gpmA"
         },
         {
          "BiGG_ID": "CS",
          "author": "Exp_ECC2",
          "relative_error": 1.254370629370598,
          "sample_id": "gpmA"
         },
         {
          "BiGG_ID": "EDA",
          "author": "Exp_ECC2",
          "relative_error": 100,
          "sample_id": "gpmA"
         },
         {
          "BiGG_ID": "FBA",
          "author": "Exp_ECC2",
          "relative_error": 100,
          "sample_id": "gpmA"
         },
         {
          "BiGG_ID": "FUM",
          "author": "Exp_ECC2",
          "relative_error": 15.906371406371397,
          "sample_id": "gpmA"
         },
         {
          "BiGG_ID": "G6PDH2r",
          "author": "Exp_ECC2",
          "relative_error": 540.9416826923082,
          "sample_id": "gpmA"
         },
         {
          "BiGG_ID": "GAPD",
          "author": "Exp_ECC2",
          "relative_error": 93.36514067328021,
          "sample_id": "gpmA"
         },
         {
          "BiGG_ID": "GLCptspp",
          "author": "Exp_ECC2",
          "relative_error": 0,
          "sample_id": "gpmA"
         },
         {
          "BiGG_ID": "GND",
          "author": "Exp_ECC2",
          "relative_error": 21.853146853146832,
          "sample_id": "gpmA"
         },
         {
          "BiGG_ID": "ICDHyr",
          "author": "Exp_ECC2",
          "relative_error": 12.323977392470537,
          "sample_id": "gpmA"
         },
         {
          "BiGG_ID": "ICL",
          "author": "Exp_ECC2",
          "relative_error": 142.8571428571426,
          "sample_id": "gpmA"
         },
         {
          "BiGG_ID": "MALS",
          "author": "Exp_ECC2",
          "relative_error": 142.8571428571426,
          "sample_id": "gpmA"
         },
         {
          "BiGG_ID": "MDH",
          "author": "Exp_ECC2",
          "relative_error": 27.155173939984074,
          "sample_id": "gpmA"
         },
         {
          "BiGG_ID": "PDH",
          "author": "Exp_ECC2",
          "relative_error": 22.080228754296698,
          "sample_id": "gpmA"
         },
         {
          "BiGG_ID": "PGI",
          "author": "Exp_ECC2",
          "relative_error": 103.0730954587582,
          "sample_id": "gpmA"
         },
         {
          "BiGG_ID": "PGM",
          "author": "Exp_ECC2",
          "relative_error": 100,
          "sample_id": "gpmA"
         },
         {
          "BiGG_ID": "PPC",
          "author": "Exp_ECC2",
          "relative_error": 100,
          "sample_id": "gpmA"
         },
         {
          "BiGG_ID": "PTAr",
          "author": "Exp_ECC2",
          "relative_error": 100,
          "sample_id": "gpmA"
         },
         {
          "BiGG_ID": "PYK",
          "author": "Exp_ECC2",
          "relative_error": 100,
          "sample_id": "gpmA"
         },
         {
          "BiGG_ID": "RPE",
          "author": "Exp_ECC2",
          "relative_error": 36.43226573426574,
          "sample_id": "gpmA"
         },
         {
          "BiGG_ID": "RPI",
          "author": "Exp_ECC2",
          "relative_error": 20.579590334491147,
          "sample_id": "gpmA"
         },
         {
          "BiGG_ID": "SUCDi",
          "author": "Exp_ECC2",
          "relative_error": 15.002852762662874,
          "sample_id": "gpmA"
         },
         {
          "BiGG_ID": "TALA",
          "author": "Exp_ECC2",
          "relative_error": 28.602115384615377,
          "sample_id": "gpmA"
         },
         {
          "BiGG_ID": "TKT1",
          "author": "Exp_ECC2",
          "relative_error": 28.602115384615377,
          "sample_id": "gpmA"
         },
         {
          "BiGG_ID": "TPI",
          "author": "Exp_ECC2",
          "relative_error": 192.22846560416332,
          "sample_id": "gpmA"
         },
         {
          "BiGG_ID": "AKGDH",
          "author": "Exp_iML1515",
          "relative_error": 11.155292832168072,
          "sample_id": "gpmA"
         },
         {
          "BiGG_ID": "CS",
          "author": "Exp_iML1515",
          "relative_error": 1.2543706293706336,
          "sample_id": "gpmA"
         },
         {
          "BiGG_ID": "EDA",
          "author": "Exp_iML1515",
          "relative_error": 100,
          "sample_id": "gpmA"
         },
         {
          "BiGG_ID": "FBA",
          "author": "Exp_iML1515",
          "relative_error": 2.093378869193099,
          "sample_id": "gpmA"
         },
         {
          "BiGG_ID": "FUM",
          "author": "Exp_iML1515",
          "relative_error": 12.205905205906337,
          "sample_id": "gpmA"
         },
         {
          "BiGG_ID": "G6PDH2r",
          "author": "Exp_iML1515",
          "relative_error": 6.883382752675971e-13,
          "sample_id": "gpmA"
         },
         {
          "BiGG_ID": "GAPD",
          "author": "Exp_iML1515",
          "relative_error": 0.5813953488379033,
          "sample_id": "gpmA"
         },
         {
          "BiGG_ID": "GLCptspp",
          "author": "Exp_iML1515",
          "relative_error": 0,
          "sample_id": "gpmA"
         },
         {
          "BiGG_ID": "GND",
          "author": "Exp_iML1515",
          "relative_error": 21.853146853146832,
          "sample_id": "gpmA"
         },
         {
          "BiGG_ID": "ICDHyr",
          "author": "Exp_iML1515",
          "relative_error": 12.323977392470772,
          "sample_id": "gpmA"
         },
         {
          "BiGG_ID": "ICL",
          "author": "Exp_iML1515",
          "relative_error": 142.8571428571453,
          "sample_id": "gpmA"
         },
         {
          "BiGG_ID": "MALS",
          "author": "Exp_iML1515",
          "relative_error": 85.7642357642358,
          "sample_id": "gpmA"
         },
         {
          "BiGG_ID": "MDH",
          "author": "Exp_iML1515",
          "relative_error": 18.69277728600613,
          "sample_id": "gpmA"
         },
         {
          "BiGG_ID": "PDH",
          "author": "Exp_iML1515",
          "relative_error": 12.753264136449713,
          "sample_id": "gpmA"
         },
         {
          "BiGG_ID": "PGI",
          "author": "Exp_iML1515",
          "relative_error": 1.204819277108314,
          "sample_id": "gpmA"
         },
         {
          "BiGG_ID": "PGM",
          "author": "Exp_iML1515",
          "relative_error": 2.005031681528723,
          "sample_id": "gpmA"
         },
         {
          "BiGG_ID": "PPC",
          "author": "Exp_iML1515",
          "relative_error": 58.360496066432944,
          "sample_id": "gpmA"
         },
         {
          "BiGG_ID": "PTAr",
          "author": "Exp_iML1515",
          "relative_error": 100,
          "sample_id": "gpmA"
         },
         {
          "BiGG_ID": "PYK",
          "author": "Exp_iML1515",
          "relative_error": 6.10608903291831,
          "sample_id": "gpmA"
         },
         {
          "BiGG_ID": "RPE",
          "author": "Exp_iML1515",
          "relative_error": 36.37557575758133,
          "sample_id": "gpmA"
         },
         {
          "BiGG_ID": "RPI",
          "author": "Exp_iML1515",
          "relative_error": 20.579590334491147,
          "sample_id": "gpmA"
         },
         {
          "BiGG_ID": "SUCDi",
          "author": "Exp_iML1515",
          "relative_error": 5.662678710178741,
          "sample_id": "gpmA"
         },
         {
          "BiGG_ID": "TALA",
          "author": "Exp_iML1515",
          "relative_error": 87.41258741258741,
          "sample_id": "gpmA"
         },
         {
          "BiGG_ID": "TKT1",
          "author": "Exp_iML1515",
          "relative_error": 28.567348484851973,
          "sample_id": "gpmA"
         },
         {
          "BiGG_ID": "TPI",
          "author": "Exp_iML1515",
          "relative_error": 3.484306391283132,
          "sample_id": "gpmA"
         },
         {
          "BiGG_ID": "AKGDH",
          "author": "Ishii",
          "relative_error": 0,
          "sample_id": "gpmA"
         },
         {
          "BiGG_ID": "CS",
          "author": "Ishii",
          "relative_error": 0,
          "sample_id": "gpmA"
         },
         {
          "BiGG_ID": "EDA",
          "author": "Ishii",
          "relative_error": 0,
          "sample_id": "gpmA"
         },
         {
          "BiGG_ID": "FBA",
          "author": "Ishii",
          "relative_error": 0,
          "sample_id": "gpmA"
         },
         {
          "BiGG_ID": "FUM",
          "author": "Ishii",
          "relative_error": 0,
          "sample_id": "gpmA"
         },
         {
          "BiGG_ID": "G6PDH2r",
          "author": "Ishii",
          "relative_error": 0,
          "sample_id": "gpmA"
         },
         {
          "BiGG_ID": "GAPD",
          "author": "Ishii",
          "relative_error": 0,
          "sample_id": "gpmA"
         },
         {
          "BiGG_ID": "GLCptspp",
          "author": "Ishii",
          "relative_error": 0,
          "sample_id": "gpmA"
         },
         {
          "BiGG_ID": "GND",
          "author": "Ishii",
          "relative_error": 0,
          "sample_id": "gpmA"
         },
         {
          "BiGG_ID": "ICDHyr",
          "author": "Ishii",
          "relative_error": 0,
          "sample_id": "gpmA"
         },
         {
          "BiGG_ID": "ICL",
          "author": "Ishii",
          "relative_error": 0,
          "sample_id": "gpmA"
         },
         {
          "BiGG_ID": "MALS",
          "author": "Ishii",
          "relative_error": 0,
          "sample_id": "gpmA"
         },
         {
          "BiGG_ID": "MDH",
          "author": "Ishii",
          "relative_error": 0,
          "sample_id": "gpmA"
         },
         {
          "BiGG_ID": "PDH",
          "author": "Ishii",
          "relative_error": 0,
          "sample_id": "gpmA"
         },
         {
          "BiGG_ID": "PGI",
          "author": "Ishii",
          "relative_error": 0,
          "sample_id": "gpmA"
         },
         {
          "BiGG_ID": "PGM",
          "author": "Ishii",
          "relative_error": 0,
          "sample_id": "gpmA"
         },
         {
          "BiGG_ID": "PPC",
          "author": "Ishii",
          "relative_error": 0,
          "sample_id": "gpmA"
         },
         {
          "BiGG_ID": "PTAr",
          "author": "Ishii",
          "relative_error": 0,
          "sample_id": "gpmA"
         },
         {
          "BiGG_ID": "PYK",
          "author": "Ishii",
          "relative_error": 0,
          "sample_id": "gpmA"
         },
         {
          "BiGG_ID": "RPE",
          "author": "Ishii",
          "relative_error": 0,
          "sample_id": "gpmA"
         },
         {
          "BiGG_ID": "RPI",
          "author": "Ishii",
          "relative_error": 0,
          "sample_id": "gpmA"
         },
         {
          "BiGG_ID": "SUCDi",
          "author": "Ishii",
          "relative_error": 0,
          "sample_id": "gpmA"
         },
         {
          "BiGG_ID": "TALA",
          "author": "Ishii",
          "relative_error": 0,
          "sample_id": "gpmA"
         },
         {
          "BiGG_ID": "TKT1",
          "author": "Ishii",
          "relative_error": 0,
          "sample_id": "gpmA"
         },
         {
          "BiGG_ID": "TPI",
          "author": "Ishii",
          "relative_error": 0,
          "sample_id": "gpmA"
         },
         {
          "BiGG_ID": "AKGDH",
          "author": "Khodayari",
          "relative_error": null,
          "sample_id": "gpmA"
         },
         {
          "BiGG_ID": "CS",
          "author": "Khodayari",
          "relative_error": null,
          "sample_id": "gpmA"
         },
         {
          "BiGG_ID": "EDA",
          "author": "Khodayari",
          "relative_error": null,
          "sample_id": "gpmA"
         },
         {
          "BiGG_ID": "FBA",
          "author": "Khodayari",
          "relative_error": null,
          "sample_id": "gpmA"
         },
         {
          "BiGG_ID": "FUM",
          "author": "Khodayari",
          "relative_error": null,
          "sample_id": "gpmA"
         },
         {
          "BiGG_ID": "G6PDH2r",
          "author": "Khodayari",
          "relative_error": null,
          "sample_id": "gpmA"
         },
         {
          "BiGG_ID": "GAPD",
          "author": "Khodayari",
          "relative_error": null,
          "sample_id": "gpmA"
         },
         {
          "BiGG_ID": "GLCptspp",
          "author": "Khodayari",
          "relative_error": null,
          "sample_id": "gpmA"
         },
         {
          "BiGG_ID": "GND",
          "author": "Khodayari",
          "relative_error": null,
          "sample_id": "gpmA"
         },
         {
          "BiGG_ID": "ICDHyr",
          "author": "Khodayari",
          "relative_error": null,
          "sample_id": "gpmA"
         },
         {
          "BiGG_ID": "ICL",
          "author": "Khodayari",
          "relative_error": null,
          "sample_id": "gpmA"
         },
         {
          "BiGG_ID": "MALS",
          "author": "Khodayari",
          "relative_error": null,
          "sample_id": "gpmA"
         },
         {
          "BiGG_ID": "MDH",
          "author": "Khodayari",
          "relative_error": null,
          "sample_id": "gpmA"
         },
         {
          "BiGG_ID": "PDH",
          "author": "Khodayari",
          "relative_error": null,
          "sample_id": "gpmA"
         },
         {
          "BiGG_ID": "PGI",
          "author": "Khodayari",
          "relative_error": null,
          "sample_id": "gpmA"
         },
         {
          "BiGG_ID": "PGM",
          "author": "Khodayari",
          "relative_error": null,
          "sample_id": "gpmA"
         },
         {
          "BiGG_ID": "PPC",
          "author": "Khodayari",
          "relative_error": null,
          "sample_id": "gpmA"
         },
         {
          "BiGG_ID": "PTAr",
          "author": "Khodayari",
          "relative_error": null,
          "sample_id": "gpmA"
         },
         {
          "BiGG_ID": "PYK",
          "author": "Khodayari",
          "relative_error": null,
          "sample_id": "gpmA"
         },
         {
          "BiGG_ID": "RPE",
          "author": "Khodayari",
          "relative_error": null,
          "sample_id": "gpmA"
         },
         {
          "BiGG_ID": "RPI",
          "author": "Khodayari",
          "relative_error": null,
          "sample_id": "gpmA"
         },
         {
          "BiGG_ID": "SUCDi",
          "author": "Khodayari",
          "relative_error": null,
          "sample_id": "gpmA"
         },
         {
          "BiGG_ID": "TALA",
          "author": "Khodayari",
          "relative_error": null,
          "sample_id": "gpmA"
         },
         {
          "BiGG_ID": "TKT1",
          "author": "Khodayari",
          "relative_error": null,
          "sample_id": "gpmA"
         },
         {
          "BiGG_ID": "TPI",
          "author": "Khodayari",
          "relative_error": null,
          "sample_id": "gpmA"
         },
         {
          "BiGG_ID": "AKGDH",
          "author": "Kurata",
          "relative_error": 100,
          "sample_id": "gpmA"
         },
         {
          "BiGG_ID": "CS",
          "author": "Kurata",
          "relative_error": 100,
          "sample_id": "gpmA"
         },
         {
          "BiGG_ID": "EDA",
          "author": "Kurata",
          "relative_error": 0,
          "sample_id": "gpmA"
         },
         {
          "BiGG_ID": "FBA",
          "author": "Kurata",
          "relative_error": 100,
          "sample_id": "gpmA"
         },
         {
          "BiGG_ID": "FUM",
          "author": "Kurata",
          "relative_error": 100,
          "sample_id": "gpmA"
         },
         {
          "BiGG_ID": "G6PDH2r",
          "author": "Kurata",
          "relative_error": 100,
          "sample_id": "gpmA"
         },
         {
          "BiGG_ID": "GAPD",
          "author": "Kurata",
          "relative_error": 100,
          "sample_id": "gpmA"
         },
         {
          "BiGG_ID": "GLCptspp",
          "author": "Kurata",
          "relative_error": 100,
          "sample_id": "gpmA"
         },
         {
          "BiGG_ID": "GND",
          "author": "Kurata",
          "relative_error": 100,
          "sample_id": "gpmA"
         },
         {
          "BiGG_ID": "ICDHyr",
          "author": "Kurata",
          "relative_error": 100,
          "sample_id": "gpmA"
         },
         {
          "BiGG_ID": "ICL",
          "author": "Kurata",
          "relative_error": 100,
          "sample_id": "gpmA"
         },
         {
          "BiGG_ID": "MALS",
          "author": "Kurata",
          "relative_error": 100,
          "sample_id": "gpmA"
         },
         {
          "BiGG_ID": "MDH",
          "author": "Kurata",
          "relative_error": 100,
          "sample_id": "gpmA"
         },
         {
          "BiGG_ID": "PDH",
          "author": "Kurata",
          "relative_error": 100,
          "sample_id": "gpmA"
         },
         {
          "BiGG_ID": "PGI",
          "author": "Kurata",
          "relative_error": 100,
          "sample_id": "gpmA"
         },
         {
          "BiGG_ID": "PGM",
          "author": "Kurata",
          "relative_error": 100,
          "sample_id": "gpmA"
         },
         {
          "BiGG_ID": "PPC",
          "author": "Kurata",
          "relative_error": 100,
          "sample_id": "gpmA"
         },
         {
          "BiGG_ID": "PTAr",
          "author": "Kurata",
          "relative_error": 0,
          "sample_id": "gpmA"
         },
         {
          "BiGG_ID": "PYK",
          "author": "Kurata",
          "relative_error": 100,
          "sample_id": "gpmA"
         },
         {
          "BiGG_ID": "RPE",
          "author": "Kurata",
          "relative_error": 100,
          "sample_id": "gpmA"
         },
         {
          "BiGG_ID": "RPI",
          "author": "Kurata",
          "relative_error": 100,
          "sample_id": "gpmA"
         },
         {
          "BiGG_ID": "SUCDi",
          "author": "Kurata",
          "relative_error": 100,
          "sample_id": "gpmA"
         },
         {
          "BiGG_ID": "TALA",
          "author": "Kurata",
          "relative_error": 100,
          "sample_id": "gpmA"
         },
         {
          "BiGG_ID": "TKT1",
          "author": "Kurata",
          "relative_error": 100,
          "sample_id": "gpmA"
         },
         {
          "BiGG_ID": "TPI",
          "author": "Kurata",
          "relative_error": 100,
          "sample_id": "gpmA"
         },
         {
          "BiGG_ID": "AKGDH",
          "author": "Millard",
          "relative_error": null,
          "sample_id": "gpmA"
         },
         {
          "BiGG_ID": "CS",
          "author": "Millard",
          "relative_error": null,
          "sample_id": "gpmA"
         },
         {
          "BiGG_ID": "EDA",
          "author": "Millard",
          "relative_error": null,
          "sample_id": "gpmA"
         },
         {
          "BiGG_ID": "FBA",
          "author": "Millard",
          "relative_error": null,
          "sample_id": "gpmA"
         },
         {
          "BiGG_ID": "FUM",
          "author": "Millard",
          "relative_error": null,
          "sample_id": "gpmA"
         },
         {
          "BiGG_ID": "G6PDH2r",
          "author": "Millard",
          "relative_error": null,
          "sample_id": "gpmA"
         },
         {
          "BiGG_ID": "GAPD",
          "author": "Millard",
          "relative_error": null,
          "sample_id": "gpmA"
         },
         {
          "BiGG_ID": "GLCptspp",
          "author": "Millard",
          "relative_error": null,
          "sample_id": "gpmA"
         },
         {
          "BiGG_ID": "GND",
          "author": "Millard",
          "relative_error": null,
          "sample_id": "gpmA"
         },
         {
          "BiGG_ID": "ICDHyr",
          "author": "Millard",
          "relative_error": null,
          "sample_id": "gpmA"
         },
         {
          "BiGG_ID": "ICL",
          "author": "Millard",
          "relative_error": null,
          "sample_id": "gpmA"
         },
         {
          "BiGG_ID": "MALS",
          "author": "Millard",
          "relative_error": null,
          "sample_id": "gpmA"
         },
         {
          "BiGG_ID": "MDH",
          "author": "Millard",
          "relative_error": null,
          "sample_id": "gpmA"
         },
         {
          "BiGG_ID": "PDH",
          "author": "Millard",
          "relative_error": null,
          "sample_id": "gpmA"
         },
         {
          "BiGG_ID": "PGI",
          "author": "Millard",
          "relative_error": null,
          "sample_id": "gpmA"
         },
         {
          "BiGG_ID": "PGM",
          "author": "Millard",
          "relative_error": null,
          "sample_id": "gpmA"
         },
         {
          "BiGG_ID": "PPC",
          "author": "Millard",
          "relative_error": null,
          "sample_id": "gpmA"
         },
         {
          "BiGG_ID": "PTAr",
          "author": "Millard",
          "relative_error": null,
          "sample_id": "gpmA"
         },
         {
          "BiGG_ID": "PYK",
          "author": "Millard",
          "relative_error": null,
          "sample_id": "gpmA"
         },
         {
          "BiGG_ID": "RPE",
          "author": "Millard",
          "relative_error": null,
          "sample_id": "gpmA"
         },
         {
          "BiGG_ID": "RPI",
          "author": "Millard",
          "relative_error": null,
          "sample_id": "gpmA"
         },
         {
          "BiGG_ID": "SUCDi",
          "author": "Millard",
          "relative_error": null,
          "sample_id": "gpmA"
         },
         {
          "BiGG_ID": "TALA",
          "author": "Millard",
          "relative_error": null,
          "sample_id": "gpmA"
         },
         {
          "BiGG_ID": "TKT1",
          "author": "Millard",
          "relative_error": null,
          "sample_id": "gpmA"
         },
         {
          "BiGG_ID": "TPI",
          "author": "Millard",
          "relative_error": null,
          "sample_id": "gpmA"
         },
         {
          "BiGG_ID": "AKGDH",
          "author": "iML1515",
          "relative_error": 33.13150537241475,
          "sample_id": "gpmA"
         },
         {
          "BiGG_ID": "CS",
          "author": "iML1515",
          "relative_error": 38.21647801300827,
          "sample_id": "gpmA"
         },
         {
          "BiGG_ID": "EDA",
          "author": "iML1515",
          "relative_error": 100,
          "sample_id": "gpmA"
         },
         {
          "BiGG_ID": "FBA",
          "author": "iML1515",
          "relative_error": 55.82474999906096,
          "sample_id": "gpmA"
         },
         {
          "BiGG_ID": "FUM",
          "author": "iML1515",
          "relative_error": 31.62916861917951,
          "sample_id": "gpmA"
         },
         {
          "BiGG_ID": "G6PDH2r",
          "author": "iML1515",
          "relative_error": 90.54689935731697,
          "sample_id": "gpmA"
         },
         {
          "BiGG_ID": "GAPD",
          "author": "iML1515",
          "relative_error": 1.0364080605653314,
          "sample_id": "gpmA"
         },
         {
          "BiGG_ID": "GLCptspp",
          "author": "iML1515",
          "relative_error": 6.517429051282959,
          "sample_id": "gpmA"
         },
         {
          "BiGG_ID": "GND",
          "author": "iML1515",
          "relative_error": 45.755564533815175,
          "sample_id": "gpmA"
         },
         {
          "BiGG_ID": "ICDHyr",
          "author": "iML1515",
          "relative_error": 32.29203069918722,
          "sample_id": "gpmA"
         },
         {
          "BiGG_ID": "ICL",
          "author": "iML1515",
          "relative_error": 100,
          "sample_id": "gpmA"
         },
         {
          "BiGG_ID": "MALS",
          "author": "iML1515",
          "relative_error": 100,
          "sample_id": "gpmA"
         },
         {
          "BiGG_ID": "MDH",
          "author": "iML1515",
          "relative_error": 37.682120903277564,
          "sample_id": "gpmA"
         },
         {
          "BiGG_ID": "PDH",
          "author": "iML1515",
          "relative_error": 6.12993349369251,
          "sample_id": "gpmA"
         },
         {
          "BiGG_ID": "PGI",
          "author": "iML1515",
          "relative_error": 16.250004695386416,
          "sample_id": "gpmA"
         },
         {
          "BiGG_ID": "PGM",
          "author": "iML1515",
          "relative_error": 2.005031681528723,
          "sample_id": "gpmA"
         },
         {
          "BiGG_ID": "PPC",
          "author": "iML1515",
          "relative_error": 14.07698825628505,
          "sample_id": "gpmA"
         },
         {
          "BiGG_ID": "PTAr",
          "author": "iML1515",
          "relative_error": 100,
          "sample_id": "gpmA"
         },
         {
          "BiGG_ID": "PYK",
          "author": "iML1515",
          "relative_error": 100,
          "sample_id": "gpmA"
         },
         {
          "BiGG_ID": "RPE",
          "author": "iML1515",
          "relative_error": 115.24432227675156,
          "sample_id": "gpmA"
         },
         {
          "BiGG_ID": "RPI",
          "author": "iML1515",
          "relative_error": 20.579590334491147,
          "sample_id": "gpmA"
         },
         {
          "BiGG_ID": "SUCDi",
          "author": "iML1515",
          "relative_error": 40.55644713460284,
          "sample_id": "gpmA"
         },
         {
          "BiGG_ID": "TALA",
          "author": "iML1515",
          "relative_error": 100,
          "sample_id": "gpmA"
         },
         {
          "BiGG_ID": "TKT1",
          "author": "iML1515",
          "relative_error": 63.92560857764802,
          "sample_id": "gpmA"
         },
         {
          "BiGG_ID": "TPI",
          "author": "iML1515",
          "relative_error": 8.348243051321463,
          "sample_id": "gpmA"
         }
        ]
       },
       "encoding": {
        "color": {
         "condition": {
          "test": "datum.relative_error === null",
          "value": "lightgrey"
         },
         "field": "relative_error",
         "scale": {
          "domain": [
           0,
           25,
           50,
           75,
           100,
           200,
           300
          ],
          "scheme": "greenblue",
          "type": "threshold"
         },
         "title": "relative error (clipped at 300)",
         "type": "quantitative"
        },
        "tooltip": [
         {
          "field": "sample_id",
          "type": "nominal"
         },
         {
          "field": "BiGG_ID",
          "type": "nominal"
         },
         {
          "field": "relative_error",
          "type": "quantitative"
         }
        ],
        "x": {
         "field": "author",
         "type": "nominal"
        },
        "y": {
         "field": "BiGG_ID",
         "type": "nominal"
        }
       },
       "mark": "rect",
       "title": "Heatmap for sample_id gpmA"
      },
      "image/png": "[encoded data removed]",
      "text/plain": [
       "<VegaLite 3 object>\n",
       "\n",
       "If you see this message, it means the renderer has not been properly enabled\n",
       "for the frontend that you are using. For more information, see\n",
       "https://altair-viz.github.io/user_guide/troubleshooting.html\n"
      ]
     },
     "execution_count": 16,
     "metadata": {},
     "output_type": "execute_result"
    }
   ],
   "source": [
    "heatmap(x_rel_error, sample_id = \"gpmA\")"
   ]
  },
  {
   "cell_type": "code",
   "execution_count": 14,
   "metadata": {},
   "outputs": [
    {
     "data": {
      "application/vnd.vegalite.v3+json": {
       "$schema": "https://vega.github.io/schema/vega-lite/v3.2.1.json",
       "config": {
        "invalidValues": null,
        "mark": {
         "tooltip": null
        },
        "view": {
         "height": 300,
         "width": 400
        }
       },
       "data": {
        "name": "data-ac58e78658b529e10f46d71a14e0fc41"
       },
       "datasets": {
        "data-ac58e78658b529e10f46d71a14e0fc41": [
         {
          "BiGG_ID": "AKGDH",
          "author": "Khodayari",
          "relative_error": 6.062914664652038,
          "sample_id": "WT"
         },
         {
          "BiGG_ID": "CS",
          "author": "Khodayari",
          "relative_error": 5.461126034085078,
          "sample_id": "WT"
         },
         {
          "BiGG_ID": "EDA",
          "author": "Khodayari",
          "relative_error": 0,
          "sample_id": "WT"
         },
         {
          "BiGG_ID": "FBA",
          "author": "Khodayari",
          "relative_error": 7.352255738946035,
          "sample_id": "WT"
         },
         {
          "BiGG_ID": "FUM",
          "author": "Khodayari",
          "relative_error": 5.999440174603389,
          "sample_id": "WT"
         },
         {
          "BiGG_ID": "G6PDH2r",
          "author": "Khodayari",
          "relative_error": 11.712247645354502,
          "sample_id": "WT"
         },
         {
          "BiGG_ID": "GAPD",
          "author": "Khodayari",
          "relative_error": 8.26465684764779,
          "sample_id": "WT"
         },
         {
          "BiGG_ID": "GLCptspp",
          "author": "Khodayari",
          "relative_error": 0.11656793522178076,
          "sample_id": "WT"
         },
         {
          "BiGG_ID": "GND",
          "author": "Khodayari",
          "relative_error": 1.764838532115376,
          "sample_id": "WT"
         },
         {
          "BiGG_ID": "ICDHyr",
          "author": "Khodayari",
          "relative_error": 12.906121088770378,
          "sample_id": "WT"
         },
         {
          "BiGG_ID": "ICL",
          "author": "Khodayari",
          "relative_error": 26.473196254861985,
          "sample_id": "WT"
         },
         {
          "BiGG_ID": "MALS",
          "author": "Khodayari",
          "relative_error": 26.316043669000745,
          "sample_id": "WT"
         },
         {
          "BiGG_ID": "MDH",
          "author": "Khodayari",
          "relative_error": 1.723026170490662,
          "sample_id": "WT"
         },
         {
          "BiGG_ID": "PDH",
          "author": "Khodayari",
          "relative_error": 9.084314254641267,
          "sample_id": "WT"
         },
         {
          "BiGG_ID": "PGI",
          "author": "Khodayari",
          "relative_error": 3.550116371486276,
          "sample_id": "WT"
         },
         {
          "BiGG_ID": "PGM",
          "author": "Khodayari",
          "relative_error": 4.95430416326876,
          "sample_id": "WT"
         },
         {
          "BiGG_ID": "PPC",
          "author": "Khodayari",
          "relative_error": 35.0479138643052,
          "sample_id": "WT"
         },
         {
          "BiGG_ID": "PTAr",
          "author": "Khodayari",
          "relative_error": 0,
          "sample_id": "WT"
         },
         {
          "BiGG_ID": "PYK",
          "author": "Khodayari",
          "relative_error": 38.07327928432705,
          "sample_id": "WT"
         },
         {
          "BiGG_ID": "RPE",
          "author": "Khodayari",
          "relative_error": 1.8618824833355772,
          "sample_id": "WT"
         },
         {
          "BiGG_ID": "RPI",
          "author": "Khodayari",
          "relative_error": 3.5296225332287468,
          "sample_id": "WT"
         },
         {
          "BiGG_ID": "SUCDi",
          "author": "Khodayari",
          "relative_error": 8.628945929172211,
          "sample_id": "WT"
         },
         {
          "BiGG_ID": "TALA",
          "author": "Khodayari",
          "relative_error": 5.83261547514593,
          "sample_id": "WT"
         },
         {
          "BiGG_ID": "TKT1",
          "author": "Khodayari",
          "relative_error": 3.460901401323646,
          "sample_id": "WT"
         },
         {
          "BiGG_ID": "TPI",
          "author": "Khodayari",
          "relative_error": 7.9662851303240325,
          "sample_id": "WT"
         },
         {
          "BiGG_ID": "AKGDH",
          "author": "Khodayari",
          "relative_error": null,
          "sample_id": "fbaA"
         },
         {
          "BiGG_ID": "CS",
          "author": "Khodayari",
          "relative_error": null,
          "sample_id": "fbaA"
         },
         {
          "BiGG_ID": "EDA",
          "author": "Khodayari",
          "relative_error": 100,
          "sample_id": "fbaA"
         },
         {
          "BiGG_ID": "FBA",
          "author": "Khodayari",
          "relative_error": null,
          "sample_id": "fbaA"
         },
         {
          "BiGG_ID": "FUM",
          "author": "Khodayari",
          "relative_error": null,
          "sample_id": "fbaA"
         },
         {
          "BiGG_ID": "G6PDH2r",
          "author": "Khodayari",
          "relative_error": null,
          "sample_id": "fbaA"
         },
         {
          "BiGG_ID": "GAPD",
          "author": "Khodayari",
          "relative_error": null,
          "sample_id": "fbaA"
         },
         {
          "BiGG_ID": "GLCptspp",
          "author": "Khodayari",
          "relative_error": null,
          "sample_id": "fbaA"
         },
         {
          "BiGG_ID": "GND",
          "author": "Khodayari",
          "relative_error": null,
          "sample_id": "fbaA"
         },
         {
          "BiGG_ID": "ICDHyr",
          "author": "Khodayari",
          "relative_error": null,
          "sample_id": "fbaA"
         },
         {
          "BiGG_ID": "ICL",
          "author": "Khodayari",
          "relative_error": null,
          "sample_id": "fbaA"
         },
         {
          "BiGG_ID": "MALS",
          "author": "Khodayari",
          "relative_error": null,
          "sample_id": "fbaA"
         },
         {
          "BiGG_ID": "MDH",
          "author": "Khodayari",
          "relative_error": null,
          "sample_id": "fbaA"
         },
         {
          "BiGG_ID": "PDH",
          "author": "Khodayari",
          "relative_error": null,
          "sample_id": "fbaA"
         },
         {
          "BiGG_ID": "PGI",
          "author": "Khodayari",
          "relative_error": null,
          "sample_id": "fbaA"
         },
         {
          "BiGG_ID": "PGM",
          "author": "Khodayari",
          "relative_error": null,
          "sample_id": "fbaA"
         },
         {
          "BiGG_ID": "PPC",
          "author": "Khodayari",
          "relative_error": null,
          "sample_id": "fbaA"
         },
         {
          "BiGG_ID": "PTAr",
          "author": "Khodayari",
          "relative_error": 100,
          "sample_id": "fbaA"
         },
         {
          "BiGG_ID": "PYK",
          "author": "Khodayari",
          "relative_error": null,
          "sample_id": "fbaA"
         },
         {
          "BiGG_ID": "RPE",
          "author": "Khodayari",
          "relative_error": null,
          "sample_id": "fbaA"
         },
         {
          "BiGG_ID": "RPI",
          "author": "Khodayari",
          "relative_error": null,
          "sample_id": "fbaA"
         },
         {
          "BiGG_ID": "SUCDi",
          "author": "Khodayari",
          "relative_error": null,
          "sample_id": "fbaA"
         },
         {
          "BiGG_ID": "TALA",
          "author": "Khodayari",
          "relative_error": null,
          "sample_id": "fbaA"
         },
         {
          "BiGG_ID": "TKT1",
          "author": "Khodayari",
          "relative_error": null,
          "sample_id": "fbaA"
         },
         {
          "BiGG_ID": "TPI",
          "author": "Khodayari",
          "relative_error": null,
          "sample_id": "fbaA"
         },
         {
          "BiGG_ID": "AKGDH",
          "author": "Khodayari",
          "relative_error": 1.2731885943979084,
          "sample_id": "fbaB"
         },
         {
          "BiGG_ID": "CS",
          "author": "Khodayari",
          "relative_error": 17.558259281808777,
          "sample_id": "fbaB"
         },
         {
          "BiGG_ID": "EDA",
          "author": "Khodayari",
          "relative_error": 0,
          "sample_id": "fbaB"
         },
         {
          "BiGG_ID": "FBA",
          "author": "Khodayari",
          "relative_error": 3.002447091350736,
          "sample_id": "fbaB"
         },
         {
          "BiGG_ID": "FUM",
          "author": "Khodayari",
          "relative_error": 18.327698998411705,
          "sample_id": "fbaB"
         },
         {
          "BiGG_ID": "G6PDH2r",
          "author": "Khodayari",
          "relative_error": 20.20875744230105,
          "sample_id": "fbaB"
         },
         {
          "BiGG_ID": "GAPD",
          "author": "Khodayari",
          "relative_error": 1.2753177867062588,
          "sample_id": "fbaB"
         },
         {
          "BiGG_ID": "GLCptspp",
          "author": "Khodayari",
          "relative_error": 0.0006577820409603419,
          "sample_id": "fbaB"
         },
         {
          "BiGG_ID": "GND",
          "author": "Khodayari",
          "relative_error": 20.346686231860417,
          "sample_id": "fbaB"
         },
         {
          "BiGG_ID": "ICDHyr",
          "author": "Khodayari",
          "relative_error": 20.257592535703214,
          "sample_id": "fbaB"
         },
         {
          "BiGG_ID": "ICL",
          "author": "Khodayari",
          "relative_error": 3.6568664552464476,
          "sample_id": "fbaB"
         },
         {
          "BiGG_ID": "MALS",
          "author": "Khodayari",
          "relative_error": 3.5909588993366817,
          "sample_id": "fbaB"
         },
         {
          "BiGG_ID": "MDH",
          "author": "Khodayari",
          "relative_error": 5.890085817073411,
          "sample_id": "fbaB"
         },
         {
          "BiGG_ID": "PDH",
          "author": "Khodayari",
          "relative_error": 1.5026401284055537,
          "sample_id": "fbaB"
         },
         {
          "BiGG_ID": "PGI",
          "author": "Khodayari",
          "relative_error": 7.1403234075563145,
          "sample_id": "fbaB"
         },
         {
          "BiGG_ID": "PGM",
          "author": "Khodayari",
          "relative_error": 3.901508990283874,
          "sample_id": "fbaB"
         },
         {
          "BiGG_ID": "PPC",
          "author": "Khodayari",
          "relative_error": 62.233325194812714,
          "sample_id": "fbaB"
         },
         {
          "BiGG_ID": "PTAr",
          "author": "Khodayari",
          "relative_error": 0,
          "sample_id": "fbaB"
         },
         {
          "BiGG_ID": "PYK",
          "author": "Khodayari",
          "relative_error": 21.338581819581606,
          "sample_id": "fbaB"
         },
         {
          "BiGG_ID": "RPE",
          "author": "Khodayari",
          "relative_error": 30.268104239919573,
          "sample_id": "fbaB"
         },
         {
          "BiGG_ID": "RPI",
          "author": "Khodayari",
          "relative_error": 12.596953640177006,
          "sample_id": "fbaB"
         },
         {
          "BiGG_ID": "SUCDi",
          "author": "Khodayari",
          "relative_error": 22.25021812671015,
          "sample_id": "fbaB"
         },
         {
          "BiGG_ID": "TALA",
          "author": "Khodayari",
          "relative_error": 24.824085877773655,
          "sample_id": "fbaB"
         },
         {
          "BiGG_ID": "TKT1",
          "author": "Khodayari",
          "relative_error": 7.4818572707628235,
          "sample_id": "fbaB"
         },
         {
          "BiGG_ID": "TPI",
          "author": "Khodayari",
          "relative_error": 3.9622126370007495,
          "sample_id": "fbaB"
         },
         {
          "BiGG_ID": "AKGDH",
          "author": "Khodayari",
          "relative_error": 29.414642532265482,
          "sample_id": "fbp"
         },
         {
          "BiGG_ID": "CS",
          "author": "Khodayari",
          "relative_error": 9.039630338337796,
          "sample_id": "fbp"
         },
         {
          "BiGG_ID": "EDA",
          "author": "Khodayari",
          "relative_error": 0,
          "sample_id": "fbp"
         },
         {
          "BiGG_ID": "FBA",
          "author": "Khodayari",
          "relative_error": 8.063874716677446,
          "sample_id": "fbp"
         },
         {
          "BiGG_ID": "FUM",
          "author": "Khodayari",
          "relative_error": 10.886625427714065,
          "sample_id": "fbp"
         },
         {
          "BiGG_ID": "G6PDH2r",
          "author": "Khodayari",
          "relative_error": 27.191352802305474,
          "sample_id": "fbp"
         },
         {
          "BiGG_ID": "GAPD",
          "author": "Khodayari",
          "relative_error": 8.485706312698305,
          "sample_id": "fbp"
         },
         {
          "BiGG_ID": "GLCptspp",
          "author": "Khodayari",
          "relative_error": 0.13934799907558215,
          "sample_id": "fbp"
         },
         {
          "BiGG_ID": "GND",
          "author": "Khodayari",
          "relative_error": 14.972774783887413,
          "sample_id": "fbp"
         },
         {
          "BiGG_ID": "ICDHyr",
          "author": "Khodayari",
          "relative_error": 47.06902082266474,
          "sample_id": "fbp"
         },
         {
          "BiGG_ID": "ICL",
          "author": "Khodayari",
          "relative_error": 59.457227810158685,
          "sample_id": "fbp"
         },
         {
          "BiGG_ID": "MALS",
          "author": "Khodayari",
          "relative_error": 59.36404355815632,
          "sample_id": "fbp"
         },
         {
          "BiGG_ID": "MDH",
          "author": "Khodayari",
          "relative_error": 7.122625758631575,
          "sample_id": "fbp"
         },
         {
          "BiGG_ID": "PDH",
          "author": "Khodayari",
          "relative_error": 17.766856976015937,
          "sample_id": "fbp"
         },
         {
          "BiGG_ID": "PGI",
          "author": "Khodayari",
          "relative_error": 6.381702391928005,
          "sample_id": "fbp"
         },
         {
          "BiGG_ID": "PGM",
          "author": "Khodayari",
          "relative_error": 5.202470573048628,
          "sample_id": "fbp"
         },
         {
          "BiGG_ID": "PPC",
          "author": "Khodayari",
          "relative_error": 1577.8770077071454,
          "sample_id": "fbp"
         },
         {
          "BiGG_ID": "PTAr",
          "author": "Khodayari",
          "relative_error": 0,
          "sample_id": "fbp"
         },
         {
          "BiGG_ID": "PYK",
          "author": "Khodayari",
          "relative_error": 48.87329043879936,
          "sample_id": "fbp"
         },
         {
          "BiGG_ID": "RPE",
          "author": "Khodayari",
          "relative_error": 67.1358930339761,
          "sample_id": "fbp"
         },
         {
          "BiGG_ID": "RPI",
          "author": "Khodayari",
          "relative_error": 2.6874606332992586,
          "sample_id": "fbp"
         },
         {
          "BiGG_ID": "SUCDi",
          "author": "Khodayari",
          "relative_error": 13.54278728681956,
          "sample_id": "fbp"
         },
         {
          "BiGG_ID": "TALA",
          "author": "Khodayari",
          "relative_error": 39.19341548600756,
          "sample_id": "fbp"
         },
         {
          "BiGG_ID": "TKT1",
          "author": "Khodayari",
          "relative_error": 36.17388410292686,
          "sample_id": "fbp"
         },
         {
          "BiGG_ID": "TPI",
          "author": "Khodayari",
          "relative_error": 8.681962431527596,
          "sample_id": "fbp"
         },
         {
          "BiGG_ID": "AKGDH",
          "author": "Khodayari",
          "relative_error": null,
          "sample_id": "glk"
         },
         {
          "BiGG_ID": "CS",
          "author": "Khodayari",
          "relative_error": null,
          "sample_id": "glk"
         },
         {
          "BiGG_ID": "EDA",
          "author": "Khodayari",
          "relative_error": null,
          "sample_id": "glk"
         },
         {
          "BiGG_ID": "FBA",
          "author": "Khodayari",
          "relative_error": null,
          "sample_id": "glk"
         },
         {
          "BiGG_ID": "FUM",
          "author": "Khodayari",
          "relative_error": null,
          "sample_id": "glk"
         },
         {
          "BiGG_ID": "G6PDH2r",
          "author": "Khodayari",
          "relative_error": null,
          "sample_id": "glk"
         },
         {
          "BiGG_ID": "GAPD",
          "author": "Khodayari",
          "relative_error": null,
          "sample_id": "glk"
         },
         {
          "BiGG_ID": "GLCptspp",
          "author": "Khodayari",
          "relative_error": null,
          "sample_id": "glk"
         },
         {
          "BiGG_ID": "GND",
          "author": "Khodayari",
          "relative_error": null,
          "sample_id": "glk"
         },
         {
          "BiGG_ID": "ICDHyr",
          "author": "Khodayari",
          "relative_error": null,
          "sample_id": "glk"
         },
         {
          "BiGG_ID": "ICL",
          "author": "Khodayari",
          "relative_error": null,
          "sample_id": "glk"
         },
         {
          "BiGG_ID": "MALS",
          "author": "Khodayari",
          "relative_error": null,
          "sample_id": "glk"
         },
         {
          "BiGG_ID": "MDH",
          "author": "Khodayari",
          "relative_error": null,
          "sample_id": "glk"
         },
         {
          "BiGG_ID": "PDH",
          "author": "Khodayari",
          "relative_error": null,
          "sample_id": "glk"
         },
         {
          "BiGG_ID": "PGI",
          "author": "Khodayari",
          "relative_error": null,
          "sample_id": "glk"
         },
         {
          "BiGG_ID": "PGM",
          "author": "Khodayari",
          "relative_error": null,
          "sample_id": "glk"
         },
         {
          "BiGG_ID": "PPC",
          "author": "Khodayari",
          "relative_error": null,
          "sample_id": "glk"
         },
         {
          "BiGG_ID": "PTAr",
          "author": "Khodayari",
          "relative_error": null,
          "sample_id": "glk"
         },
         {
          "BiGG_ID": "PYK",
          "author": "Khodayari",
          "relative_error": null,
          "sample_id": "glk"
         },
         {
          "BiGG_ID": "RPE",
          "author": "Khodayari",
          "relative_error": null,
          "sample_id": "glk"
         },
         {
          "BiGG_ID": "RPI",
          "author": "Khodayari",
          "relative_error": null,
          "sample_id": "glk"
         },
         {
          "BiGG_ID": "SUCDi",
          "author": "Khodayari",
          "relative_error": null,
          "sample_id": "glk"
         },
         {
          "BiGG_ID": "TALA",
          "author": "Khodayari",
          "relative_error": null,
          "sample_id": "glk"
         },
         {
          "BiGG_ID": "TKT1",
          "author": "Khodayari",
          "relative_error": null,
          "sample_id": "glk"
         },
         {
          "BiGG_ID": "TPI",
          "author": "Khodayari",
          "relative_error": null,
          "sample_id": "glk"
         },
         {
          "BiGG_ID": "AKGDH",
          "author": "Khodayari",
          "relative_error": 15.319994806231051,
          "sample_id": "gnd"
         },
         {
          "BiGG_ID": "CS",
          "author": "Khodayari",
          "relative_error": 11.138580443927625,
          "sample_id": "gnd"
         },
         {
          "BiGG_ID": "EDA",
          "author": "Khodayari",
          "relative_error": 0,
          "sample_id": "gnd"
         },
         {
          "BiGG_ID": "FBA",
          "author": "Khodayari",
          "relative_error": 43.01025793983476,
          "sample_id": "gnd"
         },
         {
          "BiGG_ID": "FUM",
          "author": "Khodayari",
          "relative_error": 30.539746982584877,
          "sample_id": "gnd"
         },
         {
          "BiGG_ID": "G6PDH2r",
          "author": "Khodayari",
          "relative_error": 100,
          "sample_id": "gnd"
         },
         {
          "BiGG_ID": "GAPD",
          "author": "Khodayari",
          "relative_error": 40.41310721540124,
          "sample_id": "gnd"
         },
         {
          "BiGG_ID": "GLCptspp",
          "author": "Khodayari",
          "relative_error": 2.1711962200924972,
          "sample_id": "gnd"
         },
         {
          "BiGG_ID": "GND",
          "author": "Khodayari",
          "relative_error": 0,
          "sample_id": "gnd"
         },
         {
          "BiGG_ID": "ICDHyr",
          "author": "Khodayari",
          "relative_error": 4.978773414412981,
          "sample_id": "gnd"
         },
         {
          "BiGG_ID": "ICL",
          "author": "Khodayari",
          "relative_error": 40.720581722319174,
          "sample_id": "gnd"
         },
         {
          "BiGG_ID": "MALS",
          "author": "Khodayari",
          "relative_error": 42.73438366303656,
          "sample_id": "gnd"
         },
         {
          "BiGG_ID": "MDH",
          "author": "Khodayari",
          "relative_error": 17.751715400488887,
          "sample_id": "gnd"
         },
         {
          "BiGG_ID": "PDH",
          "author": "Khodayari",
          "relative_error": 27.513921775934353,
          "sample_id": "gnd"
         },
         {
          "BiGG_ID": "PGI",
          "author": "Khodayari",
          "relative_error": 46.6211966696307,
          "sample_id": "gnd"
         },
         {
          "BiGG_ID": "PGM",
          "author": "Khodayari",
          "relative_error": 49.30893674869655,
          "sample_id": "gnd"
         },
         {
          "BiGG_ID": "PPC",
          "author": "Khodayari",
          "relative_error": 274.12124753502366,
          "sample_id": "gnd"
         },
         {
          "BiGG_ID": "PTAr",
          "author": "Khodayari",
          "relative_error": 100,
          "sample_id": "gnd"
         },
         {
          "BiGG_ID": "PYK",
          "author": "Khodayari",
          "relative_error": 92.20627491733873,
          "sample_id": "gnd"
         },
         {
          "BiGG_ID": "RPE",
          "author": "Khodayari",
          "relative_error": 100,
          "sample_id": "gnd"
         },
         {
          "BiGG_ID": "RPI",
          "author": "Khodayari",
          "relative_error": 100,
          "sample_id": "gnd"
         },
         {
          "BiGG_ID": "SUCDi",
          "author": "Khodayari",
          "relative_error": 28.456050570139606,
          "sample_id": "gnd"
         },
         {
          "BiGG_ID": "TALA",
          "author": "Khodayari",
          "relative_error": 100,
          "sample_id": "gnd"
         },
         {
          "BiGG_ID": "TKT1",
          "author": "Khodayari",
          "relative_error": 100,
          "sample_id": "gnd"
         },
         {
          "BiGG_ID": "TPI",
          "author": "Khodayari",
          "relative_error": 42.940275556974946,
          "sample_id": "gnd"
         },
         {
          "BiGG_ID": "AKGDH",
          "author": "Khodayari",
          "relative_error": null,
          "sample_id": "gpmA"
         },
         {
          "BiGG_ID": "CS",
          "author": "Khodayari",
          "relative_error": null,
          "sample_id": "gpmA"
         },
         {
          "BiGG_ID": "EDA",
          "author": "Khodayari",
          "relative_error": null,
          "sample_id": "gpmA"
         },
         {
          "BiGG_ID": "FBA",
          "author": "Khodayari",
          "relative_error": null,
          "sample_id": "gpmA"
         },
         {
          "BiGG_ID": "FUM",
          "author": "Khodayari",
          "relative_error": null,
          "sample_id": "gpmA"
         },
         {
          "BiGG_ID": "G6PDH2r",
          "author": "Khodayari",
          "relative_error": null,
          "sample_id": "gpmA"
         },
         {
          "BiGG_ID": "GAPD",
          "author": "Khodayari",
          "relative_error": null,
          "sample_id": "gpmA"
         },
         {
          "BiGG_ID": "GLCptspp",
          "author": "Khodayari",
          "relative_error": null,
          "sample_id": "gpmA"
         },
         {
          "BiGG_ID": "GND",
          "author": "Khodayari",
          "relative_error": null,
          "sample_id": "gpmA"
         },
         {
          "BiGG_ID": "ICDHyr",
          "author": "Khodayari",
          "relative_error": null,
          "sample_id": "gpmA"
         },
         {
          "BiGG_ID": "ICL",
          "author": "Khodayari",
          "relative_error": null,
          "sample_id": "gpmA"
         },
         {
          "BiGG_ID": "MALS",
          "author": "Khodayari",
          "relative_error": null,
          "sample_id": "gpmA"
         },
         {
          "BiGG_ID": "MDH",
          "author": "Khodayari",
          "relative_error": null,
          "sample_id": "gpmA"
         },
         {
          "BiGG_ID": "PDH",
          "author": "Khodayari",
          "relative_error": null,
          "sample_id": "gpmA"
         },
         {
          "BiGG_ID": "PGI",
          "author": "Khodayari",
          "relative_error": null,
          "sample_id": "gpmA"
         },
         {
          "BiGG_ID": "PGM",
          "author": "Khodayari",
          "relative_error": null,
          "sample_id": "gpmA"
         },
         {
          "BiGG_ID": "PPC",
          "author": "Khodayari",
          "relative_error": null,
          "sample_id": "gpmA"
         },
         {
          "BiGG_ID": "PTAr",
          "author": "Khodayari",
          "relative_error": null,
          "sample_id": "gpmA"
         },
         {
          "BiGG_ID": "PYK",
          "author": "Khodayari",
          "relative_error": null,
          "sample_id": "gpmA"
         },
         {
          "BiGG_ID": "RPE",
          "author": "Khodayari",
          "relative_error": null,
          "sample_id": "gpmA"
         },
         {
          "BiGG_ID": "RPI",
          "author": "Khodayari",
          "relative_error": null,
          "sample_id": "gpmA"
         },
         {
          "BiGG_ID": "SUCDi",
          "author": "Khodayari",
          "relative_error": null,
          "sample_id": "gpmA"
         },
         {
          "BiGG_ID": "TALA",
          "author": "Khodayari",
          "relative_error": null,
          "sample_id": "gpmA"
         },
         {
          "BiGG_ID": "TKT1",
          "author": "Khodayari",
          "relative_error": null,
          "sample_id": "gpmA"
         },
         {
          "BiGG_ID": "TPI",
          "author": "Khodayari",
          "relative_error": null,
          "sample_id": "gpmA"
         },
         {
          "BiGG_ID": "AKGDH",
          "author": "Khodayari",
          "relative_error": null,
          "sample_id": "gpmB"
         },
         {
          "BiGG_ID": "CS",
          "author": "Khodayari",
          "relative_error": null,
          "sample_id": "gpmB"
         },
         {
          "BiGG_ID": "EDA",
          "author": "Khodayari",
          "relative_error": null,
          "sample_id": "gpmB"
         },
         {
          "BiGG_ID": "FBA",
          "author": "Khodayari",
          "relative_error": null,
          "sample_id": "gpmB"
         },
         {
          "BiGG_ID": "FUM",
          "author": "Khodayari",
          "relative_error": null,
          "sample_id": "gpmB"
         },
         {
          "BiGG_ID": "G6PDH2r",
          "author": "Khodayari",
          "relative_error": null,
          "sample_id": "gpmB"
         },
         {
          "BiGG_ID": "GAPD",
          "author": "Khodayari",
          "relative_error": null,
          "sample_id": "gpmB"
         },
         {
          "BiGG_ID": "GLCptspp",
          "author": "Khodayari",
          "relative_error": null,
          "sample_id": "gpmB"
         },
         {
          "BiGG_ID": "GND",
          "author": "Khodayari",
          "relative_error": null,
          "sample_id": "gpmB"
         },
         {
          "BiGG_ID": "ICDHyr",
          "author": "Khodayari",
          "relative_error": null,
          "sample_id": "gpmB"
         },
         {
          "BiGG_ID": "ICL",
          "author": "Khodayari",
          "relative_error": null,
          "sample_id": "gpmB"
         },
         {
          "BiGG_ID": "MALS",
          "author": "Khodayari",
          "relative_error": null,
          "sample_id": "gpmB"
         },
         {
          "BiGG_ID": "MDH",
          "author": "Khodayari",
          "relative_error": null,
          "sample_id": "gpmB"
         },
         {
          "BiGG_ID": "PDH",
          "author": "Khodayari",
          "relative_error": null,
          "sample_id": "gpmB"
         },
         {
          "BiGG_ID": "PGI",
          "author": "Khodayari",
          "relative_error": null,
          "sample_id": "gpmB"
         },
         {
          "BiGG_ID": "PGM",
          "author": "Khodayari",
          "relative_error": null,
          "sample_id": "gpmB"
         },
         {
          "BiGG_ID": "PPC",
          "author": "Khodayari",
          "relative_error": null,
          "sample_id": "gpmB"
         },
         {
          "BiGG_ID": "PTAr",
          "author": "Khodayari",
          "relative_error": null,
          "sample_id": "gpmB"
         },
         {
          "BiGG_ID": "PYK",
          "author": "Khodayari",
          "relative_error": null,
          "sample_id": "gpmB"
         },
         {
          "BiGG_ID": "RPE",
          "author": "Khodayari",
          "relative_error": null,
          "sample_id": "gpmB"
         },
         {
          "BiGG_ID": "RPI",
          "author": "Khodayari",
          "relative_error": null,
          "sample_id": "gpmB"
         },
         {
          "BiGG_ID": "SUCDi",
          "author": "Khodayari",
          "relative_error": null,
          "sample_id": "gpmB"
         },
         {
          "BiGG_ID": "TALA",
          "author": "Khodayari",
          "relative_error": null,
          "sample_id": "gpmB"
         },
         {
          "BiGG_ID": "TKT1",
          "author": "Khodayari",
          "relative_error": null,
          "sample_id": "gpmB"
         },
         {
          "BiGG_ID": "TPI",
          "author": "Khodayari",
          "relative_error": null,
          "sample_id": "gpmB"
         },
         {
          "BiGG_ID": "AKGDH",
          "author": "Khodayari",
          "relative_error": 0.7676462988082333,
          "sample_id": "pfkA"
         },
         {
          "BiGG_ID": "CS",
          "author": "Khodayari",
          "relative_error": 16.192117468930675,
          "sample_id": "pfkA"
         },
         {
          "BiGG_ID": "EDA",
          "author": "Khodayari",
          "relative_error": 0,
          "sample_id": "pfkA"
         },
         {
          "BiGG_ID": "FBA",
          "author": "Khodayari",
          "relative_error": 6.9037561053440655,
          "sample_id": "pfkA"
         },
         {
          "BiGG_ID": "FUM",
          "author": "Khodayari",
          "relative_error": 12.318117165670479,
          "sample_id": "pfkA"
         },
         {
          "BiGG_ID": "G6PDH2r",
          "author": "Khodayari",
          "relative_error": 21.36969374925989,
          "sample_id": "pfkA"
         },
         {
          "BiGG_ID": "GAPD",
          "author": "Khodayari",
          "relative_error": 6.956727906030022,
          "sample_id": "pfkA"
         },
         {
          "BiGG_ID": "GLCptspp",
          "author": "Khodayari",
          "relative_error": 0.34266134250809444,
          "sample_id": "pfkA"
         },
         {
          "BiGG_ID": "GND",
          "author": "Khodayari",
          "relative_error": 5.105571856805075,
          "sample_id": "pfkA"
         },
         {
          "BiGG_ID": "ICDHyr",
          "author": "Khodayari",
          "relative_error": 18.137439033147583,
          "sample_id": "pfkA"
         },
         {
          "BiGG_ID": "ICL",
          "author": "Khodayari",
          "relative_error": 71.0149381030823,
          "sample_id": "pfkA"
         },
         {
          "BiGG_ID": "MALS",
          "author": "Khodayari",
          "relative_error": 76.2636175355496,
          "sample_id": "pfkA"
         },
         {
          "BiGG_ID": "MDH",
          "author": "Khodayari",
          "relative_error": 12.504973554951343,
          "sample_id": "pfkA"
         },
         {
          "BiGG_ID": "PDH",
          "author": "Khodayari",
          "relative_error": 7.9872501869342,
          "sample_id": "pfkA"
         },
         {
          "BiGG_ID": "PGI",
          "author": "Khodayari",
          "relative_error": 4.79858349948528,
          "sample_id": "pfkA"
         },
         {
          "BiGG_ID": "PGM",
          "author": "Khodayari",
          "relative_error": 3.988428730795046,
          "sample_id": "pfkA"
         },
         {
          "BiGG_ID": "PPC",
          "author": "Khodayari",
          "relative_error": 19.371437187387432,
          "sample_id": "pfkA"
         },
         {
          "BiGG_ID": "PTAr",
          "author": "Khodayari",
          "relative_error": 0,
          "sample_id": "pfkA"
         },
         {
          "BiGG_ID": "PYK",
          "author": "Khodayari",
          "relative_error": 32.56729581823218,
          "sample_id": "pfkA"
         },
         {
          "BiGG_ID": "RPE",
          "author": "Khodayari",
          "relative_error": 38.74642748213721,
          "sample_id": "pfkA"
         },
         {
          "BiGG_ID": "RPI",
          "author": "Khodayari",
          "relative_error": 3.2479680790085683,
          "sample_id": "pfkA"
         },
         {
          "BiGG_ID": "SUCDi",
          "author": "Khodayari",
          "relative_error": 22.46220797653726,
          "sample_id": "pfkA"
         },
         {
          "BiGG_ID": "TALA",
          "author": "Khodayari",
          "relative_error": 22.65243950630834,
          "sample_id": "pfkA"
         },
         {
          "BiGG_ID": "TKT1",
          "author": "Khodayari",
          "relative_error": 17.743455018621926,
          "sample_id": "pfkA"
         },
         {
          "BiGG_ID": "TPI",
          "author": "Khodayari",
          "relative_error": 7.329368831595673,
          "sample_id": "pfkA"
         },
         {
          "BiGG_ID": "AKGDH",
          "author": "Khodayari",
          "relative_error": 49.97975263078435,
          "sample_id": "pfkB"
         },
         {
          "BiGG_ID": "CS",
          "author": "Khodayari",
          "relative_error": 25.36517937437257,
          "sample_id": "pfkB"
         },
         {
          "BiGG_ID": "EDA",
          "author": "Khodayari",
          "relative_error": 0,
          "sample_id": "pfkB"
         },
         {
          "BiGG_ID": "FBA",
          "author": "Khodayari",
          "relative_error": 5.186665179676185,
          "sample_id": "pfkB"
         },
         {
          "BiGG_ID": "FUM",
          "author": "Khodayari",
          "relative_error": 20.576802251381544,
          "sample_id": "pfkB"
         },
         {
          "BiGG_ID": "G6PDH2r",
          "author": "Khodayari",
          "relative_error": 63.847325266177904,
          "sample_id": "pfkB"
         },
         {
          "BiGG_ID": "GAPD",
          "author": "Khodayari",
          "relative_error": 1.2485517039459744,
          "sample_id": "pfkB"
         },
         {
          "BiGG_ID": "GLCptspp",
          "author": "Khodayari",
          "relative_error": 0.34266134250809444,
          "sample_id": "pfkB"
         },
         {
          "BiGG_ID": "GND",
          "author": "Khodayari",
          "relative_error": 68.69195731924955,
          "sample_id": "pfkB"
         },
         {
          "BiGG_ID": "ICDHyr",
          "author": "Khodayari",
          "relative_error": 69.09868724352496,
          "sample_id": "pfkB"
         },
         {
          "BiGG_ID": "ICL",
          "author": "Khodayari",
          "relative_error": 45.27521980701366,
          "sample_id": "pfkB"
         },
         {
          "BiGG_ID": "MALS",
          "author": "Khodayari",
          "relative_error": 43.59564238862413,
          "sample_id": "pfkB"
         },
         {
          "BiGG_ID": "MDH",
          "author": "Khodayari",
          "relative_error": 1.2544761994562097,
          "sample_id": "pfkB"
         },
         {
          "BiGG_ID": "PDH",
          "author": "Khodayari",
          "relative_error": 0.3194613659068925,
          "sample_id": "pfkB"
         },
         {
          "BiGG_ID": "PGI",
          "author": "Khodayari",
          "relative_error": 53.78690357775455,
          "sample_id": "pfkB"
         },
         {
          "BiGG_ID": "PGM",
          "author": "Khodayari",
          "relative_error": 1.6593107556287745,
          "sample_id": "pfkB"
         },
         {
          "BiGG_ID": "PPC",
          "author": "Khodayari",
          "relative_error": 100,
          "sample_id": "pfkB"
         },
         {
          "BiGG_ID": "PTAr",
          "author": "Khodayari",
          "relative_error": 0,
          "sample_id": "pfkB"
         },
         {
          "BiGG_ID": "PYK",
          "author": "Khodayari",
          "relative_error": 40.824361636407836,
          "sample_id": "pfkB"
         },
         {
          "BiGG_ID": "RPE",
          "author": "Khodayari",
          "relative_error": 83.35042870214353,
          "sample_id": "pfkB"
         },
         {
          "BiGG_ID": "RPI",
          "author": "Khodayari",
          "relative_error": 49.32036423186163,
          "sample_id": "pfkB"
         },
         {
          "BiGG_ID": "SUCDi",
          "author": "Khodayari",
          "relative_error": 31.466782092459116,
          "sample_id": "pfkB"
         },
         {
          "BiGG_ID": "TALA",
          "author": "Khodayari",
          "relative_error": 73.71733439150535,
          "sample_id": "pfkB"
         },
         {
          "BiGG_ID": "TKT1",
          "author": "Khodayari",
          "relative_error": 74.76925963886673,
          "sample_id": "pfkB"
         },
         {
          "BiGG_ID": "TPI",
          "author": "Khodayari",
          "relative_error": 4.705778073391902,
          "sample_id": "pfkB"
         },
         {
          "BiGG_ID": "AKGDH",
          "author": "Khodayari",
          "relative_error": 23.41674732920594,
          "sample_id": "pgi"
         },
         {
          "BiGG_ID": "CS",
          "author": "Khodayari",
          "relative_error": 9.275012496077824,
          "sample_id": "pgi"
         },
         {
          "BiGG_ID": "EDA",
          "author": "Khodayari",
          "relative_error": 100,
          "sample_id": "pgi"
         },
         {
          "BiGG_ID": "FBA",
          "author": "Khodayari",
          "relative_error": 35.65902939585748,
          "sample_id": "pgi"
         },
         {
          "BiGG_ID": "FUM",
          "author": "Khodayari",
          "relative_error": 58.495086290723265,
          "sample_id": "pgi"
         },
         {
          "BiGG_ID": "G6PDH2r",
          "author": "Khodayari",
          "relative_error": 5.957419585389365,
          "sample_id": "pgi"
         },
         {
          "BiGG_ID": "GAPD",
          "author": "Khodayari",
          "relative_error": 7.88378609529726,
          "sample_id": "pgi"
         },
         {
          "BiGG_ID": "GLCptspp",
          "author": "Khodayari",
          "relative_error": 2.2414762074985077,
          "sample_id": "pgi"
         },
         {
          "BiGG_ID": "GND",
          "author": "Khodayari",
          "relative_error": 45.48629298780075,
          "sample_id": "pgi"
         },
         {
          "BiGG_ID": "ICDHyr",
          "author": "Khodayari",
          "relative_error": 10.618193434660023,
          "sample_id": "pgi"
         },
         {
          "BiGG_ID": "ICL",
          "author": "Khodayari",
          "relative_error": 45.50864862346421,
          "sample_id": "pgi"
         },
         {
          "BiGG_ID": "MALS",
          "author": "Khodayari",
          "relative_error": 56.280153616786635,
          "sample_id": "pgi"
         },
         {
          "BiGG_ID": "MDH",
          "author": "Khodayari",
          "relative_error": 36.9790398796794,
          "sample_id": "pgi"
         },
         {
          "BiGG_ID": "PDH",
          "author": "Khodayari",
          "relative_error": 11.301351148887505,
          "sample_id": "pgi"
         },
         {
          "BiGG_ID": "PGI",
          "author": "Khodayari",
          "relative_error": 0,
          "sample_id": "pgi"
         },
         {
          "BiGG_ID": "PGM",
          "author": "Khodayari",
          "relative_error": 3.486973358785197,
          "sample_id": "pgi"
         },
         {
          "BiGG_ID": "PPC",
          "author": "Khodayari",
          "relative_error": 100,
          "sample_id": "pgi"
         },
         {
          "BiGG_ID": "PTAr",
          "author": "Khodayari",
          "relative_error": 100,
          "sample_id": "pgi"
         },
         {
          "BiGG_ID": "PYK",
          "author": "Khodayari",
          "relative_error": 13.744866765640468,
          "sample_id": "pgi"
         },
         {
          "BiGG_ID": "RPE",
          "author": "Khodayari",
          "relative_error": 29.208323900033957,
          "sample_id": "pgi"
         },
         {
          "BiGG_ID": "RPI",
          "author": "Khodayari",
          "relative_error": 47.530242357041615,
          "sample_id": "pgi"
         },
         {
          "BiGG_ID": "SUCDi",
          "author": "Khodayari",
          "relative_error": 8.154539057052546,
          "sample_id": "pgi"
         },
         {
          "BiGG_ID": "TALA",
          "author": "Khodayari",
          "relative_error": 17.74736408852546,
          "sample_id": "pgi"
         },
         {
          "BiGG_ID": "TKT1",
          "author": "Khodayari",
          "relative_error": 62.448811334033806,
          "sample_id": "pgi"
         },
         {
          "BiGG_ID": "TPI",
          "author": "Khodayari",
          "relative_error": 35.51413632435363,
          "sample_id": "pgi"
         },
         {
          "BiGG_ID": "AKGDH",
          "author": "Khodayari",
          "relative_error": 9.797785712157879,
          "sample_id": "pgl"
         },
         {
          "BiGG_ID": "CS",
          "author": "Khodayari",
          "relative_error": 6.027692474525314,
          "sample_id": "pgl"
         },
         {
          "BiGG_ID": "EDA",
          "author": "Khodayari",
          "relative_error": 0,
          "sample_id": "pgl"
         },
         {
          "BiGG_ID": "FBA",
          "author": "Khodayari",
          "relative_error": 1.1607374666435004,
          "sample_id": "pgl"
         },
         {
          "BiGG_ID": "FUM",
          "author": "Khodayari",
          "relative_error": 3.9721557570058867,
          "sample_id": "pgl"
         },
         {
          "BiGG_ID": "G6PDH2r",
          "author": "Khodayari",
          "relative_error": 0.26558537656869774,
          "sample_id": "pgl"
         },
         {
          "BiGG_ID": "GAPD",
          "author": "Khodayari",
          "relative_error": 1.672465884542285,
          "sample_id": "pgl"
         },
         {
          "BiGG_ID": "GLCptspp",
          "author": "Khodayari",
          "relative_error": 0.13870667694141048,
          "sample_id": "pgl"
         },
         {
          "BiGG_ID": "GND",
          "author": "Khodayari",
          "relative_error": 0.509011962455741,
          "sample_id": "pgl"
         },
         {
          "BiGG_ID": "ICDHyr",
          "author": "Khodayari",
          "relative_error": 10.208240574241296,
          "sample_id": "pgl"
         },
         {
          "BiGG_ID": "ICL",
          "author": "Khodayari",
          "relative_error": 11.5289953918361,
          "sample_id": "pgl"
         },
         {
          "BiGG_ID": "MALS",
          "author": "Khodayari",
          "relative_error": 10.228856417708226,
          "sample_id": "pgl"
         },
         {
          "BiGG_ID": "MDH",
          "author": "Khodayari",
          "relative_error": 5.145872142948182,
          "sample_id": "pgl"
         },
         {
          "BiGG_ID": "PDH",
          "author": "Khodayari",
          "relative_error": 5.137184817235304,
          "sample_id": "pgl"
         },
         {
          "BiGG_ID": "PGI",
          "author": "Khodayari",
          "relative_error": 0.2148643287573949,
          "sample_id": "pgl"
         },
         {
          "BiGG_ID": "PGM",
          "author": "Khodayari",
          "relative_error": 2.2358459373519173,
          "sample_id": "pgl"
         },
         {
          "BiGG_ID": "PPC",
          "author": "Khodayari",
          "relative_error": 128.20754976247932,
          "sample_id": "pgl"
         },
         {
          "BiGG_ID": "PTAr",
          "author": "Khodayari",
          "relative_error": 0,
          "sample_id": "pgl"
         },
         {
          "BiGG_ID": "PYK",
          "author": "Khodayari",
          "relative_error": 30.872289891348824,
          "sample_id": "pgl"
         },
         {
          "BiGG_ID": "RPE",
          "author": "Khodayari",
          "relative_error": 4.135995913288271,
          "sample_id": "pgl"
         },
         {
          "BiGG_ID": "RPI",
          "author": "Khodayari",
          "relative_error": 2.1869885319720046,
          "sample_id": "pgl"
         },
         {
          "BiGG_ID": "SUCDi",
          "author": "Khodayari",
          "relative_error": 8.910729963895907,
          "sample_id": "pgl"
         },
         {
          "BiGG_ID": "TALA",
          "author": "Khodayari",
          "relative_error": 4.674135397060208,
          "sample_id": "pgl"
         },
         {
          "BiGG_ID": "TKT1",
          "author": "Khodayari",
          "relative_error": 4.119249425493768,
          "sample_id": "pgl"
         },
         {
          "BiGG_ID": "TPI",
          "author": "Khodayari",
          "relative_error": 1.2255606150573262,
          "sample_id": "pgl"
         },
         {
          "BiGG_ID": "AKGDH",
          "author": "Khodayari",
          "relative_error": null,
          "sample_id": "pgm"
         },
         {
          "BiGG_ID": "CS",
          "author": "Khodayari",
          "relative_error": null,
          "sample_id": "pgm"
         },
         {
          "BiGG_ID": "EDA",
          "author": "Khodayari",
          "relative_error": null,
          "sample_id": "pgm"
         },
         {
          "BiGG_ID": "FBA",
          "author": "Khodayari",
          "relative_error": null,
          "sample_id": "pgm"
         },
         {
          "BiGG_ID": "FUM",
          "author": "Khodayari",
          "relative_error": null,
          "sample_id": "pgm"
         },
         {
          "BiGG_ID": "G6PDH2r",
          "author": "Khodayari",
          "relative_error": null,
          "sample_id": "pgm"
         },
         {
          "BiGG_ID": "GAPD",
          "author": "Khodayari",
          "relative_error": null,
          "sample_id": "pgm"
         },
         {
          "BiGG_ID": "GLCptspp",
          "author": "Khodayari",
          "relative_error": null,
          "sample_id": "pgm"
         },
         {
          "BiGG_ID": "GND",
          "author": "Khodayari",
          "relative_error": null,
          "sample_id": "pgm"
         },
         {
          "BiGG_ID": "ICDHyr",
          "author": "Khodayari",
          "relative_error": null,
          "sample_id": "pgm"
         },
         {
          "BiGG_ID": "ICL",
          "author": "Khodayari",
          "relative_error": null,
          "sample_id": "pgm"
         },
         {
          "BiGG_ID": "MALS",
          "author": "Khodayari",
          "relative_error": null,
          "sample_id": "pgm"
         },
         {
          "BiGG_ID": "MDH",
          "author": "Khodayari",
          "relative_error": null,
          "sample_id": "pgm"
         },
         {
          "BiGG_ID": "PDH",
          "author": "Khodayari",
          "relative_error": null,
          "sample_id": "pgm"
         },
         {
          "BiGG_ID": "PGI",
          "author": "Khodayari",
          "relative_error": null,
          "sample_id": "pgm"
         },
         {
          "BiGG_ID": "PGM",
          "author": "Khodayari",
          "relative_error": null,
          "sample_id": "pgm"
         },
         {
          "BiGG_ID": "PPC",
          "author": "Khodayari",
          "relative_error": null,
          "sample_id": "pgm"
         },
         {
          "BiGG_ID": "PTAr",
          "author": "Khodayari",
          "relative_error": null,
          "sample_id": "pgm"
         },
         {
          "BiGG_ID": "PYK",
          "author": "Khodayari",
          "relative_error": null,
          "sample_id": "pgm"
         },
         {
          "BiGG_ID": "RPE",
          "author": "Khodayari",
          "relative_error": null,
          "sample_id": "pgm"
         },
         {
          "BiGG_ID": "RPI",
          "author": "Khodayari",
          "relative_error": null,
          "sample_id": "pgm"
         },
         {
          "BiGG_ID": "SUCDi",
          "author": "Khodayari",
          "relative_error": null,
          "sample_id": "pgm"
         },
         {
          "BiGG_ID": "TALA",
          "author": "Khodayari",
          "relative_error": null,
          "sample_id": "pgm"
         },
         {
          "BiGG_ID": "TKT1",
          "author": "Khodayari",
          "relative_error": null,
          "sample_id": "pgm"
         },
         {
          "BiGG_ID": "TPI",
          "author": "Khodayari",
          "relative_error": null,
          "sample_id": "pgm"
         },
         {
          "BiGG_ID": "AKGDH",
          "author": "Khodayari",
          "relative_error": null,
          "sample_id": "ppc"
         },
         {
          "BiGG_ID": "CS",
          "author": "Khodayari",
          "relative_error": null,
          "sample_id": "ppc"
         },
         {
          "BiGG_ID": "EDA",
          "author": "Khodayari",
          "relative_error": null,
          "sample_id": "ppc"
         },
         {
          "BiGG_ID": "FBA",
          "author": "Khodayari",
          "relative_error": null,
          "sample_id": "ppc"
         },
         {
          "BiGG_ID": "FUM",
          "author": "Khodayari",
          "relative_error": null,
          "sample_id": "ppc"
         },
         {
          "BiGG_ID": "G6PDH2r",
          "author": "Khodayari",
          "relative_error": null,
          "sample_id": "ppc"
         },
         {
          "BiGG_ID": "GAPD",
          "author": "Khodayari",
          "relative_error": null,
          "sample_id": "ppc"
         },
         {
          "BiGG_ID": "GLCptspp",
          "author": "Khodayari",
          "relative_error": null,
          "sample_id": "ppc"
         },
         {
          "BiGG_ID": "GND",
          "author": "Khodayari",
          "relative_error": null,
          "sample_id": "ppc"
         },
         {
          "BiGG_ID": "ICDHyr",
          "author": "Khodayari",
          "relative_error": null,
          "sample_id": "ppc"
         },
         {
          "BiGG_ID": "ICL",
          "author": "Khodayari",
          "relative_error": null,
          "sample_id": "ppc"
         },
         {
          "BiGG_ID": "MALS",
          "author": "Khodayari",
          "relative_error": null,
          "sample_id": "ppc"
         },
         {
          "BiGG_ID": "MDH",
          "author": "Khodayari",
          "relative_error": null,
          "sample_id": "ppc"
         },
         {
          "BiGG_ID": "PDH",
          "author": "Khodayari",
          "relative_error": null,
          "sample_id": "ppc"
         },
         {
          "BiGG_ID": "PGI",
          "author": "Khodayari",
          "relative_error": null,
          "sample_id": "ppc"
         },
         {
          "BiGG_ID": "PGM",
          "author": "Khodayari",
          "relative_error": null,
          "sample_id": "ppc"
         },
         {
          "BiGG_ID": "PPC",
          "author": "Khodayari",
          "relative_error": null,
          "sample_id": "ppc"
         },
         {
          "BiGG_ID": "PTAr",
          "author": "Khodayari",
          "relative_error": null,
          "sample_id": "ppc"
         },
         {
          "BiGG_ID": "PYK",
          "author": "Khodayari",
          "relative_error": null,
          "sample_id": "ppc"
         },
         {
          "BiGG_ID": "RPE",
          "author": "Khodayari",
          "relative_error": null,
          "sample_id": "ppc"
         },
         {
          "BiGG_ID": "RPI",
          "author": "Khodayari",
          "relative_error": null,
          "sample_id": "ppc"
         },
         {
          "BiGG_ID": "SUCDi",
          "author": "Khodayari",
          "relative_error": null,
          "sample_id": "ppc"
         },
         {
          "BiGG_ID": "TALA",
          "author": "Khodayari",
          "relative_error": null,
          "sample_id": "ppc"
         },
         {
          "BiGG_ID": "TKT1",
          "author": "Khodayari",
          "relative_error": null,
          "sample_id": "ppc"
         },
         {
          "BiGG_ID": "TPI",
          "author": "Khodayari",
          "relative_error": null,
          "sample_id": "ppc"
         },
         {
          "BiGG_ID": "AKGDH",
          "author": "Khodayari",
          "relative_error": 20.5336685397264,
          "sample_id": "ppsA"
         },
         {
          "BiGG_ID": "CS",
          "author": "Khodayari",
          "relative_error": 12.079297660495763,
          "sample_id": "ppsA"
         },
         {
          "BiGG_ID": "EDA",
          "author": "Khodayari",
          "relative_error": 0,
          "sample_id": "ppsA"
         },
         {
          "BiGG_ID": "FBA",
          "author": "Khodayari",
          "relative_error": 7.479871502512932,
          "sample_id": "ppsA"
         },
         {
          "BiGG_ID": "FUM",
          "author": "Khodayari",
          "relative_error": 13.935251251220087,
          "sample_id": "ppsA"
         },
         {
          "BiGG_ID": "G6PDH2r",
          "author": "Khodayari",
          "relative_error": 39.14145392036905,
          "sample_id": "ppsA"
         },
         {
          "BiGG_ID": "GAPD",
          "author": "Khodayari",
          "relative_error": 5.594610917189635,
          "sample_id": "ppsA"
         },
         {
          "BiGG_ID": "GLCptspp",
          "author": "Khodayari",
          "relative_error": 0.11472920127292242,
          "sample_id": "ppsA"
         },
         {
          "BiGG_ID": "GND",
          "author": "Khodayari",
          "relative_error": 32.11319907921159,
          "sample_id": "ppsA"
         },
         {
          "BiGG_ID": "ICDHyr",
          "author": "Khodayari",
          "relative_error": 1.138319338102309,
          "sample_id": "ppsA"
         },
         {
          "BiGG_ID": "ICL",
          "author": "Khodayari",
          "relative_error": 100,
          "sample_id": "ppsA"
         },
         {
          "BiGG_ID": "MALS",
          "author": "Khodayari",
          "relative_error": 100,
          "sample_id": "ppsA"
         },
         {
          "BiGG_ID": "MDH",
          "author": "Khodayari",
          "relative_error": 16.47765531869486,
          "sample_id": "ppsA"
         },
         {
          "BiGG_ID": "PDH",
          "author": "Khodayari",
          "relative_error": 12.446919714075676,
          "sample_id": "ppsA"
         },
         {
          "BiGG_ID": "PGI",
          "author": "Khodayari",
          "relative_error": 16.70812370715903,
          "sample_id": "ppsA"
         },
         {
          "BiGG_ID": "PGM",
          "author": "Khodayari",
          "relative_error": 9.553815122830667,
          "sample_id": "ppsA"
         },
         {
          "BiGG_ID": "PPC",
          "author": "Khodayari",
          "relative_error": 26.646551469499197,
          "sample_id": "ppsA"
         },
         {
          "BiGG_ID": "PTAr",
          "author": "Khodayari",
          "relative_error": 0,
          "sample_id": "ppsA"
         },
         {
          "BiGG_ID": "PYK",
          "author": "Khodayari",
          "relative_error": 17.648534983457164,
          "sample_id": "ppsA"
         },
         {
          "BiGG_ID": "RPE",
          "author": "Khodayari",
          "relative_error": 49.090686118664195,
          "sample_id": "ppsA"
         },
         {
          "BiGG_ID": "RPI",
          "author": "Khodayari",
          "relative_error": 11.208970882911585,
          "sample_id": "ppsA"
         },
         {
          "BiGG_ID": "SUCDi",
          "author": "Khodayari",
          "relative_error": 19.31879285932437,
          "sample_id": "ppsA"
         },
         {
          "BiGG_ID": "TALA",
          "author": "Khodayari",
          "relative_error": 26.54522554504745,
          "sample_id": "ppsA"
         },
         {
          "BiGG_ID": "TKT1",
          "author": "Khodayari",
          "relative_error": 21.174166328478655,
          "sample_id": "ppsA"
         },
         {
          "BiGG_ID": "TPI",
          "author": "Khodayari",
          "relative_error": 8.829685611258723,
          "sample_id": "ppsA"
         },
         {
          "BiGG_ID": "AKGDH",
          "author": "Khodayari",
          "relative_error": null,
          "sample_id": "pts"
         },
         {
          "BiGG_ID": "CS",
          "author": "Khodayari",
          "relative_error": null,
          "sample_id": "pts"
         },
         {
          "BiGG_ID": "EDA",
          "author": "Khodayari",
          "relative_error": null,
          "sample_id": "pts"
         },
         {
          "BiGG_ID": "FBA",
          "author": "Khodayari",
          "relative_error": null,
          "sample_id": "pts"
         },
         {
          "BiGG_ID": "FUM",
          "author": "Khodayari",
          "relative_error": null,
          "sample_id": "pts"
         },
         {
          "BiGG_ID": "G6PDH2r",
          "author": "Khodayari",
          "relative_error": null,
          "sample_id": "pts"
         },
         {
          "BiGG_ID": "GAPD",
          "author": "Khodayari",
          "relative_error": null,
          "sample_id": "pts"
         },
         {
          "BiGG_ID": "GLCptspp",
          "author": "Khodayari",
          "relative_error": 100,
          "sample_id": "pts"
         },
         {
          "BiGG_ID": "GND",
          "author": "Khodayari",
          "relative_error": null,
          "sample_id": "pts"
         },
         {
          "BiGG_ID": "ICDHyr",
          "author": "Khodayari",
          "relative_error": null,
          "sample_id": "pts"
         },
         {
          "BiGG_ID": "ICL",
          "author": "Khodayari",
          "relative_error": null,
          "sample_id": "pts"
         },
         {
          "BiGG_ID": "MALS",
          "author": "Khodayari",
          "relative_error": null,
          "sample_id": "pts"
         },
         {
          "BiGG_ID": "MDH",
          "author": "Khodayari",
          "relative_error": null,
          "sample_id": "pts"
         },
         {
          "BiGG_ID": "PDH",
          "author": "Khodayari",
          "relative_error": null,
          "sample_id": "pts"
         },
         {
          "BiGG_ID": "PGI",
          "author": "Khodayari",
          "relative_error": null,
          "sample_id": "pts"
         },
         {
          "BiGG_ID": "PGM",
          "author": "Khodayari",
          "relative_error": null,
          "sample_id": "pts"
         },
         {
          "BiGG_ID": "PPC",
          "author": "Khodayari",
          "relative_error": null,
          "sample_id": "pts"
         },
         {
          "BiGG_ID": "PTAr",
          "author": "Khodayari",
          "relative_error": null,
          "sample_id": "pts"
         },
         {
          "BiGG_ID": "PYK",
          "author": "Khodayari",
          "relative_error": null,
          "sample_id": "pts"
         },
         {
          "BiGG_ID": "RPE",
          "author": "Khodayari",
          "relative_error": null,
          "sample_id": "pts"
         },
         {
          "BiGG_ID": "RPI",
          "author": "Khodayari",
          "relative_error": null,
          "sample_id": "pts"
         },
         {
          "BiGG_ID": "SUCDi",
          "author": "Khodayari",
          "relative_error": null,
          "sample_id": "pts"
         },
         {
          "BiGG_ID": "TALA",
          "author": "Khodayari",
          "relative_error": null,
          "sample_id": "pts"
         },
         {
          "BiGG_ID": "TKT1",
          "author": "Khodayari",
          "relative_error": null,
          "sample_id": "pts"
         },
         {
          "BiGG_ID": "TPI",
          "author": "Khodayari",
          "relative_error": null,
          "sample_id": "pts"
         },
         {
          "BiGG_ID": "AKGDH",
          "author": "Khodayari",
          "relative_error": 2.7486391558038816,
          "sample_id": "pykA"
         },
         {
          "BiGG_ID": "CS",
          "author": "Khodayari",
          "relative_error": 9.777291598575522,
          "sample_id": "pykA"
         },
         {
          "BiGG_ID": "EDA",
          "author": "Khodayari",
          "relative_error": 0,
          "sample_id": "pykA"
         },
         {
          "BiGG_ID": "FBA",
          "author": "Khodayari",
          "relative_error": 2.836449578845732,
          "sample_id": "pykA"
         },
         {
          "BiGG_ID": "FUM",
          "author": "Khodayari",
          "relative_error": 8.125215358861501,
          "sample_id": "pykA"
         },
         {
          "BiGG_ID": "G6PDH2r",
          "author": "Khodayari",
          "relative_error": 13.660990882902388,
          "sample_id": "pykA"
         },
         {
          "BiGG_ID": "GAPD",
          "author": "Khodayari",
          "relative_error": 4.8524288500395,
          "sample_id": "pykA"
         },
         {
          "BiGG_ID": "GLCptspp",
          "author": "Khodayari",
          "relative_error": 0.22583540766933655,
          "sample_id": "pykA"
         },
         {
          "BiGG_ID": "GND",
          "author": "Khodayari",
          "relative_error": 19.89921511259475,
          "sample_id": "pykA"
         },
         {
          "BiGG_ID": "ICDHyr",
          "author": "Khodayari",
          "relative_error": 17.147492135766047,
          "sample_id": "pykA"
         },
         {
          "BiGG_ID": "ICL",
          "author": "Khodayari",
          "relative_error": 27.967234548193186,
          "sample_id": "pykA"
         },
         {
          "BiGG_ID": "MALS",
          "author": "Khodayari",
          "relative_error": 27.84455086441599,
          "sample_id": "pykA"
         },
         {
          "BiGG_ID": "MDH",
          "author": "Khodayari",
          "relative_error": 5.269857099234304,
          "sample_id": "pykA"
         },
         {
          "BiGG_ID": "PDH",
          "author": "Khodayari",
          "relative_error": 7.933821199756971,
          "sample_id": "pykA"
         },
         {
          "BiGG_ID": "PGI",
          "author": "Khodayari",
          "relative_error": 3.442916396835644,
          "sample_id": "pykA"
         },
         {
          "BiGG_ID": "PGM",
          "author": "Khodayari",
          "relative_error": 1.7664273747780255,
          "sample_id": "pykA"
         },
         {
          "BiGG_ID": "PPC",
          "author": "Khodayari",
          "relative_error": 232.57263125660356,
          "sample_id": "pykA"
         },
         {
          "BiGG_ID": "PTAr",
          "author": "Khodayari",
          "relative_error": 0,
          "sample_id": "pykA"
         },
         {
          "BiGG_ID": "PYK",
          "author": "Khodayari",
          "relative_error": 46.712294200469415,
          "sample_id": "pykA"
         },
         {
          "BiGG_ID": "RPE",
          "author": "Khodayari",
          "relative_error": 25.726956178785944,
          "sample_id": "pykA"
         },
         {
          "BiGG_ID": "RPI",
          "author": "Khodayari",
          "relative_error": 18.111993269102427,
          "sample_id": "pykA"
         },
         {
          "BiGG_ID": "SUCDi",
          "author": "Khodayari",
          "relative_error": 10.353152541717376,
          "sample_id": "pykA"
         },
         {
          "BiGG_ID": "TALA",
          "author": "Khodayari",
          "relative_error": 14.230444205326314,
          "sample_id": "pykA"
         },
         {
          "BiGG_ID": "TKT1",
          "author": "Khodayari",
          "relative_error": 16.887216939199654,
          "sample_id": "pykA"
         },
         {
          "BiGG_ID": "TPI",
          "author": "Khodayari",
          "relative_error": 3.797339211351008,
          "sample_id": "pykA"
         },
         {
          "BiGG_ID": "AKGDH",
          "author": "Khodayari",
          "relative_error": null,
          "sample_id": "pykAF"
         },
         {
          "BiGG_ID": "CS",
          "author": "Khodayari",
          "relative_error": null,
          "sample_id": "pykAF"
         },
         {
          "BiGG_ID": "EDA",
          "author": "Khodayari",
          "relative_error": null,
          "sample_id": "pykAF"
         },
         {
          "BiGG_ID": "FBA",
          "author": "Khodayari",
          "relative_error": null,
          "sample_id": "pykAF"
         },
         {
          "BiGG_ID": "FUM",
          "author": "Khodayari",
          "relative_error": null,
          "sample_id": "pykAF"
         },
         {
          "BiGG_ID": "G6PDH2r",
          "author": "Khodayari",
          "relative_error": null,
          "sample_id": "pykAF"
         },
         {
          "BiGG_ID": "GAPD",
          "author": "Khodayari",
          "relative_error": null,
          "sample_id": "pykAF"
         },
         {
          "BiGG_ID": "GLCptspp",
          "author": "Khodayari",
          "relative_error": null,
          "sample_id": "pykAF"
         },
         {
          "BiGG_ID": "GND",
          "author": "Khodayari",
          "relative_error": null,
          "sample_id": "pykAF"
         },
         {
          "BiGG_ID": "ICDHyr",
          "author": "Khodayari",
          "relative_error": null,
          "sample_id": "pykAF"
         },
         {
          "BiGG_ID": "ICL",
          "author": "Khodayari",
          "relative_error": null,
          "sample_id": "pykAF"
         },
         {
          "BiGG_ID": "MALS",
          "author": "Khodayari",
          "relative_error": null,
          "sample_id": "pykAF"
         },
         {
          "BiGG_ID": "MDH",
          "author": "Khodayari",
          "relative_error": null,
          "sample_id": "pykAF"
         },
         {
          "BiGG_ID": "PDH",
          "author": "Khodayari",
          "relative_error": null,
          "sample_id": "pykAF"
         },
         {
          "BiGG_ID": "PGI",
          "author": "Khodayari",
          "relative_error": null,
          "sample_id": "pykAF"
         },
         {
          "BiGG_ID": "PGM",
          "author": "Khodayari",
          "relative_error": null,
          "sample_id": "pykAF"
         },
         {
          "BiGG_ID": "PPC",
          "author": "Khodayari",
          "relative_error": null,
          "sample_id": "pykAF"
         },
         {
          "BiGG_ID": "PTAr",
          "author": "Khodayari",
          "relative_error": null,
          "sample_id": "pykAF"
         },
         {
          "BiGG_ID": "PYK",
          "author": "Khodayari",
          "relative_error": null,
          "sample_id": "pykAF"
         },
         {
          "BiGG_ID": "RPE",
          "author": "Khodayari",
          "relative_error": null,
          "sample_id": "pykAF"
         },
         {
          "BiGG_ID": "RPI",
          "author": "Khodayari",
          "relative_error": null,
          "sample_id": "pykAF"
         },
         {
          "BiGG_ID": "SUCDi",
          "author": "Khodayari",
          "relative_error": null,
          "sample_id": "pykAF"
         },
         {
          "BiGG_ID": "TALA",
          "author": "Khodayari",
          "relative_error": null,
          "sample_id": "pykAF"
         },
         {
          "BiGG_ID": "TKT1",
          "author": "Khodayari",
          "relative_error": null,
          "sample_id": "pykAF"
         },
         {
          "BiGG_ID": "TPI",
          "author": "Khodayari",
          "relative_error": null,
          "sample_id": "pykAF"
         },
         {
          "BiGG_ID": "AKGDH",
          "author": "Khodayari",
          "relative_error": 52.440898191373485,
          "sample_id": "pykF"
         },
         {
          "BiGG_ID": "CS",
          "author": "Khodayari",
          "relative_error": 19.525049064282086,
          "sample_id": "pykF"
         },
         {
          "BiGG_ID": "EDA",
          "author": "Khodayari",
          "relative_error": 0,
          "sample_id": "pykF"
         },
         {
          "BiGG_ID": "FBA",
          "author": "Khodayari",
          "relative_error": 3.3214104897738634,
          "sample_id": "pykF"
         },
         {
          "BiGG_ID": "FUM",
          "author": "Khodayari",
          "relative_error": 18.937893361175064,
          "sample_id": "pykF"
         },
         {
          "BiGG_ID": "G6PDH2r",
          "author": "Khodayari",
          "relative_error": 58.13996983455066,
          "sample_id": "pykF"
         },
         {
          "BiGG_ID": "GAPD",
          "author": "Khodayari",
          "relative_error": 6.094914814554107,
          "sample_id": "pykF"
         },
         {
          "BiGG_ID": "GLCptspp",
          "author": "Khodayari",
          "relative_error": 0.0975880404121483,
          "sample_id": "pykF"
         },
         {
          "BiGG_ID": "GND",
          "author": "Khodayari",
          "relative_error": 63.81331155629183,
          "sample_id": "pykF"
         },
         {
          "BiGG_ID": "ICDHyr",
          "author": "Khodayari",
          "relative_error": 66.43344690330673,
          "sample_id": "pykF"
         },
         {
          "BiGG_ID": "ICL",
          "author": "Khodayari",
          "relative_error": 58.33767337851874,
          "sample_id": "pykF"
         },
         {
          "BiGG_ID": "MALS",
          "author": "Khodayari",
          "relative_error": 58.21409538109283,
          "sample_id": "pykF"
         },
         {
          "BiGG_ID": "MDH",
          "author": "Khodayari",
          "relative_error": 3.4240148382672873,
          "sample_id": "pykF"
         },
         {
          "BiGG_ID": "PDH",
          "author": "Khodayari",
          "relative_error": 14.604938904456773,
          "sample_id": "pykF"
         },
         {
          "BiGG_ID": "PGI",
          "author": "Khodayari",
          "relative_error": 58.97895789816951,
          "sample_id": "pykF"
         },
         {
          "BiGG_ID": "PGM",
          "author": "Khodayari",
          "relative_error": 2.128780232669726,
          "sample_id": "pykF"
         },
         {
          "BiGG_ID": "PPC",
          "author": "Khodayari",
          "relative_error": 100,
          "sample_id": "pykF"
         },
         {
          "BiGG_ID": "PTAr",
          "author": "Khodayari",
          "relative_error": 0,
          "sample_id": "pykF"
         },
         {
          "BiGG_ID": "PYK",
          "author": "Khodayari",
          "relative_error": 58.6514060488786,
          "sample_id": "pykF"
         },
         {
          "BiGG_ID": "RPE",
          "author": "Khodayari",
          "relative_error": 74.87919085545536,
          "sample_id": "pykF"
         },
         {
          "BiGG_ID": "RPI",
          "author": "Khodayari",
          "relative_error": 53.774138765538304,
          "sample_id": "pykF"
         },
         {
          "BiGG_ID": "SUCDi",
          "author": "Khodayari",
          "relative_error": 20.628405716810725,
          "sample_id": "pykF"
         },
         {
          "BiGG_ID": "TALA",
          "author": "Khodayari",
          "relative_error": 64.32817747149919,
          "sample_id": "pykF"
         },
         {
          "BiGG_ID": "TKT1",
          "author": "Khodayari",
          "relative_error": 67.02836176168358,
          "sample_id": "pykF"
         },
         {
          "BiGG_ID": "TPI",
          "author": "Khodayari",
          "relative_error": 1.12792792262303,
          "sample_id": "pykF"
         },
         {
          "BiGG_ID": "AKGDH",
          "author": "Khodayari",
          "relative_error": 32.27197697875033,
          "sample_id": "rpe"
         },
         {
          "BiGG_ID": "CS",
          "author": "Khodayari",
          "relative_error": 15.127736021613606,
          "sample_id": "rpe"
         },
         {
          "BiGG_ID": "EDA",
          "author": "Khodayari",
          "relative_error": 0,
          "sample_id": "rpe"
         },
         {
          "BiGG_ID": "FBA",
          "author": "Khodayari",
          "relative_error": 7.7821347937099254,
          "sample_id": "rpe"
         },
         {
          "BiGG_ID": "FUM",
          "author": "Khodayari",
          "relative_error": 19.77767728477461,
          "sample_id": "rpe"
         },
         {
          "BiGG_ID": "G6PDH2r",
          "author": "Khodayari",
          "relative_error": 184.79837919826656,
          "sample_id": "rpe"
         },
         {
          "BiGG_ID": "GAPD",
          "author": "Khodayari",
          "relative_error": 6.254200907321159,
          "sample_id": "rpe"
         },
         {
          "BiGG_ID": "GLCptspp",
          "author": "Khodayari",
          "relative_error": 0.011798174892319935,
          "sample_id": "rpe"
         },
         {
          "BiGG_ID": "GND",
          "author": "Khodayari",
          "relative_error": 163.97040705056034,
          "sample_id": "rpe"
         },
         {
          "BiGG_ID": "ICDHyr",
          "author": "Khodayari",
          "relative_error": 13.672501536722079,
          "sample_id": "rpe"
         },
         {
          "BiGG_ID": "ICL",
          "author": "Khodayari",
          "relative_error": 21.177012746395153,
          "sample_id": "rpe"
         },
         {
          "BiGG_ID": "MALS",
          "author": "Khodayari",
          "relative_error": 20.740563673346525,
          "sample_id": "rpe"
         },
         {
          "BiGG_ID": "MDH",
          "author": "Khodayari",
          "relative_error": 26.413314291076762,
          "sample_id": "rpe"
         },
         {
          "BiGG_ID": "PDH",
          "author": "Khodayari",
          "relative_error": 18.521016868262098,
          "sample_id": "rpe"
         },
         {
          "BiGG_ID": "PGI",
          "author": "Khodayari",
          "relative_error": 15.105278639095463,
          "sample_id": "rpe"
         },
         {
          "BiGG_ID": "PGM",
          "author": "Khodayari",
          "relative_error": 4.528922270192982,
          "sample_id": "rpe"
         },
         {
          "BiGG_ID": "PPC",
          "author": "Khodayari",
          "relative_error": 100,
          "sample_id": "rpe"
         },
         {
          "BiGG_ID": "PTAr",
          "author": "Khodayari",
          "relative_error": 0,
          "sample_id": "rpe"
         },
         {
          "BiGG_ID": "PYK",
          "author": "Khodayari",
          "relative_error": 49.638688180098065,
          "sample_id": "rpe"
         },
         {
          "BiGG_ID": "RPE",
          "author": "Khodayari",
          "relative_error": 0,
          "sample_id": "rpe"
         },
         {
          "BiGG_ID": "RPI",
          "author": "Khodayari",
          "relative_error": 100.60790317117795,
          "sample_id": "rpe"
         },
         {
          "BiGG_ID": "SUCDi",
          "author": "Khodayari",
          "relative_error": 17.186277068767772,
          "sample_id": "rpe"
         },
         {
          "BiGG_ID": "TALA",
          "author": "Khodayari",
          "relative_error": 421.8368389430509,
          "sample_id": "rpe"
         },
         {
          "BiGG_ID": "TKT1",
          "author": "Khodayari",
          "relative_error": 276.560274363963,
          "sample_id": "rpe"
         },
         {
          "BiGG_ID": "TPI",
          "author": "Khodayari",
          "relative_error": 7.025593572778169,
          "sample_id": "rpe"
         },
         {
          "BiGG_ID": "AKGDH",
          "author": "Khodayari",
          "relative_error": 3.034843942720104,
          "sample_id": "rpiA"
         },
         {
          "BiGG_ID": "CS",
          "author": "Khodayari",
          "relative_error": 8.467167673730218,
          "sample_id": "rpiA"
         },
         {
          "BiGG_ID": "EDA",
          "author": "Khodayari",
          "relative_error": 100,
          "sample_id": "rpiA"
         },
         {
          "BiGG_ID": "FBA",
          "author": "Khodayari",
          "relative_error": 3.3293681957231653,
          "sample_id": "rpiA"
         },
         {
          "BiGG_ID": "FUM",
          "author": "Khodayari",
          "relative_error": 30.842562914606724,
          "sample_id": "rpiA"
         },
         {
          "BiGG_ID": "G6PDH2r",
          "author": "Khodayari",
          "relative_error": 8.021909552102816,
          "sample_id": "rpiA"
         },
         {
          "BiGG_ID": "GAPD",
          "author": "Khodayari",
          "relative_error": 10.414267682159199,
          "sample_id": "rpiA"
         },
         {
          "BiGG_ID": "GLCptspp",
          "author": "Khodayari",
          "relative_error": 1.8033575629335274,
          "sample_id": "rpiA"
         },
         {
          "BiGG_ID": "GND",
          "author": "Khodayari",
          "relative_error": 187.4112052067824,
          "sample_id": "rpiA"
         },
         {
          "BiGG_ID": "ICDHyr",
          "author": "Khodayari",
          "relative_error": 4.116127841511885,
          "sample_id": "rpiA"
         },
         {
          "BiGG_ID": "ICL",
          "author": "Khodayari",
          "relative_error": 48.93295617970615,
          "sample_id": "rpiA"
         },
         {
          "BiGG_ID": "MALS",
          "author": "Khodayari",
          "relative_error": 49.44938191584022,
          "sample_id": "rpiA"
         },
         {
          "BiGG_ID": "MDH",
          "author": "Khodayari",
          "relative_error": 14.257996637251265,
          "sample_id": "rpiA"
         },
         {
          "BiGG_ID": "PDH",
          "author": "Khodayari",
          "relative_error": 19.03651029825024,
          "sample_id": "rpiA"
         },
         {
          "BiGG_ID": "PGI",
          "author": "Khodayari",
          "relative_error": 3.3794353388627636,
          "sample_id": "rpiA"
         },
         {
          "BiGG_ID": "PGM",
          "author": "Khodayari",
          "relative_error": 42.57147296268217,
          "sample_id": "rpiA"
         },
         {
          "BiGG_ID": "PPC",
          "author": "Khodayari",
          "relative_error": 100,
          "sample_id": "rpiA"
         },
         {
          "BiGG_ID": "PTAr",
          "author": "Khodayari",
          "relative_error": 100,
          "sample_id": "rpiA"
         },
         {
          "BiGG_ID": "PYK",
          "author": "Khodayari",
          "relative_error": 80.5526109117491,
          "sample_id": "rpiA"
         },
         {
          "BiGG_ID": "RPE",
          "author": "Khodayari",
          "relative_error": 920.7476208858847,
          "sample_id": "rpiA"
         },
         {
          "BiGG_ID": "RPI",
          "author": "Khodayari",
          "relative_error": 16.879545266574052,
          "sample_id": "rpiA"
         },
         {
          "BiGG_ID": "SUCDi",
          "author": "Khodayari",
          "relative_error": 16.4762828327339,
          "sample_id": "rpiA"
         },
         {
          "BiGG_ID": "TALA",
          "author": "Khodayari",
          "relative_error": 38.84012652472094,
          "sample_id": "rpiA"
         },
         {
          "BiGG_ID": "TKT1",
          "author": "Khodayari",
          "relative_error": 150.38796094724862,
          "sample_id": "rpiA"
         },
         {
          "BiGG_ID": "TPI",
          "author": "Khodayari",
          "relative_error": 3.2266508265559715,
          "sample_id": "rpiA"
         },
         {
          "BiGG_ID": "AKGDH",
          "author": "Khodayari",
          "relative_error": 26.510618567114186,
          "sample_id": "rpiB"
         },
         {
          "BiGG_ID": "CS",
          "author": "Khodayari",
          "relative_error": 17.620450906357195,
          "sample_id": "rpiB"
         },
         {
          "BiGG_ID": "EDA",
          "author": "Khodayari",
          "relative_error": 0,
          "sample_id": "rpiB"
         },
         {
          "BiGG_ID": "FBA",
          "author": "Khodayari",
          "relative_error": 15.566157031707576,
          "sample_id": "rpiB"
         },
         {
          "BiGG_ID": "FUM",
          "author": "Khodayari",
          "relative_error": 15.745344116767484,
          "sample_id": "rpiB"
         },
         {
          "BiGG_ID": "G6PDH2r",
          "author": "Khodayari",
          "relative_error": 30.235850080933595,
          "sample_id": "rpiB"
         },
         {
          "BiGG_ID": "GAPD",
          "author": "Khodayari",
          "relative_error": 16.775384769816533,
          "sample_id": "rpiB"
         },
         {
          "BiGG_ID": "GLCptspp",
          "author": "Khodayari",
          "relative_error": 1.8033575629335274,
          "sample_id": "rpiB"
         },
         {
          "BiGG_ID": "GND",
          "author": "Khodayari",
          "relative_error": 28.1471986983044,
          "sample_id": "rpiB"
         },
         {
          "BiGG_ID": "ICDHyr",
          "author": "Khodayari",
          "relative_error": 18.562632678421398,
          "sample_id": "rpiB"
         },
         {
          "BiGG_ID": "ICL",
          "author": "Khodayari",
          "relative_error": 27.667609550734618,
          "sample_id": "rpiB"
         },
         {
          "BiGG_ID": "MALS",
          "author": "Khodayari",
          "relative_error": 26.37654521039945,
          "sample_id": "rpiB"
         },
         {
          "BiGG_ID": "MDH",
          "author": "Khodayari",
          "relative_error": 13.237835952990093,
          "sample_id": "rpiB"
         },
         {
          "BiGG_ID": "PDH",
          "author": "Khodayari",
          "relative_error": 14.9296666177267,
          "sample_id": "rpiB"
         },
         {
          "BiGG_ID": "PGI",
          "author": "Khodayari",
          "relative_error": 26.93289867247441,
          "sample_id": "rpiB"
         },
         {
          "BiGG_ID": "PGM",
          "author": "Khodayari",
          "relative_error": 47.53443208936396,
          "sample_id": "rpiB"
         },
         {
          "BiGG_ID": "PPC",
          "author": "Khodayari",
          "relative_error": 280.6267847510875,
          "sample_id": "rpiB"
         },
         {
          "BiGG_ID": "PTAr",
          "author": "Khodayari",
          "relative_error": 100,
          "sample_id": "rpiB"
         },
         {
          "BiGG_ID": "PYK",
          "author": "Khodayari",
          "relative_error": 83.17052867362904,
          "sample_id": "rpiB"
         },
         {
          "BiGG_ID": "RPE",
          "author": "Khodayari",
          "relative_error": 9.36581652348764,
          "sample_id": "rpiB"
         },
         {
          "BiGG_ID": "RPI",
          "author": "Khodayari",
          "relative_error": 62.59579536995832,
          "sample_id": "rpiB"
         },
         {
          "BiGG_ID": "SUCDi",
          "author": "Khodayari",
          "relative_error": 3.0367117366492216,
          "sample_id": "rpiB"
         },
         {
          "BiGG_ID": "TALA",
          "author": "Khodayari",
          "relative_error": 72.23197469505581,
          "sample_id": "rpiB"
         },
         {
          "BiGG_ID": "TKT1",
          "author": "Khodayari",
          "relative_error": 49.922407810550276,
          "sample_id": "rpiB"
         },
         {
          "BiGG_ID": "TPI",
          "author": "Khodayari",
          "relative_error": 15.476441861169137,
          "sample_id": "rpiB"
         },
         {
          "BiGG_ID": "AKGDH",
          "author": "Khodayari",
          "relative_error": null,
          "sample_id": "sdhCD"
         },
         {
          "BiGG_ID": "CS",
          "author": "Khodayari",
          "relative_error": null,
          "sample_id": "sdhCD"
         },
         {
          "BiGG_ID": "EDA",
          "author": "Khodayari",
          "relative_error": 100,
          "sample_id": "sdhCD"
         },
         {
          "BiGG_ID": "FBA",
          "author": "Khodayari",
          "relative_error": null,
          "sample_id": "sdhCD"
         },
         {
          "BiGG_ID": "FUM",
          "author": "Khodayari",
          "relative_error": null,
          "sample_id": "sdhCD"
         },
         {
          "BiGG_ID": "G6PDH2r",
          "author": "Khodayari",
          "relative_error": null,
          "sample_id": "sdhCD"
         },
         {
          "BiGG_ID": "GAPD",
          "author": "Khodayari",
          "relative_error": null,
          "sample_id": "sdhCD"
         },
         {
          "BiGG_ID": "GLCptspp",
          "author": "Khodayari",
          "relative_error": null,
          "sample_id": "sdhCD"
         },
         {
          "BiGG_ID": "GND",
          "author": "Khodayari",
          "relative_error": null,
          "sample_id": "sdhCD"
         },
         {
          "BiGG_ID": "ICDHyr",
          "author": "Khodayari",
          "relative_error": null,
          "sample_id": "sdhCD"
         },
         {
          "BiGG_ID": "ICL",
          "author": "Khodayari",
          "relative_error": 100,
          "sample_id": "sdhCD"
         },
         {
          "BiGG_ID": "MALS",
          "author": "Khodayari",
          "relative_error": null,
          "sample_id": "sdhCD"
         },
         {
          "BiGG_ID": "MDH",
          "author": "Khodayari",
          "relative_error": null,
          "sample_id": "sdhCD"
         },
         {
          "BiGG_ID": "PDH",
          "author": "Khodayari",
          "relative_error": null,
          "sample_id": "sdhCD"
         },
         {
          "BiGG_ID": "PGI",
          "author": "Khodayari",
          "relative_error": null,
          "sample_id": "sdhCD"
         },
         {
          "BiGG_ID": "PGM",
          "author": "Khodayari",
          "relative_error": null,
          "sample_id": "sdhCD"
         },
         {
          "BiGG_ID": "PPC",
          "author": "Khodayari",
          "relative_error": null,
          "sample_id": "sdhCD"
         },
         {
          "BiGG_ID": "PTAr",
          "author": "Khodayari",
          "relative_error": null,
          "sample_id": "sdhCD"
         },
         {
          "BiGG_ID": "PYK",
          "author": "Khodayari",
          "relative_error": null,
          "sample_id": "sdhCD"
         },
         {
          "BiGG_ID": "RPE",
          "author": "Khodayari",
          "relative_error": null,
          "sample_id": "sdhCD"
         },
         {
          "BiGG_ID": "RPI",
          "author": "Khodayari",
          "relative_error": null,
          "sample_id": "sdhCD"
         },
         {
          "BiGG_ID": "SUCDi",
          "author": "Khodayari",
          "relative_error": 100,
          "sample_id": "sdhCD"
         },
         {
          "BiGG_ID": "TALA",
          "author": "Khodayari",
          "relative_error": null,
          "sample_id": "sdhCD"
         },
         {
          "BiGG_ID": "TKT1",
          "author": "Khodayari",
          "relative_error": null,
          "sample_id": "sdhCD"
         },
         {
          "BiGG_ID": "TPI",
          "author": "Khodayari",
          "relative_error": null,
          "sample_id": "sdhCD"
         },
         {
          "BiGG_ID": "AKGDH",
          "author": "Khodayari",
          "relative_error": 100,
          "sample_id": "sucA"
         },
         {
          "BiGG_ID": "CS",
          "author": "Khodayari",
          "relative_error": null,
          "sample_id": "sucA"
         },
         {
          "BiGG_ID": "EDA",
          "author": "Khodayari",
          "relative_error": 100,
          "sample_id": "sucA"
         },
         {
          "BiGG_ID": "FBA",
          "author": "Khodayari",
          "relative_error": null,
          "sample_id": "sucA"
         },
         {
          "BiGG_ID": "FUM",
          "author": "Khodayari",
          "relative_error": null,
          "sample_id": "sucA"
         },
         {
          "BiGG_ID": "G6PDH2r",
          "author": "Khodayari",
          "relative_error": null,
          "sample_id": "sucA"
         },
         {
          "BiGG_ID": "GAPD",
          "author": "Khodayari",
          "relative_error": null,
          "sample_id": "sucA"
         },
         {
          "BiGG_ID": "GLCptspp",
          "author": "Khodayari",
          "relative_error": null,
          "sample_id": "sucA"
         },
         {
          "BiGG_ID": "GND",
          "author": "Khodayari",
          "relative_error": null,
          "sample_id": "sucA"
         },
         {
          "BiGG_ID": "ICDHyr",
          "author": "Khodayari",
          "relative_error": null,
          "sample_id": "sucA"
         },
         {
          "BiGG_ID": "ICL",
          "author": "Khodayari",
          "relative_error": null,
          "sample_id": "sucA"
         },
         {
          "BiGG_ID": "MALS",
          "author": "Khodayari",
          "relative_error": null,
          "sample_id": "sucA"
         },
         {
          "BiGG_ID": "MDH",
          "author": "Khodayari",
          "relative_error": null,
          "sample_id": "sucA"
         },
         {
          "BiGG_ID": "PDH",
          "author": "Khodayari",
          "relative_error": null,
          "sample_id": "sucA"
         },
         {
          "BiGG_ID": "PGI",
          "author": "Khodayari",
          "relative_error": null,
          "sample_id": "sucA"
         },
         {
          "BiGG_ID": "PGM",
          "author": "Khodayari",
          "relative_error": null,
          "sample_id": "sucA"
         },
         {
          "BiGG_ID": "PPC",
          "author": "Khodayari",
          "relative_error": null,
          "sample_id": "sucA"
         },
         {
          "BiGG_ID": "PTAr",
          "author": "Khodayari",
          "relative_error": 100,
          "sample_id": "sucA"
         },
         {
          "BiGG_ID": "PYK",
          "author": "Khodayari",
          "relative_error": null,
          "sample_id": "sucA"
         },
         {
          "BiGG_ID": "RPE",
          "author": "Khodayari",
          "relative_error": null,
          "sample_id": "sucA"
         },
         {
          "BiGG_ID": "RPI",
          "author": "Khodayari",
          "relative_error": null,
          "sample_id": "sucA"
         },
         {
          "BiGG_ID": "SUCDi",
          "author": "Khodayari",
          "relative_error": null,
          "sample_id": "sucA"
         },
         {
          "BiGG_ID": "TALA",
          "author": "Khodayari",
          "relative_error": null,
          "sample_id": "sucA"
         },
         {
          "BiGG_ID": "TKT1",
          "author": "Khodayari",
          "relative_error": null,
          "sample_id": "sucA"
         },
         {
          "BiGG_ID": "TPI",
          "author": "Khodayari",
          "relative_error": null,
          "sample_id": "sucA"
         },
         {
          "BiGG_ID": "AKGDH",
          "author": "Khodayari",
          "relative_error": null,
          "sample_id": "sucAB"
         },
         {
          "BiGG_ID": "CS",
          "author": "Khodayari",
          "relative_error": null,
          "sample_id": "sucAB"
         },
         {
          "BiGG_ID": "EDA",
          "author": "Khodayari",
          "relative_error": null,
          "sample_id": "sucAB"
         },
         {
          "BiGG_ID": "FBA",
          "author": "Khodayari",
          "relative_error": null,
          "sample_id": "sucAB"
         },
         {
          "BiGG_ID": "FUM",
          "author": "Khodayari",
          "relative_error": null,
          "sample_id": "sucAB"
         },
         {
          "BiGG_ID": "G6PDH2r",
          "author": "Khodayari",
          "relative_error": null,
          "sample_id": "sucAB"
         },
         {
          "BiGG_ID": "GAPD",
          "author": "Khodayari",
          "relative_error": null,
          "sample_id": "sucAB"
         },
         {
          "BiGG_ID": "GLCptspp",
          "author": "Khodayari",
          "relative_error": null,
          "sample_id": "sucAB"
         },
         {
          "BiGG_ID": "GND",
          "author": "Khodayari",
          "relative_error": null,
          "sample_id": "sucAB"
         },
         {
          "BiGG_ID": "ICDHyr",
          "author": "Khodayari",
          "relative_error": null,
          "sample_id": "sucAB"
         },
         {
          "BiGG_ID": "ICL",
          "author": "Khodayari",
          "relative_error": null,
          "sample_id": "sucAB"
         },
         {
          "BiGG_ID": "MALS",
          "author": "Khodayari",
          "relative_error": null,
          "sample_id": "sucAB"
         },
         {
          "BiGG_ID": "MDH",
          "author": "Khodayari",
          "relative_error": null,
          "sample_id": "sucAB"
         },
         {
          "BiGG_ID": "PDH",
          "author": "Khodayari",
          "relative_error": null,
          "sample_id": "sucAB"
         },
         {
          "BiGG_ID": "PGI",
          "author": "Khodayari",
          "relative_error": null,
          "sample_id": "sucAB"
         },
         {
          "BiGG_ID": "PGM",
          "author": "Khodayari",
          "relative_error": null,
          "sample_id": "sucAB"
         },
         {
          "BiGG_ID": "PPC",
          "author": "Khodayari",
          "relative_error": null,
          "sample_id": "sucAB"
         },
         {
          "BiGG_ID": "PTAr",
          "author": "Khodayari",
          "relative_error": null,
          "sample_id": "sucAB"
         },
         {
          "BiGG_ID": "PYK",
          "author": "Khodayari",
          "relative_error": null,
          "sample_id": "sucAB"
         },
         {
          "BiGG_ID": "RPE",
          "author": "Khodayari",
          "relative_error": null,
          "sample_id": "sucAB"
         },
         {
          "BiGG_ID": "RPI",
          "author": "Khodayari",
          "relative_error": null,
          "sample_id": "sucAB"
         },
         {
          "BiGG_ID": "SUCDi",
          "author": "Khodayari",
          "relative_error": null,
          "sample_id": "sucAB"
         },
         {
          "BiGG_ID": "TALA",
          "author": "Khodayari",
          "relative_error": null,
          "sample_id": "sucAB"
         },
         {
          "BiGG_ID": "TKT1",
          "author": "Khodayari",
          "relative_error": null,
          "sample_id": "sucAB"
         },
         {
          "BiGG_ID": "TPI",
          "author": "Khodayari",
          "relative_error": null,
          "sample_id": "sucAB"
         },
         {
          "BiGG_ID": "AKGDH",
          "author": "Khodayari",
          "relative_error": 21.733882165758843,
          "sample_id": "talA"
         },
         {
          "BiGG_ID": "CS",
          "author": "Khodayari",
          "relative_error": 9.518927346429747,
          "sample_id": "talA"
         },
         {
          "BiGG_ID": "EDA",
          "author": "Khodayari",
          "relative_error": 0,
          "sample_id": "talA"
         },
         {
          "BiGG_ID": "FBA",
          "author": "Khodayari",
          "relative_error": 3.300136864532481,
          "sample_id": "talA"
         },
         {
          "BiGG_ID": "FUM",
          "author": "Khodayari",
          "relative_error": 9.246063573333007,
          "sample_id": "talA"
         },
         {
          "BiGG_ID": "G6PDH2r",
          "author": "Khodayari",
          "relative_error": 52.81058645130348,
          "sample_id": "talA"
         },
         {
          "BiGG_ID": "GAPD",
          "author": "Khodayari",
          "relative_error": 1.468857272740673,
          "sample_id": "talA"
         },
         {
          "BiGG_ID": "GLCptspp",
          "author": "Khodayari",
          "relative_error": 0.033765360383469556,
          "sample_id": "talA"
         },
         {
          "BiGG_ID": "GND",
          "author": "Khodayari",
          "relative_error": 53.43364998093503,
          "sample_id": "talA"
         },
         {
          "BiGG_ID": "ICDHyr",
          "author": "Khodayari",
          "relative_error": 2.7229309922277998,
          "sample_id": "talA"
         },
         {
          "BiGG_ID": "ICL",
          "author": "Khodayari",
          "relative_error": 573.5850823562228,
          "sample_id": "talA"
         },
         {
          "BiGG_ID": "MALS",
          "author": "Khodayari",
          "relative_error": 573.6743342548446,
          "sample_id": "talA"
         },
         {
          "BiGG_ID": "MDH",
          "author": "Khodayari",
          "relative_error": 13.432939667948615,
          "sample_id": "talA"
         },
         {
          "BiGG_ID": "PDH",
          "author": "Khodayari",
          "relative_error": 6.3239568696517425,
          "sample_id": "talA"
         },
         {
          "BiGG_ID": "PGI",
          "author": "Khodayari",
          "relative_error": 6.17285989394478,
          "sample_id": "talA"
         },
         {
          "BiGG_ID": "PGM",
          "author": "Khodayari",
          "relative_error": 1.6602062412022736,
          "sample_id": "talA"
         },
         {
          "BiGG_ID": "PPC",
          "author": "Khodayari",
          "relative_error": 19.19702452162138,
          "sample_id": "talA"
         },
         {
          "BiGG_ID": "PTAr",
          "author": "Khodayari",
          "relative_error": 0,
          "sample_id": "talA"
         },
         {
          "BiGG_ID": "PYK",
          "author": "Khodayari",
          "relative_error": 9.408995524325565,
          "sample_id": "talA"
         },
         {
          "BiGG_ID": "RPE",
          "author": "Khodayari",
          "relative_error": 155.80041669956321,
          "sample_id": "talA"
         },
         {
          "BiGG_ID": "RPI",
          "author": "Khodayari",
          "relative_error": 22.506283427642693,
          "sample_id": "talA"
         },
         {
          "BiGG_ID": "SUCDi",
          "author": "Khodayari",
          "relative_error": 12.665495106013022,
          "sample_id": "talA"
         },
         {
          "BiGG_ID": "TALA",
          "author": "Khodayari",
          "relative_error": 60.47252931293292,
          "sample_id": "talA"
         },
         {
          "BiGG_ID": "TKT1",
          "author": "Khodayari",
          "relative_error": 106.01488508459937,
          "sample_id": "talA"
         },
         {
          "BiGG_ID": "TPI",
          "author": "Khodayari",
          "relative_error": 6.201991401631622,
          "sample_id": "talA"
         },
         {
          "BiGG_ID": "AKGDH",
          "author": "Khodayari",
          "relative_error": null,
          "sample_id": "talAB"
         },
         {
          "BiGG_ID": "CS",
          "author": "Khodayari",
          "relative_error": null,
          "sample_id": "talAB"
         },
         {
          "BiGG_ID": "EDA",
          "author": "Khodayari",
          "relative_error": null,
          "sample_id": "talAB"
         },
         {
          "BiGG_ID": "FBA",
          "author": "Khodayari",
          "relative_error": null,
          "sample_id": "talAB"
         },
         {
          "BiGG_ID": "FUM",
          "author": "Khodayari",
          "relative_error": null,
          "sample_id": "talAB"
         },
         {
          "BiGG_ID": "G6PDH2r",
          "author": "Khodayari",
          "relative_error": null,
          "sample_id": "talAB"
         },
         {
          "BiGG_ID": "GAPD",
          "author": "Khodayari",
          "relative_error": null,
          "sample_id": "talAB"
         },
         {
          "BiGG_ID": "GLCptspp",
          "author": "Khodayari",
          "relative_error": null,
          "sample_id": "talAB"
         },
         {
          "BiGG_ID": "GND",
          "author": "Khodayari",
          "relative_error": null,
          "sample_id": "talAB"
         },
         {
          "BiGG_ID": "ICDHyr",
          "author": "Khodayari",
          "relative_error": null,
          "sample_id": "talAB"
         },
         {
          "BiGG_ID": "ICL",
          "author": "Khodayari",
          "relative_error": null,
          "sample_id": "talAB"
         },
         {
          "BiGG_ID": "MALS",
          "author": "Khodayari",
          "relative_error": null,
          "sample_id": "talAB"
         },
         {
          "BiGG_ID": "MDH",
          "author": "Khodayari",
          "relative_error": null,
          "sample_id": "talAB"
         },
         {
          "BiGG_ID": "PDH",
          "author": "Khodayari",
          "relative_error": null,
          "sample_id": "talAB"
         },
         {
          "BiGG_ID": "PGI",
          "author": "Khodayari",
          "relative_error": null,
          "sample_id": "talAB"
         },
         {
          "BiGG_ID": "PGM",
          "author": "Khodayari",
          "relative_error": null,
          "sample_id": "talAB"
         },
         {
          "BiGG_ID": "PPC",
          "author": "Khodayari",
          "relative_error": null,
          "sample_id": "talAB"
         },
         {
          "BiGG_ID": "PTAr",
          "author": "Khodayari",
          "relative_error": null,
          "sample_id": "talAB"
         },
         {
          "BiGG_ID": "PYK",
          "author": "Khodayari",
          "relative_error": null,
          "sample_id": "talAB"
         },
         {
          "BiGG_ID": "RPE",
          "author": "Khodayari",
          "relative_error": null,
          "sample_id": "talAB"
         },
         {
          "BiGG_ID": "RPI",
          "author": "Khodayari",
          "relative_error": null,
          "sample_id": "talAB"
         },
         {
          "BiGG_ID": "SUCDi",
          "author": "Khodayari",
          "relative_error": null,
          "sample_id": "talAB"
         },
         {
          "BiGG_ID": "TALA",
          "author": "Khodayari",
          "relative_error": null,
          "sample_id": "talAB"
         },
         {
          "BiGG_ID": "TKT1",
          "author": "Khodayari",
          "relative_error": null,
          "sample_id": "talAB"
         },
         {
          "BiGG_ID": "TPI",
          "author": "Khodayari",
          "relative_error": null,
          "sample_id": "talAB"
         },
         {
          "BiGG_ID": "AKGDH",
          "author": "Khodayari",
          "relative_error": null,
          "sample_id": "talB"
         },
         {
          "BiGG_ID": "CS",
          "author": "Khodayari",
          "relative_error": null,
          "sample_id": "talB"
         },
         {
          "BiGG_ID": "EDA",
          "author": "Khodayari",
          "relative_error": null,
          "sample_id": "talB"
         },
         {
          "BiGG_ID": "FBA",
          "author": "Khodayari",
          "relative_error": null,
          "sample_id": "talB"
         },
         {
          "BiGG_ID": "FUM",
          "author": "Khodayari",
          "relative_error": null,
          "sample_id": "talB"
         },
         {
          "BiGG_ID": "G6PDH2r",
          "author": "Khodayari",
          "relative_error": null,
          "sample_id": "talB"
         },
         {
          "BiGG_ID": "GAPD",
          "author": "Khodayari",
          "relative_error": null,
          "sample_id": "talB"
         },
         {
          "BiGG_ID": "GLCptspp",
          "author": "Khodayari",
          "relative_error": null,
          "sample_id": "talB"
         },
         {
          "BiGG_ID": "GND",
          "author": "Khodayari",
          "relative_error": null,
          "sample_id": "talB"
         },
         {
          "BiGG_ID": "ICDHyr",
          "author": "Khodayari",
          "relative_error": null,
          "sample_id": "talB"
         },
         {
          "BiGG_ID": "ICL",
          "author": "Khodayari",
          "relative_error": null,
          "sample_id": "talB"
         },
         {
          "BiGG_ID": "MALS",
          "author": "Khodayari",
          "relative_error": null,
          "sample_id": "talB"
         },
         {
          "BiGG_ID": "MDH",
          "author": "Khodayari",
          "relative_error": null,
          "sample_id": "talB"
         },
         {
          "BiGG_ID": "PDH",
          "author": "Khodayari",
          "relative_error": null,
          "sample_id": "talB"
         },
         {
          "BiGG_ID": "PGI",
          "author": "Khodayari",
          "relative_error": null,
          "sample_id": "talB"
         },
         {
          "BiGG_ID": "PGM",
          "author": "Khodayari",
          "relative_error": null,
          "sample_id": "talB"
         },
         {
          "BiGG_ID": "PPC",
          "author": "Khodayari",
          "relative_error": null,
          "sample_id": "talB"
         },
         {
          "BiGG_ID": "PTAr",
          "author": "Khodayari",
          "relative_error": null,
          "sample_id": "talB"
         },
         {
          "BiGG_ID": "PYK",
          "author": "Khodayari",
          "relative_error": null,
          "sample_id": "talB"
         },
         {
          "BiGG_ID": "RPE",
          "author": "Khodayari",
          "relative_error": null,
          "sample_id": "talB"
         },
         {
          "BiGG_ID": "RPI",
          "author": "Khodayari",
          "relative_error": null,
          "sample_id": "talB"
         },
         {
          "BiGG_ID": "SUCDi",
          "author": "Khodayari",
          "relative_error": null,
          "sample_id": "talB"
         },
         {
          "BiGG_ID": "TALA",
          "author": "Khodayari",
          "relative_error": null,
          "sample_id": "talB"
         },
         {
          "BiGG_ID": "TKT1",
          "author": "Khodayari",
          "relative_error": null,
          "sample_id": "talB"
         },
         {
          "BiGG_ID": "TPI",
          "author": "Khodayari",
          "relative_error": null,
          "sample_id": "talB"
         },
         {
          "BiGG_ID": "AKGDH",
          "author": "Khodayari",
          "relative_error": null,
          "sample_id": "tkt1"
         },
         {
          "BiGG_ID": "CS",
          "author": "Khodayari",
          "relative_error": null,
          "sample_id": "tkt1"
         },
         {
          "BiGG_ID": "EDA",
          "author": "Khodayari",
          "relative_error": null,
          "sample_id": "tkt1"
         },
         {
          "BiGG_ID": "FBA",
          "author": "Khodayari",
          "relative_error": null,
          "sample_id": "tkt1"
         },
         {
          "BiGG_ID": "FUM",
          "author": "Khodayari",
          "relative_error": null,
          "sample_id": "tkt1"
         },
         {
          "BiGG_ID": "G6PDH2r",
          "author": "Khodayari",
          "relative_error": null,
          "sample_id": "tkt1"
         },
         {
          "BiGG_ID": "GAPD",
          "author": "Khodayari",
          "relative_error": null,
          "sample_id": "tkt1"
         },
         {
          "BiGG_ID": "GLCptspp",
          "author": "Khodayari",
          "relative_error": null,
          "sample_id": "tkt1"
         },
         {
          "BiGG_ID": "GND",
          "author": "Khodayari",
          "relative_error": null,
          "sample_id": "tkt1"
         },
         {
          "BiGG_ID": "ICDHyr",
          "author": "Khodayari",
          "relative_error": null,
          "sample_id": "tkt1"
         },
         {
          "BiGG_ID": "ICL",
          "author": "Khodayari",
          "relative_error": null,
          "sample_id": "tkt1"
         },
         {
          "BiGG_ID": "MALS",
          "author": "Khodayari",
          "relative_error": null,
          "sample_id": "tkt1"
         },
         {
          "BiGG_ID": "MDH",
          "author": "Khodayari",
          "relative_error": null,
          "sample_id": "tkt1"
         },
         {
          "BiGG_ID": "PDH",
          "author": "Khodayari",
          "relative_error": null,
          "sample_id": "tkt1"
         },
         {
          "BiGG_ID": "PGI",
          "author": "Khodayari",
          "relative_error": null,
          "sample_id": "tkt1"
         },
         {
          "BiGG_ID": "PGM",
          "author": "Khodayari",
          "relative_error": null,
          "sample_id": "tkt1"
         },
         {
          "BiGG_ID": "PPC",
          "author": "Khodayari",
          "relative_error": null,
          "sample_id": "tkt1"
         },
         {
          "BiGG_ID": "PTAr",
          "author": "Khodayari",
          "relative_error": null,
          "sample_id": "tkt1"
         },
         {
          "BiGG_ID": "PYK",
          "author": "Khodayari",
          "relative_error": null,
          "sample_id": "tkt1"
         },
         {
          "BiGG_ID": "RPE",
          "author": "Khodayari",
          "relative_error": null,
          "sample_id": "tkt1"
         },
         {
          "BiGG_ID": "RPI",
          "author": "Khodayari",
          "relative_error": null,
          "sample_id": "tkt1"
         },
         {
          "BiGG_ID": "SUCDi",
          "author": "Khodayari",
          "relative_error": null,
          "sample_id": "tkt1"
         },
         {
          "BiGG_ID": "TALA",
          "author": "Khodayari",
          "relative_error": null,
          "sample_id": "tkt1"
         },
         {
          "BiGG_ID": "TKT1",
          "author": "Khodayari",
          "relative_error": null,
          "sample_id": "tkt1"
         },
         {
          "BiGG_ID": "TPI",
          "author": "Khodayari",
          "relative_error": null,
          "sample_id": "tkt1"
         },
         {
          "BiGG_ID": "AKGDH",
          "author": "Khodayari",
          "relative_error": null,
          "sample_id": "tkt2"
         },
         {
          "BiGG_ID": "CS",
          "author": "Khodayari",
          "relative_error": null,
          "sample_id": "tkt2"
         },
         {
          "BiGG_ID": "EDA",
          "author": "Khodayari",
          "relative_error": null,
          "sample_id": "tkt2"
         },
         {
          "BiGG_ID": "FBA",
          "author": "Khodayari",
          "relative_error": null,
          "sample_id": "tkt2"
         },
         {
          "BiGG_ID": "FUM",
          "author": "Khodayari",
          "relative_error": null,
          "sample_id": "tkt2"
         },
         {
          "BiGG_ID": "G6PDH2r",
          "author": "Khodayari",
          "relative_error": null,
          "sample_id": "tkt2"
         },
         {
          "BiGG_ID": "GAPD",
          "author": "Khodayari",
          "relative_error": null,
          "sample_id": "tkt2"
         },
         {
          "BiGG_ID": "GLCptspp",
          "author": "Khodayari",
          "relative_error": null,
          "sample_id": "tkt2"
         },
         {
          "BiGG_ID": "GND",
          "author": "Khodayari",
          "relative_error": null,
          "sample_id": "tkt2"
         },
         {
          "BiGG_ID": "ICDHyr",
          "author": "Khodayari",
          "relative_error": null,
          "sample_id": "tkt2"
         },
         {
          "BiGG_ID": "ICL",
          "author": "Khodayari",
          "relative_error": null,
          "sample_id": "tkt2"
         },
         {
          "BiGG_ID": "MALS",
          "author": "Khodayari",
          "relative_error": null,
          "sample_id": "tkt2"
         },
         {
          "BiGG_ID": "MDH",
          "author": "Khodayari",
          "relative_error": null,
          "sample_id": "tkt2"
         },
         {
          "BiGG_ID": "PDH",
          "author": "Khodayari",
          "relative_error": null,
          "sample_id": "tkt2"
         },
         {
          "BiGG_ID": "PGI",
          "author": "Khodayari",
          "relative_error": null,
          "sample_id": "tkt2"
         },
         {
          "BiGG_ID": "PGM",
          "author": "Khodayari",
          "relative_error": null,
          "sample_id": "tkt2"
         },
         {
          "BiGG_ID": "PPC",
          "author": "Khodayari",
          "relative_error": null,
          "sample_id": "tkt2"
         },
         {
          "BiGG_ID": "PTAr",
          "author": "Khodayari",
          "relative_error": null,
          "sample_id": "tkt2"
         },
         {
          "BiGG_ID": "PYK",
          "author": "Khodayari",
          "relative_error": null,
          "sample_id": "tkt2"
         },
         {
          "BiGG_ID": "RPE",
          "author": "Khodayari",
          "relative_error": null,
          "sample_id": "tkt2"
         },
         {
          "BiGG_ID": "RPI",
          "author": "Khodayari",
          "relative_error": null,
          "sample_id": "tkt2"
         },
         {
          "BiGG_ID": "SUCDi",
          "author": "Khodayari",
          "relative_error": null,
          "sample_id": "tkt2"
         },
         {
          "BiGG_ID": "TALA",
          "author": "Khodayari",
          "relative_error": null,
          "sample_id": "tkt2"
         },
         {
          "BiGG_ID": "TKT1",
          "author": "Khodayari",
          "relative_error": null,
          "sample_id": "tkt2"
         },
         {
          "BiGG_ID": "TPI",
          "author": "Khodayari",
          "relative_error": null,
          "sample_id": "tkt2"
         },
         {
          "BiGG_ID": "AKGDH",
          "author": "Khodayari",
          "relative_error": 52.177659514894955,
          "sample_id": "tktA"
         },
         {
          "BiGG_ID": "CS",
          "author": "Khodayari",
          "relative_error": 26.879316468205776,
          "sample_id": "tktA"
         },
         {
          "BiGG_ID": "EDA",
          "author": "Khodayari",
          "relative_error": 100,
          "sample_id": "tktA"
         },
         {
          "BiGG_ID": "FBA",
          "author": "Khodayari",
          "relative_error": 9.557581555282859,
          "sample_id": "tktA"
         },
         {
          "BiGG_ID": "FUM",
          "author": "Khodayari",
          "relative_error": 31.465730896152216,
          "sample_id": "tktA"
         },
         {
          "BiGG_ID": "G6PDH2r",
          "author": "Khodayari",
          "relative_error": 5.3554653203736535,
          "sample_id": "tktA"
         },
         {
          "BiGG_ID": "GAPD",
          "author": "Khodayari",
          "relative_error": 0.8097019924821558,
          "sample_id": "tktA"
         },
         {
          "BiGG_ID": "GLCptspp",
          "author": "Khodayari",
          "relative_error": 0.02177011084819469,
          "sample_id": "tktA"
         },
         {
          "BiGG_ID": "GND",
          "author": "Khodayari",
          "relative_error": 148.8826605727485,
          "sample_id": "tktA"
         },
         {
          "BiGG_ID": "ICDHyr",
          "author": "Khodayari",
          "relative_error": 37.4556423057052,
          "sample_id": "tktA"
         },
         {
          "BiGG_ID": "ICL",
          "author": "Khodayari",
          "relative_error": 100,
          "sample_id": "tktA"
         },
         {
          "BiGG_ID": "MALS",
          "author": "Khodayari",
          "relative_error": 100,
          "sample_id": "tktA"
         },
         {
          "BiGG_ID": "MDH",
          "author": "Khodayari",
          "relative_error": 26.83019725642056,
          "sample_id": "tktA"
         },
         {
          "BiGG_ID": "PDH",
          "author": "Khodayari",
          "relative_error": 15.138326254257809,
          "sample_id": "tktA"
         },
         {
          "BiGG_ID": "PGI",
          "author": "Khodayari",
          "relative_error": 0.5453683002957159,
          "sample_id": "tktA"
         },
         {
          "BiGG_ID": "PGM",
          "author": "Khodayari",
          "relative_error": 0.4781928495268443,
          "sample_id": "tktA"
         },
         {
          "BiGG_ID": "PPC",
          "author": "Khodayari",
          "relative_error": 14.856422657053233,
          "sample_id": "tktA"
         },
         {
          "BiGG_ID": "PTAr",
          "author": "Khodayari",
          "relative_error": 0,
          "sample_id": "tktA"
         },
         {
          "BiGG_ID": "PYK",
          "author": "Khodayari",
          "relative_error": 26.40996854027467,
          "sample_id": "tktA"
         },
         {
          "BiGG_ID": "RPE",
          "author": "Khodayari",
          "relative_error": 251.11914256240846,
          "sample_id": "tktA"
         },
         {
          "BiGG_ID": "RPI",
          "author": "Khodayari",
          "relative_error": 111.06389191935257,
          "sample_id": "tktA"
         },
         {
          "BiGG_ID": "SUCDi",
          "author": "Khodayari",
          "relative_error": 29.233235485075447,
          "sample_id": "tktA"
         },
         {
          "BiGG_ID": "TALA",
          "author": "Khodayari",
          "relative_error": 208.83913324799602,
          "sample_id": "tktA"
         },
         {
          "BiGG_ID": "TKT1",
          "author": "Khodayari",
          "relative_error": 297.12757545675424,
          "sample_id": "tktA"
         },
         {
          "BiGG_ID": "TPI",
          "author": "Khodayari",
          "relative_error": 10.05588789679639,
          "sample_id": "tktA"
         },
         {
          "BiGG_ID": "AKGDH",
          "author": "Khodayari",
          "relative_error": 29.97443000395334,
          "sample_id": "tktB"
         },
         {
          "BiGG_ID": "CS",
          "author": "Khodayari",
          "relative_error": 2.5279149521897244,
          "sample_id": "tktB"
         },
         {
          "BiGG_ID": "EDA",
          "author": "Khodayari",
          "relative_error": 0,
          "sample_id": "tktB"
         },
         {
          "BiGG_ID": "FBA",
          "author": "Khodayari",
          "relative_error": 1.6471711037801609,
          "sample_id": "tktB"
         },
         {
          "BiGG_ID": "FUM",
          "author": "Khodayari",
          "relative_error": 0.35375118777710873,
          "sample_id": "tktB"
         },
         {
          "BiGG_ID": "G6PDH2r",
          "author": "Khodayari",
          "relative_error": 52.8873252517041,
          "sample_id": "tktB"
         },
         {
          "BiGG_ID": "GAPD",
          "author": "Khodayari",
          "relative_error": 3.0769088040825636,
          "sample_id": "tktB"
         },
         {
          "BiGG_ID": "GLCptspp",
          "author": "Khodayari",
          "relative_error": 0.02177011084819469,
          "sample_id": "tktB"
         },
         {
          "BiGG_ID": "GND",
          "author": "Khodayari",
          "relative_error": 53.15856035246062,
          "sample_id": "tktB"
         },
         {
          "BiGG_ID": "ICDHyr",
          "author": "Khodayari",
          "relative_error": 12.301933232999682,
          "sample_id": "tktB"
         },
         {
          "BiGG_ID": "ICL",
          "author": "Khodayari",
          "relative_error": 100,
          "sample_id": "tktB"
         },
         {
          "BiGG_ID": "MALS",
          "author": "Khodayari",
          "relative_error": 100,
          "sample_id": "tktB"
         },
         {
          "BiGG_ID": "MDH",
          "author": "Khodayari",
          "relative_error": 7.141496874527033,
          "sample_id": "tktB"
         },
         {
          "BiGG_ID": "PDH",
          "author": "Khodayari",
          "relative_error": 3.9555503385341835,
          "sample_id": "tktB"
         },
         {
          "BiGG_ID": "PGI",
          "author": "Khodayari",
          "relative_error": 8.807689216010862,
          "sample_id": "tktB"
         },
         {
          "BiGG_ID": "PGM",
          "author": "Khodayari",
          "relative_error": 0.13076589501574262,
          "sample_id": "tktB"
         },
         {
          "BiGG_ID": "PPC",
          "author": "Khodayari",
          "relative_error": 23.42905156196451,
          "sample_id": "tktB"
         },
         {
          "BiGG_ID": "PTAr",
          "author": "Khodayari",
          "relative_error": 0,
          "sample_id": "tktB"
         },
         {
          "BiGG_ID": "PYK",
          "author": "Khodayari",
          "relative_error": 11.691962248329606,
          "sample_id": "tktB"
         },
         {
          "BiGG_ID": "RPE",
          "author": "Khodayari",
          "relative_error": 134.07942837493897,
          "sample_id": "tktB"
         },
         {
          "BiGG_ID": "RPI",
          "author": "Khodayari",
          "relative_error": 26.638335151611546,
          "sample_id": "tktB"
         },
         {
          "BiGG_ID": "SUCDi",
          "author": "Khodayari",
          "relative_error": 3.6227623254252337,
          "sample_id": "tktB"
         },
         {
          "BiGG_ID": "TALA",
          "author": "Khodayari",
          "relative_error": 105.89275549866402,
          "sample_id": "tktB"
         },
         {
          "BiGG_ID": "TKT1",
          "author": "Khodayari",
          "relative_error": 164.75171697116951,
          "sample_id": "tktB"
         },
         {
          "BiGG_ID": "TPI",
          "author": "Khodayari",
          "relative_error": 1.1998279108305128,
          "sample_id": "tktB"
         },
         {
          "BiGG_ID": "AKGDH",
          "author": "Khodayari",
          "relative_error": null,
          "sample_id": "tpi"
         },
         {
          "BiGG_ID": "CS",
          "author": "Khodayari",
          "relative_error": null,
          "sample_id": "tpi"
         },
         {
          "BiGG_ID": "EDA",
          "author": "Khodayari",
          "relative_error": 100,
          "sample_id": "tpi"
         },
         {
          "BiGG_ID": "FBA",
          "author": "Khodayari",
          "relative_error": null,
          "sample_id": "tpi"
         },
         {
          "BiGG_ID": "FUM",
          "author": "Khodayari",
          "relative_error": null,
          "sample_id": "tpi"
         },
         {
          "BiGG_ID": "G6PDH2r",
          "author": "Khodayari",
          "relative_error": null,
          "sample_id": "tpi"
         },
         {
          "BiGG_ID": "GAPD",
          "author": "Khodayari",
          "relative_error": null,
          "sample_id": "tpi"
         },
         {
          "BiGG_ID": "GLCptspp",
          "author": "Khodayari",
          "relative_error": null,
          "sample_id": "tpi"
         },
         {
          "BiGG_ID": "GND",
          "author": "Khodayari",
          "relative_error": null,
          "sample_id": "tpi"
         },
         {
          "BiGG_ID": "ICDHyr",
          "author": "Khodayari",
          "relative_error": null,
          "sample_id": "tpi"
         },
         {
          "BiGG_ID": "ICL",
          "author": "Khodayari",
          "relative_error": null,
          "sample_id": "tpi"
         },
         {
          "BiGG_ID": "MALS",
          "author": "Khodayari",
          "relative_error": null,
          "sample_id": "tpi"
         },
         {
          "BiGG_ID": "MDH",
          "author": "Khodayari",
          "relative_error": null,
          "sample_id": "tpi"
         },
         {
          "BiGG_ID": "PDH",
          "author": "Khodayari",
          "relative_error": null,
          "sample_id": "tpi"
         },
         {
          "BiGG_ID": "PGI",
          "author": "Khodayari",
          "relative_error": null,
          "sample_id": "tpi"
         },
         {
          "BiGG_ID": "PGM",
          "author": "Khodayari",
          "relative_error": null,
          "sample_id": "tpi"
         },
         {
          "BiGG_ID": "PPC",
          "author": "Khodayari",
          "relative_error": null,
          "sample_id": "tpi"
         },
         {
          "BiGG_ID": "PTAr",
          "author": "Khodayari",
          "relative_error": null,
          "sample_id": "tpi"
         },
         {
          "BiGG_ID": "PYK",
          "author": "Khodayari",
          "relative_error": null,
          "sample_id": "tpi"
         },
         {
          "BiGG_ID": "RPE",
          "author": "Khodayari",
          "relative_error": null,
          "sample_id": "tpi"
         },
         {
          "BiGG_ID": "RPI",
          "author": "Khodayari",
          "relative_error": null,
          "sample_id": "tpi"
         },
         {
          "BiGG_ID": "SUCDi",
          "author": "Khodayari",
          "relative_error": null,
          "sample_id": "tpi"
         },
         {
          "BiGG_ID": "TALA",
          "author": "Khodayari",
          "relative_error": null,
          "sample_id": "tpi"
         },
         {
          "BiGG_ID": "TKT1",
          "author": "Khodayari",
          "relative_error": null,
          "sample_id": "tpi"
         },
         {
          "BiGG_ID": "TPI",
          "author": "Khodayari",
          "relative_error": 100,
          "sample_id": "tpi"
         },
         {
          "BiGG_ID": "AKGDH",
          "author": "Khodayari",
          "relative_error": 14.525002367460532,
          "sample_id": "zwf"
         },
         {
          "BiGG_ID": "CS",
          "author": "Khodayari",
          "relative_error": 7.07718838452039,
          "sample_id": "zwf"
         },
         {
          "BiGG_ID": "EDA",
          "author": "Khodayari",
          "relative_error": 0,
          "sample_id": "zwf"
         },
         {
          "BiGG_ID": "FBA",
          "author": "Khodayari",
          "relative_error": 14.50506085546657,
          "sample_id": "zwf"
         },
         {
          "BiGG_ID": "FUM",
          "author": "Khodayari",
          "relative_error": 39.71160971373144,
          "sample_id": "zwf"
         },
         {
          "BiGG_ID": "G6PDH2r",
          "author": "Khodayari",
          "relative_error": 0,
          "sample_id": "zwf"
         },
         {
          "BiGG_ID": "GAPD",
          "author": "Khodayari",
          "relative_error": 9.234654276792282,
          "sample_id": "zwf"
         },
         {
          "BiGG_ID": "GLCptspp",
          "author": "Khodayari",
          "relative_error": 2.4000323461106916,
          "sample_id": "zwf"
         },
         {
          "BiGG_ID": "GND",
          "author": "Khodayari",
          "relative_error": 100,
          "sample_id": "zwf"
         },
         {
          "BiGG_ID": "ICDHyr",
          "author": "Khodayari",
          "relative_error": 19.12181969430502,
          "sample_id": "zwf"
         },
         {
          "BiGG_ID": "ICL",
          "author": "Khodayari",
          "relative_error": 61.39066458617526,
          "sample_id": "zwf"
         },
         {
          "BiGG_ID": "MALS",
          "author": "Khodayari",
          "relative_error": 64.20161533934066,
          "sample_id": "zwf"
         },
         {
          "BiGG_ID": "MDH",
          "author": "Khodayari",
          "relative_error": 20.616101073075683,
          "sample_id": "zwf"
         },
         {
          "BiGG_ID": "PDH",
          "author": "Khodayari",
          "relative_error": 20.093491691089973,
          "sample_id": "zwf"
         },
         {
          "BiGG_ID": "PGI",
          "author": "Khodayari",
          "relative_error": 0.08045684751126624,
          "sample_id": "zwf"
         },
         {
          "BiGG_ID": "PGM",
          "author": "Khodayari",
          "relative_error": 52.15731896047679,
          "sample_id": "zwf"
         },
         {
          "BiGG_ID": "PPC",
          "author": "Khodayari",
          "relative_error": 100,
          "sample_id": "zwf"
         },
         {
          "BiGG_ID": "PTAr",
          "author": "Khodayari",
          "relative_error": 100,
          "sample_id": "zwf"
         },
         {
          "BiGG_ID": "PYK",
          "author": "Khodayari",
          "relative_error": 78.39109277902722,
          "sample_id": "zwf"
         },
         {
          "BiGG_ID": "RPE",
          "author": "Khodayari",
          "relative_error": 107.04944360757915,
          "sample_id": "zwf"
         },
         {
          "BiGG_ID": "RPI",
          "author": "Khodayari",
          "relative_error": 84.23350612668322,
          "sample_id": "zwf"
         },
         {
          "BiGG_ID": "SUCDi",
          "author": "Khodayari",
          "relative_error": 21.270600028178585,
          "sample_id": "zwf"
         },
         {
          "BiGG_ID": "TALA",
          "author": "Khodayari",
          "relative_error": 77.6972335793474,
          "sample_id": "zwf"
         },
         {
          "BiGG_ID": "TKT1",
          "author": "Khodayari",
          "relative_error": 111.0676442050364,
          "sample_id": "zwf"
         },
         {
          "BiGG_ID": "TPI",
          "author": "Khodayari",
          "relative_error": 19.584195939737338,
          "sample_id": "zwf"
         }
        ]
       },
       "encoding": {
        "color": {
         "condition": {
          "test": "datum.relative_error === null",
          "value": "lightgrey"
         },
         "field": "relative_error",
         "scale": {
          "domain": [
           0,
           25,
           50,
           75,
           100,
           200,
           300
          ],
          "scheme": "greenblue",
          "type": "threshold"
         },
         "title": "relative error (clipped at 300)",
         "type": "quantitative"
        },
        "tooltip": [
         {
          "field": "sample_id",
          "type": "nominal"
         },
         {
          "field": "BiGG_ID",
          "type": "nominal"
         },
         {
          "field": "relative_error",
          "type": "quantitative"
         }
        ],
        "x": {
         "field": "sample_id",
         "type": "nominal"
        },
        "y": {
         "field": "BiGG_ID",
         "type": "nominal"
        }
       },
       "mark": "rect",
       "title": "Heatmap for author Khodayari"
      },
      "image/png": "[encoded data removed]",
      "text/plain": [
       "<VegaLite 3 object>\n",
       "\n",
       "If you see this message, it means the renderer has not been properly enabled\n",
       "for the frontend that you are using. For more information, see\n",
       "https://altair-viz.github.io/user_guide/troubleshooting.html\n"
      ]
     },
     "execution_count": 14,
     "metadata": {},
     "output_type": "execute_result"
    }
   ],
   "source": [
    "heatmap(x_rel_error, author=\"Khodayari\")"
   ]
  },
  {
   "cell_type": "code",
   "execution_count": 15,
   "metadata": {},
   "outputs": [
    {
     "data": {
      "application/vnd.vegalite.v3+json": {
       "$schema": "https://vega.github.io/schema/vega-lite/v3.2.1.json",
       "config": {
        "invalidValues": null,
        "mark": {
         "tooltip": null
        },
        "view": {
         "height": 300,
         "width": 400
        }
       },
       "data": {
        "name": "data-ddaa954f928c4f92431f55b975bdc5f6"
       },
       "datasets": {
        "data-ddaa954f928c4f92431f55b975bdc5f6": [
         {
          "BiGG_ID": "AKGDH",
          "author": "Millard",
          "relative_error": 19.384069838844546,
          "sample_id": "WT"
         },
         {
          "BiGG_ID": "CS",
          "author": "Millard",
          "relative_error": 7.176309026159101,
          "sample_id": "WT"
         },
         {
          "BiGG_ID": "EDA",
          "author": "Millard",
          "relative_error": 100,
          "sample_id": "WT"
         },
         {
          "BiGG_ID": "FBA",
          "author": "Millard",
          "relative_error": 4.868558921646718,
          "sample_id": "WT"
         },
         {
          "BiGG_ID": "FUM",
          "author": "Millard",
          "relative_error": 8.680932603172383,
          "sample_id": "WT"
         },
         {
          "BiGG_ID": "G6PDH2r",
          "author": "Millard",
          "relative_error": 1.2049393418140486,
          "sample_id": "WT"
         },
         {
          "BiGG_ID": "GAPD",
          "author": "Millard",
          "relative_error": 2.67735344418751,
          "sample_id": "WT"
         },
         {
          "BiGG_ID": "GLCptspp",
          "author": "Millard",
          "relative_error": 4.0120085031958297e-10,
          "sample_id": "WT"
         },
         {
          "BiGG_ID": "GND",
          "author": "Millard",
          "relative_error": 36.21081720762264,
          "sample_id": "WT"
         },
         {
          "BiGG_ID": "ICDHyr",
          "author": "Millard",
          "relative_error": 16.152701972978154,
          "sample_id": "WT"
         },
         {
          "BiGG_ID": "ICL",
          "author": "Millard",
          "relative_error": 32.35813621875342,
          "sample_id": "WT"
         },
         {
          "BiGG_ID": "MALS",
          "author": "Millard",
          "relative_error": 32.358136193826724,
          "sample_id": "WT"
         },
         {
          "BiGG_ID": "MDH",
          "author": "Millard",
          "relative_error": 0.10361151841766383,
          "sample_id": "WT"
         },
         {
          "BiGG_ID": "PDH",
          "author": "Millard",
          "relative_error": 2.8446032150613476,
          "sample_id": "WT"
         },
         {
          "BiGG_ID": "PGI",
          "author": "Millard",
          "relative_error": 0.49774719424300945,
          "sample_id": "WT"
         },
         {
          "BiGG_ID": "PGM",
          "author": "Millard",
          "relative_error": 3.7935053063141084,
          "sample_id": "WT"
         },
         {
          "BiGG_ID": "PPC",
          "author": "Millard",
          "relative_error": 88.30403981773739,
          "sample_id": "WT"
         },
         {
          "BiGG_ID": "PTAr",
          "author": "Millard",
          "relative_error": 100,
          "sample_id": "WT"
         },
         {
          "BiGG_ID": "PYK",
          "author": "Millard",
          "relative_error": 4.855870330029448,
          "sample_id": "WT"
         },
         {
          "BiGG_ID": "RPE",
          "author": "Millard",
          "relative_error": 84.16599115284463,
          "sample_id": "WT"
         },
         {
          "BiGG_ID": "RPI",
          "author": "Millard",
          "relative_error": 14.413010936366339,
          "sample_id": "WT"
         },
         {
          "BiGG_ID": "SUCDi",
          "author": "Millard",
          "relative_error": 8.680932630652343,
          "sample_id": "WT"
         },
         {
          "BiGG_ID": "TALA",
          "author": "Millard",
          "relative_error": 52.340633226876896,
          "sample_id": "WT"
         },
         {
          "BiGG_ID": "TKT1",
          "author": "Millard",
          "relative_error": 80.20749016245483,
          "sample_id": "WT"
         },
         {
          "BiGG_ID": "TPI",
          "author": "Millard",
          "relative_error": 4.868558921379324,
          "sample_id": "WT"
         },
         {
          "BiGG_ID": "AKGDH",
          "author": "Millard",
          "relative_error": 100,
          "sample_id": "fbaA"
         },
         {
          "BiGG_ID": "CS",
          "author": "Millard",
          "relative_error": 100,
          "sample_id": "fbaA"
         },
         {
          "BiGG_ID": "EDA",
          "author": "Millard",
          "relative_error": null,
          "sample_id": "fbaA"
         },
         {
          "BiGG_ID": "FBA",
          "author": "Millard",
          "relative_error": 100,
          "sample_id": "fbaA"
         },
         {
          "BiGG_ID": "FUM",
          "author": "Millard",
          "relative_error": 100,
          "sample_id": "fbaA"
         },
         {
          "BiGG_ID": "G6PDH2r",
          "author": "Millard",
          "relative_error": null,
          "sample_id": "fbaA"
         },
         {
          "BiGG_ID": "GAPD",
          "author": "Millard",
          "relative_error": null,
          "sample_id": "fbaA"
         },
         {
          "BiGG_ID": "GLCptspp",
          "author": "Millard",
          "relative_error": 100,
          "sample_id": "fbaA"
         },
         {
          "BiGG_ID": "GND",
          "author": "Millard",
          "relative_error": null,
          "sample_id": "fbaA"
         },
         {
          "BiGG_ID": "ICDHyr",
          "author": "Millard",
          "relative_error": 100,
          "sample_id": "fbaA"
         },
         {
          "BiGG_ID": "ICL",
          "author": "Millard",
          "relative_error": 100,
          "sample_id": "fbaA"
         },
         {
          "BiGG_ID": "MALS",
          "author": "Millard",
          "relative_error": 100,
          "sample_id": "fbaA"
         },
         {
          "BiGG_ID": "MDH",
          "author": "Millard",
          "relative_error": 100,
          "sample_id": "fbaA"
         },
         {
          "BiGG_ID": "PDH",
          "author": "Millard",
          "relative_error": null,
          "sample_id": "fbaA"
         },
         {
          "BiGG_ID": "PGI",
          "author": "Millard",
          "relative_error": null,
          "sample_id": "fbaA"
         },
         {
          "BiGG_ID": "PGM",
          "author": "Millard",
          "relative_error": 100,
          "sample_id": "fbaA"
         },
         {
          "BiGG_ID": "PPC",
          "author": "Millard",
          "relative_error": 100,
          "sample_id": "fbaA"
         },
         {
          "BiGG_ID": "PTAr",
          "author": "Millard",
          "relative_error": null,
          "sample_id": "fbaA"
         },
         {
          "BiGG_ID": "PYK",
          "author": "Millard",
          "relative_error": 100,
          "sample_id": "fbaA"
         },
         {
          "BiGG_ID": "RPE",
          "author": "Millard",
          "relative_error": null,
          "sample_id": "fbaA"
         },
         {
          "BiGG_ID": "RPI",
          "author": "Millard",
          "relative_error": 100,
          "sample_id": "fbaA"
         },
         {
          "BiGG_ID": "SUCDi",
          "author": "Millard",
          "relative_error": 100,
          "sample_id": "fbaA"
         },
         {
          "BiGG_ID": "TALA",
          "author": "Millard",
          "relative_error": null,
          "sample_id": "fbaA"
         },
         {
          "BiGG_ID": "TKT1",
          "author": "Millard",
          "relative_error": 100,
          "sample_id": "fbaA"
         },
         {
          "BiGG_ID": "TPI",
          "author": "Millard",
          "relative_error": 100,
          "sample_id": "fbaA"
         },
         {
          "BiGG_ID": "AKGDH",
          "author": "Millard",
          "relative_error": 100,
          "sample_id": "fbaB"
         },
         {
          "BiGG_ID": "CS",
          "author": "Millard",
          "relative_error": 100,
          "sample_id": "fbaB"
         },
         {
          "BiGG_ID": "EDA",
          "author": "Millard",
          "relative_error": 100,
          "sample_id": "fbaB"
         },
         {
          "BiGG_ID": "FBA",
          "author": "Millard",
          "relative_error": 100,
          "sample_id": "fbaB"
         },
         {
          "BiGG_ID": "FUM",
          "author": "Millard",
          "relative_error": 100,
          "sample_id": "fbaB"
         },
         {
          "BiGG_ID": "G6PDH2r",
          "author": "Millard",
          "relative_error": 93.65568628626093,
          "sample_id": "fbaB"
         },
         {
          "BiGG_ID": "GAPD",
          "author": "Millard",
          "relative_error": 99.1858963053529,
          "sample_id": "fbaB"
         },
         {
          "BiGG_ID": "GLCptspp",
          "author": "Millard",
          "relative_error": 100,
          "sample_id": "fbaB"
         },
         {
          "BiGG_ID": "GND",
          "author": "Millard",
          "relative_error": 99.22719830670778,
          "sample_id": "fbaB"
         },
         {
          "BiGG_ID": "ICDHyr",
          "author": "Millard",
          "relative_error": 100,
          "sample_id": "fbaB"
         },
         {
          "BiGG_ID": "ICL",
          "author": "Millard",
          "relative_error": 100,
          "sample_id": "fbaB"
         },
         {
          "BiGG_ID": "MALS",
          "author": "Millard",
          "relative_error": 100,
          "sample_id": "fbaB"
         },
         {
          "BiGG_ID": "MDH",
          "author": "Millard",
          "relative_error": 100,
          "sample_id": "fbaB"
         },
         {
          "BiGG_ID": "PDH",
          "author": "Millard",
          "relative_error": 98.8647631436327,
          "sample_id": "fbaB"
         },
         {
          "BiGG_ID": "PGI",
          "author": "Millard",
          "relative_error": 102.17267052438193,
          "sample_id": "fbaB"
         },
         {
          "BiGG_ID": "PGM",
          "author": "Millard",
          "relative_error": 100,
          "sample_id": "fbaB"
         },
         {
          "BiGG_ID": "PPC",
          "author": "Millard",
          "relative_error": 100,
          "sample_id": "fbaB"
         },
         {
          "BiGG_ID": "PTAr",
          "author": "Millard",
          "relative_error": 100,
          "sample_id": "fbaB"
         },
         {
          "BiGG_ID": "PYK",
          "author": "Millard",
          "relative_error": 100,
          "sample_id": "fbaB"
         },
         {
          "BiGG_ID": "RPE",
          "author": "Millard",
          "relative_error": 99.01083082691488,
          "sample_id": "fbaB"
         },
         {
          "BiGG_ID": "RPI",
          "author": "Millard",
          "relative_error": 100,
          "sample_id": "fbaB"
         },
         {
          "BiGG_ID": "SUCDi",
          "author": "Millard",
          "relative_error": 100,
          "sample_id": "fbaB"
         },
         {
          "BiGG_ID": "TALA",
          "author": "Millard",
          "relative_error": 98.50271816111534,
          "sample_id": "fbaB"
         },
         {
          "BiGG_ID": "TKT1",
          "author": "Millard",
          "relative_error": 100,
          "sample_id": "fbaB"
         },
         {
          "BiGG_ID": "TPI",
          "author": "Millard",
          "relative_error": 100,
          "sample_id": "fbaB"
         },
         {
          "BiGG_ID": "AKGDH",
          "author": "Millard",
          "relative_error": 10.61867641320196,
          "sample_id": "fbp"
         },
         {
          "BiGG_ID": "CS",
          "author": "Millard",
          "relative_error": 4.3452984460839925,
          "sample_id": "fbp"
         },
         {
          "BiGG_ID": "EDA",
          "author": "Millard",
          "relative_error": 100,
          "sample_id": "fbp"
         },
         {
          "BiGG_ID": "FBA",
          "author": "Millard",
          "relative_error": 5.414402975786965,
          "sample_id": "fbp"
         },
         {
          "BiGG_ID": "FUM",
          "author": "Millard",
          "relative_error": 4.926899255614797,
          "sample_id": "fbp"
         },
         {
          "BiGG_ID": "G6PDH2r",
          "author": "Millard",
          "relative_error": 15.652271137603307,
          "sample_id": "fbp"
         },
         {
          "BiGG_ID": "GAPD",
          "author": "Millard",
          "relative_error": 2.6768746657938265,
          "sample_id": "fbp"
         },
         {
          "BiGG_ID": "GLCptspp",
          "author": "Millard",
          "relative_error": 5.242384304438019e-11,
          "sample_id": "fbp"
         },
         {
          "BiGG_ID": "GND",
          "author": "Millard",
          "relative_error": 27.105925972348732,
          "sample_id": "fbp"
         },
         {
          "BiGG_ID": "ICDHyr",
          "author": "Millard",
          "relative_error": 8.845235700682377,
          "sample_id": "fbp"
         },
         {
          "BiGG_ID": "ICL",
          "author": "Millard",
          "relative_error": 27.208891020568306,
          "sample_id": "fbp"
         },
         {
          "BiGG_ID": "MALS",
          "author": "Millard",
          "relative_error": 27.208891020009556,
          "sample_id": "fbp"
         },
         {
          "BiGG_ID": "MDH",
          "author": "Millard",
          "relative_error": 8.853346544010716,
          "sample_id": "fbp"
         },
         {
          "BiGG_ID": "PDH",
          "author": "Millard",
          "relative_error": 7.295743716929957,
          "sample_id": "fbp"
         },
         {
          "BiGG_ID": "PGI",
          "author": "Millard",
          "relative_error": 3.422543848343731,
          "sample_id": "fbp"
         },
         {
          "BiGG_ID": "PGM",
          "author": "Millard",
          "relative_error": 3.792963290383159,
          "sample_id": "fbp"
         },
         {
          "BiGG_ID": "PPC",
          "author": "Millard",
          "relative_error": 2254.0917914420784,
          "sample_id": "fbp"
         },
         {
          "BiGG_ID": "PTAr",
          "author": "Millard",
          "relative_error": 100,
          "sample_id": "fbp"
         },
         {
          "BiGG_ID": "PYK",
          "author": "Millard",
          "relative_error": 21.54814768695175,
          "sample_id": "fbp"
         },
         {
          "BiGG_ID": "RPE",
          "author": "Millard",
          "relative_error": 73.63360725477584,
          "sample_id": "fbp"
         },
         {
          "BiGG_ID": "RPI",
          "author": "Millard",
          "relative_error": 14.41655831055926,
          "sample_id": "fbp"
         },
         {
          "BiGG_ID": "SUCDi",
          "author": "Millard",
          "relative_error": 4.9268992501785025,
          "sample_id": "fbp"
         },
         {
          "BiGG_ID": "TALA",
          "author": "Millard",
          "relative_error": 36.46619416468277,
          "sample_id": "fbp"
         },
         {
          "BiGG_ID": "TKT1",
          "author": "Millard",
          "relative_error": 73.63360701407514,
          "sample_id": "fbp"
         },
         {
          "BiGG_ID": "TPI",
          "author": "Millard",
          "relative_error": 5.414402976154782,
          "sample_id": "fbp"
         },
         {
          "BiGG_ID": "AKGDH",
          "author": "Millard",
          "relative_error": null,
          "sample_id": "glk"
         },
         {
          "BiGG_ID": "CS",
          "author": "Millard",
          "relative_error": null,
          "sample_id": "glk"
         },
         {
          "BiGG_ID": "EDA",
          "author": "Millard",
          "relative_error": null,
          "sample_id": "glk"
         },
         {
          "BiGG_ID": "FBA",
          "author": "Millard",
          "relative_error": null,
          "sample_id": "glk"
         },
         {
          "BiGG_ID": "FUM",
          "author": "Millard",
          "relative_error": null,
          "sample_id": "glk"
         },
         {
          "BiGG_ID": "G6PDH2r",
          "author": "Millard",
          "relative_error": null,
          "sample_id": "glk"
         },
         {
          "BiGG_ID": "GAPD",
          "author": "Millard",
          "relative_error": null,
          "sample_id": "glk"
         },
         {
          "BiGG_ID": "GLCptspp",
          "author": "Millard",
          "relative_error": null,
          "sample_id": "glk"
         },
         {
          "BiGG_ID": "GND",
          "author": "Millard",
          "relative_error": null,
          "sample_id": "glk"
         },
         {
          "BiGG_ID": "ICDHyr",
          "author": "Millard",
          "relative_error": null,
          "sample_id": "glk"
         },
         {
          "BiGG_ID": "ICL",
          "author": "Millard",
          "relative_error": null,
          "sample_id": "glk"
         },
         {
          "BiGG_ID": "MALS",
          "author": "Millard",
          "relative_error": null,
          "sample_id": "glk"
         },
         {
          "BiGG_ID": "MDH",
          "author": "Millard",
          "relative_error": null,
          "sample_id": "glk"
         },
         {
          "BiGG_ID": "PDH",
          "author": "Millard",
          "relative_error": null,
          "sample_id": "glk"
         },
         {
          "BiGG_ID": "PGI",
          "author": "Millard",
          "relative_error": null,
          "sample_id": "glk"
         },
         {
          "BiGG_ID": "PGM",
          "author": "Millard",
          "relative_error": null,
          "sample_id": "glk"
         },
         {
          "BiGG_ID": "PPC",
          "author": "Millard",
          "relative_error": null,
          "sample_id": "glk"
         },
         {
          "BiGG_ID": "PTAr",
          "author": "Millard",
          "relative_error": null,
          "sample_id": "glk"
         },
         {
          "BiGG_ID": "PYK",
          "author": "Millard",
          "relative_error": null,
          "sample_id": "glk"
         },
         {
          "BiGG_ID": "RPE",
          "author": "Millard",
          "relative_error": null,
          "sample_id": "glk"
         },
         {
          "BiGG_ID": "RPI",
          "author": "Millard",
          "relative_error": null,
          "sample_id": "glk"
         },
         {
          "BiGG_ID": "SUCDi",
          "author": "Millard",
          "relative_error": null,
          "sample_id": "glk"
         },
         {
          "BiGG_ID": "TALA",
          "author": "Millard",
          "relative_error": null,
          "sample_id": "glk"
         },
         {
          "BiGG_ID": "TKT1",
          "author": "Millard",
          "relative_error": null,
          "sample_id": "glk"
         },
         {
          "BiGG_ID": "TPI",
          "author": "Millard",
          "relative_error": null,
          "sample_id": "glk"
         },
         {
          "BiGG_ID": "AKGDH",
          "author": "Millard",
          "relative_error": 36.60220529072573,
          "sample_id": "gnd"
         },
         {
          "BiGG_ID": "CS",
          "author": "Millard",
          "relative_error": 22.753880617315613,
          "sample_id": "gnd"
         },
         {
          "BiGG_ID": "EDA",
          "author": "Millard",
          "relative_error": 100,
          "sample_id": "gnd"
         },
         {
          "BiGG_ID": "FBA",
          "author": "Millard",
          "relative_error": 18.188071207846875,
          "sample_id": "gnd"
         },
         {
          "BiGG_ID": "FUM",
          "author": "Millard",
          "relative_error": 26.22409488666417,
          "sample_id": "gnd"
         },
         {
          "BiGG_ID": "G6PDH2r",
          "author": "Millard",
          "relative_error": 100,
          "sample_id": "gnd"
         },
         {
          "BiGG_ID": "GAPD",
          "author": "Millard",
          "relative_error": 10.795811006912832,
          "sample_id": "gnd"
         },
         {
          "BiGG_ID": "GLCptspp",
          "author": "Millard",
          "relative_error": 4.359293370725936e-09,
          "sample_id": "gnd"
         },
         {
          "BiGG_ID": "GND",
          "author": "Millard",
          "relative_error": 0,
          "sample_id": "gnd"
         },
         {
          "BiGG_ID": "ICDHyr",
          "author": "Millard",
          "relative_error": 32.472827651806305,
          "sample_id": "gnd"
         },
         {
          "BiGG_ID": "ICL",
          "author": "Millard",
          "relative_error": 28.9096167096101,
          "sample_id": "gnd"
         },
         {
          "BiGG_ID": "MALS",
          "author": "Millard",
          "relative_error": 28.909616708053342,
          "sample_id": "gnd"
         },
         {
          "BiGG_ID": "MDH",
          "author": "Millard",
          "relative_error": 22.149359143493285,
          "sample_id": "gnd"
         },
         {
          "BiGG_ID": "PDH",
          "author": "Millard",
          "relative_error": 9.398726542244525,
          "sample_id": "gnd"
         },
         {
          "BiGG_ID": "PGI",
          "author": "Millard",
          "relative_error": 16.564458131881636,
          "sample_id": "gnd"
         },
         {
          "BiGG_ID": "PGM",
          "author": "Millard",
          "relative_error": 13.291264702755667,
          "sample_id": "gnd"
         },
         {
          "BiGG_ID": "PPC",
          "author": "Millard",
          "relative_error": 753.9493801043179,
          "sample_id": "gnd"
         },
         {
          "BiGG_ID": "PTAr",
          "author": "Millard",
          "relative_error": 100,
          "sample_id": "gnd"
         },
         {
          "BiGG_ID": "PYK",
          "author": "Millard",
          "relative_error": 42.3366976219713,
          "sample_id": "gnd"
         },
         {
          "BiGG_ID": "RPE",
          "author": "Millard",
          "relative_error": 218.63379492337742,
          "sample_id": "gnd"
         },
         {
          "BiGG_ID": "RPI",
          "author": "Millard",
          "relative_error": 18.63379497148653,
          "sample_id": "gnd"
         },
         {
          "BiGG_ID": "SUCDi",
          "author": "Millard",
          "relative_error": 26.224094839881236,
          "sample_id": "gnd"
         },
         {
          "BiGG_ID": "TALA",
          "author": "Millard",
          "relative_error": 247.56174459423806,
          "sample_id": "gnd"
         },
         {
          "BiGG_ID": "TKT1",
          "author": "Millard",
          "relative_error": 545.6072361457049,
          "sample_id": "gnd"
         },
         {
          "BiGG_ID": "TPI",
          "author": "Millard",
          "relative_error": 18.188071259205483,
          "sample_id": "gnd"
         },
         {
          "BiGG_ID": "AKGDH",
          "author": "Millard",
          "relative_error": null,
          "sample_id": "gpmA"
         },
         {
          "BiGG_ID": "CS",
          "author": "Millard",
          "relative_error": null,
          "sample_id": "gpmA"
         },
         {
          "BiGG_ID": "EDA",
          "author": "Millard",
          "relative_error": null,
          "sample_id": "gpmA"
         },
         {
          "BiGG_ID": "FBA",
          "author": "Millard",
          "relative_error": null,
          "sample_id": "gpmA"
         },
         {
          "BiGG_ID": "FUM",
          "author": "Millard",
          "relative_error": null,
          "sample_id": "gpmA"
         },
         {
          "BiGG_ID": "G6PDH2r",
          "author": "Millard",
          "relative_error": null,
          "sample_id": "gpmA"
         },
         {
          "BiGG_ID": "GAPD",
          "author": "Millard",
          "relative_error": null,
          "sample_id": "gpmA"
         },
         {
          "BiGG_ID": "GLCptspp",
          "author": "Millard",
          "relative_error": null,
          "sample_id": "gpmA"
         },
         {
          "BiGG_ID": "GND",
          "author": "Millard",
          "relative_error": null,
          "sample_id": "gpmA"
         },
         {
          "BiGG_ID": "ICDHyr",
          "author": "Millard",
          "relative_error": null,
          "sample_id": "gpmA"
         },
         {
          "BiGG_ID": "ICL",
          "author": "Millard",
          "relative_error": null,
          "sample_id": "gpmA"
         },
         {
          "BiGG_ID": "MALS",
          "author": "Millard",
          "relative_error": null,
          "sample_id": "gpmA"
         },
         {
          "BiGG_ID": "MDH",
          "author": "Millard",
          "relative_error": null,
          "sample_id": "gpmA"
         },
         {
          "BiGG_ID": "PDH",
          "author": "Millard",
          "relative_error": null,
          "sample_id": "gpmA"
         },
         {
          "BiGG_ID": "PGI",
          "author": "Millard",
          "relative_error": null,
          "sample_id": "gpmA"
         },
         {
          "BiGG_ID": "PGM",
          "author": "Millard",
          "relative_error": null,
          "sample_id": "gpmA"
         },
         {
          "BiGG_ID": "PPC",
          "author": "Millard",
          "relative_error": null,
          "sample_id": "gpmA"
         },
         {
          "BiGG_ID": "PTAr",
          "author": "Millard",
          "relative_error": null,
          "sample_id": "gpmA"
         },
         {
          "BiGG_ID": "PYK",
          "author": "Millard",
          "relative_error": null,
          "sample_id": "gpmA"
         },
         {
          "BiGG_ID": "RPE",
          "author": "Millard",
          "relative_error": null,
          "sample_id": "gpmA"
         },
         {
          "BiGG_ID": "RPI",
          "author": "Millard",
          "relative_error": null,
          "sample_id": "gpmA"
         },
         {
          "BiGG_ID": "SUCDi",
          "author": "Millard",
          "relative_error": null,
          "sample_id": "gpmA"
         },
         {
          "BiGG_ID": "TALA",
          "author": "Millard",
          "relative_error": null,
          "sample_id": "gpmA"
         },
         {
          "BiGG_ID": "TKT1",
          "author": "Millard",
          "relative_error": null,
          "sample_id": "gpmA"
         },
         {
          "BiGG_ID": "TPI",
          "author": "Millard",
          "relative_error": null,
          "sample_id": "gpmA"
         },
         {
          "BiGG_ID": "AKGDH",
          "author": "Millard",
          "relative_error": null,
          "sample_id": "gpmB"
         },
         {
          "BiGG_ID": "CS",
          "author": "Millard",
          "relative_error": null,
          "sample_id": "gpmB"
         },
         {
          "BiGG_ID": "EDA",
          "author": "Millard",
          "relative_error": null,
          "sample_id": "gpmB"
         },
         {
          "BiGG_ID": "FBA",
          "author": "Millard",
          "relative_error": null,
          "sample_id": "gpmB"
         },
         {
          "BiGG_ID": "FUM",
          "author": "Millard",
          "relative_error": null,
          "sample_id": "gpmB"
         },
         {
          "BiGG_ID": "G6PDH2r",
          "author": "Millard",
          "relative_error": null,
          "sample_id": "gpmB"
         },
         {
          "BiGG_ID": "GAPD",
          "author": "Millard",
          "relative_error": null,
          "sample_id": "gpmB"
         },
         {
          "BiGG_ID": "GLCptspp",
          "author": "Millard",
          "relative_error": null,
          "sample_id": "gpmB"
         },
         {
          "BiGG_ID": "GND",
          "author": "Millard",
          "relative_error": null,
          "sample_id": "gpmB"
         },
         {
          "BiGG_ID": "ICDHyr",
          "author": "Millard",
          "relative_error": null,
          "sample_id": "gpmB"
         },
         {
          "BiGG_ID": "ICL",
          "author": "Millard",
          "relative_error": null,
          "sample_id": "gpmB"
         },
         {
          "BiGG_ID": "MALS",
          "author": "Millard",
          "relative_error": null,
          "sample_id": "gpmB"
         },
         {
          "BiGG_ID": "MDH",
          "author": "Millard",
          "relative_error": null,
          "sample_id": "gpmB"
         },
         {
          "BiGG_ID": "PDH",
          "author": "Millard",
          "relative_error": null,
          "sample_id": "gpmB"
         },
         {
          "BiGG_ID": "PGI",
          "author": "Millard",
          "relative_error": null,
          "sample_id": "gpmB"
         },
         {
          "BiGG_ID": "PGM",
          "author": "Millard",
          "relative_error": null,
          "sample_id": "gpmB"
         },
         {
          "BiGG_ID": "PPC",
          "author": "Millard",
          "relative_error": null,
          "sample_id": "gpmB"
         },
         {
          "BiGG_ID": "PTAr",
          "author": "Millard",
          "relative_error": null,
          "sample_id": "gpmB"
         },
         {
          "BiGG_ID": "PYK",
          "author": "Millard",
          "relative_error": null,
          "sample_id": "gpmB"
         },
         {
          "BiGG_ID": "RPE",
          "author": "Millard",
          "relative_error": null,
          "sample_id": "gpmB"
         },
         {
          "BiGG_ID": "RPI",
          "author": "Millard",
          "relative_error": null,
          "sample_id": "gpmB"
         },
         {
          "BiGG_ID": "SUCDi",
          "author": "Millard",
          "relative_error": null,
          "sample_id": "gpmB"
         },
         {
          "BiGG_ID": "TALA",
          "author": "Millard",
          "relative_error": null,
          "sample_id": "gpmB"
         },
         {
          "BiGG_ID": "TKT1",
          "author": "Millard",
          "relative_error": null,
          "sample_id": "gpmB"
         },
         {
          "BiGG_ID": "TPI",
          "author": "Millard",
          "relative_error": null,
          "sample_id": "gpmB"
         },
         {
          "BiGG_ID": "AKGDH",
          "author": "Millard",
          "relative_error": 100,
          "sample_id": "pfkA"
         },
         {
          "BiGG_ID": "CS",
          "author": "Millard",
          "relative_error": 100,
          "sample_id": "pfkA"
         },
         {
          "BiGG_ID": "EDA",
          "author": "Millard",
          "relative_error": 0,
          "sample_id": "pfkA"
         },
         {
          "BiGG_ID": "FBA",
          "author": "Millard",
          "relative_error": 100,
          "sample_id": "pfkA"
         },
         {
          "BiGG_ID": "FUM",
          "author": "Millard",
          "relative_error": 100,
          "sample_id": "pfkA"
         },
         {
          "BiGG_ID": "G6PDH2r",
          "author": "Millard",
          "relative_error": 96.25792748038789,
          "sample_id": "pfkA"
         },
         {
          "BiGG_ID": "GAPD",
          "author": "Millard",
          "relative_error": 100,
          "sample_id": "pfkA"
         },
         {
          "BiGG_ID": "GLCptspp",
          "author": "Millard",
          "relative_error": 100,
          "sample_id": "pfkA"
         },
         {
          "BiGG_ID": "GND",
          "author": "Millard",
          "relative_error": 96.35632831163984,
          "sample_id": "pfkA"
         },
         {
          "BiGG_ID": "ICDHyr",
          "author": "Millard",
          "relative_error": 100,
          "sample_id": "pfkA"
         },
         {
          "BiGG_ID": "ICL",
          "author": "Millard",
          "relative_error": 100,
          "sample_id": "pfkA"
         },
         {
          "BiGG_ID": "MALS",
          "author": "Millard",
          "relative_error": 100,
          "sample_id": "pfkA"
         },
         {
          "BiGG_ID": "MDH",
          "author": "Millard",
          "relative_error": 100,
          "sample_id": "pfkA"
         },
         {
          "BiGG_ID": "PDH",
          "author": "Millard",
          "relative_error": 100,
          "sample_id": "pfkA"
         },
         {
          "BiGG_ID": "PGI",
          "author": "Millard",
          "relative_error": 100.6235014421418,
          "sample_id": "pfkA"
         },
         {
          "BiGG_ID": "PGM",
          "author": "Millard",
          "relative_error": 100,
          "sample_id": "pfkA"
         },
         {
          "BiGG_ID": "PPC",
          "author": "Millard",
          "relative_error": 100,
          "sample_id": "pfkA"
         },
         {
          "BiGG_ID": "PTAr",
          "author": "Millard",
          "relative_error": 0,
          "sample_id": "pfkA"
         },
         {
          "BiGG_ID": "PYK",
          "author": "Millard",
          "relative_error": 100,
          "sample_id": "pfkA"
         },
         {
          "BiGG_ID": "RPE",
          "author": "Millard",
          "relative_error": 89.98450094857277,
          "sample_id": "pfkA"
         },
         {
          "BiGG_ID": "RPI",
          "author": "Millard",
          "relative_error": 98.09271903843405,
          "sample_id": "pfkA"
         },
         {
          "BiGG_ID": "SUCDi",
          "author": "Millard",
          "relative_error": 100,
          "sample_id": "pfkA"
         },
         {
          "BiGG_ID": "TALA",
          "author": "Millard",
          "relative_error": 91.27243978536534,
          "sample_id": "pfkA"
         },
         {
          "BiGG_ID": "TKT1",
          "author": "Millard",
          "relative_error": 93.00278343632766,
          "sample_id": "pfkA"
         },
         {
          "BiGG_ID": "TPI",
          "author": "Millard",
          "relative_error": 100,
          "sample_id": "pfkA"
         },
         {
          "BiGG_ID": "AKGDH",
          "author": "Millard",
          "relative_error": 100,
          "sample_id": "pfkB"
         },
         {
          "BiGG_ID": "CS",
          "author": "Millard",
          "relative_error": 100,
          "sample_id": "pfkB"
         },
         {
          "BiGG_ID": "EDA",
          "author": "Millard",
          "relative_error": 0,
          "sample_id": "pfkB"
         },
         {
          "BiGG_ID": "FBA",
          "author": "Millard",
          "relative_error": 100,
          "sample_id": "pfkB"
         },
         {
          "BiGG_ID": "FUM",
          "author": "Millard",
          "relative_error": 100,
          "sample_id": "pfkB"
         },
         {
          "BiGG_ID": "G6PDH2r",
          "author": "Millard",
          "relative_error": 98.88534010054107,
          "sample_id": "pfkB"
         },
         {
          "BiGG_ID": "GAPD",
          "author": "Millard",
          "relative_error": 100,
          "sample_id": "pfkB"
         },
         {
          "BiGG_ID": "GLCptspp",
          "author": "Millard",
          "relative_error": 100,
          "sample_id": "pfkB"
         },
         {
          "BiGG_ID": "GND",
          "author": "Millard",
          "relative_error": 98.9146509864459,
          "sample_id": "pfkB"
         },
         {
          "BiGG_ID": "ICDHyr",
          "author": "Millard",
          "relative_error": 100,
          "sample_id": "pfkB"
         },
         {
          "BiGG_ID": "ICL",
          "author": "Millard",
          "relative_error": 100,
          "sample_id": "pfkB"
         },
         {
          "BiGG_ID": "MALS",
          "author": "Millard",
          "relative_error": 100,
          "sample_id": "pfkB"
         },
         {
          "BiGG_ID": "MDH",
          "author": "Millard",
          "relative_error": 100,
          "sample_id": "pfkB"
         },
         {
          "BiGG_ID": "PDH",
          "author": "Millard",
          "relative_error": 100,
          "sample_id": "pfkB"
         },
         {
          "BiGG_ID": "PGI",
          "author": "Millard",
          "relative_error": 101.00719463730596,
          "sample_id": "pfkB"
         },
         {
          "BiGG_ID": "PGM",
          "author": "Millard",
          "relative_error": 100,
          "sample_id": "pfkB"
         },
         {
          "BiGG_ID": "PPC",
          "author": "Millard",
          "relative_error": 0,
          "sample_id": "pfkB"
         },
         {
          "BiGG_ID": "PTAr",
          "author": "Millard",
          "relative_error": 0,
          "sample_id": "pfkB"
         },
         {
          "BiGG_ID": "PYK",
          "author": "Millard",
          "relative_error": 100,
          "sample_id": "pfkB"
         },
         {
          "BiGG_ID": "RPE",
          "author": "Millard",
          "relative_error": 98.79814011382874,
          "sample_id": "pfkB"
         },
         {
          "BiGG_ID": "RPI",
          "author": "Millard",
          "relative_error": 99.00094806775117,
          "sample_id": "pfkB"
         },
         {
          "BiGG_ID": "SUCDi",
          "author": "Millard",
          "relative_error": 100,
          "sample_id": "pfkB"
         },
         {
          "BiGG_ID": "TALA",
          "author": "Millard",
          "relative_error": 98.12980852543542,
          "sample_id": "pfkB"
         },
         {
          "BiGG_ID": "TKT1",
          "author": "Millard",
          "relative_error": 98.50059645064164,
          "sample_id": "pfkB"
         },
         {
          "BiGG_ID": "TPI",
          "author": "Millard",
          "relative_error": 100,
          "sample_id": "pfkB"
         },
         {
          "BiGG_ID": "AKGDH",
          "author": "Millard",
          "relative_error": 168.89999237717538,
          "sample_id": "pgi"
         },
         {
          "BiGG_ID": "CS",
          "author": "Millard",
          "relative_error": 115.36006219961155,
          "sample_id": "pgi"
         },
         {
          "BiGG_ID": "EDA",
          "author": "Millard",
          "relative_error": 16.380931702032928,
          "sample_id": "pgi"
         },
         {
          "BiGG_ID": "FBA",
          "author": "Millard",
          "relative_error": 0.6605750946059843,
          "sample_id": "pgi"
         },
         {
          "BiGG_ID": "FUM",
          "author": "Millard",
          "relative_error": 148.39451970280768,
          "sample_id": "pgi"
         },
         {
          "BiGG_ID": "G6PDH2r",
          "author": "Millard",
          "relative_error": 16.500772848528804,
          "sample_id": "pgi"
         },
         {
          "BiGG_ID": "GAPD",
          "author": "Millard",
          "relative_error": 3.8904974051515615,
          "sample_id": "pgi"
         },
         {
          "BiGG_ID": "GLCptspp",
          "author": "Millard",
          "relative_error": 0.23538777554267654,
          "sample_id": "pgi"
         },
         {
          "BiGG_ID": "GND",
          "author": "Millard",
          "relative_error": 16.615732034127028,
          "sample_id": "pgi"
         },
         {
          "BiGG_ID": "ICDHyr",
          "author": "Millard",
          "relative_error": 116.87789826316373,
          "sample_id": "pgi"
         },
         {
          "BiGG_ID": "ICL",
          "author": "Millard",
          "relative_error": 121.33499822592515,
          "sample_id": "pgi"
         },
         {
          "BiGG_ID": "MALS",
          "author": "Millard",
          "relative_error": 121.33512598995824,
          "sample_id": "pgi"
         },
         {
          "BiGG_ID": "MDH",
          "author": "Millard",
          "relative_error": 145.2117862109375,
          "sample_id": "pgi"
         },
         {
          "BiGG_ID": "PDH",
          "author": "Millard",
          "relative_error": 64.14997000045635,
          "sample_id": "pgi"
         },
         {
          "BiGG_ID": "PGI",
          "author": "Millard",
          "relative_error": 0,
          "sample_id": "pgi"
         },
         {
          "BiGG_ID": "PGM",
          "author": "Millard",
          "relative_error": 5.577119740071336,
          "sample_id": "pgi"
         },
         {
          "BiGG_ID": "PPC",
          "author": "Millard",
          "relative_error": 100,
          "sample_id": "pgi"
         },
         {
          "BiGG_ID": "PTAr",
          "author": "Millard",
          "relative_error": 100,
          "sample_id": "pgi"
         },
         {
          "BiGG_ID": "PYK",
          "author": "Millard",
          "relative_error": 1285.1893880522819,
          "sample_id": "pgi"
         },
         {
          "BiGG_ID": "RPE",
          "author": "Millard",
          "relative_error": 3.462278256442143,
          "sample_id": "pgi"
         },
         {
          "BiGG_ID": "RPI",
          "author": "Millard",
          "relative_error": 34.323364620793186,
          "sample_id": "pgi"
         },
         {
          "BiGG_ID": "SUCDi",
          "author": "Millard",
          "relative_error": 148.3943628566871,
          "sample_id": "pgi"
         },
         {
          "BiGG_ID": "TALA",
          "author": "Millard",
          "relative_error": 10.92474829729504,
          "sample_id": "pgi"
         },
         {
          "BiGG_ID": "TKT1",
          "author": "Millard",
          "relative_error": 10.923839365123685,
          "sample_id": "pgi"
         },
         {
          "BiGG_ID": "TPI",
          "author": "Millard",
          "relative_error": 0.6610000124492434,
          "sample_id": "pgi"
         },
         {
          "BiGG_ID": "AKGDH",
          "author": "Millard",
          "relative_error": 31.592824118059994,
          "sample_id": "pgl"
         },
         {
          "BiGG_ID": "CS",
          "author": "Millard",
          "relative_error": 15.11102100025406,
          "sample_id": "pgl"
         },
         {
          "BiGG_ID": "EDA",
          "author": "Millard",
          "relative_error": 100,
          "sample_id": "pgl"
         },
         {
          "BiGG_ID": "FBA",
          "author": "Millard",
          "relative_error": 7.731557606918761,
          "sample_id": "pgl"
         },
         {
          "BiGG_ID": "FUM",
          "author": "Millard",
          "relative_error": 17.181881689090144,
          "sample_id": "pgl"
         },
         {
          "BiGG_ID": "G6PDH2r",
          "author": "Millard",
          "relative_error": 98.19532113520579,
          "sample_id": "pgl"
         },
         {
          "BiGG_ID": "GAPD",
          "author": "Millard",
          "relative_error": 4.631826965216406,
          "sample_id": "pgl"
         },
         {
          "BiGG_ID": "GLCptspp",
          "author": "Millard",
          "relative_error": 5.243261114173947e-08,
          "sample_id": "pgl"
         },
         {
          "BiGG_ID": "GND",
          "author": "Millard",
          "relative_error": 100,
          "sample_id": "pgl"
         },
         {
          "BiGG_ID": "ICDHyr",
          "author": "Millard",
          "relative_error": 27.507784419205528,
          "sample_id": "pgl"
         },
         {
          "BiGG_ID": "ICL",
          "author": "Millard",
          "relative_error": 45.24901209821209,
          "sample_id": "pgl"
         },
         {
          "BiGG_ID": "MALS",
          "author": "Millard",
          "relative_error": 45.24898313160398,
          "sample_id": "pgl"
         },
         {
          "BiGG_ID": "MDH",
          "author": "Millard",
          "relative_error": 7.934698003473346,
          "sample_id": "pgl"
         },
         {
          "BiGG_ID": "PDH",
          "author": "Millard",
          "relative_error": 3.5960532485177055,
          "sample_id": "pgl"
         },
         {
          "BiGG_ID": "PGI",
          "author": "Millard",
          "relative_error": 25.902477705237825,
          "sample_id": "pgl"
         },
         {
          "BiGG_ID": "PGM",
          "author": "Millard",
          "relative_error": 5.284569741360114,
          "sample_id": "pgl"
         },
         {
          "BiGG_ID": "PPC",
          "author": "Millard",
          "relative_error": 578.0500839468452,
          "sample_id": "pgl"
         },
         {
          "BiGG_ID": "PTAr",
          "author": "Millard",
          "relative_error": 100,
          "sample_id": "pgl"
         },
         {
          "BiGG_ID": "PYK",
          "author": "Millard",
          "relative_error": 7.074103695450288,
          "sample_id": "pgl"
         },
         {
          "BiGG_ID": "RPE",
          "author": "Millard",
          "relative_error": 163.2471574658502,
          "sample_id": "pgl"
         },
         {
          "BiGG_ID": "RPI",
          "author": "Millard",
          "relative_error": 58.307977542646505,
          "sample_id": "pgl"
         },
         {
          "BiGG_ID": "SUCDi",
          "author": "Millard",
          "relative_error": 17.18179962778775,
          "sample_id": "pgl"
         },
         {
          "BiGG_ID": "TALA",
          "author": "Millard",
          "relative_error": 121.13788084163191,
          "sample_id": "pgl"
         },
         {
          "BiGG_ID": "TKT1",
          "author": "Millard",
          "relative_error": 163.19399235299022,
          "sample_id": "pgl"
         },
         {
          "BiGG_ID": "TPI",
          "author": "Millard",
          "relative_error": 7.731542331405682,
          "sample_id": "pgl"
         },
         {
          "BiGG_ID": "AKGDH",
          "author": "Millard",
          "relative_error": null,
          "sample_id": "pgm"
         },
         {
          "BiGG_ID": "CS",
          "author": "Millard",
          "relative_error": null,
          "sample_id": "pgm"
         },
         {
          "BiGG_ID": "EDA",
          "author": "Millard",
          "relative_error": null,
          "sample_id": "pgm"
         },
         {
          "BiGG_ID": "FBA",
          "author": "Millard",
          "relative_error": null,
          "sample_id": "pgm"
         },
         {
          "BiGG_ID": "FUM",
          "author": "Millard",
          "relative_error": null,
          "sample_id": "pgm"
         },
         {
          "BiGG_ID": "G6PDH2r",
          "author": "Millard",
          "relative_error": null,
          "sample_id": "pgm"
         },
         {
          "BiGG_ID": "GAPD",
          "author": "Millard",
          "relative_error": null,
          "sample_id": "pgm"
         },
         {
          "BiGG_ID": "GLCptspp",
          "author": "Millard",
          "relative_error": null,
          "sample_id": "pgm"
         },
         {
          "BiGG_ID": "GND",
          "author": "Millard",
          "relative_error": null,
          "sample_id": "pgm"
         },
         {
          "BiGG_ID": "ICDHyr",
          "author": "Millard",
          "relative_error": null,
          "sample_id": "pgm"
         },
         {
          "BiGG_ID": "ICL",
          "author": "Millard",
          "relative_error": null,
          "sample_id": "pgm"
         },
         {
          "BiGG_ID": "MALS",
          "author": "Millard",
          "relative_error": null,
          "sample_id": "pgm"
         },
         {
          "BiGG_ID": "MDH",
          "author": "Millard",
          "relative_error": null,
          "sample_id": "pgm"
         },
         {
          "BiGG_ID": "PDH",
          "author": "Millard",
          "relative_error": null,
          "sample_id": "pgm"
         },
         {
          "BiGG_ID": "PGI",
          "author": "Millard",
          "relative_error": null,
          "sample_id": "pgm"
         },
         {
          "BiGG_ID": "PGM",
          "author": "Millard",
          "relative_error": null,
          "sample_id": "pgm"
         },
         {
          "BiGG_ID": "PPC",
          "author": "Millard",
          "relative_error": null,
          "sample_id": "pgm"
         },
         {
          "BiGG_ID": "PTAr",
          "author": "Millard",
          "relative_error": null,
          "sample_id": "pgm"
         },
         {
          "BiGG_ID": "PYK",
          "author": "Millard",
          "relative_error": null,
          "sample_id": "pgm"
         },
         {
          "BiGG_ID": "RPE",
          "author": "Millard",
          "relative_error": null,
          "sample_id": "pgm"
         },
         {
          "BiGG_ID": "RPI",
          "author": "Millard",
          "relative_error": null,
          "sample_id": "pgm"
         },
         {
          "BiGG_ID": "SUCDi",
          "author": "Millard",
          "relative_error": null,
          "sample_id": "pgm"
         },
         {
          "BiGG_ID": "TALA",
          "author": "Millard",
          "relative_error": null,
          "sample_id": "pgm"
         },
         {
          "BiGG_ID": "TKT1",
          "author": "Millard",
          "relative_error": null,
          "sample_id": "pgm"
         },
         {
          "BiGG_ID": "TPI",
          "author": "Millard",
          "relative_error": null,
          "sample_id": "pgm"
         },
         {
          "BiGG_ID": "AKGDH",
          "author": "Millard",
          "relative_error": null,
          "sample_id": "ppc"
         },
         {
          "BiGG_ID": "CS",
          "author": "Millard",
          "relative_error": null,
          "sample_id": "ppc"
         },
         {
          "BiGG_ID": "EDA",
          "author": "Millard",
          "relative_error": null,
          "sample_id": "ppc"
         },
         {
          "BiGG_ID": "FBA",
          "author": "Millard",
          "relative_error": null,
          "sample_id": "ppc"
         },
         {
          "BiGG_ID": "FUM",
          "author": "Millard",
          "relative_error": null,
          "sample_id": "ppc"
         },
         {
          "BiGG_ID": "G6PDH2r",
          "author": "Millard",
          "relative_error": null,
          "sample_id": "ppc"
         },
         {
          "BiGG_ID": "GAPD",
          "author": "Millard",
          "relative_error": null,
          "sample_id": "ppc"
         },
         {
          "BiGG_ID": "GLCptspp",
          "author": "Millard",
          "relative_error": null,
          "sample_id": "ppc"
         },
         {
          "BiGG_ID": "GND",
          "author": "Millard",
          "relative_error": null,
          "sample_id": "ppc"
         },
         {
          "BiGG_ID": "ICDHyr",
          "author": "Millard",
          "relative_error": null,
          "sample_id": "ppc"
         },
         {
          "BiGG_ID": "ICL",
          "author": "Millard",
          "relative_error": null,
          "sample_id": "ppc"
         },
         {
          "BiGG_ID": "MALS",
          "author": "Millard",
          "relative_error": null,
          "sample_id": "ppc"
         },
         {
          "BiGG_ID": "MDH",
          "author": "Millard",
          "relative_error": null,
          "sample_id": "ppc"
         },
         {
          "BiGG_ID": "PDH",
          "author": "Millard",
          "relative_error": null,
          "sample_id": "ppc"
         },
         {
          "BiGG_ID": "PGI",
          "author": "Millard",
          "relative_error": null,
          "sample_id": "ppc"
         },
         {
          "BiGG_ID": "PGM",
          "author": "Millard",
          "relative_error": null,
          "sample_id": "ppc"
         },
         {
          "BiGG_ID": "PPC",
          "author": "Millard",
          "relative_error": null,
          "sample_id": "ppc"
         },
         {
          "BiGG_ID": "PTAr",
          "author": "Millard",
          "relative_error": null,
          "sample_id": "ppc"
         },
         {
          "BiGG_ID": "PYK",
          "author": "Millard",
          "relative_error": null,
          "sample_id": "ppc"
         },
         {
          "BiGG_ID": "RPE",
          "author": "Millard",
          "relative_error": null,
          "sample_id": "ppc"
         },
         {
          "BiGG_ID": "RPI",
          "author": "Millard",
          "relative_error": null,
          "sample_id": "ppc"
         },
         {
          "BiGG_ID": "SUCDi",
          "author": "Millard",
          "relative_error": null,
          "sample_id": "ppc"
         },
         {
          "BiGG_ID": "TALA",
          "author": "Millard",
          "relative_error": null,
          "sample_id": "ppc"
         },
         {
          "BiGG_ID": "TKT1",
          "author": "Millard",
          "relative_error": null,
          "sample_id": "ppc"
         },
         {
          "BiGG_ID": "TPI",
          "author": "Millard",
          "relative_error": null,
          "sample_id": "ppc"
         },
         {
          "BiGG_ID": "AKGDH",
          "author": "Millard",
          "relative_error": 39.792349242817984,
          "sample_id": "ppsA"
         },
         {
          "BiGG_ID": "CS",
          "author": "Millard",
          "relative_error": 9.843049132311519,
          "sample_id": "ppsA"
         },
         {
          "BiGG_ID": "EDA",
          "author": "Millard",
          "relative_error": 100,
          "sample_id": "ppsA"
         },
         {
          "BiGG_ID": "FBA",
          "author": "Millard",
          "relative_error": 0.35229685769624486,
          "sample_id": "ppsA"
         },
         {
          "BiGG_ID": "FUM",
          "author": "Millard",
          "relative_error": 12.148033256707292,
          "sample_id": "ppsA"
         },
         {
          "BiGG_ID": "G6PDH2r",
          "author": "Millard",
          "relative_error": 47.76623071389089,
          "sample_id": "ppsA"
         },
         {
          "BiGG_ID": "GAPD",
          "author": "Millard",
          "relative_error": 0.959754234677281,
          "sample_id": "ppsA"
         },
         {
          "BiGG_ID": "GLCptspp",
          "author": "Millard",
          "relative_error": 6.403979568858631e-10,
          "sample_id": "ppsA"
         },
         {
          "BiGG_ID": "GND",
          "author": "Millard",
          "relative_error": 67.07735512623458,
          "sample_id": "ppsA"
         },
         {
          "BiGG_ID": "ICDHyr",
          "author": "Millard",
          "relative_error": 34.945359366704444,
          "sample_id": "ppsA"
         },
         {
          "BiGG_ID": "ICL",
          "author": "Millard",
          "relative_error": 100,
          "sample_id": "ppsA"
         },
         {
          "BiGG_ID": "MALS",
          "author": "Millard",
          "relative_error": 100,
          "sample_id": "ppsA"
         },
         {
          "BiGG_ID": "MDH",
          "author": "Millard",
          "relative_error": 9.608091152750525,
          "sample_id": "ppsA"
         },
         {
          "BiGG_ID": "PDH",
          "author": "Millard",
          "relative_error": 15.474929376994083,
          "sample_id": "ppsA"
         },
         {
          "BiGG_ID": "PGI",
          "author": "Millard",
          "relative_error": 20.720127690926805,
          "sample_id": "ppsA"
         },
         {
          "BiGG_ID": "PGM",
          "author": "Millard",
          "relative_error": 2.5907451044112584,
          "sample_id": "ppsA"
         },
         {
          "BiGG_ID": "PPC",
          "author": "Millard",
          "relative_error": 12.088135276224863,
          "sample_id": "ppsA"
         },
         {
          "BiGG_ID": "PTAr",
          "author": "Millard",
          "relative_error": 100,
          "sample_id": "ppsA"
         },
         {
          "BiGG_ID": "PYK",
          "author": "Millard",
          "relative_error": 27.750050993290337,
          "sample_id": "ppsA"
         },
         {
          "BiGG_ID": "RPE",
          "author": "Millard",
          "relative_error": 94.72295421821974,
          "sample_id": "ppsA"
         },
         {
          "BiGG_ID": "RPI",
          "author": "Millard",
          "relative_error": 41.15960610599596,
          "sample_id": "ppsA"
         },
         {
          "BiGG_ID": "SUCDi",
          "author": "Millard",
          "relative_error": 12.148033295868306,
          "sample_id": "ppsA"
         },
         {
          "BiGG_ID": "TALA",
          "author": "Millard",
          "relative_error": 78.81891975348861,
          "sample_id": "ppsA"
         },
         {
          "BiGG_ID": "TKT1",
          "author": "Millard",
          "relative_error": 91.20492455535795,
          "sample_id": "ppsA"
         },
         {
          "BiGG_ID": "TPI",
          "author": "Millard",
          "relative_error": 0.3522968580095942,
          "sample_id": "ppsA"
         },
         {
          "BiGG_ID": "AKGDH",
          "author": "Millard",
          "relative_error": 100,
          "sample_id": "pts"
         },
         {
          "BiGG_ID": "CS",
          "author": "Millard",
          "relative_error": 100,
          "sample_id": "pts"
         },
         {
          "BiGG_ID": "EDA",
          "author": "Millard",
          "relative_error": 100,
          "sample_id": "pts"
         },
         {
          "BiGG_ID": "FBA",
          "author": "Millard",
          "relative_error": 100,
          "sample_id": "pts"
         },
         {
          "BiGG_ID": "FUM",
          "author": "Millard",
          "relative_error": 100,
          "sample_id": "pts"
         },
         {
          "BiGG_ID": "G6PDH2r",
          "author": "Millard",
          "relative_error": 100,
          "sample_id": "pts"
         },
         {
          "BiGG_ID": "GAPD",
          "author": "Millard",
          "relative_error": 100,
          "sample_id": "pts"
         },
         {
          "BiGG_ID": "GLCptspp",
          "author": "Millard",
          "relative_error": 100,
          "sample_id": "pts"
         },
         {
          "BiGG_ID": "GND",
          "author": "Millard",
          "relative_error": 100,
          "sample_id": "pts"
         },
         {
          "BiGG_ID": "ICDHyr",
          "author": "Millard",
          "relative_error": 100,
          "sample_id": "pts"
         },
         {
          "BiGG_ID": "ICL",
          "author": "Millard",
          "relative_error": 100,
          "sample_id": "pts"
         },
         {
          "BiGG_ID": "MALS",
          "author": "Millard",
          "relative_error": 100,
          "sample_id": "pts"
         },
         {
          "BiGG_ID": "MDH",
          "author": "Millard",
          "relative_error": 100,
          "sample_id": "pts"
         },
         {
          "BiGG_ID": "PDH",
          "author": "Millard",
          "relative_error": 100,
          "sample_id": "pts"
         },
         {
          "BiGG_ID": "PGI",
          "author": "Millard",
          "relative_error": 100,
          "sample_id": "pts"
         },
         {
          "BiGG_ID": "PGM",
          "author": "Millard",
          "relative_error": 100,
          "sample_id": "pts"
         },
         {
          "BiGG_ID": "PPC",
          "author": "Millard",
          "relative_error": 100,
          "sample_id": "pts"
         },
         {
          "BiGG_ID": "PTAr",
          "author": "Millard",
          "relative_error": null,
          "sample_id": "pts"
         },
         {
          "BiGG_ID": "PYK",
          "author": "Millard",
          "relative_error": 100,
          "sample_id": "pts"
         },
         {
          "BiGG_ID": "RPE",
          "author": "Millard",
          "relative_error": 100,
          "sample_id": "pts"
         },
         {
          "BiGG_ID": "RPI",
          "author": "Millard",
          "relative_error": 100,
          "sample_id": "pts"
         },
         {
          "BiGG_ID": "SUCDi",
          "author": "Millard",
          "relative_error": 100,
          "sample_id": "pts"
         },
         {
          "BiGG_ID": "TALA",
          "author": "Millard",
          "relative_error": 100,
          "sample_id": "pts"
         },
         {
          "BiGG_ID": "TKT1",
          "author": "Millard",
          "relative_error": 100,
          "sample_id": "pts"
         },
         {
          "BiGG_ID": "TPI",
          "author": "Millard",
          "relative_error": 100,
          "sample_id": "pts"
         },
         {
          "BiGG_ID": "AKGDH",
          "author": "Millard",
          "relative_error": 46.23574984592697,
          "sample_id": "pykA"
         },
         {
          "BiGG_ID": "CS",
          "author": "Millard",
          "relative_error": 35.73800742819097,
          "sample_id": "pykA"
         },
         {
          "BiGG_ID": "EDA",
          "author": "Millard",
          "relative_error": 100,
          "sample_id": "pykA"
         },
         {
          "BiGG_ID": "FBA",
          "author": "Millard",
          "relative_error": 13.407043108840355,
          "sample_id": "pykA"
         },
         {
          "BiGG_ID": "FUM",
          "author": "Millard",
          "relative_error": 42.234681630604896,
          "sample_id": "pykA"
         },
         {
          "BiGG_ID": "G6PDH2r",
          "author": "Millard",
          "relative_error": 40.658721385597055,
          "sample_id": "pykA"
         },
         {
          "BiGG_ID": "GAPD",
          "author": "Millard",
          "relative_error": 7.98979803294762,
          "sample_id": "pykA"
         },
         {
          "BiGG_ID": "GLCptspp",
          "author": "Millard",
          "relative_error": 4.053219981869916e-10,
          "sample_id": "pykA"
         },
         {
          "BiGG_ID": "GND",
          "author": "Millard",
          "relative_error": 1.586852446610439,
          "sample_id": "pykA"
         },
         {
          "BiGG_ID": "ICDHyr",
          "author": "Millard",
          "relative_error": 36.558860186341605,
          "sample_id": "pykA"
         },
         {
          "BiGG_ID": "ICL",
          "author": "Millard",
          "relative_error": 32.77381679360743,
          "sample_id": "pykA"
         },
         {
          "BiGG_ID": "MALS",
          "author": "Millard",
          "relative_error": 32.773816778562356,
          "sample_id": "pykA"
         },
         {
          "BiGG_ID": "MDH",
          "author": "Millard",
          "relative_error": 62.8172387292013,
          "sample_id": "pykA"
         },
         {
          "BiGG_ID": "PDH",
          "author": "Millard",
          "relative_error": 20.765727992343002,
          "sample_id": "pykA"
         },
         {
          "BiGG_ID": "PGI",
          "author": "Millard",
          "relative_error": 13.205597518549112,
          "sample_id": "pykA"
         },
         {
          "BiGG_ID": "PGM",
          "author": "Millard",
          "relative_error": 11.408725794492636,
          "sample_id": "pykA"
         },
         {
          "BiGG_ID": "PPC",
          "author": "Millard",
          "relative_error": 54.31698770052314,
          "sample_id": "pykA"
         },
         {
          "BiGG_ID": "PTAr",
          "author": "Millard",
          "relative_error": 100,
          "sample_id": "pykA"
         },
         {
          "BiGG_ID": "PYK",
          "author": "Millard",
          "relative_error": 100,
          "sample_id": "pykA"
         },
         {
          "BiGG_ID": "RPE",
          "author": "Millard",
          "relative_error": 7.952742109730479,
          "sample_id": "pykA"
         },
         {
          "BiGG_ID": "RPI",
          "author": "Millard",
          "relative_error": 8.40084774413715,
          "sample_id": "pykA"
         },
         {
          "BiGG_ID": "SUCDi",
          "author": "Millard",
          "relative_error": 42.234681608462495,
          "sample_id": "pykA"
         },
         {
          "BiGG_ID": "TALA",
          "author": "Millard",
          "relative_error": 8.952333713389697,
          "sample_id": "pykA"
         },
         {
          "BiGG_ID": "TKT1",
          "author": "Millard",
          "relative_error": 8.952332290955336,
          "sample_id": "pykA"
         },
         {
          "BiGG_ID": "TPI",
          "author": "Millard",
          "relative_error": 13.407043061069214,
          "sample_id": "pykA"
         },
         {
          "BiGG_ID": "AKGDH",
          "author": "Millard",
          "relative_error": null,
          "sample_id": "pykAF"
         },
         {
          "BiGG_ID": "CS",
          "author": "Millard",
          "relative_error": null,
          "sample_id": "pykAF"
         },
         {
          "BiGG_ID": "EDA",
          "author": "Millard",
          "relative_error": null,
          "sample_id": "pykAF"
         },
         {
          "BiGG_ID": "FBA",
          "author": "Millard",
          "relative_error": null,
          "sample_id": "pykAF"
         },
         {
          "BiGG_ID": "FUM",
          "author": "Millard",
          "relative_error": null,
          "sample_id": "pykAF"
         },
         {
          "BiGG_ID": "G6PDH2r",
          "author": "Millard",
          "relative_error": null,
          "sample_id": "pykAF"
         },
         {
          "BiGG_ID": "GAPD",
          "author": "Millard",
          "relative_error": null,
          "sample_id": "pykAF"
         },
         {
          "BiGG_ID": "GLCptspp",
          "author": "Millard",
          "relative_error": null,
          "sample_id": "pykAF"
         },
         {
          "BiGG_ID": "GND",
          "author": "Millard",
          "relative_error": null,
          "sample_id": "pykAF"
         },
         {
          "BiGG_ID": "ICDHyr",
          "author": "Millard",
          "relative_error": null,
          "sample_id": "pykAF"
         },
         {
          "BiGG_ID": "ICL",
          "author": "Millard",
          "relative_error": null,
          "sample_id": "pykAF"
         },
         {
          "BiGG_ID": "MALS",
          "author": "Millard",
          "relative_error": null,
          "sample_id": "pykAF"
         },
         {
          "BiGG_ID": "MDH",
          "author": "Millard",
          "relative_error": null,
          "sample_id": "pykAF"
         },
         {
          "BiGG_ID": "PDH",
          "author": "Millard",
          "relative_error": null,
          "sample_id": "pykAF"
         },
         {
          "BiGG_ID": "PGI",
          "author": "Millard",
          "relative_error": null,
          "sample_id": "pykAF"
         },
         {
          "BiGG_ID": "PGM",
          "author": "Millard",
          "relative_error": null,
          "sample_id": "pykAF"
         },
         {
          "BiGG_ID": "PPC",
          "author": "Millard",
          "relative_error": null,
          "sample_id": "pykAF"
         },
         {
          "BiGG_ID": "PTAr",
          "author": "Millard",
          "relative_error": null,
          "sample_id": "pykAF"
         },
         {
          "BiGG_ID": "PYK",
          "author": "Millard",
          "relative_error": null,
          "sample_id": "pykAF"
         },
         {
          "BiGG_ID": "RPE",
          "author": "Millard",
          "relative_error": null,
          "sample_id": "pykAF"
         },
         {
          "BiGG_ID": "RPI",
          "author": "Millard",
          "relative_error": null,
          "sample_id": "pykAF"
         },
         {
          "BiGG_ID": "SUCDi",
          "author": "Millard",
          "relative_error": null,
          "sample_id": "pykAF"
         },
         {
          "BiGG_ID": "TALA",
          "author": "Millard",
          "relative_error": null,
          "sample_id": "pykAF"
         },
         {
          "BiGG_ID": "TKT1",
          "author": "Millard",
          "relative_error": null,
          "sample_id": "pykAF"
         },
         {
          "BiGG_ID": "TPI",
          "author": "Millard",
          "relative_error": null,
          "sample_id": "pykAF"
         },
         {
          "BiGG_ID": "AKGDH",
          "author": "Millard",
          "relative_error": 9.865815918171673,
          "sample_id": "pykF"
         },
         {
          "BiGG_ID": "CS",
          "author": "Millard",
          "relative_error": 26.934994747121237,
          "sample_id": "pykF"
         },
         {
          "BiGG_ID": "EDA",
          "author": "Millard",
          "relative_error": 100,
          "sample_id": "pykF"
         },
         {
          "BiGG_ID": "FBA",
          "author": "Millard",
          "relative_error": 3.015888281901198,
          "sample_id": "pykF"
         },
         {
          "BiGG_ID": "FUM",
          "author": "Millard",
          "relative_error": 33.20885063538691,
          "sample_id": "pykF"
         },
         {
          "BiGG_ID": "G6PDH2r",
          "author": "Millard",
          "relative_error": 35.080590129724435,
          "sample_id": "pykF"
         },
         {
          "BiGG_ID": "GAPD",
          "author": "Millard",
          "relative_error": 2.8463705937956236,
          "sample_id": "pykF"
         },
         {
          "BiGG_ID": "GLCptspp",
          "author": "Millard",
          "relative_error": 4.053219981869916e-10,
          "sample_id": "pykF"
         },
         {
          "BiGG_ID": "GND",
          "author": "Millard",
          "relative_error": 53.11376040925671,
          "sample_id": "pykF"
         },
         {
          "BiGG_ID": "ICDHyr",
          "author": "Millard",
          "relative_error": 4.100602607260559,
          "sample_id": "pykF"
         },
         {
          "BiGG_ID": "ICL",
          "author": "Millard",
          "relative_error": 59.66429007616445,
          "sample_id": "pykF"
         },
         {
          "BiGG_ID": "MALS",
          "author": "Millard",
          "relative_error": 59.664290067137415,
          "sample_id": "pykF"
         },
         {
          "BiGG_ID": "MDH",
          "author": "Millard",
          "relative_error": 60.68029842628183,
          "sample_id": "pykF"
         },
         {
          "BiGG_ID": "PDH",
          "author": "Millard",
          "relative_error": 22.566506901607937,
          "sample_id": "pykF"
         },
         {
          "BiGG_ID": "PGI",
          "author": "Millard",
          "relative_error": 36.65501667292268,
          "sample_id": "pykF"
         },
         {
          "BiGG_ID": "PGM",
          "author": "Millard",
          "relative_error": 5.502640847458811,
          "sample_id": "pykF"
         },
         {
          "BiGG_ID": "PPC",
          "author": "Millard",
          "relative_error": 100,
          "sample_id": "pykF"
         },
         {
          "BiGG_ID": "PTAr",
          "author": "Millard",
          "relative_error": 100,
          "sample_id": "pykF"
         },
         {
          "BiGG_ID": "PYK",
          "author": "Millard",
          "relative_error": 100,
          "sample_id": "pykF"
         },
         {
          "BiGG_ID": "RPE",
          "author": "Millard",
          "relative_error": 68.25956624473464,
          "sample_id": "pykF"
         },
         {
          "BiGG_ID": "RPI",
          "author": "Millard",
          "relative_error": 34.01687528617739,
          "sample_id": "pykF"
         },
         {
          "BiGG_ID": "SUCDi",
          "author": "Millard",
          "relative_error": 33.208850609784754,
          "sample_id": "pykF"
         },
         {
          "BiGG_ID": "TALA",
          "author": "Millard",
          "relative_error": 60.166645999607994,
          "sample_id": "pykF"
         },
         {
          "BiGG_ID": "TKT1",
          "author": "Millard",
          "relative_error": 60.16664537729296,
          "sample_id": "pykF"
         },
         {
          "BiGG_ID": "TPI",
          "author": "Millard",
          "relative_error": 3.015888228397519,
          "sample_id": "pykF"
         },
         {
          "BiGG_ID": "AKGDH",
          "author": "Millard",
          "relative_error": 56.89454146053692,
          "sample_id": "rpe"
         },
         {
          "BiGG_ID": "CS",
          "author": "Millard",
          "relative_error": 34.272550904361445,
          "sample_id": "rpe"
         },
         {
          "BiGG_ID": "EDA",
          "author": "Millard",
          "relative_error": 100,
          "sample_id": "rpe"
         },
         {
          "BiGG_ID": "FBA",
          "author": "Millard",
          "relative_error": 11.43168127493124,
          "sample_id": "rpe"
         },
         {
          "BiGG_ID": "FUM",
          "author": "Millard",
          "relative_error": 39.53716049672877,
          "sample_id": "rpe"
         },
         {
          "BiGG_ID": "G6PDH2r",
          "author": "Millard",
          "relative_error": 129.92757738817667,
          "sample_id": "rpe"
         },
         {
          "BiGG_ID": "GAPD",
          "author": "Millard",
          "relative_error": 7.796990691496266,
          "sample_id": "rpe"
         },
         {
          "BiGG_ID": "GLCptspp",
          "author": "Millard",
          "relative_error": 1.5470931202798965e-09,
          "sample_id": "rpe"
         },
         {
          "BiGG_ID": "GND",
          "author": "Millard",
          "relative_error": 35.08514494566712,
          "sample_id": "rpe"
         },
         {
          "BiGG_ID": "ICDHyr",
          "author": "Millard",
          "relative_error": 50.02847239395953,
          "sample_id": "rpe"
         },
         {
          "BiGG_ID": "ICL",
          "author": "Millard",
          "relative_error": 52.848426760332245,
          "sample_id": "rpe"
         },
         {
          "BiGG_ID": "MALS",
          "author": "Millard",
          "relative_error": 52.84842675798639,
          "sample_id": "rpe"
         },
         {
          "BiGG_ID": "MDH",
          "author": "Millard",
          "relative_error": 31.890065676729705,
          "sample_id": "rpe"
         },
         {
          "BiGG_ID": "PDH",
          "author": "Millard",
          "relative_error": 13.837689509532341,
          "sample_id": "rpe"
         },
         {
          "BiGG_ID": "PGI",
          "author": "Millard",
          "relative_error": 10.756593099392289,
          "sample_id": "rpe"
         },
         {
          "BiGG_ID": "PGM",
          "author": "Millard",
          "relative_error": 11.117278452595732,
          "sample_id": "rpe"
         },
         {
          "BiGG_ID": "PPC",
          "author": "Millard",
          "relative_error": 100,
          "sample_id": "rpe"
         },
         {
          "BiGG_ID": "PTAr",
          "author": "Millard",
          "relative_error": 100,
          "sample_id": "rpe"
         },
         {
          "BiGG_ID": "PYK",
          "author": "Millard",
          "relative_error": 37.60157554387075,
          "sample_id": "rpe"
         },
         {
          "BiGG_ID": "RPE",
          "author": "Millard",
          "relative_error": 0,
          "sample_id": "rpe"
         },
         {
          "BiGG_ID": "RPI",
          "author": "Millard",
          "relative_error": 35.085143377488414,
          "sample_id": "rpe"
         },
         {
          "BiGG_ID": "SUCDi",
          "author": "Millard",
          "relative_error": 39.53716049820375,
          "sample_id": "rpe"
         },
         {
          "BiGG_ID": "TALA",
          "author": "Millard",
          "relative_error": 58.375687935684795,
          "sample_id": "rpe"
         },
         {
          "BiGG_ID": "TKT1",
          "author": "Millard",
          "relative_error": 100,
          "sample_id": "rpe"
         },
         {
          "BiGG_ID": "TPI",
          "author": "Millard",
          "relative_error": 11.431681270622725,
          "sample_id": "rpe"
         },
         {
          "BiGG_ID": "AKGDH",
          "author": "Millard",
          "relative_error": 52.227014815385566,
          "sample_id": "rpiA"
         },
         {
          "BiGG_ID": "CS",
          "author": "Millard",
          "relative_error": 14.294679715561356,
          "sample_id": "rpiA"
         },
         {
          "BiGG_ID": "EDA",
          "author": "Millard",
          "relative_error": 5.965168339244329,
          "sample_id": "rpiA"
         },
         {
          "BiGG_ID": "FBA",
          "author": "Millard",
          "relative_error": 0.450820404059922,
          "sample_id": "rpiA"
         },
         {
          "BiGG_ID": "FUM",
          "author": "Millard",
          "relative_error": 4.0582730726100325,
          "sample_id": "rpiA"
         },
         {
          "BiGG_ID": "G6PDH2r",
          "author": "Millard",
          "relative_error": 35.318103286472144,
          "sample_id": "rpiA"
         },
         {
          "BiGG_ID": "GAPD",
          "author": "Millard",
          "relative_error": 3.277313897953224,
          "sample_id": "rpiA"
         },
         {
          "BiGG_ID": "GLCptspp",
          "author": "Millard",
          "relative_error": 9.571579084877158e-10,
          "sample_id": "rpiA"
         },
         {
          "BiGG_ID": "GND",
          "author": "Millard",
          "relative_error": 97.84328201150657,
          "sample_id": "rpiA"
         },
         {
          "BiGG_ID": "ICDHyr",
          "author": "Millard",
          "relative_error": 43.003570263071694,
          "sample_id": "rpiA"
         },
         {
          "BiGG_ID": "ICL",
          "author": "Millard",
          "relative_error": 100,
          "sample_id": "rpiA"
         },
         {
          "BiGG_ID": "MALS",
          "author": "Millard",
          "relative_error": 100,
          "sample_id": "rpiA"
         },
         {
          "BiGG_ID": "MDH",
          "author": "Millard",
          "relative_error": 20.457070202475055,
          "sample_id": "rpiA"
         },
         {
          "BiGG_ID": "PDH",
          "author": "Millard",
          "relative_error": 13.73320861798573,
          "sample_id": "rpiA"
         },
         {
          "BiGG_ID": "PGI",
          "author": "Millard",
          "relative_error": 14.138669865975148,
          "sample_id": "rpiA"
         },
         {
          "BiGG_ID": "PGM",
          "author": "Millard",
          "relative_error": 0.5546187599344344,
          "sample_id": "rpiA"
         },
         {
          "BiGG_ID": "PPC",
          "author": "Millard",
          "relative_error": 100,
          "sample_id": "rpiA"
         },
         {
          "BiGG_ID": "PTAr",
          "author": "Millard",
          "relative_error": 100,
          "sample_id": "rpiA"
         },
         {
          "BiGG_ID": "PYK",
          "author": "Millard",
          "relative_error": 66.39951192626188,
          "sample_id": "rpiA"
         },
         {
          "BiGG_ID": "RPE",
          "author": "Millard",
          "relative_error": 184.51901075435794,
          "sample_id": "rpiA"
         },
         {
          "BiGG_ID": "RPI",
          "author": "Millard",
          "relative_error": 100,
          "sample_id": "rpiA"
         },
         {
          "BiGG_ID": "SUCDi",
          "author": "Millard",
          "relative_error": 4.05835685146173,
          "sample_id": "rpiA"
         },
         {
          "BiGG_ID": "TALA",
          "author": "Millard",
          "relative_error": 193.99060664780043,
          "sample_id": "rpiA"
         },
         {
          "BiGG_ID": "TKT1",
          "author": "Millard",
          "relative_error": 231.5463500735707,
          "sample_id": "rpiA"
         },
         {
          "BiGG_ID": "TPI",
          "author": "Millard",
          "relative_error": 0.4506157495881205,
          "sample_id": "rpiA"
         },
         {
          "BiGG_ID": "AKGDH",
          "author": "Millard",
          "relative_error": 15.372053333765907,
          "sample_id": "rpiB"
         },
         {
          "BiGG_ID": "CS",
          "author": "Millard",
          "relative_error": 2.8652117440052196,
          "sample_id": "rpiB"
         },
         {
          "BiGG_ID": "EDA",
          "author": "Millard",
          "relative_error": 100,
          "sample_id": "rpiB"
         },
         {
          "BiGG_ID": "FBA",
          "author": "Millard",
          "relative_error": 13.051982378229551,
          "sample_id": "rpiB"
         },
         {
          "BiGG_ID": "FUM",
          "author": "Millard",
          "relative_error": 15.128472333462723,
          "sample_id": "rpiB"
         },
         {
          "BiGG_ID": "G6PDH2r",
          "author": "Millard",
          "relative_error": 58.22627503917993,
          "sample_id": "rpiB"
         },
         {
          "BiGG_ID": "GAPD",
          "author": "Millard",
          "relative_error": 10.145196934784947,
          "sample_id": "rpiB"
         },
         {
          "BiGG_ID": "GLCptspp",
          "author": "Millard",
          "relative_error": 9.571579084877158e-10,
          "sample_id": "rpiB"
         },
         {
          "BiGG_ID": "GND",
          "author": "Millard",
          "relative_error": 99.46082050287664,
          "sample_id": "rpiB"
         },
         {
          "BiGG_ID": "ICDHyr",
          "author": "Millard",
          "relative_error": 11.854277730521426,
          "sample_id": "rpiB"
         },
         {
          "BiGG_ID": "ICL",
          "author": "Millard",
          "relative_error": 100,
          "sample_id": "rpiB"
         },
         {
          "BiGG_ID": "MALS",
          "author": "Millard",
          "relative_error": 100,
          "sample_id": "rpiB"
         },
         {
          "BiGG_ID": "MDH",
          "author": "Millard",
          "relative_error": 21.1672749328101,
          "sample_id": "rpiB"
         },
         {
          "BiGG_ID": "PDH",
          "author": "Millard",
          "relative_error": 9.357356881216889,
          "sample_id": "rpiB"
         },
         {
          "BiGG_ID": "PGI",
          "author": "Millard",
          "relative_error": 49.94688002000657,
          "sample_id": "rpiB"
         },
         {
          "BiGG_ID": "PGM",
          "author": "Millard",
          "relative_error": 9.14866405228578,
          "sample_id": "rpiB"
         },
         {
          "BiGG_ID": "PPC",
          "author": "Millard",
          "relative_error": 693.6794415089084,
          "sample_id": "rpiB"
         },
         {
          "BiGG_ID": "PTAr",
          "author": "Millard",
          "relative_error": 100,
          "sample_id": "rpiB"
         },
         {
          "BiGG_ID": "PYK",
          "author": "Millard",
          "relative_error": 70.92265455157278,
          "sample_id": "rpiB"
         },
         {
          "BiGG_ID": "RPE",
          "author": "Millard",
          "relative_error": 109.05560829510978,
          "sample_id": "rpiB"
         },
         {
          "BiGG_ID": "RPI",
          "author": "Millard",
          "relative_error": 100,
          "sample_id": "rpiB"
         },
         {
          "BiGG_ID": "SUCDi",
          "author": "Millard",
          "relative_error": 15.128546445523838,
          "sample_id": "rpiB"
         },
         {
          "BiGG_ID": "TALA",
          "author": "Millard",
          "relative_error": 118.79812132956009,
          "sample_id": "rpiB"
         },
         {
          "BiGG_ID": "TKT1",
          "author": "Millard",
          "relative_error": 126.30927001471414,
          "sample_id": "rpiB"
         },
         {
          "BiGG_ID": "TPI",
          "author": "Millard",
          "relative_error": 13.051803629387093,
          "sample_id": "rpiB"
         },
         {
          "BiGG_ID": "AKGDH",
          "author": "Millard",
          "relative_error": null,
          "sample_id": "sdhCD"
         },
         {
          "BiGG_ID": "CS",
          "author": "Millard",
          "relative_error": null,
          "sample_id": "sdhCD"
         },
         {
          "BiGG_ID": "EDA",
          "author": "Millard",
          "relative_error": null,
          "sample_id": "sdhCD"
         },
         {
          "BiGG_ID": "FBA",
          "author": "Millard",
          "relative_error": null,
          "sample_id": "sdhCD"
         },
         {
          "BiGG_ID": "FUM",
          "author": "Millard",
          "relative_error": 100,
          "sample_id": "sdhCD"
         },
         {
          "BiGG_ID": "G6PDH2r",
          "author": "Millard",
          "relative_error": null,
          "sample_id": "sdhCD"
         },
         {
          "BiGG_ID": "GAPD",
          "author": "Millard",
          "relative_error": null,
          "sample_id": "sdhCD"
         },
         {
          "BiGG_ID": "GLCptspp",
          "author": "Millard",
          "relative_error": null,
          "sample_id": "sdhCD"
         },
         {
          "BiGG_ID": "GND",
          "author": "Millard",
          "relative_error": null,
          "sample_id": "sdhCD"
         },
         {
          "BiGG_ID": "ICDHyr",
          "author": "Millard",
          "relative_error": null,
          "sample_id": "sdhCD"
         },
         {
          "BiGG_ID": "ICL",
          "author": "Millard",
          "relative_error": 100,
          "sample_id": "sdhCD"
         },
         {
          "BiGG_ID": "MALS",
          "author": "Millard",
          "relative_error": 100,
          "sample_id": "sdhCD"
         },
         {
          "BiGG_ID": "MDH",
          "author": "Millard",
          "relative_error": 100,
          "sample_id": "sdhCD"
         },
         {
          "BiGG_ID": "PDH",
          "author": "Millard",
          "relative_error": null,
          "sample_id": "sdhCD"
         },
         {
          "BiGG_ID": "PGI",
          "author": "Millard",
          "relative_error": null,
          "sample_id": "sdhCD"
         },
         {
          "BiGG_ID": "PGM",
          "author": "Millard",
          "relative_error": null,
          "sample_id": "sdhCD"
         },
         {
          "BiGG_ID": "PPC",
          "author": "Millard",
          "relative_error": null,
          "sample_id": "sdhCD"
         },
         {
          "BiGG_ID": "PTAr",
          "author": "Millard",
          "relative_error": null,
          "sample_id": "sdhCD"
         },
         {
          "BiGG_ID": "PYK",
          "author": "Millard",
          "relative_error": 100,
          "sample_id": "sdhCD"
         },
         {
          "BiGG_ID": "RPE",
          "author": "Millard",
          "relative_error": null,
          "sample_id": "sdhCD"
         },
         {
          "BiGG_ID": "RPI",
          "author": "Millard",
          "relative_error": null,
          "sample_id": "sdhCD"
         },
         {
          "BiGG_ID": "SUCDi",
          "author": "Millard",
          "relative_error": 100,
          "sample_id": "sdhCD"
         },
         {
          "BiGG_ID": "TALA",
          "author": "Millard",
          "relative_error": null,
          "sample_id": "sdhCD"
         },
         {
          "BiGG_ID": "TKT1",
          "author": "Millard",
          "relative_error": null,
          "sample_id": "sdhCD"
         },
         {
          "BiGG_ID": "TPI",
          "author": "Millard",
          "relative_error": null,
          "sample_id": "sdhCD"
         },
         {
          "BiGG_ID": "AKGDH",
          "author": "Millard",
          "relative_error": 100,
          "sample_id": "sucA"
         },
         {
          "BiGG_ID": "CS",
          "author": "Millard",
          "relative_error": 100,
          "sample_id": "sucA"
         },
         {
          "BiGG_ID": "EDA",
          "author": "Millard",
          "relative_error": 100,
          "sample_id": "sucA"
         },
         {
          "BiGG_ID": "FBA",
          "author": "Millard",
          "relative_error": 100,
          "sample_id": "sucA"
         },
         {
          "BiGG_ID": "FUM",
          "author": "Millard",
          "relative_error": 100,
          "sample_id": "sucA"
         },
         {
          "BiGG_ID": "G6PDH2r",
          "author": "Millard",
          "relative_error": null,
          "sample_id": "sucA"
         },
         {
          "BiGG_ID": "GAPD",
          "author": "Millard",
          "relative_error": 100,
          "sample_id": "sucA"
         },
         {
          "BiGG_ID": "GLCptspp",
          "author": "Millard",
          "relative_error": 100,
          "sample_id": "sucA"
         },
         {
          "BiGG_ID": "GND",
          "author": "Millard",
          "relative_error": null,
          "sample_id": "sucA"
         },
         {
          "BiGG_ID": "ICDHyr",
          "author": "Millard",
          "relative_error": 100,
          "sample_id": "sucA"
         },
         {
          "BiGG_ID": "ICL",
          "author": "Millard",
          "relative_error": 100,
          "sample_id": "sucA"
         },
         {
          "BiGG_ID": "MALS",
          "author": "Millard",
          "relative_error": 100,
          "sample_id": "sucA"
         },
         {
          "BiGG_ID": "MDH",
          "author": "Millard",
          "relative_error": 100,
          "sample_id": "sucA"
         },
         {
          "BiGG_ID": "PDH",
          "author": "Millard",
          "relative_error": 100,
          "sample_id": "sucA"
         },
         {
          "BiGG_ID": "PGI",
          "author": "Millard",
          "relative_error": null,
          "sample_id": "sucA"
         },
         {
          "BiGG_ID": "PGM",
          "author": "Millard",
          "relative_error": 100,
          "sample_id": "sucA"
         },
         {
          "BiGG_ID": "PPC",
          "author": "Millard",
          "relative_error": 100,
          "sample_id": "sucA"
         },
         {
          "BiGG_ID": "PTAr",
          "author": "Millard",
          "relative_error": 100,
          "sample_id": "sucA"
         },
         {
          "BiGG_ID": "PYK",
          "author": "Millard",
          "relative_error": 100,
          "sample_id": "sucA"
         },
         {
          "BiGG_ID": "RPE",
          "author": "Millard",
          "relative_error": null,
          "sample_id": "sucA"
         },
         {
          "BiGG_ID": "RPI",
          "author": "Millard",
          "relative_error": null,
          "sample_id": "sucA"
         },
         {
          "BiGG_ID": "SUCDi",
          "author": "Millard",
          "relative_error": 100,
          "sample_id": "sucA"
         },
         {
          "BiGG_ID": "TALA",
          "author": "Millard",
          "relative_error": null,
          "sample_id": "sucA"
         },
         {
          "BiGG_ID": "TKT1",
          "author": "Millard",
          "relative_error": null,
          "sample_id": "sucA"
         },
         {
          "BiGG_ID": "TPI",
          "author": "Millard",
          "relative_error": 100,
          "sample_id": "sucA"
         },
         {
          "BiGG_ID": "AKGDH",
          "author": "Millard",
          "relative_error": null,
          "sample_id": "sucAB"
         },
         {
          "BiGG_ID": "CS",
          "author": "Millard",
          "relative_error": null,
          "sample_id": "sucAB"
         },
         {
          "BiGG_ID": "EDA",
          "author": "Millard",
          "relative_error": null,
          "sample_id": "sucAB"
         },
         {
          "BiGG_ID": "FBA",
          "author": "Millard",
          "relative_error": null,
          "sample_id": "sucAB"
         },
         {
          "BiGG_ID": "FUM",
          "author": "Millard",
          "relative_error": null,
          "sample_id": "sucAB"
         },
         {
          "BiGG_ID": "G6PDH2r",
          "author": "Millard",
          "relative_error": null,
          "sample_id": "sucAB"
         },
         {
          "BiGG_ID": "GAPD",
          "author": "Millard",
          "relative_error": null,
          "sample_id": "sucAB"
         },
         {
          "BiGG_ID": "GLCptspp",
          "author": "Millard",
          "relative_error": null,
          "sample_id": "sucAB"
         },
         {
          "BiGG_ID": "GND",
          "author": "Millard",
          "relative_error": null,
          "sample_id": "sucAB"
         },
         {
          "BiGG_ID": "ICDHyr",
          "author": "Millard",
          "relative_error": null,
          "sample_id": "sucAB"
         },
         {
          "BiGG_ID": "ICL",
          "author": "Millard",
          "relative_error": null,
          "sample_id": "sucAB"
         },
         {
          "BiGG_ID": "MALS",
          "author": "Millard",
          "relative_error": null,
          "sample_id": "sucAB"
         },
         {
          "BiGG_ID": "MDH",
          "author": "Millard",
          "relative_error": null,
          "sample_id": "sucAB"
         },
         {
          "BiGG_ID": "PDH",
          "author": "Millard",
          "relative_error": null,
          "sample_id": "sucAB"
         },
         {
          "BiGG_ID": "PGI",
          "author": "Millard",
          "relative_error": null,
          "sample_id": "sucAB"
         },
         {
          "BiGG_ID": "PGM",
          "author": "Millard",
          "relative_error": null,
          "sample_id": "sucAB"
         },
         {
          "BiGG_ID": "PPC",
          "author": "Millard",
          "relative_error": null,
          "sample_id": "sucAB"
         },
         {
          "BiGG_ID": "PTAr",
          "author": "Millard",
          "relative_error": null,
          "sample_id": "sucAB"
         },
         {
          "BiGG_ID": "PYK",
          "author": "Millard",
          "relative_error": null,
          "sample_id": "sucAB"
         },
         {
          "BiGG_ID": "RPE",
          "author": "Millard",
          "relative_error": null,
          "sample_id": "sucAB"
         },
         {
          "BiGG_ID": "RPI",
          "author": "Millard",
          "relative_error": null,
          "sample_id": "sucAB"
         },
         {
          "BiGG_ID": "SUCDi",
          "author": "Millard",
          "relative_error": null,
          "sample_id": "sucAB"
         },
         {
          "BiGG_ID": "TALA",
          "author": "Millard",
          "relative_error": null,
          "sample_id": "sucAB"
         },
         {
          "BiGG_ID": "TKT1",
          "author": "Millard",
          "relative_error": null,
          "sample_id": "sucAB"
         },
         {
          "BiGG_ID": "TPI",
          "author": "Millard",
          "relative_error": null,
          "sample_id": "sucAB"
         },
         {
          "BiGG_ID": "AKGDH",
          "author": "Millard",
          "relative_error": null,
          "sample_id": "talA"
         },
         {
          "BiGG_ID": "CS",
          "author": "Millard",
          "relative_error": null,
          "sample_id": "talA"
         },
         {
          "BiGG_ID": "EDA",
          "author": "Millard",
          "relative_error": null,
          "sample_id": "talA"
         },
         {
          "BiGG_ID": "FBA",
          "author": "Millard",
          "relative_error": null,
          "sample_id": "talA"
         },
         {
          "BiGG_ID": "FUM",
          "author": "Millard",
          "relative_error": null,
          "sample_id": "talA"
         },
         {
          "BiGG_ID": "G6PDH2r",
          "author": "Millard",
          "relative_error": null,
          "sample_id": "talA"
         },
         {
          "BiGG_ID": "GAPD",
          "author": "Millard",
          "relative_error": null,
          "sample_id": "talA"
         },
         {
          "BiGG_ID": "GLCptspp",
          "author": "Millard",
          "relative_error": null,
          "sample_id": "talA"
         },
         {
          "BiGG_ID": "GND",
          "author": "Millard",
          "relative_error": null,
          "sample_id": "talA"
         },
         {
          "BiGG_ID": "ICDHyr",
          "author": "Millard",
          "relative_error": null,
          "sample_id": "talA"
         },
         {
          "BiGG_ID": "ICL",
          "author": "Millard",
          "relative_error": null,
          "sample_id": "talA"
         },
         {
          "BiGG_ID": "MALS",
          "author": "Millard",
          "relative_error": null,
          "sample_id": "talA"
         },
         {
          "BiGG_ID": "MDH",
          "author": "Millard",
          "relative_error": null,
          "sample_id": "talA"
         },
         {
          "BiGG_ID": "PDH",
          "author": "Millard",
          "relative_error": null,
          "sample_id": "talA"
         },
         {
          "BiGG_ID": "PGI",
          "author": "Millard",
          "relative_error": null,
          "sample_id": "talA"
         },
         {
          "BiGG_ID": "PGM",
          "author": "Millard",
          "relative_error": null,
          "sample_id": "talA"
         },
         {
          "BiGG_ID": "PPC",
          "author": "Millard",
          "relative_error": null,
          "sample_id": "talA"
         },
         {
          "BiGG_ID": "PTAr",
          "author": "Millard",
          "relative_error": null,
          "sample_id": "talA"
         },
         {
          "BiGG_ID": "PYK",
          "author": "Millard",
          "relative_error": null,
          "sample_id": "talA"
         },
         {
          "BiGG_ID": "RPE",
          "author": "Millard",
          "relative_error": null,
          "sample_id": "talA"
         },
         {
          "BiGG_ID": "RPI",
          "author": "Millard",
          "relative_error": null,
          "sample_id": "talA"
         },
         {
          "BiGG_ID": "SUCDi",
          "author": "Millard",
          "relative_error": null,
          "sample_id": "talA"
         },
         {
          "BiGG_ID": "TALA",
          "author": "Millard",
          "relative_error": null,
          "sample_id": "talA"
         },
         {
          "BiGG_ID": "TKT1",
          "author": "Millard",
          "relative_error": null,
          "sample_id": "talA"
         },
         {
          "BiGG_ID": "TPI",
          "author": "Millard",
          "relative_error": null,
          "sample_id": "talA"
         },
         {
          "BiGG_ID": "AKGDH",
          "author": "Millard",
          "relative_error": null,
          "sample_id": "talAB"
         },
         {
          "BiGG_ID": "CS",
          "author": "Millard",
          "relative_error": null,
          "sample_id": "talAB"
         },
         {
          "BiGG_ID": "EDA",
          "author": "Millard",
          "relative_error": null,
          "sample_id": "talAB"
         },
         {
          "BiGG_ID": "FBA",
          "author": "Millard",
          "relative_error": null,
          "sample_id": "talAB"
         },
         {
          "BiGG_ID": "FUM",
          "author": "Millard",
          "relative_error": null,
          "sample_id": "talAB"
         },
         {
          "BiGG_ID": "G6PDH2r",
          "author": "Millard",
          "relative_error": null,
          "sample_id": "talAB"
         },
         {
          "BiGG_ID": "GAPD",
          "author": "Millard",
          "relative_error": null,
          "sample_id": "talAB"
         },
         {
          "BiGG_ID": "GLCptspp",
          "author": "Millard",
          "relative_error": null,
          "sample_id": "talAB"
         },
         {
          "BiGG_ID": "GND",
          "author": "Millard",
          "relative_error": null,
          "sample_id": "talAB"
         },
         {
          "BiGG_ID": "ICDHyr",
          "author": "Millard",
          "relative_error": null,
          "sample_id": "talAB"
         },
         {
          "BiGG_ID": "ICL",
          "author": "Millard",
          "relative_error": null,
          "sample_id": "talAB"
         },
         {
          "BiGG_ID": "MALS",
          "author": "Millard",
          "relative_error": null,
          "sample_id": "talAB"
         },
         {
          "BiGG_ID": "MDH",
          "author": "Millard",
          "relative_error": null,
          "sample_id": "talAB"
         },
         {
          "BiGG_ID": "PDH",
          "author": "Millard",
          "relative_error": null,
          "sample_id": "talAB"
         },
         {
          "BiGG_ID": "PGI",
          "author": "Millard",
          "relative_error": null,
          "sample_id": "talAB"
         },
         {
          "BiGG_ID": "PGM",
          "author": "Millard",
          "relative_error": null,
          "sample_id": "talAB"
         },
         {
          "BiGG_ID": "PPC",
          "author": "Millard",
          "relative_error": null,
          "sample_id": "talAB"
         },
         {
          "BiGG_ID": "PTAr",
          "author": "Millard",
          "relative_error": null,
          "sample_id": "talAB"
         },
         {
          "BiGG_ID": "PYK",
          "author": "Millard",
          "relative_error": null,
          "sample_id": "talAB"
         },
         {
          "BiGG_ID": "RPE",
          "author": "Millard",
          "relative_error": null,
          "sample_id": "talAB"
         },
         {
          "BiGG_ID": "RPI",
          "author": "Millard",
          "relative_error": null,
          "sample_id": "talAB"
         },
         {
          "BiGG_ID": "SUCDi",
          "author": "Millard",
          "relative_error": null,
          "sample_id": "talAB"
         },
         {
          "BiGG_ID": "TALA",
          "author": "Millard",
          "relative_error": 100,
          "sample_id": "talAB"
         },
         {
          "BiGG_ID": "TKT1",
          "author": "Millard",
          "relative_error": null,
          "sample_id": "talAB"
         },
         {
          "BiGG_ID": "TPI",
          "author": "Millard",
          "relative_error": null,
          "sample_id": "talAB"
         },
         {
          "BiGG_ID": "AKGDH",
          "author": "Millard",
          "relative_error": null,
          "sample_id": "talB"
         },
         {
          "BiGG_ID": "CS",
          "author": "Millard",
          "relative_error": null,
          "sample_id": "talB"
         },
         {
          "BiGG_ID": "EDA",
          "author": "Millard",
          "relative_error": null,
          "sample_id": "talB"
         },
         {
          "BiGG_ID": "FBA",
          "author": "Millard",
          "relative_error": null,
          "sample_id": "talB"
         },
         {
          "BiGG_ID": "FUM",
          "author": "Millard",
          "relative_error": null,
          "sample_id": "talB"
         },
         {
          "BiGG_ID": "G6PDH2r",
          "author": "Millard",
          "relative_error": null,
          "sample_id": "talB"
         },
         {
          "BiGG_ID": "GAPD",
          "author": "Millard",
          "relative_error": null,
          "sample_id": "talB"
         },
         {
          "BiGG_ID": "GLCptspp",
          "author": "Millard",
          "relative_error": null,
          "sample_id": "talB"
         },
         {
          "BiGG_ID": "GND",
          "author": "Millard",
          "relative_error": null,
          "sample_id": "talB"
         },
         {
          "BiGG_ID": "ICDHyr",
          "author": "Millard",
          "relative_error": null,
          "sample_id": "talB"
         },
         {
          "BiGG_ID": "ICL",
          "author": "Millard",
          "relative_error": null,
          "sample_id": "talB"
         },
         {
          "BiGG_ID": "MALS",
          "author": "Millard",
          "relative_error": null,
          "sample_id": "talB"
         },
         {
          "BiGG_ID": "MDH",
          "author": "Millard",
          "relative_error": null,
          "sample_id": "talB"
         },
         {
          "BiGG_ID": "PDH",
          "author": "Millard",
          "relative_error": null,
          "sample_id": "talB"
         },
         {
          "BiGG_ID": "PGI",
          "author": "Millard",
          "relative_error": null,
          "sample_id": "talB"
         },
         {
          "BiGG_ID": "PGM",
          "author": "Millard",
          "relative_error": null,
          "sample_id": "talB"
         },
         {
          "BiGG_ID": "PPC",
          "author": "Millard",
          "relative_error": null,
          "sample_id": "talB"
         },
         {
          "BiGG_ID": "PTAr",
          "author": "Millard",
          "relative_error": null,
          "sample_id": "talB"
         },
         {
          "BiGG_ID": "PYK",
          "author": "Millard",
          "relative_error": null,
          "sample_id": "talB"
         },
         {
          "BiGG_ID": "RPE",
          "author": "Millard",
          "relative_error": null,
          "sample_id": "talB"
         },
         {
          "BiGG_ID": "RPI",
          "author": "Millard",
          "relative_error": null,
          "sample_id": "talB"
         },
         {
          "BiGG_ID": "SUCDi",
          "author": "Millard",
          "relative_error": null,
          "sample_id": "talB"
         },
         {
          "BiGG_ID": "TALA",
          "author": "Millard",
          "relative_error": null,
          "sample_id": "talB"
         },
         {
          "BiGG_ID": "TKT1",
          "author": "Millard",
          "relative_error": null,
          "sample_id": "talB"
         },
         {
          "BiGG_ID": "TPI",
          "author": "Millard",
          "relative_error": null,
          "sample_id": "talB"
         },
         {
          "BiGG_ID": "AKGDH",
          "author": "Millard",
          "relative_error": null,
          "sample_id": "tkt1"
         },
         {
          "BiGG_ID": "CS",
          "author": "Millard",
          "relative_error": null,
          "sample_id": "tkt1"
         },
         {
          "BiGG_ID": "EDA",
          "author": "Millard",
          "relative_error": null,
          "sample_id": "tkt1"
         },
         {
          "BiGG_ID": "FBA",
          "author": "Millard",
          "relative_error": null,
          "sample_id": "tkt1"
         },
         {
          "BiGG_ID": "FUM",
          "author": "Millard",
          "relative_error": null,
          "sample_id": "tkt1"
         },
         {
          "BiGG_ID": "G6PDH2r",
          "author": "Millard",
          "relative_error": null,
          "sample_id": "tkt1"
         },
         {
          "BiGG_ID": "GAPD",
          "author": "Millard",
          "relative_error": null,
          "sample_id": "tkt1"
         },
         {
          "BiGG_ID": "GLCptspp",
          "author": "Millard",
          "relative_error": null,
          "sample_id": "tkt1"
         },
         {
          "BiGG_ID": "GND",
          "author": "Millard",
          "relative_error": null,
          "sample_id": "tkt1"
         },
         {
          "BiGG_ID": "ICDHyr",
          "author": "Millard",
          "relative_error": null,
          "sample_id": "tkt1"
         },
         {
          "BiGG_ID": "ICL",
          "author": "Millard",
          "relative_error": null,
          "sample_id": "tkt1"
         },
         {
          "BiGG_ID": "MALS",
          "author": "Millard",
          "relative_error": null,
          "sample_id": "tkt1"
         },
         {
          "BiGG_ID": "MDH",
          "author": "Millard",
          "relative_error": null,
          "sample_id": "tkt1"
         },
         {
          "BiGG_ID": "PDH",
          "author": "Millard",
          "relative_error": null,
          "sample_id": "tkt1"
         },
         {
          "BiGG_ID": "PGI",
          "author": "Millard",
          "relative_error": null,
          "sample_id": "tkt1"
         },
         {
          "BiGG_ID": "PGM",
          "author": "Millard",
          "relative_error": null,
          "sample_id": "tkt1"
         },
         {
          "BiGG_ID": "PPC",
          "author": "Millard",
          "relative_error": null,
          "sample_id": "tkt1"
         },
         {
          "BiGG_ID": "PTAr",
          "author": "Millard",
          "relative_error": null,
          "sample_id": "tkt1"
         },
         {
          "BiGG_ID": "PYK",
          "author": "Millard",
          "relative_error": null,
          "sample_id": "tkt1"
         },
         {
          "BiGG_ID": "RPE",
          "author": "Millard",
          "relative_error": null,
          "sample_id": "tkt1"
         },
         {
          "BiGG_ID": "RPI",
          "author": "Millard",
          "relative_error": null,
          "sample_id": "tkt1"
         },
         {
          "BiGG_ID": "SUCDi",
          "author": "Millard",
          "relative_error": null,
          "sample_id": "tkt1"
         },
         {
          "BiGG_ID": "TALA",
          "author": "Millard",
          "relative_error": null,
          "sample_id": "tkt1"
         },
         {
          "BiGG_ID": "TKT1",
          "author": "Millard",
          "relative_error": 100,
          "sample_id": "tkt1"
         },
         {
          "BiGG_ID": "TPI",
          "author": "Millard",
          "relative_error": null,
          "sample_id": "tkt1"
         },
         {
          "BiGG_ID": "AKGDH",
          "author": "Millard",
          "relative_error": null,
          "sample_id": "tkt2"
         },
         {
          "BiGG_ID": "CS",
          "author": "Millard",
          "relative_error": null,
          "sample_id": "tkt2"
         },
         {
          "BiGG_ID": "EDA",
          "author": "Millard",
          "relative_error": null,
          "sample_id": "tkt2"
         },
         {
          "BiGG_ID": "FBA",
          "author": "Millard",
          "relative_error": null,
          "sample_id": "tkt2"
         },
         {
          "BiGG_ID": "FUM",
          "author": "Millard",
          "relative_error": null,
          "sample_id": "tkt2"
         },
         {
          "BiGG_ID": "G6PDH2r",
          "author": "Millard",
          "relative_error": null,
          "sample_id": "tkt2"
         },
         {
          "BiGG_ID": "GAPD",
          "author": "Millard",
          "relative_error": null,
          "sample_id": "tkt2"
         },
         {
          "BiGG_ID": "GLCptspp",
          "author": "Millard",
          "relative_error": null,
          "sample_id": "tkt2"
         },
         {
          "BiGG_ID": "GND",
          "author": "Millard",
          "relative_error": null,
          "sample_id": "tkt2"
         },
         {
          "BiGG_ID": "ICDHyr",
          "author": "Millard",
          "relative_error": null,
          "sample_id": "tkt2"
         },
         {
          "BiGG_ID": "ICL",
          "author": "Millard",
          "relative_error": null,
          "sample_id": "tkt2"
         },
         {
          "BiGG_ID": "MALS",
          "author": "Millard",
          "relative_error": null,
          "sample_id": "tkt2"
         },
         {
          "BiGG_ID": "MDH",
          "author": "Millard",
          "relative_error": null,
          "sample_id": "tkt2"
         },
         {
          "BiGG_ID": "PDH",
          "author": "Millard",
          "relative_error": null,
          "sample_id": "tkt2"
         },
         {
          "BiGG_ID": "PGI",
          "author": "Millard",
          "relative_error": null,
          "sample_id": "tkt2"
         },
         {
          "BiGG_ID": "PGM",
          "author": "Millard",
          "relative_error": null,
          "sample_id": "tkt2"
         },
         {
          "BiGG_ID": "PPC",
          "author": "Millard",
          "relative_error": null,
          "sample_id": "tkt2"
         },
         {
          "BiGG_ID": "PTAr",
          "author": "Millard",
          "relative_error": null,
          "sample_id": "tkt2"
         },
         {
          "BiGG_ID": "PYK",
          "author": "Millard",
          "relative_error": null,
          "sample_id": "tkt2"
         },
         {
          "BiGG_ID": "RPE",
          "author": "Millard",
          "relative_error": null,
          "sample_id": "tkt2"
         },
         {
          "BiGG_ID": "RPI",
          "author": "Millard",
          "relative_error": null,
          "sample_id": "tkt2"
         },
         {
          "BiGG_ID": "SUCDi",
          "author": "Millard",
          "relative_error": null,
          "sample_id": "tkt2"
         },
         {
          "BiGG_ID": "TALA",
          "author": "Millard",
          "relative_error": null,
          "sample_id": "tkt2"
         },
         {
          "BiGG_ID": "TKT1",
          "author": "Millard",
          "relative_error": null,
          "sample_id": "tkt2"
         },
         {
          "BiGG_ID": "TPI",
          "author": "Millard",
          "relative_error": null,
          "sample_id": "tkt2"
         },
         {
          "BiGG_ID": "AKGDH",
          "author": "Millard",
          "relative_error": null,
          "sample_id": "tktA"
         },
         {
          "BiGG_ID": "CS",
          "author": "Millard",
          "relative_error": null,
          "sample_id": "tktA"
         },
         {
          "BiGG_ID": "EDA",
          "author": "Millard",
          "relative_error": null,
          "sample_id": "tktA"
         },
         {
          "BiGG_ID": "FBA",
          "author": "Millard",
          "relative_error": null,
          "sample_id": "tktA"
         },
         {
          "BiGG_ID": "FUM",
          "author": "Millard",
          "relative_error": null,
          "sample_id": "tktA"
         },
         {
          "BiGG_ID": "G6PDH2r",
          "author": "Millard",
          "relative_error": null,
          "sample_id": "tktA"
         },
         {
          "BiGG_ID": "GAPD",
          "author": "Millard",
          "relative_error": null,
          "sample_id": "tktA"
         },
         {
          "BiGG_ID": "GLCptspp",
          "author": "Millard",
          "relative_error": null,
          "sample_id": "tktA"
         },
         {
          "BiGG_ID": "GND",
          "author": "Millard",
          "relative_error": null,
          "sample_id": "tktA"
         },
         {
          "BiGG_ID": "ICDHyr",
          "author": "Millard",
          "relative_error": null,
          "sample_id": "tktA"
         },
         {
          "BiGG_ID": "ICL",
          "author": "Millard",
          "relative_error": null,
          "sample_id": "tktA"
         },
         {
          "BiGG_ID": "MALS",
          "author": "Millard",
          "relative_error": null,
          "sample_id": "tktA"
         },
         {
          "BiGG_ID": "MDH",
          "author": "Millard",
          "relative_error": null,
          "sample_id": "tktA"
         },
         {
          "BiGG_ID": "PDH",
          "author": "Millard",
          "relative_error": null,
          "sample_id": "tktA"
         },
         {
          "BiGG_ID": "PGI",
          "author": "Millard",
          "relative_error": null,
          "sample_id": "tktA"
         },
         {
          "BiGG_ID": "PGM",
          "author": "Millard",
          "relative_error": null,
          "sample_id": "tktA"
         },
         {
          "BiGG_ID": "PPC",
          "author": "Millard",
          "relative_error": null,
          "sample_id": "tktA"
         },
         {
          "BiGG_ID": "PTAr",
          "author": "Millard",
          "relative_error": null,
          "sample_id": "tktA"
         },
         {
          "BiGG_ID": "PYK",
          "author": "Millard",
          "relative_error": null,
          "sample_id": "tktA"
         },
         {
          "BiGG_ID": "RPE",
          "author": "Millard",
          "relative_error": null,
          "sample_id": "tktA"
         },
         {
          "BiGG_ID": "RPI",
          "author": "Millard",
          "relative_error": null,
          "sample_id": "tktA"
         },
         {
          "BiGG_ID": "SUCDi",
          "author": "Millard",
          "relative_error": null,
          "sample_id": "tktA"
         },
         {
          "BiGG_ID": "TALA",
          "author": "Millard",
          "relative_error": null,
          "sample_id": "tktA"
         },
         {
          "BiGG_ID": "TKT1",
          "author": "Millard",
          "relative_error": null,
          "sample_id": "tktA"
         },
         {
          "BiGG_ID": "TPI",
          "author": "Millard",
          "relative_error": null,
          "sample_id": "tktA"
         },
         {
          "BiGG_ID": "AKGDH",
          "author": "Millard",
          "relative_error": null,
          "sample_id": "tktB"
         },
         {
          "BiGG_ID": "CS",
          "author": "Millard",
          "relative_error": null,
          "sample_id": "tktB"
         },
         {
          "BiGG_ID": "EDA",
          "author": "Millard",
          "relative_error": null,
          "sample_id": "tktB"
         },
         {
          "BiGG_ID": "FBA",
          "author": "Millard",
          "relative_error": null,
          "sample_id": "tktB"
         },
         {
          "BiGG_ID": "FUM",
          "author": "Millard",
          "relative_error": null,
          "sample_id": "tktB"
         },
         {
          "BiGG_ID": "G6PDH2r",
          "author": "Millard",
          "relative_error": null,
          "sample_id": "tktB"
         },
         {
          "BiGG_ID": "GAPD",
          "author": "Millard",
          "relative_error": null,
          "sample_id": "tktB"
         },
         {
          "BiGG_ID": "GLCptspp",
          "author": "Millard",
          "relative_error": null,
          "sample_id": "tktB"
         },
         {
          "BiGG_ID": "GND",
          "author": "Millard",
          "relative_error": null,
          "sample_id": "tktB"
         },
         {
          "BiGG_ID": "ICDHyr",
          "author": "Millard",
          "relative_error": null,
          "sample_id": "tktB"
         },
         {
          "BiGG_ID": "ICL",
          "author": "Millard",
          "relative_error": null,
          "sample_id": "tktB"
         },
         {
          "BiGG_ID": "MALS",
          "author": "Millard",
          "relative_error": null,
          "sample_id": "tktB"
         },
         {
          "BiGG_ID": "MDH",
          "author": "Millard",
          "relative_error": null,
          "sample_id": "tktB"
         },
         {
          "BiGG_ID": "PDH",
          "author": "Millard",
          "relative_error": null,
          "sample_id": "tktB"
         },
         {
          "BiGG_ID": "PGI",
          "author": "Millard",
          "relative_error": null,
          "sample_id": "tktB"
         },
         {
          "BiGG_ID": "PGM",
          "author": "Millard",
          "relative_error": null,
          "sample_id": "tktB"
         },
         {
          "BiGG_ID": "PPC",
          "author": "Millard",
          "relative_error": null,
          "sample_id": "tktB"
         },
         {
          "BiGG_ID": "PTAr",
          "author": "Millard",
          "relative_error": null,
          "sample_id": "tktB"
         },
         {
          "BiGG_ID": "PYK",
          "author": "Millard",
          "relative_error": null,
          "sample_id": "tktB"
         },
         {
          "BiGG_ID": "RPE",
          "author": "Millard",
          "relative_error": null,
          "sample_id": "tktB"
         },
         {
          "BiGG_ID": "RPI",
          "author": "Millard",
          "relative_error": null,
          "sample_id": "tktB"
         },
         {
          "BiGG_ID": "SUCDi",
          "author": "Millard",
          "relative_error": null,
          "sample_id": "tktB"
         },
         {
          "BiGG_ID": "TALA",
          "author": "Millard",
          "relative_error": null,
          "sample_id": "tktB"
         },
         {
          "BiGG_ID": "TKT1",
          "author": "Millard",
          "relative_error": null,
          "sample_id": "tktB"
         },
         {
          "BiGG_ID": "TPI",
          "author": "Millard",
          "relative_error": null,
          "sample_id": "tktB"
         },
         {
          "BiGG_ID": "AKGDH",
          "author": "Millard",
          "relative_error": 100,
          "sample_id": "tpi"
         },
         {
          "BiGG_ID": "CS",
          "author": "Millard",
          "relative_error": 100,
          "sample_id": "tpi"
         },
         {
          "BiGG_ID": "EDA",
          "author": "Millard",
          "relative_error": null,
          "sample_id": "tpi"
         },
         {
          "BiGG_ID": "FBA",
          "author": "Millard",
          "relative_error": null,
          "sample_id": "tpi"
         },
         {
          "BiGG_ID": "FUM",
          "author": "Millard",
          "relative_error": 100,
          "sample_id": "tpi"
         },
         {
          "BiGG_ID": "G6PDH2r",
          "author": "Millard",
          "relative_error": null,
          "sample_id": "tpi"
         },
         {
          "BiGG_ID": "GAPD",
          "author": "Millard",
          "relative_error": null,
          "sample_id": "tpi"
         },
         {
          "BiGG_ID": "GLCptspp",
          "author": "Millard",
          "relative_error": 100,
          "sample_id": "tpi"
         },
         {
          "BiGG_ID": "GND",
          "author": "Millard",
          "relative_error": null,
          "sample_id": "tpi"
         },
         {
          "BiGG_ID": "ICDHyr",
          "author": "Millard",
          "relative_error": 100,
          "sample_id": "tpi"
         },
         {
          "BiGG_ID": "ICL",
          "author": "Millard",
          "relative_error": 100,
          "sample_id": "tpi"
         },
         {
          "BiGG_ID": "MALS",
          "author": "Millard",
          "relative_error": 100,
          "sample_id": "tpi"
         },
         {
          "BiGG_ID": "MDH",
          "author": "Millard",
          "relative_error": 100,
          "sample_id": "tpi"
         },
         {
          "BiGG_ID": "PDH",
          "author": "Millard",
          "relative_error": null,
          "sample_id": "tpi"
         },
         {
          "BiGG_ID": "PGI",
          "author": "Millard",
          "relative_error": null,
          "sample_id": "tpi"
         },
         {
          "BiGG_ID": "PGM",
          "author": "Millard",
          "relative_error": 100,
          "sample_id": "tpi"
         },
         {
          "BiGG_ID": "PPC",
          "author": "Millard",
          "relative_error": 100,
          "sample_id": "tpi"
         },
         {
          "BiGG_ID": "PTAr",
          "author": "Millard",
          "relative_error": null,
          "sample_id": "tpi"
         },
         {
          "BiGG_ID": "PYK",
          "author": "Millard",
          "relative_error": 100,
          "sample_id": "tpi"
         },
         {
          "BiGG_ID": "RPE",
          "author": "Millard",
          "relative_error": null,
          "sample_id": "tpi"
         },
         {
          "BiGG_ID": "RPI",
          "author": "Millard",
          "relative_error": null,
          "sample_id": "tpi"
         },
         {
          "BiGG_ID": "SUCDi",
          "author": "Millard",
          "relative_error": 100,
          "sample_id": "tpi"
         },
         {
          "BiGG_ID": "TALA",
          "author": "Millard",
          "relative_error": null,
          "sample_id": "tpi"
         },
         {
          "BiGG_ID": "TKT1",
          "author": "Millard",
          "relative_error": null,
          "sample_id": "tpi"
         },
         {
          "BiGG_ID": "TPI",
          "author": "Millard",
          "relative_error": 100,
          "sample_id": "tpi"
         },
         {
          "BiGG_ID": "AKGDH",
          "author": "Millard",
          "relative_error": 25.462982516375316,
          "sample_id": "zwf"
         },
         {
          "BiGG_ID": "CS",
          "author": "Millard",
          "relative_error": 21.496245620408715,
          "sample_id": "zwf"
         },
         {
          "BiGG_ID": "EDA",
          "author": "Millard",
          "relative_error": 0,
          "sample_id": "zwf"
         },
         {
          "BiGG_ID": "FBA",
          "author": "Millard",
          "relative_error": 1.5417074613070987,
          "sample_id": "zwf"
         },
         {
          "BiGG_ID": "FUM",
          "author": "Millard",
          "relative_error": 24.474820026756426,
          "sample_id": "zwf"
         },
         {
          "BiGG_ID": "G6PDH2r",
          "author": "Millard",
          "relative_error": 0,
          "sample_id": "zwf"
         },
         {
          "BiGG_ID": "GAPD",
          "author": "Millard",
          "relative_error": 1.9182681911762065,
          "sample_id": "zwf"
         },
         {
          "BiGG_ID": "GLCptspp",
          "author": "Millard",
          "relative_error": 4.476419235288631e-12,
          "sample_id": "zwf"
         },
         {
          "BiGG_ID": "GND",
          "author": "Millard",
          "relative_error": 0,
          "sample_id": "zwf"
         },
         {
          "BiGG_ID": "ICDHyr",
          "author": "Millard",
          "relative_error": 21.32221326135387,
          "sample_id": "zwf"
         },
         {
          "BiGG_ID": "ICL",
          "author": "Millard",
          "relative_error": 21.986114492559626,
          "sample_id": "zwf"
         },
         {
          "BiGG_ID": "MALS",
          "author": "Millard",
          "relative_error": 21.986114492527665,
          "sample_id": "zwf"
         },
         {
          "BiGG_ID": "MDH",
          "author": "Millard",
          "relative_error": 23.363510846213174,
          "sample_id": "zwf"
         },
         {
          "BiGG_ID": "PDH",
          "author": "Millard",
          "relative_error": 14.388499646000916,
          "sample_id": "zwf"
         },
         {
          "BiGG_ID": "PGI",
          "author": "Millard",
          "relative_error": 0.7397809875133886,
          "sample_id": "zwf"
         },
         {
          "BiGG_ID": "PGM",
          "author": "Millard",
          "relative_error": 3.5623279720158574,
          "sample_id": "zwf"
         },
         {
          "BiGG_ID": "PPC",
          "author": "Millard",
          "relative_error": 100,
          "sample_id": "zwf"
         },
         {
          "BiGG_ID": "PTAr",
          "author": "Millard",
          "relative_error": 100,
          "sample_id": "zwf"
         },
         {
          "BiGG_ID": "PYK",
          "author": "Millard",
          "relative_error": 22.458620356757457,
          "sample_id": "zwf"
         },
         {
          "BiGG_ID": "RPE",
          "author": "Millard",
          "relative_error": 222.0806250595514,
          "sample_id": "zwf"
         },
         {
          "BiGG_ID": "RPI",
          "author": "Millard",
          "relative_error": 20.859921357972695,
          "sample_id": "zwf"
         },
         {
          "BiGG_ID": "SUCDi",
          "author": "Millard",
          "relative_error": 24.474820026315562,
          "sample_id": "zwf"
         },
         {
          "BiGG_ID": "TALA",
          "author": "Millard",
          "relative_error": 252.8713174785113,
          "sample_id": "zwf"
         },
         {
          "BiGG_ID": "TKT1",
          "author": "Millard",
          "relative_error": 557.5318077146784,
          "sample_id": "zwf"
         },
         {
          "BiGG_ID": "TPI",
          "author": "Millard",
          "relative_error": 1.5417074612147434,
          "sample_id": "zwf"
         }
        ]
       },
       "encoding": {
        "color": {
         "condition": {
          "test": "datum.relative_error === null",
          "value": "lightgrey"
         },
         "field": "relative_error",
         "scale": {
          "domain": [
           0,
           25,
           50,
           75,
           100,
           200,
           300
          ],
          "scheme": "greenblue",
          "type": "threshold"
         },
         "title": "relative error (clipped at 300)",
         "type": "quantitative"
        },
        "tooltip": [
         {
          "field": "sample_id",
          "type": "nominal"
         },
         {
          "field": "BiGG_ID",
          "type": "nominal"
         },
         {
          "field": "relative_error",
          "type": "quantitative"
         }
        ],
        "x": {
         "field": "sample_id",
         "type": "nominal"
        },
        "y": {
         "field": "BiGG_ID",
         "type": "nominal"
        }
       },
       "mark": "rect",
       "title": "Heatmap for author Millard"
      },
      "image/png": "[encoded data removed]",
      "text/plain": [
       "<VegaLite 3 object>\n",
       "\n",
       "If you see this message, it means the renderer has not been properly enabled\n",
       "for the frontend that you are using. For more information, see\n",
       "https://altair-viz.github.io/user_guide/troubleshooting.html\n"
      ]
     },
     "execution_count": 15,
     "metadata": {},
     "output_type": "execute_result"
    }
   ],
   "source": [
    "heatmap(x_rel_error, author = \"Millard\")"
   ]
  },
  {
   "cell_type": "code",
   "execution_count": 29,
   "metadata": {},
   "outputs": [],
   "source": [
    "kh_wt = x_rel_error.sel(dict(author=\"Khodayari\", sample_id = \"WT\")).normalized_flux"
   ]
  },
  {
   "cell_type": "code",
   "execution_count": 27,
   "metadata": {},
   "outputs": [],
   "source": [
    "ex_wt = x_rel_error.sel(dict(author=\"Ishii\", sample_id = \"WT\")).normalized_flux"
   ]
  },
  {
   "cell_type": "code",
   "execution_count": 30,
   "metadata": {},
   "outputs": [
    {
     "data": {
      "text/plain": [
       "<xarray.DataArray 'normalized_flux' ()>\n",
       "array(12.5)\n",
       "Coordinates:\n",
       "    sample_id  <U2 'WT'\n",
       "    author     <U5 'Ishii'\n",
       "    BiGG_ID    <U3 'PPC'"
      ]
     },
     "execution_count": 30,
     "metadata": {},
     "output_type": "execute_result"
    }
   ],
   "source": [
    "ex_wt.sel(BiGG_ID = \"PPC\")"
   ]
  },
  {
   "cell_type": "code",
   "execution_count": 31,
   "metadata": {},
   "outputs": [
    {
     "data": {
      "text/plain": [
       "<xarray.DataArray 'normalized_flux' ()>\n",
       "array(16.880989)\n",
       "Coordinates:\n",
       "    sample_id  <U2 'WT'\n",
       "    author     <U9 'Khodayari'\n",
       "    BiGG_ID    <U3 'PPC'"
      ]
     },
     "execution_count": 31,
     "metadata": {},
     "output_type": "execute_result"
    }
   ],
   "source": [
    "kh_wt.sel(BiGG_ID = \"PPC\")"
   ]
  },
  {
   "cell_type": "code",
   "execution_count": 10,
   "metadata": {},
   "outputs": [
    {
     "data": {
      "application/vnd.vegalite.v3+json": {
       "$schema": "https://vega.github.io/schema/vega-lite/v3.2.1.json",
       "config": {
        "invalidValues": null,
        "mark": {
         "tooltip": null
        },
        "view": {
         "height": 300,
         "width": 400
        }
       },
       "data": {
        "name": "data-44eafd47083f8dd99a0e5fdbb6707c08"
       },
       "datasets": {
        "data-44eafd47083f8dd99a0e5fdbb6707c08": [
         {
          "author": "Chassagnole",
          "normalized_error": null,
          "sample_id": "WT",
          "unnormalized_error": null
         },
         {
          "author": "Chassagnole",
          "normalized_error": null,
          "sample_id": "fbaA",
          "unnormalized_error": null
         },
         {
          "author": "Chassagnole",
          "normalized_error": null,
          "sample_id": "fbaB",
          "unnormalized_error": null
         },
         {
          "author": "Chassagnole",
          "normalized_error": null,
          "sample_id": "fbp",
          "unnormalized_error": null
         },
         {
          "author": "Chassagnole",
          "normalized_error": null,
          "sample_id": "glk",
          "unnormalized_error": null
         },
         {
          "author": "Chassagnole",
          "normalized_error": null,
          "sample_id": "gnd",
          "unnormalized_error": null
         },
         {
          "author": "Chassagnole",
          "normalized_error": null,
          "sample_id": "gpmA",
          "unnormalized_error": null
         },
         {
          "author": "Chassagnole",
          "normalized_error": null,
          "sample_id": "gpmB",
          "unnormalized_error": null
         },
         {
          "author": "Chassagnole",
          "normalized_error": null,
          "sample_id": "pfkA",
          "unnormalized_error": null
         },
         {
          "author": "Chassagnole",
          "normalized_error": null,
          "sample_id": "pfkB",
          "unnormalized_error": null
         },
         {
          "author": "Chassagnole",
          "normalized_error": null,
          "sample_id": "pgi",
          "unnormalized_error": null
         },
         {
          "author": "Chassagnole",
          "normalized_error": null,
          "sample_id": "pgl",
          "unnormalized_error": null
         },
         {
          "author": "Chassagnole",
          "normalized_error": null,
          "sample_id": "pgm",
          "unnormalized_error": null
         },
         {
          "author": "Chassagnole",
          "normalized_error": null,
          "sample_id": "ppc",
          "unnormalized_error": null
         },
         {
          "author": "Chassagnole",
          "normalized_error": null,
          "sample_id": "ppsA",
          "unnormalized_error": null
         },
         {
          "author": "Chassagnole",
          "normalized_error": null,
          "sample_id": "pts",
          "unnormalized_error": null
         },
         {
          "author": "Chassagnole",
          "normalized_error": null,
          "sample_id": "pykA",
          "unnormalized_error": null
         },
         {
          "author": "Chassagnole",
          "normalized_error": null,
          "sample_id": "pykAF",
          "unnormalized_error": null
         },
         {
          "author": "Chassagnole",
          "normalized_error": null,
          "sample_id": "pykF",
          "unnormalized_error": null
         },
         {
          "author": "Chassagnole",
          "normalized_error": null,
          "sample_id": "rpe",
          "unnormalized_error": null
         },
         {
          "author": "Chassagnole",
          "normalized_error": null,
          "sample_id": "rpiA",
          "unnormalized_error": null
         },
         {
          "author": "Chassagnole",
          "normalized_error": null,
          "sample_id": "rpiB",
          "unnormalized_error": null
         },
         {
          "author": "Chassagnole",
          "normalized_error": null,
          "sample_id": "sdhCD",
          "unnormalized_error": null
         },
         {
          "author": "Chassagnole",
          "normalized_error": null,
          "sample_id": "sucA",
          "unnormalized_error": null
         },
         {
          "author": "Chassagnole",
          "normalized_error": null,
          "sample_id": "sucAB",
          "unnormalized_error": null
         },
         {
          "author": "Chassagnole",
          "normalized_error": null,
          "sample_id": "talA",
          "unnormalized_error": null
         },
         {
          "author": "Chassagnole",
          "normalized_error": null,
          "sample_id": "talAB",
          "unnormalized_error": null
         },
         {
          "author": "Chassagnole",
          "normalized_error": null,
          "sample_id": "talB",
          "unnormalized_error": null
         },
         {
          "author": "Chassagnole",
          "normalized_error": null,
          "sample_id": "tkt1",
          "unnormalized_error": null
         },
         {
          "author": "Chassagnole",
          "normalized_error": null,
          "sample_id": "tkt2",
          "unnormalized_error": null
         },
         {
          "author": "Chassagnole",
          "normalized_error": null,
          "sample_id": "tktA",
          "unnormalized_error": null
         },
         {
          "author": "Chassagnole",
          "normalized_error": null,
          "sample_id": "tktB",
          "unnormalized_error": null
         },
         {
          "author": "Chassagnole",
          "normalized_error": null,
          "sample_id": "tpi",
          "unnormalized_error": null
         },
         {
          "author": "Chassagnole",
          "normalized_error": null,
          "sample_id": "zwf",
          "unnormalized_error": null
         },
         {
          "author": "ECC2",
          "normalized_error": 0.5876720845612964,
          "sample_id": "WT",
          "unnormalized_error": 221.56036464654258
         },
         {
          "author": "ECC2",
          "normalized_error": null,
          "sample_id": "fbaA",
          "unnormalized_error": null
         },
         {
          "author": "ECC2",
          "normalized_error": 0.7233177182826556,
          "sample_id": "fbaB",
          "unnormalized_error": 264.5464718681539
         },
         {
          "author": "ECC2",
          "normalized_error": 0.5899630172105623,
          "sample_id": "fbp",
          "unnormalized_error": 224.84480544025612
         },
         {
          "author": "ECC2",
          "normalized_error": null,
          "sample_id": "glk",
          "unnormalized_error": null
         },
         {
          "author": "ECC2",
          "normalized_error": 0.6259450844705894,
          "sample_id": "gnd",
          "unnormalized_error": 272.15585523192925
         },
         {
          "author": "ECC2",
          "normalized_error": 0.9192326897941696,
          "sample_id": "gpmA",
          "unnormalized_error": 339.3313577266987
         },
         {
          "author": "ECC2",
          "normalized_error": null,
          "sample_id": "gpmB",
          "unnormalized_error": null
         },
         {
          "author": "ECC2",
          "normalized_error": 0.7426841498010143,
          "sample_id": "pfkA",
          "unnormalized_error": 276.7701942695837
         },
         {
          "author": "ECC2",
          "normalized_error": 0.6897188260853425,
          "sample_id": "pfkB",
          "unnormalized_error": 247.28223507398803
         },
         {
          "author": "ECC2",
          "normalized_error": 0.5425912433167559,
          "sample_id": "pgi",
          "unnormalized_error": 165.12701692206227
         },
         {
          "author": "ECC2",
          "normalized_error": 0.49889133374286365,
          "sample_id": "pgl",
          "unnormalized_error": 191.48850601089126
         },
         {
          "author": "ECC2",
          "normalized_error": null,
          "sample_id": "pgm",
          "unnormalized_error": null
         },
         {
          "author": "ECC2",
          "normalized_error": null,
          "sample_id": "ppc",
          "unnormalized_error": null
         },
         {
          "author": "ECC2",
          "normalized_error": 0.5936673103085628,
          "sample_id": "ppsA",
          "unnormalized_error": 222.05141499076942
         },
         {
          "author": "ECC2",
          "normalized_error": null,
          "sample_id": "pts",
          "unnormalized_error": null
         },
         {
          "author": "ECC2",
          "normalized_error": 0.5837431695606551,
          "sample_id": "pykA",
          "unnormalized_error": 217.8918636160582
         },
         {
          "author": "ECC2",
          "normalized_error": null,
          "sample_id": "pykAF",
          "unnormalized_error": null
         },
         {
          "author": "ECC2",
          "normalized_error": 0.5448792961705244,
          "sample_id": "pykF",
          "unnormalized_error": 192.33930438859767
         },
         {
          "author": "ECC2",
          "normalized_error": 0.6492392098640574,
          "sample_id": "rpe",
          "unnormalized_error": 285.0581588012279
         },
         {
          "author": "ECC2",
          "normalized_error": null,
          "sample_id": "rpiA",
          "unnormalized_error": null
         },
         {
          "author": "ECC2",
          "normalized_error": null,
          "sample_id": "rpiB",
          "unnormalized_error": null
         },
         {
          "author": "ECC2",
          "normalized_error": null,
          "sample_id": "sdhCD",
          "unnormalized_error": null
         },
         {
          "author": "ECC2",
          "normalized_error": null,
          "sample_id": "sucA",
          "unnormalized_error": null
         },
         {
          "author": "ECC2",
          "normalized_error": null,
          "sample_id": "sucAB",
          "unnormalized_error": null
         },
         {
          "author": "ECC2",
          "normalized_error": 0.5565266754649083,
          "sample_id": "talA",
          "unnormalized_error": 210.67309765185146
         },
         {
          "author": "ECC2",
          "normalized_error": null,
          "sample_id": "talAB",
          "unnormalized_error": null
         },
         {
          "author": "ECC2",
          "normalized_error": null,
          "sample_id": "talB",
          "unnormalized_error": null
         },
         {
          "author": "ECC2",
          "normalized_error": null,
          "sample_id": "tkt1",
          "unnormalized_error": null
         },
         {
          "author": "ECC2",
          "normalized_error": null,
          "sample_id": "tkt2",
          "unnormalized_error": null
         },
         {
          "author": "ECC2",
          "normalized_error": 0.6789433462595147,
          "sample_id": "tktA",
          "unnormalized_error": 306.15150784977436
         },
         {
          "author": "ECC2",
          "normalized_error": 0.5793488973251179,
          "sample_id": "tktB",
          "unnormalized_error": 226.45947312741185
         },
         {
          "author": "ECC2",
          "normalized_error": null,
          "sample_id": "tpi",
          "unnormalized_error": null
         },
         {
          "author": "ECC2",
          "normalized_error": 0.5316667676746469,
          "sample_id": "zwf",
          "unnormalized_error": 226.726424025984
         },
         {
          "author": "Exp_ECC2",
          "normalized_error": 0.060242918317285066,
          "sample_id": "WT",
          "unnormalized_error": 22.71239914299072
         },
         {
          "author": "Exp_ECC2",
          "normalized_error": null,
          "sample_id": "fbaA",
          "unnormalized_error": null
         },
         {
          "author": "Exp_ECC2",
          "normalized_error": 0.5571678503581048,
          "sample_id": "fbaB",
          "unnormalized_error": 203.7787618428019
         },
         {
          "author": "Exp_ECC2",
          "normalized_error": 0.11081836730195123,
          "sample_id": "fbp",
          "unnormalized_error": 42.234739311330465
         },
         {
          "author": "Exp_ECC2",
          "normalized_error": null,
          "sample_id": "glk",
          "unnormalized_error": null
         },
         {
          "author": "Exp_ECC2",
          "normalized_error": 0.1970213381672891,
          "sample_id": "gnd",
          "unnormalized_error": 85.66328279933497
         },
         {
          "author": "Exp_ECC2",
          "normalized_error": 0.9138084713123595,
          "sample_id": "gpmA",
          "unnormalized_error": 337.3290274761818
         },
         {
          "author": "Exp_ECC2",
          "normalized_error": null,
          "sample_id": "gpmB",
          "unnormalized_error": null
         },
         {
          "author": "Exp_ECC2",
          "normalized_error": 0.5818992827354977,
          "sample_id": "pfkA",
          "unnormalized_error": 216.85177685720848
         },
         {
          "author": "Exp_ECC2",
          "normalized_error": 0.5276056022021969,
          "sample_id": "pfkB",
          "unnormalized_error": 189.16040510393907
         },
         {
          "author": "Exp_ECC2",
          "normalized_error": 0.3690337439755065,
          "sample_id": "pgi",
          "unnormalized_error": 112.30819154720707
         },
         {
          "author": "Exp_ECC2",
          "normalized_error": 0.11989508870198069,
          "sample_id": "pgl",
          "unnormalized_error": 46.01910247937631
         },
         {
          "author": "Exp_ECC2",
          "normalized_error": null,
          "sample_id": "pgm",
          "unnormalized_error": null
         },
         {
          "author": "Exp_ECC2",
          "normalized_error": null,
          "sample_id": "ppc",
          "unnormalized_error": null
         },
         {
          "author": "Exp_ECC2",
          "normalized_error": 0.16703059552223495,
          "sample_id": "ppsA",
          "unnormalized_error": 62.47502504927495
         },
         {
          "author": "Exp_ECC2",
          "normalized_error": null,
          "sample_id": "pts",
          "unnormalized_error": null
         },
         {
          "author": "Exp_ECC2",
          "normalized_error": 0.23772528571054857,
          "sample_id": "pykA",
          "unnormalized_error": 88.73492356427323
         },
         {
          "author": "Exp_ECC2",
          "normalized_error": null,
          "sample_id": "pykAF",
          "unnormalized_error": null
         },
         {
          "author": "Exp_ECC2",
          "normalized_error": 0.339745948781891,
          "sample_id": "pykF",
          "unnormalized_error": 119.92839499833433
         },
         {
          "author": "Exp_ECC2",
          "normalized_error": 0.2098661035689538,
          "sample_id": "rpe",
          "unnormalized_error": 92.14484302431484
         },
         {
          "author": "Exp_ECC2",
          "normalized_error": null,
          "sample_id": "rpiA",
          "unnormalized_error": null
         },
         {
          "author": "Exp_ECC2",
          "normalized_error": null,
          "sample_id": "rpiB",
          "unnormalized_error": null
         },
         {
          "author": "Exp_ECC2",
          "normalized_error": null,
          "sample_id": "sdhCD",
          "unnormalized_error": null
         },
         {
          "author": "Exp_ECC2",
          "normalized_error": null,
          "sample_id": "sucA",
          "unnormalized_error": null
         },
         {
          "author": "Exp_ECC2",
          "normalized_error": null,
          "sample_id": "sucAB",
          "unnormalized_error": null
         },
         {
          "author": "Exp_ECC2",
          "normalized_error": 0.11858604012086008,
          "sample_id": "talA",
          "unnormalized_error": 44.890729432975085
         },
         {
          "author": "Exp_ECC2",
          "normalized_error": null,
          "sample_id": "talAB",
          "unnormalized_error": null
         },
         {
          "author": "Exp_ECC2",
          "normalized_error": null,
          "sample_id": "talB",
          "unnormalized_error": null
         },
         {
          "author": "Exp_ECC2",
          "normalized_error": null,
          "sample_id": "tkt1",
          "unnormalized_error": null
         },
         {
          "author": "Exp_ECC2",
          "normalized_error": null,
          "sample_id": "tkt2",
          "unnormalized_error": null
         },
         {
          "author": "Exp_ECC2",
          "normalized_error": 0.30283969920634574,
          "sample_id": "tktA",
          "unnormalized_error": 136.55753614728874
         },
         {
          "author": "Exp_ECC2",
          "normalized_error": 0.14575623950850902,
          "sample_id": "tktB",
          "unnormalized_error": 56.97409860712397
         },
         {
          "author": "Exp_ECC2",
          "normalized_error": null,
          "sample_id": "tpi",
          "unnormalized_error": null
         },
         {
          "author": "Exp_ECC2",
          "normalized_error": 0.14383043467881054,
          "sample_id": "zwf",
          "unnormalized_error": 61.33571271241341
         },
         {
          "author": "Exp_iML1515",
          "normalized_error": 0.07112087539571854,
          "sample_id": "WT",
          "unnormalized_error": 26.81353683563158
         },
         {
          "author": "Exp_iML1515",
          "normalized_error": null,
          "sample_id": "fbaA",
          "unnormalized_error": null
         },
         {
          "author": "Exp_iML1515",
          "normalized_error": 0.30623175453347923,
          "sample_id": "fbaB",
          "unnormalized_error": 112.00130756947485
         },
         {
          "author": "Exp_iML1515",
          "normalized_error": 0.1372516971586148,
          "sample_id": "fbp",
          "unnormalized_error": 52.30892487106427
         },
         {
          "author": "Exp_iML1515",
          "normalized_error": null,
          "sample_id": "glk",
          "unnormalized_error": null
         },
         {
          "author": "Exp_iML1515",
          "normalized_error": 0.15696932069740452,
          "sample_id": "gnd",
          "unnormalized_error": 68.24898985461135
         },
         {
          "author": "Exp_iML1515",
          "normalized_error": 0.44393043772560487,
          "sample_id": "gpmA",
          "unnormalized_error": 163.8752840734675
         },
         {
          "author": "Exp_iML1515",
          "normalized_error": null,
          "sample_id": "gpmB",
          "unnormalized_error": null
         },
         {
          "author": "Exp_iML1515",
          "normalized_error": 0.30111654815285693,
          "sample_id": "pfkA",
          "unnormalized_error": 112.21470870541913
         },
         {
          "author": "Exp_iML1515",
          "normalized_error": 0.36348780211391946,
          "sample_id": "pfkB",
          "unnormalized_error": 130.3198821453362
         },
         {
          "author": "Exp_iML1515",
          "normalized_error": 0.48113398597825763,
          "sample_id": "pgi",
          "unnormalized_error": 146.42370444233367
         },
         {
          "author": "Exp_iML1515",
          "normalized_error": 0.12500751281434586,
          "sample_id": "pgl",
          "unnormalized_error": 47.98139444389345
         },
         {
          "author": "Exp_iML1515",
          "normalized_error": null,
          "sample_id": "pgm",
          "unnormalized_error": null
         },
         {
          "author": "Exp_iML1515",
          "normalized_error": null,
          "sample_id": "ppc",
          "unnormalized_error": null
         },
         {
          "author": "Exp_iML1515",
          "normalized_error": 0.13983821236814103,
          "sample_id": "ppsA",
          "unnormalized_error": 52.304164953913855
         },
         {
          "author": "Exp_iML1515",
          "normalized_error": null,
          "sample_id": "pts",
          "unnormalized_error": null
         },
         {
          "author": "Exp_iML1515",
          "normalized_error": 0.16048900396147314,
          "sample_id": "pykA",
          "unnormalized_error": 59.90519458989023
         },
         {
          "author": "Exp_iML1515",
          "normalized_error": null,
          "sample_id": "pykAF",
          "unnormalized_error": null
         },
         {
          "author": "Exp_iML1515",
          "normalized_error": 0.28588913293078083,
          "sample_id": "pykF",
          "unnormalized_error": 100.91724414310809
         },
         {
          "author": "Exp_iML1515",
          "normalized_error": 0.1856657222742003,
          "sample_id": "rpe",
          "unnormalized_error": 81.51930465670058
         },
         {
          "author": "Exp_iML1515",
          "normalized_error": 0.6742300742465588,
          "sample_id": "rpiA",
          "unnormalized_error": 258.06546930885435
         },
         {
          "author": "Exp_iML1515",
          "normalized_error": 0.7124519133846259,
          "sample_id": "rpiB",
          "unnormalized_error": 296.80869842739764
         },
         {
          "author": "Exp_iML1515",
          "normalized_error": null,
          "sample_id": "sdhCD",
          "unnormalized_error": null
         },
         {
          "author": "Exp_iML1515",
          "normalized_error": null,
          "sample_id": "sucA",
          "unnormalized_error": null
         },
         {
          "author": "Exp_iML1515",
          "normalized_error": null,
          "sample_id": "sucAB",
          "unnormalized_error": null
         },
         {
          "author": "Exp_iML1515",
          "normalized_error": 0.1064327120170791,
          "sample_id": "talA",
          "unnormalized_error": 40.29008872466768
         },
         {
          "author": "Exp_iML1515",
          "normalized_error": null,
          "sample_id": "talAB",
          "unnormalized_error": null
         },
         {
          "author": "Exp_iML1515",
          "normalized_error": null,
          "sample_id": "talB",
          "unnormalized_error": null
         },
         {
          "author": "Exp_iML1515",
          "normalized_error": null,
          "sample_id": "tkt1",
          "unnormalized_error": null
         },
         {
          "author": "Exp_iML1515",
          "normalized_error": null,
          "sample_id": "tkt2",
          "unnormalized_error": null
         },
         {
          "author": "Exp_iML1515",
          "normalized_error": 0.26679772737674506,
          "sample_id": "tktA",
          "unnormalized_error": 120.3053641769729
         },
         {
          "author": "Exp_iML1515",
          "normalized_error": 0.11818102938250942,
          "sample_id": "tktB",
          "unnormalized_error": 46.19533025985779
         },
         {
          "author": "Exp_iML1515",
          "normalized_error": null,
          "sample_id": "tpi",
          "unnormalized_error": null
         },
         {
          "author": "Exp_iML1515",
          "normalized_error": 0.14164927942769256,
          "sample_id": "zwf",
          "unnormalized_error": 60.40557082580578
         },
         {
          "author": "Khodayari",
          "normalized_error": 0.08626454018003622,
          "sample_id": "WT",
          "unnormalized_error": 32.5229043210774
         },
         {
          "author": "Khodayari",
          "normalized_error": null,
          "sample_id": "fbaA",
          "unnormalized_error": null
         },
         {
          "author": "Khodayari",
          "normalized_error": 0.09138195379180071,
          "sample_id": "fbaB",
          "unnormalized_error": 33.42206731149452
         },
         {
          "author": "Khodayari",
          "normalized_error": 0.16100755550333462,
          "sample_id": "fbp",
          "unnormalized_error": 61.36268110961581
         },
         {
          "author": "Khodayari",
          "normalized_error": null,
          "sample_id": "glk",
          "unnormalized_error": null
         },
         {
          "author": "Khodayari",
          "normalized_error": 0.38715668047162716,
          "sample_id": "gnd",
          "unnormalized_error": 168.33259034477044
         },
         {
          "author": "Khodayari",
          "normalized_error": null,
          "sample_id": "gpmA",
          "unnormalized_error": null
         },
         {
          "author": "Khodayari",
          "normalized_error": null,
          "sample_id": "gpmB",
          "unnormalized_error": null
         },
         {
          "author": "Khodayari",
          "normalized_error": 0.10258406287943597,
          "sample_id": "pfkA",
          "unnormalized_error": 38.22918668684628
         },
         {
          "author": "Khodayari",
          "normalized_error": 0.2341304700928845,
          "sample_id": "pfkB",
          "unnormalized_error": 83.94189596374477
         },
         {
          "author": "Khodayari",
          "normalized_error": 0.2478641142264956,
          "sample_id": "pgi",
          "unnormalized_error": 75.43258813772783
         },
         {
          "author": "Khodayari",
          "normalized_error": 0.06443097602076861,
          "sample_id": "pgl",
          "unnormalized_error": 24.730418238532945
         },
         {
          "author": "Khodayari",
          "normalized_error": null,
          "sample_id": "pgm",
          "unnormalized_error": null
         },
         {
          "author": "Khodayari",
          "normalized_error": null,
          "sample_id": "ppc",
          "unnormalized_error": null
         },
         {
          "author": "Khodayari",
          "normalized_error": 0.13159027072140456,
          "sample_id": "ppsA",
          "unnormalized_error": 49.219159123851874
         },
         {
          "author": "Khodayari",
          "normalized_error": null,
          "sample_id": "pts",
          "unnormalized_error": null
         },
         {
          "author": "Khodayari",
          "normalized_error": 0.09719833059532582,
          "sample_id": "pykA",
          "unnormalized_error": 36.28089628821712
         },
         {
          "author": "Khodayari",
          "normalized_error": null,
          "sample_id": "pykAF",
          "unnormalized_error": null
         },
         {
          "author": "Khodayari",
          "normalized_error": 0.24397215594827465,
          "sample_id": "pykF",
          "unnormalized_error": 86.1207887601439
         },
         {
          "author": "Khodayari",
          "normalized_error": 0.17894054479050264,
          "sample_id": "rpe",
          "unnormalized_error": 78.56651517327468
         },
         {
          "author": "Khodayari",
          "normalized_error": 0.2580435292967993,
          "sample_id": "rpiA",
          "unnormalized_error": 98.76765667047296
         },
         {
          "author": "Khodayari",
          "normalized_error": 0.2684357829542535,
          "sample_id": "rpiB",
          "unnormalized_error": 111.83081110904165
         },
         {
          "author": "Khodayari",
          "normalized_error": null,
          "sample_id": "sdhCD",
          "unnormalized_error": null
         },
         {
          "author": "Khodayari",
          "normalized_error": null,
          "sample_id": "sucA",
          "unnormalized_error": null
         },
         {
          "author": "Khodayari",
          "normalized_error": null,
          "sample_id": "sucAB",
          "unnormalized_error": null
         },
         {
          "author": "Khodayari",
          "normalized_error": 0.08985056219245564,
          "sample_id": "talA",
          "unnormalized_error": 34.01291815353159
         },
         {
          "author": "Khodayari",
          "normalized_error": null,
          "sample_id": "talAB",
          "unnormalized_error": null
         },
         {
          "author": "Khodayari",
          "normalized_error": null,
          "sample_id": "talB",
          "unnormalized_error": null
         },
         {
          "author": "Khodayari",
          "normalized_error": null,
          "sample_id": "tkt1",
          "unnormalized_error": null
         },
         {
          "author": "Khodayari",
          "normalized_error": null,
          "sample_id": "tkt2",
          "unnormalized_error": null
         },
         {
          "author": "Khodayari",
          "normalized_error": 0.2539911776073175,
          "sample_id": "tktA",
          "unnormalized_error": 114.53058997252138
         },
         {
          "author": "Khodayari",
          "normalized_error": 0.09867985291358512,
          "sample_id": "tktB",
          "unnormalized_error": 38.572590026973586
         },
         {
          "author": "Khodayari",
          "normalized_error": null,
          "sample_id": "tpi",
          "unnormalized_error": null
         },
         {
          "author": "Khodayari",
          "normalized_error": 0.31154141427835896,
          "sample_id": "zwf",
          "unnormalized_error": 132.85515493899513
         },
         {
          "author": "Kurata",
          "normalized_error": 0.4290517614624855,
          "sample_id": "WT",
          "unnormalized_error": 161.75834656640814
         },
         {
          "author": "Kurata",
          "normalized_error": null,
          "sample_id": "fbaA",
          "unnormalized_error": null
         },
         {
          "author": "Kurata",
          "normalized_error": 0.4103629941322574,
          "sample_id": "fbaB",
          "unnormalized_error": 150.08630307120157
         },
         {
          "author": "Kurata",
          "normalized_error": 0.40847615723203634,
          "sample_id": "fbp",
          "unnormalized_error": 155.67711775235048
         },
         {
          "author": "Kurata",
          "normalized_error": null,
          "sample_id": "glk",
          "unnormalized_error": null
         },
         {
          "author": "Kurata",
          "normalized_error": 0.8562057556746754,
          "sample_id": "gnd",
          "unnormalized_error": 372.27133093828184
         },
         {
          "author": "Kurata",
          "normalized_error": 1,
          "sample_id": "gpmA",
          "unnormalized_error": 369.14631245618585
         },
         {
          "author": "Kurata",
          "normalized_error": null,
          "sample_id": "gpmB",
          "unnormalized_error": null
         },
         {
          "author": "Kurata",
          "normalized_error": 0.5733636526409739,
          "sample_id": "pfkA",
          "unnormalized_error": 213.67087148834122
         },
         {
          "author": "Kurata",
          "normalized_error": 0.5089435525961448,
          "sample_id": "pfkB",
          "unnormalized_error": 182.46957231365764
         },
         {
          "author": "Kurata",
          "normalized_error": 0.5377521956379365,
          "sample_id": "pgi",
          "unnormalized_error": 163.65434754564075
         },
         {
          "author": "Kurata",
          "normalized_error": 1.000000068030102,
          "sample_id": "pgl",
          "unnormalized_error": 383.82811262977367
         },
         {
          "author": "Kurata",
          "normalized_error": null,
          "sample_id": "pgm",
          "unnormalized_error": null
         },
         {
          "author": "Kurata",
          "normalized_error": null,
          "sample_id": "ppc",
          "unnormalized_error": null
         },
         {
          "author": "Kurata",
          "normalized_error": 0.49388855765828366,
          "sample_id": "ppsA",
          "unnormalized_error": 184.73082679720235
         },
         {
          "author": "Kurata",
          "normalized_error": null,
          "sample_id": "pts",
          "unnormalized_error": null
         },
         {
          "author": "Kurata",
          "normalized_error": 0.4064879463120327,
          "sample_id": "pykA",
          "unnormalized_error": 151.72839834006814
         },
         {
          "author": "Kurata",
          "normalized_error": null,
          "sample_id": "pykAF",
          "unnormalized_error": null
         },
         {
          "author": "Kurata",
          "normalized_error": 0.319800713456623,
          "sample_id": "pykF",
          "unnormalized_error": 112.88783993358774
         },
         {
          "author": "Kurata",
          "normalized_error": 1,
          "sample_id": "rpe",
          "unnormalized_error": 439.0649154737828
         },
         {
          "author": "Kurata",
          "normalized_error": 0.4291610868328768,
          "sample_id": "rpiA",
          "unnormalized_error": 164.26389375524005
         },
         {
          "author": "Kurata",
          "normalized_error": 0.4737364631830639,
          "sample_id": "rpiB",
          "unnormalized_error": 197.35942930797412
         },
         {
          "author": "Kurata",
          "normalized_error": null,
          "sample_id": "sdhCD",
          "unnormalized_error": null
         },
         {
          "author": "Kurata",
          "normalized_error": null,
          "sample_id": "sucA",
          "unnormalized_error": null
         },
         {
          "author": "Kurata",
          "normalized_error": null,
          "sample_id": "sucAB",
          "unnormalized_error": null
         },
         {
          "author": "Kurata",
          "normalized_error": 0.4766159000083567,
          "sample_id": "talA",
          "unnormalized_error": 180.42288442149788
         },
         {
          "author": "Kurata",
          "normalized_error": null,
          "sample_id": "talAB",
          "unnormalized_error": null
         },
         {
          "author": "Kurata",
          "normalized_error": 0.48563549208927553,
          "sample_id": "talB",
          "unnormalized_error": 189.14551694492678
         },
         {
          "author": "Kurata",
          "normalized_error": null,
          "sample_id": "tkt1",
          "unnormalized_error": null
         },
         {
          "author": "Kurata",
          "normalized_error": null,
          "sample_id": "tkt2",
          "unnormalized_error": null
         },
         {
          "author": "Kurata",
          "normalized_error": 0.5634927253676616,
          "sample_id": "tktA",
          "unnormalized_error": 254.09211016517975
         },
         {
          "author": "Kurata",
          "normalized_error": 0.49804358976829566,
          "sample_id": "tktB",
          "unnormalized_error": 194.67835263716688
         },
         {
          "author": "Kurata",
          "normalized_error": null,
          "sample_id": "tpi",
          "unnormalized_error": null
         },
         {
          "author": "Kurata",
          "normalized_error": 0.3998278217237869,
          "sample_id": "zwf",
          "unnormalized_error": 170.50441697158504
         },
         {
          "author": "Millard",
          "normalized_error": 0.07581158695388648,
          "sample_id": "WT",
          "unnormalized_error": 28.58199885821561
         },
         {
          "author": "Millard",
          "normalized_error": null,
          "sample_id": "fbaA",
          "unnormalized_error": null
         },
         {
          "author": "Millard",
          "normalized_error": 0.9975350478805866,
          "sample_id": "fbaB",
          "unnormalized_error": 364.8388126150055
         },
         {
          "author": "Millard",
          "normalized_error": 0.09381200836540193,
          "sample_id": "fbp",
          "unnormalized_error": 35.75333055385432
         },
         {
          "author": "Millard",
          "normalized_error": null,
          "sample_id": "glk",
          "unnormalized_error": null
         },
         {
          "author": "Millard",
          "normalized_error": 0.21294864452957682,
          "sample_id": "gnd",
          "unnormalized_error": 92.58834666214261
         },
         {
          "author": "Millard",
          "normalized_error": null,
          "sample_id": "gpmA",
          "unnormalized_error": null
         },
         {
          "author": "Millard",
          "normalized_error": null,
          "sample_id": "gpmB",
          "unnormalized_error": null
         },
         {
          "author": "Millard",
          "normalized_error": 1.0001830352754906,
          "sample_id": "pfkA",
          "unnormalized_error": 372.7302555904922
         },
         {
          "author": "Millard",
          "normalized_error": 0.9996937663257283,
          "sample_id": "pfkB",
          "unnormalized_error": 358.4163568937744
         },
         {
          "author": "Millard",
          "normalized_error": 0.7559627196463702,
          "sample_id": "pgi",
          "unnormalized_error": 230.06244633885615
         },
         {
          "author": "Millard",
          "normalized_error": 0.18577731967806382,
          "sample_id": "pgl",
          "unnormalized_error": 71.30655313045726
         },
         {
          "author": "Millard",
          "normalized_error": null,
          "sample_id": "pgm",
          "unnormalized_error": null
         },
         {
          "author": "Millard",
          "normalized_error": null,
          "sample_id": "ppc",
          "unnormalized_error": null
         },
         {
          "author": "Millard",
          "normalized_error": 0.18732914736336762,
          "sample_id": "ppsA",
          "unnormalized_error": 70.06736183508228
         },
         {
          "author": "Millard",
          "normalized_error": null,
          "sample_id": "pts",
          "unnormalized_error": null
         },
         {
          "author": "Millard",
          "normalized_error": 0.29233605477908076,
          "sample_id": "pykA",
          "unnormalized_error": 109.11930297346518
         },
         {
          "author": "Millard",
          "normalized_error": null,
          "sample_id": "pykAF",
          "unnormalized_error": null
         },
         {
          "author": "Millard",
          "normalized_error": 0.28384269179698235,
          "sample_id": "pykF",
          "unnormalized_error": 100.19486201753762
         },
         {
          "author": "Millard",
          "normalized_error": 0.2679820140682344,
          "sample_id": "rpe",
          "unnormalized_error": 117.66150035536342
         },
         {
          "author": "Millard",
          "normalized_error": 0.24880667871048653,
          "sample_id": "rpiA",
          "unnormalized_error": 95.23219856419325
         },
         {
          "author": "Millard",
          "normalized_error": 0.26562648222449475,
          "sample_id": "rpiB",
          "unnormalized_error": 110.6604515697857
         },
         {
          "author": "Millard",
          "normalized_error": null,
          "sample_id": "sdhCD",
          "unnormalized_error": null
         },
         {
          "author": "Millard",
          "normalized_error": null,
          "sample_id": "sucA",
          "unnormalized_error": null
         },
         {
          "author": "Millard",
          "normalized_error": null,
          "sample_id": "sucAB",
          "unnormalized_error": null
         },
         {
          "author": "Millard",
          "normalized_error": null,
          "sample_id": "talA",
          "unnormalized_error": null
         },
         {
          "author": "Millard",
          "normalized_error": null,
          "sample_id": "talAB",
          "unnormalized_error": null
         },
         {
          "author": "Millard",
          "normalized_error": null,
          "sample_id": "talB",
          "unnormalized_error": null
         },
         {
          "author": "Millard",
          "normalized_error": null,
          "sample_id": "tkt1",
          "unnormalized_error": null
         },
         {
          "author": "Millard",
          "normalized_error": null,
          "sample_id": "tkt2",
          "unnormalized_error": null
         },
         {
          "author": "Millard",
          "normalized_error": null,
          "sample_id": "tktA",
          "unnormalized_error": null
         },
         {
          "author": "Millard",
          "normalized_error": null,
          "sample_id": "tktB",
          "unnormalized_error": null
         },
         {
          "author": "Millard",
          "normalized_error": null,
          "sample_id": "tpi",
          "unnormalized_error": null
         },
         {
          "author": "Millard",
          "normalized_error": 0.16084745679000298,
          "sample_id": "zwf",
          "unnormalized_error": 68.59252996227919
         },
         {
          "author": "iML1515",
          "normalized_error": 0.9388098006140072,
          "sample_id": "WT",
          "unnormalized_error": 353.9440569362145
         },
         {
          "author": "iML1515",
          "normalized_error": null,
          "sample_id": "fbaA",
          "unnormalized_error": null
         },
         {
          "author": "iML1515",
          "normalized_error": 0.98017313953916,
          "sample_id": "fbaB",
          "unnormalized_error": 358.48886226742144
         },
         {
          "author": "iML1515",
          "normalized_error": 0.9364246191381635,
          "sample_id": "fbp",
          "unnormalized_error": 356.88713556165055
         },
         {
          "author": "iML1515",
          "normalized_error": null,
          "sample_id": "glk",
          "unnormalized_error": null
         },
         {
          "author": "iML1515",
          "normalized_error": 0.8749731934081896,
          "sample_id": "gnd",
          "unnormalized_error": 380.4312609283008
         },
         {
          "author": "iML1515",
          "normalized_error": null,
          "sample_id": "gpmA",
          "unnormalized_error": null
         },
         {
          "author": "iML1515",
          "normalized_error": null,
          "sample_id": "gpmB",
          "unnormalized_error": null
         },
         {
          "author": "iML1515",
          "normalized_error": 0.9726868035028066,
          "sample_id": "pfkA",
          "unnormalized_error": 362.4834536203058
         },
         {
          "author": "iML1515",
          "normalized_error": 0.993600839649014,
          "sample_id": "pfkB",
          "unnormalized_error": 356.23188335212654
         },
         {
          "author": "iML1515",
          "normalized_error": 1.0033487318288141,
          "sample_id": "pgi",
          "unnormalized_error": 305.349533484279
         },
         {
          "author": "iML1515",
          "normalized_error": 0.941611553505348,
          "sample_id": "pgl",
          "unnormalized_error": 361.41696082511413
         },
         {
          "author": "iML1515",
          "normalized_error": null,
          "sample_id": "pgm",
          "unnormalized_error": null
         },
         {
          "author": "iML1515",
          "normalized_error": null,
          "sample_id": "ppc",
          "unnormalized_error": null
         },
         {
          "author": "iML1515",
          "normalized_error": 0.9465179422832674,
          "sample_id": "ppsA",
          "unnormalized_error": 354.0293439585054
         },
         {
          "author": "iML1515",
          "normalized_error": null,
          "sample_id": "pts",
          "unnormalized_error": null
         },
         {
          "author": "iML1515",
          "normalized_error": 0.9442354810871038,
          "sample_id": "pykA",
          "unnormalized_error": 352.4516249523264
         },
         {
          "author": "iML1515",
          "normalized_error": null,
          "sample_id": "pykAF",
          "unnormalized_error": null
         },
         {
          "author": "iML1515",
          "normalized_error": 0.9714586574022167,
          "sample_id": "pykF",
          "unnormalized_error": 342.9194020037554
         },
         {
          "author": "iML1515",
          "normalized_error": 0.8819975032153864,
          "sample_id": "rpe",
          "unnormalized_error": 387.2541591973511
         },
         {
          "author": "iML1515",
          "normalized_error": 0.9377111060660918,
          "sample_id": "rpiA",
          "unnormalized_error": 358.9143615901319
         },
         {
          "author": "iML1515",
          "normalized_error": 0.952210267749317,
          "sample_id": "rpiB",
          "unnormalized_error": 396.6924432236038
         },
         {
          "author": "iML1515",
          "normalized_error": null,
          "sample_id": "sdhCD",
          "unnormalized_error": null
         },
         {
          "author": "iML1515",
          "normalized_error": null,
          "sample_id": "sucA",
          "unnormalized_error": null
         },
         {
          "author": "iML1515",
          "normalized_error": null,
          "sample_id": "sucAB",
          "unnormalized_error": null
         },
         {
          "author": "iML1515",
          "normalized_error": 0.9404585947310189,
          "sample_id": "talA",
          "unnormalized_error": 356.0104737113971
         },
         {
          "author": "iML1515",
          "normalized_error": null,
          "sample_id": "talAB",
          "unnormalized_error": null
         },
         {
          "author": "iML1515",
          "normalized_error": null,
          "sample_id": "talB",
          "unnormalized_error": null
         },
         {
          "author": "iML1515",
          "normalized_error": null,
          "sample_id": "tkt1",
          "unnormalized_error": null
         },
         {
          "author": "iML1515",
          "normalized_error": null,
          "sample_id": "tkt2",
          "unnormalized_error": null
         },
         {
          "author": "iML1515",
          "normalized_error": 0.8737519746950033,
          "sample_id": "tktA",
          "unnormalized_error": 393.9952957979878
         },
         {
          "author": "iML1515",
          "normalized_error": 0.9111759680260417,
          "sample_id": "tktB",
          "unnormalized_error": 356.16608678852964
         },
         {
          "author": "iML1515",
          "normalized_error": null,
          "sample_id": "tpi",
          "unnormalized_error": null
         },
         {
          "author": "iML1515",
          "normalized_error": 0.8976278708570832,
          "sample_id": "zwf",
          "unnormalized_error": 382.78856163157
         }
        ]
       },
       "encoding": {
        "color": {
         "condition": {
          "field": "author",
          "selection": "selector001",
          "sort": [
           "Khodayari",
           "Kurata",
           "Millard",
           "iML1515",
           "Ec_core",
           "ECC2",
           "Exp_ECC2"
          ],
          "type": "nominal"
         },
         "value": "lightgray"
        },
        "opacity": {
         "condition": {
          "selection": "selector001",
          "value": 0.4
         },
         "value": 1
        },
        "size": {
         "condition": {
          "selection": "selector001",
          "value": 100
         },
         "value": 40
        },
        "tooltip": [
         {
          "field": "author",
          "type": "nominal"
         },
         {
          "field": "sample_id",
          "type": "nominal"
         },
         {
          "field": "normalized_error",
          "type": "quantitative"
         }
        ],
        "x": {
         "field": "author",
         "sort": [
          "Khodayari",
          "Kurata",
          "Millard",
          "iML1515"
         ],
         "type": "nominal"
        },
        "y": {
         "field": "normalized_error",
         "title": "Normalized error",
         "type": "quantitative"
        }
       },
       "height": 600,
       "mark": "circle",
       "selection": {
        "selector001": {
         "empty": "all",
         "fields": [
          "sample_id"
         ],
         "type": "single"
        }
       },
       "title": "Normalized error knockout simulations",
       "transform": [
        {
         "filter": "datum.normalized_error !== null"
        }
       ],
       "width": 700
      },
      "image/png": "[encoded data removed]",
      "text/plain": [
       "<VegaLite 3 object>\n",
       "\n",
       "If you see this message, it means the renderer has not been properly enabled\n",
       "for the frontend that you are using. For more information, see\n",
       "https://altair-viz.github.io/user_guide/troubleshooting.html\n"
      ]
     },
     "execution_count": 10,
     "metadata": {},
     "output_type": "execute_result"
    }
   ],
   "source": [
    "selector = alt.selection_single(empty=\"all\", fields=[\"sample_id\"])\n",
    "color = alt.condition(\n",
    "    selector,\n",
    "    alt.Color(\n",
    "        \"author:N\",\n",
    "        sort=[\n",
    "            \"Khodayari\",\n",
    "            \"Kurata\",\n",
    "            \"Millard\",\n",
    "            \"iML1515\",\n",
    "            \"Ec_core\",\n",
    "            \"ECC2\",\n",
    "            \"Exp_ECC2\",\n",
    "        ],\n",
    "    ),\n",
    "    alt.ColorValue(\"lightgray\"),\n",
    ")\n",
    "\n",
    "opacity = alt.condition(selector, alt.OpacityValue(0.4), alt.OpacityValue(1.0))\n",
    "\n",
    "size = alt.condition(selector, alt.SizeValue(100), alt.SizeValue(40))\n",
    "\n",
    "\n",
    "base = (\n",
    "    alt.Chart(\n",
    "        x_norm_error.to_dataframe()\n",
    "        .reset_index()\n",
    "        .query(\"author != 'Ishii'\"),\n",
    "        title=\"Normalized error knockout simulations\",\n",
    "    )\n",
    "    .mark_circle()\n",
    "    .encode(\n",
    "        y=alt.Y(\"normalized_error\", title=\"Normalized error\"),\n",
    "        tooltip=[\"author\", \"sample_id\", \"normalized_error\"],\n",
    "        x=alt.X(\"author\", sort=[\"Khodayari\", \"Kurata\", \"Millard\", \"iML1515\"]),\n",
    "        size=size,\n",
    "        opacity = opacity,\n",
    "    )\n",
    ")\n",
    "\n",
    "errors = (\n",
    "    base\n",
    "    .encode(color=color)\n",
    "    .add_selection(selector)\n",
    "    .transform_filter(\"datum.normalized_error !== null\")\n",
    ")\n",
    "\n",
    "na_vals = base.encode(color=alt.value(\"lightgrey\")).transform_filter(\"datum.normalized_error === null\")\n",
    "\n",
    "\n",
    "(errors).properties(width=700, height=600).configure_axis(\n",
    "    labelFontSize=24, titleFontSize=24\n",
    ").configure_legend(labelFontSize=16, titleFontSize=20).configure(invalidValues=None)\n"
   ]
  },
  {
   "cell_type": "code",
   "execution_count": 57,
   "metadata": {},
   "outputs": [
    {
     "data": {
      "application/vnd.vegalite.v3+json": {
       "$schema": "https://vega.github.io/schema/vega-lite/v3.2.1.json",
       "config": {
        "axis": {
         "labelFontSize": 24,
         "titleFontSize": 24
        },
        "facet": {
         "spacing": 0
        },
        "header": {
         "titleFontSize": 24
        },
        "mark": {
         "tooltip": null
        },
        "view": {
         "height": 300,
         "stroke": null,
         "width": 400
        }
       },
       "data": {
        "name": "data-ea935d7b14ba6a8fbf5257332c8e603a"
       },
       "datasets": {
        "data-ea935d7b14ba6a8fbf5257332c8e603a": [
         {
          "author": "Chassagnole",
          "normalized_error": null,
          "sample_id": "WT",
          "unnormalized_error": null
         },
         {
          "author": "Chassagnole",
          "normalized_error": null,
          "sample_id": "fbaA",
          "unnormalized_error": null
         },
         {
          "author": "Chassagnole",
          "normalized_error": null,
          "sample_id": "fbaB",
          "unnormalized_error": null
         },
         {
          "author": "Chassagnole",
          "normalized_error": null,
          "sample_id": "fbp",
          "unnormalized_error": null
         },
         {
          "author": "Chassagnole",
          "normalized_error": null,
          "sample_id": "glk",
          "unnormalized_error": null
         },
         {
          "author": "Chassagnole",
          "normalized_error": null,
          "sample_id": "gnd",
          "unnormalized_error": null
         },
         {
          "author": "Chassagnole",
          "normalized_error": null,
          "sample_id": "gpmA",
          "unnormalized_error": null
         },
         {
          "author": "Chassagnole",
          "normalized_error": null,
          "sample_id": "gpmB",
          "unnormalized_error": null
         },
         {
          "author": "Chassagnole",
          "normalized_error": null,
          "sample_id": "pfkA",
          "unnormalized_error": null
         },
         {
          "author": "Chassagnole",
          "normalized_error": null,
          "sample_id": "pfkB",
          "unnormalized_error": null
         },
         {
          "author": "Chassagnole",
          "normalized_error": null,
          "sample_id": "pgi",
          "unnormalized_error": null
         },
         {
          "author": "Chassagnole",
          "normalized_error": null,
          "sample_id": "pgl",
          "unnormalized_error": null
         },
         {
          "author": "Chassagnole",
          "normalized_error": null,
          "sample_id": "pgm",
          "unnormalized_error": null
         },
         {
          "author": "Chassagnole",
          "normalized_error": null,
          "sample_id": "ppc",
          "unnormalized_error": null
         },
         {
          "author": "Chassagnole",
          "normalized_error": null,
          "sample_id": "ppsA",
          "unnormalized_error": null
         },
         {
          "author": "Chassagnole",
          "normalized_error": null,
          "sample_id": "pts",
          "unnormalized_error": null
         },
         {
          "author": "Chassagnole",
          "normalized_error": null,
          "sample_id": "pykA",
          "unnormalized_error": null
         },
         {
          "author": "Chassagnole",
          "normalized_error": null,
          "sample_id": "pykAF",
          "unnormalized_error": null
         },
         {
          "author": "Chassagnole",
          "normalized_error": null,
          "sample_id": "pykF",
          "unnormalized_error": null
         },
         {
          "author": "Chassagnole",
          "normalized_error": null,
          "sample_id": "rpe",
          "unnormalized_error": null
         },
         {
          "author": "Chassagnole",
          "normalized_error": null,
          "sample_id": "rpiA",
          "unnormalized_error": null
         },
         {
          "author": "Chassagnole",
          "normalized_error": null,
          "sample_id": "rpiB",
          "unnormalized_error": null
         },
         {
          "author": "Chassagnole",
          "normalized_error": null,
          "sample_id": "sdhCD",
          "unnormalized_error": null
         },
         {
          "author": "Chassagnole",
          "normalized_error": null,
          "sample_id": "sucA",
          "unnormalized_error": null
         },
         {
          "author": "Chassagnole",
          "normalized_error": null,
          "sample_id": "sucAB",
          "unnormalized_error": null
         },
         {
          "author": "Chassagnole",
          "normalized_error": null,
          "sample_id": "talA",
          "unnormalized_error": null
         },
         {
          "author": "Chassagnole",
          "normalized_error": null,
          "sample_id": "talAB",
          "unnormalized_error": null
         },
         {
          "author": "Chassagnole",
          "normalized_error": null,
          "sample_id": "talB",
          "unnormalized_error": null
         },
         {
          "author": "Chassagnole",
          "normalized_error": null,
          "sample_id": "tkt1",
          "unnormalized_error": null
         },
         {
          "author": "Chassagnole",
          "normalized_error": null,
          "sample_id": "tkt2",
          "unnormalized_error": null
         },
         {
          "author": "Chassagnole",
          "normalized_error": null,
          "sample_id": "tktA",
          "unnormalized_error": null
         },
         {
          "author": "Chassagnole",
          "normalized_error": null,
          "sample_id": "tktB",
          "unnormalized_error": null
         },
         {
          "author": "Chassagnole",
          "normalized_error": null,
          "sample_id": "tpi",
          "unnormalized_error": null
         },
         {
          "author": "Chassagnole",
          "normalized_error": null,
          "sample_id": "zwf",
          "unnormalized_error": null
         },
         {
          "author": "ECC2",
          "normalized_error": 0.5846004147435463,
          "sample_id": "WT",
          "unnormalized_error": 220.40230336921897
         },
         {
          "author": "ECC2",
          "normalized_error": null,
          "sample_id": "fbaA",
          "unnormalized_error": null
         },
         {
          "author": "ECC2",
          "normalized_error": 0.7198895193984354,
          "sample_id": "fbaB",
          "unnormalized_error": 263.29264122532646
         },
         {
          "author": "ECC2",
          "normalized_error": 0.5869690323757201,
          "sample_id": "fbp",
          "unnormalized_error": 223.70374758062266
         },
         {
          "author": "ECC2",
          "normalized_error": null,
          "sample_id": "glk",
          "unnormalized_error": null
         },
         {
          "author": "ECC2",
          "normalized_error": 0.6258200890826903,
          "sample_id": "gnd",
          "unnormalized_error": 272.1015082492023
         },
         {
          "author": "ECC2",
          "normalized_error": 0.9171874321942839,
          "sample_id": "gpmA",
          "unnormalized_error": 338.5763584256779
         },
         {
          "author": "ECC2",
          "normalized_error": null,
          "sample_id": "gpmB",
          "unnormalized_error": null
         },
         {
          "author": "ECC2",
          "normalized_error": 0.7401988435282156,
          "sample_id": "pfkA",
          "unnormalized_error": 275.8440149507896
         },
         {
          "author": "ECC2",
          "normalized_error": 0.6839886403724633,
          "sample_id": "pfkB",
          "unnormalized_error": 245.227813653433
         },
         {
          "author": "ECC2",
          "normalized_error": 0.5264141513941608,
          "sample_id": "pgi",
          "unnormalized_error": 160.2038358634755
         },
         {
          "author": "ECC2",
          "normalized_error": 0.49695713328978997,
          "sample_id": "pgl",
          "unnormalized_error": 190.74610555204592
         },
         {
          "author": "ECC2",
          "normalized_error": null,
          "sample_id": "pgm",
          "unnormalized_error": null
         },
         {
          "author": "ECC2",
          "normalized_error": null,
          "sample_id": "ppc",
          "unnormalized_error": null
         },
         {
          "author": "ECC2",
          "normalized_error": 0.5890631904333656,
          "sample_id": "ppsA",
          "unnormalized_error": 220.32932028330896
         },
         {
          "author": "ECC2",
          "normalized_error": null,
          "sample_id": "pts",
          "unnormalized_error": null
         },
         {
          "author": "ECC2",
          "normalized_error": 0.5796602416486392,
          "sample_id": "pykA",
          "unnormalized_error": 216.3678427484072
         },
         {
          "author": "ECC2",
          "normalized_error": null,
          "sample_id": "pykAF",
          "unnormalized_error": null
         },
         {
          "author": "ECC2",
          "normalized_error": 0.53662897842901,
          "sample_id": "pykF",
          "unnormalized_error": 189.42698897022808
         },
         {
          "author": "ECC2",
          "normalized_error": 0.6485589615915602,
          "sample_id": "rpe",
          "unnormalized_error": 284.75948565096274
         },
         {
          "author": "ECC2",
          "normalized_error": null,
          "sample_id": "rpiA",
          "unnormalized_error": null
         },
         {
          "author": "ECC2",
          "normalized_error": null,
          "sample_id": "rpiB",
          "unnormalized_error": null
         },
         {
          "author": "ECC2",
          "normalized_error": null,
          "sample_id": "sdhCD",
          "unnormalized_error": null
         },
         {
          "author": "ECC2",
          "normalized_error": null,
          "sample_id": "sucA",
          "unnormalized_error": null
         },
         {
          "author": "ECC2",
          "normalized_error": null,
          "sample_id": "sucAB",
          "unnormalized_error": null
         },
         {
          "author": "ECC2",
          "normalized_error": 0.5549448577959967,
          "sample_id": "talA",
          "unnormalized_error": 210.07430078743946
         },
         {
          "author": "ECC2",
          "normalized_error": null,
          "sample_id": "talAB",
          "unnormalized_error": null
         },
         {
          "author": "ECC2",
          "normalized_error": null,
          "sample_id": "talB",
          "unnormalized_error": null
         },
         {
          "author": "ECC2",
          "normalized_error": null,
          "sample_id": "tkt1",
          "unnormalized_error": null
         },
         {
          "author": "ECC2",
          "normalized_error": null,
          "sample_id": "tkt2",
          "unnormalized_error": null
         },
         {
          "author": "ECC2",
          "normalized_error": 0.6785948560529027,
          "sample_id": "tktA",
          "unnormalized_error": 305.9943654271953
         },
         {
          "author": "ECC2",
          "normalized_error": 0.5779240624541593,
          "sample_id": "tktB",
          "unnormalized_error": 225.90252487798804
         },
         {
          "author": "ECC2",
          "normalized_error": null,
          "sample_id": "tpi",
          "unnormalized_error": null
         },
         {
          "author": "ECC2",
          "normalized_error": 0.5315137831569737,
          "sample_id": "zwf",
          "unnormalized_error": 226.66118460397703
         },
         {
          "author": "Exp_ECC2",
          "normalized_error": 0.02628647637382896,
          "sample_id": "WT",
          "unnormalized_error": 9.91035892917388
         },
         {
          "author": "Exp_ECC2",
          "normalized_error": null,
          "sample_id": "fbaA",
          "unnormalized_error": null
         },
         {
          "author": "Exp_ECC2",
          "normalized_error": 0.5536329240885118,
          "sample_id": "fbaB",
          "unnormalized_error": 202.48589668922156
         },
         {
          "author": "Exp_ECC2",
          "normalized_error": 0.09746427358129035,
          "sample_id": "fbp",
          "unnormalized_error": 37.14527011265137
         },
         {
          "author": "Exp_ECC2",
          "normalized_error": null,
          "sample_id": "glk",
          "unnormalized_error": null
         },
         {
          "author": "Exp_ECC2",
          "normalized_error": 0.19657925014841282,
          "sample_id": "gnd",
          "unnormalized_error": 85.47106650776232
         },
         {
          "author": "Exp_ECC2",
          "normalized_error": 0.9122117736646536,
          "sample_id": "gpmA",
          "unnormalized_error": 336.7396124274237
         },
         {
          "author": "Exp_ECC2",
          "normalized_error": null,
          "sample_id": "gpmB",
          "unnormalized_error": null
         },
         {
          "author": "Exp_ECC2",
          "normalized_error": 0.5794683245827661,
          "sample_id": "pfkA",
          "unnormalized_error": 215.94585101999618
         },
         {
          "author": "Exp_ECC2",
          "normalized_error": 0.5214060133301518,
          "sample_id": "pfkB",
          "unnormalized_error": 186.9376903760835
         },
         {
          "author": "Exp_ECC2",
          "normalized_error": 0.3067397230061674,
          "sample_id": "pgi",
          "unnormalized_error": 93.35022644650176
         },
         {
          "author": "Exp_ECC2",
          "normalized_error": 0.11142412880038668,
          "sample_id": "pgl",
          "unnormalized_error": 42.76771014937754
         },
         {
          "author": "Exp_ECC2",
          "normalized_error": null,
          "sample_id": "pgm",
          "unnormalized_error": null
         },
         {
          "author": "Exp_ECC2",
          "normalized_error": null,
          "sample_id": "ppc",
          "unnormalized_error": null
         },
         {
          "author": "Exp_ECC2",
          "normalized_error": 0.15298312853688606,
          "sample_id": "ppsA",
          "unnormalized_error": 57.22080291682912
         },
         {
          "author": "Exp_ECC2",
          "normalized_error": null,
          "sample_id": "pts",
          "unnormalized_error": null
         },
         {
          "author": "Exp_ECC2",
          "normalized_error": 0.22959765685080297,
          "sample_id": "pykA",
          "unnormalized_error": 85.70115068027957
         },
         {
          "author": "Exp_ECC2",
          "normalized_error": null,
          "sample_id": "pykAF",
          "unnormalized_error": null
         },
         {
          "author": "Exp_ECC2",
          "normalized_error": 0.328575443751537,
          "sample_id": "pykF",
          "unnormalized_error": 115.98527001210762
         },
         {
          "author": "Exp_ECC2",
          "normalized_error": 0.2076596215001868,
          "sample_id": "rpe",
          "unnormalized_error": 91.17605416129724
         },
         {
          "author": "Exp_ECC2",
          "normalized_error": null,
          "sample_id": "rpiA",
          "unnormalized_error": null
         },
         {
          "author": "Exp_ECC2",
          "normalized_error": null,
          "sample_id": "rpiB",
          "unnormalized_error": null
         },
         {
          "author": "Exp_ECC2",
          "normalized_error": null,
          "sample_id": "sdhCD",
          "unnormalized_error": null
         },
         {
          "author": "Exp_ECC2",
          "normalized_error": null,
          "sample_id": "sucA",
          "unnormalized_error": null
         },
         {
          "author": "Exp_ECC2",
          "normalized_error": null,
          "sample_id": "sucAB",
          "unnormalized_error": null
         },
         {
          "author": "Exp_ECC2",
          "normalized_error": 0.1107091928526484,
          "sample_id": "talA",
          "unnormalized_error": 41.90894996600088
         },
         {
          "author": "Exp_ECC2",
          "normalized_error": null,
          "sample_id": "talAB",
          "unnormalized_error": null
         },
         {
          "author": "Exp_ECC2",
          "normalized_error": null,
          "sample_id": "talB",
          "unnormalized_error": null
         },
         {
          "author": "Exp_ECC2",
          "normalized_error": null,
          "sample_id": "tkt1",
          "unnormalized_error": null
         },
         {
          "author": "Exp_ECC2",
          "normalized_error": null,
          "sample_id": "tkt2",
          "unnormalized_error": null
         },
         {
          "author": "Exp_ECC2",
          "normalized_error": 0.3020153540833941,
          "sample_id": "tktA",
          "unnormalized_error": 136.18581956184659
         },
         {
          "author": "Exp_ECC2",
          "normalized_error": 0.13982475049448895,
          "sample_id": "tktB",
          "unnormalized_error": 54.655561568082675
         },
         {
          "author": "Exp_ECC2",
          "normalized_error": null,
          "sample_id": "tpi",
          "unnormalized_error": null
         },
         {
          "author": "Exp_ECC2",
          "normalized_error": 0.14320853942711592,
          "sample_id": "zwf",
          "unnormalized_error": 61.0705088382797
         },
         {
          "author": "Exp_iML1515",
          "normalized_error": 0.028876131166354808,
          "sample_id": "WT",
          "unnormalized_error": 10.886693989514571
         },
         {
          "author": "Exp_iML1515",
          "normalized_error": null,
          "sample_id": "fbaA",
          "unnormalized_error": null
         },
         {
          "author": "Exp_iML1515",
          "normalized_error": 0.3030775075910103,
          "sample_id": "fbaB",
          "unnormalized_error": 110.8476722043517
         },
         {
          "author": "Exp_iML1515",
          "normalized_error": 0.11750165026583129,
          "sample_id": "fbp",
          "unnormalized_error": 44.78185059437461
         },
         {
          "author": "Exp_iML1515",
          "normalized_error": null,
          "sample_id": "glk",
          "unnormalized_error": null
         },
         {
          "author": "Exp_iML1515",
          "normalized_error": 0.19502513782255826,
          "sample_id": "gnd",
          "unnormalized_error": 84.79535105018802
         },
         {
          "author": "Exp_iML1515",
          "normalized_error": 0.08674950890393571,
          "sample_id": "gpmA",
          "unnormalized_error": 32.023261319272926
         },
         {
          "author": "Exp_iML1515",
          "normalized_error": null,
          "sample_id": "gpmB",
          "unnormalized_error": null
         },
         {
          "author": "Exp_iML1515",
          "normalized_error": 0.29399536566202494,
          "sample_id": "pfkA",
          "unnormalized_error": 109.56091427349972
         },
         {
          "author": "Exp_iML1515",
          "normalized_error": 0.3662989418624153,
          "sample_id": "pfkB",
          "unnormalized_error": 131.32774925555972
         },
         {
          "author": "Exp_iML1515",
          "normalized_error": 0.49526024427411414,
          "sample_id": "pgi",
          "unnormalized_error": 150.72275445723332
         },
         {
          "author": "Exp_iML1515",
          "normalized_error": 0.12352266129244342,
          "sample_id": "pgl",
          "unnormalized_error": 47.411466725478434
         },
         {
          "author": "Exp_iML1515",
          "normalized_error": null,
          "sample_id": "pgm",
          "unnormalized_error": null
         },
         {
          "author": "Exp_iML1515",
          "normalized_error": null,
          "sample_id": "ppc",
          "unnormalized_error": null
         },
         {
          "author": "Exp_iML1515",
          "normalized_error": 0.14993274030992695,
          "sample_id": "ppsA",
          "unnormalized_error": 56.07985577302327
         },
         {
          "author": "Exp_iML1515",
          "normalized_error": null,
          "sample_id": "pts",
          "unnormalized_error": null
         },
         {
          "author": "Exp_iML1515",
          "normalized_error": 0.15844055387952186,
          "sample_id": "pykA",
          "unnormalized_error": 59.14057646816254
         },
         {
          "author": "Exp_iML1515",
          "normalized_error": null,
          "sample_id": "pykAF",
          "unnormalized_error": null
         },
         {
          "author": "Exp_iML1515",
          "normalized_error": 0.28936602176504383,
          "sample_id": "pykF",
          "unnormalized_error": 102.14456620235796
         },
         {
          "author": "Exp_iML1515",
          "normalized_error": 0.21579519713708564,
          "sample_id": "rpe",
          "unnormalized_error": 94.7480999906428
         },
         {
          "author": "Exp_iML1515",
          "normalized_error": 0.4875726645650236,
          "sample_id": "rpiA",
          "unnormalized_error": 186.62126373367366
         },
         {
          "author": "Exp_iML1515",
          "normalized_error": 0.5420963936252596,
          "sample_id": "rpiB",
          "unnormalized_error": 225.8382944748108
         },
         {
          "author": "Exp_iML1515",
          "normalized_error": null,
          "sample_id": "sdhCD",
          "unnormalized_error": null
         },
         {
          "author": "Exp_iML1515",
          "normalized_error": null,
          "sample_id": "sucA",
          "unnormalized_error": null
         },
         {
          "author": "Exp_iML1515",
          "normalized_error": null,
          "sample_id": "sucAB",
          "unnormalized_error": null
         },
         {
          "author": "Exp_iML1515",
          "normalized_error": 0.0957595714968403,
          "sample_id": "talA",
          "unnormalized_error": 36.249772825714906
         },
         {
          "author": "Exp_iML1515",
          "normalized_error": null,
          "sample_id": "talAB",
          "unnormalized_error": null
         },
         {
          "author": "Exp_iML1515",
          "normalized_error": null,
          "sample_id": "talB",
          "unnormalized_error": null
         },
         {
          "author": "Exp_iML1515",
          "normalized_error": null,
          "sample_id": "tkt1",
          "unnormalized_error": null
         },
         {
          "author": "Exp_iML1515",
          "normalized_error": null,
          "sample_id": "tkt2",
          "unnormalized_error": null
         },
         {
          "author": "Exp_iML1515",
          "normalized_error": 0.30613259181702535,
          "sample_id": "tktA",
          "unnormalized_error": 138.04237879800618
         },
         {
          "author": "Exp_iML1515",
          "normalized_error": 0.13481589251343545,
          "sample_id": "tktB",
          "unnormalized_error": 52.69766824232243
         },
         {
          "author": "Exp_iML1515",
          "normalized_error": null,
          "sample_id": "tpi",
          "unnormalized_error": null
         },
         {
          "author": "Exp_iML1515",
          "normalized_error": 0.171759711333949,
          "sample_id": "zwf",
          "unnormalized_error": 73.24600202642783
         },
         {
          "author": "Khodayari",
          "normalized_error": 0.08626454018003622,
          "sample_id": "WT",
          "unnormalized_error": 32.5229043210774
         },
         {
          "author": "Khodayari",
          "normalized_error": null,
          "sample_id": "fbaA",
          "unnormalized_error": null
         },
         {
          "author": "Khodayari",
          "normalized_error": 0.09138195379180071,
          "sample_id": "fbaB",
          "unnormalized_error": 33.42206731149452
         },
         {
          "author": "Khodayari",
          "normalized_error": 0.16100755550333462,
          "sample_id": "fbp",
          "unnormalized_error": 61.36268110961581
         },
         {
          "author": "Khodayari",
          "normalized_error": null,
          "sample_id": "glk",
          "unnormalized_error": null
         },
         {
          "author": "Khodayari",
          "normalized_error": 0.38715668047162716,
          "sample_id": "gnd",
          "unnormalized_error": 168.33259034477044
         },
         {
          "author": "Khodayari",
          "normalized_error": null,
          "sample_id": "gpmA",
          "unnormalized_error": null
         },
         {
          "author": "Khodayari",
          "normalized_error": null,
          "sample_id": "gpmB",
          "unnormalized_error": null
         },
         {
          "author": "Khodayari",
          "normalized_error": 0.10258406287943597,
          "sample_id": "pfkA",
          "unnormalized_error": 38.22918668684628
         },
         {
          "author": "Khodayari",
          "normalized_error": 0.2341304700928845,
          "sample_id": "pfkB",
          "unnormalized_error": 83.94189596374477
         },
         {
          "author": "Khodayari",
          "normalized_error": 0.2478641142264956,
          "sample_id": "pgi",
          "unnormalized_error": 75.43258813772783
         },
         {
          "author": "Khodayari",
          "normalized_error": 0.06443097602076861,
          "sample_id": "pgl",
          "unnormalized_error": 24.730418238532945
         },
         {
          "author": "Khodayari",
          "normalized_error": null,
          "sample_id": "pgm",
          "unnormalized_error": null
         },
         {
          "author": "Khodayari",
          "normalized_error": null,
          "sample_id": "ppc",
          "unnormalized_error": null
         },
         {
          "author": "Khodayari",
          "normalized_error": 0.13159027072140456,
          "sample_id": "ppsA",
          "unnormalized_error": 49.219159123851874
         },
         {
          "author": "Khodayari",
          "normalized_error": null,
          "sample_id": "pts",
          "unnormalized_error": null
         },
         {
          "author": "Khodayari",
          "normalized_error": 0.09719833059532582,
          "sample_id": "pykA",
          "unnormalized_error": 36.28089628821712
         },
         {
          "author": "Khodayari",
          "normalized_error": null,
          "sample_id": "pykAF",
          "unnormalized_error": null
         },
         {
          "author": "Khodayari",
          "normalized_error": 0.24397215594827465,
          "sample_id": "pykF",
          "unnormalized_error": 86.1207887601439
         },
         {
          "author": "Khodayari",
          "normalized_error": 0.17894054479050264,
          "sample_id": "rpe",
          "unnormalized_error": 78.56651517327468
         },
         {
          "author": "Khodayari",
          "normalized_error": 0.2580435292967993,
          "sample_id": "rpiA",
          "unnormalized_error": 98.76765667047296
         },
         {
          "author": "Khodayari",
          "normalized_error": 0.2684357829542535,
          "sample_id": "rpiB",
          "unnormalized_error": 111.83081110904165
         },
         {
          "author": "Khodayari",
          "normalized_error": null,
          "sample_id": "sdhCD",
          "unnormalized_error": null
         },
         {
          "author": "Khodayari",
          "normalized_error": null,
          "sample_id": "sucA",
          "unnormalized_error": null
         },
         {
          "author": "Khodayari",
          "normalized_error": null,
          "sample_id": "sucAB",
          "unnormalized_error": null
         },
         {
          "author": "Khodayari",
          "normalized_error": 0.08985056219245564,
          "sample_id": "talA",
          "unnormalized_error": 34.01291815353159
         },
         {
          "author": "Khodayari",
          "normalized_error": null,
          "sample_id": "talAB",
          "unnormalized_error": null
         },
         {
          "author": "Khodayari",
          "normalized_error": null,
          "sample_id": "talB",
          "unnormalized_error": null
         },
         {
          "author": "Khodayari",
          "normalized_error": null,
          "sample_id": "tkt1",
          "unnormalized_error": null
         },
         {
          "author": "Khodayari",
          "normalized_error": null,
          "sample_id": "tkt2",
          "unnormalized_error": null
         },
         {
          "author": "Khodayari",
          "normalized_error": 0.2539911776073175,
          "sample_id": "tktA",
          "unnormalized_error": 114.53058997252138
         },
         {
          "author": "Khodayari",
          "normalized_error": 0.09867985291358512,
          "sample_id": "tktB",
          "unnormalized_error": 38.572590026973586
         },
         {
          "author": "Khodayari",
          "normalized_error": null,
          "sample_id": "tpi",
          "unnormalized_error": null
         },
         {
          "author": "Khodayari",
          "normalized_error": 0.31154141427835896,
          "sample_id": "zwf",
          "unnormalized_error": 132.85515493899513
         },
         {
          "author": "Kurata",
          "normalized_error": 0.4290517614624855,
          "sample_id": "WT",
          "unnormalized_error": 161.75834656640814
         },
         {
          "author": "Kurata",
          "normalized_error": null,
          "sample_id": "fbaA",
          "unnormalized_error": null
         },
         {
          "author": "Kurata",
          "normalized_error": 0.4103629941322574,
          "sample_id": "fbaB",
          "unnormalized_error": 150.08630307120157
         },
         {
          "author": "Kurata",
          "normalized_error": 0.40847615723203634,
          "sample_id": "fbp",
          "unnormalized_error": 155.67711775235048
         },
         {
          "author": "Kurata",
          "normalized_error": null,
          "sample_id": "glk",
          "unnormalized_error": null
         },
         {
          "author": "Kurata",
          "normalized_error": 0.8562057556746754,
          "sample_id": "gnd",
          "unnormalized_error": 372.27133093828184
         },
         {
          "author": "Kurata",
          "normalized_error": 1,
          "sample_id": "gpmA",
          "unnormalized_error": 369.14631245618585
         },
         {
          "author": "Kurata",
          "normalized_error": null,
          "sample_id": "gpmB",
          "unnormalized_error": null
         },
         {
          "author": "Kurata",
          "normalized_error": 0.5733636526409739,
          "sample_id": "pfkA",
          "unnormalized_error": 213.67087148834122
         },
         {
          "author": "Kurata",
          "normalized_error": 0.5089435525961448,
          "sample_id": "pfkB",
          "unnormalized_error": 182.46957231365764
         },
         {
          "author": "Kurata",
          "normalized_error": 0.5377521956379365,
          "sample_id": "pgi",
          "unnormalized_error": 163.65434754564075
         },
         {
          "author": "Kurata",
          "normalized_error": 1.000000068030102,
          "sample_id": "pgl",
          "unnormalized_error": 383.82811262977367
         },
         {
          "author": "Kurata",
          "normalized_error": null,
          "sample_id": "pgm",
          "unnormalized_error": null
         },
         {
          "author": "Kurata",
          "normalized_error": null,
          "sample_id": "ppc",
          "unnormalized_error": null
         },
         {
          "author": "Kurata",
          "normalized_error": 0.49388855765828366,
          "sample_id": "ppsA",
          "unnormalized_error": 184.73082679720235
         },
         {
          "author": "Kurata",
          "normalized_error": null,
          "sample_id": "pts",
          "unnormalized_error": null
         },
         {
          "author": "Kurata",
          "normalized_error": 0.4064879463120327,
          "sample_id": "pykA",
          "unnormalized_error": 151.72839834006814
         },
         {
          "author": "Kurata",
          "normalized_error": null,
          "sample_id": "pykAF",
          "unnormalized_error": null
         },
         {
          "author": "Kurata",
          "normalized_error": 0.319800713456623,
          "sample_id": "pykF",
          "unnormalized_error": 112.88783993358774
         },
         {
          "author": "Kurata",
          "normalized_error": 1,
          "sample_id": "rpe",
          "unnormalized_error": 439.0649154737828
         },
         {
          "author": "Kurata",
          "normalized_error": 0.4291610868328768,
          "sample_id": "rpiA",
          "unnormalized_error": 164.26389375524005
         },
         {
          "author": "Kurata",
          "normalized_error": 0.4737364631830639,
          "sample_id": "rpiB",
          "unnormalized_error": 197.35942930797412
         },
         {
          "author": "Kurata",
          "normalized_error": null,
          "sample_id": "sdhCD",
          "unnormalized_error": null
         },
         {
          "author": "Kurata",
          "normalized_error": null,
          "sample_id": "sucA",
          "unnormalized_error": null
         },
         {
          "author": "Kurata",
          "normalized_error": null,
          "sample_id": "sucAB",
          "unnormalized_error": null
         },
         {
          "author": "Kurata",
          "normalized_error": 0.4766159000083567,
          "sample_id": "talA",
          "unnormalized_error": 180.42288442149788
         },
         {
          "author": "Kurata",
          "normalized_error": null,
          "sample_id": "talAB",
          "unnormalized_error": null
         },
         {
          "author": "Kurata",
          "normalized_error": 0.48563549208927553,
          "sample_id": "talB",
          "unnormalized_error": 189.14551694492678
         },
         {
          "author": "Kurata",
          "normalized_error": null,
          "sample_id": "tkt1",
          "unnormalized_error": null
         },
         {
          "author": "Kurata",
          "normalized_error": null,
          "sample_id": "tkt2",
          "unnormalized_error": null
         },
         {
          "author": "Kurata",
          "normalized_error": 0.5634927253676616,
          "sample_id": "tktA",
          "unnormalized_error": 254.09211016517975
         },
         {
          "author": "Kurata",
          "normalized_error": 0.49804358976829566,
          "sample_id": "tktB",
          "unnormalized_error": 194.67835263716688
         },
         {
          "author": "Kurata",
          "normalized_error": null,
          "sample_id": "tpi",
          "unnormalized_error": null
         },
         {
          "author": "Kurata",
          "normalized_error": 0.3998278217237869,
          "sample_id": "zwf",
          "unnormalized_error": 170.50441697158504
         },
         {
          "author": "Millard",
          "normalized_error": 0.07581158695388648,
          "sample_id": "WT",
          "unnormalized_error": 28.58199885821561
         },
         {
          "author": "Millard",
          "normalized_error": null,
          "sample_id": "fbaA",
          "unnormalized_error": null
         },
         {
          "author": "Millard",
          "normalized_error": 0.9975350478805866,
          "sample_id": "fbaB",
          "unnormalized_error": 364.8388126150055
         },
         {
          "author": "Millard",
          "normalized_error": 0.09381200836540193,
          "sample_id": "fbp",
          "unnormalized_error": 35.75333055385432
         },
         {
          "author": "Millard",
          "normalized_error": null,
          "sample_id": "glk",
          "unnormalized_error": null
         },
         {
          "author": "Millard",
          "normalized_error": 0.21294864452957682,
          "sample_id": "gnd",
          "unnormalized_error": 92.58834666214261
         },
         {
          "author": "Millard",
          "normalized_error": null,
          "sample_id": "gpmA",
          "unnormalized_error": null
         },
         {
          "author": "Millard",
          "normalized_error": null,
          "sample_id": "gpmB",
          "unnormalized_error": null
         },
         {
          "author": "Millard",
          "normalized_error": 1.0001830352754906,
          "sample_id": "pfkA",
          "unnormalized_error": 372.7302555904922
         },
         {
          "author": "Millard",
          "normalized_error": 0.9996937663257283,
          "sample_id": "pfkB",
          "unnormalized_error": 358.4163568937744
         },
         {
          "author": "Millard",
          "normalized_error": 0.7559627196463702,
          "sample_id": "pgi",
          "unnormalized_error": 230.06244633885615
         },
         {
          "author": "Millard",
          "normalized_error": 0.18577731967806382,
          "sample_id": "pgl",
          "unnormalized_error": 71.30655313045726
         },
         {
          "author": "Millard",
          "normalized_error": null,
          "sample_id": "pgm",
          "unnormalized_error": null
         },
         {
          "author": "Millard",
          "normalized_error": null,
          "sample_id": "ppc",
          "unnormalized_error": null
         },
         {
          "author": "Millard",
          "normalized_error": 0.18732914736336762,
          "sample_id": "ppsA",
          "unnormalized_error": 70.06736183508228
         },
         {
          "author": "Millard",
          "normalized_error": null,
          "sample_id": "pts",
          "unnormalized_error": null
         },
         {
          "author": "Millard",
          "normalized_error": 0.29233605477908076,
          "sample_id": "pykA",
          "unnormalized_error": 109.11930297346518
         },
         {
          "author": "Millard",
          "normalized_error": null,
          "sample_id": "pykAF",
          "unnormalized_error": null
         },
         {
          "author": "Millard",
          "normalized_error": 0.28384269179698235,
          "sample_id": "pykF",
          "unnormalized_error": 100.19486201753762
         },
         {
          "author": "Millard",
          "normalized_error": 0.2679820140682344,
          "sample_id": "rpe",
          "unnormalized_error": 117.66150035536342
         },
         {
          "author": "Millard",
          "normalized_error": 0.24880667871048653,
          "sample_id": "rpiA",
          "unnormalized_error": 95.23219856419325
         },
         {
          "author": "Millard",
          "normalized_error": 0.26562648222449475,
          "sample_id": "rpiB",
          "unnormalized_error": 110.6604515697857
         },
         {
          "author": "Millard",
          "normalized_error": null,
          "sample_id": "sdhCD",
          "unnormalized_error": null
         },
         {
          "author": "Millard",
          "normalized_error": null,
          "sample_id": "sucA",
          "unnormalized_error": null
         },
         {
          "author": "Millard",
          "normalized_error": null,
          "sample_id": "sucAB",
          "unnormalized_error": null
         },
         {
          "author": "Millard",
          "normalized_error": null,
          "sample_id": "talA",
          "unnormalized_error": null
         },
         {
          "author": "Millard",
          "normalized_error": null,
          "sample_id": "talAB",
          "unnormalized_error": null
         },
         {
          "author": "Millard",
          "normalized_error": null,
          "sample_id": "talB",
          "unnormalized_error": null
         },
         {
          "author": "Millard",
          "normalized_error": null,
          "sample_id": "tkt1",
          "unnormalized_error": null
         },
         {
          "author": "Millard",
          "normalized_error": null,
          "sample_id": "tkt2",
          "unnormalized_error": null
         },
         {
          "author": "Millard",
          "normalized_error": null,
          "sample_id": "tktA",
          "unnormalized_error": null
         },
         {
          "author": "Millard",
          "normalized_error": null,
          "sample_id": "tktB",
          "unnormalized_error": null
         },
         {
          "author": "Millard",
          "normalized_error": null,
          "sample_id": "tpi",
          "unnormalized_error": null
         },
         {
          "author": "Millard",
          "normalized_error": 0.16084745679000298,
          "sample_id": "zwf",
          "unnormalized_error": 68.59252996227919
         },
         {
          "author": "iML1515",
          "normalized_error": 0.35854831743447396,
          "sample_id": "WT",
          "unnormalized_error": 135.17758974971431
         },
         {
          "author": "iML1515",
          "normalized_error": null,
          "sample_id": "fbaA",
          "unnormalized_error": null
         },
         {
          "author": "iML1515",
          "normalized_error": 0.4175552542939995,
          "sample_id": "fbaB",
          "unnormalized_error": 152.7168027844731
         },
         {
          "author": "iML1515",
          "normalized_error": 0.37444175646006705,
          "sample_id": "fbp",
          "unnormalized_error": 142.70603652079947
         },
         {
          "author": "iML1515",
          "normalized_error": null,
          "sample_id": "glk",
          "unnormalized_error": null
         },
         {
          "author": "iML1515",
          "normalized_error": 0.40974358672465744,
          "sample_id": "gnd",
          "unnormalized_error": 178.15319432560688
         },
         {
          "author": "iML1515",
          "normalized_error": 0.29401204338992315,
          "sample_id": "gpmA",
          "unnormalized_error": 108.53346163509823
         },
         {
          "author": "iML1515",
          "normalized_error": null,
          "sample_id": "gpmB",
          "unnormalized_error": null
         },
         {
          "author": "iML1515",
          "normalized_error": 0.4190812309026285,
          "sample_id": "pfkA",
          "unnormalized_error": 156.17566865097834
         },
         {
          "author": "iML1515",
          "normalized_error": 0.4434682750195226,
          "sample_id": "pfkB",
          "unnormalized_error": 158.9949731452807
         },
         {
          "author": "iML1515",
          "normalized_error": 0.4901835626790297,
          "sample_id": "pgi",
          "unnormalized_error": 149.17776585304009
         },
         {
          "author": "iML1515",
          "normalized_error": 0.35339150973335187,
          "sample_id": "pgl",
          "unnormalized_error": 135.64158697262772
         },
         {
          "author": "iML1515",
          "normalized_error": null,
          "sample_id": "pgm",
          "unnormalized_error": null
         },
         {
          "author": "iML1515",
          "normalized_error": null,
          "sample_id": "ppc",
          "unnormalized_error": null
         },
         {
          "author": "iML1515",
          "normalized_error": 0.3722098764916622,
          "sample_id": "ppsA",
          "unnormalized_error": 139.21893342174312
         },
         {
          "author": "iML1515",
          "normalized_error": null,
          "sample_id": "pts",
          "unnormalized_error": null
         },
         {
          "author": "iML1515",
          "normalized_error": 0.3631411636343899,
          "sample_id": "pykA",
          "unnormalized_error": 135.54848951732265
         },
         {
          "author": "iML1515",
          "normalized_error": null,
          "sample_id": "pykAF",
          "unnormalized_error": null
         },
         {
          "author": "iML1515",
          "normalized_error": 0.3783451599881313,
          "sample_id": "pykF",
          "unnormalized_error": 133.55369785996731
         },
         {
          "author": "iML1515",
          "normalized_error": 0.43588125656644533,
          "sample_id": "rpe",
          "unnormalized_error": 191.38016707095255
         },
         {
          "author": "iML1515",
          "normalized_error": 0.5693158579346238,
          "sample_id": "rpiA",
          "unnormalized_error": 217.90894484653967
         },
         {
          "author": "iML1515",
          "normalized_error": 0.6226565077421666,
          "sample_id": "rpiB",
          "unnormalized_error": 259.39977724577943
         },
         {
          "author": "iML1515",
          "normalized_error": null,
          "sample_id": "sdhCD",
          "unnormalized_error": null
         },
         {
          "author": "iML1515",
          "normalized_error": null,
          "sample_id": "sucA",
          "unnormalized_error": null
         },
         {
          "author": "iML1515",
          "normalized_error": null,
          "sample_id": "sucAB",
          "unnormalized_error": null
         },
         {
          "author": "iML1515",
          "normalized_error": 0.3654303291424151,
          "sample_id": "talA",
          "unnormalized_error": 138.3336016230593
         },
         {
          "author": "iML1515",
          "normalized_error": null,
          "sample_id": "talAB",
          "unnormalized_error": null
         },
         {
          "author": "iML1515",
          "normalized_error": null,
          "sample_id": "talB",
          "unnormalized_error": null
         },
         {
          "author": "iML1515",
          "normalized_error": null,
          "sample_id": "tkt1",
          "unnormalized_error": null
         },
         {
          "author": "iML1515",
          "normalized_error": null,
          "sample_id": "tkt2",
          "unnormalized_error": null
         },
         {
          "author": "iML1515",
          "normalized_error": 0.4856988729889868,
          "sample_id": "tktA",
          "unnormalized_error": 219.01303421814114
         },
         {
          "author": "iML1515",
          "normalized_error": 0.35057014159455757,
          "sample_id": "tktB",
          "unnormalized_error": 137.03302090718194
         },
         {
          "author": "iML1515",
          "normalized_error": null,
          "sample_id": "tpi",
          "unnormalized_error": null
         },
         {
          "author": "iML1515",
          "normalized_error": 0.3958556632339242,
          "sample_id": "zwf",
          "unnormalized_error": 168.81051141865768
         }
        ]
       },
       "encoding": {
        "color": {
         "field": "author",
         "legend": null,
         "type": "nominal"
        },
        "column": {
         "field": "author",
         "header": {
          "labelAlign": "right",
          "labelAngle": -90,
          "labelFontSize": 20,
          "labelOrient": "bottom",
          "labelPadding": 3,
          "title": "Summary for knockout simulations",
          "titleOrient": "top"
         },
         "sort": [
          "Khodayari",
          "Kurata",
          "Millard",
          "iML1515"
         ],
         "type": "nominal"
        },
        "opacity": {
         "condition": {
          "selection": "selector031",
          "value": 1
         },
         "value": 0.5
        },
        "size": {
         "condition": {
          "selection": "selector031",
          "value": 150
         },
         "value": 60
        },
        "tooltip": [
         {
          "field": "author",
          "type": "nominal"
         },
         {
          "field": "sample_id",
          "type": "nominal"
         },
         {
          "field": "normalized_error",
          "type": "quantitative"
         }
        ],
        "x": {
         "axis": {
          "grid": false,
          "labels": false,
          "ticks": true,
          "values": [
           0
          ]
         },
         "field": "jitter",
         "scale": {},
         "title": null,
         "type": "quantitative"
        },
        "y": {
         "field": "normalized_error",
         "title": "Normalized error",
         "type": "quantitative"
        }
       },
       "height": 600,
       "mark": "circle",
       "selection": {
        "selector031": {
         "empty": "none",
         "fields": [
          "sample_id"
         ],
         "type": "single"
        }
       },
       "transform": [
        {
         "as": "jitter",
         "calculate": "sqrt(-2*log(random()))*cos(2*PI*random())"
        },
        {
         "filter": "datum.normalized_error !== null"
        }
       ],
       "width": 100
      },
      "image/png": "[encoded data removed]",
      "text/plain": [
       "<VegaLite 3 object>\n",
       "\n",
       "If you see this message, it means the renderer has not been properly enabled\n",
       "for the frontend that you are using. For more information, see\n",
       "https://altair-viz.github.io/user_guide/troubleshooting.html\n"
      ]
     },
     "execution_count": 57,
     "metadata": {},
     "output_type": "execute_result"
    }
   ],
   "source": [
    "source = x_norm_error.to_dataframe().reset_index().query(\"author != 'Ishii'\")\n",
    "\n",
    "selector = alt.selection_single(empty=\"none\", fields=[\"sample_id\"])\n",
    "opacity = alt.condition(selector, alt.OpacityValue(1.0), alt.OpacityValue(0.5))\n",
    "size = alt.condition(selector, alt.SizeValue(150), alt.SizeValue(60))\n",
    "\n",
    "stripplot =  alt.Chart(source, width=100, height=600).mark_circle().encode(\n",
    "    x=alt.X(\n",
    "        'jitter:Q',\n",
    "        title=None,\n",
    "        axis=alt.Axis(values=[0], ticks=True, grid=False, labels=False),\n",
    "        scale=alt.Scale(),\n",
    "    ),\n",
    "    y=alt.Y(\"normalized_error:Q\", title = \"Normalized error\"),\n",
    "    color=alt.Color(\"author:N\", legend=None),\n",
    "    column=alt.Column(\n",
    "        \"author:N\",\n",
    "        header=alt.Header(\n",
    "            labelAngle=-90,\n",
    "            titleOrient='top',\n",
    "            labelOrient='bottom',\n",
    "            labelAlign='right',\n",
    "            labelPadding=3,\n",
    "            labelFontSize=20,\n",
    "            title = \"Summary for knockout simulations\",\n",
    "        ),\n",
    "        sort=[\"Khodayari\", \"Kurata\", \"Millard\", \"iML1515\"],\n",
    "    ),\n",
    "    size = size,\n",
    "    opacity = opacity,\n",
    "    tooltip=[\"author\", \"sample_id\", \"normalized_error\"],\n",
    ").transform_calculate(\n",
    "    # Generate Gaussian jitter with a Box-Muller transform\n",
    "    jitter='sqrt(-2*log(random()))*cos(2*PI*random())'\n",
    ").configure_facet(\n",
    "    spacing=0\n",
    ").configure_view(\n",
    "    stroke=None\n",
    ").add_selection(\n",
    "    selector\n",
    ").transform_filter(\n",
    "    \"datum.normalized_error !== null\"\n",
    ")\n",
    "\n",
    "stripplot.configure_axis(\n",
    "    labelFontSize=24,\n",
    "    titleFontSize=24\n",
    ").configure_header(titleFontSize=24,)\n",
    "#.configure_legend(labelFontSize=16, titleFontSize=20).configure(invalidValues=None)\n"
   ]
  },
  {
   "cell_type": "code",
   "execution_count": 53,
   "metadata": {},
   "outputs": [
    {
     "data": {
      "text/plain": [
       "altair.vegalite.v3.api.Chart"
      ]
     },
     "execution_count": 53,
     "metadata": {},
     "output_type": "execute_result"
    }
   ],
   "source": []
  },
  {
   "cell_type": "code",
   "execution_count": 42,
   "metadata": {},
   "outputs": [],
   "source": [
    "ml_wt = x_rel_error.sel(dict(author=\"Millard\", sample_id = \"WT\")).normalized_flux"
   ]
  },
  {
   "cell_type": "code",
   "execution_count": 73,
   "metadata": {},
   "outputs": [
    {
     "name": "stdout",
     "output_type": "stream",
     "text": [
      "Normalized flux: Khod -> Millard & Ishii\n",
      "AKGDH : 55.42 -> 47.56 & 59.00\n",
      "CS : 89.11 -> 78.44 & 84.50\n",
      "EDA : 0.00 -> 5.99 & 0.00\n",
      "FBA : 80.14 -> 82.29 & 86.50\n",
      "FUM : 80.56 -> 69.40 & 76.00\n",
      "G6PDH2r : 17.87 -> 16.19 & 16.00\n",
      "GAPD : 158.70 -> 168.37 & 173.00\n",
      "GLCptspp : 99.88 -> 100.00 & 100.00\n",
      "GND : 16.28 -> 10.21 & 16.00\n",
      "ICDHyr : 76.21 -> 56.60 & 67.50\n",
      "ICL : 12.13 -> 21.84 & 16.50\n",
      "MALS : 12.16 -> 21.84 & 16.50\n",
      "MDH : 87.99 -> 86.59 & 86.50\n",
      "PDH : 116.37 -> 131.64 & 128.00\n",
      "PGI : 79.57 -> 82.09 & 82.50\n",
      "PGM : -153.97 -> 155.85 & 162.00\n",
      "PPC : 16.88 -> 23.54 & 12.50\n",
      "PTAr : 0.00 -> 6.85 & 0.00\n",
      "PYK : 29.11 -> 44.72 & 47.00\n",
      "RPE : 5.09 -> 0.79 & 5.00\n",
      "RPI : -11.39 -> 9.41 & 11.00\n",
      "SUCDi : 82.56 -> 69.40 & 76.00\n",
      "TALA : 4.23 -> 1.91 & 4.00\n",
      "TKT1 : 4.14 -> 0.79 & 4.00\n",
      "TPI : 79.61 -> 82.29 & 86.50\n"
     ]
    }
   ],
   "source": [
    "print(\"Normalized flux: Khod -> Millard & Ishii\")\n",
    "iterator = zip(x_rel_error.sel(dict(author=\"Khodayari\", sample_id = \"WT\")).normalized_flux.values,\n",
    "               x_rel_error.sel(dict(author=\"Millard\", sample_id = \"WT\")).normalized_flux.values,\n",
    "               x_rel_error.sel(dict(author=\"Ishii\", sample_id = \"WT\")).normalized_flux.values,\n",
    "               x_rel_error.sel(dict(author=\"Khodayari\", sample_id = \"WT\")).BiGG_ID.values)\n",
    "for val1, val2, val3, i in iterator:\n",
    "    print(f\"{i} : {val1:.2f} -> {val2:.2f} & {val3:.2f}\")"
   ]
  },
  {
   "cell_type": "code",
   "execution_count": 70,
   "metadata": {},
   "outputs": [
    {
     "name": "stdout",
     "output_type": "stream",
     "text": [
      "Relative error: Khod -> Millard\n",
      "AKGDH : 6.45 -> 24.04\n",
      "CS : 5.18 -> 7.73\n",
      "EDA : 0.00 -> 100.00\n",
      "FBA : 7.94 -> 5.12\n",
      "FUM : 5.66 -> 9.51\n",
      "G6PDH2r : 10.48 -> 1.19\n",
      "GAPD : 9.01 -> 2.75\n",
      "GLCptspp : 0.12 -> 0.00\n",
      "GND : 1.73 -> 56.77\n",
      "ICDHyr : 11.43 -> 19.26\n",
      "ICL : 36.00 -> 24.45\n",
      "MALS : 35.71 -> 24.45\n",
      "MDH : 1.69 -> 0.10\n",
      "PDH : 9.99 -> 2.77\n",
      "PGI : 3.68 -> 0.50\n",
      "PGM : 205.21 -> 3.94\n",
      "PPC : 25.95 -> 46.89\n",
      "PTAr : 0.00 -> 100.00\n",
      "PYK : 61.48 -> 5.10\n",
      "RPE : 1.83 -> 531.55\n",
      "RPI : 196.59 -> 16.84\n",
      "SUCDi : 7.94 -> 9.51\n",
      "TALA : 5.51 -> 109.82\n",
      "TKT1 : 3.35 -> 405.24\n",
      "TPI : 8.66 -> 5.12\n"
     ]
    }
   ],
   "source": [
    "print(\"Relative error: Khod -> Millard\")\n",
    "iterator = zip(x_rel_error.sel(dict(author=\"Khodayari\", sample_id = \"WT\")).relative_error.values,\n",
    "               x_rel_error.sel(dict(author=\"Millard\", sample_id = \"WT\")).relative_error.values,\n",
    "               x_rel_error.sel(dict(author=\"Khodayari\", sample_id = \"WT\")).BiGG_ID.values)\n",
    "for val1, val2, i in iterator:\n",
    "    print(f\"{i} : {val1:.2f} -> {val2:.2f}\")"
   ]
  },
  {
   "cell_type": "markdown",
   "metadata": {},
   "source": [
    "# Export the data"
   ]
  },
  {
   "cell_type": "code",
   "execution_count": 42,
   "metadata": {},
   "outputs": [],
   "source": [
    "path = data_path / \"processed\"\n",
    "path.mkdir(parents=True, exist_ok=True)"
   ]
  },
  {
   "cell_type": "code",
   "execution_count": 201,
   "metadata": {},
   "outputs": [
    {
     "data": {
      "text/plain": [
       "<xarray.Dataset>\n",
       "Dimensions:          (BiGG_ID: 25, author: 11, sample_id: 22)\n",
       "Coordinates:\n",
       "  * sample_id        (sample_id) object 'WT' 'fbaB' 'fbp' ... 'tktB' 'zwf'\n",
       "  * author           (author) object 'Chassagnole' 'ECC2' ... 'iML1515'\n",
       "  * BiGG_ID          (BiGG_ID) object 'AKGDH' 'CS' 'EDA' ... 'TALA' 'TKT1' 'TPI'\n",
       "Data variables:\n",
       "    flux             (sample_id, author, BiGG_ID) float64 nan nan ... 2.676\n",
       "    normalized_flux  (sample_id, author, BiGG_ID) float64 0.0 0.0 ... 93.16\n",
       "    relative_error   (sample_id, author, BiGG_ID) float64 100.0 100.0 ... 0.1711"
      ]
     },
     "execution_count": 201,
     "metadata": {},
     "output_type": "execute_result"
    }
   ],
   "source": [
    "x_rel_error.to_dataframe().reset_index().to_csv(data_path / \"processed\" / \"ko_relative_errors.csv\")"
   ]
  },
  {
   "cell_type": "code",
   "execution_count": 139,
   "metadata": {},
   "outputs": [],
   "source": [
    "x_norm_error.to_dataframe().reset_index().to_csv(data_path / \"processed\" / \"ko_summary_errors.csv\")"
   ]
  }
 ],
 "metadata": {
  "kernelspec": {
   "display_name": "dataml-conda",
   "language": "python",
   "name": "dataml-conda"
  },
  "language_info": {
   "codemirror_mode": {
    "name": "ipython",
    "version": 3
   },
   "file_extension": ".py",
   "mimetype": "text/x-python",
   "name": "python",
   "nbconvert_exporter": "python",
   "pygments_lexer": "ipython3",
   "version": "3.6.6"
  }
 },
 "nbformat": 4,
 "nbformat_minor": 4
}
