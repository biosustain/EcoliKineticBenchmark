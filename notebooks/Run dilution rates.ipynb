{
 "cells": [
  {
   "cell_type": "code",
   "execution_count": 1,
   "metadata": {},
   "outputs": [],
   "source": [
    "# Core libraries\n",
    "import numpy as np\n",
    "import pandas as pd\n",
    "\n",
    "# System \n",
    "from pathlib import Path\n",
    "import subprocess\n",
    "from shutil import copy\n",
    "import datetime\n",
    "\n",
    "# Simulation\n",
    "import tellurium as te\n",
    "import roadrunner"
   ]
  },
  {
   "cell_type": "code",
   "execution_count": 2,
   "metadata": {},
   "outputs": [],
   "source": [
    "%load_ext watermark"
   ]
  },
  {
   "cell_type": "code",
   "execution_count": 3,
   "metadata": {},
   "outputs": [
    {
     "name": "stdout",
     "output_type": "stream",
     "text": [
      "pandas    0.22.0\n",
      "numpy     1.14.3\n",
      "roadrunner1.4.24\n",
      "tellurium 2.1.3\n",
      "\n"
     ]
    }
   ],
   "source": [
    "%watermark --iversions"
   ]
  },
  {
   "cell_type": "markdown",
   "metadata": {},
   "source": [
    "### Setup paths and helper functions"
   ]
  },
  {
   "cell_type": "code",
   "execution_count": 4,
   "metadata": {},
   "outputs": [],
   "source": [
    "models_path = Path(\"../data/models\")\n",
    "simulation_path = Path(\"../data/simulation_results\")"
   ]
  },
  {
   "cell_type": "code",
   "execution_count": 5,
   "metadata": {},
   "outputs": [],
   "source": [
    "def run_matlab_script(script_path):\n",
    "    # script_path - Path object to the m script\n",
    "    str_script = str((script_path).resolve())\n",
    "    run_command = f\"\"\" -r \"run('{str_script}');exit;\" \"\"\"\n",
    "\n",
    "    matlab_run = subprocess.run(\n",
    "        [\"matlab\", \"-nodisplay\", \"-nosplash\", \"-nodesktop\", run_command],\n",
    "        stdout=subprocess.PIPE,\n",
    "        stderr=subprocess.PIPE,\n",
    "    )\n",
    "\n",
    "    # check for errors\n",
    "    if matlab_run.returncode == 0:\n",
    "        print(\"Run ended succesfully\")\n",
    "    else:\n",
    "        print(\"Run ended with an error\")\n",
    "\n",
    "    return matlab_run.stdout.decode(\"UTF-8\")"
   ]
  },
  {
   "cell_type": "markdown",
   "metadata": {},
   "source": [
    "# Simulations of Chassagnole model"
   ]
  },
  {
   "cell_type": "markdown",
   "metadata": {},
   "source": [
    "## Define the model and experimental setup"
   ]
  },
  {
   "cell_type": "code",
   "execution_count": 23,
   "metadata": {},
   "outputs": [],
   "source": [
    "model = te.loadAntimonyModel(\n",
    "    te.sbmlToAntimony(str(models_path / \"original_files\" / \"Chassagnole2002.xml\"))\n",
    ")"
   ]
  },
  {
   "cell_type": "markdown",
   "metadata": {},
   "source": [
    "## Run the simulations"
   ]
  },
  {
   "cell_type": "code",
   "execution_count": null,
   "metadata": {},
   "outputs": [],
   "source": [
    "model.simulate(0, 1000, 20)\n",
    "\n",
    "ss_flux_ids = model.getReactionIds()\n",
    "ss_flux = model.getReactionRates()\n",
    "\n",
    "\n",
    "ids = ss_flux_ids\n",
    "values = ss_flux\n",
    "df = pd.DataFrame({\"ID\": ids, \"Value\": values})\n",
    "df.to_csv(simulation_path / \"Chassagnole\" / f\"Chassagnole_result_WT.csv\")"
   ]
  },
  {
   "cell_type": "code",
   "execution_count": null,
   "metadata": {},
   "outputs": [],
   "source": [
    "for experiment in exp_list:\n",
    "    # set the original state\n",
    "    model.resetToOrigin()\n",
    "\n",
    "    sample_id = experiment[\"sample_id\"]\n",
    "    print(f\"Working on sample {sample_id}\")\n",
    "\n",
    "    for mod in experiment[\"modifications\"]:\n",
    "        # perform poor-mans 'knockout'\n",
    "        model.setValue(mod, 0)\n",
    "\n",
    "    # Instead of steady-state solver use long integration.\n",
    "    # make the \"fair\" comparison because all other models run not to steady state\n",
    "    model.simulate(0, 1000, 20)    \n",
    "\n",
    "    ss_flux_ids = model.getReactionIds()\n",
    "    ss_flux = model.getReactionRates()\n",
    "\n",
    "\n",
    "    ids = ss_flux_ids\n",
    "    values = ss_flux\n",
    "    df = pd.DataFrame({\"ID\": ids, \"Value\": values})\n",
    "    df.to_csv(simulation_path / \"Chassagnole\" / f\"Chassagnole_result_{sample_id}.csv\")"
   ]
  },
  {
   "cell_type": "markdown",
   "metadata": {},
   "source": [
    "# Simulations of Millard model"
   ]
  },
  {
   "cell_type": "markdown",
   "metadata": {},
   "source": [
    "## Define the model and experimental setup"
   ]
  },
  {
   "cell_type": "code",
   "execution_count": 6,
   "metadata": {},
   "outputs": [],
   "source": [
    "# load as Antimony bypasses the lack of ability to change local parameters in native SBML model\n",
    "model = te.loadAntimonyModel(\n",
    "    te.sbmlToAntimony(\n",
    "        str(models_path / \"original_files\" / \"Millard_2017_MODEL1505110000_url.xml\")\n",
    "    )\n",
    ")"
   ]
  },
  {
   "cell_type": "markdown",
   "metadata": {},
   "source": [
    "## Run the simulations\n",
    "Simulations are being performed as ODEs integration for 1e5 time units. Results after the end of simulation are being used as \"steady-state\" values."
   ]
  },
  {
   "cell_type": "code",
   "execution_count": 20,
   "metadata": {},
   "outputs": [],
   "source": [
    "# WT simulation\n",
    "model.resetToOrigin()\n",
    "\n",
    "# For Dilution rate approx. equal to 0.2 h-1\n",
    "model.FEED = 0.4\n",
    "\n",
    "model.simulate(0, 10000)\n",
    "\n",
    "ss_flux_ids = model.getReactionIds()\n",
    "ss_flux = model.getReactionRates()\n",
    "\n",
    "ids = ss_flux_ids\n",
    "values = ss_flux\n",
    "df = pd.DataFrame({\"ID\": ids, \"Value\": values})\n",
    "df.to_csv(simulation_path / \"Millard\" /  \"dilutions\" / f\"millard_dilution_02.csv\")"
   ]
  },
  {
   "cell_type": "code",
   "execution_count": 21,
   "metadata": {},
   "outputs": [],
   "source": [
    "# WT simulation\n",
    "model.resetToOrigin()\n",
    "\n",
    "# For Dilution rate approx. equal to 0.4 h-1\n",
    "model.FEED = 0.73\n",
    "\n",
    "model.simulate(0, 10000)\n",
    "\n",
    "ss_flux_ids = model.getReactionIds()\n",
    "ss_flux = model.getReactionRates()\n",
    "\n",
    "ids = ss_flux_ids\n",
    "values = ss_flux\n",
    "df = pd.DataFrame({\"ID\": ids, \"Value\": values})\n",
    "df.to_csv(simulation_path / \"Millard\" /  \"dilutions\" / f\"millard_dilution_04.csv\")"
   ]
  },
  {
   "cell_type": "code",
   "execution_count": null,
   "metadata": {},
   "outputs": [],
   "source": []
  }
 ],
 "metadata": {
  "kernelspec": {
   "display_name": "kinetics-conda",
   "language": "python",
   "name": "kinetics-conda"
  },
  "language_info": {
   "codemirror_mode": {
    "name": "ipython",
    "version": 3
   },
   "file_extension": ".py",
   "mimetype": "text/x-python",
   "name": "python",
   "nbconvert_exporter": "python",
   "pygments_lexer": "ipython3",
   "version": "3.6.7"
  }
 },
 "nbformat": 4,
 "nbformat_minor": 2
}
