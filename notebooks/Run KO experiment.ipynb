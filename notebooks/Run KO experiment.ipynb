{
 "cells": [
  {
   "cell_type": "code",
   "execution_count": 26,
   "metadata": {},
   "outputs": [],
   "source": [
    "# Core libraries\n",
    "import numpy as np\n",
    "import pandas as pd\n",
    "\n",
    "# System \n",
    "from pathlib import Path\n",
    "import subprocess\n",
    "from shutil import copy\n",
    "import datetime\n",
    "\n",
    "# Simulation\n",
    "import tellurium as te\n",
    "import roadrunner"
   ]
  },
  {
   "cell_type": "code",
   "execution_count": 2,
   "metadata": {},
   "outputs": [],
   "source": [
    "%load_ext watermark"
   ]
  },
  {
   "cell_type": "code",
   "execution_count": 3,
   "metadata": {},
   "outputs": [
    {
     "name": "stdout",
     "output_type": "stream",
     "text": [
      "roadrunner1.4.24\n",
      "pandas    0.22.0\n",
      "tellurium 2.1.3\n",
      "numpy     1.14.3\n",
      "\n"
     ]
    }
   ],
   "source": [
    "%watermark --iversions"
   ]
  },
  {
   "cell_type": "markdown",
   "metadata": {},
   "source": [
    "### Setup paths and helper functions"
   ]
  },
  {
   "cell_type": "code",
   "execution_count": 9,
   "metadata": {},
   "outputs": [],
   "source": [
    "models_path = Path(\"../data/models\")\n",
    "simulation_path = Path(\"../data/simulation_results\")"
   ]
  },
  {
   "cell_type": "code",
   "execution_count": 27,
   "metadata": {},
   "outputs": [],
   "source": [
    "def run_matlab_script(script_path):\n",
    "    # script_path - Path object to the m script\n",
    "    str_script = str((script_path).resolve())\n",
    "    run_command = f\"\"\" -r \"run('{str_script}');exit;\" \"\"\"\n",
    "\n",
    "    matlab_run = subprocess.run(\n",
    "        [\"matlab\", \"-nodisplay\", \"-nosplash\", \"-nodesktop\", run_command],\n",
    "        stdout=subprocess.PIPE,\n",
    "        stderr=subprocess.PIPE,\n",
    "    )\n",
    "\n",
    "    # check for errors\n",
    "    if matlab_run.returncode == 0:\n",
    "        print(\"Run ended succesfully\")\n",
    "    else:\n",
    "        print(\"Run ended with an error\")\n",
    "\n",
    "    return matlab_run.stdout.decode(\"UTF-8\")"
   ]
  },
  {
   "cell_type": "markdown",
   "metadata": {},
   "source": [
    "# Simulations of Chassagnole model"
   ]
  },
  {
   "cell_type": "markdown",
   "metadata": {},
   "source": [
    "## Define the model and experimental setup"
   ]
  },
  {
   "cell_type": "code",
   "execution_count": 23,
   "metadata": {},
   "outputs": [],
   "source": [
    "model = te.loadAntimonyModel(\n",
    "    te.sbmlToAntimony(str(models_path / \"original_files\" / \"Chassagnole2002.xml\"))\n",
    ")"
   ]
  },
  {
   "cell_type": "code",
   "execution_count": 5,
   "metadata": {},
   "outputs": [],
   "source": [
    "exp_list = [\n",
    "    {\"sample_id\": \"Delta_tpi\", \"modifications\": [\"vTIS_rmaxTIS\"]},\n",
    "    # {\"sample_id\": \"Delta_aAkgdh\", \"modifications\": [\"LPD_Vmax\"]},\n",
    "    {\"sample_id\": \"Delta_fba\", \"modifications\": [\"vALDO_rmaxALDO\"]},\n",
    "    {\"sample_id\": \"Delta_zwf\", \"modifications\": [\"vG6PDH_rmaxG6PDH\"]},\n",
    "    #{\"sample_id\": \"Delta_pts\", \"modifications\": [\"vPTS_rmaxPTS\"]},\n",
    "    {\"sample_id\": \"Delta_gnd\", \"modifications\": [\"vPGDH_rmaxPGDH\"]},\n",
    "    {\"sample_id\": \"Delta_pfk\", \"modifications\": [\"vPFK_rmaxPFK\"]},\n",
    "    {\"sample_id\": \"Delta_pgi\", \"modifications\": [\"vPGI_rmaxPGI\"]},\n",
    "    # {\"sample_id\": \"Delta_pgl\", \"modifications\": [\"PGL_Vmax\"]},\n",
    "    #{\"sample_id\": \"Delta_pps\", \"modifications\": [\"PPS_Vmax\"]},\n",
    "    {\"sample_id\": \"Delta_pyk\", \"modifications\": [\"vPK_rmaxPK\"]},\n",
    "    {\"sample_id\": \"Delta_rpe\", \"modifications\": [\"vRu5P_rmaxRu5P\"]},\n",
    "    {\"sample_id\": \"Delta_rpi\", \"modifications\": [\"vR5PI_rmaxR5PI\"]},\n",
    "    # {\"sample_id\": \"Delta_sdh\", \"modifications\": [\"SDH_Vmax\"]},\n",
    "    {\"sample_id\": \"Delta_tal\", \"modifications\": [\"vTA_rmaxTA\"]},\n",
    "    {\"sample_id\": \"Delta_tkt1\", \"modifications\": [\"vTKA_rmaxTKa\"]},\n",
    "    {\"sample_id\": \"Delta_tkt2\", \"modifications\": [\"vTKB_rmaxTKb\"]},\n",
    "    #{\"sample_id\": \"Delta_fbp\", \"modifications\": [\"FBP_Vmax\"]},\n",
    "]"
   ]
  },
  {
   "cell_type": "markdown",
   "metadata": {},
   "source": [
    "## Run the simulations"
   ]
  },
  {
   "cell_type": "code",
   "execution_count": null,
   "metadata": {},
   "outputs": [],
   "source": [
    "model.simulate(0, 1000, 20)\n",
    "\n",
    "ss_flux_ids = model.getReactionIds()\n",
    "ss_flux = model.getReactionRates()\n",
    "\n",
    "\n",
    "ids = ss_flux_ids\n",
    "values = ss_flux\n",
    "df = pd.DataFrame({\"ID\": ids, \"Value\": values})\n",
    "df.to_csv(simulation_path / \"Chassagnole\" / f\"Chassagnole_result_WT.csv\")"
   ]
  },
  {
   "cell_type": "code",
   "execution_count": null,
   "metadata": {},
   "outputs": [],
   "source": [
    "for experiment in exp_list:\n",
    "    # set the original state\n",
    "    model.resetToOrigin()\n",
    "\n",
    "    sample_id = experiment[\"sample_id\"]\n",
    "    print(f\"Working on sample {sample_id}\")\n",
    "\n",
    "    for mod in experiment[\"modifications\"]:\n",
    "        # perform poor-mans 'knockout'\n",
    "        model.setValue(mod, 0)\n",
    "\n",
    "    # Instead of steady-state solver use long integration.\n",
    "    # make the \"fair\" comparison because all other models run not to steady state\n",
    "    model.simulate(0, 1000, 20)    \n",
    "\n",
    "    ss_flux_ids = model.getReactionIds()\n",
    "    ss_flux = model.getReactionRates()\n",
    "\n",
    "\n",
    "    ids = ss_flux_ids\n",
    "    values = ss_flux\n",
    "    df = pd.DataFrame({\"ID\": ids, \"Value\": values})\n",
    "    df.to_csv(simulation_path / \"Chassagnole\" / f\"Chassagnole_result_{sample_id}.csv\")"
   ]
  },
  {
   "cell_type": "markdown",
   "metadata": {},
   "source": [
    "# Simulations of Millard model"
   ]
  },
  {
   "cell_type": "markdown",
   "metadata": {},
   "source": [
    "## Define the model and experimental setup"
   ]
  },
  {
   "cell_type": "code",
   "execution_count": 22,
   "metadata": {},
   "outputs": [],
   "source": [
    "# load as Antimony bypasses the lack of ability to change local parameters in native SBML model\n",
    "model = te.loadAntimonyModel(\n",
    "    te.sbmlToAntimony(\n",
    "        str(models_path / \"original_files\" / \"Millard_2017_MODEL1505110000_url.xml\")\n",
    "    )\n",
    ")"
   ]
  },
  {
   "cell_type": "code",
   "execution_count": 7,
   "metadata": {},
   "outputs": [],
   "source": [
    "exp_list = [\n",
    "    {\"sample_id\": \"Delta_tpi\", \"modifications\": [\"TPI_Vmax\"]},\n",
    "    {\"sample_id\": \"Delta_aAkgdh\", \"modifications\": [\"LPD_Vmax\"]},\n",
    "    {\"sample_id\": \"Delta_fba\", \"modifications\": [\"FBA_Vmax\"]},\n",
    "    {\"sample_id\": \"Delta_zwf\", \"modifications\": [\"ZWF_Vmax\"]},\n",
    "    {\"sample_id\": \"Delta_pts\", \"modifications\": [\"PTS_4_kF\", \"PTS_4_kR\"]},\n",
    "    {\"sample_id\": \"Delta_gnd\", \"modifications\": [\"GND_Vmax\"]},\n",
    "    {\"sample_id\": \"Delta_pfk\", \"modifications\": [\"PFK_Vmax\"]},\n",
    "    {\"sample_id\": \"Delta_pgi\", \"modifications\": [\"PGI_Vmax\"]},\n",
    "    {\"sample_id\": \"Delta_pgl\", \"modifications\": [\"PGL_Vmax\"]},\n",
    "    {\"sample_id\": \"Delta_pps\", \"modifications\": [\"PPS_Vmax\"]},\n",
    "    {\"sample_id\": \"Delta_pyk\", \"modifications\": [\"PYK_Vmax\"]},\n",
    "    {\"sample_id\": \"Delta_rpe\", \"modifications\": [\"RPE_Vmax\"]},\n",
    "    {\"sample_id\": \"Delta_rpi\", \"modifications\": [\"RPI_Vmax\"]},\n",
    "    {\"sample_id\": \"Delta_sdh\", \"modifications\": [\"SDH_Vmax\"]},\n",
    "    {\n",
    "        \"sample_id\": \"Delta_tal\",\n",
    "        \"modifications\": [\"F6P_GAP_TAL_kcat\", \"S7P_E4P_TAL_kcat\"],\n",
    "    },\n",
    "    {\n",
    "        \"sample_id\": \"Delta_tkt1\",\n",
    "        \"modifications\": [\"X5P_GAP_TKT_kcat\", \"S7P_R5P_TKT_kcat\"],\n",
    "    },\n",
    "    {\"sample_id\": \"Delta_tkt2\", \"modifications\": [\"F6P_E4P_TKT_kcat\"]},\n",
    "    {\"sample_id\": \"Delta_fbp\", \"modifications\": [\"FBP_Vmax\"]},\n",
    "]"
   ]
  },
  {
   "cell_type": "markdown",
   "metadata": {},
   "source": [
    "## Run the simulations\n",
    "Simulations are being performed as ODEs integration for 1e5 time units. Results after the end of simulation are being used as \"steady-state\" values."
   ]
  },
  {
   "cell_type": "code",
   "execution_count": 6,
   "metadata": {},
   "outputs": [],
   "source": [
    "# WT simulation\n",
    "model.resetToOrigin()\n",
    "\n",
    "# For Dilution rate approx. equal to 0.2 h-1\n",
    "model.FEED = 0.4\n",
    "\n",
    "model.simulate(0, 10000)\n",
    "\n",
    "ss_flux_ids = model.getReactionIds()\n",
    "ss_flux = model.getReactionRates()\n",
    "\n",
    "ids = ss_flux_ids\n",
    "values = ss_flux\n",
    "df = pd.DataFrame({\"ID\": ids, \"Value\": values})\n",
    "df.to_csv(simulation_path / \"Millard\" /  f\"Millard_result_WT.csv\")"
   ]
  },
  {
   "cell_type": "code",
   "execution_count": 4,
   "metadata": {},
   "outputs": [
    {
     "name": "stdout",
     "output_type": "stream",
     "text": [
      "Working on sample Delta_tpi\n",
      "Working on sample Delta_aAkgdh\n",
      "Working on sample Delta_fba\n",
      "Working on sample Delta_zwf\n",
      "Working on sample Delta_pts\n",
      "Working on sample Delta_gnd\n",
      "Working on sample Delta_pfk\n",
      "Working on sample Delta_pgi\n",
      "Working on sample Delta_pgl\n",
      "Working on sample Delta_pps\n",
      "Working on sample Delta_pyk\n",
      "Working on sample Delta_rpe\n",
      "Working on sample Delta_rpi\n",
      "Working on sample Delta_sdh\n",
      "Working on sample Delta_tal\n",
      "Working on sample Delta_tkt1\n",
      "Working on sample Delta_tkt2\n",
      "Working on sample Delta_fbp\n"
     ]
    }
   ],
   "source": [
    "for experiment in exp_list:\n",
    "    # set the original state\n",
    "    model.resetToOrigin()\n",
    "    # For Dilution rate approx. equal to 0.2 h-1\n",
    "    model.FEED = 0.4\n",
    "    \n",
    "    sample_id = experiment[\"sample_id\"]\n",
    "    print(f\"Working on sample {sample_id}\")\n",
    "\n",
    "    for mod in experiment[\"modifications\"]:\n",
    "        # perform poor-mans 'knockout'\n",
    "        model.setValue(mod, 0)\n",
    "\n",
    "    # Instead of steady-state solver use long integration.\n",
    "    # make the \"fair\" comparison because all other models run not to steady state\n",
    "    \n",
    "    model.simulate(0, 10000)\n",
    " \n",
    "    ss_flux_ids = model.getReactionIds()\n",
    "    ss_flux = model.getReactionRates()\n",
    "\n",
    "    ids = ss_flux_ids\n",
    "    values = ss_flux\n",
    "    df = pd.DataFrame({\"ID\": ids, \"Value\": values})\n",
    "    df.to_csv(simulation_path / \"Millard\" /  f\"Millard_result_{sample_id}.csv\")"
   ]
  },
  {
   "cell_type": "markdown",
   "metadata": {},
   "source": [
    "# Simulations of Khodayari model\n",
    "It's MATLAB based model, so the simulation is being performed by invoking matlab in CLI mode."
   ]
  },
  {
   "cell_type": "code",
   "execution_count": 43,
   "metadata": {},
   "outputs": [],
   "source": [
    "khod_path = models_path / \"modified_files\" / \"Khodayari\""
   ]
  },
  {
   "cell_type": "code",
   "execution_count": 8,
   "metadata": {},
   "outputs": [
    {
     "ename": "NameError",
     "evalue": "name 'models_path' is not defined",
     "output_type": "error",
     "traceback": [
      "\u001b[0;31m---------------------------------------------------------------------------\u001b[0m",
      "\u001b[0;31mNameError\u001b[0m                                 Traceback (most recent call last)",
      "\u001b[0;32m<ipython-input-8-7058c4ee3244>\u001b[0m in \u001b[0;36m<module>\u001b[0;34m\u001b[0m\n\u001b[1;32m      1\u001b[0m khod_ko_script = str(\n\u001b[1;32m      2\u001b[0m     (\n\u001b[0;32m----> 3\u001b[0;31m         \u001b[0mmodels_path\u001b[0m \u001b[0;34m/\u001b[0m \u001b[0;34m\"modified_files\"\u001b[0m \u001b[0;34m/\u001b[0m \u001b[0;34m\"Khodayari\"\u001b[0m \u001b[0;34m/\u001b[0m \u001b[0;34m\"Run_Khodayari_Continuous.m\"\u001b[0m\u001b[0;34m\u001b[0m\u001b[0;34m\u001b[0m\u001b[0m\n\u001b[0m\u001b[1;32m      4\u001b[0m     ).resolve()\n\u001b[1;32m      5\u001b[0m )\n",
      "\u001b[0;31mNameError\u001b[0m: name 'models_path' is not defined"
     ]
    }
   ],
   "source": [
    "ko_script = khod_path / \"Run_Khodayari_Continuous.m\"\n",
    "result = run_matlab_script(script_path = ko_script)"
   ]
  },
  {
   "cell_type": "markdown",
   "metadata": {},
   "source": [
    "Move simulation results to `simulation_results`"
   ]
  },
  {
   "cell_type": "code",
   "execution_count": 25,
   "metadata": {},
   "outputs": [
    {
     "data": {
      "text/plain": [
       "[PosixPath('../data/models/modified_files/Khodayari/result_cont_WT.mat'),\n",
       " PosixPath('../data/models/modified_files/Khodayari/result_cont_Delta_pgl.mat'),\n",
       " PosixPath('../data/models/modified_files/Khodayari/result_cont_Delta_sdhCD.mat'),\n",
       " PosixPath('../data/models/modified_files/Khodayari/result_cont_Delta_rpe.mat'),\n",
       " PosixPath('../data/models/modified_files/Khodayari/result_cont_Delta_ppsA.mat'),\n",
       " PosixPath('../data/models/modified_files/Khodayari/result_cont_Delta_fbaAB.mat'),\n",
       " PosixPath('../data/models/modified_files/Khodayari/result_cont_Delta_pgi.mat'),\n",
       " PosixPath('../data/models/modified_files/Khodayari/result_cont_Delta_pfkAB.mat'),\n",
       " PosixPath('../data/models/modified_files/Khodayari/result_cont_Delta_tpi.mat'),\n",
       " PosixPath('../data/models/modified_files/Khodayari/result_cont_Delta_fbp.mat'),\n",
       " PosixPath('../data/models/modified_files/Khodayari/result_cont_Delta_gnd.mat'),\n",
       " PosixPath('../data/models/modified_files/Khodayari/result_cont_Delta_rpiAB.mat'),\n",
       " PosixPath('../data/models/modified_files/Khodayari/result_cont_Delta_pts.mat'),\n",
       " PosixPath('../data/models/modified_files/Khodayari/result_cont_Delta_pykA.mat'),\n",
       " PosixPath('../data/models/modified_files/Khodayari/result_cont_Delta_sucAB.mat'),\n",
       " PosixPath('../data/models/modified_files/Khodayari/result_cont_Delta_zwf.mat'),\n",
       " PosixPath('../data/models/modified_files/Khodayari/result_cont_Delta_tktAB.mat'),\n",
       " PosixPath('../data/models/modified_files/Khodayari/result_cont_Delta_talAB.mat'),\n",
       " PosixPath('../data/models/modified_files/Khodayari/result_cont_Delta_pykF.mat')]"
      ]
     },
     "execution_count": 25,
     "metadata": {},
     "output_type": "execute_result"
    }
   ],
   "source": [
    "destination = simulation_path / \"Khodayari\" / f\"knockout_simulation\"\n",
    "destination.mkdir(parents=True, exist_ok=True)\n",
    "for file in khod_path.glob(\"result_cont*.mat\"):\n",
    "    copy(file, destination)"
   ]
  },
  {
   "cell_type": "code",
   "execution_count": null,
   "metadata": {},
   "outputs": [],
   "source": []
  },
  {
   "cell_type": "markdown",
   "metadata": {},
   "source": [
    "# Simulations of Kurata model\n",
    "It's MATLAB based model, so the simulation is being performed by invoking matlab in CLI mode."
   ]
  },
  {
   "cell_type": "code",
   "execution_count": 44,
   "metadata": {},
   "outputs": [],
   "source": [
    "kurata_path = models_path / \"modified_files\" / \"Kurata_continuous\""
   ]
  },
  {
   "cell_type": "code",
   "execution_count": null,
   "metadata": {},
   "outputs": [],
   "source": [
    "ko_script = kurata_path / \"Run_Kurata_Continuous.m\"\n",
    "result = run_matlab_script(script_path = ko_script)"
   ]
  },
  {
   "cell_type": "markdown",
   "metadata": {},
   "source": [
    "Move simulation results to `simulation_results`"
   ]
  },
  {
   "cell_type": "code",
   "execution_count": null,
   "metadata": {},
   "outputs": [],
   "source": [
    "destination = simulation_path / \"Kurata\" / f\"knockout_simulation\"\n",
    "destination.mkdir(parents=True, exist_ok=True)\n",
    "for file in khod_path.glob(\"result_cont*.mat\"):\n",
    "    copy(file, destination)"
   ]
  }
 ],
 "metadata": {
  "kernelspec": {
   "display_name": "kinetics-conda",
   "language": "python",
   "name": "kinetics-conda"
  },
  "language_info": {
   "codemirror_mode": {
    "name": "ipython",
    "version": 3
   },
   "file_extension": ".py",
   "mimetype": "text/x-python",
   "name": "python",
   "nbconvert_exporter": "python",
   "pygments_lexer": "ipython3",
   "version": "3.6.7"
  }
 },
 "nbformat": 4,
 "nbformat_minor": 2
}
