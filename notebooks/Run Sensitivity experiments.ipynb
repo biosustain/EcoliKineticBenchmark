{
 "cells": [
  {
   "cell_type": "code",
   "execution_count": 1,
   "metadata": {},
   "outputs": [],
   "source": [
    "# Core libraries\n",
    "import numpy as np\n",
    "import pandas as pd\n",
    "\n",
    "# System \n",
    "from pathlib import Path\n",
    "import subprocess\n",
    "from shutil import copy\n",
    "import datetime\n",
    "\n",
    "# Simulation\n",
    "import tellurium as te\n",
    "import roadrunner"
   ]
  },
  {
   "cell_type": "code",
   "execution_count": 2,
   "metadata": {},
   "outputs": [],
   "source": [
    "%load_ext watermark"
   ]
  },
  {
   "cell_type": "code",
   "execution_count": 3,
   "metadata": {},
   "outputs": [
    {
     "name": "stdout",
     "output_type": "stream",
     "text": [
      "tellurium 2.1.3\n",
      "numpy     1.14.3\n",
      "roadrunner1.4.24\n",
      "pandas    0.22.0\n",
      "\n"
     ]
    }
   ],
   "source": [
    "%watermark --iversions"
   ]
  },
  {
   "cell_type": "markdown",
   "metadata": {},
   "source": [
    "### Setup paths and helper functions"
   ]
  },
  {
   "cell_type": "code",
   "execution_count": 4,
   "metadata": {},
   "outputs": [],
   "source": [
    "models_path = Path(\"../data/models\")\n",
    "simulation_path = Path(\"../data/simulation_results\")"
   ]
  },
  {
   "cell_type": "code",
   "execution_count": 5,
   "metadata": {},
   "outputs": [],
   "source": [
    "def run_matlab_script(script_path):\n",
    "    # script_path - Path object to the m script\n",
    "    str_script = str((script_path).resolve())\n",
    "    run_command = f\"\"\" -r \"run('{str_script}');exit;\" \"\"\"\n",
    "\n",
    "    matlab_run = subprocess.run(\n",
    "        [\"matlab\", \"-nodisplay\", \"-nosplash\", \"-nodesktop\", run_command],\n",
    "        stdout=subprocess.PIPE,\n",
    "        stderr=subprocess.PIPE,\n",
    "    )\n",
    "\n",
    "    # check for errors\n",
    "    if matlab_run.returncode == 0:\n",
    "        print(\"Run ended succesfully\")\n",
    "    else:\n",
    "        print(\"Run ended with an error\")\n",
    "\n",
    "    return matlab_run.stdout.decode(\"UTF-8\")"
   ]
  },
  {
   "cell_type": "markdown",
   "metadata": {},
   "source": [
    "## Problem setup\n",
    "There are three strains - WT, zwf knockout, zwf overexpressed. Their growth rates are 0.65, 0.60, 0.66 accordingly in batch fermentation."
   ]
  },
  {
   "cell_type": "markdown",
   "metadata": {
    "toc-hr-collapsed": true
   },
   "source": [
    "# Simulations of Chassagnole model"
   ]
  },
  {
   "cell_type": "code",
   "execution_count": 6,
   "metadata": {},
   "outputs": [],
   "source": [
    "model = te.loadAntimonyModel(\n",
    "    te.sbmlToAntimony(str(models_path / \"modified_files\" / \"Chassagnole2002_modified.xml\"))\n",
    ")"
   ]
  },
  {
   "cell_type": "markdown",
   "metadata": {},
   "source": [
    "### Run the simulations\n",
    "Simulations are being performed as ODEs integration for 1e5 time units. Results after the end of simulation are being used as \"steady-state\" values."
   ]
  },
  {
   "cell_type": "code",
   "execution_count": 7,
   "metadata": {},
   "outputs": [
    {
     "name": "stdout",
     "output_type": "stream",
     "text": [
      "Working on sample WT\n"
     ]
    }
   ],
   "source": [
    "# WT simulation\n",
    "model.resetToOrigin()\n",
    "\n",
    "sample_id = \"WT\"\n",
    "print(f\"Working on sample {sample_id}\")\n",
    "\n",
    "# For Dilution rate approx. equal to 0.2 h-1\n",
    "model.simulate(0, 10000)\n",
    "\n",
    "ss_flux_ids = model.getReactionIds()\n",
    "ss_flux = model.getReactionRates()\n",
    "\n",
    "ids = ss_flux_ids\n",
    "values = ss_flux\n",
    "df = pd.DataFrame({\"ID\": ids, \"Value\": values})\n",
    "\n",
    "save_path = simulation_path / \"Chassagnole\" / \"zwf_pgi_eno_sensitivity\"\n",
    "df.to_csv(save_path / f\"chassagnole_sens_WT.csv\")"
   ]
  },
  {
   "cell_type": "markdown",
   "metadata": {
    "toc-hr-collapsed": false
   },
   "source": [
    "## Perform ZWF sensitivity analysis"
   ]
  },
  {
   "cell_type": "code",
   "execution_count": 9,
   "metadata": {},
   "outputs": [
    {
     "name": "stdout",
     "output_type": "stream",
     "text": [
      "Working on sample dzwf\n"
     ]
    }
   ],
   "source": [
    "# simulate ZWF KO\n",
    "# set the original state\n",
    "model.resetToOrigin()\n",
    "# For Dilution rate approx. equal to 0.2 h-1\n",
    "    \n",
    "sample_id = \"dzwf\"\n",
    "print(f\"Working on sample {sample_id}\")\n",
    "# perform poor-mans 'knockout'\n",
    "model.setValue(\"vG6PDH_rmaxG6PDH\", 0)\n",
    "\n",
    "# Instead of steady-state solver use long integration.\n",
    "# make the \"fair\" comparison because all other models run not to steady state\n",
    "model.simulate(0, 10000)\n",
    " \n",
    "ss_flux_ids = model.getReactionIds()\n",
    "ss_flux = model.getReactionRates()\n",
    "\n",
    "ids = ss_flux_ids\n",
    "values = ss_flux\n",
    "df = pd.DataFrame({\"ID\": ids, \"Value\": values})\n",
    "df.to_csv(simulation_path / \"Chassagnole\" / \"zwf_pgi_eno_sensitivity\" / f\"chassagnole_{sample_id}.csv\")"
   ]
  },
  {
   "cell_type": "code",
   "execution_count": 10,
   "metadata": {},
   "outputs": [
    {
     "name": "stdout",
     "output_type": "stream",
     "text": [
      "Working on sample zwf(15)\n"
     ]
    }
   ],
   "source": [
    "# simulate ZWF overexpression\n",
    "# set the original state\n",
    "model.resetToOrigin()\n",
    "# For Dilution rate approx. equal to 0.2 h-1\n",
    "model.FEED = 0.4\n",
    "    \n",
    "sample_id = \"zwf(15)\"\n",
    "print(f\"Working on sample {sample_id}\")\n",
    "# perform overexpression\n",
    "vmax = model.vG6PDH_rmaxG6PDH\n",
    "model.setValue(\"vG6PDH_rmaxG6PDH\", vmax * 15)\n",
    "\n",
    "# Instead of steady-state solver use long integration.\n",
    "# make the \"fair\" comparison because all other models run not to steady state\n",
    "model.simulate(0, 10000)\n",
    " \n",
    "ss_flux_ids = model.getReactionIds()\n",
    "ss_flux = model.getReactionRates()\n",
    "\n",
    "ids = ss_flux_ids\n",
    "values = ss_flux\n",
    "df = pd.DataFrame({\"ID\": ids, \"Value\": values})\n",
    "df.to_csv(simulation_path / \"Chassagnole\" / \"zwf_pgi_eno_sensitivity\" / f\"chassagnole_{sample_id}.csv\")"
   ]
  },
  {
   "cell_type": "markdown",
   "metadata": {},
   "source": [
    "## Perform PGI sensitivity analysis"
   ]
  },
  {
   "cell_type": "code",
   "execution_count": 11,
   "metadata": {},
   "outputs": [
    {
     "name": "stdout",
     "output_type": "stream",
     "text": [
      "Working on sample dpgi\n"
     ]
    }
   ],
   "source": [
    "# simulate PGI KO\n",
    "# set the original state\n",
    "model.resetToOrigin()\n",
    "# For Dilution rate approx. equal to 0.2 h-1\n",
    "    \n",
    "sample_id = \"dpgi\"\n",
    "print(f\"Working on sample {sample_id}\")\n",
    "# perform poor-mans 'knockout'\n",
    "model.setValue(\"vPGI_rmaxPGI\", 0)\n",
    "\n",
    "# Instead of steady-state solver use long integration.\n",
    "# make the \"fair\" comparison because all other models run not to steady state\n",
    "model.simulate(0, 10000)\n",
    " \n",
    "ss_flux_ids = model.getReactionIds()\n",
    "ss_flux = model.getReactionRates()\n",
    "\n",
    "ids = ss_flux_ids\n",
    "values = ss_flux\n",
    "df = pd.DataFrame({\"ID\": ids, \"Value\": values})\n",
    "df.to_csv(simulation_path / \"Chassagnole\" / \"zwf_pgi_eno_sensitivity\" / f\"chassagnole_{sample_id}.csv\")"
   ]
  },
  {
   "cell_type": "code",
   "execution_count": 12,
   "metadata": {},
   "outputs": [
    {
     "name": "stdout",
     "output_type": "stream",
     "text": [
      "Working on sample pgi(0)\n",
      "Working on sample pgi(20)\n",
      "Working on sample pgi(50)\n",
      "Working on sample pgi(100)\n"
     ]
    }
   ],
   "source": [
    "# simulate various pgi levels\n",
    "experiments = [\n",
    "    {\"sample_id\": \"pgi(0)\", \"level\": 0.2},\n",
    "    {\"sample_id\": \"pgi(20)\", \"level\": 1.2},\n",
    "    {\"sample_id\": \"pgi(50)\", \"level\": 2.4},\n",
    "    {\"sample_id\": \"pgi(100)\", \"level\": 4.1},\n",
    "]\n",
    "for exp in experiments:\n",
    "    # set the original state\n",
    "    model.resetToOrigin()\n",
    "    # For Dilution rate approx. equal to 0.2 h-1\n",
    "\n",
    "    sample_id = exp[\"sample_id\"]\n",
    "    print(f\"Working on sample {sample_id}\")\n",
    "    # perform overexpression\n",
    "    vmax = model.vPGI_rmaxPGI\n",
    "    model.setValue(\"vPGI_rmaxPGI\", vmax * exp[\"level\"])\n",
    "\n",
    "    # Instead of steady-state solver use long integration.\n",
    "    # make the \"fair\" comparison because all other models run not to steady state\n",
    "    model.simulate(0, 10000)\n",
    "\n",
    "    ss_flux_ids = model.getReactionIds()\n",
    "    ss_flux = model.getReactionRates()\n",
    "\n",
    "    ids = ss_flux_ids\n",
    "    values = ss_flux\n",
    "    df = pd.DataFrame({\"ID\": ids, \"Value\": values})\n",
    "    df.to_csv( simulation_path / \"Chassagnole\" / \"zwf_pgi_eno_sensitivity\" / f\"chassagnole_{sample_id}.csv\")"
   ]
  },
  {
   "cell_type": "markdown",
   "metadata": {},
   "source": [
    "## Perform ENO sensitivity analysis"
   ]
  },
  {
   "cell_type": "code",
   "execution_count": 13,
   "metadata": {},
   "outputs": [
    {
     "name": "stdout",
     "output_type": "stream",
     "text": [
      "Working on sample eno(0)\n",
      "Working on sample eno(50)\n",
      "Working on sample eno(200)\n",
      "Working on sample eno(500)\n"
     ]
    }
   ],
   "source": [
    "# simulate various eno levels\n",
    "experiments = [\n",
    "    {\"sample_id\": \"eno(0)\", \"level\": 0.2},\n",
    "    {\"sample_id\": \"eno(50)\", \"level\": 1.8},\n",
    "    {\"sample_id\": \"eno(200)\", \"level\": 3.0},\n",
    "    {\"sample_id\": \"eno(500)\", \"level\": 3.1},\n",
    "]\n",
    "for exp in experiments:\n",
    "    # set the original state\n",
    "    model.resetToOrigin()\n",
    "\n",
    "    sample_id = exp[\"sample_id\"]\n",
    "    print(f\"Working on sample {sample_id}\")\n",
    "    # perform overexpression\n",
    "    vmax = model.vENO_rmaxENO\n",
    "    model.setValue(\"vENO_rmaxENO\", vmax * exp[\"level\"])\n",
    "\n",
    "    # Instead of steady-state solver use long integration.\n",
    "    # make the \"fair\" comparison because all other models run not to steady state\n",
    "    model.simulate(0, 10000)\n",
    "\n",
    "    ss_flux_ids = model.getReactionIds()\n",
    "    ss_flux = model.getReactionRates()\n",
    "\n",
    "    ids = ss_flux_ids\n",
    "    values = ss_flux\n",
    "    df = pd.DataFrame({\"ID\": ids, \"Value\": values})\n",
    "    df.to_csv( simulation_path / \"Chassagnole\" / \"zwf_pgi_eno_sensitivity\" / f\"chassagnole_{sample_id}.csv\")"
   ]
  },
  {
   "cell_type": "markdown",
   "metadata": {
    "toc-hr-collapsed": true
   },
   "source": [
    "# Simulations of Millard model"
   ]
  },
  {
   "cell_type": "markdown",
   "metadata": {},
   "source": [
    "### Define the model and experimental setup"
   ]
  },
  {
   "cell_type": "code",
   "execution_count": 54,
   "metadata": {},
   "outputs": [],
   "source": [
    "# load as Antimony bypasses the lack of ability to change local parameters in native SBML model\n",
    "model = te.loadAntimonyModel(\n",
    "    te.sbmlToAntimony(\n",
    "        str(models_path / \"original_files\" / \"Millard_2017_MODEL1505110000_url.xml\")\n",
    "    )\n",
    ")"
   ]
  },
  {
   "cell_type": "markdown",
   "metadata": {},
   "source": [
    "### Run the simulations\n",
    "Simulations are being performed as ODEs integration for 1e5 time units. Results after the end of simulation are being used as \"steady-state\" values."
   ]
  },
  {
   "cell_type": "code",
   "execution_count": 55,
   "metadata": {},
   "outputs": [
    {
     "name": "stdout",
     "output_type": "stream",
     "text": [
      "Working on sample WT\n"
     ]
    }
   ],
   "source": [
    "# WT simulation\n",
    "model.resetToOrigin()\n",
    "\n",
    "sample_id = \"WT\"\n",
    "print(f\"Working on sample {sample_id}\")\n",
    "\n",
    "# For Dilution rate approx. equal to 0.2 h-1\n",
    "model.FEED = 0.4\n",
    "model.simulate(0, 10000)\n",
    "\n",
    "ss_flux_ids = model.getReactionIds()\n",
    "ss_flux = model.getReactionRates()\n",
    "\n",
    "ids = ss_flux_ids\n",
    "values = ss_flux\n",
    "df = pd.DataFrame({\"ID\": ids, \"Value\": values})\n",
    "\n",
    "save_paths = [\"zwf\", \"pgi\", \"eno\"]\n",
    "for path in save_paths:\n",
    "    save_path = simulation_path / \"Millard\" / f\"{path}_sensitivity\"\n",
    "    save_path.mkdir(parents=True, exist_ok=True)\n",
    "    df.to_csv(save_path / f\"millard_{path}_sens_WT.csv\")"
   ]
  },
  {
   "cell_type": "markdown",
   "metadata": {
    "toc-hr-collapsed": false
   },
   "source": [
    "## Perform ZWF sensitivity analysis"
   ]
  },
  {
   "cell_type": "code",
   "execution_count": 46,
   "metadata": {},
   "outputs": [
    {
     "name": "stdout",
     "output_type": "stream",
     "text": [
      "Working on sample dzwf\n"
     ]
    }
   ],
   "source": [
    "# simulate ZWF KO\n",
    "# set the original state\n",
    "model.resetToOrigin()\n",
    "# For Dilution rate approx. equal to 0.2 h-1\n",
    "model.FEED = 0.4\n",
    "    \n",
    "sample_id = \"dzwf\"\n",
    "print(f\"Working on sample {sample_id}\")\n",
    "# perform poor-mans 'knockout'\n",
    "model.setValue(\"ZWF_Vmax\", 0)\n",
    "\n",
    "# Instead of steady-state solver use long integration.\n",
    "# make the \"fair\" comparison because all other models run not to steady state\n",
    "model.simulate(0, 10000)\n",
    " \n",
    "ss_flux_ids = model.getReactionIds()\n",
    "ss_flux = model.getReactionRates()\n",
    "\n",
    "ids = ss_flux_ids\n",
    "values = ss_flux\n",
    "df = pd.DataFrame({\"ID\": ids, \"Value\": values})\n",
    "df.to_csv(simulation_path / \"Millard\" / \"zwf_sensitivity\" / f\"millard_zwf_sens_{sample_id}.csv\")"
   ]
  },
  {
   "cell_type": "code",
   "execution_count": 47,
   "metadata": {},
   "outputs": [
    {
     "name": "stdout",
     "output_type": "stream",
     "text": [
      "Working on sample zwf(15)\n"
     ]
    }
   ],
   "source": [
    "# simulate ZWF overexpression\n",
    "# set the original state\n",
    "model.resetToOrigin()\n",
    "# For Dilution rate approx. equal to 0.2 h-1\n",
    "model.FEED = 0.4\n",
    "    \n",
    "sample_id = \"zwf(15)\"\n",
    "print(f\"Working on sample {sample_id}\")\n",
    "# perform overexpression\n",
    "vmax = model.ZWF_Vmax\n",
    "model.setValue(\"ZWF_Vmax\", vmax * 15)\n",
    "\n",
    "# Instead of steady-state solver use long integration.\n",
    "# make the \"fair\" comparison because all other models run not to steady state\n",
    "model.simulate(0, 10000)\n",
    " \n",
    "ss_flux_ids = model.getReactionIds()\n",
    "ss_flux = model.getReactionRates()\n",
    "\n",
    "ids = ss_flux_ids\n",
    "values = ss_flux\n",
    "df = pd.DataFrame({\"ID\": ids, \"Value\": values})\n",
    "df.to_csv(simulation_path / \"Millard\" / \"zwf_sensitivity\" / f\"millard_zwf_sens_{sample_id}.csv\")"
   ]
  },
  {
   "cell_type": "markdown",
   "metadata": {},
   "source": [
    "## Perform PGI sensitivity analysis"
   ]
  },
  {
   "cell_type": "code",
   "execution_count": 56,
   "metadata": {},
   "outputs": [
    {
     "name": "stdout",
     "output_type": "stream",
     "text": [
      "Working on sample dpgi\n"
     ]
    }
   ],
   "source": [
    "# simulate PGI KO\n",
    "# set the original state\n",
    "model.resetToOrigin()\n",
    "# For Dilution rate approx. equal to 0.2 h-1\n",
    "model.FEED = 0.4\n",
    "    \n",
    "sample_id = \"dpgi\"\n",
    "print(f\"Working on sample {sample_id}\")\n",
    "# perform poor-mans 'knockout'\n",
    "model.setValue(\"PGI_Vmax\", 0)\n",
    "\n",
    "# Instead of steady-state solver use long integration.\n",
    "# make the \"fair\" comparison because all other models run not to steady state\n",
    "model.simulate(0, 10000)\n",
    " \n",
    "ss_flux_ids = model.getReactionIds()\n",
    "ss_flux = model.getReactionRates()\n",
    "\n",
    "ids = ss_flux_ids\n",
    "values = ss_flux\n",
    "df = pd.DataFrame({\"ID\": ids, \"Value\": values})\n",
    "df.to_csv(simulation_path / \"Millard\" / \"pgi_sensitivity\" / f\"millard_pgi_sens_{sample_id}.csv\")"
   ]
  },
  {
   "cell_type": "code",
   "execution_count": 57,
   "metadata": {},
   "outputs": [
    {
     "name": "stdout",
     "output_type": "stream",
     "text": [
      "Working on sample pgi(0)\n",
      "Working on sample pgi(20)\n",
      "Working on sample pgi(50)\n",
      "Working on sample pgi(100)\n"
     ]
    }
   ],
   "source": [
    "# simulate various pgi levels\n",
    "experiments = [\n",
    "    {\"sample_id\": \"pgi(0)\", \"level\": 0.2},\n",
    "    {\"sample_id\": \"pgi(20)\", \"level\": 1.2},\n",
    "    {\"sample_id\": \"pgi(50)\", \"level\": 2.4},\n",
    "    {\"sample_id\": \"pgi(100)\", \"level\": 4.1},\n",
    "]\n",
    "for exp in experiments:\n",
    "    # set the original state\n",
    "    model.resetToOrigin()\n",
    "    # For Dilution rate approx. equal to 0.2 h-1\n",
    "    model.FEED = 0.4\n",
    "\n",
    "    sample_id = exp[\"sample_id\"]\n",
    "    print(f\"Working on sample {sample_id}\")\n",
    "    # perform overexpression\n",
    "    vmax = model.PGI_Vmax\n",
    "    model.setValue(\"PGI_Vmax\", vmax * exp[\"level\"])\n",
    "\n",
    "    # Instead of steady-state solver use long integration.\n",
    "    # make the \"fair\" comparison because all other models run not to steady state\n",
    "    model.simulate(0, 10000)\n",
    "\n",
    "    ss_flux_ids = model.getReactionIds()\n",
    "    ss_flux = model.getReactionRates()\n",
    "\n",
    "    ids = ss_flux_ids\n",
    "    values = ss_flux\n",
    "    df = pd.DataFrame({\"ID\": ids, \"Value\": values})\n",
    "    df.to_csv(\n",
    "        simulation_path\n",
    "        / \"Millard\"\n",
    "        / \"pgi_sensitivity\"\n",
    "        / f\"millard_pgi_sens_{sample_id}.csv\"\n",
    "    )"
   ]
  },
  {
   "cell_type": "markdown",
   "metadata": {},
   "source": [
    "## Perform ENO sensitivity analysis"
   ]
  },
  {
   "cell_type": "code",
   "execution_count": 58,
   "metadata": {},
   "outputs": [
    {
     "name": "stdout",
     "output_type": "stream",
     "text": [
      "Working on sample eno(0)\n",
      "Working on sample eno(50)\n",
      "Working on sample eno(200)\n",
      "Working on sample eno(500)\n"
     ]
    }
   ],
   "source": [
    "# simulate various eno levels\n",
    "experiments = [\n",
    "    {\"sample_id\": \"eno(0)\", \"level\": 0.2},\n",
    "    {\"sample_id\": \"eno(50)\", \"level\": 1.8},\n",
    "    {\"sample_id\": \"eno(200)\", \"level\": 3.0},\n",
    "    {\"sample_id\": \"eno(500)\", \"level\": 3.1},\n",
    "]\n",
    "for exp in experiments:\n",
    "    # set the original state\n",
    "    model.resetToOrigin()\n",
    "    # For Dilution rate approx. equal to 0.2 h-1\n",
    "    model.FEED = 0.4\n",
    "\n",
    "    sample_id = exp[\"sample_id\"]\n",
    "    print(f\"Working on sample {sample_id}\")\n",
    "    # perform overexpression\n",
    "    vmax = model.ENO_Vmax\n",
    "    model.setValue(\"ENO_Vmax\", vmax * exp[\"level\"])\n",
    "\n",
    "    # Instead of steady-state solver use long integration.\n",
    "    # make the \"fair\" comparison because all other models run not to steady state\n",
    "    model.simulate(0, 10000)\n",
    "\n",
    "    ss_flux_ids = model.getReactionIds()\n",
    "    ss_flux = model.getReactionRates()\n",
    "\n",
    "    ids = ss_flux_ids\n",
    "    values = ss_flux\n",
    "    df = pd.DataFrame({\"ID\": ids, \"Value\": values})\n",
    "    df.to_csv(\n",
    "        simulation_path\n",
    "        / \"Millard\"\n",
    "        / \"eno_sensitivity\"\n",
    "        / f\"millard_eno_sens_{sample_id}.csv\"\n",
    "    )"
   ]
  },
  {
   "cell_type": "markdown",
   "metadata": {
    "toc-hr-collapsed": true
   },
   "source": [
    "# Simulations of Khodayari model\n",
    "It's MATLAB based model, so the simulation is being performed by invoking matlab in CLI mode. Simulation time is uncomfortably long"
   ]
  },
  {
   "cell_type": "code",
   "execution_count": 30,
   "metadata": {},
   "outputs": [],
   "source": [
    "khod_path = models_path / \"modified_files\" / \"Khodayari\""
   ]
  },
  {
   "cell_type": "markdown",
   "metadata": {},
   "source": [
    "## Perform ZWF sensitivity analysis"
   ]
  },
  {
   "cell_type": "code",
   "execution_count": 28,
   "metadata": {},
   "outputs": [
    {
     "name": "stdout",
     "output_type": "stream",
     "text": [
      "Run ended succesfully\n"
     ]
    }
   ],
   "source": [
    "zwf_script = khod_path / \"Run_Khodayari_zwf_sensitivity.m\"\n",
    "result = run_matlab_script(script_path=zwf_script)"
   ]
  },
  {
   "cell_type": "markdown",
   "metadata": {},
   "source": [
    "Move simulation results to `simulation_results`"
   ]
  },
  {
   "cell_type": "code",
   "execution_count": 31,
   "metadata": {},
   "outputs": [],
   "source": [
    "destination = simulation_path / \"Khodayari\" / f\"zwf_sensitivity\"\n",
    "destination.mkdir(parents=True, exist_ok=True)\n",
    "for file in khod_path.glob(\"khodayari_zwf_sens*.mat\"):\n",
    "    copy(file, destination)"
   ]
  },
  {
   "cell_type": "markdown",
   "metadata": {},
   "source": [
    "## Perform PGI sensitivity analysis"
   ]
  },
  {
   "cell_type": "code",
   "execution_count": 32,
   "metadata": {},
   "outputs": [
    {
     "name": "stdout",
     "output_type": "stream",
     "text": [
      "Run ended succesfully\n"
     ]
    }
   ],
   "source": [
    "pgi_script = khod_path / \"Run_Khodayari_pgi_sensitivity.m\"\n",
    "result = run_matlab_script(script_path=pgi_script)"
   ]
  },
  {
   "cell_type": "markdown",
   "metadata": {},
   "source": [
    "Move simulation results to `simulation_results`"
   ]
  },
  {
   "cell_type": "code",
   "execution_count": 33,
   "metadata": {},
   "outputs": [],
   "source": [
    "destination = simulation_path / \"Khodayari\" / f\"pgi_sensitivity\"\n",
    "destination.mkdir(parents=True, exist_ok=True)\n",
    "for file in khod_path.glob(\"khodayari_pgi_sens*.mat\"):\n",
    "    copy(file, destination)"
   ]
  },
  {
   "cell_type": "markdown",
   "metadata": {},
   "source": [
    "## Perform ENO sensitivity analysis"
   ]
  },
  {
   "cell_type": "code",
   "execution_count": 34,
   "metadata": {},
   "outputs": [
    {
     "name": "stdout",
     "output_type": "stream",
     "text": [
      "Run ended succesfully\n"
     ]
    }
   ],
   "source": [
    "eno_script = khod_path / \"Run_Khodayari_eno_sensitivity.m\"\n",
    "result = run_matlab_script(script_path=eno_script)"
   ]
  },
  {
   "cell_type": "markdown",
   "metadata": {},
   "source": [
    "Move simulation results to `simulation_results`"
   ]
  },
  {
   "cell_type": "code",
   "execution_count": 36,
   "metadata": {},
   "outputs": [],
   "source": [
    "destination = simulation_path / \"Khodayari\" / f\"eno_sensitivity\"\n",
    "destination.mkdir(parents=True, exist_ok=True)\n",
    "for file in khod_path.glob(\"khodayari_eno_sens*.mat\"):\n",
    "    copy(file, destination)"
   ]
  },
  {
   "cell_type": "markdown",
   "metadata": {
    "toc-hr-collapsed": true
   },
   "source": [
    "# Simulations of Kurata model\n",
    "It's MATLAB based model, so the simulation is being performed by invoking matlab in CLI mode."
   ]
  },
  {
   "cell_type": "code",
   "execution_count": 37,
   "metadata": {},
   "outputs": [],
   "source": [
    "kurata_path = models_path / \"modified_files\" / \"Kurata_continuous\""
   ]
  },
  {
   "cell_type": "markdown",
   "metadata": {},
   "source": [
    "## Perform ZWF sensitivity analysis"
   ]
  },
  {
   "cell_type": "code",
   "execution_count": 38,
   "metadata": {},
   "outputs": [
    {
     "name": "stdout",
     "output_type": "stream",
     "text": [
      "Run ended succesfully\n"
     ]
    }
   ],
   "source": [
    "zwf_script = kurata_path / \"Run_Kurata_zwf_sensitivity.m\"\n",
    "result = run_matlab_script(script_path=zwf_script)"
   ]
  },
  {
   "cell_type": "markdown",
   "metadata": {},
   "source": [
    "Move simulation results to `simulation_results`"
   ]
  },
  {
   "cell_type": "code",
   "execution_count": 40,
   "metadata": {},
   "outputs": [],
   "source": [
    "destination = simulation_path / \"Kurata\" / f\"zwf_sensitivity\"\n",
    "destination.mkdir(parents=True, exist_ok=True)\n",
    "for file in kurata_path.glob(\"kurata_zwf_sens*.mat\"):\n",
    "    copy(file, destination)"
   ]
  },
  {
   "cell_type": "markdown",
   "metadata": {},
   "source": [
    "## Perform PGI sensitivity analysis"
   ]
  },
  {
   "cell_type": "code",
   "execution_count": 41,
   "metadata": {},
   "outputs": [
    {
     "name": "stdout",
     "output_type": "stream",
     "text": [
      "Run ended succesfully\n"
     ]
    }
   ],
   "source": [
    "pgi_script = kurata_path / \"Run_Kurata_pgi_sensitivity.m\"\n",
    "result = run_matlab_script(script_path=pgi_script)"
   ]
  },
  {
   "cell_type": "markdown",
   "metadata": {},
   "source": [
    "Move simulation results to `simulation_results`"
   ]
  },
  {
   "cell_type": "code",
   "execution_count": 43,
   "metadata": {},
   "outputs": [],
   "source": [
    "destination = simulation_path / \"Kurata\" / f\"pgi_sensitivity\"\n",
    "destination.mkdir(parents=True, exist_ok=True)\n",
    "for file in kurata_path.glob(\"kurata_pgi_sens*.mat\"):\n",
    "    copy(file, destination)"
   ]
  },
  {
   "cell_type": "markdown",
   "metadata": {
    "toc-hr-collapsed": true
   },
   "source": [
    "## Perform ENO sensitivity analysis"
   ]
  },
  {
   "cell_type": "code",
   "execution_count": 44,
   "metadata": {},
   "outputs": [
    {
     "name": "stdout",
     "output_type": "stream",
     "text": [
      "Run ended succesfully\n"
     ]
    },
    {
     "data": {
      "text/plain": [
       "'\\n                            < M A T L A B (R) >\\n                  Copyright 1984-2017 The MathWorks, Inc.\\n                   R2017b (9.3.0.713579) 64-bit (maci64)\\n                             September 14, 2017\\n\\n \\nTo get started, type one of these: helpwin, helpdesk, or demo.\\nFor product information, visit www.mathworks.com.\\n \\nWorking on WT\\nElapsed time is 9.733874 seconds.\\nWorking on eno(0)\\nElapsed time is 17.984527 seconds.\\nWorking on eno(50)\\nElapsed time is 23.773072 seconds.\\nWorking on eno(200)\\nElapsed time is 29.887313 seconds.\\nWorking on eno(500)\\nElapsed time is 34.613805 seconds.\\n'"
      ]
     },
     "execution_count": 44,
     "metadata": {},
     "output_type": "execute_result"
    }
   ],
   "source": [
    "eno_script = kurata_path / \"Run_Kurata_eno_sensitivity.m\"\n",
    "result = run_matlab_script(script_path=eno_script)"
   ]
  },
  {
   "cell_type": "markdown",
   "metadata": {},
   "source": [
    "Move simulation results to `simulation_results`"
   ]
  },
  {
   "cell_type": "code",
   "execution_count": 45,
   "metadata": {},
   "outputs": [],
   "source": [
    "destination = simulation_path / \"Kurata\" / f\"eno_sensitivity\"\n",
    "destination.mkdir(parents=True, exist_ok=True)\n",
    "for file in kurata_path.glob(\"kurata_eno_sens*.mat\"):\n",
    "    copy(file, destination)"
   ]
  },
  {
   "cell_type": "code",
   "execution_count": null,
   "metadata": {},
   "outputs": [],
   "source": []
  }
 ],
 "metadata": {
  "kernelspec": {
   "display_name": "kinetics-conda",
   "language": "python",
   "name": "kinetics-conda"
  },
  "language_info": {
   "codemirror_mode": {
    "name": "ipython",
    "version": 3
   },
   "file_extension": ".py",
   "mimetype": "text/x-python",
   "name": "python",
   "nbconvert_exporter": "python",
   "pygments_lexer": "ipython3",
   "version": "3.6.7"
  }
 },
 "nbformat": 4,
 "nbformat_minor": 4
}
