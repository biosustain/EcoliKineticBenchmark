{
 "cells": [
  {
   "cell_type": "code",
   "execution_count": 1,
   "metadata": {},
   "outputs": [],
   "source": [
    "%reload_ext autoreload\n",
    "%autoreload 2"
   ]
  },
  {
   "cell_type": "code",
   "execution_count": 2,
   "metadata": {},
   "outputs": [],
   "source": [
    "import numpy as np\n",
    "import pandas as pd\n",
    "import xarray as xr\n",
    "\n",
    "from pathlib import Path\n",
    "\n",
    "import altair as alt\n",
    "from altair.expr import datum"
   ]
  },
  {
   "cell_type": "code",
   "execution_count": 3,
   "metadata": {},
   "outputs": [],
   "source": [
    "%load_ext watermark"
   ]
  },
  {
   "cell_type": "code",
   "execution_count": 4,
   "metadata": {},
   "outputs": [
    {
     "name": "stdout",
     "output_type": "stream",
     "text": [
      "altair    4.0.1\n",
      "pandas    1.1.0\n",
      "numpy     1.18.1\n",
      "xarray    0.14.1\n",
      "\n"
     ]
    }
   ],
   "source": [
    "%watermark --iversions"
   ]
  },
  {
   "cell_type": "code",
   "execution_count": 5,
   "metadata": {},
   "outputs": [],
   "source": [
    "from utils.load import load_dilution_data\n",
    "from utils.calculate_metrics import (process_data, relative_errors, summary_errors, rms_errors, spearman_errors)"
   ]
  },
  {
   "cell_type": "markdown",
   "metadata": {},
   "source": [
    "# 1. Load the simulation data"
   ]
  },
  {
   "cell_type": "code",
   "execution_count": 6,
   "metadata": {},
   "outputs": [],
   "source": [
    "dil_df, debug_info = load_dilution_data()"
   ]
  },
  {
   "cell_type": "code",
   "execution_count": 7,
   "metadata": {},
   "outputs": [
    {
     "data": {
      "text/html": [
       "<div>\n",
       "<style scoped>\n",
       "    .dataframe tbody tr th:only-of-type {\n",
       "        vertical-align: middle;\n",
       "    }\n",
       "\n",
       "    .dataframe tbody tr th {\n",
       "        vertical-align: top;\n",
       "    }\n",
       "\n",
       "    .dataframe thead th {\n",
       "        text-align: right;\n",
       "    }\n",
       "</style>\n",
       "<table border=\"1\" class=\"dataframe\">\n",
       "  <thead>\n",
       "    <tr style=\"text-align: right;\">\n",
       "      <th></th>\n",
       "      <th>flux</th>\n",
       "      <th>ID</th>\n",
       "      <th>BiGG_ID</th>\n",
       "      <th>author</th>\n",
       "      <th>sample_id</th>\n",
       "      <th>normalized_flux</th>\n",
       "    </tr>\n",
       "  </thead>\n",
       "  <tbody>\n",
       "    <tr>\n",
       "      <th>0</th>\n",
       "      <td>-0.054344</td>\n",
       "      <td>ACALD</td>\n",
       "      <td>ACALD</td>\n",
       "      <td>Khodayari</td>\n",
       "      <td>0.2</td>\n",
       "      <td>-0.049474</td>\n",
       "    </tr>\n",
       "    <tr>\n",
       "      <th>1</th>\n",
       "      <td>-0.004107</td>\n",
       "      <td>ACALDtpp_ex</td>\n",
       "      <td>composed of ACALDtex and ACALDtpp</td>\n",
       "      <td>Khodayari</td>\n",
       "      <td>0.2</td>\n",
       "      <td>-0.003739</td>\n",
       "    </tr>\n",
       "    <tr>\n",
       "      <th>2</th>\n",
       "      <td>0.088129</td>\n",
       "      <td>ACKr</td>\n",
       "      <td>ACKr</td>\n",
       "      <td>Khodayari</td>\n",
       "      <td>0.2</td>\n",
       "      <td>0.080232</td>\n",
       "    </tr>\n",
       "    <tr>\n",
       "      <th>3</th>\n",
       "      <td>96.831733</td>\n",
       "      <td>ACONTa</td>\n",
       "      <td>ACONTa</td>\n",
       "      <td>Khodayari</td>\n",
       "      <td>0.2</td>\n",
       "      <td>88.154691</td>\n",
       "    </tr>\n",
       "    <tr>\n",
       "      <th>4</th>\n",
       "      <td>96.797201</td>\n",
       "      <td>ACONTb</td>\n",
       "      <td>ACONTb</td>\n",
       "      <td>Khodayari</td>\n",
       "      <td>0.2</td>\n",
       "      <td>88.123254</td>\n",
       "    </tr>\n",
       "  </tbody>\n",
       "</table>\n",
       "</div>"
      ],
      "text/plain": [
       "        flux           ID                            BiGG_ID     author  \\\n",
       "0  -0.054344        ACALD                              ACALD  Khodayari   \n",
       "1  -0.004107  ACALDtpp_ex  composed of ACALDtex and ACALDtpp  Khodayari   \n",
       "2   0.088129         ACKr                               ACKr  Khodayari   \n",
       "3  96.831733       ACONTa                             ACONTa  Khodayari   \n",
       "4  96.797201       ACONTb                             ACONTb  Khodayari   \n",
       "\n",
       "  sample_id  normalized_flux  \n",
       "0       0.2        -0.049474  \n",
       "1       0.2        -0.003739  \n",
       "2       0.2         0.080232  \n",
       "3       0.2        88.154691  \n",
       "4       0.2        88.123254  "
      ]
     },
     "execution_count": 7,
     "metadata": {},
     "output_type": "execute_result"
    }
   ],
   "source": [
    "dil_df.head()"
   ]
  },
  {
   "cell_type": "code",
   "execution_count": 8,
   "metadata": {},
   "outputs": [],
   "source": [
    "dil_df.sample_id = dil_df.sample_id.astype('str')"
   ]
  },
  {
   "cell_type": "code",
   "execution_count": 9,
   "metadata": {},
   "outputs": [
    {
     "data": {
      "text/plain": [
       "array(['GLCptspp', 'PGI', 'PFK', 'FBA', 'GAPD', 'PGK', 'PGM', 'ENO',\n",
       "       'PYK', 'PDH', 'PTAr', 'ACKr', 'ACt2r', 'PPC', 'CS', 'ACONTa',\n",
       "       'ACONTb', 'ICDHyr', 'AKGDH', 'SUCOAS', 'SUCDi', 'FUM', 'ME1',\n",
       "       'ICL', 'MDH', 'NADTRHD', 'G6PDH2r', 'GND', 'RPE', 'RPI', 'TKT1',\n",
       "       'TKT2', 'TALA', 'PGCD', 'GHMT2r'], dtype=object)"
      ]
     },
     "execution_count": 9,
     "metadata": {},
     "output_type": "execute_result"
    }
   ],
   "source": [
    "dil_df.query(\"author == 'Yao'\").BiGG_ID.unique()"
   ]
  },
  {
   "cell_type": "markdown",
   "metadata": {},
   "source": [
    "### Preprocess data"
   ]
  },
  {
   "cell_type": "code",
   "execution_count": 10,
   "metadata": {},
   "outputs": [],
   "source": [
    "xdf = process_data(dil_df, author=\"Yao\")"
   ]
  },
  {
   "cell_type": "markdown",
   "metadata": {},
   "source": [
    "# 2. Calculate error metrics"
   ]
  },
  {
   "cell_type": "code",
   "execution_count": 11,
   "metadata": {},
   "outputs": [],
   "source": [
    "x_rel_error = relative_errors(xdf, author=\"Yao\")"
   ]
  },
  {
   "cell_type": "code",
   "execution_count": 12,
   "metadata": {},
   "outputs": [],
   "source": [
    "x_norm_error = summary_errors(xdf, author=\"Yao\")"
   ]
  },
  {
   "cell_type": "code",
   "execution_count": 13,
   "metadata": {},
   "outputs": [],
   "source": [
    "x_rms_error = rms_errors(xdf, author=\"Yao\")"
   ]
  },
  {
   "cell_type": "code",
   "execution_count": 14,
   "metadata": {},
   "outputs": [],
   "source": [
    "x_spearman_error = spearman_errors(xdf, author=\"Yao\")"
   ]
  },
  {
   "cell_type": "markdown",
   "metadata": {},
   "source": [
    "# 3. Visualize"
   ]
  },
  {
   "cell_type": "code",
   "execution_count": 15,
   "metadata": {},
   "outputs": [],
   "source": [
    "from utils.vis import heatmap, jitter_summary_chart"
   ]
  },
  {
   "cell_type": "code",
   "execution_count": 16,
   "metadata": {},
   "outputs": [],
   "source": [
    "def dilution_plot(source, field=\"normalized_error\", field_name=\"Normalized error\"):\n",
    "    domain = [\n",
    "        \"Khodayari\",\n",
    "        \"Millard\",\n",
    "        \"Kurata\",\n",
    "        \"iML1515\",\n",
    "        \"Chassagnole\",\n",
    "        \"Exp_iML1515\",\n",
    "    ]\n",
    "    range_ = [\n",
    "        \"#1b9e77\",\n",
    "        \"#d95f02\",\n",
    "        \"#7570b3\",\n",
    "        \"#e7298a\",\n",
    "        \"#66a61e\",\n",
    "        \"#e6ab02\",\n",
    "    ]\n",
    "\n",
    "    author = \"Yao\"\n",
    "    sort_list = [\"Chassagnole\", \"Khodayari\", \"Millard\", \"Kurata\", \"iML1515\"]\n",
    "\n",
    "    source = source.to_dataframe().reset_index()\n",
    "    if type(author) == list:\n",
    "        source = source.query(f\"author not in @author\")\n",
    "    elif type(author) == str:\n",
    "        source = source.query(f\"author != '{author}'\")\n",
    "\n",
    "    selector = alt.selection_single(empty=\"none\", fields=[\"sample_id\"])\n",
    "\n",
    "    opacity = alt.OpacityValue(1.0)\n",
    "\n",
    "    size = alt.condition(selector, alt.SizeValue(150), alt.SizeValue(90))\n",
    "\n",
    "\n",
    "    stripplot = (\n",
    "        alt.Chart(width=100, height=600)\n",
    "        .mark_circle()\n",
    "        .encode(\n",
    "            x=alt.X(\"sample_id:O\", title=None, scale=alt.Scale(),),\n",
    "            y=alt.Y(f\"{field}:Q\", title=f\"{field_name}\", axis=alt.Axis(tickCount=8)),\n",
    "            color=alt.Color(\n",
    "                \"author:N\", legend=None, scale=alt.Scale(domain=domain, range=range_)\n",
    "            ),\n",
    "            size=size,\n",
    "            opacity=opacity,\n",
    "            tooltip=[\"author\", \"sample_id\", f\"{field}\"],\n",
    "        )\n",
    "        .add_selection(selector)\n",
    "    )\n",
    "\n",
    "    line_plot = (\n",
    "        alt.Chart()\n",
    "        .mark_line()\n",
    "        .encode(\n",
    "            x=alt.X(\"sample_id:O\", title=None, scale=alt.Scale(),),\n",
    "            y=alt.Y(f\"{field}:Q\", title=f\"{field_name}\",axis=alt.Axis(tickCount=8)),\n",
    "            color=alt.Color(\n",
    "                \"author:N\", legend=None, scale=alt.Scale(domain=domain, range=range_)\n",
    "            ),\n",
    "        )\n",
    "    )\n",
    "\n",
    "\n",
    "    mean_tick = (\n",
    "        alt.Chart()\n",
    "        .mark_tick(width = 50)\n",
    "        .encode(\n",
    "            y = alt.Y(f\"mean({field})\"),\n",
    "            color=alt.Color(\n",
    "                \"author:N\", legend=None, scale=alt.Scale(domain=domain, range=range_)\n",
    "            ),\n",
    "        )\n",
    "    )\n",
    "\n",
    "    layer = (\n",
    "        alt.layer(stripplot, line_plot, mean_tick, data=source)\n",
    "        .facet(\n",
    "            column=alt.Column(\n",
    "                \"author:N\",\n",
    "                header=alt.Header(\n",
    "                    labelAngle=-90,\n",
    "                    titleOrient=\"top\",\n",
    "                    labelOrient=\"bottom\",\n",
    "                    labelAlign=\"right\",\n",
    "                    labelPadding=3,\n",
    "                    labelFontSize=20,\n",
    "                ),\n",
    "                sort=sort_list,\n",
    "            )\n",
    "        )\n",
    "        .configure_facet(spacing=5)\n",
    "        .configure_view(stroke=None)\n",
    "        .transform_filter(f\"datum.{field} !== null\")\n",
    "    )\n",
    "\n",
    "    return layer.configure_axis(labelFontSize=20, titleFontSize=20).configure_header(\n",
    "        titleFontSize=24\n",
    "    )"
   ]
  },
  {
   "cell_type": "code",
   "execution_count": 17,
   "metadata": {},
   "outputs": [
    {
     "data": {
      "text/html": [
       "\n",
       "<div id=\"altair-viz-c5ee79347672423bbb803fe5911a2bca\"></div>\n",
       "<script type=\"text/javascript\">\n",
       "  (function(spec, embedOpt){\n",
       "    const outputDiv = document.getElementById(\"altair-viz-c5ee79347672423bbb803fe5911a2bca\");\n",
       "    const paths = {\n",
       "      \"vega\": \"https://cdn.jsdelivr.net/npm//vega@5?noext\",\n",
       "      \"vega-lib\": \"https://cdn.jsdelivr.net/npm//vega-lib?noext\",\n",
       "      \"vega-lite\": \"https://cdn.jsdelivr.net/npm//vega-lite@4.0.2?noext\",\n",
       "      \"vega-embed\": \"https://cdn.jsdelivr.net/npm//vega-embed@6?noext\",\n",
       "    };\n",
       "\n",
       "    function loadScript(lib) {\n",
       "      return new Promise(function(resolve, reject) {\n",
       "        var s = document.createElement('script');\n",
       "        s.src = paths[lib];\n",
       "        s.async = true;\n",
       "        s.onload = () => resolve(paths[lib]);\n",
       "        s.onerror = () => reject(`Error loading script: ${paths[lib]}`);\n",
       "        document.getElementsByTagName(\"head\")[0].appendChild(s);\n",
       "      });\n",
       "    }\n",
       "\n",
       "    function showError(err) {\n",
       "      outputDiv.innerHTML = `<div class=\"error\" style=\"color:red;\">${err}</div>`;\n",
       "      throw err;\n",
       "    }\n",
       "\n",
       "    function displayChart(vegaEmbed) {\n",
       "      vegaEmbed(outputDiv, spec, embedOpt)\n",
       "        .catch(err => showError(`Javascript Error: ${err.message}<br>This usually means there's a typo in your chart specification. See the javascript console for the full traceback.`));\n",
       "    }\n",
       "\n",
       "    if(typeof define === \"function\" && define.amd) {\n",
       "      requirejs.config({paths});\n",
       "      require([\"vega-embed\"], displayChart, err => showError(`Error loading script: ${err.message}`));\n",
       "    } else if (typeof vegaEmbed === \"function\") {\n",
       "      displayChart(vegaEmbed);\n",
       "    } else {\n",
       "      loadScript(\"vega\")\n",
       "        .then(() => loadScript(\"vega-lite\"))\n",
       "        .then(() => loadScript(\"vega-embed\"))\n",
       "        .catch(showError)\n",
       "        .then(() => displayChart(vegaEmbed));\n",
       "    }\n",
       "  })({\"config\": {\"view\": {\"continuousWidth\": 400, \"continuousHeight\": 300, \"stroke\": null}, \"axis\": {\"labelFontSize\": 20, \"titleFontSize\": 20}, \"facet\": {\"spacing\": 5}, \"header\": {\"titleFontSize\": 24}}, \"data\": {\"name\": \"data-6d79a4ce51389978cd633195372c7987\"}, \"facet\": {\"column\": {\"type\": \"nominal\", \"field\": \"author\", \"header\": {\"labelAlign\": \"right\", \"labelAngle\": -90, \"labelFontSize\": 20, \"labelOrient\": \"bottom\", \"labelPadding\": 3, \"titleOrient\": \"top\"}, \"sort\": [\"Chassagnole\", \"Khodayari\", \"Millard\", \"Kurata\", \"iML1515\"]}}, \"spec\": {\"layer\": [{\"mark\": \"circle\", \"encoding\": {\"color\": {\"type\": \"nominal\", \"field\": \"author\", \"legend\": null, \"scale\": {\"domain\": [\"Khodayari\", \"Millard\", \"Kurata\", \"iML1515\", \"Chassagnole\", \"Exp_iML1515\"], \"range\": [\"#1b9e77\", \"#d95f02\", \"#7570b3\", \"#e7298a\", \"#66a61e\", \"#e6ab02\"]}}, \"opacity\": {\"value\": 1.0}, \"size\": {\"condition\": {\"value\": 150, \"selection\": \"selector001\"}, \"value\": 90}, \"tooltip\": [{\"type\": \"nominal\", \"field\": \"author\"}, {\"type\": \"nominal\", \"field\": \"sample_id\"}, {\"type\": \"quantitative\", \"field\": \"normalized_error\"}], \"x\": {\"type\": \"ordinal\", \"field\": \"sample_id\", \"scale\": {}, \"title\": null}, \"y\": {\"type\": \"quantitative\", \"axis\": {\"tickCount\": 8}, \"field\": \"normalized_error\", \"title\": \"Normalized error\"}}, \"height\": 600, \"selection\": {\"selector001\": {\"type\": \"single\", \"empty\": \"none\", \"fields\": [\"sample_id\"]}}, \"width\": 100}, {\"mark\": \"line\", \"encoding\": {\"color\": {\"type\": \"nominal\", \"field\": \"author\", \"legend\": null, \"scale\": {\"domain\": [\"Khodayari\", \"Millard\", \"Kurata\", \"iML1515\", \"Chassagnole\", \"Exp_iML1515\"], \"range\": [\"#1b9e77\", \"#d95f02\", \"#7570b3\", \"#e7298a\", \"#66a61e\", \"#e6ab02\"]}}, \"x\": {\"type\": \"ordinal\", \"field\": \"sample_id\", \"scale\": {}, \"title\": null}, \"y\": {\"type\": \"quantitative\", \"axis\": {\"tickCount\": 8}, \"field\": \"normalized_error\", \"title\": \"Normalized error\"}}}, {\"mark\": {\"type\": \"tick\", \"width\": 50}, \"encoding\": {\"color\": {\"type\": \"nominal\", \"field\": \"author\", \"legend\": null, \"scale\": {\"domain\": [\"Khodayari\", \"Millard\", \"Kurata\", \"iML1515\", \"Chassagnole\", \"Exp_iML1515\"], \"range\": [\"#1b9e77\", \"#d95f02\", \"#7570b3\", \"#e7298a\", \"#66a61e\", \"#e6ab02\"]}}, \"y\": {\"type\": \"quantitative\", \"aggregate\": \"mean\", \"field\": \"normalized_error\"}}}]}, \"transform\": [{\"filter\": \"datum.normalized_error !== null\"}], \"$schema\": \"https://vega.github.io/schema/vega-lite/v4.0.2.json\", \"datasets\": {\"data-6d79a4ce51389978cd633195372c7987\": [{\"author\": \"Chassagnole\", \"sample_id\": \"0.2\", \"normalized_error\": 0.581037082167949, \"unnormalized_error\": 286.4533122909064}, {\"author\": \"Chassagnole\", \"sample_id\": \"0.4\", \"normalized_error\": 0.47670965073889116, \"unnormalized_error\": 205.48441899190883}, {\"author\": \"Chassagnole\", \"sample_id\": \"0.6\", \"normalized_error\": 0.4332396918354262, \"unnormalized_error\": 181.07982144193653}, {\"author\": \"Chassagnole\", \"sample_id\": \"0.7\", \"normalized_error\": 0.4300047792231333, \"unnormalized_error\": 179.94059934188198}, {\"author\": \"Khodayari\", \"sample_id\": \"0.2\", \"normalized_error\": 0.2665079193717324, \"unnormalized_error\": 131.38933572181864}, {\"author\": \"Khodayari\", \"sample_id\": \"0.4\", \"normalized_error\": 0.26310022608798217, \"unnormalized_error\": 113.40864824224182}, {\"author\": \"Khodayari\", \"sample_id\": \"0.6\", \"normalized_error\": 0.3318595476045221, \"unnormalized_error\": 138.70628374201712}, {\"author\": \"Khodayari\", \"sample_id\": \"0.7\", \"normalized_error\": 0.341005126651432, \"unnormalized_error\": 142.697639266173}, {\"author\": \"Kurata\", \"sample_id\": \"0.2\", \"normalized_error\": 0.5286405787669849, \"unnormalized_error\": 260.621652983266}, {\"author\": \"Kurata\", \"sample_id\": \"0.4\", \"normalized_error\": 0.3766088888573504, \"unnormalized_error\": 162.33625351215815}, {\"author\": \"Kurata\", \"sample_id\": \"0.6\", \"normalized_error\": 0.30900847636494855, \"unnormalized_error\": 129.15529389090537}, {\"author\": \"Kurata\", \"sample_id\": \"0.7\", \"normalized_error\": 0.3216920942950736, \"unnormalized_error\": 134.61587184119057}, {\"author\": \"Millard\", \"sample_id\": \"0.2\", \"normalized_error\": 0.24932603198300027, \"unnormalized_error\": 122.91860518677677}, {\"author\": \"Millard\", \"sample_id\": \"0.4\", \"normalized_error\": 0.2365761641181063, \"unnormalized_error\": 101.975522324322}, {\"author\": \"Millard\", \"sample_id\": \"0.6\", \"normalized_error\": 0.24848401640462148, \"unnormalized_error\": 103.85807710992556}, {\"author\": \"Millard\", \"sample_id\": \"0.7\", \"normalized_error\": 0.2546381954016719, \"unnormalized_error\": 106.55637264937425}, {\"author\": \"iML1515\", \"sample_id\": \"0.2\", \"normalized_error\": 0.32935056721783074, \"unnormalized_error\": 162.3709807512189}, {\"author\": \"iML1515\", \"sample_id\": \"0.4\", \"normalized_error\": 0.307836129227637, \"unnormalized_error\": 132.69193955065572}, {\"author\": \"iML1515\", \"sample_id\": \"0.6\", \"normalized_error\": 0.3454006309661545, \"unnormalized_error\": 144.36600745492711}, {\"author\": \"iML1515\", \"sample_id\": \"0.7\", \"normalized_error\": 0.35060161764853204, \"unnormalized_error\": 146.71340472979617}]}}, {\"mode\": \"vega-lite\"});\n",
       "</script>"
      ],
      "text/plain": [
       "alt.FacetChart(...)"
      ]
     },
     "execution_count": 17,
     "metadata": {},
     "output_type": "execute_result"
    }
   ],
   "source": [
    "dilution_plot(source=x_norm_error)"
   ]
  },
  {
   "cell_type": "code",
   "execution_count": 18,
   "metadata": {},
   "outputs": [
    {
     "data": {
      "text/html": [
       "\n",
       "<div id=\"altair-viz-e9d3041da90e4cc3a03ddf3b8adedfc3\"></div>\n",
       "<script type=\"text/javascript\">\n",
       "  (function(spec, embedOpt){\n",
       "    const outputDiv = document.getElementById(\"altair-viz-e9d3041da90e4cc3a03ddf3b8adedfc3\");\n",
       "    const paths = {\n",
       "      \"vega\": \"https://cdn.jsdelivr.net/npm//vega@5?noext\",\n",
       "      \"vega-lib\": \"https://cdn.jsdelivr.net/npm//vega-lib?noext\",\n",
       "      \"vega-lite\": \"https://cdn.jsdelivr.net/npm//vega-lite@4.0.2?noext\",\n",
       "      \"vega-embed\": \"https://cdn.jsdelivr.net/npm//vega-embed@6?noext\",\n",
       "    };\n",
       "\n",
       "    function loadScript(lib) {\n",
       "      return new Promise(function(resolve, reject) {\n",
       "        var s = document.createElement('script');\n",
       "        s.src = paths[lib];\n",
       "        s.async = true;\n",
       "        s.onload = () => resolve(paths[lib]);\n",
       "        s.onerror = () => reject(`Error loading script: ${paths[lib]}`);\n",
       "        document.getElementsByTagName(\"head\")[0].appendChild(s);\n",
       "      });\n",
       "    }\n",
       "\n",
       "    function showError(err) {\n",
       "      outputDiv.innerHTML = `<div class=\"error\" style=\"color:red;\">${err}</div>`;\n",
       "      throw err;\n",
       "    }\n",
       "\n",
       "    function displayChart(vegaEmbed) {\n",
       "      vegaEmbed(outputDiv, spec, embedOpt)\n",
       "        .catch(err => showError(`Javascript Error: ${err.message}<br>This usually means there's a typo in your chart specification. See the javascript console for the full traceback.`));\n",
       "    }\n",
       "\n",
       "    if(typeof define === \"function\" && define.amd) {\n",
       "      requirejs.config({paths});\n",
       "      require([\"vega-embed\"], displayChart, err => showError(`Error loading script: ${err.message}`));\n",
       "    } else if (typeof vegaEmbed === \"function\") {\n",
       "      displayChart(vegaEmbed);\n",
       "    } else {\n",
       "      loadScript(\"vega\")\n",
       "        .then(() => loadScript(\"vega-lite\"))\n",
       "        .then(() => loadScript(\"vega-embed\"))\n",
       "        .catch(showError)\n",
       "        .then(() => displayChart(vegaEmbed));\n",
       "    }\n",
       "  })({\"config\": {\"view\": {\"continuousWidth\": 400, \"continuousHeight\": 300, \"stroke\": null}, \"axis\": {\"labelFontSize\": 20, \"titleFontSize\": 20}, \"facet\": {\"spacing\": 5}, \"header\": {\"titleFontSize\": 24}}, \"data\": {\"name\": \"data-cb1d9107059c66f6eb1f01f87466935c\"}, \"facet\": {\"column\": {\"type\": \"nominal\", \"field\": \"author\", \"header\": {\"labelAlign\": \"right\", \"labelAngle\": -90, \"labelFontSize\": 20, \"labelOrient\": \"bottom\", \"labelPadding\": 3, \"titleOrient\": \"top\"}, \"sort\": [\"Chassagnole\", \"Khodayari\", \"Millard\", \"Kurata\", \"iML1515\"]}}, \"spec\": {\"layer\": [{\"mark\": \"circle\", \"encoding\": {\"color\": {\"type\": \"nominal\", \"field\": \"author\", \"legend\": null, \"scale\": {\"domain\": [\"Khodayari\", \"Millard\", \"Kurata\", \"iML1515\", \"Chassagnole\", \"Exp_iML1515\"], \"range\": [\"#1b9e77\", \"#d95f02\", \"#7570b3\", \"#e7298a\", \"#66a61e\", \"#e6ab02\"]}}, \"opacity\": {\"value\": 1.0}, \"size\": {\"condition\": {\"value\": 150, \"selection\": \"selector002\"}, \"value\": 90}, \"tooltip\": [{\"type\": \"nominal\", \"field\": \"author\"}, {\"type\": \"nominal\", \"field\": \"sample_id\"}, {\"type\": \"quantitative\", \"field\": \"RMSE\"}], \"x\": {\"type\": \"ordinal\", \"field\": \"sample_id\", \"scale\": {}, \"title\": null}, \"y\": {\"type\": \"quantitative\", \"axis\": {\"tickCount\": 8}, \"field\": \"RMSE\", \"title\": \"RMSE\"}}, \"height\": 600, \"selection\": {\"selector002\": {\"type\": \"single\", \"empty\": \"none\", \"fields\": [\"sample_id\"]}}, \"width\": 100}, {\"mark\": \"line\", \"encoding\": {\"color\": {\"type\": \"nominal\", \"field\": \"author\", \"legend\": null, \"scale\": {\"domain\": [\"Khodayari\", \"Millard\", \"Kurata\", \"iML1515\", \"Chassagnole\", \"Exp_iML1515\"], \"range\": [\"#1b9e77\", \"#d95f02\", \"#7570b3\", \"#e7298a\", \"#66a61e\", \"#e6ab02\"]}}, \"x\": {\"type\": \"ordinal\", \"field\": \"sample_id\", \"scale\": {}, \"title\": null}, \"y\": {\"type\": \"quantitative\", \"axis\": {\"tickCount\": 8}, \"field\": \"RMSE\", \"title\": \"RMSE\"}}}, {\"mark\": {\"type\": \"tick\", \"width\": 50}, \"encoding\": {\"color\": {\"type\": \"nominal\", \"field\": \"author\", \"legend\": null, \"scale\": {\"domain\": [\"Khodayari\", \"Millard\", \"Kurata\", \"iML1515\", \"Chassagnole\", \"Exp_iML1515\"], \"range\": [\"#1b9e77\", \"#d95f02\", \"#7570b3\", \"#e7298a\", \"#66a61e\", \"#e6ab02\"]}}, \"y\": {\"type\": \"quantitative\", \"aggregate\": \"mean\", \"field\": \"RMSE\"}}}]}, \"transform\": [{\"filter\": \"datum.RMSE !== null\"}], \"$schema\": \"https://vega.github.io/schema/vega-lite/v4.0.2.json\", \"datasets\": {\"data-cb1d9107059c66f6eb1f01f87466935c\": [{\"sample_id\": \"0.2\", \"author\": \"Chassagnole\", \"RMSE\": 42.880272188300516}, {\"sample_id\": \"0.2\", \"author\": \"Khodayari\", \"RMSE\": 12.39770954990383}, {\"sample_id\": \"0.2\", \"author\": \"Kurata\", \"RMSE\": 39.311808679467646}, {\"sample_id\": \"0.2\", \"author\": \"Millard\", \"RMSE\": 13.865861663121624}, {\"sample_id\": \"0.2\", \"author\": \"iML1515\", \"RMSE\": 13.136056627332124}, {\"sample_id\": \"0.4\", \"author\": \"Chassagnole\", \"RMSE\": 30.006315332909}, {\"sample_id\": \"0.4\", \"author\": \"Khodayari\", \"RMSE\": 12.209331745408068}, {\"sample_id\": \"0.4\", \"author\": \"Kurata\", \"RMSE\": 22.283698354863926}, {\"sample_id\": \"0.4\", \"author\": \"Millard\", \"RMSE\": 8.71102283221073}, {\"sample_id\": \"0.4\", \"author\": \"iML1515\", \"RMSE\": 12.08061671735856}, {\"sample_id\": \"0.6\", \"author\": \"Chassagnole\", \"RMSE\": 27.72684777923644}, {\"sample_id\": \"0.6\", \"author\": \"Khodayari\", \"RMSE\": 17.97577176394776}, {\"sample_id\": \"0.6\", \"author\": \"Kurata\", \"RMSE\": 15.218534107268578}, {\"sample_id\": \"0.6\", \"author\": \"Millard\", \"RMSE\": 10.398660962440719}, {\"sample_id\": \"0.6\", \"author\": \"iML1515\", \"RMSE\": 17.1306023909566}, {\"sample_id\": \"0.7\", \"author\": \"Chassagnole\", \"RMSE\": 27.62041747790359}, {\"sample_id\": \"0.7\", \"author\": \"Khodayari\", \"RMSE\": 18.672598077341323}, {\"sample_id\": \"0.7\", \"author\": \"Kurata\", \"RMSE\": 16.780458053046093}, {\"sample_id\": \"0.7\", \"author\": \"Millard\", \"RMSE\": 11.096805021605208}, {\"sample_id\": \"0.7\", \"author\": \"iML1515\", \"RMSE\": 17.619310191072792}]}}, {\"mode\": \"vega-lite\"});\n",
       "</script>"
      ],
      "text/plain": [
       "alt.FacetChart(...)"
      ]
     },
     "execution_count": 18,
     "metadata": {},
     "output_type": "execute_result"
    }
   ],
   "source": [
    "dilution_plot(source=x_rms_error, field=\"RMSE\", field_name=\"RMSE\")"
   ]
  },
  {
   "cell_type": "code",
   "execution_count": 21,
   "metadata": {},
   "outputs": [
    {
     "data": {
      "text/html": [
       "\n",
       "<div id=\"altair-viz-8951bf91ec91439d87084fef7e4524e0\"></div>\n",
       "<script type=\"text/javascript\">\n",
       "  (function(spec, embedOpt){\n",
       "    const outputDiv = document.getElementById(\"altair-viz-8951bf91ec91439d87084fef7e4524e0\");\n",
       "    const paths = {\n",
       "      \"vega\": \"https://cdn.jsdelivr.net/npm//vega@5?noext\",\n",
       "      \"vega-lib\": \"https://cdn.jsdelivr.net/npm//vega-lib?noext\",\n",
       "      \"vega-lite\": \"https://cdn.jsdelivr.net/npm//vega-lite@4.0.2?noext\",\n",
       "      \"vega-embed\": \"https://cdn.jsdelivr.net/npm//vega-embed@6?noext\",\n",
       "    };\n",
       "\n",
       "    function loadScript(lib) {\n",
       "      return new Promise(function(resolve, reject) {\n",
       "        var s = document.createElement('script');\n",
       "        s.src = paths[lib];\n",
       "        s.async = true;\n",
       "        s.onload = () => resolve(paths[lib]);\n",
       "        s.onerror = () => reject(`Error loading script: ${paths[lib]}`);\n",
       "        document.getElementsByTagName(\"head\")[0].appendChild(s);\n",
       "      });\n",
       "    }\n",
       "\n",
       "    function showError(err) {\n",
       "      outputDiv.innerHTML = `<div class=\"error\" style=\"color:red;\">${err}</div>`;\n",
       "      throw err;\n",
       "    }\n",
       "\n",
       "    function displayChart(vegaEmbed) {\n",
       "      vegaEmbed(outputDiv, spec, embedOpt)\n",
       "        .catch(err => showError(`Javascript Error: ${err.message}<br>This usually means there's a typo in your chart specification. See the javascript console for the full traceback.`));\n",
       "    }\n",
       "\n",
       "    if(typeof define === \"function\" && define.amd) {\n",
       "      requirejs.config({paths});\n",
       "      require([\"vega-embed\"], displayChart, err => showError(`Error loading script: ${err.message}`));\n",
       "    } else if (typeof vegaEmbed === \"function\") {\n",
       "      displayChart(vegaEmbed);\n",
       "    } else {\n",
       "      loadScript(\"vega\")\n",
       "        .then(() => loadScript(\"vega-lite\"))\n",
       "        .then(() => loadScript(\"vega-embed\"))\n",
       "        .catch(showError)\n",
       "        .then(() => displayChart(vegaEmbed));\n",
       "    }\n",
       "  })({\"config\": {\"view\": {\"continuousWidth\": 400, \"continuousHeight\": 300, \"stroke\": null}, \"axis\": {\"labelFontSize\": 20, \"titleFontSize\": 20}, \"facet\": {\"spacing\": 5}, \"header\": {\"titleFontSize\": 24}}, \"data\": {\"name\": \"data-46ca7aeb337704c729b48d516baed7ac\"}, \"facet\": {\"column\": {\"type\": \"nominal\", \"field\": \"author\", \"header\": {\"labelAlign\": \"right\", \"labelAngle\": -90, \"labelFontSize\": 20, \"labelOrient\": \"bottom\", \"labelPadding\": 3, \"titleOrient\": \"top\"}, \"sort\": [\"Chassagnole\", \"Khodayari\", \"Millard\", \"Kurata\", \"iML1515\"]}}, \"spec\": {\"layer\": [{\"mark\": \"circle\", \"encoding\": {\"color\": {\"type\": \"nominal\", \"field\": \"author\", \"legend\": null, \"scale\": {\"domain\": [\"Khodayari\", \"Millard\", \"Kurata\", \"iML1515\", \"Chassagnole\", \"Exp_iML1515\"], \"range\": [\"#1b9e77\", \"#d95f02\", \"#7570b3\", \"#e7298a\", \"#66a61e\", \"#e6ab02\"]}}, \"opacity\": {\"value\": 1.0}, \"size\": {\"condition\": {\"value\": 150, \"selection\": \"selector004\"}, \"value\": 90}, \"tooltip\": [{\"type\": \"nominal\", \"field\": \"author\"}, {\"type\": \"nominal\", \"field\": \"sample_id\"}, {\"type\": \"quantitative\", \"field\": \"SpearmanR\"}], \"x\": {\"type\": \"ordinal\", \"field\": \"sample_id\", \"scale\": {}, \"title\": null}, \"y\": {\"type\": \"quantitative\", \"axis\": {\"tickCount\": 8}, \"field\": \"SpearmanR\", \"title\": \"SpearmanR\"}}, \"height\": 600, \"selection\": {\"selector004\": {\"type\": \"single\", \"empty\": \"none\", \"fields\": [\"sample_id\"]}}, \"width\": 100}, {\"mark\": \"line\", \"encoding\": {\"color\": {\"type\": \"nominal\", \"field\": \"author\", \"legend\": null, \"scale\": {\"domain\": [\"Khodayari\", \"Millard\", \"Kurata\", \"iML1515\", \"Chassagnole\", \"Exp_iML1515\"], \"range\": [\"#1b9e77\", \"#d95f02\", \"#7570b3\", \"#e7298a\", \"#66a61e\", \"#e6ab02\"]}}, \"x\": {\"type\": \"ordinal\", \"field\": \"sample_id\", \"scale\": {}, \"title\": null}, \"y\": {\"type\": \"quantitative\", \"axis\": {\"tickCount\": 8}, \"field\": \"SpearmanR\", \"title\": \"SpearmanR\"}}}, {\"mark\": {\"type\": \"tick\", \"width\": 50}, \"encoding\": {\"color\": {\"type\": \"nominal\", \"field\": \"author\", \"legend\": null, \"scale\": {\"domain\": [\"Khodayari\", \"Millard\", \"Kurata\", \"iML1515\", \"Chassagnole\", \"Exp_iML1515\"], \"range\": [\"#1b9e77\", \"#d95f02\", \"#7570b3\", \"#e7298a\", \"#66a61e\", \"#e6ab02\"]}}, \"y\": {\"type\": \"quantitative\", \"aggregate\": \"mean\", \"field\": \"SpearmanR\"}}}]}, \"transform\": [{\"filter\": \"datum.SpearmanR !== null\"}], \"$schema\": \"https://vega.github.io/schema/vega-lite/v4.0.2.json\", \"datasets\": {\"data-46ca7aeb337704c729b48d516baed7ac\": [{\"sample_id\": \"0.2\", \"author\": \"Chassagnole\", \"SpearmanR\": 0.5262422562138372}, {\"sample_id\": \"0.2\", \"author\": \"Khodayari\", \"SpearmanR\": 0.9417429092699051}, {\"sample_id\": \"0.2\", \"author\": \"Kurata\", \"SpearmanR\": 0.709456074805144}, {\"sample_id\": \"0.2\", \"author\": \"Millard\", \"SpearmanR\": 0.936784917164831}, {\"sample_id\": \"0.2\", \"author\": \"iML1515\", \"SpearmanR\": 0.7947839895310697}, {\"sample_id\": \"0.4\", \"author\": \"Chassagnole\", \"SpearmanR\": 0.6253977406439418}, {\"sample_id\": \"0.4\", \"author\": \"Khodayari\", \"SpearmanR\": 0.893800557558964}, {\"sample_id\": \"0.4\", \"author\": \"Kurata\", \"SpearmanR\": 0.7545033564453242}, {\"sample_id\": \"0.4\", \"author\": \"Millard\", \"SpearmanR\": 0.8946753331160026}, {\"sample_id\": \"0.4\", \"author\": \"iML1515\", \"SpearmanR\": 0.816123547165314}, {\"sample_id\": \"0.6\", \"author\": \"Chassagnole\", \"SpearmanR\": 0.5512375222053384}, {\"sample_id\": \"0.6\", \"author\": \"Khodayari\", \"SpearmanR\": 0.8546477331220509}, {\"sample_id\": \"0.6\", \"author\": \"Kurata\", \"SpearmanR\": 0.8315590049630837}, {\"sample_id\": \"0.6\", \"author\": \"Millard\", \"SpearmanR\": 0.9238226425276813}, {\"sample_id\": \"0.6\", \"author\": \"iML1515\", \"SpearmanR\": 0.7802047309976887}, {\"sample_id\": \"0.7\", \"author\": \"Chassagnole\", \"SpearmanR\": 0.5413807110866006}, {\"sample_id\": \"0.7\", \"author\": \"Khodayari\", \"SpearmanR\": 0.8418187130895257}, {\"sample_id\": \"0.7\", \"author\": \"Kurata\", \"SpearmanR\": 0.8441471265267482}, {\"sample_id\": \"0.7\", \"author\": \"Millard\", \"SpearmanR\": 0.9246085548917599}, {\"sample_id\": \"0.7\", \"author\": \"iML1515\", \"SpearmanR\": 0.7654027187114559}]}}, {\"mode\": \"vega-lite\"});\n",
       "</script>"
      ],
      "text/plain": [
       "alt.FacetChart(...)"
      ]
     },
     "execution_count": 21,
     "metadata": {},
     "output_type": "execute_result"
    }
   ],
   "source": [
    "dilution_plot(source=x_spearman_error, field=\"SpearmanR\", field_name=\"SpearmanR\")"
   ]
  },
  {
   "cell_type": "code",
   "execution_count": 16,
   "metadata": {},
   "outputs": [
    {
     "data": {
      "application/vnd.vegalite.v3+json": {
       "$schema": "https://vega.github.io/schema/vega-lite/v3.2.1.json",
       "config": {
        "invalidValues": null,
        "mark": {
         "tooltip": null
        },
        "view": {
         "height": 300,
         "width": 400
        }
       },
       "data": {
        "name": "data-b3aaf6c1a2ce8d09ad7dc228b3ffb51e"
       },
       "datasets": {
        "data-b3aaf6c1a2ce8d09ad7dc228b3ffb51e": [
         {
          "BiGG_ID": "ACKr",
          "author": "Kurata",
          "flux": 47.216939683899746,
          "normalized_flux": 3.6627481535016644,
          "relative_error": 100,
          "sample_id": "0.2",
          "symm_relative_error": 200
         },
         {
          "BiGG_ID": "ACKr",
          "author": "Kurata",
          "flux": 113.07565025167906,
          "normalized_flux": 5.346168707123714,
          "relative_error": 2439.4301358837643,
          "sample_id": "0.4",
          "symm_relative_error": 184.84521357235823
         },
         {
          "BiGG_ID": "ACKr",
          "author": "Kurata",
          "flux": 376.03747578640906,
          "normalized_flux": 11.11889106148454,
          "relative_error": 15.723859795338774,
          "sample_id": "0.6",
          "symm_relative_error": 17.06554063686759
         },
         {
          "BiGG_ID": "ACKr",
          "author": "Kurata",
          "flux": 375.2816376367573,
          "normalized_flux": 9.975737428381665,
          "relative_error": 39.620536617689915,
          "sample_id": "0.7",
          "symm_relative_error": 49.408491314431075
         },
         {
          "BiGG_ID": "AKGDH",
          "author": "Kurata",
          "flux": 165.72597843490624,
          "normalized_flux": 12.855820931289443,
          "relative_error": 82.98820247454371,
          "sample_id": "0.2",
          "symm_relative_error": 141.84587234716972
         },
         {
          "BiGG_ID": "AKGDH",
          "author": "Kurata",
          "flux": 872.088259727946,
          "normalized_flux": 41.23196243957298,
          "relative_error": 24.088441244972238,
          "sample_id": "0.4",
          "symm_relative_error": 27.386990844095124
         },
         {
          "BiGG_ID": "AKGDH",
          "author": "Kurata",
          "flux": 1993.5421613776225,
          "normalized_flux": 58.94619431874016,
          "relative_error": 61.798813212344385,
          "sample_id": "0.6",
          "symm_relative_error": 47.21091929642898
         },
         {
          "BiGG_ID": "AKGDH",
          "author": "Kurata",
          "flux": 2487.857955836361,
          "normalized_flux": 66.13224639185768,
          "relative_error": 90.81167865751054,
          "sample_id": "0.7",
          "symm_relative_error": 62.4539420677528
         },
         {
          "BiGG_ID": "CS",
          "author": "Kurata",
          "flux": 783.3138177651508,
          "normalized_flux": 60.76381186157133,
          "relative_error": 38.02494936377941,
          "sample_id": "0.2",
          "symm_relative_error": 46.95161287423155
         },
         {
          "BiGG_ID": "CS",
          "author": "Kurata",
          "flux": 1700.236360503837,
          "normalized_flux": 80.38645283054255,
          "relative_error": 18.951916182267013,
          "sample_id": "0.4",
          "symm_relative_error": 17.31148693532369
         },
         {
          "BiGG_ID": "CS",
          "author": "Kurata",
          "flux": 2264.9201926193814,
          "normalized_flux": 66.9704550910127,
          "relative_error": 33.34117476329991,
          "sample_id": "0.6",
          "symm_relative_error": 28.57718942841616
         },
         {
          "BiGG_ID": "CS",
          "author": "Kurata",
          "flux": 2835.679164521293,
          "normalized_flux": 75.37803062929935,
          "relative_error": 56.38998622831439,
          "sample_id": "0.7",
          "symm_relative_error": 43.98766664630912
         },
         {
          "BiGG_ID": "ENO",
          "author": "Kurata",
          "flux": 1338.8172118406262,
          "normalized_flux": 103.85574125248961,
          "relative_error": 37.36009319348859,
          "sample_id": "0.2",
          "symm_relative_error": 45.942098623968036
         },
         {
          "BiGG_ID": "ENO",
          "author": "Kurata",
          "flux": 2756.7449190957823,
          "normalized_flux": 130.33772865501004,
          "relative_error": 15.65337723279324,
          "sample_id": "0.4",
          "symm_relative_error": 16.98254841647992
         },
         {
          "BiGG_ID": "ENO",
          "author": "Kurata",
          "flux": 5022.016881750407,
          "normalized_flux": 148.4938662040057,
          "relative_error": 3.5585114332309558,
          "sample_id": "0.6",
          "symm_relative_error": 3.6229733944634037
         },
         {
          "BiGG_ID": "ENO",
          "author": "Kurata",
          "flux": 5722.163001091468,
          "normalized_flux": 152.10655117781303,
          "relative_error": 1.570921464518096,
          "sample_id": "0.7",
          "symm_relative_error": 1.5833581208080783
         },
         {
          "BiGG_ID": "FBA",
          "author": "Kurata",
          "flux": 502.3796807385938,
          "normalized_flux": 38.97097652454343,
          "relative_error": 57.423167996317325,
          "sample_id": "0.2",
          "symm_relative_error": 80.5504894299154
         },
         {
          "BiGG_ID": "FBA",
          "author": "Kurata",
          "flux": 1192.1369829521823,
          "normalized_flux": 56.363730110578736,
          "relative_error": 35.64237547469976,
          "sample_id": "0.4",
          "symm_relative_error": 43.371733532463146
         },
         {
          "BiGG_ID": "FBA",
          "author": "Kurata",
          "flux": 2306.107197495034,
          "normalized_flux": 68.18829599743697,
          "relative_error": 23.042989119643902,
          "sample_id": "0.6",
          "symm_relative_error": 26.043601217047787
         },
         {
          "BiGG_ID": "FBA",
          "author": "Kurata",
          "flux": 2653.2143482136316,
          "normalized_flux": 70.52775042676797,
          "relative_error": 20.483418636487087,
          "sample_id": "0.7",
          "symm_relative_error": 22.820642506565
         },
         {
          "BiGG_ID": "FUM",
          "author": "Kurata",
          "flux": 670.6025950355463,
          "normalized_flux": 52.020491652859384,
          "relative_error": 40.63088870844673,
          "sample_id": "0.2",
          "symm_relative_error": 50.98966591351033
         },
         {
          "BiGG_ID": "FUM",
          "author": "Kurata",
          "flux": 1403.935864549654,
          "normalized_flux": 66.37749125614765,
          "relative_error": 22.206621498721425,
          "sample_id": "0.4",
          "symm_relative_error": 19.987362526772593
         },
         {
          "BiGG_ID": "FUM",
          "author": "Kurata",
          "flux": 1582.0135814333894,
          "normalized_flux": 46.77788199955418,
          "relative_error": 28.398548533755708,
          "sample_id": "0.6",
          "symm_relative_error": 24.867538533905005
         },
         {
          "BiGG_ID": "FUM",
          "author": "Kurata",
          "flux": 1975.2653896725612,
          "normalized_flux": 52.506509518635355,
          "relative_error": 51.49727656810562,
          "sample_id": "0.7",
          "symm_relative_error": 40.95255206802219
         },
         {
          "BiGG_ID": "G6PDH2r",
          "author": "Kurata",
          "flux": 710.460623002908,
          "normalized_flux": 55.11238874142594,
          "relative_error": 445.79043043928255,
          "sample_id": "0.2",
          "symm_relative_error": 138.06040146368997
         },
         {
          "BiGG_ID": "G6PDH2r",
          "author": "Kurata",
          "flux": 799.3873270386343,
          "normalized_flux": 37.79469322681837,
          "relative_error": 118.93267417974054,
          "sample_id": "0.4",
          "symm_relative_error": 74.58168059175635
         },
         {
          "BiGG_ID": "G6PDH2r",
          "author": "Kurata",
          "flux": 889.070316251107,
          "normalized_flux": 26.288539384863494,
          "relative_error": 99.25517920118125,
          "sample_id": "0.6",
          "symm_relative_error": 66.33481129123894
         },
         {
          "BiGG_ID": "G6PDH2r",
          "author": "Kurata",
          "flux": 906.8756893959542,
          "normalized_flux": 24.106571839129472,
          "relative_error": 83.07349368395496,
          "sample_id": "0.7",
          "symm_relative_error": 58.69394029290824
         },
         {
          "BiGG_ID": "GAPD",
          "author": "Kurata",
          "flux": 1338.8172118406262,
          "normalized_flux": 103.85574125248961,
          "relative_error": 43.06479899193873,
          "sample_id": "0.2",
          "symm_relative_error": 54.88226824232586
         },
         {
          "BiGG_ID": "GAPD",
          "author": "Kurata",
          "flux": 2756.7449190957823,
          "normalized_flux": 130.33772865501004,
          "relative_error": 25.855783100443386,
          "sample_id": "0.4",
          "symm_relative_error": 29.694678997415757
         },
         {
          "BiGG_ID": "GAPD",
          "author": "Kurata",
          "flux": 5022.016881750407,
          "normalized_flux": 148.4938662040057,
          "relative_error": 15.777713641095396,
          "sample_id": "0.6",
          "symm_relative_error": 17.128995576959692
         },
         {
          "BiGG_ID": "GAPD",
          "author": "Kurata",
          "flux": 5722.163001091468,
          "normalized_flux": 152.10655117781303,
          "relative_error": 13.83126411109114,
          "sample_id": "0.7",
          "symm_relative_error": 14.858847319395853
         },
         {
          "BiGG_ID": "GLCptspp",
          "author": "Kurata",
          "flux": 1281.7311765172267,
          "normalized_flux": 99.427420148426,
          "relative_error": 0.5725798515740053,
          "sample_id": "0.2",
          "symm_relative_error": 0.5742237964547268
         },
         {
          "BiGG_ID": "GLCptspp",
          "author": "Kurata",
          "flux": 2094.2432461052795,
          "normalized_flux": 99.0149309998505,
          "relative_error": 0.9850690001494941,
          "sample_id": "0.4",
          "symm_relative_error": 0.9899448199192994
         },
         {
          "BiGG_ID": "GLCptspp",
          "author": "Kurata",
          "flux": 3062.973605645727,
          "normalized_flux": 90.56775464773568,
          "relative_error": 9.432245352264317,
          "sample_id": "0.6",
          "symm_relative_error": 9.899099005180403
         },
         {
          "BiGG_ID": "GLCptspp",
          "author": "Kurata",
          "flux": 3288.4727117382376,
          "normalized_flux": 87.41418983161508,
          "relative_error": 12.585810168384926,
          "sample_id": "0.7",
          "symm_relative_error": 13.43101093859843
         },
         {
          "BiGG_ID": "GND",
          "author": "Kurata",
          "flux": 535.6034360696997,
          "normalized_flux": 41.54823479892697,
          "relative_error": 311.46155107324444,
          "sample_id": "0.2",
          "symm_relative_error": 121.79275271804008
         },
         {
          "BiGG_ID": "GND",
          "author": "Kurata",
          "flux": 602.3147736067193,
          "normalized_flux": 28.47718662088111,
          "relative_error": 64.95931274290886,
          "sample_id": "0.4",
          "symm_relative_error": 49.033424845828435
         },
         {
          "BiGG_ID": "GND",
          "author": "Kurata",
          "flux": 669.7481823872615,
          "normalized_flux": 19.80349714617563,
          "relative_error": 50.101506778399376,
          "sample_id": "0.6",
          "symm_relative_error": 40.06493797159843
         },
         {
          "BiGG_ID": "GND",
          "author": "Kurata",
          "flux": 683.1884120625133,
          "normalized_flux": 18.160516074717528,
          "relative_error": 37.917126793845384,
          "sample_id": "0.7",
          "symm_relative_error": 31.874230581727296
         },
         {
          "BiGG_ID": "ICDHyr",
          "author": "Kurata",
          "flux": 171.49198133315065,
          "normalized_flux": 13.303105668716663,
          "relative_error": 84.53010060493934,
          "sample_id": "0.2",
          "symm_relative_error": 146.41062484298863
         },
         {
          "BiGG_ID": "ICDHyr",
          "author": "Kurata",
          "flux": 906.3430693271504,
          "normalized_flux": 42.851515285301836,
          "relative_error": 36.59043688312033,
          "sample_id": "0.4",
          "symm_relative_error": 44.78371545115608
         },
         {
          "BiGG_ID": "ICDHyr",
          "author": "Kurata",
          "flux": 2264.900589202551,
          "normalized_flux": 66.96987544597675,
          "relative_error": 33.3400206640791,
          "sample_id": "0.6",
          "symm_relative_error": 28.57634157157811
         },
         {
          "BiGG_ID": "ICDHyr",
          "author": "Kurata",
          "flux": 2835.6658739729132,
          "normalized_flux": 75.37767733990914,
          "relative_error": 56.38925324388369,
          "sample_id": "0.7",
          "symm_relative_error": 43.98722062679036
         },
         {
          "BiGG_ID": "ICL",
          "author": "Kurata",
          "flux": 611.6095999450125,
          "normalized_flux": 47.44424242357983,
          "relative_error": 293.6589844334867,
          "sample_id": "0.2",
          "symm_relative_error": 118.97240552422396
         },
         {
          "BiGG_ID": "ICL",
          "author": "Kurata",
          "flux": 793.2387854018808,
          "normalized_flux": 37.50399279025492,
          "relative_error": 100,
          "sample_id": "0.4",
          "symm_relative_error": 200
         },
         {
          "BiGG_ID": "ICL",
          "author": "Kurata",
          "flux": 3.8927718724800576e-05,
          "normalized_flux": 0,
          "relative_error": 0,
          "sample_id": "0.6",
          "symm_relative_error": null
         },
         {
          "BiGG_ID": "ICL",
          "author": "Kurata",
          "flux": 2.8173129798838178e-06,
          "normalized_flux": 0,
          "relative_error": 0,
          "sample_id": "0.7",
          "symm_relative_error": null
         },
         {
          "BiGG_ID": "MDH",
          "author": "Kurata",
          "flux": 1134.7533935997799,
          "normalized_flux": 88.02594841835082,
          "relative_error": 11.686385083549997,
          "sample_id": "0.2",
          "symm_relative_error": 12.411619933837445
         },
         {
          "BiGG_ID": "MDH",
          "author": "Kurata",
          "flux": 1728.8827142888708,
          "normalized_flux": 81.74084026796054,
          "relative_error": 51.07742851082201,
          "sample_id": "0.4",
          "symm_relative_error": 40.68659521787357
         },
         {
          "BiGG_ID": "MDH",
          "author": "Kurata",
          "flux": 1362.2933912923484,
          "normalized_flux": 40.28106980529681,
          "relative_error": 20.481944215842912,
          "sample_id": "0.6",
          "symm_relative_error": 18.57924855360665
         },
         {
          "BiGG_ID": "MDH",
          "author": "Kurata",
          "flux": 1719.3049068789874,
          "normalized_flux": 45.702567326126655,
          "relative_error": 43.713151162234226,
          "sample_id": "0.7",
          "symm_relative_error": 35.87262398748058
         },
         {
          "BiGG_ID": "PDH",
          "author": "Kurata",
          "flux": 1412.6951403901217,
          "normalized_flux": 109.58665579694623,
          "relative_error": 13.290970799838938,
          "sample_id": "0.2",
          "symm_relative_error": 14.237094860142385
         },
         {
          "BiGG_ID": "PDH",
          "author": "Kurata",
          "flux": 2542.110962312291,
          "normalized_flux": 120.18992635904222,
          "relative_error": 35.92908338225011,
          "sample_id": "0.4",
          "symm_relative_error": 30.457528056461058
         },
         {
          "BiGG_ID": "PDH",
          "author": "Kurata",
          "flux": 3358.0476369891026,
          "normalized_flux": 99.29267229781487,
          "relative_error": 16.598965532821357,
          "sample_id": "0.6",
          "symm_relative_error": 15.32691118075179
         },
         {
          "BiGG_ID": "PDH",
          "author": "Kurata",
          "flux": 3710.1654892202496,
          "normalized_flux": 98.6236282952078,
          "relative_error": 13.417172539488961,
          "sample_id": "0.7",
          "symm_relative_error": 12.573657855022285
         },
         {
          "BiGG_ID": "PFK",
          "author": "Kurata",
          "flux": 502.42444984043715,
          "normalized_flux": 38.97444938716876,
          "relative_error": 57.41937380120709,
          "sample_id": "0.2",
          "symm_relative_error": 80.54302373612832
         },
         {
          "BiGG_ID": "PFK",
          "author": "Kurata",
          "flux": 1192.9409527919922,
          "normalized_flux": 56.401741463062635,
          "relative_error": 35.59897308905108,
          "sample_id": "0.4",
          "symm_relative_error": 43.30748263310298
         },
         {
          "BiGG_ID": "PFK",
          "author": "Kurata",
          "flux": 2316.9713262290393,
          "normalized_flux": 68.50953276677419,
          "relative_error": 22.680442714994285,
          "sample_id": "0.6",
          "symm_relative_error": 25.5814339515184
         },
         {
          "BiGG_ID": "PFK",
          "author": "Kurata",
          "flux": 2682.9345375978205,
          "normalized_flux": 71.31777257516153,
          "relative_error": 19.592707390749247,
          "sample_id": "0.7",
          "symm_relative_error": 21.72052704453101
         },
         {
          "BiGG_ID": "PGI",
          "author": "Kurata",
          "flux": 567.8667637462247,
          "normalized_flux": 44.050990052955136,
          "relative_error": 50.462806057665844,
          "sample_id": "0.2",
          "symm_relative_error": 67.49197938959018
         },
         {
          "BiGG_ID": "PGI",
          "author": "Kurata",
          "flux": 1302.486739136248,
          "normalized_flux": 61.58101970419947,
          "relative_error": 24.22024777332966,
          "sample_id": "0.4",
          "symm_relative_error": 27.557494496974066
         },
         {
          "BiGG_ID": "PGI",
          "author": "Kurata",
          "flux": 2476.7924767304326,
          "normalized_flux": 73.23521591319408,
          "relative_error": 14.151337409313788,
          "sample_id": "0.6",
          "symm_relative_error": 15.228882696326687
         },
         {
          "BiGG_ID": "PGI",
          "author": "Kurata",
          "flux": 2838.297656989429,
          "normalized_flux": 75.44763540262322,
          "relative_error": 11.97775869693957,
          "sample_id": "0.7",
          "symm_relative_error": 12.740789189544257
         },
         {
          "BiGG_ID": "PGK",
          "author": "Kurata",
          "flux": 1338.8172118406262,
          "normalized_flux": 103.85574125248961,
          "relative_error": 43.06479899193873,
          "sample_id": "0.2",
          "symm_relative_error": 54.88226824232586
         },
         {
          "BiGG_ID": "PGK",
          "author": "Kurata",
          "flux": 2756.7449190957823,
          "normalized_flux": 130.33772865501004,
          "relative_error": 25.855783100443386,
          "sample_id": "0.4",
          "symm_relative_error": 29.694678997415757
         },
         {
          "BiGG_ID": "PGK",
          "author": "Kurata",
          "flux": 5022.016881750407,
          "normalized_flux": 148.4938662040057,
          "relative_error": 15.777713641095396,
          "sample_id": "0.6",
          "symm_relative_error": 17.128995576959692
         },
         {
          "BiGG_ID": "PGK",
          "author": "Kurata",
          "flux": 5722.163001091468,
          "normalized_flux": 152.10655117781303,
          "relative_error": 13.83126411109114,
          "sample_id": "0.7",
          "symm_relative_error": 14.858847319395853
         },
         {
          "BiGG_ID": "PGM",
          "author": "Kurata",
          "flux": 1338.8172118406262,
          "normalized_flux": 103.85574125248961,
          "relative_error": 37.36009319348859,
          "sample_id": "0.2",
          "symm_relative_error": 45.942098623968036
         },
         {
          "BiGG_ID": "PGM",
          "author": "Kurata",
          "flux": 2756.7449190957823,
          "normalized_flux": 130.33772865501004,
          "relative_error": 15.65337723279324,
          "sample_id": "0.4",
          "symm_relative_error": 16.98254841647992
         },
         {
          "BiGG_ID": "PGM",
          "author": "Kurata",
          "flux": 5022.016881750407,
          "normalized_flux": 148.4938662040057,
          "relative_error": 3.5585114332309558,
          "sample_id": "0.6",
          "symm_relative_error": 3.6229733944634037
         },
         {
          "BiGG_ID": "PGM",
          "author": "Kurata",
          "flux": 5722.163001091468,
          "normalized_flux": 152.10655117781303,
          "relative_error": 1.570921464518096,
          "sample_id": "0.7",
          "symm_relative_error": 1.5833581208080783
         },
         {
          "BiGG_ID": "PPC",
          "author": "Kurata",
          "flux": 77.39604518717731,
          "normalized_flux": 6.003824548890198,
          "relative_error": 40.54276979002288,
          "sample_id": "0.2",
          "symm_relative_error": 50.85096453341776
         },
         {
          "BiGG_ID": "PPC",
          "author": "Kurata",
          "flux": 650.3851705308307,
          "normalized_flux": 30.749934566196455,
          "relative_error": 8.194214214394941,
          "sample_id": "0.4",
          "symm_relative_error": 7.871702146301411
         },
         {
          "BiGG_ID": "PPC",
          "author": "Kurata",
          "flux": 1676.3684364057597,
          "normalized_flux": 49.56782029324666,
          "relative_error": 52.35823103961069,
          "sample_id": "0.6",
          "symm_relative_error": 41.495164095830454
         },
         {
          "BiGG_ID": "PPC",
          "author": "Kurata",
          "flux": 2013.9715056379146,
          "normalized_flux": 53.53539558983874,
          "relative_error": 67.68869046622645,
          "sample_id": "0.7",
          "symm_relative_error": 50.57269348834634
         },
         {
          "BiGG_ID": "PTAr",
          "author": "Kurata",
          "flux": 47.21723546941024,
          "normalized_flux": 3.662771098398976,
          "relative_error": 100,
          "sample_id": "0.2",
          "symm_relative_error": 200
         },
         {
          "BiGG_ID": "PTAr",
          "author": "Kurata",
          "flux": 113.07724078696943,
          "normalized_flux": 5.346243906956551,
          "relative_error": 2439.465855804362,
          "sample_id": "0.4",
          "symm_relative_error": 184.84541866225044
         },
         {
          "BiGG_ID": "PTAr",
          "author": "Kurata",
          "flux": 376.0956290053528,
          "normalized_flux": 11.12061056910797,
          "relative_error": 15.710826709147543,
          "sample_id": "0.6",
          "symm_relative_error": 17.05018957825818
         },
         {
          "BiGG_ID": "PTAr",
          "author": "Kurata",
          "flux": 375.33376296763856,
          "normalized_flux": 9.977123024057256,
          "relative_error": 39.612150117548175,
          "sample_id": "0.7",
          "symm_relative_error": 49.3954500251483
         },
         {
          "BiGG_ID": "PYK",
          "author": "Kurata",
          "flux": 12.546430585142863,
          "normalized_flux": 0.9732612017300771,
          "relative_error": 99.3490388040716,
          "sample_id": "0.2",
          "symm_relative_error": 197.41299561099578
         },
         {
          "BiGG_ID": "PYK",
          "author": "Kurata",
          "flux": 54.97904350926666,
          "normalized_flux": 2.599385820931593,
          "relative_error": 97.79909400188502,
          "sample_id": "0.4",
          "symm_relative_error": 191.38596286746977
         },
         {
          "BiGG_ID": "PYK",
          "author": "Kurata",
          "flux": 164.01817634794594,
          "normalized_flux": 4.849783206054816,
          "relative_error": 95.72115688037228,
          "sample_id": "0.6",
          "symm_relative_error": 183.58691756977368
         },
         {
          "BiGG_ID": "PYK",
          "author": "Kurata",
          "flux": 244.96625702197198,
          "normalized_flux": 6.511693655605857,
          "relative_error": 94.30845451382984,
          "sample_id": "0.7",
          "symm_relative_error": 178.45978896423688
         },
         {
          "BiGG_ID": "RPE",
          "author": "Kurata",
          "flux": 334.83647502497456,
          "normalized_flux": 25.974188264491076,
          "relative_error": 786.0084219109733,
          "sample_id": "0.2",
          "symm_relative_error": 159.43239518940786
         },
         {
          "BiGG_ID": "RPE",
          "author": "Kurata",
          "flux": 375.96499045206764,
          "normalized_flux": 17.775465031199886,
          "relative_error": 155.85896635818023,
          "sample_id": "0.4",
          "symm_relative_error": 87.59591922228235
         },
         {
          "BiGG_ID": "RPE",
          "author": "Kurata",
          "flux": 416.89890465966016,
          "normalized_flux": 12.327105150540763,
          "relative_error": 216.23765905425728,
          "sample_id": "0.6",
          "symm_relative_error": 103.90105477028467
         },
         {
          "BiGG_ID": "RPE",
          "author": "Kurata",
          "flux": 424.51363211123174,
          "normalized_flux": 11.284422428387618,
          "relative_error": 202.79866849506783,
          "sample_id": "0.7",
          "symm_relative_error": 100.69480579603805
         },
         {
          "BiGG_ID": "RPI",
          "author": "Kurata",
          "flux": 200.7267092316389,
          "normalized_flux": 15.570924090350283,
          "relative_error": 117.28516798806983,
          "sample_id": "0.2",
          "symm_relative_error": 73.93044479941139
         },
         {
          "BiGG_ID": "RPI",
          "author": "Kurata",
          "flux": 226.2620346549071,
          "normalized_flux": 10.697572877890602,
          "relative_error": 1.6269423399607297,
          "sample_id": "0.4",
          "symm_relative_error": 1.6138144248773678
         },
         {
          "BiGG_ID": "RPI",
          "author": "Kurata",
          "flux": 252.7056577717425,
          "normalized_flux": 7.472145358673722,
          "relative_error": 19.614178157493992,
          "sample_id": "0.6",
          "symm_relative_error": 21.746917753457407
         },
         {
          "BiGG_ID": "RPI",
          "author": "Kurata",
          "flux": 258.5035581773935,
          "normalized_flux": 6.871542228709039,
          "relative_error": 24.224774053277027,
          "sample_id": "0.7",
          "symm_relative_error": 27.56335419033339
         },
         {
          "BiGG_ID": "SUCDi",
          "author": "Kurata",
          "flux": 746.3648260295151,
          "normalized_flux": 57.89757673156363,
          "relative_error": 33.92358343275081,
          "sample_id": "0.2",
          "symm_relative_error": 40.85298097579575
         },
         {
          "BiGG_ID": "SUCDi",
          "author": "Kurata",
          "flux": 1543.9761602971162,
          "normalized_flux": 72.99853694719656,
          "relative_error": 34.39653120123395,
          "sample_id": "0.4",
          "symm_relative_error": 29.349010435400906
         },
         {
          "BiGG_ID": "SUCDi",
          "author": "Kurata",
          "flux": 1738.4711930562917,
          "normalized_flux": 51.40411010550825,
          "relative_error": 41.09687835544857,
          "sample_id": "0.6",
          "symm_relative_error": 34.091588937837294
         },
         {
          "BiGG_ID": "SUCDi",
          "author": "Kurata",
          "flux": 2140.443013765583,
          "normalized_flux": 56.89726153456752,
          "relative_error": 64.16593381837585,
          "sample_id": "0.7",
          "symm_relative_error": 48.58002157272283
         },
         {
          "BiGG_ID": "TALA",
          "author": "Kurata",
          "flux": 172.0340098364338,
          "normalized_flux": 13.345152313688502,
          "relative_error": 355.21797336693004,
          "sample_id": "0.2",
          "symm_relative_error": 127.95622274719666
         },
         {
          "BiGG_ID": "TALA",
          "author": "Kurata",
          "flux": 194.9815699432736,
          "normalized_flux": 9.218645794885484,
          "relative_error": 75.15427010282421,
          "sample_id": "0.4",
          "symm_relative_error": 54.62700620618341
         },
         {
          "BiGG_ID": "TALA",
          "author": "Kurata",
          "flux": 218.55598483028086,
          "normalized_flux": 6.462388306062527,
          "relative_error": 65.78511539014254,
          "sample_id": "0.6",
          "symm_relative_error": 49.50248270568306
         },
         {
          "BiGG_ID": "TALA",
          "author": "Kurata",
          "flux": 223.58694968508613,
          "normalized_flux": 5.943388854612957,
          "relative_error": 59.48093426544771,
          "sample_id": "0.7",
          "symm_relative_error": 45.846092264026616
         },
         {
          "BiGG_ID": "TKT1",
          "author": "Kurata",
          "flux": 172.05861931685487,
          "normalized_flux": 13.34706133891492,
          "relative_error": 355.28309233854225,
          "sample_id": "0.2",
          "symm_relative_error": 127.96467144075585
         },
         {
          "BiGG_ID": "TKT1",
          "author": "Kurata",
          "flux": 195.02793818911564,
          "normalized_flux": 9.220838065850746,
          "relative_error": 75.19592325116419,
          "sample_id": "0.4",
          "symm_relative_error": 54.64900959490945
         },
         {
          "BiGG_ID": "TKT1",
          "author": "Kurata",
          "flux": 218.62921067901496,
          "normalized_flux": 6.464553489820493,
          "relative_error": 65.8406606811642,
          "sample_id": "0.6",
          "symm_relative_error": 49.53392796456381
         },
         {
          "BiGG_ID": "TKT1",
          "author": "Kurata",
          "flux": 223.6716732914325,
          "normalized_flux": 5.945640977728331,
          "relative_error": 59.54136623571025,
          "sample_id": "0.7",
          "symm_relative_error": 45.881985672862626
         }
        ]
       },
       "encoding": {
        "color": {
         "condition": {
          "test": "datum.relative_error === null",
          "value": "lightgrey"
         },
         "field": "relative_error",
         "scale": {
          "domain": [
           0,
           25,
           50,
           75,
           100,
           200,
           300
          ],
          "scheme": "greenblue",
          "type": "threshold"
         },
         "title": "relative error (clipped at 300)",
         "type": "quantitative"
        },
        "tooltip": [
         {
          "field": "sample_id",
          "type": "nominal"
         },
         {
          "field": "BiGG_ID",
          "type": "nominal"
         },
         {
          "field": "relative_error",
          "type": "quantitative"
         },
         {
          "field": "normalized_flux",
          "type": "quantitative"
         }
        ],
        "x": {
         "field": "sample_id",
         "type": "nominal"
        },
        "y": {
         "field": "BiGG_ID",
         "type": "nominal"
        }
       },
       "mark": "rect",
       "title": "Heatmap for author Kurata"
      },
      "image/png": "[encoded data removed]",
      "text/plain": [
       "<VegaLite 3 object>\n",
       "\n",
       "If you see this message, it means the renderer has not been properly enabled\n",
       "for the frontend that you are using. For more information, see\n",
       "https://altair-viz.github.io/user_guide/troubleshooting.html\n"
      ]
     },
     "execution_count": 16,
     "metadata": {},
     "output_type": "execute_result"
    }
   ],
   "source": [
    "heatmap(x_rel_error, author = \"Kurata\")"
   ]
  },
  {
   "cell_type": "code",
   "execution_count": 15,
   "metadata": {},
   "outputs": [
    {
     "data": {
      "application/vnd.vegalite.v3+json": {
       "$schema": "https://vega.github.io/schema/vega-lite/v3.2.1.json",
       "config": {
        "invalidValues": null,
        "mark": {
         "tooltip": null
        },
        "view": {
         "height": 300,
         "width": 400
        }
       },
       "data": {
        "name": "data-979cce0df41c6fa88f27b1fe8f876c06"
       },
       "datasets": {
        "data-979cce0df41c6fa88f27b1fe8f876c06": [
         {
          "BiGG_ID": "ACKr",
          "author": "Yao",
          "flux": 0,
          "normalized_flux": 0,
          "relative_error": 0,
          "sample_id": "0.2",
          "symm_relative_error": null
         },
         {
          "BiGG_ID": "ACKr",
          "author": "Yao",
          "flux": 0.01,
          "normalized_flux": 0.21052631578947367,
          "relative_error": 0,
          "sample_id": "0.4",
          "symm_relative_error": 0
         },
         {
          "BiGG_ID": "ACKr",
          "author": "Yao",
          "flux": 0.88,
          "normalized_flux": 13.193403298350825,
          "relative_error": 0,
          "sample_id": "0.6",
          "symm_relative_error": 0
         },
         {
          "BiGG_ID": "ACKr",
          "author": "Yao",
          "flux": 1.33,
          "normalized_flux": 16.52173913043478,
          "relative_error": 0,
          "sample_id": "0.7",
          "symm_relative_error": 0
         },
         {
          "BiGG_ID": "AKGDH",
          "author": "Yao",
          "flux": 2.32,
          "normalized_flux": 75.57003257328991,
          "relative_error": 0,
          "sample_id": "0.2",
          "symm_relative_error": 0
         },
         {
          "BiGG_ID": "AKGDH",
          "author": "Yao",
          "flux": 2.58,
          "normalized_flux": 54.31578947368422,
          "relative_error": 0,
          "sample_id": "0.4",
          "symm_relative_error": 0
         },
         {
          "BiGG_ID": "AKGDH",
          "author": "Yao",
          "flux": 2.43,
          "normalized_flux": 36.43178410794603,
          "relative_error": 0,
          "sample_id": "0.6",
          "symm_relative_error": 0
         },
         {
          "BiGG_ID": "AKGDH",
          "author": "Yao",
          "flux": 2.79,
          "normalized_flux": 34.658385093167695,
          "relative_error": 0,
          "sample_id": "0.7",
          "symm_relative_error": 0
         },
         {
          "BiGG_ID": "CS",
          "author": "Yao",
          "flux": 3.01,
          "normalized_flux": 98.0456026058632,
          "relative_error": 0,
          "sample_id": "0.2",
          "symm_relative_error": 0
         },
         {
          "BiGG_ID": "CS",
          "author": "Yao",
          "flux": 3.21,
          "normalized_flux": 67.57894736842105,
          "relative_error": 0,
          "sample_id": "0.4",
          "symm_relative_error": 0
         },
         {
          "BiGG_ID": "CS",
          "author": "Yao",
          "flux": 3.35,
          "normalized_flux": 50.22488755622189,
          "relative_error": 0,
          "sample_id": "0.6",
          "symm_relative_error": 0
         },
         {
          "BiGG_ID": "CS",
          "author": "Yao",
          "flux": 3.88,
          "normalized_flux": 48.198757763975145,
          "relative_error": 0,
          "sample_id": "0.7",
          "symm_relative_error": 0
         },
         {
          "BiGG_ID": "ENO",
          "author": "Yao",
          "flux": 5.09,
          "normalized_flux": 165.79804560260587,
          "relative_error": 0,
          "sample_id": "0.2",
          "symm_relative_error": 0
         },
         {
          "BiGG_ID": "ENO",
          "author": "Yao",
          "flux": 7.34,
          "normalized_flux": 154.5263157894737,
          "relative_error": 0,
          "sample_id": "0.4",
          "symm_relative_error": 0
         },
         {
          "BiGG_ID": "ENO",
          "author": "Yao",
          "flux": 10.27,
          "normalized_flux": 153.97301349325338,
          "relative_error": 0,
          "sample_id": "0.6",
          "symm_relative_error": 0
         },
         {
          "BiGG_ID": "ENO",
          "author": "Yao",
          "flux": 12.44,
          "normalized_flux": 154.53416149068323,
          "relative_error": 0,
          "sample_id": "0.7",
          "symm_relative_error": 0
         },
         {
          "BiGG_ID": "FBA",
          "author": "Yao",
          "flux": 2.81,
          "normalized_flux": 91.53094462540717,
          "relative_error": 0,
          "sample_id": "0.2",
          "symm_relative_error": 0
         },
         {
          "BiGG_ID": "FBA",
          "author": "Yao",
          "flux": 4.16,
          "normalized_flux": 87.57894736842105,
          "relative_error": 0,
          "sample_id": "0.4",
          "symm_relative_error": 0
         },
         {
          "BiGG_ID": "FBA",
          "author": "Yao",
          "flux": 5.91,
          "normalized_flux": 88.6056971514243,
          "relative_error": 0,
          "sample_id": "0.6",
          "symm_relative_error": 0
         },
         {
          "BiGG_ID": "FBA",
          "author": "Yao",
          "flux": 7.14,
          "normalized_flux": 88.69565217391303,
          "relative_error": 0,
          "sample_id": "0.7",
          "symm_relative_error": 0
         },
         {
          "BiGG_ID": "FUM",
          "author": "Yao",
          "flux": 2.69,
          "normalized_flux": 87.62214983713356,
          "relative_error": 0,
          "sample_id": "0.2",
          "symm_relative_error": 0
         },
         {
          "BiGG_ID": "FUM",
          "author": "Yao",
          "flux": 2.58,
          "normalized_flux": 54.31578947368422,
          "relative_error": 0,
          "sample_id": "0.4",
          "symm_relative_error": 0
         },
         {
          "BiGG_ID": "FUM",
          "author": "Yao",
          "flux": 2.43,
          "normalized_flux": 36.43178410794603,
          "relative_error": 0,
          "sample_id": "0.6",
          "symm_relative_error": 0
         },
         {
          "BiGG_ID": "FUM",
          "author": "Yao",
          "flux": 2.79,
          "normalized_flux": 34.658385093167695,
          "relative_error": 0,
          "sample_id": "0.7",
          "symm_relative_error": 0
         },
         {
          "BiGG_ID": "G6PDH2r",
          "author": "Yao",
          "flux": 0.31,
          "normalized_flux": 10.097719869706841,
          "relative_error": 0,
          "sample_id": "0.2",
          "symm_relative_error": 0
         },
         {
          "BiGG_ID": "G6PDH2r",
          "author": "Yao",
          "flux": 0.82,
          "normalized_flux": 17.263157894736842,
          "relative_error": 0,
          "sample_id": "0.4",
          "symm_relative_error": 0
         },
         {
          "BiGG_ID": "G6PDH2r",
          "author": "Yao",
          "flux": 0.88,
          "normalized_flux": 13.193403298350825,
          "relative_error": 0,
          "sample_id": "0.6",
          "symm_relative_error": 0
         },
         {
          "BiGG_ID": "G6PDH2r",
          "author": "Yao",
          "flux": 1.06,
          "normalized_flux": 13.167701863354036,
          "relative_error": 0,
          "sample_id": "0.7",
          "symm_relative_error": 0
         },
         {
          "BiGG_ID": "GAPD",
          "author": "Yao",
          "flux": 5.6,
          "normalized_flux": 182.41042345276873,
          "relative_error": 0,
          "sample_id": "0.2",
          "symm_relative_error": 0
         },
         {
          "BiGG_ID": "GAPD",
          "author": "Yao",
          "flux": 8.35,
          "normalized_flux": 175.78947368421052,
          "relative_error": 0,
          "sample_id": "0.4",
          "symm_relative_error": 0
         },
         {
          "BiGG_ID": "GAPD",
          "author": "Yao",
          "flux": 11.76,
          "normalized_flux": 176.311844077961,
          "relative_error": 0,
          "sample_id": "0.6",
          "symm_relative_error": 0
         },
         {
          "BiGG_ID": "GAPD",
          "author": "Yao",
          "flux": 14.21,
          "normalized_flux": 176.52173913043478,
          "relative_error": 0,
          "sample_id": "0.7",
          "symm_relative_error": 0
         },
         {
          "BiGG_ID": "GLCptspp",
          "author": "Yao",
          "flux": 3.07,
          "normalized_flux": 100,
          "relative_error": 0,
          "sample_id": "0.2",
          "symm_relative_error": 0
         },
         {
          "BiGG_ID": "GLCptspp",
          "author": "Yao",
          "flux": 4.75,
          "normalized_flux": 100,
          "relative_error": 0,
          "sample_id": "0.4",
          "symm_relative_error": 0
         },
         {
          "BiGG_ID": "GLCptspp",
          "author": "Yao",
          "flux": 6.67,
          "normalized_flux": 100,
          "relative_error": 0,
          "sample_id": "0.6",
          "symm_relative_error": 0
         },
         {
          "BiGG_ID": "GLCptspp",
          "author": "Yao",
          "flux": 8.05,
          "normalized_flux": 100,
          "relative_error": 0,
          "sample_id": "0.7",
          "symm_relative_error": 0
         },
         {
          "BiGG_ID": "GND",
          "author": "Yao",
          "flux": 0.31,
          "normalized_flux": 10.097719869706841,
          "relative_error": 0,
          "sample_id": "0.2",
          "symm_relative_error": 0
         },
         {
          "BiGG_ID": "GND",
          "author": "Yao",
          "flux": 0.82,
          "normalized_flux": 17.263157894736842,
          "relative_error": 0,
          "sample_id": "0.4",
          "symm_relative_error": 0
         },
         {
          "BiGG_ID": "GND",
          "author": "Yao",
          "flux": 0.88,
          "normalized_flux": 13.193403298350825,
          "relative_error": 0,
          "sample_id": "0.6",
          "symm_relative_error": 0
         },
         {
          "BiGG_ID": "GND",
          "author": "Yao",
          "flux": 1.06,
          "normalized_flux": 13.167701863354036,
          "relative_error": 0,
          "sample_id": "0.7",
          "symm_relative_error": 0
         },
         {
          "BiGG_ID": "ICDHyr",
          "author": "Yao",
          "flux": 2.64,
          "normalized_flux": 85.99348534201955,
          "relative_error": 0,
          "sample_id": "0.2",
          "symm_relative_error": 0
         },
         {
          "BiGG_ID": "ICDHyr",
          "author": "Yao",
          "flux": 3.21,
          "normalized_flux": 67.57894736842105,
          "relative_error": 0,
          "sample_id": "0.4",
          "symm_relative_error": 0
         },
         {
          "BiGG_ID": "ICDHyr",
          "author": "Yao",
          "flux": 3.35,
          "normalized_flux": 50.22488755622189,
          "relative_error": 0,
          "sample_id": "0.6",
          "symm_relative_error": 0
         },
         {
          "BiGG_ID": "ICDHyr",
          "author": "Yao",
          "flux": 3.88,
          "normalized_flux": 48.198757763975145,
          "relative_error": 0,
          "sample_id": "0.7",
          "symm_relative_error": 0
         },
         {
          "BiGG_ID": "ICL",
          "author": "Yao",
          "flux": 0.37,
          "normalized_flux": 12.052117263843648,
          "relative_error": 0,
          "sample_id": "0.2",
          "symm_relative_error": 0
         },
         {
          "BiGG_ID": "ICL",
          "author": "Yao",
          "flux": 0,
          "normalized_flux": 0,
          "relative_error": 0,
          "sample_id": "0.4",
          "symm_relative_error": null
         },
         {
          "BiGG_ID": "ICL",
          "author": "Yao",
          "flux": 0,
          "normalized_flux": 0,
          "relative_error": 0,
          "sample_id": "0.6",
          "symm_relative_error": null
         },
         {
          "BiGG_ID": "ICL",
          "author": "Yao",
          "flux": 0,
          "normalized_flux": 0,
          "relative_error": 0,
          "sample_id": "0.7",
          "symm_relative_error": null
         },
         {
          "BiGG_ID": "MDH",
          "author": "Yao",
          "flux": 3.06,
          "normalized_flux": 99.6742671009772,
          "relative_error": 0,
          "sample_id": "0.2",
          "symm_relative_error": 0
         },
         {
          "BiGG_ID": "MDH",
          "author": "Yao",
          "flux": 2.57,
          "normalized_flux": 54.10526315789473,
          "relative_error": 0,
          "sample_id": "0.4",
          "symm_relative_error": 0
         },
         {
          "BiGG_ID": "MDH",
          "author": "Yao",
          "flux": 2.23,
          "normalized_flux": 33.43328335832084,
          "relative_error": 0,
          "sample_id": "0.6",
          "symm_relative_error": 0
         },
         {
          "BiGG_ID": "MDH",
          "author": "Yao",
          "flux": 2.56,
          "normalized_flux": 31.80124223602484,
          "relative_error": 0,
          "sample_id": "0.7",
          "symm_relative_error": 0
         },
         {
          "BiGG_ID": "PDH",
          "author": "Yao",
          "flux": 3.88,
          "normalized_flux": 126.38436482084691,
          "relative_error": 0,
          "sample_id": "0.2",
          "symm_relative_error": 0
         },
         {
          "BiGG_ID": "PDH",
          "author": "Yao",
          "flux": 4.2,
          "normalized_flux": 88.42105263157896,
          "relative_error": 0,
          "sample_id": "0.4",
          "symm_relative_error": 0
         },
         {
          "BiGG_ID": "PDH",
          "author": "Yao",
          "flux": 5.68,
          "normalized_flux": 85.15742128935531,
          "relative_error": 0,
          "sample_id": "0.6",
          "symm_relative_error": 0
         },
         {
          "BiGG_ID": "PDH",
          "author": "Yao",
          "flux": 7,
          "normalized_flux": 86.95652173913044,
          "relative_error": 0,
          "sample_id": "0.7",
          "symm_relative_error": 0
         },
         {
          "BiGG_ID": "PFK",
          "author": "Yao",
          "flux": 2.81,
          "normalized_flux": 91.53094462540717,
          "relative_error": 0,
          "sample_id": "0.2",
          "symm_relative_error": 0
         },
         {
          "BiGG_ID": "PFK",
          "author": "Yao",
          "flux": 4.16,
          "normalized_flux": 87.57894736842105,
          "relative_error": 0,
          "sample_id": "0.4",
          "symm_relative_error": 0
         },
         {
          "BiGG_ID": "PFK",
          "author": "Yao",
          "flux": 5.91,
          "normalized_flux": 88.6056971514243,
          "relative_error": 0,
          "sample_id": "0.6",
          "symm_relative_error": 0
         },
         {
          "BiGG_ID": "PFK",
          "author": "Yao",
          "flux": 7.14,
          "normalized_flux": 88.69565217391303,
          "relative_error": 0,
          "sample_id": "0.7",
          "symm_relative_error": 0
         },
         {
          "BiGG_ID": "PGI",
          "author": "Yao",
          "flux": 2.73,
          "normalized_flux": 88.92508143322476,
          "relative_error": 0,
          "sample_id": "0.2",
          "symm_relative_error": 0
         },
         {
          "BiGG_ID": "PGI",
          "author": "Yao",
          "flux": 3.86,
          "normalized_flux": 81.26315789473684,
          "relative_error": 0,
          "sample_id": "0.4",
          "symm_relative_error": 0
         },
         {
          "BiGG_ID": "PGI",
          "author": "Yao",
          "flux": 5.69,
          "normalized_flux": 85.30734632683658,
          "relative_error": 0,
          "sample_id": "0.6",
          "symm_relative_error": 0
         },
         {
          "BiGG_ID": "PGI",
          "author": "Yao",
          "flux": 6.9,
          "normalized_flux": 85.71428571428571,
          "relative_error": 0,
          "sample_id": "0.7",
          "symm_relative_error": 0
         },
         {
          "BiGG_ID": "PGK",
          "author": "Yao",
          "flux": 5.6,
          "normalized_flux": 182.41042345276873,
          "relative_error": 0,
          "sample_id": "0.2",
          "symm_relative_error": 0
         },
         {
          "BiGG_ID": "PGK",
          "author": "Yao",
          "flux": 8.35,
          "normalized_flux": 175.78947368421052,
          "relative_error": 0,
          "sample_id": "0.4",
          "symm_relative_error": 0
         },
         {
          "BiGG_ID": "PGK",
          "author": "Yao",
          "flux": 11.76,
          "normalized_flux": 176.311844077961,
          "relative_error": 0,
          "sample_id": "0.6",
          "symm_relative_error": 0
         },
         {
          "BiGG_ID": "PGK",
          "author": "Yao",
          "flux": 14.21,
          "normalized_flux": 176.52173913043478,
          "relative_error": 0,
          "sample_id": "0.7",
          "symm_relative_error": 0
         },
         {
          "BiGG_ID": "PGM",
          "author": "Yao",
          "flux": 5.09,
          "normalized_flux": 165.79804560260587,
          "relative_error": 0,
          "sample_id": "0.2",
          "symm_relative_error": 0
         },
         {
          "BiGG_ID": "PGM",
          "author": "Yao",
          "flux": 7.34,
          "normalized_flux": 154.5263157894737,
          "relative_error": 0,
          "sample_id": "0.4",
          "symm_relative_error": 0
         },
         {
          "BiGG_ID": "PGM",
          "author": "Yao",
          "flux": 10.27,
          "normalized_flux": 153.97301349325338,
          "relative_error": 0,
          "sample_id": "0.6",
          "symm_relative_error": 0
         },
         {
          "BiGG_ID": "PGM",
          "author": "Yao",
          "flux": 12.44,
          "normalized_flux": 154.53416149068323,
          "relative_error": 0,
          "sample_id": "0.7",
          "symm_relative_error": 0
         },
         {
          "BiGG_ID": "PPC",
          "author": "Yao",
          "flux": 0.31,
          "normalized_flux": 10.097719869706841,
          "relative_error": 0,
          "sample_id": "0.2",
          "symm_relative_error": 0
         },
         {
          "BiGG_ID": "PPC",
          "author": "Yao",
          "flux": 1.35,
          "normalized_flux": 28.421052631578945,
          "relative_error": 0,
          "sample_id": "0.4",
          "symm_relative_error": 0
         },
         {
          "BiGG_ID": "PPC",
          "author": "Yao",
          "flux": 2.17,
          "normalized_flux": 32.53373313343329,
          "relative_error": 0,
          "sample_id": "0.6",
          "symm_relative_error": 0
         },
         {
          "BiGG_ID": "PPC",
          "author": "Yao",
          "flux": 2.57,
          "normalized_flux": 31.92546583850931,
          "relative_error": 0,
          "sample_id": "0.7",
          "symm_relative_error": 0
         },
         {
          "BiGG_ID": "PTAr",
          "author": "Yao",
          "flux": 0,
          "normalized_flux": 0,
          "relative_error": 0,
          "sample_id": "0.2",
          "symm_relative_error": null
         },
         {
          "BiGG_ID": "PTAr",
          "author": "Yao",
          "flux": 0.01,
          "normalized_flux": 0.21052631578947367,
          "relative_error": 0,
          "sample_id": "0.4",
          "symm_relative_error": 0
         },
         {
          "BiGG_ID": "PTAr",
          "author": "Yao",
          "flux": 0.88,
          "normalized_flux": 13.193403298350825,
          "relative_error": 0,
          "sample_id": "0.6",
          "symm_relative_error": 0
         },
         {
          "BiGG_ID": "PTAr",
          "author": "Yao",
          "flux": 1.33,
          "normalized_flux": 16.52173913043478,
          "relative_error": 0,
          "sample_id": "0.7",
          "symm_relative_error": 0
         },
         {
          "BiGG_ID": "PYK",
          "author": "Yao",
          "flux": 4.59,
          "normalized_flux": 149.5114006514658,
          "relative_error": 0,
          "sample_id": "0.2",
          "symm_relative_error": 0
         },
         {
          "BiGG_ID": "PYK",
          "author": "Yao",
          "flux": 5.61,
          "normalized_flux": 118.10526315789474,
          "relative_error": 0,
          "sample_id": "0.4",
          "symm_relative_error": 0
         },
         {
          "BiGG_ID": "PYK",
          "author": "Yao",
          "flux": 7.56,
          "normalized_flux": 113.34332833583207,
          "relative_error": 0,
          "sample_id": "0.6",
          "symm_relative_error": 0
         },
         {
          "BiGG_ID": "PYK",
          "author": "Yao",
          "flux": 9.21,
          "normalized_flux": 114.40993788819875,
          "relative_error": 0,
          "sample_id": "0.7",
          "symm_relative_error": 0
         },
         {
          "BiGG_ID": "RPE",
          "author": "Yao",
          "flux": 0.09,
          "normalized_flux": 2.9315960912052117,
          "relative_error": 0,
          "sample_id": "0.2",
          "symm_relative_error": 0
         },
         {
          "BiGG_ID": "RPE",
          "author": "Yao",
          "flux": 0.33,
          "normalized_flux": 6.947368421052631,
          "relative_error": 0,
          "sample_id": "0.4",
          "symm_relative_error": 0
         },
         {
          "BiGG_ID": "RPE",
          "author": "Yao",
          "flux": 0.26,
          "normalized_flux": 3.8980509745127434,
          "relative_error": 0,
          "sample_id": "0.6",
          "symm_relative_error": 0
         },
         {
          "BiGG_ID": "RPE",
          "author": "Yao",
          "flux": 0.3,
          "normalized_flux": 3.726708074534161,
          "relative_error": 0,
          "sample_id": "0.7",
          "symm_relative_error": 0
         },
         {
          "BiGG_ID": "RPI",
          "author": "Yao",
          "flux": 0.22,
          "normalized_flux": 7.166123778501629,
          "relative_error": 0,
          "sample_id": "0.2",
          "symm_relative_error": 0
         },
         {
          "BiGG_ID": "RPI",
          "author": "Yao",
          "flux": 0.5,
          "normalized_flux": 10.526315789473683,
          "relative_error": 0,
          "sample_id": "0.4",
          "symm_relative_error": 0
         },
         {
          "BiGG_ID": "RPI",
          "author": "Yao",
          "flux": 0.62,
          "normalized_flux": 9.295352323838081,
          "relative_error": 0,
          "sample_id": "0.6",
          "symm_relative_error": 0
         },
         {
          "BiGG_ID": "RPI",
          "author": "Yao",
          "flux": 0.73,
          "normalized_flux": 9.068322981366459,
          "relative_error": 0,
          "sample_id": "0.7",
          "symm_relative_error": 0
         },
         {
          "BiGG_ID": "SUCDi",
          "author": "Yao",
          "flux": 2.69,
          "normalized_flux": 87.62214983713356,
          "relative_error": 0,
          "sample_id": "0.2",
          "symm_relative_error": 0
         },
         {
          "BiGG_ID": "SUCDi",
          "author": "Yao",
          "flux": 2.58,
          "normalized_flux": 54.31578947368422,
          "relative_error": 0,
          "sample_id": "0.4",
          "symm_relative_error": 0
         },
         {
          "BiGG_ID": "SUCDi",
          "author": "Yao",
          "flux": 2.43,
          "normalized_flux": 36.43178410794603,
          "relative_error": 0,
          "sample_id": "0.6",
          "symm_relative_error": 0
         },
         {
          "BiGG_ID": "SUCDi",
          "author": "Yao",
          "flux": 2.79,
          "normalized_flux": 34.658385093167695,
          "relative_error": 0,
          "sample_id": "0.7",
          "symm_relative_error": 0
         },
         {
          "BiGG_ID": "TALA",
          "author": "Yao",
          "flux": 0.09,
          "normalized_flux": 2.9315960912052117,
          "relative_error": 0,
          "sample_id": "0.2",
          "symm_relative_error": 0
         },
         {
          "BiGG_ID": "TALA",
          "author": "Yao",
          "flux": 0.25,
          "normalized_flux": 5.263157894736842,
          "relative_error": 0,
          "sample_id": "0.4",
          "symm_relative_error": 0
         },
         {
          "BiGG_ID": "TALA",
          "author": "Yao",
          "flux": 0.26,
          "normalized_flux": 3.8980509745127434,
          "relative_error": 0,
          "sample_id": "0.6",
          "symm_relative_error": 0
         },
         {
          "BiGG_ID": "TALA",
          "author": "Yao",
          "flux": 0.3,
          "normalized_flux": 3.726708074534161,
          "relative_error": 0,
          "sample_id": "0.7",
          "symm_relative_error": 0
         },
         {
          "BiGG_ID": "TKT1",
          "author": "Yao",
          "flux": 0.09,
          "normalized_flux": 2.9315960912052117,
          "relative_error": 0,
          "sample_id": "0.2",
          "symm_relative_error": 0
         },
         {
          "BiGG_ID": "TKT1",
          "author": "Yao",
          "flux": 0.25,
          "normalized_flux": 5.263157894736842,
          "relative_error": 0,
          "sample_id": "0.4",
          "symm_relative_error": 0
         },
         {
          "BiGG_ID": "TKT1",
          "author": "Yao",
          "flux": 0.26,
          "normalized_flux": 3.8980509745127434,
          "relative_error": 0,
          "sample_id": "0.6",
          "symm_relative_error": 0
         },
         {
          "BiGG_ID": "TKT1",
          "author": "Yao",
          "flux": 0.3,
          "normalized_flux": 3.726708074534161,
          "relative_error": 0,
          "sample_id": "0.7",
          "symm_relative_error": 0
         }
        ]
       },
       "encoding": {
        "color": {
         "condition": {
          "test": "datum.relative_error === null",
          "value": "lightgrey"
         },
         "field": "relative_error",
         "scale": {
          "domain": [
           0,
           25,
           50,
           75,
           100,
           200,
           300
          ],
          "scheme": "greenblue",
          "type": "threshold"
         },
         "title": "relative error (clipped at 300)",
         "type": "quantitative"
        },
        "tooltip": [
         {
          "field": "sample_id",
          "type": "nominal"
         },
         {
          "field": "BiGG_ID",
          "type": "nominal"
         },
         {
          "field": "relative_error",
          "type": "quantitative"
         },
         {
          "field": "normalized_flux",
          "type": "quantitative"
         }
        ],
        "x": {
         "field": "sample_id",
         "type": "nominal"
        },
        "y": {
         "field": "BiGG_ID",
         "type": "nominal"
        }
       },
       "mark": "rect",
       "title": "Heatmap for author Yao"
      },
      "image/png": "[encoded data removed]",
      "text/plain": [
       "<VegaLite 3 object>\n",
       "\n",
       "If you see this message, it means the renderer has not been properly enabled\n",
       "for the frontend that you are using. For more information, see\n",
       "https://altair-viz.github.io/user_guide/troubleshooting.html\n"
      ]
     },
     "execution_count": 15,
     "metadata": {},
     "output_type": "execute_result"
    }
   ],
   "source": [
    "heatmap(x_rel_error, author = \"Yao\")"
   ]
  },
  {
   "cell_type": "code",
   "execution_count": null,
   "metadata": {},
   "outputs": [],
   "source": []
  }
 ],
 "metadata": {
  "kernelspec": {
   "display_name": "dataml-conda",
   "language": "python",
   "name": "dataml-conda"
  },
  "language_info": {
   "codemirror_mode": {
    "name": "ipython",
    "version": 3
   },
   "file_extension": ".py",
   "mimetype": "text/x-python",
   "name": "python",
   "nbconvert_exporter": "python",
   "pygments_lexer": "ipython3",
   "version": "3.6.10"
  }
 },
 "nbformat": 4,
 "nbformat_minor": 4
}
