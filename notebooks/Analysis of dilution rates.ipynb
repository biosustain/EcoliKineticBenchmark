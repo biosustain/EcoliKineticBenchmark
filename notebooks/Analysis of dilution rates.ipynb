{
 "cells": [
  {
   "cell_type": "code",
   "execution_count": 1,
   "metadata": {},
   "outputs": [],
   "source": [
    "import numpy as np\n",
    "import pandas as pd\n",
    "import scipy\n",
    "import scipy.io as sio\n",
    "\n",
    "from pathlib import Path\n",
    "\n",
    "import altair as alt\n",
    "from altair.expr import datum\n",
    "\n",
    "import ipywidgets as widgets\n",
    "from ipywidgets import interact, interact_manual"
   ]
  },
  {
   "cell_type": "code",
   "execution_count": 2,
   "metadata": {},
   "outputs": [],
   "source": [
    "%load_ext watermark"
   ]
  },
  {
   "cell_type": "code",
   "execution_count": 3,
   "metadata": {},
   "outputs": [
    {
     "name": "stdout",
     "output_type": "stream",
     "text": [
      "scipy     1.1.0\n",
      "altair    2.1.0\n",
      "pandas    0.23.4\n",
      "numpy     1.15.4\n",
      "ipywidgets7.2.1\n",
      "\n"
     ]
    }
   ],
   "source": [
    "%watermark --iversions"
   ]
  },
  {
   "cell_type": "markdown",
   "metadata": {},
   "source": [
    "## Set paths "
   ]
  },
  {
   "cell_type": "code",
   "execution_count": 4,
   "metadata": {},
   "outputs": [],
   "source": [
    "data_path = Path('../data')\n",
    "path_to_results = data_path / \"simulation_results\"\n",
    "khodayari_path = path_to_results / \"Khodayari\"\n",
    "millard_path = path_to_results / \"Millard\"\n",
    "kurata_path = path_to_results / \"Kurata\"\n",
    "chassagnole_path = path_to_results / \"Chassagnole\""
   ]
  },
  {
   "cell_type": "code",
   "execution_count": 5,
   "metadata": {},
   "outputs": [],
   "source": [
    "# Load ID dataframes\n",
    "khod_idf = pd.read_csv(data_path / \"khodayari_id.csv\")\n",
    "millard_idf = pd.read_csv(data_path / \"millard_id.csv\")\n",
    "kurata_idf = pd.read_csv(data_path / \"kurata_id.csv\")\n",
    "chassagnole_idf = pd.read_csv(data_path / \"chassagnole_id.csv\")"
   ]
  },
  {
   "cell_type": "code",
   "execution_count": 6,
   "metadata": {},
   "outputs": [],
   "source": [
    "from utils import (\n",
    "    get_kurata_dilutions,\n",
    "    get_khodayari_dilutions,\n",
    "    get_millard_dilutions,\n",
    "    load_khodayari,\n",
    "    load_kurata,\n",
    "    load_millard,\n",
    "    loadmat\n",
    ")"
   ]
  },
  {
   "cell_type": "code",
   "execution_count": 7,
   "metadata": {},
   "outputs": [],
   "source": [
    "# useful metrics to compare data\n",
    "from utils import relative_error, normalized_error"
   ]
  },
  {
   "cell_type": "markdown",
   "metadata": {},
   "source": [
    "# 1. Load the simulation data"
   ]
  },
  {
   "cell_type": "code",
   "execution_count": 8,
   "metadata": {},
   "outputs": [
    {
     "name": "stdout",
     "output_type": "stream",
     "text": [
      "Loaded data file for sample 0.2 which has flux matrix of (786, 98)\n",
      "Loaded data file for sample 0.4 which has flux matrix of (786, 98)\n",
      "Loaded data file for sample 0.6 which has flux matrix of (786, 98)\n",
      "Loaded data file for sample 0.7 which has flux matrix of (786, 98)\n"
     ]
    }
   ],
   "source": [
    "khodayari_dil = load_khodayari(\n",
    "    sample_names=\"all\",\n",
    "    load_path=khodayari_path / \"dilutions\",\n",
    "    id_df=khod_idf,\n",
    "    files=get_khodayari_dilutions(),\n",
    ")"
   ]
  },
  {
   "cell_type": "code",
   "execution_count": 9,
   "metadata": {},
   "outputs": [
    {
     "name": "stdout",
     "output_type": "stream",
     "text": [
      "Loaded data file for sample 0.2 which has flux matrix of (2101, 155)\n",
      "Loaded data file for sample 0.4 which has flux matrix of (2101, 155)\n",
      "Loaded data file for sample 0.6 which has flux matrix of (2101, 155)\n",
      "Loaded data file for sample 0.7 which has flux matrix of (2101, 155)\n"
     ]
    }
   ],
   "source": [
    "kurata_dil = load_kurata(\n",
    "    sample_names=\"all\",\n",
    "    load_path=kurata_path / \"dilutions\",\n",
    "    id_df=kurata_idf,\n",
    "    files=get_kurata_dilutions(),\n",
    ")"
   ]
  },
  {
   "cell_type": "code",
   "execution_count": 10,
   "metadata": {},
   "outputs": [
    {
     "name": "stdout",
     "output_type": "stream",
     "text": [
      "Loaded data file for sample 0.2 which has flux matrix of (68,)\n",
      "Loaded data file for sample 0.4 which has flux matrix of (68,)\n",
      "Loaded data file for sample 0.6 which has flux matrix of (68,)\n",
      "Loaded data file for sample 0.7 which has flux matrix of (68,)\n"
     ]
    }
   ],
   "source": [
    "millard_dil = load_millard(\n",
    "    sample_names=\"all\",\n",
    "    load_path=millard_path / \"dilutions\",\n",
    "    id_df=millard_idf,\n",
    "    files=get_millard_dilutions(),\n",
    ")"
   ]
  },
  {
   "cell_type": "markdown",
   "metadata": {},
   "source": [
    "# 2. Load experimental data and mix it with simulation data"
   ]
  },
  {
   "cell_type": "code",
   "execution_count": 11,
   "metadata": {},
   "outputs": [],
   "source": [
    "yao_df = pd.read_csv(data_path / \"datasets\" / \"yao2011_tidy.csv\")\n",
    "consumption_rates = yao_df.query('Measurement_Type == \"consumption_rate\"')\n",
    "yao_fluxes = yao_df.query('Measurement_Type == \"flux\"')"
   ]
  },
  {
   "cell_type": "code",
   "execution_count": 12,
   "metadata": {},
   "outputs": [],
   "source": [
    "# Ad-hoc function to divide every flux to corresponding consumption rate\n",
    "def normalize_to_uptake(group):\n",
    "    consumption_rate = consumption_rates.loc[consumption_rates.Dilution == group.name, 'Value'].values[0]\n",
    "    print(f'Consumption rate for D {group.name} is {consumption_rate}')\n",
    "    group = group.assign(normalized_flux = lambda x: x.Value / consumption_rate * 100)\n",
    "    return(group)"
   ]
  },
  {
   "cell_type": "code",
   "execution_count": 13,
   "metadata": {},
   "outputs": [
    {
     "name": "stdout",
     "output_type": "stream",
     "text": [
      "Consumption rate for D 0.2 is 3.07\n",
      "Consumption rate for D 0.2 is 3.07\n",
      "Consumption rate for D 0.4 is 4.75\n",
      "Consumption rate for D 0.6 is 6.67\n",
      "Consumption rate for D 0.7 is 8.05\n"
     ]
    }
   ],
   "source": [
    "yao_normalized = yao_fluxes.groupby('Dilution').apply(normalize_to_uptake).reset_index(drop = True)"
   ]
  },
  {
   "cell_type": "code",
   "execution_count": 14,
   "metadata": {},
   "outputs": [],
   "source": [
    "df = yao_normalized\n",
    "\n",
    "df = df.assign(author=\"Yao\")\n",
    "df = df.rename(\n",
    "    {\n",
    "        \"Measurement_ID\": \"BiGG_ID\",        \n",
    "        \"Value\": \"flux\",\n",
    "        \"Original_ID\": \"ID\",\n",
    "        \"Dilution\": \"sample_id\",\n",
    "    },\n",
    "    axis=1,\n",
    ")\n",
    "df = df[df[\"Measurement_Type\"] == \"flux\"]\n",
    "\n",
    "df = df[[\"flux\", \"ID\", \"BiGG_ID\", \"author\", \"sample_id\", \"normalized_flux\"]]\n",
    "df.sample_id = df.sample_id.apply(str)\n",
    "exp_results = df"
   ]
  },
  {
   "cell_type": "code",
   "execution_count": 15,
   "metadata": {},
   "outputs": [
    {
     "data": {
      "text/html": [
       "<div>\n",
       "<style scoped>\n",
       "    .dataframe tbody tr th:only-of-type {\n",
       "        vertical-align: middle;\n",
       "    }\n",
       "\n",
       "    .dataframe tbody tr th {\n",
       "        vertical-align: top;\n",
       "    }\n",
       "\n",
       "    .dataframe thead th {\n",
       "        text-align: right;\n",
       "    }\n",
       "</style>\n",
       "<table border=\"1\" class=\"dataframe\">\n",
       "  <thead>\n",
       "    <tr style=\"text-align: right;\">\n",
       "      <th></th>\n",
       "      <th>flux</th>\n",
       "      <th>ID</th>\n",
       "      <th>BiGG_ID</th>\n",
       "      <th>author</th>\n",
       "      <th>sample_id</th>\n",
       "      <th>normalized_flux</th>\n",
       "    </tr>\n",
       "  </thead>\n",
       "  <tbody>\n",
       "    <tr>\n",
       "      <th>0</th>\n",
       "      <td>3.07</td>\n",
       "      <td>GLCptspp</td>\n",
       "      <td>GLCptspp</td>\n",
       "      <td>Yao</td>\n",
       "      <td>0.2</td>\n",
       "      <td>100.000000</td>\n",
       "    </tr>\n",
       "    <tr>\n",
       "      <th>1</th>\n",
       "      <td>2.73</td>\n",
       "      <td>PGI</td>\n",
       "      <td>PGI</td>\n",
       "      <td>Yao</td>\n",
       "      <td>0.2</td>\n",
       "      <td>88.925081</td>\n",
       "    </tr>\n",
       "    <tr>\n",
       "      <th>2</th>\n",
       "      <td>2.81</td>\n",
       "      <td>PFK+FBA</td>\n",
       "      <td>PFK</td>\n",
       "      <td>Yao</td>\n",
       "      <td>0.2</td>\n",
       "      <td>91.530945</td>\n",
       "    </tr>\n",
       "    <tr>\n",
       "      <th>3</th>\n",
       "      <td>2.81</td>\n",
       "      <td>PFK+FBA</td>\n",
       "      <td>FBA</td>\n",
       "      <td>Yao</td>\n",
       "      <td>0.2</td>\n",
       "      <td>91.530945</td>\n",
       "    </tr>\n",
       "    <tr>\n",
       "      <th>4</th>\n",
       "      <td>5.60</td>\n",
       "      <td>GAPD+PGK</td>\n",
       "      <td>GAPD</td>\n",
       "      <td>Yao</td>\n",
       "      <td>0.2</td>\n",
       "      <td>182.410423</td>\n",
       "    </tr>\n",
       "  </tbody>\n",
       "</table>\n",
       "</div>"
      ],
      "text/plain": [
       "   flux        ID   BiGG_ID author sample_id  normalized_flux\n",
       "0  3.07  GLCptspp  GLCptspp    Yao       0.2       100.000000\n",
       "1  2.73       PGI       PGI    Yao       0.2        88.925081\n",
       "2  2.81   PFK+FBA       PFK    Yao       0.2        91.530945\n",
       "3  2.81   PFK+FBA       FBA    Yao       0.2        91.530945\n",
       "4  5.60  GAPD+PGK      GAPD    Yao       0.2       182.410423"
      ]
     },
     "execution_count": 15,
     "metadata": {},
     "output_type": "execute_result"
    }
   ],
   "source": [
    "exp_results.head()"
   ]
  },
  {
   "cell_type": "code",
   "execution_count": 16,
   "metadata": {},
   "outputs": [],
   "source": [
    "all_results = pd.concat([khodayari_dil, kurata_dil, millard_dil, exp_results], sort=False)"
   ]
  },
  {
   "cell_type": "code",
   "execution_count": 17,
   "metadata": {},
   "outputs": [
    {
     "data": {
      "text/html": [
       "<div>\n",
       "<style scoped>\n",
       "    .dataframe tbody tr th:only-of-type {\n",
       "        vertical-align: middle;\n",
       "    }\n",
       "\n",
       "    .dataframe tbody tr th {\n",
       "        vertical-align: top;\n",
       "    }\n",
       "\n",
       "    .dataframe thead th {\n",
       "        text-align: right;\n",
       "    }\n",
       "</style>\n",
       "<table border=\"1\" class=\"dataframe\">\n",
       "  <thead>\n",
       "    <tr style=\"text-align: right;\">\n",
       "      <th></th>\n",
       "      <th>flux</th>\n",
       "      <th>ID</th>\n",
       "      <th>BiGG_ID</th>\n",
       "      <th>author</th>\n",
       "      <th>sample_id</th>\n",
       "      <th>normalized_flux</th>\n",
       "    </tr>\n",
       "  </thead>\n",
       "  <tbody>\n",
       "    <tr>\n",
       "      <th>0</th>\n",
       "      <td>-0.054344</td>\n",
       "      <td>ACALD</td>\n",
       "      <td>ACALD</td>\n",
       "      <td>Khodayari</td>\n",
       "      <td>0.2</td>\n",
       "      <td>-0.049474</td>\n",
       "    </tr>\n",
       "    <tr>\n",
       "      <th>1</th>\n",
       "      <td>-0.004107</td>\n",
       "      <td>ACALDtpp_ex</td>\n",
       "      <td>composed of ACALDtex and ACALDtpp</td>\n",
       "      <td>Khodayari</td>\n",
       "      <td>0.2</td>\n",
       "      <td>-0.003739</td>\n",
       "    </tr>\n",
       "    <tr>\n",
       "      <th>2</th>\n",
       "      <td>0.088129</td>\n",
       "      <td>ACKr</td>\n",
       "      <td>ACKr</td>\n",
       "      <td>Khodayari</td>\n",
       "      <td>0.2</td>\n",
       "      <td>0.080232</td>\n",
       "    </tr>\n",
       "    <tr>\n",
       "      <th>3</th>\n",
       "      <td>96.831733</td>\n",
       "      <td>ACONTa</td>\n",
       "      <td>ACONTa</td>\n",
       "      <td>Khodayari</td>\n",
       "      <td>0.2</td>\n",
       "      <td>88.154691</td>\n",
       "    </tr>\n",
       "    <tr>\n",
       "      <th>4</th>\n",
       "      <td>96.797201</td>\n",
       "      <td>ACONTb</td>\n",
       "      <td>ACONTb</td>\n",
       "      <td>Khodayari</td>\n",
       "      <td>0.2</td>\n",
       "      <td>88.123254</td>\n",
       "    </tr>\n",
       "  </tbody>\n",
       "</table>\n",
       "</div>"
      ],
      "text/plain": [
       "        flux           ID                            BiGG_ID     author  \\\n",
       "0  -0.054344        ACALD                              ACALD  Khodayari   \n",
       "1  -0.004107  ACALDtpp_ex  composed of ACALDtex and ACALDtpp  Khodayari   \n",
       "2   0.088129         ACKr                               ACKr  Khodayari   \n",
       "3  96.831733       ACONTa                             ACONTa  Khodayari   \n",
       "4  96.797201       ACONTb                             ACONTb  Khodayari   \n",
       "\n",
       "  sample_id  normalized_flux  \n",
       "0       0.2        -0.049474  \n",
       "1       0.2        -0.003739  \n",
       "2       0.2         0.080232  \n",
       "3       0.2        88.154691  \n",
       "4       0.2        88.123254  "
      ]
     },
     "execution_count": 17,
     "metadata": {},
     "output_type": "execute_result"
    }
   ],
   "source": [
    "all_results.head()"
   ]
  },
  {
   "cell_type": "markdown",
   "metadata": {},
   "source": [
    "# 3. Subselect specific data and calculate error metrics"
   ]
  },
  {
   "cell_type": "code",
   "execution_count": 18,
   "metadata": {},
   "outputs": [],
   "source": [
    "common_fluxes = set(exp_results[\"BiGG_ID\"].unique()).intersection(\n",
    "    set(kurata_idf[\"BiGG ID\"].unique()),\n",
    "    set(khod_idf[\"BiGG ID\"].unique()),\n",
    "    set(millard_idf[\"BiGG ID\"].unique()),\n",
    ")"
   ]
  },
  {
   "cell_type": "code",
   "execution_count": 19,
   "metadata": {},
   "outputs": [
    {
     "data": {
      "text/plain": [
       "{'ACKr',\n",
       " 'AKGDH',\n",
       " 'CS',\n",
       " 'ENO',\n",
       " 'FBA',\n",
       " 'FUM',\n",
       " 'G6PDH2r',\n",
       " 'GAPD',\n",
       " 'GLCptspp',\n",
       " 'GND',\n",
       " 'ICDHyr',\n",
       " 'ICL',\n",
       " 'MDH',\n",
       " 'PDH',\n",
       " 'PFK',\n",
       " 'PGI',\n",
       " 'PGK',\n",
       " 'PGM',\n",
       " 'PPC',\n",
       " 'PTAr',\n",
       " 'PYK',\n",
       " 'RPE',\n",
       " 'RPI',\n",
       " 'SUCDi',\n",
       " 'TALA',\n",
       " 'TKT1'}"
      ]
     },
     "execution_count": 19,
     "metadata": {},
     "output_type": "execute_result"
    }
   ],
   "source": [
    "common_fluxes = {x for x in common_fluxes if pd.notna(x)}\n",
    "common_fluxes"
   ]
  },
  {
   "cell_type": "code",
   "execution_count": 20,
   "metadata": {},
   "outputs": [],
   "source": [
    "selected_reactions = [x for x in common_fluxes if pd.notna(x)]\n",
    "\n",
    "selected_strains = [\"0.2\", \"0.4\", \"0.6\", \"0.7\"]\n",
    "selected_authors = [\"Kurata\", \"Yao\", \"Khodayari\", \"Millard\"]\n",
    "experimental_dataset = \"Yao\"\n",
    "\n",
    "\n",
    "selected_data = (\n",
    "    all_results.query(\n",
    "        \"\"\" BiGG_ID in @selected_reactions and sample_id in @selected_strains and author in @selected_authors \"\"\"\n",
    "    )\n",
    "    .groupby([\"BiGG_ID\", \"sample_id\", \"author\"])\n",
    "    .median()\n",
    "    .reset_index()\n",
    ")\n",
    "\n",
    "# Calculate relative error\n",
    "selected_data = (\n",
    "    selected_data.groupby([\"BiGG_ID\", \"sample_id\"])\n",
    "    .apply(relative_error, exp_name=experimental_dataset)\n",
    "    .reset_index()\n",
    "    .drop(\"level_2\", axis=1)\n",
    ")\n",
    "# Calculate summary errors\n",
    "normalized_errors = (\n",
    "    selected_data.groupby([\"sample_id\"])\n",
    "    .apply(normalized_error, exp_name=experimental_dataset)\n",
    "    .unstack()\n",
    "    .reset_index()\n",
    "    .rename({0: \"normalized_error\"}, axis=1)\n",
    ")"
   ]
  },
  {
   "cell_type": "code",
   "execution_count": 21,
   "metadata": {},
   "outputs": [
    {
     "data": {
      "text/html": [
       "<div>\n",
       "<style scoped>\n",
       "    .dataframe tbody tr th:only-of-type {\n",
       "        vertical-align: middle;\n",
       "    }\n",
       "\n",
       "    .dataframe tbody tr th {\n",
       "        vertical-align: top;\n",
       "    }\n",
       "\n",
       "    .dataframe thead th {\n",
       "        text-align: right;\n",
       "    }\n",
       "</style>\n",
       "<table border=\"1\" class=\"dataframe\">\n",
       "  <thead>\n",
       "    <tr style=\"text-align: right;\">\n",
       "      <th></th>\n",
       "      <th>author</th>\n",
       "      <th>sample_id</th>\n",
       "      <th>normalized_error</th>\n",
       "    </tr>\n",
       "  </thead>\n",
       "  <tbody>\n",
       "    <tr>\n",
       "      <th>0</th>\n",
       "      <td>Khodayari</td>\n",
       "      <td>0.2</td>\n",
       "      <td>0.982814</td>\n",
       "    </tr>\n",
       "    <tr>\n",
       "      <th>1</th>\n",
       "      <td>Khodayari</td>\n",
       "      <td>0.4</td>\n",
       "      <td>1.086665</td>\n",
       "    </tr>\n",
       "    <tr>\n",
       "      <th>2</th>\n",
       "      <td>Khodayari</td>\n",
       "      <td>0.6</td>\n",
       "      <td>1.136671</td>\n",
       "    </tr>\n",
       "    <tr>\n",
       "      <th>3</th>\n",
       "      <td>Khodayari</td>\n",
       "      <td>0.7</td>\n",
       "      <td>1.139319</td>\n",
       "    </tr>\n",
       "    <tr>\n",
       "      <th>4</th>\n",
       "      <td>Kurata</td>\n",
       "      <td>0.2</td>\n",
       "      <td>0.528641</td>\n",
       "    </tr>\n",
       "    <tr>\n",
       "      <th>5</th>\n",
       "      <td>Kurata</td>\n",
       "      <td>0.4</td>\n",
       "      <td>0.376609</td>\n",
       "    </tr>\n",
       "    <tr>\n",
       "      <th>6</th>\n",
       "      <td>Kurata</td>\n",
       "      <td>0.6</td>\n",
       "      <td>0.309008</td>\n",
       "    </tr>\n",
       "    <tr>\n",
       "      <th>7</th>\n",
       "      <td>Kurata</td>\n",
       "      <td>0.7</td>\n",
       "      <td>0.321692</td>\n",
       "    </tr>\n",
       "    <tr>\n",
       "      <th>8</th>\n",
       "      <td>Millard</td>\n",
       "      <td>0.2</td>\n",
       "      <td>0.249326</td>\n",
       "    </tr>\n",
       "    <tr>\n",
       "      <th>9</th>\n",
       "      <td>Millard</td>\n",
       "      <td>0.4</td>\n",
       "      <td>0.236576</td>\n",
       "    </tr>\n",
       "    <tr>\n",
       "      <th>10</th>\n",
       "      <td>Millard</td>\n",
       "      <td>0.6</td>\n",
       "      <td>0.248484</td>\n",
       "    </tr>\n",
       "    <tr>\n",
       "      <th>11</th>\n",
       "      <td>Millard</td>\n",
       "      <td>0.7</td>\n",
       "      <td>0.254638</td>\n",
       "    </tr>\n",
       "    <tr>\n",
       "      <th>12</th>\n",
       "      <td>Yao</td>\n",
       "      <td>0.2</td>\n",
       "      <td>0.000000</td>\n",
       "    </tr>\n",
       "    <tr>\n",
       "      <th>13</th>\n",
       "      <td>Yao</td>\n",
       "      <td>0.4</td>\n",
       "      <td>0.000000</td>\n",
       "    </tr>\n",
       "    <tr>\n",
       "      <th>14</th>\n",
       "      <td>Yao</td>\n",
       "      <td>0.6</td>\n",
       "      <td>0.000000</td>\n",
       "    </tr>\n",
       "    <tr>\n",
       "      <th>15</th>\n",
       "      <td>Yao</td>\n",
       "      <td>0.7</td>\n",
       "      <td>0.000000</td>\n",
       "    </tr>\n",
       "  </tbody>\n",
       "</table>\n",
       "</div>"
      ],
      "text/plain": [
       "       author sample_id  normalized_error\n",
       "0   Khodayari       0.2          0.982814\n",
       "1   Khodayari       0.4          1.086665\n",
       "2   Khodayari       0.6          1.136671\n",
       "3   Khodayari       0.7          1.139319\n",
       "4      Kurata       0.2          0.528641\n",
       "5      Kurata       0.4          0.376609\n",
       "6      Kurata       0.6          0.309008\n",
       "7      Kurata       0.7          0.321692\n",
       "8     Millard       0.2          0.249326\n",
       "9     Millard       0.4          0.236576\n",
       "10    Millard       0.6          0.248484\n",
       "11    Millard       0.7          0.254638\n",
       "12        Yao       0.2          0.000000\n",
       "13        Yao       0.4          0.000000\n",
       "14        Yao       0.6          0.000000\n",
       "15        Yao       0.7          0.000000"
      ]
     },
     "execution_count": 21,
     "metadata": {},
     "output_type": "execute_result"
    }
   ],
   "source": [
    "normalized_errors"
   ]
  },
  {
   "cell_type": "markdown",
   "metadata": {},
   "source": [
    "# 4. Visualize"
   ]
  },
  {
   "cell_type": "code",
   "execution_count": 22,
   "metadata": {},
   "outputs": [
    {
     "data": {
      "application/vnd.vegalite.v2+json": {
       "$schema": "https://vega.github.io/schema/vega-lite/v2.4.3.json",
       "config": {
        "axis": {
         "labelFontSize": 20,
         "titleFontSize": 24
        },
        "legend": {
         "labelFontSize": 16,
         "titleFontSize": 20
        },
        "view": {
         "height": 300,
         "width": 400
        }
       },
       "data": {
        "values": [
         {
          "BiGG_ID": "ACKr",
          "ID": "ACKr",
          "author": "Khodayari",
          "flux": 0.0881292029167527,
          "normalized_flux": 0.08023199061092347,
          "sample_id": "0.2"
         },
         {
          "BiGG_ID": "AKGDH",
          "ID": "AKGDH",
          "author": "Khodayari",
          "flux": 60.87813889715514,
          "normalized_flux": 55.4228803478553,
          "sample_id": "0.2"
         },
         {
          "BiGG_ID": "CS",
          "ID": "CS",
          "author": "Khodayari",
          "flux": 97.88618162147851,
          "normalized_flux": 89.11465149880189,
          "sample_id": "0.2"
         },
         {
          "BiGG_ID": "ENO",
          "ID": "ENO",
          "author": "Khodayari",
          "flux": 170.8926650535724,
          "normalized_flux": 155.57906169882693,
          "sample_id": "0.2"
         },
         {
          "BiGG_ID": "FBA",
          "ID": "FBA",
          "author": "Khodayari",
          "flux": 88.02848589104322,
          "normalized_flux": 80.14029878581168,
          "sample_id": "0.2"
         },
         {
          "BiGG_ID": "FUM",
          "ID": "FUM",
          "author": "Khodayari",
          "flux": 88.48903083195907,
          "normalized_flux": 80.55957453269858,
          "sample_id": "0.2"
         },
         {
          "BiGG_ID": "G6PDH2r",
          "ID": "G6PDH2r",
          "author": "Khodayari",
          "flux": 19.633288449774206,
          "normalized_flux": 17.87395962325672,
          "sample_id": "0.2"
         },
         {
          "BiGG_ID": "GAPD",
          "ID": "GAPD",
          "author": "Khodayari",
          "flux": 174.32315108812514,
          "normalized_flux": 158.70214365356932,
          "sample_id": "0.2"
         },
         {
          "BiGG_ID": "GLCptspp",
          "ID": "GLCptspp_ex_exi",
          "author": "Khodayari",
          "flux": 109.71493023457475,
          "normalized_flux": 99.88343206477822,
          "sample_id": "0.2"
         },
         {
          "BiGG_ID": "GND",
          "ID": "GND",
          "author": "Khodayari",
          "flux": 17.885043681947643,
          "normalized_flux": 16.28237416513846,
          "sample_id": "0.2"
         },
         {
          "BiGG_ID": "ICDHyr",
          "ID": "ICDHyr",
          "author": "Khodayari",
          "flux": 83.71312124554416,
          "normalized_flux": 76.21163173492,
          "sample_id": "0.2"
         },
         {
          "BiGG_ID": "ICL",
          "ID": "ICL",
          "author": "Khodayari",
          "flux": 13.32606435445831,
          "normalized_flux": 12.131922617947772,
          "sample_id": "0.2"
         },
         {
          "BiGG_ID": "MDH",
          "ID": "MDH",
          "author": "Khodayari",
          "flux": 96.65128973687752,
          "normalized_flux": 87.99041763747442,
          "sample_id": "0.2"
         },
         {
          "BiGG_ID": "PDH",
          "ID": "PDH",
          "author": "Khodayari",
          "flux": 127.82654868886297,
          "normalized_flux": 116.37207775405918,
          "sample_id": "0.2"
         },
         {
          "BiGG_ID": "PFK",
          "ID": "PFKA",
          "author": "Khodayari",
          "flux": 91.51698678230457,
          "normalized_flux": 83.31619691594982,
          "sample_id": "0.2"
         },
         {
          "BiGG_ID": "PGI",
          "ID": "PGI",
          "author": "Khodayari",
          "flux": 87.40332033667244,
          "normalized_flux": 79.57115399352382,
          "sample_id": "0.2"
         },
         {
          "BiGG_ID": "PGK",
          "ID": "PGK",
          "author": "Khodayari",
          "flux": -173.22451715801984,
          "normalized_flux": -157.7019577418879,
          "sample_id": "0.2"
         },
         {
          "BiGG_ID": "PGM",
          "ID": "PGM",
          "author": "Khodayari",
          "flux": -169.12964752070474,
          "normalized_flux": -153.9740272555046,
          "sample_id": "0.2"
         },
         {
          "BiGG_ID": "PPC",
          "ID": "PPC",
          "author": "Khodayari",
          "flux": 18.542580262883167,
          "normalized_flux": 16.88098923303815,
          "sample_id": "0.2"
         },
         {
          "BiGG_ID": "PTAr",
          "ID": "PTAr",
          "author": "Khodayari",
          "flux": -0.004204445536508644,
          "normalized_flux": -0.0038276873459067275,
          "sample_id": "0.2"
         },
         {
          "BiGG_ID": "PYK",
          "ID": "PYKF",
          "author": "Khodayari",
          "flux": 42.471361994377105,
          "normalized_flux": 38.665525206040904,
          "sample_id": "0.2"
         },
         {
          "BiGG_ID": "RPE",
          "ID": "RPE",
          "author": "Khodayari",
          "flux": 5.59440594861303,
          "normalized_flux": 5.093094124166779,
          "sample_id": "0.2"
         },
         {
          "BiGG_ID": "RPI",
          "ID": "RPI",
          "author": "Khodayari",
          "flux": -12.509201562763998,
          "normalized_flux": -11.388258478655162,
          "sample_id": "0.2"
         },
         {
          "BiGG_ID": "SUCDi",
          "ID": "SUCDi",
          "author": "Khodayari",
          "flux": 90.68415955533325,
          "normalized_flux": 82.55799890617088,
          "sample_id": "0.2"
         },
         {
          "BiGG_ID": "TALA",
          "ID": "TALA",
          "author": "Khodayari",
          "flux": 4.649987603897216,
          "normalized_flux": 4.233304619005837,
          "sample_id": "0.2"
         },
         {
          "BiGG_ID": "TKT1",
          "ID": "TKT1",
          "author": "Khodayari",
          "flux": 4.545781154932982,
          "normalized_flux": 4.138436056052946,
          "sample_id": "0.2"
         },
         {
          "BiGG_ID": "PYK",
          "ID": "PYKA",
          "author": "Khodayari",
          "flux": 21.469459424890076,
          "normalized_flux": 19.54559226669167,
          "sample_id": "0.2"
         },
         {
          "BiGG_ID": "ACKr",
          "ID": "ACKr",
          "author": "Khodayari",
          "flux": 0.0881292029167527,
          "normalized_flux": 0.08023199061092347,
          "sample_id": "0.4"
         },
         {
          "BiGG_ID": "AKGDH",
          "ID": "AKGDH",
          "author": "Khodayari",
          "flux": 60.87813889715514,
          "normalized_flux": 55.4228803478553,
          "sample_id": "0.4"
         },
         {
          "BiGG_ID": "CS",
          "ID": "CS",
          "author": "Khodayari",
          "flux": 97.88618162147851,
          "normalized_flux": 89.11465149880189,
          "sample_id": "0.4"
         },
         {
          "BiGG_ID": "ENO",
          "ID": "ENO",
          "author": "Khodayari",
          "flux": 170.8926650535724,
          "normalized_flux": 155.57906169882693,
          "sample_id": "0.4"
         },
         {
          "BiGG_ID": "FBA",
          "ID": "FBA",
          "author": "Khodayari",
          "flux": 88.02848589104322,
          "normalized_flux": 80.14029878581168,
          "sample_id": "0.4"
         },
         {
          "BiGG_ID": "FUM",
          "ID": "FUM",
          "author": "Khodayari",
          "flux": 88.48903083195907,
          "normalized_flux": 80.55957453269858,
          "sample_id": "0.4"
         },
         {
          "BiGG_ID": "G6PDH2r",
          "ID": "G6PDH2r",
          "author": "Khodayari",
          "flux": 19.633288449774206,
          "normalized_flux": 17.87395962325672,
          "sample_id": "0.4"
         },
         {
          "BiGG_ID": "GAPD",
          "ID": "GAPD",
          "author": "Khodayari",
          "flux": 174.32315108812514,
          "normalized_flux": 158.70214365356932,
          "sample_id": "0.4"
         },
         {
          "BiGG_ID": "GLCptspp",
          "ID": "GLCptspp_ex_exi",
          "author": "Khodayari",
          "flux": 109.71493023457475,
          "normalized_flux": 99.88343206477822,
          "sample_id": "0.4"
         },
         {
          "BiGG_ID": "GND",
          "ID": "GND",
          "author": "Khodayari",
          "flux": 17.885043681947643,
          "normalized_flux": 16.28237416513846,
          "sample_id": "0.4"
         },
         {
          "BiGG_ID": "ICDHyr",
          "ID": "ICDHyr",
          "author": "Khodayari",
          "flux": 83.71312124554416,
          "normalized_flux": 76.21163173492,
          "sample_id": "0.4"
         },
         {
          "BiGG_ID": "ICL",
          "ID": "ICL",
          "author": "Khodayari",
          "flux": 13.32606435445831,
          "normalized_flux": 12.131922617947772,
          "sample_id": "0.4"
         },
         {
          "BiGG_ID": "MDH",
          "ID": "MDH",
          "author": "Khodayari",
          "flux": 96.65128973687752,
          "normalized_flux": 87.99041763747442,
          "sample_id": "0.4"
         },
         {
          "BiGG_ID": "PDH",
          "ID": "PDH",
          "author": "Khodayari",
          "flux": 127.82654868886297,
          "normalized_flux": 116.37207775405918,
          "sample_id": "0.4"
         },
         {
          "BiGG_ID": "PFK",
          "ID": "PFKA",
          "author": "Khodayari",
          "flux": 91.51698678230457,
          "normalized_flux": 83.31619691594982,
          "sample_id": "0.4"
         },
         {
          "BiGG_ID": "PGI",
          "ID": "PGI",
          "author": "Khodayari",
          "flux": 87.40332033667244,
          "normalized_flux": 79.57115399352382,
          "sample_id": "0.4"
         },
         {
          "BiGG_ID": "PGK",
          "ID": "PGK",
          "author": "Khodayari",
          "flux": -173.22451715801984,
          "normalized_flux": -157.7019577418879,
          "sample_id": "0.4"
         },
         {
          "BiGG_ID": "PGM",
          "ID": "PGM",
          "author": "Khodayari",
          "flux": -169.12964752070474,
          "normalized_flux": -153.9740272555046,
          "sample_id": "0.4"
         },
         {
          "BiGG_ID": "PPC",
          "ID": "PPC",
          "author": "Khodayari",
          "flux": 18.542580262883167,
          "normalized_flux": 16.88098923303815,
          "sample_id": "0.4"
         },
         {
          "BiGG_ID": "PTAr",
          "ID": "PTAr",
          "author": "Khodayari",
          "flux": -0.004204445536508644,
          "normalized_flux": -0.0038276873459067275,
          "sample_id": "0.4"
         },
         {
          "BiGG_ID": "PYK",
          "ID": "PYKF",
          "author": "Khodayari",
          "flux": 42.471361994377105,
          "normalized_flux": 38.665525206040904,
          "sample_id": "0.4"
         },
         {
          "BiGG_ID": "RPE",
          "ID": "RPE",
          "author": "Khodayari",
          "flux": 5.59440594861303,
          "normalized_flux": 5.093094124166779,
          "sample_id": "0.4"
         },
         {
          "BiGG_ID": "RPI",
          "ID": "RPI",
          "author": "Khodayari",
          "flux": -12.509201562763998,
          "normalized_flux": -11.388258478655162,
          "sample_id": "0.4"
         },
         {
          "BiGG_ID": "SUCDi",
          "ID": "SUCDi",
          "author": "Khodayari",
          "flux": 90.68415955533325,
          "normalized_flux": 82.55799890617088,
          "sample_id": "0.4"
         },
         {
          "BiGG_ID": "TALA",
          "ID": "TALA",
          "author": "Khodayari",
          "flux": 4.649987603897216,
          "normalized_flux": 4.233304619005837,
          "sample_id": "0.4"
         },
         {
          "BiGG_ID": "TKT1",
          "ID": "TKT1",
          "author": "Khodayari",
          "flux": 4.545781154932982,
          "normalized_flux": 4.138436056052946,
          "sample_id": "0.4"
         },
         {
          "BiGG_ID": "PYK",
          "ID": "PYKA",
          "author": "Khodayari",
          "flux": 21.469459424890076,
          "normalized_flux": 19.54559226669167,
          "sample_id": "0.4"
         },
         {
          "BiGG_ID": "ACKr",
          "ID": "ACKr",
          "author": "Khodayari",
          "flux": 0.0881292029167527,
          "normalized_flux": 0.08023199061092347,
          "sample_id": "0.6"
         },
         {
          "BiGG_ID": "AKGDH",
          "ID": "AKGDH",
          "author": "Khodayari",
          "flux": 60.87813889715514,
          "normalized_flux": 55.4228803478553,
          "sample_id": "0.6"
         },
         {
          "BiGG_ID": "CS",
          "ID": "CS",
          "author": "Khodayari",
          "flux": 97.88618162147851,
          "normalized_flux": 89.11465149880189,
          "sample_id": "0.6"
         },
         {
          "BiGG_ID": "ENO",
          "ID": "ENO",
          "author": "Khodayari",
          "flux": 170.8926650535724,
          "normalized_flux": 155.57906169882693,
          "sample_id": "0.6"
         },
         {
          "BiGG_ID": "FBA",
          "ID": "FBA",
          "author": "Khodayari",
          "flux": 88.02848589104322,
          "normalized_flux": 80.14029878581168,
          "sample_id": "0.6"
         },
         {
          "BiGG_ID": "FUM",
          "ID": "FUM",
          "author": "Khodayari",
          "flux": 88.48903083195907,
          "normalized_flux": 80.55957453269858,
          "sample_id": "0.6"
         },
         {
          "BiGG_ID": "G6PDH2r",
          "ID": "G6PDH2r",
          "author": "Khodayari",
          "flux": 19.633288449774206,
          "normalized_flux": 17.87395962325672,
          "sample_id": "0.6"
         },
         {
          "BiGG_ID": "GAPD",
          "ID": "GAPD",
          "author": "Khodayari",
          "flux": 174.32315108812514,
          "normalized_flux": 158.70214365356932,
          "sample_id": "0.6"
         },
         {
          "BiGG_ID": "GLCptspp",
          "ID": "GLCptspp_ex_exi",
          "author": "Khodayari",
          "flux": 109.71493023457475,
          "normalized_flux": 99.88343206477822,
          "sample_id": "0.6"
         },
         {
          "BiGG_ID": "GND",
          "ID": "GND",
          "author": "Khodayari",
          "flux": 17.885043681947643,
          "normalized_flux": 16.28237416513846,
          "sample_id": "0.6"
         },
         {
          "BiGG_ID": "ICDHyr",
          "ID": "ICDHyr",
          "author": "Khodayari",
          "flux": 83.71312124554416,
          "normalized_flux": 76.21163173492,
          "sample_id": "0.6"
         },
         {
          "BiGG_ID": "ICL",
          "ID": "ICL",
          "author": "Khodayari",
          "flux": 13.32606435445831,
          "normalized_flux": 12.131922617947772,
          "sample_id": "0.6"
         },
         {
          "BiGG_ID": "MDH",
          "ID": "MDH",
          "author": "Khodayari",
          "flux": 96.65128973687752,
          "normalized_flux": 87.99041763747442,
          "sample_id": "0.6"
         },
         {
          "BiGG_ID": "PDH",
          "ID": "PDH",
          "author": "Khodayari",
          "flux": 127.82654868886297,
          "normalized_flux": 116.37207775405918,
          "sample_id": "0.6"
         },
         {
          "BiGG_ID": "PFK",
          "ID": "PFKA",
          "author": "Khodayari",
          "flux": 91.51698678230457,
          "normalized_flux": 83.31619691594982,
          "sample_id": "0.6"
         },
         {
          "BiGG_ID": "PGI",
          "ID": "PGI",
          "author": "Khodayari",
          "flux": 87.40332033667244,
          "normalized_flux": 79.57115399352382,
          "sample_id": "0.6"
         },
         {
          "BiGG_ID": "PGK",
          "ID": "PGK",
          "author": "Khodayari",
          "flux": -173.22451715801984,
          "normalized_flux": -157.7019577418879,
          "sample_id": "0.6"
         },
         {
          "BiGG_ID": "PGM",
          "ID": "PGM",
          "author": "Khodayari",
          "flux": -169.12964752070474,
          "normalized_flux": -153.9740272555046,
          "sample_id": "0.6"
         },
         {
          "BiGG_ID": "PPC",
          "ID": "PPC",
          "author": "Khodayari",
          "flux": 18.542580262883167,
          "normalized_flux": 16.88098923303815,
          "sample_id": "0.6"
         },
         {
          "BiGG_ID": "PTAr",
          "ID": "PTAr",
          "author": "Khodayari",
          "flux": -0.004204445536508644,
          "normalized_flux": -0.0038276873459067275,
          "sample_id": "0.6"
         },
         {
          "BiGG_ID": "PYK",
          "ID": "PYKF",
          "author": "Khodayari",
          "flux": 42.471361994377105,
          "normalized_flux": 38.665525206040904,
          "sample_id": "0.6"
         },
         {
          "BiGG_ID": "RPE",
          "ID": "RPE",
          "author": "Khodayari",
          "flux": 5.59440594861303,
          "normalized_flux": 5.093094124166779,
          "sample_id": "0.6"
         },
         {
          "BiGG_ID": "RPI",
          "ID": "RPI",
          "author": "Khodayari",
          "flux": -12.509201562763998,
          "normalized_flux": -11.388258478655162,
          "sample_id": "0.6"
         },
         {
          "BiGG_ID": "SUCDi",
          "ID": "SUCDi",
          "author": "Khodayari",
          "flux": 90.68415955533325,
          "normalized_flux": 82.55799890617088,
          "sample_id": "0.6"
         },
         {
          "BiGG_ID": "TALA",
          "ID": "TALA",
          "author": "Khodayari",
          "flux": 4.649987603897216,
          "normalized_flux": 4.233304619005837,
          "sample_id": "0.6"
         },
         {
          "BiGG_ID": "TKT1",
          "ID": "TKT1",
          "author": "Khodayari",
          "flux": 4.545781154932982,
          "normalized_flux": 4.138436056052946,
          "sample_id": "0.6"
         },
         {
          "BiGG_ID": "PYK",
          "ID": "PYKA",
          "author": "Khodayari",
          "flux": 21.469459424890076,
          "normalized_flux": 19.54559226669167,
          "sample_id": "0.6"
         },
         {
          "BiGG_ID": "ACKr",
          "ID": "ACKr",
          "author": "Khodayari",
          "flux": 0.0881292029167527,
          "normalized_flux": 0.08023199061092347,
          "sample_id": "0.7"
         },
         {
          "BiGG_ID": "AKGDH",
          "ID": "AKGDH",
          "author": "Khodayari",
          "flux": 60.87813889715514,
          "normalized_flux": 55.4228803478553,
          "sample_id": "0.7"
         },
         {
          "BiGG_ID": "CS",
          "ID": "CS",
          "author": "Khodayari",
          "flux": 97.88618162147851,
          "normalized_flux": 89.11465149880189,
          "sample_id": "0.7"
         },
         {
          "BiGG_ID": "ENO",
          "ID": "ENO",
          "author": "Khodayari",
          "flux": 170.8926650535724,
          "normalized_flux": 155.57906169882693,
          "sample_id": "0.7"
         },
         {
          "BiGG_ID": "FBA",
          "ID": "FBA",
          "author": "Khodayari",
          "flux": 88.02848589104322,
          "normalized_flux": 80.14029878581168,
          "sample_id": "0.7"
         },
         {
          "BiGG_ID": "FUM",
          "ID": "FUM",
          "author": "Khodayari",
          "flux": 88.48903083195907,
          "normalized_flux": 80.55957453269858,
          "sample_id": "0.7"
         },
         {
          "BiGG_ID": "G6PDH2r",
          "ID": "G6PDH2r",
          "author": "Khodayari",
          "flux": 19.633288449774206,
          "normalized_flux": 17.87395962325672,
          "sample_id": "0.7"
         },
         {
          "BiGG_ID": "GAPD",
          "ID": "GAPD",
          "author": "Khodayari",
          "flux": 174.32315108812514,
          "normalized_flux": 158.70214365356932,
          "sample_id": "0.7"
         },
         {
          "BiGG_ID": "GLCptspp",
          "ID": "GLCptspp_ex_exi",
          "author": "Khodayari",
          "flux": 109.71493023457475,
          "normalized_flux": 99.88343206477822,
          "sample_id": "0.7"
         },
         {
          "BiGG_ID": "GND",
          "ID": "GND",
          "author": "Khodayari",
          "flux": 17.885043681947643,
          "normalized_flux": 16.28237416513846,
          "sample_id": "0.7"
         },
         {
          "BiGG_ID": "ICDHyr",
          "ID": "ICDHyr",
          "author": "Khodayari",
          "flux": 83.71312124554416,
          "normalized_flux": 76.21163173492,
          "sample_id": "0.7"
         },
         {
          "BiGG_ID": "ICL",
          "ID": "ICL",
          "author": "Khodayari",
          "flux": 13.32606435445831,
          "normalized_flux": 12.131922617947772,
          "sample_id": "0.7"
         },
         {
          "BiGG_ID": "MDH",
          "ID": "MDH",
          "author": "Khodayari",
          "flux": 96.65128973687752,
          "normalized_flux": 87.99041763747442,
          "sample_id": "0.7"
         },
         {
          "BiGG_ID": "PDH",
          "ID": "PDH",
          "author": "Khodayari",
          "flux": 127.82654868886297,
          "normalized_flux": 116.37207775405918,
          "sample_id": "0.7"
         },
         {
          "BiGG_ID": "PFK",
          "ID": "PFKA",
          "author": "Khodayari",
          "flux": 91.51698678230457,
          "normalized_flux": 83.31619691594982,
          "sample_id": "0.7"
         },
         {
          "BiGG_ID": "PGI",
          "ID": "PGI",
          "author": "Khodayari",
          "flux": 87.40332033667244,
          "normalized_flux": 79.57115399352382,
          "sample_id": "0.7"
         },
         {
          "BiGG_ID": "PGK",
          "ID": "PGK",
          "author": "Khodayari",
          "flux": -173.22451715801984,
          "normalized_flux": -157.7019577418879,
          "sample_id": "0.7"
         },
         {
          "BiGG_ID": "PGM",
          "ID": "PGM",
          "author": "Khodayari",
          "flux": -169.12964752070474,
          "normalized_flux": -153.9740272555046,
          "sample_id": "0.7"
         },
         {
          "BiGG_ID": "PPC",
          "ID": "PPC",
          "author": "Khodayari",
          "flux": 18.542580262883167,
          "normalized_flux": 16.88098923303815,
          "sample_id": "0.7"
         },
         {
          "BiGG_ID": "PTAr",
          "ID": "PTAr",
          "author": "Khodayari",
          "flux": -0.004204445536508644,
          "normalized_flux": -0.0038276873459067275,
          "sample_id": "0.7"
         },
         {
          "BiGG_ID": "PYK",
          "ID": "PYKF",
          "author": "Khodayari",
          "flux": 42.471361994377105,
          "normalized_flux": 38.665525206040904,
          "sample_id": "0.7"
         },
         {
          "BiGG_ID": "RPE",
          "ID": "RPE",
          "author": "Khodayari",
          "flux": 5.59440594861303,
          "normalized_flux": 5.093094124166779,
          "sample_id": "0.7"
         },
         {
          "BiGG_ID": "RPI",
          "ID": "RPI",
          "author": "Khodayari",
          "flux": -12.509201562763998,
          "normalized_flux": -11.388258478655162,
          "sample_id": "0.7"
         },
         {
          "BiGG_ID": "SUCDi",
          "ID": "SUCDi",
          "author": "Khodayari",
          "flux": 90.68415955533325,
          "normalized_flux": 82.55799890617088,
          "sample_id": "0.7"
         },
         {
          "BiGG_ID": "TALA",
          "ID": "TALA",
          "author": "Khodayari",
          "flux": 4.649987603897216,
          "normalized_flux": 4.233304619005837,
          "sample_id": "0.7"
         },
         {
          "BiGG_ID": "TKT1",
          "ID": "TKT1",
          "author": "Khodayari",
          "flux": 4.545781154932982,
          "normalized_flux": 4.138436056052946,
          "sample_id": "0.7"
         },
         {
          "BiGG_ID": "PYK",
          "ID": "PYKA",
          "author": "Khodayari",
          "flux": 21.469459424890076,
          "normalized_flux": 19.54559226669167,
          "sample_id": "0.7"
         },
         {
          "BiGG_ID": "GLCptspp",
          "ID": "vPts1",
          "author": "Kurata",
          "flux": 1281.7311765172392,
          "normalized_flux": 99.42742014842696,
          "sample_id": "0.2"
         },
         {
          "BiGG_ID": "GLCptspp",
          "ID": "vPts4",
          "author": "Kurata",
          "flux": 1281.7311765172267,
          "normalized_flux": 99.427420148426,
          "sample_id": "0.2"
         },
         {
          "BiGG_ID": "GLCptspp",
          "ID": "vPts4_medium",
          "author": "Kurata",
          "flux": 4.414001017722337,
          "normalized_flux": 0.34240622508471863,
          "sample_id": "0.2"
         },
         {
          "BiGG_ID": "PGI",
          "ID": "vE_Pgi",
          "author": "Kurata",
          "flux": 567.8667637462247,
          "normalized_flux": 44.050990052955136,
          "sample_id": "0.2"
         },
         {
          "BiGG_ID": "PFK",
          "ID": "vE_Pfk",
          "author": "Kurata",
          "flux": 502.42444984043715,
          "normalized_flux": 38.97444938716876,
          "sample_id": "0.2"
         },
         {
          "BiGG_ID": "FBA",
          "ID": "vE_Fba",
          "author": "Kurata",
          "flux": 502.3796807385938,
          "normalized_flux": 38.97097652454343,
          "sample_id": "0.2"
         },
         {
          "BiGG_ID": "GAPD",
          "ID": "vE_Gapdh",
          "author": "Kurata",
          "flux": 1338.8172118406262,
          "normalized_flux": 103.85574125248961,
          "sample_id": "0.2"
         },
         {
          "BiGG_ID": "PYK",
          "ID": "vE_Pyk",
          "author": "Kurata",
          "flux": 12.546430585142863,
          "normalized_flux": 0.9732612017300771,
          "sample_id": "0.2"
         },
         {
          "BiGG_ID": "PDH",
          "ID": "vE_Pdh",
          "author": "Kurata",
          "flux": 1412.6951403901217,
          "normalized_flux": 109.58665579694623,
          "sample_id": "0.2"
         },
         {
          "BiGG_ID": "PTAr",
          "ID": "vE_Pta",
          "author": "Kurata",
          "flux": 47.21723546941024,
          "normalized_flux": 3.662771098398976,
          "sample_id": "0.2"
         },
         {
          "BiGG_ID": "ACKr",
          "ID": "vE_Ack",
          "author": "Kurata",
          "flux": 47.216939683899746,
          "normalized_flux": 3.6627481535016644,
          "sample_id": "0.2"
         },
         {
          "BiGG_ID": "CS",
          "ID": "vE_Cs",
          "author": "Kurata",
          "flux": 783.3138177651508,
          "normalized_flux": 60.76381186157133,
          "sample_id": "0.2"
         },
         {
          "BiGG_ID": "ICDHyr",
          "ID": "vE_Icdh",
          "author": "Kurata",
          "flux": 171.49198133315065,
          "normalized_flux": 13.303105668716663,
          "sample_id": "0.2"
         },
         {
          "BiGG_ID": "AKGDH",
          "ID": "vE_akgdh",
          "author": "Kurata",
          "flux": 165.72597843490624,
          "normalized_flux": 12.855820931289443,
          "sample_id": "0.2"
         },
         {
          "BiGG_ID": "SUCDi",
          "ID": "vE_Sdh",
          "author": "Kurata",
          "flux": 746.3648260295151,
          "normalized_flux": 57.89757673156363,
          "sample_id": "0.2"
         },
         {
          "BiGG_ID": "FUM",
          "ID": "vE_Fum",
          "author": "Kurata",
          "flux": 670.6025950355463,
          "normalized_flux": 52.020491652859384,
          "sample_id": "0.2"
         },
         {
          "BiGG_ID": "MDH",
          "ID": "vE_Mdh",
          "author": "Kurata",
          "flux": 1134.7533935997799,
          "normalized_flux": 88.02594841835082,
          "sample_id": "0.2"
         },
         {
          "BiGG_ID": "PPC",
          "ID": "vE_Ppc",
          "author": "Kurata",
          "flux": 77.39604518717731,
          "normalized_flux": 6.003824548890198,
          "sample_id": "0.2"
         },
         {
          "BiGG_ID": "ICL",
          "ID": "vE_Icl",
          "author": "Kurata",
          "flux": 611.6095999450125,
          "normalized_flux": 47.44424242357983,
          "sample_id": "0.2"
         },
         {
          "BiGG_ID": "G6PDH2r",
          "ID": "vE_G6pdh",
          "author": "Kurata",
          "flux": 710.460623002908,
          "normalized_flux": 55.11238874142594,
          "sample_id": "0.2"
         },
         {
          "BiGG_ID": "GND",
          "ID": "vE_6Pgdh",
          "author": "Kurata",
          "flux": 535.6034360696997,
          "normalized_flux": 41.54823479892697,
          "sample_id": "0.2"
         },
         {
          "BiGG_ID": "RPI",
          "ID": "vE_R5pi",
          "author": "Kurata",
          "flux": 200.7267092316389,
          "normalized_flux": 15.570924090350283,
          "sample_id": "0.2"
         },
         {
          "BiGG_ID": "RPE",
          "ID": "vE_Rpe",
          "author": "Kurata",
          "flux": 334.83647502497456,
          "normalized_flux": 25.974188264491076,
          "sample_id": "0.2"
         },
         {
          "BiGG_ID": "TKT1",
          "ID": "vE_Tkt1",
          "author": "Kurata",
          "flux": 172.05861931685487,
          "normalized_flux": 13.34706133891492,
          "sample_id": "0.2"
         },
         {
          "BiGG_ID": "TALA",
          "ID": "vE_Tal",
          "author": "Kurata",
          "flux": 172.0340098364338,
          "normalized_flux": 13.345152313688502,
          "sample_id": "0.2"
         },
         {
          "BiGG_ID": "PGM",
          "ID": "Gapdh",
          "author": "Kurata",
          "flux": 1338.8172118406262,
          "normalized_flux": 103.85574125248961,
          "sample_id": "0.2"
         },
         {
          "BiGG_ID": "ENO",
          "ID": "Gapdh",
          "author": "Kurata",
          "flux": 1338.8172118406262,
          "normalized_flux": 103.85574125248961,
          "sample_id": "0.2"
         },
         {
          "BiGG_ID": "PGK",
          "ID": "Gapdh",
          "author": "Kurata",
          "flux": 1338.8172118406262,
          "normalized_flux": 103.85574125248961,
          "sample_id": "0.2"
         },
         {
          "BiGG_ID": "GLCptspp",
          "ID": "vPts1",
          "author": "Kurata",
          "flux": 2094.2432461052795,
          "normalized_flux": 99.0149309998505,
          "sample_id": "0.4"
         },
         {
          "BiGG_ID": "GLCptspp",
          "ID": "vPts4",
          "author": "Kurata",
          "flux": 2094.2432461052917,
          "normalized_flux": 99.01493099985109,
          "sample_id": "0.4"
         },
         {
          "BiGG_ID": "GLCptspp",
          "ID": "vPts4_medium",
          "author": "Kurata",
          "flux": 8.789196995714871,
          "normalized_flux": 0.4155495001324466,
          "sample_id": "0.4"
         },
         {
          "BiGG_ID": "PGI",
          "ID": "vE_Pgi",
          "author": "Kurata",
          "flux": 1302.486739136248,
          "normalized_flux": 61.58101970419947,
          "sample_id": "0.4"
         },
         {
          "BiGG_ID": "PFK",
          "ID": "vE_Pfk",
          "author": "Kurata",
          "flux": 1192.9409527919922,
          "normalized_flux": 56.401741463062635,
          "sample_id": "0.4"
         },
         {
          "BiGG_ID": "FBA",
          "ID": "vE_Fba",
          "author": "Kurata",
          "flux": 1192.1369829521823,
          "normalized_flux": 56.363730110578736,
          "sample_id": "0.4"
         },
         {
          "BiGG_ID": "GAPD",
          "ID": "vE_Gapdh",
          "author": "Kurata",
          "flux": 2756.7449190957823,
          "normalized_flux": 130.33772865501004,
          "sample_id": "0.4"
         },
         {
          "BiGG_ID": "PYK",
          "ID": "vE_Pyk",
          "author": "Kurata",
          "flux": 54.97904350926666,
          "normalized_flux": 2.599385820931593,
          "sample_id": "0.4"
         },
         {
          "BiGG_ID": "PDH",
          "ID": "vE_Pdh",
          "author": "Kurata",
          "flux": 2542.110962312291,
          "normalized_flux": 120.18992635904222,
          "sample_id": "0.4"
         },
         {
          "BiGG_ID": "PTAr",
          "ID": "vE_Pta",
          "author": "Kurata",
          "flux": 113.07724078696943,
          "normalized_flux": 5.346243906956551,
          "sample_id": "0.4"
         },
         {
          "BiGG_ID": "ACKr",
          "ID": "vE_Ack",
          "author": "Kurata",
          "flux": 113.07565025167906,
          "normalized_flux": 5.346168707123714,
          "sample_id": "0.4"
         },
         {
          "BiGG_ID": "CS",
          "ID": "vE_Cs",
          "author": "Kurata",
          "flux": 1700.236360503837,
          "normalized_flux": 80.38645283054255,
          "sample_id": "0.4"
         },
         {
          "BiGG_ID": "ICDHyr",
          "ID": "vE_Icdh",
          "author": "Kurata",
          "flux": 906.3430693271504,
          "normalized_flux": 42.851515285301836,
          "sample_id": "0.4"
         },
         {
          "BiGG_ID": "AKGDH",
          "ID": "vE_akgdh",
          "author": "Kurata",
          "flux": 872.088259727946,
          "normalized_flux": 41.23196243957298,
          "sample_id": "0.4"
         },
         {
          "BiGG_ID": "SUCDi",
          "ID": "vE_Sdh",
          "author": "Kurata",
          "flux": 1543.9761602971162,
          "normalized_flux": 72.99853694719656,
          "sample_id": "0.4"
         },
         {
          "BiGG_ID": "FUM",
          "ID": "vE_Fum",
          "author": "Kurata",
          "flux": 1403.935864549654,
          "normalized_flux": 66.37749125614765,
          "sample_id": "0.4"
         },
         {
          "BiGG_ID": "MDH",
          "ID": "vE_Mdh",
          "author": "Kurata",
          "flux": 1728.8827142888708,
          "normalized_flux": 81.74084026796054,
          "sample_id": "0.4"
         },
         {
          "BiGG_ID": "PPC",
          "ID": "vE_Ppc",
          "author": "Kurata",
          "flux": 650.3851705308307,
          "normalized_flux": 30.749934566196455,
          "sample_id": "0.4"
         },
         {
          "BiGG_ID": "ICL",
          "ID": "vE_Icl",
          "author": "Kurata",
          "flux": 793.2387854018808,
          "normalized_flux": 37.50399279025492,
          "sample_id": "0.4"
         },
         {
          "BiGG_ID": "G6PDH2r",
          "ID": "vE_G6pdh",
          "author": "Kurata",
          "flux": 799.3873270386343,
          "normalized_flux": 37.79469322681837,
          "sample_id": "0.4"
         },
         {
          "BiGG_ID": "GND",
          "ID": "vE_6Pgdh",
          "author": "Kurata",
          "flux": 602.3147736067193,
          "normalized_flux": 28.47718662088111,
          "sample_id": "0.4"
         },
         {
          "BiGG_ID": "RPI",
          "ID": "vE_R5pi",
          "author": "Kurata",
          "flux": 226.2620346549071,
          "normalized_flux": 10.697572877890602,
          "sample_id": "0.4"
         },
         {
          "BiGG_ID": "RPE",
          "ID": "vE_Rpe",
          "author": "Kurata",
          "flux": 375.96499045206764,
          "normalized_flux": 17.775465031199886,
          "sample_id": "0.4"
         },
         {
          "BiGG_ID": "TKT1",
          "ID": "vE_Tkt1",
          "author": "Kurata",
          "flux": 195.02793818911564,
          "normalized_flux": 9.220838065850746,
          "sample_id": "0.4"
         },
         {
          "BiGG_ID": "TALA",
          "ID": "vE_Tal",
          "author": "Kurata",
          "flux": 194.9815699432736,
          "normalized_flux": 9.218645794885484,
          "sample_id": "0.4"
         },
         {
          "BiGG_ID": "PGM",
          "ID": "Gapdh",
          "author": "Kurata",
          "flux": 2756.7449190957823,
          "normalized_flux": 130.33772865501004,
          "sample_id": "0.4"
         },
         {
          "BiGG_ID": "ENO",
          "ID": "Gapdh",
          "author": "Kurata",
          "flux": 2756.7449190957823,
          "normalized_flux": 130.33772865501004,
          "sample_id": "0.4"
         },
         {
          "BiGG_ID": "PGK",
          "ID": "Gapdh",
          "author": "Kurata",
          "flux": 2756.7449190957823,
          "normalized_flux": 130.33772865501004,
          "sample_id": "0.4"
         },
         {
          "BiGG_ID": "GLCptspp",
          "ID": "vPts1",
          "author": "Kurata",
          "flux": 3062.973605645727,
          "normalized_flux": 90.56775464773568,
          "sample_id": "0.6"
         },
         {
          "BiGG_ID": "GLCptspp",
          "ID": "vPts4",
          "author": "Kurata",
          "flux": 3062.9736056457286,
          "normalized_flux": 90.56775464773574,
          "sample_id": "0.6"
         },
         {
          "BiGG_ID": "GLCptspp",
          "ID": "vPts4_medium",
          "author": "Kurata",
          "flux": 11.881997886540075,
          "normalized_flux": 0.3513337063465194,
          "sample_id": "0.6"
         },
         {
          "BiGG_ID": "PGI",
          "ID": "vE_Pgi",
          "author": "Kurata",
          "flux": 2476.7924767304326,
          "normalized_flux": 73.23521591319408,
          "sample_id": "0.6"
         },
         {
          "BiGG_ID": "PFK",
          "ID": "vE_Pfk",
          "author": "Kurata",
          "flux": 2316.9713262290393,
          "normalized_flux": 68.50953276677419,
          "sample_id": "0.6"
         },
         {
          "BiGG_ID": "FBA",
          "ID": "vE_Fba",
          "author": "Kurata",
          "flux": 2306.107197495034,
          "normalized_flux": 68.18829599743697,
          "sample_id": "0.6"
         },
         {
          "BiGG_ID": "GAPD",
          "ID": "vE_Gapdh",
          "author": "Kurata",
          "flux": 5022.016881750407,
          "normalized_flux": 148.4938662040057,
          "sample_id": "0.6"
         },
         {
          "BiGG_ID": "PYK",
          "ID": "vE_Pyk",
          "author": "Kurata",
          "flux": 164.01817634794594,
          "normalized_flux": 4.849783206054816,
          "sample_id": "0.6"
         },
         {
          "BiGG_ID": "PDH",
          "ID": "vE_Pdh",
          "author": "Kurata",
          "flux": 3358.0476369891026,
          "normalized_flux": 99.29267229781487,
          "sample_id": "0.6"
         },
         {
          "BiGG_ID": "PTAr",
          "ID": "vE_Pta",
          "author": "Kurata",
          "flux": 376.0956290053528,
          "normalized_flux": 11.12061056910797,
          "sample_id": "0.6"
         },
         {
          "BiGG_ID": "ACKr",
          "ID": "vE_Ack",
          "author": "Kurata",
          "flux": 376.03747578640906,
          "normalized_flux": 11.11889106148454,
          "sample_id": "0.6"
         },
         {
          "BiGG_ID": "CS",
          "ID": "vE_Cs",
          "author": "Kurata",
          "flux": 2264.9201926193814,
          "normalized_flux": 66.9704550910127,
          "sample_id": "0.6"
         },
         {
          "BiGG_ID": "ICDHyr",
          "ID": "vE_Icdh",
          "author": "Kurata",
          "flux": 2264.900589202551,
          "normalized_flux": 66.96987544597675,
          "sample_id": "0.6"
         },
         {
          "BiGG_ID": "AKGDH",
          "ID": "vE_akgdh",
          "author": "Kurata",
          "flux": 1993.5421613776225,
          "normalized_flux": 58.94619431874016,
          "sample_id": "0.6"
         },
         {
          "BiGG_ID": "SUCDi",
          "ID": "vE_Sdh",
          "author": "Kurata",
          "flux": 1738.4711930562917,
          "normalized_flux": 51.40411010550825,
          "sample_id": "0.6"
         },
         {
          "BiGG_ID": "FUM",
          "ID": "vE_Fum",
          "author": "Kurata",
          "flux": 1582.0135814333894,
          "normalized_flux": 46.77788199955418,
          "sample_id": "0.6"
         },
         {
          "BiGG_ID": "MDH",
          "ID": "vE_Mdh",
          "author": "Kurata",
          "flux": 1362.2933912923484,
          "normalized_flux": 40.28106980529681,
          "sample_id": "0.6"
         },
         {
          "BiGG_ID": "PPC",
          "ID": "vE_Ppc",
          "author": "Kurata",
          "flux": 1676.3684364057597,
          "normalized_flux": 49.56782029324666,
          "sample_id": "0.6"
         },
         {
          "BiGG_ID": "ICL",
          "ID": "vE_Icl",
          "author": "Kurata",
          "flux": 3.8927718724800576e-05,
          "normalized_flux": 1.1510370419011656e-06,
          "sample_id": "0.6"
         },
         {
          "BiGG_ID": "G6PDH2r",
          "ID": "vE_G6pdh",
          "author": "Kurata",
          "flux": 889.070316251107,
          "normalized_flux": 26.288539384863494,
          "sample_id": "0.6"
         },
         {
          "BiGG_ID": "GND",
          "ID": "vE_6Pgdh",
          "author": "Kurata",
          "flux": 669.7481823872615,
          "normalized_flux": 19.80349714617563,
          "sample_id": "0.6"
         },
         {
          "BiGG_ID": "RPI",
          "ID": "vE_R5pi",
          "author": "Kurata",
          "flux": 252.7056577717425,
          "normalized_flux": 7.472145358673722,
          "sample_id": "0.6"
         },
         {
          "BiGG_ID": "RPE",
          "ID": "vE_Rpe",
          "author": "Kurata",
          "flux": 416.89890465966016,
          "normalized_flux": 12.327105150540763,
          "sample_id": "0.6"
         },
         {
          "BiGG_ID": "TKT1",
          "ID": "vE_Tkt1",
          "author": "Kurata",
          "flux": 218.62921067901496,
          "normalized_flux": 6.464553489820493,
          "sample_id": "0.6"
         },
         {
          "BiGG_ID": "TALA",
          "ID": "vE_Tal",
          "author": "Kurata",
          "flux": 218.55598483028086,
          "normalized_flux": 6.462388306062527,
          "sample_id": "0.6"
         },
         {
          "BiGG_ID": "PGM",
          "ID": "Gapdh",
          "author": "Kurata",
          "flux": 5022.016881750407,
          "normalized_flux": 148.4938662040057,
          "sample_id": "0.6"
         },
         {
          "BiGG_ID": "ENO",
          "ID": "Gapdh",
          "author": "Kurata",
          "flux": 5022.016881750407,
          "normalized_flux": 148.4938662040057,
          "sample_id": "0.6"
         },
         {
          "BiGG_ID": "PGK",
          "ID": "Gapdh",
          "author": "Kurata",
          "flux": 5022.016881750407,
          "normalized_flux": 148.4938662040057,
          "sample_id": "0.6"
         },
         {
          "BiGG_ID": "GLCptspp",
          "ID": "vPts1",
          "author": "Kurata",
          "flux": 3288.4727117382376,
          "normalized_flux": 87.41418983161508,
          "sample_id": "0.7"
         },
         {
          "BiGG_ID": "GLCptspp",
          "ID": "vPts4",
          "author": "Kurata",
          "flux": 3288.4727117382417,
          "normalized_flux": 87.41418983161519,
          "sample_id": "0.7"
         },
         {
          "BiGG_ID": "GLCptspp",
          "ID": "vPts4_medium",
          "author": "Kurata",
          "flux": 12.455841865905075,
          "normalized_flux": 0.3311012195698812,
          "sample_id": "0.7"
         },
         {
          "BiGG_ID": "PGI",
          "ID": "vE_Pgi",
          "author": "Kurata",
          "flux": 2838.297656989429,
          "normalized_flux": 75.44763540262322,
          "sample_id": "0.7"
         },
         {
          "BiGG_ID": "PFK",
          "ID": "vE_Pfk",
          "author": "Kurata",
          "flux": 2682.9345375978205,
          "normalized_flux": 71.31777257516153,
          "sample_id": "0.7"
         },
         {
          "BiGG_ID": "FBA",
          "ID": "vE_Fba",
          "author": "Kurata",
          "flux": 2653.2143482136316,
          "normalized_flux": 70.52775042676797,
          "sample_id": "0.7"
         },
         {
          "BiGG_ID": "GAPD",
          "ID": "vE_Gapdh",
          "author": "Kurata",
          "flux": 5722.163001091468,
          "normalized_flux": 152.10655117781303,
          "sample_id": "0.7"
         },
         {
          "BiGG_ID": "PYK",
          "ID": "vE_Pyk",
          "author": "Kurata",
          "flux": 244.96625702197198,
          "normalized_flux": 6.511693655605857,
          "sample_id": "0.7"
         },
         {
          "BiGG_ID": "PDH",
          "ID": "vE_Pdh",
          "author": "Kurata",
          "flux": 3710.1654892202496,
          "normalized_flux": 98.6236282952078,
          "sample_id": "0.7"
         },
         {
          "BiGG_ID": "PTAr",
          "ID": "vE_Pta",
          "author": "Kurata",
          "flux": 375.33376296763856,
          "normalized_flux": 9.977123024057256,
          "sample_id": "0.7"
         },
         {
          "BiGG_ID": "ACKr",
          "ID": "vE_Ack",
          "author": "Kurata",
          "flux": 375.2816376367573,
          "normalized_flux": 9.975737428381665,
          "sample_id": "0.7"
         },
         {
          "BiGG_ID": "CS",
          "ID": "vE_Cs",
          "author": "Kurata",
          "flux": 2835.679164521293,
          "normalized_flux": 75.37803062929935,
          "sample_id": "0.7"
         },
         {
          "BiGG_ID": "ICDHyr",
          "ID": "vE_Icdh",
          "author": "Kurata",
          "flux": 2835.6658739729132,
          "normalized_flux": 75.37767733990914,
          "sample_id": "0.7"
         },
         {
          "BiGG_ID": "AKGDH",
          "ID": "vE_akgdh",
          "author": "Kurata",
          "flux": 2487.857955836361,
          "normalized_flux": 66.13224639185768,
          "sample_id": "0.7"
         },
         {
          "BiGG_ID": "SUCDi",
          "ID": "vE_Sdh",
          "author": "Kurata",
          "flux": 2140.443013765583,
          "normalized_flux": 56.89726153456752,
          "sample_id": "0.7"
         },
         {
          "BiGG_ID": "FUM",
          "ID": "vE_Fum",
          "author": "Kurata",
          "flux": 1975.2653896725612,
          "normalized_flux": 52.506509518635355,
          "sample_id": "0.7"
         },
         {
          "BiGG_ID": "MDH",
          "ID": "vE_Mdh",
          "author": "Kurata",
          "flux": 1719.3049068789874,
          "normalized_flux": 45.702567326126655,
          "sample_id": "0.7"
         },
         {
          "BiGG_ID": "PPC",
          "ID": "vE_Ppc",
          "author": "Kurata",
          "flux": 2013.9715056379146,
          "normalized_flux": 53.53539558983874,
          "sample_id": "0.7"
         },
         {
          "BiGG_ID": "ICL",
          "ID": "vE_Icl",
          "author": "Kurata",
          "flux": 2.8173129798838178e-06,
          "normalized_flux": 7.488982066342308e-08,
          "sample_id": "0.7"
         },
         {
          "BiGG_ID": "G6PDH2r",
          "ID": "vE_G6pdh",
          "author": "Kurata",
          "flux": 906.8756893959542,
          "normalized_flux": 24.106571839129472,
          "sample_id": "0.7"
         },
         {
          "BiGG_ID": "GND",
          "ID": "vE_6Pgdh",
          "author": "Kurata",
          "flux": 683.1884120625133,
          "normalized_flux": 18.160516074717528,
          "sample_id": "0.7"
         },
         {
          "BiGG_ID": "RPI",
          "ID": "vE_R5pi",
          "author": "Kurata",
          "flux": 258.5035581773935,
          "normalized_flux": 6.871542228709039,
          "sample_id": "0.7"
         },
         {
          "BiGG_ID": "RPE",
          "ID": "vE_Rpe",
          "author": "Kurata",
          "flux": 424.51363211123174,
          "normalized_flux": 11.284422428387618,
          "sample_id": "0.7"
         },
         {
          "BiGG_ID": "TKT1",
          "ID": "vE_Tkt1",
          "author": "Kurata",
          "flux": 223.6716732914325,
          "normalized_flux": 5.945640977728331,
          "sample_id": "0.7"
         },
         {
          "BiGG_ID": "TALA",
          "ID": "vE_Tal",
          "author": "Kurata",
          "flux": 223.58694968508613,
          "normalized_flux": 5.943388854612957,
          "sample_id": "0.7"
         },
         {
          "BiGG_ID": "PGM",
          "ID": "Gapdh",
          "author": "Kurata",
          "flux": 5722.163001091468,
          "normalized_flux": 152.10655117781303,
          "sample_id": "0.7"
         },
         {
          "BiGG_ID": "ENO",
          "ID": "Gapdh",
          "author": "Kurata",
          "flux": 5722.163001091468,
          "normalized_flux": 152.10655117781303,
          "sample_id": "0.7"
         },
         {
          "BiGG_ID": "PGK",
          "ID": "Gapdh",
          "author": "Kurata",
          "flux": 5722.163001091468,
          "normalized_flux": 152.10655117781303,
          "sample_id": "0.7"
         },
         {
          "BiGG_ID": "PGI",
          "ID": "PGI",
          "author": "Millard",
          "flux": 0.32835743424463104,
          "normalized_flux": 82.08935856116013,
          "sample_id": "0.2"
         },
         {
          "BiGG_ID": "PFK",
          "ID": "PFK",
          "author": "Millard",
          "flux": 0.3293483031313731,
          "normalized_flux": 82.33707578284564,
          "sample_id": "0.2"
         },
         {
          "BiGG_ID": "FBA",
          "ID": "FBA",
          "author": "Millard",
          "flux": 0.32915478614192883,
          "normalized_flux": 82.28869653548459,
          "sample_id": "0.2"
         },
         {
          "BiGG_ID": "GAPD",
          "ID": "GDH",
          "author": "Millard",
          "flux": 0.6734727141599736,
          "normalized_flux": 168.36817853999824,
          "sample_id": "0.2"
         },
         {
          "BiGG_ID": "PGK",
          "ID": "PGK",
          "author": "Millard",
          "flux": 0.6734727141614761,
          "normalized_flux": 168.3681785403739,
          "sample_id": "0.2"
         },
         {
          "BiGG_ID": "PGM",
          "ID": "GPM",
          "author": "Millard",
          "flux": 0.6234180856284871,
          "normalized_flux": 155.85452140712627,
          "sample_id": "0.2"
         },
         {
          "BiGG_ID": "ENO",
          "ID": "ENO",
          "author": "Millard",
          "flux": 0.6234180856289518,
          "normalized_flux": 155.85452140724243,
          "sample_id": "0.2"
         },
         {
          "BiGG_ID": "PYK",
          "ID": "PYK",
          "author": "Millard",
          "flux": 0.1788709642341208,
          "normalized_flux": 44.71774105853149,
          "sample_id": "0.2"
         },
         {
          "BiGG_ID": "G6PDH2r",
          "ID": "ZWF",
          "author": "Millard",
          "flux": 0.06477116112680023,
          "normalized_flux": 16.192790281700525,
          "sample_id": "0.2"
         },
         {
          "BiGG_ID": "GND",
          "ID": "GND",
          "author": "Millard",
          "flux": 0.04082507694750597,
          "normalized_flux": 10.206269236876787,
          "sample_id": "0.2"
         },
         {
          "BiGG_ID": "RPE",
          "ID": "RPE",
          "author": "Millard",
          "flux": 0.003166801770382805,
          "normalized_flux": 0.791700442595724,
          "sample_id": "0.2"
         },
         {
          "BiGG_ID": "RPI",
          "ID": "RPI",
          "author": "Millard",
          "flux": 0.03765827517649836,
          "normalized_flux": 9.414568794124861,
          "sample_id": "0.2"
         },
         {
          "BiGG_ID": "TKT1",
          "ID": "X5P_GAP_TKT",
          "author": "Millard",
          "flux": 0.003166801769500932,
          "normalized_flux": 0.7917004423752558,
          "sample_id": "0.2"
         },
         {
          "BiGG_ID": "TKT1",
          "ID": "F6P_E4P_TKT",
          "author": "Millard",
          "flux": -0.004458696287475112,
          "normalized_flux": -1.1146740718688102,
          "sample_id": "0.2"
         },
         {
          "BiGG_ID": "TKT1",
          "ID": "S7P_R5P_TKT",
          "author": "Millard",
          "flux": 0.0076254980566720035,
          "normalized_flux": 1.9063745141680557,
          "sample_id": "0.2"
         },
         {
          "BiGG_ID": "TALA",
          "ID": "F6P_GAP_TAL",
          "author": "Millard",
          "flux": 0.0076254980563636955,
          "normalized_flux": 1.9063745140909787,
          "sample_id": "0.2"
         },
         {
          "BiGG_ID": "TALA",
          "ID": "S7P_E4P_TAL",
          "author": "Millard",
          "flux": 0.007625498056580775,
          "normalized_flux": 1.9063745141452486,
          "sample_id": "0.2"
         },
         {
          "BiGG_ID": "PPC",
          "ID": "PPC",
          "author": "Millard",
          "flux": 0.09415201966071103,
          "normalized_flux": 23.538004915178437,
          "sample_id": "0.2"
         },
         {
          "BiGG_ID": "PDH",
          "ID": "PDH",
          "author": "Millard",
          "flux": 0.5265643684590613,
          "normalized_flux": 131.64109211476912,
          "sample_id": "0.2"
         },
         {
          "BiGG_ID": "CS",
          "ID": "GLT",
          "author": "Millard",
          "flux": 0.3137440755818657,
          "normalized_flux": 78.43601889546868,
          "sample_id": "0.2"
         },
         {
          "BiGG_ID": "ICDHyr",
          "ID": "ICD",
          "author": "Millard",
          "flux": 0.2263877057428066,
          "normalized_flux": 56.59692643570328,
          "sample_id": "0.2"
         },
         {
          "BiGG_ID": "AKGDH",
          "ID": "LPD",
          "author": "Millard",
          "flux": 0.19025359520496224,
          "normalized_flux": 47.56339880124193,
          "sample_id": "0.2"
         },
         {
          "BiGG_ID": "SUCDi",
          "ID": "SDH",
          "author": "Millard",
          "flux": 0.27760996504813584,
          "normalized_flux": 69.40249126203595,
          "sample_id": "0.2"
         },
         {
          "BiGG_ID": "FUM",
          "ID": "FUMA",
          "author": "Millard",
          "flux": 0.2776099650485336,
          "normalized_flux": 69.4024912621354,
          "sample_id": "0.2"
         },
         {
          "BiGG_ID": "MDH",
          "ID": "MQO",
          "author": "Millard",
          "flux": 0.34635849605564584,
          "normalized_flux": 86.58962401391396,
          "sample_id": "0.2"
         },
         {
          "BiGG_ID": "MDH",
          "ID": "MDH",
          "author": "Millard",
          "flux": 0.34635849605564584,
          "normalized_flux": 86.58962401391396,
          "sample_id": "0.2"
         },
         {
          "BiGG_ID": "ICL",
          "ID": "ACEA",
          "author": "Millard",
          "flux": 0.08735636984217159,
          "normalized_flux": 21.839092460543526,
          "sample_id": "0.2"
         },
         {
          "BiGG_ID": "ACKr",
          "ID": "ACK",
          "author": "Millard",
          "flux": 0.027395127592674488,
          "normalized_flux": 6.848781898168819,
          "sample_id": "0.2"
         },
         {
          "BiGG_ID": "PTAr",
          "ID": "PTA",
          "author": "Millard",
          "flux": 0.027395127592707683,
          "normalized_flux": 6.848781898177118,
          "sample_id": "0.2"
         },
         {
          "BiGG_ID": "GLCptspp",
          "ID": "PTS_0",
          "author": "Millard",
          "flux": 0.4000000000006052,
          "normalized_flux": 100.00000000015419,
          "sample_id": "0.2"
         },
         {
          "BiGG_ID": "GLCptspp",
          "ID": "PTS_1",
          "author": "Millard",
          "flux": 0.3999999999999839,
          "normalized_flux": 99.99999999999886,
          "sample_id": "0.2"
         },
         {
          "BiGG_ID": "GLCptspp",
          "ID": "PTS_2",
          "author": "Millard",
          "flux": 0.3999999999999853,
          "normalized_flux": 99.9999999999992,
          "sample_id": "0.2"
         },
         {
          "BiGG_ID": "GLCptspp",
          "ID": "PTS_3",
          "author": "Millard",
          "flux": 0.3999999999999886,
          "normalized_flux": 100.00000000000001,
          "sample_id": "0.2"
         },
         {
          "BiGG_ID": "GLCptspp",
          "ID": "PTS_4",
          "author": "Millard",
          "flux": 0.39999999999998864,
          "normalized_flux": 100.00000000000004,
          "sample_id": "0.2"
         },
         {
          "BiGG_ID": "PGI",
          "ID": "PGI",
          "author": "Millard",
          "flux": 0.5824680072873105,
          "normalized_flux": 85.66818377401863,
          "sample_id": "0.4"
         },
         {
          "BiGG_ID": "PFK",
          "ID": "PFK",
          "author": "Millard",
          "flux": 0.5629145290739332,
          "normalized_flux": 82.79229884291956,
          "sample_id": "0.4"
         },
         {
          "BiGG_ID": "FBA",
          "ID": "FBA",
          "author": "Millard",
          "flux": 0.5628114449238582,
          "normalized_flux": 82.77713744040074,
          "sample_id": "0.4"
         },
         {
          "BiGG_ID": "GAPD",
          "ID": "GDH",
          "author": "Millard",
          "flux": 1.1358798386840545,
          "normalized_flux": 167.0628455952076,
          "sample_id": "0.4"
         },
         {
          "BiGG_ID": "PGK",
          "ID": "PGK",
          "author": "Millard",
          "flux": 1.1358798553626523,
          "normalized_flux": 167.06284804826112,
          "sample_id": "0.4"
         },
         {
          "BiGG_ID": "PGM",
          "ID": "GPM",
          "author": "Millard",
          "flux": 1.0399668211411135,
          "normalized_flux": 152.95615834305036,
          "sample_id": "0.4"
         },
         {
          "BiGG_ID": "ENO",
          "ID": "ENO",
          "author": "Millard",
          "flux": 1.0399668425149144,
          "normalized_flux": 152.95616148666457,
          "sample_id": "0.4"
         },
         {
          "BiGG_ID": "PYK",
          "ID": "PYK",
          "author": "Millard",
          "flux": 0.14702091324290056,
          "normalized_flux": 21.623530317098062,
          "sample_id": "0.4"
         },
         {
          "BiGG_ID": "G6PDH2r",
          "ID": "ZWF",
          "author": "Millard",
          "flux": 0.08413129410932645,
          "normalized_flux": 12.373855859432036,
          "sample_id": "0.4"
         },
         {
          "BiGG_ID": "GND",
          "ID": "GND",
          "author": "Millard",
          "flux": 0.046452420636450185,
          "normalized_flux": 6.832125469628564,
          "sample_id": "0.4"
         },
         {
          "BiGG_ID": "RPE",
          "ID": "RPE",
          "author": "Millard",
          "flux": -0.015115528656435713,
          "normalized_flux": -2.2231605351368975,
          "sample_id": "0.4"
         },
         {
          "BiGG_ID": "RPI",
          "ID": "RPI",
          "author": "Millard",
          "flux": 0.06156774549377068,
          "normalized_flux": 9.055256030415219,
          "sample_id": "0.4"
         },
         {
          "BiGG_ID": "TKT1",
          "ID": "X5P_GAP_TKT",
          "author": "Millard",
          "flux": -0.015115829778794691,
          "normalized_flux": -2.223204823587533,
          "sample_id": "0.4"
         },
         {
          "BiGG_ID": "TKT1",
          "ID": "F6P_E4P_TKT",
          "author": "Millard",
          "flux": -0.019135687411782263,
          "normalized_flux": -2.8144371284346272,
          "sample_id": "0.4"
         },
         {
          "BiGG_ID": "TKT1",
          "ID": "S7P_R5P_TKT",
          "author": "Millard",
          "flux": 0.0040198156522320855,
          "normalized_flux": 0.5912261304048402,
          "sample_id": "0.4"
         },
         {
          "BiGG_ID": "TALA",
          "ID": "F6P_GAP_TAL",
          "author": "Millard",
          "flux": 0.00401967725175405,
          "normalized_flux": 0.5912057747502147,
          "sample_id": "0.4"
         },
         {
          "BiGG_ID": "TALA",
          "ID": "S7P_E4P_TAL",
          "author": "Millard",
          "flux": 0.0040197183276474355,
          "normalized_flux": 0.5912118161072322,
          "sample_id": "0.4"
         },
         {
          "BiGG_ID": "PPC",
          "ID": "PPC",
          "author": "Millard",
          "flux": 0.2458094707491357,
          "normalized_flux": 36.15314600986151,
          "sample_id": "0.4"
         },
         {
          "BiGG_ID": "PDH",
          "ID": "PDH",
          "author": "Millard",
          "flux": 0.6897184149956269,
          "normalized_flux": 101.44235080541472,
          "sample_id": "0.4"
         },
         {
          "BiGG_ID": "CS",
          "ID": "GLT",
          "author": "Millard",
          "flux": 0.4383674535292458,
          "normalized_flux": 64.47417385959173,
          "sample_id": "0.4"
         },
         {
          "BiGG_ID": "ICDHyr",
          "ID": "ICD",
          "author": "Millard",
          "flux": 0.427428344371116,
          "normalized_flux": 62.865272423018126,
          "sample_id": "0.4"
         },
         {
          "BiGG_ID": "AKGDH",
          "ID": "LPD",
          "author": "Millard",
          "flux": 0.3581893232731504,
          "normalized_flux": 52.68174112251216,
          "sample_id": "0.4"
         },
         {
          "BiGG_ID": "SUCDi",
          "ID": "SDH",
          "author": "Millard",
          "flux": 0.3691245805841997,
          "normalized_flux": 54.29007603742374,
          "sample_id": "0.4"
         },
         {
          "BiGG_ID": "FUM",
          "ID": "FUMA",
          "author": "Millard",
          "flux": 0.3691246039136635,
          "normalized_flux": 54.290079468672765,
          "sample_id": "0.4"
         },
         {
          "BiGG_ID": "MDH",
          "ID": "MQO",
          "author": "Millard",
          "flux": 0.37304344779571563,
          "normalized_flux": 54.8664548810029,
          "sample_id": "0.4"
         },
         {
          "BiGG_ID": "MDH",
          "ID": "MDH",
          "author": "Millard",
          "flux": 0.37304344779571563,
          "normalized_flux": 54.8664548810029,
          "sample_id": "0.4"
         },
         {
          "BiGG_ID": "ICL",
          "ID": "ACEA",
          "author": "Millard",
          "flux": 0.010938788329371328,
          "normalized_flux": 1.6088542497466862,
          "sample_id": "0.4"
         },
         {
          "BiGG_ID": "ACKr",
          "ID": "ACK",
          "author": "Millard",
          "flux": 0.08522692761078336,
          "normalized_flux": 12.53499935740528,
          "sample_id": "0.4"
         },
         {
          "BiGG_ID": "PTAr",
          "ID": "PTA",
          "author": "Millard",
          "flux": 0.08522694407277845,
          "normalized_flux": 12.5350017786013,
          "sample_id": "0.4"
         },
         {
          "BiGG_ID": "GLCptspp",
          "ID": "PTS_0",
          "author": "Millard",
          "flux": 0.6797670850561945,
          "normalized_flux": 99.9787298830957,
          "sample_id": "0.4"
         },
         {
          "BiGG_ID": "GLCptspp",
          "ID": "PTS_1",
          "author": "Millard",
          "flux": 0.6797670877525953,
          "normalized_flux": 99.9787302796767,
          "sample_id": "0.4"
         },
         {
          "BiGG_ID": "GLCptspp",
          "ID": "PTS_2",
          "author": "Millard",
          "flux": 0.6797671762817004,
          "normalized_flux": 99.97874330035346,
          "sample_id": "0.4"
         },
         {
          "BiGG_ID": "GLCptspp",
          "ID": "PTS_3",
          "author": "Millard",
          "flux": 0.6797671585503134,
          "normalized_flux": 99.97874069245793,
          "sample_id": "0.4"
         },
         {
          "BiGG_ID": "GLCptspp",
          "ID": "PTS_4",
          "author": "Millard",
          "flux": 0.6797670470147474,
          "normalized_flux": 99.97872428803872,
          "sample_id": "0.4"
         },
         {
          "BiGG_ID": "PGI",
          "ID": "PGI",
          "author": "Millard",
          "flux": 0.5824680072873105,
          "normalized_flux": 85.66818377401863,
          "sample_id": "0.6"
         },
         {
          "BiGG_ID": "PFK",
          "ID": "PFK",
          "author": "Millard",
          "flux": 0.5629145290739332,
          "normalized_flux": 82.79229884291956,
          "sample_id": "0.6"
         },
         {
          "BiGG_ID": "FBA",
          "ID": "FBA",
          "author": "Millard",
          "flux": 0.5628114449238582,
          "normalized_flux": 82.77713744040074,
          "sample_id": "0.6"
         },
         {
          "BiGG_ID": "GAPD",
          "ID": "GDH",
          "author": "Millard",
          "flux": 1.1358798386840545,
          "normalized_flux": 167.0628455952076,
          "sample_id": "0.6"
         },
         {
          "BiGG_ID": "PGK",
          "ID": "PGK",
          "author": "Millard",
          "flux": 1.1358798553626523,
          "normalized_flux": 167.06284804826112,
          "sample_id": "0.6"
         },
         {
          "BiGG_ID": "PGM",
          "ID": "GPM",
          "author": "Millard",
          "flux": 1.0399668211411135,
          "normalized_flux": 152.95615834305036,
          "sample_id": "0.6"
         },
         {
          "BiGG_ID": "ENO",
          "ID": "ENO",
          "author": "Millard",
          "flux": 1.0399668425149144,
          "normalized_flux": 152.95616148666457,
          "sample_id": "0.6"
         },
         {
          "BiGG_ID": "PYK",
          "ID": "PYK",
          "author": "Millard",
          "flux": 0.14702091324290056,
          "normalized_flux": 21.623530317098062,
          "sample_id": "0.6"
         },
         {
          "BiGG_ID": "G6PDH2r",
          "ID": "ZWF",
          "author": "Millard",
          "flux": 0.08413129410932645,
          "normalized_flux": 12.373855859432036,
          "sample_id": "0.6"
         },
         {
          "BiGG_ID": "GND",
          "ID": "GND",
          "author": "Millard",
          "flux": 0.046452420636450185,
          "normalized_flux": 6.832125469628564,
          "sample_id": "0.6"
         },
         {
          "BiGG_ID": "RPE",
          "ID": "RPE",
          "author": "Millard",
          "flux": -0.015115528656435713,
          "normalized_flux": -2.2231605351368975,
          "sample_id": "0.6"
         },
         {
          "BiGG_ID": "RPI",
          "ID": "RPI",
          "author": "Millard",
          "flux": 0.06156774549377068,
          "normalized_flux": 9.055256030415219,
          "sample_id": "0.6"
         },
         {
          "BiGG_ID": "TKT1",
          "ID": "X5P_GAP_TKT",
          "author": "Millard",
          "flux": -0.015115829778794691,
          "normalized_flux": -2.223204823587533,
          "sample_id": "0.6"
         },
         {
          "BiGG_ID": "TKT1",
          "ID": "F6P_E4P_TKT",
          "author": "Millard",
          "flux": -0.019135687411782263,
          "normalized_flux": -2.8144371284346272,
          "sample_id": "0.6"
         },
         {
          "BiGG_ID": "TKT1",
          "ID": "S7P_R5P_TKT",
          "author": "Millard",
          "flux": 0.0040198156522320855,
          "normalized_flux": 0.5912261304048402,
          "sample_id": "0.6"
         },
         {
          "BiGG_ID": "TALA",
          "ID": "F6P_GAP_TAL",
          "author": "Millard",
          "flux": 0.00401967725175405,
          "normalized_flux": 0.5912057747502147,
          "sample_id": "0.6"
         },
         {
          "BiGG_ID": "TALA",
          "ID": "S7P_E4P_TAL",
          "author": "Millard",
          "flux": 0.0040197183276474355,
          "normalized_flux": 0.5912118161072322,
          "sample_id": "0.6"
         },
         {
          "BiGG_ID": "PPC",
          "ID": "PPC",
          "author": "Millard",
          "flux": 0.2458094707491357,
          "normalized_flux": 36.15314600986151,
          "sample_id": "0.6"
         },
         {
          "BiGG_ID": "PDH",
          "ID": "PDH",
          "author": "Millard",
          "flux": 0.6897184149956269,
          "normalized_flux": 101.44235080541472,
          "sample_id": "0.6"
         },
         {
          "BiGG_ID": "CS",
          "ID": "GLT",
          "author": "Millard",
          "flux": 0.4383674535292458,
          "normalized_flux": 64.47417385959173,
          "sample_id": "0.6"
         },
         {
          "BiGG_ID": "ICDHyr",
          "ID": "ICD",
          "author": "Millard",
          "flux": 0.427428344371116,
          "normalized_flux": 62.865272423018126,
          "sample_id": "0.6"
         },
         {
          "BiGG_ID": "AKGDH",
          "ID": "LPD",
          "author": "Millard",
          "flux": 0.3581893232731504,
          "normalized_flux": 52.68174112251216,
          "sample_id": "0.6"
         },
         {
          "BiGG_ID": "SUCDi",
          "ID": "SDH",
          "author": "Millard",
          "flux": 0.3691245805841997,
          "normalized_flux": 54.29007603742374,
          "sample_id": "0.6"
         },
         {
          "BiGG_ID": "FUM",
          "ID": "FUMA",
          "author": "Millard",
          "flux": 0.3691246039136635,
          "normalized_flux": 54.290079468672765,
          "sample_id": "0.6"
         },
         {
          "BiGG_ID": "MDH",
          "ID": "MQO",
          "author": "Millard",
          "flux": 0.37304344779571563,
          "normalized_flux": 54.8664548810029,
          "sample_id": "0.6"
         },
         {
          "BiGG_ID": "MDH",
          "ID": "MDH",
          "author": "Millard",
          "flux": 0.37304344779571563,
          "normalized_flux": 54.8664548810029,
          "sample_id": "0.6"
         },
         {
          "BiGG_ID": "ICL",
          "ID": "ACEA",
          "author": "Millard",
          "flux": 0.010938788329371328,
          "normalized_flux": 1.6088542497466862,
          "sample_id": "0.6"
         },
         {
          "BiGG_ID": "ACKr",
          "ID": "ACK",
          "author": "Millard",
          "flux": 0.08522692761078336,
          "normalized_flux": 12.53499935740528,
          "sample_id": "0.6"
         },
         {
          "BiGG_ID": "PTAr",
          "ID": "PTA",
          "author": "Millard",
          "flux": 0.08522694407277845,
          "normalized_flux": 12.5350017786013,
          "sample_id": "0.6"
         },
         {
          "BiGG_ID": "GLCptspp",
          "ID": "PTS_0",
          "author": "Millard",
          "flux": 0.6797670850561945,
          "normalized_flux": 99.9787298830957,
          "sample_id": "0.6"
         },
         {
          "BiGG_ID": "GLCptspp",
          "ID": "PTS_1",
          "author": "Millard",
          "flux": 0.6797670877525953,
          "normalized_flux": 99.9787302796767,
          "sample_id": "0.6"
         },
         {
          "BiGG_ID": "GLCptspp",
          "ID": "PTS_2",
          "author": "Millard",
          "flux": 0.6797671762817004,
          "normalized_flux": 99.97874330035346,
          "sample_id": "0.6"
         },
         {
          "BiGG_ID": "GLCptspp",
          "ID": "PTS_3",
          "author": "Millard",
          "flux": 0.6797671585503134,
          "normalized_flux": 99.97874069245793,
          "sample_id": "0.6"
         },
         {
          "BiGG_ID": "GLCptspp",
          "ID": "PTS_4",
          "author": "Millard",
          "flux": 0.6797670470147474,
          "normalized_flux": 99.97872428803872,
          "sample_id": "0.6"
         },
         {
          "BiGG_ID": "PGI",
          "ID": "PGI",
          "author": "Millard",
          "flux": 0.5824680072873105,
          "normalized_flux": 85.66818377401863,
          "sample_id": "0.7"
         },
         {
          "BiGG_ID": "PFK",
          "ID": "PFK",
          "author": "Millard",
          "flux": 0.5629145290739332,
          "normalized_flux": 82.79229884291956,
          "sample_id": "0.7"
         },
         {
          "BiGG_ID": "FBA",
          "ID": "FBA",
          "author": "Millard",
          "flux": 0.5628114449238582,
          "normalized_flux": 82.77713744040074,
          "sample_id": "0.7"
         },
         {
          "BiGG_ID": "GAPD",
          "ID": "GDH",
          "author": "Millard",
          "flux": 1.1358798386840545,
          "normalized_flux": 167.0628455952076,
          "sample_id": "0.7"
         },
         {
          "BiGG_ID": "PGK",
          "ID": "PGK",
          "author": "Millard",
          "flux": 1.1358798553626523,
          "normalized_flux": 167.06284804826112,
          "sample_id": "0.7"
         },
         {
          "BiGG_ID": "PGM",
          "ID": "GPM",
          "author": "Millard",
          "flux": 1.0399668211411135,
          "normalized_flux": 152.95615834305036,
          "sample_id": "0.7"
         },
         {
          "BiGG_ID": "ENO",
          "ID": "ENO",
          "author": "Millard",
          "flux": 1.0399668425149144,
          "normalized_flux": 152.95616148666457,
          "sample_id": "0.7"
         },
         {
          "BiGG_ID": "PYK",
          "ID": "PYK",
          "author": "Millard",
          "flux": 0.14702091324290056,
          "normalized_flux": 21.623530317098062,
          "sample_id": "0.7"
         },
         {
          "BiGG_ID": "G6PDH2r",
          "ID": "ZWF",
          "author": "Millard",
          "flux": 0.08413129410932645,
          "normalized_flux": 12.373855859432036,
          "sample_id": "0.7"
         },
         {
          "BiGG_ID": "GND",
          "ID": "GND",
          "author": "Millard",
          "flux": 0.046452420636450185,
          "normalized_flux": 6.832125469628564,
          "sample_id": "0.7"
         },
         {
          "BiGG_ID": "RPE",
          "ID": "RPE",
          "author": "Millard",
          "flux": -0.015115528656435713,
          "normalized_flux": -2.2231605351368975,
          "sample_id": "0.7"
         },
         {
          "BiGG_ID": "RPI",
          "ID": "RPI",
          "author": "Millard",
          "flux": 0.06156774549377068,
          "normalized_flux": 9.055256030415219,
          "sample_id": "0.7"
         },
         {
          "BiGG_ID": "TKT1",
          "ID": "X5P_GAP_TKT",
          "author": "Millard",
          "flux": -0.015115829778794691,
          "normalized_flux": -2.223204823587533,
          "sample_id": "0.7"
         },
         {
          "BiGG_ID": "TKT1",
          "ID": "F6P_E4P_TKT",
          "author": "Millard",
          "flux": -0.019135687411782263,
          "normalized_flux": -2.8144371284346272,
          "sample_id": "0.7"
         },
         {
          "BiGG_ID": "TKT1",
          "ID": "S7P_R5P_TKT",
          "author": "Millard",
          "flux": 0.0040198156522320855,
          "normalized_flux": 0.5912261304048402,
          "sample_id": "0.7"
         },
         {
          "BiGG_ID": "TALA",
          "ID": "F6P_GAP_TAL",
          "author": "Millard",
          "flux": 0.00401967725175405,
          "normalized_flux": 0.5912057747502147,
          "sample_id": "0.7"
         },
         {
          "BiGG_ID": "TALA",
          "ID": "S7P_E4P_TAL",
          "author": "Millard",
          "flux": 0.0040197183276474355,
          "normalized_flux": 0.5912118161072322,
          "sample_id": "0.7"
         },
         {
          "BiGG_ID": "PPC",
          "ID": "PPC",
          "author": "Millard",
          "flux": 0.2458094707491357,
          "normalized_flux": 36.15314600986151,
          "sample_id": "0.7"
         },
         {
          "BiGG_ID": "PDH",
          "ID": "PDH",
          "author": "Millard",
          "flux": 0.6897184149956269,
          "normalized_flux": 101.44235080541472,
          "sample_id": "0.7"
         },
         {
          "BiGG_ID": "CS",
          "ID": "GLT",
          "author": "Millard",
          "flux": 0.4383674535292458,
          "normalized_flux": 64.47417385959173,
          "sample_id": "0.7"
         },
         {
          "BiGG_ID": "ICDHyr",
          "ID": "ICD",
          "author": "Millard",
          "flux": 0.427428344371116,
          "normalized_flux": 62.865272423018126,
          "sample_id": "0.7"
         },
         {
          "BiGG_ID": "AKGDH",
          "ID": "LPD",
          "author": "Millard",
          "flux": 0.3581893232731504,
          "normalized_flux": 52.68174112251216,
          "sample_id": "0.7"
         },
         {
          "BiGG_ID": "SUCDi",
          "ID": "SDH",
          "author": "Millard",
          "flux": 0.3691245805841997,
          "normalized_flux": 54.29007603742374,
          "sample_id": "0.7"
         },
         {
          "BiGG_ID": "FUM",
          "ID": "FUMA",
          "author": "Millard",
          "flux": 0.3691246039136635,
          "normalized_flux": 54.290079468672765,
          "sample_id": "0.7"
         },
         {
          "BiGG_ID": "MDH",
          "ID": "MQO",
          "author": "Millard",
          "flux": 0.37304344779571563,
          "normalized_flux": 54.8664548810029,
          "sample_id": "0.7"
         },
         {
          "BiGG_ID": "MDH",
          "ID": "MDH",
          "author": "Millard",
          "flux": 0.37304344779571563,
          "normalized_flux": 54.8664548810029,
          "sample_id": "0.7"
         },
         {
          "BiGG_ID": "ICL",
          "ID": "ACEA",
          "author": "Millard",
          "flux": 0.010938788329371328,
          "normalized_flux": 1.6088542497466862,
          "sample_id": "0.7"
         },
         {
          "BiGG_ID": "ACKr",
          "ID": "ACK",
          "author": "Millard",
          "flux": 0.08522692761078336,
          "normalized_flux": 12.53499935740528,
          "sample_id": "0.7"
         },
         {
          "BiGG_ID": "PTAr",
          "ID": "PTA",
          "author": "Millard",
          "flux": 0.08522694407277845,
          "normalized_flux": 12.5350017786013,
          "sample_id": "0.7"
         },
         {
          "BiGG_ID": "GLCptspp",
          "ID": "PTS_0",
          "author": "Millard",
          "flux": 0.6797670850561945,
          "normalized_flux": 99.9787298830957,
          "sample_id": "0.7"
         },
         {
          "BiGG_ID": "GLCptspp",
          "ID": "PTS_1",
          "author": "Millard",
          "flux": 0.6797670877525953,
          "normalized_flux": 99.9787302796767,
          "sample_id": "0.7"
         },
         {
          "BiGG_ID": "GLCptspp",
          "ID": "PTS_2",
          "author": "Millard",
          "flux": 0.6797671762817004,
          "normalized_flux": 99.97874330035346,
          "sample_id": "0.7"
         },
         {
          "BiGG_ID": "GLCptspp",
          "ID": "PTS_3",
          "author": "Millard",
          "flux": 0.6797671585503134,
          "normalized_flux": 99.97874069245793,
          "sample_id": "0.7"
         },
         {
          "BiGG_ID": "GLCptspp",
          "ID": "PTS_4",
          "author": "Millard",
          "flux": 0.6797670470147474,
          "normalized_flux": 99.97872428803872,
          "sample_id": "0.7"
         },
         {
          "BiGG_ID": "GLCptspp",
          "ID": "GLCptspp",
          "author": "Yao",
          "flux": 3.07,
          "normalized_flux": 100,
          "sample_id": "0.2"
         },
         {
          "BiGG_ID": "PGI",
          "ID": "PGI",
          "author": "Yao",
          "flux": 2.73,
          "normalized_flux": 88.92508143322476,
          "sample_id": "0.2"
         },
         {
          "BiGG_ID": "PFK",
          "ID": "PFK+FBA",
          "author": "Yao",
          "flux": 2.81,
          "normalized_flux": 91.53094462540717,
          "sample_id": "0.2"
         },
         {
          "BiGG_ID": "FBA",
          "ID": "PFK+FBA",
          "author": "Yao",
          "flux": 2.81,
          "normalized_flux": 91.53094462540717,
          "sample_id": "0.2"
         },
         {
          "BiGG_ID": "GAPD",
          "ID": "GAPD+PGK",
          "author": "Yao",
          "flux": 5.6,
          "normalized_flux": 182.41042345276873,
          "sample_id": "0.2"
         },
         {
          "BiGG_ID": "PGK",
          "ID": "GAPD+PGK",
          "author": "Yao",
          "flux": 5.6,
          "normalized_flux": 182.41042345276873,
          "sample_id": "0.2"
         },
         {
          "BiGG_ID": "PGM",
          "ID": "PGM+ENO",
          "author": "Yao",
          "flux": 5.09,
          "normalized_flux": 165.79804560260587,
          "sample_id": "0.2"
         },
         {
          "BiGG_ID": "ENO",
          "ID": "PGM+ENO",
          "author": "Yao",
          "flux": 5.09,
          "normalized_flux": 165.79804560260587,
          "sample_id": "0.2"
         },
         {
          "BiGG_ID": "PYK",
          "ID": "PYK",
          "author": "Yao",
          "flux": 4.59,
          "normalized_flux": 149.5114006514658,
          "sample_id": "0.2"
         },
         {
          "BiGG_ID": "PDH",
          "ID": "PDH",
          "author": "Yao",
          "flux": 3.88,
          "normalized_flux": 126.38436482084691,
          "sample_id": "0.2"
         },
         {
          "BiGG_ID": "PTAr",
          "ID": "PTAr+ACKr",
          "author": "Yao",
          "flux": 0,
          "normalized_flux": 0,
          "sample_id": "0.2"
         },
         {
          "BiGG_ID": "ACKr",
          "ID": "PTAr+ACKr",
          "author": "Yao",
          "flux": 0,
          "normalized_flux": 0,
          "sample_id": "0.2"
         },
         {
          "BiGG_ID": "PPC",
          "ID": "PPC",
          "author": "Yao",
          "flux": 0.31,
          "normalized_flux": 10.097719869706841,
          "sample_id": "0.2"
         },
         {
          "BiGG_ID": "CS",
          "ID": "CS",
          "author": "Yao",
          "flux": 3.01,
          "normalized_flux": 98.0456026058632,
          "sample_id": "0.2"
         },
         {
          "BiGG_ID": "ICDHyr",
          "ID": "ICDHyr",
          "author": "Yao",
          "flux": 2.64,
          "normalized_flux": 85.99348534201955,
          "sample_id": "0.2"
         },
         {
          "BiGG_ID": "AKGDH",
          "ID": "AKGDH",
          "author": "Yao",
          "flux": 2.32,
          "normalized_flux": 75.57003257328991,
          "sample_id": "0.2"
         },
         {
          "BiGG_ID": "SUCDi",
          "ID": "SUCDi",
          "author": "Yao",
          "flux": 2.69,
          "normalized_flux": 87.62214983713356,
          "sample_id": "0.2"
         },
         {
          "BiGG_ID": "FUM",
          "ID": "FUM",
          "author": "Yao",
          "flux": 2.69,
          "normalized_flux": 87.62214983713356,
          "sample_id": "0.2"
         },
         {
          "BiGG_ID": "ICL",
          "ID": "ICL",
          "author": "Yao",
          "flux": 0.37,
          "normalized_flux": 12.052117263843648,
          "sample_id": "0.2"
         },
         {
          "BiGG_ID": "MDH",
          "ID": "MDH",
          "author": "Yao",
          "flux": 3.06,
          "normalized_flux": 99.6742671009772,
          "sample_id": "0.2"
         },
         {
          "BiGG_ID": "G6PDH2r",
          "ID": "G6PDH2r",
          "author": "Yao",
          "flux": 0.31,
          "normalized_flux": 10.097719869706841,
          "sample_id": "0.2"
         },
         {
          "BiGG_ID": "GND",
          "ID": "GND",
          "author": "Yao",
          "flux": 0.31,
          "normalized_flux": 10.097719869706841,
          "sample_id": "0.2"
         },
         {
          "BiGG_ID": "RPE",
          "ID": "RPE",
          "author": "Yao",
          "flux": 0.09,
          "normalized_flux": 2.9315960912052117,
          "sample_id": "0.2"
         },
         {
          "BiGG_ID": "RPI",
          "ID": "RPI",
          "author": "Yao",
          "flux": 0.22,
          "normalized_flux": 7.166123778501629,
          "sample_id": "0.2"
         },
         {
          "BiGG_ID": "TKT1",
          "ID": "TKT1",
          "author": "Yao",
          "flux": 0.09,
          "normalized_flux": 2.9315960912052117,
          "sample_id": "0.2"
         },
         {
          "BiGG_ID": "TALA",
          "ID": "TALA",
          "author": "Yao",
          "flux": 0.09,
          "normalized_flux": 2.9315960912052117,
          "sample_id": "0.2"
         },
         {
          "BiGG_ID": "GLCptspp",
          "ID": "GLCptspp",
          "author": "Yao",
          "flux": 4.75,
          "normalized_flux": 100,
          "sample_id": "0.4"
         },
         {
          "BiGG_ID": "PGI",
          "ID": "PGI",
          "author": "Yao",
          "flux": 3.86,
          "normalized_flux": 81.26315789473684,
          "sample_id": "0.4"
         },
         {
          "BiGG_ID": "PFK",
          "ID": "PFK+FBA",
          "author": "Yao",
          "flux": 4.16,
          "normalized_flux": 87.57894736842105,
          "sample_id": "0.4"
         },
         {
          "BiGG_ID": "FBA",
          "ID": "PFK+FBA",
          "author": "Yao",
          "flux": 4.16,
          "normalized_flux": 87.57894736842105,
          "sample_id": "0.4"
         },
         {
          "BiGG_ID": "GAPD",
          "ID": "GAPD+PGK",
          "author": "Yao",
          "flux": 8.35,
          "normalized_flux": 175.78947368421052,
          "sample_id": "0.4"
         },
         {
          "BiGG_ID": "PGK",
          "ID": "GAPD+PGK",
          "author": "Yao",
          "flux": 8.35,
          "normalized_flux": 175.78947368421052,
          "sample_id": "0.4"
         },
         {
          "BiGG_ID": "PGM",
          "ID": "PGM+ENO",
          "author": "Yao",
          "flux": 7.34,
          "normalized_flux": 154.5263157894737,
          "sample_id": "0.4"
         },
         {
          "BiGG_ID": "ENO",
          "ID": "PGM+ENO",
          "author": "Yao",
          "flux": 7.34,
          "normalized_flux": 154.5263157894737,
          "sample_id": "0.4"
         },
         {
          "BiGG_ID": "PYK",
          "ID": "PYK",
          "author": "Yao",
          "flux": 5.61,
          "normalized_flux": 118.10526315789474,
          "sample_id": "0.4"
         },
         {
          "BiGG_ID": "PDH",
          "ID": "PDH",
          "author": "Yao",
          "flux": 4.2,
          "normalized_flux": 88.42105263157896,
          "sample_id": "0.4"
         },
         {
          "BiGG_ID": "PTAr",
          "ID": "PTAr+ACKr",
          "author": "Yao",
          "flux": 0.01,
          "normalized_flux": 0.21052631578947367,
          "sample_id": "0.4"
         },
         {
          "BiGG_ID": "ACKr",
          "ID": "PTAr+ACKr",
          "author": "Yao",
          "flux": 0.01,
          "normalized_flux": 0.21052631578947367,
          "sample_id": "0.4"
         },
         {
          "BiGG_ID": "PPC",
          "ID": "PPC",
          "author": "Yao",
          "flux": 1.35,
          "normalized_flux": 28.421052631578945,
          "sample_id": "0.4"
         },
         {
          "BiGG_ID": "CS",
          "ID": "CS",
          "author": "Yao",
          "flux": 3.21,
          "normalized_flux": 67.57894736842105,
          "sample_id": "0.4"
         },
         {
          "BiGG_ID": "ICDHyr",
          "ID": "ICDHyr",
          "author": "Yao",
          "flux": 3.21,
          "normalized_flux": 67.57894736842105,
          "sample_id": "0.4"
         },
         {
          "BiGG_ID": "AKGDH",
          "ID": "AKGDH",
          "author": "Yao",
          "flux": 2.58,
          "normalized_flux": 54.31578947368422,
          "sample_id": "0.4"
         },
         {
          "BiGG_ID": "SUCDi",
          "ID": "SUCDi",
          "author": "Yao",
          "flux": 2.58,
          "normalized_flux": 54.31578947368422,
          "sample_id": "0.4"
         },
         {
          "BiGG_ID": "FUM",
          "ID": "FUM",
          "author": "Yao",
          "flux": 2.58,
          "normalized_flux": 54.31578947368422,
          "sample_id": "0.4"
         },
         {
          "BiGG_ID": "ICL",
          "ID": "ICL",
          "author": "Yao",
          "flux": 0,
          "normalized_flux": 0,
          "sample_id": "0.4"
         },
         {
          "BiGG_ID": "MDH",
          "ID": "MDH",
          "author": "Yao",
          "flux": 2.57,
          "normalized_flux": 54.10526315789473,
          "sample_id": "0.4"
         },
         {
          "BiGG_ID": "G6PDH2r",
          "ID": "G6PDH2r",
          "author": "Yao",
          "flux": 0.82,
          "normalized_flux": 17.263157894736842,
          "sample_id": "0.4"
         },
         {
          "BiGG_ID": "GND",
          "ID": "GND",
          "author": "Yao",
          "flux": 0.82,
          "normalized_flux": 17.263157894736842,
          "sample_id": "0.4"
         },
         {
          "BiGG_ID": "RPE",
          "ID": "RPE",
          "author": "Yao",
          "flux": 0.33,
          "normalized_flux": 6.947368421052631,
          "sample_id": "0.4"
         },
         {
          "BiGG_ID": "RPI",
          "ID": "RPI",
          "author": "Yao",
          "flux": 0.5,
          "normalized_flux": 10.526315789473683,
          "sample_id": "0.4"
         },
         {
          "BiGG_ID": "TKT1",
          "ID": "TKT1",
          "author": "Yao",
          "flux": 0.25,
          "normalized_flux": 5.263157894736842,
          "sample_id": "0.4"
         },
         {
          "BiGG_ID": "TALA",
          "ID": "TALA",
          "author": "Yao",
          "flux": 0.25,
          "normalized_flux": 5.263157894736842,
          "sample_id": "0.4"
         },
         {
          "BiGG_ID": "GLCptspp",
          "ID": "GLCptspp",
          "author": "Yao",
          "flux": 6.67,
          "normalized_flux": 100,
          "sample_id": "0.6"
         },
         {
          "BiGG_ID": "PGI",
          "ID": "PGI",
          "author": "Yao",
          "flux": 5.69,
          "normalized_flux": 85.30734632683658,
          "sample_id": "0.6"
         },
         {
          "BiGG_ID": "PFK",
          "ID": "PFK+FBA",
          "author": "Yao",
          "flux": 5.91,
          "normalized_flux": 88.6056971514243,
          "sample_id": "0.6"
         },
         {
          "BiGG_ID": "FBA",
          "ID": "PFK+FBA",
          "author": "Yao",
          "flux": 5.91,
          "normalized_flux": 88.6056971514243,
          "sample_id": "0.6"
         },
         {
          "BiGG_ID": "GAPD",
          "ID": "GAPD+PGK",
          "author": "Yao",
          "flux": 11.76,
          "normalized_flux": 176.311844077961,
          "sample_id": "0.6"
         },
         {
          "BiGG_ID": "PGK",
          "ID": "GAPD+PGK",
          "author": "Yao",
          "flux": 11.76,
          "normalized_flux": 176.311844077961,
          "sample_id": "0.6"
         },
         {
          "BiGG_ID": "PGM",
          "ID": "PGM+ENO",
          "author": "Yao",
          "flux": 10.27,
          "normalized_flux": 153.97301349325338,
          "sample_id": "0.6"
         },
         {
          "BiGG_ID": "ENO",
          "ID": "PGM+ENO",
          "author": "Yao",
          "flux": 10.27,
          "normalized_flux": 153.97301349325338,
          "sample_id": "0.6"
         },
         {
          "BiGG_ID": "PYK",
          "ID": "PYK",
          "author": "Yao",
          "flux": 7.56,
          "normalized_flux": 113.34332833583207,
          "sample_id": "0.6"
         },
         {
          "BiGG_ID": "PDH",
          "ID": "PDH",
          "author": "Yao",
          "flux": 5.68,
          "normalized_flux": 85.15742128935531,
          "sample_id": "0.6"
         },
         {
          "BiGG_ID": "PTAr",
          "ID": "PTAr+ACKr",
          "author": "Yao",
          "flux": 0.88,
          "normalized_flux": 13.193403298350825,
          "sample_id": "0.6"
         },
         {
          "BiGG_ID": "ACKr",
          "ID": "PTAr+ACKr",
          "author": "Yao",
          "flux": 0.88,
          "normalized_flux": 13.193403298350825,
          "sample_id": "0.6"
         },
         {
          "BiGG_ID": "PPC",
          "ID": "PPC",
          "author": "Yao",
          "flux": 2.17,
          "normalized_flux": 32.53373313343329,
          "sample_id": "0.6"
         },
         {
          "BiGG_ID": "CS",
          "ID": "CS",
          "author": "Yao",
          "flux": 3.35,
          "normalized_flux": 50.22488755622189,
          "sample_id": "0.6"
         },
         {
          "BiGG_ID": "ICDHyr",
          "ID": "ICDHyr",
          "author": "Yao",
          "flux": 3.35,
          "normalized_flux": 50.22488755622189,
          "sample_id": "0.6"
         },
         {
          "BiGG_ID": "AKGDH",
          "ID": "AKGDH",
          "author": "Yao",
          "flux": 2.43,
          "normalized_flux": 36.43178410794603,
          "sample_id": "0.6"
         },
         {
          "BiGG_ID": "SUCDi",
          "ID": "SUCDi",
          "author": "Yao",
          "flux": 2.43,
          "normalized_flux": 36.43178410794603,
          "sample_id": "0.6"
         },
         {
          "BiGG_ID": "FUM",
          "ID": "FUM",
          "author": "Yao",
          "flux": 2.43,
          "normalized_flux": 36.43178410794603,
          "sample_id": "0.6"
         },
         {
          "BiGG_ID": "ICL",
          "ID": "ICL",
          "author": "Yao",
          "flux": 0,
          "normalized_flux": 0,
          "sample_id": "0.6"
         },
         {
          "BiGG_ID": "MDH",
          "ID": "MDH",
          "author": "Yao",
          "flux": 2.23,
          "normalized_flux": 33.43328335832084,
          "sample_id": "0.6"
         },
         {
          "BiGG_ID": "G6PDH2r",
          "ID": "G6PDH2r",
          "author": "Yao",
          "flux": 0.88,
          "normalized_flux": 13.193403298350825,
          "sample_id": "0.6"
         },
         {
          "BiGG_ID": "GND",
          "ID": "GND",
          "author": "Yao",
          "flux": 0.88,
          "normalized_flux": 13.193403298350825,
          "sample_id": "0.6"
         },
         {
          "BiGG_ID": "RPE",
          "ID": "RPE",
          "author": "Yao",
          "flux": 0.26,
          "normalized_flux": 3.8980509745127434,
          "sample_id": "0.6"
         },
         {
          "BiGG_ID": "RPI",
          "ID": "RPI",
          "author": "Yao",
          "flux": 0.62,
          "normalized_flux": 9.295352323838081,
          "sample_id": "0.6"
         },
         {
          "BiGG_ID": "TKT1",
          "ID": "TKT1",
          "author": "Yao",
          "flux": 0.26,
          "normalized_flux": 3.8980509745127434,
          "sample_id": "0.6"
         },
         {
          "BiGG_ID": "TALA",
          "ID": "TALA",
          "author": "Yao",
          "flux": 0.26,
          "normalized_flux": 3.8980509745127434,
          "sample_id": "0.6"
         },
         {
          "BiGG_ID": "GLCptspp",
          "ID": "GLCptspp",
          "author": "Yao",
          "flux": 8.05,
          "normalized_flux": 100,
          "sample_id": "0.7"
         },
         {
          "BiGG_ID": "PGI",
          "ID": "PGI",
          "author": "Yao",
          "flux": 6.9,
          "normalized_flux": 85.71428571428571,
          "sample_id": "0.7"
         },
         {
          "BiGG_ID": "PFK",
          "ID": "PFK+FBA",
          "author": "Yao",
          "flux": 7.14,
          "normalized_flux": 88.69565217391303,
          "sample_id": "0.7"
         },
         {
          "BiGG_ID": "FBA",
          "ID": "PFK+FBA",
          "author": "Yao",
          "flux": 7.14,
          "normalized_flux": 88.69565217391303,
          "sample_id": "0.7"
         },
         {
          "BiGG_ID": "GAPD",
          "ID": "GAPD+PGK",
          "author": "Yao",
          "flux": 14.21,
          "normalized_flux": 176.52173913043478,
          "sample_id": "0.7"
         },
         {
          "BiGG_ID": "PGK",
          "ID": "GAPD+PGK",
          "author": "Yao",
          "flux": 14.21,
          "normalized_flux": 176.52173913043478,
          "sample_id": "0.7"
         },
         {
          "BiGG_ID": "PGM",
          "ID": "PGM+ENO",
          "author": "Yao",
          "flux": 12.44,
          "normalized_flux": 154.53416149068323,
          "sample_id": "0.7"
         },
         {
          "BiGG_ID": "ENO",
          "ID": "PGM+ENO",
          "author": "Yao",
          "flux": 12.44,
          "normalized_flux": 154.53416149068323,
          "sample_id": "0.7"
         },
         {
          "BiGG_ID": "PYK",
          "ID": "PYK",
          "author": "Yao",
          "flux": 9.21,
          "normalized_flux": 114.40993788819875,
          "sample_id": "0.7"
         },
         {
          "BiGG_ID": "PDH",
          "ID": "PDH",
          "author": "Yao",
          "flux": 7,
          "normalized_flux": 86.95652173913044,
          "sample_id": "0.7"
         },
         {
          "BiGG_ID": "PTAr",
          "ID": "PTAr+ACKr",
          "author": "Yao",
          "flux": 1.33,
          "normalized_flux": 16.52173913043478,
          "sample_id": "0.7"
         },
         {
          "BiGG_ID": "ACKr",
          "ID": "PTAr+ACKr",
          "author": "Yao",
          "flux": 1.33,
          "normalized_flux": 16.52173913043478,
          "sample_id": "0.7"
         },
         {
          "BiGG_ID": "PPC",
          "ID": "PPC",
          "author": "Yao",
          "flux": 2.57,
          "normalized_flux": 31.92546583850931,
          "sample_id": "0.7"
         },
         {
          "BiGG_ID": "CS",
          "ID": "CS",
          "author": "Yao",
          "flux": 3.88,
          "normalized_flux": 48.198757763975145,
          "sample_id": "0.7"
         },
         {
          "BiGG_ID": "ICDHyr",
          "ID": "ICDHyr",
          "author": "Yao",
          "flux": 3.88,
          "normalized_flux": 48.198757763975145,
          "sample_id": "0.7"
         },
         {
          "BiGG_ID": "AKGDH",
          "ID": "AKGDH",
          "author": "Yao",
          "flux": 2.79,
          "normalized_flux": 34.658385093167695,
          "sample_id": "0.7"
         },
         {
          "BiGG_ID": "SUCDi",
          "ID": "SUCDi",
          "author": "Yao",
          "flux": 2.79,
          "normalized_flux": 34.658385093167695,
          "sample_id": "0.7"
         },
         {
          "BiGG_ID": "FUM",
          "ID": "FUM",
          "author": "Yao",
          "flux": 2.79,
          "normalized_flux": 34.658385093167695,
          "sample_id": "0.7"
         },
         {
          "BiGG_ID": "ICL",
          "ID": "ICL",
          "author": "Yao",
          "flux": 0,
          "normalized_flux": 0,
          "sample_id": "0.7"
         },
         {
          "BiGG_ID": "MDH",
          "ID": "MDH",
          "author": "Yao",
          "flux": 2.56,
          "normalized_flux": 31.80124223602484,
          "sample_id": "0.7"
         },
         {
          "BiGG_ID": "G6PDH2r",
          "ID": "G6PDH2r",
          "author": "Yao",
          "flux": 1.06,
          "normalized_flux": 13.167701863354036,
          "sample_id": "0.7"
         },
         {
          "BiGG_ID": "GND",
          "ID": "GND",
          "author": "Yao",
          "flux": 1.06,
          "normalized_flux": 13.167701863354036,
          "sample_id": "0.7"
         },
         {
          "BiGG_ID": "RPE",
          "ID": "RPE",
          "author": "Yao",
          "flux": 0.3,
          "normalized_flux": 3.726708074534161,
          "sample_id": "0.7"
         },
         {
          "BiGG_ID": "RPI",
          "ID": "RPI",
          "author": "Yao",
          "flux": 0.73,
          "normalized_flux": 9.068322981366459,
          "sample_id": "0.7"
         },
         {
          "BiGG_ID": "TKT1",
          "ID": "TKT1",
          "author": "Yao",
          "flux": 0.3,
          "normalized_flux": 3.726708074534161,
          "sample_id": "0.7"
         },
         {
          "BiGG_ID": "TALA",
          "ID": "TALA",
          "author": "Yao",
          "flux": 0.3,
          "normalized_flux": 3.726708074534161,
          "sample_id": "0.7"
         }
        ]
       },
       "facet": {
        "column": {
         "field": "BiGG_ID",
         "type": "nominal"
        }
       },
       "spec": {
        "encoding": {
         "color": {
          "field": "author",
          "sort": [
           "Yao",
           "Khodayari",
           "Kurata",
           "Millard"
          ],
          "type": "nominal"
         },
         "tooltip": [
          {
           "field": "author",
           "type": "nominal"
          },
          {
           "field": "sample_id",
           "type": "nominal"
          },
          {
           "field": "normalized_flux",
           "type": "quantitative"
          }
         ],
         "x": {
          "field": "sample_id",
          "title": null,
          "type": "nominal"
         },
         "y": {
          "field": "normalized_flux",
          "title": "Normalized flux",
          "type": "quantitative"
         }
        },
        "mark": {
         "size": 100,
         "type": "circle"
        }
       }
      },
      "image/png": "[encoded data removed]",
      "text/plain": [
       "<VegaLite 2 object>\n",
       "\n",
       "If you see this message, it means the renderer has not been properly enabled\n",
       "for the frontend that you are using. For more information, see\n",
       "https://altair-viz.github.io/user_guide/troubleshooting.html\n"
      ]
     },
     "execution_count": 22,
     "metadata": {},
     "output_type": "execute_result"
    }
   ],
   "source": [
    "# put errors for each dataset as datapoints\n",
    "chart = (\n",
    "    alt.Chart(\n",
    "        all_results.query('BiGG_ID in @selected_reactions'),\n",
    "        # title = \"Normalized error, ZWF sensitivity\"\n",
    "    )\n",
    "    .mark_circle(size=100)\n",
    "    .encode(\n",
    "        y=alt.Y(\"normalized_flux\", title=\"Normalized flux\"),\n",
    "        color=alt.Color(\"author\", sort=[\"Yao\", \"Khodayari\", \"Kurata\", \"Millard\"]),\n",
    "        tooltip = [\"author\", \"sample_id\", \"normalized_flux\"],\n",
    "        x=alt.X(\"sample_id:N\", title=None),\n",
    "    )\n",
    "    .facet(column=\"BiGG_ID:N\")\n",
    "    .configure_axis(labelFontSize=20, titleFontSize=24)\n",
    "    .configure_legend(labelFontSize=16, titleFontSize=20)\n",
    ")\n",
    "\n",
    "chart\n",
    "# (errors + mean_error).properties(width=600, height = 500).configure_axis(labelFontSize = 20, titleFontSize = 24).configure_legend(labelFontSize = 16, titleFontSize = 20)\n",
    "# errors"
   ]
  },
  {
   "cell_type": "code",
   "execution_count": 25,
   "metadata": {},
   "outputs": [
    {
     "data": {
      "application/vnd.vegalite.v2+json": {
       "$schema": "https://vega.github.io/schema/vega-lite/v2.4.3.json",
       "config": {
        "axis": {
         "labelFontSize": 20,
         "titleFontSize": 24
        },
        "legend": {
         "labelFontSize": 16,
         "titleFontSize": 20
        },
        "view": {
         "height": 300,
         "width": 400
        }
       },
       "data": {
        "values": [
         {
          "author": "Khodayari",
          "normalized_error": 0.9828137117282889,
          "sample_id": "0.2"
         },
         {
          "author": "Khodayari",
          "normalized_error": 1.0866654711160224,
          "sample_id": "0.4"
         },
         {
          "author": "Khodayari",
          "normalized_error": 1.1366706996373832,
          "sample_id": "0.6"
         },
         {
          "author": "Khodayari",
          "normalized_error": 1.1393187474974482,
          "sample_id": "0.7"
         },
         {
          "author": "Kurata",
          "normalized_error": 0.5286405787669849,
          "sample_id": "0.2"
         },
         {
          "author": "Kurata",
          "normalized_error": 0.3766088888573504,
          "sample_id": "0.4"
         },
         {
          "author": "Kurata",
          "normalized_error": 0.3090084763649486,
          "sample_id": "0.6"
         },
         {
          "author": "Kurata",
          "normalized_error": 0.3216920942950736,
          "sample_id": "0.7"
         },
         {
          "author": "Millard",
          "normalized_error": 0.24932603198300027,
          "sample_id": "0.2"
         },
         {
          "author": "Millard",
          "normalized_error": 0.23657616411810625,
          "sample_id": "0.4"
         },
         {
          "author": "Millard",
          "normalized_error": 0.2484840164046215,
          "sample_id": "0.6"
         },
         {
          "author": "Millard",
          "normalized_error": 0.2546381954016719,
          "sample_id": "0.7"
         }
        ]
       },
       "encoding": {
        "color": {
         "field": "author",
         "sort": [
          "Khodayari",
          "Kurata",
          "Millard"
         ],
         "type": "nominal"
        },
        "tooltip": [
         {
          "field": "author",
          "type": "nominal"
         },
         {
          "field": "sample_id",
          "type": "nominal"
         },
         {
          "field": "normalized_error",
          "type": "quantitative"
         }
        ],
        "x": {
         "field": "sample_id",
         "sort": [
          "0.2",
          "0.4",
          "0.6",
          "0.7"
         ],
         "title": "Dilution rate, h-1",
         "type": "nominal"
        },
        "y": {
         "field": "normalized_error",
         "title": "Normalized error",
         "type": "quantitative"
        }
       },
       "height": 500,
       "mark": {
        "size": 100,
        "type": "circle"
       },
       "title": "Normalized error, various Dilutions",
       "width": 600
      },
      "image/png": "[encoded data removed]",
      "text/plain": [
       "<VegaLite 2 object>\n",
       "\n",
       "If you see this message, it means the renderer has not been properly enabled\n",
       "for the frontend that you are using. For more information, see\n",
       "https://altair-viz.github.io/user_guide/troubleshooting.html\n"
      ]
     },
     "execution_count": 25,
     "metadata": {},
     "output_type": "execute_result"
    }
   ],
   "source": [
    "# put errors for each dataset as datapoints\n",
    "errors = alt.Chart(\n",
    "    normalized_errors.query(\"author != 'Yao'\"),\n",
    "    title = \"Normalized error, various Dilutions\"\n",
    ").mark_circle(size = 100).encode(\n",
    "    y=alt.Y(\"normalized_error\", title = \"Normalized error\"),   \n",
    "    color=alt.Color(\"author\", sort=[\"Khodayari\", \"Kurata\", \"Millard\"]),\n",
    "    tooltip = [\"author\", \"sample_id\", \"normalized_error\"],\n",
    "    x=alt.X(\"sample_id\", sort=[\"0.2\", \"0.4\", \"0.6\", \"0.7\"], title=\"Dilution rate, h-1\"),\n",
    ")\n",
    "\n",
    "errors.properties(width=600, height = 500).configure_axis(labelFontSize = 20, titleFontSize = 24).configure_legend(labelFontSize = 16, titleFontSize = 20)\n",
    "# errors"
   ]
  },
  {
   "cell_type": "code",
   "execution_count": null,
   "metadata": {},
   "outputs": [],
   "source": []
  }
 ],
 "metadata": {
  "kernelspec": {
   "display_name": "dataml-conda",
   "language": "python",
   "name": "dataml-conda"
  },
  "language_info": {
   "codemirror_mode": {
    "name": "ipython",
    "version": 3
   },
   "file_extension": ".py",
   "mimetype": "text/x-python",
   "name": "python",
   "nbconvert_exporter": "python",
   "pygments_lexer": "ipython3",
   "version": "3.6.6"
  }
 },
 "nbformat": 4,
 "nbformat_minor": 2
}
