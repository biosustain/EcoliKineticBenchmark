{
 "cells": [
  {
   "cell_type": "code",
   "execution_count": 1,
   "metadata": {},
   "outputs": [],
   "source": [
    "import numpy as np\n",
    "import pandas as pd\n",
    "import scipy\n",
    "import scipy.io as sio\n",
    "\n",
    "from pathlib import Path\n",
    "\n",
    "import altair as alt\n",
    "from altair.expr import datum\n",
    "\n",
    "import ipywidgets as widgets\n",
    "from ipywidgets import interact, interact_manual"
   ]
  },
  {
   "cell_type": "code",
   "execution_count": 2,
   "metadata": {},
   "outputs": [],
   "source": [
    "%load_ext watermark"
   ]
  },
  {
   "cell_type": "code",
   "execution_count": 3,
   "metadata": {},
   "outputs": [
    {
     "name": "stdout",
     "output_type": "stream",
     "text": [
      "ipywidgets7.2.1\n",
      "pandas    0.23.4\n",
      "numpy     1.15.4\n",
      "scipy     1.1.0\n",
      "altair    2.1.0\n",
      "\n"
     ]
    }
   ],
   "source": [
    "%watermark --iversions"
   ]
  },
  {
   "cell_type": "markdown",
   "metadata": {},
   "source": [
    "## Set paths "
   ]
  },
  {
   "cell_type": "code",
   "execution_count": 4,
   "metadata": {},
   "outputs": [],
   "source": [
    "data_path = Path('../data')\n",
    "path_to_results = data_path / \"simulation_results\"\n",
    "khodayari_path = path_to_results / \"Khodayari\"\n",
    "millard_path = path_to_results / \"Millard\"\n",
    "kurata_path = path_to_results / \"Kurata\"\n",
    "chassagnole_path = path_to_results / \"Chassagnole\""
   ]
  },
  {
   "cell_type": "code",
   "execution_count": 5,
   "metadata": {},
   "outputs": [],
   "source": [
    "# Load ID dataframes\n",
    "khod_idf = pd.read_csv(data_path / \"khodayari_id.csv\")\n",
    "millard_idf = pd.read_csv(data_path / \"millard_id.csv\")\n",
    "kurata_idf = pd.read_csv(data_path / \"kurata_id.csv\")\n",
    "chassagnole_idf = pd.read_csv(data_path / \"chassagnole_id.csv\")"
   ]
  },
  {
   "cell_type": "code",
   "execution_count": 6,
   "metadata": {},
   "outputs": [],
   "source": [
    "from utils import (\n",
    "    get_kurata_dilutions,    \n",
    "    load_khodayari,\n",
    "    load_kurata,\n",
    "    load_millard,\n",
    "    loadmat\n",
    ")"
   ]
  },
  {
   "cell_type": "code",
   "execution_count": 7,
   "metadata": {},
   "outputs": [],
   "source": [
    "# useful metrics to compare data\n",
    "from utils import relative_error, normalized_error"
   ]
  },
  {
   "cell_type": "markdown",
   "metadata": {},
   "source": [
    "# 1. Load the simulation data"
   ]
  },
  {
   "cell_type": "code",
   "execution_count": 8,
   "metadata": {},
   "outputs": [
    {
     "name": "stdout",
     "output_type": "stream",
     "text": [
      "Loaded data file for sample 0.2 which has flux matrix of (2101, 155)\n",
      "Loaded data file for sample 0.4 which has flux matrix of (2101, 155)\n",
      "Loaded data file for sample 0.6 which has flux matrix of (2101, 155)\n",
      "Loaded data file for sample 0.7 which has flux matrix of (2101, 155)\n"
     ]
    }
   ],
   "source": [
    "kurata_dil = load_kurata(\n",
    "    sample_names=\"all\",\n",
    "    load_path=kurata_path / \"dilutions\",\n",
    "    id_df=kurata_idf,\n",
    "    files=get_kurata_dilutions(),\n",
    ")"
   ]
  },
  {
   "cell_type": "markdown",
   "metadata": {},
   "source": [
    "# 2. Load experimental data and mix it with simulation data"
   ]
  },
  {
   "cell_type": "code",
   "execution_count": 9,
   "metadata": {},
   "outputs": [],
   "source": [
    "yao_df = pd.read_csv(data_path / \"datasets\" / \"yao2011_tidy.csv\")\n",
    "consumption_rates = yao_df.query('Measurement_Type == \"consumption_rate\"')\n",
    "yao_fluxes = yao_df.query('Measurement_Type == \"flux\"')"
   ]
  },
  {
   "cell_type": "code",
   "execution_count": 10,
   "metadata": {},
   "outputs": [],
   "source": [
    "# Ad-hoc function to divide every flux to corresponding consumption rate\n",
    "def normalize_to_uptake(group):\n",
    "    consumption_rate = consumption_rates.loc[consumption_rates.Dilution == group.name, 'Value'].values[0]\n",
    "    print(f'Consumption rate for D {group.name} is {consumption_rate}')\n",
    "    group = group.assign(normalized_flux = lambda x: x.Value / consumption_rate * 100)\n",
    "    return(group)"
   ]
  },
  {
   "cell_type": "code",
   "execution_count": 11,
   "metadata": {},
   "outputs": [
    {
     "name": "stdout",
     "output_type": "stream",
     "text": [
      "Consumption rate for D 0.2 is 3.07\n",
      "Consumption rate for D 0.2 is 3.07\n",
      "Consumption rate for D 0.4 is 4.75\n",
      "Consumption rate for D 0.6 is 6.67\n",
      "Consumption rate for D 0.7 is 8.05\n"
     ]
    }
   ],
   "source": [
    "yao_normalized = yao_fluxes.groupby('Dilution').apply(normalize_to_uptake).reset_index(drop = True)"
   ]
  },
  {
   "cell_type": "code",
   "execution_count": 19,
   "metadata": {},
   "outputs": [],
   "source": [
    "df = yao_normalized\n",
    "\n",
    "df = df.assign(author=\"Yao\")\n",
    "df = df.rename(\n",
    "    {\n",
    "        \"Measurement_ID\": \"BiGG_ID\",        \n",
    "        \"Value\": \"flux\",\n",
    "        \"Original_ID\": \"ID\",\n",
    "        \"Dilution\": \"sample_id\",\n",
    "    },\n",
    "    axis=1,\n",
    ")\n",
    "df = df[df[\"Measurement_Type\"] == \"flux\"]\n",
    "\n",
    "df = df[[\"flux\", \"ID\", \"BiGG_ID\", \"author\", \"sample_id\", \"normalized_flux\"]]\n",
    "df.sample_id = df.sample_id.apply(str)\n",
    "exp_results = df"
   ]
  },
  {
   "cell_type": "code",
   "execution_count": 20,
   "metadata": {},
   "outputs": [
    {
     "data": {
      "text/html": [
       "<div>\n",
       "<style scoped>\n",
       "    .dataframe tbody tr th:only-of-type {\n",
       "        vertical-align: middle;\n",
       "    }\n",
       "\n",
       "    .dataframe tbody tr th {\n",
       "        vertical-align: top;\n",
       "    }\n",
       "\n",
       "    .dataframe thead th {\n",
       "        text-align: right;\n",
       "    }\n",
       "</style>\n",
       "<table border=\"1\" class=\"dataframe\">\n",
       "  <thead>\n",
       "    <tr style=\"text-align: right;\">\n",
       "      <th></th>\n",
       "      <th>flux</th>\n",
       "      <th>ID</th>\n",
       "      <th>BiGG_ID</th>\n",
       "      <th>author</th>\n",
       "      <th>sample_id</th>\n",
       "      <th>normalized_flux</th>\n",
       "    </tr>\n",
       "  </thead>\n",
       "  <tbody>\n",
       "    <tr>\n",
       "      <th>0</th>\n",
       "      <td>3.07</td>\n",
       "      <td>GLCptspp</td>\n",
       "      <td>GLCptspp</td>\n",
       "      <td>Yao</td>\n",
       "      <td>0.2</td>\n",
       "      <td>100.000000</td>\n",
       "    </tr>\n",
       "    <tr>\n",
       "      <th>1</th>\n",
       "      <td>2.73</td>\n",
       "      <td>PGI</td>\n",
       "      <td>PGI</td>\n",
       "      <td>Yao</td>\n",
       "      <td>0.2</td>\n",
       "      <td>88.925081</td>\n",
       "    </tr>\n",
       "    <tr>\n",
       "      <th>2</th>\n",
       "      <td>2.81</td>\n",
       "      <td>PFK+FBA</td>\n",
       "      <td>PFK</td>\n",
       "      <td>Yao</td>\n",
       "      <td>0.2</td>\n",
       "      <td>91.530945</td>\n",
       "    </tr>\n",
       "    <tr>\n",
       "      <th>3</th>\n",
       "      <td>2.81</td>\n",
       "      <td>PFK+FBA</td>\n",
       "      <td>FBA</td>\n",
       "      <td>Yao</td>\n",
       "      <td>0.2</td>\n",
       "      <td>91.530945</td>\n",
       "    </tr>\n",
       "    <tr>\n",
       "      <th>4</th>\n",
       "      <td>5.60</td>\n",
       "      <td>GAPD+PGK</td>\n",
       "      <td>GAPD</td>\n",
       "      <td>Yao</td>\n",
       "      <td>0.2</td>\n",
       "      <td>182.410423</td>\n",
       "    </tr>\n",
       "  </tbody>\n",
       "</table>\n",
       "</div>"
      ],
      "text/plain": [
       "   flux        ID   BiGG_ID author sample_id  normalized_flux\n",
       "0  3.07  GLCptspp  GLCptspp    Yao       0.2       100.000000\n",
       "1  2.73       PGI       PGI    Yao       0.2        88.925081\n",
       "2  2.81   PFK+FBA       PFK    Yao       0.2        91.530945\n",
       "3  2.81   PFK+FBA       FBA    Yao       0.2        91.530945\n",
       "4  5.60  GAPD+PGK      GAPD    Yao       0.2       182.410423"
      ]
     },
     "execution_count": 20,
     "metadata": {},
     "output_type": "execute_result"
    }
   ],
   "source": [
    "exp_results.head()"
   ]
  },
  {
   "cell_type": "code",
   "execution_count": 21,
   "metadata": {},
   "outputs": [],
   "source": [
    "all_results = pd.concat([kurata_dil, exp_results], sort=False)"
   ]
  },
  {
   "cell_type": "code",
   "execution_count": 22,
   "metadata": {},
   "outputs": [
    {
     "data": {
      "text/html": [
       "<div>\n",
       "<style scoped>\n",
       "    .dataframe tbody tr th:only-of-type {\n",
       "        vertical-align: middle;\n",
       "    }\n",
       "\n",
       "    .dataframe tbody tr th {\n",
       "        vertical-align: top;\n",
       "    }\n",
       "\n",
       "    .dataframe thead th {\n",
       "        text-align: right;\n",
       "    }\n",
       "</style>\n",
       "<table border=\"1\" class=\"dataframe\">\n",
       "  <thead>\n",
       "    <tr style=\"text-align: right;\">\n",
       "      <th></th>\n",
       "      <th>flux</th>\n",
       "      <th>ID</th>\n",
       "      <th>BiGG_ID</th>\n",
       "      <th>author</th>\n",
       "      <th>sample_id</th>\n",
       "      <th>normalized_flux</th>\n",
       "    </tr>\n",
       "  </thead>\n",
       "  <tbody>\n",
       "    <tr>\n",
       "      <th>0</th>\n",
       "      <td>0.388458</td>\n",
       "      <td>vgrowth</td>\n",
       "      <td>NaN</td>\n",
       "      <td>Kurata</td>\n",
       "      <td>0.2</td>\n",
       "      <td>0.030134</td>\n",
       "    </tr>\n",
       "    <tr>\n",
       "      <th>1</th>\n",
       "      <td>1281.731177</td>\n",
       "      <td>vPts1</td>\n",
       "      <td>GLCptspp</td>\n",
       "      <td>Kurata</td>\n",
       "      <td>0.2</td>\n",
       "      <td>99.427420</td>\n",
       "    </tr>\n",
       "    <tr>\n",
       "      <th>2</th>\n",
       "      <td>1281.731177</td>\n",
       "      <td>vPts4</td>\n",
       "      <td>GLCptspp</td>\n",
       "      <td>Kurata</td>\n",
       "      <td>0.2</td>\n",
       "      <td>99.427420</td>\n",
       "    </tr>\n",
       "    <tr>\n",
       "      <th>3</th>\n",
       "      <td>4.414001</td>\n",
       "      <td>vPts4_medium</td>\n",
       "      <td>GLCptspp</td>\n",
       "      <td>Kurata</td>\n",
       "      <td>0.2</td>\n",
       "      <td>0.342406</td>\n",
       "    </tr>\n",
       "    <tr>\n",
       "      <th>4</th>\n",
       "      <td>7.381198</td>\n",
       "      <td>vNonpts</td>\n",
       "      <td>GLCtex</td>\n",
       "      <td>Kurata</td>\n",
       "      <td>0.2</td>\n",
       "      <td>0.572580</td>\n",
       "    </tr>\n",
       "  </tbody>\n",
       "</table>\n",
       "</div>"
      ],
      "text/plain": [
       "          flux            ID   BiGG_ID  author sample_id  normalized_flux\n",
       "0     0.388458       vgrowth       NaN  Kurata       0.2         0.030134\n",
       "1  1281.731177         vPts1  GLCptspp  Kurata       0.2        99.427420\n",
       "2  1281.731177         vPts4  GLCptspp  Kurata       0.2        99.427420\n",
       "3     4.414001  vPts4_medium  GLCptspp  Kurata       0.2         0.342406\n",
       "4     7.381198       vNonpts    GLCtex  Kurata       0.2         0.572580"
      ]
     },
     "execution_count": 22,
     "metadata": {},
     "output_type": "execute_result"
    }
   ],
   "source": [
    "all_results.head()"
   ]
  },
  {
   "cell_type": "markdown",
   "metadata": {},
   "source": [
    "# 3. Subselect specific data and calculate error metrics"
   ]
  },
  {
   "cell_type": "code",
   "execution_count": 23,
   "metadata": {},
   "outputs": [],
   "source": [
    "common_fluxes = set(exp_results[\"BiGG_ID\"].unique()).intersection(\n",
    "    set(kurata_idf[\"BiGG ID\"].unique())\n",
    ")"
   ]
  },
  {
   "cell_type": "code",
   "execution_count": 24,
   "metadata": {},
   "outputs": [],
   "source": [
    "common_fluxes = {x for x in common_fluxes if pd.notna(x)}\n",
    "#common_fluxes"
   ]
  },
  {
   "cell_type": "code",
   "execution_count": 25,
   "metadata": {},
   "outputs": [],
   "source": [
    "selected_reactions = [x for x in common_fluxes if pd.notna(x)]\n",
    "\n",
    "selected_strains = [\"0.2\", \"0.4\", \"0.6\", \"0.7\"]\n",
    "selected_authors = [\"Kurata\", \"Yao\"]\n",
    "experimental_dataset = \"Yao\"\n",
    "\n",
    "\n",
    "selected_data = (\n",
    "    all_results.query(\n",
    "        \"\"\" BiGG_ID in @selected_reactions and sample_id in @selected_strains and author in @ selected_authors \"\"\"\n",
    "    )\n",
    "    .groupby([\"BiGG_ID\", \"sample_id\", \"author\"])\n",
    "    .median()\n",
    "    .reset_index()\n",
    ")\n",
    "\n",
    "# Calculate relative error\n",
    "selected_data = (\n",
    "    selected_data.groupby([\"BiGG_ID\", \"sample_id\"])\n",
    "    .apply(relative_error, exp_name=experimental_dataset)\n",
    "    .reset_index()\n",
    "    .drop(\"level_2\", axis=1)\n",
    ")\n",
    "# Calculate summary errors\n",
    "normalized_errors = (\n",
    "    selected_data.groupby([\"sample_id\"])\n",
    "    .apply(normalized_error, exp_name=experimental_dataset)\n",
    "    .unstack()\n",
    "    .reset_index()\n",
    "    .rename({0: \"normalized_error\"}, axis=1)\n",
    ")"
   ]
  },
  {
   "cell_type": "code",
   "execution_count": 26,
   "metadata": {},
   "outputs": [
    {
     "data": {
      "text/html": [
       "<div>\n",
       "<style scoped>\n",
       "    .dataframe tbody tr th:only-of-type {\n",
       "        vertical-align: middle;\n",
       "    }\n",
       "\n",
       "    .dataframe tbody tr th {\n",
       "        vertical-align: top;\n",
       "    }\n",
       "\n",
       "    .dataframe thead th {\n",
       "        text-align: right;\n",
       "    }\n",
       "</style>\n",
       "<table border=\"1\" class=\"dataframe\">\n",
       "  <thead>\n",
       "    <tr style=\"text-align: right;\">\n",
       "      <th></th>\n",
       "      <th>author</th>\n",
       "      <th>sample_id</th>\n",
       "      <th>normalized_error</th>\n",
       "    </tr>\n",
       "  </thead>\n",
       "  <tbody>\n",
       "    <tr>\n",
       "      <th>0</th>\n",
       "      <td>Kurata</td>\n",
       "      <td>0.2</td>\n",
       "      <td>0.529254</td>\n",
       "    </tr>\n",
       "    <tr>\n",
       "      <th>1</th>\n",
       "      <td>Kurata</td>\n",
       "      <td>0.4</td>\n",
       "      <td>0.376964</td>\n",
       "    </tr>\n",
       "    <tr>\n",
       "      <th>2</th>\n",
       "      <td>Kurata</td>\n",
       "      <td>0.6</td>\n",
       "      <td>0.309326</td>\n",
       "    </tr>\n",
       "    <tr>\n",
       "      <th>3</th>\n",
       "      <td>Kurata</td>\n",
       "      <td>0.7</td>\n",
       "      <td>0.321944</td>\n",
       "    </tr>\n",
       "    <tr>\n",
       "      <th>4</th>\n",
       "      <td>Yao</td>\n",
       "      <td>0.2</td>\n",
       "      <td>0.000000</td>\n",
       "    </tr>\n",
       "    <tr>\n",
       "      <th>5</th>\n",
       "      <td>Yao</td>\n",
       "      <td>0.4</td>\n",
       "      <td>0.000000</td>\n",
       "    </tr>\n",
       "    <tr>\n",
       "      <th>6</th>\n",
       "      <td>Yao</td>\n",
       "      <td>0.6</td>\n",
       "      <td>0.000000</td>\n",
       "    </tr>\n",
       "    <tr>\n",
       "      <th>7</th>\n",
       "      <td>Yao</td>\n",
       "      <td>0.7</td>\n",
       "      <td>0.000000</td>\n",
       "    </tr>\n",
       "  </tbody>\n",
       "</table>\n",
       "</div>"
      ],
      "text/plain": [
       "   author sample_id  normalized_error\n",
       "0  Kurata       0.2          0.529254\n",
       "1  Kurata       0.4          0.376964\n",
       "2  Kurata       0.6          0.309326\n",
       "3  Kurata       0.7          0.321944\n",
       "4     Yao       0.2          0.000000\n",
       "5     Yao       0.4          0.000000\n",
       "6     Yao       0.6          0.000000\n",
       "7     Yao       0.7          0.000000"
      ]
     },
     "execution_count": 26,
     "metadata": {},
     "output_type": "execute_result"
    }
   ],
   "source": [
    "normalized_errors"
   ]
  },
  {
   "cell_type": "markdown",
   "metadata": {},
   "source": [
    "# 4. Visualize"
   ]
  },
  {
   "cell_type": "code",
   "execution_count": 27,
   "metadata": {},
   "outputs": [
    {
     "data": {
      "application/vnd.vegalite.v2+json": {
       "$schema": "https://vega.github.io/schema/vega-lite/v2.4.3.json",
       "config": {
        "axis": {
         "labelFontSize": 20,
         "titleFontSize": 24
        },
        "legend": {
         "labelFontSize": 16,
         "titleFontSize": 20
        },
        "view": {
         "height": 300,
         "width": 400
        }
       },
       "data": {
        "values": [
         {
          "BiGG_ID": "GLCptspp",
          "ID": "vPts1",
          "author": "Kurata",
          "flux": 1281.7311765172392,
          "normalized_flux": 99.42742014842696,
          "sample_id": "0.2"
         },
         {
          "BiGG_ID": "GLCptspp",
          "ID": "vPts4",
          "author": "Kurata",
          "flux": 1281.7311765172267,
          "normalized_flux": 99.427420148426,
          "sample_id": "0.2"
         },
         {
          "BiGG_ID": "GLCptspp",
          "ID": "vPts4_medium",
          "author": "Kurata",
          "flux": 4.414001017722337,
          "normalized_flux": 0.34240622508471863,
          "sample_id": "0.2"
         },
         {
          "BiGG_ID": "PGI",
          "ID": "vE_Pgi",
          "author": "Kurata",
          "flux": 567.8667637462247,
          "normalized_flux": 44.050990052955136,
          "sample_id": "0.2"
         },
         {
          "BiGG_ID": "PFK",
          "ID": "vE_Pfk",
          "author": "Kurata",
          "flux": 502.42444984043715,
          "normalized_flux": 38.97444938716876,
          "sample_id": "0.2"
         },
         {
          "BiGG_ID": "FBA",
          "ID": "vE_Fba",
          "author": "Kurata",
          "flux": 502.3796807385938,
          "normalized_flux": 38.97097652454343,
          "sample_id": "0.2"
         },
         {
          "BiGG_ID": "GAPD",
          "ID": "vE_Gapdh",
          "author": "Kurata",
          "flux": 1338.8172118406262,
          "normalized_flux": 103.85574125248961,
          "sample_id": "0.2"
         },
         {
          "BiGG_ID": "PYK",
          "ID": "vE_Pyk",
          "author": "Kurata",
          "flux": 12.546430585142863,
          "normalized_flux": 0.9732612017300771,
          "sample_id": "0.2"
         },
         {
          "BiGG_ID": "PDH",
          "ID": "vE_Pdh",
          "author": "Kurata",
          "flux": 1412.6951403901217,
          "normalized_flux": 109.58665579694623,
          "sample_id": "0.2"
         },
         {
          "BiGG_ID": "PTAr",
          "ID": "vE_Pta",
          "author": "Kurata",
          "flux": 47.21723546941024,
          "normalized_flux": 3.662771098398976,
          "sample_id": "0.2"
         },
         {
          "BiGG_ID": "ACKr",
          "ID": "vE_Ack",
          "author": "Kurata",
          "flux": 47.216939683899746,
          "normalized_flux": 3.6627481535016644,
          "sample_id": "0.2"
         },
         {
          "BiGG_ID": "CS",
          "ID": "vE_Cs",
          "author": "Kurata",
          "flux": 783.3138177651508,
          "normalized_flux": 60.76381186157133,
          "sample_id": "0.2"
         },
         {
          "BiGG_ID": "ICDHyr",
          "ID": "vE_Icdh",
          "author": "Kurata",
          "flux": 171.49198133315065,
          "normalized_flux": 13.303105668716663,
          "sample_id": "0.2"
         },
         {
          "BiGG_ID": "AKGDH",
          "ID": "vE_akgdh",
          "author": "Kurata",
          "flux": 165.72597843490624,
          "normalized_flux": 12.855820931289443,
          "sample_id": "0.2"
         },
         {
          "BiGG_ID": "SUCDi",
          "ID": "vE_Sdh",
          "author": "Kurata",
          "flux": 746.3648260295151,
          "normalized_flux": 57.89757673156363,
          "sample_id": "0.2"
         },
         {
          "BiGG_ID": "FUM",
          "ID": "vE_Fum",
          "author": "Kurata",
          "flux": 670.6025950355463,
          "normalized_flux": 52.020491652859384,
          "sample_id": "0.2"
         },
         {
          "BiGG_ID": "MDH",
          "ID": "vE_Mdh",
          "author": "Kurata",
          "flux": 1134.7533935997799,
          "normalized_flux": 88.02594841835082,
          "sample_id": "0.2"
         },
         {
          "BiGG_ID": "PPC",
          "ID": "vE_Ppc",
          "author": "Kurata",
          "flux": 77.39604518717731,
          "normalized_flux": 6.003824548890198,
          "sample_id": "0.2"
         },
         {
          "BiGG_ID": "ICL",
          "ID": "vE_Icl",
          "author": "Kurata",
          "flux": 611.6095999450125,
          "normalized_flux": 47.44424242357983,
          "sample_id": "0.2"
         },
         {
          "BiGG_ID": "G6PDH2r",
          "ID": "vE_G6pdh",
          "author": "Kurata",
          "flux": 710.460623002908,
          "normalized_flux": 55.11238874142594,
          "sample_id": "0.2"
         },
         {
          "BiGG_ID": "GND",
          "ID": "vE_6Pgdh",
          "author": "Kurata",
          "flux": 535.6034360696997,
          "normalized_flux": 41.54823479892697,
          "sample_id": "0.2"
         },
         {
          "BiGG_ID": "RPI",
          "ID": "vE_R5pi",
          "author": "Kurata",
          "flux": 200.7267092316389,
          "normalized_flux": 15.570924090350283,
          "sample_id": "0.2"
         },
         {
          "BiGG_ID": "RPE",
          "ID": "vE_Rpe",
          "author": "Kurata",
          "flux": 334.83647502497456,
          "normalized_flux": 25.974188264491076,
          "sample_id": "0.2"
         },
         {
          "BiGG_ID": "TKT1",
          "ID": "vE_Tkt1",
          "author": "Kurata",
          "flux": 172.05861931685487,
          "normalized_flux": 13.34706133891492,
          "sample_id": "0.2"
         },
         {
          "BiGG_ID": "TKT2",
          "ID": "vE_Tkt2",
          "author": "Kurata",
          "flux": 162.72853560331782,
          "normalized_flux": 12.623301029107582,
          "sample_id": "0.2"
         },
         {
          "BiGG_ID": "TALA",
          "ID": "vE_Tal",
          "author": "Kurata",
          "flux": 172.0340098364338,
          "normalized_flux": 13.345152313688502,
          "sample_id": "0.2"
         },
         {
          "BiGG_ID": "PGM",
          "ID": "Gapdh",
          "author": "Kurata",
          "flux": 1338.8172118406262,
          "normalized_flux": 103.85574125248961,
          "sample_id": "0.2"
         },
         {
          "BiGG_ID": "ENO",
          "ID": "Gapdh",
          "author": "Kurata",
          "flux": 1338.8172118406262,
          "normalized_flux": 103.85574125248961,
          "sample_id": "0.2"
         },
         {
          "BiGG_ID": "PGK",
          "ID": "Gapdh",
          "author": "Kurata",
          "flux": 1338.8172118406262,
          "normalized_flux": 103.85574125248961,
          "sample_id": "0.2"
         },
         {
          "BiGG_ID": "GLCptspp",
          "ID": "vPts1",
          "author": "Kurata",
          "flux": 2094.2432461052795,
          "normalized_flux": 99.0149309998505,
          "sample_id": "0.4"
         },
         {
          "BiGG_ID": "GLCptspp",
          "ID": "vPts4",
          "author": "Kurata",
          "flux": 2094.2432461052917,
          "normalized_flux": 99.01493099985109,
          "sample_id": "0.4"
         },
         {
          "BiGG_ID": "GLCptspp",
          "ID": "vPts4_medium",
          "author": "Kurata",
          "flux": 8.789196995714871,
          "normalized_flux": 0.4155495001324466,
          "sample_id": "0.4"
         },
         {
          "BiGG_ID": "PGI",
          "ID": "vE_Pgi",
          "author": "Kurata",
          "flux": 1302.486739136248,
          "normalized_flux": 61.58101970419947,
          "sample_id": "0.4"
         },
         {
          "BiGG_ID": "PFK",
          "ID": "vE_Pfk",
          "author": "Kurata",
          "flux": 1192.9409527919922,
          "normalized_flux": 56.401741463062635,
          "sample_id": "0.4"
         },
         {
          "BiGG_ID": "FBA",
          "ID": "vE_Fba",
          "author": "Kurata",
          "flux": 1192.1369829521823,
          "normalized_flux": 56.363730110578736,
          "sample_id": "0.4"
         },
         {
          "BiGG_ID": "GAPD",
          "ID": "vE_Gapdh",
          "author": "Kurata",
          "flux": 2756.7449190957823,
          "normalized_flux": 130.33772865501004,
          "sample_id": "0.4"
         },
         {
          "BiGG_ID": "PYK",
          "ID": "vE_Pyk",
          "author": "Kurata",
          "flux": 54.97904350926666,
          "normalized_flux": 2.599385820931593,
          "sample_id": "0.4"
         },
         {
          "BiGG_ID": "PDH",
          "ID": "vE_Pdh",
          "author": "Kurata",
          "flux": 2542.110962312291,
          "normalized_flux": 120.18992635904222,
          "sample_id": "0.4"
         },
         {
          "BiGG_ID": "PTAr",
          "ID": "vE_Pta",
          "author": "Kurata",
          "flux": 113.07724078696943,
          "normalized_flux": 5.346243906956551,
          "sample_id": "0.4"
         },
         {
          "BiGG_ID": "ACKr",
          "ID": "vE_Ack",
          "author": "Kurata",
          "flux": 113.07565025167906,
          "normalized_flux": 5.346168707123714,
          "sample_id": "0.4"
         },
         {
          "BiGG_ID": "CS",
          "ID": "vE_Cs",
          "author": "Kurata",
          "flux": 1700.236360503837,
          "normalized_flux": 80.38645283054255,
          "sample_id": "0.4"
         },
         {
          "BiGG_ID": "ICDHyr",
          "ID": "vE_Icdh",
          "author": "Kurata",
          "flux": 906.3430693271504,
          "normalized_flux": 42.851515285301836,
          "sample_id": "0.4"
         },
         {
          "BiGG_ID": "AKGDH",
          "ID": "vE_akgdh",
          "author": "Kurata",
          "flux": 872.088259727946,
          "normalized_flux": 41.23196243957298,
          "sample_id": "0.4"
         },
         {
          "BiGG_ID": "SUCDi",
          "ID": "vE_Sdh",
          "author": "Kurata",
          "flux": 1543.9761602971162,
          "normalized_flux": 72.99853694719656,
          "sample_id": "0.4"
         },
         {
          "BiGG_ID": "FUM",
          "ID": "vE_Fum",
          "author": "Kurata",
          "flux": 1403.935864549654,
          "normalized_flux": 66.37749125614765,
          "sample_id": "0.4"
         },
         {
          "BiGG_ID": "MDH",
          "ID": "vE_Mdh",
          "author": "Kurata",
          "flux": 1728.8827142888708,
          "normalized_flux": 81.74084026796054,
          "sample_id": "0.4"
         },
         {
          "BiGG_ID": "PPC",
          "ID": "vE_Ppc",
          "author": "Kurata",
          "flux": 650.3851705308307,
          "normalized_flux": 30.749934566196455,
          "sample_id": "0.4"
         },
         {
          "BiGG_ID": "ICL",
          "ID": "vE_Icl",
          "author": "Kurata",
          "flux": 793.2387854018808,
          "normalized_flux": 37.50399279025492,
          "sample_id": "0.4"
         },
         {
          "BiGG_ID": "G6PDH2r",
          "ID": "vE_G6pdh",
          "author": "Kurata",
          "flux": 799.3873270386343,
          "normalized_flux": 37.79469322681837,
          "sample_id": "0.4"
         },
         {
          "BiGG_ID": "GND",
          "ID": "vE_6Pgdh",
          "author": "Kurata",
          "flux": 602.3147736067193,
          "normalized_flux": 28.47718662088111,
          "sample_id": "0.4"
         },
         {
          "BiGG_ID": "RPI",
          "ID": "vE_R5pi",
          "author": "Kurata",
          "flux": 226.2620346549071,
          "normalized_flux": 10.697572877890602,
          "sample_id": "0.4"
         },
         {
          "BiGG_ID": "RPE",
          "ID": "vE_Rpe",
          "author": "Kurata",
          "flux": 375.96499045206764,
          "normalized_flux": 17.775465031199886,
          "sample_id": "0.4"
         },
         {
          "BiGG_ID": "TKT1",
          "ID": "vE_Tkt1",
          "author": "Kurata",
          "flux": 195.02793818911564,
          "normalized_flux": 9.220838065850746,
          "sample_id": "0.4"
         },
         {
          "BiGG_ID": "TKT2",
          "ID": "vE_Tkt2",
          "author": "Kurata",
          "flux": 180.83002327631303,
          "normalized_flux": 8.549566680328882,
          "sample_id": "0.4"
         },
         {
          "BiGG_ID": "TALA",
          "ID": "vE_Tal",
          "author": "Kurata",
          "flux": 194.9815699432736,
          "normalized_flux": 9.218645794885484,
          "sample_id": "0.4"
         },
         {
          "BiGG_ID": "PGM",
          "ID": "Gapdh",
          "author": "Kurata",
          "flux": 2756.7449190957823,
          "normalized_flux": 130.33772865501004,
          "sample_id": "0.4"
         },
         {
          "BiGG_ID": "ENO",
          "ID": "Gapdh",
          "author": "Kurata",
          "flux": 2756.7449190957823,
          "normalized_flux": 130.33772865501004,
          "sample_id": "0.4"
         },
         {
          "BiGG_ID": "PGK",
          "ID": "Gapdh",
          "author": "Kurata",
          "flux": 2756.7449190957823,
          "normalized_flux": 130.33772865501004,
          "sample_id": "0.4"
         },
         {
          "BiGG_ID": "GLCptspp",
          "ID": "vPts1",
          "author": "Kurata",
          "flux": 3062.973605645727,
          "normalized_flux": 90.56775464773568,
          "sample_id": "0.6"
         },
         {
          "BiGG_ID": "GLCptspp",
          "ID": "vPts4",
          "author": "Kurata",
          "flux": 3062.9736056457286,
          "normalized_flux": 90.56775464773574,
          "sample_id": "0.6"
         },
         {
          "BiGG_ID": "GLCptspp",
          "ID": "vPts4_medium",
          "author": "Kurata",
          "flux": 11.881997886540075,
          "normalized_flux": 0.3513337063465194,
          "sample_id": "0.6"
         },
         {
          "BiGG_ID": "PGI",
          "ID": "vE_Pgi",
          "author": "Kurata",
          "flux": 2476.7924767304326,
          "normalized_flux": 73.23521591319408,
          "sample_id": "0.6"
         },
         {
          "BiGG_ID": "PFK",
          "ID": "vE_Pfk",
          "author": "Kurata",
          "flux": 2316.9713262290393,
          "normalized_flux": 68.50953276677419,
          "sample_id": "0.6"
         },
         {
          "BiGG_ID": "FBA",
          "ID": "vE_Fba",
          "author": "Kurata",
          "flux": 2306.107197495034,
          "normalized_flux": 68.18829599743697,
          "sample_id": "0.6"
         },
         {
          "BiGG_ID": "GAPD",
          "ID": "vE_Gapdh",
          "author": "Kurata",
          "flux": 5022.016881750407,
          "normalized_flux": 148.4938662040057,
          "sample_id": "0.6"
         },
         {
          "BiGG_ID": "PYK",
          "ID": "vE_Pyk",
          "author": "Kurata",
          "flux": 164.01817634794594,
          "normalized_flux": 4.849783206054816,
          "sample_id": "0.6"
         },
         {
          "BiGG_ID": "PDH",
          "ID": "vE_Pdh",
          "author": "Kurata",
          "flux": 3358.0476369891026,
          "normalized_flux": 99.29267229781487,
          "sample_id": "0.6"
         },
         {
          "BiGG_ID": "PTAr",
          "ID": "vE_Pta",
          "author": "Kurata",
          "flux": 376.0956290053528,
          "normalized_flux": 11.12061056910797,
          "sample_id": "0.6"
         },
         {
          "BiGG_ID": "ACKr",
          "ID": "vE_Ack",
          "author": "Kurata",
          "flux": 376.03747578640906,
          "normalized_flux": 11.11889106148454,
          "sample_id": "0.6"
         },
         {
          "BiGG_ID": "CS",
          "ID": "vE_Cs",
          "author": "Kurata",
          "flux": 2264.9201926193814,
          "normalized_flux": 66.9704550910127,
          "sample_id": "0.6"
         },
         {
          "BiGG_ID": "ICDHyr",
          "ID": "vE_Icdh",
          "author": "Kurata",
          "flux": 2264.900589202551,
          "normalized_flux": 66.96987544597675,
          "sample_id": "0.6"
         },
         {
          "BiGG_ID": "AKGDH",
          "ID": "vE_akgdh",
          "author": "Kurata",
          "flux": 1993.5421613776225,
          "normalized_flux": 58.94619431874016,
          "sample_id": "0.6"
         },
         {
          "BiGG_ID": "SUCDi",
          "ID": "vE_Sdh",
          "author": "Kurata",
          "flux": 1738.4711930562917,
          "normalized_flux": 51.40411010550825,
          "sample_id": "0.6"
         },
         {
          "BiGG_ID": "FUM",
          "ID": "vE_Fum",
          "author": "Kurata",
          "flux": 1582.0135814333894,
          "normalized_flux": 46.77788199955418,
          "sample_id": "0.6"
         },
         {
          "BiGG_ID": "MDH",
          "ID": "vE_Mdh",
          "author": "Kurata",
          "flux": 1362.2933912923484,
          "normalized_flux": 40.28106980529681,
          "sample_id": "0.6"
         },
         {
          "BiGG_ID": "PPC",
          "ID": "vE_Ppc",
          "author": "Kurata",
          "flux": 1676.3684364057597,
          "normalized_flux": 49.56782029324666,
          "sample_id": "0.6"
         },
         {
          "BiGG_ID": "ICL",
          "ID": "vE_Icl",
          "author": "Kurata",
          "flux": 3.8927718724800576e-05,
          "normalized_flux": 1.1510370419011656e-06,
          "sample_id": "0.6"
         },
         {
          "BiGG_ID": "G6PDH2r",
          "ID": "vE_G6pdh",
          "author": "Kurata",
          "flux": 889.070316251107,
          "normalized_flux": 26.288539384863494,
          "sample_id": "0.6"
         },
         {
          "BiGG_ID": "GND",
          "ID": "vE_6Pgdh",
          "author": "Kurata",
          "flux": 669.7481823872615,
          "normalized_flux": 19.80349714617563,
          "sample_id": "0.6"
         },
         {
          "BiGG_ID": "RPI",
          "ID": "vE_R5pi",
          "author": "Kurata",
          "flux": 252.7056577717425,
          "normalized_flux": 7.472145358673722,
          "sample_id": "0.6"
         },
         {
          "BiGG_ID": "RPE",
          "ID": "vE_Rpe",
          "author": "Kurata",
          "flux": 416.89890465966016,
          "normalized_flux": 12.327105150540763,
          "sample_id": "0.6"
         },
         {
          "BiGG_ID": "TKT1",
          "ID": "vE_Tkt1",
          "author": "Kurata",
          "flux": 218.62921067901496,
          "normalized_flux": 6.464553489820493,
          "sample_id": "0.6"
         },
         {
          "BiGG_ID": "TKT2",
          "ID": "vE_Tkt2",
          "author": "Kurata",
          "flux": 198.09496121873624,
          "normalized_flux": 5.85738506252291,
          "sample_id": "0.6"
         },
         {
          "BiGG_ID": "TALA",
          "ID": "vE_Tal",
          "author": "Kurata",
          "flux": 218.55598483028086,
          "normalized_flux": 6.462388306062527,
          "sample_id": "0.6"
         },
         {
          "BiGG_ID": "PGM",
          "ID": "Gapdh",
          "author": "Kurata",
          "flux": 5022.016881750407,
          "normalized_flux": 148.4938662040057,
          "sample_id": "0.6"
         },
         {
          "BiGG_ID": "ENO",
          "ID": "Gapdh",
          "author": "Kurata",
          "flux": 5022.016881750407,
          "normalized_flux": 148.4938662040057,
          "sample_id": "0.6"
         },
         {
          "BiGG_ID": "PGK",
          "ID": "Gapdh",
          "author": "Kurata",
          "flux": 5022.016881750407,
          "normalized_flux": 148.4938662040057,
          "sample_id": "0.6"
         },
         {
          "BiGG_ID": "GLCptspp",
          "ID": "vPts1",
          "author": "Kurata",
          "flux": 3288.4727117382376,
          "normalized_flux": 87.41418983161508,
          "sample_id": "0.7"
         },
         {
          "BiGG_ID": "GLCptspp",
          "ID": "vPts4",
          "author": "Kurata",
          "flux": 3288.4727117382417,
          "normalized_flux": 87.41418983161519,
          "sample_id": "0.7"
         },
         {
          "BiGG_ID": "GLCptspp",
          "ID": "vPts4_medium",
          "author": "Kurata",
          "flux": 12.455841865905075,
          "normalized_flux": 0.3311012195698812,
          "sample_id": "0.7"
         },
         {
          "BiGG_ID": "PGI",
          "ID": "vE_Pgi",
          "author": "Kurata",
          "flux": 2838.297656989429,
          "normalized_flux": 75.44763540262322,
          "sample_id": "0.7"
         },
         {
          "BiGG_ID": "PFK",
          "ID": "vE_Pfk",
          "author": "Kurata",
          "flux": 2682.9345375978205,
          "normalized_flux": 71.31777257516153,
          "sample_id": "0.7"
         },
         {
          "BiGG_ID": "FBA",
          "ID": "vE_Fba",
          "author": "Kurata",
          "flux": 2653.2143482136316,
          "normalized_flux": 70.52775042676797,
          "sample_id": "0.7"
         },
         {
          "BiGG_ID": "GAPD",
          "ID": "vE_Gapdh",
          "author": "Kurata",
          "flux": 5722.163001091468,
          "normalized_flux": 152.10655117781303,
          "sample_id": "0.7"
         },
         {
          "BiGG_ID": "PYK",
          "ID": "vE_Pyk",
          "author": "Kurata",
          "flux": 244.96625702197198,
          "normalized_flux": 6.511693655605857,
          "sample_id": "0.7"
         },
         {
          "BiGG_ID": "PDH",
          "ID": "vE_Pdh",
          "author": "Kurata",
          "flux": 3710.1654892202496,
          "normalized_flux": 98.6236282952078,
          "sample_id": "0.7"
         },
         {
          "BiGG_ID": "PTAr",
          "ID": "vE_Pta",
          "author": "Kurata",
          "flux": 375.33376296763856,
          "normalized_flux": 9.977123024057256,
          "sample_id": "0.7"
         },
         {
          "BiGG_ID": "ACKr",
          "ID": "vE_Ack",
          "author": "Kurata",
          "flux": 375.2816376367573,
          "normalized_flux": 9.975737428381665,
          "sample_id": "0.7"
         },
         {
          "BiGG_ID": "CS",
          "ID": "vE_Cs",
          "author": "Kurata",
          "flux": 2835.679164521293,
          "normalized_flux": 75.37803062929935,
          "sample_id": "0.7"
         },
         {
          "BiGG_ID": "ICDHyr",
          "ID": "vE_Icdh",
          "author": "Kurata",
          "flux": 2835.6658739729132,
          "normalized_flux": 75.37767733990914,
          "sample_id": "0.7"
         },
         {
          "BiGG_ID": "AKGDH",
          "ID": "vE_akgdh",
          "author": "Kurata",
          "flux": 2487.857955836361,
          "normalized_flux": 66.13224639185768,
          "sample_id": "0.7"
         },
         {
          "BiGG_ID": "SUCDi",
          "ID": "vE_Sdh",
          "author": "Kurata",
          "flux": 2140.443013765583,
          "normalized_flux": 56.89726153456752,
          "sample_id": "0.7"
         },
         {
          "BiGG_ID": "FUM",
          "ID": "vE_Fum",
          "author": "Kurata",
          "flux": 1975.2653896725612,
          "normalized_flux": 52.506509518635355,
          "sample_id": "0.7"
         },
         {
          "BiGG_ID": "MDH",
          "ID": "vE_Mdh",
          "author": "Kurata",
          "flux": 1719.3049068789874,
          "normalized_flux": 45.702567326126655,
          "sample_id": "0.7"
         },
         {
          "BiGG_ID": "PPC",
          "ID": "vE_Ppc",
          "author": "Kurata",
          "flux": 2013.9715056379146,
          "normalized_flux": 53.53539558983874,
          "sample_id": "0.7"
         },
         {
          "BiGG_ID": "ICL",
          "ID": "vE_Icl",
          "author": "Kurata",
          "flux": 2.8173129798838178e-06,
          "normalized_flux": 7.488982066342308e-08,
          "sample_id": "0.7"
         },
         {
          "BiGG_ID": "G6PDH2r",
          "ID": "vE_G6pdh",
          "author": "Kurata",
          "flux": 906.8756893959542,
          "normalized_flux": 24.106571839129472,
          "sample_id": "0.7"
         },
         {
          "BiGG_ID": "GND",
          "ID": "vE_6Pgdh",
          "author": "Kurata",
          "flux": 683.1884120625133,
          "normalized_flux": 18.160516074717528,
          "sample_id": "0.7"
         },
         {
          "BiGG_ID": "RPI",
          "ID": "vE_R5pi",
          "author": "Kurata",
          "flux": 258.5035581773935,
          "normalized_flux": 6.871542228709039,
          "sample_id": "0.7"
         },
         {
          "BiGG_ID": "RPE",
          "ID": "vE_Rpe",
          "author": "Kurata",
          "flux": 424.51363211123174,
          "normalized_flux": 11.284422428387618,
          "sample_id": "0.7"
         },
         {
          "BiGG_ID": "TKT1",
          "ID": "vE_Tkt1",
          "author": "Kurata",
          "flux": 223.6716732914325,
          "normalized_flux": 5.945640977728331,
          "sample_id": "0.7"
         },
         {
          "BiGG_ID": "TKT2",
          "ID": "vE_Tkt2",
          "author": "Kurata",
          "flux": 200.63352784735275,
          "normalized_flux": 5.333240938029461,
          "sample_id": "0.7"
         },
         {
          "BiGG_ID": "TALA",
          "ID": "vE_Tal",
          "author": "Kurata",
          "flux": 223.58694968508613,
          "normalized_flux": 5.943388854612957,
          "sample_id": "0.7"
         },
         {
          "BiGG_ID": "PGM",
          "ID": "Gapdh",
          "author": "Kurata",
          "flux": 5722.163001091468,
          "normalized_flux": 152.10655117781303,
          "sample_id": "0.7"
         },
         {
          "BiGG_ID": "ENO",
          "ID": "Gapdh",
          "author": "Kurata",
          "flux": 5722.163001091468,
          "normalized_flux": 152.10655117781303,
          "sample_id": "0.7"
         },
         {
          "BiGG_ID": "PGK",
          "ID": "Gapdh",
          "author": "Kurata",
          "flux": 5722.163001091468,
          "normalized_flux": 152.10655117781303,
          "sample_id": "0.7"
         },
         {
          "BiGG_ID": "GLCptspp",
          "ID": "GLCptspp",
          "author": "Yao",
          "flux": 3.07,
          "normalized_flux": 100,
          "sample_id": "0.2"
         },
         {
          "BiGG_ID": "PGI",
          "ID": "PGI",
          "author": "Yao",
          "flux": 2.73,
          "normalized_flux": 88.92508143322476,
          "sample_id": "0.2"
         },
         {
          "BiGG_ID": "PFK",
          "ID": "PFK+FBA",
          "author": "Yao",
          "flux": 2.81,
          "normalized_flux": 91.53094462540717,
          "sample_id": "0.2"
         },
         {
          "BiGG_ID": "FBA",
          "ID": "PFK+FBA",
          "author": "Yao",
          "flux": 2.81,
          "normalized_flux": 91.53094462540717,
          "sample_id": "0.2"
         },
         {
          "BiGG_ID": "GAPD",
          "ID": "GAPD+PGK",
          "author": "Yao",
          "flux": 5.6,
          "normalized_flux": 182.41042345276873,
          "sample_id": "0.2"
         },
         {
          "BiGG_ID": "PGK",
          "ID": "GAPD+PGK",
          "author": "Yao",
          "flux": 5.6,
          "normalized_flux": 182.41042345276873,
          "sample_id": "0.2"
         },
         {
          "BiGG_ID": "PGM",
          "ID": "PGM+ENO",
          "author": "Yao",
          "flux": 5.09,
          "normalized_flux": 165.79804560260587,
          "sample_id": "0.2"
         },
         {
          "BiGG_ID": "ENO",
          "ID": "PGM+ENO",
          "author": "Yao",
          "flux": 5.09,
          "normalized_flux": 165.79804560260587,
          "sample_id": "0.2"
         },
         {
          "BiGG_ID": "PYK",
          "ID": "PYK",
          "author": "Yao",
          "flux": 4.59,
          "normalized_flux": 149.5114006514658,
          "sample_id": "0.2"
         },
         {
          "BiGG_ID": "PDH",
          "ID": "PDH",
          "author": "Yao",
          "flux": 3.88,
          "normalized_flux": 126.38436482084691,
          "sample_id": "0.2"
         },
         {
          "BiGG_ID": "PTAr",
          "ID": "PTAr+ACKr",
          "author": "Yao",
          "flux": 0,
          "normalized_flux": 0,
          "sample_id": "0.2"
         },
         {
          "BiGG_ID": "ACKr",
          "ID": "PTAr+ACKr",
          "author": "Yao",
          "flux": 0,
          "normalized_flux": 0,
          "sample_id": "0.2"
         },
         {
          "BiGG_ID": "ACt2r",
          "ID": "ACt2r",
          "author": "Yao",
          "flux": 0,
          "normalized_flux": 0,
          "sample_id": "0.2"
         },
         {
          "BiGG_ID": "PPC",
          "ID": "PPC",
          "author": "Yao",
          "flux": 0.31,
          "normalized_flux": 10.097719869706841,
          "sample_id": "0.2"
         },
         {
          "BiGG_ID": "CS",
          "ID": "CS",
          "author": "Yao",
          "flux": 3.01,
          "normalized_flux": 98.0456026058632,
          "sample_id": "0.2"
         },
         {
          "BiGG_ID": "ACONTa",
          "ID": "ACONTa+ACONTb",
          "author": "Yao",
          "flux": 3.01,
          "normalized_flux": 98.0456026058632,
          "sample_id": "0.2"
         },
         {
          "BiGG_ID": "ACONTb",
          "ID": "ACONTa+ACONTb",
          "author": "Yao",
          "flux": 3.01,
          "normalized_flux": 98.0456026058632,
          "sample_id": "0.2"
         },
         {
          "BiGG_ID": "ICDHyr",
          "ID": "ICDHyr",
          "author": "Yao",
          "flux": 2.64,
          "normalized_flux": 85.99348534201955,
          "sample_id": "0.2"
         },
         {
          "BiGG_ID": "AKGDH",
          "ID": "AKGDH",
          "author": "Yao",
          "flux": 2.32,
          "normalized_flux": 75.57003257328991,
          "sample_id": "0.2"
         },
         {
          "BiGG_ID": "SUCOAS",
          "ID": "SUCOAS",
          "author": "Yao",
          "flux": 2.32,
          "normalized_flux": 75.57003257328991,
          "sample_id": "0.2"
         },
         {
          "BiGG_ID": "SUCDi",
          "ID": "SUCDi",
          "author": "Yao",
          "flux": 2.69,
          "normalized_flux": 87.62214983713356,
          "sample_id": "0.2"
         },
         {
          "BiGG_ID": "FUM",
          "ID": "FUM",
          "author": "Yao",
          "flux": 2.69,
          "normalized_flux": 87.62214983713356,
          "sample_id": "0.2"
         },
         {
          "BiGG_ID": "ME1",
          "ID": "ME1",
          "author": "Yao",
          "flux": 0,
          "normalized_flux": 0,
          "sample_id": "0.2"
         },
         {
          "BiGG_ID": "ICL",
          "ID": "ICL",
          "author": "Yao",
          "flux": 0.37,
          "normalized_flux": 12.052117263843648,
          "sample_id": "0.2"
         },
         {
          "BiGG_ID": "MDH",
          "ID": "MDH",
          "author": "Yao",
          "flux": 3.06,
          "normalized_flux": 99.6742671009772,
          "sample_id": "0.2"
         },
         {
          "BiGG_ID": "NADTRHD",
          "ID": "NADTRHD",
          "author": "Yao",
          "flux": 0.4,
          "normalized_flux": 13.029315960912053,
          "sample_id": "0.2"
         },
         {
          "BiGG_ID": "G6PDH2r",
          "ID": "G6PDH2r",
          "author": "Yao",
          "flux": 0.31,
          "normalized_flux": 10.097719869706841,
          "sample_id": "0.2"
         },
         {
          "BiGG_ID": "GND",
          "ID": "GND",
          "author": "Yao",
          "flux": 0.31,
          "normalized_flux": 10.097719869706841,
          "sample_id": "0.2"
         },
         {
          "BiGG_ID": "RPE",
          "ID": "RPE",
          "author": "Yao",
          "flux": 0.09,
          "normalized_flux": 2.9315960912052117,
          "sample_id": "0.2"
         },
         {
          "BiGG_ID": "RPI",
          "ID": "RPI",
          "author": "Yao",
          "flux": 0.22,
          "normalized_flux": 7.166123778501629,
          "sample_id": "0.2"
         },
         {
          "BiGG_ID": "TKT1",
          "ID": "TKT1",
          "author": "Yao",
          "flux": 0.09,
          "normalized_flux": 2.9315960912052117,
          "sample_id": "0.2"
         },
         {
          "BiGG_ID": "TKT2",
          "ID": "TKT2",
          "author": "Yao",
          "flux": 0.002,
          "normalized_flux": 0.06514657980456026,
          "sample_id": "0.2"
         },
         {
          "BiGG_ID": "TALA",
          "ID": "TALA",
          "author": "Yao",
          "flux": 0.09,
          "normalized_flux": 2.9315960912052117,
          "sample_id": "0.2"
         },
         {
          "BiGG_ID": "PGCD",
          "ID": "PGCD",
          "author": "Yao",
          "flux": 0.17,
          "normalized_flux": 5.537459283387623,
          "sample_id": "0.2"
         },
         {
          "BiGG_ID": "GHMT2r",
          "ID": "GHMT2r",
          "author": "Yao",
          "flux": 0.12,
          "normalized_flux": 3.908794788273616,
          "sample_id": "0.2"
         },
         {
          "BiGG_ID": "GLCptspp",
          "ID": "GLCptspp",
          "author": "Yao",
          "flux": 4.75,
          "normalized_flux": 100,
          "sample_id": "0.4"
         },
         {
          "BiGG_ID": "PGI",
          "ID": "PGI",
          "author": "Yao",
          "flux": 3.86,
          "normalized_flux": 81.26315789473684,
          "sample_id": "0.4"
         },
         {
          "BiGG_ID": "PFK",
          "ID": "PFK+FBA",
          "author": "Yao",
          "flux": 4.16,
          "normalized_flux": 87.57894736842105,
          "sample_id": "0.4"
         },
         {
          "BiGG_ID": "FBA",
          "ID": "PFK+FBA",
          "author": "Yao",
          "flux": 4.16,
          "normalized_flux": 87.57894736842105,
          "sample_id": "0.4"
         },
         {
          "BiGG_ID": "GAPD",
          "ID": "GAPD+PGK",
          "author": "Yao",
          "flux": 8.35,
          "normalized_flux": 175.78947368421052,
          "sample_id": "0.4"
         },
         {
          "BiGG_ID": "PGK",
          "ID": "GAPD+PGK",
          "author": "Yao",
          "flux": 8.35,
          "normalized_flux": 175.78947368421052,
          "sample_id": "0.4"
         },
         {
          "BiGG_ID": "PGM",
          "ID": "PGM+ENO",
          "author": "Yao",
          "flux": 7.34,
          "normalized_flux": 154.5263157894737,
          "sample_id": "0.4"
         },
         {
          "BiGG_ID": "ENO",
          "ID": "PGM+ENO",
          "author": "Yao",
          "flux": 7.34,
          "normalized_flux": 154.5263157894737,
          "sample_id": "0.4"
         },
         {
          "BiGG_ID": "PYK",
          "ID": "PYK",
          "author": "Yao",
          "flux": 5.61,
          "normalized_flux": 118.10526315789474,
          "sample_id": "0.4"
         },
         {
          "BiGG_ID": "PDH",
          "ID": "PDH",
          "author": "Yao",
          "flux": 4.2,
          "normalized_flux": 88.42105263157896,
          "sample_id": "0.4"
         },
         {
          "BiGG_ID": "PTAr",
          "ID": "PTAr+ACKr",
          "author": "Yao",
          "flux": 0.01,
          "normalized_flux": 0.21052631578947367,
          "sample_id": "0.4"
         },
         {
          "BiGG_ID": "ACKr",
          "ID": "PTAr+ACKr",
          "author": "Yao",
          "flux": 0.01,
          "normalized_flux": 0.21052631578947367,
          "sample_id": "0.4"
         },
         {
          "BiGG_ID": "ACt2r",
          "ID": "ACt2r",
          "author": "Yao",
          "flux": 0.01,
          "normalized_flux": 0.21052631578947367,
          "sample_id": "0.4"
         },
         {
          "BiGG_ID": "PPC",
          "ID": "PPC",
          "author": "Yao",
          "flux": 1.35,
          "normalized_flux": 28.421052631578945,
          "sample_id": "0.4"
         },
         {
          "BiGG_ID": "CS",
          "ID": "CS",
          "author": "Yao",
          "flux": 3.21,
          "normalized_flux": 67.57894736842105,
          "sample_id": "0.4"
         },
         {
          "BiGG_ID": "ACONTa",
          "ID": "ACONTa+ACONTb",
          "author": "Yao",
          "flux": 3.21,
          "normalized_flux": 67.57894736842105,
          "sample_id": "0.4"
         },
         {
          "BiGG_ID": "ACONTb",
          "ID": "ACONTa+ACONTb",
          "author": "Yao",
          "flux": 3.21,
          "normalized_flux": 67.57894736842105,
          "sample_id": "0.4"
         },
         {
          "BiGG_ID": "ICDHyr",
          "ID": "ICDHyr",
          "author": "Yao",
          "flux": 3.21,
          "normalized_flux": 67.57894736842105,
          "sample_id": "0.4"
         },
         {
          "BiGG_ID": "AKGDH",
          "ID": "AKGDH",
          "author": "Yao",
          "flux": 2.58,
          "normalized_flux": 54.31578947368422,
          "sample_id": "0.4"
         },
         {
          "BiGG_ID": "SUCOAS",
          "ID": "SUCOAS",
          "author": "Yao",
          "flux": 2.58,
          "normalized_flux": 54.31578947368422,
          "sample_id": "0.4"
         },
         {
          "BiGG_ID": "SUCDi",
          "ID": "SUCDi",
          "author": "Yao",
          "flux": 2.58,
          "normalized_flux": 54.31578947368422,
          "sample_id": "0.4"
         },
         {
          "BiGG_ID": "FUM",
          "ID": "FUM",
          "author": "Yao",
          "flux": 2.58,
          "normalized_flux": 54.31578947368422,
          "sample_id": "0.4"
         },
         {
          "BiGG_ID": "ME1",
          "ID": "ME1",
          "author": "Yao",
          "flux": 0.01,
          "normalized_flux": 0.21052631578947367,
          "sample_id": "0.4"
         },
         {
          "BiGG_ID": "ICL",
          "ID": "ICL",
          "author": "Yao",
          "flux": 0,
          "normalized_flux": 0,
          "sample_id": "0.4"
         },
         {
          "BiGG_ID": "MDH",
          "ID": "MDH",
          "author": "Yao",
          "flux": 2.57,
          "normalized_flux": 54.10526315789473,
          "sample_id": "0.4"
         },
         {
          "BiGG_ID": "NADTRHD",
          "ID": "NADTRHD",
          "author": "Yao",
          "flux": 2.42,
          "normalized_flux": 50.94736842105263,
          "sample_id": "0.4"
         },
         {
          "BiGG_ID": "G6PDH2r",
          "ID": "G6PDH2r",
          "author": "Yao",
          "flux": 0.82,
          "normalized_flux": 17.263157894736842,
          "sample_id": "0.4"
         },
         {
          "BiGG_ID": "GND",
          "ID": "GND",
          "author": "Yao",
          "flux": 0.82,
          "normalized_flux": 17.263157894736842,
          "sample_id": "0.4"
         },
         {
          "BiGG_ID": "RPE",
          "ID": "RPE",
          "author": "Yao",
          "flux": 0.33,
          "normalized_flux": 6.947368421052631,
          "sample_id": "0.4"
         },
         {
          "BiGG_ID": "RPI",
          "ID": "RPI",
          "author": "Yao",
          "flux": 0.5,
          "normalized_flux": 10.526315789473683,
          "sample_id": "0.4"
         },
         {
          "BiGG_ID": "TKT1",
          "ID": "TKT1",
          "author": "Yao",
          "flux": 0.25,
          "normalized_flux": 5.263157894736842,
          "sample_id": "0.4"
         },
         {
          "BiGG_ID": "TKT2",
          "ID": "TKT2",
          "author": "Yao",
          "flux": 0.07,
          "normalized_flux": 1.473684210526316,
          "sample_id": "0.4"
         },
         {
          "BiGG_ID": "TALA",
          "ID": "TALA",
          "author": "Yao",
          "flux": 0.25,
          "normalized_flux": 5.263157894736842,
          "sample_id": "0.4"
         },
         {
          "BiGG_ID": "PGCD",
          "ID": "PGCD",
          "author": "Yao",
          "flux": 0.34,
          "normalized_flux": 7.157894736842106,
          "sample_id": "0.4"
         },
         {
          "BiGG_ID": "GHMT2r",
          "ID": "GHMT2r",
          "author": "Yao",
          "flux": 0.23,
          "normalized_flux": 4.842105263157895,
          "sample_id": "0.4"
         },
         {
          "BiGG_ID": "GLCptspp",
          "ID": "GLCptspp",
          "author": "Yao",
          "flux": 6.67,
          "normalized_flux": 100,
          "sample_id": "0.6"
         },
         {
          "BiGG_ID": "PGI",
          "ID": "PGI",
          "author": "Yao",
          "flux": 5.69,
          "normalized_flux": 85.30734632683658,
          "sample_id": "0.6"
         },
         {
          "BiGG_ID": "PFK",
          "ID": "PFK+FBA",
          "author": "Yao",
          "flux": 5.91,
          "normalized_flux": 88.6056971514243,
          "sample_id": "0.6"
         },
         {
          "BiGG_ID": "FBA",
          "ID": "PFK+FBA",
          "author": "Yao",
          "flux": 5.91,
          "normalized_flux": 88.6056971514243,
          "sample_id": "0.6"
         },
         {
          "BiGG_ID": "GAPD",
          "ID": "GAPD+PGK",
          "author": "Yao",
          "flux": 11.76,
          "normalized_flux": 176.311844077961,
          "sample_id": "0.6"
         },
         {
          "BiGG_ID": "PGK",
          "ID": "GAPD+PGK",
          "author": "Yao",
          "flux": 11.76,
          "normalized_flux": 176.311844077961,
          "sample_id": "0.6"
         },
         {
          "BiGG_ID": "PGM",
          "ID": "PGM+ENO",
          "author": "Yao",
          "flux": 10.27,
          "normalized_flux": 153.97301349325338,
          "sample_id": "0.6"
         },
         {
          "BiGG_ID": "ENO",
          "ID": "PGM+ENO",
          "author": "Yao",
          "flux": 10.27,
          "normalized_flux": 153.97301349325338,
          "sample_id": "0.6"
         },
         {
          "BiGG_ID": "PYK",
          "ID": "PYK",
          "author": "Yao",
          "flux": 7.56,
          "normalized_flux": 113.34332833583207,
          "sample_id": "0.6"
         },
         {
          "BiGG_ID": "PDH",
          "ID": "PDH",
          "author": "Yao",
          "flux": 5.68,
          "normalized_flux": 85.15742128935531,
          "sample_id": "0.6"
         },
         {
          "BiGG_ID": "PTAr",
          "ID": "PTAr+ACKr",
          "author": "Yao",
          "flux": 0.88,
          "normalized_flux": 13.193403298350825,
          "sample_id": "0.6"
         },
         {
          "BiGG_ID": "ACKr",
          "ID": "PTAr+ACKr",
          "author": "Yao",
          "flux": 0.88,
          "normalized_flux": 13.193403298350825,
          "sample_id": "0.6"
         },
         {
          "BiGG_ID": "ACt2r",
          "ID": "ACt2r",
          "author": "Yao",
          "flux": 0.88,
          "normalized_flux": 13.193403298350825,
          "sample_id": "0.6"
         },
         {
          "BiGG_ID": "PPC",
          "ID": "PPC",
          "author": "Yao",
          "flux": 2.17,
          "normalized_flux": 32.53373313343329,
          "sample_id": "0.6"
         },
         {
          "BiGG_ID": "CS",
          "ID": "CS",
          "author": "Yao",
          "flux": 3.35,
          "normalized_flux": 50.22488755622189,
          "sample_id": "0.6"
         },
         {
          "BiGG_ID": "ACONTa",
          "ID": "ACONTa+ACONTb",
          "author": "Yao",
          "flux": 3.35,
          "normalized_flux": 50.22488755622189,
          "sample_id": "0.6"
         },
         {
          "BiGG_ID": "ACONTb",
          "ID": "ACONTa+ACONTb",
          "author": "Yao",
          "flux": 3.35,
          "normalized_flux": 50.22488755622189,
          "sample_id": "0.6"
         },
         {
          "BiGG_ID": "ICDHyr",
          "ID": "ICDHyr",
          "author": "Yao",
          "flux": 3.35,
          "normalized_flux": 50.22488755622189,
          "sample_id": "0.6"
         },
         {
          "BiGG_ID": "AKGDH",
          "ID": "AKGDH",
          "author": "Yao",
          "flux": 2.43,
          "normalized_flux": 36.43178410794603,
          "sample_id": "0.6"
         },
         {
          "BiGG_ID": "SUCOAS",
          "ID": "SUCOAS",
          "author": "Yao",
          "flux": 2.43,
          "normalized_flux": 36.43178410794603,
          "sample_id": "0.6"
         },
         {
          "BiGG_ID": "SUCDi",
          "ID": "SUCDi",
          "author": "Yao",
          "flux": 2.43,
          "normalized_flux": 36.43178410794603,
          "sample_id": "0.6"
         },
         {
          "BiGG_ID": "FUM",
          "ID": "FUM",
          "author": "Yao",
          "flux": 2.43,
          "normalized_flux": 36.43178410794603,
          "sample_id": "0.6"
         },
         {
          "BiGG_ID": "ME1",
          "ID": "ME1",
          "author": "Yao",
          "flux": 0.2,
          "normalized_flux": 2.9985007496251876,
          "sample_id": "0.6"
         },
         {
          "BiGG_ID": "ICL",
          "ID": "ICL",
          "author": "Yao",
          "flux": 0,
          "normalized_flux": 0,
          "sample_id": "0.6"
         },
         {
          "BiGG_ID": "MDH",
          "ID": "MDH",
          "author": "Yao",
          "flux": 2.23,
          "normalized_flux": 33.43328335832084,
          "sample_id": "0.6"
         },
         {
          "BiGG_ID": "NADTRHD",
          "ID": "NADTRHD",
          "author": "Yao",
          "flux": 5.47,
          "normalized_flux": 82.00899550224887,
          "sample_id": "0.6"
         },
         {
          "BiGG_ID": "G6PDH2r",
          "ID": "G6PDH2r",
          "author": "Yao",
          "flux": 0.88,
          "normalized_flux": 13.193403298350825,
          "sample_id": "0.6"
         },
         {
          "BiGG_ID": "GND",
          "ID": "GND",
          "author": "Yao",
          "flux": 0.88,
          "normalized_flux": 13.193403298350825,
          "sample_id": "0.6"
         },
         {
          "BiGG_ID": "RPE",
          "ID": "RPE",
          "author": "Yao",
          "flux": 0.26,
          "normalized_flux": 3.8980509745127434,
          "sample_id": "0.6"
         },
         {
          "BiGG_ID": "RPI",
          "ID": "RPI",
          "author": "Yao",
          "flux": 0.62,
          "normalized_flux": 9.295352323838081,
          "sample_id": "0.6"
         },
         {
          "BiGG_ID": "TKT1",
          "ID": "TKT1",
          "author": "Yao",
          "flux": 0.26,
          "normalized_flux": 3.8980509745127434,
          "sample_id": "0.6"
         },
         {
          "BiGG_ID": "TKT2",
          "ID": "TKT2",
          "author": "Yao",
          "flux": 0,
          "normalized_flux": 0,
          "sample_id": "0.6"
         },
         {
          "BiGG_ID": "TALA",
          "ID": "TALA",
          "author": "Yao",
          "flux": 0.26,
          "normalized_flux": 3.8980509745127434,
          "sample_id": "0.6"
         },
         {
          "BiGG_ID": "PGCD",
          "ID": "PGCD",
          "author": "Yao",
          "flux": 0.5,
          "normalized_flux": 7.496251874062969,
          "sample_id": "0.6"
         },
         {
          "BiGG_ID": "GHMT2r",
          "ID": "GHMT2r",
          "author": "Yao",
          "flux": 0.34,
          "normalized_flux": 5.097451274362819,
          "sample_id": "0.6"
         },
         {
          "BiGG_ID": "GLCptspp",
          "ID": "GLCptspp",
          "author": "Yao",
          "flux": 8.05,
          "normalized_flux": 100,
          "sample_id": "0.7"
         },
         {
          "BiGG_ID": "PGI",
          "ID": "PGI",
          "author": "Yao",
          "flux": 6.9,
          "normalized_flux": 85.71428571428571,
          "sample_id": "0.7"
         },
         {
          "BiGG_ID": "PFK",
          "ID": "PFK+FBA",
          "author": "Yao",
          "flux": 7.14,
          "normalized_flux": 88.69565217391303,
          "sample_id": "0.7"
         },
         {
          "BiGG_ID": "FBA",
          "ID": "PFK+FBA",
          "author": "Yao",
          "flux": 7.14,
          "normalized_flux": 88.69565217391303,
          "sample_id": "0.7"
         },
         {
          "BiGG_ID": "GAPD",
          "ID": "GAPD+PGK",
          "author": "Yao",
          "flux": 14.21,
          "normalized_flux": 176.52173913043478,
          "sample_id": "0.7"
         },
         {
          "BiGG_ID": "PGK",
          "ID": "GAPD+PGK",
          "author": "Yao",
          "flux": 14.21,
          "normalized_flux": 176.52173913043478,
          "sample_id": "0.7"
         },
         {
          "BiGG_ID": "PGM",
          "ID": "PGM+ENO",
          "author": "Yao",
          "flux": 12.44,
          "normalized_flux": 154.53416149068323,
          "sample_id": "0.7"
         },
         {
          "BiGG_ID": "ENO",
          "ID": "PGM+ENO",
          "author": "Yao",
          "flux": 12.44,
          "normalized_flux": 154.53416149068323,
          "sample_id": "0.7"
         },
         {
          "BiGG_ID": "PYK",
          "ID": "PYK",
          "author": "Yao",
          "flux": 9.21,
          "normalized_flux": 114.40993788819875,
          "sample_id": "0.7"
         },
         {
          "BiGG_ID": "PDH",
          "ID": "PDH",
          "author": "Yao",
          "flux": 7,
          "normalized_flux": 86.95652173913044,
          "sample_id": "0.7"
         },
         {
          "BiGG_ID": "PTAr",
          "ID": "PTAr+ACKr",
          "author": "Yao",
          "flux": 1.33,
          "normalized_flux": 16.52173913043478,
          "sample_id": "0.7"
         },
         {
          "BiGG_ID": "ACKr",
          "ID": "PTAr+ACKr",
          "author": "Yao",
          "flux": 1.33,
          "normalized_flux": 16.52173913043478,
          "sample_id": "0.7"
         },
         {
          "BiGG_ID": "ACt2r",
          "ID": "ACt2r",
          "author": "Yao",
          "flux": 1.33,
          "normalized_flux": 16.52173913043478,
          "sample_id": "0.7"
         },
         {
          "BiGG_ID": "PPC",
          "ID": "PPC",
          "author": "Yao",
          "flux": 2.57,
          "normalized_flux": 31.92546583850931,
          "sample_id": "0.7"
         },
         {
          "BiGG_ID": "CS",
          "ID": "CS",
          "author": "Yao",
          "flux": 3.88,
          "normalized_flux": 48.198757763975145,
          "sample_id": "0.7"
         },
         {
          "BiGG_ID": "ACONTa",
          "ID": "ACONTa+ACONTb",
          "author": "Yao",
          "flux": 3.88,
          "normalized_flux": 48.198757763975145,
          "sample_id": "0.7"
         },
         {
          "BiGG_ID": "ACONTb",
          "ID": "ACONTa+ACONTb",
          "author": "Yao",
          "flux": 3.88,
          "normalized_flux": 48.198757763975145,
          "sample_id": "0.7"
         },
         {
          "BiGG_ID": "ICDHyr",
          "ID": "ICDHyr",
          "author": "Yao",
          "flux": 3.88,
          "normalized_flux": 48.198757763975145,
          "sample_id": "0.7"
         },
         {
          "BiGG_ID": "AKGDH",
          "ID": "AKGDH",
          "author": "Yao",
          "flux": 2.79,
          "normalized_flux": 34.658385093167695,
          "sample_id": "0.7"
         },
         {
          "BiGG_ID": "SUCOAS",
          "ID": "SUCOAS",
          "author": "Yao",
          "flux": 2.79,
          "normalized_flux": 34.658385093167695,
          "sample_id": "0.7"
         },
         {
          "BiGG_ID": "SUCDi",
          "ID": "SUCDi",
          "author": "Yao",
          "flux": 2.79,
          "normalized_flux": 34.658385093167695,
          "sample_id": "0.7"
         },
         {
          "BiGG_ID": "FUM",
          "ID": "FUM",
          "author": "Yao",
          "flux": 2.79,
          "normalized_flux": 34.658385093167695,
          "sample_id": "0.7"
         },
         {
          "BiGG_ID": "ME1",
          "ID": "ME1",
          "author": "Yao",
          "flux": 0.22,
          "normalized_flux": 2.732919254658385,
          "sample_id": "0.7"
         },
         {
          "BiGG_ID": "ICL",
          "ID": "ICL",
          "author": "Yao",
          "flux": 0,
          "normalized_flux": 0,
          "sample_id": "0.7"
         },
         {
          "BiGG_ID": "MDH",
          "ID": "MDH",
          "author": "Yao",
          "flux": 2.56,
          "normalized_flux": 31.80124223602484,
          "sample_id": "0.7"
         },
         {
          "BiGG_ID": "NADTRHD",
          "ID": "NADTRHD",
          "author": "Yao",
          "flux": 6.7,
          "normalized_flux": 83.22981366459626,
          "sample_id": "0.7"
         },
         {
          "BiGG_ID": "G6PDH2r",
          "ID": "G6PDH2r",
          "author": "Yao",
          "flux": 1.06,
          "normalized_flux": 13.167701863354036,
          "sample_id": "0.7"
         },
         {
          "BiGG_ID": "GND",
          "ID": "GND",
          "author": "Yao",
          "flux": 1.06,
          "normalized_flux": 13.167701863354036,
          "sample_id": "0.7"
         },
         {
          "BiGG_ID": "RPE",
          "ID": "RPE",
          "author": "Yao",
          "flux": 0.3,
          "normalized_flux": 3.726708074534161,
          "sample_id": "0.7"
         },
         {
          "BiGG_ID": "RPI",
          "ID": "RPI",
          "author": "Yao",
          "flux": 0.73,
          "normalized_flux": 9.068322981366459,
          "sample_id": "0.7"
         },
         {
          "BiGG_ID": "TKT1",
          "ID": "TKT1",
          "author": "Yao",
          "flux": 0.3,
          "normalized_flux": 3.726708074534161,
          "sample_id": "0.7"
         },
         {
          "BiGG_ID": "TKT2",
          "ID": "TKT2",
          "author": "Yao",
          "flux": 0,
          "normalized_flux": 0,
          "sample_id": "0.7"
         },
         {
          "BiGG_ID": "TALA",
          "ID": "TALA",
          "author": "Yao",
          "flux": 0.3,
          "normalized_flux": 3.726708074534161,
          "sample_id": "0.7"
         },
         {
          "BiGG_ID": "PGCD",
          "ID": "PGCD",
          "author": "Yao",
          "flux": 0.59,
          "normalized_flux": 7.32919254658385,
          "sample_id": "0.7"
         },
         {
          "BiGG_ID": "GHMT2r",
          "ID": "GHMT2r",
          "author": "Yao",
          "flux": 0.4,
          "normalized_flux": 4.968944099378882,
          "sample_id": "0.7"
         }
        ]
       },
       "facet": {
        "column": {
         "field": "BiGG_ID",
         "type": "nominal"
        }
       },
       "spec": {
        "encoding": {
         "color": {
          "field": "sample_id",
          "type": "nominal"
         },
         "tooltip": [
          {
           "field": "author",
           "type": "nominal"
          },
          {
           "field": "sample_id",
           "type": "nominal"
          }
         ],
         "x": {
          "field": "sample_id",
          "title": null,
          "type": "nominal"
         },
         "y": {
          "field": "normalized_flux",
          "title": "Normalized flux",
          "type": "quantitative"
         }
        },
        "mark": {
         "size": 200,
         "type": "circle"
        }
       }
      },
      "image/png": "[encoded data removed]",
      "text/plain": [
       "<VegaLite 2 object>\n",
       "\n",
       "If you see this message, it means the renderer has not been properly enabled\n",
       "for the frontend that you are using. For more information, see\n",
       "https://altair-viz.github.io/user_guide/troubleshooting.html\n"
      ]
     },
     "execution_count": 27,
     "metadata": {},
     "output_type": "execute_result"
    }
   ],
   "source": [
    "# put errors for each dataset as datapoints\n",
    "chart = (\n",
    "    alt.Chart(\n",
    "        all_results.query('BiGG_ID in @exp_results.BiGG_ID.unique()'),\n",
    "        # title = \"Normalized error, ZWF sensitivity\"\n",
    "    )\n",
    "    .mark_circle(size=200)\n",
    "    .encode(\n",
    "        y=alt.Y(\"normalized_flux\", title=\"Normalized flux\"),\n",
    "        color=alt.Color(\"sample_id:N\"),\n",
    "        tooltip = [\"author\", \"sample_id\"],\n",
    "        x=alt.X(\"sample_id:N\", title=None),\n",
    "    )\n",
    "    .facet(column=\"BiGG_ID:N\")\n",
    "    .configure_axis(labelFontSize=20, titleFontSize=24)\n",
    "    .configure_legend(labelFontSize=16, titleFontSize=20)\n",
    ")\n",
    "\n",
    "chart\n",
    "# (errors + mean_error).properties(width=600, height = 500).configure_axis(labelFontSize = 20, titleFontSize = 24).configure_legend(labelFontSize = 16, titleFontSize = 20)\n",
    "# errors"
   ]
  },
  {
   "cell_type": "code",
   "execution_count": 28,
   "metadata": {},
   "outputs": [
    {
     "data": {
      "application/vnd.vegalite.v2+json": {
       "$schema": "https://vega.github.io/schema/vega-lite/v2.4.3.json",
       "config": {
        "axis": {
         "labelFontSize": 20,
         "titleFontSize": 24
        },
        "legend": {
         "labelFontSize": 16,
         "titleFontSize": 20
        },
        "view": {
         "height": 300,
         "width": 400
        }
       },
       "data": {
        "values": [
         {
          "author": "Kurata",
          "normalized_error": 0.529253925433104,
          "sample_id": "0.2"
         },
         {
          "author": "Kurata",
          "normalized_error": 0.37696427517763736,
          "sample_id": "0.4"
         },
         {
          "author": "Kurata",
          "normalized_error": 0.30932609091258323,
          "sample_id": "0.6"
         },
         {
          "author": "Kurata",
          "normalized_error": 0.3219444597736112,
          "sample_id": "0.7"
         }
        ]
       },
       "encoding": {
        "color": {
         "field": "author",
         "sort": [
          "Kurata"
         ],
         "type": "nominal"
        },
        "tooltip": [
         {
          "field": "author",
          "type": "nominal"
         },
         {
          "field": "sample_id",
          "type": "nominal"
         },
         {
          "field": "normalized_error",
          "type": "quantitative"
         }
        ],
        "x": {
         "field": "sample_id",
         "sort": [
          "0.2",
          "0.4",
          "0.6",
          "0.7"
         ],
         "type": "nominal"
        },
        "y": {
         "field": "normalized_error",
         "title": "Normalized error",
         "type": "quantitative"
        }
       },
       "height": 500,
       "mark": {
        "size": 100,
        "type": "circle"
       },
       "title": "Normalized error, various Dilutions",
       "width": 600
      },
      "image/png": "[encoded data removed]",
      "text/plain": [
       "<VegaLite 2 object>\n",
       "\n",
       "If you see this message, it means the renderer has not been properly enabled\n",
       "for the frontend that you are using. For more information, see\n",
       "https://altair-viz.github.io/user_guide/troubleshooting.html\n"
      ]
     },
     "execution_count": 28,
     "metadata": {},
     "output_type": "execute_result"
    }
   ],
   "source": [
    "# put errors for each dataset as datapoints\n",
    "errors = alt.Chart(\n",
    "    normalized_errors.query(\"author != 'Yao'\"),\n",
    "    title = \"Normalized error, various Dilutions\"\n",
    ").mark_circle(size = 100).encode(\n",
    "    y=alt.Y(\"normalized_error\", title = \"Normalized error\"),   \n",
    "    color=alt.Color(\"author\", sort=[\"Kurata\"]),\n",
    "    tooltip = [\"author\", \"sample_id\", \"normalized_error\"],\n",
    "    x=alt.X(\"sample_id\", sort=[\"0.2\", \"0.4\", \"0.6\", \"0.7\"]),\n",
    ")\n",
    "\n",
    "errors.properties(width=600, height = 500).configure_axis(labelFontSize = 20, titleFontSize = 24).configure_legend(labelFontSize = 16, titleFontSize = 20)\n",
    "# errors"
   ]
  },
  {
   "cell_type": "code",
   "execution_count": null,
   "metadata": {},
   "outputs": [],
   "source": []
  }
 ],
 "metadata": {
  "kernelspec": {
   "display_name": "dataml-conda",
   "language": "python",
   "name": "dataml-conda"
  },
  "language_info": {
   "codemirror_mode": {
    "name": "ipython",
    "version": 3
   },
   "file_extension": ".py",
   "mimetype": "text/x-python",
   "name": "python",
   "nbconvert_exporter": "python",
   "pygments_lexer": "ipython3",
   "version": "3.6.6"
  }
 },
 "nbformat": 4,
 "nbformat_minor": 2
}
