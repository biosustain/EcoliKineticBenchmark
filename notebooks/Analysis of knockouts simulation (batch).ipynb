{
 "cells": [
  {
   "cell_type": "code",
   "execution_count": 1,
   "metadata": {},
   "outputs": [],
   "source": [
    "%reload_ext autoreload\n",
    "%autoreload 2"
   ]
  },
  {
   "cell_type": "code",
   "execution_count": 2,
   "metadata": {},
   "outputs": [],
   "source": [
    "import numpy as np\n",
    "import pandas as pd\n",
    "import xarray as xr\n",
    "\n",
    "from pathlib import Path\n",
    "\n",
    "import altair as alt\n",
    "from altair.expr import datum"
   ]
  },
  {
   "cell_type": "code",
   "execution_count": 3,
   "metadata": {},
   "outputs": [],
   "source": [
    "%load_ext watermark"
   ]
  },
  {
   "cell_type": "code",
   "execution_count": 4,
   "metadata": {},
   "outputs": [
    {
     "name": "stdout",
     "output_type": "stream",
     "text": [
      "xarray    0.14.1\n",
      "numpy     1.18.1\n",
      "altair    4.0.1\n",
      "pandas    1.1.0\n",
      "\n"
     ]
    }
   ],
   "source": [
    "%watermark --iversions"
   ]
  },
  {
   "cell_type": "markdown",
   "metadata": {},
   "source": [
    "# 0. Utility functions"
   ]
  },
  {
   "cell_type": "code",
   "execution_count": 5,
   "metadata": {},
   "outputs": [],
   "source": [
    "from utils.load import load_batch_ko_data\n",
    "from utils.calculate_metrics import (process_data, relative_errors, summary_errors, rms_errors, spearman_errors, branch_stat)"
   ]
  },
  {
   "cell_type": "markdown",
   "metadata": {},
   "source": [
    "# 1. Load the simulation data"
   ]
  },
  {
   "cell_type": "code",
   "execution_count": 6,
   "metadata": {},
   "outputs": [],
   "source": [
    "ko_df, debug_info = load_batch_ko_data()"
   ]
  },
  {
   "cell_type": "code",
   "execution_count": 7,
   "metadata": {},
   "outputs": [
    {
     "data": {
      "text/html": [
       "<div>\n",
       "<style scoped>\n",
       "    .dataframe tbody tr th:only-of-type {\n",
       "        vertical-align: middle;\n",
       "    }\n",
       "\n",
       "    .dataframe tbody tr th {\n",
       "        vertical-align: top;\n",
       "    }\n",
       "\n",
       "    .dataframe thead th {\n",
       "        text-align: right;\n",
       "    }\n",
       "</style>\n",
       "<table border=\"1\" class=\"dataframe\">\n",
       "  <thead>\n",
       "    <tr style=\"text-align: right;\">\n",
       "      <th></th>\n",
       "      <th>flux</th>\n",
       "      <th>ID</th>\n",
       "      <th>BiGG_ID</th>\n",
       "      <th>author</th>\n",
       "      <th>sample_id</th>\n",
       "      <th>normalized_flux</th>\n",
       "    </tr>\n",
       "  </thead>\n",
       "  <tbody>\n",
       "    <tr>\n",
       "      <th>0</th>\n",
       "      <td>-0.059225</td>\n",
       "      <td>ACALD</td>\n",
       "      <td>ACALD</td>\n",
       "      <td>Khodayari</td>\n",
       "      <td>fbaA</td>\n",
       "      <td>-0.059127</td>\n",
       "    </tr>\n",
       "    <tr>\n",
       "      <th>1</th>\n",
       "      <td>-0.004108</td>\n",
       "      <td>ACALDtpp_ex</td>\n",
       "      <td>composed of ACALDtex and ACALDtpp</td>\n",
       "      <td>Khodayari</td>\n",
       "      <td>fbaA</td>\n",
       "      <td>-0.004101</td>\n",
       "    </tr>\n",
       "    <tr>\n",
       "      <th>2</th>\n",
       "      <td>0.000028</td>\n",
       "      <td>ACKr</td>\n",
       "      <td>ACKr</td>\n",
       "      <td>Khodayari</td>\n",
       "      <td>fbaA</td>\n",
       "      <td>0.000028</td>\n",
       "    </tr>\n",
       "    <tr>\n",
       "      <th>3</th>\n",
       "      <td>94.519769</td>\n",
       "      <td>ACONTa</td>\n",
       "      <td>ACONTa</td>\n",
       "      <td>Khodayari</td>\n",
       "      <td>fbaA</td>\n",
       "      <td>94.364274</td>\n",
       "    </tr>\n",
       "    <tr>\n",
       "      <th>4</th>\n",
       "      <td>94.276304</td>\n",
       "      <td>ACONTb</td>\n",
       "      <td>ACONTb</td>\n",
       "      <td>Khodayari</td>\n",
       "      <td>fbaA</td>\n",
       "      <td>94.121209</td>\n",
       "    </tr>\n",
       "  </tbody>\n",
       "</table>\n",
       "</div>"
      ],
      "text/plain": [
       "        flux           ID                            BiGG_ID     author  \\\n",
       "0  -0.059225        ACALD                              ACALD  Khodayari   \n",
       "1  -0.004108  ACALDtpp_ex  composed of ACALDtex and ACALDtpp  Khodayari   \n",
       "2   0.000028         ACKr                               ACKr  Khodayari   \n",
       "3  94.519769       ACONTa                             ACONTa  Khodayari   \n",
       "4  94.276304       ACONTb                             ACONTb  Khodayari   \n",
       "\n",
       "  sample_id  normalized_flux  \n",
       "0      fbaA        -0.059127  \n",
       "1      fbaA        -0.004101  \n",
       "2      fbaA         0.000028  \n",
       "3      fbaA        94.364274  \n",
       "4      fbaA        94.121209  "
      ]
     },
     "execution_count": 7,
     "metadata": {},
     "output_type": "execute_result"
    }
   ],
   "source": [
    "ko_df.head()"
   ]
  },
  {
   "cell_type": "markdown",
   "metadata": {},
   "source": [
    "### Preprocess data"
   ]
  },
  {
   "cell_type": "code",
   "execution_count": 8,
   "metadata": {},
   "outputs": [],
   "source": [
    "xdf = process_data(ko_df, author=\"Long\")"
   ]
  },
  {
   "cell_type": "code",
   "execution_count": 9,
   "metadata": {},
   "outputs": [
    {
     "name": "stdout",
     "output_type": "stream",
     "text": [
      "No data for branch point MDH_ME\n"
     ]
    }
   ],
   "source": [
    "branch_stat = branch_stat(xdf)"
   ]
  },
  {
   "cell_type": "code",
   "execution_count": 10,
   "metadata": {},
   "outputs": [
    {
     "data": {
      "text/html": [
       "<pre>&lt;xarray.DataArray &#x27;BiGG_ID&#x27; (BiGG_ID: 29)&gt;\n",
       "array([&#x27;AKGDH&#x27;, &#x27;CS&#x27;, &#x27;EDA&#x27;, &#x27;EDD&#x27;, &#x27;FBA&#x27;, &#x27;FBP&#x27;, &#x27;FUM&#x27;, &#x27;G6PDH2r&#x27;, &#x27;GAPD&#x27;,\n",
       "       &#x27;GLCptspp&#x27;, &#x27;GND&#x27;, &#x27;ICDHyr&#x27;, &#x27;ICL&#x27;, &#x27;MALS&#x27;, &#x27;MDH&#x27;, &#x27;PDH&#x27;, &#x27;PFK&#x27;, &#x27;PGI&#x27;,\n",
       "       &#x27;PGM&#x27;, &#x27;PPC&#x27;, &#x27;PPCK&#x27;, &#x27;PTAr&#x27;, &#x27;PYK&#x27;, &#x27;RPE&#x27;, &#x27;RPI&#x27;, &#x27;SUCDi&#x27;, &#x27;TALA&#x27;,\n",
       "       &#x27;TKT1&#x27;, &#x27;TPI&#x27;], dtype=object)\n",
       "Coordinates:\n",
       "  * BiGG_ID  (BiGG_ID) object &#x27;AKGDH&#x27; &#x27;CS&#x27; &#x27;EDA&#x27; &#x27;EDD&#x27; ... &#x27;TALA&#x27; &#x27;TKT1&#x27; &#x27;TPI&#x27;</pre>"
      ],
      "text/plain": [
       "<xarray.DataArray 'BiGG_ID' (BiGG_ID: 29)>\n",
       "array(['AKGDH', 'CS', 'EDA', 'EDD', 'FBA', 'FBP', 'FUM', 'G6PDH2r', 'GAPD',\n",
       "       'GLCptspp', 'GND', 'ICDHyr', 'ICL', 'MALS', 'MDH', 'PDH', 'PFK', 'PGI',\n",
       "       'PGM', 'PPC', 'PPCK', 'PTAr', 'PYK', 'RPE', 'RPI', 'SUCDi', 'TALA',\n",
       "       'TKT1', 'TPI'], dtype=object)\n",
       "Coordinates:\n",
       "  * BiGG_ID  (BiGG_ID) object 'AKGDH' 'CS' 'EDA' 'EDD' ... 'TALA' 'TKT1' 'TPI'"
      ]
     },
     "execution_count": 10,
     "metadata": {},
     "output_type": "execute_result"
    }
   ],
   "source": [
    "xdf.BiGG_ID"
   ]
  },
  {
   "cell_type": "markdown",
   "metadata": {},
   "source": [
    "# 2. Calculate error metrics"
   ]
  },
  {
   "cell_type": "code",
   "execution_count": 11,
   "metadata": {},
   "outputs": [],
   "source": [
    "x_rel_error = relative_errors(xdf, author=\"Long\")"
   ]
  },
  {
   "cell_type": "code",
   "execution_count": 12,
   "metadata": {},
   "outputs": [],
   "source": [
    "x_norm_error = summary_errors(xdf, author=\"Long\")"
   ]
  },
  {
   "cell_type": "code",
   "execution_count": 13,
   "metadata": {},
   "outputs": [
    {
     "name": "stderr",
     "output_type": "stream",
     "text": [
      "/Users/denshe/anaconda3/envs/dataml/lib/python3.6/site-packages/xarray/core/nanops.py:140: RuntimeWarning: Mean of empty slice\n",
      "  return np.nanmean(a, axis=axis, dtype=dtype)\n"
     ]
    }
   ],
   "source": [
    "x_rms_error = rms_errors(xdf, author=\"Long\")"
   ]
  },
  {
   "cell_type": "code",
   "execution_count": 14,
   "metadata": {},
   "outputs": [],
   "source": [
    "x_spearman_error = spearman_errors(xdf, author=\"Long\")"
   ]
  },
  {
   "cell_type": "markdown",
   "metadata": {
    "toc-hr-collapsed": false
   },
   "source": [
    "# 3. Visualize"
   ]
  },
  {
   "cell_type": "markdown",
   "metadata": {},
   "source": [
    "### Summary normalized error for the models"
   ]
  },
  {
   "cell_type": "code",
   "execution_count": 15,
   "metadata": {},
   "outputs": [],
   "source": [
    "from utils.vis import heatmap, boxplot"
   ]
  },
  {
   "cell_type": "code",
   "execution_count": 16,
   "metadata": {},
   "outputs": [
    {
     "data": {
      "text/html": [
       "\n",
       "<div id=\"altair-viz-dae91b2b69d240f6971efe73e9664d6e\"></div>\n",
       "<script type=\"text/javascript\">\n",
       "  (function(spec, embedOpt){\n",
       "    const outputDiv = document.getElementById(\"altair-viz-dae91b2b69d240f6971efe73e9664d6e\");\n",
       "    const paths = {\n",
       "      \"vega\": \"https://cdn.jsdelivr.net/npm//vega@5?noext\",\n",
       "      \"vega-lib\": \"https://cdn.jsdelivr.net/npm//vega-lib?noext\",\n",
       "      \"vega-lite\": \"https://cdn.jsdelivr.net/npm//vega-lite@4.0.2?noext\",\n",
       "      \"vega-embed\": \"https://cdn.jsdelivr.net/npm//vega-embed@6?noext\",\n",
       "    };\n",
       "\n",
       "    function loadScript(lib) {\n",
       "      return new Promise(function(resolve, reject) {\n",
       "        var s = document.createElement('script');\n",
       "        s.src = paths[lib];\n",
       "        s.async = true;\n",
       "        s.onload = () => resolve(paths[lib]);\n",
       "        s.onerror = () => reject(`Error loading script: ${paths[lib]}`);\n",
       "        document.getElementsByTagName(\"head\")[0].appendChild(s);\n",
       "      });\n",
       "    }\n",
       "\n",
       "    function showError(err) {\n",
       "      outputDiv.innerHTML = `<div class=\"error\" style=\"color:red;\">${err}</div>`;\n",
       "      throw err;\n",
       "    }\n",
       "\n",
       "    function displayChart(vegaEmbed) {\n",
       "      vegaEmbed(outputDiv, spec, embedOpt)\n",
       "        .catch(err => showError(`Javascript Error: ${err.message}<br>This usually means there's a typo in your chart specification. See the javascript console for the full traceback.`));\n",
       "    }\n",
       "\n",
       "    if(typeof define === \"function\" && define.amd) {\n",
       "      requirejs.config({paths});\n",
       "      require([\"vega-embed\"], displayChart, err => showError(`Error loading script: ${err.message}`));\n",
       "    } else if (typeof vegaEmbed === \"function\") {\n",
       "      displayChart(vegaEmbed);\n",
       "    } else {\n",
       "      loadScript(\"vega\")\n",
       "        .then(() => loadScript(\"vega-lite\"))\n",
       "        .then(() => loadScript(\"vega-embed\"))\n",
       "        .catch(showError)\n",
       "        .then(() => displayChart(vegaEmbed));\n",
       "    }\n",
       "  })({\"config\": {\"view\": {\"continuousWidth\": 400, \"continuousHeight\": 300, \"stroke\": null}, \"axis\": {\"labelFontSize\": 20, \"titleFontSize\": 20}, \"facet\": {\"spacing\": 5}, \"header\": {\"titleFontSize\": 24}}, \"data\": {\"name\": \"data-7ab41f95ec2281fd54d425ddf8497736\"}, \"facet\": {\"column\": {\"type\": \"nominal\", \"field\": \"author\", \"header\": {\"labelAlign\": \"right\", \"labelAngle\": -90, \"labelFontSize\": 20, \"labelOrient\": \"bottom\", \"labelPadding\": 3, \"title\": \"Summary knockout simulations (batch)\", \"titleOrient\": \"top\"}, \"sort\": [\"Chassagnole\", \"Khodayari\", \"Millard\", \"Kurata\", \"iML1515\", \"Exp_iML1515\"]}}, \"spec\": {\"layer\": [{\"mark\": {\"type\": \"boxplot\", \"outliers\": false, \"size\": 95}, \"encoding\": {\"color\": {\"type\": \"nominal\", \"field\": \"author\", \"legend\": null, \"scale\": {\"domain\": [\"Khodayari\", \"Millard\", \"Kurata\", \"iML1515\", \"Chassagnole\", \"Exp_iML1515\"], \"range\": [\"#1b9e77\", \"#d95f02\", \"#7570b3\", \"#e7298a\", \"#66a61e\", \"#e6ab02\"]}}, \"opacity\": {\"value\": 0.7}, \"y\": {\"type\": \"quantitative\", \"field\": \"normalized_error\", \"title\": \"Normalized Error\"}}}, {\"mark\": \"circle\", \"encoding\": {\"color\": {\"type\": \"nominal\", \"field\": \"author\", \"legend\": null, \"scale\": {\"domain\": [\"Khodayari\", \"Millard\", \"Kurata\", \"iML1515\", \"Chassagnole\", \"Exp_iML1515\"], \"range\": [\"#1b9e77\", \"#d95f02\", \"#7570b3\", \"#e7298a\", \"#66a61e\", \"#e6ab02\"]}}, \"opacity\": {\"value\": 1.0}, \"size\": {\"condition\": {\"value\": 130, \"selection\": \"selector001\"}, \"value\": 50}, \"tooltip\": [{\"type\": \"nominal\", \"field\": \"author\"}, {\"type\": \"nominal\", \"field\": \"sample_id\"}, {\"type\": \"quantitative\", \"field\": \"normalized_error\"}], \"x\": {\"type\": \"quantitative\", \"axis\": {\"grid\": false, \"labels\": false, \"ticks\": true, \"values\": [0]}, \"field\": \"jitter\", \"scale\": {}, \"title\": null}, \"y\": {\"type\": \"quantitative\", \"axis\": {\"tickCount\": 10}, \"field\": \"normalized_error\", \"title\": \"Normalized Error\"}}, \"height\": 600, \"selection\": {\"selector001\": {\"type\": \"single\", \"empty\": \"none\", \"fields\": [\"sample_id\"]}}, \"width\": 100}, {\"mark\": {\"type\": \"point\", \"filled\": true, \"opacity\": 1.0, \"shape\": \"diamond\", \"size\": 180}, \"encoding\": {\"color\": {\"type\": \"nominal\", \"field\": \"author\", \"legend\": null, \"scale\": {\"domain\": [\"Khodayari\", \"Millard\", \"Kurata\", \"iML1515\", \"Chassagnole\", \"Exp_iML1515\"], \"range\": [\"#1b9e77\", \"#d95f02\", \"#7570b3\", \"#e7298a\", \"#66a61e\", \"#e6ab02\"]}}, \"tooltip\": [{\"type\": \"nominal\", \"field\": \"author\"}, {\"type\": \"nominal\", \"field\": \"sample_id\"}, {\"type\": \"quantitative\", \"field\": \"normalized_error\"}], \"x\": {\"type\": \"quantitative\", \"field\": \"jitter\", \"title\": null}, \"y\": {\"type\": \"quantitative\", \"field\": \"normalized_error\", \"title\": \"Normalized Error\"}}, \"transform\": [{\"filter\": \"datum.sample_id === \\\"WT\\\"\"}]}, {\"mark\": {\"type\": \"text\", \"dy\": 10, \"text\": \"WT\"}, \"encoding\": {\"tooltip\": [{\"type\": \"nominal\", \"field\": \"author\"}, {\"type\": \"nominal\", \"field\": \"sample_id\"}, {\"type\": \"quantitative\", \"field\": \"normalized_error\"}], \"x\": {\"type\": \"quantitative\", \"field\": \"jitter\", \"title\": null}, \"y\": {\"type\": \"quantitative\", \"field\": \"normalized_error\", \"title\": \"Normalized Error\"}}, \"transform\": [{\"filter\": \"datum.sample_id === \\\"WT\\\"\"}]}], \"transform\": [{\"calculate\": \"sqrt(-2*log(random()))*cos(2*PI*random())\", \"as\": \"jitter\"}]}, \"transform\": [{\"filter\": \"datum.normalized_error !== null\"}], \"$schema\": \"https://vega.github.io/schema/vega-lite/v4.0.2.json\", \"datasets\": {\"data-7ab41f95ec2281fd54d425ddf8497736\": [{\"author\": \"Chassagnole\", \"sample_id\": \"WT\", \"normalized_error\": 0.3653505470722835, \"unnormalized_error\": 121.65465535955286}, {\"author\": \"Chassagnole\", \"sample_id\": \"eda\", \"normalized_error\": null, \"unnormalized_error\": null}, {\"author\": \"Chassagnole\", \"sample_id\": \"fbaB\", \"normalized_error\": 0.762311428005239, \"unnormalized_error\": 290.59661592791133}, {\"author\": \"Chassagnole\", \"sample_id\": \"gnd\", \"normalized_error\": 0.6836697312772966, \"unnormalized_error\": 215.29451312398317}, {\"author\": \"Chassagnole\", \"sample_id\": \"pfkA\", \"normalized_error\": 0.7388257264923145, \"unnormalized_error\": 260.4459822883263}, {\"author\": \"Chassagnole\", \"sample_id\": \"pfkB\", \"normalized_error\": 0.6589073104672063, \"unnormalized_error\": 211.82120729467238}, {\"author\": \"Chassagnole\", \"sample_id\": \"pgi\", \"normalized_error\": 0.7763974125521645, \"unnormalized_error\": 403.1992481770395}, {\"author\": \"Chassagnole\", \"sample_id\": \"rpe\", \"normalized_error\": 0.9936840360372771, \"unnormalized_error\": 341.4687007700719}, {\"author\": \"Chassagnole\", \"sample_id\": \"rpiB\", \"normalized_error\": 0.7375624866474789, \"unnormalized_error\": 277.1960301892605}, {\"author\": \"Chassagnole\", \"sample_id\": \"talA\", \"normalized_error\": 0.4565690471330469, \"unnormalized_error\": 160.3508713833114}, {\"author\": \"Chassagnole\", \"sample_id\": \"talB\", \"normalized_error\": 0.3641054080121527, \"unnormalized_error\": 116.08170934304859}, {\"author\": \"Chassagnole\", \"sample_id\": \"zwf\", \"normalized_error\": 0.662322073602663, \"unnormalized_error\": 356.09011923223494}, {\"author\": \"Exp_iML1515\", \"sample_id\": \"WT\", \"normalized_error\": 0.14682071200307625, \"unnormalized_error\": 48.888453189710376}, {\"author\": \"Exp_iML1515\", \"sample_id\": \"eda\", \"normalized_error\": 0.17032957218019437, \"unnormalized_error\": 58.08780343792033}, {\"author\": \"Exp_iML1515\", \"sample_id\": \"edd\", \"normalized_error\": 0.14080747909905406, \"unnormalized_error\": 46.54164541829715}, {\"author\": \"Exp_iML1515\", \"sample_id\": \"fbaB\", \"normalized_error\": 0.5662291294167607, \"unnormalized_error\": 215.84914354345372}, {\"author\": \"Exp_iML1515\", \"sample_id\": \"fbp\", \"normalized_error\": 0.26735284128478115, \"unnormalized_error\": 92.46818438621196}, {\"author\": \"Exp_iML1515\", \"sample_id\": \"gnd\", \"normalized_error\": 0.1913424344140447, \"unnormalized_error\": 60.255667864898854}, {\"author\": \"Exp_iML1515\", \"sample_id\": \"pfkA\", \"normalized_error\": 0.672079180965418, \"unnormalized_error\": 236.91692937264406}, {\"author\": \"Exp_iML1515\", \"sample_id\": \"pfkB\", \"normalized_error\": 0.44661856361149815, \"unnormalized_error\": 143.57601113473814}, {\"author\": \"Exp_iML1515\", \"sample_id\": \"pgi\", \"normalized_error\": 0.7977334631047928, \"unnormalized_error\": 414.27950089659504}, {\"author\": \"Exp_iML1515\", \"sample_id\": \"pgl\", \"normalized_error\": 0.5811866270591565, \"unnormalized_error\": 269.5416759848788}, {\"author\": \"Exp_iML1515\", \"sample_id\": \"rpe\", \"normalized_error\": 0.19573171067787756, \"unnormalized_error\": 67.26107144803841}, {\"author\": \"Exp_iML1515\", \"sample_id\": \"rpiB\", \"normalized_error\": 0.2889755106309878, \"unnormalized_error\": 108.60485154678125}, {\"author\": \"Exp_iML1515\", \"sample_id\": \"talA\", \"normalized_error\": 0.24340540849120001, \"unnormalized_error\": 85.48601705713338}, {\"author\": \"Exp_iML1515\", \"sample_id\": \"tktA\", \"normalized_error\": 0.43291231622284254, \"unnormalized_error\": 173.13887403072752}, {\"author\": \"Exp_iML1515\", \"sample_id\": \"tktB\", \"normalized_error\": 0.17061285972617735, \"unnormalized_error\": 57.43610907458934}, {\"author\": \"Exp_iML1515\", \"sample_id\": \"zwf\", \"normalized_error\": 0.6860100052028538, \"unnormalized_error\": 368.8256730119769}, {\"author\": \"Khodayari\", \"sample_id\": \"WT\", \"normalized_error\": 0.5535708562129615, \"unnormalized_error\": 184.32837248867327}, {\"author\": \"Khodayari\", \"sample_id\": \"eda\", \"normalized_error\": 0.5383292586382441, \"unnormalized_error\": 183.58740505482092}, {\"author\": \"Khodayari\", \"sample_id\": \"edd\", \"normalized_error\": 0.5683834837745169, \"unnormalized_error\": 187.87001040506325}, {\"author\": \"Khodayari\", \"sample_id\": \"fbaB\", \"normalized_error\": 0.6287010746749115, \"unnormalized_error\": 239.66373586821626}, {\"author\": \"Khodayari\", \"sample_id\": \"fbp\", \"normalized_error\": 0.5811776261090653, \"unnormalized_error\": 201.00942123502742}, {\"author\": \"Khodayari\", \"sample_id\": \"gnd\", \"normalized_error\": 0.8639708827606932, \"unnormalized_error\": 272.0731693207234}, {\"author\": \"Khodayari\", \"sample_id\": \"pfkA\", \"normalized_error\": 0.6210304262285874, \"unnormalized_error\": 218.92155834631043}, {\"author\": \"Khodayari\", \"sample_id\": \"pfkB\", \"normalized_error\": 0.6378532759791559, \"unnormalized_error\": 205.05289416043152}, {\"author\": \"Khodayari\", \"sample_id\": \"pgi\", \"normalized_error\": 0.8115003514186071, \"unnormalized_error\": 421.42893097985706}, {\"author\": \"Khodayari\", \"sample_id\": \"pgl\", \"normalized_error\": 0.6843903968757853, \"unnormalized_error\": 317.40533249241287}, {\"author\": \"Khodayari\", \"sample_id\": \"rpe\", \"normalized_error\": 0.4300419690585258, \"unnormalized_error\": 147.77924081041542}, {\"author\": \"Khodayari\", \"sample_id\": \"rpiB\", \"normalized_error\": 0.784091939124502, \"unnormalized_error\": 294.68306314851026}, {\"author\": \"Khodayari\", \"sample_id\": \"talA\", \"normalized_error\": 0.5967662461602055, \"unnormalized_error\": 209.58930130025095}, {\"author\": \"Khodayari\", \"sample_id\": \"tktA\", \"normalized_error\": 0.630109320931365, \"unnormalized_error\": 252.00580869167337}, {\"author\": \"Khodayari\", \"sample_id\": \"tktB\", \"normalized_error\": 0.5854727911849088, \"unnormalized_error\": 197.09697820357917}, {\"author\": \"Khodayari\", \"sample_id\": \"zwf\", \"normalized_error\": 0.8209300656410011, \"unnormalized_error\": 441.36394755099275}, {\"author\": \"Kurata\", \"sample_id\": \"WT\", \"normalized_error\": 0.5056376813318306, \"unnormalized_error\": 168.36755371562938}, {\"author\": \"Kurata\", \"sample_id\": \"eda\", \"normalized_error\": 0.5119035242421802, \"unnormalized_error\": 174.57538884616554}, {\"author\": \"Kurata\", \"sample_id\": \"edd\", \"normalized_error\": 0.5401037990219356, \"unnormalized_error\": 178.52261587234838}, {\"author\": \"Kurata\", \"sample_id\": \"fbp\", \"normalized_error\": 0.5331206072933509, \"unnormalized_error\": 184.38814556221828}, {\"author\": \"Kurata\", \"sample_id\": \"glk\", \"normalized_error\": 0.3803093953068207, \"unnormalized_error\": 127.70555621236754}, {\"author\": \"Kurata\", \"sample_id\": \"gnd\", \"normalized_error\": 0.6397109103423724, \"unnormalized_error\": 201.45143580504563}, {\"author\": \"Kurata\", \"sample_id\": \"pfkA\", \"normalized_error\": 0.5282119637798283, \"unnormalized_error\": 186.2018048778845}, {\"author\": \"Kurata\", \"sample_id\": \"pfkB\", \"normalized_error\": 0.4122293437149761, \"unnormalized_error\": 132.52078992124424}, {\"author\": \"Kurata\", \"sample_id\": \"pgi\", \"normalized_error\": 0.839831677428271, \"unnormalized_error\": 436.1419750501676}, {\"author\": \"Kurata\", \"sample_id\": \"rpiB\", \"normalized_error\": 0.5562935001351546, \"unnormalized_error\": 209.07021798039924}, {\"author\": \"Kurata\", \"sample_id\": \"talA\", \"normalized_error\": 0.5303179940239274, \"unnormalized_error\": 186.25211889847236}, {\"author\": \"Kurata\", \"sample_id\": \"talB\", \"normalized_error\": 0.49134836305889834, \"unnormalized_error\": 156.64847764327095}, {\"author\": \"Kurata\", \"sample_id\": \"tktA\", \"normalized_error\": 0.5954596688980015, \"unnormalized_error\": 238.14803307799698}, {\"author\": \"Kurata\", \"sample_id\": \"tktB\", \"normalized_error\": 0.5012364428319394, \"unnormalized_error\": 168.73916215260112}, {\"author\": \"Kurata\", \"sample_id\": \"zwf\", \"normalized_error\": 0.7202502735201859, \"unnormalized_error\": 387.23457362635844}, {\"author\": \"Millard\", \"sample_id\": \"WT\", \"normalized_error\": 0.40194569852097467, \"unnormalized_error\": 133.84013194634542}, {\"author\": \"Millard\", \"sample_id\": \"eda\", \"normalized_error\": 0.38434466591376293, \"unnormalized_error\": 131.07375965456583}, {\"author\": \"Millard\", \"sample_id\": \"edd\", \"normalized_error\": 0.40458732999546254, \"unnormalized_error\": 133.7298286558906}, {\"author\": \"Millard\", \"sample_id\": \"fbp\", \"normalized_error\": 0.4439951415905878, \"unnormalized_error\": 153.56270171615267}, {\"author\": \"Millard\", \"sample_id\": \"gnd\", \"normalized_error\": 0.45482447257363345, \"unnormalized_error\": 143.22882658073388}, {\"author\": \"Millard\", \"sample_id\": \"pgi\", \"normalized_error\": 0.9814313335270854, \"unnormalized_error\": 509.67760765035143}, {\"author\": \"Millard\", \"sample_id\": \"pgl\", \"normalized_error\": 0.6270742129652331, \"unnormalized_error\": 290.8233370489161}, {\"author\": \"Millard\", \"sample_id\": \"rpe\", \"normalized_error\": 0.24574229101191503, \"unnormalized_error\": 84.44666291584825}, {\"author\": \"Millard\", \"sample_id\": \"rpiB\", \"normalized_error\": 0.47977007123309523, \"unnormalized_error\": 180.31063341348602}, {\"author\": \"Millard\", \"sample_id\": \"tktA\", \"normalized_error\": 0.5879007590467669, \"unnormalized_error\": 235.12492402912238}, {\"author\": \"Millard\", \"sample_id\": \"zwf\", \"normalized_error\": 0.6916829525102134, \"unnormalized_error\": 371.87567023174}, {\"author\": \"iML1515\", \"sample_id\": \"WT\", \"normalized_error\": 0.5013773035924068, \"unnormalized_error\": 166.94893045163147}, {\"author\": \"iML1515\", \"sample_id\": \"eda\", \"normalized_error\": 0.4981029289255504, \"unnormalized_error\": 169.8689467538282}, {\"author\": \"iML1515\", \"sample_id\": \"edd\", \"normalized_error\": 0.5150528402682665, \"unnormalized_error\": 170.24242474072912}, {\"author\": \"iML1515\", \"sample_id\": \"fbaB\", \"normalized_error\": 0.7416277470419305, \"unnormalized_error\": 282.7119017913305}, {\"author\": \"iML1515\", \"sample_id\": \"fbp\", \"normalized_error\": 0.5456770855343833, \"unnormalized_error\": 188.73100101740488}, {\"author\": \"iML1515\", \"sample_id\": \"gnd\", \"normalized_error\": 0.5760494749821303, \"unnormalized_error\": 181.40380592818906}, {\"author\": \"iML1515\", \"sample_id\": \"pfkA\", \"normalized_error\": 0.6729352048967885, \"unnormalized_error\": 237.21868929473905}, {\"author\": \"iML1515\", \"sample_id\": \"pfkB\", \"normalized_error\": 0.6545061975184576, \"unnormalized_error\": 210.40636632472905}, {\"author\": \"iML1515\", \"sample_id\": \"pgi\", \"normalized_error\": 0.8202608739711219, \"unnormalized_error\": 425.9784516888466}, {\"author\": \"iML1515\", \"sample_id\": \"pgl\", \"normalized_error\": 0.698948963307194, \"unnormalized_error\": 324.15727793154923}, {\"author\": \"iML1515\", \"sample_id\": \"rpe\", \"normalized_error\": 0.3898993913844237, \"unnormalized_error\": 133.98468102398536}, {\"author\": \"iML1515\", \"sample_id\": \"rpiB\", \"normalized_error\": 0.6037655209373394, \"unnormalized_error\": 226.91149373622147}, {\"author\": \"iML1515\", \"sample_id\": \"talA\", \"normalized_error\": 0.5475959942851902, \"unnormalized_error\": 192.3202972278001}, {\"author\": \"iML1515\", \"sample_id\": \"tktA\", \"normalized_error\": 0.6364713778571762, \"unnormalized_error\": 254.5502485964215}, {\"author\": \"iML1515\", \"sample_id\": \"tktB\", \"normalized_error\": 0.5485369333164981, \"unnormalized_error\": 184.6626753925346}, {\"author\": \"iML1515\", \"sample_id\": \"zwf\", \"normalized_error\": 0.7628652680524942, \"unnormalized_error\": 410.1460529336211}]}}, {\"mode\": \"vega-lite\"});\n",
       "</script>"
      ],
      "text/plain": [
       "alt.FacetChart(...)"
      ]
     },
     "execution_count": 16,
     "metadata": {},
     "output_type": "execute_result"
    }
   ],
   "source": [
    "boxplot(norm_error=x_norm_error,\n",
    "              author=\"Long\",\n",
    "              title=\"Summary knockout simulations (batch)\",\n",
    "              sort_list=[\"Chassagnole\", \"Khodayari\", \"Millard\", \"Kurata\", \"iML1515\", \"Exp_iML1515\"],\n",
    "              opacity = False,\n",
    "              color_scheme = \"dark2\")"
   ]
  },
  {
   "cell_type": "code",
   "execution_count": 17,
   "metadata": {},
   "outputs": [
    {
     "data": {
      "text/html": [
       "\n",
       "<div id=\"altair-viz-c9739a3c33094670b95c14d19c72b5ae\"></div>\n",
       "<script type=\"text/javascript\">\n",
       "  (function(spec, embedOpt){\n",
       "    const outputDiv = document.getElementById(\"altair-viz-c9739a3c33094670b95c14d19c72b5ae\");\n",
       "    const paths = {\n",
       "      \"vega\": \"https://cdn.jsdelivr.net/npm//vega@5?noext\",\n",
       "      \"vega-lib\": \"https://cdn.jsdelivr.net/npm//vega-lib?noext\",\n",
       "      \"vega-lite\": \"https://cdn.jsdelivr.net/npm//vega-lite@4.0.2?noext\",\n",
       "      \"vega-embed\": \"https://cdn.jsdelivr.net/npm//vega-embed@6?noext\",\n",
       "    };\n",
       "\n",
       "    function loadScript(lib) {\n",
       "      return new Promise(function(resolve, reject) {\n",
       "        var s = document.createElement('script');\n",
       "        s.src = paths[lib];\n",
       "        s.async = true;\n",
       "        s.onload = () => resolve(paths[lib]);\n",
       "        s.onerror = () => reject(`Error loading script: ${paths[lib]}`);\n",
       "        document.getElementsByTagName(\"head\")[0].appendChild(s);\n",
       "      });\n",
       "    }\n",
       "\n",
       "    function showError(err) {\n",
       "      outputDiv.innerHTML = `<div class=\"error\" style=\"color:red;\">${err}</div>`;\n",
       "      throw err;\n",
       "    }\n",
       "\n",
       "    function displayChart(vegaEmbed) {\n",
       "      vegaEmbed(outputDiv, spec, embedOpt)\n",
       "        .catch(err => showError(`Javascript Error: ${err.message}<br>This usually means there's a typo in your chart specification. See the javascript console for the full traceback.`));\n",
       "    }\n",
       "\n",
       "    if(typeof define === \"function\" && define.amd) {\n",
       "      requirejs.config({paths});\n",
       "      require([\"vega-embed\"], displayChart, err => showError(`Error loading script: ${err.message}`));\n",
       "    } else if (typeof vegaEmbed === \"function\") {\n",
       "      displayChart(vegaEmbed);\n",
       "    } else {\n",
       "      loadScript(\"vega\")\n",
       "        .then(() => loadScript(\"vega-lite\"))\n",
       "        .then(() => loadScript(\"vega-embed\"))\n",
       "        .catch(showError)\n",
       "        .then(() => displayChart(vegaEmbed));\n",
       "    }\n",
       "  })({\"config\": {\"view\": {\"continuousWidth\": 400, \"continuousHeight\": 300, \"stroke\": null}, \"axis\": {\"labelFontSize\": 20, \"titleFontSize\": 20}, \"facet\": {\"spacing\": 5}, \"header\": {\"titleFontSize\": 24}}, \"data\": {\"name\": \"data-f3380d0fceb0603ccb71cd3b76f0867a\"}, \"facet\": {\"column\": {\"type\": \"nominal\", \"field\": \"author\", \"header\": {\"labelAlign\": \"right\", \"labelAngle\": -90, \"labelFontSize\": 20, \"labelOrient\": \"bottom\", \"labelPadding\": 3, \"title\": \"Knockout simulations (batch)\", \"titleOrient\": \"top\"}, \"sort\": [\"Chassagnole\", \"Khodayari\", \"Millard\", \"Kurata\", \"iML1515\", \"Exp_iML1515\"]}}, \"spec\": {\"layer\": [{\"mark\": {\"type\": \"boxplot\", \"outliers\": false, \"size\": 95}, \"encoding\": {\"color\": {\"type\": \"nominal\", \"field\": \"author\", \"legend\": null, \"scale\": {\"domain\": [\"Khodayari\", \"Millard\", \"Kurata\", \"iML1515\", \"Chassagnole\", \"Exp_iML1515\"], \"range\": [\"#1b9e77\", \"#d95f02\", \"#7570b3\", \"#e7298a\", \"#66a61e\", \"#e6ab02\"]}}, \"opacity\": {\"value\": 0.7}, \"y\": {\"type\": \"quantitative\", \"field\": \"RMSE\", \"title\": \"RMSE\"}}}, {\"mark\": \"circle\", \"encoding\": {\"color\": {\"type\": \"nominal\", \"field\": \"author\", \"legend\": null, \"scale\": {\"domain\": [\"Khodayari\", \"Millard\", \"Kurata\", \"iML1515\", \"Chassagnole\", \"Exp_iML1515\"], \"range\": [\"#1b9e77\", \"#d95f02\", \"#7570b3\", \"#e7298a\", \"#66a61e\", \"#e6ab02\"]}}, \"opacity\": {\"value\": 1.0}, \"size\": {\"condition\": {\"value\": 130, \"selection\": \"selector002\"}, \"value\": 50}, \"tooltip\": [{\"type\": \"nominal\", \"field\": \"author\"}, {\"type\": \"nominal\", \"field\": \"sample_id\"}, {\"type\": \"quantitative\", \"field\": \"RMSE\"}], \"x\": {\"type\": \"quantitative\", \"axis\": {\"grid\": false, \"labels\": false, \"ticks\": true, \"values\": [0]}, \"field\": \"jitter\", \"scale\": {}, \"title\": null}, \"y\": {\"type\": \"quantitative\", \"axis\": {\"tickCount\": 10}, \"field\": \"RMSE\", \"title\": \"RMSE\"}}, \"height\": 600, \"selection\": {\"selector002\": {\"type\": \"single\", \"empty\": \"none\", \"fields\": [\"sample_id\"]}}, \"width\": 100}, {\"mark\": {\"type\": \"point\", \"filled\": true, \"opacity\": 1.0, \"shape\": \"diamond\", \"size\": 180}, \"encoding\": {\"color\": {\"type\": \"nominal\", \"field\": \"author\", \"legend\": null, \"scale\": {\"domain\": [\"Khodayari\", \"Millard\", \"Kurata\", \"iML1515\", \"Chassagnole\", \"Exp_iML1515\"], \"range\": [\"#1b9e77\", \"#d95f02\", \"#7570b3\", \"#e7298a\", \"#66a61e\", \"#e6ab02\"]}}, \"tooltip\": [{\"type\": \"nominal\", \"field\": \"author\"}, {\"type\": \"nominal\", \"field\": \"sample_id\"}, {\"type\": \"quantitative\", \"field\": \"RMSE\"}], \"x\": {\"type\": \"quantitative\", \"field\": \"jitter\", \"title\": null}, \"y\": {\"type\": \"quantitative\", \"field\": \"RMSE\", \"title\": \"RMSE\"}}, \"transform\": [{\"filter\": \"datum.sample_id === \\\"WT\\\"\"}]}, {\"mark\": {\"type\": \"text\", \"dy\": 10, \"text\": \"WT\"}, \"encoding\": {\"tooltip\": [{\"type\": \"nominal\", \"field\": \"author\"}, {\"type\": \"nominal\", \"field\": \"sample_id\"}, {\"type\": \"quantitative\", \"field\": \"RMSE\"}], \"x\": {\"type\": \"quantitative\", \"field\": \"jitter\", \"title\": null}, \"y\": {\"type\": \"quantitative\", \"field\": \"RMSE\", \"title\": \"RMSE\"}}, \"transform\": [{\"filter\": \"datum.sample_id === \\\"WT\\\"\"}]}], \"transform\": [{\"calculate\": \"sqrt(-2*log(random()))*cos(2*PI*random())\", \"as\": \"jitter\"}]}, \"transform\": [{\"filter\": \"datum.RMSE !== null\"}], \"$schema\": \"https://vega.github.io/schema/vega-lite/v4.0.2.json\", \"datasets\": {\"data-f3380d0fceb0603ccb71cd3b76f0867a\": [{\"sample_id\": \"WT\", \"author\": \"Chassagnole\", \"RMSE\": 15.803778946728002}, {\"sample_id\": \"WT\", \"author\": \"Exp_iML1515\", \"RMSE\": 6.101908620689658}, {\"sample_id\": \"WT\", \"author\": \"Khodayari\", \"RMSE\": 21.619869386541904}, {\"sample_id\": \"WT\", \"author\": \"Kurata\", \"RMSE\": 22.28437020384346}, {\"sample_id\": \"WT\", \"author\": \"Millard\", \"RMSE\": 17.302939370330066}, {\"sample_id\": \"WT\", \"author\": \"iML1515\", \"RMSE\": 20.616073797678443}, {\"sample_id\": \"eda\", \"author\": \"Chassagnole\", \"RMSE\": null}, {\"sample_id\": \"eda\", \"author\": \"Exp_iML1515\", \"RMSE\": 7.262570689655139}, {\"sample_id\": \"eda\", \"author\": \"Khodayari\", \"RMSE\": 20.875437363069548}, {\"sample_id\": \"eda\", \"author\": \"Kurata\", \"RMSE\": 22.4845707988541}, {\"sample_id\": \"eda\", \"author\": \"Millard\", \"RMSE\": 16.48666392182132}, {\"sample_id\": \"eda\", \"author\": \"iML1515\", \"RMSE\": 20.899282154222757}, {\"sample_id\": \"edd\", \"author\": \"Exp_iML1515\", \"RMSE\": 5.528436206896556}, {\"sample_id\": \"edd\", \"author\": \"Khodayari\", \"RMSE\": 21.539305475290124}, {\"sample_id\": \"edd\", \"author\": \"Kurata\", \"RMSE\": 22.545560916603062}, {\"sample_id\": \"edd\", \"author\": \"Millard\", \"RMSE\": 17.122262380826534}, {\"sample_id\": \"edd\", \"author\": \"iML1515\", \"RMSE\": 20.857453108018504}, {\"sample_id\": \"fbaB\", \"author\": \"Chassagnole\", \"RMSE\": 31.751922027502147}, {\"sample_id\": \"fbaB\", \"author\": \"Exp_iML1515\", \"RMSE\": 18.791436206896552}, {\"sample_id\": \"fbaB\", \"author\": \"Khodayari\", \"RMSE\": 27.789325240374122}, {\"sample_id\": \"fbaB\", \"author\": \"iML1515\", \"RMSE\": 32.06998047967749}, {\"sample_id\": \"fbp\", \"author\": \"Exp_iML1515\", \"RMSE\": 9.12858448275861}, {\"sample_id\": \"fbp\", \"author\": \"Khodayari\", \"RMSE\": 24.0827464613849}, {\"sample_id\": \"fbp\", \"author\": \"Kurata\", \"RMSE\": 24.59949682108945}, {\"sample_id\": \"fbp\", \"author\": \"Millard\", \"RMSE\": 19.921653703787385}, {\"sample_id\": \"fbp\", \"author\": \"iML1515\", \"RMSE\": 23.229866901123113}, {\"sample_id\": \"glk\", \"author\": \"Kurata\", \"RMSE\": 18.069953883583263}, {\"sample_id\": \"gnd\", \"author\": \"Chassagnole\", \"RMSE\": 25.944543284807395}, {\"sample_id\": \"gnd\", \"author\": \"Exp_iML1515\", \"RMSE\": 7.502162068965429}, {\"sample_id\": \"gnd\", \"author\": \"Khodayari\", \"RMSE\": 34.16208451040456}, {\"sample_id\": \"gnd\", \"author\": \"Kurata\", \"RMSE\": 25.72398432990234}, {\"sample_id\": \"gnd\", \"author\": \"Millard\", \"RMSE\": 19.002660933828885}, {\"sample_id\": \"gnd\", \"author\": \"iML1515\", \"RMSE\": 23.582984734978194}, {\"sample_id\": \"pfkA\", \"author\": \"Chassagnole\", \"RMSE\": 38.955609029471375}, {\"sample_id\": \"pfkA\", \"author\": \"Exp_iML1515\", \"RMSE\": 32.40620517241379}, {\"sample_id\": \"pfkA\", \"author\": \"Khodayari\", \"RMSE\": 35.04571513429317}, {\"sample_id\": \"pfkA\", \"author\": \"Kurata\", \"RMSE\": 24.552599623931087}, {\"sample_id\": \"pfkA\", \"author\": \"iML1515\", \"RMSE\": 33.952109294613024}, {\"sample_id\": \"pfkB\", \"author\": \"Chassagnole\", \"RMSE\": 23.68195050529401}, {\"sample_id\": \"pfkB\", \"author\": \"Exp_iML1515\", \"RMSE\": 13.153363793103436}, {\"sample_id\": \"pfkB\", \"author\": \"Khodayari\", \"RMSE\": 24.268322073599382}, {\"sample_id\": \"pfkB\", \"author\": \"Kurata\", \"RMSE\": 18.257802973884612}, {\"sample_id\": \"pfkB\", \"author\": \"iML1515\", \"RMSE\": 26.30980679734055}, {\"sample_id\": \"pgi\", \"author\": \"Chassagnole\", \"RMSE\": 33.911933246368534}, {\"sample_id\": \"pgi\", \"author\": \"Exp_iML1515\", \"RMSE\": 42.0064280064237}, {\"sample_id\": \"pgi\", \"author\": \"Khodayari\", \"RMSE\": 33.374117314379816}, {\"sample_id\": \"pgi\", \"author\": \"Kurata\", \"RMSE\": 40.014752215491704}, {\"sample_id\": \"pgi\", \"author\": \"Millard\", \"RMSE\": 60.34815116395715}, {\"sample_id\": \"pgi\", \"author\": \"iML1515\", \"RMSE\": 43.594751824801264}, {\"sample_id\": \"pgl\", \"author\": \"Exp_iML1515\", \"RMSE\": 21.92839913793098}, {\"sample_id\": \"pgl\", \"author\": \"Khodayari\", \"RMSE\": 31.893676383450323}, {\"sample_id\": \"pgl\", \"author\": \"Millard\", \"RMSE\": 30.889067785436932}, {\"sample_id\": \"pgl\", \"author\": \"iML1515\", \"RMSE\": 34.47151942885816}, {\"sample_id\": \"rpe\", \"author\": \"Chassagnole\", \"RMSE\": 36.8841315179382}, {\"sample_id\": \"rpe\", \"author\": \"Exp_iML1515\", \"RMSE\": 10.01595948275862}, {\"sample_id\": \"rpe\", \"author\": \"Khodayari\", \"RMSE\": 17.432525543563425}, {\"sample_id\": \"rpe\", \"author\": \"Millard\", \"RMSE\": 11.57676753461213}, {\"sample_id\": \"rpe\", \"author\": \"iML1515\", \"RMSE\": 17.292294865677864}, {\"sample_id\": \"rpiB\", \"author\": \"Chassagnole\", \"RMSE\": 29.745923508903793}, {\"sample_id\": \"rpiB\", \"author\": \"Exp_iML1515\", \"RMSE\": 14.257130841455837}, {\"sample_id\": \"rpiB\", \"author\": \"Khodayari\", \"RMSE\": 39.52915290176663}, {\"sample_id\": \"rpiB\", \"author\": \"Kurata\", \"RMSE\": 28.23511580431091}, {\"sample_id\": \"rpiB\", \"author\": \"Millard\", \"RMSE\": 24.359719037787762}, {\"sample_id\": \"rpiB\", \"author\": \"iML1515\", \"RMSE\": 28.746701036803376}, {\"sample_id\": \"talA\", \"author\": \"Chassagnole\", \"RMSE\": 20.830104945166138}, {\"sample_id\": \"talA\", \"author\": \"Exp_iML1515\", \"RMSE\": 9.076794827586225}, {\"sample_id\": \"talA\", \"author\": \"Khodayari\", \"RMSE\": 25.551616873795577}, {\"sample_id\": \"talA\", \"author\": \"Kurata\", \"RMSE\": 24.912978829213564}, {\"sample_id\": \"talA\", \"author\": \"iML1515\", \"RMSE\": 23.69883241836342}, {\"sample_id\": \"talB\", \"author\": \"Chassagnole\", \"RMSE\": 16.592173910683382}, {\"sample_id\": \"talB\", \"author\": \"Kurata\", \"RMSE\": 20.035218417187032}, {\"sample_id\": \"tktA\", \"author\": \"Exp_iML1515\", \"RMSE\": 14.094152586206912}, {\"sample_id\": \"tktA\", \"author\": \"Khodayari\", \"RMSE\": 28.527544479909793}, {\"sample_id\": \"tktA\", \"author\": \"Kurata\", \"RMSE\": 26.66190666205914}, {\"sample_id\": \"tktA\", \"author\": \"Millard\", \"RMSE\": 25.928168821344734}, {\"sample_id\": \"tktA\", \"author\": \"iML1515\", \"RMSE\": 27.983171383503393}, {\"sample_id\": \"tktB\", \"author\": \"Exp_iML1515\", \"RMSE\": 8.405395689655158}, {\"sample_id\": \"tktB\", \"author\": \"Khodayari\", \"RMSE\": 23.14293877887808}, {\"sample_id\": \"tktB\", \"author\": \"Kurata\", \"RMSE\": 22.651595951978717}, {\"sample_id\": \"tktB\", \"author\": \"iML1515\", \"RMSE\": 24.038343797296495}, {\"sample_id\": \"zwf\", \"author\": \"Chassagnole\", \"RMSE\": 23.583192518191066}, {\"sample_id\": \"zwf\", \"author\": \"Exp_iML1515\", \"RMSE\": 28.62647499999998}, {\"sample_id\": \"zwf\", \"author\": \"Khodayari\", \"RMSE\": 48.56091226529343}, {\"sample_id\": \"zwf\", \"author\": \"Kurata\", \"RMSE\": 37.37747654581479}, {\"sample_id\": \"zwf\", \"author\": \"Millard\", \"RMSE\": 30.921009858147446}, {\"sample_id\": \"zwf\", \"author\": \"iML1515\", \"RMSE\": 39.31829039690537}]}}, {\"mode\": \"vega-lite\"});\n",
       "</script>"
      ],
      "text/plain": [
       "alt.FacetChart(...)"
      ]
     },
     "execution_count": 17,
     "metadata": {},
     "output_type": "execute_result"
    }
   ],
   "source": [
    "boxplot(norm_error=x_rms_error,\n",
    "              author=\"Long\",\n",
    "              title=\"Knockout simulations (batch)\",\n",
    "              sort_list=[\"Chassagnole\", \"Khodayari\", \"Millard\", \"Kurata\", \"iML1515\", \"Exp_iML1515\"],\n",
    "              opacity = False,\n",
    "              color_scheme = \"dark2\",\n",
    "              field=\"RMSE\",\n",
    "            field_name = \"RMSE\")"
   ]
  },
  {
   "cell_type": "code",
   "execution_count": 18,
   "metadata": {},
   "outputs": [
    {
     "data": {
      "text/html": [
       "\n",
       "<div id=\"altair-viz-09e5f3f6f71e4670806c46b1a8bdc4b7\"></div>\n",
       "<script type=\"text/javascript\">\n",
       "  (function(spec, embedOpt){\n",
       "    const outputDiv = document.getElementById(\"altair-viz-09e5f3f6f71e4670806c46b1a8bdc4b7\");\n",
       "    const paths = {\n",
       "      \"vega\": \"https://cdn.jsdelivr.net/npm//vega@5?noext\",\n",
       "      \"vega-lib\": \"https://cdn.jsdelivr.net/npm//vega-lib?noext\",\n",
       "      \"vega-lite\": \"https://cdn.jsdelivr.net/npm//vega-lite@4.0.2?noext\",\n",
       "      \"vega-embed\": \"https://cdn.jsdelivr.net/npm//vega-embed@6?noext\",\n",
       "    };\n",
       "\n",
       "    function loadScript(lib) {\n",
       "      return new Promise(function(resolve, reject) {\n",
       "        var s = document.createElement('script');\n",
       "        s.src = paths[lib];\n",
       "        s.async = true;\n",
       "        s.onload = () => resolve(paths[lib]);\n",
       "        s.onerror = () => reject(`Error loading script: ${paths[lib]}`);\n",
       "        document.getElementsByTagName(\"head\")[0].appendChild(s);\n",
       "      });\n",
       "    }\n",
       "\n",
       "    function showError(err) {\n",
       "      outputDiv.innerHTML = `<div class=\"error\" style=\"color:red;\">${err}</div>`;\n",
       "      throw err;\n",
       "    }\n",
       "\n",
       "    function displayChart(vegaEmbed) {\n",
       "      vegaEmbed(outputDiv, spec, embedOpt)\n",
       "        .catch(err => showError(`Javascript Error: ${err.message}<br>This usually means there's a typo in your chart specification. See the javascript console for the full traceback.`));\n",
       "    }\n",
       "\n",
       "    if(typeof define === \"function\" && define.amd) {\n",
       "      requirejs.config({paths});\n",
       "      require([\"vega-embed\"], displayChart, err => showError(`Error loading script: ${err.message}`));\n",
       "    } else if (typeof vegaEmbed === \"function\") {\n",
       "      displayChart(vegaEmbed);\n",
       "    } else {\n",
       "      loadScript(\"vega\")\n",
       "        .then(() => loadScript(\"vega-lite\"))\n",
       "        .then(() => loadScript(\"vega-embed\"))\n",
       "        .catch(showError)\n",
       "        .then(() => displayChart(vegaEmbed));\n",
       "    }\n",
       "  })({\"config\": {\"view\": {\"continuousWidth\": 400, \"continuousHeight\": 300, \"stroke\": null}, \"axis\": {\"labelFontSize\": 20, \"titleFontSize\": 20}, \"facet\": {\"spacing\": 5}, \"header\": {\"titleFontSize\": 24}}, \"data\": {\"name\": \"data-a4375194220b651d43c98c308a70e51f\"}, \"facet\": {\"column\": {\"type\": \"nominal\", \"field\": \"author\", \"header\": {\"labelAlign\": \"right\", \"labelAngle\": -90, \"labelFontSize\": 20, \"labelOrient\": \"bottom\", \"labelPadding\": 3, \"title\": \"Knockout simulations (batch)\", \"titleOrient\": \"top\"}, \"sort\": [\"Chassagnole\", \"Khodayari\", \"Millard\", \"Kurata\", \"iML1515\", \"Exp_iML1515\"]}}, \"spec\": {\"layer\": [{\"mark\": {\"type\": \"boxplot\", \"outliers\": false, \"size\": 95}, \"encoding\": {\"color\": {\"type\": \"nominal\", \"field\": \"author\", \"legend\": null, \"scale\": {\"domain\": [\"Khodayari\", \"Millard\", \"Kurata\", \"iML1515\", \"Chassagnole\", \"Exp_iML1515\"], \"range\": [\"#1b9e77\", \"#d95f02\", \"#7570b3\", \"#e7298a\", \"#66a61e\", \"#e6ab02\"]}}, \"opacity\": {\"value\": 0.7}, \"y\": {\"type\": \"quantitative\", \"field\": \"SpearmanR\", \"title\": \"SpearmanR\"}}}, {\"mark\": \"circle\", \"encoding\": {\"color\": {\"type\": \"nominal\", \"field\": \"author\", \"legend\": null, \"scale\": {\"domain\": [\"Khodayari\", \"Millard\", \"Kurata\", \"iML1515\", \"Chassagnole\", \"Exp_iML1515\"], \"range\": [\"#1b9e77\", \"#d95f02\", \"#7570b3\", \"#e7298a\", \"#66a61e\", \"#e6ab02\"]}}, \"opacity\": {\"value\": 1.0}, \"size\": {\"condition\": {\"value\": 130, \"selection\": \"selector003\"}, \"value\": 50}, \"tooltip\": [{\"type\": \"nominal\", \"field\": \"author\"}, {\"type\": \"nominal\", \"field\": \"sample_id\"}, {\"type\": \"quantitative\", \"field\": \"SpearmanR\"}], \"x\": {\"type\": \"quantitative\", \"axis\": {\"grid\": false, \"labels\": false, \"ticks\": true, \"values\": [0]}, \"field\": \"jitter\", \"scale\": {}, \"title\": null}, \"y\": {\"type\": \"quantitative\", \"axis\": {\"tickCount\": 10}, \"field\": \"SpearmanR\", \"title\": \"SpearmanR\"}}, \"height\": 600, \"selection\": {\"selector003\": {\"type\": \"single\", \"empty\": \"none\", \"fields\": [\"sample_id\"]}}, \"width\": 100}, {\"mark\": {\"type\": \"point\", \"filled\": true, \"opacity\": 1.0, \"shape\": \"diamond\", \"size\": 180}, \"encoding\": {\"color\": {\"type\": \"nominal\", \"field\": \"author\", \"legend\": null, \"scale\": {\"domain\": [\"Khodayari\", \"Millard\", \"Kurata\", \"iML1515\", \"Chassagnole\", \"Exp_iML1515\"], \"range\": [\"#1b9e77\", \"#d95f02\", \"#7570b3\", \"#e7298a\", \"#66a61e\", \"#e6ab02\"]}}, \"tooltip\": [{\"type\": \"nominal\", \"field\": \"author\"}, {\"type\": \"nominal\", \"field\": \"sample_id\"}, {\"type\": \"quantitative\", \"field\": \"SpearmanR\"}], \"x\": {\"type\": \"quantitative\", \"field\": \"jitter\", \"title\": null}, \"y\": {\"type\": \"quantitative\", \"field\": \"SpearmanR\", \"title\": \"SpearmanR\"}}, \"transform\": [{\"filter\": \"datum.sample_id === \\\"WT\\\"\"}]}, {\"mark\": {\"type\": \"text\", \"dy\": 10, \"text\": \"WT\"}, \"encoding\": {\"tooltip\": [{\"type\": \"nominal\", \"field\": \"author\"}, {\"type\": \"nominal\", \"field\": \"sample_id\"}, {\"type\": \"quantitative\", \"field\": \"SpearmanR\"}], \"x\": {\"type\": \"quantitative\", \"field\": \"jitter\", \"title\": null}, \"y\": {\"type\": \"quantitative\", \"field\": \"SpearmanR\", \"title\": \"SpearmanR\"}}, \"transform\": [{\"filter\": \"datum.sample_id === \\\"WT\\\"\"}]}], \"transform\": [{\"calculate\": \"sqrt(-2*log(random()))*cos(2*PI*random())\", \"as\": \"jitter\"}]}, \"transform\": [{\"filter\": \"datum.SpearmanR !== null\"}], \"$schema\": \"https://vega.github.io/schema/vega-lite/v4.0.2.json\", \"datasets\": {\"data-a4375194220b651d43c98c308a70e51f\": [{\"sample_id\": \"WT\", \"author\": \"Chassagnole\", \"SpearmanR\": 0.7579704174714715}, {\"sample_id\": \"WT\", \"author\": \"Exp_iML1515\", \"SpearmanR\": 0.9911198815984213}, {\"sample_id\": \"WT\", \"author\": \"Khodayari\", \"SpearmanR\": 0.6174729281279406}, {\"sample_id\": \"WT\", \"author\": \"Kurata\", \"SpearmanR\": 0.760636335787489}, {\"sample_id\": \"WT\", \"author\": \"Millard\", \"SpearmanR\": 0.7641116212837392}, {\"sample_id\": \"WT\", \"author\": \"iML1515\", \"SpearmanR\": 0.6039923816892917}, {\"sample_id\": \"eda\", \"author\": \"Chassagnole\", \"SpearmanR\": null}, {\"sample_id\": \"eda\", \"author\": \"Exp_iML1515\", \"SpearmanR\": 0.9819825876955002}, {\"sample_id\": \"eda\", \"author\": \"Khodayari\", \"SpearmanR\": 0.6517396307967505}, {\"sample_id\": \"eda\", \"author\": \"Kurata\", \"SpearmanR\": 0.7666503152982787}, {\"sample_id\": \"eda\", \"author\": \"Millard\", \"SpearmanR\": 0.7958102823536188}, {\"sample_id\": \"eda\", \"author\": \"iML1515\", \"SpearmanR\": 0.6124852356131365}, {\"sample_id\": \"edd\", \"author\": \"Exp_iML1515\", \"SpearmanR\": 0.9853104630063111}, {\"sample_id\": \"edd\", \"author\": \"Khodayari\", \"SpearmanR\": 0.6009134720514561}, {\"sample_id\": \"edd\", \"author\": \"Kurata\", \"SpearmanR\": 0.7378042656550319}, {\"sample_id\": \"edd\", \"author\": \"Millard\", \"SpearmanR\": 0.7583571196859266}, {\"sample_id\": \"edd\", \"author\": \"iML1515\", \"SpearmanR\": 0.5790920780346354}, {\"sample_id\": \"fbaB\", \"author\": \"Chassagnole\", \"SpearmanR\": 0.4295138847344222}, {\"sample_id\": \"fbaB\", \"author\": \"Exp_iML1515\", \"SpearmanR\": 0.7553065967530722}, {\"sample_id\": \"fbaB\", \"author\": \"Khodayari\", \"SpearmanR\": 0.5407674397733561}, {\"sample_id\": \"fbaB\", \"author\": \"iML1515\", \"SpearmanR\": 0.4098014942923602}, {\"sample_id\": \"fbp\", \"author\": \"Exp_iML1515\", \"SpearmanR\": 0.8966835775467844}, {\"sample_id\": \"fbp\", \"author\": \"Khodayari\", \"SpearmanR\": 0.5718516995413502}, {\"sample_id\": \"fbp\", \"author\": \"Kurata\", \"SpearmanR\": 0.6957702642160499}, {\"sample_id\": \"fbp\", \"author\": \"Millard\", \"SpearmanR\": 0.7103610193197599}, {\"sample_id\": \"fbp\", \"author\": \"iML1515\", \"SpearmanR\": 0.5487088747739981}, {\"sample_id\": \"glk\", \"author\": \"Kurata\", \"SpearmanR\": 0.6912362926908093}, {\"sample_id\": \"gnd\", \"author\": \"Chassagnole\", \"SpearmanR\": 0.47131773785203446}, {\"sample_id\": \"gnd\", \"author\": \"Exp_iML1515\", \"SpearmanR\": 0.9015303556777171}, {\"sample_id\": \"gnd\", \"author\": \"Khodayari\", \"SpearmanR\": 0.35365949236070315}, {\"sample_id\": \"gnd\", \"author\": \"Kurata\", \"SpearmanR\": 0.8274076278296711}, {\"sample_id\": \"gnd\", \"author\": \"Millard\", \"SpearmanR\": 0.8290583513316}, {\"sample_id\": \"gnd\", \"author\": \"iML1515\", \"SpearmanR\": 0.7128209913700039}, {\"sample_id\": \"pfkA\", \"author\": \"Chassagnole\", \"SpearmanR\": 0.4887486744867644}, {\"sample_id\": \"pfkA\", \"author\": \"Exp_iML1515\", \"SpearmanR\": 0.4701678063930132}, {\"sample_id\": \"pfkA\", \"author\": \"Khodayari\", \"SpearmanR\": 0.5830250795278142}, {\"sample_id\": \"pfkA\", \"author\": \"Kurata\", \"SpearmanR\": 0.6921464730202377}, {\"sample_id\": \"pfkA\", \"author\": \"iML1515\", \"SpearmanR\": 0.533458170593675}, {\"sample_id\": \"pfkB\", \"author\": \"Chassagnole\", \"SpearmanR\": 0.5438910531124175}, {\"sample_id\": \"pfkB\", \"author\": \"Exp_iML1515\", \"SpearmanR\": 0.7062764491755762}, {\"sample_id\": \"pfkB\", \"author\": \"Khodayari\", \"SpearmanR\": 0.5661775886313195}, {\"sample_id\": \"pfkB\", \"author\": \"Kurata\", \"SpearmanR\": 0.7647929226526649}, {\"sample_id\": \"pfkB\", \"author\": \"iML1515\", \"SpearmanR\": 0.4778515592786373}, {\"sample_id\": \"pgi\", \"author\": \"Chassagnole\", \"SpearmanR\": 0.6205011630107492}, {\"sample_id\": \"pgi\", \"author\": \"Exp_iML1515\", \"SpearmanR\": 0.4922147741212785}, {\"sample_id\": \"pgi\", \"author\": \"Khodayari\", \"SpearmanR\": 0.6655984273413641}, {\"sample_id\": \"pgi\", \"author\": \"Kurata\", \"SpearmanR\": 0.48915188863407055}, {\"sample_id\": \"pgi\", \"author\": \"Millard\", \"SpearmanR\": 0.3568260335056066}, {\"sample_id\": \"pgi\", \"author\": \"iML1515\", \"SpearmanR\": 0.5678648349717439}, {\"sample_id\": \"pgl\", \"author\": \"Exp_iML1515\", \"SpearmanR\": 0.7953506642953304}, {\"sample_id\": \"pgl\", \"author\": \"Khodayari\", \"SpearmanR\": 0.5037019369740714}, {\"sample_id\": \"pgl\", \"author\": \"Millard\", \"SpearmanR\": 0.637988534817292}, {\"sample_id\": \"pgl\", \"author\": \"iML1515\", \"SpearmanR\": 0.46059402539300975}, {\"sample_id\": \"rpe\", \"author\": \"Chassagnole\", \"SpearmanR\": 0.26336790430213614}, {\"sample_id\": \"rpe\", \"author\": \"Exp_iML1515\", \"SpearmanR\": 0.9514307167113979}, {\"sample_id\": \"rpe\", \"author\": \"Khodayari\", \"SpearmanR\": 0.8152189833066037}, {\"sample_id\": \"rpe\", \"author\": \"Millard\", \"SpearmanR\": 0.9186390532544376}, {\"sample_id\": \"rpe\", \"author\": \"iML1515\", \"SpearmanR\": 0.7416505406146076}, {\"sample_id\": \"rpiB\", \"author\": \"Chassagnole\", \"SpearmanR\": 0.4636782894666953}, {\"sample_id\": \"rpiB\", \"author\": \"Exp_iML1515\", \"SpearmanR\": 0.8468949383162782}, {\"sample_id\": \"rpiB\", \"author\": \"Khodayari\", \"SpearmanR\": 0.29990143838143873}, {\"sample_id\": \"rpiB\", \"author\": \"Kurata\", \"SpearmanR\": 0.6888560367155208}, {\"sample_id\": \"rpiB\", \"author\": \"Millard\", \"SpearmanR\": 0.6547430589226675}, {\"sample_id\": \"rpiB\", \"author\": \"iML1515\", \"SpearmanR\": 0.49306143829228194}, {\"sample_id\": \"talA\", \"author\": \"Chassagnole\", \"SpearmanR\": 0.757518697531454}, {\"sample_id\": \"talA\", \"author\": \"Exp_iML1515\", \"SpearmanR\": 0.9679487473676215}, {\"sample_id\": \"talA\", \"author\": \"Khodayari\", \"SpearmanR\": 0.5757989071309367}, {\"sample_id\": \"talA\", \"author\": \"Kurata\", \"SpearmanR\": 0.7174556431074322}, {\"sample_id\": \"talA\", \"author\": \"iML1515\", \"SpearmanR\": 0.5573156743080724}, {\"sample_id\": \"talB\", \"author\": \"Chassagnole\", \"SpearmanR\": 0.7792485386601892}, {\"sample_id\": \"talB\", \"author\": \"Kurata\", \"SpearmanR\": 0.8111974411170725}, {\"sample_id\": \"tktA\", \"author\": \"Exp_iML1515\", \"SpearmanR\": 0.9312745712247766}, {\"sample_id\": \"tktA\", \"author\": \"Khodayari\", \"SpearmanR\": 0.5771414641408159}, {\"sample_id\": \"tktA\", \"author\": \"Kurata\", \"SpearmanR\": 0.7294930806616522}, {\"sample_id\": \"tktA\", \"author\": \"Millard\", \"SpearmanR\": 0.7271387135255509}, {\"sample_id\": \"tktA\", \"author\": \"iML1515\", \"SpearmanR\": 0.5998307445325481}, {\"sample_id\": \"tktB\", \"author\": \"Exp_iML1515\", \"SpearmanR\": 0.9136092823066762}, {\"sample_id\": \"tktB\", \"author\": \"Khodayari\", \"SpearmanR\": 0.5874367920810759}, {\"sample_id\": \"tktB\", \"author\": \"Kurata\", \"SpearmanR\": 0.7380365296067392}, {\"sample_id\": \"tktB\", \"author\": \"iML1515\", \"SpearmanR\": 0.5561650891055788}, {\"sample_id\": \"zwf\", \"author\": \"Chassagnole\", \"SpearmanR\": 0.6882710495993158}, {\"sample_id\": \"zwf\", \"author\": \"Exp_iML1515\", \"SpearmanR\": 0.7444604010397119}, {\"sample_id\": \"zwf\", \"author\": \"Khodayari\", \"SpearmanR\": 0.47166317188771517}, {\"sample_id\": \"zwf\", \"author\": \"Kurata\", \"SpearmanR\": 0.8438712504514518}, {\"sample_id\": \"zwf\", \"author\": \"Millard\", \"SpearmanR\": 0.7805666841565067}, {\"sample_id\": \"zwf\", \"author\": \"iML1515\", \"SpearmanR\": 0.570332252543765}]}}, {\"mode\": \"vega-lite\"});\n",
       "</script>"
      ],
      "text/plain": [
       "alt.FacetChart(...)"
      ]
     },
     "execution_count": 18,
     "metadata": {},
     "output_type": "execute_result"
    }
   ],
   "source": [
    "boxplot(norm_error=x_spearman_error,\n",
    "              author=\"Long\",\n",
    "              title=\"Knockout simulations (batch)\",\n",
    "              sort_list=[\"Chassagnole\", \"Khodayari\", \"Millard\", \"Kurata\", \"iML1515\", \"Exp_iML1515\"],\n",
    "              opacity = False,\n",
    "              color_scheme = \"dark2\",\n",
    "              field=\"SpearmanR\",\n",
    "            field_name = \"SpearmanR\")"
   ]
  },
  {
   "cell_type": "code",
   "execution_count": 19,
   "metadata": {},
   "outputs": [],
   "source": [
    "xdf_chass = process_data(ko_df, author=\"Long\", trim_tca=False)\n",
    "x_norm_err_chass = summary_errors(xdf_chass, author=\"Long\")"
   ]
  },
  {
   "cell_type": "code",
   "execution_count": 20,
   "metadata": {},
   "outputs": [
    {
     "data": {
      "text/html": [
       "\n",
       "<div id=\"altair-viz-368a3bf8c5944a8caaf4a2749344e096\"></div>\n",
       "<script type=\"text/javascript\">\n",
       "  (function(spec, embedOpt){\n",
       "    const outputDiv = document.getElementById(\"altair-viz-368a3bf8c5944a8caaf4a2749344e096\");\n",
       "    const paths = {\n",
       "      \"vega\": \"https://cdn.jsdelivr.net/npm//vega@5?noext\",\n",
       "      \"vega-lib\": \"https://cdn.jsdelivr.net/npm//vega-lib?noext\",\n",
       "      \"vega-lite\": \"https://cdn.jsdelivr.net/npm//vega-lite@4.0.2?noext\",\n",
       "      \"vega-embed\": \"https://cdn.jsdelivr.net/npm//vega-embed@6?noext\",\n",
       "    };\n",
       "\n",
       "    function loadScript(lib) {\n",
       "      return new Promise(function(resolve, reject) {\n",
       "        var s = document.createElement('script');\n",
       "        s.src = paths[lib];\n",
       "        s.async = true;\n",
       "        s.onload = () => resolve(paths[lib]);\n",
       "        s.onerror = () => reject(`Error loading script: ${paths[lib]}`);\n",
       "        document.getElementsByTagName(\"head\")[0].appendChild(s);\n",
       "      });\n",
       "    }\n",
       "\n",
       "    function showError(err) {\n",
       "      outputDiv.innerHTML = `<div class=\"error\" style=\"color:red;\">${err}</div>`;\n",
       "      throw err;\n",
       "    }\n",
       "\n",
       "    function displayChart(vegaEmbed) {\n",
       "      vegaEmbed(outputDiv, spec, embedOpt)\n",
       "        .catch(err => showError(`Javascript Error: ${err.message}<br>This usually means there's a typo in your chart specification. See the javascript console for the full traceback.`));\n",
       "    }\n",
       "\n",
       "    if(typeof define === \"function\" && define.amd) {\n",
       "      requirejs.config({paths});\n",
       "      require([\"vega-embed\"], displayChart, err => showError(`Error loading script: ${err.message}`));\n",
       "    } else if (typeof vegaEmbed === \"function\") {\n",
       "      displayChart(vegaEmbed);\n",
       "    } else {\n",
       "      loadScript(\"vega\")\n",
       "        .then(() => loadScript(\"vega-lite\"))\n",
       "        .then(() => loadScript(\"vega-embed\"))\n",
       "        .catch(showError)\n",
       "        .then(() => displayChart(vegaEmbed));\n",
       "    }\n",
       "  })({\"config\": {\"view\": {\"continuousWidth\": 400, \"continuousHeight\": 300, \"stroke\": null}, \"axis\": {\"labelFontSize\": 20, \"titleFontSize\": 20}, \"facet\": {\"spacing\": 5}, \"header\": {\"titleFontSize\": 24}}, \"data\": {\"name\": \"data-940808a44089a4310395b485e7aae650\"}, \"facet\": {\"column\": {\"type\": \"nominal\", \"field\": \"author\", \"header\": {\"labelAlign\": \"right\", \"labelAngle\": -90, \"labelFontSize\": 20, \"labelOrient\": \"bottom\", \"labelPadding\": 3, \"title\": \"Summary knockout simulations (batch)\", \"titleOrient\": \"top\"}, \"sort\": [\"Chassagnole\", \"Khodayari\", \"Millard\", \"Kurata\", \"iML1515\", \"Exp_iML1515\"]}}, \"spec\": {\"layer\": [{\"mark\": {\"type\": \"boxplot\", \"outliers\": false, \"size\": 95}, \"encoding\": {\"color\": {\"type\": \"nominal\", \"field\": \"author\", \"legend\": null, \"scale\": {\"domain\": [\"Khodayari\", \"Millard\", \"Kurata\", \"iML1515\", \"Chassagnole\", \"Exp_iML1515\"], \"range\": [\"#1b9e77\", \"#d95f02\", \"#7570b3\", \"#e7298a\", \"#66a61e\", \"#e6ab02\"]}}, \"opacity\": {\"value\": 0.7}, \"y\": {\"type\": \"quantitative\", \"field\": \"normalized_error\", \"title\": \"Normalized Error\"}}}, {\"mark\": \"circle\", \"encoding\": {\"color\": {\"type\": \"nominal\", \"field\": \"author\", \"legend\": null, \"scale\": {\"domain\": [\"Khodayari\", \"Millard\", \"Kurata\", \"iML1515\", \"Chassagnole\", \"Exp_iML1515\"], \"range\": [\"#1b9e77\", \"#d95f02\", \"#7570b3\", \"#e7298a\", \"#66a61e\", \"#e6ab02\"]}}, \"opacity\": {\"value\": 1.0}, \"size\": {\"condition\": {\"value\": 130, \"selection\": \"selector004\"}, \"value\": 50}, \"tooltip\": [{\"type\": \"nominal\", \"field\": \"author\"}, {\"type\": \"nominal\", \"field\": \"sample_id\"}, {\"type\": \"quantitative\", \"field\": \"normalized_error\"}], \"x\": {\"type\": \"quantitative\", \"axis\": {\"grid\": false, \"labels\": false, \"ticks\": true, \"values\": [0]}, \"field\": \"jitter\", \"scale\": {}, \"title\": null}, \"y\": {\"type\": \"quantitative\", \"axis\": {\"tickCount\": 10}, \"field\": \"normalized_error\", \"title\": \"Normalized Error\"}}, \"height\": 600, \"selection\": {\"selector004\": {\"type\": \"single\", \"empty\": \"none\", \"fields\": [\"sample_id\"]}}, \"width\": 100}, {\"mark\": {\"type\": \"point\", \"filled\": true, \"opacity\": 1.0, \"shape\": \"diamond\", \"size\": 180}, \"encoding\": {\"color\": {\"type\": \"nominal\", \"field\": \"author\", \"legend\": null, \"scale\": {\"domain\": [\"Khodayari\", \"Millard\", \"Kurata\", \"iML1515\", \"Chassagnole\", \"Exp_iML1515\"], \"range\": [\"#1b9e77\", \"#d95f02\", \"#7570b3\", \"#e7298a\", \"#66a61e\", \"#e6ab02\"]}}, \"tooltip\": [{\"type\": \"nominal\", \"field\": \"author\"}, {\"type\": \"nominal\", \"field\": \"sample_id\"}, {\"type\": \"quantitative\", \"field\": \"normalized_error\"}], \"x\": {\"type\": \"quantitative\", \"field\": \"jitter\", \"title\": null}, \"y\": {\"type\": \"quantitative\", \"field\": \"normalized_error\", \"title\": \"Normalized Error\"}}, \"transform\": [{\"filter\": \"datum.sample_id === \\\"WT\\\"\"}]}, {\"mark\": {\"type\": \"text\", \"dy\": 10, \"text\": \"WT\"}, \"encoding\": {\"tooltip\": [{\"type\": \"nominal\", \"field\": \"author\"}, {\"type\": \"nominal\", \"field\": \"sample_id\"}, {\"type\": \"quantitative\", \"field\": \"normalized_error\"}], \"x\": {\"type\": \"quantitative\", \"field\": \"jitter\", \"title\": null}, \"y\": {\"type\": \"quantitative\", \"field\": \"normalized_error\", \"title\": \"Normalized Error\"}}, \"transform\": [{\"filter\": \"datum.sample_id === \\\"WT\\\"\"}]}], \"transform\": [{\"calculate\": \"sqrt(-2*log(random()))*cos(2*PI*random())\", \"as\": \"jitter\"}]}, \"transform\": [{\"filter\": \"datum.normalized_error !== null\"}], \"$schema\": \"https://vega.github.io/schema/vega-lite/v4.0.2.json\", \"datasets\": {\"data-940808a44089a4310395b485e7aae650\": [{\"author\": \"Chassagnole\", \"sample_id\": \"WT\", \"normalized_error\": 0.28820548376018296, \"unnormalized_error\": 93.29113125400283}, {\"author\": \"Chassagnole\", \"sample_id\": \"eda\", \"normalized_error\": null, \"unnormalized_error\": null}, {\"author\": \"Chassagnole\", \"sample_id\": \"fbaB\", \"normalized_error\": 0.7274024334982011, \"unnormalized_error\": 261.52944994542014}, {\"author\": \"Chassagnole\", \"sample_id\": \"gnd\", \"normalized_error\": 0.6320845395969894, \"unnormalized_error\": 187.4628693402855}, {\"author\": \"Chassagnole\", \"sample_id\": \"pfkA\", \"normalized_error\": 0.6930077476759248, \"unnormalized_error\": 228.35671588576324}, {\"author\": \"Chassagnole\", \"sample_id\": \"pfkB\", \"normalized_error\": 0.6311294450616246, \"unnormalized_error\": 196.7567377747775}, {\"author\": \"Chassagnole\", \"sample_id\": \"pgi\", \"normalized_error\": 0.6459125954529208, \"unnormalized_error\": 276.92313686387763}, {\"author\": \"Chassagnole\", \"sample_id\": \"rpe\", \"normalized_error\": 0.993288822050695, \"unnormalized_error\": 331.1628656803188}, {\"author\": \"Chassagnole\", \"sample_id\": \"rpiB\", \"normalized_error\": 0.7056352051669648, \"unnormalized_error\": 252.7351165799589}, {\"author\": \"Chassagnole\", \"sample_id\": \"talA\", \"normalized_error\": 0.380661041899187, \"unnormalized_error\": 128.6273375040752}, {\"author\": \"Chassagnole\", \"sample_id\": \"talB\", \"normalized_error\": 0.3043928511092725, \"unnormalized_error\": 94.88584322228483}, {\"author\": \"Chassagnole\", \"sample_id\": \"zwf\", \"normalized_error\": 0.5206430582980762, \"unnormalized_error\": 245.63856174230315}, {\"author\": \"Exp_iML1515\", \"sample_id\": \"WT\", \"normalized_error\": 0.14706722301303984, \"unnormalized_error\": 47.60515804996873}, {\"author\": \"Exp_iML1515\", \"sample_id\": \"eda\", \"normalized_error\": 0.1633205678234614, \"unnormalized_error\": 53.819068619240056}, {\"author\": \"Exp_iML1515\", \"sample_id\": \"edd\", \"normalized_error\": 0.13868062375000398, \"unnormalized_error\": 44.48091452569854}, {\"author\": \"Exp_iML1515\", \"sample_id\": \"fbaB\", \"normalized_error\": 0.5521976155250821, \"unnormalized_error\": 198.53650743911683}, {\"author\": \"Exp_iML1515\", \"sample_id\": \"fbp\", \"normalized_error\": 0.2289912051486887, \"unnormalized_error\": 76.37160176271342}, {\"author\": \"Exp_iML1515\", \"sample_id\": \"gnd\", \"normalized_error\": 0.14449729089556915, \"unnormalized_error\": 42.85483201416737}, {\"author\": \"Exp_iML1515\", \"sample_id\": \"pfkA\", \"normalized_error\": 0.6486601450546818, \"unnormalized_error\": 213.74349846365484}, {\"author\": \"Exp_iML1515\", \"sample_id\": \"pfkB\", \"normalized_error\": 0.4568876799383616, \"unnormalized_error\": 142.43627854406492}, {\"author\": \"Exp_iML1515\", \"sample_id\": \"pgi\", \"normalized_error\": 0.6793866875016669, \"unnormalized_error\": 291.2745377175936}, {\"author\": \"Exp_iML1515\", \"sample_id\": \"pgl\", \"normalized_error\": 0.4871314388630383, \"unnormalized_error\": 203.9444229602605}, {\"author\": \"Exp_iML1515\", \"sample_id\": \"rpe\", \"normalized_error\": 0.17057773537355736, \"unnormalized_error\": 56.870680927368056}, {\"author\": \"Exp_iML1515\", \"sample_id\": \"rpiB\", \"normalized_error\": 0.2465699824239939, \"unnormalized_error\": 88.31318618563161}, {\"author\": \"Exp_iML1515\", \"sample_id\": \"talA\", \"normalized_error\": 0.2206978611686844, \"unnormalized_error\": 74.57495028474709}, {\"author\": \"Exp_iML1515\", \"sample_id\": \"tktA\", \"normalized_error\": 0.35478325862695936, \"unnormalized_error\": 131.99009156914963}, {\"author\": \"Exp_iML1515\", \"sample_id\": \"tktB\", \"normalized_error\": 0.16514581441169204, \"unnormalized_error\": 53.93914360121508}, {\"author\": \"Exp_iML1515\", \"sample_id\": \"zwf\", \"normalized_error\": 0.5882199471035787, \"unnormalized_error\": 277.5212297403459}, {\"author\": \"Khodayari\", \"sample_id\": \"WT\", \"normalized_error\": 0.10531493627246136, \"unnormalized_error\": 34.09008536068148}, {\"author\": \"Khodayari\", \"sample_id\": \"eda\", \"normalized_error\": 0.08726053787462837, \"unnormalized_error\": 28.754987434912575}, {\"author\": \"Khodayari\", \"sample_id\": \"edd\", \"normalized_error\": 0.09661206053248567, \"unnormalized_error\": 30.98769453506287}, {\"author\": \"Khodayari\", \"sample_id\": \"fbaB\", \"normalized_error\": 0.28473084983245006, \"unnormalized_error\": 102.3718083826796}, {\"author\": \"Khodayari\", \"sample_id\": \"fbp\", \"normalized_error\": 0.1655918616322018, \"unnormalized_error\": 55.22708046149291}, {\"author\": \"Khodayari\", \"sample_id\": \"gnd\", \"normalized_error\": 0.27955926345875853, \"unnormalized_error\": 82.9113487130216}, {\"author\": \"Khodayari\", \"sample_id\": \"pfkA\", \"normalized_error\": 0.5073639282800714, \"unnormalized_error\": 167.1842209693697}, {\"author\": \"Khodayari\", \"sample_id\": \"pfkB\", \"normalized_error\": 0.13295755549804242, \"unnormalized_error\": 41.44996733554306}, {\"author\": \"Khodayari\", \"sample_id\": \"pgi\", \"normalized_error\": 0.7095146817688706, \"unnormalized_error\": 304.19136073455405}, {\"author\": \"Khodayari\", \"sample_id\": \"pgl\", \"normalized_error\": 0.4223686182728297, \"unnormalized_error\": 176.83055795212965}, {\"author\": \"Khodayari\", \"sample_id\": \"rpe\", \"normalized_error\": 0.09212357934785417, \"unnormalized_error\": 30.71403589398953}, {\"author\": \"Khodayari\", \"sample_id\": \"rpiB\", \"normalized_error\": 0.375417995800669, \"unnormalized_error\": 134.46226922939047}, {\"author\": \"Khodayari\", \"sample_id\": \"talA\", \"normalized_error\": 0.1838250348832854, \"unnormalized_error\": 62.11543131827183}, {\"author\": \"Khodayari\", \"sample_id\": \"tktA\", \"normalized_error\": 0.35276676912882843, \"unnormalized_error\": 131.23989654998053}, {\"author\": \"Khodayari\", \"sample_id\": \"tktB\", \"normalized_error\": 0.10778400583215829, \"unnormalized_error\": 35.20390140801161}, {\"author\": \"Khodayari\", \"sample_id\": \"zwf\", \"normalized_error\": 0.5628522321265376, \"unnormalized_error\": 265.55278240904283}, {\"author\": \"Kurata\", \"sample_id\": \"WT\", \"normalized_error\": 0.2809020587880444, \"unnormalized_error\": 90.92703752202343}, {\"author\": \"Kurata\", \"sample_id\": \"eda\", \"normalized_error\": 0.2825967790142573, \"unnormalized_error\": 93.12418909652912}, {\"author\": \"Kurata\", \"sample_id\": \"edd\", \"normalized_error\": 0.2881443978108909, \"unnormalized_error\": 92.42045488048758}, {\"author\": \"Kurata\", \"sample_id\": \"fbp\", \"normalized_error\": 0.31609175077197516, \"unnormalized_error\": 105.4207880811897}, {\"author\": \"Kurata\", \"sample_id\": \"glk\", \"normalized_error\": 0.3220070454337391, \"unnormalized_error\": 104.99741259421165}, {\"author\": \"Kurata\", \"sample_id\": \"gnd\", \"normalized_error\": 0.6512878759755117, \"unnormalized_error\": 193.15817165019448}, {\"author\": \"Kurata\", \"sample_id\": \"pfkA\", \"normalized_error\": 0.5159761811814986, \"unnormalized_error\": 170.02209081360013}, {\"author\": \"Kurata\", \"sample_id\": \"pfkB\", \"normalized_error\": 0.2582356708428981, \"unnormalized_error\": 80.50584324610098}, {\"author\": \"Kurata\", \"sample_id\": \"pgi\", \"normalized_error\": 0.7464344994638034, \"unnormalized_error\": 320.0200530382769}, {\"author\": \"Kurata\", \"sample_id\": \"rpiB\", \"normalized_error\": 0.3343230355823771, \"unnormalized_error\": 119.743418064416}, {\"author\": \"Kurata\", \"sample_id\": \"talA\", \"normalized_error\": 0.3251489378085886, \"unnormalized_error\": 109.86951003426601}, {\"author\": \"Kurata\", \"sample_id\": \"talB\", \"normalized_error\": 0.2819411297609216, \"unnormalized_error\": 87.88715549303431}, {\"author\": \"Kurata\", \"sample_id\": \"tktA\", \"normalized_error\": 0.4352549590047171, \"unnormalized_error\": 161.92799546769146}, {\"author\": \"Kurata\", \"sample_id\": \"tktB\", \"normalized_error\": 0.28605368924563873, \"unnormalized_error\": 93.42950093432995}, {\"author\": \"Kurata\", \"sample_id\": \"zwf\", \"normalized_error\": 0.5562947849674182, \"unnormalized_error\": 262.45898933297144}, {\"author\": \"Millard\", \"sample_id\": \"WT\", \"normalized_error\": 0.1330441578216674, \"unnormalized_error\": 43.065939717675136}, {\"author\": \"Millard\", \"sample_id\": \"eda\", \"normalized_error\": 0.10823912696385306, \"unnormalized_error\": 35.66806728011768}, {\"author\": \"Millard\", \"sample_id\": \"edd\", \"normalized_error\": 0.11396204921854686, \"unnormalized_error\": 36.55259136706535}, {\"author\": \"Millard\", \"sample_id\": \"fbp\", \"normalized_error\": 0.18515909684092718, \"unnormalized_error\": 61.753012730323}, {\"author\": \"Millard\", \"sample_id\": \"gnd\", \"normalized_error\": 0.1733671102665875, \"unnormalized_error\": 51.417008175092775}, {\"author\": \"Millard\", \"sample_id\": \"pgi\", \"normalized_error\": 0.7672596191205012, \"unnormalized_error\": 328.94843979137084}, {\"author\": \"Millard\", \"sample_id\": \"pgl\", \"normalized_error\": 0.4236788389292437, \"unnormalized_error\": 177.37910024360366}, {\"author\": \"Millard\", \"sample_id\": \"rpe\", \"normalized_error\": 0.09216117290445598, \"unnormalized_error\": 30.726569599855328}, {\"author\": \"Millard\", \"sample_id\": \"rpiB\", \"normalized_error\": 0.289280978678587, \"unnormalized_error\": 103.61084783659275}, {\"author\": \"Millard\", \"sample_id\": \"tktA\", \"normalized_error\": 0.4972452565349177, \"unnormalized_error\": 184.99025911303772}, {\"author\": \"Millard\", \"sample_id\": \"zwf\", \"normalized_error\": 0.5202894298863824, \"unnormalized_error\": 245.47172042356235}, {\"author\": \"iML1515\", \"sample_id\": \"WT\", \"normalized_error\": 0.2022182287284367, \"unnormalized_error\": 65.4573503325646}, {\"author\": \"iML1515\", \"sample_id\": \"eda\", \"normalized_error\": 0.20670295305820094, \"unnormalized_error\": 68.11487715658555}, {\"author\": \"iML1515\", \"sample_id\": \"edd\", \"normalized_error\": 0.2006228321483219, \"unnormalized_error\": 64.34847787229408}, {\"author\": \"iML1515\", \"sample_id\": \"fbaB\", \"normalized_error\": 0.593273293066202, \"unnormalized_error\": 213.30481018152324}, {\"author\": \"iML1515\", \"sample_id\": \"fbp\", \"normalized_error\": 0.2681082746706841, \"unnormalized_error\": 89.41766287112327}, {\"author\": \"iML1515\", \"sample_id\": \"gnd\", \"normalized_error\": 0.19315086726910277, \"unnormalized_error\": 57.284450932650365}, {\"author\": \"iML1515\", \"sample_id\": \"pfkA\", \"normalized_error\": 0.6425756039029854, \"unnormalized_error\": 211.73854853382676}, {\"author\": \"iML1515\", \"sample_id\": \"pfkB\", \"normalized_error\": 0.4379828053953078, \"unnormalized_error\": 136.54262000501592}, {\"author\": \"iML1515\", \"sample_id\": \"pgi\", \"normalized_error\": 0.7114185900422846, \"unnormalized_error\": 305.0076263641246}, {\"author\": \"iML1515\", \"sample_id\": \"pgl\", \"normalized_error\": 0.5201155139173288, \"unnormalized_error\": 217.75366953552938}, {\"author\": \"iML1515\", \"sample_id\": \"rpe\", \"normalized_error\": 0.1986813750086895, \"unnormalized_error\": 66.24044491847269}, {\"author\": \"iML1515\", \"sample_id\": \"rpiB\", \"normalized_error\": 0.32006185730309333, \"unnormalized_error\": 114.63553720956337}, {\"author\": \"iML1515\", \"sample_id\": \"talA\", \"normalized_error\": 0.2868763329442999, \"unnormalized_error\": 96.93699863652037}, {\"author\": \"iML1515\", \"sample_id\": \"tktA\", \"normalized_error\": 0.44154122349315256, \"unnormalized_error\": 164.2666757894958}, {\"author\": \"iML1515\", \"sample_id\": \"tktB\", \"normalized_error\": 0.22928041042568284, \"unnormalized_error\": 74.8864815433122}, {\"author\": \"iML1515\", \"sample_id\": \"zwf\", \"normalized_error\": 0.6171908452629141, \"unnormalized_error\": 291.1896531310361}]}}, {\"mode\": \"vega-lite\"});\n",
       "</script>"
      ],
      "text/plain": [
       "alt.FacetChart(...)"
      ]
     },
     "execution_count": 20,
     "metadata": {},
     "output_type": "execute_result"
    }
   ],
   "source": [
    "boxplot(norm_error=x_norm_err_chass,\n",
    "              author=\"Long\",\n",
    "              title=\"Summary knockout simulations (batch)\",\n",
    "              sort_list=[\"Chassagnole\", \"Khodayari\", \"Millard\", \"Kurata\", \"iML1515\", \"Exp_iML1515\"],\n",
    "              opacity = False,\n",
    "              color_scheme = \"dark2\")"
   ]
  },
  {
   "cell_type": "code",
   "execution_count": 21,
   "metadata": {},
   "outputs": [
    {
     "data": {
      "text/html": [
       "\n",
       "<div id=\"altair-viz-38e1975282cd48629f87f67e6d1d6cbb\"></div>\n",
       "<script type=\"text/javascript\">\n",
       "  (function(spec, embedOpt){\n",
       "    const outputDiv = document.getElementById(\"altair-viz-38e1975282cd48629f87f67e6d1d6cbb\");\n",
       "    const paths = {\n",
       "      \"vega\": \"https://cdn.jsdelivr.net/npm//vega@5?noext\",\n",
       "      \"vega-lib\": \"https://cdn.jsdelivr.net/npm//vega-lib?noext\",\n",
       "      \"vega-lite\": \"https://cdn.jsdelivr.net/npm//vega-lite@4.0.2?noext\",\n",
       "      \"vega-embed\": \"https://cdn.jsdelivr.net/npm//vega-embed@6?noext\",\n",
       "    };\n",
       "\n",
       "    function loadScript(lib) {\n",
       "      return new Promise(function(resolve, reject) {\n",
       "        var s = document.createElement('script');\n",
       "        s.src = paths[lib];\n",
       "        s.async = true;\n",
       "        s.onload = () => resolve(paths[lib]);\n",
       "        s.onerror = () => reject(`Error loading script: ${paths[lib]}`);\n",
       "        document.getElementsByTagName(\"head\")[0].appendChild(s);\n",
       "      });\n",
       "    }\n",
       "\n",
       "    function showError(err) {\n",
       "      outputDiv.innerHTML = `<div class=\"error\" style=\"color:red;\">${err}</div>`;\n",
       "      throw err;\n",
       "    }\n",
       "\n",
       "    function displayChart(vegaEmbed) {\n",
       "      vegaEmbed(outputDiv, spec, embedOpt)\n",
       "        .catch(err => showError(`Javascript Error: ${err.message}<br>This usually means there's a typo in your chart specification. See the javascript console for the full traceback.`));\n",
       "    }\n",
       "\n",
       "    if(typeof define === \"function\" && define.amd) {\n",
       "      requirejs.config({paths});\n",
       "      require([\"vega-embed\"], displayChart, err => showError(`Error loading script: ${err.message}`));\n",
       "    } else if (typeof vegaEmbed === \"function\") {\n",
       "      displayChart(vegaEmbed);\n",
       "    } else {\n",
       "      loadScript(\"vega\")\n",
       "        .then(() => loadScript(\"vega-lite\"))\n",
       "        .then(() => loadScript(\"vega-embed\"))\n",
       "        .catch(showError)\n",
       "        .then(() => displayChart(vegaEmbed));\n",
       "    }\n",
       "  })({\"config\": {\"view\": {\"continuousWidth\": 400, \"continuousHeight\": 300}, \"mark\": {\"invalid\": null}}, \"data\": {\"name\": \"data-cf3e2a9f7a8cc98d63bf95e3d59cda10\"}, \"mark\": \"rect\", \"encoding\": {\"color\": {\"type\": \"quantitative\", \"condition\": {\"value\": \"lightgrey\", \"test\": \"datum.relative_error === null\"}, \"field\": \"relative_error\", \"scale\": {\"domain\": [0, 25, 50, 75, 100, 200, 300], \"scheme\": \"greenblue\", \"type\": \"threshold\"}, \"title\": \"relative error (clipped at 300)\"}, \"tooltip\": [{\"type\": \"nominal\", \"field\": \"sample_id\"}, {\"type\": \"nominal\", \"field\": \"BiGG_ID\"}, {\"type\": \"quantitative\", \"field\": \"relative_error\"}, {\"type\": \"quantitative\", \"field\": \"normalized_flux\"}], \"x\": {\"type\": \"nominal\", \"field\": \"author\"}, \"y\": {\"type\": \"nominal\", \"field\": \"BiGG_ID\"}}, \"title\": \"Heatmap for sample_id gnd\", \"$schema\": \"https://vega.github.io/schema/vega-lite/v4.0.2.json\", \"datasets\": {\"data-cf3e2a9f7a8cc98d63bf95e3d59cda10\": [{\"BiGG_ID\": \"AKGDH\", \"author\": \"Chassagnole\", \"sample_id\": \"gnd\", \"flux\": 0.0, \"normalized_flux\": 0.0, \"relative_error\": 100.0, \"symm_relative_error\": 200.0}, {\"BiGG_ID\": \"AKGDH\", \"author\": \"Exp_iML1515\", \"sample_id\": \"gnd\", \"flux\": 1.241954999999709, \"normalized_flux\": 12.419549999997091, \"relative_error\": 2.640909090885055, \"symm_relative_error\": 2.6064915546747764}, {\"BiGG_ID\": \"AKGDH\", \"author\": \"Khodayari\", \"sample_id\": \"gnd\", \"flux\": 6.956403750637432, \"normalized_flux\": 71.9780044147036, \"relative_error\": 494.8595406173852, \"symm_relative_error\": 142.43440916928353}, {\"BiGG_ID\": \"AKGDH\", \"author\": \"Kurata\", \"sample_id\": \"gnd\", \"flux\": 0.09302094870775184, \"normalized_flux\": 0.0, \"relative_error\": 100.0, \"symm_relative_error\": 200.0}, {\"BiGG_ID\": \"AKGDH\", \"author\": \"Long\", \"sample_id\": \"gnd\", \"flux\": 1.05754, \"normalized_flux\": 12.1, \"relative_error\": 0.0, \"symm_relative_error\": 0.0}, {\"BiGG_ID\": \"AKGDH\", \"author\": \"Millard\", \"sample_id\": \"gnd\", \"flux\": 0.3894346702438034, \"normalized_flux\": 55.876009983930246, \"relative_error\": 361.7852064787624, \"symm_relative_error\": 128.79840989278142}, {\"BiGG_ID\": \"AKGDH\", \"author\": \"iML1515\", \"sample_id\": \"gnd\", \"flux\": 5.997323393141111, \"normalized_flux\": 59.973233931411116, \"relative_error\": 395.6465614166208, \"symm_relative_error\": 132.84608257475983}, {\"BiGG_ID\": \"CS\", \"author\": \"Chassagnole\", \"sample_id\": \"gnd\", \"flux\": 0.0, \"normalized_flux\": 0.0, \"relative_error\": 100.0, \"symm_relative_error\": 200.0}, {\"BiGG_ID\": \"CS\", \"author\": \"Exp_iML1515\", \"sample_id\": \"gnd\", \"flux\": 2.262259999999999, \"normalized_flux\": 22.62259999999999, \"relative_error\": 12.550248756218854, \"symm_relative_error\": 11.809206368526215}, {\"BiGG_ID\": \"CS\", \"author\": \"Khodayari\", \"sample_id\": \"gnd\", \"flux\": 9.27517219598542, \"normalized_flux\": 95.97033312055817, \"relative_error\": 377.464343883374, \"symm_relative_error\": 130.73165395632032}, {\"BiGG_ID\": \"CS\", \"author\": \"Kurata\", \"sample_id\": \"gnd\", \"flux\": 0.15095826832433698, \"normalized_flux\": 0.0, \"relative_error\": 100.0, \"symm_relative_error\": 200.0}, {\"BiGG_ID\": \"CS\", \"author\": \"Long\", \"sample_id\": \"gnd\", \"flux\": 1.7567400000000002, \"normalized_flux\": 20.1, \"relative_error\": 0.0, \"symm_relative_error\": 0.0}, {\"BiGG_ID\": \"CS\", \"author\": \"Millard\", \"sample_id\": \"gnd\", \"flux\": 0.4610639468930705, \"normalized_flux\": 66.15336452632499, \"relative_error\": 229.12121654888057, \"symm_relative_error\": 106.78624487110706}, {\"BiGG_ID\": \"CS\", \"author\": \"iML1515\", \"sample_id\": \"gnd\", \"flux\": 7.713548887610372, \"normalized_flux\": 77.13548887610372, \"relative_error\": 283.7586511248941, \"symm_relative_error\": 117.31414020816545}, {\"BiGG_ID\": \"EDA\", \"author\": \"Chassagnole\", \"sample_id\": \"gnd\", \"flux\": 0.0, \"normalized_flux\": 0.0, \"relative_error\": 100.0, \"symm_relative_error\": 200.0}, {\"BiGG_ID\": \"EDA\", \"author\": \"Exp_iML1515\", \"sample_id\": \"gnd\", \"flux\": 0.8894599999999957, \"normalized_flux\": 8.894599999999958, \"relative_error\": 70.25217391304362, \"symm_relative_error\": 108.29032906641677}, {\"BiGG_ID\": \"EDA\", \"author\": \"Khodayari\", \"sample_id\": \"gnd\", \"flux\": 1.1168169872046094e-09, \"normalized_flux\": 0.0, \"relative_error\": 100.0, \"symm_relative_error\": 200.0}, {\"BiGG_ID\": \"EDA\", \"author\": \"Kurata\", \"sample_id\": \"gnd\", \"flux\": 571.4243745711681, \"normalized_flux\": 57.23750654978227, \"relative_error\": 91.42978779191395, \"symm_relative_error\": 62.745670910755656}, {\"BiGG_ID\": \"EDA\", \"author\": \"Long\", \"sample_id\": \"gnd\", \"flux\": 2.61326, \"normalized_flux\": 29.9, \"relative_error\": 0.0, \"symm_relative_error\": 0.0}, {\"BiGG_ID\": \"EDA\", \"author\": \"Millard\", \"sample_id\": \"gnd\", \"flux\": 0.07342189331741378, \"normalized_flux\": 10.534558829789122, \"relative_error\": 64.76736177328053, \"symm_relative_error\": 95.78658321328778}, {\"BiGG_ID\": \"EDA\", \"author\": \"iML1515\", \"sample_id\": \"gnd\", \"flux\": 0.779555326001486, \"normalized_flux\": 7.79555326001486, \"relative_error\": 73.92791551834496, \"symm_relative_error\": 117.27880255537823}, {\"BiGG_ID\": \"EDD\", \"author\": \"Chassagnole\", \"sample_id\": \"gnd\", \"flux\": 0.0, \"normalized_flux\": 0.0, \"relative_error\": 100.0, \"symm_relative_error\": 200.0}, {\"BiGG_ID\": \"EDD\", \"author\": \"Exp_iML1515\", \"sample_id\": \"gnd\", \"flux\": 0.8894600000000014, \"normalized_flux\": 8.894600000000015, \"relative_error\": 70.25217391304342, \"symm_relative_error\": 108.29032906641635}, {\"BiGG_ID\": \"EDD\", \"author\": \"Khodayari\", \"sample_id\": \"gnd\", \"flux\": 2.8300501083762476e-08, \"normalized_flux\": 0.0, \"relative_error\": 100.0, \"symm_relative_error\": 200.0}, {\"BiGG_ID\": \"EDD\", \"author\": \"Kurata\", \"sample_id\": \"gnd\", \"flux\": 571.4965554175722, \"normalized_flux\": 57.24473664330413, \"relative_error\": 91.45396870670278, \"symm_relative_error\": 62.75705842162344}, {\"BiGG_ID\": \"EDD\", \"author\": \"Long\", \"sample_id\": \"gnd\", \"flux\": 2.61326, \"normalized_flux\": 29.9, \"relative_error\": 0.0, \"symm_relative_error\": 0.0}, {\"BiGG_ID\": \"EDD\", \"author\": \"Millard\", \"sample_id\": \"gnd\", \"flux\": 0.07384969075419996, \"normalized_flux\": 10.595939121980363, \"relative_error\": 64.56207651511583, \"symm_relative_error\": 95.33825512663212}, {\"BiGG_ID\": \"EDD\", \"author\": \"iML1515\", \"sample_id\": \"gnd\", \"flux\": 0.779555326001486, \"normalized_flux\": 7.79555326001486, \"relative_error\": 73.92791551834496, \"symm_relative_error\": 117.27880255537823}, {\"BiGG_ID\": \"FBA\", \"author\": \"Chassagnole\", \"sample_id\": \"gnd\", \"flux\": 2.7333400522493976e-07, \"normalized_flux\": 0.0, \"relative_error\": 100.0, \"symm_relative_error\": 200.0}, {\"BiGG_ID\": \"FBA\", \"author\": \"Exp_iML1515\", \"sample_id\": \"gnd\", \"flux\": 6.94122, \"normalized_flux\": 69.4122, \"relative_error\": 11.955161290322579, \"symm_relative_error\": 11.28083998289352}, {\"BiGG_ID\": \"FBA\", \"author\": \"Khodayari\", \"sample_id\": \"gnd\", \"flux\": 5.122295380848508, \"normalized_flux\": 53.00046011595367, \"relative_error\": 14.515386909752143, \"symm_relative_error\": 15.651311090359453}, {\"BiGG_ID\": \"FBA\", \"author\": \"Kurata\", \"sample_id\": \"gnd\", \"flux\": 1.8595902327004168, \"normalized_flux\": 0.18626840726557925, \"relative_error\": 99.69956708505552, \"symm_relative_error\": 198.80186792334484}, {\"BiGG_ID\": \"FBA\", \"author\": \"Long\", \"sample_id\": \"gnd\", \"flux\": 5.4188, \"normalized_flux\": 62.0, \"relative_error\": 0.0, \"symm_relative_error\": 0.0}, {\"BiGG_ID\": \"FBA\", \"author\": \"Millard\", \"sample_id\": \"gnd\", \"flux\": 0.5557694987288606, \"normalized_flux\": 79.74169849925387, \"relative_error\": 28.61564274073205, \"symm_relative_error\": 25.03384492651224}, {\"BiGG_ID\": \"FBA\", \"author\": \"iML1515\", \"sample_id\": \"gnd\", \"flux\": 5.397275233011339, \"normalized_flux\": 53.97275233011338, \"relative_error\": 12.947173661107453, \"symm_relative_error\": 13.84333390146208}, {\"BiGG_ID\": \"FBP\", \"author\": \"Chassagnole\", \"sample_id\": \"gnd\", \"flux\": 0.0, \"normalized_flux\": 0.0, \"relative_error\": 100.0, \"symm_relative_error\": 200.0}, {\"BiGG_ID\": \"FBP\", \"author\": \"Exp_iML1515\", \"sample_id\": \"gnd\", \"flux\": 1.8103800000000003, \"normalized_flux\": 18.103800000000003, \"relative_error\": 35.102985074626886, \"symm_relative_error\": 29.861794450193322}, {\"BiGG_ID\": \"FBP\", \"author\": \"Khodayari\", \"sample_id\": \"gnd\", \"flux\": 0.002254690265569275, \"normalized_flux\": 0.0, \"relative_error\": 100.0, \"symm_relative_error\": 200.0}, {\"BiGG_ID\": \"FBP\", \"author\": \"Kurata\", \"sample_id\": \"gnd\", \"flux\": 0.0003158270708798694, \"normalized_flux\": 0.0, \"relative_error\": 100.0, \"symm_relative_error\": 200.0}, {\"BiGG_ID\": \"FBP\", \"author\": \"Long\", \"sample_id\": \"gnd\", \"flux\": 1.17116, \"normalized_flux\": 13.4, \"relative_error\": 0.0, \"symm_relative_error\": 0.0}, {\"BiGG_ID\": \"FBP\", \"author\": \"Millard\", \"sample_id\": \"gnd\", \"flux\": 9.768937351422696e-05, \"normalized_flux\": 0.0, \"relative_error\": 100.0, \"symm_relative_error\": 200.0}, {\"BiGG_ID\": \"FBP\", \"author\": \"iML1515\", \"sample_id\": \"gnd\", \"flux\": 0.0, \"normalized_flux\": 0.0, \"relative_error\": 100.0, \"symm_relative_error\": 200.0}, {\"BiGG_ID\": \"FUM\", \"author\": \"Chassagnole\", \"sample_id\": \"gnd\", \"flux\": 0.0, \"normalized_flux\": 0.0, \"relative_error\": 100.0, \"symm_relative_error\": 200.0}, {\"BiGG_ID\": \"FUM\", \"author\": \"Exp_iML1515\", \"sample_id\": \"gnd\", \"flux\": 1.721720000000004, \"normalized_flux\": 17.217200000000037, \"relative_error\": 17.123809523809783, \"symm_relative_error\": 15.773313448548338}, {\"BiGG_ID\": \"FUM\", \"author\": \"Khodayari\", \"sample_id\": \"gnd\", \"flux\": 12.742337952130356, \"normalized_flux\": 131.84514445241072, \"relative_error\": 796.9057445742227, \"symm_relative_error\": 159.87584561759752}, {\"BiGG_ID\": \"FUM\", \"author\": \"Kurata\", \"sample_id\": \"gnd\", \"flux\": 0.031038920969590558, \"normalized_flux\": 0.0, \"relative_error\": 100.0, \"symm_relative_error\": 200.0}, {\"BiGG_ID\": \"FUM\", \"author\": \"Long\", \"sample_id\": \"gnd\", \"flux\": 1.28478, \"normalized_flux\": 14.7, \"relative_error\": 0.0, \"symm_relative_error\": 0.0}, {\"BiGG_ID\": \"FUM\", \"author\": \"Millard\", \"sample_id\": \"gnd\", \"flux\": 0.3865596963328651, \"normalized_flux\": 55.46350929196423, \"relative_error\": 277.3027842990764, \"symm_relative_error\": 116.1957538991934}, {\"BiGG_ID\": \"FUM\", \"author\": \"iML1515\", \"sample_id\": \"gnd\", \"flux\": 7.6877779599496625, \"normalized_flux\": 76.87777959949662, \"relative_error\": 422.97809251358245, \"symm_relative_error\": 135.79228470361033}, {\"BiGG_ID\": \"G6PDH2r\", \"author\": \"Chassagnole\", \"sample_id\": \"gnd\", \"flux\": 0.0001608933987405692, \"normalized_flux\": 15.556982592743944, \"relative_error\": 47.969957883799516, \"symm_relative_error\": 63.1058930407121}, {\"BiGG_ID\": \"G6PDH2r\", \"author\": \"Exp_iML1515\", \"sample_id\": \"gnd\", \"flux\": 1.191905000000001, \"normalized_flux\": 11.919050000000013, \"relative_error\": 60.13695652173908, \"symm_relative_error\": 85.99406251457162}, {\"BiGG_ID\": \"G6PDH2r\", \"author\": \"Khodayari\", \"sample_id\": \"gnd\", \"flux\": 4.395871816906836, \"normalized_flux\": 45.484145599628015, \"relative_error\": 52.12088829307029, \"symm_relative_error\": 41.34595006859086}, {\"BiGG_ID\": \"G6PDH2r\", \"author\": \"Kurata\", \"sample_id\": \"gnd\", \"flux\": 955.2038304983469, \"normalized_flux\": 95.67930234960063, \"relative_error\": 219.9976667210724, \"symm_relative_error\": 104.76137567077325}, {\"BiGG_ID\": \"G6PDH2r\", \"author\": \"Long\", \"sample_id\": \"gnd\", \"flux\": 2.61326, \"normalized_flux\": 29.9, \"relative_error\": 0.0, \"symm_relative_error\": 0.0}, {\"BiGG_ID\": \"G6PDH2r\", \"author\": \"Millard\", \"sample_id\": \"gnd\", \"flux\": 0.07572702175796607, \"normalized_flux\": 10.86529820560768, \"relative_error\": 63.66121001469003, \"symm_relative_error\": 93.38679039406072}, {\"BiGG_ID\": \"G6PDH2r\", \"author\": \"iML1515\", \"sample_id\": \"gnd\", \"flux\": 0.779555326001486, \"normalized_flux\": 7.79555326001486, \"relative_error\": 73.92791551834496, \"symm_relative_error\": 117.27880255537823}, {\"BiGG_ID\": \"GAPD\", \"author\": \"Chassagnole\", \"sample_id\": \"gnd\", \"flux\": 0.0010343469202820335, \"normalized_flux\": 100.01228863113379, \"relative_error\": 33.41392234944488, \"symm_relative_error\": 40.116104323599856}, {\"BiGG_ID\": \"GAPD\", \"author\": \"Exp_iML1515\", \"sample_id\": \"gnd\", \"flux\": 14.371499999999996, \"normalized_flux\": 143.71499999999997, \"relative_error\": 4.317576564580569, \"symm_relative_error\": 4.41284044706804}, {\"BiGG_ID\": \"GAPD\", \"author\": \"Khodayari\", \"sample_id\": \"gnd\", \"flux\": 10.481105830090314, \"normalized_flux\": 108.44814486796975, \"relative_error\": 27.797506745692573, \"symm_relative_error\": 32.28467395607497}, {\"BiGG_ID\": \"GAPD\", \"author\": \"Kurata\", \"sample_id\": \"gnd\", \"flux\": 572.2735991640368, \"normalized_flux\": 57.32257029637697, \"relative_error\": 61.8358386841698, \"symm_relative_error\": 89.51067787082485}, {\"BiGG_ID\": \"GAPD\", \"author\": \"Long\", \"sample_id\": \"gnd\", \"flux\": 13.127479999999998, \"normalized_flux\": 150.2, \"relative_error\": 0.0, \"symm_relative_error\": 0.0}, {\"BiGG_ID\": \"GAPD\", \"author\": \"Millard\", \"sample_id\": \"gnd\", \"flux\": 1.1412119119418236, \"normalized_flux\": 163.7408609395791, \"relative_error\": 9.015220332609267, \"symm_relative_error\": 8.626376890891681}, {\"BiGG_ID\": \"GAPD\", \"author\": \"iML1515\", \"sample_id\": \"gnd\", \"flux\": 17.115857960830503, \"normalized_flux\": 171.15857960830505, \"relative_error\": 13.953781363718415, \"symm_relative_error\": 13.043734282029055}, {\"BiGG_ID\": \"GLCptspp\", \"author\": \"Chassagnole\", \"sample_id\": \"gnd\", \"flux\": 0.001034219828822157, \"normalized_flux\": 100.0, \"relative_error\": 0.0, \"symm_relative_error\": 0.0}, {\"BiGG_ID\": \"GLCptspp\", \"author\": \"Exp_iML1515\", \"sample_id\": \"gnd\", \"flux\": 8.58, \"normalized_flux\": 85.8, \"relative_error\": 14.200000000000001, \"symm_relative_error\": 15.28525296017223}, {\"BiGG_ID\": \"GLCptspp\", \"author\": \"Khodayari\", \"sample_id\": \"gnd\", \"flux\": 9.454786404107399, \"normalized_flux\": 97.8288037799075, \"relative_error\": 2.1711962200924972, \"symm_relative_error\": 2.1950253740684196}, {\"BiGG_ID\": \"GLCptspp\", \"author\": \"Kurata\", \"sample_id\": \"gnd\", \"flux\": 539.9560461256041, \"normalized_flux\": 54.08543825226629, \"relative_error\": 45.91456174773371, \"symm_relative_error\": 59.59623734536562}, {\"BiGG_ID\": \"GLCptspp\", \"author\": \"Long\", \"sample_id\": \"gnd\", \"flux\": 8.74, \"normalized_flux\": 100.0, \"relative_error\": 0.0, \"symm_relative_error\": 0.0}, {\"BiGG_ID\": \"GLCptspp\", \"author\": \"Millard\", \"sample_id\": \"gnd\", \"flux\": 0.6968806334683926, \"normalized_flux\": 99.98829639104821, \"relative_error\": 0.011703608951791011, \"symm_relative_error\": 0.011704293864183228}, {\"BiGG_ID\": \"GLCptspp\", \"author\": \"iML1515\", \"sample_id\": \"gnd\", \"flux\": 8.59, \"normalized_flux\": 85.9, \"relative_error\": 14.099999999999993, \"symm_relative_error\": 15.169445938676702}, {\"BiGG_ID\": \"GND\", \"author\": \"Chassagnole\", \"sample_id\": \"gnd\", \"flux\": 0.0, \"normalized_flux\": 0.0, \"relative_error\": 0.0, \"symm_relative_error\": null}, {\"BiGG_ID\": \"GND\", \"author\": \"Exp_iML1515\", \"sample_id\": \"gnd\", \"flux\": 0.0, \"normalized_flux\": 0.0, \"relative_error\": 0.0, \"symm_relative_error\": null}, {\"BiGG_ID\": \"GND\", \"author\": \"Khodayari\", \"sample_id\": \"gnd\", \"flux\": 6.549247857157956e-07, \"normalized_flux\": 0.0, \"relative_error\": 0.0, \"symm_relative_error\": null}, {\"BiGG_ID\": \"GND\", \"author\": \"Kurata\", \"sample_id\": \"gnd\", \"flux\": 0.0, \"normalized_flux\": 0.0, \"relative_error\": 0.0, \"symm_relative_error\": null}, {\"BiGG_ID\": \"GND\", \"author\": \"Long\", \"sample_id\": \"gnd\", \"flux\": 0.0, \"normalized_flux\": 0.0, \"relative_error\": 0.0, \"symm_relative_error\": null}, {\"BiGG_ID\": \"GND\", \"author\": \"Millard\", \"sample_id\": \"gnd\", \"flux\": 0.0, \"normalized_flux\": 0.0, \"relative_error\": 0.0, \"symm_relative_error\": null}, {\"BiGG_ID\": \"GND\", \"author\": \"iML1515\", \"sample_id\": \"gnd\", \"flux\": 0.0, \"normalized_flux\": 0.0, \"relative_error\": 0.0, \"symm_relative_error\": null}, {\"BiGG_ID\": \"ICDHyr\", \"author\": \"Chassagnole\", \"sample_id\": \"gnd\", \"flux\": 0.0, \"normalized_flux\": 0.0, \"relative_error\": 100.0, \"symm_relative_error\": 200.0}, {\"BiGG_ID\": \"ICDHyr\", \"author\": \"Exp_iML1515\", \"sample_id\": \"gnd\", \"flux\": 2.2622600000000097, \"normalized_flux\": 22.622600000000094, \"relative_error\": 12.550248756219368, \"symm_relative_error\": 11.809206368526668}, {\"BiGG_ID\": \"ICDHyr\", \"author\": \"Khodayari\", \"sample_id\": \"gnd\", \"flux\": 8.540603491555803, \"normalized_flux\": 88.36974072459593, \"relative_error\": 339.65045136614884, \"symm_relative_error\": 125.87794580966577}, {\"BiGG_ID\": \"ICDHyr\", \"author\": \"Kurata\", \"sample_id\": \"gnd\", \"flux\": 0.15094824561717549, \"normalized_flux\": 0.0, \"relative_error\": 100.0, \"symm_relative_error\": 200.0}, {\"BiGG_ID\": \"ICDHyr\", \"author\": \"Long\", \"sample_id\": \"gnd\", \"flux\": 1.7567400000000002, \"normalized_flux\": 20.1, \"relative_error\": 0.0, \"symm_relative_error\": 0.0}, {\"BiGG_ID\": \"ICDHyr\", \"author\": \"Millard\", \"sample_id\": \"gnd\", \"flux\": 0.4600373221481151, \"normalized_flux\": 66.00606460959449, \"relative_error\": 228.38838114226112, \"symm_relative_error\": 106.62678597084401}, {\"BiGG_ID\": \"ICDHyr\", \"author\": \"iML1515\", \"sample_id\": \"gnd\", \"flux\": 7.713548887610372, \"normalized_flux\": 77.13548887610372, \"relative_error\": 283.7586511248941, \"symm_relative_error\": 117.31414020816545}, {\"BiGG_ID\": \"ICL\", \"author\": \"Chassagnole\", \"sample_id\": \"gnd\", \"flux\": 0.0, \"normalized_flux\": 0.0, \"relative_error\": 0.0, \"symm_relative_error\": null}, {\"BiGG_ID\": \"ICL\", \"author\": \"Exp_iML1515\", \"sample_id\": \"gnd\", \"flux\": 0.0, \"normalized_flux\": 0.0, \"relative_error\": 0.0, \"symm_relative_error\": null}, {\"BiGG_ID\": \"ICL\", \"author\": \"Khodayari\", \"sample_id\": \"gnd\", \"flux\": 0.9166612961739187, \"normalized_flux\": 9.484706924428933, \"relative_error\": 100.0, \"symm_relative_error\": 200.0}, {\"BiGG_ID\": \"ICL\", \"author\": \"Kurata\", \"sample_id\": \"gnd\", \"flux\": 2.6117205048416875e-06, \"normalized_flux\": 0.0, \"relative_error\": 0.0, \"symm_relative_error\": null}, {\"BiGG_ID\": \"ICL\", \"author\": \"Long\", \"sample_id\": \"gnd\", \"flux\": 0.0, \"normalized_flux\": 0.0, \"relative_error\": 0.0, \"symm_relative_error\": null}, {\"BiGG_ID\": \"ICL\", \"author\": \"Millard\", \"sample_id\": \"gnd\", \"flux\": 0.0010277011793949596, \"normalized_flux\": 0.14745436333241665, \"relative_error\": 100.0, \"symm_relative_error\": 200.0}, {\"BiGG_ID\": \"ICL\", \"author\": \"iML1515\", \"sample_id\": \"gnd\", \"flux\": 0.0, \"normalized_flux\": 0.0, \"relative_error\": 0.0, \"symm_relative_error\": null}, {\"BiGG_ID\": \"MALS\", \"author\": \"Chassagnole\", \"sample_id\": \"gnd\", \"flux\": 0.0, \"normalized_flux\": 0.0, \"relative_error\": 0.0, \"symm_relative_error\": null}, {\"BiGG_ID\": \"MALS\", \"author\": \"Exp_iML1515\", \"sample_id\": \"gnd\", \"flux\": -5.0116201068492295e-15, \"normalized_flux\": 0.0, \"relative_error\": 0.0, \"symm_relative_error\": null}, {\"BiGG_ID\": \"MALS\", \"author\": \"Khodayari\", \"sample_id\": \"gnd\", \"flux\": 0.8855210732964185, \"normalized_flux\": 9.16249861391415, \"relative_error\": 100.0, \"symm_relative_error\": 200.0}, {\"BiGG_ID\": \"MALS\", \"author\": \"Kurata\", \"sample_id\": \"gnd\", \"flux\": 2.6117204741456006e-06, \"normalized_flux\": 0.0, \"relative_error\": 0.0, \"symm_relative_error\": null}, {\"BiGG_ID\": \"MALS\", \"author\": \"Long\", \"sample_id\": \"gnd\", \"flux\": 0.0, \"normalized_flux\": 0.0, \"relative_error\": 0.0, \"symm_relative_error\": null}, {\"BiGG_ID\": \"MALS\", \"author\": \"Millard\", \"sample_id\": \"gnd\", \"flux\": 0.0010277046536194382, \"normalized_flux\": 0.14745486181346235, \"relative_error\": 100.0, \"symm_relative_error\": 200.0}, {\"BiGG_ID\": \"MALS\", \"author\": \"iML1515\", \"sample_id\": \"gnd\", \"flux\": 2.0788831432301125e-19, \"normalized_flux\": 0.0, \"relative_error\": 0.0, \"symm_relative_error\": null}, {\"BiGG_ID\": \"MDH\", \"author\": \"Chassagnole\", \"sample_id\": \"gnd\", \"flux\": 0.0, \"normalized_flux\": 0.0, \"relative_error\": 100.0, \"symm_relative_error\": 200.0}, {\"BiGG_ID\": \"MDH\", \"author\": \"Exp_iML1515\", \"sample_id\": \"gnd\", \"flux\": 1.661659999999999, \"normalized_flux\": 16.61659999999999, \"relative_error\": 24.936842105263086, \"symm_relative_error\": 22.172305676447134}, {\"BiGG_ID\": \"MDH\", \"author\": \"Khodayari\", \"sample_id\": \"gnd\", \"flux\": 13.31490534004979, \"normalized_flux\": 137.769507018572, \"relative_error\": 935.8609550268571, \"symm_relative_error\": 164.78442205185738}, {\"BiGG_ID\": \"MDH\", \"author\": \"Kurata\", \"sample_id\": \"gnd\", \"flux\": 0.029563130219210743, \"normalized_flux\": 0.0, \"relative_error\": 100.0, \"symm_relative_error\": 200.0}, {\"BiGG_ID\": \"MDH\", \"author\": \"Long\", \"sample_id\": \"gnd\", \"flux\": 1.16242, \"normalized_flux\": 13.3, \"relative_error\": 0.0, \"symm_relative_error\": 0.0}, {\"BiGG_ID\": \"MDH\", \"author\": \"Millard\", \"sample_id\": \"gnd\", \"flux\": 0.3819699400641592, \"normalized_flux\": 54.804971964166825, \"relative_error\": 312.06745837719416, \"symm_relative_error\": 121.88529197546549}, {\"BiGG_ID\": \"MDH\", \"author\": \"iML1515\", \"sample_id\": \"gnd\", \"flux\": 7.683527094497871, \"normalized_flux\": 76.8352709449787, \"relative_error\": 477.7088040975842, \"symm_relative_error\": 140.97760017554629}, {\"BiGG_ID\": \"PDH\", \"author\": \"Chassagnole\", \"sample_id\": \"gnd\", \"flux\": 1.939851539275095e-07, \"normalized_flux\": 0.0, \"relative_error\": 100.0, \"symm_relative_error\": 200.0}, {\"BiGG_ID\": \"PDH\", \"author\": \"Exp_iML1515\", \"sample_id\": \"gnd\", \"flux\": 9.967099999999991, \"normalized_flux\": 99.6709999999999, \"relative_error\": 22.253510140405684, \"symm_relative_error\": 25.03960574184525}, {\"BiGG_ID\": \"PDH\", \"author\": \"Khodayari\", \"sample_id\": \"gnd\", \"flux\": 10.438205691940311, \"normalized_flux\": 108.00425655385781, \"relative_error\": 15.753310020391714, \"symm_relative_error\": 17.100236668713265}, {\"BiGG_ID\": \"PDH\", \"author\": \"Kurata\", \"sample_id\": \"gnd\", \"flux\": 952.1789833308524, \"normalized_flux\": 95.37631438257266, \"relative_error\": 25.603498921550184, \"symm_relative_error\": 29.362399776624883}, {\"BiGG_ID\": \"PDH\", \"author\": \"Long\", \"sample_id\": \"gnd\", \"flux\": 11.20468, \"normalized_flux\": 128.2, \"relative_error\": 0.0, \"symm_relative_error\": 0.0}, {\"BiGG_ID\": \"PDH\", \"author\": \"Millard\", \"sample_id\": \"gnd\", \"flux\": 0.7072435660602391, \"normalized_flux\": 101.47516792357588, \"relative_error\": 20.846202867725513, \"symm_relative_error\": 23.2718515615208}, {\"BiGG_ID\": \"PDH\", \"author\": \"iML1515\", \"sample_id\": \"gnd\", \"flux\": 10.497216716920585, \"normalized_flux\": 104.97216716920583, \"relative_error\": 18.118434345393258, \"symm_relative_error\": 19.92333228514228}, {\"BiGG_ID\": \"PFK\", \"author\": \"Chassagnole\", \"sample_id\": \"gnd\", \"flux\": 2.733352669632627e-07, \"normalized_flux\": 0.0, \"relative_error\": 100.0, \"symm_relative_error\": 200.0}, {\"BiGG_ID\": \"PFK\", \"author\": \"Exp_iML1515\", \"sample_id\": \"gnd\", \"flux\": 8.7516, \"normalized_flux\": 87.51599999999998, \"relative_error\": 16.06896551724134, \"symm_relative_error\": 14.87392275774015}, {\"BiGG_ID\": \"PFK\", \"author\": \"Khodayari\", \"sample_id\": \"gnd\", \"flux\": 5.097622258948796, \"normalized_flux\": 52.74516698739436, \"relative_error\": 30.04619762945045, \"symm_relative_error\": 35.35807638353493}, {\"BiGG_ID\": \"PFK\", \"author\": \"Kurata\", \"sample_id\": \"gnd\", \"flux\": 1.8599334408180443, \"normalized_flux\": 0.18630278517760895, \"relative_error\": 99.75291407801379, \"symm_relative_error\": 199.01409235105947}, {\"BiGG_ID\": \"PFK\", \"author\": \"Long\", \"sample_id\": \"gnd\", \"flux\": 6.5899600000000005, \"normalized_flux\": 75.4, \"relative_error\": 0.0, \"symm_relative_error\": 0.0}, {\"BiGG_ID\": \"PFK\", \"author\": \"Millard\", \"sample_id\": \"gnd\", \"flux\": 0.5558671410958065, \"normalized_flux\": 79.75570820688186, \"relative_error\": 5.776801335387078, \"symm_relative_error\": 5.614628372001672}, {\"BiGG_ID\": \"PFK\", \"author\": \"iML1515\", \"sample_id\": \"gnd\", \"flux\": 5.397275233011339, \"normalized_flux\": 53.97275233011338, \"relative_error\": 28.418100357939817, \"symm_relative_error\": 33.12482309290582}, {\"BiGG_ID\": \"PGI\", \"author\": \"Chassagnole\", \"sample_id\": \"gnd\", \"flux\": 0.0008724665104937612, \"normalized_flux\": 84.35987071408097, \"relative_error\": 25.72260911189415, \"symm_relative_error\": 22.791344839668284}, {\"BiGG_ID\": \"PGI\", \"author\": \"Exp_iML1515\", \"sample_id\": \"gnd\", \"flux\": 7.510359999999999, \"normalized_flux\": 75.1036, \"relative_error\": 11.927868852459026, \"symm_relative_error\": 11.256536402735241}, {\"BiGG_ID\": \"PGI\", \"author\": \"Khodayari\", \"sample_id\": \"gnd\", \"flux\": 5.1072722230112895, \"normalized_flux\": 52.84501529706561, \"relative_error\": 21.24438852896332, \"symm_relative_error\": 23.76919902445188}, {\"BiGG_ID\": \"PGI\", \"author\": \"Kurata\", \"sample_id\": \"gnd\", \"flux\": 24.76565086026028, \"normalized_flux\": 2.4806854002116476, \"relative_error\": 96.30300238418533, \"symm_relative_error\": 185.7392298684997}, {\"BiGG_ID\": \"PGI\", \"author\": \"Long\", \"sample_id\": \"gnd\", \"flux\": 5.86454, \"normalized_flux\": 67.1, \"relative_error\": 0.0, \"symm_relative_error\": 0.0}, {\"BiGG_ID\": \"PGI\", \"author\": \"Millard\", \"sample_id\": \"gnd\", \"flux\": 0.6073845727526016, \"normalized_flux\": 87.14741918063622, \"relative_error\": 29.876928734182158, \"symm_relative_error\": 25.993847141337355}, {\"BiGG_ID\": \"PGI\", \"author\": \"iML1515\", \"sample_id\": \"gnd\", \"flux\": 7.810444673998513, \"normalized_flux\": 78.10444673998516, \"relative_error\": 16.40006965720592, \"symm_relative_error\": 15.157175950252576}, {\"BiGG_ID\": \"PGM\", \"author\": \"Chassagnole\", \"sample_id\": \"gnd\", \"flux\": 0.0010342399604766708, \"normalized_flux\": 100.00194655468333, \"relative_error\": 28.26259214154711, \"symm_relative_error\": 32.913728574314256}, {\"BiGG_ID\": \"PGM\", \"author\": \"Exp_iML1515\", \"sample_id\": \"gnd\", \"flux\": 13.221779999999995, \"normalized_flux\": 132.21779999999995, \"relative_error\": 5.152223816355847, \"symm_relative_error\": 5.288460476448931}, {\"BiGG_ID\": \"PGM\", \"author\": \"Khodayari\", \"sample_id\": \"gnd\", \"flux\": 8.475444468475965, \"normalized_flux\": 87.69553942475497, \"relative_error\": 37.09071777277262, \"symm_relative_error\": 45.535425932376455}, {\"BiGG_ID\": \"PGM\", \"author\": \"Kurata\", \"sample_id\": \"gnd\", \"flux\": 572.2735991640368, \"normalized_flux\": 57.32257029637697, \"relative_error\": 58.879074392842924, \"symm_relative_error\": 83.44485290118706}, {\"BiGG_ID\": \"PGM\", \"author\": \"Long\", \"sample_id\": \"gnd\", \"flux\": 12.18356, \"normalized_flux\": 139.4, \"relative_error\": 0.0, \"symm_relative_error\": 0.0}, {\"BiGG_ID\": \"PGM\", \"author\": \"Millard\", \"sample_id\": \"gnd\", \"flux\": 1.0434099875216942, \"normalized_flux\": 149.7082600365174, \"relative_error\": 7.394734602953655, \"symm_relative_error\": 7.131072654385836}, {\"BiGG_ID\": \"PGM\", \"author\": \"iML1515\", \"sample_id\": \"gnd\", \"flux\": 15.611599722393795, \"normalized_flux\": 156.1159972239379, \"relative_error\": 11.991389687186444, \"symm_relative_error\": 11.3130912579807}, {\"BiGG_ID\": \"PPC\", \"author\": \"Chassagnole\", \"sample_id\": \"gnd\", \"flux\": 5.8577561000665825e-09, \"normalized_flux\": 0.0, \"relative_error\": 100.0, \"symm_relative_error\": 200.0}, {\"BiGG_ID\": \"PPC\", \"author\": \"Exp_iML1515\", \"sample_id\": \"gnd\", \"flux\": 2.06778, \"normalized_flux\": 20.6778, \"relative_error\": 11.633333333333322, \"symm_relative_error\": 12.351796142275694}, {\"BiGG_ID\": \"PPC\", \"author\": \"Khodayari\", \"sample_id\": \"gnd\", \"flux\": -0.504844935310907, \"normalized_flux\": -5.2236374260507095, \"relative_error\": 122.32323686346456, \"symm_relative_error\": 200.0}, {\"BiGG_ID\": \"PPC\", \"author\": \"Kurata\", \"sample_id\": \"gnd\", \"flux\": 0.2878806293759812, \"normalized_flux\": 0.0, \"relative_error\": 100.0, \"symm_relative_error\": 200.0}, {\"BiGG_ID\": \"PPC\", \"author\": \"Long\", \"sample_id\": \"gnd\", \"flux\": 2.0451599999999996, \"normalized_flux\": 23.4, \"relative_error\": 0.0, \"symm_relative_error\": 0.0}, {\"BiGG_ID\": \"PPC\", \"author\": \"Millard\", \"sample_id\": \"gnd\", \"flux\": 0.2524829431751934, \"normalized_flux\": 36.22620308766327, \"relative_error\": 54.81283370796272, \"symm_relative_error\": 43.02203535853528}, {\"BiGG_ID\": \"PPC\", \"author\": \"iML1515\", \"sample_id\": \"gnd\", \"flux\": 2.592604481253434, \"normalized_flux\": 25.926044812534343, \"relative_error\": 10.795063301428822, \"symm_relative_error\": 10.242235403769678}, {\"BiGG_ID\": \"PPCK\", \"author\": \"Chassagnole\", \"sample_id\": \"gnd\", \"flux\": 0.0, \"normalized_flux\": 0.0, \"relative_error\": 100.0, \"symm_relative_error\": 200.0}, {\"BiGG_ID\": \"PPCK\", \"author\": \"Exp_iML1515\", \"sample_id\": \"gnd\", \"flux\": 0.017159999999999998, \"normalized_flux\": 0.17159999999999995, \"relative_error\": 91.42, \"symm_relative_error\": 168.3919690550746}, {\"BiGG_ID\": \"PPCK\", \"author\": \"Khodayari\", \"sample_id\": \"gnd\", \"flux\": 1.4625480042131749, \"normalized_flux\": 15.133004132246578, \"relative_error\": 656.6502066123289, \"symm_relative_error\": 153.30649582379462}, {\"BiGG_ID\": \"PPCK\", \"author\": \"Kurata\", \"sample_id\": \"gnd\", \"flux\": 0.08566946570405548, \"normalized_flux\": 0.0, \"relative_error\": 100.0, \"symm_relative_error\": 200.0}, {\"BiGG_ID\": \"PPCK\", \"author\": \"Long\", \"sample_id\": \"gnd\", \"flux\": 0.1748, \"normalized_flux\": 2.0, \"relative_error\": 0.0, \"symm_relative_error\": 0.0}, {\"BiGG_ID\": \"PPCK\", \"author\": \"Millard\", \"sample_id\": \"gnd\", \"flux\": 0.056489610238728775, \"normalized_flux\": 8.105118179928567, \"relative_error\": 305.2559089964284, \"symm_relative_error\": 120.83219753045431}, {\"BiGG_ID\": \"PPCK\", \"author\": \"iML1515\", \"sample_id\": \"gnd\", \"flux\": 0.0, \"normalized_flux\": 0.0, \"relative_error\": 100.0, \"symm_relative_error\": 200.0}, {\"BiGG_ID\": \"PTAr\", \"author\": \"Chassagnole\", \"sample_id\": \"gnd\", \"flux\": 0.0, \"normalized_flux\": 0.0, \"relative_error\": 100.0, \"symm_relative_error\": 200.0}, {\"BiGG_ID\": \"PTAr\", \"author\": \"Exp_iML1515\", \"sample_id\": \"gnd\", \"flux\": 5.88588, \"normalized_flux\": 58.8588, \"relative_error\": 33.115, \"symm_relative_error\": 39.68601132516403}, {\"BiGG_ID\": \"PTAr\", \"author\": \"Khodayari\", \"sample_id\": \"gnd\", \"flux\": -0.018734281217576927, \"normalized_flux\": -0.19384386308248547, \"relative_error\": 100.22027711713919, \"symm_relative_error\": 200.0}, {\"BiGG_ID\": \"PTAr\", \"author\": \"Kurata\", \"sample_id\": \"gnd\", \"flux\": 778.6306896918012, \"normalized_flux\": 77.99261141868804, \"relative_error\": 11.372032478763588, \"symm_relative_error\": 12.057631355735499}, {\"BiGG_ID\": \"PTAr\", \"author\": \"Long\", \"sample_id\": \"gnd\", \"flux\": 7.6912, \"normalized_flux\": 88.0, \"relative_error\": 0.0, \"symm_relative_error\": 0.0}, {\"BiGG_ID\": \"PTAr\", \"author\": \"Millard\", \"sample_id\": \"gnd\", \"flux\": 0.09659091423973504, \"normalized_flux\": 13.858845400276127, \"relative_error\": 84.25131204514076, \"symm_relative_error\": 145.57627137509826}, {\"BiGG_ID\": \"PTAr\", \"author\": \"iML1515\", \"sample_id\": \"gnd\", \"flux\": -0.5098035269411237, \"normalized_flux\": -5.0980352694112385, \"relative_error\": 105.79322189705822, \"symm_relative_error\": 200.00000000000003}, {\"BiGG_ID\": \"PYK\", \"author\": \"Chassagnole\", \"sample_id\": \"gnd\", \"flux\": 1.0912113762836372e-08, \"normalized_flux\": 0.0, \"relative_error\": 100.0, \"symm_relative_error\": 200.0}, {\"BiGG_ID\": \"PYK\", \"author\": \"Exp_iML1515\", \"sample_id\": \"gnd\", \"flux\": 2.0677800000000013, \"normalized_flux\": 20.67780000000001, \"relative_error\": 59.060000000000066, \"symm_relative_error\": 45.59561491546364}, {\"BiGG_ID\": \"PYK\", \"author\": \"Khodayari\", \"sample_id\": \"gnd\", \"flux\": 0.5046669495911864, \"normalized_flux\": 5.221795805383044, \"relative_error\": 59.83233995859197, \"symm_relative_error\": 85.37253163949005}, {\"BiGG_ID\": \"PYK\", \"author\": \"Kurata\", \"sample_id\": \"gnd\", \"flux\": 0.6398281018831585, \"normalized_flux\": 0.0, \"relative_error\": 100.0, \"symm_relative_error\": 200.0}, {\"BiGG_ID\": \"PYK\", \"author\": \"Long\", \"sample_id\": \"gnd\", \"flux\": 1.1362, \"normalized_flux\": 13.0, \"relative_error\": 0.0, \"symm_relative_error\": 0.0}, {\"BiGG_ID\": \"PYK\", \"author\": \"Millard\", \"sample_id\": \"gnd\", \"flux\": 0.11666984695313565, \"normalized_flux\": 16.73976672158082, \"relative_error\": 28.767436319852468, \"symm_relative_error\": 25.14993985387948}, {\"BiGG_ID\": \"PYK\", \"author\": \"iML1515\", \"sample_id\": \"gnd\", \"flux\": 0.0, \"normalized_flux\": 0.0, \"relative_error\": 100.0, \"symm_relative_error\": 200.0}, {\"BiGG_ID\": \"RPE\", \"author\": \"Chassagnole\", \"sample_id\": \"gnd\", \"flux\": -2.010292646760622e-06, \"normalized_flux\": -0.19437769328500362, \"relative_error\": 95.77439797206513, \"symm_relative_error\": 183.78286353557428}, {\"BiGG_ID\": \"RPE\", \"author\": \"Exp_iML1515\", \"sample_id\": \"gnd\", \"flux\": -0.5176600000000011, \"normalized_flux\": -5.176600000000012, \"relative_error\": 12.534782608695924, \"symm_relative_error\": 11.795511732095243}, {\"BiGG_ID\": \"RPE\", \"author\": \"Khodayari\", \"sample_id\": \"gnd\", \"flux\": -9.28865295998782e-05, \"normalized_flux\": 0.0, \"relative_error\": 100.0, \"symm_relative_error\": 200.0}, {\"BiGG_ID\": \"RPE\", \"author\": \"Kurata\", \"sample_id\": \"gnd\", \"flux\": -1.4512043448799232, \"normalized_flux\": -0.1453618744518431, \"relative_error\": 96.83995925104689, \"symm_relative_error\": 187.74703566997118}, {\"BiGG_ID\": \"RPE\", \"author\": \"Long\", \"sample_id\": \"gnd\", \"flux\": -0.40204, \"normalized_flux\": -4.6, \"relative_error\": 0.0, \"symm_relative_error\": 0.0}, {\"BiGG_ID\": \"RPE\", \"author\": \"Millard\", \"sample_id\": \"gnd\", \"flux\": -0.046990290161202486, \"normalized_flux\": -6.7421576013028535, \"relative_error\": 46.56864350658378, \"symm_relative_error\": 37.77337040453023}, {\"BiGG_ID\": \"RPE\", \"author\": \"iML1515\", \"sample_id\": \"gnd\", \"flux\": -0.6769549141557458, \"normalized_flux\": -6.769549141557458, \"relative_error\": 47.16411177298823, \"symm_relative_error\": 38.16420712106202}, {\"BiGG_ID\": \"RPI\", \"author\": \"Chassagnole\", \"sample_id\": \"gnd\", \"flux\": 2.0110858494589897e-06, \"normalized_flux\": 0.19445438903925844, \"relative_error\": 95.7727306730596, \"symm_relative_error\": 183.7767242517684}, {\"BiGG_ID\": \"RPI\", \"author\": \"Exp_iML1515\", \"sample_id\": \"gnd\", \"flux\": 0.5176600000000011, \"normalized_flux\": 5.176600000000012, \"relative_error\": 12.534782608695924, \"symm_relative_error\": 11.795511732095243}, {\"BiGG_ID\": \"RPI\", \"author\": \"Khodayari\", \"sample_id\": \"gnd\", \"flux\": 9.089315624978295e-05, \"normalized_flux\": 0.0, \"relative_error\": 100.0, \"symm_relative_error\": 200.0}, {\"BiGG_ID\": \"RPI\", \"author\": \"Kurata\", \"sample_id\": \"gnd\", \"flux\": 1.4506521765631468, \"normalized_flux\": 0.1453065657547442, \"relative_error\": 96.8411616140273, \"symm_relative_error\": 187.75155503727646}, {\"BiGG_ID\": \"RPI\", \"author\": \"Long\", \"sample_id\": \"gnd\", \"flux\": 0.40204, \"normalized_flux\": 4.6, \"relative_error\": 0.0, \"symm_relative_error\": 0.0}, {\"BiGG_ID\": \"RPI\", \"author\": \"Millard\", \"sample_id\": \"gnd\", \"flux\": 0.04699180361844152, \"normalized_flux\": 6.742374751850199, \"relative_error\": 46.573364170656504, \"symm_relative_error\": 37.77647624454887}, {\"BiGG_ID\": \"RPI\", \"author\": \"iML1515\", \"sample_id\": \"gnd\", \"flux\": 0.6404670750354944, \"normalized_flux\": 6.404670750354943, \"relative_error\": 39.23197283380312, \"symm_relative_error\": 32.798268867730286}, {\"BiGG_ID\": \"SUCDi\", \"author\": \"Chassagnole\", \"sample_id\": \"gnd\", \"flux\": 0.0, \"normalized_flux\": 0.0, \"relative_error\": 100.0, \"symm_relative_error\": 200.0}, {\"BiGG_ID\": \"SUCDi\", \"author\": \"Exp_iML1515\", \"sample_id\": \"gnd\", \"flux\": 1.4729000000000028, \"normalized_flux\": 14.729000000000026, \"relative_error\": 21.727272727272943, \"symm_relative_error\": 19.598195981959993}, {\"BiGG_ID\": \"SUCDi\", \"author\": \"Khodayari\", \"sample_id\": \"gnd\", \"flux\": 12.538942706691728, \"normalized_flux\": 129.740611075841, \"relative_error\": 972.2364551722399, \"symm_relative_error\": 165.87719156531207}, {\"BiGG_ID\": \"SUCDi\", \"author\": \"Kurata\", \"sample_id\": \"gnd\", \"flux\": 0.08107641892965828, \"normalized_flux\": 0.0, \"relative_error\": 100.0, \"symm_relative_error\": 200.0}, {\"BiGG_ID\": \"SUCDi\", \"author\": \"Long\", \"sample_id\": \"gnd\", \"flux\": 1.05754, \"normalized_flux\": 12.1, \"relative_error\": 0.0, \"symm_relative_error\": 0.0}, {\"BiGG_ID\": \"SUCDi\", \"author\": \"Millard\", \"sample_id\": \"gnd\", \"flux\": 0.3865593482748295, \"normalized_flux\": 55.46345935266566, \"relative_error\": 358.3756971294683, \"symm_relative_error\": 128.36364439635457}, {\"BiGG_ID\": \"SUCDi\", \"author\": \"iML1515\", \"sample_id\": \"gnd\", \"flux\": 6.775130496665184, \"normalized_flux\": 67.75130496665183, \"relative_error\": 459.92814022026306, \"symm_relative_error\": 139.38733998121484}, {\"BiGG_ID\": \"TALA\", \"author\": \"Chassagnole\", \"sample_id\": \"gnd\", \"flux\": 1.1827407198963857e-06, \"normalized_flux\": 0.11436066945683827, \"relative_error\": 109.53005578806984, \"symm_relative_error\": 200.0}, {\"BiGG_ID\": \"TALA\", \"author\": \"Exp_iML1515\", \"sample_id\": \"gnd\", \"flux\": -0.2588300000000048, \"normalized_flux\": -2.5883000000000482, \"relative_error\": 115.6916666666707, \"symm_relative_error\": 73.29408969722728}, {\"BiGG_ID\": \"TALA\", \"author\": \"Khodayari\", \"sample_id\": \"gnd\", \"flux\": -0.00031320232230225287, \"normalized_flux\": 0.0, \"relative_error\": 100.0, \"symm_relative_error\": 200.0}, {\"BiGG_ID\": \"TALA\", \"author\": \"Kurata\", \"sample_id\": \"gnd\", \"flux\": 0.2377820263914632, \"normalized_flux\": 0.0, \"relative_error\": 100.0, \"symm_relative_error\": 200.0}, {\"BiGG_ID\": \"TALA\", \"author\": \"Long\", \"sample_id\": \"gnd\", \"flux\": -0.10488, \"normalized_flux\": -1.2, \"relative_error\": 0.0, \"symm_relative_error\": 0.0}, {\"BiGG_ID\": \"TALA\", \"author\": \"Millard\", \"sample_id\": \"gnd\", \"flux\": -0.011688176995040007, \"normalized_flux\": -1.6770173391597023, \"relative_error\": 39.7514449299752, \"symm_relative_error\": 33.16054670000884}, {\"BiGG_ID\": \"TALA\", \"author\": \"iML1515\", \"sample_id\": \"gnd\", \"flux\": -0.7738918586248588, \"normalized_flux\": -7.738918586248587, \"relative_error\": 544.9098821873822, \"symm_relative_error\": 146.30222936156727}, {\"BiGG_ID\": \"TKT1\", \"author\": \"Chassagnole\", \"sample_id\": \"gnd\", \"flux\": -2.870722625195467e-06, \"normalized_flux\": -0.2775737367620238, \"relative_error\": 123.13114473016866, \"symm_relative_error\": 200.0}, {\"BiGG_ID\": \"TKT1\", \"author\": \"Exp_iML1515\", \"sample_id\": \"gnd\", \"flux\": -0.2588300000000048, \"normalized_flux\": -2.5883000000000482, \"relative_error\": 315.6916666666707, \"symm_relative_error\": 200.0}, {\"BiGG_ID\": \"TKT1\", \"author\": \"Khodayari\", \"sample_id\": \"gnd\", \"flux\": -5.735963282497091e-05, \"normalized_flux\": 0.0, \"relative_error\": 100.0, \"symm_relative_error\": 200.0}, {\"BiGG_ID\": \"TKT1\", \"author\": \"Kurata\", \"sample_id\": \"gnd\", \"flux\": 0.23788115302826254, \"normalized_flux\": 0.0, \"relative_error\": 100.0, \"symm_relative_error\": 200.0}, {\"BiGG_ID\": \"TKT1\", \"author\": \"Long\", \"sample_id\": \"gnd\", \"flux\": 0.10488, \"normalized_flux\": 1.2, \"relative_error\": 0.0, \"symm_relative_error\": 0.0}, {\"BiGG_ID\": \"TKT1\", \"author\": \"Millard\", \"sample_id\": \"gnd\", \"flux\": -0.03529904632573621, \"normalized_flux\": -5.064700232481257, \"relative_error\": 522.0583527067714, \"symm_relative_error\": 200.0}, {\"BiGG_ID\": \"TKT1\", \"author\": \"iML1515\", \"sample_id\": \"gnd\", \"flux\": -0.1718007362134376, \"normalized_flux\": -1.7180073621343763, \"relative_error\": 243.16728017786468, \"symm_relative_error\": 200.00000000000003}, {\"BiGG_ID\": \"TPI\", \"author\": \"Chassagnole\", \"sample_id\": \"gnd\", \"flux\": 2.654675695052917e-07, \"normalized_flux\": 0.0, \"relative_error\": 100.0, \"symm_relative_error\": 200.0}, {\"BiGG_ID\": \"TPI\", \"author\": \"Exp_iML1515\", \"sample_id\": \"gnd\", \"flux\": 6.941219999999998, \"normalized_flux\": 69.41219999999997, \"relative_error\": 11.955161290322533, \"symm_relative_error\": 11.280839982893479}, {\"BiGG_ID\": \"TPI\", \"author\": \"Khodayari\", \"sample_id\": \"gnd\", \"flux\": 5.128585467862504, \"normalized_flux\": 53.0655437320133, \"relative_error\": 14.410413335462414, \"symm_relative_error\": 15.529333939958551}, {\"BiGG_ID\": \"TPI\", \"author\": \"Kurata\", \"sample_id\": \"gnd\", \"flux\": 572.2735991640368, \"normalized_flux\": 57.32257029637697, \"relative_error\": 7.544241457456495, \"symm_relative_error\": 7.839974770917333}, {\"BiGG_ID\": \"TPI\", \"author\": \"Long\", \"sample_id\": \"gnd\", \"flux\": 5.4188, \"normalized_flux\": 62.0, \"relative_error\": 0.0, \"symm_relative_error\": 0.0}, {\"BiGG_ID\": \"TPI\", \"author\": \"Millard\", \"sample_id\": \"gnd\", \"flux\": 0.5557695037709209, \"normalized_flux\": 79.7416992226877, \"relative_error\": 28.615643907560806, \"symm_relative_error\": 25.033845819519986}, {\"BiGG_ID\": \"TPI\", \"author\": \"iML1515\", \"sample_id\": \"gnd\", \"flux\": 8.336807223463005, \"normalized_flux\": 83.36807223463005, \"relative_error\": 34.46463263650008, \"symm_relative_error\": 29.39857687613976}]}}, {\"mode\": \"vega-lite\"});\n",
       "</script>"
      ],
      "text/plain": [
       "alt.Chart(...)"
      ]
     },
     "execution_count": 21,
     "metadata": {},
     "output_type": "execute_result"
    }
   ],
   "source": [
    "heatmap(x_rel_error, sample_id = \"gnd\")"
   ]
  },
  {
   "cell_type": "code",
   "execution_count": 22,
   "metadata": {},
   "outputs": [
    {
     "data": {
      "text/html": [
       "\n",
       "<div id=\"altair-viz-5b0a59d5cc494dfeb3a4ef9b15806313\"></div>\n",
       "<script type=\"text/javascript\">\n",
       "  (function(spec, embedOpt){\n",
       "    const outputDiv = document.getElementById(\"altair-viz-5b0a59d5cc494dfeb3a4ef9b15806313\");\n",
       "    const paths = {\n",
       "      \"vega\": \"https://cdn.jsdelivr.net/npm//vega@5?noext\",\n",
       "      \"vega-lib\": \"https://cdn.jsdelivr.net/npm//vega-lib?noext\",\n",
       "      \"vega-lite\": \"https://cdn.jsdelivr.net/npm//vega-lite@4.0.2?noext\",\n",
       "      \"vega-embed\": \"https://cdn.jsdelivr.net/npm//vega-embed@6?noext\",\n",
       "    };\n",
       "\n",
       "    function loadScript(lib) {\n",
       "      return new Promise(function(resolve, reject) {\n",
       "        var s = document.createElement('script');\n",
       "        s.src = paths[lib];\n",
       "        s.async = true;\n",
       "        s.onload = () => resolve(paths[lib]);\n",
       "        s.onerror = () => reject(`Error loading script: ${paths[lib]}`);\n",
       "        document.getElementsByTagName(\"head\")[0].appendChild(s);\n",
       "      });\n",
       "    }\n",
       "\n",
       "    function showError(err) {\n",
       "      outputDiv.innerHTML = `<div class=\"error\" style=\"color:red;\">${err}</div>`;\n",
       "      throw err;\n",
       "    }\n",
       "\n",
       "    function displayChart(vegaEmbed) {\n",
       "      vegaEmbed(outputDiv, spec, embedOpt)\n",
       "        .catch(err => showError(`Javascript Error: ${err.message}<br>This usually means there's a typo in your chart specification. See the javascript console for the full traceback.`));\n",
       "    }\n",
       "\n",
       "    if(typeof define === \"function\" && define.amd) {\n",
       "      requirejs.config({paths});\n",
       "      require([\"vega-embed\"], displayChart, err => showError(`Error loading script: ${err.message}`));\n",
       "    } else if (typeof vegaEmbed === \"function\") {\n",
       "      displayChart(vegaEmbed);\n",
       "    } else {\n",
       "      loadScript(\"vega\")\n",
       "        .then(() => loadScript(\"vega-lite\"))\n",
       "        .then(() => loadScript(\"vega-embed\"))\n",
       "        .catch(showError)\n",
       "        .then(() => displayChart(vegaEmbed));\n",
       "    }\n",
       "  })({\"config\": {\"view\": {\"continuousWidth\": 400, \"continuousHeight\": 300}, \"mark\": {\"invalid\": null}}, \"data\": {\"name\": \"data-5a443e890c86fc66ad1efb9bf6779899\"}, \"mark\": \"rect\", \"encoding\": {\"color\": {\"type\": \"quantitative\", \"condition\": {\"value\": \"lightgrey\", \"test\": \"datum.relative_error === null\"}, \"field\": \"relative_error\", \"scale\": {\"domain\": [0, 25, 50, 75, 100, 200, 300], \"scheme\": \"greenblue\", \"type\": \"threshold\"}, \"title\": \"relative error (clipped at 300)\"}, \"tooltip\": [{\"type\": \"nominal\", \"field\": \"sample_id\"}, {\"type\": \"nominal\", \"field\": \"BiGG_ID\"}, {\"type\": \"quantitative\", \"field\": \"relative_error\"}, {\"type\": \"quantitative\", \"field\": \"normalized_flux\"}], \"x\": {\"type\": \"nominal\", \"field\": \"sample_id\"}, \"y\": {\"type\": \"nominal\", \"field\": \"BiGG_ID\"}}, \"title\": \"Heatmap for author Khodayari\", \"$schema\": \"https://vega.github.io/schema/vega-lite/v4.0.2.json\", \"datasets\": {\"data-5a443e890c86fc66ad1efb9bf6779899\": [{\"BiGG_ID\": \"AKGDH\", \"author\": \"Khodayari\", \"sample_id\": \"WT\", \"flux\": 60.87813889715514, \"normalized_flux\": 55.4228803478553, \"relative_error\": 592.7860043481912, \"symm_relative_error\": 149.54502251476174}, {\"BiGG_ID\": \"AKGDH\", \"author\": \"Khodayari\", \"sample_id\": \"eda\", \"flux\": 60.77023935194143, \"normalized_flux\": 55.21364468271, \"relative_error\": 493.69510411516126, \"symm_relative_error\": 142.33777957677566}, {\"BiGG_ID\": \"AKGDH\", \"author\": \"Khodayari\", \"sample_id\": \"edd\", \"flux\": 60.941213254120626, \"normalized_flux\": 55.55005579922374, \"relative_error\": 716.9125852827021, \"symm_relative_error\": 156.37533976298602}, {\"BiGG_ID\": \"AKGDH\", \"author\": \"Khodayari\", \"sample_id\": \"fbaA\", \"flux\": 58.835239599815736, \"normalized_flux\": 58.73844938475079, \"relative_error\": null, \"symm_relative_error\": null}, {\"BiGG_ID\": \"AKGDH\", \"author\": \"Khodayari\", \"sample_id\": \"fbaB\", \"flux\": 58.835239599815736, \"normalized_flux\": 58.73844938475079, \"relative_error\": 751.2818751413158, \"symm_relative_error\": 157.9514746940197}, {\"BiGG_ID\": \"AKGDH\", \"author\": \"Khodayari\", \"sample_id\": \"fbp\", \"flux\": 60.98408787432129, \"normalized_flux\": 55.64829628887416, \"relative_error\": 876.2858998048097, \"symm_relative_error\": 162.8351537381896}, {\"BiGG_ID\": \"AKGDH\", \"author\": \"Khodayari\", \"sample_id\": \"glk\", \"flux\": null, \"normalized_flux\": null, \"relative_error\": null, \"symm_relative_error\": null}, {\"BiGG_ID\": \"AKGDH\", \"author\": \"Khodayari\", \"sample_id\": \"gnd\", \"flux\": 6.956403750637432, \"normalized_flux\": 71.9780044147036, \"relative_error\": 494.8595406173852, \"symm_relative_error\": 142.43440916928353}, {\"BiGG_ID\": \"AKGDH\", \"author\": \"Khodayari\", \"sample_id\": \"gpmA\", \"flux\": null, \"normalized_flux\": null, \"relative_error\": null, \"symm_relative_error\": null}, {\"BiGG_ID\": \"AKGDH\", \"author\": \"Khodayari\", \"sample_id\": \"pfkA\", \"flux\": 59.10925529082157, \"normalized_flux\": 64.49129363123727, \"relative_error\": 81.15531918886873, \"symm_relative_error\": 57.729883555467694}, {\"BiGG_ID\": \"AKGDH\", \"author\": \"Khodayari\", \"sample_id\": \"pfkB\", \"flux\": 59.10925529082157, \"normalized_flux\": 64.49129363123727, \"relative_error\": 1031.4262040567942, \"symm_relative_error\": 167.51733894550517}, {\"BiGG_ID\": \"AKGDH\", \"author\": \"Khodayari\", \"sample_id\": \"pgi\", \"flux\": 2.658981975561722, \"normalized_flux\": 40.72752661863796, \"relative_error\": 1936.3763309318979, \"symm_relative_error\": 181.27670700107794}, {\"BiGG_ID\": \"AKGDH\", \"author\": \"Khodayari\", \"sample_id\": \"pgl\", \"flux\": 58.66854335881075, \"normalized_flux\": 58.63143928709738, \"relative_error\": 597.9933248463974, \"symm_relative_error\": 149.87426742235039}, {\"BiGG_ID\": \"AKGDH\", \"author\": \"Khodayari\", \"sample_id\": \"pgm\", \"flux\": null, \"normalized_flux\": null, \"relative_error\": null, \"symm_relative_error\": null}, {\"BiGG_ID\": \"AKGDH\", \"author\": \"Khodayari\", \"sample_id\": \"ppc\", \"flux\": null, \"normalized_flux\": null, \"relative_error\": null, \"symm_relative_error\": null}, {\"BiGG_ID\": \"AKGDH\", \"author\": \"Khodayari\", \"sample_id\": \"ppsA\", \"flux\": 58.579211463277844, \"normalized_flux\": 62.778401853616145, \"relative_error\": null, \"symm_relative_error\": null}, {\"BiGG_ID\": \"AKGDH\", \"author\": \"Khodayari\", \"sample_id\": \"pts\", \"flux\": null, \"normalized_flux\": null, \"relative_error\": null, \"symm_relative_error\": null}, {\"BiGG_ID\": \"AKGDH\", \"author\": \"Khodayari\", \"sample_id\": \"pykA\", \"flux\": 58.43334447165465, \"normalized_flux\": 55.43327568119179, \"relative_error\": null, \"symm_relative_error\": null}, {\"BiGG_ID\": \"AKGDH\", \"author\": \"Khodayari\", \"sample_id\": \"pykF\", \"flux\": 57.723745974387555, \"normalized_flux\": 51.829905385066986, \"relative_error\": null, \"symm_relative_error\": null}, {\"BiGG_ID\": \"AKGDH\", \"author\": \"Khodayari\", \"sample_id\": \"rpe\", \"flux\": 58.92178036721966, \"normalized_flux\": 58.923380028487216, \"relative_error\": 221.98568321577716, \"symm_relative_error\": 105.21005429573663}, {\"BiGG_ID\": \"AKGDH\", \"author\": \"Khodayari\", \"sample_id\": \"rpiA\", \"flux\": 6.607675224105241, \"normalized_flux\": 69.81491236124153, \"relative_error\": null, \"symm_relative_error\": null}, {\"BiGG_ID\": \"AKGDH\", \"author\": \"Khodayari\", \"sample_id\": \"rpiB\", \"flux\": 6.607675224105241, \"normalized_flux\": 69.81491236124153, \"relative_error\": 3390.745618062076, \"symm_relative_error\": 188.86025236686413}, {\"BiGG_ID\": \"AKGDH\", \"author\": \"Khodayari\", \"sample_id\": \"sdhCD\", \"flux\": null, \"normalized_flux\": null, \"relative_error\": null, \"symm_relative_error\": null}, {\"BiGG_ID\": \"AKGDH\", \"author\": \"Khodayari\", \"sample_id\": \"sucA\", \"flux\": 8.890816403573756e-16, \"normalized_flux\": 0.0, \"relative_error\": null, \"symm_relative_error\": null}, {\"BiGG_ID\": \"AKGDH\", \"author\": \"Khodayari\", \"sample_id\": \"sucAB\", \"flux\": null, \"normalized_flux\": null, \"relative_error\": null, \"symm_relative_error\": null}, {\"BiGG_ID\": \"AKGDH\", \"author\": \"Khodayari\", \"sample_id\": \"talA\", \"flux\": 58.69769227641716, \"normalized_flux\": 58.69958837568087, \"relative_error\": 803.0705903950902, \"symm_relative_error\": 160.12244762928924}, {\"BiGG_ID\": \"AKGDH\", \"author\": \"Khodayari\", \"sample_id\": \"talAB\", \"flux\": null, \"normalized_flux\": null, \"relative_error\": null, \"symm_relative_error\": null}, {\"BiGG_ID\": \"AKGDH\", \"author\": \"Khodayari\", \"sample_id\": \"talB\", \"flux\": null, \"normalized_flux\": null, \"relative_error\": null, \"symm_relative_error\": null}, {\"BiGG_ID\": \"AKGDH\", \"author\": \"Khodayari\", \"sample_id\": \"tkt1\", \"flux\": null, \"normalized_flux\": null, \"relative_error\": null, \"symm_relative_error\": null}, {\"BiGG_ID\": \"AKGDH\", \"author\": \"Khodayari\", \"sample_id\": \"tkt2\", \"flux\": null, \"normalized_flux\": null, \"relative_error\": null, \"symm_relative_error\": null}, {\"BiGG_ID\": \"AKGDH\", \"author\": \"Khodayari\", \"sample_id\": \"tktA\", \"flux\": 58.83492184241213, \"normalized_flux\": 58.821478796679195, \"relative_error\": 352.47291382060916, \"symm_relative_error\": 127.59826047691413}, {\"BiGG_ID\": \"AKGDH\", \"author\": \"Khodayari\", \"sample_id\": \"tktB\", \"flux\": 58.83492184241213, \"normalized_flux\": 58.821478796679195, \"relative_error\": 705.7736821462904, \"symm_relative_error\": 155.83885821763184}, {\"BiGG_ID\": \"AKGDH\", \"author\": \"Khodayari\", \"sample_id\": \"tpi\", \"flux\": 2.0726445407306047, \"normalized_flux\": 94.4624934538328, \"relative_error\": null, \"symm_relative_error\": null}, {\"BiGG_ID\": \"AKGDH\", \"author\": \"Khodayari\", \"sample_id\": \"tpiA\", \"flux\": null, \"normalized_flux\": null, \"relative_error\": null, \"symm_relative_error\": null}, {\"BiGG_ID\": \"AKGDH\", \"author\": \"Khodayari\", \"sample_id\": \"zwf\", \"flux\": 3.451824591089347, \"normalized_flux\": 77.87700160987316, \"relative_error\": 737.3871140846577, \"symm_relative_error\": 157.3281951512004}, {\"BiGG_ID\": \"CS\", \"author\": \"Khodayari\", \"sample_id\": \"WT\", \"flux\": 97.88618162147851, \"normalized_flux\": 89.11465149880189, \"relative_error\": 418.10843894652265, \"symm_relative_error\": 135.28643603673444}, {\"BiGG_ID\": \"CS\", \"author\": \"Khodayari\", \"sample_id\": \"eda\", \"flux\": 97.77735484244357, \"normalized_flux\": 88.83697325956743, \"relative_error\": 385.4479413091116, \"symm_relative_error\": 131.67624791615702}, {\"BiGG_ID\": \"CS\", \"author\": \"Khodayari\", \"sample_id\": \"edd\", \"flux\": 97.94902541459894, \"normalized_flux\": 89.28397609302024, \"relative_error\": 468.68774581541555, \"symm_relative_error\": 140.1813473473737}, {\"BiGG_ID\": \"CS\", \"author\": \"Khodayari\", \"sample_id\": \"fbaA\", \"flux\": 94.20157902333877, \"normalized_flux\": 94.04660742544702, \"relative_error\": null, \"symm_relative_error\": null}, {\"BiGG_ID\": \"CS\", \"author\": \"Khodayari\", \"sample_id\": \"fbaB\", \"flux\": 94.20157902333877, \"normalized_flux\": 94.04660742544702, \"relative_error\": 499.0229772321467, \"symm_relative_error\": 142.77727442038582}, {\"BiGG_ID\": \"CS\", \"author\": \"Khodayari\", \"sample_id\": \"fbp\", \"flux\": 97.98574134831634, \"normalized_flux\": 89.412496877437, \"relative_error\": 508.2482780778027, \"symm_relative_error\": 143.52263007463898}, {\"BiGG_ID\": \"CS\", \"author\": \"Khodayari\", \"sample_id\": \"glk\", \"flux\": null, \"normalized_flux\": null, \"relative_error\": null, \"symm_relative_error\": null}, {\"BiGG_ID\": \"CS\", \"author\": \"Khodayari\", \"sample_id\": \"gnd\", \"flux\": 9.27517219598542, \"normalized_flux\": 95.97033312055817, \"relative_error\": 377.464343883374, \"symm_relative_error\": 130.73165395632032}, {\"BiGG_ID\": \"CS\", \"author\": \"Khodayari\", \"sample_id\": \"gpmA\", \"flux\": null, \"normalized_flux\": null, \"relative_error\": null, \"symm_relative_error\": null}, {\"BiGG_ID\": \"CS\", \"author\": \"Khodayari\", \"sample_id\": \"pfkA\", \"flux\": 87.32627151642266, \"normalized_flux\": 95.27753632452315, \"relative_error\": 116.53985528300717, \"symm_relative_error\": 73.63360621923135}, {\"BiGG_ID\": \"CS\", \"author\": \"Khodayari\", \"sample_id\": \"pfkB\", \"flux\": 87.32627151642266, \"normalized_flux\": 95.27753632452315, \"relative_error\": 543.7671373278591, \"symm_relative_error\": 146.21972658847437}, {\"BiGG_ID\": \"CS\", \"author\": \"Khodayari\", \"sample_id\": \"pgi\", \"flux\": 3.96852460186102, \"normalized_flux\": 60.78574162762786, \"relative_error\": 48.620395177574224, \"symm_relative_error\": 39.11215340386509}, {\"BiGG_ID\": \"CS\", \"author\": \"Khodayari\", \"sample_id\": \"pgl\", \"flux\": 93.36341571952187, \"normalized_flux\": 93.30436937758228, \"relative_error\": 479.53024458125634, \"symm_relative_error\": 141.13580621470498}, {\"BiGG_ID\": \"CS\", \"author\": \"Khodayari\", \"sample_id\": \"pgm\", \"flux\": null, \"normalized_flux\": null, \"relative_error\": null, \"symm_relative_error\": null}, {\"BiGG_ID\": \"CS\", \"author\": \"Khodayari\", \"sample_id\": \"ppc\", \"flux\": null, \"normalized_flux\": null, \"relative_error\": null, \"symm_relative_error\": null}, {\"BiGG_ID\": \"CS\", \"author\": \"Khodayari\", \"sample_id\": \"ppsA\", \"flux\": 90.98670108628357, \"normalized_flux\": 97.50898896463131, \"relative_error\": null, \"symm_relative_error\": null}, {\"BiGG_ID\": \"CS\", \"author\": \"Khodayari\", \"sample_id\": \"pts\", \"flux\": null, \"normalized_flux\": null, \"relative_error\": null, \"symm_relative_error\": null}, {\"BiGG_ID\": \"CS\", \"author\": \"Khodayari\", \"sample_id\": \"pykA\", \"flux\": 96.046336781369, \"normalized_flux\": 91.11515202681768, \"relative_error\": null, \"symm_relative_error\": null}, {\"BiGG_ID\": \"CS\", \"author\": \"Khodayari\", \"sample_id\": \"pykF\", \"flux\": 97.1752980930192, \"normalized_flux\": 87.25328581692592, \"relative_error\": null, \"symm_relative_error\": null}, {\"BiGG_ID\": \"CS\", \"author\": \"Khodayari\", \"sample_id\": \"rpe\", \"flux\": 94.20565543649846, \"normalized_flux\": 94.2082130160089, \"relative_error\": 171.49340926803717, \"symm_relative_error\": 92.32648816351005}, {\"BiGG_ID\": \"CS\", \"author\": \"Khodayari\", \"sample_id\": \"rpiA\", \"flux\": 8.576549276073308, \"normalized_flux\": 90.61750400300708, \"relative_error\": null, \"symm_relative_error\": null}, {\"BiGG_ID\": \"CS\", \"author\": \"Khodayari\", \"sample_id\": \"rpiB\", \"flux\": 8.576549276073308, \"normalized_flux\": 90.61750400300708, \"relative_error\": 771.322153875068, \"symm_relative_error\": 158.81901813891415}, {\"BiGG_ID\": \"CS\", \"author\": \"Khodayari\", \"sample_id\": \"sdhCD\", \"flux\": null, \"normalized_flux\": null, \"relative_error\": null, \"symm_relative_error\": null}, {\"BiGG_ID\": \"CS\", \"author\": \"Khodayari\", \"sample_id\": \"sucA\", \"flux\": 16.679288454456298, \"normalized_flux\": 36.65386358396946, \"relative_error\": null, \"symm_relative_error\": null}, {\"BiGG_ID\": \"CS\", \"author\": \"Khodayari\", \"sample_id\": \"sucAB\", \"flux\": null, \"normalized_flux\": null, \"relative_error\": null, \"symm_relative_error\": null}, {\"BiGG_ID\": \"CS\", \"author\": \"Khodayari\", \"sample_id\": \"talA\", \"flux\": 94.18323513660467, \"normalized_flux\": 94.18627751792958, \"relative_error\": 492.36652526999734, \"symm_relative_error\": 142.2271318151878}, {\"BiGG_ID\": \"CS\", \"author\": \"Khodayari\", \"sample_id\": \"talAB\", \"flux\": null, \"normalized_flux\": null, \"relative_error\": null, \"symm_relative_error\": null}, {\"BiGG_ID\": \"CS\", \"author\": \"Khodayari\", \"sample_id\": \"talB\", \"flux\": null, \"normalized_flux\": null, \"relative_error\": null, \"symm_relative_error\": null}, {\"BiGG_ID\": \"CS\", \"author\": \"Khodayari\", \"sample_id\": \"tkt1\", \"flux\": null, \"normalized_flux\": null, \"relative_error\": null, \"symm_relative_error\": null}, {\"BiGG_ID\": \"CS\", \"author\": \"Khodayari\", \"sample_id\": \"tkt2\", \"flux\": null, \"normalized_flux\": null, \"relative_error\": null, \"symm_relative_error\": null}, {\"BiGG_ID\": \"CS\", \"author\": \"Khodayari\", \"sample_id\": \"tktA\", \"flux\": 94.34723892321907, \"normalized_flux\": 94.32568175601455, \"relative_error\": 313.70913050883576, \"symm_relative_error\": 122.13492495183127}, {\"BiGG_ID\": \"CS\", \"author\": \"Khodayari\", \"sample_id\": \"tktB\", \"flux\": 94.34723892321907, \"normalized_flux\": 94.32568175601455, \"relative_error\": 500.8005207389462, \"symm_relative_error\": 142.92241684149616}, {\"BiGG_ID\": \"CS\", \"author\": \"Khodayari\", \"sample_id\": \"tpi\", \"flux\": 2.526680935626672, \"normalized_flux\": 115.15557861041886, \"relative_error\": null, \"symm_relative_error\": null}, {\"BiGG_ID\": \"CS\", \"author\": \"Khodayari\", \"sample_id\": \"tpiA\", \"flux\": null, \"normalized_flux\": null, \"relative_error\": null, \"symm_relative_error\": null}, {\"BiGG_ID\": \"CS\", \"author\": \"Khodayari\", \"sample_id\": \"zwf\", \"flux\": 4.2422773959470845, \"normalized_flux\": 95.710495963944, \"relative_error\": 417.35403223753514, \"symm_relative_error\": 135.20735605301843}, {\"BiGG_ID\": \"EDA\", \"author\": \"Khodayari\", \"sample_id\": \"WT\", \"flux\": 1.1168483799747428e-09, \"normalized_flux\": 0.0, \"relative_error\": 100.0, \"symm_relative_error\": 200.0}, {\"BiGG_ID\": \"EDA\", \"author\": \"Khodayari\", \"sample_id\": \"eda\", \"flux\": 0.0, \"normalized_flux\": 0.0, \"relative_error\": 100.0, \"symm_relative_error\": 200.0}, {\"BiGG_ID\": \"EDA\", \"author\": \"Khodayari\", \"sample_id\": \"edd\", \"flux\": 1.1168481450118755e-09, \"normalized_flux\": 0.0, \"relative_error\": 100.0, \"symm_relative_error\": 200.0}, {\"BiGG_ID\": \"EDA\", \"author\": \"Khodayari\", \"sample_id\": \"fbaA\", \"flux\": 1.1168594939836485e-09, \"normalized_flux\": 0.0, \"relative_error\": null, \"symm_relative_error\": null}, {\"BiGG_ID\": \"EDA\", \"author\": \"Khodayari\", \"sample_id\": \"fbaB\", \"flux\": 1.1168594939836485e-09, \"normalized_flux\": 0.0, \"relative_error\": 100.0, \"symm_relative_error\": 200.0}, {\"BiGG_ID\": \"EDA\", \"author\": \"Khodayari\", \"sample_id\": \"fbp\", \"flux\": 1.1168481030387825e-09, \"normalized_flux\": 0.0, \"relative_error\": 100.0, \"symm_relative_error\": 200.0}, {\"BiGG_ID\": \"EDA\", \"author\": \"Khodayari\", \"sample_id\": \"glk\", \"flux\": null, \"normalized_flux\": null, \"relative_error\": null, \"symm_relative_error\": null}, {\"BiGG_ID\": \"EDA\", \"author\": \"Khodayari\", \"sample_id\": \"gnd\", \"flux\": 1.1168169872046094e-09, \"normalized_flux\": 0.0, \"relative_error\": 100.0, \"symm_relative_error\": 200.0}, {\"BiGG_ID\": \"EDA\", \"author\": \"Khodayari\", \"sample_id\": \"gpmA\", \"flux\": null, \"normalized_flux\": null, \"relative_error\": null, \"symm_relative_error\": null}, {\"BiGG_ID\": \"EDA\", \"author\": \"Khodayari\", \"sample_id\": \"pfkA\", \"flux\": 1.116854698433524e-09, \"normalized_flux\": 0.0, \"relative_error\": 100.0, \"symm_relative_error\": 200.0}, {\"BiGG_ID\": \"EDA\", \"author\": \"Khodayari\", \"sample_id\": \"pfkB\", \"flux\": 1.116854698433524e-09, \"normalized_flux\": 0.0, \"relative_error\": 100.0, \"symm_relative_error\": 200.0}, {\"BiGG_ID\": \"EDA\", \"author\": \"Khodayari\", \"sample_id\": \"pgi\", \"flux\": 1.1168619186885e-09, \"normalized_flux\": 0.0, \"relative_error\": 100.0, \"symm_relative_error\": 200.0}, {\"BiGG_ID\": \"EDA\", \"author\": \"Khodayari\", \"sample_id\": \"pgl\", \"flux\": 1.1168594937399751e-09, \"normalized_flux\": 0.0, \"relative_error\": 100.0, \"symm_relative_error\": 200.0}, {\"BiGG_ID\": \"EDA\", \"author\": \"Khodayari\", \"sample_id\": \"pgm\", \"flux\": null, \"normalized_flux\": null, \"relative_error\": null, \"symm_relative_error\": null}, {\"BiGG_ID\": \"EDA\", \"author\": \"Khodayari\", \"sample_id\": \"ppc\", \"flux\": null, \"normalized_flux\": null, \"relative_error\": null, \"symm_relative_error\": null}, {\"BiGG_ID\": \"EDA\", \"author\": \"Khodayari\", \"sample_id\": \"ppsA\", \"flux\": 1.1168594935218766e-09, \"normalized_flux\": 0.0, \"relative_error\": null, \"symm_relative_error\": null}, {\"BiGG_ID\": \"EDA\", \"author\": \"Khodayari\", \"sample_id\": \"pts\", \"flux\": null, \"normalized_flux\": null, \"relative_error\": null, \"symm_relative_error\": null}, {\"BiGG_ID\": \"EDA\", \"author\": \"Khodayari\", \"sample_id\": \"pykA\", \"flux\": 1.1168594936208053e-09, \"normalized_flux\": 0.0, \"relative_error\": null, \"symm_relative_error\": null}, {\"BiGG_ID\": \"EDA\", \"author\": \"Khodayari\", \"sample_id\": \"pykF\", \"flux\": 1.1168594881679728e-09, \"normalized_flux\": 0.0, \"relative_error\": null, \"symm_relative_error\": null}, {\"BiGG_ID\": \"EDA\", \"author\": \"Khodayari\", \"sample_id\": \"rpe\", \"flux\": 1.1168594906631673e-09, \"normalized_flux\": 0.0, \"relative_error\": 100.0, \"symm_relative_error\": 200.0}, {\"BiGG_ID\": \"EDA\", \"author\": \"Khodayari\", \"sample_id\": \"rpiA\", \"flux\": 1.1168596601727328e-09, \"normalized_flux\": 0.0, \"relative_error\": null, \"symm_relative_error\": null}, {\"BiGG_ID\": \"EDA\", \"author\": \"Khodayari\", \"sample_id\": \"rpiB\", \"flux\": 1.1168596601727328e-09, \"normalized_flux\": 0.0, \"relative_error\": 100.0, \"symm_relative_error\": 200.0}, {\"BiGG_ID\": \"EDA\", \"author\": \"Khodayari\", \"sample_id\": \"sdhCD\", \"flux\": null, \"normalized_flux\": null, \"relative_error\": null, \"symm_relative_error\": null}, {\"BiGG_ID\": \"EDA\", \"author\": \"Khodayari\", \"sample_id\": \"sucA\", \"flux\": 1.1168526035264642e-09, \"normalized_flux\": 0.0, \"relative_error\": null, \"symm_relative_error\": null}, {\"BiGG_ID\": \"EDA\", \"author\": \"Khodayari\", \"sample_id\": \"sucAB\", \"flux\": null, \"normalized_flux\": null, \"relative_error\": null, \"symm_relative_error\": null}, {\"BiGG_ID\": \"EDA\", \"author\": \"Khodayari\", \"sample_id\": \"talA\", \"flux\": 1.1168594937339003e-09, \"normalized_flux\": 0.0, \"relative_error\": 100.0, \"symm_relative_error\": 200.0}, {\"BiGG_ID\": \"EDA\", \"author\": \"Khodayari\", \"sample_id\": \"talAB\", \"flux\": null, \"normalized_flux\": null, \"relative_error\": null, \"symm_relative_error\": null}, {\"BiGG_ID\": \"EDA\", \"author\": \"Khodayari\", \"sample_id\": \"talB\", \"flux\": null, \"normalized_flux\": null, \"relative_error\": null, \"symm_relative_error\": null}, {\"BiGG_ID\": \"EDA\", \"author\": \"Khodayari\", \"sample_id\": \"tkt1\", \"flux\": null, \"normalized_flux\": null, \"relative_error\": null, \"symm_relative_error\": null}, {\"BiGG_ID\": \"EDA\", \"author\": \"Khodayari\", \"sample_id\": \"tkt2\", \"flux\": null, \"normalized_flux\": null, \"relative_error\": null, \"symm_relative_error\": null}, {\"BiGG_ID\": \"EDA\", \"author\": \"Khodayari\", \"sample_id\": \"tktA\", \"flux\": 1.1168594943702082e-09, \"normalized_flux\": 0.0, \"relative_error\": 100.0, \"symm_relative_error\": 200.0}, {\"BiGG_ID\": \"EDA\", \"author\": \"Khodayari\", \"sample_id\": \"tktB\", \"flux\": 1.1168594943702082e-09, \"normalized_flux\": 0.0, \"relative_error\": 100.0, \"symm_relative_error\": 200.0}, {\"BiGG_ID\": \"EDA\", \"author\": \"Khodayari\", \"sample_id\": \"tpi\", \"flux\": 1.116862138111285e-09, \"normalized_flux\": 0.0, \"relative_error\": null, \"symm_relative_error\": null}, {\"BiGG_ID\": \"EDA\", \"author\": \"Khodayari\", \"sample_id\": \"tpiA\", \"flux\": null, \"normalized_flux\": null, \"relative_error\": null, \"symm_relative_error\": null}, {\"BiGG_ID\": \"EDA\", \"author\": \"Khodayari\", \"sample_id\": \"zwf\", \"flux\": 1.116833852686963e-09, \"normalized_flux\": 0.0, \"relative_error\": 100.0, \"symm_relative_error\": 200.0}, {\"BiGG_ID\": \"EDD\", \"author\": \"Khodayari\", \"sample_id\": \"WT\", \"flux\": 2.5333074731332166e-09, \"normalized_flux\": 0.0, \"relative_error\": 100.0, \"symm_relative_error\": 200.0}, {\"BiGG_ID\": \"EDD\", \"author\": \"Khodayari\", \"sample_id\": \"eda\", \"flux\": 2.5063596294841596e-09, \"normalized_flux\": 0.0, \"relative_error\": 100.0, \"symm_relative_error\": 200.0}, {\"BiGG_ID\": \"EDD\", \"author\": \"Khodayari\", \"sample_id\": \"edd\", \"flux\": 0.0, \"normalized_flux\": 0.0, \"relative_error\": 100.0, \"symm_relative_error\": 200.0}, {\"BiGG_ID\": \"EDD\", \"author\": \"Khodayari\", \"sample_id\": \"fbaA\", \"flux\": 9.668004781396057e-10, \"normalized_flux\": 0.0, \"relative_error\": null, \"symm_relative_error\": null}, {\"BiGG_ID\": \"EDD\", \"author\": \"Khodayari\", \"sample_id\": \"fbaB\", \"flux\": 9.668004781396057e-10, \"normalized_flux\": 0.0, \"relative_error\": 100.0, \"symm_relative_error\": 200.0}, {\"BiGG_ID\": \"EDD\", \"author\": \"Khodayari\", \"sample_id\": \"fbp\", \"flux\": 2.6119601782903787e-09, \"normalized_flux\": 0.0, \"relative_error\": 100.0, \"symm_relative_error\": 200.0}, {\"BiGG_ID\": \"EDD\", \"author\": \"Khodayari\", \"sample_id\": \"glk\", \"flux\": null, \"normalized_flux\": null, \"relative_error\": null, \"symm_relative_error\": null}, {\"BiGG_ID\": \"EDD\", \"author\": \"Khodayari\", \"sample_id\": \"gnd\", \"flux\": 2.8300501083762476e-08, \"normalized_flux\": 0.0, \"relative_error\": 100.0, \"symm_relative_error\": 200.0}, {\"BiGG_ID\": \"EDD\", \"author\": \"Khodayari\", \"sample_id\": \"gpmA\", \"flux\": null, \"normalized_flux\": null, \"relative_error\": null, \"symm_relative_error\": null}, {\"BiGG_ID\": \"EDD\", \"author\": \"Khodayari\", \"sample_id\": \"pfkA\", \"flux\": 4.597710876795784e-09, \"normalized_flux\": 0.0, \"relative_error\": 100.0, \"symm_relative_error\": 200.0}, {\"BiGG_ID\": \"EDD\", \"author\": \"Khodayari\", \"sample_id\": \"pfkB\", \"flux\": 4.597710876795784e-09, \"normalized_flux\": 0.0, \"relative_error\": 100.0, \"symm_relative_error\": 200.0}, {\"BiGG_ID\": \"EDD\", \"author\": \"Khodayari\", \"sample_id\": \"pgi\", \"flux\": -8.613820804012413e-12, \"normalized_flux\": 0.0, \"relative_error\": 100.0, \"symm_relative_error\": 200.0}, {\"BiGG_ID\": \"EDD\", \"author\": \"Khodayari\", \"sample_id\": \"pgl\", \"flux\": 9.793956889280812e-10, \"normalized_flux\": 0.0, \"relative_error\": 100.0, \"symm_relative_error\": 200.0}, {\"BiGG_ID\": \"EDD\", \"author\": \"Khodayari\", \"sample_id\": \"pgm\", \"flux\": null, \"normalized_flux\": null, \"relative_error\": null, \"symm_relative_error\": null}, {\"BiGG_ID\": \"EDD\", \"author\": \"Khodayari\", \"sample_id\": \"ppc\", \"flux\": null, \"normalized_flux\": null, \"relative_error\": null, \"symm_relative_error\": null}, {\"BiGG_ID\": \"EDD\", \"author\": \"Khodayari\", \"sample_id\": \"ppsA\", \"flux\": 9.559160477140135e-10, \"normalized_flux\": 0.0, \"relative_error\": null, \"symm_relative_error\": null}, {\"BiGG_ID\": \"EDD\", \"author\": \"Khodayari\", \"sample_id\": \"pts\", \"flux\": null, \"normalized_flux\": null, \"relative_error\": null, \"symm_relative_error\": null}, {\"BiGG_ID\": \"EDD\", \"author\": \"Khodayari\", \"sample_id\": \"pykA\", \"flux\": 9.696032632441555e-10, \"normalized_flux\": 0.0, \"relative_error\": null, \"symm_relative_error\": null}, {\"BiGG_ID\": \"EDD\", \"author\": \"Khodayari\", \"sample_id\": \"pykF\", \"flux\": 1.019589033006273e-09, \"normalized_flux\": 0.0, \"relative_error\": null, \"symm_relative_error\": null}, {\"BiGG_ID\": \"EDD\", \"author\": \"Khodayari\", \"sample_id\": \"rpe\", \"flux\": 1.0770980827290792e-09, \"normalized_flux\": 0.0, \"relative_error\": 100.0, \"symm_relative_error\": 200.0}, {\"BiGG_ID\": \"EDD\", \"author\": \"Khodayari\", \"sample_id\": \"rpiA\", \"flux\": 4.598420807244076e-11, \"normalized_flux\": 0.0, \"relative_error\": null, \"symm_relative_error\": null}, {\"BiGG_ID\": \"EDD\", \"author\": \"Khodayari\", \"sample_id\": \"rpiB\", \"flux\": 4.598420807244076e-11, \"normalized_flux\": 0.0, \"relative_error\": 100.0, \"symm_relative_error\": 200.0}, {\"BiGG_ID\": \"EDD\", \"author\": \"Khodayari\", \"sample_id\": \"sdhCD\", \"flux\": null, \"normalized_flux\": null, \"relative_error\": null, \"symm_relative_error\": null}, {\"BiGG_ID\": \"EDD\", \"author\": \"Khodayari\", \"sample_id\": \"sucA\", \"flux\": 1.1642991354910502e-09, \"normalized_flux\": 0.0, \"relative_error\": null, \"symm_relative_error\": null}, {\"BiGG_ID\": \"EDD\", \"author\": \"Khodayari\", \"sample_id\": \"sucAB\", \"flux\": null, \"normalized_flux\": null, \"relative_error\": null, \"symm_relative_error\": null}, {\"BiGG_ID\": \"EDD\", \"author\": \"Khodayari\", \"sample_id\": \"talA\", \"flux\": 9.676282114245924e-10, \"normalized_flux\": 0.0, \"relative_error\": 100.0, \"symm_relative_error\": 200.0}, {\"BiGG_ID\": \"EDD\", \"author\": \"Khodayari\", \"sample_id\": \"talAB\", \"flux\": null, \"normalized_flux\": null, \"relative_error\": null, \"symm_relative_error\": null}, {\"BiGG_ID\": \"EDD\", \"author\": \"Khodayari\", \"sample_id\": \"talB\", \"flux\": null, \"normalized_flux\": null, \"relative_error\": null, \"symm_relative_error\": null}, {\"BiGG_ID\": \"EDD\", \"author\": \"Khodayari\", \"sample_id\": \"tkt1\", \"flux\": null, \"normalized_flux\": null, \"relative_error\": null, \"symm_relative_error\": null}, {\"BiGG_ID\": \"EDD\", \"author\": \"Khodayari\", \"sample_id\": \"tkt2\", \"flux\": null, \"normalized_flux\": null, \"relative_error\": null, \"symm_relative_error\": null}, {\"BiGG_ID\": \"EDD\", \"author\": \"Khodayari\", \"sample_id\": \"tktA\", \"flux\": 9.682975028766681e-10, \"normalized_flux\": 0.0, \"relative_error\": 100.0, \"symm_relative_error\": 200.0}, {\"BiGG_ID\": \"EDD\", \"author\": \"Khodayari\", \"sample_id\": \"tktB\", \"flux\": 9.682975028766681e-10, \"normalized_flux\": 0.0, \"relative_error\": 100.0, \"symm_relative_error\": 200.0}, {\"BiGG_ID\": \"EDD\", \"author\": \"Khodayari\", \"sample_id\": \"tpi\", \"flux\": -1.0169516008018311e-10, \"normalized_flux\": 0.0, \"relative_error\": null, \"symm_relative_error\": null}, {\"BiGG_ID\": \"EDD\", \"author\": \"Khodayari\", \"sample_id\": \"tpiA\", \"flux\": null, \"normalized_flux\": null, \"relative_error\": null, \"symm_relative_error\": null}, {\"BiGG_ID\": \"EDD\", \"author\": \"Khodayari\", \"sample_id\": \"zwf\", \"flux\": -1.1565891068233202e-10, \"normalized_flux\": 0.0, \"relative_error\": 100.0, \"symm_relative_error\": 200.0}, {\"BiGG_ID\": \"FBA\", \"author\": \"Khodayari\", \"sample_id\": \"WT\", \"flux\": 88.02848589104322, \"normalized_flux\": 80.14029878581168, \"relative_error\": 0.9390620694540488, \"symm_relative_error\": 0.9434920574740742}, {\"BiGG_ID\": \"FBA\", \"author\": \"Khodayari\", \"sample_id\": \"eda\", \"flux\": 88.39896577069403, \"normalized_flux\": 80.31610766111316, \"relative_error\": 1.5733974741260166, \"symm_relative_error\": 1.5858735210878314}, {\"BiGG_ID\": \"FBA\", \"author\": \"Khodayari\", \"sample_id\": \"edd\", \"flux\": 87.805652169371, \"normalized_flux\": 80.03793520087137, \"relative_error\": 0.3263571595624201, \"symm_relative_error\": 0.3268905749600786}, {\"BiGG_ID\": \"FBA\", \"author\": \"Khodayari\", \"sample_id\": \"fbaA\", \"flux\": 80.64063131346362, \"normalized_flux\": 80.50796891417889, \"relative_error\": null, \"symm_relative_error\": null}, {\"BiGG_ID\": \"FBA\", \"author\": \"Khodayari\", \"sample_id\": \"fbaB\", \"flux\": 80.64063131346362, \"normalized_flux\": 80.50796891417889, \"relative_error\": 1.3382733894866488, \"symm_relative_error\": 1.3472885918387323}, {\"BiGG_ID\": \"FBA\", \"author\": \"Khodayari\", \"sample_id\": \"fbp\", \"flux\": 87.65367085415365, \"normalized_flux\": 79.98442899649062, \"relative_error\": 1.009370053848238, \"symm_relative_error\": 1.014490033145159}, {\"BiGG_ID\": \"FBA\", \"author\": \"Khodayari\", \"sample_id\": \"glk\", \"flux\": null, \"normalized_flux\": null, \"relative_error\": null, \"symm_relative_error\": null}, {\"BiGG_ID\": \"FBA\", \"author\": \"Khodayari\", \"sample_id\": \"gnd\", \"flux\": 5.122295380848508, \"normalized_flux\": 53.00046011595367, \"relative_error\": 14.515386909752143, \"symm_relative_error\": 15.651311090359453}, {\"BiGG_ID\": \"FBA\", \"author\": \"Khodayari\", \"sample_id\": \"gpmA\", \"flux\": null, \"normalized_flux\": null, \"relative_error\": null, \"symm_relative_error\": null}, {\"BiGG_ID\": \"FBA\", \"author\": \"Khodayari\", \"sample_id\": \"pfkA\", \"flux\": 74.23450396657525, \"normalized_flux\": 80.99373218835066, \"relative_error\": 36.58302224005172, \"symm_relative_error\": 30.92616020682357}, {\"BiGG_ID\": \"FBA\", \"author\": \"Khodayari\", \"sample_id\": \"pfkB\", \"flux\": 74.23450396657525, \"normalized_flux\": 80.99373218835066, \"relative_error\": 4.373366222101377, \"symm_relative_error\": 4.279780974345406}, {\"BiGG_ID\": \"FBA\", \"author\": \"Khodayari\", \"sample_id\": \"pgi\", \"flux\": 3.011306625702174, \"normalized_flux\": 46.124069994591544, \"relative_error\": 8.483988105969157, \"symm_relative_error\": 8.859821194129184}, {\"BiGG_ID\": \"FBA\", \"author\": \"Khodayari\", \"sample_id\": \"pgl\", \"flux\": 85.05555793612915, \"normalized_flux\": 85.00176577868659, \"relative_error\": 0.6988717538707998, \"symm_relative_error\": 0.7013224260403788}, {\"BiGG_ID\": \"FBA\", \"author\": \"Khodayari\", \"sample_id\": \"pgm\", \"flux\": null, \"normalized_flux\": null, \"relative_error\": null, \"symm_relative_error\": null}, {\"BiGG_ID\": \"FBA\", \"author\": \"Khodayari\", \"sample_id\": \"ppc\", \"flux\": null, \"normalized_flux\": null, \"relative_error\": null, \"symm_relative_error\": null}, {\"BiGG_ID\": \"FBA\", \"author\": \"Khodayari\", \"sample_id\": \"ppsA\", \"flux\": 82.23832507057926, \"normalized_flux\": 88.1334946320606, \"relative_error\": null, \"symm_relative_error\": null}, {\"BiGG_ID\": \"FBA\", \"author\": \"Khodayari\", \"sample_id\": \"pts\", \"flux\": null, \"normalized_flux\": null, \"relative_error\": null, \"symm_relative_error\": null}, {\"BiGG_ID\": \"FBA\", \"author\": \"Khodayari\", \"sample_id\": \"pykA\", \"flux\": 86.03454440219417, \"normalized_flux\": 81.61738235376959, \"relative_error\": null, \"symm_relative_error\": null}, {\"BiGG_ID\": \"FBA\", \"author\": \"Khodayari\", \"sample_id\": \"pykF\", \"flux\": 86.30295784620725, \"normalized_flux\": 77.4910578673304, \"relative_error\": null, \"symm_relative_error\": null}, {\"BiGG_ID\": \"FBA\", \"author\": \"Khodayari\", \"sample_id\": \"rpe\", \"flux\": 84.83813272817306, \"normalized_flux\": 84.84043598978687, \"relative_error\": 2.370039137184277, \"symm_relative_error\": 2.398461373809038}, {\"BiGG_ID\": \"FBA\", \"author\": \"Khodayari\", \"sample_id\": \"rpiA\", \"flux\": 6.313121377320154, \"normalized_flux\": 66.70273594495102, \"relative_error\": null, \"symm_relative_error\": null}, {\"BiGG_ID\": \"FBA\", \"author\": \"Khodayari\", \"sample_id\": \"rpiB\", \"flux\": 6.313121377320154, \"normalized_flux\": 66.70273594495102, \"relative_error\": 22.43867913377789, \"symm_relative_error\": 25.274287242640632}, {\"BiGG_ID\": \"FBA\", \"author\": \"Khodayari\", \"sample_id\": \"sdhCD\", \"flux\": null, \"normalized_flux\": null, \"relative_error\": null, \"symm_relative_error\": null}, {\"BiGG_ID\": \"FBA\", \"author\": \"Khodayari\", \"sample_id\": \"sucA\", \"flux\": 24.702119957755322, \"normalized_flux\": 54.284578004555385, \"relative_error\": null, \"symm_relative_error\": null}, {\"BiGG_ID\": \"FBA\", \"author\": \"Khodayari\", \"sample_id\": \"sucAB\", \"flux\": null, \"normalized_flux\": null, \"relative_error\": null, \"symm_relative_error\": null}, {\"BiGG_ID\": \"FBA\", \"author\": \"Khodayari\", \"sample_id\": \"talA\", \"flux\": 84.12616341801386, \"normalized_flux\": 84.12888092785674, \"relative_error\": 4.119902138436564, \"symm_relative_error\": 4.03674712291641}, {\"BiGG_ID\": \"FBA\", \"author\": \"Khodayari\", \"sample_id\": \"talAB\", \"flux\": null, \"normalized_flux\": null, \"relative_error\": null, \"symm_relative_error\": null}, {\"BiGG_ID\": \"FBA\", \"author\": \"Khodayari\", \"sample_id\": \"talB\", \"flux\": null, \"normalized_flux\": null, \"relative_error\": null, \"symm_relative_error\": null}, {\"BiGG_ID\": \"FBA\", \"author\": \"Khodayari\", \"sample_id\": \"tkt1\", \"flux\": null, \"normalized_flux\": null, \"relative_error\": null, \"symm_relative_error\": null}, {\"BiGG_ID\": \"FBA\", \"author\": \"Khodayari\", \"sample_id\": \"tkt2\", \"flux\": null, \"normalized_flux\": null, \"relative_error\": null, \"symm_relative_error\": null}, {\"BiGG_ID\": \"FBA\", \"author\": \"Khodayari\", \"sample_id\": \"tktA\", \"flux\": 86.57026965541036, \"normalized_flux\": 86.55048942867346, \"relative_error\": 5.678253270663556, \"symm_relative_error\": 5.521491144901181}, {\"BiGG_ID\": \"FBA\", \"author\": \"Khodayari\", \"sample_id\": \"tktB\", \"flux\": 86.57026965541036, \"normalized_flux\": 86.55048942867346, \"relative_error\": 6.852456084782048, \"symm_relative_error\": 6.6254529576128895}, {\"BiGG_ID\": \"FBA\", \"author\": \"Khodayari\", \"sample_id\": \"tpi\", \"flux\": 1.7707015620622397, \"normalized_flux\": 80.70119184837895, \"relative_error\": null, \"symm_relative_error\": null}, {\"BiGG_ID\": \"FBA\", \"author\": \"Khodayari\", \"sample_id\": \"tpiA\", \"flux\": null, \"normalized_flux\": null, \"relative_error\": null, \"symm_relative_error\": null}, {\"BiGG_ID\": \"FBA\", \"author\": \"Khodayari\", \"sample_id\": \"zwf\", \"flux\": 4.720055733089808, \"normalized_flux\": 106.48970659558391, \"relative_error\": 16.893201531925268, \"symm_relative_error\": 15.577437570756405}, {\"BiGG_ID\": \"FBP\", \"author\": \"Khodayari\", \"sample_id\": \"WT\", \"flux\": 0.052548287992290846, \"normalized_flux\": 0.0, \"relative_error\": 100.0, \"symm_relative_error\": 200.0}, {\"BiGG_ID\": \"FBP\", \"author\": \"Khodayari\", \"sample_id\": \"eda\", \"flux\": 0.05325182760138081, \"normalized_flux\": 0.0, \"relative_error\": 100.0, \"symm_relative_error\": 200.0}, {\"BiGG_ID\": \"FBP\", \"author\": \"Khodayari\", \"sample_id\": \"edd\", \"flux\": 0.05211705544917099, \"normalized_flux\": 0.0, \"relative_error\": 100.0, \"symm_relative_error\": 200.0}, {\"BiGG_ID\": \"FBP\", \"author\": \"Khodayari\", \"sample_id\": \"fbaA\", \"flux\": 0.0074742385947142165, \"normalized_flux\": 0.0, \"relative_error\": null, \"symm_relative_error\": null}, {\"BiGG_ID\": \"FBP\", \"author\": \"Khodayari\", \"sample_id\": \"fbaB\", \"flux\": 0.0074742385947142165, \"normalized_flux\": 0.0, \"relative_error\": 100.0, \"symm_relative_error\": 200.0}, {\"BiGG_ID\": \"FBP\", \"author\": \"Khodayari\", \"sample_id\": \"fbp\", \"flux\": 0.03036805174989958, \"normalized_flux\": 0.0, \"relative_error\": 100.0, \"symm_relative_error\": 200.0}, {\"BiGG_ID\": \"FBP\", \"author\": \"Khodayari\", \"sample_id\": \"glk\", \"flux\": null, \"normalized_flux\": null, \"relative_error\": null, \"symm_relative_error\": null}, {\"BiGG_ID\": \"FBP\", \"author\": \"Khodayari\", \"sample_id\": \"gnd\", \"flux\": 0.002254690265569275, \"normalized_flux\": 0.0, \"relative_error\": 100.0, \"symm_relative_error\": 200.0}, {\"BiGG_ID\": \"FBP\", \"author\": \"Khodayari\", \"sample_id\": \"gpmA\", \"flux\": null, \"normalized_flux\": null, \"relative_error\": null, \"symm_relative_error\": null}, {\"BiGG_ID\": \"FBP\", \"author\": \"Khodayari\", \"sample_id\": \"pfkA\", \"flux\": 0.027805020433016206, \"normalized_flux\": 0.0, \"relative_error\": 100.0, \"symm_relative_error\": 200.0}, {\"BiGG_ID\": \"FBP\", \"author\": \"Khodayari\", \"sample_id\": \"pfkB\", \"flux\": 0.027805020433016206, \"normalized_flux\": 0.0, \"relative_error\": 100.0, \"symm_relative_error\": 200.0}, {\"BiGG_ID\": \"FBP\", \"author\": \"Khodayari\", \"sample_id\": \"pgi\", \"flux\": 0.01572360389370091, \"normalized_flux\": 0.2408378477204004, \"relative_error\": 99.9132740915663, \"symm_relative_error\": 199.6533969608995}, {\"BiGG_ID\": \"FBP\", \"author\": \"Khodayari\", \"sample_id\": \"pgl\", \"flux\": 0.0002502805486649523, \"normalized_flux\": 0.0, \"relative_error\": 100.0, \"symm_relative_error\": 200.0}, {\"BiGG_ID\": \"FBP\", \"author\": \"Khodayari\", \"sample_id\": \"pgm\", \"flux\": null, \"normalized_flux\": null, \"relative_error\": null, \"symm_relative_error\": null}, {\"BiGG_ID\": \"FBP\", \"author\": \"Khodayari\", \"sample_id\": \"ppc\", \"flux\": null, \"normalized_flux\": null, \"relative_error\": null, \"symm_relative_error\": null}, {\"BiGG_ID\": \"FBP\", \"author\": \"Khodayari\", \"sample_id\": \"ppsA\", \"flux\": 0.0013522245746951378, \"normalized_flux\": 0.0, \"relative_error\": null, \"symm_relative_error\": null}, {\"BiGG_ID\": \"FBP\", \"author\": \"Khodayari\", \"sample_id\": \"pts\", \"flux\": null, \"normalized_flux\": null, \"relative_error\": null, \"symm_relative_error\": null}, {\"BiGG_ID\": \"FBP\", \"author\": \"Khodayari\", \"sample_id\": \"pykA\", \"flux\": 0.007658018649219757, \"normalized_flux\": 0.0, \"relative_error\": null, \"symm_relative_error\": null}, {\"BiGG_ID\": \"FBP\", \"author\": \"Khodayari\", \"sample_id\": \"pykF\", \"flux\": 0.02064743585013599, \"normalized_flux\": 0.0, \"relative_error\": null, \"symm_relative_error\": null}, {\"BiGG_ID\": \"FBP\", \"author\": \"Khodayari\", \"sample_id\": \"rpe\", \"flux\": -0.002982452997336106, \"normalized_flux\": 0.0, \"relative_error\": 100.0, \"symm_relative_error\": 200.0}, {\"BiGG_ID\": \"FBP\", \"author\": \"Khodayari\", \"sample_id\": \"rpiA\", \"flux\": 0.029007116731524462, \"normalized_flux\": 0.3064813635324986, \"relative_error\": null, \"symm_relative_error\": null}, {\"BiGG_ID\": \"FBP\", \"author\": \"Khodayari\", \"sample_id\": \"rpiB\", \"flux\": 0.029007116731524462, \"normalized_flux\": 0.3064813635324986, \"relative_error\": 99.53208952132442, \"symm_relative_error\": 198.13707490701768}, {\"BiGG_ID\": \"FBP\", \"author\": \"Khodayari\", \"sample_id\": \"sdhCD\", \"flux\": null, \"normalized_flux\": null, \"relative_error\": null, \"symm_relative_error\": null}, {\"BiGG_ID\": \"FBP\", \"author\": \"Khodayari\", \"sample_id\": \"sucA\", \"flux\": 0.035726432959138715, \"normalized_flux\": 0.0, \"relative_error\": null, \"symm_relative_error\": null}, {\"BiGG_ID\": \"FBP\", \"author\": \"Khodayari\", \"sample_id\": \"sucAB\", \"flux\": null, \"normalized_flux\": null, \"relative_error\": null, \"symm_relative_error\": null}, {\"BiGG_ID\": \"FBP\", \"author\": \"Khodayari\", \"sample_id\": \"talA\", \"flux\": 0.00017679520992563286, \"normalized_flux\": 0.0, \"relative_error\": 100.0, \"symm_relative_error\": 200.0}, {\"BiGG_ID\": \"FBP\", \"author\": \"Khodayari\", \"sample_id\": \"talAB\", \"flux\": null, \"normalized_flux\": null, \"relative_error\": null, \"symm_relative_error\": null}, {\"BiGG_ID\": \"FBP\", \"author\": \"Khodayari\", \"sample_id\": \"talB\", \"flux\": null, \"normalized_flux\": null, \"relative_error\": null, \"symm_relative_error\": null}, {\"BiGG_ID\": \"FBP\", \"author\": \"Khodayari\", \"sample_id\": \"tkt1\", \"flux\": null, \"normalized_flux\": null, \"relative_error\": null, \"symm_relative_error\": null}, {\"BiGG_ID\": \"FBP\", \"author\": \"Khodayari\", \"sample_id\": \"tkt2\", \"flux\": null, \"normalized_flux\": null, \"relative_error\": null, \"symm_relative_error\": null}, {\"BiGG_ID\": \"FBP\", \"author\": \"Khodayari\", \"sample_id\": \"tktA\", \"flux\": -0.0029755905361798923, \"normalized_flux\": 0.0, \"relative_error\": 100.0, \"symm_relative_error\": 200.0}, {\"BiGG_ID\": \"FBP\", \"author\": \"Khodayari\", \"sample_id\": \"tktB\", \"flux\": -0.0029755905361798923, \"normalized_flux\": 0.0, \"relative_error\": 100.0, \"symm_relative_error\": 200.0}, {\"BiGG_ID\": \"FBP\", \"author\": \"Khodayari\", \"sample_id\": \"tpi\", \"flux\": 0.014676850363442708, \"normalized_flux\": 0.668909624460199, \"relative_error\": null, \"symm_relative_error\": null}, {\"BiGG_ID\": \"FBP\", \"author\": \"Khodayari\", \"sample_id\": \"tpiA\", \"flux\": null, \"normalized_flux\": null, \"relative_error\": null, \"symm_relative_error\": null}, {\"BiGG_ID\": \"FBP\", \"author\": \"Khodayari\", \"sample_id\": \"zwf\", \"flux\": -0.0005208155350772264, \"normalized_flux\": 0.0, \"relative_error\": 100.0, \"symm_relative_error\": 200.0}, {\"BiGG_ID\": \"FUM\", \"author\": \"Khodayari\", \"sample_id\": \"WT\", \"flux\": 88.48903083195907, \"normalized_flux\": 80.55957453269858, \"relative_error\": 639.0786654376016, \"symm_relative_error\": 152.32866518047032}, {\"BiGG_ID\": \"FUM\", \"author\": \"Khodayari\", \"sample_id\": \"eda\", \"flux\": 88.26576208963169, \"normalized_flux\": 80.19508360731585, \"relative_error\": 541.5606688585268, \"symm_relative_error\": 146.05970667029658}, {\"BiGG_ID\": \"FUM\", \"author\": \"Khodayari\", \"sample_id\": \"edd\", \"flux\": 88.61585690491967, \"normalized_flux\": 80.77646526722971, \"relative_error\": 732.7470646106156, \"symm_relative_error\": 157.11591971967405}, {\"BiGG_ID\": \"FUM\", \"author\": \"Khodayari\", \"sample_id\": \"fbaA\", \"flux\": 84.15110378804795, \"normalized_flux\": 84.01266628887231, \"relative_error\": null, \"symm_relative_error\": null}, {\"BiGG_ID\": \"FUM\", \"author\": \"Khodayari\", \"sample_id\": \"fbaB\", \"flux\": 84.15110378804795, \"normalized_flux\": 84.01266628887231, \"relative_error\": 757.272104988493, \"symm_relative_error\": 158.21459771829367}, {\"BiGG_ID\": \"FUM\", \"author\": \"Khodayari\", \"sample_id\": \"fbp\", \"flux\": 88.70879643949755, \"normalized_flux\": 80.94723656223127, \"relative_error\": 819.8549609344462, \"symm_relative_error\": 160.77873665158248}, {\"BiGG_ID\": \"FUM\", \"author\": \"Khodayari\", \"sample_id\": \"glk\", \"flux\": null, \"normalized_flux\": null, \"relative_error\": null, \"symm_relative_error\": null}, {\"BiGG_ID\": \"FUM\", \"author\": \"Khodayari\", \"sample_id\": \"gnd\", \"flux\": 12.742337952130356, \"normalized_flux\": 131.84514445241072, \"relative_error\": 796.9057445742227, \"symm_relative_error\": 159.87584561759752}, {\"BiGG_ID\": \"FUM\", \"author\": \"Khodayari\", \"sample_id\": \"gpmA\", \"flux\": null, \"normalized_flux\": null, \"relative_error\": null, \"symm_relative_error\": null}, {\"BiGG_ID\": \"FUM\", \"author\": \"Khodayari\", \"sample_id\": \"pfkA\", \"flux\": 75.14966932565062, \"normalized_flux\": 81.99222553093945, \"relative_error\": 113.52142065348816, \"symm_relative_error\": 72.41701088038569}, {\"BiGG_ID\": \"FUM\", \"author\": \"Khodayari\", \"sample_id\": \"pfkB\", \"flux\": 75.14966932565062, \"normalized_flux\": 81.99222553093945, \"relative_error\": 821.2609610217914, \"symm_relative_error\": 160.8327337216736}, {\"BiGG_ID\": \"FUM\", \"author\": \"Khodayari\", \"sample_id\": \"pgi\", \"flux\": 6.001656750060988, \"normalized_flux\": 91.9271500486195, \"relative_error\": 177.72552884779302, \"symm_relative_error\": 94.10300086940045}, {\"BiGG_ID\": \"FUM\", \"author\": \"Khodayari\", \"sample_id\": \"pgl\", \"flux\": 83.23036244455676, \"normalized_flux\": 83.17772460560471, \"relative_error\": 670.1641167185621, \"symm_relative_error\": 154.0316599691076}, {\"BiGG_ID\": \"FUM\", \"author\": \"Khodayari\", \"sample_id\": \"pgm\", \"flux\": null, \"normalized_flux\": null, \"relative_error\": null, \"symm_relative_error\": null}, {\"BiGG_ID\": \"FUM\", \"author\": \"Khodayari\", \"sample_id\": \"ppc\", \"flux\": null, \"normalized_flux\": null, \"relative_error\": null, \"symm_relative_error\": null}, {\"BiGG_ID\": \"FUM\", \"author\": \"Khodayari\", \"sample_id\": \"ppsA\", \"flux\": 83.98823820756672, \"normalized_flux\": 90.00884848846387, \"relative_error\": null, \"symm_relative_error\": null}, {\"BiGG_ID\": \"FUM\", \"author\": \"Khodayari\", \"sample_id\": \"pts\", \"flux\": null, \"normalized_flux\": null, \"relative_error\": null, \"symm_relative_error\": null}, {\"BiGG_ID\": \"FUM\", \"author\": \"Khodayari\", \"sample_id\": \"pykA\", \"flux\": 84.34297322947356, \"normalized_flux\": 80.01265936555751, \"relative_error\": null, \"symm_relative_error\": null}, {\"BiGG_ID\": \"FUM\", \"author\": \"Khodayari\", \"sample_id\": \"pykF\", \"flux\": 84.77627043586878, \"normalized_flux\": 76.12025175115204, \"relative_error\": null, \"symm_relative_error\": null}, {\"BiGG_ID\": \"FUM\", \"author\": \"Khodayari\", \"sample_id\": \"rpe\", \"flux\": 84.23115206822746, \"normalized_flux\": 84.23343885098666, \"relative_error\": 206.30341400358785, \"symm_relative_error\": 101.55140562110368}, {\"BiGG_ID\": \"FUM\", \"author\": \"Khodayari\", \"sample_id\": \"rpiA\", \"flux\": 11.392980688929583, \"normalized_flux\": 120.37515788143818, \"relative_error\": null, \"symm_relative_error\": null}, {\"BiGG_ID\": \"FUM\", \"author\": \"Khodayari\", \"sample_id\": \"rpiB\", \"flux\": 11.392980688929583, \"normalized_flux\": 120.37515788143818, \"relative_error\": 2260.297213361533, \"symm_relative_error\": 183.74180168852547}, {\"BiGG_ID\": \"FUM\", \"author\": \"Khodayari\", \"sample_id\": \"sdhCD\", \"flux\": null, \"normalized_flux\": null, \"relative_error\": null, \"symm_relative_error\": null}, {\"BiGG_ID\": \"FUM\", \"author\": \"Khodayari\", \"sample_id\": \"sucA\", \"flux\": 18.201288390019897, \"normalized_flux\": 39.99856130085878, \"relative_error\": null, \"symm_relative_error\": null}, {\"BiGG_ID\": \"FUM\", \"author\": \"Khodayari\", \"sample_id\": \"sucAB\", \"flux\": null, \"normalized_flux\": null, \"relative_error\": null, \"symm_relative_error\": null}, {\"BiGG_ID\": \"FUM\", \"author\": \"Khodayari\", \"sample_id\": \"talA\", \"flux\": 84.11675174564681, \"normalized_flux\": 84.11946895146642, \"relative_error\": 758.361928076188, \"symm_relative_error\": 158.26211493992062}, {\"BiGG_ID\": \"FUM\", \"author\": \"Khodayari\", \"sample_id\": \"talAB\", \"flux\": null, \"normalized_flux\": null, \"relative_error\": null, \"symm_relative_error\": null}, {\"BiGG_ID\": \"FUM\", \"author\": \"Khodayari\", \"sample_id\": \"talB\", \"flux\": null, \"normalized_flux\": null, \"relative_error\": null, \"symm_relative_error\": null}, {\"BiGG_ID\": \"FUM\", \"author\": \"Khodayari\", \"sample_id\": \"tkt1\", \"flux\": null, \"normalized_flux\": null, \"relative_error\": null, \"symm_relative_error\": null}, {\"BiGG_ID\": \"FUM\", \"author\": \"Khodayari\", \"sample_id\": \"tkt2\", \"flux\": null, \"normalized_flux\": null, \"relative_error\": null, \"symm_relative_error\": null}, {\"BiGG_ID\": \"FUM\", \"author\": \"Khodayari\", \"sample_id\": \"tktA\", \"flux\": 84.3164162470805, \"normalized_flux\": 84.29715099773277, \"relative_error\": 420.352783936622, \"symm_relative_error\": 135.52056017840556}, {\"BiGG_ID\": \"FUM\", \"author\": \"Khodayari\", \"sample_id\": \"tktB\", \"flux\": 84.3164162470805, \"normalized_flux\": 84.29715099773277, \"relative_error\": 742.9715099773277, \"symm_relative_error\": 157.58090294693872}, {\"BiGG_ID\": \"FUM\", \"author\": \"Khodayari\", \"sample_id\": \"tpi\", \"flux\": 4.089261564654294, \"normalized_flux\": 186.3714863746016, \"relative_error\": null, \"symm_relative_error\": null}, {\"BiGG_ID\": \"FUM\", \"author\": \"Khodayari\", \"sample_id\": \"tpiA\", \"flux\": null, \"normalized_flux\": null, \"relative_error\": null, \"symm_relative_error\": null}, {\"BiGG_ID\": \"FUM\", \"author\": \"Khodayari\", \"sample_id\": \"zwf\", \"flux\": 5.8829559702633105, \"normalized_flux\": 132.72602922804487, \"relative_error\": 970.3712034519747, \"symm_relative_error\": 165.8228091378007}, {\"BiGG_ID\": \"G6PDH2r\", \"author\": \"Khodayari\", \"sample_id\": \"WT\", \"flux\": 19.633288449774206, \"normalized_flux\": 17.87395962325672, \"relative_error\": 37.93764019702528, \"symm_relative_error\": 46.81857063311615}, {\"BiGG_ID\": \"G6PDH2r\", \"author\": \"Khodayari\", \"sample_id\": \"eda\", \"flux\": 19.6240795717201, \"normalized_flux\": 17.82972995092484, \"relative_error\": 33.221985202528685, \"symm_relative_error\": 39.83976574235179}, {\"BiGG_ID\": \"G6PDH2r\", \"author\": \"Khodayari\", \"sample_id\": \"edd\", \"flux\": 19.63669285554649, \"normalized_flux\": 17.899535069792336, \"relative_error\": 32.708514775216784, \"symm_relative_error\": 39.103621719022456}, {\"BiGG_ID\": \"G6PDH2r\", \"author\": \"Khodayari\", \"sample_id\": \"fbaA\", \"flux\": 19.980680980778455, \"normalized_flux\": 19.947810639424738, \"relative_error\": null, \"symm_relative_error\": null}, {\"BiGG_ID\": \"G6PDH2r\", \"author\": \"Khodayari\", \"sample_id\": \"fbaB\", \"flux\": 19.980680980778455, \"normalized_flux\": 19.947810639424738, \"relative_error\": 21.15489865840025, \"symm_relative_error\": 23.657230194964892}, {\"BiGG_ID\": \"G6PDH2r\", \"author\": \"Khodayari\", \"sample_id\": \"fbp\", \"flux\": 19.514178896399663, \"normalized_flux\": 17.806789392322766, \"relative_error\": 35.715561760567624, \"symm_relative_error\": 43.48015203791226}, {\"BiGG_ID\": \"G6PDH2r\", \"author\": \"Khodayari\", \"sample_id\": \"glk\", \"flux\": null, \"normalized_flux\": null, \"relative_error\": null, \"symm_relative_error\": null}, {\"BiGG_ID\": \"G6PDH2r\", \"author\": \"Khodayari\", \"sample_id\": \"gnd\", \"flux\": 4.395871816906836, \"normalized_flux\": 45.484145599628015, \"relative_error\": 52.12088829307029, \"symm_relative_error\": 41.34595006859086}, {\"BiGG_ID\": \"G6PDH2r\", \"author\": \"Khodayari\", \"sample_id\": \"gpmA\", \"flux\": null, \"normalized_flux\": null, \"relative_error\": null, \"symm_relative_error\": null}, {\"BiGG_ID\": \"G6PDH2r\", \"author\": \"Khodayari\", \"sample_id\": \"pfkA\", \"flux\": 15.573731788947336, \"normalized_flux\": 16.991757124896385, \"relative_error\": 79.7957703627867, \"symm_relative_error\": 132.76699264845706}, {\"BiGG_ID\": \"G6PDH2r\", \"author\": \"Khodayari\", \"sample_id\": \"pfkB\", \"flux\": 15.573731788947336, \"normalized_flux\": 16.991757124896385, \"relative_error\": 45.18788024226973, \"symm_relative_error\": 58.37770364876533}, {\"BiGG_ID\": \"G6PDH2r\", \"author\": \"Khodayari\", \"sample_id\": \"pgi\", \"flux\": 6.0169717161381495, \"normalized_flux\": 92.16172880631842, \"relative_error\": 2.2675198236283935, \"symm_relative_error\": 2.29352286645657}, {\"BiGG_ID\": \"G6PDH2r\", \"author\": \"Khodayari\", \"sample_id\": \"pgl\", \"flux\": 19.95950602559415, \"normalized_flux\": 19.94688292468626, \"relative_error\": 2.6981320747011686, \"symm_relative_error\": 2.735029427823479}, {\"BiGG_ID\": \"G6PDH2r\", \"author\": \"Khodayari\", \"sample_id\": \"pgm\", \"flux\": null, \"normalized_flux\": null, \"relative_error\": null, \"symm_relative_error\": null}, {\"BiGG_ID\": \"G6PDH2r\", \"author\": \"Khodayari\", \"sample_id\": \"ppc\", \"flux\": null, \"normalized_flux\": null, \"relative_error\": null, \"symm_relative_error\": null}, {\"BiGG_ID\": \"G6PDH2r\", \"author\": \"Khodayari\", \"sample_id\": \"ppsA\", \"flux\": 17.604209661506477, \"normalized_flux\": 18.866149284685594, \"relative_error\": null, \"symm_relative_error\": null}, {\"BiGG_ID\": \"G6PDH2r\", \"author\": \"Khodayari\", \"sample_id\": \"pts\", \"flux\": null, \"normalized_flux\": null, \"relative_error\": null, \"symm_relative_error\": null}, {\"BiGG_ID\": \"G6PDH2r\", \"author\": \"Khodayari\", \"sample_id\": \"pykA\", \"flux\": 21.842809752449664, \"normalized_flux\": 20.721362188103427, \"relative_error\": null, \"symm_relative_error\": null}, {\"BiGG_ID\": \"G6PDH2r\", \"author\": \"Khodayari\", \"sample_id\": \"pykF\", \"flux\": 24.242475835048, \"normalized_flux\": 21.767215686033655, \"relative_error\": null, \"symm_relative_error\": null}, {\"BiGG_ID\": \"G6PDH2r\", \"author\": \"Khodayari\", \"sample_id\": \"rpe\", \"flux\": 19.935345321268496, \"normalized_flux\": 19.93588654387866, \"relative_error\": 97.38501528592732, \"symm_relative_error\": 65.49423157202078}, {\"BiGG_ID\": \"G6PDH2r\", \"author\": \"Khodayari\", \"sample_id\": \"rpiA\", \"flux\": 3.169377975174686, \"normalized_flux\": 33.48679196115187, \"relative_error\": null, \"symm_relative_error\": null}, {\"BiGG_ID\": \"G6PDH2r\", \"author\": \"Khodayari\", \"sample_id\": \"rpiB\", \"flux\": 3.169377975174686, \"normalized_flux\": 33.48679196115187, \"relative_error\": 90.26586341563562, \"symm_relative_error\": 62.195300786288264}, {\"BiGG_ID\": \"G6PDH2r\", \"author\": \"Khodayari\", \"sample_id\": \"sdhCD\", \"flux\": null, \"normalized_flux\": null, \"relative_error\": null, \"symm_relative_error\": null}, {\"BiGG_ID\": \"G6PDH2r\", \"author\": \"Khodayari\", \"sample_id\": \"sucA\", \"flux\": 14.966137684274523, \"normalized_flux\": 32.88909898981568, \"relative_error\": null, \"symm_relative_error\": null}, {\"BiGG_ID\": \"G6PDH2r\", \"author\": \"Khodayari\", \"sample_id\": \"sucAB\", \"flux\": null, \"normalized_flux\": null, \"relative_error\": null, \"symm_relative_error\": null}, {\"BiGG_ID\": \"G6PDH2r\", \"author\": \"Khodayari\", \"sample_id\": \"talA\", \"flux\": 19.86473455230841, \"normalized_flux\": 19.86537623866945, \"relative_error\": 28.54181209111708, \"symm_relative_error\": 33.29302897600306}, {\"BiGG_ID\": \"G6PDH2r\", \"author\": \"Khodayari\", \"sample_id\": \"talAB\", \"flux\": null, \"normalized_flux\": null, \"relative_error\": null, \"symm_relative_error\": null}, {\"BiGG_ID\": \"G6PDH2r\", \"author\": \"Khodayari\", \"sample_id\": \"talB\", \"flux\": null, \"normalized_flux\": null, \"relative_error\": null, \"symm_relative_error\": null}, {\"BiGG_ID\": \"G6PDH2r\", \"author\": \"Khodayari\", \"sample_id\": \"tkt1\", \"flux\": null, \"normalized_flux\": null, \"relative_error\": null, \"symm_relative_error\": null}, {\"BiGG_ID\": \"G6PDH2r\", \"author\": \"Khodayari\", \"sample_id\": \"tkt2\", \"flux\": null, \"normalized_flux\": null, \"relative_error\": null, \"symm_relative_error\": null}, {\"BiGG_ID\": \"G6PDH2r\", \"author\": \"Khodayari\", \"sample_id\": \"tktA\", \"flux\": 19.879894590653276, \"normalized_flux\": 19.875352282721533, \"relative_error\": 15.424032839482841, \"symm_relative_error\": 16.712937308971835}, {\"BiGG_ID\": \"G6PDH2r\", \"author\": \"Khodayari\", \"sample_id\": \"tktB\", \"flux\": 19.879894590653276, \"normalized_flux\": 19.875352282721533, \"relative_error\": 29.269208958286363, \"symm_relative_error\": 34.286971646649484}, {\"BiGG_ID\": \"G6PDH2r\", \"author\": \"Khodayari\", \"sample_id\": \"tpi\", \"flux\": 1.1549089477501366, \"normalized_flux\": 52.63593287354721, \"relative_error\": null, \"symm_relative_error\": null}, {\"BiGG_ID\": \"G6PDH2r\", \"author\": \"Khodayari\", \"sample_id\": \"tpiA\", \"flux\": null, \"normalized_flux\": null, \"relative_error\": null, \"symm_relative_error\": null}, {\"BiGG_ID\": \"G6PDH2r\", \"author\": \"Khodayari\", \"sample_id\": \"zwf\", \"flux\": 5.7060067168952e-08, \"normalized_flux\": 0.0, \"relative_error\": 100.0, \"symm_relative_error\": 200.0}, {\"BiGG_ID\": \"GAPD\", \"author\": \"Khodayari\", \"sample_id\": \"WT\", \"flux\": 174.32315108812514, \"normalized_flux\": 158.70214365356932, \"relative_error\": 5.2524515501078675, \"symm_relative_error\": 5.394113139718731}, {\"BiGG_ID\": \"GAPD\", \"author\": \"Khodayari\", \"sample_id\": \"eda\", \"flux\": 175.1038528516193, \"normalized_flux\": 159.0930366084526, \"relative_error\": 6.1951435091671, \"symm_relative_error\": 6.3931767462804885}, {\"BiGG_ID\": \"GAPD\", \"author\": \"Khodayari\", \"sample_id\": \"edd\", \"flux\": 173.85876114568885, \"normalized_flux\": 158.47836574165837, \"relative_error\": 4.126820482965303, \"symm_relative_error\": 4.213767799288112}, {\"BiGG_ID\": \"GAPD\", \"author\": \"Khodayari\", \"sample_id\": \"fbaA\", \"flux\": 167.11964249371658, \"normalized_flux\": 166.84471294046642, \"relative_error\": null, \"symm_relative_error\": null}, {\"BiGG_ID\": \"GAPD\", \"author\": \"Khodayari\", \"sample_id\": \"fbaB\", \"flux\": 167.11964249371658, \"normalized_flux\": 166.84471294046642, \"relative_error\": 0.3912161549454195, \"symm_relative_error\": 0.39198290517024464}, {\"BiGG_ID\": \"GAPD\", \"author\": \"Khodayari\", \"sample_id\": \"fbp\", \"flux\": 173.50008631514328, \"normalized_flux\": 158.31972807903193, \"relative_error\": 5.1409658004602, \"symm_relative_error\": 5.276599898566408}, {\"BiGG_ID\": \"GAPD\", \"author\": \"Khodayari\", \"sample_id\": \"glk\", \"flux\": null, \"normalized_flux\": null, \"relative_error\": null, \"symm_relative_error\": null}, {\"BiGG_ID\": \"GAPD\", \"author\": \"Khodayari\", \"sample_id\": \"gnd\", \"flux\": 10.481105830090314, \"normalized_flux\": 108.44814486796975, \"relative_error\": 27.797506745692573, \"symm_relative_error\": 32.28467395607497}, {\"BiGG_ID\": \"GAPD\", \"author\": \"Khodayari\", \"sample_id\": \"gpmA\", \"flux\": null, \"normalized_flux\": null, \"relative_error\": null, \"symm_relative_error\": null}, {\"BiGG_ID\": \"GAPD\", \"author\": \"Khodayari\", \"sample_id\": \"pfkA\", \"flux\": 147.53174435771166, \"normalized_flux\": 160.96486072256806, \"relative_error\": 9.425466160821257, \"symm_relative_error\": 9.001260767000788}, {\"BiGG_ID\": \"GAPD\", \"author\": \"Khodayari\", \"sample_id\": \"pfkB\", \"flux\": 147.53174435771166, \"normalized_flux\": 160.96486072256806, \"relative_error\": 1.1272354283980033, \"symm_relative_error\": 1.1336247382352391}, {\"BiGG_ID\": \"GAPD\", \"author\": \"Khodayari\", \"sample_id\": \"pgi\", \"flux\": 7.2168002164168925, \"normalized_flux\": 110.53945668564329, \"relative_error\": 16.194498342954297, \"symm_relative_error\": 17.62134233954637}, {\"BiGG_ID\": \"GAPD\", \"author\": \"Khodayari\", \"sample_id\": \"pgl\", \"flux\": 170.2142835815526, \"normalized_flux\": 170.10663401974185, \"relative_error\": 2.7406323500618406, \"symm_relative_error\": 2.778709455183331}, {\"BiGG_ID\": \"GAPD\", \"author\": \"Khodayari\", \"sample_id\": \"pgm\", \"flux\": null, \"normalized_flux\": null, \"relative_error\": null, \"symm_relative_error\": null}, {\"BiGG_ID\": \"GAPD\", \"author\": \"Khodayari\", \"sample_id\": \"ppc\", \"flux\": null, \"normalized_flux\": null, \"relative_error\": null, \"symm_relative_error\": null}, {\"BiGG_ID\": \"GAPD\", \"author\": \"Khodayari\", \"sample_id\": \"ppsA\", \"flux\": 167.50352129751292, \"normalized_flux\": 179.51083855922238, \"relative_error\": null, \"symm_relative_error\": null}, {\"BiGG_ID\": \"GAPD\", \"author\": \"Khodayari\", \"sample_id\": \"pts\", \"flux\": null, \"normalized_flux\": null, \"relative_error\": null, \"symm_relative_error\": null}, {\"BiGG_ID\": \"GAPD\", \"author\": \"Khodayari\", \"sample_id\": \"pykA\", \"flux\": 170.50488618890404, \"normalized_flux\": 161.75087095493285, \"relative_error\": null, \"symm_relative_error\": null}, {\"BiGG_ID\": \"GAPD\", \"author\": \"Khodayari\", \"sample_id\": \"pykF\", \"flux\": 168.37944658993217, \"normalized_flux\": 151.1871871485679, \"relative_error\": null, \"symm_relative_error\": null}, {\"BiGG_ID\": \"GAPD\", \"author\": \"Khodayari\", \"sample_id\": \"rpe\", \"flux\": 169.67528986100746, \"normalized_flux\": 169.6798963577487, \"relative_error\": 1.805615533710248, \"symm_relative_error\": 1.822065280580499}, {\"BiGG_ID\": \"GAPD\", \"author\": \"Khodayari\", \"sample_id\": \"rpiA\", \"flux\": 13.31186768046025, \"normalized_flux\": 140.64959973901006, \"relative_error\": null, \"symm_relative_error\": null}, {\"BiGG_ID\": \"GAPD\", \"author\": \"Khodayari\", \"sample_id\": \"rpiB\", \"flux\": 13.31186768046025, \"normalized_flux\": 140.64959973901006, \"relative_error\": 19.25970164235932, \"symm_relative_error\": 21.31201709565522}, {\"BiGG_ID\": \"GAPD\", \"author\": \"Khodayari\", \"sample_id\": \"sdhCD\", \"flux\": null, \"normalized_flux\": null, \"relative_error\": null, \"symm_relative_error\": null}, {\"BiGG_ID\": \"GAPD\", \"author\": \"Khodayari\", \"sample_id\": \"sucA\", \"flux\": 44.48614867616422, \"normalized_flux\": 97.76131814044221, \"relative_error\": null, \"symm_relative_error\": null}, {\"BiGG_ID\": \"GAPD\", \"author\": \"Khodayari\", \"sample_id\": \"sucAB\", \"flux\": null, \"normalized_flux\": null, \"relative_error\": null, \"symm_relative_error\": null}, {\"BiGG_ID\": \"GAPD\", \"author\": \"Khodayari\", \"sample_id\": \"talA\", \"flux\": 171.43865039860253, \"normalized_flux\": 171.44418834543123, \"relative_error\": 2.661190626006724, \"symm_relative_error\": 2.626245920875611}, {\"BiGG_ID\": \"GAPD\", \"author\": \"Khodayari\", \"sample_id\": \"talAB\", \"flux\": null, \"normalized_flux\": null, \"relative_error\": null, \"symm_relative_error\": null}, {\"BiGG_ID\": \"GAPD\", \"author\": \"Khodayari\", \"sample_id\": \"talB\", \"flux\": null, \"normalized_flux\": null, \"relative_error\": null, \"symm_relative_error\": null}, {\"BiGG_ID\": \"GAPD\", \"author\": \"Khodayari\", \"sample_id\": \"tkt1\", \"flux\": null, \"normalized_flux\": null, \"relative_error\": null, \"symm_relative_error\": null}, {\"BiGG_ID\": \"GAPD\", \"author\": \"Khodayari\", \"sample_id\": \"tkt2\", \"flux\": null, \"normalized_flux\": null, \"relative_error\": null, \"symm_relative_error\": null}, {\"BiGG_ID\": \"GAPD\", \"author\": \"Khodayari\", \"sample_id\": \"tktA\", \"flux\": 169.6541734552203, \"normalized_flux\": 169.6154095928555, \"relative_error\": 1.142164336825, \"symm_relative_error\": 1.1356786784021824}, {\"BiGG_ID\": \"GAPD\", \"author\": \"Khodayari\", \"sample_id\": \"tktB\", \"flux\": 169.6541734552203, \"normalized_flux\": 169.6154095928555, \"relative_error\": 1.2025116902479231, \"symm_relative_error\": 1.1953247304379528}, {\"BiGG_ID\": \"GAPD\", \"author\": \"Khodayari\", \"sample_id\": \"tpi\", \"flux\": 2.3360794567753986, \"normalized_flux\": 106.46875817668803, \"relative_error\": null, \"symm_relative_error\": null}, {\"BiGG_ID\": \"GAPD\", \"author\": \"Khodayari\", \"sample_id\": \"tpiA\", \"flux\": null, \"normalized_flux\": null, \"relative_error\": null, \"symm_relative_error\": null}, {\"BiGG_ID\": \"GAPD\", \"author\": \"Khodayari\", \"sample_id\": \"zwf\", \"flux\": 8.763518536247659, \"normalized_flux\": 197.71472424099403, \"relative_error\": 11.20063230652082, \"symm_relative_error\": 10.606627626251667}, {\"BiGG_ID\": \"GLCptspp\", \"author\": \"Khodayari\", \"sample_id\": \"WT\", \"flux\": 109.71493023457475, \"normalized_flux\": 99.88343206477822, \"relative_error\": 0.11656793522178076, \"symm_relative_error\": 0.11663591526085407}, {\"BiGG_ID\": \"GLCptspp\", \"author\": \"Khodayari\", \"sample_id\": \"eda\", \"flux\": 109.952113662447, \"normalized_flux\": 99.89851941692817, \"relative_error\": 0.10148058307183307, \"symm_relative_error\": 0.10153210075575907}, {\"BiGG_ID\": \"GLCptspp\", \"author\": \"Khodayari\", \"sample_id\": \"edd\", \"flux\": 109.5665488259516, \"normalized_flux\": 99.87375662558607, \"relative_error\": 0.12624337441393152, \"symm_relative_error\": 0.12632311169336471}, {\"BiGG_ID\": \"GLCptspp\", \"author\": \"Khodayari\", \"sample_id\": \"fbaA\", \"flux\": 100.16412283339938, \"normalized_flux\": 99.99934221795904, \"relative_error\": null, \"symm_relative_error\": null}, {\"BiGG_ID\": \"GLCptspp\", \"author\": \"Khodayari\", \"sample_id\": \"fbaB\", \"flux\": 100.16412283339938, \"normalized_flux\": 99.99934221795904, \"relative_error\": 0.0006577820409603419, \"symm_relative_error\": 0.0006577842043535241}, {\"BiGG_ID\": \"GLCptspp\", \"author\": \"Khodayari\", \"sample_id\": \"fbp\", \"flux\": 109.43570931980099, \"normalized_flux\": 99.86065200092442, \"relative_error\": 0.13934799907558215, \"symm_relative_error\": 0.13944515609299388}, {\"BiGG_ID\": \"GLCptspp\", \"author\": \"Khodayari\", \"sample_id\": \"glk\", \"flux\": null, \"normalized_flux\": null, \"relative_error\": null, \"symm_relative_error\": null}, {\"BiGG_ID\": \"GLCptspp\", \"author\": \"Khodayari\", \"sample_id\": \"gnd\", \"flux\": 9.454786404107399, \"normalized_flux\": 97.8288037799075, \"relative_error\": 2.1711962200924972, \"symm_relative_error\": 2.1950253740684196}, {\"BiGG_ID\": \"GLCptspp\", \"author\": \"Khodayari\", \"sample_id\": \"gpmA\", \"flux\": null, \"normalized_flux\": null, \"relative_error\": null, \"symm_relative_error\": null}, {\"BiGG_ID\": \"GLCptspp\", \"author\": \"Khodayari\", \"sample_id\": \"pfkA\", \"flux\": 91.9686930110193, \"normalized_flux\": 100.3426613425081, \"relative_error\": 25.506561735331772, \"symm_relative_error\": 29.234980970051055}, {\"BiGG_ID\": \"GLCptspp\", \"author\": \"Khodayari\", \"sample_id\": \"pfkB\", \"flux\": 91.9686930110193, \"normalized_flux\": 100.3426613425081, \"relative_error\": 0.34266134250809444, \"symm_relative_error\": 0.3420752626643775}, {\"BiGG_ID\": \"GLCptspp\", \"author\": \"Khodayari\", \"sample_id\": \"pgi\", \"flux\": 6.675049161128087, \"normalized_flux\": 102.24147620749851, \"relative_error\": 2.2414762074985077, \"symm_relative_error\": 2.216633550675596}, {\"BiGG_ID\": \"GLCptspp\", \"author\": \"Khodayari\", \"sample_id\": \"pgl\", \"flux\": 100.20207803195169, \"normalized_flux\": 100.13870667694141, \"relative_error\": 0.13870667694141048, \"symm_relative_error\": 0.13861054590035612}, {\"BiGG_ID\": \"GLCptspp\", \"author\": \"Khodayari\", \"sample_id\": \"pgm\", \"flux\": null, \"normalized_flux\": null, \"relative_error\": null, \"symm_relative_error\": null}, {\"BiGG_ID\": \"GLCptspp\", \"author\": \"Khodayari\", \"sample_id\": \"ppc\", \"flux\": null, \"normalized_flux\": null, \"relative_error\": null, \"symm_relative_error\": null}, {\"BiGG_ID\": \"GLCptspp\", \"author\": \"Khodayari\", \"sample_id\": \"ppsA\", \"flux\": 93.2040355826351, \"normalized_flux\": 99.88527079872708, \"relative_error\": null, \"symm_relative_error\": null}, {\"BiGG_ID\": \"GLCptspp\", \"author\": \"Khodayari\", \"sample_id\": \"pts\", \"flux\": null, \"normalized_flux\": null, \"relative_error\": null, \"symm_relative_error\": null}, {\"BiGG_ID\": \"GLCptspp\", \"author\": \"Khodayari\", \"sample_id\": \"pykA\", \"flux\": 105.65009361917959, \"normalized_flux\": 100.22583540766934, \"relative_error\": null, \"symm_relative_error\": null}, {\"BiGG_ID\": \"GLCptspp\", \"author\": \"Khodayari\", \"sample_id\": \"pykF\", \"flux\": 111.48019086213458, \"normalized_flux\": 100.09758804041215, \"relative_error\": null, \"symm_relative_error\": null}, {\"BiGG_ID\": \"GLCptspp\", \"author\": \"Khodayari\", \"sample_id\": \"rpe\", \"flux\": 99.98548732954421, \"normalized_flux\": 99.98820182510768, \"relative_error\": 0.011798174892319935, \"symm_relative_error\": 0.011798870918033048}, {\"BiGG_ID\": \"GLCptspp\", \"author\": \"Khodayari\", \"sample_id\": \"rpiA\", \"flux\": 9.293881484293635, \"normalized_flux\": 98.19664243706647, \"relative_error\": null, \"symm_relative_error\": null}, {\"BiGG_ID\": \"GLCptspp\", \"author\": \"Khodayari\", \"sample_id\": \"rpiB\", \"flux\": 9.293881484293635, \"normalized_flux\": 98.19664243706647, \"relative_error\": 1.8033575629335274, \"symm_relative_error\": 1.8197660068899995}, {\"BiGG_ID\": \"GLCptspp\", \"author\": \"Khodayari\", \"sample_id\": \"sdhCD\", \"flux\": null, \"normalized_flux\": null, \"relative_error\": null, \"symm_relative_error\": null}, {\"BiGG_ID\": \"GLCptspp\", \"author\": \"Khodayari\", \"sample_id\": \"sucA\", \"flux\": 45.39270124221598, \"normalized_flux\": 99.75352867019541, \"relative_error\": null, \"symm_relative_error\": null}, {\"BiGG_ID\": \"GLCptspp\", \"author\": \"Khodayari\", \"sample_id\": \"sucAB\", \"flux\": null, \"normalized_flux\": null, \"relative_error\": null, \"symm_relative_error\": null}, {\"BiGG_ID\": \"GLCptspp\", \"author\": \"Khodayari\", \"sample_id\": \"talA\", \"flux\": 99.96300555557792, \"normalized_flux\": 99.96623463961653, \"relative_error\": 0.033765360383469556, \"symm_relative_error\": 0.033771061843838004}, {\"BiGG_ID\": \"GLCptspp\", \"author\": \"Khodayari\", \"sample_id\": \"talAB\", \"flux\": null, \"normalized_flux\": null, \"relative_error\": null, \"symm_relative_error\": null}, {\"BiGG_ID\": \"GLCptspp\", \"author\": \"Khodayari\", \"sample_id\": \"talB\", \"flux\": null, \"normalized_flux\": null, \"relative_error\": null, \"symm_relative_error\": null}, {\"BiGG_ID\": \"GLCptspp\", \"author\": \"Khodayari\", \"sample_id\": \"tkt1\", \"flux\": null, \"normalized_flux\": null, \"relative_error\": null, \"symm_relative_error\": null}, {\"BiGG_ID\": \"GLCptspp\", \"author\": \"Khodayari\", \"sample_id\": \"tkt2\", \"flux\": null, \"normalized_flux\": null, \"relative_error\": null, \"symm_relative_error\": null}, {\"BiGG_ID\": \"GLCptspp\", \"author\": \"Khodayari\", \"sample_id\": \"tktA\", \"flux\": 100.00107888826221, \"normalized_flux\": 99.9782298891518, \"relative_error\": 0.02177011084819469, \"symm_relative_error\": 0.021772480794796406}, {\"BiGG_ID\": \"GLCptspp\", \"author\": \"Khodayari\", \"sample_id\": \"tktB\", \"flux\": 100.00107888826221, \"normalized_flux\": 99.9782298891518, \"relative_error\": 0.02177011084819469, \"symm_relative_error\": 0.021772480794796406}, {\"BiGG_ID\": \"GLCptspp\", \"author\": \"Khodayari\", \"sample_id\": \"tpi\", \"flux\": 2.2031978130794263, \"normalized_flux\": 100.41256708791569, \"relative_error\": null, \"symm_relative_error\": null}, {\"BiGG_ID\": \"GLCptspp\", \"author\": \"Khodayari\", \"sample_id\": \"tpiA\", \"flux\": null, \"normalized_flux\": null, \"relative_error\": null, \"symm_relative_error\": null}, {\"BiGG_ID\": \"GLCptspp\", \"author\": \"Khodayari\", \"sample_id\": \"zwf\", \"flux\": 4.3260264452003305, \"normalized_flux\": 97.59996765388931, \"relative_error\": 2.4000323461106916, \"symm_relative_error\": 2.4291829341941216}, {\"BiGG_ID\": \"GND\", \"author\": \"Khodayari\", \"sample_id\": \"WT\", \"flux\": 17.885043681947643, \"normalized_flux\": 16.28237416513846, \"relative_error\": 40.79136667222378, \"symm_relative_error\": 51.24265665699568}, {\"BiGG_ID\": \"GND\", \"author\": \"Khodayari\", \"sample_id\": \"eda\", \"flux\": 18.018107118675122, \"normalized_flux\": 16.370601381772467, \"relative_error\": 33.452839911494046, \"symm_relative_error\": 40.17221295603797}, {\"BiGG_ID\": \"GND\", \"author\": \"Khodayari\", \"sample_id\": \"edd\", \"flux\": 17.804372059286283, \"normalized_flux\": 16.229310323036902, \"relative_error\": 38.291595729897715, \"symm_relative_error\": 47.35881960215139}, {\"BiGG_ID\": \"GND\", \"author\": \"Khodayari\", \"sample_id\": \"fbaA\", \"flux\": 19.946141963037782, \"normalized_flux\": 19.913328442034896, \"relative_error\": null, \"symm_relative_error\": null}, {\"BiGG_ID\": \"GND\", \"author\": \"Khodayari\", \"sample_id\": \"fbaB\", \"flux\": 19.946141963037782, \"normalized_flux\": 19.913328442034896, \"relative_error\": 18.387998188381573, \"symm_relative_error\": 20.249761034466193}, {\"BiGG_ID\": \"GND\", \"author\": \"Khodayari\", \"sample_id\": \"fbp\", \"flux\": 17.639558396988598, \"normalized_flux\": 16.096188469744238, \"relative_error\": 40.16286814221473, \"symm_relative_error\": 50.25474077944485}, {\"BiGG_ID\": \"GND\", \"author\": \"Khodayari\", \"sample_id\": \"glk\", \"flux\": null, \"normalized_flux\": null, \"relative_error\": null, \"symm_relative_error\": null}, {\"BiGG_ID\": \"GND\", \"author\": \"Khodayari\", \"sample_id\": \"gnd\", \"flux\": 6.549247857157956e-07, \"normalized_flux\": 0.0, \"relative_error\": 0.0, \"symm_relative_error\": null}, {\"BiGG_ID\": \"GND\", \"author\": \"Khodayari\", \"sample_id\": \"gpmA\", \"flux\": null, \"normalized_flux\": null, \"relative_error\": null, \"symm_relative_error\": null}, {\"BiGG_ID\": \"GND\", \"author\": \"Khodayari\", \"sample_id\": \"pfkA\", \"flux\": 13.48677692969622, \"normalized_flux\": 14.71478005995271, \"relative_error\": 81.0864009512176, \"symm_relative_error\": 136.3786843554423}, {\"BiGG_ID\": \"GND\", \"author\": \"Khodayari\", \"sample_id\": \"pfkB\", \"flux\": 13.48677692969622, \"normalized_flux\": 14.71478005995271, \"relative_error\": 48.54972007009542, \"symm_relative_error\": 64.11308066589984}, {\"BiGG_ID\": \"GND\", \"author\": \"Khodayari\", \"sample_id\": \"pgi\", \"flux\": 5.794010399025369, \"normalized_flux\": 88.74663872255846, \"relative_error\": 2.1250157912065046, \"symm_relative_error\": 2.102674706431814}, {\"BiGG_ID\": \"GND\", \"author\": \"Khodayari\", \"sample_id\": \"pgl\", \"flux\": 20.114523531978904, \"normalized_flux\": 20.101802392491148, \"relative_error\": 3.0861661153392212, \"symm_relative_error\": 3.039267690529435}, {\"BiGG_ID\": \"GND\", \"author\": \"Khodayari\", \"sample_id\": \"pgm\", \"flux\": null, \"normalized_flux\": null, \"relative_error\": null, \"symm_relative_error\": null}, {\"BiGG_ID\": \"GND\", \"author\": \"Khodayari\", \"sample_id\": \"ppc\", \"flux\": null, \"normalized_flux\": null, \"relative_error\": null, \"symm_relative_error\": null}, {\"BiGG_ID\": \"GND\", \"author\": \"Khodayari\", \"sample_id\": \"ppsA\", \"flux\": 19.63723344778527, \"normalized_flux\": 21.044908285444407, \"relative_error\": null, \"symm_relative_error\": null}, {\"BiGG_ID\": \"GND\", \"author\": \"Khodayari\", \"sample_id\": \"pts\", \"flux\": null, \"normalized_flux\": null, \"relative_error\": null, \"symm_relative_error\": null}, {\"BiGG_ID\": \"GND\", \"author\": \"Khodayari\", \"sample_id\": \"pykA\", \"flux\": 20.264608352692015, \"normalized_flux\": 19.22418837297726, \"relative_error\": null, \"symm_relative_error\": null}, {\"BiGG_ID\": \"GND\", \"author\": \"Khodayari\", \"sample_id\": \"pykF\", \"flux\": 20.95686306674188, \"normalized_flux\": 18.817077990728247, \"relative_error\": null, \"symm_relative_error\": null}, {\"BiGG_ID\": \"GND\", \"author\": \"Khodayari\", \"sample_id\": \"rpe\", \"flux\": 18.477426851805475, \"normalized_flux\": 18.477928493539224, \"relative_error\": 103.05415926966181, \"symm_relative_error\": 68.01039095983023}, {\"BiGG_ID\": \"GND\", \"author\": \"Khodayari\", \"sample_id\": \"rpiA\", \"flux\": 3.264265187268615, \"normalized_flux\": 34.48934462481389, \"relative_error\": null, \"symm_relative_error\": null}, {\"BiGG_ID\": \"GND\", \"author\": \"Khodayari\", \"sample_id\": \"rpiB\", \"flux\": 3.264265187268615, \"normalized_flux\": 34.48934462481389, \"relative_error\": 101.69207382932098, \"symm_relative_error\": 67.41448161932962}, {\"BiGG_ID\": \"GND\", \"author\": \"Khodayari\", \"sample_id\": \"sdhCD\", \"flux\": null, \"normalized_flux\": null, \"relative_error\": null, \"symm_relative_error\": null}, {\"BiGG_ID\": \"GND\", \"author\": \"Khodayari\", \"sample_id\": \"sucA\", \"flux\": 14.177661577466946, \"normalized_flux\": 31.15636945899311, \"relative_error\": null, \"symm_relative_error\": null}, {\"BiGG_ID\": \"GND\", \"author\": \"Khodayari\", \"sample_id\": \"sucAB\", \"flux\": null, \"normalized_flux\": null, \"relative_error\": null, \"symm_relative_error\": null}, {\"BiGG_ID\": \"GND\", \"author\": \"Khodayari\", \"sample_id\": \"talA\", \"flux\": 19.94573019477523, \"normalized_flux\": 19.946374497521553, \"relative_error\": 25.294477537372455, \"symm_relative_error\": 28.95670060204694}, {\"BiGG_ID\": \"GND\", \"author\": \"Khodayari\", \"sample_id\": \"talAB\", \"flux\": null, \"normalized_flux\": null, \"relative_error\": null, \"symm_relative_error\": null}, {\"BiGG_ID\": \"GND\", \"author\": \"Khodayari\", \"sample_id\": \"talB\", \"flux\": null, \"normalized_flux\": null, \"relative_error\": null, \"symm_relative_error\": null}, {\"BiGG_ID\": \"GND\", \"author\": \"Khodayari\", \"sample_id\": \"tkt1\", \"flux\": null, \"normalized_flux\": null, \"relative_error\": null, \"symm_relative_error\": null}, {\"BiGG_ID\": \"GND\", \"author\": \"Khodayari\", \"sample_id\": \"tkt2\", \"flux\": null, \"normalized_flux\": null, \"relative_error\": null, \"symm_relative_error\": null}, {\"BiGG_ID\": \"GND\", \"author\": \"Khodayari\", \"sample_id\": \"tktA\", \"flux\": 19.9151632121917, \"normalized_flux\": 19.91061284581988, \"relative_error\": 9.083959608128394, \"symm_relative_error\": 9.51618270469342}, {\"BiGG_ID\": \"GND\", \"author\": \"Khodayari\", \"sample_id\": \"tktB\", \"flux\": 19.9151632121917, \"normalized_flux\": 19.91061284581988, \"relative_error\": 25.982851874275536, \"symm_relative_error\": 29.862403968950648}, {\"BiGG_ID\": \"GND\", \"author\": \"Khodayari\", \"sample_id\": \"tpi\", \"flux\": 1.239525255504431, \"normalized_flux\": 56.4923912581142, \"relative_error\": null, \"symm_relative_error\": null}, {\"BiGG_ID\": \"GND\", \"author\": \"Khodayari\", \"sample_id\": \"tpiA\", \"flux\": null, \"normalized_flux\": null, \"relative_error\": null, \"symm_relative_error\": null}, {\"BiGG_ID\": \"GND\", \"author\": \"Khodayari\", \"sample_id\": \"zwf\", \"flux\": 0.016756054451920504, \"normalized_flux\": 0.37803522313847465, \"relative_error\": 100.0, \"symm_relative_error\": 200.0}, {\"BiGG_ID\": \"ICDHyr\", \"author\": \"Khodayari\", \"sample_id\": \"WT\", \"flux\": 83.71312124554416, \"normalized_flux\": 76.21163173492, \"relative_error\": 343.0908821797675, \"symm_relative_error\": 126.34750220910598}, {\"BiGG_ID\": \"ICDHyr\", \"author\": \"Khodayari\", \"sample_id\": \"eda\", \"flux\": 83.63957140677235, \"normalized_flux\": 75.99189383347634, \"relative_error\": 324.53571974009134, \"symm_relative_error\": 123.74208562989745}, {\"BiGG_ID\": \"ICDHyr\", \"author\": \"Khodayari\", \"sample_id\": \"edd\", \"flux\": 83.75673404418797, \"normalized_flux\": 76.3472041541737, \"relative_error\": 386.2879245488771, \"symm_relative_error\": 131.77413634985191}, {\"BiGG_ID\": \"ICDHyr\", \"author\": \"Khodayari\", \"sample_id\": \"fbaA\", \"flux\": 80.70535587698402, \"normalized_flux\": 80.57258699892115, \"relative_error\": null, \"symm_relative_error\": null}, {\"BiGG_ID\": \"ICDHyr\", \"author\": \"Khodayari\", \"sample_id\": \"fbaB\", \"flux\": 80.70535587698402, \"normalized_flux\": 80.57258699892115, \"relative_error\": 419.82314192852357, \"symm_relative_error\": 135.4654621711225}, {\"BiGG_ID\": \"ICDHyr\", \"author\": \"Khodayari\", \"sample_id\": \"fbp\", \"flux\": 83.80871935950219, \"normalized_flux\": 76.47589082778566, \"relative_error\": 427.41993674334935, \"symm_relative_error\": 136.2468457607169}, {\"BiGG_ID\": \"ICDHyr\", \"author\": \"Khodayari\", \"sample_id\": \"glk\", \"flux\": null, \"normalized_flux\": null, \"relative_error\": null, \"symm_relative_error\": null}, {\"BiGG_ID\": \"ICDHyr\", \"author\": \"Khodayari\", \"sample_id\": \"gnd\", \"flux\": 8.540603491555803, \"normalized_flux\": 88.36974072459593, \"relative_error\": 339.65045136614884, \"symm_relative_error\": 125.87794580966577}, {\"BiGG_ID\": \"ICDHyr\", \"author\": \"Khodayari\", \"sample_id\": \"gpmA\", \"flux\": null, \"normalized_flux\": null, \"relative_error\": null, \"symm_relative_error\": null}, {\"BiGG_ID\": \"ICDHyr\", \"author\": \"Khodayari\", \"sample_id\": \"pfkA\", \"flux\": 79.04325412813961, \"normalized_flux\": 86.24033049419774, \"relative_error\": 96.00075112317667, \"symm_relative_error\": 64.86520777998112}, {\"BiGG_ID\": \"ICDHyr\", \"author\": \"Khodayari\", \"sample_id\": \"pfkB\", \"flux\": 79.04325412813961, \"normalized_flux\": 86.24033049419774, \"relative_error\": 498.8911839874842, \"symm_relative_error\": 142.76648365803922}, {\"BiGG_ID\": \"ICDHyr\", \"author\": \"Khodayari\", \"sample_id\": \"pgi\", \"flux\": 2.9609956911725908, \"normalized_flux\": 45.35345930821061, \"relative_error\": 228.64825585659864, \"symm_relative_error\": 106.68339494333149}, {\"BiGG_ID\": \"ICDHyr\", \"author\": \"Khodayari\", \"sample_id\": \"pgl\", \"flux\": 80.50292853201759, \"normalized_flux\": 80.45201561919615, \"relative_error\": 399.7019603676779, \"symm_relative_error\": 133.3002013608961}, {\"BiGG_ID\": \"ICDHyr\", \"author\": \"Khodayari\", \"sample_id\": \"pgm\", \"flux\": null, \"normalized_flux\": null, \"relative_error\": null, \"symm_relative_error\": null}, {\"BiGG_ID\": \"ICDHyr\", \"author\": \"Khodayari\", \"sample_id\": \"ppc\", \"flux\": null, \"normalized_flux\": null, \"relative_error\": null, \"symm_relative_error\": null}, {\"BiGG_ID\": \"ICDHyr\", \"author\": \"Khodayari\", \"sample_id\": \"ppsA\", \"flux\": 80.25655384207658, \"normalized_flux\": 86.00966217585099, \"relative_error\": null, \"symm_relative_error\": null}, {\"BiGG_ID\": \"ICDHyr\", \"author\": \"Khodayari\", \"sample_id\": \"pts\", \"flux\": null, \"normalized_flux\": null, \"relative_error\": null, \"symm_relative_error\": null}, {\"BiGG_ID\": \"ICDHyr\", \"author\": \"Khodayari\", \"sample_id\": \"pykA\", \"flux\": 80.26691171677345, \"normalized_flux\": 76.14586988824793, \"relative_error\": null, \"symm_relative_error\": null}, {\"BiGG_ID\": \"ICDHyr\", \"author\": \"Khodayari\", \"sample_id\": \"pykF\", \"flux\": 79.70455731887472, \"normalized_flux\": 71.5663821684219, \"relative_error\": null, \"symm_relative_error\": null}, {\"BiGG_ID\": \"ICDHyr\", \"author\": \"Khodayari\", \"sample_id\": \"rpe\", \"flux\": 81.14564554081684, \"normalized_flux\": 81.14784855548125, \"relative_error\": 180.7884033061635, \"symm_relative_error\": 94.95478419851199}, {\"BiGG_ID\": \"ICDHyr\", \"author\": \"Khodayari\", \"sample_id\": \"rpiA\", \"flux\": 7.784766502300302, \"normalized_flux\": 82.25174099479439, \"relative_error\": null, \"symm_relative_error\": null}, {\"BiGG_ID\": \"ICDHyr\", \"author\": \"Khodayari\", \"sample_id\": \"rpiB\", \"flux\": 7.784766502300302, \"normalized_flux\": 82.25174099479439, \"relative_error\": 722.5174099479439, \"symm_relative_error\": 156.6403847031384}, {\"BiGG_ID\": \"ICDHyr\", \"author\": \"Khodayari\", \"sample_id\": \"sdhCD\", \"flux\": null, \"normalized_flux\": null, \"relative_error\": null, \"symm_relative_error\": null}, {\"BiGG_ID\": \"ICDHyr\", \"author\": \"Khodayari\", \"sample_id\": \"sucA\", \"flux\": 15.302235786887291, \"normalized_flux\": 33.62769728419963, \"relative_error\": null, \"symm_relative_error\": null}, {\"BiGG_ID\": \"ICDHyr\", \"author\": \"Khodayari\", \"sample_id\": \"sucAB\", \"flux\": null, \"normalized_flux\": null, \"relative_error\": null, \"symm_relative_error\": null}, {\"BiGG_ID\": \"ICDHyr\", \"author\": \"Khodayari\", \"sample_id\": \"talA\", \"flux\": 80.73735923444005, \"normalized_flux\": 80.73996727645093, \"relative_error\": 427.71220442124786, \"symm_relative_error\": 136.27652972450952}, {\"BiGG_ID\": \"ICDHyr\", \"author\": \"Khodayari\", \"sample_id\": \"talAB\", \"flux\": null, \"normalized_flux\": null, \"relative_error\": null, \"symm_relative_error\": null}, {\"BiGG_ID\": \"ICDHyr\", \"author\": \"Khodayari\", \"sample_id\": \"talB\", \"flux\": null, \"normalized_flux\": null, \"relative_error\": null, \"symm_relative_error\": null}, {\"BiGG_ID\": \"ICDHyr\", \"author\": \"Khodayari\", \"sample_id\": \"tkt1\", \"flux\": null, \"normalized_flux\": null, \"relative_error\": null, \"symm_relative_error\": null}, {\"BiGG_ID\": \"ICDHyr\", \"author\": \"Khodayari\", \"sample_id\": \"tkt2\", \"flux\": null, \"normalized_flux\": null, \"relative_error\": null, \"symm_relative_error\": null}, {\"BiGG_ID\": \"ICDHyr\", \"author\": \"Khodayari\", \"sample_id\": \"tktA\", \"flux\": 80.70066051990736, \"normalized_flux\": 80.6822214256403, \"relative_error\": 253.8693922177206, \"symm_relative_error\": 111.86891937226723}, {\"BiGG_ID\": \"ICDHyr\", \"author\": \"Khodayari\", \"sample_id\": \"tktB\", \"flux\": 80.70066051990736, \"normalized_flux\": 80.6822214256403, \"relative_error\": 417.19372708743776, \"symm_relative_error\": 135.1905273101825}, {\"BiGG_ID\": \"ICDHyr\", \"author\": \"Khodayari\", \"sample_id\": \"tpi\", \"flux\": 1.9362734318392962, \"normalized_flux\": 88.24726709553198, \"relative_error\": null, \"symm_relative_error\": null}, {\"BiGG_ID\": \"ICDHyr\", \"author\": \"Khodayari\", \"sample_id\": \"tpiA\", \"flux\": null, \"normalized_flux\": null, \"relative_error\": null, \"symm_relative_error\": null}, {\"BiGG_ID\": \"ICDHyr\", \"author\": \"Khodayari\", \"sample_id\": \"zwf\", \"flux\": 4.012771289631, \"normalized_flux\": 90.53258296767181, \"relative_error\": 389.36531333876655, \"symm_relative_error\": 132.13037975818565}, {\"BiGG_ID\": \"ICL\", \"author\": \"Khodayari\", \"sample_id\": \"WT\", \"flux\": 13.32606435445831, \"normalized_flux\": 12.131922617947772, \"relative_error\": 100.0, \"symm_relative_error\": 200.0}, {\"BiGG_ID\": \"ICL\", \"author\": \"Khodayari\", \"sample_id\": \"eda\", \"flux\": 13.326214720321133, \"normalized_flux\": 12.107717402133357, \"relative_error\": 2926.929350533339, \"symm_relative_error\": 187.2078977437794}, {\"BiGG_ID\": \"ICL\", \"author\": \"Khodayari\", \"sample_id\": \"edd\", \"flux\": 13.325987046052347, \"normalized_flux\": 12.147105127380884, \"relative_error\": 100.0, \"symm_relative_error\": 200.0}, {\"BiGG_ID\": \"ICL\", \"author\": \"Khodayari\", \"sample_id\": \"fbaA\", \"flux\": 13.49759762016626, \"normalized_flux\": 13.475392639182038, \"relative_error\": null, \"symm_relative_error\": null}, {\"BiGG_ID\": \"ICL\", \"author\": \"Khodayari\", \"sample_id\": \"fbaB\", \"flux\": 13.49759762016626, \"normalized_flux\": 13.475392639182038, \"relative_error\": 6637.696319591019, \"symm_relative_error\": 194.15007655642825}, {\"BiGG_ID\": \"ICL\", \"author\": \"Khodayari\", \"sample_id\": \"fbp\", \"flux\": 13.329054868413976, \"normalized_flux\": 12.162831656952395, \"relative_error\": 5981.415828476198, \"symm_relative_error\": 193.52899058889872}, {\"BiGG_ID\": \"ICL\", \"author\": \"Khodayari\", \"sample_id\": \"glk\", \"flux\": null, \"normalized_flux\": null, \"relative_error\": null, \"symm_relative_error\": null}, {\"BiGG_ID\": \"ICL\", \"author\": \"Khodayari\", \"sample_id\": \"gnd\", \"flux\": 0.9166612961739187, \"normalized_flux\": 9.484706924428933, \"relative_error\": 100.0, \"symm_relative_error\": 200.0}, {\"BiGG_ID\": \"ICL\", \"author\": \"Khodayari\", \"sample_id\": \"gpmA\", \"flux\": null, \"normalized_flux\": null, \"relative_error\": null, \"symm_relative_error\": null}, {\"BiGG_ID\": \"ICL\", \"author\": \"Khodayari\", \"sample_id\": \"pfkA\", \"flux\": 12.539448431821086, \"normalized_flux\": 13.681195048246584, \"relative_error\": 100.0, \"symm_relative_error\": 200.0}, {\"BiGG_ID\": \"ICL\", \"author\": \"Khodayari\", \"sample_id\": \"pfkB\", \"flux\": 12.539448431821086, \"normalized_flux\": 13.681195048246584, \"relative_error\": 3320.2987620616454, \"symm_relative_error\": 188.63732804980046}, {\"BiGG_ID\": \"ICL\", \"author\": \"Khodayari\", \"sample_id\": \"pgi\", \"flux\": 0.8893955339526007, \"normalized_flux\": 13.622837844133947, \"relative_error\": 49.91603733774284, \"symm_relative_error\": 66.51748321714007}, {\"BiGG_ID\": \"ICL\", \"author\": \"Khodayari\", \"sample_id\": \"pgl\", \"flux\": 13.279048833602076, \"normalized_flux\": 13.270650691224585, \"relative_error\": 100.0, \"symm_relative_error\": 200.0}, {\"BiGG_ID\": \"ICL\", \"author\": \"Khodayari\", \"sample_id\": \"pgm\", \"flux\": null, \"normalized_flux\": null, \"relative_error\": null, \"symm_relative_error\": null}, {\"BiGG_ID\": \"ICL\", \"author\": \"Khodayari\", \"sample_id\": \"ppc\", \"flux\": null, \"normalized_flux\": null, \"relative_error\": null, \"symm_relative_error\": null}, {\"BiGG_ID\": \"ICL\", \"author\": \"Khodayari\", \"sample_id\": \"ppsA\", \"flux\": 13.209417439600543, \"normalized_flux\": 14.156320912500824, \"relative_error\": null, \"symm_relative_error\": null}, {\"BiGG_ID\": \"ICL\", \"author\": \"Khodayari\", \"sample_id\": \"pts\", \"flux\": null, \"normalized_flux\": null, \"relative_error\": null, \"symm_relative_error\": null}, {\"BiGG_ID\": \"ICL\", \"author\": \"Khodayari\", \"sample_id\": \"pykA\", \"flux\": 13.667616826358739, \"normalized_flux\": 12.965897781325227, \"relative_error\": null, \"symm_relative_error\": null}, {\"BiGG_ID\": \"ICL\", \"author\": \"Khodayari\", \"sample_id\": \"pykF\", \"flux\": 13.919988126931287, \"normalized_flux\": 12.498697986444375, \"relative_error\": null, \"symm_relative_error\": null}, {\"BiGG_ID\": \"ICL\", \"author\": \"Khodayari\", \"sample_id\": \"rpe\", \"flux\": 13.39954405028945, \"normalized_flux\": 13.399907833112824, \"relative_error\": 135.0861023353127, \"symm_relative_error\": 80.62769622127465}, {\"BiGG_ID\": \"ICL\", \"author\": \"Khodayari\", \"sample_id\": \"rpiA\", \"flux\": 0.9666543401893106, \"normalized_flux\": 10.21340876405877, \"relative_error\": null, \"symm_relative_error\": null}, {\"BiGG_ID\": \"ICL\", \"author\": \"Khodayari\", \"sample_id\": \"rpiB\", \"flux\": 0.9666543401893106, \"normalized_flux\": 10.21340876405877, \"relative_error\": 2453.352191014692, \"symm_relative_error\": 184.92473025802758}, {\"BiGG_ID\": \"ICL\", \"author\": \"Khodayari\", \"sample_id\": \"sdhCD\", \"flux\": null, \"normalized_flux\": null, \"relative_error\": null, \"symm_relative_error\": null}, {\"BiGG_ID\": \"ICL\", \"author\": \"Khodayari\", \"sample_id\": \"sucA\", \"flux\": 1.2092534234718035, \"normalized_flux\": 2.6574161208022815, \"relative_error\": null, \"symm_relative_error\": null}, {\"BiGG_ID\": \"ICL\", \"author\": \"Khodayari\", \"sample_id\": \"sucAB\", \"flux\": null, \"normalized_flux\": null, \"relative_error\": null, \"symm_relative_error\": null}, {\"BiGG_ID\": \"ICL\", \"author\": \"Khodayari\", \"sample_id\": \"talA\", \"flux\": 13.471266487623666, \"normalized_flux\": 13.471701647124455, \"relative_error\": 2594.340329424891, \"symm_relative_error\": 185.6853513586756}, {\"BiGG_ID\": \"ICL\", \"author\": \"Khodayari\", \"sample_id\": \"talAB\", \"flux\": null, \"normalized_flux\": null, \"relative_error\": null, \"symm_relative_error\": null}, {\"BiGG_ID\": \"ICL\", \"author\": \"Khodayari\", \"sample_id\": \"talB\", \"flux\": null, \"normalized_flux\": null, \"relative_error\": null, \"symm_relative_error\": null}, {\"BiGG_ID\": \"ICL\", \"author\": \"Khodayari\", \"sample_id\": \"tkt1\", \"flux\": null, \"normalized_flux\": null, \"relative_error\": null, \"symm_relative_error\": null}, {\"BiGG_ID\": \"ICL\", \"author\": \"Khodayari\", \"sample_id\": \"tkt2\", \"flux\": null, \"normalized_flux\": null, \"relative_error\": null, \"symm_relative_error\": null}, {\"BiGG_ID\": \"ICL\", \"author\": \"Khodayari\", \"sample_id\": \"tktA\", \"flux\": 13.494921338448023, \"normalized_flux\": 13.49183791725812, \"relative_error\": 100.0, \"symm_relative_error\": 199.99999999999997}, {\"BiGG_ID\": \"ICL\", \"author\": \"Khodayari\", \"sample_id\": \"tktB\", \"flux\": 13.494921338448023, \"normalized_flux\": 13.49183791725812, \"relative_error\": 100.0, \"symm_relative_error\": 199.99999999999997}, {\"BiGG_ID\": \"ICL\", \"author\": \"Khodayari\", \"sample_id\": \"tpi\", \"flux\": 0.40879653295106566, \"normalized_flux\": 18.631240938317145, \"relative_error\": null, \"symm_relative_error\": null}, {\"BiGG_ID\": \"ICL\", \"author\": \"Khodayari\", \"sample_id\": \"tpiA\", \"flux\": null, \"normalized_flux\": null, \"relative_error\": null, \"symm_relative_error\": null}, {\"BiGG_ID\": \"ICL\", \"author\": \"Khodayari\", \"sample_id\": \"zwf\", \"flux\": 0.46205703457313696, \"normalized_flux\": 10.424520561732681, \"relative_error\": 100.0, \"symm_relative_error\": 200.0}, {\"BiGG_ID\": \"MALS\", \"author\": \"Khodayari\", \"sample_id\": \"WT\", \"flux\": 13.354546831133288, \"normalized_flux\": 12.157852794614877, \"relative_error\": 100.0, \"symm_relative_error\": 200.0}, {\"BiGG_ID\": \"MALS\", \"author\": \"Khodayari\", \"sample_id\": \"eda\", \"flux\": 13.35458237169238, \"normalized_flux\": 12.133491225636408, \"relative_error\": 2933.372806409102, \"symm_relative_error\": 187.23420337401834}, {\"BiGG_ID\": \"MALS\", \"author\": \"Khodayari\", \"sample_id\": \"edd\", \"flux\": 13.3549649802541, \"normalized_flux\": 12.173519531950436, \"relative_error\": 100.0, \"symm_relative_error\": 200.00000000000003}, {\"BiGG_ID\": \"MALS\", \"author\": \"Khodayari\", \"sample_id\": \"fbaA\", \"flux\": 13.48901551943121, \"normalized_flux\": 13.466824656913769, \"relative_error\": null, \"symm_relative_error\": null}, {\"BiGG_ID\": \"MALS\", \"author\": \"Khodayari\", \"sample_id\": \"fbaB\", \"flux\": 13.48901551943121, \"normalized_flux\": 13.466824656913769, \"relative_error\": 6633.412328456885, \"symm_relative_error\": 194.14640913245861}, {\"BiGG_ID\": \"MALS\", \"author\": \"Khodayari\", \"sample_id\": \"fbp\", \"flux\": 13.3596906128568, \"normalized_flux\": 12.190786932553102, \"relative_error\": 5995.393466276551, \"symm_relative_error\": 193.54359005320126}, {\"BiGG_ID\": \"MALS\", \"author\": \"Khodayari\", \"sample_id\": \"glk\", \"flux\": null, \"normalized_flux\": null, \"relative_error\": null, \"symm_relative_error\": null}, {\"BiGG_ID\": \"MALS\", \"author\": \"Khodayari\", \"sample_id\": \"gnd\", \"flux\": 0.8855210732964185, \"normalized_flux\": 9.16249861391415, \"relative_error\": 100.0, \"symm_relative_error\": 200.0}, {\"BiGG_ID\": \"MALS\", \"author\": \"Khodayari\", \"sample_id\": \"gpmA\", \"flux\": null, \"normalized_flux\": null, \"relative_error\": null, \"symm_relative_error\": null}, {\"BiGG_ID\": \"MALS\", \"author\": \"Khodayari\", \"sample_id\": \"pfkA\", \"flux\": 12.924301040655246, \"normalized_flux\": 14.101089402843968, \"relative_error\": 100.0, \"symm_relative_error\": 200.0}, {\"BiGG_ID\": \"MALS\", \"author\": \"Khodayari\", \"sample_id\": \"pfkB\", \"flux\": 12.924301040655246, \"normalized_flux\": 14.101089402843968, \"relative_error\": 3425.272350710992, \"symm_relative_error\": 188.9663462133665}, {\"BiGG_ID\": \"MALS\", \"author\": \"Khodayari\", \"sample_id\": \"pgi\", \"flux\": 0.7135854614732029, \"normalized_flux\": 10.929961595803343, \"relative_error\": 59.816317662487705, \"symm_relative_error\": 85.33991498164723}, {\"BiGG_ID\": \"MALS\", \"author\": \"Khodayari\", \"sample_id\": \"pgl\", \"flux\": 13.474193095887534, \"normalized_flux\": 13.465671537343766, \"relative_error\": 100.0, \"symm_relative_error\": 200.0}, {\"BiGG_ID\": \"MALS\", \"author\": \"Khodayari\", \"sample_id\": \"pgm\", \"flux\": null, \"normalized_flux\": null, \"relative_error\": null, \"symm_relative_error\": null}, {\"BiGG_ID\": \"MALS\", \"author\": \"Khodayari\", \"sample_id\": \"ppc\", \"flux\": null, \"normalized_flux\": null, \"relative_error\": null, \"symm_relative_error\": null}, {\"BiGG_ID\": \"MALS\", \"author\": \"Khodayari\", \"sample_id\": \"ppsA\", \"flux\": 13.090571762805508, \"normalized_flux\": 14.02895590587077, \"relative_error\": null, \"symm_relative_error\": null}, {\"BiGG_ID\": \"MALS\", \"author\": \"Khodayari\", \"sample_id\": \"pts\", \"flux\": null, \"normalized_flux\": null, \"relative_error\": null, \"symm_relative_error\": null}, {\"BiGG_ID\": \"MALS\", \"author\": \"Khodayari\", \"sample_id\": \"pykA\", \"flux\": 13.690895032744342, \"normalized_flux\": 12.987980844405122, \"relative_error\": null, \"symm_relative_error\": null}, {\"BiGG_ID\": \"MALS\", \"author\": \"Khodayari\", \"sample_id\": \"pykF\", \"flux\": 13.961277329825482, \"normalized_flux\": 12.535771385672147, \"relative_error\": null, \"symm_relative_error\": null}, {\"BiGG_ID\": \"MALS\", \"author\": \"Khodayari\", \"sample_id\": \"rpe\", \"flux\": 13.473738378413646, \"normalized_flux\": 13.47410417553109, \"relative_error\": 136.387792553177, \"symm_relative_error\": 81.08962071304445}, {\"BiGG_ID\": \"MALS\", \"author\": \"Khodayari\", \"sample_id\": \"rpiA\", \"flux\": 0.9568788540465025, \"normalized_flux\": 10.110123616831956, \"relative_error\": null, \"symm_relative_error\": null}, {\"BiGG_ID\": \"MALS\", \"author\": \"Khodayari\", \"sample_id\": \"rpiB\", \"flux\": 0.9568788540465025, \"normalized_flux\": 10.110123616831956, \"relative_error\": 2427.5309042079884, \"symm_relative_error\": 184.77658248055616}, {\"BiGG_ID\": \"MALS\", \"author\": \"Khodayari\", \"sample_id\": \"sdhCD\", \"flux\": null, \"normalized_flux\": null, \"relative_error\": null, \"symm_relative_error\": null}, {\"BiGG_ID\": \"MALS\", \"author\": \"Khodayari\", \"sample_id\": \"sucA\", \"flux\": 1.1784135816976509, \"normalized_flux\": 2.5896434843119653, \"relative_error\": null, \"symm_relative_error\": null}, {\"BiGG_ID\": \"MALS\", \"author\": \"Khodayari\", \"sample_id\": \"sucAB\", \"flux\": null, \"normalized_flux\": null, \"relative_error\": null, \"symm_relative_error\": null}, {\"BiGG_ID\": \"MALS\", \"author\": \"Khodayari\", \"sample_id\": \"talA\", \"flux\": 13.473051467936257, \"normalized_flux\": 13.47348668509689, \"relative_error\": 2594.697337019378, \"symm_relative_error\": 185.687179978258}, {\"BiGG_ID\": \"MALS\", \"author\": \"Khodayari\", \"sample_id\": \"talAB\", \"flux\": null, \"normalized_flux\": null, \"relative_error\": null, \"symm_relative_error\": null}, {\"BiGG_ID\": \"MALS\", \"author\": \"Khodayari\", \"sample_id\": \"talB\", \"flux\": null, \"normalized_flux\": null, \"relative_error\": null, \"symm_relative_error\": null}, {\"BiGG_ID\": \"MALS\", \"author\": \"Khodayari\", \"sample_id\": \"tkt1\", \"flux\": null, \"normalized_flux\": null, \"relative_error\": null, \"symm_relative_error\": null}, {\"BiGG_ID\": \"MALS\", \"author\": \"Khodayari\", \"sample_id\": \"tkt2\", \"flux\": null, \"normalized_flux\": null, \"relative_error\": null, \"symm_relative_error\": null}, {\"BiGG_ID\": \"MALS\", \"author\": \"Khodayari\", \"sample_id\": \"tktA\", \"flux\": 13.492176066806262, \"normalized_flux\": 13.489093272876685, \"relative_error\": 100.0, \"symm_relative_error\": 200.0}, {\"BiGG_ID\": \"MALS\", \"author\": \"Khodayari\", \"sample_id\": \"tktB\", \"flux\": 13.492176066806262, \"normalized_flux\": 13.489093272876685, \"relative_error\": 100.0, \"symm_relative_error\": 200.0}, {\"BiGG_ID\": \"MALS\", \"author\": \"Khodayari\", \"sample_id\": \"tpi\", \"flux\": 0.253709522579296, \"normalized_flux\": 11.563021851963963, \"relative_error\": null, \"symm_relative_error\": null}, {\"BiGG_ID\": \"MALS\", \"author\": \"Khodayari\", \"sample_id\": \"tpiA\", \"flux\": null, \"normalized_flux\": null, \"relative_error\": null, \"symm_relative_error\": null}, {\"BiGG_ID\": \"MALS\", \"author\": \"Khodayari\", \"sample_id\": \"zwf\", \"flux\": 0.42841699504855946, \"normalized_flux\": 9.665563858378022, \"relative_error\": 100.0, \"symm_relative_error\": 200.0}, {\"BiGG_ID\": \"MDH\", \"author\": \"Khodayari\", \"sample_id\": \"WT\", \"flux\": 96.65128973687752, \"normalized_flux\": 87.99041763747442, \"relative_error\": 762.6511533085728, \"symm_relative_error\": 158.44808385413296}, {\"BiGG_ID\": \"MDH\", \"author\": \"Khodayari\", \"sample_id\": \"eda\", \"flux\": 96.58694806846688, \"normalized_flux\": 87.75541265774729, \"relative_error\": 625.2513442789033, \"symm_relative_error\": 151.52991839722284}, {\"BiGG_ID\": \"MDH\", \"author\": \"Khodayari\", \"sample_id\": \"edd\", \"flux\": 96.67058556296251, \"normalized_flux\": 88.11863327652237, \"relative_error\": 808.4395183146636, \"symm_relative_error\": 160.33475555693286}, {\"BiGG_ID\": \"MDH\", \"author\": \"Khodayari\", \"sample_id\": \"fbaA\", \"flux\": 90.15488730493234, \"normalized_flux\": 90.0065729445124, \"relative_error\": null, \"symm_relative_error\": null}, {\"BiGG_ID\": \"MDH\", \"author\": \"Khodayari\", \"sample_id\": \"fbaB\", \"flux\": 90.15488730493234, \"normalized_flux\": 90.0065729445124, \"relative_error\": 809.1573024698221, \"symm_relative_error\": 160.36296828838914}, {\"BiGG_ID\": \"MDH\", \"author\": \"Khodayari\", \"sample_id\": \"fbp\", \"flux\": 96.69370337459986, \"normalized_flux\": 88.2335055293, \"relative_error\": 880.3722836588889, \"symm_relative_error\": 162.97572549294554}, {\"BiGG_ID\": \"MDH\", \"author\": \"Khodayari\", \"sample_id\": \"glk\", \"flux\": null, \"normalized_flux\": null, \"relative_error\": null, \"symm_relative_error\": null}, {\"BiGG_ID\": \"MDH\", \"author\": \"Khodayari\", \"sample_id\": \"gnd\", \"flux\": 13.31490534004979, \"normalized_flux\": 137.769507018572, \"relative_error\": 935.8609550268571, \"symm_relative_error\": 164.78442205185738}, {\"BiGG_ID\": \"MDH\", \"author\": \"Khodayari\", \"sample_id\": \"gpmA\", \"flux\": null, \"normalized_flux\": null, \"relative_error\": null, \"symm_relative_error\": null}, {\"BiGG_ID\": \"MDH\", \"author\": \"Khodayari\", \"sample_id\": \"pfkA\", \"flux\": 83.52397217384714, \"normalized_flux\": 91.12902857951059, \"relative_error\": 153.84130523540557, \"symm_relative_error\": 86.95497272883793}, {\"BiGG_ID\": \"MDH\", \"author\": \"Khodayari\", \"sample_id\": \"pfkB\", \"flux\": 83.52397217384714, \"normalized_flux\": 91.12902857951059, \"relative_error\": 1183.5074447818395, \"symm_relative_error\": 171.08797632360594}, {\"BiGG_ID\": \"MDH\", \"author\": \"Khodayari\", \"sample_id\": \"pgi\", \"flux\": 3.3327089777735637, \"normalized_flux\": 51.04697769745969, \"relative_error\": 10.757031997448102, \"symm_relative_error\": 11.368487940120495}, {\"BiGG_ID\": \"MDH\", \"author\": \"Khodayari\", \"sample_id\": \"pgl\", \"flux\": 89.21930564508875, \"normalized_flux\": 89.16288018562871, \"relative_error\": 725.5822239410065, \"symm_relative_error\": 156.78395828553698}, {\"BiGG_ID\": \"MDH\", \"author\": \"Khodayari\", \"sample_id\": \"pgm\", \"flux\": null, \"normalized_flux\": null, \"relative_error\": null, \"symm_relative_error\": null}, {\"BiGG_ID\": \"MDH\", \"author\": \"Khodayari\", \"sample_id\": \"ppc\", \"flux\": null, \"normalized_flux\": null, \"relative_error\": null, \"symm_relative_error\": null}, {\"BiGG_ID\": \"MDH\", \"author\": \"Khodayari\", \"sample_id\": \"ppsA\", \"flux\": 85.86239072923127, \"normalized_flux\": 92.01734770176894, \"relative_error\": null, \"symm_relative_error\": null}, {\"BiGG_ID\": \"MDH\", \"author\": \"Khodayari\", \"sample_id\": \"pts\", \"flux\": null, \"normalized_flux\": null, \"relative_error\": null, \"symm_relative_error\": null}, {\"BiGG_ID\": \"MDH\", \"author\": \"Khodayari\", \"sample_id\": \"pykA\", \"flux\": 91.86841447906409, \"normalized_flux\": 87.15173146870444, \"relative_error\": null, \"symm_relative_error\": null}, {\"BiGG_ID\": \"MDH\", \"author\": \"Khodayari\", \"sample_id\": \"pykF\", \"flux\": 93.57557198219729, \"normalized_flux\": 84.02110709070746, \"relative_error\": null, \"symm_relative_error\": null}, {\"BiGG_ID\": \"MDH\", \"author\": \"Khodayari\", \"sample_id\": \"rpe\", \"flux\": 89.77331931840672, \"normalized_flux\": 89.77575656488635, \"relative_error\": 191.47972910677387, \"symm_relative_error\": 97.8235729056351}, {\"BiGG_ID\": \"MDH\", \"author\": \"Khodayari\", \"sample_id\": \"rpiA\", \"flux\": 12.003560212016396, \"normalized_flux\": 126.8263762673489, \"relative_error\": null, \"symm_relative_error\": null}, {\"BiGG_ID\": \"MDH\", \"author\": \"Khodayari\", \"sample_id\": \"rpiB\", \"flux\": 12.003560212016396, \"normalized_flux\": 126.8263762673489, \"relative_error\": 2849.4506108685796, \"symm_relative_error\": 186.88288314707063}, {\"BiGG_ID\": \"MDH\", \"author\": \"Khodayari\", \"sample_id\": \"sdhCD\", \"flux\": null, \"normalized_flux\": null, \"relative_error\": null, \"symm_relative_error\": null}, {\"BiGG_ID\": \"MDH\", \"author\": \"Khodayari\", \"sample_id\": \"sucA\", \"flux\": 18.70383676822985, \"normalized_flux\": 41.10294532476666, \"relative_error\": null, \"symm_relative_error\": null}, {\"BiGG_ID\": \"MDH\", \"author\": \"Khodayari\", \"sample_id\": \"sucAB\", \"flux\": null, \"normalized_flux\": null, \"relative_error\": null, \"symm_relative_error\": null}, {\"BiGG_ID\": \"MDH\", \"author\": \"Khodayari\", \"sample_id\": \"talA\", \"flux\": 89.6091277127889, \"normalized_flux\": 89.6120223376794, \"relative_error\": 787.247745917618, \"symm_relative_error\": 159.4833210150091}, {\"BiGG_ID\": \"MDH\", \"author\": \"Khodayari\", \"sample_id\": \"talAB\", \"flux\": null, \"normalized_flux\": null, \"relative_error\": null, \"symm_relative_error\": null}, {\"BiGG_ID\": \"MDH\", \"author\": \"Khodayari\", \"sample_id\": \"talB\", \"flux\": null, \"normalized_flux\": null, \"relative_error\": null, \"symm_relative_error\": null}, {\"BiGG_ID\": \"MDH\", \"author\": \"Khodayari\", \"sample_id\": \"tkt1\", \"flux\": null, \"normalized_flux\": null, \"relative_error\": null, \"symm_relative_error\": null}, {\"BiGG_ID\": \"MDH\", \"author\": \"Khodayari\", \"sample_id\": \"tkt2\", \"flux\": null, \"normalized_flux\": null, \"relative_error\": null, \"symm_relative_error\": null}, {\"BiGG_ID\": \"MDH\", \"author\": \"Khodayari\", \"sample_id\": \"tktA\", \"flux\": 90.01942569046878, \"normalized_flux\": 89.99885737460271, \"relative_error\": 484.4081647701474, \"symm_relative_error\": 141.55534363995545}, {\"BiGG_ID\": \"MDH\", \"author\": \"Khodayari\", \"sample_id\": \"tktB\", \"flux\": 90.01942569046878, \"normalized_flux\": 89.99885737460271, \"relative_error\": 818.3556874959459, \"symm_relative_error\": 160.7209931744411}, {\"BiGG_ID\": \"MDH\", \"author\": \"Khodayari\", \"sample_id\": \"tpi\", \"flux\": 2.749596325979155, \"normalized_flux\": 125.31513235353556, \"relative_error\": null, \"symm_relative_error\": null}, {\"BiGG_ID\": \"MDH\", \"author\": \"Khodayari\", \"sample_id\": \"tpiA\", \"flux\": null, \"normalized_flux\": null, \"relative_error\": null, \"symm_relative_error\": null}, {\"BiGG_ID\": \"MDH\", \"author\": \"Khodayari\", \"sample_id\": \"zwf\", \"flux\": 6.1481240601520994, \"normalized_flux\": 138.70851623403703, \"relative_error\": 1612.4508177041612, \"symm_relative_error\": 177.9304356238101}, {\"BiGG_ID\": \"PDH\", \"author\": \"Khodayari\", \"sample_id\": \"WT\", \"flux\": 127.82654868886297, \"normalized_flux\": 116.37207775405918, \"relative_error\": 8.758951172017921, \"symm_relative_error\": 8.391449681887435}, {\"BiGG_ID\": \"PDH\", \"author\": \"Khodayari\", \"sample_id\": \"eda\", \"flux\": 127.8045486428929, \"normalized_flux\": 116.11859707736002, \"relative_error\": 0.18860834974979818, \"symm_relative_error\": 0.18843065177842713}, {\"BiGG_ID\": \"PDH\", \"author\": \"Khodayari\", \"sample_id\": \"edd\", \"flux\": 127.83854471618855, \"normalized_flux\": 116.5293224908951, \"relative_error\": 8.601418910433459, \"symm_relative_error\": 8.246750147108656}, {\"BiGG_ID\": \"PDH\", \"author\": \"Khodayari\", \"sample_id\": \"fbaA\", \"flux\": 125.05397442153739, \"normalized_flux\": 124.84824735793883, \"relative_error\": null, \"symm_relative_error\": null}, {\"BiGG_ID\": \"PDH\", \"author\": \"Khodayari\", \"sample_id\": \"fbaB\", \"flux\": 125.05397442153739, \"normalized_flux\": 124.84824735793883, \"relative_error\": 12.780711253783947, \"symm_relative_error\": 12.013035559920061}, {\"BiGG_ID\": \"PDH\", \"author\": \"Khodayari\", \"sample_id\": \"fbp\", \"flux\": 127.96756141354963, \"normalized_flux\": 116.77106309405737, \"relative_error\": 8.826713041991958, \"symm_relative_error\": 8.453624455810916}, {\"BiGG_ID\": \"PDH\", \"author\": \"Khodayari\", \"sample_id\": \"glk\", \"flux\": null, \"normalized_flux\": null, \"relative_error\": null, \"symm_relative_error\": null}, {\"BiGG_ID\": \"PDH\", \"author\": \"Khodayari\", \"sample_id\": \"gnd\", \"flux\": 10.438205691940311, \"normalized_flux\": 108.00425655385781, \"relative_error\": 15.753310020391714, \"symm_relative_error\": 17.100236668713265}, {\"BiGG_ID\": \"PDH\", \"author\": \"Khodayari\", \"sample_id\": \"gpmA\", \"flux\": null, \"normalized_flux\": null, \"relative_error\": null, \"symm_relative_error\": null}, {\"BiGG_ID\": \"PDH\", \"author\": \"Khodayari\", \"sample_id\": \"pfkA\", \"flux\": 118.77037497715682, \"normalized_flux\": 129.58470022432104, \"relative_error\": 30.629738129355882, \"symm_relative_error\": 26.561828823806092}, {\"BiGG_ID\": \"PDH\", \"author\": \"Khodayari\", \"sample_id\": \"pfkB\", \"flux\": 118.77037497715682, \"normalized_flux\": 129.58470022432104, \"relative_error\": 20.768592939721383, \"symm_relative_error\": 18.81480754410754}, {\"BiGG_ID\": \"PDH\", \"author\": \"Khodayari\", \"sample_id\": \"pgi\", \"flux\": 7.064870281160282, \"normalized_flux\": 108.21235159835724, \"relative_error\": 20.90765541715893, \"symm_relative_error\": 18.928864531812813}, {\"BiGG_ID\": \"PDH\", \"author\": \"Khodayari\", \"sample_id\": \"pgl\", \"flux\": 124.34893057208066, \"normalized_flux\": 124.27028788942175, \"relative_error\": 0.5837696884625985, \"symm_relative_error\": 0.5854786117966486}, {\"BiGG_ID\": \"PDH\", \"author\": \"Khodayari\", \"sample_id\": \"pgm\", \"flux\": null, \"normalized_flux\": null, \"relative_error\": null, \"symm_relative_error\": null}, {\"BiGG_ID\": \"PDH\", \"author\": \"Khodayari\", \"sample_id\": \"ppc\", \"flux\": null, \"normalized_flux\": null, \"relative_error\": null, \"symm_relative_error\": null}, {\"BiGG_ID\": \"PDH\", \"author\": \"Khodayari\", \"sample_id\": \"ppsA\", \"flux\": 119.61500979588936, \"normalized_flux\": 128.18948847404627, \"relative_error\": null, \"symm_relative_error\": null}, {\"BiGG_ID\": \"PDH\", \"author\": \"Khodayari\", \"sample_id\": \"pts\", \"flux\": null, \"normalized_flux\": null, \"relative_error\": null, \"symm_relative_error\": null}, {\"BiGG_ID\": \"PDH\", \"author\": \"Khodayari\", \"sample_id\": \"pykA\", \"flux\": 125.19299517031853, \"normalized_flux\": 118.7653706523135, \"relative_error\": null, \"symm_relative_error\": null}, {\"BiGG_ID\": \"PDH\", \"author\": \"Khodayari\", \"sample_id\": \"pykF\", \"flux\": 125.5396101214568, \"normalized_flux\": 112.72148064611706, \"relative_error\": null, \"symm_relative_error\": null}, {\"BiGG_ID\": \"PDH\", \"author\": \"Khodayari\", \"sample_id\": \"rpe\", \"flux\": 124.65945982489062, \"normalized_flux\": 124.66284419155899, \"relative_error\": 13.847346293661179, \"symm_relative_error\": 12.950683310931165}, {\"BiGG_ID\": \"PDH\", \"author\": \"Khodayari\", \"sample_id\": \"rpiA\", \"flux\": 11.111116793748351, \"normalized_flux\": 117.39706006753715, \"relative_error\": null, \"symm_relative_error\": null}, {\"BiGG_ID\": \"PDH\", \"author\": \"Khodayari\", \"sample_id\": \"rpiB\", \"flux\": 11.111116793748351, \"normalized_flux\": 117.39706006753715, \"relative_error\": 3.2973146066415575, \"symm_relative_error\": 3.3525872817117013}, {\"BiGG_ID\": \"PDH\", \"author\": \"Khodayari\", \"sample_id\": \"sdhCD\", \"flux\": null, \"normalized_flux\": null, \"relative_error\": null, \"symm_relative_error\": null}, {\"BiGG_ID\": \"PDH\", \"author\": \"Khodayari\", \"sample_id\": \"sucA\", \"flux\": 29.832160294199696, \"normalized_flux\": 65.55818833785796, \"relative_error\": null, \"symm_relative_error\": null}, {\"BiGG_ID\": \"PDH\", \"author\": \"Khodayari\", \"sample_id\": \"sucAB\", \"flux\": null, \"normalized_flux\": null, \"relative_error\": null, \"symm_relative_error\": null}, {\"BiGG_ID\": \"PDH\", \"author\": \"Khodayari\", \"sample_id\": \"talA\", \"flux\": 124.39501123149006, \"normalized_flux\": 124.39902953749254, \"relative_error\": 12.680280378163525, \"symm_relative_error\": 11.924265245105861}, {\"BiGG_ID\": \"PDH\", \"author\": \"Khodayari\", \"sample_id\": \"talAB\", \"flux\": null, \"normalized_flux\": null, \"relative_error\": null, \"symm_relative_error\": null}, {\"BiGG_ID\": \"PDH\", \"author\": \"Khodayari\", \"sample_id\": \"talB\", \"flux\": null, \"normalized_flux\": null, \"relative_error\": null, \"symm_relative_error\": null}, {\"BiGG_ID\": \"PDH\", \"author\": \"Khodayari\", \"sample_id\": \"tkt1\", \"flux\": null, \"normalized_flux\": null, \"relative_error\": null, \"symm_relative_error\": null}, {\"BiGG_ID\": \"PDH\", \"author\": \"Khodayari\", \"sample_id\": \"tkt2\", \"flux\": null, \"normalized_flux\": null, \"relative_error\": null, \"symm_relative_error\": null}, {\"BiGG_ID\": \"PDH\", \"author\": \"Khodayari\", \"sample_id\": \"tktA\", \"flux\": 124.77516997613247, \"normalized_flux\": 124.74666040624102, \"relative_error\": 21.113262530331088, \"symm_relative_error\": 19.09723757744734}, {\"BiGG_ID\": \"PDH\", \"author\": \"Khodayari\", \"sample_id\": \"tktB\", \"flux\": 124.77516997613247, \"normalized_flux\": 124.74666040624102, \"relative_error\": 11.182406779180942, \"symm_relative_error\": 10.590282542687017}, {\"BiGG_ID\": \"PDH\", \"author\": \"Khodayari\", \"sample_id\": \"tpi\", \"flux\": 3.069606207389313, \"normalized_flux\": 139.89984803141692, \"relative_error\": null, \"symm_relative_error\": null}, {\"BiGG_ID\": \"PDH\", \"author\": \"Khodayari\", \"sample_id\": \"tpiA\", \"flux\": null, \"normalized_flux\": null, \"relative_error\": null, \"symm_relative_error\": null}, {\"BiGG_ID\": \"PDH\", \"author\": \"Khodayari\", \"sample_id\": \"zwf\", \"flux\": 5.525177673516737, \"normalized_flux\": 124.65415296189964, \"relative_error\": 8.489254100870005, \"symm_relative_error\": 8.143589114442113}, {\"BiGG_ID\": \"PFK\", \"author\": \"Khodayari\", \"sample_id\": \"WT\", \"flux\": 91.51698678230457, \"normalized_flux\": 83.31619691594982, \"relative_error\": 18.317454003970767, \"symm_relative_error\": 20.164241868749574}, {\"BiGG_ID\": \"PFK\", \"author\": \"Khodayari\", \"sample_id\": \"eda\", \"flux\": 91.85723491048483, \"normalized_flux\": 83.4581661018537, \"relative_error\": 16.206660540307517, \"symm_relative_error\": 17.63574304482539}, {\"BiGG_ID\": \"PFK\", \"author\": \"Khodayari\", \"sample_id\": \"edd\", \"flux\": 91.31488428898582, \"normalized_flux\": 83.23672350270832, \"relative_error\": 17.094896909653077, \"symm_relative_error\": 18.69264074191409}, {\"BiGG_ID\": \"PFK\", \"author\": \"Khodayari\", \"sample_id\": \"fbaA\", \"flux\": 84.87099567836415, \"normalized_flux\": 84.73137388060555, \"relative_error\": null, \"symm_relative_error\": null}, {\"BiGG_ID\": \"PFK\", \"author\": \"Khodayari\", \"sample_id\": \"fbaB\", \"flux\": 84.87099567836415, \"normalized_flux\": 84.73137388060555, \"relative_error\": 53.87513670081353, \"symm_relative_error\": 73.73849389409622}, {\"BiGG_ID\": \"PFK\", \"author\": \"Khodayari\", \"sample_id\": \"fbp\", \"flux\": 91.16439479983056, \"normalized_flux\": 83.18798279432872, \"relative_error\": 36.59452530920066, \"symm_relative_error\": 44.7898399713301}, {\"BiGG_ID\": \"PFK\", \"author\": \"Khodayari\", \"sample_id\": \"glk\", \"flux\": null, \"normalized_flux\": null, \"relative_error\": null, \"symm_relative_error\": null}, {\"BiGG_ID\": \"PFK\", \"author\": \"Khodayari\", \"sample_id\": \"gnd\", \"flux\": 5.097622258948796, \"normalized_flux\": 52.74516698739436, \"relative_error\": 30.04619762945045, \"symm_relative_error\": 35.35807638353493}, {\"BiGG_ID\": \"PFK\", \"author\": \"Khodayari\", \"sample_id\": \"gpmA\", \"flux\": null, \"normalized_flux\": null, \"relative_error\": null, \"symm_relative_error\": null}, {\"BiGG_ID\": \"PFK\", \"author\": \"Khodayari\", \"sample_id\": \"pfkA\", \"flux\": 77.61837200131376, \"normalized_flux\": 84.6857094593207, \"relative_error\": 34.806998106758506, \"symm_relative_error\": 42.14100804252357}, {\"BiGG_ID\": \"PFK\", \"author\": \"Khodayari\", \"sample_id\": \"pfkB\", \"flux\": 77.61837200131376, \"normalized_flux\": 84.6857094593207, \"relative_error\": 3.326815685706951, \"symm_relative_error\": 3.3830902746665683}, {\"BiGG_ID\": \"PFK\", \"author\": \"Khodayari\", \"sample_id\": \"pgi\", \"flux\": 2.070208044563117, \"normalized_flux\": 31.709298527024043, \"relative_error\": 90.33547743766411, \"symm_relative_error\": 164.74877257832463}, {\"BiGG_ID\": \"PFK\", \"author\": \"Khodayari\", \"sample_id\": \"pgl\", \"flux\": 85.21150273063972, \"normalized_flux\": 85.15761194816734, \"relative_error\": 67.42248969083116, \"symm_relative_error\": 101.71029691778473}, {\"BiGG_ID\": \"PFK\", \"author\": \"Khodayari\", \"sample_id\": \"pgm\", \"flux\": null, \"normalized_flux\": null, \"relative_error\": null, \"symm_relative_error\": null}, {\"BiGG_ID\": \"PFK\", \"author\": \"Khodayari\", \"sample_id\": \"ppc\", \"flux\": null, \"normalized_flux\": null, \"relative_error\": null, \"symm_relative_error\": null}, {\"BiGG_ID\": \"PFK\", \"author\": \"Khodayari\", \"sample_id\": \"ppsA\", \"flux\": 81.94136526704878, \"normalized_flux\": 87.81524757111998, \"relative_error\": null, \"symm_relative_error\": null}, {\"BiGG_ID\": \"PFK\", \"author\": \"Khodayari\", \"sample_id\": \"pts\", \"flux\": null, \"normalized_flux\": null, \"relative_error\": null, \"symm_relative_error\": null}, {\"BiGG_ID\": \"PFK\", \"author\": \"Khodayari\", \"sample_id\": \"pykA\", \"flux\": 86.39991510401782, \"normalized_flux\": 81.96399429294834, \"relative_error\": null, \"symm_relative_error\": null}, {\"BiGG_ID\": \"PFK\", \"author\": \"Khodayari\", \"sample_id\": \"pykF\", \"flux\": 87.72193464670198, \"normalized_flux\": 78.76515108619182, \"relative_error\": null, \"symm_relative_error\": null}, {\"BiGG_ID\": \"PFK\", \"author\": \"Khodayari\", \"sample_id\": \"rpe\", \"flux\": 84.18616403587842, \"normalized_flux\": 84.18844959726222, \"relative_error\": 14.093418778303857, \"symm_relative_error\": 15.161828791308107}, {\"BiGG_ID\": \"PFK\", \"author\": \"Khodayari\", \"sample_id\": \"rpiA\", \"flux\": 6.581133604870004, \"normalized_flux\": 69.53448077857631, \"relative_error\": null, \"symm_relative_error\": null}, {\"BiGG_ID\": \"PFK\", \"author\": \"Khodayari\", \"sample_id\": \"rpiB\", \"flux\": 6.581133604870004, \"normalized_flux\": 69.53448077857631, \"relative_error\": 54.102652951434784, \"symm_relative_error\": 74.16536907065965}, {\"BiGG_ID\": \"PFK\", \"author\": \"Khodayari\", \"sample_id\": \"sdhCD\", \"flux\": null, \"normalized_flux\": null, \"relative_error\": null, \"symm_relative_error\": null}, {\"BiGG_ID\": \"PFK\", \"author\": \"Khodayari\", \"sample_id\": \"sucA\", \"flux\": 31.80817164948691, \"normalized_flux\": 69.90060683219852, \"relative_error\": null, \"symm_relative_error\": null}, {\"BiGG_ID\": \"PFK\", \"author\": \"Khodayari\", \"sample_id\": \"sucAB\", \"flux\": null, \"normalized_flux\": null, \"relative_error\": null, \"symm_relative_error\": null}, {\"BiGG_ID\": \"PFK\", \"author\": \"Khodayari\", \"sample_id\": \"talA\", \"flux\": 84.77583039154403, \"normalized_flux\": 84.77856888744316, \"relative_error\": 38.96431325598045, \"symm_relative_error\": 48.3921471616632}, {\"BiGG_ID\": \"PFK\", \"author\": \"Khodayari\", \"sample_id\": \"talAB\", \"flux\": null, \"normalized_flux\": null, \"relative_error\": null, \"symm_relative_error\": null}, {\"BiGG_ID\": \"PFK\", \"author\": \"Khodayari\", \"sample_id\": \"talB\", \"flux\": null, \"normalized_flux\": null, \"relative_error\": null, \"symm_relative_error\": null}, {\"BiGG_ID\": \"PFK\", \"author\": \"Khodayari\", \"sample_id\": \"tkt1\", \"flux\": null, \"normalized_flux\": null, \"relative_error\": null, \"symm_relative_error\": null}, {\"BiGG_ID\": \"PFK\", \"author\": \"Khodayari\", \"sample_id\": \"tkt2\", \"flux\": null, \"normalized_flux\": null, \"relative_error\": null, \"symm_relative_error\": null}, {\"BiGG_ID\": \"PFK\", \"author\": \"Khodayari\", \"sample_id\": \"tktA\", \"flux\": 84.92245816794156, \"normalized_flux\": 84.9030544455747, \"relative_error\": 59.87568315426527, \"symm_relative_error\": 85.46080295282857}, {\"BiGG_ID\": \"PFK\", \"author\": \"Khodayari\", \"sample_id\": \"tktB\", \"flux\": 84.92245816794156, \"normalized_flux\": 84.9030544455747, \"relative_error\": 18.36244764848587, \"symm_relative_error\": 20.218779003308672}, {\"BiGG_ID\": \"PFK\", \"author\": \"Khodayari\", \"sample_id\": \"tpi\", \"flux\": 1.3564099258161946, \"normalized_flux\": 61.81950702118969, \"relative_error\": null, \"symm_relative_error\": null}, {\"BiGG_ID\": \"PFK\", \"author\": \"Khodayari\", \"sample_id\": \"tpiA\", \"flux\": null, \"normalized_flux\": null, \"relative_error\": null, \"symm_relative_error\": null}, {\"BiGG_ID\": \"PFK\", \"author\": \"Khodayari\", \"sample_id\": \"zwf\", \"flux\": 4.274862009336619, \"normalized_flux\": 96.4456410799341, \"relative_error\": 71.2788442287272, \"symm_relative_error\": 110.74922968433253}, {\"BiGG_ID\": \"PGI\", \"author\": \"Khodayari\", \"sample_id\": \"WT\", \"flux\": 87.40332033667244, \"normalized_flux\": 79.57115399352382, \"relative_error\": 14.987216753647136, \"symm_relative_error\": 13.942425954396088}, {\"BiGG_ID\": \"PGI\", \"author\": \"Khodayari\", \"sample_id\": \"eda\", \"flux\": 87.6638303340469, \"normalized_flux\": 79.64819015370242, \"relative_error\": 12.33877313639268, \"symm_relative_error\": 11.621780567100714}, {\"BiGG_ID\": \"PGI\", \"author\": \"Khodayari\", \"sample_id\": \"edd\", \"flux\": 87.2397253364237, \"normalized_flux\": 79.52207302042201, \"relative_error\": 15.4166516987257, \"symm_relative_error\": 14.31333332604844}, {\"BiGG_ID\": \"PGI\", \"author\": \"Khodayari\", \"sample_id\": \"fbaA\", \"flux\": 78.34131586880005, \"normalized_flux\": 78.21243608751611, \"relative_error\": null, \"symm_relative_error\": null}, {\"BiGG_ID\": \"PGI\", \"author\": \"Khodayari\", \"sample_id\": \"fbaB\", \"flux\": 78.34131586880005, \"normalized_flux\": 78.21243608751611, \"relative_error\": 9.388022500022531, \"symm_relative_error\": 8.967105556404519}, {\"BiGG_ID\": \"PGI\", \"author\": \"Khodayari\", \"sample_id\": \"fbp\", \"flux\": 87.20559007929603, \"normalized_flux\": 79.5755529668612, \"relative_error\": 14.993573651533515, \"symm_relative_error\": 13.94792727696637}, {\"BiGG_ID\": \"PGI\", \"author\": \"Khodayari\", \"sample_id\": \"glk\", \"flux\": null, \"normalized_flux\": null, \"relative_error\": null, \"symm_relative_error\": null}, {\"BiGG_ID\": \"PGI\", \"author\": \"Khodayari\", \"sample_id\": \"gnd\", \"flux\": 5.1072722230112895, \"normalized_flux\": 52.84501529706561, \"relative_error\": 21.24438852896332, \"symm_relative_error\": 23.76919902445188}, {\"BiGG_ID\": \"PGI\", \"author\": \"Khodayari\", \"sample_id\": \"gpmA\", \"flux\": null, \"normalized_flux\": null, \"relative_error\": null, \"symm_relative_error\": null}, {\"BiGG_ID\": \"PGI\", \"author\": \"Khodayari\", \"sample_id\": \"pfkA\", \"flux\": 73.29546350688997, \"normalized_flux\": 79.96918986043237, \"relative_error\": 539.7535188834589, \"symm_relative_error\": 145.92793548265416}, {\"BiGG_ID\": \"PGI\", \"author\": \"Khodayari\", \"sample_id\": \"pfkB\", \"flux\": 73.29546350688997, \"normalized_flux\": 79.96918986043237, \"relative_error\": 23.02952286220364, \"symm_relative_error\": 20.65154654564022}, {\"BiGG_ID\": \"PGI\", \"author\": \"Khodayari\", \"sample_id\": \"pgi\", \"flux\": 2.8811774589709037e-06, \"normalized_flux\": 0.0, \"relative_error\": 100.0, \"symm_relative_error\": 200.0}, {\"BiGG_ID\": \"PGI\", \"author\": \"Khodayari\", \"sample_id\": \"pgl\", \"flux\": 77.8816609536226, \"normalized_flux\": 77.83240582356923, \"relative_error\": 0.5586638547406024, \"symm_relative_error\": 0.5571076751341223}, {\"BiGG_ID\": \"PGI\", \"author\": \"Khodayari\", \"sample_id\": \"pgm\", \"flux\": null, \"normalized_flux\": null, \"relative_error\": null, \"symm_relative_error\": null}, {\"BiGG_ID\": \"PGI\", \"author\": \"Khodayari\", \"sample_id\": \"ppc\", \"flux\": null, \"normalized_flux\": null, \"relative_error\": null, \"symm_relative_error\": null}, {\"BiGG_ID\": \"PGI\", \"author\": \"Khodayari\", \"sample_id\": \"ppsA\", \"flux\": 74.05310371494545, \"normalized_flux\": 79.36152412086814, \"relative_error\": null, \"symm_relative_error\": null}, {\"BiGG_ID\": \"PGI\", \"author\": \"Khodayari\", \"sample_id\": \"pts\", \"flux\": null, \"normalized_flux\": null, \"relative_error\": null, \"symm_relative_error\": null}, {\"BiGG_ID\": \"PGI\", \"author\": \"Khodayari\", \"sample_id\": \"pykA\", \"flux\": 80.69055029837625, \"normalized_flux\": 76.54775813365838, \"relative_error\": null, \"symm_relative_error\": null}, {\"BiGG_ID\": \"PGI\", \"author\": \"Khodayari\", \"sample_id\": \"pykF\", \"flux\": 83.21691172344822, \"normalized_flux\": 74.72011021213967, \"relative_error\": null, \"symm_relative_error\": null}, {\"BiGG_ID\": \"PGI\", \"author\": \"Khodayari\", \"sample_id\": \"rpe\", \"flux\": 78.10102329549943, \"normalized_flux\": 78.10314365203217, \"relative_error\": 10.739264397677516, \"symm_relative_error\": 11.348644887699285}, {\"BiGG_ID\": \"PGI\", \"author\": \"Khodayari\", \"sample_id\": \"rpiA\", \"flux\": 6.126957466114021, \"normalized_flux\": 64.73577832296195, \"relative_error\": null, \"symm_relative_error\": null}, {\"BiGG_ID\": \"PGI\", \"author\": \"Khodayari\", \"sample_id\": \"rpiB\", \"flux\": 6.126957466114021, \"normalized_flux\": 64.73577832296195, \"relative_error\": 19.18130047070917, \"symm_relative_error\": 21.216058428295455}, {\"BiGG_ID\": \"PGI\", \"author\": \"Khodayari\", \"sample_id\": \"sdhCD\", \"flux\": null, \"normalized_flux\": null, \"relative_error\": null, \"symm_relative_error\": null}, {\"BiGG_ID\": \"PGI\", \"author\": \"Khodayari\", \"sample_id\": \"sucA\", \"flux\": 30.172625597747412, \"normalized_flux\": 66.30638385143686, \"relative_error\": null, \"symm_relative_error\": null}, {\"BiGG_ID\": \"PGI\", \"author\": \"Khodayari\", \"sample_id\": \"sucAB\", \"flux\": null, \"normalized_flux\": null, \"relative_error\": null, \"symm_relative_error\": null}, {\"BiGG_ID\": \"PGI\", \"author\": \"Khodayari\", \"sample_id\": \"talA\", \"flux\": 79.75049292667177, \"normalized_flux\": 79.75306909014694, \"relative_error\": 15.250099841252796, \"symm_relative_error\": 14.169656462412574}, {\"BiGG_ID\": \"PGI\", \"author\": \"Khodayari\", \"sample_id\": \"talAB\", \"flux\": null, \"normalized_flux\": null, \"relative_error\": null, \"symm_relative_error\": null}, {\"BiGG_ID\": \"PGI\", \"author\": \"Khodayari\", \"sample_id\": \"talB\", \"flux\": null, \"normalized_flux\": null, \"relative_error\": null, \"symm_relative_error\": null}, {\"BiGG_ID\": \"PGI\", \"author\": \"Khodayari\", \"sample_id\": \"tkt1\", \"flux\": null, \"normalized_flux\": null, \"relative_error\": null, \"symm_relative_error\": null}, {\"BiGG_ID\": \"PGI\", \"author\": \"Khodayari\", \"sample_id\": \"tkt2\", \"flux\": null, \"normalized_flux\": null, \"relative_error\": null, \"symm_relative_error\": null}, {\"BiGG_ID\": \"PGI\", \"author\": \"Khodayari\", \"sample_id\": \"tktA\", \"flux\": 78.44331059219746, \"normalized_flux\": 78.42538727423066, \"relative_error\": 5.837229789784972, \"symm_relative_error\": 5.67169485884196}, {\"BiGG_ID\": \"PGI\", \"author\": \"Khodayari\", \"sample_id\": \"tktB\", \"flux\": 78.44331059219746, \"normalized_flux\": 78.42538727423066, \"relative_error\": 13.167947004661848, \"symm_relative_error\": 12.354528145241156}, {\"BiGG_ID\": \"PGI\", \"author\": \"Khodayari\", \"sample_id\": \"tpi\", \"flux\": 1.0384688741735317, \"normalized_flux\": 47.329079975308986, \"relative_error\": null, \"symm_relative_error\": null}, {\"BiGG_ID\": \"PGI\", \"author\": \"Khodayari\", \"sample_id\": \"tpiA\", \"flux\": null, \"normalized_flux\": null, \"relative_error\": null, \"symm_relative_error\": null}, {\"BiGG_ID\": \"PGI\", \"author\": \"Khodayari\", \"sample_id\": \"zwf\", \"flux\": 4.391612069589485, \"normalized_flux\": 99.07965227903615, \"relative_error\": 1.5160371711436058, \"symm_relative_error\": 1.504631782587175}, {\"BiGG_ID\": \"PGM\", \"author\": \"Khodayari\", \"sample_id\": \"WT\", \"flux\": 169.12964752070474, \"normalized_flux\": 153.9740272555046, \"relative_error\": 0.08174740071082759, \"symm_relative_error\": 0.08178082756123316}, {\"BiGG_ID\": \"PGM\", \"author\": \"Khodayari\", \"sample_id\": \"eda\", \"flux\": 169.9167866600069, \"normalized_flux\": 154.38025560407377, \"relative_error\": 2.229097147515034, \"symm_relative_error\": 2.2542215415557787}, {\"BiGG_ID\": \"PGM\", \"author\": \"Khodayari\", \"sample_id\": \"edd\", \"flux\": 168.67495371516492, \"normalized_flux\": 153.75314324211183, \"relative_error\": 0.623784844314019, \"symm_relative_error\": 0.6218453557718314}, {\"BiGG_ID\": \"PGM\", \"author\": \"Khodayari\", \"sample_id\": \"fbaA\", \"flux\": 165.47562426328423, \"normalized_flux\": 165.20339929455136, \"relative_error\": null, \"symm_relative_error\": null}, {\"BiGG_ID\": \"PGM\", \"author\": \"Khodayari\", \"sample_id\": \"fbaB\", \"flux\": 165.47562426328423, \"normalized_flux\": 165.20339929455136, \"relative_error\": 6.789527662929136, \"symm_relative_error\": 6.566606868019153}, {\"BiGG_ID\": \"PGM\", \"author\": \"Khodayari\", \"sample_id\": \"fbp\", \"flux\": 168.2971236428688, \"normalized_flux\": 153.57199767166122, \"relative_error\": 0.2131269189985597, \"symm_relative_error\": 0.21335427669679746}, {\"BiGG_ID\": \"PGM\", \"author\": \"Khodayari\", \"sample_id\": \"glk\", \"flux\": null, \"normalized_flux\": null, \"relative_error\": null, \"symm_relative_error\": null}, {\"BiGG_ID\": \"PGM\", \"author\": \"Khodayari\", \"sample_id\": \"gnd\", \"flux\": 8.475444468475965, \"normalized_flux\": 87.69553942475497, \"relative_error\": 37.09071777277262, \"symm_relative_error\": 45.535425932376455}, {\"BiGG_ID\": \"PGM\", \"author\": \"Khodayari\", \"sample_id\": \"gpmA\", \"flux\": null, \"normalized_flux\": null, \"relative_error\": null, \"symm_relative_error\": null}, {\"BiGG_ID\": \"PGM\", \"author\": \"Khodayari\", \"sample_id\": \"pfkA\", \"flux\": 142.55845859364655, \"normalized_flux\": 155.53874545611203, \"relative_error\": 26.660216169472335, \"symm_relative_error\": 23.52438960839839}, {\"BiGG_ID\": \"PGM\", \"author\": \"Khodayari\", \"sample_id\": \"pfkB\", \"flux\": 142.55845859364655, \"normalized_flux\": 155.53874545611203, \"relative_error\": 4.95192001087182, \"symm_relative_error\": 4.832274819000614}, {\"BiGG_ID\": \"PGM\", \"author\": \"Khodayari\", \"sample_id\": \"pgi\", \"flux\": 6.868150298133276, \"normalized_flux\": 105.19919903892414, \"relative_error\": 9.777702367989589, \"symm_relative_error\": 10.280290470368291}, {\"BiGG_ID\": \"PGM\", \"author\": \"Khodayari\", \"sample_id\": \"pgl\", \"flux\": 165.72688198808515, \"normalized_flux\": 165.6220704185101, \"relative_error\": 0.7433518360767031, \"symm_relative_error\": 0.7405992071744527}, {\"BiGG_ID\": \"PGM\", \"author\": \"Khodayari\", \"sample_id\": \"pgm\", \"flux\": null, \"normalized_flux\": null, \"relative_error\": null, \"symm_relative_error\": null}, {\"BiGG_ID\": \"PGM\", \"author\": \"Khodayari\", \"sample_id\": \"ppc\", \"flux\": null, \"normalized_flux\": null, \"relative_error\": null, \"symm_relative_error\": null}, {\"BiGG_ID\": \"PGM\", \"author\": \"Khodayari\", \"sample_id\": \"ppsA\", \"flux\": 163.56137558654925, \"normalized_flux\": 175.28610419652907, \"relative_error\": null, \"symm_relative_error\": null}, {\"BiGG_ID\": \"PGM\", \"author\": \"Khodayari\", \"sample_id\": \"pts\", \"flux\": null, \"normalized_flux\": null, \"relative_error\": null, \"symm_relative_error\": null}, {\"BiGG_ID\": \"PGM\", \"author\": \"Khodayari\", \"sample_id\": \"pykA\", \"flux\": 165.6800141749802, \"normalized_flux\": 157.17371620035516, \"relative_error\": null, \"symm_relative_error\": null}, {\"BiGG_ID\": \"PGM\", \"author\": \"Khodayari\", \"sample_id\": \"pykF\", \"flux\": 163.5009764945627, \"normalized_flux\": 146.8068296509954, \"relative_error\": null, \"symm_relative_error\": null}, {\"BiGG_ID\": \"PGM\", \"author\": \"Khodayari\", \"sample_id\": \"rpe\", \"flux\": 165.16048054791187, \"normalized_flux\": 165.16496447256614, \"relative_error\": 3.877336146268013, \"symm_relative_error\": 3.8035970251115017}, {\"BiGG_ID\": \"PGM\", \"author\": \"Khodayari\", \"sample_id\": \"rpiA\", \"flux\": 8.044330112180642, \"normalized_flux\": 84.99422001523038, \"relative_error\": null, \"symm_relative_error\": null}, {\"BiGG_ID\": \"PGM\", \"author\": \"Khodayari\", \"sample_id\": \"rpiB\", \"flux\": 8.044330112180642, \"normalized_flux\": 84.99422001523038, \"relative_error\": 47.76015979395797, \"symm_relative_error\": 62.74331308981823}, {\"BiGG_ID\": \"PGM\", \"author\": \"Khodayari\", \"sample_id\": \"sdhCD\", \"flux\": null, \"normalized_flux\": null, \"relative_error\": null, \"symm_relative_error\": null}, {\"BiGG_ID\": \"PGM\", \"author\": \"Khodayari\", \"sample_id\": \"sucA\", \"flux\": 38.856032015723365, \"normalized_flux\": 85.38875628943009, \"relative_error\": null, \"symm_relative_error\": null}, {\"BiGG_ID\": \"PGM\", \"author\": \"Khodayari\", \"sample_id\": \"sucAB\", \"flux\": null, \"normalized_flux\": null, \"relative_error\": null, \"symm_relative_error\": null}, {\"BiGG_ID\": \"PGM\", \"author\": \"Khodayari\", \"sample_id\": \"talA\", \"flux\": 165.70078357544165, \"normalized_flux\": 165.7061361731597, \"relative_error\": 7.39218157690194, \"symm_relative_error\": 7.1286984115752565}, {\"BiGG_ID\": \"PGM\", \"author\": \"Khodayari\", \"sample_id\": \"talAB\", \"flux\": null, \"normalized_flux\": null, \"relative_error\": null, \"symm_relative_error\": null}, {\"BiGG_ID\": \"PGM\", \"author\": \"Khodayari\", \"sample_id\": \"talB\", \"flux\": null, \"normalized_flux\": null, \"relative_error\": null, \"symm_relative_error\": null}, {\"BiGG_ID\": \"PGM\", \"author\": \"Khodayari\", \"sample_id\": \"tkt1\", \"flux\": null, \"normalized_flux\": null, \"relative_error\": null, \"symm_relative_error\": null}, {\"BiGG_ID\": \"PGM\", \"author\": \"Khodayari\", \"sample_id\": \"tkt2\", \"flux\": null, \"normalized_flux\": null, \"relative_error\": null, \"symm_relative_error\": null}, {\"BiGG_ID\": \"PGM\", \"author\": \"Khodayari\", \"sample_id\": \"tktA\", \"flux\": 164.82189602047293, \"normalized_flux\": 164.78423627322402, \"relative_error\": 7.4212752758957095, \"symm_relative_error\": 7.15575127577873}, {\"BiGG_ID\": \"PGM\", \"author\": \"Khodayari\", \"sample_id\": \"tktB\", \"flux\": 164.82189602047293, \"normalized_flux\": 164.78423627322402, \"relative_error\": 6.312410498854209, \"symm_relative_error\": 6.119273662297952}, {\"BiGG_ID\": \"PGM\", \"author\": \"Khodayari\", \"sample_id\": \"tpi\", \"flux\": 2.1521391744014573, \"normalized_flux\": 98.08552729546815, \"relative_error\": null, \"symm_relative_error\": null}, {\"BiGG_ID\": \"PGM\", \"author\": \"Khodayari\", \"sample_id\": \"tpiA\", \"flux\": null, \"normalized_flux\": null, \"relative_error\": null, \"symm_relative_error\": null}, {\"BiGG_ID\": \"PGM\", \"author\": \"Khodayari\", \"sample_id\": \"zwf\", \"flux\": 3.626194672989774, \"normalized_flux\": 81.81098457758468, \"relative_error\": 50.266878676240324, \"symm_relative_error\": 67.14196329020753}, {\"BiGG_ID\": \"PPC\", \"author\": \"Khodayari\", \"sample_id\": \"WT\", \"flux\": 18.542580262883167, \"normalized_flux\": 16.88098923303815, \"relative_error\": 29.954401522663282, \"symm_relative_error\": 35.23102249148252}, {\"BiGG_ID\": \"PPC\", \"author\": \"Khodayari\", \"sample_id\": \"eda\", \"flux\": 18.664809642159774, \"normalized_flux\": 16.95817193814798, \"relative_error\": 28.143339245135678, \"symm_relative_error\": 32.752107624480416}, {\"BiGG_ID\": \"PPC\", \"author\": \"Khodayari\", \"sample_id\": \"edd\", \"flux\": 18.469409070035113, \"normalized_flux\": 16.83551491075322, \"relative_error\": 24.164347248859375, \"symm_relative_error\": 27.485150901744664}, {\"BiGG_ID\": \"PPC\", \"author\": \"Khodayari\", \"sample_id\": \"fbaA\", \"flux\": 16.250065602497223, \"normalized_flux\": 16.22333251948127, \"relative_error\": null, \"symm_relative_error\": null}, {\"BiGG_ID\": \"PPC\", \"author\": \"Khodayari\", \"sample_id\": \"fbaB\", \"flux\": 16.250065602497223, \"normalized_flux\": 16.22333251948127, \"relative_error\": 24.8919790764756, \"symm_relative_error\": 28.43042705319224}, {\"BiGG_ID\": \"PPC\", \"author\": \"Khodayari\", \"sample_id\": \"fbp\", \"flux\": 18.387588786033245, \"normalized_flux\": 16.778770077071453, \"relative_error\": 25.4276885463491, \"symm_relative_error\": 29.131410742762803}, {\"BiGG_ID\": \"PPC\", \"author\": \"Khodayari\", \"sample_id\": \"glk\", \"flux\": null, \"normalized_flux\": null, \"relative_error\": null, \"symm_relative_error\": null}, {\"BiGG_ID\": \"PPC\", \"author\": \"Khodayari\", \"sample_id\": \"gnd\", \"flux\": -0.504844935310907, \"normalized_flux\": -5.2236374260507095, \"relative_error\": 122.32323686346456, \"symm_relative_error\": 200.0}, {\"BiGG_ID\": \"PPC\", \"author\": \"Khodayari\", \"sample_id\": \"gpmA\", \"flux\": null, \"normalized_flux\": null, \"relative_error\": null, \"symm_relative_error\": null}, {\"BiGG_ID\": \"PPC\", \"author\": \"Khodayari\", \"sample_id\": \"pfkA\", \"flux\": 11.084971400033284, \"normalized_flux\": 12.094284421891885, \"relative_error\": 50.02361809135585, \"symm_relative_error\": 66.70866099680543}, {\"BiGG_ID\": \"PPC\", \"author\": \"Khodayari\", \"sample_id\": \"pfkB\", \"flux\": 11.084971400033284, \"normalized_flux\": 12.094284421891885, \"relative_error\": 51.035285741328394, \"symm_relative_error\": 68.51996594671077}, {\"BiGG_ID\": \"PPC\", \"author\": \"Khodayari\", \"sample_id\": \"pgi\", \"flux\": -0.012551403077892376, \"normalized_flux\": -0.19224936748513516, \"relative_error\": 101.37320976775098, \"symm_relative_error\": 200.0}, {\"BiGG_ID\": \"PPC\", \"author\": \"Khodayari\", \"sample_id\": \"pgl\", \"flux\": 15.98463773632114, \"normalized_flux\": 15.974528483373552, \"relative_error\": 20.127357583132238, \"symm_relative_error\": 22.37956513307415}, {\"BiGG_ID\": \"PPC\", \"author\": \"Khodayari\", \"sample_id\": \"pgm\", \"flux\": null, \"normalized_flux\": null, \"relative_error\": null, \"symm_relative_error\": null}, {\"BiGG_ID\": \"PPC\", \"author\": \"Khodayari\", \"sample_id\": \"ppc\", \"flux\": null, \"normalized_flux\": null, \"relative_error\": null, \"symm_relative_error\": null}, {\"BiGG_ID\": \"PPC\", \"author\": \"Khodayari\", \"sample_id\": \"ppsA\", \"flux\": 14.373849599423748, \"normalized_flux\": 15.404224191405168, \"relative_error\": null, \"symm_relative_error\": null}, {\"BiGG_ID\": \"PPC\", \"author\": \"Khodayari\", \"sample_id\": \"pts\", \"flux\": null, \"normalized_flux\": null, \"relative_error\": null, \"symm_relative_error\": null}, {\"BiGG_ID\": \"PPC\", \"author\": \"Khodayari\", \"sample_id\": \"pykA\", \"flux\": 17.528579075704272, \"normalized_flux\": 16.62863156283018, \"relative_error\": null, \"symm_relative_error\": null}, {\"BiGG_ID\": \"PPC\", \"author\": \"Khodayari\", \"sample_id\": \"pykF\", \"flux\": 19.172433649557377, \"normalized_flux\": 17.21484642557584, \"relative_error\": null, \"symm_relative_error\": null}, {\"BiGG_ID\": \"PPC\", \"author\": \"Khodayari\", \"sample_id\": \"rpe\", \"flux\": 16.012185969230668, \"normalized_flux\": 16.012620682396907, \"relative_error\": 35.17157618462791, \"symm_relative_error\": 42.676591052068005}, {\"BiGG_ID\": \"PPC\", \"author\": \"Khodayari\", \"sample_id\": \"rpiA\", \"flux\": -1.196687302225282, \"normalized_flux\": -12.643874932576127, \"relative_error\": null, \"symm_relative_error\": null}, {\"BiGG_ID\": \"PPC\", \"author\": \"Khodayari\", \"sample_id\": \"rpiB\", \"flux\": -1.196687302225282, \"normalized_flux\": -12.643874932576127, \"relative_error\": 160.2089282503625, \"symm_relative_error\": 200.0}, {\"BiGG_ID\": \"PPC\", \"author\": \"Khodayari\", \"sample_id\": \"sdhCD\", \"flux\": null, \"normalized_flux\": null, \"relative_error\": null, \"symm_relative_error\": null}, {\"BiGG_ID\": \"PPC\", \"author\": \"Khodayari\", \"sample_id\": \"sucA\", \"flux\": 0.1931307595056042, \"normalized_flux\": 0.42441789601015606, \"relative_error\": null, \"symm_relative_error\": null}, {\"BiGG_ID\": \"PPC\", \"author\": \"Khodayari\", \"sample_id\": \"sucAB\", \"flux\": null, \"normalized_flux\": null, \"relative_error\": null, \"symm_relative_error\": null}, {\"BiGG_ID\": \"PPC\", \"author\": \"Khodayari\", \"sample_id\": \"talA\", \"flux\": 16.160073080218545, \"normalized_flux\": 16.160595095675724, \"relative_error\": 26.20732833024783, \"symm_relative_error\": 30.1593019756875}, {\"BiGG_ID\": \"PPC\", \"author\": \"Khodayari\", \"sample_id\": \"talAB\", \"flux\": null, \"normalized_flux\": null, \"relative_error\": null, \"symm_relative_error\": null}, {\"BiGG_ID\": \"PPC\", \"author\": \"Khodayari\", \"sample_id\": \"talB\", \"flux\": null, \"normalized_flux\": null, \"relative_error\": null, \"symm_relative_error\": null}, {\"BiGG_ID\": \"PPC\", \"author\": \"Khodayari\", \"sample_id\": \"tkt1\", \"flux\": null, \"normalized_flux\": null, \"relative_error\": null, \"symm_relative_error\": null}, {\"BiGG_ID\": \"PPC\", \"author\": \"Khodayari\", \"sample_id\": \"tkt2\", \"flux\": null, \"normalized_flux\": null, \"relative_error\": null, \"symm_relative_error\": null}, {\"BiGG_ID\": \"PPC\", \"author\": \"Khodayari\", \"sample_id\": \"tktA\", \"flux\": 16.08357406803516, \"normalized_flux\": 16.079899171987453, \"relative_error\": 37.67480941090135, \"symm_relative_error\": 46.4189313737131}, {\"BiGG_ID\": \"PPC\", \"author\": \"Khodayari\", \"sample_id\": \"tktB\", \"flux\": 16.08357406803516, \"normalized_flux\": 16.079899171987453, \"relative_error\": 25.209771293081612, \"symm_relative_error\": 28.845744386950148}, {\"BiGG_ID\": \"PPC\", \"author\": \"Khodayari\", \"sample_id\": \"tpi\", \"flux\": -0.015938918745436292, \"normalized_flux\": -0.7264294373994374, \"relative_error\": null, \"symm_relative_error\": null}, {\"BiGG_ID\": \"PPC\", \"author\": \"Khodayari\", \"sample_id\": \"tpiA\", \"flux\": null, \"normalized_flux\": null, \"relative_error\": null, \"symm_relative_error\": null}, {\"BiGG_ID\": \"PPC\", \"author\": \"Khodayari\", \"sample_id\": \"zwf\", \"flux\": -1.8239678901639984, \"normalized_flux\": -41.1507440689016, \"relative_error\": 240.92720571541645, \"symm_relative_error\": 200.0}, {\"BiGG_ID\": \"PPCK\", \"author\": \"Khodayari\", \"sample_id\": \"WT\", \"flux\": 0.4605692529954346, \"normalized_flux\": 0.41929788037360505, \"relative_error\": 109.64894018680252, \"symm_relative_error\": 70.821453560057}, {\"BiGG_ID\": \"PPCK\", \"author\": \"Khodayari\", \"sample_id\": \"eda\", \"flux\": 0.4698718716543854, \"normalized_flux\": 0.42690861258054824, \"relative_error\": 73.31821171371574, \"symm_relative_error\": 115.75177885557817}, {\"BiGG_ID\": \"PPCK\", \"author\": \"Khodayari\", \"sample_id\": \"edd\", \"flux\": 0.45517255315608973, \"normalized_flux\": 0.41490576534240964, \"relative_error\": 100.0, \"symm_relative_error\": 200.0}, {\"BiGG_ID\": \"PPCK\", \"author\": \"Khodayari\", \"sample_id\": \"fbaA\", \"flux\": 0.6852953115629499, \"normalized_flux\": 0.6841679280247789, \"relative_error\": null, \"symm_relative_error\": null}, {\"BiGG_ID\": \"PPCK\", \"author\": \"Khodayari\", \"sample_id\": \"fbaB\", \"flux\": 0.6852953115629499, \"normalized_flux\": 0.6841679280247789, \"relative_error\": 100.0, \"symm_relative_error\": 200.0}, {\"BiGG_ID\": \"PPCK\", \"author\": \"Khodayari\", \"sample_id\": \"fbp\", \"flux\": 0.44606984221362594, \"normalized_flux\": 0.40704104316836875, \"relative_error\": 100.0, \"symm_relative_error\": 200.0}, {\"BiGG_ID\": \"PPCK\", \"author\": \"Khodayari\", \"sample_id\": \"glk\", \"flux\": null, \"normalized_flux\": null, \"relative_error\": null, \"symm_relative_error\": null}, {\"BiGG_ID\": \"PPCK\", \"author\": \"Khodayari\", \"sample_id\": \"gnd\", \"flux\": 1.4625480042131749, \"normalized_flux\": 15.133004132246578, \"relative_error\": 656.6502066123289, \"symm_relative_error\": 153.30649582379462}, {\"BiGG_ID\": \"PPCK\", \"author\": \"Khodayari\", \"sample_id\": \"gpmA\", \"flux\": null, \"normalized_flux\": null, \"relative_error\": null, \"symm_relative_error\": null}, {\"BiGG_ID\": \"PPCK\", \"author\": \"Khodayari\", \"sample_id\": \"pfkA\", \"flux\": 0.34236122334245633, \"normalized_flux\": 0.37353402735149005, \"relative_error\": 37.74432877475166, \"symm_relative_error\": 46.52451096437031}, {\"BiGG_ID\": \"PPCK\", \"author\": \"Khodayari\", \"sample_id\": \"pfkB\", \"flux\": 0.34236122334245633, \"normalized_flux\": 0.37353402735149005, \"relative_error\": 46.63799609264427, \"symm_relative_error\": 60.82079642206262}, {\"BiGG_ID\": \"PPCK\", \"author\": \"Khodayari\", \"sample_id\": \"pgi\", \"flux\": 0.468659870976184, \"normalized_flux\": 7.178445565144411, \"relative_error\": 17.489131435121703, \"symm_relative_error\": 19.16503008576142}, {\"BiGG_ID\": \"PPCK\", \"author\": \"Khodayari\", \"sample_id\": \"pgl\", \"flux\": 0.6341668516127561, \"normalized_flux\": 0.6337657819595252, \"relative_error\": 9.462031148639257, \"symm_relative_error\": 9.931911424982825}, {\"BiGG_ID\": \"PPCK\", \"author\": \"Khodayari\", \"sample_id\": \"pgm\", \"flux\": null, \"normalized_flux\": null, \"relative_error\": null, \"symm_relative_error\": null}, {\"BiGG_ID\": \"PPCK\", \"author\": \"Khodayari\", \"sample_id\": \"ppc\", \"flux\": null, \"normalized_flux\": null, \"relative_error\": null, \"symm_relative_error\": null}, {\"BiGG_ID\": \"PPCK\", \"author\": \"Khodayari\", \"sample_id\": \"ppsA\", \"flux\": 0.712706169307757, \"normalized_flux\": 0.7637957763976045, \"relative_error\": null, \"symm_relative_error\": null}, {\"BiGG_ID\": \"PPCK\", \"author\": \"Khodayari\", \"sample_id\": \"pts\", \"flux\": null, \"normalized_flux\": null, \"relative_error\": null, \"symm_relative_error\": null}, {\"BiGG_ID\": \"PPCK\", \"author\": \"Khodayari\", \"sample_id\": \"pykA\", \"flux\": 0.580013455443279, \"normalized_flux\": 0.5502345632464103, \"relative_error\": null, \"symm_relative_error\": null}, {\"BiGG_ID\": \"PPCK\", \"author\": \"Khodayari\", \"sample_id\": \"pykF\", \"flux\": 0.4988466646899689, \"normalized_flux\": 0.44791229321827886, \"relative_error\": null, \"symm_relative_error\": null}, {\"BiGG_ID\": \"PPCK\", \"author\": \"Khodayari\", \"sample_id\": \"rpe\", \"flux\": 0.6543005843646423, \"normalized_flux\": 0.6543183479029404, \"relative_error\": 9.053057983823406, \"symm_relative_error\": 8.661014644927066}, {\"BiGG_ID\": \"PPCK\", \"author\": \"Khodayari\", \"sample_id\": \"rpiA\", \"flux\": 1.7409881893441, \"normalized_flux\": 18.394811145923686, \"relative_error\": null, \"symm_relative_error\": null}, {\"BiGG_ID\": \"PPCK\", \"author\": \"Khodayari\", \"sample_id\": \"rpiB\", \"flux\": 1.7409881893441, \"normalized_flux\": 18.394811145923686, \"relative_error\": 100.0, \"symm_relative_error\": 200.0}, {\"BiGG_ID\": \"PPCK\", \"author\": \"Khodayari\", \"sample_id\": \"sdhCD\", \"flux\": null, \"normalized_flux\": null, \"relative_error\": null, \"symm_relative_error\": null}, {\"BiGG_ID\": \"PPCK\", \"author\": \"Khodayari\", \"sample_id\": \"sucA\", \"flux\": 0.04992966622911102, \"normalized_flux\": 0.10972381584215603, \"relative_error\": null, \"symm_relative_error\": null}, {\"BiGG_ID\": \"PPCK\", \"author\": \"Khodayari\", \"sample_id\": \"sucAB\", \"flux\": null, \"normalized_flux\": null, \"relative_error\": null, \"symm_relative_error\": null}, {\"BiGG_ID\": \"PPCK\", \"author\": \"Khodayari\", \"sample_id\": \"talA\", \"flux\": 0.6230296619874438, \"normalized_flux\": 0.6230497875841675, \"relative_error\": 211.52489379208373, \"symm_relative_error\": 102.80053381118336}, {\"BiGG_ID\": \"PPCK\", \"author\": \"Khodayari\", \"sample_id\": \"talAB\", \"flux\": null, \"normalized_flux\": null, \"relative_error\": null, \"symm_relative_error\": null}, {\"BiGG_ID\": \"PPCK\", \"author\": \"Khodayari\", \"sample_id\": \"talB\", \"flux\": null, \"normalized_flux\": null, \"relative_error\": null, \"symm_relative_error\": null}, {\"BiGG_ID\": \"PPCK\", \"author\": \"Khodayari\", \"sample_id\": \"tkt1\", \"flux\": null, \"normalized_flux\": null, \"relative_error\": null, \"symm_relative_error\": null}, {\"BiGG_ID\": \"PPCK\", \"author\": \"Khodayari\", \"sample_id\": \"tkt2\", \"flux\": null, \"normalized_flux\": null, \"relative_error\": null, \"symm_relative_error\": null}, {\"BiGG_ID\": \"PPCK\", \"author\": \"Khodayari\", \"sample_id\": \"tktA\", \"flux\": 0.6739833332145736, \"normalized_flux\": 0.6738293364302163, \"relative_error\": 100.0, \"symm_relative_error\": 200.00000000000003}, {\"BiGG_ID\": \"PPCK\", \"author\": \"Khodayari\", \"sample_id\": \"tktB\", \"flux\": 0.6739833332145736, \"normalized_flux\": 0.6738293364302163, \"relative_error\": 100.0, \"symm_relative_error\": 200.00000000000003}, {\"BiGG_ID\": \"PPCK\", \"author\": \"Khodayari\", \"sample_id\": \"tpi\", \"flux\": 0.13365522363783588, \"normalized_flux\": 6.091447636027927, \"relative_error\": null, \"symm_relative_error\": null}, {\"BiGG_ID\": \"PPCK\", \"author\": \"Khodayari\", \"sample_id\": \"tpiA\", \"flux\": null, \"normalized_flux\": null, \"relative_error\": null, \"symm_relative_error\": null}, {\"BiGG_ID\": \"PPCK\", \"author\": \"Khodayari\", \"sample_id\": \"zwf\", \"flux\": 0.14667006475745434, \"normalized_flux\": 3.3090397752893286, \"relative_error\": 200.82179775357528, \"symm_relative_error\": 100.2050282090897}, {\"BiGG_ID\": \"PTAr\", \"author\": \"Khodayari\", \"sample_id\": \"WT\", \"flux\": -0.004204445536508644, \"normalized_flux\": 0.0, \"relative_error\": 100.0, \"symm_relative_error\": 200.0}, {\"BiGG_ID\": \"PTAr\", \"author\": \"Khodayari\", \"sample_id\": \"eda\", \"flux\": -0.004262616291752647, \"normalized_flux\": 0.0, \"relative_error\": 100.0, \"symm_relative_error\": 200.0}, {\"BiGG_ID\": \"PTAr\", \"author\": \"Khodayari\", \"sample_id\": \"edd\", \"flux\": -0.004170417594248049, \"normalized_flux\": 0.0, \"relative_error\": 100.0, \"symm_relative_error\": 200.0}, {\"BiGG_ID\": \"PTAr\", \"author\": \"Khodayari\", \"sample_id\": \"fbaA\", \"flux\": 0.0003241143049569767, \"normalized_flux\": 0.0, \"relative_error\": null, \"symm_relative_error\": null}, {\"BiGG_ID\": \"PTAr\", \"author\": \"Khodayari\", \"sample_id\": \"fbaB\", \"flux\": 0.0003241143049569767, \"normalized_flux\": 0.0, \"relative_error\": 100.0, \"symm_relative_error\": 200.0}, {\"BiGG_ID\": \"PTAr\", \"author\": \"Khodayari\", \"sample_id\": \"fbp\", \"flux\": -0.004153811910751037, \"normalized_flux\": 0.0, \"relative_error\": 100.0, \"symm_relative_error\": 200.0}, {\"BiGG_ID\": \"PTAr\", \"author\": \"Khodayari\", \"sample_id\": \"glk\", \"flux\": null, \"normalized_flux\": null, \"relative_error\": null, \"symm_relative_error\": null}, {\"BiGG_ID\": \"PTAr\", \"author\": \"Khodayari\", \"sample_id\": \"gnd\", \"flux\": -0.018734281217576927, \"normalized_flux\": -0.19384386308248547, \"relative_error\": 100.22027711713919, \"symm_relative_error\": 200.0}, {\"BiGG_ID\": \"PTAr\", \"author\": \"Khodayari\", \"sample_id\": \"gpmA\", \"flux\": null, \"normalized_flux\": null, \"relative_error\": null, \"symm_relative_error\": null}, {\"BiGG_ID\": \"PTAr\", \"author\": \"Khodayari\", \"sample_id\": \"pfkA\", \"flux\": -0.005877491612625074, \"normalized_flux\": 0.0, \"relative_error\": 100.0, \"symm_relative_error\": 200.0}, {\"BiGG_ID\": \"PTAr\", \"author\": \"Khodayari\", \"sample_id\": \"pfkB\", \"flux\": -0.005877491612625074, \"normalized_flux\": 0.0, \"relative_error\": 100.0, \"symm_relative_error\": 200.0}, {\"BiGG_ID\": \"PTAr\", \"author\": \"Khodayari\", \"sample_id\": \"pgi\", \"flux\": -0.016626798456911302, \"normalized_flux\": -0.25467204477515454, \"relative_error\": 93.11697176283367, \"symm_relative_error\": 174.24089361729776}, {\"BiGG_ID\": \"PTAr\", \"author\": \"Khodayari\", \"sample_id\": \"pgl\", \"flux\": 0.00029260730041136274, \"normalized_flux\": 0.0, \"relative_error\": 100.0, \"symm_relative_error\": 200.0}, {\"BiGG_ID\": \"PTAr\", \"author\": \"Khodayari\", \"sample_id\": \"pgm\", \"flux\": null, \"normalized_flux\": null, \"relative_error\": null, \"symm_relative_error\": null}, {\"BiGG_ID\": \"PTAr\", \"author\": \"Khodayari\", \"sample_id\": \"ppc\", \"flux\": null, \"normalized_flux\": null, \"relative_error\": null, \"symm_relative_error\": null}, {\"BiGG_ID\": \"PTAr\", \"author\": \"Khodayari\", \"sample_id\": \"ppsA\", \"flux\": -0.004813389860390108, \"normalized_flux\": 0.0, \"relative_error\": null, \"symm_relative_error\": null}, {\"BiGG_ID\": \"PTAr\", \"author\": \"Khodayari\", \"sample_id\": \"pts\", \"flux\": null, \"normalized_flux\": null, \"relative_error\": null, \"symm_relative_error\": null}, {\"BiGG_ID\": \"PTAr\", \"author\": \"Khodayari\", \"sample_id\": \"pykA\", \"flux\": 0.0029361749076607796, \"normalized_flux\": 0.0, \"relative_error\": null, \"symm_relative_error\": null}, {\"BiGG_ID\": \"PTAr\", \"author\": \"Khodayari\", \"sample_id\": \"pykF\", \"flux\": -0.00027258192234745626, \"normalized_flux\": 0.0, \"relative_error\": null, \"symm_relative_error\": null}, {\"BiGG_ID\": \"PTAr\", \"author\": \"Khodayari\", \"sample_id\": \"rpe\", \"flux\": 0.00013504503917641242, \"normalized_flux\": 0.0, \"relative_error\": 100.0, \"symm_relative_error\": 200.0}, {\"BiGG_ID\": \"PTAr\", \"author\": \"Khodayari\", \"sample_id\": \"rpiA\", \"flux\": -0.020549393832048478, \"normalized_flux\": -0.21711934694177876, \"relative_error\": null, \"symm_relative_error\": null}, {\"BiGG_ID\": \"PTAr\", \"author\": \"Khodayari\", \"sample_id\": \"rpiB\", \"flux\": -0.020549393832048478, \"normalized_flux\": -0.21711934694177876, \"relative_error\": 100.23677137071078, \"symm_relative_error\": 199.99999999999997}, {\"BiGG_ID\": \"PTAr\", \"author\": \"Khodayari\", \"sample_id\": \"sdhCD\", \"flux\": null, \"normalized_flux\": null, \"relative_error\": null, \"symm_relative_error\": null}, {\"BiGG_ID\": \"PTAr\", \"author\": \"Khodayari\", \"sample_id\": \"sucA\", \"flux\": 0.00024473370218820734, \"normalized_flux\": 0.0, \"relative_error\": null, \"symm_relative_error\": null}, {\"BiGG_ID\": \"PTAr\", \"author\": \"Khodayari\", \"sample_id\": \"sucAB\", \"flux\": null, \"normalized_flux\": null, \"relative_error\": null, \"symm_relative_error\": null}, {\"BiGG_ID\": \"PTAr\", \"author\": \"Khodayari\", \"sample_id\": \"talA\", \"flux\": -4.515582477382374e-09, \"normalized_flux\": 0.0, \"relative_error\": 100.0, \"symm_relative_error\": 200.0}, {\"BiGG_ID\": \"PTAr\", \"author\": \"Khodayari\", \"sample_id\": \"talAB\", \"flux\": null, \"normalized_flux\": null, \"relative_error\": null, \"symm_relative_error\": null}, {\"BiGG_ID\": \"PTAr\", \"author\": \"Khodayari\", \"sample_id\": \"talB\", \"flux\": null, \"normalized_flux\": null, \"relative_error\": null, \"symm_relative_error\": null}, {\"BiGG_ID\": \"PTAr\", \"author\": \"Khodayari\", \"sample_id\": \"tkt1\", \"flux\": null, \"normalized_flux\": null, \"relative_error\": null, \"symm_relative_error\": null}, {\"BiGG_ID\": \"PTAr\", \"author\": \"Khodayari\", \"sample_id\": \"tkt2\", \"flux\": null, \"normalized_flux\": null, \"relative_error\": null, \"symm_relative_error\": null}, {\"BiGG_ID\": \"PTAr\", \"author\": \"Khodayari\", \"sample_id\": \"tktA\", \"flux\": 0.00016258014105555163, \"normalized_flux\": 0.0, \"relative_error\": 100.0, \"symm_relative_error\": 200.0}, {\"BiGG_ID\": \"PTAr\", \"author\": \"Khodayari\", \"sample_id\": \"tktB\", \"flux\": 0.00016258014105555163, \"normalized_flux\": 0.0, \"relative_error\": 100.0, \"symm_relative_error\": 200.0}, {\"BiGG_ID\": \"PTAr\", \"author\": \"Khodayari\", \"sample_id\": \"tpi\", \"flux\": -0.019240696840537932, \"normalized_flux\": -0.8769107117160672, \"relative_error\": null, \"symm_relative_error\": null}, {\"BiGG_ID\": \"PTAr\", \"author\": \"Khodayari\", \"sample_id\": \"tpiA\", \"flux\": null, \"normalized_flux\": null, \"relative_error\": null, \"symm_relative_error\": null}, {\"BiGG_ID\": \"PTAr\", \"author\": \"Khodayari\", \"sample_id\": \"zwf\", \"flux\": -0.025843622454323548, \"normalized_flux\": -0.5830608637170505, \"relative_error\": 100.78579631228712, \"symm_relative_error\": 200.0}, {\"BiGG_ID\": \"PYK\", \"author\": \"Khodayari\", \"sample_id\": \"WT\", \"flux\": 31.97041070963359, \"normalized_flux\": 29.105558736366287, \"relative_error\": 20.769953262930645, \"symm_relative_error\": 18.815923957001733}, {\"BiGG_ID\": \"PYK\", \"author\": \"Khodayari\", \"sample_id\": \"eda\", \"flux\": 32.034269400302904, \"normalized_flux\": 29.1051802197983, \"relative_error\": 4.259275592768748, \"symm_relative_error\": 4.351956503346217}, {\"BiGG_ID\": \"PYK\", \"author\": \"Khodayari\", \"sample_id\": \"edd\", \"flux\": 31.939415588535294, \"normalized_flux\": 29.11389884443701, \"relative_error\": 16.92328853187555, \"symm_relative_error\": 15.603016758976318}, {\"BiGG_ID\": \"PYK\", \"author\": \"Khodayari\", \"sample_id\": \"fbaA\", \"flux\": 35.455967010911145, \"normalized_flux\": 35.39763818118828, \"relative_error\": null, \"symm_relative_error\": null}, {\"BiGG_ID\": \"PYK\", \"author\": \"Khodayari\", \"sample_id\": \"fbaB\", \"flux\": 35.455967010911145, \"normalized_flux\": 35.39763818118828, \"relative_error\": 28.7186842952301, \"symm_relative_error\": 25.112670076538233}, {\"BiGG_ID\": \"PYK\", \"author\": \"Khodayari\", \"sample_id\": \"fbp\", \"flux\": 31.936502916087704, \"normalized_flux\": 29.142224449884367, \"relative_error\": 15.186657904681288, \"symm_relative_error\": 14.114869437126856}, {\"BiGG_ID\": \"PYK\", \"author\": \"Khodayari\", \"sample_id\": \"glk\", \"flux\": null, \"normalized_flux\": null, \"relative_error\": null, \"symm_relative_error\": null}, {\"BiGG_ID\": \"PYK\", \"author\": \"Khodayari\", \"sample_id\": \"gnd\", \"flux\": 0.5046669495911864, \"normalized_flux\": 5.221795805383044, \"relative_error\": 59.83233995859197, \"symm_relative_error\": 85.37253163949005}, {\"BiGG_ID\": \"PYK\", \"author\": \"Khodayari\", \"sample_id\": \"gpmA\", \"flux\": null, \"normalized_flux\": null, \"relative_error\": null, \"symm_relative_error\": null}, {\"BiGG_ID\": \"PYK\", \"author\": \"Khodayari\", \"sample_id\": \"pfkA\", \"flux\": 26.57623350161756, \"normalized_flux\": 28.99606279816016, \"relative_error\": 170.5500311390758, \"symm_relative_error\": 200.0}, {\"BiGG_ID\": \"PYK\", \"author\": \"Khodayari\", \"sample_id\": \"pfkB\", \"flux\": 26.57623350161756, \"normalized_flux\": 28.99606279816016, \"relative_error\": 56.735474584649516, \"symm_relative_error\": 44.1976120958251}, {\"BiGG_ID\": \"PYK\", \"author\": \"Khodayari\", \"sample_id\": \"pgi\", \"flux\": 0.3713036067406321, \"normalized_flux\": 5.687243338282023, \"relative_error\": 67.27186289064775, \"symm_relative_error\": 50.33965204049295}, {\"BiGG_ID\": \"PYK\", \"author\": \"Khodayari\", \"sample_id\": \"pgl\", \"flux\": 35.27744286392726, \"normalized_flux\": 35.2551321554121, \"relative_error\": 12.081964699720455, \"symm_relative_error\": 12.858760129557913}, {\"BiGG_ID\": \"PYK\", \"author\": \"Khodayari\", \"sample_id\": \"pgm\", \"flux\": null, \"normalized_flux\": null, \"relative_error\": null, \"symm_relative_error\": null}, {\"BiGG_ID\": \"PYK\", \"author\": \"Khodayari\", \"sample_id\": \"ppc\", \"flux\": null, \"normalized_flux\": null, \"relative_error\": null, \"symm_relative_error\": null}, {\"BiGG_ID\": \"PYK\", \"author\": \"Khodayari\", \"sample_id\": \"ppsA\", \"flux\": 26.89506756108861, \"normalized_flux\": 28.823012755789993, \"relative_error\": null, \"symm_relative_error\": null}, {\"BiGG_ID\": \"PYK\", \"author\": \"Khodayari\", \"sample_id\": \"pts\", \"flux\": null, \"normalized_flux\": null, \"relative_error\": null, \"symm_relative_error\": null}, {\"BiGG_ID\": \"PYK\", \"author\": \"Khodayari\", \"sample_id\": \"pykA\", \"flux\": 28.647544344448157, \"normalized_flux\": 27.176729957760596, \"relative_error\": null, \"symm_relative_error\": null}, {\"BiGG_ID\": \"PYK\", \"author\": \"Khodayari\", \"sample_id\": \"pykF\", \"flux\": 21.183253747311287, \"normalized_flux\": 19.020353217515847, \"relative_error\": null, \"symm_relative_error\": null}, {\"BiGG_ID\": \"PYK\", \"author\": \"Khodayari\", \"sample_id\": \"rpe\", \"flux\": 35.25196122211416, \"normalized_flux\": 35.25291827393136, \"relative_error\": 26.35454578470021, \"symm_relative_error\": 23.286076003764155}, {\"BiGG_ID\": \"PYK\", \"author\": \"Khodayari\", \"sample_id\": \"rpiA\", \"flux\": 0.8282745335864554, \"normalized_flux\": 8.75132508971291, \"relative_error\": null, \"symm_relative_error\": null}, {\"BiGG_ID\": \"PYK\", \"author\": \"Khodayari\", \"sample_id\": \"rpiB\", \"flux\": 0.8282745335864554, \"normalized_flux\": 8.75132508971291, \"relative_error\": 76.02376687749887, \"symm_relative_error\": 122.64248551959096}, {\"BiGG_ID\": \"PYK\", \"author\": \"Khodayari\", \"sample_id\": \"sdhCD\", \"flux\": null, \"normalized_flux\": null, \"relative_error\": null, \"symm_relative_error\": null}, {\"BiGG_ID\": \"PYK\", \"author\": \"Khodayari\", \"sample_id\": \"sucA\", \"flux\": -1.5800835512718336, \"normalized_flux\": -3.472340387765044, \"relative_error\": null, \"symm_relative_error\": null}, {\"BiGG_ID\": \"PYK\", \"author\": \"Khodayari\", \"sample_id\": \"sucAB\", \"flux\": null, \"normalized_flux\": null, \"relative_error\": null, \"symm_relative_error\": null}, {\"BiGG_ID\": \"PYK\", \"author\": \"Khodayari\", \"sample_id\": \"talA\", \"flux\": 35.32935050890066, \"normalized_flux\": 35.33049174551303, \"relative_error\": 31.340118013059598, \"symm_relative_error\": 27.09440825243323}, {\"BiGG_ID\": \"PYK\", \"author\": \"Khodayari\", \"sample_id\": \"talAB\", \"flux\": null, \"normalized_flux\": null, \"relative_error\": null, \"symm_relative_error\": null}, {\"BiGG_ID\": \"PYK\", \"author\": \"Khodayari\", \"sample_id\": \"talB\", \"flux\": null, \"normalized_flux\": null, \"relative_error\": null, \"symm_relative_error\": null}, {\"BiGG_ID\": \"PYK\", \"author\": \"Khodayari\", \"sample_id\": \"tkt1\", \"flux\": null, \"normalized_flux\": null, \"relative_error\": null, \"symm_relative_error\": null}, {\"BiGG_ID\": \"PYK\", \"author\": \"Khodayari\", \"sample_id\": \"tkt2\", \"flux\": null, \"normalized_flux\": null, \"relative_error\": null, \"symm_relative_error\": null}, {\"BiGG_ID\": \"PYK\", \"author\": \"Khodayari\", \"sample_id\": \"tktA\", \"flux\": 35.331287859220765, \"normalized_flux\": 35.32321510066816, \"relative_error\": 66.61893915409509, \"symm_relative_error\": 49.97314846834043}, {\"BiGG_ID\": \"PYK\", \"author\": \"Khodayari\", \"sample_id\": \"tktB\", \"flux\": 35.331287859220765, \"normalized_flux\": 35.32321510066816, \"relative_error\": 26.154339645243418, \"symm_relative_error\": 23.12963765035009}, {\"BiGG_ID\": \"PYK\", \"author\": \"Khodayari\", \"sample_id\": \"tpi\", \"flux\": 0.08843832400397389, \"normalized_flux\": 4.03064994412815, \"relative_error\": null, \"symm_relative_error\": null}, {\"BiGG_ID\": \"PYK\", \"author\": \"Khodayari\", \"sample_id\": \"tpiA\", \"flux\": null, \"normalized_flux\": null, \"relative_error\": null, \"symm_relative_error\": null}, {\"BiGG_ID\": \"PYK\", \"author\": \"Khodayari\", \"sample_id\": \"zwf\", \"flux\": 0.6513002033616635, \"normalized_flux\": 14.694056910261496, \"relative_error\": 51.18253518185549, \"symm_relative_error\": 68.78565663566538}, {\"BiGG_ID\": \"RPE\", \"author\": \"Khodayari\", \"sample_id\": \"WT\", \"flux\": 5.59440594861303, \"normalized_flux\": 5.093094124166779, \"relative_error\": 58.592730697831065, \"symm_relative_error\": 82.87088915156976}, {\"BiGG_ID\": \"RPE\", \"author\": \"Khodayari\", \"sample_id\": \"eda\", \"flux\": 5.6448110775529585, \"normalized_flux\": 5.12867147572091, \"relative_error\": 54.20829039534901, \"symm_relative_error\": 74.36402322511717}, {\"BiGG_ID\": \"RPE\", \"author\": \"Khodayari\", \"sample_id\": \"edd\", \"flux\": 5.565832317120339, \"normalized_flux\": 5.073451598278638, \"relative_error\": 57.365952955641696, \"symm_relative_error\": 80.43795172943702}, {\"BiGG_ID\": \"RPE\", \"author\": \"Khodayari\", \"sample_id\": \"fbaA\", \"flux\": 7.683148127918912, \"normalized_flux\": 7.670508533608847, \"relative_error\": null, \"symm_relative_error\": null}, {\"BiGG_ID\": \"RPE\", \"author\": \"Khodayari\", \"sample_id\": \"fbaB\", \"flux\": 7.683148127918912, \"normalized_flux\": 7.670508533608847, \"relative_error\": 28.31300435879582, \"symm_relative_error\": 32.98211871324845}, {\"BiGG_ID\": \"RPE\", \"author\": \"Khodayari\", \"sample_id\": \"fbp\", \"flux\": 5.494847462082134, \"normalized_flux\": 5.014076791019283, \"relative_error\": 58.901009909678, \"symm_relative_error\": 83.48891777605719}, {\"BiGG_ID\": \"RPE\", \"author\": \"Khodayari\", \"sample_id\": \"glk\", \"flux\": null, \"normalized_flux\": null, \"relative_error\": null, \"symm_relative_error\": null}, {\"BiGG_ID\": \"RPE\", \"author\": \"Khodayari\", \"sample_id\": \"gnd\", \"flux\": -9.28865295998782e-05, \"normalized_flux\": 0.0, \"relative_error\": 100.0, \"symm_relative_error\": 200.0}, {\"BiGG_ID\": \"RPE\", \"author\": \"Khodayari\", \"sample_id\": \"gpmA\", \"flux\": null, \"normalized_flux\": null, \"relative_error\": null, \"symm_relative_error\": null}, {\"BiGG_ID\": \"RPE\", \"author\": \"Khodayari\", \"sample_id\": \"pfkA\", \"flux\": 3.8150256604988044, \"normalized_flux\": 4.162392824464116, \"relative_error\": 91.20001517026614, \"symm_relative_error\": 167.6471100855194}, {\"BiGG_ID\": \"RPE\", \"author\": \"Khodayari\", \"sample_id\": \"pfkB\", \"flux\": 3.8150256604988044, \"normalized_flux\": 4.162392824464116, \"relative_error\": 68.46672102678698, \"symm_relative_error\": 104.10554889417811}, {\"BiGG_ID\": \"RPE\", \"author\": \"Khodayari\", \"sample_id\": \"pgi\", \"flux\": 2.952472725533198, \"normalized_flux\": 45.222913365011884, \"relative_error\": 12.017678278186994, \"symm_relative_error\": 12.785966433557983}, {\"BiGG_ID\": \"RPE\", \"author\": \"Khodayari\", \"sample_id\": \"pgl\", \"flux\": 7.673973620563174, \"normalized_flux\": 7.669120326936938, \"relative_error\": 10.824182244919319, \"symm_relative_error\": 11.443515744631808}, {\"BiGG_ID\": \"RPE\", \"author\": \"Khodayari\", \"sample_id\": \"pgm\", \"flux\": null, \"normalized_flux\": null, \"relative_error\": null, \"symm_relative_error\": null}, {\"BiGG_ID\": \"RPE\", \"author\": \"Khodayari\", \"sample_id\": \"ppc\", \"flux\": null, \"normalized_flux\": null, \"relative_error\": null, \"symm_relative_error\": null}, {\"BiGG_ID\": \"RPE\", \"author\": \"Khodayari\", \"sample_id\": \"ppsA\", \"flux\": 7.125605403891086, \"normalized_flux\": 7.636397082200371, \"relative_error\": null, \"symm_relative_error\": null}, {\"BiGG_ID\": \"RPE\", \"author\": \"Khodayari\", \"sample_id\": \"pts\", \"flux\": null, \"normalized_flux\": null, \"relative_error\": null, \"symm_relative_error\": null}, {\"BiGG_ID\": \"RPE\", \"author\": \"Khodayari\", \"sample_id\": \"pykA\", \"flux\": 7.829272763030758, \"normalized_flux\": 7.427304382121406, \"relative_error\": null, \"symm_relative_error\": null}, {\"BiGG_ID\": \"RPE\", \"author\": \"Khodayari\", \"sample_id\": \"pykF\", \"flux\": 8.113452774758116, \"normalized_flux\": 7.285034651917945, \"relative_error\": null, \"symm_relative_error\": null}, {\"BiGG_ID\": \"RPE\", \"author\": \"Khodayari\", \"sample_id\": \"rpe\", \"flux\": 1.655504223653902e-07, \"normalized_flux\": 0.0, \"relative_error\": 0.0, \"symm_relative_error\": null}, {\"BiGG_ID\": \"RPE\", \"author\": \"Khodayari\", \"sample_id\": \"rpiA\", \"flux\": 2.8982785495852568, \"normalized_flux\": 30.62242862657654, \"relative_error\": null, \"symm_relative_error\": null}, {\"BiGG_ID\": \"RPE\", \"author\": \"Khodayari\", \"sample_id\": \"rpiB\", \"flux\": 2.8982785495852568, \"normalized_flux\": 30.62242862657654, \"relative_error\": 386.0702956599451, \"symm_relative_error\": 131.74880164339677}, {\"BiGG_ID\": \"RPE\", \"author\": \"Khodayari\", \"sample_id\": \"sdhCD\", \"flux\": null, \"normalized_flux\": null, \"relative_error\": null, \"symm_relative_error\": null}, {\"BiGG_ID\": \"RPE\", \"author\": \"Khodayari\", \"sample_id\": \"sucA\", \"flux\": 2.998845714672825, \"normalized_flux\": 6.590166123400869, \"relative_error\": null, \"symm_relative_error\": null}, {\"BiGG_ID\": \"RPE\", \"author\": \"Khodayari\", \"sample_id\": \"sucAB\", \"flux\": null, \"normalized_flux\": null, \"relative_error\": null, \"symm_relative_error\": null}, {\"BiGG_ID\": \"RPE\", \"author\": \"Khodayari\", \"sample_id\": \"talA\", \"flux\": 7.673764616975177, \"normalized_flux\": 7.674012500986897, \"relative_error\": 36.57840908275291, \"symm_relative_error\": 44.76569941272372}, {\"BiGG_ID\": \"RPE\", \"author\": \"Khodayari\", \"sample_id\": \"talAB\", \"flux\": null, \"normalized_flux\": null, \"relative_error\": null, \"symm_relative_error\": null}, {\"BiGG_ID\": \"RPE\", \"author\": \"Khodayari\", \"sample_id\": \"talB\", \"flux\": null, \"normalized_flux\": null, \"relative_error\": null, \"symm_relative_error\": null}, {\"BiGG_ID\": \"RPE\", \"author\": \"Khodayari\", \"sample_id\": \"tkt1\", \"flux\": null, \"normalized_flux\": null, \"relative_error\": null, \"symm_relative_error\": null}, {\"BiGG_ID\": \"RPE\", \"author\": \"Khodayari\", \"sample_id\": \"tkt2\", \"flux\": null, \"normalized_flux\": null, \"relative_error\": null, \"symm_relative_error\": null}, {\"BiGG_ID\": \"RPE\", \"author\": \"Khodayari\", \"sample_id\": \"tktA\", \"flux\": 7.023987744830492, \"normalized_flux\": 7.022382851248169, \"relative_error\": 16.40020415180751, \"symm_relative_error\": 17.86516599982262}, {\"BiGG_ID\": \"RPE\", \"author\": \"Khodayari\", \"sample_id\": \"tktB\", \"flux\": 7.023987744830492, \"normalized_flux\": 7.022382851248169, \"relative_error\": 42.90745649391733, \"symm_relative_error\": 54.626980423492775}, {\"BiGG_ID\": \"RPE\", \"author\": \"Khodayari\", \"sample_id\": \"tpi\", \"flux\": 0.5825160074547284, \"normalized_flux\": 26.548650026380564, \"relative_error\": null, \"symm_relative_error\": null}, {\"BiGG_ID\": \"RPE\", \"author\": \"Khodayari\", \"sample_id\": \"tpiA\", \"flux\": null, \"normalized_flux\": null, \"relative_error\": null, \"symm_relative_error\": null}, {\"BiGG_ID\": \"RPE\", \"author\": \"Khodayari\", \"sample_id\": \"zwf\", \"flux\": -0.015622996709630854, \"normalized_flux\": -0.35247218037895733, \"relative_error\": 94.02589524781428, \"symm_relative_error\": 177.4506998057466}, {\"BiGG_ID\": \"RPI\", \"author\": \"Khodayari\", \"sample_id\": \"WT\", \"flux\": 12.509201562763998, \"normalized_flux\": 11.388258478655162, \"relative_error\": 25.07724685095288, \"symm_relative_error\": 28.672366972849105}, {\"BiGG_ID\": \"RPI\", \"author\": \"Khodayari\", \"sample_id\": \"eda\", \"flux\": 12.585699267297088, \"normalized_flux\": 11.434911806148495, \"relative_error\": 14.023219502642897, \"symm_relative_error\": 15.080613251977637}, {\"BiGG_ID\": \"RPI\", \"author\": \"Khodayari\", \"sample_id\": \"edd\", \"flux\": 12.462178558423432, \"normalized_flux\": 11.359713358734323, \"relative_error\": 21.11310167545609, \"symm_relative_error\": 23.60497260917548}, {\"BiGG_ID\": \"RPI\", \"author\": \"Khodayari\", \"sample_id\": \"fbaA\", \"flux\": 12.256589881885132, \"normalized_flux\": 12.23642649037522, \"relative_error\": null, \"symm_relative_error\": null}, {\"BiGG_ID\": \"RPI\", \"author\": \"Khodayari\", \"sample_id\": \"fbaB\", \"flux\": 12.256589881885132, \"normalized_flux\": 12.23642649037522, \"relative_error\": 11.33024282336798, \"symm_relative_error\": 12.010661372464314}, {\"BiGG_ID\": \"RPI\", \"author\": \"Khodayari\", \"sample_id\": \"fbp\", \"flux\": 12.378692061619262, \"normalized_flux\": 11.295620669662918, \"relative_error\": 23.678238718493798, \"symm_relative_error\": 26.857987971989854}, {\"BiGG_ID\": \"RPI\", \"author\": \"Khodayari\", \"sample_id\": \"glk\", \"flux\": null, \"normalized_flux\": null, \"relative_error\": null, \"symm_relative_error\": null}, {\"BiGG_ID\": \"RPI\", \"author\": \"Khodayari\", \"sample_id\": \"gnd\", \"flux\": 9.089315624978295e-05, \"normalized_flux\": 0.0, \"relative_error\": 100.0, \"symm_relative_error\": 200.0}, {\"BiGG_ID\": \"RPI\", \"author\": \"Khodayari\", \"sample_id\": \"gpmA\", \"flux\": null, \"normalized_flux\": null, \"relative_error\": null, \"symm_relative_error\": null}, {\"BiGG_ID\": \"RPI\", \"author\": \"Khodayari\", \"sample_id\": \"pfkA\", \"flux\": 9.754548646778744, \"normalized_flux\": 10.642723511309057, \"relative_error\": 65.21985780617955, \"symm_relative_error\": 96.77962457168238}, {\"BiGG_ID\": \"RPI\", \"author\": \"Khodayari\", \"sample_id\": \"pfkB\", \"flux\": 9.754548646778744, \"normalized_flux\": 10.642723511309057, \"relative_error\": 30.89140577072041, \"symm_relative_error\": 36.53440076361518}, {\"BiGG_ID\": \"RPI\", \"author\": \"Khodayari\", \"sample_id\": \"pgi\", \"flux\": 2.5042735181838474, \"normalized_flux\": 38.35786301283082, \"relative_error\": 8.050318346002307, \"symm_relative_error\": 7.738818580045681}, {\"BiGG_ID\": \"RPI\", \"author\": \"Khodayari\", \"sample_id\": \"pgl\", \"flux\": 12.270198733559543, \"normalized_flux\": 12.26243862383664, \"relative_error\": 12.499436915932478, \"symm_relative_error\": 11.764207093760362}, {\"BiGG_ID\": \"RPI\", \"author\": \"Khodayari\", \"sample_id\": \"pgm\", \"flux\": null, \"normalized_flux\": null, \"relative_error\": null, \"symm_relative_error\": null}, {\"BiGG_ID\": \"RPI\", \"author\": \"Khodayari\", \"sample_id\": \"ppc\", \"flux\": null, \"normalized_flux\": null, \"relative_error\": null, \"symm_relative_error\": null}, {\"BiGG_ID\": \"RPI\", \"author\": \"Khodayari\", \"sample_id\": \"ppsA\", \"flux\": 13.256300427195097, \"normalized_flux\": 14.206564658734147, \"relative_error\": null, \"symm_relative_error\": null}, {\"BiGG_ID\": \"RPI\", \"author\": \"Khodayari\", \"sample_id\": \"pts\", \"flux\": null, \"normalized_flux\": null, \"relative_error\": null, \"symm_relative_error\": null}, {\"BiGG_ID\": \"RPI\", \"author\": \"Khodayari\", \"sample_id\": \"pykA\", \"flux\": 12.084774109494177, \"normalized_flux\": 11.46432094232566, \"relative_error\": null, \"symm_relative_error\": null}, {\"BiGG_ID\": \"RPI\", \"author\": \"Khodayari\", \"sample_id\": \"pykF\", \"flux\": 11.840960654854932, \"normalized_flux\": 10.63194808392619, \"relative_error\": null, \"symm_relative_error\": null}, {\"BiGG_ID\": \"RPI\", \"author\": \"Khodayari\", \"sample_id\": \"rpe\", \"flux\": 14.04217199252013, \"normalized_flux\": 14.042553221982457, \"relative_error\": 54.3137716701369, \"symm_relative_error\": 42.71398384243676}, {\"BiGG_ID\": \"RPI\", \"author\": \"Khodayari\", \"sample_id\": \"rpiA\", \"flux\": 0.7080287802480995, \"normalized_flux\": 7.4808409260083355, \"relative_error\": null, \"symm_relative_error\": null}, {\"BiGG_ID\": \"RPI\", \"author\": \"Khodayari\", \"sample_id\": \"rpiB\", \"flux\": 0.7080287802480995, \"normalized_flux\": 7.4808409260083355, \"relative_error\": 30.085598822352, \"symm_relative_error\": 35.41265321106839}, {\"BiGG_ID\": \"RPI\", \"author\": \"Khodayari\", \"sample_id\": \"sdhCD\", \"flux\": null, \"normalized_flux\": null, \"relative_error\": null, \"symm_relative_error\": null}, {\"BiGG_ID\": \"RPI\", \"author\": \"Khodayari\", \"sample_id\": \"sucA\", \"flux\": 10.608418233551092, \"normalized_flux\": 23.312715997209555, \"relative_error\": null, \"symm_relative_error\": null}, {\"BiGG_ID\": \"RPI\", \"author\": \"Khodayari\", \"sample_id\": \"sucAB\", \"flux\": null, \"normalized_flux\": null, \"relative_error\": null, \"symm_relative_error\": null}, {\"BiGG_ID\": \"RPI\", \"author\": \"Khodayari\", \"sample_id\": \"talA\", \"flux\": 12.250232626064655, \"normalized_flux\": 12.25062834276427, \"relative_error\": 15.512907980936074, \"symm_relative_error\": 16.817336986734066}, {\"BiGG_ID\": \"RPI\", \"author\": \"Khodayari\", \"sample_id\": \"talAB\", \"flux\": null, \"normalized_flux\": null, \"relative_error\": null, \"symm_relative_error\": null}, {\"BiGG_ID\": \"RPI\", \"author\": \"Khodayari\", \"sample_id\": \"talB\", \"flux\": null, \"normalized_flux\": null, \"relative_error\": null, \"symm_relative_error\": null}, {\"BiGG_ID\": \"RPI\", \"author\": \"Khodayari\", \"sample_id\": \"tkt1\", \"flux\": null, \"normalized_flux\": null, \"relative_error\": null, \"symm_relative_error\": null}, {\"BiGG_ID\": \"RPI\", \"author\": \"Khodayari\", \"sample_id\": \"tkt2\", \"flux\": null, \"normalized_flux\": null, \"relative_error\": null, \"symm_relative_error\": null}, {\"BiGG_ID\": \"RPI\", \"author\": \"Khodayari\", \"sample_id\": \"tktA\", \"flux\": 12.666727704436592, \"normalized_flux\": 12.663833515161155, \"relative_error\": 5.493779737603323, \"symm_relative_error\": 5.648950177729016}, {\"BiGG_ID\": \"RPI\", \"author\": \"Khodayari\", \"sample_id\": \"tktB\", \"flux\": 12.666727704436592, \"normalized_flux\": 12.663833515161155, \"relative_error\": 13.261414279718114, \"symm_relative_error\": 14.203185944208185}, {\"BiGG_ID\": \"RPI\", \"author\": \"Khodayari\", \"sample_id\": \"tpi\", \"flux\": 0.6761177813187769, \"normalized_flux\": 30.814628479098303, \"relative_error\": null, \"symm_relative_error\": null}, {\"BiGG_ID\": \"RPI\", \"author\": \"Khodayari\", \"sample_id\": \"tpiA\", \"flux\": null, \"normalized_flux\": null, \"relative_error\": null, \"symm_relative_error\": null}, {\"BiGG_ID\": \"RPI\", \"author\": \"Khodayari\", \"sample_id\": \"zwf\", \"flux\": 0.03494174797574301, \"normalized_flux\": 0.7883246936658392, \"relative_error\": 86.63856451413832, \"symm_relative_error\": 152.85368281163625}, {\"BiGG_ID\": \"SUCDi\", \"author\": \"Khodayari\", \"sample_id\": \"WT\", \"flux\": 90.68415955533325, \"normalized_flux\": 82.55799890617088, \"relative_error\": 931.974986327136, \"symm_relative_error\": 164.66353012818237}, {\"BiGG_ID\": \"SUCDi\", \"author\": \"Khodayari\", \"sample_id\": \"eda\", \"flux\": 90.5442476466084, \"normalized_flux\": 82.26523329405687, \"relative_error\": 748.0951885985245, \"symm_relative_error\": 157.81014345286567}, {\"BiGG_ID\": \"SUCDi\", \"author\": \"Khodayari\", \"sample_id\": \"edd\", \"flux\": 90.7620243317221, \"normalized_flux\": 82.73277223828087, \"relative_error\": 1116.6584152688363, \"symm_relative_error\": 169.62006277700146}, {\"BiGG_ID\": \"SUCDi\", \"author\": \"Khodayari\", \"sample_id\": \"fbaA\", \"flux\": 86.94068152065032, \"normalized_flux\": 86.7976548699642, \"relative_error\": null, \"symm_relative_error\": null}, {\"BiGG_ID\": \"SUCDi\", \"author\": \"Khodayari\", \"sample_id\": \"fbaB\", \"flux\": 86.94068152065032, \"normalized_flux\": 86.7976548699642, \"relative_error\": 1122.5021812671016, \"symm_relative_error\": 169.75430319390807}, {\"BiGG_ID\": \"SUCDi\", \"author\": \"Khodayari\", \"sample_id\": \"fbp\", \"flux\": 90.83371385637167, \"normalized_flux\": 82.88623471937828, \"relative_error\": 1304.8514359216656, \"symm_relative_error\": 173.4193030320621}, {\"BiGG_ID\": \"SUCDi\", \"author\": \"Khodayari\", \"sample_id\": \"glk\", \"flux\": null, \"normalized_flux\": null, \"relative_error\": null, \"symm_relative_error\": null}, {\"BiGG_ID\": \"SUCDi\", \"author\": \"Khodayari\", \"sample_id\": \"gnd\", \"flux\": 12.538942706691728, \"normalized_flux\": 129.740611075841, \"relative_error\": 972.2364551722399, \"symm_relative_error\": 165.87719156531207}, {\"BiGG_ID\": \"SUCDi\", \"author\": \"Khodayari\", \"sample_id\": \"gpmA\", \"flux\": null, \"normalized_flux\": null, \"relative_error\": null, \"symm_relative_error\": null}, {\"BiGG_ID\": \"SUCDi\", \"author\": \"Khodayari\", \"sample_id\": \"pfkA\", \"flux\": 81.93686527660813, \"normalized_flux\": 89.3974118228722, \"relative_error\": 150.4129182713507, \"symm_relative_error\": 85.84895728922575}, {\"BiGG_ID\": \"SUCDi\", \"author\": \"Khodayari\", \"sample_id\": \"pfkB\", \"flux\": 81.93686527660813, \"normalized_flux\": 89.3974118228722, \"relative_error\": 1365.531341358561, \"symm_relative_error\": 174.4495693294213}, {\"BiGG_ID\": \"SUCDi\", \"author\": \"Khodayari\", \"sample_id\": \"pgi\", \"flux\": 4.095435603542029, \"normalized_flux\": 62.729632653090476, \"relative_error\": 114.82750908592627, \"symm_relative_error\": 72.94629965425688}, {\"BiGG_ID\": \"SUCDi\", \"author\": \"Khodayari\", \"sample_id\": \"pgl\", \"flux\": 87.18372205517635, \"normalized_flux\": 87.12858397111673, \"relative_error\": 937.2450472751989, \"symm_relative_error\": 164.8272814237893}, {\"BiGG_ID\": \"SUCDi\", \"author\": \"Khodayari\", \"sample_id\": \"pgm\", \"flux\": null, \"normalized_flux\": null, \"relative_error\": null, \"symm_relative_error\": null}, {\"BiGG_ID\": \"SUCDi\", \"author\": \"Khodayari\", \"sample_id\": \"ppc\", \"flux\": null, \"normalized_flux\": null, \"relative_error\": null, \"symm_relative_error\": null}, {\"BiGG_ID\": \"SUCDi\", \"author\": \"Khodayari\", \"sample_id\": \"ppsA\", \"flux\": 87.95675690583016, \"normalized_flux\": 94.26184635886625, \"relative_error\": null, \"symm_relative_error\": null}, {\"BiGG_ID\": \"SUCDi\", \"author\": \"Khodayari\", \"sample_id\": \"pts\", \"flux\": null, \"normalized_flux\": null, \"relative_error\": null, \"symm_relative_error\": null}, {\"BiGG_ID\": \"SUCDi\", \"author\": \"Khodayari\", \"sample_id\": \"pykA\", \"flux\": 86.08087354760836, \"normalized_flux\": 81.66133288087086, \"relative_error\": null, \"symm_relative_error\": null}, {\"BiGG_ID\": \"SUCDi\", \"author\": \"Khodayari\", \"sample_id\": \"pykF\", \"flux\": 85.98122983599322, \"normalized_flux\": 77.20217965875887, \"relative_error\": null, \"symm_relative_error\": null}, {\"BiGG_ID\": \"SUCDi\", \"author\": \"Khodayari\", \"sample_id\": \"rpe\", \"flux\": 86.95204842570332, \"normalized_flux\": 86.95440907779384, \"relative_error\": 260.8066766713437, \"symm_relative_error\": 113.19570217831549}, {\"BiGG_ID\": \"SUCDi\", \"author\": \"Khodayari\", \"sample_id\": \"rpiA\", \"flux\": 10.142051725918122, \"normalized_flux\": 107.15818020611519, \"relative_error\": null, \"symm_relative_error\": null}, {\"BiGG_ID\": \"SUCDi\", \"author\": \"Khodayari\", \"sample_id\": \"rpiB\", \"flux\": 10.142051725918122, \"normalized_flux\": 107.15818020611519, \"relative_error\": 4364.9241752548, \"symm_relative_error\": 191.237532439897}, {\"BiGG_ID\": \"SUCDi\", \"author\": \"Khodayari\", \"sample_id\": \"sdhCD\", \"flux\": null, \"normalized_flux\": null, \"relative_error\": null, \"symm_relative_error\": null}, {\"BiGG_ID\": \"SUCDi\", \"author\": \"Khodayari\", \"sample_id\": \"sucA\", \"flux\": 19.123161736738098, \"normalized_flux\": 42.024440281522274, \"relative_error\": null, \"symm_relative_error\": null}, {\"BiGG_ID\": \"SUCDi\", \"author\": \"Khodayari\", \"sample_id\": \"sucAB\", \"flux\": null, \"normalized_flux\": null, \"relative_error\": null, \"symm_relative_error\": null}, {\"BiGG_ID\": \"SUCDi\", \"author\": \"Khodayari\", \"sample_id\": \"talA\", \"flux\": 86.7496289765285, \"normalized_flux\": 86.75243123163003, \"relative_error\": 1139.3204461661433, \"symm_relative_error\": 170.13410784961766}, {\"BiGG_ID\": \"SUCDi\", \"author\": \"Khodayari\", \"sample_id\": \"talAB\", \"flux\": null, \"normalized_flux\": null, \"relative_error\": null, \"symm_relative_error\": null}, {\"BiGG_ID\": \"SUCDi\", \"author\": \"Khodayari\", \"sample_id\": \"talB\", \"flux\": null, \"normalized_flux\": null, \"relative_error\": null, \"symm_relative_error\": null}, {\"BiGG_ID\": \"SUCDi\", \"author\": \"Khodayari\", \"sample_id\": \"tkt1\", \"flux\": null, \"normalized_flux\": null, \"relative_error\": null, \"symm_relative_error\": null}, {\"BiGG_ID\": \"SUCDi\", \"author\": \"Khodayari\", \"sample_id\": \"tkt2\", \"flux\": null, \"normalized_flux\": null, \"relative_error\": null, \"symm_relative_error\": null}, {\"BiGG_ID\": \"SUCDi\", \"author\": \"Khodayari\", \"sample_id\": \"tktA\", \"flux\": 87.06301316583972, \"normalized_flux\": 87.0431203533572, \"relative_error\": 569.5624642565938, \"symm_relative_error\": 148.02241291921578}, {\"BiGG_ID\": \"SUCDi\", \"author\": \"Khodayari\", \"sample_id\": \"tktB\", \"flux\": 87.06301316583972, \"normalized_flux\": 87.0431203533572, \"relative_error\": 1092.3715116898247, \"symm_relative_error\": 169.04914752593203}, {\"BiGG_ID\": \"SUCDi\", \"author\": \"Khodayari\", \"sample_id\": \"tpi\", \"flux\": 3.527833566822551, \"normalized_flux\": 160.7839398716759, \"relative_error\": null, \"symm_relative_error\": null}, {\"BiGG_ID\": \"SUCDi\", \"author\": \"Khodayari\", \"sample_id\": \"tpiA\", \"flux\": null, \"normalized_flux\": null, \"relative_error\": null, \"symm_relative_error\": null}, {\"BiGG_ID\": \"SUCDi\", \"author\": \"Khodayari\", \"sample_id\": \"zwf\", \"flux\": 5.106444639174953, \"normalized_flux\": 115.20707002676966, \"relative_error\": 1138.785699212577, \"symm_relative_error\": 170.12217861041802}, {\"BiGG_ID\": \"TALA\", \"author\": \"Khodayari\", \"sample_id\": \"WT\", \"flux\": 4.649987603897216, \"normalized_flux\": 4.233304619005837, \"relative_error\": 44.29862343413372, \"symm_relative_error\": 56.90203183964027}, {\"BiGG_ID\": \"TALA\", \"author\": \"Khodayari\", \"sample_id\": \"eda\", \"flux\": 4.678819698399593, \"normalized_flux\": 4.2510065965972945, \"relative_error\": 38.39120874496675, \"symm_relative_error\": 47.51128753185457}, {\"BiGG_ID\": \"TALA\", \"author\": \"Khodayari\", \"sample_id\": \"edd\", \"flux\": 4.6237754686683274, \"normalized_flux\": 4.214733701092506, \"relative_error\": 42.26392190284239, \"symm_relative_error\": 53.58814852339602}, {\"BiGG_ID\": \"TALA\", \"author\": \"Khodayari\", \"sample_id\": \"fbaA\", \"flux\": 5.270985318971043, \"normalized_flux\": 5.262313988555844, \"relative_error\": null, \"symm_relative_error\": null}, {\"BiGG_ID\": \"TALA\", \"author\": \"Khodayari\", \"sample_id\": \"fbaB\", \"flux\": 5.270985318971043, \"normalized_flux\": 5.262313988555844, \"relative_error\": 20.267969870365995, \"symm_relative_error\": 22.553542466245403}, {\"BiGG_ID\": \"TALA\", \"author\": \"Khodayari\", \"sample_id\": \"fbp\", \"flux\": 4.576195884305662, \"normalized_flux\": 4.175802464580227, \"relative_error\": 44.32263380559698, \"symm_relative_error\": 56.94165425467031}, {\"BiGG_ID\": \"TALA\", \"author\": \"Khodayari\", \"sample_id\": \"glk\", \"flux\": null, \"normalized_flux\": null, \"relative_error\": null, \"symm_relative_error\": null}, {\"BiGG_ID\": \"TALA\", \"author\": \"Khodayari\", \"sample_id\": \"gnd\", \"flux\": -0.00031320232230225287, \"normalized_flux\": 0.0, \"relative_error\": 100.0, \"symm_relative_error\": 200.0}, {\"BiGG_ID\": \"TALA\", \"author\": \"Khodayari\", \"sample_id\": \"gpmA\", \"flux\": null, \"normalized_flux\": null, \"relative_error\": null, \"symm_relative_error\": null}, {\"BiGG_ID\": \"TALA\", \"author\": \"Khodayari\", \"sample_id\": \"pfkA\", \"flux\": 3.3724991160553373, \"normalized_flux\": 3.67957318518925, \"relative_error\": 85.22259764984238, \"symm_relative_error\": 148.5006558866861}, {\"BiGG_ID\": \"TALA\", \"author\": \"Khodayari\", \"sample_id\": \"pfkB\", \"flux\": 3.3724991160553373, \"normalized_flux\": 3.67957318518925, \"relative_error\": 53.423124238110766, \"symm_relative_error\": 72.89434156707692}, {\"BiGG_ID\": \"TALA\", \"author\": \"Khodayari\", \"sample_id\": \"pgi\", \"flux\": 1.4606028773970028, \"normalized_flux\": 22.371999176819838, \"relative_error\": 18.94203196804407, \"symm_relative_error\": 20.92372092091621}, {\"BiGG_ID\": \"TALA\", \"author\": \"Khodayari\", \"sample_id\": \"pgl\", \"flux\": 6.2844226160143535, \"normalized_flux\": 6.2804481238236125, \"relative_error\": 14.189965887702046, \"symm_relative_error\": 13.24988855466901}, {\"BiGG_ID\": \"TALA\", \"author\": \"Khodayari\", \"sample_id\": \"pgm\", \"flux\": null, \"normalized_flux\": null, \"relative_error\": null, \"symm_relative_error\": null}, {\"BiGG_ID\": \"TALA\", \"author\": \"Khodayari\", \"sample_id\": \"ppc\", \"flux\": null, \"normalized_flux\": null, \"relative_error\": null, \"symm_relative_error\": null}, {\"BiGG_ID\": \"TALA\", \"author\": \"Khodayari\", \"sample_id\": \"ppsA\", \"flux\": 6.168730606165582, \"normalized_flux\": 6.6109297009457295, \"relative_error\": null, \"symm_relative_error\": null}, {\"BiGG_ID\": \"TALA\", \"author\": \"Khodayari\", \"sample_id\": \"pts\", \"flux\": null, \"normalized_flux\": null, \"relative_error\": null, \"symm_relative_error\": null}, {\"BiGG_ID\": \"TALA\", \"author\": \"Khodayari\", \"sample_id\": \"pykA\", \"flux\": 6.328800447277217, \"normalized_flux\": 6.003868905627158, \"relative_error\": null, \"symm_relative_error\": null}, {\"BiGG_ID\": \"TALA\", \"author\": \"Khodayari\", \"sample_id\": \"pykF\", \"flux\": 6.356519331549862, \"normalized_flux\": 5.70749160456013, \"relative_error\": null, \"symm_relative_error\": null}, {\"BiGG_ID\": \"TALA\", \"author\": \"Khodayari\", \"sample_id\": \"rpe\", \"flux\": 5.218226720337725, \"normalized_flux\": 5.218368389430509, \"relative_error\": 226.14802433940682, \"symm_relative_error\": 106.13590181016096}, {\"BiGG_ID\": \"TALA\", \"author\": \"Khodayari\", \"sample_id\": \"rpiA\", \"flux\": 0.3942182693299543, \"normalized_flux\": 4.165203795741628, \"relative_error\": null, \"symm_relative_error\": null}, {\"BiGG_ID\": \"TALA\", \"author\": \"Khodayari\", \"sample_id\": \"rpiB\", \"flux\": 0.3942182693299543, \"normalized_flux\": 4.165203795741628, \"relative_error\": 5.336277369508459, \"symm_relative_error\": 5.482559664840809}, {\"BiGG_ID\": \"TALA\", \"author\": \"Khodayari\", \"sample_id\": \"sdhCD\", \"flux\": null, \"normalized_flux\": null, \"relative_error\": null, \"symm_relative_error\": null}, {\"BiGG_ID\": \"TALA\", \"author\": \"Khodayari\", \"sample_id\": \"sucA\", \"flux\": 1.2398670561719882, \"normalized_flux\": 2.7246916475650864, \"relative_error\": null, \"symm_relative_error\": null}, {\"BiGG_ID\": \"TALA\", \"author\": \"Khodayari\", \"sample_id\": \"sucAB\", \"flux\": null, \"normalized_flux\": null, \"relative_error\": null, \"symm_relative_error\": null}, {\"BiGG_ID\": \"TALA\", \"author\": \"Khodayari\", \"sample_id\": \"talA\", \"flux\": 1.1857858164210597, \"normalized_flux\": 1.1858241206120124, \"relative_error\": 83.9753497214593, \"symm_relative_error\": 144.75432508498744}, {\"BiGG_ID\": \"TALA\", \"author\": \"Khodayari\", \"sample_id\": \"talAB\", \"flux\": null, \"normalized_flux\": null, \"relative_error\": null, \"symm_relative_error\": null}, {\"BiGG_ID\": \"TALA\", \"author\": \"Khodayari\", \"sample_id\": \"talB\", \"flux\": null, \"normalized_flux\": null, \"relative_error\": null, \"symm_relative_error\": null}, {\"BiGG_ID\": \"TALA\", \"author\": \"Khodayari\", \"sample_id\": \"tkt1\", \"flux\": null, \"normalized_flux\": null, \"relative_error\": null, \"symm_relative_error\": null}, {\"BiGG_ID\": \"TALA\", \"author\": \"Khodayari\", \"sample_id\": \"tkt2\", \"flux\": null, \"normalized_flux\": null, \"relative_error\": null, \"symm_relative_error\": null}, {\"BiGG_ID\": \"TALA\", \"author\": \"Khodayari\", \"sample_id\": \"tktA\", \"flux\": 6.178194305291754, \"normalized_flux\": 6.17678266495992, \"relative_error\": 8.36460815719158, \"symm_relative_error\": 8.028818551451181}, {\"BiGG_ID\": \"TALA\", \"author\": \"Khodayari\", \"sample_id\": \"tktB\", \"flux\": 6.178194305291754, \"normalized_flux\": 6.17678266495992, \"relative_error\": 16.52996398702811, \"symm_relative_error\": 18.01925191300381}, {\"BiGG_ID\": \"TALA\", \"author\": \"Khodayari\", \"sample_id\": \"tpi\", \"flux\": 0.18361202717539848, \"normalized_flux\": 8.368270378377158, \"relative_error\": null, \"symm_relative_error\": null}, {\"BiGG_ID\": \"TALA\", \"author\": \"Khodayari\", \"sample_id\": \"tpiA\", \"flux\": null, \"normalized_flux\": null, \"relative_error\": null, \"symm_relative_error\": null}, {\"BiGG_ID\": \"TALA\", \"author\": \"Khodayari\", \"sample_id\": \"zwf\", \"flux\": 0.009885490708256839, \"normalized_flux\": 0.22302766420652603, \"relative_error\": 114.86851094710173, \"symm_relative_error\": 200.0}, {\"BiGG_ID\": \"TKT1\", \"author\": \"Khodayari\", \"sample_id\": \"WT\", \"flux\": 4.545781154932982, \"normalized_flux\": 4.138436056052946, \"relative_error\": 154.45310600069666, \"symm_relative_error\": 199.99999999999997}, {\"BiGG_ID\": \"TKT1\", \"author\": \"Khodayari\", \"sample_id\": \"eda\", \"flux\": 4.585013079624177, \"normalized_flux\": 4.165777290720177, \"relative_error\": 160.37358392348082, \"symm_relative_error\": 200.0}, {\"BiGG_ID\": \"TKT1\", \"author\": \"Khodayari\", \"sample_id\": \"edd\", \"flux\": 4.522805363314992, \"normalized_flux\": 4.122695904551722, \"relative_error\": 156.4752863637222, \"symm_relative_error\": 200.0}, {\"BiGG_ID\": \"TKT1\", \"author\": \"Khodayari\", \"sample_id\": \"fbaA\", \"flux\": 6.486941698792004, \"normalized_flux\": 6.476269991046602, \"relative_error\": null, \"symm_relative_error\": null}, {\"BiGG_ID\": \"TKT1\", \"author\": \"Khodayari\", \"sample_id\": \"fbaB\", \"flux\": 6.486941698792004, \"normalized_flux\": 6.476269991046602, \"relative_error\": 198.12530289464547, \"symm_relative_error\": 200.0}, {\"BiGG_ID\": \"TKT1\", \"author\": \"Khodayari\", \"sample_id\": \"fbp\", \"flux\": 4.476924183560775, \"normalized_flux\": 4.085216523087806, \"relative_error\": 154.46955364117073, \"symm_relative_error\": 199.99999999999997}, {\"BiGG_ID\": \"TKT1\", \"author\": \"Khodayari\", \"sample_id\": \"glk\", \"flux\": null, \"normalized_flux\": null, \"relative_error\": null, \"symm_relative_error\": null}, {\"BiGG_ID\": \"TKT1\", \"author\": \"Khodayari\", \"sample_id\": \"gnd\", \"flux\": -5.735963282497091e-05, \"normalized_flux\": 0.0, \"relative_error\": 100.0, \"symm_relative_error\": 200.0}, {\"BiGG_ID\": \"TKT1\", \"author\": \"Khodayari\", \"sample_id\": \"gpmA\", \"flux\": null, \"normalized_flux\": null, \"relative_error\": null, \"symm_relative_error\": null}, {\"BiGG_ID\": \"TKT1\", \"author\": \"Khodayari\", \"sample_id\": \"pfkA\", \"flux\": 3.2375197718850135, \"normalized_flux\": 3.532303650558658, \"relative_error\": 114.18595843597853, \"symm_relative_error\": 200.0}, {\"BiGG_ID\": \"TKT1\", \"author\": \"Khodayari\", \"sample_id\": \"pfkB\", \"flux\": 3.2375197718850135, \"normalized_flux\": 3.532303650558658, \"relative_error\": 144.71270443745138, \"symm_relative_error\": 200.0}, {\"BiGG_ID\": \"TKT1\", \"author\": \"Khodayari\", \"sample_id\": \"pgi\", \"flux\": 2.0151041435273624, \"normalized_flux\": 30.865274153466423, \"relative_error\": 211.8307034545885, \"symm_relative_error\": 200.0}, {\"BiGG_ID\": \"TKT1\", \"author\": \"Khodayari\", \"sample_id\": \"pgl\", \"flux\": 6.25110838861908, \"normalized_flux\": 6.247154965529626, \"relative_error\": 213.58463573690227, \"symm_relative_error\": 200.0}, {\"BiGG_ID\": \"TKT1\", \"author\": \"Khodayari\", \"sample_id\": \"pgm\", \"flux\": null, \"normalized_flux\": null, \"relative_error\": null, \"symm_relative_error\": null}, {\"BiGG_ID\": \"TKT1\", \"author\": \"Khodayari\", \"sample_id\": \"ppc\", \"flux\": null, \"normalized_flux\": null, \"relative_error\": null, \"symm_relative_error\": null}, {\"BiGG_ID\": \"TKT1\", \"author\": \"Khodayari\", \"sample_id\": \"ppsA\", \"flux\": 6.619792060272896, \"normalized_flux\": 7.094325030436921, \"relative_error\": null, \"symm_relative_error\": null}, {\"BiGG_ID\": \"TKT1\", \"author\": \"Khodayari\", \"sample_id\": \"pts\", \"flux\": null, \"normalized_flux\": null, \"relative_error\": null, \"symm_relative_error\": null}, {\"BiGG_ID\": \"TKT1\", \"author\": \"Khodayari\", \"sample_id\": \"pykA\", \"flux\": 6.13276137128266, \"normalized_flux\": 5.817894814256024, \"relative_error\": null, \"symm_relative_error\": null}, {\"BiGG_ID\": \"TKT1\", \"author\": \"Khodayari\", \"sample_id\": \"pykF\", \"flux\": 5.875361587910859, \"normalized_flux\": 5.275462118130625, \"relative_error\": null, \"symm_relative_error\": null}, {\"BiGG_ID\": \"TKT1\", \"author\": \"Khodayari\", \"sample_id\": \"rpe\", \"flux\": 3.7655005144590383, \"normalized_flux\": 3.7656027436396298, \"relative_error\": 335.3501714774768, \"symm_relative_error\": 200.0}, {\"BiGG_ID\": \"TKT1\", \"author\": \"Khodayari\", \"sample_id\": \"rpiA\", \"flux\": 0.7109436666215176, \"normalized_flux\": 7.511638828417459, \"relative_error\": null, \"symm_relative_error\": null}, {\"BiGG_ID\": \"TKT1\", \"author\": \"Khodayari\", \"sample_id\": \"rpiB\", \"flux\": 0.7109436666215176, \"normalized_flux\": 7.511638828417459, \"relative_error\": 270.71906428221496, \"symm_relative_error\": 199.99999999999997}, {\"BiGG_ID\": \"TKT1\", \"author\": \"Khodayari\", \"sample_id\": \"sdhCD\", \"flux\": null, \"normalized_flux\": null, \"relative_error\": null, \"symm_relative_error\": null}, {\"BiGG_ID\": \"TKT1\", \"author\": \"Khodayari\", \"sample_id\": \"sucA\", \"flux\": 1.1981602424041573, \"normalized_flux\": 2.6330381057163237, \"relative_error\": null, \"symm_relative_error\": null}, {\"BiGG_ID\": \"TKT1\", \"author\": \"Khodayari\", \"sample_id\": \"sucAB\", \"flux\": null, \"normalized_flux\": null, \"relative_error\": null, \"symm_relative_error\": null}, {\"BiGG_ID\": \"TKT1\", \"author\": \"Khodayari\", \"sample_id\": \"talA\", \"flux\": 6.180246913315937, \"normalized_flux\": 6.1804465525379815, \"relative_error\": 183.51954800727, \"symm_relative_error\": 200.00000000000003}, {\"BiGG_ID\": \"TKT1\", \"author\": \"Khodayari\", \"sample_id\": \"talAB\", \"flux\": null, \"normalized_flux\": null, \"relative_error\": null, \"symm_relative_error\": null}, {\"BiGG_ID\": \"TKT1\", \"author\": \"Khodayari\", \"sample_id\": \"talB\", \"flux\": null, \"normalized_flux\": null, \"relative_error\": null, \"symm_relative_error\": null}, {\"BiGG_ID\": \"TKT1\", \"author\": \"Khodayari\", \"sample_id\": \"tkt1\", \"flux\": null, \"normalized_flux\": null, \"relative_error\": null, \"symm_relative_error\": null}, {\"BiGG_ID\": \"TKT1\", \"author\": \"Khodayari\", \"sample_id\": \"tkt2\", \"flux\": null, \"normalized_flux\": null, \"relative_error\": null, \"symm_relative_error\": null}, {\"BiGG_ID\": \"TKT1\", \"author\": \"Khodayari\", \"sample_id\": \"tktA\", \"flux\": 7.944366697827341, \"normalized_flux\": 7.942551509135085, \"relative_error\": 239.3430089321945, \"symm_relative_error\": 200.0}, {\"BiGG_ID\": \"TKT1\", \"author\": \"Khodayari\", \"sample_id\": \"tktB\", \"flux\": 7.944366697827341, \"normalized_flux\": 7.942551509135085, \"relative_error\": 207.33177715047412, \"symm_relative_error\": 200.0}, {\"BiGG_ID\": \"TKT1\", \"author\": \"Khodayari\", \"sample_id\": \"tpi\", \"flux\": 0.45382559803362277, \"normalized_flux\": 20.683477914800285, \"relative_error\": null, \"symm_relative_error\": null}, {\"BiGG_ID\": \"TKT1\", \"author\": \"Khodayari\", \"sample_id\": \"tpiA\", \"flux\": null, \"normalized_flux\": null, \"relative_error\": null, \"symm_relative_error\": null}, {\"BiGG_ID\": \"TKT1\", \"author\": \"Khodayari\", \"sample_id\": \"zwf\", \"flux\": -0.004905628830415676, \"normalized_flux\": -0.11067644205036407, \"relative_error\": 107.37842947002427, \"symm_relative_error\": 200.0}, {\"BiGG_ID\": \"TPI\", \"author\": \"Khodayari\", \"sample_id\": \"WT\", \"flux\": 87.44507095691054, \"normalized_flux\": 79.60916336226971, \"relative_error\": 1.5955953494812036, \"symm_relative_error\": 1.6084273454430404}, {\"BiGG_ID\": \"TPI\", \"author\": \"Khodayari\", \"sample_id\": \"eda\", \"flux\": 87.82328354386961, \"normalized_flux\": 79.79306358129715, \"relative_error\": 2.2143828660574107, \"symm_relative_error\": 2.2391748178107473}, {\"BiGG_ID\": \"TPI\", \"author\": \"Khodayari\", \"sample_id\": \"edd\", \"flux\": 87.22304898401072, \"normalized_flux\": 79.50687193961637, \"relative_error\": 0.9877061773145988, \"symm_relative_error\": 0.9926082035862753}, {\"BiGG_ID\": \"TPI\", \"author\": \"Khodayari\", \"sample_id\": \"fbaA\", \"flux\": 79.84271325065416, \"normalized_flux\": 79.71136351128938, \"relative_error\": null, \"symm_relative_error\": null}, {\"BiGG_ID\": \"TPI\", \"author\": \"Khodayari\", \"sample_id\": \"fbaB\", \"flux\": 79.84271325065416, \"normalized_flux\": 79.71136351128938, \"relative_error\": 2.314505500870854, \"symm_relative_error\": 2.341603774960889}, {\"BiGG_ID\": \"TPI\", \"author\": \"Khodayari\", \"sample_id\": \"fbp\", \"flux\": 87.06437413374576, \"normalized_flux\": 79.44669268457099, \"relative_error\": 1.674885291372533, \"symm_relative_error\": 1.6890299484593443}, {\"BiGG_ID\": \"TPI\", \"author\": \"Khodayari\", \"sample_id\": \"glk\", \"flux\": null, \"normalized_flux\": null, \"relative_error\": null, \"symm_relative_error\": null}, {\"BiGG_ID\": \"TPI\", \"author\": \"Khodayari\", \"sample_id\": \"gnd\", \"flux\": 5.128585467862504, \"normalized_flux\": 53.0655437320133, \"relative_error\": 14.410413335462414, \"symm_relative_error\": 15.529333939958551}, {\"BiGG_ID\": \"TPI\", \"author\": \"Khodayari\", \"sample_id\": \"gpmA\", \"flux\": null, \"normalized_flux\": null, \"relative_error\": null, \"symm_relative_error\": null}, {\"BiGG_ID\": \"TPI\", \"author\": \"Khodayari\", \"sample_id\": \"pfkA\", \"flux\": 73.89512239441535, \"normalized_flux\": 80.62344911651176, \"relative_error\": 35.95859884740602, \"symm_relative_error\": 30.4787356960535}, {\"BiGG_ID\": \"TPI\", \"author\": \"Khodayari\", \"sample_id\": \"pfkB\", \"flux\": 73.89512239441535, \"normalized_flux\": 80.62344911651176, \"relative_error\": 3.896197315092488, \"symm_relative_error\": 3.821745933860131}, {\"BiGG_ID\": \"TPI\", \"author\": \"Khodayari\", \"sample_id\": \"pgi\", \"flux\": 3.0080903453839305, \"normalized_flux\": 46.074806350280234, \"relative_error\": 8.581733431983661, \"symm_relative_error\": 8.966472830255546}, {\"BiGG_ID\": \"TPI\", \"author\": \"Khodayari\", \"sample_id\": \"pgl\", \"flux\": 84.9997747492235, \"normalized_flux\": 84.9460178710507, \"relative_error\": 0.7639978141931015, \"symm_relative_error\": 0.7669274687419189}, {\"BiGG_ID\": \"TPI\", \"author\": \"Khodayari\", \"sample_id\": \"pgm\", \"flux\": null, \"normalized_flux\": null, \"relative_error\": null, \"symm_relative_error\": null}, {\"BiGG_ID\": \"TPI\", \"author\": \"Khodayari\", \"sample_id\": \"ppc\", \"flux\": null, \"normalized_flux\": null, \"relative_error\": null, \"symm_relative_error\": null}, {\"BiGG_ID\": \"TPI\", \"author\": \"Khodayari\", \"sample_id\": \"ppsA\", \"flux\": 83.2711366092244, \"normalized_flux\": 89.24034220123215, \"relative_error\": null, \"symm_relative_error\": null}, {\"BiGG_ID\": \"TPI\", \"author\": \"Khodayari\", \"sample_id\": \"pts\", \"flux\": null, \"normalized_flux\": null, \"relative_error\": null, \"symm_relative_error\": null}, {\"BiGG_ID\": \"TPI\", \"author\": \"Khodayari\", \"sample_id\": \"pykA\", \"flux\": 85.18371400957211, \"normalized_flux\": 80.81023506246515, \"relative_error\": null, \"symm_relative_error\": null}, {\"BiGG_ID\": \"TPI\", \"author\": \"Khodayari\", \"sample_id\": \"pykF\", \"flux\": 84.4707719262527, \"normalized_flux\": 75.84594594196727, \"relative_error\": null, \"symm_relative_error\": null}, {\"BiGG_ID\": \"TPI\", \"author\": \"Khodayari\", \"sample_id\": \"rpe\", \"flux\": 85.53413175582529, \"normalized_flux\": 85.53645391304408, \"relative_error\": 1.5690979136431773, \"symm_relative_error\": 1.5815055993247547}, {\"BiGG_ID\": \"TPI\", \"author\": \"Khodayari\", \"sample_id\": \"rpiA\", \"flux\": 6.319829383743702, \"normalized_flux\": 66.77361092967638, \"relative_error\": null, \"symm_relative_error\": null}, {\"BiGG_ID\": \"TPI\", \"author\": \"Khodayari\", \"sample_id\": \"rpiB\", \"flux\": 6.319829383743702, \"normalized_flux\": 66.77361092967638, \"relative_error\": 22.356266360841417, \"symm_relative_error\": 25.16977762497709}, {\"BiGG_ID\": \"TPI\", \"author\": \"Khodayari\", \"sample_id\": \"sdhCD\", \"flux\": null, \"normalized_flux\": null, \"relative_error\": null, \"symm_relative_error\": null}, {\"BiGG_ID\": \"TPI\", \"author\": \"Khodayari\", \"sample_id\": \"sucA\", \"flux\": 23.366695075514755, \"normalized_flux\": 51.34989157629793, \"relative_error\": null, \"symm_relative_error\": null}, {\"BiGG_ID\": \"TPI\", \"author\": \"Khodayari\", \"sample_id\": \"sucAB\", \"flux\": null, \"normalized_flux\": null, \"relative_error\": null, \"symm_relative_error\": null}, {\"BiGG_ID\": \"TPI\", \"author\": \"Khodayari\", \"sample_id\": \"talA\", \"flux\": 81.60163152016293, \"normalized_flux\": 81.60426748058049, \"relative_error\": 0.9953805452728862, \"symm_relative_error\": 0.9904511661636756}, {\"BiGG_ID\": \"TPI\", \"author\": \"Khodayari\", \"sample_id\": \"talAB\", \"flux\": null, \"normalized_flux\": null, \"relative_error\": null, \"symm_relative_error\": null}, {\"BiGG_ID\": \"TPI\", \"author\": \"Khodayari\", \"sample_id\": \"talB\", \"flux\": null, \"normalized_flux\": null, \"relative_error\": null, \"symm_relative_error\": null}, {\"BiGG_ID\": \"TPI\", \"author\": \"Khodayari\", \"sample_id\": \"tkt1\", \"flux\": null, \"normalized_flux\": null, \"relative_error\": null, \"symm_relative_error\": null}, {\"BiGG_ID\": \"TPI\", \"author\": \"Khodayari\", \"sample_id\": \"tkt2\", \"flux\": null, \"normalized_flux\": null, \"relative_error\": null, \"symm_relative_error\": null}, {\"BiGG_ID\": \"TPI\", \"author\": \"Khodayari\", \"sample_id\": \"tktA\", \"flux\": 86.96402163262117, \"normalized_flux\": 86.94415143846915, \"relative_error\": 6.158915065285889, \"symm_relative_error\": 5.974919943030839}, {\"BiGG_ID\": \"TPI\", \"author\": \"Khodayari\", \"sample_id\": \"tktB\", \"flux\": 86.96402163262117, \"normalized_flux\": 86.94415143846915, \"relative_error\": 7.338458566011295, \"symm_relative_error\": 7.078723953834079}, {\"BiGG_ID\": \"TPI\", \"author\": \"Khodayari\", \"sample_id\": \"tpi\", \"flux\": -1.561510062560872e-16, \"normalized_flux\": 0.0, \"relative_error\": null, \"symm_relative_error\": null}, {\"BiGG_ID\": \"TPI\", \"author\": \"Khodayari\", \"sample_id\": \"tpiA\", \"flux\": null, \"normalized_flux\": null, \"relative_error\": null, \"symm_relative_error\": null}, {\"BiGG_ID\": \"TPI\", \"author\": \"Khodayari\", \"sample_id\": \"zwf\", \"flux\": 4.929424650887341, \"normalized_flux\": 111.21330222395572, \"relative_error\": 22.078268083376212, \"symm_relative_error\": 19.88332156398773}]}}, {\"mode\": \"vega-lite\"});\n",
       "</script>"
      ],
      "text/plain": [
       "alt.Chart(...)"
      ]
     },
     "execution_count": 22,
     "metadata": {},
     "output_type": "execute_result"
    }
   ],
   "source": [
    "heatmap(x_rel_error, author=\"Khodayari\")"
   ]
  },
  {
   "cell_type": "markdown",
   "metadata": {},
   "source": [
    "### Branch-level error"
   ]
  },
  {
   "cell_type": "code",
   "execution_count": 17,
   "metadata": {},
   "outputs": [],
   "source": [
    "ishii_branches = branch_stat.sel(author=\"Ishii\")"
   ]
  },
  {
   "cell_type": "code",
   "execution_count": 46,
   "metadata": {},
   "outputs": [],
   "source": [
    "log_error_diff = xr.ufuncs.log(branch_stat) - xr.ufuncs.log(ishii_branches)\n",
    "log_error_diff = log_error_diff.rename(\"error\")\n",
    "#log_error_diff.to_dataframe().reset_index()"
   ]
  },
  {
   "cell_type": "code",
   "execution_count": 56,
   "metadata": {},
   "outputs": [],
   "source": [
    "rmse_diff = xr.ufuncs.sqrt(xr.ufuncs.square(branch_stat - ishii_branches))\n",
    "rmse_diff = rmse_diff.rename(\"error\")\n",
    "rmse_diff = rmse_diff.where(rmse_diff < 10)\n",
    "#rmse_diff.to_dataframe().reset_index()"
   ]
  },
  {
   "cell_type": "code",
   "execution_count": 60,
   "metadata": {},
   "outputs": [
    {
     "data": {
      "application/vnd.vegalite.v3+json": {
       "$schema": "https://vega.github.io/schema/vega-lite/v3.2.1.json",
       "config": {
        "axis": {
         "labelFontSize": 20,
         "titleFontSize": 20
        },
        "facet": {
         "spacing": 5
        },
        "header": {
         "titleFontSize": 24
        },
        "mark": {
         "tooltip": null
        },
        "view": {
         "height": 300,
         "stroke": null,
         "width": 400
        }
       },
       "data": {
        "name": "data-524311db0aa142ce38b288b43aa93f3a"
       },
       "datasets": {
        "data-524311db0aa142ce38b288b43aa93f3a": [
         {
          "Branch": "EMP_PPP",
          "author": "ECC2",
          "error": -0.7671331350902272,
          "sample_id": "WT"
         },
         {
          "Branch": "EMP_PPP",
          "author": "Exp_ECC2",
          "error": 0.014429917516488366,
          "sample_id": "WT"
         },
         {
          "Branch": "EMP_PPP",
          "author": "Exp_iML1515",
          "error": 0.03849581279533268,
          "sample_id": "WT"
         },
         {
          "Branch": "EMP_PPP",
          "author": "Khodayari",
          "error": -0.025379387237670553,
          "sample_id": "WT"
         },
         {
          "Branch": "EMP_PPP",
          "author": "Kurata",
          "error": -0.6341626981232683,
          "sample_id": "WT"
         },
         {
          "Branch": "EMP_PPP",
          "author": "Millard",
          "error": -0.0027757647185354672,
          "sample_id": "WT"
         },
         {
          "Branch": "EMP_PPP",
          "author": "iML1515",
          "error": -0.11204155135024177,
          "sample_id": "WT"
         },
         {
          "Branch": "EMP_PPP",
          "author": "ECC2",
          "error": null,
          "sample_id": "fbaA"
         },
         {
          "Branch": "EMP_PPP",
          "author": "Exp_ECC2",
          "error": null,
          "sample_id": "fbaA"
         },
         {
          "Branch": "EMP_PPP",
          "author": "Exp_iML1515",
          "error": null,
          "sample_id": "fbaA"
         },
         {
          "Branch": "EMP_PPP",
          "author": "Khodayari",
          "error": null,
          "sample_id": "fbaA"
         },
         {
          "Branch": "EMP_PPP",
          "author": "Kurata",
          "error": null,
          "sample_id": "fbaA"
         },
         {
          "Branch": "EMP_PPP",
          "author": "Millard",
          "error": null,
          "sample_id": "fbaA"
         },
         {
          "Branch": "EMP_PPP",
          "author": "iML1515",
          "error": null,
          "sample_id": "fbaA"
         },
         {
          "Branch": "EMP_PPP",
          "author": "ECC2",
          "error": null,
          "sample_id": "fbaB"
         },
         {
          "Branch": "EMP_PPP",
          "author": "Exp_ECC2",
          "error": null,
          "sample_id": "fbaB"
         },
         {
          "Branch": "EMP_PPP",
          "author": "Exp_iML1515",
          "error": 0.15574559548010547,
          "sample_id": "fbaB"
         },
         {
          "Branch": "EMP_PPP",
          "author": "Khodayari",
          "error": 0.0673353877641199,
          "sample_id": "fbaB"
         },
         {
          "Branch": "EMP_PPP",
          "author": "Kurata",
          "error": -0.5169374116108045,
          "sample_id": "fbaB"
         },
         {
          "Branch": "EMP_PPP",
          "author": "Millard",
          "error": null,
          "sample_id": "fbaB"
         },
         {
          "Branch": "EMP_PPP",
          "author": "iML1515",
          "error": 0.005208231334532631,
          "sample_id": "fbaB"
         },
         {
          "Branch": "EMP_PPP",
          "author": "ECC2",
          "error": -0.7919227962833633,
          "sample_id": "fbp"
         },
         {
          "Branch": "EMP_PPP",
          "author": "Exp_ECC2",
          "error": -0.010359743676651045,
          "sample_id": "fbp"
         },
         {
          "Branch": "EMP_PPP",
          "author": "Exp_iML1515",
          "error": 0.013706151602198374,
          "sample_id": "fbp"
         },
         {
          "Branch": "EMP_PPP",
          "author": "Khodayari",
          "error": -0.04946938847607846,
          "sample_id": "fbp"
         },
         {
          "Branch": "EMP_PPP",
          "author": "Kurata",
          "error": -0.6589414306452872,
          "sample_id": "fbp"
         },
         {
          "Branch": "EMP_PPP",
          "author": "Millard",
          "error": -0.027547476603560966,
          "sample_id": "fbp"
         },
         {
          "Branch": "EMP_PPP",
          "author": "iML1515",
          "error": -0.1368312125433762,
          "sample_id": "fbp"
         },
         {
          "Branch": "EMP_PPP",
          "author": "ECC2",
          "error": null,
          "sample_id": "glk"
         },
         {
          "Branch": "EMP_PPP",
          "author": "Exp_ECC2",
          "error": null,
          "sample_id": "glk"
         },
         {
          "Branch": "EMP_PPP",
          "author": "Exp_iML1515",
          "error": null,
          "sample_id": "glk"
         },
         {
          "Branch": "EMP_PPP",
          "author": "Khodayari",
          "error": null,
          "sample_id": "glk"
         },
         {
          "Branch": "EMP_PPP",
          "author": "Kurata",
          "error": null,
          "sample_id": "glk"
         },
         {
          "Branch": "EMP_PPP",
          "author": "Millard",
          "error": null,
          "sample_id": "glk"
         },
         {
          "Branch": "EMP_PPP",
          "author": "iML1515",
          "error": null,
          "sample_id": "glk"
         },
         {
          "Branch": "EMP_PPP",
          "author": "ECC2",
          "error": -0.6578411051140607,
          "sample_id": "gnd"
         },
         {
          "Branch": "EMP_PPP",
          "author": "Exp_ECC2",
          "error": -0.06601816927509206,
          "sample_id": "gnd"
         },
         {
          "Branch": "EMP_PPP",
          "author": "Exp_iML1515",
          "error": -0.04414877817221606,
          "sample_id": "gnd"
         },
         {
          "Branch": "EMP_PPP",
          "author": "Khodayari",
          "error": -0.6209572452807055,
          "sample_id": "gnd"
         },
         {
          "Branch": "EMP_PPP",
          "author": "Kurata",
          "error": -3.902905993996873,
          "sample_id": "gnd"
         },
         {
          "Branch": "EMP_PPP",
          "author": "Millard",
          "error": -0.1740532012345217,
          "sample_id": "gnd"
         },
         {
          "Branch": "EMP_PPP",
          "author": "iML1515",
          "error": -0.10049764146378044,
          "sample_id": "gnd"
         },
         {
          "Branch": "EMP_PPP",
          "author": "ECC2",
          "error": null,
          "sample_id": "gpmA"
         },
         {
          "Branch": "EMP_PPP",
          "author": "Exp_ECC2",
          "error": null,
          "sample_id": "gpmA"
         },
         {
          "Branch": "EMP_PPP",
          "author": "Exp_iML1515",
          "error": 0.01278223956157662,
          "sample_id": "gpmA"
         },
         {
          "Branch": "EMP_PPP",
          "author": "Khodayari",
          "error": null,
          "sample_id": "gpmA"
         },
         {
          "Branch": "EMP_PPP",
          "author": "Kurata",
          "error": null,
          "sample_id": "gpmA"
         },
         {
          "Branch": "EMP_PPP",
          "author": "Millard",
          "error": null,
          "sample_id": "gpmA"
         },
         {
          "Branch": "EMP_PPP",
          "author": "iML1515",
          "error": -0.18662627930703238,
          "sample_id": "gpmA"
         },
         {
          "Branch": "EMP_PPP",
          "author": "ECC2",
          "error": null,
          "sample_id": "gpmB"
         },
         {
          "Branch": "EMP_PPP",
          "author": "Exp_ECC2",
          "error": null,
          "sample_id": "gpmB"
         },
         {
          "Branch": "EMP_PPP",
          "author": "Exp_iML1515",
          "error": null,
          "sample_id": "gpmB"
         },
         {
          "Branch": "EMP_PPP",
          "author": "Khodayari",
          "error": null,
          "sample_id": "gpmB"
         },
         {
          "Branch": "EMP_PPP",
          "author": "Kurata",
          "error": null,
          "sample_id": "gpmB"
         },
         {
          "Branch": "EMP_PPP",
          "author": "Millard",
          "error": null,
          "sample_id": "gpmB"
         },
         {
          "Branch": "EMP_PPP",
          "author": "iML1515",
          "error": null,
          "sample_id": "gpmB"
         },
         {
          "Branch": "EMP_PPP",
          "author": "ECC2",
          "error": null,
          "sample_id": "pfkA"
         },
         {
          "Branch": "EMP_PPP",
          "author": "Exp_ECC2",
          "error": null,
          "sample_id": "pfkA"
         },
         {
          "Branch": "EMP_PPP",
          "author": "Exp_iML1515",
          "error": 0.015388237785182585,
          "sample_id": "pfkA"
         },
         {
          "Branch": "EMP_PPP",
          "author": "Khodayari",
          "error": -0.03851617545999553,
          "sample_id": "pfkA"
         },
         {
          "Branch": "EMP_PPP",
          "author": "Kurata",
          "error": -0.6707897058876325,
          "sample_id": "pfkA"
         },
         {
          "Branch": "EMP_PPP",
          "author": "Millard",
          "error": null,
          "sample_id": "pfkA"
         },
         {
          "Branch": "EMP_PPP",
          "author": "iML1515",
          "error": -0.13514912636039758,
          "sample_id": "pfkA"
         },
         {
          "Branch": "EMP_PPP",
          "author": "ECC2",
          "error": null,
          "sample_id": "pfkB"
         },
         {
          "Branch": "EMP_PPP",
          "author": "Exp_ECC2",
          "error": null,
          "sample_id": "pfkB"
         },
         {
          "Branch": "EMP_PPP",
          "author": "Exp_iML1515",
          "error": 0.5051136895110867,
          "sample_id": "pfkB"
         },
         {
          "Branch": "EMP_PPP",
          "author": "Khodayari",
          "error": 0.45120927626590857,
          "sample_id": "pfkB"
         },
         {
          "Branch": "EMP_PPP",
          "author": "Kurata",
          "error": -0.18106425416172844,
          "sample_id": "pfkB"
         },
         {
          "Branch": "EMP_PPP",
          "author": "Millard",
          "error": null,
          "sample_id": "pfkB"
         },
         {
          "Branch": "EMP_PPP",
          "author": "iML1515",
          "error": 0.35457632536550654,
          "sample_id": "pfkB"
         },
         {
          "Branch": "EMP_PPP",
          "author": "ECC2",
          "error": null,
          "sample_id": "pgi"
         },
         {
          "Branch": "EMP_PPP",
          "author": "Exp_ECC2",
          "error": null,
          "sample_id": "pgi"
         },
         {
          "Branch": "EMP_PPP",
          "author": "Exp_iML1515",
          "error": null,
          "sample_id": "pgi"
         },
         {
          "Branch": "EMP_PPP",
          "author": "Khodayari",
          "error": null,
          "sample_id": "pgi"
         },
         {
          "Branch": "EMP_PPP",
          "author": "Kurata",
          "error": null,
          "sample_id": "pgi"
         },
         {
          "Branch": "EMP_PPP",
          "author": "Millard",
          "error": null,
          "sample_id": "pgi"
         },
         {
          "Branch": "EMP_PPP",
          "author": "iML1515",
          "error": null,
          "sample_id": "pgi"
         },
         {
          "Branch": "EMP_PPP",
          "author": "ECC2",
          "error": 0.2282586519809802,
          "sample_id": "pgl"
         },
         {
          "Branch": "EMP_PPP",
          "author": "Exp_ECC2",
          "error": 0.2282586519809802,
          "sample_id": "pgl"
         },
         {
          "Branch": "EMP_PPP",
          "author": "Exp_iML1515",
          "error": 0.2282586519809802,
          "sample_id": "pgl"
         },
         {
          "Branch": "EMP_PPP",
          "author": "Khodayari",
          "error": 0.00010374061335427509,
          "sample_id": "pgl"
         },
         {
          "Branch": "EMP_PPP",
          "author": "Kurata",
          "error": null,
          "sample_id": "pgl"
         },
         {
          "Branch": "EMP_PPP",
          "author": "Millard",
          "error": 0.22459001979993898,
          "sample_id": "pgl"
         },
         {
          "Branch": "EMP_PPP",
          "author": "iML1515",
          "error": 0.2282586519809802,
          "sample_id": "pgl"
         },
         {
          "Branch": "EMP_PPP",
          "author": "ECC2",
          "error": null,
          "sample_id": "pgm"
         },
         {
          "Branch": "EMP_PPP",
          "author": "Exp_ECC2",
          "error": null,
          "sample_id": "pgm"
         },
         {
          "Branch": "EMP_PPP",
          "author": "Exp_iML1515",
          "error": null,
          "sample_id": "pgm"
         },
         {
          "Branch": "EMP_PPP",
          "author": "Khodayari",
          "error": null,
          "sample_id": "pgm"
         },
         {
          "Branch": "EMP_PPP",
          "author": "Kurata",
          "error": null,
          "sample_id": "pgm"
         },
         {
          "Branch": "EMP_PPP",
          "author": "Millard",
          "error": null,
          "sample_id": "pgm"
         },
         {
          "Branch": "EMP_PPP",
          "author": "iML1515",
          "error": null,
          "sample_id": "pgm"
         },
         {
          "Branch": "EMP_PPP",
          "author": "ECC2",
          "error": null,
          "sample_id": "ppc"
         },
         {
          "Branch": "EMP_PPP",
          "author": "Exp_ECC2",
          "error": null,
          "sample_id": "ppc"
         },
         {
          "Branch": "EMP_PPP",
          "author": "Exp_iML1515",
          "error": null,
          "sample_id": "ppc"
         },
         {
          "Branch": "EMP_PPP",
          "author": "Khodayari",
          "error": null,
          "sample_id": "ppc"
         },
         {
          "Branch": "EMP_PPP",
          "author": "Kurata",
          "error": null,
          "sample_id": "ppc"
         },
         {
          "Branch": "EMP_PPP",
          "author": "Millard",
          "error": null,
          "sample_id": "ppc"
         },
         {
          "Branch": "EMP_PPP",
          "author": "iML1515",
          "error": null,
          "sample_id": "ppc"
         },
         {
          "Branch": "EMP_PPP",
          "author": "ECC2",
          "error": -0.5687792449691507,
          "sample_id": "ppsA"
         },
         {
          "Branch": "EMP_PPP",
          "author": "Exp_ECC2",
          "error": 0.21278380763756016,
          "sample_id": "ppsA"
         },
         {
          "Branch": "EMP_PPP",
          "author": "Exp_iML1515",
          "error": 0.23684970291640814,
          "sample_id": "ppsA"
         },
         {
          "Branch": "EMP_PPP",
          "author": "Khodayari",
          "error": 0.16233783066847945,
          "sample_id": "ppsA"
         },
         {
          "Branch": "EMP_PPP",
          "author": "Kurata",
          "error": -0.0928536447047244,
          "sample_id": "ppsA"
         },
         {
          "Branch": "EMP_PPP",
          "author": "Millard",
          "error": 0.19558205865144618,
          "sample_id": "ppsA"
         },
         {
          "Branch": "EMP_PPP",
          "author": "iML1515",
          "error": 0.08631233877083355,
          "sample_id": "ppsA"
         },
         {
          "Branch": "EMP_PPP",
          "author": "ECC2",
          "error": null,
          "sample_id": "pts"
         },
         {
          "Branch": "EMP_PPP",
          "author": "Exp_ECC2",
          "error": null,
          "sample_id": "pts"
         },
         {
          "Branch": "EMP_PPP",
          "author": "Exp_iML1515",
          "error": null,
          "sample_id": "pts"
         },
         {
          "Branch": "EMP_PPP",
          "author": "Khodayari",
          "error": null,
          "sample_id": "pts"
         },
         {
          "Branch": "EMP_PPP",
          "author": "Kurata",
          "error": null,
          "sample_id": "pts"
         },
         {
          "Branch": "EMP_PPP",
          "author": "Millard",
          "error": null,
          "sample_id": "pts"
         },
         {
          "Branch": "EMP_PPP",
          "author": "iML1515",
          "error": null,
          "sample_id": "pts"
         },
         {
          "Branch": "EMP_PPP",
          "author": "ECC2",
          "error": -0.6634890044612346,
          "sample_id": "pykA"
         },
         {
          "Branch": "EMP_PPP",
          "author": "Exp_ECC2",
          "error": 0.11757470713213253,
          "sample_id": "pykA"
         },
         {
          "Branch": "EMP_PPP",
          "author": "Exp_iML1515",
          "error": 0.14213994342432593,
          "sample_id": "pykA"
         },
         {
          "Branch": "EMP_PPP",
          "author": "Khodayari",
          "error": 0.04133564767448861,
          "sample_id": "pykA"
         },
         {
          "Branch": "EMP_PPP",
          "author": "Kurata",
          "error": -0.5290410582228305,
          "sample_id": "pykA"
         },
         {
          "Branch": "EMP_PPP",
          "author": "Millard",
          "error": -0.1414846862043715,
          "sample_id": "pykA"
         },
         {
          "Branch": "EMP_PPP",
          "author": "iML1515",
          "error": -0.008397420721247495,
          "sample_id": "pykA"
         },
         {
          "Branch": "EMP_PPP",
          "author": "ECC2",
          "error": -0.19941914150310547,
          "sample_id": "pykF"
         },
         {
          "Branch": "EMP_PPP",
          "author": "Exp_ECC2",
          "error": 0.5816445700902617,
          "sample_id": "pykF"
         },
         {
          "Branch": "EMP_PPP",
          "author": "Exp_iML1515",
          "error": 0.606209806382455,
          "sample_id": "pykF"
         },
         {
          "Branch": "EMP_PPP",
          "author": "Khodayari",
          "error": 0.4893098554692929,
          "sample_id": "pykF"
         },
         {
          "Branch": "EMP_PPP",
          "author": "Kurata",
          "error": -0.06497119526470141,
          "sample_id": "pykF"
         },
         {
          "Branch": "EMP_PPP",
          "author": "Millard",
          "error": 0.32258517675375764,
          "sample_id": "pykF"
         },
         {
          "Branch": "EMP_PPP",
          "author": "iML1515",
          "error": 0.45567244223688164,
          "sample_id": "pykF"
         },
         {
          "Branch": "EMP_PPP",
          "author": "ECC2",
          "error": -0.6827611764603109,
          "sample_id": "rpe"
         },
         {
          "Branch": "EMP_PPP",
          "author": "Exp_ECC2",
          "error": -0.05352851133678024,
          "sample_id": "rpe"
         },
         {
          "Branch": "EMP_PPP",
          "author": "Exp_iML1515",
          "error": -0.028259013148719273,
          "sample_id": "rpe"
         },
         {
          "Branch": "EMP_PPP",
          "author": "Khodayari",
          "error": -0.1540040859407652,
          "sample_id": "rpe"
         },
         {
          "Branch": "EMP_PPP",
          "author": "Kurata",
          "error": null,
          "sample_id": "rpe"
         },
         {
          "Branch": "EMP_PPP",
          "author": "Millard",
          "error": -0.1056774450477061,
          "sample_id": "rpe"
         },
         {
          "Branch": "EMP_PPP",
          "author": "iML1515",
          "error": -0.08133205374424854,
          "sample_id": "rpe"
         },
         {
          "Branch": "EMP_PPP",
          "author": "ECC2",
          "error": null,
          "sample_id": "rpiA"
         },
         {
          "Branch": "EMP_PPP",
          "author": "Exp_ECC2",
          "error": null,
          "sample_id": "rpiA"
         },
         {
          "Branch": "EMP_PPP",
          "author": "Exp_iML1515",
          "error": -0.013555848971541773,
          "sample_id": "rpiA"
         },
         {
          "Branch": "EMP_PPP",
          "author": "Khodayari",
          "error": -0.03664713297660488,
          "sample_id": "rpiA"
         },
         {
          "Branch": "EMP_PPP",
          "author": "Kurata",
          "error": -0.43151331878446236,
          "sample_id": "rpiA"
         },
         {
          "Branch": "EMP_PPP",
          "author": "Millard",
          "error": 0.14741664731682028,
          "sample_id": "rpiA"
         },
         {
          "Branch": "EMP_PPP",
          "author": "iML1515",
          "error": -0.0226375770417081,
          "sample_id": "rpiA"
         },
         {
          "Branch": "EMP_PPP",
          "author": "ECC2",
          "error": null,
          "sample_id": "rpiB"
         },
         {
          "Branch": "EMP_PPP",
          "author": "Exp_ECC2",
          "error": null,
          "sample_id": "rpiB"
         },
         {
          "Branch": "EMP_PPP",
          "author": "Exp_iML1515",
          "error": 0.26946350915911654,
          "sample_id": "rpiB"
         },
         {
          "Branch": "EMP_PPP",
          "author": "Khodayari",
          "error": 0.24637222515405344,
          "sample_id": "rpiB"
         },
         {
          "Branch": "EMP_PPP",
          "author": "Kurata",
          "error": -0.14849396065380405,
          "sample_id": "rpiB"
         },
         {
          "Branch": "EMP_PPP",
          "author": "Millard",
          "error": 0.4304360054474786,
          "sample_id": "rpiB"
         },
         {
          "Branch": "EMP_PPP",
          "author": "iML1515",
          "error": 0.2603817810889502,
          "sample_id": "rpiB"
         },
         {
          "Branch": "EMP_PPP",
          "author": "ECC2",
          "error": null,
          "sample_id": "sdhCD"
         },
         {
          "Branch": "EMP_PPP",
          "author": "Exp_ECC2",
          "error": null,
          "sample_id": "sdhCD"
         },
         {
          "Branch": "EMP_PPP",
          "author": "Exp_iML1515",
          "error": null,
          "sample_id": "sdhCD"
         },
         {
          "Branch": "EMP_PPP",
          "author": "Khodayari",
          "error": null,
          "sample_id": "sdhCD"
         },
         {
          "Branch": "EMP_PPP",
          "author": "Kurata",
          "error": null,
          "sample_id": "sdhCD"
         },
         {
          "Branch": "EMP_PPP",
          "author": "Millard",
          "error": null,
          "sample_id": "sdhCD"
         },
         {
          "Branch": "EMP_PPP",
          "author": "iML1515",
          "error": null,
          "sample_id": "sdhCD"
         },
         {
          "Branch": "EMP_PPP",
          "author": "ECC2",
          "error": null,
          "sample_id": "sucA"
         },
         {
          "Branch": "EMP_PPP",
          "author": "Exp_ECC2",
          "error": null,
          "sample_id": "sucA"
         },
         {
          "Branch": "EMP_PPP",
          "author": "Exp_iML1515",
          "error": null,
          "sample_id": "sucA"
         },
         {
          "Branch": "EMP_PPP",
          "author": "Khodayari",
          "error": null,
          "sample_id": "sucA"
         },
         {
          "Branch": "EMP_PPP",
          "author": "Kurata",
          "error": null,
          "sample_id": "sucA"
         },
         {
          "Branch": "EMP_PPP",
          "author": "Millard",
          "error": null,
          "sample_id": "sucA"
         },
         {
          "Branch": "EMP_PPP",
          "author": "iML1515",
          "error": null,
          "sample_id": "sucA"
         },
         {
          "Branch": "EMP_PPP",
          "author": "ECC2",
          "error": null,
          "sample_id": "sucAB"
         },
         {
          "Branch": "EMP_PPP",
          "author": "Exp_ECC2",
          "error": null,
          "sample_id": "sucAB"
         },
         {
          "Branch": "EMP_PPP",
          "author": "Exp_iML1515",
          "error": null,
          "sample_id": "sucAB"
         },
         {
          "Branch": "EMP_PPP",
          "author": "Khodayari",
          "error": null,
          "sample_id": "sucAB"
         },
         {
          "Branch": "EMP_PPP",
          "author": "Kurata",
          "error": null,
          "sample_id": "sucAB"
         },
         {
          "Branch": "EMP_PPP",
          "author": "Millard",
          "error": null,
          "sample_id": "sucAB"
         },
         {
          "Branch": "EMP_PPP",
          "author": "iML1515",
          "error": null,
          "sample_id": "sucAB"
         },
         {
          "Branch": "EMP_PPP",
          "author": "ECC2",
          "error": -0.5642575947922086,
          "sample_id": "talA"
         },
         {
          "Branch": "EMP_PPP",
          "author": "Exp_ECC2",
          "error": 0.04580673591804668,
          "sample_id": "talA"
         },
         {
          "Branch": "EMP_PPP",
          "author": "Exp_iML1515",
          "error": 0.003553780138179974,
          "sample_id": "talA"
         },
         {
          "Branch": "EMP_PPP",
          "author": "Khodayari",
          "error": -0.08009589451495697,
          "sample_id": "talA"
         },
         {
          "Branch": "EMP_PPP",
          "author": "Kurata",
          "error": -0.6685882763251301,
          "sample_id": "talA"
         },
         {
          "Branch": "EMP_PPP",
          "author": "Millard",
          "error": null,
          "sample_id": "talA"
         },
         {
          "Branch": "EMP_PPP",
          "author": "iML1515",
          "error": -0.1469835840073954,
          "sample_id": "talA"
         },
         {
          "Branch": "EMP_PPP",
          "author": "ECC2",
          "error": null,
          "sample_id": "talAB"
         },
         {
          "Branch": "EMP_PPP",
          "author": "Exp_ECC2",
          "error": null,
          "sample_id": "talAB"
         },
         {
          "Branch": "EMP_PPP",
          "author": "Exp_iML1515",
          "error": null,
          "sample_id": "talAB"
         },
         {
          "Branch": "EMP_PPP",
          "author": "Khodayari",
          "error": null,
          "sample_id": "talAB"
         },
         {
          "Branch": "EMP_PPP",
          "author": "Kurata",
          "error": null,
          "sample_id": "talAB"
         },
         {
          "Branch": "EMP_PPP",
          "author": "Millard",
          "error": null,
          "sample_id": "talAB"
         },
         {
          "Branch": "EMP_PPP",
          "author": "iML1515",
          "error": null,
          "sample_id": "talAB"
         },
         {
          "Branch": "EMP_PPP",
          "author": "ECC2",
          "error": null,
          "sample_id": "talB"
         },
         {
          "Branch": "EMP_PPP",
          "author": "Exp_ECC2",
          "error": null,
          "sample_id": "talB"
         },
         {
          "Branch": "EMP_PPP",
          "author": "Exp_iML1515",
          "error": null,
          "sample_id": "talB"
         },
         {
          "Branch": "EMP_PPP",
          "author": "Khodayari",
          "error": null,
          "sample_id": "talB"
         },
         {
          "Branch": "EMP_PPP",
          "author": "Kurata",
          "error": -0.6701319446243035,
          "sample_id": "talB"
         },
         {
          "Branch": "EMP_PPP",
          "author": "Millard",
          "error": null,
          "sample_id": "talB"
         },
         {
          "Branch": "EMP_PPP",
          "author": "iML1515",
          "error": null,
          "sample_id": "talB"
         },
         {
          "Branch": "EMP_PPP",
          "author": "ECC2",
          "error": -0.4681627935274659,
          "sample_id": "tktA"
         },
         {
          "Branch": "EMP_PPP",
          "author": "Exp_ECC2",
          "error": 0.14190153718278942,
          "sample_id": "tktA"
         },
         {
          "Branch": "EMP_PPP",
          "author": "Exp_iML1515",
          "error": 0.1654654382596352,
          "sample_id": "tktA"
         },
         {
          "Branch": "EMP_PPP",
          "author": "Khodayari",
          "error": 0.012527165063906859,
          "sample_id": "tktA"
         },
         {
          "Branch": "EMP_PPP",
          "author": "Kurata",
          "error": -0.5675597410419269,
          "sample_id": "tktA"
         },
         {
          "Branch": "EMP_PPP",
          "author": "Millard",
          "error": -0.0464867703417042,
          "sample_id": "tktA"
         },
         {
          "Branch": "EMP_PPP",
          "author": "iML1515",
          "error": 0.11076249549121711,
          "sample_id": "tktA"
         },
         {
          "Branch": "EMP_PPP",
          "author": "ECC2",
          "error": -0.565801263091382,
          "sample_id": "tktB"
         },
         {
          "Branch": "EMP_PPP",
          "author": "Exp_ECC2",
          "error": 0.04426306761887333,
          "sample_id": "tktB"
         },
         {
          "Branch": "EMP_PPP",
          "author": "Exp_iML1515",
          "error": 0.06782696869571911,
          "sample_id": "tktB"
         },
         {
          "Branch": "EMP_PPP",
          "author": "Khodayari",
          "error": -0.08511130450000923,
          "sample_id": "tktB"
         },
         {
          "Branch": "EMP_PPP",
          "author": "Kurata",
          "error": -0.6651982106058429,
          "sample_id": "tktB"
         },
         {
          "Branch": "EMP_PPP",
          "author": "Millard",
          "error": null,
          "sample_id": "tktB"
         },
         {
          "Branch": "EMP_PPP",
          "author": "iML1515",
          "error": 0.013124025927301025,
          "sample_id": "tktB"
         },
         {
          "Branch": "EMP_PPP",
          "author": "ECC2",
          "error": null,
          "sample_id": "tpi"
         },
         {
          "Branch": "EMP_PPP",
          "author": "Exp_ECC2",
          "error": null,
          "sample_id": "tpi"
         },
         {
          "Branch": "EMP_PPP",
          "author": "Exp_iML1515",
          "error": null,
          "sample_id": "tpi"
         },
         {
          "Branch": "EMP_PPP",
          "author": "Khodayari",
          "error": null,
          "sample_id": "tpi"
         },
         {
          "Branch": "EMP_PPP",
          "author": "Kurata",
          "error": null,
          "sample_id": "tpi"
         },
         {
          "Branch": "EMP_PPP",
          "author": "Millard",
          "error": null,
          "sample_id": "tpi"
         },
         {
          "Branch": "EMP_PPP",
          "author": "iML1515",
          "error": null,
          "sample_id": "tpi"
         },
         {
          "Branch": "EMP_PPP",
          "author": "ECC2",
          "error": 0,
          "sample_id": "zwf"
         },
         {
          "Branch": "EMP_PPP",
          "author": "Exp_ECC2",
          "error": 0,
          "sample_id": "zwf"
         },
         {
          "Branch": "EMP_PPP",
          "author": "Exp_iML1515",
          "error": 0,
          "sample_id": "zwf"
         },
         {
          "Branch": "EMP_PPP",
          "author": "Khodayari",
          "error": 0,
          "sample_id": "zwf"
         },
         {
          "Branch": "EMP_PPP",
          "author": "Kurata",
          "error": 0,
          "sample_id": "zwf"
         },
         {
          "Branch": "EMP_PPP",
          "author": "Millard",
          "error": 0,
          "sample_id": "zwf"
         },
         {
          "Branch": "EMP_PPP",
          "author": "iML1515",
          "error": 0,
          "sample_id": "zwf"
         },
         {
          "Branch": "PYK_PPC",
          "author": "ECC2",
          "error": null,
          "sample_id": "WT"
         },
         {
          "Branch": "PYK_PPC",
          "author": "Exp_ECC2",
          "error": -0.022128510275793073,
          "sample_id": "WT"
         },
         {
          "Branch": "PYK_PPC",
          "author": "Exp_iML1515",
          "error": -0.06760738896293791,
          "sample_id": "WT"
         },
         {
          "Branch": "PYK_PPC",
          "author": "Khodayari",
          "error": -0.22159102962890623,
          "sample_id": "WT"
         },
         {
          "Branch": "PYK_PPC",
          "author": "Kurata",
          "error": -1.733905387457239,
          "sample_id": "WT"
         },
         {
          "Branch": "PYK_PPC",
          "author": "Millard",
          "error": -0.1870625969874676,
          "sample_id": "WT"
         },
         {
          "Branch": "PYK_PPC",
          "author": "iML1515",
          "error": null,
          "sample_id": "WT"
         },
         {
          "Branch": "PYK_PPC",
          "author": "ECC2",
          "error": null,
          "sample_id": "fbaA"
         },
         {
          "Branch": "PYK_PPC",
          "author": "Exp_ECC2",
          "error": null,
          "sample_id": "fbaA"
         },
         {
          "Branch": "PYK_PPC",
          "author": "Exp_iML1515",
          "error": null,
          "sample_id": "fbaA"
         },
         {
          "Branch": "PYK_PPC",
          "author": "Khodayari",
          "error": null,
          "sample_id": "fbaA"
         },
         {
          "Branch": "PYK_PPC",
          "author": "Kurata",
          "error": null,
          "sample_id": "fbaA"
         },
         {
          "Branch": "PYK_PPC",
          "author": "Millard",
          "error": null,
          "sample_id": "fbaA"
         },
         {
          "Branch": "PYK_PPC",
          "author": "iML1515",
          "error": null,
          "sample_id": "fbaA"
         },
         {
          "Branch": "PYK_PPC",
          "author": "ECC2",
          "error": null,
          "sample_id": "fbaB"
         },
         {
          "Branch": "PYK_PPC",
          "author": "Exp_ECC2",
          "error": null,
          "sample_id": "fbaB"
         },
         {
          "Branch": "PYK_PPC",
          "author": "Exp_iML1515",
          "error": null,
          "sample_id": "fbaB"
         },
         {
          "Branch": "PYK_PPC",
          "author": "Khodayari",
          "error": -0.17661220352287837,
          "sample_id": "fbaB"
         },
         {
          "Branch": "PYK_PPC",
          "author": "Kurata",
          "error": -1.7690832817235276,
          "sample_id": "fbaB"
         },
         {
          "Branch": "PYK_PPC",
          "author": "Millard",
          "error": null,
          "sample_id": "fbaB"
         },
         {
          "Branch": "PYK_PPC",
          "author": "iML1515",
          "error": null,
          "sample_id": "fbaB"
         },
         {
          "Branch": "PYK_PPC",
          "author": "ECC2",
          "error": null,
          "sample_id": "fbp"
         },
         {
          "Branch": "PYK_PPC",
          "author": "Exp_ECC2",
          "error": -0.2405654784054485,
          "sample_id": "fbp"
         },
         {
          "Branch": "PYK_PPC",
          "author": "Exp_iML1515",
          "error": -0.36983140733908726,
          "sample_id": "fbp"
         },
         {
          "Branch": "PYK_PPC",
          "author": "Khodayari",
          "error": -0.43734253238164783,
          "sample_id": "fbp"
         },
         {
          "Branch": "PYK_PPC",
          "author": "Kurata",
          "error": -1.9524134207556705,
          "sample_id": "fbp"
         },
         {
          "Branch": "PYK_PPC",
          "author": "Millard",
          "error": -0.4055436687739048,
          "sample_id": "fbp"
         },
         {
          "Branch": "PYK_PPC",
          "author": "iML1515",
          "error": null,
          "sample_id": "fbp"
         },
         {
          "Branch": "PYK_PPC",
          "author": "ECC2",
          "error": null,
          "sample_id": "glk"
         },
         {
          "Branch": "PYK_PPC",
          "author": "Exp_ECC2",
          "error": null,
          "sample_id": "glk"
         },
         {
          "Branch": "PYK_PPC",
          "author": "Exp_iML1515",
          "error": null,
          "sample_id": "glk"
         },
         {
          "Branch": "PYK_PPC",
          "author": "Khodayari",
          "error": null,
          "sample_id": "glk"
         },
         {
          "Branch": "PYK_PPC",
          "author": "Kurata",
          "error": null,
          "sample_id": "glk"
         },
         {
          "Branch": "PYK_PPC",
          "author": "Millard",
          "error": null,
          "sample_id": "glk"
         },
         {
          "Branch": "PYK_PPC",
          "author": "iML1515",
          "error": null,
          "sample_id": "glk"
         },
         {
          "Branch": "PYK_PPC",
          "author": "ECC2",
          "error": null,
          "sample_id": "gnd"
         },
         {
          "Branch": "PYK_PPC",
          "author": "Exp_ECC2",
          "error": -0.21415459845893145,
          "sample_id": "gnd"
         },
         {
          "Branch": "PYK_PPC",
          "author": "Exp_iML1515",
          "error": -0.3103664071300239,
          "sample_id": "gnd"
         },
         {
          "Branch": "PYK_PPC",
          "author": "Khodayari",
          "error": null,
          "sample_id": "gnd"
         },
         {
          "Branch": "PYK_PPC",
          "author": "Kurata",
          "error": null,
          "sample_id": "gnd"
         },
         {
          "Branch": "PYK_PPC",
          "author": "Millard",
          "error": -0.46488074558291786,
          "sample_id": "gnd"
         },
         {
          "Branch": "PYK_PPC",
          "author": "iML1515",
          "error": null,
          "sample_id": "gnd"
         },
         {
          "Branch": "PYK_PPC",
          "author": "ECC2",
          "error": null,
          "sample_id": "gpmA"
         },
         {
          "Branch": "PYK_PPC",
          "author": "Exp_ECC2",
          "error": null,
          "sample_id": "gpmA"
         },
         {
          "Branch": "PYK_PPC",
          "author": "Exp_iML1515",
          "error": 0.186986654236481,
          "sample_id": "gpmA"
         },
         {
          "Branch": "PYK_PPC",
          "author": "Khodayari",
          "error": null,
          "sample_id": "gpmA"
         },
         {
          "Branch": "PYK_PPC",
          "author": "Kurata",
          "error": null,
          "sample_id": "gpmA"
         },
         {
          "Branch": "PYK_PPC",
          "author": "Millard",
          "error": null,
          "sample_id": "gpmA"
         },
         {
          "Branch": "PYK_PPC",
          "author": "iML1515",
          "error": null,
          "sample_id": "gpmA"
         },
         {
          "Branch": "PYK_PPC",
          "author": "ECC2",
          "error": null,
          "sample_id": "gpmB"
         },
         {
          "Branch": "PYK_PPC",
          "author": "Exp_ECC2",
          "error": null,
          "sample_id": "gpmB"
         },
         {
          "Branch": "PYK_PPC",
          "author": "Exp_iML1515",
          "error": null,
          "sample_id": "gpmB"
         },
         {
          "Branch": "PYK_PPC",
          "author": "Khodayari",
          "error": null,
          "sample_id": "gpmB"
         },
         {
          "Branch": "PYK_PPC",
          "author": "Kurata",
          "error": null,
          "sample_id": "gpmB"
         },
         {
          "Branch": "PYK_PPC",
          "author": "Millard",
          "error": null,
          "sample_id": "gpmB"
         },
         {
          "Branch": "PYK_PPC",
          "author": "iML1515",
          "error": null,
          "sample_id": "gpmB"
         },
         {
          "Branch": "PYK_PPC",
          "author": "ECC2",
          "error": null,
          "sample_id": "pfkA"
         },
         {
          "Branch": "PYK_PPC",
          "author": "Exp_ECC2",
          "error": null,
          "sample_id": "pfkA"
         },
         {
          "Branch": "PYK_PPC",
          "author": "Exp_iML1515",
          "error": -0.08798025519810104,
          "sample_id": "pfkA"
         },
         {
          "Branch": "PYK_PPC",
          "author": "Khodayari",
          "error": -0.04937028305041574,
          "sample_id": "pfkA"
         },
         {
          "Branch": "PYK_PPC",
          "author": "Kurata",
          "error": -1.2928400416359633,
          "sample_id": "pfkA"
         },
         {
          "Branch": "PYK_PPC",
          "author": "Millard",
          "error": null,
          "sample_id": "pfkA"
         },
         {
          "Branch": "PYK_PPC",
          "author": "iML1515",
          "error": null,
          "sample_id": "pfkA"
         },
         {
          "Branch": "PYK_PPC",
          "author": "ECC2",
          "error": null,
          "sample_id": "pfkB"
         },
         {
          "Branch": "PYK_PPC",
          "author": "Exp_ECC2",
          "error": null,
          "sample_id": "pfkB"
         },
         {
          "Branch": "PYK_PPC",
          "author": "Exp_iML1515",
          "error": -0.3872231500509579,
          "sample_id": "pfkB"
         },
         {
          "Branch": "PYK_PPC",
          "author": "Khodayari",
          "error": -0.3486131779032726,
          "sample_id": "pfkB"
         },
         {
          "Branch": "PYK_PPC",
          "author": "Kurata",
          "error": -1.5920829364888203,
          "sample_id": "pfkB"
         },
         {
          "Branch": "PYK_PPC",
          "author": "Millard",
          "error": null,
          "sample_id": "pfkB"
         },
         {
          "Branch": "PYK_PPC",
          "author": "iML1515",
          "error": null,
          "sample_id": "pfkB"
         },
         {
          "Branch": "PYK_PPC",
          "author": "ECC2",
          "error": null,
          "sample_id": "pgi"
         },
         {
          "Branch": "PYK_PPC",
          "author": "Exp_ECC2",
          "error": -0.46641963924800267,
          "sample_id": "pgi"
         },
         {
          "Branch": "PYK_PPC",
          "author": "Exp_iML1515",
          "error": -0.1464873929535127,
          "sample_id": "pgi"
         },
         {
          "Branch": "PYK_PPC",
          "author": "Khodayari",
          "error": 0.03438816528500521,
          "sample_id": "pgi"
         },
         {
          "Branch": "PYK_PPC",
          "author": "Kurata",
          "error": -1.8902983876484118,
          "sample_id": "pgi"
         },
         {
          "Branch": "PYK_PPC",
          "author": "Millard",
          "error": -0.11069375675352061,
          "sample_id": "pgi"
         },
         {
          "Branch": "PYK_PPC",
          "author": "iML1515",
          "error": -0.24807611471254312,
          "sample_id": "pgi"
         },
         {
          "Branch": "PYK_PPC",
          "author": "ECC2",
          "error": -0.41823929566221807,
          "sample_id": "pgl"
         },
         {
          "Branch": "PYK_PPC",
          "author": "Exp_ECC2",
          "error": -0.15102206389832512,
          "sample_id": "pgl"
         },
         {
          "Branch": "PYK_PPC",
          "author": "Exp_iML1515",
          "error": -0.18203332687211582,
          "sample_id": "pgl"
         },
         {
          "Branch": "PYK_PPC",
          "author": "Khodayari",
          "error": -0.24509018411779304,
          "sample_id": "pgl"
         },
         {
          "Branch": "PYK_PPC",
          "author": "Kurata",
          "error": null,
          "sample_id": "pgl"
         },
         {
          "Branch": "PYK_PPC",
          "author": "Millard",
          "error": -0.49687759933864173,
          "sample_id": "pgl"
         },
         {
          "Branch": "PYK_PPC",
          "author": "iML1515",
          "error": -0.5619669982933819,
          "sample_id": "pgl"
         },
         {
          "Branch": "PYK_PPC",
          "author": "ECC2",
          "error": null,
          "sample_id": "pgm"
         },
         {
          "Branch": "PYK_PPC",
          "author": "Exp_ECC2",
          "error": null,
          "sample_id": "pgm"
         },
         {
          "Branch": "PYK_PPC",
          "author": "Exp_iML1515",
          "error": null,
          "sample_id": "pgm"
         },
         {
          "Branch": "PYK_PPC",
          "author": "Khodayari",
          "error": null,
          "sample_id": "pgm"
         },
         {
          "Branch": "PYK_PPC",
          "author": "Kurata",
          "error": null,
          "sample_id": "pgm"
         },
         {
          "Branch": "PYK_PPC",
          "author": "Millard",
          "error": null,
          "sample_id": "pgm"
         },
         {
          "Branch": "PYK_PPC",
          "author": "iML1515",
          "error": null,
          "sample_id": "pgm"
         },
         {
          "Branch": "PYK_PPC",
          "author": "ECC2",
          "error": null,
          "sample_id": "ppc"
         },
         {
          "Branch": "PYK_PPC",
          "author": "Exp_ECC2",
          "error": null,
          "sample_id": "ppc"
         },
         {
          "Branch": "PYK_PPC",
          "author": "Exp_iML1515",
          "error": null,
          "sample_id": "ppc"
         },
         {
          "Branch": "PYK_PPC",
          "author": "Khodayari",
          "error": null,
          "sample_id": "ppc"
         },
         {
          "Branch": "PYK_PPC",
          "author": "Kurata",
          "error": null,
          "sample_id": "ppc"
         },
         {
          "Branch": "PYK_PPC",
          "author": "Millard",
          "error": null,
          "sample_id": "ppc"
         },
         {
          "Branch": "PYK_PPC",
          "author": "iML1515",
          "error": null,
          "sample_id": "ppc"
         },
         {
          "Branch": "PYK_PPC",
          "author": "ECC2",
          "error": null,
          "sample_id": "ppsA"
         },
         {
          "Branch": "PYK_PPC",
          "author": "Exp_ECC2",
          "error": 0.21204640812841624,
          "sample_id": "ppsA"
         },
         {
          "Branch": "PYK_PPC",
          "author": "Exp_iML1515",
          "error": 0.0827804791947791,
          "sample_id": "ppsA"
         },
         {
          "Branch": "PYK_PPC",
          "author": "Khodayari",
          "error": 0.04183693151189305,
          "sample_id": "ppsA"
         },
         {
          "Branch": "PYK_PPC",
          "author": "Kurata",
          "error": -2.025619122636393,
          "sample_id": "ppsA"
         },
         {
          "Branch": "PYK_PPC",
          "author": "Millard",
          "error": 0.04706466233052237,
          "sample_id": "ppsA"
         },
         {
          "Branch": "PYK_PPC",
          "author": "iML1515",
          "error": null,
          "sample_id": "ppsA"
         },
         {
          "Branch": "PYK_PPC",
          "author": "ECC2",
          "error": null,
          "sample_id": "pts"
         },
         {
          "Branch": "PYK_PPC",
          "author": "Exp_ECC2",
          "error": null,
          "sample_id": "pts"
         },
         {
          "Branch": "PYK_PPC",
          "author": "Exp_iML1515",
          "error": null,
          "sample_id": "pts"
         },
         {
          "Branch": "PYK_PPC",
          "author": "Khodayari",
          "error": null,
          "sample_id": "pts"
         },
         {
          "Branch": "PYK_PPC",
          "author": "Kurata",
          "error": null,
          "sample_id": "pts"
         },
         {
          "Branch": "PYK_PPC",
          "author": "Millard",
          "error": null,
          "sample_id": "pts"
         },
         {
          "Branch": "PYK_PPC",
          "author": "iML1515",
          "error": null,
          "sample_id": "pts"
         },
         {
          "Branch": "PYK_PPC",
          "author": "ECC2",
          "error": null,
          "sample_id": "pykA"
         },
         {
          "Branch": "PYK_PPC",
          "author": "Exp_ECC2",
          "error": null,
          "sample_id": "pykA"
         },
         {
          "Branch": "PYK_PPC",
          "author": "Exp_iML1515",
          "error": null,
          "sample_id": "pykA"
         },
         {
          "Branch": "PYK_PPC",
          "author": "Khodayari",
          "error": -0.3838690701458353,
          "sample_id": "pykA"
         },
         {
          "Branch": "PYK_PPC",
          "author": "Kurata",
          "error": -2.52247727687676,
          "sample_id": "pykA"
         },
         {
          "Branch": "PYK_PPC",
          "author": "Millard",
          "error": null,
          "sample_id": "pykA"
         },
         {
          "Branch": "PYK_PPC",
          "author": "iML1515",
          "error": null,
          "sample_id": "pykA"
         },
         {
          "Branch": "PYK_PPC",
          "author": "ECC2",
          "error": null,
          "sample_id": "pykF"
         },
         {
          "Branch": "PYK_PPC",
          "author": "Exp_ECC2",
          "error": null,
          "sample_id": "pykF"
         },
         {
          "Branch": "PYK_PPC",
          "author": "Exp_iML1515",
          "error": null,
          "sample_id": "pykF"
         },
         {
          "Branch": "PYK_PPC",
          "author": "Khodayari",
          "error": -0.6445213844294464,
          "sample_id": "pykF"
         },
         {
          "Branch": "PYK_PPC",
          "author": "Kurata",
          "error": -2.6160033348875835,
          "sample_id": "pykF"
         },
         {
          "Branch": "PYK_PPC",
          "author": "Millard",
          "error": null,
          "sample_id": "pykF"
         },
         {
          "Branch": "PYK_PPC",
          "author": "iML1515",
          "error": null,
          "sample_id": "pykF"
         },
         {
          "Branch": "PYK_PPC",
          "author": "ECC2",
          "error": null,
          "sample_id": "rpe"
         },
         {
          "Branch": "PYK_PPC",
          "author": "Exp_ECC2",
          "error": -0.25795722111731845,
          "sample_id": "rpe"
         },
         {
          "Branch": "PYK_PPC",
          "author": "Exp_iML1515",
          "error": -0.3546415468498225,
          "sample_id": "rpe"
         },
         {
          "Branch": "PYK_PPC",
          "author": "Khodayari",
          "error": -0.3744704574663196,
          "sample_id": "rpe"
         },
         {
          "Branch": "PYK_PPC",
          "author": "Kurata",
          "error": null,
          "sample_id": "rpe"
         },
         {
          "Branch": "PYK_PPC",
          "author": "Millard",
          "error": -0.3758875278449804,
          "sample_id": "rpe"
         },
         {
          "Branch": "PYK_PPC",
          "author": "iML1515",
          "error": null,
          "sample_id": "rpe"
         },
         {
          "Branch": "PYK_PPC",
          "author": "ECC2",
          "error": null,
          "sample_id": "rpiA"
         },
         {
          "Branch": "PYK_PPC",
          "author": "Exp_ECC2",
          "error": null,
          "sample_id": "rpiA"
         },
         {
          "Branch": "PYK_PPC",
          "author": "Exp_iML1515",
          "error": -0.4328474876679324,
          "sample_id": "rpiA"
         },
         {
          "Branch": "PYK_PPC",
          "author": "Khodayari",
          "error": null,
          "sample_id": "rpiA"
         },
         {
          "Branch": "PYK_PPC",
          "author": "Kurata",
          "error": -1.972071035298366,
          "sample_id": "rpiA"
         },
         {
          "Branch": "PYK_PPC",
          "author": "Millard",
          "error": -1.5420983487635505,
          "sample_id": "rpiA"
         },
         {
          "Branch": "PYK_PPC",
          "author": "iML1515",
          "error": null,
          "sample_id": "rpiA"
         },
         {
          "Branch": "PYK_PPC",
          "author": "ECC2",
          "error": null,
          "sample_id": "rpiB"
         },
         {
          "Branch": "PYK_PPC",
          "author": "Exp_ECC2",
          "error": null,
          "sample_id": "rpiB"
         },
         {
          "Branch": "PYK_PPC",
          "author": "Exp_iML1515",
          "error": -0.3065537623436403,
          "sample_id": "rpiB"
         },
         {
          "Branch": "PYK_PPC",
          "author": "Khodayari",
          "error": null,
          "sample_id": "rpiB"
         },
         {
          "Branch": "PYK_PPC",
          "author": "Kurata",
          "error": -1.8457773099740737,
          "sample_id": "rpiB"
         },
         {
          "Branch": "PYK_PPC",
          "author": "Millard",
          "error": -1.4158046234392583,
          "sample_id": "rpiB"
         },
         {
          "Branch": "PYK_PPC",
          "author": "iML1515",
          "error": null,
          "sample_id": "rpiB"
         },
         {
          "Branch": "PYK_PPC",
          "author": "ECC2",
          "error": null,
          "sample_id": "sdhCD"
         },
         {
          "Branch": "PYK_PPC",
          "author": "Exp_ECC2",
          "error": null,
          "sample_id": "sdhCD"
         },
         {
          "Branch": "PYK_PPC",
          "author": "Exp_iML1515",
          "error": null,
          "sample_id": "sdhCD"
         },
         {
          "Branch": "PYK_PPC",
          "author": "Khodayari",
          "error": null,
          "sample_id": "sdhCD"
         },
         {
          "Branch": "PYK_PPC",
          "author": "Kurata",
          "error": null,
          "sample_id": "sdhCD"
         },
         {
          "Branch": "PYK_PPC",
          "author": "Millard",
          "error": null,
          "sample_id": "sdhCD"
         },
         {
          "Branch": "PYK_PPC",
          "author": "iML1515",
          "error": null,
          "sample_id": "sdhCD"
         },
         {
          "Branch": "PYK_PPC",
          "author": "ECC2",
          "error": null,
          "sample_id": "sucA"
         },
         {
          "Branch": "PYK_PPC",
          "author": "Exp_ECC2",
          "error": null,
          "sample_id": "sucA"
         },
         {
          "Branch": "PYK_PPC",
          "author": "Exp_iML1515",
          "error": null,
          "sample_id": "sucA"
         },
         {
          "Branch": "PYK_PPC",
          "author": "Khodayari",
          "error": null,
          "sample_id": "sucA"
         },
         {
          "Branch": "PYK_PPC",
          "author": "Kurata",
          "error": null,
          "sample_id": "sucA"
         },
         {
          "Branch": "PYK_PPC",
          "author": "Millard",
          "error": null,
          "sample_id": "sucA"
         },
         {
          "Branch": "PYK_PPC",
          "author": "iML1515",
          "error": null,
          "sample_id": "sucA"
         },
         {
          "Branch": "PYK_PPC",
          "author": "ECC2",
          "error": null,
          "sample_id": "sucAB"
         },
         {
          "Branch": "PYK_PPC",
          "author": "Exp_ECC2",
          "error": null,
          "sample_id": "sucAB"
         },
         {
          "Branch": "PYK_PPC",
          "author": "Exp_iML1515",
          "error": null,
          "sample_id": "sucAB"
         },
         {
          "Branch": "PYK_PPC",
          "author": "Khodayari",
          "error": null,
          "sample_id": "sucAB"
         },
         {
          "Branch": "PYK_PPC",
          "author": "Kurata",
          "error": null,
          "sample_id": "sucAB"
         },
         {
          "Branch": "PYK_PPC",
          "author": "Millard",
          "error": null,
          "sample_id": "sucAB"
         },
         {
          "Branch": "PYK_PPC",
          "author": "iML1515",
          "error": null,
          "sample_id": "sucAB"
         },
         {
          "Branch": "PYK_PPC",
          "author": "ECC2",
          "error": null,
          "sample_id": "talA"
         },
         {
          "Branch": "PYK_PPC",
          "author": "Exp_ECC2",
          "error": 0.15601857665875501,
          "sample_id": "talA"
         },
         {
          "Branch": "PYK_PPC",
          "author": "Exp_iML1515",
          "error": 0.026752647725122924,
          "sample_id": "talA"
         },
         {
          "Branch": "PYK_PPC",
          "author": "Khodayari",
          "error": 0.03731345604289277,
          "sample_id": "talA"
         },
         {
          "Branch": "PYK_PPC",
          "author": "Kurata",
          "error": -1.5527914899303488,
          "sample_id": "talA"
         },
         {
          "Branch": "PYK_PPC",
          "author": "Millard",
          "error": null,
          "sample_id": "talA"
         },
         {
          "Branch": "PYK_PPC",
          "author": "iML1515",
          "error": null,
          "sample_id": "talA"
         },
         {
          "Branch": "PYK_PPC",
          "author": "ECC2",
          "error": null,
          "sample_id": "talAB"
         },
         {
          "Branch": "PYK_PPC",
          "author": "Exp_ECC2",
          "error": null,
          "sample_id": "talAB"
         },
         {
          "Branch": "PYK_PPC",
          "author": "Exp_iML1515",
          "error": null,
          "sample_id": "talAB"
         },
         {
          "Branch": "PYK_PPC",
          "author": "Khodayari",
          "error": null,
          "sample_id": "talAB"
         },
         {
          "Branch": "PYK_PPC",
          "author": "Kurata",
          "error": null,
          "sample_id": "talAB"
         },
         {
          "Branch": "PYK_PPC",
          "author": "Millard",
          "error": null,
          "sample_id": "talAB"
         },
         {
          "Branch": "PYK_PPC",
          "author": "iML1515",
          "error": null,
          "sample_id": "talAB"
         },
         {
          "Branch": "PYK_PPC",
          "author": "ECC2",
          "error": null,
          "sample_id": "talB"
         },
         {
          "Branch": "PYK_PPC",
          "author": "Exp_ECC2",
          "error": null,
          "sample_id": "talB"
         },
         {
          "Branch": "PYK_PPC",
          "author": "Exp_iML1515",
          "error": null,
          "sample_id": "talB"
         },
         {
          "Branch": "PYK_PPC",
          "author": "Khodayari",
          "error": null,
          "sample_id": "talB"
         },
         {
          "Branch": "PYK_PPC",
          "author": "Kurata",
          "error": -1.5694654902374183,
          "sample_id": "talB"
         },
         {
          "Branch": "PYK_PPC",
          "author": "Millard",
          "error": null,
          "sample_id": "talB"
         },
         {
          "Branch": "PYK_PPC",
          "author": "iML1515",
          "error": null,
          "sample_id": "talB"
         },
         {
          "Branch": "PYK_PPC",
          "author": "ECC2",
          "error": null,
          "sample_id": "tktA"
         },
         {
          "Branch": "PYK_PPC",
          "author": "Exp_ECC2",
          "error": -0.002023846980117372,
          "sample_id": "tktA"
         },
         {
          "Branch": "PYK_PPC",
          "author": "Exp_iML1515",
          "error": -0.0865994952765472,
          "sample_id": "tktA"
         },
         {
          "Branch": "PYK_PPC",
          "author": "Khodayari",
          "error": -0.11922498609243298,
          "sample_id": "tktA"
         },
         {
          "Branch": "PYK_PPC",
          "author": "Kurata",
          "error": -1.6738491928752959,
          "sample_id": "tktA"
         },
         {
          "Branch": "PYK_PPC",
          "author": "Millard",
          "error": -0.47115993469120576,
          "sample_id": "tktA"
         },
         {
          "Branch": "PYK_PPC",
          "author": "iML1515",
          "error": null,
          "sample_id": "tktA"
         },
         {
          "Branch": "PYK_PPC",
          "author": "ECC2",
          "error": null,
          "sample_id": "tktB"
         },
         {
          "Branch": "PYK_PPC",
          "author": "Exp_ECC2",
          "error": 0.16403718894205704,
          "sample_id": "tktB"
         },
         {
          "Branch": "PYK_PPC",
          "author": "Exp_iML1515",
          "error": 0.07946154064562722,
          "sample_id": "tktB"
         },
         {
          "Branch": "PYK_PPC",
          "author": "Khodayari",
          "error": 0.04683604982974143,
          "sample_id": "tktB"
         },
         {
          "Branch": "PYK_PPC",
          "author": "Kurata",
          "error": -1.5077881569531213,
          "sample_id": "tktB"
         },
         {
          "Branch": "PYK_PPC",
          "author": "Millard",
          "error": null,
          "sample_id": "tktB"
         },
         {
          "Branch": "PYK_PPC",
          "author": "iML1515",
          "error": null,
          "sample_id": "tktB"
         },
         {
          "Branch": "PYK_PPC",
          "author": "ECC2",
          "error": null,
          "sample_id": "tpi"
         },
         {
          "Branch": "PYK_PPC",
          "author": "Exp_ECC2",
          "error": null,
          "sample_id": "tpi"
         },
         {
          "Branch": "PYK_PPC",
          "author": "Exp_iML1515",
          "error": null,
          "sample_id": "tpi"
         },
         {
          "Branch": "PYK_PPC",
          "author": "Khodayari",
          "error": null,
          "sample_id": "tpi"
         },
         {
          "Branch": "PYK_PPC",
          "author": "Kurata",
          "error": null,
          "sample_id": "tpi"
         },
         {
          "Branch": "PYK_PPC",
          "author": "Millard",
          "error": null,
          "sample_id": "tpi"
         },
         {
          "Branch": "PYK_PPC",
          "author": "iML1515",
          "error": null,
          "sample_id": "tpi"
         },
         {
          "Branch": "PYK_PPC",
          "author": "ECC2",
          "error": -0.5468566734843117,
          "sample_id": "zwf"
         },
         {
          "Branch": "PYK_PPC",
          "author": "Exp_ECC2",
          "error": -0.2796394417204187,
          "sample_id": "zwf"
         },
         {
          "Branch": "PYK_PPC",
          "author": "Exp_iML1515",
          "error": -0.31065070469421924,
          "sample_id": "zwf"
         },
         {
          "Branch": "PYK_PPC",
          "author": "Khodayari",
          "error": null,
          "sample_id": "zwf"
         },
         {
          "Branch": "PYK_PPC",
          "author": "Kurata",
          "error": -2.3433474382449435,
          "sample_id": "zwf"
         },
         {
          "Branch": "PYK_PPC",
          "author": "Millard",
          "error": -0.42436559095217535,
          "sample_id": "zwf"
         },
         {
          "Branch": "PYK_PPC",
          "author": "iML1515",
          "error": -0.6905843761153773,
          "sample_id": "zwf"
         },
         {
          "Branch": "TCA_ACE",
          "author": "ECC2",
          "error": -2.1217613136944324,
          "sample_id": "WT"
         },
         {
          "Branch": "TCA_ACE",
          "author": "Exp_ECC2",
          "error": 0.04412415581371183,
          "sample_id": "WT"
         },
         {
          "Branch": "TCA_ACE",
          "author": "Exp_iML1515",
          "error": 0.04412415581371183,
          "sample_id": "WT"
         },
         {
          "Branch": "TCA_ACE",
          "author": "Khodayari",
          "error": 0,
          "sample_id": "WT"
         },
         {
          "Branch": "TCA_ACE",
          "author": "Kurata",
          "error": -0.058531914696781595,
          "sample_id": "WT"
         },
         {
          "Branch": "TCA_ACE",
          "author": "Millard",
          "error": -0.08371300660206911,
          "sample_id": "WT"
         },
         {
          "Branch": "TCA_ACE",
          "author": "iML1515",
          "error": -0.9166450166506054,
          "sample_id": "WT"
         },
         {
          "Branch": "TCA_ACE",
          "author": "ECC2",
          "error": null,
          "sample_id": "fbaA"
         },
         {
          "Branch": "TCA_ACE",
          "author": "Exp_ECC2",
          "error": null,
          "sample_id": "fbaA"
         },
         {
          "Branch": "TCA_ACE",
          "author": "Exp_iML1515",
          "error": null,
          "sample_id": "fbaA"
         },
         {
          "Branch": "TCA_ACE",
          "author": "Khodayari",
          "error": null,
          "sample_id": "fbaA"
         },
         {
          "Branch": "TCA_ACE",
          "author": "Kurata",
          "error": null,
          "sample_id": "fbaA"
         },
         {
          "Branch": "TCA_ACE",
          "author": "Millard",
          "error": null,
          "sample_id": "fbaA"
         },
         {
          "Branch": "TCA_ACE",
          "author": "iML1515",
          "error": null,
          "sample_id": "fbaA"
         },
         {
          "Branch": "TCA_ACE",
          "author": "ECC2",
          "error": -1.6659330416125606,
          "sample_id": "fbaB"
         },
         {
          "Branch": "TCA_ACE",
          "author": "Exp_ECC2",
          "error": -0.026643945970774376,
          "sample_id": "fbaB"
         },
         {
          "Branch": "TCA_ACE",
          "author": "Exp_iML1515",
          "error": 0.04412415581371247,
          "sample_id": "fbaB"
         },
         {
          "Branch": "TCA_ACE",
          "author": "Khodayari",
          "error": 0,
          "sample_id": "fbaB"
         },
         {
          "Branch": "TCA_ACE",
          "author": "Kurata",
          "error": -0.058589578680471856,
          "sample_id": "fbaB"
         },
         {
          "Branch": "TCA_ACE",
          "author": "Millard",
          "error": null,
          "sample_id": "fbaB"
         },
         {
          "Branch": "TCA_ACE",
          "author": "iML1515",
          "error": -0.9166450166506049,
          "sample_id": "fbaB"
         },
         {
          "Branch": "TCA_ACE",
          "author": "ECC2",
          "error": -2.12176131369443,
          "sample_id": "fbp"
         },
         {
          "Branch": "TCA_ACE",
          "author": "Exp_ECC2",
          "error": 0.04412415581371162,
          "sample_id": "fbp"
         },
         {
          "Branch": "TCA_ACE",
          "author": "Exp_iML1515",
          "error": 0.04412415581371204,
          "sample_id": "fbp"
         },
         {
          "Branch": "TCA_ACE",
          "author": "Khodayari",
          "error": 0,
          "sample_id": "fbp"
         },
         {
          "Branch": "TCA_ACE",
          "author": "Kurata",
          "error": -0.05852593100674028,
          "sample_id": "fbp"
         },
         {
          "Branch": "TCA_ACE",
          "author": "Millard",
          "error": -0.08370685949377132,
          "sample_id": "fbp"
         },
         {
          "Branch": "TCA_ACE",
          "author": "iML1515",
          "error": -0.9166450166506047,
          "sample_id": "fbp"
         },
         {
          "Branch": "TCA_ACE",
          "author": "ECC2",
          "error": null,
          "sample_id": "glk"
         },
         {
          "Branch": "TCA_ACE",
          "author": "Exp_ECC2",
          "error": null,
          "sample_id": "glk"
         },
         {
          "Branch": "TCA_ACE",
          "author": "Exp_iML1515",
          "error": null,
          "sample_id": "glk"
         },
         {
          "Branch": "TCA_ACE",
          "author": "Khodayari",
          "error": null,
          "sample_id": "glk"
         },
         {
          "Branch": "TCA_ACE",
          "author": "Kurata",
          "error": null,
          "sample_id": "glk"
         },
         {
          "Branch": "TCA_ACE",
          "author": "Millard",
          "error": null,
          "sample_id": "glk"
         },
         {
          "Branch": "TCA_ACE",
          "author": "iML1515",
          "error": null,
          "sample_id": "glk"
         },
         {
          "Branch": "TCA_ACE",
          "author": "ECC2",
          "error": -1.5027779448120113,
          "sample_id": "gnd"
         },
         {
          "Branch": "TCA_ACE",
          "author": "Exp_ECC2",
          "error": 0.04191904227141513,
          "sample_id": "gnd"
         },
         {
          "Branch": "TCA_ACE",
          "author": "Exp_iML1515",
          "error": 0.04290468551146155,
          "sample_id": "gnd"
         },
         {
          "Branch": "TCA_ACE",
          "author": "Khodayari",
          "error": 0.002021873705276044,
          "sample_id": "gnd"
         },
         {
          "Branch": "TCA_ACE",
          "author": "Kurata",
          "error": null,
          "sample_id": "gnd"
         },
         {
          "Branch": "TCA_ACE",
          "author": "Millard",
          "error": -0.08409972442525306,
          "sample_id": "gnd"
         },
         {
          "Branch": "TCA_ACE",
          "author": "iML1515",
          "error": -0.7868431570075485,
          "sample_id": "gnd"
         },
         {
          "Branch": "TCA_ACE",
          "author": "ECC2",
          "error": -1.0554965118905166,
          "sample_id": "gpmA"
         },
         {
          "Branch": "TCA_ACE",
          "author": "Exp_ECC2",
          "error": 0.04135287558215883,
          "sample_id": "gpmA"
         },
         {
          "Branch": "TCA_ACE",
          "author": "Exp_iML1515",
          "error": -0.062227711573121174,
          "sample_id": "gpmA"
         },
         {
          "Branch": "TCA_ACE",
          "author": "Khodayari",
          "error": null,
          "sample_id": "gpmA"
         },
         {
          "Branch": "TCA_ACE",
          "author": "Kurata",
          "error": null,
          "sample_id": "gpmA"
         },
         {
          "Branch": "TCA_ACE",
          "author": "Millard",
          "error": null,
          "sample_id": "gpmA"
         },
         {
          "Branch": "TCA_ACE",
          "author": "iML1515",
          "error": -0.7271397968800939,
          "sample_id": "gpmA"
         },
         {
          "Branch": "TCA_ACE",
          "author": "ECC2",
          "error": null,
          "sample_id": "gpmB"
         },
         {
          "Branch": "TCA_ACE",
          "author": "Exp_ECC2",
          "error": null,
          "sample_id": "gpmB"
         },
         {
          "Branch": "TCA_ACE",
          "author": "Exp_iML1515",
          "error": null,
          "sample_id": "gpmB"
         },
         {
          "Branch": "TCA_ACE",
          "author": "Khodayari",
          "error": null,
          "sample_id": "gpmB"
         },
         {
          "Branch": "TCA_ACE",
          "author": "Kurata",
          "error": null,
          "sample_id": "gpmB"
         },
         {
          "Branch": "TCA_ACE",
          "author": "Millard",
          "error": null,
          "sample_id": "gpmB"
         },
         {
          "Branch": "TCA_ACE",
          "author": "iML1515",
          "error": null,
          "sample_id": "gpmB"
         },
         {
          "Branch": "TCA_ACE",
          "author": "ECC2",
          "error": -1.6659330416125606,
          "sample_id": "pfkA"
         },
         {
          "Branch": "TCA_ACE",
          "author": "Exp_ECC2",
          "error": -0.02664394597077506,
          "sample_id": "pfkA"
         },
         {
          "Branch": "TCA_ACE",
          "author": "Exp_iML1515",
          "error": 0.04412415581371204,
          "sample_id": "pfkA"
         },
         {
          "Branch": "TCA_ACE",
          "author": "Khodayari",
          "error": 0,
          "sample_id": "pfkA"
         },
         {
          "Branch": "TCA_ACE",
          "author": "Kurata",
          "error": -0.033634946725099896,
          "sample_id": "pfkA"
         },
         {
          "Branch": "TCA_ACE",
          "author": "Millard",
          "error": null,
          "sample_id": "pfkA"
         },
         {
          "Branch": "TCA_ACE",
          "author": "iML1515",
          "error": -0.9166450166505964,
          "sample_id": "pfkA"
         },
         {
          "Branch": "TCA_ACE",
          "author": "ECC2",
          "error": -1.6659330416125606,
          "sample_id": "pfkB"
         },
         {
          "Branch": "TCA_ACE",
          "author": "Exp_ECC2",
          "error": -0.02664394597077506,
          "sample_id": "pfkB"
         },
         {
          "Branch": "TCA_ACE",
          "author": "Exp_iML1515",
          "error": 0.04412415581371204,
          "sample_id": "pfkB"
         },
         {
          "Branch": "TCA_ACE",
          "author": "Khodayari",
          "error": 0,
          "sample_id": "pfkB"
         },
         {
          "Branch": "TCA_ACE",
          "author": "Kurata",
          "error": -0.033634946725099896,
          "sample_id": "pfkB"
         },
         {
          "Branch": "TCA_ACE",
          "author": "Millard",
          "error": null,
          "sample_id": "pfkB"
         },
         {
          "Branch": "TCA_ACE",
          "author": "iML1515",
          "error": -0.9166450166505964,
          "sample_id": "pfkB"
         },
         {
          "Branch": "TCA_ACE",
          "author": "ECC2",
          "error": -2.1217613136944333,
          "sample_id": "pgi"
         },
         {
          "Branch": "TCA_ACE",
          "author": "Exp_ECC2",
          "error": 0.06736816868802818,
          "sample_id": "pgi"
         },
         {
          "Branch": "TCA_ACE",
          "author": "Exp_iML1515",
          "error": 0.044124155813711194,
          "sample_id": "pgi"
         },
         {
          "Branch": "TCA_ACE",
          "author": "Khodayari",
          "error": 0.004198468725462473,
          "sample_id": "pgi"
         },
         {
          "Branch": "TCA_ACE",
          "author": "Kurata",
          "error": -2.041321543121185,
          "sample_id": "pgi"
         },
         {
          "Branch": "TCA_ACE",
          "author": "Millard",
          "error": -0.09155924217194122,
          "sample_id": "pgi"
         },
         {
          "Branch": "TCA_ACE",
          "author": "iML1515",
          "error": -0.9166450166505975,
          "sample_id": "pgi"
         },
         {
          "Branch": "TCA_ACE",
          "author": "ECC2",
          "error": -1.5584662376295955,
          "sample_id": "pgl"
         },
         {
          "Branch": "TCA_ACE",
          "author": "Exp_ECC2",
          "error": 0.0419423740981781,
          "sample_id": "pgl"
         },
         {
          "Branch": "TCA_ACE",
          "author": "Exp_iML1515",
          "error": 0.044124155813727556,
          "sample_id": "pgl"
         },
         {
          "Branch": "TCA_ACE",
          "author": "Khodayari",
          "error": 0,
          "sample_id": "pgl"
         },
         {
          "Branch": "TCA_ACE",
          "author": "Kurata",
          "error": null,
          "sample_id": "pgl"
         },
         {
          "Branch": "TCA_ACE",
          "author": "Millard",
          "error": -0.09256416598886386,
          "sample_id": "pgl"
         },
         {
          "Branch": "TCA_ACE",
          "author": "iML1515",
          "error": -0.8762210996466552,
          "sample_id": "pgl"
         },
         {
          "Branch": "TCA_ACE",
          "author": "ECC2",
          "error": null,
          "sample_id": "pgm"
         },
         {
          "Branch": "TCA_ACE",
          "author": "Exp_ECC2",
          "error": null,
          "sample_id": "pgm"
         },
         {
          "Branch": "TCA_ACE",
          "author": "Exp_iML1515",
          "error": null,
          "sample_id": "pgm"
         },
         {
          "Branch": "TCA_ACE",
          "author": "Khodayari",
          "error": null,
          "sample_id": "pgm"
         },
         {
          "Branch": "TCA_ACE",
          "author": "Kurata",
          "error": null,
          "sample_id": "pgm"
         },
         {
          "Branch": "TCA_ACE",
          "author": "Millard",
          "error": null,
          "sample_id": "pgm"
         },
         {
          "Branch": "TCA_ACE",
          "author": "iML1515",
          "error": null,
          "sample_id": "pgm"
         },
         {
          "Branch": "TCA_ACE",
          "author": "ECC2",
          "error": null,
          "sample_id": "ppc"
         },
         {
          "Branch": "TCA_ACE",
          "author": "Exp_ECC2",
          "error": null,
          "sample_id": "ppc"
         },
         {
          "Branch": "TCA_ACE",
          "author": "Exp_iML1515",
          "error": null,
          "sample_id": "ppc"
         },
         {
          "Branch": "TCA_ACE",
          "author": "Khodayari",
          "error": null,
          "sample_id": "ppc"
         },
         {
          "Branch": "TCA_ACE",
          "author": "Kurata",
          "error": null,
          "sample_id": "ppc"
         },
         {
          "Branch": "TCA_ACE",
          "author": "Millard",
          "error": null,
          "sample_id": "ppc"
         },
         {
          "Branch": "TCA_ACE",
          "author": "iML1515",
          "error": null,
          "sample_id": "ppc"
         },
         {
          "Branch": "TCA_ACE",
          "author": "ECC2",
          "error": -2.121761313694431,
          "sample_id": "ppsA"
         },
         {
          "Branch": "TCA_ACE",
          "author": "Exp_ECC2",
          "error": 0.04412415581371162,
          "sample_id": "ppsA"
         },
         {
          "Branch": "TCA_ACE",
          "author": "Exp_iML1515",
          "error": 0.04412415581371204,
          "sample_id": "ppsA"
         },
         {
          "Branch": "TCA_ACE",
          "author": "Khodayari",
          "error": 0,
          "sample_id": "ppsA"
         },
         {
          "Branch": "TCA_ACE",
          "author": "Kurata",
          "error": -0.7571382553006986,
          "sample_id": "ppsA"
         },
         {
          "Branch": "TCA_ACE",
          "author": "Millard",
          "error": -0.08371251678924843,
          "sample_id": "ppsA"
         },
         {
          "Branch": "TCA_ACE",
          "author": "iML1515",
          "error": -0.9166450166506092,
          "sample_id": "ppsA"
         },
         {
          "Branch": "TCA_ACE",
          "author": "ECC2",
          "error": null,
          "sample_id": "pts"
         },
         {
          "Branch": "TCA_ACE",
          "author": "Exp_ECC2",
          "error": null,
          "sample_id": "pts"
         },
         {
          "Branch": "TCA_ACE",
          "author": "Exp_iML1515",
          "error": null,
          "sample_id": "pts"
         },
         {
          "Branch": "TCA_ACE",
          "author": "Khodayari",
          "error": null,
          "sample_id": "pts"
         },
         {
          "Branch": "TCA_ACE",
          "author": "Kurata",
          "error": null,
          "sample_id": "pts"
         },
         {
          "Branch": "TCA_ACE",
          "author": "Millard",
          "error": null,
          "sample_id": "pts"
         },
         {
          "Branch": "TCA_ACE",
          "author": "iML1515",
          "error": null,
          "sample_id": "pts"
         },
         {
          "Branch": "TCA_ACE",
          "author": "ECC2",
          "error": -2.12176131369443,
          "sample_id": "pykA"
         },
         {
          "Branch": "TCA_ACE",
          "author": "Exp_ECC2",
          "error": 0.015942679639364698,
          "sample_id": "pykA"
         },
         {
          "Branch": "TCA_ACE",
          "author": "Exp_iML1515",
          "error": 0.04412415581371183,
          "sample_id": "pykA"
         },
         {
          "Branch": "TCA_ACE",
          "author": "Khodayari",
          "error": 0,
          "sample_id": "pykA"
         },
         {
          "Branch": "TCA_ACE",
          "author": "Kurata",
          "error": -0.05722050717726546,
          "sample_id": "pykA"
         },
         {
          "Branch": "TCA_ACE",
          "author": "Millard",
          "error": -0.09115346481814657,
          "sample_id": "pykA"
         },
         {
          "Branch": "TCA_ACE",
          "author": "iML1515",
          "error": -0.9166450166506054,
          "sample_id": "pykA"
         },
         {
          "Branch": "TCA_ACE",
          "author": "ECC2",
          "error": -2.12176131369443,
          "sample_id": "pykF"
         },
         {
          "Branch": "TCA_ACE",
          "author": "Exp_ECC2",
          "error": 0.015942679639364698,
          "sample_id": "pykF"
         },
         {
          "Branch": "TCA_ACE",
          "author": "Exp_iML1515",
          "error": 0.04412415581371183,
          "sample_id": "pykF"
         },
         {
          "Branch": "TCA_ACE",
          "author": "Khodayari",
          "error": 0,
          "sample_id": "pykF"
         },
         {
          "Branch": "TCA_ACE",
          "author": "Kurata",
          "error": -0.05722050717726546,
          "sample_id": "pykF"
         },
         {
          "Branch": "TCA_ACE",
          "author": "Millard",
          "error": -0.09115346481814657,
          "sample_id": "pykF"
         },
         {
          "Branch": "TCA_ACE",
          "author": "iML1515",
          "error": -0.9166450166506054,
          "sample_id": "pykF"
         },
         {
          "Branch": "TCA_ACE",
          "author": "ECC2",
          "error": -1.6779293107177593,
          "sample_id": "rpe"
         },
         {
          "Branch": "TCA_ACE",
          "author": "Exp_ECC2",
          "error": 0.04330344808162735,
          "sample_id": "rpe"
         },
         {
          "Branch": "TCA_ACE",
          "author": "Exp_iML1515",
          "error": 0.04373724757291665,
          "sample_id": "rpe"
         },
         {
          "Branch": "TCA_ACE",
          "author": "Khodayari",
          "error": 0,
          "sample_id": "rpe"
         },
         {
          "Branch": "TCA_ACE",
          "author": "Kurata",
          "error": null,
          "sample_id": "rpe"
         },
         {
          "Branch": "TCA_ACE",
          "author": "Millard",
          "error": -0.0896386397024424,
          "sample_id": "rpe"
         },
         {
          "Branch": "TCA_ACE",
          "author": "iML1515",
          "error": -0.8224708151129451,
          "sample_id": "rpe"
         },
         {
          "Branch": "TCA_ACE",
          "author": "ECC2",
          "error": null,
          "sample_id": "rpiA"
         },
         {
          "Branch": "TCA_ACE",
          "author": "Exp_ECC2",
          "error": null,
          "sample_id": "rpiA"
         },
         {
          "Branch": "TCA_ACE",
          "author": "Exp_iML1515",
          "error": 0.31496289550248713,
          "sample_id": "rpiA"
         },
         {
          "Branch": "TCA_ACE",
          "author": "Khodayari",
          "error": 0.0023988728701848415,
          "sample_id": "rpiA"
         },
         {
          "Branch": "TCA_ACE",
          "author": "Kurata",
          "error": -0.0583391419707784,
          "sample_id": "rpiA"
         },
         {
          "Branch": "TCA_ACE",
          "author": "Millard",
          "error": -0.029216020974007904,
          "sample_id": "rpiA"
         },
         {
          "Branch": "TCA_ACE",
          "author": "iML1515",
          "error": -0.8408367954437429,
          "sample_id": "rpiA"
         },
         {
          "Branch": "TCA_ACE",
          "author": "ECC2",
          "error": null,
          "sample_id": "rpiB"
         },
         {
          "Branch": "TCA_ACE",
          "author": "Exp_ECC2",
          "error": null,
          "sample_id": "rpiB"
         },
         {
          "Branch": "TCA_ACE",
          "author": "Exp_iML1515",
          "error": 0.31496289550248713,
          "sample_id": "rpiB"
         },
         {
          "Branch": "TCA_ACE",
          "author": "Khodayari",
          "error": 0.0023988728701848415,
          "sample_id": "rpiB"
         },
         {
          "Branch": "TCA_ACE",
          "author": "Kurata",
          "error": -0.0583391419707784,
          "sample_id": "rpiB"
         },
         {
          "Branch": "TCA_ACE",
          "author": "Millard",
          "error": -0.029216020974007904,
          "sample_id": "rpiB"
         },
         {
          "Branch": "TCA_ACE",
          "author": "iML1515",
          "error": -0.8408367954437429,
          "sample_id": "rpiB"
         },
         {
          "Branch": "TCA_ACE",
          "author": "ECC2",
          "error": null,
          "sample_id": "sdhCD"
         },
         {
          "Branch": "TCA_ACE",
          "author": "Exp_ECC2",
          "error": null,
          "sample_id": "sdhCD"
         },
         {
          "Branch": "TCA_ACE",
          "author": "Exp_iML1515",
          "error": null,
          "sample_id": "sdhCD"
         },
         {
          "Branch": "TCA_ACE",
          "author": "Khodayari",
          "error": null,
          "sample_id": "sdhCD"
         },
         {
          "Branch": "TCA_ACE",
          "author": "Kurata",
          "error": null,
          "sample_id": "sdhCD"
         },
         {
          "Branch": "TCA_ACE",
          "author": "Millard",
          "error": null,
          "sample_id": "sdhCD"
         },
         {
          "Branch": "TCA_ACE",
          "author": "iML1515",
          "error": null,
          "sample_id": "sdhCD"
         },
         {
          "Branch": "TCA_ACE",
          "author": "ECC2",
          "error": null,
          "sample_id": "sucA"
         },
         {
          "Branch": "TCA_ACE",
          "author": "Exp_ECC2",
          "error": null,
          "sample_id": "sucA"
         },
         {
          "Branch": "TCA_ACE",
          "author": "Exp_iML1515",
          "error": null,
          "sample_id": "sucA"
         },
         {
          "Branch": "TCA_ACE",
          "author": "Khodayari",
          "error": null,
          "sample_id": "sucA"
         },
         {
          "Branch": "TCA_ACE",
          "author": "Kurata",
          "error": null,
          "sample_id": "sucA"
         },
         {
          "Branch": "TCA_ACE",
          "author": "Millard",
          "error": null,
          "sample_id": "sucA"
         },
         {
          "Branch": "TCA_ACE",
          "author": "iML1515",
          "error": null,
          "sample_id": "sucA"
         },
         {
          "Branch": "TCA_ACE",
          "author": "ECC2",
          "error": null,
          "sample_id": "sucAB"
         },
         {
          "Branch": "TCA_ACE",
          "author": "Exp_ECC2",
          "error": null,
          "sample_id": "sucAB"
         },
         {
          "Branch": "TCA_ACE",
          "author": "Exp_iML1515",
          "error": null,
          "sample_id": "sucAB"
         },
         {
          "Branch": "TCA_ACE",
          "author": "Khodayari",
          "error": null,
          "sample_id": "sucAB"
         },
         {
          "Branch": "TCA_ACE",
          "author": "Kurata",
          "error": null,
          "sample_id": "sucAB"
         },
         {
          "Branch": "TCA_ACE",
          "author": "Millard",
          "error": null,
          "sample_id": "sucAB"
         },
         {
          "Branch": "TCA_ACE",
          "author": "iML1515",
          "error": null,
          "sample_id": "sucAB"
         },
         {
          "Branch": "TCA_ACE",
          "author": "ECC2",
          "error": -1.5860914779093955,
          "sample_id": "talA"
         },
         {
          "Branch": "TCA_ACE",
          "author": "Exp_ECC2",
          "error": 0.04261213112333533,
          "sample_id": "talA"
         },
         {
          "Branch": "TCA_ACE",
          "author": "Exp_iML1515",
          "error": 0.04412415581372033,
          "sample_id": "talA"
         },
         {
          "Branch": "TCA_ACE",
          "author": "Khodayari",
          "error": 0,
          "sample_id": "talA"
         },
         {
          "Branch": "TCA_ACE",
          "author": "Kurata",
          "error": -0.058779283654234946,
          "sample_id": "talA"
         },
         {
          "Branch": "TCA_ACE",
          "author": "Millard",
          "error": null,
          "sample_id": "talA"
         },
         {
          "Branch": "TCA_ACE",
          "author": "iML1515",
          "error": -0.9166450166506054,
          "sample_id": "talA"
         },
         {
          "Branch": "TCA_ACE",
          "author": "ECC2",
          "error": null,
          "sample_id": "talAB"
         },
         {
          "Branch": "TCA_ACE",
          "author": "Exp_ECC2",
          "error": null,
          "sample_id": "talAB"
         },
         {
          "Branch": "TCA_ACE",
          "author": "Exp_iML1515",
          "error": null,
          "sample_id": "talAB"
         },
         {
          "Branch": "TCA_ACE",
          "author": "Khodayari",
          "error": null,
          "sample_id": "talAB"
         },
         {
          "Branch": "TCA_ACE",
          "author": "Kurata",
          "error": null,
          "sample_id": "talAB"
         },
         {
          "Branch": "TCA_ACE",
          "author": "Millard",
          "error": null,
          "sample_id": "talAB"
         },
         {
          "Branch": "TCA_ACE",
          "author": "iML1515",
          "error": null,
          "sample_id": "talAB"
         },
         {
          "Branch": "TCA_ACE",
          "author": "ECC2",
          "error": null,
          "sample_id": "talB"
         },
         {
          "Branch": "TCA_ACE",
          "author": "Exp_ECC2",
          "error": null,
          "sample_id": "talB"
         },
         {
          "Branch": "TCA_ACE",
          "author": "Exp_iML1515",
          "error": null,
          "sample_id": "talB"
         },
         {
          "Branch": "TCA_ACE",
          "author": "Khodayari",
          "error": null,
          "sample_id": "talB"
         },
         {
          "Branch": "TCA_ACE",
          "author": "Kurata",
          "error": -0.058779283654234946,
          "sample_id": "talB"
         },
         {
          "Branch": "TCA_ACE",
          "author": "Millard",
          "error": null,
          "sample_id": "talB"
         },
         {
          "Branch": "TCA_ACE",
          "author": "iML1515",
          "error": null,
          "sample_id": "talB"
         },
         {
          "Branch": "TCA_ACE",
          "author": "ECC2",
          "error": -1.5860914779093955,
          "sample_id": "tktA"
         },
         {
          "Branch": "TCA_ACE",
          "author": "Exp_ECC2",
          "error": 0.04261213112333533,
          "sample_id": "tktA"
         },
         {
          "Branch": "TCA_ACE",
          "author": "Exp_iML1515",
          "error": 0.04337674756028052,
          "sample_id": "tktA"
         },
         {
          "Branch": "TCA_ACE",
          "author": "Khodayari",
          "error": 0,
          "sample_id": "tktA"
         },
         {
          "Branch": "TCA_ACE",
          "author": "Kurata",
          "error": -0.0621520307258574,
          "sample_id": "tktA"
         },
         {
          "Branch": "TCA_ACE",
          "author": "Millard",
          "error": -0.24066700491343684,
          "sample_id": "tktA"
         },
         {
          "Branch": "TCA_ACE",
          "author": "iML1515",
          "error": -0.8045444917022784,
          "sample_id": "tktA"
         },
         {
          "Branch": "TCA_ACE",
          "author": "ECC2",
          "error": -1.5860914779093955,
          "sample_id": "tktB"
         },
         {
          "Branch": "TCA_ACE",
          "author": "Exp_ECC2",
          "error": 0.04261213112333533,
          "sample_id": "tktB"
         },
         {
          "Branch": "TCA_ACE",
          "author": "Exp_iML1515",
          "error": 0.04337674756028052,
          "sample_id": "tktB"
         },
         {
          "Branch": "TCA_ACE",
          "author": "Khodayari",
          "error": 0,
          "sample_id": "tktB"
         },
         {
          "Branch": "TCA_ACE",
          "author": "Kurata",
          "error": -0.0621520307258574,
          "sample_id": "tktB"
         },
         {
          "Branch": "TCA_ACE",
          "author": "Millard",
          "error": null,
          "sample_id": "tktB"
         },
         {
          "Branch": "TCA_ACE",
          "author": "iML1515",
          "error": -0.8045444917022784,
          "sample_id": "tktB"
         },
         {
          "Branch": "TCA_ACE",
          "author": "ECC2",
          "error": null,
          "sample_id": "tpi"
         },
         {
          "Branch": "TCA_ACE",
          "author": "Exp_ECC2",
          "error": null,
          "sample_id": "tpi"
         },
         {
          "Branch": "TCA_ACE",
          "author": "Exp_iML1515",
          "error": null,
          "sample_id": "tpi"
         },
         {
          "Branch": "TCA_ACE",
          "author": "Khodayari",
          "error": null,
          "sample_id": "tpi"
         },
         {
          "Branch": "TCA_ACE",
          "author": "Kurata",
          "error": null,
          "sample_id": "tpi"
         },
         {
          "Branch": "TCA_ACE",
          "author": "Millard",
          "error": null,
          "sample_id": "tpi"
         },
         {
          "Branch": "TCA_ACE",
          "author": "iML1515",
          "error": null,
          "sample_id": "tpi"
         },
         {
          "Branch": "TCA_ACE",
          "author": "ECC2",
          "error": -1.5584662376295955,
          "sample_id": "zwf"
         },
         {
          "Branch": "TCA_ACE",
          "author": "Exp_ECC2",
          "error": 0.0419423740981781,
          "sample_id": "zwf"
         },
         {
          "Branch": "TCA_ACE",
          "author": "Exp_iML1515",
          "error": 0.04412415581371162,
          "sample_id": "zwf"
         },
         {
          "Branch": "TCA_ACE",
          "author": "Khodayari",
          "error": 0.006110553333924202,
          "sample_id": "zwf"
         },
         {
          "Branch": "TCA_ACE",
          "author": "Kurata",
          "error": -0.045007883617995494,
          "sample_id": "zwf"
         },
         {
          "Branch": "TCA_ACE",
          "author": "Millard",
          "error": -0.0830783730582049,
          "sample_id": "zwf"
         },
         {
          "Branch": "TCA_ACE",
          "author": "iML1515",
          "error": -0.8762210996466643,
          "sample_id": "zwf"
         },
         {
          "Branch": "ICD_ICL",
          "author": "ECC2",
          "error": 0.21868920096482944,
          "sample_id": "WT"
         },
         {
          "Branch": "ICD_ICL",
          "author": "Exp_ECC2",
          "error": -0.016865404751303104,
          "sample_id": "WT"
         },
         {
          "Branch": "ICD_ICL",
          "author": "Exp_iML1515",
          "error": -0.016865404751303104,
          "sample_id": "WT"
         },
         {
          "Branch": "ICD_ICL",
          "author": "Khodayari",
          "error": 0.07097005916851645,
          "sample_id": "WT"
         },
         {
          "Branch": "ICD_ICL",
          "author": "Kurata",
          "error": -1.3000367106065063,
          "sample_id": "WT"
         },
         {
          "Branch": "ICD_ICL",
          "author": "Millard",
          "error": -0.10763936662087212,
          "sample_id": "WT"
         },
         {
          "Branch": "ICD_ICL",
          "author": "iML1515",
          "error": 0.21868920096482944,
          "sample_id": "WT"
         },
         {
          "Branch": "ICD_ICL",
          "author": "ECC2",
          "error": null,
          "sample_id": "fbaA"
         },
         {
          "Branch": "ICD_ICL",
          "author": "Exp_ECC2",
          "error": null,
          "sample_id": "fbaA"
         },
         {
          "Branch": "ICD_ICL",
          "author": "Exp_iML1515",
          "error": null,
          "sample_id": "fbaA"
         },
         {
          "Branch": "ICD_ICL",
          "author": "Khodayari",
          "error": null,
          "sample_id": "fbaA"
         },
         {
          "Branch": "ICD_ICL",
          "author": "Kurata",
          "error": null,
          "sample_id": "fbaA"
         },
         {
          "Branch": "ICD_ICL",
          "author": "Millard",
          "error": null,
          "sample_id": "fbaA"
         },
         {
          "Branch": "ICD_ICL",
          "author": "iML1515",
          "error": null,
          "sample_id": "fbaA"
         },
         {
          "Branch": "ICD_ICL",
          "author": "ECC2",
          "error": -0.3603697098825432,
          "sample_id": "fbaB"
         },
         {
          "Branch": "ICD_ICL",
          "author": "Exp_ECC2",
          "error": -0.05822059043321701,
          "sample_id": "fbaB"
         },
         {
          "Branch": "ICD_ICL",
          "author": "Exp_iML1515",
          "error": -0.05822059043321126,
          "sample_id": "fbaB"
         },
         {
          "Branch": "ICD_ICL",
          "author": "Khodayari",
          "error": 0.02268742153737255,
          "sample_id": "fbaB"
         },
         {
          "Branch": "ICD_ICL",
          "author": "Kurata",
          "error": -1.342536927341564,
          "sample_id": "fbaB"
         },
         {
          "Branch": "ICD_ICL",
          "author": "Millard",
          "error": null,
          "sample_id": "fbaB"
         },
         {
          "Branch": "ICD_ICL",
          "author": "iML1515",
          "error": 0.17733401528291554,
          "sample_id": "fbaB"
         },
         {
          "Branch": "ICD_ICL",
          "author": "ECC2",
          "error": 0.45547552868282576,
          "sample_id": "fbp"
         },
         {
          "Branch": "ICD_ICL",
          "author": "Exp_ECC2",
          "error": 0.21992092296669294,
          "sample_id": "fbp"
         },
         {
          "Branch": "ICD_ICL",
          "author": "Exp_iML1515",
          "error": 0.21992092296669166,
          "sample_id": "fbp"
         },
         {
          "Branch": "ICD_ICL",
          "author": "Khodayari",
          "error": 0.3078822567726477,
          "sample_id": "fbp"
         },
         {
          "Branch": "ICD_ICL",
          "author": "Kurata",
          "error": -1.0630615437736393,
          "sample_id": "fbp"
         },
         {
          "Branch": "ICD_ICL",
          "author": "Millard",
          "error": 0.1291821691212937,
          "sample_id": "fbp"
         },
         {
          "Branch": "ICD_ICL",
          "author": "iML1515",
          "error": 0.45547552868282576,
          "sample_id": "fbp"
         },
         {
          "Branch": "ICD_ICL",
          "author": "ECC2",
          "error": null,
          "sample_id": "glk"
         },
         {
          "Branch": "ICD_ICL",
          "author": "Exp_ECC2",
          "error": null,
          "sample_id": "glk"
         },
         {
          "Branch": "ICD_ICL",
          "author": "Exp_iML1515",
          "error": null,
          "sample_id": "glk"
         },
         {
          "Branch": "ICD_ICL",
          "author": "Khodayari",
          "error": null,
          "sample_id": "glk"
         },
         {
          "Branch": "ICD_ICL",
          "author": "Kurata",
          "error": null,
          "sample_id": "glk"
         },
         {
          "Branch": "ICD_ICL",
          "author": "Millard",
          "error": null,
          "sample_id": "glk"
         },
         {
          "Branch": "ICD_ICL",
          "author": "iML1515",
          "error": null,
          "sample_id": "glk"
         },
         {
          "Branch": "ICD_ICL",
          "author": "ECC2",
          "error": 0.15874838907588779,
          "sample_id": "gnd"
         },
         {
          "Branch": "ICD_ICL",
          "author": "Exp_ECC2",
          "error": -0.06389239443975875,
          "sample_id": "gnd"
         },
         {
          "Branch": "ICD_ICL",
          "author": "Exp_iML1515",
          "error": -0.06964753929963916,
          "sample_id": "gnd"
         },
         {
          "Branch": "ICD_ICL",
          "author": "Khodayari",
          "error": 0.05679685407124162,
          "sample_id": "gnd"
         },
         {
          "Branch": "ICD_ICL",
          "author": "Kurata",
          "error": null,
          "sample_id": "gnd"
         },
         {
          "Branch": "ICD_ICL",
          "author": "Millard",
          "error": -0.12524995498894748,
          "sample_id": "gnd"
         },
         {
          "Branch": "ICD_ICL",
          "author": "iML1515",
          "error": 0.15874838907588779,
          "sample_id": "gnd"
         },
         {
          "Branch": "ICD_ICL",
          "author": "ECC2",
          "error": -1.27480906672843,
          "sample_id": "gpmA"
         },
         {
          "Branch": "ICD_ICL",
          "author": "Exp_ECC2",
          "error": -0.17295024431613673,
          "sample_id": "gpmA"
         },
         {
          "Branch": "ICD_ICL",
          "author": "Exp_iML1515",
          "error": -0.14398741219064232,
          "sample_id": "gpmA"
         },
         {
          "Branch": "ICD_ICL",
          "author": "Khodayari",
          "error": null,
          "sample_id": "gpmA"
         },
         {
          "Branch": "ICD_ICL",
          "author": "Kurata",
          "error": null,
          "sample_id": "gpmA"
         },
         {
          "Branch": "ICD_ICL",
          "author": "Millard",
          "error": null,
          "sample_id": "gpmA"
         },
         {
          "Branch": "ICD_ICL",
          "author": "iML1515",
          "error": 0.0915671935254905,
          "sample_id": "gpmA"
         },
         {
          "Branch": "ICD_ICL",
          "author": "ECC2",
          "error": null,
          "sample_id": "gpmB"
         },
         {
          "Branch": "ICD_ICL",
          "author": "Exp_ECC2",
          "error": null,
          "sample_id": "gpmB"
         },
         {
          "Branch": "ICD_ICL",
          "author": "Exp_iML1515",
          "error": null,
          "sample_id": "gpmB"
         },
         {
          "Branch": "ICD_ICL",
          "author": "Khodayari",
          "error": null,
          "sample_id": "gpmB"
         },
         {
          "Branch": "ICD_ICL",
          "author": "Kurata",
          "error": null,
          "sample_id": "gpmB"
         },
         {
          "Branch": "ICD_ICL",
          "author": "Millard",
          "error": null,
          "sample_id": "gpmB"
         },
         {
          "Branch": "ICD_ICL",
          "author": "iML1515",
          "error": null,
          "sample_id": "gpmB"
         },
         {
          "Branch": "ICD_ICL",
          "author": "ECC2",
          "error": -0.4337140116414111,
          "sample_id": "pfkA"
         },
         {
          "Branch": "ICD_ICL",
          "author": "Exp_ECC2",
          "error": -0.13156489219208506,
          "sample_id": "pfkA"
         },
         {
          "Branch": "ICD_ICL",
          "author": "Exp_iML1515",
          "error": -0.13156489219208184,
          "sample_id": "pfkA"
         },
         {
          "Branch": "ICD_ICL",
          "author": "Khodayari",
          "error": -0.04325748040083001,
          "sample_id": "pfkA"
         },
         {
          "Branch": "ICD_ICL",
          "author": "Kurata",
          "error": -2.0884771993725324,
          "sample_id": "pfkA"
         },
         {
          "Branch": "ICD_ICL",
          "author": "Millard",
          "error": null,
          "sample_id": "pfkA"
         },
         {
          "Branch": "ICD_ICL",
          "author": "iML1515",
          "error": 0.10398971352404764,
          "sample_id": "pfkA"
         },
         {
          "Branch": "ICD_ICL",
          "author": "ECC2",
          "error": -0.1387960176034534,
          "sample_id": "pfkB"
         },
         {
          "Branch": "ICD_ICL",
          "author": "Exp_ECC2",
          "error": 0.16335310184587265,
          "sample_id": "pfkB"
         },
         {
          "Branch": "ICD_ICL",
          "author": "Exp_iML1515",
          "error": 0.16335310184587587,
          "sample_id": "pfkB"
         },
         {
          "Branch": "ICD_ICL",
          "author": "Khodayari",
          "error": 0.2516605136371277,
          "sample_id": "pfkB"
         },
         {
          "Branch": "ICD_ICL",
          "author": "Kurata",
          "error": -1.7935592053345748,
          "sample_id": "pfkB"
         },
         {
          "Branch": "ICD_ICL",
          "author": "Millard",
          "error": null,
          "sample_id": "pfkB"
         },
         {
          "Branch": "ICD_ICL",
          "author": "iML1515",
          "error": 0.39890770756200533,
          "sample_id": "pfkB"
         },
         {
          "Branch": "ICD_ICL",
          "author": "ECC2",
          "error": 0.47608267532211773,
          "sample_id": "pgi"
         },
         {
          "Branch": "ICD_ICL",
          "author": "Exp_ECC2",
          "error": 0.0951814063378642,
          "sample_id": "pgi"
         },
         {
          "Branch": "ICD_ICL",
          "author": "Exp_iML1515",
          "error": 0.24052806960598547,
          "sample_id": "pgi"
         },
         {
          "Branch": "ICD_ICL",
          "author": "Khodayari",
          "error": 0.21343350919451898,
          "sample_id": "pgi"
         },
         {
          "Branch": "ICD_ICL",
          "author": "Kurata",
          "error": -1.1963915141243462,
          "sample_id": "pgi"
         },
         {
          "Branch": "ICD_ICL",
          "author": "Millard",
          "error": -0.007754400307395937,
          "sample_id": "pgi"
         },
         {
          "Branch": "ICD_ICL",
          "author": "iML1515",
          "error": 0.47608267532211773,
          "sample_id": "pgi"
         },
         {
          "Branch": "ICD_ICL",
          "author": "ECC2",
          "error": 0.1868773733298153,
          "sample_id": "pgl"
         },
         {
          "Branch": "ICD_ICL",
          "author": "Exp_ECC2",
          "error": -0.03589932744241525,
          "sample_id": "pgl"
         },
         {
          "Branch": "ICD_ICL",
          "author": "Exp_iML1515",
          "error": -0.04867723238632188,
          "sample_id": "pgl"
         },
         {
          "Branch": "ICD_ICL",
          "author": "Khodayari",
          "error": 0.034198237780498825,
          "sample_id": "pgl"
         },
         {
          "Branch": "ICD_ICL",
          "author": "Kurata",
          "error": null,
          "sample_id": "pgl"
         },
         {
          "Branch": "ICD_ICL",
          "author": "Millard",
          "error": 0.10232347242465903,
          "sample_id": "pgl"
         },
         {
          "Branch": "ICD_ICL",
          "author": "iML1515",
          "error": 0.1868773733298153,
          "sample_id": "pgl"
         },
         {
          "Branch": "ICD_ICL",
          "author": "ECC2",
          "error": null,
          "sample_id": "pgm"
         },
         {
          "Branch": "ICD_ICL",
          "author": "Exp_ECC2",
          "error": null,
          "sample_id": "pgm"
         },
         {
          "Branch": "ICD_ICL",
          "author": "Exp_iML1515",
          "error": null,
          "sample_id": "pgm"
         },
         {
          "Branch": "ICD_ICL",
          "author": "Khodayari",
          "error": null,
          "sample_id": "pgm"
         },
         {
          "Branch": "ICD_ICL",
          "author": "Kurata",
          "error": null,
          "sample_id": "pgm"
         },
         {
          "Branch": "ICD_ICL",
          "author": "Millard",
          "error": null,
          "sample_id": "pgm"
         },
         {
          "Branch": "ICD_ICL",
          "author": "iML1515",
          "error": null,
          "sample_id": "pgm"
         },
         {
          "Branch": "ICD_ICL",
          "author": "ECC2",
          "error": null,
          "sample_id": "ppc"
         },
         {
          "Branch": "ICD_ICL",
          "author": "Exp_ECC2",
          "error": null,
          "sample_id": "ppc"
         },
         {
          "Branch": "ICD_ICL",
          "author": "Exp_iML1515",
          "error": null,
          "sample_id": "ppc"
         },
         {
          "Branch": "ICD_ICL",
          "author": "Khodayari",
          "error": null,
          "sample_id": "ppc"
         },
         {
          "Branch": "ICD_ICL",
          "author": "Kurata",
          "error": null,
          "sample_id": "ppc"
         },
         {
          "Branch": "ICD_ICL",
          "author": "Millard",
          "error": null,
          "sample_id": "ppc"
         },
         {
          "Branch": "ICD_ICL",
          "author": "iML1515",
          "error": null,
          "sample_id": "ppc"
         },
         {
          "Branch": "ICD_ICL",
          "author": "ECC2",
          "error": 0,
          "sample_id": "ppsA"
         },
         {
          "Branch": "ICD_ICL",
          "author": "Exp_ECC2",
          "error": -0.23555460571613254,
          "sample_id": "ppsA"
         },
         {
          "Branch": "ICD_ICL",
          "author": "Exp_iML1515",
          "error": -0.2355546057161341,
          "sample_id": "ppsA"
         },
         {
          "Branch": "ICD_ICL",
          "author": "Khodayari",
          "error": -0.15236900005012466,
          "sample_id": "ppsA"
         },
         {
          "Branch": "ICD_ICL",
          "author": "Kurata",
          "error": -0.5576239545496778,
          "sample_id": "ppsA"
         },
         {
          "Branch": "ICD_ICL",
          "author": "Millard",
          "error": -0.32632450510806543,
          "sample_id": "ppsA"
         },
         {
          "Branch": "ICD_ICL",
          "author": "iML1515",
          "error": 0,
          "sample_id": "ppsA"
         },
         {
          "Branch": "ICD_ICL",
          "author": "ECC2",
          "error": null,
          "sample_id": "pts"
         },
         {
          "Branch": "ICD_ICL",
          "author": "Exp_ECC2",
          "error": null,
          "sample_id": "pts"
         },
         {
          "Branch": "ICD_ICL",
          "author": "Exp_iML1515",
          "error": null,
          "sample_id": "pts"
         },
         {
          "Branch": "ICD_ICL",
          "author": "Khodayari",
          "error": null,
          "sample_id": "pts"
         },
         {
          "Branch": "ICD_ICL",
          "author": "Kurata",
          "error": null,
          "sample_id": "pts"
         },
         {
          "Branch": "ICD_ICL",
          "author": "Millard",
          "error": null,
          "sample_id": "pts"
         },
         {
          "Branch": "ICD_ICL",
          "author": "iML1515",
          "error": null,
          "sample_id": "pts"
         },
         {
          "Branch": "ICD_ICL",
          "author": "ECC2",
          "error": 0.24445333790096085,
          "sample_id": "pykA"
         },
         {
          "Branch": "ICD_ICL",
          "author": "Exp_ECC2",
          "error": 0.03943997251886169,
          "sample_id": "pykA"
         },
         {
          "Branch": "ICD_ICL",
          "author": "Exp_iML1515",
          "error": 0.00889873218482845,
          "sample_id": "pykA"
         },
         {
          "Branch": "ICD_ICL",
          "author": "Khodayari",
          "error": 0.0872127808751825,
          "sample_id": "pykA"
         },
         {
          "Branch": "ICD_ICL",
          "author": "Kurata",
          "error": -1.2262758773125468,
          "sample_id": "pykA"
         },
         {
          "Branch": "ICD_ICL",
          "author": "Millard",
          "error": -0.012855817610277043,
          "sample_id": "pykA"
         },
         {
          "Branch": "ICD_ICL",
          "author": "iML1515",
          "error": 0.24445333790096085,
          "sample_id": "pykA"
         },
         {
          "Branch": "ICD_ICL",
          "author": "ECC2",
          "error": 0.5292593254548287,
          "sample_id": "pykF"
         },
         {
          "Branch": "ICD_ICL",
          "author": "Exp_ECC2",
          "error": 0.32424596007272954,
          "sample_id": "pykF"
         },
         {
          "Branch": "ICD_ICL",
          "author": "Exp_iML1515",
          "error": 0.2937047197386963,
          "sample_id": "pykF"
         },
         {
          "Branch": "ICD_ICL",
          "author": "Khodayari",
          "error": 0.3682935037564683,
          "sample_id": "pykF"
         },
         {
          "Branch": "ICD_ICL",
          "author": "Kurata",
          "error": -0.941469889758679,
          "sample_id": "pykF"
         },
         {
          "Branch": "ICD_ICL",
          "author": "Millard",
          "error": 0.2719501699435908,
          "sample_id": "pykF"
         },
         {
          "Branch": "ICD_ICL",
          "author": "iML1515",
          "error": 0.5292593254548287,
          "sample_id": "pykF"
         },
         {
          "Branch": "ICD_ICL",
          "author": "ECC2",
          "error": 0.16623541904233022,
          "sample_id": "rpe"
         },
         {
          "Branch": "ICD_ICL",
          "author": "Exp_ECC2",
          "error": -0.06449669725848284,
          "sample_id": "rpe"
         },
         {
          "Branch": "ICD_ICL",
          "author": "Exp_iML1515",
          "error": -0.07793444604065111,
          "sample_id": "rpe"
         },
         {
          "Branch": "ICD_ICL",
          "author": "Khodayari",
          "error": 0.013403135245739273,
          "sample_id": "rpe"
         },
         {
          "Branch": "ICD_ICL",
          "author": "Kurata",
          "error": null,
          "sample_id": "rpe"
         },
         {
          "Branch": "ICD_ICL",
          "author": "Millard",
          "error": -0.27406323737903915,
          "sample_id": "rpe"
         },
         {
          "Branch": "ICD_ICL",
          "author": "iML1515",
          "error": 0.16623541904233022,
          "sample_id": "rpe"
         },
         {
          "Branch": "ICD_ICL",
          "author": "ECC2",
          "error": null,
          "sample_id": "rpiA"
         },
         {
          "Branch": "ICD_ICL",
          "author": "Exp_ECC2",
          "error": null,
          "sample_id": "rpiA"
         },
         {
          "Branch": "ICD_ICL",
          "author": "Exp_iML1515",
          "error": 0.1551894427795789,
          "sample_id": "rpiA"
         },
         {
          "Branch": "ICD_ICL",
          "author": "Khodayari",
          "error": 0.10862474003600268,
          "sample_id": "rpiA"
         },
         {
          "Branch": "ICD_ICL",
          "author": "Kurata",
          "error": -1.2869590594691385,
          "sample_id": "rpiA"
         },
         {
          "Branch": "ICD_ICL",
          "author": "Millard",
          "error": 0.2256719976675684,
          "sample_id": "rpiA"
         },
         {
          "Branch": "ICD_ICL",
          "author": "iML1515",
          "error": 0.2256719976675684,
          "sample_id": "rpiA"
         },
         {
          "Branch": "ICD_ICL",
          "author": "ECC2",
          "error": null,
          "sample_id": "rpiB"
         },
         {
          "Branch": "ICD_ICL",
          "author": "Exp_ECC2",
          "error": null,
          "sample_id": "rpiB"
         },
         {
          "Branch": "ICD_ICL",
          "author": "Exp_iML1515",
          "error": 0.0057448104998947536,
          "sample_id": "rpiB"
         },
         {
          "Branch": "ICD_ICL",
          "author": "Khodayari",
          "error": -0.04081989224368146,
          "sample_id": "rpiB"
         },
         {
          "Branch": "ICD_ICL",
          "author": "Kurata",
          "error": -1.4364036917488228,
          "sample_id": "rpiB"
         },
         {
          "Branch": "ICD_ICL",
          "author": "Millard",
          "error": 0.07622736538788426,
          "sample_id": "rpiB"
         },
         {
          "Branch": "ICD_ICL",
          "author": "iML1515",
          "error": 0.07622736538788426,
          "sample_id": "rpiB"
         },
         {
          "Branch": "ICD_ICL",
          "author": "ECC2",
          "error": null,
          "sample_id": "sdhCD"
         },
         {
          "Branch": "ICD_ICL",
          "author": "Exp_ECC2",
          "error": null,
          "sample_id": "sdhCD"
         },
         {
          "Branch": "ICD_ICL",
          "author": "Exp_iML1515",
          "error": null,
          "sample_id": "sdhCD"
         },
         {
          "Branch": "ICD_ICL",
          "author": "Khodayari",
          "error": null,
          "sample_id": "sdhCD"
         },
         {
          "Branch": "ICD_ICL",
          "author": "Kurata",
          "error": null,
          "sample_id": "sdhCD"
         },
         {
          "Branch": "ICD_ICL",
          "author": "Millard",
          "error": null,
          "sample_id": "sdhCD"
         },
         {
          "Branch": "ICD_ICL",
          "author": "iML1515",
          "error": null,
          "sample_id": "sdhCD"
         },
         {
          "Branch": "ICD_ICL",
          "author": "ECC2",
          "error": null,
          "sample_id": "sucA"
         },
         {
          "Branch": "ICD_ICL",
          "author": "Exp_ECC2",
          "error": null,
          "sample_id": "sucA"
         },
         {
          "Branch": "ICD_ICL",
          "author": "Exp_iML1515",
          "error": null,
          "sample_id": "sucA"
         },
         {
          "Branch": "ICD_ICL",
          "author": "Khodayari",
          "error": null,
          "sample_id": "sucA"
         },
         {
          "Branch": "ICD_ICL",
          "author": "Kurata",
          "error": null,
          "sample_id": "sucA"
         },
         {
          "Branch": "ICD_ICL",
          "author": "Millard",
          "error": null,
          "sample_id": "sucA"
         },
         {
          "Branch": "ICD_ICL",
          "author": "iML1515",
          "error": null,
          "sample_id": "sucA"
         },
         {
          "Branch": "ICD_ICL",
          "author": "ECC2",
          "error": null,
          "sample_id": "sucAB"
         },
         {
          "Branch": "ICD_ICL",
          "author": "Exp_ECC2",
          "error": null,
          "sample_id": "sucAB"
         },
         {
          "Branch": "ICD_ICL",
          "author": "Exp_iML1515",
          "error": null,
          "sample_id": "sucAB"
         },
         {
          "Branch": "ICD_ICL",
          "author": "Khodayari",
          "error": null,
          "sample_id": "sucAB"
         },
         {
          "Branch": "ICD_ICL",
          "author": "Kurata",
          "error": null,
          "sample_id": "sucAB"
         },
         {
          "Branch": "ICD_ICL",
          "author": "Millard",
          "error": null,
          "sample_id": "sucAB"
         },
         {
          "Branch": "ICD_ICL",
          "author": "iML1515",
          "error": null,
          "sample_id": "sucAB"
         },
         {
          "Branch": "ICD_ICL",
          "author": "ECC2",
          "error": 0.02381064869371856,
          "sample_id": "talA"
         },
         {
          "Branch": "ICD_ICL",
          "author": "Exp_ECC2",
          "error": -0.20287419574943777,
          "sample_id": "talA"
         },
         {
          "Branch": "ICD_ICL",
          "author": "Exp_iML1515",
          "error": -0.21174395702241233,
          "sample_id": "talA"
         },
         {
          "Branch": "ICD_ICL",
          "author": "Khodayari",
          "error": -0.13049968901083198,
          "sample_id": "talA"
         },
         {
          "Branch": "ICD_ICL",
          "author": "Kurata",
          "error": -1.5027382867825447,
          "sample_id": "talA"
         },
         {
          "Branch": "ICD_ICL",
          "author": "Millard",
          "error": null,
          "sample_id": "talA"
         },
         {
          "Branch": "ICD_ICL",
          "author": "iML1515",
          "error": 0.02381064869371856,
          "sample_id": "talA"
         },
         {
          "Branch": "ICD_ICL",
          "author": "ECC2",
          "error": null,
          "sample_id": "talAB"
         },
         {
          "Branch": "ICD_ICL",
          "author": "Exp_ECC2",
          "error": null,
          "sample_id": "talAB"
         },
         {
          "Branch": "ICD_ICL",
          "author": "Exp_iML1515",
          "error": null,
          "sample_id": "talAB"
         },
         {
          "Branch": "ICD_ICL",
          "author": "Khodayari",
          "error": null,
          "sample_id": "talAB"
         },
         {
          "Branch": "ICD_ICL",
          "author": "Kurata",
          "error": null,
          "sample_id": "talAB"
         },
         {
          "Branch": "ICD_ICL",
          "author": "Millard",
          "error": null,
          "sample_id": "talAB"
         },
         {
          "Branch": "ICD_ICL",
          "author": "iML1515",
          "error": null,
          "sample_id": "talAB"
         },
         {
          "Branch": "ICD_ICL",
          "author": "ECC2",
          "error": null,
          "sample_id": "talB"
         },
         {
          "Branch": "ICD_ICL",
          "author": "Exp_ECC2",
          "error": null,
          "sample_id": "talB"
         },
         {
          "Branch": "ICD_ICL",
          "author": "Exp_iML1515",
          "error": null,
          "sample_id": "talB"
         },
         {
          "Branch": "ICD_ICL",
          "author": "Khodayari",
          "error": null,
          "sample_id": "talB"
         },
         {
          "Branch": "ICD_ICL",
          "author": "Kurata",
          "error": -1.504325798691553,
          "sample_id": "talB"
         },
         {
          "Branch": "ICD_ICL",
          "author": "Millard",
          "error": null,
          "sample_id": "talB"
         },
         {
          "Branch": "ICD_ICL",
          "author": "iML1515",
          "error": null,
          "sample_id": "talB"
         },
         {
          "Branch": "ICD_ICL",
          "author": "ECC2",
          "error": 0,
          "sample_id": "tktA"
         },
         {
          "Branch": "ICD_ICL",
          "author": "Exp_ECC2",
          "error": -0.22668484444315634,
          "sample_id": "tktA"
         },
         {
          "Branch": "ICD_ICL",
          "author": "Exp_iML1515",
          "error": -0.24299754757444805,
          "sample_id": "tktA"
         },
         {
          "Branch": "ICD_ICL",
          "author": "Khodayari",
          "error": -0.15462651864288574,
          "sample_id": "tktA"
         },
         {
          "Branch": "ICD_ICL",
          "author": "Kurata",
          "error": -1.6338754784495821,
          "sample_id": "tktA"
         },
         {
          "Branch": "ICD_ICL",
          "author": "Millard",
          "error": -0.0018404428706402865,
          "sample_id": "tktA"
         },
         {
          "Branch": "ICD_ICL",
          "author": "iML1515",
          "error": 0,
          "sample_id": "tktA"
         },
         {
          "Branch": "ICD_ICL",
          "author": "ECC2",
          "error": 0,
          "sample_id": "tktB"
         },
         {
          "Branch": "ICD_ICL",
          "author": "Exp_ECC2",
          "error": -0.22668484444315634,
          "sample_id": "tktB"
         },
         {
          "Branch": "ICD_ICL",
          "author": "Exp_iML1515",
          "error": -0.24299754757444805,
          "sample_id": "tktB"
         },
         {
          "Branch": "ICD_ICL",
          "author": "Khodayari",
          "error": -0.15462651864288574,
          "sample_id": "tktB"
         },
         {
          "Branch": "ICD_ICL",
          "author": "Kurata",
          "error": -1.6338754784495821,
          "sample_id": "tktB"
         },
         {
          "Branch": "ICD_ICL",
          "author": "Millard",
          "error": null,
          "sample_id": "tktB"
         },
         {
          "Branch": "ICD_ICL",
          "author": "iML1515",
          "error": 0,
          "sample_id": "tktB"
         },
         {
          "Branch": "ICD_ICL",
          "author": "ECC2",
          "error": null,
          "sample_id": "tpi"
         },
         {
          "Branch": "ICD_ICL",
          "author": "Exp_ECC2",
          "error": null,
          "sample_id": "tpi"
         },
         {
          "Branch": "ICD_ICL",
          "author": "Exp_iML1515",
          "error": null,
          "sample_id": "tpi"
         },
         {
          "Branch": "ICD_ICL",
          "author": "Khodayari",
          "error": null,
          "sample_id": "tpi"
         },
         {
          "Branch": "ICD_ICL",
          "author": "Kurata",
          "error": null,
          "sample_id": "tpi"
         },
         {
          "Branch": "ICD_ICL",
          "author": "Millard",
          "error": null,
          "sample_id": "tpi"
         },
         {
          "Branch": "ICD_ICL",
          "author": "iML1515",
          "error": null,
          "sample_id": "tpi"
         },
         {
          "Branch": "ICD_ICL",
          "author": "ECC2",
          "error": 0.3039956479433047,
          "sample_id": "zwf"
         },
         {
          "Branch": "ICD_ICL",
          "author": "Exp_ECC2",
          "error": 0.08121894717107414,
          "sample_id": "zwf"
         },
         {
          "Branch": "ICD_ICL",
          "author": "Exp_iML1515",
          "error": 0.06844104222717187,
          "sample_id": "zwf"
         },
         {
          "Branch": "ICD_ICL",
          "author": "Khodayari",
          "error": 0.1950097575523105,
          "sample_id": "zwf"
         },
         {
          "Branch": "ICD_ICL",
          "author": "Kurata",
          "error": -0.572879842798912,
          "sample_id": "zwf"
         },
         {
          "Branch": "ICD_ICL",
          "author": "Millard",
          "error": 0.002214413110581126,
          "sample_id": "zwf"
         },
         {
          "Branch": "ICD_ICL",
          "author": "iML1515",
          "error": 0.3039956479433047,
          "sample_id": "zwf"
         }
        ]
       },
       "encoding": {
        "color": {
         "field": "author",
         "legend": null,
         "scale": {
          "domain": [
           "Khodayari",
           "Millard",
           "Kurata",
           "iML1515",
           "ECC2",
           "Exp_iML1515",
           "Exp_ECC2",
           "Ishii"
          ],
          "range": [
           "#1b9e77",
           "#d95f02",
           "#7570b3",
           "#e7298a",
           "#66a61e",
           "#e6ab02",
           "#a6761d",
           "#666666"
          ]
         },
         "type": "nominal"
        },
        "column": {
         "field": "author",
         "header": {
          "labelAlign": "right",
          "labelAngle": -90,
          "labelFontSize": 20,
          "labelOrient": "bottom",
          "labelPadding": 3,
          "title": "Branching errors (log error)",
          "titleOrient": "top"
         },
         "sort": [
          "Khodayari",
          "Millard",
          "Kurata",
          "iML1515",
          "ECC2",
          "Exp_iML1515",
          "Exp_ECC2",
          "Ishii"
         ],
         "type": "nominal"
        },
        "opacity": {
         "value": 1
        },
        "size": {
         "condition": {
          "selection": "selector015",
          "value": 150
         },
         "value": 60
        },
        "tooltip": [
         {
          "field": "author",
          "type": "nominal"
         },
         {
          "field": "sample_id",
          "type": "nominal"
         },
         {
          "field": "error",
          "type": "quantitative"
         },
         {
          "field": "Branch",
          "type": "nominal"
         }
        ],
        "x": {
         "field": "Branch",
         "scale": {},
         "sort": [
          "EMP_PPP",
          "PYK_PPC",
          "TCA_ACE",
          "ICD_ICL",
          "MDH_ME"
         ],
         "type": "nominal"
        },
        "y": {
         "field": "error",
         "title": "Branching error",
         "type": "quantitative"
        }
       },
       "height": 600,
       "mark": "circle",
       "selection": {
        "selector015": {
         "empty": "none",
         "fields": [
          "sample_id"
         ],
         "type": "single"
        }
       },
       "transform": [
        {
         "filter": "datum.normalized_error !== null"
        }
       ],
       "width": 100
      },
      "image/png": "[encoded data removed]",
      "text/plain": [
       "<VegaLite 3 object>\n",
       "\n",
       "If you see this message, it means the renderer has not been properly enabled\n",
       "for the frontend that you are using. For more information, see\n",
       "https://altair-viz.github.io/user_guide/troubleshooting.html\n"
      ]
     },
     "execution_count": 60,
     "metadata": {},
     "output_type": "execute_result"
    }
   ],
   "source": [
    "source = log_error_diff.to_dataframe().reset_index()\n",
    "\n",
    "author = \"Ishii\"\n",
    "source = source.query(f\"author != '{author}'\")\n",
    "\n",
    "selector = alt.selection_single(empty=\"none\", fields=[\"sample_id\"])\n",
    "opacity = alt.OpacityValue(1.0)\n",
    "\n",
    "size = alt.condition(selector, alt.SizeValue(150), alt.SizeValue(60))\n",
    "\n",
    "domain = [\"Khodayari\", \"Millard\", \"Kurata\", \"iML1515\", \"ECC2\", \"Exp_iML1515\", \"Exp_ECC2\", \"Ishii\"]\n",
    "range_ = [\"#1b9e77\", \"#d95f02\", \"#7570b3\", \"#e7298a\", \"#66a61e\", \"#e6ab02\", \"#a6761d\", \"#666666\"]\n",
    "    \n",
    "stripplot = (\n",
    "    alt.Chart(source, width=100, height=600)\n",
    "    .mark_circle()\n",
    "    .encode(\n",
    "        x=alt.X(\n",
    "            \"Branch:N\",\n",
    "            #title=None,\n",
    "            #axis=alt.Axis(values=[0], ticks=True, grid=False, labels=False),\n",
    "            scale=alt.Scale(),\n",
    "            sort = [\"EMP_PPP\", \"PYK_PPC\", \"TCA_ACE\", \"ICD_ICL\", \"MDH_ME\"]\n",
    "        ),\n",
    "        y=alt.Y(\"error:Q\", title=\"Branching error\"),\n",
    "        color=alt.Color(\"author:N\", legend=None, scale=alt.Scale(domain=domain, range=range_)),\n",
    "        column=alt.Column(\n",
    "            \"author:N\",\n",
    "            header=alt.Header(\n",
    "                labelAngle=-90,\n",
    "                titleOrient=\"top\",\n",
    "                labelOrient=\"bottom\",\n",
    "                labelAlign=\"right\",\n",
    "                labelPadding=3,\n",
    "                labelFontSize=20,\n",
    "                title=\"Branching errors (log error)\",\n",
    "            ),\n",
    "            sort=domain,\n",
    "        ),\n",
    "        size=size,\n",
    "        opacity=opacity,\n",
    "        tooltip=[\"author\", \"sample_id\", \"error\", \"Branch\"],\n",
    "    )\n",
    "    .configure_facet(spacing=5)\n",
    "    .configure_view(stroke=None)\n",
    "    .add_selection(selector)\n",
    "    .transform_filter(\"datum.normalized_error !== null\")\n",
    ")\n",
    "\n",
    "stripplot.configure_axis(labelFontSize=20, titleFontSize=20).configure_header(titleFontSize=24)"
   ]
  },
  {
   "cell_type": "code",
   "execution_count": 61,
   "metadata": {},
   "outputs": [
    {
     "data": {
      "application/vnd.vegalite.v3+json": {
       "$schema": "https://vega.github.io/schema/vega-lite/v3.2.1.json",
       "config": {
        "axis": {
         "labelFontSize": 20,
         "titleFontSize": 20
        },
        "facet": {
         "spacing": 5
        },
        "header": {
         "titleFontSize": 24
        },
        "mark": {
         "tooltip": null
        },
        "view": {
         "height": 300,
         "stroke": null,
         "width": 400
        }
       },
       "data": {
        "name": "data-fab33a0ebd27aa43049decde27d6f3f9"
       },
       "datasets": {
        "data-fab33a0ebd27aa43049decde27d6f3f9": [
         {
          "Branch": "EMP_PPP",
          "author": "ECC2",
          "error": 0.44864725457385235,
          "sample_id": "WT"
         },
         {
          "Branch": "EMP_PPP",
          "author": "Exp_ECC2",
          "error": 0.012173592256091825,
          "sample_id": "WT"
         },
         {
          "Branch": "EMP_PPP",
          "author": "Exp_iML1515",
          "error": 0.03287133083204585,
          "sample_id": "WT"
         },
         {
          "Branch": "EMP_PPP",
          "author": "Khodayari",
          "error": 0.020989371864845285,
          "sample_id": "WT"
         },
         {
          "Branch": "EMP_PPP",
          "author": "Kurata",
          "error": 0.3933370590445456,
          "sample_id": "WT"
         },
         {
          "Branch": "EMP_PPP",
          "author": "Millard",
          "error": 0.002321655403726419,
          "sample_id": "WT"
         },
         {
          "Branch": "EMP_PPP",
          "author": "iML1515",
          "error": 0.08877577120913605,
          "sample_id": "WT"
         },
         {
          "Branch": "EMP_PPP",
          "author": "ECC2",
          "error": null,
          "sample_id": "fbaA"
         },
         {
          "Branch": "EMP_PPP",
          "author": "Exp_ECC2",
          "error": null,
          "sample_id": "fbaA"
         },
         {
          "Branch": "EMP_PPP",
          "author": "Exp_iML1515",
          "error": null,
          "sample_id": "fbaA"
         },
         {
          "Branch": "EMP_PPP",
          "author": "Khodayari",
          "error": null,
          "sample_id": "fbaA"
         },
         {
          "Branch": "EMP_PPP",
          "author": "Kurata",
          "error": null,
          "sample_id": "fbaA"
         },
         {
          "Branch": "EMP_PPP",
          "author": "Millard",
          "error": null,
          "sample_id": "fbaA"
         },
         {
          "Branch": "EMP_PPP",
          "author": "iML1515",
          "error": null,
          "sample_id": "fbaA"
         },
         {
          "Branch": "EMP_PPP",
          "author": "ECC2",
          "error": 0.821959558788376,
          "sample_id": "fbaB"
         },
         {
          "Branch": "EMP_PPP",
          "author": "Exp_ECC2",
          "error": 0.7712403862741259,
          "sample_id": "fbaB"
         },
         {
          "Branch": "EMP_PPP",
          "author": "Exp_iML1515",
          "error": 0.12553682342502204,
          "sample_id": "fbaB"
         },
         {
          "Branch": "EMP_PPP",
          "author": "Khodayari",
          "error": 0.05188524680280959,
          "sample_id": "fbaB"
         },
         {
          "Branch": "EMP_PPP",
          "author": "Kurata",
          "error": 0.30068244816454925,
          "sample_id": "fbaB"
         },
         {
          "Branch": "EMP_PPP",
          "author": "Millard",
          "error": null,
          "sample_id": "fbaB"
         },
         {
          "Branch": "EMP_PPP",
          "author": "iML1515",
          "error": 0.0038897213838413602,
          "sample_id": "fbaB"
         },
         {
          "Branch": "EMP_PPP",
          "author": "ECC2",
          "error": 0.4696696613830618,
          "sample_id": "fbp"
         },
         {
          "Branch": "EMP_PPP",
          "author": "Exp_ECC2",
          "error": 0.008848814553121254,
          "sample_id": "fbp"
         },
         {
          "Branch": "EMP_PPP",
          "author": "Exp_iML1515",
          "error": 0.011848924022837104,
          "sample_id": "fbp"
         },
         {
          "Branch": "EMP_PPP",
          "author": "Khodayari",
          "error": 0.04144025457732492,
          "sample_id": "fbp"
         },
         {
          "Branch": "EMP_PPP",
          "author": "Kurata",
          "error": 0.4143546110230791,
          "sample_id": "fbp"
         },
         {
          "Branch": "EMP_PPP",
          "author": "Millard",
          "error": 0.023329070066037794,
          "sample_id": "fbp"
         },
         {
          "Branch": "EMP_PPP",
          "author": "iML1515",
          "error": 0.1097981780183449,
          "sample_id": "fbp"
         },
         {
          "Branch": "EMP_PPP",
          "author": "ECC2",
          "error": null,
          "sample_id": "glk"
         },
         {
          "Branch": "EMP_PPP",
          "author": "Exp_ECC2",
          "error": null,
          "sample_id": "glk"
         },
         {
          "Branch": "EMP_PPP",
          "author": "Exp_iML1515",
          "error": null,
          "sample_id": "glk"
         },
         {
          "Branch": "EMP_PPP",
          "author": "Khodayari",
          "error": null,
          "sample_id": "glk"
         },
         {
          "Branch": "EMP_PPP",
          "author": "Kurata",
          "error": null,
          "sample_id": "glk"
         },
         {
          "Branch": "EMP_PPP",
          "author": "Millard",
          "error": null,
          "sample_id": "glk"
         },
         {
          "Branch": "EMP_PPP",
          "author": "iML1515",
          "error": null,
          "sample_id": "glk"
         },
         {
          "Branch": "EMP_PPP",
          "author": "ECC2",
          "error": 0.4820316324608671,
          "sample_id": "gnd"
         },
         {
          "Branch": "EMP_PPP",
          "author": "Exp_ECC2",
          "error": 0.06388614437305862,
          "sample_id": "gnd"
         },
         {
          "Branch": "EMP_PPP",
          "author": "Exp_iML1515",
          "error": 0.04318840579710492,
          "sample_id": "gnd"
         },
         {
          "Branch": "EMP_PPP",
          "author": "Khodayari",
          "error": 0.46257026079389074,
          "sample_id": "gnd"
         },
         {
          "Branch": "EMP_PPP",
          "author": "Kurata",
          "error": 0.9798168260406154,
          "sample_id": "gnd"
         },
         {
          "Branch": "EMP_PPP",
          "author": "Millard",
          "error": 0.1597478059847337,
          "sample_id": "gnd"
         },
         {
          "Branch": "EMP_PPP",
          "author": "iML1515",
          "error": 0.09561275455967011,
          "sample_id": "gnd"
         },
         {
          "Branch": "EMP_PPP",
          "author": "ECC2",
          "error": 0.9240931558644915,
          "sample_id": "gpmA"
         },
         {
          "Branch": "EMP_PPP",
          "author": "Exp_ECC2",
          "error": 0.8665770804054587,
          "sample_id": "gpmA"
         },
         {
          "Branch": "EMP_PPP",
          "author": "Exp_iML1515",
          "error": 0.010785205763417793,
          "sample_id": "gpmA"
         },
         {
          "Branch": "EMP_PPP",
          "author": "Khodayari",
          "error": null,
          "sample_id": "gpmA"
         },
         {
          "Branch": "EMP_PPP",
          "author": "Kurata",
          "error": null,
          "sample_id": "gpmA"
         },
         {
          "Branch": "EMP_PPP",
          "author": "Millard",
          "error": null,
          "sample_id": "gpmA"
         },
         {
          "Branch": "EMP_PPP",
          "author": "iML1515",
          "error": 0.14273168391820745,
          "sample_id": "gpmA"
         },
         {
          "Branch": "EMP_PPP",
          "author": "ECC2",
          "error": null,
          "sample_id": "gpmB"
         },
         {
          "Branch": "EMP_PPP",
          "author": "Exp_ECC2",
          "error": null,
          "sample_id": "gpmB"
         },
         {
          "Branch": "EMP_PPP",
          "author": "Exp_iML1515",
          "error": null,
          "sample_id": "gpmB"
         },
         {
          "Branch": "EMP_PPP",
          "author": "Khodayari",
          "error": null,
          "sample_id": "gpmB"
         },
         {
          "Branch": "EMP_PPP",
          "author": "Kurata",
          "error": null,
          "sample_id": "gpmB"
         },
         {
          "Branch": "EMP_PPP",
          "author": "Millard",
          "error": null,
          "sample_id": "gpmB"
         },
         {
          "Branch": "EMP_PPP",
          "author": "iML1515",
          "error": null,
          "sample_id": "gpmB"
         },
         {
          "Branch": "EMP_PPP",
          "author": "ECC2",
          "error": 0.9342044567475596,
          "sample_id": "pfkA"
         },
         {
          "Branch": "EMP_PPP",
          "author": "Exp_ECC2",
          "error": 0.8834852842333095,
          "sample_id": "pfkA"
         },
         {
          "Branch": "EMP_PPP",
          "author": "Exp_iML1515",
          "error": 0.013291925465838017,
          "sample_id": "pfkA"
         },
         {
          "Branch": "EMP_PPP",
          "author": "Khodayari",
          "error": 0.032386165435498104,
          "sample_id": "pfkA"
         },
         {
          "Branch": "EMP_PPP",
          "author": "Kurata",
          "error": 0.41888173883339325,
          "sample_id": "pfkA"
         },
         {
          "Branch": "EMP_PPP",
          "author": "Millard",
          "error": null,
          "sample_id": "pfkA"
         },
         {
          "Branch": "EMP_PPP",
          "author": "iML1515",
          "error": 0.1083551765753481,
          "sample_id": "pfkA"
         },
         {
          "Branch": "EMP_PPP",
          "author": "ECC2",
          "error": 0.6023141248572278,
          "sample_id": "pfkB"
         },
         {
          "Branch": "EMP_PPP",
          "author": "Exp_ECC2",
          "error": 0.5515949523429777,
          "sample_id": "pfkB"
         },
         {
          "Branch": "EMP_PPP",
          "author": "Exp_iML1515",
          "error": 0.3451822573561698,
          "sample_id": "pfkB"
         },
         {
          "Branch": "EMP_PPP",
          "author": "Khodayari",
          "error": 0.2995041664548337,
          "sample_id": "pfkB"
         },
         {
          "Branch": "EMP_PPP",
          "author": "Kurata",
          "error": 0.08699140694306146,
          "sample_id": "pfkB"
         },
         {
          "Branch": "EMP_PPP",
          "author": "Millard",
          "error": null,
          "sample_id": "pfkB"
         },
         {
          "Branch": "EMP_PPP",
          "author": "iML1515",
          "error": 0.2235351553149837,
          "sample_id": "pfkB"
         },
         {
          "Branch": "EMP_PPP",
          "author": "ECC2",
          "error": 0,
          "sample_id": "pgi"
         },
         {
          "Branch": "EMP_PPP",
          "author": "Exp_ECC2",
          "error": 0,
          "sample_id": "pgi"
         },
         {
          "Branch": "EMP_PPP",
          "author": "Exp_iML1515",
          "error": 0,
          "sample_id": "pgi"
         },
         {
          "Branch": "EMP_PPP",
          "author": "Khodayari",
          "error": 0,
          "sample_id": "pgi"
         },
         {
          "Branch": "EMP_PPP",
          "author": "Kurata",
          "error": 0,
          "sample_id": "pgi"
         },
         {
          "Branch": "EMP_PPP",
          "author": "Millard",
          "error": 0,
          "sample_id": "pgi"
         },
         {
          "Branch": "EMP_PPP",
          "author": "iML1515",
          "error": 0,
          "sample_id": "pgi"
         },
         {
          "Branch": "EMP_PPP",
          "author": "ECC2",
          "error": 0.20408163265306123,
          "sample_id": "pgl"
         },
         {
          "Branch": "EMP_PPP",
          "author": "Exp_ECC2",
          "error": 0.20408163265306123,
          "sample_id": "pgl"
         },
         {
          "Branch": "EMP_PPP",
          "author": "Exp_iML1515",
          "error": 0.20408163265306123,
          "sample_id": "pgl"
         },
         {
          "Branch": "EMP_PPP",
          "author": "Khodayari",
          "error": 8.257334263905847e-05,
          "sample_id": "pgl"
         },
         {
          "Branch": "EMP_PPP",
          "author": "Kurata",
          "error": null,
          "sample_id": "pgl"
         },
         {
          "Branch": "EMP_PPP",
          "author": "Millard",
          "error": 0.20041972168133282,
          "sample_id": "pgl"
         },
         {
          "Branch": "EMP_PPP",
          "author": "iML1515",
          "error": 0.20408163265306123,
          "sample_id": "pgl"
         },
         {
          "Branch": "EMP_PPP",
          "author": "ECC2",
          "error": null,
          "sample_id": "pgm"
         },
         {
          "Branch": "EMP_PPP",
          "author": "Exp_ECC2",
          "error": null,
          "sample_id": "pgm"
         },
         {
          "Branch": "EMP_PPP",
          "author": "Exp_iML1515",
          "error": null,
          "sample_id": "pgm"
         },
         {
          "Branch": "EMP_PPP",
          "author": "Khodayari",
          "error": null,
          "sample_id": "pgm"
         },
         {
          "Branch": "EMP_PPP",
          "author": "Kurata",
          "error": null,
          "sample_id": "pgm"
         },
         {
          "Branch": "EMP_PPP",
          "author": "Millard",
          "error": null,
          "sample_id": "pgm"
         },
         {
          "Branch": "EMP_PPP",
          "author": "iML1515",
          "error": null,
          "sample_id": "pgm"
         },
         {
          "Branch": "EMP_PPP",
          "author": "ECC2",
          "error": null,
          "sample_id": "ppc"
         },
         {
          "Branch": "EMP_PPP",
          "author": "Exp_ECC2",
          "error": null,
          "sample_id": "ppc"
         },
         {
          "Branch": "EMP_PPP",
          "author": "Exp_iML1515",
          "error": null,
          "sample_id": "ppc"
         },
         {
          "Branch": "EMP_PPP",
          "author": "Khodayari",
          "error": null,
          "sample_id": "ppc"
         },
         {
          "Branch": "EMP_PPP",
          "author": "Kurata",
          "error": null,
          "sample_id": "ppc"
         },
         {
          "Branch": "EMP_PPP",
          "author": "Millard",
          "error": null,
          "sample_id": "ppc"
         },
         {
          "Branch": "EMP_PPP",
          "author": "iML1515",
          "error": null,
          "sample_id": "ppc"
         },
         {
          "Branch": "EMP_PPP",
          "author": "ECC2",
          "error": 0.297952489665889,
          "sample_id": "ppsA"
         },
         {
          "Branch": "EMP_PPP",
          "author": "Exp_ECC2",
          "error": 0.16286835716405168,
          "sample_id": "ppsA"
         },
         {
          "Branch": "EMP_PPP",
          "author": "Exp_iML1515",
          "error": 0.18356609574000882,
          "sample_id": "ppsA"
         },
         {
          "Branch": "EMP_PPP",
          "author": "Khodayari",
          "error": 0.1210657919742284,
          "sample_id": "ppsA"
         },
         {
          "Branch": "EMP_PPP",
          "author": "Kurata",
          "error": 0.06090679770355922,
          "sample_id": "ppsA"
         },
         {
          "Branch": "EMP_PPP",
          "author": "Millard",
          "error": 0.1483763947245793,
          "sample_id": "ppsA"
         },
         {
          "Branch": "EMP_PPP",
          "author": "iML1515",
          "error": 0.06191899369882681,
          "sample_id": "ppsA"
         },
         {
          "Branch": "EMP_PPP",
          "author": "ECC2",
          "error": null,
          "sample_id": "pts"
         },
         {
          "Branch": "EMP_PPP",
          "author": "Exp_ECC2",
          "error": null,
          "sample_id": "pts"
         },
         {
          "Branch": "EMP_PPP",
          "author": "Exp_iML1515",
          "error": null,
          "sample_id": "pts"
         },
         {
          "Branch": "EMP_PPP",
          "author": "Khodayari",
          "error": null,
          "sample_id": "pts"
         },
         {
          "Branch": "EMP_PPP",
          "author": "Kurata",
          "error": null,
          "sample_id": "pts"
         },
         {
          "Branch": "EMP_PPP",
          "author": "Millard",
          "error": null,
          "sample_id": "pts"
         },
         {
          "Branch": "EMP_PPP",
          "author": "iML1515",
          "error": null,
          "sample_id": "pts"
         },
         {
          "Branch": "EMP_PPP",
          "author": "ECC2",
          "error": 0.36618584361352974,
          "sample_id": "pykA"
         },
         {
          "Branch": "EMP_PPP",
          "author": "Exp_ECC2",
          "error": 0.09421080057946818,
          "sample_id": "pykA"
         },
         {
          "Branch": "EMP_PPP",
          "author": "Exp_iML1515",
          "error": 0.11533274179236819,
          "sample_id": "pykA"
         },
         {
          "Branch": "EMP_PPP",
          "author": "Khodayari",
          "error": 0.03186671021629206,
          "sample_id": "pykA"
         },
         {
          "Branch": "EMP_PPP",
          "author": "Kurata",
          "error": 0.3102188143508662,
          "sample_id": "pykA"
         },
         {
          "Branch": "EMP_PPP",
          "author": "Millard",
          "error": 0.09962176837692815,
          "sample_id": "pykA"
         },
         {
          "Branch": "EMP_PPP",
          "author": "iML1515",
          "error": 0.0063143602488128225,
          "sample_id": "pykA"
         },
         {
          "Branch": "EMP_PPP",
          "author": "ECC2",
          "error": 0.08583127754467801,
          "sample_id": "pykF"
         },
         {
          "Branch": "EMP_PPP",
          "author": "Exp_ECC2",
          "error": 0.3745653666483199,
          "sample_id": "pykF"
         },
         {
          "Branch": "EMP_PPP",
          "author": "Exp_iML1515",
          "error": 0.3956873078612199,
          "sample_id": "pykF"
         },
         {
          "Branch": "EMP_PPP",
          "author": "Khodayari",
          "error": 0.29965589394982534,
          "sample_id": "pykF"
         },
         {
          "Branch": "EMP_PPP",
          "author": "Kurata",
          "error": 0.02986424828201445,
          "sample_id": "pykF"
         },
         {
          "Branch": "EMP_PPP",
          "author": "Millard",
          "error": 0.18073279769192357,
          "sample_id": "pykF"
         },
         {
          "Branch": "EMP_PPP",
          "author": "iML1515",
          "error": 0.2740402058200389,
          "sample_id": "pykF"
         },
         {
          "Branch": "EMP_PPP",
          "author": "ECC2",
          "error": 0.4597954970809607,
          "sample_id": "rpe"
         },
         {
          "Branch": "EMP_PPP",
          "author": "Exp_ECC2",
          "error": 0.048435755456899154,
          "sample_id": "rpe"
         },
         {
          "Branch": "EMP_PPP",
          "author": "Exp_iML1515",
          "error": 0.02589331818182461,
          "sample_id": "rpe"
         },
         {
          "Branch": "EMP_PPP",
          "author": "Khodayari",
          "error": 0.13263935677228011,
          "sample_id": "rpe"
         },
         {
          "Branch": "EMP_PPP",
          "author": "Kurata",
          "error": null,
          "sample_id": "rpe"
         },
         {
          "Branch": "EMP_PPP",
          "author": "Millard",
          "error": 0.09319431914676624,
          "sample_id": "rpe"
         },
         {
          "Branch": "EMP_PPP",
          "author": "iML1515",
          "error": 0.07258937125422948,
          "sample_id": "rpe"
         },
         {
          "Branch": "EMP_PPP",
          "author": "ECC2",
          "error": null,
          "sample_id": "rpiA"
         },
         {
          "Branch": "EMP_PPP",
          "author": "Exp_ECC2",
          "error": null,
          "sample_id": "rpiA"
         },
         {
          "Branch": "EMP_PPP",
          "author": "Exp_iML1515",
          "error": 0.009205240905847734,
          "sample_id": "rpiA"
         },
         {
          "Branch": "EMP_PPP",
          "author": "Khodayari",
          "error": 0.024601138703367775,
          "sample_id": "rpiA"
         },
         {
          "Branch": "EMP_PPP",
          "author": "Kurata",
          "error": 0.2396101777894032,
          "sample_id": "rpiA"
         },
         {
          "Branch": "EMP_PPP",
          "author": "Millard",
          "error": 0.10859242999996499,
          "sample_id": "rpiA"
         },
         {
          "Branch": "EMP_PPP",
          "author": "iML1515",
          "error": 0.01530284763608547,
          "sample_id": "rpiA"
         },
         {
          "Branch": "EMP_PPP",
          "author": "ECC2",
          "error": null,
          "sample_id": "rpiB"
         },
         {
          "Branch": "EMP_PPP",
          "author": "Exp_ECC2",
          "error": null,
          "sample_id": "rpiB"
         },
         {
          "Branch": "EMP_PPP",
          "author": "Exp_iML1515",
          "error": 0.1593167133303922,
          "sample_id": "rpiB"
         },
         {
          "Branch": "EMP_PPP",
          "author": "Khodayari",
          "error": 0.14392081553287217,
          "sample_id": "rpiB"
         },
         {
          "Branch": "EMP_PPP",
          "author": "Kurata",
          "error": 0.07108822355316324,
          "sample_id": "rpiB"
         },
         {
          "Branch": "EMP_PPP",
          "author": "Millard",
          "error": 0.27711438423620494,
          "sample_id": "rpiB"
         },
         {
          "Branch": "EMP_PPP",
          "author": "iML1515",
          "error": 0.15321910660015448,
          "sample_id": "rpiB"
         },
         {
          "Branch": "EMP_PPP",
          "author": "ECC2",
          "error": null,
          "sample_id": "sdhCD"
         },
         {
          "Branch": "EMP_PPP",
          "author": "Exp_ECC2",
          "error": null,
          "sample_id": "sdhCD"
         },
         {
          "Branch": "EMP_PPP",
          "author": "Exp_iML1515",
          "error": null,
          "sample_id": "sdhCD"
         },
         {
          "Branch": "EMP_PPP",
          "author": "Khodayari",
          "error": null,
          "sample_id": "sdhCD"
         },
         {
          "Branch": "EMP_PPP",
          "author": "Kurata",
          "error": null,
          "sample_id": "sdhCD"
         },
         {
          "Branch": "EMP_PPP",
          "author": "Millard",
          "error": null,
          "sample_id": "sdhCD"
         },
         {
          "Branch": "EMP_PPP",
          "author": "iML1515",
          "error": null,
          "sample_id": "sdhCD"
         },
         {
          "Branch": "EMP_PPP",
          "author": "ECC2",
          "error": null,
          "sample_id": "sucA"
         },
         {
          "Branch": "EMP_PPP",
          "author": "Exp_ECC2",
          "error": null,
          "sample_id": "sucA"
         },
         {
          "Branch": "EMP_PPP",
          "author": "Exp_iML1515",
          "error": null,
          "sample_id": "sucA"
         },
         {
          "Branch": "EMP_PPP",
          "author": "Khodayari",
          "error": null,
          "sample_id": "sucA"
         },
         {
          "Branch": "EMP_PPP",
          "author": "Kurata",
          "error": null,
          "sample_id": "sucA"
         },
         {
          "Branch": "EMP_PPP",
          "author": "Millard",
          "error": null,
          "sample_id": "sucA"
         },
         {
          "Branch": "EMP_PPP",
          "author": "iML1515",
          "error": null,
          "sample_id": "sucA"
         },
         {
          "Branch": "EMP_PPP",
          "author": "ECC2",
          "error": null,
          "sample_id": "sucAB"
         },
         {
          "Branch": "EMP_PPP",
          "author": "Exp_ECC2",
          "error": null,
          "sample_id": "sucAB"
         },
         {
          "Branch": "EMP_PPP",
          "author": "Exp_iML1515",
          "error": null,
          "sample_id": "sucAB"
         },
         {
          "Branch": "EMP_PPP",
          "author": "Khodayari",
          "error": null,
          "sample_id": "sucAB"
         },
         {
          "Branch": "EMP_PPP",
          "author": "Kurata",
          "error": null,
          "sample_id": "sucAB"
         },
         {
          "Branch": "EMP_PPP",
          "author": "Millard",
          "error": null,
          "sample_id": "sucAB"
         },
         {
          "Branch": "EMP_PPP",
          "author": "iML1515",
          "error": null,
          "sample_id": "sucAB"
         },
         {
          "Branch": "EMP_PPP",
          "author": "ECC2",
          "error": 0.37401538937193796,
          "sample_id": "talA"
         },
         {
          "Branch": "EMP_PPP",
          "author": "Exp_ECC2",
          "error": 0.04065434524511824,
          "sample_id": "talA"
         },
         {
          "Branch": "EMP_PPP",
          "author": "Exp_iML1515",
          "error": 0.0030878438331851665,
          "sample_id": "talA"
         },
         {
          "Branch": "EMP_PPP",
          "author": "Khodayari",
          "error": 0.06676157702948671,
          "sample_id": "talA"
         },
         {
          "Branch": "EMP_PPP",
          "author": "Kurata",
          "error": 0.422891064090334,
          "sample_id": "talA"
         },
         {
          "Branch": "EMP_PPP",
          "author": "Millard",
          "error": null,
          "sample_id": "talA"
         },
         {
          "Branch": "EMP_PPP",
          "author": "iML1515",
          "error": 0.1185592582079974,
          "sample_id": "talA"
         },
         {
          "Branch": "EMP_PPP",
          "author": "ECC2",
          "error": null,
          "sample_id": "talAB"
         },
         {
          "Branch": "EMP_PPP",
          "author": "Exp_ECC2",
          "error": null,
          "sample_id": "talAB"
         },
         {
          "Branch": "EMP_PPP",
          "author": "Exp_iML1515",
          "error": null,
          "sample_id": "talAB"
         },
         {
          "Branch": "EMP_PPP",
          "author": "Khodayari",
          "error": null,
          "sample_id": "talAB"
         },
         {
          "Branch": "EMP_PPP",
          "author": "Kurata",
          "error": null,
          "sample_id": "talAB"
         },
         {
          "Branch": "EMP_PPP",
          "author": "Millard",
          "error": null,
          "sample_id": "talAB"
         },
         {
          "Branch": "EMP_PPP",
          "author": "iML1515",
          "error": null,
          "sample_id": "talAB"
         },
         {
          "Branch": "EMP_PPP",
          "author": "ECC2",
          "error": null,
          "sample_id": "talB"
         },
         {
          "Branch": "EMP_PPP",
          "author": "Exp_ECC2",
          "error": null,
          "sample_id": "talB"
         },
         {
          "Branch": "EMP_PPP",
          "author": "Exp_iML1515",
          "error": null,
          "sample_id": "talB"
         },
         {
          "Branch": "EMP_PPP",
          "author": "Khodayari",
          "error": null,
          "sample_id": "talB"
         },
         {
          "Branch": "EMP_PPP",
          "author": "Kurata",
          "error": 0.42423099400169256,
          "sample_id": "talB"
         },
         {
          "Branch": "EMP_PPP",
          "author": "Millard",
          "error": null,
          "sample_id": "talB"
         },
         {
          "Branch": "EMP_PPP",
          "author": "iML1515",
          "error": null,
          "sample_id": "talB"
         },
         {
          "Branch": "EMP_PPP",
          "author": "ECC2",
          "error": 0.29454723847521563,
          "sample_id": "tktA"
         },
         {
          "Branch": "EMP_PPP",
          "author": "Exp_ECC2",
          "error": 0.12012249614184056,
          "sample_id": "tktA"
         },
         {
          "Branch": "EMP_PPP",
          "author": "Exp_iML1515",
          "error": 0.14177262758014308,
          "sample_id": "tktA"
         },
         {
          "Branch": "EMP_PPP",
          "author": "Khodayari",
          "error": 0.009931967439015033,
          "sample_id": "tktA"
         },
         {
          "Branch": "EMP_PPP",
          "author": "Kurata",
          "error": 0.3412246678050353,
          "sample_id": "tktA"
         },
         {
          "Branch": "EMP_PPP",
          "author": "Millard",
          "error": 0.03578766910217979,
          "sample_id": "tktA"
         },
         {
          "Branch": "EMP_PPP",
          "author": "iML1515",
          "error": 0.0922838894850515,
          "sample_id": "tktA"
         },
         {
          "Branch": "EMP_PPP",
          "author": "ECC2",
          "error": 0.3753553192832965,
          "sample_id": "tktB"
         },
         {
          "Branch": "EMP_PPP",
          "author": "Exp_ECC2",
          "error": 0.03931441533375968,
          "sample_id": "tktB"
         },
         {
          "Branch": "EMP_PPP",
          "author": "Exp_iML1515",
          "error": 0.0609645467720622,
          "sample_id": "tktB"
         },
         {
          "Branch": "EMP_PPP",
          "author": "Khodayari",
          "error": 0.07087611336906585,
          "sample_id": "tktB"
         },
         {
          "Branch": "EMP_PPP",
          "author": "Kurata",
          "error": 0.4220327486131162,
          "sample_id": "tktB"
         },
         {
          "Branch": "EMP_PPP",
          "author": "Millard",
          "error": null,
          "sample_id": "tktB"
         },
         {
          "Branch": "EMP_PPP",
          "author": "iML1515",
          "error": 0.011475808676970622,
          "sample_id": "tktB"
         },
         {
          "Branch": "EMP_PPP",
          "author": "ECC2",
          "error": null,
          "sample_id": "tpi"
         },
         {
          "Branch": "EMP_PPP",
          "author": "Exp_ECC2",
          "error": null,
          "sample_id": "tpi"
         },
         {
          "Branch": "EMP_PPP",
          "author": "Exp_iML1515",
          "error": null,
          "sample_id": "tpi"
         },
         {
          "Branch": "EMP_PPP",
          "author": "Khodayari",
          "error": null,
          "sample_id": "tpi"
         },
         {
          "Branch": "EMP_PPP",
          "author": "Kurata",
          "error": null,
          "sample_id": "tpi"
         },
         {
          "Branch": "EMP_PPP",
          "author": "Millard",
          "error": null,
          "sample_id": "tpi"
         },
         {
          "Branch": "EMP_PPP",
          "author": "iML1515",
          "error": null,
          "sample_id": "tpi"
         },
         {
          "Branch": "EMP_PPP",
          "author": "ECC2",
          "error": 0,
          "sample_id": "zwf"
         },
         {
          "Branch": "EMP_PPP",
          "author": "Exp_ECC2",
          "error": 0,
          "sample_id": "zwf"
         },
         {
          "Branch": "EMP_PPP",
          "author": "Exp_iML1515",
          "error": 0,
          "sample_id": "zwf"
         },
         {
          "Branch": "EMP_PPP",
          "author": "Khodayari",
          "error": 0,
          "sample_id": "zwf"
         },
         {
          "Branch": "EMP_PPP",
          "author": "Kurata",
          "error": 0,
          "sample_id": "zwf"
         },
         {
          "Branch": "EMP_PPP",
          "author": "Millard",
          "error": 0,
          "sample_id": "zwf"
         },
         {
          "Branch": "EMP_PPP",
          "author": "iML1515",
          "error": 0,
          "sample_id": "zwf"
         },
         {
          "Branch": "PYK_PPC",
          "author": "ECC2",
          "error": 0.7899159663865546,
          "sample_id": "WT"
         },
         {
          "Branch": "PYK_PPC",
          "author": "Exp_ECC2",
          "error": 0.01728768281188464,
          "sample_id": "WT"
         },
         {
          "Branch": "PYK_PPC",
          "author": "Exp_iML1515",
          "error": 0.051638902713274204,
          "sample_id": "WT"
         },
         {
          "Branch": "PYK_PPC",
          "author": "Khodayari",
          "error": 0.15700134196789495,
          "sample_id": "WT"
         },
         {
          "Branch": "PYK_PPC",
          "author": "Kurata",
          "error": 0.6504220234256912,
          "sample_id": "WT"
         },
         {
          "Branch": "PYK_PPC",
          "author": "Millard",
          "error": 0.1347661274862494,
          "sample_id": "WT"
         },
         {
          "Branch": "PYK_PPC",
          "author": "iML1515",
          "error": 0.7899159663865546,
          "sample_id": "WT"
         },
         {
          "Branch": "PYK_PPC",
          "author": "ECC2",
          "error": null,
          "sample_id": "fbaA"
         },
         {
          "Branch": "PYK_PPC",
          "author": "Exp_ECC2",
          "error": null,
          "sample_id": "fbaA"
         },
         {
          "Branch": "PYK_PPC",
          "author": "Exp_iML1515",
          "error": null,
          "sample_id": "fbaA"
         },
         {
          "Branch": "PYK_PPC",
          "author": "Khodayari",
          "error": null,
          "sample_id": "fbaA"
         },
         {
          "Branch": "PYK_PPC",
          "author": "Kurata",
          "error": null,
          "sample_id": "fbaA"
         },
         {
          "Branch": "PYK_PPC",
          "author": "Millard",
          "error": null,
          "sample_id": "fbaA"
         },
         {
          "Branch": "PYK_PPC",
          "author": "iML1515",
          "error": null,
          "sample_id": "fbaA"
         },
         {
          "Branch": "PYK_PPC",
          "author": "ECC2",
          "error": 0.8181818181818182,
          "sample_id": "fbaB"
         },
         {
          "Branch": "PYK_PPC",
          "author": "Exp_ECC2",
          "error": 0.8181818181818182,
          "sample_id": "fbaB"
         },
         {
          "Branch": "PYK_PPC",
          "author": "Exp_iML1515",
          "error": 0.8181818181818182,
          "sample_id": "fbaB"
         },
         {
          "Branch": "PYK_PPC",
          "author": "Khodayari",
          "error": 0.13245976180194552,
          "sample_id": "fbaB"
         },
         {
          "Branch": "PYK_PPC",
          "author": "Kurata",
          "error": 0.6786906481777104,
          "sample_id": "fbaB"
         },
         {
          "Branch": "PYK_PPC",
          "author": "Millard",
          "error": null,
          "sample_id": "fbaB"
         },
         {
          "Branch": "PYK_PPC",
          "author": "iML1515",
          "error": 0.8181818181818182,
          "sample_id": "fbaB"
         },
         {
          "Branch": "PYK_PPC",
          "author": "ECC2",
          "error": 0.9827586206896551,
          "sample_id": "fbp"
         },
         {
          "Branch": "PYK_PPC",
          "author": "Exp_ECC2",
          "error": 0.21013033711498452,
          "sample_id": "fbp"
         },
         {
          "Branch": "PYK_PPC",
          "author": "Exp_iML1515",
          "error": 0.3038190480687214,
          "sample_id": "fbp"
         },
         {
          "Branch": "PYK_PPC",
          "author": "Khodayari",
          "error": 0.3481420417133929,
          "sample_id": "fbp"
         },
         {
          "Branch": "PYK_PPC",
          "author": "Kurata",
          "error": 0.8432745905371596,
          "sample_id": "fbp"
         },
         {
          "Branch": "PYK_PPC",
          "author": "Millard",
          "error": 0.3276376756558176,
          "sample_id": "fbp"
         },
         {
          "Branch": "PYK_PPC",
          "author": "iML1515",
          "error": 0.9827586206896551,
          "sample_id": "fbp"
         },
         {
          "Branch": "PYK_PPC",
          "author": "ECC2",
          "error": null,
          "sample_id": "glk"
         },
         {
          "Branch": "PYK_PPC",
          "author": "Exp_ECC2",
          "error": null,
          "sample_id": "glk"
         },
         {
          "Branch": "PYK_PPC",
          "author": "Exp_iML1515",
          "error": null,
          "sample_id": "glk"
         },
         {
          "Branch": "PYK_PPC",
          "author": "Khodayari",
          "error": null,
          "sample_id": "glk"
         },
         {
          "Branch": "PYK_PPC",
          "author": "Kurata",
          "error": null,
          "sample_id": "glk"
         },
         {
          "Branch": "PYK_PPC",
          "author": "Millard",
          "error": null,
          "sample_id": "glk"
         },
         {
          "Branch": "PYK_PPC",
          "author": "iML1515",
          "error": null,
          "sample_id": "glk"
         },
         {
          "Branch": "PYK_PPC",
          "author": "ECC2",
          "error": 0.9571428571428572,
          "sample_id": "gnd"
         },
         {
          "Branch": "PYK_PPC",
          "author": "Exp_ECC2",
          "error": 0.18451457356819168,
          "sample_id": "gnd"
         },
         {
          "Branch": "PYK_PPC",
          "author": "Exp_iML1515",
          "error": 0.255386517538596,
          "sample_id": "gnd"
         },
         {
          "Branch": "PYK_PPC",
          "author": "Khodayari",
          "error": null,
          "sample_id": "gnd"
         },
         {
          "Branch": "PYK_PPC",
          "author": "Kurata",
          "error": null,
          "sample_id": "gnd"
         },
         {
          "Branch": "PYK_PPC",
          "author": "Millard",
          "error": 0.3558561260667661,
          "sample_id": "gnd"
         },
         {
          "Branch": "PYK_PPC",
          "author": "iML1515",
          "error": 0.9571428571428572,
          "sample_id": "gnd"
         },
         {
          "Branch": "PYK_PPC",
          "author": "ECC2",
          "error": null,
          "sample_id": "gpmA"
         },
         {
          "Branch": "PYK_PPC",
          "author": "Exp_ECC2",
          "error": 0.7192982456140351,
          "sample_id": "gpmA"
         },
         {
          "Branch": "PYK_PPC",
          "author": "Exp_iML1515",
          "error": 0.14789577194327652,
          "sample_id": "gpmA"
         },
         {
          "Branch": "PYK_PPC",
          "author": "Khodayari",
          "error": null,
          "sample_id": "gpmA"
         },
         {
          "Branch": "PYK_PPC",
          "author": "Kurata",
          "error": null,
          "sample_id": "gpmA"
         },
         {
          "Branch": "PYK_PPC",
          "author": "Millard",
          "error": null,
          "sample_id": "gpmA"
         },
         {
          "Branch": "PYK_PPC",
          "author": "iML1515",
          "error": 0.7192982456140351,
          "sample_id": "gpmA"
         },
         {
          "Branch": "PYK_PPC",
          "author": "ECC2",
          "error": null,
          "sample_id": "gpmB"
         },
         {
          "Branch": "PYK_PPC",
          "author": "Exp_ECC2",
          "error": null,
          "sample_id": "gpmB"
         },
         {
          "Branch": "PYK_PPC",
          "author": "Exp_iML1515",
          "error": null,
          "sample_id": "gpmB"
         },
         {
          "Branch": "PYK_PPC",
          "author": "Khodayari",
          "error": null,
          "sample_id": "gpmB"
         },
         {
          "Branch": "PYK_PPC",
          "author": "Kurata",
          "error": null,
          "sample_id": "gpmB"
         },
         {
          "Branch": "PYK_PPC",
          "author": "Millard",
          "error": null,
          "sample_id": "gpmB"
         },
         {
          "Branch": "PYK_PPC",
          "author": "iML1515",
          "error": null,
          "sample_id": "gpmB"
         },
         {
          "Branch": "PYK_PPC",
          "author": "ECC2",
          "error": 0.7413793103448276,
          "sample_id": "pfkA"
         },
         {
          "Branch": "PYK_PPC",
          "author": "Exp_ECC2",
          "error": 0.7413793103448276,
          "sample_id": "pfkA"
         },
         {
          "Branch": "PYK_PPC",
          "author": "Exp_iML1515",
          "error": 0.062439737723894884,
          "sample_id": "pfkA"
         },
         {
          "Branch": "PYK_PPC",
          "author": "Khodayari",
          "error": 0.03571326564394195,
          "sample_id": "pfkA"
         },
         {
          "Branch": "PYK_PPC",
          "author": "Kurata",
          "error": 0.53787802063697,
          "sample_id": "pfkA"
         },
         {
          "Branch": "PYK_PPC",
          "author": "Millard",
          "error": null,
          "sample_id": "pfkA"
         },
         {
          "Branch": "PYK_PPC",
          "author": "iML1515",
          "error": 0.7413793103448276,
          "sample_id": "pfkA"
         },
         {
          "Branch": "PYK_PPC",
          "author": "ECC2",
          "error": 1,
          "sample_id": "pfkB"
         },
         {
          "Branch": "PYK_PPC",
          "author": "Exp_ECC2",
          "error": 1,
          "sample_id": "pfkB"
         },
         {
          "Branch": "PYK_PPC",
          "author": "Exp_iML1515",
          "error": 0.32106042737906726,
          "sample_id": "pfkB"
         },
         {
          "Branch": "PYK_PPC",
          "author": "Khodayari",
          "error": 0.2943339552991143,
          "sample_id": "pfkB"
         },
         {
          "Branch": "PYK_PPC",
          "author": "Kurata",
          "error": 0.7964987102921424,
          "sample_id": "pfkB"
         },
         {
          "Branch": "PYK_PPC",
          "author": "Millard",
          "error": null,
          "sample_id": "pfkB"
         },
         {
          "Branch": "PYK_PPC",
          "author": "iML1515",
          "error": 1,
          "sample_id": "pfkB"
         },
         {
          "Branch": "PYK_PPC",
          "author": "ECC2",
          "error": 1,
          "sample_id": "pgi"
         },
         {
          "Branch": "PYK_PPC",
          "author": "Exp_ECC2",
          "error": 0.3727559873940748,
          "sample_id": "pgi"
         },
         {
          "Branch": "PYK_PPC",
          "author": "Exp_iML1515",
          "error": 0.13626337856613835,
          "sample_id": "pgi"
         },
         {
          "Branch": "PYK_PPC",
          "author": "Khodayari",
          "error": 0.03498627450855141,
          "sample_id": "pgi"
         },
         {
          "Branch": "PYK_PPC",
          "author": "Kurata",
          "error": 0.8489732624007245,
          "sample_id": "pgi"
         },
         {
          "Branch": "PYK_PPC",
          "author": "Millard",
          "error": 0.10478714015293034,
          "sample_id": "pgi"
         },
         {
          "Branch": "PYK_PPC",
          "author": "iML1515",
          "error": 0.2196994513342979,
          "sample_id": "pgi"
         },
         {
          "Branch": "PYK_PPC",
          "author": "ECC2",
          "error": 0.3005441395443529,
          "sample_id": "pgl"
         },
         {
          "Branch": "PYK_PPC",
          "author": "Exp_ECC2",
          "error": 0.12325405015359892,
          "sample_id": "pgl"
         },
         {
          "Branch": "PYK_PPC",
          "author": "Exp_iML1515",
          "error": 0.14634049073753208,
          "sample_id": "pgl"
         },
         {
          "Branch": "PYK_PPC",
          "author": "Khodayari",
          "error": 0.19113221294434157,
          "sample_id": "pgl"
         },
         {
          "Branch": "PYK_PPC",
          "author": "Kurata",
          "error": null,
          "sample_id": "pgl"
         },
         {
          "Branch": "PYK_PPC",
          "author": "Millard",
          "error": 0.3443137929313881,
          "sample_id": "pgl"
         },
         {
          "Branch": "PYK_PPC",
          "author": "iML1515",
          "error": 0.3780272992100958,
          "sample_id": "pgl"
         },
         {
          "Branch": "PYK_PPC",
          "author": "ECC2",
          "error": null,
          "sample_id": "pgm"
         },
         {
          "Branch": "PYK_PPC",
          "author": "Exp_ECC2",
          "error": null,
          "sample_id": "pgm"
         },
         {
          "Branch": "PYK_PPC",
          "author": "Exp_iML1515",
          "error": null,
          "sample_id": "pgm"
         },
         {
          "Branch": "PYK_PPC",
          "author": "Khodayari",
          "error": null,
          "sample_id": "pgm"
         },
         {
          "Branch": "PYK_PPC",
          "author": "Kurata",
          "error": null,
          "sample_id": "pgm"
         },
         {
          "Branch": "PYK_PPC",
          "author": "Millard",
          "error": null,
          "sample_id": "pgm"
         },
         {
          "Branch": "PYK_PPC",
          "author": "iML1515",
          "error": null,
          "sample_id": "pgm"
         },
         {
          "Branch": "PYK_PPC",
          "author": "ECC2",
          "error": null,
          "sample_id": "ppc"
         },
         {
          "Branch": "PYK_PPC",
          "author": "Exp_ECC2",
          "error": null,
          "sample_id": "ppc"
         },
         {
          "Branch": "PYK_PPC",
          "author": "Exp_iML1515",
          "error": null,
          "sample_id": "ppc"
         },
         {
          "Branch": "PYK_PPC",
          "author": "Khodayari",
          "error": null,
          "sample_id": "ppc"
         },
         {
          "Branch": "PYK_PPC",
          "author": "Kurata",
          "error": null,
          "sample_id": "ppc"
         },
         {
          "Branch": "PYK_PPC",
          "author": "Millard",
          "error": null,
          "sample_id": "ppc"
         },
         {
          "Branch": "PYK_PPC",
          "author": "iML1515",
          "error": null,
          "sample_id": "ppc"
         },
         {
          "Branch": "PYK_PPC",
          "author": "ECC2",
          "error": 0.625,
          "sample_id": "ppsA"
         },
         {
          "Branch": "PYK_PPC",
          "author": "Exp_ECC2",
          "error": 0.1476282835746694,
          "sample_id": "ppsA"
         },
         {
          "Branch": "PYK_PPC",
          "author": "Exp_iML1515",
          "error": 0.05393957262093374,
          "sample_id": "ppsA"
         },
         {
          "Branch": "PYK_PPC",
          "author": "Khodayari",
          "error": 0.0267027683688007,
          "sample_id": "ppsA"
         },
         {
          "Branch": "PYK_PPC",
          "author": "Kurata",
          "error": 0.5425549074350653,
          "sample_id": "ppsA"
         },
         {
          "Branch": "PYK_PPC",
          "author": "Millard",
          "error": 0.030118615801684068,
          "sample_id": "ppsA"
         },
         {
          "Branch": "PYK_PPC",
          "author": "iML1515",
          "error": 0.625,
          "sample_id": "ppsA"
         },
         {
          "Branch": "PYK_PPC",
          "author": "ECC2",
          "error": null,
          "sample_id": "pts"
         },
         {
          "Branch": "PYK_PPC",
          "author": "Exp_ECC2",
          "error": null,
          "sample_id": "pts"
         },
         {
          "Branch": "PYK_PPC",
          "author": "Exp_iML1515",
          "error": null,
          "sample_id": "pts"
         },
         {
          "Branch": "PYK_PPC",
          "author": "Khodayari",
          "error": null,
          "sample_id": "pts"
         },
         {
          "Branch": "PYK_PPC",
          "author": "Kurata",
          "error": null,
          "sample_id": "pts"
         },
         {
          "Branch": "PYK_PPC",
          "author": "Millard",
          "error": null,
          "sample_id": "pts"
         },
         {
          "Branch": "PYK_PPC",
          "author": "iML1515",
          "error": null,
          "sample_id": "pts"
         },
         {
          "Branch": "PYK_PPC",
          "author": "ECC2",
          "error": 0.9107142857142857,
          "sample_id": "pykA"
         },
         {
          "Branch": "PYK_PPC",
          "author": "Exp_ECC2",
          "error": 0.9107142857142857,
          "sample_id": "pykA"
         },
         {
          "Branch": "PYK_PPC",
          "author": "Exp_iML1515",
          "error": 0.9107142857142857,
          "sample_id": "pykA"
         },
         {
          "Branch": "PYK_PPC",
          "author": "Khodayari",
          "error": 0.29031694131647423,
          "sample_id": "pykA"
         },
         {
          "Branch": "PYK_PPC",
          "author": "Kurata",
          "error": 0.8376198719973559,
          "sample_id": "pykA"
         },
         {
          "Branch": "PYK_PPC",
          "author": "Millard",
          "error": 0.9107142857142857,
          "sample_id": "pykA"
         },
         {
          "Branch": "PYK_PPC",
          "author": "iML1515",
          "error": 0.9107142857142857,
          "sample_id": "pykA"
         },
         {
          "Branch": "PYK_PPC",
          "author": "ECC2",
          "error": 1,
          "sample_id": "pykF"
         },
         {
          "Branch": "PYK_PPC",
          "author": "Exp_ECC2",
          "error": 1,
          "sample_id": "pykF"
         },
         {
          "Branch": "PYK_PPC",
          "author": "Exp_iML1515",
          "error": 1,
          "sample_id": "pykF"
         },
         {
          "Branch": "PYK_PPC",
          "author": "Khodayari",
          "error": 0.4750862861289047,
          "sample_id": "pykF"
         },
         {
          "Branch": "PYK_PPC",
          "author": "Kurata",
          "error": 0.9269055862830702,
          "sample_id": "pykF"
         },
         {
          "Branch": "PYK_PPC",
          "author": "Millard",
          "error": 1,
          "sample_id": "pykF"
         },
         {
          "Branch": "PYK_PPC",
          "author": "iML1515",
          "error": 1,
          "sample_id": "pykF"
         },
         {
          "Branch": "PYK_PPC",
          "author": "ECC2",
          "error": 1,
          "sample_id": "rpe"
         },
         {
          "Branch": "PYK_PPC",
          "author": "Exp_ECC2",
          "error": 0.22737171642532994,
          "sample_id": "rpe"
         },
         {
          "Branch": "PYK_PPC",
          "author": "Exp_iML1515",
          "error": 0.2985751739100875,
          "sample_id": "rpe"
         },
         {
          "Branch": "PYK_PPC",
          "author": "Khodayari",
          "error": 0.3123466759227408,
          "sample_id": "rpe"
         },
         {
          "Branch": "PYK_PPC",
          "author": "Kurata",
          "error": null,
          "sample_id": "rpe"
         },
         {
          "Branch": "PYK_PPC",
          "author": "Millard",
          "error": 0.3133204389707426,
          "sample_id": "rpe"
         },
         {
          "Branch": "PYK_PPC",
          "author": "iML1515",
          "error": 1,
          "sample_id": "rpe"
         },
         {
          "Branch": "PYK_PPC",
          "author": "ECC2",
          "error": null,
          "sample_id": "rpiA"
         },
         {
          "Branch": "PYK_PPC",
          "author": "Exp_ECC2",
          "error": null,
          "sample_id": "rpiA"
         },
         {
          "Branch": "PYK_PPC",
          "author": "Exp_iML1515",
          "error": 0.35134058717878613,
          "sample_id": "rpiA"
         },
         {
          "Branch": "PYK_PPC",
          "author": "Khodayari",
          "error": 3.2482242856203887,
          "sample_id": "rpiA"
         },
         {
          "Branch": "PYK_PPC",
          "author": "Kurata",
          "error": 0.8608316649848482,
          "sample_id": "rpiA"
         },
         {
          "Branch": "PYK_PPC",
          "author": "Millard",
          "error": 0.7860682732548403,
          "sample_id": "rpiA"
         },
         {
          "Branch": "PYK_PPC",
          "author": "iML1515",
          "error": 1,
          "sample_id": "rpiA"
         },
         {
          "Branch": "PYK_PPC",
          "author": "ECC2",
          "error": null,
          "sample_id": "rpiB"
         },
         {
          "Branch": "PYK_PPC",
          "author": "Exp_ECC2",
          "error": null,
          "sample_id": "rpiB"
         },
         {
          "Branch": "PYK_PPC",
          "author": "Exp_iML1515",
          "error": 0.23269651938217595,
          "sample_id": "rpiB"
         },
         {
          "Branch": "PYK_PPC",
          "author": "Khodayari",
          "error": 3.1295802178237784,
          "sample_id": "rpiB"
         },
         {
          "Branch": "PYK_PPC",
          "author": "Kurata",
          "error": 0.7421875971882379,
          "sample_id": "rpiB"
         },
         {
          "Branch": "PYK_PPC",
          "author": "Millard",
          "error": 0.6674242054582302,
          "sample_id": "rpiB"
         },
         {
          "Branch": "PYK_PPC",
          "author": "iML1515",
          "error": 0.8813559322033898,
          "sample_id": "rpiB"
         },
         {
          "Branch": "PYK_PPC",
          "author": "ECC2",
          "error": null,
          "sample_id": "sdhCD"
         },
         {
          "Branch": "PYK_PPC",
          "author": "Exp_ECC2",
          "error": null,
          "sample_id": "sdhCD"
         },
         {
          "Branch": "PYK_PPC",
          "author": "Exp_iML1515",
          "error": null,
          "sample_id": "sdhCD"
         },
         {
          "Branch": "PYK_PPC",
          "author": "Khodayari",
          "error": null,
          "sample_id": "sdhCD"
         },
         {
          "Branch": "PYK_PPC",
          "author": "Kurata",
          "error": null,
          "sample_id": "sdhCD"
         },
         {
          "Branch": "PYK_PPC",
          "author": "Millard",
          "error": null,
          "sample_id": "sdhCD"
         },
         {
          "Branch": "PYK_PPC",
          "author": "iML1515",
          "error": null,
          "sample_id": "sdhCD"
         },
         {
          "Branch": "PYK_PPC",
          "author": "ECC2",
          "error": null,
          "sample_id": "sucA"
         },
         {
          "Branch": "PYK_PPC",
          "author": "Exp_ECC2",
          "error": null,
          "sample_id": "sucA"
         },
         {
          "Branch": "PYK_PPC",
          "author": "Exp_iML1515",
          "error": null,
          "sample_id": "sucA"
         },
         {
          "Branch": "PYK_PPC",
          "author": "Khodayari",
          "error": null,
          "sample_id": "sucA"
         },
         {
          "Branch": "PYK_PPC",
          "author": "Kurata",
          "error": null,
          "sample_id": "sucA"
         },
         {
          "Branch": "PYK_PPC",
          "author": "Millard",
          "error": null,
          "sample_id": "sucA"
         },
         {
          "Branch": "PYK_PPC",
          "author": "iML1515",
          "error": null,
          "sample_id": "sucA"
         },
         {
          "Branch": "PYK_PPC",
          "author": "ECC2",
          "error": null,
          "sample_id": "sucAB"
         },
         {
          "Branch": "PYK_PPC",
          "author": "Exp_ECC2",
          "error": null,
          "sample_id": "sucAB"
         },
         {
          "Branch": "PYK_PPC",
          "author": "Exp_iML1515",
          "error": null,
          "sample_id": "sucAB"
         },
         {
          "Branch": "PYK_PPC",
          "author": "Khodayari",
          "error": null,
          "sample_id": "sucAB"
         },
         {
          "Branch": "PYK_PPC",
          "author": "Kurata",
          "error": null,
          "sample_id": "sucAB"
         },
         {
          "Branch": "PYK_PPC",
          "author": "Millard",
          "error": null,
          "sample_id": "sucAB"
         },
         {
          "Branch": "PYK_PPC",
          "author": "iML1515",
          "error": null,
          "sample_id": "sucAB"
         },
         {
          "Branch": "PYK_PPC",
          "author": "ECC2",
          "error": 0.6610169491525424,
          "sample_id": "talA"
         },
         {
          "Branch": "PYK_PPC",
          "author": "Exp_ECC2",
          "error": 0.111611334422128,
          "sample_id": "talA"
         },
         {
          "Branch": "PYK_PPC",
          "author": "Exp_iML1515",
          "error": 0.017922623468395682,
          "sample_id": "talA"
         },
         {
          "Branch": "PYK_PPC",
          "author": "Khodayari",
          "error": 0.025130769082285398,
          "sample_id": "talA"
         },
         {
          "Branch": "PYK_PPC",
          "author": "Kurata",
          "error": 0.5211085395661577,
          "sample_id": "talA"
         },
         {
          "Branch": "PYK_PPC",
          "author": "Millard",
          "error": null,
          "sample_id": "talA"
         },
         {
          "Branch": "PYK_PPC",
          "author": "iML1515",
          "error": 0.6610169491525424,
          "sample_id": "talA"
         },
         {
          "Branch": "PYK_PPC",
          "author": "ECC2",
          "error": null,
          "sample_id": "talAB"
         },
         {
          "Branch": "PYK_PPC",
          "author": "Exp_ECC2",
          "error": null,
          "sample_id": "talAB"
         },
         {
          "Branch": "PYK_PPC",
          "author": "Exp_iML1515",
          "error": null,
          "sample_id": "talAB"
         },
         {
          "Branch": "PYK_PPC",
          "author": "Khodayari",
          "error": null,
          "sample_id": "talAB"
         },
         {
          "Branch": "PYK_PPC",
          "author": "Kurata",
          "error": null,
          "sample_id": "talAB"
         },
         {
          "Branch": "PYK_PPC",
          "author": "Millard",
          "error": null,
          "sample_id": "talAB"
         },
         {
          "Branch": "PYK_PPC",
          "author": "iML1515",
          "error": null,
          "sample_id": "talAB"
         },
         {
          "Branch": "PYK_PPC",
          "author": "ECC2",
          "error": null,
          "sample_id": "talB"
         },
         {
          "Branch": "PYK_PPC",
          "author": "Exp_ECC2",
          "error": null,
          "sample_id": "talB"
         },
         {
          "Branch": "PYK_PPC",
          "author": "Exp_iML1515",
          "error": null,
          "sample_id": "talB"
         },
         {
          "Branch": "PYK_PPC",
          "author": "Khodayari",
          "error": null,
          "sample_id": "talB"
         },
         {
          "Branch": "PYK_PPC",
          "author": "Kurata",
          "error": 0.532222737954599,
          "sample_id": "talB"
         },
         {
          "Branch": "PYK_PPC",
          "author": "Millard",
          "error": null,
          "sample_id": "talB"
         },
         {
          "Branch": "PYK_PPC",
          "author": "iML1515",
          "error": null,
          "sample_id": "talB"
         },
         {
          "Branch": "PYK_PPC",
          "author": "ECC2",
          "error": 0.7741935483870968,
          "sample_id": "tktA"
         },
         {
          "Branch": "PYK_PPC",
          "author": "Exp_ECC2",
          "error": 0.001565264812426359,
          "sample_id": "tktA"
         },
         {
          "Branch": "PYK_PPC",
          "author": "Exp_iML1515",
          "error": 0.06422376567561128,
          "sample_id": "tktA"
         },
         {
          "Branch": "PYK_PPC",
          "author": "Khodayari",
          "error": 0.08701310026668618,
          "sample_id": "tktA"
         },
         {
          "Branch": "PYK_PPC",
          "author": "Kurata",
          "error": 0.629013786465704,
          "sample_id": "tktA"
         },
         {
          "Branch": "PYK_PPC",
          "author": "Millard",
          "error": 0.2908817599267382,
          "sample_id": "tktA"
         },
         {
          "Branch": "PYK_PPC",
          "author": "iML1515",
          "error": 0.7741935483870968,
          "sample_id": "tktA"
         },
         {
          "Branch": "PYK_PPC",
          "author": "ECC2",
          "error": 0.6557377049180327,
          "sample_id": "tktB"
         },
         {
          "Branch": "PYK_PPC",
          "author": "Exp_ECC2",
          "error": 0.11689057865663766,
          "sample_id": "tktB"
         },
         {
          "Branch": "PYK_PPC",
          "author": "Exp_iML1515",
          "error": 0.05423207779345274,
          "sample_id": "tktB"
         },
         {
          "Branch": "PYK_PPC",
          "author": "Khodayari",
          "error": 0.03144274320237783,
          "sample_id": "tktB"
         },
         {
          "Branch": "PYK_PPC",
          "author": "Kurata",
          "error": 0.51055794299664,
          "sample_id": "tktB"
         },
         {
          "Branch": "PYK_PPC",
          "author": "Millard",
          "error": null,
          "sample_id": "tktB"
         },
         {
          "Branch": "PYK_PPC",
          "author": "iML1515",
          "error": 0.6557377049180327,
          "sample_id": "tktB"
         },
         {
          "Branch": "PYK_PPC",
          "author": "ECC2",
          "error": null,
          "sample_id": "tpi"
         },
         {
          "Branch": "PYK_PPC",
          "author": "Exp_ECC2",
          "error": null,
          "sample_id": "tpi"
         },
         {
          "Branch": "PYK_PPC",
          "author": "Exp_iML1515",
          "error": null,
          "sample_id": "tpi"
         },
         {
          "Branch": "PYK_PPC",
          "author": "Khodayari",
          "error": null,
          "sample_id": "tpi"
         },
         {
          "Branch": "PYK_PPC",
          "author": "Kurata",
          "error": null,
          "sample_id": "tpi"
         },
         {
          "Branch": "PYK_PPC",
          "author": "Millard",
          "error": null,
          "sample_id": "tpi"
         },
         {
          "Branch": "PYK_PPC",
          "author": "iML1515",
          "error": null,
          "sample_id": "tpi"
         },
         {
          "Branch": "PYK_PPC",
          "author": "ECC2",
          "error": 0.4212337947167667,
          "sample_id": "zwf"
         },
         {
          "Branch": "PYK_PPC",
          "author": "Exp_ECC2",
          "error": 0.24394370532601273,
          "sample_id": "zwf"
         },
         {
          "Branch": "PYK_PPC",
          "author": "Exp_iML1515",
          "error": 0.2670301459099531,
          "sample_id": "zwf"
         },
         {
          "Branch": "PYK_PPC",
          "author": "Khodayari",
          "error": 1.5554004861664161,
          "sample_id": "zwf"
         },
         {
          "Branch": "PYK_PPC",
          "author": "Kurata",
          "error": 0.9039942734993526,
          "sample_id": "zwf"
         },
         {
          "Branch": "PYK_PPC",
          "author": "Millard",
          "error": 0.3458153258125012,
          "sample_id": "zwf"
         },
         {
          "Branch": "PYK_PPC",
          "author": "iML1515",
          "error": 0.49871695438246033,
          "sample_id": "zwf"
         },
         {
          "Branch": "TCA_ACE",
          "author": "ECC2",
          "error": 0.8801795987662508,
          "sample_id": "WT"
         },
         {
          "Branch": "TCA_ACE",
          "author": "Exp_ECC2",
          "error": 0.04511210357738982,
          "sample_id": "WT"
         },
         {
          "Branch": "TCA_ACE",
          "author": "Exp_iML1515",
          "error": 0.04511210357738982,
          "sample_id": "WT"
         },
         {
          "Branch": "TCA_ACE",
          "author": "Khodayari",
          "error": 0,
          "sample_id": "WT"
         },
         {
          "Branch": "TCA_ACE",
          "author": "Kurata",
          "error": 0.05685186036755574,
          "sample_id": "WT"
         },
         {
          "Branch": "TCA_ACE",
          "author": "Millard",
          "error": 0.0803048353363277,
          "sample_id": "WT"
         },
         {
          "Branch": "TCA_ACE",
          "author": "iML1515",
          "error": 0.600141688810004,
          "sample_id": "WT"
         },
         {
          "Branch": "TCA_ACE",
          "author": "ECC2",
          "error": null,
          "sample_id": "fbaA"
         },
         {
          "Branch": "TCA_ACE",
          "author": "Exp_ECC2",
          "error": null,
          "sample_id": "fbaA"
         },
         {
          "Branch": "TCA_ACE",
          "author": "Exp_iML1515",
          "error": null,
          "sample_id": "fbaA"
         },
         {
          "Branch": "TCA_ACE",
          "author": "Khodayari",
          "error": null,
          "sample_id": "fbaA"
         },
         {
          "Branch": "TCA_ACE",
          "author": "Kurata",
          "error": null,
          "sample_id": "fbaA"
         },
         {
          "Branch": "TCA_ACE",
          "author": "Millard",
          "error": null,
          "sample_id": "fbaA"
         },
         {
          "Branch": "TCA_ACE",
          "author": "iML1515",
          "error": null,
          "sample_id": "fbaA"
         },
         {
          "Branch": "TCA_ACE",
          "author": "ECC2",
          "error": 0.8109857824486907,
          "sample_id": "fbaB"
         },
         {
          "Branch": "TCA_ACE",
          "author": "Exp_ECC2",
          "error": 0.026292127577724478,
          "sample_id": "fbaB"
         },
         {
          "Branch": "TCA_ACE",
          "author": "Exp_iML1515",
          "error": 0.04511210357739048,
          "sample_id": "fbaB"
         },
         {
          "Branch": "TCA_ACE",
          "author": "Khodayari",
          "error": 0,
          "sample_id": "fbaB"
         },
         {
          "Branch": "TCA_ACE",
          "author": "Kurata",
          "error": 0.056906244478479695,
          "sample_id": "fbaB"
         },
         {
          "Branch": "TCA_ACE",
          "author": "Millard",
          "error": null,
          "sample_id": "fbaB"
         },
         {
          "Branch": "TCA_ACE",
          "author": "iML1515",
          "error": 0.6001416888100037,
          "sample_id": "fbaB"
         },
         {
          "Branch": "TCA_ACE",
          "author": "ECC2",
          "error": 0.8801795987662506,
          "sample_id": "fbp"
         },
         {
          "Branch": "TCA_ACE",
          "author": "Exp_ECC2",
          "error": 0.045112103577389595,
          "sample_id": "fbp"
         },
         {
          "Branch": "TCA_ACE",
          "author": "Exp_iML1515",
          "error": 0.04511210357739004,
          "sample_id": "fbp"
         },
         {
          "Branch": "TCA_ACE",
          "author": "Khodayari",
          "error": 0,
          "sample_id": "fbp"
         },
         {
          "Branch": "TCA_ACE",
          "author": "Kurata",
          "error": 0.05684621684454061,
          "sample_id": "fbp"
         },
         {
          "Branch": "TCA_ACE",
          "author": "Millard",
          "error": 0.08029918185317331,
          "sample_id": "fbp"
         },
         {
          "Branch": "TCA_ACE",
          "author": "iML1515",
          "error": 0.6001416888100036,
          "sample_id": "fbp"
         },
         {
          "Branch": "TCA_ACE",
          "author": "ECC2",
          "error": null,
          "sample_id": "glk"
         },
         {
          "Branch": "TCA_ACE",
          "author": "Exp_ECC2",
          "error": null,
          "sample_id": "glk"
         },
         {
          "Branch": "TCA_ACE",
          "author": "Exp_iML1515",
          "error": null,
          "sample_id": "glk"
         },
         {
          "Branch": "TCA_ACE",
          "author": "Khodayari",
          "error": null,
          "sample_id": "glk"
         },
         {
          "Branch": "TCA_ACE",
          "author": "Kurata",
          "error": null,
          "sample_id": "glk"
         },
         {
          "Branch": "TCA_ACE",
          "author": "Millard",
          "error": null,
          "sample_id": "glk"
         },
         {
          "Branch": "TCA_ACE",
          "author": "iML1515",
          "error": null,
          "sample_id": "glk"
         },
         {
          "Branch": "TCA_ACE",
          "author": "ECC2",
          "error": 0.7774888229738246,
          "sample_id": "gnd"
         },
         {
          "Branch": "TCA_ACE",
          "author": "Exp_ECC2",
          "error": 0.04281005180016306,
          "sample_id": "gnd"
         },
         {
          "Branch": "TCA_ACE",
          "author": "Exp_iML1515",
          "error": 0.04383839718595883,
          "sample_id": "gnd"
         },
         {
          "Branch": "TCA_ACE",
          "author": "Khodayari",
          "error": 0.00202391907017363,
          "sample_id": "gnd"
         },
         {
          "Branch": "TCA_ACE",
          "author": "Kurata",
          "error": 1,
          "sample_id": "gnd"
         },
         {
          "Branch": "TCA_ACE",
          "author": "Millard",
          "error": 0.08066042908674709,
          "sample_id": "gnd"
         },
         {
          "Branch": "TCA_ACE",
          "author": "iML1515",
          "error": 0.5447202241435218,
          "sample_id": "gnd"
         },
         {
          "Branch": "TCA_ACE",
          "author": "ECC2",
          "error": 0.6519804114623453,
          "sample_id": "gpmA"
         },
         {
          "Branch": "TCA_ACE",
          "author": "Exp_ECC2",
          "error": 0.04221981458770285,
          "sample_id": "gpmA"
         },
         {
          "Branch": "TCA_ACE",
          "author": "Exp_iML1515",
          "error": 0.060331111053794295,
          "sample_id": "gpmA"
         },
         {
          "Branch": "TCA_ACE",
          "author": "Khodayari",
          "error": null,
          "sample_id": "gpmA"
         },
         {
          "Branch": "TCA_ACE",
          "author": "Kurata",
          "error": null,
          "sample_id": "gpmA"
         },
         {
          "Branch": "TCA_ACE",
          "author": "Millard",
          "error": null,
          "sample_id": "gpmA"
         },
         {
          "Branch": "TCA_ACE",
          "author": "iML1515",
          "error": 0.5167106792408007,
          "sample_id": "gpmA"
         },
         {
          "Branch": "TCA_ACE",
          "author": "ECC2",
          "error": null,
          "sample_id": "gpmB"
         },
         {
          "Branch": "TCA_ACE",
          "author": "Exp_ECC2",
          "error": null,
          "sample_id": "gpmB"
         },
         {
          "Branch": "TCA_ACE",
          "author": "Exp_iML1515",
          "error": null,
          "sample_id": "gpmB"
         },
         {
          "Branch": "TCA_ACE",
          "author": "Khodayari",
          "error": null,
          "sample_id": "gpmB"
         },
         {
          "Branch": "TCA_ACE",
          "author": "Kurata",
          "error": null,
          "sample_id": "gpmB"
         },
         {
          "Branch": "TCA_ACE",
          "author": "Millard",
          "error": null,
          "sample_id": "gpmB"
         },
         {
          "Branch": "TCA_ACE",
          "author": "iML1515",
          "error": null,
          "sample_id": "gpmB"
         },
         {
          "Branch": "TCA_ACE",
          "author": "ECC2",
          "error": 0.8109857824486907,
          "sample_id": "pfkA"
         },
         {
          "Branch": "TCA_ACE",
          "author": "Exp_ECC2",
          "error": 0.026292127577725144,
          "sample_id": "pfkA"
         },
         {
          "Branch": "TCA_ACE",
          "author": "Exp_iML1515",
          "error": 0.04511210357739004,
          "sample_id": "pfkA"
         },
         {
          "Branch": "TCA_ACE",
          "author": "Khodayari",
          "error": 0,
          "sample_id": "pfkA"
         },
         {
          "Branch": "TCA_ACE",
          "author": "Kurata",
          "error": 0.03307558085692153,
          "sample_id": "pfkA"
         },
         {
          "Branch": "TCA_ACE",
          "author": "Millard",
          "error": null,
          "sample_id": "pfkA"
         },
         {
          "Branch": "TCA_ACE",
          "author": "iML1515",
          "error": 0.6001416888100003,
          "sample_id": "pfkA"
         },
         {
          "Branch": "TCA_ACE",
          "author": "ECC2",
          "error": 0.8109857824486907,
          "sample_id": "pfkB"
         },
         {
          "Branch": "TCA_ACE",
          "author": "Exp_ECC2",
          "error": 0.026292127577725144,
          "sample_id": "pfkB"
         },
         {
          "Branch": "TCA_ACE",
          "author": "Exp_iML1515",
          "error": 0.04511210357739004,
          "sample_id": "pfkB"
         },
         {
          "Branch": "TCA_ACE",
          "author": "Khodayari",
          "error": 0,
          "sample_id": "pfkB"
         },
         {
          "Branch": "TCA_ACE",
          "author": "Kurata",
          "error": 0.03307558085692153,
          "sample_id": "pfkB"
         },
         {
          "Branch": "TCA_ACE",
          "author": "Millard",
          "error": null,
          "sample_id": "pfkB"
         },
         {
          "Branch": "TCA_ACE",
          "author": "iML1515",
          "error": 0.6001416888100003,
          "sample_id": "pfkB"
         },
         {
          "Branch": "TCA_ACE",
          "author": "ECC2",
          "error": 0.880179598766251,
          "sample_id": "pgi"
         },
         {
          "Branch": "TCA_ACE",
          "author": "Exp_ECC2",
          "error": 0.06968923176733832,
          "sample_id": "pgi"
         },
         {
          "Branch": "TCA_ACE",
          "author": "Exp_iML1515",
          "error": 0.04511210357738915,
          "sample_id": "pgi"
         },
         {
          "Branch": "TCA_ACE",
          "author": "Khodayari",
          "error": 0.00420729464273828,
          "sample_id": "pgi"
         },
         {
          "Branch": "TCA_ACE",
          "author": "Kurata",
          "error": 0.8701430141739683,
          "sample_id": "pgi"
         },
         {
          "Branch": "TCA_ACE",
          "author": "Millard",
          "error": 0.08749274436104026,
          "sample_id": "pgi"
         },
         {
          "Branch": "TCA_ACE",
          "author": "iML1515",
          "error": 0.6001416888100007,
          "sample_id": "pgi"
         },
         {
          "Branch": "TCA_ACE",
          "author": "ECC2",
          "error": 0.7895413827092657,
          "sample_id": "pgl"
         },
         {
          "Branch": "TCA_ACE",
          "author": "Exp_ECC2",
          "error": 0.04283438274747997,
          "sample_id": "pgl"
         },
         {
          "Branch": "TCA_ACE",
          "author": "Exp_iML1515",
          "error": 0.04511210357740625,
          "sample_id": "pgl"
         },
         {
          "Branch": "TCA_ACE",
          "author": "Khodayari",
          "error": 0,
          "sample_id": "pgl"
         },
         {
          "Branch": "TCA_ACE",
          "author": "Kurata",
          "error": null,
          "sample_id": "pgl"
         },
         {
          "Branch": "TCA_ACE",
          "author": "Millard",
          "error": 0.08840928403194204,
          "sample_id": "pgl"
         },
         {
          "Branch": "TCA_ACE",
          "author": "iML1515",
          "error": 0.5836466997246713,
          "sample_id": "pgl"
         },
         {
          "Branch": "TCA_ACE",
          "author": "ECC2",
          "error": null,
          "sample_id": "pgm"
         },
         {
          "Branch": "TCA_ACE",
          "author": "Exp_ECC2",
          "error": null,
          "sample_id": "pgm"
         },
         {
          "Branch": "TCA_ACE",
          "author": "Exp_iML1515",
          "error": null,
          "sample_id": "pgm"
         },
         {
          "Branch": "TCA_ACE",
          "author": "Khodayari",
          "error": null,
          "sample_id": "pgm"
         },
         {
          "Branch": "TCA_ACE",
          "author": "Kurata",
          "error": null,
          "sample_id": "pgm"
         },
         {
          "Branch": "TCA_ACE",
          "author": "Millard",
          "error": null,
          "sample_id": "pgm"
         },
         {
          "Branch": "TCA_ACE",
          "author": "iML1515",
          "error": null,
          "sample_id": "pgm"
         },
         {
          "Branch": "TCA_ACE",
          "author": "ECC2",
          "error": null,
          "sample_id": "ppc"
         },
         {
          "Branch": "TCA_ACE",
          "author": "Exp_ECC2",
          "error": null,
          "sample_id": "ppc"
         },
         {
          "Branch": "TCA_ACE",
          "author": "Exp_iML1515",
          "error": null,
          "sample_id": "ppc"
         },
         {
          "Branch": "TCA_ACE",
          "author": "Khodayari",
          "error": null,
          "sample_id": "ppc"
         },
         {
          "Branch": "TCA_ACE",
          "author": "Kurata",
          "error": null,
          "sample_id": "ppc"
         },
         {
          "Branch": "TCA_ACE",
          "author": "Millard",
          "error": null,
          "sample_id": "ppc"
         },
         {
          "Branch": "TCA_ACE",
          "author": "iML1515",
          "error": null,
          "sample_id": "ppc"
         },
         {
          "Branch": "TCA_ACE",
          "author": "ECC2",
          "error": 0.8801795987662507,
          "sample_id": "ppsA"
         },
         {
          "Branch": "TCA_ACE",
          "author": "Exp_ECC2",
          "error": 0.045112103577389595,
          "sample_id": "ppsA"
         },
         {
          "Branch": "TCA_ACE",
          "author": "Exp_iML1515",
          "error": 0.04511210357739004,
          "sample_id": "ppsA"
         },
         {
          "Branch": "TCA_ACE",
          "author": "Khodayari",
          "error": 0,
          "sample_id": "ppsA"
         },
         {
          "Branch": "TCA_ACE",
          "author": "Kurata",
          "error": 0.530993314247057,
          "sample_id": "ppsA"
         },
         {
          "Branch": "TCA_ACE",
          "author": "Millard",
          "error": 0.08030438485773461,
          "sample_id": "ppsA"
         },
         {
          "Branch": "TCA_ACE",
          "author": "iML1515",
          "error": 0.6001416888100054,
          "sample_id": "ppsA"
         },
         {
          "Branch": "TCA_ACE",
          "author": "ECC2",
          "error": null,
          "sample_id": "pts"
         },
         {
          "Branch": "TCA_ACE",
          "author": "Exp_ECC2",
          "error": null,
          "sample_id": "pts"
         },
         {
          "Branch": "TCA_ACE",
          "author": "Exp_iML1515",
          "error": null,
          "sample_id": "pts"
         },
         {
          "Branch": "TCA_ACE",
          "author": "Khodayari",
          "error": null,
          "sample_id": "pts"
         },
         {
          "Branch": "TCA_ACE",
          "author": "Kurata",
          "error": null,
          "sample_id": "pts"
         },
         {
          "Branch": "TCA_ACE",
          "author": "Millard",
          "error": null,
          "sample_id": "pts"
         },
         {
          "Branch": "TCA_ACE",
          "author": "iML1515",
          "error": null,
          "sample_id": "pts"
         },
         {
          "Branch": "TCA_ACE",
          "author": "ECC2",
          "error": 0.8801795987662506,
          "sample_id": "pykA"
         },
         {
          "Branch": "TCA_ACE",
          "author": "Exp_ECC2",
          "error": 0.016070442212671843,
          "sample_id": "pykA"
         },
         {
          "Branch": "TCA_ACE",
          "author": "Exp_iML1515",
          "error": 0.04511210357738982,
          "sample_id": "pykA"
         },
         {
          "Branch": "TCA_ACE",
          "author": "Khodayari",
          "error": 0,
          "sample_id": "pykA"
         },
         {
          "Branch": "TCA_ACE",
          "author": "Kurata",
          "error": 0.0556141974423674,
          "sample_id": "pykA"
         },
         {
          "Branch": "TCA_ACE",
          "author": "Millard",
          "error": 0.08712239444680625,
          "sample_id": "pykA"
         },
         {
          "Branch": "TCA_ACE",
          "author": "iML1515",
          "error": 0.600141688810004,
          "sample_id": "pykA"
         },
         {
          "Branch": "TCA_ACE",
          "author": "ECC2",
          "error": 0.8801795987662506,
          "sample_id": "pykF"
         },
         {
          "Branch": "TCA_ACE",
          "author": "Exp_ECC2",
          "error": 0.016070442212671843,
          "sample_id": "pykF"
         },
         {
          "Branch": "TCA_ACE",
          "author": "Exp_iML1515",
          "error": 0.04511210357738982,
          "sample_id": "pykF"
         },
         {
          "Branch": "TCA_ACE",
          "author": "Khodayari",
          "error": 0,
          "sample_id": "pykF"
         },
         {
          "Branch": "TCA_ACE",
          "author": "Kurata",
          "error": 0.0556141974423674,
          "sample_id": "pykF"
         },
         {
          "Branch": "TCA_ACE",
          "author": "Millard",
          "error": 0.08712239444680625,
          "sample_id": "pykF"
         },
         {
          "Branch": "TCA_ACE",
          "author": "iML1515",
          "error": 0.600141688810004,
          "sample_id": "pykF"
         },
         {
          "Branch": "TCA_ACE",
          "author": "ECC2",
          "error": 0.8132397015270934,
          "sample_id": "rpe"
         },
         {
          "Branch": "TCA_ACE",
          "author": "Exp_ECC2",
          "error": 0.04425472387029106,
          "sample_id": "rpe"
         },
         {
          "Branch": "TCA_ACE",
          "author": "Exp_iML1515",
          "error": 0.04470781930746215,
          "sample_id": "rpe"
         },
         {
          "Branch": "TCA_ACE",
          "author": "Khodayari",
          "error": 0,
          "sample_id": "rpe"
         },
         {
          "Branch": "TCA_ACE",
          "author": "Kurata",
          "error": null,
          "sample_id": "rpe"
         },
         {
          "Branch": "TCA_ACE",
          "author": "Millard",
          "error": 0.0857384966053818,
          "sample_id": "rpe"
         },
         {
          "Branch": "TCA_ACE",
          "author": "iML1515",
          "error": 0.5606552273871253,
          "sample_id": "rpe"
         },
         {
          "Branch": "TCA_ACE",
          "author": "ECC2",
          "error": null,
          "sample_id": "rpiA"
         },
         {
          "Branch": "TCA_ACE",
          "author": "Exp_ECC2",
          "error": null,
          "sample_id": "rpiA"
         },
         {
          "Branch": "TCA_ACE",
          "author": "Exp_iML1515",
          "error": 0.37020846911703753,
          "sample_id": "rpiA"
         },
         {
          "Branch": "TCA_ACE",
          "author": "Khodayari",
          "error": 0.0024017524678443536,
          "sample_id": "rpiA"
         },
         {
          "Branch": "TCA_ACE",
          "author": "Kurata",
          "error": 0.05667002960421108,
          "sample_id": "rpiA"
         },
         {
          "Branch": "TCA_ACE",
          "author": "Millard",
          "error": 0.028793359200244173,
          "sample_id": "rpiA"
         },
         {
          "Branch": "TCA_ACE",
          "author": "iML1515",
          "error": 0.5686505788644935,
          "sample_id": "rpiA"
         },
         {
          "Branch": "TCA_ACE",
          "author": "ECC2",
          "error": null,
          "sample_id": "rpiB"
         },
         {
          "Branch": "TCA_ACE",
          "author": "Exp_ECC2",
          "error": null,
          "sample_id": "rpiB"
         },
         {
          "Branch": "TCA_ACE",
          "author": "Exp_iML1515",
          "error": 0.37020846911703753,
          "sample_id": "rpiB"
         },
         {
          "Branch": "TCA_ACE",
          "author": "Khodayari",
          "error": 0.0024017524678443536,
          "sample_id": "rpiB"
         },
         {
          "Branch": "TCA_ACE",
          "author": "Kurata",
          "error": 0.05667002960421108,
          "sample_id": "rpiB"
         },
         {
          "Branch": "TCA_ACE",
          "author": "Millard",
          "error": 0.028793359200244173,
          "sample_id": "rpiB"
         },
         {
          "Branch": "TCA_ACE",
          "author": "iML1515",
          "error": 0.5686505788644935,
          "sample_id": "rpiB"
         },
         {
          "Branch": "TCA_ACE",
          "author": "ECC2",
          "error": null,
          "sample_id": "sdhCD"
         },
         {
          "Branch": "TCA_ACE",
          "author": "Exp_ECC2",
          "error": null,
          "sample_id": "sdhCD"
         },
         {
          "Branch": "TCA_ACE",
          "author": "Exp_iML1515",
          "error": null,
          "sample_id": "sdhCD"
         },
         {
          "Branch": "TCA_ACE",
          "author": "Khodayari",
          "error": null,
          "sample_id": "sdhCD"
         },
         {
          "Branch": "TCA_ACE",
          "author": "Kurata",
          "error": null,
          "sample_id": "sdhCD"
         },
         {
          "Branch": "TCA_ACE",
          "author": "Millard",
          "error": null,
          "sample_id": "sdhCD"
         },
         {
          "Branch": "TCA_ACE",
          "author": "iML1515",
          "error": null,
          "sample_id": "sdhCD"
         },
         {
          "Branch": "TCA_ACE",
          "author": "ECC2",
          "error": null,
          "sample_id": "sucA"
         },
         {
          "Branch": "TCA_ACE",
          "author": "Exp_ECC2",
          "error": null,
          "sample_id": "sucA"
         },
         {
          "Branch": "TCA_ACE",
          "author": "Exp_iML1515",
          "error": null,
          "sample_id": "sucA"
         },
         {
          "Branch": "TCA_ACE",
          "author": "Khodayari",
          "error": null,
          "sample_id": "sucA"
         },
         {
          "Branch": "TCA_ACE",
          "author": "Kurata",
          "error": null,
          "sample_id": "sucA"
         },
         {
          "Branch": "TCA_ACE",
          "author": "Millard",
          "error": null,
          "sample_id": "sucA"
         },
         {
          "Branch": "TCA_ACE",
          "author": "iML1515",
          "error": null,
          "sample_id": "sucA"
         },
         {
          "Branch": "TCA_ACE",
          "author": "ECC2",
          "error": null,
          "sample_id": "sucAB"
         },
         {
          "Branch": "TCA_ACE",
          "author": "Exp_ECC2",
          "error": null,
          "sample_id": "sucAB"
         },
         {
          "Branch": "TCA_ACE",
          "author": "Exp_iML1515",
          "error": null,
          "sample_id": "sucAB"
         },
         {
          "Branch": "TCA_ACE",
          "author": "Khodayari",
          "error": null,
          "sample_id": "sucAB"
         },
         {
          "Branch": "TCA_ACE",
          "author": "Kurata",
          "error": null,
          "sample_id": "sucAB"
         },
         {
          "Branch": "TCA_ACE",
          "author": "Millard",
          "error": null,
          "sample_id": "sucAB"
         },
         {
          "Branch": "TCA_ACE",
          "author": "iML1515",
          "error": null,
          "sample_id": "sucAB"
         },
         {
          "Branch": "TCA_ACE",
          "author": "ECC2",
          "error": 0.7952757808367575,
          "sample_id": "talA"
         },
         {
          "Branch": "TCA_ACE",
          "author": "Exp_ECC2",
          "error": 0.04353306234806853,
          "sample_id": "talA"
         },
         {
          "Branch": "TCA_ACE",
          "author": "Exp_iML1515",
          "error": 0.0451121035773987,
          "sample_id": "talA"
         },
         {
          "Branch": "TCA_ACE",
          "author": "Khodayari",
          "error": 0,
          "sample_id": "talA"
         },
         {
          "Branch": "TCA_ACE",
          "author": "Kurata",
          "error": 0.05708513708568186,
          "sample_id": "talA"
         },
         {
          "Branch": "TCA_ACE",
          "author": "Millard",
          "error": null,
          "sample_id": "talA"
         },
         {
          "Branch": "TCA_ACE",
          "author": "iML1515",
          "error": 0.600141688810004,
          "sample_id": "talA"
         },
         {
          "Branch": "TCA_ACE",
          "author": "ECC2",
          "error": null,
          "sample_id": "talAB"
         },
         {
          "Branch": "TCA_ACE",
          "author": "Exp_ECC2",
          "error": null,
          "sample_id": "talAB"
         },
         {
          "Branch": "TCA_ACE",
          "author": "Exp_iML1515",
          "error": null,
          "sample_id": "talAB"
         },
         {
          "Branch": "TCA_ACE",
          "author": "Khodayari",
          "error": null,
          "sample_id": "talAB"
         },
         {
          "Branch": "TCA_ACE",
          "author": "Kurata",
          "error": null,
          "sample_id": "talAB"
         },
         {
          "Branch": "TCA_ACE",
          "author": "Millard",
          "error": null,
          "sample_id": "talAB"
         },
         {
          "Branch": "TCA_ACE",
          "author": "iML1515",
          "error": null,
          "sample_id": "talAB"
         },
         {
          "Branch": "TCA_ACE",
          "author": "ECC2",
          "error": null,
          "sample_id": "talB"
         },
         {
          "Branch": "TCA_ACE",
          "author": "Exp_ECC2",
          "error": null,
          "sample_id": "talB"
         },
         {
          "Branch": "TCA_ACE",
          "author": "Exp_iML1515",
          "error": null,
          "sample_id": "talB"
         },
         {
          "Branch": "TCA_ACE",
          "author": "Khodayari",
          "error": null,
          "sample_id": "talB"
         },
         {
          "Branch": "TCA_ACE",
          "author": "Kurata",
          "error": 0.05708513708568186,
          "sample_id": "talB"
         },
         {
          "Branch": "TCA_ACE",
          "author": "Millard",
          "error": null,
          "sample_id": "talB"
         },
         {
          "Branch": "TCA_ACE",
          "author": "iML1515",
          "error": null,
          "sample_id": "talB"
         },
         {
          "Branch": "TCA_ACE",
          "author": "ECC2",
          "error": 0.7952757808367575,
          "sample_id": "tktA"
         },
         {
          "Branch": "TCA_ACE",
          "author": "Exp_ECC2",
          "error": 0.04353306234806853,
          "sample_id": "tktA"
         },
         {
          "Branch": "TCA_ACE",
          "author": "Exp_iML1515",
          "error": 0.04433127000249337,
          "sample_id": "tktA"
         },
         {
          "Branch": "TCA_ACE",
          "author": "Khodayari",
          "error": 0,
          "sample_id": "tktA"
         },
         {
          "Branch": "TCA_ACE",
          "author": "Kurata",
          "error": 0.06025999342504418,
          "sample_id": "tktA"
         },
         {
          "Branch": "TCA_ACE",
          "author": "Millard",
          "error": 0.21389664863710356,
          "sample_id": "tktA"
         },
         {
          "Branch": "TCA_ACE",
          "author": "iML1515",
          "error": 0.5527083747905941,
          "sample_id": "tktA"
         },
         {
          "Branch": "TCA_ACE",
          "author": "ECC2",
          "error": 0.7952757808367575,
          "sample_id": "tktB"
         },
         {
          "Branch": "TCA_ACE",
          "author": "Exp_ECC2",
          "error": 0.04353306234806853,
          "sample_id": "tktB"
         },
         {
          "Branch": "TCA_ACE",
          "author": "Exp_iML1515",
          "error": 0.04433127000249337,
          "sample_id": "tktB"
         },
         {
          "Branch": "TCA_ACE",
          "author": "Khodayari",
          "error": 0,
          "sample_id": "tktB"
         },
         {
          "Branch": "TCA_ACE",
          "author": "Kurata",
          "error": 0.06025999342504418,
          "sample_id": "tktB"
         },
         {
          "Branch": "TCA_ACE",
          "author": "Millard",
          "error": null,
          "sample_id": "tktB"
         },
         {
          "Branch": "TCA_ACE",
          "author": "iML1515",
          "error": 0.5527083747905941,
          "sample_id": "tktB"
         },
         {
          "Branch": "TCA_ACE",
          "author": "ECC2",
          "error": null,
          "sample_id": "tpi"
         },
         {
          "Branch": "TCA_ACE",
          "author": "Exp_ECC2",
          "error": null,
          "sample_id": "tpi"
         },
         {
          "Branch": "TCA_ACE",
          "author": "Exp_iML1515",
          "error": null,
          "sample_id": "tpi"
         },
         {
          "Branch": "TCA_ACE",
          "author": "Khodayari",
          "error": null,
          "sample_id": "tpi"
         },
         {
          "Branch": "TCA_ACE",
          "author": "Kurata",
          "error": null,
          "sample_id": "tpi"
         },
         {
          "Branch": "TCA_ACE",
          "author": "Millard",
          "error": null,
          "sample_id": "tpi"
         },
         {
          "Branch": "TCA_ACE",
          "author": "iML1515",
          "error": null,
          "sample_id": "tpi"
         },
         {
          "Branch": "TCA_ACE",
          "author": "ECC2",
          "error": 0.7895413827092657,
          "sample_id": "zwf"
         },
         {
          "Branch": "TCA_ACE",
          "author": "Exp_ECC2",
          "error": 0.04283438274747997,
          "sample_id": "zwf"
         },
         {
          "Branch": "TCA_ACE",
          "author": "Exp_iML1515",
          "error": 0.045112103577389595,
          "sample_id": "zwf"
         },
         {
          "Branch": "TCA_ACE",
          "author": "Khodayari",
          "error": 0.006129260849961238,
          "sample_id": "zwf"
         },
         {
          "Branch": "TCA_ACE",
          "author": "Kurata",
          "error": 0.04401005485614329,
          "sample_id": "zwf"
         },
         {
          "Branch": "TCA_ACE",
          "author": "Millard",
          "error": 0.07972098068742606,
          "sample_id": "zwf"
         },
         {
          "Branch": "TCA_ACE",
          "author": "iML1515",
          "error": 0.5836466997246751,
          "sample_id": "zwf"
         },
         {
          "Branch": "ICD_ICL",
          "author": "ECC2",
          "error": 0.1964285714285714,
          "sample_id": "WT"
         },
         {
          "Branch": "ICD_ICL",
          "author": "Exp_ECC2",
          "error": 0.01343891249252327,
          "sample_id": "WT"
         },
         {
          "Branch": "ICD_ICL",
          "author": "Exp_iML1515",
          "error": 0.01343891249252327,
          "sample_id": "WT"
         },
         {
          "Branch": "ICD_ICL",
          "author": "Khodayari",
          "error": 0.059101941242404865,
          "sample_id": "WT"
         },
         {
          "Branch": "ICD_ICL",
          "author": "Kurata",
          "error": 0.5845807057417738,
          "sample_id": "WT"
         },
         {
          "Branch": "ICD_ICL",
          "author": "Millard",
          "error": 0.08200336396992292,
          "sample_id": "WT"
         },
         {
          "Branch": "ICD_ICL",
          "author": "iML1515",
          "error": 0.1964285714285714,
          "sample_id": "WT"
         },
         {
          "Branch": "ICD_ICL",
          "author": "ECC2",
          "error": null,
          "sample_id": "fbaA"
         },
         {
          "Branch": "ICD_ICL",
          "author": "Exp_ECC2",
          "error": null,
          "sample_id": "fbaA"
         },
         {
          "Branch": "ICD_ICL",
          "author": "Exp_iML1515",
          "error": null,
          "sample_id": "fbaA"
         },
         {
          "Branch": "ICD_ICL",
          "author": "Khodayari",
          "error": null,
          "sample_id": "fbaA"
         },
         {
          "Branch": "ICD_ICL",
          "author": "Kurata",
          "error": null,
          "sample_id": "fbaA"
         },
         {
          "Branch": "ICD_ICL",
          "author": "Millard",
          "error": null,
          "sample_id": "fbaA"
         },
         {
          "Branch": "ICD_ICL",
          "author": "iML1515",
          "error": null,
          "sample_id": "fbaA"
         },
         {
          "Branch": "ICD_ICL",
          "author": "ECC2",
          "error": 0.2534120599222984,
          "sample_id": "fbaB"
         },
         {
          "Branch": "ICD_ICL",
          "author": "Exp_ECC2",
          "error": 0.04736748392109469,
          "sample_id": "fbaB"
         },
         {
          "Branch": "ICD_ICL",
          "author": "Exp_iML1515",
          "error": 0.04736748392109014,
          "sample_id": "fbaB"
         },
         {
          "Branch": "ICD_ICL",
          "author": "Khodayari",
          "error": 0.019217893451455637,
          "sample_id": "fbaB"
         },
         {
          "Branch": "ICD_ICL",
          "author": "Kurata",
          "error": 0.6187598848441703,
          "sample_id": "fbaB"
         },
         {
          "Branch": "ICD_ICL",
          "author": "Millard",
          "error": null,
          "sample_id": "fbaB"
         },
         {
          "Branch": "ICD_ICL",
          "author": "iML1515",
          "error": 0.16249999999999998,
          "sample_id": "fbaB"
         },
         {
          "Branch": "ICD_ICL",
          "author": "ECC2",
          "error": 0.36585365853658536,
          "sample_id": "fbp"
         },
         {
          "Branch": "ICD_ICL",
          "author": "Exp_ECC2",
          "error": 0.15598617461549047,
          "sample_id": "fbp"
         },
         {
          "Branch": "ICD_ICL",
          "author": "Exp_iML1515",
          "error": 0.15598617461548947,
          "sample_id": "fbp"
         },
         {
          "Branch": "ICD_ICL",
          "author": "Khodayari",
          "error": 0.22863561978330116,
          "sample_id": "fbp"
         },
         {
          "Branch": "ICD_ICL",
          "author": "Kurata",
          "error": 0.41511426071462226,
          "sample_id": "fbp"
         },
         {
          "Branch": "ICD_ICL",
          "author": "Millard",
          "error": 0.08744712857118442,
          "sample_id": "fbp"
         },
         {
          "Branch": "ICD_ICL",
          "author": "iML1515",
          "error": 0.36585365853658536,
          "sample_id": "fbp"
         },
         {
          "Branch": "ICD_ICL",
          "author": "ECC2",
          "error": null,
          "sample_id": "glk"
         },
         {
          "Branch": "ICD_ICL",
          "author": "Exp_ECC2",
          "error": null,
          "sample_id": "glk"
         },
         {
          "Branch": "ICD_ICL",
          "author": "Exp_iML1515",
          "error": null,
          "sample_id": "glk"
         },
         {
          "Branch": "ICD_ICL",
          "author": "Khodayari",
          "error": null,
          "sample_id": "glk"
         },
         {
          "Branch": "ICD_ICL",
          "author": "Kurata",
          "error": null,
          "sample_id": "glk"
         },
         {
          "Branch": "ICD_ICL",
          "author": "Millard",
          "error": null,
          "sample_id": "glk"
         },
         {
          "Branch": "ICD_ICL",
          "author": "iML1515",
          "error": null,
          "sample_id": "glk"
         },
         {
          "Branch": "ICD_ICL",
          "author": "ECC2",
          "error": 0.14678899082568808,
          "sample_id": "gnd"
         },
         {
          "Branch": "ICD_ICL",
          "author": "Exp_ECC2",
          "error": 0.05280869380833053,
          "sample_id": "gnd"
         },
         {
          "Branch": "ICD_ICL",
          "author": "Exp_iML1515",
          "error": 0.05740189513207461,
          "sample_id": "gnd"
         },
         {
          "Branch": "ICD_ICL",
          "author": "Khodayari",
          "error": 0.04986230887815113,
          "sample_id": "gnd"
         },
         {
          "Branch": "ICD_ICL",
          "author": "Kurata",
          "error": null,
          "sample_id": "gnd"
         },
         {
          "Branch": "ICD_ICL",
          "author": "Millard",
          "error": 0.10044311793432581,
          "sample_id": "gnd"
         },
         {
          "Branch": "ICD_ICL",
          "author": "iML1515",
          "error": 0.14678899082568808,
          "sample_id": "gnd"
         },
         {
          "Branch": "ICD_ICL",
          "author": "ECC2",
          "error": 0.6574705525395345,
          "sample_id": "gpmA"
         },
         {
          "Branch": "ICD_ICL",
          "author": "Exp_ECC2",
          "error": 0.1449237361224558,
          "sample_id": "gpmA"
         },
         {
          "Branch": "ICD_ICL",
          "author": "Exp_iML1515",
          "error": 0.12236748392109487,
          "sample_id": "gpmA"
         },
         {
          "Branch": "ICD_ICL",
          "author": "Khodayari",
          "error": null,
          "sample_id": "gpmA"
         },
         {
          "Branch": "ICD_ICL",
          "author": "Kurata",
          "error": null,
          "sample_id": "gpmA"
         },
         {
          "Branch": "ICD_ICL",
          "author": "Millard",
          "error": null,
          "sample_id": "gpmA"
         },
         {
          "Branch": "ICD_ICL",
          "author": "iML1515",
          "error": 0.08750000000000002,
          "sample_id": "gpmA"
         },
         {
          "Branch": "ICD_ICL",
          "author": "ECC2",
          "error": null,
          "sample_id": "gpmB"
         },
         {
          "Branch": "ICD_ICL",
          "author": "Exp_ECC2",
          "error": null,
          "sample_id": "gpmB"
         },
         {
          "Branch": "ICD_ICL",
          "author": "Exp_iML1515",
          "error": null,
          "sample_id": "gpmB"
         },
         {
          "Branch": "ICD_ICL",
          "author": "Khodayari",
          "error": null,
          "sample_id": "gpmB"
         },
         {
          "Branch": "ICD_ICL",
          "author": "Kurata",
          "error": null,
          "sample_id": "gpmB"
         },
         {
          "Branch": "ICD_ICL",
          "author": "Millard",
          "error": null,
          "sample_id": "gpmB"
         },
         {
          "Branch": "ICD_ICL",
          "author": "iML1515",
          "error": null,
          "sample_id": "gpmB"
         },
         {
          "Branch": "ICD_ICL",
          "author": "ECC2",
          "error": 0.317146627823533,
          "sample_id": "pfkA"
         },
         {
          "Branch": "ICD_ICL",
          "author": "Exp_ECC2",
          "error": 0.11110205182232935,
          "sample_id": "pfkA"
         },
         {
          "Branch": "ICD_ICL",
          "author": "Exp_iML1515",
          "error": 0.1111020518223268,
          "sample_id": "pfkA"
         },
         {
          "Branch": "ICD_ICL",
          "author": "Khodayari",
          "error": 0.038153965137970425,
          "sample_id": "pfkA"
         },
         {
          "Branch": "ICD_ICL",
          "author": "Kurata",
          "error": 0.7895935678906734,
          "sample_id": "pfkA"
         },
         {
          "Branch": "ICD_ICL",
          "author": "Millard",
          "error": null,
          "sample_id": "pfkA"
         },
         {
          "Branch": "ICD_ICL",
          "author": "iML1515",
          "error": 0.09876543209876543,
          "sample_id": "pfkA"
         },
         {
          "Branch": "ICD_ICL",
          "author": "ECC2",
          "error": 0.08696469150124575,
          "sample_id": "pfkB"
         },
         {
          "Branch": "ICD_ICL",
          "author": "Exp_ECC2",
          "error": 0.11907988449995788,
          "sample_id": "pfkB"
         },
         {
          "Branch": "ICD_ICL",
          "author": "Exp_iML1515",
          "error": 0.11907988449996043,
          "sample_id": "pfkB"
         },
         {
          "Branch": "ICD_ICL",
          "author": "Khodayari",
          "error": 0.1920279711843168,
          "sample_id": "pfkB"
         },
         {
          "Branch": "ICD_ICL",
          "author": "Kurata",
          "error": 0.5594116315683861,
          "sample_id": "pfkB"
         },
         {
          "Branch": "ICD_ICL",
          "author": "Millard",
          "error": null,
          "sample_id": "pfkB"
         },
         {
          "Branch": "ICD_ICL",
          "author": "iML1515",
          "error": 0.32894736842105265,
          "sample_id": "pfkB"
         },
         {
          "Branch": "ICD_ICL",
          "author": "ECC2",
          "error": 0.3787878787878788,
          "sample_id": "pgi"
         },
         {
          "Branch": "ICD_ICL",
          "author": "Exp_ECC2",
          "error": 0.06203322258461108,
          "sample_id": "pgi"
         },
         {
          "Branch": "ICD_ICL",
          "author": "Exp_iML1515",
          "error": 0.16892039486678434,
          "sample_id": "pgi"
         },
         {
          "Branch": "ICD_ICL",
          "author": "Khodayari",
          "error": 0.1477995241113529,
          "sample_id": "pgi"
         },
         {
          "Branch": "ICD_ICL",
          "author": "Kurata",
          "error": 0.4334302387635298,
          "sample_id": "pgi"
         },
         {
          "Branch": "ICD_ICL",
          "author": "Millard",
          "error": 0.004798498679126517,
          "sample_id": "pgi"
         },
         {
          "Branch": "ICD_ICL",
          "author": "iML1515",
          "error": 0.3787878787878788,
          "sample_id": "pgi"
         },
         {
          "Branch": "ICD_ICL",
          "author": "ECC2",
          "error": 0.17045454545454541,
          "sample_id": "pgl"
         },
         {
          "Branch": "ICD_ICL",
          "author": "Exp_ECC2",
          "error": 0.02925192027355983,
          "sample_id": "pgl"
         },
         {
          "Branch": "ICD_ICL",
          "author": "Exp_iML1515",
          "error": 0.039412938466552916,
          "sample_id": "pgl"
         },
         {
          "Branch": "ICD_ICL",
          "author": "Khodayari",
          "error": 0.02885965476641028,
          "sample_id": "pgl"
         },
         {
          "Branch": "ICD_ICL",
          "author": "Kurata",
          "error": null,
          "sample_id": "pgl"
         },
         {
          "Branch": "ICD_ICL",
          "author": "Millard",
          "error": 0.08937666876226302,
          "sample_id": "pgl"
         },
         {
          "Branch": "ICD_ICL",
          "author": "iML1515",
          "error": 0.17045454545454541,
          "sample_id": "pgl"
         },
         {
          "Branch": "ICD_ICL",
          "author": "ECC2",
          "error": null,
          "sample_id": "pgm"
         },
         {
          "Branch": "ICD_ICL",
          "author": "Exp_ECC2",
          "error": null,
          "sample_id": "pgm"
         },
         {
          "Branch": "ICD_ICL",
          "author": "Exp_iML1515",
          "error": null,
          "sample_id": "pgm"
         },
         {
          "Branch": "ICD_ICL",
          "author": "Khodayari",
          "error": null,
          "sample_id": "pgm"
         },
         {
          "Branch": "ICD_ICL",
          "author": "Kurata",
          "error": null,
          "sample_id": "pgm"
         },
         {
          "Branch": "ICD_ICL",
          "author": "Millard",
          "error": null,
          "sample_id": "pgm"
         },
         {
          "Branch": "ICD_ICL",
          "author": "iML1515",
          "error": null,
          "sample_id": "pgm"
         },
         {
          "Branch": "ICD_ICL",
          "author": "ECC2",
          "error": null,
          "sample_id": "ppc"
         },
         {
          "Branch": "ICD_ICL",
          "author": "Exp_ECC2",
          "error": null,
          "sample_id": "ppc"
         },
         {
          "Branch": "ICD_ICL",
          "author": "Exp_iML1515",
          "error": null,
          "sample_id": "ppc"
         },
         {
          "Branch": "ICD_ICL",
          "author": "Khodayari",
          "error": null,
          "sample_id": "ppc"
         },
         {
          "Branch": "ICD_ICL",
          "author": "Kurata",
          "error": null,
          "sample_id": "ppc"
         },
         {
          "Branch": "ICD_ICL",
          "author": "Millard",
          "error": null,
          "sample_id": "ppc"
         },
         {
          "Branch": "ICD_ICL",
          "author": "iML1515",
          "error": null,
          "sample_id": "ppc"
         },
         {
          "Branch": "ICD_ICL",
          "author": "ECC2",
          "error": 0,
          "sample_id": "ppsA"
         },
         {
          "Branch": "ICD_ICL",
          "author": "Exp_ECC2",
          "error": 0.20986748392109467,
          "sample_id": "ppsA"
         },
         {
          "Branch": "ICD_ICL",
          "author": "Exp_iML1515",
          "error": 0.2098674839210959,
          "sample_id": "ppsA"
         },
         {
          "Branch": "ICD_ICL",
          "author": "Khodayari",
          "error": 0.14132862750435138,
          "sample_id": "ppsA"
         },
         {
          "Branch": "ICD_ICL",
          "author": "Kurata",
          "error": 0.42743210376937946,
          "sample_id": "ppsA"
         },
         {
          "Branch": "ICD_ICL",
          "author": "Millard",
          "error": 0.27842900403841464,
          "sample_id": "ppsA"
         },
         {
          "Branch": "ICD_ICL",
          "author": "iML1515",
          "error": 0,
          "sample_id": "ppsA"
         },
         {
          "Branch": "ICD_ICL",
          "author": "ECC2",
          "error": null,
          "sample_id": "pts"
         },
         {
          "Branch": "ICD_ICL",
          "author": "Exp_ECC2",
          "error": null,
          "sample_id": "pts"
         },
         {
          "Branch": "ICD_ICL",
          "author": "Exp_iML1515",
          "error": null,
          "sample_id": "pts"
         },
         {
          "Branch": "ICD_ICL",
          "author": "Khodayari",
          "error": null,
          "sample_id": "pts"
         },
         {
          "Branch": "ICD_ICL",
          "author": "Kurata",
          "error": null,
          "sample_id": "pts"
         },
         {
          "Branch": "ICD_ICL",
          "author": "Millard",
          "error": null,
          "sample_id": "pts"
         },
         {
          "Branch": "ICD_ICL",
          "author": "iML1515",
          "error": null,
          "sample_id": "pts"
         },
         {
          "Branch": "ICD_ICL",
          "author": "ECC2",
          "error": 0.2168674698795181,
          "sample_id": "pykA"
         },
         {
          "Branch": "ICD_ICL",
          "author": "Exp_ECC2",
          "error": 0.03150389829103406,
          "sample_id": "pykA"
         },
         {
          "Branch": "ICD_ICL",
          "author": "Exp_iML1515",
          "error": 0.006999985958423549,
          "sample_id": "pykA"
         },
         {
          "Branch": "ICD_ICL",
          "author": "Khodayari",
          "error": 0.07136594835878207,
          "sample_id": "pykA"
         },
         {
          "Branch": "ICD_ICL",
          "author": "Kurata",
          "error": 0.5533746489783927,
          "sample_id": "pykA"
         },
         {
          "Branch": "ICD_ICL",
          "author": "Millard",
          "error": 0.010003370446185711,
          "sample_id": "pykA"
         },
         {
          "Branch": "ICD_ICL",
          "author": "iML1515",
          "error": 0.2168674698795181,
          "sample_id": "pykA"
         },
         {
          "Branch": "ICD_ICL",
          "author": "ECC2",
          "error": 0.410958904109589,
          "sample_id": "pykF"
         },
         {
          "Branch": "ICD_ICL",
          "author": "Exp_ECC2",
          "error": 0.22559533252110497,
          "sample_id": "pykF"
         },
         {
          "Branch": "ICD_ICL",
          "author": "Exp_iML1515",
          "error": 0.20109142018849446,
          "sample_id": "pykF"
         },
         {
          "Branch": "ICD_ICL",
          "author": "Khodayari",
          "error": 0.2622800714311566,
          "sample_id": "pykF"
         },
         {
          "Branch": "ICD_ICL",
          "author": "Kurata",
          "error": 0.3592832147483218,
          "sample_id": "pykF"
         },
         {
          "Branch": "ICD_ICL",
          "author": "Millard",
          "error": 0.1840880637838852,
          "sample_id": "pykF"
         },
         {
          "Branch": "ICD_ICL",
          "author": "iML1515",
          "error": 0.410958904109589,
          "sample_id": "pykF"
         },
         {
          "Branch": "ICD_ICL",
          "author": "ECC2",
          "error": 0.15315315315315314,
          "sample_id": "rpe"
         },
         {
          "Branch": "ICD_ICL",
          "author": "Exp_ECC2",
          "error": 0.05289472246467131,
          "sample_id": "rpe"
         },
         {
          "Branch": "ICD_ICL",
          "author": "Exp_iML1515",
          "error": 0.06349228847319976,
          "sample_id": "rpe"
         },
         {
          "Branch": "ICD_ICL",
          "author": "Khodayari",
          "error": 0.0114268092932438,
          "sample_id": "rpe"
         },
         {
          "Branch": "ICD_ICL",
          "author": "Kurata",
          "error": null,
          "sample_id": "rpe"
         },
         {
          "Branch": "ICD_ICL",
          "author": "Millard",
          "error": 0.20300274265669072,
          "sample_id": "rpe"
         },
         {
          "Branch": "ICD_ICL",
          "author": "iML1515",
          "error": 0.15315315315315314,
          "sample_id": "rpe"
         },
         {
          "Branch": "ICD_ICL",
          "author": "ECC2",
          "error": null,
          "sample_id": "rpiA"
         },
         {
          "Branch": "ICD_ICL",
          "author": "Exp_ECC2",
          "error": null,
          "sample_id": "rpiA"
         },
         {
          "Branch": "ICD_ICL",
          "author": "Exp_iML1515",
          "error": 0.13396419927161252,
          "sample_id": "rpiA"
         },
         {
          "Branch": "ICD_ICL",
          "author": "Khodayari",
          "error": 0.09156335648764091,
          "sample_id": "rpiA"
         },
         {
          "Branch": "ICD_ICL",
          "author": "Kurata",
          "error": 0.5776502828442194,
          "sample_id": "rpiA"
         },
         {
          "Branch": "ICD_ICL",
          "author": "Millard",
          "error": 0.202020202020202,
          "sample_id": "rpiA"
         },
         {
          "Branch": "ICD_ICL",
          "author": "iML1515",
          "error": 0.202020202020202,
          "sample_id": "rpiA"
         },
         {
          "Branch": "ICD_ICL",
          "author": "ECC2",
          "error": null,
          "sample_id": "rpiB"
         },
         {
          "Branch": "ICD_ICL",
          "author": "Exp_ECC2",
          "error": null,
          "sample_id": "rpiB"
         },
         {
          "Branch": "ICD_ICL",
          "author": "Exp_iML1515",
          "error": 0.005338492664254568,
          "sample_id": "rpiB"
         },
         {
          "Branch": "ICD_ICL",
          "author": "Khodayari",
          "error": 0.037062350119717036,
          "sample_id": "rpiB"
         },
         {
          "Branch": "ICD_ICL",
          "author": "Kurata",
          "error": 0.7062759894515773,
          "sample_id": "rpiB"
         },
         {
          "Branch": "ICD_ICL",
          "author": "Millard",
          "error": 0.07339449541284404,
          "sample_id": "rpiB"
         },
         {
          "Branch": "ICD_ICL",
          "author": "iML1515",
          "error": 0.07339449541284404,
          "sample_id": "rpiB"
         },
         {
          "Branch": "ICD_ICL",
          "author": "ECC2",
          "error": null,
          "sample_id": "sdhCD"
         },
         {
          "Branch": "ICD_ICL",
          "author": "Exp_ECC2",
          "error": null,
          "sample_id": "sdhCD"
         },
         {
          "Branch": "ICD_ICL",
          "author": "Exp_iML1515",
          "error": null,
          "sample_id": "sdhCD"
         },
         {
          "Branch": "ICD_ICL",
          "author": "Khodayari",
          "error": null,
          "sample_id": "sdhCD"
         },
         {
          "Branch": "ICD_ICL",
          "author": "Kurata",
          "error": null,
          "sample_id": "sdhCD"
         },
         {
          "Branch": "ICD_ICL",
          "author": "Millard",
          "error": null,
          "sample_id": "sdhCD"
         },
         {
          "Branch": "ICD_ICL",
          "author": "iML1515",
          "error": null,
          "sample_id": "sdhCD"
         },
         {
          "Branch": "ICD_ICL",
          "author": "ECC2",
          "error": null,
          "sample_id": "sucA"
         },
         {
          "Branch": "ICD_ICL",
          "author": "Exp_ECC2",
          "error": null,
          "sample_id": "sucA"
         },
         {
          "Branch": "ICD_ICL",
          "author": "Exp_iML1515",
          "error": null,
          "sample_id": "sucA"
         },
         {
          "Branch": "ICD_ICL",
          "author": "Khodayari",
          "error": null,
          "sample_id": "sucA"
         },
         {
          "Branch": "ICD_ICL",
          "author": "Kurata",
          "error": null,
          "sample_id": "sucA"
         },
         {
          "Branch": "ICD_ICL",
          "author": "Millard",
          "error": null,
          "sample_id": "sucA"
         },
         {
          "Branch": "ICD_ICL",
          "author": "iML1515",
          "error": null,
          "sample_id": "sucA"
         },
         {
          "Branch": "ICD_ICL",
          "author": "ECC2",
          "error": null,
          "sample_id": "sucAB"
         },
         {
          "Branch": "ICD_ICL",
          "author": "Exp_ECC2",
          "error": null,
          "sample_id": "sucAB"
         },
         {
          "Branch": "ICD_ICL",
          "author": "Exp_iML1515",
          "error": null,
          "sample_id": "sucAB"
         },
         {
          "Branch": "ICD_ICL",
          "author": "Khodayari",
          "error": null,
          "sample_id": "sucAB"
         },
         {
          "Branch": "ICD_ICL",
          "author": "Kurata",
          "error": null,
          "sample_id": "sucAB"
         },
         {
          "Branch": "ICD_ICL",
          "author": "Millard",
          "error": null,
          "sample_id": "sucAB"
         },
         {
          "Branch": "ICD_ICL",
          "author": "iML1515",
          "error": null,
          "sample_id": "sucAB"
         },
         {
          "Branch": "ICD_ICL",
          "author": "ECC2",
          "error": 0.02352941176470591,
          "sample_id": "talA"
         },
         {
          "Branch": "ICD_ICL",
          "author": "Exp_ECC2",
          "error": 0.17929861235180222,
          "sample_id": "talA"
         },
         {
          "Branch": "ICD_ICL",
          "author": "Exp_iML1515",
          "error": 0.18633807215638742,
          "sample_id": "talA"
         },
         {
          "Branch": "ICD_ICL",
          "author": "Khodayari",
          "error": 0.11946456977756692,
          "sample_id": "talA"
         },
         {
          "Branch": "ICD_ICL",
          "author": "Kurata",
          "error": 0.7591863514218165,
          "sample_id": "talA"
         },
         {
          "Branch": "ICD_ICL",
          "author": "Millard",
          "error": null,
          "sample_id": "talA"
         },
         {
          "Branch": "ICD_ICL",
          "author": "iML1515",
          "error": 0.02352941176470591,
          "sample_id": "talA"
         },
         {
          "Branch": "ICD_ICL",
          "author": "ECC2",
          "error": null,
          "sample_id": "talAB"
         },
         {
          "Branch": "ICD_ICL",
          "author": "Exp_ECC2",
          "error": null,
          "sample_id": "talAB"
         },
         {
          "Branch": "ICD_ICL",
          "author": "Exp_iML1515",
          "error": null,
          "sample_id": "talAB"
         },
         {
          "Branch": "ICD_ICL",
          "author": "Khodayari",
          "error": null,
          "sample_id": "talAB"
         },
         {
          "Branch": "ICD_ICL",
          "author": "Kurata",
          "error": null,
          "sample_id": "talAB"
         },
         {
          "Branch": "ICD_ICL",
          "author": "Millard",
          "error": null,
          "sample_id": "talAB"
         },
         {
          "Branch": "ICD_ICL",
          "author": "iML1515",
          "error": null,
          "sample_id": "talAB"
         },
         {
          "Branch": "ICD_ICL",
          "author": "ECC2",
          "error": null,
          "sample_id": "talB"
         },
         {
          "Branch": "ICD_ICL",
          "author": "Exp_ECC2",
          "error": null,
          "sample_id": "talB"
         },
         {
          "Branch": "ICD_ICL",
          "author": "Exp_iML1515",
          "error": null,
          "sample_id": "talB"
         },
         {
          "Branch": "ICD_ICL",
          "author": "Khodayari",
          "error": null,
          "sample_id": "talB"
         },
         {
          "Branch": "ICD_ICL",
          "author": "Kurata",
          "error": 0.7607377412085004,
          "sample_id": "talB"
         },
         {
          "Branch": "ICD_ICL",
          "author": "Millard",
          "error": null,
          "sample_id": "talB"
         },
         {
          "Branch": "ICD_ICL",
          "author": "iML1515",
          "error": null,
          "sample_id": "talB"
         },
         {
          "Branch": "ICD_ICL",
          "author": "ECC2",
          "error": 0,
          "sample_id": "tktA"
         },
         {
          "Branch": "ICD_ICL",
          "author": "Exp_ECC2",
          "error": 0.20282802411650813,
          "sample_id": "tktA"
         },
         {
          "Branch": "ICD_ICL",
          "author": "Exp_iML1515",
          "error": 0.21572656285858505,
          "sample_id": "tktA"
         },
         {
          "Branch": "ICD_ICL",
          "author": "Khodayari",
          "error": 0.143264907676251,
          "sample_id": "tktA"
         },
         {
          "Branch": "ICD_ICL",
          "author": "Kurata",
          "error": 0.8048282772483839,
          "sample_id": "tktA"
         },
         {
          "Branch": "ICD_ICL",
          "author": "Millard",
          "error": 0.0018387502941829004,
          "sample_id": "tktA"
         },
         {
          "Branch": "ICD_ICL",
          "author": "iML1515",
          "error": 0,
          "sample_id": "tktA"
         },
         {
          "Branch": "ICD_ICL",
          "author": "ECC2",
          "error": 0,
          "sample_id": "tktB"
         },
         {
          "Branch": "ICD_ICL",
          "author": "Exp_ECC2",
          "error": 0.20282802411650813,
          "sample_id": "tktB"
         },
         {
          "Branch": "ICD_ICL",
          "author": "Exp_iML1515",
          "error": 0.21572656285858505,
          "sample_id": "tktB"
         },
         {
          "Branch": "ICD_ICL",
          "author": "Khodayari",
          "error": 0.143264907676251,
          "sample_id": "tktB"
         },
         {
          "Branch": "ICD_ICL",
          "author": "Kurata",
          "error": 0.8048282772483839,
          "sample_id": "tktB"
         },
         {
          "Branch": "ICD_ICL",
          "author": "Millard",
          "error": null,
          "sample_id": "tktB"
         },
         {
          "Branch": "ICD_ICL",
          "author": "iML1515",
          "error": 0,
          "sample_id": "tktB"
         },
         {
          "Branch": "ICD_ICL",
          "author": "ECC2",
          "error": null,
          "sample_id": "tpi"
         },
         {
          "Branch": "ICD_ICL",
          "author": "Exp_ECC2",
          "error": null,
          "sample_id": "tpi"
         },
         {
          "Branch": "ICD_ICL",
          "author": "Exp_iML1515",
          "error": null,
          "sample_id": "tpi"
         },
         {
          "Branch": "ICD_ICL",
          "author": "Khodayari",
          "error": null,
          "sample_id": "tpi"
         },
         {
          "Branch": "ICD_ICL",
          "author": "Kurata",
          "error": null,
          "sample_id": "tpi"
         },
         {
          "Branch": "ICD_ICL",
          "author": "Millard",
          "error": null,
          "sample_id": "tpi"
         },
         {
          "Branch": "ICD_ICL",
          "author": "iML1515",
          "error": null,
          "sample_id": "tpi"
         },
         {
          "Branch": "ICD_ICL",
          "author": "ECC2",
          "error": 0.2621359223300971,
          "sample_id": "zwf"
         },
         {
          "Branch": "ICD_ICL",
          "author": "Exp_ECC2",
          "error": 0.06242945660199184,
          "sample_id": "zwf"
         },
         {
          "Branch": "ICD_ICL",
          "author": "Exp_iML1515",
          "error": 0.052268438409002194,
          "sample_id": "zwf"
         },
         {
          "Branch": "ICD_ICL",
          "author": "Khodayari",
          "error": 0.1588789924331685,
          "sample_id": "zwf"
         },
         {
          "Branch": "ICD_ICL",
          "author": "Kurata",
          "error": 0.3217831461593152,
          "sample_id": "zwf"
         },
         {
          "Branch": "ICD_ICL",
          "author": "Millard",
          "error": 0.001635746328052412,
          "sample_id": "zwf"
         },
         {
          "Branch": "ICD_ICL",
          "author": "iML1515",
          "error": 0.2621359223300971,
          "sample_id": "zwf"
         }
        ]
       },
       "encoding": {
        "color": {
         "field": "author",
         "legend": null,
         "scale": {
          "domain": [
           "Khodayari",
           "Millard",
           "Kurata",
           "iML1515",
           "ECC2",
           "Exp_iML1515",
           "Exp_ECC2",
           "Ishii"
          ],
          "range": [
           "#1b9e77",
           "#d95f02",
           "#7570b3",
           "#e7298a",
           "#66a61e",
           "#e6ab02",
           "#a6761d",
           "#666666"
          ]
         },
         "type": "nominal"
        },
        "column": {
         "field": "author",
         "header": {
          "labelAlign": "right",
          "labelAngle": -90,
          "labelFontSize": 20,
          "labelOrient": "bottom",
          "labelPadding": 3,
          "title": "Branching errors (RMSE)",
          "titleOrient": "top"
         },
         "sort": [
          "Khodayari",
          "Millard",
          "Kurata",
          "iML1515",
          "ECC2",
          "Exp_iML1515",
          "Exp_ECC2",
          "Ishii"
         ],
         "type": "nominal"
        },
        "opacity": {
         "value": 1
        },
        "size": {
         "condition": {
          "selection": "selector016",
          "value": 150
         },
         "value": 60
        },
        "tooltip": [
         {
          "field": "author",
          "type": "nominal"
         },
         {
          "field": "sample_id",
          "type": "nominal"
         },
         {
          "field": "error",
          "type": "quantitative"
         },
         {
          "field": "Branch",
          "type": "nominal"
         }
        ],
        "x": {
         "field": "Branch",
         "scale": {},
         "sort": [
          "EMP_PPP",
          "PYK_PPC",
          "TCA_ACE",
          "ICD_ICL",
          "MDH_ME"
         ],
         "type": "nominal"
        },
        "y": {
         "field": "error",
         "title": "Branching error",
         "type": "quantitative"
        }
       },
       "height": 600,
       "mark": "circle",
       "selection": {
        "selector016": {
         "empty": "none",
         "fields": [
          "sample_id"
         ],
         "type": "single"
        }
       },
       "transform": [
        {
         "filter": "datum.normalized_error !== null"
        }
       ],
       "width": 100
      },
      "image/png": "[encoded data removed]",
      "text/plain": [
       "<VegaLite 3 object>\n",
       "\n",
       "If you see this message, it means the renderer has not been properly enabled\n",
       "for the frontend that you are using. For more information, see\n",
       "https://altair-viz.github.io/user_guide/troubleshooting.html\n"
      ]
     },
     "execution_count": 61,
     "metadata": {},
     "output_type": "execute_result"
    }
   ],
   "source": [
    "source = rmse_diff.to_dataframe().reset_index()\n",
    "\n",
    "author = \"Ishii\"\n",
    "source = source.query(f\"author != '{author}'\")\n",
    "\n",
    "selector = alt.selection_single(empty=\"none\", fields=[\"sample_id\"])\n",
    "opacity = alt.OpacityValue(1.0)\n",
    "\n",
    "size = alt.condition(selector, alt.SizeValue(150), alt.SizeValue(60))\n",
    "\n",
    "domain = [\"Khodayari\", \"Millard\", \"Kurata\", \"iML1515\", \"ECC2\", \"Exp_iML1515\", \"Exp_ECC2\", \"Ishii\"]\n",
    "range_ = [\"#1b9e77\", \"#d95f02\", \"#7570b3\", \"#e7298a\", \"#66a61e\", \"#e6ab02\", \"#a6761d\", \"#666666\"]\n",
    "    \n",
    "stripplot = (\n",
    "    alt.Chart(source, width=100, height=600)\n",
    "    .mark_circle()\n",
    "    .encode(\n",
    "        x=alt.X(\n",
    "            \"Branch:N\",\n",
    "            #title=None,\n",
    "            #axis=alt.Axis(values=[0], ticks=True, grid=False, labels=False),\n",
    "            scale=alt.Scale(),\n",
    "            sort = [\"EMP_PPP\", \"PYK_PPC\", \"TCA_ACE\", \"ICD_ICL\", \"MDH_ME\"]\n",
    "        ),\n",
    "        y=alt.Y(\"error:Q\", title=\"Branching error\"),\n",
    "        color=alt.Color(\"author:N\", legend=None, scale=alt.Scale(domain=domain, range=range_)),\n",
    "        column=alt.Column(\n",
    "            \"author:N\",\n",
    "            header=alt.Header(\n",
    "                labelAngle=-90,\n",
    "                titleOrient=\"top\",\n",
    "                labelOrient=\"bottom\",\n",
    "                labelAlign=\"right\",\n",
    "                labelPadding=3,\n",
    "                labelFontSize=20,\n",
    "                title=\"Branching errors (RMSE)\",\n",
    "            ),\n",
    "            sort=domain,\n",
    "        ),\n",
    "        size=size,\n",
    "        opacity=opacity,\n",
    "        tooltip=[\"author\", \"sample_id\", \"error\", \"Branch\"],\n",
    "    )\n",
    "    .configure_facet(spacing=5)\n",
    "    .configure_view(stroke=None)\n",
    "    .add_selection(selector)\n",
    "    .transform_filter(\"datum.normalized_error !== null\")\n",
    ")\n",
    "\n",
    "stripplot.configure_axis(labelFontSize=20, titleFontSize=20).configure_header(titleFontSize=24)"
   ]
  },
  {
   "cell_type": "markdown",
   "metadata": {},
   "source": [
    "# Export the data"
   ]
  },
  {
   "cell_type": "code",
   "execution_count": 22,
   "metadata": {},
   "outputs": [],
   "source": [
    "data_path = Path('../data')\n",
    "path =  data_path / \"processed\"\n",
    "path.mkdir(parents=True, exist_ok=True)"
   ]
  },
  {
   "cell_type": "code",
   "execution_count": 23,
   "metadata": {},
   "outputs": [],
   "source": [
    "x_rel_error.to_dataframe().reset_index().to_csv(data_path / \"processed\" / \"ko_relative_errors.csv\")"
   ]
  },
  {
   "cell_type": "code",
   "execution_count": 24,
   "metadata": {},
   "outputs": [],
   "source": [
    "x_norm_error.to_dataframe().reset_index().to_csv(data_path / \"processed\" / \"ko_summary_errors.csv\")"
   ]
  },
  {
   "cell_type": "code",
   "execution_count": null,
   "metadata": {},
   "outputs": [],
   "source": []
  }
 ],
 "metadata": {
  "kernelspec": {
   "display_name": "dataml-conda",
   "language": "python",
   "name": "dataml-conda"
  },
  "language_info": {
   "codemirror_mode": {
    "name": "ipython",
    "version": 3
   },
   "file_extension": ".py",
   "mimetype": "text/x-python",
   "name": "python",
   "nbconvert_exporter": "python",
   "pygments_lexer": "ipython3",
   "version": "3.6.10"
  }
 },
 "nbformat": 4,
 "nbformat_minor": 4
}
