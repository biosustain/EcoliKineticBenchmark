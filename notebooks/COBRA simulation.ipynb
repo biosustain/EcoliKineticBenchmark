{
 "cells": [
  {
   "cell_type": "code",
   "execution_count": 25,
   "metadata": {},
   "outputs": [],
   "source": [
    "import numpy as np\n",
    "import pandas as pd\n",
    "from pathlib import Path\n",
    "\n",
    "import cobra\n",
    "from cameo import pfba\n",
    "from cameo.flux_analysis.simulation import room, lmoma\n",
    "\n",
    "import escher"
   ]
  },
  {
   "cell_type": "markdown",
   "metadata": {},
   "source": [
    "## Define helper funcitons and IDs of knocked-out reactions"
   ]
  },
  {
   "cell_type": "code",
   "execution_count": 37,
   "metadata": {},
   "outputs": [],
   "source": [
    "def get_knockouts():\n",
    "    return [\n",
    "        {\"gene\": \"fbaA\", \"id\": \"FBA\"},\n",
    "        {\"gene\": \"fbaB\", \"id\": \"FBA\"},\n",
    "        {\"gene\": \"fbp\", \"id\": \"FBP\"},\n",
    "        {\"gene\": \"gnd\", \"id\": \"GND\"},\n",
    "        {\"gene\": \"pfkA\", \"id\": \"PFK\"},\n",
    "        {\"gene\": \"pfkB\", \"id\": \"PFK\"},\n",
    "        {\"gene\": \"pgi\", \"id\": \"PGI\"},\n",
    "        {\"gene\": \"pgl\", \"id\": \"PGL\"},\n",
    "        {\"gene\": \"ppsA\", \"id\": \"PPS\"},\n",
    "        {\"gene\": \"pts\", \"id\": \"GLCptspp\"},\n",
    "        {\"gene\": \"pykA\", \"id\": \"PYK\"},\n",
    "        {\"gene\": \"pykF\", \"id\": \"PYK\"},\n",
    "        {\"gene\": \"rpe\", \"id\": \"RPE\"},\n",
    "        {\"gene\": \"rpiA\", \"id\": \"RPI\"},\n",
    "        {\"gene\": \"rpiB\", \"id\": \"RPI\"},\n",
    "        {\"gene\": \"sdhCD\", \"id\": \"SUCDi\"},\n",
    "        {\"gene\": \"sucAB\", \"id\": \"AKGDH\"},\n",
    "        {\"gene\": \"talA\", \"id\": \"TALA\"},\n",
    "        {\"gene\": \"tktA\", \"id\": \"TKT1\"},\n",
    "        {\"gene\": \"tktB\", \"id\": \"TKT1\"},\n",
    "        {\"gene\": \"tpi\", \"id\": \"TPI\"},\n",
    "        {\"gene\": \"zwf\", \"id\": \"G6PDH2r\"},\n",
    "        {\"gene\": \"gpmA\", \"id\": \"PGM\"},\n",
    "    ]"
   ]
  },
  {
   "cell_type": "code",
   "execution_count": 3,
   "metadata": {},
   "outputs": [],
   "source": [
    "def show_escher(result):\n",
    "    escher.Builder(\n",
    "    map_name=\"e_coli_core.Core metabolism\",\n",
    "    reaction_data=result.fluxes.to_dict(),\n",
    ").display_in_browser()"
   ]
  },
  {
   "cell_type": "code",
   "execution_count": 4,
   "metadata": {},
   "outputs": [],
   "source": [
    "def prepare_dataframe(\n",
    "    solution, sample=\"WT\", author=\"iML1515\", glucose_flux_id=\"EX_glc__D_e\"\n",
    "):\n",
    "    # Prepare basic DataFrame\n",
    "    df = pd.DataFrame(solution.fluxes)\n",
    "    df.index = df.index.rename(\"ID\")\n",
    "    df = df.reset_index()\n",
    "    df = df.assign(sample_id=sample)\n",
    "\n",
    "    # rename some columns to be more compatible with other simulations\n",
    "    df = df.assign(author=author)\n",
    "    df = df.assign(BiGG_ID=df.ID)\n",
    "    df = df.rename({\"fluxes\": \"flux\"}, axis=1)\n",
    "\n",
    "    # calculate normalized fluxes\n",
    "    glucose_uptake = -1 * df[df[\"ID\"] == glucose_flux_id][\"flux\"].values[0]\n",
    "    df = df.assign(normalized_flux=lambda x: x.flux * 100 / glucose_uptake)\n",
    "    return df"
   ]
  },
  {
   "cell_type": "code",
   "execution_count": 38,
   "metadata": {},
   "outputs": [],
   "source": [
    "def simulate_knockouts(\n",
    "    model,\n",
    "    ref_flux,\n",
    "    knockouts=get_knockouts(),\n",
    "    data_so_far=None,\n",
    "    save_path=None,\n",
    "    author=\"iML1515\",\n",
    "    glucose_flux_id=\"EX_glc__D_e\",\n",
    "):\n",
    "    # ref_flux is result.fluxes, save_path should be path to specific subfolder like COBRA/iML1515,\n",
    "    # prepare dataframe\n",
    "    if data_so_far is not None:\n",
    "        all_data = data_so_far\n",
    "    else:\n",
    "        all_data = pd.DataFrame()\n",
    "\n",
    "    # calculate knockouts\n",
    "    for reaction in knockouts:\n",
    "        with model:\n",
    "            ko_gene = reaction[\"gene\"]\n",
    "            print(f\"Working on gene {ko_gene}\")\n",
    "            try:\n",
    "                # Simulate knockout, it may not grow at all\n",
    "                model.reactions.get_by_id(reaction[\"id\"]).knock_out()\n",
    "                lmoma_result = lmoma(model, reference=ref_flux)\n",
    "                df = prepare_dataframe(\n",
    "                    lmoma_result,\n",
    "                    sample=ko_gene,\n",
    "                    author=author,\n",
    "                    glucose_flux_id=glucose_flux_id,\n",
    "                )\n",
    "                if save_path is not None:\n",
    "                    df.to_csv(save_path / f\"delta_{ko_gene}.csv\")\n",
    "                all_data = pd.concat([all_data, df], sort=False)\n",
    "            except:\n",
    "                print(f\"Unable to grow {ko_gene}!\")\n",
    "      \n",
    "    return all_data"
   ]
  },
  {
   "cell_type": "markdown",
   "metadata": {},
   "source": [
    "### Load experimental data"
   ]
  },
  {
   "cell_type": "code",
   "execution_count": 8,
   "metadata": {},
   "outputs": [],
   "source": [
    "ishii_df = pd.read_csv(\"../data/datasets/ishii2007_tidy.csv\")"
   ]
  },
  {
   "cell_type": "code",
   "execution_count": 9,
   "metadata": {},
   "outputs": [],
   "source": [
    "df = ishii_df\n",
    "# this regexp matches deletions starting with d like dpgi\n",
    "df[\"sample_id\"] = df.Genotype.str.extract(r\"d(\\w+)\")\n",
    "df.loc[df.Genotype == \"WT\", \"sample_id\"] = \"WT\"\n",
    "\n",
    "df = df.assign(author=\"Ishii\")\n",
    "df = df.rename(\n",
    "    {\n",
    "        \"Measurement_ID\": \"BiGG_ID\",\n",
    "        \"Original_Value\": \"normalized_flux\",\n",
    "        \"Value\": \"flux\",\n",
    "        \"Original_ID\": \"ID\",\n",
    "    },\n",
    "    axis=1,\n",
    ")\n",
    "df = df[df['Measurement_Type'] == 'flux']\n",
    "df.loc[df[\"BiGG_ID\"] == \"PYKF\", \"BiGG_ID\"] = \"PYK\"\n",
    "\n",
    "df = df[[\"flux\", \"ID\", \"BiGG_ID\", \"author\", \"sample_id\", \"normalized_flux\"]]\n",
    "exp_results = df"
   ]
  },
  {
   "cell_type": "code",
   "execution_count": 10,
   "metadata": {},
   "outputs": [],
   "source": [
    "exp_data = exp_results.query(\"sample_id == 'WT'\")"
   ]
  },
  {
   "cell_type": "code",
   "execution_count": 11,
   "metadata": {},
   "outputs": [
    {
     "data": {
      "text/html": [
       "<div>\n",
       "<style scoped>\n",
       "    .dataframe tbody tr th:only-of-type {\n",
       "        vertical-align: middle;\n",
       "    }\n",
       "\n",
       "    .dataframe tbody tr th {\n",
       "        vertical-align: top;\n",
       "    }\n",
       "\n",
       "    .dataframe thead th {\n",
       "        text-align: right;\n",
       "    }\n",
       "</style>\n",
       "<table border=\"1\" class=\"dataframe\">\n",
       "  <thead>\n",
       "    <tr style=\"text-align: right;\">\n",
       "      <th></th>\n",
       "      <th>flux</th>\n",
       "      <th>ID</th>\n",
       "      <th>BiGG_ID</th>\n",
       "      <th>author</th>\n",
       "      <th>sample_id</th>\n",
       "      <th>normalized_flux</th>\n",
       "    </tr>\n",
       "  </thead>\n",
       "  <tbody>\n",
       "    <tr>\n",
       "      <th>991</th>\n",
       "      <td>0.0000</td>\n",
       "      <td>ACALD</td>\n",
       "      <td>ACALD</td>\n",
       "      <td>Ishii</td>\n",
       "      <td>WT</td>\n",
       "      <td>0.0</td>\n",
       "    </tr>\n",
       "    <tr>\n",
       "      <th>992</th>\n",
       "      <td>2.4167</td>\n",
       "      <td>ACONTa</td>\n",
       "      <td>ACONTa</td>\n",
       "      <td>Ishii</td>\n",
       "      <td>WT</td>\n",
       "      <td>84.5</td>\n",
       "    </tr>\n",
       "    <tr>\n",
       "      <th>993</th>\n",
       "      <td>1.6874</td>\n",
       "      <td>AKGDH</td>\n",
       "      <td>AKGDH</td>\n",
       "      <td>Ishii</td>\n",
       "      <td>WT</td>\n",
       "      <td>59.0</td>\n",
       "    </tr>\n",
       "    <tr>\n",
       "      <th>994</th>\n",
       "      <td>2.4167</td>\n",
       "      <td>CS</td>\n",
       "      <td>CS</td>\n",
       "      <td>Ishii</td>\n",
       "      <td>WT</td>\n",
       "      <td>84.5</td>\n",
       "    </tr>\n",
       "    <tr>\n",
       "      <th>995</th>\n",
       "      <td>0.2431</td>\n",
       "      <td>EX_akg(e)</td>\n",
       "      <td>EX_akg(e)</td>\n",
       "      <td>Ishii</td>\n",
       "      <td>WT</td>\n",
       "      <td>8.5</td>\n",
       "    </tr>\n",
       "  </tbody>\n",
       "</table>\n",
       "</div>"
      ],
      "text/plain": [
       "       flux         ID    BiGG_ID author sample_id  normalized_flux\n",
       "991  0.0000      ACALD      ACALD  Ishii        WT              0.0\n",
       "992  2.4167     ACONTa     ACONTa  Ishii        WT             84.5\n",
       "993  1.6874      AKGDH      AKGDH  Ishii        WT             59.0\n",
       "994  2.4167         CS         CS  Ishii        WT             84.5\n",
       "995  0.2431  EX_akg(e)  EX_akg(e)  Ishii        WT              8.5"
      ]
     },
     "execution_count": 11,
     "metadata": {},
     "output_type": "execute_result"
    }
   ],
   "source": [
    "exp_data.head()"
   ]
  },
  {
   "cell_type": "markdown",
   "metadata": {},
   "source": [
    "## Dilution simulation"
   ]
  },
  {
   "cell_type": "markdown",
   "metadata": {},
   "source": [
    "### iML1515 model"
   ]
  },
  {
   "cell_type": "code",
   "execution_count": 28,
   "metadata": {},
   "outputs": [],
   "source": [
    "model = cobra.io.load_json_model('../../../DataAnalysis/DataIntegrationProject/models/iML1515.json')"
   ]
  },
  {
   "cell_type": "code",
   "execution_count": 29,
   "metadata": {},
   "outputs": [],
   "source": [
    "# Minimize glucose consumption from medium - equiv to max exchange. \n",
    "model.objective = \"EX_glc__D_e\"\n",
    "model.objective_direction = \"max\"\n",
    "# make glucose uptake to be through Pts\n",
    "model.reactions.GLCptspp.bounds = (0.0,1000)\n",
    "\n",
    "# Simulate D 0.2 h-1\n",
    "model.reactions.BIOMASS_Ec_iML1515_core_75p37M.bounds = (0.19,0.21)\n",
    "# Glucose uptake rate should more or less match Ishii, 2007\n",
    "# GUR for WT @ aerobic glucose = 2.87 mmol/h/gDW\n",
    "model.reactions.GLCptspp.bounds = (2.86,2.88)"
   ]
  },
  {
   "cell_type": "code",
   "execution_count": 7,
   "metadata": {},
   "outputs": [],
   "source": [
    "# calculate and write WT information\n",
    "dilution_result = pfba(model)\n",
    "df = prepare_dataframe(dilution_result, author=\"iML1515\", sample=\"WT\", glucose_flux_id=\"EX_glc__D_e\")\n",
    "\n",
    "df.to_csv('../data/simulation_results/COBRA/WT_02.csv')"
   ]
  },
  {
   "cell_type": "code",
   "execution_count": null,
   "metadata": {},
   "outputs": [],
   "source": [
    "res = simulate_knockouts(model = model, ref_flux=dilution_result.fluxes, data_so_far=df, author=\"iML1515\", glucose_flux_id=\"EX_glc__D_e\")\n",
    "res.to_csv(\"../data/simulation_results/COBRA/iML1515/knockouts_all.csv\")"
   ]
  },
  {
   "cell_type": "markdown",
   "metadata": {},
   "source": [
    "## Constrain iML1515 with experimental flux data"
   ]
  },
  {
   "cell_type": "code",
   "execution_count": 35,
   "metadata": {},
   "outputs": [],
   "source": [
    "common_fluxes = set(dilution_result.fluxes.index).intersection(set(exp_data.BiGG_ID.unique()))\n",
    "common_fluxes.remove(\"RPI\")"
   ]
  },
  {
   "cell_type": "code",
   "execution_count": 39,
   "metadata": {},
   "outputs": [],
   "source": [
    "df = exp_data.query(\"BiGG_ID in @common_fluxes\")\n",
    "exp_model = model.copy()\n",
    "\n",
    "for row in df.itertuples():\n",
    "        r = exp_model.reactions.get_by_id(row.BiGG_ID)\n",
    "        r.bounds = (row.flux - 0.1, row.flux + 0.1)"
   ]
  },
  {
   "cell_type": "code",
   "execution_count": 40,
   "metadata": {},
   "outputs": [],
   "source": [
    "# Calculate WT\n",
    "exp_dilution_result = pfba(exp_model)\n",
    "df = prepare_dataframe(exp_dilution_result, sample=\"WT\", author=\"Exp_iML1515\", glucose_flux_id=\"EX_glc__D_e\" )\n",
    "df.to_csv(\"../data/simulation_results/COBRA/Exp_iML1515/WT_02.csv\")"
   ]
  },
  {
   "cell_type": "code",
   "execution_count": 42,
   "metadata": {},
   "outputs": [
    {
     "name": "stdout",
     "output_type": "stream",
     "text": [
      "Working on gene fbaA\n",
      "Working on gene fbaB\n",
      "Working on gene fbp\n",
      "Working on gene gnd\n",
      "Working on gene pfkA\n",
      "Working on gene pfkB\n",
      "Working on gene pgi\n",
      "Working on gene pgl\n",
      "Working on gene ppsA\n",
      "Working on gene pts\n",
      "Working on gene pykA\n",
      "Working on gene pykF\n",
      "Working on gene rpe\n",
      "Working on gene rpiA\n",
      "Working on gene rpiB\n",
      "Working on gene sdhCD\n",
      "Working on gene sucAB\n",
      "Working on gene talA\n",
      "Working on gene tktA\n",
      "Working on gene tktB\n",
      "Working on gene tpi\n",
      "Working on gene zwf\n",
      "Working on gene gpmA\n"
     ]
    }
   ],
   "source": [
    "res = simulate_knockouts(model = model, ref_flux=exp_dilution_result.fluxes, data_so_far=df, author=\"Exp_iML1515\", glucose_flux_id=\"EX_glc__D_e\")\n",
    "res.to_csv(\"../data/simulation_results/COBRA/Exp_iML1515/knockouts_all.csv\")"
   ]
  },
  {
   "cell_type": "markdown",
   "metadata": {},
   "source": [
    "## Make calculations for the e_coli_core model"
   ]
  },
  {
   "cell_type": "code",
   "execution_count": 43,
   "metadata": {},
   "outputs": [],
   "source": [
    "model = cobra.io.load_json_model('../../../DataAnalysis/DataIntegrationProject/models/e_coli_core.json')"
   ]
  },
  {
   "cell_type": "code",
   "execution_count": 44,
   "metadata": {},
   "outputs": [],
   "source": [
    "model.objective = \"EX_glc__D_e\"\n",
    "model.objective_direction = \"max\"\n",
    "\n",
    "# Simulate D 0.2 h-1\n",
    "model.reactions.BIOMASS_Ecoli_core_w_GAM.bounds = (0.19,0.21)\n",
    "# Glucose uptake rate should more or less match Ishii, 2007\n",
    "# GUR for WT @ aerobic glucose = 2.87 mmol/h/gDW\n",
    "model.reactions.GLCpts.bounds = (2.86,2.88)\n",
    "\n",
    "dilution_result = pfba(model)\n",
    "#all_data = pd.DataFrame()"
   ]
  },
  {
   "cell_type": "code",
   "execution_count": 45,
   "metadata": {},
   "outputs": [],
   "source": [
    "# write WT information\n",
    "df = prepare_dataframe(dilution_result, author=\"Ec_core\", sample=\"WT\", glucose_flux_id=\"EX_glc__D_e\")\n",
    "\n",
    "df.to_csv('../data/simulation_results/COBRA/core_model/WT_02.csv')"
   ]
  },
  {
   "cell_type": "code",
   "execution_count": 46,
   "metadata": {},
   "outputs": [
    {
     "name": "stdout",
     "output_type": "stream",
     "text": [
      "Working on gene fbaA\n",
      "Working on gene fbaB\n",
      "Working on gene fbp\n",
      "Working on gene gnd\n",
      "Working on gene pfkA\n",
      "Working on gene pfkB\n",
      "Working on gene pgi\n",
      "Working on gene pgl\n",
      "Working on gene ppsA\n",
      "Working on gene pts\n",
      "Unable to grow pts!\n",
      "Working on gene pykA\n",
      "Working on gene pykF\n",
      "Working on gene rpe\n",
      "Working on gene rpiA\n",
      "Unable to grow rpiA!\n",
      "Working on gene rpiB\n",
      "Unable to grow rpiB!\n",
      "Working on gene sdhCD\n",
      "Working on gene sucAB\n",
      "Working on gene talA\n",
      "Working on gene tktA\n",
      "Working on gene tktB\n",
      "Working on gene tpi\n",
      "Working on gene zwf\n",
      "Working on gene gpmA\n",
      "Unable to grow gpmA!\n"
     ]
    }
   ],
   "source": [
    "res = simulate_knockouts(model = model, ref_flux=dilution_result.fluxes, author=\"Ec_core\", data_so_far=df)\n",
    "res.to_csv(\"../data/simulation_results/COBRA/core_model/knockouts_all.csv\")"
   ]
  },
  {
   "cell_type": "markdown",
   "metadata": {},
   "source": [
    "## Make calculations for the EColiCore2 model"
   ]
  },
  {
   "cell_type": "code",
   "execution_count": 47,
   "metadata": {},
   "outputs": [
    {
     "name": "stderr",
     "output_type": "stream",
     "text": [
      "Adding exchange reaction EX_Biomass for boundary metabolite: Biomass\n",
      "Adding exchange reaction EX_4CRSOL_ex for boundary metabolite: 4CRSOL_ex\n",
      "Adding exchange reaction EX_5DRIB_ex for boundary metabolite: 5DRIB_ex\n",
      "Adding exchange reaction EX_ac_ex for boundary metabolite: ac_ex\n",
      "Adding exchange reaction EX_adp_c for boundary metabolite: adp_c\n",
      "Adding exchange reaction EX_AMOB_ex for boundary metabolite: AMOB_ex\n",
      "Adding exchange reaction EX_ca2_ex for boundary metabolite: ca2_ex\n",
      "Adding exchange reaction EX_cl_ex for boundary metabolite: cl_ex\n",
      "Adding exchange reaction EX_co2_ex for boundary metabolite: co2_ex\n",
      "Adding exchange reaction EX_coa_c for boundary metabolite: coa_c\n",
      "Adding exchange reaction EX_cobalt2_ex for boundary metabolite: cobalt2_ex\n",
      "Adding exchange reaction EX_cu2_ex for boundary metabolite: cu2_ex\n",
      "Adding exchange reaction EX_etoh_ex for boundary metabolite: etoh_ex\n",
      "Adding exchange reaction EX_fe2_ex for boundary metabolite: fe2_ex\n",
      "Adding exchange reaction EX_fe3_ex for boundary metabolite: fe3_ex\n",
      "Adding exchange reaction EX_foex for boundary metabolite: foex\n",
      "Adding exchange reaction EX_glc__D_ex for boundary metabolite: glc__D_ex\n",
      "Adding exchange reaction EX_glyc_ex for boundary metabolite: glyc_ex\n",
      "Adding exchange reaction EX_h_ex for boundary metabolite: h_ex\n",
      "Adding exchange reaction EX_h2_ex for boundary metabolite: h2_ex\n",
      "Adding exchange reaction EX_h2o_ex for boundary metabolite: h2o_ex\n",
      "Adding exchange reaction EX_k_ex for boundary metabolite: k_ex\n",
      "Adding exchange reaction EX_lac_ex for boundary metabolite: lac_ex\n",
      "Adding exchange reaction EX_meoh_ex for boundary metabolite: meoh_ex\n",
      "Adding exchange reaction EX_mg2_ex for boundary metabolite: mg2_ex\n",
      "Adding exchange reaction EX_mn2_ex for boundary metabolite: mn2_ex\n",
      "Adding exchange reaction EX_mobd_ex for boundary metabolite: mobd_ex\n",
      "Adding exchange reaction EX_mqn8_c for boundary metabolite: mqn8_c\n",
      "Adding exchange reaction EX_MTHTHF_ex for boundary metabolite: MTHTHF_ex\n",
      "Adding exchange reaction EX_nad_c for boundary metabolite: nad_c\n",
      "Adding exchange reaction EX_nadp_c for boundary metabolite: nadp_c\n",
      "Adding exchange reaction EX_nh4_ex for boundary metabolite: nh4_ex\n",
      "Adding exchange reaction EX_ni2_ex for boundary metabolite: ni2_ex\n",
      "Adding exchange reaction EX_o2_ex for boundary metabolite: o2_ex\n",
      "Adding exchange reaction EX_pi_c for boundary metabolite: pi_c\n",
      "Adding exchange reaction EX_pi_ex for boundary metabolite: pi_ex\n",
      "Adding exchange reaction EX_q8_c for boundary metabolite: q8_c\n",
      "Adding exchange reaction EX_so4_ex for boundary metabolite: so4_ex\n",
      "Adding exchange reaction EX_succ_ex for boundary metabolite: succ_ex\n",
      "Adding exchange reaction EX_zn2_ex for boundary metabolite: zn2_ex\n"
     ]
    }
   ],
   "source": [
    "model = cobra.io.read_sbml_model('../../../DataAnalysis/DataIntegrationProject/models/EColiCore2_compressed_bigg_names.sbml')"
   ]
  },
  {
   "cell_type": "code",
   "execution_count": 48,
   "metadata": {},
   "outputs": [],
   "source": [
    "# Minimize glucose consumption from medium - equiv to max exchange. \n",
    "model.objective = \"EX_glc__D_ex\"\n",
    "model.objective_direction = \"max\"\n",
    "\n",
    "# Simulate D 0.2 h-1\n",
    "model.reactions.Growth.bounds = (0.19,0.21)\n",
    "# Glucose uptake rate should more or less match Ishii, 2007\n",
    "# GUR for WT @ aerobic glucose = 2.87 mmol/h/gDW\n",
    "model.reactions.GLCptspp.bounds = (2.86,2.88)\n",
    "\n",
    "dilution_result = pfba(model)\n",
    "#all_data = pd.DataFrame()"
   ]
  },
  {
   "cell_type": "code",
   "execution_count": 50,
   "metadata": {},
   "outputs": [],
   "source": [
    "df = prepare_dataframe(dilution_result, author=\"ECC2\", glucose_flux_id=\"EX_glc__D_ex\")\n",
    "df.to_csv('../data/simulation_results/COBRA/ECC2/WT_02.csv')"
   ]
  },
  {
   "cell_type": "code",
   "execution_count": 51,
   "metadata": {},
   "outputs": [
    {
     "name": "stdout",
     "output_type": "stream",
     "text": [
      "Working on gene fbaA\n",
      "Working on gene fbaB\n",
      "Working on gene fbp\n",
      "Working on gene gnd\n",
      "Working on gene pfkA\n",
      "Working on gene pfkB\n",
      "Working on gene pgi\n",
      "Working on gene pgl\n",
      "Working on gene ppsA\n",
      "Working on gene pts\n",
      "Working on gene pykA\n",
      "Working on gene pykF\n",
      "Working on gene rpe\n",
      "Working on gene rpiA\n",
      "Unable to grow rpiA!\n",
      "Working on gene rpiB\n",
      "Unable to grow rpiB!\n",
      "Working on gene sdhCD\n",
      "Working on gene sucAB\n",
      "Working on gene talA\n",
      "Working on gene tktA\n",
      "Working on gene tktB\n",
      "Working on gene tpi\n",
      "Working on gene zwf\n",
      "Working on gene gpmA\n"
     ]
    }
   ],
   "source": [
    "res = simulate_knockouts(model = model, ref_flux=dilution_result.fluxes, data_so_far=df, author=\"ECC2\", glucose_flux_id=\"EX_glc__D_ex\")\n",
    "res.to_csv(\"../data/simulation_results/COBRA/ECC2/knockouts_all.csv\")"
   ]
  },
  {
   "cell_type": "markdown",
   "metadata": {},
   "source": [
    "## Constrain WT model by experimentally measured fluxes"
   ]
  },
  {
   "cell_type": "markdown",
   "metadata": {},
   "source": [
    "### Identify which fluxes could be constrainted"
   ]
  },
  {
   "cell_type": "code",
   "execution_count": 52,
   "metadata": {},
   "outputs": [],
   "source": [
    "common_fluxes = set(dilution_result.fluxes.index).intersection(set(exp_data.BiGG_ID.unique()))\n",
    "common_fluxes.remove(\"RPI\")"
   ]
  },
  {
   "cell_type": "code",
   "execution_count": 53,
   "metadata": {},
   "outputs": [
    {
     "data": {
      "text/plain": [
       "{'ACALD',\n",
       " 'ACONTa',\n",
       " 'AKGDH',\n",
       " 'CS',\n",
       " 'EDA',\n",
       " 'FBA',\n",
       " 'FUM',\n",
       " 'G6PDH2r',\n",
       " 'GAPD',\n",
       " 'GLCptspp',\n",
       " 'GND',\n",
       " 'ICDHyr',\n",
       " 'ICL',\n",
       " 'LDH_D',\n",
       " 'MALS',\n",
       " 'MDH',\n",
       " 'ME1',\n",
       " 'PDH',\n",
       " 'PGI',\n",
       " 'PGM',\n",
       " 'PPC',\n",
       " 'PTAr',\n",
       " 'PYK',\n",
       " 'RPE',\n",
       " 'SUCDi',\n",
       " 'TALA',\n",
       " 'TKT1',\n",
       " 'TKT2',\n",
       " 'TPI'}"
      ]
     },
     "execution_count": 53,
     "metadata": {},
     "output_type": "execute_result"
    }
   ],
   "source": [
    "common_fluxes"
   ]
  },
  {
   "cell_type": "code",
   "execution_count": 54,
   "metadata": {},
   "outputs": [
    {
     "name": "stdout",
     "output_type": "stream",
     "text": [
      "Setting bounds for reaction ACALD\n",
      "Setting bounds for reaction ACONTa\n",
      "Setting bounds for reaction AKGDH\n",
      "Setting bounds for reaction CS\n",
      "Setting bounds for reaction FBA\n",
      "Setting bounds for reaction FUM\n",
      "Setting bounds for reaction G6PDH2r\n",
      "Setting bounds for reaction GAPD\n",
      "Setting bounds for reaction GLCptspp\n",
      "Setting bounds for reaction GND\n",
      "Setting bounds for reaction ICDHyr\n",
      "Setting bounds for reaction ICL\n",
      "Setting bounds for reaction LDH_D\n",
      "Setting bounds for reaction MALS\n",
      "Setting bounds for reaction MDH\n",
      "Setting bounds for reaction ME1\n",
      "Setting bounds for reaction PDH\n",
      "Setting bounds for reaction PGI\n",
      "Setting bounds for reaction PGM\n",
      "Setting bounds for reaction PPC\n",
      "Setting bounds for reaction PTAr\n",
      "Setting bounds for reaction PYK\n",
      "Setting bounds for reaction RPE\n",
      "Setting bounds for reaction SUCDi\n",
      "Setting bounds for reaction TALA\n",
      "Setting bounds for reaction TKT1\n",
      "Setting bounds for reaction TKT2\n",
      "Setting bounds for reaction TPI\n",
      "Setting bounds for reaction EDA\n"
     ]
    }
   ],
   "source": [
    "df = exp_data.query(\"BiGG_ID in @common_fluxes\")\n",
    "exp_model = model.copy()\n",
    "\n",
    "for row in df.itertuples():\n",
    "        print(f\"Setting bounds for reaction {row.BiGG_ID}\")\n",
    "        r = exp_model.reactions.get_by_id(row.BiGG_ID)\n",
    "        r.bounds = (row.flux - 0.1, row.flux + 0.1)"
   ]
  },
  {
   "cell_type": "code",
   "execution_count": 55,
   "metadata": {},
   "outputs": [],
   "source": [
    "# Calculate WT\n",
    "exp_dilution_result = pfba(exp_model)\n",
    "df = prepare_dataframe(exp_dilution_result, sample=\"WT\", author=\"Exp_ECC2\", glucose_flux_id=\"EX_glc__D_ex\" )\n",
    "df.to_csv(\"../data/simulation_results/COBRA/Exp_ECC2/WT_02.csv\")"
   ]
  },
  {
   "cell_type": "code",
   "execution_count": 56,
   "metadata": {},
   "outputs": [
    {
     "name": "stdout",
     "output_type": "stream",
     "text": [
      "Working on gene fbaA\n",
      "Working on gene fbaB\n",
      "Working on gene fbp\n",
      "Working on gene gnd\n",
      "Working on gene pfkA\n",
      "Working on gene pfkB\n",
      "Working on gene pgi\n",
      "Working on gene pgl\n",
      "Working on gene ppsA\n",
      "Working on gene pts\n",
      "Working on gene pykA\n",
      "Working on gene pykF\n",
      "Working on gene rpe\n",
      "Working on gene rpiA\n",
      "Unable to grow rpiA!\n",
      "Working on gene rpiB\n",
      "Unable to grow rpiB!\n",
      "Working on gene sdhCD\n",
      "Working on gene sucAB\n",
      "Working on gene talA\n",
      "Working on gene tktA\n",
      "Working on gene tktB\n",
      "Working on gene tpi\n",
      "Working on gene zwf\n",
      "Working on gene gpmA\n"
     ]
    }
   ],
   "source": [
    "res = simulate_knockouts(model = model, ref_flux=exp_dilution_result.fluxes, data_so_far=df, author=\"Exp_ECC2\", glucose_flux_id=\"EX_glc__D_ex\")\n",
    "res.to_csv(\"../data/simulation_results/COBRA/Exp_ECC2/knockouts_all.csv\")"
   ]
  },
  {
   "cell_type": "code",
   "execution_count": null,
   "metadata": {},
   "outputs": [],
   "source": []
  }
 ],
 "metadata": {
  "kernelspec": {
   "display_name": "cameo-conda",
   "language": "python",
   "name": "cameo-conda"
  },
  "language_info": {
   "codemirror_mode": {
    "name": "ipython",
    "version": 3
   },
   "file_extension": ".py",
   "mimetype": "text/x-python",
   "name": "python",
   "nbconvert_exporter": "python",
   "pygments_lexer": "ipython3",
   "version": "3.6.6"
  }
 },
 "nbformat": 4,
 "nbformat_minor": 2
}
